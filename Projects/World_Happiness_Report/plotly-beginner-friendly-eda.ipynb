{
 "cells": [
  {
   "cell_type": "markdown",
   "id": "conventional-kinase",
   "metadata": {
    "execution": {
     "iopub.execute_input": "2021-07-21T07:40:52.722769Z",
     "iopub.status.busy": "2021-07-21T07:40:52.722074Z",
     "iopub.status.idle": "2021-07-21T07:40:52.736467Z",
     "shell.execute_reply": "2021-07-21T07:40:52.735169Z",
     "shell.execute_reply.started": "2021-07-21T07:40:52.722602Z"
    },
    "papermill": {
     "duration": 0.042665,
     "end_time": "2021-07-21T09:31:19.155942",
     "exception": false,
     "start_time": "2021-07-21T09:31:19.113277",
     "status": "completed"
    },
    "tags": []
   },
   "source": [
    "- Recently I got a lot of feedback from my dear friends who just change or about the change their career towards to Data Analysis/ Data Science and Machine Learning areas about the lack of material between beginning the analysis journey and the advanced techniques.\n",
    "\n",
    "- They are looking for detailed but at the same time beginner friendly, not so much complicated (with different regression, normalization techniques, etc.) explained Explanatory Data Analysis examples, which show them how to start and most importantly how to read the descriptive statistics and graphs.\n",
    "\n",
    "- After getting these feedbacks, I have decided to make some kind of series of EDA’s from different datasets, without making so complicated for the people at their first steps of DS/ML journey.\n",
    "\n"
   ]
  },
  {
   "cell_type": "markdown",
   "id": "rubber-timeline",
   "metadata": {
    "papermill": {
     "duration": 0.041632,
     "end_time": "2021-07-21T09:31:19.239277",
     "exception": false,
     "start_time": "2021-07-21T09:31:19.197645",
     "status": "completed"
    },
    "tags": []
   },
   "source": [
    "**This notebook is part of the 9 Beginner Friendly EDAs. If these EDAs would be helpful to anyone, I would be more than happy.**\n",
    "\n"
   ]
  },
  {
   "cell_type": "markdown",
   "id": "valid-opposition",
   "metadata": {
    "papermill": {
     "duration": 0.041136,
     "end_time": "2021-07-21T09:31:19.321778",
     "exception": false,
     "start_time": "2021-07-21T09:31:19.280642",
     "status": "completed"
    },
    "tags": []
   },
   "source": [
    "#### **INTRO**"
   ]
  },
  {
   "cell_type": "markdown",
   "id": "american-arcade",
   "metadata": {
    "_cell_guid": "b1076dfc-b9ad-4769-8c92-a6c4dae69d19",
    "_kg_hide-input": false,
    "_uuid": "8f2839f25d086af736a60e9eeb907d3b93b6e0e5",
    "execution": {
     "iopub.execute_input": "2021-07-04T05:36:47.007826Z",
     "iopub.status.busy": "2021-07-04T05:36:47.007387Z",
     "iopub.status.idle": "2021-07-04T05:36:47.015492Z",
     "shell.execute_reply": "2021-07-04T05:36:47.014371Z",
     "shell.execute_reply.started": "2021-07-04T05:36:47.007727Z"
    },
    "papermill": {
     "duration": 0.041193,
     "end_time": "2021-07-21T09:31:19.404052",
     "exception": false,
     "start_time": "2021-07-21T09:31:19.362859",
     "status": "completed"
    },
    "tags": []
   },
   "source": [
    "In this Exploratory Data Analysis (EDA), \n",
    "\n",
    "- Descriptive statistics of the 2021 dataset\n",
    "- Correlation among the variables\n",
    "- Happines Score distribution over the regions\n",
    "- Descriptive statistics of 2021 dataset for Central and Eastern Europe region\n",
    "- Happiness Score's trend in 2021 and the previous years at the Central and Eastern Europe will be discussed.\n"
   ]
  },
  {
   "cell_type": "markdown",
   "id": "statewide-quantum",
   "metadata": {
    "papermill": {
     "duration": 0.041084,
     "end_time": "2021-07-21T09:31:19.487359",
     "exception": false,
     "start_time": "2021-07-21T09:31:19.446275",
     "status": "completed"
    },
    "tags": []
   },
   "source": [
    "- First thing first, lets' import the related libraries for further analysis"
   ]
  },
  {
   "cell_type": "code",
   "execution_count": 1,
   "id": "blond-application",
   "metadata": {
    "_kg_hide-input": true,
    "execution": {
     "iopub.execute_input": "2021-07-21T09:31:19.584437Z",
     "iopub.status.busy": "2021-07-21T09:31:19.583653Z",
     "iopub.status.idle": "2021-07-21T09:31:23.094508Z",
     "shell.execute_reply": "2021-07-21T09:31:23.093825Z",
     "shell.execute_reply.started": "2021-07-17T11:35:47.612404Z"
    },
    "papermill": {
     "duration": 3.565838,
     "end_time": "2021-07-21T09:31:23.094681",
     "exception": false,
     "start_time": "2021-07-21T09:31:19.528843",
     "status": "completed"
    },
    "tags": []
   },
   "outputs": [],
   "source": [
    "import pandas as pd\n",
    "import numpy as np\n",
    "\n",
    "import matplotlib.pyplot as plt \n",
    "import seaborn as sns \n",
    "import matplotlib as mpl\n",
    "\n",
    "\n",
    "\n",
    "import plotly \n",
    "import plotly.express as px\n",
    "import plotly.graph_objs as go\n",
    "import plotly.offline as py\n",
    "from plotly.offline import iplot\n",
    "from plotly.subplots import make_subplots\n",
    "import plotly.figure_factory as ff"
   ]
  },
  {
   "cell_type": "markdown",
   "id": "terminal-flavor",
   "metadata": {
    "papermill": {
     "duration": 0.042858,
     "end_time": "2021-07-21T09:31:23.179143",
     "exception": false,
     "start_time": "2021-07-21T09:31:23.136285",
     "status": "completed"
    },
    "tags": []
   },
   "source": [
    "World Happiness Report 2021 and World Happines Report (which includes data before 2021) will be used in this Exploratory Data Analysis (EDA) "
   ]
  },
  {
   "cell_type": "code",
   "execution_count": 2,
   "id": "careful-chemistry",
   "metadata": {
    "_kg_hide-input": true,
    "execution": {
     "iopub.execute_input": "2021-07-21T09:31:23.267372Z",
     "iopub.status.busy": "2021-07-21T09:31:23.266588Z",
     "iopub.status.idle": "2021-07-21T09:31:23.302106Z",
     "shell.execute_reply": "2021-07-21T09:31:23.301501Z",
     "shell.execute_reply.started": "2021-07-17T11:35:50.945242Z"
    },
    "papermill": {
     "duration": 0.081804,
     "end_time": "2021-07-21T09:31:23.302256",
     "exception": false,
     "start_time": "2021-07-21T09:31:23.220452",
     "status": "completed"
    },
    "tags": []
   },
   "outputs": [],
   "source": [
    "df_2021 = pd.read_csv('../input/world-happiness-report-2021/world-happiness-report-2021.csv')\n",
    "df_past = pd.read_csv(\"../input/world-happiness-report-2021/world-happiness-report.csv\")"
   ]
  },
  {
   "cell_type": "code",
   "execution_count": 3,
   "id": "initial-arabic",
   "metadata": {
    "_kg_hide-input": true,
    "execution": {
     "iopub.execute_input": "2021-07-21T09:31:23.396584Z",
     "iopub.status.busy": "2021-07-21T09:31:23.395748Z",
     "iopub.status.idle": "2021-07-21T09:31:23.429711Z",
     "shell.execute_reply": "2021-07-21T09:31:23.430193Z",
     "shell.execute_reply.started": "2021-07-17T11:35:50.98294Z"
    },
    "papermill": {
     "duration": 0.08652,
     "end_time": "2021-07-21T09:31:23.430369",
     "exception": false,
     "start_time": "2021-07-21T09:31:23.343849",
     "status": "completed"
    },
    "tags": []
   },
   "outputs": [
    {
     "data": {
      "text/html": [
       "<div>\n",
       "<style scoped>\n",
       "    .dataframe tbody tr th:only-of-type {\n",
       "        vertical-align: middle;\n",
       "    }\n",
       "\n",
       "    .dataframe tbody tr th {\n",
       "        vertical-align: top;\n",
       "    }\n",
       "\n",
       "    .dataframe thead th {\n",
       "        text-align: right;\n",
       "    }\n",
       "</style>\n",
       "<table border=\"1\" class=\"dataframe\">\n",
       "  <thead>\n",
       "    <tr style=\"text-align: right;\">\n",
       "      <th></th>\n",
       "      <th>Country name</th>\n",
       "      <th>Regional indicator</th>\n",
       "      <th>Ladder score</th>\n",
       "      <th>Standard error of ladder score</th>\n",
       "      <th>upperwhisker</th>\n",
       "      <th>lowerwhisker</th>\n",
       "      <th>Logged GDP per capita</th>\n",
       "      <th>Social support</th>\n",
       "      <th>Healthy life expectancy</th>\n",
       "      <th>Freedom to make life choices</th>\n",
       "      <th>Generosity</th>\n",
       "      <th>Perceptions of corruption</th>\n",
       "      <th>Ladder score in Dystopia</th>\n",
       "      <th>Explained by: Log GDP per capita</th>\n",
       "      <th>Explained by: Social support</th>\n",
       "      <th>Explained by: Healthy life expectancy</th>\n",
       "      <th>Explained by: Freedom to make life choices</th>\n",
       "      <th>Explained by: Generosity</th>\n",
       "      <th>Explained by: Perceptions of corruption</th>\n",
       "      <th>Dystopia + residual</th>\n",
       "    </tr>\n",
       "  </thead>\n",
       "  <tbody>\n",
       "    <tr>\n",
       "      <th>0</th>\n",
       "      <td>Finland</td>\n",
       "      <td>Western Europe</td>\n",
       "      <td>7.842</td>\n",
       "      <td>0.032</td>\n",
       "      <td>7.904</td>\n",
       "      <td>7.780</td>\n",
       "      <td>10.775</td>\n",
       "      <td>0.954</td>\n",
       "      <td>72.0</td>\n",
       "      <td>0.949</td>\n",
       "      <td>-0.098</td>\n",
       "      <td>0.186</td>\n",
       "      <td>2.43</td>\n",
       "      <td>1.446</td>\n",
       "      <td>1.106</td>\n",
       "      <td>0.741</td>\n",
       "      <td>0.691</td>\n",
       "      <td>0.124</td>\n",
       "      <td>0.481</td>\n",
       "      <td>3.253</td>\n",
       "    </tr>\n",
       "    <tr>\n",
       "      <th>1</th>\n",
       "      <td>Denmark</td>\n",
       "      <td>Western Europe</td>\n",
       "      <td>7.620</td>\n",
       "      <td>0.035</td>\n",
       "      <td>7.687</td>\n",
       "      <td>7.552</td>\n",
       "      <td>10.933</td>\n",
       "      <td>0.954</td>\n",
       "      <td>72.7</td>\n",
       "      <td>0.946</td>\n",
       "      <td>0.030</td>\n",
       "      <td>0.179</td>\n",
       "      <td>2.43</td>\n",
       "      <td>1.502</td>\n",
       "      <td>1.108</td>\n",
       "      <td>0.763</td>\n",
       "      <td>0.686</td>\n",
       "      <td>0.208</td>\n",
       "      <td>0.485</td>\n",
       "      <td>2.868</td>\n",
       "    </tr>\n",
       "    <tr>\n",
       "      <th>2</th>\n",
       "      <td>Switzerland</td>\n",
       "      <td>Western Europe</td>\n",
       "      <td>7.571</td>\n",
       "      <td>0.036</td>\n",
       "      <td>7.643</td>\n",
       "      <td>7.500</td>\n",
       "      <td>11.117</td>\n",
       "      <td>0.942</td>\n",
       "      <td>74.4</td>\n",
       "      <td>0.919</td>\n",
       "      <td>0.025</td>\n",
       "      <td>0.292</td>\n",
       "      <td>2.43</td>\n",
       "      <td>1.566</td>\n",
       "      <td>1.079</td>\n",
       "      <td>0.816</td>\n",
       "      <td>0.653</td>\n",
       "      <td>0.204</td>\n",
       "      <td>0.413</td>\n",
       "      <td>2.839</td>\n",
       "    </tr>\n",
       "    <tr>\n",
       "      <th>3</th>\n",
       "      <td>Iceland</td>\n",
       "      <td>Western Europe</td>\n",
       "      <td>7.554</td>\n",
       "      <td>0.059</td>\n",
       "      <td>7.670</td>\n",
       "      <td>7.438</td>\n",
       "      <td>10.878</td>\n",
       "      <td>0.983</td>\n",
       "      <td>73.0</td>\n",
       "      <td>0.955</td>\n",
       "      <td>0.160</td>\n",
       "      <td>0.673</td>\n",
       "      <td>2.43</td>\n",
       "      <td>1.482</td>\n",
       "      <td>1.172</td>\n",
       "      <td>0.772</td>\n",
       "      <td>0.698</td>\n",
       "      <td>0.293</td>\n",
       "      <td>0.170</td>\n",
       "      <td>2.967</td>\n",
       "    </tr>\n",
       "    <tr>\n",
       "      <th>4</th>\n",
       "      <td>Netherlands</td>\n",
       "      <td>Western Europe</td>\n",
       "      <td>7.464</td>\n",
       "      <td>0.027</td>\n",
       "      <td>7.518</td>\n",
       "      <td>7.410</td>\n",
       "      <td>10.932</td>\n",
       "      <td>0.942</td>\n",
       "      <td>72.4</td>\n",
       "      <td>0.913</td>\n",
       "      <td>0.175</td>\n",
       "      <td>0.338</td>\n",
       "      <td>2.43</td>\n",
       "      <td>1.501</td>\n",
       "      <td>1.079</td>\n",
       "      <td>0.753</td>\n",
       "      <td>0.647</td>\n",
       "      <td>0.302</td>\n",
       "      <td>0.384</td>\n",
       "      <td>2.798</td>\n",
       "    </tr>\n",
       "  </tbody>\n",
       "</table>\n",
       "</div>"
      ],
      "text/plain": [
       "  Country name Regional indicator  Ladder score  \\\n",
       "0      Finland     Western Europe         7.842   \n",
       "1      Denmark     Western Europe         7.620   \n",
       "2  Switzerland     Western Europe         7.571   \n",
       "3      Iceland     Western Europe         7.554   \n",
       "4  Netherlands     Western Europe         7.464   \n",
       "\n",
       "   Standard error of ladder score  upperwhisker  lowerwhisker  \\\n",
       "0                           0.032         7.904         7.780   \n",
       "1                           0.035         7.687         7.552   \n",
       "2                           0.036         7.643         7.500   \n",
       "3                           0.059         7.670         7.438   \n",
       "4                           0.027         7.518         7.410   \n",
       "\n",
       "   Logged GDP per capita  Social support  Healthy life expectancy  \\\n",
       "0                 10.775           0.954                     72.0   \n",
       "1                 10.933           0.954                     72.7   \n",
       "2                 11.117           0.942                     74.4   \n",
       "3                 10.878           0.983                     73.0   \n",
       "4                 10.932           0.942                     72.4   \n",
       "\n",
       "   Freedom to make life choices  Generosity  Perceptions of corruption  \\\n",
       "0                         0.949      -0.098                      0.186   \n",
       "1                         0.946       0.030                      0.179   \n",
       "2                         0.919       0.025                      0.292   \n",
       "3                         0.955       0.160                      0.673   \n",
       "4                         0.913       0.175                      0.338   \n",
       "\n",
       "   Ladder score in Dystopia  Explained by: Log GDP per capita  \\\n",
       "0                      2.43                             1.446   \n",
       "1                      2.43                             1.502   \n",
       "2                      2.43                             1.566   \n",
       "3                      2.43                             1.482   \n",
       "4                      2.43                             1.501   \n",
       "\n",
       "   Explained by: Social support  Explained by: Healthy life expectancy  \\\n",
       "0                         1.106                                  0.741   \n",
       "1                         1.108                                  0.763   \n",
       "2                         1.079                                  0.816   \n",
       "3                         1.172                                  0.772   \n",
       "4                         1.079                                  0.753   \n",
       "\n",
       "   Explained by: Freedom to make life choices  Explained by: Generosity  \\\n",
       "0                                       0.691                     0.124   \n",
       "1                                       0.686                     0.208   \n",
       "2                                       0.653                     0.204   \n",
       "3                                       0.698                     0.293   \n",
       "4                                       0.647                     0.302   \n",
       "\n",
       "   Explained by: Perceptions of corruption  Dystopia + residual  \n",
       "0                                    0.481                3.253  \n",
       "1                                    0.485                2.868  \n",
       "2                                    0.413                2.839  \n",
       "3                                    0.170                2.967  \n",
       "4                                    0.384                2.798  "
      ]
     },
     "execution_count": 3,
     "metadata": {},
     "output_type": "execute_result"
    }
   ],
   "source": [
    "df_2021.head()"
   ]
  },
  {
   "cell_type": "code",
   "execution_count": 4,
   "id": "perfect-foster",
   "metadata": {
    "_kg_hide-input": true,
    "execution": {
     "iopub.execute_input": "2021-07-21T09:31:23.521294Z",
     "iopub.status.busy": "2021-07-21T09:31:23.520411Z",
     "iopub.status.idle": "2021-07-21T09:31:23.525214Z",
     "shell.execute_reply": "2021-07-21T09:31:23.524573Z",
     "shell.execute_reply.started": "2021-07-17T11:35:51.025569Z"
    },
    "jupyter": {
     "source_hidden": true
    },
    "papermill": {
     "duration": 0.052303,
     "end_time": "2021-07-21T09:31:23.525361",
     "exception": false,
     "start_time": "2021-07-21T09:31:23.473058",
     "status": "completed"
    },
    "tags": []
   },
   "outputs": [
    {
     "data": {
      "text/plain": [
       "(149, 20)"
      ]
     },
     "execution_count": 4,
     "metadata": {},
     "output_type": "execute_result"
    }
   ],
   "source": [
    "df_2021.shape"
   ]
  },
  {
   "cell_type": "code",
   "execution_count": 5,
   "id": "settled-friendly",
   "metadata": {
    "_kg_hide-input": true,
    "execution": {
     "iopub.execute_input": "2021-07-21T09:31:23.628163Z",
     "iopub.status.busy": "2021-07-21T09:31:23.627170Z",
     "iopub.status.idle": "2021-07-21T09:31:23.631551Z",
     "shell.execute_reply": "2021-07-21T09:31:23.631070Z",
     "shell.execute_reply.started": "2021-07-17T11:35:51.032294Z"
    },
    "papermill": {
     "duration": 0.064062,
     "end_time": "2021-07-21T09:31:23.631698",
     "exception": false,
     "start_time": "2021-07-21T09:31:23.567636",
     "status": "completed"
    },
    "tags": []
   },
   "outputs": [
    {
     "data": {
      "text/html": [
       "<div>\n",
       "<style scoped>\n",
       "    .dataframe tbody tr th:only-of-type {\n",
       "        vertical-align: middle;\n",
       "    }\n",
       "\n",
       "    .dataframe tbody tr th {\n",
       "        vertical-align: top;\n",
       "    }\n",
       "\n",
       "    .dataframe thead th {\n",
       "        text-align: right;\n",
       "    }\n",
       "</style>\n",
       "<table border=\"1\" class=\"dataframe\">\n",
       "  <thead>\n",
       "    <tr style=\"text-align: right;\">\n",
       "      <th></th>\n",
       "      <th>Country name</th>\n",
       "      <th>year</th>\n",
       "      <th>Life Ladder</th>\n",
       "      <th>Log GDP per capita</th>\n",
       "      <th>Social support</th>\n",
       "      <th>Healthy life expectancy at birth</th>\n",
       "      <th>Freedom to make life choices</th>\n",
       "      <th>Generosity</th>\n",
       "      <th>Perceptions of corruption</th>\n",
       "      <th>Positive affect</th>\n",
       "      <th>Negative affect</th>\n",
       "    </tr>\n",
       "  </thead>\n",
       "  <tbody>\n",
       "    <tr>\n",
       "      <th>0</th>\n",
       "      <td>Afghanistan</td>\n",
       "      <td>2008</td>\n",
       "      <td>3.724</td>\n",
       "      <td>7.370</td>\n",
       "      <td>0.451</td>\n",
       "      <td>50.80</td>\n",
       "      <td>0.718</td>\n",
       "      <td>0.168</td>\n",
       "      <td>0.882</td>\n",
       "      <td>0.518</td>\n",
       "      <td>0.258</td>\n",
       "    </tr>\n",
       "    <tr>\n",
       "      <th>1</th>\n",
       "      <td>Afghanistan</td>\n",
       "      <td>2009</td>\n",
       "      <td>4.402</td>\n",
       "      <td>7.540</td>\n",
       "      <td>0.552</td>\n",
       "      <td>51.20</td>\n",
       "      <td>0.679</td>\n",
       "      <td>0.190</td>\n",
       "      <td>0.850</td>\n",
       "      <td>0.584</td>\n",
       "      <td>0.237</td>\n",
       "    </tr>\n",
       "    <tr>\n",
       "      <th>2</th>\n",
       "      <td>Afghanistan</td>\n",
       "      <td>2010</td>\n",
       "      <td>4.758</td>\n",
       "      <td>7.647</td>\n",
       "      <td>0.539</td>\n",
       "      <td>51.60</td>\n",
       "      <td>0.600</td>\n",
       "      <td>0.121</td>\n",
       "      <td>0.707</td>\n",
       "      <td>0.618</td>\n",
       "      <td>0.275</td>\n",
       "    </tr>\n",
       "    <tr>\n",
       "      <th>3</th>\n",
       "      <td>Afghanistan</td>\n",
       "      <td>2011</td>\n",
       "      <td>3.832</td>\n",
       "      <td>7.620</td>\n",
       "      <td>0.521</td>\n",
       "      <td>51.92</td>\n",
       "      <td>0.496</td>\n",
       "      <td>0.162</td>\n",
       "      <td>0.731</td>\n",
       "      <td>0.611</td>\n",
       "      <td>0.267</td>\n",
       "    </tr>\n",
       "    <tr>\n",
       "      <th>4</th>\n",
       "      <td>Afghanistan</td>\n",
       "      <td>2012</td>\n",
       "      <td>3.783</td>\n",
       "      <td>7.705</td>\n",
       "      <td>0.521</td>\n",
       "      <td>52.24</td>\n",
       "      <td>0.531</td>\n",
       "      <td>0.236</td>\n",
       "      <td>0.776</td>\n",
       "      <td>0.710</td>\n",
       "      <td>0.268</td>\n",
       "    </tr>\n",
       "  </tbody>\n",
       "</table>\n",
       "</div>"
      ],
      "text/plain": [
       "  Country name  year  Life Ladder  Log GDP per capita  Social support  \\\n",
       "0  Afghanistan  2008        3.724               7.370           0.451   \n",
       "1  Afghanistan  2009        4.402               7.540           0.552   \n",
       "2  Afghanistan  2010        4.758               7.647           0.539   \n",
       "3  Afghanistan  2011        3.832               7.620           0.521   \n",
       "4  Afghanistan  2012        3.783               7.705           0.521   \n",
       "\n",
       "   Healthy life expectancy at birth  Freedom to make life choices  Generosity  \\\n",
       "0                             50.80                         0.718       0.168   \n",
       "1                             51.20                         0.679       0.190   \n",
       "2                             51.60                         0.600       0.121   \n",
       "3                             51.92                         0.496       0.162   \n",
       "4                             52.24                         0.531       0.236   \n",
       "\n",
       "   Perceptions of corruption  Positive affect  Negative affect  \n",
       "0                      0.882            0.518            0.258  \n",
       "1                      0.850            0.584            0.237  \n",
       "2                      0.707            0.618            0.275  \n",
       "3                      0.731            0.611            0.267  \n",
       "4                      0.776            0.710            0.268  "
      ]
     },
     "execution_count": 5,
     "metadata": {},
     "output_type": "execute_result"
    }
   ],
   "source": [
    "df_past.head()"
   ]
  },
  {
   "cell_type": "code",
   "execution_count": 6,
   "id": "constitutional-television",
   "metadata": {
    "_kg_hide-input": true,
    "execution": {
     "iopub.execute_input": "2021-07-21T09:31:23.722354Z",
     "iopub.status.busy": "2021-07-21T09:31:23.721456Z",
     "iopub.status.idle": "2021-07-21T09:31:23.725160Z",
     "shell.execute_reply": "2021-07-21T09:31:23.725644Z",
     "shell.execute_reply.started": "2021-07-17T11:35:51.05458Z"
    },
    "jupyter": {
     "source_hidden": true
    },
    "papermill": {
     "duration": 0.051471,
     "end_time": "2021-07-21T09:31:23.725827",
     "exception": false,
     "start_time": "2021-07-21T09:31:23.674356",
     "status": "completed"
    },
    "tags": []
   },
   "outputs": [
    {
     "data": {
      "text/plain": [
       "(1949, 11)"
      ]
     },
     "execution_count": 6,
     "metadata": {},
     "output_type": "execute_result"
    }
   ],
   "source": [
    "df_past.shape"
   ]
  },
  {
   "cell_type": "markdown",
   "id": "touched-nurse",
   "metadata": {
    "papermill": {
     "duration": 0.043943,
     "end_time": "2021-07-21T09:31:23.812883",
     "exception": false,
     "start_time": "2021-07-21T09:31:23.768940",
     "status": "completed"
    },
    "tags": []
   },
   "source": [
    "- For the sake of the further analysis we will rename the column names in the old dataset."
   ]
  },
  {
   "cell_type": "code",
   "execution_count": 7,
   "id": "altered-discretion",
   "metadata": {
    "_kg_hide-input": true,
    "execution": {
     "iopub.execute_input": "2021-07-21T09:31:23.907653Z",
     "iopub.status.busy": "2021-07-21T09:31:23.906979Z",
     "iopub.status.idle": "2021-07-21T09:31:23.909628Z",
     "shell.execute_reply": "2021-07-21T09:31:23.910083Z",
     "shell.execute_reply.started": "2021-07-17T11:35:51.065532Z"
    },
    "jupyter": {
     "source_hidden": true
    },
    "papermill": {
     "duration": 0.054207,
     "end_time": "2021-07-21T09:31:23.910270",
     "exception": false,
     "start_time": "2021-07-21T09:31:23.856063",
     "status": "completed"
    },
    "tags": []
   },
   "outputs": [],
   "source": [
    "df_past = df_past.rename(columns={'Life Ladder':'Ladder score', 'Log GDP per capita':'Logged GDP per capita','Healthy life expectancy at birth':'Healthy life expectancy'})"
   ]
  },
  {
   "cell_type": "code",
   "execution_count": 8,
   "id": "operational-minneapolis",
   "metadata": {
    "_kg_hide-input": true,
    "execution": {
     "iopub.execute_input": "2021-07-21T09:31:24.015332Z",
     "iopub.status.busy": "2021-07-21T09:31:24.014452Z",
     "iopub.status.idle": "2021-07-21T09:31:24.017798Z",
     "shell.execute_reply": "2021-07-21T09:31:24.018283Z",
     "shell.execute_reply.started": "2021-07-17T11:35:51.07781Z"
    },
    "jupyter": {
     "source_hidden": true
    },
    "papermill": {
     "duration": 0.064577,
     "end_time": "2021-07-21T09:31:24.018468",
     "exception": false,
     "start_time": "2021-07-21T09:31:23.953891",
     "status": "completed"
    },
    "tags": []
   },
   "outputs": [
    {
     "data": {
      "text/html": [
       "<div>\n",
       "<style scoped>\n",
       "    .dataframe tbody tr th:only-of-type {\n",
       "        vertical-align: middle;\n",
       "    }\n",
       "\n",
       "    .dataframe tbody tr th {\n",
       "        vertical-align: top;\n",
       "    }\n",
       "\n",
       "    .dataframe thead th {\n",
       "        text-align: right;\n",
       "    }\n",
       "</style>\n",
       "<table border=\"1\" class=\"dataframe\">\n",
       "  <thead>\n",
       "    <tr style=\"text-align: right;\">\n",
       "      <th></th>\n",
       "      <th>Country name</th>\n",
       "      <th>year</th>\n",
       "      <th>Ladder score</th>\n",
       "      <th>Logged GDP per capita</th>\n",
       "      <th>Social support</th>\n",
       "      <th>Healthy life expectancy</th>\n",
       "      <th>Freedom to make life choices</th>\n",
       "      <th>Generosity</th>\n",
       "      <th>Perceptions of corruption</th>\n",
       "      <th>Positive affect</th>\n",
       "      <th>Negative affect</th>\n",
       "    </tr>\n",
       "  </thead>\n",
       "  <tbody>\n",
       "    <tr>\n",
       "      <th>343</th>\n",
       "      <td>China</td>\n",
       "      <td>2007</td>\n",
       "      <td>4.863</td>\n",
       "      <td>8.824</td>\n",
       "      <td>0.811</td>\n",
       "      <td>67.06</td>\n",
       "      <td>NaN</td>\n",
       "      <td>-0.176</td>\n",
       "      <td>NaN</td>\n",
       "      <td>0.817</td>\n",
       "      <td>0.159</td>\n",
       "    </tr>\n",
       "  </tbody>\n",
       "</table>\n",
       "</div>"
      ],
      "text/plain": [
       "    Country name  year  Ladder score  Logged GDP per capita  Social support  \\\n",
       "343        China  2007         4.863                  8.824           0.811   \n",
       "\n",
       "     Healthy life expectancy  Freedom to make life choices  Generosity  \\\n",
       "343                    67.06                           NaN      -0.176   \n",
       "\n",
       "     Perceptions of corruption  Positive affect  Negative affect  \n",
       "343                        NaN            0.817            0.159  "
      ]
     },
     "execution_count": 8,
     "metadata": {},
     "output_type": "execute_result"
    }
   ],
   "source": [
    "df_past.sample(1)"
   ]
  },
  {
   "cell_type": "markdown",
   "id": "colonial-inclusion",
   "metadata": {
    "papermill": {
     "duration": 0.043519,
     "end_time": "2021-07-21T09:31:24.106176",
     "exception": false,
     "start_time": "2021-07-21T09:31:24.062657",
     "status": "completed"
    },
    "tags": []
   },
   "source": [
    "In this EDA, areas of interest will be \n",
    "- 'Country name',\n",
    "- 'Regional indicator',\n",
    "- 'Ladder score',\n",
    "- 'Logged GDP per capita',\n",
    "- 'Social support',\n",
    "- 'Healthy life expectancy',\n",
    "- 'Freedom to make life choices',\n",
    "- 'Generosity',\n",
    "- 'Perceptions of corruption' \n",
    "\n",
    "For that reason we will make further adjustments."
   ]
  },
  {
   "cell_type": "code",
   "execution_count": 9,
   "id": "laughing-thomas",
   "metadata": {
    "_kg_hide-input": true,
    "execution": {
     "iopub.execute_input": "2021-07-21T09:31:24.207186Z",
     "iopub.status.busy": "2021-07-21T09:31:24.206318Z",
     "iopub.status.idle": "2021-07-21T09:31:24.209027Z",
     "shell.execute_reply": "2021-07-21T09:31:24.209494Z",
     "shell.execute_reply.started": "2021-07-17T11:35:51.097248Z"
    },
    "papermill": {
     "duration": 0.058949,
     "end_time": "2021-07-21T09:31:24.209663",
     "exception": false,
     "start_time": "2021-07-21T09:31:24.150714",
     "status": "completed"
    },
    "tags": []
   },
   "outputs": [],
   "source": [
    "df1_2021= df_2021[['Country name','Regional indicator','Ladder score','Logged GDP per capita','Social support','Healthy life expectancy','Freedom to make life choices','Generosity','Perceptions of corruption']].copy() \n"
   ]
  },
  {
   "cell_type": "code",
   "execution_count": 10,
   "id": "brown-gabriel",
   "metadata": {
    "_kg_hide-input": true,
    "execution": {
     "iopub.execute_input": "2021-07-21T09:31:24.313673Z",
     "iopub.status.busy": "2021-07-21T09:31:24.312740Z",
     "iopub.status.idle": "2021-07-21T09:31:24.316690Z",
     "shell.execute_reply": "2021-07-21T09:31:24.317123Z",
     "shell.execute_reply.started": "2021-07-17T11:35:51.109135Z"
    },
    "papermill": {
     "duration": 0.063816,
     "end_time": "2021-07-21T09:31:24.317306",
     "exception": false,
     "start_time": "2021-07-21T09:31:24.253490",
     "status": "completed"
    },
    "tags": []
   },
   "outputs": [
    {
     "data": {
      "text/html": [
       "<div>\n",
       "<style scoped>\n",
       "    .dataframe tbody tr th:only-of-type {\n",
       "        vertical-align: middle;\n",
       "    }\n",
       "\n",
       "    .dataframe tbody tr th {\n",
       "        vertical-align: top;\n",
       "    }\n",
       "\n",
       "    .dataframe thead th {\n",
       "        text-align: right;\n",
       "    }\n",
       "</style>\n",
       "<table border=\"1\" class=\"dataframe\">\n",
       "  <thead>\n",
       "    <tr style=\"text-align: right;\">\n",
       "      <th></th>\n",
       "      <th>Country name</th>\n",
       "      <th>Regional indicator</th>\n",
       "      <th>Ladder score</th>\n",
       "      <th>Logged GDP per capita</th>\n",
       "      <th>Social support</th>\n",
       "      <th>Healthy life expectancy</th>\n",
       "      <th>Freedom to make life choices</th>\n",
       "      <th>Generosity</th>\n",
       "      <th>Perceptions of corruption</th>\n",
       "    </tr>\n",
       "  </thead>\n",
       "  <tbody>\n",
       "    <tr>\n",
       "      <th>0</th>\n",
       "      <td>Finland</td>\n",
       "      <td>Western Europe</td>\n",
       "      <td>7.842</td>\n",
       "      <td>10.775</td>\n",
       "      <td>0.954</td>\n",
       "      <td>72.0</td>\n",
       "      <td>0.949</td>\n",
       "      <td>-0.098</td>\n",
       "      <td>0.186</td>\n",
       "    </tr>\n",
       "    <tr>\n",
       "      <th>1</th>\n",
       "      <td>Denmark</td>\n",
       "      <td>Western Europe</td>\n",
       "      <td>7.620</td>\n",
       "      <td>10.933</td>\n",
       "      <td>0.954</td>\n",
       "      <td>72.7</td>\n",
       "      <td>0.946</td>\n",
       "      <td>0.030</td>\n",
       "      <td>0.179</td>\n",
       "    </tr>\n",
       "    <tr>\n",
       "      <th>2</th>\n",
       "      <td>Switzerland</td>\n",
       "      <td>Western Europe</td>\n",
       "      <td>7.571</td>\n",
       "      <td>11.117</td>\n",
       "      <td>0.942</td>\n",
       "      <td>74.4</td>\n",
       "      <td>0.919</td>\n",
       "      <td>0.025</td>\n",
       "      <td>0.292</td>\n",
       "    </tr>\n",
       "    <tr>\n",
       "      <th>3</th>\n",
       "      <td>Iceland</td>\n",
       "      <td>Western Europe</td>\n",
       "      <td>7.554</td>\n",
       "      <td>10.878</td>\n",
       "      <td>0.983</td>\n",
       "      <td>73.0</td>\n",
       "      <td>0.955</td>\n",
       "      <td>0.160</td>\n",
       "      <td>0.673</td>\n",
       "    </tr>\n",
       "    <tr>\n",
       "      <th>4</th>\n",
       "      <td>Netherlands</td>\n",
       "      <td>Western Europe</td>\n",
       "      <td>7.464</td>\n",
       "      <td>10.932</td>\n",
       "      <td>0.942</td>\n",
       "      <td>72.4</td>\n",
       "      <td>0.913</td>\n",
       "      <td>0.175</td>\n",
       "      <td>0.338</td>\n",
       "    </tr>\n",
       "  </tbody>\n",
       "</table>\n",
       "</div>"
      ],
      "text/plain": [
       "  Country name Regional indicator  Ladder score  Logged GDP per capita  \\\n",
       "0      Finland     Western Europe         7.842                 10.775   \n",
       "1      Denmark     Western Europe         7.620                 10.933   \n",
       "2  Switzerland     Western Europe         7.571                 11.117   \n",
       "3      Iceland     Western Europe         7.554                 10.878   \n",
       "4  Netherlands     Western Europe         7.464                 10.932   \n",
       "\n",
       "   Social support  Healthy life expectancy  Freedom to make life choices  \\\n",
       "0           0.954                     72.0                         0.949   \n",
       "1           0.954                     72.7                         0.946   \n",
       "2           0.942                     74.4                         0.919   \n",
       "3           0.983                     73.0                         0.955   \n",
       "4           0.942                     72.4                         0.913   \n",
       "\n",
       "   Generosity  Perceptions of corruption  \n",
       "0      -0.098                      0.186  \n",
       "1       0.030                      0.179  \n",
       "2       0.025                      0.292  \n",
       "3       0.160                      0.673  \n",
       "4       0.175                      0.338  "
      ]
     },
     "execution_count": 10,
     "metadata": {},
     "output_type": "execute_result"
    }
   ],
   "source": [
    "df1_2021.head()"
   ]
  },
  {
   "cell_type": "markdown",
   "id": "prompt-software",
   "metadata": {
    "papermill": {
     "duration": 0.043958,
     "end_time": "2021-07-21T09:31:24.405587",
     "exception": false,
     "start_time": "2021-07-21T09:31:24.361629",
     "status": "completed"
    },
    "tags": []
   },
   "source": [
    "- Let's look for the general information about the data and see whether any missing values to deal with."
   ]
  },
  {
   "cell_type": "code",
   "execution_count": 11,
   "id": "acceptable-freedom",
   "metadata": {
    "_kg_hide-input": true,
    "execution": {
     "iopub.execute_input": "2021-07-21T09:31:24.512028Z",
     "iopub.status.busy": "2021-07-21T09:31:24.511304Z",
     "iopub.status.idle": "2021-07-21T09:31:24.515226Z",
     "shell.execute_reply": "2021-07-21T09:31:24.514600Z",
     "shell.execute_reply.started": "2021-07-17T11:35:51.131425Z"
    },
    "jupyter": {
     "source_hidden": true
    },
    "papermill": {
     "duration": 0.065662,
     "end_time": "2021-07-21T09:31:24.515375",
     "exception": false,
     "start_time": "2021-07-21T09:31:24.449713",
     "status": "completed"
    },
    "tags": []
   },
   "outputs": [
    {
     "name": "stdout",
     "output_type": "stream",
     "text": [
      "<class 'pandas.core.frame.DataFrame'>\n",
      "RangeIndex: 149 entries, 0 to 148\n",
      "Data columns (total 9 columns):\n",
      " #   Column                        Non-Null Count  Dtype  \n",
      "---  ------                        --------------  -----  \n",
      " 0   Country name                  149 non-null    object \n",
      " 1   Regional indicator            149 non-null    object \n",
      " 2   Ladder score                  149 non-null    float64\n",
      " 3   Logged GDP per capita         149 non-null    float64\n",
      " 4   Social support                149 non-null    float64\n",
      " 5   Healthy life expectancy       149 non-null    float64\n",
      " 6   Freedom to make life choices  149 non-null    float64\n",
      " 7   Generosity                    149 non-null    float64\n",
      " 8   Perceptions of corruption     149 non-null    float64\n",
      "dtypes: float64(7), object(2)\n",
      "memory usage: 10.6+ KB\n"
     ]
    }
   ],
   "source": [
    "df1_2021.info()"
   ]
  },
  {
   "cell_type": "markdown",
   "id": "eleven-crystal",
   "metadata": {
    "papermill": {
     "duration": 0.04406,
     "end_time": "2021-07-21T09:31:24.603890",
     "exception": false,
     "start_time": "2021-07-21T09:31:24.559830",
     "status": "completed"
    },
    "tags": []
   },
   "source": [
    "- So far so good\n",
    "\n",
    "- General statistical information on the 2021 world happiness report"
   ]
  },
  {
   "cell_type": "code",
   "execution_count": 12,
   "id": "altered-dispute",
   "metadata": {
    "_kg_hide-input": true,
    "execution": {
     "iopub.execute_input": "2021-07-21T09:31:24.700449Z",
     "iopub.status.busy": "2021-07-21T09:31:24.699802Z",
     "iopub.status.idle": "2021-07-21T09:31:24.729705Z",
     "shell.execute_reply": "2021-07-21T09:31:24.730159Z",
     "shell.execute_reply.started": "2021-07-17T11:35:51.154138Z"
    },
    "papermill": {
     "duration": 0.081673,
     "end_time": "2021-07-21T09:31:24.730333",
     "exception": false,
     "start_time": "2021-07-21T09:31:24.648660",
     "status": "completed"
    },
    "tags": []
   },
   "outputs": [
    {
     "data": {
      "text/html": [
       "<div>\n",
       "<style scoped>\n",
       "    .dataframe tbody tr th:only-of-type {\n",
       "        vertical-align: middle;\n",
       "    }\n",
       "\n",
       "    .dataframe tbody tr th {\n",
       "        vertical-align: top;\n",
       "    }\n",
       "\n",
       "    .dataframe thead th {\n",
       "        text-align: right;\n",
       "    }\n",
       "</style>\n",
       "<table border=\"1\" class=\"dataframe\">\n",
       "  <thead>\n",
       "    <tr style=\"text-align: right;\">\n",
       "      <th></th>\n",
       "      <th>Ladder score</th>\n",
       "      <th>Logged GDP per capita</th>\n",
       "      <th>Social support</th>\n",
       "      <th>Healthy life expectancy</th>\n",
       "      <th>Freedom to make life choices</th>\n",
       "      <th>Generosity</th>\n",
       "      <th>Perceptions of corruption</th>\n",
       "    </tr>\n",
       "  </thead>\n",
       "  <tbody>\n",
       "    <tr>\n",
       "      <th>count</th>\n",
       "      <td>149.000000</td>\n",
       "      <td>149.000000</td>\n",
       "      <td>149.000000</td>\n",
       "      <td>149.000000</td>\n",
       "      <td>149.000000</td>\n",
       "      <td>149.000000</td>\n",
       "      <td>149.000000</td>\n",
       "    </tr>\n",
       "    <tr>\n",
       "      <th>mean</th>\n",
       "      <td>5.532839</td>\n",
       "      <td>9.432208</td>\n",
       "      <td>0.814745</td>\n",
       "      <td>64.992799</td>\n",
       "      <td>0.791597</td>\n",
       "      <td>-0.015134</td>\n",
       "      <td>0.727450</td>\n",
       "    </tr>\n",
       "    <tr>\n",
       "      <th>std</th>\n",
       "      <td>1.073924</td>\n",
       "      <td>1.158601</td>\n",
       "      <td>0.114889</td>\n",
       "      <td>6.762043</td>\n",
       "      <td>0.113332</td>\n",
       "      <td>0.150657</td>\n",
       "      <td>0.179226</td>\n",
       "    </tr>\n",
       "    <tr>\n",
       "      <th>min</th>\n",
       "      <td>2.523000</td>\n",
       "      <td>6.635000</td>\n",
       "      <td>0.463000</td>\n",
       "      <td>48.478000</td>\n",
       "      <td>0.382000</td>\n",
       "      <td>-0.288000</td>\n",
       "      <td>0.082000</td>\n",
       "    </tr>\n",
       "    <tr>\n",
       "      <th>25%</th>\n",
       "      <td>4.852000</td>\n",
       "      <td>8.541000</td>\n",
       "      <td>0.750000</td>\n",
       "      <td>59.802000</td>\n",
       "      <td>0.718000</td>\n",
       "      <td>-0.126000</td>\n",
       "      <td>0.667000</td>\n",
       "    </tr>\n",
       "    <tr>\n",
       "      <th>50%</th>\n",
       "      <td>5.534000</td>\n",
       "      <td>9.569000</td>\n",
       "      <td>0.832000</td>\n",
       "      <td>66.603000</td>\n",
       "      <td>0.804000</td>\n",
       "      <td>-0.036000</td>\n",
       "      <td>0.781000</td>\n",
       "    </tr>\n",
       "    <tr>\n",
       "      <th>75%</th>\n",
       "      <td>6.255000</td>\n",
       "      <td>10.421000</td>\n",
       "      <td>0.905000</td>\n",
       "      <td>69.600000</td>\n",
       "      <td>0.877000</td>\n",
       "      <td>0.079000</td>\n",
       "      <td>0.845000</td>\n",
       "    </tr>\n",
       "    <tr>\n",
       "      <th>max</th>\n",
       "      <td>7.842000</td>\n",
       "      <td>11.647000</td>\n",
       "      <td>0.983000</td>\n",
       "      <td>76.953000</td>\n",
       "      <td>0.970000</td>\n",
       "      <td>0.542000</td>\n",
       "      <td>0.939000</td>\n",
       "    </tr>\n",
       "  </tbody>\n",
       "</table>\n",
       "</div>"
      ],
      "text/plain": [
       "       Ladder score  Logged GDP per capita  Social support  \\\n",
       "count    149.000000             149.000000      149.000000   \n",
       "mean       5.532839               9.432208        0.814745   \n",
       "std        1.073924               1.158601        0.114889   \n",
       "min        2.523000               6.635000        0.463000   \n",
       "25%        4.852000               8.541000        0.750000   \n",
       "50%        5.534000               9.569000        0.832000   \n",
       "75%        6.255000              10.421000        0.905000   \n",
       "max        7.842000              11.647000        0.983000   \n",
       "\n",
       "       Healthy life expectancy  Freedom to make life choices  Generosity  \\\n",
       "count               149.000000                    149.000000  149.000000   \n",
       "mean                 64.992799                      0.791597   -0.015134   \n",
       "std                   6.762043                      0.113332    0.150657   \n",
       "min                  48.478000                      0.382000   -0.288000   \n",
       "25%                  59.802000                      0.718000   -0.126000   \n",
       "50%                  66.603000                      0.804000   -0.036000   \n",
       "75%                  69.600000                      0.877000    0.079000   \n",
       "max                  76.953000                      0.970000    0.542000   \n",
       "\n",
       "       Perceptions of corruption  \n",
       "count                 149.000000  \n",
       "mean                    0.727450  \n",
       "std                     0.179226  \n",
       "min                     0.082000  \n",
       "25%                     0.667000  \n",
       "50%                     0.781000  \n",
       "75%                     0.845000  \n",
       "max                     0.939000  "
      ]
     },
     "execution_count": 12,
     "metadata": {},
     "output_type": "execute_result"
    }
   ],
   "source": [
    "df1_2021.describe()"
   ]
  },
  {
   "cell_type": "markdown",
   "id": "welcome-arrangement",
   "metadata": {
    "papermill": {
     "duration": 0.046939,
     "end_time": "2021-07-21T09:31:24.822825",
     "exception": false,
     "start_time": "2021-07-21T09:31:24.775886",
     "status": "completed"
    },
    "tags": []
   },
   "source": [
    "- Let's see the correlation among the numerical variables in the dataset"
   ]
  },
  {
   "cell_type": "code",
   "execution_count": 13,
   "id": "spread-frost",
   "metadata": {
    "_kg_hide-input": true,
    "execution": {
     "iopub.execute_input": "2021-07-21T09:31:24.931278Z",
     "iopub.status.busy": "2021-07-21T09:31:24.930573Z",
     "iopub.status.idle": "2021-07-21T09:31:24.934297Z",
     "shell.execute_reply": "2021-07-21T09:31:24.933717Z",
     "shell.execute_reply.started": "2021-07-17T11:35:51.188224Z"
    },
    "papermill": {
     "duration": 0.065699,
     "end_time": "2021-07-21T09:31:24.934445",
     "exception": false,
     "start_time": "2021-07-21T09:31:24.868746",
     "status": "completed"
    },
    "tags": []
   },
   "outputs": [
    {
     "data": {
      "text/html": [
       "<div>\n",
       "<style scoped>\n",
       "    .dataframe tbody tr th:only-of-type {\n",
       "        vertical-align: middle;\n",
       "    }\n",
       "\n",
       "    .dataframe tbody tr th {\n",
       "        vertical-align: top;\n",
       "    }\n",
       "\n",
       "    .dataframe thead th {\n",
       "        text-align: right;\n",
       "    }\n",
       "</style>\n",
       "<table border=\"1\" class=\"dataframe\">\n",
       "  <thead>\n",
       "    <tr style=\"text-align: right;\">\n",
       "      <th></th>\n",
       "      <th>Ladder score</th>\n",
       "      <th>Logged GDP per capita</th>\n",
       "      <th>Social support</th>\n",
       "      <th>Healthy life expectancy</th>\n",
       "      <th>Freedom to make life choices</th>\n",
       "      <th>Generosity</th>\n",
       "      <th>Perceptions of corruption</th>\n",
       "    </tr>\n",
       "  </thead>\n",
       "  <tbody>\n",
       "    <tr>\n",
       "      <th>Ladder score</th>\n",
       "      <td>1.000000</td>\n",
       "      <td>0.789760</td>\n",
       "      <td>0.756888</td>\n",
       "      <td>0.768099</td>\n",
       "      <td>0.607753</td>\n",
       "      <td>-0.017799</td>\n",
       "      <td>-0.421140</td>\n",
       "    </tr>\n",
       "    <tr>\n",
       "      <th>Logged GDP per capita</th>\n",
       "      <td>0.789760</td>\n",
       "      <td>1.000000</td>\n",
       "      <td>0.785299</td>\n",
       "      <td>0.859461</td>\n",
       "      <td>0.432323</td>\n",
       "      <td>-0.199286</td>\n",
       "      <td>-0.342337</td>\n",
       "    </tr>\n",
       "    <tr>\n",
       "      <th>Social support</th>\n",
       "      <td>0.756888</td>\n",
       "      <td>0.785299</td>\n",
       "      <td>1.000000</td>\n",
       "      <td>0.723256</td>\n",
       "      <td>0.482930</td>\n",
       "      <td>-0.114946</td>\n",
       "      <td>-0.203207</td>\n",
       "    </tr>\n",
       "    <tr>\n",
       "      <th>Healthy life expectancy</th>\n",
       "      <td>0.768099</td>\n",
       "      <td>0.859461</td>\n",
       "      <td>0.723256</td>\n",
       "      <td>1.000000</td>\n",
       "      <td>0.461494</td>\n",
       "      <td>-0.161750</td>\n",
       "      <td>-0.364374</td>\n",
       "    </tr>\n",
       "    <tr>\n",
       "      <th>Freedom to make life choices</th>\n",
       "      <td>0.607753</td>\n",
       "      <td>0.432323</td>\n",
       "      <td>0.482930</td>\n",
       "      <td>0.461494</td>\n",
       "      <td>1.000000</td>\n",
       "      <td>0.169437</td>\n",
       "      <td>-0.401363</td>\n",
       "    </tr>\n",
       "    <tr>\n",
       "      <th>Generosity</th>\n",
       "      <td>-0.017799</td>\n",
       "      <td>-0.199286</td>\n",
       "      <td>-0.114946</td>\n",
       "      <td>-0.161750</td>\n",
       "      <td>0.169437</td>\n",
       "      <td>1.000000</td>\n",
       "      <td>-0.163962</td>\n",
       "    </tr>\n",
       "    <tr>\n",
       "      <th>Perceptions of corruption</th>\n",
       "      <td>-0.421140</td>\n",
       "      <td>-0.342337</td>\n",
       "      <td>-0.203207</td>\n",
       "      <td>-0.364374</td>\n",
       "      <td>-0.401363</td>\n",
       "      <td>-0.163962</td>\n",
       "      <td>1.000000</td>\n",
       "    </tr>\n",
       "  </tbody>\n",
       "</table>\n",
       "</div>"
      ],
      "text/plain": [
       "                              Ladder score  Logged GDP per capita  \\\n",
       "Ladder score                      1.000000               0.789760   \n",
       "Logged GDP per capita             0.789760               1.000000   \n",
       "Social support                    0.756888               0.785299   \n",
       "Healthy life expectancy           0.768099               0.859461   \n",
       "Freedom to make life choices      0.607753               0.432323   \n",
       "Generosity                       -0.017799              -0.199286   \n",
       "Perceptions of corruption        -0.421140              -0.342337   \n",
       "\n",
       "                              Social support  Healthy life expectancy  \\\n",
       "Ladder score                        0.756888                 0.768099   \n",
       "Logged GDP per capita               0.785299                 0.859461   \n",
       "Social support                      1.000000                 0.723256   \n",
       "Healthy life expectancy             0.723256                 1.000000   \n",
       "Freedom to make life choices        0.482930                 0.461494   \n",
       "Generosity                         -0.114946                -0.161750   \n",
       "Perceptions of corruption          -0.203207                -0.364374   \n",
       "\n",
       "                              Freedom to make life choices  Generosity  \\\n",
       "Ladder score                                      0.607753   -0.017799   \n",
       "Logged GDP per capita                             0.432323   -0.199286   \n",
       "Social support                                    0.482930   -0.114946   \n",
       "Healthy life expectancy                           0.461494   -0.161750   \n",
       "Freedom to make life choices                      1.000000    0.169437   \n",
       "Generosity                                        0.169437    1.000000   \n",
       "Perceptions of corruption                        -0.401363   -0.163962   \n",
       "\n",
       "                              Perceptions of corruption  \n",
       "Ladder score                                  -0.421140  \n",
       "Logged GDP per capita                         -0.342337  \n",
       "Social support                                -0.203207  \n",
       "Healthy life expectancy                       -0.364374  \n",
       "Freedom to make life choices                  -0.401363  \n",
       "Generosity                                    -0.163962  \n",
       "Perceptions of corruption                      1.000000  "
      ]
     },
     "execution_count": 13,
     "metadata": {},
     "output_type": "execute_result"
    }
   ],
   "source": [
    "df1_2021.corr()"
   ]
  },
  {
   "cell_type": "markdown",
   "id": "looking-official",
   "metadata": {
    "papermill": {
     "duration": 0.047685,
     "end_time": "2021-07-21T09:31:25.028819",
     "exception": false,
     "start_time": "2021-07-21T09:31:24.981134",
     "status": "completed"
    },
    "tags": []
   },
   "source": [
    "Even though, based on the domain, high level correlation is interpreted differently (some of the areas %80 or above is a good sign of the string correlation, for some areas it will be aroun %60)\n",
    "\n",
    "- With keeping that in mind, Happiness score(Ladder Score) has strong level correlation with GDP, Social Support, Healthy life Expectancy.\n",
    "\n",
    "- Freedom to make life choice and happiness score have mid level correlation between them.\n",
    "\n",
    "- Perception of corruption and happiness score have weak level negative level correlation between them.\n",
    "\n",
    "To see that relationships from differnt visualization, heatmap will be used further."
   ]
  },
  {
   "cell_type": "code",
   "execution_count": 14,
   "id": "subtle-damages",
   "metadata": {
    "_kg_hide-input": true,
    "execution": {
     "iopub.execute_input": "2021-07-21T09:31:25.133171Z",
     "iopub.status.busy": "2021-07-21T09:31:25.132522Z",
     "iopub.status.idle": "2021-07-21T09:31:25.175904Z",
     "shell.execute_reply": "2021-07-21T09:31:25.176452Z",
     "shell.execute_reply.started": "2021-07-17T11:35:51.207131Z"
    },
    "papermill": {
     "duration": 0.099196,
     "end_time": "2021-07-21T09:31:25.176621",
     "exception": false,
     "start_time": "2021-07-21T09:31:25.077425",
     "status": "completed"
    },
    "tags": []
   },
   "outputs": [
    {
     "data": {
      "text/html": [
       "        <script type=\"text/javascript\">\n",
       "        window.PlotlyConfig = {MathJaxConfig: 'local'};\n",
       "        if (window.MathJax) {MathJax.Hub.Config({SVG: {font: \"STIX-Web\"}});}\n",
       "        if (typeof require !== 'undefined') {\n",
       "        require.undef(\"plotly\");\n",
       "        requirejs.config({\n",
       "            paths: {\n",
       "                'plotly': ['https://cdn.plot.ly/plotly-latest.min']\n",
       "            }\n",
       "        });\n",
       "        require(['plotly'], function(Plotly) {\n",
       "            window._Plotly = Plotly;\n",
       "        });\n",
       "        }\n",
       "        </script>\n",
       "        "
      ]
     },
     "metadata": {},
     "output_type": "display_data"
    },
    {
     "data": {
      "text/html": [
       "<div>                            <div id=\"38d6877c-6182-451a-ab8b-dc7405e8d09f\" class=\"plotly-graph-div\" style=\"height:525px; width:100%;\"></div>            <script type=\"text/javascript\">                require([\"plotly\"], function(Plotly) {                    window.PLOTLYENV=window.PLOTLYENV || {};                                    if (document.getElementById(\"38d6877c-6182-451a-ab8b-dc7405e8d09f\")) {                    Plotly.newPlot(                        \"38d6877c-6182-451a-ab8b-dc7405e8d09f\",                        [{\"colorscale\": [[0.0, \"rgb(75, 41, 145)\"], [0.16666666666666666, \"rgb(135, 44, 162)\"], [0.3333333333333333, \"rgb(192, 54, 157)\"], [0.5, \"rgb(234, 79, 136)\"], [0.6666666666666666, \"rgb(250, 120, 118)\"], [0.8333333333333334, \"rgb(246, 169, 122)\"], [1.0, \"rgb(237, 217, 163)\"]], \"type\": \"heatmap\", \"x\": [\"Ladder score\", \"Logged GDP per capita\", \"Social support\", \"Healthy life expectancy\", \"Freedom to make life choices\", \"Generosity\", \"Perceptions of corruption\"], \"y\": [\"Ladder score\", \"Logged GDP per capita\", \"Social support\", \"Healthy life expectancy\", \"Freedom to make life choices\", \"Generosity\", \"Perceptions of corruption\"], \"z\": [[1.0, 0.7897596965098929, 0.7568876453634998, 0.7680994550105212, 0.6077530656580243, -0.017799276922640522, -0.42113999673857866], [0.7897596965098929, 1.0, 0.7852986839240533, 0.8594606242792721, 0.4323234850213139, -0.19928639866393488, -0.34233741981567845], [0.7568876453634998, 0.7852986839240533, 1.0, 0.7232561311738969, 0.4829297690676072, -0.1149458544589379, -0.20320698327684902], [0.7680994550105212, 0.8594606242792721, 0.7232561311738969, 1.0, 0.46149386993825575, -0.16175028008919015, -0.36437352741167867], [0.6077530656580243, 0.4323234850213139, 0.4829297690676072, 0.46149386993825575, 1.0, 0.1694373744816964, -0.4013629683428172], [-0.017799276922640522, -0.19928639866393488, -0.1149458544589379, -0.16175028008919015, 0.1694373744816964, 1.0, -0.163961728842522], [-0.42113999673857866, -0.34233741981567845, -0.20320698327684902, -0.36437352741167867, -0.4013629683428172, -0.163961728842522, 1.0]]}],                        {\"template\": {\"data\": {\"bar\": [{\"error_x\": {\"color\": \"#2a3f5f\"}, \"error_y\": {\"color\": \"#2a3f5f\"}, \"marker\": {\"line\": {\"color\": \"#E5ECF6\", \"width\": 0.5}}, \"type\": \"bar\"}], \"barpolar\": [{\"marker\": {\"line\": {\"color\": \"#E5ECF6\", \"width\": 0.5}}, \"type\": \"barpolar\"}], \"carpet\": [{\"aaxis\": {\"endlinecolor\": \"#2a3f5f\", \"gridcolor\": \"white\", \"linecolor\": \"white\", \"minorgridcolor\": \"white\", \"startlinecolor\": \"#2a3f5f\"}, \"baxis\": {\"endlinecolor\": \"#2a3f5f\", \"gridcolor\": \"white\", \"linecolor\": \"white\", \"minorgridcolor\": \"white\", \"startlinecolor\": \"#2a3f5f\"}, \"type\": \"carpet\"}], \"choropleth\": [{\"colorbar\": {\"outlinewidth\": 0, \"ticks\": \"\"}, \"type\": \"choropleth\"}], \"contour\": [{\"colorbar\": {\"outlinewidth\": 0, \"ticks\": \"\"}, \"colorscale\": [[0.0, \"#0d0887\"], [0.1111111111111111, \"#46039f\"], [0.2222222222222222, \"#7201a8\"], [0.3333333333333333, \"#9c179e\"], [0.4444444444444444, \"#bd3786\"], [0.5555555555555556, \"#d8576b\"], [0.6666666666666666, \"#ed7953\"], [0.7777777777777778, \"#fb9f3a\"], [0.8888888888888888, \"#fdca26\"], [1.0, \"#f0f921\"]], \"type\": \"contour\"}], \"contourcarpet\": [{\"colorbar\": {\"outlinewidth\": 0, \"ticks\": \"\"}, \"type\": \"contourcarpet\"}], \"heatmap\": [{\"colorbar\": {\"outlinewidth\": 0, \"ticks\": \"\"}, \"colorscale\": [[0.0, \"#0d0887\"], [0.1111111111111111, \"#46039f\"], [0.2222222222222222, \"#7201a8\"], [0.3333333333333333, \"#9c179e\"], [0.4444444444444444, \"#bd3786\"], [0.5555555555555556, \"#d8576b\"], [0.6666666666666666, \"#ed7953\"], [0.7777777777777778, \"#fb9f3a\"], [0.8888888888888888, \"#fdca26\"], [1.0, \"#f0f921\"]], \"type\": \"heatmap\"}], \"heatmapgl\": [{\"colorbar\": {\"outlinewidth\": 0, \"ticks\": \"\"}, \"colorscale\": [[0.0, \"#0d0887\"], [0.1111111111111111, \"#46039f\"], [0.2222222222222222, \"#7201a8\"], [0.3333333333333333, \"#9c179e\"], [0.4444444444444444, \"#bd3786\"], [0.5555555555555556, \"#d8576b\"], [0.6666666666666666, \"#ed7953\"], [0.7777777777777778, \"#fb9f3a\"], [0.8888888888888888, \"#fdca26\"], [1.0, \"#f0f921\"]], \"type\": \"heatmapgl\"}], \"histogram\": [{\"marker\": {\"colorbar\": {\"outlinewidth\": 0, \"ticks\": \"\"}}, \"type\": \"histogram\"}], \"histogram2d\": [{\"colorbar\": {\"outlinewidth\": 0, \"ticks\": \"\"}, \"colorscale\": [[0.0, \"#0d0887\"], [0.1111111111111111, \"#46039f\"], [0.2222222222222222, \"#7201a8\"], [0.3333333333333333, \"#9c179e\"], [0.4444444444444444, \"#bd3786\"], [0.5555555555555556, \"#d8576b\"], [0.6666666666666666, \"#ed7953\"], [0.7777777777777778, \"#fb9f3a\"], [0.8888888888888888, \"#fdca26\"], [1.0, \"#f0f921\"]], \"type\": \"histogram2d\"}], \"histogram2dcontour\": [{\"colorbar\": {\"outlinewidth\": 0, \"ticks\": \"\"}, \"colorscale\": [[0.0, \"#0d0887\"], [0.1111111111111111, \"#46039f\"], [0.2222222222222222, \"#7201a8\"], [0.3333333333333333, \"#9c179e\"], [0.4444444444444444, \"#bd3786\"], [0.5555555555555556, \"#d8576b\"], [0.6666666666666666, \"#ed7953\"], [0.7777777777777778, \"#fb9f3a\"], [0.8888888888888888, \"#fdca26\"], [1.0, \"#f0f921\"]], \"type\": \"histogram2dcontour\"}], \"mesh3d\": [{\"colorbar\": {\"outlinewidth\": 0, \"ticks\": \"\"}, \"type\": \"mesh3d\"}], \"parcoords\": [{\"line\": {\"colorbar\": {\"outlinewidth\": 0, \"ticks\": \"\"}}, \"type\": \"parcoords\"}], \"pie\": [{\"automargin\": true, \"type\": \"pie\"}], \"scatter\": [{\"marker\": {\"colorbar\": {\"outlinewidth\": 0, \"ticks\": \"\"}}, \"type\": \"scatter\"}], \"scatter3d\": [{\"line\": {\"colorbar\": {\"outlinewidth\": 0, \"ticks\": \"\"}}, \"marker\": {\"colorbar\": {\"outlinewidth\": 0, \"ticks\": \"\"}}, \"type\": \"scatter3d\"}], \"scattercarpet\": [{\"marker\": {\"colorbar\": {\"outlinewidth\": 0, \"ticks\": \"\"}}, \"type\": \"scattercarpet\"}], \"scattergeo\": [{\"marker\": {\"colorbar\": {\"outlinewidth\": 0, \"ticks\": \"\"}}, \"type\": \"scattergeo\"}], \"scattergl\": [{\"marker\": {\"colorbar\": {\"outlinewidth\": 0, \"ticks\": \"\"}}, \"type\": \"scattergl\"}], \"scattermapbox\": [{\"marker\": {\"colorbar\": {\"outlinewidth\": 0, \"ticks\": \"\"}}, \"type\": \"scattermapbox\"}], \"scatterpolar\": [{\"marker\": {\"colorbar\": {\"outlinewidth\": 0, \"ticks\": \"\"}}, \"type\": \"scatterpolar\"}], \"scatterpolargl\": [{\"marker\": {\"colorbar\": {\"outlinewidth\": 0, \"ticks\": \"\"}}, \"type\": \"scatterpolargl\"}], \"scatterternary\": [{\"marker\": {\"colorbar\": {\"outlinewidth\": 0, \"ticks\": \"\"}}, \"type\": \"scatterternary\"}], \"surface\": [{\"colorbar\": {\"outlinewidth\": 0, \"ticks\": \"\"}, \"colorscale\": [[0.0, \"#0d0887\"], [0.1111111111111111, \"#46039f\"], [0.2222222222222222, \"#7201a8\"], [0.3333333333333333, \"#9c179e\"], [0.4444444444444444, \"#bd3786\"], [0.5555555555555556, \"#d8576b\"], [0.6666666666666666, \"#ed7953\"], [0.7777777777777778, \"#fb9f3a\"], [0.8888888888888888, \"#fdca26\"], [1.0, \"#f0f921\"]], \"type\": \"surface\"}], \"table\": [{\"cells\": {\"fill\": {\"color\": \"#EBF0F8\"}, \"line\": {\"color\": \"white\"}}, \"header\": {\"fill\": {\"color\": \"#C8D4E3\"}, \"line\": {\"color\": \"white\"}}, \"type\": \"table\"}]}, \"layout\": {\"annotationdefaults\": {\"arrowcolor\": \"#2a3f5f\", \"arrowhead\": 0, \"arrowwidth\": 1}, \"autotypenumbers\": \"strict\", \"coloraxis\": {\"colorbar\": {\"outlinewidth\": 0, \"ticks\": \"\"}}, \"colorscale\": {\"diverging\": [[0, \"#8e0152\"], [0.1, \"#c51b7d\"], [0.2, \"#de77ae\"], [0.3, \"#f1b6da\"], [0.4, \"#fde0ef\"], [0.5, \"#f7f7f7\"], [0.6, \"#e6f5d0\"], [0.7, \"#b8e186\"], [0.8, \"#7fbc41\"], [0.9, \"#4d9221\"], [1, \"#276419\"]], \"sequential\": [[0.0, \"#0d0887\"], [0.1111111111111111, \"#46039f\"], [0.2222222222222222, \"#7201a8\"], [0.3333333333333333, \"#9c179e\"], [0.4444444444444444, \"#bd3786\"], [0.5555555555555556, \"#d8576b\"], [0.6666666666666666, \"#ed7953\"], [0.7777777777777778, \"#fb9f3a\"], [0.8888888888888888, \"#fdca26\"], [1.0, \"#f0f921\"]], \"sequentialminus\": [[0.0, \"#0d0887\"], [0.1111111111111111, \"#46039f\"], [0.2222222222222222, \"#7201a8\"], [0.3333333333333333, \"#9c179e\"], [0.4444444444444444, \"#bd3786\"], [0.5555555555555556, \"#d8576b\"], [0.6666666666666666, \"#ed7953\"], [0.7777777777777778, \"#fb9f3a\"], [0.8888888888888888, \"#fdca26\"], [1.0, \"#f0f921\"]]}, \"colorway\": [\"#636efa\", \"#EF553B\", \"#00cc96\", \"#ab63fa\", \"#FFA15A\", \"#19d3f3\", \"#FF6692\", \"#B6E880\", \"#FF97FF\", \"#FECB52\"], \"font\": {\"color\": \"#2a3f5f\"}, \"geo\": {\"bgcolor\": \"white\", \"lakecolor\": \"white\", \"landcolor\": \"#E5ECF6\", \"showlakes\": true, \"showland\": true, \"subunitcolor\": \"white\"}, \"hoverlabel\": {\"align\": \"left\"}, \"hovermode\": \"closest\", \"mapbox\": {\"style\": \"light\"}, \"paper_bgcolor\": \"white\", \"plot_bgcolor\": \"#E5ECF6\", \"polar\": {\"angularaxis\": {\"gridcolor\": \"white\", \"linecolor\": \"white\", \"ticks\": \"\"}, \"bgcolor\": \"#E5ECF6\", \"radialaxis\": {\"gridcolor\": \"white\", \"linecolor\": \"white\", \"ticks\": \"\"}}, \"scene\": {\"xaxis\": {\"backgroundcolor\": \"#E5ECF6\", \"gridcolor\": \"white\", \"gridwidth\": 2, \"linecolor\": \"white\", \"showbackground\": true, \"ticks\": \"\", \"zerolinecolor\": \"white\"}, \"yaxis\": {\"backgroundcolor\": \"#E5ECF6\", \"gridcolor\": \"white\", \"gridwidth\": 2, \"linecolor\": \"white\", \"showbackground\": true, \"ticks\": \"\", \"zerolinecolor\": \"white\"}, \"zaxis\": {\"backgroundcolor\": \"#E5ECF6\", \"gridcolor\": \"white\", \"gridwidth\": 2, \"linecolor\": \"white\", \"showbackground\": true, \"ticks\": \"\", \"zerolinecolor\": \"white\"}}, \"shapedefaults\": {\"line\": {\"color\": \"#2a3f5f\"}}, \"ternary\": {\"aaxis\": {\"gridcolor\": \"white\", \"linecolor\": \"white\", \"ticks\": \"\"}, \"baxis\": {\"gridcolor\": \"white\", \"linecolor\": \"white\", \"ticks\": \"\"}, \"bgcolor\": \"#E5ECF6\", \"caxis\": {\"gridcolor\": \"white\", \"linecolor\": \"white\", \"ticks\": \"\"}}, \"title\": {\"x\": 0.05}, \"xaxis\": {\"automargin\": true, \"gridcolor\": \"white\", \"linecolor\": \"white\", \"ticks\": \"\", \"title\": {\"standoff\": 15}, \"zerolinecolor\": \"white\", \"zerolinewidth\": 2}, \"yaxis\": {\"automargin\": true, \"gridcolor\": \"white\", \"linecolor\": \"white\", \"ticks\": \"\", \"title\": {\"standoff\": 15}, \"zerolinecolor\": \"white\", \"zerolinewidth\": 2}}}},                        {\"responsive\": true}                    ).then(function(){\n",
       "                            \n",
       "var gd = document.getElementById('38d6877c-6182-451a-ab8b-dc7405e8d09f');\n",
       "var x = new MutationObserver(function (mutations, observer) {{\n",
       "        var display = window.getComputedStyle(gd).display;\n",
       "        if (!display || display === 'none') {{\n",
       "            console.log([gd, 'removed!']);\n",
       "            Plotly.purge(gd);\n",
       "            observer.disconnect();\n",
       "        }}\n",
       "}});\n",
       "\n",
       "// Listen for the removal of the full notebook cells\n",
       "var notebookContainer = gd.closest('#notebook-container');\n",
       "if (notebookContainer) {{\n",
       "    x.observe(notebookContainer, {childList: true});\n",
       "}}\n",
       "\n",
       "// Listen for the clearing of the current output cell\n",
       "var outputEl = gd.closest('.output');\n",
       "if (outputEl) {{\n",
       "    x.observe(outputEl, {childList: true});\n",
       "}}\n",
       "\n",
       "                        })                };                });            </script>        </div>"
      ]
     },
     "metadata": {},
     "output_type": "display_data"
    }
   ],
   "source": [
    "fig = go.Figure(go.Heatmap(z=df1_2021.corr(), x=df1_2021.corr().columns.tolist(), y=df1_2021.corr().columns.tolist(), colorscale='agsunset'))\n",
    "fig.show()"
   ]
  },
  {
   "cell_type": "markdown",
   "id": "respective-telephone",
   "metadata": {
    "papermill": {
     "duration": 0.046809,
     "end_time": "2021-07-21T09:31:25.271299",
     "exception": false,
     "start_time": "2021-07-21T09:31:25.224490",
     "status": "completed"
    },
    "tags": []
   },
   "source": [
    "Before moving on the Central and Eastern Europe, let's see the happines score at the Regional Level"
   ]
  },
  {
   "cell_type": "code",
   "execution_count": 15,
   "id": "massive-architect",
   "metadata": {
    "_kg_hide-input": true,
    "execution": {
     "iopub.execute_input": "2021-07-21T09:31:25.368486Z",
     "iopub.status.busy": "2021-07-21T09:31:25.367844Z",
     "iopub.status.idle": "2021-07-21T09:31:25.414518Z",
     "shell.execute_reply": "2021-07-21T09:31:25.413585Z",
     "shell.execute_reply.started": "2021-07-17T11:35:51.252699Z"
    },
    "papermill": {
     "duration": 0.09627,
     "end_time": "2021-07-21T09:31:25.414671",
     "exception": false,
     "start_time": "2021-07-21T09:31:25.318401",
     "status": "completed"
    },
    "tags": []
   },
   "outputs": [
    {
     "data": {
      "text/html": [
       "<div>\n",
       "<style scoped>\n",
       "    .dataframe tbody tr th:only-of-type {\n",
       "        vertical-align: middle;\n",
       "    }\n",
       "\n",
       "    .dataframe tbody tr th {\n",
       "        vertical-align: top;\n",
       "    }\n",
       "\n",
       "    .dataframe thead th {\n",
       "        text-align: right;\n",
       "    }\n",
       "</style>\n",
       "<table border=\"1\" class=\"dataframe\">\n",
       "  <thead>\n",
       "    <tr style=\"text-align: right;\">\n",
       "      <th></th>\n",
       "      <th>count</th>\n",
       "      <th>mean</th>\n",
       "      <th>std</th>\n",
       "      <th>min</th>\n",
       "      <th>25%</th>\n",
       "      <th>50%</th>\n",
       "      <th>75%</th>\n",
       "      <th>max</th>\n",
       "    </tr>\n",
       "    <tr>\n",
       "      <th>Regional indicator</th>\n",
       "      <th></th>\n",
       "      <th></th>\n",
       "      <th></th>\n",
       "      <th></th>\n",
       "      <th></th>\n",
       "      <th></th>\n",
       "      <th></th>\n",
       "      <th></th>\n",
       "    </tr>\n",
       "  </thead>\n",
       "  <tbody>\n",
       "    <tr>\n",
       "      <th>Central and Eastern Europe</th>\n",
       "      <td>17.0</td>\n",
       "      <td>5.984765</td>\n",
       "      <td>0.493325</td>\n",
       "      <td>5.101</td>\n",
       "      <td>5.81300</td>\n",
       "      <td>6.0780</td>\n",
       "      <td>6.25500</td>\n",
       "      <td>6.965</td>\n",
       "    </tr>\n",
       "    <tr>\n",
       "      <th>Commonwealth of Independent States</th>\n",
       "      <td>12.0</td>\n",
       "      <td>5.467000</td>\n",
       "      <td>0.438116</td>\n",
       "      <td>4.875</td>\n",
       "      <td>5.14475</td>\n",
       "      <td>5.4715</td>\n",
       "      <td>5.74950</td>\n",
       "      <td>6.179</td>\n",
       "    </tr>\n",
       "    <tr>\n",
       "      <th>East Asia</th>\n",
       "      <td>6.0</td>\n",
       "      <td>5.810333</td>\n",
       "      <td>0.439913</td>\n",
       "      <td>5.339</td>\n",
       "      <td>5.52700</td>\n",
       "      <td>5.7610</td>\n",
       "      <td>5.91625</td>\n",
       "      <td>6.584</td>\n",
       "    </tr>\n",
       "    <tr>\n",
       "      <th>Latin America and Caribbean</th>\n",
       "      <td>20.0</td>\n",
       "      <td>5.908050</td>\n",
       "      <td>0.693467</td>\n",
       "      <td>3.615</td>\n",
       "      <td>5.75200</td>\n",
       "      <td>5.9920</td>\n",
       "      <td>6.31100</td>\n",
       "      <td>7.069</td>\n",
       "    </tr>\n",
       "    <tr>\n",
       "      <th>Middle East and North Africa</th>\n",
       "      <td>17.0</td>\n",
       "      <td>5.219765</td>\n",
       "      <td>0.999259</td>\n",
       "      <td>3.658</td>\n",
       "      <td>4.58400</td>\n",
       "      <td>4.8870</td>\n",
       "      <td>6.10600</td>\n",
       "      <td>7.157</td>\n",
       "    </tr>\n",
       "    <tr>\n",
       "      <th>North America and ANZ</th>\n",
       "      <td>4.0</td>\n",
       "      <td>7.128500</td>\n",
       "      <td>0.138057</td>\n",
       "      <td>6.951</td>\n",
       "      <td>7.06500</td>\n",
       "      <td>7.1430</td>\n",
       "      <td>7.20650</td>\n",
       "      <td>7.277</td>\n",
       "    </tr>\n",
       "    <tr>\n",
       "      <th>South Asia</th>\n",
       "      <td>7.0</td>\n",
       "      <td>4.441857</td>\n",
       "      <td>0.993462</td>\n",
       "      <td>2.523</td>\n",
       "      <td>4.07200</td>\n",
       "      <td>4.9340</td>\n",
       "      <td>5.11150</td>\n",
       "      <td>5.269</td>\n",
       "    </tr>\n",
       "    <tr>\n",
       "      <th>Southeast Asia</th>\n",
       "      <td>9.0</td>\n",
       "      <td>5.407556</td>\n",
       "      <td>0.606271</td>\n",
       "      <td>4.426</td>\n",
       "      <td>5.03000</td>\n",
       "      <td>5.3840</td>\n",
       "      <td>5.88000</td>\n",
       "      <td>6.377</td>\n",
       "    </tr>\n",
       "    <tr>\n",
       "      <th>Sub-Saharan Africa</th>\n",
       "      <td>36.0</td>\n",
       "      <td>4.494472</td>\n",
       "      <td>0.654892</td>\n",
       "      <td>3.145</td>\n",
       "      <td>4.09850</td>\n",
       "      <td>4.6160</td>\n",
       "      <td>4.99925</td>\n",
       "      <td>6.049</td>\n",
       "    </tr>\n",
       "    <tr>\n",
       "      <th>Western Europe</th>\n",
       "      <td>21.0</td>\n",
       "      <td>6.914905</td>\n",
       "      <td>0.656519</td>\n",
       "      <td>5.536</td>\n",
       "      <td>6.49100</td>\n",
       "      <td>7.0850</td>\n",
       "      <td>7.39200</td>\n",
       "      <td>7.842</td>\n",
       "    </tr>\n",
       "  </tbody>\n",
       "</table>\n",
       "</div>"
      ],
      "text/plain": [
       "                                    count      mean       std    min      25%  \\\n",
       "Regional indicator                                                              \n",
       "Central and Eastern Europe           17.0  5.984765  0.493325  5.101  5.81300   \n",
       "Commonwealth of Independent States   12.0  5.467000  0.438116  4.875  5.14475   \n",
       "East Asia                             6.0  5.810333  0.439913  5.339  5.52700   \n",
       "Latin America and Caribbean          20.0  5.908050  0.693467  3.615  5.75200   \n",
       "Middle East and North Africa         17.0  5.219765  0.999259  3.658  4.58400   \n",
       "North America and ANZ                 4.0  7.128500  0.138057  6.951  7.06500   \n",
       "South Asia                            7.0  4.441857  0.993462  2.523  4.07200   \n",
       "Southeast Asia                        9.0  5.407556  0.606271  4.426  5.03000   \n",
       "Sub-Saharan Africa                   36.0  4.494472  0.654892  3.145  4.09850   \n",
       "Western Europe                       21.0  6.914905  0.656519  5.536  6.49100   \n",
       "\n",
       "                                       50%      75%    max  \n",
       "Regional indicator                                          \n",
       "Central and Eastern Europe          6.0780  6.25500  6.965  \n",
       "Commonwealth of Independent States  5.4715  5.74950  6.179  \n",
       "East Asia                           5.7610  5.91625  6.584  \n",
       "Latin America and Caribbean         5.9920  6.31100  7.069  \n",
       "Middle East and North Africa        4.8870  6.10600  7.157  \n",
       "North America and ANZ               7.1430  7.20650  7.277  \n",
       "South Asia                          4.9340  5.11150  5.269  \n",
       "Southeast Asia                      5.3840  5.88000  6.377  \n",
       "Sub-Saharan Africa                  4.6160  4.99925  6.049  \n",
       "Western Europe                      7.0850  7.39200  7.842  "
      ]
     },
     "execution_count": 15,
     "metadata": {},
     "output_type": "execute_result"
    }
   ],
   "source": [
    "df1_2021.groupby('Regional indicator')['Ladder score'].describe()"
   ]
  },
  {
   "cell_type": "markdown",
   "id": "statutory-reporter",
   "metadata": {
    "papermill": {
     "duration": 0.047483,
     "end_time": "2021-07-21T09:31:25.510384",
     "exception": false,
     "start_time": "2021-07-21T09:31:25.462901",
     "status": "completed"
    },
    "tags": []
   },
   "source": [
    "Based on the above information, it is easily seen that, \n",
    "- Western Europe has the highest level happiness score, \n",
    "\n",
    "on the other hand;\n",
    "\n",
    "- South Asia and Sub-Saharan Africa have the lowest level happiness score amongst the regions."
   ]
  },
  {
   "cell_type": "markdown",
   "id": "material-extent",
   "metadata": {
    "papermill": {
     "duration": 0.047524,
     "end_time": "2021-07-21T09:31:25.605603",
     "exception": false,
     "start_time": "2021-07-21T09:31:25.558079",
     "status": "completed"
    },
    "tags": []
   },
   "source": [
    "- Let's look at the boxplot to see overall distribution of the happiness score at the different regions.\n"
   ]
  },
  {
   "cell_type": "code",
   "execution_count": 16,
   "id": "diverse-funds",
   "metadata": {
    "_kg_hide-input": true,
    "execution": {
     "iopub.execute_input": "2021-07-21T09:31:25.706937Z",
     "iopub.status.busy": "2021-07-21T09:31:25.706273Z",
     "iopub.status.idle": "2021-07-21T09:31:26.606547Z",
     "shell.execute_reply": "2021-07-21T09:31:26.607067Z",
     "shell.execute_reply.started": "2021-07-17T11:35:51.302055Z"
    },
    "papermill": {
     "duration": 0.95398,
     "end_time": "2021-07-21T09:31:26.607243",
     "exception": false,
     "start_time": "2021-07-21T09:31:25.653263",
     "status": "completed"
    },
    "tags": []
   },
   "outputs": [
    {
     "data": {
      "text/html": [
       "<div>                            <div id=\"bcce7fe2-b913-42ea-84bf-ad5af871290f\" class=\"plotly-graph-div\" style=\"height:525px; width:100%;\"></div>            <script type=\"text/javascript\">                require([\"plotly\"], function(Plotly) {                    window.PLOTLYENV=window.PLOTLYENV || {};                                    if (document.getElementById(\"bcce7fe2-b913-42ea-84bf-ad5af871290f\")) {                    Plotly.newPlot(                        \"bcce7fe2-b913-42ea-84bf-ad5af871290f\",                        [{\"alignmentgroup\": \"True\", \"customdata\": [[\"Finland\"], [\"Denmark\"], [\"Switzerland\"], [\"Iceland\"], [\"Netherlands\"], [\"Norway\"], [\"Sweden\"], [\"Luxembourg\"], [\"New Zealand\"], [\"Austria\"], [\"Australia\"], [\"Israel\"], [\"Germany\"], [\"Canada\"], [\"Ireland\"], [\"Costa Rica\"], [\"United Kingdom\"], [\"Czech Republic\"], [\"United States\"], [\"Belgium\"], [\"France\"], [\"Bahrain\"], [\"Malta\"], [\"Taiwan Province of China\"], [\"United Arab Emirates\"], [\"Saudi Arabia\"], [\"Spain\"], [\"Italy\"], [\"Slovenia\"], [\"Guatemala\"], [\"Uruguay\"], [\"Singapore\"], [\"Kosovo\"], [\"Slovakia\"], [\"Brazil\"], [\"Mexico\"], [\"Jamaica\"], [\"Lithuania\"], [\"Cyprus\"], [\"Estonia\"], [\"Panama\"], [\"Uzbekistan\"], [\"Chile\"], [\"Poland\"], [\"Kazakhstan\"], [\"Romania\"], [\"Kuwait\"], [\"Serbia\"], [\"El Salvador\"], [\"Mauritius\"], [\"Latvia\"], [\"Colombia\"], [\"Hungary\"], [\"Thailand\"], [\"Nicaragua\"], [\"Japan\"], [\"Argentina\"], [\"Portugal\"], [\"Honduras\"], [\"Croatia\"], [\"Philippines\"], [\"South Korea\"], [\"Peru\"], [\"Bosnia and Herzegovina\"], [\"Moldova\"], [\"Ecuador\"], [\"Kyrgyzstan\"], [\"Greece\"], [\"Bolivia\"], [\"Mongolia\"], [\"Paraguay\"], [\"Montenegro\"], [\"Dominican Republic\"], [\"North Cyprus\"], [\"Belarus\"], [\"Russia\"], [\"Hong Kong S.A.R. of China\"], [\"Tajikistan\"], [\"Vietnam\"], [\"Libya\"], [\"Malaysia\"], [\"Indonesia\"], [\"Congo (Brazzaville)\"], [\"China\"], [\"Ivory Coast\"], [\"Armenia\"], [\"Nepal\"], [\"Bulgaria\"], [\"Maldives\"], [\"Azerbaijan\"], [\"Cameroon\"], [\"Senegal\"], [\"Albania\"], [\"North Macedonia\"], [\"Ghana\"], [\"Niger\"], [\"Turkmenistan\"], [\"Gambia\"], [\"Benin\"], [\"Laos\"], [\"Bangladesh\"], [\"Guinea\"], [\"South Africa\"], [\"Turkey\"], [\"Pakistan\"], [\"Morocco\"], [\"Venezuela\"], [\"Georgia\"], [\"Algeria\"], [\"Ukraine\"], [\"Iraq\"], [\"Gabon\"], [\"Burkina Faso\"], [\"Cambodia\"], [\"Mozambique\"], [\"Nigeria\"], [\"Mali\"], [\"Iran\"], [\"Uganda\"], [\"Liberia\"], [\"Kenya\"], [\"Tunisia\"], [\"Lebanon\"], [\"Namibia\"], [\"Palestinian Territories\"], [\"Myanmar\"], [\"Jordan\"], [\"Chad\"], [\"Sri Lanka\"], [\"Swaziland\"], [\"Comoros\"], [\"Egypt\"], [\"Ethiopia\"], [\"Mauritania\"], [\"Madagascar\"], [\"Togo\"], [\"Zambia\"], [\"Sierra Leone\"], [\"India\"], [\"Burundi\"], [\"Yemen\"], [\"Tanzania\"], [\"Haiti\"], [\"Malawi\"], [\"Lesotho\"], [\"Botswana\"], [\"Rwanda\"], [\"Zimbabwe\"], [\"Afghanistan\"]], \"hovertemplate\": \"Ladder score=%{x}<br>Regional indicator=%{y}<br>Country name=%{customdata[0]}<extra></extra>\", \"legendgroup\": \"\", \"marker\": {\"color\": \"#636efa\"}, \"name\": \"\", \"notched\": false, \"offsetgroup\": \"\", \"orientation\": \"h\", \"quartilemethod\": \"inclusive\", \"showlegend\": false, \"type\": \"box\", \"x\": [7.842, 7.62, 7.571, 7.554, 7.464, 7.392, 7.363, 7.324, 7.277, 7.268, 7.183, 7.157, 7.155, 7.103, 7.085, 7.069, 7.064, 6.965, 6.951, 6.834, 6.69, 6.647, 6.602, 6.584, 6.561, 6.494, 6.491, 6.483, 6.461, 6.435, 6.431, 6.377, 6.372, 6.331, 6.33, 6.317, 6.309, 6.255, 6.223, 6.189, 6.18, 6.179, 6.172, 6.166, 6.152, 6.14, 6.106, 6.078, 6.061, 6.049, 6.032, 6.012, 5.992, 5.985, 5.972, 5.94, 5.929, 5.929, 5.919, 5.882, 5.88, 5.845, 5.84, 5.813, 5.766, 5.764, 5.744, 5.723, 5.716, 5.677, 5.653, 5.581, 5.545, 5.536, 5.534, 5.477, 5.477, 5.466, 5.411, 5.41, 5.384, 5.345, 5.342, 5.339, 5.306, 5.283, 5.269, 5.266, 5.198, 5.171, 5.142, 5.132, 5.117, 5.101, 5.088, 5.074, 5.066, 5.051, 5.045, 5.03, 5.025, 4.984, 4.956, 4.948, 4.934, 4.918, 4.892, 4.891, 4.887, 4.875, 4.854, 4.852, 4.834, 4.83, 4.794, 4.759, 4.723, 4.721, 4.636, 4.625, 4.607, 4.596, 4.584, 4.574, 4.517, 4.426, 4.395, 4.355, 4.325, 4.308, 4.289, 4.283, 4.275, 4.227, 4.208, 4.107, 4.073, 3.849, 3.819, 3.775, 3.658, 3.623, 3.615, 3.6, 3.512, 3.467, 3.415, 3.145, 2.523], \"x0\": \" \", \"xaxis\": \"x\", \"y\": [\"Western Europe\", \"Western Europe\", \"Western Europe\", \"Western Europe\", \"Western Europe\", \"Western Europe\", \"Western Europe\", \"Western Europe\", \"North America and ANZ\", \"Western Europe\", \"North America and ANZ\", \"Middle East and North Africa\", \"Western Europe\", \"North America and ANZ\", \"Western Europe\", \"Latin America and Caribbean\", \"Western Europe\", \"Central and Eastern Europe\", \"North America and ANZ\", \"Western Europe\", \"Western Europe\", \"Middle East and North Africa\", \"Western Europe\", \"East Asia\", \"Middle East and North Africa\", \"Middle East and North Africa\", \"Western Europe\", \"Western Europe\", \"Central and Eastern Europe\", \"Latin America and Caribbean\", \"Latin America and Caribbean\", \"Southeast Asia\", \"Central and Eastern Europe\", \"Central and Eastern Europe\", \"Latin America and Caribbean\", \"Latin America and Caribbean\", \"Latin America and Caribbean\", \"Central and Eastern Europe\", \"Western Europe\", \"Central and Eastern Europe\", \"Latin America and Caribbean\", \"Commonwealth of Independent States\", \"Latin America and Caribbean\", \"Central and Eastern Europe\", \"Commonwealth of Independent States\", \"Central and Eastern Europe\", \"Middle East and North Africa\", \"Central and Eastern Europe\", \"Latin America and Caribbean\", \"Sub-Saharan Africa\", \"Central and Eastern Europe\", \"Latin America and Caribbean\", \"Central and Eastern Europe\", \"Southeast Asia\", \"Latin America and Caribbean\", \"East Asia\", \"Latin America and Caribbean\", \"Western Europe\", \"Latin America and Caribbean\", \"Central and Eastern Europe\", \"Southeast Asia\", \"East Asia\", \"Latin America and Caribbean\", \"Central and Eastern Europe\", \"Commonwealth of Independent States\", \"Latin America and Caribbean\", \"Commonwealth of Independent States\", \"Western Europe\", \"Latin America and Caribbean\", \"East Asia\", \"Latin America and Caribbean\", \"Central and Eastern Europe\", \"Latin America and Caribbean\", \"Western Europe\", \"Commonwealth of Independent States\", \"Commonwealth of Independent States\", \"East Asia\", \"Commonwealth of Independent States\", \"Southeast Asia\", \"Middle East and North Africa\", \"Southeast Asia\", \"Southeast Asia\", \"Sub-Saharan Africa\", \"East Asia\", \"Sub-Saharan Africa\", \"Commonwealth of Independent States\", \"South Asia\", \"Central and Eastern Europe\", \"South Asia\", \"Commonwealth of Independent States\", \"Sub-Saharan Africa\", \"Sub-Saharan Africa\", \"Central and Eastern Europe\", \"Central and Eastern Europe\", \"Sub-Saharan Africa\", \"Sub-Saharan Africa\", \"Commonwealth of Independent States\", \"Sub-Saharan Africa\", \"Sub-Saharan Africa\", \"Southeast Asia\", \"South Asia\", \"Sub-Saharan Africa\", \"Sub-Saharan Africa\", \"Middle East and North Africa\", \"South Asia\", \"Middle East and North Africa\", \"Latin America and Caribbean\", \"Commonwealth of Independent States\", \"Middle East and North Africa\", \"Commonwealth of Independent States\", \"Middle East and North Africa\", \"Sub-Saharan Africa\", \"Sub-Saharan Africa\", \"Southeast Asia\", \"Sub-Saharan Africa\", \"Sub-Saharan Africa\", \"Sub-Saharan Africa\", \"Middle East and North Africa\", \"Sub-Saharan Africa\", \"Sub-Saharan Africa\", \"Sub-Saharan Africa\", \"Middle East and North Africa\", \"Middle East and North Africa\", \"Sub-Saharan Africa\", \"Middle East and North Africa\", \"Southeast Asia\", \"Middle East and North Africa\", \"Sub-Saharan Africa\", \"South Asia\", \"Sub-Saharan Africa\", \"Sub-Saharan Africa\", \"Middle East and North Africa\", \"Sub-Saharan Africa\", \"Sub-Saharan Africa\", \"Sub-Saharan Africa\", \"Sub-Saharan Africa\", \"Sub-Saharan Africa\", \"Sub-Saharan Africa\", \"South Asia\", \"Sub-Saharan Africa\", \"Middle East and North Africa\", \"Sub-Saharan Africa\", \"Latin America and Caribbean\", \"Sub-Saharan Africa\", \"Sub-Saharan Africa\", \"Sub-Saharan Africa\", \"Sub-Saharan Africa\", \"Sub-Saharan Africa\", \"South Asia\"], \"y0\": \" \", \"yaxis\": \"y\"}],                        {\"boxmode\": \"group\", \"legend\": {\"tracegroupgap\": 0}, \"margin\": {\"t\": 60}, \"template\": {\"data\": {\"bar\": [{\"error_x\": {\"color\": \"#2a3f5f\"}, \"error_y\": {\"color\": \"#2a3f5f\"}, \"marker\": {\"line\": {\"color\": \"#E5ECF6\", \"width\": 0.5}}, \"type\": \"bar\"}], \"barpolar\": [{\"marker\": {\"line\": {\"color\": \"#E5ECF6\", \"width\": 0.5}}, \"type\": \"barpolar\"}], \"carpet\": [{\"aaxis\": {\"endlinecolor\": \"#2a3f5f\", \"gridcolor\": \"white\", \"linecolor\": \"white\", \"minorgridcolor\": \"white\", \"startlinecolor\": \"#2a3f5f\"}, \"baxis\": {\"endlinecolor\": \"#2a3f5f\", \"gridcolor\": \"white\", \"linecolor\": \"white\", \"minorgridcolor\": \"white\", \"startlinecolor\": \"#2a3f5f\"}, \"type\": \"carpet\"}], \"choropleth\": [{\"colorbar\": {\"outlinewidth\": 0, \"ticks\": \"\"}, \"type\": \"choropleth\"}], \"contour\": [{\"colorbar\": {\"outlinewidth\": 0, \"ticks\": \"\"}, \"colorscale\": [[0.0, \"#0d0887\"], [0.1111111111111111, \"#46039f\"], [0.2222222222222222, \"#7201a8\"], [0.3333333333333333, \"#9c179e\"], [0.4444444444444444, \"#bd3786\"], [0.5555555555555556, \"#d8576b\"], [0.6666666666666666, \"#ed7953\"], [0.7777777777777778, \"#fb9f3a\"], [0.8888888888888888, \"#fdca26\"], [1.0, \"#f0f921\"]], \"type\": \"contour\"}], \"contourcarpet\": [{\"colorbar\": {\"outlinewidth\": 0, \"ticks\": \"\"}, \"type\": \"contourcarpet\"}], \"heatmap\": [{\"colorbar\": {\"outlinewidth\": 0, \"ticks\": \"\"}, \"colorscale\": [[0.0, \"#0d0887\"], [0.1111111111111111, \"#46039f\"], [0.2222222222222222, \"#7201a8\"], [0.3333333333333333, \"#9c179e\"], [0.4444444444444444, \"#bd3786\"], [0.5555555555555556, \"#d8576b\"], [0.6666666666666666, \"#ed7953\"], [0.7777777777777778, \"#fb9f3a\"], [0.8888888888888888, \"#fdca26\"], [1.0, \"#f0f921\"]], \"type\": \"heatmap\"}], \"heatmapgl\": [{\"colorbar\": {\"outlinewidth\": 0, \"ticks\": \"\"}, \"colorscale\": [[0.0, \"#0d0887\"], [0.1111111111111111, \"#46039f\"], [0.2222222222222222, \"#7201a8\"], [0.3333333333333333, \"#9c179e\"], [0.4444444444444444, \"#bd3786\"], [0.5555555555555556, \"#d8576b\"], [0.6666666666666666, \"#ed7953\"], [0.7777777777777778, \"#fb9f3a\"], [0.8888888888888888, \"#fdca26\"], [1.0, \"#f0f921\"]], \"type\": \"heatmapgl\"}], \"histogram\": [{\"marker\": {\"colorbar\": {\"outlinewidth\": 0, \"ticks\": \"\"}}, \"type\": \"histogram\"}], \"histogram2d\": [{\"colorbar\": {\"outlinewidth\": 0, \"ticks\": \"\"}, \"colorscale\": [[0.0, \"#0d0887\"], [0.1111111111111111, \"#46039f\"], [0.2222222222222222, \"#7201a8\"], [0.3333333333333333, \"#9c179e\"], [0.4444444444444444, \"#bd3786\"], [0.5555555555555556, \"#d8576b\"], [0.6666666666666666, \"#ed7953\"], [0.7777777777777778, \"#fb9f3a\"], [0.8888888888888888, \"#fdca26\"], [1.0, \"#f0f921\"]], \"type\": \"histogram2d\"}], \"histogram2dcontour\": [{\"colorbar\": {\"outlinewidth\": 0, \"ticks\": \"\"}, \"colorscale\": [[0.0, \"#0d0887\"], [0.1111111111111111, \"#46039f\"], [0.2222222222222222, \"#7201a8\"], [0.3333333333333333, \"#9c179e\"], [0.4444444444444444, \"#bd3786\"], [0.5555555555555556, \"#d8576b\"], [0.6666666666666666, \"#ed7953\"], [0.7777777777777778, \"#fb9f3a\"], [0.8888888888888888, \"#fdca26\"], [1.0, \"#f0f921\"]], \"type\": \"histogram2dcontour\"}], \"mesh3d\": [{\"colorbar\": {\"outlinewidth\": 0, \"ticks\": \"\"}, \"type\": \"mesh3d\"}], \"parcoords\": [{\"line\": {\"colorbar\": {\"outlinewidth\": 0, \"ticks\": \"\"}}, \"type\": \"parcoords\"}], \"pie\": [{\"automargin\": true, \"type\": \"pie\"}], \"scatter\": [{\"marker\": {\"colorbar\": {\"outlinewidth\": 0, \"ticks\": \"\"}}, \"type\": \"scatter\"}], \"scatter3d\": [{\"line\": {\"colorbar\": {\"outlinewidth\": 0, \"ticks\": \"\"}}, \"marker\": {\"colorbar\": {\"outlinewidth\": 0, \"ticks\": \"\"}}, \"type\": \"scatter3d\"}], \"scattercarpet\": [{\"marker\": {\"colorbar\": {\"outlinewidth\": 0, \"ticks\": \"\"}}, \"type\": \"scattercarpet\"}], \"scattergeo\": [{\"marker\": {\"colorbar\": {\"outlinewidth\": 0, \"ticks\": \"\"}}, \"type\": \"scattergeo\"}], \"scattergl\": [{\"marker\": {\"colorbar\": {\"outlinewidth\": 0, \"ticks\": \"\"}}, \"type\": \"scattergl\"}], \"scattermapbox\": [{\"marker\": {\"colorbar\": {\"outlinewidth\": 0, \"ticks\": \"\"}}, \"type\": \"scattermapbox\"}], \"scatterpolar\": [{\"marker\": {\"colorbar\": {\"outlinewidth\": 0, \"ticks\": \"\"}}, \"type\": \"scatterpolar\"}], \"scatterpolargl\": [{\"marker\": {\"colorbar\": {\"outlinewidth\": 0, \"ticks\": \"\"}}, \"type\": \"scatterpolargl\"}], \"scatterternary\": [{\"marker\": {\"colorbar\": {\"outlinewidth\": 0, \"ticks\": \"\"}}, \"type\": \"scatterternary\"}], \"surface\": [{\"colorbar\": {\"outlinewidth\": 0, \"ticks\": \"\"}, \"colorscale\": [[0.0, \"#0d0887\"], [0.1111111111111111, \"#46039f\"], [0.2222222222222222, \"#7201a8\"], [0.3333333333333333, \"#9c179e\"], [0.4444444444444444, \"#bd3786\"], [0.5555555555555556, \"#d8576b\"], [0.6666666666666666, \"#ed7953\"], [0.7777777777777778, \"#fb9f3a\"], [0.8888888888888888, \"#fdca26\"], [1.0, \"#f0f921\"]], \"type\": \"surface\"}], \"table\": [{\"cells\": {\"fill\": {\"color\": \"#EBF0F8\"}, \"line\": {\"color\": \"white\"}}, \"header\": {\"fill\": {\"color\": \"#C8D4E3\"}, \"line\": {\"color\": \"white\"}}, \"type\": \"table\"}]}, \"layout\": {\"annotationdefaults\": {\"arrowcolor\": \"#2a3f5f\", \"arrowhead\": 0, \"arrowwidth\": 1}, \"autotypenumbers\": \"strict\", \"coloraxis\": {\"colorbar\": {\"outlinewidth\": 0, \"ticks\": \"\"}}, \"colorscale\": {\"diverging\": [[0, \"#8e0152\"], [0.1, \"#c51b7d\"], [0.2, \"#de77ae\"], [0.3, \"#f1b6da\"], [0.4, \"#fde0ef\"], [0.5, \"#f7f7f7\"], [0.6, \"#e6f5d0\"], [0.7, \"#b8e186\"], [0.8, \"#7fbc41\"], [0.9, \"#4d9221\"], [1, \"#276419\"]], \"sequential\": [[0.0, \"#0d0887\"], [0.1111111111111111, \"#46039f\"], [0.2222222222222222, \"#7201a8\"], [0.3333333333333333, \"#9c179e\"], [0.4444444444444444, \"#bd3786\"], [0.5555555555555556, \"#d8576b\"], [0.6666666666666666, \"#ed7953\"], [0.7777777777777778, \"#fb9f3a\"], [0.8888888888888888, \"#fdca26\"], [1.0, \"#f0f921\"]], \"sequentialminus\": [[0.0, \"#0d0887\"], [0.1111111111111111, \"#46039f\"], [0.2222222222222222, \"#7201a8\"], [0.3333333333333333, \"#9c179e\"], [0.4444444444444444, \"#bd3786\"], [0.5555555555555556, \"#d8576b\"], [0.6666666666666666, \"#ed7953\"], [0.7777777777777778, \"#fb9f3a\"], [0.8888888888888888, \"#fdca26\"], [1.0, \"#f0f921\"]]}, \"colorway\": [\"#636efa\", \"#EF553B\", \"#00cc96\", \"#ab63fa\", \"#FFA15A\", \"#19d3f3\", \"#FF6692\", \"#B6E880\", \"#FF97FF\", \"#FECB52\"], \"font\": {\"color\": \"#2a3f5f\"}, \"geo\": {\"bgcolor\": \"white\", \"lakecolor\": \"white\", \"landcolor\": \"#E5ECF6\", \"showlakes\": true, \"showland\": true, \"subunitcolor\": \"white\"}, \"hoverlabel\": {\"align\": \"left\"}, \"hovermode\": \"closest\", \"mapbox\": {\"style\": \"light\"}, \"paper_bgcolor\": \"white\", \"plot_bgcolor\": \"#E5ECF6\", \"polar\": {\"angularaxis\": {\"gridcolor\": \"white\", \"linecolor\": \"white\", \"ticks\": \"\"}, \"bgcolor\": \"#E5ECF6\", \"radialaxis\": {\"gridcolor\": \"white\", \"linecolor\": \"white\", \"ticks\": \"\"}}, \"scene\": {\"xaxis\": {\"backgroundcolor\": \"#E5ECF6\", \"gridcolor\": \"white\", \"gridwidth\": 2, \"linecolor\": \"white\", \"showbackground\": true, \"ticks\": \"\", \"zerolinecolor\": \"white\"}, \"yaxis\": {\"backgroundcolor\": \"#E5ECF6\", \"gridcolor\": \"white\", \"gridwidth\": 2, \"linecolor\": \"white\", \"showbackground\": true, \"ticks\": \"\", \"zerolinecolor\": \"white\"}, \"zaxis\": {\"backgroundcolor\": \"#E5ECF6\", \"gridcolor\": \"white\", \"gridwidth\": 2, \"linecolor\": \"white\", \"showbackground\": true, \"ticks\": \"\", \"zerolinecolor\": \"white\"}}, \"shapedefaults\": {\"line\": {\"color\": \"#2a3f5f\"}}, \"ternary\": {\"aaxis\": {\"gridcolor\": \"white\", \"linecolor\": \"white\", \"ticks\": \"\"}, \"baxis\": {\"gridcolor\": \"white\", \"linecolor\": \"white\", \"ticks\": \"\"}, \"bgcolor\": \"#E5ECF6\", \"caxis\": {\"gridcolor\": \"white\", \"linecolor\": \"white\", \"ticks\": \"\"}}, \"title\": {\"x\": 0.05}, \"xaxis\": {\"automargin\": true, \"gridcolor\": \"white\", \"linecolor\": \"white\", \"ticks\": \"\", \"title\": {\"standoff\": 15}, \"zerolinecolor\": \"white\", \"zerolinewidth\": 2}, \"yaxis\": {\"automargin\": true, \"gridcolor\": \"white\", \"linecolor\": \"white\", \"ticks\": \"\", \"title\": {\"standoff\": 15}, \"zerolinecolor\": \"white\", \"zerolinewidth\": 2}}}, \"xaxis\": {\"anchor\": \"y\", \"domain\": [0.0, 1.0], \"title\": {\"text\": \"Ladder score\"}}, \"yaxis\": {\"anchor\": \"x\", \"domain\": [0.0, 1.0], \"title\": {\"text\": \"Regional indicator\"}}},                        {\"responsive\": true}                    ).then(function(){\n",
       "                            \n",
       "var gd = document.getElementById('bcce7fe2-b913-42ea-84bf-ad5af871290f');\n",
       "var x = new MutationObserver(function (mutations, observer) {{\n",
       "        var display = window.getComputedStyle(gd).display;\n",
       "        if (!display || display === 'none') {{\n",
       "            console.log([gd, 'removed!']);\n",
       "            Plotly.purge(gd);\n",
       "            observer.disconnect();\n",
       "        }}\n",
       "}});\n",
       "\n",
       "// Listen for the removal of the full notebook cells\n",
       "var notebookContainer = gd.closest('#notebook-container');\n",
       "if (notebookContainer) {{\n",
       "    x.observe(notebookContainer, {childList: true});\n",
       "}}\n",
       "\n",
       "// Listen for the clearing of the current output cell\n",
       "var outputEl = gd.closest('.output');\n",
       "if (outputEl) {{\n",
       "    x.observe(outputEl, {childList: true});\n",
       "}}\n",
       "\n",
       "                        })                };                });            </script>        </div>"
      ]
     },
     "metadata": {},
     "output_type": "display_data"
    }
   ],
   "source": [
    "fig = px.box(df1_2021, x= 'Ladder score', y='Regional indicator',hover_data = df1_2021[['Regional indicator','Country name']])\n",
    "fig.update_traces(quartilemethod=\"inclusive\")\n",
    "fig.show()"
   ]
  },
  {
   "cell_type": "markdown",
   "id": "thermal-acrobat",
   "metadata": {
    "papermill": {
     "duration": 0.04875,
     "end_time": "2021-07-21T09:31:26.704634",
     "exception": false,
     "start_time": "2021-07-21T09:31:26.655884",
     "status": "completed"
    },
    "tags": []
   },
   "source": [
    "In the boxplot, based on the happines score distributions on the regions, several outliers were seen in the:\n",
    "\n",
    "- Latin America and Caribbean\n",
    "- Central and Eastern Europe"
   ]
  },
  {
   "cell_type": "markdown",
   "id": "consistent-abuse",
   "metadata": {
    "papermill": {
     "duration": 0.048133,
     "end_time": "2021-07-21T09:31:26.801594",
     "exception": false,
     "start_time": "2021-07-21T09:31:26.753461",
     "status": "completed"
    },
    "tags": []
   },
   "source": [
    "- After this point, let's look in detail to the Central and Eastern Europe part of the dataset."
   ]
  },
  {
   "cell_type": "code",
   "execution_count": 17,
   "id": "metric-agriculture",
   "metadata": {
    "_kg_hide-input": true,
    "execution": {
     "iopub.execute_input": "2021-07-21T09:31:26.924869Z",
     "iopub.status.busy": "2021-07-21T09:31:26.902046Z",
     "iopub.status.idle": "2021-07-21T09:31:26.929240Z",
     "shell.execute_reply": "2021-07-21T09:31:26.928591Z",
     "shell.execute_reply.started": "2021-07-17T11:35:52.097986Z"
    },
    "papermill": {
     "duration": 0.07921,
     "end_time": "2021-07-21T09:31:26.929406",
     "exception": false,
     "start_time": "2021-07-21T09:31:26.850196",
     "status": "completed"
    },
    "tags": []
   },
   "outputs": [
    {
     "data": {
      "text/html": [
       "<div>\n",
       "<style scoped>\n",
       "    .dataframe tbody tr th:only-of-type {\n",
       "        vertical-align: middle;\n",
       "    }\n",
       "\n",
       "    .dataframe tbody tr th {\n",
       "        vertical-align: top;\n",
       "    }\n",
       "\n",
       "    .dataframe thead th {\n",
       "        text-align: right;\n",
       "    }\n",
       "</style>\n",
       "<table border=\"1\" class=\"dataframe\">\n",
       "  <thead>\n",
       "    <tr style=\"text-align: right;\">\n",
       "      <th></th>\n",
       "      <th>Country name</th>\n",
       "      <th>Regional indicator</th>\n",
       "      <th>Ladder score</th>\n",
       "      <th>Logged GDP per capita</th>\n",
       "      <th>Social support</th>\n",
       "      <th>Healthy life expectancy</th>\n",
       "      <th>Freedom to make life choices</th>\n",
       "      <th>Generosity</th>\n",
       "      <th>Perceptions of corruption</th>\n",
       "    </tr>\n",
       "  </thead>\n",
       "  <tbody>\n",
       "    <tr>\n",
       "      <th>17</th>\n",
       "      <td>Czech Republic</td>\n",
       "      <td>Central and Eastern Europe</td>\n",
       "      <td>6.965</td>\n",
       "      <td>10.556</td>\n",
       "      <td>0.947</td>\n",
       "      <td>70.807</td>\n",
       "      <td>0.858</td>\n",
       "      <td>-0.208</td>\n",
       "      <td>0.868</td>\n",
       "    </tr>\n",
       "    <tr>\n",
       "      <th>28</th>\n",
       "      <td>Slovenia</td>\n",
       "      <td>Central and Eastern Europe</td>\n",
       "      <td>6.461</td>\n",
       "      <td>10.529</td>\n",
       "      <td>0.948</td>\n",
       "      <td>71.400</td>\n",
       "      <td>0.949</td>\n",
       "      <td>-0.101</td>\n",
       "      <td>0.806</td>\n",
       "    </tr>\n",
       "    <tr>\n",
       "      <th>32</th>\n",
       "      <td>Kosovo</td>\n",
       "      <td>Central and Eastern Europe</td>\n",
       "      <td>6.372</td>\n",
       "      <td>9.318</td>\n",
       "      <td>0.821</td>\n",
       "      <td>63.813</td>\n",
       "      <td>0.869</td>\n",
       "      <td>0.257</td>\n",
       "      <td>0.917</td>\n",
       "    </tr>\n",
       "    <tr>\n",
       "      <th>33</th>\n",
       "      <td>Slovakia</td>\n",
       "      <td>Central and Eastern Europe</td>\n",
       "      <td>6.331</td>\n",
       "      <td>10.369</td>\n",
       "      <td>0.936</td>\n",
       "      <td>69.201</td>\n",
       "      <td>0.766</td>\n",
       "      <td>-0.124</td>\n",
       "      <td>0.911</td>\n",
       "    </tr>\n",
       "    <tr>\n",
       "      <th>37</th>\n",
       "      <td>Lithuania</td>\n",
       "      <td>Central and Eastern Europe</td>\n",
       "      <td>6.255</td>\n",
       "      <td>10.499</td>\n",
       "      <td>0.935</td>\n",
       "      <td>67.906</td>\n",
       "      <td>0.773</td>\n",
       "      <td>-0.203</td>\n",
       "      <td>0.826</td>\n",
       "    </tr>\n",
       "    <tr>\n",
       "      <th>39</th>\n",
       "      <td>Estonia</td>\n",
       "      <td>Central and Eastern Europe</td>\n",
       "      <td>6.189</td>\n",
       "      <td>10.481</td>\n",
       "      <td>0.941</td>\n",
       "      <td>68.800</td>\n",
       "      <td>0.909</td>\n",
       "      <td>-0.106</td>\n",
       "      <td>0.527</td>\n",
       "    </tr>\n",
       "    <tr>\n",
       "      <th>43</th>\n",
       "      <td>Poland</td>\n",
       "      <td>Central and Eastern Europe</td>\n",
       "      <td>6.166</td>\n",
       "      <td>10.382</td>\n",
       "      <td>0.898</td>\n",
       "      <td>69.702</td>\n",
       "      <td>0.841</td>\n",
       "      <td>-0.165</td>\n",
       "      <td>0.735</td>\n",
       "    </tr>\n",
       "    <tr>\n",
       "      <th>45</th>\n",
       "      <td>Romania</td>\n",
       "      <td>Central and Eastern Europe</td>\n",
       "      <td>6.140</td>\n",
       "      <td>10.284</td>\n",
       "      <td>0.832</td>\n",
       "      <td>67.355</td>\n",
       "      <td>0.845</td>\n",
       "      <td>-0.219</td>\n",
       "      <td>0.938</td>\n",
       "    </tr>\n",
       "    <tr>\n",
       "      <th>47</th>\n",
       "      <td>Serbia</td>\n",
       "      <td>Central and Eastern Europe</td>\n",
       "      <td>6.078</td>\n",
       "      <td>9.787</td>\n",
       "      <td>0.873</td>\n",
       "      <td>68.600</td>\n",
       "      <td>0.778</td>\n",
       "      <td>0.002</td>\n",
       "      <td>0.835</td>\n",
       "    </tr>\n",
       "    <tr>\n",
       "      <th>50</th>\n",
       "      <td>Latvia</td>\n",
       "      <td>Central and Eastern Europe</td>\n",
       "      <td>6.032</td>\n",
       "      <td>10.315</td>\n",
       "      <td>0.927</td>\n",
       "      <td>67.100</td>\n",
       "      <td>0.715</td>\n",
       "      <td>-0.162</td>\n",
       "      <td>0.800</td>\n",
       "    </tr>\n",
       "    <tr>\n",
       "      <th>52</th>\n",
       "      <td>Hungary</td>\n",
       "      <td>Central and Eastern Europe</td>\n",
       "      <td>5.992</td>\n",
       "      <td>10.358</td>\n",
       "      <td>0.943</td>\n",
       "      <td>68.000</td>\n",
       "      <td>0.755</td>\n",
       "      <td>-0.186</td>\n",
       "      <td>0.876</td>\n",
       "    </tr>\n",
       "    <tr>\n",
       "      <th>59</th>\n",
       "      <td>Croatia</td>\n",
       "      <td>Central and Eastern Europe</td>\n",
       "      <td>5.882</td>\n",
       "      <td>10.217</td>\n",
       "      <td>0.924</td>\n",
       "      <td>70.799</td>\n",
       "      <td>0.754</td>\n",
       "      <td>-0.118</td>\n",
       "      <td>0.939</td>\n",
       "    </tr>\n",
       "    <tr>\n",
       "      <th>63</th>\n",
       "      <td>Bosnia and Herzegovina</td>\n",
       "      <td>Central and Eastern Europe</td>\n",
       "      <td>5.813</td>\n",
       "      <td>9.590</td>\n",
       "      <td>0.870</td>\n",
       "      <td>68.098</td>\n",
       "      <td>0.706</td>\n",
       "      <td>0.113</td>\n",
       "      <td>0.931</td>\n",
       "    </tr>\n",
       "    <tr>\n",
       "      <th>71</th>\n",
       "      <td>Montenegro</td>\n",
       "      <td>Central and Eastern Europe</td>\n",
       "      <td>5.581</td>\n",
       "      <td>9.940</td>\n",
       "      <td>0.858</td>\n",
       "      <td>68.699</td>\n",
       "      <td>0.708</td>\n",
       "      <td>-0.034</td>\n",
       "      <td>0.812</td>\n",
       "    </tr>\n",
       "    <tr>\n",
       "      <th>87</th>\n",
       "      <td>Bulgaria</td>\n",
       "      <td>Central and Eastern Europe</td>\n",
       "      <td>5.266</td>\n",
       "      <td>10.016</td>\n",
       "      <td>0.931</td>\n",
       "      <td>67.000</td>\n",
       "      <td>0.788</td>\n",
       "      <td>-0.096</td>\n",
       "      <td>0.932</td>\n",
       "    </tr>\n",
       "    <tr>\n",
       "      <th>92</th>\n",
       "      <td>Albania</td>\n",
       "      <td>Central and Eastern Europe</td>\n",
       "      <td>5.117</td>\n",
       "      <td>9.520</td>\n",
       "      <td>0.697</td>\n",
       "      <td>68.999</td>\n",
       "      <td>0.785</td>\n",
       "      <td>-0.030</td>\n",
       "      <td>0.901</td>\n",
       "    </tr>\n",
       "    <tr>\n",
       "      <th>93</th>\n",
       "      <td>North Macedonia</td>\n",
       "      <td>Central and Eastern Europe</td>\n",
       "      <td>5.101</td>\n",
       "      <td>9.693</td>\n",
       "      <td>0.805</td>\n",
       "      <td>65.474</td>\n",
       "      <td>0.751</td>\n",
       "      <td>0.038</td>\n",
       "      <td>0.905</td>\n",
       "    </tr>\n",
       "  </tbody>\n",
       "</table>\n",
       "</div>"
      ],
      "text/plain": [
       "              Country name          Regional indicator  Ladder score  \\\n",
       "17          Czech Republic  Central and Eastern Europe         6.965   \n",
       "28                Slovenia  Central and Eastern Europe         6.461   \n",
       "32                  Kosovo  Central and Eastern Europe         6.372   \n",
       "33                Slovakia  Central and Eastern Europe         6.331   \n",
       "37               Lithuania  Central and Eastern Europe         6.255   \n",
       "39                 Estonia  Central and Eastern Europe         6.189   \n",
       "43                  Poland  Central and Eastern Europe         6.166   \n",
       "45                 Romania  Central and Eastern Europe         6.140   \n",
       "47                  Serbia  Central and Eastern Europe         6.078   \n",
       "50                  Latvia  Central and Eastern Europe         6.032   \n",
       "52                 Hungary  Central and Eastern Europe         5.992   \n",
       "59                 Croatia  Central and Eastern Europe         5.882   \n",
       "63  Bosnia and Herzegovina  Central and Eastern Europe         5.813   \n",
       "71              Montenegro  Central and Eastern Europe         5.581   \n",
       "87                Bulgaria  Central and Eastern Europe         5.266   \n",
       "92                 Albania  Central and Eastern Europe         5.117   \n",
       "93         North Macedonia  Central and Eastern Europe         5.101   \n",
       "\n",
       "    Logged GDP per capita  Social support  Healthy life expectancy  \\\n",
       "17                 10.556           0.947                   70.807   \n",
       "28                 10.529           0.948                   71.400   \n",
       "32                  9.318           0.821                   63.813   \n",
       "33                 10.369           0.936                   69.201   \n",
       "37                 10.499           0.935                   67.906   \n",
       "39                 10.481           0.941                   68.800   \n",
       "43                 10.382           0.898                   69.702   \n",
       "45                 10.284           0.832                   67.355   \n",
       "47                  9.787           0.873                   68.600   \n",
       "50                 10.315           0.927                   67.100   \n",
       "52                 10.358           0.943                   68.000   \n",
       "59                 10.217           0.924                   70.799   \n",
       "63                  9.590           0.870                   68.098   \n",
       "71                  9.940           0.858                   68.699   \n",
       "87                 10.016           0.931                   67.000   \n",
       "92                  9.520           0.697                   68.999   \n",
       "93                  9.693           0.805                   65.474   \n",
       "\n",
       "    Freedom to make life choices  Generosity  Perceptions of corruption  \n",
       "17                         0.858      -0.208                      0.868  \n",
       "28                         0.949      -0.101                      0.806  \n",
       "32                         0.869       0.257                      0.917  \n",
       "33                         0.766      -0.124                      0.911  \n",
       "37                         0.773      -0.203                      0.826  \n",
       "39                         0.909      -0.106                      0.527  \n",
       "43                         0.841      -0.165                      0.735  \n",
       "45                         0.845      -0.219                      0.938  \n",
       "47                         0.778       0.002                      0.835  \n",
       "50                         0.715      -0.162                      0.800  \n",
       "52                         0.755      -0.186                      0.876  \n",
       "59                         0.754      -0.118                      0.939  \n",
       "63                         0.706       0.113                      0.931  \n",
       "71                         0.708      -0.034                      0.812  \n",
       "87                         0.788      -0.096                      0.932  \n",
       "92                         0.785      -0.030                      0.901  \n",
       "93                         0.751       0.038                      0.905  "
      ]
     },
     "execution_count": 17,
     "metadata": {},
     "output_type": "execute_result"
    }
   ],
   "source": [
    "center_east_europe = df1_2021[df1_2021['Regional indicator']=='Central and Eastern Europe']\n",
    "\n",
    "center_east_europe"
   ]
  },
  {
   "cell_type": "markdown",
   "id": "final-sampling",
   "metadata": {
    "papermill": {
     "duration": 0.049154,
     "end_time": "2021-07-21T09:31:27.028454",
     "exception": false,
     "start_time": "2021-07-21T09:31:26.979300",
     "status": "completed"
    },
    "tags": []
   },
   "source": [
    "- Let's see how correlated the variables in Central and Eastern Europe."
   ]
  },
  {
   "cell_type": "code",
   "execution_count": 18,
   "id": "particular-console",
   "metadata": {
    "_kg_hide-input": true,
    "execution": {
     "iopub.execute_input": "2021-07-21T09:31:27.141481Z",
     "iopub.status.busy": "2021-07-21T09:31:27.130946Z",
     "iopub.status.idle": "2021-07-21T09:31:27.145751Z",
     "shell.execute_reply": "2021-07-21T09:31:27.145224Z",
     "shell.execute_reply.started": "2021-07-17T11:35:52.121849Z"
    },
    "papermill": {
     "duration": 0.068337,
     "end_time": "2021-07-21T09:31:27.145889",
     "exception": false,
     "start_time": "2021-07-21T09:31:27.077552",
     "status": "completed"
    },
    "tags": []
   },
   "outputs": [
    {
     "data": {
      "text/html": [
       "<div>\n",
       "<style scoped>\n",
       "    .dataframe tbody tr th:only-of-type {\n",
       "        vertical-align: middle;\n",
       "    }\n",
       "\n",
       "    .dataframe tbody tr th {\n",
       "        vertical-align: top;\n",
       "    }\n",
       "\n",
       "    .dataframe thead th {\n",
       "        text-align: right;\n",
       "    }\n",
       "</style>\n",
       "<table border=\"1\" class=\"dataframe\">\n",
       "  <thead>\n",
       "    <tr style=\"text-align: right;\">\n",
       "      <th></th>\n",
       "      <th>Ladder score</th>\n",
       "      <th>Logged GDP per capita</th>\n",
       "      <th>Social support</th>\n",
       "      <th>Healthy life expectancy</th>\n",
       "      <th>Freedom to make life choices</th>\n",
       "      <th>Generosity</th>\n",
       "      <th>Perceptions of corruption</th>\n",
       "    </tr>\n",
       "  </thead>\n",
       "  <tbody>\n",
       "    <tr>\n",
       "      <th>Ladder score</th>\n",
       "      <td>1.000000</td>\n",
       "      <td>0.560664</td>\n",
       "      <td>0.582957</td>\n",
       "      <td>0.333319</td>\n",
       "      <td>0.518679</td>\n",
       "      <td>-0.276712</td>\n",
       "      <td>-0.245990</td>\n",
       "    </tr>\n",
       "    <tr>\n",
       "      <th>Logged GDP per capita</th>\n",
       "      <td>0.560664</td>\n",
       "      <td>1.000000</td>\n",
       "      <td>0.775892</td>\n",
       "      <td>0.597408</td>\n",
       "      <td>0.318199</td>\n",
       "      <td>-0.881543</td>\n",
       "      <td>-0.428930</td>\n",
       "    </tr>\n",
       "    <tr>\n",
       "      <th>Social support</th>\n",
       "      <td>0.582957</td>\n",
       "      <td>0.775892</td>\n",
       "      <td>1.000000</td>\n",
       "      <td>0.389284</td>\n",
       "      <td>0.158672</td>\n",
       "      <td>-0.507258</td>\n",
       "      <td>-0.318341</td>\n",
       "    </tr>\n",
       "    <tr>\n",
       "      <th>Healthy life expectancy</th>\n",
       "      <td>0.333319</td>\n",
       "      <td>0.597408</td>\n",
       "      <td>0.389284</td>\n",
       "      <td>1.000000</td>\n",
       "      <td>0.217689</td>\n",
       "      <td>-0.550233</td>\n",
       "      <td>-0.230517</td>\n",
       "    </tr>\n",
       "    <tr>\n",
       "      <th>Freedom to make life choices</th>\n",
       "      <td>0.518679</td>\n",
       "      <td>0.318199</td>\n",
       "      <td>0.158672</td>\n",
       "      <td>0.217689</td>\n",
       "      <td>1.000000</td>\n",
       "      <td>-0.084180</td>\n",
       "      <td>-0.410780</td>\n",
       "    </tr>\n",
       "    <tr>\n",
       "      <th>Generosity</th>\n",
       "      <td>-0.276712</td>\n",
       "      <td>-0.881543</td>\n",
       "      <td>-0.507258</td>\n",
       "      <td>-0.550233</td>\n",
       "      <td>-0.084180</td>\n",
       "      <td>1.000000</td>\n",
       "      <td>0.220205</td>\n",
       "    </tr>\n",
       "    <tr>\n",
       "      <th>Perceptions of corruption</th>\n",
       "      <td>-0.245990</td>\n",
       "      <td>-0.428930</td>\n",
       "      <td>-0.318341</td>\n",
       "      <td>-0.230517</td>\n",
       "      <td>-0.410780</td>\n",
       "      <td>0.220205</td>\n",
       "      <td>1.000000</td>\n",
       "    </tr>\n",
       "  </tbody>\n",
       "</table>\n",
       "</div>"
      ],
      "text/plain": [
       "                              Ladder score  Logged GDP per capita  \\\n",
       "Ladder score                      1.000000               0.560664   \n",
       "Logged GDP per capita             0.560664               1.000000   \n",
       "Social support                    0.582957               0.775892   \n",
       "Healthy life expectancy           0.333319               0.597408   \n",
       "Freedom to make life choices      0.518679               0.318199   \n",
       "Generosity                       -0.276712              -0.881543   \n",
       "Perceptions of corruption        -0.245990              -0.428930   \n",
       "\n",
       "                              Social support  Healthy life expectancy  \\\n",
       "Ladder score                        0.582957                 0.333319   \n",
       "Logged GDP per capita               0.775892                 0.597408   \n",
       "Social support                      1.000000                 0.389284   \n",
       "Healthy life expectancy             0.389284                 1.000000   \n",
       "Freedom to make life choices        0.158672                 0.217689   \n",
       "Generosity                         -0.507258                -0.550233   \n",
       "Perceptions of corruption          -0.318341                -0.230517   \n",
       "\n",
       "                              Freedom to make life choices  Generosity  \\\n",
       "Ladder score                                      0.518679   -0.276712   \n",
       "Logged GDP per capita                             0.318199   -0.881543   \n",
       "Social support                                    0.158672   -0.507258   \n",
       "Healthy life expectancy                           0.217689   -0.550233   \n",
       "Freedom to make life choices                      1.000000   -0.084180   \n",
       "Generosity                                       -0.084180    1.000000   \n",
       "Perceptions of corruption                        -0.410780    0.220205   \n",
       "\n",
       "                              Perceptions of corruption  \n",
       "Ladder score                                  -0.245990  \n",
       "Logged GDP per capita                         -0.428930  \n",
       "Social support                                -0.318341  \n",
       "Healthy life expectancy                       -0.230517  \n",
       "Freedom to make life choices                  -0.410780  \n",
       "Generosity                                     0.220205  \n",
       "Perceptions of corruption                      1.000000  "
      ]
     },
     "execution_count": 18,
     "metadata": {},
     "output_type": "execute_result"
    }
   ],
   "source": [
    "center_east_europe.corr()"
   ]
  },
  {
   "cell_type": "markdown",
   "id": "settled-electron",
   "metadata": {
    "papermill": {
     "duration": 0.049732,
     "end_time": "2021-07-21T09:31:27.245184",
     "exception": false,
     "start_time": "2021-07-21T09:31:27.195452",
     "status": "completed"
    },
    "tags": []
   },
   "source": [
    "Even though some similarities can be found with the whole 2021 Happines Score correlation matrix, happiness score's correlation with the other variables in Central and Eastern Europe is considerably lower than whole dataset correlation matrix results."
   ]
  },
  {
   "cell_type": "code",
   "execution_count": 19,
   "id": "polar-fence",
   "metadata": {
    "_kg_hide-input": true,
    "execution": {
     "iopub.execute_input": "2021-07-21T09:31:27.351058Z",
     "iopub.status.busy": "2021-07-21T09:31:27.350447Z",
     "iopub.status.idle": "2021-07-21T09:31:27.360354Z",
     "shell.execute_reply": "2021-07-21T09:31:27.360913Z",
     "shell.execute_reply.started": "2021-07-17T11:35:52.140032Z"
    },
    "papermill": {
     "duration": 0.066005,
     "end_time": "2021-07-21T09:31:27.361071",
     "exception": false,
     "start_time": "2021-07-21T09:31:27.295066",
     "status": "completed"
    },
    "tags": []
   },
   "outputs": [
    {
     "data": {
      "text/html": [
       "<div>                            <div id=\"0b04780c-ae2c-4d74-9c84-34c20cbd5ab1\" class=\"plotly-graph-div\" style=\"height:525px; width:100%;\"></div>            <script type=\"text/javascript\">                require([\"plotly\"], function(Plotly) {                    window.PLOTLYENV=window.PLOTLYENV || {};                                    if (document.getElementById(\"0b04780c-ae2c-4d74-9c84-34c20cbd5ab1\")) {                    Plotly.newPlot(                        \"0b04780c-ae2c-4d74-9c84-34c20cbd5ab1\",                        [{\"colorscale\": [[0.0, \"rgb(75, 41, 145)\"], [0.16666666666666666, \"rgb(135, 44, 162)\"], [0.3333333333333333, \"rgb(192, 54, 157)\"], [0.5, \"rgb(234, 79, 136)\"], [0.6666666666666666, \"rgb(250, 120, 118)\"], [0.8333333333333334, \"rgb(246, 169, 122)\"], [1.0, \"rgb(237, 217, 163)\"]], \"type\": \"heatmap\", \"x\": [\"Ladder score\", \"Logged GDP per capita\", \"Social support\", \"Healthy life expectancy\", \"Freedom to make life choices\", \"Generosity\", \"Perceptions of corruption\"], \"y\": [\"Ladder score\", \"Logged GDP per capita\", \"Social support\", \"Healthy life expectancy\", \"Freedom to make life choices\", \"Generosity\", \"Perceptions of corruption\"], \"z\": [[1.0, 0.5606635747795585, 0.5829568664183364, 0.33331888561931805, 0.518679393685893, -0.2767116942030342, -0.24599045658333585], [0.5606635747795585, 1.0, 0.7758923601764055, 0.5974084681292628, 0.3181994477029957, -0.8815432806367062, -0.428930317481165], [0.5829568664183364, 0.7758923601764055, 1.0, 0.3892841317471498, 0.15867213872191452, -0.5072582217754645, -0.31834136852732187], [0.33331888561931805, 0.5974084681292628, 0.3892841317471498, 1.0, 0.21768874899077878, -0.5502326074497369, -0.2305173106759699], [0.518679393685893, 0.3181994477029957, 0.15867213872191452, 0.21768874899077878, 1.0, -0.08417978825138789, -0.4107797294868441], [-0.2767116942030342, -0.8815432806367062, -0.5072582217754645, -0.5502326074497369, -0.08417978825138789, 1.0, 0.22020462358496418], [-0.24599045658333585, -0.428930317481165, -0.31834136852732187, -0.2305173106759699, -0.4107797294868441, 0.22020462358496418, 1.0]]}],                        {\"template\": {\"data\": {\"bar\": [{\"error_x\": {\"color\": \"#2a3f5f\"}, \"error_y\": {\"color\": \"#2a3f5f\"}, \"marker\": {\"line\": {\"color\": \"#E5ECF6\", \"width\": 0.5}}, \"type\": \"bar\"}], \"barpolar\": [{\"marker\": {\"line\": {\"color\": \"#E5ECF6\", \"width\": 0.5}}, \"type\": \"barpolar\"}], \"carpet\": [{\"aaxis\": {\"endlinecolor\": \"#2a3f5f\", \"gridcolor\": \"white\", \"linecolor\": \"white\", \"minorgridcolor\": \"white\", \"startlinecolor\": \"#2a3f5f\"}, \"baxis\": {\"endlinecolor\": \"#2a3f5f\", \"gridcolor\": \"white\", \"linecolor\": \"white\", \"minorgridcolor\": \"white\", \"startlinecolor\": \"#2a3f5f\"}, \"type\": \"carpet\"}], \"choropleth\": [{\"colorbar\": {\"outlinewidth\": 0, \"ticks\": \"\"}, \"type\": \"choropleth\"}], \"contour\": [{\"colorbar\": {\"outlinewidth\": 0, \"ticks\": \"\"}, \"colorscale\": [[0.0, \"#0d0887\"], [0.1111111111111111, \"#46039f\"], [0.2222222222222222, \"#7201a8\"], [0.3333333333333333, \"#9c179e\"], [0.4444444444444444, \"#bd3786\"], [0.5555555555555556, \"#d8576b\"], [0.6666666666666666, \"#ed7953\"], [0.7777777777777778, \"#fb9f3a\"], [0.8888888888888888, \"#fdca26\"], [1.0, \"#f0f921\"]], \"type\": \"contour\"}], \"contourcarpet\": [{\"colorbar\": {\"outlinewidth\": 0, \"ticks\": \"\"}, \"type\": \"contourcarpet\"}], \"heatmap\": [{\"colorbar\": {\"outlinewidth\": 0, \"ticks\": \"\"}, \"colorscale\": [[0.0, \"#0d0887\"], [0.1111111111111111, \"#46039f\"], [0.2222222222222222, \"#7201a8\"], [0.3333333333333333, \"#9c179e\"], [0.4444444444444444, \"#bd3786\"], [0.5555555555555556, \"#d8576b\"], [0.6666666666666666, \"#ed7953\"], [0.7777777777777778, \"#fb9f3a\"], [0.8888888888888888, \"#fdca26\"], [1.0, \"#f0f921\"]], \"type\": \"heatmap\"}], \"heatmapgl\": [{\"colorbar\": {\"outlinewidth\": 0, \"ticks\": \"\"}, \"colorscale\": [[0.0, \"#0d0887\"], [0.1111111111111111, \"#46039f\"], [0.2222222222222222, \"#7201a8\"], [0.3333333333333333, \"#9c179e\"], [0.4444444444444444, \"#bd3786\"], [0.5555555555555556, \"#d8576b\"], [0.6666666666666666, \"#ed7953\"], [0.7777777777777778, \"#fb9f3a\"], [0.8888888888888888, \"#fdca26\"], [1.0, \"#f0f921\"]], \"type\": \"heatmapgl\"}], \"histogram\": [{\"marker\": {\"colorbar\": {\"outlinewidth\": 0, \"ticks\": \"\"}}, \"type\": \"histogram\"}], \"histogram2d\": [{\"colorbar\": {\"outlinewidth\": 0, \"ticks\": \"\"}, \"colorscale\": [[0.0, \"#0d0887\"], [0.1111111111111111, \"#46039f\"], [0.2222222222222222, \"#7201a8\"], [0.3333333333333333, \"#9c179e\"], [0.4444444444444444, \"#bd3786\"], [0.5555555555555556, \"#d8576b\"], [0.6666666666666666, \"#ed7953\"], [0.7777777777777778, \"#fb9f3a\"], [0.8888888888888888, \"#fdca26\"], [1.0, \"#f0f921\"]], \"type\": \"histogram2d\"}], \"histogram2dcontour\": [{\"colorbar\": {\"outlinewidth\": 0, \"ticks\": \"\"}, \"colorscale\": [[0.0, \"#0d0887\"], [0.1111111111111111, \"#46039f\"], [0.2222222222222222, \"#7201a8\"], [0.3333333333333333, \"#9c179e\"], [0.4444444444444444, \"#bd3786\"], [0.5555555555555556, \"#d8576b\"], [0.6666666666666666, \"#ed7953\"], [0.7777777777777778, \"#fb9f3a\"], [0.8888888888888888, \"#fdca26\"], [1.0, \"#f0f921\"]], \"type\": \"histogram2dcontour\"}], \"mesh3d\": [{\"colorbar\": {\"outlinewidth\": 0, \"ticks\": \"\"}, \"type\": \"mesh3d\"}], \"parcoords\": [{\"line\": {\"colorbar\": {\"outlinewidth\": 0, \"ticks\": \"\"}}, \"type\": \"parcoords\"}], \"pie\": [{\"automargin\": true, \"type\": \"pie\"}], \"scatter\": [{\"marker\": {\"colorbar\": {\"outlinewidth\": 0, \"ticks\": \"\"}}, \"type\": \"scatter\"}], \"scatter3d\": [{\"line\": {\"colorbar\": {\"outlinewidth\": 0, \"ticks\": \"\"}}, \"marker\": {\"colorbar\": {\"outlinewidth\": 0, \"ticks\": \"\"}}, \"type\": \"scatter3d\"}], \"scattercarpet\": [{\"marker\": {\"colorbar\": {\"outlinewidth\": 0, \"ticks\": \"\"}}, \"type\": \"scattercarpet\"}], \"scattergeo\": [{\"marker\": {\"colorbar\": {\"outlinewidth\": 0, \"ticks\": \"\"}}, \"type\": \"scattergeo\"}], \"scattergl\": [{\"marker\": {\"colorbar\": {\"outlinewidth\": 0, \"ticks\": \"\"}}, \"type\": \"scattergl\"}], \"scattermapbox\": [{\"marker\": {\"colorbar\": {\"outlinewidth\": 0, \"ticks\": \"\"}}, \"type\": \"scattermapbox\"}], \"scatterpolar\": [{\"marker\": {\"colorbar\": {\"outlinewidth\": 0, \"ticks\": \"\"}}, \"type\": \"scatterpolar\"}], \"scatterpolargl\": [{\"marker\": {\"colorbar\": {\"outlinewidth\": 0, \"ticks\": \"\"}}, \"type\": \"scatterpolargl\"}], \"scatterternary\": [{\"marker\": {\"colorbar\": {\"outlinewidth\": 0, \"ticks\": \"\"}}, \"type\": \"scatterternary\"}], \"surface\": [{\"colorbar\": {\"outlinewidth\": 0, \"ticks\": \"\"}, \"colorscale\": [[0.0, \"#0d0887\"], [0.1111111111111111, \"#46039f\"], [0.2222222222222222, \"#7201a8\"], [0.3333333333333333, \"#9c179e\"], [0.4444444444444444, \"#bd3786\"], [0.5555555555555556, \"#d8576b\"], [0.6666666666666666, \"#ed7953\"], [0.7777777777777778, \"#fb9f3a\"], [0.8888888888888888, \"#fdca26\"], [1.0, \"#f0f921\"]], \"type\": \"surface\"}], \"table\": [{\"cells\": {\"fill\": {\"color\": \"#EBF0F8\"}, \"line\": {\"color\": \"white\"}}, \"header\": {\"fill\": {\"color\": \"#C8D4E3\"}, \"line\": {\"color\": \"white\"}}, \"type\": \"table\"}]}, \"layout\": {\"annotationdefaults\": {\"arrowcolor\": \"#2a3f5f\", \"arrowhead\": 0, \"arrowwidth\": 1}, \"autotypenumbers\": \"strict\", \"coloraxis\": {\"colorbar\": {\"outlinewidth\": 0, \"ticks\": \"\"}}, \"colorscale\": {\"diverging\": [[0, \"#8e0152\"], [0.1, \"#c51b7d\"], [0.2, \"#de77ae\"], [0.3, \"#f1b6da\"], [0.4, \"#fde0ef\"], [0.5, \"#f7f7f7\"], [0.6, \"#e6f5d0\"], [0.7, \"#b8e186\"], [0.8, \"#7fbc41\"], [0.9, \"#4d9221\"], [1, \"#276419\"]], \"sequential\": [[0.0, \"#0d0887\"], [0.1111111111111111, \"#46039f\"], [0.2222222222222222, \"#7201a8\"], [0.3333333333333333, \"#9c179e\"], [0.4444444444444444, \"#bd3786\"], [0.5555555555555556, \"#d8576b\"], [0.6666666666666666, \"#ed7953\"], [0.7777777777777778, \"#fb9f3a\"], [0.8888888888888888, \"#fdca26\"], [1.0, \"#f0f921\"]], \"sequentialminus\": [[0.0, \"#0d0887\"], [0.1111111111111111, \"#46039f\"], [0.2222222222222222, \"#7201a8\"], [0.3333333333333333, \"#9c179e\"], [0.4444444444444444, \"#bd3786\"], [0.5555555555555556, \"#d8576b\"], [0.6666666666666666, \"#ed7953\"], [0.7777777777777778, \"#fb9f3a\"], [0.8888888888888888, \"#fdca26\"], [1.0, \"#f0f921\"]]}, \"colorway\": [\"#636efa\", \"#EF553B\", \"#00cc96\", \"#ab63fa\", \"#FFA15A\", \"#19d3f3\", \"#FF6692\", \"#B6E880\", \"#FF97FF\", \"#FECB52\"], \"font\": {\"color\": \"#2a3f5f\"}, \"geo\": {\"bgcolor\": \"white\", \"lakecolor\": \"white\", \"landcolor\": \"#E5ECF6\", \"showlakes\": true, \"showland\": true, \"subunitcolor\": \"white\"}, \"hoverlabel\": {\"align\": \"left\"}, \"hovermode\": \"closest\", \"mapbox\": {\"style\": \"light\"}, \"paper_bgcolor\": \"white\", \"plot_bgcolor\": \"#E5ECF6\", \"polar\": {\"angularaxis\": {\"gridcolor\": \"white\", \"linecolor\": \"white\", \"ticks\": \"\"}, \"bgcolor\": \"#E5ECF6\", \"radialaxis\": {\"gridcolor\": \"white\", \"linecolor\": \"white\", \"ticks\": \"\"}}, \"scene\": {\"xaxis\": {\"backgroundcolor\": \"#E5ECF6\", \"gridcolor\": \"white\", \"gridwidth\": 2, \"linecolor\": \"white\", \"showbackground\": true, \"ticks\": \"\", \"zerolinecolor\": \"white\"}, \"yaxis\": {\"backgroundcolor\": \"#E5ECF6\", \"gridcolor\": \"white\", \"gridwidth\": 2, \"linecolor\": \"white\", \"showbackground\": true, \"ticks\": \"\", \"zerolinecolor\": \"white\"}, \"zaxis\": {\"backgroundcolor\": \"#E5ECF6\", \"gridcolor\": \"white\", \"gridwidth\": 2, \"linecolor\": \"white\", \"showbackground\": true, \"ticks\": \"\", \"zerolinecolor\": \"white\"}}, \"shapedefaults\": {\"line\": {\"color\": \"#2a3f5f\"}}, \"ternary\": {\"aaxis\": {\"gridcolor\": \"white\", \"linecolor\": \"white\", \"ticks\": \"\"}, \"baxis\": {\"gridcolor\": \"white\", \"linecolor\": \"white\", \"ticks\": \"\"}, \"bgcolor\": \"#E5ECF6\", \"caxis\": {\"gridcolor\": \"white\", \"linecolor\": \"white\", \"ticks\": \"\"}}, \"title\": {\"x\": 0.05}, \"xaxis\": {\"automargin\": true, \"gridcolor\": \"white\", \"linecolor\": \"white\", \"ticks\": \"\", \"title\": {\"standoff\": 15}, \"zerolinecolor\": \"white\", \"zerolinewidth\": 2}, \"yaxis\": {\"automargin\": true, \"gridcolor\": \"white\", \"linecolor\": \"white\", \"ticks\": \"\", \"title\": {\"standoff\": 15}, \"zerolinecolor\": \"white\", \"zerolinewidth\": 2}}}},                        {\"responsive\": true}                    ).then(function(){\n",
       "                            \n",
       "var gd = document.getElementById('0b04780c-ae2c-4d74-9c84-34c20cbd5ab1');\n",
       "var x = new MutationObserver(function (mutations, observer) {{\n",
       "        var display = window.getComputedStyle(gd).display;\n",
       "        if (!display || display === 'none') {{\n",
       "            console.log([gd, 'removed!']);\n",
       "            Plotly.purge(gd);\n",
       "            observer.disconnect();\n",
       "        }}\n",
       "}});\n",
       "\n",
       "// Listen for the removal of the full notebook cells\n",
       "var notebookContainer = gd.closest('#notebook-container');\n",
       "if (notebookContainer) {{\n",
       "    x.observe(notebookContainer, {childList: true});\n",
       "}}\n",
       "\n",
       "// Listen for the clearing of the current output cell\n",
       "var outputEl = gd.closest('.output');\n",
       "if (outputEl) {{\n",
       "    x.observe(outputEl, {childList: true});\n",
       "}}\n",
       "\n",
       "                        })                };                });            </script>        </div>"
      ]
     },
     "metadata": {},
     "output_type": "display_data"
    }
   ],
   "source": [
    "fig = go.Figure(go.Heatmap(z=center_east_europe.corr(), x=center_east_europe.corr().columns.tolist(), y=center_east_europe.corr().columns.tolist(), colorscale='agsunset'))\n",
    "fig.show()"
   ]
  },
  {
   "cell_type": "code",
   "execution_count": 20,
   "id": "final-joshua",
   "metadata": {
    "_kg_hide-input": true,
    "execution": {
     "iopub.execute_input": "2021-07-21T09:31:27.465187Z",
     "iopub.status.busy": "2021-07-21T09:31:27.464613Z",
     "iopub.status.idle": "2021-07-21T09:31:27.494949Z",
     "shell.execute_reply": "2021-07-21T09:31:27.495486Z",
     "shell.execute_reply.started": "2021-07-17T11:35:52.155597Z"
    },
    "jupyter": {
     "source_hidden": true
    },
    "papermill": {
     "duration": 0.084215,
     "end_time": "2021-07-21T09:31:27.495650",
     "exception": false,
     "start_time": "2021-07-21T09:31:27.411435",
     "status": "completed"
    },
    "tags": []
   },
   "outputs": [
    {
     "data": {
      "text/html": [
       "<div>\n",
       "<style scoped>\n",
       "    .dataframe tbody tr th:only-of-type {\n",
       "        vertical-align: middle;\n",
       "    }\n",
       "\n",
       "    .dataframe tbody tr th {\n",
       "        vertical-align: top;\n",
       "    }\n",
       "\n",
       "    .dataframe thead th {\n",
       "        text-align: right;\n",
       "    }\n",
       "</style>\n",
       "<table border=\"1\" class=\"dataframe\">\n",
       "  <thead>\n",
       "    <tr style=\"text-align: right;\">\n",
       "      <th></th>\n",
       "      <th>Ladder score</th>\n",
       "      <th>Logged GDP per capita</th>\n",
       "      <th>Social support</th>\n",
       "      <th>Healthy life expectancy</th>\n",
       "      <th>Freedom to make life choices</th>\n",
       "      <th>Generosity</th>\n",
       "      <th>Perceptions of corruption</th>\n",
       "    </tr>\n",
       "  </thead>\n",
       "  <tbody>\n",
       "    <tr>\n",
       "      <th>count</th>\n",
       "      <td>17.000000</td>\n",
       "      <td>17.000000</td>\n",
       "      <td>17.000000</td>\n",
       "      <td>17.000000</td>\n",
       "      <td>17.000000</td>\n",
       "      <td>17.000000</td>\n",
       "      <td>17.000000</td>\n",
       "    </tr>\n",
       "    <tr>\n",
       "      <th>mean</th>\n",
       "      <td>5.984765</td>\n",
       "      <td>10.109059</td>\n",
       "      <td>0.887412</td>\n",
       "      <td>68.338412</td>\n",
       "      <td>0.797059</td>\n",
       "      <td>-0.078941</td>\n",
       "      <td>0.850529</td>\n",
       "    </tr>\n",
       "    <tr>\n",
       "      <th>std</th>\n",
       "      <td>0.493325</td>\n",
       "      <td>0.396190</td>\n",
       "      <td>0.068297</td>\n",
       "      <td>1.909003</td>\n",
       "      <td>0.070521</td>\n",
       "      <td>0.126697</td>\n",
       "      <td>0.102474</td>\n",
       "    </tr>\n",
       "    <tr>\n",
       "      <th>min</th>\n",
       "      <td>5.101000</td>\n",
       "      <td>9.318000</td>\n",
       "      <td>0.697000</td>\n",
       "      <td>63.813000</td>\n",
       "      <td>0.706000</td>\n",
       "      <td>-0.219000</td>\n",
       "      <td>0.527000</td>\n",
       "    </tr>\n",
       "    <tr>\n",
       "      <th>25%</th>\n",
       "      <td>5.813000</td>\n",
       "      <td>9.787000</td>\n",
       "      <td>0.858000</td>\n",
       "      <td>67.355000</td>\n",
       "      <td>0.754000</td>\n",
       "      <td>-0.165000</td>\n",
       "      <td>0.812000</td>\n",
       "    </tr>\n",
       "    <tr>\n",
       "      <th>50%</th>\n",
       "      <td>6.078000</td>\n",
       "      <td>10.284000</td>\n",
       "      <td>0.924000</td>\n",
       "      <td>68.600000</td>\n",
       "      <td>0.778000</td>\n",
       "      <td>-0.106000</td>\n",
       "      <td>0.876000</td>\n",
       "    </tr>\n",
       "    <tr>\n",
       "      <th>75%</th>\n",
       "      <td>6.255000</td>\n",
       "      <td>10.382000</td>\n",
       "      <td>0.936000</td>\n",
       "      <td>69.201000</td>\n",
       "      <td>0.845000</td>\n",
       "      <td>-0.030000</td>\n",
       "      <td>0.917000</td>\n",
       "    </tr>\n",
       "    <tr>\n",
       "      <th>max</th>\n",
       "      <td>6.965000</td>\n",
       "      <td>10.556000</td>\n",
       "      <td>0.948000</td>\n",
       "      <td>71.400000</td>\n",
       "      <td>0.949000</td>\n",
       "      <td>0.257000</td>\n",
       "      <td>0.939000</td>\n",
       "    </tr>\n",
       "  </tbody>\n",
       "</table>\n",
       "</div>"
      ],
      "text/plain": [
       "       Ladder score  Logged GDP per capita  Social support  \\\n",
       "count     17.000000              17.000000       17.000000   \n",
       "mean       5.984765              10.109059        0.887412   \n",
       "std        0.493325               0.396190        0.068297   \n",
       "min        5.101000               9.318000        0.697000   \n",
       "25%        5.813000               9.787000        0.858000   \n",
       "50%        6.078000              10.284000        0.924000   \n",
       "75%        6.255000              10.382000        0.936000   \n",
       "max        6.965000              10.556000        0.948000   \n",
       "\n",
       "       Healthy life expectancy  Freedom to make life choices  Generosity  \\\n",
       "count                17.000000                     17.000000   17.000000   \n",
       "mean                 68.338412                      0.797059   -0.078941   \n",
       "std                   1.909003                      0.070521    0.126697   \n",
       "min                  63.813000                      0.706000   -0.219000   \n",
       "25%                  67.355000                      0.754000   -0.165000   \n",
       "50%                  68.600000                      0.778000   -0.106000   \n",
       "75%                  69.201000                      0.845000   -0.030000   \n",
       "max                  71.400000                      0.949000    0.257000   \n",
       "\n",
       "       Perceptions of corruption  \n",
       "count                  17.000000  \n",
       "mean                    0.850529  \n",
       "std                     0.102474  \n",
       "min                     0.527000  \n",
       "25%                     0.812000  \n",
       "50%                     0.876000  \n",
       "75%                     0.917000  \n",
       "max                     0.939000  "
      ]
     },
     "execution_count": 20,
     "metadata": {},
     "output_type": "execute_result"
    }
   ],
   "source": [
    "center_east_europe.describe()"
   ]
  },
  {
   "cell_type": "markdown",
   "id": "connected-hearts",
   "metadata": {
    "papermill": {
     "duration": 0.050974,
     "end_time": "2021-07-21T09:31:27.597865",
     "exception": false,
     "start_time": "2021-07-21T09:31:27.546891",
     "status": "completed"
    },
    "tags": []
   },
   "source": [
    "Based on the descriptive information, based on the Mean-Median differences and  IQRs (InterQuartile Ranges) possible outliers can be seen in the:\n",
    "\n",
    "- Happiness Score\n",
    "- Social Support\n",
    "- Healthy life expectancy\n",
    "- Generosity\n",
    "- Perceptions of corruption\n",
    "\n",
    "- For the sake of the simplicity, in this EDA we will focus on Happiness Score.\n",
    "\n",
    "For further detail, let's make a boxplot, barplot and use Plotly's interactive environment."
   ]
  },
  {
   "cell_type": "markdown",
   "id": "veterinary-mineral",
   "metadata": {
    "papermill": {
     "duration": 0.051151,
     "end_time": "2021-07-21T09:31:27.700577",
     "exception": false,
     "start_time": "2021-07-21T09:31:27.649426",
     "status": "completed"
    },
    "tags": []
   },
   "source": [
    "### Happiness in the Central and Eastern Europe"
   ]
  },
  {
   "cell_type": "code",
   "execution_count": 21,
   "id": "median-placement",
   "metadata": {
    "_kg_hide-input": true,
    "execution": {
     "iopub.execute_input": "2021-07-21T09:31:27.806767Z",
     "iopub.status.busy": "2021-07-21T09:31:27.806155Z",
     "iopub.status.idle": "2021-07-21T09:31:27.867078Z",
     "shell.execute_reply": "2021-07-21T09:31:27.867551Z",
     "shell.execute_reply.started": "2021-07-17T11:35:52.189554Z"
    },
    "papermill": {
     "duration": 0.115484,
     "end_time": "2021-07-21T09:31:27.867727",
     "exception": false,
     "start_time": "2021-07-21T09:31:27.752243",
     "status": "completed"
    },
    "tags": []
   },
   "outputs": [
    {
     "data": {
      "text/html": [
       "<div>                            <div id=\"c78e0734-2df9-43f8-8593-73c6bb377176\" class=\"plotly-graph-div\" style=\"height:525px; width:100%;\"></div>            <script type=\"text/javascript\">                require([\"plotly\"], function(Plotly) {                    window.PLOTLYENV=window.PLOTLYENV || {};                                    if (document.getElementById(\"c78e0734-2df9-43f8-8593-73c6bb377176\")) {                    Plotly.newPlot(                        \"c78e0734-2df9-43f8-8593-73c6bb377176\",                        [{\"alignmentgroup\": \"True\", \"customdata\": [[\"Czech Republic\"], [\"Slovenia\"], [\"Kosovo\"], [\"Slovakia\"], [\"Lithuania\"], [\"Estonia\"], [\"Poland\"], [\"Romania\"], [\"Serbia\"], [\"Latvia\"], [\"Hungary\"], [\"Croatia\"], [\"Bosnia and Herzegovina\"], [\"Montenegro\"], [\"Bulgaria\"], [\"Albania\"], [\"North Macedonia\"]], \"hovertemplate\": \"Ladder score=%{x}<br>Country name=%{customdata[0]}<extra></extra>\", \"legendgroup\": \"\", \"marker\": {\"color\": \"#636efa\"}, \"name\": \"\", \"notched\": false, \"offsetgroup\": \"\", \"orientation\": \"h\", \"quartilemethod\": \"inclusive\", \"showlegend\": false, \"type\": \"box\", \"x\": [6.965, 6.461, 6.372, 6.331, 6.255, 6.189, 6.166, 6.14, 6.078, 6.032, 5.992, 5.882, 5.813, 5.581, 5.266, 5.117, 5.101], \"x0\": \" \", \"xaxis\": \"x\", \"y0\": \" \", \"yaxis\": \"y\"}],                        {\"boxmode\": \"group\", \"legend\": {\"tracegroupgap\": 0}, \"margin\": {\"t\": 60}, \"template\": {\"data\": {\"bar\": [{\"error_x\": {\"color\": \"#2a3f5f\"}, \"error_y\": {\"color\": \"#2a3f5f\"}, \"marker\": {\"line\": {\"color\": \"#E5ECF6\", \"width\": 0.5}}, \"type\": \"bar\"}], \"barpolar\": [{\"marker\": {\"line\": {\"color\": \"#E5ECF6\", \"width\": 0.5}}, \"type\": \"barpolar\"}], \"carpet\": [{\"aaxis\": {\"endlinecolor\": \"#2a3f5f\", \"gridcolor\": \"white\", \"linecolor\": \"white\", \"minorgridcolor\": \"white\", \"startlinecolor\": \"#2a3f5f\"}, \"baxis\": {\"endlinecolor\": \"#2a3f5f\", \"gridcolor\": \"white\", \"linecolor\": \"white\", \"minorgridcolor\": \"white\", \"startlinecolor\": \"#2a3f5f\"}, \"type\": \"carpet\"}], \"choropleth\": [{\"colorbar\": {\"outlinewidth\": 0, \"ticks\": \"\"}, \"type\": \"choropleth\"}], \"contour\": [{\"colorbar\": {\"outlinewidth\": 0, \"ticks\": \"\"}, \"colorscale\": [[0.0, \"#0d0887\"], [0.1111111111111111, \"#46039f\"], [0.2222222222222222, \"#7201a8\"], [0.3333333333333333, \"#9c179e\"], [0.4444444444444444, \"#bd3786\"], [0.5555555555555556, \"#d8576b\"], [0.6666666666666666, \"#ed7953\"], [0.7777777777777778, \"#fb9f3a\"], [0.8888888888888888, \"#fdca26\"], [1.0, \"#f0f921\"]], \"type\": \"contour\"}], \"contourcarpet\": [{\"colorbar\": {\"outlinewidth\": 0, \"ticks\": \"\"}, \"type\": \"contourcarpet\"}], \"heatmap\": [{\"colorbar\": {\"outlinewidth\": 0, \"ticks\": \"\"}, \"colorscale\": [[0.0, \"#0d0887\"], [0.1111111111111111, \"#46039f\"], [0.2222222222222222, \"#7201a8\"], [0.3333333333333333, \"#9c179e\"], [0.4444444444444444, \"#bd3786\"], [0.5555555555555556, \"#d8576b\"], [0.6666666666666666, \"#ed7953\"], [0.7777777777777778, \"#fb9f3a\"], [0.8888888888888888, \"#fdca26\"], [1.0, \"#f0f921\"]], \"type\": \"heatmap\"}], \"heatmapgl\": [{\"colorbar\": {\"outlinewidth\": 0, \"ticks\": \"\"}, \"colorscale\": [[0.0, \"#0d0887\"], [0.1111111111111111, \"#46039f\"], [0.2222222222222222, \"#7201a8\"], [0.3333333333333333, \"#9c179e\"], [0.4444444444444444, \"#bd3786\"], [0.5555555555555556, \"#d8576b\"], [0.6666666666666666, \"#ed7953\"], [0.7777777777777778, \"#fb9f3a\"], [0.8888888888888888, \"#fdca26\"], [1.0, \"#f0f921\"]], \"type\": \"heatmapgl\"}], \"histogram\": [{\"marker\": {\"colorbar\": {\"outlinewidth\": 0, \"ticks\": \"\"}}, \"type\": \"histogram\"}], \"histogram2d\": [{\"colorbar\": {\"outlinewidth\": 0, \"ticks\": \"\"}, \"colorscale\": [[0.0, \"#0d0887\"], [0.1111111111111111, \"#46039f\"], [0.2222222222222222, \"#7201a8\"], [0.3333333333333333, \"#9c179e\"], [0.4444444444444444, \"#bd3786\"], [0.5555555555555556, \"#d8576b\"], [0.6666666666666666, \"#ed7953\"], [0.7777777777777778, \"#fb9f3a\"], [0.8888888888888888, \"#fdca26\"], [1.0, \"#f0f921\"]], \"type\": \"histogram2d\"}], \"histogram2dcontour\": [{\"colorbar\": {\"outlinewidth\": 0, \"ticks\": \"\"}, \"colorscale\": [[0.0, \"#0d0887\"], [0.1111111111111111, \"#46039f\"], [0.2222222222222222, \"#7201a8\"], [0.3333333333333333, \"#9c179e\"], [0.4444444444444444, \"#bd3786\"], [0.5555555555555556, \"#d8576b\"], [0.6666666666666666, \"#ed7953\"], [0.7777777777777778, \"#fb9f3a\"], [0.8888888888888888, \"#fdca26\"], [1.0, \"#f0f921\"]], \"type\": \"histogram2dcontour\"}], \"mesh3d\": [{\"colorbar\": {\"outlinewidth\": 0, \"ticks\": \"\"}, \"type\": \"mesh3d\"}], \"parcoords\": [{\"line\": {\"colorbar\": {\"outlinewidth\": 0, \"ticks\": \"\"}}, \"type\": \"parcoords\"}], \"pie\": [{\"automargin\": true, \"type\": \"pie\"}], \"scatter\": [{\"marker\": {\"colorbar\": {\"outlinewidth\": 0, \"ticks\": \"\"}}, \"type\": \"scatter\"}], \"scatter3d\": [{\"line\": {\"colorbar\": {\"outlinewidth\": 0, \"ticks\": \"\"}}, \"marker\": {\"colorbar\": {\"outlinewidth\": 0, \"ticks\": \"\"}}, \"type\": \"scatter3d\"}], \"scattercarpet\": [{\"marker\": {\"colorbar\": {\"outlinewidth\": 0, \"ticks\": \"\"}}, \"type\": \"scattercarpet\"}], \"scattergeo\": [{\"marker\": {\"colorbar\": {\"outlinewidth\": 0, \"ticks\": \"\"}}, \"type\": \"scattergeo\"}], \"scattergl\": [{\"marker\": {\"colorbar\": {\"outlinewidth\": 0, \"ticks\": \"\"}}, \"type\": \"scattergl\"}], \"scattermapbox\": [{\"marker\": {\"colorbar\": {\"outlinewidth\": 0, \"ticks\": \"\"}}, \"type\": \"scattermapbox\"}], \"scatterpolar\": [{\"marker\": {\"colorbar\": {\"outlinewidth\": 0, \"ticks\": \"\"}}, \"type\": \"scatterpolar\"}], \"scatterpolargl\": [{\"marker\": {\"colorbar\": {\"outlinewidth\": 0, \"ticks\": \"\"}}, \"type\": \"scatterpolargl\"}], \"scatterternary\": [{\"marker\": {\"colorbar\": {\"outlinewidth\": 0, \"ticks\": \"\"}}, \"type\": \"scatterternary\"}], \"surface\": [{\"colorbar\": {\"outlinewidth\": 0, \"ticks\": \"\"}, \"colorscale\": [[0.0, \"#0d0887\"], [0.1111111111111111, \"#46039f\"], [0.2222222222222222, \"#7201a8\"], [0.3333333333333333, \"#9c179e\"], [0.4444444444444444, \"#bd3786\"], [0.5555555555555556, \"#d8576b\"], [0.6666666666666666, \"#ed7953\"], [0.7777777777777778, \"#fb9f3a\"], [0.8888888888888888, \"#fdca26\"], [1.0, \"#f0f921\"]], \"type\": \"surface\"}], \"table\": [{\"cells\": {\"fill\": {\"color\": \"#EBF0F8\"}, \"line\": {\"color\": \"white\"}}, \"header\": {\"fill\": {\"color\": \"#C8D4E3\"}, \"line\": {\"color\": \"white\"}}, \"type\": \"table\"}]}, \"layout\": {\"annotationdefaults\": {\"arrowcolor\": \"#2a3f5f\", \"arrowhead\": 0, \"arrowwidth\": 1}, \"autotypenumbers\": \"strict\", \"coloraxis\": {\"colorbar\": {\"outlinewidth\": 0, \"ticks\": \"\"}}, \"colorscale\": {\"diverging\": [[0, \"#8e0152\"], [0.1, \"#c51b7d\"], [0.2, \"#de77ae\"], [0.3, \"#f1b6da\"], [0.4, \"#fde0ef\"], [0.5, \"#f7f7f7\"], [0.6, \"#e6f5d0\"], [0.7, \"#b8e186\"], [0.8, \"#7fbc41\"], [0.9, \"#4d9221\"], [1, \"#276419\"]], \"sequential\": [[0.0, \"#0d0887\"], [0.1111111111111111, \"#46039f\"], [0.2222222222222222, \"#7201a8\"], [0.3333333333333333, \"#9c179e\"], [0.4444444444444444, \"#bd3786\"], [0.5555555555555556, \"#d8576b\"], [0.6666666666666666, \"#ed7953\"], [0.7777777777777778, \"#fb9f3a\"], [0.8888888888888888, \"#fdca26\"], [1.0, \"#f0f921\"]], \"sequentialminus\": [[0.0, \"#0d0887\"], [0.1111111111111111, \"#46039f\"], [0.2222222222222222, \"#7201a8\"], [0.3333333333333333, \"#9c179e\"], [0.4444444444444444, \"#bd3786\"], [0.5555555555555556, \"#d8576b\"], [0.6666666666666666, \"#ed7953\"], [0.7777777777777778, \"#fb9f3a\"], [0.8888888888888888, \"#fdca26\"], [1.0, \"#f0f921\"]]}, \"colorway\": [\"#636efa\", \"#EF553B\", \"#00cc96\", \"#ab63fa\", \"#FFA15A\", \"#19d3f3\", \"#FF6692\", \"#B6E880\", \"#FF97FF\", \"#FECB52\"], \"font\": {\"color\": \"#2a3f5f\"}, \"geo\": {\"bgcolor\": \"white\", \"lakecolor\": \"white\", \"landcolor\": \"#E5ECF6\", \"showlakes\": true, \"showland\": true, \"subunitcolor\": \"white\"}, \"hoverlabel\": {\"align\": \"left\"}, \"hovermode\": \"closest\", \"mapbox\": {\"style\": \"light\"}, \"paper_bgcolor\": \"white\", \"plot_bgcolor\": \"#E5ECF6\", \"polar\": {\"angularaxis\": {\"gridcolor\": \"white\", \"linecolor\": \"white\", \"ticks\": \"\"}, \"bgcolor\": \"#E5ECF6\", \"radialaxis\": {\"gridcolor\": \"white\", \"linecolor\": \"white\", \"ticks\": \"\"}}, \"scene\": {\"xaxis\": {\"backgroundcolor\": \"#E5ECF6\", \"gridcolor\": \"white\", \"gridwidth\": 2, \"linecolor\": \"white\", \"showbackground\": true, \"ticks\": \"\", \"zerolinecolor\": \"white\"}, \"yaxis\": {\"backgroundcolor\": \"#E5ECF6\", \"gridcolor\": \"white\", \"gridwidth\": 2, \"linecolor\": \"white\", \"showbackground\": true, \"ticks\": \"\", \"zerolinecolor\": \"white\"}, \"zaxis\": {\"backgroundcolor\": \"#E5ECF6\", \"gridcolor\": \"white\", \"gridwidth\": 2, \"linecolor\": \"white\", \"showbackground\": true, \"ticks\": \"\", \"zerolinecolor\": \"white\"}}, \"shapedefaults\": {\"line\": {\"color\": \"#2a3f5f\"}}, \"ternary\": {\"aaxis\": {\"gridcolor\": \"white\", \"linecolor\": \"white\", \"ticks\": \"\"}, \"baxis\": {\"gridcolor\": \"white\", \"linecolor\": \"white\", \"ticks\": \"\"}, \"bgcolor\": \"#E5ECF6\", \"caxis\": {\"gridcolor\": \"white\", \"linecolor\": \"white\", \"ticks\": \"\"}}, \"title\": {\"x\": 0.05}, \"xaxis\": {\"automargin\": true, \"gridcolor\": \"white\", \"linecolor\": \"white\", \"ticks\": \"\", \"title\": {\"standoff\": 15}, \"zerolinecolor\": \"white\", \"zerolinewidth\": 2}, \"yaxis\": {\"automargin\": true, \"gridcolor\": \"white\", \"linecolor\": \"white\", \"ticks\": \"\", \"title\": {\"standoff\": 15}, \"zerolinecolor\": \"white\", \"zerolinewidth\": 2}}}, \"xaxis\": {\"anchor\": \"y\", \"domain\": [0.0, 1.0], \"title\": {\"text\": \"Ladder score\"}}, \"yaxis\": {\"anchor\": \"x\", \"domain\": [0.0, 1.0]}},                        {\"responsive\": true}                    ).then(function(){\n",
       "                            \n",
       "var gd = document.getElementById('c78e0734-2df9-43f8-8593-73c6bb377176');\n",
       "var x = new MutationObserver(function (mutations, observer) {{\n",
       "        var display = window.getComputedStyle(gd).display;\n",
       "        if (!display || display === 'none') {{\n",
       "            console.log([gd, 'removed!']);\n",
       "            Plotly.purge(gd);\n",
       "            observer.disconnect();\n",
       "        }}\n",
       "}});\n",
       "\n",
       "// Listen for the removal of the full notebook cells\n",
       "var notebookContainer = gd.closest('#notebook-container');\n",
       "if (notebookContainer) {{\n",
       "    x.observe(notebookContainer, {childList: true});\n",
       "}}\n",
       "\n",
       "// Listen for the clearing of the current output cell\n",
       "var outputEl = gd.closest('.output');\n",
       "if (outputEl) {{\n",
       "    x.observe(outputEl, {childList: true});\n",
       "}}\n",
       "\n",
       "                        })                };                });            </script>        </div>"
      ]
     },
     "metadata": {},
     "output_type": "display_data"
    }
   ],
   "source": [
    "fig = px.box(center_east_europe, x= 'Ladder score', hover_data = center_east_europe[['Country name']])\n",
    "fig.update_traces(quartilemethod=\"inclusive\")\n",
    "fig.show()\n"
   ]
  },
  {
   "cell_type": "markdown",
   "id": "special-visitor",
   "metadata": {
    "papermill": {
     "duration": 0.056201,
     "end_time": "2021-07-21T09:31:27.976216",
     "exception": false,
     "start_time": "2021-07-21T09:31:27.920015",
     "status": "completed"
    },
    "tags": []
   },
   "source": [
    "In the Central and Eastern Europe, based on the happiness score distributions, 3 possible outliers can be seen.\n",
    "One outlier is at the high score side of the happiness score and other two outliers are at the minimum side of the happiness score."
   ]
  },
  {
   "cell_type": "code",
   "execution_count": 22,
   "id": "fifth-texture",
   "metadata": {
    "_kg_hide-input": true,
    "execution": {
     "iopub.execute_input": "2021-07-21T09:31:28.094131Z",
     "iopub.status.busy": "2021-07-21T09:31:28.093478Z",
     "iopub.status.idle": "2021-07-21T09:31:28.159081Z",
     "shell.execute_reply": "2021-07-21T09:31:28.159600Z",
     "shell.execute_reply.started": "2021-07-17T11:35:52.257027Z"
    },
    "papermill": {
     "duration": 0.131657,
     "end_time": "2021-07-21T09:31:28.159794",
     "exception": false,
     "start_time": "2021-07-21T09:31:28.028137",
     "status": "completed"
    },
    "tags": []
   },
   "outputs": [
    {
     "data": {
      "text/html": [
       "<div>                            <div id=\"8a669138-8430-46d6-a706-11417b0cf6b9\" class=\"plotly-graph-div\" style=\"height:525px; width:100%;\"></div>            <script type=\"text/javascript\">                require([\"plotly\"], function(Plotly) {                    window.PLOTLYENV=window.PLOTLYENV || {};                                    if (document.getElementById(\"8a669138-8430-46d6-a706-11417b0cf6b9\")) {                    Plotly.newPlot(                        \"8a669138-8430-46d6-a706-11417b0cf6b9\",                        [{\"alignmentgroup\": \"True\", \"hovertemplate\": \"Ladder score=%{x}<br>Country name=%{y}<extra></extra>\", \"legendgroup\": \"\", \"marker\": {\"color\": \"#636efa\"}, \"name\": \"\", \"offsetgroup\": \"\", \"orientation\": \"h\", \"showlegend\": false, \"textposition\": \"auto\", \"type\": \"bar\", \"x\": [6.965, 6.461, 6.372, 6.331, 6.255, 6.189, 6.166, 6.14, 6.078, 6.032, 5.992, 5.882, 5.813, 5.581, 5.266, 5.117, 5.101], \"xaxis\": \"x\", \"y\": [\"Czech Republic\", \"Slovenia\", \"Kosovo\", \"Slovakia\", \"Lithuania\", \"Estonia\", \"Poland\", \"Romania\", \"Serbia\", \"Latvia\", \"Hungary\", \"Croatia\", \"Bosnia and Herzegovina\", \"Montenegro\", \"Bulgaria\", \"Albania\", \"North Macedonia\"], \"yaxis\": \"y\"}],                        {\"barmode\": \"relative\", \"legend\": {\"tracegroupgap\": 0}, \"margin\": {\"t\": 60}, \"template\": {\"data\": {\"bar\": [{\"error_x\": {\"color\": \"#2a3f5f\"}, \"error_y\": {\"color\": \"#2a3f5f\"}, \"marker\": {\"line\": {\"color\": \"#E5ECF6\", \"width\": 0.5}}, \"type\": \"bar\"}], \"barpolar\": [{\"marker\": {\"line\": {\"color\": \"#E5ECF6\", \"width\": 0.5}}, \"type\": \"barpolar\"}], \"carpet\": [{\"aaxis\": {\"endlinecolor\": \"#2a3f5f\", \"gridcolor\": \"white\", \"linecolor\": \"white\", \"minorgridcolor\": \"white\", \"startlinecolor\": \"#2a3f5f\"}, \"baxis\": {\"endlinecolor\": \"#2a3f5f\", \"gridcolor\": \"white\", \"linecolor\": \"white\", \"minorgridcolor\": \"white\", \"startlinecolor\": \"#2a3f5f\"}, \"type\": \"carpet\"}], \"choropleth\": [{\"colorbar\": {\"outlinewidth\": 0, \"ticks\": \"\"}, \"type\": \"choropleth\"}], \"contour\": [{\"colorbar\": {\"outlinewidth\": 0, \"ticks\": \"\"}, \"colorscale\": [[0.0, \"#0d0887\"], [0.1111111111111111, \"#46039f\"], [0.2222222222222222, \"#7201a8\"], [0.3333333333333333, \"#9c179e\"], [0.4444444444444444, \"#bd3786\"], [0.5555555555555556, \"#d8576b\"], [0.6666666666666666, \"#ed7953\"], [0.7777777777777778, \"#fb9f3a\"], [0.8888888888888888, \"#fdca26\"], [1.0, \"#f0f921\"]], \"type\": \"contour\"}], \"contourcarpet\": [{\"colorbar\": {\"outlinewidth\": 0, \"ticks\": \"\"}, \"type\": \"contourcarpet\"}], \"heatmap\": [{\"colorbar\": {\"outlinewidth\": 0, \"ticks\": \"\"}, \"colorscale\": [[0.0, \"#0d0887\"], [0.1111111111111111, \"#46039f\"], [0.2222222222222222, \"#7201a8\"], [0.3333333333333333, \"#9c179e\"], [0.4444444444444444, \"#bd3786\"], [0.5555555555555556, \"#d8576b\"], [0.6666666666666666, \"#ed7953\"], [0.7777777777777778, \"#fb9f3a\"], [0.8888888888888888, \"#fdca26\"], [1.0, \"#f0f921\"]], \"type\": \"heatmap\"}], \"heatmapgl\": [{\"colorbar\": {\"outlinewidth\": 0, \"ticks\": \"\"}, \"colorscale\": [[0.0, \"#0d0887\"], [0.1111111111111111, \"#46039f\"], [0.2222222222222222, \"#7201a8\"], [0.3333333333333333, \"#9c179e\"], [0.4444444444444444, \"#bd3786\"], [0.5555555555555556, \"#d8576b\"], [0.6666666666666666, \"#ed7953\"], [0.7777777777777778, \"#fb9f3a\"], [0.8888888888888888, \"#fdca26\"], [1.0, \"#f0f921\"]], \"type\": \"heatmapgl\"}], \"histogram\": [{\"marker\": {\"colorbar\": {\"outlinewidth\": 0, \"ticks\": \"\"}}, \"type\": \"histogram\"}], \"histogram2d\": [{\"colorbar\": {\"outlinewidth\": 0, \"ticks\": \"\"}, \"colorscale\": [[0.0, \"#0d0887\"], [0.1111111111111111, \"#46039f\"], [0.2222222222222222, \"#7201a8\"], [0.3333333333333333, \"#9c179e\"], [0.4444444444444444, \"#bd3786\"], [0.5555555555555556, \"#d8576b\"], [0.6666666666666666, \"#ed7953\"], [0.7777777777777778, \"#fb9f3a\"], [0.8888888888888888, \"#fdca26\"], [1.0, \"#f0f921\"]], \"type\": \"histogram2d\"}], \"histogram2dcontour\": [{\"colorbar\": {\"outlinewidth\": 0, \"ticks\": \"\"}, \"colorscale\": [[0.0, \"#0d0887\"], [0.1111111111111111, \"#46039f\"], [0.2222222222222222, \"#7201a8\"], [0.3333333333333333, \"#9c179e\"], [0.4444444444444444, \"#bd3786\"], [0.5555555555555556, \"#d8576b\"], [0.6666666666666666, \"#ed7953\"], [0.7777777777777778, \"#fb9f3a\"], [0.8888888888888888, \"#fdca26\"], [1.0, \"#f0f921\"]], \"type\": \"histogram2dcontour\"}], \"mesh3d\": [{\"colorbar\": {\"outlinewidth\": 0, \"ticks\": \"\"}, \"type\": \"mesh3d\"}], \"parcoords\": [{\"line\": {\"colorbar\": {\"outlinewidth\": 0, \"ticks\": \"\"}}, \"type\": \"parcoords\"}], \"pie\": [{\"automargin\": true, \"type\": \"pie\"}], \"scatter\": [{\"marker\": {\"colorbar\": {\"outlinewidth\": 0, \"ticks\": \"\"}}, \"type\": \"scatter\"}], \"scatter3d\": [{\"line\": {\"colorbar\": {\"outlinewidth\": 0, \"ticks\": \"\"}}, \"marker\": {\"colorbar\": {\"outlinewidth\": 0, \"ticks\": \"\"}}, \"type\": \"scatter3d\"}], \"scattercarpet\": [{\"marker\": {\"colorbar\": {\"outlinewidth\": 0, \"ticks\": \"\"}}, \"type\": \"scattercarpet\"}], \"scattergeo\": [{\"marker\": {\"colorbar\": {\"outlinewidth\": 0, \"ticks\": \"\"}}, \"type\": \"scattergeo\"}], \"scattergl\": [{\"marker\": {\"colorbar\": {\"outlinewidth\": 0, \"ticks\": \"\"}}, \"type\": \"scattergl\"}], \"scattermapbox\": [{\"marker\": {\"colorbar\": {\"outlinewidth\": 0, \"ticks\": \"\"}}, \"type\": \"scattermapbox\"}], \"scatterpolar\": [{\"marker\": {\"colorbar\": {\"outlinewidth\": 0, \"ticks\": \"\"}}, \"type\": \"scatterpolar\"}], \"scatterpolargl\": [{\"marker\": {\"colorbar\": {\"outlinewidth\": 0, \"ticks\": \"\"}}, \"type\": \"scatterpolargl\"}], \"scatterternary\": [{\"marker\": {\"colorbar\": {\"outlinewidth\": 0, \"ticks\": \"\"}}, \"type\": \"scatterternary\"}], \"surface\": [{\"colorbar\": {\"outlinewidth\": 0, \"ticks\": \"\"}, \"colorscale\": [[0.0, \"#0d0887\"], [0.1111111111111111, \"#46039f\"], [0.2222222222222222, \"#7201a8\"], [0.3333333333333333, \"#9c179e\"], [0.4444444444444444, \"#bd3786\"], [0.5555555555555556, \"#d8576b\"], [0.6666666666666666, \"#ed7953\"], [0.7777777777777778, \"#fb9f3a\"], [0.8888888888888888, \"#fdca26\"], [1.0, \"#f0f921\"]], \"type\": \"surface\"}], \"table\": [{\"cells\": {\"fill\": {\"color\": \"#EBF0F8\"}, \"line\": {\"color\": \"white\"}}, \"header\": {\"fill\": {\"color\": \"#C8D4E3\"}, \"line\": {\"color\": \"white\"}}, \"type\": \"table\"}]}, \"layout\": {\"annotationdefaults\": {\"arrowcolor\": \"#2a3f5f\", \"arrowhead\": 0, \"arrowwidth\": 1}, \"autotypenumbers\": \"strict\", \"coloraxis\": {\"colorbar\": {\"outlinewidth\": 0, \"ticks\": \"\"}}, \"colorscale\": {\"diverging\": [[0, \"#8e0152\"], [0.1, \"#c51b7d\"], [0.2, \"#de77ae\"], [0.3, \"#f1b6da\"], [0.4, \"#fde0ef\"], [0.5, \"#f7f7f7\"], [0.6, \"#e6f5d0\"], [0.7, \"#b8e186\"], [0.8, \"#7fbc41\"], [0.9, \"#4d9221\"], [1, \"#276419\"]], \"sequential\": [[0.0, \"#0d0887\"], [0.1111111111111111, \"#46039f\"], [0.2222222222222222, \"#7201a8\"], [0.3333333333333333, \"#9c179e\"], [0.4444444444444444, \"#bd3786\"], [0.5555555555555556, \"#d8576b\"], [0.6666666666666666, \"#ed7953\"], [0.7777777777777778, \"#fb9f3a\"], [0.8888888888888888, \"#fdca26\"], [1.0, \"#f0f921\"]], \"sequentialminus\": [[0.0, \"#0d0887\"], [0.1111111111111111, \"#46039f\"], [0.2222222222222222, \"#7201a8\"], [0.3333333333333333, \"#9c179e\"], [0.4444444444444444, \"#bd3786\"], [0.5555555555555556, \"#d8576b\"], [0.6666666666666666, \"#ed7953\"], [0.7777777777777778, \"#fb9f3a\"], [0.8888888888888888, \"#fdca26\"], [1.0, \"#f0f921\"]]}, \"colorway\": [\"#636efa\", \"#EF553B\", \"#00cc96\", \"#ab63fa\", \"#FFA15A\", \"#19d3f3\", \"#FF6692\", \"#B6E880\", \"#FF97FF\", \"#FECB52\"], \"font\": {\"color\": \"#2a3f5f\"}, \"geo\": {\"bgcolor\": \"white\", \"lakecolor\": \"white\", \"landcolor\": \"#E5ECF6\", \"showlakes\": true, \"showland\": true, \"subunitcolor\": \"white\"}, \"hoverlabel\": {\"align\": \"left\"}, \"hovermode\": \"closest\", \"mapbox\": {\"style\": \"light\"}, \"paper_bgcolor\": \"white\", \"plot_bgcolor\": \"#E5ECF6\", \"polar\": {\"angularaxis\": {\"gridcolor\": \"white\", \"linecolor\": \"white\", \"ticks\": \"\"}, \"bgcolor\": \"#E5ECF6\", \"radialaxis\": {\"gridcolor\": \"white\", \"linecolor\": \"white\", \"ticks\": \"\"}}, \"scene\": {\"xaxis\": {\"backgroundcolor\": \"#E5ECF6\", \"gridcolor\": \"white\", \"gridwidth\": 2, \"linecolor\": \"white\", \"showbackground\": true, \"ticks\": \"\", \"zerolinecolor\": \"white\"}, \"yaxis\": {\"backgroundcolor\": \"#E5ECF6\", \"gridcolor\": \"white\", \"gridwidth\": 2, \"linecolor\": \"white\", \"showbackground\": true, \"ticks\": \"\", \"zerolinecolor\": \"white\"}, \"zaxis\": {\"backgroundcolor\": \"#E5ECF6\", \"gridcolor\": \"white\", \"gridwidth\": 2, \"linecolor\": \"white\", \"showbackground\": true, \"ticks\": \"\", \"zerolinecolor\": \"white\"}}, \"shapedefaults\": {\"line\": {\"color\": \"#2a3f5f\"}}, \"ternary\": {\"aaxis\": {\"gridcolor\": \"white\", \"linecolor\": \"white\", \"ticks\": \"\"}, \"baxis\": {\"gridcolor\": \"white\", \"linecolor\": \"white\", \"ticks\": \"\"}, \"bgcolor\": \"#E5ECF6\", \"caxis\": {\"gridcolor\": \"white\", \"linecolor\": \"white\", \"ticks\": \"\"}}, \"title\": {\"x\": 0.05}, \"xaxis\": {\"automargin\": true, \"gridcolor\": \"white\", \"linecolor\": \"white\", \"ticks\": \"\", \"title\": {\"standoff\": 15}, \"zerolinecolor\": \"white\", \"zerolinewidth\": 2}, \"yaxis\": {\"automargin\": true, \"gridcolor\": \"white\", \"linecolor\": \"white\", \"ticks\": \"\", \"title\": {\"standoff\": 15}, \"zerolinecolor\": \"white\", \"zerolinewidth\": 2}}}, \"xaxis\": {\"anchor\": \"y\", \"domain\": [0.0, 1.0], \"title\": {\"text\": \"Ladder score\"}}, \"yaxis\": {\"anchor\": \"x\", \"domain\": [0.0, 1.0], \"title\": {\"text\": \"Country name\"}}},                        {\"responsive\": true}                    ).then(function(){\n",
       "                            \n",
       "var gd = document.getElementById('8a669138-8430-46d6-a706-11417b0cf6b9');\n",
       "var x = new MutationObserver(function (mutations, observer) {{\n",
       "        var display = window.getComputedStyle(gd).display;\n",
       "        if (!display || display === 'none') {{\n",
       "            console.log([gd, 'removed!']);\n",
       "            Plotly.purge(gd);\n",
       "            observer.disconnect();\n",
       "        }}\n",
       "}});\n",
       "\n",
       "// Listen for the removal of the full notebook cells\n",
       "var notebookContainer = gd.closest('#notebook-container');\n",
       "if (notebookContainer) {{\n",
       "    x.observe(notebookContainer, {childList: true});\n",
       "}}\n",
       "\n",
       "// Listen for the clearing of the current output cell\n",
       "var outputEl = gd.closest('.output');\n",
       "if (outputEl) {{\n",
       "    x.observe(outputEl, {childList: true});\n",
       "}}\n",
       "\n",
       "                        })                };                });            </script>        </div>"
      ]
     },
     "metadata": {},
     "output_type": "display_data"
    }
   ],
   "source": [
    "fig = px.bar(center_east_europe, x='Ladder score', y='Country name')\n",
    "fig.show()"
   ]
  },
  {
   "cell_type": "markdown",
   "id": "grateful-kernel",
   "metadata": {
    "papermill": {
     "duration": 0.0523,
     "end_time": "2021-07-21T09:31:28.265273",
     "exception": false,
     "start_time": "2021-07-21T09:31:28.212973",
     "status": "completed"
    },
    "tags": []
   },
   "source": [
    "As seen in the barplot, \n",
    "- **Czech Republic** has the highest happiness score in the Central and Eastern Europe.\n",
    "- **Albania** and **North Macedonia** have the lowest happiness score in the Central and Eastern Europe.\n",
    "- These three country are possible outliers based on the happiness score distribution in the Central and Eastern Europe."
   ]
  },
  {
   "cell_type": "markdown",
   "id": "built-shift",
   "metadata": {
    "papermill": {
     "duration": 0.052292,
     "end_time": "2021-07-21T09:31:28.370258",
     "exception": false,
     "start_time": "2021-07-21T09:31:28.317966",
     "status": "completed"
    },
    "tags": []
   },
   "source": [
    "By using Plotly interactive environment we can see the differences among the countries in the Central and Eastern Europe on the Happiness Score"
   ]
  },
  {
   "cell_type": "code",
   "execution_count": 23,
   "id": "awful-mainstream",
   "metadata": {
    "_kg_hide-input": true,
    "execution": {
     "iopub.execute_input": "2021-07-21T09:31:28.485600Z",
     "iopub.status.busy": "2021-07-21T09:31:28.478054Z",
     "iopub.status.idle": "2021-07-21T09:31:28.551804Z",
     "shell.execute_reply": "2021-07-21T09:31:28.551281Z",
     "shell.execute_reply.started": "2021-07-17T11:35:52.325442Z"
    },
    "papermill": {
     "duration": 0.129049,
     "end_time": "2021-07-21T09:31:28.551943",
     "exception": false,
     "start_time": "2021-07-21T09:31:28.422894",
     "status": "completed"
    },
    "tags": []
   },
   "outputs": [
    {
     "data": {
      "text/html": [
       "<div>                            <div id=\"c24360fc-9635-4062-8e1d-699b6e3d3df6\" class=\"plotly-graph-div\" style=\"height:525px; width:100%;\"></div>            <script type=\"text/javascript\">                require([\"plotly\"], function(Plotly) {                    window.PLOTLYENV=window.PLOTLYENV || {};                                    if (document.getElementById(\"c24360fc-9635-4062-8e1d-699b6e3d3df6\")) {                    Plotly.newPlot(                        \"c24360fc-9635-4062-8e1d-699b6e3d3df6\",                        [{\"line\": {\"color\": \"red\", \"dash\": \"dash\"}, \"marker\": {\"color\": \"blue\", \"size\": 10}, \"mode\": \"markers+text\", \"name\": \"Happines Score\", \"text\": [6.965, 6.461, 6.372, 6.331, 6.255, 6.189, 6.166, 6.14, 6.078, 6.032, 5.992, 5.882, 5.813, 5.581, 5.266, 5.117, 5.101], \"textposition\": \"top center\", \"type\": \"scatter\", \"x\": [\"Czech Republic\", \"Slovenia\", \"Kosovo\", \"Slovakia\", \"Lithuania\", \"Estonia\", \"Poland\", \"Romania\", \"Serbia\", \"Latvia\", \"Hungary\", \"Croatia\", \"Bosnia and Herzegovina\", \"Montenegro\", \"Bulgaria\", \"Albania\", \"North Macedonia\"], \"y\": [6.965, 6.461, 6.372, 6.331, 6.255, 6.189, 6.166, 6.14, 6.078, 6.032, 5.992, 5.882, 5.813, 5.581, 5.266, 5.117, 5.101]}],                        {\"font\": {\"color\": \"Black\", \"family\": \"Oswald', sans-serif\", \"size\": 12}, \"template\": {\"data\": {\"bar\": [{\"error_x\": {\"color\": \"#2a3f5f\"}, \"error_y\": {\"color\": \"#2a3f5f\"}, \"marker\": {\"line\": {\"color\": \"white\", \"width\": 0.5}}, \"type\": \"bar\"}], \"barpolar\": [{\"marker\": {\"line\": {\"color\": \"white\", \"width\": 0.5}}, \"type\": \"barpolar\"}], \"carpet\": [{\"aaxis\": {\"endlinecolor\": \"#2a3f5f\", \"gridcolor\": \"#C8D4E3\", \"linecolor\": \"#C8D4E3\", \"minorgridcolor\": \"#C8D4E3\", \"startlinecolor\": \"#2a3f5f\"}, \"baxis\": {\"endlinecolor\": \"#2a3f5f\", \"gridcolor\": \"#C8D4E3\", \"linecolor\": \"#C8D4E3\", \"minorgridcolor\": \"#C8D4E3\", \"startlinecolor\": \"#2a3f5f\"}, \"type\": \"carpet\"}], \"choropleth\": [{\"colorbar\": {\"outlinewidth\": 0, \"ticks\": \"\"}, \"type\": \"choropleth\"}], \"contour\": [{\"colorbar\": {\"outlinewidth\": 0, \"ticks\": \"\"}, \"colorscale\": [[0.0, \"#0d0887\"], [0.1111111111111111, \"#46039f\"], [0.2222222222222222, \"#7201a8\"], [0.3333333333333333, \"#9c179e\"], [0.4444444444444444, \"#bd3786\"], [0.5555555555555556, \"#d8576b\"], [0.6666666666666666, \"#ed7953\"], [0.7777777777777778, \"#fb9f3a\"], [0.8888888888888888, \"#fdca26\"], [1.0, \"#f0f921\"]], \"type\": \"contour\"}], \"contourcarpet\": [{\"colorbar\": {\"outlinewidth\": 0, \"ticks\": \"\"}, \"type\": \"contourcarpet\"}], \"heatmap\": [{\"colorbar\": {\"outlinewidth\": 0, \"ticks\": \"\"}, \"colorscale\": [[0.0, \"#0d0887\"], [0.1111111111111111, \"#46039f\"], [0.2222222222222222, \"#7201a8\"], [0.3333333333333333, \"#9c179e\"], [0.4444444444444444, \"#bd3786\"], [0.5555555555555556, \"#d8576b\"], [0.6666666666666666, \"#ed7953\"], [0.7777777777777778, \"#fb9f3a\"], [0.8888888888888888, \"#fdca26\"], [1.0, \"#f0f921\"]], \"type\": \"heatmap\"}], \"heatmapgl\": [{\"colorbar\": {\"outlinewidth\": 0, \"ticks\": \"\"}, \"colorscale\": [[0.0, \"#0d0887\"], [0.1111111111111111, \"#46039f\"], [0.2222222222222222, \"#7201a8\"], [0.3333333333333333, \"#9c179e\"], [0.4444444444444444, \"#bd3786\"], [0.5555555555555556, \"#d8576b\"], [0.6666666666666666, \"#ed7953\"], [0.7777777777777778, \"#fb9f3a\"], [0.8888888888888888, \"#fdca26\"], [1.0, \"#f0f921\"]], \"type\": \"heatmapgl\"}], \"histogram\": [{\"marker\": {\"colorbar\": {\"outlinewidth\": 0, \"ticks\": \"\"}}, \"type\": \"histogram\"}], \"histogram2d\": [{\"colorbar\": {\"outlinewidth\": 0, \"ticks\": \"\"}, \"colorscale\": [[0.0, \"#0d0887\"], [0.1111111111111111, \"#46039f\"], [0.2222222222222222, \"#7201a8\"], [0.3333333333333333, \"#9c179e\"], [0.4444444444444444, \"#bd3786\"], [0.5555555555555556, \"#d8576b\"], [0.6666666666666666, \"#ed7953\"], [0.7777777777777778, \"#fb9f3a\"], [0.8888888888888888, \"#fdca26\"], [1.0, \"#f0f921\"]], \"type\": \"histogram2d\"}], \"histogram2dcontour\": [{\"colorbar\": {\"outlinewidth\": 0, \"ticks\": \"\"}, \"colorscale\": [[0.0, \"#0d0887\"], [0.1111111111111111, \"#46039f\"], [0.2222222222222222, \"#7201a8\"], [0.3333333333333333, \"#9c179e\"], [0.4444444444444444, \"#bd3786\"], [0.5555555555555556, \"#d8576b\"], [0.6666666666666666, \"#ed7953\"], [0.7777777777777778, \"#fb9f3a\"], [0.8888888888888888, \"#fdca26\"], [1.0, \"#f0f921\"]], \"type\": \"histogram2dcontour\"}], \"mesh3d\": [{\"colorbar\": {\"outlinewidth\": 0, \"ticks\": \"\"}, \"type\": \"mesh3d\"}], \"parcoords\": [{\"line\": {\"colorbar\": {\"outlinewidth\": 0, \"ticks\": \"\"}}, \"type\": \"parcoords\"}], \"pie\": [{\"automargin\": true, \"type\": \"pie\"}], \"scatter\": [{\"marker\": {\"colorbar\": {\"outlinewidth\": 0, \"ticks\": \"\"}}, \"type\": \"scatter\"}], \"scatter3d\": [{\"line\": {\"colorbar\": {\"outlinewidth\": 0, \"ticks\": \"\"}}, \"marker\": {\"colorbar\": {\"outlinewidth\": 0, \"ticks\": \"\"}}, \"type\": \"scatter3d\"}], \"scattercarpet\": [{\"marker\": {\"colorbar\": {\"outlinewidth\": 0, \"ticks\": \"\"}}, \"type\": \"scattercarpet\"}], \"scattergeo\": [{\"marker\": {\"colorbar\": {\"outlinewidth\": 0, \"ticks\": \"\"}}, \"type\": \"scattergeo\"}], \"scattergl\": [{\"marker\": {\"colorbar\": {\"outlinewidth\": 0, \"ticks\": \"\"}}, \"type\": \"scattergl\"}], \"scattermapbox\": [{\"marker\": {\"colorbar\": {\"outlinewidth\": 0, \"ticks\": \"\"}}, \"type\": \"scattermapbox\"}], \"scatterpolar\": [{\"marker\": {\"colorbar\": {\"outlinewidth\": 0, \"ticks\": \"\"}}, \"type\": \"scatterpolar\"}], \"scatterpolargl\": [{\"marker\": {\"colorbar\": {\"outlinewidth\": 0, \"ticks\": \"\"}}, \"type\": \"scatterpolargl\"}], \"scatterternary\": [{\"marker\": {\"colorbar\": {\"outlinewidth\": 0, \"ticks\": \"\"}}, \"type\": \"scatterternary\"}], \"surface\": [{\"colorbar\": {\"outlinewidth\": 0, \"ticks\": \"\"}, \"colorscale\": [[0.0, \"#0d0887\"], [0.1111111111111111, \"#46039f\"], [0.2222222222222222, \"#7201a8\"], [0.3333333333333333, \"#9c179e\"], [0.4444444444444444, \"#bd3786\"], [0.5555555555555556, \"#d8576b\"], [0.6666666666666666, \"#ed7953\"], [0.7777777777777778, \"#fb9f3a\"], [0.8888888888888888, \"#fdca26\"], [1.0, \"#f0f921\"]], \"type\": \"surface\"}], \"table\": [{\"cells\": {\"fill\": {\"color\": \"#EBF0F8\"}, \"line\": {\"color\": \"white\"}}, \"header\": {\"fill\": {\"color\": \"#C8D4E3\"}, \"line\": {\"color\": \"white\"}}, \"type\": \"table\"}]}, \"layout\": {\"annotationdefaults\": {\"arrowcolor\": \"#2a3f5f\", \"arrowhead\": 0, \"arrowwidth\": 1}, \"autotypenumbers\": \"strict\", \"coloraxis\": {\"colorbar\": {\"outlinewidth\": 0, \"ticks\": \"\"}}, \"colorscale\": {\"diverging\": [[0, \"#8e0152\"], [0.1, \"#c51b7d\"], [0.2, \"#de77ae\"], [0.3, \"#f1b6da\"], [0.4, \"#fde0ef\"], [0.5, \"#f7f7f7\"], [0.6, \"#e6f5d0\"], [0.7, \"#b8e186\"], [0.8, \"#7fbc41\"], [0.9, \"#4d9221\"], [1, \"#276419\"]], \"sequential\": [[0.0, \"#0d0887\"], [0.1111111111111111, \"#46039f\"], [0.2222222222222222, \"#7201a8\"], [0.3333333333333333, \"#9c179e\"], [0.4444444444444444, \"#bd3786\"], [0.5555555555555556, \"#d8576b\"], [0.6666666666666666, \"#ed7953\"], [0.7777777777777778, \"#fb9f3a\"], [0.8888888888888888, \"#fdca26\"], [1.0, \"#f0f921\"]], \"sequentialminus\": [[0.0, \"#0d0887\"], [0.1111111111111111, \"#46039f\"], [0.2222222222222222, \"#7201a8\"], [0.3333333333333333, \"#9c179e\"], [0.4444444444444444, \"#bd3786\"], [0.5555555555555556, \"#d8576b\"], [0.6666666666666666, \"#ed7953\"], [0.7777777777777778, \"#fb9f3a\"], [0.8888888888888888, \"#fdca26\"], [1.0, \"#f0f921\"]]}, \"colorway\": [\"#636efa\", \"#EF553B\", \"#00cc96\", \"#ab63fa\", \"#FFA15A\", \"#19d3f3\", \"#FF6692\", \"#B6E880\", \"#FF97FF\", \"#FECB52\"], \"font\": {\"color\": \"#2a3f5f\"}, \"geo\": {\"bgcolor\": \"white\", \"lakecolor\": \"white\", \"landcolor\": \"white\", \"showlakes\": true, \"showland\": true, \"subunitcolor\": \"#C8D4E3\"}, \"hoverlabel\": {\"align\": \"left\"}, \"hovermode\": \"closest\", \"mapbox\": {\"style\": \"light\"}, \"paper_bgcolor\": \"white\", \"plot_bgcolor\": \"white\", \"polar\": {\"angularaxis\": {\"gridcolor\": \"#EBF0F8\", \"linecolor\": \"#EBF0F8\", \"ticks\": \"\"}, \"bgcolor\": \"white\", \"radialaxis\": {\"gridcolor\": \"#EBF0F8\", \"linecolor\": \"#EBF0F8\", \"ticks\": \"\"}}, \"scene\": {\"xaxis\": {\"backgroundcolor\": \"white\", \"gridcolor\": \"#DFE8F3\", \"gridwidth\": 2, \"linecolor\": \"#EBF0F8\", \"showbackground\": true, \"ticks\": \"\", \"zerolinecolor\": \"#EBF0F8\"}, \"yaxis\": {\"backgroundcolor\": \"white\", \"gridcolor\": \"#DFE8F3\", \"gridwidth\": 2, \"linecolor\": \"#EBF0F8\", \"showbackground\": true, \"ticks\": \"\", \"zerolinecolor\": \"#EBF0F8\"}, \"zaxis\": {\"backgroundcolor\": \"white\", \"gridcolor\": \"#DFE8F3\", \"gridwidth\": 2, \"linecolor\": \"#EBF0F8\", \"showbackground\": true, \"ticks\": \"\", \"zerolinecolor\": \"#EBF0F8\"}}, \"shapedefaults\": {\"line\": {\"color\": \"#2a3f5f\"}}, \"ternary\": {\"aaxis\": {\"gridcolor\": \"#DFE8F3\", \"linecolor\": \"#A2B1C6\", \"ticks\": \"\"}, \"baxis\": {\"gridcolor\": \"#DFE8F3\", \"linecolor\": \"#A2B1C6\", \"ticks\": \"\"}, \"bgcolor\": \"white\", \"caxis\": {\"gridcolor\": \"#DFE8F3\", \"linecolor\": \"#A2B1C6\", \"ticks\": \"\"}}, \"title\": {\"x\": 0.05}, \"xaxis\": {\"automargin\": true, \"gridcolor\": \"#EBF0F8\", \"linecolor\": \"#EBF0F8\", \"ticks\": \"\", \"title\": {\"standoff\": 15}, \"zerolinecolor\": \"#EBF0F8\", \"zerolinewidth\": 2}, \"yaxis\": {\"automargin\": true, \"gridcolor\": \"#EBF0F8\", \"linecolor\": \"#EBF0F8\", \"ticks\": \"\", \"title\": {\"standoff\": 15}, \"zerolinecolor\": \"#EBF0F8\", \"zerolinewidth\": 2}}}, \"title\": {\"text\": \"<b>Center East Europe Happiness Score in 2021</b>\"}, \"xaxis\": {\"showgrid\": true, \"title\": {\"text\": \"<b>Country</b>\"}}, \"yaxis\": {\"showgrid\": true, \"title\": {\"text\": \"<b>Happiness Score</b>\"}}, \"yaxis2\": {\"overlaying\": \"y\", \"showgrid\": true, \"side\": \"right\", \"title\": {\"text\": \"<b>Happiness Score</b>\"}}},                        {\"responsive\": true}                    ).then(function(){\n",
       "                            \n",
       "var gd = document.getElementById('c24360fc-9635-4062-8e1d-699b6e3d3df6');\n",
       "var x = new MutationObserver(function (mutations, observer) {{\n",
       "        var display = window.getComputedStyle(gd).display;\n",
       "        if (!display || display === 'none') {{\n",
       "            console.log([gd, 'removed!']);\n",
       "            Plotly.purge(gd);\n",
       "            observer.disconnect();\n",
       "        }}\n",
       "}});\n",
       "\n",
       "// Listen for the removal of the full notebook cells\n",
       "var notebookContainer = gd.closest('#notebook-container');\n",
       "if (notebookContainer) {{\n",
       "    x.observe(notebookContainer, {childList: true});\n",
       "}}\n",
       "\n",
       "// Listen for the clearing of the current output cell\n",
       "var outputEl = gd.closest('.output');\n",
       "if (outputEl) {{\n",
       "    x.observe(outputEl, {childList: true});\n",
       "}}\n",
       "\n",
       "                        })                };                });            </script>        </div>"
      ]
     },
     "metadata": {},
     "output_type": "display_data"
    }
   ],
   "source": [
    "fig=go.Figure()\n",
    "fig.add_trace(go.Scatter(\n",
    "    x=center_east_europe['Country name'],\n",
    "    y=center_east_europe['Ladder score'],\n",
    "    name='Happines Score',\n",
    "    mode='markers+text',\n",
    "    marker_color='blue',\n",
    "    marker_size=10,\n",
    "    text=center_east_europe['Ladder score'],\n",
    "    textposition='top center',\n",
    "    line=dict(color='red',dash='dash'),\n",
    "))\n",
    "fig.update_layout(\n",
    "    title= \"<b>Center East Europe Happiness Score in 2021</b>\",\n",
    "    xaxis_title=\"<b>Country</b>\",\n",
    "    yaxis_title=\"<b>Happiness Score</b>\",\n",
    "    template='plotly_white',\n",
    "    font=dict(\n",
    "        size=12,\n",
    "        color=\"Black\",\n",
    "        family=\"Oswald', sans-serif\"\n",
    "        ),\n",
    "    xaxis=dict(showgrid=True),\n",
    "    yaxis=dict(showgrid=True),\n",
    "    yaxis2=dict(showgrid=True,overlaying='y',side='right',title='<b>Happiness Score</b>'),\n",
    ")\n",
    "fig.show()"
   ]
  },
  {
   "cell_type": "markdown",
   "id": "decimal-guide",
   "metadata": {
    "papermill": {
     "duration": 0.052991,
     "end_time": "2021-07-21T09:31:28.659221",
     "exception": false,
     "start_time": "2021-07-21T09:31:28.606230",
     "status": "completed"
    },
    "tags": []
   },
   "source": [
    "- After seeing the 2021 happines score it would be good idea to see how was the happpiness score trends in the past years.\n",
    "- Let's look at the previous years happines score for all the countries in the region. "
   ]
  },
  {
   "cell_type": "code",
   "execution_count": 24,
   "id": "historical-jumping",
   "metadata": {
    "_kg_hide-input": true,
    "execution": {
     "iopub.execute_input": "2021-07-21T09:31:28.771951Z",
     "iopub.status.busy": "2021-07-21T09:31:28.771317Z",
     "iopub.status.idle": "2021-07-21T09:31:28.774229Z",
     "shell.execute_reply": "2021-07-21T09:31:28.773602Z",
     "shell.execute_reply.started": "2021-07-17T11:35:52.387421Z"
    },
    "papermill": {
     "duration": 0.061642,
     "end_time": "2021-07-21T09:31:28.774397",
     "exception": false,
     "start_time": "2021-07-21T09:31:28.712755",
     "status": "completed"
    },
    "tags": []
   },
   "outputs": [],
   "source": [
    "css3_colors = ['#add8e6', '#f08080','#e0ffff','#fafad2','#d3d3d3','#90ee90','#ffb6c1','#ffa07a','#20b2aa','#87cefa','#778899','#b0c4de','#32cd32','#ff00ff','#66cdaa','#ba55d3', '#7b68ee','#48d1cc', '#f5fffa' ]\n",
    "css3_dict ={}\n",
    "i=0\n",
    "for name in center_east_europe['Country name']:\n",
    "    css3_dict[name]=css3_colors[i]\n",
    "    i+=1"
   ]
  },
  {
   "cell_type": "code",
   "execution_count": 25,
   "id": "advance-ground",
   "metadata": {
    "_kg_hide-input": true,
    "execution": {
     "iopub.execute_input": "2021-07-21T09:31:28.886694Z",
     "iopub.status.busy": "2021-07-21T09:31:28.886027Z",
     "iopub.status.idle": "2021-07-21T09:31:28.895425Z",
     "shell.execute_reply": "2021-07-21T09:31:28.894911Z",
     "shell.execute_reply.started": "2021-07-17T11:35:52.394616Z"
    },
    "papermill": {
     "duration": 0.066424,
     "end_time": "2021-07-21T09:31:28.895565",
     "exception": false,
     "start_time": "2021-07-21T09:31:28.829141",
     "status": "completed"
    },
    "tags": []
   },
   "outputs": [],
   "source": [
    "center_east_europe_past=df_past[df_past['Country name'].isin(center_east_europe['Country name'].to_list())].loc[:,'Country name':'Ladder score']\n"
   ]
  },
  {
   "cell_type": "code",
   "execution_count": 26,
   "id": "inner-rachel",
   "metadata": {
    "_kg_hide-input": true,
    "execution": {
     "iopub.execute_input": "2021-07-21T09:31:29.017838Z",
     "iopub.status.busy": "2021-07-21T09:31:29.017163Z",
     "iopub.status.idle": "2021-07-21T09:31:29.105260Z",
     "shell.execute_reply": "2021-07-21T09:31:29.104571Z",
     "shell.execute_reply.started": "2021-07-17T11:35:52.406475Z"
    },
    "papermill": {
     "duration": 0.155714,
     "end_time": "2021-07-21T09:31:29.105431",
     "exception": false,
     "start_time": "2021-07-21T09:31:28.949717",
     "status": "completed"
    },
    "tags": []
   },
   "outputs": [
    {
     "data": {
      "text/html": [
       "<div>                            <div id=\"995ea5fe-f72f-44b5-8fe5-a37ab131f441\" class=\"plotly-graph-div\" style=\"height:525px; width:100%;\"></div>            <script type=\"text/javascript\">                require([\"plotly\"], function(Plotly) {                    window.PLOTLYENV=window.PLOTLYENV || {};                                    if (document.getElementById(\"995ea5fe-f72f-44b5-8fe5-a37ab131f441\")) {                    Plotly.newPlot(                        \"995ea5fe-f72f-44b5-8fe5-a37ab131f441\",                        [{\"line\": {\"color\": \"#add8e6\"}, \"marker\": {\"color\": \"black\", \"size\": 3}, \"mode\": \"markers+text+lines\", \"name\": \"Czech Republic\", \"type\": \"scatter\", \"x\": [2005, 2007, 2010, 2011, 2012, 2013, 2014, 2015, 2016, 2017, 2018, 2020], \"y\": [6.439, 6.5, 6.25, 6.331, 6.334, 6.698, 6.484, 6.608, 6.736, 6.79, 7.034, 6.897], \"yaxis\": \"y\"}, {\"line\": {\"color\": \"#f08080\"}, \"marker\": {\"color\": \"black\", \"size\": 3}, \"mode\": \"markers+text+lines\", \"name\": \"Slovenia\", \"type\": \"scatter\", \"x\": [2006, 2009, 2010, 2011, 2012, 2013, 2014, 2015, 2016, 2017, 2018, 2019, 2020], \"y\": [5.811, 5.83, 6.083, 6.036, 6.063, 5.975, 5.678, 5.741, 5.937, 6.167, 6.249, 6.665, 6.462], \"yaxis\": \"y\"}, {\"line\": {\"color\": \"#e0ffff\"}, \"marker\": {\"color\": \"black\", \"size\": 3}, \"mode\": \"markers+text+lines\", \"name\": \"Kosovo\", \"type\": \"scatter\", \"x\": [2007, 2008, 2009, 2010, 2011, 2012, 2013, 2014, 2015, 2016, 2017, 2018, 2019, 2020], \"y\": [5.104, 5.522, 5.891, 5.177, 4.86, 5.64, 6.126, 5.0, 5.077, 5.759, 6.149, 6.392, 6.425, 6.294], \"yaxis\": \"y\"}, {\"line\": {\"color\": \"#fafad2\"}, \"marker\": {\"color\": \"black\", \"size\": 3}, \"mode\": \"markers+text+lines\", \"name\": \"Slovakia\", \"type\": \"scatter\", \"x\": [2006, 2010, 2011, 2012, 2013, 2014, 2015, 2016, 2017, 2018, 2019, 2020], \"y\": [5.265, 6.052, 5.945, 5.911, 5.937, 6.139, 6.162, 5.993, 6.366, 6.235, 6.243, 6.519], \"yaxis\": \"y\"}, {\"line\": {\"color\": \"#d3d3d3\"}, \"marker\": {\"color\": \"black\", \"size\": 3}, \"mode\": \"markers+text+lines\", \"name\": \"Lithuania\", \"type\": \"scatter\", \"x\": [2006, 2007, 2008, 2009, 2010, 2011, 2012, 2013, 2014, 2015, 2016, 2017, 2018, 2019, 2020], \"y\": [5.954, 5.808, 5.554, 5.467, 5.066, 5.432, 5.771, 5.596, 6.126, 5.711, 5.866, 6.273, 6.309, 6.064, 6.391], \"yaxis\": \"y\"}, {\"line\": {\"color\": \"#90ee90\"}, \"marker\": {\"color\": \"black\", \"size\": 3}, \"mode\": \"markers+text+lines\", \"name\": \"Estonia\", \"type\": \"scatter\", \"x\": [2006, 2007, 2008, 2009, 2011, 2012, 2013, 2014, 2015, 2016, 2017, 2018, 2019, 2020], \"y\": [5.371, 5.332, 5.452, 5.138, 5.487, 5.364, 5.367, 5.556, 5.629, 5.65, 5.938, 6.091, 6.035, 6.453], \"yaxis\": \"y\"}, {\"line\": {\"color\": \"#ffb6c1\"}, \"marker\": {\"color\": \"black\", \"size\": 3}, \"mode\": \"markers+text+lines\", \"name\": \"Poland\", \"type\": \"scatter\", \"x\": [2005, 2007, 2009, 2010, 2011, 2012, 2013, 2014, 2015, 2016, 2017, 2018, 2019, 2020], \"y\": [5.587, 5.886, 5.772, 5.887, 5.646, 5.876, 5.746, 5.75, 6.007, 6.162, 6.201, 6.111, 6.242, 6.139], \"yaxis\": \"y\"}, {\"line\": {\"color\": \"#ffa07a\"}, \"marker\": {\"color\": \"black\", \"size\": 3}, \"mode\": \"markers+text+lines\", \"name\": \"Romania\", \"type\": \"scatter\", \"x\": [2005, 2007, 2009, 2010, 2011, 2012, 2013, 2014, 2015, 2016, 2017, 2018, 2019], \"y\": [5.049, 5.394, 5.368, 4.909, 5.023, 5.167, 5.082, 5.727, 5.777, 5.969, 6.09, 6.151, 6.13], \"yaxis\": \"y\"}, {\"line\": {\"color\": \"#20b2aa\"}, \"marker\": {\"color\": \"black\", \"size\": 3}, \"mode\": \"markers+text+lines\", \"name\": \"Serbia\", \"type\": \"scatter\", \"x\": [2007, 2009, 2010, 2011, 2012, 2013, 2014, 2015, 2016, 2017, 2018, 2019, 2020], \"y\": [4.75, 4.38, 4.461, 4.815, 5.155, 5.102, 5.113, 5.318, 5.753, 5.122, 5.936, 6.241, 6.042], \"yaxis\": \"y\"}, {\"line\": {\"color\": \"#87cefa\"}, \"marker\": {\"color\": \"black\", \"size\": 3}, \"mode\": \"markers+text+lines\", \"name\": \"Latvia\", \"type\": \"scatter\", \"x\": [2006, 2007, 2008, 2009, 2011, 2012, 2013, 2014, 2015, 2016, 2017, 2018, 2019, 2020], \"y\": [4.71, 4.667, 5.145, 4.669, 4.967, 5.125, 5.07, 5.729, 5.881, 5.94, 5.978, 5.901, 5.97, 6.229], \"yaxis\": \"y\"}, {\"line\": {\"color\": \"#778899\"}, \"marker\": {\"color\": \"black\", \"size\": 3}, \"mode\": \"markers+text+lines\", \"name\": \"Hungary\", \"type\": \"scatter\", \"x\": [2005, 2007, 2009, 2010, 2011, 2012, 2013, 2014, 2015, 2016, 2017, 2018, 2019, 2020], \"y\": [5.194, 4.954, 4.895, 4.725, 4.918, 4.683, 4.914, 5.181, 5.344, 5.449, 6.065, 5.936, 6.0, 6.038], \"yaxis\": \"y\"}, {\"line\": {\"color\": \"#b0c4de\"}, \"marker\": {\"color\": \"black\", \"size\": 3}, \"mode\": \"markers+text+lines\", \"name\": \"Croatia\", \"type\": \"scatter\", \"x\": [2007, 2009, 2010, 2011, 2012, 2013, 2014, 2015, 2016, 2017, 2018, 2019, 2020], \"y\": [5.821, 5.433, 5.596, 5.385, 6.028, 5.885, 5.381, 5.205, 5.417, 5.343, 5.536, 5.626, 6.508], \"yaxis\": \"y\"}, {\"line\": {\"color\": \"#32cd32\"}, \"marker\": {\"color\": \"black\", \"size\": 3}, \"mode\": \"markers+text+lines\", \"name\": \"Bosnia and Herzegovina\", \"type\": \"scatter\", \"x\": [2007, 2009, 2010, 2011, 2012, 2013, 2014, 2015, 2016, 2017, 2018, 2019, 2020], \"y\": [4.9, 4.963, 4.669, 4.995, 4.773, 5.124, 5.249, 5.117, 5.181, 5.09, 5.887, 6.016, 5.516], \"yaxis\": \"y\"}, {\"line\": {\"color\": \"#ff00ff\"}, \"marker\": {\"color\": \"black\", \"size\": 3}, \"mode\": \"markers+text+lines\", \"name\": \"Montenegro\", \"type\": \"scatter\", \"x\": [2007, 2009, 2010, 2011, 2012, 2013, 2014, 2015, 2016, 2017, 2018, 2019, 2020], \"y\": [5.196, 4.801, 5.455, 5.223, 5.219, 5.074, 5.283, 5.125, 5.304, 5.615, 5.65, 5.386, 5.722], \"yaxis\": \"y\"}, {\"line\": {\"color\": \"#66cdaa\"}, \"marker\": {\"color\": \"black\", \"size\": 3}, \"mode\": \"markers+text+lines\", \"name\": \"Bulgaria\", \"type\": \"scatter\", \"x\": [2007, 2010, 2011, 2012, 2013, 2014, 2015, 2016, 2017, 2018, 2019, 2020], \"y\": [3.844, 3.912, 3.875, 4.222, 3.993, 4.438, 4.865, 4.838, 5.097, 5.099, 5.108, 5.598], \"yaxis\": \"y\"}, {\"line\": {\"color\": \"#ba55d3\"}, \"marker\": {\"color\": \"black\", \"size\": 3}, \"mode\": \"markers+text+lines\", \"name\": \"Albania\", \"type\": \"scatter\", \"x\": [2007, 2009, 2010, 2011, 2012, 2013, 2014, 2015, 2016, 2017, 2018, 2019, 2020], \"y\": [4.634, 5.485, 5.269, 5.867, 5.51, 4.551, 4.814, 4.607, 4.511, 4.64, 5.004, 4.995, 5.365], \"yaxis\": \"y\"}, {\"line\": {\"color\": \"#7b68ee\"}, \"marker\": {\"color\": \"black\", \"size\": 3}, \"mode\": \"markers+text+lines\", \"name\": \"North Macedonia\", \"type\": \"scatter\", \"x\": [2007, 2009, 2010, 2011, 2012, 2013, 2014, 2015, 2016, 2017, 2018, 2019, 2020], \"y\": [4.494, 4.428, 4.18, 4.898, 4.64, 5.186, 5.204, 4.976, 5.346, 5.234, 5.24, 5.015, 5.054], \"yaxis\": \"y\"}],                        {\"font\": {\"color\": \"Blue\", \"family\": \"Oswald', sans-serif\", \"size\": 14}, \"template\": {\"data\": {\"bar\": [{\"error_x\": {\"color\": \"#2a3f5f\"}, \"error_y\": {\"color\": \"#2a3f5f\"}, \"marker\": {\"line\": {\"color\": \"white\", \"width\": 0.5}}, \"type\": \"bar\"}], \"barpolar\": [{\"marker\": {\"line\": {\"color\": \"white\", \"width\": 0.5}}, \"type\": \"barpolar\"}], \"carpet\": [{\"aaxis\": {\"endlinecolor\": \"#2a3f5f\", \"gridcolor\": \"#C8D4E3\", \"linecolor\": \"#C8D4E3\", \"minorgridcolor\": \"#C8D4E3\", \"startlinecolor\": \"#2a3f5f\"}, \"baxis\": {\"endlinecolor\": \"#2a3f5f\", \"gridcolor\": \"#C8D4E3\", \"linecolor\": \"#C8D4E3\", \"minorgridcolor\": \"#C8D4E3\", \"startlinecolor\": \"#2a3f5f\"}, \"type\": \"carpet\"}], \"choropleth\": [{\"colorbar\": {\"outlinewidth\": 0, \"ticks\": \"\"}, \"type\": \"choropleth\"}], \"contour\": [{\"colorbar\": {\"outlinewidth\": 0, \"ticks\": \"\"}, \"colorscale\": [[0.0, \"#0d0887\"], [0.1111111111111111, \"#46039f\"], [0.2222222222222222, \"#7201a8\"], [0.3333333333333333, \"#9c179e\"], [0.4444444444444444, \"#bd3786\"], [0.5555555555555556, \"#d8576b\"], [0.6666666666666666, \"#ed7953\"], [0.7777777777777778, \"#fb9f3a\"], [0.8888888888888888, \"#fdca26\"], [1.0, \"#f0f921\"]], \"type\": \"contour\"}], \"contourcarpet\": [{\"colorbar\": {\"outlinewidth\": 0, \"ticks\": \"\"}, \"type\": \"contourcarpet\"}], \"heatmap\": [{\"colorbar\": {\"outlinewidth\": 0, \"ticks\": \"\"}, \"colorscale\": [[0.0, \"#0d0887\"], [0.1111111111111111, \"#46039f\"], [0.2222222222222222, \"#7201a8\"], [0.3333333333333333, \"#9c179e\"], [0.4444444444444444, \"#bd3786\"], [0.5555555555555556, \"#d8576b\"], [0.6666666666666666, \"#ed7953\"], [0.7777777777777778, \"#fb9f3a\"], [0.8888888888888888, \"#fdca26\"], [1.0, \"#f0f921\"]], \"type\": \"heatmap\"}], \"heatmapgl\": [{\"colorbar\": {\"outlinewidth\": 0, \"ticks\": \"\"}, \"colorscale\": [[0.0, \"#0d0887\"], [0.1111111111111111, \"#46039f\"], [0.2222222222222222, \"#7201a8\"], [0.3333333333333333, \"#9c179e\"], [0.4444444444444444, \"#bd3786\"], [0.5555555555555556, \"#d8576b\"], [0.6666666666666666, \"#ed7953\"], [0.7777777777777778, \"#fb9f3a\"], [0.8888888888888888, \"#fdca26\"], [1.0, \"#f0f921\"]], \"type\": \"heatmapgl\"}], \"histogram\": [{\"marker\": {\"colorbar\": {\"outlinewidth\": 0, \"ticks\": \"\"}}, \"type\": \"histogram\"}], \"histogram2d\": [{\"colorbar\": {\"outlinewidth\": 0, \"ticks\": \"\"}, \"colorscale\": [[0.0, \"#0d0887\"], [0.1111111111111111, \"#46039f\"], [0.2222222222222222, \"#7201a8\"], [0.3333333333333333, \"#9c179e\"], [0.4444444444444444, \"#bd3786\"], [0.5555555555555556, \"#d8576b\"], [0.6666666666666666, \"#ed7953\"], [0.7777777777777778, \"#fb9f3a\"], [0.8888888888888888, \"#fdca26\"], [1.0, \"#f0f921\"]], \"type\": \"histogram2d\"}], \"histogram2dcontour\": [{\"colorbar\": {\"outlinewidth\": 0, \"ticks\": \"\"}, \"colorscale\": [[0.0, \"#0d0887\"], [0.1111111111111111, \"#46039f\"], [0.2222222222222222, \"#7201a8\"], [0.3333333333333333, \"#9c179e\"], [0.4444444444444444, \"#bd3786\"], [0.5555555555555556, \"#d8576b\"], [0.6666666666666666, \"#ed7953\"], [0.7777777777777778, \"#fb9f3a\"], [0.8888888888888888, \"#fdca26\"], [1.0, \"#f0f921\"]], \"type\": \"histogram2dcontour\"}], \"mesh3d\": [{\"colorbar\": {\"outlinewidth\": 0, \"ticks\": \"\"}, \"type\": \"mesh3d\"}], \"parcoords\": [{\"line\": {\"colorbar\": {\"outlinewidth\": 0, \"ticks\": \"\"}}, \"type\": \"parcoords\"}], \"pie\": [{\"automargin\": true, \"type\": \"pie\"}], \"scatter\": [{\"marker\": {\"colorbar\": {\"outlinewidth\": 0, \"ticks\": \"\"}}, \"type\": \"scatter\"}], \"scatter3d\": [{\"line\": {\"colorbar\": {\"outlinewidth\": 0, \"ticks\": \"\"}}, \"marker\": {\"colorbar\": {\"outlinewidth\": 0, \"ticks\": \"\"}}, \"type\": \"scatter3d\"}], \"scattercarpet\": [{\"marker\": {\"colorbar\": {\"outlinewidth\": 0, \"ticks\": \"\"}}, \"type\": \"scattercarpet\"}], \"scattergeo\": [{\"marker\": {\"colorbar\": {\"outlinewidth\": 0, \"ticks\": \"\"}}, \"type\": \"scattergeo\"}], \"scattergl\": [{\"marker\": {\"colorbar\": {\"outlinewidth\": 0, \"ticks\": \"\"}}, \"type\": \"scattergl\"}], \"scattermapbox\": [{\"marker\": {\"colorbar\": {\"outlinewidth\": 0, \"ticks\": \"\"}}, \"type\": \"scattermapbox\"}], \"scatterpolar\": [{\"marker\": {\"colorbar\": {\"outlinewidth\": 0, \"ticks\": \"\"}}, \"type\": \"scatterpolar\"}], \"scatterpolargl\": [{\"marker\": {\"colorbar\": {\"outlinewidth\": 0, \"ticks\": \"\"}}, \"type\": \"scatterpolargl\"}], \"scatterternary\": [{\"marker\": {\"colorbar\": {\"outlinewidth\": 0, \"ticks\": \"\"}}, \"type\": \"scatterternary\"}], \"surface\": [{\"colorbar\": {\"outlinewidth\": 0, \"ticks\": \"\"}, \"colorscale\": [[0.0, \"#0d0887\"], [0.1111111111111111, \"#46039f\"], [0.2222222222222222, \"#7201a8\"], [0.3333333333333333, \"#9c179e\"], [0.4444444444444444, \"#bd3786\"], [0.5555555555555556, \"#d8576b\"], [0.6666666666666666, \"#ed7953\"], [0.7777777777777778, \"#fb9f3a\"], [0.8888888888888888, \"#fdca26\"], [1.0, \"#f0f921\"]], \"type\": \"surface\"}], \"table\": [{\"cells\": {\"fill\": {\"color\": \"#EBF0F8\"}, \"line\": {\"color\": \"white\"}}, \"header\": {\"fill\": {\"color\": \"#C8D4E3\"}, \"line\": {\"color\": \"white\"}}, \"type\": \"table\"}]}, \"layout\": {\"annotationdefaults\": {\"arrowcolor\": \"#2a3f5f\", \"arrowhead\": 0, \"arrowwidth\": 1}, \"autotypenumbers\": \"strict\", \"coloraxis\": {\"colorbar\": {\"outlinewidth\": 0, \"ticks\": \"\"}}, \"colorscale\": {\"diverging\": [[0, \"#8e0152\"], [0.1, \"#c51b7d\"], [0.2, \"#de77ae\"], [0.3, \"#f1b6da\"], [0.4, \"#fde0ef\"], [0.5, \"#f7f7f7\"], [0.6, \"#e6f5d0\"], [0.7, \"#b8e186\"], [0.8, \"#7fbc41\"], [0.9, \"#4d9221\"], [1, \"#276419\"]], \"sequential\": [[0.0, \"#0d0887\"], [0.1111111111111111, \"#46039f\"], [0.2222222222222222, \"#7201a8\"], [0.3333333333333333, \"#9c179e\"], [0.4444444444444444, \"#bd3786\"], [0.5555555555555556, \"#d8576b\"], [0.6666666666666666, \"#ed7953\"], [0.7777777777777778, \"#fb9f3a\"], [0.8888888888888888, \"#fdca26\"], [1.0, \"#f0f921\"]], \"sequentialminus\": [[0.0, \"#0d0887\"], [0.1111111111111111, \"#46039f\"], [0.2222222222222222, \"#7201a8\"], [0.3333333333333333, \"#9c179e\"], [0.4444444444444444, \"#bd3786\"], [0.5555555555555556, \"#d8576b\"], [0.6666666666666666, \"#ed7953\"], [0.7777777777777778, \"#fb9f3a\"], [0.8888888888888888, \"#fdca26\"], [1.0, \"#f0f921\"]]}, \"colorway\": [\"#636efa\", \"#EF553B\", \"#00cc96\", \"#ab63fa\", \"#FFA15A\", \"#19d3f3\", \"#FF6692\", \"#B6E880\", \"#FF97FF\", \"#FECB52\"], \"font\": {\"color\": \"#2a3f5f\"}, \"geo\": {\"bgcolor\": \"white\", \"lakecolor\": \"white\", \"landcolor\": \"white\", \"showlakes\": true, \"showland\": true, \"subunitcolor\": \"#C8D4E3\"}, \"hoverlabel\": {\"align\": \"left\"}, \"hovermode\": \"closest\", \"mapbox\": {\"style\": \"light\"}, \"paper_bgcolor\": \"white\", \"plot_bgcolor\": \"white\", \"polar\": {\"angularaxis\": {\"gridcolor\": \"#EBF0F8\", \"linecolor\": \"#EBF0F8\", \"ticks\": \"\"}, \"bgcolor\": \"white\", \"radialaxis\": {\"gridcolor\": \"#EBF0F8\", \"linecolor\": \"#EBF0F8\", \"ticks\": \"\"}}, \"scene\": {\"xaxis\": {\"backgroundcolor\": \"white\", \"gridcolor\": \"#DFE8F3\", \"gridwidth\": 2, \"linecolor\": \"#EBF0F8\", \"showbackground\": true, \"ticks\": \"\", \"zerolinecolor\": \"#EBF0F8\"}, \"yaxis\": {\"backgroundcolor\": \"white\", \"gridcolor\": \"#DFE8F3\", \"gridwidth\": 2, \"linecolor\": \"#EBF0F8\", \"showbackground\": true, \"ticks\": \"\", \"zerolinecolor\": \"#EBF0F8\"}, \"zaxis\": {\"backgroundcolor\": \"white\", \"gridcolor\": \"#DFE8F3\", \"gridwidth\": 2, \"linecolor\": \"#EBF0F8\", \"showbackground\": true, \"ticks\": \"\", \"zerolinecolor\": \"#EBF0F8\"}}, \"shapedefaults\": {\"line\": {\"color\": \"#2a3f5f\"}}, \"ternary\": {\"aaxis\": {\"gridcolor\": \"#DFE8F3\", \"linecolor\": \"#A2B1C6\", \"ticks\": \"\"}, \"baxis\": {\"gridcolor\": \"#DFE8F3\", \"linecolor\": \"#A2B1C6\", \"ticks\": \"\"}, \"bgcolor\": \"white\", \"caxis\": {\"gridcolor\": \"#DFE8F3\", \"linecolor\": \"#A2B1C6\", \"ticks\": \"\"}}, \"title\": {\"x\": 0.05}, \"xaxis\": {\"automargin\": true, \"gridcolor\": \"#EBF0F8\", \"linecolor\": \"#EBF0F8\", \"ticks\": \"\", \"title\": {\"standoff\": 15}, \"zerolinecolor\": \"#EBF0F8\", \"zerolinewidth\": 2}, \"yaxis\": {\"automargin\": true, \"gridcolor\": \"#EBF0F8\", \"linecolor\": \"#EBF0F8\", \"ticks\": \"\", \"title\": {\"standoff\": 15}, \"zerolinecolor\": \"#EBF0F8\", \"zerolinewidth\": 2}}}, \"title\": {\"text\": \"Happiness Score Trend in Central and Eastern Europe \"}, \"xaxis\": {\"showgrid\": true, \"title\": {\"text\": \"Year\"}}, \"yaxis\": {\"showgrid\": true, \"title\": {\"text\": \"Happiness Score\"}}},                        {\"responsive\": true}                    ).then(function(){\n",
       "                            \n",
       "var gd = document.getElementById('995ea5fe-f72f-44b5-8fe5-a37ab131f441');\n",
       "var x = new MutationObserver(function (mutations, observer) {{\n",
       "        var display = window.getComputedStyle(gd).display;\n",
       "        if (!display || display === 'none') {{\n",
       "            console.log([gd, 'removed!']);\n",
       "            Plotly.purge(gd);\n",
       "            observer.disconnect();\n",
       "        }}\n",
       "}});\n",
       "\n",
       "// Listen for the removal of the full notebook cells\n",
       "var notebookContainer = gd.closest('#notebook-container');\n",
       "if (notebookContainer) {{\n",
       "    x.observe(notebookContainer, {childList: true});\n",
       "}}\n",
       "\n",
       "// Listen for the clearing of the current output cell\n",
       "var outputEl = gd.closest('.output');\n",
       "if (outputEl) {{\n",
       "    x.observe(outputEl, {childList: true});\n",
       "}}\n",
       "\n",
       "                        })                };                });            </script>        </div>"
      ]
     },
     "metadata": {},
     "output_type": "display_data"
    }
   ],
   "source": [
    "fig=go.Figure()\n",
    "for name in center_east_europe['Country name']:\n",
    "    fig.add_trace(go.Scatter(\n",
    "    x=center_east_europe_past[center_east_europe_past['Country name']==name]['year'],\n",
    "    y=center_east_europe_past[center_east_europe_past['Country name']==name]['Ladder score'],\n",
    "    name=name,\n",
    "    mode='markers+text+lines',\n",
    "    marker_color='black',\n",
    "    marker_size=3,\n",
    "    line=dict(color=css3_dict[name]),\n",
    "    yaxis='y1'))\n",
    "    \n",
    "fig.update_layout(\n",
    "    title=\"Happiness Score Trend in Central and Eastern Europe \",\n",
    "    xaxis_title=\"Year\",\n",
    "    yaxis_title='Happiness Score',\n",
    "    template='plotly_white',\n",
    "    font=dict(\n",
    "        size=14,\n",
    "        color=\"Blue\",\n",
    "        family=\"Oswald', sans-serif\"\n",
    "    ),\n",
    "    xaxis=dict(showgrid=True),\n",
    "    yaxis=dict(showgrid=True)\n",
    ")\n",
    "fig.show()"
   ]
  },
  {
   "cell_type": "markdown",
   "id": "parental-graduation",
   "metadata": {
    "papermill": {
     "duration": 0.055418,
     "end_time": "2021-07-21T09:31:29.215949",
     "exception": false,
     "start_time": "2021-07-21T09:31:29.160531",
     "status": "completed"
    },
    "tags": []
   },
   "source": [
    "- After this point let's look at the Happiness Score relation with the other variables in the region."
   ]
  },
  {
   "cell_type": "markdown",
   "id": "presidential-stopping",
   "metadata": {
    "papermill": {
     "duration": 0.054182,
     "end_time": "2021-07-21T09:31:29.325412",
     "exception": false,
     "start_time": "2021-07-21T09:31:29.271230",
     "status": "completed"
    },
    "tags": []
   },
   "source": [
    "## **Happiness Score & GDP** "
   ]
  },
  {
   "cell_type": "code",
   "execution_count": 27,
   "id": "heated-budapest",
   "metadata": {
    "_kg_hide-input": true,
    "execution": {
     "iopub.execute_input": "2021-07-21T09:31:29.438015Z",
     "iopub.status.busy": "2021-07-21T09:31:29.437071Z",
     "iopub.status.idle": "2021-07-21T09:31:29.474695Z",
     "shell.execute_reply": "2021-07-21T09:31:29.475124Z",
     "shell.execute_reply.started": "2021-07-17T11:35:52.491997Z"
    },
    "papermill": {
     "duration": 0.095075,
     "end_time": "2021-07-21T09:31:29.475300",
     "exception": false,
     "start_time": "2021-07-21T09:31:29.380225",
     "status": "completed"
    },
    "tags": []
   },
   "outputs": [
    {
     "data": {
      "text/html": [
       "<div>                            <div id=\"eb55db9a-fd66-4873-a2f3-6f20608c8336\" class=\"plotly-graph-div\" style=\"height:525px; width:100%;\"></div>            <script type=\"text/javascript\">                require([\"plotly\"], function(Plotly) {                    window.PLOTLYENV=window.PLOTLYENV || {};                                    if (document.getElementById(\"eb55db9a-fd66-4873-a2f3-6f20608c8336\")) {                    Plotly.newPlot(                        \"eb55db9a-fd66-4873-a2f3-6f20608c8336\",                        [{\"marker\": {\"color\": \"blue\", \"size\": 10}, \"mode\": \"markers\", \"text\": [\"Czech Republic\", \"Slovenia\", \"Kosovo\", \"Slovakia\", \"Lithuania\", \"Estonia\", \"Poland\", \"Romania\", \"Serbia\", \"Latvia\", \"Hungary\", \"Croatia\", \"Bosnia and Herzegovina\", \"Montenegro\", \"Bulgaria\", \"Albania\", \"North Macedonia\"], \"type\": \"scatter\", \"x\": [6.965, 6.461, 6.372, 6.331, 6.255, 6.189, 6.166, 6.14, 6.078, 6.032, 5.992, 5.882, 5.813, 5.581, 5.266, 5.117, 5.101], \"y\": [10.556, 10.529, 9.318, 10.369, 10.499, 10.481, 10.382, 10.284, 9.787, 10.315, 10.358, 10.217, 9.59, 9.94, 10.016, 9.52, 9.693]}],                        {\"font\": {\"family\": \"Oswald', sans-serif\"}, \"hovermode\": \"closest\", \"template\": {\"data\": {\"bar\": [{\"error_x\": {\"color\": \"#2a3f5f\"}, \"error_y\": {\"color\": \"#2a3f5f\"}, \"marker\": {\"line\": {\"color\": \"white\", \"width\": 0.5}}, \"type\": \"bar\"}], \"barpolar\": [{\"marker\": {\"line\": {\"color\": \"white\", \"width\": 0.5}}, \"type\": \"barpolar\"}], \"carpet\": [{\"aaxis\": {\"endlinecolor\": \"#2a3f5f\", \"gridcolor\": \"#C8D4E3\", \"linecolor\": \"#C8D4E3\", \"minorgridcolor\": \"#C8D4E3\", \"startlinecolor\": \"#2a3f5f\"}, \"baxis\": {\"endlinecolor\": \"#2a3f5f\", \"gridcolor\": \"#C8D4E3\", \"linecolor\": \"#C8D4E3\", \"minorgridcolor\": \"#C8D4E3\", \"startlinecolor\": \"#2a3f5f\"}, \"type\": \"carpet\"}], \"choropleth\": [{\"colorbar\": {\"outlinewidth\": 0, \"ticks\": \"\"}, \"type\": \"choropleth\"}], \"contour\": [{\"colorbar\": {\"outlinewidth\": 0, \"ticks\": \"\"}, \"colorscale\": [[0.0, \"#0d0887\"], [0.1111111111111111, \"#46039f\"], [0.2222222222222222, \"#7201a8\"], [0.3333333333333333, \"#9c179e\"], [0.4444444444444444, \"#bd3786\"], [0.5555555555555556, \"#d8576b\"], [0.6666666666666666, \"#ed7953\"], [0.7777777777777778, \"#fb9f3a\"], [0.8888888888888888, \"#fdca26\"], [1.0, \"#f0f921\"]], \"type\": \"contour\"}], \"contourcarpet\": [{\"colorbar\": {\"outlinewidth\": 0, \"ticks\": \"\"}, \"type\": \"contourcarpet\"}], \"heatmap\": [{\"colorbar\": {\"outlinewidth\": 0, \"ticks\": \"\"}, \"colorscale\": [[0.0, \"#0d0887\"], [0.1111111111111111, \"#46039f\"], [0.2222222222222222, \"#7201a8\"], [0.3333333333333333, \"#9c179e\"], [0.4444444444444444, \"#bd3786\"], [0.5555555555555556, \"#d8576b\"], [0.6666666666666666, \"#ed7953\"], [0.7777777777777778, \"#fb9f3a\"], [0.8888888888888888, \"#fdca26\"], [1.0, \"#f0f921\"]], \"type\": \"heatmap\"}], \"heatmapgl\": [{\"colorbar\": {\"outlinewidth\": 0, \"ticks\": \"\"}, \"colorscale\": [[0.0, \"#0d0887\"], [0.1111111111111111, \"#46039f\"], [0.2222222222222222, \"#7201a8\"], [0.3333333333333333, \"#9c179e\"], [0.4444444444444444, \"#bd3786\"], [0.5555555555555556, \"#d8576b\"], [0.6666666666666666, \"#ed7953\"], [0.7777777777777778, \"#fb9f3a\"], [0.8888888888888888, \"#fdca26\"], [1.0, \"#f0f921\"]], \"type\": \"heatmapgl\"}], \"histogram\": [{\"marker\": {\"colorbar\": {\"outlinewidth\": 0, \"ticks\": \"\"}}, \"type\": \"histogram\"}], \"histogram2d\": [{\"colorbar\": {\"outlinewidth\": 0, \"ticks\": \"\"}, \"colorscale\": [[0.0, \"#0d0887\"], [0.1111111111111111, \"#46039f\"], [0.2222222222222222, \"#7201a8\"], [0.3333333333333333, \"#9c179e\"], [0.4444444444444444, \"#bd3786\"], [0.5555555555555556, \"#d8576b\"], [0.6666666666666666, \"#ed7953\"], [0.7777777777777778, \"#fb9f3a\"], [0.8888888888888888, \"#fdca26\"], [1.0, \"#f0f921\"]], \"type\": \"histogram2d\"}], \"histogram2dcontour\": [{\"colorbar\": {\"outlinewidth\": 0, \"ticks\": \"\"}, \"colorscale\": [[0.0, \"#0d0887\"], [0.1111111111111111, \"#46039f\"], [0.2222222222222222, \"#7201a8\"], [0.3333333333333333, \"#9c179e\"], [0.4444444444444444, \"#bd3786\"], [0.5555555555555556, \"#d8576b\"], [0.6666666666666666, \"#ed7953\"], [0.7777777777777778, \"#fb9f3a\"], [0.8888888888888888, \"#fdca26\"], [1.0, \"#f0f921\"]], \"type\": \"histogram2dcontour\"}], \"mesh3d\": [{\"colorbar\": {\"outlinewidth\": 0, \"ticks\": \"\"}, \"type\": \"mesh3d\"}], \"parcoords\": [{\"line\": {\"colorbar\": {\"outlinewidth\": 0, \"ticks\": \"\"}}, \"type\": \"parcoords\"}], \"pie\": [{\"automargin\": true, \"type\": \"pie\"}], \"scatter\": [{\"marker\": {\"colorbar\": {\"outlinewidth\": 0, \"ticks\": \"\"}}, \"type\": \"scatter\"}], \"scatter3d\": [{\"line\": {\"colorbar\": {\"outlinewidth\": 0, \"ticks\": \"\"}}, \"marker\": {\"colorbar\": {\"outlinewidth\": 0, \"ticks\": \"\"}}, \"type\": \"scatter3d\"}], \"scattercarpet\": [{\"marker\": {\"colorbar\": {\"outlinewidth\": 0, \"ticks\": \"\"}}, \"type\": \"scattercarpet\"}], \"scattergeo\": [{\"marker\": {\"colorbar\": {\"outlinewidth\": 0, \"ticks\": \"\"}}, \"type\": \"scattergeo\"}], \"scattergl\": [{\"marker\": {\"colorbar\": {\"outlinewidth\": 0, \"ticks\": \"\"}}, \"type\": \"scattergl\"}], \"scattermapbox\": [{\"marker\": {\"colorbar\": {\"outlinewidth\": 0, \"ticks\": \"\"}}, \"type\": \"scattermapbox\"}], \"scatterpolar\": [{\"marker\": {\"colorbar\": {\"outlinewidth\": 0, \"ticks\": \"\"}}, \"type\": \"scatterpolar\"}], \"scatterpolargl\": [{\"marker\": {\"colorbar\": {\"outlinewidth\": 0, \"ticks\": \"\"}}, \"type\": \"scatterpolargl\"}], \"scatterternary\": [{\"marker\": {\"colorbar\": {\"outlinewidth\": 0, \"ticks\": \"\"}}, \"type\": \"scatterternary\"}], \"surface\": [{\"colorbar\": {\"outlinewidth\": 0, \"ticks\": \"\"}, \"colorscale\": [[0.0, \"#0d0887\"], [0.1111111111111111, \"#46039f\"], [0.2222222222222222, \"#7201a8\"], [0.3333333333333333, \"#9c179e\"], [0.4444444444444444, \"#bd3786\"], [0.5555555555555556, \"#d8576b\"], [0.6666666666666666, \"#ed7953\"], [0.7777777777777778, \"#fb9f3a\"], [0.8888888888888888, \"#fdca26\"], [1.0, \"#f0f921\"]], \"type\": \"surface\"}], \"table\": [{\"cells\": {\"fill\": {\"color\": \"#EBF0F8\"}, \"line\": {\"color\": \"white\"}}, \"header\": {\"fill\": {\"color\": \"#C8D4E3\"}, \"line\": {\"color\": \"white\"}}, \"type\": \"table\"}]}, \"layout\": {\"annotationdefaults\": {\"arrowcolor\": \"#2a3f5f\", \"arrowhead\": 0, \"arrowwidth\": 1}, \"autotypenumbers\": \"strict\", \"coloraxis\": {\"colorbar\": {\"outlinewidth\": 0, \"ticks\": \"\"}}, \"colorscale\": {\"diverging\": [[0, \"#8e0152\"], [0.1, \"#c51b7d\"], [0.2, \"#de77ae\"], [0.3, \"#f1b6da\"], [0.4, \"#fde0ef\"], [0.5, \"#f7f7f7\"], [0.6, \"#e6f5d0\"], [0.7, \"#b8e186\"], [0.8, \"#7fbc41\"], [0.9, \"#4d9221\"], [1, \"#276419\"]], \"sequential\": [[0.0, \"#0d0887\"], [0.1111111111111111, \"#46039f\"], [0.2222222222222222, \"#7201a8\"], [0.3333333333333333, \"#9c179e\"], [0.4444444444444444, \"#bd3786\"], [0.5555555555555556, \"#d8576b\"], [0.6666666666666666, \"#ed7953\"], [0.7777777777777778, \"#fb9f3a\"], [0.8888888888888888, \"#fdca26\"], [1.0, \"#f0f921\"]], \"sequentialminus\": [[0.0, \"#0d0887\"], [0.1111111111111111, \"#46039f\"], [0.2222222222222222, \"#7201a8\"], [0.3333333333333333, \"#9c179e\"], [0.4444444444444444, \"#bd3786\"], [0.5555555555555556, \"#d8576b\"], [0.6666666666666666, \"#ed7953\"], [0.7777777777777778, \"#fb9f3a\"], [0.8888888888888888, \"#fdca26\"], [1.0, \"#f0f921\"]]}, \"colorway\": [\"#636efa\", \"#EF553B\", \"#00cc96\", \"#ab63fa\", \"#FFA15A\", \"#19d3f3\", \"#FF6692\", \"#B6E880\", \"#FF97FF\", \"#FECB52\"], \"font\": {\"color\": \"#2a3f5f\"}, \"geo\": {\"bgcolor\": \"white\", \"lakecolor\": \"white\", \"landcolor\": \"white\", \"showlakes\": true, \"showland\": true, \"subunitcolor\": \"#C8D4E3\"}, \"hoverlabel\": {\"align\": \"left\"}, \"hovermode\": \"closest\", \"mapbox\": {\"style\": \"light\"}, \"paper_bgcolor\": \"white\", \"plot_bgcolor\": \"white\", \"polar\": {\"angularaxis\": {\"gridcolor\": \"#EBF0F8\", \"linecolor\": \"#EBF0F8\", \"ticks\": \"\"}, \"bgcolor\": \"white\", \"radialaxis\": {\"gridcolor\": \"#EBF0F8\", \"linecolor\": \"#EBF0F8\", \"ticks\": \"\"}}, \"scene\": {\"xaxis\": {\"backgroundcolor\": \"white\", \"gridcolor\": \"#DFE8F3\", \"gridwidth\": 2, \"linecolor\": \"#EBF0F8\", \"showbackground\": true, \"ticks\": \"\", \"zerolinecolor\": \"#EBF0F8\"}, \"yaxis\": {\"backgroundcolor\": \"white\", \"gridcolor\": \"#DFE8F3\", \"gridwidth\": 2, \"linecolor\": \"#EBF0F8\", \"showbackground\": true, \"ticks\": \"\", \"zerolinecolor\": \"#EBF0F8\"}, \"zaxis\": {\"backgroundcolor\": \"white\", \"gridcolor\": \"#DFE8F3\", \"gridwidth\": 2, \"linecolor\": \"#EBF0F8\", \"showbackground\": true, \"ticks\": \"\", \"zerolinecolor\": \"#EBF0F8\"}}, \"shapedefaults\": {\"line\": {\"color\": \"#2a3f5f\"}}, \"ternary\": {\"aaxis\": {\"gridcolor\": \"#DFE8F3\", \"linecolor\": \"#A2B1C6\", \"ticks\": \"\"}, \"baxis\": {\"gridcolor\": \"#DFE8F3\", \"linecolor\": \"#A2B1C6\", \"ticks\": \"\"}, \"bgcolor\": \"white\", \"caxis\": {\"gridcolor\": \"#DFE8F3\", \"linecolor\": \"#A2B1C6\", \"ticks\": \"\"}}, \"title\": {\"x\": 0.05}, \"xaxis\": {\"automargin\": true, \"gridcolor\": \"#EBF0F8\", \"linecolor\": \"#EBF0F8\", \"ticks\": \"\", \"title\": {\"standoff\": 15}, \"zerolinecolor\": \"#EBF0F8\", \"zerolinewidth\": 2}, \"yaxis\": {\"automargin\": true, \"gridcolor\": \"#EBF0F8\", \"linecolor\": \"#EBF0F8\", \"ticks\": \"\", \"title\": {\"standoff\": 15}, \"zerolinecolor\": \"#EBF0F8\", \"zerolinewidth\": 2}}}, \"title\": {\"text\": \"Happiness Score & Logged GDP per capita in Central Eastern Europe\"}, \"xaxis\": {\"title\": {\"text\": \"Ladder Score\"}}, \"yaxis\": {\"title\": {\"text\": \"Logged GDP per capita\"}}},                        {\"responsive\": true}                    ).then(function(){\n",
       "                            \n",
       "var gd = document.getElementById('eb55db9a-fd66-4873-a2f3-6f20608c8336');\n",
       "var x = new MutationObserver(function (mutations, observer) {{\n",
       "        var display = window.getComputedStyle(gd).display;\n",
       "        if (!display || display === 'none') {{\n",
       "            console.log([gd, 'removed!']);\n",
       "            Plotly.purge(gd);\n",
       "            observer.disconnect();\n",
       "        }}\n",
       "}});\n",
       "\n",
       "// Listen for the removal of the full notebook cells\n",
       "var notebookContainer = gd.closest('#notebook-container');\n",
       "if (notebookContainer) {{\n",
       "    x.observe(notebookContainer, {childList: true});\n",
       "}}\n",
       "\n",
       "// Listen for the clearing of the current output cell\n",
       "var outputEl = gd.closest('.output');\n",
       "if (outputEl) {{\n",
       "    x.observe(outputEl, {childList: true});\n",
       "}}\n",
       "\n",
       "                        })                };                });            </script>        </div>"
      ]
     },
     "metadata": {},
     "output_type": "display_data"
    }
   ],
   "source": [
    "trace = go.Scatter(x = center_east_europe['Ladder score'],y=center_east_europe['Logged GDP per capita'],text = center_east_europe['Country name'],mode='markers',marker={'color':'blue', 'size':10})\n",
    "df=[trace]\n",
    "layout = go.Layout(title='Happiness Score & Logged GDP per capita in Central Eastern Europe',xaxis=dict(title='Ladder Score'),yaxis=dict(title='Logged GDP per capita'),hovermode='closest')\n",
    "figure = go.Figure(data=df,layout=layout)\n",
    "figure.update_layout(template='plotly_white',\n",
    "                  font=dict(family=\"Oswald', sans-serif\"))\n",
    "figure.show()"
   ]
  },
  {
   "cell_type": "markdown",
   "id": "wrapped-jewelry",
   "metadata": {
    "papermill": {
     "duration": 0.054664,
     "end_time": "2021-07-21T09:31:29.584873",
     "exception": false,
     "start_time": "2021-07-21T09:31:29.530209",
     "status": "completed"
    },
    "tags": []
   },
   "source": [
    "## **Happiness Score & Social Support** "
   ]
  },
  {
   "cell_type": "code",
   "execution_count": 28,
   "id": "hundred-citizen",
   "metadata": {
    "_kg_hide-input": true,
    "execution": {
     "iopub.execute_input": "2021-07-21T09:31:29.699070Z",
     "iopub.status.busy": "2021-07-21T09:31:29.698093Z",
     "iopub.status.idle": "2021-07-21T09:31:29.735220Z",
     "shell.execute_reply": "2021-07-21T09:31:29.735682Z",
     "shell.execute_reply.started": "2021-07-17T11:35:52.524188Z"
    },
    "papermill": {
     "duration": 0.095743,
     "end_time": "2021-07-21T09:31:29.735853",
     "exception": false,
     "start_time": "2021-07-21T09:31:29.640110",
     "status": "completed"
    },
    "tags": []
   },
   "outputs": [
    {
     "data": {
      "text/html": [
       "<div>                            <div id=\"0dfa7434-69a0-4714-9982-c7836a1f42cf\" class=\"plotly-graph-div\" style=\"height:525px; width:100%;\"></div>            <script type=\"text/javascript\">                require([\"plotly\"], function(Plotly) {                    window.PLOTLYENV=window.PLOTLYENV || {};                                    if (document.getElementById(\"0dfa7434-69a0-4714-9982-c7836a1f42cf\")) {                    Plotly.newPlot(                        \"0dfa7434-69a0-4714-9982-c7836a1f42cf\",                        [{\"marker\": {\"color\": \"blue\", \"size\": 10}, \"mode\": \"markers\", \"text\": [\"Czech Republic\", \"Slovenia\", \"Kosovo\", \"Slovakia\", \"Lithuania\", \"Estonia\", \"Poland\", \"Romania\", \"Serbia\", \"Latvia\", \"Hungary\", \"Croatia\", \"Bosnia and Herzegovina\", \"Montenegro\", \"Bulgaria\", \"Albania\", \"North Macedonia\"], \"type\": \"scatter\", \"x\": [6.965, 6.461, 6.372, 6.331, 6.255, 6.189, 6.166, 6.14, 6.078, 6.032, 5.992, 5.882, 5.813, 5.581, 5.266, 5.117, 5.101], \"y\": [0.947, 0.948, 0.821, 0.936, 0.935, 0.941, 0.898, 0.832, 0.873, 0.927, 0.943, 0.924, 0.87, 0.858, 0.931, 0.697, 0.805]}],                        {\"font\": {\"family\": \"Oswald', sans-serif\"}, \"hovermode\": \"closest\", \"template\": {\"data\": {\"bar\": [{\"error_x\": {\"color\": \"#2a3f5f\"}, \"error_y\": {\"color\": \"#2a3f5f\"}, \"marker\": {\"line\": {\"color\": \"white\", \"width\": 0.5}}, \"type\": \"bar\"}], \"barpolar\": [{\"marker\": {\"line\": {\"color\": \"white\", \"width\": 0.5}}, \"type\": \"barpolar\"}], \"carpet\": [{\"aaxis\": {\"endlinecolor\": \"#2a3f5f\", \"gridcolor\": \"#C8D4E3\", \"linecolor\": \"#C8D4E3\", \"minorgridcolor\": \"#C8D4E3\", \"startlinecolor\": \"#2a3f5f\"}, \"baxis\": {\"endlinecolor\": \"#2a3f5f\", \"gridcolor\": \"#C8D4E3\", \"linecolor\": \"#C8D4E3\", \"minorgridcolor\": \"#C8D4E3\", \"startlinecolor\": \"#2a3f5f\"}, \"type\": \"carpet\"}], \"choropleth\": [{\"colorbar\": {\"outlinewidth\": 0, \"ticks\": \"\"}, \"type\": \"choropleth\"}], \"contour\": [{\"colorbar\": {\"outlinewidth\": 0, \"ticks\": \"\"}, \"colorscale\": [[0.0, \"#0d0887\"], [0.1111111111111111, \"#46039f\"], [0.2222222222222222, \"#7201a8\"], [0.3333333333333333, \"#9c179e\"], [0.4444444444444444, \"#bd3786\"], [0.5555555555555556, \"#d8576b\"], [0.6666666666666666, \"#ed7953\"], [0.7777777777777778, \"#fb9f3a\"], [0.8888888888888888, \"#fdca26\"], [1.0, \"#f0f921\"]], \"type\": \"contour\"}], \"contourcarpet\": [{\"colorbar\": {\"outlinewidth\": 0, \"ticks\": \"\"}, \"type\": \"contourcarpet\"}], \"heatmap\": [{\"colorbar\": {\"outlinewidth\": 0, \"ticks\": \"\"}, \"colorscale\": [[0.0, \"#0d0887\"], [0.1111111111111111, \"#46039f\"], [0.2222222222222222, \"#7201a8\"], [0.3333333333333333, \"#9c179e\"], [0.4444444444444444, \"#bd3786\"], [0.5555555555555556, \"#d8576b\"], [0.6666666666666666, \"#ed7953\"], [0.7777777777777778, \"#fb9f3a\"], [0.8888888888888888, \"#fdca26\"], [1.0, \"#f0f921\"]], \"type\": \"heatmap\"}], \"heatmapgl\": [{\"colorbar\": {\"outlinewidth\": 0, \"ticks\": \"\"}, \"colorscale\": [[0.0, \"#0d0887\"], [0.1111111111111111, \"#46039f\"], [0.2222222222222222, \"#7201a8\"], [0.3333333333333333, \"#9c179e\"], [0.4444444444444444, \"#bd3786\"], [0.5555555555555556, \"#d8576b\"], [0.6666666666666666, \"#ed7953\"], [0.7777777777777778, \"#fb9f3a\"], [0.8888888888888888, \"#fdca26\"], [1.0, \"#f0f921\"]], \"type\": \"heatmapgl\"}], \"histogram\": [{\"marker\": {\"colorbar\": {\"outlinewidth\": 0, \"ticks\": \"\"}}, \"type\": \"histogram\"}], \"histogram2d\": [{\"colorbar\": {\"outlinewidth\": 0, \"ticks\": \"\"}, \"colorscale\": [[0.0, \"#0d0887\"], [0.1111111111111111, \"#46039f\"], [0.2222222222222222, \"#7201a8\"], [0.3333333333333333, \"#9c179e\"], [0.4444444444444444, \"#bd3786\"], [0.5555555555555556, \"#d8576b\"], [0.6666666666666666, \"#ed7953\"], [0.7777777777777778, \"#fb9f3a\"], [0.8888888888888888, \"#fdca26\"], [1.0, \"#f0f921\"]], \"type\": \"histogram2d\"}], \"histogram2dcontour\": [{\"colorbar\": {\"outlinewidth\": 0, \"ticks\": \"\"}, \"colorscale\": [[0.0, \"#0d0887\"], [0.1111111111111111, \"#46039f\"], [0.2222222222222222, \"#7201a8\"], [0.3333333333333333, \"#9c179e\"], [0.4444444444444444, \"#bd3786\"], [0.5555555555555556, \"#d8576b\"], [0.6666666666666666, \"#ed7953\"], [0.7777777777777778, \"#fb9f3a\"], [0.8888888888888888, \"#fdca26\"], [1.0, \"#f0f921\"]], \"type\": \"histogram2dcontour\"}], \"mesh3d\": [{\"colorbar\": {\"outlinewidth\": 0, \"ticks\": \"\"}, \"type\": \"mesh3d\"}], \"parcoords\": [{\"line\": {\"colorbar\": {\"outlinewidth\": 0, \"ticks\": \"\"}}, \"type\": \"parcoords\"}], \"pie\": [{\"automargin\": true, \"type\": \"pie\"}], \"scatter\": [{\"marker\": {\"colorbar\": {\"outlinewidth\": 0, \"ticks\": \"\"}}, \"type\": \"scatter\"}], \"scatter3d\": [{\"line\": {\"colorbar\": {\"outlinewidth\": 0, \"ticks\": \"\"}}, \"marker\": {\"colorbar\": {\"outlinewidth\": 0, \"ticks\": \"\"}}, \"type\": \"scatter3d\"}], \"scattercarpet\": [{\"marker\": {\"colorbar\": {\"outlinewidth\": 0, \"ticks\": \"\"}}, \"type\": \"scattercarpet\"}], \"scattergeo\": [{\"marker\": {\"colorbar\": {\"outlinewidth\": 0, \"ticks\": \"\"}}, \"type\": \"scattergeo\"}], \"scattergl\": [{\"marker\": {\"colorbar\": {\"outlinewidth\": 0, \"ticks\": \"\"}}, \"type\": \"scattergl\"}], \"scattermapbox\": [{\"marker\": {\"colorbar\": {\"outlinewidth\": 0, \"ticks\": \"\"}}, \"type\": \"scattermapbox\"}], \"scatterpolar\": [{\"marker\": {\"colorbar\": {\"outlinewidth\": 0, \"ticks\": \"\"}}, \"type\": \"scatterpolar\"}], \"scatterpolargl\": [{\"marker\": {\"colorbar\": {\"outlinewidth\": 0, \"ticks\": \"\"}}, \"type\": \"scatterpolargl\"}], \"scatterternary\": [{\"marker\": {\"colorbar\": {\"outlinewidth\": 0, \"ticks\": \"\"}}, \"type\": \"scatterternary\"}], \"surface\": [{\"colorbar\": {\"outlinewidth\": 0, \"ticks\": \"\"}, \"colorscale\": [[0.0, \"#0d0887\"], [0.1111111111111111, \"#46039f\"], [0.2222222222222222, \"#7201a8\"], [0.3333333333333333, \"#9c179e\"], [0.4444444444444444, \"#bd3786\"], [0.5555555555555556, \"#d8576b\"], [0.6666666666666666, \"#ed7953\"], [0.7777777777777778, \"#fb9f3a\"], [0.8888888888888888, \"#fdca26\"], [1.0, \"#f0f921\"]], \"type\": \"surface\"}], \"table\": [{\"cells\": {\"fill\": {\"color\": \"#EBF0F8\"}, \"line\": {\"color\": \"white\"}}, \"header\": {\"fill\": {\"color\": \"#C8D4E3\"}, \"line\": {\"color\": \"white\"}}, \"type\": \"table\"}]}, \"layout\": {\"annotationdefaults\": {\"arrowcolor\": \"#2a3f5f\", \"arrowhead\": 0, \"arrowwidth\": 1}, \"autotypenumbers\": \"strict\", \"coloraxis\": {\"colorbar\": {\"outlinewidth\": 0, \"ticks\": \"\"}}, \"colorscale\": {\"diverging\": [[0, \"#8e0152\"], [0.1, \"#c51b7d\"], [0.2, \"#de77ae\"], [0.3, \"#f1b6da\"], [0.4, \"#fde0ef\"], [0.5, \"#f7f7f7\"], [0.6, \"#e6f5d0\"], [0.7, \"#b8e186\"], [0.8, \"#7fbc41\"], [0.9, \"#4d9221\"], [1, \"#276419\"]], \"sequential\": [[0.0, \"#0d0887\"], [0.1111111111111111, \"#46039f\"], [0.2222222222222222, \"#7201a8\"], [0.3333333333333333, \"#9c179e\"], [0.4444444444444444, \"#bd3786\"], [0.5555555555555556, \"#d8576b\"], [0.6666666666666666, \"#ed7953\"], [0.7777777777777778, \"#fb9f3a\"], [0.8888888888888888, \"#fdca26\"], [1.0, \"#f0f921\"]], \"sequentialminus\": [[0.0, \"#0d0887\"], [0.1111111111111111, \"#46039f\"], [0.2222222222222222, \"#7201a8\"], [0.3333333333333333, \"#9c179e\"], [0.4444444444444444, \"#bd3786\"], [0.5555555555555556, \"#d8576b\"], [0.6666666666666666, \"#ed7953\"], [0.7777777777777778, \"#fb9f3a\"], [0.8888888888888888, \"#fdca26\"], [1.0, \"#f0f921\"]]}, \"colorway\": [\"#636efa\", \"#EF553B\", \"#00cc96\", \"#ab63fa\", \"#FFA15A\", \"#19d3f3\", \"#FF6692\", \"#B6E880\", \"#FF97FF\", \"#FECB52\"], \"font\": {\"color\": \"#2a3f5f\"}, \"geo\": {\"bgcolor\": \"white\", \"lakecolor\": \"white\", \"landcolor\": \"white\", \"showlakes\": true, \"showland\": true, \"subunitcolor\": \"#C8D4E3\"}, \"hoverlabel\": {\"align\": \"left\"}, \"hovermode\": \"closest\", \"mapbox\": {\"style\": \"light\"}, \"paper_bgcolor\": \"white\", \"plot_bgcolor\": \"white\", \"polar\": {\"angularaxis\": {\"gridcolor\": \"#EBF0F8\", \"linecolor\": \"#EBF0F8\", \"ticks\": \"\"}, \"bgcolor\": \"white\", \"radialaxis\": {\"gridcolor\": \"#EBF0F8\", \"linecolor\": \"#EBF0F8\", \"ticks\": \"\"}}, \"scene\": {\"xaxis\": {\"backgroundcolor\": \"white\", \"gridcolor\": \"#DFE8F3\", \"gridwidth\": 2, \"linecolor\": \"#EBF0F8\", \"showbackground\": true, \"ticks\": \"\", \"zerolinecolor\": \"#EBF0F8\"}, \"yaxis\": {\"backgroundcolor\": \"white\", \"gridcolor\": \"#DFE8F3\", \"gridwidth\": 2, \"linecolor\": \"#EBF0F8\", \"showbackground\": true, \"ticks\": \"\", \"zerolinecolor\": \"#EBF0F8\"}, \"zaxis\": {\"backgroundcolor\": \"white\", \"gridcolor\": \"#DFE8F3\", \"gridwidth\": 2, \"linecolor\": \"#EBF0F8\", \"showbackground\": true, \"ticks\": \"\", \"zerolinecolor\": \"#EBF0F8\"}}, \"shapedefaults\": {\"line\": {\"color\": \"#2a3f5f\"}}, \"ternary\": {\"aaxis\": {\"gridcolor\": \"#DFE8F3\", \"linecolor\": \"#A2B1C6\", \"ticks\": \"\"}, \"baxis\": {\"gridcolor\": \"#DFE8F3\", \"linecolor\": \"#A2B1C6\", \"ticks\": \"\"}, \"bgcolor\": \"white\", \"caxis\": {\"gridcolor\": \"#DFE8F3\", \"linecolor\": \"#A2B1C6\", \"ticks\": \"\"}}, \"title\": {\"x\": 0.05}, \"xaxis\": {\"automargin\": true, \"gridcolor\": \"#EBF0F8\", \"linecolor\": \"#EBF0F8\", \"ticks\": \"\", \"title\": {\"standoff\": 15}, \"zerolinecolor\": \"#EBF0F8\", \"zerolinewidth\": 2}, \"yaxis\": {\"automargin\": true, \"gridcolor\": \"#EBF0F8\", \"linecolor\": \"#EBF0F8\", \"ticks\": \"\", \"title\": {\"standoff\": 15}, \"zerolinecolor\": \"#EBF0F8\", \"zerolinewidth\": 2}}}, \"title\": {\"text\": \"Happiness Score & Social Support in Central Eastern Europe\"}, \"xaxis\": {\"title\": {\"text\": \"Ladder score\"}}, \"yaxis\": {\"title\": {\"text\": \"Social Support\"}}},                        {\"responsive\": true}                    ).then(function(){\n",
       "                            \n",
       "var gd = document.getElementById('0dfa7434-69a0-4714-9982-c7836a1f42cf');\n",
       "var x = new MutationObserver(function (mutations, observer) {{\n",
       "        var display = window.getComputedStyle(gd).display;\n",
       "        if (!display || display === 'none') {{\n",
       "            console.log([gd, 'removed!']);\n",
       "            Plotly.purge(gd);\n",
       "            observer.disconnect();\n",
       "        }}\n",
       "}});\n",
       "\n",
       "// Listen for the removal of the full notebook cells\n",
       "var notebookContainer = gd.closest('#notebook-container');\n",
       "if (notebookContainer) {{\n",
       "    x.observe(notebookContainer, {childList: true});\n",
       "}}\n",
       "\n",
       "// Listen for the clearing of the current output cell\n",
       "var outputEl = gd.closest('.output');\n",
       "if (outputEl) {{\n",
       "    x.observe(outputEl, {childList: true});\n",
       "}}\n",
       "\n",
       "                        })                };                });            </script>        </div>"
      ]
     },
     "metadata": {},
     "output_type": "display_data"
    }
   ],
   "source": [
    "trace = go.Scatter(x = center_east_europe['Ladder score'],y=center_east_europe['Social support'],text = center_east_europe['Country name'],mode='markers',marker={'color':'blue', 'size':10})\n",
    "df=[trace]\n",
    "layout = go.Layout(title='Happiness Score & Social Support in Central Eastern Europe',xaxis=dict(title='Ladder score'),yaxis=dict(title='Social Support'),hovermode='closest')\n",
    "figure = go.Figure(data=df,layout=layout)\n",
    "figure.update_layout(template='plotly_white',\n",
    "                  font=dict(family=\"Oswald', sans-serif\"))\n",
    "figure.show()"
   ]
  },
  {
   "cell_type": "markdown",
   "id": "instrumental-fever",
   "metadata": {
    "papermill": {
     "duration": 0.056587,
     "end_time": "2021-07-21T09:31:29.848045",
     "exception": false,
     "start_time": "2021-07-21T09:31:29.791458",
     "status": "completed"
    },
    "tags": []
   },
   "source": [
    "## **Happiness Score & Perceptions of Corruption** "
   ]
  },
  {
   "cell_type": "code",
   "execution_count": 29,
   "id": "drawn-station",
   "metadata": {
    "_kg_hide-input": true,
    "execution": {
     "iopub.execute_input": "2021-07-21T09:31:29.965697Z",
     "iopub.status.busy": "2021-07-21T09:31:29.964734Z",
     "iopub.status.idle": "2021-07-21T09:31:30.003830Z",
     "shell.execute_reply": "2021-07-21T09:31:30.003202Z",
     "shell.execute_reply.started": "2021-07-17T11:35:52.555715Z"
    },
    "papermill": {
     "duration": 0.099665,
     "end_time": "2021-07-21T09:31:30.003989",
     "exception": false,
     "start_time": "2021-07-21T09:31:29.904324",
     "status": "completed"
    },
    "tags": []
   },
   "outputs": [
    {
     "data": {
      "text/html": [
       "<div>                            <div id=\"800e9d7d-86f7-4df5-b9ef-29205a28735c\" class=\"plotly-graph-div\" style=\"height:525px; width:100%;\"></div>            <script type=\"text/javascript\">                require([\"plotly\"], function(Plotly) {                    window.PLOTLYENV=window.PLOTLYENV || {};                                    if (document.getElementById(\"800e9d7d-86f7-4df5-b9ef-29205a28735c\")) {                    Plotly.newPlot(                        \"800e9d7d-86f7-4df5-b9ef-29205a28735c\",                        [{\"marker\": {\"color\": \"blue\", \"size\": 10}, \"mode\": \"markers\", \"text\": [\"Czech Republic\", \"Slovenia\", \"Kosovo\", \"Slovakia\", \"Lithuania\", \"Estonia\", \"Poland\", \"Romania\", \"Serbia\", \"Latvia\", \"Hungary\", \"Croatia\", \"Bosnia and Herzegovina\", \"Montenegro\", \"Bulgaria\", \"Albania\", \"North Macedonia\"], \"type\": \"scatter\", \"x\": [6.965, 6.461, 6.372, 6.331, 6.255, 6.189, 6.166, 6.14, 6.078, 6.032, 5.992, 5.882, 5.813, 5.581, 5.266, 5.117, 5.101], \"y\": [0.868, 0.806, 0.917, 0.911, 0.826, 0.527, 0.735, 0.938, 0.835, 0.8, 0.876, 0.939, 0.931, 0.812, 0.932, 0.901, 0.905]}],                        {\"font\": {\"family\": \"Oswald', sans-serif\"}, \"hovermode\": \"closest\", \"template\": {\"data\": {\"bar\": [{\"error_x\": {\"color\": \"#2a3f5f\"}, \"error_y\": {\"color\": \"#2a3f5f\"}, \"marker\": {\"line\": {\"color\": \"white\", \"width\": 0.5}}, \"type\": \"bar\"}], \"barpolar\": [{\"marker\": {\"line\": {\"color\": \"white\", \"width\": 0.5}}, \"type\": \"barpolar\"}], \"carpet\": [{\"aaxis\": {\"endlinecolor\": \"#2a3f5f\", \"gridcolor\": \"#C8D4E3\", \"linecolor\": \"#C8D4E3\", \"minorgridcolor\": \"#C8D4E3\", \"startlinecolor\": \"#2a3f5f\"}, \"baxis\": {\"endlinecolor\": \"#2a3f5f\", \"gridcolor\": \"#C8D4E3\", \"linecolor\": \"#C8D4E3\", \"minorgridcolor\": \"#C8D4E3\", \"startlinecolor\": \"#2a3f5f\"}, \"type\": \"carpet\"}], \"choropleth\": [{\"colorbar\": {\"outlinewidth\": 0, \"ticks\": \"\"}, \"type\": \"choropleth\"}], \"contour\": [{\"colorbar\": {\"outlinewidth\": 0, \"ticks\": \"\"}, \"colorscale\": [[0.0, \"#0d0887\"], [0.1111111111111111, \"#46039f\"], [0.2222222222222222, \"#7201a8\"], [0.3333333333333333, \"#9c179e\"], [0.4444444444444444, \"#bd3786\"], [0.5555555555555556, \"#d8576b\"], [0.6666666666666666, \"#ed7953\"], [0.7777777777777778, \"#fb9f3a\"], [0.8888888888888888, \"#fdca26\"], [1.0, \"#f0f921\"]], \"type\": \"contour\"}], \"contourcarpet\": [{\"colorbar\": {\"outlinewidth\": 0, \"ticks\": \"\"}, \"type\": \"contourcarpet\"}], \"heatmap\": [{\"colorbar\": {\"outlinewidth\": 0, \"ticks\": \"\"}, \"colorscale\": [[0.0, \"#0d0887\"], [0.1111111111111111, \"#46039f\"], [0.2222222222222222, \"#7201a8\"], [0.3333333333333333, \"#9c179e\"], [0.4444444444444444, \"#bd3786\"], [0.5555555555555556, \"#d8576b\"], [0.6666666666666666, \"#ed7953\"], [0.7777777777777778, \"#fb9f3a\"], [0.8888888888888888, \"#fdca26\"], [1.0, \"#f0f921\"]], \"type\": \"heatmap\"}], \"heatmapgl\": [{\"colorbar\": {\"outlinewidth\": 0, \"ticks\": \"\"}, \"colorscale\": [[0.0, \"#0d0887\"], [0.1111111111111111, \"#46039f\"], [0.2222222222222222, \"#7201a8\"], [0.3333333333333333, \"#9c179e\"], [0.4444444444444444, \"#bd3786\"], [0.5555555555555556, \"#d8576b\"], [0.6666666666666666, \"#ed7953\"], [0.7777777777777778, \"#fb9f3a\"], [0.8888888888888888, \"#fdca26\"], [1.0, \"#f0f921\"]], \"type\": \"heatmapgl\"}], \"histogram\": [{\"marker\": {\"colorbar\": {\"outlinewidth\": 0, \"ticks\": \"\"}}, \"type\": \"histogram\"}], \"histogram2d\": [{\"colorbar\": {\"outlinewidth\": 0, \"ticks\": \"\"}, \"colorscale\": [[0.0, \"#0d0887\"], [0.1111111111111111, \"#46039f\"], [0.2222222222222222, \"#7201a8\"], [0.3333333333333333, \"#9c179e\"], [0.4444444444444444, \"#bd3786\"], [0.5555555555555556, \"#d8576b\"], [0.6666666666666666, \"#ed7953\"], [0.7777777777777778, \"#fb9f3a\"], [0.8888888888888888, \"#fdca26\"], [1.0, \"#f0f921\"]], \"type\": \"histogram2d\"}], \"histogram2dcontour\": [{\"colorbar\": {\"outlinewidth\": 0, \"ticks\": \"\"}, \"colorscale\": [[0.0, \"#0d0887\"], [0.1111111111111111, \"#46039f\"], [0.2222222222222222, \"#7201a8\"], [0.3333333333333333, \"#9c179e\"], [0.4444444444444444, \"#bd3786\"], [0.5555555555555556, \"#d8576b\"], [0.6666666666666666, \"#ed7953\"], [0.7777777777777778, \"#fb9f3a\"], [0.8888888888888888, \"#fdca26\"], [1.0, \"#f0f921\"]], \"type\": \"histogram2dcontour\"}], \"mesh3d\": [{\"colorbar\": {\"outlinewidth\": 0, \"ticks\": \"\"}, \"type\": \"mesh3d\"}], \"parcoords\": [{\"line\": {\"colorbar\": {\"outlinewidth\": 0, \"ticks\": \"\"}}, \"type\": \"parcoords\"}], \"pie\": [{\"automargin\": true, \"type\": \"pie\"}], \"scatter\": [{\"marker\": {\"colorbar\": {\"outlinewidth\": 0, \"ticks\": \"\"}}, \"type\": \"scatter\"}], \"scatter3d\": [{\"line\": {\"colorbar\": {\"outlinewidth\": 0, \"ticks\": \"\"}}, \"marker\": {\"colorbar\": {\"outlinewidth\": 0, \"ticks\": \"\"}}, \"type\": \"scatter3d\"}], \"scattercarpet\": [{\"marker\": {\"colorbar\": {\"outlinewidth\": 0, \"ticks\": \"\"}}, \"type\": \"scattercarpet\"}], \"scattergeo\": [{\"marker\": {\"colorbar\": {\"outlinewidth\": 0, \"ticks\": \"\"}}, \"type\": \"scattergeo\"}], \"scattergl\": [{\"marker\": {\"colorbar\": {\"outlinewidth\": 0, \"ticks\": \"\"}}, \"type\": \"scattergl\"}], \"scattermapbox\": [{\"marker\": {\"colorbar\": {\"outlinewidth\": 0, \"ticks\": \"\"}}, \"type\": \"scattermapbox\"}], \"scatterpolar\": [{\"marker\": {\"colorbar\": {\"outlinewidth\": 0, \"ticks\": \"\"}}, \"type\": \"scatterpolar\"}], \"scatterpolargl\": [{\"marker\": {\"colorbar\": {\"outlinewidth\": 0, \"ticks\": \"\"}}, \"type\": \"scatterpolargl\"}], \"scatterternary\": [{\"marker\": {\"colorbar\": {\"outlinewidth\": 0, \"ticks\": \"\"}}, \"type\": \"scatterternary\"}], \"surface\": [{\"colorbar\": {\"outlinewidth\": 0, \"ticks\": \"\"}, \"colorscale\": [[0.0, \"#0d0887\"], [0.1111111111111111, \"#46039f\"], [0.2222222222222222, \"#7201a8\"], [0.3333333333333333, \"#9c179e\"], [0.4444444444444444, \"#bd3786\"], [0.5555555555555556, \"#d8576b\"], [0.6666666666666666, \"#ed7953\"], [0.7777777777777778, \"#fb9f3a\"], [0.8888888888888888, \"#fdca26\"], [1.0, \"#f0f921\"]], \"type\": \"surface\"}], \"table\": [{\"cells\": {\"fill\": {\"color\": \"#EBF0F8\"}, \"line\": {\"color\": \"white\"}}, \"header\": {\"fill\": {\"color\": \"#C8D4E3\"}, \"line\": {\"color\": \"white\"}}, \"type\": \"table\"}]}, \"layout\": {\"annotationdefaults\": {\"arrowcolor\": \"#2a3f5f\", \"arrowhead\": 0, \"arrowwidth\": 1}, \"autotypenumbers\": \"strict\", \"coloraxis\": {\"colorbar\": {\"outlinewidth\": 0, \"ticks\": \"\"}}, \"colorscale\": {\"diverging\": [[0, \"#8e0152\"], [0.1, \"#c51b7d\"], [0.2, \"#de77ae\"], [0.3, \"#f1b6da\"], [0.4, \"#fde0ef\"], [0.5, \"#f7f7f7\"], [0.6, \"#e6f5d0\"], [0.7, \"#b8e186\"], [0.8, \"#7fbc41\"], [0.9, \"#4d9221\"], [1, \"#276419\"]], \"sequential\": [[0.0, \"#0d0887\"], [0.1111111111111111, \"#46039f\"], [0.2222222222222222, \"#7201a8\"], [0.3333333333333333, \"#9c179e\"], [0.4444444444444444, \"#bd3786\"], [0.5555555555555556, \"#d8576b\"], [0.6666666666666666, \"#ed7953\"], [0.7777777777777778, \"#fb9f3a\"], [0.8888888888888888, \"#fdca26\"], [1.0, \"#f0f921\"]], \"sequentialminus\": [[0.0, \"#0d0887\"], [0.1111111111111111, \"#46039f\"], [0.2222222222222222, \"#7201a8\"], [0.3333333333333333, \"#9c179e\"], [0.4444444444444444, \"#bd3786\"], [0.5555555555555556, \"#d8576b\"], [0.6666666666666666, \"#ed7953\"], [0.7777777777777778, \"#fb9f3a\"], [0.8888888888888888, \"#fdca26\"], [1.0, \"#f0f921\"]]}, \"colorway\": [\"#636efa\", \"#EF553B\", \"#00cc96\", \"#ab63fa\", \"#FFA15A\", \"#19d3f3\", \"#FF6692\", \"#B6E880\", \"#FF97FF\", \"#FECB52\"], \"font\": {\"color\": \"#2a3f5f\"}, \"geo\": {\"bgcolor\": \"white\", \"lakecolor\": \"white\", \"landcolor\": \"white\", \"showlakes\": true, \"showland\": true, \"subunitcolor\": \"#C8D4E3\"}, \"hoverlabel\": {\"align\": \"left\"}, \"hovermode\": \"closest\", \"mapbox\": {\"style\": \"light\"}, \"paper_bgcolor\": \"white\", \"plot_bgcolor\": \"white\", \"polar\": {\"angularaxis\": {\"gridcolor\": \"#EBF0F8\", \"linecolor\": \"#EBF0F8\", \"ticks\": \"\"}, \"bgcolor\": \"white\", \"radialaxis\": {\"gridcolor\": \"#EBF0F8\", \"linecolor\": \"#EBF0F8\", \"ticks\": \"\"}}, \"scene\": {\"xaxis\": {\"backgroundcolor\": \"white\", \"gridcolor\": \"#DFE8F3\", \"gridwidth\": 2, \"linecolor\": \"#EBF0F8\", \"showbackground\": true, \"ticks\": \"\", \"zerolinecolor\": \"#EBF0F8\"}, \"yaxis\": {\"backgroundcolor\": \"white\", \"gridcolor\": \"#DFE8F3\", \"gridwidth\": 2, \"linecolor\": \"#EBF0F8\", \"showbackground\": true, \"ticks\": \"\", \"zerolinecolor\": \"#EBF0F8\"}, \"zaxis\": {\"backgroundcolor\": \"white\", \"gridcolor\": \"#DFE8F3\", \"gridwidth\": 2, \"linecolor\": \"#EBF0F8\", \"showbackground\": true, \"ticks\": \"\", \"zerolinecolor\": \"#EBF0F8\"}}, \"shapedefaults\": {\"line\": {\"color\": \"#2a3f5f\"}}, \"ternary\": {\"aaxis\": {\"gridcolor\": \"#DFE8F3\", \"linecolor\": \"#A2B1C6\", \"ticks\": \"\"}, \"baxis\": {\"gridcolor\": \"#DFE8F3\", \"linecolor\": \"#A2B1C6\", \"ticks\": \"\"}, \"bgcolor\": \"white\", \"caxis\": {\"gridcolor\": \"#DFE8F3\", \"linecolor\": \"#A2B1C6\", \"ticks\": \"\"}}, \"title\": {\"x\": 0.05}, \"xaxis\": {\"automargin\": true, \"gridcolor\": \"#EBF0F8\", \"linecolor\": \"#EBF0F8\", \"ticks\": \"\", \"title\": {\"standoff\": 15}, \"zerolinecolor\": \"#EBF0F8\", \"zerolinewidth\": 2}, \"yaxis\": {\"automargin\": true, \"gridcolor\": \"#EBF0F8\", \"linecolor\": \"#EBF0F8\", \"ticks\": \"\", \"title\": {\"standoff\": 15}, \"zerolinecolor\": \"#EBF0F8\", \"zerolinewidth\": 2}}}, \"title\": {\"text\": \"Happiness Score & Perceptions of Corruption in Central Eastern Europe\"}, \"xaxis\": {\"title\": {\"text\": \"Ladder score\"}}, \"yaxis\": {\"title\": {\"text\": \"Perceptions of corruption\"}}},                        {\"responsive\": true}                    ).then(function(){\n",
       "                            \n",
       "var gd = document.getElementById('800e9d7d-86f7-4df5-b9ef-29205a28735c');\n",
       "var x = new MutationObserver(function (mutations, observer) {{\n",
       "        var display = window.getComputedStyle(gd).display;\n",
       "        if (!display || display === 'none') {{\n",
       "            console.log([gd, 'removed!']);\n",
       "            Plotly.purge(gd);\n",
       "            observer.disconnect();\n",
       "        }}\n",
       "}});\n",
       "\n",
       "// Listen for the removal of the full notebook cells\n",
       "var notebookContainer = gd.closest('#notebook-container');\n",
       "if (notebookContainer) {{\n",
       "    x.observe(notebookContainer, {childList: true});\n",
       "}}\n",
       "\n",
       "// Listen for the clearing of the current output cell\n",
       "var outputEl = gd.closest('.output');\n",
       "if (outputEl) {{\n",
       "    x.observe(outputEl, {childList: true});\n",
       "}}\n",
       "\n",
       "                        })                };                });            </script>        </div>"
      ]
     },
     "metadata": {},
     "output_type": "display_data"
    }
   ],
   "source": [
    "trace = go.Scatter(x = center_east_europe['Ladder score'],y=center_east_europe['Perceptions of corruption'],text = center_east_europe['Country name'],mode='markers',marker={'color':'blue', 'size':10})\n",
    "df=[trace]\n",
    "layout = go.Layout(title='Happiness Score & Perceptions of Corruption in Central Eastern Europe',xaxis=dict(title='Ladder score'),yaxis=dict(title='Perceptions of corruption'),hovermode='closest')\n",
    "figure = go.Figure(data=df,layout=layout)\n",
    "figure.update_layout(template='plotly_white',\n",
    "                  font=dict(family=\"Oswald', sans-serif\"))\n",
    "figure.show()"
   ]
  },
  {
   "cell_type": "markdown",
   "id": "hungry-internet",
   "metadata": {
    "papermill": {
     "duration": 0.057342,
     "end_time": "2021-07-21T09:31:30.118072",
     "exception": false,
     "start_time": "2021-07-21T09:31:30.060730",
     "status": "completed"
    },
    "tags": []
   },
   "source": [
    "## **Happiness Score & Healthy Life Expectancy** "
   ]
  },
  {
   "cell_type": "code",
   "execution_count": 30,
   "id": "persistent-brief",
   "metadata": {
    "_kg_hide-input": true,
    "execution": {
     "iopub.execute_input": "2021-07-21T09:31:30.268180Z",
     "iopub.status.busy": "2021-07-21T09:31:30.267524Z",
     "iopub.status.idle": "2021-07-21T09:31:30.272478Z",
     "shell.execute_reply": "2021-07-21T09:31:30.271871Z",
     "shell.execute_reply.started": "2021-07-17T11:35:52.587876Z"
    },
    "papermill": {
     "duration": 0.097628,
     "end_time": "2021-07-21T09:31:30.272622",
     "exception": false,
     "start_time": "2021-07-21T09:31:30.174994",
     "status": "completed"
    },
    "tags": []
   },
   "outputs": [
    {
     "data": {
      "text/html": [
       "<div>                            <div id=\"ba118258-021f-460c-aaa7-d9dee6be1bff\" class=\"plotly-graph-div\" style=\"height:525px; width:100%;\"></div>            <script type=\"text/javascript\">                require([\"plotly\"], function(Plotly) {                    window.PLOTLYENV=window.PLOTLYENV || {};                                    if (document.getElementById(\"ba118258-021f-460c-aaa7-d9dee6be1bff\")) {                    Plotly.newPlot(                        \"ba118258-021f-460c-aaa7-d9dee6be1bff\",                        [{\"marker\": {\"color\": \"blue\", \"size\": 10}, \"mode\": \"markers\", \"text\": [\"Czech Republic\", \"Slovenia\", \"Kosovo\", \"Slovakia\", \"Lithuania\", \"Estonia\", \"Poland\", \"Romania\", \"Serbia\", \"Latvia\", \"Hungary\", \"Croatia\", \"Bosnia and Herzegovina\", \"Montenegro\", \"Bulgaria\", \"Albania\", \"North Macedonia\"], \"type\": \"scatter\", \"x\": [6.965, 6.461, 6.372, 6.331, 6.255, 6.189, 6.166, 6.14, 6.078, 6.032, 5.992, 5.882, 5.813, 5.581, 5.266, 5.117, 5.101], \"y\": [70.807, 71.4, 63.813, 69.201, 67.906, 68.8, 69.702, 67.355, 68.6, 67.1, 68.0, 70.799, 68.098, 68.699, 67.0, 68.999, 65.474]}],                        {\"font\": {\"family\": \"Oswald', sans-serif\"}, \"hovermode\": \"closest\", \"template\": {\"data\": {\"bar\": [{\"error_x\": {\"color\": \"#2a3f5f\"}, \"error_y\": {\"color\": \"#2a3f5f\"}, \"marker\": {\"line\": {\"color\": \"white\", \"width\": 0.5}}, \"type\": \"bar\"}], \"barpolar\": [{\"marker\": {\"line\": {\"color\": \"white\", \"width\": 0.5}}, \"type\": \"barpolar\"}], \"carpet\": [{\"aaxis\": {\"endlinecolor\": \"#2a3f5f\", \"gridcolor\": \"#C8D4E3\", \"linecolor\": \"#C8D4E3\", \"minorgridcolor\": \"#C8D4E3\", \"startlinecolor\": \"#2a3f5f\"}, \"baxis\": {\"endlinecolor\": \"#2a3f5f\", \"gridcolor\": \"#C8D4E3\", \"linecolor\": \"#C8D4E3\", \"minorgridcolor\": \"#C8D4E3\", \"startlinecolor\": \"#2a3f5f\"}, \"type\": \"carpet\"}], \"choropleth\": [{\"colorbar\": {\"outlinewidth\": 0, \"ticks\": \"\"}, \"type\": \"choropleth\"}], \"contour\": [{\"colorbar\": {\"outlinewidth\": 0, \"ticks\": \"\"}, \"colorscale\": [[0.0, \"#0d0887\"], [0.1111111111111111, \"#46039f\"], [0.2222222222222222, \"#7201a8\"], [0.3333333333333333, \"#9c179e\"], [0.4444444444444444, \"#bd3786\"], [0.5555555555555556, \"#d8576b\"], [0.6666666666666666, \"#ed7953\"], [0.7777777777777778, \"#fb9f3a\"], [0.8888888888888888, \"#fdca26\"], [1.0, \"#f0f921\"]], \"type\": \"contour\"}], \"contourcarpet\": [{\"colorbar\": {\"outlinewidth\": 0, \"ticks\": \"\"}, \"type\": \"contourcarpet\"}], \"heatmap\": [{\"colorbar\": {\"outlinewidth\": 0, \"ticks\": \"\"}, \"colorscale\": [[0.0, \"#0d0887\"], [0.1111111111111111, \"#46039f\"], [0.2222222222222222, \"#7201a8\"], [0.3333333333333333, \"#9c179e\"], [0.4444444444444444, \"#bd3786\"], [0.5555555555555556, \"#d8576b\"], [0.6666666666666666, \"#ed7953\"], [0.7777777777777778, \"#fb9f3a\"], [0.8888888888888888, \"#fdca26\"], [1.0, \"#f0f921\"]], \"type\": \"heatmap\"}], \"heatmapgl\": [{\"colorbar\": {\"outlinewidth\": 0, \"ticks\": \"\"}, \"colorscale\": [[0.0, \"#0d0887\"], [0.1111111111111111, \"#46039f\"], [0.2222222222222222, \"#7201a8\"], [0.3333333333333333, \"#9c179e\"], [0.4444444444444444, \"#bd3786\"], [0.5555555555555556, \"#d8576b\"], [0.6666666666666666, \"#ed7953\"], [0.7777777777777778, \"#fb9f3a\"], [0.8888888888888888, \"#fdca26\"], [1.0, \"#f0f921\"]], \"type\": \"heatmapgl\"}], \"histogram\": [{\"marker\": {\"colorbar\": {\"outlinewidth\": 0, \"ticks\": \"\"}}, \"type\": \"histogram\"}], \"histogram2d\": [{\"colorbar\": {\"outlinewidth\": 0, \"ticks\": \"\"}, \"colorscale\": [[0.0, \"#0d0887\"], [0.1111111111111111, \"#46039f\"], [0.2222222222222222, \"#7201a8\"], [0.3333333333333333, \"#9c179e\"], [0.4444444444444444, \"#bd3786\"], [0.5555555555555556, \"#d8576b\"], [0.6666666666666666, \"#ed7953\"], [0.7777777777777778, \"#fb9f3a\"], [0.8888888888888888, \"#fdca26\"], [1.0, \"#f0f921\"]], \"type\": \"histogram2d\"}], \"histogram2dcontour\": [{\"colorbar\": {\"outlinewidth\": 0, \"ticks\": \"\"}, \"colorscale\": [[0.0, \"#0d0887\"], [0.1111111111111111, \"#46039f\"], [0.2222222222222222, \"#7201a8\"], [0.3333333333333333, \"#9c179e\"], [0.4444444444444444, \"#bd3786\"], [0.5555555555555556, \"#d8576b\"], [0.6666666666666666, \"#ed7953\"], [0.7777777777777778, \"#fb9f3a\"], [0.8888888888888888, \"#fdca26\"], [1.0, \"#f0f921\"]], \"type\": \"histogram2dcontour\"}], \"mesh3d\": [{\"colorbar\": {\"outlinewidth\": 0, \"ticks\": \"\"}, \"type\": \"mesh3d\"}], \"parcoords\": [{\"line\": {\"colorbar\": {\"outlinewidth\": 0, \"ticks\": \"\"}}, \"type\": \"parcoords\"}], \"pie\": [{\"automargin\": true, \"type\": \"pie\"}], \"scatter\": [{\"marker\": {\"colorbar\": {\"outlinewidth\": 0, \"ticks\": \"\"}}, \"type\": \"scatter\"}], \"scatter3d\": [{\"line\": {\"colorbar\": {\"outlinewidth\": 0, \"ticks\": \"\"}}, \"marker\": {\"colorbar\": {\"outlinewidth\": 0, \"ticks\": \"\"}}, \"type\": \"scatter3d\"}], \"scattercarpet\": [{\"marker\": {\"colorbar\": {\"outlinewidth\": 0, \"ticks\": \"\"}}, \"type\": \"scattercarpet\"}], \"scattergeo\": [{\"marker\": {\"colorbar\": {\"outlinewidth\": 0, \"ticks\": \"\"}}, \"type\": \"scattergeo\"}], \"scattergl\": [{\"marker\": {\"colorbar\": {\"outlinewidth\": 0, \"ticks\": \"\"}}, \"type\": \"scattergl\"}], \"scattermapbox\": [{\"marker\": {\"colorbar\": {\"outlinewidth\": 0, \"ticks\": \"\"}}, \"type\": \"scattermapbox\"}], \"scatterpolar\": [{\"marker\": {\"colorbar\": {\"outlinewidth\": 0, \"ticks\": \"\"}}, \"type\": \"scatterpolar\"}], \"scatterpolargl\": [{\"marker\": {\"colorbar\": {\"outlinewidth\": 0, \"ticks\": \"\"}}, \"type\": \"scatterpolargl\"}], \"scatterternary\": [{\"marker\": {\"colorbar\": {\"outlinewidth\": 0, \"ticks\": \"\"}}, \"type\": \"scatterternary\"}], \"surface\": [{\"colorbar\": {\"outlinewidth\": 0, \"ticks\": \"\"}, \"colorscale\": [[0.0, \"#0d0887\"], [0.1111111111111111, \"#46039f\"], [0.2222222222222222, \"#7201a8\"], [0.3333333333333333, \"#9c179e\"], [0.4444444444444444, \"#bd3786\"], [0.5555555555555556, \"#d8576b\"], [0.6666666666666666, \"#ed7953\"], [0.7777777777777778, \"#fb9f3a\"], [0.8888888888888888, \"#fdca26\"], [1.0, \"#f0f921\"]], \"type\": \"surface\"}], \"table\": [{\"cells\": {\"fill\": {\"color\": \"#EBF0F8\"}, \"line\": {\"color\": \"white\"}}, \"header\": {\"fill\": {\"color\": \"#C8D4E3\"}, \"line\": {\"color\": \"white\"}}, \"type\": \"table\"}]}, \"layout\": {\"annotationdefaults\": {\"arrowcolor\": \"#2a3f5f\", \"arrowhead\": 0, \"arrowwidth\": 1}, \"autotypenumbers\": \"strict\", \"coloraxis\": {\"colorbar\": {\"outlinewidth\": 0, \"ticks\": \"\"}}, \"colorscale\": {\"diverging\": [[0, \"#8e0152\"], [0.1, \"#c51b7d\"], [0.2, \"#de77ae\"], [0.3, \"#f1b6da\"], [0.4, \"#fde0ef\"], [0.5, \"#f7f7f7\"], [0.6, \"#e6f5d0\"], [0.7, \"#b8e186\"], [0.8, \"#7fbc41\"], [0.9, \"#4d9221\"], [1, \"#276419\"]], \"sequential\": [[0.0, \"#0d0887\"], [0.1111111111111111, \"#46039f\"], [0.2222222222222222, \"#7201a8\"], [0.3333333333333333, \"#9c179e\"], [0.4444444444444444, \"#bd3786\"], [0.5555555555555556, \"#d8576b\"], [0.6666666666666666, \"#ed7953\"], [0.7777777777777778, \"#fb9f3a\"], [0.8888888888888888, \"#fdca26\"], [1.0, \"#f0f921\"]], \"sequentialminus\": [[0.0, \"#0d0887\"], [0.1111111111111111, \"#46039f\"], [0.2222222222222222, \"#7201a8\"], [0.3333333333333333, \"#9c179e\"], [0.4444444444444444, \"#bd3786\"], [0.5555555555555556, \"#d8576b\"], [0.6666666666666666, \"#ed7953\"], [0.7777777777777778, \"#fb9f3a\"], [0.8888888888888888, \"#fdca26\"], [1.0, \"#f0f921\"]]}, \"colorway\": [\"#636efa\", \"#EF553B\", \"#00cc96\", \"#ab63fa\", \"#FFA15A\", \"#19d3f3\", \"#FF6692\", \"#B6E880\", \"#FF97FF\", \"#FECB52\"], \"font\": {\"color\": \"#2a3f5f\"}, \"geo\": {\"bgcolor\": \"white\", \"lakecolor\": \"white\", \"landcolor\": \"white\", \"showlakes\": true, \"showland\": true, \"subunitcolor\": \"#C8D4E3\"}, \"hoverlabel\": {\"align\": \"left\"}, \"hovermode\": \"closest\", \"mapbox\": {\"style\": \"light\"}, \"paper_bgcolor\": \"white\", \"plot_bgcolor\": \"white\", \"polar\": {\"angularaxis\": {\"gridcolor\": \"#EBF0F8\", \"linecolor\": \"#EBF0F8\", \"ticks\": \"\"}, \"bgcolor\": \"white\", \"radialaxis\": {\"gridcolor\": \"#EBF0F8\", \"linecolor\": \"#EBF0F8\", \"ticks\": \"\"}}, \"scene\": {\"xaxis\": {\"backgroundcolor\": \"white\", \"gridcolor\": \"#DFE8F3\", \"gridwidth\": 2, \"linecolor\": \"#EBF0F8\", \"showbackground\": true, \"ticks\": \"\", \"zerolinecolor\": \"#EBF0F8\"}, \"yaxis\": {\"backgroundcolor\": \"white\", \"gridcolor\": \"#DFE8F3\", \"gridwidth\": 2, \"linecolor\": \"#EBF0F8\", \"showbackground\": true, \"ticks\": \"\", \"zerolinecolor\": \"#EBF0F8\"}, \"zaxis\": {\"backgroundcolor\": \"white\", \"gridcolor\": \"#DFE8F3\", \"gridwidth\": 2, \"linecolor\": \"#EBF0F8\", \"showbackground\": true, \"ticks\": \"\", \"zerolinecolor\": \"#EBF0F8\"}}, \"shapedefaults\": {\"line\": {\"color\": \"#2a3f5f\"}}, \"ternary\": {\"aaxis\": {\"gridcolor\": \"#DFE8F3\", \"linecolor\": \"#A2B1C6\", \"ticks\": \"\"}, \"baxis\": {\"gridcolor\": \"#DFE8F3\", \"linecolor\": \"#A2B1C6\", \"ticks\": \"\"}, \"bgcolor\": \"white\", \"caxis\": {\"gridcolor\": \"#DFE8F3\", \"linecolor\": \"#A2B1C6\", \"ticks\": \"\"}}, \"title\": {\"x\": 0.05}, \"xaxis\": {\"automargin\": true, \"gridcolor\": \"#EBF0F8\", \"linecolor\": \"#EBF0F8\", \"ticks\": \"\", \"title\": {\"standoff\": 15}, \"zerolinecolor\": \"#EBF0F8\", \"zerolinewidth\": 2}, \"yaxis\": {\"automargin\": true, \"gridcolor\": \"#EBF0F8\", \"linecolor\": \"#EBF0F8\", \"ticks\": \"\", \"title\": {\"standoff\": 15}, \"zerolinecolor\": \"#EBF0F8\", \"zerolinewidth\": 2}}}, \"title\": {\"text\": \"Happiness Score & Healthy Life Expectancy in Central Eastern Europe\"}, \"xaxis\": {\"title\": {\"text\": \"Ladder score\"}}, \"yaxis\": {\"title\": {\"text\": \"Healthy life expectancy\"}}},                        {\"responsive\": true}                    ).then(function(){\n",
       "                            \n",
       "var gd = document.getElementById('ba118258-021f-460c-aaa7-d9dee6be1bff');\n",
       "var x = new MutationObserver(function (mutations, observer) {{\n",
       "        var display = window.getComputedStyle(gd).display;\n",
       "        if (!display || display === 'none') {{\n",
       "            console.log([gd, 'removed!']);\n",
       "            Plotly.purge(gd);\n",
       "            observer.disconnect();\n",
       "        }}\n",
       "}});\n",
       "\n",
       "// Listen for the removal of the full notebook cells\n",
       "var notebookContainer = gd.closest('#notebook-container');\n",
       "if (notebookContainer) {{\n",
       "    x.observe(notebookContainer, {childList: true});\n",
       "}}\n",
       "\n",
       "// Listen for the clearing of the current output cell\n",
       "var outputEl = gd.closest('.output');\n",
       "if (outputEl) {{\n",
       "    x.observe(outputEl, {childList: true});\n",
       "}}\n",
       "\n",
       "                        })                };                });            </script>        </div>"
      ]
     },
     "metadata": {},
     "output_type": "display_data"
    }
   ],
   "source": [
    "trace = go.Scatter(x = center_east_europe['Ladder score'],y=center_east_europe['Healthy life expectancy'],text = center_east_europe['Country name'],mode='markers',marker={'color':'blue', 'size':10})\n",
    "df=[trace]\n",
    "layout = go.Layout(title='Happiness Score & Healthy Life Expectancy in Central Eastern Europe',xaxis=dict(title='Ladder score'),yaxis=dict(title='Healthy life expectancy'),hovermode='closest')\n",
    "figure = go.Figure(data=df,layout=layout)\n",
    "figure.update_layout(template='plotly_white',\n",
    "                  font=dict(family=\"Oswald', sans-serif\"))\n",
    "figure.show()"
   ]
  },
  {
   "cell_type": "markdown",
   "id": "disabled-identifier",
   "metadata": {
    "papermill": {
     "duration": 0.056729,
     "end_time": "2021-07-21T09:31:30.386606",
     "exception": false,
     "start_time": "2021-07-21T09:31:30.329877",
     "status": "completed"
    },
    "tags": []
   },
   "source": [
    "## **Happiness Score & Freedom to Make Life Choices** "
   ]
  },
  {
   "cell_type": "code",
   "execution_count": 31,
   "id": "boring-yellow",
   "metadata": {
    "_kg_hide-input": true,
    "execution": {
     "iopub.execute_input": "2021-07-21T09:31:30.537801Z",
     "iopub.status.busy": "2021-07-21T09:31:30.537065Z",
     "iopub.status.idle": "2021-07-21T09:31:30.542894Z",
     "shell.execute_reply": "2021-07-21T09:31:30.542249Z",
     "shell.execute_reply.started": "2021-07-17T11:35:52.625585Z"
    },
    "papermill": {
     "duration": 0.099117,
     "end_time": "2021-07-21T09:31:30.543034",
     "exception": false,
     "start_time": "2021-07-21T09:31:30.443917",
     "status": "completed"
    },
    "tags": []
   },
   "outputs": [
    {
     "data": {
      "text/html": [
       "<div>                            <div id=\"120c7d80-5c16-4fd6-97c0-ed802da5bc44\" class=\"plotly-graph-div\" style=\"height:525px; width:100%;\"></div>            <script type=\"text/javascript\">                require([\"plotly\"], function(Plotly) {                    window.PLOTLYENV=window.PLOTLYENV || {};                                    if (document.getElementById(\"120c7d80-5c16-4fd6-97c0-ed802da5bc44\")) {                    Plotly.newPlot(                        \"120c7d80-5c16-4fd6-97c0-ed802da5bc44\",                        [{\"marker\": {\"color\": \"blue\", \"size\": 10}, \"mode\": \"markers\", \"text\": [\"Czech Republic\", \"Slovenia\", \"Kosovo\", \"Slovakia\", \"Lithuania\", \"Estonia\", \"Poland\", \"Romania\", \"Serbia\", \"Latvia\", \"Hungary\", \"Croatia\", \"Bosnia and Herzegovina\", \"Montenegro\", \"Bulgaria\", \"Albania\", \"North Macedonia\"], \"type\": \"scatter\", \"x\": [6.965, 6.461, 6.372, 6.331, 6.255, 6.189, 6.166, 6.14, 6.078, 6.032, 5.992, 5.882, 5.813, 5.581, 5.266, 5.117, 5.101], \"y\": [0.858, 0.949, 0.869, 0.766, 0.773, 0.909, 0.841, 0.845, 0.778, 0.715, 0.755, 0.754, 0.706, 0.708, 0.788, 0.785, 0.751]}],                        {\"font\": {\"family\": \"Oswald', sans-serif\"}, \"hovermode\": \"closest\", \"template\": {\"data\": {\"bar\": [{\"error_x\": {\"color\": \"#2a3f5f\"}, \"error_y\": {\"color\": \"#2a3f5f\"}, \"marker\": {\"line\": {\"color\": \"white\", \"width\": 0.5}}, \"type\": \"bar\"}], \"barpolar\": [{\"marker\": {\"line\": {\"color\": \"white\", \"width\": 0.5}}, \"type\": \"barpolar\"}], \"carpet\": [{\"aaxis\": {\"endlinecolor\": \"#2a3f5f\", \"gridcolor\": \"#C8D4E3\", \"linecolor\": \"#C8D4E3\", \"minorgridcolor\": \"#C8D4E3\", \"startlinecolor\": \"#2a3f5f\"}, \"baxis\": {\"endlinecolor\": \"#2a3f5f\", \"gridcolor\": \"#C8D4E3\", \"linecolor\": \"#C8D4E3\", \"minorgridcolor\": \"#C8D4E3\", \"startlinecolor\": \"#2a3f5f\"}, \"type\": \"carpet\"}], \"choropleth\": [{\"colorbar\": {\"outlinewidth\": 0, \"ticks\": \"\"}, \"type\": \"choropleth\"}], \"contour\": [{\"colorbar\": {\"outlinewidth\": 0, \"ticks\": \"\"}, \"colorscale\": [[0.0, \"#0d0887\"], [0.1111111111111111, \"#46039f\"], [0.2222222222222222, \"#7201a8\"], [0.3333333333333333, \"#9c179e\"], [0.4444444444444444, \"#bd3786\"], [0.5555555555555556, \"#d8576b\"], [0.6666666666666666, \"#ed7953\"], [0.7777777777777778, \"#fb9f3a\"], [0.8888888888888888, \"#fdca26\"], [1.0, \"#f0f921\"]], \"type\": \"contour\"}], \"contourcarpet\": [{\"colorbar\": {\"outlinewidth\": 0, \"ticks\": \"\"}, \"type\": \"contourcarpet\"}], \"heatmap\": [{\"colorbar\": {\"outlinewidth\": 0, \"ticks\": \"\"}, \"colorscale\": [[0.0, \"#0d0887\"], [0.1111111111111111, \"#46039f\"], [0.2222222222222222, \"#7201a8\"], [0.3333333333333333, \"#9c179e\"], [0.4444444444444444, \"#bd3786\"], [0.5555555555555556, \"#d8576b\"], [0.6666666666666666, \"#ed7953\"], [0.7777777777777778, \"#fb9f3a\"], [0.8888888888888888, \"#fdca26\"], [1.0, \"#f0f921\"]], \"type\": \"heatmap\"}], \"heatmapgl\": [{\"colorbar\": {\"outlinewidth\": 0, \"ticks\": \"\"}, \"colorscale\": [[0.0, \"#0d0887\"], [0.1111111111111111, \"#46039f\"], [0.2222222222222222, \"#7201a8\"], [0.3333333333333333, \"#9c179e\"], [0.4444444444444444, \"#bd3786\"], [0.5555555555555556, \"#d8576b\"], [0.6666666666666666, \"#ed7953\"], [0.7777777777777778, \"#fb9f3a\"], [0.8888888888888888, \"#fdca26\"], [1.0, \"#f0f921\"]], \"type\": \"heatmapgl\"}], \"histogram\": [{\"marker\": {\"colorbar\": {\"outlinewidth\": 0, \"ticks\": \"\"}}, \"type\": \"histogram\"}], \"histogram2d\": [{\"colorbar\": {\"outlinewidth\": 0, \"ticks\": \"\"}, \"colorscale\": [[0.0, \"#0d0887\"], [0.1111111111111111, \"#46039f\"], [0.2222222222222222, \"#7201a8\"], [0.3333333333333333, \"#9c179e\"], [0.4444444444444444, \"#bd3786\"], [0.5555555555555556, \"#d8576b\"], [0.6666666666666666, \"#ed7953\"], [0.7777777777777778, \"#fb9f3a\"], [0.8888888888888888, \"#fdca26\"], [1.0, \"#f0f921\"]], \"type\": \"histogram2d\"}], \"histogram2dcontour\": [{\"colorbar\": {\"outlinewidth\": 0, \"ticks\": \"\"}, \"colorscale\": [[0.0, \"#0d0887\"], [0.1111111111111111, \"#46039f\"], [0.2222222222222222, \"#7201a8\"], [0.3333333333333333, \"#9c179e\"], [0.4444444444444444, \"#bd3786\"], [0.5555555555555556, \"#d8576b\"], [0.6666666666666666, \"#ed7953\"], [0.7777777777777778, \"#fb9f3a\"], [0.8888888888888888, \"#fdca26\"], [1.0, \"#f0f921\"]], \"type\": \"histogram2dcontour\"}], \"mesh3d\": [{\"colorbar\": {\"outlinewidth\": 0, \"ticks\": \"\"}, \"type\": \"mesh3d\"}], \"parcoords\": [{\"line\": {\"colorbar\": {\"outlinewidth\": 0, \"ticks\": \"\"}}, \"type\": \"parcoords\"}], \"pie\": [{\"automargin\": true, \"type\": \"pie\"}], \"scatter\": [{\"marker\": {\"colorbar\": {\"outlinewidth\": 0, \"ticks\": \"\"}}, \"type\": \"scatter\"}], \"scatter3d\": [{\"line\": {\"colorbar\": {\"outlinewidth\": 0, \"ticks\": \"\"}}, \"marker\": {\"colorbar\": {\"outlinewidth\": 0, \"ticks\": \"\"}}, \"type\": \"scatter3d\"}], \"scattercarpet\": [{\"marker\": {\"colorbar\": {\"outlinewidth\": 0, \"ticks\": \"\"}}, \"type\": \"scattercarpet\"}], \"scattergeo\": [{\"marker\": {\"colorbar\": {\"outlinewidth\": 0, \"ticks\": \"\"}}, \"type\": \"scattergeo\"}], \"scattergl\": [{\"marker\": {\"colorbar\": {\"outlinewidth\": 0, \"ticks\": \"\"}}, \"type\": \"scattergl\"}], \"scattermapbox\": [{\"marker\": {\"colorbar\": {\"outlinewidth\": 0, \"ticks\": \"\"}}, \"type\": \"scattermapbox\"}], \"scatterpolar\": [{\"marker\": {\"colorbar\": {\"outlinewidth\": 0, \"ticks\": \"\"}}, \"type\": \"scatterpolar\"}], \"scatterpolargl\": [{\"marker\": {\"colorbar\": {\"outlinewidth\": 0, \"ticks\": \"\"}}, \"type\": \"scatterpolargl\"}], \"scatterternary\": [{\"marker\": {\"colorbar\": {\"outlinewidth\": 0, \"ticks\": \"\"}}, \"type\": \"scatterternary\"}], \"surface\": [{\"colorbar\": {\"outlinewidth\": 0, \"ticks\": \"\"}, \"colorscale\": [[0.0, \"#0d0887\"], [0.1111111111111111, \"#46039f\"], [0.2222222222222222, \"#7201a8\"], [0.3333333333333333, \"#9c179e\"], [0.4444444444444444, \"#bd3786\"], [0.5555555555555556, \"#d8576b\"], [0.6666666666666666, \"#ed7953\"], [0.7777777777777778, \"#fb9f3a\"], [0.8888888888888888, \"#fdca26\"], [1.0, \"#f0f921\"]], \"type\": \"surface\"}], \"table\": [{\"cells\": {\"fill\": {\"color\": \"#EBF0F8\"}, \"line\": {\"color\": \"white\"}}, \"header\": {\"fill\": {\"color\": \"#C8D4E3\"}, \"line\": {\"color\": \"white\"}}, \"type\": \"table\"}]}, \"layout\": {\"annotationdefaults\": {\"arrowcolor\": \"#2a3f5f\", \"arrowhead\": 0, \"arrowwidth\": 1}, \"autotypenumbers\": \"strict\", \"coloraxis\": {\"colorbar\": {\"outlinewidth\": 0, \"ticks\": \"\"}}, \"colorscale\": {\"diverging\": [[0, \"#8e0152\"], [0.1, \"#c51b7d\"], [0.2, \"#de77ae\"], [0.3, \"#f1b6da\"], [0.4, \"#fde0ef\"], [0.5, \"#f7f7f7\"], [0.6, \"#e6f5d0\"], [0.7, \"#b8e186\"], [0.8, \"#7fbc41\"], [0.9, \"#4d9221\"], [1, \"#276419\"]], \"sequential\": [[0.0, \"#0d0887\"], [0.1111111111111111, \"#46039f\"], [0.2222222222222222, \"#7201a8\"], [0.3333333333333333, \"#9c179e\"], [0.4444444444444444, \"#bd3786\"], [0.5555555555555556, \"#d8576b\"], [0.6666666666666666, \"#ed7953\"], [0.7777777777777778, \"#fb9f3a\"], [0.8888888888888888, \"#fdca26\"], [1.0, \"#f0f921\"]], \"sequentialminus\": [[0.0, \"#0d0887\"], [0.1111111111111111, \"#46039f\"], [0.2222222222222222, \"#7201a8\"], [0.3333333333333333, \"#9c179e\"], [0.4444444444444444, \"#bd3786\"], [0.5555555555555556, \"#d8576b\"], [0.6666666666666666, \"#ed7953\"], [0.7777777777777778, \"#fb9f3a\"], [0.8888888888888888, \"#fdca26\"], [1.0, \"#f0f921\"]]}, \"colorway\": [\"#636efa\", \"#EF553B\", \"#00cc96\", \"#ab63fa\", \"#FFA15A\", \"#19d3f3\", \"#FF6692\", \"#B6E880\", \"#FF97FF\", \"#FECB52\"], \"font\": {\"color\": \"#2a3f5f\"}, \"geo\": {\"bgcolor\": \"white\", \"lakecolor\": \"white\", \"landcolor\": \"white\", \"showlakes\": true, \"showland\": true, \"subunitcolor\": \"#C8D4E3\"}, \"hoverlabel\": {\"align\": \"left\"}, \"hovermode\": \"closest\", \"mapbox\": {\"style\": \"light\"}, \"paper_bgcolor\": \"white\", \"plot_bgcolor\": \"white\", \"polar\": {\"angularaxis\": {\"gridcolor\": \"#EBF0F8\", \"linecolor\": \"#EBF0F8\", \"ticks\": \"\"}, \"bgcolor\": \"white\", \"radialaxis\": {\"gridcolor\": \"#EBF0F8\", \"linecolor\": \"#EBF0F8\", \"ticks\": \"\"}}, \"scene\": {\"xaxis\": {\"backgroundcolor\": \"white\", \"gridcolor\": \"#DFE8F3\", \"gridwidth\": 2, \"linecolor\": \"#EBF0F8\", \"showbackground\": true, \"ticks\": \"\", \"zerolinecolor\": \"#EBF0F8\"}, \"yaxis\": {\"backgroundcolor\": \"white\", \"gridcolor\": \"#DFE8F3\", \"gridwidth\": 2, \"linecolor\": \"#EBF0F8\", \"showbackground\": true, \"ticks\": \"\", \"zerolinecolor\": \"#EBF0F8\"}, \"zaxis\": {\"backgroundcolor\": \"white\", \"gridcolor\": \"#DFE8F3\", \"gridwidth\": 2, \"linecolor\": \"#EBF0F8\", \"showbackground\": true, \"ticks\": \"\", \"zerolinecolor\": \"#EBF0F8\"}}, \"shapedefaults\": {\"line\": {\"color\": \"#2a3f5f\"}}, \"ternary\": {\"aaxis\": {\"gridcolor\": \"#DFE8F3\", \"linecolor\": \"#A2B1C6\", \"ticks\": \"\"}, \"baxis\": {\"gridcolor\": \"#DFE8F3\", \"linecolor\": \"#A2B1C6\", \"ticks\": \"\"}, \"bgcolor\": \"white\", \"caxis\": {\"gridcolor\": \"#DFE8F3\", \"linecolor\": \"#A2B1C6\", \"ticks\": \"\"}}, \"title\": {\"x\": 0.05}, \"xaxis\": {\"automargin\": true, \"gridcolor\": \"#EBF0F8\", \"linecolor\": \"#EBF0F8\", \"ticks\": \"\", \"title\": {\"standoff\": 15}, \"zerolinecolor\": \"#EBF0F8\", \"zerolinewidth\": 2}, \"yaxis\": {\"automargin\": true, \"gridcolor\": \"#EBF0F8\", \"linecolor\": \"#EBF0F8\", \"ticks\": \"\", \"title\": {\"standoff\": 15}, \"zerolinecolor\": \"#EBF0F8\", \"zerolinewidth\": 2}}}, \"title\": {\"text\": \"Happiness Score & Freedom to Make Life Choices in Central Eastern Europe\"}, \"xaxis\": {\"title\": {\"text\": \"Ladder score\"}}, \"yaxis\": {\"title\": {\"text\": \"Freedom to make life choices\"}}},                        {\"responsive\": true}                    ).then(function(){\n",
       "                            \n",
       "var gd = document.getElementById('120c7d80-5c16-4fd6-97c0-ed802da5bc44');\n",
       "var x = new MutationObserver(function (mutations, observer) {{\n",
       "        var display = window.getComputedStyle(gd).display;\n",
       "        if (!display || display === 'none') {{\n",
       "            console.log([gd, 'removed!']);\n",
       "            Plotly.purge(gd);\n",
       "            observer.disconnect();\n",
       "        }}\n",
       "}});\n",
       "\n",
       "// Listen for the removal of the full notebook cells\n",
       "var notebookContainer = gd.closest('#notebook-container');\n",
       "if (notebookContainer) {{\n",
       "    x.observe(notebookContainer, {childList: true});\n",
       "}}\n",
       "\n",
       "// Listen for the clearing of the current output cell\n",
       "var outputEl = gd.closest('.output');\n",
       "if (outputEl) {{\n",
       "    x.observe(outputEl, {childList: true});\n",
       "}}\n",
       "\n",
       "                        })                };                });            </script>        </div>"
      ]
     },
     "metadata": {},
     "output_type": "display_data"
    }
   ],
   "source": [
    "trace = go.Scatter(x = center_east_europe['Ladder score'],y=center_east_europe['Freedom to make life choices'],text = center_east_europe['Country name'],mode='markers',marker={'color':'blue', 'size':10})\n",
    "df=[trace]\n",
    "layout = go.Layout(title='Happiness Score & Freedom to Make Life Choices in Central Eastern Europe',xaxis=dict(title='Ladder score'),yaxis=dict(title='Freedom to make life choices'),hovermode='closest')\n",
    "figure = go.Figure(data=df,layout=layout)\n",
    "figure.update_layout(template='plotly_white',\n",
    "                  font=dict(family=\"Oswald', sans-serif\"))\n",
    "figure.show()"
   ]
  },
  {
   "cell_type": "markdown",
   "id": "educational-services",
   "metadata": {
    "papermill": {
     "duration": 0.058024,
     "end_time": "2021-07-21T09:31:30.659521",
     "exception": false,
     "start_time": "2021-07-21T09:31:30.601497",
     "status": "completed"
    },
    "tags": []
   },
   "source": [
    "## This notebook is a part of the 9 Beginner Friendly EDAs\n",
    "## If you like this one, you can also check out other notebooks in the Beginner Friendly EDAs series!\n",
    "\n",
    "* [Data Analyst Jobs - EDA](https://www.kaggle.com/kaanboke/plotly-data-analyst-jobs)\n",
    "* [Top Games on Google Play Store](https://www.kaggle.com/kaanboke/plotly-beginner-friendly-top-games)\n",
    "* [Hollywood Top Movies- EDA](https://www.kaggle.com/kaanboke/plotly-beginner-friendly-top-movies)\n",
    "* [UDEMY Courses EDA](https://www.kaggle.com/kaanboke/plotly-beginner-friendly-udemy)\n",
    "* [Countries Life Expectancy](https://www.kaggle.com/kaanboke/plotly-beginner-friendly)\n",
    "* [Netflix Movies- EDA](https://www.kaggle.com/kaanboke/plotly-beginner-friendly-netflix)\n",
    "* [Amazon Top 50 Bestselling Books EDA](https://www.kaggle.com/kaanboke/plotly-beginner-friendly-amazon)\n",
    "* [London bike Sharing EDA](https://www.kaggle.com/kaanboke/plotly-beginner-friendly-london-bike)\n",
    "\n",
    "\n"
   ]
  },
  {
   "cell_type": "markdown",
   "id": "compliant-imperial",
   "metadata": {
    "papermill": {
     "duration": 0.057574,
     "end_time": "2021-07-21T09:31:30.776002",
     "exception": false,
     "start_time": "2021-07-21T09:31:30.718428",
     "status": "completed"
    },
    "tags": []
   },
   "source": [
    "- Thanks for the dataset contibutor for this data. I really enjoyed working on it."
   ]
  },
  {
   "cell_type": "markdown",
   "id": "binding-lodge",
   "metadata": {
    "_kg_hide-input": true,
    "papermill": {
     "duration": 0.057918,
     "end_time": "2021-07-21T09:31:30.892392",
     "exception": false,
     "start_time": "2021-07-21T09:31:30.834474",
     "status": "completed"
    },
    "tags": []
   },
   "source": [
    "- It was a quite pleasure to share with you this detailed, beginner friendly EDA. Thanks for your time."
   ]
  },
  {
   "cell_type": "markdown",
   "id": "opened-fourth",
   "metadata": {
    "papermill": {
     "duration": 0.073539,
     "end_time": "2021-07-21T09:31:31.033812",
     "exception": false,
     "start_time": "2021-07-21T09:31:30.960273",
     "status": "completed"
    },
    "tags": []
   },
   "source": [
    "- All the best"
   ]
  }
 ],
 "metadata": {
  "kernelspec": {
   "display_name": "Python 3",
   "language": "python",
   "name": "python3"
  },
  "language_info": {
   "codemirror_mode": {
    "name": "ipython",
    "version": 3
   },
   "file_extension": ".py",
   "mimetype": "text/x-python",
   "name": "python",
   "nbconvert_exporter": "python",
   "pygments_lexer": "ipython3",
   "version": "3.7.10"
  },
  "papermill": {
   "default_parameters": {},
   "duration": 21.859817,
   "end_time": "2021-07-21T09:31:32.830646",
   "environment_variables": {},
   "exception": null,
   "input_path": "__notebook__.ipynb",
   "output_path": "__notebook__.ipynb",
   "parameters": {},
   "start_time": "2021-07-21T09:31:10.970829",
   "version": "2.3.3"
  }
 },
 "nbformat": 4,
 "nbformat_minor": 5
}
