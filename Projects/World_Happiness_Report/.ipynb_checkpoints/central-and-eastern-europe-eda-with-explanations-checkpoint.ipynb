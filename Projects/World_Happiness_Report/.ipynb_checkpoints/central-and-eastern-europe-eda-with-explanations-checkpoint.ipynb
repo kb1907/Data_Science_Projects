{
 "cells": [
  {
   "cell_type": "markdown",
   "id": "ranking-gather",
   "metadata": {
    "_cell_guid": "b1076dfc-b9ad-4769-8c92-a6c4dae69d19",
    "_kg_hide-input": false,
    "_uuid": "8f2839f25d086af736a60e9eeb907d3b93b6e0e5",
    "execution": {
     "iopub.execute_input": "2021-07-04T05:36:47.007826Z",
     "iopub.status.busy": "2021-07-04T05:36:47.007387Z",
     "iopub.status.idle": "2021-07-04T05:36:47.015492Z",
     "shell.execute_reply": "2021-07-04T05:36:47.014371Z",
     "shell.execute_reply.started": "2021-07-04T05:36:47.007727Z"
    },
    "papermill": {
     "duration": 0.030757,
     "end_time": "2021-07-06T15:37:56.343336",
     "exception": false,
     "start_time": "2021-07-06T15:37:56.312579",
     "status": "completed"
    },
    "tags": []
   },
   "source": [
    "In this Exploratory Data Analysis (EDA), \n",
    "\n",
    "- Descriptive statistics of the 2021 dataset\n",
    "- Correlation among the variables\n",
    "- Happines Score distribution over the regions\n",
    "- Descriptive statistics of 2021 dataset for Central and Eastern Europe region\n",
    "- Happiness Score's trend in 2021 and the previous years at the Central and Eastern Europe will be discussed.\n"
   ]
  },
  {
   "cell_type": "markdown",
   "id": "invalid-present",
   "metadata": {
    "papermill": {
     "duration": 0.02962,
     "end_time": "2021-07-06T15:37:56.402462",
     "exception": false,
     "start_time": "2021-07-06T15:37:56.372842",
     "status": "completed"
    },
    "tags": []
   },
   "source": [
    "- First thing first, lets' import the related libraries for further analysis"
   ]
  },
  {
   "cell_type": "code",
   "execution_count": 1,
   "id": "electrical-arrow",
   "metadata": {
    "_kg_hide-input": true,
    "papermill": {
     "duration": 3.468435,
     "end_time": "2021-07-06T15:37:59.900455",
     "exception": false,
     "start_time": "2021-07-06T15:37:56.432020",
     "status": "completed"
    },
    "tags": []
   },
   "outputs": [],
   "source": [
    "import pandas as pd\n",
    "import numpy as np\n",
    "\n",
    "import matplotlib.pyplot as plt \n",
    "import seaborn as sns \n",
    "import matplotlib as mpl\n",
    "\n",
    "import plotly.io as pio\n",
    "pio.renderers.default = 'iframe'\n",
    "\n",
    "\n",
    "import plotly \n",
    "import plotly.express as px\n",
    "import plotly.graph_objs as go\n",
    "import plotly.offline as py\n",
    "from plotly.offline import iplot\n",
    "from plotly.subplots import make_subplots\n",
    "import plotly.figure_factory as ff"
   ]
  },
  {
   "cell_type": "markdown",
   "id": "standard-treat",
   "metadata": {
    "papermill": {
     "duration": 0.029653,
     "end_time": "2021-07-06T15:37:59.961126",
     "exception": false,
     "start_time": "2021-07-06T15:37:59.931473",
     "status": "completed"
    },
    "tags": []
   },
   "source": [
    "World Happiness Report 2021 and World Happines Report (which includes data before 2021) will be used in this Exploratory Data Analysis (EDA) "
   ]
  },
  {
   "cell_type": "code",
   "execution_count": 2,
   "id": "wrong-fortune",
   "metadata": {
    "_kg_hide-input": true,
    "papermill": {
     "duration": 0.067972,
     "end_time": "2021-07-06T15:38:00.060211",
     "exception": false,
     "start_time": "2021-07-06T15:37:59.992239",
     "status": "completed"
    },
    "tags": []
   },
   "outputs": [],
   "source": [
    "df_2021 = pd.read_csv('world-happiness-report-2021.csv')\n",
    "df_past = pd.read_csv(\"world-happiness-report.csv\")"
   ]
  },
  {
   "cell_type": "code",
   "execution_count": 3,
   "id": "featured-nothing",
   "metadata": {
    "_kg_hide-input": true,
    "papermill": {
     "duration": 0.076487,
     "end_time": "2021-07-06T15:38:00.168015",
     "exception": false,
     "start_time": "2021-07-06T15:38:00.091528",
     "status": "completed"
    },
    "tags": []
   },
   "outputs": [
    {
     "data": {
      "text/html": [
       "<div>\n",
       "<style scoped>\n",
       "    .dataframe tbody tr th:only-of-type {\n",
       "        vertical-align: middle;\n",
       "    }\n",
       "\n",
       "    .dataframe tbody tr th {\n",
       "        vertical-align: top;\n",
       "    }\n",
       "\n",
       "    .dataframe thead th {\n",
       "        text-align: right;\n",
       "    }\n",
       "</style>\n",
       "<table border=\"1\" class=\"dataframe\">\n",
       "  <thead>\n",
       "    <tr style=\"text-align: right;\">\n",
       "      <th></th>\n",
       "      <th>Country name</th>\n",
       "      <th>Regional indicator</th>\n",
       "      <th>Ladder score</th>\n",
       "      <th>Standard error of ladder score</th>\n",
       "      <th>upperwhisker</th>\n",
       "      <th>lowerwhisker</th>\n",
       "      <th>Logged GDP per capita</th>\n",
       "      <th>Social support</th>\n",
       "      <th>Healthy life expectancy</th>\n",
       "      <th>Freedom to make life choices</th>\n",
       "      <th>Generosity</th>\n",
       "      <th>Perceptions of corruption</th>\n",
       "      <th>Ladder score in Dystopia</th>\n",
       "      <th>Explained by: Log GDP per capita</th>\n",
       "      <th>Explained by: Social support</th>\n",
       "      <th>Explained by: Healthy life expectancy</th>\n",
       "      <th>Explained by: Freedom to make life choices</th>\n",
       "      <th>Explained by: Generosity</th>\n",
       "      <th>Explained by: Perceptions of corruption</th>\n",
       "      <th>Dystopia + residual</th>\n",
       "    </tr>\n",
       "  </thead>\n",
       "  <tbody>\n",
       "    <tr>\n",
       "      <th>0</th>\n",
       "      <td>Finland</td>\n",
       "      <td>Western Europe</td>\n",
       "      <td>7.842</td>\n",
       "      <td>0.032</td>\n",
       "      <td>7.904</td>\n",
       "      <td>7.780</td>\n",
       "      <td>10.775</td>\n",
       "      <td>0.954</td>\n",
       "      <td>72.0</td>\n",
       "      <td>0.949</td>\n",
       "      <td>-0.098</td>\n",
       "      <td>0.186</td>\n",
       "      <td>2.43</td>\n",
       "      <td>1.446</td>\n",
       "      <td>1.106</td>\n",
       "      <td>0.741</td>\n",
       "      <td>0.691</td>\n",
       "      <td>0.124</td>\n",
       "      <td>0.481</td>\n",
       "      <td>3.253</td>\n",
       "    </tr>\n",
       "    <tr>\n",
       "      <th>1</th>\n",
       "      <td>Denmark</td>\n",
       "      <td>Western Europe</td>\n",
       "      <td>7.620</td>\n",
       "      <td>0.035</td>\n",
       "      <td>7.687</td>\n",
       "      <td>7.552</td>\n",
       "      <td>10.933</td>\n",
       "      <td>0.954</td>\n",
       "      <td>72.7</td>\n",
       "      <td>0.946</td>\n",
       "      <td>0.030</td>\n",
       "      <td>0.179</td>\n",
       "      <td>2.43</td>\n",
       "      <td>1.502</td>\n",
       "      <td>1.108</td>\n",
       "      <td>0.763</td>\n",
       "      <td>0.686</td>\n",
       "      <td>0.208</td>\n",
       "      <td>0.485</td>\n",
       "      <td>2.868</td>\n",
       "    </tr>\n",
       "    <tr>\n",
       "      <th>2</th>\n",
       "      <td>Switzerland</td>\n",
       "      <td>Western Europe</td>\n",
       "      <td>7.571</td>\n",
       "      <td>0.036</td>\n",
       "      <td>7.643</td>\n",
       "      <td>7.500</td>\n",
       "      <td>11.117</td>\n",
       "      <td>0.942</td>\n",
       "      <td>74.4</td>\n",
       "      <td>0.919</td>\n",
       "      <td>0.025</td>\n",
       "      <td>0.292</td>\n",
       "      <td>2.43</td>\n",
       "      <td>1.566</td>\n",
       "      <td>1.079</td>\n",
       "      <td>0.816</td>\n",
       "      <td>0.653</td>\n",
       "      <td>0.204</td>\n",
       "      <td>0.413</td>\n",
       "      <td>2.839</td>\n",
       "    </tr>\n",
       "    <tr>\n",
       "      <th>3</th>\n",
       "      <td>Iceland</td>\n",
       "      <td>Western Europe</td>\n",
       "      <td>7.554</td>\n",
       "      <td>0.059</td>\n",
       "      <td>7.670</td>\n",
       "      <td>7.438</td>\n",
       "      <td>10.878</td>\n",
       "      <td>0.983</td>\n",
       "      <td>73.0</td>\n",
       "      <td>0.955</td>\n",
       "      <td>0.160</td>\n",
       "      <td>0.673</td>\n",
       "      <td>2.43</td>\n",
       "      <td>1.482</td>\n",
       "      <td>1.172</td>\n",
       "      <td>0.772</td>\n",
       "      <td>0.698</td>\n",
       "      <td>0.293</td>\n",
       "      <td>0.170</td>\n",
       "      <td>2.967</td>\n",
       "    </tr>\n",
       "    <tr>\n",
       "      <th>4</th>\n",
       "      <td>Netherlands</td>\n",
       "      <td>Western Europe</td>\n",
       "      <td>7.464</td>\n",
       "      <td>0.027</td>\n",
       "      <td>7.518</td>\n",
       "      <td>7.410</td>\n",
       "      <td>10.932</td>\n",
       "      <td>0.942</td>\n",
       "      <td>72.4</td>\n",
       "      <td>0.913</td>\n",
       "      <td>0.175</td>\n",
       "      <td>0.338</td>\n",
       "      <td>2.43</td>\n",
       "      <td>1.501</td>\n",
       "      <td>1.079</td>\n",
       "      <td>0.753</td>\n",
       "      <td>0.647</td>\n",
       "      <td>0.302</td>\n",
       "      <td>0.384</td>\n",
       "      <td>2.798</td>\n",
       "    </tr>\n",
       "  </tbody>\n",
       "</table>\n",
       "</div>"
      ],
      "text/plain": [
       "  Country name Regional indicator  Ladder score  \\\n",
       "0      Finland     Western Europe         7.842   \n",
       "1      Denmark     Western Europe         7.620   \n",
       "2  Switzerland     Western Europe         7.571   \n",
       "3      Iceland     Western Europe         7.554   \n",
       "4  Netherlands     Western Europe         7.464   \n",
       "\n",
       "   Standard error of ladder score  upperwhisker  lowerwhisker  \\\n",
       "0                           0.032         7.904         7.780   \n",
       "1                           0.035         7.687         7.552   \n",
       "2                           0.036         7.643         7.500   \n",
       "3                           0.059         7.670         7.438   \n",
       "4                           0.027         7.518         7.410   \n",
       "\n",
       "   Logged GDP per capita  Social support  Healthy life expectancy  \\\n",
       "0                 10.775           0.954                     72.0   \n",
       "1                 10.933           0.954                     72.7   \n",
       "2                 11.117           0.942                     74.4   \n",
       "3                 10.878           0.983                     73.0   \n",
       "4                 10.932           0.942                     72.4   \n",
       "\n",
       "   Freedom to make life choices  Generosity  Perceptions of corruption  \\\n",
       "0                         0.949      -0.098                      0.186   \n",
       "1                         0.946       0.030                      0.179   \n",
       "2                         0.919       0.025                      0.292   \n",
       "3                         0.955       0.160                      0.673   \n",
       "4                         0.913       0.175                      0.338   \n",
       "\n",
       "   Ladder score in Dystopia  Explained by: Log GDP per capita  \\\n",
       "0                      2.43                             1.446   \n",
       "1                      2.43                             1.502   \n",
       "2                      2.43                             1.566   \n",
       "3                      2.43                             1.482   \n",
       "4                      2.43                             1.501   \n",
       "\n",
       "   Explained by: Social support  Explained by: Healthy life expectancy  \\\n",
       "0                         1.106                                  0.741   \n",
       "1                         1.108                                  0.763   \n",
       "2                         1.079                                  0.816   \n",
       "3                         1.172                                  0.772   \n",
       "4                         1.079                                  0.753   \n",
       "\n",
       "   Explained by: Freedom to make life choices  Explained by: Generosity  \\\n",
       "0                                       0.691                     0.124   \n",
       "1                                       0.686                     0.208   \n",
       "2                                       0.653                     0.204   \n",
       "3                                       0.698                     0.293   \n",
       "4                                       0.647                     0.302   \n",
       "\n",
       "   Explained by: Perceptions of corruption  Dystopia + residual  \n",
       "0                                    0.481                3.253  \n",
       "1                                    0.485                2.868  \n",
       "2                                    0.413                2.839  \n",
       "3                                    0.170                2.967  \n",
       "4                                    0.384                2.798  "
      ]
     },
     "execution_count": 3,
     "metadata": {},
     "output_type": "execute_result"
    }
   ],
   "source": [
    "df_2021.head()"
   ]
  },
  {
   "cell_type": "code",
   "execution_count": 4,
   "id": "covered-credits",
   "metadata": {
    "_kg_hide-input": true,
    "papermill": {
     "duration": 0.039905,
     "end_time": "2021-07-06T15:38:00.238458",
     "exception": false,
     "start_time": "2021-07-06T15:38:00.198553",
     "status": "completed"
    },
    "tags": []
   },
   "outputs": [
    {
     "data": {
      "text/plain": [
       "(149, 20)"
      ]
     },
     "execution_count": 4,
     "metadata": {},
     "output_type": "execute_result"
    }
   ],
   "source": [
    "df_2021.shape"
   ]
  },
  {
   "cell_type": "code",
   "execution_count": 5,
   "id": "german-hawaiian",
   "metadata": {
    "_kg_hide-input": true,
    "papermill": {
     "duration": 0.050384,
     "end_time": "2021-07-06T15:38:00.320125",
     "exception": false,
     "start_time": "2021-07-06T15:38:00.269741",
     "status": "completed"
    },
    "tags": []
   },
   "outputs": [
    {
     "data": {
      "text/html": [
       "<div>\n",
       "<style scoped>\n",
       "    .dataframe tbody tr th:only-of-type {\n",
       "        vertical-align: middle;\n",
       "    }\n",
       "\n",
       "    .dataframe tbody tr th {\n",
       "        vertical-align: top;\n",
       "    }\n",
       "\n",
       "    .dataframe thead th {\n",
       "        text-align: right;\n",
       "    }\n",
       "</style>\n",
       "<table border=\"1\" class=\"dataframe\">\n",
       "  <thead>\n",
       "    <tr style=\"text-align: right;\">\n",
       "      <th></th>\n",
       "      <th>Country name</th>\n",
       "      <th>year</th>\n",
       "      <th>Life Ladder</th>\n",
       "      <th>Log GDP per capita</th>\n",
       "      <th>Social support</th>\n",
       "      <th>Healthy life expectancy at birth</th>\n",
       "      <th>Freedom to make life choices</th>\n",
       "      <th>Generosity</th>\n",
       "      <th>Perceptions of corruption</th>\n",
       "      <th>Positive affect</th>\n",
       "      <th>Negative affect</th>\n",
       "    </tr>\n",
       "  </thead>\n",
       "  <tbody>\n",
       "    <tr>\n",
       "      <th>0</th>\n",
       "      <td>Afghanistan</td>\n",
       "      <td>2008</td>\n",
       "      <td>3.724</td>\n",
       "      <td>7.370</td>\n",
       "      <td>0.451</td>\n",
       "      <td>50.80</td>\n",
       "      <td>0.718</td>\n",
       "      <td>0.168</td>\n",
       "      <td>0.882</td>\n",
       "      <td>0.518</td>\n",
       "      <td>0.258</td>\n",
       "    </tr>\n",
       "    <tr>\n",
       "      <th>1</th>\n",
       "      <td>Afghanistan</td>\n",
       "      <td>2009</td>\n",
       "      <td>4.402</td>\n",
       "      <td>7.540</td>\n",
       "      <td>0.552</td>\n",
       "      <td>51.20</td>\n",
       "      <td>0.679</td>\n",
       "      <td>0.190</td>\n",
       "      <td>0.850</td>\n",
       "      <td>0.584</td>\n",
       "      <td>0.237</td>\n",
       "    </tr>\n",
       "    <tr>\n",
       "      <th>2</th>\n",
       "      <td>Afghanistan</td>\n",
       "      <td>2010</td>\n",
       "      <td>4.758</td>\n",
       "      <td>7.647</td>\n",
       "      <td>0.539</td>\n",
       "      <td>51.60</td>\n",
       "      <td>0.600</td>\n",
       "      <td>0.121</td>\n",
       "      <td>0.707</td>\n",
       "      <td>0.618</td>\n",
       "      <td>0.275</td>\n",
       "    </tr>\n",
       "    <tr>\n",
       "      <th>3</th>\n",
       "      <td>Afghanistan</td>\n",
       "      <td>2011</td>\n",
       "      <td>3.832</td>\n",
       "      <td>7.620</td>\n",
       "      <td>0.521</td>\n",
       "      <td>51.92</td>\n",
       "      <td>0.496</td>\n",
       "      <td>0.162</td>\n",
       "      <td>0.731</td>\n",
       "      <td>0.611</td>\n",
       "      <td>0.267</td>\n",
       "    </tr>\n",
       "    <tr>\n",
       "      <th>4</th>\n",
       "      <td>Afghanistan</td>\n",
       "      <td>2012</td>\n",
       "      <td>3.783</td>\n",
       "      <td>7.705</td>\n",
       "      <td>0.521</td>\n",
       "      <td>52.24</td>\n",
       "      <td>0.531</td>\n",
       "      <td>0.236</td>\n",
       "      <td>0.776</td>\n",
       "      <td>0.710</td>\n",
       "      <td>0.268</td>\n",
       "    </tr>\n",
       "  </tbody>\n",
       "</table>\n",
       "</div>"
      ],
      "text/plain": [
       "  Country name  year  Life Ladder  Log GDP per capita  Social support  \\\n",
       "0  Afghanistan  2008        3.724               7.370           0.451   \n",
       "1  Afghanistan  2009        4.402               7.540           0.552   \n",
       "2  Afghanistan  2010        4.758               7.647           0.539   \n",
       "3  Afghanistan  2011        3.832               7.620           0.521   \n",
       "4  Afghanistan  2012        3.783               7.705           0.521   \n",
       "\n",
       "   Healthy life expectancy at birth  Freedom to make life choices  Generosity  \\\n",
       "0                             50.80                         0.718       0.168   \n",
       "1                             51.20                         0.679       0.190   \n",
       "2                             51.60                         0.600       0.121   \n",
       "3                             51.92                         0.496       0.162   \n",
       "4                             52.24                         0.531       0.236   \n",
       "\n",
       "   Perceptions of corruption  Positive affect  Negative affect  \n",
       "0                      0.882            0.518            0.258  \n",
       "1                      0.850            0.584            0.237  \n",
       "2                      0.707            0.618            0.275  \n",
       "3                      0.731            0.611            0.267  \n",
       "4                      0.776            0.710            0.268  "
      ]
     },
     "execution_count": 5,
     "metadata": {},
     "output_type": "execute_result"
    }
   ],
   "source": [
    "df_past.head()"
   ]
  },
  {
   "cell_type": "code",
   "execution_count": 6,
   "id": "prime-stability",
   "metadata": {
    "_kg_hide-input": true,
    "papermill": {
     "duration": 0.039715,
     "end_time": "2021-07-06T15:38:00.390628",
     "exception": false,
     "start_time": "2021-07-06T15:38:00.350913",
     "status": "completed"
    },
    "tags": []
   },
   "outputs": [
    {
     "data": {
      "text/plain": [
       "(1949, 11)"
      ]
     },
     "execution_count": 6,
     "metadata": {},
     "output_type": "execute_result"
    }
   ],
   "source": [
    "df_past.shape"
   ]
  },
  {
   "cell_type": "markdown",
   "id": "quiet-medication",
   "metadata": {
    "papermill": {
     "duration": 0.030931,
     "end_time": "2021-07-06T15:38:00.452852",
     "exception": false,
     "start_time": "2021-07-06T15:38:00.421921",
     "status": "completed"
    },
    "tags": []
   },
   "source": [
    "- For the sake of the further analysis we will rename the column names in the old dataset."
   ]
  },
  {
   "cell_type": "code",
   "execution_count": 7,
   "id": "stuck-stream",
   "metadata": {
    "_kg_hide-input": true,
    "papermill": {
     "duration": 0.041226,
     "end_time": "2021-07-06T15:38:00.525455",
     "exception": false,
     "start_time": "2021-07-06T15:38:00.484229",
     "status": "completed"
    },
    "tags": []
   },
   "outputs": [],
   "source": [
    "df_past = df_past.rename(columns={'Life Ladder':'Ladder score', 'Log GDP per capita':'Logged GDP per capita','Healthy life expectancy at birth':'Healthy life expectancy'})"
   ]
  },
  {
   "cell_type": "code",
   "execution_count": 8,
   "id": "embedded-absorption",
   "metadata": {
    "_kg_hide-input": true,
    "papermill": {
     "duration": 0.052388,
     "end_time": "2021-07-06T15:38:00.609348",
     "exception": false,
     "start_time": "2021-07-06T15:38:00.556960",
     "status": "completed"
    },
    "tags": []
   },
   "outputs": [
    {
     "data": {
      "text/html": [
       "<div>\n",
       "<style scoped>\n",
       "    .dataframe tbody tr th:only-of-type {\n",
       "        vertical-align: middle;\n",
       "    }\n",
       "\n",
       "    .dataframe tbody tr th {\n",
       "        vertical-align: top;\n",
       "    }\n",
       "\n",
       "    .dataframe thead th {\n",
       "        text-align: right;\n",
       "    }\n",
       "</style>\n",
       "<table border=\"1\" class=\"dataframe\">\n",
       "  <thead>\n",
       "    <tr style=\"text-align: right;\">\n",
       "      <th></th>\n",
       "      <th>Country name</th>\n",
       "      <th>year</th>\n",
       "      <th>Ladder score</th>\n",
       "      <th>Logged GDP per capita</th>\n",
       "      <th>Social support</th>\n",
       "      <th>Healthy life expectancy</th>\n",
       "      <th>Freedom to make life choices</th>\n",
       "      <th>Generosity</th>\n",
       "      <th>Perceptions of corruption</th>\n",
       "      <th>Positive affect</th>\n",
       "      <th>Negative affect</th>\n",
       "    </tr>\n",
       "  </thead>\n",
       "  <tbody>\n",
       "    <tr>\n",
       "      <th>1731</th>\n",
       "      <td>Togo</td>\n",
       "      <td>2015</td>\n",
       "      <td>3.768</td>\n",
       "      <td>7.277</td>\n",
       "      <td>0.479</td>\n",
       "      <td>53.5</td>\n",
       "      <td>0.772</td>\n",
       "      <td>-0.069</td>\n",
       "      <td>0.733</td>\n",
       "      <td>0.599</td>\n",
       "      <td>0.416</td>\n",
       "    </tr>\n",
       "  </tbody>\n",
       "</table>\n",
       "</div>"
      ],
      "text/plain": [
       "     Country name  year  Ladder score  Logged GDP per capita  Social support  \\\n",
       "1731         Togo  2015         3.768                  7.277           0.479   \n",
       "\n",
       "      Healthy life expectancy  Freedom to make life choices  Generosity  \\\n",
       "1731                     53.5                         0.772      -0.069   \n",
       "\n",
       "      Perceptions of corruption  Positive affect  Negative affect  \n",
       "1731                      0.733            0.599            0.416  "
      ]
     },
     "execution_count": 8,
     "metadata": {},
     "output_type": "execute_result"
    }
   ],
   "source": [
    "df_past.sample(1)"
   ]
  },
  {
   "cell_type": "markdown",
   "id": "alert-assault",
   "metadata": {
    "papermill": {
     "duration": 0.032196,
     "end_time": "2021-07-06T15:38:00.674246",
     "exception": false,
     "start_time": "2021-07-06T15:38:00.642050",
     "status": "completed"
    },
    "tags": []
   },
   "source": [
    "In this EDA, areas of interest will be \n",
    "- 'Country name',\n",
    "- 'Regional indicator',\n",
    "- 'Ladder score',\n",
    "- 'Logged GDP per capita',\n",
    "- 'Social support',\n",
    "- 'Healthy life expectancy',\n",
    "- 'Freedom to make life choices',\n",
    "- 'Generosity',\n",
    "- 'Perceptions of corruption' \n",
    "\n",
    "For that reason we will make further adjustments."
   ]
  },
  {
   "cell_type": "code",
   "execution_count": 9,
   "id": "conceptual-statement",
   "metadata": {
    "_kg_hide-input": true,
    "papermill": {
     "duration": 0.04122,
     "end_time": "2021-07-06T15:38:00.747290",
     "exception": false,
     "start_time": "2021-07-06T15:38:00.706070",
     "status": "completed"
    },
    "tags": []
   },
   "outputs": [],
   "source": [
    "df1_2021= df_2021[['Country name','Regional indicator','Ladder score','Logged GDP per capita','Social support','Healthy life expectancy','Freedom to make life choices','Generosity','Perceptions of corruption']].copy() \n"
   ]
  },
  {
   "cell_type": "code",
   "execution_count": 10,
   "id": "angry-liver",
   "metadata": {
    "_kg_hide-input": true,
    "papermill": {
     "duration": 0.050189,
     "end_time": "2021-07-06T15:38:00.829803",
     "exception": false,
     "start_time": "2021-07-06T15:38:00.779614",
     "status": "completed"
    },
    "tags": []
   },
   "outputs": [
    {
     "data": {
      "text/html": [
       "<div>\n",
       "<style scoped>\n",
       "    .dataframe tbody tr th:only-of-type {\n",
       "        vertical-align: middle;\n",
       "    }\n",
       "\n",
       "    .dataframe tbody tr th {\n",
       "        vertical-align: top;\n",
       "    }\n",
       "\n",
       "    .dataframe thead th {\n",
       "        text-align: right;\n",
       "    }\n",
       "</style>\n",
       "<table border=\"1\" class=\"dataframe\">\n",
       "  <thead>\n",
       "    <tr style=\"text-align: right;\">\n",
       "      <th></th>\n",
       "      <th>Country name</th>\n",
       "      <th>Regional indicator</th>\n",
       "      <th>Ladder score</th>\n",
       "      <th>Logged GDP per capita</th>\n",
       "      <th>Social support</th>\n",
       "      <th>Healthy life expectancy</th>\n",
       "      <th>Freedom to make life choices</th>\n",
       "      <th>Generosity</th>\n",
       "      <th>Perceptions of corruption</th>\n",
       "    </tr>\n",
       "  </thead>\n",
       "  <tbody>\n",
       "    <tr>\n",
       "      <th>0</th>\n",
       "      <td>Finland</td>\n",
       "      <td>Western Europe</td>\n",
       "      <td>7.842</td>\n",
       "      <td>10.775</td>\n",
       "      <td>0.954</td>\n",
       "      <td>72.0</td>\n",
       "      <td>0.949</td>\n",
       "      <td>-0.098</td>\n",
       "      <td>0.186</td>\n",
       "    </tr>\n",
       "    <tr>\n",
       "      <th>1</th>\n",
       "      <td>Denmark</td>\n",
       "      <td>Western Europe</td>\n",
       "      <td>7.620</td>\n",
       "      <td>10.933</td>\n",
       "      <td>0.954</td>\n",
       "      <td>72.7</td>\n",
       "      <td>0.946</td>\n",
       "      <td>0.030</td>\n",
       "      <td>0.179</td>\n",
       "    </tr>\n",
       "    <tr>\n",
       "      <th>2</th>\n",
       "      <td>Switzerland</td>\n",
       "      <td>Western Europe</td>\n",
       "      <td>7.571</td>\n",
       "      <td>11.117</td>\n",
       "      <td>0.942</td>\n",
       "      <td>74.4</td>\n",
       "      <td>0.919</td>\n",
       "      <td>0.025</td>\n",
       "      <td>0.292</td>\n",
       "    </tr>\n",
       "    <tr>\n",
       "      <th>3</th>\n",
       "      <td>Iceland</td>\n",
       "      <td>Western Europe</td>\n",
       "      <td>7.554</td>\n",
       "      <td>10.878</td>\n",
       "      <td>0.983</td>\n",
       "      <td>73.0</td>\n",
       "      <td>0.955</td>\n",
       "      <td>0.160</td>\n",
       "      <td>0.673</td>\n",
       "    </tr>\n",
       "    <tr>\n",
       "      <th>4</th>\n",
       "      <td>Netherlands</td>\n",
       "      <td>Western Europe</td>\n",
       "      <td>7.464</td>\n",
       "      <td>10.932</td>\n",
       "      <td>0.942</td>\n",
       "      <td>72.4</td>\n",
       "      <td>0.913</td>\n",
       "      <td>0.175</td>\n",
       "      <td>0.338</td>\n",
       "    </tr>\n",
       "  </tbody>\n",
       "</table>\n",
       "</div>"
      ],
      "text/plain": [
       "  Country name Regional indicator  Ladder score  Logged GDP per capita  \\\n",
       "0      Finland     Western Europe         7.842                 10.775   \n",
       "1      Denmark     Western Europe         7.620                 10.933   \n",
       "2  Switzerland     Western Europe         7.571                 11.117   \n",
       "3      Iceland     Western Europe         7.554                 10.878   \n",
       "4  Netherlands     Western Europe         7.464                 10.932   \n",
       "\n",
       "   Social support  Healthy life expectancy  Freedom to make life choices  \\\n",
       "0           0.954                     72.0                         0.949   \n",
       "1           0.954                     72.7                         0.946   \n",
       "2           0.942                     74.4                         0.919   \n",
       "3           0.983                     73.0                         0.955   \n",
       "4           0.942                     72.4                         0.913   \n",
       "\n",
       "   Generosity  Perceptions of corruption  \n",
       "0      -0.098                      0.186  \n",
       "1       0.030                      0.179  \n",
       "2       0.025                      0.292  \n",
       "3       0.160                      0.673  \n",
       "4       0.175                      0.338  "
      ]
     },
     "execution_count": 10,
     "metadata": {},
     "output_type": "execute_result"
    }
   ],
   "source": [
    "df1_2021.head()"
   ]
  },
  {
   "cell_type": "markdown",
   "id": "arbitrary-opportunity",
   "metadata": {
    "papermill": {
     "duration": 0.031647,
     "end_time": "2021-07-06T15:38:00.893525",
     "exception": false,
     "start_time": "2021-07-06T15:38:00.861878",
     "status": "completed"
    },
    "tags": []
   },
   "source": [
    "- Let's look for the general information about the data and see whether any missing values to deal with."
   ]
  },
  {
   "cell_type": "code",
   "execution_count": 11,
   "id": "cooked-signature",
   "metadata": {
    "_kg_hide-input": true,
    "jupyter": {
     "source_hidden": true
    },
    "papermill": {
     "duration": 0.054271,
     "end_time": "2021-07-06T15:38:00.979328",
     "exception": false,
     "start_time": "2021-07-06T15:38:00.925057",
     "status": "completed"
    },
    "tags": []
   },
   "outputs": [
    {
     "name": "stdout",
     "output_type": "stream",
     "text": [
      "<class 'pandas.core.frame.DataFrame'>\n",
      "RangeIndex: 149 entries, 0 to 148\n",
      "Data columns (total 9 columns):\n",
      " #   Column                        Non-Null Count  Dtype  \n",
      "---  ------                        --------------  -----  \n",
      " 0   Country name                  149 non-null    object \n",
      " 1   Regional indicator            149 non-null    object \n",
      " 2   Ladder score                  149 non-null    float64\n",
      " 3   Logged GDP per capita         149 non-null    float64\n",
      " 4   Social support                149 non-null    float64\n",
      " 5   Healthy life expectancy       149 non-null    float64\n",
      " 6   Freedom to make life choices  149 non-null    float64\n",
      " 7   Generosity                    149 non-null    float64\n",
      " 8   Perceptions of corruption     149 non-null    float64\n",
      "dtypes: float64(7), object(2)\n",
      "memory usage: 10.6+ KB\n"
     ]
    }
   ],
   "source": [
    "df1_2021.info()"
   ]
  },
  {
   "cell_type": "markdown",
   "id": "comfortable-mason",
   "metadata": {
    "papermill": {
     "duration": 0.033259,
     "end_time": "2021-07-06T15:38:01.046140",
     "exception": false,
     "start_time": "2021-07-06T15:38:01.012881",
     "status": "completed"
    },
    "tags": []
   },
   "source": [
    "- So far so good\n",
    "\n",
    "- General statistical information on the 2021 world happiness report"
   ]
  },
  {
   "cell_type": "code",
   "execution_count": 12,
   "id": "super-athletics",
   "metadata": {
    "_kg_hide-input": true,
    "papermill": {
     "duration": 0.069347,
     "end_time": "2021-07-06T15:38:01.148165",
     "exception": false,
     "start_time": "2021-07-06T15:38:01.078818",
     "status": "completed"
    },
    "tags": []
   },
   "outputs": [
    {
     "data": {
      "text/html": [
       "<div>\n",
       "<style scoped>\n",
       "    .dataframe tbody tr th:only-of-type {\n",
       "        vertical-align: middle;\n",
       "    }\n",
       "\n",
       "    .dataframe tbody tr th {\n",
       "        vertical-align: top;\n",
       "    }\n",
       "\n",
       "    .dataframe thead th {\n",
       "        text-align: right;\n",
       "    }\n",
       "</style>\n",
       "<table border=\"1\" class=\"dataframe\">\n",
       "  <thead>\n",
       "    <tr style=\"text-align: right;\">\n",
       "      <th></th>\n",
       "      <th>Ladder score</th>\n",
       "      <th>Logged GDP per capita</th>\n",
       "      <th>Social support</th>\n",
       "      <th>Healthy life expectancy</th>\n",
       "      <th>Freedom to make life choices</th>\n",
       "      <th>Generosity</th>\n",
       "      <th>Perceptions of corruption</th>\n",
       "    </tr>\n",
       "  </thead>\n",
       "  <tbody>\n",
       "    <tr>\n",
       "      <th>count</th>\n",
       "      <td>149.000000</td>\n",
       "      <td>149.000000</td>\n",
       "      <td>149.000000</td>\n",
       "      <td>149.000000</td>\n",
       "      <td>149.000000</td>\n",
       "      <td>149.000000</td>\n",
       "      <td>149.000000</td>\n",
       "    </tr>\n",
       "    <tr>\n",
       "      <th>mean</th>\n",
       "      <td>5.532839</td>\n",
       "      <td>9.432208</td>\n",
       "      <td>0.814745</td>\n",
       "      <td>64.992799</td>\n",
       "      <td>0.791597</td>\n",
       "      <td>-0.015134</td>\n",
       "      <td>0.727450</td>\n",
       "    </tr>\n",
       "    <tr>\n",
       "      <th>std</th>\n",
       "      <td>1.073924</td>\n",
       "      <td>1.158601</td>\n",
       "      <td>0.114889</td>\n",
       "      <td>6.762043</td>\n",
       "      <td>0.113332</td>\n",
       "      <td>0.150657</td>\n",
       "      <td>0.179226</td>\n",
       "    </tr>\n",
       "    <tr>\n",
       "      <th>min</th>\n",
       "      <td>2.523000</td>\n",
       "      <td>6.635000</td>\n",
       "      <td>0.463000</td>\n",
       "      <td>48.478000</td>\n",
       "      <td>0.382000</td>\n",
       "      <td>-0.288000</td>\n",
       "      <td>0.082000</td>\n",
       "    </tr>\n",
       "    <tr>\n",
       "      <th>25%</th>\n",
       "      <td>4.852000</td>\n",
       "      <td>8.541000</td>\n",
       "      <td>0.750000</td>\n",
       "      <td>59.802000</td>\n",
       "      <td>0.718000</td>\n",
       "      <td>-0.126000</td>\n",
       "      <td>0.667000</td>\n",
       "    </tr>\n",
       "    <tr>\n",
       "      <th>50%</th>\n",
       "      <td>5.534000</td>\n",
       "      <td>9.569000</td>\n",
       "      <td>0.832000</td>\n",
       "      <td>66.603000</td>\n",
       "      <td>0.804000</td>\n",
       "      <td>-0.036000</td>\n",
       "      <td>0.781000</td>\n",
       "    </tr>\n",
       "    <tr>\n",
       "      <th>75%</th>\n",
       "      <td>6.255000</td>\n",
       "      <td>10.421000</td>\n",
       "      <td>0.905000</td>\n",
       "      <td>69.600000</td>\n",
       "      <td>0.877000</td>\n",
       "      <td>0.079000</td>\n",
       "      <td>0.845000</td>\n",
       "    </tr>\n",
       "    <tr>\n",
       "      <th>max</th>\n",
       "      <td>7.842000</td>\n",
       "      <td>11.647000</td>\n",
       "      <td>0.983000</td>\n",
       "      <td>76.953000</td>\n",
       "      <td>0.970000</td>\n",
       "      <td>0.542000</td>\n",
       "      <td>0.939000</td>\n",
       "    </tr>\n",
       "  </tbody>\n",
       "</table>\n",
       "</div>"
      ],
      "text/plain": [
       "       Ladder score  Logged GDP per capita  Social support  \\\n",
       "count    149.000000             149.000000      149.000000   \n",
       "mean       5.532839               9.432208        0.814745   \n",
       "std        1.073924               1.158601        0.114889   \n",
       "min        2.523000               6.635000        0.463000   \n",
       "25%        4.852000               8.541000        0.750000   \n",
       "50%        5.534000               9.569000        0.832000   \n",
       "75%        6.255000              10.421000        0.905000   \n",
       "max        7.842000              11.647000        0.983000   \n",
       "\n",
       "       Healthy life expectancy  Freedom to make life choices  Generosity  \\\n",
       "count               149.000000                    149.000000  149.000000   \n",
       "mean                 64.992799                      0.791597   -0.015134   \n",
       "std                   6.762043                      0.113332    0.150657   \n",
       "min                  48.478000                      0.382000   -0.288000   \n",
       "25%                  59.802000                      0.718000   -0.126000   \n",
       "50%                  66.603000                      0.804000   -0.036000   \n",
       "75%                  69.600000                      0.877000    0.079000   \n",
       "max                  76.953000                      0.970000    0.542000   \n",
       "\n",
       "       Perceptions of corruption  \n",
       "count                 149.000000  \n",
       "mean                    0.727450  \n",
       "std                     0.179226  \n",
       "min                     0.082000  \n",
       "25%                     0.667000  \n",
       "50%                     0.781000  \n",
       "75%                     0.845000  \n",
       "max                     0.939000  "
      ]
     },
     "execution_count": 12,
     "metadata": {},
     "output_type": "execute_result"
    }
   ],
   "source": [
    "df1_2021.describe()"
   ]
  },
  {
   "cell_type": "markdown",
   "id": "therapeutic-survivor",
   "metadata": {
    "papermill": {
     "duration": 0.033094,
     "end_time": "2021-07-06T15:38:01.215060",
     "exception": false,
     "start_time": "2021-07-06T15:38:01.181966",
     "status": "completed"
    },
    "tags": []
   },
   "source": [
    "- Let's see the correlation among the numerical variables in the dataset"
   ]
  },
  {
   "cell_type": "code",
   "execution_count": 13,
   "id": "placed-silicon",
   "metadata": {
    "_kg_hide-input": true,
    "papermill": {
     "duration": 0.056042,
     "end_time": "2021-07-06T15:38:01.304745",
     "exception": false,
     "start_time": "2021-07-06T15:38:01.248703",
     "status": "completed"
    },
    "tags": []
   },
   "outputs": [
    {
     "data": {
      "text/html": [
       "<div>\n",
       "<style scoped>\n",
       "    .dataframe tbody tr th:only-of-type {\n",
       "        vertical-align: middle;\n",
       "    }\n",
       "\n",
       "    .dataframe tbody tr th {\n",
       "        vertical-align: top;\n",
       "    }\n",
       "\n",
       "    .dataframe thead th {\n",
       "        text-align: right;\n",
       "    }\n",
       "</style>\n",
       "<table border=\"1\" class=\"dataframe\">\n",
       "  <thead>\n",
       "    <tr style=\"text-align: right;\">\n",
       "      <th></th>\n",
       "      <th>Ladder score</th>\n",
       "      <th>Logged GDP per capita</th>\n",
       "      <th>Social support</th>\n",
       "      <th>Healthy life expectancy</th>\n",
       "      <th>Freedom to make life choices</th>\n",
       "      <th>Generosity</th>\n",
       "      <th>Perceptions of corruption</th>\n",
       "    </tr>\n",
       "  </thead>\n",
       "  <tbody>\n",
       "    <tr>\n",
       "      <th>Ladder score</th>\n",
       "      <td>1.000000</td>\n",
       "      <td>0.789760</td>\n",
       "      <td>0.756888</td>\n",
       "      <td>0.768099</td>\n",
       "      <td>0.607753</td>\n",
       "      <td>-0.017799</td>\n",
       "      <td>-0.421140</td>\n",
       "    </tr>\n",
       "    <tr>\n",
       "      <th>Logged GDP per capita</th>\n",
       "      <td>0.789760</td>\n",
       "      <td>1.000000</td>\n",
       "      <td>0.785299</td>\n",
       "      <td>0.859461</td>\n",
       "      <td>0.432323</td>\n",
       "      <td>-0.199286</td>\n",
       "      <td>-0.342337</td>\n",
       "    </tr>\n",
       "    <tr>\n",
       "      <th>Social support</th>\n",
       "      <td>0.756888</td>\n",
       "      <td>0.785299</td>\n",
       "      <td>1.000000</td>\n",
       "      <td>0.723256</td>\n",
       "      <td>0.482930</td>\n",
       "      <td>-0.114946</td>\n",
       "      <td>-0.203207</td>\n",
       "    </tr>\n",
       "    <tr>\n",
       "      <th>Healthy life expectancy</th>\n",
       "      <td>0.768099</td>\n",
       "      <td>0.859461</td>\n",
       "      <td>0.723256</td>\n",
       "      <td>1.000000</td>\n",
       "      <td>0.461494</td>\n",
       "      <td>-0.161750</td>\n",
       "      <td>-0.364374</td>\n",
       "    </tr>\n",
       "    <tr>\n",
       "      <th>Freedom to make life choices</th>\n",
       "      <td>0.607753</td>\n",
       "      <td>0.432323</td>\n",
       "      <td>0.482930</td>\n",
       "      <td>0.461494</td>\n",
       "      <td>1.000000</td>\n",
       "      <td>0.169437</td>\n",
       "      <td>-0.401363</td>\n",
       "    </tr>\n",
       "    <tr>\n",
       "      <th>Generosity</th>\n",
       "      <td>-0.017799</td>\n",
       "      <td>-0.199286</td>\n",
       "      <td>-0.114946</td>\n",
       "      <td>-0.161750</td>\n",
       "      <td>0.169437</td>\n",
       "      <td>1.000000</td>\n",
       "      <td>-0.163962</td>\n",
       "    </tr>\n",
       "    <tr>\n",
       "      <th>Perceptions of corruption</th>\n",
       "      <td>-0.421140</td>\n",
       "      <td>-0.342337</td>\n",
       "      <td>-0.203207</td>\n",
       "      <td>-0.364374</td>\n",
       "      <td>-0.401363</td>\n",
       "      <td>-0.163962</td>\n",
       "      <td>1.000000</td>\n",
       "    </tr>\n",
       "  </tbody>\n",
       "</table>\n",
       "</div>"
      ],
      "text/plain": [
       "                              Ladder score  Logged GDP per capita  \\\n",
       "Ladder score                      1.000000               0.789760   \n",
       "Logged GDP per capita             0.789760               1.000000   \n",
       "Social support                    0.756888               0.785299   \n",
       "Healthy life expectancy           0.768099               0.859461   \n",
       "Freedom to make life choices      0.607753               0.432323   \n",
       "Generosity                       -0.017799              -0.199286   \n",
       "Perceptions of corruption        -0.421140              -0.342337   \n",
       "\n",
       "                              Social support  Healthy life expectancy  \\\n",
       "Ladder score                        0.756888                 0.768099   \n",
       "Logged GDP per capita               0.785299                 0.859461   \n",
       "Social support                      1.000000                 0.723256   \n",
       "Healthy life expectancy             0.723256                 1.000000   \n",
       "Freedom to make life choices        0.482930                 0.461494   \n",
       "Generosity                         -0.114946                -0.161750   \n",
       "Perceptions of corruption          -0.203207                -0.364374   \n",
       "\n",
       "                              Freedom to make life choices  Generosity  \\\n",
       "Ladder score                                      0.607753   -0.017799   \n",
       "Logged GDP per capita                             0.432323   -0.199286   \n",
       "Social support                                    0.482930   -0.114946   \n",
       "Healthy life expectancy                           0.461494   -0.161750   \n",
       "Freedom to make life choices                      1.000000    0.169437   \n",
       "Generosity                                        0.169437    1.000000   \n",
       "Perceptions of corruption                        -0.401363   -0.163962   \n",
       "\n",
       "                              Perceptions of corruption  \n",
       "Ladder score                                  -0.421140  \n",
       "Logged GDP per capita                         -0.342337  \n",
       "Social support                                -0.203207  \n",
       "Healthy life expectancy                       -0.364374  \n",
       "Freedom to make life choices                  -0.401363  \n",
       "Generosity                                    -0.163962  \n",
       "Perceptions of corruption                      1.000000  "
      ]
     },
     "execution_count": 13,
     "metadata": {},
     "output_type": "execute_result"
    }
   ],
   "source": [
    "df1_2021.corr()"
   ]
  },
  {
   "cell_type": "markdown",
   "id": "seventh-plaintiff",
   "metadata": {
    "papermill": {
     "duration": 0.033833,
     "end_time": "2021-07-06T15:38:01.371874",
     "exception": false,
     "start_time": "2021-07-06T15:38:01.338041",
     "status": "completed"
    },
    "tags": []
   },
   "source": [
    "Even though, based on the domain, high level correlation is interpreted differently (some of the areas %80 or above is a good sign of the string correlation, for some areas it will be aroun %60)\n",
    "\n",
    "- With keeping that in mind, Happiness score(Ladder Score) has strong level correlation with GDP, Social Support, Healthy life Expectancy.\n",
    "\n",
    "- Freedom to make life choice and happiness score have mid level correlation between them.\n",
    "\n",
    "- Perception of corruption and happiness score have weak level negative level correlation between them.\n",
    "\n",
    "To see that relationships from differnt visualization, heatmap will be used further."
   ]
  },
  {
   "cell_type": "code",
   "execution_count": 14,
   "id": "shared-corruption",
   "metadata": {
    "_kg_hide-input": true,
    "papermill": {
     "duration": 0.617859,
     "end_time": "2021-07-06T15:38:02.024548",
     "exception": false,
     "start_time": "2021-07-06T15:38:01.406689",
     "status": "completed"
    },
    "tags": []
   },
   "outputs": [
    {
     "data": {
      "image/png": "[encoded data removed]",
      "text/plain": [
       "<Figure size 1296x648 with 2 Axes>"
      ]
     },
     "metadata": {
      "needs_background": "light"
     },
     "output_type": "display_data"
    }
   ],
   "source": [
    "plt.figure(figsize=(18,9))\n",
    "sns.heatmap(df1_2021.corr(),annot=True);"
   ]
  },
  {
   "cell_type": "code",
   "execution_count": 15,
   "id": "cdf3dbeb-efbe-45ad-9d36-657421342895",
   "metadata": {},
   "outputs": [
    {
     "data": {
      "text/html": [
       "<iframe\n",
       "    scrolling=\"no\"\n",
       "    width=\"100%\"\n",
       "    height=\"545px\"\n",
       "    src=\"iframe_figures/figure_15.html\"\n",
       "    frameborder=\"0\"\n",
       "    allowfullscreen\n",
       "></iframe>\n"
      ]
     },
     "metadata": {},
     "output_type": "display_data"
    }
   ],
   "source": [
    "fig = go.Figure(go.Heatmap(z=df1_2021.corr(), x=df1_2021.corr().columns.tolist(), y=df1_2021.corr().columns.tolist(), colorscale='agsunset'))\n",
    "fig.show()"
   ]
  },
  {
   "cell_type": "markdown",
   "id": "found-genius",
   "metadata": {
    "papermill": {
     "duration": 0.035758,
     "end_time": "2021-07-06T15:38:02.097710",
     "exception": false,
     "start_time": "2021-07-06T15:38:02.061952",
     "status": "completed"
    },
    "tags": []
   },
   "source": [
    "Before moving on the Central and Eastern Europe, let's see the happines score at the Regional Level"
   ]
  },
  {
   "cell_type": "code",
   "execution_count": 16,
   "id": "silent-cursor",
   "metadata": {
    "_kg_hide-input": true,
    "papermill": {
     "duration": 0.083201,
     "end_time": "2021-07-06T15:38:02.218003",
     "exception": false,
     "start_time": "2021-07-06T15:38:02.134802",
     "status": "completed"
    },
    "tags": []
   },
   "outputs": [
    {
     "data": {
      "text/html": [
       "<div>\n",
       "<style scoped>\n",
       "    .dataframe tbody tr th:only-of-type {\n",
       "        vertical-align: middle;\n",
       "    }\n",
       "\n",
       "    .dataframe tbody tr th {\n",
       "        vertical-align: top;\n",
       "    }\n",
       "\n",
       "    .dataframe thead th {\n",
       "        text-align: right;\n",
       "    }\n",
       "</style>\n",
       "<table border=\"1\" class=\"dataframe\">\n",
       "  <thead>\n",
       "    <tr style=\"text-align: right;\">\n",
       "      <th></th>\n",
       "      <th>count</th>\n",
       "      <th>mean</th>\n",
       "      <th>std</th>\n",
       "      <th>min</th>\n",
       "      <th>25%</th>\n",
       "      <th>50%</th>\n",
       "      <th>75%</th>\n",
       "      <th>max</th>\n",
       "    </tr>\n",
       "    <tr>\n",
       "      <th>Regional indicator</th>\n",
       "      <th></th>\n",
       "      <th></th>\n",
       "      <th></th>\n",
       "      <th></th>\n",
       "      <th></th>\n",
       "      <th></th>\n",
       "      <th></th>\n",
       "      <th></th>\n",
       "    </tr>\n",
       "  </thead>\n",
       "  <tbody>\n",
       "    <tr>\n",
       "      <th>Central and Eastern Europe</th>\n",
       "      <td>17.0</td>\n",
       "      <td>5.984765</td>\n",
       "      <td>0.493325</td>\n",
       "      <td>5.101</td>\n",
       "      <td>5.81300</td>\n",
       "      <td>6.0780</td>\n",
       "      <td>6.25500</td>\n",
       "      <td>6.965</td>\n",
       "    </tr>\n",
       "    <tr>\n",
       "      <th>Commonwealth of Independent States</th>\n",
       "      <td>12.0</td>\n",
       "      <td>5.467000</td>\n",
       "      <td>0.438116</td>\n",
       "      <td>4.875</td>\n",
       "      <td>5.14475</td>\n",
       "      <td>5.4715</td>\n",
       "      <td>5.74950</td>\n",
       "      <td>6.179</td>\n",
       "    </tr>\n",
       "    <tr>\n",
       "      <th>East Asia</th>\n",
       "      <td>6.0</td>\n",
       "      <td>5.810333</td>\n",
       "      <td>0.439913</td>\n",
       "      <td>5.339</td>\n",
       "      <td>5.52700</td>\n",
       "      <td>5.7610</td>\n",
       "      <td>5.91625</td>\n",
       "      <td>6.584</td>\n",
       "    </tr>\n",
       "    <tr>\n",
       "      <th>Latin America and Caribbean</th>\n",
       "      <td>20.0</td>\n",
       "      <td>5.908050</td>\n",
       "      <td>0.693467</td>\n",
       "      <td>3.615</td>\n",
       "      <td>5.75200</td>\n",
       "      <td>5.9920</td>\n",
       "      <td>6.31100</td>\n",
       "      <td>7.069</td>\n",
       "    </tr>\n",
       "    <tr>\n",
       "      <th>Middle East and North Africa</th>\n",
       "      <td>17.0</td>\n",
       "      <td>5.219765</td>\n",
       "      <td>0.999259</td>\n",
       "      <td>3.658</td>\n",
       "      <td>4.58400</td>\n",
       "      <td>4.8870</td>\n",
       "      <td>6.10600</td>\n",
       "      <td>7.157</td>\n",
       "    </tr>\n",
       "    <tr>\n",
       "      <th>North America and ANZ</th>\n",
       "      <td>4.0</td>\n",
       "      <td>7.128500</td>\n",
       "      <td>0.138057</td>\n",
       "      <td>6.951</td>\n",
       "      <td>7.06500</td>\n",
       "      <td>7.1430</td>\n",
       "      <td>7.20650</td>\n",
       "      <td>7.277</td>\n",
       "    </tr>\n",
       "    <tr>\n",
       "      <th>South Asia</th>\n",
       "      <td>7.0</td>\n",
       "      <td>4.441857</td>\n",
       "      <td>0.993462</td>\n",
       "      <td>2.523</td>\n",
       "      <td>4.07200</td>\n",
       "      <td>4.9340</td>\n",
       "      <td>5.11150</td>\n",
       "      <td>5.269</td>\n",
       "    </tr>\n",
       "    <tr>\n",
       "      <th>Southeast Asia</th>\n",
       "      <td>9.0</td>\n",
       "      <td>5.407556</td>\n",
       "      <td>0.606271</td>\n",
       "      <td>4.426</td>\n",
       "      <td>5.03000</td>\n",
       "      <td>5.3840</td>\n",
       "      <td>5.88000</td>\n",
       "      <td>6.377</td>\n",
       "    </tr>\n",
       "    <tr>\n",
       "      <th>Sub-Saharan Africa</th>\n",
       "      <td>36.0</td>\n",
       "      <td>4.494472</td>\n",
       "      <td>0.654892</td>\n",
       "      <td>3.145</td>\n",
       "      <td>4.09850</td>\n",
       "      <td>4.6160</td>\n",
       "      <td>4.99925</td>\n",
       "      <td>6.049</td>\n",
       "    </tr>\n",
       "    <tr>\n",
       "      <th>Western Europe</th>\n",
       "      <td>21.0</td>\n",
       "      <td>6.914905</td>\n",
       "      <td>0.656519</td>\n",
       "      <td>5.536</td>\n",
       "      <td>6.49100</td>\n",
       "      <td>7.0850</td>\n",
       "      <td>7.39200</td>\n",
       "      <td>7.842</td>\n",
       "    </tr>\n",
       "  </tbody>\n",
       "</table>\n",
       "</div>"
      ],
      "text/plain": [
       "                                    count      mean       std    min      25%  \\\n",
       "Regional indicator                                                              \n",
       "Central and Eastern Europe           17.0  5.984765  0.493325  5.101  5.81300   \n",
       "Commonwealth of Independent States   12.0  5.467000  0.438116  4.875  5.14475   \n",
       "East Asia                             6.0  5.810333  0.439913  5.339  5.52700   \n",
       "Latin America and Caribbean          20.0  5.908050  0.693467  3.615  5.75200   \n",
       "Middle East and North Africa         17.0  5.219765  0.999259  3.658  4.58400   \n",
       "North America and ANZ                 4.0  7.128500  0.138057  6.951  7.06500   \n",
       "South Asia                            7.0  4.441857  0.993462  2.523  4.07200   \n",
       "Southeast Asia                        9.0  5.407556  0.606271  4.426  5.03000   \n",
       "Sub-Saharan Africa                   36.0  4.494472  0.654892  3.145  4.09850   \n",
       "Western Europe                       21.0  6.914905  0.656519  5.536  6.49100   \n",
       "\n",
       "                                       50%      75%    max  \n",
       "Regional indicator                                          \n",
       "Central and Eastern Europe          6.0780  6.25500  6.965  \n",
       "Commonwealth of Independent States  5.4715  5.74950  6.179  \n",
       "East Asia                           5.7610  5.91625  6.584  \n",
       "Latin America and Caribbean         5.9920  6.31100  7.069  \n",
       "Middle East and North Africa        4.8870  6.10600  7.157  \n",
       "North America and ANZ               7.1430  7.20650  7.277  \n",
       "South Asia                          4.9340  5.11150  5.269  \n",
       "Southeast Asia                      5.3840  5.88000  6.377  \n",
       "Sub-Saharan Africa                  4.6160  4.99925  6.049  \n",
       "Western Europe                      7.0850  7.39200  7.842  "
      ]
     },
     "execution_count": 16,
     "metadata": {},
     "output_type": "execute_result"
    }
   ],
   "source": [
    "df1_2021.groupby('Regional indicator')['Ladder score'].describe()"
   ]
  },
  {
   "cell_type": "markdown",
   "id": "received-course",
   "metadata": {
    "papermill": {
     "duration": 0.034913,
     "end_time": "2021-07-06T15:38:02.288931",
     "exception": false,
     "start_time": "2021-07-06T15:38:02.254018",
     "status": "completed"
    },
    "tags": []
   },
   "source": [
    "Based on the above information, it is easily seen that, \n",
    "- Western Europe has the highest level happiness score, \n",
    "\n",
    "on the other hand;\n",
    "\n",
    "- South Asia and Sub-Saharan Africa have the lowest level happiness score amongst the regions."
   ]
  },
  {
   "cell_type": "markdown",
   "id": "conservative-texas",
   "metadata": {
    "papermill": {
     "duration": 0.034833,
     "end_time": "2021-07-06T15:38:02.359041",
     "exception": false,
     "start_time": "2021-07-06T15:38:02.324208",
     "status": "completed"
    },
    "tags": []
   },
   "source": [
    "- Let's look at the boxplot to see overall distribution of the happiness score at the different regions.\n"
   ]
  },
  {
   "cell_type": "code",
   "execution_count": 17,
   "id": "great-mediterranean",
   "metadata": {
    "_kg_hide-input": true,
    "papermill": {
     "duration": 0.901513,
     "end_time": "2021-07-06T15:38:03.296316",
     "exception": false,
     "start_time": "2021-07-06T15:38:02.394803",
     "status": "completed"
    },
    "tags": []
   },
   "outputs": [
    {
     "data": {
      "text/html": [
       "<iframe\n",
       "    scrolling=\"no\"\n",
       "    width=\"100%\"\n",
       "    height=\"545px\"\n",
       "    src=\"iframe_figures/figure_17.html\"\n",
       "    frameborder=\"0\"\n",
       "    allowfullscreen\n",
       "></iframe>\n"
      ]
     },
     "metadata": {},
     "output_type": "display_data"
    }
   ],
   "source": [
    "fig = px.box(df1_2021, x= 'Ladder score', y='Regional indicator',hover_data = df1_2021[['Regional indicator','Country name']])\n",
    "fig.update_traces(quartilemethod=\"inclusive\")\n",
    "fig.show()"
   ]
  },
  {
   "cell_type": "markdown",
   "id": "worst-aurora",
   "metadata": {
    "papermill": {
     "duration": 0.037072,
     "end_time": "2021-07-06T15:38:03.370542",
     "exception": false,
     "start_time": "2021-07-06T15:38:03.333470",
     "status": "completed"
    },
    "tags": []
   },
   "source": [
    "In the boxplot, based on the happines score distributions on the regions, several outliers were seen in the:\n",
    "\n",
    "- Latin America and Caribbean\n",
    "- Central and Eastern Europe"
   ]
  },
  {
   "cell_type": "markdown",
   "id": "superb-seafood",
   "metadata": {
    "papermill": {
     "duration": 0.03671,
     "end_time": "2021-07-06T15:38:03.445457",
     "exception": false,
     "start_time": "2021-07-06T15:38:03.408747",
     "status": "completed"
    },
    "tags": []
   },
   "source": [
    "- After this point, let's look in detail to the Central and Eastern Europe part of the dataset."
   ]
  },
  {
   "cell_type": "code",
   "execution_count": 11,
   "id": "utility-lunch",
   "metadata": {
    "_kg_hide-input": true,
    "papermill": {
     "duration": 0.063084,
     "end_time": "2021-07-06T15:38:03.545797",
     "exception": false,
     "start_time": "2021-07-06T15:38:03.482713",
     "status": "completed"
    },
    "tags": []
   },
   "outputs": [
    {
     "data": {
      "text/html": [
       "<div>\n",
       "<style scoped>\n",
       "    .dataframe tbody tr th:only-of-type {\n",
       "        vertical-align: middle;\n",
       "    }\n",
       "\n",
       "    .dataframe tbody tr th {\n",
       "        vertical-align: top;\n",
       "    }\n",
       "\n",
       "    .dataframe thead th {\n",
       "        text-align: right;\n",
       "    }\n",
       "</style>\n",
       "<table border=\"1\" class=\"dataframe\">\n",
       "  <thead>\n",
       "    <tr style=\"text-align: right;\">\n",
       "      <th></th>\n",
       "      <th>Country name</th>\n",
       "      <th>Regional indicator</th>\n",
       "      <th>Ladder score</th>\n",
       "      <th>Logged GDP per capita</th>\n",
       "      <th>Social support</th>\n",
       "      <th>Healthy life expectancy</th>\n",
       "      <th>Freedom to make life choices</th>\n",
       "      <th>Generosity</th>\n",
       "      <th>Perceptions of corruption</th>\n",
       "    </tr>\n",
       "  </thead>\n",
       "  <tbody>\n",
       "    <tr>\n",
       "      <th>17</th>\n",
       "      <td>Czech Republic</td>\n",
       "      <td>Central and Eastern Europe</td>\n",
       "      <td>6.965</td>\n",
       "      <td>10.556</td>\n",
       "      <td>0.947</td>\n",
       "      <td>70.807</td>\n",
       "      <td>0.858</td>\n",
       "      <td>-0.208</td>\n",
       "      <td>0.868</td>\n",
       "    </tr>\n",
       "    <tr>\n",
       "      <th>28</th>\n",
       "      <td>Slovenia</td>\n",
       "      <td>Central and Eastern Europe</td>\n",
       "      <td>6.461</td>\n",
       "      <td>10.529</td>\n",
       "      <td>0.948</td>\n",
       "      <td>71.400</td>\n",
       "      <td>0.949</td>\n",
       "      <td>-0.101</td>\n",
       "      <td>0.806</td>\n",
       "    </tr>\n",
       "    <tr>\n",
       "      <th>32</th>\n",
       "      <td>Kosovo</td>\n",
       "      <td>Central and Eastern Europe</td>\n",
       "      <td>6.372</td>\n",
       "      <td>9.318</td>\n",
       "      <td>0.821</td>\n",
       "      <td>63.813</td>\n",
       "      <td>0.869</td>\n",
       "      <td>0.257</td>\n",
       "      <td>0.917</td>\n",
       "    </tr>\n",
       "    <tr>\n",
       "      <th>33</th>\n",
       "      <td>Slovakia</td>\n",
       "      <td>Central and Eastern Europe</td>\n",
       "      <td>6.331</td>\n",
       "      <td>10.369</td>\n",
       "      <td>0.936</td>\n",
       "      <td>69.201</td>\n",
       "      <td>0.766</td>\n",
       "      <td>-0.124</td>\n",
       "      <td>0.911</td>\n",
       "    </tr>\n",
       "    <tr>\n",
       "      <th>37</th>\n",
       "      <td>Lithuania</td>\n",
       "      <td>Central and Eastern Europe</td>\n",
       "      <td>6.255</td>\n",
       "      <td>10.499</td>\n",
       "      <td>0.935</td>\n",
       "      <td>67.906</td>\n",
       "      <td>0.773</td>\n",
       "      <td>-0.203</td>\n",
       "      <td>0.826</td>\n",
       "    </tr>\n",
       "    <tr>\n",
       "      <th>39</th>\n",
       "      <td>Estonia</td>\n",
       "      <td>Central and Eastern Europe</td>\n",
       "      <td>6.189</td>\n",
       "      <td>10.481</td>\n",
       "      <td>0.941</td>\n",
       "      <td>68.800</td>\n",
       "      <td>0.909</td>\n",
       "      <td>-0.106</td>\n",
       "      <td>0.527</td>\n",
       "    </tr>\n",
       "    <tr>\n",
       "      <th>43</th>\n",
       "      <td>Poland</td>\n",
       "      <td>Central and Eastern Europe</td>\n",
       "      <td>6.166</td>\n",
       "      <td>10.382</td>\n",
       "      <td>0.898</td>\n",
       "      <td>69.702</td>\n",
       "      <td>0.841</td>\n",
       "      <td>-0.165</td>\n",
       "      <td>0.735</td>\n",
       "    </tr>\n",
       "    <tr>\n",
       "      <th>45</th>\n",
       "      <td>Romania</td>\n",
       "      <td>Central and Eastern Europe</td>\n",
       "      <td>6.140</td>\n",
       "      <td>10.284</td>\n",
       "      <td>0.832</td>\n",
       "      <td>67.355</td>\n",
       "      <td>0.845</td>\n",
       "      <td>-0.219</td>\n",
       "      <td>0.938</td>\n",
       "    </tr>\n",
       "    <tr>\n",
       "      <th>47</th>\n",
       "      <td>Serbia</td>\n",
       "      <td>Central and Eastern Europe</td>\n",
       "      <td>6.078</td>\n",
       "      <td>9.787</td>\n",
       "      <td>0.873</td>\n",
       "      <td>68.600</td>\n",
       "      <td>0.778</td>\n",
       "      <td>0.002</td>\n",
       "      <td>0.835</td>\n",
       "    </tr>\n",
       "    <tr>\n",
       "      <th>50</th>\n",
       "      <td>Latvia</td>\n",
       "      <td>Central and Eastern Europe</td>\n",
       "      <td>6.032</td>\n",
       "      <td>10.315</td>\n",
       "      <td>0.927</td>\n",
       "      <td>67.100</td>\n",
       "      <td>0.715</td>\n",
       "      <td>-0.162</td>\n",
       "      <td>0.800</td>\n",
       "    </tr>\n",
       "    <tr>\n",
       "      <th>52</th>\n",
       "      <td>Hungary</td>\n",
       "      <td>Central and Eastern Europe</td>\n",
       "      <td>5.992</td>\n",
       "      <td>10.358</td>\n",
       "      <td>0.943</td>\n",
       "      <td>68.000</td>\n",
       "      <td>0.755</td>\n",
       "      <td>-0.186</td>\n",
       "      <td>0.876</td>\n",
       "    </tr>\n",
       "    <tr>\n",
       "      <th>59</th>\n",
       "      <td>Croatia</td>\n",
       "      <td>Central and Eastern Europe</td>\n",
       "      <td>5.882</td>\n",
       "      <td>10.217</td>\n",
       "      <td>0.924</td>\n",
       "      <td>70.799</td>\n",
       "      <td>0.754</td>\n",
       "      <td>-0.118</td>\n",
       "      <td>0.939</td>\n",
       "    </tr>\n",
       "    <tr>\n",
       "      <th>63</th>\n",
       "      <td>Bosnia and Herzegovina</td>\n",
       "      <td>Central and Eastern Europe</td>\n",
       "      <td>5.813</td>\n",
       "      <td>9.590</td>\n",
       "      <td>0.870</td>\n",
       "      <td>68.098</td>\n",
       "      <td>0.706</td>\n",
       "      <td>0.113</td>\n",
       "      <td>0.931</td>\n",
       "    </tr>\n",
       "    <tr>\n",
       "      <th>71</th>\n",
       "      <td>Montenegro</td>\n",
       "      <td>Central and Eastern Europe</td>\n",
       "      <td>5.581</td>\n",
       "      <td>9.940</td>\n",
       "      <td>0.858</td>\n",
       "      <td>68.699</td>\n",
       "      <td>0.708</td>\n",
       "      <td>-0.034</td>\n",
       "      <td>0.812</td>\n",
       "    </tr>\n",
       "    <tr>\n",
       "      <th>87</th>\n",
       "      <td>Bulgaria</td>\n",
       "      <td>Central and Eastern Europe</td>\n",
       "      <td>5.266</td>\n",
       "      <td>10.016</td>\n",
       "      <td>0.931</td>\n",
       "      <td>67.000</td>\n",
       "      <td>0.788</td>\n",
       "      <td>-0.096</td>\n",
       "      <td>0.932</td>\n",
       "    </tr>\n",
       "    <tr>\n",
       "      <th>92</th>\n",
       "      <td>Albania</td>\n",
       "      <td>Central and Eastern Europe</td>\n",
       "      <td>5.117</td>\n",
       "      <td>9.520</td>\n",
       "      <td>0.697</td>\n",
       "      <td>68.999</td>\n",
       "      <td>0.785</td>\n",
       "      <td>-0.030</td>\n",
       "      <td>0.901</td>\n",
       "    </tr>\n",
       "    <tr>\n",
       "      <th>93</th>\n",
       "      <td>North Macedonia</td>\n",
       "      <td>Central and Eastern Europe</td>\n",
       "      <td>5.101</td>\n",
       "      <td>9.693</td>\n",
       "      <td>0.805</td>\n",
       "      <td>65.474</td>\n",
       "      <td>0.751</td>\n",
       "      <td>0.038</td>\n",
       "      <td>0.905</td>\n",
       "    </tr>\n",
       "  </tbody>\n",
       "</table>\n",
       "</div>"
      ],
      "text/plain": [
       "              Country name          Regional indicator  Ladder score  \\\n",
       "17          Czech Republic  Central and Eastern Europe         6.965   \n",
       "28                Slovenia  Central and Eastern Europe         6.461   \n",
       "32                  Kosovo  Central and Eastern Europe         6.372   \n",
       "33                Slovakia  Central and Eastern Europe         6.331   \n",
       "37               Lithuania  Central and Eastern Europe         6.255   \n",
       "39                 Estonia  Central and Eastern Europe         6.189   \n",
       "43                  Poland  Central and Eastern Europe         6.166   \n",
       "45                 Romania  Central and Eastern Europe         6.140   \n",
       "47                  Serbia  Central and Eastern Europe         6.078   \n",
       "50                  Latvia  Central and Eastern Europe         6.032   \n",
       "52                 Hungary  Central and Eastern Europe         5.992   \n",
       "59                 Croatia  Central and Eastern Europe         5.882   \n",
       "63  Bosnia and Herzegovina  Central and Eastern Europe         5.813   \n",
       "71              Montenegro  Central and Eastern Europe         5.581   \n",
       "87                Bulgaria  Central and Eastern Europe         5.266   \n",
       "92                 Albania  Central and Eastern Europe         5.117   \n",
       "93         North Macedonia  Central and Eastern Europe         5.101   \n",
       "\n",
       "    Logged GDP per capita  Social support  Healthy life expectancy  \\\n",
       "17                 10.556           0.947                   70.807   \n",
       "28                 10.529           0.948                   71.400   \n",
       "32                  9.318           0.821                   63.813   \n",
       "33                 10.369           0.936                   69.201   \n",
       "37                 10.499           0.935                   67.906   \n",
       "39                 10.481           0.941                   68.800   \n",
       "43                 10.382           0.898                   69.702   \n",
       "45                 10.284           0.832                   67.355   \n",
       "47                  9.787           0.873                   68.600   \n",
       "50                 10.315           0.927                   67.100   \n",
       "52                 10.358           0.943                   68.000   \n",
       "59                 10.217           0.924                   70.799   \n",
       "63                  9.590           0.870                   68.098   \n",
       "71                  9.940           0.858                   68.699   \n",
       "87                 10.016           0.931                   67.000   \n",
       "92                  9.520           0.697                   68.999   \n",
       "93                  9.693           0.805                   65.474   \n",
       "\n",
       "    Freedom to make life choices  Generosity  Perceptions of corruption  \n",
       "17                         0.858      -0.208                      0.868  \n",
       "28                         0.949      -0.101                      0.806  \n",
       "32                         0.869       0.257                      0.917  \n",
       "33                         0.766      -0.124                      0.911  \n",
       "37                         0.773      -0.203                      0.826  \n",
       "39                         0.909      -0.106                      0.527  \n",
       "43                         0.841      -0.165                      0.735  \n",
       "45                         0.845      -0.219                      0.938  \n",
       "47                         0.778       0.002                      0.835  \n",
       "50                         0.715      -0.162                      0.800  \n",
       "52                         0.755      -0.186                      0.876  \n",
       "59                         0.754      -0.118                      0.939  \n",
       "63                         0.706       0.113                      0.931  \n",
       "71                         0.708      -0.034                      0.812  \n",
       "87                         0.788      -0.096                      0.932  \n",
       "92                         0.785      -0.030                      0.901  \n",
       "93                         0.751       0.038                      0.905  "
      ]
     },
     "execution_count": 11,
     "metadata": {},
     "output_type": "execute_result"
    }
   ],
   "source": [
    "center_east_europe = df1_2021[df1_2021['Regional indicator']=='Central and Eastern Europe']\n",
    "\n",
    "center_east_europe"
   ]
  },
  {
   "cell_type": "markdown",
   "id": "positive-plymouth",
   "metadata": {
    "papermill": {
     "duration": 0.039711,
     "end_time": "2021-07-06T15:38:03.625508",
     "exception": false,
     "start_time": "2021-07-06T15:38:03.585797",
     "status": "completed"
    },
    "tags": []
   },
   "source": [
    "- Let's see how correlated the variables in Central and Eastern Europe."
   ]
  },
  {
   "cell_type": "code",
   "execution_count": 19,
   "id": "fiscal-iceland",
   "metadata": {
    "_kg_hide-input": true,
    "papermill": {
     "duration": 0.05756,
     "end_time": "2021-07-06T15:38:03.723001",
     "exception": false,
     "start_time": "2021-07-06T15:38:03.665441",
     "status": "completed"
    },
    "tags": []
   },
   "outputs": [
    {
     "data": {
      "text/html": [
       "<div>\n",
       "<style scoped>\n",
       "    .dataframe tbody tr th:only-of-type {\n",
       "        vertical-align: middle;\n",
       "    }\n",
       "\n",
       "    .dataframe tbody tr th {\n",
       "        vertical-align: top;\n",
       "    }\n",
       "\n",
       "    .dataframe thead th {\n",
       "        text-align: right;\n",
       "    }\n",
       "</style>\n",
       "<table border=\"1\" class=\"dataframe\">\n",
       "  <thead>\n",
       "    <tr style=\"text-align: right;\">\n",
       "      <th></th>\n",
       "      <th>Ladder score</th>\n",
       "      <th>Logged GDP per capita</th>\n",
       "      <th>Social support</th>\n",
       "      <th>Healthy life expectancy</th>\n",
       "      <th>Freedom to make life choices</th>\n",
       "      <th>Generosity</th>\n",
       "      <th>Perceptions of corruption</th>\n",
       "    </tr>\n",
       "  </thead>\n",
       "  <tbody>\n",
       "    <tr>\n",
       "      <th>Ladder score</th>\n",
       "      <td>1.000000</td>\n",
       "      <td>0.560664</td>\n",
       "      <td>0.582957</td>\n",
       "      <td>0.333319</td>\n",
       "      <td>0.518679</td>\n",
       "      <td>-0.276712</td>\n",
       "      <td>-0.245990</td>\n",
       "    </tr>\n",
       "    <tr>\n",
       "      <th>Logged GDP per capita</th>\n",
       "      <td>0.560664</td>\n",
       "      <td>1.000000</td>\n",
       "      <td>0.775892</td>\n",
       "      <td>0.597408</td>\n",
       "      <td>0.318199</td>\n",
       "      <td>-0.881543</td>\n",
       "      <td>-0.428930</td>\n",
       "    </tr>\n",
       "    <tr>\n",
       "      <th>Social support</th>\n",
       "      <td>0.582957</td>\n",
       "      <td>0.775892</td>\n",
       "      <td>1.000000</td>\n",
       "      <td>0.389284</td>\n",
       "      <td>0.158672</td>\n",
       "      <td>-0.507258</td>\n",
       "      <td>-0.318341</td>\n",
       "    </tr>\n",
       "    <tr>\n",
       "      <th>Healthy life expectancy</th>\n",
       "      <td>0.333319</td>\n",
       "      <td>0.597408</td>\n",
       "      <td>0.389284</td>\n",
       "      <td>1.000000</td>\n",
       "      <td>0.217689</td>\n",
       "      <td>-0.550233</td>\n",
       "      <td>-0.230517</td>\n",
       "    </tr>\n",
       "    <tr>\n",
       "      <th>Freedom to make life choices</th>\n",
       "      <td>0.518679</td>\n",
       "      <td>0.318199</td>\n",
       "      <td>0.158672</td>\n",
       "      <td>0.217689</td>\n",
       "      <td>1.000000</td>\n",
       "      <td>-0.084180</td>\n",
       "      <td>-0.410780</td>\n",
       "    </tr>\n",
       "    <tr>\n",
       "      <th>Generosity</th>\n",
       "      <td>-0.276712</td>\n",
       "      <td>-0.881543</td>\n",
       "      <td>-0.507258</td>\n",
       "      <td>-0.550233</td>\n",
       "      <td>-0.084180</td>\n",
       "      <td>1.000000</td>\n",
       "      <td>0.220205</td>\n",
       "    </tr>\n",
       "    <tr>\n",
       "      <th>Perceptions of corruption</th>\n",
       "      <td>-0.245990</td>\n",
       "      <td>-0.428930</td>\n",
       "      <td>-0.318341</td>\n",
       "      <td>-0.230517</td>\n",
       "      <td>-0.410780</td>\n",
       "      <td>0.220205</td>\n",
       "      <td>1.000000</td>\n",
       "    </tr>\n",
       "  </tbody>\n",
       "</table>\n",
       "</div>"
      ],
      "text/plain": [
       "                              Ladder score  Logged GDP per capita  \\\n",
       "Ladder score                      1.000000               0.560664   \n",
       "Logged GDP per capita             0.560664               1.000000   \n",
       "Social support                    0.582957               0.775892   \n",
       "Healthy life expectancy           0.333319               0.597408   \n",
       "Freedom to make life choices      0.518679               0.318199   \n",
       "Generosity                       -0.276712              -0.881543   \n",
       "Perceptions of corruption        -0.245990              -0.428930   \n",
       "\n",
       "                              Social support  Healthy life expectancy  \\\n",
       "Ladder score                        0.582957                 0.333319   \n",
       "Logged GDP per capita               0.775892                 0.597408   \n",
       "Social support                      1.000000                 0.389284   \n",
       "Healthy life expectancy             0.389284                 1.000000   \n",
       "Freedom to make life choices        0.158672                 0.217689   \n",
       "Generosity                         -0.507258                -0.550233   \n",
       "Perceptions of corruption          -0.318341                -0.230517   \n",
       "\n",
       "                              Freedom to make life choices  Generosity  \\\n",
       "Ladder score                                      0.518679   -0.276712   \n",
       "Logged GDP per capita                             0.318199   -0.881543   \n",
       "Social support                                    0.158672   -0.507258   \n",
       "Healthy life expectancy                           0.217689   -0.550233   \n",
       "Freedom to make life choices                      1.000000   -0.084180   \n",
       "Generosity                                       -0.084180    1.000000   \n",
       "Perceptions of corruption                        -0.410780    0.220205   \n",
       "\n",
       "                              Perceptions of corruption  \n",
       "Ladder score                                  -0.245990  \n",
       "Logged GDP per capita                         -0.428930  \n",
       "Social support                                -0.318341  \n",
       "Healthy life expectancy                       -0.230517  \n",
       "Freedom to make life choices                  -0.410780  \n",
       "Generosity                                     0.220205  \n",
       "Perceptions of corruption                      1.000000  "
      ]
     },
     "execution_count": 19,
     "metadata": {},
     "output_type": "execute_result"
    }
   ],
   "source": [
    "center_east_europe.corr()"
   ]
  },
  {
   "cell_type": "markdown",
   "id": "tropical-russell",
   "metadata": {
    "papermill": {
     "duration": 0.037594,
     "end_time": "2021-07-06T15:38:03.799155",
     "exception": false,
     "start_time": "2021-07-06T15:38:03.761561",
     "status": "completed"
    },
    "tags": []
   },
   "source": [
    "Even though some similarities can be found with the whole 2021 Happines Score correlation matrix, happiness score's correlation with the other variables in Central and Eastern Europe is considerably lower than whole dataset correlation matrix results."
   ]
  },
  {
   "cell_type": "code",
   "execution_count": 20,
   "id": "broke-conditioning",
   "metadata": {
    "_kg_hide-input": true,
    "papermill": {
     "duration": 0.746412,
     "end_time": "2021-07-06T15:38:04.582973",
     "exception": false,
     "start_time": "2021-07-06T15:38:03.836561",
     "status": "completed"
    },
    "tags": []
   },
   "outputs": [
    {
     "data": {
      "image/png": "[encoded data removed]",
      "text/plain": [
       "<Figure size 1296x648 with 2 Axes>"
      ]
     },
     "metadata": {
      "needs_background": "light"
     },
     "output_type": "display_data"
    }
   ],
   "source": [
    "plt.figure(figsize=(18,9))\n",
    "sns.heatmap(center_east_europe.corr(),annot=True);"
   ]
  },
  {
   "cell_type": "code",
   "execution_count": 21,
   "id": "10866f10-f082-4b5c-823d-369c5115b47f",
   "metadata": {},
   "outputs": [
    {
     "data": {
      "text/html": [
       "<iframe\n",
       "    scrolling=\"no\"\n",
       "    width=\"100%\"\n",
       "    height=\"545px\"\n",
       "    src=\"iframe_figures/figure_21.html\"\n",
       "    frameborder=\"0\"\n",
       "    allowfullscreen\n",
       "></iframe>\n"
      ]
     },
     "metadata": {},
     "output_type": "display_data"
    }
   ],
   "source": [
    "fig = go.Figure(go.Heatmap(z=center_east_europe.corr(), x=center_east_europe.corr().columns.tolist(), y=center_east_europe.corr().columns.tolist(), colorscale='sunsetdark'))\n",
    "fig.show()"
   ]
  },
  {
   "cell_type": "code",
   "execution_count": 22,
   "id": "young-absorption",
   "metadata": {
    "_kg_hide-input": true,
    "jupyter": {
     "source_hidden": true
    },
    "papermill": {
     "duration": 0.075581,
     "end_time": "2021-07-06T15:38:04.699536",
     "exception": false,
     "start_time": "2021-07-06T15:38:04.623955",
     "status": "completed"
    },
    "tags": []
   },
   "outputs": [
    {
     "data": {
      "text/html": [
       "<div>\n",
       "<style scoped>\n",
       "    .dataframe tbody tr th:only-of-type {\n",
       "        vertical-align: middle;\n",
       "    }\n",
       "\n",
       "    .dataframe tbody tr th {\n",
       "        vertical-align: top;\n",
       "    }\n",
       "\n",
       "    .dataframe thead th {\n",
       "        text-align: right;\n",
       "    }\n",
       "</style>\n",
       "<table border=\"1\" class=\"dataframe\">\n",
       "  <thead>\n",
       "    <tr style=\"text-align: right;\">\n",
       "      <th></th>\n",
       "      <th>Ladder score</th>\n",
       "      <th>Logged GDP per capita</th>\n",
       "      <th>Social support</th>\n",
       "      <th>Healthy life expectancy</th>\n",
       "      <th>Freedom to make life choices</th>\n",
       "      <th>Generosity</th>\n",
       "      <th>Perceptions of corruption</th>\n",
       "    </tr>\n",
       "  </thead>\n",
       "  <tbody>\n",
       "    <tr>\n",
       "      <th>count</th>\n",
       "      <td>17.000000</td>\n",
       "      <td>17.000000</td>\n",
       "      <td>17.000000</td>\n",
       "      <td>17.000000</td>\n",
       "      <td>17.000000</td>\n",
       "      <td>17.000000</td>\n",
       "      <td>17.000000</td>\n",
       "    </tr>\n",
       "    <tr>\n",
       "      <th>mean</th>\n",
       "      <td>5.984765</td>\n",
       "      <td>10.109059</td>\n",
       "      <td>0.887412</td>\n",
       "      <td>68.338412</td>\n",
       "      <td>0.797059</td>\n",
       "      <td>-0.078941</td>\n",
       "      <td>0.850529</td>\n",
       "    </tr>\n",
       "    <tr>\n",
       "      <th>std</th>\n",
       "      <td>0.493325</td>\n",
       "      <td>0.396190</td>\n",
       "      <td>0.068297</td>\n",
       "      <td>1.909003</td>\n",
       "      <td>0.070521</td>\n",
       "      <td>0.126697</td>\n",
       "      <td>0.102474</td>\n",
       "    </tr>\n",
       "    <tr>\n",
       "      <th>min</th>\n",
       "      <td>5.101000</td>\n",
       "      <td>9.318000</td>\n",
       "      <td>0.697000</td>\n",
       "      <td>63.813000</td>\n",
       "      <td>0.706000</td>\n",
       "      <td>-0.219000</td>\n",
       "      <td>0.527000</td>\n",
       "    </tr>\n",
       "    <tr>\n",
       "      <th>25%</th>\n",
       "      <td>5.813000</td>\n",
       "      <td>9.787000</td>\n",
       "      <td>0.858000</td>\n",
       "      <td>67.355000</td>\n",
       "      <td>0.754000</td>\n",
       "      <td>-0.165000</td>\n",
       "      <td>0.812000</td>\n",
       "    </tr>\n",
       "    <tr>\n",
       "      <th>50%</th>\n",
       "      <td>6.078000</td>\n",
       "      <td>10.284000</td>\n",
       "      <td>0.924000</td>\n",
       "      <td>68.600000</td>\n",
       "      <td>0.778000</td>\n",
       "      <td>-0.106000</td>\n",
       "      <td>0.876000</td>\n",
       "    </tr>\n",
       "    <tr>\n",
       "      <th>75%</th>\n",
       "      <td>6.255000</td>\n",
       "      <td>10.382000</td>\n",
       "      <td>0.936000</td>\n",
       "      <td>69.201000</td>\n",
       "      <td>0.845000</td>\n",
       "      <td>-0.030000</td>\n",
       "      <td>0.917000</td>\n",
       "    </tr>\n",
       "    <tr>\n",
       "      <th>max</th>\n",
       "      <td>6.965000</td>\n",
       "      <td>10.556000</td>\n",
       "      <td>0.948000</td>\n",
       "      <td>71.400000</td>\n",
       "      <td>0.949000</td>\n",
       "      <td>0.257000</td>\n",
       "      <td>0.939000</td>\n",
       "    </tr>\n",
       "  </tbody>\n",
       "</table>\n",
       "</div>"
      ],
      "text/plain": [
       "       Ladder score  Logged GDP per capita  Social support  \\\n",
       "count     17.000000              17.000000       17.000000   \n",
       "mean       5.984765              10.109059        0.887412   \n",
       "std        0.493325               0.396190        0.068297   \n",
       "min        5.101000               9.318000        0.697000   \n",
       "25%        5.813000               9.787000        0.858000   \n",
       "50%        6.078000              10.284000        0.924000   \n",
       "75%        6.255000              10.382000        0.936000   \n",
       "max        6.965000              10.556000        0.948000   \n",
       "\n",
       "       Healthy life expectancy  Freedom to make life choices  Generosity  \\\n",
       "count                17.000000                     17.000000   17.000000   \n",
       "mean                 68.338412                      0.797059   -0.078941   \n",
       "std                   1.909003                      0.070521    0.126697   \n",
       "min                  63.813000                      0.706000   -0.219000   \n",
       "25%                  67.355000                      0.754000   -0.165000   \n",
       "50%                  68.600000                      0.778000   -0.106000   \n",
       "75%                  69.201000                      0.845000   -0.030000   \n",
       "max                  71.400000                      0.949000    0.257000   \n",
       "\n",
       "       Perceptions of corruption  \n",
       "count                  17.000000  \n",
       "mean                    0.850529  \n",
       "std                     0.102474  \n",
       "min                     0.527000  \n",
       "25%                     0.812000  \n",
       "50%                     0.876000  \n",
       "75%                     0.917000  \n",
       "max                     0.939000  "
      ]
     },
     "execution_count": 22,
     "metadata": {},
     "output_type": "execute_result"
    }
   ],
   "source": [
    "center_east_europe.describe()"
   ]
  },
  {
   "cell_type": "markdown",
   "id": "executive-hygiene",
   "metadata": {
    "papermill": {
     "duration": 0.042659,
     "end_time": "2021-07-06T15:38:04.782917",
     "exception": false,
     "start_time": "2021-07-06T15:38:04.740258",
     "status": "completed"
    },
    "tags": []
   },
   "source": [
    "Based on the descriptive information, based on the Mean-Median differences and  IQRs (InterQuartile Ranges) possible outliers can be seen in the:\n",
    "\n",
    "- Happiness Score\n",
    "- Social Support\n",
    "- Healthy life expectancy\n",
    "- Generosity\n",
    "- Perceptions of corruption\n",
    "\n",
    "- For the sake of the simplicity, in this EDA we will focus on Happiness Score.\n",
    "\n",
    "For further detail, let's make a boxplot, barplot and use Plotly's interactive environment."
   ]
  },
  {
   "cell_type": "markdown",
   "id": "stopped-argentina",
   "metadata": {
    "papermill": {
     "duration": 0.039278,
     "end_time": "2021-07-06T15:38:04.862432",
     "exception": false,
     "start_time": "2021-07-06T15:38:04.823154",
     "status": "completed"
    },
    "tags": []
   },
   "source": [
    "### Happiness in the Central and Eastern Europe"
   ]
  },
  {
   "cell_type": "code",
   "execution_count": 23,
   "id": "adapted-formation",
   "metadata": {
    "_kg_hide-input": true,
    "papermill": {
     "duration": 0.100002,
     "end_time": "2021-07-06T15:38:05.002099",
     "exception": false,
     "start_time": "2021-07-06T15:38:04.902097",
     "status": "completed"
    },
    "tags": []
   },
   "outputs": [
    {
     "data": {
      "text/html": [
       "<iframe\n",
       "    scrolling=\"no\"\n",
       "    width=\"100%\"\n",
       "    height=\"545px\"\n",
       "    src=\"iframe_figures/figure_23.html\"\n",
       "    frameborder=\"0\"\n",
       "    allowfullscreen\n",
       "></iframe>\n"
      ]
     },
     "metadata": {},
     "output_type": "display_data"
    }
   ],
   "source": [
    "fig = px.box(center_east_europe, x= 'Ladder score', hover_data = center_east_europe[['Country name']])\n",
    "fig.update_traces(quartilemethod=\"inclusive\")\n",
    "fig.show()\n"
   ]
  },
  {
   "cell_type": "markdown",
   "id": "increasing-convergence",
   "metadata": {
    "papermill": {
     "duration": 0.041922,
     "end_time": "2021-07-06T15:38:05.084531",
     "exception": false,
     "start_time": "2021-07-06T15:38:05.042609",
     "status": "completed"
    },
    "tags": []
   },
   "source": [
    "In the Central and Eastern Europe, based on the happiness score distributions, 3 possible outliers can be seen.\n",
    "One outlier is at the high score side of the happiness score and other two outliers are at the minimum side of the happiness score."
   ]
  },
  {
   "cell_type": "code",
   "execution_count": 24,
   "id": "bd4e8dba-8b6d-4481-9f4d-e278fe243449",
   "metadata": {},
   "outputs": [
    {
     "data": {
      "text/html": [
       "<iframe\n",
       "    scrolling=\"no\"\n",
       "    width=\"100%\"\n",
       "    height=\"545px\"\n",
       "    src=\"iframe_figures/figure_24.html\"\n",
       "    frameborder=\"0\"\n",
       "    allowfullscreen\n",
       "></iframe>\n"
      ]
     },
     "metadata": {},
     "output_type": "display_data"
    }
   ],
   "source": [
    "fig = px.bar(center_east_europe, x='Ladder score', y='Country name')\n",
    "fig.show()"
   ]
  },
  {
   "cell_type": "markdown",
   "id": "hispanic-intranet",
   "metadata": {
    "papermill": {
     "duration": 0.04075,
     "end_time": "2021-07-06T15:38:05.320148",
     "exception": false,
     "start_time": "2021-07-06T15:38:05.279398",
     "status": "completed"
    },
    "tags": []
   },
   "source": [
    "As seen in the barplot, \n",
    "- **Czech Republic** has the highest happiness score in the Central and Eastern Europe.\n",
    "- **Albania** and **North Macedonia** have the lowest happiness score in the Central and Eastern Europe.\n",
    "- These three country are possible outliers based on the happiness score distribution in the Central and Eastern Europe."
   ]
  },
  {
   "cell_type": "markdown",
   "id": "exclusive-chicken",
   "metadata": {
    "papermill": {
     "duration": 0.04071,
     "end_time": "2021-07-06T15:38:05.402071",
     "exception": false,
     "start_time": "2021-07-06T15:38:05.361361",
     "status": "completed"
    },
    "tags": []
   },
   "source": [
    "By using Plotly interactive environment we can see the differences among the countries in the Central and Eastern Europe on the Happiness Score"
   ]
  },
  {
   "cell_type": "code",
   "execution_count": 25,
   "id": "subtle-processor",
   "metadata": {
    "_kg_hide-input": true,
    "papermill": {
     "duration": 0.108043,
     "end_time": "2021-07-06T15:38:05.551196",
     "exception": false,
     "start_time": "2021-07-06T15:38:05.443153",
     "status": "completed"
    },
    "tags": []
   },
   "outputs": [
    {
     "data": {
      "text/html": [
       "<iframe\n",
       "    scrolling=\"no\"\n",
       "    width=\"100%\"\n",
       "    height=\"545px\"\n",
       "    src=\"iframe_figures/figure_25.html\"\n",
       "    frameborder=\"0\"\n",
       "    allowfullscreen\n",
       "></iframe>\n"
      ]
     },
     "metadata": {},
     "output_type": "display_data"
    }
   ],
   "source": [
    "fig=go.Figure()\n",
    "fig.add_trace(go.Scatter(\n",
    "    x=center_east_europe['Country name'],\n",
    "    y=center_east_europe['Ladder score'],\n",
    "    name='Happines Score',\n",
    "    mode='markers+text',\n",
    "    marker_color='blue',\n",
    "    marker_size=10,\n",
    "    text=center_east_europe['Ladder score'],\n",
    "    textposition='top center',\n",
    "    line=dict(color='red',dash='dash'),\n",
    "))\n",
    "fig.update_layout(\n",
    "    title= \"<b>Center East Europe Happiness Score in 2021</b>\",\n",
    "    xaxis_title=\"<b>Country</b>\",\n",
    "    yaxis_title=\"<b>Happiness Score</b>\",\n",
    "    template='plotly_white',\n",
    "    font=dict(\n",
    "        size=12,\n",
    "        color=\"Black\",\n",
    "        family=\"Oswald', sans-serif\"\n",
    "        ),\n",
    "    xaxis=dict(showgrid=True),\n",
    "    yaxis=dict(showgrid=True),\n",
    "    yaxis2=dict(showgrid=True,overlaying='y',side='right',title='<b>Happiness Score</b>'),\n",
    ")\n",
    "fig.show()"
   ]
  },
  {
   "cell_type": "markdown",
   "id": "immune-alignment",
   "metadata": {
    "papermill": {
     "duration": 0.041333,
     "end_time": "2021-07-06T15:38:05.634231",
     "exception": false,
     "start_time": "2021-07-06T15:38:05.592898",
     "status": "completed"
    },
    "tags": []
   },
   "source": [
    "- After seeing the 2021 happines score it would be good idea to see how was the happpiness score trends in the past years.\n",
    "- Let's look at the previous years happines score for all the countries in the region. "
   ]
  },
  {
   "cell_type": "code",
   "execution_count": 26,
   "id": "protective-newspaper",
   "metadata": {
    "_kg_hide-input": true,
    "papermill": {
     "duration": 0.049494,
     "end_time": "2021-07-06T15:38:05.725389",
     "exception": false,
     "start_time": "2021-07-06T15:38:05.675895",
     "status": "completed"
    },
    "tags": []
   },
   "outputs": [],
   "source": [
    "css3_colors = ['#add8e6', '#f08080','#e0ffff','#fafad2','#d3d3d3','#90ee90','#ffb6c1','#ffa07a','#20b2aa','#87cefa','#778899','#b0c4de','#32cd32','#ff00ff','#66cdaa','#ba55d3', '#7b68ee','#48d1cc', '#f5fffa' ]\n",
    "css3_dict ={}\n",
    "i=0\n",
    "for name in center_east_europe['Country name']:\n",
    "    css3_dict[name]=css3_colors[i]\n",
    "    i+=1"
   ]
  },
  {
   "cell_type": "code",
   "execution_count": 12,
   "id": "compliant-brooks",
   "metadata": {
    "_kg_hide-input": true,
    "papermill": {
     "duration": 0.053744,
     "end_time": "2021-07-06T15:38:05.820712",
     "exception": false,
     "start_time": "2021-07-06T15:38:05.766968",
     "status": "completed"
    },
    "tags": []
   },
   "outputs": [],
   "source": [
    "center_east_europe_past=df_past[df_past['Country name'].isin(center_east_europe['Country name'].to_list())].loc[:,'Country name':'Ladder score']\n"
   ]
  },
  {
   "cell_type": "code",
   "execution_count": 28,
   "id": "decimal-laptop",
   "metadata": {
    "_kg_hide-input": true,
    "papermill": {
     "duration": 0.131202,
     "end_time": "2021-07-06T15:38:05.996059",
     "exception": false,
     "start_time": "2021-07-06T15:38:05.864857",
     "status": "completed"
    },
    "tags": []
   },
   "outputs": [
    {
     "data": {
      "text/html": [
       "<iframe\n",
       "    scrolling=\"no\"\n",
       "    width=\"100%\"\n",
       "    height=\"545px\"\n",
       "    src=\"iframe_figures/figure_28.html\"\n",
       "    frameborder=\"0\"\n",
       "    allowfullscreen\n",
       "></iframe>\n"
      ]
     },
     "metadata": {},
     "output_type": "display_data"
    }
   ],
   "source": [
    "fig=go.Figure()\n",
    "for name in center_east_europe['Country name']:\n",
    "    fig.add_trace(go.Scatter(\n",
    "    x=center_east_europe_past[center_east_europe_past['Country name']==name]['year'],\n",
    "    y=center_east_europe_past[center_east_europe_past['Country name']==name]['Ladder score'],\n",
    "    name=name,\n",
    "    mode='markers+text+lines',\n",
    "    marker_color='black',\n",
    "    marker_size=3,\n",
    "    line=dict(color=css3_dict[name]),\n",
    "    yaxis='y1'))\n",
    "    \n",
    "fig.update_layout(\n",
    "    title=\"Happiness Score Trend in Central and Eastern Europe \",\n",
    "    xaxis_title=\"Year\",\n",
    "    yaxis_title='Happiness Score',\n",
    "    template='plotly_white',\n",
    "    font=dict(\n",
    "        size=14,\n",
    "        color=\"Blue\",\n",
    "        family=\"Oswald', sans-serif\"\n",
    "    ),\n",
    "    xaxis=dict(showgrid=True),\n",
    "    yaxis=dict(showgrid=True)\n",
    ")\n",
    "fig.show()"
   ]
  },
  {
   "cell_type": "code",
   "execution_count": 38,
   "id": "05d0d03d-4a15-477b-865d-8c0769ac923e",
   "metadata": {},
   "outputs": [
    {
     "data": {
      "text/html": [
       "<iframe\n",
       "    scrolling=\"no\"\n",
       "    width=\"100%\"\n",
       "    height=\"545px\"\n",
       "    src=\"iframe_figures/figure_38.html\"\n",
       "    frameborder=\"0\"\n",
       "    allowfullscreen\n",
       "></iframe>\n"
      ]
     },
     "metadata": {},
     "output_type": "display_data"
    }
   ],
   "source": [
    "px.scatter(center_east_europe_past, x=\"year\", y='Ladder score', animation_frame=\"year\", animation_group=\"Country name\",\n",
    "           size=\"Ladder score\", color=\"Country name\", hover_name=\"Country name\",\n",
    "           log_x=True, size_max=55, range_x=[2007,2020], range_y=[1,10])"
   ]
  },
  {
   "cell_type": "markdown",
   "id": "joint-merit",
   "metadata": {
    "papermill": {
     "duration": 0.048806,
     "end_time": "2021-07-06T15:38:06.091193",
     "exception": false,
     "start_time": "2021-07-06T15:38:06.042387",
     "status": "completed"
    },
    "tags": []
   },
   "source": [
    "- After this point let's look at the Happiness Score relation with the other variables in the region."
   ]
  },
  {
   "cell_type": "markdown",
   "id": "simplified-scratch",
   "metadata": {
    "papermill": {
     "duration": 0.042787,
     "end_time": "2021-07-06T15:38:06.180319",
     "exception": false,
     "start_time": "2021-07-06T15:38:06.137532",
     "status": "completed"
    },
    "tags": []
   },
   "source": [
    "## **Happiness Score & GDP** "
   ]
  },
  {
   "cell_type": "code",
   "execution_count": 29,
   "id": "spiritual-zimbabwe",
   "metadata": {
    "_kg_hide-input": true,
    "papermill": {
     "duration": 0.078504,
     "end_time": "2021-07-06T15:38:06.302673",
     "exception": false,
     "start_time": "2021-07-06T15:38:06.224169",
     "status": "completed"
    },
    "tags": []
   },
   "outputs": [
    {
     "data": {
      "text/html": [
       "<iframe\n",
       "    scrolling=\"no\"\n",
       "    width=\"100%\"\n",
       "    height=\"545px\"\n",
       "    src=\"iframe_figures/figure_29.html\"\n",
       "    frameborder=\"0\"\n",
       "    allowfullscreen\n",
       "></iframe>\n"
      ]
     },
     "metadata": {},
     "output_type": "display_data"
    }
   ],
   "source": [
    "trace = go.Scatter(x = center_east_europe['Ladder score'],y=center_east_europe['Logged GDP per capita'],text = center_east_europe['Country name'],mode='markers',marker={'color':'blue', 'size':10})\n",
    "df=[trace]\n",
    "layout = go.Layout(title='Happiness Score & Logged GDP per capita in Central Eastern Europe',xaxis=dict(title='Ladder Score'),yaxis=dict(title='Logged GDP per capita'),hovermode='closest')\n",
    "figure = go.Figure(data=df,layout=layout)\n",
    "figure.update_layout(template='plotly_white',\n",
    "                  font=dict(family=\"Oswald', sans-serif\"))\n",
    "figure.show()"
   ]
  },
  {
   "cell_type": "markdown",
   "id": "greater-moderator",
   "metadata": {
    "papermill": {
     "duration": 0.044643,
     "end_time": "2021-07-06T15:38:06.392273",
     "exception": false,
     "start_time": "2021-07-06T15:38:06.347630",
     "status": "completed"
    },
    "tags": []
   },
   "source": [
    "## **Happiness Score & Social Support** "
   ]
  },
  {
   "cell_type": "code",
   "execution_count": 30,
   "id": "closing-bottom",
   "metadata": {
    "_kg_hide-input": true,
    "papermill": {
     "duration": 0.076715,
     "end_time": "2021-07-06T15:38:06.522995",
     "exception": false,
     "start_time": "2021-07-06T15:38:06.446280",
     "status": "completed"
    },
    "tags": []
   },
   "outputs": [
    {
     "data": {
      "text/html": [
       "<iframe\n",
       "    scrolling=\"no\"\n",
       "    width=\"100%\"\n",
       "    height=\"545px\"\n",
       "    src=\"iframe_figures/figure_30.html\"\n",
       "    frameborder=\"0\"\n",
       "    allowfullscreen\n",
       "></iframe>\n"
      ]
     },
     "metadata": {},
     "output_type": "display_data"
    }
   ],
   "source": [
    "trace = go.Scatter(x = center_east_europe['Ladder score'],y=center_east_europe['Social support'],text = center_east_europe['Country name'],mode='markers',marker={'color':'blue', 'size':10})\n",
    "df=[trace]\n",
    "layout = go.Layout(title='Happiness Score & Social Support in Central Eastern Europe',xaxis=dict(title='Ladder score'),yaxis=dict(title='Social Support'),hovermode='closest')\n",
    "figure = go.Figure(data=df,layout=layout)\n",
    "figure.update_layout(template='plotly_white',\n",
    "                  font=dict(family=\"Oswald', sans-serif\"))\n",
    "figure.show()"
   ]
  },
  {
   "cell_type": "code",
   "execution_count": null,
   "id": "quarterly-queensland",
   "metadata": {
    "papermill": {
     "duration": 0.043116,
     "end_time": "2021-07-06T15:38:06.610537",
     "exception": false,
     "start_time": "2021-07-06T15:38:06.567421",
     "status": "completed"
    },
    "tags": []
   },
   "outputs": [],
   "source": []
  },
  {
   "cell_type": "markdown",
   "id": "headed-oklahoma",
   "metadata": {
    "papermill": {
     "duration": 0.042919,
     "end_time": "2021-07-06T15:38:06.696945",
     "exception": false,
     "start_time": "2021-07-06T15:38:06.654026",
     "status": "completed"
    },
    "tags": []
   },
   "source": [
    "## **Happiness Score & Perceptions of Corruption** "
   ]
  },
  {
   "cell_type": "code",
   "execution_count": 31,
   "id": "through-summer",
   "metadata": {
    "_kg_hide-input": true,
    "papermill": {
     "duration": 0.077927,
     "end_time": "2021-07-06T15:38:06.818248",
     "exception": false,
     "start_time": "2021-07-06T15:38:06.740321",
     "status": "completed"
    },
    "tags": []
   },
   "outputs": [
    {
     "data": {
      "text/html": [
       "<iframe\n",
       "    scrolling=\"no\"\n",
       "    width=\"100%\"\n",
       "    height=\"545px\"\n",
       "    src=\"iframe_figures/figure_31.html\"\n",
       "    frameborder=\"0\"\n",
       "    allowfullscreen\n",
       "></iframe>\n"
      ]
     },
     "metadata": {},
     "output_type": "display_data"
    }
   ],
   "source": [
    "trace = go.Scatter(x = center_east_europe['Ladder score'],y=center_east_europe['Perceptions of corruption'],text = center_east_europe['Country name'],mode='markers',marker={'color':'blue', 'size':10})\n",
    "df=[trace]\n",
    "layout = go.Layout(title='Happiness Score & Perceptions of Corruption in Central Eastern Europe',xaxis=dict(title='Ladder score'),yaxis=dict(title='Perceptions of corruption'),hovermode='closest')\n",
    "figure = go.Figure(data=df,layout=layout)\n",
    "figure.update_layout(template='plotly_white',\n",
    "                  font=dict(family=\"Oswald', sans-serif\"))\n",
    "figure.show()"
   ]
  },
  {
   "cell_type": "markdown",
   "id": "desperate-religion",
   "metadata": {
    "papermill": {
     "duration": 0.043805,
     "end_time": "2021-07-06T15:38:06.906820",
     "exception": false,
     "start_time": "2021-07-06T15:38:06.863015",
     "status": "completed"
    },
    "tags": []
   },
   "source": [
    "## **Happiness Score & Healthy Life Expectancy** "
   ]
  },
  {
   "cell_type": "code",
   "execution_count": 32,
   "id": "combined-allen",
   "metadata": {
    "_kg_hide-input": true,
    "papermill": {
     "duration": 0.075794,
     "end_time": "2021-07-06T15:38:07.027367",
     "exception": false,
     "start_time": "2021-07-06T15:38:06.951573",
     "status": "completed"
    },
    "tags": []
   },
   "outputs": [
    {
     "data": {
      "text/html": [
       "<iframe\n",
       "    scrolling=\"no\"\n",
       "    width=\"100%\"\n",
       "    height=\"545px\"\n",
       "    src=\"iframe_figures/figure_32.html\"\n",
       "    frameborder=\"0\"\n",
       "    allowfullscreen\n",
       "></iframe>\n"
      ]
     },
     "metadata": {},
     "output_type": "display_data"
    }
   ],
   "source": [
    "trace = go.Scatter(x = center_east_europe['Ladder score'],y=center_east_europe['Healthy life expectancy'],text = center_east_europe['Country name'],mode='markers',marker={'color':'blue', 'size':10})\n",
    "df=[trace]\n",
    "layout = go.Layout(title='Happiness Score & Healthy Life Expectancy in Central Eastern Europe',xaxis=dict(title='Ladder score'),yaxis=dict(title='Healthy life expectancy'),hovermode='closest')\n",
    "figure = go.Figure(data=df,layout=layout)\n",
    "figure.update_layout(template='plotly_white',\n",
    "                  font=dict(family=\"Oswald', sans-serif\"))\n",
    "figure.show()"
   ]
  },
  {
   "cell_type": "markdown",
   "id": "quarterly-bibliography",
   "metadata": {
    "papermill": {
     "duration": 0.045577,
     "end_time": "2021-07-06T15:38:07.118324",
     "exception": false,
     "start_time": "2021-07-06T15:38:07.072747",
     "status": "completed"
    },
    "tags": []
   },
   "source": [
    "## **Happiness Score & Freedom to Make Life Choices** "
   ]
  },
  {
   "cell_type": "code",
   "execution_count": 33,
   "id": "flush-tribute",
   "metadata": {
    "_kg_hide-input": true,
    "papermill": {
     "duration": 0.077184,
     "end_time": "2021-07-06T15:38:07.241134",
     "exception": false,
     "start_time": "2021-07-06T15:38:07.163950",
     "status": "completed"
    },
    "tags": []
   },
   "outputs": [
    {
     "data": {
      "text/html": [
       "<iframe\n",
       "    scrolling=\"no\"\n",
       "    width=\"100%\"\n",
       "    height=\"545px\"\n",
       "    src=\"iframe_figures/figure_33.html\"\n",
       "    frameborder=\"0\"\n",
       "    allowfullscreen\n",
       "></iframe>\n"
      ]
     },
     "metadata": {},
     "output_type": "display_data"
    }
   ],
   "source": [
    "trace = go.Scatter(x = center_east_europe['Ladder score'],y=center_east_europe['Freedom to make life choices'],text = center_east_europe['Country name'],mode='markers',marker={'color':'blue', 'size':10})\n",
    "df=[trace]\n",
    "layout = go.Layout(title='Happiness Score & Freedom to Make Life Choices in Central Eastern Europe',xaxis=dict(title='Ladder score'),yaxis=dict(title='Freedom to make life choices'),hovermode='closest')\n",
    "figure = go.Figure(data=df,layout=layout)\n",
    "figure.update_layout(template='plotly_white',\n",
    "                  font=dict(family=\"Oswald', sans-serif\"))\n",
    "figure.show()"
   ]
  },
  {
   "cell_type": "markdown",
   "id": "df3142dd-dfac-4a05-b660-dfb23af45814",
   "metadata": {},
   "source": [
    "- Thanks for the dataset contibutor for this data. I really enjoyed working on it."
   ]
  },
  {
   "cell_type": "markdown",
   "id": "substantial-freeze",
   "metadata": {
    "papermill": {
     "duration": 0.045254,
     "end_time": "2021-07-06T15:38:07.331845",
     "exception": false,
     "start_time": "2021-07-06T15:38:07.286591",
     "status": "completed"
    },
    "tags": []
   },
   "source": [
    "- It was a quite pleasure to share with you this detailed, beginner friendly EDA. Thanks for your time."
   ]
  },
  {
   "cell_type": "markdown",
   "id": "93495101-9093-46c8-bdb4-6973fd7a0e38",
   "metadata": {
    "_kg_hide-input": true,
    "papermill": {
     "duration": 0.046067,
     "end_time": "2021-07-06T15:38:07.423562",
     "exception": false,
     "start_time": "2021-07-06T15:38:07.377495",
     "status": "completed"
    },
    "tags": []
   },
   "source": [
    "- All the best"
   ]
  },
  {
   "cell_type": "code",
   "execution_count": null,
   "id": "131af33b-c2dd-4962-8a37-9c0d63c46c40",
   "metadata": {},
   "outputs": [],
   "source": []
  }
 ],
 "metadata": {
  "kernelspec": {
   "display_name": "Python 3",
   "language": "python",
   "name": "python3"
  },
  "language_info": {
   "codemirror_mode": {
    "name": "ipython",
    "version": 3
   },
   "file_extension": ".py",
   "mimetype": "text/x-python",
   "name": "python",
   "nbconvert_exporter": "python",
   "pygments_lexer": "ipython3",
   "version": "3.8.10"
  },
  "papermill": {
   "default_parameters": {},
   "duration": 19.736959,
   "end_time": "2021-07-06T15:38:09.072862",
   "environment_variables": {},
   "exception": null,
   "input_path": "__notebook__.ipynb",
   "output_path": "__notebook__.ipynb",
   "parameters": {},
   "start_time": "2021-07-06T15:37:49.335903",
   "version": "2.3.3"
  }
 },
 "nbformat": 4,
 "nbformat_minor": 5
}
