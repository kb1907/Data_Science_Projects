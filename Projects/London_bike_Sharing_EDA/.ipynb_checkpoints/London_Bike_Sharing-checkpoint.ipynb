{
 "cells": [
  {
   "cell_type": "markdown",
   "id": "28e50f18-8e77-4580-b719-a517a48a4e4f",
   "metadata": {
    "papermill": {
     "duration": 0.042275,
     "end_time": "2021-07-10T21:54:11.095030",
     "exception": false,
     "start_time": "2021-07-10T21:54:11.052755",
     "status": "completed"
    },
    "tags": []
   },
   "source": [
    "- In this study, we are going to make Exploratory Data Analysis (EDA) with the London Bike Share dataset.\n",
    "- Study aims to be beginner friendly and give as much as possible explanation for each step on the way.\n",
    "- Study's dataset has 17414 instances along with their count of bike share, temperature and other features.\n",
    "- Data includes 2015-2017 bike share infos in London..\n",
    "\n",
    "- 'Ride into a wise, healthy world that’s eco-friendly, efficient, and fun.' from the https://www.pbsc.com/about-us website\n"
   ]
  },
  {
   "cell_type": "markdown",
   "id": "8d8450f8-8511-4002-858e-6b9dd26f36d3",
   "metadata": {
    "papermill": {
     "duration": 0.043283,
     "end_time": "2021-07-10T21:54:11.179800",
     "exception": false,
     "start_time": "2021-07-10T21:54:11.136517",
     "status": "completed"
    },
    "tags": []
   },
   "source": [
    "- Let's import the required libraries"
   ]
  },
  {
   "cell_type": "code",
   "execution_count": 20,
   "id": "1d2769fe-7506-4095-a6ca-3e29a61eb0fb",
   "metadata": {
    "_kg_hide-input": true,
    "papermill": {
     "duration": 3.739619,
     "end_time": "2021-07-10T21:54:14.960992",
     "exception": false,
     "start_time": "2021-07-10T21:54:11.221373",
     "status": "completed"
    },
    "tags": []
   },
   "outputs": [],
   "source": [
    "import pandas as pd\n",
    "import numpy as np\n",
    "\n",
    "import plotly.io as pio\n",
    "pio.renderers.default = 'iframe'\n",
    "\n",
    "import plotly \n",
    "import plotly.express as px\n",
    "import plotly.graph_objs as go\n",
    "import plotly.offline as py\n",
    "from plotly.offline import iplot\n",
    "from plotly.subplots import make_subplots\n",
    "import plotly.figure_factory as ff"
   ]
  },
  {
   "cell_type": "markdown",
   "id": "e0c2cc97-8b9c-4c1e-adff-ee1a08ac1ce7",
   "metadata": {
    "papermill": {
     "duration": 0.040114,
     "end_time": "2021-07-10T21:54:15.041213",
     "exception": false,
     "start_time": "2021-07-10T21:54:15.001099",
     "status": "completed"
    },
    "tags": []
   },
   "source": [
    "### Overview Stage\n",
    "\n",
    "- Read the csv\n",
    "- Look for basic information about the dataset"
   ]
  },
  {
   "cell_type": "code",
   "execution_count": 12,
   "id": "1e69da63-7ccc-40e3-ad53-d7451ff1e046",
   "metadata": {},
   "outputs": [
    {
     "data": {
      "text/html": [
       "<div>\n",
       "<style scoped>\n",
       "    .dataframe tbody tr th:only-of-type {\n",
       "        vertical-align: middle;\n",
       "    }\n",
       "\n",
       "    .dataframe tbody tr th {\n",
       "        vertical-align: top;\n",
       "    }\n",
       "\n",
       "    .dataframe thead th {\n",
       "        text-align: right;\n",
       "    }\n",
       "</style>\n",
       "<table border=\"1\" class=\"dataframe\">\n",
       "  <thead>\n",
       "    <tr style=\"text-align: right;\">\n",
       "      <th></th>\n",
       "      <th>timestamp</th>\n",
       "      <th>cnt</th>\n",
       "      <th>t1</th>\n",
       "      <th>t2</th>\n",
       "      <th>hum</th>\n",
       "      <th>wind_speed</th>\n",
       "      <th>weather_code</th>\n",
       "      <th>is_holiday</th>\n",
       "      <th>is_weekend</th>\n",
       "      <th>season</th>\n",
       "    </tr>\n",
       "  </thead>\n",
       "  <tbody>\n",
       "    <tr>\n",
       "      <th>0</th>\n",
       "      <td>2015-01-04 00:00:00</td>\n",
       "      <td>182</td>\n",
       "      <td>3.0</td>\n",
       "      <td>2.0</td>\n",
       "      <td>93.0</td>\n",
       "      <td>6.0</td>\n",
       "      <td>3.0</td>\n",
       "      <td>0.0</td>\n",
       "      <td>1.0</td>\n",
       "      <td>3.0</td>\n",
       "    </tr>\n",
       "    <tr>\n",
       "      <th>1</th>\n",
       "      <td>2015-01-04 01:00:00</td>\n",
       "      <td>138</td>\n",
       "      <td>3.0</td>\n",
       "      <td>2.5</td>\n",
       "      <td>93.0</td>\n",
       "      <td>5.0</td>\n",
       "      <td>1.0</td>\n",
       "      <td>0.0</td>\n",
       "      <td>1.0</td>\n",
       "      <td>3.0</td>\n",
       "    </tr>\n",
       "    <tr>\n",
       "      <th>2</th>\n",
       "      <td>2015-01-04 02:00:00</td>\n",
       "      <td>134</td>\n",
       "      <td>2.5</td>\n",
       "      <td>2.5</td>\n",
       "      <td>96.5</td>\n",
       "      <td>0.0</td>\n",
       "      <td>1.0</td>\n",
       "      <td>0.0</td>\n",
       "      <td>1.0</td>\n",
       "      <td>3.0</td>\n",
       "    </tr>\n",
       "    <tr>\n",
       "      <th>3</th>\n",
       "      <td>2015-01-04 03:00:00</td>\n",
       "      <td>72</td>\n",
       "      <td>2.0</td>\n",
       "      <td>2.0</td>\n",
       "      <td>100.0</td>\n",
       "      <td>0.0</td>\n",
       "      <td>1.0</td>\n",
       "      <td>0.0</td>\n",
       "      <td>1.0</td>\n",
       "      <td>3.0</td>\n",
       "    </tr>\n",
       "    <tr>\n",
       "      <th>4</th>\n",
       "      <td>2015-01-04 04:00:00</td>\n",
       "      <td>47</td>\n",
       "      <td>2.0</td>\n",
       "      <td>0.0</td>\n",
       "      <td>93.0</td>\n",
       "      <td>6.5</td>\n",
       "      <td>1.0</td>\n",
       "      <td>0.0</td>\n",
       "      <td>1.0</td>\n",
       "      <td>3.0</td>\n",
       "    </tr>\n",
       "  </tbody>\n",
       "</table>\n",
       "</div>"
      ],
      "text/plain": [
       "             timestamp  cnt   t1   t2    hum  wind_speed  weather_code  \\\n",
       "0  2015-01-04 00:00:00  182  3.0  2.0   93.0         6.0           3.0   \n",
       "1  2015-01-04 01:00:00  138  3.0  2.5   93.0         5.0           1.0   \n",
       "2  2015-01-04 02:00:00  134  2.5  2.5   96.5         0.0           1.0   \n",
       "3  2015-01-04 03:00:00   72  2.0  2.0  100.0         0.0           1.0   \n",
       "4  2015-01-04 04:00:00   47  2.0  0.0   93.0         6.5           1.0   \n",
       "\n",
       "   is_holiday  is_weekend  season  \n",
       "0         0.0         1.0     3.0  \n",
       "1         0.0         1.0     3.0  \n",
       "2         0.0         1.0     3.0  \n",
       "3         0.0         1.0     3.0  \n",
       "4         0.0         1.0     3.0  "
      ]
     },
     "execution_count": 12,
     "metadata": {},
     "output_type": "execute_result"
    }
   ],
   "source": [
    "df = pd.read_csv('london_merged.csv')\n",
    "df.head()"
   ]
  },
  {
   "cell_type": "markdown",
   "id": "dfa6df08-f1cd-47c7-91c4-e7e598a527de",
   "metadata": {},
   "source": [
    "Metadata:\n",
    "- \"timestamp\" - timestamp field for grouping the data\n",
    "- \"cnt\" - the count of a new bike shares\n",
    "- \"t1\" - real temperature in C\n",
    "- \"t2\" - temperature in C \"feels like\"\n",
    "- \"hum\" - humidity in percentage\n",
    "- \"windspeed\" - wind speed in km/h\n",
    "- \"weathercode\" - category of the weather\n",
    "- \"isholiday\" - boolean field - 1 holiday / 0 non holiday\n",
    "- \"isweekend\" - boolean field - 1 if the day is weekend\n",
    "- \"season\" - category field meteorological seasons: 0-spring ; 1-summer; 2-fall; 3-winter.\n",
    "\n",
    "- \"weathe_code\" category description:\n",
    "   - 1 = Clear ; mostly clear but have some values with haze/fog/patches of fog/ fog in vicinity 2 = scattered clouds / few clouds 3 = Broken clouds 4 = Cloudy 7 = Rain/ light Rain shower/ Light rain 10 = rain with thunderstorm 26 = snowfall 94 = Freezing Fog"
   ]
  },
  {
   "cell_type": "code",
   "execution_count": 3,
   "id": "c3a099db-dd99-4306-8ae2-bf8afbf88dc6",
   "metadata": {},
   "outputs": [
    {
     "data": {
      "text/plain": [
       "(17414, 10)"
      ]
     },
     "execution_count": 3,
     "metadata": {},
     "output_type": "execute_result"
    }
   ],
   "source": [
    "df.shape"
   ]
  },
  {
   "cell_type": "markdown",
   "id": "1f9ae280-d195-4616-96ea-66505b912aa5",
   "metadata": {},
   "source": [
    "- We have 17414 instances with 10 different variables to work on."
   ]
  },
  {
   "cell_type": "code",
   "execution_count": 4,
   "id": "974078d5-b6df-4a02-88c2-e71e8ccaf378",
   "metadata": {},
   "outputs": [
    {
     "data": {
      "text/plain": [
       "timestamp       0\n",
       "cnt             0\n",
       "t1              0\n",
       "t2              0\n",
       "hum             0\n",
       "wind_speed      0\n",
       "weather_code    0\n",
       "is_holiday      0\n",
       "is_weekend      0\n",
       "season          0\n",
       "dtype: int64"
      ]
     },
     "execution_count": 4,
     "metadata": {},
     "output_type": "execute_result"
    }
   ],
   "source": [
    "df.isnull().sum()"
   ]
  },
  {
   "cell_type": "markdown",
   "id": "9cde34b4-441a-48b8-a6c6-01a947afdcc8",
   "metadata": {},
   "source": [
    "- Yes, very clean data for the 17414 instances.\n",
    "- In the real world very hard to find this kind of clean data. Enjoy !!"
   ]
  },
  {
   "cell_type": "code",
   "execution_count": 5,
   "id": "2ca82ec1-d592-457b-8283-ace17a20fdfd",
   "metadata": {},
   "outputs": [
    {
     "name": "stdout",
     "output_type": "stream",
     "text": [
      "<class 'pandas.core.frame.DataFrame'>\n",
      "RangeIndex: 17414 entries, 0 to 17413\n",
      "Data columns (total 10 columns):\n",
      " #   Column        Non-Null Count  Dtype  \n",
      "---  ------        --------------  -----  \n",
      " 0   timestamp     17414 non-null  object \n",
      " 1   cnt           17414 non-null  int64  \n",
      " 2   t1            17414 non-null  float64\n",
      " 3   t2            17414 non-null  float64\n",
      " 4   hum           17414 non-null  float64\n",
      " 5   wind_speed    17414 non-null  float64\n",
      " 6   weather_code  17414 non-null  float64\n",
      " 7   is_holiday    17414 non-null  float64\n",
      " 8   is_weekend    17414 non-null  float64\n",
      " 9   season        17414 non-null  float64\n",
      "dtypes: float64(8), int64(1), object(1)\n",
      "memory usage: 1.3+ MB\n"
     ]
    }
   ],
   "source": [
    "df.info()"
   ]
  },
  {
   "cell_type": "markdown",
   "id": "3fa69477-d450-4da4-bb2f-25050a0a0411",
   "metadata": {
    "papermill": {
     "duration": 0.040865,
     "end_time": "2021-07-10T21:54:15.832929",
     "exception": false,
     "start_time": "2021-07-10T21:54:15.792064",
     "status": "completed"
    },
    "tags": []
   },
   "source": [
    "- It looks like we have 9 numeric variable. But is that so???\n",
    "- Also we have 1 non-numeric variable. \n",
    "- Non-numeric variable is coded as Object, but it looks like time object. It needs further adjustment. Noted.\n",
    "- Also boolean variables are coded as 0 and 1, noted.\n",
    "- Categorical variables **season** and **weathercode** are also coded as numerical.  Noted.\n",
    "- \"t1\" - real temperature in C and \"t2\" - temperature in C \"feels like\" seems quite same thing, needs to look their correlation. Noted."
   ]
  },
  {
   "cell_type": "code",
   "execution_count": 8,
   "id": "50942fa8-8000-4de3-925f-20785713c574",
   "metadata": {},
   "outputs": [
    {
     "data": {
      "text/html": [
       "<div>\n",
       "<style scoped>\n",
       "    .dataframe tbody tr th:only-of-type {\n",
       "        vertical-align: middle;\n",
       "    }\n",
       "\n",
       "    .dataframe tbody tr th {\n",
       "        vertical-align: top;\n",
       "    }\n",
       "\n",
       "    .dataframe thead th {\n",
       "        text-align: right;\n",
       "    }\n",
       "</style>\n",
       "<table border=\"1\" class=\"dataframe\">\n",
       "  <thead>\n",
       "    <tr style=\"text-align: right;\">\n",
       "      <th></th>\n",
       "      <th>cnt</th>\n",
       "      <th>t1</th>\n",
       "      <th>t2</th>\n",
       "      <th>hum</th>\n",
       "      <th>wind_speed</th>\n",
       "    </tr>\n",
       "  </thead>\n",
       "  <tbody>\n",
       "    <tr>\n",
       "      <th>count</th>\n",
       "      <td>17414.000000</td>\n",
       "      <td>17414.000000</td>\n",
       "      <td>17414.000000</td>\n",
       "      <td>17414.000000</td>\n",
       "      <td>17414.000000</td>\n",
       "    </tr>\n",
       "    <tr>\n",
       "      <th>mean</th>\n",
       "      <td>1143.101642</td>\n",
       "      <td>12.468091</td>\n",
       "      <td>11.520836</td>\n",
       "      <td>72.324954</td>\n",
       "      <td>15.913063</td>\n",
       "    </tr>\n",
       "    <tr>\n",
       "      <th>std</th>\n",
       "      <td>1085.108068</td>\n",
       "      <td>5.571818</td>\n",
       "      <td>6.615145</td>\n",
       "      <td>14.313186</td>\n",
       "      <td>7.894570</td>\n",
       "    </tr>\n",
       "    <tr>\n",
       "      <th>min</th>\n",
       "      <td>0.000000</td>\n",
       "      <td>-1.500000</td>\n",
       "      <td>-6.000000</td>\n",
       "      <td>20.500000</td>\n",
       "      <td>0.000000</td>\n",
       "    </tr>\n",
       "    <tr>\n",
       "      <th>25%</th>\n",
       "      <td>257.000000</td>\n",
       "      <td>8.000000</td>\n",
       "      <td>6.000000</td>\n",
       "      <td>63.000000</td>\n",
       "      <td>10.000000</td>\n",
       "    </tr>\n",
       "    <tr>\n",
       "      <th>50%</th>\n",
       "      <td>844.000000</td>\n",
       "      <td>12.500000</td>\n",
       "      <td>12.500000</td>\n",
       "      <td>74.500000</td>\n",
       "      <td>15.000000</td>\n",
       "    </tr>\n",
       "    <tr>\n",
       "      <th>75%</th>\n",
       "      <td>1671.750000</td>\n",
       "      <td>16.000000</td>\n",
       "      <td>16.000000</td>\n",
       "      <td>83.000000</td>\n",
       "      <td>20.500000</td>\n",
       "    </tr>\n",
       "    <tr>\n",
       "      <th>max</th>\n",
       "      <td>7860.000000</td>\n",
       "      <td>34.000000</td>\n",
       "      <td>34.000000</td>\n",
       "      <td>100.000000</td>\n",
       "      <td>56.500000</td>\n",
       "    </tr>\n",
       "  </tbody>\n",
       "</table>\n",
       "</div>"
      ],
      "text/plain": [
       "                cnt            t1            t2           hum    wind_speed\n",
       "count  17414.000000  17414.000000  17414.000000  17414.000000  17414.000000\n",
       "mean    1143.101642     12.468091     11.520836     72.324954     15.913063\n",
       "std     1085.108068      5.571818      6.615145     14.313186      7.894570\n",
       "min        0.000000     -1.500000     -6.000000     20.500000      0.000000\n",
       "25%      257.000000      8.000000      6.000000     63.000000     10.000000\n",
       "50%      844.000000     12.500000     12.500000     74.500000     15.000000\n",
       "75%     1671.750000     16.000000     16.000000     83.000000     20.500000\n",
       "max     7860.000000     34.000000     34.000000    100.000000     56.500000"
      ]
     },
     "execution_count": 8,
     "metadata": {},
     "output_type": "execute_result"
    }
   ],
   "source": [
    "df.drop(['season', 'weather_code', 'is_holiday','is_weekend'], axis=1).describe()"
   ]
  },
  {
   "cell_type": "markdown",
   "id": "18a54fde-5a2a-45dc-85fb-ad643fc20cb3",
   "metadata": {
    "papermill": {
     "duration": 0.062324,
     "end_time": "2021-07-10T21:54:16.069505",
     "exception": false,
     "start_time": "2021-07-10T21:54:16.007181",
     "status": "completed"
    },
    "tags": []
   },
   "source": [
    "Before going further, let's summarize what we have got from the dataset.\n",
    "\n",
    "- Our dataset has 17414 time records of the bike rent. \n",
    "-  \"t1\" - real temperature in C and \"t2\" - temperature in C \"feels like\" seems quite same thing, needs to look their correlation. We need to be careful about the multicollinearity.\n",
    "\n",
    "- We have date object, needs to be adjusted.\n",
    "\n",
    "- Numerically coded (season and weather_code) variables can be used as a group to see the differences among them.\n",
    "\n",
    "- 'cnt' : count of bike share, will be our target variable to work on it.\n",
    "\n",
    "- Numerical columns most probably have outliers. (Mean- Median difference, difference between 75% and maximum value, difference between %25 and minimum value), we have to check them."
   ]
  },
  {
   "cell_type": "markdown",
   "id": "caa64da5-20db-4d09-8e3d-a1058d78ca9f",
   "metadata": {
    "papermill": {
     "duration": 0.056976,
     "end_time": "2021-07-09T20:50:30.119499",
     "exception": false,
     "start_time": "2021-07-09T20:50:30.062523",
     "status": "completed"
    },
    "tags": []
   },
   "source": [
    "- Let's make the necessary adjustments before moving to the analysis part."
   ]
  },
  {
   "cell_type": "markdown",
   "id": "6d075a9a-3771-41c1-8e50-8f92a1ff5bae",
   "metadata": {},
   "source": [
    "#### **Temperature**"
   ]
  },
  {
   "cell_type": "markdown",
   "id": "e8aa83bb-3a61-4f3b-8e9c-976db1b9567e",
   "metadata": {},
   "source": [
    "- Lets' checek correlation between real temperature and felt temperature.\n",
    "- if correlation is high, we can detect the multicollinearity and use one of the highly correlated variable  to improve our model success.\n",
    "- Even though, we will make detailed EDA in this study, still it is best practice to follow."
   ]
  },
  {
   "cell_type": "code",
   "execution_count": 39,
   "id": "e7dfa416-a6be-4d4f-9cc0-aa4075414753",
   "metadata": {},
   "outputs": [
    {
     "data": {
      "text/plain": [
       "0.9883442218765803"
      ]
     },
     "execution_count": 39,
     "metadata": {},
     "output_type": "execute_result"
    }
   ],
   "source": [
    "df['t1'].corr(df['t2'])"
   ]
  },
  {
   "cell_type": "markdown",
   "id": "86b04624-04a2-4377-b962-f8ded091b20a",
   "metadata": {},
   "source": [
    "- Correlation is extremely high, so we will use only  \"t1\" - real temperature in C, in our analysis."
   ]
  },
  {
   "cell_type": "markdown",
   "id": "e2ffb476-8d21-49ca-9042-6eef6b27e7fe",
   "metadata": {},
   "source": [
    "#### **timestamp**"
   ]
  },
  {
   "cell_type": "markdown",
   "id": "5ee90a99-1c0d-40d2-b767-56ba343e80d6",
   "metadata": {},
   "source": [
    "- Let's make 'timestamp' as datetime object and use its values to make new columns out of it."
   ]
  },
  {
   "cell_type": "code",
   "execution_count": 13,
   "id": "664f3941-7ee9-4fcc-996c-5b90affabc12",
   "metadata": {},
   "outputs": [],
   "source": [
    "df['timestamp'] = pd.to_datetime(df['timestamp'])\n",
    "df= df.set_index('timestamp')"
   ]
  },
  {
   "cell_type": "code",
   "execution_count": 14,
   "id": "4225b96c-75b4-4353-a2f5-8d8571ead7c4",
   "metadata": {},
   "outputs": [
    {
     "data": {
      "text/html": [
       "<div>\n",
       "<style scoped>\n",
       "    .dataframe tbody tr th:only-of-type {\n",
       "        vertical-align: middle;\n",
       "    }\n",
       "\n",
       "    .dataframe tbody tr th {\n",
       "        vertical-align: top;\n",
       "    }\n",
       "\n",
       "    .dataframe thead th {\n",
       "        text-align: right;\n",
       "    }\n",
       "</style>\n",
       "<table border=\"1\" class=\"dataframe\">\n",
       "  <thead>\n",
       "    <tr style=\"text-align: right;\">\n",
       "      <th></th>\n",
       "      <th>cnt</th>\n",
       "      <th>t1</th>\n",
       "      <th>t2</th>\n",
       "      <th>hum</th>\n",
       "      <th>wind_speed</th>\n",
       "      <th>weather_code</th>\n",
       "      <th>is_holiday</th>\n",
       "      <th>is_weekend</th>\n",
       "      <th>season</th>\n",
       "      <th>year_month</th>\n",
       "      <th>year</th>\n",
       "      <th>month</th>\n",
       "      <th>day_of_month</th>\n",
       "      <th>day_of_week</th>\n",
       "      <th>hour</th>\n",
       "    </tr>\n",
       "    <tr>\n",
       "      <th>timestamp</th>\n",
       "      <th></th>\n",
       "      <th></th>\n",
       "      <th></th>\n",
       "      <th></th>\n",
       "      <th></th>\n",
       "      <th></th>\n",
       "      <th></th>\n",
       "      <th></th>\n",
       "      <th></th>\n",
       "      <th></th>\n",
       "      <th></th>\n",
       "      <th></th>\n",
       "      <th></th>\n",
       "      <th></th>\n",
       "      <th></th>\n",
       "    </tr>\n",
       "  </thead>\n",
       "  <tbody>\n",
       "    <tr>\n",
       "      <th>2015-01-04 00:00:00</th>\n",
       "      <td>182</td>\n",
       "      <td>3.0</td>\n",
       "      <td>2.0</td>\n",
       "      <td>93.0</td>\n",
       "      <td>6.0</td>\n",
       "      <td>3.0</td>\n",
       "      <td>0.0</td>\n",
       "      <td>1.0</td>\n",
       "      <td>3.0</td>\n",
       "      <td>2015-01</td>\n",
       "      <td>2015</td>\n",
       "      <td>1</td>\n",
       "      <td>4</td>\n",
       "      <td>6</td>\n",
       "      <td>0</td>\n",
       "    </tr>\n",
       "    <tr>\n",
       "      <th>2015-01-04 01:00:00</th>\n",
       "      <td>138</td>\n",
       "      <td>3.0</td>\n",
       "      <td>2.5</td>\n",
       "      <td>93.0</td>\n",
       "      <td>5.0</td>\n",
       "      <td>1.0</td>\n",
       "      <td>0.0</td>\n",
       "      <td>1.0</td>\n",
       "      <td>3.0</td>\n",
       "      <td>2015-01</td>\n",
       "      <td>2015</td>\n",
       "      <td>1</td>\n",
       "      <td>4</td>\n",
       "      <td>6</td>\n",
       "      <td>1</td>\n",
       "    </tr>\n",
       "    <tr>\n",
       "      <th>2015-01-04 02:00:00</th>\n",
       "      <td>134</td>\n",
       "      <td>2.5</td>\n",
       "      <td>2.5</td>\n",
       "      <td>96.5</td>\n",
       "      <td>0.0</td>\n",
       "      <td>1.0</td>\n",
       "      <td>0.0</td>\n",
       "      <td>1.0</td>\n",
       "      <td>3.0</td>\n",
       "      <td>2015-01</td>\n",
       "      <td>2015</td>\n",
       "      <td>1</td>\n",
       "      <td>4</td>\n",
       "      <td>6</td>\n",
       "      <td>2</td>\n",
       "    </tr>\n",
       "    <tr>\n",
       "      <th>2015-01-04 03:00:00</th>\n",
       "      <td>72</td>\n",
       "      <td>2.0</td>\n",
       "      <td>2.0</td>\n",
       "      <td>100.0</td>\n",
       "      <td>0.0</td>\n",
       "      <td>1.0</td>\n",
       "      <td>0.0</td>\n",
       "      <td>1.0</td>\n",
       "      <td>3.0</td>\n",
       "      <td>2015-01</td>\n",
       "      <td>2015</td>\n",
       "      <td>1</td>\n",
       "      <td>4</td>\n",
       "      <td>6</td>\n",
       "      <td>3</td>\n",
       "    </tr>\n",
       "    <tr>\n",
       "      <th>2015-01-04 04:00:00</th>\n",
       "      <td>47</td>\n",
       "      <td>2.0</td>\n",
       "      <td>0.0</td>\n",
       "      <td>93.0</td>\n",
       "      <td>6.5</td>\n",
       "      <td>1.0</td>\n",
       "      <td>0.0</td>\n",
       "      <td>1.0</td>\n",
       "      <td>3.0</td>\n",
       "      <td>2015-01</td>\n",
       "      <td>2015</td>\n",
       "      <td>1</td>\n",
       "      <td>4</td>\n",
       "      <td>6</td>\n",
       "      <td>4</td>\n",
       "    </tr>\n",
       "  </tbody>\n",
       "</table>\n",
       "</div>"
      ],
      "text/plain": [
       "                     cnt   t1   t2    hum  wind_speed  weather_code  \\\n",
       "timestamp                                                             \n",
       "2015-01-04 00:00:00  182  3.0  2.0   93.0         6.0           3.0   \n",
       "2015-01-04 01:00:00  138  3.0  2.5   93.0         5.0           1.0   \n",
       "2015-01-04 02:00:00  134  2.5  2.5   96.5         0.0           1.0   \n",
       "2015-01-04 03:00:00   72  2.0  2.0  100.0         0.0           1.0   \n",
       "2015-01-04 04:00:00   47  2.0  0.0   93.0         6.5           1.0   \n",
       "\n",
       "                     is_holiday  is_weekend  season year_month  year  month  \\\n",
       "timestamp                                                                     \n",
       "2015-01-04 00:00:00         0.0         1.0     3.0    2015-01  2015      1   \n",
       "2015-01-04 01:00:00         0.0         1.0     3.0    2015-01  2015      1   \n",
       "2015-01-04 02:00:00         0.0         1.0     3.0    2015-01  2015      1   \n",
       "2015-01-04 03:00:00         0.0         1.0     3.0    2015-01  2015      1   \n",
       "2015-01-04 04:00:00         0.0         1.0     3.0    2015-01  2015      1   \n",
       "\n",
       "                     day_of_month  day_of_week  hour  \n",
       "timestamp                                             \n",
       "2015-01-04 00:00:00             4            6     0  \n",
       "2015-01-04 01:00:00             4            6     1  \n",
       "2015-01-04 02:00:00             4            6     2  \n",
       "2015-01-04 03:00:00             4            6     3  \n",
       "2015-01-04 04:00:00             4            6     4  "
      ]
     },
     "execution_count": 14,
     "metadata": {},
     "output_type": "execute_result"
    }
   ],
   "source": [
    "df['year_month']= df.index.strftime('%Y-%m')\n",
    "df['year'] = df.index.year\n",
    "df['month']= df.index.month\n",
    "df['day_of_month']= df.index.day\n",
    "df['day_of_week']=df.index.dayofweek\n",
    "df['hour']=df.index.hour\n",
    "\n",
    "df.head()"
   ]
  },
  {
   "cell_type": "markdown",
   "id": "b8d62459-8457-49b8-95d8-b4bd44081af2",
   "metadata": {},
   "source": [
    "- Seems much better"
   ]
  },
  {
   "cell_type": "markdown",
   "id": "2338b0bb-5989-4d55-bba4-984b687fa3c6",
   "metadata": {},
   "source": [
    "#### Look at the **season** and **weather_code** "
   ]
  },
  {
   "cell_type": "code",
   "execution_count": 15,
   "id": "53e03c95-24ff-4a60-a80b-4f4c76e6b317",
   "metadata": {},
   "outputs": [
    {
     "data": {
      "text/plain": [
       "0.0    4394\n",
       "1.0    4387\n",
       "3.0    4330\n",
       "2.0    4303\n",
       "Name: season, dtype: int64"
      ]
     },
     "execution_count": 15,
     "metadata": {},
     "output_type": "execute_result"
    }
   ],
   "source": [
    "df['season'].value_counts()"
   ]
  },
  {
   "cell_type": "markdown",
   "id": "97d133ec-9a44-4148-9a69-d1b551e872bc",
   "metadata": {},
   "source": [
    "- That's good, it can be used as group to see the differences at the count of bike share"
   ]
  },
  {
   "cell_type": "code",
   "execution_count": 17,
   "id": "efa43f15-ce1b-4d20-89e8-ff860016b3d3",
   "metadata": {},
   "outputs": [
    {
     "data": {
      "text/plain": [
       "1.0     6150\n",
       "2.0     4034\n",
       "3.0     3551\n",
       "7.0     2141\n",
       "4.0     1464\n",
       "26.0      60\n",
       "10.0      14\n",
       "Name: weather_code, dtype: int64"
      ]
     },
     "execution_count": 17,
     "metadata": {},
     "output_type": "execute_result"
    }
   ],
   "source": [
    "df['weather_code'].value_counts()"
   ]
  },
  {
   "cell_type": "markdown",
   "id": "c3e695f8-c182-43a2-9a1b-71c66d10f6fa",
   "metadata": {},
   "source": [
    "- It seems OK, can be used in a groupby."
   ]
  },
  {
   "cell_type": "markdown",
   "id": "fe4befae-e04b-41c8-8204-8910dcb9286e",
   "metadata": {
    "papermill": {
     "duration": 0.057562,
     "end_time": "2021-07-09T20:50:32.195253",
     "exception": false,
     "start_time": "2021-07-09T20:50:32.137691",
     "status": "completed"
    },
    "tags": []
   },
   "source": [
    "### Analysis Part"
   ]
  },
  {
   "cell_type": "markdown",
   "id": "089cfd9c-2d41-4340-9ee8-eac204b44d75",
   "metadata": {},
   "source": [
    "### **Correlation**"
   ]
  },
  {
   "cell_type": "code",
   "execution_count": 118,
   "id": "7d6303e9-f053-4bb4-b338-362bbd9a7df2",
   "metadata": {},
   "outputs": [
    {
     "data": {
      "text/html": [
       "<div>\n",
       "<style scoped>\n",
       "    .dataframe tbody tr th:only-of-type {\n",
       "        vertical-align: middle;\n",
       "    }\n",
       "\n",
       "    .dataframe tbody tr th {\n",
       "        vertical-align: top;\n",
       "    }\n",
       "\n",
       "    .dataframe thead th {\n",
       "        text-align: right;\n",
       "    }\n",
       "</style>\n",
       "<table border=\"1\" class=\"dataframe\">\n",
       "  <thead>\n",
       "    <tr style=\"text-align: right;\">\n",
       "      <th></th>\n",
       "      <th>cnt</th>\n",
       "      <th>t1</th>\n",
       "      <th>hum</th>\n",
       "      <th>wind_speed</th>\n",
       "    </tr>\n",
       "  </thead>\n",
       "  <tbody>\n",
       "    <tr>\n",
       "      <th>cnt</th>\n",
       "      <td>1.000000</td>\n",
       "      <td>0.388798</td>\n",
       "      <td>-0.462901</td>\n",
       "      <td>0.116295</td>\n",
       "    </tr>\n",
       "    <tr>\n",
       "      <th>t1</th>\n",
       "      <td>0.388798</td>\n",
       "      <td>1.000000</td>\n",
       "      <td>-0.447781</td>\n",
       "      <td>0.145471</td>\n",
       "    </tr>\n",
       "    <tr>\n",
       "      <th>hum</th>\n",
       "      <td>-0.462901</td>\n",
       "      <td>-0.447781</td>\n",
       "      <td>1.000000</td>\n",
       "      <td>-0.287789</td>\n",
       "    </tr>\n",
       "    <tr>\n",
       "      <th>wind_speed</th>\n",
       "      <td>0.116295</td>\n",
       "      <td>0.145471</td>\n",
       "      <td>-0.287789</td>\n",
       "      <td>1.000000</td>\n",
       "    </tr>\n",
       "  </tbody>\n",
       "</table>\n",
       "</div>"
      ],
      "text/plain": [
       "                 cnt        t1       hum  wind_speed\n",
       "cnt         1.000000  0.388798 -0.462901    0.116295\n",
       "t1          0.388798  1.000000 -0.447781    0.145471\n",
       "hum        -0.462901 -0.447781  1.000000   -0.287789\n",
       "wind_speed  0.116295  0.145471 -0.287789    1.000000"
      ]
     },
     "execution_count": 118,
     "metadata": {},
     "output_type": "execute_result"
    }
   ],
   "source": [
    "df[['cnt','t1','hum','wind_speed']].corr()"
   ]
  },
  {
   "cell_type": "code",
   "execution_count": 119,
   "id": "5d7e4c09-81cb-413c-9b71-5226481c6d5d",
   "metadata": {},
   "outputs": [
    {
     "data": {
      "text/html": [
       "<iframe\n",
       "    scrolling=\"no\"\n",
       "    width=\"1020px\"\n",
       "    height=\"1020\"\n",
       "    src=\"iframe_figures/figure_119.html\"\n",
       "    frameborder=\"0\"\n",
       "    allowfullscreen\n",
       "></iframe>\n"
      ]
     },
     "metadata": {},
     "output_type": "display_data"
    }
   ],
   "source": [
    "index_vals = df['season'].astype('category').cat.codes\n",
    "\n",
    "fig = go.Figure(data=go.Splom(\n",
    "                dimensions=[dict(label='Number of Bike Share',\n",
    "                                 values=df['cnt']),\n",
    "                            dict(label='Temperature',\n",
    "                                 values=df['t1']),\n",
    "                            dict(label='Humidity',\n",
    "                                 values=df['hum']),\n",
    "                           dict(label='Wind Speed',\n",
    "                                 values=df['wind_speed'])],\n",
    "                showupperhalf=False, \n",
    "                text=df['season'],\n",
    "                marker=dict(color=index_vals,\n",
    "                            showscale=False,\n",
    "                            line_color='white', line_width=0.5)\n",
    "                ))\n",
    "\n",
    "\n",
    "fig.update_layout(\n",
    "    title='Bike Share in london',\n",
    "    width=1000,\n",
    "    height=1000,\n",
    ")\n",
    "\n",
    "fig.show()"
   ]
  },
  {
   "cell_type": "markdown",
   "id": "0918270e-9c87-403b-b57e-0efb4047b8de",
   "metadata": {},
   "source": [
    "- Based on the correlation matrix:\n",
    "    - There is weak positive relationship (.388) between temperature and the number of bike share\n",
    "    - Also there is weak negative relationship (.46) between humidity and the number of the bike share."
   ]
  },
  {
   "cell_type": "markdown",
   "id": "efa6cbc4-cfce-42b1-9adf-2705342d87e3",
   "metadata": {},
   "source": [
    "#### **Season**"
   ]
  },
  {
   "cell_type": "code",
   "execution_count": 18,
   "id": "6963883a-dba7-4ddb-be48-78f85807d786",
   "metadata": {},
   "outputs": [
    {
     "data": {
      "text/plain": [
       "0.0    0.252326\n",
       "1.0    0.251924\n",
       "3.0    0.248651\n",
       "2.0    0.247100\n",
       "Name: season, dtype: float64"
      ]
     },
     "execution_count": 18,
     "metadata": {},
     "output_type": "execute_result"
    }
   ],
   "source": [
    "df['season'].value_counts(normalize=True)"
   ]
  },
  {
   "cell_type": "markdown",
   "id": "2c639161-2b29-4262-8fe4-70e7f7b24867",
   "metadata": {},
   "source": [
    "- Dataset contains almost same number of instances from the four seasons."
   ]
  },
  {
   "cell_type": "code",
   "execution_count": 25,
   "id": "a22e8004-4c52-4810-ae48-d550dbe3c7e3",
   "metadata": {},
   "outputs": [
    {
     "data": {
      "text/html": [
       "<iframe\n",
       "    scrolling=\"no\"\n",
       "    width=\"100%\"\n",
       "    height=\"545px\"\n",
       "    src=\"iframe_figures/figure_25.html\"\n",
       "    frameborder=\"0\"\n",
       "    allowfullscreen\n",
       "></iframe>\n"
      ]
     },
     "metadata": {},
     "output_type": "display_data"
    }
   ],
   "source": [
    "fig = px.bar(x= df['season'].value_counts().index, y=df['season'].value_counts().values, \n",
    "             title='Seasons', labels={'y':'Count', 'x':'Seasons'})\n",
    "fig.update_layout(xaxis={'categoryorder':'total descending'})\n",
    "fig.show()"
   ]
  },
  {
   "cell_type": "markdown",
   "id": "99c24843-c0ec-4e34-8ff4-6f10607ce0dc",
   "metadata": {},
   "source": [
    "#### **weather_code**"
   ]
  },
  {
   "cell_type": "code",
   "execution_count": 26,
   "id": "0e16972e-957f-4887-8594-580c448a9b51",
   "metadata": {},
   "outputs": [
    {
     "data": {
      "text/plain": [
       "1.0     0.353164\n",
       "2.0     0.231653\n",
       "3.0     0.203916\n",
       "7.0     0.122947\n",
       "4.0     0.084070\n",
       "26.0    0.003446\n",
       "10.0    0.000804\n",
       "Name: weather_code, dtype: float64"
      ]
     },
     "execution_count": 26,
     "metadata": {},
     "output_type": "execute_result"
    }
   ],
   "source": [
    "df['weather_code'].value_counts(normalize=True)"
   ]
  },
  {
   "cell_type": "markdown",
   "id": "e4b11848-7457-46b6-a4a7-5153899b9895",
   "metadata": {},
   "source": [
    "- %35 of the times, weather code is Clear(1.0)\n",
    "- %23 of the times, weather code is 'scattered clouds, few clouds'\n",
    "- %20 of the times, weather code is 'broken clouds'\n",
    "- %12 of the time 'rain, light rain'\n",
    "\n",
    "- By the way, remember that we are looking at the London's data. So rain and cloud is quite a Londonish."
   ]
  },
  {
   "cell_type": "code",
   "execution_count": 55,
   "id": "0a9eb5cb-2d99-41e6-9e35-afbc7dbbd2f1",
   "metadata": {},
   "outputs": [
    {
     "data": {
      "text/html": [
       "<iframe\n",
       "    scrolling=\"no\"\n",
       "    width=\"100%\"\n",
       "    height=\"545px\"\n",
       "    src=\"iframe_figures/figure_55.html\"\n",
       "    frameborder=\"0\"\n",
       "    allowfullscreen\n",
       "></iframe>\n"
      ]
     },
     "metadata": {},
     "output_type": "display_data"
    }
   ],
   "source": [
    "fig = px.pie(df, values=df['weather_code'].value_counts().values, \n",
    "             names= ['Clear', 'scattered clouds', 'Broken clouds', 'Cloudy' 'Rain', 'rain with thunderstorm', 'snowfall', 'Freezing Fog'])\n",
    "fig.show()\n",
    "\n"
   ]
  },
  {
   "cell_type": "markdown",
   "id": "82a95b35-d436-4fe4-a782-cdf5df82b622",
   "metadata": {},
   "source": [
    "#### **Count of a New Bike Shares**"
   ]
  },
  {
   "cell_type": "code",
   "execution_count": 31,
   "id": "91cc2554-9d82-438c-867c-04ef10dd706f",
   "metadata": {},
   "outputs": [
    {
     "data": {
      "text/plain": [
       "count    17414.000000\n",
       "mean      1143.101642\n",
       "std       1085.108068\n",
       "min          0.000000\n",
       "25%        257.000000\n",
       "50%        844.000000\n",
       "75%       1671.750000\n",
       "max       7860.000000\n",
       "Name: cnt, dtype: float64"
      ]
     },
     "execution_count": 31,
     "metadata": {},
     "output_type": "execute_result"
    }
   ],
   "source": [
    "df['cnt'].describe()"
   ]
  },
  {
   "cell_type": "markdown",
   "id": "1229821b-739f-476b-8013-ea6b29ed676c",
   "metadata": {},
   "source": [
    "- We have huge difference between mean and median values (mean = 1143, median=844)\n",
    "- It has highly skewed distribution with the outliers on the maximum side.\n",
    "- We can expect highly right skewed distribution with possible outliers in the maximum side.\n",
    "- Let' see it."
   ]
  },
  {
   "cell_type": "code",
   "execution_count": 32,
   "id": "5efa73b5-a499-4fb1-9dbd-e8ef311c5d74",
   "metadata": {},
   "outputs": [
    {
     "data": {
      "text/html": [
       "<iframe\n",
       "    scrolling=\"no\"\n",
       "    width=\"100%\"\n",
       "    height=\"545px\"\n",
       "    src=\"iframe_figures/figure_32.html\"\n",
       "    frameborder=\"0\"\n",
       "    allowfullscreen\n",
       "></iframe>\n"
      ]
     },
     "metadata": {},
     "output_type": "display_data"
    }
   ],
   "source": [
    "fig = px.histogram(df, x= 'cnt', title='Count of a New Bike Shares', marginal=\"box\", hover_data = df[['season']])\n",
    "fig.show()"
   ]
  },
  {
   "cell_type": "markdown",
   "id": "3d3ba7de-ce41-4a47-9085-c42aaa99c347",
   "metadata": {
    "papermill": {
     "duration": 0.070489,
     "end_time": "2021-07-10T21:54:19.318864",
     "exception": false,
     "start_time": "2021-07-10T21:54:19.248375",
     "status": "completed"
    },
    "tags": []
   },
   "source": [
    "- As expected, highly right skewed distribution with the outliers on the maximum side.\n",
    "\n",
    "- All of the extreme outliers (starting from 5560 count) are in the season 1, which means in the summer.\n",
    "\n",
    "- Any surprise !!! "
   ]
  },
  {
   "cell_type": "markdown",
   "id": "5f0e1a6e-216c-4e3b-9bd1-1827253462b9",
   "metadata": {},
   "source": [
    "#### **real temperature in C**"
   ]
  },
  {
   "cell_type": "code",
   "execution_count": 40,
   "id": "cb963dd5-07e5-4512-8e69-b73be79a4aa4",
   "metadata": {},
   "outputs": [
    {
     "data": {
      "text/plain": [
       "count    17414.000000\n",
       "mean        12.468091\n",
       "std          5.571818\n",
       "min         -1.500000\n",
       "25%          8.000000\n",
       "50%         12.500000\n",
       "75%         16.000000\n",
       "max         34.000000\n",
       "Name: t1, dtype: float64"
      ]
     },
     "execution_count": 40,
     "metadata": {},
     "output_type": "execute_result"
    }
   ],
   "source": [
    "df['t1'].describe()"
   ]
  },
  {
   "cell_type": "markdown",
   "id": "39c28e9b-40a1-44f8-8da5-2108ef976d47",
   "metadata": {},
   "source": [
    "- Both mean and median scores are very close to each other. Median is slightly higher than mean score. \n",
    "- So we can very slightly left skewed distribution\n",
    "- But the distribution will be very close to normal distribution with several outliers.\n",
    "- Let's see it."
   ]
  },
  {
   "cell_type": "code",
   "execution_count": 42,
   "id": "9a744324-4a00-42b0-872e-f651d2535183",
   "metadata": {},
   "outputs": [
    {
     "data": {
      "text/html": [
       "<iframe\n",
       "    scrolling=\"no\"\n",
       "    width=\"100%\"\n",
       "    height=\"545px\"\n",
       "    src=\"iframe_figures/figure_42.html\"\n",
       "    frameborder=\"0\"\n",
       "    allowfullscreen\n",
       "></iframe>\n"
      ]
     },
     "metadata": {},
     "output_type": "display_data"
    }
   ],
   "source": [
    "fig = px.histogram(df, x= 't1', title='Temperatures', marginal=\"box\", hover_data = df[['season']])\n",
    "fig.show()"
   ]
  },
  {
   "cell_type": "markdown",
   "id": "5ae2f871-a06a-4525-bc5b-6da8fe06586e",
   "metadata": {},
   "source": [
    "- Yeah, as we expected, quite normal distribution with several outliers, \n",
    "- As seen better in the box plot, very slightly left skewed distribution."
   ]
  },
  {
   "cell_type": "markdown",
   "id": "607002d4-2903-48ab-81cc-655503557d52",
   "metadata": {},
   "source": [
    "#### **Wind Speed**"
   ]
  },
  {
   "cell_type": "code",
   "execution_count": 43,
   "id": "45fd46fd-3d72-462a-b502-6205389102c8",
   "metadata": {},
   "outputs": [
    {
     "data": {
      "text/plain": [
       "count    17414.000000\n",
       "mean        15.913063\n",
       "std          7.894570\n",
       "min          0.000000\n",
       "25%         10.000000\n",
       "50%         15.000000\n",
       "75%         20.500000\n",
       "max         56.500000\n",
       "Name: wind_speed, dtype: float64"
      ]
     },
     "execution_count": 43,
     "metadata": {},
     "output_type": "execute_result"
    }
   ],
   "source": [
    "df['wind_speed'].describe()"
   ]
  },
  {
   "cell_type": "markdown",
   "id": "2da55f4a-ce32-4da8-9f2b-380908f58943",
   "metadata": {},
   "source": [
    "- We can expect slighlt rightly skewed distribution (mean 15.9, median=15)\n",
    "- Which will be very close to normal distribution\n",
    "- We can expect outliers on the maximum side."
   ]
  },
  {
   "cell_type": "code",
   "execution_count": 44,
   "id": "d7137f7e-f490-4661-a502-93377ca5c438",
   "metadata": {},
   "outputs": [
    {
     "data": {
      "text/html": [
       "<iframe\n",
       "    scrolling=\"no\"\n",
       "    width=\"100%\"\n",
       "    height=\"545px\"\n",
       "    src=\"iframe_figures/figure_44.html\"\n",
       "    frameborder=\"0\"\n",
       "    allowfullscreen\n",
       "></iframe>\n"
      ]
     },
     "metadata": {},
     "output_type": "display_data"
    }
   ],
   "source": [
    "fig = px.histogram(df, x= 'wind_speed', title='Wind Speed', marginal=\"box\", hover_data = df[['season']])\n",
    "fig.show()"
   ]
  },
  {
   "cell_type": "markdown",
   "id": "6108fb75-9fe2-4f5f-bd1c-4e80efeb256c",
   "metadata": {},
   "source": [
    "- As we expected, several outliers on the right side.\n",
    "- Slightly rightly skewed distribution"
   ]
  },
  {
   "cell_type": "markdown",
   "id": "b91bb55c-08c5-41b9-9ae8-7e816657c579",
   "metadata": {},
   "source": [
    "#### **Humidity**"
   ]
  },
  {
   "cell_type": "code",
   "execution_count": 45,
   "id": "827ed6c3-66fd-4bfc-802f-647387a027a7",
   "metadata": {},
   "outputs": [
    {
     "data": {
      "text/plain": [
       "count    17414.000000\n",
       "mean        72.324954\n",
       "std         14.313186\n",
       "min         20.500000\n",
       "25%         63.000000\n",
       "50%         74.500000\n",
       "75%         83.000000\n",
       "max        100.000000\n",
       "Name: hum, dtype: float64"
      ]
     },
     "execution_count": 45,
     "metadata": {},
     "output_type": "execute_result"
    }
   ],
   "source": [
    "df['hum'].describe()"
   ]
  },
  {
   "cell_type": "markdown",
   "id": "a1f90c8d-befb-421e-bea6-9a309af0dfbc",
   "metadata": {},
   "source": [
    "- Both mean and median scores are close to each other.\n",
    "- Since median score is little bit higher than mean score, we can expect slightly left skewed distribution.\n",
    "- Possible outliers on the minimum side."
   ]
  },
  {
   "cell_type": "code",
   "execution_count": 46,
   "id": "0c3e618a-c7c0-4fda-a11e-eb273f208885",
   "metadata": {},
   "outputs": [
    {
     "data": {
      "text/html": [
       "<iframe\n",
       "    scrolling=\"no\"\n",
       "    width=\"100%\"\n",
       "    height=\"545px\"\n",
       "    src=\"iframe_figures/figure_46.html\"\n",
       "    frameborder=\"0\"\n",
       "    allowfullscreen\n",
       "></iframe>\n"
      ]
     },
     "metadata": {},
     "output_type": "display_data"
    }
   ],
   "source": [
    "fig = px.histogram(df, x= 'hum', title='Humidity', marginal=\"box\", hover_data = df[['season']])\n",
    "fig.show()"
   ]
  },
  {
   "cell_type": "markdown",
   "id": "6825afdd-0490-4faa-a5e5-be454c8680a3",
   "metadata": {},
   "source": [
    "- As we expected, left skewed distribution with outliers on the left side."
   ]
  },
  {
   "cell_type": "markdown",
   "id": "84009290-742d-4e55-9bdb-ce8fe7a1b314",
   "metadata": {},
   "source": [
    "#### **Holiday or No?**"
   ]
  },
  {
   "cell_type": "code",
   "execution_count": 47,
   "id": "7754c373-5b97-470e-9d27-0772a49aebec",
   "metadata": {},
   "outputs": [
    {
     "data": {
      "text/plain": [
       "0.0    17030\n",
       "1.0      384\n",
       "Name: is_holiday, dtype: int64"
      ]
     },
     "execution_count": 47,
     "metadata": {},
     "output_type": "execute_result"
    }
   ],
   "source": [
    "df['is_holiday'].value_counts()"
   ]
  },
  {
   "cell_type": "code",
   "execution_count": 56,
   "id": "649e16fa-e418-4372-b943-5fc087a54c9e",
   "metadata": {},
   "outputs": [
    {
     "data": {
      "text/html": [
       "<iframe\n",
       "    scrolling=\"no\"\n",
       "    width=\"100%\"\n",
       "    height=\"545px\"\n",
       "    src=\"iframe_figures/figure_56.html\"\n",
       "    frameborder=\"0\"\n",
       "    allowfullscreen\n",
       "></iframe>\n"
      ]
     },
     "metadata": {},
     "output_type": "display_data"
    }
   ],
   "source": [
    "fig = px.pie(df, values=df['is_holiday'].value_counts().values, \n",
    "             names= ['Normal Day','Holiday'] )\n",
    "fig.show()"
   ]
  },
  {
   "cell_type": "markdown",
   "id": "d940c82c-2127-4478-a11e-9d6b5a67cbee",
   "metadata": {},
   "source": [
    "#### **Wekend or No**"
   ]
  },
  {
   "cell_type": "code",
   "execution_count": 60,
   "id": "f078df96-c1ba-4a47-9b1d-ee71c85580a3",
   "metadata": {},
   "outputs": [
    {
     "data": {
      "text/plain": [
       "0.0    17030\n",
       "1.0      384\n",
       "Name: is_holiday, dtype: int64"
      ]
     },
     "execution_count": 60,
     "metadata": {},
     "output_type": "execute_result"
    }
   ],
   "source": [
    "df['is_holiday'].value_counts()"
   ]
  },
  {
   "cell_type": "code",
   "execution_count": 58,
   "id": "db342302-bfdc-403b-b99a-23b389d78499",
   "metadata": {},
   "outputs": [
    {
     "data": {
      "text/html": [
       "<iframe\n",
       "    scrolling=\"no\"\n",
       "    width=\"100%\"\n",
       "    height=\"545px\"\n",
       "    src=\"iframe_figures/figure_58.html\"\n",
       "    frameborder=\"0\"\n",
       "    allowfullscreen\n",
       "></iframe>\n"
      ]
     },
     "metadata": {},
     "output_type": "display_data"
    }
   ],
   "source": [
    "fig = px.pie(df, values=df['is_holiday'].value_counts().values, \n",
    "             names= ['Weekday','Weekend'] )\n",
    "fig.show()"
   ]
  },
  {
   "cell_type": "markdown",
   "id": "7ef28b60-fefb-4270-8116-02a70ae121a4",
   "metadata": {},
   "source": [
    "- Ok let's go deeper."
   ]
  },
  {
   "cell_type": "markdown",
   "id": "24cef555-838c-43d0-b6f9-cd4f26197fb5",
   "metadata": {},
   "source": [
    "### **Bike Share by Year**"
   ]
  },
  {
   "cell_type": "code",
   "execution_count": 115,
   "id": "0c30152b-4d52-4768-beb7-bcd754f170a9",
   "metadata": {},
   "outputs": [
    {
     "data": {
      "text/html": [
       "<iframe\n",
       "    scrolling=\"no\"\n",
       "    width=\"100%\"\n",
       "    height=\"545px\"\n",
       "    src=\"iframe_figures/figure_115.html\"\n",
       "    frameborder=\"0\"\n",
       "    allowfullscreen\n",
       "></iframe>\n"
      ]
     },
     "metadata": {},
     "output_type": "display_data"
    }
   ],
   "source": [
    "fig = px.scatter(df, x=\"year\", y=\"cnt\")\n",
    "fig.show()"
   ]
  },
  {
   "cell_type": "markdown",
   "id": "6736ce9d-e2a7-4493-91fa-14b260391d05",
   "metadata": {},
   "source": [
    "- From 2015 to 2017 we can observe significant decrease on the bike share counts."
   ]
  },
  {
   "cell_type": "markdown",
   "id": "5984b358-03f5-4a85-9074-097b99054afd",
   "metadata": {},
   "source": [
    "### **Bike Share by Year and Months**"
   ]
  },
  {
   "cell_type": "code",
   "execution_count": 107,
   "id": "4f97eac3-f7d6-40e0-a8b7-6a6c06c2d19a",
   "metadata": {},
   "outputs": [
    {
     "data": {
      "text/html": [
       "<iframe\n",
       "    scrolling=\"no\"\n",
       "    width=\"100%\"\n",
       "    height=\"545px\"\n",
       "    src=\"iframe_figures/figure_107.html\"\n",
       "    frameborder=\"0\"\n",
       "    allowfullscreen\n",
       "></iframe>\n"
      ]
     },
     "metadata": {},
     "output_type": "display_data"
    }
   ],
   "source": [
    "fig = px.scatter(df, x=\"year_month\", y=\"cnt\")\n",
    "fig.show()"
   ]
  },
  {
   "cell_type": "markdown",
   "id": "f24d1f5a-7c3a-4a72-858e-ff9bea3efd77",
   "metadata": {},
   "source": [
    "- As easily seen in the scatter plot, during the summer time, significant increase on the bike share.\n",
    "- On the other hand, during the winter time it decreases."
   ]
  },
  {
   "cell_type": "markdown",
   "id": "a2ef53f0-36a1-4add-87c1-fcefbc4bf6a3",
   "metadata": {},
   "source": [
    "#### **Bike Share by Seasons**"
   ]
  },
  {
   "cell_type": "code",
   "execution_count": 77,
   "id": "4a5a92ee-0ee0-4996-9434-734ee893b5b6",
   "metadata": {},
   "outputs": [
    {
     "data": {
      "text/html": [
       "<iframe\n",
       "    scrolling=\"no\"\n",
       "    width=\"100%\"\n",
       "    height=\"545px\"\n",
       "    src=\"iframe_figures/figure_77.html\"\n",
       "    frameborder=\"0\"\n",
       "    allowfullscreen\n",
       "></iframe>\n"
      ]
     },
     "metadata": {},
     "output_type": "display_data"
    }
   ],
   "source": [
    "df['season1']= df['season'].replace({0:'Spring',1:'summer',2:'Fall',3:'Winter'})\n",
    "fig = px.bar(df, x='season1', y= 'cnt',  hover_data = df[['year_month']], color='season1', \n",
    "             labels={'season1':'Seasons','cnt':'Number of Bike Share'})\n",
    "fig.update_layout(xaxis={'categoryorder':'total descending'})\n",
    "fig.show()"
   ]
  },
  {
   "cell_type": "markdown",
   "id": "c733b745-6c92-464c-af47-05110674ae59",
   "metadata": {},
   "source": [
    "- As we have seen in the year_month, same is true based on the seasons.\n",
    "- Bike share increases on the summer time and reached lowest point on the winter time."
   ]
  },
  {
   "cell_type": "markdown",
   "id": "95ff7ae1-dd99-4de3-b828-e2cca7db4cee",
   "metadata": {},
   "source": [
    "#### **Bike Share During the Holiday**"
   ]
  },
  {
   "cell_type": "code",
   "execution_count": 98,
   "id": "0f8d355b-91de-4ab2-998b-808c6623cf6b",
   "metadata": {},
   "outputs": [
    {
     "data": {
      "text/html": [
       "<iframe\n",
       "    scrolling=\"no\"\n",
       "    width=\"100%\"\n",
       "    height=\"545px\"\n",
       "    src=\"iframe_figures/figure_98.html\"\n",
       "    frameborder=\"0\"\n",
       "    allowfullscreen\n",
       "></iframe>\n"
      ]
     },
     "metadata": {},
     "output_type": "display_data"
    }
   ],
   "source": [
    "holiday = df.groupby('is_holiday')['cnt'].mean().reset_index().rename(columns={'is_holiday': 'Holiday', 'cnt':'Number of Bike Shared'}, )\n",
    "holiday['Holiday']= holiday['Holiday'].replace({0: 'Normal Day', 1:'Holiday'})\n",
    "\n",
    "fig = px.bar(holiday, x='Holiday', y= 'Number of Bike Shared', color='Holiday', )\n",
    "fig.update_layout(xaxis={'categoryorder':'total descending'})\n",
    "fig.show()"
   ]
  },
  {
   "cell_type": "markdown",
   "id": "c60407b8-c011-45f7-8fa6-15de5fd3a1ff",
   "metadata": {},
   "source": [
    "- Normal days have more bike share than holidays."
   ]
  },
  {
   "cell_type": "markdown",
   "id": "a44cc0b3-c3f4-488f-9fcf-152120ed7f5e",
   "metadata": {},
   "source": [
    "#### **Bike Share During the Weekend**"
   ]
  },
  {
   "cell_type": "code",
   "execution_count": 100,
   "id": "6f8d50c1-b087-49fb-8de4-fa7abd5df95c",
   "metadata": {},
   "outputs": [
    {
     "data": {
      "text/html": [
       "<iframe\n",
       "    scrolling=\"no\"\n",
       "    width=\"100%\"\n",
       "    height=\"545px\"\n",
       "    src=\"iframe_figures/figure_100.html\"\n",
       "    frameborder=\"0\"\n",
       "    allowfullscreen\n",
       "></iframe>\n"
      ]
     },
     "metadata": {},
     "output_type": "display_data"
    }
   ],
   "source": [
    "weekend = df.groupby('is_weekend')['cnt'].mean().reset_index().rename(columns={'is_weekend': 'Weekend', 'cnt':'Number of Bike Shared'}, )\n",
    "weekend['Weekend']= weekend['Weekend'].replace({0: 'Weekday', 1:'Weekend'})\n",
    "\n",
    "fig = px.bar(weekend, x='Weekend', y= 'Number of Bike Shared', color='Weekend', )\n",
    "fig.update_layout(xaxis={'categoryorder':'total descending'})\n",
    "fig.show()"
   ]
  },
  {
   "cell_type": "markdown",
   "id": "92dd381e-0f11-40fe-8fee-8f09e90fb1e6",
   "metadata": {},
   "source": [
    "- Weekdays have more bike share than weekends."
   ]
  },
  {
   "cell_type": "markdown",
   "id": "d6098d65-dff3-4fdc-b6d8-cd9060072ff9",
   "metadata": {},
   "source": [
    "#### **Bike Shares by Hour**"
   ]
  },
  {
   "cell_type": "code",
   "execution_count": 110,
   "id": "12b1e0d7-9e95-48b9-97f3-5f00ce585fff",
   "metadata": {},
   "outputs": [
    {
     "data": {
      "text/html": [
       "<iframe\n",
       "    scrolling=\"no\"\n",
       "    width=\"100%\"\n",
       "    height=\"545px\"\n",
       "    src=\"iframe_figures/figure_110.html\"\n",
       "    frameborder=\"0\"\n",
       "    allowfullscreen\n",
       "></iframe>\n"
      ]
     },
     "metadata": {},
     "output_type": "display_data"
    }
   ],
   "source": [
    "fig = px.scatter(df, x=\"hour\", y=\"cnt\", color='is_holiday')\n",
    "fig.show()"
   ]
  },
  {
   "cell_type": "markdown",
   "id": "4bd5a297-c894-4349-a796-94602b6bbe3a",
   "metadata": {},
   "source": [
    "- On the mornings between 8-10, and on the afternoons between 17-18 are the peak hours for bike sharing.\n",
    "- We can make different speculations based on this result, such as before going to work or school and after school or work would be the peak hours for sharing bike.\n",
    "- But still we need more variables to justify our assumptions."
   ]
  },
  {
   "cell_type": "code",
   "execution_count": 111,
   "id": "ef60b640-f342-4d70-8e4a-c00fe5de7036",
   "metadata": {},
   "outputs": [
    {
     "data": {
      "text/html": [
       "<iframe\n",
       "    scrolling=\"no\"\n",
       "    width=\"100%\"\n",
       "    height=\"545px\"\n",
       "    src=\"iframe_figures/figure_111.html\"\n",
       "    frameborder=\"0\"\n",
       "    allowfullscreen\n",
       "></iframe>\n"
      ]
     },
     "metadata": {},
     "output_type": "display_data"
    }
   ],
   "source": [
    "fig = px.scatter(df, x=\"hour\", y=\"cnt\", color='is_weekend')\n",
    "fig.show()"
   ]
  },
  {
   "cell_type": "markdown",
   "id": "712aa5a2-26d7-44a3-9093-40f949d91510",
   "metadata": {},
   "source": [
    "- During the wekend we have another result to look for it.\n",
    "- Weekend time between 10-16 are the peak time to share a bike.\n",
    "- Yeah, also during the midnight, somebody needs a ride !!!"
   ]
  },
  {
   "cell_type": "code",
   "execution_count": 114,
   "id": "ca821800-01c3-4b27-9101-1e9d8847408c",
   "metadata": {},
   "outputs": [
    {
     "data": {
      "text/html": [
       "<iframe\n",
       "    scrolling=\"no\"\n",
       "    width=\"100%\"\n",
       "    height=\"545px\"\n",
       "    src=\"iframe_figures/figure_114.html\"\n",
       "    frameborder=\"0\"\n",
       "    allowfullscreen\n",
       "></iframe>\n"
      ]
     },
     "metadata": {},
     "output_type": "display_data"
    }
   ],
   "source": [
    "fig = px.scatter(df, x=\"day_of_week\", y=\"cnt\", color='is_weekend', hover_data = df[['hour']])\n",
    "fig.show()"
   ]
  },
  {
   "cell_type": "markdown",
   "id": "230a57e9-2ca4-4401-b1ff-be1914063957",
   "metadata": {},
   "source": [
    "- Except Thurdays, almost same distribution during the weekdays.\n",
    "- Thursdays have the peaks at the morning 8.a.m and afternoons between 16-18."
   ]
  },
  {
   "cell_type": "markdown",
   "id": "349d7110-6a1c-4f71-980f-97c002a708ff",
   "metadata": {
    "papermill": {
     "duration": 0.074845,
     "end_time": "2021-07-09T20:50:42.242001",
     "exception": false,
     "start_time": "2021-07-09T20:50:42.167156",
     "status": "completed"
    },
    "tags": []
   },
   "source": [
    "- Thanks for the dataset contibutor for this data. I really enjoyed working on it."
   ]
  },
  {
   "cell_type": "markdown",
   "id": "bba10b15-806a-4851-8ebc-fa2eaa3d4d74",
   "metadata": {
    "papermill": {
     "duration": 0.074981,
     "end_time": "2021-07-09T20:50:42.392494",
     "exception": false,
     "start_time": "2021-07-09T20:50:42.317513",
     "status": "completed"
    },
    "tags": []
   },
   "source": [
    "- It was a quite pleasure to share with you this detailed, beginner friendly EDA. Thanks for your time.\n",
    "\n",
    "- All the best "
   ]
  }
 ],
 "metadata": {
  "kernelspec": {
   "display_name": "Python 3",
   "language": "python",
   "name": "python3"
  },
  "language_info": {
   "codemirror_mode": {
    "name": "ipython",
    "version": 3
   },
   "file_extension": ".py",
   "mimetype": "text/x-python",
   "name": "python",
   "nbconvert_exporter": "python",
   "pygments_lexer": "ipython3",
   "version": "3.8.10"
  }
 },
 "nbformat": 4,
 "nbformat_minor": 5
}
