{
 "cells": [
  {
   "cell_type": "markdown",
   "id": "noble-function",
   "metadata": {
    "papermill": {
     "duration": 0.103974,
     "end_time": "2021-07-06T15:49:20.879071",
     "exception": false,
     "start_time": "2021-07-06T15:49:20.775097",
     "status": "completed"
    },
    "tags": []
   },
   "source": [
    "- This Exploratory Data Analysis (EDA) will focus on overall Data Analyst job title, job description, salary estimate"
   ]
  },
  {
   "cell_type": "markdown",
   "id": "fundamental-evidence",
   "metadata": {
    "_kg_hide-input": true,
    "papermill": {
     "duration": 0.09444,
     "end_time": "2021-07-06T15:49:21.068941",
     "exception": false,
     "start_time": "2021-07-06T15:49:20.974501",
     "status": "completed"
    },
    "tags": []
   },
   "source": [
    "- Let's import the required libraries"
   ]
  },
  {
   "cell_type": "code",
   "execution_count": 1,
   "id": "fuzzy-portfolio",
   "metadata": {
    "_kg_hide-input": true,
    "papermill": {
     "duration": 3.818037,
     "end_time": "2021-07-06T15:49:24.982477",
     "exception": false,
     "start_time": "2021-07-06T15:49:21.164440",
     "status": "completed"
    },
    "tags": []
   },
   "outputs": [],
   "source": [
    "import pandas as pd\n",
    "import numpy as np\n",
    "\n",
    "import matplotlib.pyplot as plt \n",
    "import seaborn as sns \n",
    "import matplotlib as mpl\n",
    "\n",
    "import plotly.io as pio\n",
    "pio.renderers.default = 'iframe'\n",
    "\n",
    "import plotly \n",
    "import plotly.express as px\n",
    "import plotly.graph_objs as go\n",
    "import plotly.offline as py\n",
    "from plotly.offline import iplot\n",
    "from plotly.subplots import make_subplots\n",
    "import plotly.figure_factory as ff\n",
    "\n",
    "\n",
    "import warnings\n",
    "warnings.filterwarnings('ignore') "
   ]
  },
  {
   "cell_type": "markdown",
   "id": "written-ivory",
   "metadata": {
    "papermill": {
     "duration": 0.094892,
     "end_time": "2021-07-06T15:49:25.172227",
     "exception": false,
     "start_time": "2021-07-06T15:49:25.077335",
     "status": "completed"
    },
    "tags": []
   },
   "source": [
    "### Overview Stage\n",
    "\n",
    "- Read the csv\n",
    "- Look for basic information about the dataset"
   ]
  },
  {
   "cell_type": "code",
   "execution_count": 2,
   "id": "union-address",
   "metadata": {
    "_kg_hide-input": true,
    "papermill": {
     "duration": 0.324177,
     "end_time": "2021-07-06T15:49:25.592424",
     "exception": false,
     "start_time": "2021-07-06T15:49:25.268247",
     "status": "completed"
    },
    "tags": []
   },
   "outputs": [],
   "source": [
    "df = pd.read_csv('DataAnalyst.csv')"
   ]
  },
  {
   "cell_type": "code",
   "execution_count": 3,
   "id": "induced-spectacular",
   "metadata": {
    "_kg_hide-input": true,
    "papermill": {
     "duration": 0.136199,
     "end_time": "2021-07-06T15:49:25.823712",
     "exception": false,
     "start_time": "2021-07-06T15:49:25.687513",
     "status": "completed"
    },
    "tags": []
   },
   "outputs": [
    {
     "data": {
      "text/html": [
       "<div>\n",
       "<style scoped>\n",
       "    .dataframe tbody tr th:only-of-type {\n",
       "        vertical-align: middle;\n",
       "    }\n",
       "\n",
       "    .dataframe tbody tr th {\n",
       "        vertical-align: top;\n",
       "    }\n",
       "\n",
       "    .dataframe thead th {\n",
       "        text-align: right;\n",
       "    }\n",
       "</style>\n",
       "<table border=\"1\" class=\"dataframe\">\n",
       "  <thead>\n",
       "    <tr style=\"text-align: right;\">\n",
       "      <th></th>\n",
       "      <th>Unnamed: 0</th>\n",
       "      <th>Job Title</th>\n",
       "      <th>Salary Estimate</th>\n",
       "      <th>Job Description</th>\n",
       "      <th>Rating</th>\n",
       "      <th>Company Name</th>\n",
       "      <th>Location</th>\n",
       "      <th>Headquarters</th>\n",
       "      <th>Size</th>\n",
       "      <th>Founded</th>\n",
       "      <th>Type of ownership</th>\n",
       "      <th>Industry</th>\n",
       "      <th>Sector</th>\n",
       "      <th>Revenue</th>\n",
       "      <th>Competitors</th>\n",
       "      <th>Easy Apply</th>\n",
       "    </tr>\n",
       "  </thead>\n",
       "  <tbody>\n",
       "    <tr>\n",
       "      <th>0</th>\n",
       "      <td>0</td>\n",
       "      <td>Data Analyst, Center on Immigration and Justic...</td>\n",
       "      <td>$37K-$66K (Glassdoor est.)</td>\n",
       "      <td>Are you eager to roll up your sleeves and harn...</td>\n",
       "      <td>3.2</td>\n",
       "      <td>Vera Institute of Justice\\n3.2</td>\n",
       "      <td>New York, NY</td>\n",
       "      <td>New York, NY</td>\n",
       "      <td>201 to 500 employees</td>\n",
       "      <td>1961</td>\n",
       "      <td>Nonprofit Organization</td>\n",
       "      <td>Social Assistance</td>\n",
       "      <td>Non-Profit</td>\n",
       "      <td>$100 to $500 million (USD)</td>\n",
       "      <td>-1</td>\n",
       "      <td>True</td>\n",
       "    </tr>\n",
       "    <tr>\n",
       "      <th>1</th>\n",
       "      <td>1</td>\n",
       "      <td>Quality Data Analyst</td>\n",
       "      <td>$37K-$66K (Glassdoor est.)</td>\n",
       "      <td>Overview\\n\\nProvides analytical and technical ...</td>\n",
       "      <td>3.8</td>\n",
       "      <td>Visiting Nurse Service of New York\\n3.8</td>\n",
       "      <td>New York, NY</td>\n",
       "      <td>New York, NY</td>\n",
       "      <td>10000+ employees</td>\n",
       "      <td>1893</td>\n",
       "      <td>Nonprofit Organization</td>\n",
       "      <td>Health Care Services &amp; Hospitals</td>\n",
       "      <td>Health Care</td>\n",
       "      <td>$2 to $5 billion (USD)</td>\n",
       "      <td>-1</td>\n",
       "      <td>-1</td>\n",
       "    </tr>\n",
       "    <tr>\n",
       "      <th>2</th>\n",
       "      <td>2</td>\n",
       "      <td>Senior Data Analyst, Insights &amp; Analytics Team...</td>\n",
       "      <td>$37K-$66K (Glassdoor est.)</td>\n",
       "      <td>We’re looking for a Senior Data Analyst who ha...</td>\n",
       "      <td>3.4</td>\n",
       "      <td>Squarespace\\n3.4</td>\n",
       "      <td>New York, NY</td>\n",
       "      <td>New York, NY</td>\n",
       "      <td>1001 to 5000 employees</td>\n",
       "      <td>2003</td>\n",
       "      <td>Company - Private</td>\n",
       "      <td>Internet</td>\n",
       "      <td>Information Technology</td>\n",
       "      <td>Unknown / Non-Applicable</td>\n",
       "      <td>GoDaddy</td>\n",
       "      <td>-1</td>\n",
       "    </tr>\n",
       "    <tr>\n",
       "      <th>3</th>\n",
       "      <td>3</td>\n",
       "      <td>Data Analyst</td>\n",
       "      <td>$37K-$66K (Glassdoor est.)</td>\n",
       "      <td>Requisition NumberRR-0001939\\nRemote:Yes\\nWe c...</td>\n",
       "      <td>4.1</td>\n",
       "      <td>Celerity\\n4.1</td>\n",
       "      <td>New York, NY</td>\n",
       "      <td>McLean, VA</td>\n",
       "      <td>201 to 500 employees</td>\n",
       "      <td>2002</td>\n",
       "      <td>Subsidiary or Business Segment</td>\n",
       "      <td>IT Services</td>\n",
       "      <td>Information Technology</td>\n",
       "      <td>$50 to $100 million (USD)</td>\n",
       "      <td>-1</td>\n",
       "      <td>-1</td>\n",
       "    </tr>\n",
       "    <tr>\n",
       "      <th>4</th>\n",
       "      <td>4</td>\n",
       "      <td>Reporting Data Analyst</td>\n",
       "      <td>$37K-$66K (Glassdoor est.)</td>\n",
       "      <td>ABOUT FANDUEL GROUP\\n\\nFanDuel Group is a worl...</td>\n",
       "      <td>3.9</td>\n",
       "      <td>FanDuel\\n3.9</td>\n",
       "      <td>New York, NY</td>\n",
       "      <td>New York, NY</td>\n",
       "      <td>501 to 1000 employees</td>\n",
       "      <td>2009</td>\n",
       "      <td>Company - Private</td>\n",
       "      <td>Sports &amp; Recreation</td>\n",
       "      <td>Arts, Entertainment &amp; Recreation</td>\n",
       "      <td>$100 to $500 million (USD)</td>\n",
       "      <td>DraftKings</td>\n",
       "      <td>True</td>\n",
       "    </tr>\n",
       "  </tbody>\n",
       "</table>\n",
       "</div>"
      ],
      "text/plain": [
       "   Unnamed: 0                                          Job Title  \\\n",
       "0           0  Data Analyst, Center on Immigration and Justic...   \n",
       "1           1                               Quality Data Analyst   \n",
       "2           2  Senior Data Analyst, Insights & Analytics Team...   \n",
       "3           3                                       Data Analyst   \n",
       "4           4                             Reporting Data Analyst   \n",
       "\n",
       "              Salary Estimate  \\\n",
       "0  $37K-$66K (Glassdoor est.)   \n",
       "1  $37K-$66K (Glassdoor est.)   \n",
       "2  $37K-$66K (Glassdoor est.)   \n",
       "3  $37K-$66K (Glassdoor est.)   \n",
       "4  $37K-$66K (Glassdoor est.)   \n",
       "\n",
       "                                     Job Description  Rating  \\\n",
       "0  Are you eager to roll up your sleeves and harn...     3.2   \n",
       "1  Overview\\n\\nProvides analytical and technical ...     3.8   \n",
       "2  We’re looking for a Senior Data Analyst who ha...     3.4   \n",
       "3  Requisition NumberRR-0001939\\nRemote:Yes\\nWe c...     4.1   \n",
       "4  ABOUT FANDUEL GROUP\\n\\nFanDuel Group is a worl...     3.9   \n",
       "\n",
       "                              Company Name      Location  Headquarters  \\\n",
       "0           Vera Institute of Justice\\n3.2  New York, NY  New York, NY   \n",
       "1  Visiting Nurse Service of New York\\n3.8  New York, NY  New York, NY   \n",
       "2                         Squarespace\\n3.4  New York, NY  New York, NY   \n",
       "3                            Celerity\\n4.1  New York, NY    McLean, VA   \n",
       "4                             FanDuel\\n3.9  New York, NY  New York, NY   \n",
       "\n",
       "                     Size  Founded               Type of ownership  \\\n",
       "0    201 to 500 employees     1961          Nonprofit Organization   \n",
       "1        10000+ employees     1893          Nonprofit Organization   \n",
       "2  1001 to 5000 employees     2003               Company - Private   \n",
       "3    201 to 500 employees     2002  Subsidiary or Business Segment   \n",
       "4   501 to 1000 employees     2009               Company - Private   \n",
       "\n",
       "                           Industry                            Sector  \\\n",
       "0                 Social Assistance                        Non-Profit   \n",
       "1  Health Care Services & Hospitals                       Health Care   \n",
       "2                          Internet            Information Technology   \n",
       "3                       IT Services            Information Technology   \n",
       "4               Sports & Recreation  Arts, Entertainment & Recreation   \n",
       "\n",
       "                      Revenue Competitors Easy Apply  \n",
       "0  $100 to $500 million (USD)          -1       True  \n",
       "1      $2 to $5 billion (USD)          -1         -1  \n",
       "2    Unknown / Non-Applicable     GoDaddy         -1  \n",
       "3   $50 to $100 million (USD)          -1         -1  \n",
       "4  $100 to $500 million (USD)  DraftKings       True  "
      ]
     },
     "execution_count": 3,
     "metadata": {},
     "output_type": "execute_result"
    }
   ],
   "source": [
    "df.head()"
   ]
  },
  {
   "cell_type": "code",
   "execution_count": 4,
   "id": "electric-eugene",
   "metadata": {
    "_kg_hide-input": true,
    "papermill": {
     "duration": 0.128001,
     "end_time": "2021-07-06T15:49:26.048344",
     "exception": false,
     "start_time": "2021-07-06T15:49:25.920343",
     "status": "completed"
    },
    "tags": []
   },
   "outputs": [
    {
     "name": "stdout",
     "output_type": "stream",
     "text": [
      "<class 'pandas.core.frame.DataFrame'>\n",
      "RangeIndex: 2253 entries, 0 to 2252\n",
      "Data columns (total 16 columns):\n",
      " #   Column             Non-Null Count  Dtype  \n",
      "---  ------             --------------  -----  \n",
      " 0   Unnamed: 0         2253 non-null   int64  \n",
      " 1   Job Title          2253 non-null   object \n",
      " 2   Salary Estimate    2253 non-null   object \n",
      " 3   Job Description    2253 non-null   object \n",
      " 4   Rating             2253 non-null   float64\n",
      " 5   Company Name       2252 non-null   object \n",
      " 6   Location           2253 non-null   object \n",
      " 7   Headquarters       2253 non-null   object \n",
      " 8   Size               2253 non-null   object \n",
      " 9   Founded            2253 non-null   int64  \n",
      " 10  Type of ownership  2253 non-null   object \n",
      " 11  Industry           2253 non-null   object \n",
      " 12  Sector             2253 non-null   object \n",
      " 13  Revenue            2253 non-null   object \n",
      " 14  Competitors        2253 non-null   object \n",
      " 15  Easy Apply         2253 non-null   object \n",
      "dtypes: float64(1), int64(2), object(13)\n",
      "memory usage: 281.8+ KB\n"
     ]
    }
   ],
   "source": [
    "df.info()"
   ]
  },
  {
   "cell_type": "markdown",
   "id": "satisfied-apache",
   "metadata": {
    "papermill": {
     "duration": 0.096393,
     "end_time": "2021-07-06T15:49:26.241400",
     "exception": false,
     "start_time": "2021-07-06T15:49:26.145007",
     "status": "completed"
    },
    "tags": []
   },
   "source": [
    "- Even though we have information about the salary ('Salary Estimate'), it is not in the numeric version, same for 'Size' and 'Revenue'\n",
    "\n",
    "- Based on our research interest we can make arrangments on these variables\n"
   ]
  },
  {
   "cell_type": "markdown",
   "id": "transsexual-stuart",
   "metadata": {
    "papermill": {
     "duration": 0.095543,
     "end_time": "2021-07-06T15:49:26.433389",
     "exception": false,
     "start_time": "2021-07-06T15:49:26.337846",
     "status": "completed"
    },
    "tags": []
   },
   "source": [
    "### Preparing dataset for the EDA\n",
    "\n",
    "- Look for the missing values\n",
    "- Look for the area of interest (based on the research question we have)\n",
    "- Make adjustments"
   ]
  },
  {
   "cell_type": "markdown",
   "id": "entitled-technical",
   "metadata": {
    "papermill": {
     "duration": 0.09717,
     "end_time": "2021-07-06T15:49:26.626922",
     "exception": false,
     "start_time": "2021-07-06T15:49:26.529752",
     "status": "completed"
    },
    "tags": []
   },
   "source": [
    "- Let's look at the missing values"
   ]
  },
  {
   "cell_type": "code",
   "execution_count": 5,
   "id": "athletic-extra",
   "metadata": {
    "_kg_hide-input": true,
    "papermill": {
     "duration": 0.112692,
     "end_time": "2021-07-06T15:49:26.835896",
     "exception": false,
     "start_time": "2021-07-06T15:49:26.723204",
     "status": "completed"
    },
    "tags": []
   },
   "outputs": [
    {
     "data": {
      "text/plain": [
       "Unnamed: 0           0\n",
       "Job Title            0\n",
       "Salary Estimate      0\n",
       "Job Description      0\n",
       "Rating               0\n",
       "Company Name         1\n",
       "Location             0\n",
       "Headquarters         0\n",
       "Size                 0\n",
       "Founded              0\n",
       "Type of ownership    0\n",
       "Industry             0\n",
       "Sector               0\n",
       "Revenue              0\n",
       "Competitors          0\n",
       "Easy Apply           0\n",
       "dtype: int64"
      ]
     },
     "execution_count": 5,
     "metadata": {},
     "output_type": "execute_result"
    }
   ],
   "source": [
    "df.isnull().sum()"
   ]
  },
  {
   "cell_type": "markdown",
   "id": "different-bulgaria",
   "metadata": {
    "papermill": {
     "duration": 0.096916,
     "end_time": "2021-07-06T15:49:27.030723",
     "exception": false,
     "start_time": "2021-07-06T15:49:26.933807",
     "status": "completed"
    },
    "tags": []
   },
   "source": [
    "- Do we have only 1 missing value ?"
   ]
  },
  {
   "cell_type": "markdown",
   "id": "spiritual-channels",
   "metadata": {
    "papermill": {
     "duration": 0.097437,
     "end_time": "2021-07-06T15:49:27.226014",
     "exception": false,
     "start_time": "2021-07-06T15:49:27.128577",
     "status": "completed"
    },
    "tags": []
   },
   "source": [
    "- Nope. Even we look at the top 5 rows of the data we can easily see (-1). \n",
    "- Most of the time in the real world datasets, unknown and missing values are not recorded like sofware recognizable version of the missing value. Usually, as a data person, we have to detect and deal with them.\n",
    "- So let's make (-1) as a mising value"
   ]
  },
  {
   "cell_type": "code",
   "execution_count": 6,
   "id": "automotive-experience",
   "metadata": {
    "_kg_hide-input": true,
    "papermill": {
     "duration": 0.137308,
     "end_time": "2021-07-06T15:49:27.461564",
     "exception": false,
     "start_time": "2021-07-06T15:49:27.324256",
     "status": "completed"
    },
    "tags": []
   },
   "outputs": [
    {
     "data": {
      "text/html": [
       "<div>\n",
       "<style scoped>\n",
       "    .dataframe tbody tr th:only-of-type {\n",
       "        vertical-align: middle;\n",
       "    }\n",
       "\n",
       "    .dataframe tbody tr th {\n",
       "        vertical-align: top;\n",
       "    }\n",
       "\n",
       "    .dataframe thead th {\n",
       "        text-align: right;\n",
       "    }\n",
       "</style>\n",
       "<table border=\"1\" class=\"dataframe\">\n",
       "  <thead>\n",
       "    <tr style=\"text-align: right;\">\n",
       "      <th></th>\n",
       "      <th>Unnamed: 0</th>\n",
       "      <th>Job Title</th>\n",
       "      <th>Salary Estimate</th>\n",
       "      <th>Job Description</th>\n",
       "      <th>Rating</th>\n",
       "      <th>Company Name</th>\n",
       "      <th>Location</th>\n",
       "      <th>Headquarters</th>\n",
       "      <th>Size</th>\n",
       "      <th>Founded</th>\n",
       "      <th>Type of ownership</th>\n",
       "      <th>Industry</th>\n",
       "      <th>Sector</th>\n",
       "      <th>Revenue</th>\n",
       "      <th>Competitors</th>\n",
       "      <th>Easy Apply</th>\n",
       "    </tr>\n",
       "  </thead>\n",
       "  <tbody>\n",
       "    <tr>\n",
       "      <th>0</th>\n",
       "      <td>0</td>\n",
       "      <td>Data Analyst, Center on Immigration and Justic...</td>\n",
       "      <td>$37K-$66K (Glassdoor est.)</td>\n",
       "      <td>Are you eager to roll up your sleeves and harn...</td>\n",
       "      <td>3.2</td>\n",
       "      <td>Vera Institute of Justice\\n3.2</td>\n",
       "      <td>New York, NY</td>\n",
       "      <td>New York, NY</td>\n",
       "      <td>201 to 500 employees</td>\n",
       "      <td>1961</td>\n",
       "      <td>Nonprofit Organization</td>\n",
       "      <td>Social Assistance</td>\n",
       "      <td>Non-Profit</td>\n",
       "      <td>$100 to $500 million (USD)</td>\n",
       "      <td>NaN</td>\n",
       "      <td>True</td>\n",
       "    </tr>\n",
       "    <tr>\n",
       "      <th>1</th>\n",
       "      <td>1</td>\n",
       "      <td>Quality Data Analyst</td>\n",
       "      <td>$37K-$66K (Glassdoor est.)</td>\n",
       "      <td>Overview\\n\\nProvides analytical and technical ...</td>\n",
       "      <td>3.8</td>\n",
       "      <td>Visiting Nurse Service of New York\\n3.8</td>\n",
       "      <td>New York, NY</td>\n",
       "      <td>New York, NY</td>\n",
       "      <td>10000+ employees</td>\n",
       "      <td>1893</td>\n",
       "      <td>Nonprofit Organization</td>\n",
       "      <td>Health Care Services &amp; Hospitals</td>\n",
       "      <td>Health Care</td>\n",
       "      <td>$2 to $5 billion (USD)</td>\n",
       "      <td>NaN</td>\n",
       "      <td>NaN</td>\n",
       "    </tr>\n",
       "    <tr>\n",
       "      <th>2</th>\n",
       "      <td>2</td>\n",
       "      <td>Senior Data Analyst, Insights &amp; Analytics Team...</td>\n",
       "      <td>$37K-$66K (Glassdoor est.)</td>\n",
       "      <td>We’re looking for a Senior Data Analyst who ha...</td>\n",
       "      <td>3.4</td>\n",
       "      <td>Squarespace\\n3.4</td>\n",
       "      <td>New York, NY</td>\n",
       "      <td>New York, NY</td>\n",
       "      <td>1001 to 5000 employees</td>\n",
       "      <td>2003</td>\n",
       "      <td>Company - Private</td>\n",
       "      <td>Internet</td>\n",
       "      <td>Information Technology</td>\n",
       "      <td>Unknown / Non-Applicable</td>\n",
       "      <td>GoDaddy</td>\n",
       "      <td>NaN</td>\n",
       "    </tr>\n",
       "    <tr>\n",
       "      <th>3</th>\n",
       "      <td>3</td>\n",
       "      <td>Data Analyst</td>\n",
       "      <td>$37K-$66K (Glassdoor est.)</td>\n",
       "      <td>Requisition NumberRR-0001939\\nRemote:Yes\\nWe c...</td>\n",
       "      <td>4.1</td>\n",
       "      <td>Celerity\\n4.1</td>\n",
       "      <td>New York, NY</td>\n",
       "      <td>McLean, VA</td>\n",
       "      <td>201 to 500 employees</td>\n",
       "      <td>2002</td>\n",
       "      <td>Subsidiary or Business Segment</td>\n",
       "      <td>IT Services</td>\n",
       "      <td>Information Technology</td>\n",
       "      <td>$50 to $100 million (USD)</td>\n",
       "      <td>NaN</td>\n",
       "      <td>NaN</td>\n",
       "    </tr>\n",
       "    <tr>\n",
       "      <th>4</th>\n",
       "      <td>4</td>\n",
       "      <td>Reporting Data Analyst</td>\n",
       "      <td>$37K-$66K (Glassdoor est.)</td>\n",
       "      <td>ABOUT FANDUEL GROUP\\n\\nFanDuel Group is a worl...</td>\n",
       "      <td>3.9</td>\n",
       "      <td>FanDuel\\n3.9</td>\n",
       "      <td>New York, NY</td>\n",
       "      <td>New York, NY</td>\n",
       "      <td>501 to 1000 employees</td>\n",
       "      <td>2009</td>\n",
       "      <td>Company - Private</td>\n",
       "      <td>Sports &amp; Recreation</td>\n",
       "      <td>Arts, Entertainment &amp; Recreation</td>\n",
       "      <td>$100 to $500 million (USD)</td>\n",
       "      <td>DraftKings</td>\n",
       "      <td>True</td>\n",
       "    </tr>\n",
       "    <tr>\n",
       "      <th>...</th>\n",
       "      <td>...</td>\n",
       "      <td>...</td>\n",
       "      <td>...</td>\n",
       "      <td>...</td>\n",
       "      <td>...</td>\n",
       "      <td>...</td>\n",
       "      <td>...</td>\n",
       "      <td>...</td>\n",
       "      <td>...</td>\n",
       "      <td>...</td>\n",
       "      <td>...</td>\n",
       "      <td>...</td>\n",
       "      <td>...</td>\n",
       "      <td>...</td>\n",
       "      <td>...</td>\n",
       "      <td>...</td>\n",
       "    </tr>\n",
       "    <tr>\n",
       "      <th>2248</th>\n",
       "      <td>2248</td>\n",
       "      <td>RQS - IHHA - 201900004460 -1q Data Security An...</td>\n",
       "      <td>$78K-$104K (Glassdoor est.)</td>\n",
       "      <td>Maintains systems to protect data from unautho...</td>\n",
       "      <td>2.5</td>\n",
       "      <td>Avacend, Inc.\\n2.5</td>\n",
       "      <td>Denver, CO</td>\n",
       "      <td>Alpharetta, GA</td>\n",
       "      <td>51 to 200 employees</td>\n",
       "      <td>-1</td>\n",
       "      <td>Company - Private</td>\n",
       "      <td>Staffing &amp; Outsourcing</td>\n",
       "      <td>Business Services</td>\n",
       "      <td>Unknown / Non-Applicable</td>\n",
       "      <td>NaN</td>\n",
       "      <td>NaN</td>\n",
       "    </tr>\n",
       "    <tr>\n",
       "      <th>2249</th>\n",
       "      <td>2249</td>\n",
       "      <td>Senior Data Analyst (Corporate Audit)</td>\n",
       "      <td>$78K-$104K (Glassdoor est.)</td>\n",
       "      <td>Position:\\nSenior Data Analyst (Corporate Audi...</td>\n",
       "      <td>2.9</td>\n",
       "      <td>Arrow Electronics\\n2.9</td>\n",
       "      <td>Centennial, CO</td>\n",
       "      <td>Centennial, CO</td>\n",
       "      <td>10000+ employees</td>\n",
       "      <td>1935</td>\n",
       "      <td>Company - Public</td>\n",
       "      <td>Wholesale</td>\n",
       "      <td>Business Services</td>\n",
       "      <td>$10+ billion (USD)</td>\n",
       "      <td>Avnet, Ingram Micro, Tech Data</td>\n",
       "      <td>NaN</td>\n",
       "    </tr>\n",
       "    <tr>\n",
       "      <th>2250</th>\n",
       "      <td>2250</td>\n",
       "      <td>Technical Business Analyst (SQL, Data analytic...</td>\n",
       "      <td>$78K-$104K (Glassdoor est.)</td>\n",
       "      <td>Title: Technical Business Analyst (SQL, Data a...</td>\n",
       "      <td>-1.0</td>\n",
       "      <td>Spiceorb</td>\n",
       "      <td>Denver, CO</td>\n",
       "      <td>NaN</td>\n",
       "      <td>NaN</td>\n",
       "      <td>-1</td>\n",
       "      <td>NaN</td>\n",
       "      <td>NaN</td>\n",
       "      <td>NaN</td>\n",
       "      <td>NaN</td>\n",
       "      <td>NaN</td>\n",
       "      <td>NaN</td>\n",
       "    </tr>\n",
       "    <tr>\n",
       "      <th>2251</th>\n",
       "      <td>2251</td>\n",
       "      <td>Data Analyst 3, Customer Experience</td>\n",
       "      <td>$78K-$104K (Glassdoor est.)</td>\n",
       "      <td>Summary\\n\\nResponsible for working cross-funct...</td>\n",
       "      <td>3.1</td>\n",
       "      <td>Contingent Network Services\\n3.1</td>\n",
       "      <td>Centennial, CO</td>\n",
       "      <td>West Chester, OH</td>\n",
       "      <td>201 to 500 employees</td>\n",
       "      <td>1984</td>\n",
       "      <td>Company - Private</td>\n",
       "      <td>Enterprise Software &amp; Network Solutions</td>\n",
       "      <td>Information Technology</td>\n",
       "      <td>$25 to $50 million (USD)</td>\n",
       "      <td>NaN</td>\n",
       "      <td>NaN</td>\n",
       "    </tr>\n",
       "    <tr>\n",
       "      <th>2252</th>\n",
       "      <td>2252</td>\n",
       "      <td>Senior Quality Data Analyst</td>\n",
       "      <td>$78K-$104K (Glassdoor est.)</td>\n",
       "      <td>You.\\n\\nYou bring your body, mind, heart and s...</td>\n",
       "      <td>3.4</td>\n",
       "      <td>SCL Health\\n3.4</td>\n",
       "      <td>Broomfield, CO</td>\n",
       "      <td>Broomfield, CO</td>\n",
       "      <td>10000+ employees</td>\n",
       "      <td>1864</td>\n",
       "      <td>Nonprofit Organization</td>\n",
       "      <td>Health Care Services &amp; Hospitals</td>\n",
       "      <td>Health Care</td>\n",
       "      <td>$2 to $5 billion (USD)</td>\n",
       "      <td>Centura Health, HealthONE, Denver Health and H...</td>\n",
       "      <td>NaN</td>\n",
       "    </tr>\n",
       "  </tbody>\n",
       "</table>\n",
       "<p>2253 rows × 16 columns</p>\n",
       "</div>"
      ],
      "text/plain": [
       "      Unnamed: 0                                          Job Title  \\\n",
       "0              0  Data Analyst, Center on Immigration and Justic...   \n",
       "1              1                               Quality Data Analyst   \n",
       "2              2  Senior Data Analyst, Insights & Analytics Team...   \n",
       "3              3                                       Data Analyst   \n",
       "4              4                             Reporting Data Analyst   \n",
       "...          ...                                                ...   \n",
       "2248        2248  RQS - IHHA - 201900004460 -1q Data Security An...   \n",
       "2249        2249              Senior Data Analyst (Corporate Audit)   \n",
       "2250        2250  Technical Business Analyst (SQL, Data analytic...   \n",
       "2251        2251                Data Analyst 3, Customer Experience   \n",
       "2252        2252                        Senior Quality Data Analyst   \n",
       "\n",
       "                  Salary Estimate  \\\n",
       "0      $37K-$66K (Glassdoor est.)   \n",
       "1      $37K-$66K (Glassdoor est.)   \n",
       "2      $37K-$66K (Glassdoor est.)   \n",
       "3      $37K-$66K (Glassdoor est.)   \n",
       "4      $37K-$66K (Glassdoor est.)   \n",
       "...                           ...   \n",
       "2248  $78K-$104K (Glassdoor est.)   \n",
       "2249  $78K-$104K (Glassdoor est.)   \n",
       "2250  $78K-$104K (Glassdoor est.)   \n",
       "2251  $78K-$104K (Glassdoor est.)   \n",
       "2252  $78K-$104K (Glassdoor est.)   \n",
       "\n",
       "                                        Job Description  Rating  \\\n",
       "0     Are you eager to roll up your sleeves and harn...     3.2   \n",
       "1     Overview\\n\\nProvides analytical and technical ...     3.8   \n",
       "2     We’re looking for a Senior Data Analyst who ha...     3.4   \n",
       "3     Requisition NumberRR-0001939\\nRemote:Yes\\nWe c...     4.1   \n",
       "4     ABOUT FANDUEL GROUP\\n\\nFanDuel Group is a worl...     3.9   \n",
       "...                                                 ...     ...   \n",
       "2248  Maintains systems to protect data from unautho...     2.5   \n",
       "2249  Position:\\nSenior Data Analyst (Corporate Audi...     2.9   \n",
       "2250  Title: Technical Business Analyst (SQL, Data a...    -1.0   \n",
       "2251  Summary\\n\\nResponsible for working cross-funct...     3.1   \n",
       "2252  You.\\n\\nYou bring your body, mind, heart and s...     3.4   \n",
       "\n",
       "                                 Company Name        Location  \\\n",
       "0              Vera Institute of Justice\\n3.2    New York, NY   \n",
       "1     Visiting Nurse Service of New York\\n3.8    New York, NY   \n",
       "2                            Squarespace\\n3.4    New York, NY   \n",
       "3                               Celerity\\n4.1    New York, NY   \n",
       "4                                FanDuel\\n3.9    New York, NY   \n",
       "...                                       ...             ...   \n",
       "2248                       Avacend, Inc.\\n2.5      Denver, CO   \n",
       "2249                   Arrow Electronics\\n2.9  Centennial, CO   \n",
       "2250                                 Spiceorb      Denver, CO   \n",
       "2251         Contingent Network Services\\n3.1  Centennial, CO   \n",
       "2252                          SCL Health\\n3.4  Broomfield, CO   \n",
       "\n",
       "          Headquarters                    Size  Founded  \\\n",
       "0         New York, NY    201 to 500 employees     1961   \n",
       "1         New York, NY        10000+ employees     1893   \n",
       "2         New York, NY  1001 to 5000 employees     2003   \n",
       "3           McLean, VA    201 to 500 employees     2002   \n",
       "4         New York, NY   501 to 1000 employees     2009   \n",
       "...                ...                     ...      ...   \n",
       "2248    Alpharetta, GA     51 to 200 employees       -1   \n",
       "2249    Centennial, CO        10000+ employees     1935   \n",
       "2250               NaN                     NaN       -1   \n",
       "2251  West Chester, OH    201 to 500 employees     1984   \n",
       "2252    Broomfield, CO        10000+ employees     1864   \n",
       "\n",
       "                   Type of ownership                                 Industry  \\\n",
       "0             Nonprofit Organization                        Social Assistance   \n",
       "1             Nonprofit Organization         Health Care Services & Hospitals   \n",
       "2                  Company - Private                                 Internet   \n",
       "3     Subsidiary or Business Segment                              IT Services   \n",
       "4                  Company - Private                      Sports & Recreation   \n",
       "...                              ...                                      ...   \n",
       "2248               Company - Private                   Staffing & Outsourcing   \n",
       "2249                Company - Public                                Wholesale   \n",
       "2250                             NaN                                      NaN   \n",
       "2251               Company - Private  Enterprise Software & Network Solutions   \n",
       "2252          Nonprofit Organization         Health Care Services & Hospitals   \n",
       "\n",
       "                                Sector                     Revenue  \\\n",
       "0                           Non-Profit  $100 to $500 million (USD)   \n",
       "1                          Health Care      $2 to $5 billion (USD)   \n",
       "2               Information Technology    Unknown / Non-Applicable   \n",
       "3               Information Technology   $50 to $100 million (USD)   \n",
       "4     Arts, Entertainment & Recreation  $100 to $500 million (USD)   \n",
       "...                                ...                         ...   \n",
       "2248                 Business Services    Unknown / Non-Applicable   \n",
       "2249                 Business Services          $10+ billion (USD)   \n",
       "2250                               NaN                         NaN   \n",
       "2251            Information Technology    $25 to $50 million (USD)   \n",
       "2252                       Health Care      $2 to $5 billion (USD)   \n",
       "\n",
       "                                            Competitors Easy Apply  \n",
       "0                                                   NaN       True  \n",
       "1                                                   NaN        NaN  \n",
       "2                                               GoDaddy        NaN  \n",
       "3                                                   NaN        NaN  \n",
       "4                                            DraftKings       True  \n",
       "...                                                 ...        ...  \n",
       "2248                                                NaN        NaN  \n",
       "2249                     Avnet, Ingram Micro, Tech Data        NaN  \n",
       "2250                                                NaN        NaN  \n",
       "2251                                                NaN        NaN  \n",
       "2252  Centura Health, HealthONE, Denver Health and H...        NaN  \n",
       "\n",
       "[2253 rows x 16 columns]"
      ]
     },
     "execution_count": 6,
     "metadata": {},
     "output_type": "execute_result"
    }
   ],
   "source": [
    "df.replace('-1', np.nan)"
   ]
  },
  {
   "cell_type": "markdown",
   "id": "theoretical-inside",
   "metadata": {
    "papermill": {
     "duration": 0.099284,
     "end_time": "2021-07-06T15:49:27.665963",
     "exception": false,
     "start_time": "2021-07-06T15:49:27.566679",
     "status": "completed"
    },
    "tags": []
   },
   "source": [
    "- Are we done with the 'unrecognizable missing value detection job'\n",
    "- Sorry, I don't think so.\n",
    "- We have just dealt with str version of the (-1), but we can still see (-1) in the founded column, which is numeric type.\n",
    "- So we have to deal with all possible version of the (-1)"
   ]
  },
  {
   "cell_type": "code",
   "execution_count": 7,
   "id": "chicken-scratch",
   "metadata": {
    "_kg_hide-input": true,
    "papermill": {
     "duration": 0.110413,
     "end_time": "2021-07-06T15:49:27.874146",
     "exception": false,
     "start_time": "2021-07-06T15:49:27.763733",
     "status": "completed"
    },
    "tags": []
   },
   "outputs": [],
   "source": [
    "df.replace(-1, np.nan, inplace=True)"
   ]
  },
  {
   "cell_type": "code",
   "execution_count": 8,
   "id": "subtle-shanghai",
   "metadata": {
    "_kg_hide-input": true,
    "papermill": {
     "duration": 0.109618,
     "end_time": "2021-07-06T15:49:28.082324",
     "exception": false,
     "start_time": "2021-07-06T15:49:27.972706",
     "status": "completed"
    },
    "tags": []
   },
   "outputs": [],
   "source": [
    "df.replace('-1', np.nan, inplace=True)"
   ]
  },
  {
   "cell_type": "code",
   "execution_count": 9,
   "id": "complicated-portable",
   "metadata": {
    "_kg_hide-input": true,
    "papermill": {
     "duration": 0.108081,
     "end_time": "2021-07-06T15:49:28.289260",
     "exception": false,
     "start_time": "2021-07-06T15:49:28.181179",
     "status": "completed"
    },
    "tags": []
   },
   "outputs": [],
   "source": [
    "df.replace(-1.0, np.nan, inplace=True)"
   ]
  },
  {
   "cell_type": "markdown",
   "id": "finite-difference",
   "metadata": {
    "papermill": {
     "duration": 0.097117,
     "end_time": "2021-07-06T15:49:28.485331",
     "exception": false,
     "start_time": "2021-07-06T15:49:28.388214",
     "status": "completed"
    },
    "tags": []
   },
   "source": [
    "- Now let's see whether we still have only one missing value"
   ]
  },
  {
   "cell_type": "code",
   "execution_count": 10,
   "id": "meaning-things",
   "metadata": {
    "_kg_hide-input": true,
    "papermill": {
     "duration": 0.111598,
     "end_time": "2021-07-06T15:49:28.694004",
     "exception": false,
     "start_time": "2021-07-06T15:49:28.582406",
     "status": "completed"
    },
    "tags": []
   },
   "outputs": [
    {
     "data": {
      "text/plain": [
       "Unnamed: 0              0\n",
       "Job Title               0\n",
       "Salary Estimate         1\n",
       "Job Description         0\n",
       "Rating                272\n",
       "Company Name            1\n",
       "Location                0\n",
       "Headquarters          172\n",
       "Size                  163\n",
       "Founded               660\n",
       "Type of ownership     163\n",
       "Industry              353\n",
       "Sector                353\n",
       "Revenue               163\n",
       "Competitors          1732\n",
       "Easy Apply           2173\n",
       "dtype: int64"
      ]
     },
     "execution_count": 10,
     "metadata": {},
     "output_type": "execute_result"
    }
   ],
   "source": [
    "df.isnull().sum()"
   ]
  },
  {
   "cell_type": "markdown",
   "id": "ethical-meter",
   "metadata": {
    "papermill": {
     "duration": 0.098609,
     "end_time": "2021-07-06T15:49:28.890627",
     "exception": false,
     "start_time": "2021-07-06T15:49:28.792018",
     "status": "completed"
    },
    "tags": []
   },
   "source": [
    "- Yes, that's the reality of the real life data. "
   ]
  },
  {
   "cell_type": "markdown",
   "id": "junior-veteran",
   "metadata": {
    "papermill": {
     "duration": 0.098036,
     "end_time": "2021-07-06T15:49:29.087474",
     "exception": false,
     "start_time": "2021-07-06T15:49:28.989438",
     "status": "completed"
    },
    "tags": []
   },
   "source": [
    "In this EDA, we will focus on:\n",
    "   - Job Title\n",
    "   - Salary Estimate\n",
    "   - Job Description\n",
    "   - Rating\n",
    "   - Company name\n",
    "   - Industry\n",
    "   - Sector"
   ]
  },
  {
   "cell_type": "markdown",
   "id": "derived-merit",
   "metadata": {
    "papermill": {
     "duration": 0.09792,
     "end_time": "2021-07-06T15:49:29.283574",
     "exception": false,
     "start_time": "2021-07-06T15:49:29.185654",
     "status": "completed"
    },
    "tags": []
   },
   "source": [
    "- Let's look at the each variable in detail and make required adjustments."
   ]
  },
  {
   "cell_type": "markdown",
   "id": "split-hammer",
   "metadata": {
    "papermill": {
     "duration": 0.144163,
     "end_time": "2021-07-06T15:49:29.525736",
     "exception": false,
     "start_time": "2021-07-06T15:49:29.381573",
     "status": "completed"
    },
    "tags": []
   },
   "source": [
    "#### Job Title"
   ]
  },
  {
   "cell_type": "code",
   "execution_count": 11,
   "id": "isolated-asbestos",
   "metadata": {
    "_kg_hide-input": true,
    "papermill": {
     "duration": 0.110868,
     "end_time": "2021-07-06T15:49:29.734246",
     "exception": false,
     "start_time": "2021-07-06T15:49:29.623378",
     "status": "completed"
    },
    "tags": []
   },
   "outputs": [
    {
     "data": {
      "text/plain": [
       "Data Analyst                                                                                         405\n",
       "Senior Data Analyst                                                                                   90\n",
       "Junior Data Analyst                                                                                   30\n",
       "Business Data Analyst                                                                                 28\n",
       "Sr. Data Analyst                                                                                      21\n",
       "                                                                                                    ... \n",
       "Environmental Data Analyst - Disaster Recovery                                                         1\n",
       "Network Data Analyst                                                                                   1\n",
       "Data Standards Analyst in Seattle, Washington | Careers at Fred Hutchinson Cancer Research Center      1\n",
       "Data warehouse Business Systems Analyst                                                                1\n",
       "Sr. Healthcare Data Analyst                                                                            1\n",
       "Name: Job Title, Length: 1272, dtype: int64"
      ]
     },
     "execution_count": 11,
     "metadata": {},
     "output_type": "execute_result"
    }
   ],
   "source": [
    "df['Job Title'].value_counts()"
   ]
  },
  {
   "cell_type": "code",
   "execution_count": 12,
   "id": "trying-title",
   "metadata": {
    "_kg_hide-input": true,
    "papermill": {
     "duration": 0.114085,
     "end_time": "2021-07-06T15:49:29.947896",
     "exception": false,
     "start_time": "2021-07-06T15:49:29.833811",
     "status": "completed"
    },
    "tags": []
   },
   "outputs": [
    {
     "data": {
      "text/plain": [
       "Data Analyst               405\n",
       "Senior Data Analyst         90\n",
       "Junior Data Analyst         30\n",
       "Business Data Analyst       28\n",
       "Sr. Data Analyst            21\n",
       "Data Analyst Junior         17\n",
       "Data Quality Analyst        17\n",
       "Data Analyst II             17\n",
       "Data Governance Analyst     16\n",
       "Lead Data Analyst           15\n",
       "Data Reporting Analyst      13\n",
       "Financial Data Analyst      12\n",
       "Data Analyst III            11\n",
       "Data Analyst I              11\n",
       "Marketing Data Analyst       9\n",
       "Sr Data Analyst              9\n",
       "Data Management Analyst      8\n",
       "Data Warehouse Analyst       8\n",
       "Technical Data Analyst       7\n",
       "Data Science Analyst         7\n",
       "Name: Job Title, dtype: int64"
      ]
     },
     "execution_count": 12,
     "metadata": {},
     "output_type": "execute_result"
    }
   ],
   "source": [
    "df['Job Title'].value_counts()[:20]"
   ]
  },
  {
   "cell_type": "markdown",
   "id": "primary-black",
   "metadata": {
    "papermill": {
     "duration": 0.099416,
     "end_time": "2021-07-06T15:49:30.147261",
     "exception": false,
     "start_time": "2021-07-06T15:49:30.047845",
     "status": "completed"
    },
    "tags": []
   },
   "source": [
    "- As we have seen some of the naming in the job title can be renamed (such as Sr. --> Senior, Jr. ---> Junior)"
   ]
  },
  {
   "cell_type": "code",
   "execution_count": 13,
   "id": "light-childhood",
   "metadata": {
    "_kg_hide-input": true,
    "papermill": {
     "duration": 0.110004,
     "end_time": "2021-07-06T15:49:30.364821",
     "exception": false,
     "start_time": "2021-07-06T15:49:30.254817",
     "status": "completed"
    },
    "tags": []
   },
   "outputs": [],
   "source": [
    "df['Job Title']= df['Job Title'].str.replace ('Sr. Data Analyst','Senior Data Analyst')"
   ]
  },
  {
   "cell_type": "code",
   "execution_count": 14,
   "id": "literary-function",
   "metadata": {
    "_kg_hide-input": true,
    "papermill": {
     "duration": 0.112194,
     "end_time": "2021-07-06T15:49:30.574928",
     "exception": false,
     "start_time": "2021-07-06T15:49:30.462734",
     "status": "completed"
    },
    "tags": []
   },
   "outputs": [],
   "source": [
    "df['Job Title']= df['Job Title'].str.replace ('Sr Data Analyst','Senior Data Analyst')"
   ]
  },
  {
   "cell_type": "code",
   "execution_count": 15,
   "id": "ethical-insulation",
   "metadata": {
    "_kg_hide-input": true,
    "papermill": {
     "duration": 0.108911,
     "end_time": "2021-07-06T15:49:30.784808",
     "exception": false,
     "start_time": "2021-07-06T15:49:30.675897",
     "status": "completed"
    },
    "tags": []
   },
   "outputs": [],
   "source": [
    "df['Job Title']= df['Job Title'].str.replace ('Data Analyst Senior','Senior Data Analyst')"
   ]
  },
  {
   "cell_type": "code",
   "execution_count": 16,
   "id": "valued-botswana",
   "metadata": {
    "_kg_hide-input": true,
    "papermill": {
     "duration": 0.111481,
     "end_time": "2021-07-06T15:49:30.996565",
     "exception": false,
     "start_time": "2021-07-06T15:49:30.885084",
     "status": "completed"
    },
    "tags": []
   },
   "outputs": [],
   "source": [
    "df['Job Title']= df['Job Title'].str.replace ('Jr. Data Analyst','Junior Data Analyst')"
   ]
  },
  {
   "cell_type": "code",
   "execution_count": 17,
   "id": "miniature-omaha",
   "metadata": {
    "_kg_hide-input": true,
    "papermill": {
     "duration": 0.110575,
     "end_time": "2021-07-06T15:49:31.207342",
     "exception": false,
     "start_time": "2021-07-06T15:49:31.096767",
     "status": "completed"
    },
    "tags": []
   },
   "outputs": [],
   "source": [
    "df['Job Title']= df['Job Title'].str.replace ('Jr Data Analyst','Junior Data Analyst')"
   ]
  },
  {
   "cell_type": "code",
   "execution_count": 18,
   "id": "accomplished-coordinate",
   "metadata": {
    "_kg_hide-input": true,
    "papermill": {
     "duration": 0.109861,
     "end_time": "2021-07-06T15:49:31.417002",
     "exception": false,
     "start_time": "2021-07-06T15:49:31.307141",
     "status": "completed"
    },
    "tags": []
   },
   "outputs": [],
   "source": [
    "df['Job Title']= df['Job Title'].str.replace ('Data Analyst Junior','Junior Data Analyst')"
   ]
  },
  {
   "cell_type": "code",
   "execution_count": 19,
   "id": "desperate-destiny",
   "metadata": {
    "_kg_hide-input": true,
    "papermill": {
     "duration": 0.113624,
     "end_time": "2021-07-06T15:49:31.629556",
     "exception": false,
     "start_time": "2021-07-06T15:49:31.515932",
     "status": "completed"
    },
    "tags": []
   },
   "outputs": [
    {
     "data": {
      "text/plain": [
       "Data Analyst               405\n",
       "Senior Data Analyst        121\n",
       "Junior Data Analyst         50\n",
       "Business Data Analyst       28\n",
       "Data Quality Analyst        17\n",
       "Data Analyst II             17\n",
       "Data Governance Analyst     16\n",
       "Lead Data Analyst           15\n",
       "Data Reporting Analyst      13\n",
       "Financial Data Analyst      12\n",
       "Data Analyst III            11\n",
       "Data Analyst I              11\n",
       "Marketing Data Analyst       9\n",
       "Data Warehouse Analyst       8\n",
       "Data Management Analyst      8\n",
       "Technical Data Analyst       7\n",
       "SQL Data Analyst             7\n",
       "Data Science Analyst         7\n",
       "Research Data Analyst        6\n",
       "Data Security Analyst        6\n",
       "Name: Job Title, dtype: int64"
      ]
     },
     "execution_count": 19,
     "metadata": {},
     "output_type": "execute_result"
    }
   ],
   "source": [
    "df['Job Title'].value_counts()[:20]"
   ]
  },
  {
   "cell_type": "code",
   "execution_count": 20,
   "id": "mexican-ceramic",
   "metadata": {
    "_kg_hide-input": true,
    "papermill": {
     "duration": 0.109764,
     "end_time": "2021-07-06T15:49:31.838626",
     "exception": false,
     "start_time": "2021-07-06T15:49:31.728862",
     "status": "completed"
    },
    "tags": []
   },
   "outputs": [
    {
     "data": {
      "text/plain": [
       "0"
      ]
     },
     "execution_count": 20,
     "metadata": {},
     "output_type": "execute_result"
    }
   ],
   "source": [
    "df['Job Title'].isnull().sum()"
   ]
  },
  {
   "cell_type": "markdown",
   "id": "divine-wright",
   "metadata": {
    "papermill": {
     "duration": 0.099926,
     "end_time": "2021-07-06T15:49:32.038959",
     "exception": false,
     "start_time": "2021-07-06T15:49:31.939033",
     "status": "completed"
    },
    "tags": []
   },
   "source": [
    "- So far seems OK.\n",
    "- Let's move on to the **Salary Estimate**"
   ]
  },
  {
   "cell_type": "code",
   "execution_count": null,
   "id": "tired-grace",
   "metadata": {
    "papermill": {
     "duration": 0.102184,
     "end_time": "2021-07-06T15:49:32.241615",
     "exception": false,
     "start_time": "2021-07-06T15:49:32.139431",
     "status": "completed"
    },
    "tags": []
   },
   "outputs": [],
   "source": []
  },
  {
   "cell_type": "code",
   "execution_count": null,
   "id": "boring-xerox",
   "metadata": {
    "papermill": {
     "duration": 0.099556,
     "end_time": "2021-07-06T15:49:32.440614",
     "exception": false,
     "start_time": "2021-07-06T15:49:32.341058",
     "status": "completed"
    },
    "tags": []
   },
   "outputs": [],
   "source": []
  },
  {
   "cell_type": "markdown",
   "id": "ranging-reggae",
   "metadata": {
    "papermill": {
     "duration": 0.102802,
     "end_time": "2021-07-06T15:49:32.642890",
     "exception": false,
     "start_time": "2021-07-06T15:49:32.540088",
     "status": "completed"
    },
    "tags": []
   },
   "source": [
    "### Salary Estimate"
   ]
  },
  {
   "cell_type": "code",
   "execution_count": 21,
   "id": "leading-tours",
   "metadata": {
    "_kg_hide-input": true,
    "papermill": {
     "duration": 0.11254,
     "end_time": "2021-07-06T15:49:32.855312",
     "exception": false,
     "start_time": "2021-07-06T15:49:32.742772",
     "status": "completed"
    },
    "tags": []
   },
   "outputs": [
    {
     "data": {
      "text/plain": [
       "0        $37K-$66K (Glassdoor est.)\n",
       "1        $37K-$66K (Glassdoor est.)\n",
       "2        $37K-$66K (Glassdoor est.)\n",
       "3        $37K-$66K (Glassdoor est.)\n",
       "4        $37K-$66K (Glassdoor est.)\n",
       "                   ...             \n",
       "2248    $78K-$104K (Glassdoor est.)\n",
       "2249    $78K-$104K (Glassdoor est.)\n",
       "2250    $78K-$104K (Glassdoor est.)\n",
       "2251    $78K-$104K (Glassdoor est.)\n",
       "2252    $78K-$104K (Glassdoor est.)\n",
       "Name: Salary Estimate, Length: 2253, dtype: object"
      ]
     },
     "execution_count": 21,
     "metadata": {},
     "output_type": "execute_result"
    }
   ],
   "source": [
    "df['Salary Estimate']"
   ]
  },
  {
   "cell_type": "code",
   "execution_count": 22,
   "id": "excessive-compromise",
   "metadata": {
    "_kg_hide-input": true,
    "papermill": {
     "duration": 0.10979,
     "end_time": "2021-07-06T15:49:33.064478",
     "exception": false,
     "start_time": "2021-07-06T15:49:32.954688",
     "status": "completed"
    },
    "tags": []
   },
   "outputs": [
    {
     "data": {
      "text/plain": [
       "1"
      ]
     },
     "execution_count": 22,
     "metadata": {},
     "output_type": "execute_result"
    }
   ],
   "source": [
    "df['Salary Estimate'].isnull().sum()"
   ]
  },
  {
   "cell_type": "markdown",
   "id": "conceptual-mexican",
   "metadata": {
    "papermill": {
     "duration": 0.119275,
     "end_time": "2021-07-06T15:49:33.287375",
     "exception": false,
     "start_time": "2021-07-06T15:49:33.168100",
     "status": "completed"
    },
    "tags": []
   },
   "source": [
    "OK we have two issue to give attention.\n",
    "\n",
    "- Missing value. In our case, only 1, but since we will use salary estimate in our analysis in detail, we don't want any row without salary estimate. \n",
    "\n",
    "- Salary estimate is not what we expected, it is not in the numeric form, we have **$** sign, **text** and numbers in the form of range between two number."
   ]
  },
  {
   "cell_type": "markdown",
   "id": "distinguished-replacement",
   "metadata": {
    "papermill": {
     "duration": 0.100745,
     "end_time": "2021-07-06T15:49:33.490911",
     "exception": false,
     "start_time": "2021-07-06T15:49:33.390166",
     "status": "completed"
    },
    "tags": []
   },
   "source": [
    "##### **Dealing with missing value in the Salary Estimate**"
   ]
  },
  {
   "cell_type": "markdown",
   "id": "ordered-cross",
   "metadata": {
    "papermill": {
     "duration": 0.102645,
     "end_time": "2021-07-06T15:49:33.693976",
     "exception": false,
     "start_time": "2021-07-06T15:49:33.591331",
     "status": "completed"
    },
    "tags": []
   },
   "source": [
    "- In addition to domain knowledge and expertise, there are tons of different ways to deal with the missing values.\n",
    "- in this EDA, we will use just one of them."
   ]
  },
  {
   "cell_type": "code",
   "execution_count": 23,
   "id": "twelve-static",
   "metadata": {
    "papermill": {
     "duration": 0.108019,
     "end_time": "2021-07-06T15:49:33.902243",
     "exception": false,
     "start_time": "2021-07-06T15:49:33.794224",
     "status": "completed"
    },
    "tags": []
   },
   "outputs": [],
   "source": [
    "# First let's find the row with the missing value in the salary estimate column"
   ]
  },
  {
   "cell_type": "code",
   "execution_count": 24,
   "id": "sitting-elder",
   "metadata": {
    "_kg_hide-input": true,
    "papermill": {
     "duration": 0.124869,
     "end_time": "2021-07-06T15:49:34.127873",
     "exception": false,
     "start_time": "2021-07-06T15:49:34.003004",
     "status": "completed"
    },
    "tags": []
   },
   "outputs": [
    {
     "data": {
      "text/html": [
       "<div>\n",
       "<style scoped>\n",
       "    .dataframe tbody tr th:only-of-type {\n",
       "        vertical-align: middle;\n",
       "    }\n",
       "\n",
       "    .dataframe tbody tr th {\n",
       "        vertical-align: top;\n",
       "    }\n",
       "\n",
       "    .dataframe thead th {\n",
       "        text-align: right;\n",
       "    }\n",
       "</style>\n",
       "<table border=\"1\" class=\"dataframe\">\n",
       "  <thead>\n",
       "    <tr style=\"text-align: right;\">\n",
       "      <th></th>\n",
       "      <th>Unnamed: 0</th>\n",
       "      <th>Job Title</th>\n",
       "      <th>Salary Estimate</th>\n",
       "      <th>Job Description</th>\n",
       "      <th>Rating</th>\n",
       "      <th>Company Name</th>\n",
       "      <th>Location</th>\n",
       "      <th>Headquarters</th>\n",
       "      <th>Size</th>\n",
       "      <th>Founded</th>\n",
       "      <th>Type of ownership</th>\n",
       "      <th>Industry</th>\n",
       "      <th>Sector</th>\n",
       "      <th>Revenue</th>\n",
       "      <th>Competitors</th>\n",
       "      <th>Easy Apply</th>\n",
       "    </tr>\n",
       "  </thead>\n",
       "  <tbody>\n",
       "    <tr>\n",
       "      <th>2149</th>\n",
       "      <td>2149</td>\n",
       "      <td>Configuration/Data Management Analyst III</td>\n",
       "      <td>NaN</td>\n",
       "      <td>Job Description\\nPosition Title: Configuration...</td>\n",
       "      <td>4.4</td>\n",
       "      <td>Protingent\\n4.4</td>\n",
       "      <td>Kent, WA</td>\n",
       "      <td>Bellevue, WA</td>\n",
       "      <td>51 to 200 employees</td>\n",
       "      <td>2001.0</td>\n",
       "      <td>Company - Private</td>\n",
       "      <td>Staffing &amp; Outsourcing</td>\n",
       "      <td>Business Services</td>\n",
       "      <td>$25 to $50 million (USD)</td>\n",
       "      <td>NaN</td>\n",
       "      <td>NaN</td>\n",
       "    </tr>\n",
       "  </tbody>\n",
       "</table>\n",
       "</div>"
      ],
      "text/plain": [
       "      Unnamed: 0                                  Job Title Salary Estimate  \\\n",
       "2149        2149  Configuration/Data Management Analyst III             NaN   \n",
       "\n",
       "                                        Job Description  Rating  \\\n",
       "2149  Job Description\\nPosition Title: Configuration...     4.4   \n",
       "\n",
       "         Company Name  Location  Headquarters                 Size  Founded  \\\n",
       "2149  Protingent\\n4.4  Kent, WA  Bellevue, WA  51 to 200 employees   2001.0   \n",
       "\n",
       "      Type of ownership                Industry             Sector  \\\n",
       "2149  Company - Private  Staffing & Outsourcing  Business Services   \n",
       "\n",
       "                       Revenue Competitors Easy Apply  \n",
       "2149  $25 to $50 million (USD)         NaN        NaN  "
      ]
     },
     "execution_count": 24,
     "metadata": {},
     "output_type": "execute_result"
    }
   ],
   "source": [
    "df[df['Salary Estimate'].isnull()]"
   ]
  },
  {
   "cell_type": "code",
   "execution_count": 25,
   "id": "exciting-monte",
   "metadata": {
    "papermill": {
     "duration": 0.108026,
     "end_time": "2021-07-06T15:49:34.337167",
     "exception": false,
     "start_time": "2021-07-06T15:49:34.229141",
     "status": "completed"
    },
    "tags": []
   },
   "outputs": [],
   "source": [
    "# let's see this company has any other advertisement"
   ]
  },
  {
   "cell_type": "code",
   "execution_count": 26,
   "id": "controversial-gates",
   "metadata": {
    "_kg_hide-input": true,
    "papermill": {
     "duration": 0.124388,
     "end_time": "2021-07-06T15:49:34.561627",
     "exception": false,
     "start_time": "2021-07-06T15:49:34.437239",
     "status": "completed"
    },
    "tags": []
   },
   "outputs": [
    {
     "data": {
      "text/html": [
       "<div>\n",
       "<style scoped>\n",
       "    .dataframe tbody tr th:only-of-type {\n",
       "        vertical-align: middle;\n",
       "    }\n",
       "\n",
       "    .dataframe tbody tr th {\n",
       "        vertical-align: top;\n",
       "    }\n",
       "\n",
       "    .dataframe thead th {\n",
       "        text-align: right;\n",
       "    }\n",
       "</style>\n",
       "<table border=\"1\" class=\"dataframe\">\n",
       "  <thead>\n",
       "    <tr style=\"text-align: right;\">\n",
       "      <th></th>\n",
       "      <th>Unnamed: 0</th>\n",
       "      <th>Job Title</th>\n",
       "      <th>Salary Estimate</th>\n",
       "      <th>Job Description</th>\n",
       "      <th>Rating</th>\n",
       "      <th>Company Name</th>\n",
       "      <th>Location</th>\n",
       "      <th>Headquarters</th>\n",
       "      <th>Size</th>\n",
       "      <th>Founded</th>\n",
       "      <th>Type of ownership</th>\n",
       "      <th>Industry</th>\n",
       "      <th>Sector</th>\n",
       "      <th>Revenue</th>\n",
       "      <th>Competitors</th>\n",
       "      <th>Easy Apply</th>\n",
       "    </tr>\n",
       "  </thead>\n",
       "  <tbody>\n",
       "    <tr>\n",
       "      <th>2123</th>\n",
       "      <td>2123</td>\n",
       "      <td>Engines Configuration and Data Management Analyst</td>\n",
       "      <td>$55K-$101K (Glassdoor est.)</td>\n",
       "      <td>Job Description\\nPosition Title: Engines Confi...</td>\n",
       "      <td>4.4</td>\n",
       "      <td>Protingent\\n4.4</td>\n",
       "      <td>Kent, WA</td>\n",
       "      <td>Bellevue, WA</td>\n",
       "      <td>51 to 200 employees</td>\n",
       "      <td>2001.0</td>\n",
       "      <td>Company - Private</td>\n",
       "      <td>Staffing &amp; Outsourcing</td>\n",
       "      <td>Business Services</td>\n",
       "      <td>$25 to $50 million (USD)</td>\n",
       "      <td>NaN</td>\n",
       "      <td>NaN</td>\n",
       "    </tr>\n",
       "    <tr>\n",
       "      <th>2149</th>\n",
       "      <td>2149</td>\n",
       "      <td>Configuration/Data Management Analyst III</td>\n",
       "      <td>NaN</td>\n",
       "      <td>Job Description\\nPosition Title: Configuration...</td>\n",
       "      <td>4.4</td>\n",
       "      <td>Protingent\\n4.4</td>\n",
       "      <td>Kent, WA</td>\n",
       "      <td>Bellevue, WA</td>\n",
       "      <td>51 to 200 employees</td>\n",
       "      <td>2001.0</td>\n",
       "      <td>Company - Private</td>\n",
       "      <td>Staffing &amp; Outsourcing</td>\n",
       "      <td>Business Services</td>\n",
       "      <td>$25 to $50 million (USD)</td>\n",
       "      <td>NaN</td>\n",
       "      <td>NaN</td>\n",
       "    </tr>\n",
       "  </tbody>\n",
       "</table>\n",
       "</div>"
      ],
      "text/plain": [
       "      Unnamed: 0                                          Job Title  \\\n",
       "2123        2123  Engines Configuration and Data Management Analyst   \n",
       "2149        2149          Configuration/Data Management Analyst III   \n",
       "\n",
       "                  Salary Estimate  \\\n",
       "2123  $55K-$101K (Glassdoor est.)   \n",
       "2149                          NaN   \n",
       "\n",
       "                                        Job Description  Rating  \\\n",
       "2123  Job Description\\nPosition Title: Engines Confi...     4.4   \n",
       "2149  Job Description\\nPosition Title: Configuration...     4.4   \n",
       "\n",
       "         Company Name  Location  Headquarters                 Size  Founded  \\\n",
       "2123  Protingent\\n4.4  Kent, WA  Bellevue, WA  51 to 200 employees   2001.0   \n",
       "2149  Protingent\\n4.4  Kent, WA  Bellevue, WA  51 to 200 employees   2001.0   \n",
       "\n",
       "      Type of ownership                Industry             Sector  \\\n",
       "2123  Company - Private  Staffing & Outsourcing  Business Services   \n",
       "2149  Company - Private  Staffing & Outsourcing  Business Services   \n",
       "\n",
       "                       Revenue Competitors Easy Apply  \n",
       "2123  $25 to $50 million (USD)         NaN        NaN  \n",
       "2149  $25 to $50 million (USD)         NaN        NaN  "
      ]
     },
     "execution_count": 26,
     "metadata": {},
     "output_type": "execute_result"
    }
   ],
   "source": [
    "df[df['Company Name']=='Protingent\\n4.4']"
   ]
  },
  {
   "cell_type": "code",
   "execution_count": 27,
   "id": "recent-contrast",
   "metadata": {
    "papermill": {
     "duration": 0.107909,
     "end_time": "2021-07-06T15:49:34.773788",
     "exception": false,
     "start_time": "2021-07-06T15:49:34.665879",
     "status": "completed"
    },
    "tags": []
   },
   "outputs": [],
   "source": [
    "# Ok, we have another advertisement from the same company. Let's see the similarities in the job description."
   ]
  },
  {
   "cell_type": "code",
   "execution_count": 28,
   "id": "floppy-frost",
   "metadata": {
    "_kg_hide-input": true,
    "papermill": {
     "duration": 0.110353,
     "end_time": "2021-07-06T15:49:34.986699",
     "exception": false,
     "start_time": "2021-07-06T15:49:34.876346",
     "status": "completed"
    },
    "tags": []
   },
   "outputs": [
    {
     "data": {
      "text/plain": [
       "'Job Description\\nPosition Title: Engines Configuration and Data Management Analyst\\n\\nPosition Description: Protingent Staffing has an exciting contract opportunity with our client in Kent, WA.\\n\\nJob Qualifications:\\nAA/AS or BA/BS in a related technical or liberal arts discipline\\n3+ years of direct product configuration management experience (Product structure, parts, drawings, documents and requirements management)\\n2+ years of experience working in a highly regulated environment (aerospace, nuclear, government, medical device, etc.)\\nExperience working with software related to configuration management of complex product\\nWorking knowledge of configuration management principles and practices\\nFamiliar with product lifecycle management (PLM) and/or data management tools\\nPossess high attention to detail and strong organizational/coordination skills\\nProficient in Microsoft Office applications (Word, Excel, PowerPoint).\\nExperience in aerospace industry\\nProficient in technical writing of process and procedure\\nExperience using Windchill, Creo, DOORS, Confluence, and Jira\\nFamiliarity with Export Control regulations (EAR/ITAR)\\nAbout Protingent: Protingent is a niche provider of top Engineering and IT talent to Software, Electronics, Medical Device, Telecom and Aerospace companies nationwide. Protingent exists to make a positive impact and contribution to the lives of others as well as our community by providing relevant, rewarding and exciting work opportunities for our candidates.\\n\\nBenefits Package: Protingent offers competitive salary, 100% paid health insurance, education/certification reimbursement, pre-tax commuter benefits, Paid Time Off (PTO) and an administered 401k plan.'"
      ]
     },
     "execution_count": 28,
     "metadata": {},
     "output_type": "execute_result"
    }
   ],
   "source": [
    "df['Job Description'][2123]"
   ]
  },
  {
   "cell_type": "code",
   "execution_count": 29,
   "id": "frozen-titanium",
   "metadata": {
    "_kg_hide-input": true,
    "papermill": {
     "duration": 0.109892,
     "end_time": "2021-07-06T15:49:35.198525",
     "exception": false,
     "start_time": "2021-07-06T15:49:35.088633",
     "status": "completed"
    },
    "tags": []
   },
   "outputs": [
    {
     "data": {
      "text/plain": [
       "'Job Description\\nPosition Title: Configuration/Data Management Analyst III\\n\\nPosition Description: Protingent has an opportunity for a Configuration Analyst in Kent, WA.\\n\\nJob Qualifications:\\nAA/AS or BA/BS in a related technical or liberal arts discipline\\n5-7 years of direct product configuration management experience (Product structure, parts, drawings and requirements management experience highly desired).\\n3+ years of experience working in a highly regulated environment (security systems, medical device, aerospace, etc.).\\nDeep experience with world-class toolsets for configuration management in complex products\\nProven ability to communicate effectively both in writing and verbally with staff at all levels of the organization and external stakeholders, including regulatory agencies, customers and suppliers.\\nExcellent technical writing and presentation skills.\\nProficient with configuration management principles and practices\\nProficient with product lifecycle management (PLM) and/or data management tools\\nProficient in Microsoft Office applications (Word, Excel, PowerPoint)\\nFamiliarity with export control (EAR/ITAR) regulations\\nCMII certification/training\\nExperience in aerospace or aviation\\nExperience with Windchill, Creo, ERP/MES systems\\nExperience with DOORS Next Generation\\nExperience with Confluence & JIRA\\nDatabase skills with SQL, queries, etc\\nAbout Protingent: Protingent is a niche provider of top Engineering and IT talent to Software, Electronics, Medical Device, Telecom and Aerospace companies nationwide. Protingent exists to make a positive impact and contribution to the lives of others as well as our community by providing relevant, rewarding and exciting work opportunities for our candidates.\\n\\nBenefits Package: Protingent offers competitive salary, 100% paid health insurance, education/certification reimbursement, pre-tax commuter benefits, Paid Time Off (PTO) and an administered 401k plan.'"
      ]
     },
     "execution_count": 29,
     "metadata": {},
     "output_type": "execute_result"
    }
   ],
   "source": [
    "df['Job Description'][2149]"
   ]
  },
  {
   "cell_type": "markdown",
   "id": "suited-samba",
   "metadata": {
    "papermill": {
     "duration": 0.101782,
     "end_time": "2021-07-06T15:49:35.402020",
     "exception": false,
     "start_time": "2021-07-06T15:49:35.300238",
     "status": "completed"
    },
    "tags": []
   },
   "source": [
    "- From the above job descriptions, even though there are similarities in the job description, job in the missing value row, needs more qualifications than the previous one\n",
    "Based on the given info we can not assume same salary estimate for the missing salary estimate  value.\n",
    "- It is better to drop missing value row."
   ]
  },
  {
   "cell_type": "code",
   "execution_count": 30,
   "id": "together-engine",
   "metadata": {
    "_kg_hide-input": true,
    "papermill": {
     "duration": 0.11072,
     "end_time": "2021-07-06T15:49:35.614632",
     "exception": false,
     "start_time": "2021-07-06T15:49:35.503912",
     "status": "completed"
    },
    "tags": []
   },
   "outputs": [],
   "source": [
    "df.drop(2149, inplace=True)"
   ]
  },
  {
   "cell_type": "code",
   "execution_count": 31,
   "id": "stable-pollution",
   "metadata": {
    "_kg_hide-input": true,
    "papermill": {
     "duration": 0.110551,
     "end_time": "2021-07-06T15:49:35.829827",
     "exception": false,
     "start_time": "2021-07-06T15:49:35.719276",
     "status": "completed"
    },
    "tags": []
   },
   "outputs": [
    {
     "data": {
      "text/plain": [
       "0"
      ]
     },
     "execution_count": 31,
     "metadata": {},
     "output_type": "execute_result"
    }
   ],
   "source": [
    "df['Salary Estimate'].isnull().sum()"
   ]
  },
  {
   "cell_type": "markdown",
   "id": "instrumental-irrigation",
   "metadata": {
    "papermill": {
     "duration": 0.102706,
     "end_time": "2021-07-06T15:49:36.034451",
     "exception": false,
     "start_time": "2021-07-06T15:49:35.931745",
     "status": "completed"
    },
    "tags": []
   },
   "source": [
    "#### To get Numeric values from Salary Estimate"
   ]
  },
  {
   "cell_type": "markdown",
   "id": "unlimited-bridal",
   "metadata": {
    "papermill": {
     "duration": 0.103353,
     "end_time": "2021-07-06T15:49:36.243786",
     "exception": false,
     "start_time": "2021-07-06T15:49:36.140433",
     "status": "completed"
    },
    "tags": []
   },
   "source": [
    "- First let's remember, what format we have in the salary estimate variable"
   ]
  },
  {
   "cell_type": "code",
   "execution_count": 32,
   "id": "photographic-observer",
   "metadata": {
    "_kg_hide-input": true,
    "papermill": {
     "duration": 0.112663,
     "end_time": "2021-07-06T15:49:36.458315",
     "exception": false,
     "start_time": "2021-07-06T15:49:36.345652",
     "status": "completed"
    },
    "tags": []
   },
   "outputs": [
    {
     "data": {
      "text/plain": [
       "1927    $99K-$178K (Glassdoor est.)\n",
       "2055     $47K-$74K (Glassdoor est.)\n",
       "154      $43K-$76K (Glassdoor est.)\n",
       "Name: Salary Estimate, dtype: object"
      ]
     },
     "execution_count": 32,
     "metadata": {},
     "output_type": "execute_result"
    }
   ],
   "source": [
    "df['Salary Estimate'].sample(3)"
   ]
  },
  {
   "cell_type": "markdown",
   "id": "extraordinary-chester",
   "metadata": {
    "papermill": {
     "duration": 0.102525,
     "end_time": "2021-07-06T15:49:36.662508",
     "exception": false,
     "start_time": "2021-07-06T15:49:36.559983",
     "status": "completed"
    },
    "tags": []
   },
   "source": [
    "- We have quite a lot of useful information, and we should make use of it."
   ]
  },
  {
   "cell_type": "markdown",
   "id": "careful-certification",
   "metadata": {
    "papermill": {
     "duration": 0.103281,
     "end_time": "2021-07-06T15:49:36.870527",
     "exception": false,
     "start_time": "2021-07-06T15:49:36.767246",
     "status": "completed"
    },
    "tags": []
   },
   "source": [
    "Let's get the numbers out of it and by using the numbers, let's make: \n",
    "- maximum salary column\n",
    "- minimum salary column\n",
    "- average salary column"
   ]
  },
  {
   "cell_type": "code",
   "execution_count": 33,
   "id": "polish-mozambique",
   "metadata": {
    "_kg_hide-input": true,
    "papermill": {
     "duration": 0.117622,
     "end_time": "2021-07-06T15:49:37.090125",
     "exception": false,
     "start_time": "2021-07-06T15:49:36.972503",
     "status": "completed"
    },
    "tags": []
   },
   "outputs": [],
   "source": [
    "df['Salary_minimum']= df['Salary Estimate'].str.lstrip('$').str[:3].str.replace('K','').str.strip().astype('float')"
   ]
  },
  {
   "cell_type": "code",
   "execution_count": 34,
   "id": "angry-migration",
   "metadata": {
    "_kg_hide-input": true,
    "papermill": {
     "duration": 0.118364,
     "end_time": "2021-07-06T15:49:37.309757",
     "exception": false,
     "start_time": "2021-07-06T15:49:37.191393",
     "status": "completed"
    },
    "tags": []
   },
   "outputs": [],
   "source": [
    "df['Salary_maximum'] = df['Salary Estimate'].str[6:10].str.replace('K','').str.lstrip('$').str.strip().astype('float')"
   ]
  },
  {
   "cell_type": "code",
   "execution_count": 35,
   "id": "organized-national",
   "metadata": {
    "_kg_hide-input": true,
    "papermill": {
     "duration": 0.127962,
     "end_time": "2021-07-06T15:49:37.540354",
     "exception": false,
     "start_time": "2021-07-06T15:49:37.412392",
     "status": "completed"
    },
    "tags": []
   },
   "outputs": [],
   "source": [
    "df['Salary_average'] = (df['Salary_maximum']+df['Salary_minimum'])/2"
   ]
  },
  {
   "cell_type": "markdown",
   "id": "bearing-surgery",
   "metadata": {
    "papermill": {
     "duration": 0.104173,
     "end_time": "2021-07-06T15:49:37.747264",
     "exception": false,
     "start_time": "2021-07-06T15:49:37.643091",
     "status": "completed"
    },
    "tags": []
   },
   "source": [
    "- Let's see everthing is in order."
   ]
  },
  {
   "cell_type": "code",
   "execution_count": 36,
   "id": "thirty-psychiatry",
   "metadata": {
    "_kg_hide-input": true,
    "papermill": {
     "duration": 0.125261,
     "end_time": "2021-07-06T15:49:37.974208",
     "exception": false,
     "start_time": "2021-07-06T15:49:37.848947",
     "status": "completed"
    },
    "tags": []
   },
   "outputs": [
    {
     "data": {
      "text/html": [
       "<div>\n",
       "<style scoped>\n",
       "    .dataframe tbody tr th:only-of-type {\n",
       "        vertical-align: middle;\n",
       "    }\n",
       "\n",
       "    .dataframe tbody tr th {\n",
       "        vertical-align: top;\n",
       "    }\n",
       "\n",
       "    .dataframe thead th {\n",
       "        text-align: right;\n",
       "    }\n",
       "</style>\n",
       "<table border=\"1\" class=\"dataframe\">\n",
       "  <thead>\n",
       "    <tr style=\"text-align: right;\">\n",
       "      <th></th>\n",
       "      <th>Salary Estimate</th>\n",
       "      <th>Salary_minimum</th>\n",
       "      <th>Salary_maximum</th>\n",
       "      <th>Salary_average</th>\n",
       "    </tr>\n",
       "  </thead>\n",
       "  <tbody>\n",
       "    <tr>\n",
       "      <th>307</th>\n",
       "      <td>$27K-$52K (Glassdoor est.)</td>\n",
       "      <td>27.0</td>\n",
       "      <td>52.0</td>\n",
       "      <td>39.5</td>\n",
       "    </tr>\n",
       "    <tr>\n",
       "      <th>804</th>\n",
       "      <td>$67K-$92K (Glassdoor est.)</td>\n",
       "      <td>67.0</td>\n",
       "      <td>92.0</td>\n",
       "      <td>79.5</td>\n",
       "    </tr>\n",
       "    <tr>\n",
       "      <th>1101</th>\n",
       "      <td>$38K-$68K (Glassdoor est.)</td>\n",
       "      <td>38.0</td>\n",
       "      <td>68.0</td>\n",
       "      <td>53.0</td>\n",
       "    </tr>\n",
       "    <tr>\n",
       "      <th>1814</th>\n",
       "      <td>$50K-$86K (Glassdoor est.)</td>\n",
       "      <td>50.0</td>\n",
       "      <td>86.0</td>\n",
       "      <td>68.0</td>\n",
       "    </tr>\n",
       "    <tr>\n",
       "      <th>996</th>\n",
       "      <td>$53K-$94K (Glassdoor est.)</td>\n",
       "      <td>53.0</td>\n",
       "      <td>94.0</td>\n",
       "      <td>73.5</td>\n",
       "    </tr>\n",
       "    <tr>\n",
       "      <th>2242</th>\n",
       "      <td>$78K-$104K (Glassdoor est.)</td>\n",
       "      <td>78.0</td>\n",
       "      <td>104.0</td>\n",
       "      <td>91.0</td>\n",
       "    </tr>\n",
       "    <tr>\n",
       "      <th>503</th>\n",
       "      <td>$49K-$112K (Glassdoor est.)</td>\n",
       "      <td>49.0</td>\n",
       "      <td>112.0</td>\n",
       "      <td>80.5</td>\n",
       "    </tr>\n",
       "    <tr>\n",
       "      <th>1657</th>\n",
       "      <td>$42K-$76K (Glassdoor est.)</td>\n",
       "      <td>42.0</td>\n",
       "      <td>76.0</td>\n",
       "      <td>59.0</td>\n",
       "    </tr>\n",
       "    <tr>\n",
       "      <th>1853</th>\n",
       "      <td>$53K-$99K (Glassdoor est.)</td>\n",
       "      <td>53.0</td>\n",
       "      <td>99.0</td>\n",
       "      <td>76.0</td>\n",
       "    </tr>\n",
       "    <tr>\n",
       "      <th>289</th>\n",
       "      <td>$27K-$52K (Glassdoor est.)</td>\n",
       "      <td>27.0</td>\n",
       "      <td>52.0</td>\n",
       "      <td>39.5</td>\n",
       "    </tr>\n",
       "  </tbody>\n",
       "</table>\n",
       "</div>"
      ],
      "text/plain": [
       "                  Salary Estimate  Salary_minimum  Salary_maximum  \\\n",
       "307    $27K-$52K (Glassdoor est.)            27.0            52.0   \n",
       "804    $67K-$92K (Glassdoor est.)            67.0            92.0   \n",
       "1101   $38K-$68K (Glassdoor est.)            38.0            68.0   \n",
       "1814   $50K-$86K (Glassdoor est.)            50.0            86.0   \n",
       "996    $53K-$94K (Glassdoor est.)            53.0            94.0   \n",
       "2242  $78K-$104K (Glassdoor est.)            78.0           104.0   \n",
       "503   $49K-$112K (Glassdoor est.)            49.0           112.0   \n",
       "1657   $42K-$76K (Glassdoor est.)            42.0            76.0   \n",
       "1853   $53K-$99K (Glassdoor est.)            53.0            99.0   \n",
       "289    $27K-$52K (Glassdoor est.)            27.0            52.0   \n",
       "\n",
       "      Salary_average  \n",
       "307             39.5  \n",
       "804             79.5  \n",
       "1101            53.0  \n",
       "1814            68.0  \n",
       "996             73.5  \n",
       "2242            91.0  \n",
       "503             80.5  \n",
       "1657            59.0  \n",
       "1853            76.0  \n",
       "289             39.5  "
      ]
     },
     "execution_count": 36,
     "metadata": {},
     "output_type": "execute_result"
    }
   ],
   "source": [
    "df[['Salary Estimate','Salary_minimum','Salary_maximum','Salary_average']].sample(10)"
   ]
  },
  {
   "cell_type": "markdown",
   "id": "korean-acrylic",
   "metadata": {
    "papermill": {
     "duration": 0.104507,
     "end_time": "2021-07-06T15:49:38.182150",
     "exception": false,
     "start_time": "2021-07-06T15:49:38.077643",
     "status": "completed"
    },
    "tags": []
   },
   "source": [
    "- Seems quite OK"
   ]
  },
  {
   "cell_type": "markdown",
   "id": "eleven-necessity",
   "metadata": {
    "papermill": {
     "duration": 0.102939,
     "end_time": "2021-07-06T15:49:38.388661",
     "exception": false,
     "start_time": "2021-07-06T15:49:38.285722",
     "status": "completed"
    },
    "tags": []
   },
   "source": [
    "#### **Job Description**"
   ]
  },
  {
   "cell_type": "code",
   "execution_count": 37,
   "id": "fluid-lawrence",
   "metadata": {
    "_kg_hide-input": true,
    "papermill": {
     "duration": 0.115213,
     "end_time": "2021-07-06T15:49:38.607819",
     "exception": false,
     "start_time": "2021-07-06T15:49:38.492606",
     "status": "completed"
    },
    "tags": []
   },
   "outputs": [
    {
     "data": {
      "text/plain": [
       "\"Are you eager to roll up your sleeves and harness data to drive policy change? Do you enjoy sifting through complex datasets to illuminate trends and insights? Do you see yourself working for a values-driven organization with a vision to tackle the most pressing injustices of our day?\\n\\nWe are looking to hire a bright, hard-working, and creative individual with strong data management skills and a demonstrated commitment to immigrant's rights. The Data Analyst will assist with analysis and reporting needs for Veras Center on Immigration and Justice (CIJ), working across its current projects and future Vera initiatives.\\n\\nWho we are:\\n\\nFounded in 1961, The Vera Institute is an independent, non-partisan, nonprofit organization that combines expertise in research, technical assistance, and demonstration projects to assist leaders in government and civil society examine justice policy and practice, and improve the systems people rely on for justice and safety.\\nWe study problems that impede human dignity and justice.\\nWe pilot solutions that are at once transformative and achievable.\\nWe engage diverse communities in informed debate.\\nAnd we harness the power of evidence to drive effective policy and practice\\nWhat were doing:\\n\\nWe are helping to build a movementamong government leaders, advocates, and the immigration legal services communitytowards universal legal representation for immigrants facing deportation. In the face of stepped-up immigration enforcement, millions of non-citizens are at risk of extended detention and permanent separation from their families and communities. Veras Center on Immigration and Justice (CIJ) partners with government, non-profit partners, and communities to improve government systems that affect immigrants and their families. CIJ administers several nationwide legal services programs for immigrants facing deportation, develops and implements pilot programs, provides technical assistance, and conducts independent research and evaluation.\\n\\nThats where you come in:\\nThe Data Analyst will support the Centers programmatic efforts through regular monitoring and reporting of federal government and subcontractor data. CIJ manages several proprietary databases that run on AWS and Caspio and uses SQL, R, and Python to manage data. This is an opportunity to help shape an innovative national research and policy agenda as part of a dedicated team of experts working to improve access to justice for non-citizens.\\n\\nVera seeks to hire a Data Analyst to work on various data management projects with its Center on Immigration and Justice (CIJ). In collaboration with other Data Analysts, this position will involve work across several projects, such as the Unaccompanied Childrens Program (UCP), a program to increase legal representation for immigrant children facing deportation without a parent or legal guardian. The position may cover additional duties for the Legal Orientation Program for Custodians (LOPC), which educates the custodians of unaccompanied children about their rights and the immigration court process.\\n\\nAbout the role:\\n\\nAs a Data Analyst, you will report to a member of the research team and work in close collaboration with other Vera staff on ongoing database management, monitoring, reporting, and analysis projects. Youll support the team by taking ownership of ongoing monitoring and reporting tasks involving large data sets. Other principal responsibilities will include:\\nSupporting research staff by preparing large datasets for analysis, including merging, cleaning, and recoding data;\\nProviding insights into program performance through summary statistics and performance indicators;\\nProducing timely reports on Vera projects for team members and stakeholders;\\nImproving recurring reporting processes by optimizing code and producing subsequent documentation;\\nCoordinating database management tasks such as participating in new database design, modifying existing databases, and communicating with outside engineers and subcontractors;\\nDeveloping codebooks and delivering user trainings through webinars and database guides;\\nBuilding and maintaining interactive dashboards;\\nDocumenting and correcting data quality issues;\\nWorking with supervisors to prioritize program needs;\\nAssisting on other projects and tasks as assigned.\\nAbout you:\\n\\nYoure committed to improving issues affecting immigrants in the United States. Applicants with personal experiences with the immigration system are especially encouraged to apply.\\n\\nYoure just getting started in your career and have 1 2 years of professional or internship experience working with large datasets and preparing data for analysis.\\n\\nYou have a real enthusiasm for working with data.\\n\\nYou are comfortable writing queries in SQL, R, and/or Python, or have a solid foundation coding in other programming languages used to manipulate data. Experience working collaboratively using tools like Git/GitHub is a plus.\\n\\nYou have exceptional attention to detail, strong problem-solving ability and logical reasoning skills, and the ability to detect anomalies in data.\\n\\nYoure able to work on multiple projects effectively and efficiently, both independently and collaboratively with a team.\\n\\nThis position involves working with secure data that may require government security clearance. That clearance is restricted to U.S. citizens and citizens of countries that are party to collective defense agreements with the U.S. The list of those countries is detailed on this webpage. An additional requirement of that clearance is residence in the United States for at least three of the last five years.\\n\\nHow to apply:\\n\\nPlease submit cover letter and resume. Applications will be considered on a rolling basis until position is filled. Online submission in PDF format is preferred. Applications with no cover letter attached will not be considered. The cover letter should address your interest in CIJ and this position.\\n\\nHowever, if necessary, materials may be mailed or faxed to\\n\\nATTN: Human Resources / CIJ Data Analyst Recruitment\\n\\nVera Institute of Justice\\n\\n34 35th St, Suite 4-2A\\n\\nBrooklyn, NY 11232\\n\\nFax: (212) 941-9407\\n\\nPlease use only one method (online, mail or fax) of submission.\\n\\nNo phone calls, please. Only applicants selected for interviews will be contacted.\\n\\nVera is an equal opportunity/affirmative action employer. All qualified applicants will be considered for employment without unlawful discrimination based on race, color, creed, national origin, sex, age, disability, marital status, sexual orientation, military status, prior record of arrest or conviction, citizenship status, current employment status, or caregiver status.\\n\\nVera works to advance justice, particularly racial justice, in an increasingly multicultural country and globally connected world. We value diverse experiences, including with regard to educational background and justice system contact, and depend on a diverse staff to carry out our mission.\\n\\nFor more information about Vera and CIJs work, please visit www.vera.org.\\n\\nPowered by JazzHR\""
      ]
     },
     "execution_count": 37,
     "metadata": {},
     "output_type": "execute_result"
    }
   ],
   "source": [
    "df['Job Description'][0]"
   ]
  },
  {
   "cell_type": "markdown",
   "id": "rapid-blocking",
   "metadata": {
    "papermill": {
     "duration": 0.105098,
     "end_time": "2021-07-06T15:49:38.818375",
     "exception": false,
     "start_time": "2021-07-06T15:49:38.713277",
     "status": "completed"
    },
    "tags": []
   },
   "source": [
    "- Yes I agree quitea long one. But job descriptions contain tons of useful information. For this EDA we will focus on programming language requirements. Specifically, Python and SQL"
   ]
  },
  {
   "cell_type": "code",
   "execution_count": 38,
   "id": "disciplinary-consideration",
   "metadata": {
    "_kg_hide-input": true,
    "papermill": {
     "duration": 0.114288,
     "end_time": "2021-07-06T15:49:39.037678",
     "exception": false,
     "start_time": "2021-07-06T15:49:38.923390",
     "status": "completed"
    },
    "tags": []
   },
   "outputs": [
    {
     "data": {
      "text/plain": [
       "0"
      ]
     },
     "execution_count": 38,
     "metadata": {},
     "output_type": "execute_result"
    }
   ],
   "source": [
    "df['Job Description'].isnull().sum()"
   ]
  },
  {
   "cell_type": "markdown",
   "id": "incident-photography",
   "metadata": {
    "papermill": {
     "duration": 0.104049,
     "end_time": "2021-07-06T15:49:39.245404",
     "exception": false,
     "start_time": "2021-07-06T15:49:39.141355",
     "status": "completed"
    },
    "tags": []
   },
   "source": [
    "- That's good, we can safely use job description variable for further analysis."
   ]
  },
  {
   "cell_type": "markdown",
   "id": "satisfactory-provision",
   "metadata": {
    "papermill": {
     "duration": 0.103403,
     "end_time": "2021-07-06T15:49:39.453407",
     "exception": false,
     "start_time": "2021-07-06T15:49:39.350004",
     "status": "completed"
    },
    "tags": []
   },
   "source": [
    "- First start with Python, and see how many job description contains/requires knowledge on Python."
   ]
  },
  {
   "cell_type": "code",
   "execution_count": 39,
   "id": "surprised-thumb",
   "metadata": {
    "_kg_hide-input": true,
    "papermill": {
     "duration": 0.189837,
     "end_time": "2021-07-06T15:49:39.747341",
     "exception": false,
     "start_time": "2021-07-06T15:49:39.557504",
     "status": "completed"
    },
    "tags": []
   },
   "outputs": [
    {
     "data": {
      "text/plain": [
       "False    1615\n",
       "True      637\n",
       "Name: python_job, dtype: int64"
      ]
     },
     "execution_count": 39,
     "metadata": {},
     "output_type": "execute_result"
    }
   ],
   "source": [
    "df['python_job'] = df['Job Description'].str.contains('python', na=False, case=False)\n",
    "df['python_job'].value_counts()"
   ]
  },
  {
   "cell_type": "markdown",
   "id": "married-quebec",
   "metadata": {
    "papermill": {
     "duration": 0.104431,
     "end_time": "2021-07-06T15:49:39.956313",
     "exception": false,
     "start_time": "2021-07-06T15:49:39.851882",
     "status": "completed"
    },
    "tags": []
   },
   "source": [
    "- Then look at the SQL"
   ]
  },
  {
   "cell_type": "code",
   "execution_count": 40,
   "id": "sticky-paper",
   "metadata": {
    "_kg_hide-input": true,
    "papermill": {
     "duration": 0.40332,
     "end_time": "2021-07-06T15:49:40.463875",
     "exception": false,
     "start_time": "2021-07-06T15:49:40.060555",
     "status": "completed"
    },
    "tags": []
   },
   "outputs": [
    {
     "data": {
      "text/plain": [
       "True     1388\n",
       "False     864\n",
       "Name: SQL_job, dtype: int64"
      ]
     },
     "execution_count": 40,
     "metadata": {},
     "output_type": "execute_result"
    }
   ],
   "source": [
    "df['SQL_job'] = df['Job Description'].str.contains('sql', na=False, case=False)\n",
    "df['SQL_job'].value_counts()"
   ]
  },
  {
   "cell_type": "markdown",
   "id": "overhead-helen",
   "metadata": {
    "papermill": {
     "duration": 0.118527,
     "end_time": "2021-07-06T15:49:40.703581",
     "exception": false,
     "start_time": "2021-07-06T15:49:40.585054",
     "status": "completed"
    },
    "tags": []
   },
   "source": [
    "- Agreed good to see the old friend Ms Excel"
   ]
  },
  {
   "cell_type": "code",
   "execution_count": 41,
   "id": "medical-hungary",
   "metadata": {
    "_kg_hide-input": true,
    "papermill": {
     "duration": 0.189849,
     "end_time": "2021-07-06T15:49:40.998702",
     "exception": false,
     "start_time": "2021-07-06T15:49:40.808853",
     "status": "completed"
    },
    "tags": []
   },
   "outputs": [
    {
     "data": {
      "text/plain": [
       "True     1353\n",
       "False     899\n",
       "Name: excel_job, dtype: int64"
      ]
     },
     "execution_count": 41,
     "metadata": {},
     "output_type": "execute_result"
    }
   ],
   "source": [
    "df['excel_job'] = df['Job Description'].str.contains('excel', na=False, case=False)\n",
    "df['excel_job'].value_counts()"
   ]
  },
  {
   "cell_type": "markdown",
   "id": "published-nickname",
   "metadata": {
    "papermill": {
     "duration": 0.106314,
     "end_time": "2021-07-06T15:49:41.213492",
     "exception": false,
     "start_time": "2021-07-06T15:49:41.107178",
     "status": "completed"
    },
    "tags": []
   },
   "source": [
    "- And lastly see Tableau"
   ]
  },
  {
   "cell_type": "code",
   "execution_count": 42,
   "id": "associate-rainbow",
   "metadata": {
    "_kg_hide-input": true,
    "papermill": {
     "duration": 0.205296,
     "end_time": "2021-07-06T15:49:41.524533",
     "exception": false,
     "start_time": "2021-07-06T15:49:41.319237",
     "status": "completed"
    },
    "tags": []
   },
   "outputs": [
    {
     "data": {
      "text/plain": [
       "False    1632\n",
       "True      620\n",
       "Name: tableau_job, dtype: int64"
      ]
     },
     "execution_count": 42,
     "metadata": {},
     "output_type": "execute_result"
    }
   ],
   "source": [
    "df['tableau_job'] = df['Job Description'].str.contains('tableau', na=False, case=False)\n",
    "df['tableau_job'].value_counts()"
   ]
  },
  {
   "cell_type": "code",
   "execution_count": null,
   "id": "official-admission",
   "metadata": {
    "papermill": {
     "duration": 0.106254,
     "end_time": "2021-07-06T15:49:41.736888",
     "exception": false,
     "start_time": "2021-07-06T15:49:41.630634",
     "status": "completed"
    },
    "tags": []
   },
   "outputs": [],
   "source": []
  },
  {
   "cell_type": "markdown",
   "id": "junior-jason",
   "metadata": {
    "papermill": {
     "duration": 0.105059,
     "end_time": "2021-07-06T15:49:41.947811",
     "exception": false,
     "start_time": "2021-07-06T15:49:41.842752",
     "status": "completed"
    },
    "tags": []
   },
   "source": [
    "- Let's move on to the 'Rating'"
   ]
  },
  {
   "cell_type": "markdown",
   "id": "raising-patrick",
   "metadata": {
    "papermill": {
     "duration": 0.104969,
     "end_time": "2021-07-06T15:49:42.157859",
     "exception": false,
     "start_time": "2021-07-06T15:49:42.052890",
     "status": "completed"
    },
    "tags": []
   },
   "source": [
    "#### **Ratings**"
   ]
  },
  {
   "cell_type": "code",
   "execution_count": 43,
   "id": "coastal-silence",
   "metadata": {
    "_kg_hide-input": true,
    "papermill": {
     "duration": 0.115363,
     "end_time": "2021-07-06T15:49:42.379300",
     "exception": false,
     "start_time": "2021-07-06T15:49:42.263937",
     "status": "completed"
    },
    "tags": []
   },
   "outputs": [
    {
     "data": {
      "text/plain": [
       "254     3.6\n",
       "2127    NaN\n",
       "1133    3.2\n",
       "2056    3.0\n",
       "2210    4.3\n",
       "1202    3.4\n",
       "2167    5.0\n",
       "1578    4.4\n",
       "420     3.4\n",
       "1247    3.1\n",
       "Name: Rating, dtype: float64"
      ]
     },
     "execution_count": 43,
     "metadata": {},
     "output_type": "execute_result"
    }
   ],
   "source": [
    "df['Rating'].sample(10)"
   ]
  },
  {
   "cell_type": "code",
   "execution_count": 44,
   "id": "functioning-pharmaceutical",
   "metadata": {
    "_kg_hide-input": true,
    "papermill": {
     "duration": 0.114727,
     "end_time": "2021-07-06T15:49:42.599504",
     "exception": false,
     "start_time": "2021-07-06T15:49:42.484777",
     "status": "completed"
    },
    "tags": []
   },
   "outputs": [
    {
     "data": {
      "text/plain": [
       "272"
      ]
     },
     "execution_count": 44,
     "metadata": {},
     "output_type": "execute_result"
    }
   ],
   "source": [
    "df['Rating'].isnull().sum()"
   ]
  },
  {
   "cell_type": "markdown",
   "id": "expressed-library",
   "metadata": {
    "papermill": {
     "duration": 0.106825,
     "end_time": "2021-07-06T15:49:42.811814",
     "exception": false,
     "start_time": "2021-07-06T15:49:42.704989",
     "status": "completed"
    },
    "tags": []
   },
   "source": [
    "- Right now, we will keep the row which has missing value on Rating, we ant to use salary and job title info on these rows."
   ]
  },
  {
   "cell_type": "markdown",
   "id": "heated-storage",
   "metadata": {
    "papermill": {
     "duration": 0.106514,
     "end_time": "2021-07-06T15:49:43.024802",
     "exception": false,
     "start_time": "2021-07-06T15:49:42.918288",
     "status": "completed"
    },
    "tags": []
   },
   "source": [
    "#### **Company Name**"
   ]
  },
  {
   "cell_type": "code",
   "execution_count": 45,
   "id": "after-wagner",
   "metadata": {
    "_kg_hide-input": true,
    "papermill": {
     "duration": 0.117429,
     "end_time": "2021-07-06T15:49:43.248469",
     "exception": false,
     "start_time": "2021-07-06T15:49:43.131040",
     "status": "completed"
    },
    "tags": []
   },
   "outputs": [
    {
     "data": {
      "text/plain": [
       "171                         Diverse Lynx\\n3.9\n",
       "649                        Leo Tech, LLC\\n3.5\n",
       "2044                    The Armada Group\\n4.4\n",
       "511     Staffigo Technical Services, LLC\\n5.0\n",
       "557           Warner Bros. Entertainment\\n3.9\n",
       "354                                   Softinc\n",
       "1295                             Amentum\\n3.2\n",
       "480                       Liberty Source\\n3.5\n",
       "1721                       CSI Tech Inc.\\n3.0\n",
       "1599                              212 Factors\n",
       "Name: Company Name, dtype: object"
      ]
     },
     "execution_count": 45,
     "metadata": {},
     "output_type": "execute_result"
    }
   ],
   "source": [
    "df['Company Name'].sample(10)"
   ]
  },
  {
   "cell_type": "markdown",
   "id": "unusual-deployment",
   "metadata": {
    "papermill": {
     "duration": 0.105626,
     "end_time": "2021-07-06T15:49:43.460318",
     "exception": false,
     "start_time": "2021-07-06T15:49:43.354692",
     "status": "completed"
    },
    "tags": []
   },
   "source": [
    "- OK. Something weird with the company names, it includes number, which most probably reflects, their rating score.\n",
    "- Let explore it."
   ]
  },
  {
   "cell_type": "code",
   "execution_count": 46,
   "id": "friendly-alloy",
   "metadata": {
    "_kg_hide-input": true,
    "papermill": {
     "duration": 0.119909,
     "end_time": "2021-07-06T15:49:43.687899",
     "exception": false,
     "start_time": "2021-07-06T15:49:43.567990",
     "status": "completed"
    },
    "tags": []
   },
   "outputs": [
    {
     "data": {
      "text/html": [
       "<div>\n",
       "<style scoped>\n",
       "    .dataframe tbody tr th:only-of-type {\n",
       "        vertical-align: middle;\n",
       "    }\n",
       "\n",
       "    .dataframe tbody tr th {\n",
       "        vertical-align: top;\n",
       "    }\n",
       "\n",
       "    .dataframe thead th {\n",
       "        text-align: right;\n",
       "    }\n",
       "</style>\n",
       "<table border=\"1\" class=\"dataframe\">\n",
       "  <thead>\n",
       "    <tr style=\"text-align: right;\">\n",
       "      <th></th>\n",
       "      <th>Company Name</th>\n",
       "      <th>Rating</th>\n",
       "    </tr>\n",
       "  </thead>\n",
       "  <tbody>\n",
       "    <tr>\n",
       "      <th>2072</th>\n",
       "      <td>Concept Software &amp; Services Inc\\n5.0</td>\n",
       "      <td>5.0</td>\n",
       "    </tr>\n",
       "    <tr>\n",
       "      <th>1381</th>\n",
       "      <td>Ho Chunk\\n2.8</td>\n",
       "      <td>2.8</td>\n",
       "    </tr>\n",
       "    <tr>\n",
       "      <th>2236</th>\n",
       "      <td>Telligen\\n3.6</td>\n",
       "      <td>3.6</td>\n",
       "    </tr>\n",
       "    <tr>\n",
       "      <th>359</th>\n",
       "      <td>Barnabas Health\\n2.1</td>\n",
       "      <td>2.1</td>\n",
       "    </tr>\n",
       "    <tr>\n",
       "      <th>2062</th>\n",
       "      <td>The Ascent Services Group\\n4.6</td>\n",
       "      <td>4.6</td>\n",
       "    </tr>\n",
       "  </tbody>\n",
       "</table>\n",
       "</div>"
      ],
      "text/plain": [
       "                              Company Name  Rating\n",
       "2072  Concept Software & Services Inc\\n5.0     5.0\n",
       "1381                         Ho Chunk\\n2.8     2.8\n",
       "2236                         Telligen\\n3.6     3.6\n",
       "359                   Barnabas Health\\n2.1     2.1\n",
       "2062        The Ascent Services Group\\n4.6     4.6"
      ]
     },
     "execution_count": 46,
     "metadata": {},
     "output_type": "execute_result"
    }
   ],
   "source": [
    "df[['Company Name', 'Rating']].sample(5)"
   ]
  },
  {
   "cell_type": "markdown",
   "id": "documentary-marking",
   "metadata": {
    "papermill": {
     "duration": 0.107255,
     "end_time": "2021-07-06T15:49:43.903245",
     "exception": false,
     "start_time": "2021-07-06T15:49:43.795990",
     "status": "completed"
    },
    "tags": []
   },
   "source": [
    "- Yep, so we can safely remove rating part from the company name."
   ]
  },
  {
   "cell_type": "code",
   "execution_count": 47,
   "id": "hundred-homeless",
   "metadata": {
    "_kg_hide-input": true,
    "papermill": {
     "duration": 0.120905,
     "end_time": "2021-07-06T15:49:44.130230",
     "exception": false,
     "start_time": "2021-07-06T15:49:44.009325",
     "status": "completed"
    },
    "tags": []
   },
   "outputs": [
    {
     "data": {
      "text/plain": [
       "1327        Dallas County\n",
       "1988           TransReach\n",
       "1413    Onyx CenterSource\n",
       "Name: Company Name, dtype: object"
      ]
     },
     "execution_count": 47,
     "metadata": {},
     "output_type": "execute_result"
    }
   ],
   "source": [
    "df['Company Name']= df['Company Name'].str.split('\\n').str[0]\n",
    "\n",
    "df['Company Name'].sample(3)"
   ]
  },
  {
   "cell_type": "markdown",
   "id": "nonprofit-threat",
   "metadata": {
    "papermill": {
     "duration": 0.109856,
     "end_time": "2021-07-06T15:49:44.372325",
     "exception": false,
     "start_time": "2021-07-06T15:49:44.262469",
     "status": "completed"
    },
    "tags": []
   },
   "source": [
    "- Let's see whether any missing value in company name"
   ]
  },
  {
   "cell_type": "code",
   "execution_count": 48,
   "id": "english-sender",
   "metadata": {
    "_kg_hide-input": true,
    "papermill": {
     "duration": 0.115141,
     "end_time": "2021-07-06T15:49:44.593079",
     "exception": false,
     "start_time": "2021-07-06T15:49:44.477938",
     "status": "completed"
    },
    "tags": []
   },
   "outputs": [
    {
     "data": {
      "text/plain": [
       "1"
      ]
     },
     "execution_count": 48,
     "metadata": {},
     "output_type": "execute_result"
    }
   ],
   "source": [
    "df['Company Name'].isnull().sum()"
   ]
  },
  {
   "cell_type": "code",
   "execution_count": 49,
   "id": "administrative-nomination",
   "metadata": {
    "_kg_hide-input": true,
    "papermill": {
     "duration": 0.136897,
     "end_time": "2021-07-06T15:49:44.836669",
     "exception": false,
     "start_time": "2021-07-06T15:49:44.699772",
     "status": "completed"
    },
    "tags": []
   },
   "outputs": [
    {
     "data": {
      "text/html": [
       "<div>\n",
       "<style scoped>\n",
       "    .dataframe tbody tr th:only-of-type {\n",
       "        vertical-align: middle;\n",
       "    }\n",
       "\n",
       "    .dataframe tbody tr th {\n",
       "        vertical-align: top;\n",
       "    }\n",
       "\n",
       "    .dataframe thead th {\n",
       "        text-align: right;\n",
       "    }\n",
       "</style>\n",
       "<table border=\"1\" class=\"dataframe\">\n",
       "  <thead>\n",
       "    <tr style=\"text-align: right;\">\n",
       "      <th></th>\n",
       "      <th>Unnamed: 0</th>\n",
       "      <th>Job Title</th>\n",
       "      <th>Salary Estimate</th>\n",
       "      <th>Job Description</th>\n",
       "      <th>Rating</th>\n",
       "      <th>Company Name</th>\n",
       "      <th>Location</th>\n",
       "      <th>Headquarters</th>\n",
       "      <th>Size</th>\n",
       "      <th>Founded</th>\n",
       "      <th>...</th>\n",
       "      <th>Revenue</th>\n",
       "      <th>Competitors</th>\n",
       "      <th>Easy Apply</th>\n",
       "      <th>Salary_minimum</th>\n",
       "      <th>Salary_maximum</th>\n",
       "      <th>Salary_average</th>\n",
       "      <th>python_job</th>\n",
       "      <th>SQL_job</th>\n",
       "      <th>excel_job</th>\n",
       "      <th>tableau_job</th>\n",
       "    </tr>\n",
       "  </thead>\n",
       "  <tbody>\n",
       "    <tr>\n",
       "      <th>1860</th>\n",
       "      <td>1860</td>\n",
       "      <td>Data Analyst</td>\n",
       "      <td>$53K-$99K (Glassdoor est.)</td>\n",
       "      <td>Kindred at Home, part of the Kindred at Home f...</td>\n",
       "      <td>NaN</td>\n",
       "      <td>NaN</td>\n",
       "      <td>Mooresville, NC</td>\n",
       "      <td>NaN</td>\n",
       "      <td>NaN</td>\n",
       "      <td>NaN</td>\n",
       "      <td>...</td>\n",
       "      <td>NaN</td>\n",
       "      <td>NaN</td>\n",
       "      <td>NaN</td>\n",
       "      <td>53.0</td>\n",
       "      <td>99.0</td>\n",
       "      <td>76.0</td>\n",
       "      <td>False</td>\n",
       "      <td>True</td>\n",
       "      <td>True</td>\n",
       "      <td>False</td>\n",
       "    </tr>\n",
       "  </tbody>\n",
       "</table>\n",
       "<p>1 rows × 23 columns</p>\n",
       "</div>"
      ],
      "text/plain": [
       "      Unnamed: 0     Job Title             Salary Estimate  \\\n",
       "1860        1860  Data Analyst  $53K-$99K (Glassdoor est.)   \n",
       "\n",
       "                                        Job Description  Rating Company Name  \\\n",
       "1860  Kindred at Home, part of the Kindred at Home f...     NaN          NaN   \n",
       "\n",
       "             Location Headquarters Size  Founded  ... Revenue Competitors  \\\n",
       "1860  Mooresville, NC          NaN  NaN      NaN  ...     NaN         NaN   \n",
       "\n",
       "     Easy Apply Salary_minimum Salary_maximum Salary_average  python_job  \\\n",
       "1860        NaN           53.0           99.0           76.0       False   \n",
       "\n",
       "      SQL_job  excel_job  tableau_job  \n",
       "1860     True       True        False  \n",
       "\n",
       "[1 rows x 23 columns]"
      ]
     },
     "execution_count": 49,
     "metadata": {},
     "output_type": "execute_result"
    }
   ],
   "source": [
    "df[df['Company Name'].isnull()]"
   ]
  },
  {
   "cell_type": "markdown",
   "id": "twenty-fourth",
   "metadata": {
    "papermill": {
     "duration": 0.107524,
     "end_time": "2021-07-06T15:49:45.051795",
     "exception": false,
     "start_time": "2021-07-06T15:49:44.944271",
     "status": "completed"
    },
    "tags": []
   },
   "source": [
    "- We can keep this row, for job title, salary and job description"
   ]
  },
  {
   "cell_type": "code",
   "execution_count": 50,
   "id": "lasting-driving",
   "metadata": {
    "_kg_hide-input": true,
    "papermill": {
     "duration": 0.118822,
     "end_time": "2021-07-06T15:49:45.278956",
     "exception": false,
     "start_time": "2021-07-06T15:49:45.160134",
     "status": "completed"
    },
    "tags": []
   },
   "outputs": [
    {
     "data": {
      "text/plain": [
       "IT Services                                 325\n",
       "Staffing & Outsourcing                      322\n",
       "Health Care Services & Hospitals            151\n",
       "Computer Hardware & Software                111\n",
       "Consulting                                  111\n",
       "                                           ... \n",
       "Audiovisual                                   1\n",
       "Pet & Pet Supplies Stores                     1\n",
       "Truck Rental & Leasing                        1\n",
       "Chemical Manufacturing                        1\n",
       "Consumer Electronics & Appliances Stores      1\n",
       "Name: Industry, Length: 88, dtype: int64"
      ]
     },
     "execution_count": 50,
     "metadata": {},
     "output_type": "execute_result"
    }
   ],
   "source": [
    "df['Industry'].value_counts()"
   ]
  },
  {
   "cell_type": "markdown",
   "id": "skilled-validity",
   "metadata": {
    "papermill": {
     "duration": 0.107745,
     "end_time": "2021-07-06T15:49:45.494843",
     "exception": false,
     "start_time": "2021-07-06T15:49:45.387098",
     "status": "completed"
    },
    "tags": []
   },
   "source": [
    "- Seems OK.\n",
    "- Let's see the missing values, if any."
   ]
  },
  {
   "cell_type": "code",
   "execution_count": 51,
   "id": "unnecessary-poster",
   "metadata": {
    "_kg_hide-input": true,
    "papermill": {
     "duration": 0.115149,
     "end_time": "2021-07-06T15:49:45.718059",
     "exception": false,
     "start_time": "2021-07-06T15:49:45.602910",
     "status": "completed"
    },
    "tags": []
   },
   "outputs": [
    {
     "data": {
      "text/plain": [
       "353"
      ]
     },
     "execution_count": 51,
     "metadata": {},
     "output_type": "execute_result"
    }
   ],
   "source": [
    "df['Industry'].isnull().sum()"
   ]
  },
  {
   "cell_type": "markdown",
   "id": "rolled-husband",
   "metadata": {
    "papermill": {
     "duration": 0.105764,
     "end_time": "2021-07-06T15:49:45.932983",
     "exception": false,
     "start_time": "2021-07-06T15:49:45.827219",
     "status": "completed"
    },
    "tags": []
   },
   "source": [
    "- We will keep these rows which has missing value on Industry."
   ]
  },
  {
   "cell_type": "markdown",
   "id": "fossil-checklist",
   "metadata": {
    "papermill": {
     "duration": 0.108087,
     "end_time": "2021-07-06T15:49:46.151590",
     "exception": false,
     "start_time": "2021-07-06T15:49:46.043503",
     "status": "completed"
    },
    "tags": []
   },
   "source": [
    "#### Sector"
   ]
  },
  {
   "cell_type": "code",
   "execution_count": 52,
   "id": "educated-keyboard",
   "metadata": {
    "_kg_hide-input": true,
    "papermill": {
     "duration": 0.119479,
     "end_time": "2021-07-06T15:49:46.380759",
     "exception": false,
     "start_time": "2021-07-06T15:49:46.261280",
     "status": "completed"
    },
    "tags": []
   },
   "outputs": [
    {
     "data": {
      "text/plain": [
       "Information Technology                570\n",
       "Business Services                     523\n",
       "Finance                               169\n",
       "Health Care                           151\n",
       "Education                              52\n",
       "Insurance                              51\n",
       "Accounting & Legal                     43\n",
       "Media                                  42\n",
       "Manufacturing                          40\n",
       "Retail                                 38\n",
       "Government                             36\n",
       "Biotech & Pharmaceuticals              33\n",
       "Non-Profit                             26\n",
       "Aerospace & Defense                    22\n",
       "Transportation & Logistics             20\n",
       "Construction, Repair & Maintenance     16\n",
       "Consumer Services                      14\n",
       "Oil, Gas, Energy & Utilities           13\n",
       "Real Estate                            12\n",
       "Telecommunications                     11\n",
       "Restaurants, Bars & Food Services       8\n",
       "Arts, Entertainment & Recreation        7\n",
       "Travel & Tourism                        1\n",
       "Mining & Metals                         1\n",
       "Name: Sector, dtype: int64"
      ]
     },
     "execution_count": 52,
     "metadata": {},
     "output_type": "execute_result"
    }
   ],
   "source": [
    "df['Sector'].value_counts()"
   ]
  },
  {
   "cell_type": "markdown",
   "id": "criminal-component",
   "metadata": {
    "papermill": {
     "duration": 0.107298,
     "end_time": "2021-07-06T15:49:46.596451",
     "exception": false,
     "start_time": "2021-07-06T15:49:46.489153",
     "status": "completed"
    },
    "tags": []
   },
   "source": [
    "- Seems quite OK.\n",
    "- Let's look at the missing values, at least we know one, but let's see any other missng value in this variable"
   ]
  },
  {
   "cell_type": "code",
   "execution_count": 53,
   "id": "heated-lexington",
   "metadata": {
    "_kg_hide-input": true,
    "papermill": {
     "duration": 0.119652,
     "end_time": "2021-07-06T15:49:46.824980",
     "exception": false,
     "start_time": "2021-07-06T15:49:46.705328",
     "status": "completed"
    },
    "tags": []
   },
   "outputs": [
    {
     "data": {
      "text/plain": [
       "353"
      ]
     },
     "execution_count": 53,
     "metadata": {},
     "output_type": "execute_result"
    }
   ],
   "source": [
    "df['Sector'].isnull().sum()"
   ]
  },
  {
   "cell_type": "markdown",
   "id": "failing-picture",
   "metadata": {
    "papermill": {
     "duration": 0.107834,
     "end_time": "2021-07-06T15:49:47.042483",
     "exception": false,
     "start_time": "2021-07-06T15:49:46.934649",
     "status": "completed"
    },
    "tags": []
   },
   "source": [
    "- We will keep these rows which has missing value on Sector."
   ]
  },
  {
   "cell_type": "code",
   "execution_count": 54,
   "id": "french-norfolk",
   "metadata": {
    "_kg_hide-input": true,
    "papermill": {
     "duration": 0.13164,
     "end_time": "2021-07-06T15:49:47.281323",
     "exception": false,
     "start_time": "2021-07-06T15:49:47.149683",
     "status": "completed"
    },
    "tags": []
   },
   "outputs": [
    {
     "name": "stdout",
     "output_type": "stream",
     "text": [
      "<class 'pandas.core.frame.DataFrame'>\n",
      "Int64Index: 2252 entries, 0 to 2252\n",
      "Data columns (total 23 columns):\n",
      " #   Column             Non-Null Count  Dtype  \n",
      "---  ------             --------------  -----  \n",
      " 0   Unnamed: 0         2252 non-null   int64  \n",
      " 1   Job Title          2252 non-null   object \n",
      " 2   Salary Estimate    2252 non-null   object \n",
      " 3   Job Description    2252 non-null   object \n",
      " 4   Rating             1980 non-null   float64\n",
      " 5   Company Name       2251 non-null   object \n",
      " 6   Location           2252 non-null   object \n",
      " 7   Headquarters       2080 non-null   object \n",
      " 8   Size               2089 non-null   object \n",
      " 9   Founded            1592 non-null   float64\n",
      " 10  Type of ownership  2089 non-null   object \n",
      " 11  Industry           1899 non-null   object \n",
      " 12  Sector             1899 non-null   object \n",
      " 13  Revenue            2089 non-null   object \n",
      " 14  Competitors        521 non-null    object \n",
      " 15  Easy Apply         80 non-null     object \n",
      " 16  Salary_minimum     2252 non-null   float64\n",
      " 17  Salary_maximum     2252 non-null   float64\n",
      " 18  Salary_average     2252 non-null   float64\n",
      " 19  python_job         2252 non-null   bool   \n",
      " 20  SQL_job            2252 non-null   bool   \n",
      " 21  excel_job          2252 non-null   bool   \n",
      " 22  tableau_job        2252 non-null   bool   \n",
      "dtypes: bool(4), float64(5), int64(1), object(13)\n",
      "memory usage: 425.2+ KB\n"
     ]
    }
   ],
   "source": [
    "df.info()"
   ]
  },
  {
   "cell_type": "markdown",
   "id": "fatal-thermal",
   "metadata": {
    "papermill": {
     "duration": 0.109931,
     "end_time": "2021-07-06T15:49:47.501212",
     "exception": false,
     "start_time": "2021-07-06T15:49:47.391281",
     "status": "completed"
    },
    "tags": []
   },
   "source": [
    "### Analysis Part"
   ]
  },
  {
   "cell_type": "markdown",
   "id": "numerical-burst",
   "metadata": {
    "papermill": {
     "duration": 0.10945,
     "end_time": "2021-07-06T15:49:47.720684",
     "exception": false,
     "start_time": "2021-07-06T15:49:47.611234",
     "status": "completed"
    },
    "tags": []
   },
   "source": [
    "Let's start the analysis part with needed variables, namely:\n",
    "- Job title\n",
    "- Rating\n",
    "- Company Name\n",
    "- Industry\n",
    "- Sector\n",
    "- Salary Minimum\n",
    "- Salary Maximum\n",
    "- Salary Average\n",
    "- Python job\n",
    "- SQL job\n",
    "- Excel job\n",
    "- Tableau job"
   ]
  },
  {
   "cell_type": "code",
   "execution_count": 55,
   "id": "stainless-regulation",
   "metadata": {
    "_kg_hide-input": true,
    "papermill": {
     "duration": 0.119958,
     "end_time": "2021-07-06T15:49:47.952358",
     "exception": false,
     "start_time": "2021-07-06T15:49:47.832400",
     "status": "completed"
    },
    "tags": []
   },
   "outputs": [
    {
     "data": {
      "text/plain": [
       "Index(['Unnamed: 0', 'Job Title', 'Salary Estimate', 'Job Description',\n",
       "       'Rating', 'Company Name', 'Location', 'Headquarters', 'Size', 'Founded',\n",
       "       'Type of ownership', 'Industry', 'Sector', 'Revenue', 'Competitors',\n",
       "       'Easy Apply', 'Salary_minimum', 'Salary_maximum', 'Salary_average',\n",
       "       'python_job', 'SQL_job', 'excel_job', 'tableau_job'],\n",
       "      dtype='object')"
      ]
     },
     "execution_count": 55,
     "metadata": {},
     "output_type": "execute_result"
    }
   ],
   "source": [
    "df.columns"
   ]
  },
  {
   "cell_type": "code",
   "execution_count": 56,
   "id": "aquatic-confidentiality",
   "metadata": {
    "_kg_hide-input": true,
    "papermill": {
     "duration": 0.136435,
     "end_time": "2021-07-06T15:49:48.199318",
     "exception": false,
     "start_time": "2021-07-06T15:49:48.062883",
     "status": "completed"
    },
    "scrolled": true,
    "tags": []
   },
   "outputs": [
    {
     "data": {
      "text/html": [
       "<div>\n",
       "<style scoped>\n",
       "    .dataframe tbody tr th:only-of-type {\n",
       "        vertical-align: middle;\n",
       "    }\n",
       "\n",
       "    .dataframe tbody tr th {\n",
       "        vertical-align: top;\n",
       "    }\n",
       "\n",
       "    .dataframe thead th {\n",
       "        text-align: right;\n",
       "    }\n",
       "</style>\n",
       "<table border=\"1\" class=\"dataframe\">\n",
       "  <thead>\n",
       "    <tr style=\"text-align: right;\">\n",
       "      <th></th>\n",
       "      <th>Job Title</th>\n",
       "      <th>Company Name</th>\n",
       "      <th>Rating</th>\n",
       "      <th>Industry</th>\n",
       "      <th>Sector</th>\n",
       "      <th>Salary_minimum</th>\n",
       "      <th>Salary_maximum</th>\n",
       "      <th>Salary_average</th>\n",
       "      <th>python_job</th>\n",
       "      <th>SQL_job</th>\n",
       "      <th>excel_job</th>\n",
       "      <th>tableau_job</th>\n",
       "    </tr>\n",
       "  </thead>\n",
       "  <tbody>\n",
       "    <tr>\n",
       "      <th>0</th>\n",
       "      <td>Data Analyst, Center on Immigration and Justic...</td>\n",
       "      <td>Vera Institute of Justice</td>\n",
       "      <td>3.2</td>\n",
       "      <td>Social Assistance</td>\n",
       "      <td>Non-Profit</td>\n",
       "      <td>37.0</td>\n",
       "      <td>66.0</td>\n",
       "      <td>51.5</td>\n",
       "      <td>True</td>\n",
       "      <td>True</td>\n",
       "      <td>False</td>\n",
       "      <td>False</td>\n",
       "    </tr>\n",
       "    <tr>\n",
       "      <th>1</th>\n",
       "      <td>Quality Data Analyst</td>\n",
       "      <td>Visiting Nurse Service of New York</td>\n",
       "      <td>3.8</td>\n",
       "      <td>Health Care Services &amp; Hospitals</td>\n",
       "      <td>Health Care</td>\n",
       "      <td>37.0</td>\n",
       "      <td>66.0</td>\n",
       "      <td>51.5</td>\n",
       "      <td>False</td>\n",
       "      <td>True</td>\n",
       "      <td>True</td>\n",
       "      <td>False</td>\n",
       "    </tr>\n",
       "    <tr>\n",
       "      <th>2</th>\n",
       "      <td>Senior Data Analyst, Insights &amp; Analytics Team...</td>\n",
       "      <td>Squarespace</td>\n",
       "      <td>3.4</td>\n",
       "      <td>Internet</td>\n",
       "      <td>Information Technology</td>\n",
       "      <td>37.0</td>\n",
       "      <td>66.0</td>\n",
       "      <td>51.5</td>\n",
       "      <td>True</td>\n",
       "      <td>True</td>\n",
       "      <td>True</td>\n",
       "      <td>True</td>\n",
       "    </tr>\n",
       "    <tr>\n",
       "      <th>3</th>\n",
       "      <td>Data Analyst</td>\n",
       "      <td>Celerity</td>\n",
       "      <td>4.1</td>\n",
       "      <td>IT Services</td>\n",
       "      <td>Information Technology</td>\n",
       "      <td>37.0</td>\n",
       "      <td>66.0</td>\n",
       "      <td>51.5</td>\n",
       "      <td>False</td>\n",
       "      <td>True</td>\n",
       "      <td>False</td>\n",
       "      <td>True</td>\n",
       "    </tr>\n",
       "    <tr>\n",
       "      <th>4</th>\n",
       "      <td>Reporting Data Analyst</td>\n",
       "      <td>FanDuel</td>\n",
       "      <td>3.9</td>\n",
       "      <td>Sports &amp; Recreation</td>\n",
       "      <td>Arts, Entertainment &amp; Recreation</td>\n",
       "      <td>37.0</td>\n",
       "      <td>66.0</td>\n",
       "      <td>51.5</td>\n",
       "      <td>True</td>\n",
       "      <td>True</td>\n",
       "      <td>True</td>\n",
       "      <td>False</td>\n",
       "    </tr>\n",
       "  </tbody>\n",
       "</table>\n",
       "</div>"
      ],
      "text/plain": [
       "                                           Job Title  \\\n",
       "0  Data Analyst, Center on Immigration and Justic...   \n",
       "1                               Quality Data Analyst   \n",
       "2  Senior Data Analyst, Insights & Analytics Team...   \n",
       "3                                       Data Analyst   \n",
       "4                             Reporting Data Analyst   \n",
       "\n",
       "                         Company Name  Rating  \\\n",
       "0           Vera Institute of Justice     3.2   \n",
       "1  Visiting Nurse Service of New York     3.8   \n",
       "2                         Squarespace     3.4   \n",
       "3                            Celerity     4.1   \n",
       "4                             FanDuel     3.9   \n",
       "\n",
       "                           Industry                            Sector  \\\n",
       "0                 Social Assistance                        Non-Profit   \n",
       "1  Health Care Services & Hospitals                       Health Care   \n",
       "2                          Internet            Information Technology   \n",
       "3                       IT Services            Information Technology   \n",
       "4               Sports & Recreation  Arts, Entertainment & Recreation   \n",
       "\n",
       "   Salary_minimum  Salary_maximum  Salary_average  python_job  SQL_job  \\\n",
       "0            37.0            66.0            51.5        True     True   \n",
       "1            37.0            66.0            51.5       False     True   \n",
       "2            37.0            66.0            51.5        True     True   \n",
       "3            37.0            66.0            51.5       False     True   \n",
       "4            37.0            66.0            51.5        True     True   \n",
       "\n",
       "   excel_job  tableau_job  \n",
       "0      False        False  \n",
       "1       True        False  \n",
       "2       True         True  \n",
       "3      False         True  \n",
       "4       True        False  "
      ]
     },
     "execution_count": 56,
     "metadata": {},
     "output_type": "execute_result"
    }
   ],
   "source": [
    "df_analyst = df[['Job Title', 'Company Name', 'Rating', 'Industry', 'Sector', 'Salary_minimum','Salary_maximum', 'Salary_average','python_job', 'SQL_job', 'excel_job', 'tableau_job']]\n",
    "df_analyst.head()"
   ]
  },
  {
   "cell_type": "code",
   "execution_count": 57,
   "id": "shaped-significance",
   "metadata": {
    "_kg_hide-input": true,
    "papermill": {
     "duration": 0.121496,
     "end_time": "2021-07-06T15:49:48.431912",
     "exception": false,
     "start_time": "2021-07-06T15:49:48.310416",
     "status": "completed"
    },
    "tags": []
   },
   "outputs": [
    {
     "data": {
      "text/plain": [
       "Job Title           0\n",
       "Company Name        1\n",
       "Rating            272\n",
       "Industry          353\n",
       "Sector            353\n",
       "Salary_minimum      0\n",
       "Salary_maximum      0\n",
       "Salary_average      0\n",
       "python_job          0\n",
       "SQL_job             0\n",
       "excel_job           0\n",
       "tableau_job         0\n",
       "dtype: int64"
      ]
     },
     "execution_count": 57,
     "metadata": {},
     "output_type": "execute_result"
    }
   ],
   "source": [
    "df_analyst.isnull().sum()"
   ]
  },
  {
   "cell_type": "code",
   "execution_count": 58,
   "id": "representative-fossil",
   "metadata": {
    "_kg_hide-input": true,
    "papermill": {
     "duration": 0.139652,
     "end_time": "2021-07-06T15:49:48.682856",
     "exception": false,
     "start_time": "2021-07-06T15:49:48.543204",
     "status": "completed"
    },
    "tags": []
   },
   "outputs": [
    {
     "data": {
      "text/html": [
       "<div>\n",
       "<style scoped>\n",
       "    .dataframe tbody tr th:only-of-type {\n",
       "        vertical-align: middle;\n",
       "    }\n",
       "\n",
       "    .dataframe tbody tr th {\n",
       "        vertical-align: top;\n",
       "    }\n",
       "\n",
       "    .dataframe thead th {\n",
       "        text-align: right;\n",
       "    }\n",
       "</style>\n",
       "<table border=\"1\" class=\"dataframe\">\n",
       "  <thead>\n",
       "    <tr style=\"text-align: right;\">\n",
       "      <th></th>\n",
       "      <th>Rating</th>\n",
       "      <th>Salary_minimum</th>\n",
       "      <th>Salary_maximum</th>\n",
       "      <th>Salary_average</th>\n",
       "    </tr>\n",
       "  </thead>\n",
       "  <tbody>\n",
       "    <tr>\n",
       "      <th>count</th>\n",
       "      <td>1980.000000</td>\n",
       "      <td>2252.000000</td>\n",
       "      <td>2252.000000</td>\n",
       "      <td>2252.000000</td>\n",
       "    </tr>\n",
       "    <tr>\n",
       "      <th>mean</th>\n",
       "      <td>3.731566</td>\n",
       "      <td>54.266874</td>\n",
       "      <td>89.979130</td>\n",
       "      <td>72.123002</td>\n",
       "    </tr>\n",
       "    <tr>\n",
       "      <th>std</th>\n",
       "      <td>0.670333</td>\n",
       "      <td>19.575375</td>\n",
       "      <td>29.315605</td>\n",
       "      <td>23.600734</td>\n",
       "    </tr>\n",
       "    <tr>\n",
       "      <th>min</th>\n",
       "      <td>1.000000</td>\n",
       "      <td>24.000000</td>\n",
       "      <td>38.000000</td>\n",
       "      <td>33.500000</td>\n",
       "    </tr>\n",
       "    <tr>\n",
       "      <th>25%</th>\n",
       "      <td>3.300000</td>\n",
       "      <td>41.000000</td>\n",
       "      <td>70.000000</td>\n",
       "      <td>58.000000</td>\n",
       "    </tr>\n",
       "    <tr>\n",
       "      <th>50%</th>\n",
       "      <td>3.700000</td>\n",
       "      <td>50.000000</td>\n",
       "      <td>87.000000</td>\n",
       "      <td>69.000000</td>\n",
       "    </tr>\n",
       "    <tr>\n",
       "      <th>75%</th>\n",
       "      <td>4.100000</td>\n",
       "      <td>64.000000</td>\n",
       "      <td>104.000000</td>\n",
       "      <td>80.500000</td>\n",
       "    </tr>\n",
       "    <tr>\n",
       "      <th>max</th>\n",
       "      <td>5.000000</td>\n",
       "      <td>113.000000</td>\n",
       "      <td>190.000000</td>\n",
       "      <td>150.000000</td>\n",
       "    </tr>\n",
       "  </tbody>\n",
       "</table>\n",
       "</div>"
      ],
      "text/plain": [
       "            Rating  Salary_minimum  Salary_maximum  Salary_average\n",
       "count  1980.000000     2252.000000     2252.000000     2252.000000\n",
       "mean      3.731566       54.266874       89.979130       72.123002\n",
       "std       0.670333       19.575375       29.315605       23.600734\n",
       "min       1.000000       24.000000       38.000000       33.500000\n",
       "25%       3.300000       41.000000       70.000000       58.000000\n",
       "50%       3.700000       50.000000       87.000000       69.000000\n",
       "75%       4.100000       64.000000      104.000000       80.500000\n",
       "max       5.000000      113.000000      190.000000      150.000000"
      ]
     },
     "execution_count": 58,
     "metadata": {},
     "output_type": "execute_result"
    }
   ],
   "source": [
    "df_analyst.describe()"
   ]
  },
  {
   "cell_type": "markdown",
   "id": "opened-impression",
   "metadata": {
    "papermill": {
     "duration": 0.115217,
     "end_time": "2021-07-06T15:49:48.912382",
     "exception": false,
     "start_time": "2021-07-06T15:49:48.797165",
     "status": "completed"
    },
    "tags": []
   },
   "source": [
    "Let's look at the some of the information we can get from above table:\n",
    "\n",
    "- Average and also median value for the ratings of the companies very close to 4 (at round 3.7)\n",
    "- Average minimum salary is around 54K and median value for minimum salary is around 50K. We can expect outliers from salary distribution and we acn also expect right skewed distribution of the minimum salary.\n",
    "- Average maximum salary is almost 90K (89.97) and median value for maximum salary is 87K. We can expect outliers from salary distribution and we can also expect right skewed distribution of the maximum salary.\n",
    "- Average salary is around 72K, but still we can expect several outliers for this variable(min= 33.5K, max= 150K)"
   ]
  },
  {
   "cell_type": "code",
   "execution_count": 59,
   "id": "regular-reunion",
   "metadata": {
    "_kg_hide-input": true,
    "papermill": {
     "duration": 1.204793,
     "end_time": "2021-07-06T15:49:50.232091",
     "exception": false,
     "start_time": "2021-07-06T15:49:49.027298",
     "status": "completed"
    },
    "tags": []
   },
   "outputs": [
    {
     "data": {
      "text/html": [
       "<iframe\n",
       "    scrolling=\"no\"\n",
       "    width=\"100%\"\n",
       "    height=\"545px\"\n",
       "    src=\"iframe_figures/figure_59.html\"\n",
       "    frameborder=\"0\"\n",
       "    allowfullscreen\n",
       "></iframe>\n"
      ]
     },
     "metadata": {},
     "output_type": "display_data"
    }
   ],
   "source": [
    "fig = px.histogram(df_analyst, x= 'Salary_minimum', title='Minimum Salary of Data Analyst Jobs', marginal=\"box\",hover_data = df_analyst[['Job Title', 'Company Name']])\n",
    "\n",
    "fig.show()"
   ]
  },
  {
   "cell_type": "markdown",
   "id": "signal-franklin",
   "metadata": {
    "papermill": {
     "duration": 0.117557,
     "end_time": "2021-07-06T15:49:50.467410",
     "exception": false,
     "start_time": "2021-07-06T15:49:50.349853",
     "status": "completed"
    },
    "tags": []
   },
   "source": [
    "- As seen in the histogram, minimum salary for data analyst is an average between 40-70K, but we have quite skewed distribution on the minimum salary."
   ]
  },
  {
   "cell_type": "code",
   "execution_count": 60,
   "id": "useful-threshold",
   "metadata": {
    "_kg_hide-input": true,
    "papermill": {
     "duration": 0.255025,
     "end_time": "2021-07-06T15:49:50.839005",
     "exception": false,
     "start_time": "2021-07-06T15:49:50.583980",
     "status": "completed"
    },
    "tags": []
   },
   "outputs": [
    {
     "data": {
      "text/html": [
       "<iframe\n",
       "    scrolling=\"no\"\n",
       "    width=\"100%\"\n",
       "    height=\"545px\"\n",
       "    src=\"iframe_figures/figure_60.html\"\n",
       "    frameborder=\"0\"\n",
       "    allowfullscreen\n",
       "></iframe>\n"
      ]
     },
     "metadata": {},
     "output_type": "display_data"
    }
   ],
   "source": [
    "fig = px.histogram(df_analyst, x= 'Salary_maximum', title='Maximum Salary of Data Analyst Jobs', marginal=\"box\",hover_data = df_analyst[['Job Title', 'Company Name']])\n",
    "\n",
    "fig.show()"
   ]
  },
  {
   "cell_type": "markdown",
   "id": "lesbian-ordering",
   "metadata": {
    "papermill": {
     "duration": 0.124706,
     "end_time": "2021-07-06T15:49:51.088270",
     "exception": false,
     "start_time": "2021-07-06T15:49:50.963564",
     "status": "completed"
    },
    "tags": []
   },
   "source": [
    "- As seen in the histogram, maximum salary for data analyst is an average between 65-90K, but we have quite skewed distribution on the maximum salary."
   ]
  },
  {
   "cell_type": "code",
   "execution_count": 61,
   "id": "recognized-exemption",
   "metadata": {
    "_kg_hide-input": true,
    "papermill": {
     "duration": 0.259305,
     "end_time": "2021-07-06T15:49:51.470009",
     "exception": false,
     "start_time": "2021-07-06T15:49:51.210704",
     "status": "completed"
    },
    "tags": []
   },
   "outputs": [
    {
     "data": {
      "text/html": [
       "<iframe\n",
       "    scrolling=\"no\"\n",
       "    width=\"100%\"\n",
       "    height=\"545px\"\n",
       "    src=\"iframe_figures/figure_61.html\"\n",
       "    frameborder=\"0\"\n",
       "    allowfullscreen\n",
       "></iframe>\n"
      ]
     },
     "metadata": {},
     "output_type": "display_data"
    }
   ],
   "source": [
    "fig = px.histogram(df_analyst, x= 'Salary_average', title='Average Salary of Data Analyst Jobs',marginal=\"box\",hover_data = df_analyst[['Job Title', 'Company Name']])\n",
    "\n",
    "fig.show()"
   ]
  },
  {
   "cell_type": "markdown",
   "id": "bearing-difference",
   "metadata": {
    "papermill": {
     "duration": 0.128056,
     "end_time": "2021-07-06T15:49:51.726505",
     "exception": false,
     "start_time": "2021-07-06T15:49:51.598449",
     "status": "completed"
    },
    "tags": []
   },
   "source": [
    "- As seen in the histogram, average salary for data analyst is an average between 60-80K, but we have skewed distribution on the average salary."
   ]
  },
  {
   "cell_type": "markdown",
   "id": "posted-offer",
   "metadata": {
    "papermill": {
     "duration": 0.127135,
     "end_time": "2021-07-06T15:49:51.982060",
     "exception": false,
     "start_time": "2021-07-06T15:49:51.854925",
     "status": "completed"
    },
    "tags": []
   },
   "source": [
    "- OK, we have overall info about the salary of the all data analyst job advertisements.\n",
    "- Next we will specifically see 'Data Analyst' job advertisement and it's salary scale"
   ]
  },
  {
   "cell_type": "markdown",
   "id": "disabled-browse",
   "metadata": {
    "papermill": {
     "duration": 0.126902,
     "end_time": "2021-07-06T15:49:52.236120",
     "exception": false,
     "start_time": "2021-07-06T15:49:52.109218",
     "status": "completed"
    },
    "tags": []
   },
   "source": [
    "### Data Analyst"
   ]
  },
  {
   "cell_type": "code",
   "execution_count": 62,
   "id": "current-perfume",
   "metadata": {
    "_kg_hide-input": true,
    "papermill": {
     "duration": 0.152103,
     "end_time": "2021-07-06T15:49:52.516417",
     "exception": false,
     "start_time": "2021-07-06T15:49:52.364314",
     "status": "completed"
    },
    "scrolled": true,
    "tags": []
   },
   "outputs": [
    {
     "data": {
      "text/html": [
       "<div>\n",
       "<style scoped>\n",
       "    .dataframe tbody tr th:only-of-type {\n",
       "        vertical-align: middle;\n",
       "    }\n",
       "\n",
       "    .dataframe tbody tr th {\n",
       "        vertical-align: top;\n",
       "    }\n",
       "\n",
       "    .dataframe thead th {\n",
       "        text-align: right;\n",
       "    }\n",
       "</style>\n",
       "<table border=\"1\" class=\"dataframe\">\n",
       "  <thead>\n",
       "    <tr style=\"text-align: right;\">\n",
       "      <th></th>\n",
       "      <th>Job Title</th>\n",
       "      <th>Company Name</th>\n",
       "      <th>Rating</th>\n",
       "      <th>Industry</th>\n",
       "      <th>Sector</th>\n",
       "      <th>Salary_minimum</th>\n",
       "      <th>Salary_maximum</th>\n",
       "      <th>Salary_average</th>\n",
       "      <th>python_job</th>\n",
       "      <th>SQL_job</th>\n",
       "      <th>excel_job</th>\n",
       "      <th>tableau_job</th>\n",
       "    </tr>\n",
       "  </thead>\n",
       "  <tbody>\n",
       "    <tr>\n",
       "      <th>3</th>\n",
       "      <td>Data Analyst</td>\n",
       "      <td>Celerity</td>\n",
       "      <td>4.1</td>\n",
       "      <td>IT Services</td>\n",
       "      <td>Information Technology</td>\n",
       "      <td>37.0</td>\n",
       "      <td>66.0</td>\n",
       "      <td>51.5</td>\n",
       "      <td>False</td>\n",
       "      <td>True</td>\n",
       "      <td>False</td>\n",
       "      <td>True</td>\n",
       "    </tr>\n",
       "    <tr>\n",
       "      <th>5</th>\n",
       "      <td>Data Analyst</td>\n",
       "      <td>Point72</td>\n",
       "      <td>3.9</td>\n",
       "      <td>Investment Banking &amp; Asset Management</td>\n",
       "      <td>Finance</td>\n",
       "      <td>37.0</td>\n",
       "      <td>66.0</td>\n",
       "      <td>51.5</td>\n",
       "      <td>True</td>\n",
       "      <td>True</td>\n",
       "      <td>True</td>\n",
       "      <td>False</td>\n",
       "    </tr>\n",
       "    <tr>\n",
       "      <th>8</th>\n",
       "      <td>Data Analyst</td>\n",
       "      <td>DMGT</td>\n",
       "      <td>4.0</td>\n",
       "      <td>Venture Capital &amp; Private Equity</td>\n",
       "      <td>Finance</td>\n",
       "      <td>37.0</td>\n",
       "      <td>66.0</td>\n",
       "      <td>51.5</td>\n",
       "      <td>True</td>\n",
       "      <td>True</td>\n",
       "      <td>True</td>\n",
       "      <td>False</td>\n",
       "    </tr>\n",
       "    <tr>\n",
       "      <th>10</th>\n",
       "      <td>Data Analyst</td>\n",
       "      <td>NYU Langone Health</td>\n",
       "      <td>4.0</td>\n",
       "      <td>Health Care Services &amp; Hospitals</td>\n",
       "      <td>Health Care</td>\n",
       "      <td>37.0</td>\n",
       "      <td>66.0</td>\n",
       "      <td>51.5</td>\n",
       "      <td>False</td>\n",
       "      <td>False</td>\n",
       "      <td>True</td>\n",
       "      <td>False</td>\n",
       "    </tr>\n",
       "    <tr>\n",
       "      <th>11</th>\n",
       "      <td>Data Analyst</td>\n",
       "      <td>BulbHead</td>\n",
       "      <td>NaN</td>\n",
       "      <td>NaN</td>\n",
       "      <td>NaN</td>\n",
       "      <td>37.0</td>\n",
       "      <td>66.0</td>\n",
       "      <td>51.5</td>\n",
       "      <td>True</td>\n",
       "      <td>True</td>\n",
       "      <td>True</td>\n",
       "      <td>True</td>\n",
       "    </tr>\n",
       "  </tbody>\n",
       "</table>\n",
       "</div>"
      ],
      "text/plain": [
       "       Job Title        Company Name  Rating  \\\n",
       "3   Data Analyst            Celerity     4.1   \n",
       "5   Data Analyst             Point72     3.9   \n",
       "8   Data Analyst                DMGT     4.0   \n",
       "10  Data Analyst  NYU Langone Health     4.0   \n",
       "11  Data Analyst            BulbHead     NaN   \n",
       "\n",
       "                                 Industry                  Sector  \\\n",
       "3                             IT Services  Information Technology   \n",
       "5   Investment Banking & Asset Management                 Finance   \n",
       "8        Venture Capital & Private Equity                 Finance   \n",
       "10       Health Care Services & Hospitals             Health Care   \n",
       "11                                    NaN                     NaN   \n",
       "\n",
       "    Salary_minimum  Salary_maximum  Salary_average  python_job  SQL_job  \\\n",
       "3             37.0            66.0            51.5       False     True   \n",
       "5             37.0            66.0            51.5        True     True   \n",
       "8             37.0            66.0            51.5        True     True   \n",
       "10            37.0            66.0            51.5       False    False   \n",
       "11            37.0            66.0            51.5        True     True   \n",
       "\n",
       "    excel_job  tableau_job  \n",
       "3       False         True  \n",
       "5        True        False  \n",
       "8        True        False  \n",
       "10       True        False  \n",
       "11       True         True  "
      ]
     },
     "execution_count": 62,
     "metadata": {},
     "output_type": "execute_result"
    }
   ],
   "source": [
    "data_analyst_df = df_analyst[df_analyst['Job Title']=='Data Analyst']\n",
    "data_analyst_df.head()"
   ]
  },
  {
   "cell_type": "code",
   "execution_count": 63,
   "id": "explicit-forty",
   "metadata": {
    "_kg_hide-input": true,
    "papermill": {
     "duration": 0.158325,
     "end_time": "2021-07-06T15:49:52.803728",
     "exception": false,
     "start_time": "2021-07-06T15:49:52.645403",
     "status": "completed"
    },
    "tags": []
   },
   "outputs": [
    {
     "data": {
      "text/html": [
       "<div>\n",
       "<style scoped>\n",
       "    .dataframe tbody tr th:only-of-type {\n",
       "        vertical-align: middle;\n",
       "    }\n",
       "\n",
       "    .dataframe tbody tr th {\n",
       "        vertical-align: top;\n",
       "    }\n",
       "\n",
       "    .dataframe thead th {\n",
       "        text-align: right;\n",
       "    }\n",
       "</style>\n",
       "<table border=\"1\" class=\"dataframe\">\n",
       "  <thead>\n",
       "    <tr style=\"text-align: right;\">\n",
       "      <th></th>\n",
       "      <th>Rating</th>\n",
       "      <th>Salary_minimum</th>\n",
       "      <th>Salary_maximum</th>\n",
       "      <th>Salary_average</th>\n",
       "    </tr>\n",
       "  </thead>\n",
       "  <tbody>\n",
       "    <tr>\n",
       "      <th>count</th>\n",
       "      <td>349.000000</td>\n",
       "      <td>405.000000</td>\n",
       "      <td>405.000000</td>\n",
       "      <td>405.000000</td>\n",
       "    </tr>\n",
       "    <tr>\n",
       "      <th>mean</th>\n",
       "      <td>3.850143</td>\n",
       "      <td>54.296296</td>\n",
       "      <td>90.874074</td>\n",
       "      <td>72.585185</td>\n",
       "    </tr>\n",
       "    <tr>\n",
       "      <th>std</th>\n",
       "      <td>0.679529</td>\n",
       "      <td>21.089181</td>\n",
       "      <td>35.892185</td>\n",
       "      <td>28.007461</td>\n",
       "    </tr>\n",
       "    <tr>\n",
       "      <th>min</th>\n",
       "      <td>1.000000</td>\n",
       "      <td>24.000000</td>\n",
       "      <td>38.000000</td>\n",
       "      <td>33.500000</td>\n",
       "    </tr>\n",
       "    <tr>\n",
       "      <th>25%</th>\n",
       "      <td>3.400000</td>\n",
       "      <td>38.000000</td>\n",
       "      <td>67.000000</td>\n",
       "      <td>53.500000</td>\n",
       "    </tr>\n",
       "    <tr>\n",
       "      <th>50%</th>\n",
       "      <td>3.900000</td>\n",
       "      <td>51.000000</td>\n",
       "      <td>85.000000</td>\n",
       "      <td>68.000000</td>\n",
       "    </tr>\n",
       "    <tr>\n",
       "      <th>75%</th>\n",
       "      <td>4.300000</td>\n",
       "      <td>60.000000</td>\n",
       "      <td>103.000000</td>\n",
       "      <td>79.500000</td>\n",
       "    </tr>\n",
       "    <tr>\n",
       "      <th>max</th>\n",
       "      <td>5.000000</td>\n",
       "      <td>110.000000</td>\n",
       "      <td>190.000000</td>\n",
       "      <td>150.000000</td>\n",
       "    </tr>\n",
       "  </tbody>\n",
       "</table>\n",
       "</div>"
      ],
      "text/plain": [
       "           Rating  Salary_minimum  Salary_maximum  Salary_average\n",
       "count  349.000000      405.000000      405.000000      405.000000\n",
       "mean     3.850143       54.296296       90.874074       72.585185\n",
       "std      0.679529       21.089181       35.892185       28.007461\n",
       "min      1.000000       24.000000       38.000000       33.500000\n",
       "25%      3.400000       38.000000       67.000000       53.500000\n",
       "50%      3.900000       51.000000       85.000000       68.000000\n",
       "75%      4.300000       60.000000      103.000000       79.500000\n",
       "max      5.000000      110.000000      190.000000      150.000000"
      ]
     },
     "execution_count": 63,
     "metadata": {},
     "output_type": "execute_result"
    }
   ],
   "source": [
    "data_analyst_df.describe()"
   ]
  },
  {
   "cell_type": "markdown",
   "id": "satisfied-defensive",
   "metadata": {
    "papermill": {
     "duration": 0.129447,
     "end_time": "2021-07-06T15:49:53.062232",
     "exception": false,
     "start_time": "2021-07-06T15:49:52.932785",
     "status": "completed"
    },
    "tags": []
   },
   "source": [
    "Let's look at the some of the information we can get from above table:\n",
    "\n",
    "- Average and also median value for the ratings of the companies very close to 4 (at round 3.9), it is a little bit more than overall job advertisements' rating average (3,7)\n",
    "- Average minimum salary is around 54K and median value for minimum salary is 51K. It is almost same with the whole data minimum salary mean and median. We can expect outliers from salary distribution and we acn also expect right skewed distribution of the minimum salary.\n",
    "- Average maximum salary is almost 90K (89.97) and median value for maximum salary is 85K. MMedian value is less than whole data maximum salary median value. We can expect outliers from salary distribution and we can also expect right skewed distribution of the maximum salary.\n",
    "- Average salary is around 72K, but still we can expect several outliers for this variable(min= 33.5K, max= 150K)"
   ]
  },
  {
   "cell_type": "code",
   "execution_count": 64,
   "id": "dietary-williams",
   "metadata": {
    "_kg_hide-input": true,
    "papermill": {
     "duration": 0.229434,
     "end_time": "2021-07-06T15:49:53.421668",
     "exception": false,
     "start_time": "2021-07-06T15:49:53.192234",
     "status": "completed"
    },
    "tags": []
   },
   "outputs": [
    {
     "data": {
      "text/html": [
       "<iframe\n",
       "    scrolling=\"no\"\n",
       "    width=\"100%\"\n",
       "    height=\"545px\"\n",
       "    src=\"iframe_figures/figure_64.html\"\n",
       "    frameborder=\"0\"\n",
       "    allowfullscreen\n",
       "></iframe>\n"
      ]
     },
     "metadata": {},
     "output_type": "display_data"
    }
   ],
   "source": [
    "\n",
    "fig = px.histogram(data_analyst_df, x= 'Salary_minimum',title='Minimum Salary of Data Analyst', marginal=\"box\",hover_data = data_analyst_df[['Job Title', 'python_job', 'SQL_job','excel_job','tableau_job']])\n",
    "fig.show()"
   ]
  },
  {
   "cell_type": "markdown",
   "id": "ignored-tribute",
   "metadata": {
    "papermill": {
     "duration": 0.129819,
     "end_time": "2021-07-06T15:49:53.679944",
     "exception": false,
     "start_time": "2021-07-06T15:49:53.550125",
     "status": "completed"
    },
    "tags": []
   },
   "source": [
    "- As seen in the graph, minimum salary for data analyst is an average between 40-60K, but we have quite skewed distribution on the minimum salary."
   ]
  },
  {
   "cell_type": "code",
   "execution_count": 65,
   "id": "alpha-poison",
   "metadata": {
    "_kg_hide-input": true,
    "papermill": {
     "duration": 0.231861,
     "end_time": "2021-07-06T15:49:54.042940",
     "exception": false,
     "start_time": "2021-07-06T15:49:53.811079",
     "status": "completed"
    },
    "tags": []
   },
   "outputs": [
    {
     "data": {
      "text/html": [
       "<iframe\n",
       "    scrolling=\"no\"\n",
       "    width=\"100%\"\n",
       "    height=\"545px\"\n",
       "    src=\"iframe_figures/figure_65.html\"\n",
       "    frameborder=\"0\"\n",
       "    allowfullscreen\n",
       "></iframe>\n"
      ]
     },
     "metadata": {},
     "output_type": "display_data"
    }
   ],
   "source": [
    "fig = px.histogram(data_analyst_df, x= 'Salary_maximum', title='Maximum Salary of Data Analyst',marginal=\"box\",hover_data = data_analyst_df[['Job Title', 'python_job', 'SQL_job','excel_job','tableau_job']])\n",
    "fig.show()"
   ]
  },
  {
   "cell_type": "markdown",
   "id": "private-generator",
   "metadata": {
    "papermill": {
     "duration": 0.130783,
     "end_time": "2021-07-06T15:49:54.304433",
     "exception": false,
     "start_time": "2021-07-06T15:49:54.173650",
     "status": "completed"
    },
    "tags": []
   },
   "source": [
    "- As seen in the histogram, maximum salary for data analyst is an average between 67-95K, but we have quite skewed distribution on the maximum salary."
   ]
  },
  {
   "cell_type": "code",
   "execution_count": 66,
   "id": "indoor-handbook",
   "metadata": {
    "_kg_hide-input": true,
    "papermill": {
     "duration": 0.234244,
     "end_time": "2021-07-06T15:49:54.669825",
     "exception": false,
     "start_time": "2021-07-06T15:49:54.435581",
     "status": "completed"
    },
    "tags": []
   },
   "outputs": [
    {
     "data": {
      "text/html": [
       "<iframe\n",
       "    scrolling=\"no\"\n",
       "    width=\"100%\"\n",
       "    height=\"545px\"\n",
       "    src=\"iframe_figures/figure_66.html\"\n",
       "    frameborder=\"0\"\n",
       "    allowfullscreen\n",
       "></iframe>\n"
      ]
     },
     "metadata": {},
     "output_type": "display_data"
    }
   ],
   "source": [
    "fig = px.histogram(data_analyst_df, x= 'Salary_average',title='Average Salary of Data Analyst', marginal=\"box\",hover_data = data_analyst_df[['Job Title', 'python_job', 'SQL_job','excel_job','tableau_job']])\n",
    "fig.show()"
   ]
  },
  {
   "cell_type": "markdown",
   "id": "dependent-trustee",
   "metadata": {
    "papermill": {
     "duration": 0.1337,
     "end_time": "2021-07-06T15:49:54.937137",
     "exception": false,
     "start_time": "2021-07-06T15:49:54.803437",
     "status": "completed"
    },
    "tags": []
   },
   "source": [
    "- As seen in the histogram, average salary for data analyst is an average between 55-80K, but we have skewed distribution on the average salary."
   ]
  },
  {
   "cell_type": "markdown",
   "id": "transsexual-growing",
   "metadata": {
    "papermill": {
     "duration": 0.196606,
     "end_time": "2021-07-06T15:49:55.267997",
     "exception": false,
     "start_time": "2021-07-06T15:49:55.071391",
     "status": "completed"
    },
    "tags": []
   },
   "source": [
    "### Job Openings by Job Title"
   ]
  },
  {
   "cell_type": "markdown",
   "id": "shaped-present",
   "metadata": {
    "papermill": {
     "duration": 0.13188,
     "end_time": "2021-07-06T15:49:55.535554",
     "exception": false,
     "start_time": "2021-07-06T15:49:55.403674",
     "status": "completed"
    },
    "tags": []
   },
   "source": [
    "- Let's see top 20 job title in the data analyst job advertisements."
   ]
  },
  {
   "cell_type": "code",
   "execution_count": 67,
   "id": "infrared-balloon",
   "metadata": {
    "_kg_hide-input": true,
    "papermill": {
     "duration": 0.145033,
     "end_time": "2021-07-06T15:49:55.813089",
     "exception": false,
     "start_time": "2021-07-06T15:49:55.668056",
     "status": "completed"
    },
    "tags": []
   },
   "outputs": [
    {
     "data": {
      "text/plain": [
       "Data Analyst               405\n",
       "Senior Data Analyst        121\n",
       "Junior Data Analyst         50\n",
       "Business Data Analyst       28\n",
       "Data Analyst II             17\n",
       "Data Quality Analyst        17\n",
       "Data Governance Analyst     16\n",
       "Lead Data Analyst           15\n",
       "Data Reporting Analyst      13\n",
       "Financial Data Analyst      12\n",
       "Data Analyst III            11\n",
       "Data Analyst I              11\n",
       "Marketing Data Analyst       9\n",
       "Data Warehouse Analyst       8\n",
       "Data Management Analyst      8\n",
       "Data Science Analyst         7\n",
       "Technical Data Analyst       7\n",
       "SQL Data Analyst             7\n",
       "Healthcare Data Analyst      6\n",
       "Research Data Analyst        6\n",
       "Name: Job Title, dtype: int64"
      ]
     },
     "execution_count": 67,
     "metadata": {},
     "output_type": "execute_result"
    }
   ],
   "source": [
    "df_analyst['Job Title'].value_counts()[:20]"
   ]
  },
  {
   "cell_type": "code",
   "execution_count": 68,
   "id": "indoor-little",
   "metadata": {
    "_kg_hide-input": true,
    "papermill": {
     "duration": 0.307888,
     "end_time": "2021-07-06T15:49:56.253510",
     "exception": false,
     "start_time": "2021-07-06T15:49:55.945622",
     "status": "completed"
    },
    "tags": []
   },
   "outputs": [
    {
     "data": {
      "text/html": [
       "<iframe\n",
       "    scrolling=\"no\"\n",
       "    width=\"100%\"\n",
       "    height=\"545px\"\n",
       "    src=\"iframe_figures/figure_68.html\"\n",
       "    frameborder=\"0\"\n",
       "    allowfullscreen\n",
       "></iframe>\n"
      ]
     },
     "metadata": {},
     "output_type": "display_data"
    }
   ],
   "source": [
    "fig=go.Figure()\n",
    "fig.add_trace(go.Scatter(\n",
    "    x= df_analyst['Job Title'].value_counts()[:20].index,\n",
    "    y= df_analyst['Job Title'].value_counts()[:20].values,\n",
    "    name='Number of Job Openings',\n",
    "    mode='markers+text+lines',\n",
    "    marker_color='blue',\n",
    "    marker_size=10,\n",
    "    text=df_analyst['Job Title'].value_counts()[:20].values,\n",
    "    textposition='top center',\n",
    "    line=dict(color='red',dash='dash'),\n",
    "))\n",
    "fig.update_layout(\n",
    "    title= \"<b>Number of Job Openings by Job titles</b>\",\n",
    "    xaxis_title=\"<b>Job Titles</b>\",\n",
    "    yaxis_title=\"<b>Number of Job Openings</b>\",\n",
    "    template='seaborn',\n",
    "    font=dict(\n",
    "        size=12,\n",
    "        color=\"Black\",\n",
    "        family=\"Oswald', sans-serif\"\n",
    "        ),\n",
    "    xaxis=dict(showgrid=True),\n",
    "    yaxis=dict(showgrid=True),\n",
    "    yaxis2=dict(showgrid=True,overlaying='y',side='right',title='<b>Number of Job Openings</b>'),\n",
    "    legend=dict(yanchor=\"top\",\n",
    "    y=1.3,\n",
    "    xanchor=\"left\",\n",
    "    x=0.78)\n",
    ")\n",
    "fig.show()"
   ]
  },
  {
   "cell_type": "markdown",
   "id": "derived-pierce",
   "metadata": {
    "papermill": {
     "duration": 0.137461,
     "end_time": "2021-07-06T15:49:56.526787",
     "exception": false,
     "start_time": "2021-07-06T15:49:56.389326",
     "status": "completed"
    },
    "tags": []
   },
   "source": [
    "As shown in the plot;\n",
    "- Data Analyst\n",
    "- Senior Data Analyst\n",
    "- Junior Data Analyst\n",
    "- Business Data Analyst are the most used titles in the job advertisements."
   ]
  },
  {
   "cell_type": "markdown",
   "id": "hydraulic-extent",
   "metadata": {
    "papermill": {
     "duration": 0.134415,
     "end_time": "2021-07-06T15:49:56.794705",
     "exception": false,
     "start_time": "2021-07-06T15:49:56.660290",
     "status": "completed"
    },
    "tags": []
   },
   "source": [
    "### Job Openings by Industry"
   ]
  },
  {
   "cell_type": "code",
   "execution_count": 69,
   "id": "minus-authority",
   "metadata": {
    "_kg_hide-input": true,
    "papermill": {
     "duration": 0.147286,
     "end_time": "2021-07-06T15:49:57.079702",
     "exception": false,
     "start_time": "2021-07-06T15:49:56.932416",
     "status": "completed"
    },
    "tags": []
   },
   "outputs": [
    {
     "data": {
      "text/plain": [
       "IT Services                                325\n",
       "Staffing & Outsourcing                     322\n",
       "Health Care Services & Hospitals           151\n",
       "Computer Hardware & Software               111\n",
       "Consulting                                 111\n",
       "Investment Banking & Asset Management       78\n",
       "Enterprise Software & Network Solutions     69\n",
       "Internet                                    65\n",
       "Banks & Credit Unions                       51\n",
       "Advertising & Marketing                     51\n",
       "Insurance Carriers                          47\n",
       "Colleges & Universities                     40\n",
       "Accounting                                  39\n",
       "Biotech & Pharmaceuticals                   33\n",
       "Social Assistance                           23\n",
       "Aerospace & Defense                         22\n",
       "Video Games                                 20\n",
       "State & Regional Agencies                   15\n",
       "Lending                                     15\n",
       "Logistics & Supply Chain                    13\n",
       "Name: Industry, dtype: int64"
      ]
     },
     "execution_count": 69,
     "metadata": {},
     "output_type": "execute_result"
    }
   ],
   "source": [
    "df_analyst['Industry'].value_counts()[:20]"
   ]
  },
  {
   "cell_type": "code",
   "execution_count": 70,
   "id": "choice-restoration",
   "metadata": {
    "_kg_hide-input": true,
    "papermill": {
     "duration": 0.201491,
     "end_time": "2021-07-06T15:49:57.417098",
     "exception": false,
     "start_time": "2021-07-06T15:49:57.215607",
     "status": "completed"
    },
    "tags": []
   },
   "outputs": [
    {
     "data": {
      "text/html": [
       "<iframe\n",
       "    scrolling=\"no\"\n",
       "    width=\"100%\"\n",
       "    height=\"545px\"\n",
       "    src=\"iframe_figures/figure_70.html\"\n",
       "    frameborder=\"0\"\n",
       "    allowfullscreen\n",
       "></iframe>\n"
      ]
     },
     "metadata": {},
     "output_type": "display_data"
    }
   ],
   "source": [
    "fig=go.Figure()\n",
    "fig.add_trace(go.Scatter(\n",
    "    x= df_analyst['Industry'].value_counts()[:20].index,\n",
    "    y= df_analyst['Industry'].value_counts()[:20].values,\n",
    "    name='Number of Job Openings',\n",
    "    mode='markers+text+lines',\n",
    "    marker_color='red',\n",
    "    marker_size=10,\n",
    "    text=df_analyst['Industry'].value_counts()[:20].values,\n",
    "    textposition='top center',\n",
    "    line=dict(color='white',dash='dash'),\n",
    "))\n",
    "fig.update_layout(\n",
    "    title= \"<b>Number of Job Openings by Industry</b>\",\n",
    "    xaxis_title=\"<b>industry</b>\",\n",
    "    yaxis_title=\"<b>Number of Job Openings</b>\",\n",
    "    template='seaborn',\n",
    "    font=dict(\n",
    "        size=12,\n",
    "        color=\"Black\",\n",
    "        family=\"Oswald', sans-serif\"\n",
    "        ),\n",
    "    xaxis=dict(showgrid=False),\n",
    "    yaxis=dict(showgrid=False),\n",
    "    yaxis2=dict(showgrid=True,overlaying='y',side='right',title='<b>Number of Job Openings</b>'),\n",
    "    legend=dict(yanchor=\"top\",\n",
    "    y=1.3,\n",
    "    xanchor=\"left\",\n",
    "    x=0.78)\n",
    ")\n",
    "fig.show()"
   ]
  },
  {
   "cell_type": "markdown",
   "id": "formed-cardiff",
   "metadata": {
    "papermill": {
     "duration": 0.135159,
     "end_time": "2021-07-06T15:49:57.687128",
     "exception": false,
     "start_time": "2021-07-06T15:49:57.551969",
     "status": "completed"
    },
    "tags": []
   },
   "source": [
    "As shown in the plot;\n",
    "\n",
    "- IT Services                               \n",
    "- Staffing & Outsourcing                     \n",
    "- Health Care Services & Hospitals           \n",
    "- Consulting                                 \n",
    "- Computer Hardware & Software   are the most data analyst job opening advertised industries.\n",
    "\n",
    "- It is important to mention also, Banking (Investment Banks - Banks) also advertised 129 (combined)  data analyst job  openings"
   ]
  },
  {
   "cell_type": "markdown",
   "id": "forward-possession",
   "metadata": {
    "papermill": {
     "duration": 0.134952,
     "end_time": "2021-07-06T15:49:57.957712",
     "exception": false,
     "start_time": "2021-07-06T15:49:57.822760",
     "status": "completed"
    },
    "tags": []
   },
   "source": [
    "### Job Openings by Sector"
   ]
  },
  {
   "cell_type": "code",
   "execution_count": 71,
   "id": "western-reservation",
   "metadata": {
    "_kg_hide-input": true,
    "papermill": {
     "duration": 0.146974,
     "end_time": "2021-07-06T15:49:58.240910",
     "exception": false,
     "start_time": "2021-07-06T15:49:58.093936",
     "status": "completed"
    },
    "tags": []
   },
   "outputs": [
    {
     "data": {
      "text/plain": [
       "Information Technology                570\n",
       "Business Services                     523\n",
       "Finance                               169\n",
       "Health Care                           151\n",
       "Education                              52\n",
       "Insurance                              51\n",
       "Accounting & Legal                     43\n",
       "Media                                  42\n",
       "Manufacturing                          40\n",
       "Retail                                 38\n",
       "Government                             36\n",
       "Biotech & Pharmaceuticals              33\n",
       "Non-Profit                             26\n",
       "Aerospace & Defense                    22\n",
       "Transportation & Logistics             20\n",
       "Construction, Repair & Maintenance     16\n",
       "Consumer Services                      14\n",
       "Oil, Gas, Energy & Utilities           13\n",
       "Real Estate                            12\n",
       "Telecommunications                     11\n",
       "Name: Sector, dtype: int64"
      ]
     },
     "execution_count": 71,
     "metadata": {},
     "output_type": "execute_result"
    }
   ],
   "source": [
    "df_analyst['Sector'].value_counts()[:20]"
   ]
  },
  {
   "cell_type": "code",
   "execution_count": 72,
   "id": "challenging-acrylic",
   "metadata": {
    "_kg_hide-input": true,
    "papermill": {
     "duration": 0.203036,
     "end_time": "2021-07-06T15:49:58.579261",
     "exception": false,
     "start_time": "2021-07-06T15:49:58.376225",
     "status": "completed"
    },
    "tags": []
   },
   "outputs": [
    {
     "data": {
      "text/html": [
       "<iframe\n",
       "    scrolling=\"no\"\n",
       "    width=\"100%\"\n",
       "    height=\"545px\"\n",
       "    src=\"iframe_figures/figure_72.html\"\n",
       "    frameborder=\"0\"\n",
       "    allowfullscreen\n",
       "></iframe>\n"
      ]
     },
     "metadata": {},
     "output_type": "display_data"
    }
   ],
   "source": [
    "fig=go.Figure()\n",
    "fig.add_trace(go.Scatter(\n",
    "    x= df_analyst['Sector'].value_counts()[:20].index,\n",
    "    y= df_analyst['Sector'].value_counts()[:20].values,\n",
    "    name='Number of Job Openings',\n",
    "    mode='markers+text+lines',\n",
    "    marker_color='blue',\n",
    "    marker_size=10,\n",
    "    text=df_analyst['Sector'].value_counts()[:20].values,\n",
    "    textposition='top center',\n",
    "    line=dict(color='white',dash='dash'),\n",
    "))\n",
    "fig.update_layout(\n",
    "    title= \"<b>Number of Job Openings by Sector</b>\",\n",
    "    xaxis_title=\"<b>Sector</b>\",\n",
    "    yaxis_title=\"<b>Number of Job Openings</b>\",\n",
    "    template='seaborn',\n",
    "    font=dict(\n",
    "        size=12,\n",
    "        color=\"Black\",\n",
    "        family=\"Oswald', sans-serif\"\n",
    "        ),\n",
    "    xaxis=dict(showgrid=True),\n",
    "    yaxis=dict(showgrid=True),\n",
    "    yaxis2=dict(showgrid=True,overlaying='y',side='right',title='<b>Number of Job Openings</b>'),\n",
    "    legend=dict(yanchor=\"top\",\n",
    "    y=1.3,\n",
    "    xanchor=\"left\",\n",
    "    x=0.78)\n",
    ")\n",
    "fig.show()"
   ]
  },
  {
   "cell_type": "markdown",
   "id": "spare-college",
   "metadata": {
    "papermill": {
     "duration": 0.137313,
     "end_time": "2021-07-06T15:49:58.853700",
     "exception": false,
     "start_time": "2021-07-06T15:49:58.716387",
     "status": "completed"
    },
    "tags": []
   },
   "source": [
    "As shown in the plot;\n",
    "\n",
    "- Information Technology                               \n",
    "- Business Services\n",
    "- Finance\n",
    "- Health Care are the most data analyst job opening advertised sectors.\n"
   ]
  },
  {
   "cell_type": "markdown",
   "id": "wireless-arlington",
   "metadata": {
    "papermill": {
     "duration": 0.139844,
     "end_time": "2021-07-06T15:49:59.133045",
     "exception": false,
     "start_time": "2021-07-06T15:49:58.993201",
     "status": "completed"
    },
    "tags": []
   },
   "source": [
    "- Now let's see **Python, SQL, Excel, Tableau** in an action."
   ]
  },
  {
   "cell_type": "markdown",
   "id": "medieval-arnold",
   "metadata": {
    "papermill": {
     "duration": 0.135384,
     "end_time": "2021-07-06T15:49:59.406331",
     "exception": false,
     "start_time": "2021-07-06T15:49:59.270947",
     "status": "completed"
    },
    "tags": []
   },
   "source": [
    "### Required Programming Languages & Program Skills by Job Title"
   ]
  },
  {
   "cell_type": "code",
   "execution_count": 73,
   "id": "needed-award",
   "metadata": {
    "_kg_hide-input": true,
    "papermill": {
     "duration": 0.167456,
     "end_time": "2021-07-06T15:49:59.711246",
     "exception": false,
     "start_time": "2021-07-06T15:49:59.543790",
     "status": "completed"
    },
    "tags": []
   },
   "outputs": [
    {
     "data": {
      "text/html": [
       "<div>\n",
       "<style scoped>\n",
       "    .dataframe tbody tr th:only-of-type {\n",
       "        vertical-align: middle;\n",
       "    }\n",
       "\n",
       "    .dataframe tbody tr th {\n",
       "        vertical-align: top;\n",
       "    }\n",
       "\n",
       "    .dataframe thead th {\n",
       "        text-align: right;\n",
       "    }\n",
       "</style>\n",
       "<table border=\"1\" class=\"dataframe\">\n",
       "  <thead>\n",
       "    <tr style=\"text-align: right;\">\n",
       "      <th></th>\n",
       "      <th>Job Title</th>\n",
       "      <th>number_of_job_openings</th>\n",
       "      <th>python_job</th>\n",
       "      <th>SQL_job</th>\n",
       "      <th>excel_job</th>\n",
       "      <th>tableau_job</th>\n",
       "    </tr>\n",
       "  </thead>\n",
       "  <tbody>\n",
       "    <tr>\n",
       "      <th>0</th>\n",
       "      <td>Data Analyst</td>\n",
       "      <td>405</td>\n",
       "      <td>125</td>\n",
       "      <td>301</td>\n",
       "      <td>239</td>\n",
       "      <td>110</td>\n",
       "    </tr>\n",
       "    <tr>\n",
       "      <th>1</th>\n",
       "      <td>Senior Data Analyst</td>\n",
       "      <td>121</td>\n",
       "      <td>68</td>\n",
       "      <td>104</td>\n",
       "      <td>67</td>\n",
       "      <td>64</td>\n",
       "    </tr>\n",
       "    <tr>\n",
       "      <th>2</th>\n",
       "      <td>Business Data Analyst</td>\n",
       "      <td>50</td>\n",
       "      <td>11</td>\n",
       "      <td>21</td>\n",
       "      <td>17</td>\n",
       "      <td>11</td>\n",
       "    </tr>\n",
       "    <tr>\n",
       "      <th>3</th>\n",
       "      <td>NY Healthcare Data/Reporting Analyst</td>\n",
       "      <td>28</td>\n",
       "      <td>5</td>\n",
       "      <td>5</td>\n",
       "      <td>5</td>\n",
       "      <td>5</td>\n",
       "    </tr>\n",
       "    <tr>\n",
       "      <th>4</th>\n",
       "      <td>Marketing Data Analyst</td>\n",
       "      <td>17</td>\n",
       "      <td>5</td>\n",
       "      <td>9</td>\n",
       "      <td>6</td>\n",
       "      <td>5</td>\n",
       "    </tr>\n",
       "    <tr>\n",
       "      <th>5</th>\n",
       "      <td>Data Analyst III (Healthcare Analytics)</td>\n",
       "      <td>17</td>\n",
       "      <td>5</td>\n",
       "      <td>5</td>\n",
       "      <td>5</td>\n",
       "      <td>5</td>\n",
       "    </tr>\n",
       "    <tr>\n",
       "      <th>6</th>\n",
       "      <td>Lead Data Analyst</td>\n",
       "      <td>16</td>\n",
       "      <td>5</td>\n",
       "      <td>13</td>\n",
       "      <td>7</td>\n",
       "      <td>10</td>\n",
       "    </tr>\n",
       "    <tr>\n",
       "      <th>7</th>\n",
       "      <td>TX Healthcare Data/Reporting Analyst</td>\n",
       "      <td>15</td>\n",
       "      <td>4</td>\n",
       "      <td>4</td>\n",
       "      <td>4</td>\n",
       "      <td>4</td>\n",
       "    </tr>\n",
       "    <tr>\n",
       "      <th>8</th>\n",
       "      <td>Data Analyst, Data &amp; Analytics (Advanced Analy...</td>\n",
       "      <td>13</td>\n",
       "      <td>4</td>\n",
       "      <td>4</td>\n",
       "      <td>0</td>\n",
       "      <td>4</td>\n",
       "    </tr>\n",
       "    <tr>\n",
       "      <th>9</th>\n",
       "      <td>Healthcare Data/Reporting Analyst</td>\n",
       "      <td>12</td>\n",
       "      <td>4</td>\n",
       "      <td>4</td>\n",
       "      <td>4</td>\n",
       "      <td>4</td>\n",
       "    </tr>\n",
       "  </tbody>\n",
       "</table>\n",
       "</div>"
      ],
      "text/plain": [
       "                                           Job Title  number_of_job_openings  \\\n",
       "0                                       Data Analyst                     405   \n",
       "1                                Senior Data Analyst                     121   \n",
       "2                              Business Data Analyst                      50   \n",
       "3               NY Healthcare Data/Reporting Analyst                      28   \n",
       "4                             Marketing Data Analyst                      17   \n",
       "5            Data Analyst III (Healthcare Analytics)                      17   \n",
       "6                                  Lead Data Analyst                      16   \n",
       "7               TX Healthcare Data/Reporting Analyst                      15   \n",
       "8  Data Analyst, Data & Analytics (Advanced Analy...                      13   \n",
       "9                  Healthcare Data/Reporting Analyst                      12   \n",
       "\n",
       "   python_job  SQL_job  excel_job  tableau_job  \n",
       "0         125      301        239          110  \n",
       "1          68      104         67           64  \n",
       "2          11       21         17           11  \n",
       "3           5        5          5            5  \n",
       "4           5        9          6            5  \n",
       "5           5        5          5            5  \n",
       "6           5       13          7           10  \n",
       "7           4        4          4            4  \n",
       "8           4        4          0            4  \n",
       "9           4        4          4            4  "
      ]
     },
     "execution_count": 73,
     "metadata": {},
     "output_type": "execute_result"
    }
   ],
   "source": [
    "df4 = df_analyst[['Job Title','python_job', 'SQL_job','excel_job','tableau_job']].copy()\n",
    "\n",
    "Lang = df4.groupby('Job Title')[['python_job', 'SQL_job','excel_job','tableau_job']].sum().sort_values(by='python_job',ascending=False).head(10)\n",
    "df_lang = pd.DataFrame(Lang)\n",
    "df_lang = df_lang.reset_index()\n",
    "\n",
    "df_lang['number_of_job_openings'] = df_analyst['Job Title'].value_counts()[:10].values\n",
    "columnsTitles = ['Job Title', 'number_of_job_openings','python_job', 'SQL_job','excel_job','tableau_job']\n",
    "\n",
    "df_lang = df_lang.reindex(columns=columnsTitles)\n",
    "\n",
    "df_lang\n"
   ]
  },
  {
   "cell_type": "markdown",
   "id": "pressing-array",
   "metadata": {
    "papermill": {
     "duration": 0.13678,
     "end_time": "2021-07-06T15:49:59.986724",
     "exception": false,
     "start_time": "2021-07-06T15:49:59.849944",
     "status": "completed"
    },
    "tags": []
   },
   "source": [
    "- Based on the job advertisements' requirements, we can safely assume that, SQL and Excel keeps their importance. As a programming language Python is required almost 1 out of 3 times in the job advertisemenst, same is also true for visualiztion tool Tableau."
   ]
  },
  {
   "cell_type": "code",
   "execution_count": 74,
   "id": "recorded-attribute",
   "metadata": {
    "_kg_hide-input": true,
    "papermill": {
     "duration": 0.395328,
     "end_time": "2021-07-06T15:50:00.518649",
     "exception": false,
     "start_time": "2021-07-06T15:50:00.123321",
     "status": "completed"
    },
    "tags": []
   },
   "outputs": [
    {
     "data": {
      "text/html": [
       "<iframe\n",
       "    scrolling=\"no\"\n",
       "    width=\"100%\"\n",
       "    height=\"545px\"\n",
       "    src=\"iframe_figures/figure_74.html\"\n",
       "    frameborder=\"0\"\n",
       "    allowfullscreen\n",
       "></iframe>\n"
      ]
     },
     "metadata": {},
     "output_type": "display_data"
    }
   ],
   "source": [
    "fig = px.bar(df_lang, x='Job Title', y=['python_job', 'SQL_job','excel_job','tableau_job'], title=\"Languages\")\n",
    "fig.show()"
   ]
  },
  {
   "cell_type": "markdown",
   "id": "accepted-massage",
   "metadata": {
    "papermill": {
     "duration": 0.137444,
     "end_time": "2021-07-06T15:50:00.793054",
     "exception": false,
     "start_time": "2021-07-06T15:50:00.655610",
     "status": "completed"
    },
    "tags": []
   },
   "source": [
    "- Finally see  based on company name, different salary distributions."
   ]
  },
  {
   "cell_type": "code",
   "execution_count": null,
   "id": "appreciated-domestic",
   "metadata": {
    "papermill": {
     "duration": 0.137112,
     "end_time": "2021-07-06T15:50:01.067780",
     "exception": false,
     "start_time": "2021-07-06T15:50:00.930668",
     "status": "completed"
    },
    "tags": []
   },
   "outputs": [],
   "source": []
  },
  {
   "cell_type": "markdown",
   "id": "useful-antigua",
   "metadata": {
    "papermill": {
     "duration": 0.135388,
     "end_time": "2021-07-06T15:50:01.338750",
     "exception": false,
     "start_time": "2021-07-06T15:50:01.203362",
     "status": "completed"
    },
    "tags": []
   },
   "source": [
    "### Data Analyst Jobs Salary Range based on  Company Name with Rating Scores"
   ]
  },
  {
   "cell_type": "code",
   "execution_count": 75,
   "id": "democratic-drive",
   "metadata": {
    "_kg_hide-input": true,
    "papermill": {
     "duration": 0.303998,
     "end_time": "2021-07-06T15:50:01.779151",
     "exception": false,
     "start_time": "2021-07-06T15:50:01.475153",
     "status": "completed"
    },
    "tags": []
   },
   "outputs": [
    {
     "data": {
      "text/html": [
       "<iframe\n",
       "    scrolling=\"no\"\n",
       "    width=\"100%\"\n",
       "    height=\"545px\"\n",
       "    src=\"iframe_figures/figure_75.html\"\n",
       "    frameborder=\"0\"\n",
       "    allowfullscreen\n",
       "></iframe>\n"
      ]
     },
     "metadata": {},
     "output_type": "display_data"
    }
   ],
   "source": [
    "fig = px.scatter(df_analyst, x=\"Salary_minimum\", y=\"Company Name\", \n",
    "                 color=\"Rating\", \n",
    "                 hover_data=['Industry', 'Job Title'], \n",
    "                 title = \"Minimum Salary by Company Name with Rating Scores\")\n",
    "fig.show()"
   ]
  },
  {
   "cell_type": "markdown",
   "id": "coordinate-addition",
   "metadata": {
    "papermill": {
     "duration": 0.144694,
     "end_time": "2021-07-06T15:50:02.071280",
     "exception": false,
     "start_time": "2021-07-06T15:50:01.926586",
     "status": "completed"
    },
    "tags": []
   },
   "source": [
    "- Minimum salary 110K is quite, I mean quite OK for working 3.9 rating company, like Netflix :)"
   ]
  },
  {
   "cell_type": "code",
   "execution_count": 76,
   "id": "electoral-vietnam",
   "metadata": {
    "_kg_hide-input": true,
    "papermill": {
     "duration": 0.276189,
     "end_time": "2021-07-06T15:50:02.494813",
     "exception": false,
     "start_time": "2021-07-06T15:50:02.218624",
     "status": "completed"
    },
    "tags": []
   },
   "outputs": [
    {
     "data": {
      "text/html": [
       "<iframe\n",
       "    scrolling=\"no\"\n",
       "    width=\"100%\"\n",
       "    height=\"545px\"\n",
       "    src=\"iframe_figures/figure_76.html\"\n",
       "    frameborder=\"0\"\n",
       "    allowfullscreen\n",
       "></iframe>\n"
      ]
     },
     "metadata": {},
     "output_type": "display_data"
    }
   ],
   "source": [
    "fig = px.scatter(df_analyst, x=\"Salary_maximum\", y=\"Company Name\", \n",
    "                 color=\"Rating\", \n",
    "                 hover_data=['Industry', 'Job Title'], \n",
    "                 title = \"Maximum Salary by Company Name with Rating Scores\")\n",
    "fig.show()"
   ]
  },
  {
   "cell_type": "markdown",
   "id": "creative-queensland",
   "metadata": {
    "papermill": {
     "duration": 0.151516,
     "end_time": "2021-07-06T15:50:02.798957",
     "exception": false,
     "start_time": "2021-07-06T15:50:02.647441",
     "status": "completed"
    },
    "tags": []
   },
   "source": [
    "- Company name 'Enjoy', maximum salary offfer 190K, most probably I will also 'Enjoy' to work there."
   ]
  },
  {
   "cell_type": "code",
   "execution_count": 77,
   "id": "comfortable-stocks",
   "metadata": {
    "_kg_hide-input": true,
    "papermill": {
     "duration": 0.286627,
     "end_time": "2021-07-06T15:50:03.240059",
     "exception": false,
     "start_time": "2021-07-06T15:50:02.953432",
     "status": "completed"
    },
    "tags": []
   },
   "outputs": [
    {
     "data": {
      "text/html": [
       "<iframe\n",
       "    scrolling=\"no\"\n",
       "    width=\"100%\"\n",
       "    height=\"545px\"\n",
       "    src=\"iframe_figures/figure_77.html\"\n",
       "    frameborder=\"0\"\n",
       "    allowfullscreen\n",
       "></iframe>\n"
      ]
     },
     "metadata": {},
     "output_type": "display_data"
    }
   ],
   "source": [
    "fig = px.scatter(df_analyst, x=\"Salary_average\", y=\"Company Name\", \n",
    "                 color=\"Rating\", \n",
    "                 hover_data=['Industry', 'Job Title'], \n",
    "                 title = \"Average Salary by Company Name with Rating Scores\")\n",
    "fig.show()"
   ]
  },
  {
   "cell_type": "markdown",
   "id": "multiple-slope",
   "metadata": {
    "papermill": {
     "duration": 0.157013,
     "end_time": "2021-07-06T15:50:03.557641",
     "exception": false,
     "start_time": "2021-07-06T15:50:03.400628",
     "status": "completed"
    },
    "tags": []
   },
   "source": [
    "- It was a quite pleasure to share with you this detailed, beginner friendly EDA. Thanks for your time. \n",
    "\n",
    "- All the best "
   ]
  },
  {
   "cell_type": "code",
   "execution_count": null,
   "id": "entertaining-jacksonville",
   "metadata": {
    "_kg_hide-input": true,
    "papermill": {
     "duration": 0.157463,
     "end_time": "2021-07-06T15:50:03.871863",
     "exception": false,
     "start_time": "2021-07-06T15:50:03.714400",
     "status": "completed"
    },
    "tags": []
   },
   "outputs": [],
   "source": []
  }
 ],
 "metadata": {
  "kernelspec": {
   "display_name": "Python 3",
   "language": "python",
   "name": "python3"
  },
  "language_info": {
   "codemirror_mode": {
    "name": "ipython",
    "version": 3
   },
   "file_extension": ".py",
   "mimetype": "text/x-python",
   "name": "python",
   "nbconvert_exporter": "python",
   "pygments_lexer": "ipython3",
   "version": "3.8.10"
  },
  "papermill": {
   "default_parameters": {},
   "duration": 53.231381,
   "end_time": "2021-07-06T15:50:05.868495",
   "environment_variables": {},
   "exception": null,
   "input_path": "__notebook__.ipynb",
   "output_path": "__notebook__.ipynb",
   "parameters": {},
   "start_time": "2021-07-06T15:49:12.637114",
   "version": "2.3.3"
  }
 },
 "nbformat": 4,
 "nbformat_minor": 5
}
