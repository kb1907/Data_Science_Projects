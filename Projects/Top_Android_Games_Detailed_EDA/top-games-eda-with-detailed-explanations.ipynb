{
 "cells": [
  {
   "cell_type": "markdown",
   "id": "ca5d1071",
   "metadata": {
    "papermill": {
     "duration": 0.052443,
     "end_time": "2021-07-09T12:51:46.994464",
     "exception": false,
     "start_time": "2021-07-09T12:51:46.942021",
     "status": "completed"
    },
    "tags": []
   },
   "source": [
    "- In this study, we are going to make Exploratory Data Analysis (EDA) with the Top Games on Google Playstore dataset. \n",
    "- Study aims to be beginner friendly and give as much as possible explanation for each step on the way.\n",
    "- Study's dataset has top 100 games of each category of games on Google Play Store along with their ratings and other data like price and number of installs."
   ]
  },
  {
   "cell_type": "markdown",
   "id": "8fa94bfb",
   "metadata": {
    "papermill": {
     "duration": 0.053953,
     "end_time": "2021-07-09T12:51:47.103106",
     "exception": false,
     "start_time": "2021-07-09T12:51:47.049153",
     "status": "completed"
    },
    "tags": []
   },
   "source": [
    "- First, let's import the required libraries.\n",
    "- We will use Plotly's interactive environment for visualization."
   ]
  },
  {
   "cell_type": "code",
   "execution_count": 1,
   "id": "64070d50",
   "metadata": {
    "_kg_hide-input": true,
    "papermill": {
     "duration": 3.890322,
     "end_time": "2021-07-09T12:51:51.044461",
     "exception": false,
     "start_time": "2021-07-09T12:51:47.154139",
     "status": "completed"
    },
    "tags": []
   },
   "outputs": [],
   "source": [
    "import pandas as pd\n",
    "import numpy as np\n",
    "\n",
    "import plotly.io as pio\n",
    "pio.renderers.default = 'iframe'\n",
    "\n",
    "import plotly \n",
    "import plotly.express as px\n",
    "import plotly.graph_objs as go\n",
    "import plotly.offline as py\n",
    "from plotly.offline import iplot\n",
    "from plotly.subplots import make_subplots\n",
    "import plotly.figure_factory as ff"
   ]
  },
  {
   "cell_type": "markdown",
   "id": "be3407ad",
   "metadata": {
    "papermill": {
     "duration": 0.049847,
     "end_time": "2021-07-09T12:51:51.143949",
     "exception": false,
     "start_time": "2021-07-09T12:51:51.094102",
     "status": "completed"
    },
    "tags": []
   },
   "source": [
    "### Overview Stage\n",
    "\n",
    "- Read the csv\n",
    "- Look for basic information about the dataset"
   ]
  },
  {
   "cell_type": "code",
   "execution_count": 2,
   "id": "d7e2fd88",
   "metadata": {
    "_kg_hide-input": true,
    "papermill": {
     "duration": 0.114428,
     "end_time": "2021-07-09T12:51:51.308775",
     "exception": false,
     "start_time": "2021-07-09T12:51:51.194347",
     "status": "completed"
    },
    "tags": []
   },
   "outputs": [
    {
     "data": {
      "text/html": [
       "<div>\n",
       "<style scoped>\n",
       "    .dataframe tbody tr th:only-of-type {\n",
       "        vertical-align: middle;\n",
       "    }\n",
       "\n",
       "    .dataframe tbody tr th {\n",
       "        vertical-align: top;\n",
       "    }\n",
       "\n",
       "    .dataframe thead th {\n",
       "        text-align: right;\n",
       "    }\n",
       "</style>\n",
       "<table border=\"1\" class=\"dataframe\">\n",
       "  <thead>\n",
       "    <tr style=\"text-align: right;\">\n",
       "      <th></th>\n",
       "      <th>rank</th>\n",
       "      <th>title</th>\n",
       "      <th>total ratings</th>\n",
       "      <th>installs</th>\n",
       "      <th>average rating</th>\n",
       "      <th>growth (30 days)</th>\n",
       "      <th>growth (60 days)</th>\n",
       "      <th>price</th>\n",
       "      <th>category</th>\n",
       "      <th>5 star ratings</th>\n",
       "      <th>4 star ratings</th>\n",
       "      <th>3 star ratings</th>\n",
       "      <th>2 star ratings</th>\n",
       "      <th>1 star ratings</th>\n",
       "      <th>paid</th>\n",
       "    </tr>\n",
       "  </thead>\n",
       "  <tbody>\n",
       "    <tr>\n",
       "      <th>0</th>\n",
       "      <td>1</td>\n",
       "      <td>Garena Free Fire- World Series</td>\n",
       "      <td>86273129</td>\n",
       "      <td>500.0 M</td>\n",
       "      <td>4</td>\n",
       "      <td>2.1</td>\n",
       "      <td>6.9</td>\n",
       "      <td>0.0</td>\n",
       "      <td>GAME ACTION</td>\n",
       "      <td>63546766</td>\n",
       "      <td>4949507</td>\n",
       "      <td>3158756</td>\n",
       "      <td>2122183</td>\n",
       "      <td>12495915</td>\n",
       "      <td>False</td>\n",
       "    </tr>\n",
       "    <tr>\n",
       "      <th>1</th>\n",
       "      <td>2</td>\n",
       "      <td>PUBG MOBILE - Traverse</td>\n",
       "      <td>37276732</td>\n",
       "      <td>500.0 M</td>\n",
       "      <td>4</td>\n",
       "      <td>1.8</td>\n",
       "      <td>3.6</td>\n",
       "      <td>0.0</td>\n",
       "      <td>GAME ACTION</td>\n",
       "      <td>28339753</td>\n",
       "      <td>2164478</td>\n",
       "      <td>1253185</td>\n",
       "      <td>809821</td>\n",
       "      <td>4709492</td>\n",
       "      <td>False</td>\n",
       "    </tr>\n",
       "    <tr>\n",
       "      <th>2</th>\n",
       "      <td>3</td>\n",
       "      <td>Mobile Legends: Bang Bang</td>\n",
       "      <td>26663595</td>\n",
       "      <td>100.0 M</td>\n",
       "      <td>4</td>\n",
       "      <td>1.5</td>\n",
       "      <td>3.2</td>\n",
       "      <td>0.0</td>\n",
       "      <td>GAME ACTION</td>\n",
       "      <td>18777988</td>\n",
       "      <td>1812094</td>\n",
       "      <td>1050600</td>\n",
       "      <td>713912</td>\n",
       "      <td>4308998</td>\n",
       "      <td>False</td>\n",
       "    </tr>\n",
       "    <tr>\n",
       "      <th>3</th>\n",
       "      <td>4</td>\n",
       "      <td>Brawl Stars</td>\n",
       "      <td>17971552</td>\n",
       "      <td>100.0 M</td>\n",
       "      <td>4</td>\n",
       "      <td>1.4</td>\n",
       "      <td>4.4</td>\n",
       "      <td>0.0</td>\n",
       "      <td>GAME ACTION</td>\n",
       "      <td>13018610</td>\n",
       "      <td>1552950</td>\n",
       "      <td>774012</td>\n",
       "      <td>406184</td>\n",
       "      <td>2219794</td>\n",
       "      <td>False</td>\n",
       "    </tr>\n",
       "    <tr>\n",
       "      <th>4</th>\n",
       "      <td>5</td>\n",
       "      <td>Sniper 3D: Fun Free Online FPS Shooting Game</td>\n",
       "      <td>14464235</td>\n",
       "      <td>500.0 M</td>\n",
       "      <td>4</td>\n",
       "      <td>0.8</td>\n",
       "      <td>1.5</td>\n",
       "      <td>0.0</td>\n",
       "      <td>GAME ACTION</td>\n",
       "      <td>9827328</td>\n",
       "      <td>2124154</td>\n",
       "      <td>1047741</td>\n",
       "      <td>380670</td>\n",
       "      <td>1084340</td>\n",
       "      <td>False</td>\n",
       "    </tr>\n",
       "  </tbody>\n",
       "</table>\n",
       "</div>"
      ],
      "text/plain": [
       "   rank                                         title  total ratings installs  \\\n",
       "0     1                Garena Free Fire- World Series       86273129  500.0 M   \n",
       "1     2                        PUBG MOBILE - Traverse       37276732  500.0 M   \n",
       "2     3                     Mobile Legends: Bang Bang       26663595  100.0 M   \n",
       "3     4                                   Brawl Stars       17971552  100.0 M   \n",
       "4     5  Sniper 3D: Fun Free Online FPS Shooting Game       14464235  500.0 M   \n",
       "\n",
       "   average rating  growth (30 days)  growth (60 days)  price     category  \\\n",
       "0               4               2.1               6.9    0.0  GAME ACTION   \n",
       "1               4               1.8               3.6    0.0  GAME ACTION   \n",
       "2               4               1.5               3.2    0.0  GAME ACTION   \n",
       "3               4               1.4               4.4    0.0  GAME ACTION   \n",
       "4               4               0.8               1.5    0.0  GAME ACTION   \n",
       "\n",
       "   5 star ratings  4 star ratings  3 star ratings  2 star ratings  \\\n",
       "0        63546766         4949507         3158756         2122183   \n",
       "1        28339753         2164478         1253185          809821   \n",
       "2        18777988         1812094         1050600          713912   \n",
       "3        13018610         1552950          774012          406184   \n",
       "4         9827328         2124154         1047741          380670   \n",
       "\n",
       "   1 star ratings   paid  \n",
       "0        12495915  False  \n",
       "1         4709492  False  \n",
       "2         4308998  False  \n",
       "3         2219794  False  \n",
       "4         1084340  False  "
      ]
     },
     "execution_count": 2,
     "metadata": {},
     "output_type": "execute_result"
    }
   ],
   "source": [
    "df= pd.read_csv('android-games.csv')\n",
    "df.head()"
   ]
  },
  {
   "cell_type": "code",
   "execution_count": 3,
   "id": "a3da33d0",
   "metadata": {
    "_kg_hide-input": true,
    "papermill": {
     "duration": 0.059906,
     "end_time": "2021-07-09T12:51:51.423823",
     "exception": false,
     "start_time": "2021-07-09T12:51:51.363917",
     "status": "completed"
    },
    "tags": []
   },
   "outputs": [
    {
     "data": {
      "text/plain": [
       "(1730, 15)"
      ]
     },
     "execution_count": 3,
     "metadata": {},
     "output_type": "execute_result"
    }
   ],
   "source": [
    "df.shape"
   ]
  },
  {
   "cell_type": "markdown",
   "id": "1fad3b57",
   "metadata": {
    "papermill": {
     "duration": 0.050665,
     "end_time": "2021-07-09T12:51:51.525527",
     "exception": false,
     "start_time": "2021-07-09T12:51:51.474862",
     "status": "completed"
    },
    "tags": []
   },
   "source": [
    "- We have 1730 games and 15 different variables to work on."
   ]
  },
  {
   "cell_type": "code",
   "execution_count": 4,
   "id": "29781b1b",
   "metadata": {
    "_kg_hide-input": true,
    "papermill": {
     "duration": 0.063694,
     "end_time": "2021-07-09T12:51:51.640165",
     "exception": false,
     "start_time": "2021-07-09T12:51:51.576471",
     "status": "completed"
    },
    "tags": []
   },
   "outputs": [
    {
     "data": {
      "text/plain": [
       "rank                0\n",
       "title               0\n",
       "total ratings       0\n",
       "installs            0\n",
       "average rating      0\n",
       "growth (30 days)    0\n",
       "growth (60 days)    0\n",
       "price               0\n",
       "category            0\n",
       "5 star ratings      0\n",
       "4 star ratings      0\n",
       "3 star ratings      0\n",
       "2 star ratings      0\n",
       "1 star ratings      0\n",
       "paid                0\n",
       "dtype: int64"
      ]
     },
     "execution_count": 4,
     "metadata": {},
     "output_type": "execute_result"
    }
   ],
   "source": [
    "df.isnull().sum()"
   ]
  },
  {
   "cell_type": "markdown",
   "id": "77f59137",
   "metadata": {
    "papermill": {
     "duration": 0.050548,
     "end_time": "2021-07-09T12:51:51.742372",
     "exception": false,
     "start_time": "2021-07-09T12:51:51.691824",
     "status": "completed"
    },
    "tags": []
   },
   "source": [
    "- We have a very clean dataset, which is very rare in the real world. \n",
    "- Dataset, without missing values, like a having unicorn in your backyard. Or Ronaldo is playing in your favorite local team :)"
   ]
  },
  {
   "cell_type": "code",
   "execution_count": 5,
   "id": "f31dc1fd",
   "metadata": {
    "_kg_hide-input": true,
    "papermill": {
     "duration": 0.079,
     "end_time": "2021-07-09T12:51:51.872339",
     "exception": false,
     "start_time": "2021-07-09T12:51:51.793339",
     "status": "completed"
    },
    "tags": []
   },
   "outputs": [
    {
     "name": "stdout",
     "output_type": "stream",
     "text": [
      "<class 'pandas.core.frame.DataFrame'>\n",
      "RangeIndex: 1730 entries, 0 to 1729\n",
      "Data columns (total 15 columns):\n",
      " #   Column            Non-Null Count  Dtype  \n",
      "---  ------            --------------  -----  \n",
      " 0   rank              1730 non-null   int64  \n",
      " 1   title             1730 non-null   object \n",
      " 2   total ratings     1730 non-null   int64  \n",
      " 3   installs          1730 non-null   object \n",
      " 4   average rating    1730 non-null   int64  \n",
      " 5   growth (30 days)  1730 non-null   float64\n",
      " 6   growth (60 days)  1730 non-null   float64\n",
      " 7   price             1730 non-null   float64\n",
      " 8   category          1730 non-null   object \n",
      " 9   5 star ratings    1730 non-null   int64  \n",
      " 10  4 star ratings    1730 non-null   int64  \n",
      " 11  3 star ratings    1730 non-null   int64  \n",
      " 12  2 star ratings    1730 non-null   int64  \n",
      " 13  1 star ratings    1730 non-null   int64  \n",
      " 14  paid              1730 non-null   bool   \n",
      "dtypes: bool(1), float64(3), int64(8), object(3)\n",
      "memory usage: 191.0+ KB\n"
     ]
    }
   ],
   "source": [
    "df.info()"
   ]
  },
  {
   "cell_type": "markdown",
   "id": "9d76d596",
   "metadata": {
    "papermill": {
     "duration": 0.052151,
     "end_time": "2021-07-09T12:51:51.976955",
     "exception": false,
     "start_time": "2021-07-09T12:51:51.924804",
     "status": "completed"
    },
    "tags": []
   },
   "source": [
    "- Installs includes number,and should be integer or float data type. But as data type, it is an object data type. It is good to take of note of it \n"
   ]
  },
  {
   "cell_type": "code",
   "execution_count": 6,
   "id": "30b27bf8",
   "metadata": {
    "_kg_hide-input": true,
    "papermill": {
     "duration": 0.112119,
     "end_time": "2021-07-09T12:51:52.143143",
     "exception": false,
     "start_time": "2021-07-09T12:51:52.031024",
     "status": "completed"
    },
    "tags": []
   },
   "outputs": [
    {
     "data": {
      "text/html": [
       "<div>\n",
       "<style scoped>\n",
       "    .dataframe tbody tr th:only-of-type {\n",
       "        vertical-align: middle;\n",
       "    }\n",
       "\n",
       "    .dataframe tbody tr th {\n",
       "        vertical-align: top;\n",
       "    }\n",
       "\n",
       "    .dataframe thead th {\n",
       "        text-align: right;\n",
       "    }\n",
       "</style>\n",
       "<table border=\"1\" class=\"dataframe\">\n",
       "  <thead>\n",
       "    <tr style=\"text-align: right;\">\n",
       "      <th></th>\n",
       "      <th>rank</th>\n",
       "      <th>total ratings</th>\n",
       "      <th>average rating</th>\n",
       "      <th>growth (30 days)</th>\n",
       "      <th>growth (60 days)</th>\n",
       "      <th>price</th>\n",
       "      <th>5 star ratings</th>\n",
       "      <th>4 star ratings</th>\n",
       "      <th>3 star ratings</th>\n",
       "      <th>2 star ratings</th>\n",
       "      <th>1 star ratings</th>\n",
       "    </tr>\n",
       "  </thead>\n",
       "  <tbody>\n",
       "    <tr>\n",
       "      <th>count</th>\n",
       "      <td>1730.000000</td>\n",
       "      <td>1.730000e+03</td>\n",
       "      <td>1730.000000</td>\n",
       "      <td>1730.000000</td>\n",
       "      <td>1730.000000</td>\n",
       "      <td>1730.000000</td>\n",
       "      <td>1.730000e+03</td>\n",
       "      <td>1.730000e+03</td>\n",
       "      <td>1.730000e+03</td>\n",
       "      <td>1.730000e+03</td>\n",
       "      <td>1.730000e+03</td>\n",
       "    </tr>\n",
       "    <tr>\n",
       "      <th>mean</th>\n",
       "      <td>50.386705</td>\n",
       "      <td>1.064332e+06</td>\n",
       "      <td>3.908092</td>\n",
       "      <td>321.735896</td>\n",
       "      <td>122.554971</td>\n",
       "      <td>0.010942</td>\n",
       "      <td>7.622315e+05</td>\n",
       "      <td>1.164366e+05</td>\n",
       "      <td>5.706307e+04</td>\n",
       "      <td>2.710336e+04</td>\n",
       "      <td>1.014950e+05</td>\n",
       "    </tr>\n",
       "    <tr>\n",
       "      <th>std</th>\n",
       "      <td>28.936742</td>\n",
       "      <td>3.429250e+06</td>\n",
       "      <td>0.290973</td>\n",
       "      <td>6018.914507</td>\n",
       "      <td>2253.891703</td>\n",
       "      <td>0.214987</td>\n",
       "      <td>2.538658e+06</td>\n",
       "      <td>3.021631e+05</td>\n",
       "      <td>1.495314e+05</td>\n",
       "      <td>8.154542e+04</td>\n",
       "      <td>4.083745e+05</td>\n",
       "    </tr>\n",
       "    <tr>\n",
       "      <th>min</th>\n",
       "      <td>1.000000</td>\n",
       "      <td>3.299300e+04</td>\n",
       "      <td>2.000000</td>\n",
       "      <td>0.000000</td>\n",
       "      <td>0.000000</td>\n",
       "      <td>0.000000</td>\n",
       "      <td>1.397500e+04</td>\n",
       "      <td>2.451000e+03</td>\n",
       "      <td>7.180000e+02</td>\n",
       "      <td>2.660000e+02</td>\n",
       "      <td>5.450000e+02</td>\n",
       "    </tr>\n",
       "    <tr>\n",
       "      <th>25%</th>\n",
       "      <td>25.000000</td>\n",
       "      <td>1.759992e+05</td>\n",
       "      <td>4.000000</td>\n",
       "      <td>0.100000</td>\n",
       "      <td>0.200000</td>\n",
       "      <td>0.000000</td>\n",
       "      <td>1.277300e+05</td>\n",
       "      <td>2.064300e+04</td>\n",
       "      <td>9.652500e+03</td>\n",
       "      <td>4.262250e+03</td>\n",
       "      <td>1.281200e+04</td>\n",
       "    </tr>\n",
       "    <tr>\n",
       "      <th>50%</th>\n",
       "      <td>50.000000</td>\n",
       "      <td>4.286065e+05</td>\n",
       "      <td>4.000000</td>\n",
       "      <td>0.500000</td>\n",
       "      <td>1.000000</td>\n",
       "      <td>0.000000</td>\n",
       "      <td>2.964340e+05</td>\n",
       "      <td>5.098050e+04</td>\n",
       "      <td>2.507800e+04</td>\n",
       "      <td>1.067550e+04</td>\n",
       "      <td>3.368600e+04</td>\n",
       "    </tr>\n",
       "    <tr>\n",
       "      <th>75%</th>\n",
       "      <td>75.000000</td>\n",
       "      <td>8.837970e+05</td>\n",
       "      <td>4.000000</td>\n",
       "      <td>1.700000</td>\n",
       "      <td>3.300000</td>\n",
       "      <td>0.000000</td>\n",
       "      <td>6.198358e+05</td>\n",
       "      <td>1.018140e+05</td>\n",
       "      <td>5.229500e+04</td>\n",
       "      <td>2.322875e+04</td>\n",
       "      <td>8.015725e+04</td>\n",
       "    </tr>\n",
       "    <tr>\n",
       "      <th>max</th>\n",
       "      <td>100.000000</td>\n",
       "      <td>8.627313e+07</td>\n",
       "      <td>4.000000</td>\n",
       "      <td>227105.700000</td>\n",
       "      <td>69441.400000</td>\n",
       "      <td>7.490000</td>\n",
       "      <td>6.354677e+07</td>\n",
       "      <td>5.404966e+06</td>\n",
       "      <td>3.158756e+06</td>\n",
       "      <td>2.122183e+06</td>\n",
       "      <td>1.249592e+07</td>\n",
       "    </tr>\n",
       "  </tbody>\n",
       "</table>\n",
       "</div>"
      ],
      "text/plain": [
       "              rank  total ratings  average rating  growth (30 days)  \\\n",
       "count  1730.000000   1.730000e+03     1730.000000       1730.000000   \n",
       "mean     50.386705   1.064332e+06        3.908092        321.735896   \n",
       "std      28.936742   3.429250e+06        0.290973       6018.914507   \n",
       "min       1.000000   3.299300e+04        2.000000          0.000000   \n",
       "25%      25.000000   1.759992e+05        4.000000          0.100000   \n",
       "50%      50.000000   4.286065e+05        4.000000          0.500000   \n",
       "75%      75.000000   8.837970e+05        4.000000          1.700000   \n",
       "max     100.000000   8.627313e+07        4.000000     227105.700000   \n",
       "\n",
       "       growth (60 days)        price  5 star ratings  4 star ratings  \\\n",
       "count       1730.000000  1730.000000    1.730000e+03    1.730000e+03   \n",
       "mean         122.554971     0.010942    7.622315e+05    1.164366e+05   \n",
       "std         2253.891703     0.214987    2.538658e+06    3.021631e+05   \n",
       "min            0.000000     0.000000    1.397500e+04    2.451000e+03   \n",
       "25%            0.200000     0.000000    1.277300e+05    2.064300e+04   \n",
       "50%            1.000000     0.000000    2.964340e+05    5.098050e+04   \n",
       "75%            3.300000     0.000000    6.198358e+05    1.018140e+05   \n",
       "max        69441.400000     7.490000    6.354677e+07    5.404966e+06   \n",
       "\n",
       "       3 star ratings  2 star ratings  1 star ratings  \n",
       "count    1.730000e+03    1.730000e+03    1.730000e+03  \n",
       "mean     5.706307e+04    2.710336e+04    1.014950e+05  \n",
       "std      1.495314e+05    8.154542e+04    4.083745e+05  \n",
       "min      7.180000e+02    2.660000e+02    5.450000e+02  \n",
       "25%      9.652500e+03    4.262250e+03    1.281200e+04  \n",
       "50%      2.507800e+04    1.067550e+04    3.368600e+04  \n",
       "75%      5.229500e+04    2.322875e+04    8.015725e+04  \n",
       "max      3.158756e+06    2.122183e+06    1.249592e+07  "
      ]
     },
     "execution_count": 6,
     "metadata": {},
     "output_type": "execute_result"
    }
   ],
   "source": [
    "df.describe()"
   ]
  },
  {
   "cell_type": "markdown",
   "id": "f1e83c68",
   "metadata": {
    "papermill": {
     "duration": 0.05441,
     "end_time": "2021-07-09T12:51:52.251547",
     "exception": false,
     "start_time": "2021-07-09T12:51:52.197137",
     "status": "completed"
    },
    "tags": []
   },
   "source": [
    "Before going further, let's summarize what we have got from the dataset.\n",
    "\n",
    "- Our dataset has games from different categories, different ratings and different number of installs.  \n",
    "- 'installs' variable has a good numerical info to use. It would be a good idea to make adjustments on it to use it as a numerical variable\n",
    "- There is no missing value, which is very good during the data preparation stage.\n",
    "- 'Category' column is categorical variable, it would be good to see whether any significant differences among the categories of the games.\n",
    "-  Numerical variables deserves special attention for further analysis.\n",
    "- 'Paid' and 'Price' seems to have a lot on common. Needs to look in detail and if necessary drop one of them for simplicity."
   ]
  },
  {
   "cell_type": "markdown",
   "id": "aef89d63",
   "metadata": {
    "papermill": {
     "duration": 0.052217,
     "end_time": "2021-07-09T12:51:52.356652",
     "exception": false,
     "start_time": "2021-07-09T12:51:52.304435",
     "status": "completed"
    },
    "tags": []
   },
   "source": [
    "- Let's make the necessary adjustments before moving to the analysis part."
   ]
  },
  {
   "cell_type": "code",
   "execution_count": 7,
   "id": "d79d2499",
   "metadata": {
    "_kg_hide-input": true,
    "papermill": {
     "duration": 0.065593,
     "end_time": "2021-07-09T12:51:52.474707",
     "exception": false,
     "start_time": "2021-07-09T12:51:52.409114",
     "status": "completed"
    },
    "tags": []
   },
   "outputs": [
    {
     "data": {
      "text/plain": [
       "10.0 M      805\n",
       "50.0 M      252\n",
       "5.0 M       245\n",
       "100.0 M     204\n",
       "1.0 M       192\n",
       "500.0 k      15\n",
       "500.0 M      12\n",
       "100.0 k       3\n",
       "1000.0 M      2\n",
       "Name: installs, dtype: int64"
      ]
     },
     "execution_count": 7,
     "metadata": {},
     "output_type": "execute_result"
    }
   ],
   "source": [
    "df['installs'].value_counts()"
   ]
  },
  {
   "cell_type": "markdown",
   "id": "0fc13a07",
   "metadata": {
    "papermill": {
     "duration": 0.052347,
     "end_time": "2021-07-09T12:51:52.579380",
     "exception": false,
     "start_time": "2021-07-09T12:51:52.527033",
     "status": "completed"
    },
    "tags": []
   },
   "source": [
    "- Let's make 'installs' a numerical variable by doing a small adjustment."
   ]
  },
  {
   "cell_type": "code",
   "execution_count": 8,
   "id": "b37b6996",
   "metadata": {
    "_kg_hide-input": true,
    "papermill": {
     "duration": 0.07468,
     "end_time": "2021-07-09T12:51:52.707493",
     "exception": false,
     "start_time": "2021-07-09T12:51:52.632813",
     "status": "completed"
    },
    "tags": []
   },
   "outputs": [
    {
     "data": {
      "text/plain": [
       "10.0      805\n",
       "50.0      252\n",
       "5.0       245\n",
       "100.0     204\n",
       "1.0       192\n",
       "0.5        15\n",
       "500.0      12\n",
       "0.1         3\n",
       "1000.0      2\n",
       "Name: installs_in_million, dtype: int64"
      ]
     },
     "execution_count": 8,
     "metadata": {},
     "output_type": "execute_result"
    }
   ],
   "source": [
    "def in_thousand (inst):\n",
    "    if inst == '500.0 k':\n",
    "        return '0.5 M' \n",
    "    elif inst == '100.0 k':\n",
    "        return '0.1 M'\n",
    "    else:\n",
    "        return inst\n",
    "df['installs']= df['installs'].apply(in_thousand)\n",
    "\n",
    "df['installs']= df['installs'].str.replace( 'M', '').str.strip().astype('float')\n",
    "\n",
    "df= df.rename(columns={'installs': 'installs_in_million'})\n",
    "df['installs_in_million'].value_counts()"
   ]
  },
  {
   "cell_type": "markdown",
   "id": "c4e9fcba",
   "metadata": {
    "papermill": {
     "duration": 0.053487,
     "end_time": "2021-07-09T12:51:52.819486",
     "exception": false,
     "start_time": "2021-07-09T12:51:52.765999",
     "status": "completed"
    },
    "tags": []
   },
   "source": [
    "- Let's see price and paid columns and decide whether necessary to continue with both of them or drop one of them."
   ]
  },
  {
   "cell_type": "code",
   "execution_count": 9,
   "id": "e983ee57",
   "metadata": {
    "_kg_hide-input": true,
    "papermill": {
     "duration": 0.06696,
     "end_time": "2021-07-09T12:51:52.941620",
     "exception": false,
     "start_time": "2021-07-09T12:51:52.874660",
     "status": "completed"
    },
    "tags": []
   },
   "outputs": [
    {
     "data": {
      "text/plain": [
       "0.00    1723\n",
       "1.99       3\n",
       "1.49       1\n",
       "0.99       1\n",
       "2.99       1\n",
       "7.49       1\n",
       "Name: price, dtype: int64"
      ]
     },
     "execution_count": 9,
     "metadata": {},
     "output_type": "execute_result"
    }
   ],
   "source": [
    "df['price'].value_counts()"
   ]
  },
  {
   "cell_type": "code",
   "execution_count": 10,
   "id": "2bb21461",
   "metadata": {
    "_kg_hide-input": true,
    "papermill": {
     "duration": 0.06703,
     "end_time": "2021-07-09T12:51:53.062761",
     "exception": false,
     "start_time": "2021-07-09T12:51:52.995731",
     "status": "completed"
    },
    "tags": []
   },
   "outputs": [
    {
     "data": {
      "text/plain": [
       "False    1723\n",
       "True        7\n",
       "Name: paid, dtype: int64"
      ]
     },
     "execution_count": 10,
     "metadata": {},
     "output_type": "execute_result"
    }
   ],
   "source": [
    "df['paid'].value_counts()"
   ]
  },
  {
   "cell_type": "markdown",
   "id": "425a6401",
   "metadata": {
    "papermill": {
     "duration": 0.055886,
     "end_time": "2021-07-09T12:51:53.172451",
     "exception": false,
     "start_time": "2021-07-09T12:51:53.116565",
     "status": "completed"
    },
    "tags": []
   },
   "source": [
    "- OK, almost 99% of the games are free, and not much sample size to compare betwen the different price range.\n",
    "- Sample size less than 30, most of the time, not fulfill minimum requirements for the sample - population representativeness.\n",
    "- For this dataset, 'price' column does not have much to offer for further analysis.\n",
    "- So let's drop the 'price' column. \n",
    "- Dropping column, deleting rows are decisions to be taken very cautiously and should based on analysis and domain knowledge."
   ]
  },
  {
   "cell_type": "code",
   "execution_count": 11,
   "id": "69d30f1b",
   "metadata": {
    "_kg_hide-input": true,
    "papermill": {
     "duration": 0.065315,
     "end_time": "2021-07-09T12:51:53.292078",
     "exception": false,
     "start_time": "2021-07-09T12:51:53.226763",
     "status": "completed"
    },
    "tags": []
   },
   "outputs": [],
   "source": [
    "df.drop('price', axis=1, inplace=True)"
   ]
  },
  {
   "cell_type": "code",
   "execution_count": 12,
   "id": "95400533",
   "metadata": {
    "_kg_hide-input": true,
    "papermill": {
     "duration": 0.075255,
     "end_time": "2021-07-09T12:51:53.421402",
     "exception": false,
     "start_time": "2021-07-09T12:51:53.346147",
     "status": "completed"
    },
    "tags": []
   },
   "outputs": [
    {
     "name": "stdout",
     "output_type": "stream",
     "text": [
      "<class 'pandas.core.frame.DataFrame'>\n",
      "RangeIndex: 1730 entries, 0 to 1729\n",
      "Data columns (total 14 columns):\n",
      " #   Column               Non-Null Count  Dtype  \n",
      "---  ------               --------------  -----  \n",
      " 0   rank                 1730 non-null   int64  \n",
      " 1   title                1730 non-null   object \n",
      " 2   total ratings        1730 non-null   int64  \n",
      " 3   installs_in_million  1730 non-null   float64\n",
      " 4   average rating       1730 non-null   int64  \n",
      " 5   growth (30 days)     1730 non-null   float64\n",
      " 6   growth (60 days)     1730 non-null   float64\n",
      " 7   category             1730 non-null   object \n",
      " 8   5 star ratings       1730 non-null   int64  \n",
      " 9   4 star ratings       1730 non-null   int64  \n",
      " 10  3 star ratings       1730 non-null   int64  \n",
      " 11  2 star ratings       1730 non-null   int64  \n",
      " 12  1 star ratings       1730 non-null   int64  \n",
      " 13  paid                 1730 non-null   bool   \n",
      "dtypes: bool(1), float64(3), int64(8), object(2)\n",
      "memory usage: 177.5+ KB\n"
     ]
    }
   ],
   "source": [
    "df.info()"
   ]
  },
  {
   "cell_type": "markdown",
   "id": "6fbcef10",
   "metadata": {
    "papermill": {
     "duration": 0.053356,
     "end_time": "2021-07-09T12:51:53.531389",
     "exception": false,
     "start_time": "2021-07-09T12:51:53.478033",
     "status": "completed"
    },
    "tags": []
   },
   "source": [
    "- Seems OK.  Let's move on to the next step: **analysis part**."
   ]
  },
  {
   "cell_type": "markdown",
   "id": "e46ce7ec",
   "metadata": {
    "papermill": {
     "duration": 0.054458,
     "end_time": "2021-07-09T12:51:53.639719",
     "exception": false,
     "start_time": "2021-07-09T12:51:53.585261",
     "status": "completed"
    },
    "tags": []
   },
   "source": [
    "### Analysis Part"
   ]
  },
  {
   "cell_type": "markdown",
   "id": "5bc7828f",
   "metadata": {
    "papermill": {
     "duration": 0.055714,
     "end_time": "2021-07-09T12:51:53.750751",
     "exception": false,
     "start_time": "2021-07-09T12:51:53.695037",
     "status": "completed"
    },
    "tags": []
   },
   "source": [
    "- Let's first look at the categories"
   ]
  },
  {
   "cell_type": "markdown",
   "id": "8f08da0e",
   "metadata": {
    "papermill": {
     "duration": 0.053077,
     "end_time": "2021-07-09T12:51:53.858000",
     "exception": false,
     "start_time": "2021-07-09T12:51:53.804923",
     "status": "completed"
    },
    "tags": []
   },
   "source": [
    "### Game Categories"
   ]
  },
  {
   "cell_type": "code",
   "execution_count": 13,
   "id": "ed09be5c",
   "metadata": {
    "_kg_hide-input": true,
    "papermill": {
     "duration": 0.086685,
     "end_time": "2021-07-09T12:51:53.999362",
     "exception": false,
     "start_time": "2021-07-09T12:51:53.912677",
     "status": "completed"
    },
    "tags": []
   },
   "outputs": [
    {
     "data": {
      "text/plain": [
       "GAME CARD            0.072832\n",
       "GAME WORD            0.060116\n",
       "GAME CASUAL          0.057803\n",
       "GAME ROLE PLAYING    0.057803\n",
       "GAME PUZZLE          0.057803\n",
       "GAME EDUCATIONAL     0.057803\n",
       "GAME STRATEGY        0.057803\n",
       "GAME RACING          0.057803\n",
       "GAME SIMULATION      0.057803\n",
       "GAME MUSIC           0.057803\n",
       "GAME ACTION          0.057803\n",
       "GAME TRIVIA          0.057803\n",
       "GAME ARCADE          0.057803\n",
       "GAME CASINO          0.057803\n",
       "GAME BOARD           0.057803\n",
       "GAME SPORTS          0.057803\n",
       "GAME ADVENTURE       0.057803\n",
       "Name: category, dtype: float64"
      ]
     },
     "execution_count": 13,
     "metadata": {},
     "output_type": "execute_result"
    }
   ],
   "source": [
    "df['category'].value_counts(normalize=True)"
   ]
  },
  {
   "cell_type": "markdown",
   "id": "37974753",
   "metadata": {
    "papermill": {
     "duration": 0.053546,
     "end_time": "2021-07-09T12:51:54.109653",
     "exception": false,
     "start_time": "2021-07-09T12:51:54.056107",
     "status": "completed"
    },
    "tags": []
   },
   "source": [
    "- We have almost same size categories."
   ]
  },
  {
   "cell_type": "code",
   "execution_count": 14,
   "id": "dec468a6",
   "metadata": {
    "_kg_hide-input": true,
    "papermill": {
     "duration": 1.152515,
     "end_time": "2021-07-09T12:51:55.315971",
     "exception": false,
     "start_time": "2021-07-09T12:51:54.163456",
     "status": "completed"
    },
    "tags": []
   },
   "outputs": [
    {
     "data": {
      "text/html": [
       "<iframe\n",
       "    scrolling=\"no\"\n",
       "    width=\"100%\"\n",
       "    height=\"545px\"\n",
       "    src=\"iframe_figures/figure_14.html\"\n",
       "    frameborder=\"0\"\n",
       "    allowfullscreen\n",
       "></iframe>\n"
      ]
     },
     "metadata": {},
     "output_type": "display_data"
    }
   ],
   "source": [
    "fig = px.histogram(df, x=\"category\", title='Game Categories')\n",
    "fig.update_layout(xaxis={'categoryorder':'total descending'})\n",
    "fig.show()"
   ]
  },
  {
   "cell_type": "markdown",
   "id": "214a1eab",
   "metadata": {
    "papermill": {
     "duration": 0.056384,
     "end_time": "2021-07-09T12:51:55.428011",
     "exception": false,
     "start_time": "2021-07-09T12:51:55.371627",
     "status": "completed"
    },
    "tags": []
   },
   "source": [
    "### Total Ratings"
   ]
  },
  {
   "cell_type": "code",
   "execution_count": 15,
   "id": "cc0e39bf",
   "metadata": {
    "_kg_hide-input": true,
    "papermill": {
     "duration": 0.0688,
     "end_time": "2021-07-09T12:51:55.552617",
     "exception": false,
     "start_time": "2021-07-09T12:51:55.483817",
     "status": "completed"
    },
    "tags": []
   },
   "outputs": [
    {
     "data": {
      "text/plain": [
       "count    1.730000e+03\n",
       "mean     1.064332e+06\n",
       "std      3.429250e+06\n",
       "min      3.299300e+04\n",
       "25%      1.759992e+05\n",
       "50%      4.286065e+05\n",
       "75%      8.837970e+05\n",
       "max      8.627313e+07\n",
       "Name: total ratings, dtype: float64"
      ]
     },
     "execution_count": 15,
     "metadata": {},
     "output_type": "execute_result"
    }
   ],
   "source": [
    "df['total ratings'].describe()"
   ]
  },
  {
   "cell_type": "code",
   "execution_count": 16,
   "id": "30b3c5c1",
   "metadata": {
    "_kg_hide-input": true,
    "papermill": {
     "duration": 0.130161,
     "end_time": "2021-07-09T12:51:55.739685",
     "exception": false,
     "start_time": "2021-07-09T12:51:55.609524",
     "status": "completed"
    },
    "tags": []
   },
   "outputs": [
    {
     "data": {
      "text/html": [
       "<iframe\n",
       "    scrolling=\"no\"\n",
       "    width=\"100%\"\n",
       "    height=\"545px\"\n",
       "    src=\"iframe_figures/figure_16.html\"\n",
       "    frameborder=\"0\"\n",
       "    allowfullscreen\n",
       "></iframe>\n"
      ]
     },
     "metadata": {},
     "output_type": "display_data"
    }
   ],
   "source": [
    "\n",
    "fig = px.histogram(df, x= 'total ratings', title='Total Ratings of the Games')\n",
    "\n",
    "\n",
    "fig.show()"
   ]
  },
  {
   "cell_type": "code",
   "execution_count": 17,
   "id": "0b099466",
   "metadata": {
    "_kg_hide-input": true,
    "papermill": {
     "duration": 0.231388,
     "end_time": "2021-07-09T12:51:56.029365",
     "exception": false,
     "start_time": "2021-07-09T12:51:55.797977",
     "status": "completed"
    },
    "tags": []
   },
   "outputs": [
    {
     "data": {
      "text/html": [
       "<iframe\n",
       "    scrolling=\"no\"\n",
       "    width=\"100%\"\n",
       "    height=\"545px\"\n",
       "    src=\"iframe_figures/figure_17.html\"\n",
       "    frameborder=\"0\"\n",
       "    allowfullscreen\n",
       "></iframe>\n"
      ]
     },
     "metadata": {},
     "output_type": "display_data"
    }
   ],
   "source": [
    "fig = px.box(df, x= 'total ratings', hover_data = df[['title','category']])\n",
    "fig.update_traces(quartilemethod=\"inclusive\")\n",
    "fig.show()"
   ]
  },
  {
   "cell_type": "markdown",
   "id": "46cbb9b3",
   "metadata": {
    "papermill": {
     "duration": 0.062004,
     "end_time": "2021-07-09T12:51:56.158910",
     "exception": false,
     "start_time": "2021-07-09T12:51:56.096906",
     "status": "completed"
    },
    "tags": []
   },
   "source": [
    "- As we have seen in the histogram, quite a lot of the ratings are in the 0 - 500.000 ratings range.\n",
    "- On the other hand ve have quite a number of outliers, which increases mean and put it further away from the median.\n",
    "- We have highly skewed distribution, more specifially right skewed distribution with the possible outliers on the maximum side of the distribution. So for further analysis it would be good to remember that.\n",
    "- In these kinds of situations, it would be a good idea to look for the median based approach.\n",
    "- Median value, instead of mean value, should be used for to get some insights from the distributions."
   ]
  },
  {
   "cell_type": "markdown",
   "id": "80b569ed",
   "metadata": {
    "papermill": {
     "duration": 0.061899,
     "end_time": "2021-07-09T12:51:56.285125",
     "exception": false,
     "start_time": "2021-07-09T12:51:56.223226",
     "status": "completed"
    },
    "tags": []
   },
   "source": [
    "### Number of Game Install"
   ]
  },
  {
   "cell_type": "code",
   "execution_count": 18,
   "id": "1968b219",
   "metadata": {
    "_kg_hide-input": true,
    "papermill": {
     "duration": 0.075915,
     "end_time": "2021-07-09T12:51:56.424069",
     "exception": false,
     "start_time": "2021-07-09T12:51:56.348154",
     "status": "completed"
    },
    "tags": []
   },
   "outputs": [
    {
     "data": {
      "text/plain": [
       "count    1730.000000\n",
       "mean       29.176185\n",
       "std        60.287333\n",
       "min         0.100000\n",
       "25%         5.000000\n",
       "50%        10.000000\n",
       "75%        50.000000\n",
       "max      1000.000000\n",
       "Name: installs_in_million, dtype: float64"
      ]
     },
     "execution_count": 18,
     "metadata": {},
     "output_type": "execute_result"
    }
   ],
   "source": [
    "df['installs_in_million'].describe()"
   ]
  },
  {
   "cell_type": "code",
   "execution_count": 19,
   "id": "6d694d96",
   "metadata": {
    "_kg_hide-input": true,
    "papermill": {
     "duration": 0.134598,
     "end_time": "2021-07-09T12:51:56.625179",
     "exception": false,
     "start_time": "2021-07-09T12:51:56.490581",
     "status": "completed"
    },
    "tags": []
   },
   "outputs": [
    {
     "data": {
      "text/html": [
       "<iframe\n",
       "    scrolling=\"no\"\n",
       "    width=\"100%\"\n",
       "    height=\"545px\"\n",
       "    src=\"iframe_figures/figure_19.html\"\n",
       "    frameborder=\"0\"\n",
       "    allowfullscreen\n",
       "></iframe>\n"
      ]
     },
     "metadata": {},
     "output_type": "display_data"
    }
   ],
   "source": [
    "fig = px.histogram(df, x= 'installs_in_million', title='Number of Game Install in Millions')\n",
    "\n",
    "fig.show()"
   ]
  },
  {
   "cell_type": "code",
   "execution_count": 20,
   "id": "89363087",
   "metadata": {
    "_kg_hide-input": true,
    "papermill": {
     "duration": 0.35293,
     "end_time": "2021-07-09T12:51:57.039599",
     "exception": false,
     "start_time": "2021-07-09T12:51:56.686669",
     "status": "completed"
    },
    "tags": []
   },
   "outputs": [
    {
     "data": {
      "text/html": [
       "<iframe\n",
       "    scrolling=\"no\"\n",
       "    width=\"100%\"\n",
       "    height=\"545px\"\n",
       "    src=\"iframe_figures/figure_20.html\"\n",
       "    frameborder=\"0\"\n",
       "    allowfullscreen\n",
       "></iframe>\n"
      ]
     },
     "metadata": {},
     "output_type": "display_data"
    }
   ],
   "source": [
    "fig = px.box(df, x= 'installs_in_million', hover_data = df[['title','category']])\n",
    "fig.update_traces(quartilemethod=\"inclusive\")\n",
    "fig.show()"
   ]
  },
  {
   "cell_type": "markdown",
   "id": "7e5f702f",
   "metadata": {
    "papermill": {
     "duration": 0.067659,
     "end_time": "2021-07-09T12:51:57.173942",
     "exception": false,
     "start_time": "2021-07-09T12:51:57.106283",
     "status": "completed"
    },
    "tags": []
   },
   "source": [
    "- We have rightly skewed distribution with possible outliers.\n",
    "- Candy Crush Saga with  1 Billion install and Clash of Clans with 500 Million installs shown in the box plot.\n",
    "- it would be good idea to always check with dataset, in the dataset we have 2 count of 1 Billion install and 12 count of 500 Million installs. And boxplot shows us one example from this number of installs.\n",
    "- Size of the outliers definitely affect  mean value and distributions.\n",
    "- Difference between mean value and median value is really  huge (mean = 29.1M,median= 10M)\n",
    "- As mentioned above, it would be a good idea to use median based approach."
   ]
  },
  {
   "cell_type": "markdown",
   "id": "0fa4fe09",
   "metadata": {
    "papermill": {
     "duration": 0.06594,
     "end_time": "2021-07-09T12:51:57.306755",
     "exception": false,
     "start_time": "2021-07-09T12:51:57.240815",
     "status": "completed"
    },
    "tags": []
   },
   "source": [
    "### Paid-Free Games"
   ]
  },
  {
   "cell_type": "code",
   "execution_count": 21,
   "id": "11cc0acd",
   "metadata": {
    "_kg_hide-input": true,
    "papermill": {
     "duration": 0.078918,
     "end_time": "2021-07-09T12:51:57.451161",
     "exception": false,
     "start_time": "2021-07-09T12:51:57.372243",
     "status": "completed"
    },
    "tags": []
   },
   "outputs": [
    {
     "data": {
      "text/plain": [
       "False    0.995954\n",
       "True     0.004046\n",
       "Name: paid, dtype: float64"
      ]
     },
     "execution_count": 21,
     "metadata": {},
     "output_type": "execute_result"
    }
   ],
   "source": [
    "df['paid'].value_counts(normalize=True)"
   ]
  },
  {
   "cell_type": "code",
   "execution_count": 22,
   "id": "cf9ade53",
   "metadata": {
    "_kg_hide-input": true,
    "papermill": {
     "duration": 0.143301,
     "end_time": "2021-07-09T12:51:57.662486",
     "exception": false,
     "start_time": "2021-07-09T12:51:57.519185",
     "status": "completed"
    },
    "tags": []
   },
   "outputs": [
    {
     "data": {
      "text/html": [
       "<iframe\n",
       "    scrolling=\"no\"\n",
       "    width=\"100%\"\n",
       "    height=\"545px\"\n",
       "    src=\"iframe_figures/figure_22.html\"\n",
       "    frameborder=\"0\"\n",
       "    allowfullscreen\n",
       "></iframe>\n"
      ]
     },
     "metadata": {},
     "output_type": "display_data"
    }
   ],
   "source": [
    "paid_free= df['paid'].value_counts()\n",
    "label =['Free','Paid']\n",
    "fig = px.pie(paid_free, values=df['paid'].value_counts().values, names=label,\n",
    "             title='Paid & Free Games')\n",
    "fig.update_traces(textposition='inside', textinfo='percent+label')\n",
    "fig.show()"
   ]
  },
  {
   "cell_type": "markdown",
   "id": "defb60b3",
   "metadata": {
    "papermill": {
     "duration": 0.066364,
     "end_time": "2021-07-09T12:51:57.795790",
     "exception": false,
     "start_time": "2021-07-09T12:51:57.729426",
     "status": "completed"
    },
    "tags": []
   },
   "source": [
    "- Almost all of the games (except 7 out of 1730) in this dataset are free games"
   ]
  },
  {
   "cell_type": "markdown",
   "id": "44971f53",
   "metadata": {
    "papermill": {
     "duration": 0.065546,
     "end_time": "2021-07-09T12:51:57.931335",
     "exception": false,
     "start_time": "2021-07-09T12:51:57.865789",
     "status": "completed"
    },
    "tags": []
   },
   "source": [
    "- OK after this point we can look deeper into the dataset."
   ]
  },
  {
   "cell_type": "markdown",
   "id": "cab8215f",
   "metadata": {
    "papermill": {
     "duration": 0.068368,
     "end_time": "2021-07-09T12:51:58.066807",
     "exception": false,
     "start_time": "2021-07-09T12:51:57.998439",
     "status": "completed"
    },
    "tags": []
   },
   "source": [
    "### Total Ratings by Category"
   ]
  },
  {
   "cell_type": "code",
   "execution_count": 23,
   "id": "dbb87d42",
   "metadata": {
    "_kg_hide-input": true,
    "papermill": {
     "duration": 0.080838,
     "end_time": "2021-07-09T12:51:58.215117",
     "exception": false,
     "start_time": "2021-07-09T12:51:58.134279",
     "status": "completed"
    },
    "tags": []
   },
   "outputs": [
    {
     "data": {
      "text/plain": [
       "category\n",
       "GAME ACTION          4.011344e+06\n",
       "GAME ADVENTURE       8.935617e+05\n",
       "GAME ARCADE          1.793780e+06\n",
       "GAME BOARD           4.457431e+05\n",
       "GAME CARD            3.326041e+05\n",
       "GAME CASINO          3.619031e+05\n",
       "GAME CASUAL          2.470866e+06\n",
       "GAME EDUCATIONAL     1.529804e+05\n",
       "GAME MUSIC           2.163020e+05\n",
       "GAME PUZZLE          9.466929e+05\n",
       "GAME RACING          1.139027e+06\n",
       "GAME ROLE PLAYING    7.087648e+05\n",
       "GAME SIMULATION      9.341417e+05\n",
       "GAME SPORTS          1.353829e+06\n",
       "GAME STRATEGY        1.856570e+06\n",
       "GAME TRIVIA          2.982217e+05\n",
       "GAME WORD            3.943603e+05\n",
       "Name: total ratings, dtype: float64"
      ]
     },
     "execution_count": 23,
     "metadata": {},
     "output_type": "execute_result"
    }
   ],
   "source": [
    "total_ratings_by_category = df.groupby('category')['total ratings'].mean()\n",
    "total_ratings_by_category"
   ]
  },
  {
   "cell_type": "code",
   "execution_count": 24,
   "id": "01a21a7b",
   "metadata": {
    "_kg_hide-input": true,
    "papermill": {
     "duration": 0.150096,
     "end_time": "2021-07-09T12:51:58.433032",
     "exception": false,
     "start_time": "2021-07-09T12:51:58.282936",
     "status": "completed"
    },
    "tags": []
   },
   "outputs": [
    {
     "data": {
      "text/html": [
       "<iframe\n",
       "    scrolling=\"no\"\n",
       "    width=\"100%\"\n",
       "    height=\"545px\"\n",
       "    src=\"iframe_figures/figure_24.html\"\n",
       "    frameborder=\"0\"\n",
       "    allowfullscreen\n",
       "></iframe>\n"
      ]
     },
     "metadata": {},
     "output_type": "display_data"
    }
   ],
   "source": [
    "fig = px.bar(total_ratings_by_category, x= total_ratings_by_category.index, y=total_ratings_by_category.values, labels={'y':'Total Ratings'})\n",
    "fig.update_layout(xaxis={'categoryorder':'total descending'})\n",
    "fig.show()"
   ]
  },
  {
   "cell_type": "markdown",
   "id": "194a68e2",
   "metadata": {
    "papermill": {
     "duration": 0.066696,
     "end_time": "2021-07-09T12:51:58.567491",
     "exception": false,
     "start_time": "2021-07-09T12:51:58.500795",
     "status": "completed"
    },
    "tags": []
   },
   "source": [
    "- Games in the action, casual, strategy,arcade, sports categories are getting considerably more ratings than, games in the educational, music categories."
   ]
  },
  {
   "cell_type": "markdown",
   "id": "427fd5cd",
   "metadata": {
    "papermill": {
     "duration": 0.067026,
     "end_time": "2021-07-09T12:51:58.701672",
     "exception": false,
     "start_time": "2021-07-09T12:51:58.634646",
     "status": "completed"
    },
    "tags": []
   },
   "source": [
    "### Number of Game Installations by Game Category"
   ]
  },
  {
   "cell_type": "code",
   "execution_count": 25,
   "id": "c76f6289",
   "metadata": {
    "_kg_hide-input": true,
    "papermill": {
     "duration": 0.079288,
     "end_time": "2021-07-09T12:51:58.847875",
     "exception": false,
     "start_time": "2021-07-09T12:51:58.768587",
     "status": "completed"
    },
    "tags": []
   },
   "outputs": [
    {
     "data": {
      "text/plain": [
       "category\n",
       "GAME ACTION          74.100000\n",
       "GAME ADVENTURE       18.030000\n",
       "GAME ARCADE          71.610000\n",
       "GAME BOARD           21.230000\n",
       "GAME CARD            12.484127\n",
       "GAME CASINO           7.715000\n",
       "GAME CASUAL          63.970000\n",
       "GAME EDUCATIONAL     17.895000\n",
       "GAME MUSIC           12.487000\n",
       "GAME PUZZLE          36.210000\n",
       "GAME RACING          46.750000\n",
       "GAME ROLE PLAYING    14.080000\n",
       "GAME SIMULATION      27.710000\n",
       "GAME SPORTS          33.610000\n",
       "GAME STRATEGY        23.910000\n",
       "GAME TRIVIA           6.901000\n",
       "GAME WORD            12.317308\n",
       "Name: installs_in_million, dtype: float64"
      ]
     },
     "execution_count": 25,
     "metadata": {},
     "output_type": "execute_result"
    }
   ],
   "source": [
    "install_by_category = df.groupby('category')['installs_in_million'].mean()\n",
    "install_by_category"
   ]
  },
  {
   "cell_type": "code",
   "execution_count": 26,
   "id": "4bc80aa5",
   "metadata": {
    "_kg_hide-input": true,
    "papermill": {
     "duration": 0.141478,
     "end_time": "2021-07-09T12:51:59.058829",
     "exception": false,
     "start_time": "2021-07-09T12:51:58.917351",
     "status": "completed"
    },
    "tags": []
   },
   "outputs": [
    {
     "data": {
      "text/html": [
       "<iframe\n",
       "    scrolling=\"no\"\n",
       "    width=\"100%\"\n",
       "    height=\"545px\"\n",
       "    src=\"iframe_figures/figure_26.html\"\n",
       "    frameborder=\"0\"\n",
       "    allowfullscreen\n",
       "></iframe>\n"
      ]
     },
     "metadata": {},
     "output_type": "display_data"
    }
   ],
   "source": [
    "fig = px.bar(install_by_category, x= install_by_category.index, y=install_by_category.values, labels={'y':'Install in Millions'})\n",
    "fig.update_layout(xaxis={'categoryorder':'total descending'})\n",
    "fig.show()"
   ]
  },
  {
   "cell_type": "markdown",
   "id": "c33d4dfe",
   "metadata": {
    "papermill": {
     "duration": 0.07453,
     "end_time": "2021-07-09T12:51:59.228935",
     "exception": false,
     "start_time": "2021-07-09T12:51:59.154405",
     "status": "completed"
    },
    "tags": []
   },
   "source": [
    "- Games in the action, arcade and casual categories are installed significantly more than games in the trivia, casino and word categories."
   ]
  },
  {
   "cell_type": "code",
   "execution_count": 27,
   "id": "4b90c58d",
   "metadata": {
    "_kg_hide-input": true,
    "papermill": {
     "duration": 0.081601,
     "end_time": "2021-07-09T12:51:59.379080",
     "exception": false,
     "start_time": "2021-07-09T12:51:59.297479",
     "status": "completed"
    },
    "tags": []
   },
   "outputs": [
    {
     "data": {
      "text/plain": [
       "category\n",
       "GAME ACTION            18.808000\n",
       "GAME ADVENTURE        259.101000\n",
       "GAME ARCADE            58.924000\n",
       "GAME BOARD             34.445000\n",
       "GAME CARD             746.598413\n",
       "GAME CASINO          2335.253000\n",
       "GAME CASUAL            36.020000\n",
       "GAME EDUCATIONAL      102.455000\n",
       "GAME MUSIC             24.626000\n",
       "GAME PUZZLE            44.362000\n",
       "GAME RACING           207.103000\n",
       "GAME ROLE PLAYING     209.979000\n",
       "GAME SIMULATION        13.406000\n",
       "GAME SPORTS           159.543000\n",
       "GAME STRATEGY          18.281000\n",
       "GAME TRIVIA          1079.680000\n",
       "GAME WORD              22.433654\n",
       "Name: growth (30 days), dtype: float64"
      ]
     },
     "execution_count": 27,
     "metadata": {},
     "output_type": "execute_result"
    }
   ],
   "source": [
    "growth_by_category_30 = df.groupby('category')['growth (30 days)'].mean()\n",
    "growth_by_category_30"
   ]
  },
  {
   "cell_type": "code",
   "execution_count": 28,
   "id": "00bf7bb1",
   "metadata": {
    "_kg_hide-input": true,
    "papermill": {
     "duration": 0.156055,
     "end_time": "2021-07-09T12:51:59.614931",
     "exception": false,
     "start_time": "2021-07-09T12:51:59.458876",
     "status": "completed"
    },
    "tags": []
   },
   "outputs": [
    {
     "data": {
      "text/html": [
       "<iframe\n",
       "    scrolling=\"no\"\n",
       "    width=\"100%\"\n",
       "    height=\"545px\"\n",
       "    src=\"iframe_figures/figure_28.html\"\n",
       "    frameborder=\"0\"\n",
       "    allowfullscreen\n",
       "></iframe>\n"
      ]
     },
     "metadata": {},
     "output_type": "display_data"
    }
   ],
   "source": [
    "fig = px.bar(growth_by_category_30, x= growth_by_category_30.index, y=growth_by_category_30, labels={'y':'Growth in 30 days'})\n",
    "fig.update_layout(xaxis={'categoryorder':'total descending'})\n",
    "fig.show()"
   ]
  },
  {
   "cell_type": "markdown",
   "id": "2cfe8fc6",
   "metadata": {
    "papermill": {
     "duration": 0.082127,
     "end_time": "2021-07-09T12:51:59.773103",
     "exception": false,
     "start_time": "2021-07-09T12:51:59.690976",
     "status": "completed"
    },
    "tags": []
   },
   "source": [
    "- Even though games in the action categories get more ratings and were installed more than games in the other categories, games in the casino category have more growth in 30 days. \n"
   ]
  },
  {
   "cell_type": "markdown",
   "id": "546d86e2",
   "metadata": {
    "papermill": {
     "duration": 0.069561,
     "end_time": "2021-07-09T12:51:59.915605",
     "exception": false,
     "start_time": "2021-07-09T12:51:59.846044",
     "status": "completed"
    },
    "tags": []
   },
   "source": [
    "- Let's see whether same also true for the 60 days growth"
   ]
  },
  {
   "cell_type": "code",
   "execution_count": 29,
   "id": "88020331",
   "metadata": {
    "_kg_hide-input": true,
    "papermill": {
     "duration": 0.088946,
     "end_time": "2021-07-09T12:52:00.074398",
     "exception": false,
     "start_time": "2021-07-09T12:51:59.985452",
     "status": "completed"
    },
    "tags": []
   },
   "outputs": [
    {
     "data": {
      "text/plain": [
       "category\n",
       "GAME ACTION          118.294000\n",
       "GAME ADVENTURE         6.084000\n",
       "GAME ARCADE           21.970000\n",
       "GAME BOARD           587.891000\n",
       "GAME CARD            555.337302\n",
       "GAME CASINO            2.193000\n",
       "GAME CASUAL           14.812000\n",
       "GAME EDUCATIONAL      14.748000\n",
       "GAME MUSIC            22.160000\n",
       "GAME PUZZLE           12.062000\n",
       "GAME RACING           88.963000\n",
       "GAME ROLE PLAYING      3.037000\n",
       "GAME SIMULATION       20.196000\n",
       "GAME SPORTS            8.492000\n",
       "GAME STRATEGY        435.440000\n",
       "GAME TRIVIA            6.180000\n",
       "GAME WORD             55.725000\n",
       "Name: growth (60 days), dtype: float64"
      ]
     },
     "execution_count": 29,
     "metadata": {},
     "output_type": "execute_result"
    }
   ],
   "source": [
    "growth_by_category_60 = df.groupby('category')['growth (60 days)'].mean()\n",
    "growth_by_category_60"
   ]
  },
  {
   "cell_type": "code",
   "execution_count": 30,
   "id": "86665628",
   "metadata": {
    "_kg_hide-input": true,
    "papermill": {
     "duration": 0.144685,
     "end_time": "2021-07-09T12:52:00.292013",
     "exception": false,
     "start_time": "2021-07-09T12:52:00.147328",
     "status": "completed"
    },
    "tags": []
   },
   "outputs": [
    {
     "data": {
      "text/html": [
       "<iframe\n",
       "    scrolling=\"no\"\n",
       "    width=\"100%\"\n",
       "    height=\"545px\"\n",
       "    src=\"iframe_figures/figure_30.html\"\n",
       "    frameborder=\"0\"\n",
       "    allowfullscreen\n",
       "></iframe>\n"
      ]
     },
     "metadata": {},
     "output_type": "display_data"
    }
   ],
   "source": [
    "fig = px.bar(growth_by_category_60, x= growth_by_category_60.index, y=growth_by_category_60, labels={'y':'Growth in 60 days'})\n",
    "fig.update_layout(xaxis={'categoryorder':'total descending'})\n",
    "fig.show()"
   ]
  },
  {
   "cell_type": "markdown",
   "id": "2a43f8a5",
   "metadata": {
    "papermill": {
     "duration": 0.069639,
     "end_time": "2021-07-09T12:52:00.431676",
     "exception": false,
     "start_time": "2021-07-09T12:52:00.362037",
     "status": "completed"
    },
    "tags": []
   },
   "source": [
    "- Nope, growth in 60 days for the games in the casino, adventure, role playing categories are significantly lower than their growth in 30 days. \n",
    "- With given dataset, we can only speculate something, but we can not make an analytical assumptions based on the  given data. We need more variables to explain the signifcant differences for some of the categories in 30-60 days growth."
   ]
  },
  {
   "cell_type": "markdown",
   "id": "44a85c0a",
   "metadata": {
    "papermill": {
     "duration": 0.069367,
     "end_time": "2021-07-09T12:52:00.571358",
     "exception": false,
     "start_time": "2021-07-09T12:52:00.501991",
     "status": "completed"
    },
    "tags": []
   },
   "source": [
    "- Lets' see top 3 ranked games in each category in details."
   ]
  },
  {
   "cell_type": "markdown",
   "id": "85a1b477",
   "metadata": {
    "papermill": {
     "duration": 0.069725,
     "end_time": "2021-07-09T12:52:00.711089",
     "exception": false,
     "start_time": "2021-07-09T12:52:00.641364",
     "status": "completed"
    },
    "tags": []
   },
   "source": [
    "### Top 3 Ranked Games by Category"
   ]
  },
  {
   "cell_type": "code",
   "execution_count": 31,
   "id": "4d6b451b",
   "metadata": {
    "_kg_hide-input": true,
    "papermill": {
     "duration": 0.107681,
     "end_time": "2021-07-09T12:52:00.889318",
     "exception": false,
     "start_time": "2021-07-09T12:52:00.781637",
     "status": "completed"
    },
    "tags": []
   },
   "outputs": [
    {
     "data": {
      "text/html": [
       "<div>\n",
       "<style scoped>\n",
       "    .dataframe tbody tr th:only-of-type {\n",
       "        vertical-align: middle;\n",
       "    }\n",
       "\n",
       "    .dataframe tbody tr th {\n",
       "        vertical-align: top;\n",
       "    }\n",
       "\n",
       "    .dataframe thead th {\n",
       "        text-align: right;\n",
       "    }\n",
       "</style>\n",
       "<table border=\"1\" class=\"dataframe\">\n",
       "  <thead>\n",
       "    <tr style=\"text-align: right;\">\n",
       "      <th></th>\n",
       "      <th>rank</th>\n",
       "      <th>title</th>\n",
       "      <th>category</th>\n",
       "      <th>total ratings</th>\n",
       "      <th>installs_in_million</th>\n",
       "      <th>5 star ratings</th>\n",
       "    </tr>\n",
       "  </thead>\n",
       "  <tbody>\n",
       "    <tr>\n",
       "      <th>0</th>\n",
       "      <td>1</td>\n",
       "      <td>Garena Free Fire- World Series</td>\n",
       "      <td>GAME ACTION</td>\n",
       "      <td>86273129</td>\n",
       "      <td>500.0</td>\n",
       "      <td>63546766</td>\n",
       "    </tr>\n",
       "    <tr>\n",
       "      <th>1</th>\n",
       "      <td>2</td>\n",
       "      <td>PUBG MOBILE - Traverse</td>\n",
       "      <td>GAME ACTION</td>\n",
       "      <td>37276732</td>\n",
       "      <td>500.0</td>\n",
       "      <td>28339753</td>\n",
       "    </tr>\n",
       "    <tr>\n",
       "      <th>2</th>\n",
       "      <td>3</td>\n",
       "      <td>Mobile Legends: Bang Bang</td>\n",
       "      <td>GAME ACTION</td>\n",
       "      <td>26663595</td>\n",
       "      <td>100.0</td>\n",
       "      <td>18777988</td>\n",
       "    </tr>\n",
       "    <tr>\n",
       "      <th>100</th>\n",
       "      <td>1</td>\n",
       "      <td>Roblox</td>\n",
       "      <td>GAME ADVENTURE</td>\n",
       "      <td>21820451</td>\n",
       "      <td>100.0</td>\n",
       "      <td>16674013</td>\n",
       "    </tr>\n",
       "    <tr>\n",
       "      <th>101</th>\n",
       "      <td>2</td>\n",
       "      <td>Pokémon GO</td>\n",
       "      <td>GAME ADVENTURE</td>\n",
       "      <td>14541662</td>\n",
       "      <td>100.0</td>\n",
       "      <td>9517488</td>\n",
       "    </tr>\n",
       "    <tr>\n",
       "      <th>102</th>\n",
       "      <td>3</td>\n",
       "      <td>Criminal Case</td>\n",
       "      <td>GAME ADVENTURE</td>\n",
       "      <td>4273420</td>\n",
       "      <td>100.0</td>\n",
       "      <td>3264905</td>\n",
       "    </tr>\n",
       "    <tr>\n",
       "      <th>200</th>\n",
       "      <td>1</td>\n",
       "      <td>Subway Surfers</td>\n",
       "      <td>GAME ARCADE</td>\n",
       "      <td>35665901</td>\n",
       "      <td>1000.0</td>\n",
       "      <td>27138572</td>\n",
       "    </tr>\n",
       "    <tr>\n",
       "      <th>201</th>\n",
       "      <td>2</td>\n",
       "      <td>Hungry Shark Evolution - Offline survival game</td>\n",
       "      <td>GAME ARCADE</td>\n",
       "      <td>7202013</td>\n",
       "      <td>100.0</td>\n",
       "      <td>5220860</td>\n",
       "    </tr>\n",
       "    <tr>\n",
       "      <th>202</th>\n",
       "      <td>3</td>\n",
       "      <td>Geometry Dash Lite</td>\n",
       "      <td>GAME ARCADE</td>\n",
       "      <td>6960814</td>\n",
       "      <td>100.0</td>\n",
       "      <td>4787054</td>\n",
       "    </tr>\n",
       "    <tr>\n",
       "      <th>300</th>\n",
       "      <td>1</td>\n",
       "      <td>Ludo King™</td>\n",
       "      <td>GAME BOARD</td>\n",
       "      <td>7512316</td>\n",
       "      <td>500.0</td>\n",
       "      <td>5291589</td>\n",
       "    </tr>\n",
       "    <tr>\n",
       "      <th>301</th>\n",
       "      <td>2</td>\n",
       "      <td>Happy Color™ – Color by Number. Coloring games.</td>\n",
       "      <td>GAME BOARD</td>\n",
       "      <td>2516777</td>\n",
       "      <td>100.0</td>\n",
       "      <td>1927153</td>\n",
       "    </tr>\n",
       "    <tr>\n",
       "      <th>302</th>\n",
       "      <td>3</td>\n",
       "      <td>101 Yüzbir Okey Plus</td>\n",
       "      <td>GAME BOARD</td>\n",
       "      <td>2430531</td>\n",
       "      <td>10.0</td>\n",
       "      <td>1763377</td>\n",
       "    </tr>\n",
       "    <tr>\n",
       "      <th>400</th>\n",
       "      <td>1</td>\n",
       "      <td>Yu-Gi-Oh! Duel Links</td>\n",
       "      <td>GAME CARD</td>\n",
       "      <td>2113853</td>\n",
       "      <td>50.0</td>\n",
       "      <td>1541203</td>\n",
       "    </tr>\n",
       "    <tr>\n",
       "      <th>401</th>\n",
       "      <td>2</td>\n",
       "      <td>Hearthstone</td>\n",
       "      <td>GAME CARD</td>\n",
       "      <td>1765570</td>\n",
       "      <td>10.0</td>\n",
       "      <td>960279</td>\n",
       "    </tr>\n",
       "    <tr>\n",
       "      <th>402</th>\n",
       "      <td>3</td>\n",
       "      <td>Solitaire</td>\n",
       "      <td>GAME CARD</td>\n",
       "      <td>1590733</td>\n",
       "      <td>100.0</td>\n",
       "      <td>1117298</td>\n",
       "    </tr>\n",
       "    <tr>\n",
       "      <th>403</th>\n",
       "      <td>3</td>\n",
       "      <td>Solitaire</td>\n",
       "      <td>GAME CARD</td>\n",
       "      <td>1590733</td>\n",
       "      <td>100.0</td>\n",
       "      <td>431463</td>\n",
       "    </tr>\n",
       "    <tr>\n",
       "      <th>404</th>\n",
       "      <td>3</td>\n",
       "      <td>Solitaire</td>\n",
       "      <td>GAME CARD</td>\n",
       "      <td>1590733</td>\n",
       "      <td>100.0</td>\n",
       "      <td>418115</td>\n",
       "    </tr>\n",
       "    <tr>\n",
       "      <th>405</th>\n",
       "      <td>3</td>\n",
       "      <td>Solitaire</td>\n",
       "      <td>GAME CARD</td>\n",
       "      <td>1590733</td>\n",
       "      <td>100.0</td>\n",
       "      <td>299715</td>\n",
       "    </tr>\n",
       "    <tr>\n",
       "      <th>526</th>\n",
       "      <td>1</td>\n",
       "      <td>Zynga Poker™ – Free Texas Holdem Online Card G...</td>\n",
       "      <td>GAME CASINO</td>\n",
       "      <td>2582669</td>\n",
       "      <td>50.0</td>\n",
       "      <td>1821678</td>\n",
       "    </tr>\n",
       "    <tr>\n",
       "      <th>527</th>\n",
       "      <td>2</td>\n",
       "      <td>Slotomania™ Slots: Casino Slot Machine Games</td>\n",
       "      <td>GAME CASINO</td>\n",
       "      <td>1822223</td>\n",
       "      <td>50.0</td>\n",
       "      <td>1293272</td>\n",
       "    </tr>\n",
       "    <tr>\n",
       "      <th>528</th>\n",
       "      <td>3</td>\n",
       "      <td>Teen Patti Gold – Indian Family Card Game</td>\n",
       "      <td>GAME CASINO</td>\n",
       "      <td>1529589</td>\n",
       "      <td>50.0</td>\n",
       "      <td>1210258</td>\n",
       "    </tr>\n",
       "    <tr>\n",
       "      <th>626</th>\n",
       "      <td>1</td>\n",
       "      <td>Candy Crush Saga</td>\n",
       "      <td>GAME CASUAL</td>\n",
       "      <td>31367945</td>\n",
       "      <td>1000.0</td>\n",
       "      <td>23837448</td>\n",
       "    </tr>\n",
       "    <tr>\n",
       "      <th>627</th>\n",
       "      <td>2</td>\n",
       "      <td>My Talking Tom</td>\n",
       "      <td>GAME CASUAL</td>\n",
       "      <td>16810315</td>\n",
       "      <td>500.0</td>\n",
       "      <td>12234051</td>\n",
       "    </tr>\n",
       "    <tr>\n",
       "      <th>628</th>\n",
       "      <td>3</td>\n",
       "      <td>My Talking Angela</td>\n",
       "      <td>GAME CASUAL</td>\n",
       "      <td>13050503</td>\n",
       "      <td>500.0</td>\n",
       "      <td>9165205</td>\n",
       "    </tr>\n",
       "    <tr>\n",
       "      <th>726</th>\n",
       "      <td>1</td>\n",
       "      <td>Toca Life World: Build stories &amp; create your w...</td>\n",
       "      <td>GAME EDUCATIONAL</td>\n",
       "      <td>1690405</td>\n",
       "      <td>50.0</td>\n",
       "      <td>1191130</td>\n",
       "    </tr>\n",
       "    <tr>\n",
       "      <th>727</th>\n",
       "      <td>2</td>\n",
       "      <td>Toca Kitchen 2</td>\n",
       "      <td>GAME EDUCATIONAL</td>\n",
       "      <td>1543998</td>\n",
       "      <td>100.0</td>\n",
       "      <td>1044380</td>\n",
       "    </tr>\n",
       "    <tr>\n",
       "      <th>728</th>\n",
       "      <td>3</td>\n",
       "      <td>Cooking Mama: Let's cook!</td>\n",
       "      <td>GAME EDUCATIONAL</td>\n",
       "      <td>758930</td>\n",
       "      <td>50.0</td>\n",
       "      <td>569677</td>\n",
       "    </tr>\n",
       "    <tr>\n",
       "      <th>826</th>\n",
       "      <td>1</td>\n",
       "      <td>Tiles Hop: EDM Rush!</td>\n",
       "      <td>GAME MUSIC</td>\n",
       "      <td>2454558</td>\n",
       "      <td>100.0</td>\n",
       "      <td>1815983</td>\n",
       "    </tr>\n",
       "    <tr>\n",
       "      <th>827</th>\n",
       "      <td>2</td>\n",
       "      <td>Magic Tiles 3</td>\n",
       "      <td>GAME MUSIC</td>\n",
       "      <td>2381045</td>\n",
       "      <td>100.0</td>\n",
       "      <td>1570436</td>\n",
       "    </tr>\n",
       "    <tr>\n",
       "      <th>828</th>\n",
       "      <td>3</td>\n",
       "      <td>My Singing Monsters</td>\n",
       "      <td>GAME MUSIC</td>\n",
       "      <td>1363013</td>\n",
       "      <td>10.0</td>\n",
       "      <td>1099001</td>\n",
       "    </tr>\n",
       "    <tr>\n",
       "      <th>926</th>\n",
       "      <td>1</td>\n",
       "      <td>Fishdom</td>\n",
       "      <td>GAME PUZZLE</td>\n",
       "      <td>4876844</td>\n",
       "      <td>100.0</td>\n",
       "      <td>3641850</td>\n",
       "    </tr>\n",
       "    <tr>\n",
       "      <th>927</th>\n",
       "      <td>2</td>\n",
       "      <td>Brain Out – Can you pass it?</td>\n",
       "      <td>GAME PUZZLE</td>\n",
       "      <td>4467655</td>\n",
       "      <td>100.0</td>\n",
       "      <td>3390163</td>\n",
       "    </tr>\n",
       "    <tr>\n",
       "      <th>928</th>\n",
       "      <td>3</td>\n",
       "      <td>Toon Blast</td>\n",
       "      <td>GAME PUZZLE</td>\n",
       "      <td>3222428</td>\n",
       "      <td>50.0</td>\n",
       "      <td>2556112</td>\n",
       "    </tr>\n",
       "    <tr>\n",
       "      <th>1026</th>\n",
       "      <td>1</td>\n",
       "      <td>Hill Climb Racing</td>\n",
       "      <td>GAME RACING</td>\n",
       "      <td>10188038</td>\n",
       "      <td>500.0</td>\n",
       "      <td>7148370</td>\n",
       "    </tr>\n",
       "    <tr>\n",
       "      <th>1027</th>\n",
       "      <td>2</td>\n",
       "      <td>Traffic Rider</td>\n",
       "      <td>GAME RACING</td>\n",
       "      <td>7580227</td>\n",
       "      <td>100.0</td>\n",
       "      <td>5426819</td>\n",
       "    </tr>\n",
       "    <tr>\n",
       "      <th>1028</th>\n",
       "      <td>3</td>\n",
       "      <td>Traffic Racer</td>\n",
       "      <td>GAME RACING</td>\n",
       "      <td>6062833</td>\n",
       "      <td>100.0</td>\n",
       "      <td>4580870</td>\n",
       "    </tr>\n",
       "    <tr>\n",
       "      <th>1126</th>\n",
       "      <td>1</td>\n",
       "      <td>Shadow Fight 3 - RPG fighting game</td>\n",
       "      <td>GAME ROLE PLAYING</td>\n",
       "      <td>3170246</td>\n",
       "      <td>100.0</td>\n",
       "      <td>2243868</td>\n",
       "    </tr>\n",
       "    <tr>\n",
       "      <th>1127</th>\n",
       "      <td>2</td>\n",
       "      <td>AFK Arena</td>\n",
       "      <td>GAME ROLE PLAYING</td>\n",
       "      <td>3126336</td>\n",
       "      <td>10.0</td>\n",
       "      <td>2238968</td>\n",
       "    </tr>\n",
       "    <tr>\n",
       "      <th>1128</th>\n",
       "      <td>3</td>\n",
       "      <td>Avakin Life - 3D Virtual World</td>\n",
       "      <td>GAME ROLE PLAYING</td>\n",
       "      <td>3105550</td>\n",
       "      <td>50.0</td>\n",
       "      <td>2198832</td>\n",
       "    </tr>\n",
       "    <tr>\n",
       "      <th>1226</th>\n",
       "      <td>1</td>\n",
       "      <td>The Sims FreePlay</td>\n",
       "      <td>GAME SIMULATION</td>\n",
       "      <td>5541105</td>\n",
       "      <td>100.0</td>\n",
       "      <td>3457057</td>\n",
       "    </tr>\n",
       "    <tr>\n",
       "      <th>1227</th>\n",
       "      <td>2</td>\n",
       "      <td>SimCity BuildIt</td>\n",
       "      <td>GAME SIMULATION</td>\n",
       "      <td>5213933</td>\n",
       "      <td>100.0</td>\n",
       "      <td>3484074</td>\n",
       "    </tr>\n",
       "    <tr>\n",
       "      <th>1228</th>\n",
       "      <td>3</td>\n",
       "      <td>Episode - Choose Your Story</td>\n",
       "      <td>GAME SIMULATION</td>\n",
       "      <td>3622549</td>\n",
       "      <td>100.0</td>\n",
       "      <td>2310125</td>\n",
       "    </tr>\n",
       "    <tr>\n",
       "      <th>1326</th>\n",
       "      <td>1</td>\n",
       "      <td>8 Ball Pool</td>\n",
       "      <td>GAME SPORTS</td>\n",
       "      <td>21632735</td>\n",
       "      <td>500.0</td>\n",
       "      <td>16281475</td>\n",
       "    </tr>\n",
       "    <tr>\n",
       "      <th>1327</th>\n",
       "      <td>2</td>\n",
       "      <td>Dream League Soccer</td>\n",
       "      <td>GAME SPORTS</td>\n",
       "      <td>13385786</td>\n",
       "      <td>100.0</td>\n",
       "      <td>10086735</td>\n",
       "    </tr>\n",
       "    <tr>\n",
       "      <th>1328</th>\n",
       "      <td>3</td>\n",
       "      <td>Score! Hero</td>\n",
       "      <td>GAME SPORTS</td>\n",
       "      <td>6856324</td>\n",
       "      <td>100.0</td>\n",
       "      <td>4551071</td>\n",
       "    </tr>\n",
       "    <tr>\n",
       "      <th>1426</th>\n",
       "      <td>1</td>\n",
       "      <td>Clash of Clans</td>\n",
       "      <td>GAME STRATEGY</td>\n",
       "      <td>55766763</td>\n",
       "      <td>500.0</td>\n",
       "      <td>43346128</td>\n",
       "    </tr>\n",
       "    <tr>\n",
       "      <th>1427</th>\n",
       "      <td>2</td>\n",
       "      <td>Clash Royale</td>\n",
       "      <td>GAME STRATEGY</td>\n",
       "      <td>30852360</td>\n",
       "      <td>100.0</td>\n",
       "      <td>21009004</td>\n",
       "    </tr>\n",
       "    <tr>\n",
       "      <th>1428</th>\n",
       "      <td>3</td>\n",
       "      <td>Lords Mobile: Tower Defense</td>\n",
       "      <td>GAME STRATEGY</td>\n",
       "      <td>6548519</td>\n",
       "      <td>100.0</td>\n",
       "      <td>4667558</td>\n",
       "    </tr>\n",
       "    <tr>\n",
       "      <th>1526</th>\n",
       "      <td>1</td>\n",
       "      <td>Trivia Crack</td>\n",
       "      <td>GAME TRIVIA</td>\n",
       "      <td>7334155</td>\n",
       "      <td>100.0</td>\n",
       "      <td>4938889</td>\n",
       "    </tr>\n",
       "    <tr>\n",
       "      <th>1527</th>\n",
       "      <td>2</td>\n",
       "      <td>Brain Test: Tricky Puzzles</td>\n",
       "      <td>GAME TRIVIA</td>\n",
       "      <td>4145089</td>\n",
       "      <td>100.0</td>\n",
       "      <td>3257745</td>\n",
       "    </tr>\n",
       "    <tr>\n",
       "      <th>1528</th>\n",
       "      <td>3</td>\n",
       "      <td>94% - Quiz, Trivia &amp; Logic</td>\n",
       "      <td>GAME TRIVIA</td>\n",
       "      <td>2614691</td>\n",
       "      <td>10.0</td>\n",
       "      <td>1793644</td>\n",
       "    </tr>\n",
       "    <tr>\n",
       "      <th>1626</th>\n",
       "      <td>1</td>\n",
       "      <td>كلمات كراش - لعبة تسلية وتحدي من زيتونة</td>\n",
       "      <td>GAME WORD</td>\n",
       "      <td>2418119</td>\n",
       "      <td>10.0</td>\n",
       "      <td>2115189</td>\n",
       "    </tr>\n",
       "    <tr>\n",
       "      <th>1627</th>\n",
       "      <td>2</td>\n",
       "      <td>Word Cookies!®</td>\n",
       "      <td>GAME WORD</td>\n",
       "      <td>2250585</td>\n",
       "      <td>10.0</td>\n",
       "      <td>1679256</td>\n",
       "    </tr>\n",
       "    <tr>\n",
       "      <th>1628</th>\n",
       "      <td>3</td>\n",
       "      <td>Words of Wonders: Crossword to Connect Vocabulary</td>\n",
       "      <td>GAME WORD</td>\n",
       "      <td>1885400</td>\n",
       "      <td>100.0</td>\n",
       "      <td>1457939</td>\n",
       "    </tr>\n",
       "  </tbody>\n",
       "</table>\n",
       "</div>"
      ],
      "text/plain": [
       "      rank                                              title  \\\n",
       "0        1                     Garena Free Fire- World Series   \n",
       "1        2                             PUBG MOBILE - Traverse   \n",
       "2        3                          Mobile Legends: Bang Bang   \n",
       "100      1                                             Roblox   \n",
       "101      2                                         Pokémon GO   \n",
       "102      3                                      Criminal Case   \n",
       "200      1                                     Subway Surfers   \n",
       "201      2     Hungry Shark Evolution - Offline survival game   \n",
       "202      3                                 Geometry Dash Lite   \n",
       "300      1                                         Ludo King™   \n",
       "301      2    Happy Color™ – Color by Number. Coloring games.   \n",
       "302      3                               101 Yüzbir Okey Plus   \n",
       "400      1                               Yu-Gi-Oh! Duel Links   \n",
       "401      2                                        Hearthstone   \n",
       "402      3                                          Solitaire   \n",
       "403      3                                          Solitaire   \n",
       "404      3                                          Solitaire   \n",
       "405      3                                          Solitaire   \n",
       "526      1  Zynga Poker™ – Free Texas Holdem Online Card G...   \n",
       "527      2       Slotomania™ Slots: Casino Slot Machine Games   \n",
       "528      3          Teen Patti Gold – Indian Family Card Game   \n",
       "626      1                                   Candy Crush Saga   \n",
       "627      2                                     My Talking Tom   \n",
       "628      3                                  My Talking Angela   \n",
       "726      1  Toca Life World: Build stories & create your w...   \n",
       "727      2                                     Toca Kitchen 2   \n",
       "728      3                          Cooking Mama: Let's cook!   \n",
       "826      1                               Tiles Hop: EDM Rush!   \n",
       "827      2                                      Magic Tiles 3   \n",
       "828      3                                My Singing Monsters   \n",
       "926      1                                            Fishdom   \n",
       "927      2                       Brain Out – Can you pass it?   \n",
       "928      3                                         Toon Blast   \n",
       "1026     1                                  Hill Climb Racing   \n",
       "1027     2                                      Traffic Rider   \n",
       "1028     3                                      Traffic Racer   \n",
       "1126     1                 Shadow Fight 3 - RPG fighting game   \n",
       "1127     2                                          AFK Arena   \n",
       "1128     3                     Avakin Life - 3D Virtual World   \n",
       "1226     1                                  The Sims FreePlay   \n",
       "1227     2                                    SimCity BuildIt   \n",
       "1228     3                        Episode - Choose Your Story   \n",
       "1326     1                                        8 Ball Pool   \n",
       "1327     2                                Dream League Soccer   \n",
       "1328     3                                        Score! Hero   \n",
       "1426     1                                     Clash of Clans   \n",
       "1427     2                                       Clash Royale   \n",
       "1428     3                        Lords Mobile: Tower Defense   \n",
       "1526     1                                       Trivia Crack   \n",
       "1527     2                         Brain Test: Tricky Puzzles   \n",
       "1528     3                         94% - Quiz, Trivia & Logic   \n",
       "1626     1            كلمات كراش - لعبة تسلية وتحدي من زيتونة   \n",
       "1627     2                                     Word Cookies!®   \n",
       "1628     3  Words of Wonders: Crossword to Connect Vocabulary   \n",
       "\n",
       "               category  total ratings  installs_in_million  5 star ratings  \n",
       "0           GAME ACTION       86273129                500.0        63546766  \n",
       "1           GAME ACTION       37276732                500.0        28339753  \n",
       "2           GAME ACTION       26663595                100.0        18777988  \n",
       "100      GAME ADVENTURE       21820451                100.0        16674013  \n",
       "101      GAME ADVENTURE       14541662                100.0         9517488  \n",
       "102      GAME ADVENTURE        4273420                100.0         3264905  \n",
       "200         GAME ARCADE       35665901               1000.0        27138572  \n",
       "201         GAME ARCADE        7202013                100.0         5220860  \n",
       "202         GAME ARCADE        6960814                100.0         4787054  \n",
       "300          GAME BOARD        7512316                500.0         5291589  \n",
       "301          GAME BOARD        2516777                100.0         1927153  \n",
       "302          GAME BOARD        2430531                 10.0         1763377  \n",
       "400           GAME CARD        2113853                 50.0         1541203  \n",
       "401           GAME CARD        1765570                 10.0          960279  \n",
       "402           GAME CARD        1590733                100.0         1117298  \n",
       "403           GAME CARD        1590733                100.0          431463  \n",
       "404           GAME CARD        1590733                100.0          418115  \n",
       "405           GAME CARD        1590733                100.0          299715  \n",
       "526         GAME CASINO        2582669                 50.0         1821678  \n",
       "527         GAME CASINO        1822223                 50.0         1293272  \n",
       "528         GAME CASINO        1529589                 50.0         1210258  \n",
       "626         GAME CASUAL       31367945               1000.0        23837448  \n",
       "627         GAME CASUAL       16810315                500.0        12234051  \n",
       "628         GAME CASUAL       13050503                500.0         9165205  \n",
       "726    GAME EDUCATIONAL        1690405                 50.0         1191130  \n",
       "727    GAME EDUCATIONAL        1543998                100.0         1044380  \n",
       "728    GAME EDUCATIONAL         758930                 50.0          569677  \n",
       "826          GAME MUSIC        2454558                100.0         1815983  \n",
       "827          GAME MUSIC        2381045                100.0         1570436  \n",
       "828          GAME MUSIC        1363013                 10.0         1099001  \n",
       "926         GAME PUZZLE        4876844                100.0         3641850  \n",
       "927         GAME PUZZLE        4467655                100.0         3390163  \n",
       "928         GAME PUZZLE        3222428                 50.0         2556112  \n",
       "1026        GAME RACING       10188038                500.0         7148370  \n",
       "1027        GAME RACING        7580227                100.0         5426819  \n",
       "1028        GAME RACING        6062833                100.0         4580870  \n",
       "1126  GAME ROLE PLAYING        3170246                100.0         2243868  \n",
       "1127  GAME ROLE PLAYING        3126336                 10.0         2238968  \n",
       "1128  GAME ROLE PLAYING        3105550                 50.0         2198832  \n",
       "1226    GAME SIMULATION        5541105                100.0         3457057  \n",
       "1227    GAME SIMULATION        5213933                100.0         3484074  \n",
       "1228    GAME SIMULATION        3622549                100.0         2310125  \n",
       "1326        GAME SPORTS       21632735                500.0        16281475  \n",
       "1327        GAME SPORTS       13385786                100.0        10086735  \n",
       "1328        GAME SPORTS        6856324                100.0         4551071  \n",
       "1426      GAME STRATEGY       55766763                500.0        43346128  \n",
       "1427      GAME STRATEGY       30852360                100.0        21009004  \n",
       "1428      GAME STRATEGY        6548519                100.0         4667558  \n",
       "1526        GAME TRIVIA        7334155                100.0         4938889  \n",
       "1527        GAME TRIVIA        4145089                100.0         3257745  \n",
       "1528        GAME TRIVIA        2614691                 10.0         1793644  \n",
       "1626          GAME WORD        2418119                 10.0         2115189  \n",
       "1627          GAME WORD        2250585                 10.0         1679256  \n",
       "1628          GAME WORD        1885400                100.0         1457939  "
      ]
     },
     "execution_count": 31,
     "metadata": {},
     "output_type": "execute_result"
    }
   ],
   "source": [
    "top_ranked_games = df[df['rank']<4][['rank','title','category', 'total ratings', 'installs_in_million', '5 star ratings']]\n",
    "top_ranked_games"
   ]
  },
  {
   "cell_type": "markdown",
   "id": "55054f83",
   "metadata": {
    "papermill": {
     "duration": 0.07465,
     "end_time": "2021-07-09T12:52:01.037016",
     "exception": false,
     "start_time": "2021-07-09T12:52:00.962366",
     "status": "completed"
    },
    "tags": []
   },
   "source": [
    "### Top 3 Games by Category and Their Total Ratings"
   ]
  },
  {
   "cell_type": "code",
   "execution_count": 32,
   "id": "6d4ea785",
   "metadata": {
    "_kg_hide-input": true,
    "papermill": {
     "duration": 0.265452,
     "end_time": "2021-07-09T12:52:01.375230",
     "exception": false,
     "start_time": "2021-07-09T12:52:01.109778",
     "status": "completed"
    },
    "tags": []
   },
   "outputs": [
    {
     "data": {
      "text/html": [
       "<iframe\n",
       "    scrolling=\"no\"\n",
       "    width=\"100%\"\n",
       "    height=\"545px\"\n",
       "    src=\"iframe_figures/figure_32.html\"\n",
       "    frameborder=\"0\"\n",
       "    allowfullscreen\n",
       "></iframe>\n"
      ]
     },
     "metadata": {},
     "output_type": "display_data"
    }
   ],
   "source": [
    "fig = px.scatter(top_ranked_games, y= 'title', x='total ratings', \n",
    "                 hover_data = top_ranked_games[['category','rank']], color='category', \n",
    "                 title = \"Top 3 Games by Their Total Ratings\")\n",
    "fig.show()"
   ]
  },
  {
   "cell_type": "markdown",
   "id": "4886a8f0",
   "metadata": {
    "papermill": {
     "duration": 0.073111,
     "end_time": "2021-07-09T12:52:01.521712",
     "exception": false,
     "start_time": "2021-07-09T12:52:01.448601",
     "status": "completed"
    },
    "tags": []
   },
   "source": [
    "- As mentioned above, games in the action, casual, strategy,arcade, sports categories are getting considerably more ratings than, games in the educational, music categories.\n",
    "- Same is true even for the top ranked games in these categories."
   ]
  },
  {
   "cell_type": "markdown",
   "id": "1a79ce5b",
   "metadata": {
    "papermill": {
     "duration": 0.074893,
     "end_time": "2021-07-09T12:52:01.669935",
     "exception": false,
     "start_time": "2021-07-09T12:52:01.595042",
     "status": "completed"
    },
    "tags": []
   },
   "source": [
    "### Top 3 Games by Category and Their Installs in Millions"
   ]
  },
  {
   "cell_type": "code",
   "execution_count": 33,
   "id": "af71f8a3",
   "metadata": {
    "_kg_hide-input": true,
    "papermill": {
     "duration": 0.244976,
     "end_time": "2021-07-09T12:52:01.990235",
     "exception": false,
     "start_time": "2021-07-09T12:52:01.745259",
     "status": "completed"
    },
    "tags": []
   },
   "outputs": [
    {
     "data": {
      "text/html": [
       "<iframe\n",
       "    scrolling=\"no\"\n",
       "    width=\"100%\"\n",
       "    height=\"545px\"\n",
       "    src=\"iframe_figures/figure_33.html\"\n",
       "    frameborder=\"0\"\n",
       "    allowfullscreen\n",
       "></iframe>\n"
      ]
     },
     "metadata": {},
     "output_type": "display_data"
    }
   ],
   "source": [
    "fig = px.scatter(top_ranked_games, y= 'title', x='installs_in_million', \n",
    "                 hover_data = top_ranked_games[['category','rank']], color='category', \n",
    "                 title = \"Top 3 Games by Their Installations in Millions\")\n",
    "fig.show()"
   ]
  },
  {
   "cell_type": "markdown",
   "id": "9c8ae825",
   "metadata": {
    "papermill": {
     "duration": 0.074557,
     "end_time": "2021-07-09T12:52:02.143066",
     "exception": false,
     "start_time": "2021-07-09T12:52:02.068509",
     "status": "completed"
    },
    "tags": []
   },
   "source": [
    "- As mentioned above, games in the action, arcade and casual categories are installed significantly more than games in the trivia, casino and word categories.\n",
    "\n",
    "- Same is true even for the top ranked games in these categories."
   ]
  },
  {
   "cell_type": "markdown",
   "id": "9936c321",
   "metadata": {
    "papermill": {
     "duration": 0.076506,
     "end_time": "2021-07-09T12:52:02.302247",
     "exception": false,
     "start_time": "2021-07-09T12:52:02.225741",
     "status": "completed"
    },
    "tags": []
   },
   "source": [
    "### Top 3 Games by Category and Their 5 star ratings"
   ]
  },
  {
   "cell_type": "code",
   "execution_count": 34,
   "id": "9ff55a2c",
   "metadata": {
    "_kg_hide-input": true,
    "papermill": {
     "duration": 0.243811,
     "end_time": "2021-07-09T12:52:02.620671",
     "exception": false,
     "start_time": "2021-07-09T12:52:02.376860",
     "status": "completed"
    },
    "tags": []
   },
   "outputs": [
    {
     "data": {
      "text/html": [
       "<iframe\n",
       "    scrolling=\"no\"\n",
       "    width=\"100%\"\n",
       "    height=\"545px\"\n",
       "    src=\"iframe_figures/figure_34.html\"\n",
       "    frameborder=\"0\"\n",
       "    allowfullscreen\n",
       "></iframe>\n"
      ]
     },
     "metadata": {},
     "output_type": "display_data"
    }
   ],
   "source": [
    "fig = px.scatter(top_ranked_games, y= 'title', x='5 star ratings', \n",
    "                 hover_data = top_ranked_games[['category','rank']], color='category', \n",
    "                 title = \"Top 3 Games by 5 Star Rankings\")\n",
    "fig.show()"
   ]
  },
  {
   "cell_type": "markdown",
   "id": "fca72a9f",
   "metadata": {
    "papermill": {
     "duration": 0.075083,
     "end_time": "2021-07-09T12:52:02.771340",
     "exception": false,
     "start_time": "2021-07-09T12:52:02.696257",
     "status": "completed"
    },
    "tags": []
   },
   "source": [
    "- Games in the action, casual, strategy,arcade categories also get more 5 star ratings than the games in the educational, music categories."
   ]
  },
  {
   "cell_type": "markdown",
   "id": "fa682d73",
   "metadata": {
    "papermill": {
     "duration": 0.075194,
     "end_time": "2021-07-09T12:52:02.923341",
     "exception": false,
     "start_time": "2021-07-09T12:52:02.848147",
     "status": "completed"
    },
    "tags": []
   },
   "source": [
    "- And Finally see the top 20 games"
   ]
  },
  {
   "cell_type": "markdown",
   "id": "1e6403c1",
   "metadata": {
    "papermill": {
     "duration": 0.078295,
     "end_time": "2021-07-09T12:52:03.079985",
     "exception": false,
     "start_time": "2021-07-09T12:52:03.001690",
     "status": "completed"
    },
    "tags": []
   },
   "source": [
    "### Top 20 Games"
   ]
  },
  {
   "cell_type": "code",
   "execution_count": 35,
   "id": "6184346c",
   "metadata": {
    "_kg_hide-input": true,
    "papermill": {
     "duration": 0.11391,
     "end_time": "2021-07-09T12:52:03.270312",
     "exception": false,
     "start_time": "2021-07-09T12:52:03.156402",
     "status": "completed"
    },
    "tags": []
   },
   "outputs": [
    {
     "data": {
      "text/html": [
       "<div>\n",
       "<style scoped>\n",
       "    .dataframe tbody tr th:only-of-type {\n",
       "        vertical-align: middle;\n",
       "    }\n",
       "\n",
       "    .dataframe tbody tr th {\n",
       "        vertical-align: top;\n",
       "    }\n",
       "\n",
       "    .dataframe thead th {\n",
       "        text-align: right;\n",
       "    }\n",
       "</style>\n",
       "<table border=\"1\" class=\"dataframe\">\n",
       "  <thead>\n",
       "    <tr style=\"text-align: right;\">\n",
       "      <th></th>\n",
       "      <th>rank</th>\n",
       "      <th>title</th>\n",
       "      <th>total ratings</th>\n",
       "      <th>installs_in_million</th>\n",
       "      <th>average rating</th>\n",
       "      <th>growth (30 days)</th>\n",
       "      <th>growth (60 days)</th>\n",
       "      <th>category</th>\n",
       "      <th>5 star ratings</th>\n",
       "      <th>4 star ratings</th>\n",
       "      <th>3 star ratings</th>\n",
       "      <th>2 star ratings</th>\n",
       "      <th>1 star ratings</th>\n",
       "      <th>paid</th>\n",
       "    </tr>\n",
       "  </thead>\n",
       "  <tbody>\n",
       "    <tr>\n",
       "      <th>200</th>\n",
       "      <td>1</td>\n",
       "      <td>Subway Surfers</td>\n",
       "      <td>35665901</td>\n",
       "      <td>1000.0</td>\n",
       "      <td>4</td>\n",
       "      <td>0.5</td>\n",
       "      <td>1.0</td>\n",
       "      <td>GAME ARCADE</td>\n",
       "      <td>27138572</td>\n",
       "      <td>3366600</td>\n",
       "      <td>1622695</td>\n",
       "      <td>814890</td>\n",
       "      <td>2723142</td>\n",
       "      <td>False</td>\n",
       "    </tr>\n",
       "    <tr>\n",
       "      <th>626</th>\n",
       "      <td>1</td>\n",
       "      <td>Candy Crush Saga</td>\n",
       "      <td>31367945</td>\n",
       "      <td>1000.0</td>\n",
       "      <td>4</td>\n",
       "      <td>0.9</td>\n",
       "      <td>1.6</td>\n",
       "      <td>GAME CASUAL</td>\n",
       "      <td>23837448</td>\n",
       "      <td>4176798</td>\n",
       "      <td>1534041</td>\n",
       "      <td>486005</td>\n",
       "      <td>1333650</td>\n",
       "      <td>False</td>\n",
       "    </tr>\n",
       "    <tr>\n",
       "      <th>0</th>\n",
       "      <td>1</td>\n",
       "      <td>Garena Free Fire- World Series</td>\n",
       "      <td>86273129</td>\n",
       "      <td>500.0</td>\n",
       "      <td>4</td>\n",
       "      <td>2.1</td>\n",
       "      <td>6.9</td>\n",
       "      <td>GAME ACTION</td>\n",
       "      <td>63546766</td>\n",
       "      <td>4949507</td>\n",
       "      <td>3158756</td>\n",
       "      <td>2122183</td>\n",
       "      <td>12495915</td>\n",
       "      <td>False</td>\n",
       "    </tr>\n",
       "    <tr>\n",
       "      <th>207</th>\n",
       "      <td>8</td>\n",
       "      <td>Temple Run</td>\n",
       "      <td>4816448</td>\n",
       "      <td>500.0</td>\n",
       "      <td>4</td>\n",
       "      <td>0.7</td>\n",
       "      <td>1.5</td>\n",
       "      <td>GAME ARCADE</td>\n",
       "      <td>3184391</td>\n",
       "      <td>438320</td>\n",
       "      <td>318164</td>\n",
       "      <td>204384</td>\n",
       "      <td>671187</td>\n",
       "      <td>False</td>\n",
       "    </tr>\n",
       "    <tr>\n",
       "      <th>1426</th>\n",
       "      <td>1</td>\n",
       "      <td>Clash of Clans</td>\n",
       "      <td>55766763</td>\n",
       "      <td>500.0</td>\n",
       "      <td>4</td>\n",
       "      <td>0.3</td>\n",
       "      <td>1.0</td>\n",
       "      <td>GAME STRATEGY</td>\n",
       "      <td>43346128</td>\n",
       "      <td>5404966</td>\n",
       "      <td>2276203</td>\n",
       "      <td>971321</td>\n",
       "      <td>3768141</td>\n",
       "      <td>False</td>\n",
       "    </tr>\n",
       "    <tr>\n",
       "      <th>1026</th>\n",
       "      <td>1</td>\n",
       "      <td>Hill Climb Racing</td>\n",
       "      <td>10188038</td>\n",
       "      <td>500.0</td>\n",
       "      <td>4</td>\n",
       "      <td>0.4</td>\n",
       "      <td>0.8</td>\n",
       "      <td>GAME RACING</td>\n",
       "      <td>7148370</td>\n",
       "      <td>982941</td>\n",
       "      <td>607603</td>\n",
       "      <td>338715</td>\n",
       "      <td>1110407</td>\n",
       "      <td>False</td>\n",
       "    </tr>\n",
       "    <tr>\n",
       "      <th>1326</th>\n",
       "      <td>1</td>\n",
       "      <td>8 Ball Pool</td>\n",
       "      <td>21632735</td>\n",
       "      <td>500.0</td>\n",
       "      <td>4</td>\n",
       "      <td>1.2</td>\n",
       "      <td>630.8</td>\n",
       "      <td>GAME SPORTS</td>\n",
       "      <td>16281475</td>\n",
       "      <td>2268294</td>\n",
       "      <td>1017204</td>\n",
       "      <td>425693</td>\n",
       "      <td>1640067</td>\n",
       "      <td>False</td>\n",
       "    </tr>\n",
       "    <tr>\n",
       "      <th>630</th>\n",
       "      <td>5</td>\n",
       "      <td>Pou</td>\n",
       "      <td>11506051</td>\n",
       "      <td>500.0</td>\n",
       "      <td>4</td>\n",
       "      <td>0.2</td>\n",
       "      <td>0.5</td>\n",
       "      <td>GAME CASUAL</td>\n",
       "      <td>8175679</td>\n",
       "      <td>1051014</td>\n",
       "      <td>688712</td>\n",
       "      <td>346244</td>\n",
       "      <td>1244400</td>\n",
       "      <td>False</td>\n",
       "    </tr>\n",
       "    <tr>\n",
       "      <th>628</th>\n",
       "      <td>3</td>\n",
       "      <td>My Talking Angela</td>\n",
       "      <td>13050503</td>\n",
       "      <td>500.0</td>\n",
       "      <td>4</td>\n",
       "      <td>0.6</td>\n",
       "      <td>1.4</td>\n",
       "      <td>GAME CASUAL</td>\n",
       "      <td>9165205</td>\n",
       "      <td>1073761</td>\n",
       "      <td>636763</td>\n",
       "      <td>399662</td>\n",
       "      <td>1775110</td>\n",
       "      <td>False</td>\n",
       "    </tr>\n",
       "    <tr>\n",
       "      <th>1</th>\n",
       "      <td>2</td>\n",
       "      <td>PUBG MOBILE - Traverse</td>\n",
       "      <td>37276732</td>\n",
       "      <td>500.0</td>\n",
       "      <td>4</td>\n",
       "      <td>1.8</td>\n",
       "      <td>3.6</td>\n",
       "      <td>GAME ACTION</td>\n",
       "      <td>28339753</td>\n",
       "      <td>2164478</td>\n",
       "      <td>1253185</td>\n",
       "      <td>809821</td>\n",
       "      <td>4709492</td>\n",
       "      <td>False</td>\n",
       "    </tr>\n",
       "    <tr>\n",
       "      <th>627</th>\n",
       "      <td>2</td>\n",
       "      <td>My Talking Tom</td>\n",
       "      <td>16810315</td>\n",
       "      <td>500.0</td>\n",
       "      <td>4</td>\n",
       "      <td>0.3</td>\n",
       "      <td>0.5</td>\n",
       "      <td>GAME CASUAL</td>\n",
       "      <td>12234051</td>\n",
       "      <td>1514188</td>\n",
       "      <td>851145</td>\n",
       "      <td>465627</td>\n",
       "      <td>1745303</td>\n",
       "      <td>False</td>\n",
       "    </tr>\n",
       "    <tr>\n",
       "      <th>300</th>\n",
       "      <td>1</td>\n",
       "      <td>Ludo King™</td>\n",
       "      <td>7512316</td>\n",
       "      <td>500.0</td>\n",
       "      <td>4</td>\n",
       "      <td>4.0</td>\n",
       "      <td>6.5</td>\n",
       "      <td>GAME BOARD</td>\n",
       "      <td>5291589</td>\n",
       "      <td>773193</td>\n",
       "      <td>369290</td>\n",
       "      <td>204053</td>\n",
       "      <td>874188</td>\n",
       "      <td>False</td>\n",
       "    </tr>\n",
       "    <tr>\n",
       "      <th>7</th>\n",
       "      <td>8</td>\n",
       "      <td>Temple Run 2</td>\n",
       "      <td>9633929</td>\n",
       "      <td>500.0</td>\n",
       "      <td>4</td>\n",
       "      <td>0.3</td>\n",
       "      <td>0.8</td>\n",
       "      <td>GAME ACTION</td>\n",
       "      <td>6579369</td>\n",
       "      <td>991341</td>\n",
       "      <td>614643</td>\n",
       "      <td>349003</td>\n",
       "      <td>1099571</td>\n",
       "      <td>False</td>\n",
       "    </tr>\n",
       "    <tr>\n",
       "      <th>4</th>\n",
       "      <td>5</td>\n",
       "      <td>Sniper 3D: Fun Free Online FPS Shooting Game</td>\n",
       "      <td>14464235</td>\n",
       "      <td>500.0</td>\n",
       "      <td>4</td>\n",
       "      <td>0.8</td>\n",
       "      <td>1.5</td>\n",
       "      <td>GAME ACTION</td>\n",
       "      <td>9827328</td>\n",
       "      <td>2124154</td>\n",
       "      <td>1047741</td>\n",
       "      <td>380670</td>\n",
       "      <td>1084340</td>\n",
       "      <td>False</td>\n",
       "    </tr>\n",
       "    <tr>\n",
       "      <th>1264</th>\n",
       "      <td>39</td>\n",
       "      <td>Truck Simulator 2018 : Europe</td>\n",
       "      <td>758948</td>\n",
       "      <td>100.0</td>\n",
       "      <td>4</td>\n",
       "      <td>2.9</td>\n",
       "      <td>6.0</td>\n",
       "      <td>GAME SIMULATION</td>\n",
       "      <td>514724</td>\n",
       "      <td>70767</td>\n",
       "      <td>45153</td>\n",
       "      <td>28608</td>\n",
       "      <td>99693</td>\n",
       "      <td>False</td>\n",
       "    </tr>\n",
       "    <tr>\n",
       "      <th>1431</th>\n",
       "      <td>6</td>\n",
       "      <td>Castle Clash: Guild Royale</td>\n",
       "      <td>5013543</td>\n",
       "      <td>100.0</td>\n",
       "      <td>4</td>\n",
       "      <td>0.4</td>\n",
       "      <td>0.7</td>\n",
       "      <td>GAME STRATEGY</td>\n",
       "      <td>3490753</td>\n",
       "      <td>444434</td>\n",
       "      <td>253620</td>\n",
       "      <td>123462</td>\n",
       "      <td>701271</td>\n",
       "      <td>False</td>\n",
       "    </tr>\n",
       "    <tr>\n",
       "      <th>403</th>\n",
       "      <td>3</td>\n",
       "      <td>Solitaire</td>\n",
       "      <td>1590733</td>\n",
       "      <td>100.0</td>\n",
       "      <td>4</td>\n",
       "      <td>0.4</td>\n",
       "      <td>0.9</td>\n",
       "      <td>GAME CARD</td>\n",
       "      <td>431463</td>\n",
       "      <td>90350</td>\n",
       "      <td>40065</td>\n",
       "      <td>15998</td>\n",
       "      <td>70189</td>\n",
       "      <td>False</td>\n",
       "    </tr>\n",
       "    <tr>\n",
       "      <th>402</th>\n",
       "      <td>3</td>\n",
       "      <td>Solitaire</td>\n",
       "      <td>1590733</td>\n",
       "      <td>100.0</td>\n",
       "      <td>4</td>\n",
       "      <td>0.4</td>\n",
       "      <td>0.9</td>\n",
       "      <td>GAME CARD</td>\n",
       "      <td>1117298</td>\n",
       "      <td>308402</td>\n",
       "      <td>82191</td>\n",
       "      <td>25750</td>\n",
       "      <td>57090</td>\n",
       "      <td>False</td>\n",
       "    </tr>\n",
       "    <tr>\n",
       "      <th>1237</th>\n",
       "      <td>12</td>\n",
       "      <td>Dragon City Mobile</td>\n",
       "      <td>1421165</td>\n",
       "      <td>100.0</td>\n",
       "      <td>4</td>\n",
       "      <td>0.0</td>\n",
       "      <td>0.0</td>\n",
       "      <td>GAME SIMULATION</td>\n",
       "      <td>1149212</td>\n",
       "      <td>147633</td>\n",
       "      <td>52590</td>\n",
       "      <td>18948</td>\n",
       "      <td>52780</td>\n",
       "      <td>False</td>\n",
       "    </tr>\n",
       "    <tr>\n",
       "      <th>1427</th>\n",
       "      <td>2</td>\n",
       "      <td>Clash Royale</td>\n",
       "      <td>30852360</td>\n",
       "      <td>100.0</td>\n",
       "      <td>4</td>\n",
       "      <td>0.4</td>\n",
       "      <td>0.8</td>\n",
       "      <td>GAME STRATEGY</td>\n",
       "      <td>21009004</td>\n",
       "      <td>3645468</td>\n",
       "      <td>1655906</td>\n",
       "      <td>777067</td>\n",
       "      <td>3764913</td>\n",
       "      <td>False</td>\n",
       "    </tr>\n",
       "  </tbody>\n",
       "</table>\n",
       "</div>"
      ],
      "text/plain": [
       "      rank                                         title  total ratings  \\\n",
       "200      1                                Subway Surfers       35665901   \n",
       "626      1                              Candy Crush Saga       31367945   \n",
       "0        1                Garena Free Fire- World Series       86273129   \n",
       "207      8                                    Temple Run        4816448   \n",
       "1426     1                                Clash of Clans       55766763   \n",
       "1026     1                             Hill Climb Racing       10188038   \n",
       "1326     1                                   8 Ball Pool       21632735   \n",
       "630      5                                           Pou       11506051   \n",
       "628      3                             My Talking Angela       13050503   \n",
       "1        2                        PUBG MOBILE - Traverse       37276732   \n",
       "627      2                                My Talking Tom       16810315   \n",
       "300      1                                    Ludo King™        7512316   \n",
       "7        8                                  Temple Run 2        9633929   \n",
       "4        5  Sniper 3D: Fun Free Online FPS Shooting Game       14464235   \n",
       "1264    39                 Truck Simulator 2018 : Europe         758948   \n",
       "1431     6                    Castle Clash: Guild Royale        5013543   \n",
       "403      3                                     Solitaire        1590733   \n",
       "402      3                                     Solitaire        1590733   \n",
       "1237    12                            Dragon City Mobile        1421165   \n",
       "1427     2                                  Clash Royale       30852360   \n",
       "\n",
       "      installs_in_million  average rating  growth (30 days)  growth (60 days)  \\\n",
       "200                1000.0               4               0.5               1.0   \n",
       "626                1000.0               4               0.9               1.6   \n",
       "0                   500.0               4               2.1               6.9   \n",
       "207                 500.0               4               0.7               1.5   \n",
       "1426                500.0               4               0.3               1.0   \n",
       "1026                500.0               4               0.4               0.8   \n",
       "1326                500.0               4               1.2             630.8   \n",
       "630                 500.0               4               0.2               0.5   \n",
       "628                 500.0               4               0.6               1.4   \n",
       "1                   500.0               4               1.8               3.6   \n",
       "627                 500.0               4               0.3               0.5   \n",
       "300                 500.0               4               4.0               6.5   \n",
       "7                   500.0               4               0.3               0.8   \n",
       "4                   500.0               4               0.8               1.5   \n",
       "1264                100.0               4               2.9               6.0   \n",
       "1431                100.0               4               0.4               0.7   \n",
       "403                 100.0               4               0.4               0.9   \n",
       "402                 100.0               4               0.4               0.9   \n",
       "1237                100.0               4               0.0               0.0   \n",
       "1427                100.0               4               0.4               0.8   \n",
       "\n",
       "             category  5 star ratings  4 star ratings  3 star ratings  \\\n",
       "200       GAME ARCADE        27138572         3366600         1622695   \n",
       "626       GAME CASUAL        23837448         4176798         1534041   \n",
       "0         GAME ACTION        63546766         4949507         3158756   \n",
       "207       GAME ARCADE         3184391          438320          318164   \n",
       "1426    GAME STRATEGY        43346128         5404966         2276203   \n",
       "1026      GAME RACING         7148370          982941          607603   \n",
       "1326      GAME SPORTS        16281475         2268294         1017204   \n",
       "630       GAME CASUAL         8175679         1051014          688712   \n",
       "628       GAME CASUAL         9165205         1073761          636763   \n",
       "1         GAME ACTION        28339753         2164478         1253185   \n",
       "627       GAME CASUAL        12234051         1514188          851145   \n",
       "300        GAME BOARD         5291589          773193          369290   \n",
       "7         GAME ACTION         6579369          991341          614643   \n",
       "4         GAME ACTION         9827328         2124154         1047741   \n",
       "1264  GAME SIMULATION          514724           70767           45153   \n",
       "1431    GAME STRATEGY         3490753          444434          253620   \n",
       "403         GAME CARD          431463           90350           40065   \n",
       "402         GAME CARD         1117298          308402           82191   \n",
       "1237  GAME SIMULATION         1149212          147633           52590   \n",
       "1427    GAME STRATEGY        21009004         3645468         1655906   \n",
       "\n",
       "      2 star ratings  1 star ratings   paid  \n",
       "200           814890         2723142  False  \n",
       "626           486005         1333650  False  \n",
       "0            2122183        12495915  False  \n",
       "207           204384          671187  False  \n",
       "1426          971321         3768141  False  \n",
       "1026          338715         1110407  False  \n",
       "1326          425693         1640067  False  \n",
       "630           346244         1244400  False  \n",
       "628           399662         1775110  False  \n",
       "1             809821         4709492  False  \n",
       "627           465627         1745303  False  \n",
       "300           204053          874188  False  \n",
       "7             349003         1099571  False  \n",
       "4             380670         1084340  False  \n",
       "1264           28608           99693  False  \n",
       "1431          123462          701271  False  \n",
       "403            15998           70189  False  \n",
       "402            25750           57090  False  \n",
       "1237           18948           52780  False  \n",
       "1427          777067         3764913  False  "
      ]
     },
     "execution_count": 35,
     "metadata": {},
     "output_type": "execute_result"
    }
   ],
   "source": [
    "top_20 = df.sort_values(by='installs_in_million', ascending=False).head(20)\n",
    "top_20"
   ]
  },
  {
   "cell_type": "code",
   "execution_count": 36,
   "id": "5cb763d1",
   "metadata": {
    "_kg_hide-input": true,
    "papermill": {
     "duration": 0.202342,
     "end_time": "2021-07-09T12:52:03.549804",
     "exception": false,
     "start_time": "2021-07-09T12:52:03.347462",
     "status": "completed"
    },
    "tags": []
   },
   "outputs": [
    {
     "data": {
      "text/html": [
       "<iframe\n",
       "    scrolling=\"no\"\n",
       "    width=\"100%\"\n",
       "    height=\"545px\"\n",
       "    src=\"iframe_figures/figure_36.html\"\n",
       "    frameborder=\"0\"\n",
       "    allowfullscreen\n",
       "></iframe>\n"
      ]
     },
     "metadata": {},
     "output_type": "display_data"
    }
   ],
   "source": [
    "fig = px.bar(top_20, x= 'title', y='installs_in_million', hover_data = top_20[['5 star ratings']], color='category')\n",
    "fig.update_layout(xaxis={'categoryorder':'total descending'})\n",
    "fig.show()"
   ]
  },
  {
   "cell_type": "markdown",
   "id": "ad59ff19",
   "metadata": {
    "papermill": {
     "duration": 0.076836,
     "end_time": "2021-07-09T12:52:03.704135",
     "exception": false,
     "start_time": "2021-07-09T12:52:03.627299",
     "status": "completed"
    },
    "tags": []
   },
   "source": [
    "- 2 top games have 1 Billion installs.\n",
    "- 12 following games have 500 million installs."
   ]
  },
  {
   "cell_type": "code",
   "execution_count": 37,
   "id": "b523262d",
   "metadata": {
    "_kg_hide-input": true,
    "papermill": {
     "duration": 0.211199,
     "end_time": "2021-07-09T12:52:03.994681",
     "exception": false,
     "start_time": "2021-07-09T12:52:03.783482",
     "status": "completed"
    },
    "tags": []
   },
   "outputs": [
    {
     "data": {
      "text/html": [
       "<iframe\n",
       "    scrolling=\"no\"\n",
       "    width=\"100%\"\n",
       "    height=\"545px\"\n",
       "    src=\"iframe_figures/figure_37.html\"\n",
       "    frameborder=\"0\"\n",
       "    allowfullscreen\n",
       "></iframe>\n"
      ]
     },
     "metadata": {},
     "output_type": "display_data"
    }
   ],
   "source": [
    "fig = px.bar(top_20, x= 'title', y='total ratings', hover_data = top_20[['5 star ratings']], color='category')\n",
    "fig.update_layout(xaxis={'categoryorder':'total descending'})\n",
    "fig.show()"
   ]
  },
  {
   "cell_type": "markdown",
   "id": "1d1d5b1c",
   "metadata": {
    "papermill": {
     "duration": 0.079457,
     "end_time": "2021-07-09T12:52:04.153741",
     "exception": false,
     "start_time": "2021-07-09T12:52:04.074284",
     "status": "completed"
    },
    "tags": []
   },
   "source": [
    "- It is important to see that, even though Candy Crush Saga and Subway Surfers have 1 Billion installs, it does not automatically mean that, they will get the most total number of ratings.\n",
    "- Garena Free Fire-World Series with 500 Million installs, it has also more than 86 million total ratings."
   ]
  },
  {
   "cell_type": "markdown",
   "id": "e58b5315",
   "metadata": {
    "papermill": {
     "duration": 0.078808,
     "end_time": "2021-07-09T12:52:04.311414",
     "exception": false,
     "start_time": "2021-07-09T12:52:04.232606",
     "status": "completed"
    },
    "tags": []
   },
   "source": [
    "- Thanks for the dataset contibutor for this data. I really enjoyed working on it."
   ]
  },
  {
   "cell_type": "markdown",
   "id": "4c65d04e",
   "metadata": {
    "papermill": {
     "duration": 0.077347,
     "end_time": "2021-07-09T12:52:04.466967",
     "exception": false,
     "start_time": "2021-07-09T12:52:04.389620",
     "status": "completed"
    },
    "tags": []
   },
   "source": [
    "- It was a quite pleasure to share with you this detailed, beginner friendly EDA. Thanks for your time.\n",
    "\n",
    "- All the best "
   ]
  }
 ],
 "metadata": {
  "kernelspec": {
   "display_name": "Python 3",
   "language": "python",
   "name": "python3"
  },
  "language_info": {
   "codemirror_mode": {
    "name": "ipython",
    "version": 3
   },
   "file_extension": ".py",
   "mimetype": "text/x-python",
   "name": "python",
   "nbconvert_exporter": "python",
   "pygments_lexer": "ipython3",
   "version": "3.8.10"
  },
  "papermill": {
   "default_parameters": {},
   "duration": 27.920631,
   "end_time": "2021-07-09T12:52:06.279365",
   "environment_variables": {},
   "exception": null,
   "input_path": "__notebook__.ipynb",
   "output_path": "__notebook__.ipynb",
   "parameters": {},
   "start_time": "2021-07-09T12:51:38.358734",
   "version": "2.3.3"
  }
 },
 "nbformat": 4,
 "nbformat_minor": 5
}
