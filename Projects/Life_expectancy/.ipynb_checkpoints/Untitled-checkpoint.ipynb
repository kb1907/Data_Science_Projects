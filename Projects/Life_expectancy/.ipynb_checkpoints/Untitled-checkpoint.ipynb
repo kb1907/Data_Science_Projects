{
 "cells": [
  {
   "cell_type": "markdown",
   "id": "41d70047-b2a2-4c69-a5cc-2aacfd0c2d6e",
   "metadata": {
    "papermill": {
     "duration": 0.042275,
     "end_time": "2021-07-10T21:54:11.095030",
     "exception": false,
     "start_time": "2021-07-10T21:54:11.052755",
     "status": "completed"
    },
    "tags": []
   },
   "source": [
    "- In this study, we are going to make Exploratory Data Analysis (EDA) with the Life Expectancy dataset.\n",
    "- Study aims to be beginner friendly and give as much as possible explanation for each step on the way.\n",
    "- Study's dataset has 3253 instances along with country name, life expectancy, and year.\n",
    "- Dataset includes 1800-2016 life expectancy info."
   ]
  },
  {
   "cell_type": "markdown",
   "id": "df1b69e2-5e48-4956-a8a0-5152dd986a2d",
   "metadata": {
    "papermill": {
     "duration": 0.02962,
     "end_time": "2021-07-06T15:37:56.402462",
     "exception": false,
     "start_time": "2021-07-06T15:37:56.372842",
     "status": "completed"
    },
    "tags": []
   },
   "source": [
    "- First thing first, lets' import the related libraries for further analysis"
   ]
  },
  {
   "cell_type": "code",
   "execution_count": 1,
   "id": "6a7cf955-8069-4d09-8c82-67f55a778231",
   "metadata": {
    "_kg_hide-input": true,
    "papermill": {
     "duration": 3.468435,
     "end_time": "2021-07-06T15:37:59.900455",
     "exception": false,
     "start_time": "2021-07-06T15:37:56.432020",
     "status": "completed"
    },
    "tags": []
   },
   "outputs": [],
   "source": [
    "import pandas as pd\n",
    "import numpy as np\n",
    "\n",
    "import matplotlib.pyplot as plt \n",
    "import seaborn as sns \n",
    "import matplotlib as mpl\n",
    "\n",
    "import plotly.io as pio\n",
    "pio.renderers.default = 'iframe'\n",
    "\n",
    "\n",
    "import plotly \n",
    "import plotly.express as px\n",
    "import plotly.graph_objs as go\n",
    "import plotly.offline as py\n",
    "from plotly.offline import iplot\n",
    "from plotly.subplots import make_subplots\n",
    "import plotly.figure_factory as ff"
   ]
  },
  {
   "cell_type": "code",
   "execution_count": 2,
   "id": "c91a5155-40e7-4658-9793-dc5fedeb9a3e",
   "metadata": {},
   "outputs": [
    {
     "data": {
      "text/html": [
       "<div>\n",
       "<style scoped>\n",
       "    .dataframe tbody tr th:only-of-type {\n",
       "        vertical-align: middle;\n",
       "    }\n",
       "\n",
       "    .dataframe tbody tr th {\n",
       "        vertical-align: top;\n",
       "    }\n",
       "\n",
       "    .dataframe thead th {\n",
       "        text-align: right;\n",
       "    }\n",
       "</style>\n",
       "<table border=\"1\" class=\"dataframe\">\n",
       "  <thead>\n",
       "    <tr style=\"text-align: right;\">\n",
       "      <th></th>\n",
       "      <th>Entity</th>\n",
       "      <th>Year</th>\n",
       "      <th>Life expectancy</th>\n",
       "    </tr>\n",
       "  </thead>\n",
       "  <tbody>\n",
       "    <tr>\n",
       "      <th>0</th>\n",
       "      <td>Australia</td>\n",
       "      <td>1802</td>\n",
       "      <td>34.049999</td>\n",
       "    </tr>\n",
       "    <tr>\n",
       "      <th>1</th>\n",
       "      <td>Australia</td>\n",
       "      <td>1803</td>\n",
       "      <td>34.049999</td>\n",
       "    </tr>\n",
       "    <tr>\n",
       "      <th>2</th>\n",
       "      <td>Australia</td>\n",
       "      <td>1804</td>\n",
       "      <td>34.049999</td>\n",
       "    </tr>\n",
       "    <tr>\n",
       "      <th>3</th>\n",
       "      <td>Australia</td>\n",
       "      <td>1805</td>\n",
       "      <td>34.049999</td>\n",
       "    </tr>\n",
       "    <tr>\n",
       "      <th>4</th>\n",
       "      <td>Australia</td>\n",
       "      <td>1806</td>\n",
       "      <td>34.049999</td>\n",
       "    </tr>\n",
       "  </tbody>\n",
       "</table>\n",
       "</div>"
      ],
      "text/plain": [
       "      Entity  Year  Life expectancy\n",
       "0  Australia  1802        34.049999\n",
       "1  Australia  1803        34.049999\n",
       "2  Australia  1804        34.049999\n",
       "3  Australia  1805        34.049999\n",
       "4  Australia  1806        34.049999"
      ]
     },
     "execution_count": 2,
     "metadata": {},
     "output_type": "execute_result"
    }
   ],
   "source": [
    "df = pd.read_csv('Life expectancy.csv')\n",
    "df.head()"
   ]
  },
  {
   "cell_type": "code",
   "execution_count": 3,
   "id": "2e5b7eae-f711-446c-b5ea-89a84deb8829",
   "metadata": {},
   "outputs": [
    {
     "data": {
      "text/plain": [
       "(3253, 3)"
      ]
     },
     "execution_count": 3,
     "metadata": {},
     "output_type": "execute_result"
    }
   ],
   "source": [
    "df.shape"
   ]
  },
  {
   "cell_type": "code",
   "execution_count": 4,
   "id": "79065695-f371-4ac7-92e1-6aa864715aad",
   "metadata": {},
   "outputs": [
    {
     "data": {
      "text/plain": [
       "Entity             0\n",
       "Year               0\n",
       "Life expectancy    0\n",
       "dtype: int64"
      ]
     },
     "execution_count": 4,
     "metadata": {},
     "output_type": "execute_result"
    }
   ],
   "source": [
    "df.isnull().sum()"
   ]
  },
  {
   "cell_type": "code",
   "execution_count": 5,
   "id": "725ce4c2-603a-41c4-aee5-1d682a007691",
   "metadata": {},
   "outputs": [
    {
     "data": {
      "text/plain": [
       "array([1802, 1803, 1804, 1805, 1806, 1807, 1808, 1809, 1810, 1811, 1812,\n",
       "       1813, 1814, 1815, 1816, 1817, 1818, 1819, 1820, 1821, 1822, 1823,\n",
       "       1824, 1825, 1826, 1827, 1828, 1829, 1830, 1831, 1832, 1833, 1834,\n",
       "       1835, 1836, 1837, 1838, 1839, 1840, 1841, 1842, 1843, 1844, 1845,\n",
       "       1846, 1847, 1848, 1849, 1850, 1851, 1852, 1853, 1854, 1855, 1856,\n",
       "       1857, 1858, 1859, 1860, 1861, 1862, 1863, 1864, 1865, 1866, 1867,\n",
       "       1868, 1869, 1870, 1871, 1872, 1873, 1874, 1875, 1876, 1877, 1878,\n",
       "       1879, 1880, 1881, 1882, 1883, 1884, 1885, 1886, 1887, 1888, 1889,\n",
       "       1890, 1891, 1892, 1893, 1894, 1895, 1896, 1897, 1898, 1899, 1900,\n",
       "       1901, 1902, 1903, 1904, 1905, 1906, 1907, 1908, 1909, 1910, 1911,\n",
       "       1912, 1913, 1914, 1915, 1916, 1917, 1918, 1919, 1920, 1921, 1922,\n",
       "       1923, 1924, 1925, 1926, 1927, 1928, 1929, 1930, 1931, 1932, 1933,\n",
       "       1934, 1935, 1936, 1937, 1938, 1939, 1940, 1941, 1942, 1943, 1944,\n",
       "       1945, 1946, 1947, 1948, 1949, 1950, 1951, 1952, 1953, 1954, 1955,\n",
       "       1956, 1957, 1958, 1959, 1960, 1961, 1962, 1963, 1964, 1965, 1966,\n",
       "       1967, 1968, 1969, 1970, 1971, 1972, 1973, 1974, 1975, 1976, 1977,\n",
       "       1978, 1979, 1980, 1981, 1982, 1983, 1984, 1985, 1986, 1987, 1988,\n",
       "       1989, 1990, 1991, 1992, 1993, 1994, 1995, 1996, 1997, 1998, 1999,\n",
       "       2000, 2001, 2002, 2003, 2004, 2005, 2006, 2007, 2008, 2009, 2010,\n",
       "       2011, 2012, 2013, 2014, 2015, 2016, 1800, 1801])"
      ]
     },
     "execution_count": 5,
     "metadata": {},
     "output_type": "execute_result"
    }
   ],
   "source": [
    "df['Year'].unique()"
   ]
  },
  {
   "cell_type": "markdown",
   "id": "06f92095-4634-4d7e-82d1-555155cb41e9",
   "metadata": {},
   "source": [
    "- We have a data between 1800-2016."
   ]
  },
  {
   "cell_type": "code",
   "execution_count": 8,
   "id": "1c8fc75c-a408-44ae-b940-ead496809ddc",
   "metadata": {},
   "outputs": [
    {
     "data": {
      "text/plain": [
       "array(['Australia', 'Brazil', 'Canada', 'China', 'France', 'Germany',\n",
       "       'India', 'Italy', 'Japan', 'Mexico', 'Russia', 'Spain',\n",
       "       'Switzerland', 'United Kingdom', 'United States'], dtype=object)"
      ]
     },
     "execution_count": 8,
     "metadata": {},
     "output_type": "execute_result"
    }
   ],
   "source": [
    "df['Entity'].unique()"
   ]
  },
  {
   "cell_type": "markdown",
   "id": "99c0d808-91b4-4cde-a92d-c3acec52e58a",
   "metadata": {},
   "source": [
    "- Also we have 15 countries in the dataset."
   ]
  },
  {
   "cell_type": "code",
   "execution_count": 10,
   "id": "6f8a6257-b612-4f45-a31e-2763391efe87",
   "metadata": {},
   "outputs": [
    {
     "name": "stdout",
     "output_type": "stream",
     "text": [
      "<class 'pandas.core.frame.DataFrame'>\n",
      "RangeIndex: 3253 entries, 0 to 3252\n",
      "Data columns (total 3 columns):\n",
      " #   Column           Non-Null Count  Dtype  \n",
      "---  ------           --------------  -----  \n",
      " 0   Entity           3253 non-null   object \n",
      " 1   Year             3253 non-null   int64  \n",
      " 2   Life expectancy  3253 non-null   float64\n",
      "dtypes: float64(1), int64(1), object(1)\n",
      "memory usage: 76.4+ KB\n"
     ]
    }
   ],
   "source": [
    "df.info()"
   ]
  },
  {
   "cell_type": "code",
   "execution_count": null,
   "id": "9b937fe6-6fe4-4ce9-999d-ad702d14e7d3",
   "metadata": {},
   "outputs": [],
   "source": [
    "- Everything seems quite OK."
   ]
  },
  {
   "cell_type": "markdown",
   "id": "96965e8c-d218-4bac-a225-706128b594ec",
   "metadata": {},
   "source": [
    "- Let's move on to the analysis part."
   ]
  },
  {
   "cell_type": "markdown",
   "id": "7d39be19-d595-45b4-9a1e-bcee57ef9dd4",
   "metadata": {
    "papermill": {
     "duration": 0.057562,
     "end_time": "2021-07-09T20:50:32.195253",
     "exception": false,
     "start_time": "2021-07-09T20:50:32.137691",
     "status": "completed"
    },
    "tags": []
   },
   "source": [
    "### Analysis Part"
   ]
  },
  {
   "cell_type": "markdown",
   "id": "a31d913c-1f94-441e-8180-026cb2823003",
   "metadata": {},
   "source": [
    "#### **Life Expectancy**"
   ]
  },
  {
   "cell_type": "code",
   "execution_count": 11,
   "id": "625a3f61-2769-4b69-9c72-0616ccc33d77",
   "metadata": {},
   "outputs": [
    {
     "data": {
      "text/plain": [
       "count    3253.000000\n",
       "mean       48.680380\n",
       "std        17.965669\n",
       "min         8.108836\n",
       "25%        32.000000\n",
       "50%        41.880001\n",
       "75%        66.820000\n",
       "max        83.940002\n",
       "Name: Life expectancy, dtype: float64"
      ]
     },
     "execution_count": 11,
     "metadata": {},
     "output_type": "execute_result"
    }
   ],
   "source": [
    "df['Life expectancy'].describe()"
   ]
  },
  {
   "cell_type": "markdown",
   "id": "dace2fe0-7c9b-4658-940c-00a52e831110",
   "metadata": {},
   "source": [
    "- Quite expected.\n",
    "- We have 216 years of data on life expectancy from different continents and it is very normal to see skewed distribution.\n",
    "- Based on the descriptive info, we can expect highly right skewed data.\n",
    "- Let's see it"
   ]
  },
  {
   "cell_type": "code",
   "execution_count": 12,
   "id": "bda9a07f-368b-4e69-8508-85573ff2b27b",
   "metadata": {},
   "outputs": [
    {
     "data": {
      "text/html": [
       "<iframe\n",
       "    scrolling=\"no\"\n",
       "    width=\"100%\"\n",
       "    height=\"545px\"\n",
       "    src=\"iframe_figures/figure_12.html\"\n",
       "    frameborder=\"0\"\n",
       "    allowfullscreen\n",
       "></iframe>\n"
      ]
     },
     "metadata": {},
     "output_type": "display_data"
    }
   ],
   "source": [
    "fig = px.histogram(df, x= 'Life expectancy', title='Life Expectancy', marginal=\"box\", hover_data = df[['Entity','Year']])\n",
    "fig.show()"
   ]
  },
  {
   "cell_type": "markdown",
   "id": "68c7be86-ea99-4c0c-b881-d530409a909f",
   "metadata": {},
   "source": [
    "- As we expected, even though median score is almost 42 years, distribution density increases at around 50 years.\n",
    "- And we have a quite a lot of records bigger than median score of life expectancy."
   ]
  },
  {
   "cell_type": "markdown",
   "id": "c22fd2d2-7164-4a6d-a942-f56fc41752eb",
   "metadata": {},
   "source": [
    "### Life Expectancy By Year"
   ]
  },
  {
   "cell_type": "code",
   "execution_count": 16,
   "id": "79fd5021-4464-42af-9ce4-796d8f0e0852",
   "metadata": {},
   "outputs": [
    {
     "data": {
      "text/html": [
       "<iframe\n",
       "    scrolling=\"no\"\n",
       "    width=\"100%\"\n",
       "    height=\"545px\"\n",
       "    src=\"iframe_figures/figure_16.html\"\n",
       "    frameborder=\"0\"\n",
       "    allowfullscreen\n",
       "></iframe>\n"
      ]
     },
     "metadata": {},
     "output_type": "display_data"
    }
   ],
   "source": [
    "px.scatter(df, x=\"Year\", y=\"Life expectancy\", color='Entity')"
   ]
  },
  {
   "cell_type": "markdown",
   "id": "ee8c65d8-77db-448c-ac6f-47f6e719ee5d",
   "metadata": {},
   "source": [
    "- Quite a lot ofinformation in this scatter plot.\n",
    "\n",
    "- After World War 2, we can see significant increase all over the counties in the dataset.\n",
    "\n",
    "- Let's get closer look into countries by continents.\n"
   ]
  },
  {
   "cell_type": "markdown",
   "id": "27d75039-5084-429f-bd0c-c50cf0edc9d9",
   "metadata": {},
   "source": [
    "### **Europe**"
   ]
  },
  {
   "cell_type": "code",
   "execution_count": 46,
   "id": "99908b4d-18ef-4e9c-be0b-bbfdd4f3d633",
   "metadata": {},
   "outputs": [
    {
     "data": {
      "text/plain": [
       "count    1302.000000\n",
       "mean       52.370963\n",
       "std        17.403136\n",
       "min        25.620001\n",
       "25%        38.369999\n",
       "50%        46.310000\n",
       "75%        70.629736\n",
       "max        83.180000\n",
       "Name: Life expectancy, dtype: float64"
      ]
     },
     "execution_count": 46,
     "metadata": {},
     "output_type": "execute_result"
    }
   ],
   "source": [
    "df_Europe = df[df['Entity'].isin(['France', 'Germany','Italy','Spain','Switzerland', 'United Kingdom'])].copy()\n",
    "df_Europe[\"Life expectancy\"].describe()"
   ]
  },
  {
   "cell_type": "markdown",
   "id": "450117a0-1e41-45d6-a92b-84c12c464daf",
   "metadata": {},
   "source": [
    "#### Life Expectancy By Year in Europe"
   ]
  },
  {
   "cell_type": "code",
   "execution_count": 21,
   "id": "ee4a0e39-2229-4e40-8fa4-043888d8ab8e",
   "metadata": {},
   "outputs": [
    {
     "data": {
      "text/html": [
       "<iframe\n",
       "    scrolling=\"no\"\n",
       "    width=\"100%\"\n",
       "    height=\"545px\"\n",
       "    src=\"iframe_figures/figure_21.html\"\n",
       "    frameborder=\"0\"\n",
       "    allowfullscreen\n",
       "></iframe>\n"
      ]
     },
     "metadata": {},
     "output_type": "display_data"
    }
   ],
   "source": [
    "px.scatter(df_Europe, x=\"Year\", y=\"Life expectancy\", color='Entity')"
   ]
  },
  {
   "cell_type": "markdown",
   "id": "74e3914c-78e9-498c-8fed-95925de3ffaa",
   "metadata": {},
   "source": [
    "- Ok it is much more clear now that, in Europe, during the World War 1 and World War 2, 'life expectancy' was at the lowest points.\n",
    "- After World War 2, life expectancy increases constantly.\n",
    "- Let's get closer look at the three countries' info from the above plot."
   ]
  },
  {
   "cell_type": "markdown",
   "id": "ba823188-f060-43e1-beda-eb02d4716e42",
   "metadata": {},
   "source": [
    "#### **Germany**"
   ]
  },
  {
   "cell_type": "code",
   "execution_count": 25,
   "id": "5bd27e38-f881-4392-aa08-99df5d2f46e0",
   "metadata": {},
   "outputs": [
    {
     "data": {
      "text/html": [
       "<iframe\n",
       "    scrolling=\"no\"\n",
       "    width=\"100%\"\n",
       "    height=\"545px\"\n",
       "    src=\"iframe_figures/figure_25.html\"\n",
       "    frameborder=\"0\"\n",
       "    allowfullscreen\n",
       "></iframe>\n"
      ]
     },
     "metadata": {},
     "output_type": "display_data"
    }
   ],
   "source": [
    "germany = df_Europe[df_Europe['Entity']=='Germany'].copy()\n",
    "\n",
    "px.scatter(germany, x=\"Year\", y=\"Life expectancy\", color='Entity')"
   ]
  },
  {
   "cell_type": "markdown",
   "id": "5b8fa8c4-c619-41b2-a974-75f4b9860f0b",
   "metadata": {},
   "source": [
    "- During the World War 1:\n",
    "   - **Germany**:\n",
    "     - Life expectancy at \n",
    "          - 1913 was 50.13, \n",
    "          - 1914 was 46.17, \n",
    "          - 1915 was 40.15, \n",
    "          - 1916 was 39.98, \n",
    "          - 1917 was 40.08 \n",
    "          - and at the end of the world war 1 at 1918 was **32.93**\n",
    "     \n",
    "- During the World War 2:\n",
    "    - **Germany**:\n",
    "        - Life expectancy at\n",
    "           - 1939 was 61, \n",
    "           - 1940  was 60.65, \n",
    "           - 1941 was 59, \n",
    "           - 1942 was 55, \n",
    "           - 1943 was 49.7, \n",
    "           - 1944 was **37**, \n",
    "           - at the end of the World War 2 at 1945 was **29**"
   ]
  },
  {
   "cell_type": "markdown",
   "id": "b682a673-b898-4c3e-9369-4d9dedf0ac48",
   "metadata": {},
   "source": [
    "#### **France**"
   ]
  },
  {
   "cell_type": "code",
   "execution_count": 26,
   "id": "1f4ff6a7-8008-4fc7-a609-c68c34643c44",
   "metadata": {},
   "outputs": [
    {
     "data": {
      "text/html": [
       "<iframe\n",
       "    scrolling=\"no\"\n",
       "    width=\"100%\"\n",
       "    height=\"545px\"\n",
       "    src=\"iframe_figures/figure_26.html\"\n",
       "    frameborder=\"0\"\n",
       "    allowfullscreen\n",
       "></iframe>\n"
      ]
     },
     "metadata": {},
     "output_type": "display_data"
    }
   ],
   "source": [
    "france = df_Europe[df_Europe['Entity']=='France'].copy()\n",
    "\n",
    "px.scatter(france, x=\"Year\", y=\"Life expectancy\", color='Entity')"
   ]
  },
  {
   "cell_type": "markdown",
   "id": "da5af6c3-dcf2-4898-97ca-62942c666e60",
   "metadata": {},
   "source": [
    "- During the World War 1:\n",
    "   - **France**:\n",
    "     - Life expectancy qt \n",
    "          - 1913 was 51.35, \n",
    "          - 1914 was 37.85, \n",
    "          - 1915 was **35.63**, \n",
    "          - 1916 was 39.81, \n",
    "          - 1917 was 42.06 \n",
    "          - and at the end of the world war 1 at 1918 was **34.34**\n",
    "     \n",
    "- During the World War 2:\n",
    "    - **France**:\n",
    "        - Life expectancy at\n",
    "           - 1939 was 59.62, \n",
    "           - 1940  was **49.45**, \n",
    "           - 1941 was 57.67, \n",
    "           - 1942 was 57.44, \n",
    "           - 1943 was 53.33, \n",
    "           - 1944 was **47.19**, \n",
    "           - 1945 was 54.96\n",
    "     "
   ]
  },
  {
   "cell_type": "markdown",
   "id": "3de19a70-4cee-4f44-92a0-5789268d711a",
   "metadata": {},
   "source": [
    "#### **Italy**"
   ]
  },
  {
   "cell_type": "code",
   "execution_count": 27,
   "id": "98bddbfa-fdd4-44dd-858c-408faf7ce3c2",
   "metadata": {},
   "outputs": [
    {
     "data": {
      "text/html": [
       "<iframe\n",
       "    scrolling=\"no\"\n",
       "    width=\"100%\"\n",
       "    height=\"545px\"\n",
       "    src=\"iframe_figures/figure_27.html\"\n",
       "    frameborder=\"0\"\n",
       "    allowfullscreen\n",
       "></iframe>\n"
      ]
     },
     "metadata": {},
     "output_type": "display_data"
    }
   ],
   "source": [
    "italy = df_Europe[df_Europe['Entity']=='Italy'].copy()\n",
    "\n",
    "px.scatter(italy, x=\"Year\", y=\"Life expectancy\", color='Entity')"
   ]
  },
  {
   "cell_type": "markdown",
   "id": "c6d29ba9-68c6-47c9-82e6-baa7c40b00b7",
   "metadata": {},
   "source": [
    "- During the World War 1:\n",
    "   - **Italy**:\n",
    "     - Life expectancy at \n",
    "          - 1913 was 48.46, \n",
    "          - 1914 was 48.89, \n",
    "          - 1915 was 42.34, \n",
    "          - 1916 was 39.27, \n",
    "          - 1917 was 37.69 \n",
    "          - and at the end of the world war 1 at 1918 was **25.62**\n",
    "     \n",
    "- During the World War 2:\n",
    "    - **Italy**:\n",
    "        - Life expectancy at \n",
    "           - 1939 was 57.64, \n",
    "           - 1940  was 56.95, \n",
    "           - 1941 was 54.62, \n",
    "           - 1942 was 52.45, \n",
    "           - 1943 was **49.19**, \n",
    "           - 1944 was 52.34, \n",
    "           - at the end of the World War 2 at 1945 was 54.78\n",
    "      "
   ]
  },
  {
   "cell_type": "markdown",
   "id": "a0248c64-33bf-4cdb-a8d3-597bd07eeee7",
   "metadata": {},
   "source": [
    "### **Asia**"
   ]
  },
  {
   "cell_type": "code",
   "execution_count": 47,
   "id": "e891feb8-ca37-41de-8b42-0628c7df93b1",
   "metadata": {},
   "outputs": [
    {
     "data": {
      "text/plain": [
       "count    868.000000\n",
       "mean      42.021026\n",
       "std       17.362311\n",
       "min        8.108836\n",
       "25%       29.573458\n",
       "50%       35.971498\n",
       "75%       56.942999\n",
       "max       83.940002\n",
       "Name: Life expectancy, dtype: float64"
      ]
     },
     "execution_count": 47,
     "metadata": {},
     "output_type": "execute_result"
    }
   ],
   "source": [
    "df_Asia = df[df['Entity'].isin(['China', 'India', 'Japan','Russia'])].copy()\n",
    "df_Asia[\"Life expectancy\"].describe()"
   ]
  },
  {
   "cell_type": "markdown",
   "id": "77ea544d-fae5-4cb5-b7b0-b9f2aedc75c7",
   "metadata": {},
   "source": [
    "#### Life Expectancy By Year in Asia"
   ]
  },
  {
   "cell_type": "code",
   "execution_count": 35,
   "id": "43c283a6-897e-4d8d-95e6-3fbb9c409587",
   "metadata": {},
   "outputs": [
    {
     "data": {
      "text/html": [
       "<iframe\n",
       "    scrolling=\"no\"\n",
       "    width=\"100%\"\n",
       "    height=\"545px\"\n",
       "    src=\"iframe_figures/figure_35.html\"\n",
       "    frameborder=\"0\"\n",
       "    allowfullscreen\n",
       "></iframe>\n"
      ]
     },
     "metadata": {},
     "output_type": "display_data"
    }
   ],
   "source": [
    "px.scatter(df_Asia, x=\"Year\", y=\"Life expectancy\", color='Entity')"
   ]
  },
  {
   "cell_type": "markdown",
   "id": "dde7a369-453f-4935-bb2c-651079988612",
   "metadata": {},
   "source": [
    "- Life expectancy till World War 2, time to time significantly differs among the countries in Asia sample.\n",
    "- For example World War 1, except 1918, make no changes in the life expectancy in **Japan** and life expectancy continued to increase till World War 2.\n",
    "- For **Russia**, it is quite complicated. Especially between 1867 and 1946, life expectancy is quite inconsistent. \n",
    "- On the other hand, for **India**, World War 2 makes a very slight change compare to other countries.\n",
    "- **China** has its own story. Between 1850-1866, between 1875-1882, betwwen 1926-1930, during the World War 2 and between 1958-1963 has quite significant cahnges can be observed in the life expectancy.\n",
    "\n",
    "- Let's see all of them in the plots."
   ]
  },
  {
   "cell_type": "markdown",
   "id": "561d1682-d42a-4968-9386-baef790e5ade",
   "metadata": {},
   "source": [
    "#### **China**"
   ]
  },
  {
   "cell_type": "code",
   "execution_count": 36,
   "id": "4b77138a-9f80-4771-9450-1c0b679b48f5",
   "metadata": {
    "tags": []
   },
   "outputs": [
    {
     "data": {
      "text/html": [
       "<iframe\n",
       "    scrolling=\"no\"\n",
       "    width=\"100%\"\n",
       "    height=\"545px\"\n",
       "    src=\"iframe_figures/figure_36.html\"\n",
       "    frameborder=\"0\"\n",
       "    allowfullscreen\n",
       "></iframe>\n"
      ]
     },
     "metadata": {},
     "output_type": "display_data"
    }
   ],
   "source": [
    "china = df_Asia[df_Asia['Entity']=='China'].copy()\n",
    "\n",
    "px.scatter(china, x=\"Year\", y=\"Life expectancy\", color='Entity')"
   ]
  },
  {
   "cell_type": "markdown",
   "id": "9805aab7-7da3-436c-ab53-e612cfb52db6",
   "metadata": {},
   "source": [
    "- Lowest life expectancy at 1918 was **22**"
   ]
  },
  {
   "cell_type": "markdown",
   "id": "54f2c4ef-2c42-43d5-8cbf-c627341cbb89",
   "metadata": {},
   "source": [
    "#### **India**"
   ]
  },
  {
   "cell_type": "code",
   "execution_count": 37,
   "id": "5b57c184-a2ae-4288-b95b-190bbb9a651c",
   "metadata": {},
   "outputs": [
    {
     "data": {
      "text/html": [
       "<iframe\n",
       "    scrolling=\"no\"\n",
       "    width=\"100%\"\n",
       "    height=\"545px\"\n",
       "    src=\"iframe_figures/figure_37.html\"\n",
       "    frameborder=\"0\"\n",
       "    allowfullscreen\n",
       "></iframe>\n"
      ]
     },
     "metadata": {},
     "output_type": "display_data"
    }
   ],
   "source": [
    "india = df_Asia[df_Asia['Entity']=='India'].copy()\n",
    "\n",
    "px.scatter(india, x=\"Year\", y=\"Life expectancy\", color='Entity')"
   ]
  },
  {
   "cell_type": "markdown",
   "id": "f4eb7fd5-1bbc-4e31-8606-0bcd4e078ecc",
   "metadata": {},
   "source": [
    "- Lowest life expectancy at 1918 was **8**.\n",
    "- That's quite interesting number to check with other resources."
   ]
  },
  {
   "cell_type": "markdown",
   "id": "dec9c666-fecc-456b-84ce-67a54a8d42c5",
   "metadata": {},
   "source": [
    "#### **Japan**"
   ]
  },
  {
   "cell_type": "code",
   "execution_count": 38,
   "id": "99b1cb3d-b453-4661-bd92-e6c35dad9d4f",
   "metadata": {},
   "outputs": [
    {
     "data": {
      "text/html": [
       "<iframe\n",
       "    scrolling=\"no\"\n",
       "    width=\"100%\"\n",
       "    height=\"545px\"\n",
       "    src=\"iframe_figures/figure_38.html\"\n",
       "    frameborder=\"0\"\n",
       "    allowfullscreen\n",
       "></iframe>\n"
      ]
     },
     "metadata": {},
     "output_type": "display_data"
    }
   ],
   "source": [
    "japan = df_Asia[df_Asia['Entity']=='Japan'].copy()\n",
    "\n",
    "px.scatter(japan, x=\"Year\", y=\"Life expectancy\", color='Entity')"
   ]
  },
  {
   "cell_type": "markdown",
   "id": "9b4e39e9-0fb2-49ed-ad53-e25db8051bdb",
   "metadata": {},
   "source": [
    "- Lowest life expectancy at 1945 was **30.5**"
   ]
  },
  {
   "cell_type": "markdown",
   "id": "361fe509-1a4c-4d51-a386-47d1c4f6265e",
   "metadata": {},
   "source": [
    "#### **Russia**"
   ]
  },
  {
   "cell_type": "code",
   "execution_count": 39,
   "id": "dc5012a8-e0ae-4937-bba4-b27498d1b638",
   "metadata": {},
   "outputs": [
    {
     "data": {
      "text/html": [
       "<iframe\n",
       "    scrolling=\"no\"\n",
       "    width=\"100%\"\n",
       "    height=\"545px\"\n",
       "    src=\"iframe_figures/figure_39.html\"\n",
       "    frameborder=\"0\"\n",
       "    allowfullscreen\n",
       "></iframe>\n"
      ]
     },
     "metadata": {},
     "output_type": "display_data"
    }
   ],
   "source": [
    "russia = df_Asia[df_Asia['Entity']=='Russia'].copy()\n",
    "\n",
    "px.scatter(russia, x=\"Year\", y=\"Life expectancy\", color='Entity')"
   ]
  },
  {
   "cell_type": "markdown",
   "id": "7fa0b3e6-e4b3-4842-bc52-21bf992ac2d6",
   "metadata": {},
   "source": [
    "- Lowest life expectancy at 1943 was **16**"
   ]
  },
  {
   "cell_type": "markdown",
   "id": "0aee291c-77fb-4fbb-90f6-642f4b0f6914",
   "metadata": {},
   "source": [
    "### **America & Australia**"
   ]
  },
  {
   "cell_type": "code",
   "execution_count": 50,
   "id": "96525f2b-74e9-4649-b969-96bcc159b056",
   "metadata": {},
   "outputs": [
    {
     "data": {
      "text/plain": [
       "count    866.000000\n",
       "mean      51.772170\n",
       "std       16.803706\n",
       "min       26.978191\n",
       "25%       36.654560\n",
       "50%       46.924160\n",
       "75%       69.095001\n",
       "max       82.580002\n",
       "Name: Life expectancy, dtype: float64"
      ]
     },
     "execution_count": 50,
     "metadata": {},
     "output_type": "execute_result"
    }
   ],
   "source": [
    "df_America_Australia = df[df['Entity'].isin(['Australia', 'Brazil', 'Canada', 'United States'])].copy()\n",
    "df_America_Australia[\"Life expectancy\"].describe()"
   ]
  },
  {
   "cell_type": "code",
   "execution_count": 41,
   "id": "cf4633a8-6ea5-4699-8ffa-761ee618d5cd",
   "metadata": {},
   "outputs": [
    {
     "data": {
      "text/html": [
       "<iframe\n",
       "    scrolling=\"no\"\n",
       "    width=\"100%\"\n",
       "    height=\"545px\"\n",
       "    src=\"iframe_figures/figure_41.html\"\n",
       "    frameborder=\"0\"\n",
       "    allowfullscreen\n",
       "></iframe>\n"
      ]
     },
     "metadata": {},
     "output_type": "display_data"
    }
   ],
   "source": [
    "px.scatter(df_America_Australia, x=\"Year\", y=\"Life expectancy\", color='Entity')"
   ]
  },
  {
   "cell_type": "markdown",
   "id": "7494da9d-51e8-4522-b7d2-e79b548b681e",
   "metadata": {},
   "source": [
    "- Compare to Europe and Asia, we have a quite different life expectancy in here. \n",
    "- During the civil war (1861-1865) we can observe significant changes in the life expectancy in the **United States**. Also only in 1918, life expectancy goes down to 47.2\n",
    "- **Canada**, quite a beautiful country in every sense. Cocnsistent increase in the life expectancy. Only in 1918, life expectancy goes down to 47.16\n",
    "- **Brazil**, consistent increase in the life expectancy can be seen after 1928. Only in 1918, life expectancy goes down to 26.97\n",
    "- **Australia**, quite similar to Canada, everything goes smoothly. Only in 1918, life expectancy goes down to 54.8\n",
    "- Let's see all of them in the plots."
   ]
  },
  {
   "cell_type": "markdown",
   "id": "723e4242-2f9d-4553-bdea-97a4c4a524e1",
   "metadata": {},
   "source": [
    "#### **United States**"
   ]
  },
  {
   "cell_type": "code",
   "execution_count": 42,
   "id": "0887da9e-a0e7-4930-bab2-3d43921817b4",
   "metadata": {},
   "outputs": [
    {
     "data": {
      "text/html": [
       "<iframe\n",
       "    scrolling=\"no\"\n",
       "    width=\"100%\"\n",
       "    height=\"545px\"\n",
       "    src=\"iframe_figures/figure_42.html\"\n",
       "    frameborder=\"0\"\n",
       "    allowfullscreen\n",
       "></iframe>\n"
      ]
     },
     "metadata": {},
     "output_type": "display_data"
    }
   ],
   "source": [
    "US = df_America_Australia[df_America_Australia['Entity']=='United States'].copy()\n",
    "\n",
    "px.scatter(US, x=\"Year\", y=\"Life expectancy\", color='Entity')"
   ]
  },
  {
   "cell_type": "markdown",
   "id": "18de884e-2d25-477d-a1f7-2322a23e8c42",
   "metadata": {},
   "source": [
    "- Lowest life expectancy at 1864 was **31**"
   ]
  },
  {
   "cell_type": "markdown",
   "id": "018f1652-32c8-4d42-a957-816095a88e0c",
   "metadata": {},
   "source": [
    "#### **Canada**"
   ]
  },
  {
   "cell_type": "code",
   "execution_count": 43,
   "id": "d933e47e-e4fc-4186-80a4-85d2270934f4",
   "metadata": {},
   "outputs": [
    {
     "data": {
      "text/html": [
       "<iframe\n",
       "    scrolling=\"no\"\n",
       "    width=\"100%\"\n",
       "    height=\"545px\"\n",
       "    src=\"iframe_figures/figure_43.html\"\n",
       "    frameborder=\"0\"\n",
       "    allowfullscreen\n",
       "></iframe>\n"
      ]
     },
     "metadata": {},
     "output_type": "display_data"
    }
   ],
   "source": [
    "canada = df_America_Australia[df_America_Australia['Entity']=='Canada'].copy()\n",
    "\n",
    "px.scatter(canada, x=\"Year\", y=\"Life expectancy\", color='Entity')"
   ]
  },
  {
   "cell_type": "markdown",
   "id": "776ce40b-2dac-4f39-83f8-1defa1534138",
   "metadata": {},
   "source": [
    "- Lowest life expectancy at 1800 was **39**"
   ]
  },
  {
   "cell_type": "markdown",
   "id": "d5e195b8-edaa-4675-bb5d-a9f7d5d14389",
   "metadata": {},
   "source": [
    "#### **Brazil**"
   ]
  },
  {
   "cell_type": "code",
   "execution_count": 45,
   "id": "e6198af4-8969-45e4-872a-1eef447eebc7",
   "metadata": {},
   "outputs": [
    {
     "data": {
      "text/html": [
       "<iframe\n",
       "    scrolling=\"no\"\n",
       "    width=\"100%\"\n",
       "    height=\"545px\"\n",
       "    src=\"iframe_figures/figure_45.html\"\n",
       "    frameborder=\"0\"\n",
       "    allowfullscreen\n",
       "></iframe>\n"
      ]
     },
     "metadata": {},
     "output_type": "display_data"
    }
   ],
   "source": [
    "brazil = df_America_Australia[df_America_Australia['Entity']=='Brazil'].copy()\n",
    "\n",
    "px.scatter(brazil, x=\"Year\", y=\"Life expectancy\", color='Entity')"
   ]
  },
  {
   "cell_type": "markdown",
   "id": "07ca713e-92a3-418e-98e8-291b710985aa",
   "metadata": {},
   "source": [
    "- Lowest life expectancy at 1918 was **26.97**\n",
    "\n"
   ]
  },
  {
   "cell_type": "markdown",
   "id": "8e859740-72b4-4789-9eaa-27ebdced56ac",
   "metadata": {
    "papermill": {
     "duration": 0.074845,
     "end_time": "2021-07-09T20:50:42.242001",
     "exception": false,
     "start_time": "2021-07-09T20:50:42.167156",
     "status": "completed"
    },
    "tags": []
   },
   "source": [
    "- Thanks for the dataset contibutor for this data. I really enjoyed working on it."
   ]
  },
  {
   "cell_type": "markdown",
   "id": "d6a13ac7-0242-46a8-98cc-1b69f669ab56",
   "metadata": {
    "papermill": {
     "duration": 0.074981,
     "end_time": "2021-07-09T20:50:42.392494",
     "exception": false,
     "start_time": "2021-07-09T20:50:42.317513",
     "status": "completed"
    },
    "tags": []
   },
   "source": [
    "- It was a quite pleasure to share with you this detailed, beginner friendly EDA. Thanks for your time.\n",
    "\n",
    "- All the best "
   ]
  }
 ],
 "metadata": {
  "kernelspec": {
   "display_name": "Python 3",
   "language": "python",
   "name": "python3"
  },
  "language_info": {
   "codemirror_mode": {
    "name": "ipython",
    "version": 3
   },
   "file_extension": ".py",
   "mimetype": "text/x-python",
   "name": "python",
   "nbconvert_exporter": "python",
   "pygments_lexer": "ipython3",
   "version": "3.8.10"
  }
 },
 "nbformat": 4,
 "nbformat_minor": 5
}
