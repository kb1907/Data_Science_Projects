{
 "cells": [
  {
   "cell_type": "markdown",
   "id": "2137d113",
   "metadata": {
    "papermill": {
     "duration": 0.042275,
     "end_time": "2021-07-10T21:54:11.095030",
     "exception": false,
     "start_time": "2021-07-10T21:54:11.052755",
     "status": "completed"
    },
    "tags": []
   },
   "source": [
    "- In this study, we are going to make Exploratory Data Analysis (EDA) with the Amazon.com's bestseller books\n",
    "- Study aims to be beginner friendly and give as much as possible explanation for each step on the way.\n",
    "- Study's dataset has 550 books along with their ratings, price, publication year, authors' name and genre.\n",
    "- Data includes 2009-2019 best seller books."
   ]
  },
  {
   "cell_type": "markdown",
   "id": "68938101",
   "metadata": {
    "papermill": {
     "duration": 0.043283,
     "end_time": "2021-07-10T21:54:11.179800",
     "exception": false,
     "start_time": "2021-07-10T21:54:11.136517",
     "status": "completed"
    },
    "tags": []
   },
   "source": [
    "- Let's import the required libraries"
   ]
  },
  {
   "cell_type": "code",
   "execution_count": 1,
   "id": "b59d299f",
   "metadata": {
    "_kg_hide-input": true,
    "execution": {
     "iopub.execute_input": "2021-07-10T21:54:11.272891Z",
     "iopub.status.busy": "2021-07-10T21:54:11.270646Z",
     "iopub.status.idle": "2021-07-10T21:54:14.960864Z",
     "shell.execute_reply": "2021-07-10T21:54:14.960315Z",
     "shell.execute_reply.started": "2021-07-10T21:43:38.899586Z"
    },
    "papermill": {
     "duration": 3.739619,
     "end_time": "2021-07-10T21:54:14.960992",
     "exception": false,
     "start_time": "2021-07-10T21:54:11.221373",
     "status": "completed"
    },
    "tags": []
   },
   "outputs": [],
   "source": [
    "import pandas as pd\n",
    "import numpy as np\n",
    "\n",
    "\n",
    "import plotly \n",
    "import plotly.express as px\n",
    "import plotly.graph_objs as go\n",
    "import plotly.offline as py\n",
    "from plotly.offline import iplot\n",
    "from plotly.subplots import make_subplots\n",
    "import plotly.figure_factory as ff"
   ]
  },
  {
   "cell_type": "markdown",
   "id": "3fe42b08",
   "metadata": {
    "papermill": {
     "duration": 0.040114,
     "end_time": "2021-07-10T21:54:15.041213",
     "exception": false,
     "start_time": "2021-07-10T21:54:15.001099",
     "status": "completed"
    },
    "tags": []
   },
   "source": [
    "### Overview Stage\n",
    "\n",
    "- Read the csv\n",
    "- Look for basic information about the dataset"
   ]
  },
  {
   "cell_type": "code",
   "execution_count": 2,
   "id": "b2b6045e",
   "metadata": {
    "_kg_hide-input": true,
    "execution": {
     "iopub.execute_input": "2021-07-10T21:54:15.126155Z",
     "iopub.status.busy": "2021-07-10T21:54:15.125525Z",
     "iopub.status.idle": "2021-07-10T21:54:15.177845Z",
     "shell.execute_reply": "2021-07-10T21:54:15.178581Z",
     "shell.execute_reply.started": "2021-07-10T21:43:42.503258Z"
    },
    "papermill": {
     "duration": 0.097496,
     "end_time": "2021-07-10T21:54:15.178772",
     "exception": false,
     "start_time": "2021-07-10T21:54:15.081276",
     "status": "completed"
    },
    "tags": []
   },
   "outputs": [
    {
     "data": {
      "text/html": [
       "<div>\n",
       "<style scoped>\n",
       "    .dataframe tbody tr th:only-of-type {\n",
       "        vertical-align: middle;\n",
       "    }\n",
       "\n",
       "    .dataframe tbody tr th {\n",
       "        vertical-align: top;\n",
       "    }\n",
       "\n",
       "    .dataframe thead th {\n",
       "        text-align: right;\n",
       "    }\n",
       "</style>\n",
       "<table border=\"1\" class=\"dataframe\">\n",
       "  <thead>\n",
       "    <tr style=\"text-align: right;\">\n",
       "      <th></th>\n",
       "      <th>Name</th>\n",
       "      <th>Author</th>\n",
       "      <th>User Rating</th>\n",
       "      <th>Reviews</th>\n",
       "      <th>Price</th>\n",
       "      <th>Year</th>\n",
       "      <th>Genre</th>\n",
       "    </tr>\n",
       "  </thead>\n",
       "  <tbody>\n",
       "    <tr>\n",
       "      <th>0</th>\n",
       "      <td>10-Day Green Smoothie Cleanse</td>\n",
       "      <td>JJ Smith</td>\n",
       "      <td>4.7</td>\n",
       "      <td>17350</td>\n",
       "      <td>8</td>\n",
       "      <td>2016</td>\n",
       "      <td>Non Fiction</td>\n",
       "    </tr>\n",
       "    <tr>\n",
       "      <th>1</th>\n",
       "      <td>11/22/63: A Novel</td>\n",
       "      <td>Stephen King</td>\n",
       "      <td>4.6</td>\n",
       "      <td>2052</td>\n",
       "      <td>22</td>\n",
       "      <td>2011</td>\n",
       "      <td>Fiction</td>\n",
       "    </tr>\n",
       "    <tr>\n",
       "      <th>2</th>\n",
       "      <td>12 Rules for Life: An Antidote to Chaos</td>\n",
       "      <td>Jordan B. Peterson</td>\n",
       "      <td>4.7</td>\n",
       "      <td>18979</td>\n",
       "      <td>15</td>\n",
       "      <td>2018</td>\n",
       "      <td>Non Fiction</td>\n",
       "    </tr>\n",
       "    <tr>\n",
       "      <th>3</th>\n",
       "      <td>1984 (Signet Classics)</td>\n",
       "      <td>George Orwell</td>\n",
       "      <td>4.7</td>\n",
       "      <td>21424</td>\n",
       "      <td>6</td>\n",
       "      <td>2017</td>\n",
       "      <td>Fiction</td>\n",
       "    </tr>\n",
       "    <tr>\n",
       "      <th>4</th>\n",
       "      <td>5,000 Awesome Facts (About Everything!) (Natio...</td>\n",
       "      <td>National Geographic Kids</td>\n",
       "      <td>4.8</td>\n",
       "      <td>7665</td>\n",
       "      <td>12</td>\n",
       "      <td>2019</td>\n",
       "      <td>Non Fiction</td>\n",
       "    </tr>\n",
       "  </tbody>\n",
       "</table>\n",
       "</div>"
      ],
      "text/plain": [
       "                                                Name  \\\n",
       "0                      10-Day Green Smoothie Cleanse   \n",
       "1                                  11/22/63: A Novel   \n",
       "2            12 Rules for Life: An Antidote to Chaos   \n",
       "3                             1984 (Signet Classics)   \n",
       "4  5,000 Awesome Facts (About Everything!) (Natio...   \n",
       "\n",
       "                     Author  User Rating  Reviews  Price  Year        Genre  \n",
       "0                  JJ Smith          4.7    17350      8  2016  Non Fiction  \n",
       "1              Stephen King          4.6     2052     22  2011      Fiction  \n",
       "2        Jordan B. Peterson          4.7    18979     15  2018  Non Fiction  \n",
       "3             George Orwell          4.7    21424      6  2017      Fiction  \n",
       "4  National Geographic Kids          4.8     7665     12  2019  Non Fiction  "
      ]
     },
     "execution_count": 2,
     "metadata": {},
     "output_type": "execute_result"
    }
   ],
   "source": [
    "df = pd.read_csv('../input/amazon-top-50-bestselling-books-2009-2019/bestsellers with categories.csv')\n",
    "df.head()"
   ]
  },
  {
   "cell_type": "code",
   "execution_count": 3,
   "id": "69664a5d",
   "metadata": {
    "_kg_hide-input": true,
    "execution": {
     "iopub.execute_input": "2021-07-10T21:54:15.306642Z",
     "iopub.status.busy": "2021-07-10T21:54:15.305743Z",
     "iopub.status.idle": "2021-07-10T21:54:15.309510Z",
     "shell.execute_reply": "2021-07-10T21:54:15.309120Z",
     "shell.execute_reply.started": "2021-07-10T21:43:42.554386Z"
    },
    "papermill": {
     "duration": 0.069307,
     "end_time": "2021-07-10T21:54:15.309611",
     "exception": false,
     "start_time": "2021-07-10T21:54:15.240304",
     "status": "completed"
    },
    "tags": []
   },
   "outputs": [
    {
     "data": {
      "text/plain": [
       "(550, 7)"
      ]
     },
     "execution_count": 3,
     "metadata": {},
     "output_type": "execute_result"
    }
   ],
   "source": [
    "df.shape"
   ]
  },
  {
   "cell_type": "markdown",
   "id": "262c70a6",
   "metadata": {
    "papermill": {
     "duration": 0.040503,
     "end_time": "2021-07-10T21:54:15.390004",
     "exception": false,
     "start_time": "2021-07-10T21:54:15.349501",
     "status": "completed"
    },
    "tags": []
   },
   "source": [
    "- So we have 550 book and 7 features to work on"
   ]
  },
  {
   "cell_type": "code",
   "execution_count": 4,
   "id": "fa9083ba",
   "metadata": {
    "_kg_hide-input": true,
    "execution": {
     "iopub.execute_input": "2021-07-10T21:54:15.472476Z",
     "iopub.status.busy": "2021-07-10T21:54:15.472017Z",
     "iopub.status.idle": "2021-07-10T21:54:15.479665Z",
     "shell.execute_reply": "2021-07-10T21:54:15.479191Z",
     "shell.execute_reply.started": "2021-07-10T21:43:42.561718Z"
    },
    "papermill": {
     "duration": 0.050167,
     "end_time": "2021-07-10T21:54:15.479804",
     "exception": false,
     "start_time": "2021-07-10T21:54:15.429637",
     "status": "completed"
    },
    "tags": []
   },
   "outputs": [
    {
     "data": {
      "text/plain": [
       "Name           0\n",
       "Author         0\n",
       "User Rating    0\n",
       "Reviews        0\n",
       "Price          0\n",
       "Year           0\n",
       "Genre          0\n",
       "dtype: int64"
      ]
     },
     "execution_count": 4,
     "metadata": {},
     "output_type": "execute_result"
    }
   ],
   "source": [
    "df.isnull().sum()"
   ]
  },
  {
   "cell_type": "markdown",
   "id": "c4c10d6d",
   "metadata": {
    "papermill": {
     "duration": 0.061968,
     "end_time": "2021-07-10T21:54:15.605120",
     "exception": false,
     "start_time": "2021-07-10T21:54:15.543152",
     "status": "completed"
    },
    "tags": []
   },
   "source": [
    "- We have a very clean dataset, which is very rare in the real world. \n",
    "- So enjoy working data without any missing value in it."
   ]
  },
  {
   "cell_type": "code",
   "execution_count": 5,
   "id": "0ed2172b",
   "metadata": {
    "_kg_hide-input": true,
    "execution": {
     "iopub.execute_input": "2021-07-10T21:54:15.740654Z",
     "iopub.status.busy": "2021-07-10T21:54:15.740158Z",
     "iopub.status.idle": "2021-07-10T21:54:15.750685Z",
     "shell.execute_reply": "2021-07-10T21:54:15.751207Z",
     "shell.execute_reply.started": "2021-07-10T21:43:42.580968Z"
    },
    "papermill": {
     "duration": 0.084708,
     "end_time": "2021-07-10T21:54:15.751370",
     "exception": false,
     "start_time": "2021-07-10T21:54:15.666662",
     "status": "completed"
    },
    "tags": []
   },
   "outputs": [
    {
     "name": "stdout",
     "output_type": "stream",
     "text": [
      "<class 'pandas.core.frame.DataFrame'>\n",
      "RangeIndex: 550 entries, 0 to 549\n",
      "Data columns (total 7 columns):\n",
      " #   Column       Non-Null Count  Dtype  \n",
      "---  ------       --------------  -----  \n",
      " 0   Name         550 non-null    object \n",
      " 1   Author       550 non-null    object \n",
      " 2   User Rating  550 non-null    float64\n",
      " 3   Reviews      550 non-null    int64  \n",
      " 4   Price        550 non-null    int64  \n",
      " 5   Year         550 non-null    int64  \n",
      " 6   Genre        550 non-null    object \n",
      "dtypes: float64(1), int64(3), object(3)\n",
      "memory usage: 30.2+ KB\n"
     ]
    }
   ],
   "source": [
    "df.info()"
   ]
  },
  {
   "cell_type": "markdown",
   "id": "9cbbf1c8",
   "metadata": {
    "papermill": {
     "duration": 0.040865,
     "end_time": "2021-07-10T21:54:15.832929",
     "exception": false,
     "start_time": "2021-07-10T21:54:15.792064",
     "status": "completed"
    },
    "tags": []
   },
   "source": [
    "- We have 4 numeric variable\n",
    "- Also we 3 non-numeric variable.\n",
    "- As a data type, everything seems quite OK."
   ]
  },
  {
   "cell_type": "code",
   "execution_count": 6,
   "id": "031ac3af",
   "metadata": {
    "_kg_hide-input": true,
    "execution": {
     "iopub.execute_input": "2021-07-10T21:54:15.923077Z",
     "iopub.status.busy": "2021-07-10T21:54:15.922553Z",
     "iopub.status.idle": "2021-07-10T21:54:15.944180Z",
     "shell.execute_reply": "2021-07-10T21:54:15.943644Z",
     "shell.execute_reply.started": "2021-07-10T21:43:42.607705Z"
    },
    "papermill": {
     "duration": 0.070938,
     "end_time": "2021-07-10T21:54:15.944335",
     "exception": false,
     "start_time": "2021-07-10T21:54:15.873397",
     "status": "completed"
    },
    "tags": []
   },
   "outputs": [
    {
     "data": {
      "text/html": [
       "<div>\n",
       "<style scoped>\n",
       "    .dataframe tbody tr th:only-of-type {\n",
       "        vertical-align: middle;\n",
       "    }\n",
       "\n",
       "    .dataframe tbody tr th {\n",
       "        vertical-align: top;\n",
       "    }\n",
       "\n",
       "    .dataframe thead th {\n",
       "        text-align: right;\n",
       "    }\n",
       "</style>\n",
       "<table border=\"1\" class=\"dataframe\">\n",
       "  <thead>\n",
       "    <tr style=\"text-align: right;\">\n",
       "      <th></th>\n",
       "      <th>User Rating</th>\n",
       "      <th>Reviews</th>\n",
       "      <th>Price</th>\n",
       "      <th>Year</th>\n",
       "    </tr>\n",
       "  </thead>\n",
       "  <tbody>\n",
       "    <tr>\n",
       "      <th>count</th>\n",
       "      <td>550.000000</td>\n",
       "      <td>550.000000</td>\n",
       "      <td>550.000000</td>\n",
       "      <td>550.000000</td>\n",
       "    </tr>\n",
       "    <tr>\n",
       "      <th>mean</th>\n",
       "      <td>4.618364</td>\n",
       "      <td>11953.281818</td>\n",
       "      <td>13.100000</td>\n",
       "      <td>2014.000000</td>\n",
       "    </tr>\n",
       "    <tr>\n",
       "      <th>std</th>\n",
       "      <td>0.226980</td>\n",
       "      <td>11731.132017</td>\n",
       "      <td>10.842262</td>\n",
       "      <td>3.165156</td>\n",
       "    </tr>\n",
       "    <tr>\n",
       "      <th>min</th>\n",
       "      <td>3.300000</td>\n",
       "      <td>37.000000</td>\n",
       "      <td>0.000000</td>\n",
       "      <td>2009.000000</td>\n",
       "    </tr>\n",
       "    <tr>\n",
       "      <th>25%</th>\n",
       "      <td>4.500000</td>\n",
       "      <td>4058.000000</td>\n",
       "      <td>7.000000</td>\n",
       "      <td>2011.000000</td>\n",
       "    </tr>\n",
       "    <tr>\n",
       "      <th>50%</th>\n",
       "      <td>4.700000</td>\n",
       "      <td>8580.000000</td>\n",
       "      <td>11.000000</td>\n",
       "      <td>2014.000000</td>\n",
       "    </tr>\n",
       "    <tr>\n",
       "      <th>75%</th>\n",
       "      <td>4.800000</td>\n",
       "      <td>17253.250000</td>\n",
       "      <td>16.000000</td>\n",
       "      <td>2017.000000</td>\n",
       "    </tr>\n",
       "    <tr>\n",
       "      <th>max</th>\n",
       "      <td>4.900000</td>\n",
       "      <td>87841.000000</td>\n",
       "      <td>105.000000</td>\n",
       "      <td>2019.000000</td>\n",
       "    </tr>\n",
       "  </tbody>\n",
       "</table>\n",
       "</div>"
      ],
      "text/plain": [
       "       User Rating       Reviews       Price         Year\n",
       "count   550.000000    550.000000  550.000000   550.000000\n",
       "mean      4.618364  11953.281818   13.100000  2014.000000\n",
       "std       0.226980  11731.132017   10.842262     3.165156\n",
       "min       3.300000     37.000000    0.000000  2009.000000\n",
       "25%       4.500000   4058.000000    7.000000  2011.000000\n",
       "50%       4.700000   8580.000000   11.000000  2014.000000\n",
       "75%       4.800000  17253.250000   16.000000  2017.000000\n",
       "max       4.900000  87841.000000  105.000000  2019.000000"
      ]
     },
     "execution_count": 6,
     "metadata": {},
     "output_type": "execute_result"
    }
   ],
   "source": [
    "df.describe()"
   ]
  },
  {
   "cell_type": "markdown",
   "id": "71c66755",
   "metadata": {
    "papermill": {
     "duration": 0.062324,
     "end_time": "2021-07-10T21:54:16.069505",
     "exception": false,
     "start_time": "2021-07-10T21:54:16.007181",
     "status": "completed"
    },
    "tags": []
   },
   "source": [
    "Before going further, let's summarize what we have got from the dataset.\n",
    "\n",
    "- Our dataset has 550 books from different authors and genres.\n",
    "\n",
    "- Object data type variable (genre) can be grouped and see the differences among them.\n",
    "\n",
    "- Reviews and price columns most probably have outliers. (Mean- Median difference, difference between 75% and maximum value, difference between %25 and minimum value)\n",
    "\n",
    "-  Numerical variables deserves special attention for further analysis.\n"
   ]
  },
  {
   "cell_type": "markdown",
   "id": "f750e887",
   "metadata": {
    "papermill": {
     "duration": 0.062912,
     "end_time": "2021-07-10T21:54:16.195379",
     "exception": false,
     "start_time": "2021-07-10T21:54:16.132467",
     "status": "completed"
    },
    "tags": []
   },
   "source": [
    "- Everything seems OK.  Let's move on to the next step: **analysis part**."
   ]
  },
  {
   "cell_type": "markdown",
   "id": "9dc5796f",
   "metadata": {
    "papermill": {
     "duration": 0.061853,
     "end_time": "2021-07-10T21:54:16.319766",
     "exception": false,
     "start_time": "2021-07-10T21:54:16.257913",
     "status": "completed"
    },
    "tags": []
   },
   "source": [
    "### Analysis Part"
   ]
  },
  {
   "cell_type": "markdown",
   "id": "8fd7a15b",
   "metadata": {
    "papermill": {
     "duration": 0.062235,
     "end_time": "2021-07-10T21:54:16.445321",
     "exception": false,
     "start_time": "2021-07-10T21:54:16.383086",
     "status": "completed"
    },
    "tags": []
   },
   "source": [
    "#### **Author**"
   ]
  },
  {
   "cell_type": "code",
   "execution_count": 7,
   "id": "810c11b4",
   "metadata": {
    "_kg_hide-input": true,
    "execution": {
     "iopub.execute_input": "2021-07-10T21:54:16.574173Z",
     "iopub.status.busy": "2021-07-10T21:54:16.573524Z",
     "iopub.status.idle": "2021-07-10T21:54:16.579197Z",
     "shell.execute_reply": "2021-07-10T21:54:16.579540Z",
     "shell.execute_reply.started": "2021-07-10T21:43:42.637056Z"
    },
    "papermill": {
     "duration": 0.07179,
     "end_time": "2021-07-10T21:54:16.579670",
     "exception": false,
     "start_time": "2021-07-10T21:54:16.507880",
     "status": "completed"
    },
    "tags": []
   },
   "outputs": [
    {
     "data": {
      "text/plain": [
       "248"
      ]
     },
     "execution_count": 7,
     "metadata": {},
     "output_type": "execute_result"
    }
   ],
   "source": [
    "df['Author'].nunique()"
   ]
  },
  {
   "cell_type": "markdown",
   "id": "ebe54d9d",
   "metadata": {
    "papermill": {
     "duration": 0.042136,
     "end_time": "2021-07-10T21:54:16.663461",
     "exception": false,
     "start_time": "2021-07-10T21:54:16.621325",
     "status": "completed"
    },
    "tags": []
   },
   "source": [
    "- 248 differnt authors are in the dataset."
   ]
  },
  {
   "cell_type": "markdown",
   "id": "4dce40bc",
   "metadata": {
    "papermill": {
     "duration": 0.041823,
     "end_time": "2021-07-10T21:54:16.747446",
     "exception": false,
     "start_time": "2021-07-10T21:54:16.705623",
     "status": "completed"
    },
    "tags": []
   },
   "source": [
    "#### **Genre**"
   ]
  },
  {
   "cell_type": "code",
   "execution_count": 8,
   "id": "480c26e0",
   "metadata": {
    "_kg_hide-input": true,
    "execution": {
     "iopub.execute_input": "2021-07-10T21:54:16.834282Z",
     "iopub.status.busy": "2021-07-10T21:54:16.833823Z",
     "iopub.status.idle": "2021-07-10T21:54:16.856127Z",
     "shell.execute_reply": "2021-07-10T21:54:16.855614Z",
     "shell.execute_reply.started": "2021-07-10T21:43:42.645483Z"
    },
    "papermill": {
     "duration": 0.067746,
     "end_time": "2021-07-10T21:54:16.856234",
     "exception": false,
     "start_time": "2021-07-10T21:54:16.788488",
     "status": "completed"
    },
    "tags": []
   },
   "outputs": [
    {
     "data": {
      "text/plain": [
       "Non Fiction    0.563636\n",
       "Fiction        0.436364\n",
       "Name: Genre, dtype: float64"
      ]
     },
     "execution_count": 8,
     "metadata": {},
     "output_type": "execute_result"
    }
   ],
   "source": [
    "df['Genre'].value_counts(normalize=True)"
   ]
  },
  {
   "cell_type": "markdown",
   "id": "d9c31151",
   "metadata": {
    "papermill": {
     "duration": 0.041556,
     "end_time": "2021-07-10T21:54:16.941223",
     "exception": false,
     "start_time": "2021-07-10T21:54:16.899667",
     "status": "completed"
    },
    "tags": []
   },
   "source": [
    "- I was expecting more genre, it is quite surprising.\n",
    "- Anyway, Genre is still good to use to see differences between two category."
   ]
  },
  {
   "cell_type": "code",
   "execution_count": 9,
   "id": "6fbea071",
   "metadata": {
    "_kg_hide-input": true,
    "execution": {
     "iopub.execute_input": "2021-07-10T21:54:17.028336Z",
     "iopub.status.busy": "2021-07-10T21:54:17.027874Z",
     "iopub.status.idle": "2021-07-10T21:54:18.022674Z",
     "shell.execute_reply": "2021-07-10T21:54:18.023113Z",
     "shell.execute_reply.started": "2021-07-10T21:43:42.677022Z"
    },
    "papermill": {
     "duration": 1.040664,
     "end_time": "2021-07-10T21:54:18.023251",
     "exception": false,
     "start_time": "2021-07-10T21:54:16.982587",
     "status": "completed"
    },
    "tags": []
   },
   "outputs": [
    {
     "data": {
      "text/html": [
       "        <script type=\"text/javascript\">\n",
       "        window.PlotlyConfig = {MathJaxConfig: 'local'};\n",
       "        if (window.MathJax) {MathJax.Hub.Config({SVG: {font: \"STIX-Web\"}});}\n",
       "        if (typeof require !== 'undefined') {\n",
       "        require.undef(\"plotly\");\n",
       "        requirejs.config({\n",
       "            paths: {\n",
       "                'plotly': ['https://cdn.plot.ly/plotly-2.2.0.min']\n",
       "            }\n",
       "        });\n",
       "        require(['plotly'], function(Plotly) {\n",
       "            window._Plotly = Plotly;\n",
       "        });\n",
       "        }\n",
       "        </script>\n",
       "        "
      ]
     },
     "metadata": {},
     "output_type": "display_data"
    },
    {
     "data": {
      "text/html": [
       "<div>                            <div id=\"96a6144f-d6fa-44a6-865e-fc3c8fcb5b16\" class=\"plotly-graph-div\" style=\"height:525px; width:100%;\"></div>            <script type=\"text/javascript\">                require([\"plotly\"], function(Plotly) {                    window.PLOTLYENV=window.PLOTLYENV || {};                                    if (document.getElementById(\"96a6144f-d6fa-44a6-865e-fc3c8fcb5b16\")) {                    Plotly.newPlot(                        \"96a6144f-d6fa-44a6-865e-fc3c8fcb5b16\",                        [{\"alignmentgroup\":\"True\",\"bingroup\":\"x\",\"hovertemplate\":\"Genre=%{x}<br>count=%{y}<extra></extra>\",\"legendgroup\":\"\",\"marker\":{\"color\":\"#636efa\",\"pattern\":{\"shape\":\"\"}},\"name\":\"\",\"offsetgroup\":\"\",\"orientation\":\"v\",\"showlegend\":false,\"type\":\"histogram\",\"x\":[\"Non Fiction\",\"Fiction\",\"Non Fiction\",\"Fiction\",\"Non Fiction\",\"Fiction\",\"Fiction\",\"Fiction\",\"Non Fiction\",\"Fiction\",\"Fiction\",\"Non Fiction\",\"Non Fiction\",\"Fiction\",\"Non Fiction\",\"Non Fiction\",\"Non Fiction\",\"Non Fiction\",\"Non Fiction\",\"Non Fiction\",\"Fiction\",\"Fiction\",\"Fiction\",\"Non Fiction\",\"Fiction\",\"Non Fiction\",\"Non Fiction\",\"Non Fiction\",\"Non Fiction\",\"Non Fiction\",\"Non Fiction\",\"Non Fiction\",\"Non Fiction\",\"Non Fiction\",\"Non Fiction\",\"Non Fiction\",\"Non Fiction\",\"Non Fiction\",\"Fiction\",\"Non Fiction\",\"Fiction\",\"Fiction\",\"Fiction\",\"Non Fiction\",\"Non Fiction\",\"Non Fiction\",\"Fiction\",\"Fiction\",\"Fiction\",\"Non Fiction\",\"Non Fiction\",\"Non Fiction\",\"Non Fiction\",\"Fiction\",\"Non Fiction\",\"Non Fiction\",\"Fiction\",\"Fiction\",\"Non Fiction\",\"Non Fiction\",\"Fiction\",\"Fiction\",\"Fiction\",\"Fiction\",\"Fiction\",\"Fiction\",\"Fiction\",\"Non Fiction\",\"Non Fiction\",\"Non Fiction\",\"Non Fiction\",\"Fiction\",\"Fiction\",\"Fiction\",\"Non Fiction\",\"Fiction\",\"Fiction\",\"Fiction\",\"Non Fiction\",\"Fiction\",\"Fiction\",\"Fiction\",\"Fiction\",\"Fiction\",\"Fiction\",\"Fiction\",\"Fiction\",\"Fiction\",\"Fiction\",\"Non Fiction\",\"Non Fiction\",\"Non Fiction\",\"Non Fiction\",\"Non Fiction\",\"Non Fiction\",\"Fiction\",\"Fiction\",\"Non Fiction\",\"Non Fiction\",\"Non Fiction\",\"Fiction\",\"Fiction\",\"Fiction\",\"Non Fiction\",\"Fiction\",\"Fiction\",\"Fiction\",\"Fiction\",\"Fiction\",\"Non Fiction\",\"Non Fiction\",\"Non Fiction\",\"Non Fiction\",\"Non Fiction\",\"Non Fiction\",\"Non Fiction\",\"Fiction\",\"Non Fiction\",\"Fiction\",\"Fiction\",\"Fiction\",\"Non Fiction\",\"Non Fiction\",\"Fiction\",\"Fiction\",\"Fiction\",\"Fiction\",\"Fiction\",\"Non Fiction\",\"Non Fiction\",\"Non Fiction\",\"Non Fiction\",\"Fiction\",\"Fiction\",\"Non Fiction\",\"Fiction\",\"Fiction\",\"Fiction\",\"Non Fiction\",\"Non Fiction\",\"Non Fiction\",\"Non Fiction\",\"Non Fiction\",\"Fiction\",\"Fiction\",\"Fiction\",\"Fiction\",\"Fiction\",\"Non Fiction\",\"Fiction\",\"Non Fiction\",\"Non Fiction\",\"Non Fiction\",\"Fiction\",\"Fiction\",\"Fiction\",\"Fiction\",\"Fiction\",\"Non Fiction\",\"Fiction\",\"Non Fiction\",\"Non Fiction\",\"Non Fiction\",\"Non Fiction\",\"Non Fiction\",\"Non Fiction\",\"Non Fiction\",\"Non Fiction\",\"Non Fiction\",\"Non Fiction\",\"Non Fiction\",\"Non Fiction\",\"Non Fiction\",\"Non Fiction\",\"Non Fiction\",\"Non Fiction\",\"Non Fiction\",\"Fiction\",\"Fiction\",\"Fiction\",\"Fiction\",\"Non Fiction\",\"Fiction\",\"Fiction\",\"Non Fiction\",\"Non Fiction\",\"Non Fiction\",\"Non Fiction\",\"Non Fiction\",\"Non Fiction\",\"Non Fiction\",\"Non Fiction\",\"Non Fiction\",\"Fiction\",\"Fiction\",\"Non Fiction\",\"Non Fiction\",\"Non Fiction\",\"Non Fiction\",\"Non Fiction\",\"Non Fiction\",\"Non Fiction\",\"Non Fiction\",\"Non Fiction\",\"Non Fiction\",\"Non Fiction\",\"Non Fiction\",\"Fiction\",\"Non Fiction\",\"Non Fiction\",\"Non Fiction\",\"Non Fiction\",\"Non Fiction\",\"Non Fiction\",\"Non Fiction\",\"Non Fiction\",\"Non Fiction\",\"Non Fiction\",\"Fiction\",\"Fiction\",\"Fiction\",\"Fiction\",\"Non Fiction\",\"Fiction\",\"Fiction\",\"Non Fiction\",\"Non Fiction\",\"Non Fiction\",\"Non Fiction\",\"Non Fiction\",\"Non Fiction\",\"Non Fiction\",\"Non Fiction\",\"Non Fiction\",\"Non Fiction\",\"Non Fiction\",\"Fiction\",\"Fiction\",\"Fiction\",\"Non Fiction\",\"Non Fiction\",\"Fiction\",\"Non Fiction\",\"Non Fiction\",\"Non Fiction\",\"Fiction\",\"Fiction\",\"Fiction\",\"Fiction\",\"Fiction\",\"Fiction\",\"Fiction\",\"Fiction\",\"Fiction\",\"Fiction\",\"Non Fiction\",\"Non Fiction\",\"Non Fiction\",\"Fiction\",\"Fiction\",\"Non Fiction\",\"Non Fiction\",\"Non Fiction\",\"Non Fiction\",\"Fiction\",\"Fiction\",\"Fiction\",\"Fiction\",\"Fiction\",\"Non Fiction\",\"Non Fiction\",\"Non Fiction\",\"Non Fiction\",\"Non Fiction\",\"Non Fiction\",\"Non Fiction\",\"Non Fiction\",\"Non Fiction\",\"Non Fiction\",\"Non Fiction\",\"Non Fiction\",\"Fiction\",\"Non Fiction\",\"Non Fiction\",\"Non Fiction\",\"Non Fiction\",\"Fiction\",\"Fiction\",\"Fiction\",\"Fiction\",\"Non Fiction\",\"Non Fiction\",\"Fiction\",\"Non Fiction\",\"Non Fiction\",\"Non Fiction\",\"Non Fiction\",\"Non Fiction\",\"Non Fiction\",\"Fiction\",\"Non Fiction\",\"Non Fiction\",\"Non Fiction\",\"Fiction\",\"Non Fiction\",\"Non Fiction\",\"Non Fiction\",\"Non Fiction\",\"Non Fiction\",\"Non Fiction\",\"Non Fiction\",\"Non Fiction\",\"Non Fiction\",\"Non Fiction\",\"Non Fiction\",\"Fiction\",\"Non Fiction\",\"Non Fiction\",\"Non Fiction\",\"Non Fiction\",\"Non Fiction\",\"Non Fiction\",\"Non Fiction\",\"Non Fiction\",\"Non Fiction\",\"Non Fiction\",\"Non Fiction\",\"Non Fiction\",\"Non Fiction\",\"Non Fiction\",\"Non Fiction\",\"Non Fiction\",\"Non Fiction\",\"Non Fiction\",\"Non Fiction\",\"Non Fiction\",\"Non Fiction\",\"Non Fiction\",\"Fiction\",\"Non Fiction\",\"Fiction\",\"Fiction\",\"Non Fiction\",\"Fiction\",\"Non Fiction\",\"Non Fiction\",\"Non Fiction\",\"Fiction\",\"Fiction\",\"Fiction\",\"Fiction\",\"Non Fiction\",\"Non Fiction\",\"Fiction\",\"Non Fiction\",\"Non Fiction\",\"Non Fiction\",\"Fiction\",\"Non Fiction\",\"Non Fiction\",\"Fiction\",\"Fiction\",\"Fiction\",\"Non Fiction\",\"Fiction\",\"Fiction\",\"Fiction\",\"Fiction\",\"Fiction\",\"Non Fiction\",\"Non Fiction\",\"Non Fiction\",\"Non Fiction\",\"Non Fiction\",\"Non Fiction\",\"Non Fiction\",\"Non Fiction\",\"Non Fiction\",\"Non Fiction\",\"Non Fiction\",\"Non Fiction\",\"Fiction\",\"Fiction\",\"Fiction\",\"Fiction\",\"Fiction\",\"Fiction\",\"Fiction\",\"Fiction\",\"Fiction\",\"Fiction\",\"Fiction\",\"Fiction\",\"Fiction\",\"Fiction\",\"Fiction\",\"Fiction\",\"Fiction\",\"Fiction\",\"Fiction\",\"Fiction\",\"Fiction\",\"Fiction\",\"Fiction\",\"Fiction\",\"Fiction\",\"Fiction\",\"Fiction\",\"Fiction\",\"Fiction\",\"Fiction\",\"Fiction\",\"Non Fiction\",\"Non Fiction\",\"Non Fiction\",\"Non Fiction\",\"Non Fiction\",\"Non Fiction\",\"Fiction\",\"Fiction\",\"Fiction\",\"Non Fiction\",\"Non Fiction\",\"Non Fiction\",\"Non Fiction\",\"Non Fiction\",\"Non Fiction\",\"Fiction\",\"Fiction\",\"Fiction\",\"Non Fiction\",\"Non Fiction\",\"Fiction\",\"Fiction\",\"Fiction\",\"Fiction\",\"Non Fiction\",\"Fiction\",\"Fiction\",\"Non Fiction\",\"Non Fiction\",\"Non Fiction\",\"Non Fiction\",\"Non Fiction\",\"Non Fiction\",\"Fiction\",\"Non Fiction\",\"Non Fiction\",\"Non Fiction\",\"Non Fiction\",\"Non Fiction\",\"Fiction\",\"Fiction\",\"Non Fiction\",\"Fiction\",\"Fiction\",\"Fiction\",\"Non Fiction\",\"Fiction\",\"Fiction\",\"Fiction\",\"Fiction\",\"Fiction\",\"Fiction\",\"Non Fiction\",\"Non Fiction\",\"Non Fiction\",\"Non Fiction\",\"Fiction\",\"Fiction\",\"Fiction\",\"Non Fiction\",\"Non Fiction\",\"Fiction\",\"Fiction\",\"Non Fiction\",\"Fiction\",\"Fiction\",\"Fiction\",\"Fiction\",\"Fiction\",\"Fiction\",\"Fiction\",\"Non Fiction\",\"Non Fiction\",\"Non Fiction\",\"Fiction\",\"Fiction\",\"Fiction\",\"Fiction\",\"Fiction\",\"Fiction\",\"Non Fiction\",\"Non Fiction\",\"Non Fiction\",\"Non Fiction\",\"Fiction\",\"Non Fiction\",\"Non Fiction\",\"Non Fiction\",\"Non Fiction\",\"Non Fiction\",\"Non Fiction\",\"Non Fiction\",\"Non Fiction\",\"Fiction\",\"Fiction\",\"Fiction\",\"Fiction\",\"Fiction\",\"Non Fiction\",\"Fiction\",\"Non Fiction\",\"Fiction\",\"Fiction\",\"Non Fiction\",\"Non Fiction\",\"Non Fiction\",\"Non Fiction\",\"Non Fiction\",\"Fiction\",\"Non Fiction\",\"Non Fiction\",\"Non Fiction\",\"Fiction\",\"Fiction\",\"Non Fiction\",\"Non Fiction\",\"Fiction\",\"Fiction\",\"Non Fiction\",\"Non Fiction\",\"Non Fiction\",\"Non Fiction\",\"Fiction\",\"Fiction\",\"Non Fiction\",\"Non Fiction\",\"Fiction\",\"Non Fiction\",\"Fiction\",\"Fiction\",\"Fiction\",\"Fiction\",\"Fiction\",\"Fiction\",\"Non Fiction\",\"Non Fiction\",\"Non Fiction\",\"Non Fiction\"],\"xaxis\":\"x\",\"yaxis\":\"y\"}],                        {\"barmode\":\"relative\",\"legend\":{\"tracegroupgap\":0},\"template\":{\"data\":{\"bar\":[{\"error_x\":{\"color\":\"#2a3f5f\"},\"error_y\":{\"color\":\"#2a3f5f\"},\"marker\":{\"line\":{\"color\":\"#E5ECF6\",\"width\":0.5},\"pattern\":{\"fillmode\":\"overlay\",\"size\":10,\"solidity\":0.2}},\"type\":\"bar\"}],\"barpolar\":[{\"marker\":{\"line\":{\"color\":\"#E5ECF6\",\"width\":0.5},\"pattern\":{\"fillmode\":\"overlay\",\"size\":10,\"solidity\":0.2}},\"type\":\"barpolar\"}],\"carpet\":[{\"aaxis\":{\"endlinecolor\":\"#2a3f5f\",\"gridcolor\":\"white\",\"linecolor\":\"white\",\"minorgridcolor\":\"white\",\"startlinecolor\":\"#2a3f5f\"},\"baxis\":{\"endlinecolor\":\"#2a3f5f\",\"gridcolor\":\"white\",\"linecolor\":\"white\",\"minorgridcolor\":\"white\",\"startlinecolor\":\"#2a3f5f\"},\"type\":\"carpet\"}],\"choropleth\":[{\"colorbar\":{\"outlinewidth\":0,\"ticks\":\"\"},\"type\":\"choropleth\"}],\"contour\":[{\"colorbar\":{\"outlinewidth\":0,\"ticks\":\"\"},\"colorscale\":[[0.0,\"#0d0887\"],[0.1111111111111111,\"#46039f\"],[0.2222222222222222,\"#7201a8\"],[0.3333333333333333,\"#9c179e\"],[0.4444444444444444,\"#bd3786\"],[0.5555555555555556,\"#d8576b\"],[0.6666666666666666,\"#ed7953\"],[0.7777777777777778,\"#fb9f3a\"],[0.8888888888888888,\"#fdca26\"],[1.0,\"#f0f921\"]],\"type\":\"contour\"}],\"contourcarpet\":[{\"colorbar\":{\"outlinewidth\":0,\"ticks\":\"\"},\"type\":\"contourcarpet\"}],\"heatmap\":[{\"colorbar\":{\"outlinewidth\":0,\"ticks\":\"\"},\"colorscale\":[[0.0,\"#0d0887\"],[0.1111111111111111,\"#46039f\"],[0.2222222222222222,\"#7201a8\"],[0.3333333333333333,\"#9c179e\"],[0.4444444444444444,\"#bd3786\"],[0.5555555555555556,\"#d8576b\"],[0.6666666666666666,\"#ed7953\"],[0.7777777777777778,\"#fb9f3a\"],[0.8888888888888888,\"#fdca26\"],[1.0,\"#f0f921\"]],\"type\":\"heatmap\"}],\"heatmapgl\":[{\"colorbar\":{\"outlinewidth\":0,\"ticks\":\"\"},\"colorscale\":[[0.0,\"#0d0887\"],[0.1111111111111111,\"#46039f\"],[0.2222222222222222,\"#7201a8\"],[0.3333333333333333,\"#9c179e\"],[0.4444444444444444,\"#bd3786\"],[0.5555555555555556,\"#d8576b\"],[0.6666666666666666,\"#ed7953\"],[0.7777777777777778,\"#fb9f3a\"],[0.8888888888888888,\"#fdca26\"],[1.0,\"#f0f921\"]],\"type\":\"heatmapgl\"}],\"histogram\":[{\"marker\":{\"pattern\":{\"fillmode\":\"overlay\",\"size\":10,\"solidity\":0.2}},\"type\":\"histogram\"}],\"histogram2d\":[{\"colorbar\":{\"outlinewidth\":0,\"ticks\":\"\"},\"colorscale\":[[0.0,\"#0d0887\"],[0.1111111111111111,\"#46039f\"],[0.2222222222222222,\"#7201a8\"],[0.3333333333333333,\"#9c179e\"],[0.4444444444444444,\"#bd3786\"],[0.5555555555555556,\"#d8576b\"],[0.6666666666666666,\"#ed7953\"],[0.7777777777777778,\"#fb9f3a\"],[0.8888888888888888,\"#fdca26\"],[1.0,\"#f0f921\"]],\"type\":\"histogram2d\"}],\"histogram2dcontour\":[{\"colorbar\":{\"outlinewidth\":0,\"ticks\":\"\"},\"colorscale\":[[0.0,\"#0d0887\"],[0.1111111111111111,\"#46039f\"],[0.2222222222222222,\"#7201a8\"],[0.3333333333333333,\"#9c179e\"],[0.4444444444444444,\"#bd3786\"],[0.5555555555555556,\"#d8576b\"],[0.6666666666666666,\"#ed7953\"],[0.7777777777777778,\"#fb9f3a\"],[0.8888888888888888,\"#fdca26\"],[1.0,\"#f0f921\"]],\"type\":\"histogram2dcontour\"}],\"mesh3d\":[{\"colorbar\":{\"outlinewidth\":0,\"ticks\":\"\"},\"type\":\"mesh3d\"}],\"parcoords\":[{\"line\":{\"colorbar\":{\"outlinewidth\":0,\"ticks\":\"\"}},\"type\":\"parcoords\"}],\"pie\":[{\"automargin\":true,\"type\":\"pie\"}],\"scatter\":[{\"marker\":{\"colorbar\":{\"outlinewidth\":0,\"ticks\":\"\"}},\"type\":\"scatter\"}],\"scatter3d\":[{\"line\":{\"colorbar\":{\"outlinewidth\":0,\"ticks\":\"\"}},\"marker\":{\"colorbar\":{\"outlinewidth\":0,\"ticks\":\"\"}},\"type\":\"scatter3d\"}],\"scattercarpet\":[{\"marker\":{\"colorbar\":{\"outlinewidth\":0,\"ticks\":\"\"}},\"type\":\"scattercarpet\"}],\"scattergeo\":[{\"marker\":{\"colorbar\":{\"outlinewidth\":0,\"ticks\":\"\"}},\"type\":\"scattergeo\"}],\"scattergl\":[{\"marker\":{\"colorbar\":{\"outlinewidth\":0,\"ticks\":\"\"}},\"type\":\"scattergl\"}],\"scattermapbox\":[{\"marker\":{\"colorbar\":{\"outlinewidth\":0,\"ticks\":\"\"}},\"type\":\"scattermapbox\"}],\"scatterpolar\":[{\"marker\":{\"colorbar\":{\"outlinewidth\":0,\"ticks\":\"\"}},\"type\":\"scatterpolar\"}],\"scatterpolargl\":[{\"marker\":{\"colorbar\":{\"outlinewidth\":0,\"ticks\":\"\"}},\"type\":\"scatterpolargl\"}],\"scatterternary\":[{\"marker\":{\"colorbar\":{\"outlinewidth\":0,\"ticks\":\"\"}},\"type\":\"scatterternary\"}],\"surface\":[{\"colorbar\":{\"outlinewidth\":0,\"ticks\":\"\"},\"colorscale\":[[0.0,\"#0d0887\"],[0.1111111111111111,\"#46039f\"],[0.2222222222222222,\"#7201a8\"],[0.3333333333333333,\"#9c179e\"],[0.4444444444444444,\"#bd3786\"],[0.5555555555555556,\"#d8576b\"],[0.6666666666666666,\"#ed7953\"],[0.7777777777777778,\"#fb9f3a\"],[0.8888888888888888,\"#fdca26\"],[1.0,\"#f0f921\"]],\"type\":\"surface\"}],\"table\":[{\"cells\":{\"fill\":{\"color\":\"#EBF0F8\"},\"line\":{\"color\":\"white\"}},\"header\":{\"fill\":{\"color\":\"#C8D4E3\"},\"line\":{\"color\":\"white\"}},\"type\":\"table\"}]},\"layout\":{\"annotationdefaults\":{\"arrowcolor\":\"#2a3f5f\",\"arrowhead\":0,\"arrowwidth\":1},\"autotypenumbers\":\"strict\",\"coloraxis\":{\"colorbar\":{\"outlinewidth\":0,\"ticks\":\"\"}},\"colorscale\":{\"diverging\":[[0,\"#8e0152\"],[0.1,\"#c51b7d\"],[0.2,\"#de77ae\"],[0.3,\"#f1b6da\"],[0.4,\"#fde0ef\"],[0.5,\"#f7f7f7\"],[0.6,\"#e6f5d0\"],[0.7,\"#b8e186\"],[0.8,\"#7fbc41\"],[0.9,\"#4d9221\"],[1,\"#276419\"]],\"sequential\":[[0.0,\"#0d0887\"],[0.1111111111111111,\"#46039f\"],[0.2222222222222222,\"#7201a8\"],[0.3333333333333333,\"#9c179e\"],[0.4444444444444444,\"#bd3786\"],[0.5555555555555556,\"#d8576b\"],[0.6666666666666666,\"#ed7953\"],[0.7777777777777778,\"#fb9f3a\"],[0.8888888888888888,\"#fdca26\"],[1.0,\"#f0f921\"]],\"sequentialminus\":[[0.0,\"#0d0887\"],[0.1111111111111111,\"#46039f\"],[0.2222222222222222,\"#7201a8\"],[0.3333333333333333,\"#9c179e\"],[0.4444444444444444,\"#bd3786\"],[0.5555555555555556,\"#d8576b\"],[0.6666666666666666,\"#ed7953\"],[0.7777777777777778,\"#fb9f3a\"],[0.8888888888888888,\"#fdca26\"],[1.0,\"#f0f921\"]]},\"colorway\":[\"#636efa\",\"#EF553B\",\"#00cc96\",\"#ab63fa\",\"#FFA15A\",\"#19d3f3\",\"#FF6692\",\"#B6E880\",\"#FF97FF\",\"#FECB52\"],\"font\":{\"color\":\"#2a3f5f\"},\"geo\":{\"bgcolor\":\"white\",\"lakecolor\":\"white\",\"landcolor\":\"#E5ECF6\",\"showlakes\":true,\"showland\":true,\"subunitcolor\":\"white\"},\"hoverlabel\":{\"align\":\"left\"},\"hovermode\":\"closest\",\"mapbox\":{\"style\":\"light\"},\"paper_bgcolor\":\"white\",\"plot_bgcolor\":\"#E5ECF6\",\"polar\":{\"angularaxis\":{\"gridcolor\":\"white\",\"linecolor\":\"white\",\"ticks\":\"\"},\"bgcolor\":\"#E5ECF6\",\"radialaxis\":{\"gridcolor\":\"white\",\"linecolor\":\"white\",\"ticks\":\"\"}},\"scene\":{\"xaxis\":{\"backgroundcolor\":\"#E5ECF6\",\"gridcolor\":\"white\",\"gridwidth\":2,\"linecolor\":\"white\",\"showbackground\":true,\"ticks\":\"\",\"zerolinecolor\":\"white\"},\"yaxis\":{\"backgroundcolor\":\"#E5ECF6\",\"gridcolor\":\"white\",\"gridwidth\":2,\"linecolor\":\"white\",\"showbackground\":true,\"ticks\":\"\",\"zerolinecolor\":\"white\"},\"zaxis\":{\"backgroundcolor\":\"#E5ECF6\",\"gridcolor\":\"white\",\"gridwidth\":2,\"linecolor\":\"white\",\"showbackground\":true,\"ticks\":\"\",\"zerolinecolor\":\"white\"}},\"shapedefaults\":{\"line\":{\"color\":\"#2a3f5f\"}},\"ternary\":{\"aaxis\":{\"gridcolor\":\"white\",\"linecolor\":\"white\",\"ticks\":\"\"},\"baxis\":{\"gridcolor\":\"white\",\"linecolor\":\"white\",\"ticks\":\"\"},\"bgcolor\":\"#E5ECF6\",\"caxis\":{\"gridcolor\":\"white\",\"linecolor\":\"white\",\"ticks\":\"\"}},\"title\":{\"x\":0.05},\"xaxis\":{\"automargin\":true,\"gridcolor\":\"white\",\"linecolor\":\"white\",\"ticks\":\"\",\"title\":{\"standoff\":15},\"zerolinecolor\":\"white\",\"zerolinewidth\":2},\"yaxis\":{\"automargin\":true,\"gridcolor\":\"white\",\"linecolor\":\"white\",\"ticks\":\"\",\"title\":{\"standoff\":15},\"zerolinecolor\":\"white\",\"zerolinewidth\":2}}},\"title\":{\"text\":\"Genre\"},\"xaxis\":{\"anchor\":\"y\",\"categoryorder\":\"total descending\",\"domain\":[0.0,1.0],\"title\":{\"text\":\"Genre\"}},\"yaxis\":{\"anchor\":\"x\",\"domain\":[0.0,1.0],\"title\":{\"text\":\"count\"}}},                        {\"responsive\": true}                    ).then(function(){\n",
       "                            \n",
       "var gd = document.getElementById('96a6144f-d6fa-44a6-865e-fc3c8fcb5b16');\n",
       "var x = new MutationObserver(function (mutations, observer) {{\n",
       "        var display = window.getComputedStyle(gd).display;\n",
       "        if (!display || display === 'none') {{\n",
       "            console.log([gd, 'removed!']);\n",
       "            Plotly.purge(gd);\n",
       "            observer.disconnect();\n",
       "        }}\n",
       "}});\n",
       "\n",
       "// Listen for the removal of the full notebook cells\n",
       "var notebookContainer = gd.closest('#notebook-container');\n",
       "if (notebookContainer) {{\n",
       "    x.observe(notebookContainer, {childList: true});\n",
       "}}\n",
       "\n",
       "// Listen for the clearing of the current output cell\n",
       "var outputEl = gd.closest('.output');\n",
       "if (outputEl) {{\n",
       "    x.observe(outputEl, {childList: true});\n",
       "}}\n",
       "\n",
       "                        })                };                });            </script>        </div>"
      ]
     },
     "metadata": {},
     "output_type": "display_data"
    }
   ],
   "source": [
    "fig = px.histogram(df, x=\"Genre\", title='Genre')\n",
    "fig.update_layout(xaxis={'categoryorder':'total descending'})\n",
    "fig.show()"
   ]
  },
  {
   "cell_type": "markdown",
   "id": "df5a2dc1",
   "metadata": {
    "papermill": {
     "duration": 0.042343,
     "end_time": "2021-07-10T21:54:18.109464",
     "exception": false,
     "start_time": "2021-07-10T21:54:18.067121",
     "status": "completed"
    },
    "tags": []
   },
   "source": [
    "#### **User Rating**"
   ]
  },
  {
   "cell_type": "code",
   "execution_count": 10,
   "id": "fd076655",
   "metadata": {
    "_kg_hide-input": true,
    "execution": {
     "iopub.execute_input": "2021-07-10T21:54:18.197474Z",
     "iopub.status.busy": "2021-07-10T21:54:18.197017Z",
     "iopub.status.idle": "2021-07-10T21:54:18.205146Z",
     "shell.execute_reply": "2021-07-10T21:54:18.205599Z",
     "shell.execute_reply.started": "2021-07-10T21:43:43.687688Z"
    },
    "papermill": {
     "duration": 0.053636,
     "end_time": "2021-07-10T21:54:18.205746",
     "exception": false,
     "start_time": "2021-07-10T21:54:18.152110",
     "status": "completed"
    },
    "tags": []
   },
   "outputs": [
    {
     "data": {
      "text/plain": [
       "count    550.000000\n",
       "mean       4.618364\n",
       "std        0.226980\n",
       "min        3.300000\n",
       "25%        4.500000\n",
       "50%        4.700000\n",
       "75%        4.800000\n",
       "max        4.900000\n",
       "Name: User Rating, dtype: float64"
      ]
     },
     "execution_count": 10,
     "metadata": {},
     "output_type": "execute_result"
    }
   ],
   "source": [
    "df['User Rating'].describe()"
   ]
  },
  {
   "cell_type": "markdown",
   "id": "bd8f6424",
   "metadata": {
    "papermill": {
     "duration": 0.042442,
     "end_time": "2021-07-10T21:54:18.291561",
     "exception": false,
     "start_time": "2021-07-10T21:54:18.249119",
     "status": "completed"
    },
    "tags": []
   },
   "source": [
    "- Mean and median score are quite close to each other. (Median_ 4.7, Mean=4.618)\n",
    "- Since median score is bigger than mean score we can expect outlier from the minimum side. \n",
    "- Most probably we will have left skewed distribution. \n",
    "- But still we can expect close to normal distribution of the variable.\n",
    "- Let's see it"
   ]
  },
  {
   "cell_type": "code",
   "execution_count": 11,
   "id": "50f5a0f7",
   "metadata": {
    "_kg_hide-input": true,
    "execution": {
     "iopub.execute_input": "2021-07-10T21:54:18.380557Z",
     "iopub.status.busy": "2021-07-10T21:54:18.380104Z",
     "iopub.status.idle": "2021-07-10T21:54:18.543133Z",
     "shell.execute_reply": "2021-07-10T21:54:18.542637Z",
     "shell.execute_reply.started": "2021-07-10T21:43:43.698596Z"
    },
    "papermill": {
     "duration": 0.208927,
     "end_time": "2021-07-10T21:54:18.543234",
     "exception": false,
     "start_time": "2021-07-10T21:54:18.334307",
     "status": "completed"
    },
    "tags": []
   },
   "outputs": [
    {
     "data": {
      "text/html": [
       "<div>                            <div id=\"944d0199-781b-4d37-a1f1-0a27fd33e678\" class=\"plotly-graph-div\" style=\"height:525px; width:100%;\"></div>            <script type=\"text/javascript\">                require([\"plotly\"], function(Plotly) {                    window.PLOTLYENV=window.PLOTLYENV || {};                                    if (document.getElementById(\"944d0199-781b-4d37-a1f1-0a27fd33e678\")) {                    Plotly.newPlot(                        \"944d0199-781b-4d37-a1f1-0a27fd33e678\",                        [{\"alignmentgroup\":\"True\",\"bingroup\":\"x\",\"hovertemplate\":\"User Rating=%{x}<br>count=%{y}<extra></extra>\",\"legendgroup\":\"\",\"marker\":{\"color\":\"#636efa\",\"pattern\":{\"shape\":\"\"}},\"name\":\"\",\"offsetgroup\":\"\",\"orientation\":\"v\",\"showlegend\":false,\"type\":\"histogram\",\"x\":[4.7,4.6,4.7,4.7,4.8,4.4,4.7,4.7,4.7,4.6,4.6,4.6,4.6,4.5,4.6,4.5,4.6,4.4,4.5,4.8,4.6,4.6,3.9,4.6,4.3,4.6,4.7,4.2,4.6,4.6,4.8,4.7,4.8,4.8,4.8,4.7,4.7,4.7,4.6,4.5,4.9,4.9,4.8,4.6,4.8,4.5,4.7,4.7,4.7,4.7,4.7,4.7,4.7,4.3,4.8,4.8,4.6,4.6,4.8,4.4,4.6,4.3,4.2,4.8,4.8,4.8,4.8,4.6,4.6,4.5,4.5,4.8,4.8,4.8,4.6,4.6,4.6,4.5,4.6,4.7,4.8,4.9,4.9,4.9,4.9,4.9,4.9,4.9,4.8,4.6,4.5,4.5,4.3,4.5,4.5,4.7,4.7,4.7,4.7,4.7,4.6,4.6,4.7,4.4,4.4,4.5,3.8,3.8,4.5,4.2,4.7,4.7,4.7,4.7,4.7,4.4,4.7,4.4,4.6,4.6,4.6,4.5,4.6,4.8,4.8,4.8,4.8,4.8,4.6,4.6,4.6,4.6,3.6,4.8,4.6,4.0,4.0,4.0,4.6,4.5,4.5,4.5,4.5,4.8,4.8,4.8,4.9,4.9,4.6,4.4,4.8,4.9,4.8,4.9,4.0,4.9,4.9,4.9,4.7,4.8,4.8,4.7,4.7,4.4,4.4,4.8,4.7,4.7,4.7,4.7,4.7,4.3,4.8,4.8,4.9,4.7,4.8,4.6,4.8,4.8,4.3,4.4,4.1,4.6,4.4,4.4,4.8,4.9,4.9,4.9,4.9,4.9,4.9,4.6,4.5,4.6,4.5,4.6,4.7,4.7,4.6,4.6,4.8,4.8,4.5,4.5,4.5,4.9,4.6,4.6,4.6,4.6,4.6,4.5,4.5,4.4,4.8,4.5,4.1,4.9,4.5,4.5,4.2,4.8,4.8,4.8,4.5,4.7,4.8,4.7,4.7,4.7,4.4,4.6,4.6,4.6,4.5,4.5,4.5,4.8,4.8,4.6,4.7,4.6,4.9,4.9,4.9,4.9,4.9,4.9,4.9,4.9,4.9,4.8,4.2,4.6,4.6,4.5,4.3,4.6,4.6,4.6,4.7,4.7,4.8,4.8,4.8,4.8,4.7,4.3,4.3,4.5,4.5,4.5,4.5,4.5,4.5,4.5,4.5,4.5,4.5,4.8,4.6,4.6,4.7,4.7,4.6,4.6,4.9,4.9,4.8,4.8,4.6,4.8,4.8,4.7,4.7,4.8,4.1,4.7,4.6,4.6,4.6,4.9,4.0,4.0,4.0,4.0,4.0,4.0,4.0,4.0,4.0,4.5,4.6,4.5,4.4,4.4,4.3,4.3,4.7,4.7,4.7,4.7,4.7,4.8,4.8,4.8,4.8,4.8,4.8,4.6,4.6,4.6,4.6,4.7,4.7,4.7,4.7,4.6,4.7,4.7,4.7,4.8,4.2,4.8,4.7,4.6,4.6,4.8,4.8,4.8,4.8,3.3,4.7,4.3,4.3,4.3,4.8,4.4,4.8,4.8,4.8,4.1,4.0,4.7,4.7,4.7,4.7,4.6,4.6,4.6,4.6,4.6,4.6,4.7,4.7,4.7,4.7,4.7,4.7,4.8,4.1,4.1,4.7,4.7,4.7,4.7,4.4,4.4,4.8,4.8,3.9,3.9,4.4,4.4,4.4,4.5,4.7,4.3,4.6,4.8,4.8,4.8,4.8,4.8,4.8,4.7,4.7,4.7,4.8,4.8,4.7,4.7,4.7,4.3,4.3,4.7,4.8,4.8,4.9,4.4,4.4,4.5,4.5,4.5,4.5,4.4,4.8,4.2,4.8,4.9,4.8,4.7,4.5,4.8,4.6,4.8,4.8,4.4,4.4,4.4,4.4,4.4,4.3,4.3,4.8,4.8,4.8,4.5,4.4,4.8,4.8,4.6,4.3,4.3,4.6,4.6,4.8,4.6,4.6,4.6,4.5,4.8,4.6,4.6,4.6,4.7,4.7,4.7,4.4,4.4,4.7,4.7,4.8,4.7,4.9,4.9,4.9,4.9,4.9,4.9,4.9,4.6,4.6,4.6,4.9,4.9,4.9,4.9,4.8,4.8,4.7,4.7,4.6,4.6,4.5,4.5,4.3,4.3,4.6,4.6,4.6,4.6,4.3,4.8,4.8,4.8,4.8,4.8,4.6,4.8,4.5,4.7,4.5,4.8,4.8,4.8,4.8,4.8,4.3,4.9,4.8,4.7,4.8,4.5,4.6,4.7,4.7,4.8,4.4,4.4,4.4,4.8,4.8,4.8,4.6,4.4,4.5,4.2,4.8,4.8,4.8,4.8,4.8,4.9,4.7,4.7,4.7,4.7],\"xaxis\":\"x\",\"yaxis\":\"y\"},{\"alignmentgroup\":\"True\",\"customdata\":[[\"10-Day Green Smoothie Cleanse\",\"JJ Smith\"],[\"11/22/63: A Novel\",\"Stephen King\"],[\"12 Rules for Life: An Antidote to Chaos\",\"Jordan B. Peterson\"],[\"1984 (Signet Classics)\",\"George Orwell\"],[\"5,000 Awesome Facts (About Everything!) (National Geographic Kids)\",\"National Geographic Kids\"],[\"A Dance with Dragons (A Song of Ice and Fire)\",\"George R. R. Martin\"],[\"A Game of Thrones / A Clash of Kings / A Storm of Swords / A Feast of Crows / A Dance with Dragons\",\"George R. R. Martin\"],[\"A Gentleman in Moscow: A Novel\",\"Amor Towles\"],[\"A Higher Loyalty: Truth, Lies, and Leadership\",\"James Comey\"],[\"A Man Called Ove: A Novel\",\"Fredrik Backman\"],[\"A Man Called Ove: A Novel\",\"Fredrik Backman\"],[\"A Patriot's History of the United States: From Columbus's Great Discovery to the War on Terror\",\"Larry Schweikart\"],[\"A Stolen Life: A Memoir\",\"Jaycee Dugard\"],[\"A Wrinkle in Time (Time Quintet)\",\"Madeleine L'Engle\"],[\"Act Like a Lady, Think Like a Man: What Men Really Think About Love, Relationships, Intimacy, and Commitment\",\"Steve Harvey\"],[\"Adult Coloring Book Designs: Stress Relief Coloring Book: Garden Designs, Mandalas, Animals, and Paisley Patterns\",\"Adult Coloring Book Designs\"],[\"Adult Coloring Book: Stress Relieving Animal Designs\",\"Blue Star Coloring\"],[\"Adult Coloring Book: Stress Relieving Patterns\",\"Blue Star Coloring\"],[\"Adult Coloring Books: A Coloring Book for Adults Featuring Mandalas and Henna Inspired Flowers, Animals, and Paisley\\u2026\",\"Coloring Books for Adults\"],[\"Alexander Hamilton\",\"Ron Chernow\"],[\"All the Light We Cannot See\",\"Anthony Doerr\"],[\"All the Light We Cannot See\",\"Anthony Doerr\"],[\"Allegiant\",\"Veronica Roth\"],[\"American Sniper: The Autobiography of the Most Lethal Sniper in U.S. Military History\",\"Chris Kyle\"],[\"And the Mountains Echoed\",\"Khaled Hosseini\"],[\"Arguing with Idiots: How to Stop Small Minds and Big Government\",\"Glenn Beck\"],[\"Astrophysics for People in a Hurry\",\"Neil deGrasse Tyson\"],[\"Autobiography of Mark Twain, Vol. 1\",\"Mark Twain\"],[\"Baby Touch and Feel: Animals\",\"DK\"],[\"Balance (Angie's Extreme Stress Menders)\",\"Angie Grace\"],[\"Barefoot Contessa Foolproof: Recipes You Can Trust: A Cookbook\",\"Ina Garten\"],[\"Barefoot Contessa, How Easy Is That?: Fabulous Recipes & Easy Tips\",\"Ina Garten\"],[\"Becoming\",\"Michelle Obama\"],[\"Becoming\",\"Michelle Obama\"],[\"Being Mortal: Medicine and What Matters in the End\",\"Atul Gawande\"],[\"Between the World and Me\",\"Ta-Nehisi Coates\"],[\"Between the World and Me\",\"Ta-Nehisi Coates\"],[\"Born to Run\",\"Bruce Springsteen\"],[\"Breaking Dawn (The Twilight Saga, Book 4)\",\"Stephenie Meyer\"],[\"Broke: The Plan to Restore Our Trust, Truth and Treasure\",\"Glenn Beck\"],[\"Brown Bear, Brown Bear, What Do You See?\",\"Bill Martin Jr.\"],[\"Brown Bear, Brown Bear, What Do You See?\",\"Bill Martin Jr.\"],[\"Cabin Fever (Diary of a Wimpy Kid, Book 6)\",\"Jeff Kinney\"],[\"Calm the F*ck Down: An Irreverent Adult Coloring Book (Irreverent Book Series)\",\"Sasha O'Hara\"],[\"Can't Hurt Me: Master Your Mind and Defy the Odds\",\"David Goggins\"],[\"Capital in the Twenty First Century\",\"Thomas Piketty\"],[\"Catching Fire (The Hunger Games)\",\"Suzanne Collins\"],[\"Catching Fire (The Hunger Games)\",\"Suzanne Collins\"],[\"Catching Fire (The Hunger Games)\",\"Suzanne Collins\"],[\"Cravings: Recipes for All the Food You Want to Eat: A Cookbook\",\"Chrissy Teigen\"],[\"Crazy Love: Overwhelmed by a Relentless God\",\"Francis Chan\"],[\"Crazy Love: Overwhelmed by a Relentless God\",\"Francis Chan\"],[\"Crazy Love: Overwhelmed by a Relentless God\",\"Francis Chan\"],[\"Crazy Rich Asians (Crazy Rich Asians Trilogy)\",\"Kevin Kwan\"],[\"Creative Haven Creative Cats Coloring Book (Adult Coloring)\",\"Marjorie Sarnat\"],[\"Creative Haven Owls Coloring Book (Adult Coloring)\",\"Marjorie Sarnat\"],[\"Cutting for Stone\",\"Abraham Verghese\"],[\"Cutting for Stone\",\"Abraham Verghese\"],[\"Daring Greatly: How the Courage to Be Vulnerable Transforms the Way We Live, Love, Parent, and Lead\",\"Brene\\u0301 Brown\"],[\"David and Goliath: Underdogs, Misfits, and the Art of Battling Giants\",\"Malcolm Gladwell\"],[\"Dead And Gone: A Sookie Stackhouse Novel (Sookie Stackhouse/True Blood)\",\"Charlaine Harris\"],[\"Dead in the Family (Sookie Stackhouse/True Blood, Book 10)\",\"Charlaine Harris\"],[\"Dead Reckoning (Sookie Stackhouse/True Blood, Book 11)\",\"Charlaine Harris\"],[\"Dear Zoo: A Lift-the-Flap Book\",\"Rod Campbell\"],[\"Dear Zoo: A Lift-the-Flap Book\",\"Rod Campbell\"],[\"Dear Zoo: A Lift-the-Flap Book\",\"Rod Campbell\"],[\"Dear Zoo: A Lift-the-Flap Book\",\"Rod Campbell\"],[\"Decision Points\",\"George W. Bush\"],[\"Delivering Happiness: A Path to Profits, Passion, and Purpose\",\"Tony Hsieh\"],[\"Diagnostic and Statistical Manual of Mental Disorders, 5th Edition: DSM-5\",\"American Psychiatric Association\"],[\"Diagnostic and Statistical Manual of Mental Disorders, 5th Edition: DSM-5\",\"American Psychiatric Association\"],[\"Diary of a Wimpy Kid: Hard Luck, Book 8\",\"Jeff Kinney\"],[\"Diary of a Wimpy Kid: The Last Straw (Book 3)\",\"Jeff Kinney\"],[\"Diary of a Wimpy Kid: The Long Haul\",\"Jeff Kinney\"],[\"Difficult Riddles For Smart Kids: 300 Difficult Riddles And Brain Teasers Families Will Love (Books for Smart Kids)\",\"M Prefontaine\"],[\"Divergent\",\"Veronica Roth\"],[\"Divergent\",\"Veronica Roth\"],[\"Divergent / Insurgent\",\"Veronica Roth\"],[\"Divine Soul Mind Body Healing and Transmission System: The Divine Way to Heal You, Humanity, Mother Earth, and All\\u2026\",\"Zhi Gang Sha\"],[\"Doctor Sleep: A Novel\",\"Stephen King\"],[\"Dog Days (Diary of a Wimpy Kid, Book 4) (Volume 4)\",\"Jeff Kinney\"],[\"Dog Man and Cat Kid: From the Creator of Captain Underpants (Dog Man #4)\",\"Dav Pilkey\"],[\"Dog Man: A Tale of Two Kitties: From the Creator of Captain Underpants (Dog Man #3)\",\"Dav Pilkey\"],[\"Dog Man: Brawl of the Wild: From the Creator of Captain Underpants (Dog Man #6)\",\"Dav Pilkey\"],[\"Dog Man: Brawl of the Wild: From the Creator of Captain Underpants (Dog Man #6)\",\"Dav Pilkey\"],[\"Dog Man: Fetch-22: From the Creator of Captain Underpants (Dog Man #8)\",\"Dav Pilkey\"],[\"Dog Man: For Whom the Ball Rolls: From the Creator of Captain Underpants (Dog Man #7)\",\"Dav Pilkey\"],[\"Dog Man: Lord of the Fleas: From the Creator of Captain Underpants (Dog Man #5)\",\"Dav Pilkey\"],[\"Double Down (Diary of a Wimpy Kid #11)\",\"Jeff Kinney\"],[\"Dover Creative Haven Art Nouveau Animal Designs Coloring Book (Creative Haven Coloring Books)\",\"Marty Noble\"],[\"Drive: The Surprising Truth About What Motivates Us\",\"Daniel H. Pink\"],[\"Eat This Not That! Supermarket Survival Guide: The No-Diet Weight Loss Solution\",\"David Zinczenko\"],[\"Eat This, Not That! Thousands of Simple Food Swaps that Can Save You 10, 20, 30 Pounds--or More!\",\"David Zinczenko\"],[\"Eat to Live: The Amazing Nutrient-Rich Program for Fast and Sustained Weight Loss, Revised Edition\",\"Joel Fuhrman MD\"],[\"Eat to Live: The Amazing Nutrient-Rich Program for Fast and Sustained Weight Loss, Revised Edition\",\"Joel Fuhrman MD\"],[\"Eclipse (Twilight Sagas)\",\"Stephenie Meyer\"],[\"Eclipse (Twilight)\",\"Stephenie Meyer\"],[\"Educated: A Memoir\",\"Tara Westover\"],[\"Educated: A Memoir\",\"Tara Westover\"],[\"Enchanted Forest: An Inky Quest and Coloring book (Activity Books, Mindfulness and Meditation, Illustrated Floral Prints\\u2026\",\"Johanna Basford\"],[\"Fahrenheit 451\",\"Ray Bradbury\"],[\"Fahrenheit 451\",\"Ray Bradbury\"],[\"Fantastic Beasts and Where to Find Them: The Original Screenplay (Harry Potter)\",\"J.K. Rowling\"],[\"Fear: Trump in the White House\",\"Bob Woodward\"],[\"Fifty Shades Darker\",\"E L James\"],[\"Fifty Shades Freed: Book Three of the Fifty Shades Trilogy (Fifty Shades of Grey Series) (English Edition)\",\"E L James\"],[\"Fifty Shades of Grey: Book One of the Fifty Shades Trilogy (Fifty Shades of Grey Series)\",\"E L James\"],[\"Fifty Shades of Grey: Book One of the Fifty Shades Trilogy (Fifty Shades of Grey Series)\",\"E L James\"],[\"Fifty Shades Trilogy (Fifty Shades of Grey / Fifty Shades Darker / Fifty Shades Freed)\",\"E L James\"],[\"Fire and Fury: Inside the Trump White House\",\"Michael Wolff\"],[\"First 100 Words\",\"Roger Priddy\"],[\"First 100 Words\",\"Roger Priddy\"],[\"First 100 Words\",\"Roger Priddy\"],[\"First 100 Words\",\"Roger Priddy\"],[\"First 100 Words\",\"Roger Priddy\"],[\"Food Rules: An Eater's Manual\",\"Michael Pollan\"],[\"Frozen (Little Golden Book)\",\"RH Disney\"],[\"Game Change: Obama and the Clintons, McCain and Palin, and the Race of a Lifetime\",\"John Heilemann\"],[\"Game of Thrones Boxed Set: A Game of Thrones/A Clash of Kings/A Storm of Swords/A Feast for Crows\",\"George R.R. Martin\"],[\"Game of Thrones Boxed Set: A Game of Thrones/A Clash of Kings/A Storm of Swords/A Feast for Crows\",\"George R.R. Martin\"],[\"Game of Thrones Boxed Set: A Game of Thrones/A Clash of Kings/A Storm of Swords/A Feast for Crows\",\"George R.R. Martin\"],[\"George Washington's Sacred Fire\",\"Peter A. Lillback\"],[\"George Washington's Secret Six: The Spy Ring That Saved the American Revolution\",\"Brian Kilmeade\"],[\"Giraffes Can't Dance\",\"Giles Andreae\"],[\"Giraffes Can't Dance\",\"Giles Andreae\"],[\"Giraffes Can't Dance\",\"Giles Andreae\"],[\"Giraffes Can't Dance\",\"Giles Andreae\"],[\"Giraffes Can't Dance\",\"Giles Andreae\"],[\"Girl, Stop Apologizing: A Shame-Free Plan for Embracing and Achieving Your Goals\",\"Rachel Hollis\"],[\"Girl, Wash Your Face: Stop Believing the Lies About Who You Are So You Can Become Who You Were Meant to Be\",\"Rachel Hollis\"],[\"Girl, Wash Your Face: Stop Believing the Lies About Who You Are So You Can Become Who You Were Meant to Be\",\"Rachel Hollis\"],[\"Glenn Beck's Common Sense: The Case Against an Out-of-Control Government, Inspired by Thomas Paine\",\"Glenn Beck\"],[\"Go Set a Watchman: A Novel\",\"Harper Lee\"],[\"Go the F**k to Sleep\",\"Adam Mansbach\"],[\"Going Rogue: An American Life\",\"Sarah Palin\"],[\"Gone Girl\",\"Gillian Flynn\"],[\"Gone Girl\",\"Gillian Flynn\"],[\"Gone Girl\",\"Gillian Flynn\"],[\"Good Days Start With Gratitude: A 52 Week Guide To Cultivate An Attitude Of Gratitude: Gratitude Journal\",\"Pretty Simple Press\"],[\"Good to Great: Why Some Companies Make the Leap and Others Don't\",\"Jim Collins\"],[\"Good to Great: Why Some Companies Make the Leap and Others Don't\",\"Jim Collins\"],[\"Good to Great: Why Some Companies Make the Leap and Others Don't\",\"Jim Collins\"],[\"Good to Great: Why Some Companies Make the Leap and Others Don't\",\"Jim Collins\"],[\"Goodnight Moon\",\"Margaret Wise Brown\"],[\"Goodnight Moon\",\"Margaret Wise Brown\"],[\"Goodnight Moon\",\"Margaret Wise Brown\"],[\"Goodnight, Goodnight Construction Site (Hardcover Books for Toddlers, Preschool Books for Kids)\",\"Sherri Duskey Rinker\"],[\"Goodnight, Goodnight Construction Site (Hardcover Books for Toddlers, Preschool Books for Kids)\",\"Sherri Duskey Rinker\"],[\"Grain Brain: The Surprising Truth about Wheat, Carbs, and Sugar--Your Brain's Silent Killers\",\"David Perlmutter MD\"],[\"Grey: Fifty Shades of Grey as Told by Christian (Fifty Shades of Grey Series)\",\"E L James\"],[\"Guts\",\"Raina Telgemeier\"],[\"Hamilton: The Revolution\",\"Lin-Manuel Miranda\"],[\"Happy, Happy, Happy: My Life and Legacy as the Duck Commander\",\"Phil Robertson\"],[\"Harry Potter and the Chamber of Secrets: The Illustrated Edition (Harry Potter, Book 2)\",\"J.K. Rowling\"],[\"Harry Potter and the Cursed Child, Parts 1 & 2, Special Rehearsal Edition Script\",\"J.K. Rowling\"],[\"Harry Potter and the Goblet of Fire: The Illustrated Edition (Harry Potter, Book 4) (4)\",\"J. K. Rowling\"],[\"Harry Potter and the Prisoner of Azkaban: The Illustrated Edition (Harry Potter, Book 3)\",\"J.K. Rowling\"],[\"Harry Potter and the Sorcerer's Stone: The Illustrated Edition (Harry Potter, Book 1)\",\"J.K. Rowling\"],[\"Harry Potter Coloring Book\",\"Scholastic\"],[\"Harry Potter Paperback Box Set (Books 1-7)\",\"J. K. Rowling\"],[\"Have a Little Faith: A True Story\",\"Mitch Albom\"],[\"Heaven is for Real: A Little Boy's Astounding Story of His Trip to Heaven and Back\",\"Todd Burpo\"],[\"Heaven is for Real: A Little Boy's Astounding Story of His Trip to Heaven and Back\",\"Todd Burpo\"],[\"Hillbilly Elegy: A Memoir of a Family and Culture in Crisis\",\"J. D. Vance\"],[\"Hillbilly Elegy: A Memoir of a Family and Culture in Crisis\",\"J. D. Vance\"],[\"Homebody: A Guide to Creating Spaces You Never Want to Leave\",\"Joanna Gaines\"],[\"How to Win Friends & Influence People\",\"Dale Carnegie\"],[\"How to Win Friends & Influence People\",\"Dale Carnegie\"],[\"How to Win Friends & Influence People\",\"Dale Carnegie\"],[\"How to Win Friends & Influence People\",\"Dale Carnegie\"],[\"How to Win Friends & Influence People\",\"Dale Carnegie\"],[\"Howard Stern Comes Again\",\"Howard Stern\"],[\"Humans of New York\",\"Brandon Stanton\"],[\"Humans of New York\",\"Brandon Stanton\"],[\"Humans of New York : Stories\",\"Brandon Stanton\"],[\"Hyperbole and a Half: Unfortunate Situations, Flawed Coping Mechanisms, Mayhem, and Other Things That Happened\",\"Allie Brosh\"],[\"I Am Confident, Brave & Beautiful: A Coloring Book for Girls\",\"Hopscotch Girls\"],[\"I, Alex Cross\",\"James Patterson\"],[\"If Animals Kissed Good Night\",\"Ann Whitford Paul\"],[\"If Animals Kissed Good Night\",\"Ann Whitford Paul\"],[\"If I Stay\",\"Gayle Forman\"],[\"In the Garden of Beasts: Love, Terror, and an American Family in Hitler's Berlin\",\"Eric Larson\"],[\"Inferno\",\"Dan Brown\"],[\"Inheritance: Book IV (Inheritance Cycle)\",\"Christopher Paolini\"],[\"Instant Pot Pressure Cooker Cookbook: 500 Everyday Recipes for Beginners and Advanced Users. Try Easy and Healthy\\u2026\",\"Jennifer Smith\"],[\"Instant Pot Pressure Cooker Cookbook: 500 Everyday Recipes for Beginners and Advanced Users. Try Easy and Healthy\\u2026\",\"Jennifer Smith\"],[\"It's Not Supposed to Be This Way: Finding Unexpected Strength When Disappointments Leave You Shattered\",\"Lysa TerKeurst\"],[\"Jesus Calling: Enjoying Peace in His Presence (with Scripture References)\",\"Sarah Young\"],[\"Jesus Calling: Enjoying Peace in His Presence (with Scripture References)\",\"Sarah Young\"],[\"Jesus Calling: Enjoying Peace in His Presence (with Scripture References)\",\"Sarah Young\"],[\"Jesus Calling: Enjoying Peace in His Presence (with Scripture References)\",\"Sarah Young\"],[\"Jesus Calling: Enjoying Peace in His Presence (with Scripture References)\",\"Sarah Young\"],[\"Jesus Calling: Enjoying Peace in His Presence (with Scripture References)\",\"Sarah Young\"],[\"JOURNEY TO THE ICE P\",\"RH Disney\"],[\"Joyland (Hard Case Crime)\",\"Stephen King\"],[\"Killers of the Flower Moon: The Osage Murders and the Birth of the FBI\",\"David Grann\"],[\"Killing Jesus (Bill O'Reilly's Killing Series)\",\"Bill O'Reilly\"],[\"Killing Kennedy: The End of Camelot\",\"Bill O'Reilly\"],[\"Killing Lincoln: The Shocking Assassination that Changed America Forever (Bill O'Reilly's Killing Series)\",\"Bill O'Reilly\"],[\"Killing Lincoln: The Shocking Assassination that Changed America Forever (Bill O'Reilly's Killing Series)\",\"Bill O'Reilly\"],[\"Killing Patton: The Strange Death of World War II's Most Audacious General (Bill O'Reilly's Killing Series)\",\"Bill O'Reilly\"],[\"Killing Reagan: The Violent Assault That Changed a Presidency (Bill O'Reilly's Killing Series)\",\"Bill O'Reilly\"],[\"Killing the Rising Sun: How America Vanquished World War II Japan (Bill O'Reilly's Killing Series)\",\"Bill O'Reilly\"],[\"Kitchen Confidential Updated Edition: Adventures in the Culinary Underbelly (P.S.)\",\"Anthony Bourdain\"],[\"Knock-Knock Jokes for Kids\",\"Rob Elliott\"],[\"Knock-Knock Jokes for Kids\",\"Rob Elliott\"],[\"Knock-Knock Jokes for Kids\",\"Rob Elliott\"],[\"Last Week Tonight with John Oliver Presents A Day in the Life of Marlon Bundo (Better Bundo Book, LGBT Children\\u0092s Book)\",\"Jill Twiss\"],[\"Laugh-Out-Loud Jokes for Kids\",\"Rob Elliott\"],[\"Laugh-Out-Loud Jokes for Kids\",\"Rob Elliott\"],[\"Laugh-Out-Loud Jokes for Kids\",\"Rob Elliott\"],[\"Laugh-Out-Loud Jokes for Kids\",\"Rob Elliott\"],[\"Laugh-Out-Loud Jokes for Kids\",\"Rob Elliott\"],[\"Lean In: Women, Work, and the Will to Lead\",\"Sheryl Sandberg\"],[\"Leonardo da Vinci\",\"Walter Isaacson\"],[\"Lettering and Modern Calligraphy: A Beginner's Guide: Learn Hand Lettering and Brush Lettering\",\"Paper Peony Press\"],[\"Liberty and Tyranny: A Conservative Manifesto\",\"Mark R. Levin\"],[\"Life\",\"Keith Richards\"],[\"Little Bee: A Novel\",\"Chris Cleave\"],[\"Little Blue Truck\",\"Alice Schertle\"],[\"Little Fires Everywhere\",\"Celeste Ng\"],[\"Looking for Alaska\",\"John Green\"],[\"Love Wins: A Book About Heaven, Hell, and the Fate of Every Person Who Ever Lived\",\"Rob Bell\"],[\"Love You Forever\",\"Robert Munsch\"],[\"Love You Forever\",\"Robert Munsch\"],[\"Magnolia Table: A Collection of Recipes for Gathering\",\"Joanna Gaines\"],[\"Make It Ahead: A Barefoot Contessa Cookbook\",\"Ina Garten\"],[\"Make Your Bed: Little Things That Can Change Your Life...And Maybe the World\",\"Admiral William H. McRaven\"],[\"Mastering the Art of French Cooking, Vol. 2\",\"Julia Child\"],[\"Milk and Honey\",\"Rupi Kaur\"],[\"Milk and Honey\",\"Rupi Kaur\"],[\"Milk and Honey\",\"Rupi Kaur\"],[\"Milk and Vine: Inspirational Quotes From Classic Vines\",\"Adam Gasiewski\"],[\"Mindset: The New Psychology of Success\",\"Carol S. Dweck\"],[\"Mindset: The New Psychology of Success\",\"Carol S. Dweck\"],[\"Mindset: The New Psychology of Success\",\"Carol S. Dweck\"],[\"Mockingjay (The Hunger Games)\",\"Suzanne Collins\"],[\"Mockingjay (The Hunger Games)\",\"Suzanne Collins\"],[\"Mockingjay (The Hunger Games)\",\"Suzanne Collins\"],[\"National Geographic Kids Why?: Over 1,111 Answers to Everything\",\"Crispin Boyer\"],[\"National Geographic Little Kids First Big Book of Why (National Geographic Little Kids First Big Books)\",\"Amy Shields\"],[\"New Moon (The Twilight Saga)\",\"Stephenie Meyer\"],[\"Night (Night)\",\"Elie Wiesel\"],[\"No Easy Day: The Autobiography of a Navy Seal: The Firsthand Account of the Mission That Killed Osama Bin Laden\",\"Mark Owen\"],[\"Obama: An Intimate Portrait\",\"Pete Souza\"],[\"Oh, the Places You'll Go!\",\"Dr. Seuss\"],[\"Oh, the Places You'll Go!\",\"Dr. Seuss\"],[\"Oh, the Places You'll Go!\",\"Dr. Seuss\"],[\"Oh, the Places You'll Go!\",\"Dr. Seuss\"],[\"Oh, the Places You'll Go!\",\"Dr. Seuss\"],[\"Oh, the Places You'll Go!\",\"Dr. Seuss\"],[\"Oh, the Places You'll Go!\",\"Dr. Seuss\"],[\"Oh, the Places You'll Go!\",\"Dr. Seuss\"],[\"Old School (Diary of a Wimpy Kid #10)\",\"Jeff Kinney\"],[\"Olive Kitteridge\",\"Elizabeth Strout\"],[\"One Thousand Gifts: A Dare to Live Fully Right Where You Are\",\"Ann Voskamp\"],[\"One Thousand Gifts: A Dare to Live Fully Right Where You Are\",\"Ann Voskamp\"],[\"Option B: Facing Adversity, Building Resilience, and Finding Joy\",\"Sheryl Sandberg\"],[\"Origin: A Novel (Robert Langdon)\",\"Dan Brown\"],[\"Orphan Train\",\"Christina Baker Kline\"],[\"Outliers: The Story of Success\",\"Malcolm Gladwell\"],[\"Outliers: The Story of Success\",\"Malcolm Gladwell\"],[\"P is for Potty! (Sesame Street) (Lift-the-Flap)\",\"Naomi Kleinberg\"],[\"P is for Potty! (Sesame Street) (Lift-the-Flap)\",\"Naomi Kleinberg\"],[\"Percy Jackson and the Olympians Paperback Boxed Set (Books 1-3)\",\"Rick Riordan\"],[\"Player's Handbook (Dungeons & Dragons)\",\"Wizards RPG Team\"],[\"Player's Handbook (Dungeons & Dragons)\",\"Wizards RPG Team\"],[\"Player's Handbook (Dungeons & Dragons)\",\"Wizards RPG Team\"],[\"Pok\\u00e9mon Deluxe Essential Handbook: The Need-to-Know Stats and Facts on Over 700 Pok\\u00e9mon\",\"Scholastic\"],[\"Proof of Heaven: A Neurosurgeon's Journey into the Afterlife\",\"Eben Alexander\"],[\"Proof of Heaven: A Neurosurgeon's Journey into the Afterlife\",\"Eben Alexander\"],[\"Publication Manual of the American Psychological Association, 6th Edition\",\"American Psychological Association\"],[\"Publication Manual of the American Psychological Association, 6th Edition\",\"American Psychological Association\"],[\"Publication Manual of the American Psychological Association, 6th Edition\",\"American Psychological Association\"],[\"Publication Manual of the American Psychological Association, 6th Edition\",\"American Psychological Association\"],[\"Publication Manual of the American Psychological Association, 6th Edition\",\"American Psychological Association\"],[\"Publication Manual of the American Psychological Association, 6th Edition\",\"American Psychological Association\"],[\"Publication Manual of the American Psychological Association, 6th Edition\",\"American Psychological Association\"],[\"Publication Manual of the American Psychological Association, 6th Edition\",\"American Psychological Association\"],[\"Publication Manual of the American Psychological Association, 6th Edition\",\"American Psychological Association\"],[\"Publication Manual of the American Psychological Association, 6th Edition\",\"American Psychological Association\"],[\"Puppy Birthday to You! (Paw Patrol) (Little Golden Book)\",\"Golden Books\"],[\"Quiet: The Power of Introverts in a World That Can't Stop Talking\",\"Susan Cain\"],[\"Quiet: The Power of Introverts in a World That Can't Stop Talking\",\"Susan Cain\"],[\"Radical: Taking Back Your Faith from the American Dream\",\"David Platt\"],[\"Radical: Taking Back Your Faith from the American Dream\",\"David Platt\"],[\"Ready Player One: A Novel\",\"Ernest Cline\"],[\"Ready Player One: A Novel\",\"Ernest Cline\"],[\"Rush Revere and the Brave Pilgrims: Time-Travel Adventures with Exceptional Americans (1)\",\"Rush Limbaugh\"],[\"Rush Revere and the First Patriots: Time-Travel Adventures With Exceptional Americans (2)\",\"Rush Limbaugh\"],[\"Salt, Fat, Acid, Heat: Mastering the Elements of Good Cooking\",\"Samin Nosrat\"],[\"Salt, Fat, Acid, Heat: Mastering the Elements of Good Cooking\",\"Samin Nosrat\"],[\"Sarah's Key\",\"Tatiana de Rosnay\"],[\"School Zone - Big Preschool Workbook - Ages 4 and Up, Colors, Shapes, Numbers 1-10, Alphabet, Pre-Writing, Pre-Reading\\u2026\",\"School Zone\"],[\"School Zone - Big Preschool Workbook - Ages 4 and Up, Colors, Shapes, Numbers 1-10, Alphabet, Pre-Writing, Pre-Reading\\u2026\",\"School Zone\"],[\"Secret Garden: An Inky Treasure Hunt and Coloring Book (For Adults, mindfulness coloring)\",\"Johanna Basford\"],[\"Sh*t My Dad Says\",\"Justin Halpern\"],[\"Ship of Fools: How a Selfish Ruling Class Is Bringing America to the Brink of Revolution\",\"Tucker Carlson\"],[\"Shred: The Revolutionary Diet: 6 Weeks 4 Inches 2 Sizes\",\"Ian K. Smith M.D.\"],[\"Sookie Stackhouse\",\"Charlaine Harris\"],[\"Soul Healing Miracles: Ancient and New Sacred Wisdom, Knowledge, and Practical Techniques for Healing the Spiritual\\u2026\",\"Zhi Gang Sha\"],[\"Steve Jobs\",\"Walter Isaacson\"],[\"Steve Jobs\",\"Walter Isaacson\"],[\"Strange Planet (Strange Planet Series)\",\"Nathan W. Pyle\"],[\"StrengthsFinder 2.0\",\"Gallup\"],[\"StrengthsFinder 2.0\",\"Gallup\"],[\"StrengthsFinder 2.0\",\"Gallup\"],[\"StrengthsFinder 2.0\",\"Gallup\"],[\"StrengthsFinder 2.0\",\"Gallup\"],[\"StrengthsFinder 2.0\",\"Gallup\"],[\"StrengthsFinder 2.0\",\"Gallup\"],[\"StrengthsFinder 2.0\",\"Gallup\"],[\"StrengthsFinder 2.0\",\"Gallup\"],[\"Super Freakonomics: Global Cooling, Patriotic Prostitutes, and Why Suicide Bombers Should Buy Life Insurance\",\"Steven D. Levitt\"],[\"Switch: How to Change Things When Change Is Hard\",\"Chip Heath\"],[\"Sycamore Row (Jake Brigance)\",\"John Grisham\"],[\"Teach Like a Champion: 49 Techniques that Put Students on the Path to College\",\"Doug Lemov\"],[\"Teach Like a Champion: 49 Techniques that Put Students on the Path to College\",\"Doug Lemov\"],[\"The 17 Day Diet: A Doctor's Plan Designed for Rapid Results\",\"Mike Moreno\"],[\"The 4 Hour Body: An Uncommon Guide to Rapid Fat Loss, Incredible Sex and Becoming Superhuman\",\"Timothy Ferriss\"],[\"The 5 Love Languages: The Secret to Love That Lasts\",\"Gary Chapman\"],[\"The 5 Love Languages: The Secret to Love That Lasts\",\"Gary Chapman\"],[\"The 5 Love Languages: The Secret to Love That Lasts\",\"Gary Chapman\"],[\"The 5 Love Languages: The Secret to Love That Lasts\",\"Gary Chapman\"],[\"The 5 Love Languages: The Secret to Love That Lasts\",\"Gary Chapman\"],[\"The 5 Love Languages: The Secret to Love that Lasts\",\"Gary Chapman\"],[\"The 5 Love Languages: The Secret to Love that Lasts\",\"Gary Chapman\"],[\"The 5 Love Languages: The Secret to Love that Lasts\",\"Gary Chapman\"],[\"The 5 Love Languages: The Secret to Love that Lasts\",\"Gary Chapman\"],[\"The 5 Love Languages: The Secret to Love that Lasts\",\"Gary Chapman\"],[\"The 5000 Year Leap\",\"W. Cleon Skousen\"],[\"The 7 Habits of Highly Effective People: Powerful Lessons in Personal Change\",\"Stephen R. Covey\"],[\"The 7 Habits of Highly Effective People: Powerful Lessons in Personal Change\",\"Stephen R. Covey\"],[\"The 7 Habits of Highly Effective People: Powerful Lessons in Personal Change\",\"Stephen R. Covey\"],[\"The 7 Habits of Highly Effective People: Powerful Lessons in Personal Change\",\"Stephen R. Covey\"],[\"The 7 Habits of Highly Effective People: Powerful Lessons in Personal Change\",\"Stephen R. Covey\"],[\"The 7 Habits of Highly Effective People: Powerful Lessons in Personal Change\",\"Stephen R. Covey\"],[\"The 7 Habits of Highly Effective People: Powerful Lessons in Personal Change\",\"Stephen R. Covey\"],[\"The Alchemist\",\"Paulo Coelho\"],[\"The Amateur\",\"Edward Klein\"],[\"The Art of Racing in the Rain: A Novel\",\"Garth Stein\"],[\"The Art of Racing in the Rain: A Novel\",\"Garth Stein\"],[\"The Big Short: Inside the Doomsday Machine\",\"Michael Lewis\"],[\"The Blood of Olympus (The Heroes of Olympus (5))\",\"Rick Riordan\"],[\"The Blood Sugar Solution: The UltraHealthy Program for Losing Weight, Preventing Disease, and Feeling Great Now!\",\"Mark Hyman M.D.\"],[\"The Body Keeps the Score: Brain, Mind, and Body in the Healing of Trauma\",\"Bessel van der Kolk M.D.\"],[\"The Book of Basketball: The NBA According to The Sports Guy\",\"Bill Simmons\"],[\"The Book Thief\",\"Markus Zusak\"],[\"The Book Thief\",\"Markus Zusak\"],[\"The Book with No Pictures\",\"B. J. Novak\"],[\"The Book with No Pictures\",\"B. J. Novak\"],[\"The Boys in the Boat: Nine Americans and Their Epic Quest for Gold at the 1936 Berlin Olympics\",\"Daniel James Brown\"],[\"The Boys in the Boat: Nine Americans and Their Epic Quest for Gold at the 1936 Berlin Olympics\",\"Daniel James Brown\"],[\"The Casual Vacancy\",\"J.K. Rowling\"],[\"The China Study: The Most Comprehensive Study of Nutrition Ever Conducted And the Startling Implications for Diet\\u2026\",\"Thomas Campbell\"],[\"The Complete Ketogenic Diet for Beginners: Your Essential Guide to Living the Keto Lifestyle\",\"Amy Ramos\"],[\"The Complete Ketogenic Diet for Beginners: Your Essential Guide to Living the Keto Lifestyle\",\"Amy Ramos\"],[\"The Confession: A Novel\",\"John Grisham\"],[\"The Constitution of the United States\",\"Delegates of the Constitutional\\u0085\"],[\"The Daily Show with Jon Stewart Presents Earth (The Book): A Visitor's Guide to the Human Race\",\"Jon Stewart\"],[\"The Day the Crayons Quit\",\"Drew Daywalt\"],[\"The Day the Crayons Quit\",\"Drew Daywalt\"],[\"The Day the Crayons Quit\",\"Drew Daywalt\"],[\"The Dukan Diet: 2 Steps to Lose the Weight, 2 Steps to Keep It Off Forever\",\"Pierre Dukan\"],[\"The Elegance of the Hedgehog\",\"Muriel Barbery\"],[\"The Fault in Our Stars\",\"John Green\"],[\"The Fault in Our Stars\",\"John Green\"],[\"The Fault in Our Stars\",\"John Green\"],[\"The Fault in Our Stars\",\"John Green\"],[\"The Five Dysfunctions of a Team: A Leadership Fable\",\"Patrick Lencioni\"],[\"The Five Dysfunctions of a Team: A Leadership Fable\",\"Patrick Lencioni\"],[\"The Five Dysfunctions of a Team: A Leadership Fable\",\"Patrick Lencioni\"],[\"The Five Dysfunctions of a Team: A Leadership Fable\",\"Patrick Lencioni\"],[\"The Five Dysfunctions of a Team: A Leadership Fable\",\"Patrick Lencioni\"],[\"The Five Love Languages: How to Express Heartfelt Commitment to Your Mate\",\"Gary Chapman\"],[\"The Four Agreements: A Practical Guide to Personal Freedom (A Toltec Wisdom Book)\",\"Don Miguel Ruiz\"],[\"The Four Agreements: A Practical Guide to Personal Freedom (A Toltec Wisdom Book)\",\"Don Miguel Ruiz\"],[\"The Four Agreements: A Practical Guide to Personal Freedom (A Toltec Wisdom Book)\",\"Don Miguel Ruiz\"],[\"The Four Agreements: A Practical Guide to Personal Freedom (A Toltec Wisdom Book)\",\"Don Miguel Ruiz\"],[\"The Four Agreements: A Practical Guide to Personal Freedom (A Toltec Wisdom Book)\",\"Don Miguel Ruiz\"],[\"The Four Agreements: A Practical Guide to Personal Freedom (A Toltec Wisdom Book)\",\"Don Miguel Ruiz\"],[\"The Getaway\",\"Jeff Kinney\"],[\"The Girl on the Train\",\"Paula Hawkins\"],[\"The Girl on the Train\",\"Paula Hawkins\"],[\"The Girl Who Kicked the Hornet's Nest (Millennium Trilogy)\",\"Stieg Larsson\"],[\"The Girl Who Kicked the Hornet's Nest (Millennium Trilogy)\",\"Stieg Larsson\"],[\"The Girl Who Played with Fire (Millennium Series)\",\"Stieg Larsson\"],[\"The Girl Who Played with Fire (Millennium)\",\"Stieg Larsson\"],[\"The Girl with the Dragon Tattoo (Millennium Series)\",\"Stieg Larsson\"],[\"The Girl with the Dragon Tattoo (Millennium Series)\",\"Stieg Larsson\"],[\"The Going-To-Bed Book\",\"Sandra Boynton\"],[\"The Going-To-Bed Book\",\"Sandra Boynton\"],[\"The Goldfinch: A Novel (Pulitzer Prize for Fiction)\",\"Donna Tartt\"],[\"The Goldfinch: A Novel (Pulitzer Prize for Fiction)\",\"Donna Tartt\"],[\"The Great Gatsby\",\"F. Scott Fitzgerald\"],[\"The Great Gatsby\",\"F. Scott Fitzgerald\"],[\"The Great Gatsby\",\"F. Scott Fitzgerald\"],[\"The Guardians: A Novel\",\"John Grisham\"],[\"The Guernsey Literary and Potato Peel Pie Society\",\"Mary Ann Shaffer\"],[\"The Handmaid's Tale\",\"Margaret Atwood\"],[\"The Harbinger: The Ancient Mystery that Holds the Secret of America's Future\",\"Jonathan Cahn\"],[\"The Hate U Give\",\"Angie Thomas\"],[\"The Help\",\"Kathryn Stockett\"],[\"The Help\",\"Kathryn Stockett\"],[\"The Help\",\"Kathryn Stockett\"],[\"The Help\",\"Kathryn Stockett\"],[\"The House of Hades (Heroes of Olympus, Book 4)\",\"Rick Riordan\"],[\"The Hunger Games\",\"Suzanne Collins\"],[\"The Hunger Games (Book 1)\",\"Suzanne Collins\"],[\"The Hunger Games (Book 1)\",\"Suzanne Collins\"],[\"The Hunger Games Trilogy Boxed Set (1)\",\"Suzanne Collins\"],[\"The Hunger Games Trilogy Boxed Set (1)\",\"Suzanne Collins\"],[\"The Immortal Life of Henrietta Lacks\",\"Rebecca Skloot\"],[\"The Immortal Life of Henrietta Lacks\",\"Rebecca Skloot\"],[\"The Immortal Life of Henrietta Lacks\",\"Rebecca Skloot\"],[\"The Instant Pot Electric Pressure Cooker Cookbook: Easy Recipes for Fast & Healthy Meals\",\"Laurel Randolph\"],[\"The Instant Pot Electric Pressure Cooker Cookbook: Easy Recipes for Fast & Healthy Meals\",\"Laurel Randolph\"],[\"The Last Lecture\",\"Randy Pausch\"],[\"The Last Olympian (Percy Jackson and the Olympians, Book 5)\",\"Rick Riordan\"],[\"The Last Olympian (Percy Jackson and the Olympians, Book 5)\",\"Rick Riordan\"],[\"The Legend of Zelda: Hyrule Historia\",\"Patrick Thorpe\"],[\"The Lego Ideas Book: Unlock Your Imagination\",\"Daniel Lipkowitz\"],[\"The Lego Ideas Book: Unlock Your Imagination\",\"Daniel Lipkowitz\"],[\"The Life-Changing Magic of Tidying Up: The Japanese Art of Decluttering and Organizing\",\"Marie Kond\\u014d\"],[\"The Life-Changing Magic of Tidying Up: The Japanese Art of Decluttering and Organizing\",\"Marie Kond\\u014d\"],[\"The Life-Changing Magic of Tidying Up: The Japanese Art of Decluttering and Organizing\",\"Marie Kond\\u014d\"],[\"The Life-Changing Magic of Tidying Up: The Japanese Art of Decluttering and Organizing\",\"Marie Kond\\u014d\"],[\"The Litigators\",\"John Grisham\"],[\"The Lost Hero (Heroes of Olympus, Book 1)\",\"Rick Riordan\"],[\"The Lost Symbol\",\"Dan Brown\"],[\"The Love Dare\",\"Stephen Kendrick\"],[\"The Magnolia Story\",\"Chip Gaines\"],[\"The Mark of Athena (Heroes of Olympus, Book 3)\",\"Rick Riordan\"],[\"The Martian\",\"Andy Weir\"],[\"The Maze Runner (Book 1)\",\"James Dashner\"],[\"The Meltdown (Diary of a Wimpy Kid Book 13)\",\"Jeff Kinney\"],[\"The Mueller Report\",\"The Washington Post\"],[\"The Nightingale: A Novel\",\"Kristin Hannah\"],[\"The Nightingale: A Novel\",\"Kristin Hannah\"],[\"The Official SAT Study Guide\",\"The College Board\"],[\"The Official SAT Study Guide\",\"The College Board\"],[\"The Official SAT Study Guide\",\"The College Board\"],[\"The Official SAT Study Guide\",\"The College Board\"],[\"The Official SAT Study Guide\",\"The College Board\"],[\"The Official SAT Study Guide, 2016 Edition (Official Study Guide for the New Sat)\",\"The College Board\"],[\"The Paris Wife: A Novel\",\"Paula McLain\"],[\"The Pioneer Woman Cooks: A Year of Holidays: 140 Step-by-Step Recipes for Simple, Scrumptious Celebrations\",\"Ree Drummond\"],[\"The Pioneer Woman Cooks: Dinnertime - Comfort Classics, Freezer Food, 16-minute Meals, and Other Delicious Ways to Solve\\u2026\",\"Ree Drummond\"],[\"The Pioneer Woman Cooks: Food from My Frontier\",\"Ree Drummond\"],[\"The Plant Paradox Cookbook: 100 Delicious Recipes to Help You Lose Weight, Heal Your Gut, and Live Lectin-Free\",\"Dr. Steven R Gundry MD\"],[\"The Plant Paradox: The Hidden Dangers in \\\"Healthy\\\" Foods That Cause Disease and Weight Gain\",\"Dr. Steven R Gundry MD\"],[\"The Pout-Pout Fish\",\"Deborah Diesen\"],[\"The Pout-Pout Fish\",\"Deborah Diesen\"],[\"The Power of Habit: Why We Do What We Do in Life and Business\",\"Charles Duhigg\"],[\"The President Is Missing: A Novel\",\"James Patterson\"],[\"The Racketeer\",\"John Grisham\"],[\"The Red Pyramid (The Kane Chronicles, Book 1)\",\"Rick Riordan\"],[\"The Road to Serfdom: Text and Documents--The Definitive Edition (The Collected Works of F. A. Hayek, Volume 2)\",\"F. A. Hayek\"],[\"The Serpent's Shadow (The Kane Chronicles, Book 3)\",\"Rick Riordan\"],[\"The Shack: Where Tragedy Confronts Eternity\",\"William P. Young\"],[\"The Shack: Where Tragedy Confronts Eternity\",\"William P. Young\"],[\"The Short Second Life of Bree Tanner: An Eclipse Novella (The Twilight Saga)\",\"Stephenie Meyer\"],[\"The Silent Patient\",\"Alex Michaelides\"],[\"The Son of Neptune (Heroes of Olympus, Book 2)\",\"Rick Riordan\"],[\"The Subtle Art of Not Giving a F*ck: A Counterintuitive Approach to Living a Good Life\",\"Mark Manson\"],[\"The Subtle Art of Not Giving a F*ck: A Counterintuitive Approach to Living a Good Life\",\"Mark Manson\"],[\"The Subtle Art of Not Giving a F*ck: A Counterintuitive Approach to Living a Good Life\",\"Mark Manson\"],[\"The Sun and Her Flowers\",\"Rupi Kaur\"],[\"The Third Wheel (Diary of a Wimpy Kid, Book 7)\",\"Jeff Kinney\"],[\"The Throne of Fire (The Kane Chronicles, Book 2)\",\"Rick Riordan\"],[\"The Time Traveler's Wife\",\"Audrey Niffenegger\"],[\"The Tipping Point: How Little Things Can Make a Big Difference\",\"Malcolm Gladwell\"],[\"The Total Money Makeover: Classic Edition: A Proven Plan for Financial Fitness\",\"Dave Ramsey\"],[\"The Twilight Saga Collection\",\"Stephenie Meyer\"],[\"The Ugly Truth (Diary of a Wimpy Kid, Book 5)\",\"Jeff Kinney\"],[\"The Unofficial Harry Potter Cookbook: From Cauldron Cakes to Knickerbocker Glory--More Than 150 Magical Recipes for\\u2026\",\"Dinah Bucholz\"],[\"The Very Hungry Caterpillar\",\"Eric Carle\"],[\"The Very Hungry Caterpillar\",\"Eric Carle\"],[\"The Very Hungry Caterpillar\",\"Eric Carle\"],[\"The Very Hungry Caterpillar\",\"Eric Carle\"],[\"The Very Hungry Caterpillar\",\"Eric Carle\"],[\"The Very Hungry Caterpillar\",\"Eric Carle\"],[\"The Very Hungry Caterpillar\",\"Eric Carle\"],[\"The Whole30: The 30-Day Guide to Total Health and Food Freedom\",\"Melissa Hartwig Urban\"],[\"The Whole30: The 30-Day Guide to Total Health and Food Freedom\",\"Melissa Hartwig Urban\"],[\"The Whole30: The 30-Day Guide to Total Health and Food Freedom\",\"Melissa Hartwig Urban\"],[\"The Wonderful Things You Will Be\",\"Emily Winfield Martin\"],[\"The Wonderful Things You Will Be\",\"Emily Winfield Martin\"],[\"The Wonderful Things You Will Be\",\"Emily Winfield Martin\"],[\"The Wonderful Things You Will Be\",\"Emily Winfield Martin\"],[\"The Wonky Donkey\",\"Craig Smith\"],[\"The Wonky Donkey\",\"Craig Smith\"],[\"The Wright Brothers\",\"David McCullough\"],[\"Things That Matter: Three Decades of Passions, Pastimes and Politics [Deckled Edge]\",\"Charles Krauthammer\"],[\"Thinking, Fast and Slow\",\"Daniel Kahneman\"],[\"Thinking, Fast and Slow\",\"Daniel Kahneman\"],[\"Thirteen Reasons Why\",\"Jay Asher\"],[\"Thomas Jefferson: The Art of Power\",\"Jon Meacham\"],[\"Three Cups of Tea: One Man's Mission to Promote Peace - One School at a Time\",\"Greg Mortenson\"],[\"Three Cups of Tea: One Man's Mission to Promote Peace - One School at a Time\",\"Greg Mortenson\"],[\"Thug Kitchen: The Official Cookbook: Eat Like You Give a F*ck (Thug Kitchen Cookbooks)\",\"Thug Kitchen\"],[\"Thug Kitchen: The Official Cookbook: Eat Like You Give a F*ck (Thug Kitchen Cookbooks)\",\"Thug Kitchen\"],[\"Thug Kitchen: The Official Cookbook: Eat Like You Give a F*ck (Thug Kitchen Cookbooks)\",\"Thug Kitchen\"],[\"Thug Kitchen: The Official Cookbook: Eat Like You Give a F*ck (Thug Kitchen Cookbooks)\",\"Thug Kitchen\"],[\"Tina Fey: Bossypants\",\"Tina Fey\"],[\"To Kill a Mockingbird\",\"Harper Lee\"],[\"To Kill a Mockingbird\",\"Harper Lee\"],[\"To Kill a Mockingbird\",\"Harper Lee\"],[\"To Kill a Mockingbird\",\"Harper Lee\"],[\"To Kill a Mockingbird\",\"Harper Lee\"],[\"Tools of Titans: The Tactics, Routines, and Habits of Billionaires, Icons, and World-Class Performers\",\"Timothy Ferriss\"],[\"Towers of Midnight (Wheel of Time, Book Thirteen)\",\"Robert Jordan\"],[\"True Compass: A Memoir\",\"Edward M. Kennedy\"],[\"Twilight (The Twilight Saga, Book 1)\",\"Stephenie Meyer\"],[\"Ultimate Sticker Book: Frozen: More Than 60 Reusable Full-Color Stickers\",\"DK\"],[\"Unbroken: A World War II Story of Survival, Resilience, and Redemption\",\"Laura Hillenbrand\"],[\"Unbroken: A World War II Story of Survival, Resilience, and Redemption\",\"Laura Hillenbrand\"],[\"Unbroken: A World War II Story of Survival, Resilience, and Redemption\",\"Laura Hillenbrand\"],[\"Unbroken: A World War II Story of Survival, Resilience, and Redemption\",\"Laura Hillenbrand\"],[\"Unbroken: A World War II Story of Survival, Resilience, and Redemption\",\"Laura Hillenbrand\"],[\"Under the Dome: A Novel\",\"Stephen King\"],[\"Unfreedom of the Press\",\"Mark R. Levin\"],[\"Unicorn Coloring Book: For Kids Ages 4-8 (US Edition) (Silly Bear Coloring Books)\",\"Silly Bear\"],[\"Uninvited: Living Loved When You Feel Less Than, Left Out, and Lonely\",\"Lysa TerKeurst\"],[\"Watchmen\",\"Alan Moore\"],[\"Water for Elephants: A Novel\",\"Sara Gruen\"],[\"What Happened\",\"Hillary Rodham Clinton\"],[\"What If?: Serious Scientific Answers to Absurd Hypothetical Questions\",\"Randall Munroe\"],[\"What Pet Should I Get? (Classic Seuss)\",\"Dr. Seuss\"],[\"What Should Danny Do? (The Power to Choose Series)\",\"Adir Levy\"],[\"What to Expect When You're Expecting\",\"Heidi Murkoff\"],[\"Wheat Belly: Lose the Wheat, Lose the Weight, and Find Your Path Back to Health\",\"William Davis\"],[\"Wheat Belly: Lose the Wheat, Lose the Weight, and Find Your Path Back to Health\",\"William Davis\"],[\"When Breath Becomes Air\",\"Paul Kalanithi\"],[\"Where the Crawdads Sing\",\"Delia Owens\"],[\"Where the Wild Things Are\",\"Maurice Sendak\"],[\"Whose Boat Is This Boat?: Comments That Don't Help in the Aftermath of a Hurricane\",\"The Staff of The Late Show with\\u0085\"],[\"Wild: From Lost to Found on the Pacific Crest Trail\",\"Cheryl Strayed\"],[\"Winter of the World: Book Two of the Century Trilogy\",\"Ken Follett\"],[\"Women Food and God: An Unexpected Path to Almost Everything\",\"Geneen Roth\"],[\"Wonder\",\"R. J. Palacio\"],[\"Wonder\",\"R. J. Palacio\"],[\"Wonder\",\"R. J. Palacio\"],[\"Wonder\",\"R. J. Palacio\"],[\"Wonder\",\"R. J. Palacio\"],[\"Wrecking Ball (Diary of a Wimpy Kid Book 14)\",\"Jeff Kinney\"],[\"You Are a Badass: How to Stop Doubting Your Greatness and Start Living an Awesome Life\",\"Jen Sincero\"],[\"You Are a Badass: How to Stop Doubting Your Greatness and Start Living an Awesome Life\",\"Jen Sincero\"],[\"You Are a Badass: How to Stop Doubting Your Greatness and Start Living an Awesome Life\",\"Jen Sincero\"],[\"You Are a Badass: How to Stop Doubting Your Greatness and Start Living an Awesome Life\",\"Jen Sincero\"]],\"hovertemplate\":\"User Rating=%{x}<br>Name=%{customdata[0]}<br>Author=%{customdata[1]}<extra></extra>\",\"legendgroup\":\"\",\"marker\":{\"color\":\"#636efa\"},\"name\":\"\",\"notched\":true,\"offsetgroup\":\"\",\"showlegend\":false,\"type\":\"box\",\"x\":[4.7,4.6,4.7,4.7,4.8,4.4,4.7,4.7,4.7,4.6,4.6,4.6,4.6,4.5,4.6,4.5,4.6,4.4,4.5,4.8,4.6,4.6,3.9,4.6,4.3,4.6,4.7,4.2,4.6,4.6,4.8,4.7,4.8,4.8,4.8,4.7,4.7,4.7,4.6,4.5,4.9,4.9,4.8,4.6,4.8,4.5,4.7,4.7,4.7,4.7,4.7,4.7,4.7,4.3,4.8,4.8,4.6,4.6,4.8,4.4,4.6,4.3,4.2,4.8,4.8,4.8,4.8,4.6,4.6,4.5,4.5,4.8,4.8,4.8,4.6,4.6,4.6,4.5,4.6,4.7,4.8,4.9,4.9,4.9,4.9,4.9,4.9,4.9,4.8,4.6,4.5,4.5,4.3,4.5,4.5,4.7,4.7,4.7,4.7,4.7,4.6,4.6,4.7,4.4,4.4,4.5,3.8,3.8,4.5,4.2,4.7,4.7,4.7,4.7,4.7,4.4,4.7,4.4,4.6,4.6,4.6,4.5,4.6,4.8,4.8,4.8,4.8,4.8,4.6,4.6,4.6,4.6,3.6,4.8,4.6,4.0,4.0,4.0,4.6,4.5,4.5,4.5,4.5,4.8,4.8,4.8,4.9,4.9,4.6,4.4,4.8,4.9,4.8,4.9,4.0,4.9,4.9,4.9,4.7,4.8,4.8,4.7,4.7,4.4,4.4,4.8,4.7,4.7,4.7,4.7,4.7,4.3,4.8,4.8,4.9,4.7,4.8,4.6,4.8,4.8,4.3,4.4,4.1,4.6,4.4,4.4,4.8,4.9,4.9,4.9,4.9,4.9,4.9,4.6,4.5,4.6,4.5,4.6,4.7,4.7,4.6,4.6,4.8,4.8,4.5,4.5,4.5,4.9,4.6,4.6,4.6,4.6,4.6,4.5,4.5,4.4,4.8,4.5,4.1,4.9,4.5,4.5,4.2,4.8,4.8,4.8,4.5,4.7,4.8,4.7,4.7,4.7,4.4,4.6,4.6,4.6,4.5,4.5,4.5,4.8,4.8,4.6,4.7,4.6,4.9,4.9,4.9,4.9,4.9,4.9,4.9,4.9,4.9,4.8,4.2,4.6,4.6,4.5,4.3,4.6,4.6,4.6,4.7,4.7,4.8,4.8,4.8,4.8,4.7,4.3,4.3,4.5,4.5,4.5,4.5,4.5,4.5,4.5,4.5,4.5,4.5,4.8,4.6,4.6,4.7,4.7,4.6,4.6,4.9,4.9,4.8,4.8,4.6,4.8,4.8,4.7,4.7,4.8,4.1,4.7,4.6,4.6,4.6,4.9,4.0,4.0,4.0,4.0,4.0,4.0,4.0,4.0,4.0,4.5,4.6,4.5,4.4,4.4,4.3,4.3,4.7,4.7,4.7,4.7,4.7,4.8,4.8,4.8,4.8,4.8,4.8,4.6,4.6,4.6,4.6,4.7,4.7,4.7,4.7,4.6,4.7,4.7,4.7,4.8,4.2,4.8,4.7,4.6,4.6,4.8,4.8,4.8,4.8,3.3,4.7,4.3,4.3,4.3,4.8,4.4,4.8,4.8,4.8,4.1,4.0,4.7,4.7,4.7,4.7,4.6,4.6,4.6,4.6,4.6,4.6,4.7,4.7,4.7,4.7,4.7,4.7,4.8,4.1,4.1,4.7,4.7,4.7,4.7,4.4,4.4,4.8,4.8,3.9,3.9,4.4,4.4,4.4,4.5,4.7,4.3,4.6,4.8,4.8,4.8,4.8,4.8,4.8,4.7,4.7,4.7,4.8,4.8,4.7,4.7,4.7,4.3,4.3,4.7,4.8,4.8,4.9,4.4,4.4,4.5,4.5,4.5,4.5,4.4,4.8,4.2,4.8,4.9,4.8,4.7,4.5,4.8,4.6,4.8,4.8,4.4,4.4,4.4,4.4,4.4,4.3,4.3,4.8,4.8,4.8,4.5,4.4,4.8,4.8,4.6,4.3,4.3,4.6,4.6,4.8,4.6,4.6,4.6,4.5,4.8,4.6,4.6,4.6,4.7,4.7,4.7,4.4,4.4,4.7,4.7,4.8,4.7,4.9,4.9,4.9,4.9,4.9,4.9,4.9,4.6,4.6,4.6,4.9,4.9,4.9,4.9,4.8,4.8,4.7,4.7,4.6,4.6,4.5,4.5,4.3,4.3,4.6,4.6,4.6,4.6,4.3,4.8,4.8,4.8,4.8,4.8,4.6,4.8,4.5,4.7,4.5,4.8,4.8,4.8,4.8,4.8,4.3,4.9,4.8,4.7,4.8,4.5,4.6,4.7,4.7,4.8,4.4,4.4,4.4,4.8,4.8,4.8,4.6,4.4,4.5,4.2,4.8,4.8,4.8,4.8,4.8,4.9,4.7,4.7,4.7,4.7],\"xaxis\":\"x2\",\"yaxis\":\"y2\"}],                        {\"barmode\":\"relative\",\"legend\":{\"tracegroupgap\":0},\"template\":{\"data\":{\"bar\":[{\"error_x\":{\"color\":\"#2a3f5f\"},\"error_y\":{\"color\":\"#2a3f5f\"},\"marker\":{\"line\":{\"color\":\"#E5ECF6\",\"width\":0.5},\"pattern\":{\"fillmode\":\"overlay\",\"size\":10,\"solidity\":0.2}},\"type\":\"bar\"}],\"barpolar\":[{\"marker\":{\"line\":{\"color\":\"#E5ECF6\",\"width\":0.5},\"pattern\":{\"fillmode\":\"overlay\",\"size\":10,\"solidity\":0.2}},\"type\":\"barpolar\"}],\"carpet\":[{\"aaxis\":{\"endlinecolor\":\"#2a3f5f\",\"gridcolor\":\"white\",\"linecolor\":\"white\",\"minorgridcolor\":\"white\",\"startlinecolor\":\"#2a3f5f\"},\"baxis\":{\"endlinecolor\":\"#2a3f5f\",\"gridcolor\":\"white\",\"linecolor\":\"white\",\"minorgridcolor\":\"white\",\"startlinecolor\":\"#2a3f5f\"},\"type\":\"carpet\"}],\"choropleth\":[{\"colorbar\":{\"outlinewidth\":0,\"ticks\":\"\"},\"type\":\"choropleth\"}],\"contour\":[{\"colorbar\":{\"outlinewidth\":0,\"ticks\":\"\"},\"colorscale\":[[0.0,\"#0d0887\"],[0.1111111111111111,\"#46039f\"],[0.2222222222222222,\"#7201a8\"],[0.3333333333333333,\"#9c179e\"],[0.4444444444444444,\"#bd3786\"],[0.5555555555555556,\"#d8576b\"],[0.6666666666666666,\"#ed7953\"],[0.7777777777777778,\"#fb9f3a\"],[0.8888888888888888,\"#fdca26\"],[1.0,\"#f0f921\"]],\"type\":\"contour\"}],\"contourcarpet\":[{\"colorbar\":{\"outlinewidth\":0,\"ticks\":\"\"},\"type\":\"contourcarpet\"}],\"heatmap\":[{\"colorbar\":{\"outlinewidth\":0,\"ticks\":\"\"},\"colorscale\":[[0.0,\"#0d0887\"],[0.1111111111111111,\"#46039f\"],[0.2222222222222222,\"#7201a8\"],[0.3333333333333333,\"#9c179e\"],[0.4444444444444444,\"#bd3786\"],[0.5555555555555556,\"#d8576b\"],[0.6666666666666666,\"#ed7953\"],[0.7777777777777778,\"#fb9f3a\"],[0.8888888888888888,\"#fdca26\"],[1.0,\"#f0f921\"]],\"type\":\"heatmap\"}],\"heatmapgl\":[{\"colorbar\":{\"outlinewidth\":0,\"ticks\":\"\"},\"colorscale\":[[0.0,\"#0d0887\"],[0.1111111111111111,\"#46039f\"],[0.2222222222222222,\"#7201a8\"],[0.3333333333333333,\"#9c179e\"],[0.4444444444444444,\"#bd3786\"],[0.5555555555555556,\"#d8576b\"],[0.6666666666666666,\"#ed7953\"],[0.7777777777777778,\"#fb9f3a\"],[0.8888888888888888,\"#fdca26\"],[1.0,\"#f0f921\"]],\"type\":\"heatmapgl\"}],\"histogram\":[{\"marker\":{\"pattern\":{\"fillmode\":\"overlay\",\"size\":10,\"solidity\":0.2}},\"type\":\"histogram\"}],\"histogram2d\":[{\"colorbar\":{\"outlinewidth\":0,\"ticks\":\"\"},\"colorscale\":[[0.0,\"#0d0887\"],[0.1111111111111111,\"#46039f\"],[0.2222222222222222,\"#7201a8\"],[0.3333333333333333,\"#9c179e\"],[0.4444444444444444,\"#bd3786\"],[0.5555555555555556,\"#d8576b\"],[0.6666666666666666,\"#ed7953\"],[0.7777777777777778,\"#fb9f3a\"],[0.8888888888888888,\"#fdca26\"],[1.0,\"#f0f921\"]],\"type\":\"histogram2d\"}],\"histogram2dcontour\":[{\"colorbar\":{\"outlinewidth\":0,\"ticks\":\"\"},\"colorscale\":[[0.0,\"#0d0887\"],[0.1111111111111111,\"#46039f\"],[0.2222222222222222,\"#7201a8\"],[0.3333333333333333,\"#9c179e\"],[0.4444444444444444,\"#bd3786\"],[0.5555555555555556,\"#d8576b\"],[0.6666666666666666,\"#ed7953\"],[0.7777777777777778,\"#fb9f3a\"],[0.8888888888888888,\"#fdca26\"],[1.0,\"#f0f921\"]],\"type\":\"histogram2dcontour\"}],\"mesh3d\":[{\"colorbar\":{\"outlinewidth\":0,\"ticks\":\"\"},\"type\":\"mesh3d\"}],\"parcoords\":[{\"line\":{\"colorbar\":{\"outlinewidth\":0,\"ticks\":\"\"}},\"type\":\"parcoords\"}],\"pie\":[{\"automargin\":true,\"type\":\"pie\"}],\"scatter\":[{\"marker\":{\"colorbar\":{\"outlinewidth\":0,\"ticks\":\"\"}},\"type\":\"scatter\"}],\"scatter3d\":[{\"line\":{\"colorbar\":{\"outlinewidth\":0,\"ticks\":\"\"}},\"marker\":{\"colorbar\":{\"outlinewidth\":0,\"ticks\":\"\"}},\"type\":\"scatter3d\"}],\"scattercarpet\":[{\"marker\":{\"colorbar\":{\"outlinewidth\":0,\"ticks\":\"\"}},\"type\":\"scattercarpet\"}],\"scattergeo\":[{\"marker\":{\"colorbar\":{\"outlinewidth\":0,\"ticks\":\"\"}},\"type\":\"scattergeo\"}],\"scattergl\":[{\"marker\":{\"colorbar\":{\"outlinewidth\":0,\"ticks\":\"\"}},\"type\":\"scattergl\"}],\"scattermapbox\":[{\"marker\":{\"colorbar\":{\"outlinewidth\":0,\"ticks\":\"\"}},\"type\":\"scattermapbox\"}],\"scatterpolar\":[{\"marker\":{\"colorbar\":{\"outlinewidth\":0,\"ticks\":\"\"}},\"type\":\"scatterpolar\"}],\"scatterpolargl\":[{\"marker\":{\"colorbar\":{\"outlinewidth\":0,\"ticks\":\"\"}},\"type\":\"scatterpolargl\"}],\"scatterternary\":[{\"marker\":{\"colorbar\":{\"outlinewidth\":0,\"ticks\":\"\"}},\"type\":\"scatterternary\"}],\"surface\":[{\"colorbar\":{\"outlinewidth\":0,\"ticks\":\"\"},\"colorscale\":[[0.0,\"#0d0887\"],[0.1111111111111111,\"#46039f\"],[0.2222222222222222,\"#7201a8\"],[0.3333333333333333,\"#9c179e\"],[0.4444444444444444,\"#bd3786\"],[0.5555555555555556,\"#d8576b\"],[0.6666666666666666,\"#ed7953\"],[0.7777777777777778,\"#fb9f3a\"],[0.8888888888888888,\"#fdca26\"],[1.0,\"#f0f921\"]],\"type\":\"surface\"}],\"table\":[{\"cells\":{\"fill\":{\"color\":\"#EBF0F8\"},\"line\":{\"color\":\"white\"}},\"header\":{\"fill\":{\"color\":\"#C8D4E3\"},\"line\":{\"color\":\"white\"}},\"type\":\"table\"}]},\"layout\":{\"annotationdefaults\":{\"arrowcolor\":\"#2a3f5f\",\"arrowhead\":0,\"arrowwidth\":1},\"autotypenumbers\":\"strict\",\"coloraxis\":{\"colorbar\":{\"outlinewidth\":0,\"ticks\":\"\"}},\"colorscale\":{\"diverging\":[[0,\"#8e0152\"],[0.1,\"#c51b7d\"],[0.2,\"#de77ae\"],[0.3,\"#f1b6da\"],[0.4,\"#fde0ef\"],[0.5,\"#f7f7f7\"],[0.6,\"#e6f5d0\"],[0.7,\"#b8e186\"],[0.8,\"#7fbc41\"],[0.9,\"#4d9221\"],[1,\"#276419\"]],\"sequential\":[[0.0,\"#0d0887\"],[0.1111111111111111,\"#46039f\"],[0.2222222222222222,\"#7201a8\"],[0.3333333333333333,\"#9c179e\"],[0.4444444444444444,\"#bd3786\"],[0.5555555555555556,\"#d8576b\"],[0.6666666666666666,\"#ed7953\"],[0.7777777777777778,\"#fb9f3a\"],[0.8888888888888888,\"#fdca26\"],[1.0,\"#f0f921\"]],\"sequentialminus\":[[0.0,\"#0d0887\"],[0.1111111111111111,\"#46039f\"],[0.2222222222222222,\"#7201a8\"],[0.3333333333333333,\"#9c179e\"],[0.4444444444444444,\"#bd3786\"],[0.5555555555555556,\"#d8576b\"],[0.6666666666666666,\"#ed7953\"],[0.7777777777777778,\"#fb9f3a\"],[0.8888888888888888,\"#fdca26\"],[1.0,\"#f0f921\"]]},\"colorway\":[\"#636efa\",\"#EF553B\",\"#00cc96\",\"#ab63fa\",\"#FFA15A\",\"#19d3f3\",\"#FF6692\",\"#B6E880\",\"#FF97FF\",\"#FECB52\"],\"font\":{\"color\":\"#2a3f5f\"},\"geo\":{\"bgcolor\":\"white\",\"lakecolor\":\"white\",\"landcolor\":\"#E5ECF6\",\"showlakes\":true,\"showland\":true,\"subunitcolor\":\"white\"},\"hoverlabel\":{\"align\":\"left\"},\"hovermode\":\"closest\",\"mapbox\":{\"style\":\"light\"},\"paper_bgcolor\":\"white\",\"plot_bgcolor\":\"#E5ECF6\",\"polar\":{\"angularaxis\":{\"gridcolor\":\"white\",\"linecolor\":\"white\",\"ticks\":\"\"},\"bgcolor\":\"#E5ECF6\",\"radialaxis\":{\"gridcolor\":\"white\",\"linecolor\":\"white\",\"ticks\":\"\"}},\"scene\":{\"xaxis\":{\"backgroundcolor\":\"#E5ECF6\",\"gridcolor\":\"white\",\"gridwidth\":2,\"linecolor\":\"white\",\"showbackground\":true,\"ticks\":\"\",\"zerolinecolor\":\"white\"},\"yaxis\":{\"backgroundcolor\":\"#E5ECF6\",\"gridcolor\":\"white\",\"gridwidth\":2,\"linecolor\":\"white\",\"showbackground\":true,\"ticks\":\"\",\"zerolinecolor\":\"white\"},\"zaxis\":{\"backgroundcolor\":\"#E5ECF6\",\"gridcolor\":\"white\",\"gridwidth\":2,\"linecolor\":\"white\",\"showbackground\":true,\"ticks\":\"\",\"zerolinecolor\":\"white\"}},\"shapedefaults\":{\"line\":{\"color\":\"#2a3f5f\"}},\"ternary\":{\"aaxis\":{\"gridcolor\":\"white\",\"linecolor\":\"white\",\"ticks\":\"\"},\"baxis\":{\"gridcolor\":\"white\",\"linecolor\":\"white\",\"ticks\":\"\"},\"bgcolor\":\"#E5ECF6\",\"caxis\":{\"gridcolor\":\"white\",\"linecolor\":\"white\",\"ticks\":\"\"}},\"title\":{\"x\":0.05},\"xaxis\":{\"automargin\":true,\"gridcolor\":\"white\",\"linecolor\":\"white\",\"ticks\":\"\",\"title\":{\"standoff\":15},\"zerolinecolor\":\"white\",\"zerolinewidth\":2},\"yaxis\":{\"automargin\":true,\"gridcolor\":\"white\",\"linecolor\":\"white\",\"ticks\":\"\",\"title\":{\"standoff\":15},\"zerolinecolor\":\"white\",\"zerolinewidth\":2}}},\"title\":{\"text\":\"User Rating\"},\"xaxis\":{\"anchor\":\"y\",\"domain\":[0.0,1.0],\"title\":{\"text\":\"User Rating\"}},\"xaxis2\":{\"anchor\":\"y2\",\"domain\":[0.0,1.0],\"matches\":\"x\",\"showgrid\":true,\"showticklabels\":false},\"yaxis\":{\"anchor\":\"x\",\"domain\":[0.0,0.8316],\"title\":{\"text\":\"count\"}},\"yaxis2\":{\"anchor\":\"x2\",\"domain\":[0.8416,1.0],\"matches\":\"y2\",\"showgrid\":false,\"showline\":false,\"showticklabels\":false,\"ticks\":\"\"}},                        {\"responsive\": true}                    ).then(function(){\n",
       "                            \n",
       "var gd = document.getElementById('944d0199-781b-4d37-a1f1-0a27fd33e678');\n",
       "var x = new MutationObserver(function (mutations, observer) {{\n",
       "        var display = window.getComputedStyle(gd).display;\n",
       "        if (!display || display === 'none') {{\n",
       "            console.log([gd, 'removed!']);\n",
       "            Plotly.purge(gd);\n",
       "            observer.disconnect();\n",
       "        }}\n",
       "}});\n",
       "\n",
       "// Listen for the removal of the full notebook cells\n",
       "var notebookContainer = gd.closest('#notebook-container');\n",
       "if (notebookContainer) {{\n",
       "    x.observe(notebookContainer, {childList: true});\n",
       "}}\n",
       "\n",
       "// Listen for the clearing of the current output cell\n",
       "var outputEl = gd.closest('.output');\n",
       "if (outputEl) {{\n",
       "    x.observe(outputEl, {childList: true});\n",
       "}}\n",
       "\n",
       "                        })                };                });            </script>        </div>"
      ]
     },
     "metadata": {},
     "output_type": "display_data"
    }
   ],
   "source": [
    "fig = px.histogram(df, x= 'User Rating', title='User Rating', marginal=\"box\", hover_data = df[['Name','Author']])\n",
    "fig.show()"
   ]
  },
  {
   "cell_type": "markdown",
   "id": "4d3be5c8",
   "metadata": {
    "papermill": {
     "duration": 0.04455,
     "end_time": "2021-07-10T21:54:18.632902",
     "exception": false,
     "start_time": "2021-07-10T21:54:18.588352",
     "status": "completed"
    },
    "tags": []
   },
   "source": [
    "- Yeap, as expected we have several outliers from the minimum side.\n",
    "- Slightly left skewed distribution, but still close to the normal distribution\n",
    "- Oh wait...\n",
    "- Oh no!! J.K.Rowling's 'Casual Vacancy' got the lowest rating."
   ]
  },
  {
   "cell_type": "markdown",
   "id": "fc61b43e",
   "metadata": {
    "papermill": {
     "duration": 0.044077,
     "end_time": "2021-07-10T21:54:18.722029",
     "exception": false,
     "start_time": "2021-07-10T21:54:18.677952",
     "status": "completed"
    },
    "tags": []
   },
   "source": [
    "#### **Reviews**"
   ]
  },
  {
   "cell_type": "code",
   "execution_count": 12,
   "id": "a99d30d0",
   "metadata": {
    "_kg_hide-input": true,
    "execution": {
     "iopub.execute_input": "2021-07-10T21:54:18.820377Z",
     "iopub.status.busy": "2021-07-10T21:54:18.816805Z",
     "iopub.status.idle": "2021-07-10T21:54:18.822889Z",
     "shell.execute_reply": "2021-07-10T21:54:18.823396Z",
     "shell.execute_reply.started": "2021-07-10T21:43:43.850975Z"
    },
    "papermill": {
     "duration": 0.056985,
     "end_time": "2021-07-10T21:54:18.823564",
     "exception": false,
     "start_time": "2021-07-10T21:54:18.766579",
     "status": "completed"
    },
    "tags": []
   },
   "outputs": [
    {
     "data": {
      "text/plain": [
       "count      550.000000\n",
       "mean     11953.281818\n",
       "std      11731.132017\n",
       "min         37.000000\n",
       "25%       4058.000000\n",
       "50%       8580.000000\n",
       "75%      17253.250000\n",
       "max      87841.000000\n",
       "Name: Reviews, dtype: float64"
      ]
     },
     "execution_count": 12,
     "metadata": {},
     "output_type": "execute_result"
    }
   ],
   "source": [
    "df['Reviews'].describe()"
   ]
  },
  {
   "cell_type": "markdown",
   "id": "0b1dcbbb",
   "metadata": {
    "papermill": {
     "duration": 0.067229,
     "end_time": "2021-07-10T21:54:18.958664",
     "exception": false,
     "start_time": "2021-07-10T21:54:18.891435",
     "status": "completed"
    },
    "tags": []
   },
   "source": [
    "- We have huge difference between mean and median values (mean = 11953, median=8580)\n",
    "- It has highly skewed distribution with the outliers on the maximum side.\n",
    "- We can expect highly right skewed distribution with possible outliers in the maximum side.\n",
    "- Let' see it."
   ]
  },
  {
   "cell_type": "code",
   "execution_count": 13,
   "id": "745dd327",
   "metadata": {
    "_kg_hide-input": true,
    "execution": {
     "iopub.execute_input": "2021-07-10T21:54:19.096474Z",
     "iopub.status.busy": "2021-07-10T21:54:19.095804Z",
     "iopub.status.idle": "2021-07-10T21:54:19.177087Z",
     "shell.execute_reply": "2021-07-10T21:54:19.177601Z",
     "shell.execute_reply.started": "2021-07-10T21:43:43.863595Z"
    },
    "papermill": {
     "duration": 0.151574,
     "end_time": "2021-07-10T21:54:19.177780",
     "exception": false,
     "start_time": "2021-07-10T21:54:19.026206",
     "status": "completed"
    },
    "tags": []
   },
   "outputs": [
    {
     "data": {
      "text/html": [
       "<div>                            <div id=\"f22d12a1-10d0-4b9e-8100-e3c6e6d48884\" class=\"plotly-graph-div\" style=\"height:525px; width:100%;\"></div>            <script type=\"text/javascript\">                require([\"plotly\"], function(Plotly) {                    window.PLOTLYENV=window.PLOTLYENV || {};                                    if (document.getElementById(\"f22d12a1-10d0-4b9e-8100-e3c6e6d48884\")) {                    Plotly.newPlot(                        \"f22d12a1-10d0-4b9e-8100-e3c6e6d48884\",                        [{\"alignmentgroup\":\"True\",\"bingroup\":\"x\",\"hovertemplate\":\"Reviews=%{x}<br>count=%{y}<extra></extra>\",\"legendgroup\":\"\",\"marker\":{\"color\":\"#636efa\",\"pattern\":{\"shape\":\"\"}},\"name\":\"\",\"offsetgroup\":\"\",\"orientation\":\"v\",\"showlegend\":false,\"type\":\"histogram\",\"x\":[17350,2052,18979,21424,7665,12643,19735,19699,5983,23848,23848,460,4149,5153,5013,2313,2925,2951,2426,9198,36348,36348,6310,15921,12159,798,9374,491,5360,1909,1296,615,61133,61133,11113,10070,10070,3729,9769,471,14344,14344,4505,10369,16244,2884,22614,22614,22614,4761,1542,1542,1542,6143,4022,3871,4866,4866,1329,4642,1541,1924,2094,10922,10922,10922,10922,2137,1651,6679,6679,6812,3837,6540,7955,27098,27098,17684,37,15845,3181,5062,4786,7235,7235,12619,9089,5470,5118,2134,2525,720,956,6346,6346,5505,5505,28729,28729,5413,10721,10721,4370,6042,23631,20262,47265,47265,13964,13677,17323,17323,17323,17323,17323,1555,3642,1215,5594,5594,5594,408,4799,14038,14038,14038,14038,14038,7660,22288,22288,1365,14982,9568,1636,57271,57271,57271,10141,3457,3457,3457,3457,8837,8837,8837,7038,7038,5972,25624,5476,5867,4148,19622,23973,7758,3146,10052,3564,13471,1930,15779,15779,15526,15526,3776,25001,25001,25001,25001,25001,5272,3490,3490,2812,4896,9737,1320,16643,16643,7153,4571,29651,5299,7396,7396,7062,19576,19576,19576,19576,19576,19576,978,4748,8393,11391,8634,9342,9342,10927,5235,8916,2507,3673,3673,3673,11881,6990,6990,6990,6990,6990,6132,3014,7550,3828,2752,1467,1884,25706,8491,1649,18613,18613,9867,1386,10199,2926,17739,17739,17739,3113,5542,5542,5542,26741,26741,26741,5347,7866,5680,5178,8093,3192,21834,21834,21834,21834,21834,21834,21834,21834,6169,4519,3163,3163,1831,18904,21930,10426,10426,10820,10820,548,16990,16990,16990,3503,13616,13616,8580,8580,8580,8580,8580,8580,8580,8580,8580,8580,4757,10009,10009,1985,1985,22536,22536,7150,3836,7802,7802,3619,23047,23047,9366,1265,3923,2272,973,220,7827,7827,9382,5069,5069,5069,5069,5069,5069,5069,5069,5069,1583,1907,23114,637,637,2314,4587,3477,3477,3477,3477,3477,25554,25554,25554,25554,25554,1680,9325,9325,9325,9325,4725,4725,4725,35799,2580,11813,11813,3536,6600,1789,12361,858,23148,23148,8081,8081,23358,23358,9372,4633,13061,13061,3523,2774,440,8922,8922,8922,2023,1859,50482,50482,50482,50482,3207,3207,3207,3207,3207,803,23308,23308,23308,23308,23308,23308,5836,79446,79446,7747,7747,7251,7251,10559,10559,5249,5249,33844,33844,11616,11616,11616,13609,8587,29442,11098,9947,13871,13871,13871,13871,6982,32122,32122,32122,16949,16949,9289,9289,9289,7368,7368,4028,4628,4628,5396,4247,4247,22641,22641,22641,22641,6222,4506,8747,1655,7861,6247,39459,10101,5898,2744,49288,49288,1201,1201,1201,1201,1201,807,3759,2663,3428,2876,3601,7058,9784,9784,10795,10191,14493,2186,1204,2091,19720,19720,2122,27536,4290,26490,26490,26490,5487,6377,1463,3759,3503,11550,3801,3796,9030,19546,19546,19546,19546,19546,19546,19546,7508,7508,7508,8842,8842,8842,8842,30183,30183,6169,7034,11034,11034,7932,1904,3319,3319,11128,11128,11128,11128,5977,26234,26234,26234,26234,26234,4360,2282,438,11676,2586,29673,29673,29673,29673,29673,6740,5956,6108,4585,3829,8958,5492,9292,1873,8170,3341,7497,7497,13779,87841,9967,6669,17044,10760,1302,21625,21625,21625,21625,21625,9413,14331,14331,14331,14331],\"xaxis\":\"x\",\"yaxis\":\"y\"},{\"alignmentgroup\":\"True\",\"customdata\":[[\"10-Day Green Smoothie Cleanse\",\"JJ Smith\"],[\"11/22/63: A Novel\",\"Stephen King\"],[\"12 Rules for Life: An Antidote to Chaos\",\"Jordan B. Peterson\"],[\"1984 (Signet Classics)\",\"George Orwell\"],[\"5,000 Awesome Facts (About Everything!) (National Geographic Kids)\",\"National Geographic Kids\"],[\"A Dance with Dragons (A Song of Ice and Fire)\",\"George R. R. Martin\"],[\"A Game of Thrones / A Clash of Kings / A Storm of Swords / A Feast of Crows / A Dance with Dragons\",\"George R. R. Martin\"],[\"A Gentleman in Moscow: A Novel\",\"Amor Towles\"],[\"A Higher Loyalty: Truth, Lies, and Leadership\",\"James Comey\"],[\"A Man Called Ove: A Novel\",\"Fredrik Backman\"],[\"A Man Called Ove: A Novel\",\"Fredrik Backman\"],[\"A Patriot's History of the United States: From Columbus's Great Discovery to the War on Terror\",\"Larry Schweikart\"],[\"A Stolen Life: A Memoir\",\"Jaycee Dugard\"],[\"A Wrinkle in Time (Time Quintet)\",\"Madeleine L'Engle\"],[\"Act Like a Lady, Think Like a Man: What Men Really Think About Love, Relationships, Intimacy, and Commitment\",\"Steve Harvey\"],[\"Adult Coloring Book Designs: Stress Relief Coloring Book: Garden Designs, Mandalas, Animals, and Paisley Patterns\",\"Adult Coloring Book Designs\"],[\"Adult Coloring Book: Stress Relieving Animal Designs\",\"Blue Star Coloring\"],[\"Adult Coloring Book: Stress Relieving Patterns\",\"Blue Star Coloring\"],[\"Adult Coloring Books: A Coloring Book for Adults Featuring Mandalas and Henna Inspired Flowers, Animals, and Paisley\\u2026\",\"Coloring Books for Adults\"],[\"Alexander Hamilton\",\"Ron Chernow\"],[\"All the Light We Cannot See\",\"Anthony Doerr\"],[\"All the Light We Cannot See\",\"Anthony Doerr\"],[\"Allegiant\",\"Veronica Roth\"],[\"American Sniper: The Autobiography of the Most Lethal Sniper in U.S. Military History\",\"Chris Kyle\"],[\"And the Mountains Echoed\",\"Khaled Hosseini\"],[\"Arguing with Idiots: How to Stop Small Minds and Big Government\",\"Glenn Beck\"],[\"Astrophysics for People in a Hurry\",\"Neil deGrasse Tyson\"],[\"Autobiography of Mark Twain, Vol. 1\",\"Mark Twain\"],[\"Baby Touch and Feel: Animals\",\"DK\"],[\"Balance (Angie's Extreme Stress Menders)\",\"Angie Grace\"],[\"Barefoot Contessa Foolproof: Recipes You Can Trust: A Cookbook\",\"Ina Garten\"],[\"Barefoot Contessa, How Easy Is That?: Fabulous Recipes & Easy Tips\",\"Ina Garten\"],[\"Becoming\",\"Michelle Obama\"],[\"Becoming\",\"Michelle Obama\"],[\"Being Mortal: Medicine and What Matters in the End\",\"Atul Gawande\"],[\"Between the World and Me\",\"Ta-Nehisi Coates\"],[\"Between the World and Me\",\"Ta-Nehisi Coates\"],[\"Born to Run\",\"Bruce Springsteen\"],[\"Breaking Dawn (The Twilight Saga, Book 4)\",\"Stephenie Meyer\"],[\"Broke: The Plan to Restore Our Trust, Truth and Treasure\",\"Glenn Beck\"],[\"Brown Bear, Brown Bear, What Do You See?\",\"Bill Martin Jr.\"],[\"Brown Bear, Brown Bear, What Do You See?\",\"Bill Martin Jr.\"],[\"Cabin Fever (Diary of a Wimpy Kid, Book 6)\",\"Jeff Kinney\"],[\"Calm the F*ck Down: An Irreverent Adult Coloring Book (Irreverent Book Series)\",\"Sasha O'Hara\"],[\"Can't Hurt Me: Master Your Mind and Defy the Odds\",\"David Goggins\"],[\"Capital in the Twenty First Century\",\"Thomas Piketty\"],[\"Catching Fire (The Hunger Games)\",\"Suzanne Collins\"],[\"Catching Fire (The Hunger Games)\",\"Suzanne Collins\"],[\"Catching Fire (The Hunger Games)\",\"Suzanne Collins\"],[\"Cravings: Recipes for All the Food You Want to Eat: A Cookbook\",\"Chrissy Teigen\"],[\"Crazy Love: Overwhelmed by a Relentless God\",\"Francis Chan\"],[\"Crazy Love: Overwhelmed by a Relentless God\",\"Francis Chan\"],[\"Crazy Love: Overwhelmed by a Relentless God\",\"Francis Chan\"],[\"Crazy Rich Asians (Crazy Rich Asians Trilogy)\",\"Kevin Kwan\"],[\"Creative Haven Creative Cats Coloring Book (Adult Coloring)\",\"Marjorie Sarnat\"],[\"Creative Haven Owls Coloring Book (Adult Coloring)\",\"Marjorie Sarnat\"],[\"Cutting for Stone\",\"Abraham Verghese\"],[\"Cutting for Stone\",\"Abraham Verghese\"],[\"Daring Greatly: How the Courage to Be Vulnerable Transforms the Way We Live, Love, Parent, and Lead\",\"Brene\\u0301 Brown\"],[\"David and Goliath: Underdogs, Misfits, and the Art of Battling Giants\",\"Malcolm Gladwell\"],[\"Dead And Gone: A Sookie Stackhouse Novel (Sookie Stackhouse/True Blood)\",\"Charlaine Harris\"],[\"Dead in the Family (Sookie Stackhouse/True Blood, Book 10)\",\"Charlaine Harris\"],[\"Dead Reckoning (Sookie Stackhouse/True Blood, Book 11)\",\"Charlaine Harris\"],[\"Dear Zoo: A Lift-the-Flap Book\",\"Rod Campbell\"],[\"Dear Zoo: A Lift-the-Flap Book\",\"Rod Campbell\"],[\"Dear Zoo: A Lift-the-Flap Book\",\"Rod Campbell\"],[\"Dear Zoo: A Lift-the-Flap Book\",\"Rod Campbell\"],[\"Decision Points\",\"George W. Bush\"],[\"Delivering Happiness: A Path to Profits, Passion, and Purpose\",\"Tony Hsieh\"],[\"Diagnostic and Statistical Manual of Mental Disorders, 5th Edition: DSM-5\",\"American Psychiatric Association\"],[\"Diagnostic and Statistical Manual of Mental Disorders, 5th Edition: DSM-5\",\"American Psychiatric Association\"],[\"Diary of a Wimpy Kid: Hard Luck, Book 8\",\"Jeff Kinney\"],[\"Diary of a Wimpy Kid: The Last Straw (Book 3)\",\"Jeff Kinney\"],[\"Diary of a Wimpy Kid: The Long Haul\",\"Jeff Kinney\"],[\"Difficult Riddles For Smart Kids: 300 Difficult Riddles And Brain Teasers Families Will Love (Books for Smart Kids)\",\"M Prefontaine\"],[\"Divergent\",\"Veronica Roth\"],[\"Divergent\",\"Veronica Roth\"],[\"Divergent / Insurgent\",\"Veronica Roth\"],[\"Divine Soul Mind Body Healing and Transmission System: The Divine Way to Heal You, Humanity, Mother Earth, and All\\u2026\",\"Zhi Gang Sha\"],[\"Doctor Sleep: A Novel\",\"Stephen King\"],[\"Dog Days (Diary of a Wimpy Kid, Book 4) (Volume 4)\",\"Jeff Kinney\"],[\"Dog Man and Cat Kid: From the Creator of Captain Underpants (Dog Man #4)\",\"Dav Pilkey\"],[\"Dog Man: A Tale of Two Kitties: From the Creator of Captain Underpants (Dog Man #3)\",\"Dav Pilkey\"],[\"Dog Man: Brawl of the Wild: From the Creator of Captain Underpants (Dog Man #6)\",\"Dav Pilkey\"],[\"Dog Man: Brawl of the Wild: From the Creator of Captain Underpants (Dog Man #6)\",\"Dav Pilkey\"],[\"Dog Man: Fetch-22: From the Creator of Captain Underpants (Dog Man #8)\",\"Dav Pilkey\"],[\"Dog Man: For Whom the Ball Rolls: From the Creator of Captain Underpants (Dog Man #7)\",\"Dav Pilkey\"],[\"Dog Man: Lord of the Fleas: From the Creator of Captain Underpants (Dog Man #5)\",\"Dav Pilkey\"],[\"Double Down (Diary of a Wimpy Kid #11)\",\"Jeff Kinney\"],[\"Dover Creative Haven Art Nouveau Animal Designs Coloring Book (Creative Haven Coloring Books)\",\"Marty Noble\"],[\"Drive: The Surprising Truth About What Motivates Us\",\"Daniel H. Pink\"],[\"Eat This Not That! Supermarket Survival Guide: The No-Diet Weight Loss Solution\",\"David Zinczenko\"],[\"Eat This, Not That! Thousands of Simple Food Swaps that Can Save You 10, 20, 30 Pounds--or More!\",\"David Zinczenko\"],[\"Eat to Live: The Amazing Nutrient-Rich Program for Fast and Sustained Weight Loss, Revised Edition\",\"Joel Fuhrman MD\"],[\"Eat to Live: The Amazing Nutrient-Rich Program for Fast and Sustained Weight Loss, Revised Edition\",\"Joel Fuhrman MD\"],[\"Eclipse (Twilight Sagas)\",\"Stephenie Meyer\"],[\"Eclipse (Twilight)\",\"Stephenie Meyer\"],[\"Educated: A Memoir\",\"Tara Westover\"],[\"Educated: A Memoir\",\"Tara Westover\"],[\"Enchanted Forest: An Inky Quest and Coloring book (Activity Books, Mindfulness and Meditation, Illustrated Floral Prints\\u2026\",\"Johanna Basford\"],[\"Fahrenheit 451\",\"Ray Bradbury\"],[\"Fahrenheit 451\",\"Ray Bradbury\"],[\"Fantastic Beasts and Where to Find Them: The Original Screenplay (Harry Potter)\",\"J.K. Rowling\"],[\"Fear: Trump in the White House\",\"Bob Woodward\"],[\"Fifty Shades Darker\",\"E L James\"],[\"Fifty Shades Freed: Book Three of the Fifty Shades Trilogy (Fifty Shades of Grey Series) (English Edition)\",\"E L James\"],[\"Fifty Shades of Grey: Book One of the Fifty Shades Trilogy (Fifty Shades of Grey Series)\",\"E L James\"],[\"Fifty Shades of Grey: Book One of the Fifty Shades Trilogy (Fifty Shades of Grey Series)\",\"E L James\"],[\"Fifty Shades Trilogy (Fifty Shades of Grey / Fifty Shades Darker / Fifty Shades Freed)\",\"E L James\"],[\"Fire and Fury: Inside the Trump White House\",\"Michael Wolff\"],[\"First 100 Words\",\"Roger Priddy\"],[\"First 100 Words\",\"Roger Priddy\"],[\"First 100 Words\",\"Roger Priddy\"],[\"First 100 Words\",\"Roger Priddy\"],[\"First 100 Words\",\"Roger Priddy\"],[\"Food Rules: An Eater's Manual\",\"Michael Pollan\"],[\"Frozen (Little Golden Book)\",\"RH Disney\"],[\"Game Change: Obama and the Clintons, McCain and Palin, and the Race of a Lifetime\",\"John Heilemann\"],[\"Game of Thrones Boxed Set: A Game of Thrones/A Clash of Kings/A Storm of Swords/A Feast for Crows\",\"George R.R. Martin\"],[\"Game of Thrones Boxed Set: A Game of Thrones/A Clash of Kings/A Storm of Swords/A Feast for Crows\",\"George R.R. Martin\"],[\"Game of Thrones Boxed Set: A Game of Thrones/A Clash of Kings/A Storm of Swords/A Feast for Crows\",\"George R.R. Martin\"],[\"George Washington's Sacred Fire\",\"Peter A. Lillback\"],[\"George Washington's Secret Six: The Spy Ring That Saved the American Revolution\",\"Brian Kilmeade\"],[\"Giraffes Can't Dance\",\"Giles Andreae\"],[\"Giraffes Can't Dance\",\"Giles Andreae\"],[\"Giraffes Can't Dance\",\"Giles Andreae\"],[\"Giraffes Can't Dance\",\"Giles Andreae\"],[\"Giraffes Can't Dance\",\"Giles Andreae\"],[\"Girl, Stop Apologizing: A Shame-Free Plan for Embracing and Achieving Your Goals\",\"Rachel Hollis\"],[\"Girl, Wash Your Face: Stop Believing the Lies About Who You Are So You Can Become Who You Were Meant to Be\",\"Rachel Hollis\"],[\"Girl, Wash Your Face: Stop Believing the Lies About Who You Are So You Can Become Who You Were Meant to Be\",\"Rachel Hollis\"],[\"Glenn Beck's Common Sense: The Case Against an Out-of-Control Government, Inspired by Thomas Paine\",\"Glenn Beck\"],[\"Go Set a Watchman: A Novel\",\"Harper Lee\"],[\"Go the F**k to Sleep\",\"Adam Mansbach\"],[\"Going Rogue: An American Life\",\"Sarah Palin\"],[\"Gone Girl\",\"Gillian Flynn\"],[\"Gone Girl\",\"Gillian Flynn\"],[\"Gone Girl\",\"Gillian Flynn\"],[\"Good Days Start With Gratitude: A 52 Week Guide To Cultivate An Attitude Of Gratitude: Gratitude Journal\",\"Pretty Simple Press\"],[\"Good to Great: Why Some Companies Make the Leap and Others Don't\",\"Jim Collins\"],[\"Good to Great: Why Some Companies Make the Leap and Others Don't\",\"Jim Collins\"],[\"Good to Great: Why Some Companies Make the Leap and Others Don't\",\"Jim Collins\"],[\"Good to Great: Why Some Companies Make the Leap and Others Don't\",\"Jim Collins\"],[\"Goodnight Moon\",\"Margaret Wise Brown\"],[\"Goodnight Moon\",\"Margaret Wise Brown\"],[\"Goodnight Moon\",\"Margaret Wise Brown\"],[\"Goodnight, Goodnight Construction Site (Hardcover Books for Toddlers, Preschool Books for Kids)\",\"Sherri Duskey Rinker\"],[\"Goodnight, Goodnight Construction Site (Hardcover Books for Toddlers, Preschool Books for Kids)\",\"Sherri Duskey Rinker\"],[\"Grain Brain: The Surprising Truth about Wheat, Carbs, and Sugar--Your Brain's Silent Killers\",\"David Perlmutter MD\"],[\"Grey: Fifty Shades of Grey as Told by Christian (Fifty Shades of Grey Series)\",\"E L James\"],[\"Guts\",\"Raina Telgemeier\"],[\"Hamilton: The Revolution\",\"Lin-Manuel Miranda\"],[\"Happy, Happy, Happy: My Life and Legacy as the Duck Commander\",\"Phil Robertson\"],[\"Harry Potter and the Chamber of Secrets: The Illustrated Edition (Harry Potter, Book 2)\",\"J.K. Rowling\"],[\"Harry Potter and the Cursed Child, Parts 1 & 2, Special Rehearsal Edition Script\",\"J.K. Rowling\"],[\"Harry Potter and the Goblet of Fire: The Illustrated Edition (Harry Potter, Book 4) (4)\",\"J. K. Rowling\"],[\"Harry Potter and the Prisoner of Azkaban: The Illustrated Edition (Harry Potter, Book 3)\",\"J.K. Rowling\"],[\"Harry Potter and the Sorcerer's Stone: The Illustrated Edition (Harry Potter, Book 1)\",\"J.K. Rowling\"],[\"Harry Potter Coloring Book\",\"Scholastic\"],[\"Harry Potter Paperback Box Set (Books 1-7)\",\"J. K. Rowling\"],[\"Have a Little Faith: A True Story\",\"Mitch Albom\"],[\"Heaven is for Real: A Little Boy's Astounding Story of His Trip to Heaven and Back\",\"Todd Burpo\"],[\"Heaven is for Real: A Little Boy's Astounding Story of His Trip to Heaven and Back\",\"Todd Burpo\"],[\"Hillbilly Elegy: A Memoir of a Family and Culture in Crisis\",\"J. D. Vance\"],[\"Hillbilly Elegy: A Memoir of a Family and Culture in Crisis\",\"J. D. Vance\"],[\"Homebody: A Guide to Creating Spaces You Never Want to Leave\",\"Joanna Gaines\"],[\"How to Win Friends & Influence People\",\"Dale Carnegie\"],[\"How to Win Friends & Influence People\",\"Dale Carnegie\"],[\"How to Win Friends & Influence People\",\"Dale Carnegie\"],[\"How to Win Friends & Influence People\",\"Dale Carnegie\"],[\"How to Win Friends & Influence People\",\"Dale Carnegie\"],[\"Howard Stern Comes Again\",\"Howard Stern\"],[\"Humans of New York\",\"Brandon Stanton\"],[\"Humans of New York\",\"Brandon Stanton\"],[\"Humans of New York : Stories\",\"Brandon Stanton\"],[\"Hyperbole and a Half: Unfortunate Situations, Flawed Coping Mechanisms, Mayhem, and Other Things That Happened\",\"Allie Brosh\"],[\"I Am Confident, Brave & Beautiful: A Coloring Book for Girls\",\"Hopscotch Girls\"],[\"I, Alex Cross\",\"James Patterson\"],[\"If Animals Kissed Good Night\",\"Ann Whitford Paul\"],[\"If Animals Kissed Good Night\",\"Ann Whitford Paul\"],[\"If I Stay\",\"Gayle Forman\"],[\"In the Garden of Beasts: Love, Terror, and an American Family in Hitler's Berlin\",\"Eric Larson\"],[\"Inferno\",\"Dan Brown\"],[\"Inheritance: Book IV (Inheritance Cycle)\",\"Christopher Paolini\"],[\"Instant Pot Pressure Cooker Cookbook: 500 Everyday Recipes for Beginners and Advanced Users. Try Easy and Healthy\\u2026\",\"Jennifer Smith\"],[\"Instant Pot Pressure Cooker Cookbook: 500 Everyday Recipes for Beginners and Advanced Users. Try Easy and Healthy\\u2026\",\"Jennifer Smith\"],[\"It's Not Supposed to Be This Way: Finding Unexpected Strength When Disappointments Leave You Shattered\",\"Lysa TerKeurst\"],[\"Jesus Calling: Enjoying Peace in His Presence (with Scripture References)\",\"Sarah Young\"],[\"Jesus Calling: Enjoying Peace in His Presence (with Scripture References)\",\"Sarah Young\"],[\"Jesus Calling: Enjoying Peace in His Presence (with Scripture References)\",\"Sarah Young\"],[\"Jesus Calling: Enjoying Peace in His Presence (with Scripture References)\",\"Sarah Young\"],[\"Jesus Calling: Enjoying Peace in His Presence (with Scripture References)\",\"Sarah Young\"],[\"Jesus Calling: Enjoying Peace in His Presence (with Scripture References)\",\"Sarah Young\"],[\"JOURNEY TO THE ICE P\",\"RH Disney\"],[\"Joyland (Hard Case Crime)\",\"Stephen King\"],[\"Killers of the Flower Moon: The Osage Murders and the Birth of the FBI\",\"David Grann\"],[\"Killing Jesus (Bill O'Reilly's Killing Series)\",\"Bill O'Reilly\"],[\"Killing Kennedy: The End of Camelot\",\"Bill O'Reilly\"],[\"Killing Lincoln: The Shocking Assassination that Changed America Forever (Bill O'Reilly's Killing Series)\",\"Bill O'Reilly\"],[\"Killing Lincoln: The Shocking Assassination that Changed America Forever (Bill O'Reilly's Killing Series)\",\"Bill O'Reilly\"],[\"Killing Patton: The Strange Death of World War II's Most Audacious General (Bill O'Reilly's Killing Series)\",\"Bill O'Reilly\"],[\"Killing Reagan: The Violent Assault That Changed a Presidency (Bill O'Reilly's Killing Series)\",\"Bill O'Reilly\"],[\"Killing the Rising Sun: How America Vanquished World War II Japan (Bill O'Reilly's Killing Series)\",\"Bill O'Reilly\"],[\"Kitchen Confidential Updated Edition: Adventures in the Culinary Underbelly (P.S.)\",\"Anthony Bourdain\"],[\"Knock-Knock Jokes for Kids\",\"Rob Elliott\"],[\"Knock-Knock Jokes for Kids\",\"Rob Elliott\"],[\"Knock-Knock Jokes for Kids\",\"Rob Elliott\"],[\"Last Week Tonight with John Oliver Presents A Day in the Life of Marlon Bundo (Better Bundo Book, LGBT Children\\u0092s Book)\",\"Jill Twiss\"],[\"Laugh-Out-Loud Jokes for Kids\",\"Rob Elliott\"],[\"Laugh-Out-Loud Jokes for Kids\",\"Rob Elliott\"],[\"Laugh-Out-Loud Jokes for Kids\",\"Rob Elliott\"],[\"Laugh-Out-Loud Jokes for Kids\",\"Rob Elliott\"],[\"Laugh-Out-Loud Jokes for Kids\",\"Rob Elliott\"],[\"Lean In: Women, Work, and the Will to Lead\",\"Sheryl Sandberg\"],[\"Leonardo da Vinci\",\"Walter Isaacson\"],[\"Lettering and Modern Calligraphy: A Beginner's Guide: Learn Hand Lettering and Brush Lettering\",\"Paper Peony Press\"],[\"Liberty and Tyranny: A Conservative Manifesto\",\"Mark R. Levin\"],[\"Life\",\"Keith Richards\"],[\"Little Bee: A Novel\",\"Chris Cleave\"],[\"Little Blue Truck\",\"Alice Schertle\"],[\"Little Fires Everywhere\",\"Celeste Ng\"],[\"Looking for Alaska\",\"John Green\"],[\"Love Wins: A Book About Heaven, Hell, and the Fate of Every Person Who Ever Lived\",\"Rob Bell\"],[\"Love You Forever\",\"Robert Munsch\"],[\"Love You Forever\",\"Robert Munsch\"],[\"Magnolia Table: A Collection of Recipes for Gathering\",\"Joanna Gaines\"],[\"Make It Ahead: A Barefoot Contessa Cookbook\",\"Ina Garten\"],[\"Make Your Bed: Little Things That Can Change Your Life...And Maybe the World\",\"Admiral William H. McRaven\"],[\"Mastering the Art of French Cooking, Vol. 2\",\"Julia Child\"],[\"Milk and Honey\",\"Rupi Kaur\"],[\"Milk and Honey\",\"Rupi Kaur\"],[\"Milk and Honey\",\"Rupi Kaur\"],[\"Milk and Vine: Inspirational Quotes From Classic Vines\",\"Adam Gasiewski\"],[\"Mindset: The New Psychology of Success\",\"Carol S. Dweck\"],[\"Mindset: The New Psychology of Success\",\"Carol S. Dweck\"],[\"Mindset: The New Psychology of Success\",\"Carol S. Dweck\"],[\"Mockingjay (The Hunger Games)\",\"Suzanne Collins\"],[\"Mockingjay (The Hunger Games)\",\"Suzanne Collins\"],[\"Mockingjay (The Hunger Games)\",\"Suzanne Collins\"],[\"National Geographic Kids Why?: Over 1,111 Answers to Everything\",\"Crispin Boyer\"],[\"National Geographic Little Kids First Big Book of Why (National Geographic Little Kids First Big Books)\",\"Amy Shields\"],[\"New Moon (The Twilight Saga)\",\"Stephenie Meyer\"],[\"Night (Night)\",\"Elie Wiesel\"],[\"No Easy Day: The Autobiography of a Navy Seal: The Firsthand Account of the Mission That Killed Osama Bin Laden\",\"Mark Owen\"],[\"Obama: An Intimate Portrait\",\"Pete Souza\"],[\"Oh, the Places You'll Go!\",\"Dr. Seuss\"],[\"Oh, the Places You'll Go!\",\"Dr. Seuss\"],[\"Oh, the Places You'll Go!\",\"Dr. Seuss\"],[\"Oh, the Places You'll Go!\",\"Dr. Seuss\"],[\"Oh, the Places You'll Go!\",\"Dr. Seuss\"],[\"Oh, the Places You'll Go!\",\"Dr. Seuss\"],[\"Oh, the Places You'll Go!\",\"Dr. Seuss\"],[\"Oh, the Places You'll Go!\",\"Dr. Seuss\"],[\"Old School (Diary of a Wimpy Kid #10)\",\"Jeff Kinney\"],[\"Olive Kitteridge\",\"Elizabeth Strout\"],[\"One Thousand Gifts: A Dare to Live Fully Right Where You Are\",\"Ann Voskamp\"],[\"One Thousand Gifts: A Dare to Live Fully Right Where You Are\",\"Ann Voskamp\"],[\"Option B: Facing Adversity, Building Resilience, and Finding Joy\",\"Sheryl Sandberg\"],[\"Origin: A Novel (Robert Langdon)\",\"Dan Brown\"],[\"Orphan Train\",\"Christina Baker Kline\"],[\"Outliers: The Story of Success\",\"Malcolm Gladwell\"],[\"Outliers: The Story of Success\",\"Malcolm Gladwell\"],[\"P is for Potty! (Sesame Street) (Lift-the-Flap)\",\"Naomi Kleinberg\"],[\"P is for Potty! (Sesame Street) (Lift-the-Flap)\",\"Naomi Kleinberg\"],[\"Percy Jackson and the Olympians Paperback Boxed Set (Books 1-3)\",\"Rick Riordan\"],[\"Player's Handbook (Dungeons & Dragons)\",\"Wizards RPG Team\"],[\"Player's Handbook (Dungeons & Dragons)\",\"Wizards RPG Team\"],[\"Player's Handbook (Dungeons & Dragons)\",\"Wizards RPG Team\"],[\"Pok\\u00e9mon Deluxe Essential Handbook: The Need-to-Know Stats and Facts on Over 700 Pok\\u00e9mon\",\"Scholastic\"],[\"Proof of Heaven: A Neurosurgeon's Journey into the Afterlife\",\"Eben Alexander\"],[\"Proof of Heaven: A Neurosurgeon's Journey into the Afterlife\",\"Eben Alexander\"],[\"Publication Manual of the American Psychological Association, 6th Edition\",\"American Psychological Association\"],[\"Publication Manual of the American Psychological Association, 6th Edition\",\"American Psychological Association\"],[\"Publication Manual of the American Psychological Association, 6th Edition\",\"American Psychological Association\"],[\"Publication Manual of the American Psychological Association, 6th Edition\",\"American Psychological Association\"],[\"Publication Manual of the American Psychological Association, 6th Edition\",\"American Psychological Association\"],[\"Publication Manual of the American Psychological Association, 6th Edition\",\"American Psychological Association\"],[\"Publication Manual of the American Psychological Association, 6th Edition\",\"American Psychological Association\"],[\"Publication Manual of the American Psychological Association, 6th Edition\",\"American Psychological Association\"],[\"Publication Manual of the American Psychological Association, 6th Edition\",\"American Psychological Association\"],[\"Publication Manual of the American Psychological Association, 6th Edition\",\"American Psychological Association\"],[\"Puppy Birthday to You! (Paw Patrol) (Little Golden Book)\",\"Golden Books\"],[\"Quiet: The Power of Introverts in a World That Can't Stop Talking\",\"Susan Cain\"],[\"Quiet: The Power of Introverts in a World That Can't Stop Talking\",\"Susan Cain\"],[\"Radical: Taking Back Your Faith from the American Dream\",\"David Platt\"],[\"Radical: Taking Back Your Faith from the American Dream\",\"David Platt\"],[\"Ready Player One: A Novel\",\"Ernest Cline\"],[\"Ready Player One: A Novel\",\"Ernest Cline\"],[\"Rush Revere and the Brave Pilgrims: Time-Travel Adventures with Exceptional Americans (1)\",\"Rush Limbaugh\"],[\"Rush Revere and the First Patriots: Time-Travel Adventures With Exceptional Americans (2)\",\"Rush Limbaugh\"],[\"Salt, Fat, Acid, Heat: Mastering the Elements of Good Cooking\",\"Samin Nosrat\"],[\"Salt, Fat, Acid, Heat: Mastering the Elements of Good Cooking\",\"Samin Nosrat\"],[\"Sarah's Key\",\"Tatiana de Rosnay\"],[\"School Zone - Big Preschool Workbook - Ages 4 and Up, Colors, Shapes, Numbers 1-10, Alphabet, Pre-Writing, Pre-Reading\\u2026\",\"School Zone\"],[\"School Zone - Big Preschool Workbook - Ages 4 and Up, Colors, Shapes, Numbers 1-10, Alphabet, Pre-Writing, Pre-Reading\\u2026\",\"School Zone\"],[\"Secret Garden: An Inky Treasure Hunt and Coloring Book (For Adults, mindfulness coloring)\",\"Johanna Basford\"],[\"Sh*t My Dad Says\",\"Justin Halpern\"],[\"Ship of Fools: How a Selfish Ruling Class Is Bringing America to the Brink of Revolution\",\"Tucker Carlson\"],[\"Shred: The Revolutionary Diet: 6 Weeks 4 Inches 2 Sizes\",\"Ian K. Smith M.D.\"],[\"Sookie Stackhouse\",\"Charlaine Harris\"],[\"Soul Healing Miracles: Ancient and New Sacred Wisdom, Knowledge, and Practical Techniques for Healing the Spiritual\\u2026\",\"Zhi Gang Sha\"],[\"Steve Jobs\",\"Walter Isaacson\"],[\"Steve Jobs\",\"Walter Isaacson\"],[\"Strange Planet (Strange Planet Series)\",\"Nathan W. Pyle\"],[\"StrengthsFinder 2.0\",\"Gallup\"],[\"StrengthsFinder 2.0\",\"Gallup\"],[\"StrengthsFinder 2.0\",\"Gallup\"],[\"StrengthsFinder 2.0\",\"Gallup\"],[\"StrengthsFinder 2.0\",\"Gallup\"],[\"StrengthsFinder 2.0\",\"Gallup\"],[\"StrengthsFinder 2.0\",\"Gallup\"],[\"StrengthsFinder 2.0\",\"Gallup\"],[\"StrengthsFinder 2.0\",\"Gallup\"],[\"Super Freakonomics: Global Cooling, Patriotic Prostitutes, and Why Suicide Bombers Should Buy Life Insurance\",\"Steven D. Levitt\"],[\"Switch: How to Change Things When Change Is Hard\",\"Chip Heath\"],[\"Sycamore Row (Jake Brigance)\",\"John Grisham\"],[\"Teach Like a Champion: 49 Techniques that Put Students on the Path to College\",\"Doug Lemov\"],[\"Teach Like a Champion: 49 Techniques that Put Students on the Path to College\",\"Doug Lemov\"],[\"The 17 Day Diet: A Doctor's Plan Designed for Rapid Results\",\"Mike Moreno\"],[\"The 4 Hour Body: An Uncommon Guide to Rapid Fat Loss, Incredible Sex and Becoming Superhuman\",\"Timothy Ferriss\"],[\"The 5 Love Languages: The Secret to Love That Lasts\",\"Gary Chapman\"],[\"The 5 Love Languages: The Secret to Love That Lasts\",\"Gary Chapman\"],[\"The 5 Love Languages: The Secret to Love That Lasts\",\"Gary Chapman\"],[\"The 5 Love Languages: The Secret to Love That Lasts\",\"Gary Chapman\"],[\"The 5 Love Languages: The Secret to Love That Lasts\",\"Gary Chapman\"],[\"The 5 Love Languages: The Secret to Love that Lasts\",\"Gary Chapman\"],[\"The 5 Love Languages: The Secret to Love that Lasts\",\"Gary Chapman\"],[\"The 5 Love Languages: The Secret to Love that Lasts\",\"Gary Chapman\"],[\"The 5 Love Languages: The Secret to Love that Lasts\",\"Gary Chapman\"],[\"The 5 Love Languages: The Secret to Love that Lasts\",\"Gary Chapman\"],[\"The 5000 Year Leap\",\"W. Cleon Skousen\"],[\"The 7 Habits of Highly Effective People: Powerful Lessons in Personal Change\",\"Stephen R. Covey\"],[\"The 7 Habits of Highly Effective People: Powerful Lessons in Personal Change\",\"Stephen R. Covey\"],[\"The 7 Habits of Highly Effective People: Powerful Lessons in Personal Change\",\"Stephen R. Covey\"],[\"The 7 Habits of Highly Effective People: Powerful Lessons in Personal Change\",\"Stephen R. Covey\"],[\"The 7 Habits of Highly Effective People: Powerful Lessons in Personal Change\",\"Stephen R. Covey\"],[\"The 7 Habits of Highly Effective People: Powerful Lessons in Personal Change\",\"Stephen R. Covey\"],[\"The 7 Habits of Highly Effective People: Powerful Lessons in Personal Change\",\"Stephen R. Covey\"],[\"The Alchemist\",\"Paulo Coelho\"],[\"The Amateur\",\"Edward Klein\"],[\"The Art of Racing in the Rain: A Novel\",\"Garth Stein\"],[\"The Art of Racing in the Rain: A Novel\",\"Garth Stein\"],[\"The Big Short: Inside the Doomsday Machine\",\"Michael Lewis\"],[\"The Blood of Olympus (The Heroes of Olympus (5))\",\"Rick Riordan\"],[\"The Blood Sugar Solution: The UltraHealthy Program for Losing Weight, Preventing Disease, and Feeling Great Now!\",\"Mark Hyman M.D.\"],[\"The Body Keeps the Score: Brain, Mind, and Body in the Healing of Trauma\",\"Bessel van der Kolk M.D.\"],[\"The Book of Basketball: The NBA According to The Sports Guy\",\"Bill Simmons\"],[\"The Book Thief\",\"Markus Zusak\"],[\"The Book Thief\",\"Markus Zusak\"],[\"The Book with No Pictures\",\"B. J. Novak\"],[\"The Book with No Pictures\",\"B. J. Novak\"],[\"The Boys in the Boat: Nine Americans and Their Epic Quest for Gold at the 1936 Berlin Olympics\",\"Daniel James Brown\"],[\"The Boys in the Boat: Nine Americans and Their Epic Quest for Gold at the 1936 Berlin Olympics\",\"Daniel James Brown\"],[\"The Casual Vacancy\",\"J.K. Rowling\"],[\"The China Study: The Most Comprehensive Study of Nutrition Ever Conducted And the Startling Implications for Diet\\u2026\",\"Thomas Campbell\"],[\"The Complete Ketogenic Diet for Beginners: Your Essential Guide to Living the Keto Lifestyle\",\"Amy Ramos\"],[\"The Complete Ketogenic Diet for Beginners: Your Essential Guide to Living the Keto Lifestyle\",\"Amy Ramos\"],[\"The Confession: A Novel\",\"John Grisham\"],[\"The Constitution of the United States\",\"Delegates of the Constitutional\\u0085\"],[\"The Daily Show with Jon Stewart Presents Earth (The Book): A Visitor's Guide to the Human Race\",\"Jon Stewart\"],[\"The Day the Crayons Quit\",\"Drew Daywalt\"],[\"The Day the Crayons Quit\",\"Drew Daywalt\"],[\"The Day the Crayons Quit\",\"Drew Daywalt\"],[\"The Dukan Diet: 2 Steps to Lose the Weight, 2 Steps to Keep It Off Forever\",\"Pierre Dukan\"],[\"The Elegance of the Hedgehog\",\"Muriel Barbery\"],[\"The Fault in Our Stars\",\"John Green\"],[\"The Fault in Our Stars\",\"John Green\"],[\"The Fault in Our Stars\",\"John Green\"],[\"The Fault in Our Stars\",\"John Green\"],[\"The Five Dysfunctions of a Team: A Leadership Fable\",\"Patrick Lencioni\"],[\"The Five Dysfunctions of a Team: A Leadership Fable\",\"Patrick Lencioni\"],[\"The Five Dysfunctions of a Team: A Leadership Fable\",\"Patrick Lencioni\"],[\"The Five Dysfunctions of a Team: A Leadership Fable\",\"Patrick Lencioni\"],[\"The Five Dysfunctions of a Team: A Leadership Fable\",\"Patrick Lencioni\"],[\"The Five Love Languages: How to Express Heartfelt Commitment to Your Mate\",\"Gary Chapman\"],[\"The Four Agreements: A Practical Guide to Personal Freedom (A Toltec Wisdom Book)\",\"Don Miguel Ruiz\"],[\"The Four Agreements: A Practical Guide to Personal Freedom (A Toltec Wisdom Book)\",\"Don Miguel Ruiz\"],[\"The Four Agreements: A Practical Guide to Personal Freedom (A Toltec Wisdom Book)\",\"Don Miguel Ruiz\"],[\"The Four Agreements: A Practical Guide to Personal Freedom (A Toltec Wisdom Book)\",\"Don Miguel Ruiz\"],[\"The Four Agreements: A Practical Guide to Personal Freedom (A Toltec Wisdom Book)\",\"Don Miguel Ruiz\"],[\"The Four Agreements: A Practical Guide to Personal Freedom (A Toltec Wisdom Book)\",\"Don Miguel Ruiz\"],[\"The Getaway\",\"Jeff Kinney\"],[\"The Girl on the Train\",\"Paula Hawkins\"],[\"The Girl on the Train\",\"Paula Hawkins\"],[\"The Girl Who Kicked the Hornet's Nest (Millennium Trilogy)\",\"Stieg Larsson\"],[\"The Girl Who Kicked the Hornet's Nest (Millennium Trilogy)\",\"Stieg Larsson\"],[\"The Girl Who Played with Fire (Millennium Series)\",\"Stieg Larsson\"],[\"The Girl Who Played with Fire (Millennium)\",\"Stieg Larsson\"],[\"The Girl with the Dragon Tattoo (Millennium Series)\",\"Stieg Larsson\"],[\"The Girl with the Dragon Tattoo (Millennium Series)\",\"Stieg Larsson\"],[\"The Going-To-Bed Book\",\"Sandra Boynton\"],[\"The Going-To-Bed Book\",\"Sandra Boynton\"],[\"The Goldfinch: A Novel (Pulitzer Prize for Fiction)\",\"Donna Tartt\"],[\"The Goldfinch: A Novel (Pulitzer Prize for Fiction)\",\"Donna Tartt\"],[\"The Great Gatsby\",\"F. Scott Fitzgerald\"],[\"The Great Gatsby\",\"F. Scott Fitzgerald\"],[\"The Great Gatsby\",\"F. Scott Fitzgerald\"],[\"The Guardians: A Novel\",\"John Grisham\"],[\"The Guernsey Literary and Potato Peel Pie Society\",\"Mary Ann Shaffer\"],[\"The Handmaid's Tale\",\"Margaret Atwood\"],[\"The Harbinger: The Ancient Mystery that Holds the Secret of America's Future\",\"Jonathan Cahn\"],[\"The Hate U Give\",\"Angie Thomas\"],[\"The Help\",\"Kathryn Stockett\"],[\"The Help\",\"Kathryn Stockett\"],[\"The Help\",\"Kathryn Stockett\"],[\"The Help\",\"Kathryn Stockett\"],[\"The House of Hades (Heroes of Olympus, Book 4)\",\"Rick Riordan\"],[\"The Hunger Games\",\"Suzanne Collins\"],[\"The Hunger Games (Book 1)\",\"Suzanne Collins\"],[\"The Hunger Games (Book 1)\",\"Suzanne Collins\"],[\"The Hunger Games Trilogy Boxed Set (1)\",\"Suzanne Collins\"],[\"The Hunger Games Trilogy Boxed Set (1)\",\"Suzanne Collins\"],[\"The Immortal Life of Henrietta Lacks\",\"Rebecca Skloot\"],[\"The Immortal Life of Henrietta Lacks\",\"Rebecca Skloot\"],[\"The Immortal Life of Henrietta Lacks\",\"Rebecca Skloot\"],[\"The Instant Pot Electric Pressure Cooker Cookbook: Easy Recipes for Fast & Healthy Meals\",\"Laurel Randolph\"],[\"The Instant Pot Electric Pressure Cooker Cookbook: Easy Recipes for Fast & Healthy Meals\",\"Laurel Randolph\"],[\"The Last Lecture\",\"Randy Pausch\"],[\"The Last Olympian (Percy Jackson and the Olympians, Book 5)\",\"Rick Riordan\"],[\"The Last Olympian (Percy Jackson and the Olympians, Book 5)\",\"Rick Riordan\"],[\"The Legend of Zelda: Hyrule Historia\",\"Patrick Thorpe\"],[\"The Lego Ideas Book: Unlock Your Imagination\",\"Daniel Lipkowitz\"],[\"The Lego Ideas Book: Unlock Your Imagination\",\"Daniel Lipkowitz\"],[\"The Life-Changing Magic of Tidying Up: The Japanese Art of Decluttering and Organizing\",\"Marie Kond\\u014d\"],[\"The Life-Changing Magic of Tidying Up: The Japanese Art of Decluttering and Organizing\",\"Marie Kond\\u014d\"],[\"The Life-Changing Magic of Tidying Up: The Japanese Art of Decluttering and Organizing\",\"Marie Kond\\u014d\"],[\"The Life-Changing Magic of Tidying Up: The Japanese Art of Decluttering and Organizing\",\"Marie Kond\\u014d\"],[\"The Litigators\",\"John Grisham\"],[\"The Lost Hero (Heroes of Olympus, Book 1)\",\"Rick Riordan\"],[\"The Lost Symbol\",\"Dan Brown\"],[\"The Love Dare\",\"Stephen Kendrick\"],[\"The Magnolia Story\",\"Chip Gaines\"],[\"The Mark of Athena (Heroes of Olympus, Book 3)\",\"Rick Riordan\"],[\"The Martian\",\"Andy Weir\"],[\"The Maze Runner (Book 1)\",\"James Dashner\"],[\"The Meltdown (Diary of a Wimpy Kid Book 13)\",\"Jeff Kinney\"],[\"The Mueller Report\",\"The Washington Post\"],[\"The Nightingale: A Novel\",\"Kristin Hannah\"],[\"The Nightingale: A Novel\",\"Kristin Hannah\"],[\"The Official SAT Study Guide\",\"The College Board\"],[\"The Official SAT Study Guide\",\"The College Board\"],[\"The Official SAT Study Guide\",\"The College Board\"],[\"The Official SAT Study Guide\",\"The College Board\"],[\"The Official SAT Study Guide\",\"The College Board\"],[\"The Official SAT Study Guide, 2016 Edition (Official Study Guide for the New Sat)\",\"The College Board\"],[\"The Paris Wife: A Novel\",\"Paula McLain\"],[\"The Pioneer Woman Cooks: A Year of Holidays: 140 Step-by-Step Recipes for Simple, Scrumptious Celebrations\",\"Ree Drummond\"],[\"The Pioneer Woman Cooks: Dinnertime - Comfort Classics, Freezer Food, 16-minute Meals, and Other Delicious Ways to Solve\\u2026\",\"Ree Drummond\"],[\"The Pioneer Woman Cooks: Food from My Frontier\",\"Ree Drummond\"],[\"The Plant Paradox Cookbook: 100 Delicious Recipes to Help You Lose Weight, Heal Your Gut, and Live Lectin-Free\",\"Dr. Steven R Gundry MD\"],[\"The Plant Paradox: The Hidden Dangers in \\\"Healthy\\\" Foods That Cause Disease and Weight Gain\",\"Dr. Steven R Gundry MD\"],[\"The Pout-Pout Fish\",\"Deborah Diesen\"],[\"The Pout-Pout Fish\",\"Deborah Diesen\"],[\"The Power of Habit: Why We Do What We Do in Life and Business\",\"Charles Duhigg\"],[\"The President Is Missing: A Novel\",\"James Patterson\"],[\"The Racketeer\",\"John Grisham\"],[\"The Red Pyramid (The Kane Chronicles, Book 1)\",\"Rick Riordan\"],[\"The Road to Serfdom: Text and Documents--The Definitive Edition (The Collected Works of F. A. Hayek, Volume 2)\",\"F. A. Hayek\"],[\"The Serpent's Shadow (The Kane Chronicles, Book 3)\",\"Rick Riordan\"],[\"The Shack: Where Tragedy Confronts Eternity\",\"William P. Young\"],[\"The Shack: Where Tragedy Confronts Eternity\",\"William P. Young\"],[\"The Short Second Life of Bree Tanner: An Eclipse Novella (The Twilight Saga)\",\"Stephenie Meyer\"],[\"The Silent Patient\",\"Alex Michaelides\"],[\"The Son of Neptune (Heroes of Olympus, Book 2)\",\"Rick Riordan\"],[\"The Subtle Art of Not Giving a F*ck: A Counterintuitive Approach to Living a Good Life\",\"Mark Manson\"],[\"The Subtle Art of Not Giving a F*ck: A Counterintuitive Approach to Living a Good Life\",\"Mark Manson\"],[\"The Subtle Art of Not Giving a F*ck: A Counterintuitive Approach to Living a Good Life\",\"Mark Manson\"],[\"The Sun and Her Flowers\",\"Rupi Kaur\"],[\"The Third Wheel (Diary of a Wimpy Kid, Book 7)\",\"Jeff Kinney\"],[\"The Throne of Fire (The Kane Chronicles, Book 2)\",\"Rick Riordan\"],[\"The Time Traveler's Wife\",\"Audrey Niffenegger\"],[\"The Tipping Point: How Little Things Can Make a Big Difference\",\"Malcolm Gladwell\"],[\"The Total Money Makeover: Classic Edition: A Proven Plan for Financial Fitness\",\"Dave Ramsey\"],[\"The Twilight Saga Collection\",\"Stephenie Meyer\"],[\"The Ugly Truth (Diary of a Wimpy Kid, Book 5)\",\"Jeff Kinney\"],[\"The Unofficial Harry Potter Cookbook: From Cauldron Cakes to Knickerbocker Glory--More Than 150 Magical Recipes for\\u2026\",\"Dinah Bucholz\"],[\"The Very Hungry Caterpillar\",\"Eric Carle\"],[\"The Very Hungry Caterpillar\",\"Eric Carle\"],[\"The Very Hungry Caterpillar\",\"Eric Carle\"],[\"The Very Hungry Caterpillar\",\"Eric Carle\"],[\"The Very Hungry Caterpillar\",\"Eric Carle\"],[\"The Very Hungry Caterpillar\",\"Eric Carle\"],[\"The Very Hungry Caterpillar\",\"Eric Carle\"],[\"The Whole30: The 30-Day Guide to Total Health and Food Freedom\",\"Melissa Hartwig Urban\"],[\"The Whole30: The 30-Day Guide to Total Health and Food Freedom\",\"Melissa Hartwig Urban\"],[\"The Whole30: The 30-Day Guide to Total Health and Food Freedom\",\"Melissa Hartwig Urban\"],[\"The Wonderful Things You Will Be\",\"Emily Winfield Martin\"],[\"The Wonderful Things You Will Be\",\"Emily Winfield Martin\"],[\"The Wonderful Things You Will Be\",\"Emily Winfield Martin\"],[\"The Wonderful Things You Will Be\",\"Emily Winfield Martin\"],[\"The Wonky Donkey\",\"Craig Smith\"],[\"The Wonky Donkey\",\"Craig Smith\"],[\"The Wright Brothers\",\"David McCullough\"],[\"Things That Matter: Three Decades of Passions, Pastimes and Politics [Deckled Edge]\",\"Charles Krauthammer\"],[\"Thinking, Fast and Slow\",\"Daniel Kahneman\"],[\"Thinking, Fast and Slow\",\"Daniel Kahneman\"],[\"Thirteen Reasons Why\",\"Jay Asher\"],[\"Thomas Jefferson: The Art of Power\",\"Jon Meacham\"],[\"Three Cups of Tea: One Man's Mission to Promote Peace - One School at a Time\",\"Greg Mortenson\"],[\"Three Cups of Tea: One Man's Mission to Promote Peace - One School at a Time\",\"Greg Mortenson\"],[\"Thug Kitchen: The Official Cookbook: Eat Like You Give a F*ck (Thug Kitchen Cookbooks)\",\"Thug Kitchen\"],[\"Thug Kitchen: The Official Cookbook: Eat Like You Give a F*ck (Thug Kitchen Cookbooks)\",\"Thug Kitchen\"],[\"Thug Kitchen: The Official Cookbook: Eat Like You Give a F*ck (Thug Kitchen Cookbooks)\",\"Thug Kitchen\"],[\"Thug Kitchen: The Official Cookbook: Eat Like You Give a F*ck (Thug Kitchen Cookbooks)\",\"Thug Kitchen\"],[\"Tina Fey: Bossypants\",\"Tina Fey\"],[\"To Kill a Mockingbird\",\"Harper Lee\"],[\"To Kill a Mockingbird\",\"Harper Lee\"],[\"To Kill a Mockingbird\",\"Harper Lee\"],[\"To Kill a Mockingbird\",\"Harper Lee\"],[\"To Kill a Mockingbird\",\"Harper Lee\"],[\"Tools of Titans: The Tactics, Routines, and Habits of Billionaires, Icons, and World-Class Performers\",\"Timothy Ferriss\"],[\"Towers of Midnight (Wheel of Time, Book Thirteen)\",\"Robert Jordan\"],[\"True Compass: A Memoir\",\"Edward M. Kennedy\"],[\"Twilight (The Twilight Saga, Book 1)\",\"Stephenie Meyer\"],[\"Ultimate Sticker Book: Frozen: More Than 60 Reusable Full-Color Stickers\",\"DK\"],[\"Unbroken: A World War II Story of Survival, Resilience, and Redemption\",\"Laura Hillenbrand\"],[\"Unbroken: A World War II Story of Survival, Resilience, and Redemption\",\"Laura Hillenbrand\"],[\"Unbroken: A World War II Story of Survival, Resilience, and Redemption\",\"Laura Hillenbrand\"],[\"Unbroken: A World War II Story of Survival, Resilience, and Redemption\",\"Laura Hillenbrand\"],[\"Unbroken: A World War II Story of Survival, Resilience, and Redemption\",\"Laura Hillenbrand\"],[\"Under the Dome: A Novel\",\"Stephen King\"],[\"Unfreedom of the Press\",\"Mark R. Levin\"],[\"Unicorn Coloring Book: For Kids Ages 4-8 (US Edition) (Silly Bear Coloring Books)\",\"Silly Bear\"],[\"Uninvited: Living Loved When You Feel Less Than, Left Out, and Lonely\",\"Lysa TerKeurst\"],[\"Watchmen\",\"Alan Moore\"],[\"Water for Elephants: A Novel\",\"Sara Gruen\"],[\"What Happened\",\"Hillary Rodham Clinton\"],[\"What If?: Serious Scientific Answers to Absurd Hypothetical Questions\",\"Randall Munroe\"],[\"What Pet Should I Get? (Classic Seuss)\",\"Dr. Seuss\"],[\"What Should Danny Do? (The Power to Choose Series)\",\"Adir Levy\"],[\"What to Expect When You're Expecting\",\"Heidi Murkoff\"],[\"Wheat Belly: Lose the Wheat, Lose the Weight, and Find Your Path Back to Health\",\"William Davis\"],[\"Wheat Belly: Lose the Wheat, Lose the Weight, and Find Your Path Back to Health\",\"William Davis\"],[\"When Breath Becomes Air\",\"Paul Kalanithi\"],[\"Where the Crawdads Sing\",\"Delia Owens\"],[\"Where the Wild Things Are\",\"Maurice Sendak\"],[\"Whose Boat Is This Boat?: Comments That Don't Help in the Aftermath of a Hurricane\",\"The Staff of The Late Show with\\u0085\"],[\"Wild: From Lost to Found on the Pacific Crest Trail\",\"Cheryl Strayed\"],[\"Winter of the World: Book Two of the Century Trilogy\",\"Ken Follett\"],[\"Women Food and God: An Unexpected Path to Almost Everything\",\"Geneen Roth\"],[\"Wonder\",\"R. J. Palacio\"],[\"Wonder\",\"R. J. Palacio\"],[\"Wonder\",\"R. J. Palacio\"],[\"Wonder\",\"R. J. Palacio\"],[\"Wonder\",\"R. J. Palacio\"],[\"Wrecking Ball (Diary of a Wimpy Kid Book 14)\",\"Jeff Kinney\"],[\"You Are a Badass: How to Stop Doubting Your Greatness and Start Living an Awesome Life\",\"Jen Sincero\"],[\"You Are a Badass: How to Stop Doubting Your Greatness and Start Living an Awesome Life\",\"Jen Sincero\"],[\"You Are a Badass: How to Stop Doubting Your Greatness and Start Living an Awesome Life\",\"Jen Sincero\"],[\"You Are a Badass: How to Stop Doubting Your Greatness and Start Living an Awesome Life\",\"Jen Sincero\"]],\"hovertemplate\":\"Reviews=%{x}<br>Name=%{customdata[0]}<br>Author=%{customdata[1]}<extra></extra>\",\"legendgroup\":\"\",\"marker\":{\"color\":\"#636efa\"},\"name\":\"\",\"notched\":true,\"offsetgroup\":\"\",\"showlegend\":false,\"type\":\"box\",\"x\":[17350,2052,18979,21424,7665,12643,19735,19699,5983,23848,23848,460,4149,5153,5013,2313,2925,2951,2426,9198,36348,36348,6310,15921,12159,798,9374,491,5360,1909,1296,615,61133,61133,11113,10070,10070,3729,9769,471,14344,14344,4505,10369,16244,2884,22614,22614,22614,4761,1542,1542,1542,6143,4022,3871,4866,4866,1329,4642,1541,1924,2094,10922,10922,10922,10922,2137,1651,6679,6679,6812,3837,6540,7955,27098,27098,17684,37,15845,3181,5062,4786,7235,7235,12619,9089,5470,5118,2134,2525,720,956,6346,6346,5505,5505,28729,28729,5413,10721,10721,4370,6042,23631,20262,47265,47265,13964,13677,17323,17323,17323,17323,17323,1555,3642,1215,5594,5594,5594,408,4799,14038,14038,14038,14038,14038,7660,22288,22288,1365,14982,9568,1636,57271,57271,57271,10141,3457,3457,3457,3457,8837,8837,8837,7038,7038,5972,25624,5476,5867,4148,19622,23973,7758,3146,10052,3564,13471,1930,15779,15779,15526,15526,3776,25001,25001,25001,25001,25001,5272,3490,3490,2812,4896,9737,1320,16643,16643,7153,4571,29651,5299,7396,7396,7062,19576,19576,19576,19576,19576,19576,978,4748,8393,11391,8634,9342,9342,10927,5235,8916,2507,3673,3673,3673,11881,6990,6990,6990,6990,6990,6132,3014,7550,3828,2752,1467,1884,25706,8491,1649,18613,18613,9867,1386,10199,2926,17739,17739,17739,3113,5542,5542,5542,26741,26741,26741,5347,7866,5680,5178,8093,3192,21834,21834,21834,21834,21834,21834,21834,21834,6169,4519,3163,3163,1831,18904,21930,10426,10426,10820,10820,548,16990,16990,16990,3503,13616,13616,8580,8580,8580,8580,8580,8580,8580,8580,8580,8580,4757,10009,10009,1985,1985,22536,22536,7150,3836,7802,7802,3619,23047,23047,9366,1265,3923,2272,973,220,7827,7827,9382,5069,5069,5069,5069,5069,5069,5069,5069,5069,1583,1907,23114,637,637,2314,4587,3477,3477,3477,3477,3477,25554,25554,25554,25554,25554,1680,9325,9325,9325,9325,4725,4725,4725,35799,2580,11813,11813,3536,6600,1789,12361,858,23148,23148,8081,8081,23358,23358,9372,4633,13061,13061,3523,2774,440,8922,8922,8922,2023,1859,50482,50482,50482,50482,3207,3207,3207,3207,3207,803,23308,23308,23308,23308,23308,23308,5836,79446,79446,7747,7747,7251,7251,10559,10559,5249,5249,33844,33844,11616,11616,11616,13609,8587,29442,11098,9947,13871,13871,13871,13871,6982,32122,32122,32122,16949,16949,9289,9289,9289,7368,7368,4028,4628,4628,5396,4247,4247,22641,22641,22641,22641,6222,4506,8747,1655,7861,6247,39459,10101,5898,2744,49288,49288,1201,1201,1201,1201,1201,807,3759,2663,3428,2876,3601,7058,9784,9784,10795,10191,14493,2186,1204,2091,19720,19720,2122,27536,4290,26490,26490,26490,5487,6377,1463,3759,3503,11550,3801,3796,9030,19546,19546,19546,19546,19546,19546,19546,7508,7508,7508,8842,8842,8842,8842,30183,30183,6169,7034,11034,11034,7932,1904,3319,3319,11128,11128,11128,11128,5977,26234,26234,26234,26234,26234,4360,2282,438,11676,2586,29673,29673,29673,29673,29673,6740,5956,6108,4585,3829,8958,5492,9292,1873,8170,3341,7497,7497,13779,87841,9967,6669,17044,10760,1302,21625,21625,21625,21625,21625,9413,14331,14331,14331,14331],\"xaxis\":\"x2\",\"yaxis\":\"y2\"}],                        {\"barmode\":\"relative\",\"legend\":{\"tracegroupgap\":0},\"template\":{\"data\":{\"bar\":[{\"error_x\":{\"color\":\"#2a3f5f\"},\"error_y\":{\"color\":\"#2a3f5f\"},\"marker\":{\"line\":{\"color\":\"#E5ECF6\",\"width\":0.5},\"pattern\":{\"fillmode\":\"overlay\",\"size\":10,\"solidity\":0.2}},\"type\":\"bar\"}],\"barpolar\":[{\"marker\":{\"line\":{\"color\":\"#E5ECF6\",\"width\":0.5},\"pattern\":{\"fillmode\":\"overlay\",\"size\":10,\"solidity\":0.2}},\"type\":\"barpolar\"}],\"carpet\":[{\"aaxis\":{\"endlinecolor\":\"#2a3f5f\",\"gridcolor\":\"white\",\"linecolor\":\"white\",\"minorgridcolor\":\"white\",\"startlinecolor\":\"#2a3f5f\"},\"baxis\":{\"endlinecolor\":\"#2a3f5f\",\"gridcolor\":\"white\",\"linecolor\":\"white\",\"minorgridcolor\":\"white\",\"startlinecolor\":\"#2a3f5f\"},\"type\":\"carpet\"}],\"choropleth\":[{\"colorbar\":{\"outlinewidth\":0,\"ticks\":\"\"},\"type\":\"choropleth\"}],\"contour\":[{\"colorbar\":{\"outlinewidth\":0,\"ticks\":\"\"},\"colorscale\":[[0.0,\"#0d0887\"],[0.1111111111111111,\"#46039f\"],[0.2222222222222222,\"#7201a8\"],[0.3333333333333333,\"#9c179e\"],[0.4444444444444444,\"#bd3786\"],[0.5555555555555556,\"#d8576b\"],[0.6666666666666666,\"#ed7953\"],[0.7777777777777778,\"#fb9f3a\"],[0.8888888888888888,\"#fdca26\"],[1.0,\"#f0f921\"]],\"type\":\"contour\"}],\"contourcarpet\":[{\"colorbar\":{\"outlinewidth\":0,\"ticks\":\"\"},\"type\":\"contourcarpet\"}],\"heatmap\":[{\"colorbar\":{\"outlinewidth\":0,\"ticks\":\"\"},\"colorscale\":[[0.0,\"#0d0887\"],[0.1111111111111111,\"#46039f\"],[0.2222222222222222,\"#7201a8\"],[0.3333333333333333,\"#9c179e\"],[0.4444444444444444,\"#bd3786\"],[0.5555555555555556,\"#d8576b\"],[0.6666666666666666,\"#ed7953\"],[0.7777777777777778,\"#fb9f3a\"],[0.8888888888888888,\"#fdca26\"],[1.0,\"#f0f921\"]],\"type\":\"heatmap\"}],\"heatmapgl\":[{\"colorbar\":{\"outlinewidth\":0,\"ticks\":\"\"},\"colorscale\":[[0.0,\"#0d0887\"],[0.1111111111111111,\"#46039f\"],[0.2222222222222222,\"#7201a8\"],[0.3333333333333333,\"#9c179e\"],[0.4444444444444444,\"#bd3786\"],[0.5555555555555556,\"#d8576b\"],[0.6666666666666666,\"#ed7953\"],[0.7777777777777778,\"#fb9f3a\"],[0.8888888888888888,\"#fdca26\"],[1.0,\"#f0f921\"]],\"type\":\"heatmapgl\"}],\"histogram\":[{\"marker\":{\"pattern\":{\"fillmode\":\"overlay\",\"size\":10,\"solidity\":0.2}},\"type\":\"histogram\"}],\"histogram2d\":[{\"colorbar\":{\"outlinewidth\":0,\"ticks\":\"\"},\"colorscale\":[[0.0,\"#0d0887\"],[0.1111111111111111,\"#46039f\"],[0.2222222222222222,\"#7201a8\"],[0.3333333333333333,\"#9c179e\"],[0.4444444444444444,\"#bd3786\"],[0.5555555555555556,\"#d8576b\"],[0.6666666666666666,\"#ed7953\"],[0.7777777777777778,\"#fb9f3a\"],[0.8888888888888888,\"#fdca26\"],[1.0,\"#f0f921\"]],\"type\":\"histogram2d\"}],\"histogram2dcontour\":[{\"colorbar\":{\"outlinewidth\":0,\"ticks\":\"\"},\"colorscale\":[[0.0,\"#0d0887\"],[0.1111111111111111,\"#46039f\"],[0.2222222222222222,\"#7201a8\"],[0.3333333333333333,\"#9c179e\"],[0.4444444444444444,\"#bd3786\"],[0.5555555555555556,\"#d8576b\"],[0.6666666666666666,\"#ed7953\"],[0.7777777777777778,\"#fb9f3a\"],[0.8888888888888888,\"#fdca26\"],[1.0,\"#f0f921\"]],\"type\":\"histogram2dcontour\"}],\"mesh3d\":[{\"colorbar\":{\"outlinewidth\":0,\"ticks\":\"\"},\"type\":\"mesh3d\"}],\"parcoords\":[{\"line\":{\"colorbar\":{\"outlinewidth\":0,\"ticks\":\"\"}},\"type\":\"parcoords\"}],\"pie\":[{\"automargin\":true,\"type\":\"pie\"}],\"scatter\":[{\"marker\":{\"colorbar\":{\"outlinewidth\":0,\"ticks\":\"\"}},\"type\":\"scatter\"}],\"scatter3d\":[{\"line\":{\"colorbar\":{\"outlinewidth\":0,\"ticks\":\"\"}},\"marker\":{\"colorbar\":{\"outlinewidth\":0,\"ticks\":\"\"}},\"type\":\"scatter3d\"}],\"scattercarpet\":[{\"marker\":{\"colorbar\":{\"outlinewidth\":0,\"ticks\":\"\"}},\"type\":\"scattercarpet\"}],\"scattergeo\":[{\"marker\":{\"colorbar\":{\"outlinewidth\":0,\"ticks\":\"\"}},\"type\":\"scattergeo\"}],\"scattergl\":[{\"marker\":{\"colorbar\":{\"outlinewidth\":0,\"ticks\":\"\"}},\"type\":\"scattergl\"}],\"scattermapbox\":[{\"marker\":{\"colorbar\":{\"outlinewidth\":0,\"ticks\":\"\"}},\"type\":\"scattermapbox\"}],\"scatterpolar\":[{\"marker\":{\"colorbar\":{\"outlinewidth\":0,\"ticks\":\"\"}},\"type\":\"scatterpolar\"}],\"scatterpolargl\":[{\"marker\":{\"colorbar\":{\"outlinewidth\":0,\"ticks\":\"\"}},\"type\":\"scatterpolargl\"}],\"scatterternary\":[{\"marker\":{\"colorbar\":{\"outlinewidth\":0,\"ticks\":\"\"}},\"type\":\"scatterternary\"}],\"surface\":[{\"colorbar\":{\"outlinewidth\":0,\"ticks\":\"\"},\"colorscale\":[[0.0,\"#0d0887\"],[0.1111111111111111,\"#46039f\"],[0.2222222222222222,\"#7201a8\"],[0.3333333333333333,\"#9c179e\"],[0.4444444444444444,\"#bd3786\"],[0.5555555555555556,\"#d8576b\"],[0.6666666666666666,\"#ed7953\"],[0.7777777777777778,\"#fb9f3a\"],[0.8888888888888888,\"#fdca26\"],[1.0,\"#f0f921\"]],\"type\":\"surface\"}],\"table\":[{\"cells\":{\"fill\":{\"color\":\"#EBF0F8\"},\"line\":{\"color\":\"white\"}},\"header\":{\"fill\":{\"color\":\"#C8D4E3\"},\"line\":{\"color\":\"white\"}},\"type\":\"table\"}]},\"layout\":{\"annotationdefaults\":{\"arrowcolor\":\"#2a3f5f\",\"arrowhead\":0,\"arrowwidth\":1},\"autotypenumbers\":\"strict\",\"coloraxis\":{\"colorbar\":{\"outlinewidth\":0,\"ticks\":\"\"}},\"colorscale\":{\"diverging\":[[0,\"#8e0152\"],[0.1,\"#c51b7d\"],[0.2,\"#de77ae\"],[0.3,\"#f1b6da\"],[0.4,\"#fde0ef\"],[0.5,\"#f7f7f7\"],[0.6,\"#e6f5d0\"],[0.7,\"#b8e186\"],[0.8,\"#7fbc41\"],[0.9,\"#4d9221\"],[1,\"#276419\"]],\"sequential\":[[0.0,\"#0d0887\"],[0.1111111111111111,\"#46039f\"],[0.2222222222222222,\"#7201a8\"],[0.3333333333333333,\"#9c179e\"],[0.4444444444444444,\"#bd3786\"],[0.5555555555555556,\"#d8576b\"],[0.6666666666666666,\"#ed7953\"],[0.7777777777777778,\"#fb9f3a\"],[0.8888888888888888,\"#fdca26\"],[1.0,\"#f0f921\"]],\"sequentialminus\":[[0.0,\"#0d0887\"],[0.1111111111111111,\"#46039f\"],[0.2222222222222222,\"#7201a8\"],[0.3333333333333333,\"#9c179e\"],[0.4444444444444444,\"#bd3786\"],[0.5555555555555556,\"#d8576b\"],[0.6666666666666666,\"#ed7953\"],[0.7777777777777778,\"#fb9f3a\"],[0.8888888888888888,\"#fdca26\"],[1.0,\"#f0f921\"]]},\"colorway\":[\"#636efa\",\"#EF553B\",\"#00cc96\",\"#ab63fa\",\"#FFA15A\",\"#19d3f3\",\"#FF6692\",\"#B6E880\",\"#FF97FF\",\"#FECB52\"],\"font\":{\"color\":\"#2a3f5f\"},\"geo\":{\"bgcolor\":\"white\",\"lakecolor\":\"white\",\"landcolor\":\"#E5ECF6\",\"showlakes\":true,\"showland\":true,\"subunitcolor\":\"white\"},\"hoverlabel\":{\"align\":\"left\"},\"hovermode\":\"closest\",\"mapbox\":{\"style\":\"light\"},\"paper_bgcolor\":\"white\",\"plot_bgcolor\":\"#E5ECF6\",\"polar\":{\"angularaxis\":{\"gridcolor\":\"white\",\"linecolor\":\"white\",\"ticks\":\"\"},\"bgcolor\":\"#E5ECF6\",\"radialaxis\":{\"gridcolor\":\"white\",\"linecolor\":\"white\",\"ticks\":\"\"}},\"scene\":{\"xaxis\":{\"backgroundcolor\":\"#E5ECF6\",\"gridcolor\":\"white\",\"gridwidth\":2,\"linecolor\":\"white\",\"showbackground\":true,\"ticks\":\"\",\"zerolinecolor\":\"white\"},\"yaxis\":{\"backgroundcolor\":\"#E5ECF6\",\"gridcolor\":\"white\",\"gridwidth\":2,\"linecolor\":\"white\",\"showbackground\":true,\"ticks\":\"\",\"zerolinecolor\":\"white\"},\"zaxis\":{\"backgroundcolor\":\"#E5ECF6\",\"gridcolor\":\"white\",\"gridwidth\":2,\"linecolor\":\"white\",\"showbackground\":true,\"ticks\":\"\",\"zerolinecolor\":\"white\"}},\"shapedefaults\":{\"line\":{\"color\":\"#2a3f5f\"}},\"ternary\":{\"aaxis\":{\"gridcolor\":\"white\",\"linecolor\":\"white\",\"ticks\":\"\"},\"baxis\":{\"gridcolor\":\"white\",\"linecolor\":\"white\",\"ticks\":\"\"},\"bgcolor\":\"#E5ECF6\",\"caxis\":{\"gridcolor\":\"white\",\"linecolor\":\"white\",\"ticks\":\"\"}},\"title\":{\"x\":0.05},\"xaxis\":{\"automargin\":true,\"gridcolor\":\"white\",\"linecolor\":\"white\",\"ticks\":\"\",\"title\":{\"standoff\":15},\"zerolinecolor\":\"white\",\"zerolinewidth\":2},\"yaxis\":{\"automargin\":true,\"gridcolor\":\"white\",\"linecolor\":\"white\",\"ticks\":\"\",\"title\":{\"standoff\":15},\"zerolinecolor\":\"white\",\"zerolinewidth\":2}}},\"title\":{\"text\":\"Reviews\"},\"xaxis\":{\"anchor\":\"y\",\"domain\":[0.0,1.0],\"title\":{\"text\":\"Reviews\"}},\"xaxis2\":{\"anchor\":\"y2\",\"domain\":[0.0,1.0],\"matches\":\"x\",\"showgrid\":true,\"showticklabels\":false},\"yaxis\":{\"anchor\":\"x\",\"domain\":[0.0,0.8316],\"title\":{\"text\":\"count\"}},\"yaxis2\":{\"anchor\":\"x2\",\"domain\":[0.8416,1.0],\"matches\":\"y2\",\"showgrid\":false,\"showline\":false,\"showticklabels\":false,\"ticks\":\"\"}},                        {\"responsive\": true}                    ).then(function(){\n",
       "                            \n",
       "var gd = document.getElementById('f22d12a1-10d0-4b9e-8100-e3c6e6d48884');\n",
       "var x = new MutationObserver(function (mutations, observer) {{\n",
       "        var display = window.getComputedStyle(gd).display;\n",
       "        if (!display || display === 'none') {{\n",
       "            console.log([gd, 'removed!']);\n",
       "            Plotly.purge(gd);\n",
       "            observer.disconnect();\n",
       "        }}\n",
       "}});\n",
       "\n",
       "// Listen for the removal of the full notebook cells\n",
       "var notebookContainer = gd.closest('#notebook-container');\n",
       "if (notebookContainer) {{\n",
       "    x.observe(notebookContainer, {childList: true});\n",
       "}}\n",
       "\n",
       "// Listen for the clearing of the current output cell\n",
       "var outputEl = gd.closest('.output');\n",
       "if (outputEl) {{\n",
       "    x.observe(outputEl, {childList: true});\n",
       "}}\n",
       "\n",
       "                        })                };                });            </script>        </div>"
      ]
     },
     "metadata": {},
     "output_type": "display_data"
    }
   ],
   "source": [
    "fig = px.histogram(df, x= 'Reviews', title='Reviews', marginal=\"box\", hover_data = df[['Name','Author']])\n",
    "fig.show()"
   ]
  },
  {
   "cell_type": "markdown",
   "id": "35802df9",
   "metadata": {
    "papermill": {
     "duration": 0.070489,
     "end_time": "2021-07-10T21:54:19.318864",
     "exception": false,
     "start_time": "2021-07-10T21:54:19.248375",
     "status": "completed"
    },
    "tags": []
   },
   "source": [
    "- As expected, highly right skewed distribution with the outliers on the maximum side.\n",
    "\n",
    "- By the way, I saw that Kristin Hannah's 'The Nightingale' is among the outliers with 49K plus reviews. It is a beautiful novel to read."
   ]
  },
  {
   "cell_type": "markdown",
   "id": "9ca1ce09",
   "metadata": {
    "papermill": {
     "duration": 0.067936,
     "end_time": "2021-07-10T21:54:19.457031",
     "exception": false,
     "start_time": "2021-07-10T21:54:19.389095",
     "status": "completed"
    },
    "tags": []
   },
   "source": [
    "#### **Price**"
   ]
  },
  {
   "cell_type": "code",
   "execution_count": 14,
   "id": "7c479fe4",
   "metadata": {
    "_kg_hide-input": true,
    "execution": {
     "iopub.execute_input": "2021-07-10T21:54:19.596404Z",
     "iopub.status.busy": "2021-07-10T21:54:19.595818Z",
     "iopub.status.idle": "2021-07-10T21:54:19.602524Z",
     "shell.execute_reply": "2021-07-10T21:54:19.603057Z",
     "shell.execute_reply.started": "2021-07-10T21:43:43.981394Z"
    },
    "papermill": {
     "duration": 0.078099,
     "end_time": "2021-07-10T21:54:19.603209",
     "exception": false,
     "start_time": "2021-07-10T21:54:19.525110",
     "status": "completed"
    },
    "tags": []
   },
   "outputs": [
    {
     "data": {
      "text/plain": [
       "count    550.000000\n",
       "mean      13.100000\n",
       "std       10.842262\n",
       "min        0.000000\n",
       "25%        7.000000\n",
       "50%       11.000000\n",
       "75%       16.000000\n",
       "max      105.000000\n",
       "Name: Price, dtype: float64"
      ]
     },
     "execution_count": 14,
     "metadata": {},
     "output_type": "execute_result"
    }
   ],
   "source": [
    "df['Price'].describe()"
   ]
  },
  {
   "cell_type": "markdown",
   "id": "78850179",
   "metadata": {
    "papermill": {
     "duration": 0.06832,
     "end_time": "2021-07-10T21:54:19.739956",
     "exception": false,
     "start_time": "2021-07-10T21:54:19.671636",
     "status": "completed"
    },
    "tags": []
   },
   "source": [
    "- We can expect slightly rightly skewed distribution\n",
    "- Still, distribution will be close to the normal distribution.\n",
    "- We can expect outliers on the maximum side.\n",
    "- Yeah, we have also free books. \n",
    "- Let me note them to check it after the analys and if any of them still free, I would be happy to have it."
   ]
  },
  {
   "cell_type": "code",
   "execution_count": 15,
   "id": "58e6bfa6",
   "metadata": {
    "_kg_hide-input": true,
    "execution": {
     "iopub.execute_input": "2021-07-10T21:54:19.886277Z",
     "iopub.status.busy": "2021-07-10T21:54:19.885624Z",
     "iopub.status.idle": "2021-07-10T21:54:19.963635Z",
     "shell.execute_reply": "2021-07-10T21:54:19.963102Z",
     "shell.execute_reply.started": "2021-07-10T21:43:43.991658Z"
    },
    "papermill": {
     "duration": 0.155308,
     "end_time": "2021-07-10T21:54:19.963795",
     "exception": false,
     "start_time": "2021-07-10T21:54:19.808487",
     "status": "completed"
    },
    "tags": []
   },
   "outputs": [
    {
     "data": {
      "text/html": [
       "<div>                            <div id=\"c04c5244-1943-4e76-83b3-e799c5050299\" class=\"plotly-graph-div\" style=\"height:525px; width:100%;\"></div>            <script type=\"text/javascript\">                require([\"plotly\"], function(Plotly) {                    window.PLOTLYENV=window.PLOTLYENV || {};                                    if (document.getElementById(\"c04c5244-1943-4e76-83b3-e799c5050299\")) {                    Plotly.newPlot(                        \"c04c5244-1943-4e76-83b3-e799c5050299\",                        [{\"alignmentgroup\":\"True\",\"bingroup\":\"x\",\"hovertemplate\":\"Price=%{x}<br>count=%{y}<extra></extra>\",\"legendgroup\":\"\",\"marker\":{\"color\":\"#636efa\",\"pattern\":{\"shape\":\"\"}},\"name\":\"\",\"offsetgroup\":\"\",\"orientation\":\"v\",\"showlegend\":false,\"type\":\"histogram\",\"x\":[8,22,15,6,12,11,30,15,3,8,8,2,32,5,17,4,6,6,8,13,14,14,13,9,13,5,9,14,5,11,24,21,11,11,15,13,13,18,13,8,5,5,0,4,18,28,11,11,11,16,14,14,14,8,4,5,11,11,10,13,4,8,4,5,5,5,5,17,15,105,105,0,15,22,5,15,15,6,6,13,12,6,8,4,4,8,8,6,20,5,16,1,14,9,9,7,18,15,15,9,8,8,15,2,7,11,14,14,32,6,4,4,4,4,4,9,0,9,5,5,5,20,16,4,4,4,4,4,12,12,12,11,19,9,6,10,10,9,6,14,14,14,14,5,5,5,7,7,10,14,7,54,11,30,12,18,30,22,9,52,4,10,10,14,14,22,11,11,11,11,11,16,15,15,17,17,7,7,4,4,9,21,14,20,13,13,12,8,8,8,8,8,8,0,12,17,12,25,10,10,6,5,6,8,4,4,4,13,4,4,4,4,4,13,21,6,15,18,10,0,12,7,13,5,5,16,20,11,27,8,8,8,6,10,10,10,8,8,8,16,11,10,9,14,22,8,8,8,8,8,8,8,8,7,12,13,13,9,13,11,20,20,5,5,2,27,27,27,9,10,10,46,46,46,46,46,46,46,46,46,46,4,20,7,9,9,12,12,12,12,20,20,10,6,6,9,11,16,6,25,17,20,20,6,17,17,17,17,17,17,17,17,17,18,13,18,20,20,22,21,28,28,28,28,28,8,8,8,8,8,12,24,24,24,24,16,16,16,39,9,10,10,17,11,14,12,53,6,6,8,8,12,12,12,21,6,6,13,0,11,9,9,9,15,11,13,13,7,13,6,6,6,6,6,9,6,6,6,6,6,6,0,18,7,14,14,9,16,2,2,5,5,20,20,7,7,7,14,10,7,13,11,6,6,8,7,14,14,8,8,30,30,13,9,9,7,7,9,7,7,20,13,13,11,11,11,11,18,14,19,13,5,10,9,8,8,12,11,11,40,40,40,40,40,36,16,17,14,21,18,17,5,5,21,18,18,12,14,12,8,8,0,14,10,15,15,15,9,7,10,6,9,10,82,12,10,5,5,5,5,5,5,5,16,16,16,10,10,10,10,4,4,16,15,19,19,9,23,11,11,23,23,23,23,12,0,0,0,0,7,21,21,15,9,5,16,16,16,13,16,20,11,4,9,42,12,18,17,14,13,9,6,6,14,15,13,12,18,15,11,9,9,9,9,9,8,8,8,8,8],\"xaxis\":\"x\",\"yaxis\":\"y\"},{\"alignmentgroup\":\"True\",\"customdata\":[[\"10-Day Green Smoothie Cleanse\",\"JJ Smith\"],[\"11/22/63: A Novel\",\"Stephen King\"],[\"12 Rules for Life: An Antidote to Chaos\",\"Jordan B. Peterson\"],[\"1984 (Signet Classics)\",\"George Orwell\"],[\"5,000 Awesome Facts (About Everything!) (National Geographic Kids)\",\"National Geographic Kids\"],[\"A Dance with Dragons (A Song of Ice and Fire)\",\"George R. R. Martin\"],[\"A Game of Thrones / A Clash of Kings / A Storm of Swords / A Feast of Crows / A Dance with Dragons\",\"George R. R. Martin\"],[\"A Gentleman in Moscow: A Novel\",\"Amor Towles\"],[\"A Higher Loyalty: Truth, Lies, and Leadership\",\"James Comey\"],[\"A Man Called Ove: A Novel\",\"Fredrik Backman\"],[\"A Man Called Ove: A Novel\",\"Fredrik Backman\"],[\"A Patriot's History of the United States: From Columbus's Great Discovery to the War on Terror\",\"Larry Schweikart\"],[\"A Stolen Life: A Memoir\",\"Jaycee Dugard\"],[\"A Wrinkle in Time (Time Quintet)\",\"Madeleine L'Engle\"],[\"Act Like a Lady, Think Like a Man: What Men Really Think About Love, Relationships, Intimacy, and Commitment\",\"Steve Harvey\"],[\"Adult Coloring Book Designs: Stress Relief Coloring Book: Garden Designs, Mandalas, Animals, and Paisley Patterns\",\"Adult Coloring Book Designs\"],[\"Adult Coloring Book: Stress Relieving Animal Designs\",\"Blue Star Coloring\"],[\"Adult Coloring Book: Stress Relieving Patterns\",\"Blue Star Coloring\"],[\"Adult Coloring Books: A Coloring Book for Adults Featuring Mandalas and Henna Inspired Flowers, Animals, and Paisley\\u2026\",\"Coloring Books for Adults\"],[\"Alexander Hamilton\",\"Ron Chernow\"],[\"All the Light We Cannot See\",\"Anthony Doerr\"],[\"All the Light We Cannot See\",\"Anthony Doerr\"],[\"Allegiant\",\"Veronica Roth\"],[\"American Sniper: The Autobiography of the Most Lethal Sniper in U.S. Military History\",\"Chris Kyle\"],[\"And the Mountains Echoed\",\"Khaled Hosseini\"],[\"Arguing with Idiots: How to Stop Small Minds and Big Government\",\"Glenn Beck\"],[\"Astrophysics for People in a Hurry\",\"Neil deGrasse Tyson\"],[\"Autobiography of Mark Twain, Vol. 1\",\"Mark Twain\"],[\"Baby Touch and Feel: Animals\",\"DK\"],[\"Balance (Angie's Extreme Stress Menders)\",\"Angie Grace\"],[\"Barefoot Contessa Foolproof: Recipes You Can Trust: A Cookbook\",\"Ina Garten\"],[\"Barefoot Contessa, How Easy Is That?: Fabulous Recipes & Easy Tips\",\"Ina Garten\"],[\"Becoming\",\"Michelle Obama\"],[\"Becoming\",\"Michelle Obama\"],[\"Being Mortal: Medicine and What Matters in the End\",\"Atul Gawande\"],[\"Between the World and Me\",\"Ta-Nehisi Coates\"],[\"Between the World and Me\",\"Ta-Nehisi Coates\"],[\"Born to Run\",\"Bruce Springsteen\"],[\"Breaking Dawn (The Twilight Saga, Book 4)\",\"Stephenie Meyer\"],[\"Broke: The Plan to Restore Our Trust, Truth and Treasure\",\"Glenn Beck\"],[\"Brown Bear, Brown Bear, What Do You See?\",\"Bill Martin Jr.\"],[\"Brown Bear, Brown Bear, What Do You See?\",\"Bill Martin Jr.\"],[\"Cabin Fever (Diary of a Wimpy Kid, Book 6)\",\"Jeff Kinney\"],[\"Calm the F*ck Down: An Irreverent Adult Coloring Book (Irreverent Book Series)\",\"Sasha O'Hara\"],[\"Can't Hurt Me: Master Your Mind and Defy the Odds\",\"David Goggins\"],[\"Capital in the Twenty First Century\",\"Thomas Piketty\"],[\"Catching Fire (The Hunger Games)\",\"Suzanne Collins\"],[\"Catching Fire (The Hunger Games)\",\"Suzanne Collins\"],[\"Catching Fire (The Hunger Games)\",\"Suzanne Collins\"],[\"Cravings: Recipes for All the Food You Want to Eat: A Cookbook\",\"Chrissy Teigen\"],[\"Crazy Love: Overwhelmed by a Relentless God\",\"Francis Chan\"],[\"Crazy Love: Overwhelmed by a Relentless God\",\"Francis Chan\"],[\"Crazy Love: Overwhelmed by a Relentless God\",\"Francis Chan\"],[\"Crazy Rich Asians (Crazy Rich Asians Trilogy)\",\"Kevin Kwan\"],[\"Creative Haven Creative Cats Coloring Book (Adult Coloring)\",\"Marjorie Sarnat\"],[\"Creative Haven Owls Coloring Book (Adult Coloring)\",\"Marjorie Sarnat\"],[\"Cutting for Stone\",\"Abraham Verghese\"],[\"Cutting for Stone\",\"Abraham Verghese\"],[\"Daring Greatly: How the Courage to Be Vulnerable Transforms the Way We Live, Love, Parent, and Lead\",\"Brene\\u0301 Brown\"],[\"David and Goliath: Underdogs, Misfits, and the Art of Battling Giants\",\"Malcolm Gladwell\"],[\"Dead And Gone: A Sookie Stackhouse Novel (Sookie Stackhouse/True Blood)\",\"Charlaine Harris\"],[\"Dead in the Family (Sookie Stackhouse/True Blood, Book 10)\",\"Charlaine Harris\"],[\"Dead Reckoning (Sookie Stackhouse/True Blood, Book 11)\",\"Charlaine Harris\"],[\"Dear Zoo: A Lift-the-Flap Book\",\"Rod Campbell\"],[\"Dear Zoo: A Lift-the-Flap Book\",\"Rod Campbell\"],[\"Dear Zoo: A Lift-the-Flap Book\",\"Rod Campbell\"],[\"Dear Zoo: A Lift-the-Flap Book\",\"Rod Campbell\"],[\"Decision Points\",\"George W. Bush\"],[\"Delivering Happiness: A Path to Profits, Passion, and Purpose\",\"Tony Hsieh\"],[\"Diagnostic and Statistical Manual of Mental Disorders, 5th Edition: DSM-5\",\"American Psychiatric Association\"],[\"Diagnostic and Statistical Manual of Mental Disorders, 5th Edition: DSM-5\",\"American Psychiatric Association\"],[\"Diary of a Wimpy Kid: Hard Luck, Book 8\",\"Jeff Kinney\"],[\"Diary of a Wimpy Kid: The Last Straw (Book 3)\",\"Jeff Kinney\"],[\"Diary of a Wimpy Kid: The Long Haul\",\"Jeff Kinney\"],[\"Difficult Riddles For Smart Kids: 300 Difficult Riddles And Brain Teasers Families Will Love (Books for Smart Kids)\",\"M Prefontaine\"],[\"Divergent\",\"Veronica Roth\"],[\"Divergent\",\"Veronica Roth\"],[\"Divergent / Insurgent\",\"Veronica Roth\"],[\"Divine Soul Mind Body Healing and Transmission System: The Divine Way to Heal You, Humanity, Mother Earth, and All\\u2026\",\"Zhi Gang Sha\"],[\"Doctor Sleep: A Novel\",\"Stephen King\"],[\"Dog Days (Diary of a Wimpy Kid, Book 4) (Volume 4)\",\"Jeff Kinney\"],[\"Dog Man and Cat Kid: From the Creator of Captain Underpants (Dog Man #4)\",\"Dav Pilkey\"],[\"Dog Man: A Tale of Two Kitties: From the Creator of Captain Underpants (Dog Man #3)\",\"Dav Pilkey\"],[\"Dog Man: Brawl of the Wild: From the Creator of Captain Underpants (Dog Man #6)\",\"Dav Pilkey\"],[\"Dog Man: Brawl of the Wild: From the Creator of Captain Underpants (Dog Man #6)\",\"Dav Pilkey\"],[\"Dog Man: Fetch-22: From the Creator of Captain Underpants (Dog Man #8)\",\"Dav Pilkey\"],[\"Dog Man: For Whom the Ball Rolls: From the Creator of Captain Underpants (Dog Man #7)\",\"Dav Pilkey\"],[\"Dog Man: Lord of the Fleas: From the Creator of Captain Underpants (Dog Man #5)\",\"Dav Pilkey\"],[\"Double Down (Diary of a Wimpy Kid #11)\",\"Jeff Kinney\"],[\"Dover Creative Haven Art Nouveau Animal Designs Coloring Book (Creative Haven Coloring Books)\",\"Marty Noble\"],[\"Drive: The Surprising Truth About What Motivates Us\",\"Daniel H. Pink\"],[\"Eat This Not That! Supermarket Survival Guide: The No-Diet Weight Loss Solution\",\"David Zinczenko\"],[\"Eat This, Not That! Thousands of Simple Food Swaps that Can Save You 10, 20, 30 Pounds--or More!\",\"David Zinczenko\"],[\"Eat to Live: The Amazing Nutrient-Rich Program for Fast and Sustained Weight Loss, Revised Edition\",\"Joel Fuhrman MD\"],[\"Eat to Live: The Amazing Nutrient-Rich Program for Fast and Sustained Weight Loss, Revised Edition\",\"Joel Fuhrman MD\"],[\"Eclipse (Twilight Sagas)\",\"Stephenie Meyer\"],[\"Eclipse (Twilight)\",\"Stephenie Meyer\"],[\"Educated: A Memoir\",\"Tara Westover\"],[\"Educated: A Memoir\",\"Tara Westover\"],[\"Enchanted Forest: An Inky Quest and Coloring book (Activity Books, Mindfulness and Meditation, Illustrated Floral Prints\\u2026\",\"Johanna Basford\"],[\"Fahrenheit 451\",\"Ray Bradbury\"],[\"Fahrenheit 451\",\"Ray Bradbury\"],[\"Fantastic Beasts and Where to Find Them: The Original Screenplay (Harry Potter)\",\"J.K. Rowling\"],[\"Fear: Trump in the White House\",\"Bob Woodward\"],[\"Fifty Shades Darker\",\"E L James\"],[\"Fifty Shades Freed: Book Three of the Fifty Shades Trilogy (Fifty Shades of Grey Series) (English Edition)\",\"E L James\"],[\"Fifty Shades of Grey: Book One of the Fifty Shades Trilogy (Fifty Shades of Grey Series)\",\"E L James\"],[\"Fifty Shades of Grey: Book One of the Fifty Shades Trilogy (Fifty Shades of Grey Series)\",\"E L James\"],[\"Fifty Shades Trilogy (Fifty Shades of Grey / Fifty Shades Darker / Fifty Shades Freed)\",\"E L James\"],[\"Fire and Fury: Inside the Trump White House\",\"Michael Wolff\"],[\"First 100 Words\",\"Roger Priddy\"],[\"First 100 Words\",\"Roger Priddy\"],[\"First 100 Words\",\"Roger Priddy\"],[\"First 100 Words\",\"Roger Priddy\"],[\"First 100 Words\",\"Roger Priddy\"],[\"Food Rules: An Eater's Manual\",\"Michael Pollan\"],[\"Frozen (Little Golden Book)\",\"RH Disney\"],[\"Game Change: Obama and the Clintons, McCain and Palin, and the Race of a Lifetime\",\"John Heilemann\"],[\"Game of Thrones Boxed Set: A Game of Thrones/A Clash of Kings/A Storm of Swords/A Feast for Crows\",\"George R.R. Martin\"],[\"Game of Thrones Boxed Set: A Game of Thrones/A Clash of Kings/A Storm of Swords/A Feast for Crows\",\"George R.R. Martin\"],[\"Game of Thrones Boxed Set: A Game of Thrones/A Clash of Kings/A Storm of Swords/A Feast for Crows\",\"George R.R. Martin\"],[\"George Washington's Sacred Fire\",\"Peter A. Lillback\"],[\"George Washington's Secret Six: The Spy Ring That Saved the American Revolution\",\"Brian Kilmeade\"],[\"Giraffes Can't Dance\",\"Giles Andreae\"],[\"Giraffes Can't Dance\",\"Giles Andreae\"],[\"Giraffes Can't Dance\",\"Giles Andreae\"],[\"Giraffes Can't Dance\",\"Giles Andreae\"],[\"Giraffes Can't Dance\",\"Giles Andreae\"],[\"Girl, Stop Apologizing: A Shame-Free Plan for Embracing and Achieving Your Goals\",\"Rachel Hollis\"],[\"Girl, Wash Your Face: Stop Believing the Lies About Who You Are So You Can Become Who You Were Meant to Be\",\"Rachel Hollis\"],[\"Girl, Wash Your Face: Stop Believing the Lies About Who You Are So You Can Become Who You Were Meant to Be\",\"Rachel Hollis\"],[\"Glenn Beck's Common Sense: The Case Against an Out-of-Control Government, Inspired by Thomas Paine\",\"Glenn Beck\"],[\"Go Set a Watchman: A Novel\",\"Harper Lee\"],[\"Go the F**k to Sleep\",\"Adam Mansbach\"],[\"Going Rogue: An American Life\",\"Sarah Palin\"],[\"Gone Girl\",\"Gillian Flynn\"],[\"Gone Girl\",\"Gillian Flynn\"],[\"Gone Girl\",\"Gillian Flynn\"],[\"Good Days Start With Gratitude: A 52 Week Guide To Cultivate An Attitude Of Gratitude: Gratitude Journal\",\"Pretty Simple Press\"],[\"Good to Great: Why Some Companies Make the Leap and Others Don't\",\"Jim Collins\"],[\"Good to Great: Why Some Companies Make the Leap and Others Don't\",\"Jim Collins\"],[\"Good to Great: Why Some Companies Make the Leap and Others Don't\",\"Jim Collins\"],[\"Good to Great: Why Some Companies Make the Leap and Others Don't\",\"Jim Collins\"],[\"Goodnight Moon\",\"Margaret Wise Brown\"],[\"Goodnight Moon\",\"Margaret Wise Brown\"],[\"Goodnight Moon\",\"Margaret Wise Brown\"],[\"Goodnight, Goodnight Construction Site (Hardcover Books for Toddlers, Preschool Books for Kids)\",\"Sherri Duskey Rinker\"],[\"Goodnight, Goodnight Construction Site (Hardcover Books for Toddlers, Preschool Books for Kids)\",\"Sherri Duskey Rinker\"],[\"Grain Brain: The Surprising Truth about Wheat, Carbs, and Sugar--Your Brain's Silent Killers\",\"David Perlmutter MD\"],[\"Grey: Fifty Shades of Grey as Told by Christian (Fifty Shades of Grey Series)\",\"E L James\"],[\"Guts\",\"Raina Telgemeier\"],[\"Hamilton: The Revolution\",\"Lin-Manuel Miranda\"],[\"Happy, Happy, Happy: My Life and Legacy as the Duck Commander\",\"Phil Robertson\"],[\"Harry Potter and the Chamber of Secrets: The Illustrated Edition (Harry Potter, Book 2)\",\"J.K. Rowling\"],[\"Harry Potter and the Cursed Child, Parts 1 & 2, Special Rehearsal Edition Script\",\"J.K. Rowling\"],[\"Harry Potter and the Goblet of Fire: The Illustrated Edition (Harry Potter, Book 4) (4)\",\"J. K. Rowling\"],[\"Harry Potter and the Prisoner of Azkaban: The Illustrated Edition (Harry Potter, Book 3)\",\"J.K. Rowling\"],[\"Harry Potter and the Sorcerer's Stone: The Illustrated Edition (Harry Potter, Book 1)\",\"J.K. Rowling\"],[\"Harry Potter Coloring Book\",\"Scholastic\"],[\"Harry Potter Paperback Box Set (Books 1-7)\",\"J. K. Rowling\"],[\"Have a Little Faith: A True Story\",\"Mitch Albom\"],[\"Heaven is for Real: A Little Boy's Astounding Story of His Trip to Heaven and Back\",\"Todd Burpo\"],[\"Heaven is for Real: A Little Boy's Astounding Story of His Trip to Heaven and Back\",\"Todd Burpo\"],[\"Hillbilly Elegy: A Memoir of a Family and Culture in Crisis\",\"J. D. Vance\"],[\"Hillbilly Elegy: A Memoir of a Family and Culture in Crisis\",\"J. D. Vance\"],[\"Homebody: A Guide to Creating Spaces You Never Want to Leave\",\"Joanna Gaines\"],[\"How to Win Friends & Influence People\",\"Dale Carnegie\"],[\"How to Win Friends & Influence People\",\"Dale Carnegie\"],[\"How to Win Friends & Influence People\",\"Dale Carnegie\"],[\"How to Win Friends & Influence People\",\"Dale Carnegie\"],[\"How to Win Friends & Influence People\",\"Dale Carnegie\"],[\"Howard Stern Comes Again\",\"Howard Stern\"],[\"Humans of New York\",\"Brandon Stanton\"],[\"Humans of New York\",\"Brandon Stanton\"],[\"Humans of New York : Stories\",\"Brandon Stanton\"],[\"Hyperbole and a Half: Unfortunate Situations, Flawed Coping Mechanisms, Mayhem, and Other Things That Happened\",\"Allie Brosh\"],[\"I Am Confident, Brave & Beautiful: A Coloring Book for Girls\",\"Hopscotch Girls\"],[\"I, Alex Cross\",\"James Patterson\"],[\"If Animals Kissed Good Night\",\"Ann Whitford Paul\"],[\"If Animals Kissed Good Night\",\"Ann Whitford Paul\"],[\"If I Stay\",\"Gayle Forman\"],[\"In the Garden of Beasts: Love, Terror, and an American Family in Hitler's Berlin\",\"Eric Larson\"],[\"Inferno\",\"Dan Brown\"],[\"Inheritance: Book IV (Inheritance Cycle)\",\"Christopher Paolini\"],[\"Instant Pot Pressure Cooker Cookbook: 500 Everyday Recipes for Beginners and Advanced Users. Try Easy and Healthy\\u2026\",\"Jennifer Smith\"],[\"Instant Pot Pressure Cooker Cookbook: 500 Everyday Recipes for Beginners and Advanced Users. Try Easy and Healthy\\u2026\",\"Jennifer Smith\"],[\"It's Not Supposed to Be This Way: Finding Unexpected Strength When Disappointments Leave You Shattered\",\"Lysa TerKeurst\"],[\"Jesus Calling: Enjoying Peace in His Presence (with Scripture References)\",\"Sarah Young\"],[\"Jesus Calling: Enjoying Peace in His Presence (with Scripture References)\",\"Sarah Young\"],[\"Jesus Calling: Enjoying Peace in His Presence (with Scripture References)\",\"Sarah Young\"],[\"Jesus Calling: Enjoying Peace in His Presence (with Scripture References)\",\"Sarah Young\"],[\"Jesus Calling: Enjoying Peace in His Presence (with Scripture References)\",\"Sarah Young\"],[\"Jesus Calling: Enjoying Peace in His Presence (with Scripture References)\",\"Sarah Young\"],[\"JOURNEY TO THE ICE P\",\"RH Disney\"],[\"Joyland (Hard Case Crime)\",\"Stephen King\"],[\"Killers of the Flower Moon: The Osage Murders and the Birth of the FBI\",\"David Grann\"],[\"Killing Jesus (Bill O'Reilly's Killing Series)\",\"Bill O'Reilly\"],[\"Killing Kennedy: The End of Camelot\",\"Bill O'Reilly\"],[\"Killing Lincoln: The Shocking Assassination that Changed America Forever (Bill O'Reilly's Killing Series)\",\"Bill O'Reilly\"],[\"Killing Lincoln: The Shocking Assassination that Changed America Forever (Bill O'Reilly's Killing Series)\",\"Bill O'Reilly\"],[\"Killing Patton: The Strange Death of World War II's Most Audacious General (Bill O'Reilly's Killing Series)\",\"Bill O'Reilly\"],[\"Killing Reagan: The Violent Assault That Changed a Presidency (Bill O'Reilly's Killing Series)\",\"Bill O'Reilly\"],[\"Killing the Rising Sun: How America Vanquished World War II Japan (Bill O'Reilly's Killing Series)\",\"Bill O'Reilly\"],[\"Kitchen Confidential Updated Edition: Adventures in the Culinary Underbelly (P.S.)\",\"Anthony Bourdain\"],[\"Knock-Knock Jokes for Kids\",\"Rob Elliott\"],[\"Knock-Knock Jokes for Kids\",\"Rob Elliott\"],[\"Knock-Knock Jokes for Kids\",\"Rob Elliott\"],[\"Last Week Tonight with John Oliver Presents A Day in the Life of Marlon Bundo (Better Bundo Book, LGBT Children\\u0092s Book)\",\"Jill Twiss\"],[\"Laugh-Out-Loud Jokes for Kids\",\"Rob Elliott\"],[\"Laugh-Out-Loud Jokes for Kids\",\"Rob Elliott\"],[\"Laugh-Out-Loud Jokes for Kids\",\"Rob Elliott\"],[\"Laugh-Out-Loud Jokes for Kids\",\"Rob Elliott\"],[\"Laugh-Out-Loud Jokes for Kids\",\"Rob Elliott\"],[\"Lean In: Women, Work, and the Will to Lead\",\"Sheryl Sandberg\"],[\"Leonardo da Vinci\",\"Walter Isaacson\"],[\"Lettering and Modern Calligraphy: A Beginner's Guide: Learn Hand Lettering and Brush Lettering\",\"Paper Peony Press\"],[\"Liberty and Tyranny: A Conservative Manifesto\",\"Mark R. Levin\"],[\"Life\",\"Keith Richards\"],[\"Little Bee: A Novel\",\"Chris Cleave\"],[\"Little Blue Truck\",\"Alice Schertle\"],[\"Little Fires Everywhere\",\"Celeste Ng\"],[\"Looking for Alaska\",\"John Green\"],[\"Love Wins: A Book About Heaven, Hell, and the Fate of Every Person Who Ever Lived\",\"Rob Bell\"],[\"Love You Forever\",\"Robert Munsch\"],[\"Love You Forever\",\"Robert Munsch\"],[\"Magnolia Table: A Collection of Recipes for Gathering\",\"Joanna Gaines\"],[\"Make It Ahead: A Barefoot Contessa Cookbook\",\"Ina Garten\"],[\"Make Your Bed: Little Things That Can Change Your Life...And Maybe the World\",\"Admiral William H. McRaven\"],[\"Mastering the Art of French Cooking, Vol. 2\",\"Julia Child\"],[\"Milk and Honey\",\"Rupi Kaur\"],[\"Milk and Honey\",\"Rupi Kaur\"],[\"Milk and Honey\",\"Rupi Kaur\"],[\"Milk and Vine: Inspirational Quotes From Classic Vines\",\"Adam Gasiewski\"],[\"Mindset: The New Psychology of Success\",\"Carol S. Dweck\"],[\"Mindset: The New Psychology of Success\",\"Carol S. Dweck\"],[\"Mindset: The New Psychology of Success\",\"Carol S. Dweck\"],[\"Mockingjay (The Hunger Games)\",\"Suzanne Collins\"],[\"Mockingjay (The Hunger Games)\",\"Suzanne Collins\"],[\"Mockingjay (The Hunger Games)\",\"Suzanne Collins\"],[\"National Geographic Kids Why?: Over 1,111 Answers to Everything\",\"Crispin Boyer\"],[\"National Geographic Little Kids First Big Book of Why (National Geographic Little Kids First Big Books)\",\"Amy Shields\"],[\"New Moon (The Twilight Saga)\",\"Stephenie Meyer\"],[\"Night (Night)\",\"Elie Wiesel\"],[\"No Easy Day: The Autobiography of a Navy Seal: The Firsthand Account of the Mission That Killed Osama Bin Laden\",\"Mark Owen\"],[\"Obama: An Intimate Portrait\",\"Pete Souza\"],[\"Oh, the Places You'll Go!\",\"Dr. Seuss\"],[\"Oh, the Places You'll Go!\",\"Dr. Seuss\"],[\"Oh, the Places You'll Go!\",\"Dr. Seuss\"],[\"Oh, the Places You'll Go!\",\"Dr. Seuss\"],[\"Oh, the Places You'll Go!\",\"Dr. Seuss\"],[\"Oh, the Places You'll Go!\",\"Dr. Seuss\"],[\"Oh, the Places You'll Go!\",\"Dr. Seuss\"],[\"Oh, the Places You'll Go!\",\"Dr. Seuss\"],[\"Old School (Diary of a Wimpy Kid #10)\",\"Jeff Kinney\"],[\"Olive Kitteridge\",\"Elizabeth Strout\"],[\"One Thousand Gifts: A Dare to Live Fully Right Where You Are\",\"Ann Voskamp\"],[\"One Thousand Gifts: A Dare to Live Fully Right Where You Are\",\"Ann Voskamp\"],[\"Option B: Facing Adversity, Building Resilience, and Finding Joy\",\"Sheryl Sandberg\"],[\"Origin: A Novel (Robert Langdon)\",\"Dan Brown\"],[\"Orphan Train\",\"Christina Baker Kline\"],[\"Outliers: The Story of Success\",\"Malcolm Gladwell\"],[\"Outliers: The Story of Success\",\"Malcolm Gladwell\"],[\"P is for Potty! (Sesame Street) (Lift-the-Flap)\",\"Naomi Kleinberg\"],[\"P is for Potty! (Sesame Street) (Lift-the-Flap)\",\"Naomi Kleinberg\"],[\"Percy Jackson and the Olympians Paperback Boxed Set (Books 1-3)\",\"Rick Riordan\"],[\"Player's Handbook (Dungeons & Dragons)\",\"Wizards RPG Team\"],[\"Player's Handbook (Dungeons & Dragons)\",\"Wizards RPG Team\"],[\"Player's Handbook (Dungeons & Dragons)\",\"Wizards RPG Team\"],[\"Pok\\u00e9mon Deluxe Essential Handbook: The Need-to-Know Stats and Facts on Over 700 Pok\\u00e9mon\",\"Scholastic\"],[\"Proof of Heaven: A Neurosurgeon's Journey into the Afterlife\",\"Eben Alexander\"],[\"Proof of Heaven: A Neurosurgeon's Journey into the Afterlife\",\"Eben Alexander\"],[\"Publication Manual of the American Psychological Association, 6th Edition\",\"American Psychological Association\"],[\"Publication Manual of the American Psychological Association, 6th Edition\",\"American Psychological Association\"],[\"Publication Manual of the American Psychological Association, 6th Edition\",\"American Psychological Association\"],[\"Publication Manual of the American Psychological Association, 6th Edition\",\"American Psychological Association\"],[\"Publication Manual of the American Psychological Association, 6th Edition\",\"American Psychological Association\"],[\"Publication Manual of the American Psychological Association, 6th Edition\",\"American Psychological Association\"],[\"Publication Manual of the American Psychological Association, 6th Edition\",\"American Psychological Association\"],[\"Publication Manual of the American Psychological Association, 6th Edition\",\"American Psychological Association\"],[\"Publication Manual of the American Psychological Association, 6th Edition\",\"American Psychological Association\"],[\"Publication Manual of the American Psychological Association, 6th Edition\",\"American Psychological Association\"],[\"Puppy Birthday to You! (Paw Patrol) (Little Golden Book)\",\"Golden Books\"],[\"Quiet: The Power of Introverts in a World That Can't Stop Talking\",\"Susan Cain\"],[\"Quiet: The Power of Introverts in a World That Can't Stop Talking\",\"Susan Cain\"],[\"Radical: Taking Back Your Faith from the American Dream\",\"David Platt\"],[\"Radical: Taking Back Your Faith from the American Dream\",\"David Platt\"],[\"Ready Player One: A Novel\",\"Ernest Cline\"],[\"Ready Player One: A Novel\",\"Ernest Cline\"],[\"Rush Revere and the Brave Pilgrims: Time-Travel Adventures with Exceptional Americans (1)\",\"Rush Limbaugh\"],[\"Rush Revere and the First Patriots: Time-Travel Adventures With Exceptional Americans (2)\",\"Rush Limbaugh\"],[\"Salt, Fat, Acid, Heat: Mastering the Elements of Good Cooking\",\"Samin Nosrat\"],[\"Salt, Fat, Acid, Heat: Mastering the Elements of Good Cooking\",\"Samin Nosrat\"],[\"Sarah's Key\",\"Tatiana de Rosnay\"],[\"School Zone - Big Preschool Workbook - Ages 4 and Up, Colors, Shapes, Numbers 1-10, Alphabet, Pre-Writing, Pre-Reading\\u2026\",\"School Zone\"],[\"School Zone - Big Preschool Workbook - Ages 4 and Up, Colors, Shapes, Numbers 1-10, Alphabet, Pre-Writing, Pre-Reading\\u2026\",\"School Zone\"],[\"Secret Garden: An Inky Treasure Hunt and Coloring Book (For Adults, mindfulness coloring)\",\"Johanna Basford\"],[\"Sh*t My Dad Says\",\"Justin Halpern\"],[\"Ship of Fools: How a Selfish Ruling Class Is Bringing America to the Brink of Revolution\",\"Tucker Carlson\"],[\"Shred: The Revolutionary Diet: 6 Weeks 4 Inches 2 Sizes\",\"Ian K. Smith M.D.\"],[\"Sookie Stackhouse\",\"Charlaine Harris\"],[\"Soul Healing Miracles: Ancient and New Sacred Wisdom, Knowledge, and Practical Techniques for Healing the Spiritual\\u2026\",\"Zhi Gang Sha\"],[\"Steve Jobs\",\"Walter Isaacson\"],[\"Steve Jobs\",\"Walter Isaacson\"],[\"Strange Planet (Strange Planet Series)\",\"Nathan W. Pyle\"],[\"StrengthsFinder 2.0\",\"Gallup\"],[\"StrengthsFinder 2.0\",\"Gallup\"],[\"StrengthsFinder 2.0\",\"Gallup\"],[\"StrengthsFinder 2.0\",\"Gallup\"],[\"StrengthsFinder 2.0\",\"Gallup\"],[\"StrengthsFinder 2.0\",\"Gallup\"],[\"StrengthsFinder 2.0\",\"Gallup\"],[\"StrengthsFinder 2.0\",\"Gallup\"],[\"StrengthsFinder 2.0\",\"Gallup\"],[\"Super Freakonomics: Global Cooling, Patriotic Prostitutes, and Why Suicide Bombers Should Buy Life Insurance\",\"Steven D. Levitt\"],[\"Switch: How to Change Things When Change Is Hard\",\"Chip Heath\"],[\"Sycamore Row (Jake Brigance)\",\"John Grisham\"],[\"Teach Like a Champion: 49 Techniques that Put Students on the Path to College\",\"Doug Lemov\"],[\"Teach Like a Champion: 49 Techniques that Put Students on the Path to College\",\"Doug Lemov\"],[\"The 17 Day Diet: A Doctor's Plan Designed for Rapid Results\",\"Mike Moreno\"],[\"The 4 Hour Body: An Uncommon Guide to Rapid Fat Loss, Incredible Sex and Becoming Superhuman\",\"Timothy Ferriss\"],[\"The 5 Love Languages: The Secret to Love That Lasts\",\"Gary Chapman\"],[\"The 5 Love Languages: The Secret to Love That Lasts\",\"Gary Chapman\"],[\"The 5 Love Languages: The Secret to Love That Lasts\",\"Gary Chapman\"],[\"The 5 Love Languages: The Secret to Love That Lasts\",\"Gary Chapman\"],[\"The 5 Love Languages: The Secret to Love That Lasts\",\"Gary Chapman\"],[\"The 5 Love Languages: The Secret to Love that Lasts\",\"Gary Chapman\"],[\"The 5 Love Languages: The Secret to Love that Lasts\",\"Gary Chapman\"],[\"The 5 Love Languages: The Secret to Love that Lasts\",\"Gary Chapman\"],[\"The 5 Love Languages: The Secret to Love that Lasts\",\"Gary Chapman\"],[\"The 5 Love Languages: The Secret to Love that Lasts\",\"Gary Chapman\"],[\"The 5000 Year Leap\",\"W. Cleon Skousen\"],[\"The 7 Habits of Highly Effective People: Powerful Lessons in Personal Change\",\"Stephen R. Covey\"],[\"The 7 Habits of Highly Effective People: Powerful Lessons in Personal Change\",\"Stephen R. Covey\"],[\"The 7 Habits of Highly Effective People: Powerful Lessons in Personal Change\",\"Stephen R. Covey\"],[\"The 7 Habits of Highly Effective People: Powerful Lessons in Personal Change\",\"Stephen R. Covey\"],[\"The 7 Habits of Highly Effective People: Powerful Lessons in Personal Change\",\"Stephen R. Covey\"],[\"The 7 Habits of Highly Effective People: Powerful Lessons in Personal Change\",\"Stephen R. Covey\"],[\"The 7 Habits of Highly Effective People: Powerful Lessons in Personal Change\",\"Stephen R. Covey\"],[\"The Alchemist\",\"Paulo Coelho\"],[\"The Amateur\",\"Edward Klein\"],[\"The Art of Racing in the Rain: A Novel\",\"Garth Stein\"],[\"The Art of Racing in the Rain: A Novel\",\"Garth Stein\"],[\"The Big Short: Inside the Doomsday Machine\",\"Michael Lewis\"],[\"The Blood of Olympus (The Heroes of Olympus (5))\",\"Rick Riordan\"],[\"The Blood Sugar Solution: The UltraHealthy Program for Losing Weight, Preventing Disease, and Feeling Great Now!\",\"Mark Hyman M.D.\"],[\"The Body Keeps the Score: Brain, Mind, and Body in the Healing of Trauma\",\"Bessel van der Kolk M.D.\"],[\"The Book of Basketball: The NBA According to The Sports Guy\",\"Bill Simmons\"],[\"The Book Thief\",\"Markus Zusak\"],[\"The Book Thief\",\"Markus Zusak\"],[\"The Book with No Pictures\",\"B. J. Novak\"],[\"The Book with No Pictures\",\"B. J. Novak\"],[\"The Boys in the Boat: Nine Americans and Their Epic Quest for Gold at the 1936 Berlin Olympics\",\"Daniel James Brown\"],[\"The Boys in the Boat: Nine Americans and Their Epic Quest for Gold at the 1936 Berlin Olympics\",\"Daniel James Brown\"],[\"The Casual Vacancy\",\"J.K. Rowling\"],[\"The China Study: The Most Comprehensive Study of Nutrition Ever Conducted And the Startling Implications for Diet\\u2026\",\"Thomas Campbell\"],[\"The Complete Ketogenic Diet for Beginners: Your Essential Guide to Living the Keto Lifestyle\",\"Amy Ramos\"],[\"The Complete Ketogenic Diet for Beginners: Your Essential Guide to Living the Keto Lifestyle\",\"Amy Ramos\"],[\"The Confession: A Novel\",\"John Grisham\"],[\"The Constitution of the United States\",\"Delegates of the Constitutional\\u0085\"],[\"The Daily Show with Jon Stewart Presents Earth (The Book): A Visitor's Guide to the Human Race\",\"Jon Stewart\"],[\"The Day the Crayons Quit\",\"Drew Daywalt\"],[\"The Day the Crayons Quit\",\"Drew Daywalt\"],[\"The Day the Crayons Quit\",\"Drew Daywalt\"],[\"The Dukan Diet: 2 Steps to Lose the Weight, 2 Steps to Keep It Off Forever\",\"Pierre Dukan\"],[\"The Elegance of the Hedgehog\",\"Muriel Barbery\"],[\"The Fault in Our Stars\",\"John Green\"],[\"The Fault in Our Stars\",\"John Green\"],[\"The Fault in Our Stars\",\"John Green\"],[\"The Fault in Our Stars\",\"John Green\"],[\"The Five Dysfunctions of a Team: A Leadership Fable\",\"Patrick Lencioni\"],[\"The Five Dysfunctions of a Team: A Leadership Fable\",\"Patrick Lencioni\"],[\"The Five Dysfunctions of a Team: A Leadership Fable\",\"Patrick Lencioni\"],[\"The Five Dysfunctions of a Team: A Leadership Fable\",\"Patrick Lencioni\"],[\"The Five Dysfunctions of a Team: A Leadership Fable\",\"Patrick Lencioni\"],[\"The Five Love Languages: How to Express Heartfelt Commitment to Your Mate\",\"Gary Chapman\"],[\"The Four Agreements: A Practical Guide to Personal Freedom (A Toltec Wisdom Book)\",\"Don Miguel Ruiz\"],[\"The Four Agreements: A Practical Guide to Personal Freedom (A Toltec Wisdom Book)\",\"Don Miguel Ruiz\"],[\"The Four Agreements: A Practical Guide to Personal Freedom (A Toltec Wisdom Book)\",\"Don Miguel Ruiz\"],[\"The Four Agreements: A Practical Guide to Personal Freedom (A Toltec Wisdom Book)\",\"Don Miguel Ruiz\"],[\"The Four Agreements: A Practical Guide to Personal Freedom (A Toltec Wisdom Book)\",\"Don Miguel Ruiz\"],[\"The Four Agreements: A Practical Guide to Personal Freedom (A Toltec Wisdom Book)\",\"Don Miguel Ruiz\"],[\"The Getaway\",\"Jeff Kinney\"],[\"The Girl on the Train\",\"Paula Hawkins\"],[\"The Girl on the Train\",\"Paula Hawkins\"],[\"The Girl Who Kicked the Hornet's Nest (Millennium Trilogy)\",\"Stieg Larsson\"],[\"The Girl Who Kicked the Hornet's Nest (Millennium Trilogy)\",\"Stieg Larsson\"],[\"The Girl Who Played with Fire (Millennium Series)\",\"Stieg Larsson\"],[\"The Girl Who Played with Fire (Millennium)\",\"Stieg Larsson\"],[\"The Girl with the Dragon Tattoo (Millennium Series)\",\"Stieg Larsson\"],[\"The Girl with the Dragon Tattoo (Millennium Series)\",\"Stieg Larsson\"],[\"The Going-To-Bed Book\",\"Sandra Boynton\"],[\"The Going-To-Bed Book\",\"Sandra Boynton\"],[\"The Goldfinch: A Novel (Pulitzer Prize for Fiction)\",\"Donna Tartt\"],[\"The Goldfinch: A Novel (Pulitzer Prize for Fiction)\",\"Donna Tartt\"],[\"The Great Gatsby\",\"F. Scott Fitzgerald\"],[\"The Great Gatsby\",\"F. Scott Fitzgerald\"],[\"The Great Gatsby\",\"F. Scott Fitzgerald\"],[\"The Guardians: A Novel\",\"John Grisham\"],[\"The Guernsey Literary and Potato Peel Pie Society\",\"Mary Ann Shaffer\"],[\"The Handmaid's Tale\",\"Margaret Atwood\"],[\"The Harbinger: The Ancient Mystery that Holds the Secret of America's Future\",\"Jonathan Cahn\"],[\"The Hate U Give\",\"Angie Thomas\"],[\"The Help\",\"Kathryn Stockett\"],[\"The Help\",\"Kathryn Stockett\"],[\"The Help\",\"Kathryn Stockett\"],[\"The Help\",\"Kathryn Stockett\"],[\"The House of Hades (Heroes of Olympus, Book 4)\",\"Rick Riordan\"],[\"The Hunger Games\",\"Suzanne Collins\"],[\"The Hunger Games (Book 1)\",\"Suzanne Collins\"],[\"The Hunger Games (Book 1)\",\"Suzanne Collins\"],[\"The Hunger Games Trilogy Boxed Set (1)\",\"Suzanne Collins\"],[\"The Hunger Games Trilogy Boxed Set (1)\",\"Suzanne Collins\"],[\"The Immortal Life of Henrietta Lacks\",\"Rebecca Skloot\"],[\"The Immortal Life of Henrietta Lacks\",\"Rebecca Skloot\"],[\"The Immortal Life of Henrietta Lacks\",\"Rebecca Skloot\"],[\"The Instant Pot Electric Pressure Cooker Cookbook: Easy Recipes for Fast & Healthy Meals\",\"Laurel Randolph\"],[\"The Instant Pot Electric Pressure Cooker Cookbook: Easy Recipes for Fast & Healthy Meals\",\"Laurel Randolph\"],[\"The Last Lecture\",\"Randy Pausch\"],[\"The Last Olympian (Percy Jackson and the Olympians, Book 5)\",\"Rick Riordan\"],[\"The Last Olympian (Percy Jackson and the Olympians, Book 5)\",\"Rick Riordan\"],[\"The Legend of Zelda: Hyrule Historia\",\"Patrick Thorpe\"],[\"The Lego Ideas Book: Unlock Your Imagination\",\"Daniel Lipkowitz\"],[\"The Lego Ideas Book: Unlock Your Imagination\",\"Daniel Lipkowitz\"],[\"The Life-Changing Magic of Tidying Up: The Japanese Art of Decluttering and Organizing\",\"Marie Kond\\u014d\"],[\"The Life-Changing Magic of Tidying Up: The Japanese Art of Decluttering and Organizing\",\"Marie Kond\\u014d\"],[\"The Life-Changing Magic of Tidying Up: The Japanese Art of Decluttering and Organizing\",\"Marie Kond\\u014d\"],[\"The Life-Changing Magic of Tidying Up: The Japanese Art of Decluttering and Organizing\",\"Marie Kond\\u014d\"],[\"The Litigators\",\"John Grisham\"],[\"The Lost Hero (Heroes of Olympus, Book 1)\",\"Rick Riordan\"],[\"The Lost Symbol\",\"Dan Brown\"],[\"The Love Dare\",\"Stephen Kendrick\"],[\"The Magnolia Story\",\"Chip Gaines\"],[\"The Mark of Athena (Heroes of Olympus, Book 3)\",\"Rick Riordan\"],[\"The Martian\",\"Andy Weir\"],[\"The Maze Runner (Book 1)\",\"James Dashner\"],[\"The Meltdown (Diary of a Wimpy Kid Book 13)\",\"Jeff Kinney\"],[\"The Mueller Report\",\"The Washington Post\"],[\"The Nightingale: A Novel\",\"Kristin Hannah\"],[\"The Nightingale: A Novel\",\"Kristin Hannah\"],[\"The Official SAT Study Guide\",\"The College Board\"],[\"The Official SAT Study Guide\",\"The College Board\"],[\"The Official SAT Study Guide\",\"The College Board\"],[\"The Official SAT Study Guide\",\"The College Board\"],[\"The Official SAT Study Guide\",\"The College Board\"],[\"The Official SAT Study Guide, 2016 Edition (Official Study Guide for the New Sat)\",\"The College Board\"],[\"The Paris Wife: A Novel\",\"Paula McLain\"],[\"The Pioneer Woman Cooks: A Year of Holidays: 140 Step-by-Step Recipes for Simple, Scrumptious Celebrations\",\"Ree Drummond\"],[\"The Pioneer Woman Cooks: Dinnertime - Comfort Classics, Freezer Food, 16-minute Meals, and Other Delicious Ways to Solve\\u2026\",\"Ree Drummond\"],[\"The Pioneer Woman Cooks: Food from My Frontier\",\"Ree Drummond\"],[\"The Plant Paradox Cookbook: 100 Delicious Recipes to Help You Lose Weight, Heal Your Gut, and Live Lectin-Free\",\"Dr. Steven R Gundry MD\"],[\"The Plant Paradox: The Hidden Dangers in \\\"Healthy\\\" Foods That Cause Disease and Weight Gain\",\"Dr. Steven R Gundry MD\"],[\"The Pout-Pout Fish\",\"Deborah Diesen\"],[\"The Pout-Pout Fish\",\"Deborah Diesen\"],[\"The Power of Habit: Why We Do What We Do in Life and Business\",\"Charles Duhigg\"],[\"The President Is Missing: A Novel\",\"James Patterson\"],[\"The Racketeer\",\"John Grisham\"],[\"The Red Pyramid (The Kane Chronicles, Book 1)\",\"Rick Riordan\"],[\"The Road to Serfdom: Text and Documents--The Definitive Edition (The Collected Works of F. A. Hayek, Volume 2)\",\"F. A. Hayek\"],[\"The Serpent's Shadow (The Kane Chronicles, Book 3)\",\"Rick Riordan\"],[\"The Shack: Where Tragedy Confronts Eternity\",\"William P. Young\"],[\"The Shack: Where Tragedy Confronts Eternity\",\"William P. Young\"],[\"The Short Second Life of Bree Tanner: An Eclipse Novella (The Twilight Saga)\",\"Stephenie Meyer\"],[\"The Silent Patient\",\"Alex Michaelides\"],[\"The Son of Neptune (Heroes of Olympus, Book 2)\",\"Rick Riordan\"],[\"The Subtle Art of Not Giving a F*ck: A Counterintuitive Approach to Living a Good Life\",\"Mark Manson\"],[\"The Subtle Art of Not Giving a F*ck: A Counterintuitive Approach to Living a Good Life\",\"Mark Manson\"],[\"The Subtle Art of Not Giving a F*ck: A Counterintuitive Approach to Living a Good Life\",\"Mark Manson\"],[\"The Sun and Her Flowers\",\"Rupi Kaur\"],[\"The Third Wheel (Diary of a Wimpy Kid, Book 7)\",\"Jeff Kinney\"],[\"The Throne of Fire (The Kane Chronicles, Book 2)\",\"Rick Riordan\"],[\"The Time Traveler's Wife\",\"Audrey Niffenegger\"],[\"The Tipping Point: How Little Things Can Make a Big Difference\",\"Malcolm Gladwell\"],[\"The Total Money Makeover: Classic Edition: A Proven Plan for Financial Fitness\",\"Dave Ramsey\"],[\"The Twilight Saga Collection\",\"Stephenie Meyer\"],[\"The Ugly Truth (Diary of a Wimpy Kid, Book 5)\",\"Jeff Kinney\"],[\"The Unofficial Harry Potter Cookbook: From Cauldron Cakes to Knickerbocker Glory--More Than 150 Magical Recipes for\\u2026\",\"Dinah Bucholz\"],[\"The Very Hungry Caterpillar\",\"Eric Carle\"],[\"The Very Hungry Caterpillar\",\"Eric Carle\"],[\"The Very Hungry Caterpillar\",\"Eric Carle\"],[\"The Very Hungry Caterpillar\",\"Eric Carle\"],[\"The Very Hungry Caterpillar\",\"Eric Carle\"],[\"The Very Hungry Caterpillar\",\"Eric Carle\"],[\"The Very Hungry Caterpillar\",\"Eric Carle\"],[\"The Whole30: The 30-Day Guide to Total Health and Food Freedom\",\"Melissa Hartwig Urban\"],[\"The Whole30: The 30-Day Guide to Total Health and Food Freedom\",\"Melissa Hartwig Urban\"],[\"The Whole30: The 30-Day Guide to Total Health and Food Freedom\",\"Melissa Hartwig Urban\"],[\"The Wonderful Things You Will Be\",\"Emily Winfield Martin\"],[\"The Wonderful Things You Will Be\",\"Emily Winfield Martin\"],[\"The Wonderful Things You Will Be\",\"Emily Winfield Martin\"],[\"The Wonderful Things You Will Be\",\"Emily Winfield Martin\"],[\"The Wonky Donkey\",\"Craig Smith\"],[\"The Wonky Donkey\",\"Craig Smith\"],[\"The Wright Brothers\",\"David McCullough\"],[\"Things That Matter: Three Decades of Passions, Pastimes and Politics [Deckled Edge]\",\"Charles Krauthammer\"],[\"Thinking, Fast and Slow\",\"Daniel Kahneman\"],[\"Thinking, Fast and Slow\",\"Daniel Kahneman\"],[\"Thirteen Reasons Why\",\"Jay Asher\"],[\"Thomas Jefferson: The Art of Power\",\"Jon Meacham\"],[\"Three Cups of Tea: One Man's Mission to Promote Peace - One School at a Time\",\"Greg Mortenson\"],[\"Three Cups of Tea: One Man's Mission to Promote Peace - One School at a Time\",\"Greg Mortenson\"],[\"Thug Kitchen: The Official Cookbook: Eat Like You Give a F*ck (Thug Kitchen Cookbooks)\",\"Thug Kitchen\"],[\"Thug Kitchen: The Official Cookbook: Eat Like You Give a F*ck (Thug Kitchen Cookbooks)\",\"Thug Kitchen\"],[\"Thug Kitchen: The Official Cookbook: Eat Like You Give a F*ck (Thug Kitchen Cookbooks)\",\"Thug Kitchen\"],[\"Thug Kitchen: The Official Cookbook: Eat Like You Give a F*ck (Thug Kitchen Cookbooks)\",\"Thug Kitchen\"],[\"Tina Fey: Bossypants\",\"Tina Fey\"],[\"To Kill a Mockingbird\",\"Harper Lee\"],[\"To Kill a Mockingbird\",\"Harper Lee\"],[\"To Kill a Mockingbird\",\"Harper Lee\"],[\"To Kill a Mockingbird\",\"Harper Lee\"],[\"To Kill a Mockingbird\",\"Harper Lee\"],[\"Tools of Titans: The Tactics, Routines, and Habits of Billionaires, Icons, and World-Class Performers\",\"Timothy Ferriss\"],[\"Towers of Midnight (Wheel of Time, Book Thirteen)\",\"Robert Jordan\"],[\"True Compass: A Memoir\",\"Edward M. Kennedy\"],[\"Twilight (The Twilight Saga, Book 1)\",\"Stephenie Meyer\"],[\"Ultimate Sticker Book: Frozen: More Than 60 Reusable Full-Color Stickers\",\"DK\"],[\"Unbroken: A World War II Story of Survival, Resilience, and Redemption\",\"Laura Hillenbrand\"],[\"Unbroken: A World War II Story of Survival, Resilience, and Redemption\",\"Laura Hillenbrand\"],[\"Unbroken: A World War II Story of Survival, Resilience, and Redemption\",\"Laura Hillenbrand\"],[\"Unbroken: A World War II Story of Survival, Resilience, and Redemption\",\"Laura Hillenbrand\"],[\"Unbroken: A World War II Story of Survival, Resilience, and Redemption\",\"Laura Hillenbrand\"],[\"Under the Dome: A Novel\",\"Stephen King\"],[\"Unfreedom of the Press\",\"Mark R. Levin\"],[\"Unicorn Coloring Book: For Kids Ages 4-8 (US Edition) (Silly Bear Coloring Books)\",\"Silly Bear\"],[\"Uninvited: Living Loved When You Feel Less Than, Left Out, and Lonely\",\"Lysa TerKeurst\"],[\"Watchmen\",\"Alan Moore\"],[\"Water for Elephants: A Novel\",\"Sara Gruen\"],[\"What Happened\",\"Hillary Rodham Clinton\"],[\"What If?: Serious Scientific Answers to Absurd Hypothetical Questions\",\"Randall Munroe\"],[\"What Pet Should I Get? (Classic Seuss)\",\"Dr. Seuss\"],[\"What Should Danny Do? (The Power to Choose Series)\",\"Adir Levy\"],[\"What to Expect When You're Expecting\",\"Heidi Murkoff\"],[\"Wheat Belly: Lose the Wheat, Lose the Weight, and Find Your Path Back to Health\",\"William Davis\"],[\"Wheat Belly: Lose the Wheat, Lose the Weight, and Find Your Path Back to Health\",\"William Davis\"],[\"When Breath Becomes Air\",\"Paul Kalanithi\"],[\"Where the Crawdads Sing\",\"Delia Owens\"],[\"Where the Wild Things Are\",\"Maurice Sendak\"],[\"Whose Boat Is This Boat?: Comments That Don't Help in the Aftermath of a Hurricane\",\"The Staff of The Late Show with\\u0085\"],[\"Wild: From Lost to Found on the Pacific Crest Trail\",\"Cheryl Strayed\"],[\"Winter of the World: Book Two of the Century Trilogy\",\"Ken Follett\"],[\"Women Food and God: An Unexpected Path to Almost Everything\",\"Geneen Roth\"],[\"Wonder\",\"R. J. Palacio\"],[\"Wonder\",\"R. J. Palacio\"],[\"Wonder\",\"R. J. Palacio\"],[\"Wonder\",\"R. J. Palacio\"],[\"Wonder\",\"R. J. Palacio\"],[\"Wrecking Ball (Diary of a Wimpy Kid Book 14)\",\"Jeff Kinney\"],[\"You Are a Badass: How to Stop Doubting Your Greatness and Start Living an Awesome Life\",\"Jen Sincero\"],[\"You Are a Badass: How to Stop Doubting Your Greatness and Start Living an Awesome Life\",\"Jen Sincero\"],[\"You Are a Badass: How to Stop Doubting Your Greatness and Start Living an Awesome Life\",\"Jen Sincero\"],[\"You Are a Badass: How to Stop Doubting Your Greatness and Start Living an Awesome Life\",\"Jen Sincero\"]],\"hovertemplate\":\"Price=%{x}<br>Name=%{customdata[0]}<br>Author=%{customdata[1]}<extra></extra>\",\"legendgroup\":\"\",\"marker\":{\"color\":\"#636efa\"},\"name\":\"\",\"notched\":true,\"offsetgroup\":\"\",\"showlegend\":false,\"type\":\"box\",\"x\":[8,22,15,6,12,11,30,15,3,8,8,2,32,5,17,4,6,6,8,13,14,14,13,9,13,5,9,14,5,11,24,21,11,11,15,13,13,18,13,8,5,5,0,4,18,28,11,11,11,16,14,14,14,8,4,5,11,11,10,13,4,8,4,5,5,5,5,17,15,105,105,0,15,22,5,15,15,6,6,13,12,6,8,4,4,8,8,6,20,5,16,1,14,9,9,7,18,15,15,9,8,8,15,2,7,11,14,14,32,6,4,4,4,4,4,9,0,9,5,5,5,20,16,4,4,4,4,4,12,12,12,11,19,9,6,10,10,9,6,14,14,14,14,5,5,5,7,7,10,14,7,54,11,30,12,18,30,22,9,52,4,10,10,14,14,22,11,11,11,11,11,16,15,15,17,17,7,7,4,4,9,21,14,20,13,13,12,8,8,8,8,8,8,0,12,17,12,25,10,10,6,5,6,8,4,4,4,13,4,4,4,4,4,13,21,6,15,18,10,0,12,7,13,5,5,16,20,11,27,8,8,8,6,10,10,10,8,8,8,16,11,10,9,14,22,8,8,8,8,8,8,8,8,7,12,13,13,9,13,11,20,20,5,5,2,27,27,27,9,10,10,46,46,46,46,46,46,46,46,46,46,4,20,7,9,9,12,12,12,12,20,20,10,6,6,9,11,16,6,25,17,20,20,6,17,17,17,17,17,17,17,17,17,18,13,18,20,20,22,21,28,28,28,28,28,8,8,8,8,8,12,24,24,24,24,16,16,16,39,9,10,10,17,11,14,12,53,6,6,8,8,12,12,12,21,6,6,13,0,11,9,9,9,15,11,13,13,7,13,6,6,6,6,6,9,6,6,6,6,6,6,0,18,7,14,14,9,16,2,2,5,5,20,20,7,7,7,14,10,7,13,11,6,6,8,7,14,14,8,8,30,30,13,9,9,7,7,9,7,7,20,13,13,11,11,11,11,18,14,19,13,5,10,9,8,8,12,11,11,40,40,40,40,40,36,16,17,14,21,18,17,5,5,21,18,18,12,14,12,8,8,0,14,10,15,15,15,9,7,10,6,9,10,82,12,10,5,5,5,5,5,5,5,16,16,16,10,10,10,10,4,4,16,15,19,19,9,23,11,11,23,23,23,23,12,0,0,0,0,7,21,21,15,9,5,16,16,16,13,16,20,11,4,9,42,12,18,17,14,13,9,6,6,14,15,13,12,18,15,11,9,9,9,9,9,8,8,8,8,8],\"xaxis\":\"x2\",\"yaxis\":\"y2\"}],                        {\"barmode\":\"relative\",\"legend\":{\"tracegroupgap\":0},\"template\":{\"data\":{\"bar\":[{\"error_x\":{\"color\":\"#2a3f5f\"},\"error_y\":{\"color\":\"#2a3f5f\"},\"marker\":{\"line\":{\"color\":\"#E5ECF6\",\"width\":0.5},\"pattern\":{\"fillmode\":\"overlay\",\"size\":10,\"solidity\":0.2}},\"type\":\"bar\"}],\"barpolar\":[{\"marker\":{\"line\":{\"color\":\"#E5ECF6\",\"width\":0.5},\"pattern\":{\"fillmode\":\"overlay\",\"size\":10,\"solidity\":0.2}},\"type\":\"barpolar\"}],\"carpet\":[{\"aaxis\":{\"endlinecolor\":\"#2a3f5f\",\"gridcolor\":\"white\",\"linecolor\":\"white\",\"minorgridcolor\":\"white\",\"startlinecolor\":\"#2a3f5f\"},\"baxis\":{\"endlinecolor\":\"#2a3f5f\",\"gridcolor\":\"white\",\"linecolor\":\"white\",\"minorgridcolor\":\"white\",\"startlinecolor\":\"#2a3f5f\"},\"type\":\"carpet\"}],\"choropleth\":[{\"colorbar\":{\"outlinewidth\":0,\"ticks\":\"\"},\"type\":\"choropleth\"}],\"contour\":[{\"colorbar\":{\"outlinewidth\":0,\"ticks\":\"\"},\"colorscale\":[[0.0,\"#0d0887\"],[0.1111111111111111,\"#46039f\"],[0.2222222222222222,\"#7201a8\"],[0.3333333333333333,\"#9c179e\"],[0.4444444444444444,\"#bd3786\"],[0.5555555555555556,\"#d8576b\"],[0.6666666666666666,\"#ed7953\"],[0.7777777777777778,\"#fb9f3a\"],[0.8888888888888888,\"#fdca26\"],[1.0,\"#f0f921\"]],\"type\":\"contour\"}],\"contourcarpet\":[{\"colorbar\":{\"outlinewidth\":0,\"ticks\":\"\"},\"type\":\"contourcarpet\"}],\"heatmap\":[{\"colorbar\":{\"outlinewidth\":0,\"ticks\":\"\"},\"colorscale\":[[0.0,\"#0d0887\"],[0.1111111111111111,\"#46039f\"],[0.2222222222222222,\"#7201a8\"],[0.3333333333333333,\"#9c179e\"],[0.4444444444444444,\"#bd3786\"],[0.5555555555555556,\"#d8576b\"],[0.6666666666666666,\"#ed7953\"],[0.7777777777777778,\"#fb9f3a\"],[0.8888888888888888,\"#fdca26\"],[1.0,\"#f0f921\"]],\"type\":\"heatmap\"}],\"heatmapgl\":[{\"colorbar\":{\"outlinewidth\":0,\"ticks\":\"\"},\"colorscale\":[[0.0,\"#0d0887\"],[0.1111111111111111,\"#46039f\"],[0.2222222222222222,\"#7201a8\"],[0.3333333333333333,\"#9c179e\"],[0.4444444444444444,\"#bd3786\"],[0.5555555555555556,\"#d8576b\"],[0.6666666666666666,\"#ed7953\"],[0.7777777777777778,\"#fb9f3a\"],[0.8888888888888888,\"#fdca26\"],[1.0,\"#f0f921\"]],\"type\":\"heatmapgl\"}],\"histogram\":[{\"marker\":{\"pattern\":{\"fillmode\":\"overlay\",\"size\":10,\"solidity\":0.2}},\"type\":\"histogram\"}],\"histogram2d\":[{\"colorbar\":{\"outlinewidth\":0,\"ticks\":\"\"},\"colorscale\":[[0.0,\"#0d0887\"],[0.1111111111111111,\"#46039f\"],[0.2222222222222222,\"#7201a8\"],[0.3333333333333333,\"#9c179e\"],[0.4444444444444444,\"#bd3786\"],[0.5555555555555556,\"#d8576b\"],[0.6666666666666666,\"#ed7953\"],[0.7777777777777778,\"#fb9f3a\"],[0.8888888888888888,\"#fdca26\"],[1.0,\"#f0f921\"]],\"type\":\"histogram2d\"}],\"histogram2dcontour\":[{\"colorbar\":{\"outlinewidth\":0,\"ticks\":\"\"},\"colorscale\":[[0.0,\"#0d0887\"],[0.1111111111111111,\"#46039f\"],[0.2222222222222222,\"#7201a8\"],[0.3333333333333333,\"#9c179e\"],[0.4444444444444444,\"#bd3786\"],[0.5555555555555556,\"#d8576b\"],[0.6666666666666666,\"#ed7953\"],[0.7777777777777778,\"#fb9f3a\"],[0.8888888888888888,\"#fdca26\"],[1.0,\"#f0f921\"]],\"type\":\"histogram2dcontour\"}],\"mesh3d\":[{\"colorbar\":{\"outlinewidth\":0,\"ticks\":\"\"},\"type\":\"mesh3d\"}],\"parcoords\":[{\"line\":{\"colorbar\":{\"outlinewidth\":0,\"ticks\":\"\"}},\"type\":\"parcoords\"}],\"pie\":[{\"automargin\":true,\"type\":\"pie\"}],\"scatter\":[{\"marker\":{\"colorbar\":{\"outlinewidth\":0,\"ticks\":\"\"}},\"type\":\"scatter\"}],\"scatter3d\":[{\"line\":{\"colorbar\":{\"outlinewidth\":0,\"ticks\":\"\"}},\"marker\":{\"colorbar\":{\"outlinewidth\":0,\"ticks\":\"\"}},\"type\":\"scatter3d\"}],\"scattercarpet\":[{\"marker\":{\"colorbar\":{\"outlinewidth\":0,\"ticks\":\"\"}},\"type\":\"scattercarpet\"}],\"scattergeo\":[{\"marker\":{\"colorbar\":{\"outlinewidth\":0,\"ticks\":\"\"}},\"type\":\"scattergeo\"}],\"scattergl\":[{\"marker\":{\"colorbar\":{\"outlinewidth\":0,\"ticks\":\"\"}},\"type\":\"scattergl\"}],\"scattermapbox\":[{\"marker\":{\"colorbar\":{\"outlinewidth\":0,\"ticks\":\"\"}},\"type\":\"scattermapbox\"}],\"scatterpolar\":[{\"marker\":{\"colorbar\":{\"outlinewidth\":0,\"ticks\":\"\"}},\"type\":\"scatterpolar\"}],\"scatterpolargl\":[{\"marker\":{\"colorbar\":{\"outlinewidth\":0,\"ticks\":\"\"}},\"type\":\"scatterpolargl\"}],\"scatterternary\":[{\"marker\":{\"colorbar\":{\"outlinewidth\":0,\"ticks\":\"\"}},\"type\":\"scatterternary\"}],\"surface\":[{\"colorbar\":{\"outlinewidth\":0,\"ticks\":\"\"},\"colorscale\":[[0.0,\"#0d0887\"],[0.1111111111111111,\"#46039f\"],[0.2222222222222222,\"#7201a8\"],[0.3333333333333333,\"#9c179e\"],[0.4444444444444444,\"#bd3786\"],[0.5555555555555556,\"#d8576b\"],[0.6666666666666666,\"#ed7953\"],[0.7777777777777778,\"#fb9f3a\"],[0.8888888888888888,\"#fdca26\"],[1.0,\"#f0f921\"]],\"type\":\"surface\"}],\"table\":[{\"cells\":{\"fill\":{\"color\":\"#EBF0F8\"},\"line\":{\"color\":\"white\"}},\"header\":{\"fill\":{\"color\":\"#C8D4E3\"},\"line\":{\"color\":\"white\"}},\"type\":\"table\"}]},\"layout\":{\"annotationdefaults\":{\"arrowcolor\":\"#2a3f5f\",\"arrowhead\":0,\"arrowwidth\":1},\"autotypenumbers\":\"strict\",\"coloraxis\":{\"colorbar\":{\"outlinewidth\":0,\"ticks\":\"\"}},\"colorscale\":{\"diverging\":[[0,\"#8e0152\"],[0.1,\"#c51b7d\"],[0.2,\"#de77ae\"],[0.3,\"#f1b6da\"],[0.4,\"#fde0ef\"],[0.5,\"#f7f7f7\"],[0.6,\"#e6f5d0\"],[0.7,\"#b8e186\"],[0.8,\"#7fbc41\"],[0.9,\"#4d9221\"],[1,\"#276419\"]],\"sequential\":[[0.0,\"#0d0887\"],[0.1111111111111111,\"#46039f\"],[0.2222222222222222,\"#7201a8\"],[0.3333333333333333,\"#9c179e\"],[0.4444444444444444,\"#bd3786\"],[0.5555555555555556,\"#d8576b\"],[0.6666666666666666,\"#ed7953\"],[0.7777777777777778,\"#fb9f3a\"],[0.8888888888888888,\"#fdca26\"],[1.0,\"#f0f921\"]],\"sequentialminus\":[[0.0,\"#0d0887\"],[0.1111111111111111,\"#46039f\"],[0.2222222222222222,\"#7201a8\"],[0.3333333333333333,\"#9c179e\"],[0.4444444444444444,\"#bd3786\"],[0.5555555555555556,\"#d8576b\"],[0.6666666666666666,\"#ed7953\"],[0.7777777777777778,\"#fb9f3a\"],[0.8888888888888888,\"#fdca26\"],[1.0,\"#f0f921\"]]},\"colorway\":[\"#636efa\",\"#EF553B\",\"#00cc96\",\"#ab63fa\",\"#FFA15A\",\"#19d3f3\",\"#FF6692\",\"#B6E880\",\"#FF97FF\",\"#FECB52\"],\"font\":{\"color\":\"#2a3f5f\"},\"geo\":{\"bgcolor\":\"white\",\"lakecolor\":\"white\",\"landcolor\":\"#E5ECF6\",\"showlakes\":true,\"showland\":true,\"subunitcolor\":\"white\"},\"hoverlabel\":{\"align\":\"left\"},\"hovermode\":\"closest\",\"mapbox\":{\"style\":\"light\"},\"paper_bgcolor\":\"white\",\"plot_bgcolor\":\"#E5ECF6\",\"polar\":{\"angularaxis\":{\"gridcolor\":\"white\",\"linecolor\":\"white\",\"ticks\":\"\"},\"bgcolor\":\"#E5ECF6\",\"radialaxis\":{\"gridcolor\":\"white\",\"linecolor\":\"white\",\"ticks\":\"\"}},\"scene\":{\"xaxis\":{\"backgroundcolor\":\"#E5ECF6\",\"gridcolor\":\"white\",\"gridwidth\":2,\"linecolor\":\"white\",\"showbackground\":true,\"ticks\":\"\",\"zerolinecolor\":\"white\"},\"yaxis\":{\"backgroundcolor\":\"#E5ECF6\",\"gridcolor\":\"white\",\"gridwidth\":2,\"linecolor\":\"white\",\"showbackground\":true,\"ticks\":\"\",\"zerolinecolor\":\"white\"},\"zaxis\":{\"backgroundcolor\":\"#E5ECF6\",\"gridcolor\":\"white\",\"gridwidth\":2,\"linecolor\":\"white\",\"showbackground\":true,\"ticks\":\"\",\"zerolinecolor\":\"white\"}},\"shapedefaults\":{\"line\":{\"color\":\"#2a3f5f\"}},\"ternary\":{\"aaxis\":{\"gridcolor\":\"white\",\"linecolor\":\"white\",\"ticks\":\"\"},\"baxis\":{\"gridcolor\":\"white\",\"linecolor\":\"white\",\"ticks\":\"\"},\"bgcolor\":\"#E5ECF6\",\"caxis\":{\"gridcolor\":\"white\",\"linecolor\":\"white\",\"ticks\":\"\"}},\"title\":{\"x\":0.05},\"xaxis\":{\"automargin\":true,\"gridcolor\":\"white\",\"linecolor\":\"white\",\"ticks\":\"\",\"title\":{\"standoff\":15},\"zerolinecolor\":\"white\",\"zerolinewidth\":2},\"yaxis\":{\"automargin\":true,\"gridcolor\":\"white\",\"linecolor\":\"white\",\"ticks\":\"\",\"title\":{\"standoff\":15},\"zerolinecolor\":\"white\",\"zerolinewidth\":2}}},\"title\":{\"text\":\"Price\"},\"xaxis\":{\"anchor\":\"y\",\"domain\":[0.0,1.0],\"title\":{\"text\":\"Price\"}},\"xaxis2\":{\"anchor\":\"y2\",\"domain\":[0.0,1.0],\"matches\":\"x\",\"showgrid\":true,\"showticklabels\":false},\"yaxis\":{\"anchor\":\"x\",\"domain\":[0.0,0.8316],\"title\":{\"text\":\"count\"}},\"yaxis2\":{\"anchor\":\"x2\",\"domain\":[0.8416,1.0],\"matches\":\"y2\",\"showgrid\":false,\"showline\":false,\"showticklabels\":false,\"ticks\":\"\"}},                        {\"responsive\": true}                    ).then(function(){\n",
       "                            \n",
       "var gd = document.getElementById('c04c5244-1943-4e76-83b3-e799c5050299');\n",
       "var x = new MutationObserver(function (mutations, observer) {{\n",
       "        var display = window.getComputedStyle(gd).display;\n",
       "        if (!display || display === 'none') {{\n",
       "            console.log([gd, 'removed!']);\n",
       "            Plotly.purge(gd);\n",
       "            observer.disconnect();\n",
       "        }}\n",
       "}});\n",
       "\n",
       "// Listen for the removal of the full notebook cells\n",
       "var notebookContainer = gd.closest('#notebook-container');\n",
       "if (notebookContainer) {{\n",
       "    x.observe(notebookContainer, {childList: true});\n",
       "}}\n",
       "\n",
       "// Listen for the clearing of the current output cell\n",
       "var outputEl = gd.closest('.output');\n",
       "if (outputEl) {{\n",
       "    x.observe(outputEl, {childList: true});\n",
       "}}\n",
       "\n",
       "                        })                };                });            </script>        </div>"
      ]
     },
     "metadata": {},
     "output_type": "display_data"
    }
   ],
   "source": [
    "fig = px.histogram(df, x= 'Price', title='Price', marginal=\"box\", hover_data = df[['Name','Author']])\n",
    "fig.show()"
   ]
  },
  {
   "cell_type": "markdown",
   "id": "7d7dee47",
   "metadata": {
    "papermill": {
     "duration": 0.070406,
     "end_time": "2021-07-10T21:54:20.104320",
     "exception": false,
     "start_time": "2021-07-10T21:54:20.033914",
     "status": "completed"
    },
    "tags": []
   },
   "source": [
    "- As we expected, we have slightly right skewed distribution with outliers on the maximum side.\n",
    "- Also we have 13 counts of books on the $0-1 range. 13 free books, sounds good to me."
   ]
  },
  {
   "cell_type": "markdown",
   "id": "647c224a",
   "metadata": {
    "papermill": {
     "duration": 0.069631,
     "end_time": "2021-07-10T21:54:20.246965",
     "exception": false,
     "start_time": "2021-07-10T21:54:20.177334",
     "status": "completed"
    },
    "tags": []
   },
   "source": [
    "- Befor moving on the details, let's see the correlation matrix for our dataset"
   ]
  },
  {
   "cell_type": "code",
   "execution_count": 16,
   "id": "c4c351bb",
   "metadata": {
    "_kg_hide-input": true,
    "execution": {
     "iopub.execute_input": "2021-07-10T21:54:20.395895Z",
     "iopub.status.busy": "2021-07-10T21:54:20.391279Z",
     "iopub.status.idle": "2021-07-10T21:54:20.400214Z",
     "shell.execute_reply": "2021-07-10T21:54:20.399756Z",
     "shell.execute_reply.started": "2021-07-10T21:43:44.107541Z"
    },
    "papermill": {
     "duration": 0.083422,
     "end_time": "2021-07-10T21:54:20.400329",
     "exception": false,
     "start_time": "2021-07-10T21:54:20.316907",
     "status": "completed"
    },
    "tags": []
   },
   "outputs": [
    {
     "data": {
      "text/html": [
       "<div>\n",
       "<style scoped>\n",
       "    .dataframe tbody tr th:only-of-type {\n",
       "        vertical-align: middle;\n",
       "    }\n",
       "\n",
       "    .dataframe tbody tr th {\n",
       "        vertical-align: top;\n",
       "    }\n",
       "\n",
       "    .dataframe thead th {\n",
       "        text-align: right;\n",
       "    }\n",
       "</style>\n",
       "<table border=\"1\" class=\"dataframe\">\n",
       "  <thead>\n",
       "    <tr style=\"text-align: right;\">\n",
       "      <th></th>\n",
       "      <th>User Rating</th>\n",
       "      <th>Reviews</th>\n",
       "      <th>Price</th>\n",
       "    </tr>\n",
       "  </thead>\n",
       "  <tbody>\n",
       "    <tr>\n",
       "      <th>User Rating</th>\n",
       "      <td>1.000000</td>\n",
       "      <td>-0.001729</td>\n",
       "      <td>-0.133086</td>\n",
       "    </tr>\n",
       "    <tr>\n",
       "      <th>Reviews</th>\n",
       "      <td>-0.001729</td>\n",
       "      <td>1.000000</td>\n",
       "      <td>-0.109182</td>\n",
       "    </tr>\n",
       "    <tr>\n",
       "      <th>Price</th>\n",
       "      <td>-0.133086</td>\n",
       "      <td>-0.109182</td>\n",
       "      <td>1.000000</td>\n",
       "    </tr>\n",
       "  </tbody>\n",
       "</table>\n",
       "</div>"
      ],
      "text/plain": [
       "             User Rating   Reviews     Price\n",
       "User Rating     1.000000 -0.001729 -0.133086\n",
       "Reviews        -0.001729  1.000000 -0.109182\n",
       "Price          -0.133086 -0.109182  1.000000"
      ]
     },
     "execution_count": 16,
     "metadata": {},
     "output_type": "execute_result"
    }
   ],
   "source": [
    "df.drop('Year', axis=1).corr()"
   ]
  },
  {
   "cell_type": "code",
   "execution_count": 17,
   "id": "be98ce80",
   "metadata": {
    "_kg_hide-input": true,
    "execution": {
     "iopub.execute_input": "2021-07-10T21:54:20.497992Z",
     "iopub.status.busy": "2021-07-10T21:54:20.497525Z",
     "iopub.status.idle": "2021-07-10T21:54:20.551359Z",
     "shell.execute_reply": "2021-07-10T21:54:20.550930Z",
     "shell.execute_reply.started": "2021-07-10T21:43:44.121385Z"
    },
    "papermill": {
     "duration": 0.103975,
     "end_time": "2021-07-10T21:54:20.551463",
     "exception": false,
     "start_time": "2021-07-10T21:54:20.447488",
     "status": "completed"
    },
    "tags": []
   },
   "outputs": [
    {
     "data": {
      "text/html": [
       "<div>                            <div id=\"4976db3e-af63-4f75-85c6-f622228e5c4a\" class=\"plotly-graph-div\" style=\"height:1000px; width:1000px;\"></div>            <script type=\"text/javascript\">                require([\"plotly\"], function(Plotly) {                    window.PLOTLYENV=window.PLOTLYENV || {};                                    if (document.getElementById(\"4976db3e-af63-4f75-85c6-f622228e5c4a\")) {                    Plotly.newPlot(                        \"4976db3e-af63-4f75-85c6-f622228e5c4a\",                        [{\"dimensions\":[{\"label\":\"User Rating\",\"values\":[4.7,4.6,4.7,4.7,4.8,4.4,4.7,4.7,4.7,4.6,4.6,4.6,4.6,4.5,4.6,4.5,4.6,4.4,4.5,4.8,4.6,4.6,3.9,4.6,4.3,4.6,4.7,4.2,4.6,4.6,4.8,4.7,4.8,4.8,4.8,4.7,4.7,4.7,4.6,4.5,4.9,4.9,4.8,4.6,4.8,4.5,4.7,4.7,4.7,4.7,4.7,4.7,4.7,4.3,4.8,4.8,4.6,4.6,4.8,4.4,4.6,4.3,4.2,4.8,4.8,4.8,4.8,4.6,4.6,4.5,4.5,4.8,4.8,4.8,4.6,4.6,4.6,4.5,4.6,4.7,4.8,4.9,4.9,4.9,4.9,4.9,4.9,4.9,4.8,4.6,4.5,4.5,4.3,4.5,4.5,4.7,4.7,4.7,4.7,4.7,4.6,4.6,4.7,4.4,4.4,4.5,3.8,3.8,4.5,4.2,4.7,4.7,4.7,4.7,4.7,4.4,4.7,4.4,4.6,4.6,4.6,4.5,4.6,4.8,4.8,4.8,4.8,4.8,4.6,4.6,4.6,4.6,3.6,4.8,4.6,4.0,4.0,4.0,4.6,4.5,4.5,4.5,4.5,4.8,4.8,4.8,4.9,4.9,4.6,4.4,4.8,4.9,4.8,4.9,4.0,4.9,4.9,4.9,4.7,4.8,4.8,4.7,4.7,4.4,4.4,4.8,4.7,4.7,4.7,4.7,4.7,4.3,4.8,4.8,4.9,4.7,4.8,4.6,4.8,4.8,4.3,4.4,4.1,4.6,4.4,4.4,4.8,4.9,4.9,4.9,4.9,4.9,4.9,4.6,4.5,4.6,4.5,4.6,4.7,4.7,4.6,4.6,4.8,4.8,4.5,4.5,4.5,4.9,4.6,4.6,4.6,4.6,4.6,4.5,4.5,4.4,4.8,4.5,4.1,4.9,4.5,4.5,4.2,4.8,4.8,4.8,4.5,4.7,4.8,4.7,4.7,4.7,4.4,4.6,4.6,4.6,4.5,4.5,4.5,4.8,4.8,4.6,4.7,4.6,4.9,4.9,4.9,4.9,4.9,4.9,4.9,4.9,4.9,4.8,4.2,4.6,4.6,4.5,4.3,4.6,4.6,4.6,4.7,4.7,4.8,4.8,4.8,4.8,4.7,4.3,4.3,4.5,4.5,4.5,4.5,4.5,4.5,4.5,4.5,4.5,4.5,4.8,4.6,4.6,4.7,4.7,4.6,4.6,4.9,4.9,4.8,4.8,4.6,4.8,4.8,4.7,4.7,4.8,4.1,4.7,4.6,4.6,4.6,4.9,4.0,4.0,4.0,4.0,4.0,4.0,4.0,4.0,4.0,4.5,4.6,4.5,4.4,4.4,4.3,4.3,4.7,4.7,4.7,4.7,4.7,4.8,4.8,4.8,4.8,4.8,4.8,4.6,4.6,4.6,4.6,4.7,4.7,4.7,4.7,4.6,4.7,4.7,4.7,4.8,4.2,4.8,4.7,4.6,4.6,4.8,4.8,4.8,4.8,3.3,4.7,4.3,4.3,4.3,4.8,4.4,4.8,4.8,4.8,4.1,4.0,4.7,4.7,4.7,4.7,4.6,4.6,4.6,4.6,4.6,4.6,4.7,4.7,4.7,4.7,4.7,4.7,4.8,4.1,4.1,4.7,4.7,4.7,4.7,4.4,4.4,4.8,4.8,3.9,3.9,4.4,4.4,4.4,4.5,4.7,4.3,4.6,4.8,4.8,4.8,4.8,4.8,4.8,4.7,4.7,4.7,4.8,4.8,4.7,4.7,4.7,4.3,4.3,4.7,4.8,4.8,4.9,4.4,4.4,4.5,4.5,4.5,4.5,4.4,4.8,4.2,4.8,4.9,4.8,4.7,4.5,4.8,4.6,4.8,4.8,4.4,4.4,4.4,4.4,4.4,4.3,4.3,4.8,4.8,4.8,4.5,4.4,4.8,4.8,4.6,4.3,4.3,4.6,4.6,4.8,4.6,4.6,4.6,4.5,4.8,4.6,4.6,4.6,4.7,4.7,4.7,4.4,4.4,4.7,4.7,4.8,4.7,4.9,4.9,4.9,4.9,4.9,4.9,4.9,4.6,4.6,4.6,4.9,4.9,4.9,4.9,4.8,4.8,4.7,4.7,4.6,4.6,4.5,4.5,4.3,4.3,4.6,4.6,4.6,4.6,4.3,4.8,4.8,4.8,4.8,4.8,4.6,4.8,4.5,4.7,4.5,4.8,4.8,4.8,4.8,4.8,4.3,4.9,4.8,4.7,4.8,4.5,4.6,4.7,4.7,4.8,4.4,4.4,4.4,4.8,4.8,4.8,4.6,4.4,4.5,4.2,4.8,4.8,4.8,4.8,4.8,4.9,4.7,4.7,4.7,4.7]},{\"label\":\"Reviews\",\"values\":[17350,2052,18979,21424,7665,12643,19735,19699,5983,23848,23848,460,4149,5153,5013,2313,2925,2951,2426,9198,36348,36348,6310,15921,12159,798,9374,491,5360,1909,1296,615,61133,61133,11113,10070,10070,3729,9769,471,14344,14344,4505,10369,16244,2884,22614,22614,22614,4761,1542,1542,1542,6143,4022,3871,4866,4866,1329,4642,1541,1924,2094,10922,10922,10922,10922,2137,1651,6679,6679,6812,3837,6540,7955,27098,27098,17684,37,15845,3181,5062,4786,7235,7235,12619,9089,5470,5118,2134,2525,720,956,6346,6346,5505,5505,28729,28729,5413,10721,10721,4370,6042,23631,20262,47265,47265,13964,13677,17323,17323,17323,17323,17323,1555,3642,1215,5594,5594,5594,408,4799,14038,14038,14038,14038,14038,7660,22288,22288,1365,14982,9568,1636,57271,57271,57271,10141,3457,3457,3457,3457,8837,8837,8837,7038,7038,5972,25624,5476,5867,4148,19622,23973,7758,3146,10052,3564,13471,1930,15779,15779,15526,15526,3776,25001,25001,25001,25001,25001,5272,3490,3490,2812,4896,9737,1320,16643,16643,7153,4571,29651,5299,7396,7396,7062,19576,19576,19576,19576,19576,19576,978,4748,8393,11391,8634,9342,9342,10927,5235,8916,2507,3673,3673,3673,11881,6990,6990,6990,6990,6990,6132,3014,7550,3828,2752,1467,1884,25706,8491,1649,18613,18613,9867,1386,10199,2926,17739,17739,17739,3113,5542,5542,5542,26741,26741,26741,5347,7866,5680,5178,8093,3192,21834,21834,21834,21834,21834,21834,21834,21834,6169,4519,3163,3163,1831,18904,21930,10426,10426,10820,10820,548,16990,16990,16990,3503,13616,13616,8580,8580,8580,8580,8580,8580,8580,8580,8580,8580,4757,10009,10009,1985,1985,22536,22536,7150,3836,7802,7802,3619,23047,23047,9366,1265,3923,2272,973,220,7827,7827,9382,5069,5069,5069,5069,5069,5069,5069,5069,5069,1583,1907,23114,637,637,2314,4587,3477,3477,3477,3477,3477,25554,25554,25554,25554,25554,1680,9325,9325,9325,9325,4725,4725,4725,35799,2580,11813,11813,3536,6600,1789,12361,858,23148,23148,8081,8081,23358,23358,9372,4633,13061,13061,3523,2774,440,8922,8922,8922,2023,1859,50482,50482,50482,50482,3207,3207,3207,3207,3207,803,23308,23308,23308,23308,23308,23308,5836,79446,79446,7747,7747,7251,7251,10559,10559,5249,5249,33844,33844,11616,11616,11616,13609,8587,29442,11098,9947,13871,13871,13871,13871,6982,32122,32122,32122,16949,16949,9289,9289,9289,7368,7368,4028,4628,4628,5396,4247,4247,22641,22641,22641,22641,6222,4506,8747,1655,7861,6247,39459,10101,5898,2744,49288,49288,1201,1201,1201,1201,1201,807,3759,2663,3428,2876,3601,7058,9784,9784,10795,10191,14493,2186,1204,2091,19720,19720,2122,27536,4290,26490,26490,26490,5487,6377,1463,3759,3503,11550,3801,3796,9030,19546,19546,19546,19546,19546,19546,19546,7508,7508,7508,8842,8842,8842,8842,30183,30183,6169,7034,11034,11034,7932,1904,3319,3319,11128,11128,11128,11128,5977,26234,26234,26234,26234,26234,4360,2282,438,11676,2586,29673,29673,29673,29673,29673,6740,5956,6108,4585,3829,8958,5492,9292,1873,8170,3341,7497,7497,13779,87841,9967,6669,17044,10760,1302,21625,21625,21625,21625,21625,9413,14331,14331,14331,14331]},{\"label\":\"Price\",\"values\":[8,22,15,6,12,11,30,15,3,8,8,2,32,5,17,4,6,6,8,13,14,14,13,9,13,5,9,14,5,11,24,21,11,11,15,13,13,18,13,8,5,5,0,4,18,28,11,11,11,16,14,14,14,8,4,5,11,11,10,13,4,8,4,5,5,5,5,17,15,105,105,0,15,22,5,15,15,6,6,13,12,6,8,4,4,8,8,6,20,5,16,1,14,9,9,7,18,15,15,9,8,8,15,2,7,11,14,14,32,6,4,4,4,4,4,9,0,9,5,5,5,20,16,4,4,4,4,4,12,12,12,11,19,9,6,10,10,9,6,14,14,14,14,5,5,5,7,7,10,14,7,54,11,30,12,18,30,22,9,52,4,10,10,14,14,22,11,11,11,11,11,16,15,15,17,17,7,7,4,4,9,21,14,20,13,13,12,8,8,8,8,8,8,0,12,17,12,25,10,10,6,5,6,8,4,4,4,13,4,4,4,4,4,13,21,6,15,18,10,0,12,7,13,5,5,16,20,11,27,8,8,8,6,10,10,10,8,8,8,16,11,10,9,14,22,8,8,8,8,8,8,8,8,7,12,13,13,9,13,11,20,20,5,5,2,27,27,27,9,10,10,46,46,46,46,46,46,46,46,46,46,4,20,7,9,9,12,12,12,12,20,20,10,6,6,9,11,16,6,25,17,20,20,6,17,17,17,17,17,17,17,17,17,18,13,18,20,20,22,21,28,28,28,28,28,8,8,8,8,8,12,24,24,24,24,16,16,16,39,9,10,10,17,11,14,12,53,6,6,8,8,12,12,12,21,6,6,13,0,11,9,9,9,15,11,13,13,7,13,6,6,6,6,6,9,6,6,6,6,6,6,0,18,7,14,14,9,16,2,2,5,5,20,20,7,7,7,14,10,7,13,11,6,6,8,7,14,14,8,8,30,30,13,9,9,7,7,9,7,7,20,13,13,11,11,11,11,18,14,19,13,5,10,9,8,8,12,11,11,40,40,40,40,40,36,16,17,14,21,18,17,5,5,21,18,18,12,14,12,8,8,0,14,10,15,15,15,9,7,10,6,9,10,82,12,10,5,5,5,5,5,5,5,16,16,16,10,10,10,10,4,4,16,15,19,19,9,23,11,11,23,23,23,23,12,0,0,0,0,7,21,21,15,9,5,16,16,16,13,16,20,11,4,9,42,12,18,17,14,13,9,6,6,14,15,13,12,18,15,11,9,9,9,9,9,8,8,8,8,8]}],\"marker\":{\"color\":[1,0,1,0,1,0,0,0,1,0,0,1,1,0,1,1,1,1,1,1,0,0,0,1,0,1,1,1,1,1,1,1,1,1,1,1,1,1,0,1,0,0,0,1,1,1,0,0,0,1,1,1,1,0,1,1,0,0,1,1,0,0,0,0,0,0,0,1,1,1,1,0,0,0,1,0,0,0,1,0,0,0,0,0,0,0,0,0,0,1,1,1,1,1,1,0,0,1,1,1,0,0,0,1,0,0,0,0,0,1,1,1,1,1,1,1,0,1,0,0,0,1,1,0,0,0,0,0,1,1,1,1,0,0,1,0,0,0,1,1,1,1,1,0,0,0,0,0,1,0,1,1,1,0,0,0,0,0,1,0,1,1,1,1,1,1,1,1,1,1,1,1,1,1,1,1,1,0,0,0,0,1,0,0,1,1,1,1,1,1,1,1,1,0,0,1,1,1,1,1,1,1,1,1,1,1,1,0,1,1,1,1,1,1,1,1,1,1,0,0,0,0,1,0,0,1,1,1,1,1,1,1,1,1,1,1,0,0,0,1,1,0,1,1,1,0,0,0,0,0,0,0,0,0,0,1,1,1,0,0,1,1,1,1,0,0,0,0,0,1,1,1,1,1,1,1,1,1,1,1,1,0,1,1,1,1,0,0,0,0,1,1,0,1,1,1,1,1,1,0,1,1,1,0,1,1,1,1,1,1,1,1,1,1,1,0,1,1,1,1,1,1,1,1,1,1,1,1,1,1,1,1,1,1,1,1,1,1,0,1,0,0,1,0,1,1,1,0,0,0,0,1,1,0,1,1,1,0,1,1,0,0,0,1,0,0,0,0,0,1,1,1,1,1,1,1,1,1,1,1,1,0,0,0,0,0,0,0,0,0,0,0,0,0,0,0,0,0,0,0,0,0,0,0,0,0,0,0,0,0,0,0,1,1,1,1,1,1,0,0,0,1,1,1,1,1,1,0,0,0,1,1,0,0,0,0,1,0,0,1,1,1,1,1,1,0,1,1,1,1,1,0,0,1,0,0,0,1,0,0,0,0,0,0,1,1,1,1,0,0,0,1,1,0,0,1,0,0,0,0,0,0,0,1,1,1,0,0,0,0,0,0,1,1,1,1,0,1,1,1,1,1,1,1,1,0,0,0,0,0,1,0,1,0,0,1,1,1,1,1,0,1,1,1,0,0,1,1,0,0,1,1,1,1,0,0,1,1,0,1,0,0,0,0,0,0,1,1,1,1],\"line\":{\"color\":\"white\",\"width\":0.5},\"showscale\":false},\"showupperhalf\":false,\"text\":[\"10-Day Green Smoothie Cleanse\",\"11/22/63: A Novel\",\"12 Rules for Life: An Antidote to Chaos\",\"1984 (Signet Classics)\",\"5,000 Awesome Facts (About Everything!) (National Geographic Kids)\",\"A Dance with Dragons (A Song of Ice and Fire)\",\"A Game of Thrones / A Clash of Kings / A Storm of Swords / A Feast of Crows / A Dance with Dragons\",\"A Gentleman in Moscow: A Novel\",\"A Higher Loyalty: Truth, Lies, and Leadership\",\"A Man Called Ove: A Novel\",\"A Man Called Ove: A Novel\",\"A Patriot's History of the United States: From Columbus's Great Discovery to the War on Terror\",\"A Stolen Life: A Memoir\",\"A Wrinkle in Time (Time Quintet)\",\"Act Like a Lady, Think Like a Man: What Men Really Think About Love, Relationships, Intimacy, and Commitment\",\"Adult Coloring Book Designs: Stress Relief Coloring Book: Garden Designs, Mandalas, Animals, and Paisley Patterns\",\"Adult Coloring Book: Stress Relieving Animal Designs\",\"Adult Coloring Book: Stress Relieving Patterns\",\"Adult Coloring Books: A Coloring Book for Adults Featuring Mandalas and Henna Inspired Flowers, Animals, and Paisley\\u2026\",\"Alexander Hamilton\",\"All the Light We Cannot See\",\"All the Light We Cannot See\",\"Allegiant\",\"American Sniper: The Autobiography of the Most Lethal Sniper in U.S. Military History\",\"And the Mountains Echoed\",\"Arguing with Idiots: How to Stop Small Minds and Big Government\",\"Astrophysics for People in a Hurry\",\"Autobiography of Mark Twain, Vol. 1\",\"Baby Touch and Feel: Animals\",\"Balance (Angie's Extreme Stress Menders)\",\"Barefoot Contessa Foolproof: Recipes You Can Trust: A Cookbook\",\"Barefoot Contessa, How Easy Is That?: Fabulous Recipes & Easy Tips\",\"Becoming\",\"Becoming\",\"Being Mortal: Medicine and What Matters in the End\",\"Between the World and Me\",\"Between the World and Me\",\"Born to Run\",\"Breaking Dawn (The Twilight Saga, Book 4)\",\"Broke: The Plan to Restore Our Trust, Truth and Treasure\",\"Brown Bear, Brown Bear, What Do You See?\",\"Brown Bear, Brown Bear, What Do You See?\",\"Cabin Fever (Diary of a Wimpy Kid, Book 6)\",\"Calm the F*ck Down: An Irreverent Adult Coloring Book (Irreverent Book Series)\",\"Can't Hurt Me: Master Your Mind and Defy the Odds\",\"Capital in the Twenty First Century\",\"Catching Fire (The Hunger Games)\",\"Catching Fire (The Hunger Games)\",\"Catching Fire (The Hunger Games)\",\"Cravings: Recipes for All the Food You Want to Eat: A Cookbook\",\"Crazy Love: Overwhelmed by a Relentless God\",\"Crazy Love: Overwhelmed by a Relentless God\",\"Crazy Love: Overwhelmed by a Relentless God\",\"Crazy Rich Asians (Crazy Rich Asians Trilogy)\",\"Creative Haven Creative Cats Coloring Book (Adult Coloring)\",\"Creative Haven Owls Coloring Book (Adult Coloring)\",\"Cutting for Stone\",\"Cutting for Stone\",\"Daring Greatly: How the Courage to Be Vulnerable Transforms the Way We Live, Love, Parent, and Lead\",\"David and Goliath: Underdogs, Misfits, and the Art of Battling Giants\",\"Dead And Gone: A Sookie Stackhouse Novel (Sookie Stackhouse/True Blood)\",\"Dead in the Family (Sookie Stackhouse/True Blood, Book 10)\",\"Dead Reckoning (Sookie Stackhouse/True Blood, Book 11)\",\"Dear Zoo: A Lift-the-Flap Book\",\"Dear Zoo: A Lift-the-Flap Book\",\"Dear Zoo: A Lift-the-Flap Book\",\"Dear Zoo: A Lift-the-Flap Book\",\"Decision Points\",\"Delivering Happiness: A Path to Profits, Passion, and Purpose\",\"Diagnostic and Statistical Manual of Mental Disorders, 5th Edition: DSM-5\",\"Diagnostic and Statistical Manual of Mental Disorders, 5th Edition: DSM-5\",\"Diary of a Wimpy Kid: Hard Luck, Book 8\",\"Diary of a Wimpy Kid: The Last Straw (Book 3)\",\"Diary of a Wimpy Kid: The Long Haul\",\"Difficult Riddles For Smart Kids: 300 Difficult Riddles And Brain Teasers Families Will Love (Books for Smart Kids)\",\"Divergent\",\"Divergent\",\"Divergent / Insurgent\",\"Divine Soul Mind Body Healing and Transmission System: The Divine Way to Heal You, Humanity, Mother Earth, and All\\u2026\",\"Doctor Sleep: A Novel\",\"Dog Days (Diary of a Wimpy Kid, Book 4) (Volume 4)\",\"Dog Man and Cat Kid: From the Creator of Captain Underpants (Dog Man #4)\",\"Dog Man: A Tale of Two Kitties: From the Creator of Captain Underpants (Dog Man #3)\",\"Dog Man: Brawl of the Wild: From the Creator of Captain Underpants (Dog Man #6)\",\"Dog Man: Brawl of the Wild: From the Creator of Captain Underpants (Dog Man #6)\",\"Dog Man: Fetch-22: From the Creator of Captain Underpants (Dog Man #8)\",\"Dog Man: For Whom the Ball Rolls: From the Creator of Captain Underpants (Dog Man #7)\",\"Dog Man: Lord of the Fleas: From the Creator of Captain Underpants (Dog Man #5)\",\"Double Down (Diary of a Wimpy Kid #11)\",\"Dover Creative Haven Art Nouveau Animal Designs Coloring Book (Creative Haven Coloring Books)\",\"Drive: The Surprising Truth About What Motivates Us\",\"Eat This Not That! Supermarket Survival Guide: The No-Diet Weight Loss Solution\",\"Eat This, Not That! Thousands of Simple Food Swaps that Can Save You 10, 20, 30 Pounds--or More!\",\"Eat to Live: The Amazing Nutrient-Rich Program for Fast and Sustained Weight Loss, Revised Edition\",\"Eat to Live: The Amazing Nutrient-Rich Program for Fast and Sustained Weight Loss, Revised Edition\",\"Eclipse (Twilight Sagas)\",\"Eclipse (Twilight)\",\"Educated: A Memoir\",\"Educated: A Memoir\",\"Enchanted Forest: An Inky Quest and Coloring book (Activity Books, Mindfulness and Meditation, Illustrated Floral Prints\\u2026\",\"Fahrenheit 451\",\"Fahrenheit 451\",\"Fantastic Beasts and Where to Find Them: The Original Screenplay (Harry Potter)\",\"Fear: Trump in the White House\",\"Fifty Shades Darker\",\"Fifty Shades Freed: Book Three of the Fifty Shades Trilogy (Fifty Shades of Grey Series) (English Edition)\",\"Fifty Shades of Grey: Book One of the Fifty Shades Trilogy (Fifty Shades of Grey Series)\",\"Fifty Shades of Grey: Book One of the Fifty Shades Trilogy (Fifty Shades of Grey Series)\",\"Fifty Shades Trilogy (Fifty Shades of Grey / Fifty Shades Darker / Fifty Shades Freed)\",\"Fire and Fury: Inside the Trump White House\",\"First 100 Words\",\"First 100 Words\",\"First 100 Words\",\"First 100 Words\",\"First 100 Words\",\"Food Rules: An Eater's Manual\",\"Frozen (Little Golden Book)\",\"Game Change: Obama and the Clintons, McCain and Palin, and the Race of a Lifetime\",\"Game of Thrones Boxed Set: A Game of Thrones/A Clash of Kings/A Storm of Swords/A Feast for Crows\",\"Game of Thrones Boxed Set: A Game of Thrones/A Clash of Kings/A Storm of Swords/A Feast for Crows\",\"Game of Thrones Boxed Set: A Game of Thrones/A Clash of Kings/A Storm of Swords/A Feast for Crows\",\"George Washington's Sacred Fire\",\"George Washington's Secret Six: The Spy Ring That Saved the American Revolution\",\"Giraffes Can't Dance\",\"Giraffes Can't Dance\",\"Giraffes Can't Dance\",\"Giraffes Can't Dance\",\"Giraffes Can't Dance\",\"Girl, Stop Apologizing: A Shame-Free Plan for Embracing and Achieving Your Goals\",\"Girl, Wash Your Face: Stop Believing the Lies About Who You Are So You Can Become Who You Were Meant to Be\",\"Girl, Wash Your Face: Stop Believing the Lies About Who You Are So You Can Become Who You Were Meant to Be\",\"Glenn Beck's Common Sense: The Case Against an Out-of-Control Government, Inspired by Thomas Paine\",\"Go Set a Watchman: A Novel\",\"Go the F**k to Sleep\",\"Going Rogue: An American Life\",\"Gone Girl\",\"Gone Girl\",\"Gone Girl\",\"Good Days Start With Gratitude: A 52 Week Guide To Cultivate An Attitude Of Gratitude: Gratitude Journal\",\"Good to Great: Why Some Companies Make the Leap and Others Don't\",\"Good to Great: Why Some Companies Make the Leap and Others Don't\",\"Good to Great: Why Some Companies Make the Leap and Others Don't\",\"Good to Great: Why Some Companies Make the Leap and Others Don't\",\"Goodnight Moon\",\"Goodnight Moon\",\"Goodnight Moon\",\"Goodnight, Goodnight Construction Site (Hardcover Books for Toddlers, Preschool Books for Kids)\",\"Goodnight, Goodnight Construction Site (Hardcover Books for Toddlers, Preschool Books for Kids)\",\"Grain Brain: The Surprising Truth about Wheat, Carbs, and Sugar--Your Brain's Silent Killers\",\"Grey: Fifty Shades of Grey as Told by Christian (Fifty Shades of Grey Series)\",\"Guts\",\"Hamilton: The Revolution\",\"Happy, Happy, Happy: My Life and Legacy as the Duck Commander\",\"Harry Potter and the Chamber of Secrets: The Illustrated Edition (Harry Potter, Book 2)\",\"Harry Potter and the Cursed Child, Parts 1 & 2, Special Rehearsal Edition Script\",\"Harry Potter and the Goblet of Fire: The Illustrated Edition (Harry Potter, Book 4) (4)\",\"Harry Potter and the Prisoner of Azkaban: The Illustrated Edition (Harry Potter, Book 3)\",\"Harry Potter and the Sorcerer's Stone: The Illustrated Edition (Harry Potter, Book 1)\",\"Harry Potter Coloring Book\",\"Harry Potter Paperback Box Set (Books 1-7)\",\"Have a Little Faith: A True Story\",\"Heaven is for Real: A Little Boy's Astounding Story of His Trip to Heaven and Back\",\"Heaven is for Real: A Little Boy's Astounding Story of His Trip to Heaven and Back\",\"Hillbilly Elegy: A Memoir of a Family and Culture in Crisis\",\"Hillbilly Elegy: A Memoir of a Family and Culture in Crisis\",\"Homebody: A Guide to Creating Spaces You Never Want to Leave\",\"How to Win Friends & Influence People\",\"How to Win Friends & Influence People\",\"How to Win Friends & Influence People\",\"How to Win Friends & Influence People\",\"How to Win Friends & Influence People\",\"Howard Stern Comes Again\",\"Humans of New York\",\"Humans of New York\",\"Humans of New York : Stories\",\"Hyperbole and a Half: Unfortunate Situations, Flawed Coping Mechanisms, Mayhem, and Other Things That Happened\",\"I Am Confident, Brave & Beautiful: A Coloring Book for Girls\",\"I, Alex Cross\",\"If Animals Kissed Good Night\",\"If Animals Kissed Good Night\",\"If I Stay\",\"In the Garden of Beasts: Love, Terror, and an American Family in Hitler's Berlin\",\"Inferno\",\"Inheritance: Book IV (Inheritance Cycle)\",\"Instant Pot Pressure Cooker Cookbook: 500 Everyday Recipes for Beginners and Advanced Users. Try Easy and Healthy\\u2026\",\"Instant Pot Pressure Cooker Cookbook: 500 Everyday Recipes for Beginners and Advanced Users. Try Easy and Healthy\\u2026\",\"It's Not Supposed to Be This Way: Finding Unexpected Strength When Disappointments Leave You Shattered\",\"Jesus Calling: Enjoying Peace in His Presence (with Scripture References)\",\"Jesus Calling: Enjoying Peace in His Presence (with Scripture References)\",\"Jesus Calling: Enjoying Peace in His Presence (with Scripture References)\",\"Jesus Calling: Enjoying Peace in His Presence (with Scripture References)\",\"Jesus Calling: Enjoying Peace in His Presence (with Scripture References)\",\"Jesus Calling: Enjoying Peace in His Presence (with Scripture References)\",\"JOURNEY TO THE ICE P\",\"Joyland (Hard Case Crime)\",\"Killers of the Flower Moon: The Osage Murders and the Birth of the FBI\",\"Killing Jesus (Bill O'Reilly's Killing Series)\",\"Killing Kennedy: The End of Camelot\",\"Killing Lincoln: The Shocking Assassination that Changed America Forever (Bill O'Reilly's Killing Series)\",\"Killing Lincoln: The Shocking Assassination that Changed America Forever (Bill O'Reilly's Killing Series)\",\"Killing Patton: The Strange Death of World War II's Most Audacious General (Bill O'Reilly's Killing Series)\",\"Killing Reagan: The Violent Assault That Changed a Presidency (Bill O'Reilly's Killing Series)\",\"Killing the Rising Sun: How America Vanquished World War II Japan (Bill O'Reilly's Killing Series)\",\"Kitchen Confidential Updated Edition: Adventures in the Culinary Underbelly (P.S.)\",\"Knock-Knock Jokes for Kids\",\"Knock-Knock Jokes for Kids\",\"Knock-Knock Jokes for Kids\",\"Last Week Tonight with John Oliver Presents A Day in the Life of Marlon Bundo (Better Bundo Book, LGBT Children\\u0092s Book)\",\"Laugh-Out-Loud Jokes for Kids\",\"Laugh-Out-Loud Jokes for Kids\",\"Laugh-Out-Loud Jokes for Kids\",\"Laugh-Out-Loud Jokes for Kids\",\"Laugh-Out-Loud Jokes for Kids\",\"Lean In: Women, Work, and the Will to Lead\",\"Leonardo da Vinci\",\"Lettering and Modern Calligraphy: A Beginner's Guide: Learn Hand Lettering and Brush Lettering\",\"Liberty and Tyranny: A Conservative Manifesto\",\"Life\",\"Little Bee: A Novel\",\"Little Blue Truck\",\"Little Fires Everywhere\",\"Looking for Alaska\",\"Love Wins: A Book About Heaven, Hell, and the Fate of Every Person Who Ever Lived\",\"Love You Forever\",\"Love You Forever\",\"Magnolia Table: A Collection of Recipes for Gathering\",\"Make It Ahead: A Barefoot Contessa Cookbook\",\"Make Your Bed: Little Things That Can Change Your Life...And Maybe the World\",\"Mastering the Art of French Cooking, Vol. 2\",\"Milk and Honey\",\"Milk and Honey\",\"Milk and Honey\",\"Milk and Vine: Inspirational Quotes From Classic Vines\",\"Mindset: The New Psychology of Success\",\"Mindset: The New Psychology of Success\",\"Mindset: The New Psychology of Success\",\"Mockingjay (The Hunger Games)\",\"Mockingjay (The Hunger Games)\",\"Mockingjay (The Hunger Games)\",\"National Geographic Kids Why?: Over 1,111 Answers to Everything\",\"National Geographic Little Kids First Big Book of Why (National Geographic Little Kids First Big Books)\",\"New Moon (The Twilight Saga)\",\"Night (Night)\",\"No Easy Day: The Autobiography of a Navy Seal: The Firsthand Account of the Mission That Killed Osama Bin Laden\",\"Obama: An Intimate Portrait\",\"Oh, the Places You'll Go!\",\"Oh, the Places You'll Go!\",\"Oh, the Places You'll Go!\",\"Oh, the Places You'll Go!\",\"Oh, the Places You'll Go!\",\"Oh, the Places You'll Go!\",\"Oh, the Places You'll Go!\",\"Oh, the Places You'll Go!\",\"Old School (Diary of a Wimpy Kid #10)\",\"Olive Kitteridge\",\"One Thousand Gifts: A Dare to Live Fully Right Where You Are\",\"One Thousand Gifts: A Dare to Live Fully Right Where You Are\",\"Option B: Facing Adversity, Building Resilience, and Finding Joy\",\"Origin: A Novel (Robert Langdon)\",\"Orphan Train\",\"Outliers: The Story of Success\",\"Outliers: The Story of Success\",\"P is for Potty! (Sesame Street) (Lift-the-Flap)\",\"P is for Potty! (Sesame Street) (Lift-the-Flap)\",\"Percy Jackson and the Olympians Paperback Boxed Set (Books 1-3)\",\"Player's Handbook (Dungeons & Dragons)\",\"Player's Handbook (Dungeons & Dragons)\",\"Player's Handbook (Dungeons & Dragons)\",\"Pok\\u00e9mon Deluxe Essential Handbook: The Need-to-Know Stats and Facts on Over 700 Pok\\u00e9mon\",\"Proof of Heaven: A Neurosurgeon's Journey into the Afterlife\",\"Proof of Heaven: A Neurosurgeon's Journey into the Afterlife\",\"Publication Manual of the American Psychological Association, 6th Edition\",\"Publication Manual of the American Psychological Association, 6th Edition\",\"Publication Manual of the American Psychological Association, 6th Edition\",\"Publication Manual of the American Psychological Association, 6th Edition\",\"Publication Manual of the American Psychological Association, 6th Edition\",\"Publication Manual of the American Psychological Association, 6th Edition\",\"Publication Manual of the American Psychological Association, 6th Edition\",\"Publication Manual of the American Psychological Association, 6th Edition\",\"Publication Manual of the American Psychological Association, 6th Edition\",\"Publication Manual of the American Psychological Association, 6th Edition\",\"Puppy Birthday to You! (Paw Patrol) (Little Golden Book)\",\"Quiet: The Power of Introverts in a World That Can't Stop Talking\",\"Quiet: The Power of Introverts in a World That Can't Stop Talking\",\"Radical: Taking Back Your Faith from the American Dream\",\"Radical: Taking Back Your Faith from the American Dream\",\"Ready Player One: A Novel\",\"Ready Player One: A Novel\",\"Rush Revere and the Brave Pilgrims: Time-Travel Adventures with Exceptional Americans (1)\",\"Rush Revere and the First Patriots: Time-Travel Adventures With Exceptional Americans (2)\",\"Salt, Fat, Acid, Heat: Mastering the Elements of Good Cooking\",\"Salt, Fat, Acid, Heat: Mastering the Elements of Good Cooking\",\"Sarah's Key\",\"School Zone - Big Preschool Workbook - Ages 4 and Up, Colors, Shapes, Numbers 1-10, Alphabet, Pre-Writing, Pre-Reading\\u2026\",\"School Zone - Big Preschool Workbook - Ages 4 and Up, Colors, Shapes, Numbers 1-10, Alphabet, Pre-Writing, Pre-Reading\\u2026\",\"Secret Garden: An Inky Treasure Hunt and Coloring Book (For Adults, mindfulness coloring)\",\"Sh*t My Dad Says\",\"Ship of Fools: How a Selfish Ruling Class Is Bringing America to the Brink of Revolution\",\"Shred: The Revolutionary Diet: 6 Weeks 4 Inches 2 Sizes\",\"Sookie Stackhouse\",\"Soul Healing Miracles: Ancient and New Sacred Wisdom, Knowledge, and Practical Techniques for Healing the Spiritual\\u2026\",\"Steve Jobs\",\"Steve Jobs\",\"Strange Planet (Strange Planet Series)\",\"StrengthsFinder 2.0\",\"StrengthsFinder 2.0\",\"StrengthsFinder 2.0\",\"StrengthsFinder 2.0\",\"StrengthsFinder 2.0\",\"StrengthsFinder 2.0\",\"StrengthsFinder 2.0\",\"StrengthsFinder 2.0\",\"StrengthsFinder 2.0\",\"Super Freakonomics: Global Cooling, Patriotic Prostitutes, and Why Suicide Bombers Should Buy Life Insurance\",\"Switch: How to Change Things When Change Is Hard\",\"Sycamore Row (Jake Brigance)\",\"Teach Like a Champion: 49 Techniques that Put Students on the Path to College\",\"Teach Like a Champion: 49 Techniques that Put Students on the Path to College\",\"The 17 Day Diet: A Doctor's Plan Designed for Rapid Results\",\"The 4 Hour Body: An Uncommon Guide to Rapid Fat Loss, Incredible Sex and Becoming Superhuman\",\"The 5 Love Languages: The Secret to Love That Lasts\",\"The 5 Love Languages: The Secret to Love That Lasts\",\"The 5 Love Languages: The Secret to Love That Lasts\",\"The 5 Love Languages: The Secret to Love That Lasts\",\"The 5 Love Languages: The Secret to Love That Lasts\",\"The 5 Love Languages: The Secret to Love that Lasts\",\"The 5 Love Languages: The Secret to Love that Lasts\",\"The 5 Love Languages: The Secret to Love that Lasts\",\"The 5 Love Languages: The Secret to Love that Lasts\",\"The 5 Love Languages: The Secret to Love that Lasts\",\"The 5000 Year Leap\",\"The 7 Habits of Highly Effective People: Powerful Lessons in Personal Change\",\"The 7 Habits of Highly Effective People: Powerful Lessons in Personal Change\",\"The 7 Habits of Highly Effective People: Powerful Lessons in Personal Change\",\"The 7 Habits of Highly Effective People: Powerful Lessons in Personal Change\",\"The 7 Habits of Highly Effective People: Powerful Lessons in Personal Change\",\"The 7 Habits of Highly Effective People: Powerful Lessons in Personal Change\",\"The 7 Habits of Highly Effective People: Powerful Lessons in Personal Change\",\"The Alchemist\",\"The Amateur\",\"The Art of Racing in the Rain: A Novel\",\"The Art of Racing in the Rain: A Novel\",\"The Big Short: Inside the Doomsday Machine\",\"The Blood of Olympus (The Heroes of Olympus (5))\",\"The Blood Sugar Solution: The UltraHealthy Program for Losing Weight, Preventing Disease, and Feeling Great Now!\",\"The Body Keeps the Score: Brain, Mind, and Body in the Healing of Trauma\",\"The Book of Basketball: The NBA According to The Sports Guy\",\"The Book Thief\",\"The Book Thief\",\"The Book with No Pictures\",\"The Book with No Pictures\",\"The Boys in the Boat: Nine Americans and Their Epic Quest for Gold at the 1936 Berlin Olympics\",\"The Boys in the Boat: Nine Americans and Their Epic Quest for Gold at the 1936 Berlin Olympics\",\"The Casual Vacancy\",\"The China Study: The Most Comprehensive Study of Nutrition Ever Conducted And the Startling Implications for Diet\\u2026\",\"The Complete Ketogenic Diet for Beginners: Your Essential Guide to Living the Keto Lifestyle\",\"The Complete Ketogenic Diet for Beginners: Your Essential Guide to Living the Keto Lifestyle\",\"The Confession: A Novel\",\"The Constitution of the United States\",\"The Daily Show with Jon Stewart Presents Earth (The Book): A Visitor's Guide to the Human Race\",\"The Day the Crayons Quit\",\"The Day the Crayons Quit\",\"The Day the Crayons Quit\",\"The Dukan Diet: 2 Steps to Lose the Weight, 2 Steps to Keep It Off Forever\",\"The Elegance of the Hedgehog\",\"The Fault in Our Stars\",\"The Fault in Our Stars\",\"The Fault in Our Stars\",\"The Fault in Our Stars\",\"The Five Dysfunctions of a Team: A Leadership Fable\",\"The Five Dysfunctions of a Team: A Leadership Fable\",\"The Five Dysfunctions of a Team: A Leadership Fable\",\"The Five Dysfunctions of a Team: A Leadership Fable\",\"The Five Dysfunctions of a Team: A Leadership Fable\",\"The Five Love Languages: How to Express Heartfelt Commitment to Your Mate\",\"The Four Agreements: A Practical Guide to Personal Freedom (A Toltec Wisdom Book)\",\"The Four Agreements: A Practical Guide to Personal Freedom (A Toltec Wisdom Book)\",\"The Four Agreements: A Practical Guide to Personal Freedom (A Toltec Wisdom Book)\",\"The Four Agreements: A Practical Guide to Personal Freedom (A Toltec Wisdom Book)\",\"The Four Agreements: A Practical Guide to Personal Freedom (A Toltec Wisdom Book)\",\"The Four Agreements: A Practical Guide to Personal Freedom (A Toltec Wisdom Book)\",\"The Getaway\",\"The Girl on the Train\",\"The Girl on the Train\",\"The Girl Who Kicked the Hornet's Nest (Millennium Trilogy)\",\"The Girl Who Kicked the Hornet's Nest (Millennium Trilogy)\",\"The Girl Who Played with Fire (Millennium Series)\",\"The Girl Who Played with Fire (Millennium)\",\"The Girl with the Dragon Tattoo (Millennium Series)\",\"The Girl with the Dragon Tattoo (Millennium Series)\",\"The Going-To-Bed Book\",\"The Going-To-Bed Book\",\"The Goldfinch: A Novel (Pulitzer Prize for Fiction)\",\"The Goldfinch: A Novel (Pulitzer Prize for Fiction)\",\"The Great Gatsby\",\"The Great Gatsby\",\"The Great Gatsby\",\"The Guardians: A Novel\",\"The Guernsey Literary and Potato Peel Pie Society\",\"The Handmaid's Tale\",\"The Harbinger: The Ancient Mystery that Holds the Secret of America's Future\",\"The Hate U Give\",\"The Help\",\"The Help\",\"The Help\",\"The Help\",\"The House of Hades (Heroes of Olympus, Book 4)\",\"The Hunger Games\",\"The Hunger Games (Book 1)\",\"The Hunger Games (Book 1)\",\"The Hunger Games Trilogy Boxed Set (1)\",\"The Hunger Games Trilogy Boxed Set (1)\",\"The Immortal Life of Henrietta Lacks\",\"The Immortal Life of Henrietta Lacks\",\"The Immortal Life of Henrietta Lacks\",\"The Instant Pot Electric Pressure Cooker Cookbook: Easy Recipes for Fast & Healthy Meals\",\"The Instant Pot Electric Pressure Cooker Cookbook: Easy Recipes for Fast & Healthy Meals\",\"The Last Lecture\",\"The Last Olympian (Percy Jackson and the Olympians, Book 5)\",\"The Last Olympian (Percy Jackson and the Olympians, Book 5)\",\"The Legend of Zelda: Hyrule Historia\",\"The Lego Ideas Book: Unlock Your Imagination\",\"The Lego Ideas Book: Unlock Your Imagination\",\"The Life-Changing Magic of Tidying Up: The Japanese Art of Decluttering and Organizing\",\"The Life-Changing Magic of Tidying Up: The Japanese Art of Decluttering and Organizing\",\"The Life-Changing Magic of Tidying Up: The Japanese Art of Decluttering and Organizing\",\"The Life-Changing Magic of Tidying Up: The Japanese Art of Decluttering and Organizing\",\"The Litigators\",\"The Lost Hero (Heroes of Olympus, Book 1)\",\"The Lost Symbol\",\"The Love Dare\",\"The Magnolia Story\",\"The Mark of Athena (Heroes of Olympus, Book 3)\",\"The Martian\",\"The Maze Runner (Book 1)\",\"The Meltdown (Diary of a Wimpy Kid Book 13)\",\"The Mueller Report\",\"The Nightingale: A Novel\",\"The Nightingale: A Novel\",\"The Official SAT Study Guide\",\"The Official SAT Study Guide\",\"The Official SAT Study Guide\",\"The Official SAT Study Guide\",\"The Official SAT Study Guide\",\"The Official SAT Study Guide, 2016 Edition (Official Study Guide for the New Sat)\",\"The Paris Wife: A Novel\",\"The Pioneer Woman Cooks: A Year of Holidays: 140 Step-by-Step Recipes for Simple, Scrumptious Celebrations\",\"The Pioneer Woman Cooks: Dinnertime - Comfort Classics, Freezer Food, 16-minute Meals, and Other Delicious Ways to Solve\\u2026\",\"The Pioneer Woman Cooks: Food from My Frontier\",\"The Plant Paradox Cookbook: 100 Delicious Recipes to Help You Lose Weight, Heal Your Gut, and Live Lectin-Free\",\"The Plant Paradox: The Hidden Dangers in \\\"Healthy\\\" Foods That Cause Disease and Weight Gain\",\"The Pout-Pout Fish\",\"The Pout-Pout Fish\",\"The Power of Habit: Why We Do What We Do in Life and Business\",\"The President Is Missing: A Novel\",\"The Racketeer\",\"The Red Pyramid (The Kane Chronicles, Book 1)\",\"The Road to Serfdom: Text and Documents--The Definitive Edition (The Collected Works of F. A. Hayek, Volume 2)\",\"The Serpent's Shadow (The Kane Chronicles, Book 3)\",\"The Shack: Where Tragedy Confronts Eternity\",\"The Shack: Where Tragedy Confronts Eternity\",\"The Short Second Life of Bree Tanner: An Eclipse Novella (The Twilight Saga)\",\"The Silent Patient\",\"The Son of Neptune (Heroes of Olympus, Book 2)\",\"The Subtle Art of Not Giving a F*ck: A Counterintuitive Approach to Living a Good Life\",\"The Subtle Art of Not Giving a F*ck: A Counterintuitive Approach to Living a Good Life\",\"The Subtle Art of Not Giving a F*ck: A Counterintuitive Approach to Living a Good Life\",\"The Sun and Her Flowers\",\"The Third Wheel (Diary of a Wimpy Kid, Book 7)\",\"The Throne of Fire (The Kane Chronicles, Book 2)\",\"The Time Traveler's Wife\",\"The Tipping Point: How Little Things Can Make a Big Difference\",\"The Total Money Makeover: Classic Edition: A Proven Plan for Financial Fitness\",\"The Twilight Saga Collection\",\"The Ugly Truth (Diary of a Wimpy Kid, Book 5)\",\"The Unofficial Harry Potter Cookbook: From Cauldron Cakes to Knickerbocker Glory--More Than 150 Magical Recipes for\\u2026\",\"The Very Hungry Caterpillar\",\"The Very Hungry Caterpillar\",\"The Very Hungry Caterpillar\",\"The Very Hungry Caterpillar\",\"The Very Hungry Caterpillar\",\"The Very Hungry Caterpillar\",\"The Very Hungry Caterpillar\",\"The Whole30: The 30-Day Guide to Total Health and Food Freedom\",\"The Whole30: The 30-Day Guide to Total Health and Food Freedom\",\"The Whole30: The 30-Day Guide to Total Health and Food Freedom\",\"The Wonderful Things You Will Be\",\"The Wonderful Things You Will Be\",\"The Wonderful Things You Will Be\",\"The Wonderful Things You Will Be\",\"The Wonky Donkey\",\"The Wonky Donkey\",\"The Wright Brothers\",\"Things That Matter: Three Decades of Passions, Pastimes and Politics [Deckled Edge]\",\"Thinking, Fast and Slow\",\"Thinking, Fast and Slow\",\"Thirteen Reasons Why\",\"Thomas Jefferson: The Art of Power\",\"Three Cups of Tea: One Man's Mission to Promote Peace - One School at a Time\",\"Three Cups of Tea: One Man's Mission to Promote Peace - One School at a Time\",\"Thug Kitchen: The Official Cookbook: Eat Like You Give a F*ck (Thug Kitchen Cookbooks)\",\"Thug Kitchen: The Official Cookbook: Eat Like You Give a F*ck (Thug Kitchen Cookbooks)\",\"Thug Kitchen: The Official Cookbook: Eat Like You Give a F*ck (Thug Kitchen Cookbooks)\",\"Thug Kitchen: The Official Cookbook: Eat Like You Give a F*ck (Thug Kitchen Cookbooks)\",\"Tina Fey: Bossypants\",\"To Kill a Mockingbird\",\"To Kill a Mockingbird\",\"To Kill a Mockingbird\",\"To Kill a Mockingbird\",\"To Kill a Mockingbird\",\"Tools of Titans: The Tactics, Routines, and Habits of Billionaires, Icons, and World-Class Performers\",\"Towers of Midnight (Wheel of Time, Book Thirteen)\",\"True Compass: A Memoir\",\"Twilight (The Twilight Saga, Book 1)\",\"Ultimate Sticker Book: Frozen: More Than 60 Reusable Full-Color Stickers\",\"Unbroken: A World War II Story of Survival, Resilience, and Redemption\",\"Unbroken: A World War II Story of Survival, Resilience, and Redemption\",\"Unbroken: A World War II Story of Survival, Resilience, and Redemption\",\"Unbroken: A World War II Story of Survival, Resilience, and Redemption\",\"Unbroken: A World War II Story of Survival, Resilience, and Redemption\",\"Under the Dome: A Novel\",\"Unfreedom of the Press\",\"Unicorn Coloring Book: For Kids Ages 4-8 (US Edition) (Silly Bear Coloring Books)\",\"Uninvited: Living Loved When You Feel Less Than, Left Out, and Lonely\",\"Watchmen\",\"Water for Elephants: A Novel\",\"What Happened\",\"What If?: Serious Scientific Answers to Absurd Hypothetical Questions\",\"What Pet Should I Get? (Classic Seuss)\",\"What Should Danny Do? (The Power to Choose Series)\",\"What to Expect When You're Expecting\",\"Wheat Belly: Lose the Wheat, Lose the Weight, and Find Your Path Back to Health\",\"Wheat Belly: Lose the Wheat, Lose the Weight, and Find Your Path Back to Health\",\"When Breath Becomes Air\",\"Where the Crawdads Sing\",\"Where the Wild Things Are\",\"Whose Boat Is This Boat?: Comments That Don't Help in the Aftermath of a Hurricane\",\"Wild: From Lost to Found on the Pacific Crest Trail\",\"Winter of the World: Book Two of the Century Trilogy\",\"Women Food and God: An Unexpected Path to Almost Everything\",\"Wonder\",\"Wonder\",\"Wonder\",\"Wonder\",\"Wonder\",\"Wrecking Ball (Diary of a Wimpy Kid Book 14)\",\"You Are a Badass: How to Stop Doubting Your Greatness and Start Living an Awesome Life\",\"You Are a Badass: How to Stop Doubting Your Greatness and Start Living an Awesome Life\",\"You Are a Badass: How to Stop Doubting Your Greatness and Start Living an Awesome Life\",\"You Are a Badass: How to Stop Doubting Your Greatness and Start Living an Awesome Life\"],\"type\":\"splom\"}],                        {\"height\":1000,\"template\":{\"data\":{\"bar\":[{\"error_x\":{\"color\":\"#2a3f5f\"},\"error_y\":{\"color\":\"#2a3f5f\"},\"marker\":{\"line\":{\"color\":\"#E5ECF6\",\"width\":0.5},\"pattern\":{\"fillmode\":\"overlay\",\"size\":10,\"solidity\":0.2}},\"type\":\"bar\"}],\"barpolar\":[{\"marker\":{\"line\":{\"color\":\"#E5ECF6\",\"width\":0.5},\"pattern\":{\"fillmode\":\"overlay\",\"size\":10,\"solidity\":0.2}},\"type\":\"barpolar\"}],\"carpet\":[{\"aaxis\":{\"endlinecolor\":\"#2a3f5f\",\"gridcolor\":\"white\",\"linecolor\":\"white\",\"minorgridcolor\":\"white\",\"startlinecolor\":\"#2a3f5f\"},\"baxis\":{\"endlinecolor\":\"#2a3f5f\",\"gridcolor\":\"white\",\"linecolor\":\"white\",\"minorgridcolor\":\"white\",\"startlinecolor\":\"#2a3f5f\"},\"type\":\"carpet\"}],\"choropleth\":[{\"colorbar\":{\"outlinewidth\":0,\"ticks\":\"\"},\"type\":\"choropleth\"}],\"contour\":[{\"colorbar\":{\"outlinewidth\":0,\"ticks\":\"\"},\"colorscale\":[[0.0,\"#0d0887\"],[0.1111111111111111,\"#46039f\"],[0.2222222222222222,\"#7201a8\"],[0.3333333333333333,\"#9c179e\"],[0.4444444444444444,\"#bd3786\"],[0.5555555555555556,\"#d8576b\"],[0.6666666666666666,\"#ed7953\"],[0.7777777777777778,\"#fb9f3a\"],[0.8888888888888888,\"#fdca26\"],[1.0,\"#f0f921\"]],\"type\":\"contour\"}],\"contourcarpet\":[{\"colorbar\":{\"outlinewidth\":0,\"ticks\":\"\"},\"type\":\"contourcarpet\"}],\"heatmap\":[{\"colorbar\":{\"outlinewidth\":0,\"ticks\":\"\"},\"colorscale\":[[0.0,\"#0d0887\"],[0.1111111111111111,\"#46039f\"],[0.2222222222222222,\"#7201a8\"],[0.3333333333333333,\"#9c179e\"],[0.4444444444444444,\"#bd3786\"],[0.5555555555555556,\"#d8576b\"],[0.6666666666666666,\"#ed7953\"],[0.7777777777777778,\"#fb9f3a\"],[0.8888888888888888,\"#fdca26\"],[1.0,\"#f0f921\"]],\"type\":\"heatmap\"}],\"heatmapgl\":[{\"colorbar\":{\"outlinewidth\":0,\"ticks\":\"\"},\"colorscale\":[[0.0,\"#0d0887\"],[0.1111111111111111,\"#46039f\"],[0.2222222222222222,\"#7201a8\"],[0.3333333333333333,\"#9c179e\"],[0.4444444444444444,\"#bd3786\"],[0.5555555555555556,\"#d8576b\"],[0.6666666666666666,\"#ed7953\"],[0.7777777777777778,\"#fb9f3a\"],[0.8888888888888888,\"#fdca26\"],[1.0,\"#f0f921\"]],\"type\":\"heatmapgl\"}],\"histogram\":[{\"marker\":{\"pattern\":{\"fillmode\":\"overlay\",\"size\":10,\"solidity\":0.2}},\"type\":\"histogram\"}],\"histogram2d\":[{\"colorbar\":{\"outlinewidth\":0,\"ticks\":\"\"},\"colorscale\":[[0.0,\"#0d0887\"],[0.1111111111111111,\"#46039f\"],[0.2222222222222222,\"#7201a8\"],[0.3333333333333333,\"#9c179e\"],[0.4444444444444444,\"#bd3786\"],[0.5555555555555556,\"#d8576b\"],[0.6666666666666666,\"#ed7953\"],[0.7777777777777778,\"#fb9f3a\"],[0.8888888888888888,\"#fdca26\"],[1.0,\"#f0f921\"]],\"type\":\"histogram2d\"}],\"histogram2dcontour\":[{\"colorbar\":{\"outlinewidth\":0,\"ticks\":\"\"},\"colorscale\":[[0.0,\"#0d0887\"],[0.1111111111111111,\"#46039f\"],[0.2222222222222222,\"#7201a8\"],[0.3333333333333333,\"#9c179e\"],[0.4444444444444444,\"#bd3786\"],[0.5555555555555556,\"#d8576b\"],[0.6666666666666666,\"#ed7953\"],[0.7777777777777778,\"#fb9f3a\"],[0.8888888888888888,\"#fdca26\"],[1.0,\"#f0f921\"]],\"type\":\"histogram2dcontour\"}],\"mesh3d\":[{\"colorbar\":{\"outlinewidth\":0,\"ticks\":\"\"},\"type\":\"mesh3d\"}],\"parcoords\":[{\"line\":{\"colorbar\":{\"outlinewidth\":0,\"ticks\":\"\"}},\"type\":\"parcoords\"}],\"pie\":[{\"automargin\":true,\"type\":\"pie\"}],\"scatter\":[{\"marker\":{\"colorbar\":{\"outlinewidth\":0,\"ticks\":\"\"}},\"type\":\"scatter\"}],\"scatter3d\":[{\"line\":{\"colorbar\":{\"outlinewidth\":0,\"ticks\":\"\"}},\"marker\":{\"colorbar\":{\"outlinewidth\":0,\"ticks\":\"\"}},\"type\":\"scatter3d\"}],\"scattercarpet\":[{\"marker\":{\"colorbar\":{\"outlinewidth\":0,\"ticks\":\"\"}},\"type\":\"scattercarpet\"}],\"scattergeo\":[{\"marker\":{\"colorbar\":{\"outlinewidth\":0,\"ticks\":\"\"}},\"type\":\"scattergeo\"}],\"scattergl\":[{\"marker\":{\"colorbar\":{\"outlinewidth\":0,\"ticks\":\"\"}},\"type\":\"scattergl\"}],\"scattermapbox\":[{\"marker\":{\"colorbar\":{\"outlinewidth\":0,\"ticks\":\"\"}},\"type\":\"scattermapbox\"}],\"scatterpolar\":[{\"marker\":{\"colorbar\":{\"outlinewidth\":0,\"ticks\":\"\"}},\"type\":\"scatterpolar\"}],\"scatterpolargl\":[{\"marker\":{\"colorbar\":{\"outlinewidth\":0,\"ticks\":\"\"}},\"type\":\"scatterpolargl\"}],\"scatterternary\":[{\"marker\":{\"colorbar\":{\"outlinewidth\":0,\"ticks\":\"\"}},\"type\":\"scatterternary\"}],\"surface\":[{\"colorbar\":{\"outlinewidth\":0,\"ticks\":\"\"},\"colorscale\":[[0.0,\"#0d0887\"],[0.1111111111111111,\"#46039f\"],[0.2222222222222222,\"#7201a8\"],[0.3333333333333333,\"#9c179e\"],[0.4444444444444444,\"#bd3786\"],[0.5555555555555556,\"#d8576b\"],[0.6666666666666666,\"#ed7953\"],[0.7777777777777778,\"#fb9f3a\"],[0.8888888888888888,\"#fdca26\"],[1.0,\"#f0f921\"]],\"type\":\"surface\"}],\"table\":[{\"cells\":{\"fill\":{\"color\":\"#EBF0F8\"},\"line\":{\"color\":\"white\"}},\"header\":{\"fill\":{\"color\":\"#C8D4E3\"},\"line\":{\"color\":\"white\"}},\"type\":\"table\"}]},\"layout\":{\"annotationdefaults\":{\"arrowcolor\":\"#2a3f5f\",\"arrowhead\":0,\"arrowwidth\":1},\"autotypenumbers\":\"strict\",\"coloraxis\":{\"colorbar\":{\"outlinewidth\":0,\"ticks\":\"\"}},\"colorscale\":{\"diverging\":[[0,\"#8e0152\"],[0.1,\"#c51b7d\"],[0.2,\"#de77ae\"],[0.3,\"#f1b6da\"],[0.4,\"#fde0ef\"],[0.5,\"#f7f7f7\"],[0.6,\"#e6f5d0\"],[0.7,\"#b8e186\"],[0.8,\"#7fbc41\"],[0.9,\"#4d9221\"],[1,\"#276419\"]],\"sequential\":[[0.0,\"#0d0887\"],[0.1111111111111111,\"#46039f\"],[0.2222222222222222,\"#7201a8\"],[0.3333333333333333,\"#9c179e\"],[0.4444444444444444,\"#bd3786\"],[0.5555555555555556,\"#d8576b\"],[0.6666666666666666,\"#ed7953\"],[0.7777777777777778,\"#fb9f3a\"],[0.8888888888888888,\"#fdca26\"],[1.0,\"#f0f921\"]],\"sequentialminus\":[[0.0,\"#0d0887\"],[0.1111111111111111,\"#46039f\"],[0.2222222222222222,\"#7201a8\"],[0.3333333333333333,\"#9c179e\"],[0.4444444444444444,\"#bd3786\"],[0.5555555555555556,\"#d8576b\"],[0.6666666666666666,\"#ed7953\"],[0.7777777777777778,\"#fb9f3a\"],[0.8888888888888888,\"#fdca26\"],[1.0,\"#f0f921\"]]},\"colorway\":[\"#636efa\",\"#EF553B\",\"#00cc96\",\"#ab63fa\",\"#FFA15A\",\"#19d3f3\",\"#FF6692\",\"#B6E880\",\"#FF97FF\",\"#FECB52\"],\"font\":{\"color\":\"#2a3f5f\"},\"geo\":{\"bgcolor\":\"white\",\"lakecolor\":\"white\",\"landcolor\":\"#E5ECF6\",\"showlakes\":true,\"showland\":true,\"subunitcolor\":\"white\"},\"hoverlabel\":{\"align\":\"left\"},\"hovermode\":\"closest\",\"mapbox\":{\"style\":\"light\"},\"paper_bgcolor\":\"white\",\"plot_bgcolor\":\"#E5ECF6\",\"polar\":{\"angularaxis\":{\"gridcolor\":\"white\",\"linecolor\":\"white\",\"ticks\":\"\"},\"bgcolor\":\"#E5ECF6\",\"radialaxis\":{\"gridcolor\":\"white\",\"linecolor\":\"white\",\"ticks\":\"\"}},\"scene\":{\"xaxis\":{\"backgroundcolor\":\"#E5ECF6\",\"gridcolor\":\"white\",\"gridwidth\":2,\"linecolor\":\"white\",\"showbackground\":true,\"ticks\":\"\",\"zerolinecolor\":\"white\"},\"yaxis\":{\"backgroundcolor\":\"#E5ECF6\",\"gridcolor\":\"white\",\"gridwidth\":2,\"linecolor\":\"white\",\"showbackground\":true,\"ticks\":\"\",\"zerolinecolor\":\"white\"},\"zaxis\":{\"backgroundcolor\":\"#E5ECF6\",\"gridcolor\":\"white\",\"gridwidth\":2,\"linecolor\":\"white\",\"showbackground\":true,\"ticks\":\"\",\"zerolinecolor\":\"white\"}},\"shapedefaults\":{\"line\":{\"color\":\"#2a3f5f\"}},\"ternary\":{\"aaxis\":{\"gridcolor\":\"white\",\"linecolor\":\"white\",\"ticks\":\"\"},\"baxis\":{\"gridcolor\":\"white\",\"linecolor\":\"white\",\"ticks\":\"\"},\"bgcolor\":\"#E5ECF6\",\"caxis\":{\"gridcolor\":\"white\",\"linecolor\":\"white\",\"ticks\":\"\"}},\"title\":{\"x\":0.05},\"xaxis\":{\"automargin\":true,\"gridcolor\":\"white\",\"linecolor\":\"white\",\"ticks\":\"\",\"title\":{\"standoff\":15},\"zerolinecolor\":\"white\",\"zerolinewidth\":2},\"yaxis\":{\"automargin\":true,\"gridcolor\":\"white\",\"linecolor\":\"white\",\"ticks\":\"\",\"title\":{\"standoff\":15},\"zerolinecolor\":\"white\",\"zerolinewidth\":2}}},\"title\":{\"text\":\"Books\"},\"width\":1000},                        {\"responsive\": true}                    ).then(function(){\n",
       "                            \n",
       "var gd = document.getElementById('4976db3e-af63-4f75-85c6-f622228e5c4a');\n",
       "var x = new MutationObserver(function (mutations, observer) {{\n",
       "        var display = window.getComputedStyle(gd).display;\n",
       "        if (!display || display === 'none') {{\n",
       "            console.log([gd, 'removed!']);\n",
       "            Plotly.purge(gd);\n",
       "            observer.disconnect();\n",
       "        }}\n",
       "}});\n",
       "\n",
       "// Listen for the removal of the full notebook cells\n",
       "var notebookContainer = gd.closest('#notebook-container');\n",
       "if (notebookContainer) {{\n",
       "    x.observe(notebookContainer, {childList: true});\n",
       "}}\n",
       "\n",
       "// Listen for the clearing of the current output cell\n",
       "var outputEl = gd.closest('.output');\n",
       "if (outputEl) {{\n",
       "    x.observe(outputEl, {childList: true});\n",
       "}}\n",
       "\n",
       "                        })                };                });            </script>        </div>"
      ]
     },
     "metadata": {},
     "output_type": "display_data"
    }
   ],
   "source": [
    "index_vals = df['Genre'].astype('category').cat.codes\n",
    "\n",
    "fig = go.Figure(data=go.Splom(\n",
    "                dimensions=[dict(label='User Rating',\n",
    "                                 values=df['User Rating']),\n",
    "                            dict(label='Reviews',\n",
    "                                 values=df['Reviews']),\n",
    "                            dict(label='Price',\n",
    "                                 values=df['Price'])],\n",
    "                showupperhalf=False, \n",
    "                text=df['Name'],\n",
    "                marker=dict(color=index_vals,\n",
    "                            showscale=False, # colors encode categorical variables\n",
    "                            line_color='white', line_width=0.5)\n",
    "                ))\n",
    "\n",
    "\n",
    "fig.update_layout(\n",
    "    title='Books',\n",
    "    width=1000,\n",
    "    height=1000,\n",
    ")\n",
    "\n",
    "fig.show()"
   ]
  },
  {
   "cell_type": "markdown",
   "id": "5c65709e",
   "metadata": {
    "papermill": {
     "duration": 0.0483,
     "end_time": "2021-07-10T21:54:20.648901",
     "exception": false,
     "start_time": "2021-07-10T21:54:20.600601",
     "status": "completed"
    },
    "tags": []
   },
   "source": [
    "- There isn't any significant correlation to consider for further analysis."
   ]
  },
  {
   "cell_type": "markdown",
   "id": "9160a36f",
   "metadata": {
    "papermill": {
     "duration": 0.049119,
     "end_time": "2021-07-10T21:54:20.746881",
     "exception": false,
     "start_time": "2021-07-10T21:54:20.697762",
     "status": "completed"
    },
    "tags": []
   },
   "source": [
    "- After getting overall picture about the data, we can go into more details."
   ]
  },
  {
   "cell_type": "code",
   "execution_count": 18,
   "id": "6bd4c886",
   "metadata": {
    "_kg_hide-input": true,
    "execution": {
     "iopub.execute_input": "2021-07-10T21:54:20.852004Z",
     "iopub.status.busy": "2021-07-10T21:54:20.851477Z",
     "iopub.status.idle": "2021-07-10T21:54:20.868735Z",
     "shell.execute_reply": "2021-07-10T21:54:20.868263Z",
     "shell.execute_reply.started": "2021-07-10T21:43:44.178074Z"
    },
    "papermill": {
     "duration": 0.073443,
     "end_time": "2021-07-10T21:54:20.868847",
     "exception": false,
     "start_time": "2021-07-10T21:54:20.795404",
     "status": "completed"
    },
    "tags": []
   },
   "outputs": [
    {
     "data": {
      "text/html": [
       "<div>\n",
       "<style scoped>\n",
       "    .dataframe tbody tr th:only-of-type {\n",
       "        vertical-align: middle;\n",
       "    }\n",
       "\n",
       "    .dataframe tbody tr th {\n",
       "        vertical-align: top;\n",
       "    }\n",
       "\n",
       "    .dataframe thead th {\n",
       "        text-align: right;\n",
       "    }\n",
       "</style>\n",
       "<table border=\"1\" class=\"dataframe\">\n",
       "  <thead>\n",
       "    <tr style=\"text-align: right;\">\n",
       "      <th></th>\n",
       "      <th>Year</th>\n",
       "      <th>Genre count</th>\n",
       "    </tr>\n",
       "    <tr>\n",
       "      <th>Genre</th>\n",
       "      <th></th>\n",
       "      <th></th>\n",
       "    </tr>\n",
       "  </thead>\n",
       "  <tbody>\n",
       "    <tr>\n",
       "      <th>Non Fiction</th>\n",
       "      <td>2009</td>\n",
       "      <td>26</td>\n",
       "    </tr>\n",
       "    <tr>\n",
       "      <th>Fiction</th>\n",
       "      <td>2009</td>\n",
       "      <td>24</td>\n",
       "    </tr>\n",
       "    <tr>\n",
       "      <th>Non Fiction</th>\n",
       "      <td>2010</td>\n",
       "      <td>30</td>\n",
       "    </tr>\n",
       "    <tr>\n",
       "      <th>Fiction</th>\n",
       "      <td>2010</td>\n",
       "      <td>20</td>\n",
       "    </tr>\n",
       "    <tr>\n",
       "      <th>Non Fiction</th>\n",
       "      <td>2011</td>\n",
       "      <td>29</td>\n",
       "    </tr>\n",
       "    <tr>\n",
       "      <th>Fiction</th>\n",
       "      <td>2011</td>\n",
       "      <td>21</td>\n",
       "    </tr>\n",
       "    <tr>\n",
       "      <th>Non Fiction</th>\n",
       "      <td>2012</td>\n",
       "      <td>29</td>\n",
       "    </tr>\n",
       "    <tr>\n",
       "      <th>Fiction</th>\n",
       "      <td>2012</td>\n",
       "      <td>21</td>\n",
       "    </tr>\n",
       "    <tr>\n",
       "      <th>Non Fiction</th>\n",
       "      <td>2013</td>\n",
       "      <td>26</td>\n",
       "    </tr>\n",
       "    <tr>\n",
       "      <th>Fiction</th>\n",
       "      <td>2013</td>\n",
       "      <td>24</td>\n",
       "    </tr>\n",
       "    <tr>\n",
       "      <th>Fiction</th>\n",
       "      <td>2014</td>\n",
       "      <td>29</td>\n",
       "    </tr>\n",
       "    <tr>\n",
       "      <th>Non Fiction</th>\n",
       "      <td>2014</td>\n",
       "      <td>21</td>\n",
       "    </tr>\n",
       "    <tr>\n",
       "      <th>Non Fiction</th>\n",
       "      <td>2015</td>\n",
       "      <td>33</td>\n",
       "    </tr>\n",
       "    <tr>\n",
       "      <th>Fiction</th>\n",
       "      <td>2015</td>\n",
       "      <td>17</td>\n",
       "    </tr>\n",
       "    <tr>\n",
       "      <th>Non Fiction</th>\n",
       "      <td>2016</td>\n",
       "      <td>31</td>\n",
       "    </tr>\n",
       "    <tr>\n",
       "      <th>Fiction</th>\n",
       "      <td>2016</td>\n",
       "      <td>19</td>\n",
       "    </tr>\n",
       "    <tr>\n",
       "      <th>Non Fiction</th>\n",
       "      <td>2017</td>\n",
       "      <td>26</td>\n",
       "    </tr>\n",
       "    <tr>\n",
       "      <th>Fiction</th>\n",
       "      <td>2017</td>\n",
       "      <td>24</td>\n",
       "    </tr>\n",
       "    <tr>\n",
       "      <th>Non Fiction</th>\n",
       "      <td>2018</td>\n",
       "      <td>29</td>\n",
       "    </tr>\n",
       "    <tr>\n",
       "      <th>Fiction</th>\n",
       "      <td>2018</td>\n",
       "      <td>21</td>\n",
       "    </tr>\n",
       "    <tr>\n",
       "      <th>Non Fiction</th>\n",
       "      <td>2019</td>\n",
       "      <td>30</td>\n",
       "    </tr>\n",
       "    <tr>\n",
       "      <th>Fiction</th>\n",
       "      <td>2019</td>\n",
       "      <td>20</td>\n",
       "    </tr>\n",
       "  </tbody>\n",
       "</table>\n",
       "</div>"
      ],
      "text/plain": [
       "             Year  Genre count\n",
       "Genre                         \n",
       "Non Fiction  2009           26\n",
       "Fiction      2009           24\n",
       "Non Fiction  2010           30\n",
       "Fiction      2010           20\n",
       "Non Fiction  2011           29\n",
       "Fiction      2011           21\n",
       "Non Fiction  2012           29\n",
       "Fiction      2012           21\n",
       "Non Fiction  2013           26\n",
       "Fiction      2013           24\n",
       "Fiction      2014           29\n",
       "Non Fiction  2014           21\n",
       "Non Fiction  2015           33\n",
       "Fiction      2015           17\n",
       "Non Fiction  2016           31\n",
       "Fiction      2016           19\n",
       "Non Fiction  2017           26\n",
       "Fiction      2017           24\n",
       "Non Fiction  2018           29\n",
       "Fiction      2018           21\n",
       "Non Fiction  2019           30\n",
       "Fiction      2019           20"
      ]
     },
     "execution_count": 18,
     "metadata": {},
     "output_type": "execute_result"
    }
   ],
   "source": [
    "genre_by_year = df.groupby('Year')['Genre'].value_counts().reset_index(level=0).rename(columns={'Genre': 'Genre count'}, index={'index': 'Genre'})\n",
    "genre_by_year"
   ]
  },
  {
   "cell_type": "markdown",
   "id": "3c2cdb18",
   "metadata": {
    "papermill": {
     "duration": 0.049435,
     "end_time": "2021-07-10T21:54:20.967002",
     "exception": false,
     "start_time": "2021-07-10T21:54:20.917567",
     "status": "completed"
    },
    "tags": []
   },
   "source": [
    "#### **Movie Genre in Each Year**"
   ]
  },
  {
   "cell_type": "code",
   "execution_count": 19,
   "id": "3e075e66",
   "metadata": {
    "_kg_hide-input": true,
    "execution": {
     "iopub.execute_input": "2021-07-10T21:54:21.069644Z",
     "iopub.status.busy": "2021-07-10T21:54:21.069188Z",
     "iopub.status.idle": "2021-07-10T21:54:21.176970Z",
     "shell.execute_reply": "2021-07-10T21:54:21.176286Z",
     "shell.execute_reply.started": "2021-07-10T21:43:44.200782Z"
    },
    "papermill": {
     "duration": 0.160769,
     "end_time": "2021-07-10T21:54:21.177108",
     "exception": false,
     "start_time": "2021-07-10T21:54:21.016339",
     "status": "completed"
    },
    "tags": []
   },
   "outputs": [
    {
     "data": {
      "text/html": [
       "<div>                            <div id=\"13cd0814-9b48-4338-9640-1f62774d5b23\" class=\"plotly-graph-div\" style=\"height:525px; width:100%;\"></div>            <script type=\"text/javascript\">                require([\"plotly\"], function(Plotly) {                    window.PLOTLYENV=window.PLOTLYENV || {};                                    if (document.getElementById(\"13cd0814-9b48-4338-9640-1f62774d5b23\")) {                    Plotly.newPlot(                        \"13cd0814-9b48-4338-9640-1f62774d5b23\",                        [{\"hovertemplate\":\"Genre=Non Fiction<br>Year=%{x}<br>Genre count=%{y}<extra></extra>\",\"legendgroup\":\"Non Fiction\",\"line\":{\"color\":\"#636efa\",\"dash\":\"solid\"},\"mode\":\"lines\",\"name\":\"Non Fiction\",\"orientation\":\"v\",\"showlegend\":true,\"type\":\"scatter\",\"x\":[2009,2010,2011,2012,2013,2014,2015,2016,2017,2018,2019],\"xaxis\":\"x\",\"y\":[26,30,29,29,26,21,33,31,26,29,30],\"yaxis\":\"y\"},{\"hovertemplate\":\"Genre=Fiction<br>Year=%{x}<br>Genre count=%{y}<extra></extra>\",\"legendgroup\":\"Fiction\",\"line\":{\"color\":\"#EF553B\",\"dash\":\"solid\"},\"mode\":\"lines\",\"name\":\"Fiction\",\"orientation\":\"v\",\"showlegend\":true,\"type\":\"scatter\",\"x\":[2009,2010,2011,2012,2013,2014,2015,2016,2017,2018,2019],\"xaxis\":\"x\",\"y\":[24,20,21,21,24,29,17,19,24,21,20],\"yaxis\":\"y\"}],                        {\"legend\":{\"title\":{\"text\":\"Genre\"},\"tracegroupgap\":0},\"template\":{\"data\":{\"bar\":[{\"error_x\":{\"color\":\"#2a3f5f\"},\"error_y\":{\"color\":\"#2a3f5f\"},\"marker\":{\"line\":{\"color\":\"#E5ECF6\",\"width\":0.5},\"pattern\":{\"fillmode\":\"overlay\",\"size\":10,\"solidity\":0.2}},\"type\":\"bar\"}],\"barpolar\":[{\"marker\":{\"line\":{\"color\":\"#E5ECF6\",\"width\":0.5},\"pattern\":{\"fillmode\":\"overlay\",\"size\":10,\"solidity\":0.2}},\"type\":\"barpolar\"}],\"carpet\":[{\"aaxis\":{\"endlinecolor\":\"#2a3f5f\",\"gridcolor\":\"white\",\"linecolor\":\"white\",\"minorgridcolor\":\"white\",\"startlinecolor\":\"#2a3f5f\"},\"baxis\":{\"endlinecolor\":\"#2a3f5f\",\"gridcolor\":\"white\",\"linecolor\":\"white\",\"minorgridcolor\":\"white\",\"startlinecolor\":\"#2a3f5f\"},\"type\":\"carpet\"}],\"choropleth\":[{\"colorbar\":{\"outlinewidth\":0,\"ticks\":\"\"},\"type\":\"choropleth\"}],\"contour\":[{\"colorbar\":{\"outlinewidth\":0,\"ticks\":\"\"},\"colorscale\":[[0.0,\"#0d0887\"],[0.1111111111111111,\"#46039f\"],[0.2222222222222222,\"#7201a8\"],[0.3333333333333333,\"#9c179e\"],[0.4444444444444444,\"#bd3786\"],[0.5555555555555556,\"#d8576b\"],[0.6666666666666666,\"#ed7953\"],[0.7777777777777778,\"#fb9f3a\"],[0.8888888888888888,\"#fdca26\"],[1.0,\"#f0f921\"]],\"type\":\"contour\"}],\"contourcarpet\":[{\"colorbar\":{\"outlinewidth\":0,\"ticks\":\"\"},\"type\":\"contourcarpet\"}],\"heatmap\":[{\"colorbar\":{\"outlinewidth\":0,\"ticks\":\"\"},\"colorscale\":[[0.0,\"#0d0887\"],[0.1111111111111111,\"#46039f\"],[0.2222222222222222,\"#7201a8\"],[0.3333333333333333,\"#9c179e\"],[0.4444444444444444,\"#bd3786\"],[0.5555555555555556,\"#d8576b\"],[0.6666666666666666,\"#ed7953\"],[0.7777777777777778,\"#fb9f3a\"],[0.8888888888888888,\"#fdca26\"],[1.0,\"#f0f921\"]],\"type\":\"heatmap\"}],\"heatmapgl\":[{\"colorbar\":{\"outlinewidth\":0,\"ticks\":\"\"},\"colorscale\":[[0.0,\"#0d0887\"],[0.1111111111111111,\"#46039f\"],[0.2222222222222222,\"#7201a8\"],[0.3333333333333333,\"#9c179e\"],[0.4444444444444444,\"#bd3786\"],[0.5555555555555556,\"#d8576b\"],[0.6666666666666666,\"#ed7953\"],[0.7777777777777778,\"#fb9f3a\"],[0.8888888888888888,\"#fdca26\"],[1.0,\"#f0f921\"]],\"type\":\"heatmapgl\"}],\"histogram\":[{\"marker\":{\"pattern\":{\"fillmode\":\"overlay\",\"size\":10,\"solidity\":0.2}},\"type\":\"histogram\"}],\"histogram2d\":[{\"colorbar\":{\"outlinewidth\":0,\"ticks\":\"\"},\"colorscale\":[[0.0,\"#0d0887\"],[0.1111111111111111,\"#46039f\"],[0.2222222222222222,\"#7201a8\"],[0.3333333333333333,\"#9c179e\"],[0.4444444444444444,\"#bd3786\"],[0.5555555555555556,\"#d8576b\"],[0.6666666666666666,\"#ed7953\"],[0.7777777777777778,\"#fb9f3a\"],[0.8888888888888888,\"#fdca26\"],[1.0,\"#f0f921\"]],\"type\":\"histogram2d\"}],\"histogram2dcontour\":[{\"colorbar\":{\"outlinewidth\":0,\"ticks\":\"\"},\"colorscale\":[[0.0,\"#0d0887\"],[0.1111111111111111,\"#46039f\"],[0.2222222222222222,\"#7201a8\"],[0.3333333333333333,\"#9c179e\"],[0.4444444444444444,\"#bd3786\"],[0.5555555555555556,\"#d8576b\"],[0.6666666666666666,\"#ed7953\"],[0.7777777777777778,\"#fb9f3a\"],[0.8888888888888888,\"#fdca26\"],[1.0,\"#f0f921\"]],\"type\":\"histogram2dcontour\"}],\"mesh3d\":[{\"colorbar\":{\"outlinewidth\":0,\"ticks\":\"\"},\"type\":\"mesh3d\"}],\"parcoords\":[{\"line\":{\"colorbar\":{\"outlinewidth\":0,\"ticks\":\"\"}},\"type\":\"parcoords\"}],\"pie\":[{\"automargin\":true,\"type\":\"pie\"}],\"scatter\":[{\"marker\":{\"colorbar\":{\"outlinewidth\":0,\"ticks\":\"\"}},\"type\":\"scatter\"}],\"scatter3d\":[{\"line\":{\"colorbar\":{\"outlinewidth\":0,\"ticks\":\"\"}},\"marker\":{\"colorbar\":{\"outlinewidth\":0,\"ticks\":\"\"}},\"type\":\"scatter3d\"}],\"scattercarpet\":[{\"marker\":{\"colorbar\":{\"outlinewidth\":0,\"ticks\":\"\"}},\"type\":\"scattercarpet\"}],\"scattergeo\":[{\"marker\":{\"colorbar\":{\"outlinewidth\":0,\"ticks\":\"\"}},\"type\":\"scattergeo\"}],\"scattergl\":[{\"marker\":{\"colorbar\":{\"outlinewidth\":0,\"ticks\":\"\"}},\"type\":\"scattergl\"}],\"scattermapbox\":[{\"marker\":{\"colorbar\":{\"outlinewidth\":0,\"ticks\":\"\"}},\"type\":\"scattermapbox\"}],\"scatterpolar\":[{\"marker\":{\"colorbar\":{\"outlinewidth\":0,\"ticks\":\"\"}},\"type\":\"scatterpolar\"}],\"scatterpolargl\":[{\"marker\":{\"colorbar\":{\"outlinewidth\":0,\"ticks\":\"\"}},\"type\":\"scatterpolargl\"}],\"scatterternary\":[{\"marker\":{\"colorbar\":{\"outlinewidth\":0,\"ticks\":\"\"}},\"type\":\"scatterternary\"}],\"surface\":[{\"colorbar\":{\"outlinewidth\":0,\"ticks\":\"\"},\"colorscale\":[[0.0,\"#0d0887\"],[0.1111111111111111,\"#46039f\"],[0.2222222222222222,\"#7201a8\"],[0.3333333333333333,\"#9c179e\"],[0.4444444444444444,\"#bd3786\"],[0.5555555555555556,\"#d8576b\"],[0.6666666666666666,\"#ed7953\"],[0.7777777777777778,\"#fb9f3a\"],[0.8888888888888888,\"#fdca26\"],[1.0,\"#f0f921\"]],\"type\":\"surface\"}],\"table\":[{\"cells\":{\"fill\":{\"color\":\"#EBF0F8\"},\"line\":{\"color\":\"white\"}},\"header\":{\"fill\":{\"color\":\"#C8D4E3\"},\"line\":{\"color\":\"white\"}},\"type\":\"table\"}]},\"layout\":{\"annotationdefaults\":{\"arrowcolor\":\"#2a3f5f\",\"arrowhead\":0,\"arrowwidth\":1},\"autotypenumbers\":\"strict\",\"coloraxis\":{\"colorbar\":{\"outlinewidth\":0,\"ticks\":\"\"}},\"colorscale\":{\"diverging\":[[0,\"#8e0152\"],[0.1,\"#c51b7d\"],[0.2,\"#de77ae\"],[0.3,\"#f1b6da\"],[0.4,\"#fde0ef\"],[0.5,\"#f7f7f7\"],[0.6,\"#e6f5d0\"],[0.7,\"#b8e186\"],[0.8,\"#7fbc41\"],[0.9,\"#4d9221\"],[1,\"#276419\"]],\"sequential\":[[0.0,\"#0d0887\"],[0.1111111111111111,\"#46039f\"],[0.2222222222222222,\"#7201a8\"],[0.3333333333333333,\"#9c179e\"],[0.4444444444444444,\"#bd3786\"],[0.5555555555555556,\"#d8576b\"],[0.6666666666666666,\"#ed7953\"],[0.7777777777777778,\"#fb9f3a\"],[0.8888888888888888,\"#fdca26\"],[1.0,\"#f0f921\"]],\"sequentialminus\":[[0.0,\"#0d0887\"],[0.1111111111111111,\"#46039f\"],[0.2222222222222222,\"#7201a8\"],[0.3333333333333333,\"#9c179e\"],[0.4444444444444444,\"#bd3786\"],[0.5555555555555556,\"#d8576b\"],[0.6666666666666666,\"#ed7953\"],[0.7777777777777778,\"#fb9f3a\"],[0.8888888888888888,\"#fdca26\"],[1.0,\"#f0f921\"]]},\"colorway\":[\"#636efa\",\"#EF553B\",\"#00cc96\",\"#ab63fa\",\"#FFA15A\",\"#19d3f3\",\"#FF6692\",\"#B6E880\",\"#FF97FF\",\"#FECB52\"],\"font\":{\"color\":\"#2a3f5f\"},\"geo\":{\"bgcolor\":\"white\",\"lakecolor\":\"white\",\"landcolor\":\"#E5ECF6\",\"showlakes\":true,\"showland\":true,\"subunitcolor\":\"white\"},\"hoverlabel\":{\"align\":\"left\"},\"hovermode\":\"closest\",\"mapbox\":{\"style\":\"light\"},\"paper_bgcolor\":\"white\",\"plot_bgcolor\":\"#E5ECF6\",\"polar\":{\"angularaxis\":{\"gridcolor\":\"white\",\"linecolor\":\"white\",\"ticks\":\"\"},\"bgcolor\":\"#E5ECF6\",\"radialaxis\":{\"gridcolor\":\"white\",\"linecolor\":\"white\",\"ticks\":\"\"}},\"scene\":{\"xaxis\":{\"backgroundcolor\":\"#E5ECF6\",\"gridcolor\":\"white\",\"gridwidth\":2,\"linecolor\":\"white\",\"showbackground\":true,\"ticks\":\"\",\"zerolinecolor\":\"white\"},\"yaxis\":{\"backgroundcolor\":\"#E5ECF6\",\"gridcolor\":\"white\",\"gridwidth\":2,\"linecolor\":\"white\",\"showbackground\":true,\"ticks\":\"\",\"zerolinecolor\":\"white\"},\"zaxis\":{\"backgroundcolor\":\"#E5ECF6\",\"gridcolor\":\"white\",\"gridwidth\":2,\"linecolor\":\"white\",\"showbackground\":true,\"ticks\":\"\",\"zerolinecolor\":\"white\"}},\"shapedefaults\":{\"line\":{\"color\":\"#2a3f5f\"}},\"ternary\":{\"aaxis\":{\"gridcolor\":\"white\",\"linecolor\":\"white\",\"ticks\":\"\"},\"baxis\":{\"gridcolor\":\"white\",\"linecolor\":\"white\",\"ticks\":\"\"},\"bgcolor\":\"#E5ECF6\",\"caxis\":{\"gridcolor\":\"white\",\"linecolor\":\"white\",\"ticks\":\"\"}},\"title\":{\"x\":0.05},\"xaxis\":{\"automargin\":true,\"gridcolor\":\"white\",\"linecolor\":\"white\",\"ticks\":\"\",\"title\":{\"standoff\":15},\"zerolinecolor\":\"white\",\"zerolinewidth\":2},\"yaxis\":{\"automargin\":true,\"gridcolor\":\"white\",\"linecolor\":\"white\",\"ticks\":\"\",\"title\":{\"standoff\":15},\"zerolinecolor\":\"white\",\"zerolinewidth\":2}}},\"title\":{\"text\":\"Movies By Genre in Each Year\"},\"xaxis\":{\"anchor\":\"y\",\"domain\":[0.0,1.0],\"title\":{\"text\":\"Year\"}},\"yaxis\":{\"anchor\":\"x\",\"domain\":[0.0,1.0],\"title\":{\"text\":\"Genre count\"}}},                        {\"responsive\": true}                    ).then(function(){\n",
       "                            \n",
       "var gd = document.getElementById('13cd0814-9b48-4338-9640-1f62774d5b23');\n",
       "var x = new MutationObserver(function (mutations, observer) {{\n",
       "        var display = window.getComputedStyle(gd).display;\n",
       "        if (!display || display === 'none') {{\n",
       "            console.log([gd, 'removed!']);\n",
       "            Plotly.purge(gd);\n",
       "            observer.disconnect();\n",
       "        }}\n",
       "}});\n",
       "\n",
       "// Listen for the removal of the full notebook cells\n",
       "var notebookContainer = gd.closest('#notebook-container');\n",
       "if (notebookContainer) {{\n",
       "    x.observe(notebookContainer, {childList: true});\n",
       "}}\n",
       "\n",
       "// Listen for the clearing of the current output cell\n",
       "var outputEl = gd.closest('.output');\n",
       "if (outputEl) {{\n",
       "    x.observe(outputEl, {childList: true});\n",
       "}}\n",
       "\n",
       "                        })                };                });            </script>        </div>"
      ]
     },
     "metadata": {},
     "output_type": "display_data"
    }
   ],
   "source": [
    "fig = px.line(genre_by_year, x='Year', y='Genre count', color= genre_by_year.index, title='Movies By Genre in Each Year')\n",
    "fig.show()"
   ]
  },
  {
   "cell_type": "markdown",
   "id": "b0ef773c",
   "metadata": {
    "papermill": {
     "duration": 0.076449,
     "end_time": "2021-07-10T21:54:21.327857",
     "exception": false,
     "start_time": "2021-07-10T21:54:21.251408",
     "status": "completed"
    },
    "tags": []
   },
   "source": [
    "- Non fiction books  are sharply descreased on the 2014, and then sharply increased on 2015.\n",
    "- Fiction books significantly increased on 2014 and then sharply decreased on 2015.\n",
    "- Both fiction and non-fiction books have inconsistency on their counts by year."
   ]
  },
  {
   "cell_type": "markdown",
   "id": "cc1b6b0a",
   "metadata": {
    "papermill": {
     "duration": 0.073396,
     "end_time": "2021-07-10T21:54:21.475765",
     "exception": false,
     "start_time": "2021-07-10T21:54:21.402369",
     "status": "completed"
    },
    "tags": []
   },
   "source": [
    "#### **Price of Books in Each Year**"
   ]
  },
  {
   "cell_type": "code",
   "execution_count": 20,
   "id": "bb817fd9",
   "metadata": {
    "_kg_hide-input": true,
    "execution": {
     "iopub.execute_input": "2021-07-10T21:54:21.630052Z",
     "iopub.status.busy": "2021-07-10T21:54:21.629316Z",
     "iopub.status.idle": "2021-07-10T21:54:21.726624Z",
     "shell.execute_reply": "2021-07-10T21:54:21.725437Z",
     "shell.execute_reply.started": "2021-07-10T21:43:44.296662Z"
    },
    "papermill": {
     "duration": 0.17736,
     "end_time": "2021-07-10T21:54:21.726772",
     "exception": false,
     "start_time": "2021-07-10T21:54:21.549412",
     "status": "completed"
    },
    "tags": []
   },
   "outputs": [
    {
     "data": {
      "text/html": [
       "<div>                            <div id=\"dc742f2d-de48-4b2b-a84c-228520070e18\" class=\"plotly-graph-div\" style=\"height:525px; width:100%;\"></div>            <script type=\"text/javascript\">                require([\"plotly\"], function(Plotly) {                    window.PLOTLYENV=window.PLOTLYENV || {};                                    if (document.getElementById(\"dc742f2d-de48-4b2b-a84c-228520070e18\")) {                    Plotly.newPlot(                        \"dc742f2d-de48-4b2b-a84c-228520070e18\",                        [{\"customdata\":[[\"10-Day Green Smoothie Cleanse\",\"JJ Smith\"],[\"11/22/63: A Novel\",\"Stephen King\"],[\"12 Rules for Life: An Antidote to Chaos\",\"Jordan B. Peterson\"],[\"1984 (Signet Classics)\",\"George Orwell\"],[\"5,000 Awesome Facts (About Everything!) (National Geographic Kids)\",\"National Geographic Kids\"],[\"A Dance with Dragons (A Song of Ice and Fire)\",\"George R. R. Martin\"],[\"A Game of Thrones / A Clash of Kings / A Storm of Swords / A Feast of Crows / A Dance with Dragons\",\"George R. R. Martin\"],[\"A Gentleman in Moscow: A Novel\",\"Amor Towles\"],[\"A Higher Loyalty: Truth, Lies, and Leadership\",\"James Comey\"],[\"A Man Called Ove: A Novel\",\"Fredrik Backman\"],[\"A Man Called Ove: A Novel\",\"Fredrik Backman\"],[\"A Patriot's History of the United States: From Columbus's Great Discovery to the War on Terror\",\"Larry Schweikart\"],[\"A Stolen Life: A Memoir\",\"Jaycee Dugard\"],[\"A Wrinkle in Time (Time Quintet)\",\"Madeleine L'Engle\"],[\"Act Like a Lady, Think Like a Man: What Men Really Think About Love, Relationships, Intimacy, and Commitment\",\"Steve Harvey\"],[\"Adult Coloring Book Designs: Stress Relief Coloring Book: Garden Designs, Mandalas, Animals, and Paisley Patterns\",\"Adult Coloring Book Designs\"],[\"Adult Coloring Book: Stress Relieving Animal Designs\",\"Blue Star Coloring\"],[\"Adult Coloring Book: Stress Relieving Patterns\",\"Blue Star Coloring\"],[\"Adult Coloring Books: A Coloring Book for Adults Featuring Mandalas and Henna Inspired Flowers, Animals, and Paisley\\u2026\",\"Coloring Books for Adults\"],[\"Alexander Hamilton\",\"Ron Chernow\"],[\"All the Light We Cannot See\",\"Anthony Doerr\"],[\"All the Light We Cannot See\",\"Anthony Doerr\"],[\"Allegiant\",\"Veronica Roth\"],[\"American Sniper: The Autobiography of the Most Lethal Sniper in U.S. Military History\",\"Chris Kyle\"],[\"And the Mountains Echoed\",\"Khaled Hosseini\"],[\"Arguing with Idiots: How to Stop Small Minds and Big Government\",\"Glenn Beck\"],[\"Astrophysics for People in a Hurry\",\"Neil deGrasse Tyson\"],[\"Autobiography of Mark Twain, Vol. 1\",\"Mark Twain\"],[\"Baby Touch and Feel: Animals\",\"DK\"],[\"Balance (Angie's Extreme Stress Menders)\",\"Angie Grace\"],[\"Barefoot Contessa Foolproof: Recipes You Can Trust: A Cookbook\",\"Ina Garten\"],[\"Barefoot Contessa, How Easy Is That?: Fabulous Recipes & Easy Tips\",\"Ina Garten\"],[\"Becoming\",\"Michelle Obama\"],[\"Becoming\",\"Michelle Obama\"],[\"Being Mortal: Medicine and What Matters in the End\",\"Atul Gawande\"],[\"Between the World and Me\",\"Ta-Nehisi Coates\"],[\"Between the World and Me\",\"Ta-Nehisi Coates\"],[\"Born to Run\",\"Bruce Springsteen\"],[\"Breaking Dawn (The Twilight Saga, Book 4)\",\"Stephenie Meyer\"],[\"Broke: The Plan to Restore Our Trust, Truth and Treasure\",\"Glenn Beck\"],[\"Brown Bear, Brown Bear, What Do You See?\",\"Bill Martin Jr.\"],[\"Brown Bear, Brown Bear, What Do You See?\",\"Bill Martin Jr.\"],[\"Cabin Fever (Diary of a Wimpy Kid, Book 6)\",\"Jeff Kinney\"],[\"Calm the F*ck Down: An Irreverent Adult Coloring Book (Irreverent Book Series)\",\"Sasha O'Hara\"],[\"Can't Hurt Me: Master Your Mind and Defy the Odds\",\"David Goggins\"],[\"Capital in the Twenty First Century\",\"Thomas Piketty\"],[\"Catching Fire (The Hunger Games)\",\"Suzanne Collins\"],[\"Catching Fire (The Hunger Games)\",\"Suzanne Collins\"],[\"Catching Fire (The Hunger Games)\",\"Suzanne Collins\"],[\"Cravings: Recipes for All the Food You Want to Eat: A Cookbook\",\"Chrissy Teigen\"],[\"Crazy Love: Overwhelmed by a Relentless God\",\"Francis Chan\"],[\"Crazy Love: Overwhelmed by a Relentless God\",\"Francis Chan\"],[\"Crazy Love: Overwhelmed by a Relentless God\",\"Francis Chan\"],[\"Crazy Rich Asians (Crazy Rich Asians Trilogy)\",\"Kevin Kwan\"],[\"Creative Haven Creative Cats Coloring Book (Adult Coloring)\",\"Marjorie Sarnat\"],[\"Creative Haven Owls Coloring Book (Adult Coloring)\",\"Marjorie Sarnat\"],[\"Cutting for Stone\",\"Abraham Verghese\"],[\"Cutting for Stone\",\"Abraham Verghese\"],[\"Daring Greatly: How the Courage to Be Vulnerable Transforms the Way We Live, Love, Parent, and Lead\",\"Brene\\u0301 Brown\"],[\"David and Goliath: Underdogs, Misfits, and the Art of Battling Giants\",\"Malcolm Gladwell\"],[\"Dead And Gone: A Sookie Stackhouse Novel (Sookie Stackhouse/True Blood)\",\"Charlaine Harris\"],[\"Dead in the Family (Sookie Stackhouse/True Blood, Book 10)\",\"Charlaine Harris\"],[\"Dead Reckoning (Sookie Stackhouse/True Blood, Book 11)\",\"Charlaine Harris\"],[\"Dear Zoo: A Lift-the-Flap Book\",\"Rod Campbell\"],[\"Dear Zoo: A Lift-the-Flap Book\",\"Rod Campbell\"],[\"Dear Zoo: A Lift-the-Flap Book\",\"Rod Campbell\"],[\"Dear Zoo: A Lift-the-Flap Book\",\"Rod Campbell\"],[\"Decision Points\",\"George W. Bush\"],[\"Delivering Happiness: A Path to Profits, Passion, and Purpose\",\"Tony Hsieh\"],[\"Diagnostic and Statistical Manual of Mental Disorders, 5th Edition: DSM-5\",\"American Psychiatric Association\"],[\"Diagnostic and Statistical Manual of Mental Disorders, 5th Edition: DSM-5\",\"American Psychiatric Association\"],[\"Diary of a Wimpy Kid: Hard Luck, Book 8\",\"Jeff Kinney\"],[\"Diary of a Wimpy Kid: The Last Straw (Book 3)\",\"Jeff Kinney\"],[\"Diary of a Wimpy Kid: The Long Haul\",\"Jeff Kinney\"],[\"Difficult Riddles For Smart Kids: 300 Difficult Riddles And Brain Teasers Families Will Love (Books for Smart Kids)\",\"M Prefontaine\"],[\"Divergent\",\"Veronica Roth\"],[\"Divergent\",\"Veronica Roth\"],[\"Divergent / Insurgent\",\"Veronica Roth\"],[\"Divine Soul Mind Body Healing and Transmission System: The Divine Way to Heal You, Humanity, Mother Earth, and All\\u2026\",\"Zhi Gang Sha\"],[\"Doctor Sleep: A Novel\",\"Stephen King\"],[\"Dog Days (Diary of a Wimpy Kid, Book 4) (Volume 4)\",\"Jeff Kinney\"],[\"Dog Man and Cat Kid: From the Creator of Captain Underpants (Dog Man #4)\",\"Dav Pilkey\"],[\"Dog Man: A Tale of Two Kitties: From the Creator of Captain Underpants (Dog Man #3)\",\"Dav Pilkey\"],[\"Dog Man: Brawl of the Wild: From the Creator of Captain Underpants (Dog Man #6)\",\"Dav Pilkey\"],[\"Dog Man: Brawl of the Wild: From the Creator of Captain Underpants (Dog Man #6)\",\"Dav Pilkey\"],[\"Dog Man: Fetch-22: From the Creator of Captain Underpants (Dog Man #8)\",\"Dav Pilkey\"],[\"Dog Man: For Whom the Ball Rolls: From the Creator of Captain Underpants (Dog Man #7)\",\"Dav Pilkey\"],[\"Dog Man: Lord of the Fleas: From the Creator of Captain Underpants (Dog Man #5)\",\"Dav Pilkey\"],[\"Double Down (Diary of a Wimpy Kid #11)\",\"Jeff Kinney\"],[\"Dover Creative Haven Art Nouveau Animal Designs Coloring Book (Creative Haven Coloring Books)\",\"Marty Noble\"],[\"Drive: The Surprising Truth About What Motivates Us\",\"Daniel H. Pink\"],[\"Eat This Not That! Supermarket Survival Guide: The No-Diet Weight Loss Solution\",\"David Zinczenko\"],[\"Eat This, Not That! Thousands of Simple Food Swaps that Can Save You 10, 20, 30 Pounds--or More!\",\"David Zinczenko\"],[\"Eat to Live: The Amazing Nutrient-Rich Program for Fast and Sustained Weight Loss, Revised Edition\",\"Joel Fuhrman MD\"],[\"Eat to Live: The Amazing Nutrient-Rich Program for Fast and Sustained Weight Loss, Revised Edition\",\"Joel Fuhrman MD\"],[\"Eclipse (Twilight Sagas)\",\"Stephenie Meyer\"],[\"Eclipse (Twilight)\",\"Stephenie Meyer\"],[\"Educated: A Memoir\",\"Tara Westover\"],[\"Educated: A Memoir\",\"Tara Westover\"],[\"Enchanted Forest: An Inky Quest and Coloring book (Activity Books, Mindfulness and Meditation, Illustrated Floral Prints\\u2026\",\"Johanna Basford\"],[\"Fahrenheit 451\",\"Ray Bradbury\"],[\"Fahrenheit 451\",\"Ray Bradbury\"],[\"Fantastic Beasts and Where to Find Them: The Original Screenplay (Harry Potter)\",\"J.K. Rowling\"],[\"Fear: Trump in the White House\",\"Bob Woodward\"],[\"Fifty Shades Darker\",\"E L James\"],[\"Fifty Shades Freed: Book Three of the Fifty Shades Trilogy (Fifty Shades of Grey Series) (English Edition)\",\"E L James\"],[\"Fifty Shades of Grey: Book One of the Fifty Shades Trilogy (Fifty Shades of Grey Series)\",\"E L James\"],[\"Fifty Shades of Grey: Book One of the Fifty Shades Trilogy (Fifty Shades of Grey Series)\",\"E L James\"],[\"Fifty Shades Trilogy (Fifty Shades of Grey / Fifty Shades Darker / Fifty Shades Freed)\",\"E L James\"],[\"Fire and Fury: Inside the Trump White House\",\"Michael Wolff\"],[\"First 100 Words\",\"Roger Priddy\"],[\"First 100 Words\",\"Roger Priddy\"],[\"First 100 Words\",\"Roger Priddy\"],[\"First 100 Words\",\"Roger Priddy\"],[\"First 100 Words\",\"Roger Priddy\"],[\"Food Rules: An Eater's Manual\",\"Michael Pollan\"],[\"Frozen (Little Golden Book)\",\"RH Disney\"],[\"Game Change: Obama and the Clintons, McCain and Palin, and the Race of a Lifetime\",\"John Heilemann\"],[\"Game of Thrones Boxed Set: A Game of Thrones/A Clash of Kings/A Storm of Swords/A Feast for Crows\",\"George R.R. Martin\"],[\"Game of Thrones Boxed Set: A Game of Thrones/A Clash of Kings/A Storm of Swords/A Feast for Crows\",\"George R.R. Martin\"],[\"Game of Thrones Boxed Set: A Game of Thrones/A Clash of Kings/A Storm of Swords/A Feast for Crows\",\"George R.R. Martin\"],[\"George Washington's Sacred Fire\",\"Peter A. Lillback\"],[\"George Washington's Secret Six: The Spy Ring That Saved the American Revolution\",\"Brian Kilmeade\"],[\"Giraffes Can't Dance\",\"Giles Andreae\"],[\"Giraffes Can't Dance\",\"Giles Andreae\"],[\"Giraffes Can't Dance\",\"Giles Andreae\"],[\"Giraffes Can't Dance\",\"Giles Andreae\"],[\"Giraffes Can't Dance\",\"Giles Andreae\"],[\"Girl, Stop Apologizing: A Shame-Free Plan for Embracing and Achieving Your Goals\",\"Rachel Hollis\"],[\"Girl, Wash Your Face: Stop Believing the Lies About Who You Are So You Can Become Who You Were Meant to Be\",\"Rachel Hollis\"],[\"Girl, Wash Your Face: Stop Believing the Lies About Who You Are So You Can Become Who You Were Meant to Be\",\"Rachel Hollis\"],[\"Glenn Beck's Common Sense: The Case Against an Out-of-Control Government, Inspired by Thomas Paine\",\"Glenn Beck\"],[\"Go Set a Watchman: A Novel\",\"Harper Lee\"],[\"Go the F**k to Sleep\",\"Adam Mansbach\"],[\"Going Rogue: An American Life\",\"Sarah Palin\"],[\"Gone Girl\",\"Gillian Flynn\"],[\"Gone Girl\",\"Gillian Flynn\"],[\"Gone Girl\",\"Gillian Flynn\"],[\"Good Days Start With Gratitude: A 52 Week Guide To Cultivate An Attitude Of Gratitude: Gratitude Journal\",\"Pretty Simple Press\"],[\"Good to Great: Why Some Companies Make the Leap and Others Don't\",\"Jim Collins\"],[\"Good to Great: Why Some Companies Make the Leap and Others Don't\",\"Jim Collins\"],[\"Good to Great: Why Some Companies Make the Leap and Others Don't\",\"Jim Collins\"],[\"Good to Great: Why Some Companies Make the Leap and Others Don't\",\"Jim Collins\"],[\"Goodnight Moon\",\"Margaret Wise Brown\"],[\"Goodnight Moon\",\"Margaret Wise Brown\"],[\"Goodnight Moon\",\"Margaret Wise Brown\"],[\"Goodnight, Goodnight Construction Site (Hardcover Books for Toddlers, Preschool Books for Kids)\",\"Sherri Duskey Rinker\"],[\"Goodnight, Goodnight Construction Site (Hardcover Books for Toddlers, Preschool Books for Kids)\",\"Sherri Duskey Rinker\"],[\"Grain Brain: The Surprising Truth about Wheat, Carbs, and Sugar--Your Brain's Silent Killers\",\"David Perlmutter MD\"],[\"Grey: Fifty Shades of Grey as Told by Christian (Fifty Shades of Grey Series)\",\"E L James\"],[\"Guts\",\"Raina Telgemeier\"],[\"Hamilton: The Revolution\",\"Lin-Manuel Miranda\"],[\"Happy, Happy, Happy: My Life and Legacy as the Duck Commander\",\"Phil Robertson\"],[\"Harry Potter and the Chamber of Secrets: The Illustrated Edition (Harry Potter, Book 2)\",\"J.K. Rowling\"],[\"Harry Potter and the Cursed Child, Parts 1 & 2, Special Rehearsal Edition Script\",\"J.K. Rowling\"],[\"Harry Potter and the Goblet of Fire: The Illustrated Edition (Harry Potter, Book 4) (4)\",\"J. K. Rowling\"],[\"Harry Potter and the Prisoner of Azkaban: The Illustrated Edition (Harry Potter, Book 3)\",\"J.K. Rowling\"],[\"Harry Potter and the Sorcerer's Stone: The Illustrated Edition (Harry Potter, Book 1)\",\"J.K. Rowling\"],[\"Harry Potter Coloring Book\",\"Scholastic\"],[\"Harry Potter Paperback Box Set (Books 1-7)\",\"J. K. Rowling\"],[\"Have a Little Faith: A True Story\",\"Mitch Albom\"],[\"Heaven is for Real: A Little Boy's Astounding Story of His Trip to Heaven and Back\",\"Todd Burpo\"],[\"Heaven is for Real: A Little Boy's Astounding Story of His Trip to Heaven and Back\",\"Todd Burpo\"],[\"Hillbilly Elegy: A Memoir of a Family and Culture in Crisis\",\"J. D. Vance\"],[\"Hillbilly Elegy: A Memoir of a Family and Culture in Crisis\",\"J. D. Vance\"],[\"Homebody: A Guide to Creating Spaces You Never Want to Leave\",\"Joanna Gaines\"],[\"How to Win Friends & Influence People\",\"Dale Carnegie\"],[\"How to Win Friends & Influence People\",\"Dale Carnegie\"],[\"How to Win Friends & Influence People\",\"Dale Carnegie\"],[\"How to Win Friends & Influence People\",\"Dale Carnegie\"],[\"How to Win Friends & Influence People\",\"Dale Carnegie\"],[\"Howard Stern Comes Again\",\"Howard Stern\"],[\"Humans of New York\",\"Brandon Stanton\"],[\"Humans of New York\",\"Brandon Stanton\"],[\"Humans of New York : Stories\",\"Brandon Stanton\"],[\"Hyperbole and a Half: Unfortunate Situations, Flawed Coping Mechanisms, Mayhem, and Other Things That Happened\",\"Allie Brosh\"],[\"I Am Confident, Brave & Beautiful: A Coloring Book for Girls\",\"Hopscotch Girls\"],[\"I, Alex Cross\",\"James Patterson\"],[\"If Animals Kissed Good Night\",\"Ann Whitford Paul\"],[\"If Animals Kissed Good Night\",\"Ann Whitford Paul\"],[\"If I Stay\",\"Gayle Forman\"],[\"In the Garden of Beasts: Love, Terror, and an American Family in Hitler's Berlin\",\"Eric Larson\"],[\"Inferno\",\"Dan Brown\"],[\"Inheritance: Book IV (Inheritance Cycle)\",\"Christopher Paolini\"],[\"Instant Pot Pressure Cooker Cookbook: 500 Everyday Recipes for Beginners and Advanced Users. Try Easy and Healthy\\u2026\",\"Jennifer Smith\"],[\"Instant Pot Pressure Cooker Cookbook: 500 Everyday Recipes for Beginners and Advanced Users. Try Easy and Healthy\\u2026\",\"Jennifer Smith\"],[\"It's Not Supposed to Be This Way: Finding Unexpected Strength When Disappointments Leave You Shattered\",\"Lysa TerKeurst\"],[\"Jesus Calling: Enjoying Peace in His Presence (with Scripture References)\",\"Sarah Young\"],[\"Jesus Calling: Enjoying Peace in His Presence (with Scripture References)\",\"Sarah Young\"],[\"Jesus Calling: Enjoying Peace in His Presence (with Scripture References)\",\"Sarah Young\"],[\"Jesus Calling: Enjoying Peace in His Presence (with Scripture References)\",\"Sarah Young\"],[\"Jesus Calling: Enjoying Peace in His Presence (with Scripture References)\",\"Sarah Young\"],[\"Jesus Calling: Enjoying Peace in His Presence (with Scripture References)\",\"Sarah Young\"],[\"JOURNEY TO THE ICE P\",\"RH Disney\"],[\"Joyland (Hard Case Crime)\",\"Stephen King\"],[\"Killers of the Flower Moon: The Osage Murders and the Birth of the FBI\",\"David Grann\"],[\"Killing Jesus (Bill O'Reilly's Killing Series)\",\"Bill O'Reilly\"],[\"Killing Kennedy: The End of Camelot\",\"Bill O'Reilly\"],[\"Killing Lincoln: The Shocking Assassination that Changed America Forever (Bill O'Reilly's Killing Series)\",\"Bill O'Reilly\"],[\"Killing Lincoln: The Shocking Assassination that Changed America Forever (Bill O'Reilly's Killing Series)\",\"Bill O'Reilly\"],[\"Killing Patton: The Strange Death of World War II's Most Audacious General (Bill O'Reilly's Killing Series)\",\"Bill O'Reilly\"],[\"Killing Reagan: The Violent Assault That Changed a Presidency (Bill O'Reilly's Killing Series)\",\"Bill O'Reilly\"],[\"Killing the Rising Sun: How America Vanquished World War II Japan (Bill O'Reilly's Killing Series)\",\"Bill O'Reilly\"],[\"Kitchen Confidential Updated Edition: Adventures in the Culinary Underbelly (P.S.)\",\"Anthony Bourdain\"],[\"Knock-Knock Jokes for Kids\",\"Rob Elliott\"],[\"Knock-Knock Jokes for Kids\",\"Rob Elliott\"],[\"Knock-Knock Jokes for Kids\",\"Rob Elliott\"],[\"Last Week Tonight with John Oliver Presents A Day in the Life of Marlon Bundo (Better Bundo Book, LGBT Children\\u0092s Book)\",\"Jill Twiss\"],[\"Laugh-Out-Loud Jokes for Kids\",\"Rob Elliott\"],[\"Laugh-Out-Loud Jokes for Kids\",\"Rob Elliott\"],[\"Laugh-Out-Loud Jokes for Kids\",\"Rob Elliott\"],[\"Laugh-Out-Loud Jokes for Kids\",\"Rob Elliott\"],[\"Laugh-Out-Loud Jokes for Kids\",\"Rob Elliott\"],[\"Lean In: Women, Work, and the Will to Lead\",\"Sheryl Sandberg\"],[\"Leonardo da Vinci\",\"Walter Isaacson\"],[\"Lettering and Modern Calligraphy: A Beginner's Guide: Learn Hand Lettering and Brush Lettering\",\"Paper Peony Press\"],[\"Liberty and Tyranny: A Conservative Manifesto\",\"Mark R. Levin\"],[\"Life\",\"Keith Richards\"],[\"Little Bee: A Novel\",\"Chris Cleave\"],[\"Little Blue Truck\",\"Alice Schertle\"],[\"Little Fires Everywhere\",\"Celeste Ng\"],[\"Looking for Alaska\",\"John Green\"],[\"Love Wins: A Book About Heaven, Hell, and the Fate of Every Person Who Ever Lived\",\"Rob Bell\"],[\"Love You Forever\",\"Robert Munsch\"],[\"Love You Forever\",\"Robert Munsch\"],[\"Magnolia Table: A Collection of Recipes for Gathering\",\"Joanna Gaines\"],[\"Make It Ahead: A Barefoot Contessa Cookbook\",\"Ina Garten\"],[\"Make Your Bed: Little Things That Can Change Your Life...And Maybe the World\",\"Admiral William H. McRaven\"],[\"Mastering the Art of French Cooking, Vol. 2\",\"Julia Child\"],[\"Milk and Honey\",\"Rupi Kaur\"],[\"Milk and Honey\",\"Rupi Kaur\"],[\"Milk and Honey\",\"Rupi Kaur\"],[\"Milk and Vine: Inspirational Quotes From Classic Vines\",\"Adam Gasiewski\"],[\"Mindset: The New Psychology of Success\",\"Carol S. Dweck\"],[\"Mindset: The New Psychology of Success\",\"Carol S. Dweck\"],[\"Mindset: The New Psychology of Success\",\"Carol S. Dweck\"],[\"Mockingjay (The Hunger Games)\",\"Suzanne Collins\"],[\"Mockingjay (The Hunger Games)\",\"Suzanne Collins\"],[\"Mockingjay (The Hunger Games)\",\"Suzanne Collins\"],[\"National Geographic Kids Why?: Over 1,111 Answers to Everything\",\"Crispin Boyer\"],[\"National Geographic Little Kids First Big Book of Why (National Geographic Little Kids First Big Books)\",\"Amy Shields\"],[\"New Moon (The Twilight Saga)\",\"Stephenie Meyer\"],[\"Night (Night)\",\"Elie Wiesel\"],[\"No Easy Day: The Autobiography of a Navy Seal: The Firsthand Account of the Mission That Killed Osama Bin Laden\",\"Mark Owen\"],[\"Obama: An Intimate Portrait\",\"Pete Souza\"],[\"Oh, the Places You'll Go!\",\"Dr. Seuss\"],[\"Oh, the Places You'll Go!\",\"Dr. Seuss\"],[\"Oh, the Places You'll Go!\",\"Dr. Seuss\"],[\"Oh, the Places You'll Go!\",\"Dr. Seuss\"],[\"Oh, the Places You'll Go!\",\"Dr. Seuss\"],[\"Oh, the Places You'll Go!\",\"Dr. Seuss\"],[\"Oh, the Places You'll Go!\",\"Dr. Seuss\"],[\"Oh, the Places You'll Go!\",\"Dr. Seuss\"],[\"Old School (Diary of a Wimpy Kid #10)\",\"Jeff Kinney\"],[\"Olive Kitteridge\",\"Elizabeth Strout\"],[\"One Thousand Gifts: A Dare to Live Fully Right Where You Are\",\"Ann Voskamp\"],[\"One Thousand Gifts: A Dare to Live Fully Right Where You Are\",\"Ann Voskamp\"],[\"Option B: Facing Adversity, Building Resilience, and Finding Joy\",\"Sheryl Sandberg\"],[\"Origin: A Novel (Robert Langdon)\",\"Dan Brown\"],[\"Orphan Train\",\"Christina Baker Kline\"],[\"Outliers: The Story of Success\",\"Malcolm Gladwell\"],[\"Outliers: The Story of Success\",\"Malcolm Gladwell\"],[\"P is for Potty! (Sesame Street) (Lift-the-Flap)\",\"Naomi Kleinberg\"],[\"P is for Potty! (Sesame Street) (Lift-the-Flap)\",\"Naomi Kleinberg\"],[\"Percy Jackson and the Olympians Paperback Boxed Set (Books 1-3)\",\"Rick Riordan\"],[\"Player's Handbook (Dungeons & Dragons)\",\"Wizards RPG Team\"],[\"Player's Handbook (Dungeons & Dragons)\",\"Wizards RPG Team\"],[\"Player's Handbook (Dungeons & Dragons)\",\"Wizards RPG Team\"],[\"Pok\\u00e9mon Deluxe Essential Handbook: The Need-to-Know Stats and Facts on Over 700 Pok\\u00e9mon\",\"Scholastic\"],[\"Proof of Heaven: A Neurosurgeon's Journey into the Afterlife\",\"Eben Alexander\"],[\"Proof of Heaven: A Neurosurgeon's Journey into the Afterlife\",\"Eben Alexander\"],[\"Publication Manual of the American Psychological Association, 6th Edition\",\"American Psychological Association\"],[\"Publication Manual of the American Psychological Association, 6th Edition\",\"American Psychological Association\"],[\"Publication Manual of the American Psychological Association, 6th Edition\",\"American Psychological Association\"],[\"Publication Manual of the American Psychological Association, 6th Edition\",\"American Psychological Association\"],[\"Publication Manual of the American Psychological Association, 6th Edition\",\"American Psychological Association\"],[\"Publication Manual of the American Psychological Association, 6th Edition\",\"American Psychological Association\"],[\"Publication Manual of the American Psychological Association, 6th Edition\",\"American Psychological Association\"],[\"Publication Manual of the American Psychological Association, 6th Edition\",\"American Psychological Association\"],[\"Publication Manual of the American Psychological Association, 6th Edition\",\"American Psychological Association\"],[\"Publication Manual of the American Psychological Association, 6th Edition\",\"American Psychological Association\"],[\"Puppy Birthday to You! (Paw Patrol) (Little Golden Book)\",\"Golden Books\"],[\"Quiet: The Power of Introverts in a World That Can't Stop Talking\",\"Susan Cain\"],[\"Quiet: The Power of Introverts in a World That Can't Stop Talking\",\"Susan Cain\"],[\"Radical: Taking Back Your Faith from the American Dream\",\"David Platt\"],[\"Radical: Taking Back Your Faith from the American Dream\",\"David Platt\"],[\"Ready Player One: A Novel\",\"Ernest Cline\"],[\"Ready Player One: A Novel\",\"Ernest Cline\"],[\"Rush Revere and the Brave Pilgrims: Time-Travel Adventures with Exceptional Americans (1)\",\"Rush Limbaugh\"],[\"Rush Revere and the First Patriots: Time-Travel Adventures With Exceptional Americans (2)\",\"Rush Limbaugh\"],[\"Salt, Fat, Acid, Heat: Mastering the Elements of Good Cooking\",\"Samin Nosrat\"],[\"Salt, Fat, Acid, Heat: Mastering the Elements of Good Cooking\",\"Samin Nosrat\"],[\"Sarah's Key\",\"Tatiana de Rosnay\"],[\"School Zone - Big Preschool Workbook - Ages 4 and Up, Colors, Shapes, Numbers 1-10, Alphabet, Pre-Writing, Pre-Reading\\u2026\",\"School Zone\"],[\"School Zone - Big Preschool Workbook - Ages 4 and Up, Colors, Shapes, Numbers 1-10, Alphabet, Pre-Writing, Pre-Reading\\u2026\",\"School Zone\"],[\"Secret Garden: An Inky Treasure Hunt and Coloring Book (For Adults, mindfulness coloring)\",\"Johanna Basford\"],[\"Sh*t My Dad Says\",\"Justin Halpern\"],[\"Ship of Fools: How a Selfish Ruling Class Is Bringing America to the Brink of Revolution\",\"Tucker Carlson\"],[\"Shred: The Revolutionary Diet: 6 Weeks 4 Inches 2 Sizes\",\"Ian K. Smith M.D.\"],[\"Sookie Stackhouse\",\"Charlaine Harris\"],[\"Soul Healing Miracles: Ancient and New Sacred Wisdom, Knowledge, and Practical Techniques for Healing the Spiritual\\u2026\",\"Zhi Gang Sha\"],[\"Steve Jobs\",\"Walter Isaacson\"],[\"Steve Jobs\",\"Walter Isaacson\"],[\"Strange Planet (Strange Planet Series)\",\"Nathan W. Pyle\"],[\"StrengthsFinder 2.0\",\"Gallup\"],[\"StrengthsFinder 2.0\",\"Gallup\"],[\"StrengthsFinder 2.0\",\"Gallup\"],[\"StrengthsFinder 2.0\",\"Gallup\"],[\"StrengthsFinder 2.0\",\"Gallup\"],[\"StrengthsFinder 2.0\",\"Gallup\"],[\"StrengthsFinder 2.0\",\"Gallup\"],[\"StrengthsFinder 2.0\",\"Gallup\"],[\"StrengthsFinder 2.0\",\"Gallup\"],[\"Super Freakonomics: Global Cooling, Patriotic Prostitutes, and Why Suicide Bombers Should Buy Life Insurance\",\"Steven D. Levitt\"],[\"Switch: How to Change Things When Change Is Hard\",\"Chip Heath\"],[\"Sycamore Row (Jake Brigance)\",\"John Grisham\"],[\"Teach Like a Champion: 49 Techniques that Put Students on the Path to College\",\"Doug Lemov\"],[\"Teach Like a Champion: 49 Techniques that Put Students on the Path to College\",\"Doug Lemov\"],[\"The 17 Day Diet: A Doctor's Plan Designed for Rapid Results\",\"Mike Moreno\"],[\"The 4 Hour Body: An Uncommon Guide to Rapid Fat Loss, Incredible Sex and Becoming Superhuman\",\"Timothy Ferriss\"],[\"The 5 Love Languages: The Secret to Love That Lasts\",\"Gary Chapman\"],[\"The 5 Love Languages: The Secret to Love That Lasts\",\"Gary Chapman\"],[\"The 5 Love Languages: The Secret to Love That Lasts\",\"Gary Chapman\"],[\"The 5 Love Languages: The Secret to Love That Lasts\",\"Gary Chapman\"],[\"The 5 Love Languages: The Secret to Love That Lasts\",\"Gary Chapman\"],[\"The 5 Love Languages: The Secret to Love that Lasts\",\"Gary Chapman\"],[\"The 5 Love Languages: The Secret to Love that Lasts\",\"Gary Chapman\"],[\"The 5 Love Languages: The Secret to Love that Lasts\",\"Gary Chapman\"],[\"The 5 Love Languages: The Secret to Love that Lasts\",\"Gary Chapman\"],[\"The 5 Love Languages: The Secret to Love that Lasts\",\"Gary Chapman\"],[\"The 5000 Year Leap\",\"W. Cleon Skousen\"],[\"The 7 Habits of Highly Effective People: Powerful Lessons in Personal Change\",\"Stephen R. Covey\"],[\"The 7 Habits of Highly Effective People: Powerful Lessons in Personal Change\",\"Stephen R. Covey\"],[\"The 7 Habits of Highly Effective People: Powerful Lessons in Personal Change\",\"Stephen R. Covey\"],[\"The 7 Habits of Highly Effective People: Powerful Lessons in Personal Change\",\"Stephen R. Covey\"],[\"The 7 Habits of Highly Effective People: Powerful Lessons in Personal Change\",\"Stephen R. Covey\"],[\"The 7 Habits of Highly Effective People: Powerful Lessons in Personal Change\",\"Stephen R. Covey\"],[\"The 7 Habits of Highly Effective People: Powerful Lessons in Personal Change\",\"Stephen R. Covey\"],[\"The Alchemist\",\"Paulo Coelho\"],[\"The Amateur\",\"Edward Klein\"],[\"The Art of Racing in the Rain: A Novel\",\"Garth Stein\"],[\"The Art of Racing in the Rain: A Novel\",\"Garth Stein\"],[\"The Big Short: Inside the Doomsday Machine\",\"Michael Lewis\"],[\"The Blood of Olympus (The Heroes of Olympus (5))\",\"Rick Riordan\"],[\"The Blood Sugar Solution: The UltraHealthy Program for Losing Weight, Preventing Disease, and Feeling Great Now!\",\"Mark Hyman M.D.\"],[\"The Body Keeps the Score: Brain, Mind, and Body in the Healing of Trauma\",\"Bessel van der Kolk M.D.\"],[\"The Book of Basketball: The NBA According to The Sports Guy\",\"Bill Simmons\"],[\"The Book Thief\",\"Markus Zusak\"],[\"The Book Thief\",\"Markus Zusak\"],[\"The Book with No Pictures\",\"B. J. Novak\"],[\"The Book with No Pictures\",\"B. J. Novak\"],[\"The Boys in the Boat: Nine Americans and Their Epic Quest for Gold at the 1936 Berlin Olympics\",\"Daniel James Brown\"],[\"The Boys in the Boat: Nine Americans and Their Epic Quest for Gold at the 1936 Berlin Olympics\",\"Daniel James Brown\"],[\"The Casual Vacancy\",\"J.K. Rowling\"],[\"The China Study: The Most Comprehensive Study of Nutrition Ever Conducted And the Startling Implications for Diet\\u2026\",\"Thomas Campbell\"],[\"The Complete Ketogenic Diet for Beginners: Your Essential Guide to Living the Keto Lifestyle\",\"Amy Ramos\"],[\"The Complete Ketogenic Diet for Beginners: Your Essential Guide to Living the Keto Lifestyle\",\"Amy Ramos\"],[\"The Confession: A Novel\",\"John Grisham\"],[\"The Constitution of the United States\",\"Delegates of the Constitutional\\u0085\"],[\"The Daily Show with Jon Stewart Presents Earth (The Book): A Visitor's Guide to the Human Race\",\"Jon Stewart\"],[\"The Day the Crayons Quit\",\"Drew Daywalt\"],[\"The Day the Crayons Quit\",\"Drew Daywalt\"],[\"The Day the Crayons Quit\",\"Drew Daywalt\"],[\"The Dukan Diet: 2 Steps to Lose the Weight, 2 Steps to Keep It Off Forever\",\"Pierre Dukan\"],[\"The Elegance of the Hedgehog\",\"Muriel Barbery\"],[\"The Fault in Our Stars\",\"John Green\"],[\"The Fault in Our Stars\",\"John Green\"],[\"The Fault in Our Stars\",\"John Green\"],[\"The Fault in Our Stars\",\"John Green\"],[\"The Five Dysfunctions of a Team: A Leadership Fable\",\"Patrick Lencioni\"],[\"The Five Dysfunctions of a Team: A Leadership Fable\",\"Patrick Lencioni\"],[\"The Five Dysfunctions of a Team: A Leadership Fable\",\"Patrick Lencioni\"],[\"The Five Dysfunctions of a Team: A Leadership Fable\",\"Patrick Lencioni\"],[\"The Five Dysfunctions of a Team: A Leadership Fable\",\"Patrick Lencioni\"],[\"The Five Love Languages: How to Express Heartfelt Commitment to Your Mate\",\"Gary Chapman\"],[\"The Four Agreements: A Practical Guide to Personal Freedom (A Toltec Wisdom Book)\",\"Don Miguel Ruiz\"],[\"The Four Agreements: A Practical Guide to Personal Freedom (A Toltec Wisdom Book)\",\"Don Miguel Ruiz\"],[\"The Four Agreements: A Practical Guide to Personal Freedom (A Toltec Wisdom Book)\",\"Don Miguel Ruiz\"],[\"The Four Agreements: A Practical Guide to Personal Freedom (A Toltec Wisdom Book)\",\"Don Miguel Ruiz\"],[\"The Four Agreements: A Practical Guide to Personal Freedom (A Toltec Wisdom Book)\",\"Don Miguel Ruiz\"],[\"The Four Agreements: A Practical Guide to Personal Freedom (A Toltec Wisdom Book)\",\"Don Miguel Ruiz\"],[\"The Getaway\",\"Jeff Kinney\"],[\"The Girl on the Train\",\"Paula Hawkins\"],[\"The Girl on the Train\",\"Paula Hawkins\"],[\"The Girl Who Kicked the Hornet's Nest (Millennium Trilogy)\",\"Stieg Larsson\"],[\"The Girl Who Kicked the Hornet's Nest (Millennium Trilogy)\",\"Stieg Larsson\"],[\"The Girl Who Played with Fire (Millennium Series)\",\"Stieg Larsson\"],[\"The Girl Who Played with Fire (Millennium)\",\"Stieg Larsson\"],[\"The Girl with the Dragon Tattoo (Millennium Series)\",\"Stieg Larsson\"],[\"The Girl with the Dragon Tattoo (Millennium Series)\",\"Stieg Larsson\"],[\"The Going-To-Bed Book\",\"Sandra Boynton\"],[\"The Going-To-Bed Book\",\"Sandra Boynton\"],[\"The Goldfinch: A Novel (Pulitzer Prize for Fiction)\",\"Donna Tartt\"],[\"The Goldfinch: A Novel (Pulitzer Prize for Fiction)\",\"Donna Tartt\"],[\"The Great Gatsby\",\"F. Scott Fitzgerald\"],[\"The Great Gatsby\",\"F. Scott Fitzgerald\"],[\"The Great Gatsby\",\"F. Scott Fitzgerald\"],[\"The Guardians: A Novel\",\"John Grisham\"],[\"The Guernsey Literary and Potato Peel Pie Society\",\"Mary Ann Shaffer\"],[\"The Handmaid's Tale\",\"Margaret Atwood\"],[\"The Harbinger: The Ancient Mystery that Holds the Secret of America's Future\",\"Jonathan Cahn\"],[\"The Hate U Give\",\"Angie Thomas\"],[\"The Help\",\"Kathryn Stockett\"],[\"The Help\",\"Kathryn Stockett\"],[\"The Help\",\"Kathryn Stockett\"],[\"The Help\",\"Kathryn Stockett\"],[\"The House of Hades (Heroes of Olympus, Book 4)\",\"Rick Riordan\"],[\"The Hunger Games\",\"Suzanne Collins\"],[\"The Hunger Games (Book 1)\",\"Suzanne Collins\"],[\"The Hunger Games (Book 1)\",\"Suzanne Collins\"],[\"The Hunger Games Trilogy Boxed Set (1)\",\"Suzanne Collins\"],[\"The Hunger Games Trilogy Boxed Set (1)\",\"Suzanne Collins\"],[\"The Immortal Life of Henrietta Lacks\",\"Rebecca Skloot\"],[\"The Immortal Life of Henrietta Lacks\",\"Rebecca Skloot\"],[\"The Immortal Life of Henrietta Lacks\",\"Rebecca Skloot\"],[\"The Instant Pot Electric Pressure Cooker Cookbook: Easy Recipes for Fast & Healthy Meals\",\"Laurel Randolph\"],[\"The Instant Pot Electric Pressure Cooker Cookbook: Easy Recipes for Fast & Healthy Meals\",\"Laurel Randolph\"],[\"The Last Lecture\",\"Randy Pausch\"],[\"The Last Olympian (Percy Jackson and the Olympians, Book 5)\",\"Rick Riordan\"],[\"The Last Olympian (Percy Jackson and the Olympians, Book 5)\",\"Rick Riordan\"],[\"The Legend of Zelda: Hyrule Historia\",\"Patrick Thorpe\"],[\"The Lego Ideas Book: Unlock Your Imagination\",\"Daniel Lipkowitz\"],[\"The Lego Ideas Book: Unlock Your Imagination\",\"Daniel Lipkowitz\"],[\"The Life-Changing Magic of Tidying Up: The Japanese Art of Decluttering and Organizing\",\"Marie Kond\\u014d\"],[\"The Life-Changing Magic of Tidying Up: The Japanese Art of Decluttering and Organizing\",\"Marie Kond\\u014d\"],[\"The Life-Changing Magic of Tidying Up: The Japanese Art of Decluttering and Organizing\",\"Marie Kond\\u014d\"],[\"The Life-Changing Magic of Tidying Up: The Japanese Art of Decluttering and Organizing\",\"Marie Kond\\u014d\"],[\"The Litigators\",\"John Grisham\"],[\"The Lost Hero (Heroes of Olympus, Book 1)\",\"Rick Riordan\"],[\"The Lost Symbol\",\"Dan Brown\"],[\"The Love Dare\",\"Stephen Kendrick\"],[\"The Magnolia Story\",\"Chip Gaines\"],[\"The Mark of Athena (Heroes of Olympus, Book 3)\",\"Rick Riordan\"],[\"The Martian\",\"Andy Weir\"],[\"The Maze Runner (Book 1)\",\"James Dashner\"],[\"The Meltdown (Diary of a Wimpy Kid Book 13)\",\"Jeff Kinney\"],[\"The Mueller Report\",\"The Washington Post\"],[\"The Nightingale: A Novel\",\"Kristin Hannah\"],[\"The Nightingale: A Novel\",\"Kristin Hannah\"],[\"The Official SAT Study Guide\",\"The College Board\"],[\"The Official SAT Study Guide\",\"The College Board\"],[\"The Official SAT Study Guide\",\"The College Board\"],[\"The Official SAT Study Guide\",\"The College Board\"],[\"The Official SAT Study Guide\",\"The College Board\"],[\"The Official SAT Study Guide, 2016 Edition (Official Study Guide for the New Sat)\",\"The College Board\"],[\"The Paris Wife: A Novel\",\"Paula McLain\"],[\"The Pioneer Woman Cooks: A Year of Holidays: 140 Step-by-Step Recipes for Simple, Scrumptious Celebrations\",\"Ree Drummond\"],[\"The Pioneer Woman Cooks: Dinnertime - Comfort Classics, Freezer Food, 16-minute Meals, and Other Delicious Ways to Solve\\u2026\",\"Ree Drummond\"],[\"The Pioneer Woman Cooks: Food from My Frontier\",\"Ree Drummond\"],[\"The Plant Paradox Cookbook: 100 Delicious Recipes to Help You Lose Weight, Heal Your Gut, and Live Lectin-Free\",\"Dr. Steven R Gundry MD\"],[\"The Plant Paradox: The Hidden Dangers in \\\"Healthy\\\" Foods That Cause Disease and Weight Gain\",\"Dr. Steven R Gundry MD\"],[\"The Pout-Pout Fish\",\"Deborah Diesen\"],[\"The Pout-Pout Fish\",\"Deborah Diesen\"],[\"The Power of Habit: Why We Do What We Do in Life and Business\",\"Charles Duhigg\"],[\"The President Is Missing: A Novel\",\"James Patterson\"],[\"The Racketeer\",\"John Grisham\"],[\"The Red Pyramid (The Kane Chronicles, Book 1)\",\"Rick Riordan\"],[\"The Road to Serfdom: Text and Documents--The Definitive Edition (The Collected Works of F. A. Hayek, Volume 2)\",\"F. A. Hayek\"],[\"The Serpent's Shadow (The Kane Chronicles, Book 3)\",\"Rick Riordan\"],[\"The Shack: Where Tragedy Confronts Eternity\",\"William P. Young\"],[\"The Shack: Where Tragedy Confronts Eternity\",\"William P. Young\"],[\"The Short Second Life of Bree Tanner: An Eclipse Novella (The Twilight Saga)\",\"Stephenie Meyer\"],[\"The Silent Patient\",\"Alex Michaelides\"],[\"The Son of Neptune (Heroes of Olympus, Book 2)\",\"Rick Riordan\"],[\"The Subtle Art of Not Giving a F*ck: A Counterintuitive Approach to Living a Good Life\",\"Mark Manson\"],[\"The Subtle Art of Not Giving a F*ck: A Counterintuitive Approach to Living a Good Life\",\"Mark Manson\"],[\"The Subtle Art of Not Giving a F*ck: A Counterintuitive Approach to Living a Good Life\",\"Mark Manson\"],[\"The Sun and Her Flowers\",\"Rupi Kaur\"],[\"The Third Wheel (Diary of a Wimpy Kid, Book 7)\",\"Jeff Kinney\"],[\"The Throne of Fire (The Kane Chronicles, Book 2)\",\"Rick Riordan\"],[\"The Time Traveler's Wife\",\"Audrey Niffenegger\"],[\"The Tipping Point: How Little Things Can Make a Big Difference\",\"Malcolm Gladwell\"],[\"The Total Money Makeover: Classic Edition: A Proven Plan for Financial Fitness\",\"Dave Ramsey\"],[\"The Twilight Saga Collection\",\"Stephenie Meyer\"],[\"The Ugly Truth (Diary of a Wimpy Kid, Book 5)\",\"Jeff Kinney\"],[\"The Unofficial Harry Potter Cookbook: From Cauldron Cakes to Knickerbocker Glory--More Than 150 Magical Recipes for\\u2026\",\"Dinah Bucholz\"],[\"The Very Hungry Caterpillar\",\"Eric Carle\"],[\"The Very Hungry Caterpillar\",\"Eric Carle\"],[\"The Very Hungry Caterpillar\",\"Eric Carle\"],[\"The Very Hungry Caterpillar\",\"Eric Carle\"],[\"The Very Hungry Caterpillar\",\"Eric Carle\"],[\"The Very Hungry Caterpillar\",\"Eric Carle\"],[\"The Very Hungry Caterpillar\",\"Eric Carle\"],[\"The Whole30: The 30-Day Guide to Total Health and Food Freedom\",\"Melissa Hartwig Urban\"],[\"The Whole30: The 30-Day Guide to Total Health and Food Freedom\",\"Melissa Hartwig Urban\"],[\"The Whole30: The 30-Day Guide to Total Health and Food Freedom\",\"Melissa Hartwig Urban\"],[\"The Wonderful Things You Will Be\",\"Emily Winfield Martin\"],[\"The Wonderful Things You Will Be\",\"Emily Winfield Martin\"],[\"The Wonderful Things You Will Be\",\"Emily Winfield Martin\"],[\"The Wonderful Things You Will Be\",\"Emily Winfield Martin\"],[\"The Wonky Donkey\",\"Craig Smith\"],[\"The Wonky Donkey\",\"Craig Smith\"],[\"The Wright Brothers\",\"David McCullough\"],[\"Things That Matter: Three Decades of Passions, Pastimes and Politics [Deckled Edge]\",\"Charles Krauthammer\"],[\"Thinking, Fast and Slow\",\"Daniel Kahneman\"],[\"Thinking, Fast and Slow\",\"Daniel Kahneman\"],[\"Thirteen Reasons Why\",\"Jay Asher\"],[\"Thomas Jefferson: The Art of Power\",\"Jon Meacham\"],[\"Three Cups of Tea: One Man's Mission to Promote Peace - One School at a Time\",\"Greg Mortenson\"],[\"Three Cups of Tea: One Man's Mission to Promote Peace - One School at a Time\",\"Greg Mortenson\"],[\"Thug Kitchen: The Official Cookbook: Eat Like You Give a F*ck (Thug Kitchen Cookbooks)\",\"Thug Kitchen\"],[\"Thug Kitchen: The Official Cookbook: Eat Like You Give a F*ck (Thug Kitchen Cookbooks)\",\"Thug Kitchen\"],[\"Thug Kitchen: The Official Cookbook: Eat Like You Give a F*ck (Thug Kitchen Cookbooks)\",\"Thug Kitchen\"],[\"Thug Kitchen: The Official Cookbook: Eat Like You Give a F*ck (Thug Kitchen Cookbooks)\",\"Thug Kitchen\"],[\"Tina Fey: Bossypants\",\"Tina Fey\"],[\"To Kill a Mockingbird\",\"Harper Lee\"],[\"To Kill a Mockingbird\",\"Harper Lee\"],[\"To Kill a Mockingbird\",\"Harper Lee\"],[\"To Kill a Mockingbird\",\"Harper Lee\"],[\"To Kill a Mockingbird\",\"Harper Lee\"],[\"Tools of Titans: The Tactics, Routines, and Habits of Billionaires, Icons, and World-Class Performers\",\"Timothy Ferriss\"],[\"Towers of Midnight (Wheel of Time, Book Thirteen)\",\"Robert Jordan\"],[\"True Compass: A Memoir\",\"Edward M. Kennedy\"],[\"Twilight (The Twilight Saga, Book 1)\",\"Stephenie Meyer\"],[\"Ultimate Sticker Book: Frozen: More Than 60 Reusable Full-Color Stickers\",\"DK\"],[\"Unbroken: A World War II Story of Survival, Resilience, and Redemption\",\"Laura Hillenbrand\"],[\"Unbroken: A World War II Story of Survival, Resilience, and Redemption\",\"Laura Hillenbrand\"],[\"Unbroken: A World War II Story of Survival, Resilience, and Redemption\",\"Laura Hillenbrand\"],[\"Unbroken: A World War II Story of Survival, Resilience, and Redemption\",\"Laura Hillenbrand\"],[\"Unbroken: A World War II Story of Survival, Resilience, and Redemption\",\"Laura Hillenbrand\"],[\"Under the Dome: A Novel\",\"Stephen King\"],[\"Unfreedom of the Press\",\"Mark R. Levin\"],[\"Unicorn Coloring Book: For Kids Ages 4-8 (US Edition) (Silly Bear Coloring Books)\",\"Silly Bear\"],[\"Uninvited: Living Loved When You Feel Less Than, Left Out, and Lonely\",\"Lysa TerKeurst\"],[\"Watchmen\",\"Alan Moore\"],[\"Water for Elephants: A Novel\",\"Sara Gruen\"],[\"What Happened\",\"Hillary Rodham Clinton\"],[\"What If?: Serious Scientific Answers to Absurd Hypothetical Questions\",\"Randall Munroe\"],[\"What Pet Should I Get? (Classic Seuss)\",\"Dr. Seuss\"],[\"What Should Danny Do? (The Power to Choose Series)\",\"Adir Levy\"],[\"What to Expect When You're Expecting\",\"Heidi Murkoff\"],[\"Wheat Belly: Lose the Wheat, Lose the Weight, and Find Your Path Back to Health\",\"William Davis\"],[\"Wheat Belly: Lose the Wheat, Lose the Weight, and Find Your Path Back to Health\",\"William Davis\"],[\"When Breath Becomes Air\",\"Paul Kalanithi\"],[\"Where the Crawdads Sing\",\"Delia Owens\"],[\"Where the Wild Things Are\",\"Maurice Sendak\"],[\"Whose Boat Is This Boat?: Comments That Don't Help in the Aftermath of a Hurricane\",\"The Staff of The Late Show with\\u0085\"],[\"Wild: From Lost to Found on the Pacific Crest Trail\",\"Cheryl Strayed\"],[\"Winter of the World: Book Two of the Century Trilogy\",\"Ken Follett\"],[\"Women Food and God: An Unexpected Path to Almost Everything\",\"Geneen Roth\"],[\"Wonder\",\"R. J. Palacio\"],[\"Wonder\",\"R. J. Palacio\"],[\"Wonder\",\"R. J. Palacio\"],[\"Wonder\",\"R. J. Palacio\"],[\"Wonder\",\"R. J. Palacio\"],[\"Wrecking Ball (Diary of a Wimpy Kid Book 14)\",\"Jeff Kinney\"],[\"You Are a Badass: How to Stop Doubting Your Greatness and Start Living an Awesome Life\",\"Jen Sincero\"],[\"You Are a Badass: How to Stop Doubting Your Greatness and Start Living an Awesome Life\",\"Jen Sincero\"],[\"You Are a Badass: How to Stop Doubting Your Greatness and Start Living an Awesome Life\",\"Jen Sincero\"],[\"You Are a Badass: How to Stop Doubting Your Greatness and Start Living an Awesome Life\",\"Jen Sincero\"]],\"hovertemplate\":\"Year=%{x}<br>Price=%{y}<br>Name=%{customdata[0]}<br>Author=%{customdata[1]}<extra></extra>\",\"legendgroup\":\"\",\"marker\":{\"color\":\"#636efa\",\"symbol\":\"circle\"},\"mode\":\"markers\",\"name\":\"\",\"orientation\":\"v\",\"showlegend\":false,\"type\":\"scatter\",\"x\":[2016,2011,2018,2017,2019,2011,2014,2017,2018,2016,2017,2010,2011,2018,2009,2016,2015,2015,2015,2016,2014,2015,2013,2015,2013,2009,2017,2010,2015,2015,2012,2010,2018,2019,2015,2015,2016,2016,2009,2010,2017,2019,2011,2016,2019,2014,2010,2011,2012,2016,2009,2010,2011,2018,2015,2015,2010,2011,2013,2013,2009,2010,2011,2015,2016,2017,2018,2010,2010,2013,2014,2013,2009,2014,2019,2013,2014,2014,2009,2013,2009,2018,2017,2018,2019,2019,2019,2018,2016,2015,2010,2009,2009,2011,2012,2009,2009,2018,2019,2015,2016,2018,2016,2018,2012,2012,2012,2013,2012,2018,2014,2015,2016,2017,2018,2010,2014,2010,2011,2012,2013,2010,2013,2015,2016,2017,2018,2019,2019,2018,2019,2009,2015,2011,2009,2012,2013,2014,2019,2009,2010,2011,2012,2017,2018,2019,2012,2013,2014,2015,2019,2016,2013,2016,2016,2019,2017,2016,2015,2016,2009,2011,2012,2016,2017,2018,2014,2015,2016,2017,2018,2019,2013,2014,2015,2013,2019,2009,2017,2019,2014,2011,2013,2011,2019,2018,2019,2011,2012,2013,2014,2015,2016,2014,2013,2017,2013,2012,2011,2012,2014,2015,2016,2018,2013,2014,2015,2018,2013,2014,2015,2016,2017,2013,2017,2018,2009,2010,2010,2014,2018,2014,2011,2014,2015,2018,2014,2017,2009,2016,2017,2018,2017,2014,2015,2016,2010,2011,2012,2019,2019,2009,2016,2012,2017,2012,2013,2014,2015,2016,2017,2018,2019,2015,2009,2011,2012,2017,2017,2014,2009,2010,2018,2019,2010,2017,2018,2019,2016,2012,2013,2009,2010,2011,2012,2013,2014,2015,2016,2017,2018,2017,2012,2013,2010,2011,2017,2018,2013,2014,2018,2019,2010,2018,2019,2015,2010,2018,2013,2009,2013,2011,2012,2019,2009,2010,2011,2012,2013,2014,2015,2016,2017,2009,2010,2013,2010,2011,2011,2011,2010,2011,2012,2013,2014,2015,2016,2017,2018,2019,2009,2009,2011,2012,2013,2015,2016,2017,2014,2012,2010,2011,2010,2014,2012,2019,2009,2013,2014,2014,2015,2014,2015,2012,2011,2018,2019,2010,2016,2010,2013,2014,2015,2011,2009,2012,2013,2014,2014,2009,2010,2011,2012,2013,2009,2013,2015,2016,2017,2018,2019,2017,2015,2016,2010,2011,2010,2009,2009,2010,2016,2017,2013,2014,2012,2013,2014,2019,2009,2017,2012,2018,2009,2010,2011,2011,2013,2010,2011,2012,2011,2012,2010,2011,2012,2017,2018,2009,2009,2010,2013,2011,2012,2015,2016,2017,2019,2011,2010,2009,2009,2016,2012,2015,2014,2018,2019,2015,2016,2010,2011,2012,2013,2014,2016,2011,2013,2015,2012,2018,2018,2017,2018,2012,2018,2012,2010,2010,2012,2009,2017,2010,2019,2011,2017,2018,2019,2017,2012,2011,2009,2009,2019,2009,2010,2019,2013,2014,2015,2016,2017,2018,2019,2015,2016,2017,2016,2017,2018,2019,2018,2019,2015,2013,2011,2012,2017,2012,2009,2010,2014,2015,2016,2017,2011,2013,2014,2015,2016,2019,2017,2010,2009,2009,2014,2010,2011,2012,2014,2014,2009,2019,2019,2016,2009,2011,2017,2014,2015,2019,2011,2012,2013,2016,2019,2009,2018,2012,2012,2010,2013,2014,2015,2016,2017,2019,2016,2017,2018,2019],\"xaxis\":\"x\",\"y\":[8,22,15,6,12,11,30,15,3,8,8,2,32,5,17,4,6,6,8,13,14,14,13,9,13,5,9,14,5,11,24,21,11,11,15,13,13,18,13,8,5,5,0,4,18,28,11,11,11,16,14,14,14,8,4,5,11,11,10,13,4,8,4,5,5,5,5,17,15,105,105,0,15,22,5,15,15,6,6,13,12,6,8,4,4,8,8,6,20,5,16,1,14,9,9,7,18,15,15,9,8,8,15,2,7,11,14,14,32,6,4,4,4,4,4,9,0,9,5,5,5,20,16,4,4,4,4,4,12,12,12,11,19,9,6,10,10,9,6,14,14,14,14,5,5,5,7,7,10,14,7,54,11,30,12,18,30,22,9,52,4,10,10,14,14,22,11,11,11,11,11,16,15,15,17,17,7,7,4,4,9,21,14,20,13,13,12,8,8,8,8,8,8,0,12,17,12,25,10,10,6,5,6,8,4,4,4,13,4,4,4,4,4,13,21,6,15,18,10,0,12,7,13,5,5,16,20,11,27,8,8,8,6,10,10,10,8,8,8,16,11,10,9,14,22,8,8,8,8,8,8,8,8,7,12,13,13,9,13,11,20,20,5,5,2,27,27,27,9,10,10,46,46,46,46,46,46,46,46,46,46,4,20,7,9,9,12,12,12,12,20,20,10,6,6,9,11,16,6,25,17,20,20,6,17,17,17,17,17,17,17,17,17,18,13,18,20,20,22,21,28,28,28,28,28,8,8,8,8,8,12,24,24,24,24,16,16,16,39,9,10,10,17,11,14,12,53,6,6,8,8,12,12,12,21,6,6,13,0,11,9,9,9,15,11,13,13,7,13,6,6,6,6,6,9,6,6,6,6,6,6,0,18,7,14,14,9,16,2,2,5,5,20,20,7,7,7,14,10,7,13,11,6,6,8,7,14,14,8,8,30,30,13,9,9,7,7,9,7,7,20,13,13,11,11,11,11,18,14,19,13,5,10,9,8,8,12,11,11,40,40,40,40,40,36,16,17,14,21,18,17,5,5,21,18,18,12,14,12,8,8,0,14,10,15,15,15,9,7,10,6,9,10,82,12,10,5,5,5,5,5,5,5,16,16,16,10,10,10,10,4,4,16,15,19,19,9,23,11,11,23,23,23,23,12,0,0,0,0,7,21,21,15,9,5,16,16,16,13,16,20,11,4,9,42,12,18,17,14,13,9,6,6,14,15,13,12,18,15,11,9,9,9,9,9,8,8,8,8,8],\"yaxis\":\"y\"}],                        {\"legend\":{\"tracegroupgap\":0},\"template\":{\"data\":{\"bar\":[{\"error_x\":{\"color\":\"#2a3f5f\"},\"error_y\":{\"color\":\"#2a3f5f\"},\"marker\":{\"line\":{\"color\":\"#E5ECF6\",\"width\":0.5},\"pattern\":{\"fillmode\":\"overlay\",\"size\":10,\"solidity\":0.2}},\"type\":\"bar\"}],\"barpolar\":[{\"marker\":{\"line\":{\"color\":\"#E5ECF6\",\"width\":0.5},\"pattern\":{\"fillmode\":\"overlay\",\"size\":10,\"solidity\":0.2}},\"type\":\"barpolar\"}],\"carpet\":[{\"aaxis\":{\"endlinecolor\":\"#2a3f5f\",\"gridcolor\":\"white\",\"linecolor\":\"white\",\"minorgridcolor\":\"white\",\"startlinecolor\":\"#2a3f5f\"},\"baxis\":{\"endlinecolor\":\"#2a3f5f\",\"gridcolor\":\"white\",\"linecolor\":\"white\",\"minorgridcolor\":\"white\",\"startlinecolor\":\"#2a3f5f\"},\"type\":\"carpet\"}],\"choropleth\":[{\"colorbar\":{\"outlinewidth\":0,\"ticks\":\"\"},\"type\":\"choropleth\"}],\"contour\":[{\"colorbar\":{\"outlinewidth\":0,\"ticks\":\"\"},\"colorscale\":[[0.0,\"#0d0887\"],[0.1111111111111111,\"#46039f\"],[0.2222222222222222,\"#7201a8\"],[0.3333333333333333,\"#9c179e\"],[0.4444444444444444,\"#bd3786\"],[0.5555555555555556,\"#d8576b\"],[0.6666666666666666,\"#ed7953\"],[0.7777777777777778,\"#fb9f3a\"],[0.8888888888888888,\"#fdca26\"],[1.0,\"#f0f921\"]],\"type\":\"contour\"}],\"contourcarpet\":[{\"colorbar\":{\"outlinewidth\":0,\"ticks\":\"\"},\"type\":\"contourcarpet\"}],\"heatmap\":[{\"colorbar\":{\"outlinewidth\":0,\"ticks\":\"\"},\"colorscale\":[[0.0,\"#0d0887\"],[0.1111111111111111,\"#46039f\"],[0.2222222222222222,\"#7201a8\"],[0.3333333333333333,\"#9c179e\"],[0.4444444444444444,\"#bd3786\"],[0.5555555555555556,\"#d8576b\"],[0.6666666666666666,\"#ed7953\"],[0.7777777777777778,\"#fb9f3a\"],[0.8888888888888888,\"#fdca26\"],[1.0,\"#f0f921\"]],\"type\":\"heatmap\"}],\"heatmapgl\":[{\"colorbar\":{\"outlinewidth\":0,\"ticks\":\"\"},\"colorscale\":[[0.0,\"#0d0887\"],[0.1111111111111111,\"#46039f\"],[0.2222222222222222,\"#7201a8\"],[0.3333333333333333,\"#9c179e\"],[0.4444444444444444,\"#bd3786\"],[0.5555555555555556,\"#d8576b\"],[0.6666666666666666,\"#ed7953\"],[0.7777777777777778,\"#fb9f3a\"],[0.8888888888888888,\"#fdca26\"],[1.0,\"#f0f921\"]],\"type\":\"heatmapgl\"}],\"histogram\":[{\"marker\":{\"pattern\":{\"fillmode\":\"overlay\",\"size\":10,\"solidity\":0.2}},\"type\":\"histogram\"}],\"histogram2d\":[{\"colorbar\":{\"outlinewidth\":0,\"ticks\":\"\"},\"colorscale\":[[0.0,\"#0d0887\"],[0.1111111111111111,\"#46039f\"],[0.2222222222222222,\"#7201a8\"],[0.3333333333333333,\"#9c179e\"],[0.4444444444444444,\"#bd3786\"],[0.5555555555555556,\"#d8576b\"],[0.6666666666666666,\"#ed7953\"],[0.7777777777777778,\"#fb9f3a\"],[0.8888888888888888,\"#fdca26\"],[1.0,\"#f0f921\"]],\"type\":\"histogram2d\"}],\"histogram2dcontour\":[{\"colorbar\":{\"outlinewidth\":0,\"ticks\":\"\"},\"colorscale\":[[0.0,\"#0d0887\"],[0.1111111111111111,\"#46039f\"],[0.2222222222222222,\"#7201a8\"],[0.3333333333333333,\"#9c179e\"],[0.4444444444444444,\"#bd3786\"],[0.5555555555555556,\"#d8576b\"],[0.6666666666666666,\"#ed7953\"],[0.7777777777777778,\"#fb9f3a\"],[0.8888888888888888,\"#fdca26\"],[1.0,\"#f0f921\"]],\"type\":\"histogram2dcontour\"}],\"mesh3d\":[{\"colorbar\":{\"outlinewidth\":0,\"ticks\":\"\"},\"type\":\"mesh3d\"}],\"parcoords\":[{\"line\":{\"colorbar\":{\"outlinewidth\":0,\"ticks\":\"\"}},\"type\":\"parcoords\"}],\"pie\":[{\"automargin\":true,\"type\":\"pie\"}],\"scatter\":[{\"marker\":{\"colorbar\":{\"outlinewidth\":0,\"ticks\":\"\"}},\"type\":\"scatter\"}],\"scatter3d\":[{\"line\":{\"colorbar\":{\"outlinewidth\":0,\"ticks\":\"\"}},\"marker\":{\"colorbar\":{\"outlinewidth\":0,\"ticks\":\"\"}},\"type\":\"scatter3d\"}],\"scattercarpet\":[{\"marker\":{\"colorbar\":{\"outlinewidth\":0,\"ticks\":\"\"}},\"type\":\"scattercarpet\"}],\"scattergeo\":[{\"marker\":{\"colorbar\":{\"outlinewidth\":0,\"ticks\":\"\"}},\"type\":\"scattergeo\"}],\"scattergl\":[{\"marker\":{\"colorbar\":{\"outlinewidth\":0,\"ticks\":\"\"}},\"type\":\"scattergl\"}],\"scattermapbox\":[{\"marker\":{\"colorbar\":{\"outlinewidth\":0,\"ticks\":\"\"}},\"type\":\"scattermapbox\"}],\"scatterpolar\":[{\"marker\":{\"colorbar\":{\"outlinewidth\":0,\"ticks\":\"\"}},\"type\":\"scatterpolar\"}],\"scatterpolargl\":[{\"marker\":{\"colorbar\":{\"outlinewidth\":0,\"ticks\":\"\"}},\"type\":\"scatterpolargl\"}],\"scatterternary\":[{\"marker\":{\"colorbar\":{\"outlinewidth\":0,\"ticks\":\"\"}},\"type\":\"scatterternary\"}],\"surface\":[{\"colorbar\":{\"outlinewidth\":0,\"ticks\":\"\"},\"colorscale\":[[0.0,\"#0d0887\"],[0.1111111111111111,\"#46039f\"],[0.2222222222222222,\"#7201a8\"],[0.3333333333333333,\"#9c179e\"],[0.4444444444444444,\"#bd3786\"],[0.5555555555555556,\"#d8576b\"],[0.6666666666666666,\"#ed7953\"],[0.7777777777777778,\"#fb9f3a\"],[0.8888888888888888,\"#fdca26\"],[1.0,\"#f0f921\"]],\"type\":\"surface\"}],\"table\":[{\"cells\":{\"fill\":{\"color\":\"#EBF0F8\"},\"line\":{\"color\":\"white\"}},\"header\":{\"fill\":{\"color\":\"#C8D4E3\"},\"line\":{\"color\":\"white\"}},\"type\":\"table\"}]},\"layout\":{\"annotationdefaults\":{\"arrowcolor\":\"#2a3f5f\",\"arrowhead\":0,\"arrowwidth\":1},\"autotypenumbers\":\"strict\",\"coloraxis\":{\"colorbar\":{\"outlinewidth\":0,\"ticks\":\"\"}},\"colorscale\":{\"diverging\":[[0,\"#8e0152\"],[0.1,\"#c51b7d\"],[0.2,\"#de77ae\"],[0.3,\"#f1b6da\"],[0.4,\"#fde0ef\"],[0.5,\"#f7f7f7\"],[0.6,\"#e6f5d0\"],[0.7,\"#b8e186\"],[0.8,\"#7fbc41\"],[0.9,\"#4d9221\"],[1,\"#276419\"]],\"sequential\":[[0.0,\"#0d0887\"],[0.1111111111111111,\"#46039f\"],[0.2222222222222222,\"#7201a8\"],[0.3333333333333333,\"#9c179e\"],[0.4444444444444444,\"#bd3786\"],[0.5555555555555556,\"#d8576b\"],[0.6666666666666666,\"#ed7953\"],[0.7777777777777778,\"#fb9f3a\"],[0.8888888888888888,\"#fdca26\"],[1.0,\"#f0f921\"]],\"sequentialminus\":[[0.0,\"#0d0887\"],[0.1111111111111111,\"#46039f\"],[0.2222222222222222,\"#7201a8\"],[0.3333333333333333,\"#9c179e\"],[0.4444444444444444,\"#bd3786\"],[0.5555555555555556,\"#d8576b\"],[0.6666666666666666,\"#ed7953\"],[0.7777777777777778,\"#fb9f3a\"],[0.8888888888888888,\"#fdca26\"],[1.0,\"#f0f921\"]]},\"colorway\":[\"#636efa\",\"#EF553B\",\"#00cc96\",\"#ab63fa\",\"#FFA15A\",\"#19d3f3\",\"#FF6692\",\"#B6E880\",\"#FF97FF\",\"#FECB52\"],\"font\":{\"color\":\"#2a3f5f\"},\"geo\":{\"bgcolor\":\"white\",\"lakecolor\":\"white\",\"landcolor\":\"#E5ECF6\",\"showlakes\":true,\"showland\":true,\"subunitcolor\":\"white\"},\"hoverlabel\":{\"align\":\"left\"},\"hovermode\":\"closest\",\"mapbox\":{\"style\":\"light\"},\"paper_bgcolor\":\"white\",\"plot_bgcolor\":\"#E5ECF6\",\"polar\":{\"angularaxis\":{\"gridcolor\":\"white\",\"linecolor\":\"white\",\"ticks\":\"\"},\"bgcolor\":\"#E5ECF6\",\"radialaxis\":{\"gridcolor\":\"white\",\"linecolor\":\"white\",\"ticks\":\"\"}},\"scene\":{\"xaxis\":{\"backgroundcolor\":\"#E5ECF6\",\"gridcolor\":\"white\",\"gridwidth\":2,\"linecolor\":\"white\",\"showbackground\":true,\"ticks\":\"\",\"zerolinecolor\":\"white\"},\"yaxis\":{\"backgroundcolor\":\"#E5ECF6\",\"gridcolor\":\"white\",\"gridwidth\":2,\"linecolor\":\"white\",\"showbackground\":true,\"ticks\":\"\",\"zerolinecolor\":\"white\"},\"zaxis\":{\"backgroundcolor\":\"#E5ECF6\",\"gridcolor\":\"white\",\"gridwidth\":2,\"linecolor\":\"white\",\"showbackground\":true,\"ticks\":\"\",\"zerolinecolor\":\"white\"}},\"shapedefaults\":{\"line\":{\"color\":\"#2a3f5f\"}},\"ternary\":{\"aaxis\":{\"gridcolor\":\"white\",\"linecolor\":\"white\",\"ticks\":\"\"},\"baxis\":{\"gridcolor\":\"white\",\"linecolor\":\"white\",\"ticks\":\"\"},\"bgcolor\":\"#E5ECF6\",\"caxis\":{\"gridcolor\":\"white\",\"linecolor\":\"white\",\"ticks\":\"\"}},\"title\":{\"x\":0.05},\"xaxis\":{\"automargin\":true,\"gridcolor\":\"white\",\"linecolor\":\"white\",\"ticks\":\"\",\"title\":{\"standoff\":15},\"zerolinecolor\":\"white\",\"zerolinewidth\":2},\"yaxis\":{\"automargin\":true,\"gridcolor\":\"white\",\"linecolor\":\"white\",\"ticks\":\"\",\"title\":{\"standoff\":15},\"zerolinecolor\":\"white\",\"zerolinewidth\":2}}},\"title\":{\"text\":\"Price of the Books in Each Year\"},\"xaxis\":{\"anchor\":\"y\",\"domain\":[0.0,1.0],\"title\":{\"text\":\"Year\"}},\"yaxis\":{\"anchor\":\"x\",\"domain\":[0.0,1.0],\"title\":{\"text\":\"Price\"}}},                        {\"responsive\": true}                    ).then(function(){\n",
       "                            \n",
       "var gd = document.getElementById('dc742f2d-de48-4b2b-a84c-228520070e18');\n",
       "var x = new MutationObserver(function (mutations, observer) {{\n",
       "        var display = window.getComputedStyle(gd).display;\n",
       "        if (!display || display === 'none') {{\n",
       "            console.log([gd, 'removed!']);\n",
       "            Plotly.purge(gd);\n",
       "            observer.disconnect();\n",
       "        }}\n",
       "}});\n",
       "\n",
       "// Listen for the removal of the full notebook cells\n",
       "var notebookContainer = gd.closest('#notebook-container');\n",
       "if (notebookContainer) {{\n",
       "    x.observe(notebookContainer, {childList: true});\n",
       "}}\n",
       "\n",
       "// Listen for the clearing of the current output cell\n",
       "var outputEl = gd.closest('.output');\n",
       "if (outputEl) {{\n",
       "    x.observe(outputEl, {childList: true});\n",
       "}}\n",
       "\n",
       "                        })                };                });            </script>        </div>"
      ]
     },
     "metadata": {},
     "output_type": "display_data"
    }
   ],
   "source": [
    "fig = px.scatter(df, x='Year', y='Price', title='Price of the Books in Each Year', hover_data = df[['Name','Author']])\n",
    "fig.show()"
   ]
  },
  {
   "cell_type": "markdown",
   "id": "d6dfde6f",
   "metadata": {
    "papermill": {
     "duration": 0.075291,
     "end_time": "2021-07-10T21:54:21.876953",
     "exception": false,
     "start_time": "2021-07-10T21:54:21.801662",
     "status": "completed"
    },
    "tags": []
   },
   "source": [
    "- Prices of the books are quite on the same range by year with several outliers.\n",
    "- We have 2013 and 2014 books at the price of $105 from American Psychiatric Association."
   ]
  },
  {
   "cell_type": "markdown",
   "id": "1400842d",
   "metadata": {
    "papermill": {
     "duration": 0.07678,
     "end_time": "2021-07-10T21:54:22.030089",
     "exception": false,
     "start_time": "2021-07-10T21:54:21.953309",
     "status": "completed"
    },
    "tags": []
   },
   "source": [
    "#### **Number of Reviews in Each Year**"
   ]
  },
  {
   "cell_type": "code",
   "execution_count": 21,
   "id": "0bc05a0b",
   "metadata": {
    "_kg_hide-input": true,
    "execution": {
     "iopub.execute_input": "2021-07-10T21:54:22.196900Z",
     "iopub.status.busy": "2021-07-10T21:54:22.192116Z",
     "iopub.status.idle": "2021-07-10T21:54:22.259048Z",
     "shell.execute_reply": "2021-07-10T21:54:22.258564Z",
     "shell.execute_reply.started": "2021-07-10T21:50:42.139369Z"
    },
    "papermill": {
     "duration": 0.152529,
     "end_time": "2021-07-10T21:54:22.259147",
     "exception": false,
     "start_time": "2021-07-10T21:54:22.106618",
     "status": "completed"
    },
    "tags": []
   },
   "outputs": [
    {
     "data": {
      "text/html": [
       "<div>                            <div id=\"024c29c1-5bc1-4ebf-9bdf-6eb26a535627\" class=\"plotly-graph-div\" style=\"height:525px; width:100%;\"></div>            <script type=\"text/javascript\">                require([\"plotly\"], function(Plotly) {                    window.PLOTLYENV=window.PLOTLYENV || {};                                    if (document.getElementById(\"024c29c1-5bc1-4ebf-9bdf-6eb26a535627\")) {                    Plotly.newPlot(                        \"024c29c1-5bc1-4ebf-9bdf-6eb26a535627\",                        [{\"customdata\":[[\"10-Day Green Smoothie Cleanse\",\"JJ Smith\"],[\"12 Rules for Life: An Antidote to Chaos\",\"Jordan B. Peterson\"],[\"5,000 Awesome Facts (About Everything!) (National Geographic Kids)\",\"National Geographic Kids\"],[\"A Higher Loyalty: Truth, Lies, and Leadership\",\"James Comey\"],[\"A Patriot's History of the United States: From Columbus's Great Discovery to the War on Terror\",\"Larry Schweikart\"],[\"A Stolen Life: A Memoir\",\"Jaycee Dugard\"],[\"Act Like a Lady, Think Like a Man: What Men Really Think About Love, Relationships, Intimacy, and Commitment\",\"Steve Harvey\"],[\"Adult Coloring Book Designs: Stress Relief Coloring Book: Garden Designs, Mandalas, Animals, and Paisley Patterns\",\"Adult Coloring Book Designs\"],[\"Adult Coloring Book: Stress Relieving Animal Designs\",\"Blue Star Coloring\"],[\"Adult Coloring Book: Stress Relieving Patterns\",\"Blue Star Coloring\"],[\"Adult Coloring Books: A Coloring Book for Adults Featuring Mandalas and Henna Inspired Flowers, Animals, and Paisley\\u2026\",\"Coloring Books for Adults\"],[\"Alexander Hamilton\",\"Ron Chernow\"],[\"American Sniper: The Autobiography of the Most Lethal Sniper in U.S. Military History\",\"Chris Kyle\"],[\"Arguing with Idiots: How to Stop Small Minds and Big Government\",\"Glenn Beck\"],[\"Astrophysics for People in a Hurry\",\"Neil deGrasse Tyson\"],[\"Autobiography of Mark Twain, Vol. 1\",\"Mark Twain\"],[\"Baby Touch and Feel: Animals\",\"DK\"],[\"Balance (Angie's Extreme Stress Menders)\",\"Angie Grace\"],[\"Barefoot Contessa Foolproof: Recipes You Can Trust: A Cookbook\",\"Ina Garten\"],[\"Barefoot Contessa, How Easy Is That?: Fabulous Recipes & Easy Tips\",\"Ina Garten\"],[\"Becoming\",\"Michelle Obama\"],[\"Becoming\",\"Michelle Obama\"],[\"Being Mortal: Medicine and What Matters in the End\",\"Atul Gawande\"],[\"Between the World and Me\",\"Ta-Nehisi Coates\"],[\"Between the World and Me\",\"Ta-Nehisi Coates\"],[\"Born to Run\",\"Bruce Springsteen\"],[\"Broke: The Plan to Restore Our Trust, Truth and Treasure\",\"Glenn Beck\"],[\"Calm the F*ck Down: An Irreverent Adult Coloring Book (Irreverent Book Series)\",\"Sasha O'Hara\"],[\"Can't Hurt Me: Master Your Mind and Defy the Odds\",\"David Goggins\"],[\"Capital in the Twenty First Century\",\"Thomas Piketty\"],[\"Cravings: Recipes for All the Food You Want to Eat: A Cookbook\",\"Chrissy Teigen\"],[\"Crazy Love: Overwhelmed by a Relentless God\",\"Francis Chan\"],[\"Crazy Love: Overwhelmed by a Relentless God\",\"Francis Chan\"],[\"Crazy Love: Overwhelmed by a Relentless God\",\"Francis Chan\"],[\"Creative Haven Creative Cats Coloring Book (Adult Coloring)\",\"Marjorie Sarnat\"],[\"Creative Haven Owls Coloring Book (Adult Coloring)\",\"Marjorie Sarnat\"],[\"Daring Greatly: How the Courage to Be Vulnerable Transforms the Way We Live, Love, Parent, and Lead\",\"Brene\\u0301 Brown\"],[\"David and Goliath: Underdogs, Misfits, and the Art of Battling Giants\",\"Malcolm Gladwell\"],[\"Decision Points\",\"George W. Bush\"],[\"Delivering Happiness: A Path to Profits, Passion, and Purpose\",\"Tony Hsieh\"],[\"Diagnostic and Statistical Manual of Mental Disorders, 5th Edition: DSM-5\",\"American Psychiatric Association\"],[\"Diagnostic and Statistical Manual of Mental Disorders, 5th Edition: DSM-5\",\"American Psychiatric Association\"],[\"Difficult Riddles For Smart Kids: 300 Difficult Riddles And Brain Teasers Families Will Love (Books for Smart Kids)\",\"M Prefontaine\"],[\"Divine Soul Mind Body Healing and Transmission System: The Divine Way to Heal You, Humanity, Mother Earth, and All\\u2026\",\"Zhi Gang Sha\"],[\"Dover Creative Haven Art Nouveau Animal Designs Coloring Book (Creative Haven Coloring Books)\",\"Marty Noble\"],[\"Drive: The Surprising Truth About What Motivates Us\",\"Daniel H. Pink\"],[\"Eat This Not That! Supermarket Survival Guide: The No-Diet Weight Loss Solution\",\"David Zinczenko\"],[\"Eat This, Not That! Thousands of Simple Food Swaps that Can Save You 10, 20, 30 Pounds--or More!\",\"David Zinczenko\"],[\"Eat to Live: The Amazing Nutrient-Rich Program for Fast and Sustained Weight Loss, Revised Edition\",\"Joel Fuhrman MD\"],[\"Eat to Live: The Amazing Nutrient-Rich Program for Fast and Sustained Weight Loss, Revised Edition\",\"Joel Fuhrman MD\"],[\"Educated: A Memoir\",\"Tara Westover\"],[\"Educated: A Memoir\",\"Tara Westover\"],[\"Enchanted Forest: An Inky Quest and Coloring book (Activity Books, Mindfulness and Meditation, Illustrated Floral Prints\\u2026\",\"Johanna Basford\"],[\"Fear: Trump in the White House\",\"Bob Woodward\"],[\"Fire and Fury: Inside the Trump White House\",\"Michael Wolff\"],[\"First 100 Words\",\"Roger Priddy\"],[\"First 100 Words\",\"Roger Priddy\"],[\"First 100 Words\",\"Roger Priddy\"],[\"First 100 Words\",\"Roger Priddy\"],[\"First 100 Words\",\"Roger Priddy\"],[\"Food Rules: An Eater's Manual\",\"Michael Pollan\"],[\"Game Change: Obama and the Clintons, McCain and Palin, and the Race of a Lifetime\",\"John Heilemann\"],[\"George Washington's Sacred Fire\",\"Peter A. Lillback\"],[\"George Washington's Secret Six: The Spy Ring That Saved the American Revolution\",\"Brian Kilmeade\"],[\"Girl, Stop Apologizing: A Shame-Free Plan for Embracing and Achieving Your Goals\",\"Rachel Hollis\"],[\"Girl, Wash Your Face: Stop Believing the Lies About Who You Are So You Can Become Who You Were Meant to Be\",\"Rachel Hollis\"],[\"Girl, Wash Your Face: Stop Believing the Lies About Who You Are So You Can Become Who You Were Meant to Be\",\"Rachel Hollis\"],[\"Glenn Beck's Common Sense: The Case Against an Out-of-Control Government, Inspired by Thomas Paine\",\"Glenn Beck\"],[\"Going Rogue: An American Life\",\"Sarah Palin\"],[\"Good Days Start With Gratitude: A 52 Week Guide To Cultivate An Attitude Of Gratitude: Gratitude Journal\",\"Pretty Simple Press\"],[\"Good to Great: Why Some Companies Make the Leap and Others Don't\",\"Jim Collins\"],[\"Good to Great: Why Some Companies Make the Leap and Others Don't\",\"Jim Collins\"],[\"Good to Great: Why Some Companies Make the Leap and Others Don't\",\"Jim Collins\"],[\"Good to Great: Why Some Companies Make the Leap and Others Don't\",\"Jim Collins\"],[\"Grain Brain: The Surprising Truth about Wheat, Carbs, and Sugar--Your Brain's Silent Killers\",\"David Perlmutter MD\"],[\"Guts\",\"Raina Telgemeier\"],[\"Hamilton: The Revolution\",\"Lin-Manuel Miranda\"],[\"Happy, Happy, Happy: My Life and Legacy as the Duck Commander\",\"Phil Robertson\"],[\"Harry Potter Coloring Book\",\"Scholastic\"],[\"Have a Little Faith: A True Story\",\"Mitch Albom\"],[\"Heaven is for Real: A Little Boy's Astounding Story of His Trip to Heaven and Back\",\"Todd Burpo\"],[\"Heaven is for Real: A Little Boy's Astounding Story of His Trip to Heaven and Back\",\"Todd Burpo\"],[\"Hillbilly Elegy: A Memoir of a Family and Culture in Crisis\",\"J. D. Vance\"],[\"Hillbilly Elegy: A Memoir of a Family and Culture in Crisis\",\"J. D. Vance\"],[\"Homebody: A Guide to Creating Spaces You Never Want to Leave\",\"Joanna Gaines\"],[\"How to Win Friends & Influence People\",\"Dale Carnegie\"],[\"How to Win Friends & Influence People\",\"Dale Carnegie\"],[\"How to Win Friends & Influence People\",\"Dale Carnegie\"],[\"How to Win Friends & Influence People\",\"Dale Carnegie\"],[\"How to Win Friends & Influence People\",\"Dale Carnegie\"],[\"Howard Stern Comes Again\",\"Howard Stern\"],[\"Humans of New York\",\"Brandon Stanton\"],[\"Humans of New York\",\"Brandon Stanton\"],[\"Humans of New York : Stories\",\"Brandon Stanton\"],[\"Hyperbole and a Half: Unfortunate Situations, Flawed Coping Mechanisms, Mayhem, and Other Things That Happened\",\"Allie Brosh\"],[\"I Am Confident, Brave & Beautiful: A Coloring Book for Girls\",\"Hopscotch Girls\"],[\"In the Garden of Beasts: Love, Terror, and an American Family in Hitler's Berlin\",\"Eric Larson\"],[\"Instant Pot Pressure Cooker Cookbook: 500 Everyday Recipes for Beginners and Advanced Users. Try Easy and Healthy\\u2026\",\"Jennifer Smith\"],[\"Instant Pot Pressure Cooker Cookbook: 500 Everyday Recipes for Beginners and Advanced Users. Try Easy and Healthy\\u2026\",\"Jennifer Smith\"],[\"It's Not Supposed to Be This Way: Finding Unexpected Strength When Disappointments Leave You Shattered\",\"Lysa TerKeurst\"],[\"Jesus Calling: Enjoying Peace in His Presence (with Scripture References)\",\"Sarah Young\"],[\"Jesus Calling: Enjoying Peace in His Presence (with Scripture References)\",\"Sarah Young\"],[\"Jesus Calling: Enjoying Peace in His Presence (with Scripture References)\",\"Sarah Young\"],[\"Jesus Calling: Enjoying Peace in His Presence (with Scripture References)\",\"Sarah Young\"],[\"Jesus Calling: Enjoying Peace in His Presence (with Scripture References)\",\"Sarah Young\"],[\"Jesus Calling: Enjoying Peace in His Presence (with Scripture References)\",\"Sarah Young\"],[\"Killers of the Flower Moon: The Osage Murders and the Birth of the FBI\",\"David Grann\"],[\"Killing Jesus (Bill O'Reilly's Killing Series)\",\"Bill O'Reilly\"],[\"Killing Kennedy: The End of Camelot\",\"Bill O'Reilly\"],[\"Killing Lincoln: The Shocking Assassination that Changed America Forever (Bill O'Reilly's Killing Series)\",\"Bill O'Reilly\"],[\"Killing Lincoln: The Shocking Assassination that Changed America Forever (Bill O'Reilly's Killing Series)\",\"Bill O'Reilly\"],[\"Killing Patton: The Strange Death of World War II's Most Audacious General (Bill O'Reilly's Killing Series)\",\"Bill O'Reilly\"],[\"Killing Reagan: The Violent Assault That Changed a Presidency (Bill O'Reilly's Killing Series)\",\"Bill O'Reilly\"],[\"Killing the Rising Sun: How America Vanquished World War II Japan (Bill O'Reilly's Killing Series)\",\"Bill O'Reilly\"],[\"Kitchen Confidential Updated Edition: Adventures in the Culinary Underbelly (P.S.)\",\"Anthony Bourdain\"],[\"Knock-Knock Jokes for Kids\",\"Rob Elliott\"],[\"Knock-Knock Jokes for Kids\",\"Rob Elliott\"],[\"Knock-Knock Jokes for Kids\",\"Rob Elliott\"],[\"Laugh-Out-Loud Jokes for Kids\",\"Rob Elliott\"],[\"Laugh-Out-Loud Jokes for Kids\",\"Rob Elliott\"],[\"Laugh-Out-Loud Jokes for Kids\",\"Rob Elliott\"],[\"Laugh-Out-Loud Jokes for Kids\",\"Rob Elliott\"],[\"Laugh-Out-Loud Jokes for Kids\",\"Rob Elliott\"],[\"Lean In: Women, Work, and the Will to Lead\",\"Sheryl Sandberg\"],[\"Leonardo da Vinci\",\"Walter Isaacson\"],[\"Lettering and Modern Calligraphy: A Beginner's Guide: Learn Hand Lettering and Brush Lettering\",\"Paper Peony Press\"],[\"Liberty and Tyranny: A Conservative Manifesto\",\"Mark R. Levin\"],[\"Life\",\"Keith Richards\"],[\"Love Wins: A Book About Heaven, Hell, and the Fate of Every Person Who Ever Lived\",\"Rob Bell\"],[\"Magnolia Table: A Collection of Recipes for Gathering\",\"Joanna Gaines\"],[\"Make It Ahead: A Barefoot Contessa Cookbook\",\"Ina Garten\"],[\"Make Your Bed: Little Things That Can Change Your Life...And Maybe the World\",\"Admiral William H. McRaven\"],[\"Mastering the Art of French Cooking, Vol. 2\",\"Julia Child\"],[\"Milk and Honey\",\"Rupi Kaur\"],[\"Milk and Honey\",\"Rupi Kaur\"],[\"Milk and Honey\",\"Rupi Kaur\"],[\"Milk and Vine: Inspirational Quotes From Classic Vines\",\"Adam Gasiewski\"],[\"Mindset: The New Psychology of Success\",\"Carol S. Dweck\"],[\"Mindset: The New Psychology of Success\",\"Carol S. Dweck\"],[\"Mindset: The New Psychology of Success\",\"Carol S. Dweck\"],[\"National Geographic Kids Why?: Over 1,111 Answers to Everything\",\"Crispin Boyer\"],[\"National Geographic Little Kids First Big Book of Why (National Geographic Little Kids First Big Books)\",\"Amy Shields\"],[\"Night (Night)\",\"Elie Wiesel\"],[\"No Easy Day: The Autobiography of a Navy Seal: The Firsthand Account of the Mission That Killed Osama Bin Laden\",\"Mark Owen\"],[\"Obama: An Intimate Portrait\",\"Pete Souza\"],[\"One Thousand Gifts: A Dare to Live Fully Right Where You Are\",\"Ann Voskamp\"],[\"One Thousand Gifts: A Dare to Live Fully Right Where You Are\",\"Ann Voskamp\"],[\"Option B: Facing Adversity, Building Resilience, and Finding Joy\",\"Sheryl Sandberg\"],[\"Outliers: The Story of Success\",\"Malcolm Gladwell\"],[\"Outliers: The Story of Success\",\"Malcolm Gladwell\"],[\"P is for Potty! (Sesame Street) (Lift-the-Flap)\",\"Naomi Kleinberg\"],[\"P is for Potty! (Sesame Street) (Lift-the-Flap)\",\"Naomi Kleinberg\"],[\"Proof of Heaven: A Neurosurgeon's Journey into the Afterlife\",\"Eben Alexander\"],[\"Proof of Heaven: A Neurosurgeon's Journey into the Afterlife\",\"Eben Alexander\"],[\"Publication Manual of the American Psychological Association, 6th Edition\",\"American Psychological Association\"],[\"Publication Manual of the American Psychological Association, 6th Edition\",\"American Psychological Association\"],[\"Publication Manual of the American Psychological Association, 6th Edition\",\"American Psychological Association\"],[\"Publication Manual of the American Psychological Association, 6th Edition\",\"American Psychological Association\"],[\"Publication Manual of the American Psychological Association, 6th Edition\",\"American Psychological Association\"],[\"Publication Manual of the American Psychological Association, 6th Edition\",\"American Psychological Association\"],[\"Publication Manual of the American Psychological Association, 6th Edition\",\"American Psychological Association\"],[\"Publication Manual of the American Psychological Association, 6th Edition\",\"American Psychological Association\"],[\"Publication Manual of the American Psychological Association, 6th Edition\",\"American Psychological Association\"],[\"Publication Manual of the American Psychological Association, 6th Edition\",\"American Psychological Association\"],[\"Quiet: The Power of Introverts in a World That Can't Stop Talking\",\"Susan Cain\"],[\"Quiet: The Power of Introverts in a World That Can't Stop Talking\",\"Susan Cain\"],[\"Radical: Taking Back Your Faith from the American Dream\",\"David Platt\"],[\"Radical: Taking Back Your Faith from the American Dream\",\"David Platt\"],[\"Salt, Fat, Acid, Heat: Mastering the Elements of Good Cooking\",\"Samin Nosrat\"],[\"Salt, Fat, Acid, Heat: Mastering the Elements of Good Cooking\",\"Samin Nosrat\"],[\"School Zone - Big Preschool Workbook - Ages 4 and Up, Colors, Shapes, Numbers 1-10, Alphabet, Pre-Writing, Pre-Reading\\u2026\",\"School Zone\"],[\"School Zone - Big Preschool Workbook - Ages 4 and Up, Colors, Shapes, Numbers 1-10, Alphabet, Pre-Writing, Pre-Reading\\u2026\",\"School Zone\"],[\"Secret Garden: An Inky Treasure Hunt and Coloring Book (For Adults, mindfulness coloring)\",\"Johanna Basford\"],[\"Sh*t My Dad Says\",\"Justin Halpern\"],[\"Ship of Fools: How a Selfish Ruling Class Is Bringing America to the Brink of Revolution\",\"Tucker Carlson\"],[\"Shred: The Revolutionary Diet: 6 Weeks 4 Inches 2 Sizes\",\"Ian K. Smith M.D.\"],[\"Soul Healing Miracles: Ancient and New Sacred Wisdom, Knowledge, and Practical Techniques for Healing the Spiritual\\u2026\",\"Zhi Gang Sha\"],[\"Steve Jobs\",\"Walter Isaacson\"],[\"Steve Jobs\",\"Walter Isaacson\"],[\"StrengthsFinder 2.0\",\"Gallup\"],[\"StrengthsFinder 2.0\",\"Gallup\"],[\"StrengthsFinder 2.0\",\"Gallup\"],[\"StrengthsFinder 2.0\",\"Gallup\"],[\"StrengthsFinder 2.0\",\"Gallup\"],[\"StrengthsFinder 2.0\",\"Gallup\"],[\"StrengthsFinder 2.0\",\"Gallup\"],[\"StrengthsFinder 2.0\",\"Gallup\"],[\"StrengthsFinder 2.0\",\"Gallup\"],[\"Super Freakonomics: Global Cooling, Patriotic Prostitutes, and Why Suicide Bombers Should Buy Life Insurance\",\"Steven D. Levitt\"],[\"Switch: How to Change Things When Change Is Hard\",\"Chip Heath\"],[\"Teach Like a Champion: 49 Techniques that Put Students on the Path to College\",\"Doug Lemov\"],[\"Teach Like a Champion: 49 Techniques that Put Students on the Path to College\",\"Doug Lemov\"],[\"The 17 Day Diet: A Doctor's Plan Designed for Rapid Results\",\"Mike Moreno\"],[\"The 4 Hour Body: An Uncommon Guide to Rapid Fat Loss, Incredible Sex and Becoming Superhuman\",\"Timothy Ferriss\"],[\"The 5 Love Languages: The Secret to Love That Lasts\",\"Gary Chapman\"],[\"The 5 Love Languages: The Secret to Love That Lasts\",\"Gary Chapman\"],[\"The 5 Love Languages: The Secret to Love That Lasts\",\"Gary Chapman\"],[\"The 5 Love Languages: The Secret to Love That Lasts\",\"Gary Chapman\"],[\"The 5 Love Languages: The Secret to Love That Lasts\",\"Gary Chapman\"],[\"The 5 Love Languages: The Secret to Love that Lasts\",\"Gary Chapman\"],[\"The 5 Love Languages: The Secret to Love that Lasts\",\"Gary Chapman\"],[\"The 5 Love Languages: The Secret to Love that Lasts\",\"Gary Chapman\"],[\"The 5 Love Languages: The Secret to Love that Lasts\",\"Gary Chapman\"],[\"The 5 Love Languages: The Secret to Love that Lasts\",\"Gary Chapman\"],[\"The 5000 Year Leap\",\"W. Cleon Skousen\"],[\"The 7 Habits of Highly Effective People: Powerful Lessons in Personal Change\",\"Stephen R. Covey\"],[\"The 7 Habits of Highly Effective People: Powerful Lessons in Personal Change\",\"Stephen R. Covey\"],[\"The 7 Habits of Highly Effective People: Powerful Lessons in Personal Change\",\"Stephen R. Covey\"],[\"The 7 Habits of Highly Effective People: Powerful Lessons in Personal Change\",\"Stephen R. Covey\"],[\"The 7 Habits of Highly Effective People: Powerful Lessons in Personal Change\",\"Stephen R. Covey\"],[\"The 7 Habits of Highly Effective People: Powerful Lessons in Personal Change\",\"Stephen R. Covey\"],[\"The 7 Habits of Highly Effective People: Powerful Lessons in Personal Change\",\"Stephen R. Covey\"],[\"The Amateur\",\"Edward Klein\"],[\"The Big Short: Inside the Doomsday Machine\",\"Michael Lewis\"],[\"The Blood Sugar Solution: The UltraHealthy Program for Losing Weight, Preventing Disease, and Feeling Great Now!\",\"Mark Hyman M.D.\"],[\"The Body Keeps the Score: Brain, Mind, and Body in the Healing of Trauma\",\"Bessel van der Kolk M.D.\"],[\"The Book of Basketball: The NBA According to The Sports Guy\",\"Bill Simmons\"],[\"The Boys in the Boat: Nine Americans and Their Epic Quest for Gold at the 1936 Berlin Olympics\",\"Daniel James Brown\"],[\"The Boys in the Boat: Nine Americans and Their Epic Quest for Gold at the 1936 Berlin Olympics\",\"Daniel James Brown\"],[\"The China Study: The Most Comprehensive Study of Nutrition Ever Conducted And the Startling Implications for Diet\\u2026\",\"Thomas Campbell\"],[\"The Complete Ketogenic Diet for Beginners: Your Essential Guide to Living the Keto Lifestyle\",\"Amy Ramos\"],[\"The Complete Ketogenic Diet for Beginners: Your Essential Guide to Living the Keto Lifestyle\",\"Amy Ramos\"],[\"The Constitution of the United States\",\"Delegates of the Constitutional\\u0085\"],[\"The Daily Show with Jon Stewart Presents Earth (The Book): A Visitor's Guide to the Human Race\",\"Jon Stewart\"],[\"The Dukan Diet: 2 Steps to Lose the Weight, 2 Steps to Keep It Off Forever\",\"Pierre Dukan\"],[\"The Five Dysfunctions of a Team: A Leadership Fable\",\"Patrick Lencioni\"],[\"The Five Dysfunctions of a Team: A Leadership Fable\",\"Patrick Lencioni\"],[\"The Five Dysfunctions of a Team: A Leadership Fable\",\"Patrick Lencioni\"],[\"The Five Dysfunctions of a Team: A Leadership Fable\",\"Patrick Lencioni\"],[\"The Five Dysfunctions of a Team: A Leadership Fable\",\"Patrick Lencioni\"],[\"The Five Love Languages: How to Express Heartfelt Commitment to Your Mate\",\"Gary Chapman\"],[\"The Four Agreements: A Practical Guide to Personal Freedom (A Toltec Wisdom Book)\",\"Don Miguel Ruiz\"],[\"The Four Agreements: A Practical Guide to Personal Freedom (A Toltec Wisdom Book)\",\"Don Miguel Ruiz\"],[\"The Four Agreements: A Practical Guide to Personal Freedom (A Toltec Wisdom Book)\",\"Don Miguel Ruiz\"],[\"The Four Agreements: A Practical Guide to Personal Freedom (A Toltec Wisdom Book)\",\"Don Miguel Ruiz\"],[\"The Four Agreements: A Practical Guide to Personal Freedom (A Toltec Wisdom Book)\",\"Don Miguel Ruiz\"],[\"The Four Agreements: A Practical Guide to Personal Freedom (A Toltec Wisdom Book)\",\"Don Miguel Ruiz\"],[\"The Immortal Life of Henrietta Lacks\",\"Rebecca Skloot\"],[\"The Immortal Life of Henrietta Lacks\",\"Rebecca Skloot\"],[\"The Immortal Life of Henrietta Lacks\",\"Rebecca Skloot\"],[\"The Instant Pot Electric Pressure Cooker Cookbook: Easy Recipes for Fast & Healthy Meals\",\"Laurel Randolph\"],[\"The Instant Pot Electric Pressure Cooker Cookbook: Easy Recipes for Fast & Healthy Meals\",\"Laurel Randolph\"],[\"The Last Lecture\",\"Randy Pausch\"],[\"The Lego Ideas Book: Unlock Your Imagination\",\"Daniel Lipkowitz\"],[\"The Lego Ideas Book: Unlock Your Imagination\",\"Daniel Lipkowitz\"],[\"The Life-Changing Magic of Tidying Up: The Japanese Art of Decluttering and Organizing\",\"Marie Kond\\u014d\"],[\"The Life-Changing Magic of Tidying Up: The Japanese Art of Decluttering and Organizing\",\"Marie Kond\\u014d\"],[\"The Life-Changing Magic of Tidying Up: The Japanese Art of Decluttering and Organizing\",\"Marie Kond\\u014d\"],[\"The Life-Changing Magic of Tidying Up: The Japanese Art of Decluttering and Organizing\",\"Marie Kond\\u014d\"],[\"The Love Dare\",\"Stephen Kendrick\"],[\"The Magnolia Story\",\"Chip Gaines\"],[\"The Mueller Report\",\"The Washington Post\"],[\"The Official SAT Study Guide\",\"The College Board\"],[\"The Official SAT Study Guide\",\"The College Board\"],[\"The Official SAT Study Guide\",\"The College Board\"],[\"The Official SAT Study Guide\",\"The College Board\"],[\"The Official SAT Study Guide\",\"The College Board\"],[\"The Official SAT Study Guide, 2016 Edition (Official Study Guide for the New Sat)\",\"The College Board\"],[\"The Pioneer Woman Cooks: A Year of Holidays: 140 Step-by-Step Recipes for Simple, Scrumptious Celebrations\",\"Ree Drummond\"],[\"The Pioneer Woman Cooks: Dinnertime - Comfort Classics, Freezer Food, 16-minute Meals, and Other Delicious Ways to Solve\\u2026\",\"Ree Drummond\"],[\"The Pioneer Woman Cooks: Food from My Frontier\",\"Ree Drummond\"],[\"The Plant Paradox Cookbook: 100 Delicious Recipes to Help You Lose Weight, Heal Your Gut, and Live Lectin-Free\",\"Dr. Steven R Gundry MD\"],[\"The Plant Paradox: The Hidden Dangers in \\\"Healthy\\\" Foods That Cause Disease and Weight Gain\",\"Dr. Steven R Gundry MD\"],[\"The Power of Habit: Why We Do What We Do in Life and Business\",\"Charles Duhigg\"],[\"The Road to Serfdom: Text and Documents--The Definitive Edition (The Collected Works of F. A. Hayek, Volume 2)\",\"F. A. Hayek\"],[\"The Subtle Art of Not Giving a F*ck: A Counterintuitive Approach to Living a Good Life\",\"Mark Manson\"],[\"The Subtle Art of Not Giving a F*ck: A Counterintuitive Approach to Living a Good Life\",\"Mark Manson\"],[\"The Subtle Art of Not Giving a F*ck: A Counterintuitive Approach to Living a Good Life\",\"Mark Manson\"],[\"The Sun and Her Flowers\",\"Rupi Kaur\"],[\"The Tipping Point: How Little Things Can Make a Big Difference\",\"Malcolm Gladwell\"],[\"The Total Money Makeover: Classic Edition: A Proven Plan for Financial Fitness\",\"Dave Ramsey\"],[\"The Unofficial Harry Potter Cookbook: From Cauldron Cakes to Knickerbocker Glory--More Than 150 Magical Recipes for\\u2026\",\"Dinah Bucholz\"],[\"The Whole30: The 30-Day Guide to Total Health and Food Freedom\",\"Melissa Hartwig Urban\"],[\"The Whole30: The 30-Day Guide to Total Health and Food Freedom\",\"Melissa Hartwig Urban\"],[\"The Whole30: The 30-Day Guide to Total Health and Food Freedom\",\"Melissa Hartwig Urban\"],[\"The Wright Brothers\",\"David McCullough\"],[\"Things That Matter: Three Decades of Passions, Pastimes and Politics [Deckled Edge]\",\"Charles Krauthammer\"],[\"Thinking, Fast and Slow\",\"Daniel Kahneman\"],[\"Thinking, Fast and Slow\",\"Daniel Kahneman\"],[\"Thomas Jefferson: The Art of Power\",\"Jon Meacham\"],[\"Three Cups of Tea: One Man's Mission to Promote Peace - One School at a Time\",\"Greg Mortenson\"],[\"Three Cups of Tea: One Man's Mission to Promote Peace - One School at a Time\",\"Greg Mortenson\"],[\"Thug Kitchen: The Official Cookbook: Eat Like You Give a F*ck (Thug Kitchen Cookbooks)\",\"Thug Kitchen\"],[\"Thug Kitchen: The Official Cookbook: Eat Like You Give a F*ck (Thug Kitchen Cookbooks)\",\"Thug Kitchen\"],[\"Thug Kitchen: The Official Cookbook: Eat Like You Give a F*ck (Thug Kitchen Cookbooks)\",\"Thug Kitchen\"],[\"Thug Kitchen: The Official Cookbook: Eat Like You Give a F*ck (Thug Kitchen Cookbooks)\",\"Thug Kitchen\"],[\"Tina Fey: Bossypants\",\"Tina Fey\"],[\"Tools of Titans: The Tactics, Routines, and Habits of Billionaires, Icons, and World-Class Performers\",\"Timothy Ferriss\"],[\"True Compass: A Memoir\",\"Edward M. Kennedy\"],[\"Unbroken: A World War II Story of Survival, Resilience, and Redemption\",\"Laura Hillenbrand\"],[\"Unbroken: A World War II Story of Survival, Resilience, and Redemption\",\"Laura Hillenbrand\"],[\"Unbroken: A World War II Story of Survival, Resilience, and Redemption\",\"Laura Hillenbrand\"],[\"Unbroken: A World War II Story of Survival, Resilience, and Redemption\",\"Laura Hillenbrand\"],[\"Unbroken: A World War II Story of Survival, Resilience, and Redemption\",\"Laura Hillenbrand\"],[\"Unfreedom of the Press\",\"Mark R. Levin\"],[\"Unicorn Coloring Book: For Kids Ages 4-8 (US Edition) (Silly Bear Coloring Books)\",\"Silly Bear\"],[\"Uninvited: Living Loved When You Feel Less Than, Left Out, and Lonely\",\"Lysa TerKeurst\"],[\"What Happened\",\"Hillary Rodham Clinton\"],[\"What If?: Serious Scientific Answers to Absurd Hypothetical Questions\",\"Randall Munroe\"],[\"What to Expect When You're Expecting\",\"Heidi Murkoff\"],[\"Wheat Belly: Lose the Wheat, Lose the Weight, and Find Your Path Back to Health\",\"William Davis\"],[\"Wheat Belly: Lose the Wheat, Lose the Weight, and Find Your Path Back to Health\",\"William Davis\"],[\"When Breath Becomes Air\",\"Paul Kalanithi\"],[\"Whose Boat Is This Boat?: Comments That Don't Help in the Aftermath of a Hurricane\",\"The Staff of The Late Show with\\u0085\"],[\"Wild: From Lost to Found on the Pacific Crest Trail\",\"Cheryl Strayed\"],[\"Women Food and God: An Unexpected Path to Almost Everything\",\"Geneen Roth\"],[\"You Are a Badass: How to Stop Doubting Your Greatness and Start Living an Awesome Life\",\"Jen Sincero\"],[\"You Are a Badass: How to Stop Doubting Your Greatness and Start Living an Awesome Life\",\"Jen Sincero\"],[\"You Are a Badass: How to Stop Doubting Your Greatness and Start Living an Awesome Life\",\"Jen Sincero\"],[\"You Are a Badass: How to Stop Doubting Your Greatness and Start Living an Awesome Life\",\"Jen Sincero\"]],\"hovertemplate\":\"Genre=Non Fiction<br>Year=%{x}<br>Reviews=%{y}<br>Name=%{customdata[0]}<br>Author=%{customdata[1]}<extra></extra>\",\"legendgroup\":\"Non Fiction\",\"marker\":{\"color\":\"#636efa\",\"symbol\":\"circle\"},\"mode\":\"markers\",\"name\":\"Non Fiction\",\"orientation\":\"v\",\"showlegend\":true,\"type\":\"scatter\",\"x\":[2016,2018,2019,2018,2010,2011,2009,2016,2015,2015,2015,2016,2015,2009,2017,2010,2015,2015,2012,2010,2018,2019,2015,2015,2016,2016,2010,2016,2019,2014,2016,2009,2010,2011,2015,2015,2013,2013,2010,2010,2013,2014,2019,2009,2015,2010,2009,2009,2011,2012,2018,2019,2015,2018,2018,2014,2015,2016,2017,2018,2010,2010,2010,2013,2019,2018,2019,2009,2009,2019,2009,2010,2011,2012,2014,2019,2016,2013,2015,2009,2011,2012,2016,2017,2018,2014,2015,2016,2017,2018,2019,2013,2014,2015,2013,2019,2011,2019,2018,2019,2011,2012,2013,2014,2015,2016,2017,2013,2012,2011,2012,2014,2015,2016,2018,2013,2014,2015,2013,2014,2015,2016,2017,2013,2017,2018,2009,2010,2011,2018,2014,2017,2009,2016,2017,2018,2017,2014,2015,2016,2019,2019,2016,2012,2017,2011,2012,2017,2009,2010,2018,2019,2012,2013,2009,2010,2011,2012,2013,2014,2015,2016,2017,2018,2012,2013,2010,2011,2018,2019,2018,2019,2015,2010,2018,2013,2013,2011,2012,2009,2010,2011,2012,2013,2014,2015,2016,2017,2009,2010,2010,2011,2011,2011,2010,2011,2012,2013,2014,2015,2016,2017,2018,2019,2009,2009,2011,2012,2013,2015,2016,2017,2012,2010,2012,2019,2009,2014,2015,2011,2018,2019,2016,2010,2011,2009,2010,2011,2012,2013,2009,2013,2015,2016,2017,2018,2019,2010,2011,2012,2017,2018,2009,2011,2012,2015,2016,2017,2019,2009,2016,2019,2010,2011,2012,2013,2014,2016,2013,2015,2012,2018,2018,2012,2010,2017,2018,2019,2017,2009,2019,2019,2015,2016,2017,2015,2013,2011,2012,2012,2009,2010,2014,2015,2016,2017,2011,2017,2009,2010,2011,2012,2014,2014,2019,2019,2016,2017,2014,2011,2012,2013,2016,2018,2012,2010,2016,2017,2018,2019],\"xaxis\":\"x\",\"y\":[17350,18979,7665,5983,460,4149,5013,2313,2925,2951,2426,9198,15921,798,9374,491,5360,1909,1296,615,61133,61133,11113,10070,10070,3729,471,10369,16244,2884,4761,1542,1542,1542,4022,3871,1329,4642,2137,1651,6679,6679,7955,37,2134,2525,720,956,6346,6346,28729,28729,5413,6042,13677,17323,17323,17323,17323,17323,1555,1215,408,4799,7660,22288,22288,1365,1636,10141,3457,3457,3457,3457,5972,5476,5867,4148,3564,1930,15779,15779,15526,15526,3776,25001,25001,25001,25001,25001,5272,3490,3490,2812,4896,9737,4571,7396,7396,7062,19576,19576,19576,19576,19576,19576,8393,11391,8634,9342,9342,10927,5235,8916,2507,3673,3673,3673,6990,6990,6990,6990,6990,6132,3014,7550,3828,2752,1649,9867,1386,10199,2926,17739,17739,17739,3113,5542,5542,5542,5347,7866,5178,8093,3192,3163,3163,1831,10426,10426,10820,10820,13616,13616,8580,8580,8580,8580,8580,8580,8580,8580,8580,8580,10009,10009,1985,1985,7802,7802,23047,23047,9366,1265,3923,2272,220,7827,7827,5069,5069,5069,5069,5069,5069,5069,5069,5069,1583,1907,637,637,2314,4587,3477,3477,3477,3477,3477,25554,25554,25554,25554,25554,1680,9325,9325,9325,9325,4725,4725,4725,2580,3536,1789,12361,858,23358,23358,4633,13061,13061,2774,440,2023,3207,3207,3207,3207,3207,803,23308,23308,23308,23308,23308,23308,9289,9289,9289,7368,7368,4028,4247,4247,22641,22641,22641,22641,1655,7861,2744,1201,1201,1201,1201,1201,807,2663,3428,2876,3601,7058,10795,1204,26490,26490,26490,5487,3503,11550,9030,7508,7508,7508,6169,7034,11034,11034,1904,3319,3319,11128,11128,11128,11128,5977,4360,438,29673,29673,29673,29673,29673,5956,6108,4585,5492,9292,3341,7497,7497,13779,6669,17044,1302,14331,14331,14331,14331],\"yaxis\":\"y\"},{\"customdata\":[[\"11/22/63: A Novel\",\"Stephen King\"],[\"1984 (Signet Classics)\",\"George Orwell\"],[\"A Dance with Dragons (A Song of Ice and Fire)\",\"George R. R. Martin\"],[\"A Game of Thrones / A Clash of Kings / A Storm of Swords / A Feast of Crows / A Dance with Dragons\",\"George R. R. Martin\"],[\"A Gentleman in Moscow: A Novel\",\"Amor Towles\"],[\"A Man Called Ove: A Novel\",\"Fredrik Backman\"],[\"A Man Called Ove: A Novel\",\"Fredrik Backman\"],[\"A Wrinkle in Time (Time Quintet)\",\"Madeleine L'Engle\"],[\"All the Light We Cannot See\",\"Anthony Doerr\"],[\"All the Light We Cannot See\",\"Anthony Doerr\"],[\"Allegiant\",\"Veronica Roth\"],[\"And the Mountains Echoed\",\"Khaled Hosseini\"],[\"Breaking Dawn (The Twilight Saga, Book 4)\",\"Stephenie Meyer\"],[\"Brown Bear, Brown Bear, What Do You See?\",\"Bill Martin Jr.\"],[\"Brown Bear, Brown Bear, What Do You See?\",\"Bill Martin Jr.\"],[\"Cabin Fever (Diary of a Wimpy Kid, Book 6)\",\"Jeff Kinney\"],[\"Catching Fire (The Hunger Games)\",\"Suzanne Collins\"],[\"Catching Fire (The Hunger Games)\",\"Suzanne Collins\"],[\"Catching Fire (The Hunger Games)\",\"Suzanne Collins\"],[\"Crazy Rich Asians (Crazy Rich Asians Trilogy)\",\"Kevin Kwan\"],[\"Cutting for Stone\",\"Abraham Verghese\"],[\"Cutting for Stone\",\"Abraham Verghese\"],[\"Dead And Gone: A Sookie Stackhouse Novel (Sookie Stackhouse/True Blood)\",\"Charlaine Harris\"],[\"Dead in the Family (Sookie Stackhouse/True Blood, Book 10)\",\"Charlaine Harris\"],[\"Dead Reckoning (Sookie Stackhouse/True Blood, Book 11)\",\"Charlaine Harris\"],[\"Dear Zoo: A Lift-the-Flap Book\",\"Rod Campbell\"],[\"Dear Zoo: A Lift-the-Flap Book\",\"Rod Campbell\"],[\"Dear Zoo: A Lift-the-Flap Book\",\"Rod Campbell\"],[\"Dear Zoo: A Lift-the-Flap Book\",\"Rod Campbell\"],[\"Diary of a Wimpy Kid: Hard Luck, Book 8\",\"Jeff Kinney\"],[\"Diary of a Wimpy Kid: The Last Straw (Book 3)\",\"Jeff Kinney\"],[\"Diary of a Wimpy Kid: The Long Haul\",\"Jeff Kinney\"],[\"Divergent\",\"Veronica Roth\"],[\"Divergent\",\"Veronica Roth\"],[\"Divergent / Insurgent\",\"Veronica Roth\"],[\"Doctor Sleep: A Novel\",\"Stephen King\"],[\"Dog Days (Diary of a Wimpy Kid, Book 4) (Volume 4)\",\"Jeff Kinney\"],[\"Dog Man and Cat Kid: From the Creator of Captain Underpants (Dog Man #4)\",\"Dav Pilkey\"],[\"Dog Man: A Tale of Two Kitties: From the Creator of Captain Underpants (Dog Man #3)\",\"Dav Pilkey\"],[\"Dog Man: Brawl of the Wild: From the Creator of Captain Underpants (Dog Man #6)\",\"Dav Pilkey\"],[\"Dog Man: Brawl of the Wild: From the Creator of Captain Underpants (Dog Man #6)\",\"Dav Pilkey\"],[\"Dog Man: Fetch-22: From the Creator of Captain Underpants (Dog Man #8)\",\"Dav Pilkey\"],[\"Dog Man: For Whom the Ball Rolls: From the Creator of Captain Underpants (Dog Man #7)\",\"Dav Pilkey\"],[\"Dog Man: Lord of the Fleas: From the Creator of Captain Underpants (Dog Man #5)\",\"Dav Pilkey\"],[\"Double Down (Diary of a Wimpy Kid #11)\",\"Jeff Kinney\"],[\"Eclipse (Twilight Sagas)\",\"Stephenie Meyer\"],[\"Eclipse (Twilight)\",\"Stephenie Meyer\"],[\"Fahrenheit 451\",\"Ray Bradbury\"],[\"Fahrenheit 451\",\"Ray Bradbury\"],[\"Fantastic Beasts and Where to Find Them: The Original Screenplay (Harry Potter)\",\"J.K. Rowling\"],[\"Fifty Shades Darker\",\"E L James\"],[\"Fifty Shades Freed: Book Three of the Fifty Shades Trilogy (Fifty Shades of Grey Series) (English Edition)\",\"E L James\"],[\"Fifty Shades of Grey: Book One of the Fifty Shades Trilogy (Fifty Shades of Grey Series)\",\"E L James\"],[\"Fifty Shades of Grey: Book One of the Fifty Shades Trilogy (Fifty Shades of Grey Series)\",\"E L James\"],[\"Fifty Shades Trilogy (Fifty Shades of Grey / Fifty Shades Darker / Fifty Shades Freed)\",\"E L James\"],[\"Frozen (Little Golden Book)\",\"RH Disney\"],[\"Game of Thrones Boxed Set: A Game of Thrones/A Clash of Kings/A Storm of Swords/A Feast for Crows\",\"George R.R. Martin\"],[\"Game of Thrones Boxed Set: A Game of Thrones/A Clash of Kings/A Storm of Swords/A Feast for Crows\",\"George R.R. Martin\"],[\"Game of Thrones Boxed Set: A Game of Thrones/A Clash of Kings/A Storm of Swords/A Feast for Crows\",\"George R.R. Martin\"],[\"Giraffes Can't Dance\",\"Giles Andreae\"],[\"Giraffes Can't Dance\",\"Giles Andreae\"],[\"Giraffes Can't Dance\",\"Giles Andreae\"],[\"Giraffes Can't Dance\",\"Giles Andreae\"],[\"Giraffes Can't Dance\",\"Giles Andreae\"],[\"Go Set a Watchman: A Novel\",\"Harper Lee\"],[\"Go the F**k to Sleep\",\"Adam Mansbach\"],[\"Gone Girl\",\"Gillian Flynn\"],[\"Gone Girl\",\"Gillian Flynn\"],[\"Gone Girl\",\"Gillian Flynn\"],[\"Goodnight Moon\",\"Margaret Wise Brown\"],[\"Goodnight Moon\",\"Margaret Wise Brown\"],[\"Goodnight Moon\",\"Margaret Wise Brown\"],[\"Goodnight, Goodnight Construction Site (Hardcover Books for Toddlers, Preschool Books for Kids)\",\"Sherri Duskey Rinker\"],[\"Goodnight, Goodnight Construction Site (Hardcover Books for Toddlers, Preschool Books for Kids)\",\"Sherri Duskey Rinker\"],[\"Grey: Fifty Shades of Grey as Told by Christian (Fifty Shades of Grey Series)\",\"E L James\"],[\"Harry Potter and the Chamber of Secrets: The Illustrated Edition (Harry Potter, Book 2)\",\"J.K. Rowling\"],[\"Harry Potter and the Cursed Child, Parts 1 & 2, Special Rehearsal Edition Script\",\"J.K. Rowling\"],[\"Harry Potter and the Goblet of Fire: The Illustrated Edition (Harry Potter, Book 4) (4)\",\"J. K. Rowling\"],[\"Harry Potter and the Prisoner of Azkaban: The Illustrated Edition (Harry Potter, Book 3)\",\"J.K. Rowling\"],[\"Harry Potter and the Sorcerer's Stone: The Illustrated Edition (Harry Potter, Book 1)\",\"J.K. Rowling\"],[\"Harry Potter Paperback Box Set (Books 1-7)\",\"J. K. Rowling\"],[\"I, Alex Cross\",\"James Patterson\"],[\"If Animals Kissed Good Night\",\"Ann Whitford Paul\"],[\"If Animals Kissed Good Night\",\"Ann Whitford Paul\"],[\"If I Stay\",\"Gayle Forman\"],[\"Inferno\",\"Dan Brown\"],[\"Inheritance: Book IV (Inheritance Cycle)\",\"Christopher Paolini\"],[\"JOURNEY TO THE ICE P\",\"RH Disney\"],[\"Joyland (Hard Case Crime)\",\"Stephen King\"],[\"Last Week Tonight with John Oliver Presents A Day in the Life of Marlon Bundo (Better Bundo Book, LGBT Children\\u0092s Book)\",\"Jill Twiss\"],[\"Little Bee: A Novel\",\"Chris Cleave\"],[\"Little Blue Truck\",\"Alice Schertle\"],[\"Little Fires Everywhere\",\"Celeste Ng\"],[\"Looking for Alaska\",\"John Green\"],[\"Love You Forever\",\"Robert Munsch\"],[\"Love You Forever\",\"Robert Munsch\"],[\"Mockingjay (The Hunger Games)\",\"Suzanne Collins\"],[\"Mockingjay (The Hunger Games)\",\"Suzanne Collins\"],[\"Mockingjay (The Hunger Games)\",\"Suzanne Collins\"],[\"New Moon (The Twilight Saga)\",\"Stephenie Meyer\"],[\"Oh, the Places You'll Go!\",\"Dr. Seuss\"],[\"Oh, the Places You'll Go!\",\"Dr. Seuss\"],[\"Oh, the Places You'll Go!\",\"Dr. Seuss\"],[\"Oh, the Places You'll Go!\",\"Dr. Seuss\"],[\"Oh, the Places You'll Go!\",\"Dr. Seuss\"],[\"Oh, the Places You'll Go!\",\"Dr. Seuss\"],[\"Oh, the Places You'll Go!\",\"Dr. Seuss\"],[\"Oh, the Places You'll Go!\",\"Dr. Seuss\"],[\"Old School (Diary of a Wimpy Kid #10)\",\"Jeff Kinney\"],[\"Olive Kitteridge\",\"Elizabeth Strout\"],[\"Origin: A Novel (Robert Langdon)\",\"Dan Brown\"],[\"Orphan Train\",\"Christina Baker Kline\"],[\"Percy Jackson and the Olympians Paperback Boxed Set (Books 1-3)\",\"Rick Riordan\"],[\"Player's Handbook (Dungeons & Dragons)\",\"Wizards RPG Team\"],[\"Player's Handbook (Dungeons & Dragons)\",\"Wizards RPG Team\"],[\"Player's Handbook (Dungeons & Dragons)\",\"Wizards RPG Team\"],[\"Pok\\u00e9mon Deluxe Essential Handbook: The Need-to-Know Stats and Facts on Over 700 Pok\\u00e9mon\",\"Scholastic\"],[\"Puppy Birthday to You! (Paw Patrol) (Little Golden Book)\",\"Golden Books\"],[\"Ready Player One: A Novel\",\"Ernest Cline\"],[\"Ready Player One: A Novel\",\"Ernest Cline\"],[\"Rush Revere and the Brave Pilgrims: Time-Travel Adventures with Exceptional Americans (1)\",\"Rush Limbaugh\"],[\"Rush Revere and the First Patriots: Time-Travel Adventures With Exceptional Americans (2)\",\"Rush Limbaugh\"],[\"Sarah's Key\",\"Tatiana de Rosnay\"],[\"Sookie Stackhouse\",\"Charlaine Harris\"],[\"Strange Planet (Strange Planet Series)\",\"Nathan W. Pyle\"],[\"Sycamore Row (Jake Brigance)\",\"John Grisham\"],[\"The Alchemist\",\"Paulo Coelho\"],[\"The Art of Racing in the Rain: A Novel\",\"Garth Stein\"],[\"The Art of Racing in the Rain: A Novel\",\"Garth Stein\"],[\"The Blood of Olympus (The Heroes of Olympus (5))\",\"Rick Riordan\"],[\"The Book Thief\",\"Markus Zusak\"],[\"The Book Thief\",\"Markus Zusak\"],[\"The Book with No Pictures\",\"B. J. Novak\"],[\"The Book with No Pictures\",\"B. J. Novak\"],[\"The Casual Vacancy\",\"J.K. Rowling\"],[\"The Confession: A Novel\",\"John Grisham\"],[\"The Day the Crayons Quit\",\"Drew Daywalt\"],[\"The Day the Crayons Quit\",\"Drew Daywalt\"],[\"The Day the Crayons Quit\",\"Drew Daywalt\"],[\"The Elegance of the Hedgehog\",\"Muriel Barbery\"],[\"The Fault in Our Stars\",\"John Green\"],[\"The Fault in Our Stars\",\"John Green\"],[\"The Fault in Our Stars\",\"John Green\"],[\"The Fault in Our Stars\",\"John Green\"],[\"The Getaway\",\"Jeff Kinney\"],[\"The Girl on the Train\",\"Paula Hawkins\"],[\"The Girl on the Train\",\"Paula Hawkins\"],[\"The Girl Who Kicked the Hornet's Nest (Millennium Trilogy)\",\"Stieg Larsson\"],[\"The Girl Who Kicked the Hornet's Nest (Millennium Trilogy)\",\"Stieg Larsson\"],[\"The Girl Who Played with Fire (Millennium Series)\",\"Stieg Larsson\"],[\"The Girl Who Played with Fire (Millennium)\",\"Stieg Larsson\"],[\"The Girl with the Dragon Tattoo (Millennium Series)\",\"Stieg Larsson\"],[\"The Girl with the Dragon Tattoo (Millennium Series)\",\"Stieg Larsson\"],[\"The Going-To-Bed Book\",\"Sandra Boynton\"],[\"The Going-To-Bed Book\",\"Sandra Boynton\"],[\"The Goldfinch: A Novel (Pulitzer Prize for Fiction)\",\"Donna Tartt\"],[\"The Goldfinch: A Novel (Pulitzer Prize for Fiction)\",\"Donna Tartt\"],[\"The Great Gatsby\",\"F. Scott Fitzgerald\"],[\"The Great Gatsby\",\"F. Scott Fitzgerald\"],[\"The Great Gatsby\",\"F. Scott Fitzgerald\"],[\"The Guardians: A Novel\",\"John Grisham\"],[\"The Guernsey Literary and Potato Peel Pie Society\",\"Mary Ann Shaffer\"],[\"The Handmaid's Tale\",\"Margaret Atwood\"],[\"The Harbinger: The Ancient Mystery that Holds the Secret of America's Future\",\"Jonathan Cahn\"],[\"The Hate U Give\",\"Angie Thomas\"],[\"The Help\",\"Kathryn Stockett\"],[\"The Help\",\"Kathryn Stockett\"],[\"The Help\",\"Kathryn Stockett\"],[\"The Help\",\"Kathryn Stockett\"],[\"The House of Hades (Heroes of Olympus, Book 4)\",\"Rick Riordan\"],[\"The Hunger Games\",\"Suzanne Collins\"],[\"The Hunger Games (Book 1)\",\"Suzanne Collins\"],[\"The Hunger Games (Book 1)\",\"Suzanne Collins\"],[\"The Hunger Games Trilogy Boxed Set (1)\",\"Suzanne Collins\"],[\"The Hunger Games Trilogy Boxed Set (1)\",\"Suzanne Collins\"],[\"The Last Olympian (Percy Jackson and the Olympians, Book 5)\",\"Rick Riordan\"],[\"The Last Olympian (Percy Jackson and the Olympians, Book 5)\",\"Rick Riordan\"],[\"The Legend of Zelda: Hyrule Historia\",\"Patrick Thorpe\"],[\"The Litigators\",\"John Grisham\"],[\"The Lost Hero (Heroes of Olympus, Book 1)\",\"Rick Riordan\"],[\"The Lost Symbol\",\"Dan Brown\"],[\"The Mark of Athena (Heroes of Olympus, Book 3)\",\"Rick Riordan\"],[\"The Martian\",\"Andy Weir\"],[\"The Maze Runner (Book 1)\",\"James Dashner\"],[\"The Meltdown (Diary of a Wimpy Kid Book 13)\",\"Jeff Kinney\"],[\"The Nightingale: A Novel\",\"Kristin Hannah\"],[\"The Nightingale: A Novel\",\"Kristin Hannah\"],[\"The Paris Wife: A Novel\",\"Paula McLain\"],[\"The Pout-Pout Fish\",\"Deborah Diesen\"],[\"The Pout-Pout Fish\",\"Deborah Diesen\"],[\"The President Is Missing: A Novel\",\"James Patterson\"],[\"The Racketeer\",\"John Grisham\"],[\"The Red Pyramid (The Kane Chronicles, Book 1)\",\"Rick Riordan\"],[\"The Serpent's Shadow (The Kane Chronicles, Book 3)\",\"Rick Riordan\"],[\"The Shack: Where Tragedy Confronts Eternity\",\"William P. Young\"],[\"The Shack: Where Tragedy Confronts Eternity\",\"William P. Young\"],[\"The Short Second Life of Bree Tanner: An Eclipse Novella (The Twilight Saga)\",\"Stephenie Meyer\"],[\"The Silent Patient\",\"Alex Michaelides\"],[\"The Son of Neptune (Heroes of Olympus, Book 2)\",\"Rick Riordan\"],[\"The Third Wheel (Diary of a Wimpy Kid, Book 7)\",\"Jeff Kinney\"],[\"The Throne of Fire (The Kane Chronicles, Book 2)\",\"Rick Riordan\"],[\"The Time Traveler's Wife\",\"Audrey Niffenegger\"],[\"The Twilight Saga Collection\",\"Stephenie Meyer\"],[\"The Ugly Truth (Diary of a Wimpy Kid, Book 5)\",\"Jeff Kinney\"],[\"The Very Hungry Caterpillar\",\"Eric Carle\"],[\"The Very Hungry Caterpillar\",\"Eric Carle\"],[\"The Very Hungry Caterpillar\",\"Eric Carle\"],[\"The Very Hungry Caterpillar\",\"Eric Carle\"],[\"The Very Hungry Caterpillar\",\"Eric Carle\"],[\"The Very Hungry Caterpillar\",\"Eric Carle\"],[\"The Very Hungry Caterpillar\",\"Eric Carle\"],[\"The Wonderful Things You Will Be\",\"Emily Winfield Martin\"],[\"The Wonderful Things You Will Be\",\"Emily Winfield Martin\"],[\"The Wonderful Things You Will Be\",\"Emily Winfield Martin\"],[\"The Wonderful Things You Will Be\",\"Emily Winfield Martin\"],[\"The Wonky Donkey\",\"Craig Smith\"],[\"The Wonky Donkey\",\"Craig Smith\"],[\"Thirteen Reasons Why\",\"Jay Asher\"],[\"To Kill a Mockingbird\",\"Harper Lee\"],[\"To Kill a Mockingbird\",\"Harper Lee\"],[\"To Kill a Mockingbird\",\"Harper Lee\"],[\"To Kill a Mockingbird\",\"Harper Lee\"],[\"To Kill a Mockingbird\",\"Harper Lee\"],[\"Towers of Midnight (Wheel of Time, Book Thirteen)\",\"Robert Jordan\"],[\"Twilight (The Twilight Saga, Book 1)\",\"Stephenie Meyer\"],[\"Ultimate Sticker Book: Frozen: More Than 60 Reusable Full-Color Stickers\",\"DK\"],[\"Under the Dome: A Novel\",\"Stephen King\"],[\"Watchmen\",\"Alan Moore\"],[\"Water for Elephants: A Novel\",\"Sara Gruen\"],[\"What Pet Should I Get? (Classic Seuss)\",\"Dr. Seuss\"],[\"What Should Danny Do? (The Power to Choose Series)\",\"Adir Levy\"],[\"Where the Crawdads Sing\",\"Delia Owens\"],[\"Where the Wild Things Are\",\"Maurice Sendak\"],[\"Winter of the World: Book Two of the Century Trilogy\",\"Ken Follett\"],[\"Wonder\",\"R. J. Palacio\"],[\"Wonder\",\"R. J. Palacio\"],[\"Wonder\",\"R. J. Palacio\"],[\"Wonder\",\"R. J. Palacio\"],[\"Wonder\",\"R. J. Palacio\"],[\"Wrecking Ball (Diary of a Wimpy Kid Book 14)\",\"Jeff Kinney\"]],\"hovertemplate\":\"Genre=Fiction<br>Year=%{x}<br>Reviews=%{y}<br>Name=%{customdata[0]}<br>Author=%{customdata[1]}<extra></extra>\",\"legendgroup\":\"Fiction\",\"marker\":{\"color\":\"#EF553B\",\"symbol\":\"circle\"},\"mode\":\"markers\",\"name\":\"Fiction\",\"orientation\":\"v\",\"showlegend\":true,\"type\":\"scatter\",\"x\":[2011,2017,2011,2014,2017,2016,2017,2018,2014,2015,2013,2013,2009,2017,2019,2011,2010,2011,2012,2018,2010,2011,2009,2010,2011,2015,2016,2017,2018,2013,2009,2014,2013,2014,2014,2013,2009,2018,2017,2018,2019,2019,2019,2018,2016,2009,2009,2016,2018,2016,2012,2012,2012,2013,2012,2014,2011,2012,2013,2015,2016,2017,2018,2019,2015,2011,2012,2013,2014,2017,2018,2019,2012,2013,2015,2016,2016,2019,2017,2016,2016,2009,2017,2019,2014,2013,2011,2014,2013,2018,2010,2014,2018,2014,2014,2015,2010,2011,2012,2009,2012,2013,2014,2015,2016,2017,2018,2019,2015,2009,2017,2014,2010,2017,2018,2019,2016,2017,2017,2018,2013,2014,2010,2009,2019,2013,2014,2010,2011,2014,2013,2014,2014,2015,2012,2010,2013,2014,2015,2009,2012,2013,2014,2014,2017,2015,2016,2010,2011,2010,2009,2009,2010,2016,2017,2013,2014,2012,2013,2014,2019,2009,2017,2012,2018,2009,2010,2011,2011,2013,2010,2011,2012,2011,2012,2009,2010,2013,2011,2010,2009,2012,2015,2014,2018,2015,2016,2011,2017,2018,2018,2012,2010,2012,2009,2017,2010,2019,2011,2012,2011,2009,2009,2010,2013,2014,2015,2016,2017,2018,2019,2016,2017,2018,2019,2018,2019,2017,2013,2014,2015,2016,2019,2010,2009,2014,2009,2009,2011,2015,2019,2019,2009,2012,2013,2014,2015,2016,2017,2019],\"xaxis\":\"x\",\"y\":[2052,21424,12643,19735,19699,23848,23848,5153,36348,36348,6310,12159,9769,14344,14344,4505,22614,22614,22614,6143,4866,4866,1541,1924,2094,10922,10922,10922,10922,6812,3837,6540,27098,27098,17684,15845,3181,5062,4786,7235,7235,12619,9089,5470,5118,5505,5505,10721,10721,4370,23631,20262,47265,47265,13964,3642,5594,5594,5594,14038,14038,14038,14038,14038,14982,9568,57271,57271,57271,8837,8837,8837,7038,7038,25624,19622,23973,7758,3146,10052,13471,1320,16643,16643,7153,29651,5299,978,4748,11881,1467,1884,25706,8491,18613,18613,26741,26741,26741,5680,21834,21834,21834,21834,21834,21834,21834,21834,6169,4519,18904,21930,548,16990,16990,16990,3503,4757,22536,22536,7150,3836,3619,973,9382,23114,35799,11813,11813,6600,23148,23148,8081,8081,9372,3523,8922,8922,8922,1859,50482,50482,50482,50482,5836,79446,79446,7747,7747,7251,7251,10559,10559,5249,5249,33844,33844,11616,11616,11616,13609,8587,29442,11098,9947,13871,13871,13871,13871,6982,32122,32122,32122,16949,16949,4628,4628,5396,6222,4506,8747,6247,39459,10101,5898,49288,49288,3759,9784,9784,10191,14493,2186,2091,19720,19720,2122,27536,4290,6377,1463,3759,3801,3796,19546,19546,19546,19546,19546,19546,19546,8842,8842,8842,8842,30183,30183,7932,26234,26234,26234,26234,26234,2282,11676,2586,6740,3829,8958,1873,8170,87841,9967,10760,21625,21625,21625,21625,21625,9413],\"yaxis\":\"y\"}],                        {\"legend\":{\"title\":{\"text\":\"Genre\"},\"tracegroupgap\":0},\"template\":{\"data\":{\"bar\":[{\"error_x\":{\"color\":\"#2a3f5f\"},\"error_y\":{\"color\":\"#2a3f5f\"},\"marker\":{\"line\":{\"color\":\"#E5ECF6\",\"width\":0.5},\"pattern\":{\"fillmode\":\"overlay\",\"size\":10,\"solidity\":0.2}},\"type\":\"bar\"}],\"barpolar\":[{\"marker\":{\"line\":{\"color\":\"#E5ECF6\",\"width\":0.5},\"pattern\":{\"fillmode\":\"overlay\",\"size\":10,\"solidity\":0.2}},\"type\":\"barpolar\"}],\"carpet\":[{\"aaxis\":{\"endlinecolor\":\"#2a3f5f\",\"gridcolor\":\"white\",\"linecolor\":\"white\",\"minorgridcolor\":\"white\",\"startlinecolor\":\"#2a3f5f\"},\"baxis\":{\"endlinecolor\":\"#2a3f5f\",\"gridcolor\":\"white\",\"linecolor\":\"white\",\"minorgridcolor\":\"white\",\"startlinecolor\":\"#2a3f5f\"},\"type\":\"carpet\"}],\"choropleth\":[{\"colorbar\":{\"outlinewidth\":0,\"ticks\":\"\"},\"type\":\"choropleth\"}],\"contour\":[{\"colorbar\":{\"outlinewidth\":0,\"ticks\":\"\"},\"colorscale\":[[0.0,\"#0d0887\"],[0.1111111111111111,\"#46039f\"],[0.2222222222222222,\"#7201a8\"],[0.3333333333333333,\"#9c179e\"],[0.4444444444444444,\"#bd3786\"],[0.5555555555555556,\"#d8576b\"],[0.6666666666666666,\"#ed7953\"],[0.7777777777777778,\"#fb9f3a\"],[0.8888888888888888,\"#fdca26\"],[1.0,\"#f0f921\"]],\"type\":\"contour\"}],\"contourcarpet\":[{\"colorbar\":{\"outlinewidth\":0,\"ticks\":\"\"},\"type\":\"contourcarpet\"}],\"heatmap\":[{\"colorbar\":{\"outlinewidth\":0,\"ticks\":\"\"},\"colorscale\":[[0.0,\"#0d0887\"],[0.1111111111111111,\"#46039f\"],[0.2222222222222222,\"#7201a8\"],[0.3333333333333333,\"#9c179e\"],[0.4444444444444444,\"#bd3786\"],[0.5555555555555556,\"#d8576b\"],[0.6666666666666666,\"#ed7953\"],[0.7777777777777778,\"#fb9f3a\"],[0.8888888888888888,\"#fdca26\"],[1.0,\"#f0f921\"]],\"type\":\"heatmap\"}],\"heatmapgl\":[{\"colorbar\":{\"outlinewidth\":0,\"ticks\":\"\"},\"colorscale\":[[0.0,\"#0d0887\"],[0.1111111111111111,\"#46039f\"],[0.2222222222222222,\"#7201a8\"],[0.3333333333333333,\"#9c179e\"],[0.4444444444444444,\"#bd3786\"],[0.5555555555555556,\"#d8576b\"],[0.6666666666666666,\"#ed7953\"],[0.7777777777777778,\"#fb9f3a\"],[0.8888888888888888,\"#fdca26\"],[1.0,\"#f0f921\"]],\"type\":\"heatmapgl\"}],\"histogram\":[{\"marker\":{\"pattern\":{\"fillmode\":\"overlay\",\"size\":10,\"solidity\":0.2}},\"type\":\"histogram\"}],\"histogram2d\":[{\"colorbar\":{\"outlinewidth\":0,\"ticks\":\"\"},\"colorscale\":[[0.0,\"#0d0887\"],[0.1111111111111111,\"#46039f\"],[0.2222222222222222,\"#7201a8\"],[0.3333333333333333,\"#9c179e\"],[0.4444444444444444,\"#bd3786\"],[0.5555555555555556,\"#d8576b\"],[0.6666666666666666,\"#ed7953\"],[0.7777777777777778,\"#fb9f3a\"],[0.8888888888888888,\"#fdca26\"],[1.0,\"#f0f921\"]],\"type\":\"histogram2d\"}],\"histogram2dcontour\":[{\"colorbar\":{\"outlinewidth\":0,\"ticks\":\"\"},\"colorscale\":[[0.0,\"#0d0887\"],[0.1111111111111111,\"#46039f\"],[0.2222222222222222,\"#7201a8\"],[0.3333333333333333,\"#9c179e\"],[0.4444444444444444,\"#bd3786\"],[0.5555555555555556,\"#d8576b\"],[0.6666666666666666,\"#ed7953\"],[0.7777777777777778,\"#fb9f3a\"],[0.8888888888888888,\"#fdca26\"],[1.0,\"#f0f921\"]],\"type\":\"histogram2dcontour\"}],\"mesh3d\":[{\"colorbar\":{\"outlinewidth\":0,\"ticks\":\"\"},\"type\":\"mesh3d\"}],\"parcoords\":[{\"line\":{\"colorbar\":{\"outlinewidth\":0,\"ticks\":\"\"}},\"type\":\"parcoords\"}],\"pie\":[{\"automargin\":true,\"type\":\"pie\"}],\"scatter\":[{\"marker\":{\"colorbar\":{\"outlinewidth\":0,\"ticks\":\"\"}},\"type\":\"scatter\"}],\"scatter3d\":[{\"line\":{\"colorbar\":{\"outlinewidth\":0,\"ticks\":\"\"}},\"marker\":{\"colorbar\":{\"outlinewidth\":0,\"ticks\":\"\"}},\"type\":\"scatter3d\"}],\"scattercarpet\":[{\"marker\":{\"colorbar\":{\"outlinewidth\":0,\"ticks\":\"\"}},\"type\":\"scattercarpet\"}],\"scattergeo\":[{\"marker\":{\"colorbar\":{\"outlinewidth\":0,\"ticks\":\"\"}},\"type\":\"scattergeo\"}],\"scattergl\":[{\"marker\":{\"colorbar\":{\"outlinewidth\":0,\"ticks\":\"\"}},\"type\":\"scattergl\"}],\"scattermapbox\":[{\"marker\":{\"colorbar\":{\"outlinewidth\":0,\"ticks\":\"\"}},\"type\":\"scattermapbox\"}],\"scatterpolar\":[{\"marker\":{\"colorbar\":{\"outlinewidth\":0,\"ticks\":\"\"}},\"type\":\"scatterpolar\"}],\"scatterpolargl\":[{\"marker\":{\"colorbar\":{\"outlinewidth\":0,\"ticks\":\"\"}},\"type\":\"scatterpolargl\"}],\"scatterternary\":[{\"marker\":{\"colorbar\":{\"outlinewidth\":0,\"ticks\":\"\"}},\"type\":\"scatterternary\"}],\"surface\":[{\"colorbar\":{\"outlinewidth\":0,\"ticks\":\"\"},\"colorscale\":[[0.0,\"#0d0887\"],[0.1111111111111111,\"#46039f\"],[0.2222222222222222,\"#7201a8\"],[0.3333333333333333,\"#9c179e\"],[0.4444444444444444,\"#bd3786\"],[0.5555555555555556,\"#d8576b\"],[0.6666666666666666,\"#ed7953\"],[0.7777777777777778,\"#fb9f3a\"],[0.8888888888888888,\"#fdca26\"],[1.0,\"#f0f921\"]],\"type\":\"surface\"}],\"table\":[{\"cells\":{\"fill\":{\"color\":\"#EBF0F8\"},\"line\":{\"color\":\"white\"}},\"header\":{\"fill\":{\"color\":\"#C8D4E3\"},\"line\":{\"color\":\"white\"}},\"type\":\"table\"}]},\"layout\":{\"annotationdefaults\":{\"arrowcolor\":\"#2a3f5f\",\"arrowhead\":0,\"arrowwidth\":1},\"autotypenumbers\":\"strict\",\"coloraxis\":{\"colorbar\":{\"outlinewidth\":0,\"ticks\":\"\"}},\"colorscale\":{\"diverging\":[[0,\"#8e0152\"],[0.1,\"#c51b7d\"],[0.2,\"#de77ae\"],[0.3,\"#f1b6da\"],[0.4,\"#fde0ef\"],[0.5,\"#f7f7f7\"],[0.6,\"#e6f5d0\"],[0.7,\"#b8e186\"],[0.8,\"#7fbc41\"],[0.9,\"#4d9221\"],[1,\"#276419\"]],\"sequential\":[[0.0,\"#0d0887\"],[0.1111111111111111,\"#46039f\"],[0.2222222222222222,\"#7201a8\"],[0.3333333333333333,\"#9c179e\"],[0.4444444444444444,\"#bd3786\"],[0.5555555555555556,\"#d8576b\"],[0.6666666666666666,\"#ed7953\"],[0.7777777777777778,\"#fb9f3a\"],[0.8888888888888888,\"#fdca26\"],[1.0,\"#f0f921\"]],\"sequentialminus\":[[0.0,\"#0d0887\"],[0.1111111111111111,\"#46039f\"],[0.2222222222222222,\"#7201a8\"],[0.3333333333333333,\"#9c179e\"],[0.4444444444444444,\"#bd3786\"],[0.5555555555555556,\"#d8576b\"],[0.6666666666666666,\"#ed7953\"],[0.7777777777777778,\"#fb9f3a\"],[0.8888888888888888,\"#fdca26\"],[1.0,\"#f0f921\"]]},\"colorway\":[\"#636efa\",\"#EF553B\",\"#00cc96\",\"#ab63fa\",\"#FFA15A\",\"#19d3f3\",\"#FF6692\",\"#B6E880\",\"#FF97FF\",\"#FECB52\"],\"font\":{\"color\":\"#2a3f5f\"},\"geo\":{\"bgcolor\":\"white\",\"lakecolor\":\"white\",\"landcolor\":\"#E5ECF6\",\"showlakes\":true,\"showland\":true,\"subunitcolor\":\"white\"},\"hoverlabel\":{\"align\":\"left\"},\"hovermode\":\"closest\",\"mapbox\":{\"style\":\"light\"},\"paper_bgcolor\":\"white\",\"plot_bgcolor\":\"#E5ECF6\",\"polar\":{\"angularaxis\":{\"gridcolor\":\"white\",\"linecolor\":\"white\",\"ticks\":\"\"},\"bgcolor\":\"#E5ECF6\",\"radialaxis\":{\"gridcolor\":\"white\",\"linecolor\":\"white\",\"ticks\":\"\"}},\"scene\":{\"xaxis\":{\"backgroundcolor\":\"#E5ECF6\",\"gridcolor\":\"white\",\"gridwidth\":2,\"linecolor\":\"white\",\"showbackground\":true,\"ticks\":\"\",\"zerolinecolor\":\"white\"},\"yaxis\":{\"backgroundcolor\":\"#E5ECF6\",\"gridcolor\":\"white\",\"gridwidth\":2,\"linecolor\":\"white\",\"showbackground\":true,\"ticks\":\"\",\"zerolinecolor\":\"white\"},\"zaxis\":{\"backgroundcolor\":\"#E5ECF6\",\"gridcolor\":\"white\",\"gridwidth\":2,\"linecolor\":\"white\",\"showbackground\":true,\"ticks\":\"\",\"zerolinecolor\":\"white\"}},\"shapedefaults\":{\"line\":{\"color\":\"#2a3f5f\"}},\"ternary\":{\"aaxis\":{\"gridcolor\":\"white\",\"linecolor\":\"white\",\"ticks\":\"\"},\"baxis\":{\"gridcolor\":\"white\",\"linecolor\":\"white\",\"ticks\":\"\"},\"bgcolor\":\"#E5ECF6\",\"caxis\":{\"gridcolor\":\"white\",\"linecolor\":\"white\",\"ticks\":\"\"}},\"title\":{\"x\":0.05},\"xaxis\":{\"automargin\":true,\"gridcolor\":\"white\",\"linecolor\":\"white\",\"ticks\":\"\",\"title\":{\"standoff\":15},\"zerolinecolor\":\"white\",\"zerolinewidth\":2},\"yaxis\":{\"automargin\":true,\"gridcolor\":\"white\",\"linecolor\":\"white\",\"ticks\":\"\",\"title\":{\"standoff\":15},\"zerolinecolor\":\"white\",\"zerolinewidth\":2}}},\"title\":{\"text\":\"Number of Reviews in Each Year\"},\"xaxis\":{\"anchor\":\"y\",\"domain\":[0.0,1.0],\"title\":{\"text\":\"Year\"}},\"yaxis\":{\"anchor\":\"x\",\"domain\":[0.0,1.0],\"title\":{\"text\":\"Reviews\"}}},                        {\"responsive\": true}                    ).then(function(){\n",
       "                            \n",
       "var gd = document.getElementById('024c29c1-5bc1-4ebf-9bdf-6eb26a535627');\n",
       "var x = new MutationObserver(function (mutations, observer) {{\n",
       "        var display = window.getComputedStyle(gd).display;\n",
       "        if (!display || display === 'none') {{\n",
       "            console.log([gd, 'removed!']);\n",
       "            Plotly.purge(gd);\n",
       "            observer.disconnect();\n",
       "        }}\n",
       "}});\n",
       "\n",
       "// Listen for the removal of the full notebook cells\n",
       "var notebookContainer = gd.closest('#notebook-container');\n",
       "if (notebookContainer) {{\n",
       "    x.observe(notebookContainer, {childList: true});\n",
       "}}\n",
       "\n",
       "// Listen for the clearing of the current output cell\n",
       "var outputEl = gd.closest('.output');\n",
       "if (outputEl) {{\n",
       "    x.observe(outputEl, {childList: true});\n",
       "}}\n",
       "\n",
       "                        })                };                });            </script>        </div>"
      ]
     },
     "metadata": {},
     "output_type": "display_data"
    }
   ],
   "source": [
    "fig = px.scatter(df, x='Year', y='Reviews', title='Number of Reviews in Each Year', color='Genre',hover_data = df[['Name','Author']])\n",
    "fig.show()"
   ]
  },
  {
   "cell_type": "markdown",
   "id": "24be9d0c",
   "metadata": {
    "papermill": {
     "duration": 0.053267,
     "end_time": "2021-07-10T21:54:22.365542",
     "exception": false,
     "start_time": "2021-07-10T21:54:22.312275",
     "status": "completed"
    },
    "tags": []
   },
   "source": [
    "- Quite same distribution by each year, especialy after 2010.\n",
    "- Several outliers affect the distribution, as we have mentioned before."
   ]
  },
  {
   "cell_type": "markdown",
   "id": "693ff01a",
   "metadata": {
    "papermill": {
     "duration": 0.052488,
     "end_time": "2021-07-10T21:54:22.470935",
     "exception": false,
     "start_time": "2021-07-10T21:54:22.418447",
     "status": "completed"
    },
    "tags": []
   },
   "source": [
    "#### **User Rating in Each Year**"
   ]
  },
  {
   "cell_type": "code",
   "execution_count": 22,
   "id": "eaa52c2e",
   "metadata": {
    "_kg_hide-input": true,
    "execution": {
     "iopub.execute_input": "2021-07-10T21:54:22.586701Z",
     "iopub.status.busy": "2021-07-10T21:54:22.581941Z",
     "iopub.status.idle": "2021-07-10T21:54:22.652740Z",
     "shell.execute_reply": "2021-07-10T21:54:22.652322Z",
     "shell.execute_reply.started": "2021-07-10T21:51:05.571966Z"
    },
    "papermill": {
     "duration": 0.129809,
     "end_time": "2021-07-10T21:54:22.652843",
     "exception": false,
     "start_time": "2021-07-10T21:54:22.523034",
     "status": "completed"
    },
    "tags": []
   },
   "outputs": [
    {
     "data": {
      "text/html": [
       "<div>                            <div id=\"362f8212-cc6f-4553-957b-5351f2d9382e\" class=\"plotly-graph-div\" style=\"height:525px; width:100%;\"></div>            <script type=\"text/javascript\">                require([\"plotly\"], function(Plotly) {                    window.PLOTLYENV=window.PLOTLYENV || {};                                    if (document.getElementById(\"362f8212-cc6f-4553-957b-5351f2d9382e\")) {                    Plotly.newPlot(                        \"362f8212-cc6f-4553-957b-5351f2d9382e\",                        [{\"customdata\":[[\"10-Day Green Smoothie Cleanse\",\"JJ Smith\"],[\"12 Rules for Life: An Antidote to Chaos\",\"Jordan B. Peterson\"],[\"5,000 Awesome Facts (About Everything!) (National Geographic Kids)\",\"National Geographic Kids\"],[\"A Higher Loyalty: Truth, Lies, and Leadership\",\"James Comey\"],[\"A Patriot's History of the United States: From Columbus's Great Discovery to the War on Terror\",\"Larry Schweikart\"],[\"A Stolen Life: A Memoir\",\"Jaycee Dugard\"],[\"Act Like a Lady, Think Like a Man: What Men Really Think About Love, Relationships, Intimacy, and Commitment\",\"Steve Harvey\"],[\"Adult Coloring Book Designs: Stress Relief Coloring Book: Garden Designs, Mandalas, Animals, and Paisley Patterns\",\"Adult Coloring Book Designs\"],[\"Adult Coloring Book: Stress Relieving Animal Designs\",\"Blue Star Coloring\"],[\"Adult Coloring Book: Stress Relieving Patterns\",\"Blue Star Coloring\"],[\"Adult Coloring Books: A Coloring Book for Adults Featuring Mandalas and Henna Inspired Flowers, Animals, and Paisley\\u2026\",\"Coloring Books for Adults\"],[\"Alexander Hamilton\",\"Ron Chernow\"],[\"American Sniper: The Autobiography of the Most Lethal Sniper in U.S. Military History\",\"Chris Kyle\"],[\"Arguing with Idiots: How to Stop Small Minds and Big Government\",\"Glenn Beck\"],[\"Astrophysics for People in a Hurry\",\"Neil deGrasse Tyson\"],[\"Autobiography of Mark Twain, Vol. 1\",\"Mark Twain\"],[\"Baby Touch and Feel: Animals\",\"DK\"],[\"Balance (Angie's Extreme Stress Menders)\",\"Angie Grace\"],[\"Barefoot Contessa Foolproof: Recipes You Can Trust: A Cookbook\",\"Ina Garten\"],[\"Barefoot Contessa, How Easy Is That?: Fabulous Recipes & Easy Tips\",\"Ina Garten\"],[\"Becoming\",\"Michelle Obama\"],[\"Becoming\",\"Michelle Obama\"],[\"Being Mortal: Medicine and What Matters in the End\",\"Atul Gawande\"],[\"Between the World and Me\",\"Ta-Nehisi Coates\"],[\"Between the World and Me\",\"Ta-Nehisi Coates\"],[\"Born to Run\",\"Bruce Springsteen\"],[\"Broke: The Plan to Restore Our Trust, Truth and Treasure\",\"Glenn Beck\"],[\"Calm the F*ck Down: An Irreverent Adult Coloring Book (Irreverent Book Series)\",\"Sasha O'Hara\"],[\"Can't Hurt Me: Master Your Mind and Defy the Odds\",\"David Goggins\"],[\"Capital in the Twenty First Century\",\"Thomas Piketty\"],[\"Cravings: Recipes for All the Food You Want to Eat: A Cookbook\",\"Chrissy Teigen\"],[\"Crazy Love: Overwhelmed by a Relentless God\",\"Francis Chan\"],[\"Crazy Love: Overwhelmed by a Relentless God\",\"Francis Chan\"],[\"Crazy Love: Overwhelmed by a Relentless God\",\"Francis Chan\"],[\"Creative Haven Creative Cats Coloring Book (Adult Coloring)\",\"Marjorie Sarnat\"],[\"Creative Haven Owls Coloring Book (Adult Coloring)\",\"Marjorie Sarnat\"],[\"Daring Greatly: How the Courage to Be Vulnerable Transforms the Way We Live, Love, Parent, and Lead\",\"Brene\\u0301 Brown\"],[\"David and Goliath: Underdogs, Misfits, and the Art of Battling Giants\",\"Malcolm Gladwell\"],[\"Decision Points\",\"George W. Bush\"],[\"Delivering Happiness: A Path to Profits, Passion, and Purpose\",\"Tony Hsieh\"],[\"Diagnostic and Statistical Manual of Mental Disorders, 5th Edition: DSM-5\",\"American Psychiatric Association\"],[\"Diagnostic and Statistical Manual of Mental Disorders, 5th Edition: DSM-5\",\"American Psychiatric Association\"],[\"Difficult Riddles For Smart Kids: 300 Difficult Riddles And Brain Teasers Families Will Love (Books for Smart Kids)\",\"M Prefontaine\"],[\"Divine Soul Mind Body Healing and Transmission System: The Divine Way to Heal You, Humanity, Mother Earth, and All\\u2026\",\"Zhi Gang Sha\"],[\"Dover Creative Haven Art Nouveau Animal Designs Coloring Book (Creative Haven Coloring Books)\",\"Marty Noble\"],[\"Drive: The Surprising Truth About What Motivates Us\",\"Daniel H. Pink\"],[\"Eat This Not That! Supermarket Survival Guide: The No-Diet Weight Loss Solution\",\"David Zinczenko\"],[\"Eat This, Not That! Thousands of Simple Food Swaps that Can Save You 10, 20, 30 Pounds--or More!\",\"David Zinczenko\"],[\"Eat to Live: The Amazing Nutrient-Rich Program for Fast and Sustained Weight Loss, Revised Edition\",\"Joel Fuhrman MD\"],[\"Eat to Live: The Amazing Nutrient-Rich Program for Fast and Sustained Weight Loss, Revised Edition\",\"Joel Fuhrman MD\"],[\"Educated: A Memoir\",\"Tara Westover\"],[\"Educated: A Memoir\",\"Tara Westover\"],[\"Enchanted Forest: An Inky Quest and Coloring book (Activity Books, Mindfulness and Meditation, Illustrated Floral Prints\\u2026\",\"Johanna Basford\"],[\"Fear: Trump in the White House\",\"Bob Woodward\"],[\"Fire and Fury: Inside the Trump White House\",\"Michael Wolff\"],[\"First 100 Words\",\"Roger Priddy\"],[\"First 100 Words\",\"Roger Priddy\"],[\"First 100 Words\",\"Roger Priddy\"],[\"First 100 Words\",\"Roger Priddy\"],[\"First 100 Words\",\"Roger Priddy\"],[\"Food Rules: An Eater's Manual\",\"Michael Pollan\"],[\"Game Change: Obama and the Clintons, McCain and Palin, and the Race of a Lifetime\",\"John Heilemann\"],[\"George Washington's Sacred Fire\",\"Peter A. Lillback\"],[\"George Washington's Secret Six: The Spy Ring That Saved the American Revolution\",\"Brian Kilmeade\"],[\"Girl, Stop Apologizing: A Shame-Free Plan for Embracing and Achieving Your Goals\",\"Rachel Hollis\"],[\"Girl, Wash Your Face: Stop Believing the Lies About Who You Are So You Can Become Who You Were Meant to Be\",\"Rachel Hollis\"],[\"Girl, Wash Your Face: Stop Believing the Lies About Who You Are So You Can Become Who You Were Meant to Be\",\"Rachel Hollis\"],[\"Glenn Beck's Common Sense: The Case Against an Out-of-Control Government, Inspired by Thomas Paine\",\"Glenn Beck\"],[\"Going Rogue: An American Life\",\"Sarah Palin\"],[\"Good Days Start With Gratitude: A 52 Week Guide To Cultivate An Attitude Of Gratitude: Gratitude Journal\",\"Pretty Simple Press\"],[\"Good to Great: Why Some Companies Make the Leap and Others Don't\",\"Jim Collins\"],[\"Good to Great: Why Some Companies Make the Leap and Others Don't\",\"Jim Collins\"],[\"Good to Great: Why Some Companies Make the Leap and Others Don't\",\"Jim Collins\"],[\"Good to Great: Why Some Companies Make the Leap and Others Don't\",\"Jim Collins\"],[\"Grain Brain: The Surprising Truth about Wheat, Carbs, and Sugar--Your Brain's Silent Killers\",\"David Perlmutter MD\"],[\"Guts\",\"Raina Telgemeier\"],[\"Hamilton: The Revolution\",\"Lin-Manuel Miranda\"],[\"Happy, Happy, Happy: My Life and Legacy as the Duck Commander\",\"Phil Robertson\"],[\"Harry Potter Coloring Book\",\"Scholastic\"],[\"Have a Little Faith: A True Story\",\"Mitch Albom\"],[\"Heaven is for Real: A Little Boy's Astounding Story of His Trip to Heaven and Back\",\"Todd Burpo\"],[\"Heaven is for Real: A Little Boy's Astounding Story of His Trip to Heaven and Back\",\"Todd Burpo\"],[\"Hillbilly Elegy: A Memoir of a Family and Culture in Crisis\",\"J. D. Vance\"],[\"Hillbilly Elegy: A Memoir of a Family and Culture in Crisis\",\"J. D. Vance\"],[\"Homebody: A Guide to Creating Spaces You Never Want to Leave\",\"Joanna Gaines\"],[\"How to Win Friends & Influence People\",\"Dale Carnegie\"],[\"How to Win Friends & Influence People\",\"Dale Carnegie\"],[\"How to Win Friends & Influence People\",\"Dale Carnegie\"],[\"How to Win Friends & Influence People\",\"Dale Carnegie\"],[\"How to Win Friends & Influence People\",\"Dale Carnegie\"],[\"Howard Stern Comes Again\",\"Howard Stern\"],[\"Humans of New York\",\"Brandon Stanton\"],[\"Humans of New York\",\"Brandon Stanton\"],[\"Humans of New York : Stories\",\"Brandon Stanton\"],[\"Hyperbole and a Half: Unfortunate Situations, Flawed Coping Mechanisms, Mayhem, and Other Things That Happened\",\"Allie Brosh\"],[\"I Am Confident, Brave & Beautiful: A Coloring Book for Girls\",\"Hopscotch Girls\"],[\"In the Garden of Beasts: Love, Terror, and an American Family in Hitler's Berlin\",\"Eric Larson\"],[\"Instant Pot Pressure Cooker Cookbook: 500 Everyday Recipes for Beginners and Advanced Users. Try Easy and Healthy\\u2026\",\"Jennifer Smith\"],[\"Instant Pot Pressure Cooker Cookbook: 500 Everyday Recipes for Beginners and Advanced Users. Try Easy and Healthy\\u2026\",\"Jennifer Smith\"],[\"It's Not Supposed to Be This Way: Finding Unexpected Strength When Disappointments Leave You Shattered\",\"Lysa TerKeurst\"],[\"Jesus Calling: Enjoying Peace in His Presence (with Scripture References)\",\"Sarah Young\"],[\"Jesus Calling: Enjoying Peace in His Presence (with Scripture References)\",\"Sarah Young\"],[\"Jesus Calling: Enjoying Peace in His Presence (with Scripture References)\",\"Sarah Young\"],[\"Jesus Calling: Enjoying Peace in His Presence (with Scripture References)\",\"Sarah Young\"],[\"Jesus Calling: Enjoying Peace in His Presence (with Scripture References)\",\"Sarah Young\"],[\"Jesus Calling: Enjoying Peace in His Presence (with Scripture References)\",\"Sarah Young\"],[\"Killers of the Flower Moon: The Osage Murders and the Birth of the FBI\",\"David Grann\"],[\"Killing Jesus (Bill O'Reilly's Killing Series)\",\"Bill O'Reilly\"],[\"Killing Kennedy: The End of Camelot\",\"Bill O'Reilly\"],[\"Killing Lincoln: The Shocking Assassination that Changed America Forever (Bill O'Reilly's Killing Series)\",\"Bill O'Reilly\"],[\"Killing Lincoln: The Shocking Assassination that Changed America Forever (Bill O'Reilly's Killing Series)\",\"Bill O'Reilly\"],[\"Killing Patton: The Strange Death of World War II's Most Audacious General (Bill O'Reilly's Killing Series)\",\"Bill O'Reilly\"],[\"Killing Reagan: The Violent Assault That Changed a Presidency (Bill O'Reilly's Killing Series)\",\"Bill O'Reilly\"],[\"Killing the Rising Sun: How America Vanquished World War II Japan (Bill O'Reilly's Killing Series)\",\"Bill O'Reilly\"],[\"Kitchen Confidential Updated Edition: Adventures in the Culinary Underbelly (P.S.)\",\"Anthony Bourdain\"],[\"Knock-Knock Jokes for Kids\",\"Rob Elliott\"],[\"Knock-Knock Jokes for Kids\",\"Rob Elliott\"],[\"Knock-Knock Jokes for Kids\",\"Rob Elliott\"],[\"Laugh-Out-Loud Jokes for Kids\",\"Rob Elliott\"],[\"Laugh-Out-Loud Jokes for Kids\",\"Rob Elliott\"],[\"Laugh-Out-Loud Jokes for Kids\",\"Rob Elliott\"],[\"Laugh-Out-Loud Jokes for Kids\",\"Rob Elliott\"],[\"Laugh-Out-Loud Jokes for Kids\",\"Rob Elliott\"],[\"Lean In: Women, Work, and the Will to Lead\",\"Sheryl Sandberg\"],[\"Leonardo da Vinci\",\"Walter Isaacson\"],[\"Lettering and Modern Calligraphy: A Beginner's Guide: Learn Hand Lettering and Brush Lettering\",\"Paper Peony Press\"],[\"Liberty and Tyranny: A Conservative Manifesto\",\"Mark R. Levin\"],[\"Life\",\"Keith Richards\"],[\"Love Wins: A Book About Heaven, Hell, and the Fate of Every Person Who Ever Lived\",\"Rob Bell\"],[\"Magnolia Table: A Collection of Recipes for Gathering\",\"Joanna Gaines\"],[\"Make It Ahead: A Barefoot Contessa Cookbook\",\"Ina Garten\"],[\"Make Your Bed: Little Things That Can Change Your Life...And Maybe the World\",\"Admiral William H. McRaven\"],[\"Mastering the Art of French Cooking, Vol. 2\",\"Julia Child\"],[\"Milk and Honey\",\"Rupi Kaur\"],[\"Milk and Honey\",\"Rupi Kaur\"],[\"Milk and Honey\",\"Rupi Kaur\"],[\"Milk and Vine: Inspirational Quotes From Classic Vines\",\"Adam Gasiewski\"],[\"Mindset: The New Psychology of Success\",\"Carol S. Dweck\"],[\"Mindset: The New Psychology of Success\",\"Carol S. Dweck\"],[\"Mindset: The New Psychology of Success\",\"Carol S. Dweck\"],[\"National Geographic Kids Why?: Over 1,111 Answers to Everything\",\"Crispin Boyer\"],[\"National Geographic Little Kids First Big Book of Why (National Geographic Little Kids First Big Books)\",\"Amy Shields\"],[\"Night (Night)\",\"Elie Wiesel\"],[\"No Easy Day: The Autobiography of a Navy Seal: The Firsthand Account of the Mission That Killed Osama Bin Laden\",\"Mark Owen\"],[\"Obama: An Intimate Portrait\",\"Pete Souza\"],[\"One Thousand Gifts: A Dare to Live Fully Right Where You Are\",\"Ann Voskamp\"],[\"One Thousand Gifts: A Dare to Live Fully Right Where You Are\",\"Ann Voskamp\"],[\"Option B: Facing Adversity, Building Resilience, and Finding Joy\",\"Sheryl Sandberg\"],[\"Outliers: The Story of Success\",\"Malcolm Gladwell\"],[\"Outliers: The Story of Success\",\"Malcolm Gladwell\"],[\"P is for Potty! (Sesame Street) (Lift-the-Flap)\",\"Naomi Kleinberg\"],[\"P is for Potty! (Sesame Street) (Lift-the-Flap)\",\"Naomi Kleinberg\"],[\"Proof of Heaven: A Neurosurgeon's Journey into the Afterlife\",\"Eben Alexander\"],[\"Proof of Heaven: A Neurosurgeon's Journey into the Afterlife\",\"Eben Alexander\"],[\"Publication Manual of the American Psychological Association, 6th Edition\",\"American Psychological Association\"],[\"Publication Manual of the American Psychological Association, 6th Edition\",\"American Psychological Association\"],[\"Publication Manual of the American Psychological Association, 6th Edition\",\"American Psychological Association\"],[\"Publication Manual of the American Psychological Association, 6th Edition\",\"American Psychological Association\"],[\"Publication Manual of the American Psychological Association, 6th Edition\",\"American Psychological Association\"],[\"Publication Manual of the American Psychological Association, 6th Edition\",\"American Psychological Association\"],[\"Publication Manual of the American Psychological Association, 6th Edition\",\"American Psychological Association\"],[\"Publication Manual of the American Psychological Association, 6th Edition\",\"American Psychological Association\"],[\"Publication Manual of the American Psychological Association, 6th Edition\",\"American Psychological Association\"],[\"Publication Manual of the American Psychological Association, 6th Edition\",\"American Psychological Association\"],[\"Quiet: The Power of Introverts in a World That Can't Stop Talking\",\"Susan Cain\"],[\"Quiet: The Power of Introverts in a World That Can't Stop Talking\",\"Susan Cain\"],[\"Radical: Taking Back Your Faith from the American Dream\",\"David Platt\"],[\"Radical: Taking Back Your Faith from the American Dream\",\"David Platt\"],[\"Salt, Fat, Acid, Heat: Mastering the Elements of Good Cooking\",\"Samin Nosrat\"],[\"Salt, Fat, Acid, Heat: Mastering the Elements of Good Cooking\",\"Samin Nosrat\"],[\"School Zone - Big Preschool Workbook - Ages 4 and Up, Colors, Shapes, Numbers 1-10, Alphabet, Pre-Writing, Pre-Reading\\u2026\",\"School Zone\"],[\"School Zone - Big Preschool Workbook - Ages 4 and Up, Colors, Shapes, Numbers 1-10, Alphabet, Pre-Writing, Pre-Reading\\u2026\",\"School Zone\"],[\"Secret Garden: An Inky Treasure Hunt and Coloring Book (For Adults, mindfulness coloring)\",\"Johanna Basford\"],[\"Sh*t My Dad Says\",\"Justin Halpern\"],[\"Ship of Fools: How a Selfish Ruling Class Is Bringing America to the Brink of Revolution\",\"Tucker Carlson\"],[\"Shred: The Revolutionary Diet: 6 Weeks 4 Inches 2 Sizes\",\"Ian K. Smith M.D.\"],[\"Soul Healing Miracles: Ancient and New Sacred Wisdom, Knowledge, and Practical Techniques for Healing the Spiritual\\u2026\",\"Zhi Gang Sha\"],[\"Steve Jobs\",\"Walter Isaacson\"],[\"Steve Jobs\",\"Walter Isaacson\"],[\"StrengthsFinder 2.0\",\"Gallup\"],[\"StrengthsFinder 2.0\",\"Gallup\"],[\"StrengthsFinder 2.0\",\"Gallup\"],[\"StrengthsFinder 2.0\",\"Gallup\"],[\"StrengthsFinder 2.0\",\"Gallup\"],[\"StrengthsFinder 2.0\",\"Gallup\"],[\"StrengthsFinder 2.0\",\"Gallup\"],[\"StrengthsFinder 2.0\",\"Gallup\"],[\"StrengthsFinder 2.0\",\"Gallup\"],[\"Super Freakonomics: Global Cooling, Patriotic Prostitutes, and Why Suicide Bombers Should Buy Life Insurance\",\"Steven D. Levitt\"],[\"Switch: How to Change Things When Change Is Hard\",\"Chip Heath\"],[\"Teach Like a Champion: 49 Techniques that Put Students on the Path to College\",\"Doug Lemov\"],[\"Teach Like a Champion: 49 Techniques that Put Students on the Path to College\",\"Doug Lemov\"],[\"The 17 Day Diet: A Doctor's Plan Designed for Rapid Results\",\"Mike Moreno\"],[\"The 4 Hour Body: An Uncommon Guide to Rapid Fat Loss, Incredible Sex and Becoming Superhuman\",\"Timothy Ferriss\"],[\"The 5 Love Languages: The Secret to Love That Lasts\",\"Gary Chapman\"],[\"The 5 Love Languages: The Secret to Love That Lasts\",\"Gary Chapman\"],[\"The 5 Love Languages: The Secret to Love That Lasts\",\"Gary Chapman\"],[\"The 5 Love Languages: The Secret to Love That Lasts\",\"Gary Chapman\"],[\"The 5 Love Languages: The Secret to Love That Lasts\",\"Gary Chapman\"],[\"The 5 Love Languages: The Secret to Love that Lasts\",\"Gary Chapman\"],[\"The 5 Love Languages: The Secret to Love that Lasts\",\"Gary Chapman\"],[\"The 5 Love Languages: The Secret to Love that Lasts\",\"Gary Chapman\"],[\"The 5 Love Languages: The Secret to Love that Lasts\",\"Gary Chapman\"],[\"The 5 Love Languages: The Secret to Love that Lasts\",\"Gary Chapman\"],[\"The 5000 Year Leap\",\"W. Cleon Skousen\"],[\"The 7 Habits of Highly Effective People: Powerful Lessons in Personal Change\",\"Stephen R. Covey\"],[\"The 7 Habits of Highly Effective People: Powerful Lessons in Personal Change\",\"Stephen R. Covey\"],[\"The 7 Habits of Highly Effective People: Powerful Lessons in Personal Change\",\"Stephen R. Covey\"],[\"The 7 Habits of Highly Effective People: Powerful Lessons in Personal Change\",\"Stephen R. Covey\"],[\"The 7 Habits of Highly Effective People: Powerful Lessons in Personal Change\",\"Stephen R. Covey\"],[\"The 7 Habits of Highly Effective People: Powerful Lessons in Personal Change\",\"Stephen R. Covey\"],[\"The 7 Habits of Highly Effective People: Powerful Lessons in Personal Change\",\"Stephen R. Covey\"],[\"The Amateur\",\"Edward Klein\"],[\"The Big Short: Inside the Doomsday Machine\",\"Michael Lewis\"],[\"The Blood Sugar Solution: The UltraHealthy Program for Losing Weight, Preventing Disease, and Feeling Great Now!\",\"Mark Hyman M.D.\"],[\"The Body Keeps the Score: Brain, Mind, and Body in the Healing of Trauma\",\"Bessel van der Kolk M.D.\"],[\"The Book of Basketball: The NBA According to The Sports Guy\",\"Bill Simmons\"],[\"The Boys in the Boat: Nine Americans and Their Epic Quest for Gold at the 1936 Berlin Olympics\",\"Daniel James Brown\"],[\"The Boys in the Boat: Nine Americans and Their Epic Quest for Gold at the 1936 Berlin Olympics\",\"Daniel James Brown\"],[\"The China Study: The Most Comprehensive Study of Nutrition Ever Conducted And the Startling Implications for Diet\\u2026\",\"Thomas Campbell\"],[\"The Complete Ketogenic Diet for Beginners: Your Essential Guide to Living the Keto Lifestyle\",\"Amy Ramos\"],[\"The Complete Ketogenic Diet for Beginners: Your Essential Guide to Living the Keto Lifestyle\",\"Amy Ramos\"],[\"The Constitution of the United States\",\"Delegates of the Constitutional\\u0085\"],[\"The Daily Show with Jon Stewart Presents Earth (The Book): A Visitor's Guide to the Human Race\",\"Jon Stewart\"],[\"The Dukan Diet: 2 Steps to Lose the Weight, 2 Steps to Keep It Off Forever\",\"Pierre Dukan\"],[\"The Five Dysfunctions of a Team: A Leadership Fable\",\"Patrick Lencioni\"],[\"The Five Dysfunctions of a Team: A Leadership Fable\",\"Patrick Lencioni\"],[\"The Five Dysfunctions of a Team: A Leadership Fable\",\"Patrick Lencioni\"],[\"The Five Dysfunctions of a Team: A Leadership Fable\",\"Patrick Lencioni\"],[\"The Five Dysfunctions of a Team: A Leadership Fable\",\"Patrick Lencioni\"],[\"The Five Love Languages: How to Express Heartfelt Commitment to Your Mate\",\"Gary Chapman\"],[\"The Four Agreements: A Practical Guide to Personal Freedom (A Toltec Wisdom Book)\",\"Don Miguel Ruiz\"],[\"The Four Agreements: A Practical Guide to Personal Freedom (A Toltec Wisdom Book)\",\"Don Miguel Ruiz\"],[\"The Four Agreements: A Practical Guide to Personal Freedom (A Toltec Wisdom Book)\",\"Don Miguel Ruiz\"],[\"The Four Agreements: A Practical Guide to Personal Freedom (A Toltec Wisdom Book)\",\"Don Miguel Ruiz\"],[\"The Four Agreements: A Practical Guide to Personal Freedom (A Toltec Wisdom Book)\",\"Don Miguel Ruiz\"],[\"The Four Agreements: A Practical Guide to Personal Freedom (A Toltec Wisdom Book)\",\"Don Miguel Ruiz\"],[\"The Immortal Life of Henrietta Lacks\",\"Rebecca Skloot\"],[\"The Immortal Life of Henrietta Lacks\",\"Rebecca Skloot\"],[\"The Immortal Life of Henrietta Lacks\",\"Rebecca Skloot\"],[\"The Instant Pot Electric Pressure Cooker Cookbook: Easy Recipes for Fast & Healthy Meals\",\"Laurel Randolph\"],[\"The Instant Pot Electric Pressure Cooker Cookbook: Easy Recipes for Fast & Healthy Meals\",\"Laurel Randolph\"],[\"The Last Lecture\",\"Randy Pausch\"],[\"The Lego Ideas Book: Unlock Your Imagination\",\"Daniel Lipkowitz\"],[\"The Lego Ideas Book: Unlock Your Imagination\",\"Daniel Lipkowitz\"],[\"The Life-Changing Magic of Tidying Up: The Japanese Art of Decluttering and Organizing\",\"Marie Kond\\u014d\"],[\"The Life-Changing Magic of Tidying Up: The Japanese Art of Decluttering and Organizing\",\"Marie Kond\\u014d\"],[\"The Life-Changing Magic of Tidying Up: The Japanese Art of Decluttering and Organizing\",\"Marie Kond\\u014d\"],[\"The Life-Changing Magic of Tidying Up: The Japanese Art of Decluttering and Organizing\",\"Marie Kond\\u014d\"],[\"The Love Dare\",\"Stephen Kendrick\"],[\"The Magnolia Story\",\"Chip Gaines\"],[\"The Mueller Report\",\"The Washington Post\"],[\"The Official SAT Study Guide\",\"The College Board\"],[\"The Official SAT Study Guide\",\"The College Board\"],[\"The Official SAT Study Guide\",\"The College Board\"],[\"The Official SAT Study Guide\",\"The College Board\"],[\"The Official SAT Study Guide\",\"The College Board\"],[\"The Official SAT Study Guide, 2016 Edition (Official Study Guide for the New Sat)\",\"The College Board\"],[\"The Pioneer Woman Cooks: A Year of Holidays: 140 Step-by-Step Recipes for Simple, Scrumptious Celebrations\",\"Ree Drummond\"],[\"The Pioneer Woman Cooks: Dinnertime - Comfort Classics, Freezer Food, 16-minute Meals, and Other Delicious Ways to Solve\\u2026\",\"Ree Drummond\"],[\"The Pioneer Woman Cooks: Food from My Frontier\",\"Ree Drummond\"],[\"The Plant Paradox Cookbook: 100 Delicious Recipes to Help You Lose Weight, Heal Your Gut, and Live Lectin-Free\",\"Dr. Steven R Gundry MD\"],[\"The Plant Paradox: The Hidden Dangers in \\\"Healthy\\\" Foods That Cause Disease and Weight Gain\",\"Dr. Steven R Gundry MD\"],[\"The Power of Habit: Why We Do What We Do in Life and Business\",\"Charles Duhigg\"],[\"The Road to Serfdom: Text and Documents--The Definitive Edition (The Collected Works of F. A. Hayek, Volume 2)\",\"F. A. Hayek\"],[\"The Subtle Art of Not Giving a F*ck: A Counterintuitive Approach to Living a Good Life\",\"Mark Manson\"],[\"The Subtle Art of Not Giving a F*ck: A Counterintuitive Approach to Living a Good Life\",\"Mark Manson\"],[\"The Subtle Art of Not Giving a F*ck: A Counterintuitive Approach to Living a Good Life\",\"Mark Manson\"],[\"The Sun and Her Flowers\",\"Rupi Kaur\"],[\"The Tipping Point: How Little Things Can Make a Big Difference\",\"Malcolm Gladwell\"],[\"The Total Money Makeover: Classic Edition: A Proven Plan for Financial Fitness\",\"Dave Ramsey\"],[\"The Unofficial Harry Potter Cookbook: From Cauldron Cakes to Knickerbocker Glory--More Than 150 Magical Recipes for\\u2026\",\"Dinah Bucholz\"],[\"The Whole30: The 30-Day Guide to Total Health and Food Freedom\",\"Melissa Hartwig Urban\"],[\"The Whole30: The 30-Day Guide to Total Health and Food Freedom\",\"Melissa Hartwig Urban\"],[\"The Whole30: The 30-Day Guide to Total Health and Food Freedom\",\"Melissa Hartwig Urban\"],[\"The Wright Brothers\",\"David McCullough\"],[\"Things That Matter: Three Decades of Passions, Pastimes and Politics [Deckled Edge]\",\"Charles Krauthammer\"],[\"Thinking, Fast and Slow\",\"Daniel Kahneman\"],[\"Thinking, Fast and Slow\",\"Daniel Kahneman\"],[\"Thomas Jefferson: The Art of Power\",\"Jon Meacham\"],[\"Three Cups of Tea: One Man's Mission to Promote Peace - One School at a Time\",\"Greg Mortenson\"],[\"Three Cups of Tea: One Man's Mission to Promote Peace - One School at a Time\",\"Greg Mortenson\"],[\"Thug Kitchen: The Official Cookbook: Eat Like You Give a F*ck (Thug Kitchen Cookbooks)\",\"Thug Kitchen\"],[\"Thug Kitchen: The Official Cookbook: Eat Like You Give a F*ck (Thug Kitchen Cookbooks)\",\"Thug Kitchen\"],[\"Thug Kitchen: The Official Cookbook: Eat Like You Give a F*ck (Thug Kitchen Cookbooks)\",\"Thug Kitchen\"],[\"Thug Kitchen: The Official Cookbook: Eat Like You Give a F*ck (Thug Kitchen Cookbooks)\",\"Thug Kitchen\"],[\"Tina Fey: Bossypants\",\"Tina Fey\"],[\"Tools of Titans: The Tactics, Routines, and Habits of Billionaires, Icons, and World-Class Performers\",\"Timothy Ferriss\"],[\"True Compass: A Memoir\",\"Edward M. Kennedy\"],[\"Unbroken: A World War II Story of Survival, Resilience, and Redemption\",\"Laura Hillenbrand\"],[\"Unbroken: A World War II Story of Survival, Resilience, and Redemption\",\"Laura Hillenbrand\"],[\"Unbroken: A World War II Story of Survival, Resilience, and Redemption\",\"Laura Hillenbrand\"],[\"Unbroken: A World War II Story of Survival, Resilience, and Redemption\",\"Laura Hillenbrand\"],[\"Unbroken: A World War II Story of Survival, Resilience, and Redemption\",\"Laura Hillenbrand\"],[\"Unfreedom of the Press\",\"Mark R. Levin\"],[\"Unicorn Coloring Book: For Kids Ages 4-8 (US Edition) (Silly Bear Coloring Books)\",\"Silly Bear\"],[\"Uninvited: Living Loved When You Feel Less Than, Left Out, and Lonely\",\"Lysa TerKeurst\"],[\"What Happened\",\"Hillary Rodham Clinton\"],[\"What If?: Serious Scientific Answers to Absurd Hypothetical Questions\",\"Randall Munroe\"],[\"What to Expect When You're Expecting\",\"Heidi Murkoff\"],[\"Wheat Belly: Lose the Wheat, Lose the Weight, and Find Your Path Back to Health\",\"William Davis\"],[\"Wheat Belly: Lose the Wheat, Lose the Weight, and Find Your Path Back to Health\",\"William Davis\"],[\"When Breath Becomes Air\",\"Paul Kalanithi\"],[\"Whose Boat Is This Boat?: Comments That Don't Help in the Aftermath of a Hurricane\",\"The Staff of The Late Show with\\u0085\"],[\"Wild: From Lost to Found on the Pacific Crest Trail\",\"Cheryl Strayed\"],[\"Women Food and God: An Unexpected Path to Almost Everything\",\"Geneen Roth\"],[\"You Are a Badass: How to Stop Doubting Your Greatness and Start Living an Awesome Life\",\"Jen Sincero\"],[\"You Are a Badass: How to Stop Doubting Your Greatness and Start Living an Awesome Life\",\"Jen Sincero\"],[\"You Are a Badass: How to Stop Doubting Your Greatness and Start Living an Awesome Life\",\"Jen Sincero\"],[\"You Are a Badass: How to Stop Doubting Your Greatness and Start Living an Awesome Life\",\"Jen Sincero\"]],\"hovertemplate\":\"Genre=Non Fiction<br>Year=%{x}<br>User Rating=%{y}<br>Name=%{customdata[0]}<br>Author=%{customdata[1]}<extra></extra>\",\"legendgroup\":\"Non Fiction\",\"marker\":{\"color\":\"#636efa\",\"symbol\":\"circle\"},\"mode\":\"markers\",\"name\":\"Non Fiction\",\"orientation\":\"v\",\"showlegend\":true,\"type\":\"scatter\",\"x\":[2016,2018,2019,2018,2010,2011,2009,2016,2015,2015,2015,2016,2015,2009,2017,2010,2015,2015,2012,2010,2018,2019,2015,2015,2016,2016,2010,2016,2019,2014,2016,2009,2010,2011,2015,2015,2013,2013,2010,2010,2013,2014,2019,2009,2015,2010,2009,2009,2011,2012,2018,2019,2015,2018,2018,2014,2015,2016,2017,2018,2010,2010,2010,2013,2019,2018,2019,2009,2009,2019,2009,2010,2011,2012,2014,2019,2016,2013,2015,2009,2011,2012,2016,2017,2018,2014,2015,2016,2017,2018,2019,2013,2014,2015,2013,2019,2011,2019,2018,2019,2011,2012,2013,2014,2015,2016,2017,2013,2012,2011,2012,2014,2015,2016,2018,2013,2014,2015,2013,2014,2015,2016,2017,2013,2017,2018,2009,2010,2011,2018,2014,2017,2009,2016,2017,2018,2017,2014,2015,2016,2019,2019,2016,2012,2017,2011,2012,2017,2009,2010,2018,2019,2012,2013,2009,2010,2011,2012,2013,2014,2015,2016,2017,2018,2012,2013,2010,2011,2018,2019,2018,2019,2015,2010,2018,2013,2013,2011,2012,2009,2010,2011,2012,2013,2014,2015,2016,2017,2009,2010,2010,2011,2011,2011,2010,2011,2012,2013,2014,2015,2016,2017,2018,2019,2009,2009,2011,2012,2013,2015,2016,2017,2012,2010,2012,2019,2009,2014,2015,2011,2018,2019,2016,2010,2011,2009,2010,2011,2012,2013,2009,2013,2015,2016,2017,2018,2019,2010,2011,2012,2017,2018,2009,2011,2012,2015,2016,2017,2019,2009,2016,2019,2010,2011,2012,2013,2014,2016,2013,2015,2012,2018,2018,2012,2010,2017,2018,2019,2017,2009,2019,2019,2015,2016,2017,2015,2013,2011,2012,2012,2009,2010,2014,2015,2016,2017,2011,2017,2009,2010,2011,2012,2014,2014,2019,2019,2016,2017,2014,2011,2012,2013,2016,2018,2012,2010,2016,2017,2018,2019],\"xaxis\":\"x\",\"y\":[4.7,4.7,4.8,4.7,4.6,4.6,4.6,4.5,4.6,4.4,4.5,4.8,4.6,4.6,4.7,4.2,4.6,4.6,4.8,4.7,4.8,4.8,4.8,4.7,4.7,4.7,4.5,4.6,4.8,4.5,4.7,4.7,4.7,4.7,4.8,4.8,4.8,4.4,4.6,4.6,4.5,4.5,4.6,4.6,4.6,4.5,4.5,4.3,4.5,4.5,4.7,4.7,4.7,4.4,4.2,4.7,4.7,4.7,4.7,4.7,4.4,4.4,4.5,4.6,4.6,4.6,4.6,4.6,4.6,4.6,4.5,4.5,4.5,4.5,4.6,4.8,4.9,4.8,4.7,4.8,4.7,4.7,4.4,4.4,4.8,4.7,4.7,4.7,4.7,4.7,4.3,4.8,4.8,4.9,4.7,4.8,4.4,4.4,4.4,4.8,4.9,4.9,4.9,4.9,4.9,4.9,4.6,4.5,4.6,4.7,4.7,4.6,4.6,4.8,4.8,4.5,4.5,4.5,4.6,4.6,4.6,4.6,4.6,4.5,4.5,4.4,4.8,4.5,4.2,4.8,4.5,4.7,4.8,4.7,4.7,4.7,4.4,4.6,4.6,4.6,4.8,4.8,4.7,4.6,4.9,4.6,4.6,4.5,4.6,4.6,4.7,4.7,4.3,4.3,4.5,4.5,4.5,4.5,4.5,4.5,4.5,4.5,4.5,4.5,4.6,4.6,4.7,4.7,4.8,4.8,4.8,4.8,4.7,4.7,4.8,4.1,4.6,4.6,4.6,4.0,4.0,4.0,4.0,4.0,4.0,4.0,4.0,4.0,4.5,4.6,4.4,4.4,4.3,4.3,4.7,4.7,4.7,4.7,4.7,4.8,4.8,4.8,4.8,4.8,4.8,4.6,4.6,4.6,4.6,4.7,4.7,4.7,4.6,4.7,4.2,4.8,4.7,4.8,4.8,4.7,4.3,4.3,4.8,4.4,4.1,4.6,4.6,4.6,4.6,4.6,4.6,4.7,4.7,4.7,4.7,4.7,4.7,4.7,4.7,4.7,4.3,4.3,4.7,4.4,4.4,4.5,4.5,4.5,4.5,4.8,4.9,4.6,4.4,4.4,4.4,4.4,4.4,4.3,4.8,4.8,4.8,4.5,4.4,4.6,4.6,4.6,4.6,4.6,4.7,4.4,4.7,4.7,4.6,4.6,4.6,4.7,4.7,4.6,4.6,4.5,4.3,4.3,4.6,4.6,4.6,4.6,4.3,4.6,4.5,4.8,4.8,4.8,4.8,4.8,4.9,4.8,4.7,4.6,4.7,4.4,4.4,4.4,4.8,4.6,4.4,4.2,4.7,4.7,4.7,4.7],\"yaxis\":\"y\"},{\"customdata\":[[\"11/22/63: A Novel\",\"Stephen King\"],[\"1984 (Signet Classics)\",\"George Orwell\"],[\"A Dance with Dragons (A Song of Ice and Fire)\",\"George R. R. Martin\"],[\"A Game of Thrones / A Clash of Kings / A Storm of Swords / A Feast of Crows / A Dance with Dragons\",\"George R. R. Martin\"],[\"A Gentleman in Moscow: A Novel\",\"Amor Towles\"],[\"A Man Called Ove: A Novel\",\"Fredrik Backman\"],[\"A Man Called Ove: A Novel\",\"Fredrik Backman\"],[\"A Wrinkle in Time (Time Quintet)\",\"Madeleine L'Engle\"],[\"All the Light We Cannot See\",\"Anthony Doerr\"],[\"All the Light We Cannot See\",\"Anthony Doerr\"],[\"Allegiant\",\"Veronica Roth\"],[\"And the Mountains Echoed\",\"Khaled Hosseini\"],[\"Breaking Dawn (The Twilight Saga, Book 4)\",\"Stephenie Meyer\"],[\"Brown Bear, Brown Bear, What Do You See?\",\"Bill Martin Jr.\"],[\"Brown Bear, Brown Bear, What Do You See?\",\"Bill Martin Jr.\"],[\"Cabin Fever (Diary of a Wimpy Kid, Book 6)\",\"Jeff Kinney\"],[\"Catching Fire (The Hunger Games)\",\"Suzanne Collins\"],[\"Catching Fire (The Hunger Games)\",\"Suzanne Collins\"],[\"Catching Fire (The Hunger Games)\",\"Suzanne Collins\"],[\"Crazy Rich Asians (Crazy Rich Asians Trilogy)\",\"Kevin Kwan\"],[\"Cutting for Stone\",\"Abraham Verghese\"],[\"Cutting for Stone\",\"Abraham Verghese\"],[\"Dead And Gone: A Sookie Stackhouse Novel (Sookie Stackhouse/True Blood)\",\"Charlaine Harris\"],[\"Dead in the Family (Sookie Stackhouse/True Blood, Book 10)\",\"Charlaine Harris\"],[\"Dead Reckoning (Sookie Stackhouse/True Blood, Book 11)\",\"Charlaine Harris\"],[\"Dear Zoo: A Lift-the-Flap Book\",\"Rod Campbell\"],[\"Dear Zoo: A Lift-the-Flap Book\",\"Rod Campbell\"],[\"Dear Zoo: A Lift-the-Flap Book\",\"Rod Campbell\"],[\"Dear Zoo: A Lift-the-Flap Book\",\"Rod Campbell\"],[\"Diary of a Wimpy Kid: Hard Luck, Book 8\",\"Jeff Kinney\"],[\"Diary of a Wimpy Kid: The Last Straw (Book 3)\",\"Jeff Kinney\"],[\"Diary of a Wimpy Kid: The Long Haul\",\"Jeff Kinney\"],[\"Divergent\",\"Veronica Roth\"],[\"Divergent\",\"Veronica Roth\"],[\"Divergent / Insurgent\",\"Veronica Roth\"],[\"Doctor Sleep: A Novel\",\"Stephen King\"],[\"Dog Days (Diary of a Wimpy Kid, Book 4) (Volume 4)\",\"Jeff Kinney\"],[\"Dog Man and Cat Kid: From the Creator of Captain Underpants (Dog Man #4)\",\"Dav Pilkey\"],[\"Dog Man: A Tale of Two Kitties: From the Creator of Captain Underpants (Dog Man #3)\",\"Dav Pilkey\"],[\"Dog Man: Brawl of the Wild: From the Creator of Captain Underpants (Dog Man #6)\",\"Dav Pilkey\"],[\"Dog Man: Brawl of the Wild: From the Creator of Captain Underpants (Dog Man #6)\",\"Dav Pilkey\"],[\"Dog Man: Fetch-22: From the Creator of Captain Underpants (Dog Man #8)\",\"Dav Pilkey\"],[\"Dog Man: For Whom the Ball Rolls: From the Creator of Captain Underpants (Dog Man #7)\",\"Dav Pilkey\"],[\"Dog Man: Lord of the Fleas: From the Creator of Captain Underpants (Dog Man #5)\",\"Dav Pilkey\"],[\"Double Down (Diary of a Wimpy Kid #11)\",\"Jeff Kinney\"],[\"Eclipse (Twilight Sagas)\",\"Stephenie Meyer\"],[\"Eclipse (Twilight)\",\"Stephenie Meyer\"],[\"Fahrenheit 451\",\"Ray Bradbury\"],[\"Fahrenheit 451\",\"Ray Bradbury\"],[\"Fantastic Beasts and Where to Find Them: The Original Screenplay (Harry Potter)\",\"J.K. Rowling\"],[\"Fifty Shades Darker\",\"E L James\"],[\"Fifty Shades Freed: Book Three of the Fifty Shades Trilogy (Fifty Shades of Grey Series) (English Edition)\",\"E L James\"],[\"Fifty Shades of Grey: Book One of the Fifty Shades Trilogy (Fifty Shades of Grey Series)\",\"E L James\"],[\"Fifty Shades of Grey: Book One of the Fifty Shades Trilogy (Fifty Shades of Grey Series)\",\"E L James\"],[\"Fifty Shades Trilogy (Fifty Shades of Grey / Fifty Shades Darker / Fifty Shades Freed)\",\"E L James\"],[\"Frozen (Little Golden Book)\",\"RH Disney\"],[\"Game of Thrones Boxed Set: A Game of Thrones/A Clash of Kings/A Storm of Swords/A Feast for Crows\",\"George R.R. Martin\"],[\"Game of Thrones Boxed Set: A Game of Thrones/A Clash of Kings/A Storm of Swords/A Feast for Crows\",\"George R.R. Martin\"],[\"Game of Thrones Boxed Set: A Game of Thrones/A Clash of Kings/A Storm of Swords/A Feast for Crows\",\"George R.R. Martin\"],[\"Giraffes Can't Dance\",\"Giles Andreae\"],[\"Giraffes Can't Dance\",\"Giles Andreae\"],[\"Giraffes Can't Dance\",\"Giles Andreae\"],[\"Giraffes Can't Dance\",\"Giles Andreae\"],[\"Giraffes Can't Dance\",\"Giles Andreae\"],[\"Go Set a Watchman: A Novel\",\"Harper Lee\"],[\"Go the F**k to Sleep\",\"Adam Mansbach\"],[\"Gone Girl\",\"Gillian Flynn\"],[\"Gone Girl\",\"Gillian Flynn\"],[\"Gone Girl\",\"Gillian Flynn\"],[\"Goodnight Moon\",\"Margaret Wise Brown\"],[\"Goodnight Moon\",\"Margaret Wise Brown\"],[\"Goodnight Moon\",\"Margaret Wise Brown\"],[\"Goodnight, Goodnight Construction Site (Hardcover Books for Toddlers, Preschool Books for Kids)\",\"Sherri Duskey Rinker\"],[\"Goodnight, Goodnight Construction Site (Hardcover Books for Toddlers, Preschool Books for Kids)\",\"Sherri Duskey Rinker\"],[\"Grey: Fifty Shades of Grey as Told by Christian (Fifty Shades of Grey Series)\",\"E L James\"],[\"Harry Potter and the Chamber of Secrets: The Illustrated Edition (Harry Potter, Book 2)\",\"J.K. Rowling\"],[\"Harry Potter and the Cursed Child, Parts 1 & 2, Special Rehearsal Edition Script\",\"J.K. Rowling\"],[\"Harry Potter and the Goblet of Fire: The Illustrated Edition (Harry Potter, Book 4) (4)\",\"J. K. Rowling\"],[\"Harry Potter and the Prisoner of Azkaban: The Illustrated Edition (Harry Potter, Book 3)\",\"J.K. Rowling\"],[\"Harry Potter and the Sorcerer's Stone: The Illustrated Edition (Harry Potter, Book 1)\",\"J.K. Rowling\"],[\"Harry Potter Paperback Box Set (Books 1-7)\",\"J. K. Rowling\"],[\"I, Alex Cross\",\"James Patterson\"],[\"If Animals Kissed Good Night\",\"Ann Whitford Paul\"],[\"If Animals Kissed Good Night\",\"Ann Whitford Paul\"],[\"If I Stay\",\"Gayle Forman\"],[\"Inferno\",\"Dan Brown\"],[\"Inheritance: Book IV (Inheritance Cycle)\",\"Christopher Paolini\"],[\"JOURNEY TO THE ICE P\",\"RH Disney\"],[\"Joyland (Hard Case Crime)\",\"Stephen King\"],[\"Last Week Tonight with John Oliver Presents A Day in the Life of Marlon Bundo (Better Bundo Book, LGBT Children\\u0092s Book)\",\"Jill Twiss\"],[\"Little Bee: A Novel\",\"Chris Cleave\"],[\"Little Blue Truck\",\"Alice Schertle\"],[\"Little Fires Everywhere\",\"Celeste Ng\"],[\"Looking for Alaska\",\"John Green\"],[\"Love You Forever\",\"Robert Munsch\"],[\"Love You Forever\",\"Robert Munsch\"],[\"Mockingjay (The Hunger Games)\",\"Suzanne Collins\"],[\"Mockingjay (The Hunger Games)\",\"Suzanne Collins\"],[\"Mockingjay (The Hunger Games)\",\"Suzanne Collins\"],[\"New Moon (The Twilight Saga)\",\"Stephenie Meyer\"],[\"Oh, the Places You'll Go!\",\"Dr. Seuss\"],[\"Oh, the Places You'll Go!\",\"Dr. Seuss\"],[\"Oh, the Places You'll Go!\",\"Dr. Seuss\"],[\"Oh, the Places You'll Go!\",\"Dr. Seuss\"],[\"Oh, the Places You'll Go!\",\"Dr. Seuss\"],[\"Oh, the Places You'll Go!\",\"Dr. Seuss\"],[\"Oh, the Places You'll Go!\",\"Dr. Seuss\"],[\"Oh, the Places You'll Go!\",\"Dr. Seuss\"],[\"Old School (Diary of a Wimpy Kid #10)\",\"Jeff Kinney\"],[\"Olive Kitteridge\",\"Elizabeth Strout\"],[\"Origin: A Novel (Robert Langdon)\",\"Dan Brown\"],[\"Orphan Train\",\"Christina Baker Kline\"],[\"Percy Jackson and the Olympians Paperback Boxed Set (Books 1-3)\",\"Rick Riordan\"],[\"Player's Handbook (Dungeons & Dragons)\",\"Wizards RPG Team\"],[\"Player's Handbook (Dungeons & Dragons)\",\"Wizards RPG Team\"],[\"Player's Handbook (Dungeons & Dragons)\",\"Wizards RPG Team\"],[\"Pok\\u00e9mon Deluxe Essential Handbook: The Need-to-Know Stats and Facts on Over 700 Pok\\u00e9mon\",\"Scholastic\"],[\"Puppy Birthday to You! (Paw Patrol) (Little Golden Book)\",\"Golden Books\"],[\"Ready Player One: A Novel\",\"Ernest Cline\"],[\"Ready Player One: A Novel\",\"Ernest Cline\"],[\"Rush Revere and the Brave Pilgrims: Time-Travel Adventures with Exceptional Americans (1)\",\"Rush Limbaugh\"],[\"Rush Revere and the First Patriots: Time-Travel Adventures With Exceptional Americans (2)\",\"Rush Limbaugh\"],[\"Sarah's Key\",\"Tatiana de Rosnay\"],[\"Sookie Stackhouse\",\"Charlaine Harris\"],[\"Strange Planet (Strange Planet Series)\",\"Nathan W. Pyle\"],[\"Sycamore Row (Jake Brigance)\",\"John Grisham\"],[\"The Alchemist\",\"Paulo Coelho\"],[\"The Art of Racing in the Rain: A Novel\",\"Garth Stein\"],[\"The Art of Racing in the Rain: A Novel\",\"Garth Stein\"],[\"The Blood of Olympus (The Heroes of Olympus (5))\",\"Rick Riordan\"],[\"The Book Thief\",\"Markus Zusak\"],[\"The Book Thief\",\"Markus Zusak\"],[\"The Book with No Pictures\",\"B. J. Novak\"],[\"The Book with No Pictures\",\"B. J. Novak\"],[\"The Casual Vacancy\",\"J.K. Rowling\"],[\"The Confession: A Novel\",\"John Grisham\"],[\"The Day the Crayons Quit\",\"Drew Daywalt\"],[\"The Day the Crayons Quit\",\"Drew Daywalt\"],[\"The Day the Crayons Quit\",\"Drew Daywalt\"],[\"The Elegance of the Hedgehog\",\"Muriel Barbery\"],[\"The Fault in Our Stars\",\"John Green\"],[\"The Fault in Our Stars\",\"John Green\"],[\"The Fault in Our Stars\",\"John Green\"],[\"The Fault in Our Stars\",\"John Green\"],[\"The Getaway\",\"Jeff Kinney\"],[\"The Girl on the Train\",\"Paula Hawkins\"],[\"The Girl on the Train\",\"Paula Hawkins\"],[\"The Girl Who Kicked the Hornet's Nest (Millennium Trilogy)\",\"Stieg Larsson\"],[\"The Girl Who Kicked the Hornet's Nest (Millennium Trilogy)\",\"Stieg Larsson\"],[\"The Girl Who Played with Fire (Millennium Series)\",\"Stieg Larsson\"],[\"The Girl Who Played with Fire (Millennium)\",\"Stieg Larsson\"],[\"The Girl with the Dragon Tattoo (Millennium Series)\",\"Stieg Larsson\"],[\"The Girl with the Dragon Tattoo (Millennium Series)\",\"Stieg Larsson\"],[\"The Going-To-Bed Book\",\"Sandra Boynton\"],[\"The Going-To-Bed Book\",\"Sandra Boynton\"],[\"The Goldfinch: A Novel (Pulitzer Prize for Fiction)\",\"Donna Tartt\"],[\"The Goldfinch: A Novel (Pulitzer Prize for Fiction)\",\"Donna Tartt\"],[\"The Great Gatsby\",\"F. Scott Fitzgerald\"],[\"The Great Gatsby\",\"F. Scott Fitzgerald\"],[\"The Great Gatsby\",\"F. Scott Fitzgerald\"],[\"The Guardians: A Novel\",\"John Grisham\"],[\"The Guernsey Literary and Potato Peel Pie Society\",\"Mary Ann Shaffer\"],[\"The Handmaid's Tale\",\"Margaret Atwood\"],[\"The Harbinger: The Ancient Mystery that Holds the Secret of America's Future\",\"Jonathan Cahn\"],[\"The Hate U Give\",\"Angie Thomas\"],[\"The Help\",\"Kathryn Stockett\"],[\"The Help\",\"Kathryn Stockett\"],[\"The Help\",\"Kathryn Stockett\"],[\"The Help\",\"Kathryn Stockett\"],[\"The House of Hades (Heroes of Olympus, Book 4)\",\"Rick Riordan\"],[\"The Hunger Games\",\"Suzanne Collins\"],[\"The Hunger Games (Book 1)\",\"Suzanne Collins\"],[\"The Hunger Games (Book 1)\",\"Suzanne Collins\"],[\"The Hunger Games Trilogy Boxed Set (1)\",\"Suzanne Collins\"],[\"The Hunger Games Trilogy Boxed Set (1)\",\"Suzanne Collins\"],[\"The Last Olympian (Percy Jackson and the Olympians, Book 5)\",\"Rick Riordan\"],[\"The Last Olympian (Percy Jackson and the Olympians, Book 5)\",\"Rick Riordan\"],[\"The Legend of Zelda: Hyrule Historia\",\"Patrick Thorpe\"],[\"The Litigators\",\"John Grisham\"],[\"The Lost Hero (Heroes of Olympus, Book 1)\",\"Rick Riordan\"],[\"The Lost Symbol\",\"Dan Brown\"],[\"The Mark of Athena (Heroes of Olympus, Book 3)\",\"Rick Riordan\"],[\"The Martian\",\"Andy Weir\"],[\"The Maze Runner (Book 1)\",\"James Dashner\"],[\"The Meltdown (Diary of a Wimpy Kid Book 13)\",\"Jeff Kinney\"],[\"The Nightingale: A Novel\",\"Kristin Hannah\"],[\"The Nightingale: A Novel\",\"Kristin Hannah\"],[\"The Paris Wife: A Novel\",\"Paula McLain\"],[\"The Pout-Pout Fish\",\"Deborah Diesen\"],[\"The Pout-Pout Fish\",\"Deborah Diesen\"],[\"The President Is Missing: A Novel\",\"James Patterson\"],[\"The Racketeer\",\"John Grisham\"],[\"The Red Pyramid (The Kane Chronicles, Book 1)\",\"Rick Riordan\"],[\"The Serpent's Shadow (The Kane Chronicles, Book 3)\",\"Rick Riordan\"],[\"The Shack: Where Tragedy Confronts Eternity\",\"William P. Young\"],[\"The Shack: Where Tragedy Confronts Eternity\",\"William P. Young\"],[\"The Short Second Life of Bree Tanner: An Eclipse Novella (The Twilight Saga)\",\"Stephenie Meyer\"],[\"The Silent Patient\",\"Alex Michaelides\"],[\"The Son of Neptune (Heroes of Olympus, Book 2)\",\"Rick Riordan\"],[\"The Third Wheel (Diary of a Wimpy Kid, Book 7)\",\"Jeff Kinney\"],[\"The Throne of Fire (The Kane Chronicles, Book 2)\",\"Rick Riordan\"],[\"The Time Traveler's Wife\",\"Audrey Niffenegger\"],[\"The Twilight Saga Collection\",\"Stephenie Meyer\"],[\"The Ugly Truth (Diary of a Wimpy Kid, Book 5)\",\"Jeff Kinney\"],[\"The Very Hungry Caterpillar\",\"Eric Carle\"],[\"The Very Hungry Caterpillar\",\"Eric Carle\"],[\"The Very Hungry Caterpillar\",\"Eric Carle\"],[\"The Very Hungry Caterpillar\",\"Eric Carle\"],[\"The Very Hungry Caterpillar\",\"Eric Carle\"],[\"The Very Hungry Caterpillar\",\"Eric Carle\"],[\"The Very Hungry Caterpillar\",\"Eric Carle\"],[\"The Wonderful Things You Will Be\",\"Emily Winfield Martin\"],[\"The Wonderful Things You Will Be\",\"Emily Winfield Martin\"],[\"The Wonderful Things You Will Be\",\"Emily Winfield Martin\"],[\"The Wonderful Things You Will Be\",\"Emily Winfield Martin\"],[\"The Wonky Donkey\",\"Craig Smith\"],[\"The Wonky Donkey\",\"Craig Smith\"],[\"Thirteen Reasons Why\",\"Jay Asher\"],[\"To Kill a Mockingbird\",\"Harper Lee\"],[\"To Kill a Mockingbird\",\"Harper Lee\"],[\"To Kill a Mockingbird\",\"Harper Lee\"],[\"To Kill a Mockingbird\",\"Harper Lee\"],[\"To Kill a Mockingbird\",\"Harper Lee\"],[\"Towers of Midnight (Wheel of Time, Book Thirteen)\",\"Robert Jordan\"],[\"Twilight (The Twilight Saga, Book 1)\",\"Stephenie Meyer\"],[\"Ultimate Sticker Book: Frozen: More Than 60 Reusable Full-Color Stickers\",\"DK\"],[\"Under the Dome: A Novel\",\"Stephen King\"],[\"Watchmen\",\"Alan Moore\"],[\"Water for Elephants: A Novel\",\"Sara Gruen\"],[\"What Pet Should I Get? (Classic Seuss)\",\"Dr. Seuss\"],[\"What Should Danny Do? (The Power to Choose Series)\",\"Adir Levy\"],[\"Where the Crawdads Sing\",\"Delia Owens\"],[\"Where the Wild Things Are\",\"Maurice Sendak\"],[\"Winter of the World: Book Two of the Century Trilogy\",\"Ken Follett\"],[\"Wonder\",\"R. J. Palacio\"],[\"Wonder\",\"R. J. Palacio\"],[\"Wonder\",\"R. J. Palacio\"],[\"Wonder\",\"R. J. Palacio\"],[\"Wonder\",\"R. J. Palacio\"],[\"Wrecking Ball (Diary of a Wimpy Kid Book 14)\",\"Jeff Kinney\"]],\"hovertemplate\":\"Genre=Fiction<br>Year=%{x}<br>User Rating=%{y}<br>Name=%{customdata[0]}<br>Author=%{customdata[1]}<extra></extra>\",\"legendgroup\":\"Fiction\",\"marker\":{\"color\":\"#EF553B\",\"symbol\":\"circle\"},\"mode\":\"markers\",\"name\":\"Fiction\",\"orientation\":\"v\",\"showlegend\":true,\"type\":\"scatter\",\"x\":[2011,2017,2011,2014,2017,2016,2017,2018,2014,2015,2013,2013,2009,2017,2019,2011,2010,2011,2012,2018,2010,2011,2009,2010,2011,2015,2016,2017,2018,2013,2009,2014,2013,2014,2014,2013,2009,2018,2017,2018,2019,2019,2019,2018,2016,2009,2009,2016,2018,2016,2012,2012,2012,2013,2012,2014,2011,2012,2013,2015,2016,2017,2018,2019,2015,2011,2012,2013,2014,2017,2018,2019,2012,2013,2015,2016,2016,2019,2017,2016,2016,2009,2017,2019,2014,2013,2011,2014,2013,2018,2010,2014,2018,2014,2014,2015,2010,2011,2012,2009,2012,2013,2014,2015,2016,2017,2018,2019,2015,2009,2017,2014,2010,2017,2018,2019,2016,2017,2017,2018,2013,2014,2010,2009,2019,2013,2014,2010,2011,2014,2013,2014,2014,2015,2012,2010,2013,2014,2015,2009,2012,2013,2014,2014,2017,2015,2016,2010,2011,2010,2009,2009,2010,2016,2017,2013,2014,2012,2013,2014,2019,2009,2017,2012,2018,2009,2010,2011,2011,2013,2010,2011,2012,2011,2012,2009,2010,2013,2011,2010,2009,2012,2015,2014,2018,2015,2016,2011,2017,2018,2018,2012,2010,2012,2009,2017,2010,2019,2011,2012,2011,2009,2009,2010,2013,2014,2015,2016,2017,2018,2019,2016,2017,2018,2019,2018,2019,2017,2013,2014,2015,2016,2019,2010,2009,2014,2009,2009,2011,2015,2019,2019,2009,2012,2013,2014,2015,2016,2017,2019],\"xaxis\":\"x\",\"y\":[4.6,4.7,4.4,4.7,4.7,4.6,4.6,4.5,4.6,4.6,3.9,4.3,4.6,4.9,4.9,4.8,4.7,4.7,4.7,4.3,4.6,4.6,4.6,4.3,4.2,4.8,4.8,4.8,4.8,4.8,4.8,4.8,4.6,4.6,4.5,4.7,4.8,4.9,4.9,4.9,4.9,4.9,4.9,4.9,4.8,4.7,4.7,4.6,4.6,4.7,4.4,4.5,3.8,3.8,4.5,4.7,4.6,4.6,4.6,4.8,4.8,4.8,4.8,4.8,3.6,4.8,4.0,4.0,4.0,4.8,4.8,4.8,4.9,4.9,4.4,4.9,4.0,4.9,4.9,4.9,4.8,4.6,4.8,4.8,4.3,4.1,4.6,4.6,4.5,4.9,4.1,4.9,4.5,4.5,4.8,4.8,4.5,4.5,4.5,4.6,4.9,4.9,4.9,4.9,4.9,4.9,4.9,4.9,4.8,4.2,4.3,4.6,4.8,4.8,4.8,4.8,4.7,4.8,4.6,4.6,4.9,4.9,4.6,4.7,4.9,4.5,4.7,4.7,4.7,4.8,4.6,4.6,4.8,4.8,3.3,4.3,4.8,4.8,4.8,4.0,4.7,4.7,4.7,4.7,4.8,4.1,4.1,4.7,4.7,4.7,4.7,4.4,4.4,4.8,4.8,3.9,3.9,4.4,4.4,4.4,4.5,4.7,4.3,4.6,4.8,4.8,4.8,4.8,4.8,4.8,4.7,4.7,4.7,4.8,4.8,4.8,4.8,4.9,4.4,4.8,4.2,4.8,4.7,4.5,4.8,4.8,4.8,4.3,4.8,4.8,4.3,4.3,4.6,4.8,4.6,4.6,4.6,4.5,4.8,4.7,4.7,4.4,4.7,4.8,4.9,4.9,4.9,4.9,4.9,4.9,4.9,4.9,4.9,4.9,4.9,4.8,4.8,4.5,4.8,4.8,4.8,4.8,4.8,4.8,4.7,4.5,4.3,4.8,4.5,4.7,4.8,4.8,4.8,4.5,4.8,4.8,4.8,4.8,4.8,4.9],\"yaxis\":\"y\"}],                        {\"legend\":{\"title\":{\"text\":\"Genre\"},\"tracegroupgap\":0},\"template\":{\"data\":{\"bar\":[{\"error_x\":{\"color\":\"#2a3f5f\"},\"error_y\":{\"color\":\"#2a3f5f\"},\"marker\":{\"line\":{\"color\":\"#E5ECF6\",\"width\":0.5},\"pattern\":{\"fillmode\":\"overlay\",\"size\":10,\"solidity\":0.2}},\"type\":\"bar\"}],\"barpolar\":[{\"marker\":{\"line\":{\"color\":\"#E5ECF6\",\"width\":0.5},\"pattern\":{\"fillmode\":\"overlay\",\"size\":10,\"solidity\":0.2}},\"type\":\"barpolar\"}],\"carpet\":[{\"aaxis\":{\"endlinecolor\":\"#2a3f5f\",\"gridcolor\":\"white\",\"linecolor\":\"white\",\"minorgridcolor\":\"white\",\"startlinecolor\":\"#2a3f5f\"},\"baxis\":{\"endlinecolor\":\"#2a3f5f\",\"gridcolor\":\"white\",\"linecolor\":\"white\",\"minorgridcolor\":\"white\",\"startlinecolor\":\"#2a3f5f\"},\"type\":\"carpet\"}],\"choropleth\":[{\"colorbar\":{\"outlinewidth\":0,\"ticks\":\"\"},\"type\":\"choropleth\"}],\"contour\":[{\"colorbar\":{\"outlinewidth\":0,\"ticks\":\"\"},\"colorscale\":[[0.0,\"#0d0887\"],[0.1111111111111111,\"#46039f\"],[0.2222222222222222,\"#7201a8\"],[0.3333333333333333,\"#9c179e\"],[0.4444444444444444,\"#bd3786\"],[0.5555555555555556,\"#d8576b\"],[0.6666666666666666,\"#ed7953\"],[0.7777777777777778,\"#fb9f3a\"],[0.8888888888888888,\"#fdca26\"],[1.0,\"#f0f921\"]],\"type\":\"contour\"}],\"contourcarpet\":[{\"colorbar\":{\"outlinewidth\":0,\"ticks\":\"\"},\"type\":\"contourcarpet\"}],\"heatmap\":[{\"colorbar\":{\"outlinewidth\":0,\"ticks\":\"\"},\"colorscale\":[[0.0,\"#0d0887\"],[0.1111111111111111,\"#46039f\"],[0.2222222222222222,\"#7201a8\"],[0.3333333333333333,\"#9c179e\"],[0.4444444444444444,\"#bd3786\"],[0.5555555555555556,\"#d8576b\"],[0.6666666666666666,\"#ed7953\"],[0.7777777777777778,\"#fb9f3a\"],[0.8888888888888888,\"#fdca26\"],[1.0,\"#f0f921\"]],\"type\":\"heatmap\"}],\"heatmapgl\":[{\"colorbar\":{\"outlinewidth\":0,\"ticks\":\"\"},\"colorscale\":[[0.0,\"#0d0887\"],[0.1111111111111111,\"#46039f\"],[0.2222222222222222,\"#7201a8\"],[0.3333333333333333,\"#9c179e\"],[0.4444444444444444,\"#bd3786\"],[0.5555555555555556,\"#d8576b\"],[0.6666666666666666,\"#ed7953\"],[0.7777777777777778,\"#fb9f3a\"],[0.8888888888888888,\"#fdca26\"],[1.0,\"#f0f921\"]],\"type\":\"heatmapgl\"}],\"histogram\":[{\"marker\":{\"pattern\":{\"fillmode\":\"overlay\",\"size\":10,\"solidity\":0.2}},\"type\":\"histogram\"}],\"histogram2d\":[{\"colorbar\":{\"outlinewidth\":0,\"ticks\":\"\"},\"colorscale\":[[0.0,\"#0d0887\"],[0.1111111111111111,\"#46039f\"],[0.2222222222222222,\"#7201a8\"],[0.3333333333333333,\"#9c179e\"],[0.4444444444444444,\"#bd3786\"],[0.5555555555555556,\"#d8576b\"],[0.6666666666666666,\"#ed7953\"],[0.7777777777777778,\"#fb9f3a\"],[0.8888888888888888,\"#fdca26\"],[1.0,\"#f0f921\"]],\"type\":\"histogram2d\"}],\"histogram2dcontour\":[{\"colorbar\":{\"outlinewidth\":0,\"ticks\":\"\"},\"colorscale\":[[0.0,\"#0d0887\"],[0.1111111111111111,\"#46039f\"],[0.2222222222222222,\"#7201a8\"],[0.3333333333333333,\"#9c179e\"],[0.4444444444444444,\"#bd3786\"],[0.5555555555555556,\"#d8576b\"],[0.6666666666666666,\"#ed7953\"],[0.7777777777777778,\"#fb9f3a\"],[0.8888888888888888,\"#fdca26\"],[1.0,\"#f0f921\"]],\"type\":\"histogram2dcontour\"}],\"mesh3d\":[{\"colorbar\":{\"outlinewidth\":0,\"ticks\":\"\"},\"type\":\"mesh3d\"}],\"parcoords\":[{\"line\":{\"colorbar\":{\"outlinewidth\":0,\"ticks\":\"\"}},\"type\":\"parcoords\"}],\"pie\":[{\"automargin\":true,\"type\":\"pie\"}],\"scatter\":[{\"marker\":{\"colorbar\":{\"outlinewidth\":0,\"ticks\":\"\"}},\"type\":\"scatter\"}],\"scatter3d\":[{\"line\":{\"colorbar\":{\"outlinewidth\":0,\"ticks\":\"\"}},\"marker\":{\"colorbar\":{\"outlinewidth\":0,\"ticks\":\"\"}},\"type\":\"scatter3d\"}],\"scattercarpet\":[{\"marker\":{\"colorbar\":{\"outlinewidth\":0,\"ticks\":\"\"}},\"type\":\"scattercarpet\"}],\"scattergeo\":[{\"marker\":{\"colorbar\":{\"outlinewidth\":0,\"ticks\":\"\"}},\"type\":\"scattergeo\"}],\"scattergl\":[{\"marker\":{\"colorbar\":{\"outlinewidth\":0,\"ticks\":\"\"}},\"type\":\"scattergl\"}],\"scattermapbox\":[{\"marker\":{\"colorbar\":{\"outlinewidth\":0,\"ticks\":\"\"}},\"type\":\"scattermapbox\"}],\"scatterpolar\":[{\"marker\":{\"colorbar\":{\"outlinewidth\":0,\"ticks\":\"\"}},\"type\":\"scatterpolar\"}],\"scatterpolargl\":[{\"marker\":{\"colorbar\":{\"outlinewidth\":0,\"ticks\":\"\"}},\"type\":\"scatterpolargl\"}],\"scatterternary\":[{\"marker\":{\"colorbar\":{\"outlinewidth\":0,\"ticks\":\"\"}},\"type\":\"scatterternary\"}],\"surface\":[{\"colorbar\":{\"outlinewidth\":0,\"ticks\":\"\"},\"colorscale\":[[0.0,\"#0d0887\"],[0.1111111111111111,\"#46039f\"],[0.2222222222222222,\"#7201a8\"],[0.3333333333333333,\"#9c179e\"],[0.4444444444444444,\"#bd3786\"],[0.5555555555555556,\"#d8576b\"],[0.6666666666666666,\"#ed7953\"],[0.7777777777777778,\"#fb9f3a\"],[0.8888888888888888,\"#fdca26\"],[1.0,\"#f0f921\"]],\"type\":\"surface\"}],\"table\":[{\"cells\":{\"fill\":{\"color\":\"#EBF0F8\"},\"line\":{\"color\":\"white\"}},\"header\":{\"fill\":{\"color\":\"#C8D4E3\"},\"line\":{\"color\":\"white\"}},\"type\":\"table\"}]},\"layout\":{\"annotationdefaults\":{\"arrowcolor\":\"#2a3f5f\",\"arrowhead\":0,\"arrowwidth\":1},\"autotypenumbers\":\"strict\",\"coloraxis\":{\"colorbar\":{\"outlinewidth\":0,\"ticks\":\"\"}},\"colorscale\":{\"diverging\":[[0,\"#8e0152\"],[0.1,\"#c51b7d\"],[0.2,\"#de77ae\"],[0.3,\"#f1b6da\"],[0.4,\"#fde0ef\"],[0.5,\"#f7f7f7\"],[0.6,\"#e6f5d0\"],[0.7,\"#b8e186\"],[0.8,\"#7fbc41\"],[0.9,\"#4d9221\"],[1,\"#276419\"]],\"sequential\":[[0.0,\"#0d0887\"],[0.1111111111111111,\"#46039f\"],[0.2222222222222222,\"#7201a8\"],[0.3333333333333333,\"#9c179e\"],[0.4444444444444444,\"#bd3786\"],[0.5555555555555556,\"#d8576b\"],[0.6666666666666666,\"#ed7953\"],[0.7777777777777778,\"#fb9f3a\"],[0.8888888888888888,\"#fdca26\"],[1.0,\"#f0f921\"]],\"sequentialminus\":[[0.0,\"#0d0887\"],[0.1111111111111111,\"#46039f\"],[0.2222222222222222,\"#7201a8\"],[0.3333333333333333,\"#9c179e\"],[0.4444444444444444,\"#bd3786\"],[0.5555555555555556,\"#d8576b\"],[0.6666666666666666,\"#ed7953\"],[0.7777777777777778,\"#fb9f3a\"],[0.8888888888888888,\"#fdca26\"],[1.0,\"#f0f921\"]]},\"colorway\":[\"#636efa\",\"#EF553B\",\"#00cc96\",\"#ab63fa\",\"#FFA15A\",\"#19d3f3\",\"#FF6692\",\"#B6E880\",\"#FF97FF\",\"#FECB52\"],\"font\":{\"color\":\"#2a3f5f\"},\"geo\":{\"bgcolor\":\"white\",\"lakecolor\":\"white\",\"landcolor\":\"#E5ECF6\",\"showlakes\":true,\"showland\":true,\"subunitcolor\":\"white\"},\"hoverlabel\":{\"align\":\"left\"},\"hovermode\":\"closest\",\"mapbox\":{\"style\":\"light\"},\"paper_bgcolor\":\"white\",\"plot_bgcolor\":\"#E5ECF6\",\"polar\":{\"angularaxis\":{\"gridcolor\":\"white\",\"linecolor\":\"white\",\"ticks\":\"\"},\"bgcolor\":\"#E5ECF6\",\"radialaxis\":{\"gridcolor\":\"white\",\"linecolor\":\"white\",\"ticks\":\"\"}},\"scene\":{\"xaxis\":{\"backgroundcolor\":\"#E5ECF6\",\"gridcolor\":\"white\",\"gridwidth\":2,\"linecolor\":\"white\",\"showbackground\":true,\"ticks\":\"\",\"zerolinecolor\":\"white\"},\"yaxis\":{\"backgroundcolor\":\"#E5ECF6\",\"gridcolor\":\"white\",\"gridwidth\":2,\"linecolor\":\"white\",\"showbackground\":true,\"ticks\":\"\",\"zerolinecolor\":\"white\"},\"zaxis\":{\"backgroundcolor\":\"#E5ECF6\",\"gridcolor\":\"white\",\"gridwidth\":2,\"linecolor\":\"white\",\"showbackground\":true,\"ticks\":\"\",\"zerolinecolor\":\"white\"}},\"shapedefaults\":{\"line\":{\"color\":\"#2a3f5f\"}},\"ternary\":{\"aaxis\":{\"gridcolor\":\"white\",\"linecolor\":\"white\",\"ticks\":\"\"},\"baxis\":{\"gridcolor\":\"white\",\"linecolor\":\"white\",\"ticks\":\"\"},\"bgcolor\":\"#E5ECF6\",\"caxis\":{\"gridcolor\":\"white\",\"linecolor\":\"white\",\"ticks\":\"\"}},\"title\":{\"x\":0.05},\"xaxis\":{\"automargin\":true,\"gridcolor\":\"white\",\"linecolor\":\"white\",\"ticks\":\"\",\"title\":{\"standoff\":15},\"zerolinecolor\":\"white\",\"zerolinewidth\":2},\"yaxis\":{\"automargin\":true,\"gridcolor\":\"white\",\"linecolor\":\"white\",\"ticks\":\"\",\"title\":{\"standoff\":15},\"zerolinecolor\":\"white\",\"zerolinewidth\":2}}},\"title\":{\"text\":\"User Rating in Each Year\"},\"xaxis\":{\"anchor\":\"y\",\"domain\":[0.0,1.0],\"title\":{\"text\":\"Year\"}},\"yaxis\":{\"anchor\":\"x\",\"domain\":[0.0,1.0],\"title\":{\"text\":\"User Rating\"}}},                        {\"responsive\": true}                    ).then(function(){\n",
       "                            \n",
       "var gd = document.getElementById('362f8212-cc6f-4553-957b-5351f2d9382e');\n",
       "var x = new MutationObserver(function (mutations, observer) {{\n",
       "        var display = window.getComputedStyle(gd).display;\n",
       "        if (!display || display === 'none') {{\n",
       "            console.log([gd, 'removed!']);\n",
       "            Plotly.purge(gd);\n",
       "            observer.disconnect();\n",
       "        }}\n",
       "}});\n",
       "\n",
       "// Listen for the removal of the full notebook cells\n",
       "var notebookContainer = gd.closest('#notebook-container');\n",
       "if (notebookContainer) {{\n",
       "    x.observe(notebookContainer, {childList: true});\n",
       "}}\n",
       "\n",
       "// Listen for the clearing of the current output cell\n",
       "var outputEl = gd.closest('.output');\n",
       "if (outputEl) {{\n",
       "    x.observe(outputEl, {childList: true});\n",
       "}}\n",
       "\n",
       "                        })                };                });            </script>        </div>"
      ]
     },
     "metadata": {},
     "output_type": "display_data"
    }
   ],
   "source": [
    "fig = px.scatter(df, x='Year', y='User Rating', title='User Rating in Each Year',color='Genre', hover_data = df[['Name','Author']])\n",
    "fig.show()"
   ]
  },
  {
   "cell_type": "markdown",
   "id": "a3fbebae",
   "metadata": {
    "papermill": {
     "duration": 0.054869,
     "end_time": "2021-07-10T21:54:22.762330",
     "exception": false,
     "start_time": "2021-07-10T21:54:22.707461",
     "status": "completed"
    },
    "tags": []
   },
   "source": [
    "- User rating has almost same distribution on each year with a quite few outliers."
   ]
  },
  {
   "cell_type": "markdown",
   "id": "f1c6cdbb",
   "metadata": {
    "papermill": {
     "duration": 0.054378,
     "end_time": "2021-07-10T21:54:22.870967",
     "exception": false,
     "start_time": "2021-07-10T21:54:22.816589",
     "status": "completed"
    },
    "tags": []
   },
   "source": [
    "### **Top 20 Higly Rated Books**"
   ]
  },
  {
   "cell_type": "code",
   "execution_count": 23,
   "id": "54e24945",
   "metadata": {
    "_kg_hide-input": true,
    "execution": {
     "iopub.execute_input": "2021-07-10T21:54:22.993232Z",
     "iopub.status.busy": "2021-07-10T21:54:22.982516Z",
     "iopub.status.idle": "2021-07-10T21:54:22.998001Z",
     "shell.execute_reply": "2021-07-10T21:54:22.997515Z",
     "shell.execute_reply.started": "2021-07-10T21:43:44.564741Z"
    },
    "papermill": {
     "duration": 0.073458,
     "end_time": "2021-07-10T21:54:22.998111",
     "exception": false,
     "start_time": "2021-07-10T21:54:22.924653",
     "status": "completed"
    },
    "tags": []
   },
   "outputs": [
    {
     "data": {
      "text/html": [
       "<div>\n",
       "<style scoped>\n",
       "    .dataframe tbody tr th:only-of-type {\n",
       "        vertical-align: middle;\n",
       "    }\n",
       "\n",
       "    .dataframe tbody tr th {\n",
       "        vertical-align: top;\n",
       "    }\n",
       "\n",
       "    .dataframe thead th {\n",
       "        text-align: right;\n",
       "    }\n",
       "</style>\n",
       "<table border=\"1\" class=\"dataframe\">\n",
       "  <thead>\n",
       "    <tr style=\"text-align: right;\">\n",
       "      <th></th>\n",
       "      <th>Name</th>\n",
       "      <th>Author</th>\n",
       "      <th>User Rating</th>\n",
       "      <th>Reviews</th>\n",
       "      <th>Price</th>\n",
       "      <th>Year</th>\n",
       "      <th>Genre</th>\n",
       "    </tr>\n",
       "  </thead>\n",
       "  <tbody>\n",
       "    <tr>\n",
       "      <th>431</th>\n",
       "      <td>The Magnolia Story</td>\n",
       "      <td>Chip Gaines</td>\n",
       "      <td>4.9</td>\n",
       "      <td>7861</td>\n",
       "      <td>5</td>\n",
       "      <td>2016</td>\n",
       "      <td>Non Fiction</td>\n",
       "    </tr>\n",
       "    <tr>\n",
       "      <th>87</th>\n",
       "      <td>Dog Man: Lord of the Fleas: From the Creator o...</td>\n",
       "      <td>Dav Pilkey</td>\n",
       "      <td>4.9</td>\n",
       "      <td>5470</td>\n",
       "      <td>6</td>\n",
       "      <td>2018</td>\n",
       "      <td>Fiction</td>\n",
       "    </tr>\n",
       "    <tr>\n",
       "      <th>85</th>\n",
       "      <td>Dog Man: Fetch-22: From the Creator of Captain...</td>\n",
       "      <td>Dav Pilkey</td>\n",
       "      <td>4.9</td>\n",
       "      <td>12619</td>\n",
       "      <td>8</td>\n",
       "      <td>2019</td>\n",
       "      <td>Fiction</td>\n",
       "    </tr>\n",
       "    <tr>\n",
       "      <th>84</th>\n",
       "      <td>Dog Man: Brawl of the Wild: From the Creator o...</td>\n",
       "      <td>Dav Pilkey</td>\n",
       "      <td>4.9</td>\n",
       "      <td>7235</td>\n",
       "      <td>4</td>\n",
       "      <td>2019</td>\n",
       "      <td>Fiction</td>\n",
       "    </tr>\n",
       "    <tr>\n",
       "      <th>83</th>\n",
       "      <td>Dog Man: Brawl of the Wild: From the Creator o...</td>\n",
       "      <td>Dav Pilkey</td>\n",
       "      <td>4.9</td>\n",
       "      <td>7235</td>\n",
       "      <td>4</td>\n",
       "      <td>2018</td>\n",
       "      <td>Fiction</td>\n",
       "    </tr>\n",
       "    <tr>\n",
       "      <th>82</th>\n",
       "      <td>Dog Man: A Tale of Two Kitties: From the Creat...</td>\n",
       "      <td>Dav Pilkey</td>\n",
       "      <td>4.9</td>\n",
       "      <td>4786</td>\n",
       "      <td>8</td>\n",
       "      <td>2017</td>\n",
       "      <td>Fiction</td>\n",
       "    </tr>\n",
       "    <tr>\n",
       "      <th>81</th>\n",
       "      <td>Dog Man and Cat Kid: From the Creator of Capta...</td>\n",
       "      <td>Dav Pilkey</td>\n",
       "      <td>4.9</td>\n",
       "      <td>5062</td>\n",
       "      <td>6</td>\n",
       "      <td>2018</td>\n",
       "      <td>Fiction</td>\n",
       "    </tr>\n",
       "    <tr>\n",
       "      <th>252</th>\n",
       "      <td>Oh, the Places You'll Go!</td>\n",
       "      <td>Dr. Seuss</td>\n",
       "      <td>4.9</td>\n",
       "      <td>21834</td>\n",
       "      <td>8</td>\n",
       "      <td>2019</td>\n",
       "      <td>Fiction</td>\n",
       "    </tr>\n",
       "    <tr>\n",
       "      <th>476</th>\n",
       "      <td>The Very Hungry Caterpillar</td>\n",
       "      <td>Eric Carle</td>\n",
       "      <td>4.9</td>\n",
       "      <td>19546</td>\n",
       "      <td>5</td>\n",
       "      <td>2013</td>\n",
       "      <td>Fiction</td>\n",
       "    </tr>\n",
       "    <tr>\n",
       "      <th>477</th>\n",
       "      <td>The Very Hungry Caterpillar</td>\n",
       "      <td>Eric Carle</td>\n",
       "      <td>4.9</td>\n",
       "      <td>19546</td>\n",
       "      <td>5</td>\n",
       "      <td>2014</td>\n",
       "      <td>Fiction</td>\n",
       "    </tr>\n",
       "    <tr>\n",
       "      <th>478</th>\n",
       "      <td>The Very Hungry Caterpillar</td>\n",
       "      <td>Eric Carle</td>\n",
       "      <td>4.9</td>\n",
       "      <td>19546</td>\n",
       "      <td>5</td>\n",
       "      <td>2015</td>\n",
       "      <td>Fiction</td>\n",
       "    </tr>\n",
       "    <tr>\n",
       "      <th>479</th>\n",
       "      <td>The Very Hungry Caterpillar</td>\n",
       "      <td>Eric Carle</td>\n",
       "      <td>4.9</td>\n",
       "      <td>19546</td>\n",
       "      <td>5</td>\n",
       "      <td>2016</td>\n",
       "      <td>Fiction</td>\n",
       "    </tr>\n",
       "    <tr>\n",
       "      <th>480</th>\n",
       "      <td>The Very Hungry Caterpillar</td>\n",
       "      <td>Eric Carle</td>\n",
       "      <td>4.9</td>\n",
       "      <td>19546</td>\n",
       "      <td>5</td>\n",
       "      <td>2017</td>\n",
       "      <td>Fiction</td>\n",
       "    </tr>\n",
       "    <tr>\n",
       "      <th>481</th>\n",
       "      <td>The Very Hungry Caterpillar</td>\n",
       "      <td>Eric Carle</td>\n",
       "      <td>4.9</td>\n",
       "      <td>19546</td>\n",
       "      <td>5</td>\n",
       "      <td>2018</td>\n",
       "      <td>Fiction</td>\n",
       "    </tr>\n",
       "    <tr>\n",
       "      <th>482</th>\n",
       "      <td>The Very Hungry Caterpillar</td>\n",
       "      <td>Eric Carle</td>\n",
       "      <td>4.9</td>\n",
       "      <td>19546</td>\n",
       "      <td>5</td>\n",
       "      <td>2019</td>\n",
       "      <td>Fiction</td>\n",
       "    </tr>\n",
       "    <tr>\n",
       "      <th>486</th>\n",
       "      <td>The Wonderful Things You Will Be</td>\n",
       "      <td>Emily Winfield Martin</td>\n",
       "      <td>4.9</td>\n",
       "      <td>8842</td>\n",
       "      <td>10</td>\n",
       "      <td>2016</td>\n",
       "      <td>Fiction</td>\n",
       "    </tr>\n",
       "    <tr>\n",
       "      <th>487</th>\n",
       "      <td>The Wonderful Things You Will Be</td>\n",
       "      <td>Emily Winfield Martin</td>\n",
       "      <td>4.9</td>\n",
       "      <td>8842</td>\n",
       "      <td>10</td>\n",
       "      <td>2017</td>\n",
       "      <td>Fiction</td>\n",
       "    </tr>\n",
       "    <tr>\n",
       "      <th>488</th>\n",
       "      <td>The Wonderful Things You Will Be</td>\n",
       "      <td>Emily Winfield Martin</td>\n",
       "      <td>4.9</td>\n",
       "      <td>8842</td>\n",
       "      <td>10</td>\n",
       "      <td>2018</td>\n",
       "      <td>Fiction</td>\n",
       "    </tr>\n",
       "    <tr>\n",
       "      <th>489</th>\n",
       "      <td>The Wonderful Things You Will Be</td>\n",
       "      <td>Emily Winfield Martin</td>\n",
       "      <td>4.9</td>\n",
       "      <td>8842</td>\n",
       "      <td>10</td>\n",
       "      <td>2019</td>\n",
       "      <td>Fiction</td>\n",
       "    </tr>\n",
       "    <tr>\n",
       "      <th>86</th>\n",
       "      <td>Dog Man: For Whom the Ball Rolls: From the Cre...</td>\n",
       "      <td>Dav Pilkey</td>\n",
       "      <td>4.9</td>\n",
       "      <td>9089</td>\n",
       "      <td>8</td>\n",
       "      <td>2019</td>\n",
       "      <td>Fiction</td>\n",
       "    </tr>\n",
       "  </tbody>\n",
       "</table>\n",
       "</div>"
      ],
      "text/plain": [
       "                                                  Name                 Author  \\\n",
       "431                                 The Magnolia Story            Chip Gaines   \n",
       "87   Dog Man: Lord of the Fleas: From the Creator o...             Dav Pilkey   \n",
       "85   Dog Man: Fetch-22: From the Creator of Captain...             Dav Pilkey   \n",
       "84   Dog Man: Brawl of the Wild: From the Creator o...             Dav Pilkey   \n",
       "83   Dog Man: Brawl of the Wild: From the Creator o...             Dav Pilkey   \n",
       "82   Dog Man: A Tale of Two Kitties: From the Creat...             Dav Pilkey   \n",
       "81   Dog Man and Cat Kid: From the Creator of Capta...             Dav Pilkey   \n",
       "252                          Oh, the Places You'll Go!              Dr. Seuss   \n",
       "476                        The Very Hungry Caterpillar             Eric Carle   \n",
       "477                        The Very Hungry Caterpillar             Eric Carle   \n",
       "478                        The Very Hungry Caterpillar             Eric Carle   \n",
       "479                        The Very Hungry Caterpillar             Eric Carle   \n",
       "480                        The Very Hungry Caterpillar             Eric Carle   \n",
       "481                        The Very Hungry Caterpillar             Eric Carle   \n",
       "482                        The Very Hungry Caterpillar             Eric Carle   \n",
       "486                   The Wonderful Things You Will Be  Emily Winfield Martin   \n",
       "487                   The Wonderful Things You Will Be  Emily Winfield Martin   \n",
       "488                   The Wonderful Things You Will Be  Emily Winfield Martin   \n",
       "489                   The Wonderful Things You Will Be  Emily Winfield Martin   \n",
       "86   Dog Man: For Whom the Ball Rolls: From the Cre...             Dav Pilkey   \n",
       "\n",
       "     User Rating  Reviews  Price  Year        Genre  \n",
       "431          4.9     7861      5  2016  Non Fiction  \n",
       "87           4.9     5470      6  2018      Fiction  \n",
       "85           4.9    12619      8  2019      Fiction  \n",
       "84           4.9     7235      4  2019      Fiction  \n",
       "83           4.9     7235      4  2018      Fiction  \n",
       "82           4.9     4786      8  2017      Fiction  \n",
       "81           4.9     5062      6  2018      Fiction  \n",
       "252          4.9    21834      8  2019      Fiction  \n",
       "476          4.9    19546      5  2013      Fiction  \n",
       "477          4.9    19546      5  2014      Fiction  \n",
       "478          4.9    19546      5  2015      Fiction  \n",
       "479          4.9    19546      5  2016      Fiction  \n",
       "480          4.9    19546      5  2017      Fiction  \n",
       "481          4.9    19546      5  2018      Fiction  \n",
       "482          4.9    19546      5  2019      Fiction  \n",
       "486          4.9     8842     10  2016      Fiction  \n",
       "487          4.9     8842     10  2017      Fiction  \n",
       "488          4.9     8842     10  2018      Fiction  \n",
       "489          4.9     8842     10  2019      Fiction  \n",
       "86           4.9     9089      8  2019      Fiction  "
      ]
     },
     "execution_count": 23,
     "metadata": {},
     "output_type": "execute_result"
    }
   ],
   "source": [
    "top_20 = df.sort_values('User Rating', ascending=False)[:20]\n",
    "top_20"
   ]
  },
  {
   "cell_type": "code",
   "execution_count": 24,
   "id": "8150bf72",
   "metadata": {
    "_kg_hide-input": true,
    "execution": {
     "iopub.execute_input": "2021-07-10T21:54:23.127573Z",
     "iopub.status.busy": "2021-07-10T21:54:23.127072Z",
     "iopub.status.idle": "2021-07-10T21:54:23.237070Z",
     "shell.execute_reply": "2021-07-10T21:54:23.236034Z",
     "shell.execute_reply.started": "2021-07-10T21:43:44.585627Z"
    },
    "papermill": {
     "duration": 0.184536,
     "end_time": "2021-07-10T21:54:23.237315",
     "exception": false,
     "start_time": "2021-07-10T21:54:23.052779",
     "status": "completed"
    },
    "tags": []
   },
   "outputs": [
    {
     "data": {
      "text/html": [
       "<div>                            <div id=\"bf372355-891c-448d-99fd-0190b42dec9d\" class=\"plotly-graph-div\" style=\"height:525px; width:100%;\"></div>            <script type=\"text/javascript\">                require([\"plotly\"], function(Plotly) {                    window.PLOTLYENV=window.PLOTLYENV || {};                                    if (document.getElementById(\"bf372355-891c-448d-99fd-0190b42dec9d\")) {                    Plotly.newPlot(                        \"bf372355-891c-448d-99fd-0190b42dec9d\",                        [{\"alignmentgroup\":\"True\",\"customdata\":[[2016,\"Non Fiction\",5]],\"hovertemplate\":\"Genre=%{customdata[1]}<br>Name=%{x}<br>User Rating=%{y}<br>Year=%{customdata[0]}<br>Price=%{customdata[2]}<extra></extra>\",\"legendgroup\":\"Non Fiction\",\"marker\":{\"color\":\"#636efa\",\"pattern\":{\"shape\":\"\"}},\"name\":\"Non Fiction\",\"offsetgroup\":\"Non Fiction\",\"orientation\":\"v\",\"showlegend\":true,\"textposition\":\"auto\",\"type\":\"bar\",\"x\":[\"The Magnolia Story\"],\"xaxis\":\"x\",\"y\":[4.9],\"yaxis\":\"y\"},{\"alignmentgroup\":\"True\",\"customdata\":[[2018,\"Fiction\",6],[2019,\"Fiction\",8],[2019,\"Fiction\",4],[2018,\"Fiction\",4],[2017,\"Fiction\",8],[2018,\"Fiction\",6],[2019,\"Fiction\",8],[2013,\"Fiction\",5],[2014,\"Fiction\",5],[2015,\"Fiction\",5],[2016,\"Fiction\",5],[2017,\"Fiction\",5],[2018,\"Fiction\",5],[2019,\"Fiction\",5],[2016,\"Fiction\",10],[2017,\"Fiction\",10],[2018,\"Fiction\",10],[2019,\"Fiction\",10],[2019,\"Fiction\",8]],\"hovertemplate\":\"Genre=%{customdata[1]}<br>Name=%{x}<br>User Rating=%{y}<br>Year=%{customdata[0]}<br>Price=%{customdata[2]}<extra></extra>\",\"legendgroup\":\"Fiction\",\"marker\":{\"color\":\"#EF553B\",\"pattern\":{\"shape\":\"\"}},\"name\":\"Fiction\",\"offsetgroup\":\"Fiction\",\"orientation\":\"v\",\"showlegend\":true,\"textposition\":\"auto\",\"type\":\"bar\",\"x\":[\"Dog Man: Lord of the Fleas: From the Creator of Captain Underpants (Dog Man #5)\",\"Dog Man: Fetch-22: From the Creator of Captain Underpants (Dog Man #8)\",\"Dog Man: Brawl of the Wild: From the Creator of Captain Underpants (Dog Man #6)\",\"Dog Man: Brawl of the Wild: From the Creator of Captain Underpants (Dog Man #6)\",\"Dog Man: A Tale of Two Kitties: From the Creator of Captain Underpants (Dog Man #3)\",\"Dog Man and Cat Kid: From the Creator of Captain Underpants (Dog Man #4)\",\"Oh, the Places You'll Go!\",\"The Very Hungry Caterpillar\",\"The Very Hungry Caterpillar\",\"The Very Hungry Caterpillar\",\"The Very Hungry Caterpillar\",\"The Very Hungry Caterpillar\",\"The Very Hungry Caterpillar\",\"The Very Hungry Caterpillar\",\"The Wonderful Things You Will Be\",\"The Wonderful Things You Will Be\",\"The Wonderful Things You Will Be\",\"The Wonderful Things You Will Be\",\"Dog Man: For Whom the Ball Rolls: From the Creator of Captain Underpants (Dog Man #7)\"],\"xaxis\":\"x\",\"y\":[4.9,4.9,4.9,4.9,4.9,4.9,4.9,4.9,4.9,4.9,4.9,4.9,4.9,4.9,4.9,4.9,4.9,4.9,4.9],\"yaxis\":\"y\"}],                        {\"barmode\":\"relative\",\"legend\":{\"title\":{\"text\":\"Genre\"},\"tracegroupgap\":0},\"margin\":{\"t\":60},\"template\":{\"data\":{\"bar\":[{\"error_x\":{\"color\":\"#2a3f5f\"},\"error_y\":{\"color\":\"#2a3f5f\"},\"marker\":{\"line\":{\"color\":\"#E5ECF6\",\"width\":0.5},\"pattern\":{\"fillmode\":\"overlay\",\"size\":10,\"solidity\":0.2}},\"type\":\"bar\"}],\"barpolar\":[{\"marker\":{\"line\":{\"color\":\"#E5ECF6\",\"width\":0.5},\"pattern\":{\"fillmode\":\"overlay\",\"size\":10,\"solidity\":0.2}},\"type\":\"barpolar\"}],\"carpet\":[{\"aaxis\":{\"endlinecolor\":\"#2a3f5f\",\"gridcolor\":\"white\",\"linecolor\":\"white\",\"minorgridcolor\":\"white\",\"startlinecolor\":\"#2a3f5f\"},\"baxis\":{\"endlinecolor\":\"#2a3f5f\",\"gridcolor\":\"white\",\"linecolor\":\"white\",\"minorgridcolor\":\"white\",\"startlinecolor\":\"#2a3f5f\"},\"type\":\"carpet\"}],\"choropleth\":[{\"colorbar\":{\"outlinewidth\":0,\"ticks\":\"\"},\"type\":\"choropleth\"}],\"contour\":[{\"colorbar\":{\"outlinewidth\":0,\"ticks\":\"\"},\"colorscale\":[[0.0,\"#0d0887\"],[0.1111111111111111,\"#46039f\"],[0.2222222222222222,\"#7201a8\"],[0.3333333333333333,\"#9c179e\"],[0.4444444444444444,\"#bd3786\"],[0.5555555555555556,\"#d8576b\"],[0.6666666666666666,\"#ed7953\"],[0.7777777777777778,\"#fb9f3a\"],[0.8888888888888888,\"#fdca26\"],[1.0,\"#f0f921\"]],\"type\":\"contour\"}],\"contourcarpet\":[{\"colorbar\":{\"outlinewidth\":0,\"ticks\":\"\"},\"type\":\"contourcarpet\"}],\"heatmap\":[{\"colorbar\":{\"outlinewidth\":0,\"ticks\":\"\"},\"colorscale\":[[0.0,\"#0d0887\"],[0.1111111111111111,\"#46039f\"],[0.2222222222222222,\"#7201a8\"],[0.3333333333333333,\"#9c179e\"],[0.4444444444444444,\"#bd3786\"],[0.5555555555555556,\"#d8576b\"],[0.6666666666666666,\"#ed7953\"],[0.7777777777777778,\"#fb9f3a\"],[0.8888888888888888,\"#fdca26\"],[1.0,\"#f0f921\"]],\"type\":\"heatmap\"}],\"heatmapgl\":[{\"colorbar\":{\"outlinewidth\":0,\"ticks\":\"\"},\"colorscale\":[[0.0,\"#0d0887\"],[0.1111111111111111,\"#46039f\"],[0.2222222222222222,\"#7201a8\"],[0.3333333333333333,\"#9c179e\"],[0.4444444444444444,\"#bd3786\"],[0.5555555555555556,\"#d8576b\"],[0.6666666666666666,\"#ed7953\"],[0.7777777777777778,\"#fb9f3a\"],[0.8888888888888888,\"#fdca26\"],[1.0,\"#f0f921\"]],\"type\":\"heatmapgl\"}],\"histogram\":[{\"marker\":{\"pattern\":{\"fillmode\":\"overlay\",\"size\":10,\"solidity\":0.2}},\"type\":\"histogram\"}],\"histogram2d\":[{\"colorbar\":{\"outlinewidth\":0,\"ticks\":\"\"},\"colorscale\":[[0.0,\"#0d0887\"],[0.1111111111111111,\"#46039f\"],[0.2222222222222222,\"#7201a8\"],[0.3333333333333333,\"#9c179e\"],[0.4444444444444444,\"#bd3786\"],[0.5555555555555556,\"#d8576b\"],[0.6666666666666666,\"#ed7953\"],[0.7777777777777778,\"#fb9f3a\"],[0.8888888888888888,\"#fdca26\"],[1.0,\"#f0f921\"]],\"type\":\"histogram2d\"}],\"histogram2dcontour\":[{\"colorbar\":{\"outlinewidth\":0,\"ticks\":\"\"},\"colorscale\":[[0.0,\"#0d0887\"],[0.1111111111111111,\"#46039f\"],[0.2222222222222222,\"#7201a8\"],[0.3333333333333333,\"#9c179e\"],[0.4444444444444444,\"#bd3786\"],[0.5555555555555556,\"#d8576b\"],[0.6666666666666666,\"#ed7953\"],[0.7777777777777778,\"#fb9f3a\"],[0.8888888888888888,\"#fdca26\"],[1.0,\"#f0f921\"]],\"type\":\"histogram2dcontour\"}],\"mesh3d\":[{\"colorbar\":{\"outlinewidth\":0,\"ticks\":\"\"},\"type\":\"mesh3d\"}],\"parcoords\":[{\"line\":{\"colorbar\":{\"outlinewidth\":0,\"ticks\":\"\"}},\"type\":\"parcoords\"}],\"pie\":[{\"automargin\":true,\"type\":\"pie\"}],\"scatter\":[{\"marker\":{\"colorbar\":{\"outlinewidth\":0,\"ticks\":\"\"}},\"type\":\"scatter\"}],\"scatter3d\":[{\"line\":{\"colorbar\":{\"outlinewidth\":0,\"ticks\":\"\"}},\"marker\":{\"colorbar\":{\"outlinewidth\":0,\"ticks\":\"\"}},\"type\":\"scatter3d\"}],\"scattercarpet\":[{\"marker\":{\"colorbar\":{\"outlinewidth\":0,\"ticks\":\"\"}},\"type\":\"scattercarpet\"}],\"scattergeo\":[{\"marker\":{\"colorbar\":{\"outlinewidth\":0,\"ticks\":\"\"}},\"type\":\"scattergeo\"}],\"scattergl\":[{\"marker\":{\"colorbar\":{\"outlinewidth\":0,\"ticks\":\"\"}},\"type\":\"scattergl\"}],\"scattermapbox\":[{\"marker\":{\"colorbar\":{\"outlinewidth\":0,\"ticks\":\"\"}},\"type\":\"scattermapbox\"}],\"scatterpolar\":[{\"marker\":{\"colorbar\":{\"outlinewidth\":0,\"ticks\":\"\"}},\"type\":\"scatterpolar\"}],\"scatterpolargl\":[{\"marker\":{\"colorbar\":{\"outlinewidth\":0,\"ticks\":\"\"}},\"type\":\"scatterpolargl\"}],\"scatterternary\":[{\"marker\":{\"colorbar\":{\"outlinewidth\":0,\"ticks\":\"\"}},\"type\":\"scatterternary\"}],\"surface\":[{\"colorbar\":{\"outlinewidth\":0,\"ticks\":\"\"},\"colorscale\":[[0.0,\"#0d0887\"],[0.1111111111111111,\"#46039f\"],[0.2222222222222222,\"#7201a8\"],[0.3333333333333333,\"#9c179e\"],[0.4444444444444444,\"#bd3786\"],[0.5555555555555556,\"#d8576b\"],[0.6666666666666666,\"#ed7953\"],[0.7777777777777778,\"#fb9f3a\"],[0.8888888888888888,\"#fdca26\"],[1.0,\"#f0f921\"]],\"type\":\"surface\"}],\"table\":[{\"cells\":{\"fill\":{\"color\":\"#EBF0F8\"},\"line\":{\"color\":\"white\"}},\"header\":{\"fill\":{\"color\":\"#C8D4E3\"},\"line\":{\"color\":\"white\"}},\"type\":\"table\"}]},\"layout\":{\"annotationdefaults\":{\"arrowcolor\":\"#2a3f5f\",\"arrowhead\":0,\"arrowwidth\":1},\"autotypenumbers\":\"strict\",\"coloraxis\":{\"colorbar\":{\"outlinewidth\":0,\"ticks\":\"\"}},\"colorscale\":{\"diverging\":[[0,\"#8e0152\"],[0.1,\"#c51b7d\"],[0.2,\"#de77ae\"],[0.3,\"#f1b6da\"],[0.4,\"#fde0ef\"],[0.5,\"#f7f7f7\"],[0.6,\"#e6f5d0\"],[0.7,\"#b8e186\"],[0.8,\"#7fbc41\"],[0.9,\"#4d9221\"],[1,\"#276419\"]],\"sequential\":[[0.0,\"#0d0887\"],[0.1111111111111111,\"#46039f\"],[0.2222222222222222,\"#7201a8\"],[0.3333333333333333,\"#9c179e\"],[0.4444444444444444,\"#bd3786\"],[0.5555555555555556,\"#d8576b\"],[0.6666666666666666,\"#ed7953\"],[0.7777777777777778,\"#fb9f3a\"],[0.8888888888888888,\"#fdca26\"],[1.0,\"#f0f921\"]],\"sequentialminus\":[[0.0,\"#0d0887\"],[0.1111111111111111,\"#46039f\"],[0.2222222222222222,\"#7201a8\"],[0.3333333333333333,\"#9c179e\"],[0.4444444444444444,\"#bd3786\"],[0.5555555555555556,\"#d8576b\"],[0.6666666666666666,\"#ed7953\"],[0.7777777777777778,\"#fb9f3a\"],[0.8888888888888888,\"#fdca26\"],[1.0,\"#f0f921\"]]},\"colorway\":[\"#636efa\",\"#EF553B\",\"#00cc96\",\"#ab63fa\",\"#FFA15A\",\"#19d3f3\",\"#FF6692\",\"#B6E880\",\"#FF97FF\",\"#FECB52\"],\"font\":{\"color\":\"#2a3f5f\"},\"geo\":{\"bgcolor\":\"white\",\"lakecolor\":\"white\",\"landcolor\":\"#E5ECF6\",\"showlakes\":true,\"showland\":true,\"subunitcolor\":\"white\"},\"hoverlabel\":{\"align\":\"left\"},\"hovermode\":\"closest\",\"mapbox\":{\"style\":\"light\"},\"paper_bgcolor\":\"white\",\"plot_bgcolor\":\"#E5ECF6\",\"polar\":{\"angularaxis\":{\"gridcolor\":\"white\",\"linecolor\":\"white\",\"ticks\":\"\"},\"bgcolor\":\"#E5ECF6\",\"radialaxis\":{\"gridcolor\":\"white\",\"linecolor\":\"white\",\"ticks\":\"\"}},\"scene\":{\"xaxis\":{\"backgroundcolor\":\"#E5ECF6\",\"gridcolor\":\"white\",\"gridwidth\":2,\"linecolor\":\"white\",\"showbackground\":true,\"ticks\":\"\",\"zerolinecolor\":\"white\"},\"yaxis\":{\"backgroundcolor\":\"#E5ECF6\",\"gridcolor\":\"white\",\"gridwidth\":2,\"linecolor\":\"white\",\"showbackground\":true,\"ticks\":\"\",\"zerolinecolor\":\"white\"},\"zaxis\":{\"backgroundcolor\":\"#E5ECF6\",\"gridcolor\":\"white\",\"gridwidth\":2,\"linecolor\":\"white\",\"showbackground\":true,\"ticks\":\"\",\"zerolinecolor\":\"white\"}},\"shapedefaults\":{\"line\":{\"color\":\"#2a3f5f\"}},\"ternary\":{\"aaxis\":{\"gridcolor\":\"white\",\"linecolor\":\"white\",\"ticks\":\"\"},\"baxis\":{\"gridcolor\":\"white\",\"linecolor\":\"white\",\"ticks\":\"\"},\"bgcolor\":\"#E5ECF6\",\"caxis\":{\"gridcolor\":\"white\",\"linecolor\":\"white\",\"ticks\":\"\"}},\"title\":{\"x\":0.05},\"xaxis\":{\"automargin\":true,\"gridcolor\":\"white\",\"linecolor\":\"white\",\"ticks\":\"\",\"title\":{\"standoff\":15},\"zerolinecolor\":\"white\",\"zerolinewidth\":2},\"yaxis\":{\"automargin\":true,\"gridcolor\":\"white\",\"linecolor\":\"white\",\"ticks\":\"\",\"title\":{\"standoff\":15},\"zerolinecolor\":\"white\",\"zerolinewidth\":2}}},\"xaxis\":{\"anchor\":\"y\",\"categoryorder\":\"total descending\",\"domain\":[0.0,1.0],\"title\":{\"text\":\"Name\"}},\"yaxis\":{\"anchor\":\"x\",\"domain\":[0.0,1.0],\"title\":{\"text\":\"User Rating\"}}},                        {\"responsive\": true}                    ).then(function(){\n",
       "                            \n",
       "var gd = document.getElementById('bf372355-891c-448d-99fd-0190b42dec9d');\n",
       "var x = new MutationObserver(function (mutations, observer) {{\n",
       "        var display = window.getComputedStyle(gd).display;\n",
       "        if (!display || display === 'none') {{\n",
       "            console.log([gd, 'removed!']);\n",
       "            Plotly.purge(gd);\n",
       "            observer.disconnect();\n",
       "        }}\n",
       "}});\n",
       "\n",
       "// Listen for the removal of the full notebook cells\n",
       "var notebookContainer = gd.closest('#notebook-container');\n",
       "if (notebookContainer) {{\n",
       "    x.observe(notebookContainer, {childList: true});\n",
       "}}\n",
       "\n",
       "// Listen for the clearing of the current output cell\n",
       "var outputEl = gd.closest('.output');\n",
       "if (outputEl) {{\n",
       "    x.observe(outputEl, {childList: true});\n",
       "}}\n",
       "\n",
       "                        })                };                });            </script>        </div>"
      ]
     },
     "metadata": {},
     "output_type": "display_data"
    }
   ],
   "source": [
    "fig = px.bar(top_20, x='Name', y= 'User Rating',  hover_data = top_20[['Year','Genre', 'Price']], color='Genre')\n",
    "fig.update_layout(xaxis={'categoryorder':'total descending'})\n",
    "fig.show()"
   ]
  },
  {
   "cell_type": "markdown",
   "id": "e4617be3",
   "metadata": {
    "papermill": {
     "duration": 0.080757,
     "end_time": "2021-07-10T21:54:23.399311",
     "exception": false,
     "start_time": "2021-07-10T21:54:23.318554",
     "status": "completed"
    },
    "tags": []
   },
   "source": [
    "- Several books with their yearly editions got the most reviews from the readers.\n",
    "- Only one book from non-fiction genre find place in the top 20 highly rated book list.\n",
    "- Also maximum price for the books in the top 20 list is $10"
   ]
  },
  {
   "cell_type": "markdown",
   "id": "b7f8b240",
   "metadata": {
    "papermill": {
     "duration": 0.079853,
     "end_time": "2021-07-10T21:54:23.559743",
     "exception": false,
     "start_time": "2021-07-10T21:54:23.479890",
     "status": "completed"
    },
    "tags": []
   },
   "source": [
    "#### **Lowest Rated 20 Books**"
   ]
  },
  {
   "cell_type": "code",
   "execution_count": 25,
   "id": "fb52fe78",
   "metadata": {
    "_kg_hide-input": true,
    "execution": {
     "iopub.execute_input": "2021-07-10T21:54:23.731180Z",
     "iopub.status.busy": "2021-07-10T21:54:23.720546Z",
     "iopub.status.idle": "2021-07-10T21:54:23.735456Z",
     "shell.execute_reply": "2021-07-10T21:54:23.735101Z",
     "shell.execute_reply.started": "2021-07-10T21:43:44.683612Z"
    },
    "papermill": {
     "duration": 0.094875,
     "end_time": "2021-07-10T21:54:23.735569",
     "exception": false,
     "start_time": "2021-07-10T21:54:23.640694",
     "status": "completed"
    },
    "tags": []
   },
   "outputs": [
    {
     "data": {
      "text/html": [
       "<div>\n",
       "<style scoped>\n",
       "    .dataframe tbody tr th:only-of-type {\n",
       "        vertical-align: middle;\n",
       "    }\n",
       "\n",
       "    .dataframe tbody tr th {\n",
       "        vertical-align: top;\n",
       "    }\n",
       "\n",
       "    .dataframe thead th {\n",
       "        text-align: right;\n",
       "    }\n",
       "</style>\n",
       "<table border=\"1\" class=\"dataframe\">\n",
       "  <thead>\n",
       "    <tr style=\"text-align: right;\">\n",
       "      <th></th>\n",
       "      <th>Name</th>\n",
       "      <th>Author</th>\n",
       "      <th>User Rating</th>\n",
       "      <th>Reviews</th>\n",
       "      <th>Price</th>\n",
       "      <th>Year</th>\n",
       "      <th>Genre</th>\n",
       "    </tr>\n",
       "  </thead>\n",
       "  <tbody>\n",
       "    <tr>\n",
       "      <th>353</th>\n",
       "      <td>The Casual Vacancy</td>\n",
       "      <td>J.K. Rowling</td>\n",
       "      <td>3.3</td>\n",
       "      <td>9372</td>\n",
       "      <td>12</td>\n",
       "      <td>2012</td>\n",
       "      <td>Fiction</td>\n",
       "    </tr>\n",
       "    <tr>\n",
       "      <th>132</th>\n",
       "      <td>Go Set a Watchman: A Novel</td>\n",
       "      <td>Harper Lee</td>\n",
       "      <td>3.6</td>\n",
       "      <td>14982</td>\n",
       "      <td>19</td>\n",
       "      <td>2015</td>\n",
       "      <td>Fiction</td>\n",
       "    </tr>\n",
       "    <tr>\n",
       "      <th>106</th>\n",
       "      <td>Fifty Shades of Grey: Book One of the Fifty Sh...</td>\n",
       "      <td>E L James</td>\n",
       "      <td>3.8</td>\n",
       "      <td>47265</td>\n",
       "      <td>14</td>\n",
       "      <td>2012</td>\n",
       "      <td>Fiction</td>\n",
       "    </tr>\n",
       "    <tr>\n",
       "      <th>107</th>\n",
       "      <td>Fifty Shades of Grey: Book One of the Fifty Sh...</td>\n",
       "      <td>E L James</td>\n",
       "      <td>3.8</td>\n",
       "      <td>47265</td>\n",
       "      <td>14</td>\n",
       "      <td>2013</td>\n",
       "      <td>Fiction</td>\n",
       "    </tr>\n",
       "    <tr>\n",
       "      <th>393</th>\n",
       "      <td>The Goldfinch: A Novel (Pulitzer Prize for Fic...</td>\n",
       "      <td>Donna Tartt</td>\n",
       "      <td>3.9</td>\n",
       "      <td>33844</td>\n",
       "      <td>20</td>\n",
       "      <td>2014</td>\n",
       "      <td>Fiction</td>\n",
       "    </tr>\n",
       "    <tr>\n",
       "      <th>22</th>\n",
       "      <td>Allegiant</td>\n",
       "      <td>Veronica Roth</td>\n",
       "      <td>3.9</td>\n",
       "      <td>6310</td>\n",
       "      <td>13</td>\n",
       "      <td>2013</td>\n",
       "      <td>Fiction</td>\n",
       "    </tr>\n",
       "    <tr>\n",
       "      <th>392</th>\n",
       "      <td>The Goldfinch: A Novel (Pulitzer Prize for Fic...</td>\n",
       "      <td>Donna Tartt</td>\n",
       "      <td>3.9</td>\n",
       "      <td>33844</td>\n",
       "      <td>20</td>\n",
       "      <td>2013</td>\n",
       "      <td>Fiction</td>\n",
       "    </tr>\n",
       "    <tr>\n",
       "      <th>364</th>\n",
       "      <td>The Elegance of the Hedgehog</td>\n",
       "      <td>Muriel Barbery</td>\n",
       "      <td>4.0</td>\n",
       "      <td>1859</td>\n",
       "      <td>11</td>\n",
       "      <td>2009</td>\n",
       "      <td>Fiction</td>\n",
       "    </tr>\n",
       "    <tr>\n",
       "      <th>137</th>\n",
       "      <td>Gone Girl</td>\n",
       "      <td>Gillian Flynn</td>\n",
       "      <td>4.0</td>\n",
       "      <td>57271</td>\n",
       "      <td>9</td>\n",
       "      <td>2014</td>\n",
       "      <td>Fiction</td>\n",
       "    </tr>\n",
       "    <tr>\n",
       "      <th>136</th>\n",
       "      <td>Gone Girl</td>\n",
       "      <td>Gillian Flynn</td>\n",
       "      <td>4.0</td>\n",
       "      <td>57271</td>\n",
       "      <td>10</td>\n",
       "      <td>2013</td>\n",
       "      <td>Fiction</td>\n",
       "    </tr>\n",
       "    <tr>\n",
       "      <th>304</th>\n",
       "      <td>StrengthsFinder 2.0</td>\n",
       "      <td>Gallup</td>\n",
       "      <td>4.0</td>\n",
       "      <td>5069</td>\n",
       "      <td>17</td>\n",
       "      <td>2009</td>\n",
       "      <td>Non Fiction</td>\n",
       "    </tr>\n",
       "    <tr>\n",
       "      <th>135</th>\n",
       "      <td>Gone Girl</td>\n",
       "      <td>Gillian Flynn</td>\n",
       "      <td>4.0</td>\n",
       "      <td>57271</td>\n",
       "      <td>10</td>\n",
       "      <td>2012</td>\n",
       "      <td>Fiction</td>\n",
       "    </tr>\n",
       "    <tr>\n",
       "      <th>306</th>\n",
       "      <td>StrengthsFinder 2.0</td>\n",
       "      <td>Gallup</td>\n",
       "      <td>4.0</td>\n",
       "      <td>5069</td>\n",
       "      <td>17</td>\n",
       "      <td>2011</td>\n",
       "      <td>Non Fiction</td>\n",
       "    </tr>\n",
       "    <tr>\n",
       "      <th>307</th>\n",
       "      <td>StrengthsFinder 2.0</td>\n",
       "      <td>Gallup</td>\n",
       "      <td>4.0</td>\n",
       "      <td>5069</td>\n",
       "      <td>17</td>\n",
       "      <td>2012</td>\n",
       "      <td>Non Fiction</td>\n",
       "    </tr>\n",
       "    <tr>\n",
       "      <th>311</th>\n",
       "      <td>StrengthsFinder 2.0</td>\n",
       "      <td>Gallup</td>\n",
       "      <td>4.0</td>\n",
       "      <td>5069</td>\n",
       "      <td>17</td>\n",
       "      <td>2016</td>\n",
       "      <td>Non Fiction</td>\n",
       "    </tr>\n",
       "    <tr>\n",
       "      <th>312</th>\n",
       "      <td>StrengthsFinder 2.0</td>\n",
       "      <td>Gallup</td>\n",
       "      <td>4.0</td>\n",
       "      <td>5069</td>\n",
       "      <td>17</td>\n",
       "      <td>2017</td>\n",
       "      <td>Non Fiction</td>\n",
       "    </tr>\n",
       "    <tr>\n",
       "      <th>308</th>\n",
       "      <td>StrengthsFinder 2.0</td>\n",
       "      <td>Gallup</td>\n",
       "      <td>4.0</td>\n",
       "      <td>5069</td>\n",
       "      <td>17</td>\n",
       "      <td>2013</td>\n",
       "      <td>Non Fiction</td>\n",
       "    </tr>\n",
       "    <tr>\n",
       "      <th>305</th>\n",
       "      <td>StrengthsFinder 2.0</td>\n",
       "      <td>Gallup</td>\n",
       "      <td>4.0</td>\n",
       "      <td>5069</td>\n",
       "      <td>17</td>\n",
       "      <td>2010</td>\n",
       "      <td>Non Fiction</td>\n",
       "    </tr>\n",
       "    <tr>\n",
       "      <th>154</th>\n",
       "      <td>Harry Potter and the Cursed Child, Parts 1 &amp; 2...</td>\n",
       "      <td>J.K. Rowling</td>\n",
       "      <td>4.0</td>\n",
       "      <td>23973</td>\n",
       "      <td>12</td>\n",
       "      <td>2016</td>\n",
       "      <td>Fiction</td>\n",
       "    </tr>\n",
       "    <tr>\n",
       "      <th>309</th>\n",
       "      <td>StrengthsFinder 2.0</td>\n",
       "      <td>Gallup</td>\n",
       "      <td>4.0</td>\n",
       "      <td>5069</td>\n",
       "      <td>17</td>\n",
       "      <td>2014</td>\n",
       "      <td>Non Fiction</td>\n",
       "    </tr>\n",
       "  </tbody>\n",
       "</table>\n",
       "</div>"
      ],
      "text/plain": [
       "                                                  Name          Author  \\\n",
       "353                                 The Casual Vacancy    J.K. Rowling   \n",
       "132                         Go Set a Watchman: A Novel      Harper Lee   \n",
       "106  Fifty Shades of Grey: Book One of the Fifty Sh...       E L James   \n",
       "107  Fifty Shades of Grey: Book One of the Fifty Sh...       E L James   \n",
       "393  The Goldfinch: A Novel (Pulitzer Prize for Fic...     Donna Tartt   \n",
       "22                                           Allegiant   Veronica Roth   \n",
       "392  The Goldfinch: A Novel (Pulitzer Prize for Fic...     Donna Tartt   \n",
       "364                       The Elegance of the Hedgehog  Muriel Barbery   \n",
       "137                                          Gone Girl   Gillian Flynn   \n",
       "136                                          Gone Girl   Gillian Flynn   \n",
       "304                                StrengthsFinder 2.0          Gallup   \n",
       "135                                          Gone Girl   Gillian Flynn   \n",
       "306                                StrengthsFinder 2.0          Gallup   \n",
       "307                                StrengthsFinder 2.0          Gallup   \n",
       "311                                StrengthsFinder 2.0          Gallup   \n",
       "312                                StrengthsFinder 2.0          Gallup   \n",
       "308                                StrengthsFinder 2.0          Gallup   \n",
       "305                                StrengthsFinder 2.0          Gallup   \n",
       "154  Harry Potter and the Cursed Child, Parts 1 & 2...    J.K. Rowling   \n",
       "309                                StrengthsFinder 2.0          Gallup   \n",
       "\n",
       "     User Rating  Reviews  Price  Year        Genre  \n",
       "353          3.3     9372     12  2012      Fiction  \n",
       "132          3.6    14982     19  2015      Fiction  \n",
       "106          3.8    47265     14  2012      Fiction  \n",
       "107          3.8    47265     14  2013      Fiction  \n",
       "393          3.9    33844     20  2014      Fiction  \n",
       "22           3.9     6310     13  2013      Fiction  \n",
       "392          3.9    33844     20  2013      Fiction  \n",
       "364          4.0     1859     11  2009      Fiction  \n",
       "137          4.0    57271      9  2014      Fiction  \n",
       "136          4.0    57271     10  2013      Fiction  \n",
       "304          4.0     5069     17  2009  Non Fiction  \n",
       "135          4.0    57271     10  2012      Fiction  \n",
       "306          4.0     5069     17  2011  Non Fiction  \n",
       "307          4.0     5069     17  2012  Non Fiction  \n",
       "311          4.0     5069     17  2016  Non Fiction  \n",
       "312          4.0     5069     17  2017  Non Fiction  \n",
       "308          4.0     5069     17  2013  Non Fiction  \n",
       "305          4.0     5069     17  2010  Non Fiction  \n",
       "154          4.0    23973     12  2016      Fiction  \n",
       "309          4.0     5069     17  2014  Non Fiction  "
      ]
     },
     "execution_count": 25,
     "metadata": {},
     "output_type": "execute_result"
    }
   ],
   "source": [
    "bottom_20 = df.sort_values('User Rating')[:20]\n",
    "bottom_20"
   ]
  },
  {
   "cell_type": "code",
   "execution_count": 26,
   "id": "95124b9e",
   "metadata": {
    "_kg_hide-input": true,
    "execution": {
     "iopub.execute_input": "2021-07-10T21:54:23.871783Z",
     "iopub.status.busy": "2021-07-10T21:54:23.847954Z",
     "iopub.status.idle": "2021-07-10T21:54:23.908037Z",
     "shell.execute_reply": "2021-07-10T21:54:23.907586Z",
     "shell.execute_reply.started": "2021-07-10T21:43:44.704309Z"
    },
    "papermill": {
     "duration": 0.120389,
     "end_time": "2021-07-10T21:54:23.908146",
     "exception": false,
     "start_time": "2021-07-10T21:54:23.787757",
     "status": "completed"
    },
    "tags": []
   },
   "outputs": [
    {
     "data": {
      "text/html": [
       "<div>                            <div id=\"3feadd1b-f38c-496f-9aa6-51fcc30c42f3\" class=\"plotly-graph-div\" style=\"height:525px; width:100%;\"></div>            <script type=\"text/javascript\">                require([\"plotly\"], function(Plotly) {                    window.PLOTLYENV=window.PLOTLYENV || {};                                    if (document.getElementById(\"3feadd1b-f38c-496f-9aa6-51fcc30c42f3\")) {                    Plotly.newPlot(                        \"3feadd1b-f38c-496f-9aa6-51fcc30c42f3\",                        [{\"alignmentgroup\":\"True\",\"customdata\":[[2012,\"Fiction\",12],[2015,\"Fiction\",19],[2012,\"Fiction\",14],[2013,\"Fiction\",14],[2014,\"Fiction\",20],[2013,\"Fiction\",13],[2013,\"Fiction\",20],[2009,\"Fiction\",11],[2014,\"Fiction\",9],[2013,\"Fiction\",10],[2012,\"Fiction\",10],[2016,\"Fiction\",12]],\"hovertemplate\":\"Genre=%{customdata[1]}<br>Name=%{x}<br>User Rating=%{y}<br>Year=%{customdata[0]}<br>Price=%{customdata[2]}<extra></extra>\",\"legendgroup\":\"Fiction\",\"marker\":{\"color\":\"#636efa\",\"pattern\":{\"shape\":\"\"}},\"name\":\"Fiction\",\"offsetgroup\":\"Fiction\",\"orientation\":\"v\",\"showlegend\":true,\"textposition\":\"auto\",\"type\":\"bar\",\"x\":[\"The Casual Vacancy\",\"Go Set a Watchman: A Novel\",\"Fifty Shades of Grey: Book One of the Fifty Shades Trilogy (Fifty Shades of Grey Series)\",\"Fifty Shades of Grey: Book One of the Fifty Shades Trilogy (Fifty Shades of Grey Series)\",\"The Goldfinch: A Novel (Pulitzer Prize for Fiction)\",\"Allegiant\",\"The Goldfinch: A Novel (Pulitzer Prize for Fiction)\",\"The Elegance of the Hedgehog\",\"Gone Girl\",\"Gone Girl\",\"Gone Girl\",\"Harry Potter and the Cursed Child, Parts 1 & 2, Special Rehearsal Edition Script\"],\"xaxis\":\"x\",\"y\":[3.3,3.6,3.8,3.8,3.9,3.9,3.9,4.0,4.0,4.0,4.0,4.0],\"yaxis\":\"y\"},{\"alignmentgroup\":\"True\",\"customdata\":[[2009,\"Non Fiction\",17],[2011,\"Non Fiction\",17],[2012,\"Non Fiction\",17],[2016,\"Non Fiction\",17],[2017,\"Non Fiction\",17],[2013,\"Non Fiction\",17],[2010,\"Non Fiction\",17],[2014,\"Non Fiction\",17]],\"hovertemplate\":\"Genre=%{customdata[1]}<br>Name=%{x}<br>User Rating=%{y}<br>Year=%{customdata[0]}<br>Price=%{customdata[2]}<extra></extra>\",\"legendgroup\":\"Non Fiction\",\"marker\":{\"color\":\"#EF553B\",\"pattern\":{\"shape\":\"\"}},\"name\":\"Non Fiction\",\"offsetgroup\":\"Non Fiction\",\"orientation\":\"v\",\"showlegend\":true,\"textposition\":\"auto\",\"type\":\"bar\",\"x\":[\"StrengthsFinder 2.0\",\"StrengthsFinder 2.0\",\"StrengthsFinder 2.0\",\"StrengthsFinder 2.0\",\"StrengthsFinder 2.0\",\"StrengthsFinder 2.0\",\"StrengthsFinder 2.0\",\"StrengthsFinder 2.0\"],\"xaxis\":\"x\",\"y\":[4.0,4.0,4.0,4.0,4.0,4.0,4.0,4.0],\"yaxis\":\"y\"}],                        {\"barmode\":\"relative\",\"legend\":{\"title\":{\"text\":\"Genre\"},\"tracegroupgap\":0},\"margin\":{\"t\":60},\"template\":{\"data\":{\"bar\":[{\"error_x\":{\"color\":\"#2a3f5f\"},\"error_y\":{\"color\":\"#2a3f5f\"},\"marker\":{\"line\":{\"color\":\"#E5ECF6\",\"width\":0.5},\"pattern\":{\"fillmode\":\"overlay\",\"size\":10,\"solidity\":0.2}},\"type\":\"bar\"}],\"barpolar\":[{\"marker\":{\"line\":{\"color\":\"#E5ECF6\",\"width\":0.5},\"pattern\":{\"fillmode\":\"overlay\",\"size\":10,\"solidity\":0.2}},\"type\":\"barpolar\"}],\"carpet\":[{\"aaxis\":{\"endlinecolor\":\"#2a3f5f\",\"gridcolor\":\"white\",\"linecolor\":\"white\",\"minorgridcolor\":\"white\",\"startlinecolor\":\"#2a3f5f\"},\"baxis\":{\"endlinecolor\":\"#2a3f5f\",\"gridcolor\":\"white\",\"linecolor\":\"white\",\"minorgridcolor\":\"white\",\"startlinecolor\":\"#2a3f5f\"},\"type\":\"carpet\"}],\"choropleth\":[{\"colorbar\":{\"outlinewidth\":0,\"ticks\":\"\"},\"type\":\"choropleth\"}],\"contour\":[{\"colorbar\":{\"outlinewidth\":0,\"ticks\":\"\"},\"colorscale\":[[0.0,\"#0d0887\"],[0.1111111111111111,\"#46039f\"],[0.2222222222222222,\"#7201a8\"],[0.3333333333333333,\"#9c179e\"],[0.4444444444444444,\"#bd3786\"],[0.5555555555555556,\"#d8576b\"],[0.6666666666666666,\"#ed7953\"],[0.7777777777777778,\"#fb9f3a\"],[0.8888888888888888,\"#fdca26\"],[1.0,\"#f0f921\"]],\"type\":\"contour\"}],\"contourcarpet\":[{\"colorbar\":{\"outlinewidth\":0,\"ticks\":\"\"},\"type\":\"contourcarpet\"}],\"heatmap\":[{\"colorbar\":{\"outlinewidth\":0,\"ticks\":\"\"},\"colorscale\":[[0.0,\"#0d0887\"],[0.1111111111111111,\"#46039f\"],[0.2222222222222222,\"#7201a8\"],[0.3333333333333333,\"#9c179e\"],[0.4444444444444444,\"#bd3786\"],[0.5555555555555556,\"#d8576b\"],[0.6666666666666666,\"#ed7953\"],[0.7777777777777778,\"#fb9f3a\"],[0.8888888888888888,\"#fdca26\"],[1.0,\"#f0f921\"]],\"type\":\"heatmap\"}],\"heatmapgl\":[{\"colorbar\":{\"outlinewidth\":0,\"ticks\":\"\"},\"colorscale\":[[0.0,\"#0d0887\"],[0.1111111111111111,\"#46039f\"],[0.2222222222222222,\"#7201a8\"],[0.3333333333333333,\"#9c179e\"],[0.4444444444444444,\"#bd3786\"],[0.5555555555555556,\"#d8576b\"],[0.6666666666666666,\"#ed7953\"],[0.7777777777777778,\"#fb9f3a\"],[0.8888888888888888,\"#fdca26\"],[1.0,\"#f0f921\"]],\"type\":\"heatmapgl\"}],\"histogram\":[{\"marker\":{\"pattern\":{\"fillmode\":\"overlay\",\"size\":10,\"solidity\":0.2}},\"type\":\"histogram\"}],\"histogram2d\":[{\"colorbar\":{\"outlinewidth\":0,\"ticks\":\"\"},\"colorscale\":[[0.0,\"#0d0887\"],[0.1111111111111111,\"#46039f\"],[0.2222222222222222,\"#7201a8\"],[0.3333333333333333,\"#9c179e\"],[0.4444444444444444,\"#bd3786\"],[0.5555555555555556,\"#d8576b\"],[0.6666666666666666,\"#ed7953\"],[0.7777777777777778,\"#fb9f3a\"],[0.8888888888888888,\"#fdca26\"],[1.0,\"#f0f921\"]],\"type\":\"histogram2d\"}],\"histogram2dcontour\":[{\"colorbar\":{\"outlinewidth\":0,\"ticks\":\"\"},\"colorscale\":[[0.0,\"#0d0887\"],[0.1111111111111111,\"#46039f\"],[0.2222222222222222,\"#7201a8\"],[0.3333333333333333,\"#9c179e\"],[0.4444444444444444,\"#bd3786\"],[0.5555555555555556,\"#d8576b\"],[0.6666666666666666,\"#ed7953\"],[0.7777777777777778,\"#fb9f3a\"],[0.8888888888888888,\"#fdca26\"],[1.0,\"#f0f921\"]],\"type\":\"histogram2dcontour\"}],\"mesh3d\":[{\"colorbar\":{\"outlinewidth\":0,\"ticks\":\"\"},\"type\":\"mesh3d\"}],\"parcoords\":[{\"line\":{\"colorbar\":{\"outlinewidth\":0,\"ticks\":\"\"}},\"type\":\"parcoords\"}],\"pie\":[{\"automargin\":true,\"type\":\"pie\"}],\"scatter\":[{\"marker\":{\"colorbar\":{\"outlinewidth\":0,\"ticks\":\"\"}},\"type\":\"scatter\"}],\"scatter3d\":[{\"line\":{\"colorbar\":{\"outlinewidth\":0,\"ticks\":\"\"}},\"marker\":{\"colorbar\":{\"outlinewidth\":0,\"ticks\":\"\"}},\"type\":\"scatter3d\"}],\"scattercarpet\":[{\"marker\":{\"colorbar\":{\"outlinewidth\":0,\"ticks\":\"\"}},\"type\":\"scattercarpet\"}],\"scattergeo\":[{\"marker\":{\"colorbar\":{\"outlinewidth\":0,\"ticks\":\"\"}},\"type\":\"scattergeo\"}],\"scattergl\":[{\"marker\":{\"colorbar\":{\"outlinewidth\":0,\"ticks\":\"\"}},\"type\":\"scattergl\"}],\"scattermapbox\":[{\"marker\":{\"colorbar\":{\"outlinewidth\":0,\"ticks\":\"\"}},\"type\":\"scattermapbox\"}],\"scatterpolar\":[{\"marker\":{\"colorbar\":{\"outlinewidth\":0,\"ticks\":\"\"}},\"type\":\"scatterpolar\"}],\"scatterpolargl\":[{\"marker\":{\"colorbar\":{\"outlinewidth\":0,\"ticks\":\"\"}},\"type\":\"scatterpolargl\"}],\"scatterternary\":[{\"marker\":{\"colorbar\":{\"outlinewidth\":0,\"ticks\":\"\"}},\"type\":\"scatterternary\"}],\"surface\":[{\"colorbar\":{\"outlinewidth\":0,\"ticks\":\"\"},\"colorscale\":[[0.0,\"#0d0887\"],[0.1111111111111111,\"#46039f\"],[0.2222222222222222,\"#7201a8\"],[0.3333333333333333,\"#9c179e\"],[0.4444444444444444,\"#bd3786\"],[0.5555555555555556,\"#d8576b\"],[0.6666666666666666,\"#ed7953\"],[0.7777777777777778,\"#fb9f3a\"],[0.8888888888888888,\"#fdca26\"],[1.0,\"#f0f921\"]],\"type\":\"surface\"}],\"table\":[{\"cells\":{\"fill\":{\"color\":\"#EBF0F8\"},\"line\":{\"color\":\"white\"}},\"header\":{\"fill\":{\"color\":\"#C8D4E3\"},\"line\":{\"color\":\"white\"}},\"type\":\"table\"}]},\"layout\":{\"annotationdefaults\":{\"arrowcolor\":\"#2a3f5f\",\"arrowhead\":0,\"arrowwidth\":1},\"autotypenumbers\":\"strict\",\"coloraxis\":{\"colorbar\":{\"outlinewidth\":0,\"ticks\":\"\"}},\"colorscale\":{\"diverging\":[[0,\"#8e0152\"],[0.1,\"#c51b7d\"],[0.2,\"#de77ae\"],[0.3,\"#f1b6da\"],[0.4,\"#fde0ef\"],[0.5,\"#f7f7f7\"],[0.6,\"#e6f5d0\"],[0.7,\"#b8e186\"],[0.8,\"#7fbc41\"],[0.9,\"#4d9221\"],[1,\"#276419\"]],\"sequential\":[[0.0,\"#0d0887\"],[0.1111111111111111,\"#46039f\"],[0.2222222222222222,\"#7201a8\"],[0.3333333333333333,\"#9c179e\"],[0.4444444444444444,\"#bd3786\"],[0.5555555555555556,\"#d8576b\"],[0.6666666666666666,\"#ed7953\"],[0.7777777777777778,\"#fb9f3a\"],[0.8888888888888888,\"#fdca26\"],[1.0,\"#f0f921\"]],\"sequentialminus\":[[0.0,\"#0d0887\"],[0.1111111111111111,\"#46039f\"],[0.2222222222222222,\"#7201a8\"],[0.3333333333333333,\"#9c179e\"],[0.4444444444444444,\"#bd3786\"],[0.5555555555555556,\"#d8576b\"],[0.6666666666666666,\"#ed7953\"],[0.7777777777777778,\"#fb9f3a\"],[0.8888888888888888,\"#fdca26\"],[1.0,\"#f0f921\"]]},\"colorway\":[\"#636efa\",\"#EF553B\",\"#00cc96\",\"#ab63fa\",\"#FFA15A\",\"#19d3f3\",\"#FF6692\",\"#B6E880\",\"#FF97FF\",\"#FECB52\"],\"font\":{\"color\":\"#2a3f5f\"},\"geo\":{\"bgcolor\":\"white\",\"lakecolor\":\"white\",\"landcolor\":\"#E5ECF6\",\"showlakes\":true,\"showland\":true,\"subunitcolor\":\"white\"},\"hoverlabel\":{\"align\":\"left\"},\"hovermode\":\"closest\",\"mapbox\":{\"style\":\"light\"},\"paper_bgcolor\":\"white\",\"plot_bgcolor\":\"#E5ECF6\",\"polar\":{\"angularaxis\":{\"gridcolor\":\"white\",\"linecolor\":\"white\",\"ticks\":\"\"},\"bgcolor\":\"#E5ECF6\",\"radialaxis\":{\"gridcolor\":\"white\",\"linecolor\":\"white\",\"ticks\":\"\"}},\"scene\":{\"xaxis\":{\"backgroundcolor\":\"#E5ECF6\",\"gridcolor\":\"white\",\"gridwidth\":2,\"linecolor\":\"white\",\"showbackground\":true,\"ticks\":\"\",\"zerolinecolor\":\"white\"},\"yaxis\":{\"backgroundcolor\":\"#E5ECF6\",\"gridcolor\":\"white\",\"gridwidth\":2,\"linecolor\":\"white\",\"showbackground\":true,\"ticks\":\"\",\"zerolinecolor\":\"white\"},\"zaxis\":{\"backgroundcolor\":\"#E5ECF6\",\"gridcolor\":\"white\",\"gridwidth\":2,\"linecolor\":\"white\",\"showbackground\":true,\"ticks\":\"\",\"zerolinecolor\":\"white\"}},\"shapedefaults\":{\"line\":{\"color\":\"#2a3f5f\"}},\"ternary\":{\"aaxis\":{\"gridcolor\":\"white\",\"linecolor\":\"white\",\"ticks\":\"\"},\"baxis\":{\"gridcolor\":\"white\",\"linecolor\":\"white\",\"ticks\":\"\"},\"bgcolor\":\"#E5ECF6\",\"caxis\":{\"gridcolor\":\"white\",\"linecolor\":\"white\",\"ticks\":\"\"}},\"title\":{\"x\":0.05},\"xaxis\":{\"automargin\":true,\"gridcolor\":\"white\",\"linecolor\":\"white\",\"ticks\":\"\",\"title\":{\"standoff\":15},\"zerolinecolor\":\"white\",\"zerolinewidth\":2},\"yaxis\":{\"automargin\":true,\"gridcolor\":\"white\",\"linecolor\":\"white\",\"ticks\":\"\",\"title\":{\"standoff\":15},\"zerolinecolor\":\"white\",\"zerolinewidth\":2}}},\"xaxis\":{\"anchor\":\"y\",\"categoryorder\":\"total descending\",\"domain\":[0.0,1.0],\"title\":{\"text\":\"Name\"}},\"yaxis\":{\"anchor\":\"x\",\"domain\":[0.0,1.0],\"title\":{\"text\":\"User Rating\"}}},                        {\"responsive\": true}                    ).then(function(){\n",
       "                            \n",
       "var gd = document.getElementById('3feadd1b-f38c-496f-9aa6-51fcc30c42f3');\n",
       "var x = new MutationObserver(function (mutations, observer) {{\n",
       "        var display = window.getComputedStyle(gd).display;\n",
       "        if (!display || display === 'none') {{\n",
       "            console.log([gd, 'removed!']);\n",
       "            Plotly.purge(gd);\n",
       "            observer.disconnect();\n",
       "        }}\n",
       "}});\n",
       "\n",
       "// Listen for the removal of the full notebook cells\n",
       "var notebookContainer = gd.closest('#notebook-container');\n",
       "if (notebookContainer) {{\n",
       "    x.observe(notebookContainer, {childList: true});\n",
       "}}\n",
       "\n",
       "// Listen for the clearing of the current output cell\n",
       "var outputEl = gd.closest('.output');\n",
       "if (outputEl) {{\n",
       "    x.observe(outputEl, {childList: true});\n",
       "}}\n",
       "\n",
       "                        })                };                });            </script>        </div>"
      ]
     },
     "metadata": {},
     "output_type": "display_data"
    }
   ],
   "source": [
    "fig = px.bar(bottom_20, x='Name', y= 'User Rating',  hover_data = bottom_20[['Year','Genre', 'Price']], color='Genre')\n",
    "fig.update_layout(xaxis={'categoryorder':'total descending'})\n",
    "fig.show()"
   ]
  },
  {
   "cell_type": "markdown",
   "id": "dc592d45",
   "metadata": {
    "papermill": {
     "duration": 0.057521,
     "end_time": "2021-07-10T21:54:24.021914",
     "exception": false,
     "start_time": "2021-07-10T21:54:23.964393",
     "status": "completed"
    },
    "tags": []
   },
   "source": [
    "- Lowest rating is 3.3.\n",
    "- Only 1 book from non-fiction genre in the list.\n",
    "- Maximum price of the book in the list is $20"
   ]
  },
  {
   "cell_type": "markdown",
   "id": "f09c5240",
   "metadata": {
    "papermill": {
     "duration": 0.057101,
     "end_time": "2021-07-10T21:54:24.137531",
     "exception": false,
     "start_time": "2021-07-10T21:54:24.080430",
     "status": "completed"
    },
    "tags": []
   },
   "source": [
    "#### **Top 20 Reviewed Books**"
   ]
  },
  {
   "cell_type": "code",
   "execution_count": 27,
   "id": "f96a563a",
   "metadata": {
    "_kg_hide-input": true,
    "execution": {
     "iopub.execute_input": "2021-07-10T21:54:24.267877Z",
     "iopub.status.busy": "2021-07-10T21:54:24.267150Z",
     "iopub.status.idle": "2021-07-10T21:54:24.270517Z",
     "shell.execute_reply": "2021-07-10T21:54:24.270083Z",
     "shell.execute_reply.started": "2021-07-10T21:43:44.799207Z"
    },
    "papermill": {
     "duration": 0.075238,
     "end_time": "2021-07-10T21:54:24.270618",
     "exception": false,
     "start_time": "2021-07-10T21:54:24.195380",
     "status": "completed"
    },
    "tags": []
   },
   "outputs": [
    {
     "data": {
      "text/html": [
       "<div>\n",
       "<style scoped>\n",
       "    .dataframe tbody tr th:only-of-type {\n",
       "        vertical-align: middle;\n",
       "    }\n",
       "\n",
       "    .dataframe tbody tr th {\n",
       "        vertical-align: top;\n",
       "    }\n",
       "\n",
       "    .dataframe thead th {\n",
       "        text-align: right;\n",
       "    }\n",
       "</style>\n",
       "<table border=\"1\" class=\"dataframe\">\n",
       "  <thead>\n",
       "    <tr style=\"text-align: right;\">\n",
       "      <th></th>\n",
       "      <th>Name</th>\n",
       "      <th>Author</th>\n",
       "      <th>User Rating</th>\n",
       "      <th>Reviews</th>\n",
       "      <th>Price</th>\n",
       "      <th>Year</th>\n",
       "      <th>Genre</th>\n",
       "    </tr>\n",
       "  </thead>\n",
       "  <tbody>\n",
       "    <tr>\n",
       "      <th>534</th>\n",
       "      <td>Where the Crawdads Sing</td>\n",
       "      <td>Delia Owens</td>\n",
       "      <td>4.8</td>\n",
       "      <td>87841</td>\n",
       "      <td>15</td>\n",
       "      <td>2019</td>\n",
       "      <td>Fiction</td>\n",
       "    </tr>\n",
       "    <tr>\n",
       "      <th>382</th>\n",
       "      <td>The Girl on the Train</td>\n",
       "      <td>Paula Hawkins</td>\n",
       "      <td>4.1</td>\n",
       "      <td>79446</td>\n",
       "      <td>18</td>\n",
       "      <td>2015</td>\n",
       "      <td>Fiction</td>\n",
       "    </tr>\n",
       "    <tr>\n",
       "      <th>383</th>\n",
       "      <td>The Girl on the Train</td>\n",
       "      <td>Paula Hawkins</td>\n",
       "      <td>4.1</td>\n",
       "      <td>79446</td>\n",
       "      <td>7</td>\n",
       "      <td>2016</td>\n",
       "      <td>Fiction</td>\n",
       "    </tr>\n",
       "    <tr>\n",
       "      <th>32</th>\n",
       "      <td>Becoming</td>\n",
       "      <td>Michelle Obama</td>\n",
       "      <td>4.8</td>\n",
       "      <td>61133</td>\n",
       "      <td>11</td>\n",
       "      <td>2018</td>\n",
       "      <td>Non Fiction</td>\n",
       "    </tr>\n",
       "    <tr>\n",
       "      <th>33</th>\n",
       "      <td>Becoming</td>\n",
       "      <td>Michelle Obama</td>\n",
       "      <td>4.8</td>\n",
       "      <td>61133</td>\n",
       "      <td>11</td>\n",
       "      <td>2019</td>\n",
       "      <td>Non Fiction</td>\n",
       "    </tr>\n",
       "    <tr>\n",
       "      <th>137</th>\n",
       "      <td>Gone Girl</td>\n",
       "      <td>Gillian Flynn</td>\n",
       "      <td>4.0</td>\n",
       "      <td>57271</td>\n",
       "      <td>9</td>\n",
       "      <td>2014</td>\n",
       "      <td>Fiction</td>\n",
       "    </tr>\n",
       "    <tr>\n",
       "      <th>135</th>\n",
       "      <td>Gone Girl</td>\n",
       "      <td>Gillian Flynn</td>\n",
       "      <td>4.0</td>\n",
       "      <td>57271</td>\n",
       "      <td>10</td>\n",
       "      <td>2012</td>\n",
       "      <td>Fiction</td>\n",
       "    </tr>\n",
       "    <tr>\n",
       "      <th>136</th>\n",
       "      <td>Gone Girl</td>\n",
       "      <td>Gillian Flynn</td>\n",
       "      <td>4.0</td>\n",
       "      <td>57271</td>\n",
       "      <td>10</td>\n",
       "      <td>2013</td>\n",
       "      <td>Fiction</td>\n",
       "    </tr>\n",
       "    <tr>\n",
       "      <th>368</th>\n",
       "      <td>The Fault in Our Stars</td>\n",
       "      <td>John Green</td>\n",
       "      <td>4.7</td>\n",
       "      <td>50482</td>\n",
       "      <td>13</td>\n",
       "      <td>2014</td>\n",
       "      <td>Fiction</td>\n",
       "    </tr>\n",
       "    <tr>\n",
       "      <th>367</th>\n",
       "      <td>The Fault in Our Stars</td>\n",
       "      <td>John Green</td>\n",
       "      <td>4.7</td>\n",
       "      <td>50482</td>\n",
       "      <td>7</td>\n",
       "      <td>2014</td>\n",
       "      <td>Fiction</td>\n",
       "    </tr>\n",
       "    <tr>\n",
       "      <th>365</th>\n",
       "      <td>The Fault in Our Stars</td>\n",
       "      <td>John Green</td>\n",
       "      <td>4.7</td>\n",
       "      <td>50482</td>\n",
       "      <td>13</td>\n",
       "      <td>2012</td>\n",
       "      <td>Fiction</td>\n",
       "    </tr>\n",
       "    <tr>\n",
       "      <th>366</th>\n",
       "      <td>The Fault in Our Stars</td>\n",
       "      <td>John Green</td>\n",
       "      <td>4.7</td>\n",
       "      <td>50482</td>\n",
       "      <td>13</td>\n",
       "      <td>2013</td>\n",
       "      <td>Fiction</td>\n",
       "    </tr>\n",
       "    <tr>\n",
       "      <th>437</th>\n",
       "      <td>The Nightingale: A Novel</td>\n",
       "      <td>Kristin Hannah</td>\n",
       "      <td>4.8</td>\n",
       "      <td>49288</td>\n",
       "      <td>11</td>\n",
       "      <td>2015</td>\n",
       "      <td>Fiction</td>\n",
       "    </tr>\n",
       "    <tr>\n",
       "      <th>438</th>\n",
       "      <td>The Nightingale: A Novel</td>\n",
       "      <td>Kristin Hannah</td>\n",
       "      <td>4.8</td>\n",
       "      <td>49288</td>\n",
       "      <td>11</td>\n",
       "      <td>2016</td>\n",
       "      <td>Fiction</td>\n",
       "    </tr>\n",
       "    <tr>\n",
       "      <th>106</th>\n",
       "      <td>Fifty Shades of Grey: Book One of the Fifty Sh...</td>\n",
       "      <td>E L James</td>\n",
       "      <td>3.8</td>\n",
       "      <td>47265</td>\n",
       "      <td>14</td>\n",
       "      <td>2012</td>\n",
       "      <td>Fiction</td>\n",
       "    </tr>\n",
       "    <tr>\n",
       "      <th>107</th>\n",
       "      <td>Fifty Shades of Grey: Book One of the Fifty Sh...</td>\n",
       "      <td>E L James</td>\n",
       "      <td>3.8</td>\n",
       "      <td>47265</td>\n",
       "      <td>14</td>\n",
       "      <td>2013</td>\n",
       "      <td>Fiction</td>\n",
       "    </tr>\n",
       "    <tr>\n",
       "      <th>433</th>\n",
       "      <td>The Martian</td>\n",
       "      <td>Andy Weir</td>\n",
       "      <td>4.7</td>\n",
       "      <td>39459</td>\n",
       "      <td>9</td>\n",
       "      <td>2015</td>\n",
       "      <td>Fiction</td>\n",
       "    </tr>\n",
       "    <tr>\n",
       "      <th>20</th>\n",
       "      <td>All the Light We Cannot See</td>\n",
       "      <td>Anthony Doerr</td>\n",
       "      <td>4.6</td>\n",
       "      <td>36348</td>\n",
       "      <td>14</td>\n",
       "      <td>2014</td>\n",
       "      <td>Fiction</td>\n",
       "    </tr>\n",
       "    <tr>\n",
       "      <th>21</th>\n",
       "      <td>All the Light We Cannot See</td>\n",
       "      <td>Anthony Doerr</td>\n",
       "      <td>4.6</td>\n",
       "      <td>36348</td>\n",
       "      <td>14</td>\n",
       "      <td>2015</td>\n",
       "      <td>Fiction</td>\n",
       "    </tr>\n",
       "    <tr>\n",
       "      <th>338</th>\n",
       "      <td>The Alchemist</td>\n",
       "      <td>Paulo Coelho</td>\n",
       "      <td>4.7</td>\n",
       "      <td>35799</td>\n",
       "      <td>39</td>\n",
       "      <td>2014</td>\n",
       "      <td>Fiction</td>\n",
       "    </tr>\n",
       "  </tbody>\n",
       "</table>\n",
       "</div>"
      ],
      "text/plain": [
       "                                                  Name          Author  \\\n",
       "534                            Where the Crawdads Sing     Delia Owens   \n",
       "382                              The Girl on the Train   Paula Hawkins   \n",
       "383                              The Girl on the Train   Paula Hawkins   \n",
       "32                                            Becoming  Michelle Obama   \n",
       "33                                            Becoming  Michelle Obama   \n",
       "137                                          Gone Girl   Gillian Flynn   \n",
       "135                                          Gone Girl   Gillian Flynn   \n",
       "136                                          Gone Girl   Gillian Flynn   \n",
       "368                             The Fault in Our Stars      John Green   \n",
       "367                             The Fault in Our Stars      John Green   \n",
       "365                             The Fault in Our Stars      John Green   \n",
       "366                             The Fault in Our Stars      John Green   \n",
       "437                           The Nightingale: A Novel  Kristin Hannah   \n",
       "438                           The Nightingale: A Novel  Kristin Hannah   \n",
       "106  Fifty Shades of Grey: Book One of the Fifty Sh...       E L James   \n",
       "107  Fifty Shades of Grey: Book One of the Fifty Sh...       E L James   \n",
       "433                                        The Martian       Andy Weir   \n",
       "20                         All the Light We Cannot See   Anthony Doerr   \n",
       "21                         All the Light We Cannot See   Anthony Doerr   \n",
       "338                                      The Alchemist    Paulo Coelho   \n",
       "\n",
       "     User Rating  Reviews  Price  Year        Genre  \n",
       "534          4.8    87841     15  2019      Fiction  \n",
       "382          4.1    79446     18  2015      Fiction  \n",
       "383          4.1    79446      7  2016      Fiction  \n",
       "32           4.8    61133     11  2018  Non Fiction  \n",
       "33           4.8    61133     11  2019  Non Fiction  \n",
       "137          4.0    57271      9  2014      Fiction  \n",
       "135          4.0    57271     10  2012      Fiction  \n",
       "136          4.0    57271     10  2013      Fiction  \n",
       "368          4.7    50482     13  2014      Fiction  \n",
       "367          4.7    50482      7  2014      Fiction  \n",
       "365          4.7    50482     13  2012      Fiction  \n",
       "366          4.7    50482     13  2013      Fiction  \n",
       "437          4.8    49288     11  2015      Fiction  \n",
       "438          4.8    49288     11  2016      Fiction  \n",
       "106          3.8    47265     14  2012      Fiction  \n",
       "107          3.8    47265     14  2013      Fiction  \n",
       "433          4.7    39459      9  2015      Fiction  \n",
       "20           4.6    36348     14  2014      Fiction  \n",
       "21           4.6    36348     14  2015      Fiction  \n",
       "338          4.7    35799     39  2014      Fiction  "
      ]
     },
     "execution_count": 27,
     "metadata": {},
     "output_type": "execute_result"
    }
   ],
   "source": [
    "top_20_reviews = df.sort_values('Reviews', ascending=False)[:20]\n",
    "top_20_reviews"
   ]
  },
  {
   "cell_type": "code",
   "execution_count": 28,
   "id": "e3997412",
   "metadata": {
    "_kg_hide-input": true,
    "execution": {
     "iopub.execute_input": "2021-07-10T21:54:24.403881Z",
     "iopub.status.busy": "2021-07-10T21:54:24.398880Z",
     "iopub.status.idle": "2021-07-10T21:54:24.454540Z",
     "shell.execute_reply": "2021-07-10T21:54:24.454082Z",
     "shell.execute_reply.started": "2021-07-10T21:43:44.821697Z"
    },
    "papermill": {
     "duration": 0.12544,
     "end_time": "2021-07-10T21:54:24.454644",
     "exception": false,
     "start_time": "2021-07-10T21:54:24.329204",
     "status": "completed"
    },
    "tags": []
   },
   "outputs": [
    {
     "data": {
      "text/html": [
       "<div>                            <div id=\"5c5ec9ba-6948-43b9-9536-6140a7bd1412\" class=\"plotly-graph-div\" style=\"height:525px; width:100%;\"></div>            <script type=\"text/javascript\">                require([\"plotly\"], function(Plotly) {                    window.PLOTLYENV=window.PLOTLYENV || {};                                    if (document.getElementById(\"5c5ec9ba-6948-43b9-9536-6140a7bd1412\")) {                    Plotly.newPlot(                        \"5c5ec9ba-6948-43b9-9536-6140a7bd1412\",                        [{\"alignmentgroup\":\"True\",\"customdata\":[[2019,\"Fiction\",15],[2015,\"Fiction\",18],[2016,\"Fiction\",7],[2014,\"Fiction\",9],[2012,\"Fiction\",10],[2013,\"Fiction\",10],[2014,\"Fiction\",13],[2014,\"Fiction\",7],[2012,\"Fiction\",13],[2013,\"Fiction\",13],[2015,\"Fiction\",11],[2016,\"Fiction\",11],[2012,\"Fiction\",14],[2013,\"Fiction\",14],[2015,\"Fiction\",9],[2014,\"Fiction\",14],[2015,\"Fiction\",14],[2014,\"Fiction\",39]],\"hovertemplate\":\"Genre=%{customdata[1]}<br>Name=%{x}<br>Reviews=%{y}<br>Year=%{customdata[0]}<br>Price=%{customdata[2]}<extra></extra>\",\"legendgroup\":\"Fiction\",\"marker\":{\"color\":\"#636efa\",\"pattern\":{\"shape\":\"\"}},\"name\":\"Fiction\",\"offsetgroup\":\"Fiction\",\"orientation\":\"v\",\"showlegend\":true,\"textposition\":\"auto\",\"type\":\"bar\",\"x\":[\"Where the Crawdads Sing\",\"The Girl on the Train\",\"The Girl on the Train\",\"Gone Girl\",\"Gone Girl\",\"Gone Girl\",\"The Fault in Our Stars\",\"The Fault in Our Stars\",\"The Fault in Our Stars\",\"The Fault in Our Stars\",\"The Nightingale: A Novel\",\"The Nightingale: A Novel\",\"Fifty Shades of Grey: Book One of the Fifty Shades Trilogy (Fifty Shades of Grey Series)\",\"Fifty Shades of Grey: Book One of the Fifty Shades Trilogy (Fifty Shades of Grey Series)\",\"The Martian\",\"All the Light We Cannot See\",\"All the Light We Cannot See\",\"The Alchemist\"],\"xaxis\":\"x\",\"y\":[87841,79446,79446,57271,57271,57271,50482,50482,50482,50482,49288,49288,47265,47265,39459,36348,36348,35799],\"yaxis\":\"y\"},{\"alignmentgroup\":\"True\",\"customdata\":[[2018,\"Non Fiction\",11],[2019,\"Non Fiction\",11]],\"hovertemplate\":\"Genre=%{customdata[1]}<br>Name=%{x}<br>Reviews=%{y}<br>Year=%{customdata[0]}<br>Price=%{customdata[2]}<extra></extra>\",\"legendgroup\":\"Non Fiction\",\"marker\":{\"color\":\"#EF553B\",\"pattern\":{\"shape\":\"\"}},\"name\":\"Non Fiction\",\"offsetgroup\":\"Non Fiction\",\"orientation\":\"v\",\"showlegend\":true,\"textposition\":\"auto\",\"type\":\"bar\",\"x\":[\"Becoming\",\"Becoming\"],\"xaxis\":\"x\",\"y\":[61133,61133],\"yaxis\":\"y\"}],                        {\"barmode\":\"relative\",\"legend\":{\"title\":{\"text\":\"Genre\"},\"tracegroupgap\":0},\"margin\":{\"t\":60},\"template\":{\"data\":{\"bar\":[{\"error_x\":{\"color\":\"#2a3f5f\"},\"error_y\":{\"color\":\"#2a3f5f\"},\"marker\":{\"line\":{\"color\":\"#E5ECF6\",\"width\":0.5},\"pattern\":{\"fillmode\":\"overlay\",\"size\":10,\"solidity\":0.2}},\"type\":\"bar\"}],\"barpolar\":[{\"marker\":{\"line\":{\"color\":\"#E5ECF6\",\"width\":0.5},\"pattern\":{\"fillmode\":\"overlay\",\"size\":10,\"solidity\":0.2}},\"type\":\"barpolar\"}],\"carpet\":[{\"aaxis\":{\"endlinecolor\":\"#2a3f5f\",\"gridcolor\":\"white\",\"linecolor\":\"white\",\"minorgridcolor\":\"white\",\"startlinecolor\":\"#2a3f5f\"},\"baxis\":{\"endlinecolor\":\"#2a3f5f\",\"gridcolor\":\"white\",\"linecolor\":\"white\",\"minorgridcolor\":\"white\",\"startlinecolor\":\"#2a3f5f\"},\"type\":\"carpet\"}],\"choropleth\":[{\"colorbar\":{\"outlinewidth\":0,\"ticks\":\"\"},\"type\":\"choropleth\"}],\"contour\":[{\"colorbar\":{\"outlinewidth\":0,\"ticks\":\"\"},\"colorscale\":[[0.0,\"#0d0887\"],[0.1111111111111111,\"#46039f\"],[0.2222222222222222,\"#7201a8\"],[0.3333333333333333,\"#9c179e\"],[0.4444444444444444,\"#bd3786\"],[0.5555555555555556,\"#d8576b\"],[0.6666666666666666,\"#ed7953\"],[0.7777777777777778,\"#fb9f3a\"],[0.8888888888888888,\"#fdca26\"],[1.0,\"#f0f921\"]],\"type\":\"contour\"}],\"contourcarpet\":[{\"colorbar\":{\"outlinewidth\":0,\"ticks\":\"\"},\"type\":\"contourcarpet\"}],\"heatmap\":[{\"colorbar\":{\"outlinewidth\":0,\"ticks\":\"\"},\"colorscale\":[[0.0,\"#0d0887\"],[0.1111111111111111,\"#46039f\"],[0.2222222222222222,\"#7201a8\"],[0.3333333333333333,\"#9c179e\"],[0.4444444444444444,\"#bd3786\"],[0.5555555555555556,\"#d8576b\"],[0.6666666666666666,\"#ed7953\"],[0.7777777777777778,\"#fb9f3a\"],[0.8888888888888888,\"#fdca26\"],[1.0,\"#f0f921\"]],\"type\":\"heatmap\"}],\"heatmapgl\":[{\"colorbar\":{\"outlinewidth\":0,\"ticks\":\"\"},\"colorscale\":[[0.0,\"#0d0887\"],[0.1111111111111111,\"#46039f\"],[0.2222222222222222,\"#7201a8\"],[0.3333333333333333,\"#9c179e\"],[0.4444444444444444,\"#bd3786\"],[0.5555555555555556,\"#d8576b\"],[0.6666666666666666,\"#ed7953\"],[0.7777777777777778,\"#fb9f3a\"],[0.8888888888888888,\"#fdca26\"],[1.0,\"#f0f921\"]],\"type\":\"heatmapgl\"}],\"histogram\":[{\"marker\":{\"pattern\":{\"fillmode\":\"overlay\",\"size\":10,\"solidity\":0.2}},\"type\":\"histogram\"}],\"histogram2d\":[{\"colorbar\":{\"outlinewidth\":0,\"ticks\":\"\"},\"colorscale\":[[0.0,\"#0d0887\"],[0.1111111111111111,\"#46039f\"],[0.2222222222222222,\"#7201a8\"],[0.3333333333333333,\"#9c179e\"],[0.4444444444444444,\"#bd3786\"],[0.5555555555555556,\"#d8576b\"],[0.6666666666666666,\"#ed7953\"],[0.7777777777777778,\"#fb9f3a\"],[0.8888888888888888,\"#fdca26\"],[1.0,\"#f0f921\"]],\"type\":\"histogram2d\"}],\"histogram2dcontour\":[{\"colorbar\":{\"outlinewidth\":0,\"ticks\":\"\"},\"colorscale\":[[0.0,\"#0d0887\"],[0.1111111111111111,\"#46039f\"],[0.2222222222222222,\"#7201a8\"],[0.3333333333333333,\"#9c179e\"],[0.4444444444444444,\"#bd3786\"],[0.5555555555555556,\"#d8576b\"],[0.6666666666666666,\"#ed7953\"],[0.7777777777777778,\"#fb9f3a\"],[0.8888888888888888,\"#fdca26\"],[1.0,\"#f0f921\"]],\"type\":\"histogram2dcontour\"}],\"mesh3d\":[{\"colorbar\":{\"outlinewidth\":0,\"ticks\":\"\"},\"type\":\"mesh3d\"}],\"parcoords\":[{\"line\":{\"colorbar\":{\"outlinewidth\":0,\"ticks\":\"\"}},\"type\":\"parcoords\"}],\"pie\":[{\"automargin\":true,\"type\":\"pie\"}],\"scatter\":[{\"marker\":{\"colorbar\":{\"outlinewidth\":0,\"ticks\":\"\"}},\"type\":\"scatter\"}],\"scatter3d\":[{\"line\":{\"colorbar\":{\"outlinewidth\":0,\"ticks\":\"\"}},\"marker\":{\"colorbar\":{\"outlinewidth\":0,\"ticks\":\"\"}},\"type\":\"scatter3d\"}],\"scattercarpet\":[{\"marker\":{\"colorbar\":{\"outlinewidth\":0,\"ticks\":\"\"}},\"type\":\"scattercarpet\"}],\"scattergeo\":[{\"marker\":{\"colorbar\":{\"outlinewidth\":0,\"ticks\":\"\"}},\"type\":\"scattergeo\"}],\"scattergl\":[{\"marker\":{\"colorbar\":{\"outlinewidth\":0,\"ticks\":\"\"}},\"type\":\"scattergl\"}],\"scattermapbox\":[{\"marker\":{\"colorbar\":{\"outlinewidth\":0,\"ticks\":\"\"}},\"type\":\"scattermapbox\"}],\"scatterpolar\":[{\"marker\":{\"colorbar\":{\"outlinewidth\":0,\"ticks\":\"\"}},\"type\":\"scatterpolar\"}],\"scatterpolargl\":[{\"marker\":{\"colorbar\":{\"outlinewidth\":0,\"ticks\":\"\"}},\"type\":\"scatterpolargl\"}],\"scatterternary\":[{\"marker\":{\"colorbar\":{\"outlinewidth\":0,\"ticks\":\"\"}},\"type\":\"scatterternary\"}],\"surface\":[{\"colorbar\":{\"outlinewidth\":0,\"ticks\":\"\"},\"colorscale\":[[0.0,\"#0d0887\"],[0.1111111111111111,\"#46039f\"],[0.2222222222222222,\"#7201a8\"],[0.3333333333333333,\"#9c179e\"],[0.4444444444444444,\"#bd3786\"],[0.5555555555555556,\"#d8576b\"],[0.6666666666666666,\"#ed7953\"],[0.7777777777777778,\"#fb9f3a\"],[0.8888888888888888,\"#fdca26\"],[1.0,\"#f0f921\"]],\"type\":\"surface\"}],\"table\":[{\"cells\":{\"fill\":{\"color\":\"#EBF0F8\"},\"line\":{\"color\":\"white\"}},\"header\":{\"fill\":{\"color\":\"#C8D4E3\"},\"line\":{\"color\":\"white\"}},\"type\":\"table\"}]},\"layout\":{\"annotationdefaults\":{\"arrowcolor\":\"#2a3f5f\",\"arrowhead\":0,\"arrowwidth\":1},\"autotypenumbers\":\"strict\",\"coloraxis\":{\"colorbar\":{\"outlinewidth\":0,\"ticks\":\"\"}},\"colorscale\":{\"diverging\":[[0,\"#8e0152\"],[0.1,\"#c51b7d\"],[0.2,\"#de77ae\"],[0.3,\"#f1b6da\"],[0.4,\"#fde0ef\"],[0.5,\"#f7f7f7\"],[0.6,\"#e6f5d0\"],[0.7,\"#b8e186\"],[0.8,\"#7fbc41\"],[0.9,\"#4d9221\"],[1,\"#276419\"]],\"sequential\":[[0.0,\"#0d0887\"],[0.1111111111111111,\"#46039f\"],[0.2222222222222222,\"#7201a8\"],[0.3333333333333333,\"#9c179e\"],[0.4444444444444444,\"#bd3786\"],[0.5555555555555556,\"#d8576b\"],[0.6666666666666666,\"#ed7953\"],[0.7777777777777778,\"#fb9f3a\"],[0.8888888888888888,\"#fdca26\"],[1.0,\"#f0f921\"]],\"sequentialminus\":[[0.0,\"#0d0887\"],[0.1111111111111111,\"#46039f\"],[0.2222222222222222,\"#7201a8\"],[0.3333333333333333,\"#9c179e\"],[0.4444444444444444,\"#bd3786\"],[0.5555555555555556,\"#d8576b\"],[0.6666666666666666,\"#ed7953\"],[0.7777777777777778,\"#fb9f3a\"],[0.8888888888888888,\"#fdca26\"],[1.0,\"#f0f921\"]]},\"colorway\":[\"#636efa\",\"#EF553B\",\"#00cc96\",\"#ab63fa\",\"#FFA15A\",\"#19d3f3\",\"#FF6692\",\"#B6E880\",\"#FF97FF\",\"#FECB52\"],\"font\":{\"color\":\"#2a3f5f\"},\"geo\":{\"bgcolor\":\"white\",\"lakecolor\":\"white\",\"landcolor\":\"#E5ECF6\",\"showlakes\":true,\"showland\":true,\"subunitcolor\":\"white\"},\"hoverlabel\":{\"align\":\"left\"},\"hovermode\":\"closest\",\"mapbox\":{\"style\":\"light\"},\"paper_bgcolor\":\"white\",\"plot_bgcolor\":\"#E5ECF6\",\"polar\":{\"angularaxis\":{\"gridcolor\":\"white\",\"linecolor\":\"white\",\"ticks\":\"\"},\"bgcolor\":\"#E5ECF6\",\"radialaxis\":{\"gridcolor\":\"white\",\"linecolor\":\"white\",\"ticks\":\"\"}},\"scene\":{\"xaxis\":{\"backgroundcolor\":\"#E5ECF6\",\"gridcolor\":\"white\",\"gridwidth\":2,\"linecolor\":\"white\",\"showbackground\":true,\"ticks\":\"\",\"zerolinecolor\":\"white\"},\"yaxis\":{\"backgroundcolor\":\"#E5ECF6\",\"gridcolor\":\"white\",\"gridwidth\":2,\"linecolor\":\"white\",\"showbackground\":true,\"ticks\":\"\",\"zerolinecolor\":\"white\"},\"zaxis\":{\"backgroundcolor\":\"#E5ECF6\",\"gridcolor\":\"white\",\"gridwidth\":2,\"linecolor\":\"white\",\"showbackground\":true,\"ticks\":\"\",\"zerolinecolor\":\"white\"}},\"shapedefaults\":{\"line\":{\"color\":\"#2a3f5f\"}},\"ternary\":{\"aaxis\":{\"gridcolor\":\"white\",\"linecolor\":\"white\",\"ticks\":\"\"},\"baxis\":{\"gridcolor\":\"white\",\"linecolor\":\"white\",\"ticks\":\"\"},\"bgcolor\":\"#E5ECF6\",\"caxis\":{\"gridcolor\":\"white\",\"linecolor\":\"white\",\"ticks\":\"\"}},\"title\":{\"x\":0.05},\"xaxis\":{\"automargin\":true,\"gridcolor\":\"white\",\"linecolor\":\"white\",\"ticks\":\"\",\"title\":{\"standoff\":15},\"zerolinecolor\":\"white\",\"zerolinewidth\":2},\"yaxis\":{\"automargin\":true,\"gridcolor\":\"white\",\"linecolor\":\"white\",\"ticks\":\"\",\"title\":{\"standoff\":15},\"zerolinecolor\":\"white\",\"zerolinewidth\":2}}},\"xaxis\":{\"anchor\":\"y\",\"categoryorder\":\"total descending\",\"domain\":[0.0,1.0],\"title\":{\"text\":\"Name\"}},\"yaxis\":{\"anchor\":\"x\",\"domain\":[0.0,1.0],\"title\":{\"text\":\"Reviews\"}}},                        {\"responsive\": true}                    ).then(function(){\n",
       "                            \n",
       "var gd = document.getElementById('5c5ec9ba-6948-43b9-9536-6140a7bd1412');\n",
       "var x = new MutationObserver(function (mutations, observer) {{\n",
       "        var display = window.getComputedStyle(gd).display;\n",
       "        if (!display || display === 'none') {{\n",
       "            console.log([gd, 'removed!']);\n",
       "            Plotly.purge(gd);\n",
       "            observer.disconnect();\n",
       "        }}\n",
       "}});\n",
       "\n",
       "// Listen for the removal of the full notebook cells\n",
       "var notebookContainer = gd.closest('#notebook-container');\n",
       "if (notebookContainer) {{\n",
       "    x.observe(notebookContainer, {childList: true});\n",
       "}}\n",
       "\n",
       "// Listen for the clearing of the current output cell\n",
       "var outputEl = gd.closest('.output');\n",
       "if (outputEl) {{\n",
       "    x.observe(outputEl, {childList: true});\n",
       "}}\n",
       "\n",
       "                        })                };                });            </script>        </div>"
      ]
     },
     "metadata": {},
     "output_type": "display_data"
    }
   ],
   "source": [
    "fig = px.bar(top_20_reviews, x='Name', y= 'Reviews',  hover_data = top_20_reviews[['Year','Genre', 'Price']], color='Genre')\n",
    "fig.update_layout(xaxis={'categoryorder':'total descending'})\n",
    "fig.show()"
   ]
  },
  {
   "cell_type": "markdown",
   "id": "152b93ef",
   "metadata": {
    "papermill": {
     "duration": 0.056679,
     "end_time": "2021-07-10T21:54:24.568521",
     "exception": false,
     "start_time": "2021-07-10T21:54:24.511842",
     "status": "completed"
    },
    "tags": []
   },
   "source": [
    "- Several books with their different editions got the most reviews.\n",
    "- Only one book from non-fiction genre find place in the list.\n",
    "- Maximum price of the book is one of the my favorite book, 'The Alchemist' by $35."
   ]
  },
  {
   "cell_type": "markdown",
   "id": "56d86d10",
   "metadata": {
    "papermill": {
     "duration": 0.056715,
     "end_time": "2021-07-10T21:54:24.682761",
     "exception": false,
     "start_time": "2021-07-10T21:54:24.626046",
     "status": "completed"
    },
    "tags": []
   },
   "source": [
    "#### **Lowest Number Reviewed 20 Books**"
   ]
  },
  {
   "cell_type": "code",
   "execution_count": 29,
   "id": "70a0ff29",
   "metadata": {
    "_kg_hide-input": true,
    "execution": {
     "iopub.execute_input": "2021-07-10T21:54:24.810541Z",
     "iopub.status.busy": "2021-07-10T21:54:24.799783Z",
     "iopub.status.idle": "2021-07-10T21:54:24.814636Z",
     "shell.execute_reply": "2021-07-10T21:54:24.814275Z",
     "shell.execute_reply.started": "2021-07-10T21:43:44.911796Z"
    },
    "papermill": {
     "duration": 0.07529,
     "end_time": "2021-07-10T21:54:24.814753",
     "exception": false,
     "start_time": "2021-07-10T21:54:24.739463",
     "status": "completed"
    },
    "tags": []
   },
   "outputs": [
    {
     "data": {
      "text/html": [
       "<div>\n",
       "<style scoped>\n",
       "    .dataframe tbody tr th:only-of-type {\n",
       "        vertical-align: middle;\n",
       "    }\n",
       "\n",
       "    .dataframe tbody tr th {\n",
       "        vertical-align: top;\n",
       "    }\n",
       "\n",
       "    .dataframe thead th {\n",
       "        text-align: right;\n",
       "    }\n",
       "</style>\n",
       "<table border=\"1\" class=\"dataframe\">\n",
       "  <thead>\n",
       "    <tr style=\"text-align: right;\">\n",
       "      <th></th>\n",
       "      <th>Name</th>\n",
       "      <th>Author</th>\n",
       "      <th>User Rating</th>\n",
       "      <th>Reviews</th>\n",
       "      <th>Price</th>\n",
       "      <th>Year</th>\n",
       "      <th>Genre</th>\n",
       "    </tr>\n",
       "  </thead>\n",
       "  <tbody>\n",
       "    <tr>\n",
       "      <th>78</th>\n",
       "      <td>Divine Soul Mind Body Healing and Transmission...</td>\n",
       "      <td>Zhi Gang Sha</td>\n",
       "      <td>4.6</td>\n",
       "      <td>37</td>\n",
       "      <td>6</td>\n",
       "      <td>2009</td>\n",
       "      <td>Non Fiction</td>\n",
       "    </tr>\n",
       "    <tr>\n",
       "      <th>300</th>\n",
       "      <td>Soul Healing Miracles: Ancient and New Sacred ...</td>\n",
       "      <td>Zhi Gang Sha</td>\n",
       "      <td>4.6</td>\n",
       "      <td>220</td>\n",
       "      <td>17</td>\n",
       "      <td>2013</td>\n",
       "      <td>Non Fiction</td>\n",
       "    </tr>\n",
       "    <tr>\n",
       "      <th>121</th>\n",
       "      <td>George Washington's Sacred Fire</td>\n",
       "      <td>Peter A. Lillback</td>\n",
       "      <td>4.5</td>\n",
       "      <td>408</td>\n",
       "      <td>20</td>\n",
       "      <td>2010</td>\n",
       "      <td>Non Fiction</td>\n",
       "    </tr>\n",
       "    <tr>\n",
       "      <th>512</th>\n",
       "      <td>True Compass: A Memoir</td>\n",
       "      <td>Edward M. Kennedy</td>\n",
       "      <td>4.5</td>\n",
       "      <td>438</td>\n",
       "      <td>15</td>\n",
       "      <td>2009</td>\n",
       "      <td>Non Fiction</td>\n",
       "    </tr>\n",
       "    <tr>\n",
       "      <th>359</th>\n",
       "      <td>The Daily Show with Jon Stewart Presents Earth...</td>\n",
       "      <td>Jon Stewart</td>\n",
       "      <td>4.4</td>\n",
       "      <td>440</td>\n",
       "      <td>11</td>\n",
       "      <td>2010</td>\n",
       "      <td>Non Fiction</td>\n",
       "    </tr>\n",
       "    <tr>\n",
       "      <th>11</th>\n",
       "      <td>A Patriot's History of the United States: From...</td>\n",
       "      <td>Larry Schweikart</td>\n",
       "      <td>4.6</td>\n",
       "      <td>460</td>\n",
       "      <td>2</td>\n",
       "      <td>2010</td>\n",
       "      <td>Non Fiction</td>\n",
       "    </tr>\n",
       "    <tr>\n",
       "      <th>39</th>\n",
       "      <td>Broke: The Plan to Restore Our Trust, Truth an...</td>\n",
       "      <td>Glenn Beck</td>\n",
       "      <td>4.5</td>\n",
       "      <td>471</td>\n",
       "      <td>8</td>\n",
       "      <td>2010</td>\n",
       "      <td>Non Fiction</td>\n",
       "    </tr>\n",
       "    <tr>\n",
       "      <th>27</th>\n",
       "      <td>Autobiography of Mark Twain, Vol. 1</td>\n",
       "      <td>Mark Twain</td>\n",
       "      <td>4.2</td>\n",
       "      <td>491</td>\n",
       "      <td>14</td>\n",
       "      <td>2010</td>\n",
       "      <td>Non Fiction</td>\n",
       "    </tr>\n",
       "    <tr>\n",
       "      <th>264</th>\n",
       "      <td>Percy Jackson and the Olympians Paperback Boxe...</td>\n",
       "      <td>Rick Riordan</td>\n",
       "      <td>4.8</td>\n",
       "      <td>548</td>\n",
       "      <td>2</td>\n",
       "      <td>2010</td>\n",
       "      <td>Fiction</td>\n",
       "    </tr>\n",
       "    <tr>\n",
       "      <th>31</th>\n",
       "      <td>Barefoot Contessa, How Easy Is That?: Fabulous...</td>\n",
       "      <td>Ina Garten</td>\n",
       "      <td>4.7</td>\n",
       "      <td>615</td>\n",
       "      <td>21</td>\n",
       "      <td>2010</td>\n",
       "      <td>Non Fiction</td>\n",
       "    </tr>\n",
       "    <tr>\n",
       "      <th>316</th>\n",
       "      <td>Teach Like a Champion: 49 Techniques that Put ...</td>\n",
       "      <td>Doug Lemov</td>\n",
       "      <td>4.4</td>\n",
       "      <td>637</td>\n",
       "      <td>20</td>\n",
       "      <td>2010</td>\n",
       "      <td>Non Fiction</td>\n",
       "    </tr>\n",
       "    <tr>\n",
       "      <th>317</th>\n",
       "      <td>Teach Like a Champion: 49 Techniques that Put ...</td>\n",
       "      <td>Doug Lemov</td>\n",
       "      <td>4.4</td>\n",
       "      <td>637</td>\n",
       "      <td>20</td>\n",
       "      <td>2011</td>\n",
       "      <td>Non Fiction</td>\n",
       "    </tr>\n",
       "    <tr>\n",
       "      <th>91</th>\n",
       "      <td>Eat This Not That! Supermarket Survival Guide:...</td>\n",
       "      <td>David Zinczenko</td>\n",
       "      <td>4.5</td>\n",
       "      <td>720</td>\n",
       "      <td>1</td>\n",
       "      <td>2009</td>\n",
       "      <td>Non Fiction</td>\n",
       "    </tr>\n",
       "    <tr>\n",
       "      <th>25</th>\n",
       "      <td>Arguing with Idiots: How to Stop Small Minds a...</td>\n",
       "      <td>Glenn Beck</td>\n",
       "      <td>4.6</td>\n",
       "      <td>798</td>\n",
       "      <td>5</td>\n",
       "      <td>2009</td>\n",
       "      <td>Non Fiction</td>\n",
       "    </tr>\n",
       "    <tr>\n",
       "      <th>374</th>\n",
       "      <td>The Five Love Languages: How to Express Heartf...</td>\n",
       "      <td>Gary Chapman</td>\n",
       "      <td>4.6</td>\n",
       "      <td>803</td>\n",
       "      <td>9</td>\n",
       "      <td>2009</td>\n",
       "      <td>Non Fiction</td>\n",
       "    </tr>\n",
       "    <tr>\n",
       "      <th>444</th>\n",
       "      <td>The Official SAT Study Guide, 2016 Edition (Of...</td>\n",
       "      <td>The College Board</td>\n",
       "      <td>4.3</td>\n",
       "      <td>807</td>\n",
       "      <td>36</td>\n",
       "      <td>2016</td>\n",
       "      <td>Non Fiction</td>\n",
       "    </tr>\n",
       "    <tr>\n",
       "      <th>346</th>\n",
       "      <td>The Book of Basketball: The NBA According to T...</td>\n",
       "      <td>Bill Simmons</td>\n",
       "      <td>4.7</td>\n",
       "      <td>858</td>\n",
       "      <td>53</td>\n",
       "      <td>2009</td>\n",
       "      <td>Non Fiction</td>\n",
       "    </tr>\n",
       "    <tr>\n",
       "      <th>92</th>\n",
       "      <td>Eat This, Not That! Thousands of Simple Food S...</td>\n",
       "      <td>David Zinczenko</td>\n",
       "      <td>4.3</td>\n",
       "      <td>956</td>\n",
       "      <td>14</td>\n",
       "      <td>2009</td>\n",
       "      <td>Non Fiction</td>\n",
       "    </tr>\n",
       "    <tr>\n",
       "      <th>299</th>\n",
       "      <td>Sookie Stackhouse</td>\n",
       "      <td>Charlaine Harris</td>\n",
       "      <td>4.7</td>\n",
       "      <td>973</td>\n",
       "      <td>25</td>\n",
       "      <td>2009</td>\n",
       "      <td>Fiction</td>\n",
       "    </tr>\n",
       "    <tr>\n",
       "      <th>193</th>\n",
       "      <td>JOURNEY TO THE ICE P</td>\n",
       "      <td>RH Disney</td>\n",
       "      <td>4.6</td>\n",
       "      <td>978</td>\n",
       "      <td>0</td>\n",
       "      <td>2014</td>\n",
       "      <td>Fiction</td>\n",
       "    </tr>\n",
       "  </tbody>\n",
       "</table>\n",
       "</div>"
      ],
      "text/plain": [
       "                                                  Name             Author  \\\n",
       "78   Divine Soul Mind Body Healing and Transmission...       Zhi Gang Sha   \n",
       "300  Soul Healing Miracles: Ancient and New Sacred ...       Zhi Gang Sha   \n",
       "121                    George Washington's Sacred Fire  Peter A. Lillback   \n",
       "512                             True Compass: A Memoir  Edward M. Kennedy   \n",
       "359  The Daily Show with Jon Stewart Presents Earth...        Jon Stewart   \n",
       "11   A Patriot's History of the United States: From...   Larry Schweikart   \n",
       "39   Broke: The Plan to Restore Our Trust, Truth an...         Glenn Beck   \n",
       "27                 Autobiography of Mark Twain, Vol. 1         Mark Twain   \n",
       "264  Percy Jackson and the Olympians Paperback Boxe...       Rick Riordan   \n",
       "31   Barefoot Contessa, How Easy Is That?: Fabulous...         Ina Garten   \n",
       "316  Teach Like a Champion: 49 Techniques that Put ...         Doug Lemov   \n",
       "317  Teach Like a Champion: 49 Techniques that Put ...         Doug Lemov   \n",
       "91   Eat This Not That! Supermarket Survival Guide:...    David Zinczenko   \n",
       "25   Arguing with Idiots: How to Stop Small Minds a...         Glenn Beck   \n",
       "374  The Five Love Languages: How to Express Heartf...       Gary Chapman   \n",
       "444  The Official SAT Study Guide, 2016 Edition (Of...  The College Board   \n",
       "346  The Book of Basketball: The NBA According to T...       Bill Simmons   \n",
       "92   Eat This, Not That! Thousands of Simple Food S...    David Zinczenko   \n",
       "299                                  Sookie Stackhouse   Charlaine Harris   \n",
       "193                               JOURNEY TO THE ICE P          RH Disney   \n",
       "\n",
       "     User Rating  Reviews  Price  Year        Genre  \n",
       "78           4.6       37      6  2009  Non Fiction  \n",
       "300          4.6      220     17  2013  Non Fiction  \n",
       "121          4.5      408     20  2010  Non Fiction  \n",
       "512          4.5      438     15  2009  Non Fiction  \n",
       "359          4.4      440     11  2010  Non Fiction  \n",
       "11           4.6      460      2  2010  Non Fiction  \n",
       "39           4.5      471      8  2010  Non Fiction  \n",
       "27           4.2      491     14  2010  Non Fiction  \n",
       "264          4.8      548      2  2010      Fiction  \n",
       "31           4.7      615     21  2010  Non Fiction  \n",
       "316          4.4      637     20  2010  Non Fiction  \n",
       "317          4.4      637     20  2011  Non Fiction  \n",
       "91           4.5      720      1  2009  Non Fiction  \n",
       "25           4.6      798      5  2009  Non Fiction  \n",
       "374          4.6      803      9  2009  Non Fiction  \n",
       "444          4.3      807     36  2016  Non Fiction  \n",
       "346          4.7      858     53  2009  Non Fiction  \n",
       "92           4.3      956     14  2009  Non Fiction  \n",
       "299          4.7      973     25  2009      Fiction  \n",
       "193          4.6      978      0  2014      Fiction  "
      ]
     },
     "execution_count": 29,
     "metadata": {},
     "output_type": "execute_result"
    }
   ],
   "source": [
    "bottom_20_reviews = df.sort_values('Reviews')[:20]\n",
    "bottom_20_reviews"
   ]
  },
  {
   "cell_type": "code",
   "execution_count": 30,
   "id": "8c841bcf",
   "metadata": {
    "_kg_hide-input": true,
    "execution": {
     "iopub.execute_input": "2021-07-10T21:54:24.936135Z",
     "iopub.status.busy": "2021-07-10T21:54:24.935632Z",
     "iopub.status.idle": "2021-07-10T21:54:24.990693Z",
     "shell.execute_reply": "2021-07-10T21:54:24.990220Z",
     "shell.execute_reply.started": "2021-07-10T21:43:44.935328Z"
    },
    "papermill": {
     "duration": 0.118653,
     "end_time": "2021-07-10T21:54:24.990825",
     "exception": false,
     "start_time": "2021-07-10T21:54:24.872172",
     "status": "completed"
    },
    "tags": []
   },
   "outputs": [
    {
     "data": {
      "text/html": [
       "<div>                            <div id=\"1bf4fbea-848b-4342-9f0a-bbc1b5c766dc\" class=\"plotly-graph-div\" style=\"height:525px; width:100%;\"></div>            <script type=\"text/javascript\">                require([\"plotly\"], function(Plotly) {                    window.PLOTLYENV=window.PLOTLYENV || {};                                    if (document.getElementById(\"1bf4fbea-848b-4342-9f0a-bbc1b5c766dc\")) {                    Plotly.newPlot(                        \"1bf4fbea-848b-4342-9f0a-bbc1b5c766dc\",                        [{\"alignmentgroup\":\"True\",\"customdata\":[[2009,\"Non Fiction\",6],[2013,\"Non Fiction\",17],[2010,\"Non Fiction\",20],[2009,\"Non Fiction\",15],[2010,\"Non Fiction\",11],[2010,\"Non Fiction\",2],[2010,\"Non Fiction\",8],[2010,\"Non Fiction\",14],[2010,\"Non Fiction\",21],[2010,\"Non Fiction\",20],[2011,\"Non Fiction\",20],[2009,\"Non Fiction\",1],[2009,\"Non Fiction\",5],[2009,\"Non Fiction\",9],[2016,\"Non Fiction\",36],[2009,\"Non Fiction\",53],[2009,\"Non Fiction\",14]],\"hovertemplate\":\"Genre=%{customdata[1]}<br>Name=%{x}<br>Reviews=%{y}<br>Year=%{customdata[0]}<br>Price=%{customdata[2]}<extra></extra>\",\"legendgroup\":\"Non Fiction\",\"marker\":{\"color\":\"#636efa\",\"pattern\":{\"shape\":\"\"}},\"name\":\"Non Fiction\",\"offsetgroup\":\"Non Fiction\",\"orientation\":\"v\",\"showlegend\":true,\"textposition\":\"auto\",\"type\":\"bar\",\"x\":[\"Divine Soul Mind Body Healing and Transmission System: The Divine Way to Heal You, Humanity, Mother Earth, and All\\u2026\",\"Soul Healing Miracles: Ancient and New Sacred Wisdom, Knowledge, and Practical Techniques for Healing the Spiritual\\u2026\",\"George Washington's Sacred Fire\",\"True Compass: A Memoir\",\"The Daily Show with Jon Stewart Presents Earth (The Book): A Visitor's Guide to the Human Race\",\"A Patriot's History of the United States: From Columbus's Great Discovery to the War on Terror\",\"Broke: The Plan to Restore Our Trust, Truth and Treasure\",\"Autobiography of Mark Twain, Vol. 1\",\"Barefoot Contessa, How Easy Is That?: Fabulous Recipes & Easy Tips\",\"Teach Like a Champion: 49 Techniques that Put Students on the Path to College\",\"Teach Like a Champion: 49 Techniques that Put Students on the Path to College\",\"Eat This Not That! Supermarket Survival Guide: The No-Diet Weight Loss Solution\",\"Arguing with Idiots: How to Stop Small Minds and Big Government\",\"The Five Love Languages: How to Express Heartfelt Commitment to Your Mate\",\"The Official SAT Study Guide, 2016 Edition (Official Study Guide for the New Sat)\",\"The Book of Basketball: The NBA According to The Sports Guy\",\"Eat This, Not That! Thousands of Simple Food Swaps that Can Save You 10, 20, 30 Pounds--or More!\"],\"xaxis\":\"x\",\"y\":[37,220,408,438,440,460,471,491,615,637,637,720,798,803,807,858,956],\"yaxis\":\"y\"},{\"alignmentgroup\":\"True\",\"customdata\":[[2010,\"Fiction\",2],[2009,\"Fiction\",25],[2014,\"Fiction\",0]],\"hovertemplate\":\"Genre=%{customdata[1]}<br>Name=%{x}<br>Reviews=%{y}<br>Year=%{customdata[0]}<br>Price=%{customdata[2]}<extra></extra>\",\"legendgroup\":\"Fiction\",\"marker\":{\"color\":\"#EF553B\",\"pattern\":{\"shape\":\"\"}},\"name\":\"Fiction\",\"offsetgroup\":\"Fiction\",\"orientation\":\"v\",\"showlegend\":true,\"textposition\":\"auto\",\"type\":\"bar\",\"x\":[\"Percy Jackson and the Olympians Paperback Boxed Set (Books 1-3)\",\"Sookie Stackhouse\",\"JOURNEY TO THE ICE P\"],\"xaxis\":\"x\",\"y\":[548,973,978],\"yaxis\":\"y\"}],                        {\"barmode\":\"relative\",\"legend\":{\"title\":{\"text\":\"Genre\"},\"tracegroupgap\":0},\"margin\":{\"t\":60},\"template\":{\"data\":{\"bar\":[{\"error_x\":{\"color\":\"#2a3f5f\"},\"error_y\":{\"color\":\"#2a3f5f\"},\"marker\":{\"line\":{\"color\":\"#E5ECF6\",\"width\":0.5},\"pattern\":{\"fillmode\":\"overlay\",\"size\":10,\"solidity\":0.2}},\"type\":\"bar\"}],\"barpolar\":[{\"marker\":{\"line\":{\"color\":\"#E5ECF6\",\"width\":0.5},\"pattern\":{\"fillmode\":\"overlay\",\"size\":10,\"solidity\":0.2}},\"type\":\"barpolar\"}],\"carpet\":[{\"aaxis\":{\"endlinecolor\":\"#2a3f5f\",\"gridcolor\":\"white\",\"linecolor\":\"white\",\"minorgridcolor\":\"white\",\"startlinecolor\":\"#2a3f5f\"},\"baxis\":{\"endlinecolor\":\"#2a3f5f\",\"gridcolor\":\"white\",\"linecolor\":\"white\",\"minorgridcolor\":\"white\",\"startlinecolor\":\"#2a3f5f\"},\"type\":\"carpet\"}],\"choropleth\":[{\"colorbar\":{\"outlinewidth\":0,\"ticks\":\"\"},\"type\":\"choropleth\"}],\"contour\":[{\"colorbar\":{\"outlinewidth\":0,\"ticks\":\"\"},\"colorscale\":[[0.0,\"#0d0887\"],[0.1111111111111111,\"#46039f\"],[0.2222222222222222,\"#7201a8\"],[0.3333333333333333,\"#9c179e\"],[0.4444444444444444,\"#bd3786\"],[0.5555555555555556,\"#d8576b\"],[0.6666666666666666,\"#ed7953\"],[0.7777777777777778,\"#fb9f3a\"],[0.8888888888888888,\"#fdca26\"],[1.0,\"#f0f921\"]],\"type\":\"contour\"}],\"contourcarpet\":[{\"colorbar\":{\"outlinewidth\":0,\"ticks\":\"\"},\"type\":\"contourcarpet\"}],\"heatmap\":[{\"colorbar\":{\"outlinewidth\":0,\"ticks\":\"\"},\"colorscale\":[[0.0,\"#0d0887\"],[0.1111111111111111,\"#46039f\"],[0.2222222222222222,\"#7201a8\"],[0.3333333333333333,\"#9c179e\"],[0.4444444444444444,\"#bd3786\"],[0.5555555555555556,\"#d8576b\"],[0.6666666666666666,\"#ed7953\"],[0.7777777777777778,\"#fb9f3a\"],[0.8888888888888888,\"#fdca26\"],[1.0,\"#f0f921\"]],\"type\":\"heatmap\"}],\"heatmapgl\":[{\"colorbar\":{\"outlinewidth\":0,\"ticks\":\"\"},\"colorscale\":[[0.0,\"#0d0887\"],[0.1111111111111111,\"#46039f\"],[0.2222222222222222,\"#7201a8\"],[0.3333333333333333,\"#9c179e\"],[0.4444444444444444,\"#bd3786\"],[0.5555555555555556,\"#d8576b\"],[0.6666666666666666,\"#ed7953\"],[0.7777777777777778,\"#fb9f3a\"],[0.8888888888888888,\"#fdca26\"],[1.0,\"#f0f921\"]],\"type\":\"heatmapgl\"}],\"histogram\":[{\"marker\":{\"pattern\":{\"fillmode\":\"overlay\",\"size\":10,\"solidity\":0.2}},\"type\":\"histogram\"}],\"histogram2d\":[{\"colorbar\":{\"outlinewidth\":0,\"ticks\":\"\"},\"colorscale\":[[0.0,\"#0d0887\"],[0.1111111111111111,\"#46039f\"],[0.2222222222222222,\"#7201a8\"],[0.3333333333333333,\"#9c179e\"],[0.4444444444444444,\"#bd3786\"],[0.5555555555555556,\"#d8576b\"],[0.6666666666666666,\"#ed7953\"],[0.7777777777777778,\"#fb9f3a\"],[0.8888888888888888,\"#fdca26\"],[1.0,\"#f0f921\"]],\"type\":\"histogram2d\"}],\"histogram2dcontour\":[{\"colorbar\":{\"outlinewidth\":0,\"ticks\":\"\"},\"colorscale\":[[0.0,\"#0d0887\"],[0.1111111111111111,\"#46039f\"],[0.2222222222222222,\"#7201a8\"],[0.3333333333333333,\"#9c179e\"],[0.4444444444444444,\"#bd3786\"],[0.5555555555555556,\"#d8576b\"],[0.6666666666666666,\"#ed7953\"],[0.7777777777777778,\"#fb9f3a\"],[0.8888888888888888,\"#fdca26\"],[1.0,\"#f0f921\"]],\"type\":\"histogram2dcontour\"}],\"mesh3d\":[{\"colorbar\":{\"outlinewidth\":0,\"ticks\":\"\"},\"type\":\"mesh3d\"}],\"parcoords\":[{\"line\":{\"colorbar\":{\"outlinewidth\":0,\"ticks\":\"\"}},\"type\":\"parcoords\"}],\"pie\":[{\"automargin\":true,\"type\":\"pie\"}],\"scatter\":[{\"marker\":{\"colorbar\":{\"outlinewidth\":0,\"ticks\":\"\"}},\"type\":\"scatter\"}],\"scatter3d\":[{\"line\":{\"colorbar\":{\"outlinewidth\":0,\"ticks\":\"\"}},\"marker\":{\"colorbar\":{\"outlinewidth\":0,\"ticks\":\"\"}},\"type\":\"scatter3d\"}],\"scattercarpet\":[{\"marker\":{\"colorbar\":{\"outlinewidth\":0,\"ticks\":\"\"}},\"type\":\"scattercarpet\"}],\"scattergeo\":[{\"marker\":{\"colorbar\":{\"outlinewidth\":0,\"ticks\":\"\"}},\"type\":\"scattergeo\"}],\"scattergl\":[{\"marker\":{\"colorbar\":{\"outlinewidth\":0,\"ticks\":\"\"}},\"type\":\"scattergl\"}],\"scattermapbox\":[{\"marker\":{\"colorbar\":{\"outlinewidth\":0,\"ticks\":\"\"}},\"type\":\"scattermapbox\"}],\"scatterpolar\":[{\"marker\":{\"colorbar\":{\"outlinewidth\":0,\"ticks\":\"\"}},\"type\":\"scatterpolar\"}],\"scatterpolargl\":[{\"marker\":{\"colorbar\":{\"outlinewidth\":0,\"ticks\":\"\"}},\"type\":\"scatterpolargl\"}],\"scatterternary\":[{\"marker\":{\"colorbar\":{\"outlinewidth\":0,\"ticks\":\"\"}},\"type\":\"scatterternary\"}],\"surface\":[{\"colorbar\":{\"outlinewidth\":0,\"ticks\":\"\"},\"colorscale\":[[0.0,\"#0d0887\"],[0.1111111111111111,\"#46039f\"],[0.2222222222222222,\"#7201a8\"],[0.3333333333333333,\"#9c179e\"],[0.4444444444444444,\"#bd3786\"],[0.5555555555555556,\"#d8576b\"],[0.6666666666666666,\"#ed7953\"],[0.7777777777777778,\"#fb9f3a\"],[0.8888888888888888,\"#fdca26\"],[1.0,\"#f0f921\"]],\"type\":\"surface\"}],\"table\":[{\"cells\":{\"fill\":{\"color\":\"#EBF0F8\"},\"line\":{\"color\":\"white\"}},\"header\":{\"fill\":{\"color\":\"#C8D4E3\"},\"line\":{\"color\":\"white\"}},\"type\":\"table\"}]},\"layout\":{\"annotationdefaults\":{\"arrowcolor\":\"#2a3f5f\",\"arrowhead\":0,\"arrowwidth\":1},\"autotypenumbers\":\"strict\",\"coloraxis\":{\"colorbar\":{\"outlinewidth\":0,\"ticks\":\"\"}},\"colorscale\":{\"diverging\":[[0,\"#8e0152\"],[0.1,\"#c51b7d\"],[0.2,\"#de77ae\"],[0.3,\"#f1b6da\"],[0.4,\"#fde0ef\"],[0.5,\"#f7f7f7\"],[0.6,\"#e6f5d0\"],[0.7,\"#b8e186\"],[0.8,\"#7fbc41\"],[0.9,\"#4d9221\"],[1,\"#276419\"]],\"sequential\":[[0.0,\"#0d0887\"],[0.1111111111111111,\"#46039f\"],[0.2222222222222222,\"#7201a8\"],[0.3333333333333333,\"#9c179e\"],[0.4444444444444444,\"#bd3786\"],[0.5555555555555556,\"#d8576b\"],[0.6666666666666666,\"#ed7953\"],[0.7777777777777778,\"#fb9f3a\"],[0.8888888888888888,\"#fdca26\"],[1.0,\"#f0f921\"]],\"sequentialminus\":[[0.0,\"#0d0887\"],[0.1111111111111111,\"#46039f\"],[0.2222222222222222,\"#7201a8\"],[0.3333333333333333,\"#9c179e\"],[0.4444444444444444,\"#bd3786\"],[0.5555555555555556,\"#d8576b\"],[0.6666666666666666,\"#ed7953\"],[0.7777777777777778,\"#fb9f3a\"],[0.8888888888888888,\"#fdca26\"],[1.0,\"#f0f921\"]]},\"colorway\":[\"#636efa\",\"#EF553B\",\"#00cc96\",\"#ab63fa\",\"#FFA15A\",\"#19d3f3\",\"#FF6692\",\"#B6E880\",\"#FF97FF\",\"#FECB52\"],\"font\":{\"color\":\"#2a3f5f\"},\"geo\":{\"bgcolor\":\"white\",\"lakecolor\":\"white\",\"landcolor\":\"#E5ECF6\",\"showlakes\":true,\"showland\":true,\"subunitcolor\":\"white\"},\"hoverlabel\":{\"align\":\"left\"},\"hovermode\":\"closest\",\"mapbox\":{\"style\":\"light\"},\"paper_bgcolor\":\"white\",\"plot_bgcolor\":\"#E5ECF6\",\"polar\":{\"angularaxis\":{\"gridcolor\":\"white\",\"linecolor\":\"white\",\"ticks\":\"\"},\"bgcolor\":\"#E5ECF6\",\"radialaxis\":{\"gridcolor\":\"white\",\"linecolor\":\"white\",\"ticks\":\"\"}},\"scene\":{\"xaxis\":{\"backgroundcolor\":\"#E5ECF6\",\"gridcolor\":\"white\",\"gridwidth\":2,\"linecolor\":\"white\",\"showbackground\":true,\"ticks\":\"\",\"zerolinecolor\":\"white\"},\"yaxis\":{\"backgroundcolor\":\"#E5ECF6\",\"gridcolor\":\"white\",\"gridwidth\":2,\"linecolor\":\"white\",\"showbackground\":true,\"ticks\":\"\",\"zerolinecolor\":\"white\"},\"zaxis\":{\"backgroundcolor\":\"#E5ECF6\",\"gridcolor\":\"white\",\"gridwidth\":2,\"linecolor\":\"white\",\"showbackground\":true,\"ticks\":\"\",\"zerolinecolor\":\"white\"}},\"shapedefaults\":{\"line\":{\"color\":\"#2a3f5f\"}},\"ternary\":{\"aaxis\":{\"gridcolor\":\"white\",\"linecolor\":\"white\",\"ticks\":\"\"},\"baxis\":{\"gridcolor\":\"white\",\"linecolor\":\"white\",\"ticks\":\"\"},\"bgcolor\":\"#E5ECF6\",\"caxis\":{\"gridcolor\":\"white\",\"linecolor\":\"white\",\"ticks\":\"\"}},\"title\":{\"x\":0.05},\"xaxis\":{\"automargin\":true,\"gridcolor\":\"white\",\"linecolor\":\"white\",\"ticks\":\"\",\"title\":{\"standoff\":15},\"zerolinecolor\":\"white\",\"zerolinewidth\":2},\"yaxis\":{\"automargin\":true,\"gridcolor\":\"white\",\"linecolor\":\"white\",\"ticks\":\"\",\"title\":{\"standoff\":15},\"zerolinecolor\":\"white\",\"zerolinewidth\":2}}},\"xaxis\":{\"anchor\":\"y\",\"categoryorder\":\"total descending\",\"domain\":[0.0,1.0],\"title\":{\"text\":\"Name\"}},\"yaxis\":{\"anchor\":\"x\",\"domain\":[0.0,1.0],\"title\":{\"text\":\"Reviews\"}}},                        {\"responsive\": true}                    ).then(function(){\n",
       "                            \n",
       "var gd = document.getElementById('1bf4fbea-848b-4342-9f0a-bbc1b5c766dc');\n",
       "var x = new MutationObserver(function (mutations, observer) {{\n",
       "        var display = window.getComputedStyle(gd).display;\n",
       "        if (!display || display === 'none') {{\n",
       "            console.log([gd, 'removed!']);\n",
       "            Plotly.purge(gd);\n",
       "            observer.disconnect();\n",
       "        }}\n",
       "}});\n",
       "\n",
       "// Listen for the removal of the full notebook cells\n",
       "var notebookContainer = gd.closest('#notebook-container');\n",
       "if (notebookContainer) {{\n",
       "    x.observe(notebookContainer, {childList: true});\n",
       "}}\n",
       "\n",
       "// Listen for the clearing of the current output cell\n",
       "var outputEl = gd.closest('.output');\n",
       "if (outputEl) {{\n",
       "    x.observe(outputEl, {childList: true});\n",
       "}}\n",
       "\n",
       "                        })                };                });            </script>        </div>"
      ]
     },
     "metadata": {},
     "output_type": "display_data"
    }
   ],
   "source": [
    "fig = px.bar(bottom_20_reviews, x='Name', y= 'Reviews',  hover_data = bottom_20_reviews[['Year','Genre', 'Price']], color='Genre')\n",
    "fig.update_layout(xaxis={'categoryorder':'total descending'})\n",
    "fig.show()"
   ]
  },
  {
   "cell_type": "markdown",
   "id": "790ec2f2",
   "metadata": {
    "papermill": {
     "duration": 0.058183,
     "end_time": "2021-07-10T21:54:25.107590",
     "exception": false,
     "start_time": "2021-07-10T21:54:25.049407",
     "status": "completed"
    },
    "tags": []
   },
   "source": [
    "- Zhi Gang Sha's two differnt books got the lowest reviews.\n",
    "- Only 3 fiction books are in the lowest reviewed book list.\n",
    "- Other books come from non-fiction genre.\n",
    "- We can make an assumption about it. But still we need other data to support our assumptions."
   ]
  },
  {
   "cell_type": "markdown",
   "id": "742c39c0",
   "metadata": {
    "papermill": {
     "duration": 0.057357,
     "end_time": "2021-07-10T21:54:25.222800",
     "exception": false,
     "start_time": "2021-07-10T21:54:25.165443",
     "status": "completed"
    },
    "tags": []
   },
   "source": [
    "- OK Let's see the top 25 Authors in our dataset"
   ]
  },
  {
   "cell_type": "markdown",
   "id": "622b5e2c",
   "metadata": {
    "papermill": {
     "duration": 0.057731,
     "end_time": "2021-07-10T21:54:25.338587",
     "exception": false,
     "start_time": "2021-07-10T21:54:25.280856",
     "status": "completed"
    },
    "tags": []
   },
   "source": [
    "#### **Top 25 Authors** "
   ]
  },
  {
   "cell_type": "code",
   "execution_count": 31,
   "id": "933678a2",
   "metadata": {
    "_kg_hide-input": true,
    "execution": {
     "iopub.execute_input": "2021-07-10T21:54:25.464945Z",
     "iopub.status.busy": "2021-07-10T21:54:25.464221Z",
     "iopub.status.idle": "2021-07-10T21:54:25.467836Z",
     "shell.execute_reply": "2021-07-10T21:54:25.467408Z",
     "shell.execute_reply.started": "2021-07-10T21:43:45.023584Z"
    },
    "papermill": {
     "duration": 0.070089,
     "end_time": "2021-07-10T21:54:25.467944",
     "exception": false,
     "start_time": "2021-07-10T21:54:25.397855",
     "status": "completed"
    },
    "tags": []
   },
   "outputs": [
    {
     "data": {
      "text/plain": [
       "Jeff Kinney                           12\n",
       "Rick Riordan                          11\n",
       "Suzanne Collins                       11\n",
       "Gary Chapman                          11\n",
       "American Psychological Association    10\n",
       "Gallup                                 9\n",
       "Dr. Seuss                              9\n",
       "Rob Elliott                            8\n",
       "Dav Pilkey                             7\n",
       "Stephenie Meyer                        7\n",
       "Stephen R. Covey                       7\n",
       "Eric Carle                             7\n",
       "Bill O'Reilly                          7\n",
       "Harper Lee                             6\n",
       "E L James                              6\n",
       "The College Board                      6\n",
       "Don Miguel Ruiz                        6\n",
       "Stieg Larsson                          6\n",
       "J.K. Rowling                           6\n",
       "Sarah Young                            6\n",
       "John Grisham                           5\n",
       "R. J. Palacio                          5\n",
       "Laura Hillenbrand                      5\n",
       "John Green                             5\n",
       "Dale Carnegie                          5\n",
       "Name: Author, dtype: int64"
      ]
     },
     "execution_count": 31,
     "metadata": {},
     "output_type": "execute_result"
    }
   ],
   "source": [
    "top_25_authors = df['Author'].value_counts()[:25]\n",
    "top_25_authors"
   ]
  },
  {
   "cell_type": "code",
   "execution_count": 32,
   "id": "210673e9",
   "metadata": {
    "_kg_hide-input": true,
    "execution": {
     "iopub.execute_input": "2021-07-10T21:54:25.628932Z",
     "iopub.status.busy": "2021-07-10T21:54:25.592455Z",
     "iopub.status.idle": "2021-07-10T21:54:25.643041Z",
     "shell.execute_reply": "2021-07-10T21:54:25.643399Z",
     "shell.execute_reply.started": "2021-07-10T21:43:45.033920Z"
    },
    "papermill": {
     "duration": 0.11663,
     "end_time": "2021-07-10T21:54:25.643535",
     "exception": false,
     "start_time": "2021-07-10T21:54:25.526905",
     "status": "completed"
    },
    "tags": []
   },
   "outputs": [
    {
     "data": {
      "text/html": [
       "<div>                            <div id=\"2fd8ff19-b093-43e6-9e8e-a0ab67d32adb\" class=\"plotly-graph-div\" style=\"height:525px; width:100%;\"></div>            <script type=\"text/javascript\">                require([\"plotly\"], function(Plotly) {                    window.PLOTLYENV=window.PLOTLYENV || {};                                    if (document.getElementById(\"2fd8ff19-b093-43e6-9e8e-a0ab67d32adb\")) {                    Plotly.newPlot(                        \"2fd8ff19-b093-43e6-9e8e-a0ab67d32adb\",                        [{\"alignmentgroup\":\"True\",\"hovertemplate\":\"Author=%{x}<br>Number of Books=%{y}<extra></extra>\",\"legendgroup\":\"\",\"marker\":{\"color\":\"#636efa\",\"pattern\":{\"shape\":\"\"}},\"name\":\"\",\"offsetgroup\":\"\",\"orientation\":\"v\",\"showlegend\":false,\"textposition\":\"auto\",\"type\":\"bar\",\"x\":[\"Jeff Kinney\",\"Rick Riordan\",\"Suzanne Collins\",\"Gary Chapman\",\"American Psychological Association\",\"Gallup\",\"Dr. Seuss\",\"Rob Elliott\",\"Dav Pilkey\",\"Stephenie Meyer\",\"Stephen R. Covey\",\"Eric Carle\",\"Bill O'Reilly\",\"Harper Lee\",\"E L James\",\"The College Board\",\"Don Miguel Ruiz\",\"Stieg Larsson\",\"J.K. Rowling\",\"Sarah Young\",\"John Grisham\",\"R. J. Palacio\",\"Laura Hillenbrand\",\"John Green\",\"Dale Carnegie\"],\"xaxis\":\"x\",\"y\":[12,11,11,11,10,9,9,8,7,7,7,7,7,6,6,6,6,6,6,6,5,5,5,5,5],\"yaxis\":\"y\"}],                        {\"barmode\":\"relative\",\"legend\":{\"tracegroupgap\":0},\"template\":{\"data\":{\"bar\":[{\"error_x\":{\"color\":\"#2a3f5f\"},\"error_y\":{\"color\":\"#2a3f5f\"},\"marker\":{\"line\":{\"color\":\"#E5ECF6\",\"width\":0.5},\"pattern\":{\"fillmode\":\"overlay\",\"size\":10,\"solidity\":0.2}},\"type\":\"bar\"}],\"barpolar\":[{\"marker\":{\"line\":{\"color\":\"#E5ECF6\",\"width\":0.5},\"pattern\":{\"fillmode\":\"overlay\",\"size\":10,\"solidity\":0.2}},\"type\":\"barpolar\"}],\"carpet\":[{\"aaxis\":{\"endlinecolor\":\"#2a3f5f\",\"gridcolor\":\"white\",\"linecolor\":\"white\",\"minorgridcolor\":\"white\",\"startlinecolor\":\"#2a3f5f\"},\"baxis\":{\"endlinecolor\":\"#2a3f5f\",\"gridcolor\":\"white\",\"linecolor\":\"white\",\"minorgridcolor\":\"white\",\"startlinecolor\":\"#2a3f5f\"},\"type\":\"carpet\"}],\"choropleth\":[{\"colorbar\":{\"outlinewidth\":0,\"ticks\":\"\"},\"type\":\"choropleth\"}],\"contour\":[{\"colorbar\":{\"outlinewidth\":0,\"ticks\":\"\"},\"colorscale\":[[0.0,\"#0d0887\"],[0.1111111111111111,\"#46039f\"],[0.2222222222222222,\"#7201a8\"],[0.3333333333333333,\"#9c179e\"],[0.4444444444444444,\"#bd3786\"],[0.5555555555555556,\"#d8576b\"],[0.6666666666666666,\"#ed7953\"],[0.7777777777777778,\"#fb9f3a\"],[0.8888888888888888,\"#fdca26\"],[1.0,\"#f0f921\"]],\"type\":\"contour\"}],\"contourcarpet\":[{\"colorbar\":{\"outlinewidth\":0,\"ticks\":\"\"},\"type\":\"contourcarpet\"}],\"heatmap\":[{\"colorbar\":{\"outlinewidth\":0,\"ticks\":\"\"},\"colorscale\":[[0.0,\"#0d0887\"],[0.1111111111111111,\"#46039f\"],[0.2222222222222222,\"#7201a8\"],[0.3333333333333333,\"#9c179e\"],[0.4444444444444444,\"#bd3786\"],[0.5555555555555556,\"#d8576b\"],[0.6666666666666666,\"#ed7953\"],[0.7777777777777778,\"#fb9f3a\"],[0.8888888888888888,\"#fdca26\"],[1.0,\"#f0f921\"]],\"type\":\"heatmap\"}],\"heatmapgl\":[{\"colorbar\":{\"outlinewidth\":0,\"ticks\":\"\"},\"colorscale\":[[0.0,\"#0d0887\"],[0.1111111111111111,\"#46039f\"],[0.2222222222222222,\"#7201a8\"],[0.3333333333333333,\"#9c179e\"],[0.4444444444444444,\"#bd3786\"],[0.5555555555555556,\"#d8576b\"],[0.6666666666666666,\"#ed7953\"],[0.7777777777777778,\"#fb9f3a\"],[0.8888888888888888,\"#fdca26\"],[1.0,\"#f0f921\"]],\"type\":\"heatmapgl\"}],\"histogram\":[{\"marker\":{\"pattern\":{\"fillmode\":\"overlay\",\"size\":10,\"solidity\":0.2}},\"type\":\"histogram\"}],\"histogram2d\":[{\"colorbar\":{\"outlinewidth\":0,\"ticks\":\"\"},\"colorscale\":[[0.0,\"#0d0887\"],[0.1111111111111111,\"#46039f\"],[0.2222222222222222,\"#7201a8\"],[0.3333333333333333,\"#9c179e\"],[0.4444444444444444,\"#bd3786\"],[0.5555555555555556,\"#d8576b\"],[0.6666666666666666,\"#ed7953\"],[0.7777777777777778,\"#fb9f3a\"],[0.8888888888888888,\"#fdca26\"],[1.0,\"#f0f921\"]],\"type\":\"histogram2d\"}],\"histogram2dcontour\":[{\"colorbar\":{\"outlinewidth\":0,\"ticks\":\"\"},\"colorscale\":[[0.0,\"#0d0887\"],[0.1111111111111111,\"#46039f\"],[0.2222222222222222,\"#7201a8\"],[0.3333333333333333,\"#9c179e\"],[0.4444444444444444,\"#bd3786\"],[0.5555555555555556,\"#d8576b\"],[0.6666666666666666,\"#ed7953\"],[0.7777777777777778,\"#fb9f3a\"],[0.8888888888888888,\"#fdca26\"],[1.0,\"#f0f921\"]],\"type\":\"histogram2dcontour\"}],\"mesh3d\":[{\"colorbar\":{\"outlinewidth\":0,\"ticks\":\"\"},\"type\":\"mesh3d\"}],\"parcoords\":[{\"line\":{\"colorbar\":{\"outlinewidth\":0,\"ticks\":\"\"}},\"type\":\"parcoords\"}],\"pie\":[{\"automargin\":true,\"type\":\"pie\"}],\"scatter\":[{\"marker\":{\"colorbar\":{\"outlinewidth\":0,\"ticks\":\"\"}},\"type\":\"scatter\"}],\"scatter3d\":[{\"line\":{\"colorbar\":{\"outlinewidth\":0,\"ticks\":\"\"}},\"marker\":{\"colorbar\":{\"outlinewidth\":0,\"ticks\":\"\"}},\"type\":\"scatter3d\"}],\"scattercarpet\":[{\"marker\":{\"colorbar\":{\"outlinewidth\":0,\"ticks\":\"\"}},\"type\":\"scattercarpet\"}],\"scattergeo\":[{\"marker\":{\"colorbar\":{\"outlinewidth\":0,\"ticks\":\"\"}},\"type\":\"scattergeo\"}],\"scattergl\":[{\"marker\":{\"colorbar\":{\"outlinewidth\":0,\"ticks\":\"\"}},\"type\":\"scattergl\"}],\"scattermapbox\":[{\"marker\":{\"colorbar\":{\"outlinewidth\":0,\"ticks\":\"\"}},\"type\":\"scattermapbox\"}],\"scatterpolar\":[{\"marker\":{\"colorbar\":{\"outlinewidth\":0,\"ticks\":\"\"}},\"type\":\"scatterpolar\"}],\"scatterpolargl\":[{\"marker\":{\"colorbar\":{\"outlinewidth\":0,\"ticks\":\"\"}},\"type\":\"scatterpolargl\"}],\"scatterternary\":[{\"marker\":{\"colorbar\":{\"outlinewidth\":0,\"ticks\":\"\"}},\"type\":\"scatterternary\"}],\"surface\":[{\"colorbar\":{\"outlinewidth\":0,\"ticks\":\"\"},\"colorscale\":[[0.0,\"#0d0887\"],[0.1111111111111111,\"#46039f\"],[0.2222222222222222,\"#7201a8\"],[0.3333333333333333,\"#9c179e\"],[0.4444444444444444,\"#bd3786\"],[0.5555555555555556,\"#d8576b\"],[0.6666666666666666,\"#ed7953\"],[0.7777777777777778,\"#fb9f3a\"],[0.8888888888888888,\"#fdca26\"],[1.0,\"#f0f921\"]],\"type\":\"surface\"}],\"table\":[{\"cells\":{\"fill\":{\"color\":\"#EBF0F8\"},\"line\":{\"color\":\"white\"}},\"header\":{\"fill\":{\"color\":\"#C8D4E3\"},\"line\":{\"color\":\"white\"}},\"type\":\"table\"}]},\"layout\":{\"annotationdefaults\":{\"arrowcolor\":\"#2a3f5f\",\"arrowhead\":0,\"arrowwidth\":1},\"autotypenumbers\":\"strict\",\"coloraxis\":{\"colorbar\":{\"outlinewidth\":0,\"ticks\":\"\"}},\"colorscale\":{\"diverging\":[[0,\"#8e0152\"],[0.1,\"#c51b7d\"],[0.2,\"#de77ae\"],[0.3,\"#f1b6da\"],[0.4,\"#fde0ef\"],[0.5,\"#f7f7f7\"],[0.6,\"#e6f5d0\"],[0.7,\"#b8e186\"],[0.8,\"#7fbc41\"],[0.9,\"#4d9221\"],[1,\"#276419\"]],\"sequential\":[[0.0,\"#0d0887\"],[0.1111111111111111,\"#46039f\"],[0.2222222222222222,\"#7201a8\"],[0.3333333333333333,\"#9c179e\"],[0.4444444444444444,\"#bd3786\"],[0.5555555555555556,\"#d8576b\"],[0.6666666666666666,\"#ed7953\"],[0.7777777777777778,\"#fb9f3a\"],[0.8888888888888888,\"#fdca26\"],[1.0,\"#f0f921\"]],\"sequentialminus\":[[0.0,\"#0d0887\"],[0.1111111111111111,\"#46039f\"],[0.2222222222222222,\"#7201a8\"],[0.3333333333333333,\"#9c179e\"],[0.4444444444444444,\"#bd3786\"],[0.5555555555555556,\"#d8576b\"],[0.6666666666666666,\"#ed7953\"],[0.7777777777777778,\"#fb9f3a\"],[0.8888888888888888,\"#fdca26\"],[1.0,\"#f0f921\"]]},\"colorway\":[\"#636efa\",\"#EF553B\",\"#00cc96\",\"#ab63fa\",\"#FFA15A\",\"#19d3f3\",\"#FF6692\",\"#B6E880\",\"#FF97FF\",\"#FECB52\"],\"font\":{\"color\":\"#2a3f5f\"},\"geo\":{\"bgcolor\":\"white\",\"lakecolor\":\"white\",\"landcolor\":\"#E5ECF6\",\"showlakes\":true,\"showland\":true,\"subunitcolor\":\"white\"},\"hoverlabel\":{\"align\":\"left\"},\"hovermode\":\"closest\",\"mapbox\":{\"style\":\"light\"},\"paper_bgcolor\":\"white\",\"plot_bgcolor\":\"#E5ECF6\",\"polar\":{\"angularaxis\":{\"gridcolor\":\"white\",\"linecolor\":\"white\",\"ticks\":\"\"},\"bgcolor\":\"#E5ECF6\",\"radialaxis\":{\"gridcolor\":\"white\",\"linecolor\":\"white\",\"ticks\":\"\"}},\"scene\":{\"xaxis\":{\"backgroundcolor\":\"#E5ECF6\",\"gridcolor\":\"white\",\"gridwidth\":2,\"linecolor\":\"white\",\"showbackground\":true,\"ticks\":\"\",\"zerolinecolor\":\"white\"},\"yaxis\":{\"backgroundcolor\":\"#E5ECF6\",\"gridcolor\":\"white\",\"gridwidth\":2,\"linecolor\":\"white\",\"showbackground\":true,\"ticks\":\"\",\"zerolinecolor\":\"white\"},\"zaxis\":{\"backgroundcolor\":\"#E5ECF6\",\"gridcolor\":\"white\",\"gridwidth\":2,\"linecolor\":\"white\",\"showbackground\":true,\"ticks\":\"\",\"zerolinecolor\":\"white\"}},\"shapedefaults\":{\"line\":{\"color\":\"#2a3f5f\"}},\"ternary\":{\"aaxis\":{\"gridcolor\":\"white\",\"linecolor\":\"white\",\"ticks\":\"\"},\"baxis\":{\"gridcolor\":\"white\",\"linecolor\":\"white\",\"ticks\":\"\"},\"bgcolor\":\"#E5ECF6\",\"caxis\":{\"gridcolor\":\"white\",\"linecolor\":\"white\",\"ticks\":\"\"}},\"title\":{\"x\":0.05},\"xaxis\":{\"automargin\":true,\"gridcolor\":\"white\",\"linecolor\":\"white\",\"ticks\":\"\",\"title\":{\"standoff\":15},\"zerolinecolor\":\"white\",\"zerolinewidth\":2},\"yaxis\":{\"automargin\":true,\"gridcolor\":\"white\",\"linecolor\":\"white\",\"ticks\":\"\",\"title\":{\"standoff\":15},\"zerolinecolor\":\"white\",\"zerolinewidth\":2}}},\"title\":{\"text\":\"Top 25 Authors\"},\"xaxis\":{\"anchor\":\"y\",\"categoryorder\":\"total descending\",\"domain\":[0.0,1.0],\"title\":{\"text\":\"Author\"}},\"yaxis\":{\"anchor\":\"x\",\"domain\":[0.0,1.0],\"title\":{\"text\":\"Number of Books\"}}},                        {\"responsive\": true}                    ).then(function(){\n",
       "                            \n",
       "var gd = document.getElementById('2fd8ff19-b093-43e6-9e8e-a0ab67d32adb');\n",
       "var x = new MutationObserver(function (mutations, observer) {{\n",
       "        var display = window.getComputedStyle(gd).display;\n",
       "        if (!display || display === 'none') {{\n",
       "            console.log([gd, 'removed!']);\n",
       "            Plotly.purge(gd);\n",
       "            observer.disconnect();\n",
       "        }}\n",
       "}});\n",
       "\n",
       "// Listen for the removal of the full notebook cells\n",
       "var notebookContainer = gd.closest('#notebook-container');\n",
       "if (notebookContainer) {{\n",
       "    x.observe(notebookContainer, {childList: true});\n",
       "}}\n",
       "\n",
       "// Listen for the clearing of the current output cell\n",
       "var outputEl = gd.closest('.output');\n",
       "if (outputEl) {{\n",
       "    x.observe(outputEl, {childList: true});\n",
       "}}\n",
       "\n",
       "                        })                };                });            </script>        </div>"
      ]
     },
     "metadata": {},
     "output_type": "display_data"
    }
   ],
   "source": [
    "fig = px.bar(top_25_authors, x= top_25_authors.index, y=top_25_authors.values, title='Top 25 Authors',labels={'y':'Number of Books', 'index':'Author'})\n",
    "fig.update_layout(xaxis={'categoryorder':'total descending'})\n",
    "fig.show()"
   ]
  },
  {
   "cell_type": "markdown",
   "id": "c6160d2c",
   "metadata": {
    "papermill": {
     "duration": 0.058744,
     "end_time": "2021-07-10T21:54:25.763656",
     "exception": false,
     "start_time": "2021-07-10T21:54:25.704912",
     "status": "completed"
    },
    "tags": []
   },
   "source": [
    "- Let's see these top 25 authors, user ratings and reviews scores."
   ]
  },
  {
   "cell_type": "code",
   "execution_count": 33,
   "id": "f7fec677",
   "metadata": {
    "_kg_hide-input": true,
    "execution": {
     "iopub.execute_input": "2021-07-10T21:54:25.889423Z",
     "iopub.status.busy": "2021-07-10T21:54:25.888954Z",
     "iopub.status.idle": "2021-07-10T21:54:25.891183Z",
     "shell.execute_reply": "2021-07-10T21:54:25.890726Z",
     "shell.execute_reply.started": "2021-07-10T21:43:45.263462Z"
    },
    "papermill": {
     "duration": 0.068742,
     "end_time": "2021-07-10T21:54:25.891297",
     "exception": false,
     "start_time": "2021-07-10T21:54:25.822555",
     "status": "completed"
    },
    "tags": []
   },
   "outputs": [],
   "source": [
    "top_25_authors_ratings = df[df['Author'].isin(top_25_authors.index)][['Author','User Rating', 'Reviews']]\n",
    "top_25_authors_ratings_grouped=top_25_authors_ratings.groupby('Author')[['User Rating','Reviews']].mean().sort_values('Reviews', ascending=False)"
   ]
  },
  {
   "cell_type": "code",
   "execution_count": 34,
   "id": "b81e4bc1",
   "metadata": {
    "_kg_hide-input": true,
    "execution": {
     "iopub.execute_input": "2021-07-10T21:54:26.013515Z",
     "iopub.status.busy": "2021-07-10T21:54:26.013064Z",
     "iopub.status.idle": "2021-07-10T21:54:26.063797Z",
     "shell.execute_reply": "2021-07-10T21:54:26.063406Z",
     "shell.execute_reply.started": "2021-07-10T21:52:19.038585Z"
    },
    "papermill": {
     "duration": 0.113101,
     "end_time": "2021-07-10T21:54:26.063897",
     "exception": false,
     "start_time": "2021-07-10T21:54:25.950796",
     "status": "completed"
    },
    "tags": []
   },
   "outputs": [
    {
     "data": {
      "text/html": [
       "<div>                            <div id=\"e72bbc5f-6854-43fc-8987-76ef96909c0b\" class=\"plotly-graph-div\" style=\"height:525px; width:100%;\"></div>            <script type=\"text/javascript\">                require([\"plotly\"], function(Plotly) {                    window.PLOTLYENV=window.PLOTLYENV || {};                                    if (document.getElementById(\"e72bbc5f-6854-43fc-8987-76ef96909c0b\")) {                    Plotly.newPlot(                        \"e72bbc5f-6854-43fc-8987-76ef96909c0b\",                        [{\"alignmentgroup\":\"True\",\"hovertemplate\":\"Author=%{x}<br>User Rating=%{y}<extra></extra>\",\"legendgroup\":\"\",\"marker\":{\"color\":\"#636efa\",\"pattern\":{\"shape\":\"\"}},\"name\":\"\",\"offsetgroup\":\"\",\"orientation\":\"v\",\"showlegend\":false,\"textposition\":\"auto\",\"type\":\"bar\",\"x\":[\"John Green\",\"Laura Hillenbrand\",\"E L James\",\"Suzanne Collins\",\"Dale Carnegie\",\"Harper Lee\",\"Don Miguel Ruiz\",\"R. J. Palacio\",\"Dr. Seuss\",\"Sarah Young\",\"Eric Carle\",\"Gary Chapman\",\"John Grisham\",\"J.K. Rowling\",\"Bill O'Reilly\",\"American Psychological Association\",\"Stieg Larsson\",\"Dav Pilkey\",\"Stephen R. Covey\",\"Stephenie Meyer\",\"Rob Elliott\",\"Jeff Kinney\",\"Gallup\",\"Rick Riordan\",\"The College Board\"],\"xaxis\":\"x\",\"y\":[4.659999999999999,4.8,4.233333333333333,4.663636363636364,4.7,4.6000000000000005,4.7,4.8,4.877777777777777,4.8999999999999995,4.8999999999999995,4.736363636363635,4.4,4.45,4.642857142857143,4.5,4.6000000000000005,4.8999999999999995,4.642857142857143,4.6571428571428575,4.562500000000001,4.8,4.0,4.7727272727272725,4.383333333333334],\"yaxis\":\"y\"}],                        {\"barmode\":\"relative\",\"legend\":{\"tracegroupgap\":0},\"template\":{\"data\":{\"bar\":[{\"error_x\":{\"color\":\"#2a3f5f\"},\"error_y\":{\"color\":\"#2a3f5f\"},\"marker\":{\"line\":{\"color\":\"#E5ECF6\",\"width\":0.5},\"pattern\":{\"fillmode\":\"overlay\",\"size\":10,\"solidity\":0.2}},\"type\":\"bar\"}],\"barpolar\":[{\"marker\":{\"line\":{\"color\":\"#E5ECF6\",\"width\":0.5},\"pattern\":{\"fillmode\":\"overlay\",\"size\":10,\"solidity\":0.2}},\"type\":\"barpolar\"}],\"carpet\":[{\"aaxis\":{\"endlinecolor\":\"#2a3f5f\",\"gridcolor\":\"white\",\"linecolor\":\"white\",\"minorgridcolor\":\"white\",\"startlinecolor\":\"#2a3f5f\"},\"baxis\":{\"endlinecolor\":\"#2a3f5f\",\"gridcolor\":\"white\",\"linecolor\":\"white\",\"minorgridcolor\":\"white\",\"startlinecolor\":\"#2a3f5f\"},\"type\":\"carpet\"}],\"choropleth\":[{\"colorbar\":{\"outlinewidth\":0,\"ticks\":\"\"},\"type\":\"choropleth\"}],\"contour\":[{\"colorbar\":{\"outlinewidth\":0,\"ticks\":\"\"},\"colorscale\":[[0.0,\"#0d0887\"],[0.1111111111111111,\"#46039f\"],[0.2222222222222222,\"#7201a8\"],[0.3333333333333333,\"#9c179e\"],[0.4444444444444444,\"#bd3786\"],[0.5555555555555556,\"#d8576b\"],[0.6666666666666666,\"#ed7953\"],[0.7777777777777778,\"#fb9f3a\"],[0.8888888888888888,\"#fdca26\"],[1.0,\"#f0f921\"]],\"type\":\"contour\"}],\"contourcarpet\":[{\"colorbar\":{\"outlinewidth\":0,\"ticks\":\"\"},\"type\":\"contourcarpet\"}],\"heatmap\":[{\"colorbar\":{\"outlinewidth\":0,\"ticks\":\"\"},\"colorscale\":[[0.0,\"#0d0887\"],[0.1111111111111111,\"#46039f\"],[0.2222222222222222,\"#7201a8\"],[0.3333333333333333,\"#9c179e\"],[0.4444444444444444,\"#bd3786\"],[0.5555555555555556,\"#d8576b\"],[0.6666666666666666,\"#ed7953\"],[0.7777777777777778,\"#fb9f3a\"],[0.8888888888888888,\"#fdca26\"],[1.0,\"#f0f921\"]],\"type\":\"heatmap\"}],\"heatmapgl\":[{\"colorbar\":{\"outlinewidth\":0,\"ticks\":\"\"},\"colorscale\":[[0.0,\"#0d0887\"],[0.1111111111111111,\"#46039f\"],[0.2222222222222222,\"#7201a8\"],[0.3333333333333333,\"#9c179e\"],[0.4444444444444444,\"#bd3786\"],[0.5555555555555556,\"#d8576b\"],[0.6666666666666666,\"#ed7953\"],[0.7777777777777778,\"#fb9f3a\"],[0.8888888888888888,\"#fdca26\"],[1.0,\"#f0f921\"]],\"type\":\"heatmapgl\"}],\"histogram\":[{\"marker\":{\"pattern\":{\"fillmode\":\"overlay\",\"size\":10,\"solidity\":0.2}},\"type\":\"histogram\"}],\"histogram2d\":[{\"colorbar\":{\"outlinewidth\":0,\"ticks\":\"\"},\"colorscale\":[[0.0,\"#0d0887\"],[0.1111111111111111,\"#46039f\"],[0.2222222222222222,\"#7201a8\"],[0.3333333333333333,\"#9c179e\"],[0.4444444444444444,\"#bd3786\"],[0.5555555555555556,\"#d8576b\"],[0.6666666666666666,\"#ed7953\"],[0.7777777777777778,\"#fb9f3a\"],[0.8888888888888888,\"#fdca26\"],[1.0,\"#f0f921\"]],\"type\":\"histogram2d\"}],\"histogram2dcontour\":[{\"colorbar\":{\"outlinewidth\":0,\"ticks\":\"\"},\"colorscale\":[[0.0,\"#0d0887\"],[0.1111111111111111,\"#46039f\"],[0.2222222222222222,\"#7201a8\"],[0.3333333333333333,\"#9c179e\"],[0.4444444444444444,\"#bd3786\"],[0.5555555555555556,\"#d8576b\"],[0.6666666666666666,\"#ed7953\"],[0.7777777777777778,\"#fb9f3a\"],[0.8888888888888888,\"#fdca26\"],[1.0,\"#f0f921\"]],\"type\":\"histogram2dcontour\"}],\"mesh3d\":[{\"colorbar\":{\"outlinewidth\":0,\"ticks\":\"\"},\"type\":\"mesh3d\"}],\"parcoords\":[{\"line\":{\"colorbar\":{\"outlinewidth\":0,\"ticks\":\"\"}},\"type\":\"parcoords\"}],\"pie\":[{\"automargin\":true,\"type\":\"pie\"}],\"scatter\":[{\"marker\":{\"colorbar\":{\"outlinewidth\":0,\"ticks\":\"\"}},\"type\":\"scatter\"}],\"scatter3d\":[{\"line\":{\"colorbar\":{\"outlinewidth\":0,\"ticks\":\"\"}},\"marker\":{\"colorbar\":{\"outlinewidth\":0,\"ticks\":\"\"}},\"type\":\"scatter3d\"}],\"scattercarpet\":[{\"marker\":{\"colorbar\":{\"outlinewidth\":0,\"ticks\":\"\"}},\"type\":\"scattercarpet\"}],\"scattergeo\":[{\"marker\":{\"colorbar\":{\"outlinewidth\":0,\"ticks\":\"\"}},\"type\":\"scattergeo\"}],\"scattergl\":[{\"marker\":{\"colorbar\":{\"outlinewidth\":0,\"ticks\":\"\"}},\"type\":\"scattergl\"}],\"scattermapbox\":[{\"marker\":{\"colorbar\":{\"outlinewidth\":0,\"ticks\":\"\"}},\"type\":\"scattermapbox\"}],\"scatterpolar\":[{\"marker\":{\"colorbar\":{\"outlinewidth\":0,\"ticks\":\"\"}},\"type\":\"scatterpolar\"}],\"scatterpolargl\":[{\"marker\":{\"colorbar\":{\"outlinewidth\":0,\"ticks\":\"\"}},\"type\":\"scatterpolargl\"}],\"scatterternary\":[{\"marker\":{\"colorbar\":{\"outlinewidth\":0,\"ticks\":\"\"}},\"type\":\"scatterternary\"}],\"surface\":[{\"colorbar\":{\"outlinewidth\":0,\"ticks\":\"\"},\"colorscale\":[[0.0,\"#0d0887\"],[0.1111111111111111,\"#46039f\"],[0.2222222222222222,\"#7201a8\"],[0.3333333333333333,\"#9c179e\"],[0.4444444444444444,\"#bd3786\"],[0.5555555555555556,\"#d8576b\"],[0.6666666666666666,\"#ed7953\"],[0.7777777777777778,\"#fb9f3a\"],[0.8888888888888888,\"#fdca26\"],[1.0,\"#f0f921\"]],\"type\":\"surface\"}],\"table\":[{\"cells\":{\"fill\":{\"color\":\"#EBF0F8\"},\"line\":{\"color\":\"white\"}},\"header\":{\"fill\":{\"color\":\"#C8D4E3\"},\"line\":{\"color\":\"white\"}},\"type\":\"table\"}]},\"layout\":{\"annotationdefaults\":{\"arrowcolor\":\"#2a3f5f\",\"arrowhead\":0,\"arrowwidth\":1},\"autotypenumbers\":\"strict\",\"coloraxis\":{\"colorbar\":{\"outlinewidth\":0,\"ticks\":\"\"}},\"colorscale\":{\"diverging\":[[0,\"#8e0152\"],[0.1,\"#c51b7d\"],[0.2,\"#de77ae\"],[0.3,\"#f1b6da\"],[0.4,\"#fde0ef\"],[0.5,\"#f7f7f7\"],[0.6,\"#e6f5d0\"],[0.7,\"#b8e186\"],[0.8,\"#7fbc41\"],[0.9,\"#4d9221\"],[1,\"#276419\"]],\"sequential\":[[0.0,\"#0d0887\"],[0.1111111111111111,\"#46039f\"],[0.2222222222222222,\"#7201a8\"],[0.3333333333333333,\"#9c179e\"],[0.4444444444444444,\"#bd3786\"],[0.5555555555555556,\"#d8576b\"],[0.6666666666666666,\"#ed7953\"],[0.7777777777777778,\"#fb9f3a\"],[0.8888888888888888,\"#fdca26\"],[1.0,\"#f0f921\"]],\"sequentialminus\":[[0.0,\"#0d0887\"],[0.1111111111111111,\"#46039f\"],[0.2222222222222222,\"#7201a8\"],[0.3333333333333333,\"#9c179e\"],[0.4444444444444444,\"#bd3786\"],[0.5555555555555556,\"#d8576b\"],[0.6666666666666666,\"#ed7953\"],[0.7777777777777778,\"#fb9f3a\"],[0.8888888888888888,\"#fdca26\"],[1.0,\"#f0f921\"]]},\"colorway\":[\"#636efa\",\"#EF553B\",\"#00cc96\",\"#ab63fa\",\"#FFA15A\",\"#19d3f3\",\"#FF6692\",\"#B6E880\",\"#FF97FF\",\"#FECB52\"],\"font\":{\"color\":\"#2a3f5f\"},\"geo\":{\"bgcolor\":\"white\",\"lakecolor\":\"white\",\"landcolor\":\"#E5ECF6\",\"showlakes\":true,\"showland\":true,\"subunitcolor\":\"white\"},\"hoverlabel\":{\"align\":\"left\"},\"hovermode\":\"closest\",\"mapbox\":{\"style\":\"light\"},\"paper_bgcolor\":\"white\",\"plot_bgcolor\":\"#E5ECF6\",\"polar\":{\"angularaxis\":{\"gridcolor\":\"white\",\"linecolor\":\"white\",\"ticks\":\"\"},\"bgcolor\":\"#E5ECF6\",\"radialaxis\":{\"gridcolor\":\"white\",\"linecolor\":\"white\",\"ticks\":\"\"}},\"scene\":{\"xaxis\":{\"backgroundcolor\":\"#E5ECF6\",\"gridcolor\":\"white\",\"gridwidth\":2,\"linecolor\":\"white\",\"showbackground\":true,\"ticks\":\"\",\"zerolinecolor\":\"white\"},\"yaxis\":{\"backgroundcolor\":\"#E5ECF6\",\"gridcolor\":\"white\",\"gridwidth\":2,\"linecolor\":\"white\",\"showbackground\":true,\"ticks\":\"\",\"zerolinecolor\":\"white\"},\"zaxis\":{\"backgroundcolor\":\"#E5ECF6\",\"gridcolor\":\"white\",\"gridwidth\":2,\"linecolor\":\"white\",\"showbackground\":true,\"ticks\":\"\",\"zerolinecolor\":\"white\"}},\"shapedefaults\":{\"line\":{\"color\":\"#2a3f5f\"}},\"ternary\":{\"aaxis\":{\"gridcolor\":\"white\",\"linecolor\":\"white\",\"ticks\":\"\"},\"baxis\":{\"gridcolor\":\"white\",\"linecolor\":\"white\",\"ticks\":\"\"},\"bgcolor\":\"#E5ECF6\",\"caxis\":{\"gridcolor\":\"white\",\"linecolor\":\"white\",\"ticks\":\"\"}},\"title\":{\"x\":0.05},\"xaxis\":{\"automargin\":true,\"gridcolor\":\"white\",\"linecolor\":\"white\",\"ticks\":\"\",\"title\":{\"standoff\":15},\"zerolinecolor\":\"white\",\"zerolinewidth\":2},\"yaxis\":{\"automargin\":true,\"gridcolor\":\"white\",\"linecolor\":\"white\",\"ticks\":\"\",\"title\":{\"standoff\":15},\"zerolinecolor\":\"white\",\"zerolinewidth\":2}}},\"title\":{\"text\":\"Top 25 Authors with USer Rating\"},\"xaxis\":{\"anchor\":\"y\",\"categoryorder\":\"total descending\",\"domain\":[0.0,1.0],\"title\":{\"text\":\"Author\"}},\"yaxis\":{\"anchor\":\"x\",\"domain\":[0.0,1.0],\"title\":{\"text\":\"User Rating\"}}},                        {\"responsive\": true}                    ).then(function(){\n",
       "                            \n",
       "var gd = document.getElementById('e72bbc5f-6854-43fc-8987-76ef96909c0b');\n",
       "var x = new MutationObserver(function (mutations, observer) {{\n",
       "        var display = window.getComputedStyle(gd).display;\n",
       "        if (!display || display === 'none') {{\n",
       "            console.log([gd, 'removed!']);\n",
       "            Plotly.purge(gd);\n",
       "            observer.disconnect();\n",
       "        }}\n",
       "}});\n",
       "\n",
       "// Listen for the removal of the full notebook cells\n",
       "var notebookContainer = gd.closest('#notebook-container');\n",
       "if (notebookContainer) {{\n",
       "    x.observe(notebookContainer, {childList: true});\n",
       "}}\n",
       "\n",
       "// Listen for the clearing of the current output cell\n",
       "var outputEl = gd.closest('.output');\n",
       "if (outputEl) {{\n",
       "    x.observe(outputEl, {childList: true});\n",
       "}}\n",
       "\n",
       "                        })                };                });            </script>        </div>"
      ]
     },
     "metadata": {},
     "output_type": "display_data"
    }
   ],
   "source": [
    "fig = px.bar(top_25_authors_ratings_grouped, x= top_25_authors_ratings_grouped.index, y='User Rating', title='Top 25 Authors with USer Rating')\n",
    "fig.update_layout(xaxis={'categoryorder':'total descending'})\n",
    "fig.show()"
   ]
  },
  {
   "cell_type": "markdown",
   "id": "19583ba7",
   "metadata": {
    "papermill": {
     "duration": 0.059174,
     "end_time": "2021-07-10T21:54:26.183084",
     "exception": false,
     "start_time": "2021-07-10T21:54:26.123910",
     "status": "completed"
    },
    "tags": []
   },
   "source": [
    "- As expected, they have very high user rating (4.9 to 4)"
   ]
  },
  {
   "cell_type": "code",
   "execution_count": 35,
   "id": "97a1b94f",
   "metadata": {
    "_kg_hide-input": true,
    "execution": {
     "iopub.execute_input": "2021-07-10T21:54:26.338288Z",
     "iopub.status.busy": "2021-07-10T21:54:26.337802Z",
     "iopub.status.idle": "2021-07-10T21:54:26.389264Z",
     "shell.execute_reply": "2021-07-10T21:54:26.389599Z",
     "shell.execute_reply.started": "2021-07-10T21:43:45.352015Z"
    },
    "papermill": {
     "duration": 0.146742,
     "end_time": "2021-07-10T21:54:26.389760",
     "exception": false,
     "start_time": "2021-07-10T21:54:26.243018",
     "status": "completed"
    },
    "tags": []
   },
   "outputs": [
    {
     "data": {
      "text/html": [
       "<div>                            <div id=\"01139eaa-40e0-485c-9da5-ce82ff4da8de\" class=\"plotly-graph-div\" style=\"height:525px; width:100%;\"></div>            <script type=\"text/javascript\">                require([\"plotly\"], function(Plotly) {                    window.PLOTLYENV=window.PLOTLYENV || {};                                    if (document.getElementById(\"01139eaa-40e0-485c-9da5-ce82ff4da8de\")) {                    Plotly.newPlot(                        \"01139eaa-40e0-485c-9da5-ce82ff4da8de\",                        [{\"alignmentgroup\":\"True\",\"hovertemplate\":\"Author=%{x}<br>Reviews=%{y}<extra></extra>\",\"legendgroup\":\"\",\"marker\":{\"color\":\"#636efa\",\"pattern\":{\"shape\":\"\"}},\"name\":\"\",\"offsetgroup\":\"\",\"orientation\":\"v\",\"showlegend\":false,\"textposition\":\"auto\",\"type\":\"bar\",\"x\":[\"John Green\",\"Laura Hillenbrand\",\"E L James\",\"Suzanne Collins\",\"Dale Carnegie\",\"Harper Lee\",\"Don Miguel Ruiz\",\"R. J. Palacio\",\"Dr. Seuss\",\"Sarah Young\",\"Eric Carle\",\"Gary Chapman\",\"John Grisham\",\"J.K. Rowling\",\"Bill O'Reilly\",\"American Psychological Association\",\"Stieg Larsson\",\"Dav Pilkey\",\"Stephen R. Covey\",\"Stephenie Meyer\",\"Rob Elliott\",\"Jeff Kinney\",\"Gallup\",\"Rick Riordan\",\"The College Board\"],\"xaxis\":\"x\",\"y\":[42083.8,29673.0,29668.5,25302.636363636364,25001.0,24358.666666666668,23308.0,21625.0,19616.11111111111,19576.0,19546.0,13268.90909090909,12192.2,11755.833333333334,9112.42857142857,8580.0,8519.0,7356.571428571428,7353.571428571428,6294.0,5746.125,5623.5,5069.0,4015.3636363636365,1135.3333333333333],\"yaxis\":\"y\"}],                        {\"barmode\":\"relative\",\"legend\":{\"tracegroupgap\":0},\"template\":{\"data\":{\"bar\":[{\"error_x\":{\"color\":\"#2a3f5f\"},\"error_y\":{\"color\":\"#2a3f5f\"},\"marker\":{\"line\":{\"color\":\"#E5ECF6\",\"width\":0.5},\"pattern\":{\"fillmode\":\"overlay\",\"size\":10,\"solidity\":0.2}},\"type\":\"bar\"}],\"barpolar\":[{\"marker\":{\"line\":{\"color\":\"#E5ECF6\",\"width\":0.5},\"pattern\":{\"fillmode\":\"overlay\",\"size\":10,\"solidity\":0.2}},\"type\":\"barpolar\"}],\"carpet\":[{\"aaxis\":{\"endlinecolor\":\"#2a3f5f\",\"gridcolor\":\"white\",\"linecolor\":\"white\",\"minorgridcolor\":\"white\",\"startlinecolor\":\"#2a3f5f\"},\"baxis\":{\"endlinecolor\":\"#2a3f5f\",\"gridcolor\":\"white\",\"linecolor\":\"white\",\"minorgridcolor\":\"white\",\"startlinecolor\":\"#2a3f5f\"},\"type\":\"carpet\"}],\"choropleth\":[{\"colorbar\":{\"outlinewidth\":0,\"ticks\":\"\"},\"type\":\"choropleth\"}],\"contour\":[{\"colorbar\":{\"outlinewidth\":0,\"ticks\":\"\"},\"colorscale\":[[0.0,\"#0d0887\"],[0.1111111111111111,\"#46039f\"],[0.2222222222222222,\"#7201a8\"],[0.3333333333333333,\"#9c179e\"],[0.4444444444444444,\"#bd3786\"],[0.5555555555555556,\"#d8576b\"],[0.6666666666666666,\"#ed7953\"],[0.7777777777777778,\"#fb9f3a\"],[0.8888888888888888,\"#fdca26\"],[1.0,\"#f0f921\"]],\"type\":\"contour\"}],\"contourcarpet\":[{\"colorbar\":{\"outlinewidth\":0,\"ticks\":\"\"},\"type\":\"contourcarpet\"}],\"heatmap\":[{\"colorbar\":{\"outlinewidth\":0,\"ticks\":\"\"},\"colorscale\":[[0.0,\"#0d0887\"],[0.1111111111111111,\"#46039f\"],[0.2222222222222222,\"#7201a8\"],[0.3333333333333333,\"#9c179e\"],[0.4444444444444444,\"#bd3786\"],[0.5555555555555556,\"#d8576b\"],[0.6666666666666666,\"#ed7953\"],[0.7777777777777778,\"#fb9f3a\"],[0.8888888888888888,\"#fdca26\"],[1.0,\"#f0f921\"]],\"type\":\"heatmap\"}],\"heatmapgl\":[{\"colorbar\":{\"outlinewidth\":0,\"ticks\":\"\"},\"colorscale\":[[0.0,\"#0d0887\"],[0.1111111111111111,\"#46039f\"],[0.2222222222222222,\"#7201a8\"],[0.3333333333333333,\"#9c179e\"],[0.4444444444444444,\"#bd3786\"],[0.5555555555555556,\"#d8576b\"],[0.6666666666666666,\"#ed7953\"],[0.7777777777777778,\"#fb9f3a\"],[0.8888888888888888,\"#fdca26\"],[1.0,\"#f0f921\"]],\"type\":\"heatmapgl\"}],\"histogram\":[{\"marker\":{\"pattern\":{\"fillmode\":\"overlay\",\"size\":10,\"solidity\":0.2}},\"type\":\"histogram\"}],\"histogram2d\":[{\"colorbar\":{\"outlinewidth\":0,\"ticks\":\"\"},\"colorscale\":[[0.0,\"#0d0887\"],[0.1111111111111111,\"#46039f\"],[0.2222222222222222,\"#7201a8\"],[0.3333333333333333,\"#9c179e\"],[0.4444444444444444,\"#bd3786\"],[0.5555555555555556,\"#d8576b\"],[0.6666666666666666,\"#ed7953\"],[0.7777777777777778,\"#fb9f3a\"],[0.8888888888888888,\"#fdca26\"],[1.0,\"#f0f921\"]],\"type\":\"histogram2d\"}],\"histogram2dcontour\":[{\"colorbar\":{\"outlinewidth\":0,\"ticks\":\"\"},\"colorscale\":[[0.0,\"#0d0887\"],[0.1111111111111111,\"#46039f\"],[0.2222222222222222,\"#7201a8\"],[0.3333333333333333,\"#9c179e\"],[0.4444444444444444,\"#bd3786\"],[0.5555555555555556,\"#d8576b\"],[0.6666666666666666,\"#ed7953\"],[0.7777777777777778,\"#fb9f3a\"],[0.8888888888888888,\"#fdca26\"],[1.0,\"#f0f921\"]],\"type\":\"histogram2dcontour\"}],\"mesh3d\":[{\"colorbar\":{\"outlinewidth\":0,\"ticks\":\"\"},\"type\":\"mesh3d\"}],\"parcoords\":[{\"line\":{\"colorbar\":{\"outlinewidth\":0,\"ticks\":\"\"}},\"type\":\"parcoords\"}],\"pie\":[{\"automargin\":true,\"type\":\"pie\"}],\"scatter\":[{\"marker\":{\"colorbar\":{\"outlinewidth\":0,\"ticks\":\"\"}},\"type\":\"scatter\"}],\"scatter3d\":[{\"line\":{\"colorbar\":{\"outlinewidth\":0,\"ticks\":\"\"}},\"marker\":{\"colorbar\":{\"outlinewidth\":0,\"ticks\":\"\"}},\"type\":\"scatter3d\"}],\"scattercarpet\":[{\"marker\":{\"colorbar\":{\"outlinewidth\":0,\"ticks\":\"\"}},\"type\":\"scattercarpet\"}],\"scattergeo\":[{\"marker\":{\"colorbar\":{\"outlinewidth\":0,\"ticks\":\"\"}},\"type\":\"scattergeo\"}],\"scattergl\":[{\"marker\":{\"colorbar\":{\"outlinewidth\":0,\"ticks\":\"\"}},\"type\":\"scattergl\"}],\"scattermapbox\":[{\"marker\":{\"colorbar\":{\"outlinewidth\":0,\"ticks\":\"\"}},\"type\":\"scattermapbox\"}],\"scatterpolar\":[{\"marker\":{\"colorbar\":{\"outlinewidth\":0,\"ticks\":\"\"}},\"type\":\"scatterpolar\"}],\"scatterpolargl\":[{\"marker\":{\"colorbar\":{\"outlinewidth\":0,\"ticks\":\"\"}},\"type\":\"scatterpolargl\"}],\"scatterternary\":[{\"marker\":{\"colorbar\":{\"outlinewidth\":0,\"ticks\":\"\"}},\"type\":\"scatterternary\"}],\"surface\":[{\"colorbar\":{\"outlinewidth\":0,\"ticks\":\"\"},\"colorscale\":[[0.0,\"#0d0887\"],[0.1111111111111111,\"#46039f\"],[0.2222222222222222,\"#7201a8\"],[0.3333333333333333,\"#9c179e\"],[0.4444444444444444,\"#bd3786\"],[0.5555555555555556,\"#d8576b\"],[0.6666666666666666,\"#ed7953\"],[0.7777777777777778,\"#fb9f3a\"],[0.8888888888888888,\"#fdca26\"],[1.0,\"#f0f921\"]],\"type\":\"surface\"}],\"table\":[{\"cells\":{\"fill\":{\"color\":\"#EBF0F8\"},\"line\":{\"color\":\"white\"}},\"header\":{\"fill\":{\"color\":\"#C8D4E3\"},\"line\":{\"color\":\"white\"}},\"type\":\"table\"}]},\"layout\":{\"annotationdefaults\":{\"arrowcolor\":\"#2a3f5f\",\"arrowhead\":0,\"arrowwidth\":1},\"autotypenumbers\":\"strict\",\"coloraxis\":{\"colorbar\":{\"outlinewidth\":0,\"ticks\":\"\"}},\"colorscale\":{\"diverging\":[[0,\"#8e0152\"],[0.1,\"#c51b7d\"],[0.2,\"#de77ae\"],[0.3,\"#f1b6da\"],[0.4,\"#fde0ef\"],[0.5,\"#f7f7f7\"],[0.6,\"#e6f5d0\"],[0.7,\"#b8e186\"],[0.8,\"#7fbc41\"],[0.9,\"#4d9221\"],[1,\"#276419\"]],\"sequential\":[[0.0,\"#0d0887\"],[0.1111111111111111,\"#46039f\"],[0.2222222222222222,\"#7201a8\"],[0.3333333333333333,\"#9c179e\"],[0.4444444444444444,\"#bd3786\"],[0.5555555555555556,\"#d8576b\"],[0.6666666666666666,\"#ed7953\"],[0.7777777777777778,\"#fb9f3a\"],[0.8888888888888888,\"#fdca26\"],[1.0,\"#f0f921\"]],\"sequentialminus\":[[0.0,\"#0d0887\"],[0.1111111111111111,\"#46039f\"],[0.2222222222222222,\"#7201a8\"],[0.3333333333333333,\"#9c179e\"],[0.4444444444444444,\"#bd3786\"],[0.5555555555555556,\"#d8576b\"],[0.6666666666666666,\"#ed7953\"],[0.7777777777777778,\"#fb9f3a\"],[0.8888888888888888,\"#fdca26\"],[1.0,\"#f0f921\"]]},\"colorway\":[\"#636efa\",\"#EF553B\",\"#00cc96\",\"#ab63fa\",\"#FFA15A\",\"#19d3f3\",\"#FF6692\",\"#B6E880\",\"#FF97FF\",\"#FECB52\"],\"font\":{\"color\":\"#2a3f5f\"},\"geo\":{\"bgcolor\":\"white\",\"lakecolor\":\"white\",\"landcolor\":\"#E5ECF6\",\"showlakes\":true,\"showland\":true,\"subunitcolor\":\"white\"},\"hoverlabel\":{\"align\":\"left\"},\"hovermode\":\"closest\",\"mapbox\":{\"style\":\"light\"},\"paper_bgcolor\":\"white\",\"plot_bgcolor\":\"#E5ECF6\",\"polar\":{\"angularaxis\":{\"gridcolor\":\"white\",\"linecolor\":\"white\",\"ticks\":\"\"},\"bgcolor\":\"#E5ECF6\",\"radialaxis\":{\"gridcolor\":\"white\",\"linecolor\":\"white\",\"ticks\":\"\"}},\"scene\":{\"xaxis\":{\"backgroundcolor\":\"#E5ECF6\",\"gridcolor\":\"white\",\"gridwidth\":2,\"linecolor\":\"white\",\"showbackground\":true,\"ticks\":\"\",\"zerolinecolor\":\"white\"},\"yaxis\":{\"backgroundcolor\":\"#E5ECF6\",\"gridcolor\":\"white\",\"gridwidth\":2,\"linecolor\":\"white\",\"showbackground\":true,\"ticks\":\"\",\"zerolinecolor\":\"white\"},\"zaxis\":{\"backgroundcolor\":\"#E5ECF6\",\"gridcolor\":\"white\",\"gridwidth\":2,\"linecolor\":\"white\",\"showbackground\":true,\"ticks\":\"\",\"zerolinecolor\":\"white\"}},\"shapedefaults\":{\"line\":{\"color\":\"#2a3f5f\"}},\"ternary\":{\"aaxis\":{\"gridcolor\":\"white\",\"linecolor\":\"white\",\"ticks\":\"\"},\"baxis\":{\"gridcolor\":\"white\",\"linecolor\":\"white\",\"ticks\":\"\"},\"bgcolor\":\"#E5ECF6\",\"caxis\":{\"gridcolor\":\"white\",\"linecolor\":\"white\",\"ticks\":\"\"}},\"title\":{\"x\":0.05},\"xaxis\":{\"automargin\":true,\"gridcolor\":\"white\",\"linecolor\":\"white\",\"ticks\":\"\",\"title\":{\"standoff\":15},\"zerolinecolor\":\"white\",\"zerolinewidth\":2},\"yaxis\":{\"automargin\":true,\"gridcolor\":\"white\",\"linecolor\":\"white\",\"ticks\":\"\",\"title\":{\"standoff\":15},\"zerolinecolor\":\"white\",\"zerolinewidth\":2}}},\"title\":{\"text\":\"Top 25 Authors with Reviews\"},\"xaxis\":{\"anchor\":\"y\",\"categoryorder\":\"total descending\",\"domain\":[0.0,1.0],\"title\":{\"text\":\"Author\"}},\"yaxis\":{\"anchor\":\"x\",\"domain\":[0.0,1.0],\"title\":{\"text\":\"Reviews\"}}},                        {\"responsive\": true}                    ).then(function(){\n",
       "                            \n",
       "var gd = document.getElementById('01139eaa-40e0-485c-9da5-ce82ff4da8de');\n",
       "var x = new MutationObserver(function (mutations, observer) {{\n",
       "        var display = window.getComputedStyle(gd).display;\n",
       "        if (!display || display === 'none') {{\n",
       "            console.log([gd, 'removed!']);\n",
       "            Plotly.purge(gd);\n",
       "            observer.disconnect();\n",
       "        }}\n",
       "}});\n",
       "\n",
       "// Listen for the removal of the full notebook cells\n",
       "var notebookContainer = gd.closest('#notebook-container');\n",
       "if (notebookContainer) {{\n",
       "    x.observe(notebookContainer, {childList: true});\n",
       "}}\n",
       "\n",
       "// Listen for the clearing of the current output cell\n",
       "var outputEl = gd.closest('.output');\n",
       "if (outputEl) {{\n",
       "    x.observe(outputEl, {childList: true});\n",
       "}}\n",
       "\n",
       "                        })                };                });            </script>        </div>"
      ]
     },
     "metadata": {},
     "output_type": "display_data"
    }
   ],
   "source": [
    "top_25_authors_reviews_grouped=top_25_authors_ratings.groupby('Author')[['User Rating', 'Reviews']].mean().sort_values('Reviews', ascending=False)\n",
    "fig = px.bar(top_25_authors_ratings_grouped, x= top_25_authors_ratings_grouped.index, y='Reviews', title='Top 25 Authors with Reviews')\n",
    "fig.update_layout(xaxis={'categoryorder':'total descending'})\n",
    "fig.show()"
   ]
  },
  {
   "cell_type": "markdown",
   "id": "49e4b74d",
   "metadata": {
    "papermill": {
     "duration": 0.059445,
     "end_time": "2021-07-10T21:54:26.509077",
     "exception": false,
     "start_time": "2021-07-10T21:54:26.449632",
     "status": "completed"
    },
    "tags": []
   },
   "source": [
    "- Thanks for the dataset contibutor for this data. I really enjoyed working on it."
   ]
  },
  {
   "cell_type": "markdown",
   "id": "e67e40a7",
   "metadata": {
    "papermill": {
     "duration": 0.060011,
     "end_time": "2021-07-10T21:54:26.628208",
     "exception": false,
     "start_time": "2021-07-10T21:54:26.568197",
     "status": "completed"
    },
    "tags": []
   },
   "source": [
    "- It was a quite pleasure to share with you this detailed, beginner friendly EDA. Thanks for your time.\n",
    "\n",
    "- All the best "
   ]
  }
 ],
 "metadata": {
  "kernelspec": {
   "display_name": "Python 3",
   "language": "python",
   "name": "python3"
  },
  "language_info": {
   "codemirror_mode": {
    "name": "ipython",
    "version": 3
   },
   "file_extension": ".py",
   "mimetype": "text/x-python",
   "name": "python",
   "nbconvert_exporter": "python",
   "pygments_lexer": "ipython3",
   "version": "3.7.10"
  },
  "papermill": {
   "default_parameters": {},
   "duration": 24.896782,
   "end_time": "2021-07-10T21:54:27.596863",
   "environment_variables": {},
   "exception": null,
   "input_path": "__notebook__.ipynb",
   "output_path": "__notebook__.ipynb",
   "parameters": {},
   "start_time": "2021-07-10T21:54:02.700081",
   "version": "2.3.3"
  }
 },
 "nbformat": 4,
 "nbformat_minor": 5
}
