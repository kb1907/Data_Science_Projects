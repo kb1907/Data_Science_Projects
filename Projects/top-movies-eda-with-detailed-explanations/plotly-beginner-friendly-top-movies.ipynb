{
 "cells": [
  {
   "cell_type": "markdown",
   "id": "e17cf407",
   "metadata": {
    "papermill": {
     "duration": 0.058166,
     "end_time": "2021-07-21T08:12:04.019117",
     "exception": false,
     "start_time": "2021-07-21T08:12:03.960951",
     "status": "completed"
    },
    "tags": []
   },
   "source": [
    "- Recently I got a lot of feedback from my dear friends who just change or about the change their career towards to Data Analysis/ Data Science and Machine Learning areas about the lack of material between beginning the analysis journey and the advanced techniques.\n",
    "\n",
    "- They are looking for detailed but at the same time beginner friendly, not so much complicated (with different regression, normalization techniques, etc.) explained Explanatory Data Analysis examples, which show them how to start and most importantly how to read the descriptive statistics and graphs.\n",
    "\n",
    "- After getting these feedbacks, I have decided to make some kind of series of EDA’s from different datasets, without making so complicated for the people at their first steps of DS/ML journey.\n",
    "\n",
    "### This notebook is part of the 9 Beginner Friendly EDAs. If these EDAs would be helpful to anyone, I would be more than happy.\n",
    "\n"
   ]
  },
  {
   "cell_type": "markdown",
   "id": "515c90cb",
   "metadata": {
    "papermill": {
     "duration": 0.053753,
     "end_time": "2021-07-21T08:12:04.131110",
     "exception": false,
     "start_time": "2021-07-21T08:12:04.077357",
     "status": "completed"
    },
    "tags": []
   },
   "source": [
    "#### **INTRO**\n",
    "\n"
   ]
  },
  {
   "cell_type": "markdown",
   "id": "0763c3fa",
   "metadata": {
    "papermill": {
     "duration": 0.059608,
     "end_time": "2021-07-21T08:12:04.244472",
     "exception": false,
     "start_time": "2021-07-21T08:12:04.184864",
     "status": "completed"
    },
    "tags": []
   },
   "source": [
    "- In this study, we are going to make Exploratory Data Analysis (EDA) with the Hollywood's Most Profitable Movies dataset. \n",
    "- Study aims to be beginner friendly and give as much as possible explanation for each step on the way.\n",
    "- Study's dataset has 74 movies along with their ratings, profitability, worldwide gross and leading studio.\n",
    "- Data includes 2007-2011 movies."
   ]
  },
  {
   "cell_type": "markdown",
   "id": "a28ff2bd",
   "metadata": {
    "papermill": {
     "duration": 0.05492,
     "end_time": "2021-07-21T08:12:04.358667",
     "exception": false,
     "start_time": "2021-07-21T08:12:04.303747",
     "status": "completed"
    },
    "tags": []
   },
   "source": [
    "- First, let's import the required libraries.\n",
    "- We will use Plotly's interactive environment for visualization."
   ]
  },
  {
   "cell_type": "code",
   "execution_count": 1,
   "id": "0a0252cd",
   "metadata": {
    "_kg_hide-input": true,
    "execution": {
     "iopub.execute_input": "2021-07-21T08:12:04.480495Z",
     "iopub.status.busy": "2021-07-21T08:12:04.479431Z",
     "iopub.status.idle": "2021-07-21T08:12:08.095049Z",
     "shell.execute_reply": "2021-07-21T08:12:08.094323Z",
     "shell.execute_reply.started": "2021-07-09T20:49:08.267355Z"
    },
    "papermill": {
     "duration": 3.681965,
     "end_time": "2021-07-21T08:12:08.095218",
     "exception": false,
     "start_time": "2021-07-21T08:12:04.413253",
     "status": "completed"
    },
    "tags": []
   },
   "outputs": [],
   "source": [
    "import pandas as pd\n",
    "import numpy as np\n",
    "\n",
    "import matplotlib.pyplot as plt \n",
    "import seaborn as sns \n",
    "import matplotlib as mpl\n",
    "\n",
    "\n",
    "import plotly \n",
    "import plotly.express as px\n",
    "import plotly.graph_objs as go\n",
    "import plotly.offline as py\n",
    "from plotly.offline import iplot\n",
    "from plotly.subplots import make_subplots\n",
    "import plotly.figure_factory as ff"
   ]
  },
  {
   "cell_type": "markdown",
   "id": "703d6002",
   "metadata": {
    "papermill": {
     "duration": 0.054627,
     "end_time": "2021-07-21T08:12:08.204562",
     "exception": false,
     "start_time": "2021-07-21T08:12:08.149935",
     "status": "completed"
    },
    "tags": []
   },
   "source": [
    "### Overview Stage\n",
    "\n",
    "- Read the csv\n",
    "- Look for basic information about the dataset"
   ]
  },
  {
   "cell_type": "code",
   "execution_count": 2,
   "id": "93a9bd44",
   "metadata": {
    "_kg_hide-input": true,
    "execution": {
     "iopub.execute_input": "2021-07-21T08:12:08.317180Z",
     "iopub.status.busy": "2021-07-21T08:12:08.316463Z",
     "iopub.status.idle": "2021-07-21T08:12:08.333623Z",
     "shell.execute_reply": "2021-07-21T08:12:08.333071Z",
     "shell.execute_reply.started": "2021-07-09T20:49:11.327456Z"
    },
    "papermill": {
     "duration": 0.074556,
     "end_time": "2021-07-21T08:12:08.333798",
     "exception": false,
     "start_time": "2021-07-21T08:12:08.259242",
     "status": "completed"
    },
    "tags": []
   },
   "outputs": [],
   "source": [
    "df= pd.read_csv('../input/hollywood-most-profitable-stories/HollywoodsMostProfitableStories.csv')"
   ]
  },
  {
   "cell_type": "code",
   "execution_count": 3,
   "id": "d1776d96",
   "metadata": {
    "_kg_hide-input": true,
    "execution": {
     "iopub.execute_input": "2021-07-21T08:12:08.455717Z",
     "iopub.status.busy": "2021-07-21T08:12:08.454894Z",
     "iopub.status.idle": "2021-07-21T08:12:08.480004Z",
     "shell.execute_reply": "2021-07-21T08:12:08.480519Z",
     "shell.execute_reply.started": "2021-07-09T20:49:11.346668Z"
    },
    "papermill": {
     "duration": 0.092527,
     "end_time": "2021-07-21T08:12:08.480770",
     "exception": false,
     "start_time": "2021-07-21T08:12:08.388243",
     "status": "completed"
    },
    "tags": []
   },
   "outputs": [
    {
     "data": {
      "text/html": [
       "<div>\n",
       "<style scoped>\n",
       "    .dataframe tbody tr th:only-of-type {\n",
       "        vertical-align: middle;\n",
       "    }\n",
       "\n",
       "    .dataframe tbody tr th {\n",
       "        vertical-align: top;\n",
       "    }\n",
       "\n",
       "    .dataframe thead th {\n",
       "        text-align: right;\n",
       "    }\n",
       "</style>\n",
       "<table border=\"1\" class=\"dataframe\">\n",
       "  <thead>\n",
       "    <tr style=\"text-align: right;\">\n",
       "      <th></th>\n",
       "      <th>Film</th>\n",
       "      <th>Genre</th>\n",
       "      <th>Lead Studio</th>\n",
       "      <th>Audience  score %</th>\n",
       "      <th>Profitability</th>\n",
       "      <th>Rotten Tomatoes %</th>\n",
       "      <th>Worldwide Gross</th>\n",
       "      <th>Year</th>\n",
       "    </tr>\n",
       "  </thead>\n",
       "  <tbody>\n",
       "    <tr>\n",
       "      <th>0</th>\n",
       "      <td>27 Dresses</td>\n",
       "      <td>Comedy</td>\n",
       "      <td>Fox</td>\n",
       "      <td>71.0</td>\n",
       "      <td>5.343622</td>\n",
       "      <td>40.0</td>\n",
       "      <td>160.308654</td>\n",
       "      <td>2008</td>\n",
       "    </tr>\n",
       "    <tr>\n",
       "      <th>1</th>\n",
       "      <td>(500) Days of Summer</td>\n",
       "      <td>Comedy</td>\n",
       "      <td>Fox</td>\n",
       "      <td>81.0</td>\n",
       "      <td>8.096000</td>\n",
       "      <td>87.0</td>\n",
       "      <td>60.720000</td>\n",
       "      <td>2009</td>\n",
       "    </tr>\n",
       "    <tr>\n",
       "      <th>2</th>\n",
       "      <td>A Dangerous Method</td>\n",
       "      <td>Drama</td>\n",
       "      <td>Independent</td>\n",
       "      <td>89.0</td>\n",
       "      <td>0.448645</td>\n",
       "      <td>79.0</td>\n",
       "      <td>8.972895</td>\n",
       "      <td>2011</td>\n",
       "    </tr>\n",
       "    <tr>\n",
       "      <th>3</th>\n",
       "      <td>A Serious Man</td>\n",
       "      <td>Drama</td>\n",
       "      <td>Universal</td>\n",
       "      <td>64.0</td>\n",
       "      <td>4.382857</td>\n",
       "      <td>89.0</td>\n",
       "      <td>30.680000</td>\n",
       "      <td>2009</td>\n",
       "    </tr>\n",
       "    <tr>\n",
       "      <th>4</th>\n",
       "      <td>Across the Universe</td>\n",
       "      <td>Romance</td>\n",
       "      <td>Independent</td>\n",
       "      <td>84.0</td>\n",
       "      <td>0.652603</td>\n",
       "      <td>54.0</td>\n",
       "      <td>29.367143</td>\n",
       "      <td>2007</td>\n",
       "    </tr>\n",
       "  </tbody>\n",
       "</table>\n",
       "</div>"
      ],
      "text/plain": [
       "                   Film    Genre  Lead Studio  Audience  score %  \\\n",
       "0            27 Dresses   Comedy          Fox               71.0   \n",
       "1  (500) Days of Summer   Comedy          Fox               81.0   \n",
       "2    A Dangerous Method    Drama  Independent               89.0   \n",
       "3         A Serious Man    Drama    Universal               64.0   \n",
       "4   Across the Universe  Romance  Independent               84.0   \n",
       "\n",
       "   Profitability  Rotten Tomatoes %  Worldwide Gross  Year  \n",
       "0       5.343622               40.0       160.308654  2008  \n",
       "1       8.096000               87.0        60.720000  2009  \n",
       "2       0.448645               79.0         8.972895  2011  \n",
       "3       4.382857               89.0        30.680000  2009  \n",
       "4       0.652603               54.0        29.367143  2007  "
      ]
     },
     "execution_count": 3,
     "metadata": {},
     "output_type": "execute_result"
    }
   ],
   "source": [
    "df.head()"
   ]
  },
  {
   "cell_type": "code",
   "execution_count": 4,
   "id": "4623dcbd",
   "metadata": {
    "_kg_hide-input": true,
    "execution": {
     "iopub.execute_input": "2021-07-21T08:12:08.599769Z",
     "iopub.status.busy": "2021-07-21T08:12:08.598776Z",
     "iopub.status.idle": "2021-07-21T08:12:08.604795Z",
     "shell.execute_reply": "2021-07-21T08:12:08.605254Z",
     "shell.execute_reply.started": "2021-07-09T20:49:11.374642Z"
    },
    "papermill": {
     "duration": 0.066581,
     "end_time": "2021-07-21T08:12:08.605425",
     "exception": false,
     "start_time": "2021-07-21T08:12:08.538844",
     "status": "completed"
    },
    "tags": []
   },
   "outputs": [
    {
     "data": {
      "text/plain": [
       "(74, 8)"
      ]
     },
     "execution_count": 4,
     "metadata": {},
     "output_type": "execute_result"
    }
   ],
   "source": [
    "df.shape"
   ]
  },
  {
   "cell_type": "markdown",
   "id": "6f0668e2",
   "metadata": {
    "papermill": {
     "duration": 0.054801,
     "end_time": "2021-07-21T08:12:08.719421",
     "exception": false,
     "start_time": "2021-07-21T08:12:08.664620",
     "status": "completed"
    },
    "tags": []
   },
   "source": [
    "- We have 74 films and 8 variables to work on"
   ]
  },
  {
   "cell_type": "code",
   "execution_count": 5,
   "id": "fe550e52",
   "metadata": {
    "_kg_hide-input": true,
    "execution": {
     "iopub.execute_input": "2021-07-21T08:12:08.835859Z",
     "iopub.status.busy": "2021-07-21T08:12:08.835202Z",
     "iopub.status.idle": "2021-07-21T08:12:08.843134Z",
     "shell.execute_reply": "2021-07-21T08:12:08.843619Z",
     "shell.execute_reply.started": "2021-07-09T20:49:11.380513Z"
    },
    "papermill": {
     "duration": 0.069016,
     "end_time": "2021-07-21T08:12:08.843809",
     "exception": false,
     "start_time": "2021-07-21T08:12:08.774793",
     "status": "completed"
    },
    "tags": []
   },
   "outputs": [
    {
     "data": {
      "text/plain": [
       "Film                 0\n",
       "Genre                0\n",
       "Lead Studio          1\n",
       "Audience  score %    1\n",
       "Profitability        3\n",
       "Rotten Tomatoes %    1\n",
       "Worldwide Gross      0\n",
       "Year                 0\n",
       "dtype: int64"
      ]
     },
     "execution_count": 5,
     "metadata": {},
     "output_type": "execute_result"
    }
   ],
   "source": [
    "df.isnull().sum()"
   ]
  },
  {
   "cell_type": "markdown",
   "id": "5a181db5",
   "metadata": {
    "papermill": {
     "duration": 0.055095,
     "end_time": "2021-07-21T08:12:08.954278",
     "exception": false,
     "start_time": "2021-07-21T08:12:08.899183",
     "status": "completed"
    },
    "tags": []
   },
   "source": [
    "- We have several missing values, which we need to look into."
   ]
  },
  {
   "cell_type": "code",
   "execution_count": 6,
   "id": "b73c2e73",
   "metadata": {
    "_kg_hide-input": true,
    "execution": {
     "iopub.execute_input": "2021-07-21T08:12:09.070535Z",
     "iopub.status.busy": "2021-07-21T08:12:09.069899Z",
     "iopub.status.idle": "2021-07-21T08:12:09.092003Z",
     "shell.execute_reply": "2021-07-21T08:12:09.091418Z",
     "shell.execute_reply.started": "2021-07-09T20:49:11.392802Z"
    },
    "papermill": {
     "duration": 0.082035,
     "end_time": "2021-07-21T08:12:09.092143",
     "exception": false,
     "start_time": "2021-07-21T08:12:09.010108",
     "status": "completed"
    },
    "tags": []
   },
   "outputs": [
    {
     "name": "stdout",
     "output_type": "stream",
     "text": [
      "<class 'pandas.core.frame.DataFrame'>\n",
      "RangeIndex: 74 entries, 0 to 73\n",
      "Data columns (total 8 columns):\n",
      " #   Column             Non-Null Count  Dtype  \n",
      "---  ------             --------------  -----  \n",
      " 0   Film               74 non-null     object \n",
      " 1   Genre              74 non-null     object \n",
      " 2   Lead Studio        73 non-null     object \n",
      " 3   Audience  score %  73 non-null     float64\n",
      " 4   Profitability      71 non-null     float64\n",
      " 5   Rotten Tomatoes %  73 non-null     float64\n",
      " 6   Worldwide Gross    74 non-null     float64\n",
      " 7   Year               74 non-null     int64  \n",
      "dtypes: float64(4), int64(1), object(3)\n",
      "memory usage: 4.8+ KB\n"
     ]
    }
   ],
   "source": [
    "df.info()"
   ]
  },
  {
   "cell_type": "markdown",
   "id": "5a504c24",
   "metadata": {
    "papermill": {
     "duration": 0.05582,
     "end_time": "2021-07-21T08:12:09.205068",
     "exception": false,
     "start_time": "2021-07-21T08:12:09.149248",
     "status": "completed"
    },
    "tags": []
   },
   "source": [
    "- As a data type, everything is in order to work on."
   ]
  },
  {
   "cell_type": "code",
   "execution_count": 7,
   "id": "f35e42a3",
   "metadata": {
    "_kg_hide-input": true,
    "execution": {
     "iopub.execute_input": "2021-07-21T08:12:09.320923Z",
     "iopub.status.busy": "2021-07-21T08:12:09.320281Z",
     "iopub.status.idle": "2021-07-21T08:12:09.351585Z",
     "shell.execute_reply": "2021-07-21T08:12:09.352106Z",
     "shell.execute_reply.started": "2021-07-09T20:49:11.412226Z"
    },
    "papermill": {
     "duration": 0.09117,
     "end_time": "2021-07-21T08:12:09.352284",
     "exception": false,
     "start_time": "2021-07-21T08:12:09.261114",
     "status": "completed"
    },
    "tags": []
   },
   "outputs": [
    {
     "data": {
      "text/html": [
       "<div>\n",
       "<style scoped>\n",
       "    .dataframe tbody tr th:only-of-type {\n",
       "        vertical-align: middle;\n",
       "    }\n",
       "\n",
       "    .dataframe tbody tr th {\n",
       "        vertical-align: top;\n",
       "    }\n",
       "\n",
       "    .dataframe thead th {\n",
       "        text-align: right;\n",
       "    }\n",
       "</style>\n",
       "<table border=\"1\" class=\"dataframe\">\n",
       "  <thead>\n",
       "    <tr style=\"text-align: right;\">\n",
       "      <th></th>\n",
       "      <th>Audience  score %</th>\n",
       "      <th>Profitability</th>\n",
       "      <th>Rotten Tomatoes %</th>\n",
       "      <th>Worldwide Gross</th>\n",
       "      <th>Year</th>\n",
       "    </tr>\n",
       "  </thead>\n",
       "  <tbody>\n",
       "    <tr>\n",
       "      <th>count</th>\n",
       "      <td>73.000000</td>\n",
       "      <td>71.000000</td>\n",
       "      <td>73.000000</td>\n",
       "      <td>74.000000</td>\n",
       "      <td>74.000000</td>\n",
       "    </tr>\n",
       "    <tr>\n",
       "      <th>mean</th>\n",
       "      <td>64.136986</td>\n",
       "      <td>4.741610</td>\n",
       "      <td>47.356164</td>\n",
       "      <td>136.351979</td>\n",
       "      <td>2009.054054</td>\n",
       "    </tr>\n",
       "    <tr>\n",
       "      <th>std</th>\n",
       "      <td>13.647665</td>\n",
       "      <td>8.292017</td>\n",
       "      <td>26.242655</td>\n",
       "      <td>157.067561</td>\n",
       "      <td>1.353756</td>\n",
       "    </tr>\n",
       "    <tr>\n",
       "      <th>min</th>\n",
       "      <td>35.000000</td>\n",
       "      <td>0.005000</td>\n",
       "      <td>3.000000</td>\n",
       "      <td>0.025000</td>\n",
       "      <td>2007.000000</td>\n",
       "    </tr>\n",
       "    <tr>\n",
       "      <th>25%</th>\n",
       "      <td>52.000000</td>\n",
       "      <td>1.790680</td>\n",
       "      <td>27.000000</td>\n",
       "      <td>32.447500</td>\n",
       "      <td>2008.000000</td>\n",
       "    </tr>\n",
       "    <tr>\n",
       "      <th>50%</th>\n",
       "      <td>64.000000</td>\n",
       "      <td>2.642353</td>\n",
       "      <td>45.000000</td>\n",
       "      <td>73.198612</td>\n",
       "      <td>2009.000000</td>\n",
       "    </tr>\n",
       "    <tr>\n",
       "      <th>75%</th>\n",
       "      <td>76.000000</td>\n",
       "      <td>4.850958</td>\n",
       "      <td>65.000000</td>\n",
       "      <td>190.185250</td>\n",
       "      <td>2010.000000</td>\n",
       "    </tr>\n",
       "    <tr>\n",
       "      <th>max</th>\n",
       "      <td>89.000000</td>\n",
       "      <td>66.934000</td>\n",
       "      <td>96.000000</td>\n",
       "      <td>709.820000</td>\n",
       "      <td>2011.000000</td>\n",
       "    </tr>\n",
       "  </tbody>\n",
       "</table>\n",
       "</div>"
      ],
      "text/plain": [
       "       Audience  score %  Profitability  Rotten Tomatoes %  Worldwide Gross  \\\n",
       "count          73.000000      71.000000          73.000000        74.000000   \n",
       "mean           64.136986       4.741610          47.356164       136.351979   \n",
       "std            13.647665       8.292017          26.242655       157.067561   \n",
       "min            35.000000       0.005000           3.000000         0.025000   \n",
       "25%            52.000000       1.790680          27.000000        32.447500   \n",
       "50%            64.000000       2.642353          45.000000        73.198612   \n",
       "75%            76.000000       4.850958          65.000000       190.185250   \n",
       "max            89.000000      66.934000          96.000000       709.820000   \n",
       "\n",
       "              Year  \n",
       "count    74.000000  \n",
       "mean   2009.054054  \n",
       "std       1.353756  \n",
       "min    2007.000000  \n",
       "25%    2008.000000  \n",
       "50%    2009.000000  \n",
       "75%    2010.000000  \n",
       "max    2011.000000  "
      ]
     },
     "execution_count": 7,
     "metadata": {},
     "output_type": "execute_result"
    }
   ],
   "source": [
    "df.describe()"
   ]
  },
  {
   "cell_type": "markdown",
   "id": "b5bd8ffc",
   "metadata": {
    "papermill": {
     "duration": 0.056727,
     "end_time": "2021-07-21T08:12:09.465377",
     "exception": false,
     "start_time": "2021-07-21T08:12:09.408650",
     "status": "completed"
    },
    "tags": []
   },
   "source": [
    "Before going further, let's summarize what we have got from the dataset.\n",
    "\n",
    "- Our dataset has 74 films from different genres and lead studios.\n",
    "\n",
    "- Object data type variables, like genre and lead studio can be grouped and see the differences among them.\n",
    "\n",
    "- There are several  missing values to look for it. \n",
    "\n",
    "-  Numerical variables deserves special attention for further analysis.\n"
   ]
  },
  {
   "cell_type": "markdown",
   "id": "8762b491",
   "metadata": {
    "papermill": {
     "duration": 0.057656,
     "end_time": "2021-07-21T08:12:09.579566",
     "exception": false,
     "start_time": "2021-07-21T08:12:09.521910",
     "status": "completed"
    },
    "tags": []
   },
   "source": [
    "- Let's make the necessary adjustments before moving to the analysis part."
   ]
  },
  {
   "cell_type": "markdown",
   "id": "b3e805d8",
   "metadata": {
    "papermill": {
     "duration": 0.056482,
     "end_time": "2021-07-21T08:12:09.693322",
     "exception": false,
     "start_time": "2021-07-21T08:12:09.636840",
     "status": "completed"
    },
    "tags": []
   },
   "source": [
    "#### Missing Values"
   ]
  },
  {
   "cell_type": "markdown",
   "id": "e351bd27",
   "metadata": {
    "papermill": {
     "duration": 0.056955,
     "end_time": "2021-07-21T08:12:09.807105",
     "exception": false,
     "start_time": "2021-07-21T08:12:09.750150",
     "status": "completed"
    },
    "tags": []
   },
   "source": [
    "- Let's remember, which columns have the missing values"
   ]
  },
  {
   "cell_type": "code",
   "execution_count": 8,
   "id": "949cf709",
   "metadata": {
    "_kg_hide-input": true,
    "execution": {
     "iopub.execute_input": "2021-07-21T08:12:09.927649Z",
     "iopub.status.busy": "2021-07-21T08:12:09.926922Z",
     "iopub.status.idle": "2021-07-21T08:12:09.935228Z",
     "shell.execute_reply": "2021-07-21T08:12:09.934673Z",
     "shell.execute_reply.started": "2021-07-09T20:49:11.442029Z"
    },
    "papermill": {
     "duration": 0.068033,
     "end_time": "2021-07-21T08:12:09.935364",
     "exception": false,
     "start_time": "2021-07-21T08:12:09.867331",
     "status": "completed"
    },
    "tags": []
   },
   "outputs": [
    {
     "data": {
      "text/plain": [
       "Film                 0\n",
       "Genre                0\n",
       "Lead Studio          1\n",
       "Audience  score %    1\n",
       "Profitability        3\n",
       "Rotten Tomatoes %    1\n",
       "Worldwide Gross      0\n",
       "Year                 0\n",
       "dtype: int64"
      ]
     },
     "execution_count": 8,
     "metadata": {},
     "output_type": "execute_result"
    }
   ],
   "source": [
    "df.isnull().sum()"
   ]
  },
  {
   "cell_type": "markdown",
   "id": "d6066f0a",
   "metadata": {
    "papermill": {
     "duration": 0.057406,
     "end_time": "2021-07-21T08:12:10.050001",
     "exception": false,
     "start_time": "2021-07-21T08:12:09.992595",
     "status": "completed"
    },
    "tags": []
   },
   "source": [
    "- Since we will use all the films, film column must be without missing values. So we are OK for the film column.\n",
    "- Genre, Worldwide Gross and Year columns do not have any missing values. Hurray!!\n",
    "- Let's see the missing values."
   ]
  },
  {
   "cell_type": "code",
   "execution_count": 9,
   "id": "2351141c",
   "metadata": {
    "_kg_hide-input": true,
    "execution": {
     "iopub.execute_input": "2021-07-21T08:12:10.178348Z",
     "iopub.status.busy": "2021-07-21T08:12:10.177469Z",
     "iopub.status.idle": "2021-07-21T08:12:10.181605Z",
     "shell.execute_reply": "2021-07-21T08:12:10.180998Z",
     "shell.execute_reply.started": "2021-07-09T20:49:11.452698Z"
    },
    "papermill": {
     "duration": 0.0741,
     "end_time": "2021-07-21T08:12:10.181755",
     "exception": false,
     "start_time": "2021-07-21T08:12:10.107655",
     "status": "completed"
    },
    "tags": []
   },
   "outputs": [
    {
     "data": {
      "text/html": [
       "<div>\n",
       "<style scoped>\n",
       "    .dataframe tbody tr th:only-of-type {\n",
       "        vertical-align: middle;\n",
       "    }\n",
       "\n",
       "    .dataframe tbody tr th {\n",
       "        vertical-align: top;\n",
       "    }\n",
       "\n",
       "    .dataframe thead th {\n",
       "        text-align: right;\n",
       "    }\n",
       "</style>\n",
       "<table border=\"1\" class=\"dataframe\">\n",
       "  <thead>\n",
       "    <tr style=\"text-align: right;\">\n",
       "      <th></th>\n",
       "      <th>Film</th>\n",
       "      <th>Genre</th>\n",
       "      <th>Lead Studio</th>\n",
       "      <th>Audience  score %</th>\n",
       "      <th>Profitability</th>\n",
       "      <th>Rotten Tomatoes %</th>\n",
       "      <th>Worldwide Gross</th>\n",
       "      <th>Year</th>\n",
       "    </tr>\n",
       "  </thead>\n",
       "  <tbody>\n",
       "    <tr>\n",
       "      <th>38</th>\n",
       "      <td>No Reservations</td>\n",
       "      <td>Comedy</td>\n",
       "      <td>NaN</td>\n",
       "      <td>64.0</td>\n",
       "      <td>3.30718</td>\n",
       "      <td>39.0</td>\n",
       "      <td>92.60105</td>\n",
       "      <td>2007</td>\n",
       "    </tr>\n",
       "  </tbody>\n",
       "</table>\n",
       "</div>"
      ],
      "text/plain": [
       "               Film   Genre Lead Studio  Audience  score %  Profitability  \\\n",
       "38  No Reservations  Comedy         NaN               64.0        3.30718   \n",
       "\n",
       "    Rotten Tomatoes %  Worldwide Gross  Year  \n",
       "38               39.0         92.60105  2007  "
      ]
     },
     "execution_count": 9,
     "metadata": {},
     "output_type": "execute_result"
    }
   ],
   "source": [
    "df[df['Lead Studio'].isnull()]"
   ]
  },
  {
   "cell_type": "markdown",
   "id": "5a3039fe",
   "metadata": {
    "papermill": {
     "duration": 0.056649,
     "end_time": "2021-07-21T08:12:10.295673",
     "exception": false,
     "start_time": "2021-07-21T08:12:10.239024",
     "status": "completed"
    },
    "tags": []
   },
   "source": [
    "- In addition to domain knowledge and expertise, there are tons of different ways to deal with the missing values.\n",
    "\n",
    "- Most of the time, people tend to use drop function or use fillna function to use that row in their analysis. As I said, it depends on the data, domain knowledge and importance of the variable in our analysis.\n",
    "\n",
    "- For our analysis in this dataset, main variable which we want to work on it, is 'Film'. If we have the name of the film and also values for at least some of the other variables, we can use that row.\n",
    "\n",
    "- Based on aferomentioned points, we can keep this row, it has a lot of usefull information.\n"
   ]
  },
  {
   "cell_type": "code",
   "execution_count": 10,
   "id": "6cf08421",
   "metadata": {
    "_kg_hide-input": true,
    "execution": {
     "iopub.execute_input": "2021-07-21T08:12:10.423847Z",
     "iopub.status.busy": "2021-07-21T08:12:10.422870Z",
     "iopub.status.idle": "2021-07-21T08:12:10.427791Z",
     "shell.execute_reply": "2021-07-21T08:12:10.427276Z",
     "shell.execute_reply.started": "2021-07-09T20:49:11.469667Z"
    },
    "papermill": {
     "duration": 0.075267,
     "end_time": "2021-07-21T08:12:10.427934",
     "exception": false,
     "start_time": "2021-07-21T08:12:10.352667",
     "status": "completed"
    },
    "tags": []
   },
   "outputs": [
    {
     "data": {
      "text/html": [
       "<div>\n",
       "<style scoped>\n",
       "    .dataframe tbody tr th:only-of-type {\n",
       "        vertical-align: middle;\n",
       "    }\n",
       "\n",
       "    .dataframe tbody tr th {\n",
       "        vertical-align: top;\n",
       "    }\n",
       "\n",
       "    .dataframe thead th {\n",
       "        text-align: right;\n",
       "    }\n",
       "</style>\n",
       "<table border=\"1\" class=\"dataframe\">\n",
       "  <thead>\n",
       "    <tr style=\"text-align: right;\">\n",
       "      <th></th>\n",
       "      <th>Film</th>\n",
       "      <th>Genre</th>\n",
       "      <th>Lead Studio</th>\n",
       "      <th>Audience  score %</th>\n",
       "      <th>Profitability</th>\n",
       "      <th>Rotten Tomatoes %</th>\n",
       "      <th>Worldwide Gross</th>\n",
       "      <th>Year</th>\n",
       "    </tr>\n",
       "  </thead>\n",
       "  <tbody>\n",
       "    <tr>\n",
       "      <th>50</th>\n",
       "      <td>Something Borrowed</td>\n",
       "      <td>Romance</td>\n",
       "      <td>Independent</td>\n",
       "      <td>NaN</td>\n",
       "      <td>1.719514</td>\n",
       "      <td>NaN</td>\n",
       "      <td>60.183</td>\n",
       "      <td>2011</td>\n",
       "    </tr>\n",
       "  </tbody>\n",
       "</table>\n",
       "</div>"
      ],
      "text/plain": [
       "                  Film    Genre  Lead Studio  Audience  score %  \\\n",
       "50  Something Borrowed  Romance  Independent                NaN   \n",
       "\n",
       "    Profitability  Rotten Tomatoes %  Worldwide Gross  Year  \n",
       "50       1.719514                NaN           60.183  2011  "
      ]
     },
     "execution_count": 10,
     "metadata": {},
     "output_type": "execute_result"
    }
   ],
   "source": [
    "df[df['Audience  score %'].isnull()]"
   ]
  },
  {
   "cell_type": "markdown",
   "id": "b37ed6d9",
   "metadata": {
    "papermill": {
     "duration": 0.056975,
     "end_time": "2021-07-21T08:12:10.544723",
     "exception": false,
     "start_time": "2021-07-21T08:12:10.487748",
     "status": "completed"
    },
    "tags": []
   },
   "source": [
    "- Audience score and Rotten Tomates scores are good variables to use for rating purposes. \n",
    "- But in this row we don't have any of them.\n",
    "- But still we have values for other columns, so we can keep this row."
   ]
  },
  {
   "cell_type": "code",
   "execution_count": 11,
   "id": "490f2163",
   "metadata": {
    "_kg_hide-input": true,
    "execution": {
     "iopub.execute_input": "2021-07-21T08:12:10.663191Z",
     "iopub.status.busy": "2021-07-21T08:12:10.662544Z",
     "iopub.status.idle": "2021-07-21T08:12:10.679043Z",
     "shell.execute_reply": "2021-07-21T08:12:10.678414Z",
     "shell.execute_reply.started": "2021-07-09T20:49:11.48755Z"
    },
    "papermill": {
     "duration": 0.077155,
     "end_time": "2021-07-21T08:12:10.679185",
     "exception": false,
     "start_time": "2021-07-21T08:12:10.602030",
     "status": "completed"
    },
    "tags": []
   },
   "outputs": [
    {
     "data": {
      "text/html": [
       "<div>\n",
       "<style scoped>\n",
       "    .dataframe tbody tr th:only-of-type {\n",
       "        vertical-align: middle;\n",
       "    }\n",
       "\n",
       "    .dataframe tbody tr th {\n",
       "        vertical-align: top;\n",
       "    }\n",
       "\n",
       "    .dataframe thead th {\n",
       "        text-align: right;\n",
       "    }\n",
       "</style>\n",
       "<table border=\"1\" class=\"dataframe\">\n",
       "  <thead>\n",
       "    <tr style=\"text-align: right;\">\n",
       "      <th></th>\n",
       "      <th>Film</th>\n",
       "      <th>Genre</th>\n",
       "      <th>Lead Studio</th>\n",
       "      <th>Audience  score %</th>\n",
       "      <th>Profitability</th>\n",
       "      <th>Rotten Tomatoes %</th>\n",
       "      <th>Worldwide Gross</th>\n",
       "      <th>Year</th>\n",
       "    </tr>\n",
       "  </thead>\n",
       "  <tbody>\n",
       "    <tr>\n",
       "      <th>18</th>\n",
       "      <td>Jane Eyre</td>\n",
       "      <td>Romance</td>\n",
       "      <td>Universal</td>\n",
       "      <td>77.0</td>\n",
       "      <td>NaN</td>\n",
       "      <td>85.0</td>\n",
       "      <td>30.147</td>\n",
       "      <td>2011</td>\n",
       "    </tr>\n",
       "    <tr>\n",
       "      <th>41</th>\n",
       "      <td>Our Family Wedding</td>\n",
       "      <td>Comedy</td>\n",
       "      <td>Independent</td>\n",
       "      <td>49.0</td>\n",
       "      <td>NaN</td>\n",
       "      <td>14.0</td>\n",
       "      <td>21.370</td>\n",
       "      <td>2010</td>\n",
       "    </tr>\n",
       "    <tr>\n",
       "      <th>70</th>\n",
       "      <td>When in Rome</td>\n",
       "      <td>Comedy</td>\n",
       "      <td>Disney</td>\n",
       "      <td>44.0</td>\n",
       "      <td>NaN</td>\n",
       "      <td>15.0</td>\n",
       "      <td>43.040</td>\n",
       "      <td>2010</td>\n",
       "    </tr>\n",
       "  </tbody>\n",
       "</table>\n",
       "</div>"
      ],
      "text/plain": [
       "                  Film    Genre  Lead Studio  Audience  score %  \\\n",
       "18           Jane Eyre  Romance    Universal               77.0   \n",
       "41  Our Family Wedding   Comedy  Independent               49.0   \n",
       "70        When in Rome   Comedy       Disney               44.0   \n",
       "\n",
       "    Profitability  Rotten Tomatoes %  Worldwide Gross  Year  \n",
       "18            NaN               85.0           30.147  2011  \n",
       "41            NaN               14.0           21.370  2010  \n",
       "70            NaN               15.0           43.040  2010  "
      ]
     },
     "execution_count": 11,
     "metadata": {},
     "output_type": "execute_result"
    }
   ],
   "source": [
    "df[df['Profitability'].isnull()]"
   ]
  },
  {
   "cell_type": "markdown",
   "id": "c5afcc73",
   "metadata": {
    "papermill": {
     "duration": 0.057275,
     "end_time": "2021-07-21T08:12:10.794636",
     "exception": false,
     "start_time": "2021-07-21T08:12:10.737361",
     "status": "completed"
    },
    "tags": []
   },
   "source": [
    "- Profitability has 3 missing values.\n",
    "- Even though we don't have profitability values in these rows, we have values for other columns.\n",
    "- So better to keep them."
   ]
  },
  {
   "cell_type": "markdown",
   "id": "f9b0d16a",
   "metadata": {
    "papermill": {
     "duration": 0.059793,
     "end_time": "2021-07-21T08:12:10.912739",
     "exception": false,
     "start_time": "2021-07-21T08:12:10.852946",
     "status": "completed"
    },
    "tags": []
   },
   "source": [
    "#### Look at the 'Genre' and 'Lead Studio'"
   ]
  },
  {
   "cell_type": "code",
   "execution_count": 12,
   "id": "3eed88cb",
   "metadata": {
    "_kg_hide-input": true,
    "execution": {
     "iopub.execute_input": "2021-07-21T08:12:11.036912Z",
     "iopub.status.busy": "2021-07-21T08:12:11.035825Z",
     "iopub.status.idle": "2021-07-21T08:12:11.039583Z",
     "shell.execute_reply": "2021-07-21T08:12:11.040149Z",
     "shell.execute_reply.started": "2021-07-09T20:49:11.508443Z"
    },
    "papermill": {
     "duration": 0.069422,
     "end_time": "2021-07-21T08:12:11.040323",
     "exception": false,
     "start_time": "2021-07-21T08:12:10.970901",
     "status": "completed"
    },
    "tags": []
   },
   "outputs": [
    {
     "data": {
      "text/plain": [
       "Comedy       41\n",
       "Romance      15\n",
       "Drama        13\n",
       "Animation     3\n",
       "Action        1\n",
       "Fantasy       1\n",
       "Name: Genre, dtype: int64"
      ]
     },
     "execution_count": 12,
     "metadata": {},
     "output_type": "execute_result"
    }
   ],
   "source": [
    "df['Genre'].value_counts()"
   ]
  },
  {
   "cell_type": "markdown",
   "id": "c4d68a4a",
   "metadata": {
    "papermill": {
     "duration": 0.058862,
     "end_time": "2021-07-21T08:12:11.158537",
     "exception": false,
     "start_time": "2021-07-21T08:12:11.099675",
     "status": "completed"
    },
    "tags": []
   },
   "source": [
    "- Seems quite OK to use in the groupby.\n",
    "- Noted"
   ]
  },
  {
   "cell_type": "code",
   "execution_count": 13,
   "id": "3d5d9b7e",
   "metadata": {
    "_kg_hide-input": true,
    "execution": {
     "iopub.execute_input": "2021-07-21T08:12:11.278582Z",
     "iopub.status.busy": "2021-07-21T08:12:11.277635Z",
     "iopub.status.idle": "2021-07-21T08:12:11.286146Z",
     "shell.execute_reply": "2021-07-21T08:12:11.285605Z",
     "shell.execute_reply.started": "2021-07-09T20:49:11.521383Z"
    },
    "papermill": {
     "duration": 0.069497,
     "end_time": "2021-07-21T08:12:11.286291",
     "exception": false,
     "start_time": "2021-07-21T08:12:11.216794",
     "status": "completed"
    },
    "tags": []
   },
   "outputs": [
    {
     "data": {
      "text/plain": [
       "Independent              19\n",
       "Warner Bros.             12\n",
       "Universal                 7\n",
       "Disney                    7\n",
       "Fox                       6\n",
       "Summit                    5\n",
       "Sony                      4\n",
       "Paramount                 4\n",
       "The Weinstein Company     3\n",
       "20th Century Fox          2\n",
       "Lionsgate                 2\n",
       "CBS                       1\n",
       "New Line                  1\n",
       "Name: Lead Studio, dtype: int64"
      ]
     },
     "execution_count": 13,
     "metadata": {},
     "output_type": "execute_result"
    }
   ],
   "source": [
    "df['Lead Studio'].value_counts()"
   ]
  },
  {
   "cell_type": "markdown",
   "id": "bd34555a",
   "metadata": {
    "papermill": {
     "duration": 0.058144,
     "end_time": "2021-07-21T08:12:11.403252",
     "exception": false,
     "start_time": "2021-07-21T08:12:11.345108",
     "status": "completed"
    },
    "tags": []
   },
   "source": [
    "- It can be used.\n",
    "- OK it is not in a perfect shape to use in group by, but not bad at all to use. \n",
    "- Noted."
   ]
  },
  {
   "cell_type": "markdown",
   "id": "c9f90ba1",
   "metadata": {
    "papermill": {
     "duration": 0.058087,
     "end_time": "2021-07-21T08:12:11.520209",
     "exception": false,
     "start_time": "2021-07-21T08:12:11.462122",
     "status": "completed"
    },
    "tags": []
   },
   "source": [
    "- Everything seems OK.  Let's move on to the next step: **analysis part**."
   ]
  },
  {
   "cell_type": "markdown",
   "id": "d9d2caae",
   "metadata": {
    "papermill": {
     "duration": 0.058136,
     "end_time": "2021-07-21T08:12:11.636867",
     "exception": false,
     "start_time": "2021-07-21T08:12:11.578731",
     "status": "completed"
    },
    "tags": []
   },
   "source": [
    "### Analysis Part"
   ]
  },
  {
   "cell_type": "markdown",
   "id": "7b531625",
   "metadata": {
    "papermill": {
     "duration": 0.057981,
     "end_time": "2021-07-21T08:12:11.754517",
     "exception": false,
     "start_time": "2021-07-21T08:12:11.696536",
     "status": "completed"
    },
    "tags": []
   },
   "source": [
    "#### Genre"
   ]
  },
  {
   "cell_type": "code",
   "execution_count": 14,
   "id": "159be9ee",
   "metadata": {
    "_kg_hide-input": true,
    "execution": {
     "iopub.execute_input": "2021-07-21T08:12:11.877788Z",
     "iopub.status.busy": "2021-07-21T08:12:11.877112Z",
     "iopub.status.idle": "2021-07-21T08:12:11.900584Z",
     "shell.execute_reply": "2021-07-21T08:12:11.900014Z",
     "shell.execute_reply.started": "2021-07-09T20:49:11.535813Z"
    },
    "papermill": {
     "duration": 0.087816,
     "end_time": "2021-07-21T08:12:11.900740",
     "exception": false,
     "start_time": "2021-07-21T08:12:11.812924",
     "status": "completed"
    },
    "tags": []
   },
   "outputs": [
    {
     "data": {
      "text/plain": [
       "Comedy       0.554054\n",
       "Romance      0.202703\n",
       "Drama        0.175676\n",
       "Animation    0.040541\n",
       "Action       0.013514\n",
       "Fantasy      0.013514\n",
       "Name: Genre, dtype: float64"
      ]
     },
     "execution_count": 14,
     "metadata": {},
     "output_type": "execute_result"
    }
   ],
   "source": [
    "df['Genre'].value_counts(normalize=True)"
   ]
  },
  {
   "cell_type": "markdown",
   "id": "cd3b44a3",
   "metadata": {
    "papermill": {
     "duration": 0.060709,
     "end_time": "2021-07-21T08:12:12.022539",
     "exception": false,
     "start_time": "2021-07-21T08:12:11.961830",
     "status": "completed"
    },
    "tags": []
   },
   "source": [
    "- 55% of the movies are in the Comedy genre\n",
    "- Romance and Drama follows it "
   ]
  },
  {
   "cell_type": "code",
   "execution_count": 15,
   "id": "97b7a702",
   "metadata": {
    "_kg_hide-input": true,
    "execution": {
     "iopub.execute_input": "2021-07-21T08:12:12.150071Z",
     "iopub.status.busy": "2021-07-21T08:12:12.149337Z",
     "iopub.status.idle": "2021-07-21T08:12:13.259284Z",
     "shell.execute_reply": "2021-07-21T08:12:13.258775Z",
     "shell.execute_reply.started": "2021-07-09T20:49:11.560897Z"
    },
    "papermill": {
     "duration": 1.175886,
     "end_time": "2021-07-21T08:12:13.259426",
     "exception": false,
     "start_time": "2021-07-21T08:12:12.083540",
     "status": "completed"
    },
    "tags": []
   },
   "outputs": [
    {
     "data": {
      "text/html": [
       "        <script type=\"text/javascript\">\n",
       "        window.PlotlyConfig = {MathJaxConfig: 'local'};\n",
       "        if (window.MathJax) {MathJax.Hub.Config({SVG: {font: \"STIX-Web\"}});}\n",
       "        if (typeof require !== 'undefined') {\n",
       "        require.undef(\"plotly\");\n",
       "        requirejs.config({\n",
       "            paths: {\n",
       "                'plotly': ['https://cdn.plot.ly/plotly-2.2.0.min']\n",
       "            }\n",
       "        });\n",
       "        require(['plotly'], function(Plotly) {\n",
       "            window._Plotly = Plotly;\n",
       "        });\n",
       "        }\n",
       "        </script>\n",
       "        "
      ]
     },
     "metadata": {},
     "output_type": "display_data"
    },
    {
     "data": {
      "text/html": [
       "<div>                            <div id=\"058fceaa-9d17-4aab-8b65-e06cd34016f0\" class=\"plotly-graph-div\" style=\"height:525px; width:100%;\"></div>            <script type=\"text/javascript\">                require([\"plotly\"], function(Plotly) {                    window.PLOTLYENV=window.PLOTLYENV || {};                                    if (document.getElementById(\"058fceaa-9d17-4aab-8b65-e06cd34016f0\")) {                    Plotly.newPlot(                        \"058fceaa-9d17-4aab-8b65-e06cd34016f0\",                        [{\"alignmentgroup\":\"True\",\"bingroup\":\"x\",\"hovertemplate\":\"Genre=%{x}<br>count=%{y}<extra></extra>\",\"legendgroup\":\"\",\"marker\":{\"color\":\"#636efa\",\"pattern\":{\"shape\":\"\"}},\"name\":\"\",\"offsetgroup\":\"\",\"orientation\":\"v\",\"showlegend\":false,\"type\":\"histogram\",\"x\":[\"Comedy\",\"Comedy\",\"Drama\",\"Drama\",\"Romance\",\"Comedy\",\"Drama\",\"Comedy\",\"Drama\",\"Comedy\",\"Comedy\",\"Animation\",\"Comedy\",\"Comedy\",\"Comedy\",\"Comedy\",\"Comedy\",\"Comedy\",\"Romance\",\"Comedy\",\"Action\",\"Comedy\",\"Comedy\",\"Comedy\",\"Comedy\",\"Comedy\",\"Comedy\",\"Drama\",\"Comedy\",\"Comedy\",\"Comedy\",\"Romance\",\"Comedy\",\"Romance\",\"Romance\",\"Drama\",\"Romance\",\"Comedy\",\"Comedy\",\"Drama\",\"Romance\",\"Comedy\",\"Comedy\",\"Romance\",\"Comedy\",\"Drama\",\"Drama\",\"Comedy\",\"Comedy\",\"Comedy\",\"Romance\",\"Animation\",\"Comedy\",\"Fantasy\",\"Drama\",\"Comedy\",\"Comedy\",\"Comedy\",\"Drama\",\"Drama\",\"Comedy\",\"Romance\",\"Romance\",\"Romance\",\"Comedy\",\"Romance\",\"Romance\",\"Animation\",\"Drama\",\"Comedy\",\"Comedy\",\"Comedy\",\"Comedy\",\"Romance\"],\"xaxis\":\"x\",\"yaxis\":\"y\"}],                        {\"barmode\":\"relative\",\"legend\":{\"tracegroupgap\":0},\"template\":{\"data\":{\"bar\":[{\"error_x\":{\"color\":\"#2a3f5f\"},\"error_y\":{\"color\":\"#2a3f5f\"},\"marker\":{\"line\":{\"color\":\"#E5ECF6\",\"width\":0.5},\"pattern\":{\"fillmode\":\"overlay\",\"size\":10,\"solidity\":0.2}},\"type\":\"bar\"}],\"barpolar\":[{\"marker\":{\"line\":{\"color\":\"#E5ECF6\",\"width\":0.5},\"pattern\":{\"fillmode\":\"overlay\",\"size\":10,\"solidity\":0.2}},\"type\":\"barpolar\"}],\"carpet\":[{\"aaxis\":{\"endlinecolor\":\"#2a3f5f\",\"gridcolor\":\"white\",\"linecolor\":\"white\",\"minorgridcolor\":\"white\",\"startlinecolor\":\"#2a3f5f\"},\"baxis\":{\"endlinecolor\":\"#2a3f5f\",\"gridcolor\":\"white\",\"linecolor\":\"white\",\"minorgridcolor\":\"white\",\"startlinecolor\":\"#2a3f5f\"},\"type\":\"carpet\"}],\"choropleth\":[{\"colorbar\":{\"outlinewidth\":0,\"ticks\":\"\"},\"type\":\"choropleth\"}],\"contour\":[{\"colorbar\":{\"outlinewidth\":0,\"ticks\":\"\"},\"colorscale\":[[0.0,\"#0d0887\"],[0.1111111111111111,\"#46039f\"],[0.2222222222222222,\"#7201a8\"],[0.3333333333333333,\"#9c179e\"],[0.4444444444444444,\"#bd3786\"],[0.5555555555555556,\"#d8576b\"],[0.6666666666666666,\"#ed7953\"],[0.7777777777777778,\"#fb9f3a\"],[0.8888888888888888,\"#fdca26\"],[1.0,\"#f0f921\"]],\"type\":\"contour\"}],\"contourcarpet\":[{\"colorbar\":{\"outlinewidth\":0,\"ticks\":\"\"},\"type\":\"contourcarpet\"}],\"heatmap\":[{\"colorbar\":{\"outlinewidth\":0,\"ticks\":\"\"},\"colorscale\":[[0.0,\"#0d0887\"],[0.1111111111111111,\"#46039f\"],[0.2222222222222222,\"#7201a8\"],[0.3333333333333333,\"#9c179e\"],[0.4444444444444444,\"#bd3786\"],[0.5555555555555556,\"#d8576b\"],[0.6666666666666666,\"#ed7953\"],[0.7777777777777778,\"#fb9f3a\"],[0.8888888888888888,\"#fdca26\"],[1.0,\"#f0f921\"]],\"type\":\"heatmap\"}],\"heatmapgl\":[{\"colorbar\":{\"outlinewidth\":0,\"ticks\":\"\"},\"colorscale\":[[0.0,\"#0d0887\"],[0.1111111111111111,\"#46039f\"],[0.2222222222222222,\"#7201a8\"],[0.3333333333333333,\"#9c179e\"],[0.4444444444444444,\"#bd3786\"],[0.5555555555555556,\"#d8576b\"],[0.6666666666666666,\"#ed7953\"],[0.7777777777777778,\"#fb9f3a\"],[0.8888888888888888,\"#fdca26\"],[1.0,\"#f0f921\"]],\"type\":\"heatmapgl\"}],\"histogram\":[{\"marker\":{\"pattern\":{\"fillmode\":\"overlay\",\"size\":10,\"solidity\":0.2}},\"type\":\"histogram\"}],\"histogram2d\":[{\"colorbar\":{\"outlinewidth\":0,\"ticks\":\"\"},\"colorscale\":[[0.0,\"#0d0887\"],[0.1111111111111111,\"#46039f\"],[0.2222222222222222,\"#7201a8\"],[0.3333333333333333,\"#9c179e\"],[0.4444444444444444,\"#bd3786\"],[0.5555555555555556,\"#d8576b\"],[0.6666666666666666,\"#ed7953\"],[0.7777777777777778,\"#fb9f3a\"],[0.8888888888888888,\"#fdca26\"],[1.0,\"#f0f921\"]],\"type\":\"histogram2d\"}],\"histogram2dcontour\":[{\"colorbar\":{\"outlinewidth\":0,\"ticks\":\"\"},\"colorscale\":[[0.0,\"#0d0887\"],[0.1111111111111111,\"#46039f\"],[0.2222222222222222,\"#7201a8\"],[0.3333333333333333,\"#9c179e\"],[0.4444444444444444,\"#bd3786\"],[0.5555555555555556,\"#d8576b\"],[0.6666666666666666,\"#ed7953\"],[0.7777777777777778,\"#fb9f3a\"],[0.8888888888888888,\"#fdca26\"],[1.0,\"#f0f921\"]],\"type\":\"histogram2dcontour\"}],\"mesh3d\":[{\"colorbar\":{\"outlinewidth\":0,\"ticks\":\"\"},\"type\":\"mesh3d\"}],\"parcoords\":[{\"line\":{\"colorbar\":{\"outlinewidth\":0,\"ticks\":\"\"}},\"type\":\"parcoords\"}],\"pie\":[{\"automargin\":true,\"type\":\"pie\"}],\"scatter\":[{\"marker\":{\"colorbar\":{\"outlinewidth\":0,\"ticks\":\"\"}},\"type\":\"scatter\"}],\"scatter3d\":[{\"line\":{\"colorbar\":{\"outlinewidth\":0,\"ticks\":\"\"}},\"marker\":{\"colorbar\":{\"outlinewidth\":0,\"ticks\":\"\"}},\"type\":\"scatter3d\"}],\"scattercarpet\":[{\"marker\":{\"colorbar\":{\"outlinewidth\":0,\"ticks\":\"\"}},\"type\":\"scattercarpet\"}],\"scattergeo\":[{\"marker\":{\"colorbar\":{\"outlinewidth\":0,\"ticks\":\"\"}},\"type\":\"scattergeo\"}],\"scattergl\":[{\"marker\":{\"colorbar\":{\"outlinewidth\":0,\"ticks\":\"\"}},\"type\":\"scattergl\"}],\"scattermapbox\":[{\"marker\":{\"colorbar\":{\"outlinewidth\":0,\"ticks\":\"\"}},\"type\":\"scattermapbox\"}],\"scatterpolar\":[{\"marker\":{\"colorbar\":{\"outlinewidth\":0,\"ticks\":\"\"}},\"type\":\"scatterpolar\"}],\"scatterpolargl\":[{\"marker\":{\"colorbar\":{\"outlinewidth\":0,\"ticks\":\"\"}},\"type\":\"scatterpolargl\"}],\"scatterternary\":[{\"marker\":{\"colorbar\":{\"outlinewidth\":0,\"ticks\":\"\"}},\"type\":\"scatterternary\"}],\"surface\":[{\"colorbar\":{\"outlinewidth\":0,\"ticks\":\"\"},\"colorscale\":[[0.0,\"#0d0887\"],[0.1111111111111111,\"#46039f\"],[0.2222222222222222,\"#7201a8\"],[0.3333333333333333,\"#9c179e\"],[0.4444444444444444,\"#bd3786\"],[0.5555555555555556,\"#d8576b\"],[0.6666666666666666,\"#ed7953\"],[0.7777777777777778,\"#fb9f3a\"],[0.8888888888888888,\"#fdca26\"],[1.0,\"#f0f921\"]],\"type\":\"surface\"}],\"table\":[{\"cells\":{\"fill\":{\"color\":\"#EBF0F8\"},\"line\":{\"color\":\"white\"}},\"header\":{\"fill\":{\"color\":\"#C8D4E3\"},\"line\":{\"color\":\"white\"}},\"type\":\"table\"}]},\"layout\":{\"annotationdefaults\":{\"arrowcolor\":\"#2a3f5f\",\"arrowhead\":0,\"arrowwidth\":1},\"autotypenumbers\":\"strict\",\"coloraxis\":{\"colorbar\":{\"outlinewidth\":0,\"ticks\":\"\"}},\"colorscale\":{\"diverging\":[[0,\"#8e0152\"],[0.1,\"#c51b7d\"],[0.2,\"#de77ae\"],[0.3,\"#f1b6da\"],[0.4,\"#fde0ef\"],[0.5,\"#f7f7f7\"],[0.6,\"#e6f5d0\"],[0.7,\"#b8e186\"],[0.8,\"#7fbc41\"],[0.9,\"#4d9221\"],[1,\"#276419\"]],\"sequential\":[[0.0,\"#0d0887\"],[0.1111111111111111,\"#46039f\"],[0.2222222222222222,\"#7201a8\"],[0.3333333333333333,\"#9c179e\"],[0.4444444444444444,\"#bd3786\"],[0.5555555555555556,\"#d8576b\"],[0.6666666666666666,\"#ed7953\"],[0.7777777777777778,\"#fb9f3a\"],[0.8888888888888888,\"#fdca26\"],[1.0,\"#f0f921\"]],\"sequentialminus\":[[0.0,\"#0d0887\"],[0.1111111111111111,\"#46039f\"],[0.2222222222222222,\"#7201a8\"],[0.3333333333333333,\"#9c179e\"],[0.4444444444444444,\"#bd3786\"],[0.5555555555555556,\"#d8576b\"],[0.6666666666666666,\"#ed7953\"],[0.7777777777777778,\"#fb9f3a\"],[0.8888888888888888,\"#fdca26\"],[1.0,\"#f0f921\"]]},\"colorway\":[\"#636efa\",\"#EF553B\",\"#00cc96\",\"#ab63fa\",\"#FFA15A\",\"#19d3f3\",\"#FF6692\",\"#B6E880\",\"#FF97FF\",\"#FECB52\"],\"font\":{\"color\":\"#2a3f5f\"},\"geo\":{\"bgcolor\":\"white\",\"lakecolor\":\"white\",\"landcolor\":\"#E5ECF6\",\"showlakes\":true,\"showland\":true,\"subunitcolor\":\"white\"},\"hoverlabel\":{\"align\":\"left\"},\"hovermode\":\"closest\",\"mapbox\":{\"style\":\"light\"},\"paper_bgcolor\":\"white\",\"plot_bgcolor\":\"#E5ECF6\",\"polar\":{\"angularaxis\":{\"gridcolor\":\"white\",\"linecolor\":\"white\",\"ticks\":\"\"},\"bgcolor\":\"#E5ECF6\",\"radialaxis\":{\"gridcolor\":\"white\",\"linecolor\":\"white\",\"ticks\":\"\"}},\"scene\":{\"xaxis\":{\"backgroundcolor\":\"#E5ECF6\",\"gridcolor\":\"white\",\"gridwidth\":2,\"linecolor\":\"white\",\"showbackground\":true,\"ticks\":\"\",\"zerolinecolor\":\"white\"},\"yaxis\":{\"backgroundcolor\":\"#E5ECF6\",\"gridcolor\":\"white\",\"gridwidth\":2,\"linecolor\":\"white\",\"showbackground\":true,\"ticks\":\"\",\"zerolinecolor\":\"white\"},\"zaxis\":{\"backgroundcolor\":\"#E5ECF6\",\"gridcolor\":\"white\",\"gridwidth\":2,\"linecolor\":\"white\",\"showbackground\":true,\"ticks\":\"\",\"zerolinecolor\":\"white\"}},\"shapedefaults\":{\"line\":{\"color\":\"#2a3f5f\"}},\"ternary\":{\"aaxis\":{\"gridcolor\":\"white\",\"linecolor\":\"white\",\"ticks\":\"\"},\"baxis\":{\"gridcolor\":\"white\",\"linecolor\":\"white\",\"ticks\":\"\"},\"bgcolor\":\"#E5ECF6\",\"caxis\":{\"gridcolor\":\"white\",\"linecolor\":\"white\",\"ticks\":\"\"}},\"title\":{\"x\":0.05},\"xaxis\":{\"automargin\":true,\"gridcolor\":\"white\",\"linecolor\":\"white\",\"ticks\":\"\",\"title\":{\"standoff\":15},\"zerolinecolor\":\"white\",\"zerolinewidth\":2},\"yaxis\":{\"automargin\":true,\"gridcolor\":\"white\",\"linecolor\":\"white\",\"ticks\":\"\",\"title\":{\"standoff\":15},\"zerolinecolor\":\"white\",\"zerolinewidth\":2}}},\"title\":{\"text\":\"Genre\"},\"xaxis\":{\"anchor\":\"y\",\"categoryorder\":\"total descending\",\"domain\":[0.0,1.0],\"title\":{\"text\":\"Genre\"}},\"yaxis\":{\"anchor\":\"x\",\"domain\":[0.0,1.0],\"title\":{\"text\":\"count\"}}},                        {\"responsive\": true}                    ).then(function(){\n",
       "                            \n",
       "var gd = document.getElementById('058fceaa-9d17-4aab-8b65-e06cd34016f0');\n",
       "var x = new MutationObserver(function (mutations, observer) {{\n",
       "        var display = window.getComputedStyle(gd).display;\n",
       "        if (!display || display === 'none') {{\n",
       "            console.log([gd, 'removed!']);\n",
       "            Plotly.purge(gd);\n",
       "            observer.disconnect();\n",
       "        }}\n",
       "}});\n",
       "\n",
       "// Listen for the removal of the full notebook cells\n",
       "var notebookContainer = gd.closest('#notebook-container');\n",
       "if (notebookContainer) {{\n",
       "    x.observe(notebookContainer, {childList: true});\n",
       "}}\n",
       "\n",
       "// Listen for the clearing of the current output cell\n",
       "var outputEl = gd.closest('.output');\n",
       "if (outputEl) {{\n",
       "    x.observe(outputEl, {childList: true});\n",
       "}}\n",
       "\n",
       "                        })                };                });            </script>        </div>"
      ]
     },
     "metadata": {},
     "output_type": "display_data"
    }
   ],
   "source": [
    "fig = px.histogram(df, x=\"Genre\", title='Genre')\n",
    "fig.update_layout(xaxis={'categoryorder':'total descending'})\n",
    "fig.show()"
   ]
  },
  {
   "cell_type": "markdown",
   "id": "b76d5452",
   "metadata": {
    "papermill": {
     "duration": 0.05972,
     "end_time": "2021-07-21T08:12:13.379768",
     "exception": false,
     "start_time": "2021-07-21T08:12:13.320048",
     "status": "completed"
    },
    "tags": []
   },
   "source": [
    "#### Lead Studio"
   ]
  },
  {
   "cell_type": "code",
   "execution_count": 16,
   "id": "8a23b29e",
   "metadata": {
    "_kg_hide-input": true,
    "execution": {
     "iopub.execute_input": "2021-07-21T08:12:13.511948Z",
     "iopub.status.busy": "2021-07-21T08:12:13.511188Z",
     "iopub.status.idle": "2021-07-21T08:12:13.515701Z",
     "shell.execute_reply": "2021-07-21T08:12:13.515066Z",
     "shell.execute_reply.started": "2021-07-09T20:49:12.421517Z"
    },
    "papermill": {
     "duration": 0.075923,
     "end_time": "2021-07-21T08:12:13.515847",
     "exception": false,
     "start_time": "2021-07-21T08:12:13.439924",
     "status": "completed"
    },
    "tags": []
   },
   "outputs": [
    {
     "data": {
      "text/plain": [
       "Independent              0.260274\n",
       "Warner Bros.             0.164384\n",
       "Universal                0.095890\n",
       "Disney                   0.095890\n",
       "Fox                      0.082192\n",
       "Summit                   0.068493\n",
       "Sony                     0.054795\n",
       "Paramount                0.054795\n",
       "The Weinstein Company    0.041096\n",
       "20th Century Fox         0.027397\n",
       "Lionsgate                0.027397\n",
       "CBS                      0.013699\n",
       "New Line                 0.013699\n",
       "Name: Lead Studio, dtype: float64"
      ]
     },
     "execution_count": 16,
     "metadata": {},
     "output_type": "execute_result"
    }
   ],
   "source": [
    "df['Lead Studio'].value_counts(normalize=True)"
   ]
  },
  {
   "cell_type": "markdown",
   "id": "13c179bd",
   "metadata": {
    "papermill": {
     "duration": 0.061992,
     "end_time": "2021-07-21T08:12:13.639551",
     "exception": false,
     "start_time": "2021-07-21T08:12:13.577559",
     "status": "completed"
    },
    "tags": []
   },
   "source": [
    "- Independent studios make 26% of the all the studios in this dataset.\n",
    "- Warner Bros also comes close by 16% "
   ]
  },
  {
   "cell_type": "code",
   "execution_count": 17,
   "id": "1d6c1c8f",
   "metadata": {
    "_kg_hide-input": true,
    "execution": {
     "iopub.execute_input": "2021-07-21T08:12:13.784148Z",
     "iopub.status.busy": "2021-07-21T08:12:13.779420Z",
     "iopub.status.idle": "2021-07-21T08:12:13.838543Z",
     "shell.execute_reply": "2021-07-21T08:12:13.837930Z",
     "shell.execute_reply.started": "2021-07-09T20:49:12.431797Z"
    },
    "papermill": {
     "duration": 0.132776,
     "end_time": "2021-07-21T08:12:13.838680",
     "exception": false,
     "start_time": "2021-07-21T08:12:13.705904",
     "status": "completed"
    },
    "tags": []
   },
   "outputs": [
    {
     "data": {
      "text/html": [
       "<div>                            <div id=\"dd75306b-8f9a-489e-98e1-10e967e436b7\" class=\"plotly-graph-div\" style=\"height:525px; width:100%;\"></div>            <script type=\"text/javascript\">                require([\"plotly\"], function(Plotly) {                    window.PLOTLYENV=window.PLOTLYENV || {};                                    if (document.getElementById(\"dd75306b-8f9a-489e-98e1-10e967e436b7\")) {                    Plotly.newPlot(                        \"dd75306b-8f9a-489e-98e1-10e967e436b7\",                        [{\"alignmentgroup\":\"True\",\"bingroup\":\"x\",\"hovertemplate\":\"Lead Studio=%{x}<br>count=%{y}<extra></extra>\",\"legendgroup\":\"\",\"marker\":{\"color\":\"#636efa\",\"pattern\":{\"shape\":\"\"}},\"name\":\"\",\"offsetgroup\":\"\",\"orientation\":\"v\",\"showlegend\":false,\"type\":\"histogram\",\"x\":[\"Fox\",\"Fox\",\"Independent\",\"Universal\",\"Independent\",\"Independent\",\"Sony\",\"Disney\",\"Independent\",\"Warner Bros.\",\"Warner Bros.\",\"Disney\",\"Warner Bros.\",\"Lionsgate\",\"Warner Bros.\",\"Disney\",\"Independent\",\"Universal\",\"Universal\",\"Fox\",\"Lionsgate\",\"Universal\",\"Universal\",\"Summit\",\"Warner Bros.\",\"Independent\",\"Fox\",\"Universal\",\"Sony\",\"Universal\",\"Fox\",\"Sony\",\"Independent\",\"20th Century Fox\",\"Warner Bros.\",\"The Weinstein Company\",\"Warner Bros.\",\"Sony\",null,\"Independent\",\"Independent\",\"Independent\",\"New Line\",\"Independent\",\"Summit\",\"Independent\",\"Summit\",\"Warner Bros.\",\"Warner Bros.\",\"Paramount\",\"Independent\",\"Disney\",\"CBS\",\"Warner Bros.\",\"Paramount\",\"Paramount\",\"Warner Bros.\",\"Disney\",\"Paramount\",\"Summit\",\"Independent\",\"Summit\",\"Independent\",\"Independent\",\"Warner Bros.\",\"Independent\",\"Independent\",\"Disney\",\"20th Century Fox\",\"Fox\",\"Disney\",\"Independent\",\"The Weinstein Company\",\"The Weinstein Company\"],\"xaxis\":\"x\",\"yaxis\":\"y\"}],                        {\"barmode\":\"relative\",\"legend\":{\"tracegroupgap\":0},\"template\":{\"data\":{\"bar\":[{\"error_x\":{\"color\":\"#2a3f5f\"},\"error_y\":{\"color\":\"#2a3f5f\"},\"marker\":{\"line\":{\"color\":\"#E5ECF6\",\"width\":0.5},\"pattern\":{\"fillmode\":\"overlay\",\"size\":10,\"solidity\":0.2}},\"type\":\"bar\"}],\"barpolar\":[{\"marker\":{\"line\":{\"color\":\"#E5ECF6\",\"width\":0.5},\"pattern\":{\"fillmode\":\"overlay\",\"size\":10,\"solidity\":0.2}},\"type\":\"barpolar\"}],\"carpet\":[{\"aaxis\":{\"endlinecolor\":\"#2a3f5f\",\"gridcolor\":\"white\",\"linecolor\":\"white\",\"minorgridcolor\":\"white\",\"startlinecolor\":\"#2a3f5f\"},\"baxis\":{\"endlinecolor\":\"#2a3f5f\",\"gridcolor\":\"white\",\"linecolor\":\"white\",\"minorgridcolor\":\"white\",\"startlinecolor\":\"#2a3f5f\"},\"type\":\"carpet\"}],\"choropleth\":[{\"colorbar\":{\"outlinewidth\":0,\"ticks\":\"\"},\"type\":\"choropleth\"}],\"contour\":[{\"colorbar\":{\"outlinewidth\":0,\"ticks\":\"\"},\"colorscale\":[[0.0,\"#0d0887\"],[0.1111111111111111,\"#46039f\"],[0.2222222222222222,\"#7201a8\"],[0.3333333333333333,\"#9c179e\"],[0.4444444444444444,\"#bd3786\"],[0.5555555555555556,\"#d8576b\"],[0.6666666666666666,\"#ed7953\"],[0.7777777777777778,\"#fb9f3a\"],[0.8888888888888888,\"#fdca26\"],[1.0,\"#f0f921\"]],\"type\":\"contour\"}],\"contourcarpet\":[{\"colorbar\":{\"outlinewidth\":0,\"ticks\":\"\"},\"type\":\"contourcarpet\"}],\"heatmap\":[{\"colorbar\":{\"outlinewidth\":0,\"ticks\":\"\"},\"colorscale\":[[0.0,\"#0d0887\"],[0.1111111111111111,\"#46039f\"],[0.2222222222222222,\"#7201a8\"],[0.3333333333333333,\"#9c179e\"],[0.4444444444444444,\"#bd3786\"],[0.5555555555555556,\"#d8576b\"],[0.6666666666666666,\"#ed7953\"],[0.7777777777777778,\"#fb9f3a\"],[0.8888888888888888,\"#fdca26\"],[1.0,\"#f0f921\"]],\"type\":\"heatmap\"}],\"heatmapgl\":[{\"colorbar\":{\"outlinewidth\":0,\"ticks\":\"\"},\"colorscale\":[[0.0,\"#0d0887\"],[0.1111111111111111,\"#46039f\"],[0.2222222222222222,\"#7201a8\"],[0.3333333333333333,\"#9c179e\"],[0.4444444444444444,\"#bd3786\"],[0.5555555555555556,\"#d8576b\"],[0.6666666666666666,\"#ed7953\"],[0.7777777777777778,\"#fb9f3a\"],[0.8888888888888888,\"#fdca26\"],[1.0,\"#f0f921\"]],\"type\":\"heatmapgl\"}],\"histogram\":[{\"marker\":{\"pattern\":{\"fillmode\":\"overlay\",\"size\":10,\"solidity\":0.2}},\"type\":\"histogram\"}],\"histogram2d\":[{\"colorbar\":{\"outlinewidth\":0,\"ticks\":\"\"},\"colorscale\":[[0.0,\"#0d0887\"],[0.1111111111111111,\"#46039f\"],[0.2222222222222222,\"#7201a8\"],[0.3333333333333333,\"#9c179e\"],[0.4444444444444444,\"#bd3786\"],[0.5555555555555556,\"#d8576b\"],[0.6666666666666666,\"#ed7953\"],[0.7777777777777778,\"#fb9f3a\"],[0.8888888888888888,\"#fdca26\"],[1.0,\"#f0f921\"]],\"type\":\"histogram2d\"}],\"histogram2dcontour\":[{\"colorbar\":{\"outlinewidth\":0,\"ticks\":\"\"},\"colorscale\":[[0.0,\"#0d0887\"],[0.1111111111111111,\"#46039f\"],[0.2222222222222222,\"#7201a8\"],[0.3333333333333333,\"#9c179e\"],[0.4444444444444444,\"#bd3786\"],[0.5555555555555556,\"#d8576b\"],[0.6666666666666666,\"#ed7953\"],[0.7777777777777778,\"#fb9f3a\"],[0.8888888888888888,\"#fdca26\"],[1.0,\"#f0f921\"]],\"type\":\"histogram2dcontour\"}],\"mesh3d\":[{\"colorbar\":{\"outlinewidth\":0,\"ticks\":\"\"},\"type\":\"mesh3d\"}],\"parcoords\":[{\"line\":{\"colorbar\":{\"outlinewidth\":0,\"ticks\":\"\"}},\"type\":\"parcoords\"}],\"pie\":[{\"automargin\":true,\"type\":\"pie\"}],\"scatter\":[{\"marker\":{\"colorbar\":{\"outlinewidth\":0,\"ticks\":\"\"}},\"type\":\"scatter\"}],\"scatter3d\":[{\"line\":{\"colorbar\":{\"outlinewidth\":0,\"ticks\":\"\"}},\"marker\":{\"colorbar\":{\"outlinewidth\":0,\"ticks\":\"\"}},\"type\":\"scatter3d\"}],\"scattercarpet\":[{\"marker\":{\"colorbar\":{\"outlinewidth\":0,\"ticks\":\"\"}},\"type\":\"scattercarpet\"}],\"scattergeo\":[{\"marker\":{\"colorbar\":{\"outlinewidth\":0,\"ticks\":\"\"}},\"type\":\"scattergeo\"}],\"scattergl\":[{\"marker\":{\"colorbar\":{\"outlinewidth\":0,\"ticks\":\"\"}},\"type\":\"scattergl\"}],\"scattermapbox\":[{\"marker\":{\"colorbar\":{\"outlinewidth\":0,\"ticks\":\"\"}},\"type\":\"scattermapbox\"}],\"scatterpolar\":[{\"marker\":{\"colorbar\":{\"outlinewidth\":0,\"ticks\":\"\"}},\"type\":\"scatterpolar\"}],\"scatterpolargl\":[{\"marker\":{\"colorbar\":{\"outlinewidth\":0,\"ticks\":\"\"}},\"type\":\"scatterpolargl\"}],\"scatterternary\":[{\"marker\":{\"colorbar\":{\"outlinewidth\":0,\"ticks\":\"\"}},\"type\":\"scatterternary\"}],\"surface\":[{\"colorbar\":{\"outlinewidth\":0,\"ticks\":\"\"},\"colorscale\":[[0.0,\"#0d0887\"],[0.1111111111111111,\"#46039f\"],[0.2222222222222222,\"#7201a8\"],[0.3333333333333333,\"#9c179e\"],[0.4444444444444444,\"#bd3786\"],[0.5555555555555556,\"#d8576b\"],[0.6666666666666666,\"#ed7953\"],[0.7777777777777778,\"#fb9f3a\"],[0.8888888888888888,\"#fdca26\"],[1.0,\"#f0f921\"]],\"type\":\"surface\"}],\"table\":[{\"cells\":{\"fill\":{\"color\":\"#EBF0F8\"},\"line\":{\"color\":\"white\"}},\"header\":{\"fill\":{\"color\":\"#C8D4E3\"},\"line\":{\"color\":\"white\"}},\"type\":\"table\"}]},\"layout\":{\"annotationdefaults\":{\"arrowcolor\":\"#2a3f5f\",\"arrowhead\":0,\"arrowwidth\":1},\"autotypenumbers\":\"strict\",\"coloraxis\":{\"colorbar\":{\"outlinewidth\":0,\"ticks\":\"\"}},\"colorscale\":{\"diverging\":[[0,\"#8e0152\"],[0.1,\"#c51b7d\"],[0.2,\"#de77ae\"],[0.3,\"#f1b6da\"],[0.4,\"#fde0ef\"],[0.5,\"#f7f7f7\"],[0.6,\"#e6f5d0\"],[0.7,\"#b8e186\"],[0.8,\"#7fbc41\"],[0.9,\"#4d9221\"],[1,\"#276419\"]],\"sequential\":[[0.0,\"#0d0887\"],[0.1111111111111111,\"#46039f\"],[0.2222222222222222,\"#7201a8\"],[0.3333333333333333,\"#9c179e\"],[0.4444444444444444,\"#bd3786\"],[0.5555555555555556,\"#d8576b\"],[0.6666666666666666,\"#ed7953\"],[0.7777777777777778,\"#fb9f3a\"],[0.8888888888888888,\"#fdca26\"],[1.0,\"#f0f921\"]],\"sequentialminus\":[[0.0,\"#0d0887\"],[0.1111111111111111,\"#46039f\"],[0.2222222222222222,\"#7201a8\"],[0.3333333333333333,\"#9c179e\"],[0.4444444444444444,\"#bd3786\"],[0.5555555555555556,\"#d8576b\"],[0.6666666666666666,\"#ed7953\"],[0.7777777777777778,\"#fb9f3a\"],[0.8888888888888888,\"#fdca26\"],[1.0,\"#f0f921\"]]},\"colorway\":[\"#636efa\",\"#EF553B\",\"#00cc96\",\"#ab63fa\",\"#FFA15A\",\"#19d3f3\",\"#FF6692\",\"#B6E880\",\"#FF97FF\",\"#FECB52\"],\"font\":{\"color\":\"#2a3f5f\"},\"geo\":{\"bgcolor\":\"white\",\"lakecolor\":\"white\",\"landcolor\":\"#E5ECF6\",\"showlakes\":true,\"showland\":true,\"subunitcolor\":\"white\"},\"hoverlabel\":{\"align\":\"left\"},\"hovermode\":\"closest\",\"mapbox\":{\"style\":\"light\"},\"paper_bgcolor\":\"white\",\"plot_bgcolor\":\"#E5ECF6\",\"polar\":{\"angularaxis\":{\"gridcolor\":\"white\",\"linecolor\":\"white\",\"ticks\":\"\"},\"bgcolor\":\"#E5ECF6\",\"radialaxis\":{\"gridcolor\":\"white\",\"linecolor\":\"white\",\"ticks\":\"\"}},\"scene\":{\"xaxis\":{\"backgroundcolor\":\"#E5ECF6\",\"gridcolor\":\"white\",\"gridwidth\":2,\"linecolor\":\"white\",\"showbackground\":true,\"ticks\":\"\",\"zerolinecolor\":\"white\"},\"yaxis\":{\"backgroundcolor\":\"#E5ECF6\",\"gridcolor\":\"white\",\"gridwidth\":2,\"linecolor\":\"white\",\"showbackground\":true,\"ticks\":\"\",\"zerolinecolor\":\"white\"},\"zaxis\":{\"backgroundcolor\":\"#E5ECF6\",\"gridcolor\":\"white\",\"gridwidth\":2,\"linecolor\":\"white\",\"showbackground\":true,\"ticks\":\"\",\"zerolinecolor\":\"white\"}},\"shapedefaults\":{\"line\":{\"color\":\"#2a3f5f\"}},\"ternary\":{\"aaxis\":{\"gridcolor\":\"white\",\"linecolor\":\"white\",\"ticks\":\"\"},\"baxis\":{\"gridcolor\":\"white\",\"linecolor\":\"white\",\"ticks\":\"\"},\"bgcolor\":\"#E5ECF6\",\"caxis\":{\"gridcolor\":\"white\",\"linecolor\":\"white\",\"ticks\":\"\"}},\"title\":{\"x\":0.05},\"xaxis\":{\"automargin\":true,\"gridcolor\":\"white\",\"linecolor\":\"white\",\"ticks\":\"\",\"title\":{\"standoff\":15},\"zerolinecolor\":\"white\",\"zerolinewidth\":2},\"yaxis\":{\"automargin\":true,\"gridcolor\":\"white\",\"linecolor\":\"white\",\"ticks\":\"\",\"title\":{\"standoff\":15},\"zerolinecolor\":\"white\",\"zerolinewidth\":2}}},\"title\":{\"text\":\"Lead Studios\"},\"xaxis\":{\"anchor\":\"y\",\"categoryorder\":\"total descending\",\"domain\":[0.0,1.0],\"title\":{\"text\":\"Lead Studio\"}},\"yaxis\":{\"anchor\":\"x\",\"domain\":[0.0,1.0],\"title\":{\"text\":\"count\"}}},                        {\"responsive\": true}                    ).then(function(){\n",
       "                            \n",
       "var gd = document.getElementById('dd75306b-8f9a-489e-98e1-10e967e436b7');\n",
       "var x = new MutationObserver(function (mutations, observer) {{\n",
       "        var display = window.getComputedStyle(gd).display;\n",
       "        if (!display || display === 'none') {{\n",
       "            console.log([gd, 'removed!']);\n",
       "            Plotly.purge(gd);\n",
       "            observer.disconnect();\n",
       "        }}\n",
       "}});\n",
       "\n",
       "// Listen for the removal of the full notebook cells\n",
       "var notebookContainer = gd.closest('#notebook-container');\n",
       "if (notebookContainer) {{\n",
       "    x.observe(notebookContainer, {childList: true});\n",
       "}}\n",
       "\n",
       "// Listen for the clearing of the current output cell\n",
       "var outputEl = gd.closest('.output');\n",
       "if (outputEl) {{\n",
       "    x.observe(outputEl, {childList: true});\n",
       "}}\n",
       "\n",
       "                        })                };                });            </script>        </div>"
      ]
     },
     "metadata": {},
     "output_type": "display_data"
    }
   ],
   "source": [
    "fig = px.histogram(df, x=\"Lead Studio\", title='Lead Studios')\n",
    "fig.update_layout(xaxis={'categoryorder':'total descending'})\n",
    "fig.show()"
   ]
  },
  {
   "cell_type": "markdown",
   "id": "3a74cce9",
   "metadata": {
    "papermill": {
     "duration": 0.064238,
     "end_time": "2021-07-21T08:12:13.967380",
     "exception": false,
     "start_time": "2021-07-21T08:12:13.903142",
     "status": "completed"
    },
    "tags": []
   },
   "source": [
    "### Audience Score %"
   ]
  },
  {
   "cell_type": "code",
   "execution_count": 18,
   "id": "c57c9d55",
   "metadata": {
    "_kg_hide-input": true,
    "execution": {
     "iopub.execute_input": "2021-07-21T08:12:14.100043Z",
     "iopub.status.busy": "2021-07-21T08:12:14.098904Z",
     "iopub.status.idle": "2021-07-21T08:12:14.107118Z",
     "shell.execute_reply": "2021-07-21T08:12:14.107599Z",
     "shell.execute_reply.started": "2021-07-09T20:49:12.498225Z"
    },
    "papermill": {
     "duration": 0.077206,
     "end_time": "2021-07-21T08:12:14.107790",
     "exception": false,
     "start_time": "2021-07-21T08:12:14.030584",
     "status": "completed"
    },
    "tags": []
   },
   "outputs": [
    {
     "data": {
      "text/plain": [
       "count    73.000000\n",
       "mean     64.136986\n",
       "std      13.647665\n",
       "min      35.000000\n",
       "25%      52.000000\n",
       "50%      64.000000\n",
       "75%      76.000000\n",
       "max      89.000000\n",
       "Name: Audience  score %, dtype: float64"
      ]
     },
     "execution_count": 18,
     "metadata": {},
     "output_type": "execute_result"
    }
   ],
   "source": [
    "df['Audience  score %'].describe()"
   ]
  },
  {
   "cell_type": "markdown",
   "id": "cf064327",
   "metadata": {
    "papermill": {
     "duration": 0.061215,
     "end_time": "2021-07-21T08:12:14.231045",
     "exception": false,
     "start_time": "2021-07-21T08:12:14.169830",
     "status": "completed"
    },
    "tags": []
   },
   "source": [
    "- Based on the mean and median values, auidence score seems quite normally distributed.\n",
    "- Both mean and median value is 64."
   ]
  },
  {
   "cell_type": "code",
   "execution_count": 19,
   "id": "270ced10",
   "metadata": {
    "_kg_hide-input": true,
    "execution": {
     "iopub.execute_input": "2021-07-21T08:12:14.363034Z",
     "iopub.status.busy": "2021-07-21T08:12:14.362334Z",
     "iopub.status.idle": "2021-07-21T08:12:14.486831Z",
     "shell.execute_reply": "2021-07-21T08:12:14.486267Z",
     "shell.execute_reply.started": "2021-07-09T20:49:12.509477Z"
    },
    "papermill": {
     "duration": 0.194415,
     "end_time": "2021-07-21T08:12:14.487025",
     "exception": false,
     "start_time": "2021-07-21T08:12:14.292610",
     "status": "completed"
    },
    "tags": []
   },
   "outputs": [
    {
     "data": {
      "text/html": [
       "<div>                            <div id=\"df3bccb5-36ad-453c-846b-79cd5eb13a1b\" class=\"plotly-graph-div\" style=\"height:525px; width:100%;\"></div>            <script type=\"text/javascript\">                require([\"plotly\"], function(Plotly) {                    window.PLOTLYENV=window.PLOTLYENV || {};                                    if (document.getElementById(\"df3bccb5-36ad-453c-846b-79cd5eb13a1b\")) {                    Plotly.newPlot(                        \"df3bccb5-36ad-453c-846b-79cd5eb13a1b\",                        [{\"alignmentgroup\":\"True\",\"bingroup\":\"x\",\"hovertemplate\":\"Audience  score %=%{x}<br>count=%{y}<extra></extra>\",\"legendgroup\":\"\",\"marker\":{\"color\":\"#636efa\",\"pattern\":{\"shape\":\"\"}},\"name\":\"\",\"offsetgroup\":\"\",\"orientation\":\"v\",\"showlegend\":false,\"type\":\"histogram\",\"x\":[71.0,81.0,89.0,64.0,84.0,80.0,66.0,80.0,51.0,52.0,47.0,52.0,56.0,61.0,60.0,76.0,57.0,63.0,77.0,58.0,45.0,83.0,49.0,62.0,55.0,62.0,55.0,40.0,61.0,76.0,77.0,84.0,70.0,50.0,70.0,84.0,48.0,67.0,64.0,66.0,54.0,49.0,47.0,82.0,74.0,61.0,70.0,81.0,49.0,60.0,null,88.0,47.0,81.0,68.0,41.0,47.0,74.0,65.0,78.0,68.0,82.0,68.0,47.0,54.0,53.0,67.0,89.0,72.0,72.0,44.0,35.0,52.0,70.0],\"xaxis\":\"x\",\"yaxis\":\"y\"},{\"alignmentgroup\":\"True\",\"customdata\":[[\"27 Dresses\",\"Comedy\"],[\"(500) Days of Summer\",\"Comedy\"],[\"A Dangerous Method\",\"Drama\"],[\"A Serious Man\",\"Drama\"],[\"Across the Universe\",\"Romance\"],[\"Beginners\",\"Comedy\"],[\"Dear John\",\"Drama\"],[\"Enchanted\",\"Comedy\"],[\"Fireproof\",\"Drama\"],[\"Four Christmases\",\"Comedy\"],[\"Ghosts of Girlfriends Past\",\"Comedy\"],[\"Gnomeo and Juliet\",\"Animation\"],[\"Going the Distance\",\"Comedy\"],[\"Good Luck Chuck\",\"Comedy\"],[\"He's Just Not That Into You\",\"Comedy\"],[\"High School Musical 3: Senior Year\",\"Comedy\"],[\"I Love You Phillip Morris\",\"Comedy\"],[\"It's Complicated\",\"Comedy\"],[\"Jane Eyre\",\"Romance\"],[\"Just Wright\",\"Comedy\"],[\"Killers\",\"Action\"],[\"Knocked Up\",\"Comedy\"],[\"Leap Year\",\"Comedy\"],[\"Letters to Juliet\",\"Comedy\"],[\"License to Wed\",\"Comedy\"],[\"Life as We Know It\",\"Comedy\"],[\"Love & Other Drugs\",\"Comedy\"],[\"Love Happens\",\"Drama\"],[\"Made of Honor\",\"Comedy\"],[\"Mamma Mia!\",\"Comedy\"],[\"Marley and Me\",\"Comedy\"],[\"Midnight in Paris\",\"Romance\"],[\"Miss Pettigrew Lives for a Day\",\"Comedy\"],[\"Monte Carlo\",\"Romance\"],[\"Music and Lyrics\",\"Romance\"],[\"My Week with Marilyn\",\"Drama\"],[\"New Year's Eve\",\"Romance\"],[\"Nick and Norah's Infinite Playlist\",\"Comedy\"],[\"No Reservations\",\"Comedy\"],[\"Not Easily Broken\",\"Drama\"],[\"One Day\",\"Romance\"],[\"Our Family Wedding\",\"Comedy\"],[\"Over Her Dead Body\",\"Comedy\"],[\"P.S. I Love You\",\"Romance\"],[\"Penelope\",\"Comedy\"],[\"Rachel Getting Married\",\"Drama\"],[\"Remember Me\",\"Drama\"],[\"Sex and the City\",\"Comedy\"],[\"Sex and the City 2\",\"Comedy\"],[\"She's Out of My League\",\"Comedy\"],[\"Something Borrowed\",\"Romance\"],[\"Tangled\",\"Animation\"],[\"The Back-up Plan\",\"Comedy\"],[\"The Curious Case of Benjamin Button\",\"Fantasy\"],[\"The Duchess\",\"Drama\"],[\"The Heartbreak Kid\",\"Comedy\"],[\"The Invention of Lying\",\"Comedy\"],[\"The Proposal\",\"Comedy\"],[\"The Time Traveler's Wife\",\"Drama\"],[\"The Twilight Saga: New Moon\",\"Drama\"],[\"The Ugly Truth\",\"Comedy\"],[\"Twilight\",\"Romance\"],[\"Twilight: Breaking Dawn\",\"Romance\"],[\"Tyler Perry's Why Did I get Married\",\"Romance\"],[\"Valentine's Day\",\"Comedy\"],[\"Waiting For Forever\",\"Romance\"],[\"Waitress\",\"Romance\"],[\"WALL-E\",\"Animation\"],[\"Water For Elephants\",\"Drama\"],[\"What Happens in Vegas\",\"Comedy\"],[\"When in Rome\",\"Comedy\"],[\"You Will Meet a Tall Dark Stranger\",\"Comedy\"],[\"Youth in Revolt\",\"Comedy\"],[\"Zack and Miri Make a Porno\",\"Romance\"]],\"hovertemplate\":\"Audience  score %=%{x}<br>Film=%{customdata[0]}<br>Genre=%{customdata[1]}<extra></extra>\",\"legendgroup\":\"\",\"marker\":{\"color\":\"#636efa\"},\"name\":\"\",\"notched\":true,\"offsetgroup\":\"\",\"showlegend\":false,\"type\":\"box\",\"x\":[71.0,81.0,89.0,64.0,84.0,80.0,66.0,80.0,51.0,52.0,47.0,52.0,56.0,61.0,60.0,76.0,57.0,63.0,77.0,58.0,45.0,83.0,49.0,62.0,55.0,62.0,55.0,40.0,61.0,76.0,77.0,84.0,70.0,50.0,70.0,84.0,48.0,67.0,64.0,66.0,54.0,49.0,47.0,82.0,74.0,61.0,70.0,81.0,49.0,60.0,null,88.0,47.0,81.0,68.0,41.0,47.0,74.0,65.0,78.0,68.0,82.0,68.0,47.0,54.0,53.0,67.0,89.0,72.0,72.0,44.0,35.0,52.0,70.0],\"xaxis\":\"x2\",\"yaxis\":\"y2\"}],                        {\"barmode\":\"relative\",\"legend\":{\"tracegroupgap\":0},\"template\":{\"data\":{\"bar\":[{\"error_x\":{\"color\":\"#2a3f5f\"},\"error_y\":{\"color\":\"#2a3f5f\"},\"marker\":{\"line\":{\"color\":\"#E5ECF6\",\"width\":0.5},\"pattern\":{\"fillmode\":\"overlay\",\"size\":10,\"solidity\":0.2}},\"type\":\"bar\"}],\"barpolar\":[{\"marker\":{\"line\":{\"color\":\"#E5ECF6\",\"width\":0.5},\"pattern\":{\"fillmode\":\"overlay\",\"size\":10,\"solidity\":0.2}},\"type\":\"barpolar\"}],\"carpet\":[{\"aaxis\":{\"endlinecolor\":\"#2a3f5f\",\"gridcolor\":\"white\",\"linecolor\":\"white\",\"minorgridcolor\":\"white\",\"startlinecolor\":\"#2a3f5f\"},\"baxis\":{\"endlinecolor\":\"#2a3f5f\",\"gridcolor\":\"white\",\"linecolor\":\"white\",\"minorgridcolor\":\"white\",\"startlinecolor\":\"#2a3f5f\"},\"type\":\"carpet\"}],\"choropleth\":[{\"colorbar\":{\"outlinewidth\":0,\"ticks\":\"\"},\"type\":\"choropleth\"}],\"contour\":[{\"colorbar\":{\"outlinewidth\":0,\"ticks\":\"\"},\"colorscale\":[[0.0,\"#0d0887\"],[0.1111111111111111,\"#46039f\"],[0.2222222222222222,\"#7201a8\"],[0.3333333333333333,\"#9c179e\"],[0.4444444444444444,\"#bd3786\"],[0.5555555555555556,\"#d8576b\"],[0.6666666666666666,\"#ed7953\"],[0.7777777777777778,\"#fb9f3a\"],[0.8888888888888888,\"#fdca26\"],[1.0,\"#f0f921\"]],\"type\":\"contour\"}],\"contourcarpet\":[{\"colorbar\":{\"outlinewidth\":0,\"ticks\":\"\"},\"type\":\"contourcarpet\"}],\"heatmap\":[{\"colorbar\":{\"outlinewidth\":0,\"ticks\":\"\"},\"colorscale\":[[0.0,\"#0d0887\"],[0.1111111111111111,\"#46039f\"],[0.2222222222222222,\"#7201a8\"],[0.3333333333333333,\"#9c179e\"],[0.4444444444444444,\"#bd3786\"],[0.5555555555555556,\"#d8576b\"],[0.6666666666666666,\"#ed7953\"],[0.7777777777777778,\"#fb9f3a\"],[0.8888888888888888,\"#fdca26\"],[1.0,\"#f0f921\"]],\"type\":\"heatmap\"}],\"heatmapgl\":[{\"colorbar\":{\"outlinewidth\":0,\"ticks\":\"\"},\"colorscale\":[[0.0,\"#0d0887\"],[0.1111111111111111,\"#46039f\"],[0.2222222222222222,\"#7201a8\"],[0.3333333333333333,\"#9c179e\"],[0.4444444444444444,\"#bd3786\"],[0.5555555555555556,\"#d8576b\"],[0.6666666666666666,\"#ed7953\"],[0.7777777777777778,\"#fb9f3a\"],[0.8888888888888888,\"#fdca26\"],[1.0,\"#f0f921\"]],\"type\":\"heatmapgl\"}],\"histogram\":[{\"marker\":{\"pattern\":{\"fillmode\":\"overlay\",\"size\":10,\"solidity\":0.2}},\"type\":\"histogram\"}],\"histogram2d\":[{\"colorbar\":{\"outlinewidth\":0,\"ticks\":\"\"},\"colorscale\":[[0.0,\"#0d0887\"],[0.1111111111111111,\"#46039f\"],[0.2222222222222222,\"#7201a8\"],[0.3333333333333333,\"#9c179e\"],[0.4444444444444444,\"#bd3786\"],[0.5555555555555556,\"#d8576b\"],[0.6666666666666666,\"#ed7953\"],[0.7777777777777778,\"#fb9f3a\"],[0.8888888888888888,\"#fdca26\"],[1.0,\"#f0f921\"]],\"type\":\"histogram2d\"}],\"histogram2dcontour\":[{\"colorbar\":{\"outlinewidth\":0,\"ticks\":\"\"},\"colorscale\":[[0.0,\"#0d0887\"],[0.1111111111111111,\"#46039f\"],[0.2222222222222222,\"#7201a8\"],[0.3333333333333333,\"#9c179e\"],[0.4444444444444444,\"#bd3786\"],[0.5555555555555556,\"#d8576b\"],[0.6666666666666666,\"#ed7953\"],[0.7777777777777778,\"#fb9f3a\"],[0.8888888888888888,\"#fdca26\"],[1.0,\"#f0f921\"]],\"type\":\"histogram2dcontour\"}],\"mesh3d\":[{\"colorbar\":{\"outlinewidth\":0,\"ticks\":\"\"},\"type\":\"mesh3d\"}],\"parcoords\":[{\"line\":{\"colorbar\":{\"outlinewidth\":0,\"ticks\":\"\"}},\"type\":\"parcoords\"}],\"pie\":[{\"automargin\":true,\"type\":\"pie\"}],\"scatter\":[{\"marker\":{\"colorbar\":{\"outlinewidth\":0,\"ticks\":\"\"}},\"type\":\"scatter\"}],\"scatter3d\":[{\"line\":{\"colorbar\":{\"outlinewidth\":0,\"ticks\":\"\"}},\"marker\":{\"colorbar\":{\"outlinewidth\":0,\"ticks\":\"\"}},\"type\":\"scatter3d\"}],\"scattercarpet\":[{\"marker\":{\"colorbar\":{\"outlinewidth\":0,\"ticks\":\"\"}},\"type\":\"scattercarpet\"}],\"scattergeo\":[{\"marker\":{\"colorbar\":{\"outlinewidth\":0,\"ticks\":\"\"}},\"type\":\"scattergeo\"}],\"scattergl\":[{\"marker\":{\"colorbar\":{\"outlinewidth\":0,\"ticks\":\"\"}},\"type\":\"scattergl\"}],\"scattermapbox\":[{\"marker\":{\"colorbar\":{\"outlinewidth\":0,\"ticks\":\"\"}},\"type\":\"scattermapbox\"}],\"scatterpolar\":[{\"marker\":{\"colorbar\":{\"outlinewidth\":0,\"ticks\":\"\"}},\"type\":\"scatterpolar\"}],\"scatterpolargl\":[{\"marker\":{\"colorbar\":{\"outlinewidth\":0,\"ticks\":\"\"}},\"type\":\"scatterpolargl\"}],\"scatterternary\":[{\"marker\":{\"colorbar\":{\"outlinewidth\":0,\"ticks\":\"\"}},\"type\":\"scatterternary\"}],\"surface\":[{\"colorbar\":{\"outlinewidth\":0,\"ticks\":\"\"},\"colorscale\":[[0.0,\"#0d0887\"],[0.1111111111111111,\"#46039f\"],[0.2222222222222222,\"#7201a8\"],[0.3333333333333333,\"#9c179e\"],[0.4444444444444444,\"#bd3786\"],[0.5555555555555556,\"#d8576b\"],[0.6666666666666666,\"#ed7953\"],[0.7777777777777778,\"#fb9f3a\"],[0.8888888888888888,\"#fdca26\"],[1.0,\"#f0f921\"]],\"type\":\"surface\"}],\"table\":[{\"cells\":{\"fill\":{\"color\":\"#EBF0F8\"},\"line\":{\"color\":\"white\"}},\"header\":{\"fill\":{\"color\":\"#C8D4E3\"},\"line\":{\"color\":\"white\"}},\"type\":\"table\"}]},\"layout\":{\"annotationdefaults\":{\"arrowcolor\":\"#2a3f5f\",\"arrowhead\":0,\"arrowwidth\":1},\"autotypenumbers\":\"strict\",\"coloraxis\":{\"colorbar\":{\"outlinewidth\":0,\"ticks\":\"\"}},\"colorscale\":{\"diverging\":[[0,\"#8e0152\"],[0.1,\"#c51b7d\"],[0.2,\"#de77ae\"],[0.3,\"#f1b6da\"],[0.4,\"#fde0ef\"],[0.5,\"#f7f7f7\"],[0.6,\"#e6f5d0\"],[0.7,\"#b8e186\"],[0.8,\"#7fbc41\"],[0.9,\"#4d9221\"],[1,\"#276419\"]],\"sequential\":[[0.0,\"#0d0887\"],[0.1111111111111111,\"#46039f\"],[0.2222222222222222,\"#7201a8\"],[0.3333333333333333,\"#9c179e\"],[0.4444444444444444,\"#bd3786\"],[0.5555555555555556,\"#d8576b\"],[0.6666666666666666,\"#ed7953\"],[0.7777777777777778,\"#fb9f3a\"],[0.8888888888888888,\"#fdca26\"],[1.0,\"#f0f921\"]],\"sequentialminus\":[[0.0,\"#0d0887\"],[0.1111111111111111,\"#46039f\"],[0.2222222222222222,\"#7201a8\"],[0.3333333333333333,\"#9c179e\"],[0.4444444444444444,\"#bd3786\"],[0.5555555555555556,\"#d8576b\"],[0.6666666666666666,\"#ed7953\"],[0.7777777777777778,\"#fb9f3a\"],[0.8888888888888888,\"#fdca26\"],[1.0,\"#f0f921\"]]},\"colorway\":[\"#636efa\",\"#EF553B\",\"#00cc96\",\"#ab63fa\",\"#FFA15A\",\"#19d3f3\",\"#FF6692\",\"#B6E880\",\"#FF97FF\",\"#FECB52\"],\"font\":{\"color\":\"#2a3f5f\"},\"geo\":{\"bgcolor\":\"white\",\"lakecolor\":\"white\",\"landcolor\":\"#E5ECF6\",\"showlakes\":true,\"showland\":true,\"subunitcolor\":\"white\"},\"hoverlabel\":{\"align\":\"left\"},\"hovermode\":\"closest\",\"mapbox\":{\"style\":\"light\"},\"paper_bgcolor\":\"white\",\"plot_bgcolor\":\"#E5ECF6\",\"polar\":{\"angularaxis\":{\"gridcolor\":\"white\",\"linecolor\":\"white\",\"ticks\":\"\"},\"bgcolor\":\"#E5ECF6\",\"radialaxis\":{\"gridcolor\":\"white\",\"linecolor\":\"white\",\"ticks\":\"\"}},\"scene\":{\"xaxis\":{\"backgroundcolor\":\"#E5ECF6\",\"gridcolor\":\"white\",\"gridwidth\":2,\"linecolor\":\"white\",\"showbackground\":true,\"ticks\":\"\",\"zerolinecolor\":\"white\"},\"yaxis\":{\"backgroundcolor\":\"#E5ECF6\",\"gridcolor\":\"white\",\"gridwidth\":2,\"linecolor\":\"white\",\"showbackground\":true,\"ticks\":\"\",\"zerolinecolor\":\"white\"},\"zaxis\":{\"backgroundcolor\":\"#E5ECF6\",\"gridcolor\":\"white\",\"gridwidth\":2,\"linecolor\":\"white\",\"showbackground\":true,\"ticks\":\"\",\"zerolinecolor\":\"white\"}},\"shapedefaults\":{\"line\":{\"color\":\"#2a3f5f\"}},\"ternary\":{\"aaxis\":{\"gridcolor\":\"white\",\"linecolor\":\"white\",\"ticks\":\"\"},\"baxis\":{\"gridcolor\":\"white\",\"linecolor\":\"white\",\"ticks\":\"\"},\"bgcolor\":\"#E5ECF6\",\"caxis\":{\"gridcolor\":\"white\",\"linecolor\":\"white\",\"ticks\":\"\"}},\"title\":{\"x\":0.05},\"xaxis\":{\"automargin\":true,\"gridcolor\":\"white\",\"linecolor\":\"white\",\"ticks\":\"\",\"title\":{\"standoff\":15},\"zerolinecolor\":\"white\",\"zerolinewidth\":2},\"yaxis\":{\"automargin\":true,\"gridcolor\":\"white\",\"linecolor\":\"white\",\"ticks\":\"\",\"title\":{\"standoff\":15},\"zerolinecolor\":\"white\",\"zerolinewidth\":2}}},\"title\":{\"text\":\"Percentage of the Audience  score\"},\"xaxis\":{\"anchor\":\"y\",\"domain\":[0.0,1.0],\"title\":{\"text\":\"Audience  score %\"}},\"xaxis2\":{\"anchor\":\"y2\",\"domain\":[0.0,1.0],\"matches\":\"x\",\"showgrid\":true,\"showticklabels\":false},\"yaxis\":{\"anchor\":\"x\",\"domain\":[0.0,0.8316],\"title\":{\"text\":\"count\"}},\"yaxis2\":{\"anchor\":\"x2\",\"domain\":[0.8416,1.0],\"matches\":\"y2\",\"showgrid\":false,\"showline\":false,\"showticklabels\":false,\"ticks\":\"\"}},                        {\"responsive\": true}                    ).then(function(){\n",
       "                            \n",
       "var gd = document.getElementById('df3bccb5-36ad-453c-846b-79cd5eb13a1b');\n",
       "var x = new MutationObserver(function (mutations, observer) {{\n",
       "        var display = window.getComputedStyle(gd).display;\n",
       "        if (!display || display === 'none') {{\n",
       "            console.log([gd, 'removed!']);\n",
       "            Plotly.purge(gd);\n",
       "            observer.disconnect();\n",
       "        }}\n",
       "}});\n",
       "\n",
       "// Listen for the removal of the full notebook cells\n",
       "var notebookContainer = gd.closest('#notebook-container');\n",
       "if (notebookContainer) {{\n",
       "    x.observe(notebookContainer, {childList: true});\n",
       "}}\n",
       "\n",
       "// Listen for the clearing of the current output cell\n",
       "var outputEl = gd.closest('.output');\n",
       "if (outputEl) {{\n",
       "    x.observe(outputEl, {childList: true});\n",
       "}}\n",
       "\n",
       "                        })                };                });            </script>        </div>"
      ]
     },
     "metadata": {},
     "output_type": "display_data"
    }
   ],
   "source": [
    "\n",
    "fig = px.histogram(df, x= 'Audience  score %', title='Percentage of the Audience  score', marginal=\"box\", hover_data = df[['Film','Genre']])\n",
    "\n",
    "\n",
    "fig.show()"
   ]
  },
  {
   "cell_type": "markdown",
   "id": "90fb2169",
   "metadata": {
    "papermill": {
     "duration": 0.063746,
     "end_time": "2021-07-21T08:12:14.613940",
     "exception": false,
     "start_time": "2021-07-21T08:12:14.550194",
     "status": "completed"
    },
    "tags": []
   },
   "source": [
    "#### Profitability"
   ]
  },
  {
   "cell_type": "code",
   "execution_count": 20,
   "id": "e0450fbc",
   "metadata": {
    "_kg_hide-input": true,
    "execution": {
     "iopub.execute_input": "2021-07-21T08:12:14.747662Z",
     "iopub.status.busy": "2021-07-21T08:12:14.747037Z",
     "iopub.status.idle": "2021-07-21T08:12:14.754145Z",
     "shell.execute_reply": "2021-07-21T08:12:14.754604Z",
     "shell.execute_reply.started": "2021-07-09T20:49:12.625496Z"
    },
    "papermill": {
     "duration": 0.077783,
     "end_time": "2021-07-21T08:12:14.754793",
     "exception": false,
     "start_time": "2021-07-21T08:12:14.677010",
     "status": "completed"
    },
    "tags": []
   },
   "outputs": [
    {
     "data": {
      "text/plain": [
       "count    71.000000\n",
       "mean      4.741610\n",
       "std       8.292017\n",
       "min       0.005000\n",
       "25%       1.790680\n",
       "50%       2.642353\n",
       "75%       4.850958\n",
       "max      66.934000\n",
       "Name: Profitability, dtype: float64"
      ]
     },
     "execution_count": 20,
     "metadata": {},
     "output_type": "execute_result"
    }
   ],
   "source": [
    "df['Profitability'].describe()"
   ]
  },
  {
   "cell_type": "markdown",
   "id": "c6093191",
   "metadata": {
    "papermill": {
     "duration": 0.062388,
     "end_time": "2021-07-21T08:12:14.880249",
     "exception": false,
     "start_time": "2021-07-21T08:12:14.817861",
     "status": "completed"
    },
    "tags": []
   },
   "source": [
    "- We have rightly skewed distribution (mean is signicantly bigger than median)\n",
    "- Which basicaly means, we have possible outliers in our dataset and they affect mean value.\n",
    "- Let's see it."
   ]
  },
  {
   "cell_type": "code",
   "execution_count": 21,
   "id": "62ccbd7b",
   "metadata": {
    "_kg_hide-input": true,
    "execution": {
     "iopub.execute_input": "2021-07-21T08:12:15.052955Z",
     "iopub.status.busy": "2021-07-21T08:12:15.042469Z",
     "iopub.status.idle": "2021-07-21T08:12:15.105866Z",
     "shell.execute_reply": "2021-07-21T08:12:15.105205Z",
     "shell.execute_reply.started": "2021-07-09T20:49:12.636468Z"
    },
    "papermill": {
     "duration": 0.163096,
     "end_time": "2021-07-21T08:12:15.106003",
     "exception": false,
     "start_time": "2021-07-21T08:12:14.942907",
     "status": "completed"
    },
    "tags": []
   },
   "outputs": [
    {
     "data": {
      "text/html": [
       "<div>                            <div id=\"82dad052-e050-4ef2-acd2-eae9a31a4b23\" class=\"plotly-graph-div\" style=\"height:525px; width:100%;\"></div>            <script type=\"text/javascript\">                require([\"plotly\"], function(Plotly) {                    window.PLOTLYENV=window.PLOTLYENV || {};                                    if (document.getElementById(\"82dad052-e050-4ef2-acd2-eae9a31a4b23\")) {                    Plotly.newPlot(                        \"82dad052-e050-4ef2-acd2-eae9a31a4b23\",                        [{\"alignmentgroup\":\"True\",\"bingroup\":\"x\",\"hovertemplate\":\"Profitability=%{x}<br>count=%{y}<extra></extra>\",\"legendgroup\":\"\",\"marker\":{\"color\":\"#636efa\",\"pattern\":{\"shape\":\"\"}},\"name\":\"\",\"offsetgroup\":\"\",\"orientation\":\"v\",\"showlegend\":false,\"type\":\"histogram\",\"x\":[5.3436218,8.096,0.44864475,4.382857143,0.652603178,4.471875,4.5988,4.005737082,66.934,2.022925,2.0444,5.387972222,1.3140625,2.36768512,7.1536,22.91313646,1.34,2.642352941,null,1.797416667,1.245333333,6.636401848,1.715263158,2.639333333,1.9802064,2.530526316,1.817666667,2.004444444,2.64906835,9.234453864,3.746781818,8.744705882,0.2528949,1.9832,3.64741055,0.8258,2.536428571,3.3527293,3.307180357,2.14,3.682733333,null,2.071,5.103116833,1.382799733,1.384166667,3.49125,7.221795791,2.8835,2.4405,1.719514286,1.365692308,2.202571429,1.78394375,3.207850222,2.129444167,1.751351351,7.8675,2.598205128,14.1964,5.402631579,10.18002703,6.383363636,3.7241924,4.184038462,0.005,11.0897415,2.896019067,3.081421053,6.267647029,null,1.211818182,1.09,1.747541667],\"xaxis\":\"x\",\"yaxis\":\"y\"},{\"alignmentgroup\":\"True\",\"customdata\":[[\"27 Dresses\",\"Comedy\"],[\"(500) Days of Summer\",\"Comedy\"],[\"A Dangerous Method\",\"Drama\"],[\"A Serious Man\",\"Drama\"],[\"Across the Universe\",\"Romance\"],[\"Beginners\",\"Comedy\"],[\"Dear John\",\"Drama\"],[\"Enchanted\",\"Comedy\"],[\"Fireproof\",\"Drama\"],[\"Four Christmases\",\"Comedy\"],[\"Ghosts of Girlfriends Past\",\"Comedy\"],[\"Gnomeo and Juliet\",\"Animation\"],[\"Going the Distance\",\"Comedy\"],[\"Good Luck Chuck\",\"Comedy\"],[\"He's Just Not That Into You\",\"Comedy\"],[\"High School Musical 3: Senior Year\",\"Comedy\"],[\"I Love You Phillip Morris\",\"Comedy\"],[\"It's Complicated\",\"Comedy\"],[\"Jane Eyre\",\"Romance\"],[\"Just Wright\",\"Comedy\"],[\"Killers\",\"Action\"],[\"Knocked Up\",\"Comedy\"],[\"Leap Year\",\"Comedy\"],[\"Letters to Juliet\",\"Comedy\"],[\"License to Wed\",\"Comedy\"],[\"Life as We Know It\",\"Comedy\"],[\"Love & Other Drugs\",\"Comedy\"],[\"Love Happens\",\"Drama\"],[\"Made of Honor\",\"Comedy\"],[\"Mamma Mia!\",\"Comedy\"],[\"Marley and Me\",\"Comedy\"],[\"Midnight in Paris\",\"Romance\"],[\"Miss Pettigrew Lives for a Day\",\"Comedy\"],[\"Monte Carlo\",\"Romance\"],[\"Music and Lyrics\",\"Romance\"],[\"My Week with Marilyn\",\"Drama\"],[\"New Year's Eve\",\"Romance\"],[\"Nick and Norah's Infinite Playlist\",\"Comedy\"],[\"No Reservations\",\"Comedy\"],[\"Not Easily Broken\",\"Drama\"],[\"One Day\",\"Romance\"],[\"Our Family Wedding\",\"Comedy\"],[\"Over Her Dead Body\",\"Comedy\"],[\"P.S. I Love You\",\"Romance\"],[\"Penelope\",\"Comedy\"],[\"Rachel Getting Married\",\"Drama\"],[\"Remember Me\",\"Drama\"],[\"Sex and the City\",\"Comedy\"],[\"Sex and the City 2\",\"Comedy\"],[\"She's Out of My League\",\"Comedy\"],[\"Something Borrowed\",\"Romance\"],[\"Tangled\",\"Animation\"],[\"The Back-up Plan\",\"Comedy\"],[\"The Curious Case of Benjamin Button\",\"Fantasy\"],[\"The Duchess\",\"Drama\"],[\"The Heartbreak Kid\",\"Comedy\"],[\"The Invention of Lying\",\"Comedy\"],[\"The Proposal\",\"Comedy\"],[\"The Time Traveler's Wife\",\"Drama\"],[\"The Twilight Saga: New Moon\",\"Drama\"],[\"The Ugly Truth\",\"Comedy\"],[\"Twilight\",\"Romance\"],[\"Twilight: Breaking Dawn\",\"Romance\"],[\"Tyler Perry's Why Did I get Married\",\"Romance\"],[\"Valentine's Day\",\"Comedy\"],[\"Waiting For Forever\",\"Romance\"],[\"Waitress\",\"Romance\"],[\"WALL-E\",\"Animation\"],[\"Water For Elephants\",\"Drama\"],[\"What Happens in Vegas\",\"Comedy\"],[\"When in Rome\",\"Comedy\"],[\"You Will Meet a Tall Dark Stranger\",\"Comedy\"],[\"Youth in Revolt\",\"Comedy\"],[\"Zack and Miri Make a Porno\",\"Romance\"]],\"hovertemplate\":\"Profitability=%{x}<br>Film=%{customdata[0]}<br>Genre=%{customdata[1]}<extra></extra>\",\"legendgroup\":\"\",\"marker\":{\"color\":\"#636efa\"},\"name\":\"\",\"notched\":true,\"offsetgroup\":\"\",\"showlegend\":false,\"type\":\"box\",\"x\":[5.3436218,8.096,0.44864475,4.382857143,0.652603178,4.471875,4.5988,4.005737082,66.934,2.022925,2.0444,5.387972222,1.3140625,2.36768512,7.1536,22.91313646,1.34,2.642352941,null,1.797416667,1.245333333,6.636401848,1.715263158,2.639333333,1.9802064,2.530526316,1.817666667,2.004444444,2.64906835,9.234453864,3.746781818,8.744705882,0.2528949,1.9832,3.64741055,0.8258,2.536428571,3.3527293,3.307180357,2.14,3.682733333,null,2.071,5.103116833,1.382799733,1.384166667,3.49125,7.221795791,2.8835,2.4405,1.719514286,1.365692308,2.202571429,1.78394375,3.207850222,2.129444167,1.751351351,7.8675,2.598205128,14.1964,5.402631579,10.18002703,6.383363636,3.7241924,4.184038462,0.005,11.0897415,2.896019067,3.081421053,6.267647029,null,1.211818182,1.09,1.747541667],\"xaxis\":\"x2\",\"yaxis\":\"y2\"}],                        {\"barmode\":\"relative\",\"legend\":{\"tracegroupgap\":0},\"template\":{\"data\":{\"bar\":[{\"error_x\":{\"color\":\"#2a3f5f\"},\"error_y\":{\"color\":\"#2a3f5f\"},\"marker\":{\"line\":{\"color\":\"#E5ECF6\",\"width\":0.5},\"pattern\":{\"fillmode\":\"overlay\",\"size\":10,\"solidity\":0.2}},\"type\":\"bar\"}],\"barpolar\":[{\"marker\":{\"line\":{\"color\":\"#E5ECF6\",\"width\":0.5},\"pattern\":{\"fillmode\":\"overlay\",\"size\":10,\"solidity\":0.2}},\"type\":\"barpolar\"}],\"carpet\":[{\"aaxis\":{\"endlinecolor\":\"#2a3f5f\",\"gridcolor\":\"white\",\"linecolor\":\"white\",\"minorgridcolor\":\"white\",\"startlinecolor\":\"#2a3f5f\"},\"baxis\":{\"endlinecolor\":\"#2a3f5f\",\"gridcolor\":\"white\",\"linecolor\":\"white\",\"minorgridcolor\":\"white\",\"startlinecolor\":\"#2a3f5f\"},\"type\":\"carpet\"}],\"choropleth\":[{\"colorbar\":{\"outlinewidth\":0,\"ticks\":\"\"},\"type\":\"choropleth\"}],\"contour\":[{\"colorbar\":{\"outlinewidth\":0,\"ticks\":\"\"},\"colorscale\":[[0.0,\"#0d0887\"],[0.1111111111111111,\"#46039f\"],[0.2222222222222222,\"#7201a8\"],[0.3333333333333333,\"#9c179e\"],[0.4444444444444444,\"#bd3786\"],[0.5555555555555556,\"#d8576b\"],[0.6666666666666666,\"#ed7953\"],[0.7777777777777778,\"#fb9f3a\"],[0.8888888888888888,\"#fdca26\"],[1.0,\"#f0f921\"]],\"type\":\"contour\"}],\"contourcarpet\":[{\"colorbar\":{\"outlinewidth\":0,\"ticks\":\"\"},\"type\":\"contourcarpet\"}],\"heatmap\":[{\"colorbar\":{\"outlinewidth\":0,\"ticks\":\"\"},\"colorscale\":[[0.0,\"#0d0887\"],[0.1111111111111111,\"#46039f\"],[0.2222222222222222,\"#7201a8\"],[0.3333333333333333,\"#9c179e\"],[0.4444444444444444,\"#bd3786\"],[0.5555555555555556,\"#d8576b\"],[0.6666666666666666,\"#ed7953\"],[0.7777777777777778,\"#fb9f3a\"],[0.8888888888888888,\"#fdca26\"],[1.0,\"#f0f921\"]],\"type\":\"heatmap\"}],\"heatmapgl\":[{\"colorbar\":{\"outlinewidth\":0,\"ticks\":\"\"},\"colorscale\":[[0.0,\"#0d0887\"],[0.1111111111111111,\"#46039f\"],[0.2222222222222222,\"#7201a8\"],[0.3333333333333333,\"#9c179e\"],[0.4444444444444444,\"#bd3786\"],[0.5555555555555556,\"#d8576b\"],[0.6666666666666666,\"#ed7953\"],[0.7777777777777778,\"#fb9f3a\"],[0.8888888888888888,\"#fdca26\"],[1.0,\"#f0f921\"]],\"type\":\"heatmapgl\"}],\"histogram\":[{\"marker\":{\"pattern\":{\"fillmode\":\"overlay\",\"size\":10,\"solidity\":0.2}},\"type\":\"histogram\"}],\"histogram2d\":[{\"colorbar\":{\"outlinewidth\":0,\"ticks\":\"\"},\"colorscale\":[[0.0,\"#0d0887\"],[0.1111111111111111,\"#46039f\"],[0.2222222222222222,\"#7201a8\"],[0.3333333333333333,\"#9c179e\"],[0.4444444444444444,\"#bd3786\"],[0.5555555555555556,\"#d8576b\"],[0.6666666666666666,\"#ed7953\"],[0.7777777777777778,\"#fb9f3a\"],[0.8888888888888888,\"#fdca26\"],[1.0,\"#f0f921\"]],\"type\":\"histogram2d\"}],\"histogram2dcontour\":[{\"colorbar\":{\"outlinewidth\":0,\"ticks\":\"\"},\"colorscale\":[[0.0,\"#0d0887\"],[0.1111111111111111,\"#46039f\"],[0.2222222222222222,\"#7201a8\"],[0.3333333333333333,\"#9c179e\"],[0.4444444444444444,\"#bd3786\"],[0.5555555555555556,\"#d8576b\"],[0.6666666666666666,\"#ed7953\"],[0.7777777777777778,\"#fb9f3a\"],[0.8888888888888888,\"#fdca26\"],[1.0,\"#f0f921\"]],\"type\":\"histogram2dcontour\"}],\"mesh3d\":[{\"colorbar\":{\"outlinewidth\":0,\"ticks\":\"\"},\"type\":\"mesh3d\"}],\"parcoords\":[{\"line\":{\"colorbar\":{\"outlinewidth\":0,\"ticks\":\"\"}},\"type\":\"parcoords\"}],\"pie\":[{\"automargin\":true,\"type\":\"pie\"}],\"scatter\":[{\"marker\":{\"colorbar\":{\"outlinewidth\":0,\"ticks\":\"\"}},\"type\":\"scatter\"}],\"scatter3d\":[{\"line\":{\"colorbar\":{\"outlinewidth\":0,\"ticks\":\"\"}},\"marker\":{\"colorbar\":{\"outlinewidth\":0,\"ticks\":\"\"}},\"type\":\"scatter3d\"}],\"scattercarpet\":[{\"marker\":{\"colorbar\":{\"outlinewidth\":0,\"ticks\":\"\"}},\"type\":\"scattercarpet\"}],\"scattergeo\":[{\"marker\":{\"colorbar\":{\"outlinewidth\":0,\"ticks\":\"\"}},\"type\":\"scattergeo\"}],\"scattergl\":[{\"marker\":{\"colorbar\":{\"outlinewidth\":0,\"ticks\":\"\"}},\"type\":\"scattergl\"}],\"scattermapbox\":[{\"marker\":{\"colorbar\":{\"outlinewidth\":0,\"ticks\":\"\"}},\"type\":\"scattermapbox\"}],\"scatterpolar\":[{\"marker\":{\"colorbar\":{\"outlinewidth\":0,\"ticks\":\"\"}},\"type\":\"scatterpolar\"}],\"scatterpolargl\":[{\"marker\":{\"colorbar\":{\"outlinewidth\":0,\"ticks\":\"\"}},\"type\":\"scatterpolargl\"}],\"scatterternary\":[{\"marker\":{\"colorbar\":{\"outlinewidth\":0,\"ticks\":\"\"}},\"type\":\"scatterternary\"}],\"surface\":[{\"colorbar\":{\"outlinewidth\":0,\"ticks\":\"\"},\"colorscale\":[[0.0,\"#0d0887\"],[0.1111111111111111,\"#46039f\"],[0.2222222222222222,\"#7201a8\"],[0.3333333333333333,\"#9c179e\"],[0.4444444444444444,\"#bd3786\"],[0.5555555555555556,\"#d8576b\"],[0.6666666666666666,\"#ed7953\"],[0.7777777777777778,\"#fb9f3a\"],[0.8888888888888888,\"#fdca26\"],[1.0,\"#f0f921\"]],\"type\":\"surface\"}],\"table\":[{\"cells\":{\"fill\":{\"color\":\"#EBF0F8\"},\"line\":{\"color\":\"white\"}},\"header\":{\"fill\":{\"color\":\"#C8D4E3\"},\"line\":{\"color\":\"white\"}},\"type\":\"table\"}]},\"layout\":{\"annotationdefaults\":{\"arrowcolor\":\"#2a3f5f\",\"arrowhead\":0,\"arrowwidth\":1},\"autotypenumbers\":\"strict\",\"coloraxis\":{\"colorbar\":{\"outlinewidth\":0,\"ticks\":\"\"}},\"colorscale\":{\"diverging\":[[0,\"#8e0152\"],[0.1,\"#c51b7d\"],[0.2,\"#de77ae\"],[0.3,\"#f1b6da\"],[0.4,\"#fde0ef\"],[0.5,\"#f7f7f7\"],[0.6,\"#e6f5d0\"],[0.7,\"#b8e186\"],[0.8,\"#7fbc41\"],[0.9,\"#4d9221\"],[1,\"#276419\"]],\"sequential\":[[0.0,\"#0d0887\"],[0.1111111111111111,\"#46039f\"],[0.2222222222222222,\"#7201a8\"],[0.3333333333333333,\"#9c179e\"],[0.4444444444444444,\"#bd3786\"],[0.5555555555555556,\"#d8576b\"],[0.6666666666666666,\"#ed7953\"],[0.7777777777777778,\"#fb9f3a\"],[0.8888888888888888,\"#fdca26\"],[1.0,\"#f0f921\"]],\"sequentialminus\":[[0.0,\"#0d0887\"],[0.1111111111111111,\"#46039f\"],[0.2222222222222222,\"#7201a8\"],[0.3333333333333333,\"#9c179e\"],[0.4444444444444444,\"#bd3786\"],[0.5555555555555556,\"#d8576b\"],[0.6666666666666666,\"#ed7953\"],[0.7777777777777778,\"#fb9f3a\"],[0.8888888888888888,\"#fdca26\"],[1.0,\"#f0f921\"]]},\"colorway\":[\"#636efa\",\"#EF553B\",\"#00cc96\",\"#ab63fa\",\"#FFA15A\",\"#19d3f3\",\"#FF6692\",\"#B6E880\",\"#FF97FF\",\"#FECB52\"],\"font\":{\"color\":\"#2a3f5f\"},\"geo\":{\"bgcolor\":\"white\",\"lakecolor\":\"white\",\"landcolor\":\"#E5ECF6\",\"showlakes\":true,\"showland\":true,\"subunitcolor\":\"white\"},\"hoverlabel\":{\"align\":\"left\"},\"hovermode\":\"closest\",\"mapbox\":{\"style\":\"light\"},\"paper_bgcolor\":\"white\",\"plot_bgcolor\":\"#E5ECF6\",\"polar\":{\"angularaxis\":{\"gridcolor\":\"white\",\"linecolor\":\"white\",\"ticks\":\"\"},\"bgcolor\":\"#E5ECF6\",\"radialaxis\":{\"gridcolor\":\"white\",\"linecolor\":\"white\",\"ticks\":\"\"}},\"scene\":{\"xaxis\":{\"backgroundcolor\":\"#E5ECF6\",\"gridcolor\":\"white\",\"gridwidth\":2,\"linecolor\":\"white\",\"showbackground\":true,\"ticks\":\"\",\"zerolinecolor\":\"white\"},\"yaxis\":{\"backgroundcolor\":\"#E5ECF6\",\"gridcolor\":\"white\",\"gridwidth\":2,\"linecolor\":\"white\",\"showbackground\":true,\"ticks\":\"\",\"zerolinecolor\":\"white\"},\"zaxis\":{\"backgroundcolor\":\"#E5ECF6\",\"gridcolor\":\"white\",\"gridwidth\":2,\"linecolor\":\"white\",\"showbackground\":true,\"ticks\":\"\",\"zerolinecolor\":\"white\"}},\"shapedefaults\":{\"line\":{\"color\":\"#2a3f5f\"}},\"ternary\":{\"aaxis\":{\"gridcolor\":\"white\",\"linecolor\":\"white\",\"ticks\":\"\"},\"baxis\":{\"gridcolor\":\"white\",\"linecolor\":\"white\",\"ticks\":\"\"},\"bgcolor\":\"#E5ECF6\",\"caxis\":{\"gridcolor\":\"white\",\"linecolor\":\"white\",\"ticks\":\"\"}},\"title\":{\"x\":0.05},\"xaxis\":{\"automargin\":true,\"gridcolor\":\"white\",\"linecolor\":\"white\",\"ticks\":\"\",\"title\":{\"standoff\":15},\"zerolinecolor\":\"white\",\"zerolinewidth\":2},\"yaxis\":{\"automargin\":true,\"gridcolor\":\"white\",\"linecolor\":\"white\",\"ticks\":\"\",\"title\":{\"standoff\":15},\"zerolinecolor\":\"white\",\"zerolinewidth\":2}}},\"title\":{\"text\":\"Profitability of the Movies\"},\"xaxis\":{\"anchor\":\"y\",\"domain\":[0.0,1.0],\"title\":{\"text\":\"Profitability\"}},\"xaxis2\":{\"anchor\":\"y2\",\"domain\":[0.0,1.0],\"matches\":\"x\",\"showgrid\":true,\"showticklabels\":false},\"yaxis\":{\"anchor\":\"x\",\"domain\":[0.0,0.8316],\"title\":{\"text\":\"count\"}},\"yaxis2\":{\"anchor\":\"x2\",\"domain\":[0.8416,1.0],\"matches\":\"y2\",\"showgrid\":false,\"showline\":false,\"showticklabels\":false,\"ticks\":\"\"}},                        {\"responsive\": true}                    ).then(function(){\n",
       "                            \n",
       "var gd = document.getElementById('82dad052-e050-4ef2-acd2-eae9a31a4b23');\n",
       "var x = new MutationObserver(function (mutations, observer) {{\n",
       "        var display = window.getComputedStyle(gd).display;\n",
       "        if (!display || display === 'none') {{\n",
       "            console.log([gd, 'removed!']);\n",
       "            Plotly.purge(gd);\n",
       "            observer.disconnect();\n",
       "        }}\n",
       "}});\n",
       "\n",
       "// Listen for the removal of the full notebook cells\n",
       "var notebookContainer = gd.closest('#notebook-container');\n",
       "if (notebookContainer) {{\n",
       "    x.observe(notebookContainer, {childList: true});\n",
       "}}\n",
       "\n",
       "// Listen for the clearing of the current output cell\n",
       "var outputEl = gd.closest('.output');\n",
       "if (outputEl) {{\n",
       "    x.observe(outputEl, {childList: true});\n",
       "}}\n",
       "\n",
       "                        })                };                });            </script>        </div>"
      ]
     },
     "metadata": {},
     "output_type": "display_data"
    }
   ],
   "source": [
    "fig = px.histogram(df, x= 'Profitability', title='Profitability of the Movies', marginal=\"box\", hover_data = df[['Film','Genre']])\n",
    "\n",
    "\n",
    "fig.show()"
   ]
  },
  {
   "cell_type": "markdown",
   "id": "eb2443f3",
   "metadata": {
    "papermill": {
     "duration": 0.063227,
     "end_time": "2021-07-21T08:12:15.232980",
     "exception": false,
     "start_time": "2021-07-21T08:12:15.169753",
     "status": "completed"
    },
    "tags": []
   },
   "source": [
    "- Yeah, we have a quite a number of outliers and rightly skewed distribution of the Profitability of the movies."
   ]
  },
  {
   "cell_type": "markdown",
   "id": "f42d439f",
   "metadata": {
    "papermill": {
     "duration": 0.063942,
     "end_time": "2021-07-21T08:12:15.361365",
     "exception": false,
     "start_time": "2021-07-21T08:12:15.297423",
     "status": "completed"
    },
    "tags": []
   },
   "source": [
    "#### Rotten Tomatoes %"
   ]
  },
  {
   "cell_type": "code",
   "execution_count": 22,
   "id": "d3297425",
   "metadata": {
    "_kg_hide-input": true,
    "execution": {
     "iopub.execute_input": "2021-07-21T08:12:15.500422Z",
     "iopub.status.busy": "2021-07-21T08:12:15.496719Z",
     "iopub.status.idle": "2021-07-21T08:12:15.504836Z",
     "shell.execute_reply": "2021-07-21T08:12:15.505320Z",
     "shell.execute_reply.started": "2021-07-09T20:49:12.727255Z"
    },
    "papermill": {
     "duration": 0.080192,
     "end_time": "2021-07-21T08:12:15.505514",
     "exception": false,
     "start_time": "2021-07-21T08:12:15.425322",
     "status": "completed"
    },
    "tags": []
   },
   "outputs": [
    {
     "data": {
      "text/plain": [
       "count    73.000000\n",
       "mean     47.356164\n",
       "std      26.242655\n",
       "min       3.000000\n",
       "25%      27.000000\n",
       "50%      45.000000\n",
       "75%      65.000000\n",
       "max      96.000000\n",
       "Name: Rotten Tomatoes %, dtype: float64"
      ]
     },
     "execution_count": 22,
     "metadata": {},
     "output_type": "execute_result"
    }
   ],
   "source": [
    "df['Rotten Tomatoes %'].describe()"
   ]
  },
  {
   "cell_type": "markdown",
   "id": "655c6714",
   "metadata": {
    "papermill": {
     "duration": 0.064567,
     "end_time": "2021-07-21T08:12:15.635439",
     "exception": false,
     "start_time": "2021-07-21T08:12:15.570872",
     "status": "completed"
    },
    "tags": []
   },
   "source": [
    "- We have maximum number of 96 in the data. It affects mean score.\n",
    "- We can expect rightly skewed distribution but not that much extend.\n",
    "- Because mean and median scores are close to each others (47 & 45)"
   ]
  },
  {
   "cell_type": "code",
   "execution_count": 23,
   "id": "4848401b",
   "metadata": {
    "_kg_hide-input": true,
    "execution": {
     "iopub.execute_input": "2021-07-21T08:12:15.780534Z",
     "iopub.status.busy": "2021-07-21T08:12:15.778948Z",
     "iopub.status.idle": "2021-07-21T08:12:15.862742Z",
     "shell.execute_reply": "2021-07-21T08:12:15.862195Z",
     "shell.execute_reply.started": "2021-07-09T20:49:12.741787Z"
    },
    "papermill": {
     "duration": 0.162758,
     "end_time": "2021-07-21T08:12:15.862889",
     "exception": false,
     "start_time": "2021-07-21T08:12:15.700131",
     "status": "completed"
    },
    "tags": []
   },
   "outputs": [
    {
     "data": {
      "text/html": [
       "<div>                            <div id=\"ab7f55fe-d318-4eec-845e-bf5d7cff58a1\" class=\"plotly-graph-div\" style=\"height:525px; width:100%;\"></div>            <script type=\"text/javascript\">                require([\"plotly\"], function(Plotly) {                    window.PLOTLYENV=window.PLOTLYENV || {};                                    if (document.getElementById(\"ab7f55fe-d318-4eec-845e-bf5d7cff58a1\")) {                    Plotly.newPlot(                        \"ab7f55fe-d318-4eec-845e-bf5d7cff58a1\",                        [{\"alignmentgroup\":\"True\",\"bingroup\":\"x\",\"hovertemplate\":\"Rotten Tomatoes %=%{x}<br>count=%{y}<extra></extra>\",\"legendgroup\":\"\",\"marker\":{\"color\":\"#636efa\",\"pattern\":{\"shape\":\"\"}},\"name\":\"\",\"offsetgroup\":\"\",\"orientation\":\"v\",\"showlegend\":false,\"type\":\"histogram\",\"x\":[40.0,87.0,79.0,89.0,54.0,84.0,29.0,93.0,40.0,26.0,27.0,56.0,53.0,3.0,42.0,65.0,71.0,56.0,85.0,45.0,11.0,91.0,21.0,40.0,8.0,28.0,48.0,18.0,13.0,53.0,63.0,93.0,78.0,38.0,63.0,83.0,8.0,73.0,39.0,34.0,37.0,14.0,15.0,21.0,52.0,85.0,28.0,49.0,15.0,57.0,null,89.0,20.0,73.0,60.0,30.0,56.0,43.0,38.0,27.0,14.0,49.0,26.0,46.0,17.0,6.0,89.0,96.0,60.0,28.0,15.0,43.0,68.0,64.0],\"xaxis\":\"x\",\"yaxis\":\"y\"},{\"alignmentgroup\":\"True\",\"customdata\":[[\"27 Dresses\",\"Comedy\"],[\"(500) Days of Summer\",\"Comedy\"],[\"A Dangerous Method\",\"Drama\"],[\"A Serious Man\",\"Drama\"],[\"Across the Universe\",\"Romance\"],[\"Beginners\",\"Comedy\"],[\"Dear John\",\"Drama\"],[\"Enchanted\",\"Comedy\"],[\"Fireproof\",\"Drama\"],[\"Four Christmases\",\"Comedy\"],[\"Ghosts of Girlfriends Past\",\"Comedy\"],[\"Gnomeo and Juliet\",\"Animation\"],[\"Going the Distance\",\"Comedy\"],[\"Good Luck Chuck\",\"Comedy\"],[\"He's Just Not That Into You\",\"Comedy\"],[\"High School Musical 3: Senior Year\",\"Comedy\"],[\"I Love You Phillip Morris\",\"Comedy\"],[\"It's Complicated\",\"Comedy\"],[\"Jane Eyre\",\"Romance\"],[\"Just Wright\",\"Comedy\"],[\"Killers\",\"Action\"],[\"Knocked Up\",\"Comedy\"],[\"Leap Year\",\"Comedy\"],[\"Letters to Juliet\",\"Comedy\"],[\"License to Wed\",\"Comedy\"],[\"Life as We Know It\",\"Comedy\"],[\"Love & Other Drugs\",\"Comedy\"],[\"Love Happens\",\"Drama\"],[\"Made of Honor\",\"Comedy\"],[\"Mamma Mia!\",\"Comedy\"],[\"Marley and Me\",\"Comedy\"],[\"Midnight in Paris\",\"Romance\"],[\"Miss Pettigrew Lives for a Day\",\"Comedy\"],[\"Monte Carlo\",\"Romance\"],[\"Music and Lyrics\",\"Romance\"],[\"My Week with Marilyn\",\"Drama\"],[\"New Year's Eve\",\"Romance\"],[\"Nick and Norah's Infinite Playlist\",\"Comedy\"],[\"No Reservations\",\"Comedy\"],[\"Not Easily Broken\",\"Drama\"],[\"One Day\",\"Romance\"],[\"Our Family Wedding\",\"Comedy\"],[\"Over Her Dead Body\",\"Comedy\"],[\"P.S. I Love You\",\"Romance\"],[\"Penelope\",\"Comedy\"],[\"Rachel Getting Married\",\"Drama\"],[\"Remember Me\",\"Drama\"],[\"Sex and the City\",\"Comedy\"],[\"Sex and the City 2\",\"Comedy\"],[\"She's Out of My League\",\"Comedy\"],[\"Something Borrowed\",\"Romance\"],[\"Tangled\",\"Animation\"],[\"The Back-up Plan\",\"Comedy\"],[\"The Curious Case of Benjamin Button\",\"Fantasy\"],[\"The Duchess\",\"Drama\"],[\"The Heartbreak Kid\",\"Comedy\"],[\"The Invention of Lying\",\"Comedy\"],[\"The Proposal\",\"Comedy\"],[\"The Time Traveler's Wife\",\"Drama\"],[\"The Twilight Saga: New Moon\",\"Drama\"],[\"The Ugly Truth\",\"Comedy\"],[\"Twilight\",\"Romance\"],[\"Twilight: Breaking Dawn\",\"Romance\"],[\"Tyler Perry's Why Did I get Married\",\"Romance\"],[\"Valentine's Day\",\"Comedy\"],[\"Waiting For Forever\",\"Romance\"],[\"Waitress\",\"Romance\"],[\"WALL-E\",\"Animation\"],[\"Water For Elephants\",\"Drama\"],[\"What Happens in Vegas\",\"Comedy\"],[\"When in Rome\",\"Comedy\"],[\"You Will Meet a Tall Dark Stranger\",\"Comedy\"],[\"Youth in Revolt\",\"Comedy\"],[\"Zack and Miri Make a Porno\",\"Romance\"]],\"hovertemplate\":\"Rotten Tomatoes %=%{x}<br>Film=%{customdata[0]}<br>Genre=%{customdata[1]}<extra></extra>\",\"legendgroup\":\"\",\"marker\":{\"color\":\"#636efa\"},\"name\":\"\",\"notched\":true,\"offsetgroup\":\"\",\"showlegend\":false,\"type\":\"box\",\"x\":[40.0,87.0,79.0,89.0,54.0,84.0,29.0,93.0,40.0,26.0,27.0,56.0,53.0,3.0,42.0,65.0,71.0,56.0,85.0,45.0,11.0,91.0,21.0,40.0,8.0,28.0,48.0,18.0,13.0,53.0,63.0,93.0,78.0,38.0,63.0,83.0,8.0,73.0,39.0,34.0,37.0,14.0,15.0,21.0,52.0,85.0,28.0,49.0,15.0,57.0,null,89.0,20.0,73.0,60.0,30.0,56.0,43.0,38.0,27.0,14.0,49.0,26.0,46.0,17.0,6.0,89.0,96.0,60.0,28.0,15.0,43.0,68.0,64.0],\"xaxis\":\"x2\",\"yaxis\":\"y2\"}],                        {\"barmode\":\"relative\",\"legend\":{\"tracegroupgap\":0},\"template\":{\"data\":{\"bar\":[{\"error_x\":{\"color\":\"#2a3f5f\"},\"error_y\":{\"color\":\"#2a3f5f\"},\"marker\":{\"line\":{\"color\":\"#E5ECF6\",\"width\":0.5},\"pattern\":{\"fillmode\":\"overlay\",\"size\":10,\"solidity\":0.2}},\"type\":\"bar\"}],\"barpolar\":[{\"marker\":{\"line\":{\"color\":\"#E5ECF6\",\"width\":0.5},\"pattern\":{\"fillmode\":\"overlay\",\"size\":10,\"solidity\":0.2}},\"type\":\"barpolar\"}],\"carpet\":[{\"aaxis\":{\"endlinecolor\":\"#2a3f5f\",\"gridcolor\":\"white\",\"linecolor\":\"white\",\"minorgridcolor\":\"white\",\"startlinecolor\":\"#2a3f5f\"},\"baxis\":{\"endlinecolor\":\"#2a3f5f\",\"gridcolor\":\"white\",\"linecolor\":\"white\",\"minorgridcolor\":\"white\",\"startlinecolor\":\"#2a3f5f\"},\"type\":\"carpet\"}],\"choropleth\":[{\"colorbar\":{\"outlinewidth\":0,\"ticks\":\"\"},\"type\":\"choropleth\"}],\"contour\":[{\"colorbar\":{\"outlinewidth\":0,\"ticks\":\"\"},\"colorscale\":[[0.0,\"#0d0887\"],[0.1111111111111111,\"#46039f\"],[0.2222222222222222,\"#7201a8\"],[0.3333333333333333,\"#9c179e\"],[0.4444444444444444,\"#bd3786\"],[0.5555555555555556,\"#d8576b\"],[0.6666666666666666,\"#ed7953\"],[0.7777777777777778,\"#fb9f3a\"],[0.8888888888888888,\"#fdca26\"],[1.0,\"#f0f921\"]],\"type\":\"contour\"}],\"contourcarpet\":[{\"colorbar\":{\"outlinewidth\":0,\"ticks\":\"\"},\"type\":\"contourcarpet\"}],\"heatmap\":[{\"colorbar\":{\"outlinewidth\":0,\"ticks\":\"\"},\"colorscale\":[[0.0,\"#0d0887\"],[0.1111111111111111,\"#46039f\"],[0.2222222222222222,\"#7201a8\"],[0.3333333333333333,\"#9c179e\"],[0.4444444444444444,\"#bd3786\"],[0.5555555555555556,\"#d8576b\"],[0.6666666666666666,\"#ed7953\"],[0.7777777777777778,\"#fb9f3a\"],[0.8888888888888888,\"#fdca26\"],[1.0,\"#f0f921\"]],\"type\":\"heatmap\"}],\"heatmapgl\":[{\"colorbar\":{\"outlinewidth\":0,\"ticks\":\"\"},\"colorscale\":[[0.0,\"#0d0887\"],[0.1111111111111111,\"#46039f\"],[0.2222222222222222,\"#7201a8\"],[0.3333333333333333,\"#9c179e\"],[0.4444444444444444,\"#bd3786\"],[0.5555555555555556,\"#d8576b\"],[0.6666666666666666,\"#ed7953\"],[0.7777777777777778,\"#fb9f3a\"],[0.8888888888888888,\"#fdca26\"],[1.0,\"#f0f921\"]],\"type\":\"heatmapgl\"}],\"histogram\":[{\"marker\":{\"pattern\":{\"fillmode\":\"overlay\",\"size\":10,\"solidity\":0.2}},\"type\":\"histogram\"}],\"histogram2d\":[{\"colorbar\":{\"outlinewidth\":0,\"ticks\":\"\"},\"colorscale\":[[0.0,\"#0d0887\"],[0.1111111111111111,\"#46039f\"],[0.2222222222222222,\"#7201a8\"],[0.3333333333333333,\"#9c179e\"],[0.4444444444444444,\"#bd3786\"],[0.5555555555555556,\"#d8576b\"],[0.6666666666666666,\"#ed7953\"],[0.7777777777777778,\"#fb9f3a\"],[0.8888888888888888,\"#fdca26\"],[1.0,\"#f0f921\"]],\"type\":\"histogram2d\"}],\"histogram2dcontour\":[{\"colorbar\":{\"outlinewidth\":0,\"ticks\":\"\"},\"colorscale\":[[0.0,\"#0d0887\"],[0.1111111111111111,\"#46039f\"],[0.2222222222222222,\"#7201a8\"],[0.3333333333333333,\"#9c179e\"],[0.4444444444444444,\"#bd3786\"],[0.5555555555555556,\"#d8576b\"],[0.6666666666666666,\"#ed7953\"],[0.7777777777777778,\"#fb9f3a\"],[0.8888888888888888,\"#fdca26\"],[1.0,\"#f0f921\"]],\"type\":\"histogram2dcontour\"}],\"mesh3d\":[{\"colorbar\":{\"outlinewidth\":0,\"ticks\":\"\"},\"type\":\"mesh3d\"}],\"parcoords\":[{\"line\":{\"colorbar\":{\"outlinewidth\":0,\"ticks\":\"\"}},\"type\":\"parcoords\"}],\"pie\":[{\"automargin\":true,\"type\":\"pie\"}],\"scatter\":[{\"marker\":{\"colorbar\":{\"outlinewidth\":0,\"ticks\":\"\"}},\"type\":\"scatter\"}],\"scatter3d\":[{\"line\":{\"colorbar\":{\"outlinewidth\":0,\"ticks\":\"\"}},\"marker\":{\"colorbar\":{\"outlinewidth\":0,\"ticks\":\"\"}},\"type\":\"scatter3d\"}],\"scattercarpet\":[{\"marker\":{\"colorbar\":{\"outlinewidth\":0,\"ticks\":\"\"}},\"type\":\"scattercarpet\"}],\"scattergeo\":[{\"marker\":{\"colorbar\":{\"outlinewidth\":0,\"ticks\":\"\"}},\"type\":\"scattergeo\"}],\"scattergl\":[{\"marker\":{\"colorbar\":{\"outlinewidth\":0,\"ticks\":\"\"}},\"type\":\"scattergl\"}],\"scattermapbox\":[{\"marker\":{\"colorbar\":{\"outlinewidth\":0,\"ticks\":\"\"}},\"type\":\"scattermapbox\"}],\"scatterpolar\":[{\"marker\":{\"colorbar\":{\"outlinewidth\":0,\"ticks\":\"\"}},\"type\":\"scatterpolar\"}],\"scatterpolargl\":[{\"marker\":{\"colorbar\":{\"outlinewidth\":0,\"ticks\":\"\"}},\"type\":\"scatterpolargl\"}],\"scatterternary\":[{\"marker\":{\"colorbar\":{\"outlinewidth\":0,\"ticks\":\"\"}},\"type\":\"scatterternary\"}],\"surface\":[{\"colorbar\":{\"outlinewidth\":0,\"ticks\":\"\"},\"colorscale\":[[0.0,\"#0d0887\"],[0.1111111111111111,\"#46039f\"],[0.2222222222222222,\"#7201a8\"],[0.3333333333333333,\"#9c179e\"],[0.4444444444444444,\"#bd3786\"],[0.5555555555555556,\"#d8576b\"],[0.6666666666666666,\"#ed7953\"],[0.7777777777777778,\"#fb9f3a\"],[0.8888888888888888,\"#fdca26\"],[1.0,\"#f0f921\"]],\"type\":\"surface\"}],\"table\":[{\"cells\":{\"fill\":{\"color\":\"#EBF0F8\"},\"line\":{\"color\":\"white\"}},\"header\":{\"fill\":{\"color\":\"#C8D4E3\"},\"line\":{\"color\":\"white\"}},\"type\":\"table\"}]},\"layout\":{\"annotationdefaults\":{\"arrowcolor\":\"#2a3f5f\",\"arrowhead\":0,\"arrowwidth\":1},\"autotypenumbers\":\"strict\",\"coloraxis\":{\"colorbar\":{\"outlinewidth\":0,\"ticks\":\"\"}},\"colorscale\":{\"diverging\":[[0,\"#8e0152\"],[0.1,\"#c51b7d\"],[0.2,\"#de77ae\"],[0.3,\"#f1b6da\"],[0.4,\"#fde0ef\"],[0.5,\"#f7f7f7\"],[0.6,\"#e6f5d0\"],[0.7,\"#b8e186\"],[0.8,\"#7fbc41\"],[0.9,\"#4d9221\"],[1,\"#276419\"]],\"sequential\":[[0.0,\"#0d0887\"],[0.1111111111111111,\"#46039f\"],[0.2222222222222222,\"#7201a8\"],[0.3333333333333333,\"#9c179e\"],[0.4444444444444444,\"#bd3786\"],[0.5555555555555556,\"#d8576b\"],[0.6666666666666666,\"#ed7953\"],[0.7777777777777778,\"#fb9f3a\"],[0.8888888888888888,\"#fdca26\"],[1.0,\"#f0f921\"]],\"sequentialminus\":[[0.0,\"#0d0887\"],[0.1111111111111111,\"#46039f\"],[0.2222222222222222,\"#7201a8\"],[0.3333333333333333,\"#9c179e\"],[0.4444444444444444,\"#bd3786\"],[0.5555555555555556,\"#d8576b\"],[0.6666666666666666,\"#ed7953\"],[0.7777777777777778,\"#fb9f3a\"],[0.8888888888888888,\"#fdca26\"],[1.0,\"#f0f921\"]]},\"colorway\":[\"#636efa\",\"#EF553B\",\"#00cc96\",\"#ab63fa\",\"#FFA15A\",\"#19d3f3\",\"#FF6692\",\"#B6E880\",\"#FF97FF\",\"#FECB52\"],\"font\":{\"color\":\"#2a3f5f\"},\"geo\":{\"bgcolor\":\"white\",\"lakecolor\":\"white\",\"landcolor\":\"#E5ECF6\",\"showlakes\":true,\"showland\":true,\"subunitcolor\":\"white\"},\"hoverlabel\":{\"align\":\"left\"},\"hovermode\":\"closest\",\"mapbox\":{\"style\":\"light\"},\"paper_bgcolor\":\"white\",\"plot_bgcolor\":\"#E5ECF6\",\"polar\":{\"angularaxis\":{\"gridcolor\":\"white\",\"linecolor\":\"white\",\"ticks\":\"\"},\"bgcolor\":\"#E5ECF6\",\"radialaxis\":{\"gridcolor\":\"white\",\"linecolor\":\"white\",\"ticks\":\"\"}},\"scene\":{\"xaxis\":{\"backgroundcolor\":\"#E5ECF6\",\"gridcolor\":\"white\",\"gridwidth\":2,\"linecolor\":\"white\",\"showbackground\":true,\"ticks\":\"\",\"zerolinecolor\":\"white\"},\"yaxis\":{\"backgroundcolor\":\"#E5ECF6\",\"gridcolor\":\"white\",\"gridwidth\":2,\"linecolor\":\"white\",\"showbackground\":true,\"ticks\":\"\",\"zerolinecolor\":\"white\"},\"zaxis\":{\"backgroundcolor\":\"#E5ECF6\",\"gridcolor\":\"white\",\"gridwidth\":2,\"linecolor\":\"white\",\"showbackground\":true,\"ticks\":\"\",\"zerolinecolor\":\"white\"}},\"shapedefaults\":{\"line\":{\"color\":\"#2a3f5f\"}},\"ternary\":{\"aaxis\":{\"gridcolor\":\"white\",\"linecolor\":\"white\",\"ticks\":\"\"},\"baxis\":{\"gridcolor\":\"white\",\"linecolor\":\"white\",\"ticks\":\"\"},\"bgcolor\":\"#E5ECF6\",\"caxis\":{\"gridcolor\":\"white\",\"linecolor\":\"white\",\"ticks\":\"\"}},\"title\":{\"x\":0.05},\"xaxis\":{\"automargin\":true,\"gridcolor\":\"white\",\"linecolor\":\"white\",\"ticks\":\"\",\"title\":{\"standoff\":15},\"zerolinecolor\":\"white\",\"zerolinewidth\":2},\"yaxis\":{\"automargin\":true,\"gridcolor\":\"white\",\"linecolor\":\"white\",\"ticks\":\"\",\"title\":{\"standoff\":15},\"zerolinecolor\":\"white\",\"zerolinewidth\":2}}},\"title\":{\"text\":\"Rating Score-Rotten Tomatoes %\"},\"xaxis\":{\"anchor\":\"y\",\"domain\":[0.0,1.0],\"title\":{\"text\":\"Rotten Tomatoes %\"}},\"xaxis2\":{\"anchor\":\"y2\",\"domain\":[0.0,1.0],\"matches\":\"x\",\"showgrid\":true,\"showticklabels\":false},\"yaxis\":{\"anchor\":\"x\",\"domain\":[0.0,0.8316],\"title\":{\"text\":\"count\"}},\"yaxis2\":{\"anchor\":\"x2\",\"domain\":[0.8416,1.0],\"matches\":\"y2\",\"showgrid\":false,\"showline\":false,\"showticklabels\":false,\"ticks\":\"\"}},                        {\"responsive\": true}                    ).then(function(){\n",
       "                            \n",
       "var gd = document.getElementById('ab7f55fe-d318-4eec-845e-bf5d7cff58a1');\n",
       "var x = new MutationObserver(function (mutations, observer) {{\n",
       "        var display = window.getComputedStyle(gd).display;\n",
       "        if (!display || display === 'none') {{\n",
       "            console.log([gd, 'removed!']);\n",
       "            Plotly.purge(gd);\n",
       "            observer.disconnect();\n",
       "        }}\n",
       "}});\n",
       "\n",
       "// Listen for the removal of the full notebook cells\n",
       "var notebookContainer = gd.closest('#notebook-container');\n",
       "if (notebookContainer) {{\n",
       "    x.observe(notebookContainer, {childList: true});\n",
       "}}\n",
       "\n",
       "// Listen for the clearing of the current output cell\n",
       "var outputEl = gd.closest('.output');\n",
       "if (outputEl) {{\n",
       "    x.observe(outputEl, {childList: true});\n",
       "}}\n",
       "\n",
       "                        })                };                });            </script>        </div>"
      ]
     },
     "metadata": {},
     "output_type": "display_data"
    }
   ],
   "source": [
    "fig = px.histogram(df, x= 'Rotten Tomatoes %', title='Rating Score-Rotten Tomatoes %', marginal=\"box\", hover_data = df[['Film','Genre']])\n",
    "\n",
    "\n",
    "fig.show()"
   ]
  },
  {
   "cell_type": "code",
   "execution_count": 24,
   "id": "424b36f0",
   "metadata": {
    "_kg_hide-input": true,
    "execution": {
     "iopub.execute_input": "2021-07-21T08:12:16.005395Z",
     "iopub.status.busy": "2021-07-21T08:12:16.004387Z",
     "iopub.status.idle": "2021-07-21T08:12:16.008346Z",
     "shell.execute_reply": "2021-07-21T08:12:16.008874Z",
     "shell.execute_reply.started": "2021-07-09T20:49:12.833232Z"
    },
    "papermill": {
     "duration": 0.07918,
     "end_time": "2021-07-21T08:12:16.009076",
     "exception": false,
     "start_time": "2021-07-21T08:12:15.929896",
     "status": "completed"
    },
    "tags": []
   },
   "outputs": [
    {
     "data": {
      "text/plain": [
       "count     74.000000\n",
       "mean     136.351979\n",
       "std      157.067561\n",
       "min        0.025000\n",
       "25%       32.447500\n",
       "50%       73.198612\n",
       "75%      190.185250\n",
       "max      709.820000\n",
       "Name: Worldwide Gross, dtype: float64"
      ]
     },
     "execution_count": 24,
     "metadata": {},
     "output_type": "execute_result"
    }
   ],
   "source": [
    "df['Worldwide Gross'].describe()"
   ]
  },
  {
   "cell_type": "markdown",
   "id": "f3ce682e",
   "metadata": {
    "papermill": {
     "duration": 0.065394,
     "end_time": "2021-07-21T08:12:16.139769",
     "exception": false,
     "start_time": "2021-07-21T08:12:16.074375",
     "status": "completed"
    },
    "tags": []
   },
   "source": [
    "- Yep, as you correctly see, we have highly rightly skewed distribution (mean= 136.5, median = 73.19)\n",
    "- We have possible outliers.\n",
    "- Let's see it"
   ]
  },
  {
   "cell_type": "code",
   "execution_count": 25,
   "id": "ee40ece0",
   "metadata": {
    "_kg_hide-input": true,
    "execution": {
     "iopub.execute_input": "2021-07-21T08:12:16.314384Z",
     "iopub.status.busy": "2021-07-21T08:12:16.309059Z",
     "iopub.status.idle": "2021-07-21T08:12:16.372278Z",
     "shell.execute_reply": "2021-07-21T08:12:16.371610Z",
     "shell.execute_reply.started": "2021-07-09T20:49:12.84493Z"
    },
    "papermill": {
     "duration": 0.167691,
     "end_time": "2021-07-21T08:12:16.372423",
     "exception": false,
     "start_time": "2021-07-21T08:12:16.204732",
     "status": "completed"
    },
    "tags": []
   },
   "outputs": [
    {
     "data": {
      "text/html": [
       "<div>                            <div id=\"f1a22a31-7968-4846-b225-2c867a9e1b1a\" class=\"plotly-graph-div\" style=\"height:525px; width:100%;\"></div>            <script type=\"text/javascript\">                require([\"plotly\"], function(Plotly) {                    window.PLOTLYENV=window.PLOTLYENV || {};                                    if (document.getElementById(\"f1a22a31-7968-4846-b225-2c867a9e1b1a\")) {                    Plotly.newPlot(                        \"f1a22a31-7968-4846-b225-2c867a9e1b1a\",                        [{\"alignmentgroup\":\"True\",\"bingroup\":\"x\",\"hovertemplate\":\"Worldwide Gross=%{x}<br>count=%{y}<extra></extra>\",\"legendgroup\":\"\",\"marker\":{\"color\":\"#636efa\",\"pattern\":{\"shape\":\"\"}},\"name\":\"\",\"offsetgroup\":\"\",\"orientation\":\"v\",\"showlegend\":false,\"type\":\"histogram\",\"x\":[160.308654,60.72,8.972895,30.68,29.367143,14.31,114.97,340.487652,33.467,161.834,102.22,193.967,42.05,59.192128,178.84,252.044501,20.1,224.6,30.147,21.569,93.4,219.001261,32.59,79.18,69.307224,96.16,54.53,36.08,105.962734,609.473955,206.073,148.66,15.173694,39.664,145.896422,8.258,142.04,33.527293,92.60105,10.7,55.241,21.37,20.71,153.093505,20.741996,16.61,55.86,415.253258,288.35,48.81,60.183,355.08,77.09,285.431,43.305978,127.76665,32.4,314.7,101.33,709.82,205.3,376.661,702.17,55.862886,217.57,0.025,22.179483,521.283432,117.094,219.367646,43.04,26.66,19.62,41.941],\"xaxis\":\"x\",\"yaxis\":\"y\"},{\"alignmentgroup\":\"True\",\"customdata\":[[\"27 Dresses\",\"Comedy\"],[\"(500) Days of Summer\",\"Comedy\"],[\"A Dangerous Method\",\"Drama\"],[\"A Serious Man\",\"Drama\"],[\"Across the Universe\",\"Romance\"],[\"Beginners\",\"Comedy\"],[\"Dear John\",\"Drama\"],[\"Enchanted\",\"Comedy\"],[\"Fireproof\",\"Drama\"],[\"Four Christmases\",\"Comedy\"],[\"Ghosts of Girlfriends Past\",\"Comedy\"],[\"Gnomeo and Juliet\",\"Animation\"],[\"Going the Distance\",\"Comedy\"],[\"Good Luck Chuck\",\"Comedy\"],[\"He's Just Not That Into You\",\"Comedy\"],[\"High School Musical 3: Senior Year\",\"Comedy\"],[\"I Love You Phillip Morris\",\"Comedy\"],[\"It's Complicated\",\"Comedy\"],[\"Jane Eyre\",\"Romance\"],[\"Just Wright\",\"Comedy\"],[\"Killers\",\"Action\"],[\"Knocked Up\",\"Comedy\"],[\"Leap Year\",\"Comedy\"],[\"Letters to Juliet\",\"Comedy\"],[\"License to Wed\",\"Comedy\"],[\"Life as We Know It\",\"Comedy\"],[\"Love & Other Drugs\",\"Comedy\"],[\"Love Happens\",\"Drama\"],[\"Made of Honor\",\"Comedy\"],[\"Mamma Mia!\",\"Comedy\"],[\"Marley and Me\",\"Comedy\"],[\"Midnight in Paris\",\"Romance\"],[\"Miss Pettigrew Lives for a Day\",\"Comedy\"],[\"Monte Carlo\",\"Romance\"],[\"Music and Lyrics\",\"Romance\"],[\"My Week with Marilyn\",\"Drama\"],[\"New Year's Eve\",\"Romance\"],[\"Nick and Norah's Infinite Playlist\",\"Comedy\"],[\"No Reservations\",\"Comedy\"],[\"Not Easily Broken\",\"Drama\"],[\"One Day\",\"Romance\"],[\"Our Family Wedding\",\"Comedy\"],[\"Over Her Dead Body\",\"Comedy\"],[\"P.S. I Love You\",\"Romance\"],[\"Penelope\",\"Comedy\"],[\"Rachel Getting Married\",\"Drama\"],[\"Remember Me\",\"Drama\"],[\"Sex and the City\",\"Comedy\"],[\"Sex and the City 2\",\"Comedy\"],[\"She's Out of My League\",\"Comedy\"],[\"Something Borrowed\",\"Romance\"],[\"Tangled\",\"Animation\"],[\"The Back-up Plan\",\"Comedy\"],[\"The Curious Case of Benjamin Button\",\"Fantasy\"],[\"The Duchess\",\"Drama\"],[\"The Heartbreak Kid\",\"Comedy\"],[\"The Invention of Lying\",\"Comedy\"],[\"The Proposal\",\"Comedy\"],[\"The Time Traveler's Wife\",\"Drama\"],[\"The Twilight Saga: New Moon\",\"Drama\"],[\"The Ugly Truth\",\"Comedy\"],[\"Twilight\",\"Romance\"],[\"Twilight: Breaking Dawn\",\"Romance\"],[\"Tyler Perry's Why Did I get Married\",\"Romance\"],[\"Valentine's Day\",\"Comedy\"],[\"Waiting For Forever\",\"Romance\"],[\"Waitress\",\"Romance\"],[\"WALL-E\",\"Animation\"],[\"Water For Elephants\",\"Drama\"],[\"What Happens in Vegas\",\"Comedy\"],[\"When in Rome\",\"Comedy\"],[\"You Will Meet a Tall Dark Stranger\",\"Comedy\"],[\"Youth in Revolt\",\"Comedy\"],[\"Zack and Miri Make a Porno\",\"Romance\"]],\"hovertemplate\":\"Worldwide Gross=%{x}<br>Film=%{customdata[0]}<br>Genre=%{customdata[1]}<extra></extra>\",\"legendgroup\":\"\",\"marker\":{\"color\":\"#636efa\"},\"name\":\"\",\"notched\":true,\"offsetgroup\":\"\",\"showlegend\":false,\"type\":\"box\",\"x\":[160.308654,60.72,8.972895,30.68,29.367143,14.31,114.97,340.487652,33.467,161.834,102.22,193.967,42.05,59.192128,178.84,252.044501,20.1,224.6,30.147,21.569,93.4,219.001261,32.59,79.18,69.307224,96.16,54.53,36.08,105.962734,609.473955,206.073,148.66,15.173694,39.664,145.896422,8.258,142.04,33.527293,92.60105,10.7,55.241,21.37,20.71,153.093505,20.741996,16.61,55.86,415.253258,288.35,48.81,60.183,355.08,77.09,285.431,43.305978,127.76665,32.4,314.7,101.33,709.82,205.3,376.661,702.17,55.862886,217.57,0.025,22.179483,521.283432,117.094,219.367646,43.04,26.66,19.62,41.941],\"xaxis\":\"x2\",\"yaxis\":\"y2\"}],                        {\"barmode\":\"relative\",\"legend\":{\"tracegroupgap\":0},\"template\":{\"data\":{\"bar\":[{\"error_x\":{\"color\":\"#2a3f5f\"},\"error_y\":{\"color\":\"#2a3f5f\"},\"marker\":{\"line\":{\"color\":\"#E5ECF6\",\"width\":0.5},\"pattern\":{\"fillmode\":\"overlay\",\"size\":10,\"solidity\":0.2}},\"type\":\"bar\"}],\"barpolar\":[{\"marker\":{\"line\":{\"color\":\"#E5ECF6\",\"width\":0.5},\"pattern\":{\"fillmode\":\"overlay\",\"size\":10,\"solidity\":0.2}},\"type\":\"barpolar\"}],\"carpet\":[{\"aaxis\":{\"endlinecolor\":\"#2a3f5f\",\"gridcolor\":\"white\",\"linecolor\":\"white\",\"minorgridcolor\":\"white\",\"startlinecolor\":\"#2a3f5f\"},\"baxis\":{\"endlinecolor\":\"#2a3f5f\",\"gridcolor\":\"white\",\"linecolor\":\"white\",\"minorgridcolor\":\"white\",\"startlinecolor\":\"#2a3f5f\"},\"type\":\"carpet\"}],\"choropleth\":[{\"colorbar\":{\"outlinewidth\":0,\"ticks\":\"\"},\"type\":\"choropleth\"}],\"contour\":[{\"colorbar\":{\"outlinewidth\":0,\"ticks\":\"\"},\"colorscale\":[[0.0,\"#0d0887\"],[0.1111111111111111,\"#46039f\"],[0.2222222222222222,\"#7201a8\"],[0.3333333333333333,\"#9c179e\"],[0.4444444444444444,\"#bd3786\"],[0.5555555555555556,\"#d8576b\"],[0.6666666666666666,\"#ed7953\"],[0.7777777777777778,\"#fb9f3a\"],[0.8888888888888888,\"#fdca26\"],[1.0,\"#f0f921\"]],\"type\":\"contour\"}],\"contourcarpet\":[{\"colorbar\":{\"outlinewidth\":0,\"ticks\":\"\"},\"type\":\"contourcarpet\"}],\"heatmap\":[{\"colorbar\":{\"outlinewidth\":0,\"ticks\":\"\"},\"colorscale\":[[0.0,\"#0d0887\"],[0.1111111111111111,\"#46039f\"],[0.2222222222222222,\"#7201a8\"],[0.3333333333333333,\"#9c179e\"],[0.4444444444444444,\"#bd3786\"],[0.5555555555555556,\"#d8576b\"],[0.6666666666666666,\"#ed7953\"],[0.7777777777777778,\"#fb9f3a\"],[0.8888888888888888,\"#fdca26\"],[1.0,\"#f0f921\"]],\"type\":\"heatmap\"}],\"heatmapgl\":[{\"colorbar\":{\"outlinewidth\":0,\"ticks\":\"\"},\"colorscale\":[[0.0,\"#0d0887\"],[0.1111111111111111,\"#46039f\"],[0.2222222222222222,\"#7201a8\"],[0.3333333333333333,\"#9c179e\"],[0.4444444444444444,\"#bd3786\"],[0.5555555555555556,\"#d8576b\"],[0.6666666666666666,\"#ed7953\"],[0.7777777777777778,\"#fb9f3a\"],[0.8888888888888888,\"#fdca26\"],[1.0,\"#f0f921\"]],\"type\":\"heatmapgl\"}],\"histogram\":[{\"marker\":{\"pattern\":{\"fillmode\":\"overlay\",\"size\":10,\"solidity\":0.2}},\"type\":\"histogram\"}],\"histogram2d\":[{\"colorbar\":{\"outlinewidth\":0,\"ticks\":\"\"},\"colorscale\":[[0.0,\"#0d0887\"],[0.1111111111111111,\"#46039f\"],[0.2222222222222222,\"#7201a8\"],[0.3333333333333333,\"#9c179e\"],[0.4444444444444444,\"#bd3786\"],[0.5555555555555556,\"#d8576b\"],[0.6666666666666666,\"#ed7953\"],[0.7777777777777778,\"#fb9f3a\"],[0.8888888888888888,\"#fdca26\"],[1.0,\"#f0f921\"]],\"type\":\"histogram2d\"}],\"histogram2dcontour\":[{\"colorbar\":{\"outlinewidth\":0,\"ticks\":\"\"},\"colorscale\":[[0.0,\"#0d0887\"],[0.1111111111111111,\"#46039f\"],[0.2222222222222222,\"#7201a8\"],[0.3333333333333333,\"#9c179e\"],[0.4444444444444444,\"#bd3786\"],[0.5555555555555556,\"#d8576b\"],[0.6666666666666666,\"#ed7953\"],[0.7777777777777778,\"#fb9f3a\"],[0.8888888888888888,\"#fdca26\"],[1.0,\"#f0f921\"]],\"type\":\"histogram2dcontour\"}],\"mesh3d\":[{\"colorbar\":{\"outlinewidth\":0,\"ticks\":\"\"},\"type\":\"mesh3d\"}],\"parcoords\":[{\"line\":{\"colorbar\":{\"outlinewidth\":0,\"ticks\":\"\"}},\"type\":\"parcoords\"}],\"pie\":[{\"automargin\":true,\"type\":\"pie\"}],\"scatter\":[{\"marker\":{\"colorbar\":{\"outlinewidth\":0,\"ticks\":\"\"}},\"type\":\"scatter\"}],\"scatter3d\":[{\"line\":{\"colorbar\":{\"outlinewidth\":0,\"ticks\":\"\"}},\"marker\":{\"colorbar\":{\"outlinewidth\":0,\"ticks\":\"\"}},\"type\":\"scatter3d\"}],\"scattercarpet\":[{\"marker\":{\"colorbar\":{\"outlinewidth\":0,\"ticks\":\"\"}},\"type\":\"scattercarpet\"}],\"scattergeo\":[{\"marker\":{\"colorbar\":{\"outlinewidth\":0,\"ticks\":\"\"}},\"type\":\"scattergeo\"}],\"scattergl\":[{\"marker\":{\"colorbar\":{\"outlinewidth\":0,\"ticks\":\"\"}},\"type\":\"scattergl\"}],\"scattermapbox\":[{\"marker\":{\"colorbar\":{\"outlinewidth\":0,\"ticks\":\"\"}},\"type\":\"scattermapbox\"}],\"scatterpolar\":[{\"marker\":{\"colorbar\":{\"outlinewidth\":0,\"ticks\":\"\"}},\"type\":\"scatterpolar\"}],\"scatterpolargl\":[{\"marker\":{\"colorbar\":{\"outlinewidth\":0,\"ticks\":\"\"}},\"type\":\"scatterpolargl\"}],\"scatterternary\":[{\"marker\":{\"colorbar\":{\"outlinewidth\":0,\"ticks\":\"\"}},\"type\":\"scatterternary\"}],\"surface\":[{\"colorbar\":{\"outlinewidth\":0,\"ticks\":\"\"},\"colorscale\":[[0.0,\"#0d0887\"],[0.1111111111111111,\"#46039f\"],[0.2222222222222222,\"#7201a8\"],[0.3333333333333333,\"#9c179e\"],[0.4444444444444444,\"#bd3786\"],[0.5555555555555556,\"#d8576b\"],[0.6666666666666666,\"#ed7953\"],[0.7777777777777778,\"#fb9f3a\"],[0.8888888888888888,\"#fdca26\"],[1.0,\"#f0f921\"]],\"type\":\"surface\"}],\"table\":[{\"cells\":{\"fill\":{\"color\":\"#EBF0F8\"},\"line\":{\"color\":\"white\"}},\"header\":{\"fill\":{\"color\":\"#C8D4E3\"},\"line\":{\"color\":\"white\"}},\"type\":\"table\"}]},\"layout\":{\"annotationdefaults\":{\"arrowcolor\":\"#2a3f5f\",\"arrowhead\":0,\"arrowwidth\":1},\"autotypenumbers\":\"strict\",\"coloraxis\":{\"colorbar\":{\"outlinewidth\":0,\"ticks\":\"\"}},\"colorscale\":{\"diverging\":[[0,\"#8e0152\"],[0.1,\"#c51b7d\"],[0.2,\"#de77ae\"],[0.3,\"#f1b6da\"],[0.4,\"#fde0ef\"],[0.5,\"#f7f7f7\"],[0.6,\"#e6f5d0\"],[0.7,\"#b8e186\"],[0.8,\"#7fbc41\"],[0.9,\"#4d9221\"],[1,\"#276419\"]],\"sequential\":[[0.0,\"#0d0887\"],[0.1111111111111111,\"#46039f\"],[0.2222222222222222,\"#7201a8\"],[0.3333333333333333,\"#9c179e\"],[0.4444444444444444,\"#bd3786\"],[0.5555555555555556,\"#d8576b\"],[0.6666666666666666,\"#ed7953\"],[0.7777777777777778,\"#fb9f3a\"],[0.8888888888888888,\"#fdca26\"],[1.0,\"#f0f921\"]],\"sequentialminus\":[[0.0,\"#0d0887\"],[0.1111111111111111,\"#46039f\"],[0.2222222222222222,\"#7201a8\"],[0.3333333333333333,\"#9c179e\"],[0.4444444444444444,\"#bd3786\"],[0.5555555555555556,\"#d8576b\"],[0.6666666666666666,\"#ed7953\"],[0.7777777777777778,\"#fb9f3a\"],[0.8888888888888888,\"#fdca26\"],[1.0,\"#f0f921\"]]},\"colorway\":[\"#636efa\",\"#EF553B\",\"#00cc96\",\"#ab63fa\",\"#FFA15A\",\"#19d3f3\",\"#FF6692\",\"#B6E880\",\"#FF97FF\",\"#FECB52\"],\"font\":{\"color\":\"#2a3f5f\"},\"geo\":{\"bgcolor\":\"white\",\"lakecolor\":\"white\",\"landcolor\":\"#E5ECF6\",\"showlakes\":true,\"showland\":true,\"subunitcolor\":\"white\"},\"hoverlabel\":{\"align\":\"left\"},\"hovermode\":\"closest\",\"mapbox\":{\"style\":\"light\"},\"paper_bgcolor\":\"white\",\"plot_bgcolor\":\"#E5ECF6\",\"polar\":{\"angularaxis\":{\"gridcolor\":\"white\",\"linecolor\":\"white\",\"ticks\":\"\"},\"bgcolor\":\"#E5ECF6\",\"radialaxis\":{\"gridcolor\":\"white\",\"linecolor\":\"white\",\"ticks\":\"\"}},\"scene\":{\"xaxis\":{\"backgroundcolor\":\"#E5ECF6\",\"gridcolor\":\"white\",\"gridwidth\":2,\"linecolor\":\"white\",\"showbackground\":true,\"ticks\":\"\",\"zerolinecolor\":\"white\"},\"yaxis\":{\"backgroundcolor\":\"#E5ECF6\",\"gridcolor\":\"white\",\"gridwidth\":2,\"linecolor\":\"white\",\"showbackground\":true,\"ticks\":\"\",\"zerolinecolor\":\"white\"},\"zaxis\":{\"backgroundcolor\":\"#E5ECF6\",\"gridcolor\":\"white\",\"gridwidth\":2,\"linecolor\":\"white\",\"showbackground\":true,\"ticks\":\"\",\"zerolinecolor\":\"white\"}},\"shapedefaults\":{\"line\":{\"color\":\"#2a3f5f\"}},\"ternary\":{\"aaxis\":{\"gridcolor\":\"white\",\"linecolor\":\"white\",\"ticks\":\"\"},\"baxis\":{\"gridcolor\":\"white\",\"linecolor\":\"white\",\"ticks\":\"\"},\"bgcolor\":\"#E5ECF6\",\"caxis\":{\"gridcolor\":\"white\",\"linecolor\":\"white\",\"ticks\":\"\"}},\"title\":{\"x\":0.05},\"xaxis\":{\"automargin\":true,\"gridcolor\":\"white\",\"linecolor\":\"white\",\"ticks\":\"\",\"title\":{\"standoff\":15},\"zerolinecolor\":\"white\",\"zerolinewidth\":2},\"yaxis\":{\"automargin\":true,\"gridcolor\":\"white\",\"linecolor\":\"white\",\"ticks\":\"\",\"title\":{\"standoff\":15},\"zerolinecolor\":\"white\",\"zerolinewidth\":2}}},\"title\":{\"text\":\"Worldwide Gross\"},\"xaxis\":{\"anchor\":\"y\",\"domain\":[0.0,1.0],\"title\":{\"text\":\"Worldwide Gross\"}},\"xaxis2\":{\"anchor\":\"y2\",\"domain\":[0.0,1.0],\"matches\":\"x\",\"showgrid\":true,\"showticklabels\":false},\"yaxis\":{\"anchor\":\"x\",\"domain\":[0.0,0.8316],\"title\":{\"text\":\"count\"}},\"yaxis2\":{\"anchor\":\"x2\",\"domain\":[0.8416,1.0],\"matches\":\"y2\",\"showgrid\":false,\"showline\":false,\"showticklabels\":false,\"ticks\":\"\"}},                        {\"responsive\": true}                    ).then(function(){\n",
       "                            \n",
       "var gd = document.getElementById('f1a22a31-7968-4846-b225-2c867a9e1b1a');\n",
       "var x = new MutationObserver(function (mutations, observer) {{\n",
       "        var display = window.getComputedStyle(gd).display;\n",
       "        if (!display || display === 'none') {{\n",
       "            console.log([gd, 'removed!']);\n",
       "            Plotly.purge(gd);\n",
       "            observer.disconnect();\n",
       "        }}\n",
       "}});\n",
       "\n",
       "// Listen for the removal of the full notebook cells\n",
       "var notebookContainer = gd.closest('#notebook-container');\n",
       "if (notebookContainer) {{\n",
       "    x.observe(notebookContainer, {childList: true});\n",
       "}}\n",
       "\n",
       "// Listen for the clearing of the current output cell\n",
       "var outputEl = gd.closest('.output');\n",
       "if (outputEl) {{\n",
       "    x.observe(outputEl, {childList: true});\n",
       "}}\n",
       "\n",
       "                        })                };                });            </script>        </div>"
      ]
     },
     "metadata": {},
     "output_type": "display_data"
    }
   ],
   "source": [
    "fig = px.histogram(df, x= 'Worldwide Gross', title='Worldwide Gross', marginal=\"box\", hover_data = df[['Film','Genre']])\n",
    "fig.show()"
   ]
  },
  {
   "cell_type": "markdown",
   "id": "d810047b",
   "metadata": {
    "papermill": {
     "duration": 0.071934,
     "end_time": "2021-07-21T08:12:16.510564",
     "exception": false,
     "start_time": "2021-07-21T08:12:16.438630",
     "status": "completed"
    },
    "tags": []
   },
   "source": [
    "- Befor moving on the details, let's see the correlation matrix for our dataset"
   ]
  },
  {
   "cell_type": "code",
   "execution_count": 26,
   "id": "821b14eb",
   "metadata": {
    "_kg_hide-input": true,
    "execution": {
     "iopub.execute_input": "2021-07-21T08:12:16.680830Z",
     "iopub.status.busy": "2021-07-21T08:12:16.679847Z",
     "iopub.status.idle": "2021-07-21T08:12:16.684199Z",
     "shell.execute_reply": "2021-07-21T08:12:16.683566Z",
     "shell.execute_reply.started": "2021-07-09T20:49:12.945449Z"
    },
    "papermill": {
     "duration": 0.092131,
     "end_time": "2021-07-21T08:12:16.684334",
     "exception": false,
     "start_time": "2021-07-21T08:12:16.592203",
     "status": "completed"
    },
    "tags": []
   },
   "outputs": [
    {
     "data": {
      "text/html": [
       "<div>\n",
       "<style scoped>\n",
       "    .dataframe tbody tr th:only-of-type {\n",
       "        vertical-align: middle;\n",
       "    }\n",
       "\n",
       "    .dataframe tbody tr th {\n",
       "        vertical-align: top;\n",
       "    }\n",
       "\n",
       "    .dataframe thead th {\n",
       "        text-align: right;\n",
       "    }\n",
       "</style>\n",
       "<table border=\"1\" class=\"dataframe\">\n",
       "  <thead>\n",
       "    <tr style=\"text-align: right;\">\n",
       "      <th></th>\n",
       "      <th>Audience  score %</th>\n",
       "      <th>Profitability</th>\n",
       "      <th>Rotten Tomatoes %</th>\n",
       "      <th>Worldwide Gross</th>\n",
       "    </tr>\n",
       "  </thead>\n",
       "  <tbody>\n",
       "    <tr>\n",
       "      <th>Audience  score %</th>\n",
       "      <td>1.000000</td>\n",
       "      <td>0.042083</td>\n",
       "      <td>0.601990</td>\n",
       "      <td>0.395357</td>\n",
       "    </tr>\n",
       "    <tr>\n",
       "      <th>Profitability</th>\n",
       "      <td>0.042083</td>\n",
       "      <td>1.000000</td>\n",
       "      <td>0.024210</td>\n",
       "      <td>0.146705</td>\n",
       "    </tr>\n",
       "    <tr>\n",
       "      <th>Rotten Tomatoes %</th>\n",
       "      <td>0.601990</td>\n",
       "      <td>0.024210</td>\n",
       "      <td>1.000000</td>\n",
       "      <td>0.019748</td>\n",
       "    </tr>\n",
       "    <tr>\n",
       "      <th>Worldwide Gross</th>\n",
       "      <td>0.395357</td>\n",
       "      <td>0.146705</td>\n",
       "      <td>0.019748</td>\n",
       "      <td>1.000000</td>\n",
       "    </tr>\n",
       "  </tbody>\n",
       "</table>\n",
       "</div>"
      ],
      "text/plain": [
       "                   Audience  score %  Profitability  Rotten Tomatoes %  \\\n",
       "Audience  score %           1.000000       0.042083           0.601990   \n",
       "Profitability               0.042083       1.000000           0.024210   \n",
       "Rotten Tomatoes %           0.601990       0.024210           1.000000   \n",
       "Worldwide Gross             0.395357       0.146705           0.019748   \n",
       "\n",
       "                   Worldwide Gross  \n",
       "Audience  score %         0.395357  \n",
       "Profitability             0.146705  \n",
       "Rotten Tomatoes %         0.019748  \n",
       "Worldwide Gross           1.000000  "
      ]
     },
     "execution_count": 26,
     "metadata": {},
     "output_type": "execute_result"
    }
   ],
   "source": [
    "df.drop('Year', axis=1).corr()"
   ]
  },
  {
   "cell_type": "code",
   "execution_count": 27,
   "id": "2018b23d",
   "metadata": {
    "_kg_hide-input": true,
    "execution": {
     "iopub.execute_input": "2021-07-21T08:12:16.828715Z",
     "iopub.status.busy": "2021-07-21T08:12:16.828042Z",
     "iopub.status.idle": "2021-07-21T08:12:16.871214Z",
     "shell.execute_reply": "2021-07-21T08:12:16.870551Z",
     "shell.execute_reply.started": "2021-07-09T20:49:12.960218Z"
    },
    "papermill": {
     "duration": 0.119637,
     "end_time": "2021-07-21T08:12:16.871353",
     "exception": false,
     "start_time": "2021-07-21T08:12:16.751716",
     "status": "completed"
    },
    "tags": []
   },
   "outputs": [
    {
     "data": {
      "text/html": [
       "<div>                            <div id=\"817b598a-f03d-402f-8192-53ab4e697db5\" class=\"plotly-graph-div\" style=\"height:1000px; width:1000px;\"></div>            <script type=\"text/javascript\">                require([\"plotly\"], function(Plotly) {                    window.PLOTLYENV=window.PLOTLYENV || {};                                    if (document.getElementById(\"817b598a-f03d-402f-8192-53ab4e697db5\")) {                    Plotly.newPlot(                        \"817b598a-f03d-402f-8192-53ab4e697db5\",                        [{\"dimensions\":[{\"label\":\"Audience  score %\",\"values\":[71.0,81.0,89.0,64.0,84.0,80.0,66.0,80.0,51.0,52.0,47.0,52.0,56.0,61.0,60.0,76.0,57.0,63.0,77.0,58.0,45.0,83.0,49.0,62.0,55.0,62.0,55.0,40.0,61.0,76.0,77.0,84.0,70.0,50.0,70.0,84.0,48.0,67.0,64.0,66.0,54.0,49.0,47.0,82.0,74.0,61.0,70.0,81.0,49.0,60.0,null,88.0,47.0,81.0,68.0,41.0,47.0,74.0,65.0,78.0,68.0,82.0,68.0,47.0,54.0,53.0,67.0,89.0,72.0,72.0,44.0,35.0,52.0,70.0]},{\"label\":\"Profitability\",\"values\":[5.3436218,8.096,0.44864475,4.382857143,0.652603178,4.471875,4.5988,4.005737082,66.934,2.022925,2.0444,5.387972222,1.3140625,2.36768512,7.1536,22.91313646,1.34,2.642352941,null,1.797416667,1.245333333,6.636401848,1.715263158,2.639333333,1.9802064,2.530526316,1.817666667,2.004444444,2.64906835,9.234453864,3.746781818,8.744705882,0.2528949,1.9832,3.64741055,0.8258,2.536428571,3.3527293,3.307180357,2.14,3.682733333,null,2.071,5.103116833,1.382799733,1.384166667,3.49125,7.221795791,2.8835,2.4405,1.719514286,1.365692308,2.202571429,1.78394375,3.207850222,2.129444167,1.751351351,7.8675,2.598205128,14.1964,5.402631579,10.18002703,6.383363636,3.7241924,4.184038462,0.005,11.0897415,2.896019067,3.081421053,6.267647029,null,1.211818182,1.09,1.747541667]},{\"label\":\"Rotten Tomatoes %\",\"values\":[40.0,87.0,79.0,89.0,54.0,84.0,29.0,93.0,40.0,26.0,27.0,56.0,53.0,3.0,42.0,65.0,71.0,56.0,85.0,45.0,11.0,91.0,21.0,40.0,8.0,28.0,48.0,18.0,13.0,53.0,63.0,93.0,78.0,38.0,63.0,83.0,8.0,73.0,39.0,34.0,37.0,14.0,15.0,21.0,52.0,85.0,28.0,49.0,15.0,57.0,null,89.0,20.0,73.0,60.0,30.0,56.0,43.0,38.0,27.0,14.0,49.0,26.0,46.0,17.0,6.0,89.0,96.0,60.0,28.0,15.0,43.0,68.0,64.0]},{\"label\":\"Worldwide Gross\",\"values\":[160.308654,60.72,8.972895,30.68,29.367143,14.31,114.97,340.487652,33.467,161.834,102.22,193.967,42.05,59.192128,178.84,252.044501,20.1,224.6,30.147,21.569,93.4,219.001261,32.59,79.18,69.307224,96.16,54.53,36.08,105.962734,609.473955,206.073,148.66,15.173694,39.664,145.896422,8.258,142.04,33.527293,92.60105,10.7,55.241,21.37,20.71,153.093505,20.741996,16.61,55.86,415.253258,288.35,48.81,60.183,355.08,77.09,285.431,43.305978,127.76665,32.4,314.7,101.33,709.82,205.3,376.661,702.17,55.862886,217.57,0.025,22.179483,521.283432,117.094,219.367646,43.04,26.66,19.62,41.941]}],\"marker\":{\"color\":[2,2,3,3,5,2,3,2,3,2,2,1,2,2,2,2,2,2,5,2,0,2,2,2,2,2,2,3,2,2,2,5,2,5,5,3,5,2,2,3,5,2,2,5,2,3,3,2,2,2,5,1,2,4,3,2,2,2,3,3,2,5,5,5,2,5,5,1,3,2,2,2,2,5],\"line\":{\"color\":\"white\",\"width\":0.5},\"showscale\":false},\"showupperhalf\":false,\"text\":[\"27 Dresses\",\"(500) Days of Summer\",\"A Dangerous Method\",\"A Serious Man\",\"Across the Universe\",\"Beginners\",\"Dear John\",\"Enchanted\",\"Fireproof\",\"Four Christmases\",\"Ghosts of Girlfriends Past\",\"Gnomeo and Juliet\",\"Going the Distance\",\"Good Luck Chuck\",\"He's Just Not That Into You\",\"High School Musical 3: Senior Year\",\"I Love You Phillip Morris\",\"It's Complicated\",\"Jane Eyre\",\"Just Wright\",\"Killers\",\"Knocked Up\",\"Leap Year\",\"Letters to Juliet\",\"License to Wed\",\"Life as We Know It\",\"Love & Other Drugs\",\"Love Happens\",\"Made of Honor\",\"Mamma Mia!\",\"Marley and Me\",\"Midnight in Paris\",\"Miss Pettigrew Lives for a Day\",\"Monte Carlo\",\"Music and Lyrics\",\"My Week with Marilyn\",\"New Year's Eve\",\"Nick and Norah's Infinite Playlist\",\"No Reservations\",\"Not Easily Broken\",\"One Day\",\"Our Family Wedding\",\"Over Her Dead Body\",\"P.S. I Love You\",\"Penelope\",\"Rachel Getting Married\",\"Remember Me\",\"Sex and the City\",\"Sex and the City 2\",\"She's Out of My League\",\"Something Borrowed\",\"Tangled\",\"The Back-up Plan\",\"The Curious Case of Benjamin Button\",\"The Duchess\",\"The Heartbreak Kid\",\"The Invention of Lying\",\"The Proposal\",\"The Time Traveler's Wife\",\"The Twilight Saga: New Moon\",\"The Ugly Truth\",\"Twilight\",\"Twilight: Breaking Dawn\",\"Tyler Perry's Why Did I get Married\",\"Valentine's Day\",\"Waiting For Forever\",\"Waitress\",\"WALL-E\",\"Water For Elephants\",\"What Happens in Vegas\",\"When in Rome\",\"You Will Meet a Tall Dark Stranger\",\"Youth in Revolt\",\"Zack and Miri Make a Porno\"],\"type\":\"splom\"}],                        {\"height\":1000,\"template\":{\"data\":{\"bar\":[{\"error_x\":{\"color\":\"#2a3f5f\"},\"error_y\":{\"color\":\"#2a3f5f\"},\"marker\":{\"line\":{\"color\":\"#E5ECF6\",\"width\":0.5},\"pattern\":{\"fillmode\":\"overlay\",\"size\":10,\"solidity\":0.2}},\"type\":\"bar\"}],\"barpolar\":[{\"marker\":{\"line\":{\"color\":\"#E5ECF6\",\"width\":0.5},\"pattern\":{\"fillmode\":\"overlay\",\"size\":10,\"solidity\":0.2}},\"type\":\"barpolar\"}],\"carpet\":[{\"aaxis\":{\"endlinecolor\":\"#2a3f5f\",\"gridcolor\":\"white\",\"linecolor\":\"white\",\"minorgridcolor\":\"white\",\"startlinecolor\":\"#2a3f5f\"},\"baxis\":{\"endlinecolor\":\"#2a3f5f\",\"gridcolor\":\"white\",\"linecolor\":\"white\",\"minorgridcolor\":\"white\",\"startlinecolor\":\"#2a3f5f\"},\"type\":\"carpet\"}],\"choropleth\":[{\"colorbar\":{\"outlinewidth\":0,\"ticks\":\"\"},\"type\":\"choropleth\"}],\"contour\":[{\"colorbar\":{\"outlinewidth\":0,\"ticks\":\"\"},\"colorscale\":[[0.0,\"#0d0887\"],[0.1111111111111111,\"#46039f\"],[0.2222222222222222,\"#7201a8\"],[0.3333333333333333,\"#9c179e\"],[0.4444444444444444,\"#bd3786\"],[0.5555555555555556,\"#d8576b\"],[0.6666666666666666,\"#ed7953\"],[0.7777777777777778,\"#fb9f3a\"],[0.8888888888888888,\"#fdca26\"],[1.0,\"#f0f921\"]],\"type\":\"contour\"}],\"contourcarpet\":[{\"colorbar\":{\"outlinewidth\":0,\"ticks\":\"\"},\"type\":\"contourcarpet\"}],\"heatmap\":[{\"colorbar\":{\"outlinewidth\":0,\"ticks\":\"\"},\"colorscale\":[[0.0,\"#0d0887\"],[0.1111111111111111,\"#46039f\"],[0.2222222222222222,\"#7201a8\"],[0.3333333333333333,\"#9c179e\"],[0.4444444444444444,\"#bd3786\"],[0.5555555555555556,\"#d8576b\"],[0.6666666666666666,\"#ed7953\"],[0.7777777777777778,\"#fb9f3a\"],[0.8888888888888888,\"#fdca26\"],[1.0,\"#f0f921\"]],\"type\":\"heatmap\"}],\"heatmapgl\":[{\"colorbar\":{\"outlinewidth\":0,\"ticks\":\"\"},\"colorscale\":[[0.0,\"#0d0887\"],[0.1111111111111111,\"#46039f\"],[0.2222222222222222,\"#7201a8\"],[0.3333333333333333,\"#9c179e\"],[0.4444444444444444,\"#bd3786\"],[0.5555555555555556,\"#d8576b\"],[0.6666666666666666,\"#ed7953\"],[0.7777777777777778,\"#fb9f3a\"],[0.8888888888888888,\"#fdca26\"],[1.0,\"#f0f921\"]],\"type\":\"heatmapgl\"}],\"histogram\":[{\"marker\":{\"pattern\":{\"fillmode\":\"overlay\",\"size\":10,\"solidity\":0.2}},\"type\":\"histogram\"}],\"histogram2d\":[{\"colorbar\":{\"outlinewidth\":0,\"ticks\":\"\"},\"colorscale\":[[0.0,\"#0d0887\"],[0.1111111111111111,\"#46039f\"],[0.2222222222222222,\"#7201a8\"],[0.3333333333333333,\"#9c179e\"],[0.4444444444444444,\"#bd3786\"],[0.5555555555555556,\"#d8576b\"],[0.6666666666666666,\"#ed7953\"],[0.7777777777777778,\"#fb9f3a\"],[0.8888888888888888,\"#fdca26\"],[1.0,\"#f0f921\"]],\"type\":\"histogram2d\"}],\"histogram2dcontour\":[{\"colorbar\":{\"outlinewidth\":0,\"ticks\":\"\"},\"colorscale\":[[0.0,\"#0d0887\"],[0.1111111111111111,\"#46039f\"],[0.2222222222222222,\"#7201a8\"],[0.3333333333333333,\"#9c179e\"],[0.4444444444444444,\"#bd3786\"],[0.5555555555555556,\"#d8576b\"],[0.6666666666666666,\"#ed7953\"],[0.7777777777777778,\"#fb9f3a\"],[0.8888888888888888,\"#fdca26\"],[1.0,\"#f0f921\"]],\"type\":\"histogram2dcontour\"}],\"mesh3d\":[{\"colorbar\":{\"outlinewidth\":0,\"ticks\":\"\"},\"type\":\"mesh3d\"}],\"parcoords\":[{\"line\":{\"colorbar\":{\"outlinewidth\":0,\"ticks\":\"\"}},\"type\":\"parcoords\"}],\"pie\":[{\"automargin\":true,\"type\":\"pie\"}],\"scatter\":[{\"marker\":{\"colorbar\":{\"outlinewidth\":0,\"ticks\":\"\"}},\"type\":\"scatter\"}],\"scatter3d\":[{\"line\":{\"colorbar\":{\"outlinewidth\":0,\"ticks\":\"\"}},\"marker\":{\"colorbar\":{\"outlinewidth\":0,\"ticks\":\"\"}},\"type\":\"scatter3d\"}],\"scattercarpet\":[{\"marker\":{\"colorbar\":{\"outlinewidth\":0,\"ticks\":\"\"}},\"type\":\"scattercarpet\"}],\"scattergeo\":[{\"marker\":{\"colorbar\":{\"outlinewidth\":0,\"ticks\":\"\"}},\"type\":\"scattergeo\"}],\"scattergl\":[{\"marker\":{\"colorbar\":{\"outlinewidth\":0,\"ticks\":\"\"}},\"type\":\"scattergl\"}],\"scattermapbox\":[{\"marker\":{\"colorbar\":{\"outlinewidth\":0,\"ticks\":\"\"}},\"type\":\"scattermapbox\"}],\"scatterpolar\":[{\"marker\":{\"colorbar\":{\"outlinewidth\":0,\"ticks\":\"\"}},\"type\":\"scatterpolar\"}],\"scatterpolargl\":[{\"marker\":{\"colorbar\":{\"outlinewidth\":0,\"ticks\":\"\"}},\"type\":\"scatterpolargl\"}],\"scatterternary\":[{\"marker\":{\"colorbar\":{\"outlinewidth\":0,\"ticks\":\"\"}},\"type\":\"scatterternary\"}],\"surface\":[{\"colorbar\":{\"outlinewidth\":0,\"ticks\":\"\"},\"colorscale\":[[0.0,\"#0d0887\"],[0.1111111111111111,\"#46039f\"],[0.2222222222222222,\"#7201a8\"],[0.3333333333333333,\"#9c179e\"],[0.4444444444444444,\"#bd3786\"],[0.5555555555555556,\"#d8576b\"],[0.6666666666666666,\"#ed7953\"],[0.7777777777777778,\"#fb9f3a\"],[0.8888888888888888,\"#fdca26\"],[1.0,\"#f0f921\"]],\"type\":\"surface\"}],\"table\":[{\"cells\":{\"fill\":{\"color\":\"#EBF0F8\"},\"line\":{\"color\":\"white\"}},\"header\":{\"fill\":{\"color\":\"#C8D4E3\"},\"line\":{\"color\":\"white\"}},\"type\":\"table\"}]},\"layout\":{\"annotationdefaults\":{\"arrowcolor\":\"#2a3f5f\",\"arrowhead\":0,\"arrowwidth\":1},\"autotypenumbers\":\"strict\",\"coloraxis\":{\"colorbar\":{\"outlinewidth\":0,\"ticks\":\"\"}},\"colorscale\":{\"diverging\":[[0,\"#8e0152\"],[0.1,\"#c51b7d\"],[0.2,\"#de77ae\"],[0.3,\"#f1b6da\"],[0.4,\"#fde0ef\"],[0.5,\"#f7f7f7\"],[0.6,\"#e6f5d0\"],[0.7,\"#b8e186\"],[0.8,\"#7fbc41\"],[0.9,\"#4d9221\"],[1,\"#276419\"]],\"sequential\":[[0.0,\"#0d0887\"],[0.1111111111111111,\"#46039f\"],[0.2222222222222222,\"#7201a8\"],[0.3333333333333333,\"#9c179e\"],[0.4444444444444444,\"#bd3786\"],[0.5555555555555556,\"#d8576b\"],[0.6666666666666666,\"#ed7953\"],[0.7777777777777778,\"#fb9f3a\"],[0.8888888888888888,\"#fdca26\"],[1.0,\"#f0f921\"]],\"sequentialminus\":[[0.0,\"#0d0887\"],[0.1111111111111111,\"#46039f\"],[0.2222222222222222,\"#7201a8\"],[0.3333333333333333,\"#9c179e\"],[0.4444444444444444,\"#bd3786\"],[0.5555555555555556,\"#d8576b\"],[0.6666666666666666,\"#ed7953\"],[0.7777777777777778,\"#fb9f3a\"],[0.8888888888888888,\"#fdca26\"],[1.0,\"#f0f921\"]]},\"colorway\":[\"#636efa\",\"#EF553B\",\"#00cc96\",\"#ab63fa\",\"#FFA15A\",\"#19d3f3\",\"#FF6692\",\"#B6E880\",\"#FF97FF\",\"#FECB52\"],\"font\":{\"color\":\"#2a3f5f\"},\"geo\":{\"bgcolor\":\"white\",\"lakecolor\":\"white\",\"landcolor\":\"#E5ECF6\",\"showlakes\":true,\"showland\":true,\"subunitcolor\":\"white\"},\"hoverlabel\":{\"align\":\"left\"},\"hovermode\":\"closest\",\"mapbox\":{\"style\":\"light\"},\"paper_bgcolor\":\"white\",\"plot_bgcolor\":\"#E5ECF6\",\"polar\":{\"angularaxis\":{\"gridcolor\":\"white\",\"linecolor\":\"white\",\"ticks\":\"\"},\"bgcolor\":\"#E5ECF6\",\"radialaxis\":{\"gridcolor\":\"white\",\"linecolor\":\"white\",\"ticks\":\"\"}},\"scene\":{\"xaxis\":{\"backgroundcolor\":\"#E5ECF6\",\"gridcolor\":\"white\",\"gridwidth\":2,\"linecolor\":\"white\",\"showbackground\":true,\"ticks\":\"\",\"zerolinecolor\":\"white\"},\"yaxis\":{\"backgroundcolor\":\"#E5ECF6\",\"gridcolor\":\"white\",\"gridwidth\":2,\"linecolor\":\"white\",\"showbackground\":true,\"ticks\":\"\",\"zerolinecolor\":\"white\"},\"zaxis\":{\"backgroundcolor\":\"#E5ECF6\",\"gridcolor\":\"white\",\"gridwidth\":2,\"linecolor\":\"white\",\"showbackground\":true,\"ticks\":\"\",\"zerolinecolor\":\"white\"}},\"shapedefaults\":{\"line\":{\"color\":\"#2a3f5f\"}},\"ternary\":{\"aaxis\":{\"gridcolor\":\"white\",\"linecolor\":\"white\",\"ticks\":\"\"},\"baxis\":{\"gridcolor\":\"white\",\"linecolor\":\"white\",\"ticks\":\"\"},\"bgcolor\":\"#E5ECF6\",\"caxis\":{\"gridcolor\":\"white\",\"linecolor\":\"white\",\"ticks\":\"\"}},\"title\":{\"x\":0.05},\"xaxis\":{\"automargin\":true,\"gridcolor\":\"white\",\"linecolor\":\"white\",\"ticks\":\"\",\"title\":{\"standoff\":15},\"zerolinecolor\":\"white\",\"zerolinewidth\":2},\"yaxis\":{\"automargin\":true,\"gridcolor\":\"white\",\"linecolor\":\"white\",\"ticks\":\"\",\"title\":{\"standoff\":15},\"zerolinecolor\":\"white\",\"zerolinewidth\":2}}},\"title\":{\"text\":\"Movies\"},\"width\":1000},                        {\"responsive\": true}                    ).then(function(){\n",
       "                            \n",
       "var gd = document.getElementById('817b598a-f03d-402f-8192-53ab4e697db5');\n",
       "var x = new MutationObserver(function (mutations, observer) {{\n",
       "        var display = window.getComputedStyle(gd).display;\n",
       "        if (!display || display === 'none') {{\n",
       "            console.log([gd, 'removed!']);\n",
       "            Plotly.purge(gd);\n",
       "            observer.disconnect();\n",
       "        }}\n",
       "}});\n",
       "\n",
       "// Listen for the removal of the full notebook cells\n",
       "var notebookContainer = gd.closest('#notebook-container');\n",
       "if (notebookContainer) {{\n",
       "    x.observe(notebookContainer, {childList: true});\n",
       "}}\n",
       "\n",
       "// Listen for the clearing of the current output cell\n",
       "var outputEl = gd.closest('.output');\n",
       "if (outputEl) {{\n",
       "    x.observe(outputEl, {childList: true});\n",
       "}}\n",
       "\n",
       "                        })                };                });            </script>        </div>"
      ]
     },
     "metadata": {},
     "output_type": "display_data"
    }
   ],
   "source": [
    "index_vals = df['Genre'].astype('category').cat.codes\n",
    "\n",
    "fig = go.Figure(data=go.Splom(\n",
    "                dimensions=[dict(label='Audience  score %',\n",
    "                                 values=df['Audience  score %']),\n",
    "                            dict(label='Profitability',\n",
    "                                 values=df['Profitability']),\n",
    "                            dict(label='Rotten Tomatoes %',\n",
    "                                 values=df['Rotten Tomatoes %']),\n",
    "                            dict(label='Worldwide Gross',\n",
    "                                 values=df['Worldwide Gross'])],\n",
    "                showupperhalf=False, \n",
    "                text=df['Film'],\n",
    "                marker=dict(color=index_vals,\n",
    "                            showscale=False, # colors encode categorical variables\n",
    "                            line_color='white', line_width=0.5)\n",
    "                ))\n",
    "\n",
    "\n",
    "fig.update_layout(\n",
    "    title='Movies',\n",
    "    width=1000,\n",
    "    height=1000,\n",
    ")\n",
    "\n",
    "fig.show()"
   ]
  },
  {
   "cell_type": "markdown",
   "id": "4e7a7678",
   "metadata": {
    "papermill": {
     "duration": 0.06742,
     "end_time": "2021-07-21T08:12:17.007490",
     "exception": false,
     "start_time": "2021-07-21T08:12:16.940070",
     "status": "completed"
    },
    "tags": []
   },
   "source": [
    "Based on the results:\n",
    "- There is positive but not so strong relationship (.60) between Audience Score and Rotten Tomatoes\n",
    "- Also there is positive but weak (.395) relationship between Audience Score and the Worldwide Gross."
   ]
  },
  {
   "cell_type": "markdown",
   "id": "5f2736b8",
   "metadata": {
    "papermill": {
     "duration": 0.067399,
     "end_time": "2021-07-21T08:12:17.143851",
     "exception": false,
     "start_time": "2021-07-21T08:12:17.076452",
     "status": "completed"
    },
    "tags": []
   },
   "source": [
    "- After getting overall picture about the data, we can go into more details."
   ]
  },
  {
   "cell_type": "code",
   "execution_count": 28,
   "id": "d0d7e6e9",
   "metadata": {
    "_kg_hide-input": true,
    "execution": {
     "iopub.execute_input": "2021-07-21T08:12:17.297429Z",
     "iopub.status.busy": "2021-07-21T08:12:17.286171Z",
     "iopub.status.idle": "2021-07-21T08:12:17.302458Z",
     "shell.execute_reply": "2021-07-21T08:12:17.301942Z",
     "shell.execute_reply.started": "2021-07-09T20:49:13.005251Z"
    },
    "papermill": {
     "duration": 0.091403,
     "end_time": "2021-07-21T08:12:17.302613",
     "exception": false,
     "start_time": "2021-07-21T08:12:17.211210",
     "status": "completed"
    },
    "tags": []
   },
   "outputs": [
    {
     "data": {
      "text/html": [
       "<div>\n",
       "<style scoped>\n",
       "    .dataframe tbody tr th:only-of-type {\n",
       "        vertical-align: middle;\n",
       "    }\n",
       "\n",
       "    .dataframe tbody tr th {\n",
       "        vertical-align: top;\n",
       "    }\n",
       "\n",
       "    .dataframe thead th {\n",
       "        text-align: right;\n",
       "    }\n",
       "</style>\n",
       "<table border=\"1\" class=\"dataframe\">\n",
       "  <thead>\n",
       "    <tr style=\"text-align: right;\">\n",
       "      <th></th>\n",
       "      <th>Year</th>\n",
       "      <th>Genre count</th>\n",
       "    </tr>\n",
       "    <tr>\n",
       "      <th>Genre</th>\n",
       "      <th></th>\n",
       "      <th></th>\n",
       "    </tr>\n",
       "  </thead>\n",
       "  <tbody>\n",
       "    <tr>\n",
       "      <th>Comedy</th>\n",
       "      <td>2007</td>\n",
       "      <td>6</td>\n",
       "    </tr>\n",
       "    <tr>\n",
       "      <th>Romance</th>\n",
       "      <td>2007</td>\n",
       "      <td>5</td>\n",
       "    </tr>\n",
       "    <tr>\n",
       "      <th>Comedy</th>\n",
       "      <td>2008</td>\n",
       "      <td>12</td>\n",
       "    </tr>\n",
       "    <tr>\n",
       "      <th>Drama</th>\n",
       "      <td>2008</td>\n",
       "      <td>3</td>\n",
       "    </tr>\n",
       "    <tr>\n",
       "      <th>Romance</th>\n",
       "      <td>2008</td>\n",
       "      <td>2</td>\n",
       "    </tr>\n",
       "    <tr>\n",
       "      <th>Animation</th>\n",
       "      <td>2008</td>\n",
       "      <td>1</td>\n",
       "    </tr>\n",
       "    <tr>\n",
       "      <th>Fantasy</th>\n",
       "      <td>2008</td>\n",
       "      <td>1</td>\n",
       "    </tr>\n",
       "    <tr>\n",
       "      <th>Comedy</th>\n",
       "      <td>2009</td>\n",
       "      <td>7</td>\n",
       "    </tr>\n",
       "    <tr>\n",
       "      <th>Drama</th>\n",
       "      <td>2009</td>\n",
       "      <td>5</td>\n",
       "    </tr>\n",
       "    <tr>\n",
       "      <th>Comedy</th>\n",
       "      <td>2010</td>\n",
       "      <td>15</td>\n",
       "    </tr>\n",
       "    <tr>\n",
       "      <th>Drama</th>\n",
       "      <td>2010</td>\n",
       "      <td>2</td>\n",
       "    </tr>\n",
       "    <tr>\n",
       "      <th>Action</th>\n",
       "      <td>2010</td>\n",
       "      <td>1</td>\n",
       "    </tr>\n",
       "    <tr>\n",
       "      <th>Animation</th>\n",
       "      <td>2010</td>\n",
       "      <td>1</td>\n",
       "    </tr>\n",
       "    <tr>\n",
       "      <th>Romance</th>\n",
       "      <td>2011</td>\n",
       "      <td>8</td>\n",
       "    </tr>\n",
       "    <tr>\n",
       "      <th>Drama</th>\n",
       "      <td>2011</td>\n",
       "      <td>3</td>\n",
       "    </tr>\n",
       "    <tr>\n",
       "      <th>Animation</th>\n",
       "      <td>2011</td>\n",
       "      <td>1</td>\n",
       "    </tr>\n",
       "    <tr>\n",
       "      <th>Comedy</th>\n",
       "      <td>2011</td>\n",
       "      <td>1</td>\n",
       "    </tr>\n",
       "  </tbody>\n",
       "</table>\n",
       "</div>"
      ],
      "text/plain": [
       "           Year  Genre count\n",
       "Genre                       \n",
       "Comedy     2007            6\n",
       "Romance    2007            5\n",
       "Comedy     2008           12\n",
       "Drama      2008            3\n",
       "Romance    2008            2\n",
       "Animation  2008            1\n",
       "Fantasy    2008            1\n",
       "Comedy     2009            7\n",
       "Drama      2009            5\n",
       "Comedy     2010           15\n",
       "Drama      2010            2\n",
       "Action     2010            1\n",
       "Animation  2010            1\n",
       "Romance    2011            8\n",
       "Drama      2011            3\n",
       "Animation  2011            1\n",
       "Comedy     2011            1"
      ]
     },
     "execution_count": 28,
     "metadata": {},
     "output_type": "execute_result"
    }
   ],
   "source": [
    "genre_by_year = df.groupby('Year')['Genre'].value_counts().reset_index(level=0).rename(columns={'Genre': 'Genre count'}, index={'index': 'Genre'})\n",
    "genre_by_year"
   ]
  },
  {
   "cell_type": "code",
   "execution_count": 29,
   "id": "f8b5ab0c",
   "metadata": {
    "_kg_hide-input": true,
    "execution": {
     "iopub.execute_input": "2021-07-21T08:12:17.444079Z",
     "iopub.status.busy": "2021-07-21T08:12:17.443401Z",
     "iopub.status.idle": "2021-07-21T08:12:17.555848Z",
     "shell.execute_reply": "2021-07-21T08:12:17.556332Z",
     "shell.execute_reply.started": "2021-07-09T20:49:13.026061Z"
    },
    "papermill": {
     "duration": 0.185748,
     "end_time": "2021-07-21T08:12:17.556510",
     "exception": false,
     "start_time": "2021-07-21T08:12:17.370762",
     "status": "completed"
    },
    "tags": []
   },
   "outputs": [
    {
     "data": {
      "text/html": [
       "<div>                            <div id=\"3aeca3a5-7d4d-403e-b3dc-b18322e847d1\" class=\"plotly-graph-div\" style=\"height:525px; width:100%;\"></div>            <script type=\"text/javascript\">                require([\"plotly\"], function(Plotly) {                    window.PLOTLYENV=window.PLOTLYENV || {};                                    if (document.getElementById(\"3aeca3a5-7d4d-403e-b3dc-b18322e847d1\")) {                    Plotly.newPlot(                        \"3aeca3a5-7d4d-403e-b3dc-b18322e847d1\",                        [{\"hovertemplate\":\"Genre=Comedy<br>Year=%{x}<br>Genre count=%{y}<extra></extra>\",\"legendgroup\":\"Comedy\",\"line\":{\"color\":\"#636efa\",\"dash\":\"solid\"},\"mode\":\"lines\",\"name\":\"Comedy\",\"orientation\":\"v\",\"showlegend\":true,\"type\":\"scatter\",\"x\":[2007,2008,2009,2010,2011],\"xaxis\":\"x\",\"y\":[6,12,7,15,1],\"yaxis\":\"y\"},{\"hovertemplate\":\"Genre=Romance<br>Year=%{x}<br>Genre count=%{y}<extra></extra>\",\"legendgroup\":\"Romance\",\"line\":{\"color\":\"#EF553B\",\"dash\":\"solid\"},\"mode\":\"lines\",\"name\":\"Romance\",\"orientation\":\"v\",\"showlegend\":true,\"type\":\"scatter\",\"x\":[2007,2008,2011],\"xaxis\":\"x\",\"y\":[5,2,8],\"yaxis\":\"y\"},{\"hovertemplate\":\"Genre=Drama<br>Year=%{x}<br>Genre count=%{y}<extra></extra>\",\"legendgroup\":\"Drama\",\"line\":{\"color\":\"#00cc96\",\"dash\":\"solid\"},\"mode\":\"lines\",\"name\":\"Drama\",\"orientation\":\"v\",\"showlegend\":true,\"type\":\"scatter\",\"x\":[2008,2009,2010,2011],\"xaxis\":\"x\",\"y\":[3,5,2,3],\"yaxis\":\"y\"},{\"hovertemplate\":\"Genre=Animation<br>Year=%{x}<br>Genre count=%{y}<extra></extra>\",\"legendgroup\":\"Animation\",\"line\":{\"color\":\"#ab63fa\",\"dash\":\"solid\"},\"mode\":\"lines\",\"name\":\"Animation\",\"orientation\":\"v\",\"showlegend\":true,\"type\":\"scatter\",\"x\":[2008,2010,2011],\"xaxis\":\"x\",\"y\":[1,1,1],\"yaxis\":\"y\"},{\"hovertemplate\":\"Genre=Fantasy<br>Year=%{x}<br>Genre count=%{y}<extra></extra>\",\"legendgroup\":\"Fantasy\",\"line\":{\"color\":\"#FFA15A\",\"dash\":\"solid\"},\"mode\":\"lines\",\"name\":\"Fantasy\",\"orientation\":\"v\",\"showlegend\":true,\"type\":\"scatter\",\"x\":[2008],\"xaxis\":\"x\",\"y\":[1],\"yaxis\":\"y\"},{\"hovertemplate\":\"Genre=Action<br>Year=%{x}<br>Genre count=%{y}<extra></extra>\",\"legendgroup\":\"Action\",\"line\":{\"color\":\"#19d3f3\",\"dash\":\"solid\"},\"mode\":\"lines\",\"name\":\"Action\",\"orientation\":\"v\",\"showlegend\":true,\"type\":\"scatter\",\"x\":[2010],\"xaxis\":\"x\",\"y\":[1],\"yaxis\":\"y\"}],                        {\"legend\":{\"title\":{\"text\":\"Genre\"},\"tracegroupgap\":0},\"template\":{\"data\":{\"bar\":[{\"error_x\":{\"color\":\"#2a3f5f\"},\"error_y\":{\"color\":\"#2a3f5f\"},\"marker\":{\"line\":{\"color\":\"#E5ECF6\",\"width\":0.5},\"pattern\":{\"fillmode\":\"overlay\",\"size\":10,\"solidity\":0.2}},\"type\":\"bar\"}],\"barpolar\":[{\"marker\":{\"line\":{\"color\":\"#E5ECF6\",\"width\":0.5},\"pattern\":{\"fillmode\":\"overlay\",\"size\":10,\"solidity\":0.2}},\"type\":\"barpolar\"}],\"carpet\":[{\"aaxis\":{\"endlinecolor\":\"#2a3f5f\",\"gridcolor\":\"white\",\"linecolor\":\"white\",\"minorgridcolor\":\"white\",\"startlinecolor\":\"#2a3f5f\"},\"baxis\":{\"endlinecolor\":\"#2a3f5f\",\"gridcolor\":\"white\",\"linecolor\":\"white\",\"minorgridcolor\":\"white\",\"startlinecolor\":\"#2a3f5f\"},\"type\":\"carpet\"}],\"choropleth\":[{\"colorbar\":{\"outlinewidth\":0,\"ticks\":\"\"},\"type\":\"choropleth\"}],\"contour\":[{\"colorbar\":{\"outlinewidth\":0,\"ticks\":\"\"},\"colorscale\":[[0.0,\"#0d0887\"],[0.1111111111111111,\"#46039f\"],[0.2222222222222222,\"#7201a8\"],[0.3333333333333333,\"#9c179e\"],[0.4444444444444444,\"#bd3786\"],[0.5555555555555556,\"#d8576b\"],[0.6666666666666666,\"#ed7953\"],[0.7777777777777778,\"#fb9f3a\"],[0.8888888888888888,\"#fdca26\"],[1.0,\"#f0f921\"]],\"type\":\"contour\"}],\"contourcarpet\":[{\"colorbar\":{\"outlinewidth\":0,\"ticks\":\"\"},\"type\":\"contourcarpet\"}],\"heatmap\":[{\"colorbar\":{\"outlinewidth\":0,\"ticks\":\"\"},\"colorscale\":[[0.0,\"#0d0887\"],[0.1111111111111111,\"#46039f\"],[0.2222222222222222,\"#7201a8\"],[0.3333333333333333,\"#9c179e\"],[0.4444444444444444,\"#bd3786\"],[0.5555555555555556,\"#d8576b\"],[0.6666666666666666,\"#ed7953\"],[0.7777777777777778,\"#fb9f3a\"],[0.8888888888888888,\"#fdca26\"],[1.0,\"#f0f921\"]],\"type\":\"heatmap\"}],\"heatmapgl\":[{\"colorbar\":{\"outlinewidth\":0,\"ticks\":\"\"},\"colorscale\":[[0.0,\"#0d0887\"],[0.1111111111111111,\"#46039f\"],[0.2222222222222222,\"#7201a8\"],[0.3333333333333333,\"#9c179e\"],[0.4444444444444444,\"#bd3786\"],[0.5555555555555556,\"#d8576b\"],[0.6666666666666666,\"#ed7953\"],[0.7777777777777778,\"#fb9f3a\"],[0.8888888888888888,\"#fdca26\"],[1.0,\"#f0f921\"]],\"type\":\"heatmapgl\"}],\"histogram\":[{\"marker\":{\"pattern\":{\"fillmode\":\"overlay\",\"size\":10,\"solidity\":0.2}},\"type\":\"histogram\"}],\"histogram2d\":[{\"colorbar\":{\"outlinewidth\":0,\"ticks\":\"\"},\"colorscale\":[[0.0,\"#0d0887\"],[0.1111111111111111,\"#46039f\"],[0.2222222222222222,\"#7201a8\"],[0.3333333333333333,\"#9c179e\"],[0.4444444444444444,\"#bd3786\"],[0.5555555555555556,\"#d8576b\"],[0.6666666666666666,\"#ed7953\"],[0.7777777777777778,\"#fb9f3a\"],[0.8888888888888888,\"#fdca26\"],[1.0,\"#f0f921\"]],\"type\":\"histogram2d\"}],\"histogram2dcontour\":[{\"colorbar\":{\"outlinewidth\":0,\"ticks\":\"\"},\"colorscale\":[[0.0,\"#0d0887\"],[0.1111111111111111,\"#46039f\"],[0.2222222222222222,\"#7201a8\"],[0.3333333333333333,\"#9c179e\"],[0.4444444444444444,\"#bd3786\"],[0.5555555555555556,\"#d8576b\"],[0.6666666666666666,\"#ed7953\"],[0.7777777777777778,\"#fb9f3a\"],[0.8888888888888888,\"#fdca26\"],[1.0,\"#f0f921\"]],\"type\":\"histogram2dcontour\"}],\"mesh3d\":[{\"colorbar\":{\"outlinewidth\":0,\"ticks\":\"\"},\"type\":\"mesh3d\"}],\"parcoords\":[{\"line\":{\"colorbar\":{\"outlinewidth\":0,\"ticks\":\"\"}},\"type\":\"parcoords\"}],\"pie\":[{\"automargin\":true,\"type\":\"pie\"}],\"scatter\":[{\"marker\":{\"colorbar\":{\"outlinewidth\":0,\"ticks\":\"\"}},\"type\":\"scatter\"}],\"scatter3d\":[{\"line\":{\"colorbar\":{\"outlinewidth\":0,\"ticks\":\"\"}},\"marker\":{\"colorbar\":{\"outlinewidth\":0,\"ticks\":\"\"}},\"type\":\"scatter3d\"}],\"scattercarpet\":[{\"marker\":{\"colorbar\":{\"outlinewidth\":0,\"ticks\":\"\"}},\"type\":\"scattercarpet\"}],\"scattergeo\":[{\"marker\":{\"colorbar\":{\"outlinewidth\":0,\"ticks\":\"\"}},\"type\":\"scattergeo\"}],\"scattergl\":[{\"marker\":{\"colorbar\":{\"outlinewidth\":0,\"ticks\":\"\"}},\"type\":\"scattergl\"}],\"scattermapbox\":[{\"marker\":{\"colorbar\":{\"outlinewidth\":0,\"ticks\":\"\"}},\"type\":\"scattermapbox\"}],\"scatterpolar\":[{\"marker\":{\"colorbar\":{\"outlinewidth\":0,\"ticks\":\"\"}},\"type\":\"scatterpolar\"}],\"scatterpolargl\":[{\"marker\":{\"colorbar\":{\"outlinewidth\":0,\"ticks\":\"\"}},\"type\":\"scatterpolargl\"}],\"scatterternary\":[{\"marker\":{\"colorbar\":{\"outlinewidth\":0,\"ticks\":\"\"}},\"type\":\"scatterternary\"}],\"surface\":[{\"colorbar\":{\"outlinewidth\":0,\"ticks\":\"\"},\"colorscale\":[[0.0,\"#0d0887\"],[0.1111111111111111,\"#46039f\"],[0.2222222222222222,\"#7201a8\"],[0.3333333333333333,\"#9c179e\"],[0.4444444444444444,\"#bd3786\"],[0.5555555555555556,\"#d8576b\"],[0.6666666666666666,\"#ed7953\"],[0.7777777777777778,\"#fb9f3a\"],[0.8888888888888888,\"#fdca26\"],[1.0,\"#f0f921\"]],\"type\":\"surface\"}],\"table\":[{\"cells\":{\"fill\":{\"color\":\"#EBF0F8\"},\"line\":{\"color\":\"white\"}},\"header\":{\"fill\":{\"color\":\"#C8D4E3\"},\"line\":{\"color\":\"white\"}},\"type\":\"table\"}]},\"layout\":{\"annotationdefaults\":{\"arrowcolor\":\"#2a3f5f\",\"arrowhead\":0,\"arrowwidth\":1},\"autotypenumbers\":\"strict\",\"coloraxis\":{\"colorbar\":{\"outlinewidth\":0,\"ticks\":\"\"}},\"colorscale\":{\"diverging\":[[0,\"#8e0152\"],[0.1,\"#c51b7d\"],[0.2,\"#de77ae\"],[0.3,\"#f1b6da\"],[0.4,\"#fde0ef\"],[0.5,\"#f7f7f7\"],[0.6,\"#e6f5d0\"],[0.7,\"#b8e186\"],[0.8,\"#7fbc41\"],[0.9,\"#4d9221\"],[1,\"#276419\"]],\"sequential\":[[0.0,\"#0d0887\"],[0.1111111111111111,\"#46039f\"],[0.2222222222222222,\"#7201a8\"],[0.3333333333333333,\"#9c179e\"],[0.4444444444444444,\"#bd3786\"],[0.5555555555555556,\"#d8576b\"],[0.6666666666666666,\"#ed7953\"],[0.7777777777777778,\"#fb9f3a\"],[0.8888888888888888,\"#fdca26\"],[1.0,\"#f0f921\"]],\"sequentialminus\":[[0.0,\"#0d0887\"],[0.1111111111111111,\"#46039f\"],[0.2222222222222222,\"#7201a8\"],[0.3333333333333333,\"#9c179e\"],[0.4444444444444444,\"#bd3786\"],[0.5555555555555556,\"#d8576b\"],[0.6666666666666666,\"#ed7953\"],[0.7777777777777778,\"#fb9f3a\"],[0.8888888888888888,\"#fdca26\"],[1.0,\"#f0f921\"]]},\"colorway\":[\"#636efa\",\"#EF553B\",\"#00cc96\",\"#ab63fa\",\"#FFA15A\",\"#19d3f3\",\"#FF6692\",\"#B6E880\",\"#FF97FF\",\"#FECB52\"],\"font\":{\"color\":\"#2a3f5f\"},\"geo\":{\"bgcolor\":\"white\",\"lakecolor\":\"white\",\"landcolor\":\"#E5ECF6\",\"showlakes\":true,\"showland\":true,\"subunitcolor\":\"white\"},\"hoverlabel\":{\"align\":\"left\"},\"hovermode\":\"closest\",\"mapbox\":{\"style\":\"light\"},\"paper_bgcolor\":\"white\",\"plot_bgcolor\":\"#E5ECF6\",\"polar\":{\"angularaxis\":{\"gridcolor\":\"white\",\"linecolor\":\"white\",\"ticks\":\"\"},\"bgcolor\":\"#E5ECF6\",\"radialaxis\":{\"gridcolor\":\"white\",\"linecolor\":\"white\",\"ticks\":\"\"}},\"scene\":{\"xaxis\":{\"backgroundcolor\":\"#E5ECF6\",\"gridcolor\":\"white\",\"gridwidth\":2,\"linecolor\":\"white\",\"showbackground\":true,\"ticks\":\"\",\"zerolinecolor\":\"white\"},\"yaxis\":{\"backgroundcolor\":\"#E5ECF6\",\"gridcolor\":\"white\",\"gridwidth\":2,\"linecolor\":\"white\",\"showbackground\":true,\"ticks\":\"\",\"zerolinecolor\":\"white\"},\"zaxis\":{\"backgroundcolor\":\"#E5ECF6\",\"gridcolor\":\"white\",\"gridwidth\":2,\"linecolor\":\"white\",\"showbackground\":true,\"ticks\":\"\",\"zerolinecolor\":\"white\"}},\"shapedefaults\":{\"line\":{\"color\":\"#2a3f5f\"}},\"ternary\":{\"aaxis\":{\"gridcolor\":\"white\",\"linecolor\":\"white\",\"ticks\":\"\"},\"baxis\":{\"gridcolor\":\"white\",\"linecolor\":\"white\",\"ticks\":\"\"},\"bgcolor\":\"#E5ECF6\",\"caxis\":{\"gridcolor\":\"white\",\"linecolor\":\"white\",\"ticks\":\"\"}},\"title\":{\"x\":0.05},\"xaxis\":{\"automargin\":true,\"gridcolor\":\"white\",\"linecolor\":\"white\",\"ticks\":\"\",\"title\":{\"standoff\":15},\"zerolinecolor\":\"white\",\"zerolinewidth\":2},\"yaxis\":{\"automargin\":true,\"gridcolor\":\"white\",\"linecolor\":\"white\",\"ticks\":\"\",\"title\":{\"standoff\":15},\"zerolinecolor\":\"white\",\"zerolinewidth\":2}}},\"title\":{\"text\":\"Movies By Genre in Each Year\"},\"xaxis\":{\"anchor\":\"y\",\"domain\":[0.0,1.0],\"title\":{\"text\":\"Year\"}},\"yaxis\":{\"anchor\":\"x\",\"domain\":[0.0,1.0],\"title\":{\"text\":\"Genre count\"}}},                        {\"responsive\": true}                    ).then(function(){\n",
       "                            \n",
       "var gd = document.getElementById('3aeca3a5-7d4d-403e-b3dc-b18322e847d1');\n",
       "var x = new MutationObserver(function (mutations, observer) {{\n",
       "        var display = window.getComputedStyle(gd).display;\n",
       "        if (!display || display === 'none') {{\n",
       "            console.log([gd, 'removed!']);\n",
       "            Plotly.purge(gd);\n",
       "            observer.disconnect();\n",
       "        }}\n",
       "}});\n",
       "\n",
       "// Listen for the removal of the full notebook cells\n",
       "var notebookContainer = gd.closest('#notebook-container');\n",
       "if (notebookContainer) {{\n",
       "    x.observe(notebookContainer, {childList: true});\n",
       "}}\n",
       "\n",
       "// Listen for the clearing of the current output cell\n",
       "var outputEl = gd.closest('.output');\n",
       "if (outputEl) {{\n",
       "    x.observe(outputEl, {childList: true});\n",
       "}}\n",
       "\n",
       "                        })                };                });            </script>        </div>"
      ]
     },
     "metadata": {},
     "output_type": "display_data"
    }
   ],
   "source": [
    "fig = px.line(genre_by_year, x='Year', y='Genre count', color= genre_by_year.index, title='Movies By Genre in Each Year')\n",
    "fig.show()"
   ]
  },
  {
   "cell_type": "markdown",
   "id": "1d1eedad",
   "metadata": {
    "papermill": {
     "duration": 0.069134,
     "end_time": "2021-07-21T08:12:17.694261",
     "exception": false,
     "start_time": "2021-07-21T08:12:17.625127",
     "status": "completed"
    },
    "tags": []
   },
   "source": [
    "- From the line plot we can see that Movies in the Comedy and Drama genres do not have consistency by year\n",
    "- Movies in Romance genre, increased significantly after 2008 \n",
    "- Animation movies are stable in count by year. "
   ]
  },
  {
   "cell_type": "markdown",
   "id": "226c1872",
   "metadata": {
    "papermill": {
     "duration": 0.068026,
     "end_time": "2021-07-21T08:12:17.830619",
     "exception": false,
     "start_time": "2021-07-21T08:12:17.762593",
     "status": "completed"
    },
    "tags": []
   },
   "source": [
    "### Profitability by Year"
   ]
  },
  {
   "cell_type": "code",
   "execution_count": 30,
   "id": "c9814a73",
   "metadata": {
    "_kg_hide-input": true,
    "execution": {
     "iopub.execute_input": "2021-07-21T08:12:17.971031Z",
     "iopub.status.busy": "2021-07-21T08:12:17.970392Z",
     "iopub.status.idle": "2021-07-21T08:12:18.036931Z",
     "shell.execute_reply": "2021-07-21T08:12:18.037432Z",
     "shell.execute_reply.started": "2021-07-09T20:49:13.136325Z"
    },
    "papermill": {
     "duration": 0.137977,
     "end_time": "2021-07-21T08:12:18.037607",
     "exception": false,
     "start_time": "2021-07-21T08:12:17.899630",
     "status": "completed"
    },
    "tags": []
   },
   "outputs": [
    {
     "data": {
      "text/html": [
       "<div>                            <div id=\"0bdd53af-8ee3-4418-a8e8-d2999d701c43\" class=\"plotly-graph-div\" style=\"height:525px; width:100%;\"></div>            <script type=\"text/javascript\">                require([\"plotly\"], function(Plotly) {                    window.PLOTLYENV=window.PLOTLYENV || {};                                    if (document.getElementById(\"0bdd53af-8ee3-4418-a8e8-d2999d701c43\")) {                    Plotly.newPlot(                        \"0bdd53af-8ee3-4418-a8e8-d2999d701c43\",                        [{\"hovertemplate\":\"Year=%{x}<br>Profitability=%{y}<extra></extra>\",\"legendgroup\":\"\",\"marker\":{\"color\":\"#636efa\",\"symbol\":\"circle\"},\"mode\":\"markers\",\"name\":\"\",\"orientation\":\"v\",\"showlegend\":false,\"type\":\"scatter\",\"x\":[2008,2009,2011,2009,2007,2011,2010,2007,2008,2008,2009,2011,2010,2007,2009,2008,2010,2009,2011,2010,2010,2007,2010,2010,2007,2010,2010,2009,2008,2008,2008,2011,2008,2011,2007,2011,2011,2008,2007,2009,2011,2010,2008,2007,2008,2008,2010,2008,2010,2010,2011,2010,2010,2008,2008,2007,2009,2009,2009,2009,2009,2008,2011,2007,2010,2011,2007,2008,2011,2008,2010,2010,2010,2008],\"xaxis\":\"x\",\"y\":[5.3436218,8.096,0.44864475,4.382857143,0.652603178,4.471875,4.5988,4.005737082,66.934,2.022925,2.0444,5.387972222,1.3140625,2.36768512,7.1536,22.91313646,1.34,2.642352941,null,1.797416667,1.245333333,6.636401848,1.715263158,2.639333333,1.9802064,2.530526316,1.817666667,2.004444444,2.64906835,9.234453864,3.746781818,8.744705882,0.2528949,1.9832,3.64741055,0.8258,2.536428571,3.3527293,3.307180357,2.14,3.682733333,null,2.071,5.103116833,1.382799733,1.384166667,3.49125,7.221795791,2.8835,2.4405,1.719514286,1.365692308,2.202571429,1.78394375,3.207850222,2.129444167,1.751351351,7.8675,2.598205128,14.1964,5.402631579,10.18002703,6.383363636,3.7241924,4.184038462,0.005,11.0897415,2.896019067,3.081421053,6.267647029,null,1.211818182,1.09,1.747541667],\"yaxis\":\"y\"}],                        {\"legend\":{\"tracegroupgap\":0},\"template\":{\"data\":{\"bar\":[{\"error_x\":{\"color\":\"#2a3f5f\"},\"error_y\":{\"color\":\"#2a3f5f\"},\"marker\":{\"line\":{\"color\":\"#E5ECF6\",\"width\":0.5},\"pattern\":{\"fillmode\":\"overlay\",\"size\":10,\"solidity\":0.2}},\"type\":\"bar\"}],\"barpolar\":[{\"marker\":{\"line\":{\"color\":\"#E5ECF6\",\"width\":0.5},\"pattern\":{\"fillmode\":\"overlay\",\"size\":10,\"solidity\":0.2}},\"type\":\"barpolar\"}],\"carpet\":[{\"aaxis\":{\"endlinecolor\":\"#2a3f5f\",\"gridcolor\":\"white\",\"linecolor\":\"white\",\"minorgridcolor\":\"white\",\"startlinecolor\":\"#2a3f5f\"},\"baxis\":{\"endlinecolor\":\"#2a3f5f\",\"gridcolor\":\"white\",\"linecolor\":\"white\",\"minorgridcolor\":\"white\",\"startlinecolor\":\"#2a3f5f\"},\"type\":\"carpet\"}],\"choropleth\":[{\"colorbar\":{\"outlinewidth\":0,\"ticks\":\"\"},\"type\":\"choropleth\"}],\"contour\":[{\"colorbar\":{\"outlinewidth\":0,\"ticks\":\"\"},\"colorscale\":[[0.0,\"#0d0887\"],[0.1111111111111111,\"#46039f\"],[0.2222222222222222,\"#7201a8\"],[0.3333333333333333,\"#9c179e\"],[0.4444444444444444,\"#bd3786\"],[0.5555555555555556,\"#d8576b\"],[0.6666666666666666,\"#ed7953\"],[0.7777777777777778,\"#fb9f3a\"],[0.8888888888888888,\"#fdca26\"],[1.0,\"#f0f921\"]],\"type\":\"contour\"}],\"contourcarpet\":[{\"colorbar\":{\"outlinewidth\":0,\"ticks\":\"\"},\"type\":\"contourcarpet\"}],\"heatmap\":[{\"colorbar\":{\"outlinewidth\":0,\"ticks\":\"\"},\"colorscale\":[[0.0,\"#0d0887\"],[0.1111111111111111,\"#46039f\"],[0.2222222222222222,\"#7201a8\"],[0.3333333333333333,\"#9c179e\"],[0.4444444444444444,\"#bd3786\"],[0.5555555555555556,\"#d8576b\"],[0.6666666666666666,\"#ed7953\"],[0.7777777777777778,\"#fb9f3a\"],[0.8888888888888888,\"#fdca26\"],[1.0,\"#f0f921\"]],\"type\":\"heatmap\"}],\"heatmapgl\":[{\"colorbar\":{\"outlinewidth\":0,\"ticks\":\"\"},\"colorscale\":[[0.0,\"#0d0887\"],[0.1111111111111111,\"#46039f\"],[0.2222222222222222,\"#7201a8\"],[0.3333333333333333,\"#9c179e\"],[0.4444444444444444,\"#bd3786\"],[0.5555555555555556,\"#d8576b\"],[0.6666666666666666,\"#ed7953\"],[0.7777777777777778,\"#fb9f3a\"],[0.8888888888888888,\"#fdca26\"],[1.0,\"#f0f921\"]],\"type\":\"heatmapgl\"}],\"histogram\":[{\"marker\":{\"pattern\":{\"fillmode\":\"overlay\",\"size\":10,\"solidity\":0.2}},\"type\":\"histogram\"}],\"histogram2d\":[{\"colorbar\":{\"outlinewidth\":0,\"ticks\":\"\"},\"colorscale\":[[0.0,\"#0d0887\"],[0.1111111111111111,\"#46039f\"],[0.2222222222222222,\"#7201a8\"],[0.3333333333333333,\"#9c179e\"],[0.4444444444444444,\"#bd3786\"],[0.5555555555555556,\"#d8576b\"],[0.6666666666666666,\"#ed7953\"],[0.7777777777777778,\"#fb9f3a\"],[0.8888888888888888,\"#fdca26\"],[1.0,\"#f0f921\"]],\"type\":\"histogram2d\"}],\"histogram2dcontour\":[{\"colorbar\":{\"outlinewidth\":0,\"ticks\":\"\"},\"colorscale\":[[0.0,\"#0d0887\"],[0.1111111111111111,\"#46039f\"],[0.2222222222222222,\"#7201a8\"],[0.3333333333333333,\"#9c179e\"],[0.4444444444444444,\"#bd3786\"],[0.5555555555555556,\"#d8576b\"],[0.6666666666666666,\"#ed7953\"],[0.7777777777777778,\"#fb9f3a\"],[0.8888888888888888,\"#fdca26\"],[1.0,\"#f0f921\"]],\"type\":\"histogram2dcontour\"}],\"mesh3d\":[{\"colorbar\":{\"outlinewidth\":0,\"ticks\":\"\"},\"type\":\"mesh3d\"}],\"parcoords\":[{\"line\":{\"colorbar\":{\"outlinewidth\":0,\"ticks\":\"\"}},\"type\":\"parcoords\"}],\"pie\":[{\"automargin\":true,\"type\":\"pie\"}],\"scatter\":[{\"marker\":{\"colorbar\":{\"outlinewidth\":0,\"ticks\":\"\"}},\"type\":\"scatter\"}],\"scatter3d\":[{\"line\":{\"colorbar\":{\"outlinewidth\":0,\"ticks\":\"\"}},\"marker\":{\"colorbar\":{\"outlinewidth\":0,\"ticks\":\"\"}},\"type\":\"scatter3d\"}],\"scattercarpet\":[{\"marker\":{\"colorbar\":{\"outlinewidth\":0,\"ticks\":\"\"}},\"type\":\"scattercarpet\"}],\"scattergeo\":[{\"marker\":{\"colorbar\":{\"outlinewidth\":0,\"ticks\":\"\"}},\"type\":\"scattergeo\"}],\"scattergl\":[{\"marker\":{\"colorbar\":{\"outlinewidth\":0,\"ticks\":\"\"}},\"type\":\"scattergl\"}],\"scattermapbox\":[{\"marker\":{\"colorbar\":{\"outlinewidth\":0,\"ticks\":\"\"}},\"type\":\"scattermapbox\"}],\"scatterpolar\":[{\"marker\":{\"colorbar\":{\"outlinewidth\":0,\"ticks\":\"\"}},\"type\":\"scatterpolar\"}],\"scatterpolargl\":[{\"marker\":{\"colorbar\":{\"outlinewidth\":0,\"ticks\":\"\"}},\"type\":\"scatterpolargl\"}],\"scatterternary\":[{\"marker\":{\"colorbar\":{\"outlinewidth\":0,\"ticks\":\"\"}},\"type\":\"scatterternary\"}],\"surface\":[{\"colorbar\":{\"outlinewidth\":0,\"ticks\":\"\"},\"colorscale\":[[0.0,\"#0d0887\"],[0.1111111111111111,\"#46039f\"],[0.2222222222222222,\"#7201a8\"],[0.3333333333333333,\"#9c179e\"],[0.4444444444444444,\"#bd3786\"],[0.5555555555555556,\"#d8576b\"],[0.6666666666666666,\"#ed7953\"],[0.7777777777777778,\"#fb9f3a\"],[0.8888888888888888,\"#fdca26\"],[1.0,\"#f0f921\"]],\"type\":\"surface\"}],\"table\":[{\"cells\":{\"fill\":{\"color\":\"#EBF0F8\"},\"line\":{\"color\":\"white\"}},\"header\":{\"fill\":{\"color\":\"#C8D4E3\"},\"line\":{\"color\":\"white\"}},\"type\":\"table\"}]},\"layout\":{\"annotationdefaults\":{\"arrowcolor\":\"#2a3f5f\",\"arrowhead\":0,\"arrowwidth\":1},\"autotypenumbers\":\"strict\",\"coloraxis\":{\"colorbar\":{\"outlinewidth\":0,\"ticks\":\"\"}},\"colorscale\":{\"diverging\":[[0,\"#8e0152\"],[0.1,\"#c51b7d\"],[0.2,\"#de77ae\"],[0.3,\"#f1b6da\"],[0.4,\"#fde0ef\"],[0.5,\"#f7f7f7\"],[0.6,\"#e6f5d0\"],[0.7,\"#b8e186\"],[0.8,\"#7fbc41\"],[0.9,\"#4d9221\"],[1,\"#276419\"]],\"sequential\":[[0.0,\"#0d0887\"],[0.1111111111111111,\"#46039f\"],[0.2222222222222222,\"#7201a8\"],[0.3333333333333333,\"#9c179e\"],[0.4444444444444444,\"#bd3786\"],[0.5555555555555556,\"#d8576b\"],[0.6666666666666666,\"#ed7953\"],[0.7777777777777778,\"#fb9f3a\"],[0.8888888888888888,\"#fdca26\"],[1.0,\"#f0f921\"]],\"sequentialminus\":[[0.0,\"#0d0887\"],[0.1111111111111111,\"#46039f\"],[0.2222222222222222,\"#7201a8\"],[0.3333333333333333,\"#9c179e\"],[0.4444444444444444,\"#bd3786\"],[0.5555555555555556,\"#d8576b\"],[0.6666666666666666,\"#ed7953\"],[0.7777777777777778,\"#fb9f3a\"],[0.8888888888888888,\"#fdca26\"],[1.0,\"#f0f921\"]]},\"colorway\":[\"#636efa\",\"#EF553B\",\"#00cc96\",\"#ab63fa\",\"#FFA15A\",\"#19d3f3\",\"#FF6692\",\"#B6E880\",\"#FF97FF\",\"#FECB52\"],\"font\":{\"color\":\"#2a3f5f\"},\"geo\":{\"bgcolor\":\"white\",\"lakecolor\":\"white\",\"landcolor\":\"#E5ECF6\",\"showlakes\":true,\"showland\":true,\"subunitcolor\":\"white\"},\"hoverlabel\":{\"align\":\"left\"},\"hovermode\":\"closest\",\"mapbox\":{\"style\":\"light\"},\"paper_bgcolor\":\"white\",\"plot_bgcolor\":\"#E5ECF6\",\"polar\":{\"angularaxis\":{\"gridcolor\":\"white\",\"linecolor\":\"white\",\"ticks\":\"\"},\"bgcolor\":\"#E5ECF6\",\"radialaxis\":{\"gridcolor\":\"white\",\"linecolor\":\"white\",\"ticks\":\"\"}},\"scene\":{\"xaxis\":{\"backgroundcolor\":\"#E5ECF6\",\"gridcolor\":\"white\",\"gridwidth\":2,\"linecolor\":\"white\",\"showbackground\":true,\"ticks\":\"\",\"zerolinecolor\":\"white\"},\"yaxis\":{\"backgroundcolor\":\"#E5ECF6\",\"gridcolor\":\"white\",\"gridwidth\":2,\"linecolor\":\"white\",\"showbackground\":true,\"ticks\":\"\",\"zerolinecolor\":\"white\"},\"zaxis\":{\"backgroundcolor\":\"#E5ECF6\",\"gridcolor\":\"white\",\"gridwidth\":2,\"linecolor\":\"white\",\"showbackground\":true,\"ticks\":\"\",\"zerolinecolor\":\"white\"}},\"shapedefaults\":{\"line\":{\"color\":\"#2a3f5f\"}},\"ternary\":{\"aaxis\":{\"gridcolor\":\"white\",\"linecolor\":\"white\",\"ticks\":\"\"},\"baxis\":{\"gridcolor\":\"white\",\"linecolor\":\"white\",\"ticks\":\"\"},\"bgcolor\":\"#E5ECF6\",\"caxis\":{\"gridcolor\":\"white\",\"linecolor\":\"white\",\"ticks\":\"\"}},\"title\":{\"x\":0.05},\"xaxis\":{\"automargin\":true,\"gridcolor\":\"white\",\"linecolor\":\"white\",\"ticks\":\"\",\"title\":{\"standoff\":15},\"zerolinecolor\":\"white\",\"zerolinewidth\":2},\"yaxis\":{\"automargin\":true,\"gridcolor\":\"white\",\"linecolor\":\"white\",\"ticks\":\"\",\"title\":{\"standoff\":15},\"zerolinecolor\":\"white\",\"zerolinewidth\":2}}},\"title\":{\"text\":\"Movies By Profitability in Each Year\"},\"xaxis\":{\"anchor\":\"y\",\"domain\":[0.0,1.0],\"title\":{\"text\":\"Year\"}},\"yaxis\":{\"anchor\":\"x\",\"domain\":[0.0,1.0],\"title\":{\"text\":\"Profitability\"}}},                        {\"responsive\": true}                    ).then(function(){\n",
       "                            \n",
       "var gd = document.getElementById('0bdd53af-8ee3-4418-a8e8-d2999d701c43');\n",
       "var x = new MutationObserver(function (mutations, observer) {{\n",
       "        var display = window.getComputedStyle(gd).display;\n",
       "        if (!display || display === 'none') {{\n",
       "            console.log([gd, 'removed!']);\n",
       "            Plotly.purge(gd);\n",
       "            observer.disconnect();\n",
       "        }}\n",
       "}});\n",
       "\n",
       "// Listen for the removal of the full notebook cells\n",
       "var notebookContainer = gd.closest('#notebook-container');\n",
       "if (notebookContainer) {{\n",
       "    x.observe(notebookContainer, {childList: true});\n",
       "}}\n",
       "\n",
       "// Listen for the clearing of the current output cell\n",
       "var outputEl = gd.closest('.output');\n",
       "if (outputEl) {{\n",
       "    x.observe(outputEl, {childList: true});\n",
       "}}\n",
       "\n",
       "                        })                };                });            </script>        </div>"
      ]
     },
     "metadata": {},
     "output_type": "display_data"
    }
   ],
   "source": [
    "fig = px.scatter(df, x='Year', y='Profitability', title='Movies By Profitability in Each Year')\n",
    "fig.show()"
   ]
  },
  {
   "cell_type": "markdown",
   "id": "656471e6",
   "metadata": {
    "papermill": {
     "duration": 0.068771,
     "end_time": "2021-07-21T08:12:18.176560",
     "exception": false,
     "start_time": "2021-07-21T08:12:18.107789",
     "status": "completed"
    },
    "tags": []
   },
   "source": [
    "### Worldwide Gross by Year"
   ]
  },
  {
   "cell_type": "code",
   "execution_count": 31,
   "id": "56c5626e",
   "metadata": {
    "_kg_hide-input": true,
    "execution": {
     "iopub.execute_input": "2021-07-21T08:12:18.317982Z",
     "iopub.status.busy": "2021-07-21T08:12:18.317271Z",
     "iopub.status.idle": "2021-07-21T08:12:18.379174Z",
     "shell.execute_reply": "2021-07-21T08:12:18.379751Z",
     "shell.execute_reply.started": "2021-07-09T20:49:13.198503Z"
    },
    "papermill": {
     "duration": 0.134254,
     "end_time": "2021-07-21T08:12:18.379920",
     "exception": false,
     "start_time": "2021-07-21T08:12:18.245666",
     "status": "completed"
    },
    "tags": []
   },
   "outputs": [
    {
     "data": {
      "text/html": [
       "<div>                            <div id=\"d09caa7d-1da8-4e97-b561-aebd53caa02e\" class=\"plotly-graph-div\" style=\"height:525px; width:100%;\"></div>            <script type=\"text/javascript\">                require([\"plotly\"], function(Plotly) {                    window.PLOTLYENV=window.PLOTLYENV || {};                                    if (document.getElementById(\"d09caa7d-1da8-4e97-b561-aebd53caa02e\")) {                    Plotly.newPlot(                        \"d09caa7d-1da8-4e97-b561-aebd53caa02e\",                        [{\"hovertemplate\":\"Year=%{x}<br>Worldwide Gross=%{y}<extra></extra>\",\"legendgroup\":\"\",\"marker\":{\"color\":\"#636efa\",\"symbol\":\"circle\"},\"mode\":\"markers\",\"name\":\"\",\"orientation\":\"v\",\"showlegend\":false,\"type\":\"scatter\",\"x\":[2008,2009,2011,2009,2007,2011,2010,2007,2008,2008,2009,2011,2010,2007,2009,2008,2010,2009,2011,2010,2010,2007,2010,2010,2007,2010,2010,2009,2008,2008,2008,2011,2008,2011,2007,2011,2011,2008,2007,2009,2011,2010,2008,2007,2008,2008,2010,2008,2010,2010,2011,2010,2010,2008,2008,2007,2009,2009,2009,2009,2009,2008,2011,2007,2010,2011,2007,2008,2011,2008,2010,2010,2010,2008],\"xaxis\":\"x\",\"y\":[160.308654,60.72,8.972895,30.68,29.367143,14.31,114.97,340.487652,33.467,161.834,102.22,193.967,42.05,59.192128,178.84,252.044501,20.1,224.6,30.147,21.569,93.4,219.001261,32.59,79.18,69.307224,96.16,54.53,36.08,105.962734,609.473955,206.073,148.66,15.173694,39.664,145.896422,8.258,142.04,33.527293,92.60105,10.7,55.241,21.37,20.71,153.093505,20.741996,16.61,55.86,415.253258,288.35,48.81,60.183,355.08,77.09,285.431,43.305978,127.76665,32.4,314.7,101.33,709.82,205.3,376.661,702.17,55.862886,217.57,0.025,22.179483,521.283432,117.094,219.367646,43.04,26.66,19.62,41.941],\"yaxis\":\"y\"}],                        {\"legend\":{\"tracegroupgap\":0},\"template\":{\"data\":{\"bar\":[{\"error_x\":{\"color\":\"#2a3f5f\"},\"error_y\":{\"color\":\"#2a3f5f\"},\"marker\":{\"line\":{\"color\":\"#E5ECF6\",\"width\":0.5},\"pattern\":{\"fillmode\":\"overlay\",\"size\":10,\"solidity\":0.2}},\"type\":\"bar\"}],\"barpolar\":[{\"marker\":{\"line\":{\"color\":\"#E5ECF6\",\"width\":0.5},\"pattern\":{\"fillmode\":\"overlay\",\"size\":10,\"solidity\":0.2}},\"type\":\"barpolar\"}],\"carpet\":[{\"aaxis\":{\"endlinecolor\":\"#2a3f5f\",\"gridcolor\":\"white\",\"linecolor\":\"white\",\"minorgridcolor\":\"white\",\"startlinecolor\":\"#2a3f5f\"},\"baxis\":{\"endlinecolor\":\"#2a3f5f\",\"gridcolor\":\"white\",\"linecolor\":\"white\",\"minorgridcolor\":\"white\",\"startlinecolor\":\"#2a3f5f\"},\"type\":\"carpet\"}],\"choropleth\":[{\"colorbar\":{\"outlinewidth\":0,\"ticks\":\"\"},\"type\":\"choropleth\"}],\"contour\":[{\"colorbar\":{\"outlinewidth\":0,\"ticks\":\"\"},\"colorscale\":[[0.0,\"#0d0887\"],[0.1111111111111111,\"#46039f\"],[0.2222222222222222,\"#7201a8\"],[0.3333333333333333,\"#9c179e\"],[0.4444444444444444,\"#bd3786\"],[0.5555555555555556,\"#d8576b\"],[0.6666666666666666,\"#ed7953\"],[0.7777777777777778,\"#fb9f3a\"],[0.8888888888888888,\"#fdca26\"],[1.0,\"#f0f921\"]],\"type\":\"contour\"}],\"contourcarpet\":[{\"colorbar\":{\"outlinewidth\":0,\"ticks\":\"\"},\"type\":\"contourcarpet\"}],\"heatmap\":[{\"colorbar\":{\"outlinewidth\":0,\"ticks\":\"\"},\"colorscale\":[[0.0,\"#0d0887\"],[0.1111111111111111,\"#46039f\"],[0.2222222222222222,\"#7201a8\"],[0.3333333333333333,\"#9c179e\"],[0.4444444444444444,\"#bd3786\"],[0.5555555555555556,\"#d8576b\"],[0.6666666666666666,\"#ed7953\"],[0.7777777777777778,\"#fb9f3a\"],[0.8888888888888888,\"#fdca26\"],[1.0,\"#f0f921\"]],\"type\":\"heatmap\"}],\"heatmapgl\":[{\"colorbar\":{\"outlinewidth\":0,\"ticks\":\"\"},\"colorscale\":[[0.0,\"#0d0887\"],[0.1111111111111111,\"#46039f\"],[0.2222222222222222,\"#7201a8\"],[0.3333333333333333,\"#9c179e\"],[0.4444444444444444,\"#bd3786\"],[0.5555555555555556,\"#d8576b\"],[0.6666666666666666,\"#ed7953\"],[0.7777777777777778,\"#fb9f3a\"],[0.8888888888888888,\"#fdca26\"],[1.0,\"#f0f921\"]],\"type\":\"heatmapgl\"}],\"histogram\":[{\"marker\":{\"pattern\":{\"fillmode\":\"overlay\",\"size\":10,\"solidity\":0.2}},\"type\":\"histogram\"}],\"histogram2d\":[{\"colorbar\":{\"outlinewidth\":0,\"ticks\":\"\"},\"colorscale\":[[0.0,\"#0d0887\"],[0.1111111111111111,\"#46039f\"],[0.2222222222222222,\"#7201a8\"],[0.3333333333333333,\"#9c179e\"],[0.4444444444444444,\"#bd3786\"],[0.5555555555555556,\"#d8576b\"],[0.6666666666666666,\"#ed7953\"],[0.7777777777777778,\"#fb9f3a\"],[0.8888888888888888,\"#fdca26\"],[1.0,\"#f0f921\"]],\"type\":\"histogram2d\"}],\"histogram2dcontour\":[{\"colorbar\":{\"outlinewidth\":0,\"ticks\":\"\"},\"colorscale\":[[0.0,\"#0d0887\"],[0.1111111111111111,\"#46039f\"],[0.2222222222222222,\"#7201a8\"],[0.3333333333333333,\"#9c179e\"],[0.4444444444444444,\"#bd3786\"],[0.5555555555555556,\"#d8576b\"],[0.6666666666666666,\"#ed7953\"],[0.7777777777777778,\"#fb9f3a\"],[0.8888888888888888,\"#fdca26\"],[1.0,\"#f0f921\"]],\"type\":\"histogram2dcontour\"}],\"mesh3d\":[{\"colorbar\":{\"outlinewidth\":0,\"ticks\":\"\"},\"type\":\"mesh3d\"}],\"parcoords\":[{\"line\":{\"colorbar\":{\"outlinewidth\":0,\"ticks\":\"\"}},\"type\":\"parcoords\"}],\"pie\":[{\"automargin\":true,\"type\":\"pie\"}],\"scatter\":[{\"marker\":{\"colorbar\":{\"outlinewidth\":0,\"ticks\":\"\"}},\"type\":\"scatter\"}],\"scatter3d\":[{\"line\":{\"colorbar\":{\"outlinewidth\":0,\"ticks\":\"\"}},\"marker\":{\"colorbar\":{\"outlinewidth\":0,\"ticks\":\"\"}},\"type\":\"scatter3d\"}],\"scattercarpet\":[{\"marker\":{\"colorbar\":{\"outlinewidth\":0,\"ticks\":\"\"}},\"type\":\"scattercarpet\"}],\"scattergeo\":[{\"marker\":{\"colorbar\":{\"outlinewidth\":0,\"ticks\":\"\"}},\"type\":\"scattergeo\"}],\"scattergl\":[{\"marker\":{\"colorbar\":{\"outlinewidth\":0,\"ticks\":\"\"}},\"type\":\"scattergl\"}],\"scattermapbox\":[{\"marker\":{\"colorbar\":{\"outlinewidth\":0,\"ticks\":\"\"}},\"type\":\"scattermapbox\"}],\"scatterpolar\":[{\"marker\":{\"colorbar\":{\"outlinewidth\":0,\"ticks\":\"\"}},\"type\":\"scatterpolar\"}],\"scatterpolargl\":[{\"marker\":{\"colorbar\":{\"outlinewidth\":0,\"ticks\":\"\"}},\"type\":\"scatterpolargl\"}],\"scatterternary\":[{\"marker\":{\"colorbar\":{\"outlinewidth\":0,\"ticks\":\"\"}},\"type\":\"scatterternary\"}],\"surface\":[{\"colorbar\":{\"outlinewidth\":0,\"ticks\":\"\"},\"colorscale\":[[0.0,\"#0d0887\"],[0.1111111111111111,\"#46039f\"],[0.2222222222222222,\"#7201a8\"],[0.3333333333333333,\"#9c179e\"],[0.4444444444444444,\"#bd3786\"],[0.5555555555555556,\"#d8576b\"],[0.6666666666666666,\"#ed7953\"],[0.7777777777777778,\"#fb9f3a\"],[0.8888888888888888,\"#fdca26\"],[1.0,\"#f0f921\"]],\"type\":\"surface\"}],\"table\":[{\"cells\":{\"fill\":{\"color\":\"#EBF0F8\"},\"line\":{\"color\":\"white\"}},\"header\":{\"fill\":{\"color\":\"#C8D4E3\"},\"line\":{\"color\":\"white\"}},\"type\":\"table\"}]},\"layout\":{\"annotationdefaults\":{\"arrowcolor\":\"#2a3f5f\",\"arrowhead\":0,\"arrowwidth\":1},\"autotypenumbers\":\"strict\",\"coloraxis\":{\"colorbar\":{\"outlinewidth\":0,\"ticks\":\"\"}},\"colorscale\":{\"diverging\":[[0,\"#8e0152\"],[0.1,\"#c51b7d\"],[0.2,\"#de77ae\"],[0.3,\"#f1b6da\"],[0.4,\"#fde0ef\"],[0.5,\"#f7f7f7\"],[0.6,\"#e6f5d0\"],[0.7,\"#b8e186\"],[0.8,\"#7fbc41\"],[0.9,\"#4d9221\"],[1,\"#276419\"]],\"sequential\":[[0.0,\"#0d0887\"],[0.1111111111111111,\"#46039f\"],[0.2222222222222222,\"#7201a8\"],[0.3333333333333333,\"#9c179e\"],[0.4444444444444444,\"#bd3786\"],[0.5555555555555556,\"#d8576b\"],[0.6666666666666666,\"#ed7953\"],[0.7777777777777778,\"#fb9f3a\"],[0.8888888888888888,\"#fdca26\"],[1.0,\"#f0f921\"]],\"sequentialminus\":[[0.0,\"#0d0887\"],[0.1111111111111111,\"#46039f\"],[0.2222222222222222,\"#7201a8\"],[0.3333333333333333,\"#9c179e\"],[0.4444444444444444,\"#bd3786\"],[0.5555555555555556,\"#d8576b\"],[0.6666666666666666,\"#ed7953\"],[0.7777777777777778,\"#fb9f3a\"],[0.8888888888888888,\"#fdca26\"],[1.0,\"#f0f921\"]]},\"colorway\":[\"#636efa\",\"#EF553B\",\"#00cc96\",\"#ab63fa\",\"#FFA15A\",\"#19d3f3\",\"#FF6692\",\"#B6E880\",\"#FF97FF\",\"#FECB52\"],\"font\":{\"color\":\"#2a3f5f\"},\"geo\":{\"bgcolor\":\"white\",\"lakecolor\":\"white\",\"landcolor\":\"#E5ECF6\",\"showlakes\":true,\"showland\":true,\"subunitcolor\":\"white\"},\"hoverlabel\":{\"align\":\"left\"},\"hovermode\":\"closest\",\"mapbox\":{\"style\":\"light\"},\"paper_bgcolor\":\"white\",\"plot_bgcolor\":\"#E5ECF6\",\"polar\":{\"angularaxis\":{\"gridcolor\":\"white\",\"linecolor\":\"white\",\"ticks\":\"\"},\"bgcolor\":\"#E5ECF6\",\"radialaxis\":{\"gridcolor\":\"white\",\"linecolor\":\"white\",\"ticks\":\"\"}},\"scene\":{\"xaxis\":{\"backgroundcolor\":\"#E5ECF6\",\"gridcolor\":\"white\",\"gridwidth\":2,\"linecolor\":\"white\",\"showbackground\":true,\"ticks\":\"\",\"zerolinecolor\":\"white\"},\"yaxis\":{\"backgroundcolor\":\"#E5ECF6\",\"gridcolor\":\"white\",\"gridwidth\":2,\"linecolor\":\"white\",\"showbackground\":true,\"ticks\":\"\",\"zerolinecolor\":\"white\"},\"zaxis\":{\"backgroundcolor\":\"#E5ECF6\",\"gridcolor\":\"white\",\"gridwidth\":2,\"linecolor\":\"white\",\"showbackground\":true,\"ticks\":\"\",\"zerolinecolor\":\"white\"}},\"shapedefaults\":{\"line\":{\"color\":\"#2a3f5f\"}},\"ternary\":{\"aaxis\":{\"gridcolor\":\"white\",\"linecolor\":\"white\",\"ticks\":\"\"},\"baxis\":{\"gridcolor\":\"white\",\"linecolor\":\"white\",\"ticks\":\"\"},\"bgcolor\":\"#E5ECF6\",\"caxis\":{\"gridcolor\":\"white\",\"linecolor\":\"white\",\"ticks\":\"\"}},\"title\":{\"x\":0.05},\"xaxis\":{\"automargin\":true,\"gridcolor\":\"white\",\"linecolor\":\"white\",\"ticks\":\"\",\"title\":{\"standoff\":15},\"zerolinecolor\":\"white\",\"zerolinewidth\":2},\"yaxis\":{\"automargin\":true,\"gridcolor\":\"white\",\"linecolor\":\"white\",\"ticks\":\"\",\"title\":{\"standoff\":15},\"zerolinecolor\":\"white\",\"zerolinewidth\":2}}},\"title\":{\"text\":\"Movies By Worldwide Gross in Each Year\"},\"xaxis\":{\"anchor\":\"y\",\"domain\":[0.0,1.0],\"title\":{\"text\":\"Year\"}},\"yaxis\":{\"anchor\":\"x\",\"domain\":[0.0,1.0],\"title\":{\"text\":\"Worldwide Gross\"}}},                        {\"responsive\": true}                    ).then(function(){\n",
       "                            \n",
       "var gd = document.getElementById('d09caa7d-1da8-4e97-b561-aebd53caa02e');\n",
       "var x = new MutationObserver(function (mutations, observer) {{\n",
       "        var display = window.getComputedStyle(gd).display;\n",
       "        if (!display || display === 'none') {{\n",
       "            console.log([gd, 'removed!']);\n",
       "            Plotly.purge(gd);\n",
       "            observer.disconnect();\n",
       "        }}\n",
       "}});\n",
       "\n",
       "// Listen for the removal of the full notebook cells\n",
       "var notebookContainer = gd.closest('#notebook-container');\n",
       "if (notebookContainer) {{\n",
       "    x.observe(notebookContainer, {childList: true});\n",
       "}}\n",
       "\n",
       "// Listen for the clearing of the current output cell\n",
       "var outputEl = gd.closest('.output');\n",
       "if (outputEl) {{\n",
       "    x.observe(outputEl, {childList: true});\n",
       "}}\n",
       "\n",
       "                        })                };                });            </script>        </div>"
      ]
     },
     "metadata": {},
     "output_type": "display_data"
    }
   ],
   "source": [
    "fig = px.scatter(df, x='Year', y='Worldwide Gross', title='Movies By Worldwide Gross in Each Year')\n",
    "fig.show()"
   ]
  },
  {
   "cell_type": "markdown",
   "id": "7d887dd2",
   "metadata": {
    "papermill": {
     "duration": 0.069448,
     "end_time": "2021-07-21T08:12:18.520094",
     "exception": false,
     "start_time": "2021-07-21T08:12:18.450646",
     "status": "completed"
    },
    "tags": []
   },
   "source": [
    "- Let's look at the top 15 WorldWide Gross Movies"
   ]
  },
  {
   "cell_type": "markdown",
   "id": "4b993c89",
   "metadata": {
    "papermill": {
     "duration": 0.069138,
     "end_time": "2021-07-21T08:12:18.658866",
     "exception": false,
     "start_time": "2021-07-21T08:12:18.589728",
     "status": "completed"
    },
    "tags": []
   },
   "source": [
    "#### Top 15 WorldWide Gross Movies"
   ]
  },
  {
   "cell_type": "code",
   "execution_count": 32,
   "id": "9f0c6925",
   "metadata": {
    "_kg_hide-input": true,
    "execution": {
     "iopub.execute_input": "2021-07-21T08:12:18.802237Z",
     "iopub.status.busy": "2021-07-21T08:12:18.801568Z",
     "iopub.status.idle": "2021-07-21T08:12:18.824536Z",
     "shell.execute_reply": "2021-07-21T08:12:18.823937Z",
     "shell.execute_reply.started": "2021-07-09T20:49:13.261337Z"
    },
    "papermill": {
     "duration": 0.094857,
     "end_time": "2021-07-21T08:12:18.824678",
     "exception": false,
     "start_time": "2021-07-21T08:12:18.729821",
     "status": "completed"
    },
    "tags": []
   },
   "outputs": [
    {
     "data": {
      "text/html": [
       "<div>\n",
       "<style scoped>\n",
       "    .dataframe tbody tr th:only-of-type {\n",
       "        vertical-align: middle;\n",
       "    }\n",
       "\n",
       "    .dataframe tbody tr th {\n",
       "        vertical-align: top;\n",
       "    }\n",
       "\n",
       "    .dataframe thead th {\n",
       "        text-align: right;\n",
       "    }\n",
       "</style>\n",
       "<table border=\"1\" class=\"dataframe\">\n",
       "  <thead>\n",
       "    <tr style=\"text-align: right;\">\n",
       "      <th></th>\n",
       "      <th>Film</th>\n",
       "      <th>Genre</th>\n",
       "      <th>Lead Studio</th>\n",
       "      <th>Audience  score %</th>\n",
       "      <th>Profitability</th>\n",
       "      <th>Rotten Tomatoes %</th>\n",
       "      <th>Worldwide Gross</th>\n",
       "      <th>Year</th>\n",
       "    </tr>\n",
       "  </thead>\n",
       "  <tbody>\n",
       "    <tr>\n",
       "      <th>59</th>\n",
       "      <td>The Twilight Saga: New Moon</td>\n",
       "      <td>Drama</td>\n",
       "      <td>Summit</td>\n",
       "      <td>78.0</td>\n",
       "      <td>14.196400</td>\n",
       "      <td>27.0</td>\n",
       "      <td>709.820000</td>\n",
       "      <td>2009</td>\n",
       "    </tr>\n",
       "    <tr>\n",
       "      <th>62</th>\n",
       "      <td>Twilight: Breaking Dawn</td>\n",
       "      <td>Romance</td>\n",
       "      <td>Independent</td>\n",
       "      <td>68.0</td>\n",
       "      <td>6.383364</td>\n",
       "      <td>26.0</td>\n",
       "      <td>702.170000</td>\n",
       "      <td>2011</td>\n",
       "    </tr>\n",
       "    <tr>\n",
       "      <th>29</th>\n",
       "      <td>Mamma Mia!</td>\n",
       "      <td>Comedy</td>\n",
       "      <td>Universal</td>\n",
       "      <td>76.0</td>\n",
       "      <td>9.234454</td>\n",
       "      <td>53.0</td>\n",
       "      <td>609.473955</td>\n",
       "      <td>2008</td>\n",
       "    </tr>\n",
       "    <tr>\n",
       "      <th>67</th>\n",
       "      <td>WALL-E</td>\n",
       "      <td>Animation</td>\n",
       "      <td>Disney</td>\n",
       "      <td>89.0</td>\n",
       "      <td>2.896019</td>\n",
       "      <td>96.0</td>\n",
       "      <td>521.283432</td>\n",
       "      <td>2008</td>\n",
       "    </tr>\n",
       "    <tr>\n",
       "      <th>47</th>\n",
       "      <td>Sex and the City</td>\n",
       "      <td>Comedy</td>\n",
       "      <td>Warner Bros.</td>\n",
       "      <td>81.0</td>\n",
       "      <td>7.221796</td>\n",
       "      <td>49.0</td>\n",
       "      <td>415.253258</td>\n",
       "      <td>2008</td>\n",
       "    </tr>\n",
       "    <tr>\n",
       "      <th>61</th>\n",
       "      <td>Twilight</td>\n",
       "      <td>Romance</td>\n",
       "      <td>Summit</td>\n",
       "      <td>82.0</td>\n",
       "      <td>10.180027</td>\n",
       "      <td>49.0</td>\n",
       "      <td>376.661000</td>\n",
       "      <td>2008</td>\n",
       "    </tr>\n",
       "    <tr>\n",
       "      <th>51</th>\n",
       "      <td>Tangled</td>\n",
       "      <td>Animation</td>\n",
       "      <td>Disney</td>\n",
       "      <td>88.0</td>\n",
       "      <td>1.365692</td>\n",
       "      <td>89.0</td>\n",
       "      <td>355.080000</td>\n",
       "      <td>2010</td>\n",
       "    </tr>\n",
       "    <tr>\n",
       "      <th>7</th>\n",
       "      <td>Enchanted</td>\n",
       "      <td>Comedy</td>\n",
       "      <td>Disney</td>\n",
       "      <td>80.0</td>\n",
       "      <td>4.005737</td>\n",
       "      <td>93.0</td>\n",
       "      <td>340.487652</td>\n",
       "      <td>2007</td>\n",
       "    </tr>\n",
       "    <tr>\n",
       "      <th>57</th>\n",
       "      <td>The Proposal</td>\n",
       "      <td>Comedy</td>\n",
       "      <td>Disney</td>\n",
       "      <td>74.0</td>\n",
       "      <td>7.867500</td>\n",
       "      <td>43.0</td>\n",
       "      <td>314.700000</td>\n",
       "      <td>2009</td>\n",
       "    </tr>\n",
       "    <tr>\n",
       "      <th>48</th>\n",
       "      <td>Sex and the City 2</td>\n",
       "      <td>Comedy</td>\n",
       "      <td>Warner Bros.</td>\n",
       "      <td>49.0</td>\n",
       "      <td>2.883500</td>\n",
       "      <td>15.0</td>\n",
       "      <td>288.350000</td>\n",
       "      <td>2010</td>\n",
       "    </tr>\n",
       "    <tr>\n",
       "      <th>53</th>\n",
       "      <td>The Curious Case of Benjamin Button</td>\n",
       "      <td>Fantasy</td>\n",
       "      <td>Warner Bros.</td>\n",
       "      <td>81.0</td>\n",
       "      <td>1.783944</td>\n",
       "      <td>73.0</td>\n",
       "      <td>285.431000</td>\n",
       "      <td>2008</td>\n",
       "    </tr>\n",
       "    <tr>\n",
       "      <th>15</th>\n",
       "      <td>High School Musical 3: Senior Year</td>\n",
       "      <td>Comedy</td>\n",
       "      <td>Disney</td>\n",
       "      <td>76.0</td>\n",
       "      <td>22.913136</td>\n",
       "      <td>65.0</td>\n",
       "      <td>252.044501</td>\n",
       "      <td>2008</td>\n",
       "    </tr>\n",
       "    <tr>\n",
       "      <th>17</th>\n",
       "      <td>It's Complicated</td>\n",
       "      <td>Comedy</td>\n",
       "      <td>Universal</td>\n",
       "      <td>63.0</td>\n",
       "      <td>2.642353</td>\n",
       "      <td>56.0</td>\n",
       "      <td>224.600000</td>\n",
       "      <td>2009</td>\n",
       "    </tr>\n",
       "    <tr>\n",
       "      <th>69</th>\n",
       "      <td>What Happens in Vegas</td>\n",
       "      <td>Comedy</td>\n",
       "      <td>Fox</td>\n",
       "      <td>72.0</td>\n",
       "      <td>6.267647</td>\n",
       "      <td>28.0</td>\n",
       "      <td>219.367646</td>\n",
       "      <td>2008</td>\n",
       "    </tr>\n",
       "    <tr>\n",
       "      <th>21</th>\n",
       "      <td>Knocked Up</td>\n",
       "      <td>Comedy</td>\n",
       "      <td>Universal</td>\n",
       "      <td>83.0</td>\n",
       "      <td>6.636402</td>\n",
       "      <td>91.0</td>\n",
       "      <td>219.001261</td>\n",
       "      <td>2007</td>\n",
       "    </tr>\n",
       "  </tbody>\n",
       "</table>\n",
       "</div>"
      ],
      "text/plain": [
       "                                   Film      Genre   Lead Studio  \\\n",
       "59          The Twilight Saga: New Moon      Drama        Summit   \n",
       "62              Twilight: Breaking Dawn    Romance   Independent   \n",
       "29                           Mamma Mia!     Comedy     Universal   \n",
       "67                               WALL-E  Animation        Disney   \n",
       "47                     Sex and the City     Comedy  Warner Bros.   \n",
       "61                             Twilight    Romance        Summit   \n",
       "51                              Tangled  Animation        Disney   \n",
       "7                             Enchanted     Comedy        Disney   \n",
       "57                         The Proposal     Comedy        Disney   \n",
       "48                   Sex and the City 2     Comedy  Warner Bros.   \n",
       "53  The Curious Case of Benjamin Button    Fantasy  Warner Bros.   \n",
       "15   High School Musical 3: Senior Year     Comedy        Disney   \n",
       "17                     It's Complicated     Comedy     Universal   \n",
       "69                What Happens in Vegas     Comedy           Fox   \n",
       "21                           Knocked Up     Comedy     Universal   \n",
       "\n",
       "    Audience  score %  Profitability  Rotten Tomatoes %  Worldwide Gross  Year  \n",
       "59               78.0      14.196400               27.0       709.820000  2009  \n",
       "62               68.0       6.383364               26.0       702.170000  2011  \n",
       "29               76.0       9.234454               53.0       609.473955  2008  \n",
       "67               89.0       2.896019               96.0       521.283432  2008  \n",
       "47               81.0       7.221796               49.0       415.253258  2008  \n",
       "61               82.0      10.180027               49.0       376.661000  2008  \n",
       "51               88.0       1.365692               89.0       355.080000  2010  \n",
       "7                80.0       4.005737               93.0       340.487652  2007  \n",
       "57               74.0       7.867500               43.0       314.700000  2009  \n",
       "48               49.0       2.883500               15.0       288.350000  2010  \n",
       "53               81.0       1.783944               73.0       285.431000  2008  \n",
       "15               76.0      22.913136               65.0       252.044501  2008  \n",
       "17               63.0       2.642353               56.0       224.600000  2009  \n",
       "69               72.0       6.267647               28.0       219.367646  2008  \n",
       "21               83.0       6.636402               91.0       219.001261  2007  "
      ]
     },
     "execution_count": 32,
     "metadata": {},
     "output_type": "execute_result"
    }
   ],
   "source": [
    "top_15 = df.sort_values('Worldwide Gross', ascending=False)[:15]\n",
    "top_15"
   ]
  },
  {
   "cell_type": "code",
   "execution_count": 33,
   "id": "31d693e5",
   "metadata": {
    "_kg_hide-input": true,
    "execution": {
     "iopub.execute_input": "2021-07-21T08:12:18.970994Z",
     "iopub.status.busy": "2021-07-21T08:12:18.970326Z",
     "iopub.status.idle": "2021-07-21T08:12:19.085738Z",
     "shell.execute_reply": "2021-07-21T08:12:19.086261Z",
     "shell.execute_reply.started": "2021-07-09T20:49:13.28323Z"
    },
    "papermill": {
     "duration": 0.190404,
     "end_time": "2021-07-21T08:12:19.086427",
     "exception": false,
     "start_time": "2021-07-21T08:12:18.896023",
     "status": "completed"
    },
    "tags": []
   },
   "outputs": [
    {
     "data": {
      "text/html": [
       "<div>                            <div id=\"24fa0cec-a914-44d4-8f4c-bc90f7fd0209\" class=\"plotly-graph-div\" style=\"height:525px; width:100%;\"></div>            <script type=\"text/javascript\">                require([\"plotly\"], function(Plotly) {                    window.PLOTLYENV=window.PLOTLYENV || {};                                    if (document.getElementById(\"24fa0cec-a914-44d4-8f4c-bc90f7fd0209\")) {                    Plotly.newPlot(                        \"24fa0cec-a914-44d4-8f4c-bc90f7fd0209\",                        [{\"alignmentgroup\":\"True\",\"customdata\":[[2009,\"Drama\"]],\"hovertemplate\":\"Genre=%{customdata[1]}<br>Film=%{x}<br>Worldwide Gross=%{y}<br>Year=%{customdata[0]}<extra></extra>\",\"legendgroup\":\"Drama\",\"marker\":{\"color\":\"#636efa\",\"pattern\":{\"shape\":\"\"}},\"name\":\"Drama\",\"offsetgroup\":\"Drama\",\"orientation\":\"v\",\"showlegend\":true,\"textposition\":\"auto\",\"type\":\"bar\",\"x\":[\"The Twilight Saga: New Moon\"],\"xaxis\":\"x\",\"y\":[709.82],\"yaxis\":\"y\"},{\"alignmentgroup\":\"True\",\"customdata\":[[2011,\"Romance\"],[2008,\"Romance\"]],\"hovertemplate\":\"Genre=%{customdata[1]}<br>Film=%{x}<br>Worldwide Gross=%{y}<br>Year=%{customdata[0]}<extra></extra>\",\"legendgroup\":\"Romance\",\"marker\":{\"color\":\"#EF553B\",\"pattern\":{\"shape\":\"\"}},\"name\":\"Romance\",\"offsetgroup\":\"Romance\",\"orientation\":\"v\",\"showlegend\":true,\"textposition\":\"auto\",\"type\":\"bar\",\"x\":[\"Twilight: Breaking Dawn\",\"Twilight\"],\"xaxis\":\"x\",\"y\":[702.17,376.661],\"yaxis\":\"y\"},{\"alignmentgroup\":\"True\",\"customdata\":[[2008,\"Comedy\"],[2008,\"Comedy\"],[2007,\"Comedy\"],[2009,\"Comedy\"],[2010,\"Comedy\"],[2008,\"Comedy\"],[2009,\"Comedy\"],[2008,\"Comedy\"],[2007,\"Comedy\"]],\"hovertemplate\":\"Genre=%{customdata[1]}<br>Film=%{x}<br>Worldwide Gross=%{y}<br>Year=%{customdata[0]}<extra></extra>\",\"legendgroup\":\"Comedy\",\"marker\":{\"color\":\"#00cc96\",\"pattern\":{\"shape\":\"\"}},\"name\":\"Comedy\",\"offsetgroup\":\"Comedy\",\"orientation\":\"v\",\"showlegend\":true,\"textposition\":\"auto\",\"type\":\"bar\",\"x\":[\"Mamma Mia!\",\"Sex and the City\",\"Enchanted\",\"The Proposal\",\"Sex and the City 2\",\"High School Musical 3: Senior Year\",\"It's Complicated\",\"What Happens in Vegas\",\"Knocked Up\"],\"xaxis\":\"x\",\"y\":[609.473955,415.253258,340.487652,314.7,288.35,252.044501,224.6,219.367646,219.001261],\"yaxis\":\"y\"},{\"alignmentgroup\":\"True\",\"customdata\":[[2008,\"Animation\"],[2010,\"Animation\"]],\"hovertemplate\":\"Genre=%{customdata[1]}<br>Film=%{x}<br>Worldwide Gross=%{y}<br>Year=%{customdata[0]}<extra></extra>\",\"legendgroup\":\"Animation\",\"marker\":{\"color\":\"#ab63fa\",\"pattern\":{\"shape\":\"\"}},\"name\":\"Animation\",\"offsetgroup\":\"Animation\",\"orientation\":\"v\",\"showlegend\":true,\"textposition\":\"auto\",\"type\":\"bar\",\"x\":[\"WALL-E\",\"Tangled\"],\"xaxis\":\"x\",\"y\":[521.283432,355.08],\"yaxis\":\"y\"},{\"alignmentgroup\":\"True\",\"customdata\":[[2008,\"Fantasy\"]],\"hovertemplate\":\"Genre=%{customdata[1]}<br>Film=%{x}<br>Worldwide Gross=%{y}<br>Year=%{customdata[0]}<extra></extra>\",\"legendgroup\":\"Fantasy\",\"marker\":{\"color\":\"#FFA15A\",\"pattern\":{\"shape\":\"\"}},\"name\":\"Fantasy\",\"offsetgroup\":\"Fantasy\",\"orientation\":\"v\",\"showlegend\":true,\"textposition\":\"auto\",\"type\":\"bar\",\"x\":[\"The Curious Case of Benjamin Button\"],\"xaxis\":\"x\",\"y\":[285.431],\"yaxis\":\"y\"}],                        {\"barmode\":\"relative\",\"legend\":{\"title\":{\"text\":\"Genre\"},\"tracegroupgap\":0},\"margin\":{\"t\":60},\"template\":{\"data\":{\"bar\":[{\"error_x\":{\"color\":\"#2a3f5f\"},\"error_y\":{\"color\":\"#2a3f5f\"},\"marker\":{\"line\":{\"color\":\"#E5ECF6\",\"width\":0.5},\"pattern\":{\"fillmode\":\"overlay\",\"size\":10,\"solidity\":0.2}},\"type\":\"bar\"}],\"barpolar\":[{\"marker\":{\"line\":{\"color\":\"#E5ECF6\",\"width\":0.5},\"pattern\":{\"fillmode\":\"overlay\",\"size\":10,\"solidity\":0.2}},\"type\":\"barpolar\"}],\"carpet\":[{\"aaxis\":{\"endlinecolor\":\"#2a3f5f\",\"gridcolor\":\"white\",\"linecolor\":\"white\",\"minorgridcolor\":\"white\",\"startlinecolor\":\"#2a3f5f\"},\"baxis\":{\"endlinecolor\":\"#2a3f5f\",\"gridcolor\":\"white\",\"linecolor\":\"white\",\"minorgridcolor\":\"white\",\"startlinecolor\":\"#2a3f5f\"},\"type\":\"carpet\"}],\"choropleth\":[{\"colorbar\":{\"outlinewidth\":0,\"ticks\":\"\"},\"type\":\"choropleth\"}],\"contour\":[{\"colorbar\":{\"outlinewidth\":0,\"ticks\":\"\"},\"colorscale\":[[0.0,\"#0d0887\"],[0.1111111111111111,\"#46039f\"],[0.2222222222222222,\"#7201a8\"],[0.3333333333333333,\"#9c179e\"],[0.4444444444444444,\"#bd3786\"],[0.5555555555555556,\"#d8576b\"],[0.6666666666666666,\"#ed7953\"],[0.7777777777777778,\"#fb9f3a\"],[0.8888888888888888,\"#fdca26\"],[1.0,\"#f0f921\"]],\"type\":\"contour\"}],\"contourcarpet\":[{\"colorbar\":{\"outlinewidth\":0,\"ticks\":\"\"},\"type\":\"contourcarpet\"}],\"heatmap\":[{\"colorbar\":{\"outlinewidth\":0,\"ticks\":\"\"},\"colorscale\":[[0.0,\"#0d0887\"],[0.1111111111111111,\"#46039f\"],[0.2222222222222222,\"#7201a8\"],[0.3333333333333333,\"#9c179e\"],[0.4444444444444444,\"#bd3786\"],[0.5555555555555556,\"#d8576b\"],[0.6666666666666666,\"#ed7953\"],[0.7777777777777778,\"#fb9f3a\"],[0.8888888888888888,\"#fdca26\"],[1.0,\"#f0f921\"]],\"type\":\"heatmap\"}],\"heatmapgl\":[{\"colorbar\":{\"outlinewidth\":0,\"ticks\":\"\"},\"colorscale\":[[0.0,\"#0d0887\"],[0.1111111111111111,\"#46039f\"],[0.2222222222222222,\"#7201a8\"],[0.3333333333333333,\"#9c179e\"],[0.4444444444444444,\"#bd3786\"],[0.5555555555555556,\"#d8576b\"],[0.6666666666666666,\"#ed7953\"],[0.7777777777777778,\"#fb9f3a\"],[0.8888888888888888,\"#fdca26\"],[1.0,\"#f0f921\"]],\"type\":\"heatmapgl\"}],\"histogram\":[{\"marker\":{\"pattern\":{\"fillmode\":\"overlay\",\"size\":10,\"solidity\":0.2}},\"type\":\"histogram\"}],\"histogram2d\":[{\"colorbar\":{\"outlinewidth\":0,\"ticks\":\"\"},\"colorscale\":[[0.0,\"#0d0887\"],[0.1111111111111111,\"#46039f\"],[0.2222222222222222,\"#7201a8\"],[0.3333333333333333,\"#9c179e\"],[0.4444444444444444,\"#bd3786\"],[0.5555555555555556,\"#d8576b\"],[0.6666666666666666,\"#ed7953\"],[0.7777777777777778,\"#fb9f3a\"],[0.8888888888888888,\"#fdca26\"],[1.0,\"#f0f921\"]],\"type\":\"histogram2d\"}],\"histogram2dcontour\":[{\"colorbar\":{\"outlinewidth\":0,\"ticks\":\"\"},\"colorscale\":[[0.0,\"#0d0887\"],[0.1111111111111111,\"#46039f\"],[0.2222222222222222,\"#7201a8\"],[0.3333333333333333,\"#9c179e\"],[0.4444444444444444,\"#bd3786\"],[0.5555555555555556,\"#d8576b\"],[0.6666666666666666,\"#ed7953\"],[0.7777777777777778,\"#fb9f3a\"],[0.8888888888888888,\"#fdca26\"],[1.0,\"#f0f921\"]],\"type\":\"histogram2dcontour\"}],\"mesh3d\":[{\"colorbar\":{\"outlinewidth\":0,\"ticks\":\"\"},\"type\":\"mesh3d\"}],\"parcoords\":[{\"line\":{\"colorbar\":{\"outlinewidth\":0,\"ticks\":\"\"}},\"type\":\"parcoords\"}],\"pie\":[{\"automargin\":true,\"type\":\"pie\"}],\"scatter\":[{\"marker\":{\"colorbar\":{\"outlinewidth\":0,\"ticks\":\"\"}},\"type\":\"scatter\"}],\"scatter3d\":[{\"line\":{\"colorbar\":{\"outlinewidth\":0,\"ticks\":\"\"}},\"marker\":{\"colorbar\":{\"outlinewidth\":0,\"ticks\":\"\"}},\"type\":\"scatter3d\"}],\"scattercarpet\":[{\"marker\":{\"colorbar\":{\"outlinewidth\":0,\"ticks\":\"\"}},\"type\":\"scattercarpet\"}],\"scattergeo\":[{\"marker\":{\"colorbar\":{\"outlinewidth\":0,\"ticks\":\"\"}},\"type\":\"scattergeo\"}],\"scattergl\":[{\"marker\":{\"colorbar\":{\"outlinewidth\":0,\"ticks\":\"\"}},\"type\":\"scattergl\"}],\"scattermapbox\":[{\"marker\":{\"colorbar\":{\"outlinewidth\":0,\"ticks\":\"\"}},\"type\":\"scattermapbox\"}],\"scatterpolar\":[{\"marker\":{\"colorbar\":{\"outlinewidth\":0,\"ticks\":\"\"}},\"type\":\"scatterpolar\"}],\"scatterpolargl\":[{\"marker\":{\"colorbar\":{\"outlinewidth\":0,\"ticks\":\"\"}},\"type\":\"scatterpolargl\"}],\"scatterternary\":[{\"marker\":{\"colorbar\":{\"outlinewidth\":0,\"ticks\":\"\"}},\"type\":\"scatterternary\"}],\"surface\":[{\"colorbar\":{\"outlinewidth\":0,\"ticks\":\"\"},\"colorscale\":[[0.0,\"#0d0887\"],[0.1111111111111111,\"#46039f\"],[0.2222222222222222,\"#7201a8\"],[0.3333333333333333,\"#9c179e\"],[0.4444444444444444,\"#bd3786\"],[0.5555555555555556,\"#d8576b\"],[0.6666666666666666,\"#ed7953\"],[0.7777777777777778,\"#fb9f3a\"],[0.8888888888888888,\"#fdca26\"],[1.0,\"#f0f921\"]],\"type\":\"surface\"}],\"table\":[{\"cells\":{\"fill\":{\"color\":\"#EBF0F8\"},\"line\":{\"color\":\"white\"}},\"header\":{\"fill\":{\"color\":\"#C8D4E3\"},\"line\":{\"color\":\"white\"}},\"type\":\"table\"}]},\"layout\":{\"annotationdefaults\":{\"arrowcolor\":\"#2a3f5f\",\"arrowhead\":0,\"arrowwidth\":1},\"autotypenumbers\":\"strict\",\"coloraxis\":{\"colorbar\":{\"outlinewidth\":0,\"ticks\":\"\"}},\"colorscale\":{\"diverging\":[[0,\"#8e0152\"],[0.1,\"#c51b7d\"],[0.2,\"#de77ae\"],[0.3,\"#f1b6da\"],[0.4,\"#fde0ef\"],[0.5,\"#f7f7f7\"],[0.6,\"#e6f5d0\"],[0.7,\"#b8e186\"],[0.8,\"#7fbc41\"],[0.9,\"#4d9221\"],[1,\"#276419\"]],\"sequential\":[[0.0,\"#0d0887\"],[0.1111111111111111,\"#46039f\"],[0.2222222222222222,\"#7201a8\"],[0.3333333333333333,\"#9c179e\"],[0.4444444444444444,\"#bd3786\"],[0.5555555555555556,\"#d8576b\"],[0.6666666666666666,\"#ed7953\"],[0.7777777777777778,\"#fb9f3a\"],[0.8888888888888888,\"#fdca26\"],[1.0,\"#f0f921\"]],\"sequentialminus\":[[0.0,\"#0d0887\"],[0.1111111111111111,\"#46039f\"],[0.2222222222222222,\"#7201a8\"],[0.3333333333333333,\"#9c179e\"],[0.4444444444444444,\"#bd3786\"],[0.5555555555555556,\"#d8576b\"],[0.6666666666666666,\"#ed7953\"],[0.7777777777777778,\"#fb9f3a\"],[0.8888888888888888,\"#fdca26\"],[1.0,\"#f0f921\"]]},\"colorway\":[\"#636efa\",\"#EF553B\",\"#00cc96\",\"#ab63fa\",\"#FFA15A\",\"#19d3f3\",\"#FF6692\",\"#B6E880\",\"#FF97FF\",\"#FECB52\"],\"font\":{\"color\":\"#2a3f5f\"},\"geo\":{\"bgcolor\":\"white\",\"lakecolor\":\"white\",\"landcolor\":\"#E5ECF6\",\"showlakes\":true,\"showland\":true,\"subunitcolor\":\"white\"},\"hoverlabel\":{\"align\":\"left\"},\"hovermode\":\"closest\",\"mapbox\":{\"style\":\"light\"},\"paper_bgcolor\":\"white\",\"plot_bgcolor\":\"#E5ECF6\",\"polar\":{\"angularaxis\":{\"gridcolor\":\"white\",\"linecolor\":\"white\",\"ticks\":\"\"},\"bgcolor\":\"#E5ECF6\",\"radialaxis\":{\"gridcolor\":\"white\",\"linecolor\":\"white\",\"ticks\":\"\"}},\"scene\":{\"xaxis\":{\"backgroundcolor\":\"#E5ECF6\",\"gridcolor\":\"white\",\"gridwidth\":2,\"linecolor\":\"white\",\"showbackground\":true,\"ticks\":\"\",\"zerolinecolor\":\"white\"},\"yaxis\":{\"backgroundcolor\":\"#E5ECF6\",\"gridcolor\":\"white\",\"gridwidth\":2,\"linecolor\":\"white\",\"showbackground\":true,\"ticks\":\"\",\"zerolinecolor\":\"white\"},\"zaxis\":{\"backgroundcolor\":\"#E5ECF6\",\"gridcolor\":\"white\",\"gridwidth\":2,\"linecolor\":\"white\",\"showbackground\":true,\"ticks\":\"\",\"zerolinecolor\":\"white\"}},\"shapedefaults\":{\"line\":{\"color\":\"#2a3f5f\"}},\"ternary\":{\"aaxis\":{\"gridcolor\":\"white\",\"linecolor\":\"white\",\"ticks\":\"\"},\"baxis\":{\"gridcolor\":\"white\",\"linecolor\":\"white\",\"ticks\":\"\"},\"bgcolor\":\"#E5ECF6\",\"caxis\":{\"gridcolor\":\"white\",\"linecolor\":\"white\",\"ticks\":\"\"}},\"title\":{\"x\":0.05},\"xaxis\":{\"automargin\":true,\"gridcolor\":\"white\",\"linecolor\":\"white\",\"ticks\":\"\",\"title\":{\"standoff\":15},\"zerolinecolor\":\"white\",\"zerolinewidth\":2},\"yaxis\":{\"automargin\":true,\"gridcolor\":\"white\",\"linecolor\":\"white\",\"ticks\":\"\",\"title\":{\"standoff\":15},\"zerolinecolor\":\"white\",\"zerolinewidth\":2}}},\"xaxis\":{\"anchor\":\"y\",\"categoryorder\":\"total descending\",\"domain\":[0.0,1.0],\"title\":{\"text\":\"Film\"}},\"yaxis\":{\"anchor\":\"x\",\"domain\":[0.0,1.0],\"title\":{\"text\":\"Worldwide Gross\"}}},                        {\"responsive\": true}                    ).then(function(){\n",
       "                            \n",
       "var gd = document.getElementById('24fa0cec-a914-44d4-8f4c-bc90f7fd0209');\n",
       "var x = new MutationObserver(function (mutations, observer) {{\n",
       "        var display = window.getComputedStyle(gd).display;\n",
       "        if (!display || display === 'none') {{\n",
       "            console.log([gd, 'removed!']);\n",
       "            Plotly.purge(gd);\n",
       "            observer.disconnect();\n",
       "        }}\n",
       "}});\n",
       "\n",
       "// Listen for the removal of the full notebook cells\n",
       "var notebookContainer = gd.closest('#notebook-container');\n",
       "if (notebookContainer) {{\n",
       "    x.observe(notebookContainer, {childList: true});\n",
       "}}\n",
       "\n",
       "// Listen for the clearing of the current output cell\n",
       "var outputEl = gd.closest('.output');\n",
       "if (outputEl) {{\n",
       "    x.observe(outputEl, {childList: true});\n",
       "}}\n",
       "\n",
       "                        })                };                });            </script>        </div>"
      ]
     },
     "metadata": {},
     "output_type": "display_data"
    }
   ],
   "source": [
    "fig = px.bar(top_15, x='Film', y= 'Worldwide Gross',  hover_data = top_15[['Year','Genre']], color='Genre')\n",
    "fig.update_layout(xaxis={'categoryorder':'total descending'})\n",
    "fig.show()"
   ]
  },
  {
   "cell_type": "markdown",
   "id": "b9783551",
   "metadata": {
    "papermill": {
     "duration": 0.072151,
     "end_time": "2021-07-21T08:12:19.232455",
     "exception": false,
     "start_time": "2021-07-21T08:12:19.160304",
     "status": "completed"
    },
    "tags": []
   },
   "source": [
    "- Let's see top 15 Rotten Tomatoes % Rating Movies"
   ]
  },
  {
   "cell_type": "markdown",
   "id": "128edd35",
   "metadata": {
    "papermill": {
     "duration": 0.071273,
     "end_time": "2021-07-21T08:12:19.375841",
     "exception": false,
     "start_time": "2021-07-21T08:12:19.304568",
     "status": "completed"
    },
    "tags": []
   },
   "source": [
    "#### Top 15 Rotten Tomatoes % Rating Movies"
   ]
  },
  {
   "cell_type": "code",
   "execution_count": 34,
   "id": "074389e1",
   "metadata": {
    "_kg_hide-input": true,
    "execution": {
     "iopub.execute_input": "2021-07-21T08:12:19.521770Z",
     "iopub.status.busy": "2021-07-21T08:12:19.521122Z",
     "iopub.status.idle": "2021-07-21T08:12:19.543547Z",
     "shell.execute_reply": "2021-07-21T08:12:19.544098Z",
     "shell.execute_reply.started": "2021-07-09T20:49:13.38768Z"
    },
    "papermill": {
     "duration": 0.097152,
     "end_time": "2021-07-21T08:12:19.544285",
     "exception": false,
     "start_time": "2021-07-21T08:12:19.447133",
     "status": "completed"
    },
    "tags": []
   },
   "outputs": [
    {
     "data": {
      "text/html": [
       "<div>\n",
       "<style scoped>\n",
       "    .dataframe tbody tr th:only-of-type {\n",
       "        vertical-align: middle;\n",
       "    }\n",
       "\n",
       "    .dataframe tbody tr th {\n",
       "        vertical-align: top;\n",
       "    }\n",
       "\n",
       "    .dataframe thead th {\n",
       "        text-align: right;\n",
       "    }\n",
       "</style>\n",
       "<table border=\"1\" class=\"dataframe\">\n",
       "  <thead>\n",
       "    <tr style=\"text-align: right;\">\n",
       "      <th></th>\n",
       "      <th>Film</th>\n",
       "      <th>Genre</th>\n",
       "      <th>Lead Studio</th>\n",
       "      <th>Audience  score %</th>\n",
       "      <th>Profitability</th>\n",
       "      <th>Rotten Tomatoes %</th>\n",
       "      <th>Worldwide Gross</th>\n",
       "      <th>Year</th>\n",
       "    </tr>\n",
       "  </thead>\n",
       "  <tbody>\n",
       "    <tr>\n",
       "      <th>67</th>\n",
       "      <td>WALL-E</td>\n",
       "      <td>Animation</td>\n",
       "      <td>Disney</td>\n",
       "      <td>89.0</td>\n",
       "      <td>2.896019</td>\n",
       "      <td>96.0</td>\n",
       "      <td>521.283432</td>\n",
       "      <td>2008</td>\n",
       "    </tr>\n",
       "    <tr>\n",
       "      <th>31</th>\n",
       "      <td>Midnight in Paris</td>\n",
       "      <td>Romance</td>\n",
       "      <td>Sony</td>\n",
       "      <td>84.0</td>\n",
       "      <td>8.744706</td>\n",
       "      <td>93.0</td>\n",
       "      <td>148.660000</td>\n",
       "      <td>2011</td>\n",
       "    </tr>\n",
       "    <tr>\n",
       "      <th>7</th>\n",
       "      <td>Enchanted</td>\n",
       "      <td>Comedy</td>\n",
       "      <td>Disney</td>\n",
       "      <td>80.0</td>\n",
       "      <td>4.005737</td>\n",
       "      <td>93.0</td>\n",
       "      <td>340.487652</td>\n",
       "      <td>2007</td>\n",
       "    </tr>\n",
       "    <tr>\n",
       "      <th>21</th>\n",
       "      <td>Knocked Up</td>\n",
       "      <td>Comedy</td>\n",
       "      <td>Universal</td>\n",
       "      <td>83.0</td>\n",
       "      <td>6.636402</td>\n",
       "      <td>91.0</td>\n",
       "      <td>219.001261</td>\n",
       "      <td>2007</td>\n",
       "    </tr>\n",
       "    <tr>\n",
       "      <th>51</th>\n",
       "      <td>Tangled</td>\n",
       "      <td>Animation</td>\n",
       "      <td>Disney</td>\n",
       "      <td>88.0</td>\n",
       "      <td>1.365692</td>\n",
       "      <td>89.0</td>\n",
       "      <td>355.080000</td>\n",
       "      <td>2010</td>\n",
       "    </tr>\n",
       "    <tr>\n",
       "      <th>3</th>\n",
       "      <td>A Serious Man</td>\n",
       "      <td>Drama</td>\n",
       "      <td>Universal</td>\n",
       "      <td>64.0</td>\n",
       "      <td>4.382857</td>\n",
       "      <td>89.0</td>\n",
       "      <td>30.680000</td>\n",
       "      <td>2009</td>\n",
       "    </tr>\n",
       "    <tr>\n",
       "      <th>66</th>\n",
       "      <td>Waitress</td>\n",
       "      <td>Romance</td>\n",
       "      <td>Independent</td>\n",
       "      <td>67.0</td>\n",
       "      <td>11.089742</td>\n",
       "      <td>89.0</td>\n",
       "      <td>22.179483</td>\n",
       "      <td>2007</td>\n",
       "    </tr>\n",
       "    <tr>\n",
       "      <th>1</th>\n",
       "      <td>(500) Days of Summer</td>\n",
       "      <td>Comedy</td>\n",
       "      <td>Fox</td>\n",
       "      <td>81.0</td>\n",
       "      <td>8.096000</td>\n",
       "      <td>87.0</td>\n",
       "      <td>60.720000</td>\n",
       "      <td>2009</td>\n",
       "    </tr>\n",
       "    <tr>\n",
       "      <th>45</th>\n",
       "      <td>Rachel Getting Married</td>\n",
       "      <td>Drama</td>\n",
       "      <td>Independent</td>\n",
       "      <td>61.0</td>\n",
       "      <td>1.384167</td>\n",
       "      <td>85.0</td>\n",
       "      <td>16.610000</td>\n",
       "      <td>2008</td>\n",
       "    </tr>\n",
       "    <tr>\n",
       "      <th>18</th>\n",
       "      <td>Jane Eyre</td>\n",
       "      <td>Romance</td>\n",
       "      <td>Universal</td>\n",
       "      <td>77.0</td>\n",
       "      <td>NaN</td>\n",
       "      <td>85.0</td>\n",
       "      <td>30.147000</td>\n",
       "      <td>2011</td>\n",
       "    </tr>\n",
       "    <tr>\n",
       "      <th>5</th>\n",
       "      <td>Beginners</td>\n",
       "      <td>Comedy</td>\n",
       "      <td>Independent</td>\n",
       "      <td>80.0</td>\n",
       "      <td>4.471875</td>\n",
       "      <td>84.0</td>\n",
       "      <td>14.310000</td>\n",
       "      <td>2011</td>\n",
       "    </tr>\n",
       "    <tr>\n",
       "      <th>35</th>\n",
       "      <td>My Week with Marilyn</td>\n",
       "      <td>Drama</td>\n",
       "      <td>The Weinstein Company</td>\n",
       "      <td>84.0</td>\n",
       "      <td>0.825800</td>\n",
       "      <td>83.0</td>\n",
       "      <td>8.258000</td>\n",
       "      <td>2011</td>\n",
       "    </tr>\n",
       "    <tr>\n",
       "      <th>2</th>\n",
       "      <td>A Dangerous Method</td>\n",
       "      <td>Drama</td>\n",
       "      <td>Independent</td>\n",
       "      <td>89.0</td>\n",
       "      <td>0.448645</td>\n",
       "      <td>79.0</td>\n",
       "      <td>8.972895</td>\n",
       "      <td>2011</td>\n",
       "    </tr>\n",
       "    <tr>\n",
       "      <th>32</th>\n",
       "      <td>Miss Pettigrew Lives for a Day</td>\n",
       "      <td>Comedy</td>\n",
       "      <td>Independent</td>\n",
       "      <td>70.0</td>\n",
       "      <td>0.252895</td>\n",
       "      <td>78.0</td>\n",
       "      <td>15.173694</td>\n",
       "      <td>2008</td>\n",
       "    </tr>\n",
       "    <tr>\n",
       "      <th>37</th>\n",
       "      <td>Nick and Norah's Infinite Playlist</td>\n",
       "      <td>Comedy</td>\n",
       "      <td>Sony</td>\n",
       "      <td>67.0</td>\n",
       "      <td>3.352729</td>\n",
       "      <td>73.0</td>\n",
       "      <td>33.527293</td>\n",
       "      <td>2008</td>\n",
       "    </tr>\n",
       "  </tbody>\n",
       "</table>\n",
       "</div>"
      ],
      "text/plain": [
       "                                  Film      Genre            Lead Studio  \\\n",
       "67                              WALL-E  Animation                 Disney   \n",
       "31                   Midnight in Paris    Romance                   Sony   \n",
       "7                            Enchanted     Comedy                 Disney   \n",
       "21                          Knocked Up     Comedy              Universal   \n",
       "51                             Tangled  Animation                 Disney   \n",
       "3                        A Serious Man      Drama              Universal   \n",
       "66                            Waitress    Romance            Independent   \n",
       "1                 (500) Days of Summer     Comedy                    Fox   \n",
       "45              Rachel Getting Married      Drama            Independent   \n",
       "18                           Jane Eyre    Romance              Universal   \n",
       "5                            Beginners     Comedy            Independent   \n",
       "35                My Week with Marilyn      Drama  The Weinstein Company   \n",
       "2                   A Dangerous Method      Drama            Independent   \n",
       "32      Miss Pettigrew Lives for a Day     Comedy            Independent   \n",
       "37  Nick and Norah's Infinite Playlist     Comedy                   Sony   \n",
       "\n",
       "    Audience  score %  Profitability  Rotten Tomatoes %  Worldwide Gross  Year  \n",
       "67               89.0       2.896019               96.0       521.283432  2008  \n",
       "31               84.0       8.744706               93.0       148.660000  2011  \n",
       "7                80.0       4.005737               93.0       340.487652  2007  \n",
       "21               83.0       6.636402               91.0       219.001261  2007  \n",
       "51               88.0       1.365692               89.0       355.080000  2010  \n",
       "3                64.0       4.382857               89.0        30.680000  2009  \n",
       "66               67.0      11.089742               89.0        22.179483  2007  \n",
       "1                81.0       8.096000               87.0        60.720000  2009  \n",
       "45               61.0       1.384167               85.0        16.610000  2008  \n",
       "18               77.0            NaN               85.0        30.147000  2011  \n",
       "5                80.0       4.471875               84.0        14.310000  2011  \n",
       "35               84.0       0.825800               83.0         8.258000  2011  \n",
       "2                89.0       0.448645               79.0         8.972895  2011  \n",
       "32               70.0       0.252895               78.0        15.173694  2008  \n",
       "37               67.0       3.352729               73.0        33.527293  2008  "
      ]
     },
     "execution_count": 34,
     "metadata": {},
     "output_type": "execute_result"
    }
   ],
   "source": [
    "rotten_tomatoes_top_15 = df.sort_values('Rotten Tomatoes %', ascending=False)[:15]\n",
    "rotten_tomatoes_top_15"
   ]
  },
  {
   "cell_type": "code",
   "execution_count": 35,
   "id": "2377af46",
   "metadata": {
    "_kg_hide-input": true,
    "execution": {
     "iopub.execute_input": "2021-07-21T08:12:19.692637Z",
     "iopub.status.busy": "2021-07-21T08:12:19.692029Z",
     "iopub.status.idle": "2021-07-21T08:12:19.782739Z",
     "shell.execute_reply": "2021-07-21T08:12:19.782193Z",
     "shell.execute_reply.started": "2021-07-09T20:49:13.411554Z"
    },
    "papermill": {
     "duration": 0.16597,
     "end_time": "2021-07-21T08:12:19.782886",
     "exception": false,
     "start_time": "2021-07-21T08:12:19.616916",
     "status": "completed"
    },
    "tags": []
   },
   "outputs": [
    {
     "data": {
      "text/html": [
       "<div>                            <div id=\"ca7379ed-2329-4ca2-bf07-b3e55758f299\" class=\"plotly-graph-div\" style=\"height:525px; width:100%;\"></div>            <script type=\"text/javascript\">                require([\"plotly\"], function(Plotly) {                    window.PLOTLYENV=window.PLOTLYENV || {};                                    if (document.getElementById(\"ca7379ed-2329-4ca2-bf07-b3e55758f299\")) {                    Plotly.newPlot(                        \"ca7379ed-2329-4ca2-bf07-b3e55758f299\",                        [{\"alignmentgroup\":\"True\",\"customdata\":[[2008,\"Animation\"],[2010,\"Animation\"]],\"hovertemplate\":\"Genre=%{customdata[1]}<br>Film=%{x}<br>Rotten Tomatoes %=%{y}<br>Year=%{customdata[0]}<extra></extra>\",\"legendgroup\":\"Animation\",\"marker\":{\"color\":\"#636efa\",\"pattern\":{\"shape\":\"\"}},\"name\":\"Animation\",\"offsetgroup\":\"Animation\",\"orientation\":\"v\",\"showlegend\":true,\"textposition\":\"auto\",\"type\":\"bar\",\"x\":[\"WALL-E\",\"Tangled\"],\"xaxis\":\"x\",\"y\":[96.0,89.0],\"yaxis\":\"y\"},{\"alignmentgroup\":\"True\",\"customdata\":[[2011,\"Romance\"],[2007,\"Romance\"],[2011,\"Romance\"]],\"hovertemplate\":\"Genre=%{customdata[1]}<br>Film=%{x}<br>Rotten Tomatoes %=%{y}<br>Year=%{customdata[0]}<extra></extra>\",\"legendgroup\":\"Romance\",\"marker\":{\"color\":\"#EF553B\",\"pattern\":{\"shape\":\"\"}},\"name\":\"Romance\",\"offsetgroup\":\"Romance\",\"orientation\":\"v\",\"showlegend\":true,\"textposition\":\"auto\",\"type\":\"bar\",\"x\":[\"Midnight in Paris\",\"Waitress\",\"Jane Eyre\"],\"xaxis\":\"x\",\"y\":[93.0,89.0,85.0],\"yaxis\":\"y\"},{\"alignmentgroup\":\"True\",\"customdata\":[[2007,\"Comedy\"],[2007,\"Comedy\"],[2009,\"Comedy\"],[2011,\"Comedy\"],[2008,\"Comedy\"],[2008,\"Comedy\"]],\"hovertemplate\":\"Genre=%{customdata[1]}<br>Film=%{x}<br>Rotten Tomatoes %=%{y}<br>Year=%{customdata[0]}<extra></extra>\",\"legendgroup\":\"Comedy\",\"marker\":{\"color\":\"#00cc96\",\"pattern\":{\"shape\":\"\"}},\"name\":\"Comedy\",\"offsetgroup\":\"Comedy\",\"orientation\":\"v\",\"showlegend\":true,\"textposition\":\"auto\",\"type\":\"bar\",\"x\":[\"Enchanted\",\"Knocked Up\",\"(500) Days of Summer\",\"Beginners\",\"Miss Pettigrew Lives for a Day\",\"Nick and Norah's Infinite Playlist\"],\"xaxis\":\"x\",\"y\":[93.0,91.0,87.0,84.0,78.0,73.0],\"yaxis\":\"y\"},{\"alignmentgroup\":\"True\",\"customdata\":[[2009,\"Drama\"],[2008,\"Drama\"],[2011,\"Drama\"],[2011,\"Drama\"]],\"hovertemplate\":\"Genre=%{customdata[1]}<br>Film=%{x}<br>Rotten Tomatoes %=%{y}<br>Year=%{customdata[0]}<extra></extra>\",\"legendgroup\":\"Drama\",\"marker\":{\"color\":\"#ab63fa\",\"pattern\":{\"shape\":\"\"}},\"name\":\"Drama\",\"offsetgroup\":\"Drama\",\"orientation\":\"v\",\"showlegend\":true,\"textposition\":\"auto\",\"type\":\"bar\",\"x\":[\"A Serious Man\",\"Rachel Getting Married\",\"My Week with Marilyn\",\"A Dangerous Method\"],\"xaxis\":\"x\",\"y\":[89.0,85.0,83.0,79.0],\"yaxis\":\"y\"}],                        {\"barmode\":\"relative\",\"legend\":{\"title\":{\"text\":\"Genre\"},\"tracegroupgap\":0},\"margin\":{\"t\":60},\"template\":{\"data\":{\"bar\":[{\"error_x\":{\"color\":\"#2a3f5f\"},\"error_y\":{\"color\":\"#2a3f5f\"},\"marker\":{\"line\":{\"color\":\"#E5ECF6\",\"width\":0.5},\"pattern\":{\"fillmode\":\"overlay\",\"size\":10,\"solidity\":0.2}},\"type\":\"bar\"}],\"barpolar\":[{\"marker\":{\"line\":{\"color\":\"#E5ECF6\",\"width\":0.5},\"pattern\":{\"fillmode\":\"overlay\",\"size\":10,\"solidity\":0.2}},\"type\":\"barpolar\"}],\"carpet\":[{\"aaxis\":{\"endlinecolor\":\"#2a3f5f\",\"gridcolor\":\"white\",\"linecolor\":\"white\",\"minorgridcolor\":\"white\",\"startlinecolor\":\"#2a3f5f\"},\"baxis\":{\"endlinecolor\":\"#2a3f5f\",\"gridcolor\":\"white\",\"linecolor\":\"white\",\"minorgridcolor\":\"white\",\"startlinecolor\":\"#2a3f5f\"},\"type\":\"carpet\"}],\"choropleth\":[{\"colorbar\":{\"outlinewidth\":0,\"ticks\":\"\"},\"type\":\"choropleth\"}],\"contour\":[{\"colorbar\":{\"outlinewidth\":0,\"ticks\":\"\"},\"colorscale\":[[0.0,\"#0d0887\"],[0.1111111111111111,\"#46039f\"],[0.2222222222222222,\"#7201a8\"],[0.3333333333333333,\"#9c179e\"],[0.4444444444444444,\"#bd3786\"],[0.5555555555555556,\"#d8576b\"],[0.6666666666666666,\"#ed7953\"],[0.7777777777777778,\"#fb9f3a\"],[0.8888888888888888,\"#fdca26\"],[1.0,\"#f0f921\"]],\"type\":\"contour\"}],\"contourcarpet\":[{\"colorbar\":{\"outlinewidth\":0,\"ticks\":\"\"},\"type\":\"contourcarpet\"}],\"heatmap\":[{\"colorbar\":{\"outlinewidth\":0,\"ticks\":\"\"},\"colorscale\":[[0.0,\"#0d0887\"],[0.1111111111111111,\"#46039f\"],[0.2222222222222222,\"#7201a8\"],[0.3333333333333333,\"#9c179e\"],[0.4444444444444444,\"#bd3786\"],[0.5555555555555556,\"#d8576b\"],[0.6666666666666666,\"#ed7953\"],[0.7777777777777778,\"#fb9f3a\"],[0.8888888888888888,\"#fdca26\"],[1.0,\"#f0f921\"]],\"type\":\"heatmap\"}],\"heatmapgl\":[{\"colorbar\":{\"outlinewidth\":0,\"ticks\":\"\"},\"colorscale\":[[0.0,\"#0d0887\"],[0.1111111111111111,\"#46039f\"],[0.2222222222222222,\"#7201a8\"],[0.3333333333333333,\"#9c179e\"],[0.4444444444444444,\"#bd3786\"],[0.5555555555555556,\"#d8576b\"],[0.6666666666666666,\"#ed7953\"],[0.7777777777777778,\"#fb9f3a\"],[0.8888888888888888,\"#fdca26\"],[1.0,\"#f0f921\"]],\"type\":\"heatmapgl\"}],\"histogram\":[{\"marker\":{\"pattern\":{\"fillmode\":\"overlay\",\"size\":10,\"solidity\":0.2}},\"type\":\"histogram\"}],\"histogram2d\":[{\"colorbar\":{\"outlinewidth\":0,\"ticks\":\"\"},\"colorscale\":[[0.0,\"#0d0887\"],[0.1111111111111111,\"#46039f\"],[0.2222222222222222,\"#7201a8\"],[0.3333333333333333,\"#9c179e\"],[0.4444444444444444,\"#bd3786\"],[0.5555555555555556,\"#d8576b\"],[0.6666666666666666,\"#ed7953\"],[0.7777777777777778,\"#fb9f3a\"],[0.8888888888888888,\"#fdca26\"],[1.0,\"#f0f921\"]],\"type\":\"histogram2d\"}],\"histogram2dcontour\":[{\"colorbar\":{\"outlinewidth\":0,\"ticks\":\"\"},\"colorscale\":[[0.0,\"#0d0887\"],[0.1111111111111111,\"#46039f\"],[0.2222222222222222,\"#7201a8\"],[0.3333333333333333,\"#9c179e\"],[0.4444444444444444,\"#bd3786\"],[0.5555555555555556,\"#d8576b\"],[0.6666666666666666,\"#ed7953\"],[0.7777777777777778,\"#fb9f3a\"],[0.8888888888888888,\"#fdca26\"],[1.0,\"#f0f921\"]],\"type\":\"histogram2dcontour\"}],\"mesh3d\":[{\"colorbar\":{\"outlinewidth\":0,\"ticks\":\"\"},\"type\":\"mesh3d\"}],\"parcoords\":[{\"line\":{\"colorbar\":{\"outlinewidth\":0,\"ticks\":\"\"}},\"type\":\"parcoords\"}],\"pie\":[{\"automargin\":true,\"type\":\"pie\"}],\"scatter\":[{\"marker\":{\"colorbar\":{\"outlinewidth\":0,\"ticks\":\"\"}},\"type\":\"scatter\"}],\"scatter3d\":[{\"line\":{\"colorbar\":{\"outlinewidth\":0,\"ticks\":\"\"}},\"marker\":{\"colorbar\":{\"outlinewidth\":0,\"ticks\":\"\"}},\"type\":\"scatter3d\"}],\"scattercarpet\":[{\"marker\":{\"colorbar\":{\"outlinewidth\":0,\"ticks\":\"\"}},\"type\":\"scattercarpet\"}],\"scattergeo\":[{\"marker\":{\"colorbar\":{\"outlinewidth\":0,\"ticks\":\"\"}},\"type\":\"scattergeo\"}],\"scattergl\":[{\"marker\":{\"colorbar\":{\"outlinewidth\":0,\"ticks\":\"\"}},\"type\":\"scattergl\"}],\"scattermapbox\":[{\"marker\":{\"colorbar\":{\"outlinewidth\":0,\"ticks\":\"\"}},\"type\":\"scattermapbox\"}],\"scatterpolar\":[{\"marker\":{\"colorbar\":{\"outlinewidth\":0,\"ticks\":\"\"}},\"type\":\"scatterpolar\"}],\"scatterpolargl\":[{\"marker\":{\"colorbar\":{\"outlinewidth\":0,\"ticks\":\"\"}},\"type\":\"scatterpolargl\"}],\"scatterternary\":[{\"marker\":{\"colorbar\":{\"outlinewidth\":0,\"ticks\":\"\"}},\"type\":\"scatterternary\"}],\"surface\":[{\"colorbar\":{\"outlinewidth\":0,\"ticks\":\"\"},\"colorscale\":[[0.0,\"#0d0887\"],[0.1111111111111111,\"#46039f\"],[0.2222222222222222,\"#7201a8\"],[0.3333333333333333,\"#9c179e\"],[0.4444444444444444,\"#bd3786\"],[0.5555555555555556,\"#d8576b\"],[0.6666666666666666,\"#ed7953\"],[0.7777777777777778,\"#fb9f3a\"],[0.8888888888888888,\"#fdca26\"],[1.0,\"#f0f921\"]],\"type\":\"surface\"}],\"table\":[{\"cells\":{\"fill\":{\"color\":\"#EBF0F8\"},\"line\":{\"color\":\"white\"}},\"header\":{\"fill\":{\"color\":\"#C8D4E3\"},\"line\":{\"color\":\"white\"}},\"type\":\"table\"}]},\"layout\":{\"annotationdefaults\":{\"arrowcolor\":\"#2a3f5f\",\"arrowhead\":0,\"arrowwidth\":1},\"autotypenumbers\":\"strict\",\"coloraxis\":{\"colorbar\":{\"outlinewidth\":0,\"ticks\":\"\"}},\"colorscale\":{\"diverging\":[[0,\"#8e0152\"],[0.1,\"#c51b7d\"],[0.2,\"#de77ae\"],[0.3,\"#f1b6da\"],[0.4,\"#fde0ef\"],[0.5,\"#f7f7f7\"],[0.6,\"#e6f5d0\"],[0.7,\"#b8e186\"],[0.8,\"#7fbc41\"],[0.9,\"#4d9221\"],[1,\"#276419\"]],\"sequential\":[[0.0,\"#0d0887\"],[0.1111111111111111,\"#46039f\"],[0.2222222222222222,\"#7201a8\"],[0.3333333333333333,\"#9c179e\"],[0.4444444444444444,\"#bd3786\"],[0.5555555555555556,\"#d8576b\"],[0.6666666666666666,\"#ed7953\"],[0.7777777777777778,\"#fb9f3a\"],[0.8888888888888888,\"#fdca26\"],[1.0,\"#f0f921\"]],\"sequentialminus\":[[0.0,\"#0d0887\"],[0.1111111111111111,\"#46039f\"],[0.2222222222222222,\"#7201a8\"],[0.3333333333333333,\"#9c179e\"],[0.4444444444444444,\"#bd3786\"],[0.5555555555555556,\"#d8576b\"],[0.6666666666666666,\"#ed7953\"],[0.7777777777777778,\"#fb9f3a\"],[0.8888888888888888,\"#fdca26\"],[1.0,\"#f0f921\"]]},\"colorway\":[\"#636efa\",\"#EF553B\",\"#00cc96\",\"#ab63fa\",\"#FFA15A\",\"#19d3f3\",\"#FF6692\",\"#B6E880\",\"#FF97FF\",\"#FECB52\"],\"font\":{\"color\":\"#2a3f5f\"},\"geo\":{\"bgcolor\":\"white\",\"lakecolor\":\"white\",\"landcolor\":\"#E5ECF6\",\"showlakes\":true,\"showland\":true,\"subunitcolor\":\"white\"},\"hoverlabel\":{\"align\":\"left\"},\"hovermode\":\"closest\",\"mapbox\":{\"style\":\"light\"},\"paper_bgcolor\":\"white\",\"plot_bgcolor\":\"#E5ECF6\",\"polar\":{\"angularaxis\":{\"gridcolor\":\"white\",\"linecolor\":\"white\",\"ticks\":\"\"},\"bgcolor\":\"#E5ECF6\",\"radialaxis\":{\"gridcolor\":\"white\",\"linecolor\":\"white\",\"ticks\":\"\"}},\"scene\":{\"xaxis\":{\"backgroundcolor\":\"#E5ECF6\",\"gridcolor\":\"white\",\"gridwidth\":2,\"linecolor\":\"white\",\"showbackground\":true,\"ticks\":\"\",\"zerolinecolor\":\"white\"},\"yaxis\":{\"backgroundcolor\":\"#E5ECF6\",\"gridcolor\":\"white\",\"gridwidth\":2,\"linecolor\":\"white\",\"showbackground\":true,\"ticks\":\"\",\"zerolinecolor\":\"white\"},\"zaxis\":{\"backgroundcolor\":\"#E5ECF6\",\"gridcolor\":\"white\",\"gridwidth\":2,\"linecolor\":\"white\",\"showbackground\":true,\"ticks\":\"\",\"zerolinecolor\":\"white\"}},\"shapedefaults\":{\"line\":{\"color\":\"#2a3f5f\"}},\"ternary\":{\"aaxis\":{\"gridcolor\":\"white\",\"linecolor\":\"white\",\"ticks\":\"\"},\"baxis\":{\"gridcolor\":\"white\",\"linecolor\":\"white\",\"ticks\":\"\"},\"bgcolor\":\"#E5ECF6\",\"caxis\":{\"gridcolor\":\"white\",\"linecolor\":\"white\",\"ticks\":\"\"}},\"title\":{\"x\":0.05},\"xaxis\":{\"automargin\":true,\"gridcolor\":\"white\",\"linecolor\":\"white\",\"ticks\":\"\",\"title\":{\"standoff\":15},\"zerolinecolor\":\"white\",\"zerolinewidth\":2},\"yaxis\":{\"automargin\":true,\"gridcolor\":\"white\",\"linecolor\":\"white\",\"ticks\":\"\",\"title\":{\"standoff\":15},\"zerolinecolor\":\"white\",\"zerolinewidth\":2}}},\"xaxis\":{\"anchor\":\"y\",\"categoryorder\":\"total descending\",\"domain\":[0.0,1.0],\"title\":{\"text\":\"Film\"}},\"yaxis\":{\"anchor\":\"x\",\"domain\":[0.0,1.0],\"title\":{\"text\":\"Rotten Tomatoes %\"}}},                        {\"responsive\": true}                    ).then(function(){\n",
       "                            \n",
       "var gd = document.getElementById('ca7379ed-2329-4ca2-bf07-b3e55758f299');\n",
       "var x = new MutationObserver(function (mutations, observer) {{\n",
       "        var display = window.getComputedStyle(gd).display;\n",
       "        if (!display || display === 'none') {{\n",
       "            console.log([gd, 'removed!']);\n",
       "            Plotly.purge(gd);\n",
       "            observer.disconnect();\n",
       "        }}\n",
       "}});\n",
       "\n",
       "// Listen for the removal of the full notebook cells\n",
       "var notebookContainer = gd.closest('#notebook-container');\n",
       "if (notebookContainer) {{\n",
       "    x.observe(notebookContainer, {childList: true});\n",
       "}}\n",
       "\n",
       "// Listen for the clearing of the current output cell\n",
       "var outputEl = gd.closest('.output');\n",
       "if (outputEl) {{\n",
       "    x.observe(outputEl, {childList: true});\n",
       "}}\n",
       "\n",
       "                        })                };                });            </script>        </div>"
      ]
     },
     "metadata": {},
     "output_type": "display_data"
    }
   ],
   "source": [
    "fig = px.bar(rotten_tomatoes_top_15, x='Film', y= 'Rotten Tomatoes %',  hover_data = rotten_tomatoes_top_15[['Year','Genre']], color='Genre')\n",
    "fig.update_layout(xaxis={'categoryorder':'total descending'})\n",
    "fig.show()"
   ]
  },
  {
   "cell_type": "markdown",
   "id": "c5651ee2",
   "metadata": {
    "papermill": {
     "duration": 0.073931,
     "end_time": "2021-07-21T08:12:19.929775",
     "exception": false,
     "start_time": "2021-07-21T08:12:19.855844",
     "status": "completed"
    },
    "tags": []
   },
   "source": [
    "- Let's see top 15 Audience score % Rating Movies"
   ]
  },
  {
   "cell_type": "markdown",
   "id": "b46d9adf",
   "metadata": {
    "papermill": {
     "duration": 0.073339,
     "end_time": "2021-07-21T08:12:20.076647",
     "exception": false,
     "start_time": "2021-07-21T08:12:20.003308",
     "status": "completed"
    },
    "tags": []
   },
   "source": [
    "#### Top 15 Audience score % Rating Movies"
   ]
  },
  {
   "cell_type": "code",
   "execution_count": 36,
   "id": "b067689c",
   "metadata": {
    "_kg_hide-input": true,
    "execution": {
     "iopub.execute_input": "2021-07-21T08:12:20.245675Z",
     "iopub.status.busy": "2021-07-21T08:12:20.244708Z",
     "iopub.status.idle": "2021-07-21T08:12:20.249508Z",
     "shell.execute_reply": "2021-07-21T08:12:20.248882Z",
     "shell.execute_reply.started": "2021-07-09T20:49:13.498986Z"
    },
    "papermill": {
     "duration": 0.100124,
     "end_time": "2021-07-21T08:12:20.249645",
     "exception": false,
     "start_time": "2021-07-21T08:12:20.149521",
     "status": "completed"
    },
    "tags": []
   },
   "outputs": [
    {
     "data": {
      "text/html": [
       "<div>\n",
       "<style scoped>\n",
       "    .dataframe tbody tr th:only-of-type {\n",
       "        vertical-align: middle;\n",
       "    }\n",
       "\n",
       "    .dataframe tbody tr th {\n",
       "        vertical-align: top;\n",
       "    }\n",
       "\n",
       "    .dataframe thead th {\n",
       "        text-align: right;\n",
       "    }\n",
       "</style>\n",
       "<table border=\"1\" class=\"dataframe\">\n",
       "  <thead>\n",
       "    <tr style=\"text-align: right;\">\n",
       "      <th></th>\n",
       "      <th>Film</th>\n",
       "      <th>Genre</th>\n",
       "      <th>Lead Studio</th>\n",
       "      <th>Audience  score %</th>\n",
       "      <th>Profitability</th>\n",
       "      <th>Rotten Tomatoes %</th>\n",
       "      <th>Worldwide Gross</th>\n",
       "      <th>Year</th>\n",
       "    </tr>\n",
       "  </thead>\n",
       "  <tbody>\n",
       "    <tr>\n",
       "      <th>2</th>\n",
       "      <td>A Dangerous Method</td>\n",
       "      <td>Drama</td>\n",
       "      <td>Independent</td>\n",
       "      <td>89.0</td>\n",
       "      <td>0.448645</td>\n",
       "      <td>79.0</td>\n",
       "      <td>8.972895</td>\n",
       "      <td>2011</td>\n",
       "    </tr>\n",
       "    <tr>\n",
       "      <th>67</th>\n",
       "      <td>WALL-E</td>\n",
       "      <td>Animation</td>\n",
       "      <td>Disney</td>\n",
       "      <td>89.0</td>\n",
       "      <td>2.896019</td>\n",
       "      <td>96.0</td>\n",
       "      <td>521.283432</td>\n",
       "      <td>2008</td>\n",
       "    </tr>\n",
       "    <tr>\n",
       "      <th>51</th>\n",
       "      <td>Tangled</td>\n",
       "      <td>Animation</td>\n",
       "      <td>Disney</td>\n",
       "      <td>88.0</td>\n",
       "      <td>1.365692</td>\n",
       "      <td>89.0</td>\n",
       "      <td>355.080000</td>\n",
       "      <td>2010</td>\n",
       "    </tr>\n",
       "    <tr>\n",
       "      <th>31</th>\n",
       "      <td>Midnight in Paris</td>\n",
       "      <td>Romance</td>\n",
       "      <td>Sony</td>\n",
       "      <td>84.0</td>\n",
       "      <td>8.744706</td>\n",
       "      <td>93.0</td>\n",
       "      <td>148.660000</td>\n",
       "      <td>2011</td>\n",
       "    </tr>\n",
       "    <tr>\n",
       "      <th>4</th>\n",
       "      <td>Across the Universe</td>\n",
       "      <td>Romance</td>\n",
       "      <td>Independent</td>\n",
       "      <td>84.0</td>\n",
       "      <td>0.652603</td>\n",
       "      <td>54.0</td>\n",
       "      <td>29.367143</td>\n",
       "      <td>2007</td>\n",
       "    </tr>\n",
       "    <tr>\n",
       "      <th>35</th>\n",
       "      <td>My Week with Marilyn</td>\n",
       "      <td>Drama</td>\n",
       "      <td>The Weinstein Company</td>\n",
       "      <td>84.0</td>\n",
       "      <td>0.825800</td>\n",
       "      <td>83.0</td>\n",
       "      <td>8.258000</td>\n",
       "      <td>2011</td>\n",
       "    </tr>\n",
       "    <tr>\n",
       "      <th>21</th>\n",
       "      <td>Knocked Up</td>\n",
       "      <td>Comedy</td>\n",
       "      <td>Universal</td>\n",
       "      <td>83.0</td>\n",
       "      <td>6.636402</td>\n",
       "      <td>91.0</td>\n",
       "      <td>219.001261</td>\n",
       "      <td>2007</td>\n",
       "    </tr>\n",
       "    <tr>\n",
       "      <th>61</th>\n",
       "      <td>Twilight</td>\n",
       "      <td>Romance</td>\n",
       "      <td>Summit</td>\n",
       "      <td>82.0</td>\n",
       "      <td>10.180027</td>\n",
       "      <td>49.0</td>\n",
       "      <td>376.661000</td>\n",
       "      <td>2008</td>\n",
       "    </tr>\n",
       "    <tr>\n",
       "      <th>43</th>\n",
       "      <td>P.S. I Love You</td>\n",
       "      <td>Romance</td>\n",
       "      <td>Independent</td>\n",
       "      <td>82.0</td>\n",
       "      <td>5.103117</td>\n",
       "      <td>21.0</td>\n",
       "      <td>153.093505</td>\n",
       "      <td>2007</td>\n",
       "    </tr>\n",
       "    <tr>\n",
       "      <th>53</th>\n",
       "      <td>The Curious Case of Benjamin Button</td>\n",
       "      <td>Fantasy</td>\n",
       "      <td>Warner Bros.</td>\n",
       "      <td>81.0</td>\n",
       "      <td>1.783944</td>\n",
       "      <td>73.0</td>\n",
       "      <td>285.431000</td>\n",
       "      <td>2008</td>\n",
       "    </tr>\n",
       "    <tr>\n",
       "      <th>1</th>\n",
       "      <td>(500) Days of Summer</td>\n",
       "      <td>Comedy</td>\n",
       "      <td>Fox</td>\n",
       "      <td>81.0</td>\n",
       "      <td>8.096000</td>\n",
       "      <td>87.0</td>\n",
       "      <td>60.720000</td>\n",
       "      <td>2009</td>\n",
       "    </tr>\n",
       "    <tr>\n",
       "      <th>47</th>\n",
       "      <td>Sex and the City</td>\n",
       "      <td>Comedy</td>\n",
       "      <td>Warner Bros.</td>\n",
       "      <td>81.0</td>\n",
       "      <td>7.221796</td>\n",
       "      <td>49.0</td>\n",
       "      <td>415.253258</td>\n",
       "      <td>2008</td>\n",
       "    </tr>\n",
       "    <tr>\n",
       "      <th>5</th>\n",
       "      <td>Beginners</td>\n",
       "      <td>Comedy</td>\n",
       "      <td>Independent</td>\n",
       "      <td>80.0</td>\n",
       "      <td>4.471875</td>\n",
       "      <td>84.0</td>\n",
       "      <td>14.310000</td>\n",
       "      <td>2011</td>\n",
       "    </tr>\n",
       "    <tr>\n",
       "      <th>7</th>\n",
       "      <td>Enchanted</td>\n",
       "      <td>Comedy</td>\n",
       "      <td>Disney</td>\n",
       "      <td>80.0</td>\n",
       "      <td>4.005737</td>\n",
       "      <td>93.0</td>\n",
       "      <td>340.487652</td>\n",
       "      <td>2007</td>\n",
       "    </tr>\n",
       "    <tr>\n",
       "      <th>59</th>\n",
       "      <td>The Twilight Saga: New Moon</td>\n",
       "      <td>Drama</td>\n",
       "      <td>Summit</td>\n",
       "      <td>78.0</td>\n",
       "      <td>14.196400</td>\n",
       "      <td>27.0</td>\n",
       "      <td>709.820000</td>\n",
       "      <td>2009</td>\n",
       "    </tr>\n",
       "  </tbody>\n",
       "</table>\n",
       "</div>"
      ],
      "text/plain": [
       "                                   Film      Genre            Lead Studio  \\\n",
       "2                    A Dangerous Method      Drama            Independent   \n",
       "67                               WALL-E  Animation                 Disney   \n",
       "51                              Tangled  Animation                 Disney   \n",
       "31                    Midnight in Paris    Romance                   Sony   \n",
       "4                   Across the Universe    Romance            Independent   \n",
       "35                 My Week with Marilyn      Drama  The Weinstein Company   \n",
       "21                           Knocked Up     Comedy              Universal   \n",
       "61                             Twilight    Romance                 Summit   \n",
       "43                      P.S. I Love You    Romance            Independent   \n",
       "53  The Curious Case of Benjamin Button    Fantasy           Warner Bros.   \n",
       "1                  (500) Days of Summer     Comedy                    Fox   \n",
       "47                     Sex and the City     Comedy           Warner Bros.   \n",
       "5                             Beginners     Comedy            Independent   \n",
       "7                             Enchanted     Comedy                 Disney   \n",
       "59          The Twilight Saga: New Moon      Drama                 Summit   \n",
       "\n",
       "    Audience  score %  Profitability  Rotten Tomatoes %  Worldwide Gross  Year  \n",
       "2                89.0       0.448645               79.0         8.972895  2011  \n",
       "67               89.0       2.896019               96.0       521.283432  2008  \n",
       "51               88.0       1.365692               89.0       355.080000  2010  \n",
       "31               84.0       8.744706               93.0       148.660000  2011  \n",
       "4                84.0       0.652603               54.0        29.367143  2007  \n",
       "35               84.0       0.825800               83.0         8.258000  2011  \n",
       "21               83.0       6.636402               91.0       219.001261  2007  \n",
       "61               82.0      10.180027               49.0       376.661000  2008  \n",
       "43               82.0       5.103117               21.0       153.093505  2007  \n",
       "53               81.0       1.783944               73.0       285.431000  2008  \n",
       "1                81.0       8.096000               87.0        60.720000  2009  \n",
       "47               81.0       7.221796               49.0       415.253258  2008  \n",
       "5                80.0       4.471875               84.0        14.310000  2011  \n",
       "7                80.0       4.005737               93.0       340.487652  2007  \n",
       "59               78.0      14.196400               27.0       709.820000  2009  "
      ]
     },
     "execution_count": 36,
     "metadata": {},
     "output_type": "execute_result"
    }
   ],
   "source": [
    "audience_score_top_15 = df.sort_values('Audience  score %', ascending=False)[:15]\n",
    "audience_score_top_15"
   ]
  },
  {
   "cell_type": "code",
   "execution_count": 37,
   "id": "bfb29783",
   "metadata": {
    "_kg_hide-input": true,
    "execution": {
     "iopub.execute_input": "2021-07-21T08:12:20.401982Z",
     "iopub.status.busy": "2021-07-21T08:12:20.401216Z",
     "iopub.status.idle": "2021-07-21T08:12:20.497022Z",
     "shell.execute_reply": "2021-07-21T08:12:20.496477Z",
     "shell.execute_reply.started": "2021-07-09T20:49:13.52536Z"
    },
    "papermill": {
     "duration": 0.172321,
     "end_time": "2021-07-21T08:12:20.497175",
     "exception": false,
     "start_time": "2021-07-21T08:12:20.324854",
     "status": "completed"
    },
    "tags": []
   },
   "outputs": [
    {
     "data": {
      "text/html": [
       "<div>                            <div id=\"6a080a57-fcf0-43c7-b6cf-45c760edc82e\" class=\"plotly-graph-div\" style=\"height:525px; width:100%;\"></div>            <script type=\"text/javascript\">                require([\"plotly\"], function(Plotly) {                    window.PLOTLYENV=window.PLOTLYENV || {};                                    if (document.getElementById(\"6a080a57-fcf0-43c7-b6cf-45c760edc82e\")) {                    Plotly.newPlot(                        \"6a080a57-fcf0-43c7-b6cf-45c760edc82e\",                        [{\"alignmentgroup\":\"True\",\"customdata\":[[2011,\"Drama\"],[2011,\"Drama\"],[2009,\"Drama\"]],\"hovertemplate\":\"Genre=%{customdata[1]}<br>Film=%{x}<br>Audience  score %=%{y}<br>Year=%{customdata[0]}<extra></extra>\",\"legendgroup\":\"Drama\",\"marker\":{\"color\":\"#636efa\",\"pattern\":{\"shape\":\"\"}},\"name\":\"Drama\",\"offsetgroup\":\"Drama\",\"orientation\":\"v\",\"showlegend\":true,\"textposition\":\"auto\",\"type\":\"bar\",\"x\":[\"A Dangerous Method\",\"My Week with Marilyn\",\"The Twilight Saga: New Moon\"],\"xaxis\":\"x\",\"y\":[89.0,84.0,78.0],\"yaxis\":\"y\"},{\"alignmentgroup\":\"True\",\"customdata\":[[2008,\"Animation\"],[2010,\"Animation\"]],\"hovertemplate\":\"Genre=%{customdata[1]}<br>Film=%{x}<br>Audience  score %=%{y}<br>Year=%{customdata[0]}<extra></extra>\",\"legendgroup\":\"Animation\",\"marker\":{\"color\":\"#EF553B\",\"pattern\":{\"shape\":\"\"}},\"name\":\"Animation\",\"offsetgroup\":\"Animation\",\"orientation\":\"v\",\"showlegend\":true,\"textposition\":\"auto\",\"type\":\"bar\",\"x\":[\"WALL-E\",\"Tangled\"],\"xaxis\":\"x\",\"y\":[89.0,88.0],\"yaxis\":\"y\"},{\"alignmentgroup\":\"True\",\"customdata\":[[2011,\"Romance\"],[2007,\"Romance\"],[2008,\"Romance\"],[2007,\"Romance\"]],\"hovertemplate\":\"Genre=%{customdata[1]}<br>Film=%{x}<br>Audience  score %=%{y}<br>Year=%{customdata[0]}<extra></extra>\",\"legendgroup\":\"Romance\",\"marker\":{\"color\":\"#00cc96\",\"pattern\":{\"shape\":\"\"}},\"name\":\"Romance\",\"offsetgroup\":\"Romance\",\"orientation\":\"v\",\"showlegend\":true,\"textposition\":\"auto\",\"type\":\"bar\",\"x\":[\"Midnight in Paris\",\"Across the Universe\",\"Twilight\",\"P.S. I Love You\"],\"xaxis\":\"x\",\"y\":[84.0,84.0,82.0,82.0],\"yaxis\":\"y\"},{\"alignmentgroup\":\"True\",\"customdata\":[[2007,\"Comedy\"],[2009,\"Comedy\"],[2008,\"Comedy\"],[2011,\"Comedy\"],[2007,\"Comedy\"]],\"hovertemplate\":\"Genre=%{customdata[1]}<br>Film=%{x}<br>Audience  score %=%{y}<br>Year=%{customdata[0]}<extra></extra>\",\"legendgroup\":\"Comedy\",\"marker\":{\"color\":\"#ab63fa\",\"pattern\":{\"shape\":\"\"}},\"name\":\"Comedy\",\"offsetgroup\":\"Comedy\",\"orientation\":\"v\",\"showlegend\":true,\"textposition\":\"auto\",\"type\":\"bar\",\"x\":[\"Knocked Up\",\"(500) Days of Summer\",\"Sex and the City\",\"Beginners\",\"Enchanted\"],\"xaxis\":\"x\",\"y\":[83.0,81.0,81.0,80.0,80.0],\"yaxis\":\"y\"},{\"alignmentgroup\":\"True\",\"customdata\":[[2008,\"Fantasy\"]],\"hovertemplate\":\"Genre=%{customdata[1]}<br>Film=%{x}<br>Audience  score %=%{y}<br>Year=%{customdata[0]}<extra></extra>\",\"legendgroup\":\"Fantasy\",\"marker\":{\"color\":\"#FFA15A\",\"pattern\":{\"shape\":\"\"}},\"name\":\"Fantasy\",\"offsetgroup\":\"Fantasy\",\"orientation\":\"v\",\"showlegend\":true,\"textposition\":\"auto\",\"type\":\"bar\",\"x\":[\"The Curious Case of Benjamin Button\"],\"xaxis\":\"x\",\"y\":[81.0],\"yaxis\":\"y\"}],                        {\"barmode\":\"relative\",\"legend\":{\"title\":{\"text\":\"Genre\"},\"tracegroupgap\":0},\"margin\":{\"t\":60},\"template\":{\"data\":{\"bar\":[{\"error_x\":{\"color\":\"#2a3f5f\"},\"error_y\":{\"color\":\"#2a3f5f\"},\"marker\":{\"line\":{\"color\":\"#E5ECF6\",\"width\":0.5},\"pattern\":{\"fillmode\":\"overlay\",\"size\":10,\"solidity\":0.2}},\"type\":\"bar\"}],\"barpolar\":[{\"marker\":{\"line\":{\"color\":\"#E5ECF6\",\"width\":0.5},\"pattern\":{\"fillmode\":\"overlay\",\"size\":10,\"solidity\":0.2}},\"type\":\"barpolar\"}],\"carpet\":[{\"aaxis\":{\"endlinecolor\":\"#2a3f5f\",\"gridcolor\":\"white\",\"linecolor\":\"white\",\"minorgridcolor\":\"white\",\"startlinecolor\":\"#2a3f5f\"},\"baxis\":{\"endlinecolor\":\"#2a3f5f\",\"gridcolor\":\"white\",\"linecolor\":\"white\",\"minorgridcolor\":\"white\",\"startlinecolor\":\"#2a3f5f\"},\"type\":\"carpet\"}],\"choropleth\":[{\"colorbar\":{\"outlinewidth\":0,\"ticks\":\"\"},\"type\":\"choropleth\"}],\"contour\":[{\"colorbar\":{\"outlinewidth\":0,\"ticks\":\"\"},\"colorscale\":[[0.0,\"#0d0887\"],[0.1111111111111111,\"#46039f\"],[0.2222222222222222,\"#7201a8\"],[0.3333333333333333,\"#9c179e\"],[0.4444444444444444,\"#bd3786\"],[0.5555555555555556,\"#d8576b\"],[0.6666666666666666,\"#ed7953\"],[0.7777777777777778,\"#fb9f3a\"],[0.8888888888888888,\"#fdca26\"],[1.0,\"#f0f921\"]],\"type\":\"contour\"}],\"contourcarpet\":[{\"colorbar\":{\"outlinewidth\":0,\"ticks\":\"\"},\"type\":\"contourcarpet\"}],\"heatmap\":[{\"colorbar\":{\"outlinewidth\":0,\"ticks\":\"\"},\"colorscale\":[[0.0,\"#0d0887\"],[0.1111111111111111,\"#46039f\"],[0.2222222222222222,\"#7201a8\"],[0.3333333333333333,\"#9c179e\"],[0.4444444444444444,\"#bd3786\"],[0.5555555555555556,\"#d8576b\"],[0.6666666666666666,\"#ed7953\"],[0.7777777777777778,\"#fb9f3a\"],[0.8888888888888888,\"#fdca26\"],[1.0,\"#f0f921\"]],\"type\":\"heatmap\"}],\"heatmapgl\":[{\"colorbar\":{\"outlinewidth\":0,\"ticks\":\"\"},\"colorscale\":[[0.0,\"#0d0887\"],[0.1111111111111111,\"#46039f\"],[0.2222222222222222,\"#7201a8\"],[0.3333333333333333,\"#9c179e\"],[0.4444444444444444,\"#bd3786\"],[0.5555555555555556,\"#d8576b\"],[0.6666666666666666,\"#ed7953\"],[0.7777777777777778,\"#fb9f3a\"],[0.8888888888888888,\"#fdca26\"],[1.0,\"#f0f921\"]],\"type\":\"heatmapgl\"}],\"histogram\":[{\"marker\":{\"pattern\":{\"fillmode\":\"overlay\",\"size\":10,\"solidity\":0.2}},\"type\":\"histogram\"}],\"histogram2d\":[{\"colorbar\":{\"outlinewidth\":0,\"ticks\":\"\"},\"colorscale\":[[0.0,\"#0d0887\"],[0.1111111111111111,\"#46039f\"],[0.2222222222222222,\"#7201a8\"],[0.3333333333333333,\"#9c179e\"],[0.4444444444444444,\"#bd3786\"],[0.5555555555555556,\"#d8576b\"],[0.6666666666666666,\"#ed7953\"],[0.7777777777777778,\"#fb9f3a\"],[0.8888888888888888,\"#fdca26\"],[1.0,\"#f0f921\"]],\"type\":\"histogram2d\"}],\"histogram2dcontour\":[{\"colorbar\":{\"outlinewidth\":0,\"ticks\":\"\"},\"colorscale\":[[0.0,\"#0d0887\"],[0.1111111111111111,\"#46039f\"],[0.2222222222222222,\"#7201a8\"],[0.3333333333333333,\"#9c179e\"],[0.4444444444444444,\"#bd3786\"],[0.5555555555555556,\"#d8576b\"],[0.6666666666666666,\"#ed7953\"],[0.7777777777777778,\"#fb9f3a\"],[0.8888888888888888,\"#fdca26\"],[1.0,\"#f0f921\"]],\"type\":\"histogram2dcontour\"}],\"mesh3d\":[{\"colorbar\":{\"outlinewidth\":0,\"ticks\":\"\"},\"type\":\"mesh3d\"}],\"parcoords\":[{\"line\":{\"colorbar\":{\"outlinewidth\":0,\"ticks\":\"\"}},\"type\":\"parcoords\"}],\"pie\":[{\"automargin\":true,\"type\":\"pie\"}],\"scatter\":[{\"marker\":{\"colorbar\":{\"outlinewidth\":0,\"ticks\":\"\"}},\"type\":\"scatter\"}],\"scatter3d\":[{\"line\":{\"colorbar\":{\"outlinewidth\":0,\"ticks\":\"\"}},\"marker\":{\"colorbar\":{\"outlinewidth\":0,\"ticks\":\"\"}},\"type\":\"scatter3d\"}],\"scattercarpet\":[{\"marker\":{\"colorbar\":{\"outlinewidth\":0,\"ticks\":\"\"}},\"type\":\"scattercarpet\"}],\"scattergeo\":[{\"marker\":{\"colorbar\":{\"outlinewidth\":0,\"ticks\":\"\"}},\"type\":\"scattergeo\"}],\"scattergl\":[{\"marker\":{\"colorbar\":{\"outlinewidth\":0,\"ticks\":\"\"}},\"type\":\"scattergl\"}],\"scattermapbox\":[{\"marker\":{\"colorbar\":{\"outlinewidth\":0,\"ticks\":\"\"}},\"type\":\"scattermapbox\"}],\"scatterpolar\":[{\"marker\":{\"colorbar\":{\"outlinewidth\":0,\"ticks\":\"\"}},\"type\":\"scatterpolar\"}],\"scatterpolargl\":[{\"marker\":{\"colorbar\":{\"outlinewidth\":0,\"ticks\":\"\"}},\"type\":\"scatterpolargl\"}],\"scatterternary\":[{\"marker\":{\"colorbar\":{\"outlinewidth\":0,\"ticks\":\"\"}},\"type\":\"scatterternary\"}],\"surface\":[{\"colorbar\":{\"outlinewidth\":0,\"ticks\":\"\"},\"colorscale\":[[0.0,\"#0d0887\"],[0.1111111111111111,\"#46039f\"],[0.2222222222222222,\"#7201a8\"],[0.3333333333333333,\"#9c179e\"],[0.4444444444444444,\"#bd3786\"],[0.5555555555555556,\"#d8576b\"],[0.6666666666666666,\"#ed7953\"],[0.7777777777777778,\"#fb9f3a\"],[0.8888888888888888,\"#fdca26\"],[1.0,\"#f0f921\"]],\"type\":\"surface\"}],\"table\":[{\"cells\":{\"fill\":{\"color\":\"#EBF0F8\"},\"line\":{\"color\":\"white\"}},\"header\":{\"fill\":{\"color\":\"#C8D4E3\"},\"line\":{\"color\":\"white\"}},\"type\":\"table\"}]},\"layout\":{\"annotationdefaults\":{\"arrowcolor\":\"#2a3f5f\",\"arrowhead\":0,\"arrowwidth\":1},\"autotypenumbers\":\"strict\",\"coloraxis\":{\"colorbar\":{\"outlinewidth\":0,\"ticks\":\"\"}},\"colorscale\":{\"diverging\":[[0,\"#8e0152\"],[0.1,\"#c51b7d\"],[0.2,\"#de77ae\"],[0.3,\"#f1b6da\"],[0.4,\"#fde0ef\"],[0.5,\"#f7f7f7\"],[0.6,\"#e6f5d0\"],[0.7,\"#b8e186\"],[0.8,\"#7fbc41\"],[0.9,\"#4d9221\"],[1,\"#276419\"]],\"sequential\":[[0.0,\"#0d0887\"],[0.1111111111111111,\"#46039f\"],[0.2222222222222222,\"#7201a8\"],[0.3333333333333333,\"#9c179e\"],[0.4444444444444444,\"#bd3786\"],[0.5555555555555556,\"#d8576b\"],[0.6666666666666666,\"#ed7953\"],[0.7777777777777778,\"#fb9f3a\"],[0.8888888888888888,\"#fdca26\"],[1.0,\"#f0f921\"]],\"sequentialminus\":[[0.0,\"#0d0887\"],[0.1111111111111111,\"#46039f\"],[0.2222222222222222,\"#7201a8\"],[0.3333333333333333,\"#9c179e\"],[0.4444444444444444,\"#bd3786\"],[0.5555555555555556,\"#d8576b\"],[0.6666666666666666,\"#ed7953\"],[0.7777777777777778,\"#fb9f3a\"],[0.8888888888888888,\"#fdca26\"],[1.0,\"#f0f921\"]]},\"colorway\":[\"#636efa\",\"#EF553B\",\"#00cc96\",\"#ab63fa\",\"#FFA15A\",\"#19d3f3\",\"#FF6692\",\"#B6E880\",\"#FF97FF\",\"#FECB52\"],\"font\":{\"color\":\"#2a3f5f\"},\"geo\":{\"bgcolor\":\"white\",\"lakecolor\":\"white\",\"landcolor\":\"#E5ECF6\",\"showlakes\":true,\"showland\":true,\"subunitcolor\":\"white\"},\"hoverlabel\":{\"align\":\"left\"},\"hovermode\":\"closest\",\"mapbox\":{\"style\":\"light\"},\"paper_bgcolor\":\"white\",\"plot_bgcolor\":\"#E5ECF6\",\"polar\":{\"angularaxis\":{\"gridcolor\":\"white\",\"linecolor\":\"white\",\"ticks\":\"\"},\"bgcolor\":\"#E5ECF6\",\"radialaxis\":{\"gridcolor\":\"white\",\"linecolor\":\"white\",\"ticks\":\"\"}},\"scene\":{\"xaxis\":{\"backgroundcolor\":\"#E5ECF6\",\"gridcolor\":\"white\",\"gridwidth\":2,\"linecolor\":\"white\",\"showbackground\":true,\"ticks\":\"\",\"zerolinecolor\":\"white\"},\"yaxis\":{\"backgroundcolor\":\"#E5ECF6\",\"gridcolor\":\"white\",\"gridwidth\":2,\"linecolor\":\"white\",\"showbackground\":true,\"ticks\":\"\",\"zerolinecolor\":\"white\"},\"zaxis\":{\"backgroundcolor\":\"#E5ECF6\",\"gridcolor\":\"white\",\"gridwidth\":2,\"linecolor\":\"white\",\"showbackground\":true,\"ticks\":\"\",\"zerolinecolor\":\"white\"}},\"shapedefaults\":{\"line\":{\"color\":\"#2a3f5f\"}},\"ternary\":{\"aaxis\":{\"gridcolor\":\"white\",\"linecolor\":\"white\",\"ticks\":\"\"},\"baxis\":{\"gridcolor\":\"white\",\"linecolor\":\"white\",\"ticks\":\"\"},\"bgcolor\":\"#E5ECF6\",\"caxis\":{\"gridcolor\":\"white\",\"linecolor\":\"white\",\"ticks\":\"\"}},\"title\":{\"x\":0.05},\"xaxis\":{\"automargin\":true,\"gridcolor\":\"white\",\"linecolor\":\"white\",\"ticks\":\"\",\"title\":{\"standoff\":15},\"zerolinecolor\":\"white\",\"zerolinewidth\":2},\"yaxis\":{\"automargin\":true,\"gridcolor\":\"white\",\"linecolor\":\"white\",\"ticks\":\"\",\"title\":{\"standoff\":15},\"zerolinecolor\":\"white\",\"zerolinewidth\":2}}},\"xaxis\":{\"anchor\":\"y\",\"categoryorder\":\"total descending\",\"domain\":[0.0,1.0],\"title\":{\"text\":\"Film\"}},\"yaxis\":{\"anchor\":\"x\",\"domain\":[0.0,1.0],\"title\":{\"text\":\"Audience  score %\"}}},                        {\"responsive\": true}                    ).then(function(){\n",
       "                            \n",
       "var gd = document.getElementById('6a080a57-fcf0-43c7-b6cf-45c760edc82e');\n",
       "var x = new MutationObserver(function (mutations, observer) {{\n",
       "        var display = window.getComputedStyle(gd).display;\n",
       "        if (!display || display === 'none') {{\n",
       "            console.log([gd, 'removed!']);\n",
       "            Plotly.purge(gd);\n",
       "            observer.disconnect();\n",
       "        }}\n",
       "}});\n",
       "\n",
       "// Listen for the removal of the full notebook cells\n",
       "var notebookContainer = gd.closest('#notebook-container');\n",
       "if (notebookContainer) {{\n",
       "    x.observe(notebookContainer, {childList: true});\n",
       "}}\n",
       "\n",
       "// Listen for the clearing of the current output cell\n",
       "var outputEl = gd.closest('.output');\n",
       "if (outputEl) {{\n",
       "    x.observe(outputEl, {childList: true});\n",
       "}}\n",
       "\n",
       "                        })                };                });            </script>        </div>"
      ]
     },
     "metadata": {},
     "output_type": "display_data"
    }
   ],
   "source": [
    "fig = px.bar(audience_score_top_15, x='Film', y= 'Audience  score %',  hover_data = audience_score_top_15[['Year','Genre']], color='Genre')\n",
    "fig.update_layout(xaxis={'categoryorder':'total descending'})\n",
    "fig.show()"
   ]
  },
  {
   "cell_type": "markdown",
   "id": "d3e4b6c8",
   "metadata": {
    "papermill": {
     "duration": 0.074883,
     "end_time": "2021-07-21T08:12:20.648300",
     "exception": false,
     "start_time": "2021-07-21T08:12:20.573417",
     "status": "completed"
    },
    "tags": []
   },
   "source": [
    "- Both ratings rated Wall E with the highest score.\n",
    "- On the other hand, 'Twilight', 'PS I Love You' and 'The Twilight Saga' has lower score in Rotten Tomatoes than Audience Scores."
   ]
  },
  {
   "cell_type": "markdown",
   "id": "3e623ed1",
   "metadata": {
    "papermill": {
     "duration": 0.074054,
     "end_time": "2021-07-21T08:12:20.797907",
     "exception": false,
     "start_time": "2021-07-21T08:12:20.723853",
     "status": "completed"
    },
    "tags": []
   },
   "source": [
    "- And finally, let's see the most profitable  15 movies"
   ]
  },
  {
   "cell_type": "markdown",
   "id": "24254f54",
   "metadata": {
    "papermill": {
     "duration": 0.074427,
     "end_time": "2021-07-21T08:12:20.946865",
     "exception": false,
     "start_time": "2021-07-21T08:12:20.872438",
     "status": "completed"
    },
    "tags": []
   },
   "source": [
    "#### Top 15 Most Profitable Movies"
   ]
  },
  {
   "cell_type": "code",
   "execution_count": 38,
   "id": "0cc2fe4f",
   "metadata": {
    "_kg_hide-input": true,
    "execution": {
     "iopub.execute_input": "2021-07-21T08:12:21.151415Z",
     "iopub.status.busy": "2021-07-21T08:12:21.150662Z",
     "iopub.status.idle": "2021-07-21T08:12:21.173408Z",
     "shell.execute_reply": "2021-07-21T08:12:21.173938Z",
     "shell.execute_reply.started": "2021-07-09T20:49:13.636236Z"
    },
    "papermill": {
     "duration": 0.153089,
     "end_time": "2021-07-21T08:12:21.174109",
     "exception": false,
     "start_time": "2021-07-21T08:12:21.021020",
     "status": "completed"
    },
    "tags": []
   },
   "outputs": [
    {
     "data": {
      "text/html": [
       "<div>\n",
       "<style scoped>\n",
       "    .dataframe tbody tr th:only-of-type {\n",
       "        vertical-align: middle;\n",
       "    }\n",
       "\n",
       "    .dataframe tbody tr th {\n",
       "        vertical-align: top;\n",
       "    }\n",
       "\n",
       "    .dataframe thead th {\n",
       "        text-align: right;\n",
       "    }\n",
       "</style>\n",
       "<table border=\"1\" class=\"dataframe\">\n",
       "  <thead>\n",
       "    <tr style=\"text-align: right;\">\n",
       "      <th></th>\n",
       "      <th>Film</th>\n",
       "      <th>Genre</th>\n",
       "      <th>Lead Studio</th>\n",
       "      <th>Audience  score %</th>\n",
       "      <th>Profitability</th>\n",
       "      <th>Rotten Tomatoes %</th>\n",
       "      <th>Worldwide Gross</th>\n",
       "      <th>Year</th>\n",
       "    </tr>\n",
       "  </thead>\n",
       "  <tbody>\n",
       "    <tr>\n",
       "      <th>8</th>\n",
       "      <td>Fireproof</td>\n",
       "      <td>Drama</td>\n",
       "      <td>Independent</td>\n",
       "      <td>51.0</td>\n",
       "      <td>66.934000</td>\n",
       "      <td>40.0</td>\n",
       "      <td>33.467000</td>\n",
       "      <td>2008</td>\n",
       "    </tr>\n",
       "    <tr>\n",
       "      <th>15</th>\n",
       "      <td>High School Musical 3: Senior Year</td>\n",
       "      <td>Comedy</td>\n",
       "      <td>Disney</td>\n",
       "      <td>76.0</td>\n",
       "      <td>22.913136</td>\n",
       "      <td>65.0</td>\n",
       "      <td>252.044501</td>\n",
       "      <td>2008</td>\n",
       "    </tr>\n",
       "    <tr>\n",
       "      <th>59</th>\n",
       "      <td>The Twilight Saga: New Moon</td>\n",
       "      <td>Drama</td>\n",
       "      <td>Summit</td>\n",
       "      <td>78.0</td>\n",
       "      <td>14.196400</td>\n",
       "      <td>27.0</td>\n",
       "      <td>709.820000</td>\n",
       "      <td>2009</td>\n",
       "    </tr>\n",
       "    <tr>\n",
       "      <th>66</th>\n",
       "      <td>Waitress</td>\n",
       "      <td>Romance</td>\n",
       "      <td>Independent</td>\n",
       "      <td>67.0</td>\n",
       "      <td>11.089742</td>\n",
       "      <td>89.0</td>\n",
       "      <td>22.179483</td>\n",
       "      <td>2007</td>\n",
       "    </tr>\n",
       "    <tr>\n",
       "      <th>61</th>\n",
       "      <td>Twilight</td>\n",
       "      <td>Romance</td>\n",
       "      <td>Summit</td>\n",
       "      <td>82.0</td>\n",
       "      <td>10.180027</td>\n",
       "      <td>49.0</td>\n",
       "      <td>376.661000</td>\n",
       "      <td>2008</td>\n",
       "    </tr>\n",
       "    <tr>\n",
       "      <th>29</th>\n",
       "      <td>Mamma Mia!</td>\n",
       "      <td>Comedy</td>\n",
       "      <td>Universal</td>\n",
       "      <td>76.0</td>\n",
       "      <td>9.234454</td>\n",
       "      <td>53.0</td>\n",
       "      <td>609.473955</td>\n",
       "      <td>2008</td>\n",
       "    </tr>\n",
       "    <tr>\n",
       "      <th>31</th>\n",
       "      <td>Midnight in Paris</td>\n",
       "      <td>Romance</td>\n",
       "      <td>Sony</td>\n",
       "      <td>84.0</td>\n",
       "      <td>8.744706</td>\n",
       "      <td>93.0</td>\n",
       "      <td>148.660000</td>\n",
       "      <td>2011</td>\n",
       "    </tr>\n",
       "    <tr>\n",
       "      <th>1</th>\n",
       "      <td>(500) Days of Summer</td>\n",
       "      <td>Comedy</td>\n",
       "      <td>Fox</td>\n",
       "      <td>81.0</td>\n",
       "      <td>8.096000</td>\n",
       "      <td>87.0</td>\n",
       "      <td>60.720000</td>\n",
       "      <td>2009</td>\n",
       "    </tr>\n",
       "    <tr>\n",
       "      <th>57</th>\n",
       "      <td>The Proposal</td>\n",
       "      <td>Comedy</td>\n",
       "      <td>Disney</td>\n",
       "      <td>74.0</td>\n",
       "      <td>7.867500</td>\n",
       "      <td>43.0</td>\n",
       "      <td>314.700000</td>\n",
       "      <td>2009</td>\n",
       "    </tr>\n",
       "    <tr>\n",
       "      <th>47</th>\n",
       "      <td>Sex and the City</td>\n",
       "      <td>Comedy</td>\n",
       "      <td>Warner Bros.</td>\n",
       "      <td>81.0</td>\n",
       "      <td>7.221796</td>\n",
       "      <td>49.0</td>\n",
       "      <td>415.253258</td>\n",
       "      <td>2008</td>\n",
       "    </tr>\n",
       "    <tr>\n",
       "      <th>14</th>\n",
       "      <td>He's Just Not That Into You</td>\n",
       "      <td>Comedy</td>\n",
       "      <td>Warner Bros.</td>\n",
       "      <td>60.0</td>\n",
       "      <td>7.153600</td>\n",
       "      <td>42.0</td>\n",
       "      <td>178.840000</td>\n",
       "      <td>2009</td>\n",
       "    </tr>\n",
       "    <tr>\n",
       "      <th>21</th>\n",
       "      <td>Knocked Up</td>\n",
       "      <td>Comedy</td>\n",
       "      <td>Universal</td>\n",
       "      <td>83.0</td>\n",
       "      <td>6.636402</td>\n",
       "      <td>91.0</td>\n",
       "      <td>219.001261</td>\n",
       "      <td>2007</td>\n",
       "    </tr>\n",
       "    <tr>\n",
       "      <th>62</th>\n",
       "      <td>Twilight: Breaking Dawn</td>\n",
       "      <td>Romance</td>\n",
       "      <td>Independent</td>\n",
       "      <td>68.0</td>\n",
       "      <td>6.383364</td>\n",
       "      <td>26.0</td>\n",
       "      <td>702.170000</td>\n",
       "      <td>2011</td>\n",
       "    </tr>\n",
       "    <tr>\n",
       "      <th>69</th>\n",
       "      <td>What Happens in Vegas</td>\n",
       "      <td>Comedy</td>\n",
       "      <td>Fox</td>\n",
       "      <td>72.0</td>\n",
       "      <td>6.267647</td>\n",
       "      <td>28.0</td>\n",
       "      <td>219.367646</td>\n",
       "      <td>2008</td>\n",
       "    </tr>\n",
       "    <tr>\n",
       "      <th>60</th>\n",
       "      <td>The Ugly Truth</td>\n",
       "      <td>Comedy</td>\n",
       "      <td>Independent</td>\n",
       "      <td>68.0</td>\n",
       "      <td>5.402632</td>\n",
       "      <td>14.0</td>\n",
       "      <td>205.300000</td>\n",
       "      <td>2009</td>\n",
       "    </tr>\n",
       "  </tbody>\n",
       "</table>\n",
       "</div>"
      ],
      "text/plain": [
       "                                  Film    Genre   Lead Studio  \\\n",
       "8                            Fireproof    Drama   Independent   \n",
       "15  High School Musical 3: Senior Year   Comedy        Disney   \n",
       "59         The Twilight Saga: New Moon    Drama        Summit   \n",
       "66                            Waitress  Romance   Independent   \n",
       "61                            Twilight  Romance        Summit   \n",
       "29                          Mamma Mia!   Comedy     Universal   \n",
       "31                   Midnight in Paris  Romance          Sony   \n",
       "1                 (500) Days of Summer   Comedy           Fox   \n",
       "57                        The Proposal   Comedy        Disney   \n",
       "47                    Sex and the City   Comedy  Warner Bros.   \n",
       "14         He's Just Not That Into You   Comedy  Warner Bros.   \n",
       "21                          Knocked Up   Comedy     Universal   \n",
       "62             Twilight: Breaking Dawn  Romance   Independent   \n",
       "69               What Happens in Vegas   Comedy           Fox   \n",
       "60                      The Ugly Truth   Comedy   Independent   \n",
       "\n",
       "    Audience  score %  Profitability  Rotten Tomatoes %  Worldwide Gross  Year  \n",
       "8                51.0      66.934000               40.0        33.467000  2008  \n",
       "15               76.0      22.913136               65.0       252.044501  2008  \n",
       "59               78.0      14.196400               27.0       709.820000  2009  \n",
       "66               67.0      11.089742               89.0        22.179483  2007  \n",
       "61               82.0      10.180027               49.0       376.661000  2008  \n",
       "29               76.0       9.234454               53.0       609.473955  2008  \n",
       "31               84.0       8.744706               93.0       148.660000  2011  \n",
       "1                81.0       8.096000               87.0        60.720000  2009  \n",
       "57               74.0       7.867500               43.0       314.700000  2009  \n",
       "47               81.0       7.221796               49.0       415.253258  2008  \n",
       "14               60.0       7.153600               42.0       178.840000  2009  \n",
       "21               83.0       6.636402               91.0       219.001261  2007  \n",
       "62               68.0       6.383364               26.0       702.170000  2011  \n",
       "69               72.0       6.267647               28.0       219.367646  2008  \n",
       "60               68.0       5.402632               14.0       205.300000  2009  "
      ]
     },
     "execution_count": 38,
     "metadata": {},
     "output_type": "execute_result"
    }
   ],
   "source": [
    "top_15_profit = df.sort_values('Profitability', ascending=False)[:15]\n",
    "top_15_profit"
   ]
  },
  {
   "cell_type": "code",
   "execution_count": 39,
   "id": "b6bc48b6",
   "metadata": {
    "_kg_hide-input": true,
    "execution": {
     "iopub.execute_input": "2021-07-21T08:12:21.328217Z",
     "iopub.status.busy": "2021-07-21T08:12:21.327566Z",
     "iopub.status.idle": "2021-07-21T08:12:21.433836Z",
     "shell.execute_reply": "2021-07-21T08:12:21.433298Z",
     "shell.execute_reply.started": "2021-07-09T20:49:13.658224Z"
    },
    "papermill": {
     "duration": 0.183988,
     "end_time": "2021-07-21T08:12:21.433980",
     "exception": false,
     "start_time": "2021-07-21T08:12:21.249992",
     "status": "completed"
    },
    "tags": []
   },
   "outputs": [
    {
     "data": {
      "text/html": [
       "<div>                            <div id=\"7f220d7e-9d7c-4755-8e67-e9ac01f9eae9\" class=\"plotly-graph-div\" style=\"height:525px; width:100%;\"></div>            <script type=\"text/javascript\">                require([\"plotly\"], function(Plotly) {                    window.PLOTLYENV=window.PLOTLYENV || {};                                    if (document.getElementById(\"7f220d7e-9d7c-4755-8e67-e9ac01f9eae9\")) {                    Plotly.newPlot(                        \"7f220d7e-9d7c-4755-8e67-e9ac01f9eae9\",                        [{\"alignmentgroup\":\"True\",\"customdata\":[[2008,\"Drama\"],[2007,\"Romance\"],[2011,\"Romance\"],[2009,\"Comedy\"]],\"hovertemplate\":\"Lead Studio=Independent<br>Film=%{x}<br>Profitability=%{y}<br>Year=%{customdata[0]}<br>Genre=%{customdata[1]}<extra></extra>\",\"legendgroup\":\"Independent\",\"marker\":{\"color\":\"#636efa\",\"pattern\":{\"shape\":\"\"}},\"name\":\"Independent\",\"offsetgroup\":\"Independent\",\"orientation\":\"v\",\"showlegend\":true,\"textposition\":\"auto\",\"type\":\"bar\",\"x\":[\"Fireproof\",\"Waitress\",\"Twilight: Breaking Dawn\",\"The Ugly Truth\"],\"xaxis\":\"x\",\"y\":[66.934,11.0897415,6.383363636,5.402631579],\"yaxis\":\"y\"},{\"alignmentgroup\":\"True\",\"customdata\":[[2008,\"Comedy\"],[2009,\"Comedy\"]],\"hovertemplate\":\"Lead Studio=Disney<br>Film=%{x}<br>Profitability=%{y}<br>Year=%{customdata[0]}<br>Genre=%{customdata[1]}<extra></extra>\",\"legendgroup\":\"Disney\",\"marker\":{\"color\":\"#EF553B\",\"pattern\":{\"shape\":\"\"}},\"name\":\"Disney\",\"offsetgroup\":\"Disney\",\"orientation\":\"v\",\"showlegend\":true,\"textposition\":\"auto\",\"type\":\"bar\",\"x\":[\"High School Musical 3: Senior Year\",\"The Proposal\"],\"xaxis\":\"x\",\"y\":[22.91313646,7.8675],\"yaxis\":\"y\"},{\"alignmentgroup\":\"True\",\"customdata\":[[2009,\"Drama\"],[2008,\"Romance\"]],\"hovertemplate\":\"Lead Studio=Summit<br>Film=%{x}<br>Profitability=%{y}<br>Year=%{customdata[0]}<br>Genre=%{customdata[1]}<extra></extra>\",\"legendgroup\":\"Summit\",\"marker\":{\"color\":\"#00cc96\",\"pattern\":{\"shape\":\"\"}},\"name\":\"Summit\",\"offsetgroup\":\"Summit\",\"orientation\":\"v\",\"showlegend\":true,\"textposition\":\"auto\",\"type\":\"bar\",\"x\":[\"The Twilight Saga: New Moon\",\"Twilight\"],\"xaxis\":\"x\",\"y\":[14.1964,10.18002703],\"yaxis\":\"y\"},{\"alignmentgroup\":\"True\",\"customdata\":[[2008,\"Comedy\"],[2007,\"Comedy\"]],\"hovertemplate\":\"Lead Studio=Universal<br>Film=%{x}<br>Profitability=%{y}<br>Year=%{customdata[0]}<br>Genre=%{customdata[1]}<extra></extra>\",\"legendgroup\":\"Universal\",\"marker\":{\"color\":\"#ab63fa\",\"pattern\":{\"shape\":\"\"}},\"name\":\"Universal\",\"offsetgroup\":\"Universal\",\"orientation\":\"v\",\"showlegend\":true,\"textposition\":\"auto\",\"type\":\"bar\",\"x\":[\"Mamma Mia!\",\"Knocked Up\"],\"xaxis\":\"x\",\"y\":[9.234453864,6.636401848],\"yaxis\":\"y\"},{\"alignmentgroup\":\"True\",\"customdata\":[[2011,\"Romance\"]],\"hovertemplate\":\"Lead Studio=Sony<br>Film=%{x}<br>Profitability=%{y}<br>Year=%{customdata[0]}<br>Genre=%{customdata[1]}<extra></extra>\",\"legendgroup\":\"Sony\",\"marker\":{\"color\":\"#FFA15A\",\"pattern\":{\"shape\":\"\"}},\"name\":\"Sony\",\"offsetgroup\":\"Sony\",\"orientation\":\"v\",\"showlegend\":true,\"textposition\":\"auto\",\"type\":\"bar\",\"x\":[\"Midnight in Paris\"],\"xaxis\":\"x\",\"y\":[8.744705882],\"yaxis\":\"y\"},{\"alignmentgroup\":\"True\",\"customdata\":[[2009,\"Comedy\"],[2008,\"Comedy\"]],\"hovertemplate\":\"Lead Studio=Fox<br>Film=%{x}<br>Profitability=%{y}<br>Year=%{customdata[0]}<br>Genre=%{customdata[1]}<extra></extra>\",\"legendgroup\":\"Fox\",\"marker\":{\"color\":\"#19d3f3\",\"pattern\":{\"shape\":\"\"}},\"name\":\"Fox\",\"offsetgroup\":\"Fox\",\"orientation\":\"v\",\"showlegend\":true,\"textposition\":\"auto\",\"type\":\"bar\",\"x\":[\"(500) Days of Summer\",\"What Happens in Vegas\"],\"xaxis\":\"x\",\"y\":[8.096,6.267647029],\"yaxis\":\"y\"},{\"alignmentgroup\":\"True\",\"customdata\":[[2008,\"Comedy\"],[2009,\"Comedy\"]],\"hovertemplate\":\"Lead Studio=Warner Bros.<br>Film=%{x}<br>Profitability=%{y}<br>Year=%{customdata[0]}<br>Genre=%{customdata[1]}<extra></extra>\",\"legendgroup\":\"Warner Bros.\",\"marker\":{\"color\":\"#FF6692\",\"pattern\":{\"shape\":\"\"}},\"name\":\"Warner Bros.\",\"offsetgroup\":\"Warner Bros.\",\"orientation\":\"v\",\"showlegend\":true,\"textposition\":\"auto\",\"type\":\"bar\",\"x\":[\"Sex and the City\",\"He's Just Not That Into You\"],\"xaxis\":\"x\",\"y\":[7.221795791,7.1536],\"yaxis\":\"y\"}],                        {\"barmode\":\"relative\",\"legend\":{\"title\":{\"text\":\"Lead Studio\"},\"tracegroupgap\":0},\"margin\":{\"t\":60},\"template\":{\"data\":{\"bar\":[{\"error_x\":{\"color\":\"#2a3f5f\"},\"error_y\":{\"color\":\"#2a3f5f\"},\"marker\":{\"line\":{\"color\":\"#E5ECF6\",\"width\":0.5},\"pattern\":{\"fillmode\":\"overlay\",\"size\":10,\"solidity\":0.2}},\"type\":\"bar\"}],\"barpolar\":[{\"marker\":{\"line\":{\"color\":\"#E5ECF6\",\"width\":0.5},\"pattern\":{\"fillmode\":\"overlay\",\"size\":10,\"solidity\":0.2}},\"type\":\"barpolar\"}],\"carpet\":[{\"aaxis\":{\"endlinecolor\":\"#2a3f5f\",\"gridcolor\":\"white\",\"linecolor\":\"white\",\"minorgridcolor\":\"white\",\"startlinecolor\":\"#2a3f5f\"},\"baxis\":{\"endlinecolor\":\"#2a3f5f\",\"gridcolor\":\"white\",\"linecolor\":\"white\",\"minorgridcolor\":\"white\",\"startlinecolor\":\"#2a3f5f\"},\"type\":\"carpet\"}],\"choropleth\":[{\"colorbar\":{\"outlinewidth\":0,\"ticks\":\"\"},\"type\":\"choropleth\"}],\"contour\":[{\"colorbar\":{\"outlinewidth\":0,\"ticks\":\"\"},\"colorscale\":[[0.0,\"#0d0887\"],[0.1111111111111111,\"#46039f\"],[0.2222222222222222,\"#7201a8\"],[0.3333333333333333,\"#9c179e\"],[0.4444444444444444,\"#bd3786\"],[0.5555555555555556,\"#d8576b\"],[0.6666666666666666,\"#ed7953\"],[0.7777777777777778,\"#fb9f3a\"],[0.8888888888888888,\"#fdca26\"],[1.0,\"#f0f921\"]],\"type\":\"contour\"}],\"contourcarpet\":[{\"colorbar\":{\"outlinewidth\":0,\"ticks\":\"\"},\"type\":\"contourcarpet\"}],\"heatmap\":[{\"colorbar\":{\"outlinewidth\":0,\"ticks\":\"\"},\"colorscale\":[[0.0,\"#0d0887\"],[0.1111111111111111,\"#46039f\"],[0.2222222222222222,\"#7201a8\"],[0.3333333333333333,\"#9c179e\"],[0.4444444444444444,\"#bd3786\"],[0.5555555555555556,\"#d8576b\"],[0.6666666666666666,\"#ed7953\"],[0.7777777777777778,\"#fb9f3a\"],[0.8888888888888888,\"#fdca26\"],[1.0,\"#f0f921\"]],\"type\":\"heatmap\"}],\"heatmapgl\":[{\"colorbar\":{\"outlinewidth\":0,\"ticks\":\"\"},\"colorscale\":[[0.0,\"#0d0887\"],[0.1111111111111111,\"#46039f\"],[0.2222222222222222,\"#7201a8\"],[0.3333333333333333,\"#9c179e\"],[0.4444444444444444,\"#bd3786\"],[0.5555555555555556,\"#d8576b\"],[0.6666666666666666,\"#ed7953\"],[0.7777777777777778,\"#fb9f3a\"],[0.8888888888888888,\"#fdca26\"],[1.0,\"#f0f921\"]],\"type\":\"heatmapgl\"}],\"histogram\":[{\"marker\":{\"pattern\":{\"fillmode\":\"overlay\",\"size\":10,\"solidity\":0.2}},\"type\":\"histogram\"}],\"histogram2d\":[{\"colorbar\":{\"outlinewidth\":0,\"ticks\":\"\"},\"colorscale\":[[0.0,\"#0d0887\"],[0.1111111111111111,\"#46039f\"],[0.2222222222222222,\"#7201a8\"],[0.3333333333333333,\"#9c179e\"],[0.4444444444444444,\"#bd3786\"],[0.5555555555555556,\"#d8576b\"],[0.6666666666666666,\"#ed7953\"],[0.7777777777777778,\"#fb9f3a\"],[0.8888888888888888,\"#fdca26\"],[1.0,\"#f0f921\"]],\"type\":\"histogram2d\"}],\"histogram2dcontour\":[{\"colorbar\":{\"outlinewidth\":0,\"ticks\":\"\"},\"colorscale\":[[0.0,\"#0d0887\"],[0.1111111111111111,\"#46039f\"],[0.2222222222222222,\"#7201a8\"],[0.3333333333333333,\"#9c179e\"],[0.4444444444444444,\"#bd3786\"],[0.5555555555555556,\"#d8576b\"],[0.6666666666666666,\"#ed7953\"],[0.7777777777777778,\"#fb9f3a\"],[0.8888888888888888,\"#fdca26\"],[1.0,\"#f0f921\"]],\"type\":\"histogram2dcontour\"}],\"mesh3d\":[{\"colorbar\":{\"outlinewidth\":0,\"ticks\":\"\"},\"type\":\"mesh3d\"}],\"parcoords\":[{\"line\":{\"colorbar\":{\"outlinewidth\":0,\"ticks\":\"\"}},\"type\":\"parcoords\"}],\"pie\":[{\"automargin\":true,\"type\":\"pie\"}],\"scatter\":[{\"marker\":{\"colorbar\":{\"outlinewidth\":0,\"ticks\":\"\"}},\"type\":\"scatter\"}],\"scatter3d\":[{\"line\":{\"colorbar\":{\"outlinewidth\":0,\"ticks\":\"\"}},\"marker\":{\"colorbar\":{\"outlinewidth\":0,\"ticks\":\"\"}},\"type\":\"scatter3d\"}],\"scattercarpet\":[{\"marker\":{\"colorbar\":{\"outlinewidth\":0,\"ticks\":\"\"}},\"type\":\"scattercarpet\"}],\"scattergeo\":[{\"marker\":{\"colorbar\":{\"outlinewidth\":0,\"ticks\":\"\"}},\"type\":\"scattergeo\"}],\"scattergl\":[{\"marker\":{\"colorbar\":{\"outlinewidth\":0,\"ticks\":\"\"}},\"type\":\"scattergl\"}],\"scattermapbox\":[{\"marker\":{\"colorbar\":{\"outlinewidth\":0,\"ticks\":\"\"}},\"type\":\"scattermapbox\"}],\"scatterpolar\":[{\"marker\":{\"colorbar\":{\"outlinewidth\":0,\"ticks\":\"\"}},\"type\":\"scatterpolar\"}],\"scatterpolargl\":[{\"marker\":{\"colorbar\":{\"outlinewidth\":0,\"ticks\":\"\"}},\"type\":\"scatterpolargl\"}],\"scatterternary\":[{\"marker\":{\"colorbar\":{\"outlinewidth\":0,\"ticks\":\"\"}},\"type\":\"scatterternary\"}],\"surface\":[{\"colorbar\":{\"outlinewidth\":0,\"ticks\":\"\"},\"colorscale\":[[0.0,\"#0d0887\"],[0.1111111111111111,\"#46039f\"],[0.2222222222222222,\"#7201a8\"],[0.3333333333333333,\"#9c179e\"],[0.4444444444444444,\"#bd3786\"],[0.5555555555555556,\"#d8576b\"],[0.6666666666666666,\"#ed7953\"],[0.7777777777777778,\"#fb9f3a\"],[0.8888888888888888,\"#fdca26\"],[1.0,\"#f0f921\"]],\"type\":\"surface\"}],\"table\":[{\"cells\":{\"fill\":{\"color\":\"#EBF0F8\"},\"line\":{\"color\":\"white\"}},\"header\":{\"fill\":{\"color\":\"#C8D4E3\"},\"line\":{\"color\":\"white\"}},\"type\":\"table\"}]},\"layout\":{\"annotationdefaults\":{\"arrowcolor\":\"#2a3f5f\",\"arrowhead\":0,\"arrowwidth\":1},\"autotypenumbers\":\"strict\",\"coloraxis\":{\"colorbar\":{\"outlinewidth\":0,\"ticks\":\"\"}},\"colorscale\":{\"diverging\":[[0,\"#8e0152\"],[0.1,\"#c51b7d\"],[0.2,\"#de77ae\"],[0.3,\"#f1b6da\"],[0.4,\"#fde0ef\"],[0.5,\"#f7f7f7\"],[0.6,\"#e6f5d0\"],[0.7,\"#b8e186\"],[0.8,\"#7fbc41\"],[0.9,\"#4d9221\"],[1,\"#276419\"]],\"sequential\":[[0.0,\"#0d0887\"],[0.1111111111111111,\"#46039f\"],[0.2222222222222222,\"#7201a8\"],[0.3333333333333333,\"#9c179e\"],[0.4444444444444444,\"#bd3786\"],[0.5555555555555556,\"#d8576b\"],[0.6666666666666666,\"#ed7953\"],[0.7777777777777778,\"#fb9f3a\"],[0.8888888888888888,\"#fdca26\"],[1.0,\"#f0f921\"]],\"sequentialminus\":[[0.0,\"#0d0887\"],[0.1111111111111111,\"#46039f\"],[0.2222222222222222,\"#7201a8\"],[0.3333333333333333,\"#9c179e\"],[0.4444444444444444,\"#bd3786\"],[0.5555555555555556,\"#d8576b\"],[0.6666666666666666,\"#ed7953\"],[0.7777777777777778,\"#fb9f3a\"],[0.8888888888888888,\"#fdca26\"],[1.0,\"#f0f921\"]]},\"colorway\":[\"#636efa\",\"#EF553B\",\"#00cc96\",\"#ab63fa\",\"#FFA15A\",\"#19d3f3\",\"#FF6692\",\"#B6E880\",\"#FF97FF\",\"#FECB52\"],\"font\":{\"color\":\"#2a3f5f\"},\"geo\":{\"bgcolor\":\"white\",\"lakecolor\":\"white\",\"landcolor\":\"#E5ECF6\",\"showlakes\":true,\"showland\":true,\"subunitcolor\":\"white\"},\"hoverlabel\":{\"align\":\"left\"},\"hovermode\":\"closest\",\"mapbox\":{\"style\":\"light\"},\"paper_bgcolor\":\"white\",\"plot_bgcolor\":\"#E5ECF6\",\"polar\":{\"angularaxis\":{\"gridcolor\":\"white\",\"linecolor\":\"white\",\"ticks\":\"\"},\"bgcolor\":\"#E5ECF6\",\"radialaxis\":{\"gridcolor\":\"white\",\"linecolor\":\"white\",\"ticks\":\"\"}},\"scene\":{\"xaxis\":{\"backgroundcolor\":\"#E5ECF6\",\"gridcolor\":\"white\",\"gridwidth\":2,\"linecolor\":\"white\",\"showbackground\":true,\"ticks\":\"\",\"zerolinecolor\":\"white\"},\"yaxis\":{\"backgroundcolor\":\"#E5ECF6\",\"gridcolor\":\"white\",\"gridwidth\":2,\"linecolor\":\"white\",\"showbackground\":true,\"ticks\":\"\",\"zerolinecolor\":\"white\"},\"zaxis\":{\"backgroundcolor\":\"#E5ECF6\",\"gridcolor\":\"white\",\"gridwidth\":2,\"linecolor\":\"white\",\"showbackground\":true,\"ticks\":\"\",\"zerolinecolor\":\"white\"}},\"shapedefaults\":{\"line\":{\"color\":\"#2a3f5f\"}},\"ternary\":{\"aaxis\":{\"gridcolor\":\"white\",\"linecolor\":\"white\",\"ticks\":\"\"},\"baxis\":{\"gridcolor\":\"white\",\"linecolor\":\"white\",\"ticks\":\"\"},\"bgcolor\":\"#E5ECF6\",\"caxis\":{\"gridcolor\":\"white\",\"linecolor\":\"white\",\"ticks\":\"\"}},\"title\":{\"x\":0.05},\"xaxis\":{\"automargin\":true,\"gridcolor\":\"white\",\"linecolor\":\"white\",\"ticks\":\"\",\"title\":{\"standoff\":15},\"zerolinecolor\":\"white\",\"zerolinewidth\":2},\"yaxis\":{\"automargin\":true,\"gridcolor\":\"white\",\"linecolor\":\"white\",\"ticks\":\"\",\"title\":{\"standoff\":15},\"zerolinecolor\":\"white\",\"zerolinewidth\":2}}},\"xaxis\":{\"anchor\":\"y\",\"categoryorder\":\"total descending\",\"domain\":[0.0,1.0],\"title\":{\"text\":\"Film\"}},\"yaxis\":{\"anchor\":\"x\",\"domain\":[0.0,1.0],\"title\":{\"text\":\"Profitability\"}}},                        {\"responsive\": true}                    ).then(function(){\n",
       "                            \n",
       "var gd = document.getElementById('7f220d7e-9d7c-4755-8e67-e9ac01f9eae9');\n",
       "var x = new MutationObserver(function (mutations, observer) {{\n",
       "        var display = window.getComputedStyle(gd).display;\n",
       "        if (!display || display === 'none') {{\n",
       "            console.log([gd, 'removed!']);\n",
       "            Plotly.purge(gd);\n",
       "            observer.disconnect();\n",
       "        }}\n",
       "}});\n",
       "\n",
       "// Listen for the removal of the full notebook cells\n",
       "var notebookContainer = gd.closest('#notebook-container');\n",
       "if (notebookContainer) {{\n",
       "    x.observe(notebookContainer, {childList: true});\n",
       "}}\n",
       "\n",
       "// Listen for the clearing of the current output cell\n",
       "var outputEl = gd.closest('.output');\n",
       "if (outputEl) {{\n",
       "    x.observe(outputEl, {childList: true});\n",
       "}}\n",
       "\n",
       "                        })                };                });            </script>        </div>"
      ]
     },
     "metadata": {},
     "output_type": "display_data"
    }
   ],
   "source": [
    "fig= px.bar(top_15_profit, x='Film', y= 'Profitability',  hover_data = top_15_profit[['Year','Genre']], color='Lead Studio')\n",
    "fig.update_layout(xaxis={'categoryorder':'total descending'})\n",
    "fig.show()"
   ]
  },
  {
   "cell_type": "markdown",
   "id": "9f392263",
   "metadata": {
    "papermill": {
     "duration": 0.075357,
     "end_time": "2021-07-21T08:12:21.586027",
     "exception": false,
     "start_time": "2021-07-21T08:12:21.510670",
     "status": "completed"
    },
    "tags": []
   },
   "source": [
    "- Interestingly, or not interestingly, 'Fireproof', the most profitable movie in our dataset, has low score in both of the ratings.\n",
    "\n",
    "- Almost all of the lead studios have their movies in the most profitable top 15 movies list."
   ]
  },
  {
   "cell_type": "markdown",
   "id": "8e2133f3",
   "metadata": {
    "papermill": {
     "duration": 0.076959,
     "end_time": "2021-07-21T08:12:21.739096",
     "exception": false,
     "start_time": "2021-07-21T08:12:21.662137",
     "status": "completed"
    },
    "tags": []
   },
   "source": [
    "## This notebook is a part of the 9 Beginner Friendly EDAs\n",
    "## If you like this one, you can also check out other notebooks in the Beginner Friendly EDAs series!\n",
    "\n",
    "* [Data Analyst Jobs - EDA](https://www.kaggle.com/kaanboke/plotly-data-analyst-jobs)\n",
    "* [Top Games on Google Play Store](https://www.kaggle.com/kaanboke/plotly-beginner-friendly-top-games)\n",
    "* [UDEMY Courses EDA](https://www.kaggle.com/kaanboke/plotly-beginner-friendly-udemy)\n",
    "* [World Happiness Report - EDA](https://www.kaggle.com/kaanboke/plotly-beginner-friendly-eda)\n",
    "* [Countries Life Expectancy](https://www.kaggle.com/kaanboke/plotly-beginner-friendly)\n",
    "* [Netflix Movies- EDA](https://www.kaggle.com/kaanboke/plotly-beginner-friendly-netflix)\n",
    "* [Amazon Top 50 Bestselling Books EDA](https://www.kaggle.com/kaanboke/plotly-beginner-friendly-amazon)\n",
    "* [London Bike Sharing EDA](https://www.kaggle.com/kaanboke/plotly-beginner-friendly-london-bike)\n"
   ]
  },
  {
   "cell_type": "markdown",
   "id": "123459f0",
   "metadata": {
    "papermill": {
     "duration": 0.076056,
     "end_time": "2021-07-21T08:12:21.892665",
     "exception": false,
     "start_time": "2021-07-21T08:12:21.816609",
     "status": "completed"
    },
    "tags": []
   },
   "source": [
    "- Thanks for the dataset contibutor for this data. I really enjoyed working on it."
   ]
  },
  {
   "cell_type": "markdown",
   "id": "3e3f0cb9",
   "metadata": {
    "papermill": {
     "duration": 0.075746,
     "end_time": "2021-07-21T08:12:22.044766",
     "exception": false,
     "start_time": "2021-07-21T08:12:21.969020",
     "status": "completed"
    },
    "tags": []
   },
   "source": [
    "- It was a quite pleasure to share with you this detailed, beginner friendly EDA. Thanks for your time.\n",
    "\n",
    "- All the best "
   ]
  }
 ],
 "metadata": {
  "kernelspec": {
   "display_name": "Python 3",
   "language": "python",
   "name": "python3"
  },
  "language_info": {
   "codemirror_mode": {
    "name": "ipython",
    "version": 3
   },
   "file_extension": ".py",
   "mimetype": "text/x-python",
   "name": "python",
   "nbconvert_exporter": "python",
   "pygments_lexer": "ipython3",
   "version": "3.7.10"
  },
  "papermill": {
   "default_parameters": {},
   "duration": 27.939657,
   "end_time": "2021-07-21T08:12:23.707450",
   "environment_variables": {},
   "exception": null,
   "input_path": "__notebook__.ipynb",
   "output_path": "__notebook__.ipynb",
   "parameters": {},
   "start_time": "2021-07-21T08:11:55.767793",
   "version": "2.3.3"
  }
 },
 "nbformat": 4,
 "nbformat_minor": 5
}
