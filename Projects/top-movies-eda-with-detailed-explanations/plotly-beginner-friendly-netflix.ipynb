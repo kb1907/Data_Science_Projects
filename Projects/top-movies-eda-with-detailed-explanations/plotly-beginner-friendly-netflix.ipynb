{
 "cells": [
  {
   "cell_type": "markdown",
   "id": "94b50a34",
   "metadata": {
    "papermill": {
     "duration": 0.050955,
     "end_time": "2021-07-21T09:07:17.119957",
     "exception": false,
     "start_time": "2021-07-21T09:07:17.069002",
     "status": "completed"
    },
    "tags": []
   },
   "source": [
    "- Recently I got a lot of feedback from my dear friends who just change or about the change their career towards to Data Analysis/ Data Science and Machine Learning areas about the lack of material between beginning the analysis journey and the advanced techniques.\n",
    "\n",
    "- They are looking for detailed but at the same time beginner friendly, not so much complicated (with different regression, normalization techniques, etc.) explained Explanatory Data Analysis examples, which show them how to start and most importantly how to read the descriptive statistics and graphs.\n",
    "\n",
    "- After getting these feedbacks, I have decided to make some kind of series of EDA’s from different datasets, without making so complicated for the people at their first steps of DS/ML journey.\n",
    "\n",
    "### This notebook is part of the 9 Beginner Friendly EDAs. If these EDAs would be helpful to anyone, I would be more than happy.\n",
    "\n"
   ]
  },
  {
   "cell_type": "markdown",
   "id": "c4ba5687",
   "metadata": {
    "papermill": {
     "duration": 0.052516,
     "end_time": "2021-07-21T09:07:17.237977",
     "exception": false,
     "start_time": "2021-07-21T09:07:17.185461",
     "status": "completed"
    },
    "tags": []
   },
   "source": [
    "### **INTRO**"
   ]
  },
  {
   "cell_type": "markdown",
   "id": "b707495d",
   "metadata": {
    "papermill": {
     "duration": 0.049014,
     "end_time": "2021-07-21T09:07:17.336170",
     "exception": false,
     "start_time": "2021-07-21T09:07:17.287156",
     "status": "completed"
    },
    "tags": []
   },
   "source": [
    "- In this study, we are going to make Exploratory Data Analysis (EDA) with the Netflix original films dataset. \n",
    "- Study aims to be beginner friendly and give as much as possible explanation for each step on the way.\n",
    "- Study's dataset has top 584 Netflix original films  on the different genre. \n",
    "- Each films has language, release time, runtime and IMDB Score."
   ]
  },
  {
   "cell_type": "markdown",
   "id": "89b70baf",
   "metadata": {
    "papermill": {
     "duration": 0.070073,
     "end_time": "2021-07-21T09:07:17.458747",
     "exception": false,
     "start_time": "2021-07-21T09:07:17.388674",
     "status": "completed"
    },
    "tags": []
   },
   "source": [
    "- First, let's import the required libraries.\n",
    "- We will use Plotly's interactive environment for visualization."
   ]
  },
  {
   "cell_type": "code",
   "execution_count": 1,
   "id": "1b2cf574",
   "metadata": {
    "_kg_hide-input": true,
    "execution": {
     "iopub.execute_input": "2021-07-21T09:07:17.579473Z",
     "iopub.status.busy": "2021-07-21T09:07:17.578542Z",
     "iopub.status.idle": "2021-07-21T09:07:21.377473Z",
     "shell.execute_reply": "2021-07-21T09:07:21.376603Z",
     "shell.execute_reply.started": "2021-07-13T16:37:53.135347Z"
    },
    "papermill": {
     "duration": 3.867778,
     "end_time": "2021-07-21T09:07:21.377638",
     "exception": false,
     "start_time": "2021-07-21T09:07:17.509860",
     "status": "completed"
    },
    "tags": []
   },
   "outputs": [],
   "source": [
    "import pandas as pd\n",
    "import numpy as np\n",
    "\n",
    "\n",
    "import plotly \n",
    "import plotly.express as px\n",
    "import plotly.graph_objs as go\n",
    "import plotly.offline as py\n",
    "from plotly.offline import iplot\n",
    "from plotly.subplots import make_subplots\n",
    "import plotly.figure_factory as ff"
   ]
  },
  {
   "cell_type": "markdown",
   "id": "836a8a7a",
   "metadata": {
    "papermill": {
     "duration": 0.050419,
     "end_time": "2021-07-21T09:07:21.479304",
     "exception": false,
     "start_time": "2021-07-21T09:07:21.428885",
     "status": "completed"
    },
    "tags": []
   },
   "source": [
    "### Overview Stage\n",
    "\n",
    "- Read the csv\n",
    "- Look for basic information about the dataset"
   ]
  },
  {
   "cell_type": "code",
   "execution_count": 2,
   "id": "38f06404",
   "metadata": {
    "_kg_hide-input": true,
    "execution": {
     "iopub.execute_input": "2021-07-21T09:07:21.587519Z",
     "iopub.status.busy": "2021-07-21T09:07:21.586829Z",
     "iopub.status.idle": "2021-07-21T09:07:21.608722Z",
     "shell.execute_reply": "2021-07-21T09:07:21.608156Z",
     "shell.execute_reply.started": "2021-07-13T16:37:53.141463Z"
    },
    "papermill": {
     "duration": 0.07824,
     "end_time": "2021-07-21T09:07:21.608868",
     "exception": false,
     "start_time": "2021-07-21T09:07:21.530628",
     "status": "completed"
    },
    "tags": []
   },
   "outputs": [],
   "source": [
    "df= pd.read_csv('../input/netflix-original-films-imdb-scores/NetflixOriginals.csv')"
   ]
  },
  {
   "cell_type": "code",
   "execution_count": 3,
   "id": "19c1dc1a",
   "metadata": {
    "_kg_hide-input": true,
    "execution": {
     "iopub.execute_input": "2021-07-21T09:07:21.720986Z",
     "iopub.status.busy": "2021-07-21T09:07:21.720141Z",
     "iopub.status.idle": "2021-07-21T09:07:21.743753Z",
     "shell.execute_reply": "2021-07-21T09:07:21.743144Z",
     "shell.execute_reply.started": "2021-07-13T16:37:53.181922Z"
    },
    "papermill": {
     "duration": 0.085542,
     "end_time": "2021-07-21T09:07:21.743999",
     "exception": false,
     "start_time": "2021-07-21T09:07:21.658457",
     "status": "completed"
    },
    "tags": []
   },
   "outputs": [
    {
     "data": {
      "text/html": [
       "<div>\n",
       "<style scoped>\n",
       "    .dataframe tbody tr th:only-of-type {\n",
       "        vertical-align: middle;\n",
       "    }\n",
       "\n",
       "    .dataframe tbody tr th {\n",
       "        vertical-align: top;\n",
       "    }\n",
       "\n",
       "    .dataframe thead th {\n",
       "        text-align: right;\n",
       "    }\n",
       "</style>\n",
       "<table border=\"1\" class=\"dataframe\">\n",
       "  <thead>\n",
       "    <tr style=\"text-align: right;\">\n",
       "      <th></th>\n",
       "      <th>Title</th>\n",
       "      <th>Genre</th>\n",
       "      <th>Premiere</th>\n",
       "      <th>Runtime</th>\n",
       "      <th>IMDB Score</th>\n",
       "      <th>Language</th>\n",
       "    </tr>\n",
       "  </thead>\n",
       "  <tbody>\n",
       "    <tr>\n",
       "      <th>0</th>\n",
       "      <td>Enter the Anime</td>\n",
       "      <td>Documentary</td>\n",
       "      <td>August 5, 2019</td>\n",
       "      <td>58</td>\n",
       "      <td>2.5</td>\n",
       "      <td>English/Japanese</td>\n",
       "    </tr>\n",
       "    <tr>\n",
       "      <th>1</th>\n",
       "      <td>Dark Forces</td>\n",
       "      <td>Thriller</td>\n",
       "      <td>August 21, 2020</td>\n",
       "      <td>81</td>\n",
       "      <td>2.6</td>\n",
       "      <td>Spanish</td>\n",
       "    </tr>\n",
       "    <tr>\n",
       "      <th>2</th>\n",
       "      <td>The App</td>\n",
       "      <td>Science fiction/Drama</td>\n",
       "      <td>December 26, 2019</td>\n",
       "      <td>79</td>\n",
       "      <td>2.6</td>\n",
       "      <td>Italian</td>\n",
       "    </tr>\n",
       "    <tr>\n",
       "      <th>3</th>\n",
       "      <td>The Open House</td>\n",
       "      <td>Horror thriller</td>\n",
       "      <td>January 19, 2018</td>\n",
       "      <td>94</td>\n",
       "      <td>3.2</td>\n",
       "      <td>English</td>\n",
       "    </tr>\n",
       "    <tr>\n",
       "      <th>4</th>\n",
       "      <td>Kaali Khuhi</td>\n",
       "      <td>Mystery</td>\n",
       "      <td>October 30, 2020</td>\n",
       "      <td>90</td>\n",
       "      <td>3.4</td>\n",
       "      <td>Hindi</td>\n",
       "    </tr>\n",
       "  </tbody>\n",
       "</table>\n",
       "</div>"
      ],
      "text/plain": [
       "             Title                  Genre           Premiere  Runtime  \\\n",
       "0  Enter the Anime            Documentary     August 5, 2019       58   \n",
       "1      Dark Forces               Thriller    August 21, 2020       81   \n",
       "2          The App  Science fiction/Drama  December 26, 2019       79   \n",
       "3   The Open House        Horror thriller   January 19, 2018       94   \n",
       "4      Kaali Khuhi                Mystery   October 30, 2020       90   \n",
       "\n",
       "   IMDB Score          Language  \n",
       "0         2.5  English/Japanese  \n",
       "1         2.6           Spanish  \n",
       "2         2.6           Italian  \n",
       "3         3.2           English  \n",
       "4         3.4             Hindi  "
      ]
     },
     "execution_count": 3,
     "metadata": {},
     "output_type": "execute_result"
    }
   ],
   "source": [
    "df.head()"
   ]
  },
  {
   "cell_type": "code",
   "execution_count": 4,
   "id": "0651a29b",
   "metadata": {
    "_kg_hide-input": true,
    "execution": {
     "iopub.execute_input": "2021-07-21T09:07:21.856739Z",
     "iopub.status.busy": "2021-07-21T09:07:21.855814Z",
     "iopub.status.idle": "2021-07-21T09:07:21.859919Z",
     "shell.execute_reply": "2021-07-21T09:07:21.859393Z",
     "shell.execute_reply.started": "2021-07-13T16:37:53.21495Z"
    },
    "papermill": {
     "duration": 0.060569,
     "end_time": "2021-07-21T09:07:21.860055",
     "exception": false,
     "start_time": "2021-07-21T09:07:21.799486",
     "status": "completed"
    },
    "tags": []
   },
   "outputs": [
    {
     "data": {
      "text/plain": [
       "(584, 6)"
      ]
     },
     "execution_count": 4,
     "metadata": {},
     "output_type": "execute_result"
    }
   ],
   "source": [
    "df.shape"
   ]
  },
  {
   "cell_type": "markdown",
   "id": "b2bbdc51",
   "metadata": {
    "papermill": {
     "duration": 0.050186,
     "end_time": "2021-07-21T09:07:21.960968",
     "exception": false,
     "start_time": "2021-07-21T09:07:21.910782",
     "status": "completed"
    },
    "tags": []
   },
   "source": [
    "- We have 584 films and 6 attributes"
   ]
  },
  {
   "cell_type": "code",
   "execution_count": 5,
   "id": "eade8669",
   "metadata": {
    "_kg_hide-input": true,
    "execution": {
     "iopub.execute_input": "2021-07-21T09:07:22.071782Z",
     "iopub.status.busy": "2021-07-21T09:07:22.071125Z",
     "iopub.status.idle": "2021-07-21T09:07:22.075772Z",
     "shell.execute_reply": "2021-07-21T09:07:22.075131Z",
     "shell.execute_reply.started": "2021-07-13T16:37:53.221804Z"
    },
    "papermill": {
     "duration": 0.064138,
     "end_time": "2021-07-21T09:07:22.075935",
     "exception": false,
     "start_time": "2021-07-21T09:07:22.011797",
     "status": "completed"
    },
    "tags": []
   },
   "outputs": [
    {
     "data": {
      "text/plain": [
       "Title         0\n",
       "Genre         0\n",
       "Premiere      0\n",
       "Runtime       0\n",
       "IMDB Score    0\n",
       "Language      0\n",
       "dtype: int64"
      ]
     },
     "execution_count": 5,
     "metadata": {},
     "output_type": "execute_result"
    }
   ],
   "source": [
    "df.isnull().sum()"
   ]
  },
  {
   "cell_type": "markdown",
   "id": "a884015c",
   "metadata": {
    "papermill": {
     "duration": 0.052837,
     "end_time": "2021-07-21T09:07:22.184266",
     "exception": false,
     "start_time": "2021-07-21T09:07:22.131429",
     "status": "completed"
    },
    "tags": []
   },
   "source": [
    "- Yeah, it is very hard to find that kind of clean data in the real life. \n",
    "- No missing values. Hurray !!!"
   ]
  },
  {
   "cell_type": "code",
   "execution_count": 6,
   "id": "ac9ea24f",
   "metadata": {
    "_kg_hide-input": true,
    "execution": {
     "iopub.execute_input": "2021-07-21T09:07:22.314750Z",
     "iopub.status.busy": "2021-07-21T09:07:22.309451Z",
     "iopub.status.idle": "2021-07-21T09:07:22.324389Z",
     "shell.execute_reply": "2021-07-21T09:07:22.323676Z",
     "shell.execute_reply.started": "2021-07-13T16:37:53.243177Z"
    },
    "papermill": {
     "duration": 0.082876,
     "end_time": "2021-07-21T09:07:22.324537",
     "exception": false,
     "start_time": "2021-07-21T09:07:22.241661",
     "status": "completed"
    },
    "tags": []
   },
   "outputs": [
    {
     "name": "stdout",
     "output_type": "stream",
     "text": [
      "<class 'pandas.core.frame.DataFrame'>\n",
      "RangeIndex: 584 entries, 0 to 583\n",
      "Data columns (total 6 columns):\n",
      " #   Column      Non-Null Count  Dtype  \n",
      "---  ------      --------------  -----  \n",
      " 0   Title       584 non-null    object \n",
      " 1   Genre       584 non-null    object \n",
      " 2   Premiere    584 non-null    object \n",
      " 3   Runtime     584 non-null    int64  \n",
      " 4   IMDB Score  584 non-null    float64\n",
      " 5   Language    584 non-null    object \n",
      "dtypes: float64(1), int64(1), object(4)\n",
      "memory usage: 27.5+ KB\n"
     ]
    }
   ],
   "source": [
    "df.info()"
   ]
  },
  {
   "cell_type": "markdown",
   "id": "b6fedb8d",
   "metadata": {
    "papermill": {
     "duration": 0.051665,
     "end_time": "2021-07-21T09:07:22.428229",
     "exception": false,
     "start_time": "2021-07-21T09:07:22.376564",
     "status": "completed"
    },
    "tags": []
   },
   "source": [
    "- We need to make an adjustment on the Premiere feature,it should be datetime object.\n",
    "- Other than that, everything Seems OK."
   ]
  },
  {
   "cell_type": "code",
   "execution_count": 7,
   "id": "c2cdd775",
   "metadata": {
    "_kg_hide-input": true,
    "execution": {
     "iopub.execute_input": "2021-07-21T09:07:22.542454Z",
     "iopub.status.busy": "2021-07-21T09:07:22.541678Z",
     "iopub.status.idle": "2021-07-21T09:07:22.619329Z",
     "shell.execute_reply": "2021-07-21T09:07:22.619881Z",
     "shell.execute_reply.started": "2021-07-13T16:37:53.275729Z"
    },
    "papermill": {
     "duration": 0.139609,
     "end_time": "2021-07-21T09:07:22.620165",
     "exception": false,
     "start_time": "2021-07-21T09:07:22.480556",
     "status": "completed"
    },
    "tags": []
   },
   "outputs": [
    {
     "data": {
      "text/plain": [
       "0     2019-08-05\n",
       "1     2020-08-21\n",
       "2     2019-12-26\n",
       "3     2018-01-19\n",
       "4     2020-10-30\n",
       "         ...    \n",
       "579   2018-12-31\n",
       "580   2015-10-09\n",
       "581   2018-12-16\n",
       "582   2020-12-08\n",
       "583   2020-10-04\n",
       "Name: date, Length: 584, dtype: datetime64[ns]"
      ]
     },
     "execution_count": 7,
     "metadata": {},
     "output_type": "execute_result"
    }
   ],
   "source": [
    "df['date'] = pd.to_datetime(df['Premiere'])\n",
    "df['date']"
   ]
  },
  {
   "cell_type": "markdown",
   "id": "9bda3a31",
   "metadata": {
    "papermill": {
     "duration": 0.052848,
     "end_time": "2021-07-21T09:07:22.726835",
     "exception": false,
     "start_time": "2021-07-21T09:07:22.673987",
     "status": "completed"
    },
    "tags": []
   },
   "source": [
    "- OK, it is much better.\n",
    "- Let's make use of it and make columns out of it, such as, year, month, day."
   ]
  },
  {
   "cell_type": "code",
   "execution_count": 8,
   "id": "dd928b61",
   "metadata": {
    "_kg_hide-input": true,
    "execution": {
     "iopub.execute_input": "2021-07-21T09:07:22.836212Z",
     "iopub.status.busy": "2021-07-21T09:07:22.835447Z",
     "iopub.status.idle": "2021-07-21T09:07:22.848921Z",
     "shell.execute_reply": "2021-07-21T09:07:22.849468Z",
     "shell.execute_reply.started": "2021-07-13T16:37:53.347173Z"
    },
    "papermill": {
     "duration": 0.069839,
     "end_time": "2021-07-21T09:07:22.849652",
     "exception": false,
     "start_time": "2021-07-21T09:07:22.779813",
     "status": "completed"
    },
    "tags": []
   },
   "outputs": [],
   "source": [
    "df['year_month']= df['date'].dt.strftime('%Y-%m')\n",
    "df['year'] = df['date'].dt.year\n",
    "df['month']= df['date'].dt.month\n",
    "df['day_of_week']=df['date'].dt.dayofweek"
   ]
  },
  {
   "cell_type": "markdown",
   "id": "d464fcfc",
   "metadata": {
    "papermill": {
     "duration": 0.053163,
     "end_time": "2021-07-21T09:07:22.954454",
     "exception": false,
     "start_time": "2021-07-21T09:07:22.901291",
     "status": "completed"
    },
    "tags": []
   },
   "source": [
    "- Now we are ready to move on to the analysis part."
   ]
  },
  {
   "cell_type": "markdown",
   "id": "547c1575",
   "metadata": {
    "papermill": {
     "duration": 0.05287,
     "end_time": "2021-07-21T09:07:23.061042",
     "exception": false,
     "start_time": "2021-07-21T09:07:23.008172",
     "status": "completed"
    },
    "tags": []
   },
   "source": [
    "### Analysis Part"
   ]
  },
  {
   "cell_type": "markdown",
   "id": "67f03b1b",
   "metadata": {
    "papermill": {
     "duration": 0.052797,
     "end_time": "2021-07-21T09:07:23.167088",
     "exception": false,
     "start_time": "2021-07-21T09:07:23.114291",
     "status": "completed"
    },
    "tags": []
   },
   "source": [
    "#### **Genre**"
   ]
  },
  {
   "cell_type": "code",
   "execution_count": 9,
   "id": "a9217b69",
   "metadata": {
    "_kg_hide-input": true,
    "execution": {
     "iopub.execute_input": "2021-07-21T09:07:23.276688Z",
     "iopub.status.busy": "2021-07-21T09:07:23.275945Z",
     "iopub.status.idle": "2021-07-21T09:07:23.281781Z",
     "shell.execute_reply": "2021-07-21T09:07:23.282381Z",
     "shell.execute_reply.started": "2021-07-13T16:37:53.362911Z"
    },
    "papermill": {
     "duration": 0.062364,
     "end_time": "2021-07-21T09:07:23.282558",
     "exception": false,
     "start_time": "2021-07-21T09:07:23.220194",
     "status": "completed"
    },
    "tags": []
   },
   "outputs": [
    {
     "data": {
      "text/plain": [
       "115"
      ]
     },
     "execution_count": 9,
     "metadata": {},
     "output_type": "execute_result"
    }
   ],
   "source": [
    "df['Genre'].nunique()"
   ]
  },
  {
   "cell_type": "code",
   "execution_count": 10,
   "id": "de303c77",
   "metadata": {
    "_kg_hide-input": true,
    "execution": {
     "iopub.execute_input": "2021-07-21T09:07:23.396228Z",
     "iopub.status.busy": "2021-07-21T09:07:23.395489Z",
     "iopub.status.idle": "2021-07-21T09:07:23.419465Z",
     "shell.execute_reply": "2021-07-21T09:07:23.420045Z",
     "shell.execute_reply.started": "2021-07-13T16:37:53.380294Z"
    },
    "papermill": {
     "duration": 0.083711,
     "end_time": "2021-07-21T09:07:23.420270",
     "exception": false,
     "start_time": "2021-07-21T09:07:23.336559",
     "status": "completed"
    },
    "tags": []
   },
   "outputs": [
    {
     "data": {
      "text/plain": [
       "Documentary                 0.272260\n",
       "Drama                       0.131849\n",
       "Comedy                      0.083904\n",
       "Romantic comedy             0.066781\n",
       "Thriller                    0.056507\n",
       "                              ...   \n",
       "Anime / Short               0.001712\n",
       "Romantic thriller           0.001712\n",
       "Science fiction thriller    0.001712\n",
       "Urban fantasy               0.001712\n",
       "Action thriller             0.001712\n",
       "Name: Genre, Length: 115, dtype: float64"
      ]
     },
     "execution_count": 10,
     "metadata": {},
     "output_type": "execute_result"
    }
   ],
   "source": [
    "df['Genre'].value_counts(normalize=True)"
   ]
  },
  {
   "cell_type": "markdown",
   "id": "3b0d28c6",
   "metadata": {
    "papermill": {
     "duration": 0.054405,
     "end_time": "2021-07-21T09:07:23.529393",
     "exception": false,
     "start_time": "2021-07-21T09:07:23.474988",
     "status": "completed"
    },
    "tags": []
   },
   "source": [
    "- We have 115 different genre\n",
    "- Let's look at the first 20 genre"
   ]
  },
  {
   "cell_type": "code",
   "execution_count": 11,
   "id": "cd02ebab",
   "metadata": {
    "_kg_hide-input": true,
    "execution": {
     "iopub.execute_input": "2021-07-21T09:07:23.642581Z",
     "iopub.status.busy": "2021-07-21T09:07:23.641825Z",
     "iopub.status.idle": "2021-07-21T09:07:23.649707Z",
     "shell.execute_reply": "2021-07-21T09:07:23.650275Z",
     "shell.execute_reply.started": "2021-07-13T16:37:53.417203Z"
    },
    "papermill": {
     "duration": 0.066503,
     "end_time": "2021-07-21T09:07:23.650460",
     "exception": false,
     "start_time": "2021-07-21T09:07:23.583957",
     "status": "completed"
    },
    "tags": []
   },
   "outputs": [
    {
     "data": {
      "text/plain": [
       "Documentary                 159\n",
       "Drama                        77\n",
       "Comedy                       49\n",
       "Romantic comedy              39\n",
       "Thriller                     33\n",
       "Comedy-drama                 14\n",
       "Crime drama                  11\n",
       "Horror                        9\n",
       "Biopic                        9\n",
       "Action                        7\n",
       "Aftershow / Interview         6\n",
       "Concert Film                  6\n",
       "Romance                       6\n",
       "Action comedy                 5\n",
       "Animation                     5\n",
       "Romantic drama                5\n",
       "Science fiction/Thriller      4\n",
       "Animation / Short             4\n",
       "Science fiction               4\n",
       "Variety show                  4\n",
       "Name: Genre, dtype: int64"
      ]
     },
     "execution_count": 11,
     "metadata": {},
     "output_type": "execute_result"
    }
   ],
   "source": [
    "genre = df['Genre'].value_counts()[:20]\n",
    "genre"
   ]
  },
  {
   "cell_type": "markdown",
   "id": "20b59e22",
   "metadata": {
    "papermill": {
     "duration": 0.055118,
     "end_time": "2021-07-21T09:07:23.761364",
     "exception": false,
     "start_time": "2021-07-21T09:07:23.706246",
     "status": "completed"
    },
    "tags": []
   },
   "source": [
    "- 27.2% of the movies on the Documentary genre, then 13% of the movies on Drama genre.\n",
    "- Majority of the movies  come from different genres and each genre shares at around 1% each."
   ]
  },
  {
   "cell_type": "code",
   "execution_count": 12,
   "id": "4d30de47",
   "metadata": {
    "_kg_hide-input": true,
    "execution": {
     "iopub.execute_input": "2021-07-21T09:07:23.874302Z",
     "iopub.status.busy": "2021-07-21T09:07:23.873300Z",
     "iopub.status.idle": "2021-07-21T09:07:25.011109Z",
     "shell.execute_reply": "2021-07-21T09:07:25.010525Z",
     "shell.execute_reply.started": "2021-07-13T16:37:53.428731Z"
    },
    "papermill": {
     "duration": 1.194511,
     "end_time": "2021-07-21T09:07:25.011254",
     "exception": false,
     "start_time": "2021-07-21T09:07:23.816743",
     "status": "completed"
    },
    "tags": []
   },
   "outputs": [
    {
     "data": {
      "text/html": [
       "        <script type=\"text/javascript\">\n",
       "        window.PlotlyConfig = {MathJaxConfig: 'local'};\n",
       "        if (window.MathJax) {MathJax.Hub.Config({SVG: {font: \"STIX-Web\"}});}\n",
       "        if (typeof require !== 'undefined') {\n",
       "        require.undef(\"plotly\");\n",
       "        requirejs.config({\n",
       "            paths: {\n",
       "                'plotly': ['https://cdn.plot.ly/plotly-2.2.0.min']\n",
       "            }\n",
       "        });\n",
       "        require(['plotly'], function(Plotly) {\n",
       "            window._Plotly = Plotly;\n",
       "        });\n",
       "        }\n",
       "        </script>\n",
       "        "
      ]
     },
     "metadata": {},
     "output_type": "display_data"
    },
    {
     "data": {
      "text/html": [
       "<div>                            <div id=\"d53669ac-2764-4089-a513-a3c11b17b63a\" class=\"plotly-graph-div\" style=\"height:525px; width:100%;\"></div>            <script type=\"text/javascript\">                require([\"plotly\"], function(Plotly) {                    window.PLOTLYENV=window.PLOTLYENV || {};                                    if (document.getElementById(\"d53669ac-2764-4089-a513-a3c11b17b63a\")) {                    Plotly.newPlot(                        \"d53669ac-2764-4089-a513-a3c11b17b63a\",                        [{\"alignmentgroup\":\"True\",\"hovertemplate\":\"Genres=%{x}<br>Number of Movies from the Genre=%{y}<extra></extra>\",\"legendgroup\":\"\",\"marker\":{\"color\":\"#636efa\",\"pattern\":{\"shape\":\"\"}},\"name\":\"\",\"offsetgroup\":\"\",\"orientation\":\"v\",\"showlegend\":false,\"textposition\":\"auto\",\"type\":\"bar\",\"x\":[\"Documentary\",\"Drama\",\"Comedy\",\"Romantic comedy\",\"Thriller\",\"Comedy-drama\",\"Crime drama\",\"Horror\",\"Biopic\",\"Action\",\"Aftershow / Interview\",\"Concert Film\",\"Romance\",\"Action comedy\",\"Animation\",\"Romantic drama\",\"Science fiction/Thriller\",\"Animation / Short\",\"Science fiction\",\"Variety show\"],\"xaxis\":\"x\",\"y\":[159,77,49,39,33,14,11,9,9,7,6,6,6,5,5,5,4,4,4,4],\"yaxis\":\"y\"}],                        {\"barmode\":\"relative\",\"legend\":{\"tracegroupgap\":0},\"margin\":{\"t\":60},\"template\":{\"data\":{\"bar\":[{\"error_x\":{\"color\":\"#2a3f5f\"},\"error_y\":{\"color\":\"#2a3f5f\"},\"marker\":{\"line\":{\"color\":\"#E5ECF6\",\"width\":0.5},\"pattern\":{\"fillmode\":\"overlay\",\"size\":10,\"solidity\":0.2}},\"type\":\"bar\"}],\"barpolar\":[{\"marker\":{\"line\":{\"color\":\"#E5ECF6\",\"width\":0.5},\"pattern\":{\"fillmode\":\"overlay\",\"size\":10,\"solidity\":0.2}},\"type\":\"barpolar\"}],\"carpet\":[{\"aaxis\":{\"endlinecolor\":\"#2a3f5f\",\"gridcolor\":\"white\",\"linecolor\":\"white\",\"minorgridcolor\":\"white\",\"startlinecolor\":\"#2a3f5f\"},\"baxis\":{\"endlinecolor\":\"#2a3f5f\",\"gridcolor\":\"white\",\"linecolor\":\"white\",\"minorgridcolor\":\"white\",\"startlinecolor\":\"#2a3f5f\"},\"type\":\"carpet\"}],\"choropleth\":[{\"colorbar\":{\"outlinewidth\":0,\"ticks\":\"\"},\"type\":\"choropleth\"}],\"contour\":[{\"colorbar\":{\"outlinewidth\":0,\"ticks\":\"\"},\"colorscale\":[[0.0,\"#0d0887\"],[0.1111111111111111,\"#46039f\"],[0.2222222222222222,\"#7201a8\"],[0.3333333333333333,\"#9c179e\"],[0.4444444444444444,\"#bd3786\"],[0.5555555555555556,\"#d8576b\"],[0.6666666666666666,\"#ed7953\"],[0.7777777777777778,\"#fb9f3a\"],[0.8888888888888888,\"#fdca26\"],[1.0,\"#f0f921\"]],\"type\":\"contour\"}],\"contourcarpet\":[{\"colorbar\":{\"outlinewidth\":0,\"ticks\":\"\"},\"type\":\"contourcarpet\"}],\"heatmap\":[{\"colorbar\":{\"outlinewidth\":0,\"ticks\":\"\"},\"colorscale\":[[0.0,\"#0d0887\"],[0.1111111111111111,\"#46039f\"],[0.2222222222222222,\"#7201a8\"],[0.3333333333333333,\"#9c179e\"],[0.4444444444444444,\"#bd3786\"],[0.5555555555555556,\"#d8576b\"],[0.6666666666666666,\"#ed7953\"],[0.7777777777777778,\"#fb9f3a\"],[0.8888888888888888,\"#fdca26\"],[1.0,\"#f0f921\"]],\"type\":\"heatmap\"}],\"heatmapgl\":[{\"colorbar\":{\"outlinewidth\":0,\"ticks\":\"\"},\"colorscale\":[[0.0,\"#0d0887\"],[0.1111111111111111,\"#46039f\"],[0.2222222222222222,\"#7201a8\"],[0.3333333333333333,\"#9c179e\"],[0.4444444444444444,\"#bd3786\"],[0.5555555555555556,\"#d8576b\"],[0.6666666666666666,\"#ed7953\"],[0.7777777777777778,\"#fb9f3a\"],[0.8888888888888888,\"#fdca26\"],[1.0,\"#f0f921\"]],\"type\":\"heatmapgl\"}],\"histogram\":[{\"marker\":{\"pattern\":{\"fillmode\":\"overlay\",\"size\":10,\"solidity\":0.2}},\"type\":\"histogram\"}],\"histogram2d\":[{\"colorbar\":{\"outlinewidth\":0,\"ticks\":\"\"},\"colorscale\":[[0.0,\"#0d0887\"],[0.1111111111111111,\"#46039f\"],[0.2222222222222222,\"#7201a8\"],[0.3333333333333333,\"#9c179e\"],[0.4444444444444444,\"#bd3786\"],[0.5555555555555556,\"#d8576b\"],[0.6666666666666666,\"#ed7953\"],[0.7777777777777778,\"#fb9f3a\"],[0.8888888888888888,\"#fdca26\"],[1.0,\"#f0f921\"]],\"type\":\"histogram2d\"}],\"histogram2dcontour\":[{\"colorbar\":{\"outlinewidth\":0,\"ticks\":\"\"},\"colorscale\":[[0.0,\"#0d0887\"],[0.1111111111111111,\"#46039f\"],[0.2222222222222222,\"#7201a8\"],[0.3333333333333333,\"#9c179e\"],[0.4444444444444444,\"#bd3786\"],[0.5555555555555556,\"#d8576b\"],[0.6666666666666666,\"#ed7953\"],[0.7777777777777778,\"#fb9f3a\"],[0.8888888888888888,\"#fdca26\"],[1.0,\"#f0f921\"]],\"type\":\"histogram2dcontour\"}],\"mesh3d\":[{\"colorbar\":{\"outlinewidth\":0,\"ticks\":\"\"},\"type\":\"mesh3d\"}],\"parcoords\":[{\"line\":{\"colorbar\":{\"outlinewidth\":0,\"ticks\":\"\"}},\"type\":\"parcoords\"}],\"pie\":[{\"automargin\":true,\"type\":\"pie\"}],\"scatter\":[{\"marker\":{\"colorbar\":{\"outlinewidth\":0,\"ticks\":\"\"}},\"type\":\"scatter\"}],\"scatter3d\":[{\"line\":{\"colorbar\":{\"outlinewidth\":0,\"ticks\":\"\"}},\"marker\":{\"colorbar\":{\"outlinewidth\":0,\"ticks\":\"\"}},\"type\":\"scatter3d\"}],\"scattercarpet\":[{\"marker\":{\"colorbar\":{\"outlinewidth\":0,\"ticks\":\"\"}},\"type\":\"scattercarpet\"}],\"scattergeo\":[{\"marker\":{\"colorbar\":{\"outlinewidth\":0,\"ticks\":\"\"}},\"type\":\"scattergeo\"}],\"scattergl\":[{\"marker\":{\"colorbar\":{\"outlinewidth\":0,\"ticks\":\"\"}},\"type\":\"scattergl\"}],\"scattermapbox\":[{\"marker\":{\"colorbar\":{\"outlinewidth\":0,\"ticks\":\"\"}},\"type\":\"scattermapbox\"}],\"scatterpolar\":[{\"marker\":{\"colorbar\":{\"outlinewidth\":0,\"ticks\":\"\"}},\"type\":\"scatterpolar\"}],\"scatterpolargl\":[{\"marker\":{\"colorbar\":{\"outlinewidth\":0,\"ticks\":\"\"}},\"type\":\"scatterpolargl\"}],\"scatterternary\":[{\"marker\":{\"colorbar\":{\"outlinewidth\":0,\"ticks\":\"\"}},\"type\":\"scatterternary\"}],\"surface\":[{\"colorbar\":{\"outlinewidth\":0,\"ticks\":\"\"},\"colorscale\":[[0.0,\"#0d0887\"],[0.1111111111111111,\"#46039f\"],[0.2222222222222222,\"#7201a8\"],[0.3333333333333333,\"#9c179e\"],[0.4444444444444444,\"#bd3786\"],[0.5555555555555556,\"#d8576b\"],[0.6666666666666666,\"#ed7953\"],[0.7777777777777778,\"#fb9f3a\"],[0.8888888888888888,\"#fdca26\"],[1.0,\"#f0f921\"]],\"type\":\"surface\"}],\"table\":[{\"cells\":{\"fill\":{\"color\":\"#EBF0F8\"},\"line\":{\"color\":\"white\"}},\"header\":{\"fill\":{\"color\":\"#C8D4E3\"},\"line\":{\"color\":\"white\"}},\"type\":\"table\"}]},\"layout\":{\"annotationdefaults\":{\"arrowcolor\":\"#2a3f5f\",\"arrowhead\":0,\"arrowwidth\":1},\"autotypenumbers\":\"strict\",\"coloraxis\":{\"colorbar\":{\"outlinewidth\":0,\"ticks\":\"\"}},\"colorscale\":{\"diverging\":[[0,\"#8e0152\"],[0.1,\"#c51b7d\"],[0.2,\"#de77ae\"],[0.3,\"#f1b6da\"],[0.4,\"#fde0ef\"],[0.5,\"#f7f7f7\"],[0.6,\"#e6f5d0\"],[0.7,\"#b8e186\"],[0.8,\"#7fbc41\"],[0.9,\"#4d9221\"],[1,\"#276419\"]],\"sequential\":[[0.0,\"#0d0887\"],[0.1111111111111111,\"#46039f\"],[0.2222222222222222,\"#7201a8\"],[0.3333333333333333,\"#9c179e\"],[0.4444444444444444,\"#bd3786\"],[0.5555555555555556,\"#d8576b\"],[0.6666666666666666,\"#ed7953\"],[0.7777777777777778,\"#fb9f3a\"],[0.8888888888888888,\"#fdca26\"],[1.0,\"#f0f921\"]],\"sequentialminus\":[[0.0,\"#0d0887\"],[0.1111111111111111,\"#46039f\"],[0.2222222222222222,\"#7201a8\"],[0.3333333333333333,\"#9c179e\"],[0.4444444444444444,\"#bd3786\"],[0.5555555555555556,\"#d8576b\"],[0.6666666666666666,\"#ed7953\"],[0.7777777777777778,\"#fb9f3a\"],[0.8888888888888888,\"#fdca26\"],[1.0,\"#f0f921\"]]},\"colorway\":[\"#636efa\",\"#EF553B\",\"#00cc96\",\"#ab63fa\",\"#FFA15A\",\"#19d3f3\",\"#FF6692\",\"#B6E880\",\"#FF97FF\",\"#FECB52\"],\"font\":{\"color\":\"#2a3f5f\"},\"geo\":{\"bgcolor\":\"white\",\"lakecolor\":\"white\",\"landcolor\":\"#E5ECF6\",\"showlakes\":true,\"showland\":true,\"subunitcolor\":\"white\"},\"hoverlabel\":{\"align\":\"left\"},\"hovermode\":\"closest\",\"mapbox\":{\"style\":\"light\"},\"paper_bgcolor\":\"white\",\"plot_bgcolor\":\"#E5ECF6\",\"polar\":{\"angularaxis\":{\"gridcolor\":\"white\",\"linecolor\":\"white\",\"ticks\":\"\"},\"bgcolor\":\"#E5ECF6\",\"radialaxis\":{\"gridcolor\":\"white\",\"linecolor\":\"white\",\"ticks\":\"\"}},\"scene\":{\"xaxis\":{\"backgroundcolor\":\"#E5ECF6\",\"gridcolor\":\"white\",\"gridwidth\":2,\"linecolor\":\"white\",\"showbackground\":true,\"ticks\":\"\",\"zerolinecolor\":\"white\"},\"yaxis\":{\"backgroundcolor\":\"#E5ECF6\",\"gridcolor\":\"white\",\"gridwidth\":2,\"linecolor\":\"white\",\"showbackground\":true,\"ticks\":\"\",\"zerolinecolor\":\"white\"},\"zaxis\":{\"backgroundcolor\":\"#E5ECF6\",\"gridcolor\":\"white\",\"gridwidth\":2,\"linecolor\":\"white\",\"showbackground\":true,\"ticks\":\"\",\"zerolinecolor\":\"white\"}},\"shapedefaults\":{\"line\":{\"color\":\"#2a3f5f\"}},\"ternary\":{\"aaxis\":{\"gridcolor\":\"white\",\"linecolor\":\"white\",\"ticks\":\"\"},\"baxis\":{\"gridcolor\":\"white\",\"linecolor\":\"white\",\"ticks\":\"\"},\"bgcolor\":\"#E5ECF6\",\"caxis\":{\"gridcolor\":\"white\",\"linecolor\":\"white\",\"ticks\":\"\"}},\"title\":{\"x\":0.05},\"xaxis\":{\"automargin\":true,\"gridcolor\":\"white\",\"linecolor\":\"white\",\"ticks\":\"\",\"title\":{\"standoff\":15},\"zerolinecolor\":\"white\",\"zerolinewidth\":2},\"yaxis\":{\"automargin\":true,\"gridcolor\":\"white\",\"linecolor\":\"white\",\"ticks\":\"\",\"title\":{\"standoff\":15},\"zerolinecolor\":\"white\",\"zerolinewidth\":2}}},\"xaxis\":{\"anchor\":\"y\",\"categoryorder\":\"total descending\",\"domain\":[0.0,1.0],\"title\":{\"text\":\"Genres\"}},\"yaxis\":{\"anchor\":\"x\",\"domain\":[0.0,1.0],\"title\":{\"text\":\"Number of Movies from the Genre\"}}},                        {\"responsive\": true}                    ).then(function(){\n",
       "                            \n",
       "var gd = document.getElementById('d53669ac-2764-4089-a513-a3c11b17b63a');\n",
       "var x = new MutationObserver(function (mutations, observer) {{\n",
       "        var display = window.getComputedStyle(gd).display;\n",
       "        if (!display || display === 'none') {{\n",
       "            console.log([gd, 'removed!']);\n",
       "            Plotly.purge(gd);\n",
       "            observer.disconnect();\n",
       "        }}\n",
       "}});\n",
       "\n",
       "// Listen for the removal of the full notebook cells\n",
       "var notebookContainer = gd.closest('#notebook-container');\n",
       "if (notebookContainer) {{\n",
       "    x.observe(notebookContainer, {childList: true});\n",
       "}}\n",
       "\n",
       "// Listen for the clearing of the current output cell\n",
       "var outputEl = gd.closest('.output');\n",
       "if (outputEl) {{\n",
       "    x.observe(outputEl, {childList: true});\n",
       "}}\n",
       "\n",
       "                        })                };                });            </script>        </div>"
      ]
     },
     "metadata": {},
     "output_type": "display_data"
    }
   ],
   "source": [
    "fig = px.bar(genre, x= genre.index, y=genre.values, labels={'y':'Number of Movies from the Genre', 'index':'Genres'})\n",
    "fig.update_layout(xaxis={'categoryorder':'total descending'})\n",
    "fig.show()"
   ]
  },
  {
   "cell_type": "markdown",
   "id": "769e76b7",
   "metadata": {
    "papermill": {
     "duration": 0.05375,
     "end_time": "2021-07-21T09:07:25.118803",
     "exception": false,
     "start_time": "2021-07-21T09:07:25.065053",
     "status": "completed"
    },
    "tags": []
   },
   "source": [
    "#### Languages"
   ]
  },
  {
   "cell_type": "code",
   "execution_count": 13,
   "id": "1ae94c03",
   "metadata": {
    "_kg_hide-input": true,
    "execution": {
     "iopub.execute_input": "2021-07-21T09:07:25.233490Z",
     "iopub.status.busy": "2021-07-21T09:07:25.232535Z",
     "iopub.status.idle": "2021-07-21T09:07:25.237208Z",
     "shell.execute_reply": "2021-07-21T09:07:25.236611Z",
     "shell.execute_reply.started": "2021-07-13T16:37:54.576381Z"
    },
    "papermill": {
     "duration": 0.064837,
     "end_time": "2021-07-21T09:07:25.237354",
     "exception": false,
     "start_time": "2021-07-21T09:07:25.172517",
     "status": "completed"
    },
    "tags": []
   },
   "outputs": [
    {
     "data": {
      "text/plain": [
       "38"
      ]
     },
     "execution_count": 13,
     "metadata": {},
     "output_type": "execute_result"
    }
   ],
   "source": [
    "df['Language'].nunique()"
   ]
  },
  {
   "cell_type": "code",
   "execution_count": 14,
   "id": "2f4112a8",
   "metadata": {
    "_kg_hide-input": true,
    "execution": {
     "iopub.execute_input": "2021-07-21T09:07:25.354831Z",
     "iopub.status.busy": "2021-07-21T09:07:25.351647Z",
     "iopub.status.idle": "2021-07-21T09:07:25.358254Z",
     "shell.execute_reply": "2021-07-21T09:07:25.358855Z",
     "shell.execute_reply.started": "2021-07-13T16:37:54.584231Z"
    },
    "papermill": {
     "duration": 0.06661,
     "end_time": "2021-07-21T09:07:25.359022",
     "exception": false,
     "start_time": "2021-07-21T09:07:25.292412",
     "status": "completed"
    },
    "tags": []
   },
   "outputs": [
    {
     "data": {
      "text/plain": [
       "English       401\n",
       "Hindi          33\n",
       "Spanish        31\n",
       "French         20\n",
       "Italian        14\n",
       "Portuguese     12\n",
       "Indonesian      9\n",
       "Korean          6\n",
       "Japanese        6\n",
       "German          5\n",
       "Name: Language, dtype: int64"
      ]
     },
     "execution_count": 14,
     "metadata": {},
     "output_type": "execute_result"
    }
   ],
   "source": [
    "top_10_languages_used= df['Language'].value_counts()[:10]\n",
    "top_10_languages_used"
   ]
  },
  {
   "cell_type": "code",
   "execution_count": 15,
   "id": "968691e4",
   "metadata": {
    "_kg_hide-input": true,
    "execution": {
     "iopub.execute_input": "2021-07-21T09:07:25.472858Z",
     "iopub.status.busy": "2021-07-21T09:07:25.471888Z",
     "iopub.status.idle": "2021-07-21T09:07:25.539810Z",
     "shell.execute_reply": "2021-07-21T09:07:25.539300Z",
     "shell.execute_reply.started": "2021-07-13T16:37:54.605311Z"
    },
    "papermill": {
     "duration": 0.125721,
     "end_time": "2021-07-21T09:07:25.539957",
     "exception": false,
     "start_time": "2021-07-21T09:07:25.414236",
     "status": "completed"
    },
    "tags": []
   },
   "outputs": [
    {
     "data": {
      "text/html": [
       "<div>                            <div id=\"fabcc048-019c-4252-b810-3aa40fef5403\" class=\"plotly-graph-div\" style=\"height:525px; width:100%;\"></div>            <script type=\"text/javascript\">                require([\"plotly\"], function(Plotly) {                    window.PLOTLYENV=window.PLOTLYENV || {};                                    if (document.getElementById(\"fabcc048-019c-4252-b810-3aa40fef5403\")) {                    Plotly.newPlot(                        \"fabcc048-019c-4252-b810-3aa40fef5403\",                        [{\"alignmentgroup\":\"True\",\"hovertemplate\":\"Language=%{x}<br>Count=%{y}<extra></extra>\",\"legendgroup\":\"\",\"marker\":{\"color\":\"#636efa\",\"pattern\":{\"shape\":\"\"}},\"name\":\"\",\"offsetgroup\":\"\",\"orientation\":\"v\",\"showlegend\":false,\"textposition\":\"auto\",\"type\":\"bar\",\"x\":[\"English\",\"Hindi\",\"Spanish\",\"French\",\"Italian\",\"Portuguese\",\"Indonesian\",\"Korean\",\"Japanese\",\"German\"],\"xaxis\":\"x\",\"y\":[401,33,31,20,14,12,9,6,6,5],\"yaxis\":\"y\"}],                        {\"barmode\":\"relative\",\"legend\":{\"tracegroupgap\":0},\"margin\":{\"t\":60},\"template\":{\"data\":{\"bar\":[{\"error_x\":{\"color\":\"#2a3f5f\"},\"error_y\":{\"color\":\"#2a3f5f\"},\"marker\":{\"line\":{\"color\":\"#E5ECF6\",\"width\":0.5},\"pattern\":{\"fillmode\":\"overlay\",\"size\":10,\"solidity\":0.2}},\"type\":\"bar\"}],\"barpolar\":[{\"marker\":{\"line\":{\"color\":\"#E5ECF6\",\"width\":0.5},\"pattern\":{\"fillmode\":\"overlay\",\"size\":10,\"solidity\":0.2}},\"type\":\"barpolar\"}],\"carpet\":[{\"aaxis\":{\"endlinecolor\":\"#2a3f5f\",\"gridcolor\":\"white\",\"linecolor\":\"white\",\"minorgridcolor\":\"white\",\"startlinecolor\":\"#2a3f5f\"},\"baxis\":{\"endlinecolor\":\"#2a3f5f\",\"gridcolor\":\"white\",\"linecolor\":\"white\",\"minorgridcolor\":\"white\",\"startlinecolor\":\"#2a3f5f\"},\"type\":\"carpet\"}],\"choropleth\":[{\"colorbar\":{\"outlinewidth\":0,\"ticks\":\"\"},\"type\":\"choropleth\"}],\"contour\":[{\"colorbar\":{\"outlinewidth\":0,\"ticks\":\"\"},\"colorscale\":[[0.0,\"#0d0887\"],[0.1111111111111111,\"#46039f\"],[0.2222222222222222,\"#7201a8\"],[0.3333333333333333,\"#9c179e\"],[0.4444444444444444,\"#bd3786\"],[0.5555555555555556,\"#d8576b\"],[0.6666666666666666,\"#ed7953\"],[0.7777777777777778,\"#fb9f3a\"],[0.8888888888888888,\"#fdca26\"],[1.0,\"#f0f921\"]],\"type\":\"contour\"}],\"contourcarpet\":[{\"colorbar\":{\"outlinewidth\":0,\"ticks\":\"\"},\"type\":\"contourcarpet\"}],\"heatmap\":[{\"colorbar\":{\"outlinewidth\":0,\"ticks\":\"\"},\"colorscale\":[[0.0,\"#0d0887\"],[0.1111111111111111,\"#46039f\"],[0.2222222222222222,\"#7201a8\"],[0.3333333333333333,\"#9c179e\"],[0.4444444444444444,\"#bd3786\"],[0.5555555555555556,\"#d8576b\"],[0.6666666666666666,\"#ed7953\"],[0.7777777777777778,\"#fb9f3a\"],[0.8888888888888888,\"#fdca26\"],[1.0,\"#f0f921\"]],\"type\":\"heatmap\"}],\"heatmapgl\":[{\"colorbar\":{\"outlinewidth\":0,\"ticks\":\"\"},\"colorscale\":[[0.0,\"#0d0887\"],[0.1111111111111111,\"#46039f\"],[0.2222222222222222,\"#7201a8\"],[0.3333333333333333,\"#9c179e\"],[0.4444444444444444,\"#bd3786\"],[0.5555555555555556,\"#d8576b\"],[0.6666666666666666,\"#ed7953\"],[0.7777777777777778,\"#fb9f3a\"],[0.8888888888888888,\"#fdca26\"],[1.0,\"#f0f921\"]],\"type\":\"heatmapgl\"}],\"histogram\":[{\"marker\":{\"pattern\":{\"fillmode\":\"overlay\",\"size\":10,\"solidity\":0.2}},\"type\":\"histogram\"}],\"histogram2d\":[{\"colorbar\":{\"outlinewidth\":0,\"ticks\":\"\"},\"colorscale\":[[0.0,\"#0d0887\"],[0.1111111111111111,\"#46039f\"],[0.2222222222222222,\"#7201a8\"],[0.3333333333333333,\"#9c179e\"],[0.4444444444444444,\"#bd3786\"],[0.5555555555555556,\"#d8576b\"],[0.6666666666666666,\"#ed7953\"],[0.7777777777777778,\"#fb9f3a\"],[0.8888888888888888,\"#fdca26\"],[1.0,\"#f0f921\"]],\"type\":\"histogram2d\"}],\"histogram2dcontour\":[{\"colorbar\":{\"outlinewidth\":0,\"ticks\":\"\"},\"colorscale\":[[0.0,\"#0d0887\"],[0.1111111111111111,\"#46039f\"],[0.2222222222222222,\"#7201a8\"],[0.3333333333333333,\"#9c179e\"],[0.4444444444444444,\"#bd3786\"],[0.5555555555555556,\"#d8576b\"],[0.6666666666666666,\"#ed7953\"],[0.7777777777777778,\"#fb9f3a\"],[0.8888888888888888,\"#fdca26\"],[1.0,\"#f0f921\"]],\"type\":\"histogram2dcontour\"}],\"mesh3d\":[{\"colorbar\":{\"outlinewidth\":0,\"ticks\":\"\"},\"type\":\"mesh3d\"}],\"parcoords\":[{\"line\":{\"colorbar\":{\"outlinewidth\":0,\"ticks\":\"\"}},\"type\":\"parcoords\"}],\"pie\":[{\"automargin\":true,\"type\":\"pie\"}],\"scatter\":[{\"marker\":{\"colorbar\":{\"outlinewidth\":0,\"ticks\":\"\"}},\"type\":\"scatter\"}],\"scatter3d\":[{\"line\":{\"colorbar\":{\"outlinewidth\":0,\"ticks\":\"\"}},\"marker\":{\"colorbar\":{\"outlinewidth\":0,\"ticks\":\"\"}},\"type\":\"scatter3d\"}],\"scattercarpet\":[{\"marker\":{\"colorbar\":{\"outlinewidth\":0,\"ticks\":\"\"}},\"type\":\"scattercarpet\"}],\"scattergeo\":[{\"marker\":{\"colorbar\":{\"outlinewidth\":0,\"ticks\":\"\"}},\"type\":\"scattergeo\"}],\"scattergl\":[{\"marker\":{\"colorbar\":{\"outlinewidth\":0,\"ticks\":\"\"}},\"type\":\"scattergl\"}],\"scattermapbox\":[{\"marker\":{\"colorbar\":{\"outlinewidth\":0,\"ticks\":\"\"}},\"type\":\"scattermapbox\"}],\"scatterpolar\":[{\"marker\":{\"colorbar\":{\"outlinewidth\":0,\"ticks\":\"\"}},\"type\":\"scatterpolar\"}],\"scatterpolargl\":[{\"marker\":{\"colorbar\":{\"outlinewidth\":0,\"ticks\":\"\"}},\"type\":\"scatterpolargl\"}],\"scatterternary\":[{\"marker\":{\"colorbar\":{\"outlinewidth\":0,\"ticks\":\"\"}},\"type\":\"scatterternary\"}],\"surface\":[{\"colorbar\":{\"outlinewidth\":0,\"ticks\":\"\"},\"colorscale\":[[0.0,\"#0d0887\"],[0.1111111111111111,\"#46039f\"],[0.2222222222222222,\"#7201a8\"],[0.3333333333333333,\"#9c179e\"],[0.4444444444444444,\"#bd3786\"],[0.5555555555555556,\"#d8576b\"],[0.6666666666666666,\"#ed7953\"],[0.7777777777777778,\"#fb9f3a\"],[0.8888888888888888,\"#fdca26\"],[1.0,\"#f0f921\"]],\"type\":\"surface\"}],\"table\":[{\"cells\":{\"fill\":{\"color\":\"#EBF0F8\"},\"line\":{\"color\":\"white\"}},\"header\":{\"fill\":{\"color\":\"#C8D4E3\"},\"line\":{\"color\":\"white\"}},\"type\":\"table\"}]},\"layout\":{\"annotationdefaults\":{\"arrowcolor\":\"#2a3f5f\",\"arrowhead\":0,\"arrowwidth\":1},\"autotypenumbers\":\"strict\",\"coloraxis\":{\"colorbar\":{\"outlinewidth\":0,\"ticks\":\"\"}},\"colorscale\":{\"diverging\":[[0,\"#8e0152\"],[0.1,\"#c51b7d\"],[0.2,\"#de77ae\"],[0.3,\"#f1b6da\"],[0.4,\"#fde0ef\"],[0.5,\"#f7f7f7\"],[0.6,\"#e6f5d0\"],[0.7,\"#b8e186\"],[0.8,\"#7fbc41\"],[0.9,\"#4d9221\"],[1,\"#276419\"]],\"sequential\":[[0.0,\"#0d0887\"],[0.1111111111111111,\"#46039f\"],[0.2222222222222222,\"#7201a8\"],[0.3333333333333333,\"#9c179e\"],[0.4444444444444444,\"#bd3786\"],[0.5555555555555556,\"#d8576b\"],[0.6666666666666666,\"#ed7953\"],[0.7777777777777778,\"#fb9f3a\"],[0.8888888888888888,\"#fdca26\"],[1.0,\"#f0f921\"]],\"sequentialminus\":[[0.0,\"#0d0887\"],[0.1111111111111111,\"#46039f\"],[0.2222222222222222,\"#7201a8\"],[0.3333333333333333,\"#9c179e\"],[0.4444444444444444,\"#bd3786\"],[0.5555555555555556,\"#d8576b\"],[0.6666666666666666,\"#ed7953\"],[0.7777777777777778,\"#fb9f3a\"],[0.8888888888888888,\"#fdca26\"],[1.0,\"#f0f921\"]]},\"colorway\":[\"#636efa\",\"#EF553B\",\"#00cc96\",\"#ab63fa\",\"#FFA15A\",\"#19d3f3\",\"#FF6692\",\"#B6E880\",\"#FF97FF\",\"#FECB52\"],\"font\":{\"color\":\"#2a3f5f\"},\"geo\":{\"bgcolor\":\"white\",\"lakecolor\":\"white\",\"landcolor\":\"#E5ECF6\",\"showlakes\":true,\"showland\":true,\"subunitcolor\":\"white\"},\"hoverlabel\":{\"align\":\"left\"},\"hovermode\":\"closest\",\"mapbox\":{\"style\":\"light\"},\"paper_bgcolor\":\"white\",\"plot_bgcolor\":\"#E5ECF6\",\"polar\":{\"angularaxis\":{\"gridcolor\":\"white\",\"linecolor\":\"white\",\"ticks\":\"\"},\"bgcolor\":\"#E5ECF6\",\"radialaxis\":{\"gridcolor\":\"white\",\"linecolor\":\"white\",\"ticks\":\"\"}},\"scene\":{\"xaxis\":{\"backgroundcolor\":\"#E5ECF6\",\"gridcolor\":\"white\",\"gridwidth\":2,\"linecolor\":\"white\",\"showbackground\":true,\"ticks\":\"\",\"zerolinecolor\":\"white\"},\"yaxis\":{\"backgroundcolor\":\"#E5ECF6\",\"gridcolor\":\"white\",\"gridwidth\":2,\"linecolor\":\"white\",\"showbackground\":true,\"ticks\":\"\",\"zerolinecolor\":\"white\"},\"zaxis\":{\"backgroundcolor\":\"#E5ECF6\",\"gridcolor\":\"white\",\"gridwidth\":2,\"linecolor\":\"white\",\"showbackground\":true,\"ticks\":\"\",\"zerolinecolor\":\"white\"}},\"shapedefaults\":{\"line\":{\"color\":\"#2a3f5f\"}},\"ternary\":{\"aaxis\":{\"gridcolor\":\"white\",\"linecolor\":\"white\",\"ticks\":\"\"},\"baxis\":{\"gridcolor\":\"white\",\"linecolor\":\"white\",\"ticks\":\"\"},\"bgcolor\":\"#E5ECF6\",\"caxis\":{\"gridcolor\":\"white\",\"linecolor\":\"white\",\"ticks\":\"\"}},\"title\":{\"x\":0.05},\"xaxis\":{\"automargin\":true,\"gridcolor\":\"white\",\"linecolor\":\"white\",\"ticks\":\"\",\"title\":{\"standoff\":15},\"zerolinecolor\":\"white\",\"zerolinewidth\":2},\"yaxis\":{\"automargin\":true,\"gridcolor\":\"white\",\"linecolor\":\"white\",\"ticks\":\"\",\"title\":{\"standoff\":15},\"zerolinecolor\":\"white\",\"zerolinewidth\":2}}},\"xaxis\":{\"anchor\":\"y\",\"categoryorder\":\"total descending\",\"domain\":[0.0,1.0],\"title\":{\"text\":\"Language\"}},\"yaxis\":{\"anchor\":\"x\",\"domain\":[0.0,1.0],\"title\":{\"text\":\"Count\"}}},                        {\"responsive\": true}                    ).then(function(){\n",
       "                            \n",
       "var gd = document.getElementById('fabcc048-019c-4252-b810-3aa40fef5403');\n",
       "var x = new MutationObserver(function (mutations, observer) {{\n",
       "        var display = window.getComputedStyle(gd).display;\n",
       "        if (!display || display === 'none') {{\n",
       "            console.log([gd, 'removed!']);\n",
       "            Plotly.purge(gd);\n",
       "            observer.disconnect();\n",
       "        }}\n",
       "}});\n",
       "\n",
       "// Listen for the removal of the full notebook cells\n",
       "var notebookContainer = gd.closest('#notebook-container');\n",
       "if (notebookContainer) {{\n",
       "    x.observe(notebookContainer, {childList: true});\n",
       "}}\n",
       "\n",
       "// Listen for the clearing of the current output cell\n",
       "var outputEl = gd.closest('.output');\n",
       "if (outputEl) {{\n",
       "    x.observe(outputEl, {childList: true});\n",
       "}}\n",
       "\n",
       "                        })                };                });            </script>        </div>"
      ]
     },
     "metadata": {},
     "output_type": "display_data"
    }
   ],
   "source": [
    "fig = px.bar(top_10_languages_used, x= top_10_languages_used.index, y=top_10_languages_used.values, labels={'y':'Count', 'index':'Language'})\n",
    "fig.update_layout(xaxis={'categoryorder':'total descending'})\n",
    "fig.show()"
   ]
  },
  {
   "cell_type": "markdown",
   "id": "a300c8e2",
   "metadata": {
    "papermill": {
     "duration": 0.055172,
     "end_time": "2021-07-21T09:07:25.649955",
     "exception": false,
     "start_time": "2021-07-21T09:07:25.594783",
     "status": "completed"
    },
    "tags": []
   },
   "source": [
    "- English is the most used language in the programs, Hindi and Spanish follows it."
   ]
  },
  {
   "cell_type": "markdown",
   "id": "45007210",
   "metadata": {
    "papermill": {
     "duration": 0.054418,
     "end_time": "2021-07-21T09:07:25.759920",
     "exception": false,
     "start_time": "2021-07-21T09:07:25.705502",
     "status": "completed"
    },
    "tags": []
   },
   "source": [
    "#### **Runtime**"
   ]
  },
  {
   "cell_type": "code",
   "execution_count": 16,
   "id": "81f0e291",
   "metadata": {
    "_kg_hide-input": true,
    "execution": {
     "iopub.execute_input": "2021-07-21T09:07:25.882289Z",
     "iopub.status.busy": "2021-07-21T09:07:25.881465Z",
     "iopub.status.idle": "2021-07-21T09:07:25.891309Z",
     "shell.execute_reply": "2021-07-21T09:07:25.890725Z",
     "shell.execute_reply.started": "2021-07-13T16:37:54.700996Z"
    },
    "papermill": {
     "duration": 0.071552,
     "end_time": "2021-07-21T09:07:25.891466",
     "exception": false,
     "start_time": "2021-07-21T09:07:25.819914",
     "status": "completed"
    },
    "tags": []
   },
   "outputs": [
    {
     "data": {
      "text/plain": [
       "count    584.000000\n",
       "mean      93.577055\n",
       "std       27.761683\n",
       "min        4.000000\n",
       "25%       86.000000\n",
       "50%       97.000000\n",
       "75%      108.000000\n",
       "max      209.000000\n",
       "Name: Runtime, dtype: float64"
      ]
     },
     "execution_count": 16,
     "metadata": {},
     "output_type": "execute_result"
    }
   ],
   "source": [
    "df['Runtime'].describe()"
   ]
  },
  {
   "cell_type": "markdown",
   "id": "ca1c2274",
   "metadata": {
    "papermill": {
     "duration": 0.059795,
     "end_time": "2021-07-21T09:07:26.011884",
     "exception": false,
     "start_time": "2021-07-21T09:07:25.952089",
     "status": "completed"
    },
    "tags": []
   },
   "source": [
    "- We have at around 93-97 minutes runtime for the programs in Netflix.\n",
    "- Based on the given descriptive info, we can expect outliers from both the maximum side and the minimum side. \n",
    "- Since mean score is lower than median score; we can expect left skewed distribution and  we will see more runtime values on the minimum side."
   ]
  },
  {
   "cell_type": "code",
   "execution_count": 17,
   "id": "8faa77e0",
   "metadata": {
    "_kg_hide-input": true,
    "execution": {
     "iopub.execute_input": "2021-07-21T09:07:26.137154Z",
     "iopub.status.busy": "2021-07-21T09:07:26.136248Z",
     "iopub.status.idle": "2021-07-21T09:07:26.220633Z",
     "shell.execute_reply": "2021-07-21T09:07:26.220102Z",
     "shell.execute_reply.started": "2021-07-13T16:37:54.715663Z"
    },
    "papermill": {
     "duration": 0.15347,
     "end_time": "2021-07-21T09:07:26.220777",
     "exception": false,
     "start_time": "2021-07-21T09:07:26.067307",
     "status": "completed"
    },
    "tags": []
   },
   "outputs": [
    {
     "data": {
      "text/html": [
       "<div>                            <div id=\"53cdffca-ee92-4dbf-984e-2844e0836768\" class=\"plotly-graph-div\" style=\"height:525px; width:100%;\"></div>            <script type=\"text/javascript\">                require([\"plotly\"], function(Plotly) {                    window.PLOTLYENV=window.PLOTLYENV || {};                                    if (document.getElementById(\"53cdffca-ee92-4dbf-984e-2844e0836768\")) {                    Plotly.newPlot(                        \"53cdffca-ee92-4dbf-984e-2844e0836768\",                        [{\"alignmentgroup\":\"True\",\"bingroup\":\"x\",\"hovertemplate\":\"Runtime=%{x}<br>count=%{y}<extra></extra>\",\"legendgroup\":\"\",\"marker\":{\"color\":\"#636efa\",\"pattern\":{\"shape\":\"\"}},\"name\":\"\",\"offsetgroup\":\"\",\"orientation\":\"v\",\"showlegend\":false,\"type\":\"histogram\",\"x\":[58,81,79,94,90,147,112,149,73,139,58,112,97,101,90,25,144,115,102,100,64,97,99,120,105,89,97,107,99,95,37,89,83,46,85,88,86,105,95,80,4,93,100,106,97,106,103,80,101,119,80,89,94,93,96,113,86,100,102,86,104,88,97,105,90,99,10,106,98,94,112,117,70,81,103,94,98,131,87,60,112,102,99,116,92,83,97,112,116,102,121,95,93,92,98,85,78,120,92,101,119,101,112,96,114,97,101,56,100,94,94,21,104,63,100,126,106,86,142,108,102,92,83,94,92,103,89,95,103,97,125,91,90,49,98,107,118,94,103,86,83,97,99,104,102,89,98,125,89,94,94,85,34,86,91,108,95,100,90,112,86,124,107,92,121,90,104,92,114,98,95,78,107,92,95,96,118,105,94,52,105,95,100,97,89,102,96,131,89,93,111,75,120,96,148,94,107,32,104,23,111,83,53,95,132,98,108,106,104,90,106,90,97,113,123,115,105,101,102,122,128,82,102,80,94,123,104,85,84,103,95,100,89,116,118,96,114,99,87,92,90,95,96,93,42,92,106,151,101,114,90,115,92,72,139,98,92,111,98,104,95,88,102,30,99,129,87,117,104,111,107,97,98,90,101,72,83,118,44,113,86,108,85,102,151,98,87,120,134,109,85,103,94,97,88,37,112,102,100,96,113,16,119,97,81,98,95,96,107,41,87,101,97,103,90,125,116,99,82,97,28,108,93,74,60,9,21,100,155,55,123,103,93,119,40,120,98,104,91,95,101,105,83,91,83,17,86,124,94,102,118,79,134,126,98,89,58,83,136,98,114,99,130,32,104,142,92,86,106,95,91,89,117,90,117,80,87,101,19,106,54,111,132,97,106,111,124,116,112,144,76,101,92,19,39,102,89,105,101,70,96,85,39,79,73,114,121,28,95,122,23,107,98,108,92,100,97,7,96,100,132,103,121,114,57,95,83,17,105,131,30,112,86,100,14,109,28,64,94,31,99,108,48,84,70,27,45,117,104,108,121,36,30,47,110,92,80,49,73,40,96,106,97,94,78,81,87,91,91,95,126,31,58,41,138,112,114,125,99,82,98,136,97,107,92,39,133,89,124,99,101,97,124,129,121,140,13,108,11,118,121,24,100,101,105,96,47,121,100,149,64,64,114,15,79,90,132,105,97,83,110,39,40,85,26,87,97,118,23,40,98,80,108,79,74,90,137,71,98,70,99,40,104,149,124,144,85,100,94,125,84,117,15,136,76,108,94,90,72,135,12,209,130,82,120,136,112,105,89,85,106,100,107,97,89,109,114,51,85,125,91,153,89,83],\"xaxis\":\"x\",\"yaxis\":\"y\"}],                        {\"barmode\":\"relative\",\"legend\":{\"tracegroupgap\":0},\"template\":{\"data\":{\"bar\":[{\"error_x\":{\"color\":\"#2a3f5f\"},\"error_y\":{\"color\":\"#2a3f5f\"},\"marker\":{\"line\":{\"color\":\"#E5ECF6\",\"width\":0.5},\"pattern\":{\"fillmode\":\"overlay\",\"size\":10,\"solidity\":0.2}},\"type\":\"bar\"}],\"barpolar\":[{\"marker\":{\"line\":{\"color\":\"#E5ECF6\",\"width\":0.5},\"pattern\":{\"fillmode\":\"overlay\",\"size\":10,\"solidity\":0.2}},\"type\":\"barpolar\"}],\"carpet\":[{\"aaxis\":{\"endlinecolor\":\"#2a3f5f\",\"gridcolor\":\"white\",\"linecolor\":\"white\",\"minorgridcolor\":\"white\",\"startlinecolor\":\"#2a3f5f\"},\"baxis\":{\"endlinecolor\":\"#2a3f5f\",\"gridcolor\":\"white\",\"linecolor\":\"white\",\"minorgridcolor\":\"white\",\"startlinecolor\":\"#2a3f5f\"},\"type\":\"carpet\"}],\"choropleth\":[{\"colorbar\":{\"outlinewidth\":0,\"ticks\":\"\"},\"type\":\"choropleth\"}],\"contour\":[{\"colorbar\":{\"outlinewidth\":0,\"ticks\":\"\"},\"colorscale\":[[0.0,\"#0d0887\"],[0.1111111111111111,\"#46039f\"],[0.2222222222222222,\"#7201a8\"],[0.3333333333333333,\"#9c179e\"],[0.4444444444444444,\"#bd3786\"],[0.5555555555555556,\"#d8576b\"],[0.6666666666666666,\"#ed7953\"],[0.7777777777777778,\"#fb9f3a\"],[0.8888888888888888,\"#fdca26\"],[1.0,\"#f0f921\"]],\"type\":\"contour\"}],\"contourcarpet\":[{\"colorbar\":{\"outlinewidth\":0,\"ticks\":\"\"},\"type\":\"contourcarpet\"}],\"heatmap\":[{\"colorbar\":{\"outlinewidth\":0,\"ticks\":\"\"},\"colorscale\":[[0.0,\"#0d0887\"],[0.1111111111111111,\"#46039f\"],[0.2222222222222222,\"#7201a8\"],[0.3333333333333333,\"#9c179e\"],[0.4444444444444444,\"#bd3786\"],[0.5555555555555556,\"#d8576b\"],[0.6666666666666666,\"#ed7953\"],[0.7777777777777778,\"#fb9f3a\"],[0.8888888888888888,\"#fdca26\"],[1.0,\"#f0f921\"]],\"type\":\"heatmap\"}],\"heatmapgl\":[{\"colorbar\":{\"outlinewidth\":0,\"ticks\":\"\"},\"colorscale\":[[0.0,\"#0d0887\"],[0.1111111111111111,\"#46039f\"],[0.2222222222222222,\"#7201a8\"],[0.3333333333333333,\"#9c179e\"],[0.4444444444444444,\"#bd3786\"],[0.5555555555555556,\"#d8576b\"],[0.6666666666666666,\"#ed7953\"],[0.7777777777777778,\"#fb9f3a\"],[0.8888888888888888,\"#fdca26\"],[1.0,\"#f0f921\"]],\"type\":\"heatmapgl\"}],\"histogram\":[{\"marker\":{\"pattern\":{\"fillmode\":\"overlay\",\"size\":10,\"solidity\":0.2}},\"type\":\"histogram\"}],\"histogram2d\":[{\"colorbar\":{\"outlinewidth\":0,\"ticks\":\"\"},\"colorscale\":[[0.0,\"#0d0887\"],[0.1111111111111111,\"#46039f\"],[0.2222222222222222,\"#7201a8\"],[0.3333333333333333,\"#9c179e\"],[0.4444444444444444,\"#bd3786\"],[0.5555555555555556,\"#d8576b\"],[0.6666666666666666,\"#ed7953\"],[0.7777777777777778,\"#fb9f3a\"],[0.8888888888888888,\"#fdca26\"],[1.0,\"#f0f921\"]],\"type\":\"histogram2d\"}],\"histogram2dcontour\":[{\"colorbar\":{\"outlinewidth\":0,\"ticks\":\"\"},\"colorscale\":[[0.0,\"#0d0887\"],[0.1111111111111111,\"#46039f\"],[0.2222222222222222,\"#7201a8\"],[0.3333333333333333,\"#9c179e\"],[0.4444444444444444,\"#bd3786\"],[0.5555555555555556,\"#d8576b\"],[0.6666666666666666,\"#ed7953\"],[0.7777777777777778,\"#fb9f3a\"],[0.8888888888888888,\"#fdca26\"],[1.0,\"#f0f921\"]],\"type\":\"histogram2dcontour\"}],\"mesh3d\":[{\"colorbar\":{\"outlinewidth\":0,\"ticks\":\"\"},\"type\":\"mesh3d\"}],\"parcoords\":[{\"line\":{\"colorbar\":{\"outlinewidth\":0,\"ticks\":\"\"}},\"type\":\"parcoords\"}],\"pie\":[{\"automargin\":true,\"type\":\"pie\"}],\"scatter\":[{\"marker\":{\"colorbar\":{\"outlinewidth\":0,\"ticks\":\"\"}},\"type\":\"scatter\"}],\"scatter3d\":[{\"line\":{\"colorbar\":{\"outlinewidth\":0,\"ticks\":\"\"}},\"marker\":{\"colorbar\":{\"outlinewidth\":0,\"ticks\":\"\"}},\"type\":\"scatter3d\"}],\"scattercarpet\":[{\"marker\":{\"colorbar\":{\"outlinewidth\":0,\"ticks\":\"\"}},\"type\":\"scattercarpet\"}],\"scattergeo\":[{\"marker\":{\"colorbar\":{\"outlinewidth\":0,\"ticks\":\"\"}},\"type\":\"scattergeo\"}],\"scattergl\":[{\"marker\":{\"colorbar\":{\"outlinewidth\":0,\"ticks\":\"\"}},\"type\":\"scattergl\"}],\"scattermapbox\":[{\"marker\":{\"colorbar\":{\"outlinewidth\":0,\"ticks\":\"\"}},\"type\":\"scattermapbox\"}],\"scatterpolar\":[{\"marker\":{\"colorbar\":{\"outlinewidth\":0,\"ticks\":\"\"}},\"type\":\"scatterpolar\"}],\"scatterpolargl\":[{\"marker\":{\"colorbar\":{\"outlinewidth\":0,\"ticks\":\"\"}},\"type\":\"scatterpolargl\"}],\"scatterternary\":[{\"marker\":{\"colorbar\":{\"outlinewidth\":0,\"ticks\":\"\"}},\"type\":\"scatterternary\"}],\"surface\":[{\"colorbar\":{\"outlinewidth\":0,\"ticks\":\"\"},\"colorscale\":[[0.0,\"#0d0887\"],[0.1111111111111111,\"#46039f\"],[0.2222222222222222,\"#7201a8\"],[0.3333333333333333,\"#9c179e\"],[0.4444444444444444,\"#bd3786\"],[0.5555555555555556,\"#d8576b\"],[0.6666666666666666,\"#ed7953\"],[0.7777777777777778,\"#fb9f3a\"],[0.8888888888888888,\"#fdca26\"],[1.0,\"#f0f921\"]],\"type\":\"surface\"}],\"table\":[{\"cells\":{\"fill\":{\"color\":\"#EBF0F8\"},\"line\":{\"color\":\"white\"}},\"header\":{\"fill\":{\"color\":\"#C8D4E3\"},\"line\":{\"color\":\"white\"}},\"type\":\"table\"}]},\"layout\":{\"annotationdefaults\":{\"arrowcolor\":\"#2a3f5f\",\"arrowhead\":0,\"arrowwidth\":1},\"autotypenumbers\":\"strict\",\"coloraxis\":{\"colorbar\":{\"outlinewidth\":0,\"ticks\":\"\"}},\"colorscale\":{\"diverging\":[[0,\"#8e0152\"],[0.1,\"#c51b7d\"],[0.2,\"#de77ae\"],[0.3,\"#f1b6da\"],[0.4,\"#fde0ef\"],[0.5,\"#f7f7f7\"],[0.6,\"#e6f5d0\"],[0.7,\"#b8e186\"],[0.8,\"#7fbc41\"],[0.9,\"#4d9221\"],[1,\"#276419\"]],\"sequential\":[[0.0,\"#0d0887\"],[0.1111111111111111,\"#46039f\"],[0.2222222222222222,\"#7201a8\"],[0.3333333333333333,\"#9c179e\"],[0.4444444444444444,\"#bd3786\"],[0.5555555555555556,\"#d8576b\"],[0.6666666666666666,\"#ed7953\"],[0.7777777777777778,\"#fb9f3a\"],[0.8888888888888888,\"#fdca26\"],[1.0,\"#f0f921\"]],\"sequentialminus\":[[0.0,\"#0d0887\"],[0.1111111111111111,\"#46039f\"],[0.2222222222222222,\"#7201a8\"],[0.3333333333333333,\"#9c179e\"],[0.4444444444444444,\"#bd3786\"],[0.5555555555555556,\"#d8576b\"],[0.6666666666666666,\"#ed7953\"],[0.7777777777777778,\"#fb9f3a\"],[0.8888888888888888,\"#fdca26\"],[1.0,\"#f0f921\"]]},\"colorway\":[\"#636efa\",\"#EF553B\",\"#00cc96\",\"#ab63fa\",\"#FFA15A\",\"#19d3f3\",\"#FF6692\",\"#B6E880\",\"#FF97FF\",\"#FECB52\"],\"font\":{\"color\":\"#2a3f5f\"},\"geo\":{\"bgcolor\":\"white\",\"lakecolor\":\"white\",\"landcolor\":\"#E5ECF6\",\"showlakes\":true,\"showland\":true,\"subunitcolor\":\"white\"},\"hoverlabel\":{\"align\":\"left\"},\"hovermode\":\"closest\",\"mapbox\":{\"style\":\"light\"},\"paper_bgcolor\":\"white\",\"plot_bgcolor\":\"#E5ECF6\",\"polar\":{\"angularaxis\":{\"gridcolor\":\"white\",\"linecolor\":\"white\",\"ticks\":\"\"},\"bgcolor\":\"#E5ECF6\",\"radialaxis\":{\"gridcolor\":\"white\",\"linecolor\":\"white\",\"ticks\":\"\"}},\"scene\":{\"xaxis\":{\"backgroundcolor\":\"#E5ECF6\",\"gridcolor\":\"white\",\"gridwidth\":2,\"linecolor\":\"white\",\"showbackground\":true,\"ticks\":\"\",\"zerolinecolor\":\"white\"},\"yaxis\":{\"backgroundcolor\":\"#E5ECF6\",\"gridcolor\":\"white\",\"gridwidth\":2,\"linecolor\":\"white\",\"showbackground\":true,\"ticks\":\"\",\"zerolinecolor\":\"white\"},\"zaxis\":{\"backgroundcolor\":\"#E5ECF6\",\"gridcolor\":\"white\",\"gridwidth\":2,\"linecolor\":\"white\",\"showbackground\":true,\"ticks\":\"\",\"zerolinecolor\":\"white\"}},\"shapedefaults\":{\"line\":{\"color\":\"#2a3f5f\"}},\"ternary\":{\"aaxis\":{\"gridcolor\":\"white\",\"linecolor\":\"white\",\"ticks\":\"\"},\"baxis\":{\"gridcolor\":\"white\",\"linecolor\":\"white\",\"ticks\":\"\"},\"bgcolor\":\"#E5ECF6\",\"caxis\":{\"gridcolor\":\"white\",\"linecolor\":\"white\",\"ticks\":\"\"}},\"title\":{\"x\":0.05},\"xaxis\":{\"automargin\":true,\"gridcolor\":\"white\",\"linecolor\":\"white\",\"ticks\":\"\",\"title\":{\"standoff\":15},\"zerolinecolor\":\"white\",\"zerolinewidth\":2},\"yaxis\":{\"automargin\":true,\"gridcolor\":\"white\",\"linecolor\":\"white\",\"ticks\":\"\",\"title\":{\"standoff\":15},\"zerolinecolor\":\"white\",\"zerolinewidth\":2}}},\"title\":{\"text\":\"Runtime of the Programs in Netflix\"},\"xaxis\":{\"anchor\":\"y\",\"domain\":[0.0,1.0],\"title\":{\"text\":\"Runtime\"}},\"yaxis\":{\"anchor\":\"x\",\"domain\":[0.0,1.0],\"title\":{\"text\":\"count\"}}},                        {\"responsive\": true}                    ).then(function(){\n",
       "                            \n",
       "var gd = document.getElementById('53cdffca-ee92-4dbf-984e-2844e0836768');\n",
       "var x = new MutationObserver(function (mutations, observer) {{\n",
       "        var display = window.getComputedStyle(gd).display;\n",
       "        if (!display || display === 'none') {{\n",
       "            console.log([gd, 'removed!']);\n",
       "            Plotly.purge(gd);\n",
       "            observer.disconnect();\n",
       "        }}\n",
       "}});\n",
       "\n",
       "// Listen for the removal of the full notebook cells\n",
       "var notebookContainer = gd.closest('#notebook-container');\n",
       "if (notebookContainer) {{\n",
       "    x.observe(notebookContainer, {childList: true});\n",
       "}}\n",
       "\n",
       "// Listen for the clearing of the current output cell\n",
       "var outputEl = gd.closest('.output');\n",
       "if (outputEl) {{\n",
       "    x.observe(outputEl, {childList: true});\n",
       "}}\n",
       "\n",
       "                        })                };                });            </script>        </div>"
      ]
     },
     "metadata": {},
     "output_type": "display_data"
    }
   ],
   "source": [
    "fig = px.histogram(df, x= 'Runtime', title='Runtime of the Programs in Netflix')\n",
    "\n",
    "fig.show()"
   ]
  },
  {
   "cell_type": "code",
   "execution_count": 18,
   "id": "fd9c43c4",
   "metadata": {
    "_kg_hide-input": true,
    "execution": {
     "iopub.execute_input": "2021-07-21T09:07:26.340528Z",
     "iopub.status.busy": "2021-07-21T09:07:26.339489Z",
     "iopub.status.idle": "2021-07-21T09:07:26.457118Z",
     "shell.execute_reply": "2021-07-21T09:07:26.456378Z",
     "shell.execute_reply.started": "2021-07-13T16:37:54.808111Z"
    },
    "papermill": {
     "duration": 0.179865,
     "end_time": "2021-07-21T09:07:26.457277",
     "exception": false,
     "start_time": "2021-07-21T09:07:26.277412",
     "status": "completed"
    },
    "tags": []
   },
   "outputs": [
    {
     "data": {
      "text/html": [
       "<div>                            <div id=\"64a646ba-0a7d-4dfc-b14c-e1ff43165299\" class=\"plotly-graph-div\" style=\"height:525px; width:100%;\"></div>            <script type=\"text/javascript\">                require([\"plotly\"], function(Plotly) {                    window.PLOTLYENV=window.PLOTLYENV || {};                                    if (document.getElementById(\"64a646ba-0a7d-4dfc-b14c-e1ff43165299\")) {                    Plotly.newPlot(                        \"64a646ba-0a7d-4dfc-b14c-e1ff43165299\",                        [{\"alignmentgroup\":\"True\",\"customdata\":[[\"Enter the Anime\",\"Documentary\"],[\"Dark Forces\",\"Thriller\"],[\"The App\",\"Science fiction/Drama\"],[\"The Open House\",\"Horror thriller\"],[\"Kaali Khuhi\",\"Mystery\"],[\"Drive\",\"Action\"],[\"Leyla Everlasting\",\"Comedy\"],[\"The Last Days of American Crime\",\"Heist film/Thriller\"],[\"Paradox\",\"Musical/Western/Fantasy\"],[\"Sardar Ka Grandson\",\"Comedy\"],[\"Searching for Sheela\",\"Documentary\"],[\"The Call\",\"Drama\"],[\"Whipped\",\"Romantic comedy\"],[\"All Because of You\",\"Action comedy\"],[\"Mercy\",\"Thriller\"],[\"After the Raid\",\"Documentary\"],[\"Ghost Stories\",\"Horror anthology\"],[\"The Last Thing He Wanted\",\"Political thriller\"],[\"What Happened to Mr. Cha?\",\"Comedy\"],[\"Death Note\",\"Horror thriller\"],[\"Hello Privilege. It's Me, Chelsea\",\"Documentary\"],[\"Secret Obsession\",\"Thriller\"],[\"Sextuplets\",\"Comedy\"],[\"The Girl on the Train\",\"Thriller\"],[\"Thunder Force\",\"Superhero-Comedy\"],[\"Fatal Affair\",\"Thriller\"],[\"Just Say Yes\",\"Romantic comedy\"],[\"Seriously Single\",\"Comedy\"],[\"The Misadventures of Hedi and Cokeman\",\"Comedy\"],[\"5 Star Christmas\",\"Comedy\"],[\"After Maria\",\"Documentary\"],[\"I Am the Pretty Thing That Lives in the House\",\"Horror\"],[\"Paris Is Us\",\"Romance drama\"],[\"Porta dos Fundos: The First Temptation of Christ\",\"Comedy\"],[\"Rattlesnake\",\"Horror\"],[\"The Players\",\"Comedy\"],[\"We Are One\",\"Documentary\"],[\"Finding Agnes\",\"Drama\"],[\"IO\",\"Science fiction/Drama\"],[\"Sentinelle\",\"Action\"],[\"Sol Levante\",\"Anime / Short\"],[\"The Binding\",\"Drama\"],[\"We Can Be Heroes\",\"Superhero\"],[\"Christmas Crossfire\",\"Thriller\"],[\"Coin Heist\",\"Heist\"],[\"Mrs. Serial Killer\",\"Thriller\"],[\"Nobody Sleeps in the Woods Tonight\",\"Horror\"],[\"Take the 10\",\"Comedy\"],[\"The Main Event\",\"Comedy\"],[\"The Ridiculous 6\",\"Western\"],[\"Earth and Blood\",\"Action\"],[\"Fearless\",\"Animation/Superhero\"],[\"Holiday Rush\",\"Family film\"],[\"The Day of the Lord\",\"Drama\"],[\"Airplane Mode\",\"Comedy\"],[\"How It Ends\",\"Action-thriller\"],[\"Love Like the Falling Rain\",\"Drama\"],[\"Rebirth\",\"Thriller\"],[\"Squared Love\",\"Romantic comedy\"],[\"Cadaver\",\"Horror\"],[\"Clinical\",\"Thriller\"],[\"Coffee & Kareem\",\"Action comedy\"],[\"Dude\",\"Teen comedy-drama\"],[\"Geez & Ann\",\"Romantic drama\"],[\"The Larva Island Movie\",\"Animation\"],[\"#REALITYHIGH\",\"Comedy\"],[\"American Factory: A Conversation with the Obamas \",\"Aftershow / Interview\"],[\"Desperados\",\"Romantic comedy\"],[\"Dolly Parton's Christmas on the Square\",\"Christmas musical\"],[\"Father of the Year\",\"Comedy\"],[\"Firebrand\",\"Drama\"],[\"Ghost Lab\",\"Horror\"],[\"Girlfriend's Day\",\"Comedy\"],[\"Handsome: A Netflix Mystery Movie\",\"Comedy\"],[\"Hubie Halloween\",\"Comedy\"],[\"Ibiza\",\"Comedy\"],[\"Rim of the World\",\"Science fiction adventure\"],[\"Sandy Wexler\",\"Comedy\"],[\"See You Yesterday\",\"Science fiction\"],[\"Still Laugh-In: The Stars Celebrate\",\"Variety show\"],[\"Strip Down, Rise Up\",\"Documentary\"],[\"Tall Girl\",\"Comedy-drama\"],[\"The Beast\",\"Drama\"],[\"The Week Of\",\"Comedy\"],[\"A Christmas Prince: The Royal Wedding\",\"Romantic comedy\"],[\"Back to School\",\"Comedy\"],[\"Dangerous Lies\",\"Thriller\"],[\"Gunjan Saxena: The Kargil Girl\",\"Drama\"],[\"Intuition\",\"Thriller\"],[\"The Most Assassinated Woman in the World\",\"Thriller\"],[\"Things Heard & Seen\",\"Horror\"],[\"To Each, Her Own\",\"Romantic comedy\"],[\"Who Would You Take to a Deserted Island?\",\"Drama\"],[\"XOXO\",\"Drama\"],[\"A Babysitter's Guide to Monster Hunting\",\"Comedy/Fantasy/Family\"],[\"A Christmas Prince: The Royal Baby\",\"Romantic comedy\"],[\"Despite Everything\",\"Comedy\"],[\"Dolly Kitty and Those Twinkling Stars\",\"Drama\"],[\"Freaks: You're One of Us\",\"Supernatural drama\"],[\"Game Over, Man!\",\"Action/Comedy\"],[\"Guilty\",\"Thriller\"],[\"In the Tall Grass\",\"Horror\"],[\"Madame Claude\",\"Drama\"],[\"Naked\",\"Comedy\"],[\"Outside the Wire\",\"Action/Science fiction\"],[\"The Princess Switch: Switched Again\",\"Romantic comedy\"],[\"Under the Riccione Sun\",\"Romantic teenage drama\"],[\"A Very Murray Christmas\",\"Comedy / Musical\"],[\"Been So Long\",\"Musical\"],[\"Dead Kids\",\"Thriller\"],[\"Get the Grift\",\"Comedy\"],[\"Ghosts of Sugar Land\",\"Documentary\"],[\"House Arrest\",\"Comedy\"],[\"Kevin Hart's Guide to Black History\",\"Variety show\"],[\"Love Wedding Repeat\",\"Romantic comedy\"],[\"Mute\",\"Science fiction/Mystery\"],[\"\\ufffdl\\ufffdt?r\\ufffd\",\"Crime drama\"],[\"Red Dot\",\"Thriller\"],[\"Ride or Die\",\"Psychological thriller drama\"],[\"Step Sisters\",\"Comedy\"],[\"The Cloverfield Paradox\",\"Science fiction\"],[\"The Knight Before Christmas\",\"Romantic comedy\"],[\"The Legacy of a Whitetail Deer Hunter\",\"Adventure/Comedy\"],[\"The Package\",\"Black comedy\"],[\"Unicorn Store\",\"Comedy\"],[\"Wine Country\",\"Comedy\"],[\"Bomb Scared\",\"Black comedy\"],[\"Brahman Naman\",\"Comedy\"],[\"Double Dad\",\"Comedy-drama\"],[\"Falling Inn Love\",\"Romantic comedy\"],[\"Hold the Dark\",\"Thriller\"],[\"Love, Guaranteed\",\"Romantic comedy\"],[\"One-Way to Tomorrow\",\"Romance\"],[\"Sarah Cooper: Everything's Fine\",\"Variety show\"],[\"The Last Laugh\",\"Comedy-drama\"],[\"The Last Paradiso\",\"Romantic drama\"],[\"The Midnight Sky\",\"Science fiction\"],[\"The Paramedic\",\"Thriller\"],[\"The Sleepover\",\"Comedy\"],[\"Vampires vs. the Bronx\",\"Horror comedy\"],[\"Why Did You Kill Me?\",\"Documentary\"],[\"A Week Away\",\"Christian musical\"],[\"Caught by a Wave\",\"Romantic teen drama\"],[\"Christmas Inheritance\",\"Romantic drama\"],[\"Dad Wanted\",\"Family\"],[\"El Camino Christmas\",\"Dark comedy\"],[\"Eli\",\"Horror\"],[\"Ginny Weds Sunny\",\"Romantic comedy\"],[\"Good Sam\",\"Drama\"],[\"Lionheart\",\"Comedy\"],[\"Little Evil\",\"Comedy horror\"],[\"One Take\",\"Documentary\"],[\"Out of Many, One\",\"Documentary\"],[\"Point Blank\",\"Action\"],[\"Prime Time\",\"Thriller\"],[\"The Do-Over\",\"Action comedy\"],[\"The Holiday Calendar\",\"Romantic comedy\"],[\"The Woman in the Window\",\"Psychological thriller\"],[\"The Wrong Missy\",\"Comedy\"],[\"Velvet Buzzsaw\",\"Thriller\"],[\"Yes Day\",\"Comedy\"],[\"15 August\",\"Comedy-drama\"],[\"A California Christmas\",\"Romantic comedy\"],[\"A Christmas Prince\",\"Romantic comedy\"],[\"All Day and a Night\",\"Drama\"],[\"American Son\",\"Drama\"],[\"Barry\",\"Biopic\"],[\"Candy Jar\",\"Comedy\"],[\"Choked: Paisa Bolta Hai\",\"Drama\"],[\"Class of '83\",\"Drama\"],[\"Extinction\",\"Science fiction/Thriller\"],[\"Happy Anniversary\",\"Romantic comedy\"],[\"I Am All Girls\",\"Thriller\"],[\"Let It Snow\",\"Romantic comedy\"],[\"Mascots\",\"Mockumentary\"],[\"Operation Christmas Drop\",\"Romantic comedy\"],[\"Rajma Chawal\",\"Comedy-drama\"],[\"Rich in Love\",\"Romantic comedy\"],[\"Rising High\",\"Satire\"],[\"Rodney King\",\"One-man show\"],[\"Sierra Burgess Is a Loser\",\"Romantic comedy-drama\"],[\"Small Crimes\",\"Dark comedy\"],[\"Special Correspondents\",\"Satire\"],[\"TAU\",\"Science fiction/Thriller\"],[\"The After Party\",\"Comedy\"],[\"The Babysitter: Killer Queen\",\"Comedy/Horror\"],[\"The Claus Family\",\"Fantasy\"],[\"The Kissing Booth 2\",\"Romantic comedy\"],[\"The Perfect Date\",\"Romantic comedy\"],[\"What We Wanted\",\"Drama\"],[\"You've Got This\",\"Romantic comedy\"],[\"6 Balloons\",\"Drama\"],[\"A Fall from Grace\",\"Thriller\"],[\"Amateur\",\"Sports-drama\"],[\"Army of the Dead\",\"Zombie/Heist\"],[\"Cam\",\"Psychological horror\"],[\"Earthquake Bird\",\"Mystery\"],[\"Frankenstein's Monster's Monster, Frankenstein\",\"Mockumentary\"],[\"Horse Girl\",\"Drama\"],[\"Notes from Dunblane: Lesson from a School Shooting\",\"Documentary\"],[\"Maska\",\"Romantic comedy\"],[\"The Decline\",\"Thriller\"],[\"The Minimalists: Less Is Now\",\"Documentary\"],[\"The Polka King\",\"Comedy-drama\"],[\"The Prom\",\"Musical\"],[\"True Memoirs of an International Assassin\",\"Action comedy\"],[\"Ultras\",\"Sports film\"],[\"Come Sunday\",\"Biopic\"],[\"Forgive Us Our Debts\",\"Drama\"],[\"iBoy\",\"Science fiction/Thriller\"],[\"Lovefucked\",\"Drama\"],[\"Juanita\",\"Drama\"],[\"Murder Mystery\",\"Comedy mystery\"],[\"Project Power\",\"Superhero\"],[\"Rebecca\",\"Romantic thriller\"],[\"The Christmas Chronicles: Part Two\",\"Christmas comedy\"],[\"The Kissing Booth\",\"Romantic comedy\"],[\"The Princess Switch\",\"Romantic comedy\"],[\"To All the Boys: P.S. I Still Love You\",\"Romantic comedy\"],[\"War Machine\",\"War-Comedy\"],[\"6 Underground\",\"Action\"],[\"Between Two Ferns: The Movie\",\"Comedy\"],[\"Burning Sands\",\"Drama\"],[\"Casting JonBenet\",\"Documentary\"],[\"Deidra & Laney Rob a Train\",\"Drama\"],[\"Finding 'Ohana\",\"Family\"],[\"Holidate\",\"Romantic comedy/Holiday\"],[\"Holiday in the Wild\",\"Adventure-romance\"],[\"Hot Girls Wanted\",\"Documentary\"],[\"Like Father\",\"Comedy\"],[\"Lost Girls\",\"Crime drama\"],[\"Otherhood\",\"Comedy\"],[\"Pee-wee's Big Holiday\",\"Adventure\"],[\"Rogue City\",\"Crime drama\"],[\"Sergio\",\"Biopic\"],[\"Stuck Apart\",\"Drama\"],[\"Tersanjung the Movie\",\"Drama\"],[\"The Killer\",\"Western\"],[\"The Lovebirds\",\"Romantic comedy\"],[\"The Most Hated Woman in America\",\"Biopic\"],[\"The Perfection\",\"Horror-thriller\"],[\"Tribhanga \\ufffd Tedhi Medhi Crazy\",\"Drama\"],[\"Unknown Origins\",\"Thriller\"],[\"Work It\",\"Dance comedy\"],[\"Alien Xmas\",\"Stop Motion\"],[\"Baggio: The Divine Ponytail\",\"Biopic\"],[\"Below Zero\",\"Drama\"],[\"Citation\",\"Drama\"],[\"Crazy Awesome Teachers\",\"Comedy-drama\"],[\"Have You Ever Seen Fireflies?\",\"Comedy\"],[\"High Flying Bird\",\"Sports-drama\"],[\"In the Shadow of the Moon\",\"Thriller\"],[\"Lost Bullet\",\"Thriller\"],[\"Octonauts & the Caves of Sac Actun\",\"Animation\"],[\"Offering to the Storm\",\"Thriller\"],[\"Roxanne Roxanne\",\"Biopic\"],[\"Someone Great\",\"Romantic comedy\"],[\"Spenser Confidential\",\"Action comedy\"],[\"The Land of Steady Habits\",\"Drama\"],[\"The Rachel Divide\",\"Documentary\"],[\"Voyuer \",\"Documentary\"],[\"Win It All\",\"Comedy\"],[\"1922\",\"Horror/Crime drama\"],[\"A Tale of Two Kitchens\",\"Documentary\"],[\"Alex Strangelove\",\"Romantic comedy\"],[\"Apostle\",\"Horror-thriller\"],[\"Benji\",\"Family film\"],[\"Bright\",\"Urban fantasy\"],[\"Cargo\",\"Drama/Horror\"],[\"Concrete Cowboy\",\"Drama\"],[\"Feel the Beat\",\"Family/Comedy-drama\"],[\"Get the Goat\",\"Comedy\"],[\"I Am Not an Easy Man\",\"Romantic comedy\"],[\"June & Kopi\",\"Drama\"],[\"Music Teacher\",\"Drama\"],[\"Nail Bomber: Manhunt\",\"Documentary\"],[\"Notes for My Son\",\"Drama\"],[\"Polar\",\"Action\"],[\"Porta dos Fundos: The Last Hangover\",\"Comedy\"],[\"Sand Castle\",\"War\"],[\"Shimmer Lake\",\"Crime thriller\"],[\"Spectral\",\"Science fiction/Action\"],[\"The Babysitter\",\"Teen comedy horror\"],[\"The Discovery\",\"Science fiction/Drama\"],[\"The Forest of Love\",\"Drama\"],[\"The Laundromat\",\"Comedy-drama\"],[\"The Legend of Cocaine Island\",\"Documentary\"],[\"The Outsider\",\"Crime drama\"],[\"Time to Hunt\",\"Thriller\"],[\"To All the Boys: Always and Forever\",\"Romantic comedy\"],[\"Travis Scott: Look Mom I Can Fly\",\"Documentary\"],[\"Uncorked\",\"Drama\"],[\"Anelka: Misunderstood\",\"Documentary\"],[\"Ariana Grande: Excuse Me, I Love You\",\"Concert Film\"],[\"ARQ\",\"Science fiction/Thriller\"],[\"Birders\",\"Documentary\"],[\"Como Ca\\ufffddo del Cielo\",\"Musical comedy\"],[\"First Match\",\"Sports-drama\"],[\"Fractured\",\"Thriller\"],[\"Irreplaceable You\",\"Drama\"],[\"Isi & Ossi\",\"Romantic comedy\"],[\"John Was Trying to Contact Aliens\",\"Documentary\"],[\"Layla Majnun\",\"Romantic drama\"],[\"Murder to Mercy: The Cyntoia Brown Story\",\"Documentary\"],[\"My Own Man\",\"Documentary\"],[\"Nappily Ever After\",\"Comedy-drama\"],[\"Over the Moon\",\"Animation/Musical/Adventure\"],[\"Street Flow\",\"Drama\"],[\"Strong Island\",\"Documentary\"],[\"Sturgill Simpson Presents: Sound & Fury\",\"Animation / Musicial\"],[\"Take Your Pills\",\"Documentary\"],[\"The Heartbreak Club\",\"Comedy-drama\"],[\"The Mars Generation\",\"Documentary\"],[\"The Occupant\",\"Thriller\"],[\"The Willoughbys\",\"Animation/Comedy/Adventure\"],[\"Triple Frontier\",\"Action-thriller\"],[\"Two Catalonias\",\"Documentary\"],[\"Walk. Ride. Rodeo.\",\"Drama\"],[\"Wheelman\",\"Action thriller\"],[\"When We First Met\",\"Romantic comedy\"],[\"A 3 Minute Hug\",\"Documentary\"],[\"All the Bright Places\",\"Romance\"],[\"All Together Now\",\"Drama\"],[\"Altered Carbon: Resleeved\",\"Anime/Science fiction\"],[\"Antoine Griezmann: The Making of a Legend\",\"Documentary\"],[\"Canvas \",\"Animation / Short\"],[\"Chadwick Boseman: Portrait of an Artist\",\"Documentary\"],[\"Chopsticks\",\"Comedy\"],[\"Da 5 Bloods\",\"War drama\"],[\"Dolly Parton: A MusiCares Tribute\",\"Documentary\"],[\"Eurovision Song Contest: The Story of Fire Saga\",\"Musical comedy\"],[\"Gerald's Game\",\"Horror thriller\"],[\"His House\",\"Thriller\"],[\"Jingle Jangle: A Christmas Journey\",\"Family/Christmas musical\"],[\"Life Overtakes Me\",\"Documentary\"],[\"Lust Stories\",\"Drama\"],[\"Monster\",\"Drama\"],[\"Mowgli: Legend of the Jungle\",\"Adventure\"],[\"Nobody Knows I'm Here\",\"Drama\"],[\"Nobody Speak: Trials of the Free Press\",\"Documentary\"],[\"Oxygen\",\"Science fiction thriller\"],[\"Set It Up\",\"Romantic comedy\"],[\"The Incredible Jessica James\",\"Comedy\"],[\"Tigertail\",\"Drama\"],[\"Tramps\",\"Romance\"],[\"What Did Jack Do?\",\"Drama / Short\"],[\"Bad Trip\",\"Hidden-camera prank comedy\"],[\"Bird Box\",\"Psychological thriller\"],[\"Bulbbul\",\"Horror\"],[\"Crazy About Her\",\"Romantic comedy\"],[\"Elisa & Marcela\",\"Romance\"],[\"I'll Sleep When I'm Dead\",\"Documentary\"],[\"I'm Thinking of Ending Things\",\"Psychological thriller\"],[\"It Takes a Lunatic\",\"Documentary\"],[\"Milestone\",\"Drama\"],[\"Recovery Boys\",\"Documentary\"],[\"ReMastered: Who Killed Jam Master Jay?\",\"Documentary\"],[\"Shawn Mendes: In Wonder\",\"Documentary\"],[\"Space Sweepers\",\"Science fiction\"],[\"The American Meme\",\"Documentary\"],[\"The Angel\",\"Spy thriller\"],[\"The Crimes That Bind\",\"Crime drama\"],[\"The Red Sea Diving Resort\",\"Spy thriller\"],[\"What Would Sophia Loren Do?\",\"Documentary\"],[\"A Whisker Away\",\"Anime/Fantasy\"],[\"Ajeeb Daastaans\",\"Drama\"],[\"Arlo the Alligator Boy\",\"Animated musical comedy\"],[\"Bikram: Yogi, Guru, Predator\",\"Documentary\"],[\"Blame!\",\"Anime/Science fiction\"],[\"Blue Miracle\",\"Drama\"],[\"CounterPunch \",\"Documentary\"],[\"Crack: Cocaine, Corruption & Conspiracy\",\"Documentary\"],[\"Extraction\",\"Action\"],[\"Giving Voice\",\"Documentary\"],[\"Hillbilly Elegy\",\"Drama\"],[\"Hope Frozen: A Quest to Live Twice\",\"Documentary\"],[\"Imperial Dreams\",\"Drama\"],[\"Just Another Christmas\",\"Comedy\"],[\"Little Miss Sumo\",\"Documentary\"],[\"Malcolm & Marie\",\"Romantic drama\"],[\"Michael Bolton's Big, Sexy, Valentine's Day Special\",\"Variety Show\"],[\"Moxie\",\"Drama\"],[\"Night in Paradise\",\"Drama\"],[\"Paper Lives\",\"Drama\"],[\"Parchis: The Documentary\",\"Documentary\"],[\"Tallulah\",\"Comedy-drama\"],[\"The Old Guard\",\"Superhero/Action\"],[\"Tony Robbins: I Am Not Your Guru\",\"Documentary\"],[\"Upstarts\",\"Drama\"],[\"22 July\",\"Drama\"],[\"7 a\\ufffdos\",\"Drama\"],[\"A Futile and Stupid Gesture\",\"Biographical/Comedy\"],[\"A Life of Speed: The Juan Manuel Fangio Story\",\"Documentary\"],[\"A Love Song for Latasha\",\"Documentary\"],[\"All in My Family\",\"Documentary\"],[\"Always Be My Maybe\",\"Romantic comedy\"],[\"Becoming\",\"Documentary\"],[\"Long Live Brij Mohan\",\"Comedy\"],[\"Calibre\",\"Thriller\"],[\"Death to 2020\",\"Comedy\"],[\"GIMS: On the Record\",\"Documentary\"],[\"Have a Good Trip: Adventures in Psychedelics\",\"Documentary\"],[\"Heroin(e) \",\"Documentary\"],[\"Mercury 13\",\"Documentary\"],[\"Saving Capitalism\",\"Documentary\"],[\"Serious Men\",\"Drama\"],[\"The Boys in the Band\",\"Drama\"],[\"The Boys in the Band: Something Personal\",\"Aftershow / Interview\"],[\"The Life Ahead\",\"Drama\"],[\"The Other Side of the Wind\",\"Drama\"],[\"The Trader\",\"Documentary\"],[\"To the Bone\",\"Drama\"],[\"Tony Parker: The Final Shot\",\"Documentary\"],[\"AK vs AK\",\"Thriller\"],[\"Amanda Knox\",\"Documentary\"],[\"Bigflo & Oil: Hip Hop Frenzy\",\"Documentary\"],[\"Biggie: I Got a Story to Tell\",\"Documentary\"],[\"Cops and Robbers\",\"Animation / Short\"],[\"I Don't Feel at Home in This World Anymore\",\"Drama\"],[\"Laerte-se\",\"Documentary\"],[\"Mank\",\"Biopic\"],[\"Our Souls at Night\",\"Romance\"],[\"Outlaw King\",\"Historical-epic\"],[\"Pagglait\",\"Comedy-drama\"],[\"ReMastered: Who Shot the Sheriff?\",\"Documentary\"],[\"Seeing Allred\",\"Documentary\"],[\"Spelling the Dream\",\"Documentary\"],[\"The Claudia Kishi Club\",\"Documentary\"],[\"The Half of It\",\"Romance\"],[\"The Highwaymen\",\"Crime drama\"],[\"The Lonely Island Presents: The Unauthorized Bash Brothers Experience\",\"Comedy / Musical\"],[\"The Meyerowitz Stories (New and Selected)\",\"Comedy-drama\"],[\"Feminists: What Were They Thinking?\",\"Documentary\"],[\"Gaga: Five Foot Two\",\"Documentary\"],[\"I'm No Longer Here: A Discussion with Guillermo del Toro and Alfonso Cuaron\",\"Aftershow / Interview\"],[\"Kingdom of Us\",\"Documentary\"],[\"Lorena, Light-Footed Woman\",\"Documentary\"],[\"Los Tigres del Norte at Folsom Prison\",\"Documentary\"],[\"Ma Rainey's Black Bottom\",\"Drama\"],[\"Ma Rainey's Black Bottom: A Legacy Brought to Screen\",\"Aftershow / Interview\"],[\"Operation Varsity Blues: The College Admissions Scandal\",\"Documentary\"],[\"Pele\",\"Documentary\"],[\"ReMastered: Devil at the Crossroads\",\"Documentary\"],[\"ReMastered: The Lion's Share\",\"Documentary\"],[\"ReMastered: The Miami Showband Massacre\",\"Documentary\"],[\"Resurface\",\"Documentary\"],[\"Rocko's Modern Life: Static Cling\",\"Animation / Comedy\"],[\"Rose Island\",\"Comedy\"],[\"The Christmas Chronicles\",\"Christmas/Fantasy/Adventure/Comedy\"],[\"The Dirt\",\"Biopic\"],[\"The Night Comes for Us\",\"Action-thriller\"],[\"13th: A Conversation with Oprah Winfrey & Ava DuVernay\",\"Aftershow / Interview\"],[\"Angela's Christmas\",\"Animation\"],[\"Angela's Christmas Wish\",\"Animation\"],[\"Beats\",\"Drama\"],[\"Circus of Books\",\"Documentary\"],[\"Dance Dreams: Hot Chocolate Nutcracker\",\"Documentary\"],[\"Derren Brown: Sacrifice\",\"Mentalism special\"],[\"El Pepe: A Supreme Life\",\"Documentary\"],[\"End Game\",\"Documentary\"],[\"Evelyn\",\"Documentary\"],[\"Ferry\",\"Crime drama\"],[\"Grass Is Greener\",\"Documentary\"],[\"Guillermo Vilas: Settling the Score\",\"Documentary\"],[\"Joshua: Teenager vs. Superpower\",\"Documentary\"],[\"Keith Richards: Under the Influence\",\"Documentary\"],[\"Knock Down the House\",\"Documentary\"],[\"Loudon Wainwright III: Surviving Twin\",\"One-man show\"],[\"My Beautiful Broken Brain\",\"Documentary\"],[\"One of Us\",\"Documentary\"],[\"Pieces of a Woman\",\"Drama\"],[\"Ram Dass, Going Home\",\"Documentary\"],[\"ReMastered: Tricky Dick & the Man in Black\",\"Documentary\"],[\"Rooting for Roona\",\"Documentary\"],[\"The Devil All the Time\",\"Psychological thriller\"],[\"The Dig\",\"Drama\"],[\"The Great Hack\",\"Documentary\"],[\"The White Tiger\",\"Drama\"],[\"To All the Boys I've Loved Before\",\"Romantic comedy\"],[\"American Murder: The Family Next Door\",\"Documentary\"],[\"Audrie & Daisy\",\"Documentary\"],[\"First They Killed My Father\",\"Drama\"],[\"Fyre: The Greatest Party That Never Happened\",\"Documentary\"],[\"Into the Inferno\",\"Documentary\"],[\"LA Originals\",\"Documentary\"],[\"Ladies First\",\"Documentary\"],[\"Love per Square Foot\",\"Romantic comedy\"],[\"Paddleton\",\"Drama-Comedy\"],[\"Private Life\",\"Drama\"],[\"Seventeen\",\"Coming-of-age comedy-drama\"],[\"Sometimes\",\"Drama\"],[\"Soni\",\"Crime drama\"],[\"The 40-Year-Old Version\",\"Comedy\"],[\"The Disciple\",\"Drama\"],[\"The Edge of Democracy\",\"Documentary\"],[\"The King\",\"Historical drama\"],[\"The Road to El Camino: A Breaking Bad Movie\",\"Making-of\"],[\"The Siege of Jadotville\",\"War\"],[\"Zion \",\"Documentary\"],[\"Dolemite Is My Name\",\"Biopic\"],[\"El Camino: A Breaking Bad Movie\",\"Crime drama\"],[\"Extremis\",\"Documentary\"],[\"Father Soldier Son\",\"Documentary\"],[\"Get Me Roger Stone\",\"Documentary\"],[\"I'm No Longer Here\",\"Drama\"],[\"Mucho Mucho Amor: The Legend of Walter Mercado \",\"Documentary\"],[\"Octonauts & the Great Barrier Reef\",\"Animation\"],[\"Okja\",\"Action-adventure\"],[\"On My Skin\",\"Crime drama\"],[\"Raat Akeli Hai\",\"Thriller\"],[\"ReMastered: Massacre at the Stadium\",\"Documentary\"],[\"ReMastered: The Two Killings of Sam Cooke\",\"Documentary\"],[\"Secrets of the Saqqara Tomb\",\"Documentary\"],[\"Sitara: Let Girls Dream\",\"Animation / Short\"],[\"Sky Ladder: The Art of Cai Guo-Qiang\",\"Documentary\"],[\"Team Foxcatcher\",\"Documentary\"],[\"The Ballad of Buster Scruggs\",\"Western\"],[\"The Death and Life of Marsha P. Johnson\",\"Documentary\"],[\"The Fundamentals of Caring\",\"Comedy-drama\"],[\"The Other One: The Long Strange Trip of Bob Weir\",\"Documentary\"],[\"American Factory\",\"Documentary\"],[\"Fire in Paradise\",\"Documentary\"],[\"Long Shot\",\"Documentary\"],[\"Miss Americana\",\"Documentary\"],[\"Period. End of Sentence.\",\"Documentary\"],[\"Shawn Mendes: Live in Concert\",\"Concert Film\"],[\"Shirkers\",\"Documentary\"],[\"The Black Godfather\",\"Documentary\"],[\"The Irishman: In Conversation\",\"Aftershow / Interview\"],[\"The Speed Cubers\",\"Documentary\"],[\"They'll Love Me When I'm Dead\",\"Documentary\"],[\"Tig\",\"Documentary\"],[\"Barbra: The Music, The Mem'ries, The Magic!\",\"Concert Film\"],[\"Blackpink: Light Up the Sky\",\"Documentary\"],[\"City of Joy\",\"Documentary\"],[\"Dick Johnson Is Dead\",\"Documentary\"],[\"Homecoming: A Film by Beyonce \",\"Documentary\"],[\"Invader Zim: Enter the Florpus\",\"Animation / Science Fiction\"],[\"Joan Didion: The Center Will Not Hold\",\"Documentary\"],[\"John Mulaney & the Sack Lunch Bunch\",\"Variety show\"],[\"Reversing Roe\",\"Documentary\"],[\"The White Helmets\",\"Documentary\"],[\"Athlete A\",\"Documentary\"],[\"Ludo\",\"Anthology/Dark comedy\"],[\"Quincy\",\"Documentary\"],[\"Rolling Thunder Revue: A bob Dylan Story by Martin Scorsere\",\"Documentary\"],[\"Tell Me Who I Am\",\"Documentary\"],[\"The Bleeding Edge\",\"Documentary\"],[\"The Social Dilemma\",\"Documentary\"],[\"The Two Popes\",\"Drama\"],[\"What Happened, Miss Simone?\",\"Documentary\"],[\"Yeh Ballet\",\"Drama\"],[\"Anima\",\"Musical / Short\"],[\"Beasts of No Nation\",\"War drama\"],[\"Brene Brown: The Call to Courage\",\"Documentary\"],[\"Crip Camp: A Disability Revolution\",\"Documentary\"],[\"Jim & Andy: The Great Beyond - Featuring a Very Special, Contractually Obligated Mention of Tony Cliffton \",\"Documentary\"],[\"Justin Timberlake + The Tennessee Kids\",\"Concert Film\"],[\"Road to Roma\",\"Making-of\"],[\"Roma\",\"Drama\"],[\"If Anything Happens I Love You\",\"Animation / Short\"],[\"The Irishman\",\"Crime drama\"],[\"The Trial of the Chicago 7\",\"Drama\"],[\"A Secret Love\",\"Documentary\"],[\"Icarus\",\"Documentary\"],[\"Marriage Story\",\"Drama\"],[\"The Ivory Game\",\"Documentary\"],[\"Struggle: The Life and Lost Art of Szukaiski\",\"Documentary\"],[\"Chasing Coral \",\"Documentary\"],[\"My Octopus Teacher\",\"Documentary\"],[\"Rising Phoenix\",\"Documentary\"],[\"13th\",\"Documentary\"],[\"Disclosure: Trans Lives on Screen\",\"Documentary\"],[\"Klaus\",\"Animation/Christmas/Comedy/Adventure\"],[\"Seaspiracy\",\"Documentary\"],[\"The Three Deaths of Marisela Escobedo\",\"Documentary\"],[\"Cuba and the Cameraman \",\"Documentary\"],[\"Dancing with the Birds\",\"Documentary\"],[\"Ben Platt: Live from Radio City Music Hall\",\"Concert Film\"],[\"Taylor Swift: Reputation Stadium Tour\",\"Concert Film\"],[\"Winter on Fire: Ukraine's Fight for Freedom\",\"Documentary\"],[\"Springsteen on Broadway\",\"One-man show\"],[\"Emicida: AmarElo - It's All For Yesterday\",\"Documentary\"],[\"David Attenborough: A Life on Our Planet\",\"Documentary\"]],\"hovertemplate\":\"Runtime=%{x}<br>Title=%{customdata[0]}<br>Genre=%{customdata[1]}<extra></extra>\",\"legendgroup\":\"\",\"marker\":{\"color\":\"#636efa\"},\"name\":\"\",\"notched\":false,\"offsetgroup\":\"\",\"orientation\":\"h\",\"quartilemethod\":\"inclusive\",\"showlegend\":false,\"type\":\"box\",\"x\":[58,81,79,94,90,147,112,149,73,139,58,112,97,101,90,25,144,115,102,100,64,97,99,120,105,89,97,107,99,95,37,89,83,46,85,88,86,105,95,80,4,93,100,106,97,106,103,80,101,119,80,89,94,93,96,113,86,100,102,86,104,88,97,105,90,99,10,106,98,94,112,117,70,81,103,94,98,131,87,60,112,102,99,116,92,83,97,112,116,102,121,95,93,92,98,85,78,120,92,101,119,101,112,96,114,97,101,56,100,94,94,21,104,63,100,126,106,86,142,108,102,92,83,94,92,103,89,95,103,97,125,91,90,49,98,107,118,94,103,86,83,97,99,104,102,89,98,125,89,94,94,85,34,86,91,108,95,100,90,112,86,124,107,92,121,90,104,92,114,98,95,78,107,92,95,96,118,105,94,52,105,95,100,97,89,102,96,131,89,93,111,75,120,96,148,94,107,32,104,23,111,83,53,95,132,98,108,106,104,90,106,90,97,113,123,115,105,101,102,122,128,82,102,80,94,123,104,85,84,103,95,100,89,116,118,96,114,99,87,92,90,95,96,93,42,92,106,151,101,114,90,115,92,72,139,98,92,111,98,104,95,88,102,30,99,129,87,117,104,111,107,97,98,90,101,72,83,118,44,113,86,108,85,102,151,98,87,120,134,109,85,103,94,97,88,37,112,102,100,96,113,16,119,97,81,98,95,96,107,41,87,101,97,103,90,125,116,99,82,97,28,108,93,74,60,9,21,100,155,55,123,103,93,119,40,120,98,104,91,95,101,105,83,91,83,17,86,124,94,102,118,79,134,126,98,89,58,83,136,98,114,99,130,32,104,142,92,86,106,95,91,89,117,90,117,80,87,101,19,106,54,111,132,97,106,111,124,116,112,144,76,101,92,19,39,102,89,105,101,70,96,85,39,79,73,114,121,28,95,122,23,107,98,108,92,100,97,7,96,100,132,103,121,114,57,95,83,17,105,131,30,112,86,100,14,109,28,64,94,31,99,108,48,84,70,27,45,117,104,108,121,36,30,47,110,92,80,49,73,40,96,106,97,94,78,81,87,91,91,95,126,31,58,41,138,112,114,125,99,82,98,136,97,107,92,39,133,89,124,99,101,97,124,129,121,140,13,108,11,118,121,24,100,101,105,96,47,121,100,149,64,64,114,15,79,90,132,105,97,83,110,39,40,85,26,87,97,118,23,40,98,80,108,79,74,90,137,71,98,70,99,40,104,149,124,144,85,100,94,125,84,117,15,136,76,108,94,90,72,135,12,209,130,82,120,136,112,105,89,85,106,100,107,97,89,109,114,51,85,125,91,153,89,83],\"x0\":\" \",\"xaxis\":\"x\",\"y0\":\" \",\"yaxis\":\"y\"}],                        {\"boxmode\":\"group\",\"legend\":{\"tracegroupgap\":0},\"margin\":{\"t\":60},\"template\":{\"data\":{\"bar\":[{\"error_x\":{\"color\":\"#2a3f5f\"},\"error_y\":{\"color\":\"#2a3f5f\"},\"marker\":{\"line\":{\"color\":\"#E5ECF6\",\"width\":0.5},\"pattern\":{\"fillmode\":\"overlay\",\"size\":10,\"solidity\":0.2}},\"type\":\"bar\"}],\"barpolar\":[{\"marker\":{\"line\":{\"color\":\"#E5ECF6\",\"width\":0.5},\"pattern\":{\"fillmode\":\"overlay\",\"size\":10,\"solidity\":0.2}},\"type\":\"barpolar\"}],\"carpet\":[{\"aaxis\":{\"endlinecolor\":\"#2a3f5f\",\"gridcolor\":\"white\",\"linecolor\":\"white\",\"minorgridcolor\":\"white\",\"startlinecolor\":\"#2a3f5f\"},\"baxis\":{\"endlinecolor\":\"#2a3f5f\",\"gridcolor\":\"white\",\"linecolor\":\"white\",\"minorgridcolor\":\"white\",\"startlinecolor\":\"#2a3f5f\"},\"type\":\"carpet\"}],\"choropleth\":[{\"colorbar\":{\"outlinewidth\":0,\"ticks\":\"\"},\"type\":\"choropleth\"}],\"contour\":[{\"colorbar\":{\"outlinewidth\":0,\"ticks\":\"\"},\"colorscale\":[[0.0,\"#0d0887\"],[0.1111111111111111,\"#46039f\"],[0.2222222222222222,\"#7201a8\"],[0.3333333333333333,\"#9c179e\"],[0.4444444444444444,\"#bd3786\"],[0.5555555555555556,\"#d8576b\"],[0.6666666666666666,\"#ed7953\"],[0.7777777777777778,\"#fb9f3a\"],[0.8888888888888888,\"#fdca26\"],[1.0,\"#f0f921\"]],\"type\":\"contour\"}],\"contourcarpet\":[{\"colorbar\":{\"outlinewidth\":0,\"ticks\":\"\"},\"type\":\"contourcarpet\"}],\"heatmap\":[{\"colorbar\":{\"outlinewidth\":0,\"ticks\":\"\"},\"colorscale\":[[0.0,\"#0d0887\"],[0.1111111111111111,\"#46039f\"],[0.2222222222222222,\"#7201a8\"],[0.3333333333333333,\"#9c179e\"],[0.4444444444444444,\"#bd3786\"],[0.5555555555555556,\"#d8576b\"],[0.6666666666666666,\"#ed7953\"],[0.7777777777777778,\"#fb9f3a\"],[0.8888888888888888,\"#fdca26\"],[1.0,\"#f0f921\"]],\"type\":\"heatmap\"}],\"heatmapgl\":[{\"colorbar\":{\"outlinewidth\":0,\"ticks\":\"\"},\"colorscale\":[[0.0,\"#0d0887\"],[0.1111111111111111,\"#46039f\"],[0.2222222222222222,\"#7201a8\"],[0.3333333333333333,\"#9c179e\"],[0.4444444444444444,\"#bd3786\"],[0.5555555555555556,\"#d8576b\"],[0.6666666666666666,\"#ed7953\"],[0.7777777777777778,\"#fb9f3a\"],[0.8888888888888888,\"#fdca26\"],[1.0,\"#f0f921\"]],\"type\":\"heatmapgl\"}],\"histogram\":[{\"marker\":{\"pattern\":{\"fillmode\":\"overlay\",\"size\":10,\"solidity\":0.2}},\"type\":\"histogram\"}],\"histogram2d\":[{\"colorbar\":{\"outlinewidth\":0,\"ticks\":\"\"},\"colorscale\":[[0.0,\"#0d0887\"],[0.1111111111111111,\"#46039f\"],[0.2222222222222222,\"#7201a8\"],[0.3333333333333333,\"#9c179e\"],[0.4444444444444444,\"#bd3786\"],[0.5555555555555556,\"#d8576b\"],[0.6666666666666666,\"#ed7953\"],[0.7777777777777778,\"#fb9f3a\"],[0.8888888888888888,\"#fdca26\"],[1.0,\"#f0f921\"]],\"type\":\"histogram2d\"}],\"histogram2dcontour\":[{\"colorbar\":{\"outlinewidth\":0,\"ticks\":\"\"},\"colorscale\":[[0.0,\"#0d0887\"],[0.1111111111111111,\"#46039f\"],[0.2222222222222222,\"#7201a8\"],[0.3333333333333333,\"#9c179e\"],[0.4444444444444444,\"#bd3786\"],[0.5555555555555556,\"#d8576b\"],[0.6666666666666666,\"#ed7953\"],[0.7777777777777778,\"#fb9f3a\"],[0.8888888888888888,\"#fdca26\"],[1.0,\"#f0f921\"]],\"type\":\"histogram2dcontour\"}],\"mesh3d\":[{\"colorbar\":{\"outlinewidth\":0,\"ticks\":\"\"},\"type\":\"mesh3d\"}],\"parcoords\":[{\"line\":{\"colorbar\":{\"outlinewidth\":0,\"ticks\":\"\"}},\"type\":\"parcoords\"}],\"pie\":[{\"automargin\":true,\"type\":\"pie\"}],\"scatter\":[{\"marker\":{\"colorbar\":{\"outlinewidth\":0,\"ticks\":\"\"}},\"type\":\"scatter\"}],\"scatter3d\":[{\"line\":{\"colorbar\":{\"outlinewidth\":0,\"ticks\":\"\"}},\"marker\":{\"colorbar\":{\"outlinewidth\":0,\"ticks\":\"\"}},\"type\":\"scatter3d\"}],\"scattercarpet\":[{\"marker\":{\"colorbar\":{\"outlinewidth\":0,\"ticks\":\"\"}},\"type\":\"scattercarpet\"}],\"scattergeo\":[{\"marker\":{\"colorbar\":{\"outlinewidth\":0,\"ticks\":\"\"}},\"type\":\"scattergeo\"}],\"scattergl\":[{\"marker\":{\"colorbar\":{\"outlinewidth\":0,\"ticks\":\"\"}},\"type\":\"scattergl\"}],\"scattermapbox\":[{\"marker\":{\"colorbar\":{\"outlinewidth\":0,\"ticks\":\"\"}},\"type\":\"scattermapbox\"}],\"scatterpolar\":[{\"marker\":{\"colorbar\":{\"outlinewidth\":0,\"ticks\":\"\"}},\"type\":\"scatterpolar\"}],\"scatterpolargl\":[{\"marker\":{\"colorbar\":{\"outlinewidth\":0,\"ticks\":\"\"}},\"type\":\"scatterpolargl\"}],\"scatterternary\":[{\"marker\":{\"colorbar\":{\"outlinewidth\":0,\"ticks\":\"\"}},\"type\":\"scatterternary\"}],\"surface\":[{\"colorbar\":{\"outlinewidth\":0,\"ticks\":\"\"},\"colorscale\":[[0.0,\"#0d0887\"],[0.1111111111111111,\"#46039f\"],[0.2222222222222222,\"#7201a8\"],[0.3333333333333333,\"#9c179e\"],[0.4444444444444444,\"#bd3786\"],[0.5555555555555556,\"#d8576b\"],[0.6666666666666666,\"#ed7953\"],[0.7777777777777778,\"#fb9f3a\"],[0.8888888888888888,\"#fdca26\"],[1.0,\"#f0f921\"]],\"type\":\"surface\"}],\"table\":[{\"cells\":{\"fill\":{\"color\":\"#EBF0F8\"},\"line\":{\"color\":\"white\"}},\"header\":{\"fill\":{\"color\":\"#C8D4E3\"},\"line\":{\"color\":\"white\"}},\"type\":\"table\"}]},\"layout\":{\"annotationdefaults\":{\"arrowcolor\":\"#2a3f5f\",\"arrowhead\":0,\"arrowwidth\":1},\"autotypenumbers\":\"strict\",\"coloraxis\":{\"colorbar\":{\"outlinewidth\":0,\"ticks\":\"\"}},\"colorscale\":{\"diverging\":[[0,\"#8e0152\"],[0.1,\"#c51b7d\"],[0.2,\"#de77ae\"],[0.3,\"#f1b6da\"],[0.4,\"#fde0ef\"],[0.5,\"#f7f7f7\"],[0.6,\"#e6f5d0\"],[0.7,\"#b8e186\"],[0.8,\"#7fbc41\"],[0.9,\"#4d9221\"],[1,\"#276419\"]],\"sequential\":[[0.0,\"#0d0887\"],[0.1111111111111111,\"#46039f\"],[0.2222222222222222,\"#7201a8\"],[0.3333333333333333,\"#9c179e\"],[0.4444444444444444,\"#bd3786\"],[0.5555555555555556,\"#d8576b\"],[0.6666666666666666,\"#ed7953\"],[0.7777777777777778,\"#fb9f3a\"],[0.8888888888888888,\"#fdca26\"],[1.0,\"#f0f921\"]],\"sequentialminus\":[[0.0,\"#0d0887\"],[0.1111111111111111,\"#46039f\"],[0.2222222222222222,\"#7201a8\"],[0.3333333333333333,\"#9c179e\"],[0.4444444444444444,\"#bd3786\"],[0.5555555555555556,\"#d8576b\"],[0.6666666666666666,\"#ed7953\"],[0.7777777777777778,\"#fb9f3a\"],[0.8888888888888888,\"#fdca26\"],[1.0,\"#f0f921\"]]},\"colorway\":[\"#636efa\",\"#EF553B\",\"#00cc96\",\"#ab63fa\",\"#FFA15A\",\"#19d3f3\",\"#FF6692\",\"#B6E880\",\"#FF97FF\",\"#FECB52\"],\"font\":{\"color\":\"#2a3f5f\"},\"geo\":{\"bgcolor\":\"white\",\"lakecolor\":\"white\",\"landcolor\":\"#E5ECF6\",\"showlakes\":true,\"showland\":true,\"subunitcolor\":\"white\"},\"hoverlabel\":{\"align\":\"left\"},\"hovermode\":\"closest\",\"mapbox\":{\"style\":\"light\"},\"paper_bgcolor\":\"white\",\"plot_bgcolor\":\"#E5ECF6\",\"polar\":{\"angularaxis\":{\"gridcolor\":\"white\",\"linecolor\":\"white\",\"ticks\":\"\"},\"bgcolor\":\"#E5ECF6\",\"radialaxis\":{\"gridcolor\":\"white\",\"linecolor\":\"white\",\"ticks\":\"\"}},\"scene\":{\"xaxis\":{\"backgroundcolor\":\"#E5ECF6\",\"gridcolor\":\"white\",\"gridwidth\":2,\"linecolor\":\"white\",\"showbackground\":true,\"ticks\":\"\",\"zerolinecolor\":\"white\"},\"yaxis\":{\"backgroundcolor\":\"#E5ECF6\",\"gridcolor\":\"white\",\"gridwidth\":2,\"linecolor\":\"white\",\"showbackground\":true,\"ticks\":\"\",\"zerolinecolor\":\"white\"},\"zaxis\":{\"backgroundcolor\":\"#E5ECF6\",\"gridcolor\":\"white\",\"gridwidth\":2,\"linecolor\":\"white\",\"showbackground\":true,\"ticks\":\"\",\"zerolinecolor\":\"white\"}},\"shapedefaults\":{\"line\":{\"color\":\"#2a3f5f\"}},\"ternary\":{\"aaxis\":{\"gridcolor\":\"white\",\"linecolor\":\"white\",\"ticks\":\"\"},\"baxis\":{\"gridcolor\":\"white\",\"linecolor\":\"white\",\"ticks\":\"\"},\"bgcolor\":\"#E5ECF6\",\"caxis\":{\"gridcolor\":\"white\",\"linecolor\":\"white\",\"ticks\":\"\"}},\"title\":{\"x\":0.05},\"xaxis\":{\"automargin\":true,\"gridcolor\":\"white\",\"linecolor\":\"white\",\"ticks\":\"\",\"title\":{\"standoff\":15},\"zerolinecolor\":\"white\",\"zerolinewidth\":2},\"yaxis\":{\"automargin\":true,\"gridcolor\":\"white\",\"linecolor\":\"white\",\"ticks\":\"\",\"title\":{\"standoff\":15},\"zerolinecolor\":\"white\",\"zerolinewidth\":2}}},\"xaxis\":{\"anchor\":\"y\",\"domain\":[0.0,1.0],\"title\":{\"text\":\"Runtime\"}},\"yaxis\":{\"anchor\":\"x\",\"domain\":[0.0,1.0]}},                        {\"responsive\": true}                    ).then(function(){\n",
       "                            \n",
       "var gd = document.getElementById('64a646ba-0a7d-4dfc-b14c-e1ff43165299');\n",
       "var x = new MutationObserver(function (mutations, observer) {{\n",
       "        var display = window.getComputedStyle(gd).display;\n",
       "        if (!display || display === 'none') {{\n",
       "            console.log([gd, 'removed!']);\n",
       "            Plotly.purge(gd);\n",
       "            observer.disconnect();\n",
       "        }}\n",
       "}});\n",
       "\n",
       "// Listen for the removal of the full notebook cells\n",
       "var notebookContainer = gd.closest('#notebook-container');\n",
       "if (notebookContainer) {{\n",
       "    x.observe(notebookContainer, {childList: true});\n",
       "}}\n",
       "\n",
       "// Listen for the clearing of the current output cell\n",
       "var outputEl = gd.closest('.output');\n",
       "if (outputEl) {{\n",
       "    x.observe(outputEl, {childList: true});\n",
       "}}\n",
       "\n",
       "                        })                };                });            </script>        </div>"
      ]
     },
     "metadata": {},
     "output_type": "display_data"
    }
   ],
   "source": [
    "fig = px.box(df, x= 'Runtime', hover_data = df[['Title','Genre']])\n",
    "fig.update_traces(quartilemethod=\"inclusive\")\n",
    "fig.show()"
   ]
  },
  {
   "cell_type": "markdown",
   "id": "bc1b47fd",
   "metadata": {
    "papermill": {
     "duration": 0.057176,
     "end_time": "2021-07-21T09:07:26.576295",
     "exception": false,
     "start_time": "2021-07-21T09:07:26.519119",
     "status": "completed"
    },
    "tags": []
   },
   "source": [
    "- As we expected, we have left skewed distribution with multiple outliers are on the both side, but much more are on the left side-minimum side.\n",
    "\n",
    "- Movie with the maximum runtime  is 'Irishman', yeah, agreed, it was quite a long movie. But no complaints. I loved to see Al Pacino and Robert De Niro at the same movie.\n",
    "\n",
    "- Minimum runtime was 4 minute animation 'Sol Levante'"
   ]
  },
  {
   "cell_type": "markdown",
   "id": "4771228a",
   "metadata": {
    "papermill": {
     "duration": 0.057393,
     "end_time": "2021-07-21T09:07:26.692488",
     "exception": false,
     "start_time": "2021-07-21T09:07:26.635095",
     "status": "completed"
    },
    "tags": []
   },
   "source": [
    "#### IMDB Score"
   ]
  },
  {
   "cell_type": "code",
   "execution_count": 19,
   "id": "7c4dc0e4",
   "metadata": {
    "_kg_hide-input": true,
    "execution": {
     "iopub.execute_input": "2021-07-21T09:07:26.817804Z",
     "iopub.status.busy": "2021-07-21T09:07:26.813820Z",
     "iopub.status.idle": "2021-07-21T09:07:26.822640Z",
     "shell.execute_reply": "2021-07-21T09:07:26.821987Z",
     "shell.execute_reply.started": "2021-07-13T16:37:54.91187Z"
    },
    "papermill": {
     "duration": 0.072432,
     "end_time": "2021-07-21T09:07:26.822776",
     "exception": false,
     "start_time": "2021-07-21T09:07:26.750344",
     "status": "completed"
    },
    "tags": []
   },
   "outputs": [
    {
     "data": {
      "text/plain": [
       "count    584.000000\n",
       "mean       6.271747\n",
       "std        0.979256\n",
       "min        2.500000\n",
       "25%        5.700000\n",
       "50%        6.350000\n",
       "75%        7.000000\n",
       "max        9.000000\n",
       "Name: IMDB Score, dtype: float64"
      ]
     },
     "execution_count": 19,
     "metadata": {},
     "output_type": "execute_result"
    }
   ],
   "source": [
    "df['IMDB Score'].describe()"
   ]
  },
  {
   "cell_type": "markdown",
   "id": "1cb07a86",
   "metadata": {
    "papermill": {
     "duration": 0.057429,
     "end_time": "2021-07-21T09:07:26.938314",
     "exception": false,
     "start_time": "2021-07-21T09:07:26.880885",
     "status": "completed"
    },
    "tags": []
   },
   "source": [
    "- Before going further, I have to admit that, I am regular follower of IMDB website. Most of the time, I agreed with their rating scores.\n",
    "\n",
    "- Programs in the Netflix, got around 6.3 average rating. Max 9 and minum was 2.5.\n",
    "\n",
    "- Mean and median values are close to each other. Since median is bigger than mean score, we can expect left skewed distribution with several outliers are on the left side-minimum side."
   ]
  },
  {
   "cell_type": "code",
   "execution_count": 20,
   "id": "3baee6ad",
   "metadata": {
    "_kg_hide-input": true,
    "execution": {
     "iopub.execute_input": "2021-07-21T09:07:27.070217Z",
     "iopub.status.busy": "2021-07-21T09:07:27.067689Z",
     "iopub.status.idle": "2021-07-21T09:07:27.126931Z",
     "shell.execute_reply": "2021-07-21T09:07:27.126397Z",
     "shell.execute_reply.started": "2021-07-13T16:37:54.928885Z"
    },
    "papermill": {
     "duration": 0.130433,
     "end_time": "2021-07-21T09:07:27.127085",
     "exception": false,
     "start_time": "2021-07-21T09:07:26.996652",
     "status": "completed"
    },
    "tags": []
   },
   "outputs": [
    {
     "data": {
      "text/html": [
       "<div>                            <div id=\"fe637836-bec8-4231-8db9-188145e45d20\" class=\"plotly-graph-div\" style=\"height:525px; width:100%;\"></div>            <script type=\"text/javascript\">                require([\"plotly\"], function(Plotly) {                    window.PLOTLYENV=window.PLOTLYENV || {};                                    if (document.getElementById(\"fe637836-bec8-4231-8db9-188145e45d20\")) {                    Plotly.newPlot(                        \"fe637836-bec8-4231-8db9-188145e45d20\",                        [{\"alignmentgroup\":\"True\",\"bingroup\":\"x\",\"hovertemplate\":\"IMDB Score=%{x}<br>count=%{y}<extra></extra>\",\"legendgroup\":\"\",\"marker\":{\"color\":\"#636efa\",\"pattern\":{\"shape\":\"\"}},\"name\":\"\",\"offsetgroup\":\"\",\"orientation\":\"v\",\"showlegend\":false,\"type\":\"histogram\",\"x\":[2.5,2.6,2.6,3.2,3.4,3.5,3.7,3.7,3.9,4.1,4.1,4.1,4.1,4.2,4.2,4.3,4.3,4.3,4.3,4.4,4.4,4.4,4.4,4.4,4.4,4.5,4.5,4.5,4.5,4.6,4.6,4.6,4.6,4.6,4.6,4.6,4.6,4.7,4.7,4.7,4.7,4.7,4.7,4.8,4.8,4.8,4.8,4.8,4.8,4.8,4.9,4.9,4.9,4.9,5.0,5.0,5.0,5.0,5.0,5.1,5.1,5.1,5.1,5.1,5.1,5.2,5.2,5.2,5.2,5.2,5.2,5.2,5.2,5.2,5.2,5.2,5.2,5.2,5.2,5.2,5.2,5.2,5.2,5.2,5.3,5.3,5.3,5.3,5.3,5.3,5.3,5.3,5.3,5.3,5.4,5.4,5.4,5.4,5.4,5.4,5.4,5.4,5.4,5.4,5.4,5.4,5.4,5.5,5.5,5.5,5.5,5.5,5.5,5.5,5.5,5.5,5.5,5.5,5.5,5.5,5.5,5.5,5.5,5.5,5.5,5.5,5.6,5.6,5.6,5.6,5.6,5.6,5.6,5.6,5.6,5.6,5.6,5.6,5.6,5.6,5.6,5.7,5.7,5.7,5.7,5.7,5.7,5.7,5.7,5.7,5.7,5.7,5.7,5.7,5.7,5.7,5.7,5.7,5.7,5.7,5.7,5.8,5.8,5.8,5.8,5.8,5.8,5.8,5.8,5.8,5.8,5.8,5.8,5.8,5.8,5.8,5.8,5.8,5.8,5.8,5.8,5.8,5.8,5.8,5.8,5.8,5.8,5.8,5.8,5.8,5.8,5.9,5.9,5.9,5.9,5.9,5.9,5.9,5.9,5.9,5.9,5.9,5.9,5.9,5.9,5.9,5.9,6.0,6.0,6.0,6.0,6.0,6.0,6.0,6.0,6.0,6.0,6.0,6.0,6.0,6.1,6.1,6.1,6.1,6.1,6.1,6.1,6.1,6.1,6.1,6.1,6.1,6.1,6.1,6.1,6.1,6.1,6.1,6.1,6.1,6.1,6.1,6.1,6.1,6.2,6.2,6.2,6.2,6.2,6.2,6.2,6.2,6.2,6.2,6.2,6.2,6.2,6.2,6.2,6.2,6.2,6.2,6.3,6.3,6.3,6.3,6.3,6.3,6.3,6.3,6.3,6.3,6.3,6.3,6.3,6.3,6.3,6.3,6.3,6.3,6.3,6.3,6.3,6.3,6.3,6.3,6.3,6.3,6.3,6.3,6.3,6.3,6.4,6.4,6.4,6.4,6.4,6.4,6.4,6.4,6.4,6.4,6.4,6.4,6.4,6.4,6.4,6.4,6.4,6.4,6.4,6.4,6.4,6.4,6.4,6.4,6.4,6.4,6.4,6.4,6.5,6.5,6.5,6.5,6.5,6.5,6.5,6.5,6.5,6.5,6.5,6.5,6.5,6.5,6.5,6.5,6.5,6.5,6.5,6.5,6.5,6.5,6.5,6.5,6.5,6.5,6.6,6.6,6.6,6.6,6.6,6.6,6.6,6.6,6.6,6.6,6.6,6.6,6.6,6.6,6.6,6.6,6.6,6.6,6.7,6.7,6.7,6.7,6.7,6.7,6.7,6.7,6.7,6.7,6.7,6.7,6.7,6.7,6.7,6.7,6.7,6.7,6.7,6.7,6.7,6.7,6.7,6.7,6.7,6.8,6.8,6.8,6.8,6.8,6.8,6.8,6.8,6.8,6.8,6.8,6.8,6.8,6.8,6.8,6.8,6.8,6.8,6.8,6.8,6.8,6.8,6.8,6.8,6.9,6.9,6.9,6.9,6.9,6.9,6.9,6.9,6.9,6.9,6.9,6.9,6.9,6.9,6.9,6.9,6.9,6.9,6.9,7.0,7.0,7.0,7.0,7.0,7.0,7.0,7.0,7.0,7.0,7.0,7.0,7.0,7.0,7.0,7.0,7.0,7.0,7.0,7.1,7.1,7.1,7.1,7.1,7.1,7.1,7.1,7.1,7.1,7.1,7.1,7.1,7.1,7.1,7.1,7.1,7.1,7.1,7.1,7.1,7.1,7.1,7.1,7.1,7.1,7.1,7.1,7.2,7.2,7.2,7.2,7.2,7.2,7.2,7.2,7.2,7.2,7.2,7.2,7.2,7.2,7.2,7.2,7.2,7.2,7.2,7.2,7.3,7.3,7.3,7.3,7.3,7.3,7.3,7.3,7.3,7.3,7.3,7.3,7.3,7.3,7.3,7.3,7.3,7.3,7.3,7.3,7.3,7.4,7.4,7.4,7.4,7.4,7.4,7.4,7.4,7.4,7.4,7.4,7.4,7.5,7.5,7.5,7.5,7.5,7.5,7.5,7.5,7.5,7.5,7.6,7.6,7.6,7.6,7.6,7.6,7.6,7.6,7.6,7.6,7.7,7.7,7.7,7.7,7.7,7.7,7.7,7.7,7.8,7.8,7.8,7.9,7.9,7.9,7.9,8.0,8.1,8.1,8.1,8.2,8.2,8.2,8.2,8.2,8.3,8.3,8.4,8.4,8.4,8.5,8.6,9.0],\"xaxis\":\"x\",\"yaxis\":\"y\"}],                        {\"barmode\":\"relative\",\"legend\":{\"tracegroupgap\":0},\"template\":{\"data\":{\"bar\":[{\"error_x\":{\"color\":\"#2a3f5f\"},\"error_y\":{\"color\":\"#2a3f5f\"},\"marker\":{\"line\":{\"color\":\"#E5ECF6\",\"width\":0.5},\"pattern\":{\"fillmode\":\"overlay\",\"size\":10,\"solidity\":0.2}},\"type\":\"bar\"}],\"barpolar\":[{\"marker\":{\"line\":{\"color\":\"#E5ECF6\",\"width\":0.5},\"pattern\":{\"fillmode\":\"overlay\",\"size\":10,\"solidity\":0.2}},\"type\":\"barpolar\"}],\"carpet\":[{\"aaxis\":{\"endlinecolor\":\"#2a3f5f\",\"gridcolor\":\"white\",\"linecolor\":\"white\",\"minorgridcolor\":\"white\",\"startlinecolor\":\"#2a3f5f\"},\"baxis\":{\"endlinecolor\":\"#2a3f5f\",\"gridcolor\":\"white\",\"linecolor\":\"white\",\"minorgridcolor\":\"white\",\"startlinecolor\":\"#2a3f5f\"},\"type\":\"carpet\"}],\"choropleth\":[{\"colorbar\":{\"outlinewidth\":0,\"ticks\":\"\"},\"type\":\"choropleth\"}],\"contour\":[{\"colorbar\":{\"outlinewidth\":0,\"ticks\":\"\"},\"colorscale\":[[0.0,\"#0d0887\"],[0.1111111111111111,\"#46039f\"],[0.2222222222222222,\"#7201a8\"],[0.3333333333333333,\"#9c179e\"],[0.4444444444444444,\"#bd3786\"],[0.5555555555555556,\"#d8576b\"],[0.6666666666666666,\"#ed7953\"],[0.7777777777777778,\"#fb9f3a\"],[0.8888888888888888,\"#fdca26\"],[1.0,\"#f0f921\"]],\"type\":\"contour\"}],\"contourcarpet\":[{\"colorbar\":{\"outlinewidth\":0,\"ticks\":\"\"},\"type\":\"contourcarpet\"}],\"heatmap\":[{\"colorbar\":{\"outlinewidth\":0,\"ticks\":\"\"},\"colorscale\":[[0.0,\"#0d0887\"],[0.1111111111111111,\"#46039f\"],[0.2222222222222222,\"#7201a8\"],[0.3333333333333333,\"#9c179e\"],[0.4444444444444444,\"#bd3786\"],[0.5555555555555556,\"#d8576b\"],[0.6666666666666666,\"#ed7953\"],[0.7777777777777778,\"#fb9f3a\"],[0.8888888888888888,\"#fdca26\"],[1.0,\"#f0f921\"]],\"type\":\"heatmap\"}],\"heatmapgl\":[{\"colorbar\":{\"outlinewidth\":0,\"ticks\":\"\"},\"colorscale\":[[0.0,\"#0d0887\"],[0.1111111111111111,\"#46039f\"],[0.2222222222222222,\"#7201a8\"],[0.3333333333333333,\"#9c179e\"],[0.4444444444444444,\"#bd3786\"],[0.5555555555555556,\"#d8576b\"],[0.6666666666666666,\"#ed7953\"],[0.7777777777777778,\"#fb9f3a\"],[0.8888888888888888,\"#fdca26\"],[1.0,\"#f0f921\"]],\"type\":\"heatmapgl\"}],\"histogram\":[{\"marker\":{\"pattern\":{\"fillmode\":\"overlay\",\"size\":10,\"solidity\":0.2}},\"type\":\"histogram\"}],\"histogram2d\":[{\"colorbar\":{\"outlinewidth\":0,\"ticks\":\"\"},\"colorscale\":[[0.0,\"#0d0887\"],[0.1111111111111111,\"#46039f\"],[0.2222222222222222,\"#7201a8\"],[0.3333333333333333,\"#9c179e\"],[0.4444444444444444,\"#bd3786\"],[0.5555555555555556,\"#d8576b\"],[0.6666666666666666,\"#ed7953\"],[0.7777777777777778,\"#fb9f3a\"],[0.8888888888888888,\"#fdca26\"],[1.0,\"#f0f921\"]],\"type\":\"histogram2d\"}],\"histogram2dcontour\":[{\"colorbar\":{\"outlinewidth\":0,\"ticks\":\"\"},\"colorscale\":[[0.0,\"#0d0887\"],[0.1111111111111111,\"#46039f\"],[0.2222222222222222,\"#7201a8\"],[0.3333333333333333,\"#9c179e\"],[0.4444444444444444,\"#bd3786\"],[0.5555555555555556,\"#d8576b\"],[0.6666666666666666,\"#ed7953\"],[0.7777777777777778,\"#fb9f3a\"],[0.8888888888888888,\"#fdca26\"],[1.0,\"#f0f921\"]],\"type\":\"histogram2dcontour\"}],\"mesh3d\":[{\"colorbar\":{\"outlinewidth\":0,\"ticks\":\"\"},\"type\":\"mesh3d\"}],\"parcoords\":[{\"line\":{\"colorbar\":{\"outlinewidth\":0,\"ticks\":\"\"}},\"type\":\"parcoords\"}],\"pie\":[{\"automargin\":true,\"type\":\"pie\"}],\"scatter\":[{\"marker\":{\"colorbar\":{\"outlinewidth\":0,\"ticks\":\"\"}},\"type\":\"scatter\"}],\"scatter3d\":[{\"line\":{\"colorbar\":{\"outlinewidth\":0,\"ticks\":\"\"}},\"marker\":{\"colorbar\":{\"outlinewidth\":0,\"ticks\":\"\"}},\"type\":\"scatter3d\"}],\"scattercarpet\":[{\"marker\":{\"colorbar\":{\"outlinewidth\":0,\"ticks\":\"\"}},\"type\":\"scattercarpet\"}],\"scattergeo\":[{\"marker\":{\"colorbar\":{\"outlinewidth\":0,\"ticks\":\"\"}},\"type\":\"scattergeo\"}],\"scattergl\":[{\"marker\":{\"colorbar\":{\"outlinewidth\":0,\"ticks\":\"\"}},\"type\":\"scattergl\"}],\"scattermapbox\":[{\"marker\":{\"colorbar\":{\"outlinewidth\":0,\"ticks\":\"\"}},\"type\":\"scattermapbox\"}],\"scatterpolar\":[{\"marker\":{\"colorbar\":{\"outlinewidth\":0,\"ticks\":\"\"}},\"type\":\"scatterpolar\"}],\"scatterpolargl\":[{\"marker\":{\"colorbar\":{\"outlinewidth\":0,\"ticks\":\"\"}},\"type\":\"scatterpolargl\"}],\"scatterternary\":[{\"marker\":{\"colorbar\":{\"outlinewidth\":0,\"ticks\":\"\"}},\"type\":\"scatterternary\"}],\"surface\":[{\"colorbar\":{\"outlinewidth\":0,\"ticks\":\"\"},\"colorscale\":[[0.0,\"#0d0887\"],[0.1111111111111111,\"#46039f\"],[0.2222222222222222,\"#7201a8\"],[0.3333333333333333,\"#9c179e\"],[0.4444444444444444,\"#bd3786\"],[0.5555555555555556,\"#d8576b\"],[0.6666666666666666,\"#ed7953\"],[0.7777777777777778,\"#fb9f3a\"],[0.8888888888888888,\"#fdca26\"],[1.0,\"#f0f921\"]],\"type\":\"surface\"}],\"table\":[{\"cells\":{\"fill\":{\"color\":\"#EBF0F8\"},\"line\":{\"color\":\"white\"}},\"header\":{\"fill\":{\"color\":\"#C8D4E3\"},\"line\":{\"color\":\"white\"}},\"type\":\"table\"}]},\"layout\":{\"annotationdefaults\":{\"arrowcolor\":\"#2a3f5f\",\"arrowhead\":0,\"arrowwidth\":1},\"autotypenumbers\":\"strict\",\"coloraxis\":{\"colorbar\":{\"outlinewidth\":0,\"ticks\":\"\"}},\"colorscale\":{\"diverging\":[[0,\"#8e0152\"],[0.1,\"#c51b7d\"],[0.2,\"#de77ae\"],[0.3,\"#f1b6da\"],[0.4,\"#fde0ef\"],[0.5,\"#f7f7f7\"],[0.6,\"#e6f5d0\"],[0.7,\"#b8e186\"],[0.8,\"#7fbc41\"],[0.9,\"#4d9221\"],[1,\"#276419\"]],\"sequential\":[[0.0,\"#0d0887\"],[0.1111111111111111,\"#46039f\"],[0.2222222222222222,\"#7201a8\"],[0.3333333333333333,\"#9c179e\"],[0.4444444444444444,\"#bd3786\"],[0.5555555555555556,\"#d8576b\"],[0.6666666666666666,\"#ed7953\"],[0.7777777777777778,\"#fb9f3a\"],[0.8888888888888888,\"#fdca26\"],[1.0,\"#f0f921\"]],\"sequentialminus\":[[0.0,\"#0d0887\"],[0.1111111111111111,\"#46039f\"],[0.2222222222222222,\"#7201a8\"],[0.3333333333333333,\"#9c179e\"],[0.4444444444444444,\"#bd3786\"],[0.5555555555555556,\"#d8576b\"],[0.6666666666666666,\"#ed7953\"],[0.7777777777777778,\"#fb9f3a\"],[0.8888888888888888,\"#fdca26\"],[1.0,\"#f0f921\"]]},\"colorway\":[\"#636efa\",\"#EF553B\",\"#00cc96\",\"#ab63fa\",\"#FFA15A\",\"#19d3f3\",\"#FF6692\",\"#B6E880\",\"#FF97FF\",\"#FECB52\"],\"font\":{\"color\":\"#2a3f5f\"},\"geo\":{\"bgcolor\":\"white\",\"lakecolor\":\"white\",\"landcolor\":\"#E5ECF6\",\"showlakes\":true,\"showland\":true,\"subunitcolor\":\"white\"},\"hoverlabel\":{\"align\":\"left\"},\"hovermode\":\"closest\",\"mapbox\":{\"style\":\"light\"},\"paper_bgcolor\":\"white\",\"plot_bgcolor\":\"#E5ECF6\",\"polar\":{\"angularaxis\":{\"gridcolor\":\"white\",\"linecolor\":\"white\",\"ticks\":\"\"},\"bgcolor\":\"#E5ECF6\",\"radialaxis\":{\"gridcolor\":\"white\",\"linecolor\":\"white\",\"ticks\":\"\"}},\"scene\":{\"xaxis\":{\"backgroundcolor\":\"#E5ECF6\",\"gridcolor\":\"white\",\"gridwidth\":2,\"linecolor\":\"white\",\"showbackground\":true,\"ticks\":\"\",\"zerolinecolor\":\"white\"},\"yaxis\":{\"backgroundcolor\":\"#E5ECF6\",\"gridcolor\":\"white\",\"gridwidth\":2,\"linecolor\":\"white\",\"showbackground\":true,\"ticks\":\"\",\"zerolinecolor\":\"white\"},\"zaxis\":{\"backgroundcolor\":\"#E5ECF6\",\"gridcolor\":\"white\",\"gridwidth\":2,\"linecolor\":\"white\",\"showbackground\":true,\"ticks\":\"\",\"zerolinecolor\":\"white\"}},\"shapedefaults\":{\"line\":{\"color\":\"#2a3f5f\"}},\"ternary\":{\"aaxis\":{\"gridcolor\":\"white\",\"linecolor\":\"white\",\"ticks\":\"\"},\"baxis\":{\"gridcolor\":\"white\",\"linecolor\":\"white\",\"ticks\":\"\"},\"bgcolor\":\"#E5ECF6\",\"caxis\":{\"gridcolor\":\"white\",\"linecolor\":\"white\",\"ticks\":\"\"}},\"title\":{\"x\":0.05},\"xaxis\":{\"automargin\":true,\"gridcolor\":\"white\",\"linecolor\":\"white\",\"ticks\":\"\",\"title\":{\"standoff\":15},\"zerolinecolor\":\"white\",\"zerolinewidth\":2},\"yaxis\":{\"automargin\":true,\"gridcolor\":\"white\",\"linecolor\":\"white\",\"ticks\":\"\",\"title\":{\"standoff\":15},\"zerolinecolor\":\"white\",\"zerolinewidth\":2}}},\"title\":{\"text\":\"IMDB Score of the Programs in Netflix\"},\"xaxis\":{\"anchor\":\"y\",\"domain\":[0.0,1.0],\"title\":{\"text\":\"IMDB Score\"}},\"yaxis\":{\"anchor\":\"x\",\"domain\":[0.0,1.0],\"title\":{\"text\":\"count\"}}},                        {\"responsive\": true}                    ).then(function(){\n",
       "                            \n",
       "var gd = document.getElementById('fe637836-bec8-4231-8db9-188145e45d20');\n",
       "var x = new MutationObserver(function (mutations, observer) {{\n",
       "        var display = window.getComputedStyle(gd).display;\n",
       "        if (!display || display === 'none') {{\n",
       "            console.log([gd, 'removed!']);\n",
       "            Plotly.purge(gd);\n",
       "            observer.disconnect();\n",
       "        }}\n",
       "}});\n",
       "\n",
       "// Listen for the removal of the full notebook cells\n",
       "var notebookContainer = gd.closest('#notebook-container');\n",
       "if (notebookContainer) {{\n",
       "    x.observe(notebookContainer, {childList: true});\n",
       "}}\n",
       "\n",
       "// Listen for the clearing of the current output cell\n",
       "var outputEl = gd.closest('.output');\n",
       "if (outputEl) {{\n",
       "    x.observe(outputEl, {childList: true});\n",
       "}}\n",
       "\n",
       "                        })                };                });            </script>        </div>"
      ]
     },
     "metadata": {},
     "output_type": "display_data"
    }
   ],
   "source": [
    "fig = px.histogram(df, x= 'IMDB Score', title='IMDB Score of the Programs in Netflix')\n",
    "\n",
    "fig.show()"
   ]
  },
  {
   "cell_type": "code",
   "execution_count": 21,
   "id": "cb71d217",
   "metadata": {
    "_kg_hide-input": true,
    "execution": {
     "iopub.execute_input": "2021-07-21T09:07:27.260874Z",
     "iopub.status.busy": "2021-07-21T09:07:27.260205Z",
     "iopub.status.idle": "2021-07-21T09:07:27.337720Z",
     "shell.execute_reply": "2021-07-21T09:07:27.336478Z",
     "shell.execute_reply.started": "2021-07-13T16:37:55.016182Z"
    },
    "papermill": {
     "duration": 0.151454,
     "end_time": "2021-07-21T09:07:27.337892",
     "exception": false,
     "start_time": "2021-07-21T09:07:27.186438",
     "status": "completed"
    },
    "tags": []
   },
   "outputs": [
    {
     "data": {
      "text/html": [
       "<div>                            <div id=\"32c4203f-7b17-42cb-ae7a-c5952d748e04\" class=\"plotly-graph-div\" style=\"height:525px; width:100%;\"></div>            <script type=\"text/javascript\">                require([\"plotly\"], function(Plotly) {                    window.PLOTLYENV=window.PLOTLYENV || {};                                    if (document.getElementById(\"32c4203f-7b17-42cb-ae7a-c5952d748e04\")) {                    Plotly.newPlot(                        \"32c4203f-7b17-42cb-ae7a-c5952d748e04\",                        [{\"alignmentgroup\":\"True\",\"customdata\":[[\"Enter the Anime\",\"Documentary\"],[\"Dark Forces\",\"Thriller\"],[\"The App\",\"Science fiction/Drama\"],[\"The Open House\",\"Horror thriller\"],[\"Kaali Khuhi\",\"Mystery\"],[\"Drive\",\"Action\"],[\"Leyla Everlasting\",\"Comedy\"],[\"The Last Days of American Crime\",\"Heist film/Thriller\"],[\"Paradox\",\"Musical/Western/Fantasy\"],[\"Sardar Ka Grandson\",\"Comedy\"],[\"Searching for Sheela\",\"Documentary\"],[\"The Call\",\"Drama\"],[\"Whipped\",\"Romantic comedy\"],[\"All Because of You\",\"Action comedy\"],[\"Mercy\",\"Thriller\"],[\"After the Raid\",\"Documentary\"],[\"Ghost Stories\",\"Horror anthology\"],[\"The Last Thing He Wanted\",\"Political thriller\"],[\"What Happened to Mr. Cha?\",\"Comedy\"],[\"Death Note\",\"Horror thriller\"],[\"Hello Privilege. It's Me, Chelsea\",\"Documentary\"],[\"Secret Obsession\",\"Thriller\"],[\"Sextuplets\",\"Comedy\"],[\"The Girl on the Train\",\"Thriller\"],[\"Thunder Force\",\"Superhero-Comedy\"],[\"Fatal Affair\",\"Thriller\"],[\"Just Say Yes\",\"Romantic comedy\"],[\"Seriously Single\",\"Comedy\"],[\"The Misadventures of Hedi and Cokeman\",\"Comedy\"],[\"5 Star Christmas\",\"Comedy\"],[\"After Maria\",\"Documentary\"],[\"I Am the Pretty Thing That Lives in the House\",\"Horror\"],[\"Paris Is Us\",\"Romance drama\"],[\"Porta dos Fundos: The First Temptation of Christ\",\"Comedy\"],[\"Rattlesnake\",\"Horror\"],[\"The Players\",\"Comedy\"],[\"We Are One\",\"Documentary\"],[\"Finding Agnes\",\"Drama\"],[\"IO\",\"Science fiction/Drama\"],[\"Sentinelle\",\"Action\"],[\"Sol Levante\",\"Anime / Short\"],[\"The Binding\",\"Drama\"],[\"We Can Be Heroes\",\"Superhero\"],[\"Christmas Crossfire\",\"Thriller\"],[\"Coin Heist\",\"Heist\"],[\"Mrs. Serial Killer\",\"Thriller\"],[\"Nobody Sleeps in the Woods Tonight\",\"Horror\"],[\"Take the 10\",\"Comedy\"],[\"The Main Event\",\"Comedy\"],[\"The Ridiculous 6\",\"Western\"],[\"Earth and Blood\",\"Action\"],[\"Fearless\",\"Animation/Superhero\"],[\"Holiday Rush\",\"Family film\"],[\"The Day of the Lord\",\"Drama\"],[\"Airplane Mode\",\"Comedy\"],[\"How It Ends\",\"Action-thriller\"],[\"Love Like the Falling Rain\",\"Drama\"],[\"Rebirth\",\"Thriller\"],[\"Squared Love\",\"Romantic comedy\"],[\"Cadaver\",\"Horror\"],[\"Clinical\",\"Thriller\"],[\"Coffee & Kareem\",\"Action comedy\"],[\"Dude\",\"Teen comedy-drama\"],[\"Geez & Ann\",\"Romantic drama\"],[\"The Larva Island Movie\",\"Animation\"],[\"#REALITYHIGH\",\"Comedy\"],[\"American Factory: A Conversation with the Obamas \",\"Aftershow / Interview\"],[\"Desperados\",\"Romantic comedy\"],[\"Dolly Parton's Christmas on the Square\",\"Christmas musical\"],[\"Father of the Year\",\"Comedy\"],[\"Firebrand\",\"Drama\"],[\"Ghost Lab\",\"Horror\"],[\"Girlfriend's Day\",\"Comedy\"],[\"Handsome: A Netflix Mystery Movie\",\"Comedy\"],[\"Hubie Halloween\",\"Comedy\"],[\"Ibiza\",\"Comedy\"],[\"Rim of the World\",\"Science fiction adventure\"],[\"Sandy Wexler\",\"Comedy\"],[\"See You Yesterday\",\"Science fiction\"],[\"Still Laugh-In: The Stars Celebrate\",\"Variety show\"],[\"Strip Down, Rise Up\",\"Documentary\"],[\"Tall Girl\",\"Comedy-drama\"],[\"The Beast\",\"Drama\"],[\"The Week Of\",\"Comedy\"],[\"A Christmas Prince: The Royal Wedding\",\"Romantic comedy\"],[\"Back to School\",\"Comedy\"],[\"Dangerous Lies\",\"Thriller\"],[\"Gunjan Saxena: The Kargil Girl\",\"Drama\"],[\"Intuition\",\"Thriller\"],[\"The Most Assassinated Woman in the World\",\"Thriller\"],[\"Things Heard & Seen\",\"Horror\"],[\"To Each, Her Own\",\"Romantic comedy\"],[\"Who Would You Take to a Deserted Island?\",\"Drama\"],[\"XOXO\",\"Drama\"],[\"A Babysitter's Guide to Monster Hunting\",\"Comedy/Fantasy/Family\"],[\"A Christmas Prince: The Royal Baby\",\"Romantic comedy\"],[\"Despite Everything\",\"Comedy\"],[\"Dolly Kitty and Those Twinkling Stars\",\"Drama\"],[\"Freaks: You're One of Us\",\"Supernatural drama\"],[\"Game Over, Man!\",\"Action/Comedy\"],[\"Guilty\",\"Thriller\"],[\"In the Tall Grass\",\"Horror\"],[\"Madame Claude\",\"Drama\"],[\"Naked\",\"Comedy\"],[\"Outside the Wire\",\"Action/Science fiction\"],[\"The Princess Switch: Switched Again\",\"Romantic comedy\"],[\"Under the Riccione Sun\",\"Romantic teenage drama\"],[\"A Very Murray Christmas\",\"Comedy / Musical\"],[\"Been So Long\",\"Musical\"],[\"Dead Kids\",\"Thriller\"],[\"Get the Grift\",\"Comedy\"],[\"Ghosts of Sugar Land\",\"Documentary\"],[\"House Arrest\",\"Comedy\"],[\"Kevin Hart's Guide to Black History\",\"Variety show\"],[\"Love Wedding Repeat\",\"Romantic comedy\"],[\"Mute\",\"Science fiction/Mystery\"],[\"\\ufffdl\\ufffdt?r\\ufffd\",\"Crime drama\"],[\"Red Dot\",\"Thriller\"],[\"Ride or Die\",\"Psychological thriller drama\"],[\"Step Sisters\",\"Comedy\"],[\"The Cloverfield Paradox\",\"Science fiction\"],[\"The Knight Before Christmas\",\"Romantic comedy\"],[\"The Legacy of a Whitetail Deer Hunter\",\"Adventure/Comedy\"],[\"The Package\",\"Black comedy\"],[\"Unicorn Store\",\"Comedy\"],[\"Wine Country\",\"Comedy\"],[\"Bomb Scared\",\"Black comedy\"],[\"Brahman Naman\",\"Comedy\"],[\"Double Dad\",\"Comedy-drama\"],[\"Falling Inn Love\",\"Romantic comedy\"],[\"Hold the Dark\",\"Thriller\"],[\"Love, Guaranteed\",\"Romantic comedy\"],[\"One-Way to Tomorrow\",\"Romance\"],[\"Sarah Cooper: Everything's Fine\",\"Variety show\"],[\"The Last Laugh\",\"Comedy-drama\"],[\"The Last Paradiso\",\"Romantic drama\"],[\"The Midnight Sky\",\"Science fiction\"],[\"The Paramedic\",\"Thriller\"],[\"The Sleepover\",\"Comedy\"],[\"Vampires vs. the Bronx\",\"Horror comedy\"],[\"Why Did You Kill Me?\",\"Documentary\"],[\"A Week Away\",\"Christian musical\"],[\"Caught by a Wave\",\"Romantic teen drama\"],[\"Christmas Inheritance\",\"Romantic drama\"],[\"Dad Wanted\",\"Family\"],[\"El Camino Christmas\",\"Dark comedy\"],[\"Eli\",\"Horror\"],[\"Ginny Weds Sunny\",\"Romantic comedy\"],[\"Good Sam\",\"Drama\"],[\"Lionheart\",\"Comedy\"],[\"Little Evil\",\"Comedy horror\"],[\"One Take\",\"Documentary\"],[\"Out of Many, One\",\"Documentary\"],[\"Point Blank\",\"Action\"],[\"Prime Time\",\"Thriller\"],[\"The Do-Over\",\"Action comedy\"],[\"The Holiday Calendar\",\"Romantic comedy\"],[\"The Woman in the Window\",\"Psychological thriller\"],[\"The Wrong Missy\",\"Comedy\"],[\"Velvet Buzzsaw\",\"Thriller\"],[\"Yes Day\",\"Comedy\"],[\"15 August\",\"Comedy-drama\"],[\"A California Christmas\",\"Romantic comedy\"],[\"A Christmas Prince\",\"Romantic comedy\"],[\"All Day and a Night\",\"Drama\"],[\"American Son\",\"Drama\"],[\"Barry\",\"Biopic\"],[\"Candy Jar\",\"Comedy\"],[\"Choked: Paisa Bolta Hai\",\"Drama\"],[\"Class of '83\",\"Drama\"],[\"Extinction\",\"Science fiction/Thriller\"],[\"Happy Anniversary\",\"Romantic comedy\"],[\"I Am All Girls\",\"Thriller\"],[\"Let It Snow\",\"Romantic comedy\"],[\"Mascots\",\"Mockumentary\"],[\"Operation Christmas Drop\",\"Romantic comedy\"],[\"Rajma Chawal\",\"Comedy-drama\"],[\"Rich in Love\",\"Romantic comedy\"],[\"Rising High\",\"Satire\"],[\"Rodney King\",\"One-man show\"],[\"Sierra Burgess Is a Loser\",\"Romantic comedy-drama\"],[\"Small Crimes\",\"Dark comedy\"],[\"Special Correspondents\",\"Satire\"],[\"TAU\",\"Science fiction/Thriller\"],[\"The After Party\",\"Comedy\"],[\"The Babysitter: Killer Queen\",\"Comedy/Horror\"],[\"The Claus Family\",\"Fantasy\"],[\"The Kissing Booth 2\",\"Romantic comedy\"],[\"The Perfect Date\",\"Romantic comedy\"],[\"What We Wanted\",\"Drama\"],[\"You've Got This\",\"Romantic comedy\"],[\"6 Balloons\",\"Drama\"],[\"A Fall from Grace\",\"Thriller\"],[\"Amateur\",\"Sports-drama\"],[\"Army of the Dead\",\"Zombie/Heist\"],[\"Cam\",\"Psychological horror\"],[\"Earthquake Bird\",\"Mystery\"],[\"Frankenstein's Monster's Monster, Frankenstein\",\"Mockumentary\"],[\"Horse Girl\",\"Drama\"],[\"Notes from Dunblane: Lesson from a School Shooting\",\"Documentary\"],[\"Maska\",\"Romantic comedy\"],[\"The Decline\",\"Thriller\"],[\"The Minimalists: Less Is Now\",\"Documentary\"],[\"The Polka King\",\"Comedy-drama\"],[\"The Prom\",\"Musical\"],[\"True Memoirs of an International Assassin\",\"Action comedy\"],[\"Ultras\",\"Sports film\"],[\"Come Sunday\",\"Biopic\"],[\"Forgive Us Our Debts\",\"Drama\"],[\"iBoy\",\"Science fiction/Thriller\"],[\"Lovefucked\",\"Drama\"],[\"Juanita\",\"Drama\"],[\"Murder Mystery\",\"Comedy mystery\"],[\"Project Power\",\"Superhero\"],[\"Rebecca\",\"Romantic thriller\"],[\"The Christmas Chronicles: Part Two\",\"Christmas comedy\"],[\"The Kissing Booth\",\"Romantic comedy\"],[\"The Princess Switch\",\"Romantic comedy\"],[\"To All the Boys: P.S. I Still Love You\",\"Romantic comedy\"],[\"War Machine\",\"War-Comedy\"],[\"6 Underground\",\"Action\"],[\"Between Two Ferns: The Movie\",\"Comedy\"],[\"Burning Sands\",\"Drama\"],[\"Casting JonBenet\",\"Documentary\"],[\"Deidra & Laney Rob a Train\",\"Drama\"],[\"Finding 'Ohana\",\"Family\"],[\"Holidate\",\"Romantic comedy/Holiday\"],[\"Holiday in the Wild\",\"Adventure-romance\"],[\"Hot Girls Wanted\",\"Documentary\"],[\"Like Father\",\"Comedy\"],[\"Lost Girls\",\"Crime drama\"],[\"Otherhood\",\"Comedy\"],[\"Pee-wee's Big Holiday\",\"Adventure\"],[\"Rogue City\",\"Crime drama\"],[\"Sergio\",\"Biopic\"],[\"Stuck Apart\",\"Drama\"],[\"Tersanjung the Movie\",\"Drama\"],[\"The Killer\",\"Western\"],[\"The Lovebirds\",\"Romantic comedy\"],[\"The Most Hated Woman in America\",\"Biopic\"],[\"The Perfection\",\"Horror-thriller\"],[\"Tribhanga \\ufffd Tedhi Medhi Crazy\",\"Drama\"],[\"Unknown Origins\",\"Thriller\"],[\"Work It\",\"Dance comedy\"],[\"Alien Xmas\",\"Stop Motion\"],[\"Baggio: The Divine Ponytail\",\"Biopic\"],[\"Below Zero\",\"Drama\"],[\"Citation\",\"Drama\"],[\"Crazy Awesome Teachers\",\"Comedy-drama\"],[\"Have You Ever Seen Fireflies?\",\"Comedy\"],[\"High Flying Bird\",\"Sports-drama\"],[\"In the Shadow of the Moon\",\"Thriller\"],[\"Lost Bullet\",\"Thriller\"],[\"Octonauts & the Caves of Sac Actun\",\"Animation\"],[\"Offering to the Storm\",\"Thriller\"],[\"Roxanne Roxanne\",\"Biopic\"],[\"Someone Great\",\"Romantic comedy\"],[\"Spenser Confidential\",\"Action comedy\"],[\"The Land of Steady Habits\",\"Drama\"],[\"The Rachel Divide\",\"Documentary\"],[\"Voyuer \",\"Documentary\"],[\"Win It All\",\"Comedy\"],[\"1922\",\"Horror/Crime drama\"],[\"A Tale of Two Kitchens\",\"Documentary\"],[\"Alex Strangelove\",\"Romantic comedy\"],[\"Apostle\",\"Horror-thriller\"],[\"Benji\",\"Family film\"],[\"Bright\",\"Urban fantasy\"],[\"Cargo\",\"Drama/Horror\"],[\"Concrete Cowboy\",\"Drama\"],[\"Feel the Beat\",\"Family/Comedy-drama\"],[\"Get the Goat\",\"Comedy\"],[\"I Am Not an Easy Man\",\"Romantic comedy\"],[\"June & Kopi\",\"Drama\"],[\"Music Teacher\",\"Drama\"],[\"Nail Bomber: Manhunt\",\"Documentary\"],[\"Notes for My Son\",\"Drama\"],[\"Polar\",\"Action\"],[\"Porta dos Fundos: The Last Hangover\",\"Comedy\"],[\"Sand Castle\",\"War\"],[\"Shimmer Lake\",\"Crime thriller\"],[\"Spectral\",\"Science fiction/Action\"],[\"The Babysitter\",\"Teen comedy horror\"],[\"The Discovery\",\"Science fiction/Drama\"],[\"The Forest of Love\",\"Drama\"],[\"The Laundromat\",\"Comedy-drama\"],[\"The Legend of Cocaine Island\",\"Documentary\"],[\"The Outsider\",\"Crime drama\"],[\"Time to Hunt\",\"Thriller\"],[\"To All the Boys: Always and Forever\",\"Romantic comedy\"],[\"Travis Scott: Look Mom I Can Fly\",\"Documentary\"],[\"Uncorked\",\"Drama\"],[\"Anelka: Misunderstood\",\"Documentary\"],[\"Ariana Grande: Excuse Me, I Love You\",\"Concert Film\"],[\"ARQ\",\"Science fiction/Thriller\"],[\"Birders\",\"Documentary\"],[\"Como Ca\\ufffddo del Cielo\",\"Musical comedy\"],[\"First Match\",\"Sports-drama\"],[\"Fractured\",\"Thriller\"],[\"Irreplaceable You\",\"Drama\"],[\"Isi & Ossi\",\"Romantic comedy\"],[\"John Was Trying to Contact Aliens\",\"Documentary\"],[\"Layla Majnun\",\"Romantic drama\"],[\"Murder to Mercy: The Cyntoia Brown Story\",\"Documentary\"],[\"My Own Man\",\"Documentary\"],[\"Nappily Ever After\",\"Comedy-drama\"],[\"Over the Moon\",\"Animation/Musical/Adventure\"],[\"Street Flow\",\"Drama\"],[\"Strong Island\",\"Documentary\"],[\"Sturgill Simpson Presents: Sound & Fury\",\"Animation / Musicial\"],[\"Take Your Pills\",\"Documentary\"],[\"The Heartbreak Club\",\"Comedy-drama\"],[\"The Mars Generation\",\"Documentary\"],[\"The Occupant\",\"Thriller\"],[\"The Willoughbys\",\"Animation/Comedy/Adventure\"],[\"Triple Frontier\",\"Action-thriller\"],[\"Two Catalonias\",\"Documentary\"],[\"Walk. Ride. Rodeo.\",\"Drama\"],[\"Wheelman\",\"Action thriller\"],[\"When We First Met\",\"Romantic comedy\"],[\"A 3 Minute Hug\",\"Documentary\"],[\"All the Bright Places\",\"Romance\"],[\"All Together Now\",\"Drama\"],[\"Altered Carbon: Resleeved\",\"Anime/Science fiction\"],[\"Antoine Griezmann: The Making of a Legend\",\"Documentary\"],[\"Canvas \",\"Animation / Short\"],[\"Chadwick Boseman: Portrait of an Artist\",\"Documentary\"],[\"Chopsticks\",\"Comedy\"],[\"Da 5 Bloods\",\"War drama\"],[\"Dolly Parton: A MusiCares Tribute\",\"Documentary\"],[\"Eurovision Song Contest: The Story of Fire Saga\",\"Musical comedy\"],[\"Gerald's Game\",\"Horror thriller\"],[\"His House\",\"Thriller\"],[\"Jingle Jangle: A Christmas Journey\",\"Family/Christmas musical\"],[\"Life Overtakes Me\",\"Documentary\"],[\"Lust Stories\",\"Drama\"],[\"Monster\",\"Drama\"],[\"Mowgli: Legend of the Jungle\",\"Adventure\"],[\"Nobody Knows I'm Here\",\"Drama\"],[\"Nobody Speak: Trials of the Free Press\",\"Documentary\"],[\"Oxygen\",\"Science fiction thriller\"],[\"Set It Up\",\"Romantic comedy\"],[\"The Incredible Jessica James\",\"Comedy\"],[\"Tigertail\",\"Drama\"],[\"Tramps\",\"Romance\"],[\"What Did Jack Do?\",\"Drama / Short\"],[\"Bad Trip\",\"Hidden-camera prank comedy\"],[\"Bird Box\",\"Psychological thriller\"],[\"Bulbbul\",\"Horror\"],[\"Crazy About Her\",\"Romantic comedy\"],[\"Elisa & Marcela\",\"Romance\"],[\"I'll Sleep When I'm Dead\",\"Documentary\"],[\"I'm Thinking of Ending Things\",\"Psychological thriller\"],[\"It Takes a Lunatic\",\"Documentary\"],[\"Milestone\",\"Drama\"],[\"Recovery Boys\",\"Documentary\"],[\"ReMastered: Who Killed Jam Master Jay?\",\"Documentary\"],[\"Shawn Mendes: In Wonder\",\"Documentary\"],[\"Space Sweepers\",\"Science fiction\"],[\"The American Meme\",\"Documentary\"],[\"The Angel\",\"Spy thriller\"],[\"The Crimes That Bind\",\"Crime drama\"],[\"The Red Sea Diving Resort\",\"Spy thriller\"],[\"What Would Sophia Loren Do?\",\"Documentary\"],[\"A Whisker Away\",\"Anime/Fantasy\"],[\"Ajeeb Daastaans\",\"Drama\"],[\"Arlo the Alligator Boy\",\"Animated musical comedy\"],[\"Bikram: Yogi, Guru, Predator\",\"Documentary\"],[\"Blame!\",\"Anime/Science fiction\"],[\"Blue Miracle\",\"Drama\"],[\"CounterPunch \",\"Documentary\"],[\"Crack: Cocaine, Corruption & Conspiracy\",\"Documentary\"],[\"Extraction\",\"Action\"],[\"Giving Voice\",\"Documentary\"],[\"Hillbilly Elegy\",\"Drama\"],[\"Hope Frozen: A Quest to Live Twice\",\"Documentary\"],[\"Imperial Dreams\",\"Drama\"],[\"Just Another Christmas\",\"Comedy\"],[\"Little Miss Sumo\",\"Documentary\"],[\"Malcolm & Marie\",\"Romantic drama\"],[\"Michael Bolton's Big, Sexy, Valentine's Day Special\",\"Variety Show\"],[\"Moxie\",\"Drama\"],[\"Night in Paradise\",\"Drama\"],[\"Paper Lives\",\"Drama\"],[\"Parchis: The Documentary\",\"Documentary\"],[\"Tallulah\",\"Comedy-drama\"],[\"The Old Guard\",\"Superhero/Action\"],[\"Tony Robbins: I Am Not Your Guru\",\"Documentary\"],[\"Upstarts\",\"Drama\"],[\"22 July\",\"Drama\"],[\"7 a\\ufffdos\",\"Drama\"],[\"A Futile and Stupid Gesture\",\"Biographical/Comedy\"],[\"A Life of Speed: The Juan Manuel Fangio Story\",\"Documentary\"],[\"A Love Song for Latasha\",\"Documentary\"],[\"All in My Family\",\"Documentary\"],[\"Always Be My Maybe\",\"Romantic comedy\"],[\"Becoming\",\"Documentary\"],[\"Long Live Brij Mohan\",\"Comedy\"],[\"Calibre\",\"Thriller\"],[\"Death to 2020\",\"Comedy\"],[\"GIMS: On the Record\",\"Documentary\"],[\"Have a Good Trip: Adventures in Psychedelics\",\"Documentary\"],[\"Heroin(e) \",\"Documentary\"],[\"Mercury 13\",\"Documentary\"],[\"Saving Capitalism\",\"Documentary\"],[\"Serious Men\",\"Drama\"],[\"The Boys in the Band\",\"Drama\"],[\"The Boys in the Band: Something Personal\",\"Aftershow / Interview\"],[\"The Life Ahead\",\"Drama\"],[\"The Other Side of the Wind\",\"Drama\"],[\"The Trader\",\"Documentary\"],[\"To the Bone\",\"Drama\"],[\"Tony Parker: The Final Shot\",\"Documentary\"],[\"AK vs AK\",\"Thriller\"],[\"Amanda Knox\",\"Documentary\"],[\"Bigflo & Oil: Hip Hop Frenzy\",\"Documentary\"],[\"Biggie: I Got a Story to Tell\",\"Documentary\"],[\"Cops and Robbers\",\"Animation / Short\"],[\"I Don't Feel at Home in This World Anymore\",\"Drama\"],[\"Laerte-se\",\"Documentary\"],[\"Mank\",\"Biopic\"],[\"Our Souls at Night\",\"Romance\"],[\"Outlaw King\",\"Historical-epic\"],[\"Pagglait\",\"Comedy-drama\"],[\"ReMastered: Who Shot the Sheriff?\",\"Documentary\"],[\"Seeing Allred\",\"Documentary\"],[\"Spelling the Dream\",\"Documentary\"],[\"The Claudia Kishi Club\",\"Documentary\"],[\"The Half of It\",\"Romance\"],[\"The Highwaymen\",\"Crime drama\"],[\"The Lonely Island Presents: The Unauthorized Bash Brothers Experience\",\"Comedy / Musical\"],[\"The Meyerowitz Stories (New and Selected)\",\"Comedy-drama\"],[\"Feminists: What Were They Thinking?\",\"Documentary\"],[\"Gaga: Five Foot Two\",\"Documentary\"],[\"I'm No Longer Here: A Discussion with Guillermo del Toro and Alfonso Cuaron\",\"Aftershow / Interview\"],[\"Kingdom of Us\",\"Documentary\"],[\"Lorena, Light-Footed Woman\",\"Documentary\"],[\"Los Tigres del Norte at Folsom Prison\",\"Documentary\"],[\"Ma Rainey's Black Bottom\",\"Drama\"],[\"Ma Rainey's Black Bottom: A Legacy Brought to Screen\",\"Aftershow / Interview\"],[\"Operation Varsity Blues: The College Admissions Scandal\",\"Documentary\"],[\"Pele\",\"Documentary\"],[\"ReMastered: Devil at the Crossroads\",\"Documentary\"],[\"ReMastered: The Lion's Share\",\"Documentary\"],[\"ReMastered: The Miami Showband Massacre\",\"Documentary\"],[\"Resurface\",\"Documentary\"],[\"Rocko's Modern Life: Static Cling\",\"Animation / Comedy\"],[\"Rose Island\",\"Comedy\"],[\"The Christmas Chronicles\",\"Christmas/Fantasy/Adventure/Comedy\"],[\"The Dirt\",\"Biopic\"],[\"The Night Comes for Us\",\"Action-thriller\"],[\"13th: A Conversation with Oprah Winfrey & Ava DuVernay\",\"Aftershow / Interview\"],[\"Angela's Christmas\",\"Animation\"],[\"Angela's Christmas Wish\",\"Animation\"],[\"Beats\",\"Drama\"],[\"Circus of Books\",\"Documentary\"],[\"Dance Dreams: Hot Chocolate Nutcracker\",\"Documentary\"],[\"Derren Brown: Sacrifice\",\"Mentalism special\"],[\"El Pepe: A Supreme Life\",\"Documentary\"],[\"End Game\",\"Documentary\"],[\"Evelyn\",\"Documentary\"],[\"Ferry\",\"Crime drama\"],[\"Grass Is Greener\",\"Documentary\"],[\"Guillermo Vilas: Settling the Score\",\"Documentary\"],[\"Joshua: Teenager vs. Superpower\",\"Documentary\"],[\"Keith Richards: Under the Influence\",\"Documentary\"],[\"Knock Down the House\",\"Documentary\"],[\"Loudon Wainwright III: Surviving Twin\",\"One-man show\"],[\"My Beautiful Broken Brain\",\"Documentary\"],[\"One of Us\",\"Documentary\"],[\"Pieces of a Woman\",\"Drama\"],[\"Ram Dass, Going Home\",\"Documentary\"],[\"ReMastered: Tricky Dick & the Man in Black\",\"Documentary\"],[\"Rooting for Roona\",\"Documentary\"],[\"The Devil All the Time\",\"Psychological thriller\"],[\"The Dig\",\"Drama\"],[\"The Great Hack\",\"Documentary\"],[\"The White Tiger\",\"Drama\"],[\"To All the Boys I've Loved Before\",\"Romantic comedy\"],[\"American Murder: The Family Next Door\",\"Documentary\"],[\"Audrie & Daisy\",\"Documentary\"],[\"First They Killed My Father\",\"Drama\"],[\"Fyre: The Greatest Party That Never Happened\",\"Documentary\"],[\"Into the Inferno\",\"Documentary\"],[\"LA Originals\",\"Documentary\"],[\"Ladies First\",\"Documentary\"],[\"Love per Square Foot\",\"Romantic comedy\"],[\"Paddleton\",\"Drama-Comedy\"],[\"Private Life\",\"Drama\"],[\"Seventeen\",\"Coming-of-age comedy-drama\"],[\"Sometimes\",\"Drama\"],[\"Soni\",\"Crime drama\"],[\"The 40-Year-Old Version\",\"Comedy\"],[\"The Disciple\",\"Drama\"],[\"The Edge of Democracy\",\"Documentary\"],[\"The King\",\"Historical drama\"],[\"The Road to El Camino: A Breaking Bad Movie\",\"Making-of\"],[\"The Siege of Jadotville\",\"War\"],[\"Zion \",\"Documentary\"],[\"Dolemite Is My Name\",\"Biopic\"],[\"El Camino: A Breaking Bad Movie\",\"Crime drama\"],[\"Extremis\",\"Documentary\"],[\"Father Soldier Son\",\"Documentary\"],[\"Get Me Roger Stone\",\"Documentary\"],[\"I'm No Longer Here\",\"Drama\"],[\"Mucho Mucho Amor: The Legend of Walter Mercado \",\"Documentary\"],[\"Octonauts & the Great Barrier Reef\",\"Animation\"],[\"Okja\",\"Action-adventure\"],[\"On My Skin\",\"Crime drama\"],[\"Raat Akeli Hai\",\"Thriller\"],[\"ReMastered: Massacre at the Stadium\",\"Documentary\"],[\"ReMastered: The Two Killings of Sam Cooke\",\"Documentary\"],[\"Secrets of the Saqqara Tomb\",\"Documentary\"],[\"Sitara: Let Girls Dream\",\"Animation / Short\"],[\"Sky Ladder: The Art of Cai Guo-Qiang\",\"Documentary\"],[\"Team Foxcatcher\",\"Documentary\"],[\"The Ballad of Buster Scruggs\",\"Western\"],[\"The Death and Life of Marsha P. Johnson\",\"Documentary\"],[\"The Fundamentals of Caring\",\"Comedy-drama\"],[\"The Other One: The Long Strange Trip of Bob Weir\",\"Documentary\"],[\"American Factory\",\"Documentary\"],[\"Fire in Paradise\",\"Documentary\"],[\"Long Shot\",\"Documentary\"],[\"Miss Americana\",\"Documentary\"],[\"Period. End of Sentence.\",\"Documentary\"],[\"Shawn Mendes: Live in Concert\",\"Concert Film\"],[\"Shirkers\",\"Documentary\"],[\"The Black Godfather\",\"Documentary\"],[\"The Irishman: In Conversation\",\"Aftershow / Interview\"],[\"The Speed Cubers\",\"Documentary\"],[\"They'll Love Me When I'm Dead\",\"Documentary\"],[\"Tig\",\"Documentary\"],[\"Barbra: The Music, The Mem'ries, The Magic!\",\"Concert Film\"],[\"Blackpink: Light Up the Sky\",\"Documentary\"],[\"City of Joy\",\"Documentary\"],[\"Dick Johnson Is Dead\",\"Documentary\"],[\"Homecoming: A Film by Beyonce \",\"Documentary\"],[\"Invader Zim: Enter the Florpus\",\"Animation / Science Fiction\"],[\"Joan Didion: The Center Will Not Hold\",\"Documentary\"],[\"John Mulaney & the Sack Lunch Bunch\",\"Variety show\"],[\"Reversing Roe\",\"Documentary\"],[\"The White Helmets\",\"Documentary\"],[\"Athlete A\",\"Documentary\"],[\"Ludo\",\"Anthology/Dark comedy\"],[\"Quincy\",\"Documentary\"],[\"Rolling Thunder Revue: A bob Dylan Story by Martin Scorsere\",\"Documentary\"],[\"Tell Me Who I Am\",\"Documentary\"],[\"The Bleeding Edge\",\"Documentary\"],[\"The Social Dilemma\",\"Documentary\"],[\"The Two Popes\",\"Drama\"],[\"What Happened, Miss Simone?\",\"Documentary\"],[\"Yeh Ballet\",\"Drama\"],[\"Anima\",\"Musical / Short\"],[\"Beasts of No Nation\",\"War drama\"],[\"Brene Brown: The Call to Courage\",\"Documentary\"],[\"Crip Camp: A Disability Revolution\",\"Documentary\"],[\"Jim & Andy: The Great Beyond - Featuring a Very Special, Contractually Obligated Mention of Tony Cliffton \",\"Documentary\"],[\"Justin Timberlake + The Tennessee Kids\",\"Concert Film\"],[\"Road to Roma\",\"Making-of\"],[\"Roma\",\"Drama\"],[\"If Anything Happens I Love You\",\"Animation / Short\"],[\"The Irishman\",\"Crime drama\"],[\"The Trial of the Chicago 7\",\"Drama\"],[\"A Secret Love\",\"Documentary\"],[\"Icarus\",\"Documentary\"],[\"Marriage Story\",\"Drama\"],[\"The Ivory Game\",\"Documentary\"],[\"Struggle: The Life and Lost Art of Szukaiski\",\"Documentary\"],[\"Chasing Coral \",\"Documentary\"],[\"My Octopus Teacher\",\"Documentary\"],[\"Rising Phoenix\",\"Documentary\"],[\"13th\",\"Documentary\"],[\"Disclosure: Trans Lives on Screen\",\"Documentary\"],[\"Klaus\",\"Animation/Christmas/Comedy/Adventure\"],[\"Seaspiracy\",\"Documentary\"],[\"The Three Deaths of Marisela Escobedo\",\"Documentary\"],[\"Cuba and the Cameraman \",\"Documentary\"],[\"Dancing with the Birds\",\"Documentary\"],[\"Ben Platt: Live from Radio City Music Hall\",\"Concert Film\"],[\"Taylor Swift: Reputation Stadium Tour\",\"Concert Film\"],[\"Winter on Fire: Ukraine's Fight for Freedom\",\"Documentary\"],[\"Springsteen on Broadway\",\"One-man show\"],[\"Emicida: AmarElo - It's All For Yesterday\",\"Documentary\"],[\"David Attenborough: A Life on Our Planet\",\"Documentary\"]],\"hovertemplate\":\"IMDB Score=%{x}<br>Title=%{customdata[0]}<br>Genre=%{customdata[1]}<extra></extra>\",\"legendgroup\":\"\",\"marker\":{\"color\":\"#636efa\"},\"name\":\"\",\"notched\":false,\"offsetgroup\":\"\",\"orientation\":\"h\",\"quartilemethod\":\"inclusive\",\"showlegend\":false,\"type\":\"box\",\"x\":[2.5,2.6,2.6,3.2,3.4,3.5,3.7,3.7,3.9,4.1,4.1,4.1,4.1,4.2,4.2,4.3,4.3,4.3,4.3,4.4,4.4,4.4,4.4,4.4,4.4,4.5,4.5,4.5,4.5,4.6,4.6,4.6,4.6,4.6,4.6,4.6,4.6,4.7,4.7,4.7,4.7,4.7,4.7,4.8,4.8,4.8,4.8,4.8,4.8,4.8,4.9,4.9,4.9,4.9,5.0,5.0,5.0,5.0,5.0,5.1,5.1,5.1,5.1,5.1,5.1,5.2,5.2,5.2,5.2,5.2,5.2,5.2,5.2,5.2,5.2,5.2,5.2,5.2,5.2,5.2,5.2,5.2,5.2,5.2,5.3,5.3,5.3,5.3,5.3,5.3,5.3,5.3,5.3,5.3,5.4,5.4,5.4,5.4,5.4,5.4,5.4,5.4,5.4,5.4,5.4,5.4,5.4,5.5,5.5,5.5,5.5,5.5,5.5,5.5,5.5,5.5,5.5,5.5,5.5,5.5,5.5,5.5,5.5,5.5,5.5,5.5,5.6,5.6,5.6,5.6,5.6,5.6,5.6,5.6,5.6,5.6,5.6,5.6,5.6,5.6,5.6,5.7,5.7,5.7,5.7,5.7,5.7,5.7,5.7,5.7,5.7,5.7,5.7,5.7,5.7,5.7,5.7,5.7,5.7,5.7,5.7,5.8,5.8,5.8,5.8,5.8,5.8,5.8,5.8,5.8,5.8,5.8,5.8,5.8,5.8,5.8,5.8,5.8,5.8,5.8,5.8,5.8,5.8,5.8,5.8,5.8,5.8,5.8,5.8,5.8,5.8,5.9,5.9,5.9,5.9,5.9,5.9,5.9,5.9,5.9,5.9,5.9,5.9,5.9,5.9,5.9,5.9,6.0,6.0,6.0,6.0,6.0,6.0,6.0,6.0,6.0,6.0,6.0,6.0,6.0,6.1,6.1,6.1,6.1,6.1,6.1,6.1,6.1,6.1,6.1,6.1,6.1,6.1,6.1,6.1,6.1,6.1,6.1,6.1,6.1,6.1,6.1,6.1,6.1,6.2,6.2,6.2,6.2,6.2,6.2,6.2,6.2,6.2,6.2,6.2,6.2,6.2,6.2,6.2,6.2,6.2,6.2,6.3,6.3,6.3,6.3,6.3,6.3,6.3,6.3,6.3,6.3,6.3,6.3,6.3,6.3,6.3,6.3,6.3,6.3,6.3,6.3,6.3,6.3,6.3,6.3,6.3,6.3,6.3,6.3,6.3,6.3,6.4,6.4,6.4,6.4,6.4,6.4,6.4,6.4,6.4,6.4,6.4,6.4,6.4,6.4,6.4,6.4,6.4,6.4,6.4,6.4,6.4,6.4,6.4,6.4,6.4,6.4,6.4,6.4,6.5,6.5,6.5,6.5,6.5,6.5,6.5,6.5,6.5,6.5,6.5,6.5,6.5,6.5,6.5,6.5,6.5,6.5,6.5,6.5,6.5,6.5,6.5,6.5,6.5,6.5,6.6,6.6,6.6,6.6,6.6,6.6,6.6,6.6,6.6,6.6,6.6,6.6,6.6,6.6,6.6,6.6,6.6,6.6,6.7,6.7,6.7,6.7,6.7,6.7,6.7,6.7,6.7,6.7,6.7,6.7,6.7,6.7,6.7,6.7,6.7,6.7,6.7,6.7,6.7,6.7,6.7,6.7,6.7,6.8,6.8,6.8,6.8,6.8,6.8,6.8,6.8,6.8,6.8,6.8,6.8,6.8,6.8,6.8,6.8,6.8,6.8,6.8,6.8,6.8,6.8,6.8,6.8,6.9,6.9,6.9,6.9,6.9,6.9,6.9,6.9,6.9,6.9,6.9,6.9,6.9,6.9,6.9,6.9,6.9,6.9,6.9,7.0,7.0,7.0,7.0,7.0,7.0,7.0,7.0,7.0,7.0,7.0,7.0,7.0,7.0,7.0,7.0,7.0,7.0,7.0,7.1,7.1,7.1,7.1,7.1,7.1,7.1,7.1,7.1,7.1,7.1,7.1,7.1,7.1,7.1,7.1,7.1,7.1,7.1,7.1,7.1,7.1,7.1,7.1,7.1,7.1,7.1,7.1,7.2,7.2,7.2,7.2,7.2,7.2,7.2,7.2,7.2,7.2,7.2,7.2,7.2,7.2,7.2,7.2,7.2,7.2,7.2,7.2,7.3,7.3,7.3,7.3,7.3,7.3,7.3,7.3,7.3,7.3,7.3,7.3,7.3,7.3,7.3,7.3,7.3,7.3,7.3,7.3,7.3,7.4,7.4,7.4,7.4,7.4,7.4,7.4,7.4,7.4,7.4,7.4,7.4,7.5,7.5,7.5,7.5,7.5,7.5,7.5,7.5,7.5,7.5,7.6,7.6,7.6,7.6,7.6,7.6,7.6,7.6,7.6,7.6,7.7,7.7,7.7,7.7,7.7,7.7,7.7,7.7,7.8,7.8,7.8,7.9,7.9,7.9,7.9,8.0,8.1,8.1,8.1,8.2,8.2,8.2,8.2,8.2,8.3,8.3,8.4,8.4,8.4,8.5,8.6,9.0],\"x0\":\" \",\"xaxis\":\"x\",\"y0\":\" \",\"yaxis\":\"y\"}],                        {\"boxmode\":\"group\",\"legend\":{\"tracegroupgap\":0},\"margin\":{\"t\":60},\"template\":{\"data\":{\"bar\":[{\"error_x\":{\"color\":\"#2a3f5f\"},\"error_y\":{\"color\":\"#2a3f5f\"},\"marker\":{\"line\":{\"color\":\"#E5ECF6\",\"width\":0.5},\"pattern\":{\"fillmode\":\"overlay\",\"size\":10,\"solidity\":0.2}},\"type\":\"bar\"}],\"barpolar\":[{\"marker\":{\"line\":{\"color\":\"#E5ECF6\",\"width\":0.5},\"pattern\":{\"fillmode\":\"overlay\",\"size\":10,\"solidity\":0.2}},\"type\":\"barpolar\"}],\"carpet\":[{\"aaxis\":{\"endlinecolor\":\"#2a3f5f\",\"gridcolor\":\"white\",\"linecolor\":\"white\",\"minorgridcolor\":\"white\",\"startlinecolor\":\"#2a3f5f\"},\"baxis\":{\"endlinecolor\":\"#2a3f5f\",\"gridcolor\":\"white\",\"linecolor\":\"white\",\"minorgridcolor\":\"white\",\"startlinecolor\":\"#2a3f5f\"},\"type\":\"carpet\"}],\"choropleth\":[{\"colorbar\":{\"outlinewidth\":0,\"ticks\":\"\"},\"type\":\"choropleth\"}],\"contour\":[{\"colorbar\":{\"outlinewidth\":0,\"ticks\":\"\"},\"colorscale\":[[0.0,\"#0d0887\"],[0.1111111111111111,\"#46039f\"],[0.2222222222222222,\"#7201a8\"],[0.3333333333333333,\"#9c179e\"],[0.4444444444444444,\"#bd3786\"],[0.5555555555555556,\"#d8576b\"],[0.6666666666666666,\"#ed7953\"],[0.7777777777777778,\"#fb9f3a\"],[0.8888888888888888,\"#fdca26\"],[1.0,\"#f0f921\"]],\"type\":\"contour\"}],\"contourcarpet\":[{\"colorbar\":{\"outlinewidth\":0,\"ticks\":\"\"},\"type\":\"contourcarpet\"}],\"heatmap\":[{\"colorbar\":{\"outlinewidth\":0,\"ticks\":\"\"},\"colorscale\":[[0.0,\"#0d0887\"],[0.1111111111111111,\"#46039f\"],[0.2222222222222222,\"#7201a8\"],[0.3333333333333333,\"#9c179e\"],[0.4444444444444444,\"#bd3786\"],[0.5555555555555556,\"#d8576b\"],[0.6666666666666666,\"#ed7953\"],[0.7777777777777778,\"#fb9f3a\"],[0.8888888888888888,\"#fdca26\"],[1.0,\"#f0f921\"]],\"type\":\"heatmap\"}],\"heatmapgl\":[{\"colorbar\":{\"outlinewidth\":0,\"ticks\":\"\"},\"colorscale\":[[0.0,\"#0d0887\"],[0.1111111111111111,\"#46039f\"],[0.2222222222222222,\"#7201a8\"],[0.3333333333333333,\"#9c179e\"],[0.4444444444444444,\"#bd3786\"],[0.5555555555555556,\"#d8576b\"],[0.6666666666666666,\"#ed7953\"],[0.7777777777777778,\"#fb9f3a\"],[0.8888888888888888,\"#fdca26\"],[1.0,\"#f0f921\"]],\"type\":\"heatmapgl\"}],\"histogram\":[{\"marker\":{\"pattern\":{\"fillmode\":\"overlay\",\"size\":10,\"solidity\":0.2}},\"type\":\"histogram\"}],\"histogram2d\":[{\"colorbar\":{\"outlinewidth\":0,\"ticks\":\"\"},\"colorscale\":[[0.0,\"#0d0887\"],[0.1111111111111111,\"#46039f\"],[0.2222222222222222,\"#7201a8\"],[0.3333333333333333,\"#9c179e\"],[0.4444444444444444,\"#bd3786\"],[0.5555555555555556,\"#d8576b\"],[0.6666666666666666,\"#ed7953\"],[0.7777777777777778,\"#fb9f3a\"],[0.8888888888888888,\"#fdca26\"],[1.0,\"#f0f921\"]],\"type\":\"histogram2d\"}],\"histogram2dcontour\":[{\"colorbar\":{\"outlinewidth\":0,\"ticks\":\"\"},\"colorscale\":[[0.0,\"#0d0887\"],[0.1111111111111111,\"#46039f\"],[0.2222222222222222,\"#7201a8\"],[0.3333333333333333,\"#9c179e\"],[0.4444444444444444,\"#bd3786\"],[0.5555555555555556,\"#d8576b\"],[0.6666666666666666,\"#ed7953\"],[0.7777777777777778,\"#fb9f3a\"],[0.8888888888888888,\"#fdca26\"],[1.0,\"#f0f921\"]],\"type\":\"histogram2dcontour\"}],\"mesh3d\":[{\"colorbar\":{\"outlinewidth\":0,\"ticks\":\"\"},\"type\":\"mesh3d\"}],\"parcoords\":[{\"line\":{\"colorbar\":{\"outlinewidth\":0,\"ticks\":\"\"}},\"type\":\"parcoords\"}],\"pie\":[{\"automargin\":true,\"type\":\"pie\"}],\"scatter\":[{\"marker\":{\"colorbar\":{\"outlinewidth\":0,\"ticks\":\"\"}},\"type\":\"scatter\"}],\"scatter3d\":[{\"line\":{\"colorbar\":{\"outlinewidth\":0,\"ticks\":\"\"}},\"marker\":{\"colorbar\":{\"outlinewidth\":0,\"ticks\":\"\"}},\"type\":\"scatter3d\"}],\"scattercarpet\":[{\"marker\":{\"colorbar\":{\"outlinewidth\":0,\"ticks\":\"\"}},\"type\":\"scattercarpet\"}],\"scattergeo\":[{\"marker\":{\"colorbar\":{\"outlinewidth\":0,\"ticks\":\"\"}},\"type\":\"scattergeo\"}],\"scattergl\":[{\"marker\":{\"colorbar\":{\"outlinewidth\":0,\"ticks\":\"\"}},\"type\":\"scattergl\"}],\"scattermapbox\":[{\"marker\":{\"colorbar\":{\"outlinewidth\":0,\"ticks\":\"\"}},\"type\":\"scattermapbox\"}],\"scatterpolar\":[{\"marker\":{\"colorbar\":{\"outlinewidth\":0,\"ticks\":\"\"}},\"type\":\"scatterpolar\"}],\"scatterpolargl\":[{\"marker\":{\"colorbar\":{\"outlinewidth\":0,\"ticks\":\"\"}},\"type\":\"scatterpolargl\"}],\"scatterternary\":[{\"marker\":{\"colorbar\":{\"outlinewidth\":0,\"ticks\":\"\"}},\"type\":\"scatterternary\"}],\"surface\":[{\"colorbar\":{\"outlinewidth\":0,\"ticks\":\"\"},\"colorscale\":[[0.0,\"#0d0887\"],[0.1111111111111111,\"#46039f\"],[0.2222222222222222,\"#7201a8\"],[0.3333333333333333,\"#9c179e\"],[0.4444444444444444,\"#bd3786\"],[0.5555555555555556,\"#d8576b\"],[0.6666666666666666,\"#ed7953\"],[0.7777777777777778,\"#fb9f3a\"],[0.8888888888888888,\"#fdca26\"],[1.0,\"#f0f921\"]],\"type\":\"surface\"}],\"table\":[{\"cells\":{\"fill\":{\"color\":\"#EBF0F8\"},\"line\":{\"color\":\"white\"}},\"header\":{\"fill\":{\"color\":\"#C8D4E3\"},\"line\":{\"color\":\"white\"}},\"type\":\"table\"}]},\"layout\":{\"annotationdefaults\":{\"arrowcolor\":\"#2a3f5f\",\"arrowhead\":0,\"arrowwidth\":1},\"autotypenumbers\":\"strict\",\"coloraxis\":{\"colorbar\":{\"outlinewidth\":0,\"ticks\":\"\"}},\"colorscale\":{\"diverging\":[[0,\"#8e0152\"],[0.1,\"#c51b7d\"],[0.2,\"#de77ae\"],[0.3,\"#f1b6da\"],[0.4,\"#fde0ef\"],[0.5,\"#f7f7f7\"],[0.6,\"#e6f5d0\"],[0.7,\"#b8e186\"],[0.8,\"#7fbc41\"],[0.9,\"#4d9221\"],[1,\"#276419\"]],\"sequential\":[[0.0,\"#0d0887\"],[0.1111111111111111,\"#46039f\"],[0.2222222222222222,\"#7201a8\"],[0.3333333333333333,\"#9c179e\"],[0.4444444444444444,\"#bd3786\"],[0.5555555555555556,\"#d8576b\"],[0.6666666666666666,\"#ed7953\"],[0.7777777777777778,\"#fb9f3a\"],[0.8888888888888888,\"#fdca26\"],[1.0,\"#f0f921\"]],\"sequentialminus\":[[0.0,\"#0d0887\"],[0.1111111111111111,\"#46039f\"],[0.2222222222222222,\"#7201a8\"],[0.3333333333333333,\"#9c179e\"],[0.4444444444444444,\"#bd3786\"],[0.5555555555555556,\"#d8576b\"],[0.6666666666666666,\"#ed7953\"],[0.7777777777777778,\"#fb9f3a\"],[0.8888888888888888,\"#fdca26\"],[1.0,\"#f0f921\"]]},\"colorway\":[\"#636efa\",\"#EF553B\",\"#00cc96\",\"#ab63fa\",\"#FFA15A\",\"#19d3f3\",\"#FF6692\",\"#B6E880\",\"#FF97FF\",\"#FECB52\"],\"font\":{\"color\":\"#2a3f5f\"},\"geo\":{\"bgcolor\":\"white\",\"lakecolor\":\"white\",\"landcolor\":\"#E5ECF6\",\"showlakes\":true,\"showland\":true,\"subunitcolor\":\"white\"},\"hoverlabel\":{\"align\":\"left\"},\"hovermode\":\"closest\",\"mapbox\":{\"style\":\"light\"},\"paper_bgcolor\":\"white\",\"plot_bgcolor\":\"#E5ECF6\",\"polar\":{\"angularaxis\":{\"gridcolor\":\"white\",\"linecolor\":\"white\",\"ticks\":\"\"},\"bgcolor\":\"#E5ECF6\",\"radialaxis\":{\"gridcolor\":\"white\",\"linecolor\":\"white\",\"ticks\":\"\"}},\"scene\":{\"xaxis\":{\"backgroundcolor\":\"#E5ECF6\",\"gridcolor\":\"white\",\"gridwidth\":2,\"linecolor\":\"white\",\"showbackground\":true,\"ticks\":\"\",\"zerolinecolor\":\"white\"},\"yaxis\":{\"backgroundcolor\":\"#E5ECF6\",\"gridcolor\":\"white\",\"gridwidth\":2,\"linecolor\":\"white\",\"showbackground\":true,\"ticks\":\"\",\"zerolinecolor\":\"white\"},\"zaxis\":{\"backgroundcolor\":\"#E5ECF6\",\"gridcolor\":\"white\",\"gridwidth\":2,\"linecolor\":\"white\",\"showbackground\":true,\"ticks\":\"\",\"zerolinecolor\":\"white\"}},\"shapedefaults\":{\"line\":{\"color\":\"#2a3f5f\"}},\"ternary\":{\"aaxis\":{\"gridcolor\":\"white\",\"linecolor\":\"white\",\"ticks\":\"\"},\"baxis\":{\"gridcolor\":\"white\",\"linecolor\":\"white\",\"ticks\":\"\"},\"bgcolor\":\"#E5ECF6\",\"caxis\":{\"gridcolor\":\"white\",\"linecolor\":\"white\",\"ticks\":\"\"}},\"title\":{\"x\":0.05},\"xaxis\":{\"automargin\":true,\"gridcolor\":\"white\",\"linecolor\":\"white\",\"ticks\":\"\",\"title\":{\"standoff\":15},\"zerolinecolor\":\"white\",\"zerolinewidth\":2},\"yaxis\":{\"automargin\":true,\"gridcolor\":\"white\",\"linecolor\":\"white\",\"ticks\":\"\",\"title\":{\"standoff\":15},\"zerolinecolor\":\"white\",\"zerolinewidth\":2}}},\"xaxis\":{\"anchor\":\"y\",\"domain\":[0.0,1.0],\"title\":{\"text\":\"IMDB Score\"}},\"yaxis\":{\"anchor\":\"x\",\"domain\":[0.0,1.0]}},                        {\"responsive\": true}                    ).then(function(){\n",
       "                            \n",
       "var gd = document.getElementById('32c4203f-7b17-42cb-ae7a-c5952d748e04');\n",
       "var x = new MutationObserver(function (mutations, observer) {{\n",
       "        var display = window.getComputedStyle(gd).display;\n",
       "        if (!display || display === 'none') {{\n",
       "            console.log([gd, 'removed!']);\n",
       "            Plotly.purge(gd);\n",
       "            observer.disconnect();\n",
       "        }}\n",
       "}});\n",
       "\n",
       "// Listen for the removal of the full notebook cells\n",
       "var notebookContainer = gd.closest('#notebook-container');\n",
       "if (notebookContainer) {{\n",
       "    x.observe(notebookContainer, {childList: true});\n",
       "}}\n",
       "\n",
       "// Listen for the clearing of the current output cell\n",
       "var outputEl = gd.closest('.output');\n",
       "if (outputEl) {{\n",
       "    x.observe(outputEl, {childList: true});\n",
       "}}\n",
       "\n",
       "                        })                };                });            </script>        </div>"
      ]
     },
     "metadata": {},
     "output_type": "display_data"
    }
   ],
   "source": [
    "fig = px.box(df, x= 'IMDB Score', hover_data = df[['Title','Genre']])\n",
    "fig.update_traces(quartilemethod=\"inclusive\")\n",
    "fig.show()"
   ]
  },
  {
   "cell_type": "markdown",
   "id": "a2469e72",
   "metadata": {
    "papermill": {
     "duration": 0.060708,
     "end_time": "2021-07-21T09:07:27.465673",
     "exception": false,
     "start_time": "2021-07-21T09:07:27.404965",
     "status": "completed"
    },
    "tags": []
   },
   "source": [
    "- **David Attenborough** and his documentaries, I love him. He is true hero and excellent documentary producer-presenter. it is very normal for me to see, his documentary got 9 maximum point in the list.\n",
    "\n",
    "- Minimum rating is 'Enter the Anime'.\n",
    "\n",
    "- Interestingly both maximum and minimum rating programs are from documentary genre."
   ]
  },
  {
   "cell_type": "markdown",
   "id": "96509697",
   "metadata": {
    "papermill": {
     "duration": 0.060081,
     "end_time": "2021-07-21T09:07:27.586773",
     "exception": false,
     "start_time": "2021-07-21T09:07:27.526692",
     "status": "completed"
    },
    "tags": []
   },
   "source": [
    "#### Correlation Between Runtime and IMDB Ratings"
   ]
  },
  {
   "cell_type": "code",
   "execution_count": 22,
   "id": "c7980d44",
   "metadata": {
    "_kg_hide-input": true,
    "execution": {
     "iopub.execute_input": "2021-07-21T09:07:27.721652Z",
     "iopub.status.busy": "2021-07-21T09:07:27.720979Z",
     "iopub.status.idle": "2021-07-21T09:07:27.725214Z",
     "shell.execute_reply": "2021-07-21T09:07:27.724556Z",
     "shell.execute_reply.started": "2021-07-13T16:37:55.092091Z"
    },
    "papermill": {
     "duration": 0.077635,
     "end_time": "2021-07-21T09:07:27.725367",
     "exception": false,
     "start_time": "2021-07-21T09:07:27.647732",
     "status": "completed"
    },
    "tags": []
   },
   "outputs": [
    {
     "data": {
      "text/html": [
       "<div>\n",
       "<style scoped>\n",
       "    .dataframe tbody tr th:only-of-type {\n",
       "        vertical-align: middle;\n",
       "    }\n",
       "\n",
       "    .dataframe tbody tr th {\n",
       "        vertical-align: top;\n",
       "    }\n",
       "\n",
       "    .dataframe thead th {\n",
       "        text-align: right;\n",
       "    }\n",
       "</style>\n",
       "<table border=\"1\" class=\"dataframe\">\n",
       "  <thead>\n",
       "    <tr style=\"text-align: right;\">\n",
       "      <th></th>\n",
       "      <th>IMDB Score</th>\n",
       "      <th>Runtime</th>\n",
       "    </tr>\n",
       "  </thead>\n",
       "  <tbody>\n",
       "    <tr>\n",
       "      <th>IMDB Score</th>\n",
       "      <td>1.000000</td>\n",
       "      <td>-0.040896</td>\n",
       "    </tr>\n",
       "    <tr>\n",
       "      <th>Runtime</th>\n",
       "      <td>-0.040896</td>\n",
       "      <td>1.000000</td>\n",
       "    </tr>\n",
       "  </tbody>\n",
       "</table>\n",
       "</div>"
      ],
      "text/plain": [
       "            IMDB Score   Runtime\n",
       "IMDB Score    1.000000 -0.040896\n",
       "Runtime      -0.040896  1.000000"
      ]
     },
     "execution_count": 22,
     "metadata": {},
     "output_type": "execute_result"
    }
   ],
   "source": [
    "df[['IMDB Score','Runtime']].corr()"
   ]
  },
  {
   "cell_type": "code",
   "execution_count": 23,
   "id": "5d1f9972",
   "metadata": {
    "_kg_hide-input": true,
    "execution": {
     "iopub.execute_input": "2021-07-21T09:07:27.853833Z",
     "iopub.status.busy": "2021-07-21T09:07:27.853028Z",
     "iopub.status.idle": "2021-07-21T09:07:27.932327Z",
     "shell.execute_reply": "2021-07-21T09:07:27.931621Z",
     "shell.execute_reply.started": "2021-07-13T16:37:55.107351Z"
    },
    "papermill": {
     "duration": 0.145644,
     "end_time": "2021-07-21T09:07:27.932536",
     "exception": false,
     "start_time": "2021-07-21T09:07:27.786892",
     "status": "completed"
    },
    "tags": []
   },
   "outputs": [
    {
     "data": {
      "text/html": [
       "<div>                            <div id=\"405a3fea-878a-4249-beab-3fc7cfde7474\" class=\"plotly-graph-div\" style=\"height:525px; width:100%;\"></div>            <script type=\"text/javascript\">                require([\"plotly\"], function(Plotly) {                    window.PLOTLYENV=window.PLOTLYENV || {};                                    if (document.getElementById(\"405a3fea-878a-4249-beab-3fc7cfde7474\")) {                    Plotly.newPlot(                        \"405a3fea-878a-4249-beab-3fc7cfde7474\",                        [{\"hovertemplate\":\"IMDB Score=%{x}<br>Runtime=%{y}<extra></extra>\",\"legendgroup\":\"\",\"marker\":{\"color\":\"#636efa\",\"symbol\":\"circle\"},\"mode\":\"markers\",\"name\":\"\",\"orientation\":\"v\",\"showlegend\":false,\"type\":\"scatter\",\"x\":[2.5,2.6,2.6,3.2,3.4,3.5,3.7,3.7,3.9,4.1,4.1,4.1,4.1,4.2,4.2,4.3,4.3,4.3,4.3,4.4,4.4,4.4,4.4,4.4,4.4,4.5,4.5,4.5,4.5,4.6,4.6,4.6,4.6,4.6,4.6,4.6,4.6,4.7,4.7,4.7,4.7,4.7,4.7,4.8,4.8,4.8,4.8,4.8,4.8,4.8,4.9,4.9,4.9,4.9,5.0,5.0,5.0,5.0,5.0,5.1,5.1,5.1,5.1,5.1,5.1,5.2,5.2,5.2,5.2,5.2,5.2,5.2,5.2,5.2,5.2,5.2,5.2,5.2,5.2,5.2,5.2,5.2,5.2,5.2,5.3,5.3,5.3,5.3,5.3,5.3,5.3,5.3,5.3,5.3,5.4,5.4,5.4,5.4,5.4,5.4,5.4,5.4,5.4,5.4,5.4,5.4,5.4,5.5,5.5,5.5,5.5,5.5,5.5,5.5,5.5,5.5,5.5,5.5,5.5,5.5,5.5,5.5,5.5,5.5,5.5,5.5,5.6,5.6,5.6,5.6,5.6,5.6,5.6,5.6,5.6,5.6,5.6,5.6,5.6,5.6,5.6,5.7,5.7,5.7,5.7,5.7,5.7,5.7,5.7,5.7,5.7,5.7,5.7,5.7,5.7,5.7,5.7,5.7,5.7,5.7,5.7,5.8,5.8,5.8,5.8,5.8,5.8,5.8,5.8,5.8,5.8,5.8,5.8,5.8,5.8,5.8,5.8,5.8,5.8,5.8,5.8,5.8,5.8,5.8,5.8,5.8,5.8,5.8,5.8,5.8,5.8,5.9,5.9,5.9,5.9,5.9,5.9,5.9,5.9,5.9,5.9,5.9,5.9,5.9,5.9,5.9,5.9,6.0,6.0,6.0,6.0,6.0,6.0,6.0,6.0,6.0,6.0,6.0,6.0,6.0,6.1,6.1,6.1,6.1,6.1,6.1,6.1,6.1,6.1,6.1,6.1,6.1,6.1,6.1,6.1,6.1,6.1,6.1,6.1,6.1,6.1,6.1,6.1,6.1,6.2,6.2,6.2,6.2,6.2,6.2,6.2,6.2,6.2,6.2,6.2,6.2,6.2,6.2,6.2,6.2,6.2,6.2,6.3,6.3,6.3,6.3,6.3,6.3,6.3,6.3,6.3,6.3,6.3,6.3,6.3,6.3,6.3,6.3,6.3,6.3,6.3,6.3,6.3,6.3,6.3,6.3,6.3,6.3,6.3,6.3,6.3,6.3,6.4,6.4,6.4,6.4,6.4,6.4,6.4,6.4,6.4,6.4,6.4,6.4,6.4,6.4,6.4,6.4,6.4,6.4,6.4,6.4,6.4,6.4,6.4,6.4,6.4,6.4,6.4,6.4,6.5,6.5,6.5,6.5,6.5,6.5,6.5,6.5,6.5,6.5,6.5,6.5,6.5,6.5,6.5,6.5,6.5,6.5,6.5,6.5,6.5,6.5,6.5,6.5,6.5,6.5,6.6,6.6,6.6,6.6,6.6,6.6,6.6,6.6,6.6,6.6,6.6,6.6,6.6,6.6,6.6,6.6,6.6,6.6,6.7,6.7,6.7,6.7,6.7,6.7,6.7,6.7,6.7,6.7,6.7,6.7,6.7,6.7,6.7,6.7,6.7,6.7,6.7,6.7,6.7,6.7,6.7,6.7,6.7,6.8,6.8,6.8,6.8,6.8,6.8,6.8,6.8,6.8,6.8,6.8,6.8,6.8,6.8,6.8,6.8,6.8,6.8,6.8,6.8,6.8,6.8,6.8,6.8,6.9,6.9,6.9,6.9,6.9,6.9,6.9,6.9,6.9,6.9,6.9,6.9,6.9,6.9,6.9,6.9,6.9,6.9,6.9,7.0,7.0,7.0,7.0,7.0,7.0,7.0,7.0,7.0,7.0,7.0,7.0,7.0,7.0,7.0,7.0,7.0,7.0,7.0,7.1,7.1,7.1,7.1,7.1,7.1,7.1,7.1,7.1,7.1,7.1,7.1,7.1,7.1,7.1,7.1,7.1,7.1,7.1,7.1,7.1,7.1,7.1,7.1,7.1,7.1,7.1,7.1,7.2,7.2,7.2,7.2,7.2,7.2,7.2,7.2,7.2,7.2,7.2,7.2,7.2,7.2,7.2,7.2,7.2,7.2,7.2,7.2,7.3,7.3,7.3,7.3,7.3,7.3,7.3,7.3,7.3,7.3,7.3,7.3,7.3,7.3,7.3,7.3,7.3,7.3,7.3,7.3,7.3,7.4,7.4,7.4,7.4,7.4,7.4,7.4,7.4,7.4,7.4,7.4,7.4,7.5,7.5,7.5,7.5,7.5,7.5,7.5,7.5,7.5,7.5,7.6,7.6,7.6,7.6,7.6,7.6,7.6,7.6,7.6,7.6,7.7,7.7,7.7,7.7,7.7,7.7,7.7,7.7,7.8,7.8,7.8,7.9,7.9,7.9,7.9,8.0,8.1,8.1,8.1,8.2,8.2,8.2,8.2,8.2,8.3,8.3,8.4,8.4,8.4,8.5,8.6,9.0],\"xaxis\":\"x\",\"y\":[58,81,79,94,90,147,112,149,73,139,58,112,97,101,90,25,144,115,102,100,64,97,99,120,105,89,97,107,99,95,37,89,83,46,85,88,86,105,95,80,4,93,100,106,97,106,103,80,101,119,80,89,94,93,96,113,86,100,102,86,104,88,97,105,90,99,10,106,98,94,112,117,70,81,103,94,98,131,87,60,112,102,99,116,92,83,97,112,116,102,121,95,93,92,98,85,78,120,92,101,119,101,112,96,114,97,101,56,100,94,94,21,104,63,100,126,106,86,142,108,102,92,83,94,92,103,89,95,103,97,125,91,90,49,98,107,118,94,103,86,83,97,99,104,102,89,98,125,89,94,94,85,34,86,91,108,95,100,90,112,86,124,107,92,121,90,104,92,114,98,95,78,107,92,95,96,118,105,94,52,105,95,100,97,89,102,96,131,89,93,111,75,120,96,148,94,107,32,104,23,111,83,53,95,132,98,108,106,104,90,106,90,97,113,123,115,105,101,102,122,128,82,102,80,94,123,104,85,84,103,95,100,89,116,118,96,114,99,87,92,90,95,96,93,42,92,106,151,101,114,90,115,92,72,139,98,92,111,98,104,95,88,102,30,99,129,87,117,104,111,107,97,98,90,101,72,83,118,44,113,86,108,85,102,151,98,87,120,134,109,85,103,94,97,88,37,112,102,100,96,113,16,119,97,81,98,95,96,107,41,87,101,97,103,90,125,116,99,82,97,28,108,93,74,60,9,21,100,155,55,123,103,93,119,40,120,98,104,91,95,101,105,83,91,83,17,86,124,94,102,118,79,134,126,98,89,58,83,136,98,114,99,130,32,104,142,92,86,106,95,91,89,117,90,117,80,87,101,19,106,54,111,132,97,106,111,124,116,112,144,76,101,92,19,39,102,89,105,101,70,96,85,39,79,73,114,121,28,95,122,23,107,98,108,92,100,97,7,96,100,132,103,121,114,57,95,83,17,105,131,30,112,86,100,14,109,28,64,94,31,99,108,48,84,70,27,45,117,104,108,121,36,30,47,110,92,80,49,73,40,96,106,97,94,78,81,87,91,91,95,126,31,58,41,138,112,114,125,99,82,98,136,97,107,92,39,133,89,124,99,101,97,124,129,121,140,13,108,11,118,121,24,100,101,105,96,47,121,100,149,64,64,114,15,79,90,132,105,97,83,110,39,40,85,26,87,97,118,23,40,98,80,108,79,74,90,137,71,98,70,99,40,104,149,124,144,85,100,94,125,84,117,15,136,76,108,94,90,72,135,12,209,130,82,120,136,112,105,89,85,106,100,107,97,89,109,114,51,85,125,91,153,89,83],\"yaxis\":\"y\"}],                        {\"legend\":{\"tracegroupgap\":0},\"margin\":{\"t\":60},\"template\":{\"data\":{\"bar\":[{\"error_x\":{\"color\":\"#2a3f5f\"},\"error_y\":{\"color\":\"#2a3f5f\"},\"marker\":{\"line\":{\"color\":\"#E5ECF6\",\"width\":0.5},\"pattern\":{\"fillmode\":\"overlay\",\"size\":10,\"solidity\":0.2}},\"type\":\"bar\"}],\"barpolar\":[{\"marker\":{\"line\":{\"color\":\"#E5ECF6\",\"width\":0.5},\"pattern\":{\"fillmode\":\"overlay\",\"size\":10,\"solidity\":0.2}},\"type\":\"barpolar\"}],\"carpet\":[{\"aaxis\":{\"endlinecolor\":\"#2a3f5f\",\"gridcolor\":\"white\",\"linecolor\":\"white\",\"minorgridcolor\":\"white\",\"startlinecolor\":\"#2a3f5f\"},\"baxis\":{\"endlinecolor\":\"#2a3f5f\",\"gridcolor\":\"white\",\"linecolor\":\"white\",\"minorgridcolor\":\"white\",\"startlinecolor\":\"#2a3f5f\"},\"type\":\"carpet\"}],\"choropleth\":[{\"colorbar\":{\"outlinewidth\":0,\"ticks\":\"\"},\"type\":\"choropleth\"}],\"contour\":[{\"colorbar\":{\"outlinewidth\":0,\"ticks\":\"\"},\"colorscale\":[[0.0,\"#0d0887\"],[0.1111111111111111,\"#46039f\"],[0.2222222222222222,\"#7201a8\"],[0.3333333333333333,\"#9c179e\"],[0.4444444444444444,\"#bd3786\"],[0.5555555555555556,\"#d8576b\"],[0.6666666666666666,\"#ed7953\"],[0.7777777777777778,\"#fb9f3a\"],[0.8888888888888888,\"#fdca26\"],[1.0,\"#f0f921\"]],\"type\":\"contour\"}],\"contourcarpet\":[{\"colorbar\":{\"outlinewidth\":0,\"ticks\":\"\"},\"type\":\"contourcarpet\"}],\"heatmap\":[{\"colorbar\":{\"outlinewidth\":0,\"ticks\":\"\"},\"colorscale\":[[0.0,\"#0d0887\"],[0.1111111111111111,\"#46039f\"],[0.2222222222222222,\"#7201a8\"],[0.3333333333333333,\"#9c179e\"],[0.4444444444444444,\"#bd3786\"],[0.5555555555555556,\"#d8576b\"],[0.6666666666666666,\"#ed7953\"],[0.7777777777777778,\"#fb9f3a\"],[0.8888888888888888,\"#fdca26\"],[1.0,\"#f0f921\"]],\"type\":\"heatmap\"}],\"heatmapgl\":[{\"colorbar\":{\"outlinewidth\":0,\"ticks\":\"\"},\"colorscale\":[[0.0,\"#0d0887\"],[0.1111111111111111,\"#46039f\"],[0.2222222222222222,\"#7201a8\"],[0.3333333333333333,\"#9c179e\"],[0.4444444444444444,\"#bd3786\"],[0.5555555555555556,\"#d8576b\"],[0.6666666666666666,\"#ed7953\"],[0.7777777777777778,\"#fb9f3a\"],[0.8888888888888888,\"#fdca26\"],[1.0,\"#f0f921\"]],\"type\":\"heatmapgl\"}],\"histogram\":[{\"marker\":{\"pattern\":{\"fillmode\":\"overlay\",\"size\":10,\"solidity\":0.2}},\"type\":\"histogram\"}],\"histogram2d\":[{\"colorbar\":{\"outlinewidth\":0,\"ticks\":\"\"},\"colorscale\":[[0.0,\"#0d0887\"],[0.1111111111111111,\"#46039f\"],[0.2222222222222222,\"#7201a8\"],[0.3333333333333333,\"#9c179e\"],[0.4444444444444444,\"#bd3786\"],[0.5555555555555556,\"#d8576b\"],[0.6666666666666666,\"#ed7953\"],[0.7777777777777778,\"#fb9f3a\"],[0.8888888888888888,\"#fdca26\"],[1.0,\"#f0f921\"]],\"type\":\"histogram2d\"}],\"histogram2dcontour\":[{\"colorbar\":{\"outlinewidth\":0,\"ticks\":\"\"},\"colorscale\":[[0.0,\"#0d0887\"],[0.1111111111111111,\"#46039f\"],[0.2222222222222222,\"#7201a8\"],[0.3333333333333333,\"#9c179e\"],[0.4444444444444444,\"#bd3786\"],[0.5555555555555556,\"#d8576b\"],[0.6666666666666666,\"#ed7953\"],[0.7777777777777778,\"#fb9f3a\"],[0.8888888888888888,\"#fdca26\"],[1.0,\"#f0f921\"]],\"type\":\"histogram2dcontour\"}],\"mesh3d\":[{\"colorbar\":{\"outlinewidth\":0,\"ticks\":\"\"},\"type\":\"mesh3d\"}],\"parcoords\":[{\"line\":{\"colorbar\":{\"outlinewidth\":0,\"ticks\":\"\"}},\"type\":\"parcoords\"}],\"pie\":[{\"automargin\":true,\"type\":\"pie\"}],\"scatter\":[{\"marker\":{\"colorbar\":{\"outlinewidth\":0,\"ticks\":\"\"}},\"type\":\"scatter\"}],\"scatter3d\":[{\"line\":{\"colorbar\":{\"outlinewidth\":0,\"ticks\":\"\"}},\"marker\":{\"colorbar\":{\"outlinewidth\":0,\"ticks\":\"\"}},\"type\":\"scatter3d\"}],\"scattercarpet\":[{\"marker\":{\"colorbar\":{\"outlinewidth\":0,\"ticks\":\"\"}},\"type\":\"scattercarpet\"}],\"scattergeo\":[{\"marker\":{\"colorbar\":{\"outlinewidth\":0,\"ticks\":\"\"}},\"type\":\"scattergeo\"}],\"scattergl\":[{\"marker\":{\"colorbar\":{\"outlinewidth\":0,\"ticks\":\"\"}},\"type\":\"scattergl\"}],\"scattermapbox\":[{\"marker\":{\"colorbar\":{\"outlinewidth\":0,\"ticks\":\"\"}},\"type\":\"scattermapbox\"}],\"scatterpolar\":[{\"marker\":{\"colorbar\":{\"outlinewidth\":0,\"ticks\":\"\"}},\"type\":\"scatterpolar\"}],\"scatterpolargl\":[{\"marker\":{\"colorbar\":{\"outlinewidth\":0,\"ticks\":\"\"}},\"type\":\"scatterpolargl\"}],\"scatterternary\":[{\"marker\":{\"colorbar\":{\"outlinewidth\":0,\"ticks\":\"\"}},\"type\":\"scatterternary\"}],\"surface\":[{\"colorbar\":{\"outlinewidth\":0,\"ticks\":\"\"},\"colorscale\":[[0.0,\"#0d0887\"],[0.1111111111111111,\"#46039f\"],[0.2222222222222222,\"#7201a8\"],[0.3333333333333333,\"#9c179e\"],[0.4444444444444444,\"#bd3786\"],[0.5555555555555556,\"#d8576b\"],[0.6666666666666666,\"#ed7953\"],[0.7777777777777778,\"#fb9f3a\"],[0.8888888888888888,\"#fdca26\"],[1.0,\"#f0f921\"]],\"type\":\"surface\"}],\"table\":[{\"cells\":{\"fill\":{\"color\":\"#EBF0F8\"},\"line\":{\"color\":\"white\"}},\"header\":{\"fill\":{\"color\":\"#C8D4E3\"},\"line\":{\"color\":\"white\"}},\"type\":\"table\"}]},\"layout\":{\"annotationdefaults\":{\"arrowcolor\":\"#2a3f5f\",\"arrowhead\":0,\"arrowwidth\":1},\"autotypenumbers\":\"strict\",\"coloraxis\":{\"colorbar\":{\"outlinewidth\":0,\"ticks\":\"\"}},\"colorscale\":{\"diverging\":[[0,\"#8e0152\"],[0.1,\"#c51b7d\"],[0.2,\"#de77ae\"],[0.3,\"#f1b6da\"],[0.4,\"#fde0ef\"],[0.5,\"#f7f7f7\"],[0.6,\"#e6f5d0\"],[0.7,\"#b8e186\"],[0.8,\"#7fbc41\"],[0.9,\"#4d9221\"],[1,\"#276419\"]],\"sequential\":[[0.0,\"#0d0887\"],[0.1111111111111111,\"#46039f\"],[0.2222222222222222,\"#7201a8\"],[0.3333333333333333,\"#9c179e\"],[0.4444444444444444,\"#bd3786\"],[0.5555555555555556,\"#d8576b\"],[0.6666666666666666,\"#ed7953\"],[0.7777777777777778,\"#fb9f3a\"],[0.8888888888888888,\"#fdca26\"],[1.0,\"#f0f921\"]],\"sequentialminus\":[[0.0,\"#0d0887\"],[0.1111111111111111,\"#46039f\"],[0.2222222222222222,\"#7201a8\"],[0.3333333333333333,\"#9c179e\"],[0.4444444444444444,\"#bd3786\"],[0.5555555555555556,\"#d8576b\"],[0.6666666666666666,\"#ed7953\"],[0.7777777777777778,\"#fb9f3a\"],[0.8888888888888888,\"#fdca26\"],[1.0,\"#f0f921\"]]},\"colorway\":[\"#636efa\",\"#EF553B\",\"#00cc96\",\"#ab63fa\",\"#FFA15A\",\"#19d3f3\",\"#FF6692\",\"#B6E880\",\"#FF97FF\",\"#FECB52\"],\"font\":{\"color\":\"#2a3f5f\"},\"geo\":{\"bgcolor\":\"white\",\"lakecolor\":\"white\",\"landcolor\":\"#E5ECF6\",\"showlakes\":true,\"showland\":true,\"subunitcolor\":\"white\"},\"hoverlabel\":{\"align\":\"left\"},\"hovermode\":\"closest\",\"mapbox\":{\"style\":\"light\"},\"paper_bgcolor\":\"white\",\"plot_bgcolor\":\"#E5ECF6\",\"polar\":{\"angularaxis\":{\"gridcolor\":\"white\",\"linecolor\":\"white\",\"ticks\":\"\"},\"bgcolor\":\"#E5ECF6\",\"radialaxis\":{\"gridcolor\":\"white\",\"linecolor\":\"white\",\"ticks\":\"\"}},\"scene\":{\"xaxis\":{\"backgroundcolor\":\"#E5ECF6\",\"gridcolor\":\"white\",\"gridwidth\":2,\"linecolor\":\"white\",\"showbackground\":true,\"ticks\":\"\",\"zerolinecolor\":\"white\"},\"yaxis\":{\"backgroundcolor\":\"#E5ECF6\",\"gridcolor\":\"white\",\"gridwidth\":2,\"linecolor\":\"white\",\"showbackground\":true,\"ticks\":\"\",\"zerolinecolor\":\"white\"},\"zaxis\":{\"backgroundcolor\":\"#E5ECF6\",\"gridcolor\":\"white\",\"gridwidth\":2,\"linecolor\":\"white\",\"showbackground\":true,\"ticks\":\"\",\"zerolinecolor\":\"white\"}},\"shapedefaults\":{\"line\":{\"color\":\"#2a3f5f\"}},\"ternary\":{\"aaxis\":{\"gridcolor\":\"white\",\"linecolor\":\"white\",\"ticks\":\"\"},\"baxis\":{\"gridcolor\":\"white\",\"linecolor\":\"white\",\"ticks\":\"\"},\"bgcolor\":\"#E5ECF6\",\"caxis\":{\"gridcolor\":\"white\",\"linecolor\":\"white\",\"ticks\":\"\"}},\"title\":{\"x\":0.05},\"xaxis\":{\"automargin\":true,\"gridcolor\":\"white\",\"linecolor\":\"white\",\"ticks\":\"\",\"title\":{\"standoff\":15},\"zerolinecolor\":\"white\",\"zerolinewidth\":2},\"yaxis\":{\"automargin\":true,\"gridcolor\":\"white\",\"linecolor\":\"white\",\"ticks\":\"\",\"title\":{\"standoff\":15},\"zerolinecolor\":\"white\",\"zerolinewidth\":2}}},\"xaxis\":{\"anchor\":\"y\",\"domain\":[0.0,1.0],\"title\":{\"text\":\"IMDB Score\"}},\"yaxis\":{\"anchor\":\"x\",\"domain\":[0.0,1.0],\"title\":{\"text\":\"Runtime\"}}},                        {\"responsive\": true}                    ).then(function(){\n",
       "                            \n",
       "var gd = document.getElementById('405a3fea-878a-4249-beab-3fc7cfde7474');\n",
       "var x = new MutationObserver(function (mutations, observer) {{\n",
       "        var display = window.getComputedStyle(gd).display;\n",
       "        if (!display || display === 'none') {{\n",
       "            console.log([gd, 'removed!']);\n",
       "            Plotly.purge(gd);\n",
       "            observer.disconnect();\n",
       "        }}\n",
       "}});\n",
       "\n",
       "// Listen for the removal of the full notebook cells\n",
       "var notebookContainer = gd.closest('#notebook-container');\n",
       "if (notebookContainer) {{\n",
       "    x.observe(notebookContainer, {childList: true});\n",
       "}}\n",
       "\n",
       "// Listen for the clearing of the current output cell\n",
       "var outputEl = gd.closest('.output');\n",
       "if (outputEl) {{\n",
       "    x.observe(outputEl, {childList: true});\n",
       "}}\n",
       "\n",
       "                        })                };                });            </script>        </div>"
      ]
     },
     "metadata": {},
     "output_type": "display_data"
    }
   ],
   "source": [
    "fig = px.scatter(df, x='IMDB Score', y='Runtime')\n",
    "fig.show()"
   ]
  },
  {
   "cell_type": "markdown",
   "id": "b89b3602",
   "metadata": {
    "papermill": {
     "duration": 0.060916,
     "end_time": "2021-07-21T09:07:28.055006",
     "exception": false,
     "start_time": "2021-07-21T09:07:27.994090",
     "status": "completed"
    },
    "tags": []
   },
   "source": [
    "- There is no significant relationship between runtime and IMDB score."
   ]
  },
  {
   "cell_type": "markdown",
   "id": "4a237b68",
   "metadata": {
    "papermill": {
     "duration": 0.060992,
     "end_time": "2021-07-21T09:07:28.177689",
     "exception": false,
     "start_time": "2021-07-21T09:07:28.116697",
     "status": "completed"
    },
    "tags": []
   },
   "source": [
    "#### **Year**"
   ]
  },
  {
   "cell_type": "code",
   "execution_count": 24,
   "id": "5b6db6f4",
   "metadata": {
    "_kg_hide-input": true,
    "execution": {
     "iopub.execute_input": "2021-07-21T09:07:28.314681Z",
     "iopub.status.busy": "2021-07-21T09:07:28.313903Z",
     "iopub.status.idle": "2021-07-21T09:07:28.318374Z",
     "shell.execute_reply": "2021-07-21T09:07:28.317845Z",
     "shell.execute_reply.started": "2021-07-13T16:37:55.189234Z"
    },
    "papermill": {
     "duration": 0.074367,
     "end_time": "2021-07-21T09:07:28.318518",
     "exception": false,
     "start_time": "2021-07-21T09:07:28.244151",
     "status": "completed"
    },
    "tags": []
   },
   "outputs": [
    {
     "data": {
      "text/plain": [
       "2020    183\n",
       "2019    125\n",
       "2018     99\n",
       "2021     71\n",
       "2017     66\n",
       "2016     30\n",
       "2015      9\n",
       "2014      1\n",
       "Name: year, dtype: int64"
      ]
     },
     "execution_count": 24,
     "metadata": {},
     "output_type": "execute_result"
    }
   ],
   "source": [
    "Year = df['year'].value_counts()\n",
    "Year"
   ]
  },
  {
   "cell_type": "code",
   "execution_count": 25,
   "id": "6652f370",
   "metadata": {
    "_kg_hide-input": true,
    "execution": {
     "iopub.execute_input": "2021-07-21T09:07:28.503263Z",
     "iopub.status.busy": "2021-07-21T09:07:28.502539Z",
     "iopub.status.idle": "2021-07-21T09:07:28.517386Z",
     "shell.execute_reply": "2021-07-21T09:07:28.516691Z",
     "shell.execute_reply.started": "2021-07-13T16:37:55.198234Z"
    },
    "papermill": {
     "duration": 0.136287,
     "end_time": "2021-07-21T09:07:28.517528",
     "exception": false,
     "start_time": "2021-07-21T09:07:28.381241",
     "status": "completed"
    },
    "tags": []
   },
   "outputs": [
    {
     "data": {
      "text/html": [
       "<div>                            <div id=\"1315ba53-304d-451b-9f8c-7e522e9c0e85\" class=\"plotly-graph-div\" style=\"height:525px; width:100%;\"></div>            <script type=\"text/javascript\">                require([\"plotly\"], function(Plotly) {                    window.PLOTLYENV=window.PLOTLYENV || {};                                    if (document.getElementById(\"1315ba53-304d-451b-9f8c-7e522e9c0e85\")) {                    Plotly.newPlot(                        \"1315ba53-304d-451b-9f8c-7e522e9c0e85\",                        [{\"alignmentgroup\":\"True\",\"hovertemplate\":\"Year=%{x}<br>Count of Movies in Each Year=%{y}<extra></extra>\",\"legendgroup\":\"\",\"marker\":{\"color\":\"#636efa\",\"pattern\":{\"shape\":\"\"}},\"name\":\"\",\"offsetgroup\":\"\",\"orientation\":\"v\",\"showlegend\":false,\"textposition\":\"auto\",\"type\":\"bar\",\"x\":[2020,2019,2018,2021,2017,2016,2015,2014],\"xaxis\":\"x\",\"y\":[183,125,99,71,66,30,9,1],\"yaxis\":\"y\"}],                        {\"barmode\":\"relative\",\"legend\":{\"tracegroupgap\":0},\"margin\":{\"t\":60},\"template\":{\"data\":{\"bar\":[{\"error_x\":{\"color\":\"#2a3f5f\"},\"error_y\":{\"color\":\"#2a3f5f\"},\"marker\":{\"line\":{\"color\":\"#E5ECF6\",\"width\":0.5},\"pattern\":{\"fillmode\":\"overlay\",\"size\":10,\"solidity\":0.2}},\"type\":\"bar\"}],\"barpolar\":[{\"marker\":{\"line\":{\"color\":\"#E5ECF6\",\"width\":0.5},\"pattern\":{\"fillmode\":\"overlay\",\"size\":10,\"solidity\":0.2}},\"type\":\"barpolar\"}],\"carpet\":[{\"aaxis\":{\"endlinecolor\":\"#2a3f5f\",\"gridcolor\":\"white\",\"linecolor\":\"white\",\"minorgridcolor\":\"white\",\"startlinecolor\":\"#2a3f5f\"},\"baxis\":{\"endlinecolor\":\"#2a3f5f\",\"gridcolor\":\"white\",\"linecolor\":\"white\",\"minorgridcolor\":\"white\",\"startlinecolor\":\"#2a3f5f\"},\"type\":\"carpet\"}],\"choropleth\":[{\"colorbar\":{\"outlinewidth\":0,\"ticks\":\"\"},\"type\":\"choropleth\"}],\"contour\":[{\"colorbar\":{\"outlinewidth\":0,\"ticks\":\"\"},\"colorscale\":[[0.0,\"#0d0887\"],[0.1111111111111111,\"#46039f\"],[0.2222222222222222,\"#7201a8\"],[0.3333333333333333,\"#9c179e\"],[0.4444444444444444,\"#bd3786\"],[0.5555555555555556,\"#d8576b\"],[0.6666666666666666,\"#ed7953\"],[0.7777777777777778,\"#fb9f3a\"],[0.8888888888888888,\"#fdca26\"],[1.0,\"#f0f921\"]],\"type\":\"contour\"}],\"contourcarpet\":[{\"colorbar\":{\"outlinewidth\":0,\"ticks\":\"\"},\"type\":\"contourcarpet\"}],\"heatmap\":[{\"colorbar\":{\"outlinewidth\":0,\"ticks\":\"\"},\"colorscale\":[[0.0,\"#0d0887\"],[0.1111111111111111,\"#46039f\"],[0.2222222222222222,\"#7201a8\"],[0.3333333333333333,\"#9c179e\"],[0.4444444444444444,\"#bd3786\"],[0.5555555555555556,\"#d8576b\"],[0.6666666666666666,\"#ed7953\"],[0.7777777777777778,\"#fb9f3a\"],[0.8888888888888888,\"#fdca26\"],[1.0,\"#f0f921\"]],\"type\":\"heatmap\"}],\"heatmapgl\":[{\"colorbar\":{\"outlinewidth\":0,\"ticks\":\"\"},\"colorscale\":[[0.0,\"#0d0887\"],[0.1111111111111111,\"#46039f\"],[0.2222222222222222,\"#7201a8\"],[0.3333333333333333,\"#9c179e\"],[0.4444444444444444,\"#bd3786\"],[0.5555555555555556,\"#d8576b\"],[0.6666666666666666,\"#ed7953\"],[0.7777777777777778,\"#fb9f3a\"],[0.8888888888888888,\"#fdca26\"],[1.0,\"#f0f921\"]],\"type\":\"heatmapgl\"}],\"histogram\":[{\"marker\":{\"pattern\":{\"fillmode\":\"overlay\",\"size\":10,\"solidity\":0.2}},\"type\":\"histogram\"}],\"histogram2d\":[{\"colorbar\":{\"outlinewidth\":0,\"ticks\":\"\"},\"colorscale\":[[0.0,\"#0d0887\"],[0.1111111111111111,\"#46039f\"],[0.2222222222222222,\"#7201a8\"],[0.3333333333333333,\"#9c179e\"],[0.4444444444444444,\"#bd3786\"],[0.5555555555555556,\"#d8576b\"],[0.6666666666666666,\"#ed7953\"],[0.7777777777777778,\"#fb9f3a\"],[0.8888888888888888,\"#fdca26\"],[1.0,\"#f0f921\"]],\"type\":\"histogram2d\"}],\"histogram2dcontour\":[{\"colorbar\":{\"outlinewidth\":0,\"ticks\":\"\"},\"colorscale\":[[0.0,\"#0d0887\"],[0.1111111111111111,\"#46039f\"],[0.2222222222222222,\"#7201a8\"],[0.3333333333333333,\"#9c179e\"],[0.4444444444444444,\"#bd3786\"],[0.5555555555555556,\"#d8576b\"],[0.6666666666666666,\"#ed7953\"],[0.7777777777777778,\"#fb9f3a\"],[0.8888888888888888,\"#fdca26\"],[1.0,\"#f0f921\"]],\"type\":\"histogram2dcontour\"}],\"mesh3d\":[{\"colorbar\":{\"outlinewidth\":0,\"ticks\":\"\"},\"type\":\"mesh3d\"}],\"parcoords\":[{\"line\":{\"colorbar\":{\"outlinewidth\":0,\"ticks\":\"\"}},\"type\":\"parcoords\"}],\"pie\":[{\"automargin\":true,\"type\":\"pie\"}],\"scatter\":[{\"marker\":{\"colorbar\":{\"outlinewidth\":0,\"ticks\":\"\"}},\"type\":\"scatter\"}],\"scatter3d\":[{\"line\":{\"colorbar\":{\"outlinewidth\":0,\"ticks\":\"\"}},\"marker\":{\"colorbar\":{\"outlinewidth\":0,\"ticks\":\"\"}},\"type\":\"scatter3d\"}],\"scattercarpet\":[{\"marker\":{\"colorbar\":{\"outlinewidth\":0,\"ticks\":\"\"}},\"type\":\"scattercarpet\"}],\"scattergeo\":[{\"marker\":{\"colorbar\":{\"outlinewidth\":0,\"ticks\":\"\"}},\"type\":\"scattergeo\"}],\"scattergl\":[{\"marker\":{\"colorbar\":{\"outlinewidth\":0,\"ticks\":\"\"}},\"type\":\"scattergl\"}],\"scattermapbox\":[{\"marker\":{\"colorbar\":{\"outlinewidth\":0,\"ticks\":\"\"}},\"type\":\"scattermapbox\"}],\"scatterpolar\":[{\"marker\":{\"colorbar\":{\"outlinewidth\":0,\"ticks\":\"\"}},\"type\":\"scatterpolar\"}],\"scatterpolargl\":[{\"marker\":{\"colorbar\":{\"outlinewidth\":0,\"ticks\":\"\"}},\"type\":\"scatterpolargl\"}],\"scatterternary\":[{\"marker\":{\"colorbar\":{\"outlinewidth\":0,\"ticks\":\"\"}},\"type\":\"scatterternary\"}],\"surface\":[{\"colorbar\":{\"outlinewidth\":0,\"ticks\":\"\"},\"colorscale\":[[0.0,\"#0d0887\"],[0.1111111111111111,\"#46039f\"],[0.2222222222222222,\"#7201a8\"],[0.3333333333333333,\"#9c179e\"],[0.4444444444444444,\"#bd3786\"],[0.5555555555555556,\"#d8576b\"],[0.6666666666666666,\"#ed7953\"],[0.7777777777777778,\"#fb9f3a\"],[0.8888888888888888,\"#fdca26\"],[1.0,\"#f0f921\"]],\"type\":\"surface\"}],\"table\":[{\"cells\":{\"fill\":{\"color\":\"#EBF0F8\"},\"line\":{\"color\":\"white\"}},\"header\":{\"fill\":{\"color\":\"#C8D4E3\"},\"line\":{\"color\":\"white\"}},\"type\":\"table\"}]},\"layout\":{\"annotationdefaults\":{\"arrowcolor\":\"#2a3f5f\",\"arrowhead\":0,\"arrowwidth\":1},\"autotypenumbers\":\"strict\",\"coloraxis\":{\"colorbar\":{\"outlinewidth\":0,\"ticks\":\"\"}},\"colorscale\":{\"diverging\":[[0,\"#8e0152\"],[0.1,\"#c51b7d\"],[0.2,\"#de77ae\"],[0.3,\"#f1b6da\"],[0.4,\"#fde0ef\"],[0.5,\"#f7f7f7\"],[0.6,\"#e6f5d0\"],[0.7,\"#b8e186\"],[0.8,\"#7fbc41\"],[0.9,\"#4d9221\"],[1,\"#276419\"]],\"sequential\":[[0.0,\"#0d0887\"],[0.1111111111111111,\"#46039f\"],[0.2222222222222222,\"#7201a8\"],[0.3333333333333333,\"#9c179e\"],[0.4444444444444444,\"#bd3786\"],[0.5555555555555556,\"#d8576b\"],[0.6666666666666666,\"#ed7953\"],[0.7777777777777778,\"#fb9f3a\"],[0.8888888888888888,\"#fdca26\"],[1.0,\"#f0f921\"]],\"sequentialminus\":[[0.0,\"#0d0887\"],[0.1111111111111111,\"#46039f\"],[0.2222222222222222,\"#7201a8\"],[0.3333333333333333,\"#9c179e\"],[0.4444444444444444,\"#bd3786\"],[0.5555555555555556,\"#d8576b\"],[0.6666666666666666,\"#ed7953\"],[0.7777777777777778,\"#fb9f3a\"],[0.8888888888888888,\"#fdca26\"],[1.0,\"#f0f921\"]]},\"colorway\":[\"#636efa\",\"#EF553B\",\"#00cc96\",\"#ab63fa\",\"#FFA15A\",\"#19d3f3\",\"#FF6692\",\"#B6E880\",\"#FF97FF\",\"#FECB52\"],\"font\":{\"color\":\"#2a3f5f\"},\"geo\":{\"bgcolor\":\"white\",\"lakecolor\":\"white\",\"landcolor\":\"#E5ECF6\",\"showlakes\":true,\"showland\":true,\"subunitcolor\":\"white\"},\"hoverlabel\":{\"align\":\"left\"},\"hovermode\":\"closest\",\"mapbox\":{\"style\":\"light\"},\"paper_bgcolor\":\"white\",\"plot_bgcolor\":\"#E5ECF6\",\"polar\":{\"angularaxis\":{\"gridcolor\":\"white\",\"linecolor\":\"white\",\"ticks\":\"\"},\"bgcolor\":\"#E5ECF6\",\"radialaxis\":{\"gridcolor\":\"white\",\"linecolor\":\"white\",\"ticks\":\"\"}},\"scene\":{\"xaxis\":{\"backgroundcolor\":\"#E5ECF6\",\"gridcolor\":\"white\",\"gridwidth\":2,\"linecolor\":\"white\",\"showbackground\":true,\"ticks\":\"\",\"zerolinecolor\":\"white\"},\"yaxis\":{\"backgroundcolor\":\"#E5ECF6\",\"gridcolor\":\"white\",\"gridwidth\":2,\"linecolor\":\"white\",\"showbackground\":true,\"ticks\":\"\",\"zerolinecolor\":\"white\"},\"zaxis\":{\"backgroundcolor\":\"#E5ECF6\",\"gridcolor\":\"white\",\"gridwidth\":2,\"linecolor\":\"white\",\"showbackground\":true,\"ticks\":\"\",\"zerolinecolor\":\"white\"}},\"shapedefaults\":{\"line\":{\"color\":\"#2a3f5f\"}},\"ternary\":{\"aaxis\":{\"gridcolor\":\"white\",\"linecolor\":\"white\",\"ticks\":\"\"},\"baxis\":{\"gridcolor\":\"white\",\"linecolor\":\"white\",\"ticks\":\"\"},\"bgcolor\":\"#E5ECF6\",\"caxis\":{\"gridcolor\":\"white\",\"linecolor\":\"white\",\"ticks\":\"\"}},\"title\":{\"x\":0.05},\"xaxis\":{\"automargin\":true,\"gridcolor\":\"white\",\"linecolor\":\"white\",\"ticks\":\"\",\"title\":{\"standoff\":15},\"zerolinecolor\":\"white\",\"zerolinewidth\":2},\"yaxis\":{\"automargin\":true,\"gridcolor\":\"white\",\"linecolor\":\"white\",\"ticks\":\"\",\"title\":{\"standoff\":15},\"zerolinecolor\":\"white\",\"zerolinewidth\":2}}},\"xaxis\":{\"anchor\":\"y\",\"categoryorder\":\"total descending\",\"domain\":[0.0,1.0],\"title\":{\"text\":\"Year\"}},\"yaxis\":{\"anchor\":\"x\",\"domain\":[0.0,1.0],\"title\":{\"text\":\"Count of Movies in Each Year\"}}},                        {\"responsive\": true}                    ).then(function(){\n",
       "                            \n",
       "var gd = document.getElementById('1315ba53-304d-451b-9f8c-7e522e9c0e85');\n",
       "var x = new MutationObserver(function (mutations, observer) {{\n",
       "        var display = window.getComputedStyle(gd).display;\n",
       "        if (!display || display === 'none') {{\n",
       "            console.log([gd, 'removed!']);\n",
       "            Plotly.purge(gd);\n",
       "            observer.disconnect();\n",
       "        }}\n",
       "}});\n",
       "\n",
       "// Listen for the removal of the full notebook cells\n",
       "var notebookContainer = gd.closest('#notebook-container');\n",
       "if (notebookContainer) {{\n",
       "    x.observe(notebookContainer, {childList: true});\n",
       "}}\n",
       "\n",
       "// Listen for the clearing of the current output cell\n",
       "var outputEl = gd.closest('.output');\n",
       "if (outputEl) {{\n",
       "    x.observe(outputEl, {childList: true});\n",
       "}}\n",
       "\n",
       "                        })                };                });            </script>        </div>"
      ]
     },
     "metadata": {},
     "output_type": "display_data"
    }
   ],
   "source": [
    "fig = px.bar(Year, x= Year.index, y=Year.values, labels={'y':'Count of Movies in Each Year', 'index':'Year'})\n",
    "fig.update_layout(xaxis={'categoryorder':'total descending'})\n",
    "fig.show()"
   ]
  },
  {
   "cell_type": "markdown",
   "id": "6a33c463",
   "metadata": {
    "papermill": {
     "duration": 0.062955,
     "end_time": "2021-07-21T09:07:28.643704",
     "exception": false,
     "start_time": "2021-07-21T09:07:28.580749",
     "status": "completed"
    },
    "tags": []
   },
   "source": [
    "- As one can expect, each year number of programs in the Netflix increase.\n",
    "- Since we don't have full data on the 2021, difference between 2020 and 2021 is normal."
   ]
  },
  {
   "cell_type": "markdown",
   "id": "a157b4a1",
   "metadata": {
    "papermill": {
     "duration": 0.065245,
     "end_time": "2021-07-21T09:07:28.772450",
     "exception": false,
     "start_time": "2021-07-21T09:07:28.707205",
     "status": "completed"
    },
    "tags": []
   },
   "source": [
    "#### **Month**"
   ]
  },
  {
   "cell_type": "code",
   "execution_count": 26,
   "id": "afa1c9ab",
   "metadata": {
    "_kg_hide-input": true,
    "execution": {
     "iopub.execute_input": "2021-07-21T09:07:28.906694Z",
     "iopub.status.busy": "2021-07-21T09:07:28.905801Z",
     "iopub.status.idle": "2021-07-21T09:07:28.910289Z",
     "shell.execute_reply": "2021-07-21T09:07:28.909750Z",
     "shell.execute_reply.started": "2021-07-13T16:37:55.268454Z"
    },
    "papermill": {
     "duration": 0.073768,
     "end_time": "2021-07-21T09:07:28.910430",
     "exception": false,
     "start_time": "2021-07-21T09:07:28.836662",
     "status": "completed"
    },
    "tags": []
   },
   "outputs": [
    {
     "data": {
      "text/plain": [
       "1     37\n",
       "2     39\n",
       "3     48\n",
       "4     63\n",
       "5     53\n",
       "6     35\n",
       "7     34\n",
       "8     37\n",
       "9     53\n",
       "10    77\n",
       "11    57\n",
       "12    51\n",
       "Name: month, dtype: int64"
      ]
     },
     "execution_count": 26,
     "metadata": {},
     "output_type": "execute_result"
    }
   ],
   "source": [
    "Month= df['month'].value_counts(sort=False)\n",
    "Month"
   ]
  },
  {
   "cell_type": "code",
   "execution_count": 27,
   "id": "da5e72a4",
   "metadata": {
    "_kg_hide-input": true,
    "execution": {
     "iopub.execute_input": "2021-07-21T09:07:29.073255Z",
     "iopub.status.busy": "2021-07-21T09:07:29.067985Z",
     "iopub.status.idle": "2021-07-21T09:07:29.116521Z",
     "shell.execute_reply": "2021-07-21T09:07:29.115827Z",
     "shell.execute_reply.started": "2021-07-13T16:37:55.277793Z"
    },
    "papermill": {
     "duration": 0.143444,
     "end_time": "2021-07-21T09:07:29.116682",
     "exception": false,
     "start_time": "2021-07-21T09:07:28.973238",
     "status": "completed"
    },
    "tags": []
   },
   "outputs": [
    {
     "data": {
      "text/html": [
       "<div>                            <div id=\"77d7c6e9-abcf-4e27-9aec-9ae67a6f053f\" class=\"plotly-graph-div\" style=\"height:525px; width:100%;\"></div>            <script type=\"text/javascript\">                require([\"plotly\"], function(Plotly) {                    window.PLOTLYENV=window.PLOTLYENV || {};                                    if (document.getElementById(\"77d7c6e9-abcf-4e27-9aec-9ae67a6f053f\")) {                    Plotly.newPlot(                        \"77d7c6e9-abcf-4e27-9aec-9ae67a6f053f\",                        [{\"alignmentgroup\":\"True\",\"hovertemplate\":\"Month=%{x}<br>Count of Movies in Each Month=%{y}<extra></extra>\",\"legendgroup\":\"\",\"marker\":{\"color\":\"#636efa\",\"pattern\":{\"shape\":\"\"}},\"name\":\"\",\"offsetgroup\":\"\",\"orientation\":\"v\",\"showlegend\":false,\"textposition\":\"auto\",\"type\":\"bar\",\"x\":[\"Jan\",\"Feb\",\"Mar\",\"Apr\",\"May\",\"Jun\",\"Jul\",\"Aug\",\"Sep\",\"Oct\",\"Nov\",\"Dec\"],\"xaxis\":\"x\",\"y\":[37,39,48,63,53,35,34,37,53,77,57,51],\"yaxis\":\"y\"}],                        {\"barmode\":\"relative\",\"legend\":{\"tracegroupgap\":0},\"margin\":{\"t\":60},\"template\":{\"data\":{\"bar\":[{\"error_x\":{\"color\":\"#2a3f5f\"},\"error_y\":{\"color\":\"#2a3f5f\"},\"marker\":{\"line\":{\"color\":\"#E5ECF6\",\"width\":0.5},\"pattern\":{\"fillmode\":\"overlay\",\"size\":10,\"solidity\":0.2}},\"type\":\"bar\"}],\"barpolar\":[{\"marker\":{\"line\":{\"color\":\"#E5ECF6\",\"width\":0.5},\"pattern\":{\"fillmode\":\"overlay\",\"size\":10,\"solidity\":0.2}},\"type\":\"barpolar\"}],\"carpet\":[{\"aaxis\":{\"endlinecolor\":\"#2a3f5f\",\"gridcolor\":\"white\",\"linecolor\":\"white\",\"minorgridcolor\":\"white\",\"startlinecolor\":\"#2a3f5f\"},\"baxis\":{\"endlinecolor\":\"#2a3f5f\",\"gridcolor\":\"white\",\"linecolor\":\"white\",\"minorgridcolor\":\"white\",\"startlinecolor\":\"#2a3f5f\"},\"type\":\"carpet\"}],\"choropleth\":[{\"colorbar\":{\"outlinewidth\":0,\"ticks\":\"\"},\"type\":\"choropleth\"}],\"contour\":[{\"colorbar\":{\"outlinewidth\":0,\"ticks\":\"\"},\"colorscale\":[[0.0,\"#0d0887\"],[0.1111111111111111,\"#46039f\"],[0.2222222222222222,\"#7201a8\"],[0.3333333333333333,\"#9c179e\"],[0.4444444444444444,\"#bd3786\"],[0.5555555555555556,\"#d8576b\"],[0.6666666666666666,\"#ed7953\"],[0.7777777777777778,\"#fb9f3a\"],[0.8888888888888888,\"#fdca26\"],[1.0,\"#f0f921\"]],\"type\":\"contour\"}],\"contourcarpet\":[{\"colorbar\":{\"outlinewidth\":0,\"ticks\":\"\"},\"type\":\"contourcarpet\"}],\"heatmap\":[{\"colorbar\":{\"outlinewidth\":0,\"ticks\":\"\"},\"colorscale\":[[0.0,\"#0d0887\"],[0.1111111111111111,\"#46039f\"],[0.2222222222222222,\"#7201a8\"],[0.3333333333333333,\"#9c179e\"],[0.4444444444444444,\"#bd3786\"],[0.5555555555555556,\"#d8576b\"],[0.6666666666666666,\"#ed7953\"],[0.7777777777777778,\"#fb9f3a\"],[0.8888888888888888,\"#fdca26\"],[1.0,\"#f0f921\"]],\"type\":\"heatmap\"}],\"heatmapgl\":[{\"colorbar\":{\"outlinewidth\":0,\"ticks\":\"\"},\"colorscale\":[[0.0,\"#0d0887\"],[0.1111111111111111,\"#46039f\"],[0.2222222222222222,\"#7201a8\"],[0.3333333333333333,\"#9c179e\"],[0.4444444444444444,\"#bd3786\"],[0.5555555555555556,\"#d8576b\"],[0.6666666666666666,\"#ed7953\"],[0.7777777777777778,\"#fb9f3a\"],[0.8888888888888888,\"#fdca26\"],[1.0,\"#f0f921\"]],\"type\":\"heatmapgl\"}],\"histogram\":[{\"marker\":{\"pattern\":{\"fillmode\":\"overlay\",\"size\":10,\"solidity\":0.2}},\"type\":\"histogram\"}],\"histogram2d\":[{\"colorbar\":{\"outlinewidth\":0,\"ticks\":\"\"},\"colorscale\":[[0.0,\"#0d0887\"],[0.1111111111111111,\"#46039f\"],[0.2222222222222222,\"#7201a8\"],[0.3333333333333333,\"#9c179e\"],[0.4444444444444444,\"#bd3786\"],[0.5555555555555556,\"#d8576b\"],[0.6666666666666666,\"#ed7953\"],[0.7777777777777778,\"#fb9f3a\"],[0.8888888888888888,\"#fdca26\"],[1.0,\"#f0f921\"]],\"type\":\"histogram2d\"}],\"histogram2dcontour\":[{\"colorbar\":{\"outlinewidth\":0,\"ticks\":\"\"},\"colorscale\":[[0.0,\"#0d0887\"],[0.1111111111111111,\"#46039f\"],[0.2222222222222222,\"#7201a8\"],[0.3333333333333333,\"#9c179e\"],[0.4444444444444444,\"#bd3786\"],[0.5555555555555556,\"#d8576b\"],[0.6666666666666666,\"#ed7953\"],[0.7777777777777778,\"#fb9f3a\"],[0.8888888888888888,\"#fdca26\"],[1.0,\"#f0f921\"]],\"type\":\"histogram2dcontour\"}],\"mesh3d\":[{\"colorbar\":{\"outlinewidth\":0,\"ticks\":\"\"},\"type\":\"mesh3d\"}],\"parcoords\":[{\"line\":{\"colorbar\":{\"outlinewidth\":0,\"ticks\":\"\"}},\"type\":\"parcoords\"}],\"pie\":[{\"automargin\":true,\"type\":\"pie\"}],\"scatter\":[{\"marker\":{\"colorbar\":{\"outlinewidth\":0,\"ticks\":\"\"}},\"type\":\"scatter\"}],\"scatter3d\":[{\"line\":{\"colorbar\":{\"outlinewidth\":0,\"ticks\":\"\"}},\"marker\":{\"colorbar\":{\"outlinewidth\":0,\"ticks\":\"\"}},\"type\":\"scatter3d\"}],\"scattercarpet\":[{\"marker\":{\"colorbar\":{\"outlinewidth\":0,\"ticks\":\"\"}},\"type\":\"scattercarpet\"}],\"scattergeo\":[{\"marker\":{\"colorbar\":{\"outlinewidth\":0,\"ticks\":\"\"}},\"type\":\"scattergeo\"}],\"scattergl\":[{\"marker\":{\"colorbar\":{\"outlinewidth\":0,\"ticks\":\"\"}},\"type\":\"scattergl\"}],\"scattermapbox\":[{\"marker\":{\"colorbar\":{\"outlinewidth\":0,\"ticks\":\"\"}},\"type\":\"scattermapbox\"}],\"scatterpolar\":[{\"marker\":{\"colorbar\":{\"outlinewidth\":0,\"ticks\":\"\"}},\"type\":\"scatterpolar\"}],\"scatterpolargl\":[{\"marker\":{\"colorbar\":{\"outlinewidth\":0,\"ticks\":\"\"}},\"type\":\"scatterpolargl\"}],\"scatterternary\":[{\"marker\":{\"colorbar\":{\"outlinewidth\":0,\"ticks\":\"\"}},\"type\":\"scatterternary\"}],\"surface\":[{\"colorbar\":{\"outlinewidth\":0,\"ticks\":\"\"},\"colorscale\":[[0.0,\"#0d0887\"],[0.1111111111111111,\"#46039f\"],[0.2222222222222222,\"#7201a8\"],[0.3333333333333333,\"#9c179e\"],[0.4444444444444444,\"#bd3786\"],[0.5555555555555556,\"#d8576b\"],[0.6666666666666666,\"#ed7953\"],[0.7777777777777778,\"#fb9f3a\"],[0.8888888888888888,\"#fdca26\"],[1.0,\"#f0f921\"]],\"type\":\"surface\"}],\"table\":[{\"cells\":{\"fill\":{\"color\":\"#EBF0F8\"},\"line\":{\"color\":\"white\"}},\"header\":{\"fill\":{\"color\":\"#C8D4E3\"},\"line\":{\"color\":\"white\"}},\"type\":\"table\"}]},\"layout\":{\"annotationdefaults\":{\"arrowcolor\":\"#2a3f5f\",\"arrowhead\":0,\"arrowwidth\":1},\"autotypenumbers\":\"strict\",\"coloraxis\":{\"colorbar\":{\"outlinewidth\":0,\"ticks\":\"\"}},\"colorscale\":{\"diverging\":[[0,\"#8e0152\"],[0.1,\"#c51b7d\"],[0.2,\"#de77ae\"],[0.3,\"#f1b6da\"],[0.4,\"#fde0ef\"],[0.5,\"#f7f7f7\"],[0.6,\"#e6f5d0\"],[0.7,\"#b8e186\"],[0.8,\"#7fbc41\"],[0.9,\"#4d9221\"],[1,\"#276419\"]],\"sequential\":[[0.0,\"#0d0887\"],[0.1111111111111111,\"#46039f\"],[0.2222222222222222,\"#7201a8\"],[0.3333333333333333,\"#9c179e\"],[0.4444444444444444,\"#bd3786\"],[0.5555555555555556,\"#d8576b\"],[0.6666666666666666,\"#ed7953\"],[0.7777777777777778,\"#fb9f3a\"],[0.8888888888888888,\"#fdca26\"],[1.0,\"#f0f921\"]],\"sequentialminus\":[[0.0,\"#0d0887\"],[0.1111111111111111,\"#46039f\"],[0.2222222222222222,\"#7201a8\"],[0.3333333333333333,\"#9c179e\"],[0.4444444444444444,\"#bd3786\"],[0.5555555555555556,\"#d8576b\"],[0.6666666666666666,\"#ed7953\"],[0.7777777777777778,\"#fb9f3a\"],[0.8888888888888888,\"#fdca26\"],[1.0,\"#f0f921\"]]},\"colorway\":[\"#636efa\",\"#EF553B\",\"#00cc96\",\"#ab63fa\",\"#FFA15A\",\"#19d3f3\",\"#FF6692\",\"#B6E880\",\"#FF97FF\",\"#FECB52\"],\"font\":{\"color\":\"#2a3f5f\"},\"geo\":{\"bgcolor\":\"white\",\"lakecolor\":\"white\",\"landcolor\":\"#E5ECF6\",\"showlakes\":true,\"showland\":true,\"subunitcolor\":\"white\"},\"hoverlabel\":{\"align\":\"left\"},\"hovermode\":\"closest\",\"mapbox\":{\"style\":\"light\"},\"paper_bgcolor\":\"white\",\"plot_bgcolor\":\"#E5ECF6\",\"polar\":{\"angularaxis\":{\"gridcolor\":\"white\",\"linecolor\":\"white\",\"ticks\":\"\"},\"bgcolor\":\"#E5ECF6\",\"radialaxis\":{\"gridcolor\":\"white\",\"linecolor\":\"white\",\"ticks\":\"\"}},\"scene\":{\"xaxis\":{\"backgroundcolor\":\"#E5ECF6\",\"gridcolor\":\"white\",\"gridwidth\":2,\"linecolor\":\"white\",\"showbackground\":true,\"ticks\":\"\",\"zerolinecolor\":\"white\"},\"yaxis\":{\"backgroundcolor\":\"#E5ECF6\",\"gridcolor\":\"white\",\"gridwidth\":2,\"linecolor\":\"white\",\"showbackground\":true,\"ticks\":\"\",\"zerolinecolor\":\"white\"},\"zaxis\":{\"backgroundcolor\":\"#E5ECF6\",\"gridcolor\":\"white\",\"gridwidth\":2,\"linecolor\":\"white\",\"showbackground\":true,\"ticks\":\"\",\"zerolinecolor\":\"white\"}},\"shapedefaults\":{\"line\":{\"color\":\"#2a3f5f\"}},\"ternary\":{\"aaxis\":{\"gridcolor\":\"white\",\"linecolor\":\"white\",\"ticks\":\"\"},\"baxis\":{\"gridcolor\":\"white\",\"linecolor\":\"white\",\"ticks\":\"\"},\"bgcolor\":\"#E5ECF6\",\"caxis\":{\"gridcolor\":\"white\",\"linecolor\":\"white\",\"ticks\":\"\"}},\"title\":{\"x\":0.05},\"xaxis\":{\"automargin\":true,\"gridcolor\":\"white\",\"linecolor\":\"white\",\"ticks\":\"\",\"title\":{\"standoff\":15},\"zerolinecolor\":\"white\",\"zerolinewidth\":2},\"yaxis\":{\"automargin\":true,\"gridcolor\":\"white\",\"linecolor\":\"white\",\"ticks\":\"\",\"title\":{\"standoff\":15},\"zerolinecolor\":\"white\",\"zerolinewidth\":2}}},\"xaxis\":{\"anchor\":\"y\",\"domain\":[0.0,1.0],\"title\":{\"text\":\"Month\"}},\"yaxis\":{\"anchor\":\"x\",\"domain\":[0.0,1.0],\"title\":{\"text\":\"Count of Movies in Each Month\"}}},                        {\"responsive\": true}                    ).then(function(){\n",
       "                            \n",
       "var gd = document.getElementById('77d7c6e9-abcf-4e27-9aec-9ae67a6f053f');\n",
       "var x = new MutationObserver(function (mutations, observer) {{\n",
       "        var display = window.getComputedStyle(gd).display;\n",
       "        if (!display || display === 'none') {{\n",
       "            console.log([gd, 'removed!']);\n",
       "            Plotly.purge(gd);\n",
       "            observer.disconnect();\n",
       "        }}\n",
       "}});\n",
       "\n",
       "// Listen for the removal of the full notebook cells\n",
       "var notebookContainer = gd.closest('#notebook-container');\n",
       "if (notebookContainer) {{\n",
       "    x.observe(notebookContainer, {childList: true});\n",
       "}}\n",
       "\n",
       "// Listen for the clearing of the current output cell\n",
       "var outputEl = gd.closest('.output');\n",
       "if (outputEl) {{\n",
       "    x.observe(outputEl, {childList: true});\n",
       "}}\n",
       "\n",
       "                        })                };                });            </script>        </div>"
      ]
     },
     "metadata": {},
     "output_type": "display_data"
    }
   ],
   "source": [
    "months = ['Jan','Feb','Mar','Apr','May','Jun','Jul','Aug','Sep','Oct','Nov','Dec']\n",
    "\n",
    "fig = px.bar(Month, x= months, y=Month.values, labels={'y':'Count of Movies in Each Month', 'x':'Month'})\n",
    "fig.show()"
   ]
  },
  {
   "cell_type": "markdown",
   "id": "33d5c15a",
   "metadata": {
    "papermill": {
     "duration": 0.064013,
     "end_time": "2021-07-21T09:07:29.250539",
     "exception": false,
     "start_time": "2021-07-21T09:07:29.186526",
     "status": "completed"
    },
    "tags": []
   },
   "source": [
    "- Number of program releases differs by months. October and April are the months which have the highest number of program releases.\n",
    "\n",
    "- During the summer time, Jun-Aug, the least number of movie is released."
   ]
  },
  {
   "cell_type": "markdown",
   "id": "d6394abc",
   "metadata": {
    "papermill": {
     "duration": 0.069255,
     "end_time": "2021-07-21T09:07:29.383264",
     "exception": false,
     "start_time": "2021-07-21T09:07:29.314009",
     "status": "completed"
    },
    "tags": []
   },
   "source": [
    "#### **Day**"
   ]
  },
  {
   "cell_type": "code",
   "execution_count": 28,
   "id": "5aff93c3",
   "metadata": {
    "_kg_hide-input": true,
    "execution": {
     "iopub.execute_input": "2021-07-21T09:07:29.537941Z",
     "iopub.status.busy": "2021-07-21T09:07:29.536996Z",
     "iopub.status.idle": "2021-07-21T09:07:29.541304Z",
     "shell.execute_reply": "2021-07-21T09:07:29.540677Z",
     "shell.execute_reply.started": "2021-07-13T16:37:55.340496Z"
    },
    "papermill": {
     "duration": 0.077135,
     "end_time": "2021-07-21T09:07:29.541443",
     "exception": false,
     "start_time": "2021-07-21T09:07:29.464308",
     "status": "completed"
    },
    "tags": []
   },
   "outputs": [
    {
     "data": {
      "text/plain": [
       "0     17\n",
       "1     29\n",
       "2     82\n",
       "3     59\n",
       "4    383\n",
       "5      5\n",
       "6      9\n",
       "Name: day_of_week, dtype: int64"
      ]
     },
     "execution_count": 28,
     "metadata": {},
     "output_type": "execute_result"
    }
   ],
   "source": [
    "days= df['day_of_week'].value_counts(sort=False)\n",
    "days"
   ]
  },
  {
   "cell_type": "code",
   "execution_count": 29,
   "id": "96140087",
   "metadata": {
    "_kg_hide-input": true,
    "execution": {
     "iopub.execute_input": "2021-07-21T09:07:29.704325Z",
     "iopub.status.busy": "2021-07-21T09:07:29.699033Z",
     "iopub.status.idle": "2021-07-21T09:07:29.744989Z",
     "shell.execute_reply": "2021-07-21T09:07:29.744339Z",
     "shell.execute_reply.started": "2021-07-13T16:37:55.351878Z"
    },
    "papermill": {
     "duration": 0.139788,
     "end_time": "2021-07-21T09:07:29.745161",
     "exception": false,
     "start_time": "2021-07-21T09:07:29.605373",
     "status": "completed"
    },
    "tags": []
   },
   "outputs": [
    {
     "data": {
      "text/html": [
       "<div>                            <div id=\"a36f893a-123a-4ec9-998d-087077b004b7\" class=\"plotly-graph-div\" style=\"height:525px; width:100%;\"></div>            <script type=\"text/javascript\">                require([\"plotly\"], function(Plotly) {                    window.PLOTLYENV=window.PLOTLYENV || {};                                    if (document.getElementById(\"a36f893a-123a-4ec9-998d-087077b004b7\")) {                    Plotly.newPlot(                        \"a36f893a-123a-4ec9-998d-087077b004b7\",                        [{\"alignmentgroup\":\"True\",\"hovertemplate\":\"Day=%{x}<br>Count of Movies in Each Day=%{y}<extra></extra>\",\"legendgroup\":\"\",\"marker\":{\"color\":\"#636efa\",\"pattern\":{\"shape\":\"\"}},\"name\":\"\",\"offsetgroup\":\"\",\"orientation\":\"v\",\"showlegend\":false,\"textposition\":\"auto\",\"type\":\"bar\",\"x\":[\"Mon\",\"Tue\",\"Wed\",\"Thu\",\"Fri\",\"Sat\",\"Sun\"],\"xaxis\":\"x\",\"y\":[17,29,82,59,383,5,9],\"yaxis\":\"y\"}],                        {\"barmode\":\"relative\",\"legend\":{\"tracegroupgap\":0},\"margin\":{\"t\":60},\"template\":{\"data\":{\"bar\":[{\"error_x\":{\"color\":\"#2a3f5f\"},\"error_y\":{\"color\":\"#2a3f5f\"},\"marker\":{\"line\":{\"color\":\"#E5ECF6\",\"width\":0.5},\"pattern\":{\"fillmode\":\"overlay\",\"size\":10,\"solidity\":0.2}},\"type\":\"bar\"}],\"barpolar\":[{\"marker\":{\"line\":{\"color\":\"#E5ECF6\",\"width\":0.5},\"pattern\":{\"fillmode\":\"overlay\",\"size\":10,\"solidity\":0.2}},\"type\":\"barpolar\"}],\"carpet\":[{\"aaxis\":{\"endlinecolor\":\"#2a3f5f\",\"gridcolor\":\"white\",\"linecolor\":\"white\",\"minorgridcolor\":\"white\",\"startlinecolor\":\"#2a3f5f\"},\"baxis\":{\"endlinecolor\":\"#2a3f5f\",\"gridcolor\":\"white\",\"linecolor\":\"white\",\"minorgridcolor\":\"white\",\"startlinecolor\":\"#2a3f5f\"},\"type\":\"carpet\"}],\"choropleth\":[{\"colorbar\":{\"outlinewidth\":0,\"ticks\":\"\"},\"type\":\"choropleth\"}],\"contour\":[{\"colorbar\":{\"outlinewidth\":0,\"ticks\":\"\"},\"colorscale\":[[0.0,\"#0d0887\"],[0.1111111111111111,\"#46039f\"],[0.2222222222222222,\"#7201a8\"],[0.3333333333333333,\"#9c179e\"],[0.4444444444444444,\"#bd3786\"],[0.5555555555555556,\"#d8576b\"],[0.6666666666666666,\"#ed7953\"],[0.7777777777777778,\"#fb9f3a\"],[0.8888888888888888,\"#fdca26\"],[1.0,\"#f0f921\"]],\"type\":\"contour\"}],\"contourcarpet\":[{\"colorbar\":{\"outlinewidth\":0,\"ticks\":\"\"},\"type\":\"contourcarpet\"}],\"heatmap\":[{\"colorbar\":{\"outlinewidth\":0,\"ticks\":\"\"},\"colorscale\":[[0.0,\"#0d0887\"],[0.1111111111111111,\"#46039f\"],[0.2222222222222222,\"#7201a8\"],[0.3333333333333333,\"#9c179e\"],[0.4444444444444444,\"#bd3786\"],[0.5555555555555556,\"#d8576b\"],[0.6666666666666666,\"#ed7953\"],[0.7777777777777778,\"#fb9f3a\"],[0.8888888888888888,\"#fdca26\"],[1.0,\"#f0f921\"]],\"type\":\"heatmap\"}],\"heatmapgl\":[{\"colorbar\":{\"outlinewidth\":0,\"ticks\":\"\"},\"colorscale\":[[0.0,\"#0d0887\"],[0.1111111111111111,\"#46039f\"],[0.2222222222222222,\"#7201a8\"],[0.3333333333333333,\"#9c179e\"],[0.4444444444444444,\"#bd3786\"],[0.5555555555555556,\"#d8576b\"],[0.6666666666666666,\"#ed7953\"],[0.7777777777777778,\"#fb9f3a\"],[0.8888888888888888,\"#fdca26\"],[1.0,\"#f0f921\"]],\"type\":\"heatmapgl\"}],\"histogram\":[{\"marker\":{\"pattern\":{\"fillmode\":\"overlay\",\"size\":10,\"solidity\":0.2}},\"type\":\"histogram\"}],\"histogram2d\":[{\"colorbar\":{\"outlinewidth\":0,\"ticks\":\"\"},\"colorscale\":[[0.0,\"#0d0887\"],[0.1111111111111111,\"#46039f\"],[0.2222222222222222,\"#7201a8\"],[0.3333333333333333,\"#9c179e\"],[0.4444444444444444,\"#bd3786\"],[0.5555555555555556,\"#d8576b\"],[0.6666666666666666,\"#ed7953\"],[0.7777777777777778,\"#fb9f3a\"],[0.8888888888888888,\"#fdca26\"],[1.0,\"#f0f921\"]],\"type\":\"histogram2d\"}],\"histogram2dcontour\":[{\"colorbar\":{\"outlinewidth\":0,\"ticks\":\"\"},\"colorscale\":[[0.0,\"#0d0887\"],[0.1111111111111111,\"#46039f\"],[0.2222222222222222,\"#7201a8\"],[0.3333333333333333,\"#9c179e\"],[0.4444444444444444,\"#bd3786\"],[0.5555555555555556,\"#d8576b\"],[0.6666666666666666,\"#ed7953\"],[0.7777777777777778,\"#fb9f3a\"],[0.8888888888888888,\"#fdca26\"],[1.0,\"#f0f921\"]],\"type\":\"histogram2dcontour\"}],\"mesh3d\":[{\"colorbar\":{\"outlinewidth\":0,\"ticks\":\"\"},\"type\":\"mesh3d\"}],\"parcoords\":[{\"line\":{\"colorbar\":{\"outlinewidth\":0,\"ticks\":\"\"}},\"type\":\"parcoords\"}],\"pie\":[{\"automargin\":true,\"type\":\"pie\"}],\"scatter\":[{\"marker\":{\"colorbar\":{\"outlinewidth\":0,\"ticks\":\"\"}},\"type\":\"scatter\"}],\"scatter3d\":[{\"line\":{\"colorbar\":{\"outlinewidth\":0,\"ticks\":\"\"}},\"marker\":{\"colorbar\":{\"outlinewidth\":0,\"ticks\":\"\"}},\"type\":\"scatter3d\"}],\"scattercarpet\":[{\"marker\":{\"colorbar\":{\"outlinewidth\":0,\"ticks\":\"\"}},\"type\":\"scattercarpet\"}],\"scattergeo\":[{\"marker\":{\"colorbar\":{\"outlinewidth\":0,\"ticks\":\"\"}},\"type\":\"scattergeo\"}],\"scattergl\":[{\"marker\":{\"colorbar\":{\"outlinewidth\":0,\"ticks\":\"\"}},\"type\":\"scattergl\"}],\"scattermapbox\":[{\"marker\":{\"colorbar\":{\"outlinewidth\":0,\"ticks\":\"\"}},\"type\":\"scattermapbox\"}],\"scatterpolar\":[{\"marker\":{\"colorbar\":{\"outlinewidth\":0,\"ticks\":\"\"}},\"type\":\"scatterpolar\"}],\"scatterpolargl\":[{\"marker\":{\"colorbar\":{\"outlinewidth\":0,\"ticks\":\"\"}},\"type\":\"scatterpolargl\"}],\"scatterternary\":[{\"marker\":{\"colorbar\":{\"outlinewidth\":0,\"ticks\":\"\"}},\"type\":\"scatterternary\"}],\"surface\":[{\"colorbar\":{\"outlinewidth\":0,\"ticks\":\"\"},\"colorscale\":[[0.0,\"#0d0887\"],[0.1111111111111111,\"#46039f\"],[0.2222222222222222,\"#7201a8\"],[0.3333333333333333,\"#9c179e\"],[0.4444444444444444,\"#bd3786\"],[0.5555555555555556,\"#d8576b\"],[0.6666666666666666,\"#ed7953\"],[0.7777777777777778,\"#fb9f3a\"],[0.8888888888888888,\"#fdca26\"],[1.0,\"#f0f921\"]],\"type\":\"surface\"}],\"table\":[{\"cells\":{\"fill\":{\"color\":\"#EBF0F8\"},\"line\":{\"color\":\"white\"}},\"header\":{\"fill\":{\"color\":\"#C8D4E3\"},\"line\":{\"color\":\"white\"}},\"type\":\"table\"}]},\"layout\":{\"annotationdefaults\":{\"arrowcolor\":\"#2a3f5f\",\"arrowhead\":0,\"arrowwidth\":1},\"autotypenumbers\":\"strict\",\"coloraxis\":{\"colorbar\":{\"outlinewidth\":0,\"ticks\":\"\"}},\"colorscale\":{\"diverging\":[[0,\"#8e0152\"],[0.1,\"#c51b7d\"],[0.2,\"#de77ae\"],[0.3,\"#f1b6da\"],[0.4,\"#fde0ef\"],[0.5,\"#f7f7f7\"],[0.6,\"#e6f5d0\"],[0.7,\"#b8e186\"],[0.8,\"#7fbc41\"],[0.9,\"#4d9221\"],[1,\"#276419\"]],\"sequential\":[[0.0,\"#0d0887\"],[0.1111111111111111,\"#46039f\"],[0.2222222222222222,\"#7201a8\"],[0.3333333333333333,\"#9c179e\"],[0.4444444444444444,\"#bd3786\"],[0.5555555555555556,\"#d8576b\"],[0.6666666666666666,\"#ed7953\"],[0.7777777777777778,\"#fb9f3a\"],[0.8888888888888888,\"#fdca26\"],[1.0,\"#f0f921\"]],\"sequentialminus\":[[0.0,\"#0d0887\"],[0.1111111111111111,\"#46039f\"],[0.2222222222222222,\"#7201a8\"],[0.3333333333333333,\"#9c179e\"],[0.4444444444444444,\"#bd3786\"],[0.5555555555555556,\"#d8576b\"],[0.6666666666666666,\"#ed7953\"],[0.7777777777777778,\"#fb9f3a\"],[0.8888888888888888,\"#fdca26\"],[1.0,\"#f0f921\"]]},\"colorway\":[\"#636efa\",\"#EF553B\",\"#00cc96\",\"#ab63fa\",\"#FFA15A\",\"#19d3f3\",\"#FF6692\",\"#B6E880\",\"#FF97FF\",\"#FECB52\"],\"font\":{\"color\":\"#2a3f5f\"},\"geo\":{\"bgcolor\":\"white\",\"lakecolor\":\"white\",\"landcolor\":\"#E5ECF6\",\"showlakes\":true,\"showland\":true,\"subunitcolor\":\"white\"},\"hoverlabel\":{\"align\":\"left\"},\"hovermode\":\"closest\",\"mapbox\":{\"style\":\"light\"},\"paper_bgcolor\":\"white\",\"plot_bgcolor\":\"#E5ECF6\",\"polar\":{\"angularaxis\":{\"gridcolor\":\"white\",\"linecolor\":\"white\",\"ticks\":\"\"},\"bgcolor\":\"#E5ECF6\",\"radialaxis\":{\"gridcolor\":\"white\",\"linecolor\":\"white\",\"ticks\":\"\"}},\"scene\":{\"xaxis\":{\"backgroundcolor\":\"#E5ECF6\",\"gridcolor\":\"white\",\"gridwidth\":2,\"linecolor\":\"white\",\"showbackground\":true,\"ticks\":\"\",\"zerolinecolor\":\"white\"},\"yaxis\":{\"backgroundcolor\":\"#E5ECF6\",\"gridcolor\":\"white\",\"gridwidth\":2,\"linecolor\":\"white\",\"showbackground\":true,\"ticks\":\"\",\"zerolinecolor\":\"white\"},\"zaxis\":{\"backgroundcolor\":\"#E5ECF6\",\"gridcolor\":\"white\",\"gridwidth\":2,\"linecolor\":\"white\",\"showbackground\":true,\"ticks\":\"\",\"zerolinecolor\":\"white\"}},\"shapedefaults\":{\"line\":{\"color\":\"#2a3f5f\"}},\"ternary\":{\"aaxis\":{\"gridcolor\":\"white\",\"linecolor\":\"white\",\"ticks\":\"\"},\"baxis\":{\"gridcolor\":\"white\",\"linecolor\":\"white\",\"ticks\":\"\"},\"bgcolor\":\"#E5ECF6\",\"caxis\":{\"gridcolor\":\"white\",\"linecolor\":\"white\",\"ticks\":\"\"}},\"title\":{\"x\":0.05},\"xaxis\":{\"automargin\":true,\"gridcolor\":\"white\",\"linecolor\":\"white\",\"ticks\":\"\",\"title\":{\"standoff\":15},\"zerolinecolor\":\"white\",\"zerolinewidth\":2},\"yaxis\":{\"automargin\":true,\"gridcolor\":\"white\",\"linecolor\":\"white\",\"ticks\":\"\",\"title\":{\"standoff\":15},\"zerolinecolor\":\"white\",\"zerolinewidth\":2}}},\"xaxis\":{\"anchor\":\"y\",\"domain\":[0.0,1.0],\"title\":{\"text\":\"Day\"}},\"yaxis\":{\"anchor\":\"x\",\"domain\":[0.0,1.0],\"title\":{\"text\":\"Count of Movies in Each Day\"}}},                        {\"responsive\": true}                    ).then(function(){\n",
       "                            \n",
       "var gd = document.getElementById('a36f893a-123a-4ec9-998d-087077b004b7');\n",
       "var x = new MutationObserver(function (mutations, observer) {{\n",
       "        var display = window.getComputedStyle(gd).display;\n",
       "        if (!display || display === 'none') {{\n",
       "            console.log([gd, 'removed!']);\n",
       "            Plotly.purge(gd);\n",
       "            observer.disconnect();\n",
       "        }}\n",
       "}});\n",
       "\n",
       "// Listen for the removal of the full notebook cells\n",
       "var notebookContainer = gd.closest('#notebook-container');\n",
       "if (notebookContainer) {{\n",
       "    x.observe(notebookContainer, {childList: true});\n",
       "}}\n",
       "\n",
       "// Listen for the clearing of the current output cell\n",
       "var outputEl = gd.closest('.output');\n",
       "if (outputEl) {{\n",
       "    x.observe(outputEl, {childList: true});\n",
       "}}\n",
       "\n",
       "                        })                };                });            </script>        </div>"
      ]
     },
     "metadata": {},
     "output_type": "display_data"
    }
   ],
   "source": [
    "day = ['Mon','Tue','Wed','Thu','Fri','Sat','Sun']\n",
    "\n",
    "fig = px.bar(days, x= day, y=days.values, labels={'y':'Count of Movies in Each Day', 'x':'Day'})\n",
    "fig.show()"
   ]
  },
  {
   "cell_type": "markdown",
   "id": "c29b7cd1",
   "metadata": {
    "papermill": {
     "duration": 0.065745,
     "end_time": "2021-07-21T09:07:29.875856",
     "exception": false,
     "start_time": "2021-07-21T09:07:29.810111",
     "status": "completed"
    },
    "tags": []
   },
   "source": [
    "- Friday has the maximum number of new releases.\n",
    "\n",
    "- Saturday and Sunday have the lowest number of releases."
   ]
  },
  {
   "cell_type": "markdown",
   "id": "5a581897",
   "metadata": {
    "papermill": {
     "duration": 0.065,
     "end_time": "2021-07-21T09:07:30.005540",
     "exception": false,
     "start_time": "2021-07-21T09:07:29.940540",
     "status": "completed"
    },
    "tags": []
   },
   "source": [
    "#### **Top 10 Ratings by Genre**"
   ]
  },
  {
   "cell_type": "code",
   "execution_count": 30,
   "id": "caa1fa31",
   "metadata": {
    "_kg_hide-input": true,
    "execution": {
     "iopub.execute_input": "2021-07-21T09:07:30.140719Z",
     "iopub.status.busy": "2021-07-21T09:07:30.139952Z",
     "iopub.status.idle": "2021-07-21T09:07:30.148666Z",
     "shell.execute_reply": "2021-07-21T09:07:30.148123Z",
     "shell.execute_reply.started": "2021-07-13T16:37:55.413885Z"
    },
    "papermill": {
     "duration": 0.078568,
     "end_time": "2021-07-21T09:07:30.148814",
     "exception": false,
     "start_time": "2021-07-21T09:07:30.070246",
     "status": "completed"
    },
    "tags": []
   },
   "outputs": [
    {
     "data": {
      "text/plain": [
       "Genre\n",
       "Animation/Christmas/Comedy/Adventure    8.200000\n",
       "Musical / Short                         7.700000\n",
       "Concert Film                            7.633333\n",
       "Anthology/Dark comedy                   7.600000\n",
       "Animation / Science Fiction             7.500000\n",
       "Making-of                               7.450000\n",
       "Action-adventure                        7.300000\n",
       "Historical drama                        7.200000\n",
       "Drama-Comedy                            7.200000\n",
       "Coming-of-age comedy-drama              7.200000\n",
       "Name: IMDB Score, dtype: float64"
      ]
     },
     "execution_count": 30,
     "metadata": {},
     "output_type": "execute_result"
    }
   ],
   "source": [
    "top_10_ratings_by_genre = df.groupby('Genre')['IMDB Score'].mean().sort_values(ascending=False)[:10]\n",
    "top_10_ratings_by_genre"
   ]
  },
  {
   "cell_type": "markdown",
   "id": "873c24d2",
   "metadata": {
    "papermill": {
     "duration": 0.064961,
     "end_time": "2021-07-21T09:07:30.278930",
     "exception": false,
     "start_time": "2021-07-21T09:07:30.213969",
     "status": "completed"
    },
    "tags": []
   },
   "source": [
    "#### Top 10 Rating Genres"
   ]
  },
  {
   "cell_type": "code",
   "execution_count": 31,
   "id": "85441b74",
   "metadata": {
    "_kg_hide-input": true,
    "execution": {
     "iopub.execute_input": "2021-07-21T09:07:30.454023Z",
     "iopub.status.busy": "2021-07-21T09:07:30.448845Z",
     "iopub.status.idle": "2021-07-21T09:07:30.481567Z",
     "shell.execute_reply": "2021-07-21T09:07:30.481001Z",
     "shell.execute_reply.started": "2021-07-13T16:37:55.425232Z"
    },
    "papermill": {
     "duration": 0.137205,
     "end_time": "2021-07-21T09:07:30.481714",
     "exception": false,
     "start_time": "2021-07-21T09:07:30.344509",
     "status": "completed"
    },
    "tags": []
   },
   "outputs": [
    {
     "data": {
      "text/html": [
       "<div>                            <div id=\"4acd68e2-0593-4b27-8b78-4cd9e0f8a167\" class=\"plotly-graph-div\" style=\"height:525px; width:100%;\"></div>            <script type=\"text/javascript\">                require([\"plotly\"], function(Plotly) {                    window.PLOTLYENV=window.PLOTLYENV || {};                                    if (document.getElementById(\"4acd68e2-0593-4b27-8b78-4cd9e0f8a167\")) {                    Plotly.newPlot(                        \"4acd68e2-0593-4b27-8b78-4cd9e0f8a167\",                        [{\"alignmentgroup\":\"True\",\"hovertemplate\":\"Genre=%{x}<br>Average Rating Score=%{y}<extra></extra>\",\"legendgroup\":\"\",\"marker\":{\"color\":\"#636efa\",\"pattern\":{\"shape\":\"\"}},\"name\":\"\",\"offsetgroup\":\"\",\"orientation\":\"v\",\"showlegend\":false,\"textposition\":\"auto\",\"type\":\"bar\",\"x\":[\"Animation/Christmas/Comedy/Adventure\",\"Musical / Short\",\"Concert Film\",\"Anthology/Dark comedy\",\"Animation / Science Fiction\",\"Making-of\",\"Action-adventure\",\"Historical drama\",\"Drama-Comedy\",\"Coming-of-age comedy-drama\"],\"xaxis\":\"x\",\"y\":[8.2,7.7,7.633333333333333,7.6,7.5,7.45,7.3,7.2,7.2,7.2],\"yaxis\":\"y\"}],                        {\"barmode\":\"relative\",\"legend\":{\"tracegroupgap\":0},\"margin\":{\"t\":60},\"template\":{\"data\":{\"bar\":[{\"error_x\":{\"color\":\"#2a3f5f\"},\"error_y\":{\"color\":\"#2a3f5f\"},\"marker\":{\"line\":{\"color\":\"#E5ECF6\",\"width\":0.5},\"pattern\":{\"fillmode\":\"overlay\",\"size\":10,\"solidity\":0.2}},\"type\":\"bar\"}],\"barpolar\":[{\"marker\":{\"line\":{\"color\":\"#E5ECF6\",\"width\":0.5},\"pattern\":{\"fillmode\":\"overlay\",\"size\":10,\"solidity\":0.2}},\"type\":\"barpolar\"}],\"carpet\":[{\"aaxis\":{\"endlinecolor\":\"#2a3f5f\",\"gridcolor\":\"white\",\"linecolor\":\"white\",\"minorgridcolor\":\"white\",\"startlinecolor\":\"#2a3f5f\"},\"baxis\":{\"endlinecolor\":\"#2a3f5f\",\"gridcolor\":\"white\",\"linecolor\":\"white\",\"minorgridcolor\":\"white\",\"startlinecolor\":\"#2a3f5f\"},\"type\":\"carpet\"}],\"choropleth\":[{\"colorbar\":{\"outlinewidth\":0,\"ticks\":\"\"},\"type\":\"choropleth\"}],\"contour\":[{\"colorbar\":{\"outlinewidth\":0,\"ticks\":\"\"},\"colorscale\":[[0.0,\"#0d0887\"],[0.1111111111111111,\"#46039f\"],[0.2222222222222222,\"#7201a8\"],[0.3333333333333333,\"#9c179e\"],[0.4444444444444444,\"#bd3786\"],[0.5555555555555556,\"#d8576b\"],[0.6666666666666666,\"#ed7953\"],[0.7777777777777778,\"#fb9f3a\"],[0.8888888888888888,\"#fdca26\"],[1.0,\"#f0f921\"]],\"type\":\"contour\"}],\"contourcarpet\":[{\"colorbar\":{\"outlinewidth\":0,\"ticks\":\"\"},\"type\":\"contourcarpet\"}],\"heatmap\":[{\"colorbar\":{\"outlinewidth\":0,\"ticks\":\"\"},\"colorscale\":[[0.0,\"#0d0887\"],[0.1111111111111111,\"#46039f\"],[0.2222222222222222,\"#7201a8\"],[0.3333333333333333,\"#9c179e\"],[0.4444444444444444,\"#bd3786\"],[0.5555555555555556,\"#d8576b\"],[0.6666666666666666,\"#ed7953\"],[0.7777777777777778,\"#fb9f3a\"],[0.8888888888888888,\"#fdca26\"],[1.0,\"#f0f921\"]],\"type\":\"heatmap\"}],\"heatmapgl\":[{\"colorbar\":{\"outlinewidth\":0,\"ticks\":\"\"},\"colorscale\":[[0.0,\"#0d0887\"],[0.1111111111111111,\"#46039f\"],[0.2222222222222222,\"#7201a8\"],[0.3333333333333333,\"#9c179e\"],[0.4444444444444444,\"#bd3786\"],[0.5555555555555556,\"#d8576b\"],[0.6666666666666666,\"#ed7953\"],[0.7777777777777778,\"#fb9f3a\"],[0.8888888888888888,\"#fdca26\"],[1.0,\"#f0f921\"]],\"type\":\"heatmapgl\"}],\"histogram\":[{\"marker\":{\"pattern\":{\"fillmode\":\"overlay\",\"size\":10,\"solidity\":0.2}},\"type\":\"histogram\"}],\"histogram2d\":[{\"colorbar\":{\"outlinewidth\":0,\"ticks\":\"\"},\"colorscale\":[[0.0,\"#0d0887\"],[0.1111111111111111,\"#46039f\"],[0.2222222222222222,\"#7201a8\"],[0.3333333333333333,\"#9c179e\"],[0.4444444444444444,\"#bd3786\"],[0.5555555555555556,\"#d8576b\"],[0.6666666666666666,\"#ed7953\"],[0.7777777777777778,\"#fb9f3a\"],[0.8888888888888888,\"#fdca26\"],[1.0,\"#f0f921\"]],\"type\":\"histogram2d\"}],\"histogram2dcontour\":[{\"colorbar\":{\"outlinewidth\":0,\"ticks\":\"\"},\"colorscale\":[[0.0,\"#0d0887\"],[0.1111111111111111,\"#46039f\"],[0.2222222222222222,\"#7201a8\"],[0.3333333333333333,\"#9c179e\"],[0.4444444444444444,\"#bd3786\"],[0.5555555555555556,\"#d8576b\"],[0.6666666666666666,\"#ed7953\"],[0.7777777777777778,\"#fb9f3a\"],[0.8888888888888888,\"#fdca26\"],[1.0,\"#f0f921\"]],\"type\":\"histogram2dcontour\"}],\"mesh3d\":[{\"colorbar\":{\"outlinewidth\":0,\"ticks\":\"\"},\"type\":\"mesh3d\"}],\"parcoords\":[{\"line\":{\"colorbar\":{\"outlinewidth\":0,\"ticks\":\"\"}},\"type\":\"parcoords\"}],\"pie\":[{\"automargin\":true,\"type\":\"pie\"}],\"scatter\":[{\"marker\":{\"colorbar\":{\"outlinewidth\":0,\"ticks\":\"\"}},\"type\":\"scatter\"}],\"scatter3d\":[{\"line\":{\"colorbar\":{\"outlinewidth\":0,\"ticks\":\"\"}},\"marker\":{\"colorbar\":{\"outlinewidth\":0,\"ticks\":\"\"}},\"type\":\"scatter3d\"}],\"scattercarpet\":[{\"marker\":{\"colorbar\":{\"outlinewidth\":0,\"ticks\":\"\"}},\"type\":\"scattercarpet\"}],\"scattergeo\":[{\"marker\":{\"colorbar\":{\"outlinewidth\":0,\"ticks\":\"\"}},\"type\":\"scattergeo\"}],\"scattergl\":[{\"marker\":{\"colorbar\":{\"outlinewidth\":0,\"ticks\":\"\"}},\"type\":\"scattergl\"}],\"scattermapbox\":[{\"marker\":{\"colorbar\":{\"outlinewidth\":0,\"ticks\":\"\"}},\"type\":\"scattermapbox\"}],\"scatterpolar\":[{\"marker\":{\"colorbar\":{\"outlinewidth\":0,\"ticks\":\"\"}},\"type\":\"scatterpolar\"}],\"scatterpolargl\":[{\"marker\":{\"colorbar\":{\"outlinewidth\":0,\"ticks\":\"\"}},\"type\":\"scatterpolargl\"}],\"scatterternary\":[{\"marker\":{\"colorbar\":{\"outlinewidth\":0,\"ticks\":\"\"}},\"type\":\"scatterternary\"}],\"surface\":[{\"colorbar\":{\"outlinewidth\":0,\"ticks\":\"\"},\"colorscale\":[[0.0,\"#0d0887\"],[0.1111111111111111,\"#46039f\"],[0.2222222222222222,\"#7201a8\"],[0.3333333333333333,\"#9c179e\"],[0.4444444444444444,\"#bd3786\"],[0.5555555555555556,\"#d8576b\"],[0.6666666666666666,\"#ed7953\"],[0.7777777777777778,\"#fb9f3a\"],[0.8888888888888888,\"#fdca26\"],[1.0,\"#f0f921\"]],\"type\":\"surface\"}],\"table\":[{\"cells\":{\"fill\":{\"color\":\"#EBF0F8\"},\"line\":{\"color\":\"white\"}},\"header\":{\"fill\":{\"color\":\"#C8D4E3\"},\"line\":{\"color\":\"white\"}},\"type\":\"table\"}]},\"layout\":{\"annotationdefaults\":{\"arrowcolor\":\"#2a3f5f\",\"arrowhead\":0,\"arrowwidth\":1},\"autotypenumbers\":\"strict\",\"coloraxis\":{\"colorbar\":{\"outlinewidth\":0,\"ticks\":\"\"}},\"colorscale\":{\"diverging\":[[0,\"#8e0152\"],[0.1,\"#c51b7d\"],[0.2,\"#de77ae\"],[0.3,\"#f1b6da\"],[0.4,\"#fde0ef\"],[0.5,\"#f7f7f7\"],[0.6,\"#e6f5d0\"],[0.7,\"#b8e186\"],[0.8,\"#7fbc41\"],[0.9,\"#4d9221\"],[1,\"#276419\"]],\"sequential\":[[0.0,\"#0d0887\"],[0.1111111111111111,\"#46039f\"],[0.2222222222222222,\"#7201a8\"],[0.3333333333333333,\"#9c179e\"],[0.4444444444444444,\"#bd3786\"],[0.5555555555555556,\"#d8576b\"],[0.6666666666666666,\"#ed7953\"],[0.7777777777777778,\"#fb9f3a\"],[0.8888888888888888,\"#fdca26\"],[1.0,\"#f0f921\"]],\"sequentialminus\":[[0.0,\"#0d0887\"],[0.1111111111111111,\"#46039f\"],[0.2222222222222222,\"#7201a8\"],[0.3333333333333333,\"#9c179e\"],[0.4444444444444444,\"#bd3786\"],[0.5555555555555556,\"#d8576b\"],[0.6666666666666666,\"#ed7953\"],[0.7777777777777778,\"#fb9f3a\"],[0.8888888888888888,\"#fdca26\"],[1.0,\"#f0f921\"]]},\"colorway\":[\"#636efa\",\"#EF553B\",\"#00cc96\",\"#ab63fa\",\"#FFA15A\",\"#19d3f3\",\"#FF6692\",\"#B6E880\",\"#FF97FF\",\"#FECB52\"],\"font\":{\"color\":\"#2a3f5f\"},\"geo\":{\"bgcolor\":\"white\",\"lakecolor\":\"white\",\"landcolor\":\"#E5ECF6\",\"showlakes\":true,\"showland\":true,\"subunitcolor\":\"white\"},\"hoverlabel\":{\"align\":\"left\"},\"hovermode\":\"closest\",\"mapbox\":{\"style\":\"light\"},\"paper_bgcolor\":\"white\",\"plot_bgcolor\":\"#E5ECF6\",\"polar\":{\"angularaxis\":{\"gridcolor\":\"white\",\"linecolor\":\"white\",\"ticks\":\"\"},\"bgcolor\":\"#E5ECF6\",\"radialaxis\":{\"gridcolor\":\"white\",\"linecolor\":\"white\",\"ticks\":\"\"}},\"scene\":{\"xaxis\":{\"backgroundcolor\":\"#E5ECF6\",\"gridcolor\":\"white\",\"gridwidth\":2,\"linecolor\":\"white\",\"showbackground\":true,\"ticks\":\"\",\"zerolinecolor\":\"white\"},\"yaxis\":{\"backgroundcolor\":\"#E5ECF6\",\"gridcolor\":\"white\",\"gridwidth\":2,\"linecolor\":\"white\",\"showbackground\":true,\"ticks\":\"\",\"zerolinecolor\":\"white\"},\"zaxis\":{\"backgroundcolor\":\"#E5ECF6\",\"gridcolor\":\"white\",\"gridwidth\":2,\"linecolor\":\"white\",\"showbackground\":true,\"ticks\":\"\",\"zerolinecolor\":\"white\"}},\"shapedefaults\":{\"line\":{\"color\":\"#2a3f5f\"}},\"ternary\":{\"aaxis\":{\"gridcolor\":\"white\",\"linecolor\":\"white\",\"ticks\":\"\"},\"baxis\":{\"gridcolor\":\"white\",\"linecolor\":\"white\",\"ticks\":\"\"},\"bgcolor\":\"#E5ECF6\",\"caxis\":{\"gridcolor\":\"white\",\"linecolor\":\"white\",\"ticks\":\"\"}},\"title\":{\"x\":0.05},\"xaxis\":{\"automargin\":true,\"gridcolor\":\"white\",\"linecolor\":\"white\",\"ticks\":\"\",\"title\":{\"standoff\":15},\"zerolinecolor\":\"white\",\"zerolinewidth\":2},\"yaxis\":{\"automargin\":true,\"gridcolor\":\"white\",\"linecolor\":\"white\",\"ticks\":\"\",\"title\":{\"standoff\":15},\"zerolinecolor\":\"white\",\"zerolinewidth\":2}}},\"xaxis\":{\"anchor\":\"y\",\"domain\":[0.0,1.0],\"title\":{\"text\":\"Genre\"}},\"yaxis\":{\"anchor\":\"x\",\"domain\":[0.0,1.0],\"title\":{\"text\":\"Average Rating Score\"}}},                        {\"responsive\": true}                    ).then(function(){\n",
       "                            \n",
       "var gd = document.getElementById('4acd68e2-0593-4b27-8b78-4cd9e0f8a167');\n",
       "var x = new MutationObserver(function (mutations, observer) {{\n",
       "        var display = window.getComputedStyle(gd).display;\n",
       "        if (!display || display === 'none') {{\n",
       "            console.log([gd, 'removed!']);\n",
       "            Plotly.purge(gd);\n",
       "            observer.disconnect();\n",
       "        }}\n",
       "}});\n",
       "\n",
       "// Listen for the removal of the full notebook cells\n",
       "var notebookContainer = gd.closest('#notebook-container');\n",
       "if (notebookContainer) {{\n",
       "    x.observe(notebookContainer, {childList: true});\n",
       "}}\n",
       "\n",
       "// Listen for the clearing of the current output cell\n",
       "var outputEl = gd.closest('.output');\n",
       "if (outputEl) {{\n",
       "    x.observe(outputEl, {childList: true});\n",
       "}}\n",
       "\n",
       "                        })                };                });            </script>        </div>"
      ]
     },
     "metadata": {},
     "output_type": "display_data"
    }
   ],
   "source": [
    "fig = px.bar(top_10_ratings_by_genre, x= top_10_ratings_by_genre.index, y=top_10_ratings_by_genre.values, labels={'y':'Average Rating Score', 'x':'Genre'})\n",
    "fig.show()"
   ]
  },
  {
   "cell_type": "markdown",
   "id": "7a594604",
   "metadata": {
    "papermill": {
     "duration": 0.065726,
     "end_time": "2021-07-21T09:07:30.613000",
     "exception": false,
     "start_time": "2021-07-21T09:07:30.547274",
     "status": "completed"
    },
    "tags": []
   },
   "source": [
    "- Top rating score is on the Animation-Christmas-Comedy-Adventure Genre then Musical/short and Concert Film."
   ]
  },
  {
   "cell_type": "markdown",
   "id": "798b8df2",
   "metadata": {
    "papermill": {
     "duration": 0.06517,
     "end_time": "2021-07-21T09:07:30.744580",
     "exception": false,
     "start_time": "2021-07-21T09:07:30.679410",
     "status": "completed"
    },
    "tags": []
   },
   "source": [
    "#### **Lowest 10 Ratings by Genre**"
   ]
  },
  {
   "cell_type": "code",
   "execution_count": 32,
   "id": "a8d51e9b",
   "metadata": {
    "_kg_hide-input": true,
    "execution": {
     "iopub.execute_input": "2021-07-21T09:07:30.887024Z",
     "iopub.status.busy": "2021-07-21T09:07:30.886355Z",
     "iopub.status.idle": "2021-07-21T09:07:30.891219Z",
     "shell.execute_reply": "2021-07-21T09:07:30.891726Z",
     "shell.execute_reply.started": "2021-07-13T16:37:55.494523Z"
    },
    "papermill": {
     "duration": 0.080788,
     "end_time": "2021-07-21T09:07:30.891892",
     "exception": false,
     "start_time": "2021-07-21T09:07:30.811104",
     "status": "completed"
    },
    "tags": []
   },
   "outputs": [
    {
     "data": {
      "text/plain": [
       "Genre\n",
       "Heist film/Thriller        3.700000\n",
       "Musical/Western/Fantasy    3.900000\n",
       "Horror anthology           4.300000\n",
       "Political thriller         4.300000\n",
       "Superhero-Comedy           4.400000\n",
       "Science fiction/Drama      4.533333\n",
       "Romance drama              4.600000\n",
       "Mystery                    4.650000\n",
       "Horror thriller            4.700000\n",
       "Anime / Short              4.700000\n",
       "Name: IMDB Score, dtype: float64"
      ]
     },
     "execution_count": 32,
     "metadata": {},
     "output_type": "execute_result"
    }
   ],
   "source": [
    "bottom_10_ratings_by_genre = df.groupby('Genre')['IMDB Score'].mean().sort_values()[:10]\n",
    "bottom_10_ratings_by_genre"
   ]
  },
  {
   "cell_type": "markdown",
   "id": "b22cff07",
   "metadata": {
    "papermill": {
     "duration": 0.066976,
     "end_time": "2021-07-21T09:07:31.025738",
     "exception": false,
     "start_time": "2021-07-21T09:07:30.958762",
     "status": "completed"
    },
    "tags": []
   },
   "source": [
    "#### Bottom 10 Ratings"
   ]
  },
  {
   "cell_type": "code",
   "execution_count": 33,
   "id": "2eeef2fa",
   "metadata": {
    "_kg_hide-input": true,
    "execution": {
     "iopub.execute_input": "2021-07-21T09:07:31.190660Z",
     "iopub.status.busy": "2021-07-21T09:07:31.171654Z",
     "iopub.status.idle": "2021-07-21T09:07:31.232263Z",
     "shell.execute_reply": "2021-07-21T09:07:31.231209Z",
     "shell.execute_reply.started": "2021-07-13T16:37:55.505776Z"
    },
    "papermill": {
     "duration": 0.140475,
     "end_time": "2021-07-21T09:07:31.232425",
     "exception": false,
     "start_time": "2021-07-21T09:07:31.091950",
     "status": "completed"
    },
    "tags": []
   },
   "outputs": [
    {
     "data": {
      "text/html": [
       "<div>                            <div id=\"d3bb4f59-29e4-4365-806b-2aba583707e3\" class=\"plotly-graph-div\" style=\"height:525px; width:100%;\"></div>            <script type=\"text/javascript\">                require([\"plotly\"], function(Plotly) {                    window.PLOTLYENV=window.PLOTLYENV || {};                                    if (document.getElementById(\"d3bb4f59-29e4-4365-806b-2aba583707e3\")) {                    Plotly.newPlot(                        \"d3bb4f59-29e4-4365-806b-2aba583707e3\",                        [{\"alignmentgroup\":\"True\",\"hovertemplate\":\"Genre=%{x}<br>Average Rating Score=%{y}<extra></extra>\",\"legendgroup\":\"\",\"marker\":{\"color\":\"#636efa\",\"pattern\":{\"shape\":\"\"}},\"name\":\"\",\"offsetgroup\":\"\",\"orientation\":\"v\",\"showlegend\":false,\"textposition\":\"auto\",\"type\":\"bar\",\"x\":[\"Heist film/Thriller\",\"Musical/Western/Fantasy\",\"Horror anthology\",\"Political thriller\",\"Superhero-Comedy\",\"Science fiction/Drama\",\"Romance drama\",\"Mystery\",\"Horror thriller\",\"Anime / Short\"],\"xaxis\":\"x\",\"y\":[3.7,3.9,4.3,4.3,4.4,4.533333333333334,4.6,4.65,4.7,4.7],\"yaxis\":\"y\"}],                        {\"barmode\":\"relative\",\"legend\":{\"tracegroupgap\":0},\"margin\":{\"t\":60},\"template\":{\"data\":{\"bar\":[{\"error_x\":{\"color\":\"#2a3f5f\"},\"error_y\":{\"color\":\"#2a3f5f\"},\"marker\":{\"line\":{\"color\":\"#E5ECF6\",\"width\":0.5},\"pattern\":{\"fillmode\":\"overlay\",\"size\":10,\"solidity\":0.2}},\"type\":\"bar\"}],\"barpolar\":[{\"marker\":{\"line\":{\"color\":\"#E5ECF6\",\"width\":0.5},\"pattern\":{\"fillmode\":\"overlay\",\"size\":10,\"solidity\":0.2}},\"type\":\"barpolar\"}],\"carpet\":[{\"aaxis\":{\"endlinecolor\":\"#2a3f5f\",\"gridcolor\":\"white\",\"linecolor\":\"white\",\"minorgridcolor\":\"white\",\"startlinecolor\":\"#2a3f5f\"},\"baxis\":{\"endlinecolor\":\"#2a3f5f\",\"gridcolor\":\"white\",\"linecolor\":\"white\",\"minorgridcolor\":\"white\",\"startlinecolor\":\"#2a3f5f\"},\"type\":\"carpet\"}],\"choropleth\":[{\"colorbar\":{\"outlinewidth\":0,\"ticks\":\"\"},\"type\":\"choropleth\"}],\"contour\":[{\"colorbar\":{\"outlinewidth\":0,\"ticks\":\"\"},\"colorscale\":[[0.0,\"#0d0887\"],[0.1111111111111111,\"#46039f\"],[0.2222222222222222,\"#7201a8\"],[0.3333333333333333,\"#9c179e\"],[0.4444444444444444,\"#bd3786\"],[0.5555555555555556,\"#d8576b\"],[0.6666666666666666,\"#ed7953\"],[0.7777777777777778,\"#fb9f3a\"],[0.8888888888888888,\"#fdca26\"],[1.0,\"#f0f921\"]],\"type\":\"contour\"}],\"contourcarpet\":[{\"colorbar\":{\"outlinewidth\":0,\"ticks\":\"\"},\"type\":\"contourcarpet\"}],\"heatmap\":[{\"colorbar\":{\"outlinewidth\":0,\"ticks\":\"\"},\"colorscale\":[[0.0,\"#0d0887\"],[0.1111111111111111,\"#46039f\"],[0.2222222222222222,\"#7201a8\"],[0.3333333333333333,\"#9c179e\"],[0.4444444444444444,\"#bd3786\"],[0.5555555555555556,\"#d8576b\"],[0.6666666666666666,\"#ed7953\"],[0.7777777777777778,\"#fb9f3a\"],[0.8888888888888888,\"#fdca26\"],[1.0,\"#f0f921\"]],\"type\":\"heatmap\"}],\"heatmapgl\":[{\"colorbar\":{\"outlinewidth\":0,\"ticks\":\"\"},\"colorscale\":[[0.0,\"#0d0887\"],[0.1111111111111111,\"#46039f\"],[0.2222222222222222,\"#7201a8\"],[0.3333333333333333,\"#9c179e\"],[0.4444444444444444,\"#bd3786\"],[0.5555555555555556,\"#d8576b\"],[0.6666666666666666,\"#ed7953\"],[0.7777777777777778,\"#fb9f3a\"],[0.8888888888888888,\"#fdca26\"],[1.0,\"#f0f921\"]],\"type\":\"heatmapgl\"}],\"histogram\":[{\"marker\":{\"pattern\":{\"fillmode\":\"overlay\",\"size\":10,\"solidity\":0.2}},\"type\":\"histogram\"}],\"histogram2d\":[{\"colorbar\":{\"outlinewidth\":0,\"ticks\":\"\"},\"colorscale\":[[0.0,\"#0d0887\"],[0.1111111111111111,\"#46039f\"],[0.2222222222222222,\"#7201a8\"],[0.3333333333333333,\"#9c179e\"],[0.4444444444444444,\"#bd3786\"],[0.5555555555555556,\"#d8576b\"],[0.6666666666666666,\"#ed7953\"],[0.7777777777777778,\"#fb9f3a\"],[0.8888888888888888,\"#fdca26\"],[1.0,\"#f0f921\"]],\"type\":\"histogram2d\"}],\"histogram2dcontour\":[{\"colorbar\":{\"outlinewidth\":0,\"ticks\":\"\"},\"colorscale\":[[0.0,\"#0d0887\"],[0.1111111111111111,\"#46039f\"],[0.2222222222222222,\"#7201a8\"],[0.3333333333333333,\"#9c179e\"],[0.4444444444444444,\"#bd3786\"],[0.5555555555555556,\"#d8576b\"],[0.6666666666666666,\"#ed7953\"],[0.7777777777777778,\"#fb9f3a\"],[0.8888888888888888,\"#fdca26\"],[1.0,\"#f0f921\"]],\"type\":\"histogram2dcontour\"}],\"mesh3d\":[{\"colorbar\":{\"outlinewidth\":0,\"ticks\":\"\"},\"type\":\"mesh3d\"}],\"parcoords\":[{\"line\":{\"colorbar\":{\"outlinewidth\":0,\"ticks\":\"\"}},\"type\":\"parcoords\"}],\"pie\":[{\"automargin\":true,\"type\":\"pie\"}],\"scatter\":[{\"marker\":{\"colorbar\":{\"outlinewidth\":0,\"ticks\":\"\"}},\"type\":\"scatter\"}],\"scatter3d\":[{\"line\":{\"colorbar\":{\"outlinewidth\":0,\"ticks\":\"\"}},\"marker\":{\"colorbar\":{\"outlinewidth\":0,\"ticks\":\"\"}},\"type\":\"scatter3d\"}],\"scattercarpet\":[{\"marker\":{\"colorbar\":{\"outlinewidth\":0,\"ticks\":\"\"}},\"type\":\"scattercarpet\"}],\"scattergeo\":[{\"marker\":{\"colorbar\":{\"outlinewidth\":0,\"ticks\":\"\"}},\"type\":\"scattergeo\"}],\"scattergl\":[{\"marker\":{\"colorbar\":{\"outlinewidth\":0,\"ticks\":\"\"}},\"type\":\"scattergl\"}],\"scattermapbox\":[{\"marker\":{\"colorbar\":{\"outlinewidth\":0,\"ticks\":\"\"}},\"type\":\"scattermapbox\"}],\"scatterpolar\":[{\"marker\":{\"colorbar\":{\"outlinewidth\":0,\"ticks\":\"\"}},\"type\":\"scatterpolar\"}],\"scatterpolargl\":[{\"marker\":{\"colorbar\":{\"outlinewidth\":0,\"ticks\":\"\"}},\"type\":\"scatterpolargl\"}],\"scatterternary\":[{\"marker\":{\"colorbar\":{\"outlinewidth\":0,\"ticks\":\"\"}},\"type\":\"scatterternary\"}],\"surface\":[{\"colorbar\":{\"outlinewidth\":0,\"ticks\":\"\"},\"colorscale\":[[0.0,\"#0d0887\"],[0.1111111111111111,\"#46039f\"],[0.2222222222222222,\"#7201a8\"],[0.3333333333333333,\"#9c179e\"],[0.4444444444444444,\"#bd3786\"],[0.5555555555555556,\"#d8576b\"],[0.6666666666666666,\"#ed7953\"],[0.7777777777777778,\"#fb9f3a\"],[0.8888888888888888,\"#fdca26\"],[1.0,\"#f0f921\"]],\"type\":\"surface\"}],\"table\":[{\"cells\":{\"fill\":{\"color\":\"#EBF0F8\"},\"line\":{\"color\":\"white\"}},\"header\":{\"fill\":{\"color\":\"#C8D4E3\"},\"line\":{\"color\":\"white\"}},\"type\":\"table\"}]},\"layout\":{\"annotationdefaults\":{\"arrowcolor\":\"#2a3f5f\",\"arrowhead\":0,\"arrowwidth\":1},\"autotypenumbers\":\"strict\",\"coloraxis\":{\"colorbar\":{\"outlinewidth\":0,\"ticks\":\"\"}},\"colorscale\":{\"diverging\":[[0,\"#8e0152\"],[0.1,\"#c51b7d\"],[0.2,\"#de77ae\"],[0.3,\"#f1b6da\"],[0.4,\"#fde0ef\"],[0.5,\"#f7f7f7\"],[0.6,\"#e6f5d0\"],[0.7,\"#b8e186\"],[0.8,\"#7fbc41\"],[0.9,\"#4d9221\"],[1,\"#276419\"]],\"sequential\":[[0.0,\"#0d0887\"],[0.1111111111111111,\"#46039f\"],[0.2222222222222222,\"#7201a8\"],[0.3333333333333333,\"#9c179e\"],[0.4444444444444444,\"#bd3786\"],[0.5555555555555556,\"#d8576b\"],[0.6666666666666666,\"#ed7953\"],[0.7777777777777778,\"#fb9f3a\"],[0.8888888888888888,\"#fdca26\"],[1.0,\"#f0f921\"]],\"sequentialminus\":[[0.0,\"#0d0887\"],[0.1111111111111111,\"#46039f\"],[0.2222222222222222,\"#7201a8\"],[0.3333333333333333,\"#9c179e\"],[0.4444444444444444,\"#bd3786\"],[0.5555555555555556,\"#d8576b\"],[0.6666666666666666,\"#ed7953\"],[0.7777777777777778,\"#fb9f3a\"],[0.8888888888888888,\"#fdca26\"],[1.0,\"#f0f921\"]]},\"colorway\":[\"#636efa\",\"#EF553B\",\"#00cc96\",\"#ab63fa\",\"#FFA15A\",\"#19d3f3\",\"#FF6692\",\"#B6E880\",\"#FF97FF\",\"#FECB52\"],\"font\":{\"color\":\"#2a3f5f\"},\"geo\":{\"bgcolor\":\"white\",\"lakecolor\":\"white\",\"landcolor\":\"#E5ECF6\",\"showlakes\":true,\"showland\":true,\"subunitcolor\":\"white\"},\"hoverlabel\":{\"align\":\"left\"},\"hovermode\":\"closest\",\"mapbox\":{\"style\":\"light\"},\"paper_bgcolor\":\"white\",\"plot_bgcolor\":\"#E5ECF6\",\"polar\":{\"angularaxis\":{\"gridcolor\":\"white\",\"linecolor\":\"white\",\"ticks\":\"\"},\"bgcolor\":\"#E5ECF6\",\"radialaxis\":{\"gridcolor\":\"white\",\"linecolor\":\"white\",\"ticks\":\"\"}},\"scene\":{\"xaxis\":{\"backgroundcolor\":\"#E5ECF6\",\"gridcolor\":\"white\",\"gridwidth\":2,\"linecolor\":\"white\",\"showbackground\":true,\"ticks\":\"\",\"zerolinecolor\":\"white\"},\"yaxis\":{\"backgroundcolor\":\"#E5ECF6\",\"gridcolor\":\"white\",\"gridwidth\":2,\"linecolor\":\"white\",\"showbackground\":true,\"ticks\":\"\",\"zerolinecolor\":\"white\"},\"zaxis\":{\"backgroundcolor\":\"#E5ECF6\",\"gridcolor\":\"white\",\"gridwidth\":2,\"linecolor\":\"white\",\"showbackground\":true,\"ticks\":\"\",\"zerolinecolor\":\"white\"}},\"shapedefaults\":{\"line\":{\"color\":\"#2a3f5f\"}},\"ternary\":{\"aaxis\":{\"gridcolor\":\"white\",\"linecolor\":\"white\",\"ticks\":\"\"},\"baxis\":{\"gridcolor\":\"white\",\"linecolor\":\"white\",\"ticks\":\"\"},\"bgcolor\":\"#E5ECF6\",\"caxis\":{\"gridcolor\":\"white\",\"linecolor\":\"white\",\"ticks\":\"\"}},\"title\":{\"x\":0.05},\"xaxis\":{\"automargin\":true,\"gridcolor\":\"white\",\"linecolor\":\"white\",\"ticks\":\"\",\"title\":{\"standoff\":15},\"zerolinecolor\":\"white\",\"zerolinewidth\":2},\"yaxis\":{\"automargin\":true,\"gridcolor\":\"white\",\"linecolor\":\"white\",\"ticks\":\"\",\"title\":{\"standoff\":15},\"zerolinecolor\":\"white\",\"zerolinewidth\":2}}},\"xaxis\":{\"anchor\":\"y\",\"domain\":[0.0,1.0],\"title\":{\"text\":\"Genre\"}},\"yaxis\":{\"anchor\":\"x\",\"domain\":[0.0,1.0],\"title\":{\"text\":\"Average Rating Score\"}}},                        {\"responsive\": true}                    ).then(function(){\n",
       "                            \n",
       "var gd = document.getElementById('d3bb4f59-29e4-4365-806b-2aba583707e3');\n",
       "var x = new MutationObserver(function (mutations, observer) {{\n",
       "        var display = window.getComputedStyle(gd).display;\n",
       "        if (!display || display === 'none') {{\n",
       "            console.log([gd, 'removed!']);\n",
       "            Plotly.purge(gd);\n",
       "            observer.disconnect();\n",
       "        }}\n",
       "}});\n",
       "\n",
       "// Listen for the removal of the full notebook cells\n",
       "var notebookContainer = gd.closest('#notebook-container');\n",
       "if (notebookContainer) {{\n",
       "    x.observe(notebookContainer, {childList: true});\n",
       "}}\n",
       "\n",
       "// Listen for the clearing of the current output cell\n",
       "var outputEl = gd.closest('.output');\n",
       "if (outputEl) {{\n",
       "    x.observe(outputEl, {childList: true});\n",
       "}}\n",
       "\n",
       "                        })                };                });            </script>        </div>"
      ]
     },
     "metadata": {},
     "output_type": "display_data"
    }
   ],
   "source": [
    "fig = px.bar(bottom_10_ratings_by_genre, x= bottom_10_ratings_by_genre.index, y=bottom_10_ratings_by_genre.values, labels={'y':'Average Rating Score', 'x':'Genre'})\n",
    "fig.show()"
   ]
  },
  {
   "cell_type": "markdown",
   "id": "588bfc97",
   "metadata": {
    "papermill": {
     "duration": 0.066393,
     "end_time": "2021-07-21T09:07:31.367096",
     "exception": false,
     "start_time": "2021-07-21T09:07:31.300703",
     "status": "completed"
    },
    "tags": []
   },
   "source": [
    "- Lowest rating movies are from Heist film/Thriller, Musical/Wester/Fantasy and Horror Anthology genres."
   ]
  },
  {
   "cell_type": "markdown",
   "id": "dd68fc8e",
   "metadata": {
    "papermill": {
     "duration": 0.067663,
     "end_time": "2021-07-21T09:07:31.501648",
     "exception": false,
     "start_time": "2021-07-21T09:07:31.433985",
     "status": "completed"
    },
    "tags": []
   },
   "source": [
    "#### **Top 20 High Rating Movies** "
   ]
  },
  {
   "cell_type": "code",
   "execution_count": 34,
   "id": "a8191ebd",
   "metadata": {
    "_kg_hide-input": true,
    "execution": {
     "iopub.execute_input": "2021-07-21T09:07:31.641312Z",
     "iopub.status.busy": "2021-07-21T09:07:31.640562Z",
     "iopub.status.idle": "2021-07-21T09:07:31.658978Z",
     "shell.execute_reply": "2021-07-21T09:07:31.659509Z",
     "shell.execute_reply.started": "2021-07-13T16:37:55.57172Z"
    },
    "papermill": {
     "duration": 0.091747,
     "end_time": "2021-07-21T09:07:31.659761",
     "exception": false,
     "start_time": "2021-07-21T09:07:31.568014",
     "status": "completed"
    },
    "tags": []
   },
   "outputs": [
    {
     "data": {
      "text/html": [
       "<div>\n",
       "<style scoped>\n",
       "    .dataframe tbody tr th:only-of-type {\n",
       "        vertical-align: middle;\n",
       "    }\n",
       "\n",
       "    .dataframe tbody tr th {\n",
       "        vertical-align: top;\n",
       "    }\n",
       "\n",
       "    .dataframe thead th {\n",
       "        text-align: right;\n",
       "    }\n",
       "</style>\n",
       "<table border=\"1\" class=\"dataframe\">\n",
       "  <thead>\n",
       "    <tr style=\"text-align: right;\">\n",
       "      <th></th>\n",
       "      <th>IMDB Score</th>\n",
       "      <th>Title</th>\n",
       "      <th>Genre</th>\n",
       "      <th>year</th>\n",
       "      <th>Language</th>\n",
       "    </tr>\n",
       "  </thead>\n",
       "  <tbody>\n",
       "    <tr>\n",
       "      <th>583</th>\n",
       "      <td>9.0</td>\n",
       "      <td>David Attenborough: A Life on Our Planet</td>\n",
       "      <td>Documentary</td>\n",
       "      <td>2020</td>\n",
       "      <td>English</td>\n",
       "    </tr>\n",
       "    <tr>\n",
       "      <th>582</th>\n",
       "      <td>8.6</td>\n",
       "      <td>Emicida: AmarElo - It's All For Yesterday</td>\n",
       "      <td>Documentary</td>\n",
       "      <td>2020</td>\n",
       "      <td>Portuguese</td>\n",
       "    </tr>\n",
       "    <tr>\n",
       "      <th>581</th>\n",
       "      <td>8.5</td>\n",
       "      <td>Springsteen on Broadway</td>\n",
       "      <td>One-man show</td>\n",
       "      <td>2018</td>\n",
       "      <td>English</td>\n",
       "    </tr>\n",
       "    <tr>\n",
       "      <th>580</th>\n",
       "      <td>8.4</td>\n",
       "      <td>Winter on Fire: Ukraine's Fight for Freedom</td>\n",
       "      <td>Documentary</td>\n",
       "      <td>2015</td>\n",
       "      <td>English/Ukranian/Russian</td>\n",
       "    </tr>\n",
       "    <tr>\n",
       "      <th>579</th>\n",
       "      <td>8.4</td>\n",
       "      <td>Taylor Swift: Reputation Stadium Tour</td>\n",
       "      <td>Concert Film</td>\n",
       "      <td>2018</td>\n",
       "      <td>English</td>\n",
       "    </tr>\n",
       "    <tr>\n",
       "      <th>578</th>\n",
       "      <td>8.4</td>\n",
       "      <td>Ben Platt: Live from Radio City Music Hall</td>\n",
       "      <td>Concert Film</td>\n",
       "      <td>2020</td>\n",
       "      <td>English</td>\n",
       "    </tr>\n",
       "    <tr>\n",
       "      <th>577</th>\n",
       "      <td>8.3</td>\n",
       "      <td>Dancing with the Birds</td>\n",
       "      <td>Documentary</td>\n",
       "      <td>2019</td>\n",
       "      <td>English</td>\n",
       "    </tr>\n",
       "    <tr>\n",
       "      <th>576</th>\n",
       "      <td>8.3</td>\n",
       "      <td>Cuba and the Cameraman</td>\n",
       "      <td>Documentary</td>\n",
       "      <td>2017</td>\n",
       "      <td>English</td>\n",
       "    </tr>\n",
       "    <tr>\n",
       "      <th>573</th>\n",
       "      <td>8.2</td>\n",
       "      <td>Klaus</td>\n",
       "      <td>Animation/Christmas/Comedy/Adventure</td>\n",
       "      <td>2019</td>\n",
       "      <td>English</td>\n",
       "    </tr>\n",
       "    <tr>\n",
       "      <th>571</th>\n",
       "      <td>8.2</td>\n",
       "      <td>13th</td>\n",
       "      <td>Documentary</td>\n",
       "      <td>2016</td>\n",
       "      <td>English</td>\n",
       "    </tr>\n",
       "    <tr>\n",
       "      <th>572</th>\n",
       "      <td>8.2</td>\n",
       "      <td>Disclosure: Trans Lives on Screen</td>\n",
       "      <td>Documentary</td>\n",
       "      <td>2020</td>\n",
       "      <td>English</td>\n",
       "    </tr>\n",
       "    <tr>\n",
       "      <th>575</th>\n",
       "      <td>8.2</td>\n",
       "      <td>The Three Deaths of Marisela Escobedo</td>\n",
       "      <td>Documentary</td>\n",
       "      <td>2020</td>\n",
       "      <td>Spanish</td>\n",
       "    </tr>\n",
       "    <tr>\n",
       "      <th>574</th>\n",
       "      <td>8.2</td>\n",
       "      <td>Seaspiracy</td>\n",
       "      <td>Documentary</td>\n",
       "      <td>2021</td>\n",
       "      <td>English</td>\n",
       "    </tr>\n",
       "    <tr>\n",
       "      <th>570</th>\n",
       "      <td>8.1</td>\n",
       "      <td>Rising Phoenix</td>\n",
       "      <td>Documentary</td>\n",
       "      <td>2020</td>\n",
       "      <td>English</td>\n",
       "    </tr>\n",
       "    <tr>\n",
       "      <th>569</th>\n",
       "      <td>8.1</td>\n",
       "      <td>My Octopus Teacher</td>\n",
       "      <td>Documentary</td>\n",
       "      <td>2020</td>\n",
       "      <td>English</td>\n",
       "    </tr>\n",
       "    <tr>\n",
       "      <th>568</th>\n",
       "      <td>8.1</td>\n",
       "      <td>Chasing Coral</td>\n",
       "      <td>Documentary</td>\n",
       "      <td>2017</td>\n",
       "      <td>English</td>\n",
       "    </tr>\n",
       "    <tr>\n",
       "      <th>567</th>\n",
       "      <td>8.0</td>\n",
       "      <td>Struggle: The Life and Lost Art of Szukaiski</td>\n",
       "      <td>Documentary</td>\n",
       "      <td>2018</td>\n",
       "      <td>English</td>\n",
       "    </tr>\n",
       "    <tr>\n",
       "      <th>564</th>\n",
       "      <td>7.9</td>\n",
       "      <td>Icarus</td>\n",
       "      <td>Documentary</td>\n",
       "      <td>2017</td>\n",
       "      <td>English</td>\n",
       "    </tr>\n",
       "    <tr>\n",
       "      <th>563</th>\n",
       "      <td>7.9</td>\n",
       "      <td>A Secret Love</td>\n",
       "      <td>Documentary</td>\n",
       "      <td>2020</td>\n",
       "      <td>English</td>\n",
       "    </tr>\n",
       "    <tr>\n",
       "      <th>566</th>\n",
       "      <td>7.9</td>\n",
       "      <td>The Ivory Game</td>\n",
       "      <td>Documentary</td>\n",
       "      <td>2016</td>\n",
       "      <td>English</td>\n",
       "    </tr>\n",
       "  </tbody>\n",
       "</table>\n",
       "</div>"
      ],
      "text/plain": [
       "     IMDB Score                                         Title  \\\n",
       "583         9.0      David Attenborough: A Life on Our Planet   \n",
       "582         8.6     Emicida: AmarElo - It's All For Yesterday   \n",
       "581         8.5                       Springsteen on Broadway   \n",
       "580         8.4   Winter on Fire: Ukraine's Fight for Freedom   \n",
       "579         8.4         Taylor Swift: Reputation Stadium Tour   \n",
       "578         8.4    Ben Platt: Live from Radio City Music Hall   \n",
       "577         8.3                        Dancing with the Birds   \n",
       "576         8.3                       Cuba and the Cameraman    \n",
       "573         8.2                                         Klaus   \n",
       "571         8.2                                          13th   \n",
       "572         8.2             Disclosure: Trans Lives on Screen   \n",
       "575         8.2         The Three Deaths of Marisela Escobedo   \n",
       "574         8.2                                    Seaspiracy   \n",
       "570         8.1                                Rising Phoenix   \n",
       "569         8.1                            My Octopus Teacher   \n",
       "568         8.1                                Chasing Coral    \n",
       "567         8.0  Struggle: The Life and Lost Art of Szukaiski   \n",
       "564         7.9                                        Icarus   \n",
       "563         7.9                                 A Secret Love   \n",
       "566         7.9                                The Ivory Game   \n",
       "\n",
       "                                    Genre  year                  Language  \n",
       "583                           Documentary  2020                   English  \n",
       "582                           Documentary  2020                Portuguese  \n",
       "581                          One-man show  2018                   English  \n",
       "580                           Documentary  2015  English/Ukranian/Russian  \n",
       "579                          Concert Film  2018                   English  \n",
       "578                          Concert Film  2020                   English  \n",
       "577                           Documentary  2019                   English  \n",
       "576                           Documentary  2017                   English  \n",
       "573  Animation/Christmas/Comedy/Adventure  2019                   English  \n",
       "571                           Documentary  2016                   English  \n",
       "572                           Documentary  2020                   English  \n",
       "575                           Documentary  2020                   Spanish  \n",
       "574                           Documentary  2021                   English  \n",
       "570                           Documentary  2020                   English  \n",
       "569                           Documentary  2020                   English  \n",
       "568                           Documentary  2017                   English  \n",
       "567                           Documentary  2018                   English  \n",
       "564                           Documentary  2017                   English  \n",
       "563                           Documentary  2020                   English  \n",
       "566                           Documentary  2016                   English  "
      ]
     },
     "execution_count": 34,
     "metadata": {},
     "output_type": "execute_result"
    }
   ],
   "source": [
    "top_20 = df[['IMDB Score','Title','Genre','year','Language']].sort_values(['IMDB Score'], ascending=False)[:20]\n",
    "top_20"
   ]
  },
  {
   "cell_type": "code",
   "execution_count": 35,
   "id": "7a85aa40",
   "metadata": {
    "_kg_hide-input": true,
    "execution": {
     "iopub.execute_input": "2021-07-21T09:07:31.825620Z",
     "iopub.status.busy": "2021-07-21T09:07:31.824880Z",
     "iopub.status.idle": "2021-07-21T09:07:31.907774Z",
     "shell.execute_reply": "2021-07-21T09:07:31.907191Z",
     "shell.execute_reply.started": "2021-07-13T16:37:55.58987Z"
    },
    "papermill": {
     "duration": 0.177364,
     "end_time": "2021-07-21T09:07:31.907913",
     "exception": false,
     "start_time": "2021-07-21T09:07:31.730549",
     "status": "completed"
    },
    "tags": []
   },
   "outputs": [
    {
     "data": {
      "text/html": [
       "<div>                            <div id=\"916bb843-eebb-41eb-8ed0-9728f3e6b433\" class=\"plotly-graph-div\" style=\"height:525px; width:100%;\"></div>            <script type=\"text/javascript\">                require([\"plotly\"], function(Plotly) {                    window.PLOTLYENV=window.PLOTLYENV || {};                                    if (document.getElementById(\"916bb843-eebb-41eb-8ed0-9728f3e6b433\")) {                    Plotly.newPlot(                        \"916bb843-eebb-41eb-8ed0-9728f3e6b433\",                        [{\"customdata\":[[\"Documentary\",2020,\"English\"],[\"Documentary\",2020,\"Portuguese\"],[\"Documentary\",2015,\"English/Ukranian/Russian\"],[\"Documentary\",2019,\"English\"],[\"Documentary\",2017,\"English\"],[\"Documentary\",2016,\"English\"],[\"Documentary\",2020,\"English\"],[\"Documentary\",2020,\"Spanish\"],[\"Documentary\",2021,\"English\"],[\"Documentary\",2020,\"English\"],[\"Documentary\",2020,\"English\"],[\"Documentary\",2017,\"English\"],[\"Documentary\",2018,\"English\"],[\"Documentary\",2017,\"English\"],[\"Documentary\",2020,\"English\"],[\"Documentary\",2016,\"English\"]],\"hovertemplate\":\"Genre=%{customdata[0]}<br>IMDB Score=%{x}<br>Title=%{y}<br>year=%{customdata[1]}<br>Language=%{customdata[2]}<extra></extra>\",\"legendgroup\":\"Documentary\",\"marker\":{\"color\":\"#636efa\",\"symbol\":\"circle\"},\"mode\":\"markers\",\"name\":\"Documentary\",\"orientation\":\"h\",\"showlegend\":true,\"type\":\"scatter\",\"x\":[9.0,8.6,8.4,8.3,8.3,8.2,8.2,8.2,8.2,8.1,8.1,8.1,8.0,7.9,7.9,7.9],\"xaxis\":\"x\",\"y\":[\"David Attenborough: A Life on Our Planet\",\"Emicida: AmarElo - It's All For Yesterday\",\"Winter on Fire: Ukraine's Fight for Freedom\",\"Dancing with the Birds\",\"Cuba and the Cameraman \",\"13th\",\"Disclosure: Trans Lives on Screen\",\"The Three Deaths of Marisela Escobedo\",\"Seaspiracy\",\"Rising Phoenix\",\"My Octopus Teacher\",\"Chasing Coral \",\"Struggle: The Life and Lost Art of Szukaiski\",\"Icarus\",\"A Secret Love\",\"The Ivory Game\"],\"yaxis\":\"y\"},{\"customdata\":[[\"One-man show\",2018,\"English\"]],\"hovertemplate\":\"Genre=%{customdata[0]}<br>IMDB Score=%{x}<br>Title=%{y}<br>year=%{customdata[1]}<br>Language=%{customdata[2]}<extra></extra>\",\"legendgroup\":\"One-man show\",\"marker\":{\"color\":\"#EF553B\",\"symbol\":\"circle\"},\"mode\":\"markers\",\"name\":\"One-man show\",\"orientation\":\"h\",\"showlegend\":true,\"type\":\"scatter\",\"x\":[8.5],\"xaxis\":\"x\",\"y\":[\"Springsteen on Broadway\"],\"yaxis\":\"y\"},{\"customdata\":[[\"Concert Film\",2018,\"English\"],[\"Concert Film\",2020,\"English\"]],\"hovertemplate\":\"Genre=%{customdata[0]}<br>IMDB Score=%{x}<br>Title=%{y}<br>year=%{customdata[1]}<br>Language=%{customdata[2]}<extra></extra>\",\"legendgroup\":\"Concert Film\",\"marker\":{\"color\":\"#00cc96\",\"symbol\":\"circle\"},\"mode\":\"markers\",\"name\":\"Concert Film\",\"orientation\":\"h\",\"showlegend\":true,\"type\":\"scatter\",\"x\":[8.4,8.4],\"xaxis\":\"x\",\"y\":[\"Taylor Swift: Reputation Stadium Tour\",\"Ben Platt: Live from Radio City Music Hall\"],\"yaxis\":\"y\"},{\"customdata\":[[\"Animation/Christmas/Comedy/Adventure\",2019,\"English\"]],\"hovertemplate\":\"Genre=%{customdata[0]}<br>IMDB Score=%{x}<br>Title=%{y}<br>year=%{customdata[1]}<br>Language=%{customdata[2]}<extra></extra>\",\"legendgroup\":\"Animation/Christmas/Comedy/Adventure\",\"marker\":{\"color\":\"#ab63fa\",\"symbol\":\"circle\"},\"mode\":\"markers\",\"name\":\"Animation/Christmas/Comedy/Adventure\",\"orientation\":\"h\",\"showlegend\":true,\"type\":\"scatter\",\"x\":[8.2],\"xaxis\":\"x\",\"y\":[\"Klaus\"],\"yaxis\":\"y\"}],                        {\"legend\":{\"title\":{\"text\":\"Genre\"},\"tracegroupgap\":0},\"template\":{\"data\":{\"bar\":[{\"error_x\":{\"color\":\"#2a3f5f\"},\"error_y\":{\"color\":\"#2a3f5f\"},\"marker\":{\"line\":{\"color\":\"#E5ECF6\",\"width\":0.5},\"pattern\":{\"fillmode\":\"overlay\",\"size\":10,\"solidity\":0.2}},\"type\":\"bar\"}],\"barpolar\":[{\"marker\":{\"line\":{\"color\":\"#E5ECF6\",\"width\":0.5},\"pattern\":{\"fillmode\":\"overlay\",\"size\":10,\"solidity\":0.2}},\"type\":\"barpolar\"}],\"carpet\":[{\"aaxis\":{\"endlinecolor\":\"#2a3f5f\",\"gridcolor\":\"white\",\"linecolor\":\"white\",\"minorgridcolor\":\"white\",\"startlinecolor\":\"#2a3f5f\"},\"baxis\":{\"endlinecolor\":\"#2a3f5f\",\"gridcolor\":\"white\",\"linecolor\":\"white\",\"minorgridcolor\":\"white\",\"startlinecolor\":\"#2a3f5f\"},\"type\":\"carpet\"}],\"choropleth\":[{\"colorbar\":{\"outlinewidth\":0,\"ticks\":\"\"},\"type\":\"choropleth\"}],\"contour\":[{\"colorbar\":{\"outlinewidth\":0,\"ticks\":\"\"},\"colorscale\":[[0.0,\"#0d0887\"],[0.1111111111111111,\"#46039f\"],[0.2222222222222222,\"#7201a8\"],[0.3333333333333333,\"#9c179e\"],[0.4444444444444444,\"#bd3786\"],[0.5555555555555556,\"#d8576b\"],[0.6666666666666666,\"#ed7953\"],[0.7777777777777778,\"#fb9f3a\"],[0.8888888888888888,\"#fdca26\"],[1.0,\"#f0f921\"]],\"type\":\"contour\"}],\"contourcarpet\":[{\"colorbar\":{\"outlinewidth\":0,\"ticks\":\"\"},\"type\":\"contourcarpet\"}],\"heatmap\":[{\"colorbar\":{\"outlinewidth\":0,\"ticks\":\"\"},\"colorscale\":[[0.0,\"#0d0887\"],[0.1111111111111111,\"#46039f\"],[0.2222222222222222,\"#7201a8\"],[0.3333333333333333,\"#9c179e\"],[0.4444444444444444,\"#bd3786\"],[0.5555555555555556,\"#d8576b\"],[0.6666666666666666,\"#ed7953\"],[0.7777777777777778,\"#fb9f3a\"],[0.8888888888888888,\"#fdca26\"],[1.0,\"#f0f921\"]],\"type\":\"heatmap\"}],\"heatmapgl\":[{\"colorbar\":{\"outlinewidth\":0,\"ticks\":\"\"},\"colorscale\":[[0.0,\"#0d0887\"],[0.1111111111111111,\"#46039f\"],[0.2222222222222222,\"#7201a8\"],[0.3333333333333333,\"#9c179e\"],[0.4444444444444444,\"#bd3786\"],[0.5555555555555556,\"#d8576b\"],[0.6666666666666666,\"#ed7953\"],[0.7777777777777778,\"#fb9f3a\"],[0.8888888888888888,\"#fdca26\"],[1.0,\"#f0f921\"]],\"type\":\"heatmapgl\"}],\"histogram\":[{\"marker\":{\"pattern\":{\"fillmode\":\"overlay\",\"size\":10,\"solidity\":0.2}},\"type\":\"histogram\"}],\"histogram2d\":[{\"colorbar\":{\"outlinewidth\":0,\"ticks\":\"\"},\"colorscale\":[[0.0,\"#0d0887\"],[0.1111111111111111,\"#46039f\"],[0.2222222222222222,\"#7201a8\"],[0.3333333333333333,\"#9c179e\"],[0.4444444444444444,\"#bd3786\"],[0.5555555555555556,\"#d8576b\"],[0.6666666666666666,\"#ed7953\"],[0.7777777777777778,\"#fb9f3a\"],[0.8888888888888888,\"#fdca26\"],[1.0,\"#f0f921\"]],\"type\":\"histogram2d\"}],\"histogram2dcontour\":[{\"colorbar\":{\"outlinewidth\":0,\"ticks\":\"\"},\"colorscale\":[[0.0,\"#0d0887\"],[0.1111111111111111,\"#46039f\"],[0.2222222222222222,\"#7201a8\"],[0.3333333333333333,\"#9c179e\"],[0.4444444444444444,\"#bd3786\"],[0.5555555555555556,\"#d8576b\"],[0.6666666666666666,\"#ed7953\"],[0.7777777777777778,\"#fb9f3a\"],[0.8888888888888888,\"#fdca26\"],[1.0,\"#f0f921\"]],\"type\":\"histogram2dcontour\"}],\"mesh3d\":[{\"colorbar\":{\"outlinewidth\":0,\"ticks\":\"\"},\"type\":\"mesh3d\"}],\"parcoords\":[{\"line\":{\"colorbar\":{\"outlinewidth\":0,\"ticks\":\"\"}},\"type\":\"parcoords\"}],\"pie\":[{\"automargin\":true,\"type\":\"pie\"}],\"scatter\":[{\"marker\":{\"colorbar\":{\"outlinewidth\":0,\"ticks\":\"\"}},\"type\":\"scatter\"}],\"scatter3d\":[{\"line\":{\"colorbar\":{\"outlinewidth\":0,\"ticks\":\"\"}},\"marker\":{\"colorbar\":{\"outlinewidth\":0,\"ticks\":\"\"}},\"type\":\"scatter3d\"}],\"scattercarpet\":[{\"marker\":{\"colorbar\":{\"outlinewidth\":0,\"ticks\":\"\"}},\"type\":\"scattercarpet\"}],\"scattergeo\":[{\"marker\":{\"colorbar\":{\"outlinewidth\":0,\"ticks\":\"\"}},\"type\":\"scattergeo\"}],\"scattergl\":[{\"marker\":{\"colorbar\":{\"outlinewidth\":0,\"ticks\":\"\"}},\"type\":\"scattergl\"}],\"scattermapbox\":[{\"marker\":{\"colorbar\":{\"outlinewidth\":0,\"ticks\":\"\"}},\"type\":\"scattermapbox\"}],\"scatterpolar\":[{\"marker\":{\"colorbar\":{\"outlinewidth\":0,\"ticks\":\"\"}},\"type\":\"scatterpolar\"}],\"scatterpolargl\":[{\"marker\":{\"colorbar\":{\"outlinewidth\":0,\"ticks\":\"\"}},\"type\":\"scatterpolargl\"}],\"scatterternary\":[{\"marker\":{\"colorbar\":{\"outlinewidth\":0,\"ticks\":\"\"}},\"type\":\"scatterternary\"}],\"surface\":[{\"colorbar\":{\"outlinewidth\":0,\"ticks\":\"\"},\"colorscale\":[[0.0,\"#0d0887\"],[0.1111111111111111,\"#46039f\"],[0.2222222222222222,\"#7201a8\"],[0.3333333333333333,\"#9c179e\"],[0.4444444444444444,\"#bd3786\"],[0.5555555555555556,\"#d8576b\"],[0.6666666666666666,\"#ed7953\"],[0.7777777777777778,\"#fb9f3a\"],[0.8888888888888888,\"#fdca26\"],[1.0,\"#f0f921\"]],\"type\":\"surface\"}],\"table\":[{\"cells\":{\"fill\":{\"color\":\"#EBF0F8\"},\"line\":{\"color\":\"white\"}},\"header\":{\"fill\":{\"color\":\"#C8D4E3\"},\"line\":{\"color\":\"white\"}},\"type\":\"table\"}]},\"layout\":{\"annotationdefaults\":{\"arrowcolor\":\"#2a3f5f\",\"arrowhead\":0,\"arrowwidth\":1},\"autotypenumbers\":\"strict\",\"coloraxis\":{\"colorbar\":{\"outlinewidth\":0,\"ticks\":\"\"}},\"colorscale\":{\"diverging\":[[0,\"#8e0152\"],[0.1,\"#c51b7d\"],[0.2,\"#de77ae\"],[0.3,\"#f1b6da\"],[0.4,\"#fde0ef\"],[0.5,\"#f7f7f7\"],[0.6,\"#e6f5d0\"],[0.7,\"#b8e186\"],[0.8,\"#7fbc41\"],[0.9,\"#4d9221\"],[1,\"#276419\"]],\"sequential\":[[0.0,\"#0d0887\"],[0.1111111111111111,\"#46039f\"],[0.2222222222222222,\"#7201a8\"],[0.3333333333333333,\"#9c179e\"],[0.4444444444444444,\"#bd3786\"],[0.5555555555555556,\"#d8576b\"],[0.6666666666666666,\"#ed7953\"],[0.7777777777777778,\"#fb9f3a\"],[0.8888888888888888,\"#fdca26\"],[1.0,\"#f0f921\"]],\"sequentialminus\":[[0.0,\"#0d0887\"],[0.1111111111111111,\"#46039f\"],[0.2222222222222222,\"#7201a8\"],[0.3333333333333333,\"#9c179e\"],[0.4444444444444444,\"#bd3786\"],[0.5555555555555556,\"#d8576b\"],[0.6666666666666666,\"#ed7953\"],[0.7777777777777778,\"#fb9f3a\"],[0.8888888888888888,\"#fdca26\"],[1.0,\"#f0f921\"]]},\"colorway\":[\"#636efa\",\"#EF553B\",\"#00cc96\",\"#ab63fa\",\"#FFA15A\",\"#19d3f3\",\"#FF6692\",\"#B6E880\",\"#FF97FF\",\"#FECB52\"],\"font\":{\"color\":\"#2a3f5f\"},\"geo\":{\"bgcolor\":\"white\",\"lakecolor\":\"white\",\"landcolor\":\"#E5ECF6\",\"showlakes\":true,\"showland\":true,\"subunitcolor\":\"white\"},\"hoverlabel\":{\"align\":\"left\"},\"hovermode\":\"closest\",\"mapbox\":{\"style\":\"light\"},\"paper_bgcolor\":\"white\",\"plot_bgcolor\":\"#E5ECF6\",\"polar\":{\"angularaxis\":{\"gridcolor\":\"white\",\"linecolor\":\"white\",\"ticks\":\"\"},\"bgcolor\":\"#E5ECF6\",\"radialaxis\":{\"gridcolor\":\"white\",\"linecolor\":\"white\",\"ticks\":\"\"}},\"scene\":{\"xaxis\":{\"backgroundcolor\":\"#E5ECF6\",\"gridcolor\":\"white\",\"gridwidth\":2,\"linecolor\":\"white\",\"showbackground\":true,\"ticks\":\"\",\"zerolinecolor\":\"white\"},\"yaxis\":{\"backgroundcolor\":\"#E5ECF6\",\"gridcolor\":\"white\",\"gridwidth\":2,\"linecolor\":\"white\",\"showbackground\":true,\"ticks\":\"\",\"zerolinecolor\":\"white\"},\"zaxis\":{\"backgroundcolor\":\"#E5ECF6\",\"gridcolor\":\"white\",\"gridwidth\":2,\"linecolor\":\"white\",\"showbackground\":true,\"ticks\":\"\",\"zerolinecolor\":\"white\"}},\"shapedefaults\":{\"line\":{\"color\":\"#2a3f5f\"}},\"ternary\":{\"aaxis\":{\"gridcolor\":\"white\",\"linecolor\":\"white\",\"ticks\":\"\"},\"baxis\":{\"gridcolor\":\"white\",\"linecolor\":\"white\",\"ticks\":\"\"},\"bgcolor\":\"#E5ECF6\",\"caxis\":{\"gridcolor\":\"white\",\"linecolor\":\"white\",\"ticks\":\"\"}},\"title\":{\"x\":0.05},\"xaxis\":{\"automargin\":true,\"gridcolor\":\"white\",\"linecolor\":\"white\",\"ticks\":\"\",\"title\":{\"standoff\":15},\"zerolinecolor\":\"white\",\"zerolinewidth\":2},\"yaxis\":{\"automargin\":true,\"gridcolor\":\"white\",\"linecolor\":\"white\",\"ticks\":\"\",\"title\":{\"standoff\":15},\"zerolinecolor\":\"white\",\"zerolinewidth\":2}}},\"title\":{\"text\":\"Top 20 High Rated Programs\"},\"xaxis\":{\"anchor\":\"y\",\"domain\":[0.0,1.0],\"title\":{\"text\":\"IMDB Score\"}},\"yaxis\":{\"anchor\":\"x\",\"domain\":[0.0,1.0],\"title\":{\"text\":\"Title\"}}},                        {\"responsive\": true}                    ).then(function(){\n",
       "                            \n",
       "var gd = document.getElementById('916bb843-eebb-41eb-8ed0-9728f3e6b433');\n",
       "var x = new MutationObserver(function (mutations, observer) {{\n",
       "        var display = window.getComputedStyle(gd).display;\n",
       "        if (!display || display === 'none') {{\n",
       "            console.log([gd, 'removed!']);\n",
       "            Plotly.purge(gd);\n",
       "            observer.disconnect();\n",
       "        }}\n",
       "}});\n",
       "\n",
       "// Listen for the removal of the full notebook cells\n",
       "var notebookContainer = gd.closest('#notebook-container');\n",
       "if (notebookContainer) {{\n",
       "    x.observe(notebookContainer, {childList: true});\n",
       "}}\n",
       "\n",
       "// Listen for the clearing of the current output cell\n",
       "var outputEl = gd.closest('.output');\n",
       "if (outputEl) {{\n",
       "    x.observe(outputEl, {childList: true});\n",
       "}}\n",
       "\n",
       "                        })                };                });            </script>        </div>"
      ]
     },
     "metadata": {},
     "output_type": "display_data"
    }
   ],
   "source": [
    "fig = px.scatter(top_20, y= 'Title', x='IMDB Score', \n",
    "                 hover_data = top_20[['Genre','year','Language']], color='Genre', \n",
    "                 title = \"Top 20 High Rated Programs\")\n",
    "fig.show()"
   ]
  },
  {
   "cell_type": "markdown",
   "id": "0d937854",
   "metadata": {
    "papermill": {
     "duration": 0.072673,
     "end_time": "2021-07-21T09:07:32.049244",
     "exception": false,
     "start_time": "2021-07-21T09:07:31.976571",
     "status": "completed"
    },
    "tags": []
   },
   "source": [
    "- 16 out 20 top rated movies come from Documentary genre."
   ]
  },
  {
   "cell_type": "markdown",
   "id": "ec3000a0",
   "metadata": {
    "papermill": {
     "duration": 0.068408,
     "end_time": "2021-07-21T09:07:32.187079",
     "exception": false,
     "start_time": "2021-07-21T09:07:32.118671",
     "status": "completed"
    },
    "tags": []
   },
   "source": [
    "#### **20 Lowest Rated Movies** "
   ]
  },
  {
   "cell_type": "code",
   "execution_count": 36,
   "id": "5f0b06dd",
   "metadata": {
    "_kg_hide-input": true,
    "execution": {
     "iopub.execute_input": "2021-07-21T09:07:32.333629Z",
     "iopub.status.busy": "2021-07-21T09:07:32.332569Z",
     "iopub.status.idle": "2021-07-21T09:07:32.350826Z",
     "shell.execute_reply": "2021-07-21T09:07:32.351401Z",
     "shell.execute_reply.started": "2021-07-13T16:37:55.686925Z"
    },
    "papermill": {
     "duration": 0.093258,
     "end_time": "2021-07-21T09:07:32.351589",
     "exception": false,
     "start_time": "2021-07-21T09:07:32.258331",
     "status": "completed"
    },
    "tags": []
   },
   "outputs": [
    {
     "data": {
      "text/html": [
       "<div>\n",
       "<style scoped>\n",
       "    .dataframe tbody tr th:only-of-type {\n",
       "        vertical-align: middle;\n",
       "    }\n",
       "\n",
       "    .dataframe tbody tr th {\n",
       "        vertical-align: top;\n",
       "    }\n",
       "\n",
       "    .dataframe thead th {\n",
       "        text-align: right;\n",
       "    }\n",
       "</style>\n",
       "<table border=\"1\" class=\"dataframe\">\n",
       "  <thead>\n",
       "    <tr style=\"text-align: right;\">\n",
       "      <th></th>\n",
       "      <th>IMDB Score</th>\n",
       "      <th>Title</th>\n",
       "      <th>Genre</th>\n",
       "      <th>year</th>\n",
       "      <th>Language</th>\n",
       "    </tr>\n",
       "  </thead>\n",
       "  <tbody>\n",
       "    <tr>\n",
       "      <th>0</th>\n",
       "      <td>2.5</td>\n",
       "      <td>Enter the Anime</td>\n",
       "      <td>Documentary</td>\n",
       "      <td>2019</td>\n",
       "      <td>English/Japanese</td>\n",
       "    </tr>\n",
       "    <tr>\n",
       "      <th>1</th>\n",
       "      <td>2.6</td>\n",
       "      <td>Dark Forces</td>\n",
       "      <td>Thriller</td>\n",
       "      <td>2020</td>\n",
       "      <td>Spanish</td>\n",
       "    </tr>\n",
       "    <tr>\n",
       "      <th>2</th>\n",
       "      <td>2.6</td>\n",
       "      <td>The App</td>\n",
       "      <td>Science fiction/Drama</td>\n",
       "      <td>2019</td>\n",
       "      <td>Italian</td>\n",
       "    </tr>\n",
       "    <tr>\n",
       "      <th>3</th>\n",
       "      <td>3.2</td>\n",
       "      <td>The Open House</td>\n",
       "      <td>Horror thriller</td>\n",
       "      <td>2018</td>\n",
       "      <td>English</td>\n",
       "    </tr>\n",
       "    <tr>\n",
       "      <th>4</th>\n",
       "      <td>3.4</td>\n",
       "      <td>Kaali Khuhi</td>\n",
       "      <td>Mystery</td>\n",
       "      <td>2020</td>\n",
       "      <td>Hindi</td>\n",
       "    </tr>\n",
       "    <tr>\n",
       "      <th>5</th>\n",
       "      <td>3.5</td>\n",
       "      <td>Drive</td>\n",
       "      <td>Action</td>\n",
       "      <td>2019</td>\n",
       "      <td>Hindi</td>\n",
       "    </tr>\n",
       "    <tr>\n",
       "      <th>6</th>\n",
       "      <td>3.7</td>\n",
       "      <td>Leyla Everlasting</td>\n",
       "      <td>Comedy</td>\n",
       "      <td>2020</td>\n",
       "      <td>Turkish</td>\n",
       "    </tr>\n",
       "    <tr>\n",
       "      <th>7</th>\n",
       "      <td>3.7</td>\n",
       "      <td>The Last Days of American Crime</td>\n",
       "      <td>Heist film/Thriller</td>\n",
       "      <td>2020</td>\n",
       "      <td>English</td>\n",
       "    </tr>\n",
       "    <tr>\n",
       "      <th>8</th>\n",
       "      <td>3.9</td>\n",
       "      <td>Paradox</td>\n",
       "      <td>Musical/Western/Fantasy</td>\n",
       "      <td>2018</td>\n",
       "      <td>English</td>\n",
       "    </tr>\n",
       "    <tr>\n",
       "      <th>9</th>\n",
       "      <td>4.1</td>\n",
       "      <td>Sardar Ka Grandson</td>\n",
       "      <td>Comedy</td>\n",
       "      <td>2021</td>\n",
       "      <td>Hindi</td>\n",
       "    </tr>\n",
       "    <tr>\n",
       "      <th>10</th>\n",
       "      <td>4.1</td>\n",
       "      <td>Searching for Sheela</td>\n",
       "      <td>Documentary</td>\n",
       "      <td>2021</td>\n",
       "      <td>English</td>\n",
       "    </tr>\n",
       "    <tr>\n",
       "      <th>11</th>\n",
       "      <td>4.1</td>\n",
       "      <td>The Call</td>\n",
       "      <td>Drama</td>\n",
       "      <td>2020</td>\n",
       "      <td>Korean</td>\n",
       "    </tr>\n",
       "    <tr>\n",
       "      <th>12</th>\n",
       "      <td>4.1</td>\n",
       "      <td>Whipped</td>\n",
       "      <td>Romantic comedy</td>\n",
       "      <td>2020</td>\n",
       "      <td>Indonesian</td>\n",
       "    </tr>\n",
       "    <tr>\n",
       "      <th>13</th>\n",
       "      <td>4.2</td>\n",
       "      <td>All Because of You</td>\n",
       "      <td>Action comedy</td>\n",
       "      <td>2020</td>\n",
       "      <td>Malay</td>\n",
       "    </tr>\n",
       "    <tr>\n",
       "      <th>14</th>\n",
       "      <td>4.2</td>\n",
       "      <td>Mercy</td>\n",
       "      <td>Thriller</td>\n",
       "      <td>2016</td>\n",
       "      <td>English</td>\n",
       "    </tr>\n",
       "    <tr>\n",
       "      <th>18</th>\n",
       "      <td>4.3</td>\n",
       "      <td>What Happened to Mr. Cha?</td>\n",
       "      <td>Comedy</td>\n",
       "      <td>2021</td>\n",
       "      <td>Korean</td>\n",
       "    </tr>\n",
       "    <tr>\n",
       "      <th>17</th>\n",
       "      <td>4.3</td>\n",
       "      <td>The Last Thing He Wanted</td>\n",
       "      <td>Political thriller</td>\n",
       "      <td>2020</td>\n",
       "      <td>English</td>\n",
       "    </tr>\n",
       "    <tr>\n",
       "      <th>15</th>\n",
       "      <td>4.3</td>\n",
       "      <td>After the Raid</td>\n",
       "      <td>Documentary</td>\n",
       "      <td>2019</td>\n",
       "      <td>Spanish</td>\n",
       "    </tr>\n",
       "    <tr>\n",
       "      <th>16</th>\n",
       "      <td>4.3</td>\n",
       "      <td>Ghost Stories</td>\n",
       "      <td>Horror anthology</td>\n",
       "      <td>2020</td>\n",
       "      <td>Hindi</td>\n",
       "    </tr>\n",
       "    <tr>\n",
       "      <th>19</th>\n",
       "      <td>4.4</td>\n",
       "      <td>Death Note</td>\n",
       "      <td>Horror thriller</td>\n",
       "      <td>2017</td>\n",
       "      <td>English</td>\n",
       "    </tr>\n",
       "  </tbody>\n",
       "</table>\n",
       "</div>"
      ],
      "text/plain": [
       "    IMDB Score                            Title                    Genre  \\\n",
       "0          2.5                  Enter the Anime              Documentary   \n",
       "1          2.6                      Dark Forces                 Thriller   \n",
       "2          2.6                          The App    Science fiction/Drama   \n",
       "3          3.2                   The Open House          Horror thriller   \n",
       "4          3.4                      Kaali Khuhi                  Mystery   \n",
       "5          3.5                            Drive                   Action   \n",
       "6          3.7                Leyla Everlasting                   Comedy   \n",
       "7          3.7  The Last Days of American Crime      Heist film/Thriller   \n",
       "8          3.9                          Paradox  Musical/Western/Fantasy   \n",
       "9          4.1               Sardar Ka Grandson                   Comedy   \n",
       "10         4.1             Searching for Sheela              Documentary   \n",
       "11         4.1                         The Call                    Drama   \n",
       "12         4.1                          Whipped          Romantic comedy   \n",
       "13         4.2               All Because of You            Action comedy   \n",
       "14         4.2                            Mercy                 Thriller   \n",
       "18         4.3        What Happened to Mr. Cha?                   Comedy   \n",
       "17         4.3         The Last Thing He Wanted       Political thriller   \n",
       "15         4.3                   After the Raid              Documentary   \n",
       "16         4.3                    Ghost Stories         Horror anthology   \n",
       "19         4.4                       Death Note          Horror thriller   \n",
       "\n",
       "    year          Language  \n",
       "0   2019  English/Japanese  \n",
       "1   2020           Spanish  \n",
       "2   2019           Italian  \n",
       "3   2018           English  \n",
       "4   2020             Hindi  \n",
       "5   2019             Hindi  \n",
       "6   2020           Turkish  \n",
       "7   2020           English  \n",
       "8   2018           English  \n",
       "9   2021             Hindi  \n",
       "10  2021           English  \n",
       "11  2020            Korean  \n",
       "12  2020        Indonesian  \n",
       "13  2020             Malay  \n",
       "14  2016           English  \n",
       "18  2021            Korean  \n",
       "17  2020           English  \n",
       "15  2019           Spanish  \n",
       "16  2020             Hindi  \n",
       "19  2017           English  "
      ]
     },
     "execution_count": 36,
     "metadata": {},
     "output_type": "execute_result"
    }
   ],
   "source": [
    "bottom_20 = df[['IMDB Score','Title','Genre','year','Language']].sort_values(['IMDB Score'])[:20]\n",
    "bottom_20"
   ]
  },
  {
   "cell_type": "code",
   "execution_count": 37,
   "id": "a9857d80",
   "metadata": {
    "_kg_hide-input": true,
    "execution": {
     "iopub.execute_input": "2021-07-21T09:07:32.592698Z",
     "iopub.status.busy": "2021-07-21T09:07:32.509710Z",
     "iopub.status.idle": "2021-07-21T09:07:32.655250Z",
     "shell.execute_reply": "2021-07-21T09:07:32.654264Z",
     "shell.execute_reply.started": "2021-07-13T16:37:55.709191Z"
    },
    "papermill": {
     "duration": 0.22838,
     "end_time": "2021-07-21T09:07:32.655406",
     "exception": false,
     "start_time": "2021-07-21T09:07:32.427026",
     "status": "completed"
    },
    "tags": []
   },
   "outputs": [
    {
     "data": {
      "text/html": [
       "<div>                            <div id=\"00489202-cfd8-4a02-83f6-578cbec6d02c\" class=\"plotly-graph-div\" style=\"height:525px; width:100%;\"></div>            <script type=\"text/javascript\">                require([\"plotly\"], function(Plotly) {                    window.PLOTLYENV=window.PLOTLYENV || {};                                    if (document.getElementById(\"00489202-cfd8-4a02-83f6-578cbec6d02c\")) {                    Plotly.newPlot(                        \"00489202-cfd8-4a02-83f6-578cbec6d02c\",                        [{\"customdata\":[[\"Documentary\",2019,\"English/Japanese\"],[\"Documentary\",2021,\"English\"],[\"Documentary\",2019,\"Spanish\"]],\"hovertemplate\":\"Genre=%{customdata[0]}<br>IMDB Score=%{x}<br>Title=%{y}<br>year=%{customdata[1]}<br>Language=%{customdata[2]}<extra></extra>\",\"legendgroup\":\"Documentary\",\"marker\":{\"color\":\"#636efa\",\"symbol\":\"circle\"},\"mode\":\"markers\",\"name\":\"Documentary\",\"orientation\":\"h\",\"showlegend\":true,\"type\":\"scatter\",\"x\":[2.5,4.1,4.3],\"xaxis\":\"x\",\"y\":[\"Enter the Anime\",\"Searching for Sheela\",\"After the Raid\"],\"yaxis\":\"y\"},{\"customdata\":[[\"Thriller\",2020,\"Spanish\"],[\"Thriller\",2016,\"English\"]],\"hovertemplate\":\"Genre=%{customdata[0]}<br>IMDB Score=%{x}<br>Title=%{y}<br>year=%{customdata[1]}<br>Language=%{customdata[2]}<extra></extra>\",\"legendgroup\":\"Thriller\",\"marker\":{\"color\":\"#EF553B\",\"symbol\":\"circle\"},\"mode\":\"markers\",\"name\":\"Thriller\",\"orientation\":\"h\",\"showlegend\":true,\"type\":\"scatter\",\"x\":[2.6,4.2],\"xaxis\":\"x\",\"y\":[\"Dark Forces\",\"Mercy\"],\"yaxis\":\"y\"},{\"customdata\":[[\"Science fiction/Drama\",2019,\"Italian\"]],\"hovertemplate\":\"Genre=%{customdata[0]}<br>IMDB Score=%{x}<br>Title=%{y}<br>year=%{customdata[1]}<br>Language=%{customdata[2]}<extra></extra>\",\"legendgroup\":\"Science fiction/Drama\",\"marker\":{\"color\":\"#00cc96\",\"symbol\":\"circle\"},\"mode\":\"markers\",\"name\":\"Science fiction/Drama\",\"orientation\":\"h\",\"showlegend\":true,\"type\":\"scatter\",\"x\":[2.6],\"xaxis\":\"x\",\"y\":[\"The App\"],\"yaxis\":\"y\"},{\"customdata\":[[\"Horror thriller\",2018,\"English\"],[\"Horror thriller\",2017,\"English\"]],\"hovertemplate\":\"Genre=%{customdata[0]}<br>IMDB Score=%{x}<br>Title=%{y}<br>year=%{customdata[1]}<br>Language=%{customdata[2]}<extra></extra>\",\"legendgroup\":\"Horror thriller\",\"marker\":{\"color\":\"#ab63fa\",\"symbol\":\"circle\"},\"mode\":\"markers\",\"name\":\"Horror thriller\",\"orientation\":\"h\",\"showlegend\":true,\"type\":\"scatter\",\"x\":[3.2,4.4],\"xaxis\":\"x\",\"y\":[\"The Open House\",\"Death Note\"],\"yaxis\":\"y\"},{\"customdata\":[[\"Mystery\",2020,\"Hindi\"]],\"hovertemplate\":\"Genre=%{customdata[0]}<br>IMDB Score=%{x}<br>Title=%{y}<br>year=%{customdata[1]}<br>Language=%{customdata[2]}<extra></extra>\",\"legendgroup\":\"Mystery\",\"marker\":{\"color\":\"#FFA15A\",\"symbol\":\"circle\"},\"mode\":\"markers\",\"name\":\"Mystery\",\"orientation\":\"h\",\"showlegend\":true,\"type\":\"scatter\",\"x\":[3.4],\"xaxis\":\"x\",\"y\":[\"Kaali Khuhi\"],\"yaxis\":\"y\"},{\"customdata\":[[\"Action\",2019,\"Hindi\"]],\"hovertemplate\":\"Genre=%{customdata[0]}<br>IMDB Score=%{x}<br>Title=%{y}<br>year=%{customdata[1]}<br>Language=%{customdata[2]}<extra></extra>\",\"legendgroup\":\"Action\",\"marker\":{\"color\":\"#19d3f3\",\"symbol\":\"circle\"},\"mode\":\"markers\",\"name\":\"Action\",\"orientation\":\"h\",\"showlegend\":true,\"type\":\"scatter\",\"x\":[3.5],\"xaxis\":\"x\",\"y\":[\"Drive\"],\"yaxis\":\"y\"},{\"customdata\":[[\"Comedy\",2020,\"Turkish\"],[\"Comedy\",2021,\"Hindi\"],[\"Comedy\",2021,\"Korean\"]],\"hovertemplate\":\"Genre=%{customdata[0]}<br>IMDB Score=%{x}<br>Title=%{y}<br>year=%{customdata[1]}<br>Language=%{customdata[2]}<extra></extra>\",\"legendgroup\":\"Comedy\",\"marker\":{\"color\":\"#FF6692\",\"symbol\":\"circle\"},\"mode\":\"markers\",\"name\":\"Comedy\",\"orientation\":\"h\",\"showlegend\":true,\"type\":\"scatter\",\"x\":[3.7,4.1,4.3],\"xaxis\":\"x\",\"y\":[\"Leyla Everlasting\",\"Sardar Ka Grandson\",\"What Happened to Mr. Cha?\"],\"yaxis\":\"y\"},{\"customdata\":[[\"Heist film/Thriller\",2020,\"English\"]],\"hovertemplate\":\"Genre=%{customdata[0]}<br>IMDB Score=%{x}<br>Title=%{y}<br>year=%{customdata[1]}<br>Language=%{customdata[2]}<extra></extra>\",\"legendgroup\":\"Heist film/Thriller\",\"marker\":{\"color\":\"#B6E880\",\"symbol\":\"circle\"},\"mode\":\"markers\",\"name\":\"Heist film/Thriller\",\"orientation\":\"h\",\"showlegend\":true,\"type\":\"scatter\",\"x\":[3.7],\"xaxis\":\"x\",\"y\":[\"The Last Days of American Crime\"],\"yaxis\":\"y\"},{\"customdata\":[[\"Musical/Western/Fantasy\",2018,\"English\"]],\"hovertemplate\":\"Genre=%{customdata[0]}<br>IMDB Score=%{x}<br>Title=%{y}<br>year=%{customdata[1]}<br>Language=%{customdata[2]}<extra></extra>\",\"legendgroup\":\"Musical/Western/Fantasy\",\"marker\":{\"color\":\"#FF97FF\",\"symbol\":\"circle\"},\"mode\":\"markers\",\"name\":\"Musical/Western/Fantasy\",\"orientation\":\"h\",\"showlegend\":true,\"type\":\"scatter\",\"x\":[3.9],\"xaxis\":\"x\",\"y\":[\"Paradox\"],\"yaxis\":\"y\"},{\"customdata\":[[\"Drama\",2020,\"Korean\"]],\"hovertemplate\":\"Genre=%{customdata[0]}<br>IMDB Score=%{x}<br>Title=%{y}<br>year=%{customdata[1]}<br>Language=%{customdata[2]}<extra></extra>\",\"legendgroup\":\"Drama\",\"marker\":{\"color\":\"#FECB52\",\"symbol\":\"circle\"},\"mode\":\"markers\",\"name\":\"Drama\",\"orientation\":\"h\",\"showlegend\":true,\"type\":\"scatter\",\"x\":[4.1],\"xaxis\":\"x\",\"y\":[\"The Call\"],\"yaxis\":\"y\"},{\"customdata\":[[\"Romantic comedy\",2020,\"Indonesian\"]],\"hovertemplate\":\"Genre=%{customdata[0]}<br>IMDB Score=%{x}<br>Title=%{y}<br>year=%{customdata[1]}<br>Language=%{customdata[2]}<extra></extra>\",\"legendgroup\":\"Romantic comedy\",\"marker\":{\"color\":\"#636efa\",\"symbol\":\"circle\"},\"mode\":\"markers\",\"name\":\"Romantic comedy\",\"orientation\":\"h\",\"showlegend\":true,\"type\":\"scatter\",\"x\":[4.1],\"xaxis\":\"x\",\"y\":[\"Whipped\"],\"yaxis\":\"y\"},{\"customdata\":[[\"Action comedy\",2020,\"Malay\"]],\"hovertemplate\":\"Genre=%{customdata[0]}<br>IMDB Score=%{x}<br>Title=%{y}<br>year=%{customdata[1]}<br>Language=%{customdata[2]}<extra></extra>\",\"legendgroup\":\"Action comedy\",\"marker\":{\"color\":\"#EF553B\",\"symbol\":\"circle\"},\"mode\":\"markers\",\"name\":\"Action comedy\",\"orientation\":\"h\",\"showlegend\":true,\"type\":\"scatter\",\"x\":[4.2],\"xaxis\":\"x\",\"y\":[\"All Because of You\"],\"yaxis\":\"y\"},{\"customdata\":[[\"Political thriller\",2020,\"English\"]],\"hovertemplate\":\"Genre=%{customdata[0]}<br>IMDB Score=%{x}<br>Title=%{y}<br>year=%{customdata[1]}<br>Language=%{customdata[2]}<extra></extra>\",\"legendgroup\":\"Political thriller\",\"marker\":{\"color\":\"#00cc96\",\"symbol\":\"circle\"},\"mode\":\"markers\",\"name\":\"Political thriller\",\"orientation\":\"h\",\"showlegend\":true,\"type\":\"scatter\",\"x\":[4.3],\"xaxis\":\"x\",\"y\":[\"The Last Thing He Wanted\"],\"yaxis\":\"y\"},{\"customdata\":[[\"Horror anthology\",2020,\"Hindi\"]],\"hovertemplate\":\"Genre=%{customdata[0]}<br>IMDB Score=%{x}<br>Title=%{y}<br>year=%{customdata[1]}<br>Language=%{customdata[2]}<extra></extra>\",\"legendgroup\":\"Horror anthology\",\"marker\":{\"color\":\"#ab63fa\",\"symbol\":\"circle\"},\"mode\":\"markers\",\"name\":\"Horror anthology\",\"orientation\":\"h\",\"showlegend\":true,\"type\":\"scatter\",\"x\":[4.3],\"xaxis\":\"x\",\"y\":[\"Ghost Stories\"],\"yaxis\":\"y\"}],                        {\"legend\":{\"title\":{\"text\":\"Genre\"},\"tracegroupgap\":0},\"template\":{\"data\":{\"bar\":[{\"error_x\":{\"color\":\"#2a3f5f\"},\"error_y\":{\"color\":\"#2a3f5f\"},\"marker\":{\"line\":{\"color\":\"#E5ECF6\",\"width\":0.5},\"pattern\":{\"fillmode\":\"overlay\",\"size\":10,\"solidity\":0.2}},\"type\":\"bar\"}],\"barpolar\":[{\"marker\":{\"line\":{\"color\":\"#E5ECF6\",\"width\":0.5},\"pattern\":{\"fillmode\":\"overlay\",\"size\":10,\"solidity\":0.2}},\"type\":\"barpolar\"}],\"carpet\":[{\"aaxis\":{\"endlinecolor\":\"#2a3f5f\",\"gridcolor\":\"white\",\"linecolor\":\"white\",\"minorgridcolor\":\"white\",\"startlinecolor\":\"#2a3f5f\"},\"baxis\":{\"endlinecolor\":\"#2a3f5f\",\"gridcolor\":\"white\",\"linecolor\":\"white\",\"minorgridcolor\":\"white\",\"startlinecolor\":\"#2a3f5f\"},\"type\":\"carpet\"}],\"choropleth\":[{\"colorbar\":{\"outlinewidth\":0,\"ticks\":\"\"},\"type\":\"choropleth\"}],\"contour\":[{\"colorbar\":{\"outlinewidth\":0,\"ticks\":\"\"},\"colorscale\":[[0.0,\"#0d0887\"],[0.1111111111111111,\"#46039f\"],[0.2222222222222222,\"#7201a8\"],[0.3333333333333333,\"#9c179e\"],[0.4444444444444444,\"#bd3786\"],[0.5555555555555556,\"#d8576b\"],[0.6666666666666666,\"#ed7953\"],[0.7777777777777778,\"#fb9f3a\"],[0.8888888888888888,\"#fdca26\"],[1.0,\"#f0f921\"]],\"type\":\"contour\"}],\"contourcarpet\":[{\"colorbar\":{\"outlinewidth\":0,\"ticks\":\"\"},\"type\":\"contourcarpet\"}],\"heatmap\":[{\"colorbar\":{\"outlinewidth\":0,\"ticks\":\"\"},\"colorscale\":[[0.0,\"#0d0887\"],[0.1111111111111111,\"#46039f\"],[0.2222222222222222,\"#7201a8\"],[0.3333333333333333,\"#9c179e\"],[0.4444444444444444,\"#bd3786\"],[0.5555555555555556,\"#d8576b\"],[0.6666666666666666,\"#ed7953\"],[0.7777777777777778,\"#fb9f3a\"],[0.8888888888888888,\"#fdca26\"],[1.0,\"#f0f921\"]],\"type\":\"heatmap\"}],\"heatmapgl\":[{\"colorbar\":{\"outlinewidth\":0,\"ticks\":\"\"},\"colorscale\":[[0.0,\"#0d0887\"],[0.1111111111111111,\"#46039f\"],[0.2222222222222222,\"#7201a8\"],[0.3333333333333333,\"#9c179e\"],[0.4444444444444444,\"#bd3786\"],[0.5555555555555556,\"#d8576b\"],[0.6666666666666666,\"#ed7953\"],[0.7777777777777778,\"#fb9f3a\"],[0.8888888888888888,\"#fdca26\"],[1.0,\"#f0f921\"]],\"type\":\"heatmapgl\"}],\"histogram\":[{\"marker\":{\"pattern\":{\"fillmode\":\"overlay\",\"size\":10,\"solidity\":0.2}},\"type\":\"histogram\"}],\"histogram2d\":[{\"colorbar\":{\"outlinewidth\":0,\"ticks\":\"\"},\"colorscale\":[[0.0,\"#0d0887\"],[0.1111111111111111,\"#46039f\"],[0.2222222222222222,\"#7201a8\"],[0.3333333333333333,\"#9c179e\"],[0.4444444444444444,\"#bd3786\"],[0.5555555555555556,\"#d8576b\"],[0.6666666666666666,\"#ed7953\"],[0.7777777777777778,\"#fb9f3a\"],[0.8888888888888888,\"#fdca26\"],[1.0,\"#f0f921\"]],\"type\":\"histogram2d\"}],\"histogram2dcontour\":[{\"colorbar\":{\"outlinewidth\":0,\"ticks\":\"\"},\"colorscale\":[[0.0,\"#0d0887\"],[0.1111111111111111,\"#46039f\"],[0.2222222222222222,\"#7201a8\"],[0.3333333333333333,\"#9c179e\"],[0.4444444444444444,\"#bd3786\"],[0.5555555555555556,\"#d8576b\"],[0.6666666666666666,\"#ed7953\"],[0.7777777777777778,\"#fb9f3a\"],[0.8888888888888888,\"#fdca26\"],[1.0,\"#f0f921\"]],\"type\":\"histogram2dcontour\"}],\"mesh3d\":[{\"colorbar\":{\"outlinewidth\":0,\"ticks\":\"\"},\"type\":\"mesh3d\"}],\"parcoords\":[{\"line\":{\"colorbar\":{\"outlinewidth\":0,\"ticks\":\"\"}},\"type\":\"parcoords\"}],\"pie\":[{\"automargin\":true,\"type\":\"pie\"}],\"scatter\":[{\"marker\":{\"colorbar\":{\"outlinewidth\":0,\"ticks\":\"\"}},\"type\":\"scatter\"}],\"scatter3d\":[{\"line\":{\"colorbar\":{\"outlinewidth\":0,\"ticks\":\"\"}},\"marker\":{\"colorbar\":{\"outlinewidth\":0,\"ticks\":\"\"}},\"type\":\"scatter3d\"}],\"scattercarpet\":[{\"marker\":{\"colorbar\":{\"outlinewidth\":0,\"ticks\":\"\"}},\"type\":\"scattercarpet\"}],\"scattergeo\":[{\"marker\":{\"colorbar\":{\"outlinewidth\":0,\"ticks\":\"\"}},\"type\":\"scattergeo\"}],\"scattergl\":[{\"marker\":{\"colorbar\":{\"outlinewidth\":0,\"ticks\":\"\"}},\"type\":\"scattergl\"}],\"scattermapbox\":[{\"marker\":{\"colorbar\":{\"outlinewidth\":0,\"ticks\":\"\"}},\"type\":\"scattermapbox\"}],\"scatterpolar\":[{\"marker\":{\"colorbar\":{\"outlinewidth\":0,\"ticks\":\"\"}},\"type\":\"scatterpolar\"}],\"scatterpolargl\":[{\"marker\":{\"colorbar\":{\"outlinewidth\":0,\"ticks\":\"\"}},\"type\":\"scatterpolargl\"}],\"scatterternary\":[{\"marker\":{\"colorbar\":{\"outlinewidth\":0,\"ticks\":\"\"}},\"type\":\"scatterternary\"}],\"surface\":[{\"colorbar\":{\"outlinewidth\":0,\"ticks\":\"\"},\"colorscale\":[[0.0,\"#0d0887\"],[0.1111111111111111,\"#46039f\"],[0.2222222222222222,\"#7201a8\"],[0.3333333333333333,\"#9c179e\"],[0.4444444444444444,\"#bd3786\"],[0.5555555555555556,\"#d8576b\"],[0.6666666666666666,\"#ed7953\"],[0.7777777777777778,\"#fb9f3a\"],[0.8888888888888888,\"#fdca26\"],[1.0,\"#f0f921\"]],\"type\":\"surface\"}],\"table\":[{\"cells\":{\"fill\":{\"color\":\"#EBF0F8\"},\"line\":{\"color\":\"white\"}},\"header\":{\"fill\":{\"color\":\"#C8D4E3\"},\"line\":{\"color\":\"white\"}},\"type\":\"table\"}]},\"layout\":{\"annotationdefaults\":{\"arrowcolor\":\"#2a3f5f\",\"arrowhead\":0,\"arrowwidth\":1},\"autotypenumbers\":\"strict\",\"coloraxis\":{\"colorbar\":{\"outlinewidth\":0,\"ticks\":\"\"}},\"colorscale\":{\"diverging\":[[0,\"#8e0152\"],[0.1,\"#c51b7d\"],[0.2,\"#de77ae\"],[0.3,\"#f1b6da\"],[0.4,\"#fde0ef\"],[0.5,\"#f7f7f7\"],[0.6,\"#e6f5d0\"],[0.7,\"#b8e186\"],[0.8,\"#7fbc41\"],[0.9,\"#4d9221\"],[1,\"#276419\"]],\"sequential\":[[0.0,\"#0d0887\"],[0.1111111111111111,\"#46039f\"],[0.2222222222222222,\"#7201a8\"],[0.3333333333333333,\"#9c179e\"],[0.4444444444444444,\"#bd3786\"],[0.5555555555555556,\"#d8576b\"],[0.6666666666666666,\"#ed7953\"],[0.7777777777777778,\"#fb9f3a\"],[0.8888888888888888,\"#fdca26\"],[1.0,\"#f0f921\"]],\"sequentialminus\":[[0.0,\"#0d0887\"],[0.1111111111111111,\"#46039f\"],[0.2222222222222222,\"#7201a8\"],[0.3333333333333333,\"#9c179e\"],[0.4444444444444444,\"#bd3786\"],[0.5555555555555556,\"#d8576b\"],[0.6666666666666666,\"#ed7953\"],[0.7777777777777778,\"#fb9f3a\"],[0.8888888888888888,\"#fdca26\"],[1.0,\"#f0f921\"]]},\"colorway\":[\"#636efa\",\"#EF553B\",\"#00cc96\",\"#ab63fa\",\"#FFA15A\",\"#19d3f3\",\"#FF6692\",\"#B6E880\",\"#FF97FF\",\"#FECB52\"],\"font\":{\"color\":\"#2a3f5f\"},\"geo\":{\"bgcolor\":\"white\",\"lakecolor\":\"white\",\"landcolor\":\"#E5ECF6\",\"showlakes\":true,\"showland\":true,\"subunitcolor\":\"white\"},\"hoverlabel\":{\"align\":\"left\"},\"hovermode\":\"closest\",\"mapbox\":{\"style\":\"light\"},\"paper_bgcolor\":\"white\",\"plot_bgcolor\":\"#E5ECF6\",\"polar\":{\"angularaxis\":{\"gridcolor\":\"white\",\"linecolor\":\"white\",\"ticks\":\"\"},\"bgcolor\":\"#E5ECF6\",\"radialaxis\":{\"gridcolor\":\"white\",\"linecolor\":\"white\",\"ticks\":\"\"}},\"scene\":{\"xaxis\":{\"backgroundcolor\":\"#E5ECF6\",\"gridcolor\":\"white\",\"gridwidth\":2,\"linecolor\":\"white\",\"showbackground\":true,\"ticks\":\"\",\"zerolinecolor\":\"white\"},\"yaxis\":{\"backgroundcolor\":\"#E5ECF6\",\"gridcolor\":\"white\",\"gridwidth\":2,\"linecolor\":\"white\",\"showbackground\":true,\"ticks\":\"\",\"zerolinecolor\":\"white\"},\"zaxis\":{\"backgroundcolor\":\"#E5ECF6\",\"gridcolor\":\"white\",\"gridwidth\":2,\"linecolor\":\"white\",\"showbackground\":true,\"ticks\":\"\",\"zerolinecolor\":\"white\"}},\"shapedefaults\":{\"line\":{\"color\":\"#2a3f5f\"}},\"ternary\":{\"aaxis\":{\"gridcolor\":\"white\",\"linecolor\":\"white\",\"ticks\":\"\"},\"baxis\":{\"gridcolor\":\"white\",\"linecolor\":\"white\",\"ticks\":\"\"},\"bgcolor\":\"#E5ECF6\",\"caxis\":{\"gridcolor\":\"white\",\"linecolor\":\"white\",\"ticks\":\"\"}},\"title\":{\"x\":0.05},\"xaxis\":{\"automargin\":true,\"gridcolor\":\"white\",\"linecolor\":\"white\",\"ticks\":\"\",\"title\":{\"standoff\":15},\"zerolinecolor\":\"white\",\"zerolinewidth\":2},\"yaxis\":{\"automargin\":true,\"gridcolor\":\"white\",\"linecolor\":\"white\",\"ticks\":\"\",\"title\":{\"standoff\":15},\"zerolinecolor\":\"white\",\"zerolinewidth\":2}}},\"title\":{\"text\":\"20 Lowest Rated Programs\"},\"xaxis\":{\"anchor\":\"y\",\"domain\":[0.0,1.0],\"title\":{\"text\":\"IMDB Score\"}},\"yaxis\":{\"anchor\":\"x\",\"domain\":[0.0,1.0],\"title\":{\"text\":\"Title\"}}},                        {\"responsive\": true}                    ).then(function(){\n",
       "                            \n",
       "var gd = document.getElementById('00489202-cfd8-4a02-83f6-578cbec6d02c');\n",
       "var x = new MutationObserver(function (mutations, observer) {{\n",
       "        var display = window.getComputedStyle(gd).display;\n",
       "        if (!display || display === 'none') {{\n",
       "            console.log([gd, 'removed!']);\n",
       "            Plotly.purge(gd);\n",
       "            observer.disconnect();\n",
       "        }}\n",
       "}});\n",
       "\n",
       "// Listen for the removal of the full notebook cells\n",
       "var notebookContainer = gd.closest('#notebook-container');\n",
       "if (notebookContainer) {{\n",
       "    x.observe(notebookContainer, {childList: true});\n",
       "}}\n",
       "\n",
       "// Listen for the clearing of the current output cell\n",
       "var outputEl = gd.closest('.output');\n",
       "if (outputEl) {{\n",
       "    x.observe(outputEl, {childList: true});\n",
       "}}\n",
       "\n",
       "                        })                };                });            </script>        </div>"
      ]
     },
     "metadata": {},
     "output_type": "display_data"
    }
   ],
   "source": [
    "fig = px.scatter(bottom_20, y= 'Title', x='IMDB Score', \n",
    "                 hover_data = bottom_20[['Genre','year','Language']], color='Genre', \n",
    "                 title = \"20 Lowest Rated Programs\")\n",
    "fig.show()"
   ]
  },
  {
   "cell_type": "markdown",
   "id": "e13ac71a",
   "metadata": {
    "papermill": {
     "duration": 0.07095,
     "end_time": "2021-07-21T09:07:32.797547",
     "exception": false,
     "start_time": "2021-07-21T09:07:32.726597",
     "status": "completed"
    },
    "tags": []
   },
   "source": [
    "- We can see lowest rated movies from every different genre."
   ]
  },
  {
   "cell_type": "markdown",
   "id": "a0e8f0e3",
   "metadata": {
    "papermill": {
     "duration": 0.070424,
     "end_time": "2021-07-21T09:07:32.938467",
     "exception": false,
     "start_time": "2021-07-21T09:07:32.868043",
     "status": "completed"
    },
    "tags": []
   },
   "source": [
    "## This notebook is a part of the 9 Beginner Friendly EDAs\n",
    "## If you like this one, you can also check out other notebooks in the Beginner Friendly EDAs series!\n",
    "\n",
    "* [Data Analyst Jobs - EDA](https://www.kaggle.com/kaanboke/plotly-data-analyst-jobs)\n",
    "* [Top Games on Google Play Store](https://www.kaggle.com/kaanboke/plotly-beginner-friendly-top-games)\n",
    "* [Hollywood Top Movies- EDA](https://www.kaggle.com/kaanboke/plotly-beginner-friendly-top-movies)\n",
    "* [UDEMY Courses EDA](https://www.kaggle.com/kaanboke/plotly-beginner-friendly-udemy)\n",
    "* [World Happiness Report - EDA](https://www.kaggle.com/kaanboke/plotly-beginner-friendly-eda)\n",
    "* [Countries Life Expectancy](https://www.kaggle.com/kaanboke/plotly-beginner-friendly)\n",
    "* [Amazon Top 50 Bestselling Books EDA](https://www.kaggle.com/kaanboke/plotly-beginner-friendly-amazon)\n",
    "* [London Bike Sharing - EDA](https://www.kaggle.com/kaanboke/plotly-beginner-friendly-london-bike)\n"
   ]
  },
  {
   "cell_type": "markdown",
   "id": "9f474508",
   "metadata": {
    "papermill": {
     "duration": 0.06983,
     "end_time": "2021-07-21T09:07:33.086220",
     "exception": false,
     "start_time": "2021-07-21T09:07:33.016390",
     "status": "completed"
    },
    "tags": []
   },
   "source": [
    "- Thanks for the dataset contibutor for this data. I really enjoyed working on it."
   ]
  },
  {
   "cell_type": "markdown",
   "id": "f905cf63",
   "metadata": {
    "papermill": {
     "duration": 0.069909,
     "end_time": "2021-07-21T09:07:33.226442",
     "exception": false,
     "start_time": "2021-07-21T09:07:33.156533",
     "status": "completed"
    },
    "tags": []
   },
   "source": [
    "- It was a quite pleasure to share with you this detailed, beginner friendly EDA. Thanks for your time.\n",
    "\n",
    "- All the best "
   ]
  }
 ],
 "metadata": {
  "kernelspec": {
   "display_name": "Python 3",
   "language": "python",
   "name": "python3"
  },
  "language_info": {
   "codemirror_mode": {
    "name": "ipython",
    "version": 3
   },
   "file_extension": ".py",
   "mimetype": "text/x-python",
   "name": "python",
   "nbconvert_exporter": "python",
   "pygments_lexer": "ipython3",
   "version": "3.7.10"
  },
  "papermill": {
   "default_parameters": {},
   "duration": 25.965905,
   "end_time": "2021-07-21T09:07:34.670263",
   "environment_variables": {},
   "exception": null,
   "input_path": "__notebook__.ipynb",
   "output_path": "__notebook__.ipynb",
   "parameters": {},
   "start_time": "2021-07-21T09:07:08.704358",
   "version": "2.3.3"
  }
 },
 "nbformat": 4,
 "nbformat_minor": 5
}
