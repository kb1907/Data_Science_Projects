{
 "cells": [
  {
   "cell_type": "markdown",
   "id": "strange-endorsement",
   "metadata": {
    "papermill": {
     "duration": 0.052634,
     "end_time": "2021-07-07T21:05:23.498450",
     "exception": false,
     "start_time": "2021-07-07T21:05:23.445816",
     "status": "completed"
    },
    "tags": []
   },
   "source": [
    "In this EDA, we will discover the courses given by UDEMY."
   ]
  },
  {
   "cell_type": "markdown",
   "id": "confused-saying",
   "metadata": {
    "papermill": {
     "duration": 0.050681,
     "end_time": "2021-07-07T21:05:23.600044",
     "exception": false,
     "start_time": "2021-07-07T21:05:23.549363",
     "status": "completed"
    },
    "tags": []
   },
   "source": [
    "- Let's import the required libraries"
   ]
  },
  {
   "cell_type": "code",
   "execution_count": 1,
   "id": "rational-karen",
   "metadata": {
    "_kg_hide-input": true,
    "papermill": {
     "duration": 3.753476,
     "end_time": "2021-07-07T21:05:27.404450",
     "exception": false,
     "start_time": "2021-07-07T21:05:23.650974",
     "status": "completed"
    },
    "tags": []
   },
   "outputs": [],
   "source": [
    "import pandas as pd\n",
    "import numpy as np\n",
    "\n",
    "import plotly.io as pio\n",
    "pio.renderers.default = 'iframe'\n",
    "\n",
    "import plotly \n",
    "import plotly.express as px\n",
    "import plotly.graph_objs as go\n",
    "import plotly.offline as py\n",
    "from plotly.offline import iplot\n",
    "from plotly.subplots import make_subplots\n",
    "import plotly.figure_factory as ff"
   ]
  },
  {
   "cell_type": "markdown",
   "id": "warming-trinidad",
   "metadata": {
    "papermill": {
     "duration": 0.05202,
     "end_time": "2021-07-07T21:05:27.507411",
     "exception": false,
     "start_time": "2021-07-07T21:05:27.455391",
     "status": "completed"
    },
    "tags": []
   },
   "source": [
    "### Overview Stage\n",
    "\n",
    "- Read the csv\n",
    "- Look for basic information about the dataset"
   ]
  },
  {
   "cell_type": "code",
   "execution_count": 2,
   "id": "qualified-likelihood",
   "metadata": {
    "_kg_hide-input": true,
    "papermill": {
     "duration": 0.139844,
     "end_time": "2021-07-07T21:05:27.699258",
     "exception": false,
     "start_time": "2021-07-07T21:05:27.559414",
     "status": "completed"
    },
    "tags": []
   },
   "outputs": [
    {
     "data": {
      "text/html": [
       "<div>\n",
       "<style scoped>\n",
       "    .dataframe tbody tr th:only-of-type {\n",
       "        vertical-align: middle;\n",
       "    }\n",
       "\n",
       "    .dataframe tbody tr th {\n",
       "        vertical-align: top;\n",
       "    }\n",
       "\n",
       "    .dataframe thead th {\n",
       "        text-align: right;\n",
       "    }\n",
       "</style>\n",
       "<table border=\"1\" class=\"dataframe\">\n",
       "  <thead>\n",
       "    <tr style=\"text-align: right;\">\n",
       "      <th></th>\n",
       "      <th>course_id</th>\n",
       "      <th>course_title</th>\n",
       "      <th>url</th>\n",
       "      <th>is_paid</th>\n",
       "      <th>price</th>\n",
       "      <th>num_subscribers</th>\n",
       "      <th>num_reviews</th>\n",
       "      <th>num_lectures</th>\n",
       "      <th>level</th>\n",
       "      <th>content_duration</th>\n",
       "      <th>published_timestamp</th>\n",
       "      <th>subject</th>\n",
       "    </tr>\n",
       "  </thead>\n",
       "  <tbody>\n",
       "    <tr>\n",
       "      <th>0</th>\n",
       "      <td>1070968</td>\n",
       "      <td>Ultimate Investment Banking Course</td>\n",
       "      <td>https://www.udemy.com/ultimate-investment-bank...</td>\n",
       "      <td>True</td>\n",
       "      <td>200</td>\n",
       "      <td>2147</td>\n",
       "      <td>23</td>\n",
       "      <td>51</td>\n",
       "      <td>All Levels</td>\n",
       "      <td>1.5</td>\n",
       "      <td>2017-01-18T20:58:58Z</td>\n",
       "      <td>Business Finance</td>\n",
       "    </tr>\n",
       "    <tr>\n",
       "      <th>1</th>\n",
       "      <td>1113822</td>\n",
       "      <td>Complete GST Course &amp; Certification - Grow You...</td>\n",
       "      <td>https://www.udemy.com/goods-and-services-tax/</td>\n",
       "      <td>True</td>\n",
       "      <td>75</td>\n",
       "      <td>2792</td>\n",
       "      <td>923</td>\n",
       "      <td>274</td>\n",
       "      <td>All Levels</td>\n",
       "      <td>39.0</td>\n",
       "      <td>2017-03-09T16:34:20Z</td>\n",
       "      <td>Business Finance</td>\n",
       "    </tr>\n",
       "    <tr>\n",
       "      <th>2</th>\n",
       "      <td>1006314</td>\n",
       "      <td>Financial Modeling for Business Analysts and C...</td>\n",
       "      <td>https://www.udemy.com/financial-modeling-for-b...</td>\n",
       "      <td>True</td>\n",
       "      <td>45</td>\n",
       "      <td>2174</td>\n",
       "      <td>74</td>\n",
       "      <td>51</td>\n",
       "      <td>Intermediate Level</td>\n",
       "      <td>2.5</td>\n",
       "      <td>2016-12-19T19:26:30Z</td>\n",
       "      <td>Business Finance</td>\n",
       "    </tr>\n",
       "    <tr>\n",
       "      <th>3</th>\n",
       "      <td>1210588</td>\n",
       "      <td>Beginner to Pro - Financial Analysis in Excel ...</td>\n",
       "      <td>https://www.udemy.com/complete-excel-finance-c...</td>\n",
       "      <td>True</td>\n",
       "      <td>95</td>\n",
       "      <td>2451</td>\n",
       "      <td>11</td>\n",
       "      <td>36</td>\n",
       "      <td>All Levels</td>\n",
       "      <td>3.0</td>\n",
       "      <td>2017-05-30T20:07:24Z</td>\n",
       "      <td>Business Finance</td>\n",
       "    </tr>\n",
       "    <tr>\n",
       "      <th>4</th>\n",
       "      <td>1011058</td>\n",
       "      <td>How To Maximize Your Profits Trading Options</td>\n",
       "      <td>https://www.udemy.com/how-to-maximize-your-pro...</td>\n",
       "      <td>True</td>\n",
       "      <td>200</td>\n",
       "      <td>1276</td>\n",
       "      <td>45</td>\n",
       "      <td>26</td>\n",
       "      <td>Intermediate Level</td>\n",
       "      <td>2.0</td>\n",
       "      <td>2016-12-13T14:57:18Z</td>\n",
       "      <td>Business Finance</td>\n",
       "    </tr>\n",
       "  </tbody>\n",
       "</table>\n",
       "</div>"
      ],
      "text/plain": [
       "   course_id                                       course_title  \\\n",
       "0    1070968                 Ultimate Investment Banking Course   \n",
       "1    1113822  Complete GST Course & Certification - Grow You...   \n",
       "2    1006314  Financial Modeling for Business Analysts and C...   \n",
       "3    1210588  Beginner to Pro - Financial Analysis in Excel ...   \n",
       "4    1011058       How To Maximize Your Profits Trading Options   \n",
       "\n",
       "                                                 url  is_paid  price  \\\n",
       "0  https://www.udemy.com/ultimate-investment-bank...     True    200   \n",
       "1      https://www.udemy.com/goods-and-services-tax/     True     75   \n",
       "2  https://www.udemy.com/financial-modeling-for-b...     True     45   \n",
       "3  https://www.udemy.com/complete-excel-finance-c...     True     95   \n",
       "4  https://www.udemy.com/how-to-maximize-your-pro...     True    200   \n",
       "\n",
       "   num_subscribers  num_reviews  num_lectures               level  \\\n",
       "0             2147           23            51          All Levels   \n",
       "1             2792          923           274          All Levels   \n",
       "2             2174           74            51  Intermediate Level   \n",
       "3             2451           11            36          All Levels   \n",
       "4             1276           45            26  Intermediate Level   \n",
       "\n",
       "   content_duration   published_timestamp           subject  \n",
       "0               1.5  2017-01-18T20:58:58Z  Business Finance  \n",
       "1              39.0  2017-03-09T16:34:20Z  Business Finance  \n",
       "2               2.5  2016-12-19T19:26:30Z  Business Finance  \n",
       "3               3.0  2017-05-30T20:07:24Z  Business Finance  \n",
       "4               2.0  2016-12-13T14:57:18Z  Business Finance  "
      ]
     },
     "execution_count": 2,
     "metadata": {},
     "output_type": "execute_result"
    }
   ],
   "source": [
    "df = pd.read_csv('udemy_courses.csv')\n",
    "df.head()"
   ]
  },
  {
   "cell_type": "code",
   "execution_count": 3,
   "id": "prime-minister",
   "metadata": {
    "_kg_hide-input": true,
    "papermill": {
     "duration": 0.061989,
     "end_time": "2021-07-07T21:05:27.814922",
     "exception": false,
     "start_time": "2021-07-07T21:05:27.752933",
     "status": "completed"
    },
    "tags": []
   },
   "outputs": [
    {
     "data": {
      "text/plain": [
       "(3678, 12)"
      ]
     },
     "execution_count": 3,
     "metadata": {},
     "output_type": "execute_result"
    }
   ],
   "source": [
    "df.shape"
   ]
  },
  {
   "cell_type": "code",
   "execution_count": 4,
   "id": "capital-premiere",
   "metadata": {
    "_kg_hide-input": true,
    "papermill": {
     "duration": 0.083719,
     "end_time": "2021-07-07T21:05:27.950641",
     "exception": false,
     "start_time": "2021-07-07T21:05:27.866922",
     "status": "completed"
    },
    "tags": []
   },
   "outputs": [
    {
     "name": "stdout",
     "output_type": "stream",
     "text": [
      "<class 'pandas.core.frame.DataFrame'>\n",
      "RangeIndex: 3678 entries, 0 to 3677\n",
      "Data columns (total 12 columns):\n",
      " #   Column               Non-Null Count  Dtype  \n",
      "---  ------               --------------  -----  \n",
      " 0   course_id            3678 non-null   int64  \n",
      " 1   course_title         3678 non-null   object \n",
      " 2   url                  3678 non-null   object \n",
      " 3   is_paid              3678 non-null   bool   \n",
      " 4   price                3678 non-null   int64  \n",
      " 5   num_subscribers      3678 non-null   int64  \n",
      " 6   num_reviews          3678 non-null   int64  \n",
      " 7   num_lectures         3678 non-null   int64  \n",
      " 8   level                3678 non-null   object \n",
      " 9   content_duration     3678 non-null   float64\n",
      " 10  published_timestamp  3678 non-null   object \n",
      " 11  subject              3678 non-null   object \n",
      "dtypes: bool(1), float64(1), int64(5), object(5)\n",
      "memory usage: 319.8+ KB\n"
     ]
    }
   ],
   "source": [
    "df.info()"
   ]
  },
  {
   "cell_type": "code",
   "execution_count": 5,
   "id": "hindu-fusion",
   "metadata": {
    "_kg_hide-input": true,
    "papermill": {
     "duration": 0.066962,
     "end_time": "2021-07-07T21:05:28.070016",
     "exception": false,
     "start_time": "2021-07-07T21:05:28.003054",
     "status": "completed"
    },
    "tags": []
   },
   "outputs": [
    {
     "data": {
      "text/plain": [
       "course_id              0\n",
       "course_title           0\n",
       "url                    0\n",
       "is_paid                0\n",
       "price                  0\n",
       "num_subscribers        0\n",
       "num_reviews            0\n",
       "num_lectures           0\n",
       "level                  0\n",
       "content_duration       0\n",
       "published_timestamp    0\n",
       "subject                0\n",
       "dtype: int64"
      ]
     },
     "execution_count": 5,
     "metadata": {},
     "output_type": "execute_result"
    }
   ],
   "source": [
    "df.isnull().sum()"
   ]
  },
  {
   "cell_type": "code",
   "execution_count": 6,
   "id": "silent-shock",
   "metadata": {
    "_kg_hide-input": true,
    "papermill": {
     "duration": 0.090229,
     "end_time": "2021-07-07T21:05:28.214000",
     "exception": false,
     "start_time": "2021-07-07T21:05:28.123771",
     "status": "completed"
    },
    "tags": []
   },
   "outputs": [
    {
     "data": {
      "text/html": [
       "<div>\n",
       "<style scoped>\n",
       "    .dataframe tbody tr th:only-of-type {\n",
       "        vertical-align: middle;\n",
       "    }\n",
       "\n",
       "    .dataframe tbody tr th {\n",
       "        vertical-align: top;\n",
       "    }\n",
       "\n",
       "    .dataframe thead th {\n",
       "        text-align: right;\n",
       "    }\n",
       "</style>\n",
       "<table border=\"1\" class=\"dataframe\">\n",
       "  <thead>\n",
       "    <tr style=\"text-align: right;\">\n",
       "      <th></th>\n",
       "      <th>course_id</th>\n",
       "      <th>price</th>\n",
       "      <th>num_subscribers</th>\n",
       "      <th>num_reviews</th>\n",
       "      <th>num_lectures</th>\n",
       "      <th>content_duration</th>\n",
       "    </tr>\n",
       "  </thead>\n",
       "  <tbody>\n",
       "    <tr>\n",
       "      <th>count</th>\n",
       "      <td>3.678000e+03</td>\n",
       "      <td>3678.000000</td>\n",
       "      <td>3678.000000</td>\n",
       "      <td>3678.000000</td>\n",
       "      <td>3678.000000</td>\n",
       "      <td>3678.000000</td>\n",
       "    </tr>\n",
       "    <tr>\n",
       "      <th>mean</th>\n",
       "      <td>6.759720e+05</td>\n",
       "      <td>66.049483</td>\n",
       "      <td>3197.150625</td>\n",
       "      <td>156.259108</td>\n",
       "      <td>40.108755</td>\n",
       "      <td>4.094517</td>\n",
       "    </tr>\n",
       "    <tr>\n",
       "      <th>std</th>\n",
       "      <td>3.432732e+05</td>\n",
       "      <td>61.005755</td>\n",
       "      <td>9504.117010</td>\n",
       "      <td>935.452044</td>\n",
       "      <td>50.383346</td>\n",
       "      <td>6.053840</td>\n",
       "    </tr>\n",
       "    <tr>\n",
       "      <th>min</th>\n",
       "      <td>8.324000e+03</td>\n",
       "      <td>0.000000</td>\n",
       "      <td>0.000000</td>\n",
       "      <td>0.000000</td>\n",
       "      <td>0.000000</td>\n",
       "      <td>0.000000</td>\n",
       "    </tr>\n",
       "    <tr>\n",
       "      <th>25%</th>\n",
       "      <td>4.076925e+05</td>\n",
       "      <td>20.000000</td>\n",
       "      <td>111.000000</td>\n",
       "      <td>4.000000</td>\n",
       "      <td>15.000000</td>\n",
       "      <td>1.000000</td>\n",
       "    </tr>\n",
       "    <tr>\n",
       "      <th>50%</th>\n",
       "      <td>6.879170e+05</td>\n",
       "      <td>45.000000</td>\n",
       "      <td>911.500000</td>\n",
       "      <td>18.000000</td>\n",
       "      <td>25.000000</td>\n",
       "      <td>2.000000</td>\n",
       "    </tr>\n",
       "    <tr>\n",
       "      <th>75%</th>\n",
       "      <td>9.613555e+05</td>\n",
       "      <td>95.000000</td>\n",
       "      <td>2546.000000</td>\n",
       "      <td>67.000000</td>\n",
       "      <td>45.750000</td>\n",
       "      <td>4.500000</td>\n",
       "    </tr>\n",
       "    <tr>\n",
       "      <th>max</th>\n",
       "      <td>1.282064e+06</td>\n",
       "      <td>200.000000</td>\n",
       "      <td>268923.000000</td>\n",
       "      <td>27445.000000</td>\n",
       "      <td>779.000000</td>\n",
       "      <td>78.500000</td>\n",
       "    </tr>\n",
       "  </tbody>\n",
       "</table>\n",
       "</div>"
      ],
      "text/plain": [
       "          course_id        price  num_subscribers   num_reviews  num_lectures  \\\n",
       "count  3.678000e+03  3678.000000      3678.000000   3678.000000   3678.000000   \n",
       "mean   6.759720e+05    66.049483      3197.150625    156.259108     40.108755   \n",
       "std    3.432732e+05    61.005755      9504.117010    935.452044     50.383346   \n",
       "min    8.324000e+03     0.000000         0.000000      0.000000      0.000000   \n",
       "25%    4.076925e+05    20.000000       111.000000      4.000000     15.000000   \n",
       "50%    6.879170e+05    45.000000       911.500000     18.000000     25.000000   \n",
       "75%    9.613555e+05    95.000000      2546.000000     67.000000     45.750000   \n",
       "max    1.282064e+06   200.000000    268923.000000  27445.000000    779.000000   \n",
       "\n",
       "       content_duration  \n",
       "count       3678.000000  \n",
       "mean           4.094517  \n",
       "std            6.053840  \n",
       "min            0.000000  \n",
       "25%            1.000000  \n",
       "50%            2.000000  \n",
       "75%            4.500000  \n",
       "max           78.500000  "
      ]
     },
     "execution_count": 6,
     "metadata": {},
     "output_type": "execute_result"
    }
   ],
   "source": [
    "df.describe()"
   ]
  },
  {
   "cell_type": "markdown",
   "id": "proud-disability",
   "metadata": {
    "papermill": {
     "duration": 0.053547,
     "end_time": "2021-07-07T21:05:28.322498",
     "exception": false,
     "start_time": "2021-07-07T21:05:28.268951",
     "status": "completed"
    },
    "tags": []
   },
   "source": [
    "Let's summarize what we have got from the dataset.\n",
    "\n",
    "- Our dataset has info about the courses given by UDEMY.\n",
    "- 'Course ID' and Course 'url' would not be necessary for our analysis, we will drop them.\n",
    "- Course published date is given object format, neeeds to be formatted as a datetime object.\n",
    "- There is no missing value, which is very good during the data preparation stage.\n",
    "- 'Level' column is categorical variable, it would be good to see whether any significant differences among the levels.\n",
    "-  Numerical variables deserves special attention for further analysis."
   ]
  },
  {
   "cell_type": "markdown",
   "id": "particular-cleanup",
   "metadata": {
    "papermill": {
     "duration": 0.052833,
     "end_time": "2021-07-07T21:05:28.428524",
     "exception": false,
     "start_time": "2021-07-07T21:05:28.375691",
     "status": "completed"
    },
    "tags": []
   },
   "source": [
    "- Let's make the necessary adjustments before moving to the analysis part."
   ]
  },
  {
   "cell_type": "code",
   "execution_count": 7,
   "id": "adjusted-australian",
   "metadata": {
    "_kg_hide-input": true,
    "papermill": {
     "duration": 0.065264,
     "end_time": "2021-07-07T21:05:28.547040",
     "exception": false,
     "start_time": "2021-07-07T21:05:28.481776",
     "status": "completed"
    },
    "tags": []
   },
   "outputs": [],
   "source": [
    "df['date'] = pd.to_datetime(df['published_timestamp'])"
   ]
  },
  {
   "cell_type": "code",
   "execution_count": 8,
   "id": "light-surgeon",
   "metadata": {
    "_kg_hide-input": true,
    "papermill": {
     "duration": 0.077796,
     "end_time": "2021-07-07T21:05:28.679541",
     "exception": false,
     "start_time": "2021-07-07T21:05:28.601745",
     "status": "completed"
    },
    "tags": []
   },
   "outputs": [
    {
     "data": {
      "text/html": [
       "<div>\n",
       "<style scoped>\n",
       "    .dataframe tbody tr th:only-of-type {\n",
       "        vertical-align: middle;\n",
       "    }\n",
       "\n",
       "    .dataframe tbody tr th {\n",
       "        vertical-align: top;\n",
       "    }\n",
       "\n",
       "    .dataframe thead th {\n",
       "        text-align: right;\n",
       "    }\n",
       "</style>\n",
       "<table border=\"1\" class=\"dataframe\">\n",
       "  <thead>\n",
       "    <tr style=\"text-align: right;\">\n",
       "      <th></th>\n",
       "      <th>course_title</th>\n",
       "      <th>is_paid</th>\n",
       "      <th>price</th>\n",
       "      <th>num_subscribers</th>\n",
       "      <th>num_reviews</th>\n",
       "      <th>num_lectures</th>\n",
       "      <th>level</th>\n",
       "      <th>content_duration</th>\n",
       "      <th>subject</th>\n",
       "      <th>date</th>\n",
       "    </tr>\n",
       "  </thead>\n",
       "  <tbody>\n",
       "    <tr>\n",
       "      <th>1079</th>\n",
       "      <td>Easy Finance For Startups</td>\n",
       "      <td>True</td>\n",
       "      <td>50</td>\n",
       "      <td>9</td>\n",
       "      <td>4</td>\n",
       "      <td>6</td>\n",
       "      <td>Beginner Level</td>\n",
       "      <td>0.666667</td>\n",
       "      <td>Business Finance</td>\n",
       "      <td>2016-10-16 21:15:15+00:00</td>\n",
       "    </tr>\n",
       "    <tr>\n",
       "      <th>1135</th>\n",
       "      <td>Complete Short Financial Ratio Course for Fina...</td>\n",
       "      <td>True</td>\n",
       "      <td>200</td>\n",
       "      <td>15</td>\n",
       "      <td>1</td>\n",
       "      <td>56</td>\n",
       "      <td>All Levels</td>\n",
       "      <td>3.000000</td>\n",
       "      <td>Business Finance</td>\n",
       "      <td>2017-06-28 17:44:56+00:00</td>\n",
       "    </tr>\n",
       "  </tbody>\n",
       "</table>\n",
       "</div>"
      ],
      "text/plain": [
       "                                           course_title  is_paid  price  \\\n",
       "1079                          Easy Finance For Startups     True     50   \n",
       "1135  Complete Short Financial Ratio Course for Fina...     True    200   \n",
       "\n",
       "      num_subscribers  num_reviews  num_lectures           level  \\\n",
       "1079                9            4             6  Beginner Level   \n",
       "1135               15            1            56      All Levels   \n",
       "\n",
       "      content_duration           subject                      date  \n",
       "1079          0.666667  Business Finance 2016-10-16 21:15:15+00:00  \n",
       "1135          3.000000  Business Finance 2017-06-28 17:44:56+00:00  "
      ]
     },
     "execution_count": 8,
     "metadata": {},
     "output_type": "execute_result"
    }
   ],
   "source": [
    "df = df.drop(['course_id','url','published_timestamp'], axis=1)\n",
    "df.sample(2)"
   ]
  },
  {
   "cell_type": "code",
   "execution_count": 9,
   "id": "progressive-adams",
   "metadata": {
    "_kg_hide-input": true,
    "papermill": {
     "duration": 0.085736,
     "end_time": "2021-07-07T21:05:28.832920",
     "exception": false,
     "start_time": "2021-07-07T21:05:28.747184",
     "status": "completed"
    },
    "tags": []
   },
   "outputs": [
    {
     "name": "stdout",
     "output_type": "stream",
     "text": [
      "<class 'pandas.core.frame.DataFrame'>\n",
      "RangeIndex: 3678 entries, 0 to 3677\n",
      "Data columns (total 10 columns):\n",
      " #   Column            Non-Null Count  Dtype              \n",
      "---  ------            --------------  -----              \n",
      " 0   course_title      3678 non-null   object             \n",
      " 1   is_paid           3678 non-null   bool               \n",
      " 2   price             3678 non-null   int64              \n",
      " 3   num_subscribers   3678 non-null   int64              \n",
      " 4   num_reviews       3678 non-null   int64              \n",
      " 5   num_lectures      3678 non-null   int64              \n",
      " 6   level             3678 non-null   object             \n",
      " 7   content_duration  3678 non-null   float64            \n",
      " 8   subject           3678 non-null   object             \n",
      " 9   date              3678 non-null   datetime64[ns, UTC]\n",
      "dtypes: bool(1), datetime64[ns, UTC](1), float64(1), int64(4), object(3)\n",
      "memory usage: 262.3+ KB\n"
     ]
    }
   ],
   "source": [
    "df.info()"
   ]
  },
  {
   "cell_type": "markdown",
   "id": "informed-boards",
   "metadata": {
    "papermill": {
     "duration": 0.054119,
     "end_time": "2021-07-07T21:05:28.943353",
     "exception": false,
     "start_time": "2021-07-07T21:05:28.889234",
     "status": "completed"
    },
    "tags": []
   },
   "source": [
    "- Seems OK.  Let's move on to the next step: **analysis part**."
   ]
  },
  {
   "cell_type": "markdown",
   "id": "eleven-reservoir",
   "metadata": {
    "papermill": {
     "duration": 0.055183,
     "end_time": "2021-07-07T21:05:29.075142",
     "exception": false,
     "start_time": "2021-07-07T21:05:29.019959",
     "status": "completed"
    },
    "tags": []
   },
   "source": [
    "### Analysis Part"
   ]
  },
  {
   "cell_type": "code",
   "execution_count": 10,
   "id": "developing-diagram",
   "metadata": {
    "_kg_hide-input": true,
    "papermill": {
     "duration": 0.090828,
     "end_time": "2021-07-07T21:05:29.235091",
     "exception": false,
     "start_time": "2021-07-07T21:05:29.144263",
     "status": "completed"
    },
    "tags": []
   },
   "outputs": [
    {
     "data": {
      "text/html": [
       "<div>\n",
       "<style scoped>\n",
       "    .dataframe tbody tr th:only-of-type {\n",
       "        vertical-align: middle;\n",
       "    }\n",
       "\n",
       "    .dataframe tbody tr th {\n",
       "        vertical-align: top;\n",
       "    }\n",
       "\n",
       "    .dataframe thead th {\n",
       "        text-align: right;\n",
       "    }\n",
       "</style>\n",
       "<table border=\"1\" class=\"dataframe\">\n",
       "  <thead>\n",
       "    <tr style=\"text-align: right;\">\n",
       "      <th></th>\n",
       "      <th>price</th>\n",
       "      <th>num_subscribers</th>\n",
       "      <th>num_reviews</th>\n",
       "      <th>num_lectures</th>\n",
       "      <th>content_duration</th>\n",
       "    </tr>\n",
       "  </thead>\n",
       "  <tbody>\n",
       "    <tr>\n",
       "      <th>count</th>\n",
       "      <td>3678.000000</td>\n",
       "      <td>3678.000000</td>\n",
       "      <td>3678.000000</td>\n",
       "      <td>3678.000000</td>\n",
       "      <td>3678.000000</td>\n",
       "    </tr>\n",
       "    <tr>\n",
       "      <th>mean</th>\n",
       "      <td>66.049483</td>\n",
       "      <td>3197.150625</td>\n",
       "      <td>156.259108</td>\n",
       "      <td>40.108755</td>\n",
       "      <td>4.094517</td>\n",
       "    </tr>\n",
       "    <tr>\n",
       "      <th>std</th>\n",
       "      <td>61.005755</td>\n",
       "      <td>9504.117010</td>\n",
       "      <td>935.452044</td>\n",
       "      <td>50.383346</td>\n",
       "      <td>6.053840</td>\n",
       "    </tr>\n",
       "    <tr>\n",
       "      <th>min</th>\n",
       "      <td>0.000000</td>\n",
       "      <td>0.000000</td>\n",
       "      <td>0.000000</td>\n",
       "      <td>0.000000</td>\n",
       "      <td>0.000000</td>\n",
       "    </tr>\n",
       "    <tr>\n",
       "      <th>25%</th>\n",
       "      <td>20.000000</td>\n",
       "      <td>111.000000</td>\n",
       "      <td>4.000000</td>\n",
       "      <td>15.000000</td>\n",
       "      <td>1.000000</td>\n",
       "    </tr>\n",
       "    <tr>\n",
       "      <th>50%</th>\n",
       "      <td>45.000000</td>\n",
       "      <td>911.500000</td>\n",
       "      <td>18.000000</td>\n",
       "      <td>25.000000</td>\n",
       "      <td>2.000000</td>\n",
       "    </tr>\n",
       "    <tr>\n",
       "      <th>75%</th>\n",
       "      <td>95.000000</td>\n",
       "      <td>2546.000000</td>\n",
       "      <td>67.000000</td>\n",
       "      <td>45.750000</td>\n",
       "      <td>4.500000</td>\n",
       "    </tr>\n",
       "    <tr>\n",
       "      <th>max</th>\n",
       "      <td>200.000000</td>\n",
       "      <td>268923.000000</td>\n",
       "      <td>27445.000000</td>\n",
       "      <td>779.000000</td>\n",
       "      <td>78.500000</td>\n",
       "    </tr>\n",
       "  </tbody>\n",
       "</table>\n",
       "</div>"
      ],
      "text/plain": [
       "             price  num_subscribers   num_reviews  num_lectures  \\\n",
       "count  3678.000000      3678.000000   3678.000000   3678.000000   \n",
       "mean     66.049483      3197.150625    156.259108     40.108755   \n",
       "std      61.005755      9504.117010    935.452044     50.383346   \n",
       "min       0.000000         0.000000      0.000000      0.000000   \n",
       "25%      20.000000       111.000000      4.000000     15.000000   \n",
       "50%      45.000000       911.500000     18.000000     25.000000   \n",
       "75%      95.000000      2546.000000     67.000000     45.750000   \n",
       "max     200.000000    268923.000000  27445.000000    779.000000   \n",
       "\n",
       "       content_duration  \n",
       "count       3678.000000  \n",
       "mean           4.094517  \n",
       "std            6.053840  \n",
       "min            0.000000  \n",
       "25%            1.000000  \n",
       "50%            2.000000  \n",
       "75%            4.500000  \n",
       "max           78.500000  "
      ]
     },
     "execution_count": 10,
     "metadata": {},
     "output_type": "execute_result"
    }
   ],
   "source": [
    "df.describe()"
   ]
  },
  {
   "cell_type": "markdown",
   "id": "consistent-logic",
   "metadata": {
    "papermill": {
     "duration": 0.0572,
     "end_time": "2021-07-07T21:05:29.356818",
     "exception": false,
     "start_time": "2021-07-07T21:05:29.299618",
     "status": "completed"
    },
    "tags": []
   },
   "source": [
    "Let's look at the some of the information, which we can get from the above table:\n",
    "\n",
    "- At first look, we can see that, dataset has numbers, minimum 0 and maximum in hundreds or thousands for the variables. \n",
    "- Also mean and median values significantly differs from each other. All of the variables have signicifantly higher mean value than median value, which is a good sign of hihgly screwed distribution, more specifially right skewed distribution with the possible outliers on the maximum side of the distribution. So for further analysis it would be good to remember that.\n",
    "\n",
    "- Aferomentioned reasons, in the following lines, median value will be used for the give some insights from the above table.\n",
    "\n",
    "- Median value for the price as 45.\n",
    "\n",
    "- Median value for the number of subscribers for the courses around 912 \n",
    "\n",
    "- Median value for the number of reviews 18\n",
    "- Median value for the  number of lectures 25\n",
    "- Median value for the content duration is 2\n"
   ]
  },
  {
   "cell_type": "markdown",
   "id": "violent-sweet",
   "metadata": {
    "papermill": {
     "duration": 0.055308,
     "end_time": "2021-07-07T21:05:29.468934",
     "exception": false,
     "start_time": "2021-07-07T21:05:29.413626",
     "status": "completed"
    },
    "tags": []
   },
   "source": [
    "- OK let's see this analysis in the plotly"
   ]
  },
  {
   "cell_type": "markdown",
   "id": "legendary-arthur",
   "metadata": {
    "papermill": {
     "duration": 0.054327,
     "end_time": "2021-07-07T21:05:29.578118",
     "exception": false,
     "start_time": "2021-07-07T21:05:29.523791",
     "status": "completed"
    },
    "tags": []
   },
   "source": [
    "#### **Prices of UDEMY Courses**"
   ]
  },
  {
   "cell_type": "code",
   "execution_count": 39,
   "id": "starting-wages",
   "metadata": {
    "_kg_hide-input": true,
    "papermill": {
     "duration": 1.119067,
     "end_time": "2021-07-07T21:05:30.752261",
     "exception": false,
     "start_time": "2021-07-07T21:05:29.633194",
     "status": "completed"
    },
    "tags": []
   },
   "outputs": [
    {
     "data": {
      "text/html": [
       "<iframe\n",
       "    scrolling=\"no\"\n",
       "    width=\"100%\"\n",
       "    height=\"545px\"\n",
       "    src=\"iframe_figures/figure_39.html\"\n",
       "    frameborder=\"0\"\n",
       "    allowfullscreen\n",
       "></iframe>\n"
      ]
     },
     "metadata": {},
     "output_type": "display_data"
    }
   ],
   "source": [
    "fig = px.histogram(df, x= 'price', title='Prices of UDEMY Courses')\n",
    "\n",
    "fig.show()"
   ]
  },
  {
   "cell_type": "markdown",
   "id": "planned-addition",
   "metadata": {
    "papermill": {
     "duration": 0.05664,
     "end_time": "2021-07-07T21:05:30.865793",
     "exception": false,
     "start_time": "2021-07-07T21:05:30.809153",
     "status": "completed"
    },
    "tags": []
   },
   "source": [
    "As seen in the histogram, UDEMY has 310 free course and it's 295 courses are priced as $200 . As we expected, there is highly right skewed distribution."
   ]
  },
  {
   "cell_type": "markdown",
   "id": "ordered-process",
   "metadata": {
    "papermill": {
     "duration": 0.055748,
     "end_time": "2021-07-07T21:05:30.978380",
     "exception": false,
     "start_time": "2021-07-07T21:05:30.922632",
     "status": "completed"
    },
    "tags": []
   },
   "source": [
    "#### **Number of Subscribers of UDEMY Courses**"
   ]
  },
  {
   "cell_type": "code",
   "execution_count": 12,
   "id": "annual-orientation",
   "metadata": {
    "_kg_hide-input": true,
    "papermill": {
     "duration": 0.133627,
     "end_time": "2021-07-07T21:05:31.167679",
     "exception": false,
     "start_time": "2021-07-07T21:05:31.034052",
     "status": "completed"
    },
    "tags": []
   },
   "outputs": [
    {
     "data": {
      "text/html": [
       "<iframe\n",
       "    scrolling=\"no\"\n",
       "    width=\"100%\"\n",
       "    height=\"545px\"\n",
       "    src=\"iframe_figures/figure_12.html\"\n",
       "    frameborder=\"0\"\n",
       "    allowfullscreen\n",
       "></iframe>\n"
      ]
     },
     "metadata": {},
     "output_type": "display_data"
    }
   ],
   "source": [
    "fig = px.histogram(df, x= 'num_subscribers', title='Number of Subscribers of UDEMY Courses')\n",
    "\n",
    "fig.show()"
   ]
  },
  {
   "cell_type": "markdown",
   "id": "silver-bernard",
   "metadata": {
    "papermill": {
     "duration": 0.057189,
     "end_time": "2021-07-07T21:05:31.282425",
     "exception": false,
     "start_time": "2021-07-07T21:05:31.225236",
     "status": "completed"
    },
    "tags": []
   },
   "source": [
    "Number of subscribers ranges from 0 to 268923, highly skewed distribution. "
   ]
  },
  {
   "cell_type": "markdown",
   "id": "generic-operations",
   "metadata": {
    "papermill": {
     "duration": 0.056977,
     "end_time": "2021-07-07T21:05:31.401930",
     "exception": false,
     "start_time": "2021-07-07T21:05:31.344953",
     "status": "completed"
    },
    "tags": []
   },
   "source": [
    "#### **Number of Reviews of UDEMY Courses**"
   ]
  },
  {
   "cell_type": "code",
   "execution_count": 13,
   "id": "accessory-shepherd",
   "metadata": {
    "_kg_hide-input": true,
    "papermill": {
     "duration": 0.134934,
     "end_time": "2021-07-07T21:05:31.594058",
     "exception": false,
     "start_time": "2021-07-07T21:05:31.459124",
     "status": "completed"
    },
    "tags": []
   },
   "outputs": [
    {
     "data": {
      "text/html": [
       "<iframe\n",
       "    scrolling=\"no\"\n",
       "    width=\"100%\"\n",
       "    height=\"545px\"\n",
       "    src=\"iframe_figures/figure_13.html\"\n",
       "    frameborder=\"0\"\n",
       "    allowfullscreen\n",
       "></iframe>\n"
      ]
     },
     "metadata": {},
     "output_type": "display_data"
    }
   ],
   "source": [
    "fig = px.histogram(df, x= 'num_reviews', title='Number of Reviews of UDEMY Courses')\n",
    "\n",
    "fig.show()"
   ]
  },
  {
   "cell_type": "markdown",
   "id": "fourth-recipient",
   "metadata": {
    "papermill": {
     "duration": 0.057581,
     "end_time": "2021-07-07T21:05:31.709741",
     "exception": false,
     "start_time": "2021-07-07T21:05:31.652160",
     "status": "completed"
    },
    "tags": []
   },
   "source": [
    "Number of reviews ranges from 0 to 27445, highly skewed distribution. "
   ]
  },
  {
   "cell_type": "markdown",
   "id": "mounted-livestock",
   "metadata": {
    "papermill": {
     "duration": 0.058467,
     "end_time": "2021-07-07T21:05:31.827061",
     "exception": false,
     "start_time": "2021-07-07T21:05:31.768594",
     "status": "completed"
    },
    "tags": []
   },
   "source": [
    "#### **Number of Lectures of UDEMY Courses**"
   ]
  },
  {
   "cell_type": "code",
   "execution_count": 14,
   "id": "earned-lyric",
   "metadata": {
    "_kg_hide-input": true,
    "papermill": {
     "duration": 0.138106,
     "end_time": "2021-07-07T21:05:32.022991",
     "exception": false,
     "start_time": "2021-07-07T21:05:31.884885",
     "status": "completed"
    },
    "tags": []
   },
   "outputs": [
    {
     "data": {
      "text/html": [
       "<iframe\n",
       "    scrolling=\"no\"\n",
       "    width=\"100%\"\n",
       "    height=\"545px\"\n",
       "    src=\"iframe_figures/figure_14.html\"\n",
       "    frameborder=\"0\"\n",
       "    allowfullscreen\n",
       "></iframe>\n"
      ]
     },
     "metadata": {},
     "output_type": "display_data"
    }
   ],
   "source": [
    "fig = px.histogram(df, x= 'num_lectures', title='Number of Lectures of UDEMY Courses')\n",
    "\n",
    "fig.show()"
   ]
  },
  {
   "cell_type": "markdown",
   "id": "varying-parallel",
   "metadata": {
    "papermill": {
     "duration": 0.060191,
     "end_time": "2021-07-07T21:05:32.142910",
     "exception": false,
     "start_time": "2021-07-07T21:05:32.082719",
     "status": "completed"
    },
    "tags": []
   },
   "source": [
    "From given table of Number of lectures for UDEMY courses, we can see that 20-45 range has a lot of courses. But as we have mentioned before and easily seen in the histogram, we have highly skewed data with outliers.  "
   ]
  },
  {
   "cell_type": "markdown",
   "id": "iraqi-firmware",
   "metadata": {
    "papermill": {
     "duration": 0.05975,
     "end_time": "2021-07-07T21:05:32.263914",
     "exception": false,
     "start_time": "2021-07-07T21:05:32.204164",
     "status": "completed"
    },
    "tags": []
   },
   "source": [
    "#### **Durations of UDEMY Courses**"
   ]
  },
  {
   "cell_type": "code",
   "execution_count": 15,
   "id": "wooden-portable",
   "metadata": {
    "_kg_hide-input": true,
    "papermill": {
     "duration": 0.141532,
     "end_time": "2021-07-07T21:05:32.464935",
     "exception": false,
     "start_time": "2021-07-07T21:05:32.323403",
     "status": "completed"
    },
    "tags": []
   },
   "outputs": [
    {
     "data": {
      "text/html": [
       "<iframe\n",
       "    scrolling=\"no\"\n",
       "    width=\"100%\"\n",
       "    height=\"545px\"\n",
       "    src=\"iframe_figures/figure_15.html\"\n",
       "    frameborder=\"0\"\n",
       "    allowfullscreen\n",
       "></iframe>\n"
      ]
     },
     "metadata": {},
     "output_type": "display_data"
    }
   ],
   "source": [
    "fig = px.histogram(df, x= 'content_duration', title='Durations of UDEMY Courses')\n",
    "\n",
    "fig.show()"
   ]
  },
  {
   "cell_type": "markdown",
   "id": "western-portsmouth",
   "metadata": {
    "papermill": {
     "duration": 0.060985,
     "end_time": "2021-07-07T21:05:32.592735",
     "exception": false,
     "start_time": "2021-07-07T21:05:32.531750",
     "status": "completed"
    },
    "tags": []
   },
   "source": [
    "From given table of Durations of UDEMY courses, we can see that  0-3 hours range has a lot of courses. But as we have mentioned before and easily seen in the histogram, we have highly sekwed data with outliers.  "
   ]
  },
  {
   "cell_type": "markdown",
   "id": "varied-potato",
   "metadata": {
    "papermill": {
     "duration": 0.061646,
     "end_time": "2021-07-07T21:05:32.715391",
     "exception": false,
     "start_time": "2021-07-07T21:05:32.653745",
     "status": "completed"
    },
    "tags": []
   },
   "source": [
    "- Befor moving on the details, let's see the correlation matrix for our dataset"
   ]
  },
  {
   "cell_type": "code",
   "execution_count": 16,
   "id": "active-occurrence",
   "metadata": {
    "_kg_hide-input": true,
    "papermill": {
     "duration": 0.08029,
     "end_time": "2021-07-07T21:05:32.857827",
     "exception": false,
     "start_time": "2021-07-07T21:05:32.777537",
     "status": "completed"
    },
    "tags": []
   },
   "outputs": [
    {
     "data": {
      "text/html": [
       "<div>\n",
       "<style scoped>\n",
       "    .dataframe tbody tr th:only-of-type {\n",
       "        vertical-align: middle;\n",
       "    }\n",
       "\n",
       "    .dataframe tbody tr th {\n",
       "        vertical-align: top;\n",
       "    }\n",
       "\n",
       "    .dataframe thead th {\n",
       "        text-align: right;\n",
       "    }\n",
       "</style>\n",
       "<table border=\"1\" class=\"dataframe\">\n",
       "  <thead>\n",
       "    <tr style=\"text-align: right;\">\n",
       "      <th></th>\n",
       "      <th>is_paid</th>\n",
       "      <th>price</th>\n",
       "      <th>num_subscribers</th>\n",
       "      <th>num_reviews</th>\n",
       "      <th>num_lectures</th>\n",
       "      <th>content_duration</th>\n",
       "    </tr>\n",
       "  </thead>\n",
       "  <tbody>\n",
       "    <tr>\n",
       "      <th>is_paid</th>\n",
       "      <td>1.000000</td>\n",
       "      <td>0.328513</td>\n",
       "      <td>-0.266159</td>\n",
       "      <td>-0.087471</td>\n",
       "      <td>0.112574</td>\n",
       "      <td>0.094417</td>\n",
       "    </tr>\n",
       "    <tr>\n",
       "      <th>price</th>\n",
       "      <td>0.328513</td>\n",
       "      <td>1.000000</td>\n",
       "      <td>0.050769</td>\n",
       "      <td>0.113696</td>\n",
       "      <td>0.330160</td>\n",
       "      <td>0.293450</td>\n",
       "    </tr>\n",
       "    <tr>\n",
       "      <th>num_subscribers</th>\n",
       "      <td>-0.266159</td>\n",
       "      <td>0.050769</td>\n",
       "      <td>1.000000</td>\n",
       "      <td>0.649946</td>\n",
       "      <td>0.157746</td>\n",
       "      <td>0.161839</td>\n",
       "    </tr>\n",
       "    <tr>\n",
       "      <th>num_reviews</th>\n",
       "      <td>-0.087471</td>\n",
       "      <td>0.113696</td>\n",
       "      <td>0.649946</td>\n",
       "      <td>1.000000</td>\n",
       "      <td>0.243029</td>\n",
       "      <td>0.228889</td>\n",
       "    </tr>\n",
       "    <tr>\n",
       "      <th>num_lectures</th>\n",
       "      <td>0.112574</td>\n",
       "      <td>0.330160</td>\n",
       "      <td>0.157746</td>\n",
       "      <td>0.243029</td>\n",
       "      <td>1.000000</td>\n",
       "      <td>0.801647</td>\n",
       "    </tr>\n",
       "    <tr>\n",
       "      <th>content_duration</th>\n",
       "      <td>0.094417</td>\n",
       "      <td>0.293450</td>\n",
       "      <td>0.161839</td>\n",
       "      <td>0.228889</td>\n",
       "      <td>0.801647</td>\n",
       "      <td>1.000000</td>\n",
       "    </tr>\n",
       "  </tbody>\n",
       "</table>\n",
       "</div>"
      ],
      "text/plain": [
       "                   is_paid     price  num_subscribers  num_reviews  \\\n",
       "is_paid           1.000000  0.328513        -0.266159    -0.087471   \n",
       "price             0.328513  1.000000         0.050769     0.113696   \n",
       "num_subscribers  -0.266159  0.050769         1.000000     0.649946   \n",
       "num_reviews      -0.087471  0.113696         0.649946     1.000000   \n",
       "num_lectures      0.112574  0.330160         0.157746     0.243029   \n",
       "content_duration  0.094417  0.293450         0.161839     0.228889   \n",
       "\n",
       "                  num_lectures  content_duration  \n",
       "is_paid               0.112574          0.094417  \n",
       "price                 0.330160          0.293450  \n",
       "num_subscribers       0.157746          0.161839  \n",
       "num_reviews           0.243029          0.228889  \n",
       "num_lectures          1.000000          0.801647  \n",
       "content_duration      0.801647          1.000000  "
      ]
     },
     "execution_count": 16,
     "metadata": {},
     "output_type": "execute_result"
    }
   ],
   "source": [
    "df.corr()"
   ]
  },
  {
   "cell_type": "code",
   "execution_count": 17,
   "id": "statutory-commonwealth",
   "metadata": {
    "_kg_hide-input": true,
    "papermill": {
     "duration": 0.152622,
     "end_time": "2021-07-07T21:05:33.072520",
     "exception": false,
     "start_time": "2021-07-07T21:05:32.919898",
     "status": "completed"
    },
    "tags": []
   },
   "outputs": [
    {
     "data": {
      "text/html": [
       "<iframe\n",
       "    scrolling=\"no\"\n",
       "    width=\"1020px\"\n",
       "    height=\"1020\"\n",
       "    src=\"iframe_figures/figure_17.html\"\n",
       "    frameborder=\"0\"\n",
       "    allowfullscreen\n",
       "></iframe>\n"
      ]
     },
     "metadata": {},
     "output_type": "display_data"
    }
   ],
   "source": [
    "index_vals = df['level'].astype('category').cat.codes\n",
    "fig = go.Figure(data=go.Splom(\n",
    "                dimensions=[dict(label='price',\n",
    "                                 values=df['price']),\n",
    "                            dict(label='num_subscribers',\n",
    "                                 values=df['num_subscribers']),\n",
    "                            dict(label='num_reviews',\n",
    "                                 values=df['num_reviews']),\n",
    "                            dict(label='num_lectures',\n",
    "                                 values=df['num_lectures']),\n",
    "                           dict(label='content_duration',\n",
    "                                 values=df['content_duration'])],\n",
    "                showupperhalf=False, \n",
    "                text=df['level'],\n",
    "                marker=dict(color=index_vals,\n",
    "                            showscale=False, # colors encode categorical variables\n",
    "                            line_color='white', line_width=0.5)\n",
    "                ))\n",
    "\n",
    "\n",
    "fig.update_layout(\n",
    "    title='UDEMY Courses',\n",
    "    width=1000,\n",
    "    height=1000,\n",
    ")\n",
    "\n",
    "fig.show()"
   ]
  },
  {
   "cell_type": "markdown",
   "id": "marine-elite",
   "metadata": {
    "papermill": {
     "duration": 0.067403,
     "end_time": "2021-07-07T21:05:33.207919",
     "exception": false,
     "start_time": "2021-07-07T21:05:33.140516",
     "status": "completed"
    },
    "tags": []
   },
   "source": [
    "Based on the results:\n",
    "- There is positive but not so strenght relationship between number of reviews and number of subscribers\n",
    "- Also there is positive and almost strength (.80) relationship between number of lectures in the course and the duration of the course."
   ]
  },
  {
   "cell_type": "markdown",
   "id": "reported-excellence",
   "metadata": {
    "papermill": {
     "duration": 0.067094,
     "end_time": "2021-07-07T21:05:33.341132",
     "exception": false,
     "start_time": "2021-07-07T21:05:33.274038",
     "status": "completed"
    },
    "tags": []
   },
   "source": [
    "- After getting overall picture about the data, we can go into more details."
   ]
  },
  {
   "cell_type": "markdown",
   "id": "tender-combat",
   "metadata": {
    "papermill": {
     "duration": 0.065404,
     "end_time": "2021-07-07T21:05:33.472638",
     "exception": false,
     "start_time": "2021-07-07T21:05:33.407234",
     "status": "completed"
    },
    "tags": []
   },
   "source": [
    "### UDEMY Courses Based on the **Subject**"
   ]
  },
  {
   "cell_type": "markdown",
   "id": "excited-comment",
   "metadata": {
    "papermill": {
     "duration": 0.067609,
     "end_time": "2021-07-07T21:05:33.605701",
     "exception": false,
     "start_time": "2021-07-07T21:05:33.538092",
     "status": "completed"
    },
    "tags": []
   },
   "source": [
    "- Let's see UDEMY courses by their subjects."
   ]
  },
  {
   "cell_type": "code",
   "execution_count": 18,
   "id": "medium-science",
   "metadata": {
    "_kg_hide-input": true,
    "papermill": {
     "duration": 0.095498,
     "end_time": "2021-07-07T21:05:33.767398",
     "exception": false,
     "start_time": "2021-07-07T21:05:33.671900",
     "status": "completed"
    },
    "tags": []
   },
   "outputs": [
    {
     "data": {
      "text/plain": [
       "Web Development        0.33\n",
       "Business Finance       0.32\n",
       "Musical Instruments    0.18\n",
       "Graphic Design         0.16\n",
       "Name: subject, dtype: float64"
      ]
     },
     "execution_count": 18,
     "metadata": {},
     "output_type": "execute_result"
    }
   ],
   "source": [
    "np.round(df['subject'].value_counts(normalize=True),2)"
   ]
  },
  {
   "cell_type": "markdown",
   "id": "worthy-friendship",
   "metadata": {
    "papermill": {
     "duration": 0.065503,
     "end_time": "2021-07-07T21:05:33.898771",
     "exception": false,
     "start_time": "2021-07-07T21:05:33.833268",
     "status": "completed"
    },
    "tags": []
   },
   "source": [
    "- Overall 33% of the Udemy Courses are from Web Development and 32% of the Udemy Courses are from Business Finance area. Other 34% of the courses are made by Musical Instruments related courses (18%) and Graphic Design (16%).\n",
    "- Courses on Business Finance and Web Development subjects covers almost 2 out of 3 course selection."
   ]
  },
  {
   "cell_type": "code",
   "execution_count": 19,
   "id": "russian-stake",
   "metadata": {
    "_kg_hide-input": true,
    "papermill": {
     "duration": 0.166938,
     "end_time": "2021-07-07T21:05:34.131594",
     "exception": false,
     "start_time": "2021-07-07T21:05:33.964656",
     "status": "completed"
    },
    "tags": []
   },
   "outputs": [
    {
     "data": {
      "text/html": [
       "<iframe\n",
       "    scrolling=\"no\"\n",
       "    width=\"100%\"\n",
       "    height=\"545px\"\n",
       "    src=\"iframe_figures/figure_19.html\"\n",
       "    frameborder=\"0\"\n",
       "    allowfullscreen\n",
       "></iframe>\n"
      ]
     },
     "metadata": {},
     "output_type": "display_data"
    }
   ],
   "source": [
    "fig = px.histogram(df, x=\"subject\", title='Course Count by Subject')\n",
    "fig.update_layout(xaxis={'categoryorder':'total descending'})\n",
    "fig.show()"
   ]
  },
  {
   "cell_type": "markdown",
   "id": "czech-ukraine",
   "metadata": {
    "papermill": {
     "duration": 0.068208,
     "end_time": "2021-07-07T21:05:34.268085",
     "exception": false,
     "start_time": "2021-07-07T21:05:34.199877",
     "status": "completed"
    },
    "tags": []
   },
   "source": [
    "#### **UDEMY Courses By Subject in Each Year**"
   ]
  },
  {
   "cell_type": "code",
   "execution_count": 20,
   "id": "closing-township",
   "metadata": {
    "_kg_hide-input": true,
    "papermill": {
     "duration": 0.115445,
     "end_time": "2021-07-07T21:05:34.453156",
     "exception": false,
     "start_time": "2021-07-07T21:05:34.337711",
     "status": "completed"
    },
    "tags": []
   },
   "outputs": [
    {
     "data": {
      "text/html": [
       "<div>\n",
       "<style scoped>\n",
       "    .dataframe tbody tr th:only-of-type {\n",
       "        vertical-align: middle;\n",
       "    }\n",
       "\n",
       "    .dataframe tbody tr th {\n",
       "        vertical-align: top;\n",
       "    }\n",
       "\n",
       "    .dataframe thead th {\n",
       "        text-align: right;\n",
       "    }\n",
       "</style>\n",
       "<table border=\"1\" class=\"dataframe\">\n",
       "  <thead>\n",
       "    <tr style=\"text-align: right;\">\n",
       "      <th></th>\n",
       "      <th>year</th>\n",
       "      <th>subject count</th>\n",
       "    </tr>\n",
       "    <tr>\n",
       "      <th>subject</th>\n",
       "      <th></th>\n",
       "      <th></th>\n",
       "    </tr>\n",
       "  </thead>\n",
       "  <tbody>\n",
       "    <tr>\n",
       "      <th>Web Development</th>\n",
       "      <td>2011</td>\n",
       "      <td>5</td>\n",
       "    </tr>\n",
       "    <tr>\n",
       "      <th>Web Development</th>\n",
       "      <td>2012</td>\n",
       "      <td>19</td>\n",
       "    </tr>\n",
       "    <tr>\n",
       "      <th>Graphic Design</th>\n",
       "      <td>2012</td>\n",
       "      <td>10</td>\n",
       "    </tr>\n",
       "    <tr>\n",
       "      <th>Musical Instruments</th>\n",
       "      <td>2012</td>\n",
       "      <td>10</td>\n",
       "    </tr>\n",
       "    <tr>\n",
       "      <th>Business Finance</th>\n",
       "      <td>2012</td>\n",
       "      <td>6</td>\n",
       "    </tr>\n",
       "    <tr>\n",
       "      <th>Business Finance</th>\n",
       "      <td>2013</td>\n",
       "      <td>84</td>\n",
       "    </tr>\n",
       "    <tr>\n",
       "      <th>Web Development</th>\n",
       "      <td>2013</td>\n",
       "      <td>56</td>\n",
       "    </tr>\n",
       "    <tr>\n",
       "      <th>Musical Instruments</th>\n",
       "      <td>2013</td>\n",
       "      <td>39</td>\n",
       "    </tr>\n",
       "    <tr>\n",
       "      <th>Graphic Design</th>\n",
       "      <td>2013</td>\n",
       "      <td>23</td>\n",
       "    </tr>\n",
       "    <tr>\n",
       "      <th>Business Finance</th>\n",
       "      <td>2014</td>\n",
       "      <td>192</td>\n",
       "    </tr>\n",
       "    <tr>\n",
       "      <th>Musical Instruments</th>\n",
       "      <td>2014</td>\n",
       "      <td>120</td>\n",
       "    </tr>\n",
       "    <tr>\n",
       "      <th>Web Development</th>\n",
       "      <td>2014</td>\n",
       "      <td>113</td>\n",
       "    </tr>\n",
       "    <tr>\n",
       "      <th>Graphic Design</th>\n",
       "      <td>2014</td>\n",
       "      <td>66</td>\n",
       "    </tr>\n",
       "    <tr>\n",
       "      <th>Business Finance</th>\n",
       "      <td>2015</td>\n",
       "      <td>339</td>\n",
       "    </tr>\n",
       "    <tr>\n",
       "      <th>Web Development</th>\n",
       "      <td>2015</td>\n",
       "      <td>336</td>\n",
       "    </tr>\n",
       "    <tr>\n",
       "      <th>Musical Instruments</th>\n",
       "      <td>2015</td>\n",
       "      <td>171</td>\n",
       "    </tr>\n",
       "    <tr>\n",
       "      <th>Graphic Design</th>\n",
       "      <td>2015</td>\n",
       "      <td>168</td>\n",
       "    </tr>\n",
       "    <tr>\n",
       "      <th>Web Development</th>\n",
       "      <td>2016</td>\n",
       "      <td>448</td>\n",
       "    </tr>\n",
       "    <tr>\n",
       "      <th>Business Finance</th>\n",
       "      <td>2016</td>\n",
       "      <td>349</td>\n",
       "    </tr>\n",
       "    <tr>\n",
       "      <th>Musical Instruments</th>\n",
       "      <td>2016</td>\n",
       "      <td>228</td>\n",
       "    </tr>\n",
       "    <tr>\n",
       "      <th>Graphic Design</th>\n",
       "      <td>2016</td>\n",
       "      <td>181</td>\n",
       "    </tr>\n",
       "    <tr>\n",
       "      <th>Business Finance</th>\n",
       "      <td>2017</td>\n",
       "      <td>225</td>\n",
       "    </tr>\n",
       "    <tr>\n",
       "      <th>Web Development</th>\n",
       "      <td>2017</td>\n",
       "      <td>223</td>\n",
       "    </tr>\n",
       "    <tr>\n",
       "      <th>Graphic Design</th>\n",
       "      <td>2017</td>\n",
       "      <td>155</td>\n",
       "    </tr>\n",
       "    <tr>\n",
       "      <th>Musical Instruments</th>\n",
       "      <td>2017</td>\n",
       "      <td>112</td>\n",
       "    </tr>\n",
       "  </tbody>\n",
       "</table>\n",
       "</div>"
      ],
      "text/plain": [
       "                     year  subject count\n",
       "subject                                 \n",
       "Web Development      2011              5\n",
       "Web Development      2012             19\n",
       "Graphic Design       2012             10\n",
       "Musical Instruments  2012             10\n",
       "Business Finance     2012              6\n",
       "Business Finance     2013             84\n",
       "Web Development      2013             56\n",
       "Musical Instruments  2013             39\n",
       "Graphic Design       2013             23\n",
       "Business Finance     2014            192\n",
       "Musical Instruments  2014            120\n",
       "Web Development      2014            113\n",
       "Graphic Design       2014             66\n",
       "Business Finance     2015            339\n",
       "Web Development      2015            336\n",
       "Musical Instruments  2015            171\n",
       "Graphic Design       2015            168\n",
       "Web Development      2016            448\n",
       "Business Finance     2016            349\n",
       "Musical Instruments  2016            228\n",
       "Graphic Design       2016            181\n",
       "Business Finance     2017            225\n",
       "Web Development      2017            223\n",
       "Graphic Design       2017            155\n",
       "Musical Instruments  2017            112"
      ]
     },
     "execution_count": 20,
     "metadata": {},
     "output_type": "execute_result"
    }
   ],
   "source": [
    "df['year']= df['date'].dt.year\n",
    "subject_by_year = df.groupby('year')['subject'].value_counts().reset_index(level=0).rename(columns={'subject': 'subject count'}, index={'index': 'Subject'})\n",
    "subject_by_year"
   ]
  },
  {
   "cell_type": "code",
   "execution_count": 21,
   "id": "ignored-knight",
   "metadata": {
    "_kg_hide-input": true,
    "papermill": {
     "duration": 0.179656,
     "end_time": "2021-07-07T21:05:34.701819",
     "exception": false,
     "start_time": "2021-07-07T21:05:34.522163",
     "status": "completed"
    },
    "tags": []
   },
   "outputs": [
    {
     "data": {
      "text/html": [
       "<iframe\n",
       "    scrolling=\"no\"\n",
       "    width=\"100%\"\n",
       "    height=\"545px\"\n",
       "    src=\"iframe_figures/figure_21.html\"\n",
       "    frameborder=\"0\"\n",
       "    allowfullscreen\n",
       "></iframe>\n"
      ]
     },
     "metadata": {},
     "output_type": "display_data"
    }
   ],
   "source": [
    "fig = px.line(subject_by_year, x='year', y='subject count', color= subject_by_year.index, title='UDEMY Courses By Subject in Each Year')\n",
    "fig.show()"
   ]
  },
  {
   "cell_type": "markdown",
   "id": "improving-colors",
   "metadata": {
    "papermill": {
     "duration": 0.070079,
     "end_time": "2021-07-07T21:05:34.842317",
     "exception": false,
     "start_time": "2021-07-07T21:05:34.772238",
     "status": "completed"
    },
    "tags": []
   },
   "source": [
    "- From the line plot we can see that Udemy courses on the Web Development and Business Finance significantly increased till 2015 \n",
    "- Number of Business Finance related courses stay almost same in 2016 but Web Development related courses continued to increase significantly. "
   ]
  },
  {
   "cell_type": "markdown",
   "id": "moral-cannon",
   "metadata": {
    "papermill": {
     "duration": 0.070845,
     "end_time": "2021-07-07T21:05:34.984384",
     "exception": false,
     "start_time": "2021-07-07T21:05:34.913539",
     "status": "completed"
    },
    "tags": []
   },
   "source": [
    "### **Based on the Level of the Courses**"
   ]
  },
  {
   "cell_type": "markdown",
   "id": "clear-invite",
   "metadata": {
    "papermill": {
     "duration": 0.070132,
     "end_time": "2021-07-07T21:05:35.124670",
     "exception": false,
     "start_time": "2021-07-07T21:05:35.054538",
     "status": "completed"
    },
    "tags": []
   },
   "source": [
    "- Let's see UDEMY courses by their levels."
   ]
  },
  {
   "cell_type": "code",
   "execution_count": 22,
   "id": "brief-lease",
   "metadata": {
    "papermill": {
     "duration": 0.082882,
     "end_time": "2021-07-07T21:05:35.277535",
     "exception": false,
     "start_time": "2021-07-07T21:05:35.194653",
     "status": "completed"
    },
    "tags": []
   },
   "outputs": [
    {
     "data": {
      "text/plain": [
       "All Levels            0.52\n",
       "Beginner Level        0.35\n",
       "Intermediate Level    0.11\n",
       "Expert Level          0.02\n",
       "Name: level, dtype: float64"
      ]
     },
     "execution_count": 22,
     "metadata": {},
     "output_type": "execute_result"
    }
   ],
   "source": [
    "np.round(df['level'].value_counts(normalize=True),2)"
   ]
  },
  {
   "cell_type": "markdown",
   "id": "hollow-trick",
   "metadata": {
    "papermill": {
     "duration": 0.070215,
     "end_time": "2021-07-07T21:05:35.418414",
     "exception": false,
     "start_time": "2021-07-07T21:05:35.348199",
     "status": "completed"
    },
    "tags": []
   },
   "source": [
    "- Overall 52% of the Udemy Courses contains information for all levels of the learner. \n",
    "- Beginner level courses make up 35% of all of the courses\n",
    "- 1 out of 10 courses offered by UDEMY is in the intermediate level.\n",
    "- Only 2 out of 100 courses offered by UDEMY appeal to advance or exper level learners."
   ]
  },
  {
   "cell_type": "code",
   "execution_count": 23,
   "id": "congressional-geography",
   "metadata": {
    "papermill": {
     "duration": 0.167578,
     "end_time": "2021-07-07T21:05:35.656558",
     "exception": false,
     "start_time": "2021-07-07T21:05:35.488980",
     "status": "completed"
    },
    "tags": []
   },
   "outputs": [
    {
     "data": {
      "text/html": [
       "<iframe\n",
       "    scrolling=\"no\"\n",
       "    width=\"100%\"\n",
       "    height=\"545px\"\n",
       "    src=\"iframe_figures/figure_23.html\"\n",
       "    frameborder=\"0\"\n",
       "    allowfullscreen\n",
       "></iframe>\n"
      ]
     },
     "metadata": {},
     "output_type": "display_data"
    }
   ],
   "source": [
    "fig = px.histogram(df, x=\"level\", title='Course Count by Level of Courses')\n",
    "fig.update_layout(xaxis={'categoryorder':'total descending'})\n",
    "fig.show()"
   ]
  },
  {
   "cell_type": "markdown",
   "id": "romance-jamaica",
   "metadata": {
    "papermill": {
     "duration": 0.073362,
     "end_time": "2021-07-07T21:05:35.803281",
     "exception": false,
     "start_time": "2021-07-07T21:05:35.729919",
     "status": "completed"
    },
    "tags": []
   },
   "source": [
    "#### **UDEMY Courses By Level in Each Year**"
   ]
  },
  {
   "cell_type": "code",
   "execution_count": 24,
   "id": "registered-vermont",
   "metadata": {
    "papermill": {
     "duration": 0.093207,
     "end_time": "2021-07-07T21:05:35.969412",
     "exception": false,
     "start_time": "2021-07-07T21:05:35.876205",
     "status": "completed"
    },
    "tags": []
   },
   "outputs": [
    {
     "data": {
      "text/html": [
       "<div>\n",
       "<style scoped>\n",
       "    .dataframe tbody tr th:only-of-type {\n",
       "        vertical-align: middle;\n",
       "    }\n",
       "\n",
       "    .dataframe tbody tr th {\n",
       "        vertical-align: top;\n",
       "    }\n",
       "\n",
       "    .dataframe thead th {\n",
       "        text-align: right;\n",
       "    }\n",
       "</style>\n",
       "<table border=\"1\" class=\"dataframe\">\n",
       "  <thead>\n",
       "    <tr style=\"text-align: right;\">\n",
       "      <th></th>\n",
       "      <th>year</th>\n",
       "      <th>level count</th>\n",
       "    </tr>\n",
       "    <tr>\n",
       "      <th>level</th>\n",
       "      <th></th>\n",
       "      <th></th>\n",
       "    </tr>\n",
       "  </thead>\n",
       "  <tbody>\n",
       "    <tr>\n",
       "      <th>All Levels</th>\n",
       "      <td>2011</td>\n",
       "      <td>5</td>\n",
       "    </tr>\n",
       "    <tr>\n",
       "      <th>All Levels</th>\n",
       "      <td>2012</td>\n",
       "      <td>33</td>\n",
       "    </tr>\n",
       "    <tr>\n",
       "      <th>Beginner Level</th>\n",
       "      <td>2012</td>\n",
       "      <td>9</td>\n",
       "    </tr>\n",
       "    <tr>\n",
       "      <th>Intermediate Level</th>\n",
       "      <td>2012</td>\n",
       "      <td>3</td>\n",
       "    </tr>\n",
       "    <tr>\n",
       "      <th>All Levels</th>\n",
       "      <td>2013</td>\n",
       "      <td>102</td>\n",
       "    </tr>\n",
       "    <tr>\n",
       "      <th>Beginner Level</th>\n",
       "      <td>2013</td>\n",
       "      <td>73</td>\n",
       "    </tr>\n",
       "    <tr>\n",
       "      <th>Intermediate Level</th>\n",
       "      <td>2013</td>\n",
       "      <td>18</td>\n",
       "    </tr>\n",
       "    <tr>\n",
       "      <th>Expert Level</th>\n",
       "      <td>2013</td>\n",
       "      <td>9</td>\n",
       "    </tr>\n",
       "    <tr>\n",
       "      <th>All Levels</th>\n",
       "      <td>2014</td>\n",
       "      <td>272</td>\n",
       "    </tr>\n",
       "    <tr>\n",
       "      <th>Beginner Level</th>\n",
       "      <td>2014</td>\n",
       "      <td>155</td>\n",
       "    </tr>\n",
       "    <tr>\n",
       "      <th>Intermediate Level</th>\n",
       "      <td>2014</td>\n",
       "      <td>60</td>\n",
       "    </tr>\n",
       "    <tr>\n",
       "      <th>Expert Level</th>\n",
       "      <td>2014</td>\n",
       "      <td>4</td>\n",
       "    </tr>\n",
       "    <tr>\n",
       "      <th>All Levels</th>\n",
       "      <td>2015</td>\n",
       "      <td>587</td>\n",
       "    </tr>\n",
       "    <tr>\n",
       "      <th>Beginner Level</th>\n",
       "      <td>2015</td>\n",
       "      <td>332</td>\n",
       "    </tr>\n",
       "    <tr>\n",
       "      <th>Intermediate Level</th>\n",
       "      <td>2015</td>\n",
       "      <td>80</td>\n",
       "    </tr>\n",
       "    <tr>\n",
       "      <th>Expert Level</th>\n",
       "      <td>2015</td>\n",
       "      <td>15</td>\n",
       "    </tr>\n",
       "    <tr>\n",
       "      <th>All Levels</th>\n",
       "      <td>2016</td>\n",
       "      <td>627</td>\n",
       "    </tr>\n",
       "    <tr>\n",
       "      <th>Beginner Level</th>\n",
       "      <td>2016</td>\n",
       "      <td>405</td>\n",
       "    </tr>\n",
       "    <tr>\n",
       "      <th>Intermediate Level</th>\n",
       "      <td>2016</td>\n",
       "      <td>163</td>\n",
       "    </tr>\n",
       "    <tr>\n",
       "      <th>Expert Level</th>\n",
       "      <td>2016</td>\n",
       "      <td>11</td>\n",
       "    </tr>\n",
       "    <tr>\n",
       "      <th>All Levels</th>\n",
       "      <td>2017</td>\n",
       "      <td>303</td>\n",
       "    </tr>\n",
       "    <tr>\n",
       "      <th>Beginner Level</th>\n",
       "      <td>2017</td>\n",
       "      <td>296</td>\n",
       "    </tr>\n",
       "    <tr>\n",
       "      <th>Intermediate Level</th>\n",
       "      <td>2017</td>\n",
       "      <td>97</td>\n",
       "    </tr>\n",
       "    <tr>\n",
       "      <th>Expert Level</th>\n",
       "      <td>2017</td>\n",
       "      <td>19</td>\n",
       "    </tr>\n",
       "  </tbody>\n",
       "</table>\n",
       "</div>"
      ],
      "text/plain": [
       "                    year  level count\n",
       "level                                \n",
       "All Levels          2011            5\n",
       "All Levels          2012           33\n",
       "Beginner Level      2012            9\n",
       "Intermediate Level  2012            3\n",
       "All Levels          2013          102\n",
       "Beginner Level      2013           73\n",
       "Intermediate Level  2013           18\n",
       "Expert Level        2013            9\n",
       "All Levels          2014          272\n",
       "Beginner Level      2014          155\n",
       "Intermediate Level  2014           60\n",
       "Expert Level        2014            4\n",
       "All Levels          2015          587\n",
       "Beginner Level      2015          332\n",
       "Intermediate Level  2015           80\n",
       "Expert Level        2015           15\n",
       "All Levels          2016          627\n",
       "Beginner Level      2016          405\n",
       "Intermediate Level  2016          163\n",
       "Expert Level        2016           11\n",
       "All Levels          2017          303\n",
       "Beginner Level      2017          296\n",
       "Intermediate Level  2017           97\n",
       "Expert Level        2017           19"
      ]
     },
     "execution_count": 24,
     "metadata": {},
     "output_type": "execute_result"
    }
   ],
   "source": [
    "level_by_year = df.groupby('year')['level'].value_counts().reset_index(level=0).rename(columns={'level': 'level count'}, index={'index': 'Level_of_Courses'})\n",
    "level_by_year"
   ]
  },
  {
   "cell_type": "code",
   "execution_count": 25,
   "id": "expected-campus",
   "metadata": {
    "papermill": {
     "duration": 0.155163,
     "end_time": "2021-07-07T21:05:36.198340",
     "exception": false,
     "start_time": "2021-07-07T21:05:36.043177",
     "status": "completed"
    },
    "tags": []
   },
   "outputs": [
    {
     "data": {
      "text/html": [
       "<iframe\n",
       "    scrolling=\"no\"\n",
       "    width=\"100%\"\n",
       "    height=\"545px\"\n",
       "    src=\"iframe_figures/figure_25.html\"\n",
       "    frameborder=\"0\"\n",
       "    allowfullscreen\n",
       "></iframe>\n"
      ]
     },
     "metadata": {},
     "output_type": "display_data"
    }
   ],
   "source": [
    "fig = px.line(level_by_year, x='year', y='level count', color= level_by_year.index, title='UDEMY Courses By Level in Each Year')\n",
    "fig.show()"
   ]
  },
  {
   "cell_type": "markdown",
   "id": "asian-above",
   "metadata": {
    "papermill": {
     "duration": 0.073714,
     "end_time": "2021-07-07T21:05:36.346094",
     "exception": false,
     "start_time": "2021-07-07T21:05:36.272380",
     "status": "completed"
    },
    "tags": []
   },
   "source": [
    "- From the line plot we can see that Udemy courses in all levels, beginner levels and intermediate levels increased significantly by each year. \n",
    "\n",
    "- On the other hand, number of expert level courses offered by UDEMY are inconsistent.\n"
   ]
  },
  {
   "cell_type": "markdown",
   "id": "mineral-facility",
   "metadata": {
    "papermill": {
     "duration": 0.07766,
     "end_time": "2021-07-07T21:05:36.498570",
     "exception": false,
     "start_time": "2021-07-07T21:05:36.420910",
     "status": "completed"
    },
    "tags": []
   },
   "source": [
    "### UDEMY Courses- Number of Subscribers & Num of Reviews and Number of Lectures by Year"
   ]
  },
  {
   "cell_type": "code",
   "execution_count": 26,
   "id": "becoming-leone",
   "metadata": {
    "_kg_hide-input": true,
    "papermill": {
     "duration": 0.091656,
     "end_time": "2021-07-07T21:05:36.663907",
     "exception": false,
     "start_time": "2021-07-07T21:05:36.572251",
     "status": "completed"
    },
    "tags": []
   },
   "outputs": [
    {
     "data": {
      "text/html": [
       "<div>\n",
       "<style scoped>\n",
       "    .dataframe tbody tr th:only-of-type {\n",
       "        vertical-align: middle;\n",
       "    }\n",
       "\n",
       "    .dataframe tbody tr th {\n",
       "        vertical-align: top;\n",
       "    }\n",
       "\n",
       "    .dataframe thead th {\n",
       "        text-align: right;\n",
       "    }\n",
       "</style>\n",
       "<table border=\"1\" class=\"dataframe\">\n",
       "  <thead>\n",
       "    <tr style=\"text-align: right;\">\n",
       "      <th></th>\n",
       "      <th>year</th>\n",
       "      <th>num_subscribers</th>\n",
       "      <th>num_reviews</th>\n",
       "      <th>num_lectures</th>\n",
       "    </tr>\n",
       "  </thead>\n",
       "  <tbody>\n",
       "    <tr>\n",
       "      <th>0</th>\n",
       "      <td>2011</td>\n",
       "      <td>119028</td>\n",
       "      <td>4041</td>\n",
       "      <td>574</td>\n",
       "    </tr>\n",
       "    <tr>\n",
       "      <th>1</th>\n",
       "      <td>2012</td>\n",
       "      <td>555339</td>\n",
       "      <td>10272</td>\n",
       "      <td>2374</td>\n",
       "    </tr>\n",
       "    <tr>\n",
       "      <th>2</th>\n",
       "      <td>2013</td>\n",
       "      <td>1723438</td>\n",
       "      <td>48585</td>\n",
       "      <td>7261</td>\n",
       "    </tr>\n",
       "    <tr>\n",
       "      <th>3</th>\n",
       "      <td>2014</td>\n",
       "      <td>1930406</td>\n",
       "      <td>86667</td>\n",
       "      <td>19288</td>\n",
       "    </tr>\n",
       "    <tr>\n",
       "      <th>4</th>\n",
       "      <td>2015</td>\n",
       "      <td>3475324</td>\n",
       "      <td>196810</td>\n",
       "      <td>41930</td>\n",
       "    </tr>\n",
       "    <tr>\n",
       "      <th>5</th>\n",
       "      <td>2016</td>\n",
       "      <td>2966644</td>\n",
       "      <td>195429</td>\n",
       "      <td>50854</td>\n",
       "    </tr>\n",
       "    <tr>\n",
       "      <th>6</th>\n",
       "      <td>2017</td>\n",
       "      <td>988941</td>\n",
       "      <td>32917</td>\n",
       "      <td>25239</td>\n",
       "    </tr>\n",
       "  </tbody>\n",
       "</table>\n",
       "</div>"
      ],
      "text/plain": [
       "   year  num_subscribers  num_reviews  num_lectures\n",
       "0  2011           119028         4041           574\n",
       "1  2012           555339        10272          2374\n",
       "2  2013          1723438        48585          7261\n",
       "3  2014          1930406        86667         19288\n",
       "4  2015          3475324       196810         41930\n",
       "5  2016          2966644       195429         50854\n",
       "6  2017           988941        32917         25239"
      ]
     },
     "execution_count": 26,
     "metadata": {},
     "output_type": "execute_result"
    }
   ],
   "source": [
    "df1 = df.groupby('year')[['num_subscribers','num_reviews','num_lectures']].sum().reset_index()\n",
    "df1"
   ]
  },
  {
   "cell_type": "code",
   "execution_count": 27,
   "id": "elect-welsh",
   "metadata": {
    "_kg_hide-input": true,
    "papermill": {
     "duration": 0.161212,
     "end_time": "2021-07-07T21:05:36.899422",
     "exception": false,
     "start_time": "2021-07-07T21:05:36.738210",
     "status": "completed"
    },
    "tags": []
   },
   "outputs": [
    {
     "data": {
      "text/html": [
       "<iframe\n",
       "    scrolling=\"no\"\n",
       "    width=\"100%\"\n",
       "    height=\"545px\"\n",
       "    src=\"iframe_figures/figure_27.html\"\n",
       "    frameborder=\"0\"\n",
       "    allowfullscreen\n",
       "></iframe>\n"
      ]
     },
     "metadata": {},
     "output_type": "display_data"
    }
   ],
   "source": [
    "fig = px.line(df1, x='year', y=['num_subscribers','num_reviews','num_lectures'])\n",
    "fig.show()"
   ]
  },
  {
   "cell_type": "markdown",
   "id": "intensive-reducing",
   "metadata": {
    "papermill": {
     "duration": 0.074888,
     "end_time": "2021-07-07T21:05:37.052789",
     "exception": false,
     "start_time": "2021-07-07T21:05:36.977901",
     "status": "completed"
    },
    "tags": []
   },
   "source": [
    "- As seen in the line chart, number of subscribers increased constantly till 2015 and then decreased around a half milliion on 2016. Since 2017 data does not fully cover the 2017, we can not make any assumption on that."
   ]
  },
  {
   "cell_type": "markdown",
   "id": "fifth-offset",
   "metadata": {
    "papermill": {
     "duration": 0.074306,
     "end_time": "2021-07-07T21:05:37.202777",
     "exception": false,
     "start_time": "2021-07-07T21:05:37.128471",
     "status": "completed"
    },
    "tags": []
   },
   "source": [
    "### Price & Courses"
   ]
  },
  {
   "cell_type": "code",
   "execution_count": 28,
   "id": "brown-sixth",
   "metadata": {
    "_kg_hide-input": true,
    "papermill": {
     "duration": 0.098069,
     "end_time": "2021-07-07T21:05:37.376240",
     "exception": false,
     "start_time": "2021-07-07T21:05:37.278171",
     "status": "completed"
    },
    "tags": []
   },
   "outputs": [
    {
     "data": {
      "text/html": [
       "<div>\n",
       "<style scoped>\n",
       "    .dataframe tbody tr th:only-of-type {\n",
       "        vertical-align: middle;\n",
       "    }\n",
       "\n",
       "    .dataframe tbody tr th {\n",
       "        vertical-align: top;\n",
       "    }\n",
       "\n",
       "    .dataframe thead th {\n",
       "        text-align: right;\n",
       "    }\n",
       "</style>\n",
       "<table border=\"1\" class=\"dataframe\">\n",
       "  <thead>\n",
       "    <tr style=\"text-align: right;\">\n",
       "      <th></th>\n",
       "      <th>year</th>\n",
       "      <th>paid_free count</th>\n",
       "    </tr>\n",
       "    <tr>\n",
       "      <th>is_paid</th>\n",
       "      <th></th>\n",
       "      <th></th>\n",
       "    </tr>\n",
       "  </thead>\n",
       "  <tbody>\n",
       "    <tr>\n",
       "      <th>True</th>\n",
       "      <td>2011</td>\n",
       "      <td>5</td>\n",
       "    </tr>\n",
       "    <tr>\n",
       "      <th>True</th>\n",
       "      <td>2012</td>\n",
       "      <td>41</td>\n",
       "    </tr>\n",
       "    <tr>\n",
       "      <th>False</th>\n",
       "      <td>2012</td>\n",
       "      <td>4</td>\n",
       "    </tr>\n",
       "    <tr>\n",
       "      <th>True</th>\n",
       "      <td>2013</td>\n",
       "      <td>185</td>\n",
       "    </tr>\n",
       "    <tr>\n",
       "      <th>False</th>\n",
       "      <td>2013</td>\n",
       "      <td>17</td>\n",
       "    </tr>\n",
       "    <tr>\n",
       "      <th>True</th>\n",
       "      <td>2014</td>\n",
       "      <td>439</td>\n",
       "    </tr>\n",
       "    <tr>\n",
       "      <th>False</th>\n",
       "      <td>2014</td>\n",
       "      <td>52</td>\n",
       "    </tr>\n",
       "    <tr>\n",
       "      <th>True</th>\n",
       "      <td>2015</td>\n",
       "      <td>952</td>\n",
       "    </tr>\n",
       "    <tr>\n",
       "      <th>False</th>\n",
       "      <td>2015</td>\n",
       "      <td>62</td>\n",
       "    </tr>\n",
       "    <tr>\n",
       "      <th>True</th>\n",
       "      <td>2016</td>\n",
       "      <td>1109</td>\n",
       "    </tr>\n",
       "    <tr>\n",
       "      <th>False</th>\n",
       "      <td>2016</td>\n",
       "      <td>97</td>\n",
       "    </tr>\n",
       "    <tr>\n",
       "      <th>True</th>\n",
       "      <td>2017</td>\n",
       "      <td>637</td>\n",
       "    </tr>\n",
       "    <tr>\n",
       "      <th>False</th>\n",
       "      <td>2017</td>\n",
       "      <td>78</td>\n",
       "    </tr>\n",
       "  </tbody>\n",
       "</table>\n",
       "</div>"
      ],
      "text/plain": [
       "         year  paid_free count\n",
       "is_paid                       \n",
       "True     2011                5\n",
       "True     2012               41\n",
       "False    2012                4\n",
       "True     2013              185\n",
       "False    2013               17\n",
       "True     2014              439\n",
       "False    2014               52\n",
       "True     2015              952\n",
       "False    2015               62\n",
       "True     2016             1109\n",
       "False    2016               97\n",
       "True     2017              637\n",
       "False    2017               78"
      ]
     },
     "execution_count": 28,
     "metadata": {},
     "output_type": "execute_result"
    }
   ],
   "source": [
    "paid_by_year = df.groupby('year')['is_paid'].value_counts().reset_index(level=0).rename(columns={'is_paid': 'paid_free count'}, index={'index': 'is_paid'})\n",
    "paid_by_year"
   ]
  },
  {
   "cell_type": "code",
   "execution_count": 29,
   "id": "french-going",
   "metadata": {
    "_kg_hide-input": true,
    "papermill": {
     "duration": 0.153564,
     "end_time": "2021-07-07T21:05:37.606159",
     "exception": false,
     "start_time": "2021-07-07T21:05:37.452595",
     "status": "completed"
    },
    "tags": []
   },
   "outputs": [
    {
     "data": {
      "text/html": [
       "<iframe\n",
       "    scrolling=\"no\"\n",
       "    width=\"100%\"\n",
       "    height=\"545px\"\n",
       "    src=\"iframe_figures/figure_29.html\"\n",
       "    frameborder=\"0\"\n",
       "    allowfullscreen\n",
       "></iframe>\n"
      ]
     },
     "metadata": {},
     "output_type": "display_data"
    }
   ],
   "source": [
    "fig = px.line(paid_by_year, x='year', y='paid_free count', color= paid_by_year.index)\n",
    "fig.show()"
   ]
  },
  {
   "cell_type": "markdown",
   "id": "intensive-conclusion",
   "metadata": {
    "papermill": {
     "duration": 0.075894,
     "end_time": "2021-07-07T21:05:37.758933",
     "exception": false,
     "start_time": "2021-07-07T21:05:37.683039",
     "status": "completed"
    },
    "tags": []
   },
   "source": [
    "- Both number of free and paid courses increased by each year. \n",
    "- Yep, Agreed, not much increase on the free courses. It's a tough world."
   ]
  },
  {
   "cell_type": "markdown",
   "id": "hungry-insertion",
   "metadata": {
    "papermill": {
     "duration": 0.07583,
     "end_time": "2021-07-07T21:05:37.912520",
     "exception": false,
     "start_time": "2021-07-07T21:05:37.836690",
     "status": "completed"
    },
    "tags": []
   },
   "source": [
    "### Top Paid Courses"
   ]
  },
  {
   "cell_type": "code",
   "execution_count": 30,
   "id": "restricted-skill",
   "metadata": {
    "_kg_hide-input": true,
    "papermill": {
     "duration": 0.099745,
     "end_time": "2021-07-07T21:05:38.089188",
     "exception": false,
     "start_time": "2021-07-07T21:05:37.989443",
     "status": "completed"
    },
    "tags": []
   },
   "outputs": [
    {
     "data": {
      "text/html": [
       "<div>\n",
       "<style scoped>\n",
       "    .dataframe tbody tr th:only-of-type {\n",
       "        vertical-align: middle;\n",
       "    }\n",
       "\n",
       "    .dataframe tbody tr th {\n",
       "        vertical-align: top;\n",
       "    }\n",
       "\n",
       "    .dataframe thead th {\n",
       "        text-align: right;\n",
       "    }\n",
       "</style>\n",
       "<table border=\"1\" class=\"dataframe\">\n",
       "  <thead>\n",
       "    <tr style=\"text-align: right;\">\n",
       "      <th></th>\n",
       "      <th>course_title</th>\n",
       "      <th>year</th>\n",
       "      <th>subject</th>\n",
       "      <th>num_subscribers</th>\n",
       "    </tr>\n",
       "  </thead>\n",
       "  <tbody>\n",
       "    <tr>\n",
       "      <th>3230</th>\n",
       "      <td>The Web Developer Bootcamp</td>\n",
       "      <td>2015</td>\n",
       "      <td>Web Development</td>\n",
       "      <td>121584</td>\n",
       "    </tr>\n",
       "    <tr>\n",
       "      <th>3232</th>\n",
       "      <td>The Complete Web Developer Course 2.0</td>\n",
       "      <td>2016</td>\n",
       "      <td>Web Development</td>\n",
       "      <td>114512</td>\n",
       "    </tr>\n",
       "    <tr>\n",
       "      <th>2619</th>\n",
       "      <td>Learn Javascript &amp; JQuery From Scratch</td>\n",
       "      <td>2013</td>\n",
       "      <td>Web Development</td>\n",
       "      <td>84897</td>\n",
       "    </tr>\n",
       "    <tr>\n",
       "      <th>3247</th>\n",
       "      <td>JavaScript: Understanding the Weird Parts</td>\n",
       "      <td>2015</td>\n",
       "      <td>Web Development</td>\n",
       "      <td>79612</td>\n",
       "    </tr>\n",
       "    <tr>\n",
       "      <th>1979</th>\n",
       "      <td>Pianoforall - Incredible New Way To Learn Pian...</td>\n",
       "      <td>2014</td>\n",
       "      <td>Musical Instruments</td>\n",
       "      <td>75499</td>\n",
       "    </tr>\n",
       "    <tr>\n",
       "      <th>3204</th>\n",
       "      <td>Angular 4 (formerly Angular 2) - The Complete ...</td>\n",
       "      <td>2016</td>\n",
       "      <td>Web Development</td>\n",
       "      <td>73783</td>\n",
       "    </tr>\n",
       "    <tr>\n",
       "      <th>2701</th>\n",
       "      <td>Become a Web Developer from Scratch</td>\n",
       "      <td>2011</td>\n",
       "      <td>Web Development</td>\n",
       "      <td>69186</td>\n",
       "    </tr>\n",
       "    <tr>\n",
       "      <th>3246</th>\n",
       "      <td>Learn and Understand AngularJS</td>\n",
       "      <td>2014</td>\n",
       "      <td>Web Development</td>\n",
       "      <td>59361</td>\n",
       "    </tr>\n",
       "    <tr>\n",
       "      <th>3251</th>\n",
       "      <td>Learn and Understand NodeJS</td>\n",
       "      <td>2015</td>\n",
       "      <td>Web Development</td>\n",
       "      <td>58208</td>\n",
       "    </tr>\n",
       "    <tr>\n",
       "      <th>2662</th>\n",
       "      <td>The Complete HTML &amp; CSS Course - From Novice T...</td>\n",
       "      <td>2015</td>\n",
       "      <td>Web Development</td>\n",
       "      <td>57422</td>\n",
       "    </tr>\n",
       "    <tr>\n",
       "      <th>3175</th>\n",
       "      <td>Complete PHP Course With Bootstrap3 CMS System...</td>\n",
       "      <td>2015</td>\n",
       "      <td>Web Development</td>\n",
       "      <td>55332</td>\n",
       "    </tr>\n",
       "    <tr>\n",
       "      <th>3205</th>\n",
       "      <td>Build Websites from Scratch with HTML &amp; CSS</td>\n",
       "      <td>2013</td>\n",
       "      <td>Web Development</td>\n",
       "      <td>51257</td>\n",
       "    </tr>\n",
       "    <tr>\n",
       "      <th>3254</th>\n",
       "      <td>Modern React with Redux</td>\n",
       "      <td>2015</td>\n",
       "      <td>Web Development</td>\n",
       "      <td>50815</td>\n",
       "    </tr>\n",
       "    <tr>\n",
       "      <th>2479</th>\n",
       "      <td>Learning Dynamic Website Design - PHP MySQL an...</td>\n",
       "      <td>2012</td>\n",
       "      <td>Web Development</td>\n",
       "      <td>47886</td>\n",
       "    </tr>\n",
       "    <tr>\n",
       "      <th>3249</th>\n",
       "      <td>Build Responsive Real World Websites with HTML...</td>\n",
       "      <td>2015</td>\n",
       "      <td>Web Development</td>\n",
       "      <td>43977</td>\n",
       "    </tr>\n",
       "  </tbody>\n",
       "</table>\n",
       "</div>"
      ],
      "text/plain": [
       "                                           course_title  year  \\\n",
       "3230                         The Web Developer Bootcamp  2015   \n",
       "3232              The Complete Web Developer Course 2.0  2016   \n",
       "2619             Learn Javascript & JQuery From Scratch  2013   \n",
       "3247          JavaScript: Understanding the Weird Parts  2015   \n",
       "1979  Pianoforall - Incredible New Way To Learn Pian...  2014   \n",
       "3204  Angular 4 (formerly Angular 2) - The Complete ...  2016   \n",
       "2701                Become a Web Developer from Scratch  2011   \n",
       "3246                     Learn and Understand AngularJS  2014   \n",
       "3251                        Learn and Understand NodeJS  2015   \n",
       "2662  The Complete HTML & CSS Course - From Novice T...  2015   \n",
       "3175  Complete PHP Course With Bootstrap3 CMS System...  2015   \n",
       "3205        Build Websites from Scratch with HTML & CSS  2013   \n",
       "3254                            Modern React with Redux  2015   \n",
       "2479  Learning Dynamic Website Design - PHP MySQL an...  2012   \n",
       "3249  Build Responsive Real World Websites with HTML...  2015   \n",
       "\n",
       "                  subject  num_subscribers  \n",
       "3230      Web Development           121584  \n",
       "3232      Web Development           114512  \n",
       "2619      Web Development            84897  \n",
       "3247      Web Development            79612  \n",
       "1979  Musical Instruments            75499  \n",
       "3204      Web Development            73783  \n",
       "2701      Web Development            69186  \n",
       "3246      Web Development            59361  \n",
       "3251      Web Development            58208  \n",
       "2662      Web Development            57422  \n",
       "3175      Web Development            55332  \n",
       "3205      Web Development            51257  \n",
       "3254      Web Development            50815  \n",
       "2479      Web Development            47886  \n",
       "3249      Web Development            43977  "
      ]
     },
     "execution_count": 30,
     "metadata": {},
     "output_type": "execute_result"
    }
   ],
   "source": [
    "top_15_paid_courses = df[df['price']!=0][['course_title','year','subject','num_subscribers']].sort_values(by= 'num_subscribers',ascending=False).head(15)\n",
    "top_15_paid_courses"
   ]
  },
  {
   "cell_type": "code",
   "execution_count": 31,
   "id": "engaged-equality",
   "metadata": {
    "_kg_hide-input": true,
    "papermill": {
     "duration": 0.172605,
     "end_time": "2021-07-07T21:05:38.339258",
     "exception": false,
     "start_time": "2021-07-07T21:05:38.166653",
     "status": "completed"
    },
    "tags": []
   },
   "outputs": [
    {
     "data": {
      "text/html": [
       "<iframe\n",
       "    scrolling=\"no\"\n",
       "    width=\"100%\"\n",
       "    height=\"545px\"\n",
       "    src=\"iframe_figures/figure_31.html\"\n",
       "    frameborder=\"0\"\n",
       "    allowfullscreen\n",
       "></iframe>\n"
      ]
     },
     "metadata": {},
     "output_type": "display_data"
    }
   ],
   "source": [
    "fig = px.bar(top_15_paid_courses, y= 'num_subscribers', x='course_title', hover_data = top_15_paid_courses[['year','subject']], color='subject')\n",
    "fig.update_layout(xaxis={'categoryorder':'total descending'})\n",
    "fig.show()"
   ]
  },
  {
   "cell_type": "markdown",
   "id": "headed-sailing",
   "metadata": {
    "papermill": {
     "duration": 0.077577,
     "end_time": "2021-07-07T21:05:38.494785",
     "exception": false,
     "start_time": "2021-07-07T21:05:38.417208",
     "status": "completed"
    },
    "tags": []
   },
   "source": [
    "- Almost all of the top 15 paid courses are from Web Development area, except one course in Musical Instruments area."
   ]
  },
  {
   "cell_type": "markdown",
   "id": "sophisticated-original",
   "metadata": {
    "papermill": {
     "duration": 0.105658,
     "end_time": "2021-07-07T21:05:38.678822",
     "exception": false,
     "start_time": "2021-07-07T21:05:38.573164",
     "status": "completed"
    },
    "tags": []
   },
   "source": [
    "### Top Free Courses"
   ]
  },
  {
   "cell_type": "code",
   "execution_count": 32,
   "id": "victorian-target",
   "metadata": {
    "_kg_hide-input": true,
    "papermill": {
     "duration": 0.099447,
     "end_time": "2021-07-07T21:05:38.855602",
     "exception": false,
     "start_time": "2021-07-07T21:05:38.756155",
     "status": "completed"
    },
    "tags": []
   },
   "outputs": [
    {
     "data": {
      "text/html": [
       "<div>\n",
       "<style scoped>\n",
       "    .dataframe tbody tr th:only-of-type {\n",
       "        vertical-align: middle;\n",
       "    }\n",
       "\n",
       "    .dataframe tbody tr th {\n",
       "        vertical-align: top;\n",
       "    }\n",
       "\n",
       "    .dataframe thead th {\n",
       "        text-align: right;\n",
       "    }\n",
       "</style>\n",
       "<table border=\"1\" class=\"dataframe\">\n",
       "  <thead>\n",
       "    <tr style=\"text-align: right;\">\n",
       "      <th></th>\n",
       "      <th>course_title</th>\n",
       "      <th>year</th>\n",
       "      <th>subject</th>\n",
       "      <th>num_subscribers</th>\n",
       "    </tr>\n",
       "  </thead>\n",
       "  <tbody>\n",
       "    <tr>\n",
       "      <th>2827</th>\n",
       "      <td>Learn HTML5 Programming From Scratch</td>\n",
       "      <td>2013</td>\n",
       "      <td>Web Development</td>\n",
       "      <td>268923</td>\n",
       "    </tr>\n",
       "    <tr>\n",
       "      <th>3032</th>\n",
       "      <td>Coding for Entrepreneurs Basic</td>\n",
       "      <td>2013</td>\n",
       "      <td>Web Development</td>\n",
       "      <td>161029</td>\n",
       "    </tr>\n",
       "    <tr>\n",
       "      <th>2783</th>\n",
       "      <td>Build Your First Website in 1 Week with HTML5 ...</td>\n",
       "      <td>2014</td>\n",
       "      <td>Web Development</td>\n",
       "      <td>120291</td>\n",
       "    </tr>\n",
       "    <tr>\n",
       "      <th>1896</th>\n",
       "      <td>Free Beginner Electric Guitar Lessons</td>\n",
       "      <td>2012</td>\n",
       "      <td>Musical Instruments</td>\n",
       "      <td>101154</td>\n",
       "    </tr>\n",
       "    <tr>\n",
       "      <th>2589</th>\n",
       "      <td>Web Design for Web Developers: Build Beautiful...</td>\n",
       "      <td>2015</td>\n",
       "      <td>Web Development</td>\n",
       "      <td>98867</td>\n",
       "    </tr>\n",
       "    <tr>\n",
       "      <th>3289</th>\n",
       "      <td>Practical PHP: Master the Basics and Code Dyna...</td>\n",
       "      <td>2014</td>\n",
       "      <td>Web Development</td>\n",
       "      <td>83737</td>\n",
       "    </tr>\n",
       "    <tr>\n",
       "      <th>3665</th>\n",
       "      <td>Beginner Photoshop to HTML5 and CSS3</td>\n",
       "      <td>2012</td>\n",
       "      <td>Web Development</td>\n",
       "      <td>73110</td>\n",
       "    </tr>\n",
       "    <tr>\n",
       "      <th>2782</th>\n",
       "      <td>Web Development By Doing: HTML / CSS From Scratch</td>\n",
       "      <td>2013</td>\n",
       "      <td>Web Development</td>\n",
       "      <td>72932</td>\n",
       "    </tr>\n",
       "    <tr>\n",
       "      <th>3325</th>\n",
       "      <td>HTML and CSS for Beginners - Build a Website &amp;...</td>\n",
       "      <td>2015</td>\n",
       "      <td>Web Development</td>\n",
       "      <td>70773</td>\n",
       "    </tr>\n",
       "    <tr>\n",
       "      <th>492</th>\n",
       "      <td>Bitcoin or How I Learned to Stop Worrying and ...</td>\n",
       "      <td>2013</td>\n",
       "      <td>Business Finance</td>\n",
       "      <td>65576</td>\n",
       "    </tr>\n",
       "    <tr>\n",
       "      <th>2592</th>\n",
       "      <td>Quickstart AngularJS</td>\n",
       "      <td>2014</td>\n",
       "      <td>Web Development</td>\n",
       "      <td>64128</td>\n",
       "    </tr>\n",
       "    <tr>\n",
       "      <th>3219</th>\n",
       "      <td>Learn Responsive Web Development from Scratch</td>\n",
       "      <td>2013</td>\n",
       "      <td>Web Development</td>\n",
       "      <td>59639</td>\n",
       "    </tr>\n",
       "    <tr>\n",
       "      <th>143</th>\n",
       "      <td>Accounting in 60 Minutes - A Brief Introduction</td>\n",
       "      <td>2013</td>\n",
       "      <td>Business Finance</td>\n",
       "      <td>56659</td>\n",
       "    </tr>\n",
       "    <tr>\n",
       "      <th>1461</th>\n",
       "      <td>Photoshop In-Depth: Master all of Photoshop's ...</td>\n",
       "      <td>2014</td>\n",
       "      <td>Graphic Design</td>\n",
       "      <td>53851</td>\n",
       "    </tr>\n",
       "    <tr>\n",
       "      <th>103</th>\n",
       "      <td>Stock Market Investing for Beginners</td>\n",
       "      <td>2013</td>\n",
       "      <td>Business Finance</td>\n",
       "      <td>50855</td>\n",
       "    </tr>\n",
       "  </tbody>\n",
       "</table>\n",
       "</div>"
      ],
      "text/plain": [
       "                                           course_title  year  \\\n",
       "2827               Learn HTML5 Programming From Scratch  2013   \n",
       "3032                     Coding for Entrepreneurs Basic  2013   \n",
       "2783  Build Your First Website in 1 Week with HTML5 ...  2014   \n",
       "1896              Free Beginner Electric Guitar Lessons  2012   \n",
       "2589  Web Design for Web Developers: Build Beautiful...  2015   \n",
       "3289  Practical PHP: Master the Basics and Code Dyna...  2014   \n",
       "3665               Beginner Photoshop to HTML5 and CSS3  2012   \n",
       "2782  Web Development By Doing: HTML / CSS From Scratch  2013   \n",
       "3325  HTML and CSS for Beginners - Build a Website &...  2015   \n",
       "492   Bitcoin or How I Learned to Stop Worrying and ...  2013   \n",
       "2592                               Quickstart AngularJS  2014   \n",
       "3219      Learn Responsive Web Development from Scratch  2013   \n",
       "143     Accounting in 60 Minutes - A Brief Introduction  2013   \n",
       "1461  Photoshop In-Depth: Master all of Photoshop's ...  2014   \n",
       "103                Stock Market Investing for Beginners  2013   \n",
       "\n",
       "                  subject  num_subscribers  \n",
       "2827      Web Development           268923  \n",
       "3032      Web Development           161029  \n",
       "2783      Web Development           120291  \n",
       "1896  Musical Instruments           101154  \n",
       "2589      Web Development            98867  \n",
       "3289      Web Development            83737  \n",
       "3665      Web Development            73110  \n",
       "2782      Web Development            72932  \n",
       "3325      Web Development            70773  \n",
       "492      Business Finance            65576  \n",
       "2592      Web Development            64128  \n",
       "3219      Web Development            59639  \n",
       "143      Business Finance            56659  \n",
       "1461       Graphic Design            53851  \n",
       "103      Business Finance            50855  "
      ]
     },
     "execution_count": 32,
     "metadata": {},
     "output_type": "execute_result"
    }
   ],
   "source": [
    "top_15_free_courses = df[df['price']==0][['course_title','year','subject','num_subscribers']].sort_values(by= 'num_subscribers',ascending=False).head(15)\n",
    "top_15_free_courses"
   ]
  },
  {
   "cell_type": "code",
   "execution_count": 33,
   "id": "japanese-domestic",
   "metadata": {
    "_kg_hide-input": true,
    "papermill": {
     "duration": 0.168778,
     "end_time": "2021-07-07T21:05:39.102396",
     "exception": false,
     "start_time": "2021-07-07T21:05:38.933618",
     "status": "completed"
    },
    "tags": []
   },
   "outputs": [
    {
     "data": {
      "text/html": [
       "<iframe\n",
       "    scrolling=\"no\"\n",
       "    width=\"100%\"\n",
       "    height=\"545px\"\n",
       "    src=\"iframe_figures/figure_33.html\"\n",
       "    frameborder=\"0\"\n",
       "    allowfullscreen\n",
       "></iframe>\n"
      ]
     },
     "metadata": {},
     "output_type": "display_data"
    }
   ],
   "source": [
    "fig = px.bar(top_15_free_courses, y= 'num_subscribers', x='course_title', hover_data = top_15_free_courses[['year','subject']], color='subject')\n",
    "fig.update_layout(xaxis={'categoryorder':'total descending'})\n",
    "fig.show()"
   ]
  },
  {
   "cell_type": "markdown",
   "id": "auburn-bargain",
   "metadata": {
    "papermill": {
     "duration": 0.079109,
     "end_time": "2021-07-07T21:05:39.261258",
     "exception": false,
     "start_time": "2021-07-07T21:05:39.182149",
     "status": "completed"
    },
    "tags": []
   },
   "source": [
    "- Top 15 free courses are mostly from Web Development area, but also include other subjects areas."
   ]
  },
  {
   "cell_type": "markdown",
   "id": "italian-greene",
   "metadata": {
    "papermill": {
     "duration": 0.078085,
     "end_time": "2021-07-07T21:05:39.418210",
     "exception": false,
     "start_time": "2021-07-07T21:05:39.340125",
     "status": "completed"
    },
    "tags": []
   },
   "source": [
    "### Top 15  Reviewed Courses"
   ]
  },
  {
   "cell_type": "code",
   "execution_count": 34,
   "id": "revised-essay",
   "metadata": {
    "_kg_hide-input": true,
    "papermill": {
     "duration": 0.098815,
     "end_time": "2021-07-07T21:05:39.596399",
     "exception": false,
     "start_time": "2021-07-07T21:05:39.497584",
     "status": "completed"
    },
    "tags": []
   },
   "outputs": [
    {
     "data": {
      "text/html": [
       "<div>\n",
       "<style scoped>\n",
       "    .dataframe tbody tr th:only-of-type {\n",
       "        vertical-align: middle;\n",
       "    }\n",
       "\n",
       "    .dataframe tbody tr th {\n",
       "        vertical-align: top;\n",
       "    }\n",
       "\n",
       "    .dataframe thead th {\n",
       "        text-align: right;\n",
       "    }\n",
       "</style>\n",
       "<table border=\"1\" class=\"dataframe\">\n",
       "  <thead>\n",
       "    <tr style=\"text-align: right;\">\n",
       "      <th></th>\n",
       "      <th>course_title</th>\n",
       "      <th>year</th>\n",
       "      <th>subject</th>\n",
       "      <th>is_paid</th>\n",
       "      <th>num_reviews</th>\n",
       "    </tr>\n",
       "  </thead>\n",
       "  <tbody>\n",
       "    <tr>\n",
       "      <th>3230</th>\n",
       "      <td>The Web Developer Bootcamp</td>\n",
       "      <td>2015</td>\n",
       "      <td>Web Development</td>\n",
       "      <td>True</td>\n",
       "      <td>27445</td>\n",
       "    </tr>\n",
       "    <tr>\n",
       "      <th>3232</th>\n",
       "      <td>The Complete Web Developer Course 2.0</td>\n",
       "      <td>2016</td>\n",
       "      <td>Web Development</td>\n",
       "      <td>True</td>\n",
       "      <td>22412</td>\n",
       "    </tr>\n",
       "    <tr>\n",
       "      <th>3204</th>\n",
       "      <td>Angular 4 (formerly Angular 2) - The Complete ...</td>\n",
       "      <td>2016</td>\n",
       "      <td>Web Development</td>\n",
       "      <td>True</td>\n",
       "      <td>19649</td>\n",
       "    </tr>\n",
       "    <tr>\n",
       "      <th>3247</th>\n",
       "      <td>JavaScript: Understanding the Weird Parts</td>\n",
       "      <td>2015</td>\n",
       "      <td>Web Development</td>\n",
       "      <td>True</td>\n",
       "      <td>16976</td>\n",
       "    </tr>\n",
       "    <tr>\n",
       "      <th>3254</th>\n",
       "      <td>Modern React with Redux</td>\n",
       "      <td>2015</td>\n",
       "      <td>Web Development</td>\n",
       "      <td>True</td>\n",
       "      <td>15117</td>\n",
       "    </tr>\n",
       "    <tr>\n",
       "      <th>3246</th>\n",
       "      <td>Learn and Understand AngularJS</td>\n",
       "      <td>2014</td>\n",
       "      <td>Web Development</td>\n",
       "      <td>True</td>\n",
       "      <td>11580</td>\n",
       "    </tr>\n",
       "    <tr>\n",
       "      <th>3251</th>\n",
       "      <td>Learn and Understand NodeJS</td>\n",
       "      <td>2015</td>\n",
       "      <td>Web Development</td>\n",
       "      <td>True</td>\n",
       "      <td>11123</td>\n",
       "    </tr>\n",
       "    <tr>\n",
       "      <th>2827</th>\n",
       "      <td>Learn HTML5 Programming From Scratch</td>\n",
       "      <td>2013</td>\n",
       "      <td>Web Development</td>\n",
       "      <td>False</td>\n",
       "      <td>8629</td>\n",
       "    </tr>\n",
       "    <tr>\n",
       "      <th>3228</th>\n",
       "      <td>Angular 2 with TypeScript for Beginners: The P...</td>\n",
       "      <td>2016</td>\n",
       "      <td>Web Development</td>\n",
       "      <td>True</td>\n",
       "      <td>8341</td>\n",
       "    </tr>\n",
       "    <tr>\n",
       "      <th>1979</th>\n",
       "      <td>Pianoforall - Incredible New Way To Learn Pian...</td>\n",
       "      <td>2014</td>\n",
       "      <td>Musical Instruments</td>\n",
       "      <td>True</td>\n",
       "      <td>7676</td>\n",
       "    </tr>\n",
       "    <tr>\n",
       "      <th>3249</th>\n",
       "      <td>Build Responsive Real World Websites with HTML...</td>\n",
       "      <td>2015</td>\n",
       "      <td>Web Development</td>\n",
       "      <td>True</td>\n",
       "      <td>7106</td>\n",
       "    </tr>\n",
       "    <tr>\n",
       "      <th>2589</th>\n",
       "      <td>Web Design for Web Developers: Build Beautiful...</td>\n",
       "      <td>2015</td>\n",
       "      <td>Web Development</td>\n",
       "      <td>False</td>\n",
       "      <td>6512</td>\n",
       "    </tr>\n",
       "    <tr>\n",
       "      <th>3256</th>\n",
       "      <td>The Complete ASP.NET MVC 5 Course</td>\n",
       "      <td>2016</td>\n",
       "      <td>Web Development</td>\n",
       "      <td>True</td>\n",
       "      <td>6357</td>\n",
       "    </tr>\n",
       "    <tr>\n",
       "      <th>2783</th>\n",
       "      <td>Build Your First Website in 1 Week with HTML5 ...</td>\n",
       "      <td>2014</td>\n",
       "      <td>Web Development</td>\n",
       "      <td>False</td>\n",
       "      <td>5924</td>\n",
       "    </tr>\n",
       "    <tr>\n",
       "      <th>3325</th>\n",
       "      <td>HTML and CSS for Beginners - Build a Website &amp;...</td>\n",
       "      <td>2015</td>\n",
       "      <td>Web Development</td>\n",
       "      <td>False</td>\n",
       "      <td>5660</td>\n",
       "    </tr>\n",
       "  </tbody>\n",
       "</table>\n",
       "</div>"
      ],
      "text/plain": [
       "                                           course_title  year  \\\n",
       "3230                         The Web Developer Bootcamp  2015   \n",
       "3232              The Complete Web Developer Course 2.0  2016   \n",
       "3204  Angular 4 (formerly Angular 2) - The Complete ...  2016   \n",
       "3247          JavaScript: Understanding the Weird Parts  2015   \n",
       "3254                            Modern React with Redux  2015   \n",
       "3246                     Learn and Understand AngularJS  2014   \n",
       "3251                        Learn and Understand NodeJS  2015   \n",
       "2827               Learn HTML5 Programming From Scratch  2013   \n",
       "3228  Angular 2 with TypeScript for Beginners: The P...  2016   \n",
       "1979  Pianoforall - Incredible New Way To Learn Pian...  2014   \n",
       "3249  Build Responsive Real World Websites with HTML...  2015   \n",
       "2589  Web Design for Web Developers: Build Beautiful...  2015   \n",
       "3256                  The Complete ASP.NET MVC 5 Course  2016   \n",
       "2783  Build Your First Website in 1 Week with HTML5 ...  2014   \n",
       "3325  HTML and CSS for Beginners - Build a Website &...  2015   \n",
       "\n",
       "                  subject  is_paid  num_reviews  \n",
       "3230      Web Development     True        27445  \n",
       "3232      Web Development     True        22412  \n",
       "3204      Web Development     True        19649  \n",
       "3247      Web Development     True        16976  \n",
       "3254      Web Development     True        15117  \n",
       "3246      Web Development     True        11580  \n",
       "3251      Web Development     True        11123  \n",
       "2827      Web Development    False         8629  \n",
       "3228      Web Development     True         8341  \n",
       "1979  Musical Instruments     True         7676  \n",
       "3249      Web Development     True         7106  \n",
       "2589      Web Development    False         6512  \n",
       "3256      Web Development     True         6357  \n",
       "2783      Web Development    False         5924  \n",
       "3325      Web Development    False         5660  "
      ]
     },
     "execution_count": 34,
     "metadata": {},
     "output_type": "execute_result"
    }
   ],
   "source": [
    "top_15_reviewed = df[['course_title','year','subject','is_paid','num_reviews']].sort_values(by='num_reviews', ascending=False).head(15)\n",
    "\n",
    "top_15_reviewed"
   ]
  },
  {
   "cell_type": "code",
   "execution_count": 35,
   "id": "encouraging-gazette",
   "metadata": {
    "_kg_hide-input": true,
    "papermill": {
     "duration": 0.159529,
     "end_time": "2021-07-07T21:05:39.835835",
     "exception": false,
     "start_time": "2021-07-07T21:05:39.676306",
     "status": "completed"
    },
    "tags": []
   },
   "outputs": [
    {
     "data": {
      "text/html": [
       "<iframe\n",
       "    scrolling=\"no\"\n",
       "    width=\"100%\"\n",
       "    height=\"545px\"\n",
       "    src=\"iframe_figures/figure_35.html\"\n",
       "    frameborder=\"0\"\n",
       "    allowfullscreen\n",
       "></iframe>\n"
      ]
     },
     "metadata": {},
     "output_type": "display_data"
    }
   ],
   "source": [
    "fig = px.bar(top_15_reviewed , y= 'num_reviews', x='course_title', hover_data = top_15_reviewed[['year','subject', 'is_paid']], color='subject')\n",
    "fig.update_layout(xaxis={'categoryorder':'total descending'})\n",
    "fig.show()"
   ]
  },
  {
   "cell_type": "markdown",
   "id": "aging-curve",
   "metadata": {
    "papermill": {
     "duration": 0.080269,
     "end_time": "2021-07-07T21:05:39.997212",
     "exception": false,
     "start_time": "2021-07-07T21:05:39.916943",
     "status": "completed"
    },
    "tags": []
   },
   "source": [
    "- Top 15 reviewed courses are from Web Development area, except one course. And 11 out of 15 top reviewed courses are paid courses."
   ]
  },
  {
   "cell_type": "markdown",
   "id": "agreed-pattern",
   "metadata": {
    "papermill": {
     "duration": 0.080688,
     "end_time": "2021-07-07T21:05:40.160042",
     "exception": false,
     "start_time": "2021-07-07T21:05:40.079354",
     "status": "completed"
    },
    "tags": []
   },
   "source": [
    "### Top 15 Expensive Courses"
   ]
  },
  {
   "cell_type": "code",
   "execution_count": 36,
   "id": "turned-western",
   "metadata": {
    "_kg_hide-input": true,
    "papermill": {
     "duration": 0.104321,
     "end_time": "2021-07-07T21:05:40.344141",
     "exception": false,
     "start_time": "2021-07-07T21:05:40.239820",
     "status": "completed"
    },
    "tags": []
   },
   "outputs": [
    {
     "data": {
      "text/html": [
       "<div>\n",
       "<style scoped>\n",
       "    .dataframe tbody tr th:only-of-type {\n",
       "        vertical-align: middle;\n",
       "    }\n",
       "\n",
       "    .dataframe tbody tr th {\n",
       "        vertical-align: top;\n",
       "    }\n",
       "\n",
       "    .dataframe thead th {\n",
       "        text-align: right;\n",
       "    }\n",
       "</style>\n",
       "<table border=\"1\" class=\"dataframe\">\n",
       "  <thead>\n",
       "    <tr style=\"text-align: right;\">\n",
       "      <th></th>\n",
       "      <th>course_title</th>\n",
       "      <th>year</th>\n",
       "      <th>subject</th>\n",
       "      <th>num_subscribers</th>\n",
       "      <th>price</th>\n",
       "    </tr>\n",
       "  </thead>\n",
       "  <tbody>\n",
       "    <tr>\n",
       "      <th>3230</th>\n",
       "      <td>The Web Developer Bootcamp</td>\n",
       "      <td>2015</td>\n",
       "      <td>Web Development</td>\n",
       "      <td>121584</td>\n",
       "      <td>200</td>\n",
       "    </tr>\n",
       "    <tr>\n",
       "      <th>3232</th>\n",
       "      <td>The Complete Web Developer Course 2.0</td>\n",
       "      <td>2016</td>\n",
       "      <td>Web Development</td>\n",
       "      <td>114512</td>\n",
       "      <td>200</td>\n",
       "    </tr>\n",
       "    <tr>\n",
       "      <th>1979</th>\n",
       "      <td>Pianoforall - Incredible New Way To Learn Pian...</td>\n",
       "      <td>2014</td>\n",
       "      <td>Musical Instruments</td>\n",
       "      <td>75499</td>\n",
       "      <td>200</td>\n",
       "    </tr>\n",
       "    <tr>\n",
       "      <th>1213</th>\n",
       "      <td>Photoshop for Entrepreneurs - Design 11 Practi...</td>\n",
       "      <td>2016</td>\n",
       "      <td>Graphic Design</td>\n",
       "      <td>36288</td>\n",
       "      <td>200</td>\n",
       "    </tr>\n",
       "    <tr>\n",
       "      <th>3233</th>\n",
       "      <td>Ultimate Web Designer &amp; Developer Course: Buil...</td>\n",
       "      <td>2015</td>\n",
       "      <td>Web Development</td>\n",
       "      <td>33788</td>\n",
       "      <td>200</td>\n",
       "    </tr>\n",
       "    <tr>\n",
       "      <th>3206</th>\n",
       "      <td>PHP for Beginners -Become a PHP Master - Proje...</td>\n",
       "      <td>2015</td>\n",
       "      <td>Web Development</td>\n",
       "      <td>28880</td>\n",
       "      <td>200</td>\n",
       "    </tr>\n",
       "    <tr>\n",
       "      <th>2621</th>\n",
       "      <td>The Ultimate Web Developer How To Guide</td>\n",
       "      <td>2015</td>\n",
       "      <td>Web Development</td>\n",
       "      <td>24861</td>\n",
       "      <td>200</td>\n",
       "    </tr>\n",
       "    <tr>\n",
       "      <th>1526</th>\n",
       "      <td>How To Make Graphics For A Website</td>\n",
       "      <td>2014</td>\n",
       "      <td>Graphic Design</td>\n",
       "      <td>24857</td>\n",
       "      <td>200</td>\n",
       "    </tr>\n",
       "    <tr>\n",
       "      <th>3117</th>\n",
       "      <td>1 Hour JavaScript</td>\n",
       "      <td>2013</td>\n",
       "      <td>Web Development</td>\n",
       "      <td>22999</td>\n",
       "      <td>200</td>\n",
       "    </tr>\n",
       "    <tr>\n",
       "      <th>2755</th>\n",
       "      <td>Become A Web Developer And Seller - Build Webs...</td>\n",
       "      <td>2013</td>\n",
       "      <td>Web Development</td>\n",
       "      <td>21730</td>\n",
       "      <td>200</td>\n",
       "    </tr>\n",
       "    <tr>\n",
       "      <th>1980</th>\n",
       "      <td>The Professional Guitar Masterclass</td>\n",
       "      <td>2015</td>\n",
       "      <td>Musical Instruments</td>\n",
       "      <td>21701</td>\n",
       "      <td>200</td>\n",
       "    </tr>\n",
       "    <tr>\n",
       "      <th>44</th>\n",
       "      <td>Black Algo Trading: Build Your Trading Robot</td>\n",
       "      <td>2014</td>\n",
       "      <td>Business Finance</td>\n",
       "      <td>20195</td>\n",
       "      <td>200</td>\n",
       "    </tr>\n",
       "    <tr>\n",
       "      <th>1220</th>\n",
       "      <td>Canva Graphics Design for Entrepreneurs - Desi...</td>\n",
       "      <td>2016</td>\n",
       "      <td>Graphic Design</td>\n",
       "      <td>18303</td>\n",
       "      <td>200</td>\n",
       "    </tr>\n",
       "    <tr>\n",
       "      <th>2707</th>\n",
       "      <td>Back to School Web Development and Programming...</td>\n",
       "      <td>2013</td>\n",
       "      <td>Web Development</td>\n",
       "      <td>18170</td>\n",
       "      <td>200</td>\n",
       "    </tr>\n",
       "    <tr>\n",
       "      <th>2943</th>\n",
       "      <td>Adobe Flash for Beginners - Build Flash Websit...</td>\n",
       "      <td>2014</td>\n",
       "      <td>Web Development</td>\n",
       "      <td>17071</td>\n",
       "      <td>200</td>\n",
       "    </tr>\n",
       "  </tbody>\n",
       "</table>\n",
       "</div>"
      ],
      "text/plain": [
       "                                           course_title  year  \\\n",
       "3230                         The Web Developer Bootcamp  2015   \n",
       "3232              The Complete Web Developer Course 2.0  2016   \n",
       "1979  Pianoforall - Incredible New Way To Learn Pian...  2014   \n",
       "1213  Photoshop for Entrepreneurs - Design 11 Practi...  2016   \n",
       "3233  Ultimate Web Designer & Developer Course: Buil...  2015   \n",
       "3206  PHP for Beginners -Become a PHP Master - Proje...  2015   \n",
       "2621            The Ultimate Web Developer How To Guide  2015   \n",
       "1526                 How To Make Graphics For A Website  2014   \n",
       "3117                                  1 Hour JavaScript  2013   \n",
       "2755  Become A Web Developer And Seller - Build Webs...  2013   \n",
       "1980                The Professional Guitar Masterclass  2015   \n",
       "44         Black Algo Trading: Build Your Trading Robot  2014   \n",
       "1220  Canva Graphics Design for Entrepreneurs - Desi...  2016   \n",
       "2707  Back to School Web Development and Programming...  2013   \n",
       "2943  Adobe Flash for Beginners - Build Flash Websit...  2014   \n",
       "\n",
       "                  subject  num_subscribers  price  \n",
       "3230      Web Development           121584    200  \n",
       "3232      Web Development           114512    200  \n",
       "1979  Musical Instruments            75499    200  \n",
       "1213       Graphic Design            36288    200  \n",
       "3233      Web Development            33788    200  \n",
       "3206      Web Development            28880    200  \n",
       "2621      Web Development            24861    200  \n",
       "1526       Graphic Design            24857    200  \n",
       "3117      Web Development            22999    200  \n",
       "2755      Web Development            21730    200  \n",
       "1980  Musical Instruments            21701    200  \n",
       "44       Business Finance            20195    200  \n",
       "1220       Graphic Design            18303    200  \n",
       "2707      Web Development            18170    200  \n",
       "2943      Web Development            17071    200  "
      ]
     },
     "execution_count": 36,
     "metadata": {},
     "output_type": "execute_result"
    }
   ],
   "source": [
    "top_15_price = df[['course_title','year','subject','num_subscribers', 'price']].sort_values(by=['price','num_subscribers'], ascending=False).head(15)\n",
    "\n",
    "top_15_price"
   ]
  },
  {
   "cell_type": "code",
   "execution_count": 37,
   "id": "respective-defensive",
   "metadata": {
    "_kg_hide-input": true,
    "papermill": {
     "duration": 0.169225,
     "end_time": "2021-07-07T21:05:40.594204",
     "exception": false,
     "start_time": "2021-07-07T21:05:40.424979",
     "status": "completed"
    },
    "tags": []
   },
   "outputs": [
    {
     "data": {
      "text/html": [
       "<iframe\n",
       "    scrolling=\"no\"\n",
       "    width=\"100%\"\n",
       "    height=\"545px\"\n",
       "    src=\"iframe_figures/figure_37.html\"\n",
       "    frameborder=\"0\"\n",
       "    allowfullscreen\n",
       "></iframe>\n"
      ]
     },
     "metadata": {},
     "output_type": "display_data"
    }
   ],
   "source": [
    "fig = px.bar(top_15_price , y= 'num_subscribers', x='course_title', hover_data = top_15_price[['price','year']], color='subject')\n",
    "fig.update_layout(xaxis={'categoryorder':'total descending'})\n",
    "fig.show()"
   ]
  },
  {
   "cell_type": "markdown",
   "id": "behavioral-ownership",
   "metadata": {
    "papermill": {
     "duration": 0.082198,
     "end_time": "2021-07-07T21:05:40.759324",
     "exception": false,
     "start_time": "2021-07-07T21:05:40.677126",
     "status": "completed"
    },
    "tags": []
   },
   "source": [
    "- Expensive courses are $ 200, and all of the subjects areas are in the top 15 expensive course list. "
   ]
  },
  {
   "cell_type": "markdown",
   "id": "communist-paper",
   "metadata": {
    "execution": {
     "iopub.execute_input": "2021-07-07T19:54:26.639505Z",
     "iopub.status.busy": "2021-07-07T19:54:26.639133Z",
     "iopub.status.idle": "2021-07-07T19:54:26.647151Z",
     "shell.execute_reply": "2021-07-07T19:54:26.645427Z",
     "shell.execute_reply.started": "2021-07-07T19:54:26.639471Z"
    },
    "papermill": {
     "duration": 0.081823,
     "end_time": "2021-07-07T21:05:40.925059",
     "exception": false,
     "start_time": "2021-07-07T21:05:40.843236",
     "status": "completed"
    },
    "tags": []
   },
   "source": [
    "- Thanks for the dataset contibutor for this data. only missing thing for me, this dataset should contain something about the course ratings. We can make some assumptions based on number of subscribers or numbers of reviews, but still it does not give us confidence to make an assumption on the quality of the courses."
   ]
  },
  {
   "cell_type": "markdown",
   "id": "desperate-operation",
   "metadata": {
    "papermill": {
     "duration": 0.084979,
     "end_time": "2021-07-07T21:05:41.092892",
     "exception": false,
     "start_time": "2021-07-07T21:05:41.007913",
     "status": "completed"
    },
    "tags": []
   },
   "source": [
    "- It was a quite pleasure to share with you this detailed, beginner friendly EDA. Thanks for your time.\n",
    "\n",
    "- All the best "
   ]
  },
  {
   "cell_type": "code",
   "execution_count": null,
   "id": "otherwise-castle",
   "metadata": {
    "papermill": {
     "duration": 0.085772,
     "end_time": "2021-07-07T21:05:41.260796",
     "exception": false,
     "start_time": "2021-07-07T21:05:41.175024",
     "status": "completed"
    },
    "tags": []
   },
   "outputs": [],
   "source": []
  }
 ],
 "metadata": {
  "kernelspec": {
   "display_name": "Python 3",
   "language": "python",
   "name": "python3"
  },
  "language_info": {
   "codemirror_mode": {
    "name": "ipython",
    "version": 3
   },
   "file_extension": ".py",
   "mimetype": "text/x-python",
   "name": "python",
   "nbconvert_exporter": "python",
   "pygments_lexer": "ipython3",
   "version": "3.8.10"
  },
  "papermill": {
   "default_parameters": {},
   "duration": 28.025802,
   "end_time": "2021-07-07T21:05:42.785734",
   "environment_variables": {},
   "exception": null,
   "input_path": "__notebook__.ipynb",
   "output_path": "__notebook__.ipynb",
   "parameters": {},
   "start_time": "2021-07-07T21:05:14.759932",
   "version": "2.3.3"
  }
 },
 "nbformat": 4,
 "nbformat_minor": 5
}
