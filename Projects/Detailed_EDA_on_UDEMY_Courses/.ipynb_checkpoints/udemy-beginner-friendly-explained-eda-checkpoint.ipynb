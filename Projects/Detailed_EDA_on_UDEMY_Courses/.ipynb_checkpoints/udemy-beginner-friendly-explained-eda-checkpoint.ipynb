{
 "cells": [
  {
   "cell_type": "markdown",
   "id": "strange-endorsement",
   "metadata": {
    "papermill": {
     "duration": 0.052634,
     "end_time": "2021-07-07T21:05:23.498450",
     "exception": false,
     "start_time": "2021-07-07T21:05:23.445816",
     "status": "completed"
    },
    "tags": []
   },
   "source": [
    "In this EDA, we will discover the courses given by UDEMY."
   ]
  },
  {
   "cell_type": "markdown",
   "id": "confused-saying",
   "metadata": {
    "papermill": {
     "duration": 0.050681,
     "end_time": "2021-07-07T21:05:23.600044",
     "exception": false,
     "start_time": "2021-07-07T21:05:23.549363",
     "status": "completed"
    },
    "tags": []
   },
   "source": [
    "- Let's import the required libraries"
   ]
  },
  {
   "cell_type": "code",
   "execution_count": 1,
   "id": "rational-karen",
   "metadata": {
    "_kg_hide-input": true,
    "execution": {
     "iopub.execute_input": "2021-07-07T21:05:23.706338Z",
     "iopub.status.busy": "2021-07-07T21:05:23.705194Z",
     "iopub.status.idle": "2021-07-07T21:05:27.404261Z",
     "shell.execute_reply": "2021-07-07T21:05:27.403400Z",
     "shell.execute_reply.started": "2021-07-07T20:45:31.381988Z"
    },
    "papermill": {
     "duration": 3.753476,
     "end_time": "2021-07-07T21:05:27.404450",
     "exception": false,
     "start_time": "2021-07-07T21:05:23.650974",
     "status": "completed"
    },
    "tags": []
   },
   "outputs": [],
   "source": [
    "import pandas as pd\n",
    "import numpy as np\n",
    "\n",
    "import plotly.io as pio\n",
    "pio.renderers.default = 'iframe'\n",
    "\n",
    "import plotly \n",
    "import plotly.express as px\n",
    "import plotly.graph_objs as go\n",
    "import plotly.offline as py\n",
    "from plotly.offline import iplot\n",
    "from plotly.subplots import make_subplots\n",
    "import plotly.figure_factory as ff"
   ]
  },
  {
   "cell_type": "markdown",
   "id": "warming-trinidad",
   "metadata": {
    "papermill": {
     "duration": 0.05202,
     "end_time": "2021-07-07T21:05:27.507411",
     "exception": false,
     "start_time": "2021-07-07T21:05:27.455391",
     "status": "completed"
    },
    "tags": []
   },
   "source": [
    "### Overview Stage\n",
    "\n",
    "- Read the csv\n",
    "- Look for basic information about the dataset"
   ]
  },
  {
   "cell_type": "code",
   "execution_count": 2,
   "id": "qualified-likelihood",
   "metadata": {
    "_kg_hide-input": true,
    "execution": {
     "iopub.execute_input": "2021-07-07T21:05:27.616735Z",
     "iopub.status.busy": "2021-07-07T21:05:27.616044Z",
     "iopub.status.idle": "2021-07-07T21:05:27.698582Z",
     "shell.execute_reply": "2021-07-07T21:05:27.699066Z",
     "shell.execute_reply.started": "2021-07-07T20:45:35.037954Z"
    },
    "papermill": {
     "duration": 0.139844,
     "end_time": "2021-07-07T21:05:27.699258",
     "exception": false,
     "start_time": "2021-07-07T21:05:27.559414",
     "status": "completed"
    },
    "tags": []
   },
   "outputs": [
    {
     "data": {
      "text/html": [
       "<div>\n",
       "<style scoped>\n",
       "    .dataframe tbody tr th:only-of-type {\n",
       "        vertical-align: middle;\n",
       "    }\n",
       "\n",
       "    .dataframe tbody tr th {\n",
       "        vertical-align: top;\n",
       "    }\n",
       "\n",
       "    .dataframe thead th {\n",
       "        text-align: right;\n",
       "    }\n",
       "</style>\n",
       "<table border=\"1\" class=\"dataframe\">\n",
       "  <thead>\n",
       "    <tr style=\"text-align: right;\">\n",
       "      <th></th>\n",
       "      <th>course_id</th>\n",
       "      <th>course_title</th>\n",
       "      <th>url</th>\n",
       "      <th>is_paid</th>\n",
       "      <th>price</th>\n",
       "      <th>num_subscribers</th>\n",
       "      <th>num_reviews</th>\n",
       "      <th>num_lectures</th>\n",
       "      <th>level</th>\n",
       "      <th>content_duration</th>\n",
       "      <th>published_timestamp</th>\n",
       "      <th>subject</th>\n",
       "    </tr>\n",
       "  </thead>\n",
       "  <tbody>\n",
       "    <tr>\n",
       "      <th>0</th>\n",
       "      <td>1070968</td>\n",
       "      <td>Ultimate Investment Banking Course</td>\n",
       "      <td>https://www.udemy.com/ultimate-investment-bank...</td>\n",
       "      <td>True</td>\n",
       "      <td>200</td>\n",
       "      <td>2147</td>\n",
       "      <td>23</td>\n",
       "      <td>51</td>\n",
       "      <td>All Levels</td>\n",
       "      <td>1.5</td>\n",
       "      <td>2017-01-18T20:58:58Z</td>\n",
       "      <td>Business Finance</td>\n",
       "    </tr>\n",
       "    <tr>\n",
       "      <th>1</th>\n",
       "      <td>1113822</td>\n",
       "      <td>Complete GST Course &amp; Certification - Grow You...</td>\n",
       "      <td>https://www.udemy.com/goods-and-services-tax/</td>\n",
       "      <td>True</td>\n",
       "      <td>75</td>\n",
       "      <td>2792</td>\n",
       "      <td>923</td>\n",
       "      <td>274</td>\n",
       "      <td>All Levels</td>\n",
       "      <td>39.0</td>\n",
       "      <td>2017-03-09T16:34:20Z</td>\n",
       "      <td>Business Finance</td>\n",
       "    </tr>\n",
       "    <tr>\n",
       "      <th>2</th>\n",
       "      <td>1006314</td>\n",
       "      <td>Financial Modeling for Business Analysts and C...</td>\n",
       "      <td>https://www.udemy.com/financial-modeling-for-b...</td>\n",
       "      <td>True</td>\n",
       "      <td>45</td>\n",
       "      <td>2174</td>\n",
       "      <td>74</td>\n",
       "      <td>51</td>\n",
       "      <td>Intermediate Level</td>\n",
       "      <td>2.5</td>\n",
       "      <td>2016-12-19T19:26:30Z</td>\n",
       "      <td>Business Finance</td>\n",
       "    </tr>\n",
       "    <tr>\n",
       "      <th>3</th>\n",
       "      <td>1210588</td>\n",
       "      <td>Beginner to Pro - Financial Analysis in Excel ...</td>\n",
       "      <td>https://www.udemy.com/complete-excel-finance-c...</td>\n",
       "      <td>True</td>\n",
       "      <td>95</td>\n",
       "      <td>2451</td>\n",
       "      <td>11</td>\n",
       "      <td>36</td>\n",
       "      <td>All Levels</td>\n",
       "      <td>3.0</td>\n",
       "      <td>2017-05-30T20:07:24Z</td>\n",
       "      <td>Business Finance</td>\n",
       "    </tr>\n",
       "    <tr>\n",
       "      <th>4</th>\n",
       "      <td>1011058</td>\n",
       "      <td>How To Maximize Your Profits Trading Options</td>\n",
       "      <td>https://www.udemy.com/how-to-maximize-your-pro...</td>\n",
       "      <td>True</td>\n",
       "      <td>200</td>\n",
       "      <td>1276</td>\n",
       "      <td>45</td>\n",
       "      <td>26</td>\n",
       "      <td>Intermediate Level</td>\n",
       "      <td>2.0</td>\n",
       "      <td>2016-12-13T14:57:18Z</td>\n",
       "      <td>Business Finance</td>\n",
       "    </tr>\n",
       "  </tbody>\n",
       "</table>\n",
       "</div>"
      ],
      "text/plain": [
       "   course_id                                       course_title  \\\n",
       "0    1070968                 Ultimate Investment Banking Course   \n",
       "1    1113822  Complete GST Course & Certification - Grow You...   \n",
       "2    1006314  Financial Modeling for Business Analysts and C...   \n",
       "3    1210588  Beginner to Pro - Financial Analysis in Excel ...   \n",
       "4    1011058       How To Maximize Your Profits Trading Options   \n",
       "\n",
       "                                                 url  is_paid  price  \\\n",
       "0  https://www.udemy.com/ultimate-investment-bank...     True    200   \n",
       "1      https://www.udemy.com/goods-and-services-tax/     True     75   \n",
       "2  https://www.udemy.com/financial-modeling-for-b...     True     45   \n",
       "3  https://www.udemy.com/complete-excel-finance-c...     True     95   \n",
       "4  https://www.udemy.com/how-to-maximize-your-pro...     True    200   \n",
       "\n",
       "   num_subscribers  num_reviews  num_lectures               level  \\\n",
       "0             2147           23            51          All Levels   \n",
       "1             2792          923           274          All Levels   \n",
       "2             2174           74            51  Intermediate Level   \n",
       "3             2451           11            36          All Levels   \n",
       "4             1276           45            26  Intermediate Level   \n",
       "\n",
       "   content_duration   published_timestamp           subject  \n",
       "0               1.5  2017-01-18T20:58:58Z  Business Finance  \n",
       "1              39.0  2017-03-09T16:34:20Z  Business Finance  \n",
       "2               2.5  2016-12-19T19:26:30Z  Business Finance  \n",
       "3               3.0  2017-05-30T20:07:24Z  Business Finance  \n",
       "4               2.0  2016-12-13T14:57:18Z  Business Finance  "
      ]
     },
     "execution_count": 2,
     "metadata": {},
     "output_type": "execute_result"
    }
   ],
   "source": [
    "df = pd.read_csv('../input/udemy-courses/udemy_courses.csv')\n",
    "df.head()"
   ]
  },
  {
   "cell_type": "code",
   "execution_count": 3,
   "id": "prime-minister",
   "metadata": {
    "_kg_hide-input": true,
    "execution": {
     "iopub.execute_input": "2021-07-07T21:05:27.809263Z",
     "iopub.status.busy": "2021-07-07T21:05:27.808116Z",
     "iopub.status.idle": "2021-07-07T21:05:27.814254Z",
     "shell.execute_reply": "2021-07-07T21:05:27.814709Z",
     "shell.execute_reply.started": "2021-07-07T20:45:35.121493Z"
    },
    "papermill": {
     "duration": 0.061989,
     "end_time": "2021-07-07T21:05:27.814922",
     "exception": false,
     "start_time": "2021-07-07T21:05:27.752933",
     "status": "completed"
    },
    "tags": []
   },
   "outputs": [
    {
     "data": {
      "text/plain": [
       "(3678, 12)"
      ]
     },
     "execution_count": 3,
     "metadata": {},
     "output_type": "execute_result"
    }
   ],
   "source": [
    "df.shape"
   ]
  },
  {
   "cell_type": "code",
   "execution_count": 4,
   "id": "capital-premiere",
   "metadata": {
    "_kg_hide-input": true,
    "execution": {
     "iopub.execute_input": "2021-07-07T21:05:27.926739Z",
     "iopub.status.busy": "2021-07-07T21:05:27.925751Z",
     "iopub.status.idle": "2021-07-07T21:05:27.950489Z",
     "shell.execute_reply": "2021-07-07T21:05:27.949948Z",
     "shell.execute_reply.started": "2021-07-07T20:45:35.132046Z"
    },
    "papermill": {
     "duration": 0.083719,
     "end_time": "2021-07-07T21:05:27.950641",
     "exception": false,
     "start_time": "2021-07-07T21:05:27.866922",
     "status": "completed"
    },
    "tags": []
   },
   "outputs": [
    {
     "name": "stdout",
     "output_type": "stream",
     "text": [
      "<class 'pandas.core.frame.DataFrame'>\n",
      "RangeIndex: 3678 entries, 0 to 3677\n",
      "Data columns (total 12 columns):\n",
      " #   Column               Non-Null Count  Dtype  \n",
      "---  ------               --------------  -----  \n",
      " 0   course_id            3678 non-null   int64  \n",
      " 1   course_title         3678 non-null   object \n",
      " 2   url                  3678 non-null   object \n",
      " 3   is_paid              3678 non-null   bool   \n",
      " 4   price                3678 non-null   int64  \n",
      " 5   num_subscribers      3678 non-null   int64  \n",
      " 6   num_reviews          3678 non-null   int64  \n",
      " 7   num_lectures         3678 non-null   int64  \n",
      " 8   level                3678 non-null   object \n",
      " 9   content_duration     3678 non-null   float64\n",
      " 10  published_timestamp  3678 non-null   object \n",
      " 11  subject              3678 non-null   object \n",
      "dtypes: bool(1), float64(1), int64(5), object(5)\n",
      "memory usage: 319.8+ KB\n"
     ]
    }
   ],
   "source": [
    "df.info()"
   ]
  },
  {
   "cell_type": "code",
   "execution_count": 5,
   "id": "hindu-fusion",
   "metadata": {
    "_kg_hide-input": true,
    "execution": {
     "iopub.execute_input": "2021-07-07T21:05:28.066459Z",
     "iopub.status.busy": "2021-07-07T21:05:28.065738Z",
     "iopub.status.idle": "2021-07-07T21:05:28.069874Z",
     "shell.execute_reply": "2021-07-07T21:05:28.069338Z",
     "shell.execute_reply.started": "2021-07-07T20:45:35.158327Z"
    },
    "papermill": {
     "duration": 0.066962,
     "end_time": "2021-07-07T21:05:28.070016",
     "exception": false,
     "start_time": "2021-07-07T21:05:28.003054",
     "status": "completed"
    },
    "tags": []
   },
   "outputs": [
    {
     "data": {
      "text/plain": [
       "course_id              0\n",
       "course_title           0\n",
       "url                    0\n",
       "is_paid                0\n",
       "price                  0\n",
       "num_subscribers        0\n",
       "num_reviews            0\n",
       "num_lectures           0\n",
       "level                  0\n",
       "content_duration       0\n",
       "published_timestamp    0\n",
       "subject                0\n",
       "dtype: int64"
      ]
     },
     "execution_count": 5,
     "metadata": {},
     "output_type": "execute_result"
    }
   ],
   "source": [
    "df.isnull().sum()"
   ]
  },
  {
   "cell_type": "code",
   "execution_count": 6,
   "id": "silent-shock",
   "metadata": {
    "_kg_hide-input": true,
    "execution": {
     "iopub.execute_input": "2021-07-07T21:05:28.184931Z",
     "iopub.status.busy": "2021-07-07T21:05:28.184231Z",
     "iopub.status.idle": "2021-07-07T21:05:28.213298Z",
     "shell.execute_reply": "2021-07-07T21:05:28.213787Z",
     "shell.execute_reply.started": "2021-07-07T20:45:35.181537Z"
    },
    "papermill": {
     "duration": 0.090229,
     "end_time": "2021-07-07T21:05:28.214000",
     "exception": false,
     "start_time": "2021-07-07T21:05:28.123771",
     "status": "completed"
    },
    "tags": []
   },
   "outputs": [
    {
     "data": {
      "text/html": [
       "<div>\n",
       "<style scoped>\n",
       "    .dataframe tbody tr th:only-of-type {\n",
       "        vertical-align: middle;\n",
       "    }\n",
       "\n",
       "    .dataframe tbody tr th {\n",
       "        vertical-align: top;\n",
       "    }\n",
       "\n",
       "    .dataframe thead th {\n",
       "        text-align: right;\n",
       "    }\n",
       "</style>\n",
       "<table border=\"1\" class=\"dataframe\">\n",
       "  <thead>\n",
       "    <tr style=\"text-align: right;\">\n",
       "      <th></th>\n",
       "      <th>course_id</th>\n",
       "      <th>price</th>\n",
       "      <th>num_subscribers</th>\n",
       "      <th>num_reviews</th>\n",
       "      <th>num_lectures</th>\n",
       "      <th>content_duration</th>\n",
       "    </tr>\n",
       "  </thead>\n",
       "  <tbody>\n",
       "    <tr>\n",
       "      <th>count</th>\n",
       "      <td>3.678000e+03</td>\n",
       "      <td>3678.000000</td>\n",
       "      <td>3678.000000</td>\n",
       "      <td>3678.000000</td>\n",
       "      <td>3678.000000</td>\n",
       "      <td>3678.000000</td>\n",
       "    </tr>\n",
       "    <tr>\n",
       "      <th>mean</th>\n",
       "      <td>6.759720e+05</td>\n",
       "      <td>66.049483</td>\n",
       "      <td>3197.150625</td>\n",
       "      <td>156.259108</td>\n",
       "      <td>40.108755</td>\n",
       "      <td>4.094517</td>\n",
       "    </tr>\n",
       "    <tr>\n",
       "      <th>std</th>\n",
       "      <td>3.432732e+05</td>\n",
       "      <td>61.005755</td>\n",
       "      <td>9504.117010</td>\n",
       "      <td>935.452044</td>\n",
       "      <td>50.383346</td>\n",
       "      <td>6.053840</td>\n",
       "    </tr>\n",
       "    <tr>\n",
       "      <th>min</th>\n",
       "      <td>8.324000e+03</td>\n",
       "      <td>0.000000</td>\n",
       "      <td>0.000000</td>\n",
       "      <td>0.000000</td>\n",
       "      <td>0.000000</td>\n",
       "      <td>0.000000</td>\n",
       "    </tr>\n",
       "    <tr>\n",
       "      <th>25%</th>\n",
       "      <td>4.076925e+05</td>\n",
       "      <td>20.000000</td>\n",
       "      <td>111.000000</td>\n",
       "      <td>4.000000</td>\n",
       "      <td>15.000000</td>\n",
       "      <td>1.000000</td>\n",
       "    </tr>\n",
       "    <tr>\n",
       "      <th>50%</th>\n",
       "      <td>6.879170e+05</td>\n",
       "      <td>45.000000</td>\n",
       "      <td>911.500000</td>\n",
       "      <td>18.000000</td>\n",
       "      <td>25.000000</td>\n",
       "      <td>2.000000</td>\n",
       "    </tr>\n",
       "    <tr>\n",
       "      <th>75%</th>\n",
       "      <td>9.613555e+05</td>\n",
       "      <td>95.000000</td>\n",
       "      <td>2546.000000</td>\n",
       "      <td>67.000000</td>\n",
       "      <td>45.750000</td>\n",
       "      <td>4.500000</td>\n",
       "    </tr>\n",
       "    <tr>\n",
       "      <th>max</th>\n",
       "      <td>1.282064e+06</td>\n",
       "      <td>200.000000</td>\n",
       "      <td>268923.000000</td>\n",
       "      <td>27445.000000</td>\n",
       "      <td>779.000000</td>\n",
       "      <td>78.500000</td>\n",
       "    </tr>\n",
       "  </tbody>\n",
       "</table>\n",
       "</div>"
      ],
      "text/plain": [
       "          course_id        price  num_subscribers   num_reviews  num_lectures  \\\n",
       "count  3.678000e+03  3678.000000      3678.000000   3678.000000   3678.000000   \n",
       "mean   6.759720e+05    66.049483      3197.150625    156.259108     40.108755   \n",
       "std    3.432732e+05    61.005755      9504.117010    935.452044     50.383346   \n",
       "min    8.324000e+03     0.000000         0.000000      0.000000      0.000000   \n",
       "25%    4.076925e+05    20.000000       111.000000      4.000000     15.000000   \n",
       "50%    6.879170e+05    45.000000       911.500000     18.000000     25.000000   \n",
       "75%    9.613555e+05    95.000000      2546.000000     67.000000     45.750000   \n",
       "max    1.282064e+06   200.000000    268923.000000  27445.000000    779.000000   \n",
       "\n",
       "       content_duration  \n",
       "count       3678.000000  \n",
       "mean           4.094517  \n",
       "std            6.053840  \n",
       "min            0.000000  \n",
       "25%            1.000000  \n",
       "50%            2.000000  \n",
       "75%            4.500000  \n",
       "max           78.500000  "
      ]
     },
     "execution_count": 6,
     "metadata": {},
     "output_type": "execute_result"
    }
   ],
   "source": [
    "df.describe()"
   ]
  },
  {
   "cell_type": "markdown",
   "id": "proud-disability",
   "metadata": {
    "papermill": {
     "duration": 0.053547,
     "end_time": "2021-07-07T21:05:28.322498",
     "exception": false,
     "start_time": "2021-07-07T21:05:28.268951",
     "status": "completed"
    },
    "tags": []
   },
   "source": [
    "Let's summarize what we have got from the dataset.\n",
    "\n",
    "- Our dataset has info about the courses given by UDEMY.\n",
    "- 'Course ID' and Course 'url' would not be necessary for our analysis, we will drop them.\n",
    "- Course published date is given object format, neeeds to be formatted as a datetime object.\n",
    "- There is no missing value, which is very good during the data preparation stage.\n",
    "- 'Level' column is categorical variable, it would be good to see whether any significant differences among the levels.\n",
    "-  Numerical variables deserves special attention for further analysis."
   ]
  },
  {
   "cell_type": "markdown",
   "id": "particular-cleanup",
   "metadata": {
    "papermill": {
     "duration": 0.052833,
     "end_time": "2021-07-07T21:05:28.428524",
     "exception": false,
     "start_time": "2021-07-07T21:05:28.375691",
     "status": "completed"
    },
    "tags": []
   },
   "source": [
    "- Let's make the necessary adjustments before moving to the analysis part."
   ]
  },
  {
   "cell_type": "code",
   "execution_count": 7,
   "id": "adjusted-australian",
   "metadata": {
    "_kg_hide-input": true,
    "execution": {
     "iopub.execute_input": "2021-07-07T21:05:28.538153Z",
     "iopub.status.busy": "2021-07-07T21:05:28.537486Z",
     "iopub.status.idle": "2021-07-07T21:05:28.546125Z",
     "shell.execute_reply": "2021-07-07T21:05:28.546821Z",
     "shell.execute_reply.started": "2021-07-07T20:45:35.213400Z"
    },
    "papermill": {
     "duration": 0.065264,
     "end_time": "2021-07-07T21:05:28.547040",
     "exception": false,
     "start_time": "2021-07-07T21:05:28.481776",
     "status": "completed"
    },
    "tags": []
   },
   "outputs": [],
   "source": [
    "df['date'] = pd.to_datetime(df['published_timestamp'])"
   ]
  },
  {
   "cell_type": "code",
   "execution_count": 8,
   "id": "light-surgeon",
   "metadata": {
    "_kg_hide-input": true,
    "execution": {
     "iopub.execute_input": "2021-07-07T21:05:28.657933Z",
     "iopub.status.busy": "2021-07-07T21:05:28.657288Z",
     "iopub.status.idle": "2021-07-07T21:05:28.678719Z",
     "shell.execute_reply": "2021-07-07T21:05:28.679335Z",
     "shell.execute_reply.started": "2021-07-07T20:45:35.224425Z"
    },
    "papermill": {
     "duration": 0.077796,
     "end_time": "2021-07-07T21:05:28.679541",
     "exception": false,
     "start_time": "2021-07-07T21:05:28.601745",
     "status": "completed"
    },
    "tags": []
   },
   "outputs": [
    {
     "data": {
      "text/html": [
       "<div>\n",
       "<style scoped>\n",
       "    .dataframe tbody tr th:only-of-type {\n",
       "        vertical-align: middle;\n",
       "    }\n",
       "\n",
       "    .dataframe tbody tr th {\n",
       "        vertical-align: top;\n",
       "    }\n",
       "\n",
       "    .dataframe thead th {\n",
       "        text-align: right;\n",
       "    }\n",
       "</style>\n",
       "<table border=\"1\" class=\"dataframe\">\n",
       "  <thead>\n",
       "    <tr style=\"text-align: right;\">\n",
       "      <th></th>\n",
       "      <th>course_title</th>\n",
       "      <th>is_paid</th>\n",
       "      <th>price</th>\n",
       "      <th>num_subscribers</th>\n",
       "      <th>num_reviews</th>\n",
       "      <th>num_lectures</th>\n",
       "      <th>level</th>\n",
       "      <th>content_duration</th>\n",
       "      <th>subject</th>\n",
       "      <th>date</th>\n",
       "    </tr>\n",
       "  </thead>\n",
       "  <tbody>\n",
       "    <tr>\n",
       "      <th>1951</th>\n",
       "      <td>Piano From Zero To Pro - Beginner Essentials T...</td>\n",
       "      <td>True</td>\n",
       "      <td>70</td>\n",
       "      <td>811</td>\n",
       "      <td>129</td>\n",
       "      <td>52</td>\n",
       "      <td>Beginner Level</td>\n",
       "      <td>3.5</td>\n",
       "      <td>Musical Instruments</td>\n",
       "      <td>2016-03-16 15:28:29+00:00</td>\n",
       "    </tr>\n",
       "    <tr>\n",
       "      <th>30</th>\n",
       "      <td>Python Algo Stock Trading: Automate Your Trading!</td>\n",
       "      <td>True</td>\n",
       "      <td>95</td>\n",
       "      <td>1165</td>\n",
       "      <td>21</td>\n",
       "      <td>41</td>\n",
       "      <td>Beginner Level</td>\n",
       "      <td>2.5</td>\n",
       "      <td>Business Finance</td>\n",
       "      <td>2017-05-28 23:41:03+00:00</td>\n",
       "    </tr>\n",
       "  </tbody>\n",
       "</table>\n",
       "</div>"
      ],
      "text/plain": [
       "                                           course_title  is_paid  price  \\\n",
       "1951  Piano From Zero To Pro - Beginner Essentials T...     True     70   \n",
       "30    Python Algo Stock Trading: Automate Your Trading!     True     95   \n",
       "\n",
       "      num_subscribers  num_reviews  num_lectures           level  \\\n",
       "1951              811          129            52  Beginner Level   \n",
       "30               1165           21            41  Beginner Level   \n",
       "\n",
       "      content_duration              subject                      date  \n",
       "1951               3.5  Musical Instruments 2016-03-16 15:28:29+00:00  \n",
       "30                 2.5     Business Finance 2017-05-28 23:41:03+00:00  "
      ]
     },
     "execution_count": 8,
     "metadata": {},
     "output_type": "execute_result"
    }
   ],
   "source": [
    "df = df.drop(['course_id','url','published_timestamp'], axis=1)\n",
    "df.sample(2)"
   ]
  },
  {
   "cell_type": "code",
   "execution_count": 9,
   "id": "progressive-adams",
   "metadata": {
    "_kg_hide-input": true,
    "execution": {
     "iopub.execute_input": "2021-07-07T21:05:28.817019Z",
     "iopub.status.busy": "2021-07-07T21:05:28.816345Z",
     "iopub.status.idle": "2021-07-07T21:05:28.831907Z",
     "shell.execute_reply": "2021-07-07T21:05:28.832674Z",
     "shell.execute_reply.started": "2021-07-07T20:45:35.256194Z"
    },
    "papermill": {
     "duration": 0.085736,
     "end_time": "2021-07-07T21:05:28.832920",
     "exception": false,
     "start_time": "2021-07-07T21:05:28.747184",
     "status": "completed"
    },
    "tags": []
   },
   "outputs": [
    {
     "name": "stdout",
     "output_type": "stream",
     "text": [
      "<class 'pandas.core.frame.DataFrame'>\n",
      "RangeIndex: 3678 entries, 0 to 3677\n",
      "Data columns (total 10 columns):\n",
      " #   Column            Non-Null Count  Dtype              \n",
      "---  ------            --------------  -----              \n",
      " 0   course_title      3678 non-null   object             \n",
      " 1   is_paid           3678 non-null   bool               \n",
      " 2   price             3678 non-null   int64              \n",
      " 3   num_subscribers   3678 non-null   int64              \n",
      " 4   num_reviews       3678 non-null   int64              \n",
      " 5   num_lectures      3678 non-null   int64              \n",
      " 6   level             3678 non-null   object             \n",
      " 7   content_duration  3678 non-null   float64            \n",
      " 8   subject           3678 non-null   object             \n",
      " 9   date              3678 non-null   datetime64[ns, UTC]\n",
      "dtypes: bool(1), datetime64[ns, UTC](1), float64(1), int64(4), object(3)\n",
      "memory usage: 262.3+ KB\n"
     ]
    }
   ],
   "source": [
    "df.info()"
   ]
  },
  {
   "cell_type": "markdown",
   "id": "informed-boards",
   "metadata": {
    "papermill": {
     "duration": 0.054119,
     "end_time": "2021-07-07T21:05:28.943353",
     "exception": false,
     "start_time": "2021-07-07T21:05:28.889234",
     "status": "completed"
    },
    "tags": []
   },
   "source": [
    "- Seems OK.  Let's move on to the next step: **analysis part**."
   ]
  },
  {
   "cell_type": "markdown",
   "id": "eleven-reservoir",
   "metadata": {
    "papermill": {
     "duration": 0.055183,
     "end_time": "2021-07-07T21:05:29.075142",
     "exception": false,
     "start_time": "2021-07-07T21:05:29.019959",
     "status": "completed"
    },
    "tags": []
   },
   "source": [
    "### Analysis Part"
   ]
  },
  {
   "cell_type": "code",
   "execution_count": 10,
   "id": "developing-diagram",
   "metadata": {
    "_kg_hide-input": true,
    "execution": {
     "iopub.execute_input": "2021-07-07T21:05:29.202943Z",
     "iopub.status.busy": "2021-07-07T21:05:29.201952Z",
     "iopub.status.idle": "2021-07-07T21:05:29.234130Z",
     "shell.execute_reply": "2021-07-07T21:05:29.234814Z",
     "shell.execute_reply.started": "2021-07-07T20:45:35.277622Z"
    },
    "papermill": {
     "duration": 0.090828,
     "end_time": "2021-07-07T21:05:29.235091",
     "exception": false,
     "start_time": "2021-07-07T21:05:29.144263",
     "status": "completed"
    },
    "tags": []
   },
   "outputs": [
    {
     "data": {
      "text/html": [
       "<div>\n",
       "<style scoped>\n",
       "    .dataframe tbody tr th:only-of-type {\n",
       "        vertical-align: middle;\n",
       "    }\n",
       "\n",
       "    .dataframe tbody tr th {\n",
       "        vertical-align: top;\n",
       "    }\n",
       "\n",
       "    .dataframe thead th {\n",
       "        text-align: right;\n",
       "    }\n",
       "</style>\n",
       "<table border=\"1\" class=\"dataframe\">\n",
       "  <thead>\n",
       "    <tr style=\"text-align: right;\">\n",
       "      <th></th>\n",
       "      <th>price</th>\n",
       "      <th>num_subscribers</th>\n",
       "      <th>num_reviews</th>\n",
       "      <th>num_lectures</th>\n",
       "      <th>content_duration</th>\n",
       "    </tr>\n",
       "  </thead>\n",
       "  <tbody>\n",
       "    <tr>\n",
       "      <th>count</th>\n",
       "      <td>3678.000000</td>\n",
       "      <td>3678.000000</td>\n",
       "      <td>3678.000000</td>\n",
       "      <td>3678.000000</td>\n",
       "      <td>3678.000000</td>\n",
       "    </tr>\n",
       "    <tr>\n",
       "      <th>mean</th>\n",
       "      <td>66.049483</td>\n",
       "      <td>3197.150625</td>\n",
       "      <td>156.259108</td>\n",
       "      <td>40.108755</td>\n",
       "      <td>4.094517</td>\n",
       "    </tr>\n",
       "    <tr>\n",
       "      <th>std</th>\n",
       "      <td>61.005755</td>\n",
       "      <td>9504.117010</td>\n",
       "      <td>935.452044</td>\n",
       "      <td>50.383346</td>\n",
       "      <td>6.053840</td>\n",
       "    </tr>\n",
       "    <tr>\n",
       "      <th>min</th>\n",
       "      <td>0.000000</td>\n",
       "      <td>0.000000</td>\n",
       "      <td>0.000000</td>\n",
       "      <td>0.000000</td>\n",
       "      <td>0.000000</td>\n",
       "    </tr>\n",
       "    <tr>\n",
       "      <th>25%</th>\n",
       "      <td>20.000000</td>\n",
       "      <td>111.000000</td>\n",
       "      <td>4.000000</td>\n",
       "      <td>15.000000</td>\n",
       "      <td>1.000000</td>\n",
       "    </tr>\n",
       "    <tr>\n",
       "      <th>50%</th>\n",
       "      <td>45.000000</td>\n",
       "      <td>911.500000</td>\n",
       "      <td>18.000000</td>\n",
       "      <td>25.000000</td>\n",
       "      <td>2.000000</td>\n",
       "    </tr>\n",
       "    <tr>\n",
       "      <th>75%</th>\n",
       "      <td>95.000000</td>\n",
       "      <td>2546.000000</td>\n",
       "      <td>67.000000</td>\n",
       "      <td>45.750000</td>\n",
       "      <td>4.500000</td>\n",
       "    </tr>\n",
       "    <tr>\n",
       "      <th>max</th>\n",
       "      <td>200.000000</td>\n",
       "      <td>268923.000000</td>\n",
       "      <td>27445.000000</td>\n",
       "      <td>779.000000</td>\n",
       "      <td>78.500000</td>\n",
       "    </tr>\n",
       "  </tbody>\n",
       "</table>\n",
       "</div>"
      ],
      "text/plain": [
       "             price  num_subscribers   num_reviews  num_lectures  \\\n",
       "count  3678.000000      3678.000000   3678.000000   3678.000000   \n",
       "mean     66.049483      3197.150625    156.259108     40.108755   \n",
       "std      61.005755      9504.117010    935.452044     50.383346   \n",
       "min       0.000000         0.000000      0.000000      0.000000   \n",
       "25%      20.000000       111.000000      4.000000     15.000000   \n",
       "50%      45.000000       911.500000     18.000000     25.000000   \n",
       "75%      95.000000      2546.000000     67.000000     45.750000   \n",
       "max     200.000000    268923.000000  27445.000000    779.000000   \n",
       "\n",
       "       content_duration  \n",
       "count       3678.000000  \n",
       "mean           4.094517  \n",
       "std            6.053840  \n",
       "min            0.000000  \n",
       "25%            1.000000  \n",
       "50%            2.000000  \n",
       "75%            4.500000  \n",
       "max           78.500000  "
      ]
     },
     "execution_count": 10,
     "metadata": {},
     "output_type": "execute_result"
    }
   ],
   "source": [
    "df.describe()"
   ]
  },
  {
   "cell_type": "markdown",
   "id": "consistent-logic",
   "metadata": {
    "papermill": {
     "duration": 0.0572,
     "end_time": "2021-07-07T21:05:29.356818",
     "exception": false,
     "start_time": "2021-07-07T21:05:29.299618",
     "status": "completed"
    },
    "tags": []
   },
   "source": [
    "Let's look at the some of the information, which we can get from the above table:\n",
    "\n",
    "- At first look, we can see that, dataset has numbers, minimum 0 and maximum in hundreds or thousands for the variables. \n",
    "- Also mean and median values significantly differs from each other. All of the variables have signicifantly higher mean value than median value, which is a good sign of hihgly screwed distribution, more specifially right skewed distribution with the possible outliers on the maximum side of the distribution. So for further analysis it would be good to remember that.\n",
    "\n",
    "- Aferomentioned reasons, in the following lines, median value will be used for the give some insights from the above table.\n",
    "\n",
    "- Median value for the price as 45.\n",
    "\n",
    "- Median value for the number of subscribers for the courses around 912 \n",
    "\n",
    "- Median value for the number of reviews 18\n",
    "- Median value for the  number of lectures 25\n",
    "- Median value for the content duration is 2\n"
   ]
  },
  {
   "cell_type": "markdown",
   "id": "violent-sweet",
   "metadata": {
    "papermill": {
     "duration": 0.055308,
     "end_time": "2021-07-07T21:05:29.468934",
     "exception": false,
     "start_time": "2021-07-07T21:05:29.413626",
     "status": "completed"
    },
    "tags": []
   },
   "source": [
    "- OK let's see this analysis in the plotly"
   ]
  },
  {
   "cell_type": "markdown",
   "id": "legendary-arthur",
   "metadata": {
    "papermill": {
     "duration": 0.054327,
     "end_time": "2021-07-07T21:05:29.578118",
     "exception": false,
     "start_time": "2021-07-07T21:05:29.523791",
     "status": "completed"
    },
    "tags": []
   },
   "source": [
    "#### **Prices of UDEMY Courses**"
   ]
  },
  {
   "cell_type": "code",
   "execution_count": 11,
   "id": "starting-wages",
   "metadata": {
    "_kg_hide-input": true,
    "execution": {
     "iopub.execute_input": "2021-07-07T21:05:29.693581Z",
     "iopub.status.busy": "2021-07-07T21:05:29.692671Z",
     "iopub.status.idle": "2021-07-07T21:05:30.752110Z",
     "shell.execute_reply": "2021-07-07T21:05:30.751574Z",
     "shell.execute_reply.started": "2021-07-07T20:45:35.316892Z"
    },
    "papermill": {
     "duration": 1.119067,
     "end_time": "2021-07-07T21:05:30.752261",
     "exception": false,
     "start_time": "2021-07-07T21:05:29.633194",
     "status": "completed"
    },
    "tags": []
   },
   "outputs": [
    {
     "data": {
      "text/html": [
       "        <script type=\"text/javascript\">\n",
       "        window.PlotlyConfig = {MathJaxConfig: 'local'};\n",
       "        if (window.MathJax) {MathJax.Hub.Config({SVG: {font: \"STIX-Web\"}});}\n",
       "        if (typeof require !== 'undefined') {\n",
       "        require.undef(\"plotly\");\n",
       "        requirejs.config({\n",
       "            paths: {\n",
       "                'plotly': ['https://cdn.plot.ly/plotly-latest.min']\n",
       "            }\n",
       "        });\n",
       "        require(['plotly'], function(Plotly) {\n",
       "            window._Plotly = Plotly;\n",
       "        });\n",
       "        }\n",
       "        </script>\n",
       "        "
      ]
     },
     "metadata": {},
     "output_type": "display_data"
    },
    {
     "data": {
      "text/html": [
       "<div>                            <div id=\"246ab8d0-5657-4885-bd79-b25ae4a1ba08\" class=\"plotly-graph-div\" style=\"height:525px; width:100%;\"></div>            <script type=\"text/javascript\">                require([\"plotly\"], function(Plotly) {                    window.PLOTLYENV=window.PLOTLYENV || {};                                    if (document.getElementById(\"246ab8d0-5657-4885-bd79-b25ae4a1ba08\")) {                    Plotly.newPlot(                        \"246ab8d0-5657-4885-bd79-b25ae4a1ba08\",                        [{\"alignmentgroup\": \"True\", \"bingroup\": \"x\", \"hovertemplate\": \"price=%{x}<br>count=%{y}<extra></extra>\", \"legendgroup\": \"\", \"marker\": {\"color\": \"#636efa\"}, \"name\": \"\", \"offsetgroup\": \"\", \"orientation\": \"v\", \"showlegend\": false, \"type\": \"histogram\", \"x\": [200, 75, 45, 95, 200, 150, 65, 95, 195, 200, 200, 200, 30, 195, 200, 75, 20, 200, 50, 95, 200, 200, 75, 50, 45, 150, 200, 175, 150, 140, 95, 200, 45, 200, 200, 195, 195, 200, 195, 195, 195, 195, 195, 115, 200, 150, 95, 200, 190, 150, 200, 95, 125, 30, 200, 60, 200, 145, 20, 200, 105, 60, 155, 200, 185, 150, 180, 125, 200, 185, 125, 95, 200, 20, 60, 200, 200, 120, 150, 25, 200, 160, 20, 95, 50, 200, 20, 200, 195, 200, 20, 20, 95, 150, 40, 0, 20, 100, 75, 20, 40, 20, 25, 0, 50, 200, 0, 195, 0, 20, 150, 95, 0, 20, 150, 20, 25, 150, 50, 0, 50, 180, 50, 100, 25, 200, 20, 90, 0, 20, 35, 50, 100, 50, 20, 200, 200, 60, 150, 20, 105, 20, 150, 0, 100, 60, 200, 200, 20, 30, 95, 95, 60, 20, 20, 200, 125, 200, 200, 35, 200, 200, 120, 195, 125, 200, 25, 200, 20, 195, 20, 50, 200, 120, 200, 200, 45, 50, 80, 0, 200, 20, 50, 200, 120, 145, 195, 200, 45, 20, 200, 75, 20, 0, 20, 20, 150, 20, 200, 45, 60, 20, 20, 50, 50, 50, 0, 50, 60, 0, 60, 40, 45, 0, 200, 95, 20, 50, 200, 95, 40, 20, 20, 200, 20, 20, 60, 75, 20, 20, 20, 200, 20, 20, 20, 30, 95, 50, 65, 95, 50, 95, 50, 105, 120, 40, 35, 20, 0, 0, 50, 20, 200, 0, 125, 35, 20, 75, 50, 30, 50, 100, 150, 20, 200, 95, 200, 95, 30, 25, 125, 35, 30, 50, 200, 35, 25, 50, 20, 20, 20, 20, 125, 0, 20, 20, 60, 60, 0, 50, 0, 0, 60, 60, 115, 25, 120, 0, 150, 0, 50, 0, 35, 20, 200, 20, 20, 80, 70, 50, 20, 75, 90, 40, 30, 200, 20, 75, 25, 20, 20, 50, 20, 20, 25, 20, 50, 200, 200, 60, 180, 50, 200, 30, 50, 40, 50, 20, 150, 95, 0, 20, 200, 20, 60, 195, 0, 0, 0, 45, 100, 20, 20, 200, 0, 0, 180, 75, 25, 50, 0, 95, 40, 100, 145, 30, 50, 20, 20, 20, 95, 90, 20, 75, 0, 50, 20, 145, 100, 60, 45, 200, 200, 150, 200, 25, 20, 25, 125, 50, 20, 20, 200, 150, 200, 20, 160, 200, 30, 20, 40, 50, 200, 200, 100, 50, 20, 50, 200, 50, 30, 20, 20, 25, 45, 200, 50, 40, 25, 20, 60, 20, 20, 20, 20, 0, 20, 40, 30, 30, 35, 20, 0, 0, 30, 200, 50, 190, 95, 35, 30, 195, 60, 195, 200, 0, 20, 20, 20, 50, 50, 80, 25, 20, 20, 20, 50, 50, 50, 20, 50, 95, 100, 40, 40, 50, 55, 0, 20, 95, 200, 55, 50, 25, 20, 20, 50, 95, 40, 55, 50, 50, 20, 20, 0, 125, 50, 50, 120, 200, 20, 0, 0, 95, 0, 20, 165, 200, 25, 195, 200, 20, 0, 20, 40, 95, 195, 95, 20, 35, 195, 200, 105, 20, 30, 20, 20, 20, 30, 20, 20, 40, 105, 20, 100, 20, 200, 95, 180, 100, 150, 50, 200, 60, 20, 25, 95, 20, 200, 50, 50, 20, 20, 50, 0, 50, 75, 50, 50, 75, 20, 195, 50, 55, 20, 50, 100, 40, 40, 30, 50, 190, 195, 50, 40, 100, 20, 20, 200, 60, 0, 95, 0, 20, 50, 25, 95, 50, 50, 50, 20, 20, 20, 55, 20, 20, 20, 200, 20, 0, 50, 40, 20, 20, 20, 200, 100, 20, 25, 80, 20, 95, 70, 20, 25, 40, 20, 20, 45, 20, 20, 25, 20, 20, 50, 20, 200, 20, 20, 150, 20, 195, 20, 0, 200, 0, 50, 95, 50, 0, 200, 60, 50, 30, 200, 20, 25, 20, 200, 145, 30, 45, 40, 20, 20, 145, 30, 50, 200, 95, 45, 45, 95, 95, 200, 180, 50, 100, 40, 50, 20, 50, 50, 20, 20, 0, 40, 30, 60, 200, 0, 130, 35, 95, 20, 90, 50, 35, 20, 145, 40, 150, 20, 20, 20, 20, 20, 35, 180, 50, 40, 0, 20, 125, 20, 0, 50, 75, 95, 50, 95, 80, 195, 25, 200, 50, 20, 95, 40, 50, 20, 50, 25, 25, 30, 200, 50, 20, 20, 40, 0, 50, 30, 50, 50, 0, 50, 0, 30, 35, 25, 20, 60, 50, 20, 20, 40, 20, 45, 100, 50, 90, 0, 100, 20, 20, 50, 0, 40, 20, 200, 40, 30, 195, 95, 0, 0, 20, 50, 20, 20, 50, 50, 200, 0, 50, 40, 20, 20, 0, 20, 20, 95, 40, 50, 85, 0, 20, 25, 50, 50, 20, 35, 20, 100, 50, 75, 20, 20, 60, 200, 145, 60, 20, 50, 200, 200, 60, 20, 20, 140, 120, 200, 50, 170, 50, 200, 150, 150, 60, 20, 50, 20, 200, 20, 20, 100, 45, 50, 0, 50, 50, 0, 50, 25, 150, 0, 0, 25, 50, 0, 0, 50, 0, 20, 0, 25, 20, 50, 25, 0, 125, 200, 120, 20, 50, 195, 20, 60, 20, 50, 20, 50, 95, 150, 20, 20, 50, 20, 50, 50, 40, 30, 50, 0, 35, 0, 20, 20, 30, 150, 75, 50, 100, 20, 0, 90, 20, 0, 25, 20, 50, 60, 20, 90, 20, 20, 50, 200, 100, 160, 20, 20, 25, 25, 50, 60, 60, 150, 20, 20, 25, 200, 30, 50, 20, 200, 0, 20, 20, 0, 20, 75, 30, 20, 20, 20, 145, 200, 30, 20, 30, 25, 45, 35, 20, 20, 20, 20, 20, 95, 20, 35, 30, 35, 50, 60, 30, 20, 20, 20, 20, 50, 0, 25, 20, 180, 95, 20, 20, 20, 200, 0, 30, 20, 50, 50, 50, 20, 50, 20, 95, 100, 20, 20, 20, 0, 45, 200, 40, 30, 50, 20, 20, 40, 20, 50, 50, 0, 20, 50, 50, 20, 35, 20, 95, 20, 35, 40, 110, 20, 20, 95, 135, 50, 30, 70, 200, 20, 40, 195, 50, 50, 115, 20, 20, 50, 0, 25, 50, 150, 20, 20, 20, 200, 35, 40, 50, 20, 20, 45, 25, 20, 50, 50, 35, 30, 170, 20, 20, 30, 30, 20, 35, 195, 150, 0, 20, 0, 85, 75, 45, 25, 20, 80, 200, 150, 20, 85, 20, 45, 25, 30, 200, 115, 30, 45, 130, 140, 30, 20, 140, 20, 85, 20, 20, 25, 40, 20, 100, 175, 40, 20, 25, 20, 195, 200, 20, 50, 50, 35, 25, 20, 30, 30, 55, 200, 20, 30, 125, 25, 35, 0, 20, 20, 85, 25, 0, 70, 100, 40, 50, 75, 0, 0, 0, 0, 0, 0, 25, 20, 195, 45, 65, 20, 95, 30, 0, 40, 50, 40, 200, 195, 200, 50, 20, 25, 195, 200, 200, 0, 100, 20, 200, 115, 200, 200, 50, 150, 20, 50, 20, 50, 35, 40, 20, 20, 35, 180, 50, 40, 50, 95, 40, 40, 50, 20, 200, 20, 20, 25, 20, 200, 20, 50, 65, 50, 50, 195, 20, 0, 20, 30, 50, 20, 20, 40, 100, 85, 90, 25, 55, 40, 0, 35, 20, 25, 180, 20, 50, 20, 20, 25, 50, 20, 150, 95, 150, 20, 200, 200, 180, 65, 25, 20, 200, 195, 0, 0, 0, 200, 150, 200, 200, 95, 75, 30, 200, 150, 95, 200, 150, 195, 20, 30, 20, 50, 20, 25, 20, 50, 150, 30, 25, 20, 30, 25, 20, 20, 20, 20, 20, 0, 0, 0, 0, 185, 20, 100, 50, 30, 200, 25, 20, 20, 20, 200, 200, 20, 150, 150, 200, 45, 45, 30, 80, 0, 60, 0, 0, 190, 20, 95, 200, 75, 45, 120, 20, 95, 25, 0, 30, 40, 0, 0, 50, 0, 20, 100, 40, 0, 105, 30, 25, 40, 95, 95, 95, 0, 40, 20, 20, 20, 70, 50, 30, 20, 200, 65, 200, 20, 40, 0, 75, 50, 0, 50, 20, 30, 70, 20, 20, 20, 80, 200, 125, 50, 20, 20, 20, 50, 45, 20, 40, 20, 20, 45, 0, 100, 20, 60, 25, 150, 70, 30, 20, 30, 100, 135, 80, 60, 30, 30, 20, 0, 200, 20, 80, 195, 0, 20, 200, 20, 50, 25, 35, 95, 0, 30, 0, 0, 200, 145, 95, 40, 20, 100, 165, 30, 30, 100, 100, 0, 25, 120, 135, 35, 20, 20, 70, 0, 145, 25, 195, 0, 0, 20, 50, 30, 30, 30, 135, 75, 140, 20, 20, 95, 20, 0, 0, 25, 95, 50, 70, 20, 90, 45, 100, 50, 95, 30, 85, 20, 75, 195, 20, 45, 20, 20, 55, 20, 115, 20, 20, 20, 50, 150, 25, 45, 20, 35, 20, 185, 20, 20, 30, 20, 20, 95, 20, 25, 200, 100, 30, 55, 20, 200, 95, 0, 95, 20, 0, 25, 20, 20, 20, 40, 20, 20, 20, 20, 40, 20, 20, 35, 20, 20, 20, 20, 20, 65, 195, 30, 65, 200, 50, 90, 195, 95, 100, 50, 20, 155, 20, 45, 90, 45, 20, 75, 40, 20, 40, 40, 30, 30, 150, 20, 100, 20, 150, 20, 20, 20, 50, 20, 20, 50, 20, 85, 20, 30, 20, 40, 200, 200, 200, 200, 180, 195, 20, 25, 20, 50, 20, 25, 20, 20, 20, 20, 20, 100, 20, 95, 35, 200, 25, 25, 50, 55, 30, 20, 20, 70, 20, 20, 40, 20, 20, 20, 30, 80, 50, 25, 20, 45, 30, 20, 30, 20, 20, 25, 180, 20, 75, 95, 195, 175, 100, 35, 125, 90, 195, 20, 135, 20, 100, 20, 20, 20, 30, 60, 20, 20, 20, 40, 50, 20, 25, 200, 25, 35, 20, 30, 20, 50, 20, 20, 50, 30, 50, 20, 20, 20, 50, 100, 50, 45, 20, 25, 20, 20, 20, 20, 35, 150, 20, 40, 20, 100, 20, 125, 20, 100, 35, 50, 150, 50, 20, 35, 195, 55, 20, 50, 30, 30, 25, 35, 95, 40, 40, 20, 50, 20, 30, 200, 195, 200, 100, 50, 200, 20, 20, 35, 165, 20, 100, 20, 20, 50, 105, 200, 35, 100, 120, 20, 0, 95, 65, 20, 30, 20, 20, 50, 20, 45, 20, 35, 20, 40, 20, 30, 25, 55, 100, 25, 20, 50, 20, 20, 20, 50, 40, 95, 80, 20, 200, 100, 150, 195, 105, 25, 195, 20, 50, 20, 30, 20, 95, 20, 40, 50, 50, 20, 35, 50, 20, 30, 85, 25, 20, 35, 0, 30, 20, 35, 20, 20, 120, 20, 20, 25, 65, 20, 20, 45, 100, 20, 20, 40, 40, 20, 20, 20, 20, 25, 50, 25, 20, 200, 35, 20, 20, 85, 40, 25, 195, 35, 0, 20, 195, 200, 75, 40, 20, 20, 20, 195, 25, 25, 20, 35, 20, 20, 30, 20, 25, 20, 20, 20, 40, 20, 20, 30, 20, 20, 20, 20, 20, 0, 20, 150, 30, 0, 0, 50, 80, 50, 25, 40, 20, 70, 30, 0, 20, 40, 0, 35, 20, 30, 45, 40, 95, 50, 20, 55, 50, 20, 20, 40, 35, 45, 20, 50, 30, 20, 100, 50, 50, 95, 50, 50, 50, 95, 80, 100, 20, 0, 50, 120, 80, 40, 50, 50, 100, 50, 100, 75, 50, 20, 55, 40, 40, 75, 0, 40, 45, 40, 30, 50, 60, 40, 70, 0, 40, 200, 115, 50, 55, 50, 45, 35, 50, 20, 0, 40, 40, 40, 100, 20, 65, 60, 40, 40, 0, 50, 20, 0, 40, 0, 40, 70, 0, 120, 30, 175, 75, 20, 35, 50, 120, 70, 50, 0, 200, 85, 150, 20, 35, 0, 50, 20, 45, 95, 0, 50, 20, 200, 50, 50, 0, 0, 40, 70, 200, 85, 0, 25, 20, 20, 40, 40, 95, 45, 100, 50, 50, 20, 35, 0, 50, 0, 70, 120, 50, 45, 50, 30, 30, 40, 0, 60, 50, 50, 150, 65, 50, 25, 0, 0, 40, 20, 20, 50, 200, 25, 55, 0, 50, 0, 200, 200, 50, 145, 50, 200, 50, 200, 50, 200, 200, 150, 45, 45, 200, 75, 50, 35, 200, 50, 50, 100, 50, 50, 60, 0, 40, 60, 55, 45, 40, 50, 70, 95, 0, 40, 95, 95, 45, 145, 50, 20, 75, 200, 200, 50, 20, 50, 50, 25, 50, 40, 75, 30, 95, 75, 25, 100, 60, 115, 95, 50, 100, 55, 20, 45, 200, 75, 50, 65, 65, 30, 20, 20, 0, 25, 20, 40, 50, 35, 30, 50, 20, 0, 20, 20, 85, 30, 125, 70, 75, 50, 0, 150, 45, 20, 45, 45, 40, 40, 75, 25, 40, 20, 0, 20, 20, 0, 60, 30, 40, 75, 30, 95, 20, 50, 50, 50, 25, 35, 20, 60, 195, 50, 50, 40, 65, 20, 50, 30, 95, 35, 50, 30, 20, 50, 95, 35, 75, 50, 25, 100, 55, 25, 20, 30, 0, 20, 20, 25, 20, 50, 50, 50, 35, 50, 50, 20, 20, 50, 20, 70, 50, 20, 50, 35, 20, 20, 50, 195, 95, 20, 40, 65, 45, 50, 20, 40, 20, 75, 20, 20, 20, 50, 100, 80, 40, 50, 20, 30, 40, 20, 50, 50, 50, 25, 50, 20, 0, 35, 90, 20, 0, 20, 25, 0, 40, 75, 35, 85, 55, 40, 45, 20, 25, 70, 50, 30, 50, 20, 50, 50, 50, 20, 100, 100, 50, 85, 200, 50, 20, 50, 50, 55, 35, 65, 195, 50, 95, 20, 40, 35, 0, 20, 40, 40, 20, 20, 40, 35, 35, 50, 20, 40, 50, 100, 95, 50, 20, 20, 20, 40, 25, 25, 50, 50, 40, 50, 35, 50, 25, 30, 50, 50, 50, 30, 20, 50, 50, 50, 40, 20, 20, 100, 40, 20, 25, 20, 25, 20, 20, 50, 95, 50, 20, 105, 50, 20, 40, 20, 50, 50, 20, 35, 20, 30, 60, 20, 50, 25, 50, 20, 35, 50, 115, 35, 50, 50, 20, 50, 20, 20, 20, 80, 45, 50, 25, 50, 60, 40, 35, 195, 40, 45, 50, 40, 20, 40, 50, 45, 50, 175, 45, 50, 40, 55, 20, 40, 40, 20, 20, 35, 40, 50, 20, 20, 35, 20, 40, 30, 50, 20, 35, 40, 20, 40, 180, 35, 80, 40, 40, 0, 50, 35, 20, 20, 50, 20, 20, 20, 75, 50, 95, 20, 60, 20, 20, 60, 40, 20, 25, 50, 40, 50, 40, 30, 95, 40, 35, 30, 20, 50, 30, 50, 20, 40, 20, 40, 30, 95, 20, 20, 20, 20, 20, 135, 135, 25, 25, 130, 20, 125, 20, 20, 20, 35, 20, 40, 20, 40, 85, 0, 20, 35, 25, 50, 45, 40, 20, 20, 0, 0, 0, 0, 20, 170, 85, 100, 50, 60, 50, 40, 20, 95, 20, 0, 200, 25, 30, 20, 20, 95, 40, 40, 20, 40, 50, 195, 30, 35, 40, 20, 25, 25, 20, 0, 45, 20, 40, 40, 50, 30, 180, 20, 200, 20, 50, 20, 50, 50, 50, 50, 55, 50, 20, 50, 20, 50, 20, 75, 50, 50, 60, 20, 40, 50, 150, 200, 40, 195, 25, 200, 20, 95, 40, 20, 20, 40, 50, 100, 40, 200, 200, 190, 120, 110, 165, 60, 65, 200, 150, 85, 60, 200, 195, 195, 100, 20, 195, 60, 95, 150, 100, 20, 20, 120, 20, 175, 60, 70, 20, 50, 100, 100, 100, 75, 80, 75, 195, 150, 125, 145, 50, 100, 20, 115, 75, 20, 50, 200, 135, 95, 200, 150, 195, 200, 80, 150, 120, 195, 65, 20, 75, 20, 200, 25, 200, 50, 200, 80, 150, 195, 100, 60, 50, 0, 0, 0, 0, 100, 0, 20, 30, 20, 40, 50, 75, 20, 65, 20, 0, 200, 195, 0, 20, 50, 20, 40, 40, 0, 20, 50, 50, 120, 195, 95, 50, 0, 50, 50, 0, 200, 200, 150, 200, 100, 50, 60, 95, 30, 30, 150, 200, 20, 50, 200, 195, 195, 195, 95, 55, 195, 200, 100, 20, 35, 60, 200, 20, 195, 195, 195, 195, 40, 195, 175, 40, 95, 115, 50, 0, 0, 200, 20, 200, 0, 20, 195, 0, 85, 200, 20, 150, 195, 95, 150, 95, 95, 50, 75, 195, 20, 95, 50, 30, 195, 20, 100, 200, 100, 35, 20, 150, 25, 75, 40, 20, 95, 140, 50, 0, 70, 100, 30, 25, 150, 115, 190, 85, 200, 195, 100, 120, 50, 200, 100, 200, 200, 200, 195, 195, 50, 40, 200, 30, 50, 150, 100, 100, 0, 0, 50, 60, 0, 30, 45, 0, 25, 0, 0, 20, 200, 100, 50, 40, 20, 50, 20, 30, 200, 200, 40, 35, 20, 30, 45, 25, 20, 200, 200, 100, 50, 200, 195, 195, 30, 200, 200, 20, 200, 35, 100, 75, 20, 30, 60, 20, 40, 40, 100, 100, 20, 20, 45, 195, 180, 200, 50, 200, 20, 0, 25, 50, 0, 0, 20, 20, 120, 20, 20, 20, 25, 35, 150, 200, 20, 50, 20, 95, 20, 100, 20, 50, 100, 100, 60, 165, 195, 195, 65, 100, 50, 50, 35, 195, 195, 35, 200, 40, 145, 20, 50, 70, 50, 100, 200, 75, 20, 0, 25, 0, 0, 60, 20, 115, 0, 125, 0, 195, 50, 95, 80, 20, 75, 100, 195, 20, 50, 30, 200, 70, 95, 0, 40, 25, 200, 35, 0, 20, 50, 100, 40, 20, 20, 50, 0, 60, 65, 25, 125, 35, 40, 95, 95, 35, 20, 45, 65, 20, 25, 50, 50, 20, 20, 115, 50, 40, 20, 20, 30, 95, 20, 30, 50, 20, 195, 20, 20, 95, 120, 50, 100, 200, 195, 150, 75, 200, 200, 115, 20, 125, 150, 40, 20, 65, 40, 75, 170, 20, 125, 45, 200, 195, 0, 200, 0, 20, 20, 50, 0, 100, 35, 35, 195, 20, 50, 95, 40, 25, 20, 75, 20, 50, 200, 200, 80, 125, 20, 20, 60, 30, 20, 20, 55, 200, 195, 75, 35, 50, 20, 0, 60, 120, 25, 75, 40, 0, 45, 0, 20, 0, 30, 100, 175, 95, 40, 20, 20, 50, 185, 20, 50, 45, 200, 200, 100, 20, 0, 100, 40, 40, 20, 50, 65, 35, 95, 25, 95, 20, 20, 75, 110, 30, 145, 95, 200, 50, 50, 100, 20, 25, 50, 195, 50, 20, 20, 100, 200, 70, 20, 20, 200, 200, 145, 100, 20, 195, 200, 150, 100, 140, 40, 20, 0, 150, 200, 50, 20, 40, 20, 95, 50, 0, 0, 95, 45, 40, 50, 200, 40, 100, 200, 50, 35, 200, 45, 100, 75, 95, 75, 195, 95, 75, 20, 40, 95, 20, 80, 20, 100, 150, 120, 200, 75, 195, 170, 150, 20, 75, 20, 90, 50, 110, 50, 75, 50, 145, 100, 20, 20, 20, 85, 50, 115, 200, 45, 55, 30, 55, 20, 20, 50, 25, 145, 40, 0, 20, 0, 0, 20, 100, 0, 0, 20, 75, 140, 40, 95, 200, 95, 150, 100, 105, 20, 200, 95, 150, 95, 20, 50, 200, 20, 75, 20, 75, 40, 20, 20, 35, 110, 100, 195, 200, 150, 195, 70, 75, 150, 60, 50, 195, 20, 100, 20, 25, 80, 100, 200, 90, 175, 50, 120, 95, 195, 25, 50, 30, 40, 35, 40, 20, 50, 35, 0, 0, 20, 195, 60, 195, 195, 40, 200, 90, 75, 195, 195, 30, 195, 30, 50, 100, 40, 30, 120, 50, 50, 20, 85, 50, 110, 145, 200, 50, 190, 110, 190, 145, 200, 100, 195, 30, 55, 50, 35, 95, 50, 45, 30, 45, 150, 0, 50, 40, 150, 50, 190, 160, 195, 150, 150, 140, 200, 75, 200, 200, 0, 0, 195, 125, 0, 100, 145, 145, 0, 0, 35, 200, 175, 175, 75, 195, 80, 195, 110, 140, 180, 120, 190, 150, 0, 0, 20, 195, 20, 30, 35, 175, 95, 50, 50, 40, 0, 20, 30, 120, 0, 85, 20, 200, 60, 40, 35, 145, 200, 200, 120, 20, 0, 35, 20, 0, 0, 0, 75, 0, 100, 0, 60, 0, 30, 35, 60, 45, 65, 55, 0, 0, 20, 0, 55, 30, 0, 30, 20, 0, 0, 0, 50, 0, 200, 0, 0, 0, 0, 95, 0, 0, 195, 95, 0, 125, 0, 0, 175, 85, 75, 20, 0, 0, 165, 35, 80, 50, 0, 100, 80, 0, 20, 20, 145, 100, 85, 195, 30, 25, 200, 50, 0, 200, 0, 20, 25, 0, 50, 0, 55, 0, 200, 30, 95, 20, 20, 200, 30, 25, 35, 0, 30, 120, 0, 60, 0, 20, 200, 60, 100, 0, 0, 0, 0, 75, 20, 100, 195, 45, 75, 35, 95, 100, 25, 195, 95, 50, 20, 195, 200, 50, 90, 90, 120, 200, 195, 120, 50, 55, 85, 55, 195, 20, 40, 50, 0, 85, 20, 25, 40, 20, 45, 95, 0, 0, 0, 25, 125, 50, 80, 45, 25, 0, 200, 50, 45, 0, 150, 0, 45, 50, 200, 200, 40, 0, 65, 45, 35, 195, 95, 20, 200, 20, 40, 50, 200, 40, 60, 0, 0, 0, 30, 0, 200, 145, 50, 200, 40, 0, 20, 95, 50, 50, 20, 40, 50, 20, 35, 20, 35, 25, 195, 100, 200, 200, 25, 100, 50, 150, 100, 195, 20, 75, 95, 30, 75, 40, 35, 40, 65, 0, 0, 0, 100, 0, 50, 30, 20, 0, 20, 200, 95, 85, 20, 55, 25, 50, 50, 85, 0, 120, 20, 40, 0, 125, 50, 75, 50, 200, 0, 100, 40, 120, 50, 0, 50, 20, 20, 200, 20, 0, 20, 0, 125, 95, 105, 100, 20, 50, 20, 40, 25, 0, 95, 195, 20, 200, 30, 150, 60, 200, 20, 195, 50, 200, 20, 40, 50, 50, 95, 95, 100, 50, 35, 95, 35, 60, 65, 200, 20, 200, 20, 20, 20, 20, 20, 200, 200, 50, 20, 20, 30, 25, 50, 20, 85, 20, 75, 20, 40, 50, 20, 50, 20, 85, 65, 50, 0, 0, 20, 55, 40, 50, 145, 95, 200, 40, 95, 100, 95, 50, 30, 120, 20, 20, 45, 20, 25, 0, 30, 150, 40, 90, 0, 20, 20, 30, 200, 0, 75, 95, 50, 185, 20, 40, 25, 0, 200, 125, 200, 35, 45, 20, 20, 25, 20, 100, 30, 150, 45, 0, 40, 30, 0, 50, 20, 20, 150, 100, 25, 40, 50, 45], \"xaxis\": \"x\", \"yaxis\": \"y\"}],                        {\"barmode\": \"relative\", \"legend\": {\"tracegroupgap\": 0}, \"template\": {\"data\": {\"bar\": [{\"error_x\": {\"color\": \"#2a3f5f\"}, \"error_y\": {\"color\": \"#2a3f5f\"}, \"marker\": {\"line\": {\"color\": \"#E5ECF6\", \"width\": 0.5}}, \"type\": \"bar\"}], \"barpolar\": [{\"marker\": {\"line\": {\"color\": \"#E5ECF6\", \"width\": 0.5}}, \"type\": \"barpolar\"}], \"carpet\": [{\"aaxis\": {\"endlinecolor\": \"#2a3f5f\", \"gridcolor\": \"white\", \"linecolor\": \"white\", \"minorgridcolor\": \"white\", \"startlinecolor\": \"#2a3f5f\"}, \"baxis\": {\"endlinecolor\": \"#2a3f5f\", \"gridcolor\": \"white\", \"linecolor\": \"white\", \"minorgridcolor\": \"white\", \"startlinecolor\": \"#2a3f5f\"}, \"type\": \"carpet\"}], \"choropleth\": [{\"colorbar\": {\"outlinewidth\": 0, \"ticks\": \"\"}, \"type\": \"choropleth\"}], \"contour\": [{\"colorbar\": {\"outlinewidth\": 0, \"ticks\": \"\"}, \"colorscale\": [[0.0, \"#0d0887\"], [0.1111111111111111, \"#46039f\"], [0.2222222222222222, \"#7201a8\"], [0.3333333333333333, \"#9c179e\"], [0.4444444444444444, \"#bd3786\"], [0.5555555555555556, \"#d8576b\"], [0.6666666666666666, \"#ed7953\"], [0.7777777777777778, \"#fb9f3a\"], [0.8888888888888888, \"#fdca26\"], [1.0, \"#f0f921\"]], \"type\": \"contour\"}], \"contourcarpet\": [{\"colorbar\": {\"outlinewidth\": 0, \"ticks\": \"\"}, \"type\": \"contourcarpet\"}], \"heatmap\": [{\"colorbar\": {\"outlinewidth\": 0, \"ticks\": \"\"}, \"colorscale\": [[0.0, \"#0d0887\"], [0.1111111111111111, \"#46039f\"], [0.2222222222222222, \"#7201a8\"], [0.3333333333333333, \"#9c179e\"], [0.4444444444444444, \"#bd3786\"], [0.5555555555555556, \"#d8576b\"], [0.6666666666666666, \"#ed7953\"], [0.7777777777777778, \"#fb9f3a\"], [0.8888888888888888, \"#fdca26\"], [1.0, \"#f0f921\"]], \"type\": \"heatmap\"}], \"heatmapgl\": [{\"colorbar\": {\"outlinewidth\": 0, \"ticks\": \"\"}, \"colorscale\": [[0.0, \"#0d0887\"], [0.1111111111111111, \"#46039f\"], [0.2222222222222222, \"#7201a8\"], [0.3333333333333333, \"#9c179e\"], [0.4444444444444444, \"#bd3786\"], [0.5555555555555556, \"#d8576b\"], [0.6666666666666666, \"#ed7953\"], [0.7777777777777778, \"#fb9f3a\"], [0.8888888888888888, \"#fdca26\"], [1.0, \"#f0f921\"]], \"type\": \"heatmapgl\"}], \"histogram\": [{\"marker\": {\"colorbar\": {\"outlinewidth\": 0, \"ticks\": \"\"}}, \"type\": \"histogram\"}], \"histogram2d\": [{\"colorbar\": {\"outlinewidth\": 0, \"ticks\": \"\"}, \"colorscale\": [[0.0, \"#0d0887\"], [0.1111111111111111, \"#46039f\"], [0.2222222222222222, \"#7201a8\"], [0.3333333333333333, \"#9c179e\"], [0.4444444444444444, \"#bd3786\"], [0.5555555555555556, \"#d8576b\"], [0.6666666666666666, \"#ed7953\"], [0.7777777777777778, \"#fb9f3a\"], [0.8888888888888888, \"#fdca26\"], [1.0, \"#f0f921\"]], \"type\": \"histogram2d\"}], \"histogram2dcontour\": [{\"colorbar\": {\"outlinewidth\": 0, \"ticks\": \"\"}, \"colorscale\": [[0.0, \"#0d0887\"], [0.1111111111111111, \"#46039f\"], [0.2222222222222222, \"#7201a8\"], [0.3333333333333333, \"#9c179e\"], [0.4444444444444444, \"#bd3786\"], [0.5555555555555556, \"#d8576b\"], [0.6666666666666666, \"#ed7953\"], [0.7777777777777778, \"#fb9f3a\"], [0.8888888888888888, \"#fdca26\"], [1.0, \"#f0f921\"]], \"type\": \"histogram2dcontour\"}], \"mesh3d\": [{\"colorbar\": {\"outlinewidth\": 0, \"ticks\": \"\"}, \"type\": \"mesh3d\"}], \"parcoords\": [{\"line\": {\"colorbar\": {\"outlinewidth\": 0, \"ticks\": \"\"}}, \"type\": \"parcoords\"}], \"pie\": [{\"automargin\": true, \"type\": \"pie\"}], \"scatter\": [{\"marker\": {\"colorbar\": {\"outlinewidth\": 0, \"ticks\": \"\"}}, \"type\": \"scatter\"}], \"scatter3d\": [{\"line\": {\"colorbar\": {\"outlinewidth\": 0, \"ticks\": \"\"}}, \"marker\": {\"colorbar\": {\"outlinewidth\": 0, \"ticks\": \"\"}}, \"type\": \"scatter3d\"}], \"scattercarpet\": [{\"marker\": {\"colorbar\": {\"outlinewidth\": 0, \"ticks\": \"\"}}, \"type\": \"scattercarpet\"}], \"scattergeo\": [{\"marker\": {\"colorbar\": {\"outlinewidth\": 0, \"ticks\": \"\"}}, \"type\": \"scattergeo\"}], \"scattergl\": [{\"marker\": {\"colorbar\": {\"outlinewidth\": 0, \"ticks\": \"\"}}, \"type\": \"scattergl\"}], \"scattermapbox\": [{\"marker\": {\"colorbar\": {\"outlinewidth\": 0, \"ticks\": \"\"}}, \"type\": \"scattermapbox\"}], \"scatterpolar\": [{\"marker\": {\"colorbar\": {\"outlinewidth\": 0, \"ticks\": \"\"}}, \"type\": \"scatterpolar\"}], \"scatterpolargl\": [{\"marker\": {\"colorbar\": {\"outlinewidth\": 0, \"ticks\": \"\"}}, \"type\": \"scatterpolargl\"}], \"scatterternary\": [{\"marker\": {\"colorbar\": {\"outlinewidth\": 0, \"ticks\": \"\"}}, \"type\": \"scatterternary\"}], \"surface\": [{\"colorbar\": {\"outlinewidth\": 0, \"ticks\": \"\"}, \"colorscale\": [[0.0, \"#0d0887\"], [0.1111111111111111, \"#46039f\"], [0.2222222222222222, \"#7201a8\"], [0.3333333333333333, \"#9c179e\"], [0.4444444444444444, \"#bd3786\"], [0.5555555555555556, \"#d8576b\"], [0.6666666666666666, \"#ed7953\"], [0.7777777777777778, \"#fb9f3a\"], [0.8888888888888888, \"#fdca26\"], [1.0, \"#f0f921\"]], \"type\": \"surface\"}], \"table\": [{\"cells\": {\"fill\": {\"color\": \"#EBF0F8\"}, \"line\": {\"color\": \"white\"}}, \"header\": {\"fill\": {\"color\": \"#C8D4E3\"}, \"line\": {\"color\": \"white\"}}, \"type\": \"table\"}]}, \"layout\": {\"annotationdefaults\": {\"arrowcolor\": \"#2a3f5f\", \"arrowhead\": 0, \"arrowwidth\": 1}, \"autotypenumbers\": \"strict\", \"coloraxis\": {\"colorbar\": {\"outlinewidth\": 0, \"ticks\": \"\"}}, \"colorscale\": {\"diverging\": [[0, \"#8e0152\"], [0.1, \"#c51b7d\"], [0.2, \"#de77ae\"], [0.3, \"#f1b6da\"], [0.4, \"#fde0ef\"], [0.5, \"#f7f7f7\"], [0.6, \"#e6f5d0\"], [0.7, \"#b8e186\"], [0.8, \"#7fbc41\"], [0.9, \"#4d9221\"], [1, \"#276419\"]], \"sequential\": [[0.0, \"#0d0887\"], [0.1111111111111111, \"#46039f\"], [0.2222222222222222, \"#7201a8\"], [0.3333333333333333, \"#9c179e\"], [0.4444444444444444, \"#bd3786\"], [0.5555555555555556, \"#d8576b\"], [0.6666666666666666, \"#ed7953\"], [0.7777777777777778, \"#fb9f3a\"], [0.8888888888888888, \"#fdca26\"], [1.0, \"#f0f921\"]], \"sequentialminus\": [[0.0, \"#0d0887\"], [0.1111111111111111, \"#46039f\"], [0.2222222222222222, \"#7201a8\"], [0.3333333333333333, \"#9c179e\"], [0.4444444444444444, \"#bd3786\"], [0.5555555555555556, \"#d8576b\"], [0.6666666666666666, \"#ed7953\"], [0.7777777777777778, \"#fb9f3a\"], [0.8888888888888888, \"#fdca26\"], [1.0, \"#f0f921\"]]}, \"colorway\": [\"#636efa\", \"#EF553B\", \"#00cc96\", \"#ab63fa\", \"#FFA15A\", \"#19d3f3\", \"#FF6692\", \"#B6E880\", \"#FF97FF\", \"#FECB52\"], \"font\": {\"color\": \"#2a3f5f\"}, \"geo\": {\"bgcolor\": \"white\", \"lakecolor\": \"white\", \"landcolor\": \"#E5ECF6\", \"showlakes\": true, \"showland\": true, \"subunitcolor\": \"white\"}, \"hoverlabel\": {\"align\": \"left\"}, \"hovermode\": \"closest\", \"mapbox\": {\"style\": \"light\"}, \"paper_bgcolor\": \"white\", \"plot_bgcolor\": \"#E5ECF6\", \"polar\": {\"angularaxis\": {\"gridcolor\": \"white\", \"linecolor\": \"white\", \"ticks\": \"\"}, \"bgcolor\": \"#E5ECF6\", \"radialaxis\": {\"gridcolor\": \"white\", \"linecolor\": \"white\", \"ticks\": \"\"}}, \"scene\": {\"xaxis\": {\"backgroundcolor\": \"#E5ECF6\", \"gridcolor\": \"white\", \"gridwidth\": 2, \"linecolor\": \"white\", \"showbackground\": true, \"ticks\": \"\", \"zerolinecolor\": \"white\"}, \"yaxis\": {\"backgroundcolor\": \"#E5ECF6\", \"gridcolor\": \"white\", \"gridwidth\": 2, \"linecolor\": \"white\", \"showbackground\": true, \"ticks\": \"\", \"zerolinecolor\": \"white\"}, \"zaxis\": {\"backgroundcolor\": \"#E5ECF6\", \"gridcolor\": \"white\", \"gridwidth\": 2, \"linecolor\": \"white\", \"showbackground\": true, \"ticks\": \"\", \"zerolinecolor\": \"white\"}}, \"shapedefaults\": {\"line\": {\"color\": \"#2a3f5f\"}}, \"ternary\": {\"aaxis\": {\"gridcolor\": \"white\", \"linecolor\": \"white\", \"ticks\": \"\"}, \"baxis\": {\"gridcolor\": \"white\", \"linecolor\": \"white\", \"ticks\": \"\"}, \"bgcolor\": \"#E5ECF6\", \"caxis\": {\"gridcolor\": \"white\", \"linecolor\": \"white\", \"ticks\": \"\"}}, \"title\": {\"x\": 0.05}, \"xaxis\": {\"automargin\": true, \"gridcolor\": \"white\", \"linecolor\": \"white\", \"ticks\": \"\", \"title\": {\"standoff\": 15}, \"zerolinecolor\": \"white\", \"zerolinewidth\": 2}, \"yaxis\": {\"automargin\": true, \"gridcolor\": \"white\", \"linecolor\": \"white\", \"ticks\": \"\", \"title\": {\"standoff\": 15}, \"zerolinecolor\": \"white\", \"zerolinewidth\": 2}}}, \"title\": {\"text\": \"Prices of UDEMY Courses\"}, \"xaxis\": {\"anchor\": \"y\", \"domain\": [0.0, 1.0], \"title\": {\"text\": \"price\"}}, \"yaxis\": {\"anchor\": \"x\", \"domain\": [0.0, 1.0], \"title\": {\"text\": \"count\"}}},                        {\"responsive\": true}                    ).then(function(){\n",
       "                            \n",
       "var gd = document.getElementById('246ab8d0-5657-4885-bd79-b25ae4a1ba08');\n",
       "var x = new MutationObserver(function (mutations, observer) {{\n",
       "        var display = window.getComputedStyle(gd).display;\n",
       "        if (!display || display === 'none') {{\n",
       "            console.log([gd, 'removed!']);\n",
       "            Plotly.purge(gd);\n",
       "            observer.disconnect();\n",
       "        }}\n",
       "}});\n",
       "\n",
       "// Listen for the removal of the full notebook cells\n",
       "var notebookContainer = gd.closest('#notebook-container');\n",
       "if (notebookContainer) {{\n",
       "    x.observe(notebookContainer, {childList: true});\n",
       "}}\n",
       "\n",
       "// Listen for the clearing of the current output cell\n",
       "var outputEl = gd.closest('.output');\n",
       "if (outputEl) {{\n",
       "    x.observe(outputEl, {childList: true});\n",
       "}}\n",
       "\n",
       "                        })                };                });            </script>        </div>"
      ]
     },
     "metadata": {},
     "output_type": "display_data"
    }
   ],
   "source": [
    "fig = px.histogram(df, x= 'price', title='Prices of UDEMY Courses')\n",
    "\n",
    "fig.show()"
   ]
  },
  {
   "cell_type": "markdown",
   "id": "planned-addition",
   "metadata": {
    "papermill": {
     "duration": 0.05664,
     "end_time": "2021-07-07T21:05:30.865793",
     "exception": false,
     "start_time": "2021-07-07T21:05:30.809153",
     "status": "completed"
    },
    "tags": []
   },
   "source": [
    "As seen in the histogram, UDEMY has 310 free course and it's 295 courses are priced as $200 . As we expected, there is highly right skewed distribution."
   ]
  },
  {
   "cell_type": "markdown",
   "id": "ordered-process",
   "metadata": {
    "papermill": {
     "duration": 0.055748,
     "end_time": "2021-07-07T21:05:30.978380",
     "exception": false,
     "start_time": "2021-07-07T21:05:30.922632",
     "status": "completed"
    },
    "tags": []
   },
   "source": [
    "#### **Number of Subscribers of UDEMY Courses**"
   ]
  },
  {
   "cell_type": "code",
   "execution_count": 12,
   "id": "annual-orientation",
   "metadata": {
    "_kg_hide-input": true,
    "execution": {
     "iopub.execute_input": "2021-07-07T21:05:31.107036Z",
     "iopub.status.busy": "2021-07-07T21:05:31.106294Z",
     "iopub.status.idle": "2021-07-07T21:05:31.167521Z",
     "shell.execute_reply": "2021-07-07T21:05:31.166962Z",
     "shell.execute_reply.started": "2021-07-07T20:45:36.236190Z"
    },
    "papermill": {
     "duration": 0.133627,
     "end_time": "2021-07-07T21:05:31.167679",
     "exception": false,
     "start_time": "2021-07-07T21:05:31.034052",
     "status": "completed"
    },
    "tags": []
   },
   "outputs": [
    {
     "data": {
      "text/html": [
       "<div>                            <div id=\"a493ec49-cd82-46ef-b89a-6ee5e4ee4180\" class=\"plotly-graph-div\" style=\"height:525px; width:100%;\"></div>            <script type=\"text/javascript\">                require([\"plotly\"], function(Plotly) {                    window.PLOTLYENV=window.PLOTLYENV || {};                                    if (document.getElementById(\"a493ec49-cd82-46ef-b89a-6ee5e4ee4180\")) {                    Plotly.newPlot(                        \"a493ec49-cd82-46ef-b89a-6ee5e4ee4180\",                        [{\"alignmentgroup\": \"True\", \"bingroup\": \"x\", \"hovertemplate\": \"num_subscribers=%{x}<br>count=%{y}<extra></extra>\", \"legendgroup\": \"\", \"marker\": {\"color\": \"#636efa\"}, \"name\": \"\", \"offsetgroup\": \"\", \"orientation\": \"v\", \"showlegend\": false, \"type\": \"histogram\", \"x\": [2147, 2792, 2174, 2451, 1276, 9221, 1540, 2917, 5172, 827, 4284, 1380, 3607, 4061, 294, 2276, 4919, 2666, 5354, 8095, 809, 2295, 10149, 1916, 2507, 5786, 5334, 4005, 2877, 1026, 1165, 1843, 8797, 1030, 1041, 7884, 16900, 11441, 22257, 8575, 24481, 3811, 4991, 7489, 20195, 10042, 367, 10603, 1197, 2893, 1580, 10605, 2996, 6219, 1113, 8314, 5572, 1433, 936, 658, 8121, 4187, 9445, 3255, 7941, 1680, 10100, 5050, 2310, 5528, 6451, 12394, 1793, 3223, 16385, 1487, 2951, 2697, 3979, 3190, 1406, 4252, 11958, 7743, 2134, 1214, 3870, 2146, 484, 1057, 1754, 1239, 2493, 2602, 2000, 1514, 1361, 61, 1513, 1374, 2103, 1480, 2516, 50855, 1971, 837, 17160, 1723, 6811, 2060, 2318, 2153, 19339, 3177, 1535, 1027, 307, 2096, 1315, 29167, 1056, 2212, 2946, 271, 3771, 3143, 1951, 4022, 11724, 2283, 1181, 1852, 4661, 989, 5841, 1087, 611, 1922, 9015, 661, 1077, 6050, 3523, 56659, 1444, 2900, 1437, 453, 2437, 5057, 6092, 4530, 6967, 727, 1560, 1047, 1045, 3050, 2988, 2623, 1924, 3804, 4133, 1420, 1120, 668, 4086, 1033, 832, 677, 3125, 1081, 1645, 3348, 939, 2115, 2230, 2053, 1793, 3775, 521, 2222, 1097, 2506, 975, 1398, 1096, 1703, 1446, 2736, 2000, 853, 3094, 4077, 4117, 1369, 1224, 3870, 897, 1311, 1338, 1589, 1189, 701, 1105, 123, 5874, 354, 727, 3465, 54, 627, 650, 965, 1113, 739, 1201, 2474, 494, 1580, 617, 2235, 2293, 1094, 1449, 3251, 607, 1218, 1132, 656, 3339, 1271, 1574, 1393, 1029, 843, 1730, 1182, 1160, 1730, 1260, 871, 1566, 2987, 973, 2177, 1772, 1850, 1780, 4607, 12, 13, 2, 2571, 8, 7, 217, 22, 131, 5, 116, 27, 912, 1964, 1033, 913, 2092, 2240, 4601, 2953, 1091, 1459, 4855, 4034, 57, 26, 14, 49, 11, 9, 91, 44, 106, 2079, 135, 31, 217, 611, 5007, 1168, 4653, 3035, 454, 325, 228, 562, 577, 10540, 912, 2955, 190, 1736, 1135, 2101, 1048, 1740, 1749, 1187, 1263, 115, 43, 55, 18, 14, 47, 134, 153, 47, 42, 120, 68, 844, 2045, 1168, 2342, 2268, 967, 1185, 631, 968, 1132, 114, 204, 1548, 409, 1169, 249, 690, 1340, 274, 4863, 1923, 224, 721, 51, 1276, 2768, 1735, 8985, 1119, 2591, 1046, 2239, 1882, 5931, 4931, 3056, 1303, 2924, 1405, 1121, 1776, 1643, 801, 951, 1278, 1184, 1115, 1086, 3730, 810, 2338, 3403, 4695, 17847, 2692, 6374, 2305, 589, 22, 2490, 2715, 1506, 2197, 338, 1076, 2769, 1531, 1136, 2187, 1609, 2895, 1023, 1988, 1053, 4497, 2379, 993, 10338, 1423, 3555, 567, 1085, 7159, 11517, 1, 10, 41, 8, 43, 23, 9, 25, 7, 12, 1, 29, 17, 132, 126, 32, 480, 27, 167, 131, 927, 37, 19, 43, 751, 49, 45, 1685, 4269, 124, 811, 956, 126, 26, 91, 30, 226, 52, 89, 267, 4770, 265, 2046, 605, 472, 388, 98, 1888, 0, 0, 0, 0, 0, 0, 0, 0, 0, 0, 0, 0, 495, 375, 1730, 283, 136, 23, 683, 618, 188, 911, 512, 769, 302, 149, 72, 33, 13, 79, 139, 2247, 17, 45, 33, 54, 1498, 2317, 5077, 65576, 1202, 22344, 2189, 431, 1199, 5685, 1512, 1806, 668, 3757, 828, 111, 39, 613, 57, 246, 83, 62, 31, 367, 3, 3, 2, 3, 1, 1, 2, 1, 2, 1, 1, 0, 731, 66, 51, 507, 9, 375, 80, 152, 37, 194, 1184, 638, 64, 44, 814, 211, 768, 29, 156, 2144, 376, 214, 406, 394, 438, 56, 58, 1047, 166, 605, 38, 46, 217, 78, 35, 80, 1941, 1367, 1519, 2025, 1213, 1092, 5099, 869, 59, 10670, 1741, 19614, 4, 1, 4, 4, 8, 8, 11, 18, 16, 6, 4, 1, 210, 4, 273, 237, 368, 86, 204, 570, 225, 37, 36, 218, 50, 148, 74, 260, 299, 4, 65, 101, 92, 76, 14, 18, 21, 18, 21, 49, 168, 16, 2, 336, 20, 28, 11, 11, 360, 1189, 9995, 100, 3426, 592, 1222, 1532, 5768, 343, 540, 2031, 7, 4, 21, 29, 50, 1, 5, 6, 16, 70, 110, 7, 1186, 632, 1237, 513, 4103, 1489, 547, 353, 507, 1079, 3667, 2222, 9, 225, 13, 373, 306, 14, 51, 13, 1318, 347, 274, 9, 359, 6024, 315, 280, 401, 701, 57, 205, 62, 114, 789, 446, 17, 16, 117, 147, 7, 247, 143, 621, 6, 5, 2674, 227, 4480, 1329, 5144, 2635, 1750, 3360, 3425, 2688, 1095, 1680, 2046, 1699, 1071, 1037, 223, 653, 230, 2281, 4702, 366, 521, 252, 1101, 223, 135, 23, 112, 2122, 152, 267, 155, 87, 2146, 154, 4248, 517, 2638, 2914, 6050, 16, 3917, 1122, 4158, 1252, 5108, 2981, 1223, 7750, 564, 2075, 45, 44, 308, 55, 718, 206, 18, 86, 294, 27, 375, 94, 2080, 3137, 155, 1732, 3372, 2185, 1008, 256, 1173, 1352, 49, 124, 105, 117, 6533, 7, 30, 91, 28, 83, 623, 1625, 0, 0, 0, 1, 0, 0, 0, 0, 0, 0, 0, 0, 737, 554, 807, 779, 1777, 841, 56, 1909, 775, 1255, 1193, 1309, 623, 276, 314, 1942, 885, 226, 461, 152, 1017, 1074, 440, 978, 36, 74, 78, 10, 39, 37, 2166, 78, 21, 1086, 7, 168, 2801, 12217, 6185, 477, 1334, 5407, 9483, 1032, 8236, 2383, 3283, 2650, 1551, 545, 663, 3519, 825, 70, 357, 853, 397, 74, 1254, 89, 38, 18, 103, 7, 104, 42, 507, 241, 226, 50, 100, 99, 99, 1192, 209, 5529, 81, 1924, 646, 520, 1440, 452, 178, 21, 12, 209, 505, 16, 25, 229, 6, 1, 10, 1, 34, 0, 0, 0, 0, 0, 0, 0, 0, 0, 0, 0, 0, 459, 266, 104, 1509, 212, 462, 90, 153, 1055, 157, 103, 1067, 58, 74, 338, 27, 76, 27, 68, 112, 72, 335, 22, 41, 1, 16, 3, 4, 2, 12, 10, 12, 5, 1, 2, 9, 42, 110, 420, 206, 164, 69, 28, 90, 13, 31, 13, 2119, 136, 797, 503, 1150, 1403, 916, 627, 168, 2554, 120, 750, 217, 106, 397, 44, 30, 95, 55, 94, 578, 393, 116, 1888, 412, 40, 222, 831, 485, 232, 135, 61, 61, 874, 22, 5597, 261, 83, 152, 176, 8, 327, 264, 15, 104, 71, 26, 11, 1294, 32, 313, 635, 1311, 288, 97, 53, 1102, 57, 694, 137, 12, 18, 170, 119, 2058, 35, 40, 13, 4, 71, 71, 6, 1, 5, 1, 4, 10, 6, 2, 2, 2, 2, 6, 2, 206, 313, 193, 66, 270, 139, 77, 225, 23, 4876, 244, 1278, 31, 8, 40, 9, 45, 13, 4, 20, 9, 29, 6, 7, 859, 5983, 1673, 1284, 394, 689, 649, 187, 1798, 465, 813, 326, 26, 26, 28, 122, 149, 205, 11, 3, 108, 8, 9, 16, 11, 12, 11, 2, 9, 15, 7, 27, 5, 3, 5, 5, 132, 112, 285, 91, 32, 2740, 59, 16, 22, 15, 1059, 187, 0, 0, 0, 0, 1089, 743, 1362, 405, 1168, 16, 3840, 7183, 483, 172, 256, 1542, 64, 384, 3014, 454, 312, 315, 609, 207, 399, 1175, 543, 1634, 1013, 319, 1125, 2481, 1006, 1044, 1240, 504, 15, 358, 80, 133, 207, 426, 45, 1280, 142, 188, 718, 293, 93, 894, 353, 829, 1195, 335, 500, 159, 739, 87, 185, 741, 576, 1046, 486, 52, 106, 38, 32, 171, 79, 397, 85, 1696, 201, 1235, 137, 384, 103, 379, 1573, 150, 48, 781, 952, 612, 1819, 551, 788, 408, 944, 323, 101, 984, 89, 129, 249, 75, 2252, 462, 1720, 390, 4297, 1076, 9367, 8901, 4235, 14440, 12340, 2027, 381, 69, 21, 15276, 26742, 5326, 36288, 15500, 7282, 10875, 8196, 1360, 6858, 18303, 1789, 293, 662, 1279, 1080, 120, 1085, 447, 372, 721, 736, 114, 331, 0, 0, 0, 0, 0, 0, 0, 0, 217, 334, 817, 637, 2358, 3721, 1148, 2489, 1782, 6975, 9464, 2044, 5787, 25277, 6944, 6028, 5104, 2476, 3000, 185, 418, 431, 23, 126, 3329, 720, 800, 1477, 1552, 1076, 1016, 919, 1224, 774, 715, 1768, 2555, 426, 3108, 276, 390, 6754, 5086, 1146, 47811, 1564, 739, 1029, 2665, 1079, 1440, 1401, 2634, 1046, 505, 827, 8786, 253, 1933, 1504, 1332, 1150, 1056, 1350, 1586, 821, 56, 1150, 1557, 246, 3103, 1090, 1235, 946, 1500, 1452, 24, 3, 20, 33, 97, 8, 4, 10, 2, 5, 1, 3, 311, 447, 616, 797, 549, 274, 709, 3812, 1373, 441, 201, 661, 300, 211, 65, 43, 44, 33, 20, 37, 190, 129, 123, 38, 3251, 2091, 1002, 806, 389, 1031, 500, 68, 651, 341, 867, 142, 1825, 24687, 2266, 5175, 3512, 797, 2745, 2361, 1530, 1873, 1338, 1479, 38, 934, 50, 27, 6429, 422, 410, 15, 115, 272, 280, 354, 44044, 1367, 1754, 2067, 5301, 4294, 1679, 327, 740, 1348, 1249, 1275, 3117, 896, 4208, 3903, 1710, 1606, 4776, 23229, 1456, 1534, 2199, 1202, 2004, 778, 502, 1526, 1468, 798, 2044, 1310, 1145, 326, 2228, 2420, 387, 421, 987, 324, 319, 1087, 270, 124, 371, 1098, 107, 507, 646, 1738, 2354, 238, 165, 1080, 489, 706, 507, 770, 1028, 545, 690, 2911, 734, 4353, 521, 3481, 711, 1123, 12103, 1418, 3390, 53851, 3, 1, 3, 1, 2, 1, 1, 2, 1, 0, 0, 0, 3, 25, 1, 108, 13, 11, 37, 7, 1, 1, 6, 18, 1905, 3360, 941, 4927, 2087, 2938, 2911, 1797, 3192, 1538, 5072, 1086, 213, 135, 164, 290, 183, 35, 86, 96, 353, 33, 172, 155, 27, 2, 7, 18, 4, 139, 18, 5, 167, 311, 13, 34, 1522, 6039, 4449, 6428, 24857, 2873, 5840, 1011, 6215, 33205, 1452, 1343, 41, 314, 239, 507, 228, 21, 92, 91, 33, 177, 668, 92, 8, 22, 3, 2, 2, 1, 2, 11, 9, 9, 1, 1, 6, 1, 4, 1, 2, 4, 4, 1, 1, 1, 1, 0, 885, 2863, 915, 3525, 2035, 2267, 1197, 1043, 1356, 1657, 655, 1282, 35, 220, 481, 1013, 593, 679, 2346, 140, 528, 297, 228, 1207, 5, 4, 36, 3, 3, 1, 2, 13, 1, 1, 5, 3, 970, 342, 106, 229, 437, 500, 725, 142, 317, 50, 115, 780, 0, 0, 0, 0, 0, 343, 0, 0, 384, 677, 1110, 858, 1359, 9847, 2416, 1524, 11893, 3381, 1270, 1753, 3618, 2489, 4080, 1602, 7, 8, 7, 57, 91, 11, 6, 5, 5, 6, 34, 7, 5471, 3599, 4961, 3377, 1323, 2599, 6612, 1675, 5850, 2325, 1276, 1000, 86, 11, 42, 28, 5, 74, 27, 13, 27, 1433, 110, 15, 19, 87, 802, 14, 1132, 347, 219, 30, 130, 509, 342, 87, 259, 72, 363, 23, 78, 99, 14, 282, 113, 66, 52, 116, 623, 827, 5000, 793, 972, 2427, 3131, 5950, 4550, 2081, 785, 2424, 57, 50, 262, 45, 272, 10, 12, 43, 165, 83, 17, 34, 293, 113, 72, 155, 48, 1447, 86, 13, 15, 28, 62, 125, 33, 51, 361, 50, 4, 134, 36, 32, 30, 22, 452, 67, 1081, 189, 775, 88, 598, 145, 445, 237, 1005, 485, 238, 1116, 105, 23, 82, 13, 19, 105, 94, 5, 98, 5, 6, 5, 91, 3, 121, 105, 17, 380, 494, 518, 214, 11, 33, 9, 817, 286, 774, 41, 30, 837, 11, 254, 40, 84, 23, 32, 4529, 823, 1472, 1327, 924, 898, 1039, 1474, 1167, 1589, 219, 835, 747, 1337, 530, 1297, 295, 2084, 515, 1026, 414, 198, 250, 180, 128, 709, 117, 305, 153, 81, 85, 73, 178, 122, 402, 119, 605, 476, 707, 438, 1199, 966, 877, 1504, 1064, 117, 1229, 922, 662, 1732, 326, 1284, 1029, 886, 1213, 1605, 2673, 1987, 1052, 1548, 257, 1818, 543, 95, 321, 408, 43, 239, 584, 144, 297, 1137, 86, 98, 2566, 55, 537, 595, 659, 186, 460, 252, 87, 1720, 390, 2618, 390, 496, 341, 97, 1249, 861, 973, 868, 193, 9193, 5830, 1224, 101154, 407, 3481, 124, 2002, 14495, 746, 920, 362, 927, 953, 469, 450, 600, 1018, 181, 8240, 582, 1235, 380, 1842, 3137, 4967, 2154, 936, 1224, 1030, 14922, 2788, 2686, 1594, 1018, 1194, 270, 3325, 172, 834, 382, 452, 5543, 153, 1582, 560, 111, 1060, 452, 2346, 103, 833, 2358, 1814, 2543, 3042, 809, 9351, 811, 1424, 193, 65, 59, 545, 668, 100, 5769, 293, 492, 500, 346, 353, 1174, 1513, 6292, 6853, 475, 776, 1337, 701, 1350, 1141, 1203, 5188, 0, 462, 75499, 21701, 3157, 32935, 10869, 5316, 4192, 8857, 10435, 8113, 7178, 2102, 1329, 1220, 3206, 482, 2498, 478, 1788, 1249, 1976, 567, 2045, 1204, 1227, 47652, 1638, 568, 3013, 2795, 491, 1018, 2164, 2415, 2285, 1268, 2026, 2164, 969, 1987, 1319, 4560, 1593, 6565, 4133, 1541, 14560, 7140, 1495, 1200, 1674, 54, 940, 1152, 2558, 850, 3937, 6271, 4557, 5292, 4982, 4733, 3371, 1409, 26504, 3141, 1449, 2692, 3312, 2015, 2015, 7, 228, 65, 1094, 60, 83, 122, 106, 55, 77, 92, 29, 8217, 1305, 916, 2357, 1951, 1284, 769, 3122, 1269, 1618, 89, 66, 630, 249, 198, 84, 58, 186, 21, 431, 53, 2610, 26, 32, 1631, 12, 12, 236, 7, 11, 11, 12, 135, 5, 57, 7, 73, 35, 30, 32, 39, 90, 37, 42, 276, 88, 10, 11, 29, 7, 9, 8, 8, 8, 17, 2, 4, 8, 122, 5, 11, 36, 111, 888, 53, 65, 38, 18, 22, 211, 10, 12, 17, 11, 8, 7, 6, 2, 5, 14, 11, 11, 57, 377, 273, 406, 556, 115, 420, 32, 26, 116, 425, 736, 68, 104, 189, 738, 365, 146, 383, 92, 291, 61, 288, 78, 594, 489, 13, 103, 231, 44, 261, 114, 45, 3167, 105, 85, 335, 4452, 332, 287, 1876, 113, 158, 480, 228, 42, 10, 103, 75, 66, 61, 184, 24, 205, 19, 120, 232, 148, 10, 72, 172, 10, 25, 1, 13, 69, 10, 25, 21, 5, 418, 113, 78, 51, 58, 56, 162, 2577, 62, 42, 28, 261, 44, 4, 98, 19, 197, 58, 21, 92, 239, 5, 173, 10, 12, 54, 28, 238, 512, 177, 61, 21, 115, 510, 147, 9, 5, 7, 4, 4, 4, 2, 3, 3, 3, 1, 1, 1, 9, 44, 13, 17, 118, 5, 11, 113, 36, 10, 12, 78, 31, 205, 213, 33, 284, 8, 98, 119, 45, 297, 137, 112, 28, 79, 333, 48, 41, 209, 119, 139, 41, 95, 184, 8, 376, 37, 169, 20, 89, 98, 265, 196, 292, 14, 16, 114, 185, 42, 57, 17, 70, 245, 76, 44, 80, 68, 54, 80, 85, 57, 12, 11, 42, 20, 41, 5, 119, 22, 20, 17, 82, 79, 21, 29, 31, 156, 12, 74, 353, 137, 59, 47, 71, 21, 36, 8, 375, 215, 80, 31, 56, 18, 57, 59, 6, 4, 4, 3, 7, 2, 3, 3, 1, 3, 3, 3, 164, 28, 47, 15, 151, 14, 16, 19, 14, 40, 41, 9, 46, 75, 19, 22, 17, 26, 2, 13, 1, 14, 6, 31, 1, 1, 1, 0, 0, 0, 0, 0, 0, 0, 0, 0, 31, 237, 120, 384, 3160, 455, 82, 136, 63, 64, 28, 27, 0, 970, 991, 61, 1, 1981, 245, 38, 255, 62, 186, 62, 13, 25, 17, 36, 349, 85, 24, 26, 19, 30, 45, 305, 26, 75, 32, 70, 200, 478, 73, 33, 59, 192, 57, 81, 2995, 181, 589, 48, 81, 225, 438, 152, 244, 248, 111, 52, 10, 10, 9, 7, 7, 1, 6, 4, 6, 3, 5, 5, 43285, 47886, 2577, 8777, 23764, 3541, 2669, 1966, 4090, 2578, 24978, 3133, 15276, 12458, 1087, 14074, 26800, 9425, 2780, 35267, 2607, 1502, 9359, 14842, 6082, 12366, 4720, 7057, 16829, 4872, 5809, 13439, 733, 14813, 6601, 2804, 9421, 9668, 2760, 9831, 486, 11170, 9384, 9067, 10247, 10610, 6162, 1802, 4783, 2097, 17714, 9554, 1129, 22213, 2412, 18324, 1696, 7169, 12893, 4708, 1050, 7852, 1683, 119, 1735, 3699, 10103, 7380, 3903, 4892, 2786, 15064, 22623, 952, 3415, 7827, 9773, 13457, 1399, 4028, 1371, 12953, 5125, 43285, 25864, 5211, 8234, 2687, 5143, 1827, 5026, 1301, 23412, 8691, 3119, 10150, 14026, 2214, 21147, 19909, 1385, 10780, 604, 1772, 3357, 796, 4123, 2697, 997, 713, 4259, 98867, 1849, 1645, 64128, 2160, 7660, 2025, 1548, 2472, 13535, 5795, 2643, 3704, 1678, 960, 1811, 4123, 26697, 5921, 3011, 8768, 1673, 16158, 4057, 6851, 2234, 9607, 4689, 9375, 4848, 84897, 12838, 24861, 9762, 11262, 1270, 17895, 11285, 1040, 23572, 3801, 12068, 5559, 1838, 2104, 15187, 10606, 6497, 11536, 16282, 949, 1995, 6636, 7146, 1703, 12815, 44, 502, 627, 851, 29990, 10179, 563, 2320, 2353, 13210, 1004, 3015, 8693, 8711, 9945, 18143, 13882, 57422, 10179, 18101, 2789, 1437, 10864, 14254, 6134, 7867, 8594, 1892, 3960, 10518, 10008, 1023, 3392, 7213, 4183, 25854, 6153, 4010, 5022, 5547, 2532, 2362, 7741, 1658, 3324, 7184, 4442, 7196, 2371, 8496, 1346, 14103, 3295, 4375, 12021, 26673, 69186, 11384, 2390, 7059, 3179, 1870, 18170, 6073, 5335, 8755, 4144, 6420, 1741, 9881, 3252, 5089, 5962, 5181, 3493, 417, 1599, 15134, 2596, 1783, 12974, 785, 4115, 13242, 1154, 16212, 16409, 1337, 1469, 2660, 421, 31070, 1737, 11492, 5439, 8059, 12105, 3877, 2919, 2409, 2083, 2076, 2918, 842, 7130, 5549, 155, 1697, 2526, 2342, 21730, 1117, 2401, 3887, 1156, 1385, 10890, 1126, 3652, 1723, 3759, 1653, 5387, 4563, 3757, 4193, 3694, 1905, 2875, 613, 633, 1515, 900, 2382, 32260, 3249, 1274, 72932, 120291, 387, 2227, 2652, 2520, 3150, 4011, 6937, 4839, 2346, 897, 9381, 7090, 2204, 1212, 5328, 5715, 2074, 12328, 4537, 5117, 3854, 1902, 37141, 1649, 3012, 6890, 4628, 17113, 244, 1472, 31499, 3539, 1415, 2965, 655, 18777, 1591, 1925, 16926, 13406, 5739, 16731, 1613, 268923, 1780, 7438, 21087, 1157, 912, 2039, 16527, 1000, 26541, 467, 947, 9832, 2184, 2853, 16590, 1626, 9056, 8320, 4106, 5324, 5603, 4183, 301, 3883, 236, 1758, 1266, 920, 5004, 880, 342, 205, 527, 1517, 130, 1018, 4830, 402, 755, 1087, 170, 1054, 245, 353, 464, 298, 2238, 1764, 3380, 1030, 1406, 4732, 1724, 1618, 5056, 1562, 1547, 2626, 11167, 466, 1355, 5065, 1763, 6413, 5398, 7017, 6510, 1898, 3299, 817, 1798, 3688, 1611, 11574, 2547, 2063, 22355, 8577, 10674, 783, 12781, 5484, 7884, 15724, 3106, 6293, 8711, 8067, 9332, 3271, 1367, 5077, 6508, 4687, 11758, 300, 3784, 1209, 1428, 716, 12563, 1518, 1241, 380, 395, 1169, 1114, 5738, 6648, 1605, 4848, 4743, 1520, 3601, 4033, 17071, 13708, 430, 2643, 1731, 1313, 775, 2243, 2749, 2012, 1080, 3831, 2071, 2755, 1216, 2314, 8770, 1764, 2837, 1655, 2721, 1152, 15493, 1562, 9786, 1904, 3357, 2200, 5456, 2134, 4675, 1433, 1734, 3461, 4076, 567, 1723, 1282, 2052, 1874, 1119, 1023, 3697, 21682, 1975, 553, 2650, 2964, 1624, 1640, 1627, 1815, 1011, 2430, 5318, 7018, 1634, 3590, 4030, 4020, 2635, 7211, 1496, 4447, 1410, 6628, 1908, 1248, 4587, 2351, 3898, 3185, 557, 408, 1703, 17554, 7368, 676, 3632, 10576, 11643, 13960, 5085, 1130, 14606, 2971, 2814, 1355, 2335, 161029, 2051, 1069, 1439, 1948, 841, 937, 583, 577, 9364, 5052, 694, 511, 937, 1611, 103, 670, 1606, 260, 122, 877, 1215, 3323, 11892, 15106, 975, 5263, 596, 7517, 21653, 9028, 7375, 5177, 6548, 28125, 9349, 14260, 7720, 2142, 12873, 12882, 12368, 8625, 2641, 1052, 13920, 7416, 1822, 1010, 1425, 7014, 7785, 4407, 602, 1712, 1894, 3258, 7449, 538, 1271, 1407, 2311, 1002, 2565, 210, 1186, 1421, 958, 1550, 1309, 251, 723, 11026, 1318, 3894, 12293, 1447, 487, 9110, 1519, 948, 2023, 1858, 2244, 3619, 22999, 2743, 1229, 3701, 710, 6588, 7331, 4463, 1873, 1388, 1292, 1147, 1109, 2002, 876, 1186, 973, 379, 2177, 1063, 1309, 7489, 9103, 3169, 7501, 1967, 28694, 909, 4820, 24575, 9109, 18818, 1121, 14551, 5800, 4867, 1006, 4616, 8968, 7062, 3073, 2706, 1702, 3420, 7130, 918, 1520, 461, 116, 207, 333, 305, 644, 415, 926, 3118, 4290, 959, 55332, 2273, 17784, 25799, 2865, 346, 4957, 4128, 29348, 32696, 3503, 2354, 586, 1949, 1825, 2296, 550, 578, 7706, 1339, 6760, 1096, 7407, 5811, 2145, 11832, 5279, 5332, 5151, 73783, 51257, 28880, 17334, 33677, 19210, 2215, 1322, 3485, 2185, 2494, 2091, 1777, 2573, 228, 59639, 1705, 1950, 10945, 2606, 17671, 2273, 27801, 17297, 40070, 6527, 121584, 17802, 114512, 33788, 21245, 7905, 869, 293, 36322, 2760, 522, 1628, 12336, 6437, 2797, 333, 59361, 79612, 8964, 43977, 13010, 58208, 9132, 21998, 50815, 4138, 20652, 6412, 2464, 6474, 2388, 1494, 1463, 1057, 1049, 109, 2073, 1116, 1125, 802, 4409, 686, 1154, 885, 2437, 716, 1867, 91, 586, 601, 81, 1018, 1448, 1296, 1299, 1769, 20073, 601, 2281, 83737, 20890, 48650, 1945, 18496, 1193, 4905, 1699, 11812, 746, 189, 1419, 1237, 1703, 1849, 5397, 4410, 1554, 4499, 1993, 424, 3782, 1551, 954, 7304, 15462, 6958, 964, 3571, 2421, 21689, 5542, 7922, 7055, 767, 3766, 70773, 2497, 799, 41478, 867, 2097, 5533, 534, 197, 533, 1036, 4503, 8592, 183, 903, 1236, 305, 1544, 1020, 325, 3227, 659, 2528, 550, 1032, 1142, 1766, 912, 1305, 653, 3411, 11533, 3397, 7865, 715, 988, 4405, 1936, 11666, 361, 30531, 88, 55, 494, 1294, 976, 1586, 1550, 1209, 850, 5421, 255, 707, 6856, 1007, 12952, 2299, 19, 1736, 2195, 47062, 4569, 3655, 15715, 578, 1747, 197, 4198, 540, 942, 2470, 478, 2558, 2178, 860, 2888, 3026, 2164, 10874, 1935, 1871, 7789, 10394, 17759, 4714, 3209, 14118, 11847, 11339, 1156, 1534, 1102, 783, 627, 891, 7484, 876, 1235, 1143, 450, 1442, 426, 2814, 4645, 13130, 3933, 2197, 1318, 1553, 2007, 1540, 1655, 12201, 1284, 869, 396, 7142, 1414, 9833, 604, 685, 549, 1220, 1588, 8371, 2570, 6117, 5368, 2225, 2086, 1732, 6751, 5228, 1477, 1626, 4529, 3254, 2267, 17463, 23669, 5301, 1033, 6909, 4040, 546, 2459, 1284, 1122, 13016, 1098, 481, 376, 898, 1393, 434, 394, 263, 1061, 1312, 764, 289, 4001, 5097, 3193, 11011, 3492, 3559, 2784, 5495, 2912, 9687, 3444, 12629, 1659, 1305, 651, 1926, 396, 1062, 578, 4735, 4306, 10917, 1701, 11080, 636, 1478, 362, 8337, 702, 2698, 177, 714, 1062, 1552, 102, 613, 2152, 1063, 3142, 1566, 2306, 633, 2859, 299, 1002, 631, 1386, 2355, 6742, 1853, 252, 1302, 1658, 15092, 165, 4333, 976, 1276, 1476, 5351, 2402, 6402, 223, 654, 1262, 253, 1780, 1266, 2389, 1468, 838, 2649, 6000, 1839, 10689, 7449, 4157, 3388, 1343, 3399, 2510, 1537, 6134, 9355, 1024, 325, 166, 203, 1134, 216, 25, 1096, 770, 424, 755, 652, 4797, 2783, 8462, 5129, 5272, 2784, 3086, 6008, 16486, 2076, 1353, 3770, 722, 1404, 1688, 214, 788, 1128, 608, 359, 1532, 791, 395, 322, 151, 208, 385, 666, 237, 240, 5014, 3033, 458, 1779, 334, 222, 422, 227, 50, 194, 458, 61, 314, 586, 770, 735, 1299, 791, 426, 796, 1316, 8415, 1085, 817, 1275, 1526, 10110, 1832, 945, 1272, 442, 6315, 1322, 557, 540, 327, 358, 803, 1557, 1942, 279, 34, 1420, 1812, 2472, 1525, 2650, 2753, 2985, 2360, 948, 392, 944, 73110, 878, 1454, 7318, 555, 496, 436, 382, 1040, 306, 513, 300, 901], \"xaxis\": \"x\", \"yaxis\": \"y\"}],                        {\"barmode\": \"relative\", \"legend\": {\"tracegroupgap\": 0}, \"template\": {\"data\": {\"bar\": [{\"error_x\": {\"color\": \"#2a3f5f\"}, \"error_y\": {\"color\": \"#2a3f5f\"}, \"marker\": {\"line\": {\"color\": \"#E5ECF6\", \"width\": 0.5}}, \"type\": \"bar\"}], \"barpolar\": [{\"marker\": {\"line\": {\"color\": \"#E5ECF6\", \"width\": 0.5}}, \"type\": \"barpolar\"}], \"carpet\": [{\"aaxis\": {\"endlinecolor\": \"#2a3f5f\", \"gridcolor\": \"white\", \"linecolor\": \"white\", \"minorgridcolor\": \"white\", \"startlinecolor\": \"#2a3f5f\"}, \"baxis\": {\"endlinecolor\": \"#2a3f5f\", \"gridcolor\": \"white\", \"linecolor\": \"white\", \"minorgridcolor\": \"white\", \"startlinecolor\": \"#2a3f5f\"}, \"type\": \"carpet\"}], \"choropleth\": [{\"colorbar\": {\"outlinewidth\": 0, \"ticks\": \"\"}, \"type\": \"choropleth\"}], \"contour\": [{\"colorbar\": {\"outlinewidth\": 0, \"ticks\": \"\"}, \"colorscale\": [[0.0, \"#0d0887\"], [0.1111111111111111, \"#46039f\"], [0.2222222222222222, \"#7201a8\"], [0.3333333333333333, \"#9c179e\"], [0.4444444444444444, \"#bd3786\"], [0.5555555555555556, \"#d8576b\"], [0.6666666666666666, \"#ed7953\"], [0.7777777777777778, \"#fb9f3a\"], [0.8888888888888888, \"#fdca26\"], [1.0, \"#f0f921\"]], \"type\": \"contour\"}], \"contourcarpet\": [{\"colorbar\": {\"outlinewidth\": 0, \"ticks\": \"\"}, \"type\": \"contourcarpet\"}], \"heatmap\": [{\"colorbar\": {\"outlinewidth\": 0, \"ticks\": \"\"}, \"colorscale\": [[0.0, \"#0d0887\"], [0.1111111111111111, \"#46039f\"], [0.2222222222222222, \"#7201a8\"], [0.3333333333333333, \"#9c179e\"], [0.4444444444444444, \"#bd3786\"], [0.5555555555555556, \"#d8576b\"], [0.6666666666666666, \"#ed7953\"], [0.7777777777777778, \"#fb9f3a\"], [0.8888888888888888, \"#fdca26\"], [1.0, \"#f0f921\"]], \"type\": \"heatmap\"}], \"heatmapgl\": [{\"colorbar\": {\"outlinewidth\": 0, \"ticks\": \"\"}, \"colorscale\": [[0.0, \"#0d0887\"], [0.1111111111111111, \"#46039f\"], [0.2222222222222222, \"#7201a8\"], [0.3333333333333333, \"#9c179e\"], [0.4444444444444444, \"#bd3786\"], [0.5555555555555556, \"#d8576b\"], [0.6666666666666666, \"#ed7953\"], [0.7777777777777778, \"#fb9f3a\"], [0.8888888888888888, \"#fdca26\"], [1.0, \"#f0f921\"]], \"type\": \"heatmapgl\"}], \"histogram\": [{\"marker\": {\"colorbar\": {\"outlinewidth\": 0, \"ticks\": \"\"}}, \"type\": \"histogram\"}], \"histogram2d\": [{\"colorbar\": {\"outlinewidth\": 0, \"ticks\": \"\"}, \"colorscale\": [[0.0, \"#0d0887\"], [0.1111111111111111, \"#46039f\"], [0.2222222222222222, \"#7201a8\"], [0.3333333333333333, \"#9c179e\"], [0.4444444444444444, \"#bd3786\"], [0.5555555555555556, \"#d8576b\"], [0.6666666666666666, \"#ed7953\"], [0.7777777777777778, \"#fb9f3a\"], [0.8888888888888888, \"#fdca26\"], [1.0, \"#f0f921\"]], \"type\": \"histogram2d\"}], \"histogram2dcontour\": [{\"colorbar\": {\"outlinewidth\": 0, \"ticks\": \"\"}, \"colorscale\": [[0.0, \"#0d0887\"], [0.1111111111111111, \"#46039f\"], [0.2222222222222222, \"#7201a8\"], [0.3333333333333333, \"#9c179e\"], [0.4444444444444444, \"#bd3786\"], [0.5555555555555556, \"#d8576b\"], [0.6666666666666666, \"#ed7953\"], [0.7777777777777778, \"#fb9f3a\"], [0.8888888888888888, \"#fdca26\"], [1.0, \"#f0f921\"]], \"type\": \"histogram2dcontour\"}], \"mesh3d\": [{\"colorbar\": {\"outlinewidth\": 0, \"ticks\": \"\"}, \"type\": \"mesh3d\"}], \"parcoords\": [{\"line\": {\"colorbar\": {\"outlinewidth\": 0, \"ticks\": \"\"}}, \"type\": \"parcoords\"}], \"pie\": [{\"automargin\": true, \"type\": \"pie\"}], \"scatter\": [{\"marker\": {\"colorbar\": {\"outlinewidth\": 0, \"ticks\": \"\"}}, \"type\": \"scatter\"}], \"scatter3d\": [{\"line\": {\"colorbar\": {\"outlinewidth\": 0, \"ticks\": \"\"}}, \"marker\": {\"colorbar\": {\"outlinewidth\": 0, \"ticks\": \"\"}}, \"type\": \"scatter3d\"}], \"scattercarpet\": [{\"marker\": {\"colorbar\": {\"outlinewidth\": 0, \"ticks\": \"\"}}, \"type\": \"scattercarpet\"}], \"scattergeo\": [{\"marker\": {\"colorbar\": {\"outlinewidth\": 0, \"ticks\": \"\"}}, \"type\": \"scattergeo\"}], \"scattergl\": [{\"marker\": {\"colorbar\": {\"outlinewidth\": 0, \"ticks\": \"\"}}, \"type\": \"scattergl\"}], \"scattermapbox\": [{\"marker\": {\"colorbar\": {\"outlinewidth\": 0, \"ticks\": \"\"}}, \"type\": \"scattermapbox\"}], \"scatterpolar\": [{\"marker\": {\"colorbar\": {\"outlinewidth\": 0, \"ticks\": \"\"}}, \"type\": \"scatterpolar\"}], \"scatterpolargl\": [{\"marker\": {\"colorbar\": {\"outlinewidth\": 0, \"ticks\": \"\"}}, \"type\": \"scatterpolargl\"}], \"scatterternary\": [{\"marker\": {\"colorbar\": {\"outlinewidth\": 0, \"ticks\": \"\"}}, \"type\": \"scatterternary\"}], \"surface\": [{\"colorbar\": {\"outlinewidth\": 0, \"ticks\": \"\"}, \"colorscale\": [[0.0, \"#0d0887\"], [0.1111111111111111, \"#46039f\"], [0.2222222222222222, \"#7201a8\"], [0.3333333333333333, \"#9c179e\"], [0.4444444444444444, \"#bd3786\"], [0.5555555555555556, \"#d8576b\"], [0.6666666666666666, \"#ed7953\"], [0.7777777777777778, \"#fb9f3a\"], [0.8888888888888888, \"#fdca26\"], [1.0, \"#f0f921\"]], \"type\": \"surface\"}], \"table\": [{\"cells\": {\"fill\": {\"color\": \"#EBF0F8\"}, \"line\": {\"color\": \"white\"}}, \"header\": {\"fill\": {\"color\": \"#C8D4E3\"}, \"line\": {\"color\": \"white\"}}, \"type\": \"table\"}]}, \"layout\": {\"annotationdefaults\": {\"arrowcolor\": \"#2a3f5f\", \"arrowhead\": 0, \"arrowwidth\": 1}, \"autotypenumbers\": \"strict\", \"coloraxis\": {\"colorbar\": {\"outlinewidth\": 0, \"ticks\": \"\"}}, \"colorscale\": {\"diverging\": [[0, \"#8e0152\"], [0.1, \"#c51b7d\"], [0.2, \"#de77ae\"], [0.3, \"#f1b6da\"], [0.4, \"#fde0ef\"], [0.5, \"#f7f7f7\"], [0.6, \"#e6f5d0\"], [0.7, \"#b8e186\"], [0.8, \"#7fbc41\"], [0.9, \"#4d9221\"], [1, \"#276419\"]], \"sequential\": [[0.0, \"#0d0887\"], [0.1111111111111111, \"#46039f\"], [0.2222222222222222, \"#7201a8\"], [0.3333333333333333, \"#9c179e\"], [0.4444444444444444, \"#bd3786\"], [0.5555555555555556, \"#d8576b\"], [0.6666666666666666, \"#ed7953\"], [0.7777777777777778, \"#fb9f3a\"], [0.8888888888888888, \"#fdca26\"], [1.0, \"#f0f921\"]], \"sequentialminus\": [[0.0, \"#0d0887\"], [0.1111111111111111, \"#46039f\"], [0.2222222222222222, \"#7201a8\"], [0.3333333333333333, \"#9c179e\"], [0.4444444444444444, \"#bd3786\"], [0.5555555555555556, \"#d8576b\"], [0.6666666666666666, \"#ed7953\"], [0.7777777777777778, \"#fb9f3a\"], [0.8888888888888888, \"#fdca26\"], [1.0, \"#f0f921\"]]}, \"colorway\": [\"#636efa\", \"#EF553B\", \"#00cc96\", \"#ab63fa\", \"#FFA15A\", \"#19d3f3\", \"#FF6692\", \"#B6E880\", \"#FF97FF\", \"#FECB52\"], \"font\": {\"color\": \"#2a3f5f\"}, \"geo\": {\"bgcolor\": \"white\", \"lakecolor\": \"white\", \"landcolor\": \"#E5ECF6\", \"showlakes\": true, \"showland\": true, \"subunitcolor\": \"white\"}, \"hoverlabel\": {\"align\": \"left\"}, \"hovermode\": \"closest\", \"mapbox\": {\"style\": \"light\"}, \"paper_bgcolor\": \"white\", \"plot_bgcolor\": \"#E5ECF6\", \"polar\": {\"angularaxis\": {\"gridcolor\": \"white\", \"linecolor\": \"white\", \"ticks\": \"\"}, \"bgcolor\": \"#E5ECF6\", \"radialaxis\": {\"gridcolor\": \"white\", \"linecolor\": \"white\", \"ticks\": \"\"}}, \"scene\": {\"xaxis\": {\"backgroundcolor\": \"#E5ECF6\", \"gridcolor\": \"white\", \"gridwidth\": 2, \"linecolor\": \"white\", \"showbackground\": true, \"ticks\": \"\", \"zerolinecolor\": \"white\"}, \"yaxis\": {\"backgroundcolor\": \"#E5ECF6\", \"gridcolor\": \"white\", \"gridwidth\": 2, \"linecolor\": \"white\", \"showbackground\": true, \"ticks\": \"\", \"zerolinecolor\": \"white\"}, \"zaxis\": {\"backgroundcolor\": \"#E5ECF6\", \"gridcolor\": \"white\", \"gridwidth\": 2, \"linecolor\": \"white\", \"showbackground\": true, \"ticks\": \"\", \"zerolinecolor\": \"white\"}}, \"shapedefaults\": {\"line\": {\"color\": \"#2a3f5f\"}}, \"ternary\": {\"aaxis\": {\"gridcolor\": \"white\", \"linecolor\": \"white\", \"ticks\": \"\"}, \"baxis\": {\"gridcolor\": \"white\", \"linecolor\": \"white\", \"ticks\": \"\"}, \"bgcolor\": \"#E5ECF6\", \"caxis\": {\"gridcolor\": \"white\", \"linecolor\": \"white\", \"ticks\": \"\"}}, \"title\": {\"x\": 0.05}, \"xaxis\": {\"automargin\": true, \"gridcolor\": \"white\", \"linecolor\": \"white\", \"ticks\": \"\", \"title\": {\"standoff\": 15}, \"zerolinecolor\": \"white\", \"zerolinewidth\": 2}, \"yaxis\": {\"automargin\": true, \"gridcolor\": \"white\", \"linecolor\": \"white\", \"ticks\": \"\", \"title\": {\"standoff\": 15}, \"zerolinecolor\": \"white\", \"zerolinewidth\": 2}}}, \"title\": {\"text\": \"Number of Subscribers of UDEMY Courses\"}, \"xaxis\": {\"anchor\": \"y\", \"domain\": [0.0, 1.0], \"title\": {\"text\": \"num_subscribers\"}}, \"yaxis\": {\"anchor\": \"x\", \"domain\": [0.0, 1.0], \"title\": {\"text\": \"count\"}}},                        {\"responsive\": true}                    ).then(function(){\n",
       "                            \n",
       "var gd = document.getElementById('a493ec49-cd82-46ef-b89a-6ee5e4ee4180');\n",
       "var x = new MutationObserver(function (mutations, observer) {{\n",
       "        var display = window.getComputedStyle(gd).display;\n",
       "        if (!display || display === 'none') {{\n",
       "            console.log([gd, 'removed!']);\n",
       "            Plotly.purge(gd);\n",
       "            observer.disconnect();\n",
       "        }}\n",
       "}});\n",
       "\n",
       "// Listen for the removal of the full notebook cells\n",
       "var notebookContainer = gd.closest('#notebook-container');\n",
       "if (notebookContainer) {{\n",
       "    x.observe(notebookContainer, {childList: true});\n",
       "}}\n",
       "\n",
       "// Listen for the clearing of the current output cell\n",
       "var outputEl = gd.closest('.output');\n",
       "if (outputEl) {{\n",
       "    x.observe(outputEl, {childList: true});\n",
       "}}\n",
       "\n",
       "                        })                };                });            </script>        </div>"
      ]
     },
     "metadata": {},
     "output_type": "display_data"
    }
   ],
   "source": [
    "fig = px.histogram(df, x= 'num_subscribers', title='Number of Subscribers of UDEMY Courses')\n",
    "\n",
    "fig.show()"
   ]
  },
  {
   "cell_type": "markdown",
   "id": "silver-bernard",
   "metadata": {
    "papermill": {
     "duration": 0.057189,
     "end_time": "2021-07-07T21:05:31.282425",
     "exception": false,
     "start_time": "2021-07-07T21:05:31.225236",
     "status": "completed"
    },
    "tags": []
   },
   "source": [
    "Number of subscribers ranges from 0 to 268923, highly skewed distribution. "
   ]
  },
  {
   "cell_type": "markdown",
   "id": "generic-operations",
   "metadata": {
    "papermill": {
     "duration": 0.056977,
     "end_time": "2021-07-07T21:05:31.401930",
     "exception": false,
     "start_time": "2021-07-07T21:05:31.344953",
     "status": "completed"
    },
    "tags": []
   },
   "source": [
    "#### **Number of Reviews of UDEMY Courses**"
   ]
  },
  {
   "cell_type": "code",
   "execution_count": 13,
   "id": "accessory-shepherd",
   "metadata": {
    "_kg_hide-input": true,
    "execution": {
     "iopub.execute_input": "2021-07-07T21:05:31.534825Z",
     "iopub.status.busy": "2021-07-07T21:05:31.533966Z",
     "iopub.status.idle": "2021-07-07T21:05:31.593839Z",
     "shell.execute_reply": "2021-07-07T21:05:31.593257Z",
     "shell.execute_reply.started": "2021-07-07T20:45:36.325027Z"
    },
    "papermill": {
     "duration": 0.134934,
     "end_time": "2021-07-07T21:05:31.594058",
     "exception": false,
     "start_time": "2021-07-07T21:05:31.459124",
     "status": "completed"
    },
    "tags": []
   },
   "outputs": [
    {
     "data": {
      "text/html": [
       "<div>                            <div id=\"5208c52f-8f6a-466e-83cd-d6a0dd346fb6\" class=\"plotly-graph-div\" style=\"height:525px; width:100%;\"></div>            <script type=\"text/javascript\">                require([\"plotly\"], function(Plotly) {                    window.PLOTLYENV=window.PLOTLYENV || {};                                    if (document.getElementById(\"5208c52f-8f6a-466e-83cd-d6a0dd346fb6\")) {                    Plotly.newPlot(                        \"5208c52f-8f6a-466e-83cd-d6a0dd346fb6\",                        [{\"alignmentgroup\": \"True\", \"bingroup\": \"x\", \"hovertemplate\": \"num_reviews=%{x}<br>count=%{y}<extra></extra>\", \"legendgroup\": \"\", \"marker\": {\"color\": \"#636efa\"}, \"name\": \"\", \"offsetgroup\": \"\", \"orientation\": \"v\", \"showlegend\": false, \"type\": \"histogram\", \"x\": [23, 923, 74, 11, 45, 138, 178, 148, 34, 14, 93, 42, 21, 52, 19, 106, 79, 115, 24, 249, 3, 84, 83, 38, 333, 518, 373, 237, 103, 25, 21, 171, 449, 11, 12, 118, 2476, 1118, 2697, 809, 2347, 278, 137, 1190, 1113, 594, 42, 872, 11, 65, 12, 71, 200, 23, 11, 83, 123, 169, 6, 2, 689, 600, 497, 340, 713, 158, 985, 461, 162, 506, 237, 218, 18, 240, 273, 16, 232, 331, 40, 244, 71, 225, 370, 340, 55, 69, 53, 212, 57, 15, 100, 5, 276, 402, 30, 66, 1, 18, 31, 19, 15, 25, 12, 2698, 13, 9, 620, 38, 151, 17, 19, 14, 794, 8, 16, 29, 8, 48, 48, 1463, 1, 194, 6, 48, 10, 11, 30, 35, 649, 54, 1, 3, 187, 9, 16, 14, 4, 149, 65, 4, 110, 140, 46, 4397, 101, 424, 96, 42, 12, 142, 25, 13, 16, 11, 43, 9, 2, 86, 21, 158, 351, 267, 15, 70, 6, 12, 31, 10, 34, 45, 54, 6, 25, 352, 7, 59, 102, 234, 265, 138, 67, 9, 252, 21, 23, 15, 24, 59, 23, 3, 31, 45, 2, 281, 54, 17, 42, 12, 22, 36, 139, 26, 12, 12, 3, 16, 207, 32, 64, 161, 4, 15, 107, 0, 6, 28, 12, 6, 16, 26, 44, 3, 9, 8, 29, 10, 55, 30, 33, 17, 4, 23, 24, 27, 13, 54, 12, 110, 117, 18, 80, 79, 48, 23, 15, 31, 19, 40, 32, 181, 1, 1, 1, 32, 1, 1, 0, 5, 2, 2, 10, 6, 12, 47, 2, 117, 77, 185, 38, 20, 4, 11, 64, 8, 22, 9, 4, 3, 2, 3, 7, 6, 11, 258, 5, 11, 7, 57, 41, 5, 395, 12, 52, 14, 49, 11, 45, 799, 27, 43, 13, 36, 10, 51, 11, 5, 41, 6, 21, 6, 17, 2, 7, 5, 9, 14, 8, 5, 14, 18, 10, 33, 3, 38, 9, 4, 16, 10, 49, 81, 70, 1, 23, 24, 35, 7, 14, 17, 4, 41, 202, 4, 35, 12, 2, 46, 83, 31, 584, 22, 44, 17, 4, 51, 158, 154, 9, 21, 6, 14, 12, 14, 18, 48, 25, 33, 15, 8, 27, 11, 27, 224, 29, 7, 1440, 25, 21, 19, 31, 0, 95, 70, 12, 4, 32, 22, 54, 6, 12, 218, 137, 56, 8, 137, 20, 281, 33, 19, 52, 103, 89, 40, 17, 61, 92, 0, 1, 1, 0, 0, 1, 0, 1, 0, 1, 0, 2, 6, 3, 2, 6, 3, 4, 6, 3, 8, 2, 11, 6, 1, 10, 4, 29, 60, 7, 5, 4, 20, 4, 6, 5, 26, 3, 7, 11, 64, 16, 9, 19, 34, 56, 35, 6, 0, 0, 0, 0, 0, 0, 0, 0, 0, 0, 0, 0, 47, 10, 34, 13, 14, 2, 16, 10, 10, 2, 13, 10, 6, 2, 9, 4, 1, 1, 3, 53, 2, 1, 4, 11, 30, 44, 256, 936, 76, 712, 4, 58, 37, 5, 23, 38, 10, 70, 1, 20, 6, 33, 13, 8, 8, 6, 8, 11, 0, 0, 0, 0, 0, 0, 0, 0, 0, 0, 1, 0, 2, 12, 9, 36, 1, 15, 18, 7, 15, 24, 2, 25, 15, 4, 9, 9, 23, 9, 16, 47, 29, 20, 13, 25, 10, 8, 8, 3, 17, 3, 9, 11, 7, 22, 4, 10, 128, 33, 40, 34, 12, 48, 2, 135, 8, 444, 85, 635, 0, 0, 0, 0, 1, 2, 0, 0, 0, 0, 0, 0, 1, 1, 4, 1, 3, 7, 1, 2, 1, 7, 2, 5, 18, 3, 4, 18, 5, 3, 3, 25, 15, 14, 4, 3, 1, 2, 3, 10, 2, 1, 1, 6, 1, 1, 1, 1, 24, 13, 96, 24, 27, 109, 14, 7, 109, 84, 44, 15, 1, 1, 2, 2, 1, 0, 0, 2, 1, 3, 1, 3, 16, 49, 54, 20, 19, 32, 98, 27, 19, 34, 4, 24, 2, 2, 3, 3, 0, 3, 2, 2, 7, 0, 1, 2, 86, 890, 49, 40, 67, 55, 11, 20, 10, 13, 68, 39, 2, 2, 15, 4, 2, 2, 15, 1, 2, 2, 81, 3, 12, 12, 169, 13, 71, 12, 10, 61, 17, 39, 14, 40, 14, 3, 34, 55, 0, 12, 17, 45, 60, 45, 14, 2, 2, 7, 1, 30, 2, 9, 4, 25, 35, 7, 66, 5, 140, 11, 34, 1, 45, 13, 51, 2, 9, 23, 14, 58, 9, 69, 4, 5, 4, 5, 13, 3, 4, 6, 5, 4, 10, 11, 83, 30, 23, 11, 12, 3, 14, 17, 22, 6, 8, 2, 9, 3, 32, 3, 5, 5, 5, 10, 7, 5, 0, 0, 0, 0, 0, 0, 0, 0, 0, 0, 0, 0, 41, 63, 19, 56, 11, 14, 10, 8, 54, 8, 24, 4, 43, 11, 38, 5, 69, 12, 45, 27, 74, 6, 17, 7, 1, 1, 3, 1, 6, 3, 38, 6, 3, 37, 4, 9, 6, 351, 138, 70, 86, 192, 183, 60, 144, 6, 109, 5, 5, 48, 10, 102, 11, 11, 71, 4, 24, 8, 2, 4, 6, 4, 3, 3, 1, 1, 5, 5, 5, 6, 23, 12, 17, 12, 13, 90, 8, 120, 6, 10, 0, 14, 16, 2, 4, 33, 43, 4, 1, 0, 1, 1, 1, 1, 4, 0, 0, 0, 0, 0, 0, 0, 0, 0, 0, 0, 0, 25, 20, 10, 0, 25, 18, 12, 41, 21, 13, 25, 50, 11, 17, 7, 5, 13, 5, 10, 18, 17, 16, 5, 3, 0, 0, 0, 0, 0, 1, 1, 1, 2, 0, 0, 0, 2, 6, 2, 13, 3, 2, 2, 4, 2, 2, 2, 111, 28, 15, 43, 6, 6, 6, 5, 7, 20, 17, 13, 19, 13, 4, 3, 3, 3, 9, 15, 7, 5, 6, 42, 19, 7, 12, 1, 24, 7, 20, 16, 3, 2, 5, 76, 2, 4, 6, 2, 4, 1, 0, 4, 2, 3, 6, 2, 7, 7, 16, 4, 2, 9, 18, 16, 3, 11, 35, 14, 1, 0, 0, 0, 22, 2, 1, 0, 0, 1, 1, 0, 0, 0, 0, 1, 0, 0, 0, 0, 1, 0, 0, 1, 39, 14, 19, 16, 22, 36, 5, 41, 6, 210, 13, 200, 5, 0, 6, 5, 2, 3, 1, 5, 2, 3, 2, 1, 49, 135, 547, 230, 109, 145, 37, 47, 40, 51, 94, 23, 1, 3, 3, 2, 0, 1, 0, 0, 2, 1, 3, 1, 0, 0, 0, 0, 4, 1, 1, 2, 2, 0, 0, 0, 9, 16, 6, 11, 3, 306, 11, 4, 5, 2, 96, 3, 0, 0, 0, 0, 50, 0, 7, 3, 9, 0, 296, 819, 10, 48, 29, 1, 7, 40, 19, 52, 24, 28, 32, 19, 15, 92, 14, 142, 128, 19, 11, 71, 14, 8, 17, 5, 1, 8, 10, 3, 8, 17, 10, 1, 4, 7, 5, 14, 13, 62, 21, 78, 3, 25, 45, 16, 54, 22, 36, 4, 1, 5, 3, 8, 14, 7, 6, 8, 5, 4, 5, 22, 46, 31, 39, 37, 3, 60, 122, 28, 12, 7, 77, 46, 45, 22, 3, 3, 44, 30, 0, 3, 23, 21, 46, 8, 240, 50, 40, 44, 337, 15, 104, 424, 427, 182, 124, 11, 24, 6, 0, 1740, 2379, 447, 737, 754, 1629, 650, 479, 175, 382, 202, 102, 5, 5, 3, 6, 10, 76, 2, 21, 7, 50, 24, 24, 0, 0, 0, 0, 0, 0, 0, 0, 2, 26, 42, 21, 28, 95, 26, 39, 18, 122, 329, 17, 40, 311, 30, 205, 437, 466, 470, 10, 85, 99, 2, 18, 193, 220, 39, 3, 11, 11, 5, 57, 10, 39, 16, 20, 28, 63, 27, 54, 6, 109, 197, 41, 1041, 103, 12, 52, 20, 172, 16, 30, 92, 12, 88, 50, 245, 1, 25, 10, 31, 68, 15, 29, 8, 15, 16, 10, 11, 30, 42, 14, 15, 3, 11, 21, 5, 1, 3, 3, 9, 1, 2, 3, 1, 2, 1, 1, 49, 6, 3, 13, 10, 10, 14, 68, 5, 53, 0, 4, 40, 34, 8, 12, 13, 3, 8, 6, 25, 27, 12, 3, 158, 11, 29, 53, 20, 9, 29, 11, 5, 57, 203, 35, 24, 423, 26, 470, 58, 30, 61, 74, 49, 121, 38, 49, 6, 143, 5, 7, 654, 120, 15, 0, 15, 11, 46, 27, 1563, 61, 52, 8, 125, 143, 24, 0, 20, 6, 44, 26, 30, 21, 25, 51, 13, 8, 115, 2215, 62, 24, 28, 68, 4, 2, 0, 3, 190, 198, 108, 9, 42, 6, 96, 27, 24, 10, 2, 7, 11, 6, 28, 8, 5, 3, 16, 2, 30, 8, 12, 25, 17, 15, 10, 10, 42, 8, 2, 13, 162, 17, 9, 23, 5, 37, 48, 31, 576, 57, 49, 1779, 3, 0, 0, 0, 0, 0, 0, 0, 0, 0, 0, 0, 1, 5, 1, 3, 3, 4, 0, 0, 1, 0, 0, 1, 12, 26, 2, 15, 95, 26, 29, 40, 11, 117, 38, 17, 10, 33, 43, 49, 18, 4, 2, 10, 79, 9, 24, 40, 2, 1, 1, 1, 1, 14, 2, 2, 14, 0, 4, 4, 145, 128, 100, 21, 35, 38, 57, 15, 86, 481, 10, 25, 11, 11, 7, 9, 11, 4, 10, 10, 2, 8, 5, 3, 0, 1, 0, 0, 0, 0, 0, 1, 0, 0, 1, 1, 0, 0, 0, 0, 1, 0, 0, 0, 0, 0, 0, 0, 176, 11, 5, 109, 19, 28, 55, 27, 4, 46, 18, 17, 13, 13, 15, 0, 3, 5, 18, 6, 9, 27, 0, 5, 0, 0, 0, 0, 2, 0, 0, 0, 0, 0, 0, 0, 9, 20, 2, 23, 7, 16, 1, 23, 15, 12, 12, 5, 0, 0, 0, 0, 0, 0, 0, 0, 92, 45, 183, 25, 7, 24, 19, 5, 69, 388, 53, 18, 345, 39, 522, 8, 0, 0, 2, 0, 3, 0, 2, 0, 2, 0, 0, 0, 72, 43, 38, 20, 136, 24, 44, 20, 19, 155, 3, 1, 10, 2, 10, 6, 3, 1, 5, 9, 3, 57, 9, 1, 6, 7, 10, 5, 1, 31, 11, 6, 6, 4, 2, 8, 3, 5, 14, 2, 6, 10, 2, 8, 9, 13, 2, 1, 14, 1, 7, 26, 44, 99, 131, 25, 74, 35, 2, 29, 3, 7, 0, 1, 0, 1, 1, 3, 4, 3, 1, 4, 32, 5, 13, 36, 15, 121, 18, 6, 5, 3, 9, 5, 2, 2, 2, 6, 3, 4, 5, 4, 3, 3, 3, 8, 11, 13, 5, 8, 22, 35, 4, 25, 4, 9, 9, 3, 4, 5, 5, 5, 2, 2, 3, 0, 3, 0, 0, 0, 5, 3, 9, 7, 3, 1, 6, 2, 0, 1, 5, 1, 14, 7, 3, 9, 3, 4, 3, 5, 2, 8, 4, 10, 193, 11, 4, 11, 4, 6, 29, 10, 66, 52, 30, 10, 5, 5, 11, 12, 7, 20, 14, 13, 18, 21, 24, 21, 10, 12, 12, 39, 27, 5, 8, 9, 21, 9, 47, 12, 21, 16, 116, 3, 58, 157, 93, 15, 11, 11, 8, 57, 7, 6, 44, 6, 22, 43, 158, 19, 17, 7, 6, 10, 6, 4, 4, 8, 24, 7, 4, 30, 7, 15, 20, 4, 18, 18, 39, 8, 2, 20, 4, 13, 27, 14, 11, 9, 4, 41, 14, 6, 7, 5, 37, 19, 8, 8, 5, 357, 29, 19, 1042, 64, 29, 8, 34, 224, 82, 31, 38, 35, 11, 38, 15, 27, 12, 34, 31, 49, 46, 113, 21, 18, 308, 40, 9, 17, 1, 772, 52, 10, 4, 4, 9, 1, 28, 26, 3, 21, 5, 107, 9, 11, 8, 15, 3, 10, 11, 2, 6, 3, 28, 44, 40, 5, 331, 129, 71, 20, 18, 8, 5, 39, 15, 78, 30, 10, 39, 26, 13, 39, 38, 183, 398, 125, 79, 17, 4, 65, 88, 26, 410, 0, 6, 7676, 1340, 375, 2713, 2257, 159, 128, 718, 665, 79, 260, 33, 52, 13, 18, 1, 12, 3, 89, 6, 252, 37, 8, 8, 2, 1141, 3, 8, 15, 26, 5, 2, 10, 16, 34, 10, 3, 10, 2, 11, 101, 177, 1, 55, 173, 14, 20, 72, 26, 35, 4, 6, 3, 16, 19, 3, 54, 68, 21, 38, 276, 11, 175, 41, 192, 10, 136, 29, 107, 3, 2, 2, 2, 5, 45, 6, 4, 2, 7, 2, 4, 1, 4, 109, 25, 26, 15, 88, 136, 10, 6, 27, 4, 7, 9, 25, 33, 11, 4, 5, 35, 4, 2, 5, 28, 2, 3, 23, 4, 2, 0, 2, 2, 2, 1, 1, 1, 6, 1, 3, 4, 3, 1, 2, 2, 3, 2, 2, 1, 0, 0, 0, 0, 0, 0, 0, 0, 0, 0, 0, 0, 3, 2, 3, 6, 3, 64, 5, 7, 7, 4, 4, 12, 3, 3, 1, 1, 1, 1, 2, 0, 0, 2, 2, 0, 9, 8, 4, 10, 11, 17, 2, 3, 5, 7, 7, 6, 9, 0, 18, 6, 10, 5, 4, 5, 14, 3, 15, 8, 3, 5, 3, 33, 7, 3, 4, 15, 4, 161, 9, 22, 32, 263, 23, 42, 109, 4, 17, 12, 26, 5, 4, 1, 7, 6, 9, 5, 2, 4, 4, 6, 11, 3, 1, 2, 2, 4, 2, 1, 2, 1, 2, 1, 3, 1, 2, 2, 6, 7, 1, 3, 3, 30, 1, 1, 1, 1, 2, 1, 1, 2, 0, 4, 3, 3, 1, 2, 0, 1, 3, 7, 1, 3, 3, 3, 5, 2, 6, 1, 4, 2, 1, 1, 0, 0, 0, 0, 1, 0, 0, 0, 1, 0, 1, 0, 1, 1, 0, 1, 1, 0, 0, 3, 0, 0, 4, 11, 4, 3, 3, 2, 6, 8, 5, 7, 2, 7, 7, 3, 5, 3, 1, 5, 4, 8, 2, 3, 4, 1, 9, 7, 3, 6, 6, 5, 23, 16, 18, 3, 3, 8, 8, 8, 9, 4, 6, 8, 4, 2, 5, 8, 0, 4, 2, 7, 1, 2, 4, 4, 3, 1, 8, 2, 6, 3, 3, 3, 2, 4, 4, 4, 2, 6, 1, 12, 1, 7, 3, 3, 4, 1, 0, 5, 2, 1, 3, 1, 8, 3, 0, 0, 0, 0, 0, 0, 0, 0, 0, 0, 1, 0, 0, 2, 0, 0, 1, 1, 1, 1, 1, 1, 0, 1, 0, 0, 0, 0, 0, 0, 0, 0, 0, 1, 1, 0, 1, 1, 0, 0, 0, 0, 0, 0, 0, 0, 0, 0, 2, 12, 11, 25, 47, 3, 6, 20, 13, 13, 3, 3, 0, 14, 29, 1, 0, 28, 26, 12, 30, 1, 9, 1, 1, 1, 3, 4, 3, 2, 1, 1, 1, 1, 5, 0, 2, 2, 2, 2, 11, 3, 2, 5, 6, 21, 2, 11, 51, 17, 6, 4, 7, 19, 10, 21, 25, 9, 12, 3, 1, 0, 0, 0, 0, 0, 2, 0, 0, 0, 0, 0, 525, 285, 529, 206, 490, 202, 112, 359, 178, 210, 540, 351, 167, 253, 220, 106, 333, 147, 94, 217, 317, 218, 110, 131, 848, 506, 1017, 655, 820, 662, 1445, 1981, 104, 1358, 1304, 418, 73, 38, 52, 56, 59, 35, 21, 41, 200, 83, 324, 13, 41, 401, 198, 368, 137, 142, 116, 333, 193, 277, 220, 111, 223, 46, 340, 6, 76, 201, 75, 43, 53, 49, 31, 237, 783, 121, 312, 268, 117, 215, 212, 674, 165, 680, 395, 525, 188, 414, 1111, 331, 941, 129, 72, 179, 799, 836, 453, 997, 232, 20, 1220, 411, 89, 110, 8, 13, 82, 43, 23, 64, 31, 80, 0, 6512, 21, 75, 4047, 16, 7, 16, 30, 139, 473, 79, 56, 111, 34, 110, 118, 46, 1097, 35, 57, 173, 31, 159, 359, 276, 253, 78, 216, 219, 105, 2685, 96, 423, 94, 142, 16, 212, 102, 5, 210, 43, 81, 35, 169, 69, 970, 570, 901, 876, 303, 129, 286, 302, 629, 292, 262, 0, 62, 125, 164, 1342, 314, 178, 114, 47, 978, 43, 30, 522, 44, 101, 159, 63, 874, 68, 88, 243, 24, 63, 27, 160, 147, 37, 147, 220, 129, 53, 118, 29, 50, 231, 306, 125, 17, 38, 80, 291, 4, 9, 185, 138, 22, 23, 8, 10, 1838, 330, 1548, 531, 622, 660, 1090, 2408, 1846, 497, 116, 214, 193, 117, 627, 105, 931, 383, 134, 26, 329, 401, 685, 466, 64, 43, 65, 26, 523, 11, 16, 120, 20, 63, 131, 12, 514, 589, 28, 237, 276, 26, 742, 471, 174, 22, 231, 144, 92, 136, 90, 213, 8, 16, 144, 30, 92, 9, 64, 185, 15, 61, 10, 15, 81, 4, 188, 212, 10, 60, 258, 24, 53, 38, 49, 28, 92, 48, 228, 20, 93, 39, 32, 129, 22, 1005, 27, 34, 2575, 5924, 5, 44, 33, 183, 69, 24, 22, 129, 10, 129, 138, 52, 6, 15, 47, 52, 14, 15, 415, 463, 482, 224, 1813, 34, 260, 99, 247, 380, 44, 210, 450, 43, 17, 17, 95, 1112, 99, 27, 126, 78, 26, 137, 21, 8629, 69, 441, 154, 105, 17, 7, 354, 74, 750, 20, 108, 71, 15, 47, 51, 115, 96, 73, 112, 52, 46, 292, 44, 110, 31, 37, 16, 1, 52, 6, 53, 38, 63, 4, 14, 33, 38, 20, 5, 7, 21, 4, 23, 34, 26, 20, 65, 33, 50, 11, 12, 5, 72, 46, 74, 42, 30, 95, 34, 11, 14, 40, 17, 107, 358, 37, 45, 19, 166, 6, 20, 49, 165, 78, 62, 18, 54, 69, 102, 5, 145, 439, 44, 33, 31, 165, 29, 30, 172, 278, 17, 126, 137, 99, 242, 16, 85, 9, 91, 32, 239, 55, 23, 10, 18, 110, 8, 9, 16, 10, 33, 393, 34, 28, 40, 17, 92, 54, 34, 90, 121, 245, 27, 62, 15, 37, 15, 57, 57, 36, 77, 261, 53, 68, 39, 96, 20, 415, 4, 989, 25, 84, 25, 133, 215, 15, 145, 9, 11, 39, 63, 28, 117, 18, 40, 111, 131, 195, 1106, 141, 84, 19, 8, 31, 22, 38, 249, 2, 15, 56, 28, 52, 36, 92, 95, 25, 52, 37, 76, 134, 53, 12, 171, 46, 302, 95, 102, 92, 39, 435, 94, 216, 119, 28, 154, 169, 239, 106, 162, 235, 285, 107, 45, 13, 279, 99, 12, 10, 72, 99, 4, 7, 97, 311, 92, 39, 12, 2, 24, 11, 33, 28, 22, 10, 6, 58, 90, 50, 31, 141, 29, 32, 89, 138, 87, 52, 318, 44, 115, 206, 44, 58, 536, 106, 95, 89, 94, 28, 14, 64, 65, 4, 154, 36, 95, 416, 17, 93, 438, 40, 32, 111, 13, 136, 137, 8, 178, 32, 19, 14, 17, 14, 25, 60, 32, 130, 228, 81, 91, 235, 35, 31, 411, 28, 48, 8, 110, 365, 93, 602, 589, 139, 508, 137, 721, 55, 59, 360, 11, 2, 19, 13, 41, 48, 12, 50, 58, 13, 72, 74, 941, 1724, 527, 1213, 372, 688, 16, 983, 525, 620, 407, 174, 169, 185, 128, 4, 20, 35, 72, 27, 179, 49, 489, 39, 8, 21, 67, 12, 32, 15, 40, 42, 67, 102, 8, 150, 51, 1225, 384, 260, 382, 95, 28, 634, 434, 780, 526, 123, 16, 54, 149, 17, 28, 97, 25, 62, 21, 84, 8, 172, 850, 166, 1883, 1375, 828, 737, 19649, 1955, 4316, 676, 3809, 3137, 223, 171, 22, 283, 303, 86, 35, 103, 9, 2692, 26, 33, 1286, 241, 4675, 288, 4340, 3166, 8341, 1384, 27445, 2144, 22412, 4434, 914, 561, 99, 30, 2618, 76, 50, 162, 271, 313, 59, 22, 11580, 16976, 1893, 7106, 2709, 11123, 1560, 3326, 15117, 307, 6357, 987, 17, 86, 139, 23, 56, 22, 22, 17, 24, 62, 10, 6, 71, 19, 89, 3, 137, 59, 19, 5, 65, 4, 14, 28, 173, 22, 56, 49, 615, 126, 32, 4598, 945, 1236, 58, 386, 87, 101, 8, 152, 93, 7, 38, 16, 27, 29, 112, 52, 30, 138, 55, 85, 32, 42, 183, 368, 689, 132, 19, 18, 6, 1080, 54, 183, 166, 104, 135, 5660, 98, 87, 2104, 177, 16, 137, 16, 26, 54, 27, 146, 336, 30, 3, 18, 45, 15, 46, 50, 19, 64, 15, 15, 9, 148, 38, 128, 38, 20, 84, 240, 12, 241, 12, 23, 71, 88, 546, 26, 1948, 8, 13, 46, 11, 29, 87, 15, 8, 12, 93, 5, 59, 137, 96, 163, 11, 2, 79, 10, 5590, 108, 85, 406, 40, 13, 11, 145, 11, 161, 24, 37, 12, 22, 201, 26, 60, 290, 114, 17, 154, 59, 33, 64, 149, 58, 30, 57, 43, 13, 33, 12, 20, 126, 101, 304, 59, 25, 34, 61, 9, 4, 14, 171, 346, 23, 9, 78, 35, 10, 19, 10, 217, 46, 125, 6, 41, 14, 241, 47, 37, 49, 16, 8, 212, 17, 188, 78, 14, 56, 15, 44, 180, 17, 81, 54, 92, 17, 283, 521, 174, 16, 401, 72, 69, 107, 173, 5, 286, 15, 75, 19, 132, 40, 69, 78, 14, 8, 19, 7, 30, 8, 196, 10, 13, 61, 24, 221, 52, 309, 59, 35, 88, 73, 25, 52, 9, 130, 12, 6, 81, 163, 319, 125, 165, 33, 18, 19, 300, 21, 29, 19, 48, 20, 14, 27, 135, 19, 101, 117, 29, 3, 104, 42, 75, 7, 103, 17, 143, 1036, 34, 46, 18, 72, 1234, 13, 16, 93, 245, 27, 235, 26, 104, 26, 86, 36, 34, 15, 90, 7, 54, 13, 16, 21, 91, 394, 91, 206, 67, 11, 85, 21, 8, 93, 390, 14, 37, 21, 33, 9, 28, 4, 33, 65, 45, 0, 48, 97, 9, 50, 183, 111, 425, 17, 203, 86, 125, 53, 108, 53, 7, 16, 34, 21, 77, 88, 45, 19, 29, 26, 9, 40, 48, 39, 89, 22, 45, 196, 91, 2, 48, 41, 9, 86, 16, 5, 26, 28, 9, 43, 10, 0, 16, 15, 8, 4, 3, 22, 56, 8, 164, 11, 72, 379, 6, 17, 31, 48, 53, 14, 39, 13, 26, 0, 2, 13, 23, 37, 2, 62, 112, 41, 43, 61, 10, 40, 12, 193, 81, 1, 1716, 6, 14, 205, 89, 113, 36, 28, 14, 3, 169, 31, 36], \"xaxis\": \"x\", \"yaxis\": \"y\"}],                        {\"barmode\": \"relative\", \"legend\": {\"tracegroupgap\": 0}, \"template\": {\"data\": {\"bar\": [{\"error_x\": {\"color\": \"#2a3f5f\"}, \"error_y\": {\"color\": \"#2a3f5f\"}, \"marker\": {\"line\": {\"color\": \"#E5ECF6\", \"width\": 0.5}}, \"type\": \"bar\"}], \"barpolar\": [{\"marker\": {\"line\": {\"color\": \"#E5ECF6\", \"width\": 0.5}}, \"type\": \"barpolar\"}], \"carpet\": [{\"aaxis\": {\"endlinecolor\": \"#2a3f5f\", \"gridcolor\": \"white\", \"linecolor\": \"white\", \"minorgridcolor\": \"white\", \"startlinecolor\": \"#2a3f5f\"}, \"baxis\": {\"endlinecolor\": \"#2a3f5f\", \"gridcolor\": \"white\", \"linecolor\": \"white\", \"minorgridcolor\": \"white\", \"startlinecolor\": \"#2a3f5f\"}, \"type\": \"carpet\"}], \"choropleth\": [{\"colorbar\": {\"outlinewidth\": 0, \"ticks\": \"\"}, \"type\": \"choropleth\"}], \"contour\": [{\"colorbar\": {\"outlinewidth\": 0, \"ticks\": \"\"}, \"colorscale\": [[0.0, \"#0d0887\"], [0.1111111111111111, \"#46039f\"], [0.2222222222222222, \"#7201a8\"], [0.3333333333333333, \"#9c179e\"], [0.4444444444444444, \"#bd3786\"], [0.5555555555555556, \"#d8576b\"], [0.6666666666666666, \"#ed7953\"], [0.7777777777777778, \"#fb9f3a\"], [0.8888888888888888, \"#fdca26\"], [1.0, \"#f0f921\"]], \"type\": \"contour\"}], \"contourcarpet\": [{\"colorbar\": {\"outlinewidth\": 0, \"ticks\": \"\"}, \"type\": \"contourcarpet\"}], \"heatmap\": [{\"colorbar\": {\"outlinewidth\": 0, \"ticks\": \"\"}, \"colorscale\": [[0.0, \"#0d0887\"], [0.1111111111111111, \"#46039f\"], [0.2222222222222222, \"#7201a8\"], [0.3333333333333333, \"#9c179e\"], [0.4444444444444444, \"#bd3786\"], [0.5555555555555556, \"#d8576b\"], [0.6666666666666666, \"#ed7953\"], [0.7777777777777778, \"#fb9f3a\"], [0.8888888888888888, \"#fdca26\"], [1.0, \"#f0f921\"]], \"type\": \"heatmap\"}], \"heatmapgl\": [{\"colorbar\": {\"outlinewidth\": 0, \"ticks\": \"\"}, \"colorscale\": [[0.0, \"#0d0887\"], [0.1111111111111111, \"#46039f\"], [0.2222222222222222, \"#7201a8\"], [0.3333333333333333, \"#9c179e\"], [0.4444444444444444, \"#bd3786\"], [0.5555555555555556, \"#d8576b\"], [0.6666666666666666, \"#ed7953\"], [0.7777777777777778, \"#fb9f3a\"], [0.8888888888888888, \"#fdca26\"], [1.0, \"#f0f921\"]], \"type\": \"heatmapgl\"}], \"histogram\": [{\"marker\": {\"colorbar\": {\"outlinewidth\": 0, \"ticks\": \"\"}}, \"type\": \"histogram\"}], \"histogram2d\": [{\"colorbar\": {\"outlinewidth\": 0, \"ticks\": \"\"}, \"colorscale\": [[0.0, \"#0d0887\"], [0.1111111111111111, \"#46039f\"], [0.2222222222222222, \"#7201a8\"], [0.3333333333333333, \"#9c179e\"], [0.4444444444444444, \"#bd3786\"], [0.5555555555555556, \"#d8576b\"], [0.6666666666666666, \"#ed7953\"], [0.7777777777777778, \"#fb9f3a\"], [0.8888888888888888, \"#fdca26\"], [1.0, \"#f0f921\"]], \"type\": \"histogram2d\"}], \"histogram2dcontour\": [{\"colorbar\": {\"outlinewidth\": 0, \"ticks\": \"\"}, \"colorscale\": [[0.0, \"#0d0887\"], [0.1111111111111111, \"#46039f\"], [0.2222222222222222, \"#7201a8\"], [0.3333333333333333, \"#9c179e\"], [0.4444444444444444, \"#bd3786\"], [0.5555555555555556, \"#d8576b\"], [0.6666666666666666, \"#ed7953\"], [0.7777777777777778, \"#fb9f3a\"], [0.8888888888888888, \"#fdca26\"], [1.0, \"#f0f921\"]], \"type\": \"histogram2dcontour\"}], \"mesh3d\": [{\"colorbar\": {\"outlinewidth\": 0, \"ticks\": \"\"}, \"type\": \"mesh3d\"}], \"parcoords\": [{\"line\": {\"colorbar\": {\"outlinewidth\": 0, \"ticks\": \"\"}}, \"type\": \"parcoords\"}], \"pie\": [{\"automargin\": true, \"type\": \"pie\"}], \"scatter\": [{\"marker\": {\"colorbar\": {\"outlinewidth\": 0, \"ticks\": \"\"}}, \"type\": \"scatter\"}], \"scatter3d\": [{\"line\": {\"colorbar\": {\"outlinewidth\": 0, \"ticks\": \"\"}}, \"marker\": {\"colorbar\": {\"outlinewidth\": 0, \"ticks\": \"\"}}, \"type\": \"scatter3d\"}], \"scattercarpet\": [{\"marker\": {\"colorbar\": {\"outlinewidth\": 0, \"ticks\": \"\"}}, \"type\": \"scattercarpet\"}], \"scattergeo\": [{\"marker\": {\"colorbar\": {\"outlinewidth\": 0, \"ticks\": \"\"}}, \"type\": \"scattergeo\"}], \"scattergl\": [{\"marker\": {\"colorbar\": {\"outlinewidth\": 0, \"ticks\": \"\"}}, \"type\": \"scattergl\"}], \"scattermapbox\": [{\"marker\": {\"colorbar\": {\"outlinewidth\": 0, \"ticks\": \"\"}}, \"type\": \"scattermapbox\"}], \"scatterpolar\": [{\"marker\": {\"colorbar\": {\"outlinewidth\": 0, \"ticks\": \"\"}}, \"type\": \"scatterpolar\"}], \"scatterpolargl\": [{\"marker\": {\"colorbar\": {\"outlinewidth\": 0, \"ticks\": \"\"}}, \"type\": \"scatterpolargl\"}], \"scatterternary\": [{\"marker\": {\"colorbar\": {\"outlinewidth\": 0, \"ticks\": \"\"}}, \"type\": \"scatterternary\"}], \"surface\": [{\"colorbar\": {\"outlinewidth\": 0, \"ticks\": \"\"}, \"colorscale\": [[0.0, \"#0d0887\"], [0.1111111111111111, \"#46039f\"], [0.2222222222222222, \"#7201a8\"], [0.3333333333333333, \"#9c179e\"], [0.4444444444444444, \"#bd3786\"], [0.5555555555555556, \"#d8576b\"], [0.6666666666666666, \"#ed7953\"], [0.7777777777777778, \"#fb9f3a\"], [0.8888888888888888, \"#fdca26\"], [1.0, \"#f0f921\"]], \"type\": \"surface\"}], \"table\": [{\"cells\": {\"fill\": {\"color\": \"#EBF0F8\"}, \"line\": {\"color\": \"white\"}}, \"header\": {\"fill\": {\"color\": \"#C8D4E3\"}, \"line\": {\"color\": \"white\"}}, \"type\": \"table\"}]}, \"layout\": {\"annotationdefaults\": {\"arrowcolor\": \"#2a3f5f\", \"arrowhead\": 0, \"arrowwidth\": 1}, \"autotypenumbers\": \"strict\", \"coloraxis\": {\"colorbar\": {\"outlinewidth\": 0, \"ticks\": \"\"}}, \"colorscale\": {\"diverging\": [[0, \"#8e0152\"], [0.1, \"#c51b7d\"], [0.2, \"#de77ae\"], [0.3, \"#f1b6da\"], [0.4, \"#fde0ef\"], [0.5, \"#f7f7f7\"], [0.6, \"#e6f5d0\"], [0.7, \"#b8e186\"], [0.8, \"#7fbc41\"], [0.9, \"#4d9221\"], [1, \"#276419\"]], \"sequential\": [[0.0, \"#0d0887\"], [0.1111111111111111, \"#46039f\"], [0.2222222222222222, \"#7201a8\"], [0.3333333333333333, \"#9c179e\"], [0.4444444444444444, \"#bd3786\"], [0.5555555555555556, \"#d8576b\"], [0.6666666666666666, \"#ed7953\"], [0.7777777777777778, \"#fb9f3a\"], [0.8888888888888888, \"#fdca26\"], [1.0, \"#f0f921\"]], \"sequentialminus\": [[0.0, \"#0d0887\"], [0.1111111111111111, \"#46039f\"], [0.2222222222222222, \"#7201a8\"], [0.3333333333333333, \"#9c179e\"], [0.4444444444444444, \"#bd3786\"], [0.5555555555555556, \"#d8576b\"], [0.6666666666666666, \"#ed7953\"], [0.7777777777777778, \"#fb9f3a\"], [0.8888888888888888, \"#fdca26\"], [1.0, \"#f0f921\"]]}, \"colorway\": [\"#636efa\", \"#EF553B\", \"#00cc96\", \"#ab63fa\", \"#FFA15A\", \"#19d3f3\", \"#FF6692\", \"#B6E880\", \"#FF97FF\", \"#FECB52\"], \"font\": {\"color\": \"#2a3f5f\"}, \"geo\": {\"bgcolor\": \"white\", \"lakecolor\": \"white\", \"landcolor\": \"#E5ECF6\", \"showlakes\": true, \"showland\": true, \"subunitcolor\": \"white\"}, \"hoverlabel\": {\"align\": \"left\"}, \"hovermode\": \"closest\", \"mapbox\": {\"style\": \"light\"}, \"paper_bgcolor\": \"white\", \"plot_bgcolor\": \"#E5ECF6\", \"polar\": {\"angularaxis\": {\"gridcolor\": \"white\", \"linecolor\": \"white\", \"ticks\": \"\"}, \"bgcolor\": \"#E5ECF6\", \"radialaxis\": {\"gridcolor\": \"white\", \"linecolor\": \"white\", \"ticks\": \"\"}}, \"scene\": {\"xaxis\": {\"backgroundcolor\": \"#E5ECF6\", \"gridcolor\": \"white\", \"gridwidth\": 2, \"linecolor\": \"white\", \"showbackground\": true, \"ticks\": \"\", \"zerolinecolor\": \"white\"}, \"yaxis\": {\"backgroundcolor\": \"#E5ECF6\", \"gridcolor\": \"white\", \"gridwidth\": 2, \"linecolor\": \"white\", \"showbackground\": true, \"ticks\": \"\", \"zerolinecolor\": \"white\"}, \"zaxis\": {\"backgroundcolor\": \"#E5ECF6\", \"gridcolor\": \"white\", \"gridwidth\": 2, \"linecolor\": \"white\", \"showbackground\": true, \"ticks\": \"\", \"zerolinecolor\": \"white\"}}, \"shapedefaults\": {\"line\": {\"color\": \"#2a3f5f\"}}, \"ternary\": {\"aaxis\": {\"gridcolor\": \"white\", \"linecolor\": \"white\", \"ticks\": \"\"}, \"baxis\": {\"gridcolor\": \"white\", \"linecolor\": \"white\", \"ticks\": \"\"}, \"bgcolor\": \"#E5ECF6\", \"caxis\": {\"gridcolor\": \"white\", \"linecolor\": \"white\", \"ticks\": \"\"}}, \"title\": {\"x\": 0.05}, \"xaxis\": {\"automargin\": true, \"gridcolor\": \"white\", \"linecolor\": \"white\", \"ticks\": \"\", \"title\": {\"standoff\": 15}, \"zerolinecolor\": \"white\", \"zerolinewidth\": 2}, \"yaxis\": {\"automargin\": true, \"gridcolor\": \"white\", \"linecolor\": \"white\", \"ticks\": \"\", \"title\": {\"standoff\": 15}, \"zerolinecolor\": \"white\", \"zerolinewidth\": 2}}}, \"title\": {\"text\": \"Number of Reviews of UDEMY Courses\"}, \"xaxis\": {\"anchor\": \"y\", \"domain\": [0.0, 1.0], \"title\": {\"text\": \"num_reviews\"}}, \"yaxis\": {\"anchor\": \"x\", \"domain\": [0.0, 1.0], \"title\": {\"text\": \"count\"}}},                        {\"responsive\": true}                    ).then(function(){\n",
       "                            \n",
       "var gd = document.getElementById('5208c52f-8f6a-466e-83cd-d6a0dd346fb6');\n",
       "var x = new MutationObserver(function (mutations, observer) {{\n",
       "        var display = window.getComputedStyle(gd).display;\n",
       "        if (!display || display === 'none') {{\n",
       "            console.log([gd, 'removed!']);\n",
       "            Plotly.purge(gd);\n",
       "            observer.disconnect();\n",
       "        }}\n",
       "}});\n",
       "\n",
       "// Listen for the removal of the full notebook cells\n",
       "var notebookContainer = gd.closest('#notebook-container');\n",
       "if (notebookContainer) {{\n",
       "    x.observe(notebookContainer, {childList: true});\n",
       "}}\n",
       "\n",
       "// Listen for the clearing of the current output cell\n",
       "var outputEl = gd.closest('.output');\n",
       "if (outputEl) {{\n",
       "    x.observe(outputEl, {childList: true});\n",
       "}}\n",
       "\n",
       "                        })                };                });            </script>        </div>"
      ]
     },
     "metadata": {},
     "output_type": "display_data"
    }
   ],
   "source": [
    "fig = px.histogram(df, x= 'num_reviews', title='Number of Reviews of UDEMY Courses')\n",
    "\n",
    "fig.show()"
   ]
  },
  {
   "cell_type": "markdown",
   "id": "fourth-recipient",
   "metadata": {
    "papermill": {
     "duration": 0.057581,
     "end_time": "2021-07-07T21:05:31.709741",
     "exception": false,
     "start_time": "2021-07-07T21:05:31.652160",
     "status": "completed"
    },
    "tags": []
   },
   "source": [
    "Number of reviews ranges from 0 to 27445, highly skewed distribution. "
   ]
  },
  {
   "cell_type": "markdown",
   "id": "mounted-livestock",
   "metadata": {
    "papermill": {
     "duration": 0.058467,
     "end_time": "2021-07-07T21:05:31.827061",
     "exception": false,
     "start_time": "2021-07-07T21:05:31.768594",
     "status": "completed"
    },
    "tags": []
   },
   "source": [
    "#### **Number of Lectures of UDEMY Courses**"
   ]
  },
  {
   "cell_type": "code",
   "execution_count": 14,
   "id": "earned-lyric",
   "metadata": {
    "_kg_hide-input": true,
    "execution": {
     "iopub.execute_input": "2021-07-07T21:05:31.963715Z",
     "iopub.status.busy": "2021-07-07T21:05:31.962668Z",
     "iopub.status.idle": "2021-07-07T21:05:32.022827Z",
     "shell.execute_reply": "2021-07-07T21:05:32.022176Z",
     "shell.execute_reply.started": "2021-07-07T20:45:36.406799Z"
    },
    "papermill": {
     "duration": 0.138106,
     "end_time": "2021-07-07T21:05:32.022991",
     "exception": false,
     "start_time": "2021-07-07T21:05:31.884885",
     "status": "completed"
    },
    "tags": []
   },
   "outputs": [
    {
     "data": {
      "text/html": [
       "<div>                            <div id=\"c45724db-87cb-4241-a8b5-d15c9db2702e\" class=\"plotly-graph-div\" style=\"height:525px; width:100%;\"></div>            <script type=\"text/javascript\">                require([\"plotly\"], function(Plotly) {                    window.PLOTLYENV=window.PLOTLYENV || {};                                    if (document.getElementById(\"c45724db-87cb-4241-a8b5-d15c9db2702e\")) {                    Plotly.newPlot(                        \"c45724db-87cb-4241-a8b5-d15c9db2702e\",                        [{\"alignmentgroup\": \"True\", \"bingroup\": \"x\", \"hovertemplate\": \"num_lectures=%{x}<br>count=%{y}<extra></extra>\", \"legendgroup\": \"\", \"marker\": {\"color\": \"#636efa\"}, \"name\": \"\", \"offsetgroup\": \"\", \"orientation\": \"v\", \"showlegend\": false, \"type\": \"histogram\", \"x\": [51, 274, 51, 36, 26, 25, 26, 23, 38, 15, 76, 17, 19, 16, 42, 19, 16, 52, 23, 12, 25, 39, 16, 23, 40, 50, 42, 25, 81, 37, 41, 35, 80, 22, 28, 68, 52, 61, 138, 110, 174, 103, 79, 25, 227, 43, 35, 42, 46, 62, 53, 77, 23, 20, 17, 47, 33, 15, 11, 19, 40, 79, 38, 102, 40, 76, 45, 26, 26, 32, 28, 30, 15, 23, 45, 18, 60, 15, 39, 45, 54, 24, 134, 33, 5, 20, 10, 49, 19, 14, 49, 6, 108, 57, 9, 11, 14, 30, 60, 9, 6, 25, 20, 15, 20, 19, 23, 24, 51, 30, 16, 13, 9, 8, 462, 25, 5, 29, 59, 8, 42, 24, 284, 47, 35, 39, 20, 14, 17, 16, 18, 14, 20, 11, 28, 61, 26, 15, 23, 12, 55, 17, 45, 16, 59, 36, 34, 33, 23, 13, 29, 31, 34, 25, 25, 46, 17, 22, 43, 20, 544, 66, 36, 29, 43, 22, 14, 29, 34, 40, 13, 21, 42, 13, 19, 88, 10, 44, 54, 11, 24, 12, 10, 76, 23, 26, 24, 25, 27, 8, 34, 48, 22, 20, 5, 31, 14, 90, 21, 5, 7, 42, 15, 37, 54, 35, 9, 49, 9, 24, 6, 15, 97, 18, 8, 45, 18, 128, 19, 14, 55, 9, 28, 13, 23, 59, 16, 63, 18, 20, 11, 7, 46, 21, 7, 34, 12, 22, 24, 53, 38, 59, 25, 19, 28, 38, 15, 20, 9, 11, 38, 9, 16, 23, 19, 19, 47, 45, 38, 15, 51, 235, 37, 15, 31, 48, 52, 44, 14, 211, 29, 26, 24, 40, 19, 42, 15, 23, 10, 17, 30, 55, 100, 25, 12, 20, 16, 13, 19, 26, 5, 14, 15, 62, 43, 15, 82, 14, 81, 30, 45, 11, 16, 11, 16, 8, 21, 6, 18, 31, 39, 27, 97, 11, 22, 123, 14, 27, 11, 21, 23, 40, 10, 11, 33, 47, 43, 33, 21, 10, 332, 22, 9, 34, 46, 15, 39, 21, 272, 18, 6, 31, 16, 29, 6, 61, 10, 19, 12, 18, 69, 12, 7, 129, 15, 7, 316, 44, 11, 27, 6, 29, 19, 25, 62, 23, 37, 8, 28, 17, 61, 5, 70, 20, 17, 25, 14, 30, 138, 8, 13, 20, 12, 105, 66, 176, 32, 7, 13, 91, 18, 14, 29, 27, 15, 11, 44, 16, 41, 37, 11, 53, 48, 18, 21, 12, 5, 55, 8, 25, 19, 6, 108, 12, 9, 6, 7, 26, 14, 5, 15, 21, 15, 29, 28, 14, 43, 22, 17, 61, 42, 6, 16, 17, 12, 29, 21, 47, 5, 36, 9, 26, 9, 64, 21, 31, 17, 72, 4, 23, 35, 69, 11, 20, 27, 7, 9, 9, 9, 15, 11, 5, 16, 35, 18, 21, 19, 11, 35, 25, 30, 58, 19, 20, 18, 15, 18, 19, 63, 15, 26, 9, 58, 6, 29, 14, 72, 40, 12, 23, 22, 16, 24, 64, 26, 16, 22, 79, 12, 19, 211, 11, 14, 20, 11, 28, 142, 14, 24, 21, 27, 34, 24, 8, 12, 12, 6, 27, 21, 28, 43, 11, 25, 12, 10, 8, 19, 15, 395, 19, 194, 63, 30, 12, 19, 7, 36, 14, 12, 5, 27, 54, 32, 41, 20, 21, 88, 15, 18, 22, 18, 14, 20, 16, 14, 25, 24, 27, 25, 35, 13, 527, 74, 46, 9, 25, 13, 15, 11, 7, 15, 84, 14, 14, 9, 12, 20, 8, 14, 57, 33, 22, 23, 21, 13, 12, 14, 15, 17, 69, 87, 18, 21, 5, 15, 24, 66, 13, 15, 20, 17, 65, 13, 15, 18, 19, 21, 14, 18, 28, 11, 8, 13, 21, 48, 7, 13, 9, 8, 15, 6, 12, 41, 10, 33, 14, 24, 61, 24, 12, 37, 6, 29, 29, 16, 12, 42, 23, 52, 13, 19, 16, 15, 5, 15, 22, 22, 35, 20, 15, 27, 53, 105, 59, 16, 460, 11, 101, 17, 25, 14, 5, 22, 10, 5, 27, 24, 21, 6, 50, 18, 41, 54, 20, 16, 23, 20, 19, 52, 95, 70, 51, 10, 6, 5, 18, 17, 42, 107, 32, 16, 8, 5, 50, 33, 7, 29, 29, 34, 50, 50, 35, 17, 8, 28, 50, 12, 16, 20, 22, 24, 6, 41, 27, 30, 37, 29, 25, 6, 14, 15, 102, 10, 11, 113, 8, 39, 6, 17, 12, 5, 25, 8, 7, 6, 30, 6, 13, 17, 29, 15, 41, 11, 31, 8, 10, 22, 7, 7, 13, 32, 25, 10, 26, 25, 30, 69, 22, 12, 12, 13, 42, 49, 15, 20, 27, 10, 5, 71, 9, 24, 19, 28, 14, 15, 22, 145, 12, 10, 9, 9, 10, 12, 10, 9, 6, 9, 20, 27, 10, 44, 23, 6, 23, 19, 23, 19, 11, 38, 27, 20, 8, 11, 37, 24, 14, 29, 44, 26, 20, 13, 10, 13, 12, 14, 10, 8, 37, 22, 20, 57, 24, 5, 29, 75, 25, 17, 20, 41, 54, 11, 22, 55, 25, 19, 42, 17, 55, 42, 79, 6, 34, 16, 20, 35, 19, 17, 64, 10, 16, 5, 27, 28, 11, 11, 15, 26, 13, 12, 25, 26, 27, 38, 37, 5, 33, 5, 17, 9, 21, 444, 27, 54, 17, 33, 10, 24, 25, 33, 27, 6, 5, 33, 9, 12, 12, 7, 6, 10, 7, 6, 9, 0, 27, 10, 10, 14, 14, 21, 9, 14, 34, 35, 27, 64, 9, 12, 35, 28, 30, 6, 6, 77, 12, 45, 33, 37, 26, 18, 37, 31, 23, 10, 7, 127, 6, 12, 11, 59, 13, 59, 13, 13, 25, 14, 50, 22, 16, 26, 15, 17, 5, 98, 54, 21, 16, 286, 27, 14, 23, 27, 27, 10, 19, 28, 9, 12, 36, 8, 6, 20, 15, 9, 34, 34, 12, 25, 74, 26, 35, 13, 20, 17, 24, 22, 27, 120, 60, 11, 35, 19, 14, 12, 10, 12, 79, 36, 16, 19, 49, 28, 58, 7, 25, 6, 12, 13, 29, 7, 14, 18, 27, 21, 25, 6, 16, 27, 6, 28, 27, 19, 29, 5, 5, 39, 130, 48, 6, 6, 7, 12, 34, 24, 27, 22, 7, 10, 39, 25, 14, 11, 24, 29, 28, 33, 25, 36, 21, 13, 40, 45, 18, 9, 49, 12, 40, 29, 25, 24, 13, 27, 23, 7, 40, 45, 73, 16, 29, 38, 15, 28, 52, 14, 17, 14, 14, 36, 49, 5, 121, 27, 37, 8, 13, 11, 45, 20, 19, 8, 6, 12, 13, 10, 51, 41, 11, 10, 9, 42, 18, 35, 46, 10, 7, 27, 47, 14, 9, 53, 13, 35, 9, 13, 27, 7, 13, 22, 5, 15, 33, 14, 40, 15, 39, 24, 44, 44, 15, 39, 37, 19, 33, 11, 15, 75, 11, 46, 32, 12, 18, 26, 17, 16, 20, 32, 56, 21, 27, 158, 30, 16, 47, 27, 18, 48, 28, 59, 49, 241, 17, 50, 7, 29, 34, 13, 24, 86, 25, 22, 14, 26, 14, 21, 24, 17, 30, 21, 36, 54, 17, 11, 19, 15, 27, 18, 18, 60, 43, 19, 18, 8, 53, 72, 15, 34, 15, 16, 187, 11, 31, 41, 10, 8, 28, 23, 111, 86, 27, 15, 110, 15, 21, 85, 20, 26, 46, 9, 7, 25, 18, 65, 62, 150, 63, 65, 42, 41, 85, 79, 41, 54, 57, 18, 21, 33, 35, 29, 10, 10, 10, 35, 44, 50, 9, 9, 9, 29, 8, 14, 10, 12, 11, 21, 27, 18, 22, 12, 46, 42, 16, 10, 29, 43, 15, 21, 16, 24, 20, 26, 96, 134, 94, 71, 80, 20, 119, 33, 82, 24, 13, 27, 15, 25, 56, 15, 35, 20, 14, 55, 28, 28, 27, 8, 20, 12, 5, 22, 9, 15, 26, 8, 35, 14, 12, 25, 28, 78, 39, 11, 14, 13, 9, 24, 25, 8, 11, 5, 5, 7, 13, 12, 12, 11, 45, 10, 6, 9, 27, 122, 20, 5, 19, 124, 43, 8, 55, 12, 9, 11, 9, 163, 23, 19, 70, 8, 49, 31, 11, 63, 34, 12, 10, 77, 66, 20, 46, 19, 41, 53, 131, 36, 43, 48, 25, 13, 26, 44, 28, 43, 8, 17, 48, 12, 35, 22, 9, 33, 13, 10, 7, 17, 37, 67, 40, 25, 14, 35, 82, 34, 41, 16, 12, 31, 31, 62, 6, 56, 12, 33, 98, 45, 31, 79, 18, 77, 15, 15, 14, 12, 14, 19, 42, 62, 108, 19, 13, 16, 9, 18, 12, 77, 23, 16, 36, 9, 24, 15, 24, 141, 25, 25, 20, 20, 43, 51, 21, 24, 18, 29, 14, 35, 24, 118, 16, 26, 34, 82, 7, 25, 166, 37, 8, 11, 13, 5, 24, 36, 8, 26, 23, 19, 35, 36, 57, 23, 6, 105, 13, 18, 19, 29, 45, 12, 6, 7, 27, 34, 13, 14, 7, 8, 13, 5, 9, 21, 30, 5, 44, 22, 59, 49, 87, 24, 66, 11, 38, 14, 16, 26, 22, 6, 45, 37, 39, 18, 74, 44, 8, 16, 14, 62, 88, 19, 9, 18, 50, 154, 29, 15, 158, 18, 11, 5, 7, 8, 9, 30, 17, 30, 9, 185, 11, 37, 111, 9, 54, 11, 13, 30, 11, 17, 12, 11, 16, 6, 19, 26, 9, 21, 17, 57, 21, 17, 24, 16, 15, 11, 20, 10, 37, 8, 19, 23, 13, 56, 23, 9, 9, 5, 43, 8, 8, 11, 8, 9, 55, 10, 34, 6, 8, 29, 27, 15, 33, 23, 81, 98, 30, 11, 41, 150, 19, 11, 33, 66, 25, 13, 9, 55, 21, 20, 19, 7, 19, 63, 20, 5, 14, 12, 8, 29, 14, 5, 10, 35, 46, 34, 81, 19, 26, 76, 31, 12, 88, 76, 28, 24, 5, 9, 32, 8, 5, 16, 24, 29, 18, 18, 11, 77, 17, 24, 35, 14, 11, 40, 57, 14, 15, 207, 12, 26, 16, 28, 20, 18, 12, 34, 10, 46, 16, 20, 49, 18, 8, 39, 72, 29, 15, 225, 77, 20, 12, 34, 61, 19, 12, 78, 15, 32, 103, 7, 11, 202, 7, 54, 8, 22, 14, 10, 23, 30, 13, 29, 11, 25, 23, 13, 15, 8, 8, 11, 17, 19, 9, 16, 9, 26, 28, 48, 13, 19, 18, 30, 15, 21, 52, 24, 97, 56, 29, 15, 61, 29, 15, 16, 45, 12, 26, 11, 18, 15, 57, 41, 17, 12, 38, 44, 39, 40, 90, 74, 13, 52, 12, 32, 38, 41, 56, 7, 20, 9, 115, 7, 13, 20, 21, 22, 57, 37, 25, 47, 55, 6, 14, 13, 55, 14, 32, 46, 21, 22, 21, 41, 10, 40, 26, 9, 22, 69, 156, 33, 24, 15, 29, 13, 27, 77, 10, 8, 26, 16, 17, 15, 27, 12, 13, 13, 7, 17, 86, 14, 26, 8, 81, 8, 13, 83, 5, 7, 10, 24, 13, 18, 24, 9, 102, 44, 39, 25, 7, 28, 18, 13, 9, 14, 7, 20, 19, 19, 15, 39, 38, 18, 38, 10, 108, 38, 14, 19, 45, 11, 11, 123, 16, 11, 91, 108, 77, 31, 145, 88, 14, 110, 32, 11, 90, 13, 34, 54, 99, 32, 74, 77, 52, 29, 43, 43, 20, 5, 90, 12, 11, 27, 10, 13, 49, 196, 25, 17, 45, 26, 31, 23, 13, 22, 33, 46, 35, 131, 21, 38, 26, 10, 16, 36, 14, 23, 12, 21, 52, 74, 62, 8, 17, 12, 20, 95, 33, 20, 14, 33, 21, 40, 9, 27, 123, 13, 30, 7, 30, 22, 32, 6, 51, 131, 49, 28, 68, 12, 16, 12, 32, 44, 8, 41, 32, 34, 63, 29, 24, 5, 15, 35, 25, 23, 29, 27, 6, 9, 12, 15, 18, 14, 11, 70, 26, 22, 17, 13, 57, 21, 52, 16, 31, 56, 29, 10, 46, 14, 29, 162, 17, 74, 59, 25, 23, 19, 38, 23, 36, 89, 21, 62, 55, 74, 10, 58, 31, 23, 362, 136, 32, 310, 104, 291, 34, 131, 23, 124, 144, 99, 35, 26, 17, 47, 25, 18, 33, 69, 16, 24, 24, 56, 26, 26, 17, 65, 28, 25, 29, 5, 30, 115, 22, 30, 62, 113, 17, 161, 21, 22, 41, 56, 224, 42, 32, 26, 36, 10, 24, 10, 32, 42, 16, 43, 20, 75, 77, 85, 240, 15, 42, 17, 82, 15, 88, 14, 21, 21, 25, 13, 64, 13, 11, 38, 9, 29, 89, 30, 14, 25, 37, 10, 68, 16, 53, 78, 40, 33, 80, 51, 15, 35, 8, 27, 61, 34, 10, 11, 56, 12, 11, 9, 24, 26, 22, 6, 34, 13, 18, 14, 16, 34, 13, 28, 8, 57, 27, 15, 26, 39, 39, 136, 61, 19, 37, 62, 48, 12, 41, 14, 10, 10, 11, 10, 50, 7, 24, 18, 12, 59, 19, 23, 30, 18, 25, 39, 77, 51, 31, 21, 30, 10, 14, 22, 37, 26, 46, 23, 21, 10, 71, 183, 27, 9, 14, 6, 25, 27, 17, 13, 11, 23, 27, 192, 46, 56, 9, 101, 64, 12, 15, 9, 71, 39, 9, 100, 24, 33, 35, 9, 309, 110, 34, 17, 13, 48, 34, 23, 20, 25, 14, 42, 27, 11, 18, 59, 123, 215, 19, 35, 46, 22, 38, 30, 107, 38, 95, 83, 106, 97, 77, 9, 24, 41, 22, 30, 22, 23, 53, 17, 321, 32, 17, 30, 34, 45, 42, 10, 28, 14, 6, 11, 11, 10, 18, 7, 27, 15, 12, 106, 47, 27, 71, 9, 45, 63, 8, 12, 69, 13, 22, 151, 102, 36, 13, 53, 8, 39, 36, 16, 25, 16, 26, 9, 47, 20, 39, 19, 26, 38, 10, 45, 11, 72, 7, 5, 11, 48, 24, 42, 39, 321, 18, 92, 77, 11, 20, 12, 16, 73, 26, 15, 7, 43, 63, 72, 25, 40, 61, 13, 19, 32, 104, 11, 30, 82, 9, 86, 6, 16, 12, 12, 14, 65, 35, 130, 41, 12, 59, 70, 17, 15, 37, 18, 34, 23, 40, 24, 126, 18, 112, 30, 16, 38, 53, 196, 24, 48, 7, 52, 17, 24, 13, 62, 15, 11, 22, 5, 62, 12, 13, 30, 17, 28, 13, 16, 38, 8, 15, 9, 80, 16, 10, 10, 9, 28, 6, 27, 16, 17, 41, 17, 11, 35, 28, 11, 16, 14, 5, 20, 11, 82, 11, 5, 34, 29, 4, 13, 27, 43, 24, 91, 11, 30, 10, 38, 14, 86, 69, 6, 49, 14, 10, 5, 6, 11, 16, 6, 6, 7, 28, 6, 8, 13, 5, 14, 6, 47, 98, 22, 11, 7, 34, 49, 15, 32, 9, 23, 9, 12, 31, 20, 38, 93, 83, 53, 22, 24, 49, 24, 10, 35, 40, 36, 23, 49, 52, 9, 15, 43, 23, 20, 27, 11, 17, 19, 31, 16, 26, 15, 17, 16, 27, 19, 25, 8, 14, 11, 106, 12, 91, 33, 21, 64, 18, 12, 23, 33, 17, 31, 37, 30, 7, 17, 36, 23, 23, 24, 125, 64, 75, 58, 37, 72, 65, 348, 39, 67, 63, 19, 82, 32, 46, 55, 14, 29, 53, 49, 49, 402, 17, 135, 120, 126, 65, 77, 171, 61, 89, 50, 74, 26, 212, 36, 52, 34, 74, 27, 19, 16, 27, 15, 10, 43, 8, 48, 28, 23, 16, 77, 16, 28, 16, 60, 20, 95, 18, 64, 31, 48, 70, 25, 11, 20, 59, 107, 32, 20, 15, 73, 75, 160, 66, 65, 69, 89, 93, 83, 22, 53, 24, 32, 133, 110, 138, 80, 66, 43, 80, 251, 63, 207, 90, 25, 23, 16, 17, 97, 19, 43, 48, 48, 29, 34, 82, 20, 8, 11, 20, 83, 12, 17, 28, 19, 38, 126, 31, 18, 29, 24, 18, 32, 32, 36, 31, 20, 42, 10, 8, 24, 125, 99, 454, 115, 40, 54, 43, 123, 10, 22, 281, 112, 18, 73, 30, 77, 30, 20, 12, 12, 21, 31, 14, 64, 88, 221, 60, 159, 89, 45, 50, 77, 178, 53, 68, 59, 7, 75, 87, 21, 32, 43, 91, 8, 40, 19, 11, 22, 43, 15, 47, 84, 17, 68, 26, 20, 26, 20, 50, 23, 18, 24, 47, 57, 26, 38, 19, 38, 86, 17, 84, 12, 13, 40, 30, 13, 36, 68, 19, 29, 28, 38, 12, 308, 32, 197, 162, 129, 41, 185, 197, 80, 82, 58, 174, 145, 779, 66, 117, 133, 43, 188, 87, 136, 62, 29, 132, 22, 26, 109, 49, 12, 39, 15, 13, 25, 13, 24, 71, 20, 74, 12, 120, 16, 33, 195, 87, 118, 24, 39, 54, 15, 70, 19, 23, 20, 17, 536, 17, 143, 37, 54, 24, 19, 35, 37, 27, 94, 59, 83, 33, 12, 7, 60, 25, 14, 15, 13, 20, 44, 39, 57, 36, 37, 54, 60, 126, 16, 12, 60, 15, 21, 30, 30, 26, 40, 34, 49, 17, 7, 84, 65, 171, 131, 30, 97, 39, 28, 31, 22, 32, 49, 138, 48, 47, 316, 25, 330, 90, 93, 93, 21, 110, 46, 20, 23, 30, 195, 21, 74, 38, 33, 44, 29, 10, 20, 45, 21, 37, 24, 31, 48, 19, 17, 140, 38, 126, 56, 59, 24, 16, 27, 78, 31, 11, 15, 14, 47, 38, 91, 9, 35, 16, 21, 7, 21, 24, 60, 97, 11, 12, 20, 41, 7, 35, 18, 24, 78, 26, 36, 41, 22, 24, 12, 16, 16, 30, 20, 14, 94, 20, 11, 34, 56, 135, 13, 25, 29, 12, 30, 123, 83, 28, 22, 31, 34, 32, 24, 11, 157, 15, 18, 12, 26, 31, 26, 13, 22, 92, 28, 29, 13, 8, 12, 44, 33, 54, 58, 66, 90, 24, 8, 66, 32, 21, 32, 57, 11, 122, 9, 30, 57, 64, 23, 35, 22, 32, 17, 28, 23, 22, 25, 15, 62, 39, 83, 74, 62, 82, 97, 7, 59, 76, 25, 14, 179, 28, 25, 13, 28, 49, 19, 44, 14, 25, 12, 7, 17, 13, 12, 25, 55, 56, 34, 13, 23, 22, 34, 7, 12, 8, 224, 204, 44, 48, 8, 36, 31, 39, 9, 38, 29, 7, 42, 19, 36, 13, 38, 21, 104, 46, 52, 30, 491, 74, 24, 67, 19, 17, 18, 49, 16, 32, 94, 133, 80, 65, 16, 52, 125, 31, 23, 21, 19, 27, 66, 21, 28, 35, 27, 18, 27, 76, 61, 77, 45, 29, 10, 35, 101, 10, 23, 39, 7, 6, 20, 72, 37, 73, 64, 116, 7, 33, 7, 28, 16, 18, 29, 84, 47, 35, 12, 17, 70, 38, 21, 69, 43, 17, 71, 38, 20, 26, 73, 15, 47, 28, 14, 25, 25, 34, 62, 33, 29, 214, 49, 35, 16, 13, 113, 110, 69, 44, 174, 41, 41, 9, 36, 17, 27, 14, 25, 37, 13, 55, 29, 18, 7, 52, 22, 20, 8, 25, 52, 168, 19, 18, 61, 108, 125, 49, 36, 18, 36, 79, 58, 12, 19, 24, 31, 29, 7, 46, 45, 43, 84, 43, 173, 58, 38, 384, 60, 77, 13, 53, 98, 50, 80, 62, 14, 32, 12, 8, 19, 25, 172, 13, 103, 78, 102, 24, 39, 52, 46, 7, 32, 14, 9, 28, 53, 37, 33, 15, 74, 144, 91, 61, 42, 32, 74, 60, 61, 66, 67, 41, 45, 56, 102, 58, 14, 70, 36, 45, 18, 27, 7, 147, 114, 136, 191, 123, 160, 115, 329, 77, 286, 96, 283, 44, 74, 37, 19, 45, 40, 29, 48, 46, 72, 24, 17, 16, 129, 77, 329, 142, 113, 111, 194, 111, 342, 113, 304, 246, 9, 5, 38, 31, 32, 26, 48, 129, 26, 22, 10, 353, 55, 85, 56, 77, 68, 98, 137, 119, 150, 107, 138, 114, 9, 15, 12, 62, 24, 12, 47, 69, 16, 51, 45, 9, 100, 21, 9, 13, 10, 34, 8, 53, 98, 6, 33, 48, 48, 72, 71, 7, 28, 64, 21, 45, 21, 9, 10, 30, 58, 13, 22, 19, 39, 16, 20, 14, 8, 24, 36, 26, 60, 20, 26, 9, 11, 78, 123, 28, 60, 30, 21, 8, 28, 13, 9, 16, 24, 81, 14, 50, 154, 41, 13, 48, 10, 11, 51, 28, 23, 20, 122, 35, 47, 7, 14, 13, 29, 60, 106, 21, 26, 30, 59, 21, 90, 118, 81, 16, 25, 22, 18, 85, 36, 12, 27, 12, 53, 20, 49, 53, 55, 31, 37, 15, 13, 124, 23, 62, 16, 20, 9, 103, 19, 87, 22, 22, 33, 47, 35, 41, 18, 44, 28, 84, 13, 53, 161, 19, 64, 19, 18, 36, 19, 56, 24, 67, 70, 59, 10, 60, 23, 34, 37, 28, 96, 27, 57, 26, 28, 18, 21, 13, 31, 119, 5, 28, 7, 13, 41, 25, 9, 39, 19, 88, 14, 12, 51, 43, 113, 39, 44, 24, 30, 78, 8, 25, 22, 15, 35, 14, 18, 16, 15, 18, 87, 28, 20, 64, 22, 48, 353, 27, 27, 18, 29, 16, 29, 30, 9, 6, 42, 14, 20, 21, 101, 301, 7, 15, 54, 77, 49, 40, 9, 23, 22, 7, 17, 11, 8, 30, 37, 37, 23, 36, 12, 18, 79, 18, 85, 59, 16, 36, 38, 8, 20, 458, 21, 11, 8, 69, 12, 25, 88, 7, 54, 83, 8, 129, 30, 57, 10, 28, 32, 44, 36, 116, 15, 40, 20, 36, 24, 31, 17, 34, 10, 65, 28, 215, 6, 39, 79, 22, 68, 65, 28, 17, 46, 271, 8, 13, 23, 23, 27, 239, 40, 45, 6, 50, 20, 18, 23, 7, 25, 47, 17, 32, 80, 39, 22, 15, 23, 29, 15, 177, 26, 27, 37, 15, 24, 16, 66, 10, 84, 60, 7, 46, 11, 21, 21, 35, 24, 29, 73, 35, 34, 56, 320, 72, 18, 17, 29, 24, 25, 36, 48, 73, 23, 24, 36, 9, 30, 29, 32, 115, 52, 358, 32, 9, 12, 16, 54, 60, 69, 20, 60, 87, 40, 44, 49, 17, 8, 30, 23, 16, 10, 18, 45, 13, 13, 131, 18, 86, 12, 12, 11, 29, 80, 16, 27, 28, 15, 106, 23, 7, 74, 48, 119, 21, 152, 7, 8, 65, 304, 18, 27, 49, 48, 63, 10, 22, 8, 12, 8, 16, 17, 22, 140, 21, 42, 48, 38, 20], \"xaxis\": \"x\", \"yaxis\": \"y\"}],                        {\"barmode\": \"relative\", \"legend\": {\"tracegroupgap\": 0}, \"template\": {\"data\": {\"bar\": [{\"error_x\": {\"color\": \"#2a3f5f\"}, \"error_y\": {\"color\": \"#2a3f5f\"}, \"marker\": {\"line\": {\"color\": \"#E5ECF6\", \"width\": 0.5}}, \"type\": \"bar\"}], \"barpolar\": [{\"marker\": {\"line\": {\"color\": \"#E5ECF6\", \"width\": 0.5}}, \"type\": \"barpolar\"}], \"carpet\": [{\"aaxis\": {\"endlinecolor\": \"#2a3f5f\", \"gridcolor\": \"white\", \"linecolor\": \"white\", \"minorgridcolor\": \"white\", \"startlinecolor\": \"#2a3f5f\"}, \"baxis\": {\"endlinecolor\": \"#2a3f5f\", \"gridcolor\": \"white\", \"linecolor\": \"white\", \"minorgridcolor\": \"white\", \"startlinecolor\": \"#2a3f5f\"}, \"type\": \"carpet\"}], \"choropleth\": [{\"colorbar\": {\"outlinewidth\": 0, \"ticks\": \"\"}, \"type\": \"choropleth\"}], \"contour\": [{\"colorbar\": {\"outlinewidth\": 0, \"ticks\": \"\"}, \"colorscale\": [[0.0, \"#0d0887\"], [0.1111111111111111, \"#46039f\"], [0.2222222222222222, \"#7201a8\"], [0.3333333333333333, \"#9c179e\"], [0.4444444444444444, \"#bd3786\"], [0.5555555555555556, \"#d8576b\"], [0.6666666666666666, \"#ed7953\"], [0.7777777777777778, \"#fb9f3a\"], [0.8888888888888888, \"#fdca26\"], [1.0, \"#f0f921\"]], \"type\": \"contour\"}], \"contourcarpet\": [{\"colorbar\": {\"outlinewidth\": 0, \"ticks\": \"\"}, \"type\": \"contourcarpet\"}], \"heatmap\": [{\"colorbar\": {\"outlinewidth\": 0, \"ticks\": \"\"}, \"colorscale\": [[0.0, \"#0d0887\"], [0.1111111111111111, \"#46039f\"], [0.2222222222222222, \"#7201a8\"], [0.3333333333333333, \"#9c179e\"], [0.4444444444444444, \"#bd3786\"], [0.5555555555555556, \"#d8576b\"], [0.6666666666666666, \"#ed7953\"], [0.7777777777777778, \"#fb9f3a\"], [0.8888888888888888, \"#fdca26\"], [1.0, \"#f0f921\"]], \"type\": \"heatmap\"}], \"heatmapgl\": [{\"colorbar\": {\"outlinewidth\": 0, \"ticks\": \"\"}, \"colorscale\": [[0.0, \"#0d0887\"], [0.1111111111111111, \"#46039f\"], [0.2222222222222222, \"#7201a8\"], [0.3333333333333333, \"#9c179e\"], [0.4444444444444444, \"#bd3786\"], [0.5555555555555556, \"#d8576b\"], [0.6666666666666666, \"#ed7953\"], [0.7777777777777778, \"#fb9f3a\"], [0.8888888888888888, \"#fdca26\"], [1.0, \"#f0f921\"]], \"type\": \"heatmapgl\"}], \"histogram\": [{\"marker\": {\"colorbar\": {\"outlinewidth\": 0, \"ticks\": \"\"}}, \"type\": \"histogram\"}], \"histogram2d\": [{\"colorbar\": {\"outlinewidth\": 0, \"ticks\": \"\"}, \"colorscale\": [[0.0, \"#0d0887\"], [0.1111111111111111, \"#46039f\"], [0.2222222222222222, \"#7201a8\"], [0.3333333333333333, \"#9c179e\"], [0.4444444444444444, \"#bd3786\"], [0.5555555555555556, \"#d8576b\"], [0.6666666666666666, \"#ed7953\"], [0.7777777777777778, \"#fb9f3a\"], [0.8888888888888888, \"#fdca26\"], [1.0, \"#f0f921\"]], \"type\": \"histogram2d\"}], \"histogram2dcontour\": [{\"colorbar\": {\"outlinewidth\": 0, \"ticks\": \"\"}, \"colorscale\": [[0.0, \"#0d0887\"], [0.1111111111111111, \"#46039f\"], [0.2222222222222222, \"#7201a8\"], [0.3333333333333333, \"#9c179e\"], [0.4444444444444444, \"#bd3786\"], [0.5555555555555556, \"#d8576b\"], [0.6666666666666666, \"#ed7953\"], [0.7777777777777778, \"#fb9f3a\"], [0.8888888888888888, \"#fdca26\"], [1.0, \"#f0f921\"]], \"type\": \"histogram2dcontour\"}], \"mesh3d\": [{\"colorbar\": {\"outlinewidth\": 0, \"ticks\": \"\"}, \"type\": \"mesh3d\"}], \"parcoords\": [{\"line\": {\"colorbar\": {\"outlinewidth\": 0, \"ticks\": \"\"}}, \"type\": \"parcoords\"}], \"pie\": [{\"automargin\": true, \"type\": \"pie\"}], \"scatter\": [{\"marker\": {\"colorbar\": {\"outlinewidth\": 0, \"ticks\": \"\"}}, \"type\": \"scatter\"}], \"scatter3d\": [{\"line\": {\"colorbar\": {\"outlinewidth\": 0, \"ticks\": \"\"}}, \"marker\": {\"colorbar\": {\"outlinewidth\": 0, \"ticks\": \"\"}}, \"type\": \"scatter3d\"}], \"scattercarpet\": [{\"marker\": {\"colorbar\": {\"outlinewidth\": 0, \"ticks\": \"\"}}, \"type\": \"scattercarpet\"}], \"scattergeo\": [{\"marker\": {\"colorbar\": {\"outlinewidth\": 0, \"ticks\": \"\"}}, \"type\": \"scattergeo\"}], \"scattergl\": [{\"marker\": {\"colorbar\": {\"outlinewidth\": 0, \"ticks\": \"\"}}, \"type\": \"scattergl\"}], \"scattermapbox\": [{\"marker\": {\"colorbar\": {\"outlinewidth\": 0, \"ticks\": \"\"}}, \"type\": \"scattermapbox\"}], \"scatterpolar\": [{\"marker\": {\"colorbar\": {\"outlinewidth\": 0, \"ticks\": \"\"}}, \"type\": \"scatterpolar\"}], \"scatterpolargl\": [{\"marker\": {\"colorbar\": {\"outlinewidth\": 0, \"ticks\": \"\"}}, \"type\": \"scatterpolargl\"}], \"scatterternary\": [{\"marker\": {\"colorbar\": {\"outlinewidth\": 0, \"ticks\": \"\"}}, \"type\": \"scatterternary\"}], \"surface\": [{\"colorbar\": {\"outlinewidth\": 0, \"ticks\": \"\"}, \"colorscale\": [[0.0, \"#0d0887\"], [0.1111111111111111, \"#46039f\"], [0.2222222222222222, \"#7201a8\"], [0.3333333333333333, \"#9c179e\"], [0.4444444444444444, \"#bd3786\"], [0.5555555555555556, \"#d8576b\"], [0.6666666666666666, \"#ed7953\"], [0.7777777777777778, \"#fb9f3a\"], [0.8888888888888888, \"#fdca26\"], [1.0, \"#f0f921\"]], \"type\": \"surface\"}], \"table\": [{\"cells\": {\"fill\": {\"color\": \"#EBF0F8\"}, \"line\": {\"color\": \"white\"}}, \"header\": {\"fill\": {\"color\": \"#C8D4E3\"}, \"line\": {\"color\": \"white\"}}, \"type\": \"table\"}]}, \"layout\": {\"annotationdefaults\": {\"arrowcolor\": \"#2a3f5f\", \"arrowhead\": 0, \"arrowwidth\": 1}, \"autotypenumbers\": \"strict\", \"coloraxis\": {\"colorbar\": {\"outlinewidth\": 0, \"ticks\": \"\"}}, \"colorscale\": {\"diverging\": [[0, \"#8e0152\"], [0.1, \"#c51b7d\"], [0.2, \"#de77ae\"], [0.3, \"#f1b6da\"], [0.4, \"#fde0ef\"], [0.5, \"#f7f7f7\"], [0.6, \"#e6f5d0\"], [0.7, \"#b8e186\"], [0.8, \"#7fbc41\"], [0.9, \"#4d9221\"], [1, \"#276419\"]], \"sequential\": [[0.0, \"#0d0887\"], [0.1111111111111111, \"#46039f\"], [0.2222222222222222, \"#7201a8\"], [0.3333333333333333, \"#9c179e\"], [0.4444444444444444, \"#bd3786\"], [0.5555555555555556, \"#d8576b\"], [0.6666666666666666, \"#ed7953\"], [0.7777777777777778, \"#fb9f3a\"], [0.8888888888888888, \"#fdca26\"], [1.0, \"#f0f921\"]], \"sequentialminus\": [[0.0, \"#0d0887\"], [0.1111111111111111, \"#46039f\"], [0.2222222222222222, \"#7201a8\"], [0.3333333333333333, \"#9c179e\"], [0.4444444444444444, \"#bd3786\"], [0.5555555555555556, \"#d8576b\"], [0.6666666666666666, \"#ed7953\"], [0.7777777777777778, \"#fb9f3a\"], [0.8888888888888888, \"#fdca26\"], [1.0, \"#f0f921\"]]}, \"colorway\": [\"#636efa\", \"#EF553B\", \"#00cc96\", \"#ab63fa\", \"#FFA15A\", \"#19d3f3\", \"#FF6692\", \"#B6E880\", \"#FF97FF\", \"#FECB52\"], \"font\": {\"color\": \"#2a3f5f\"}, \"geo\": {\"bgcolor\": \"white\", \"lakecolor\": \"white\", \"landcolor\": \"#E5ECF6\", \"showlakes\": true, \"showland\": true, \"subunitcolor\": \"white\"}, \"hoverlabel\": {\"align\": \"left\"}, \"hovermode\": \"closest\", \"mapbox\": {\"style\": \"light\"}, \"paper_bgcolor\": \"white\", \"plot_bgcolor\": \"#E5ECF6\", \"polar\": {\"angularaxis\": {\"gridcolor\": \"white\", \"linecolor\": \"white\", \"ticks\": \"\"}, \"bgcolor\": \"#E5ECF6\", \"radialaxis\": {\"gridcolor\": \"white\", \"linecolor\": \"white\", \"ticks\": \"\"}}, \"scene\": {\"xaxis\": {\"backgroundcolor\": \"#E5ECF6\", \"gridcolor\": \"white\", \"gridwidth\": 2, \"linecolor\": \"white\", \"showbackground\": true, \"ticks\": \"\", \"zerolinecolor\": \"white\"}, \"yaxis\": {\"backgroundcolor\": \"#E5ECF6\", \"gridcolor\": \"white\", \"gridwidth\": 2, \"linecolor\": \"white\", \"showbackground\": true, \"ticks\": \"\", \"zerolinecolor\": \"white\"}, \"zaxis\": {\"backgroundcolor\": \"#E5ECF6\", \"gridcolor\": \"white\", \"gridwidth\": 2, \"linecolor\": \"white\", \"showbackground\": true, \"ticks\": \"\", \"zerolinecolor\": \"white\"}}, \"shapedefaults\": {\"line\": {\"color\": \"#2a3f5f\"}}, \"ternary\": {\"aaxis\": {\"gridcolor\": \"white\", \"linecolor\": \"white\", \"ticks\": \"\"}, \"baxis\": {\"gridcolor\": \"white\", \"linecolor\": \"white\", \"ticks\": \"\"}, \"bgcolor\": \"#E5ECF6\", \"caxis\": {\"gridcolor\": \"white\", \"linecolor\": \"white\", \"ticks\": \"\"}}, \"title\": {\"x\": 0.05}, \"xaxis\": {\"automargin\": true, \"gridcolor\": \"white\", \"linecolor\": \"white\", \"ticks\": \"\", \"title\": {\"standoff\": 15}, \"zerolinecolor\": \"white\", \"zerolinewidth\": 2}, \"yaxis\": {\"automargin\": true, \"gridcolor\": \"white\", \"linecolor\": \"white\", \"ticks\": \"\", \"title\": {\"standoff\": 15}, \"zerolinecolor\": \"white\", \"zerolinewidth\": 2}}}, \"title\": {\"text\": \"Number of Lectures of UDEMY Courses\"}, \"xaxis\": {\"anchor\": \"y\", \"domain\": [0.0, 1.0], \"title\": {\"text\": \"num_lectures\"}}, \"yaxis\": {\"anchor\": \"x\", \"domain\": [0.0, 1.0], \"title\": {\"text\": \"count\"}}},                        {\"responsive\": true}                    ).then(function(){\n",
       "                            \n",
       "var gd = document.getElementById('c45724db-87cb-4241-a8b5-d15c9db2702e');\n",
       "var x = new MutationObserver(function (mutations, observer) {{\n",
       "        var display = window.getComputedStyle(gd).display;\n",
       "        if (!display || display === 'none') {{\n",
       "            console.log([gd, 'removed!']);\n",
       "            Plotly.purge(gd);\n",
       "            observer.disconnect();\n",
       "        }}\n",
       "}});\n",
       "\n",
       "// Listen for the removal of the full notebook cells\n",
       "var notebookContainer = gd.closest('#notebook-container');\n",
       "if (notebookContainer) {{\n",
       "    x.observe(notebookContainer, {childList: true});\n",
       "}}\n",
       "\n",
       "// Listen for the clearing of the current output cell\n",
       "var outputEl = gd.closest('.output');\n",
       "if (outputEl) {{\n",
       "    x.observe(outputEl, {childList: true});\n",
       "}}\n",
       "\n",
       "                        })                };                });            </script>        </div>"
      ]
     },
     "metadata": {},
     "output_type": "display_data"
    }
   ],
   "source": [
    "fig = px.histogram(df, x= 'num_lectures', title='Number of Lectures of UDEMY Courses')\n",
    "\n",
    "fig.show()"
   ]
  },
  {
   "cell_type": "markdown",
   "id": "varying-parallel",
   "metadata": {
    "papermill": {
     "duration": 0.060191,
     "end_time": "2021-07-07T21:05:32.142910",
     "exception": false,
     "start_time": "2021-07-07T21:05:32.082719",
     "status": "completed"
    },
    "tags": []
   },
   "source": [
    "From given table of Number of lectures for UDEMY courses, we can see that 20-45 range has a lot of courses. But as we have mentioned before and easily seen in the histogram, we have highly skewed data with outliers.  "
   ]
  },
  {
   "cell_type": "markdown",
   "id": "iraqi-firmware",
   "metadata": {
    "papermill": {
     "duration": 0.05975,
     "end_time": "2021-07-07T21:05:32.263914",
     "exception": false,
     "start_time": "2021-07-07T21:05:32.204164",
     "status": "completed"
    },
    "tags": []
   },
   "source": [
    "#### **Durations of UDEMY Courses**"
   ]
  },
  {
   "cell_type": "code",
   "execution_count": 15,
   "id": "wooden-portable",
   "metadata": {
    "_kg_hide-input": true,
    "execution": {
     "iopub.execute_input": "2021-07-07T21:05:32.401810Z",
     "iopub.status.busy": "2021-07-07T21:05:32.400100Z",
     "iopub.status.idle": "2021-07-07T21:05:32.464683Z",
     "shell.execute_reply": "2021-07-07T21:05:32.463703Z",
     "shell.execute_reply.started": "2021-07-07T20:45:36.493937Z"
    },
    "papermill": {
     "duration": 0.141532,
     "end_time": "2021-07-07T21:05:32.464935",
     "exception": false,
     "start_time": "2021-07-07T21:05:32.323403",
     "status": "completed"
    },
    "tags": []
   },
   "outputs": [
    {
     "data": {
      "text/html": [
       "<div>                            <div id=\"0eb53901-5f81-4c5e-9c3a-e8f14e1a3a58\" class=\"plotly-graph-div\" style=\"height:525px; width:100%;\"></div>            <script type=\"text/javascript\">                require([\"plotly\"], function(Plotly) {                    window.PLOTLYENV=window.PLOTLYENV || {};                                    if (document.getElementById(\"0eb53901-5f81-4c5e-9c3a-e8f14e1a3a58\")) {                    Plotly.newPlot(                        \"0eb53901-5f81-4c5e-9c3a-e8f14e1a3a58\",                        [{\"alignmentgroup\": \"True\", \"bingroup\": \"x\", \"hovertemplate\": \"content_duration=%{x}<br>count=%{y}<extra></extra>\", \"legendgroup\": \"\", \"marker\": {\"color\": \"#636efa\"}, \"name\": \"\", \"offsetgroup\": \"\", \"orientation\": \"v\", \"showlegend\": false, \"type\": \"histogram\", \"x\": [1.5, 39.0, 2.5, 3.0, 2.0, 3.0, 1.0, 2.5, 2.5, 1.0, 5.0, 1.0, 1.5, 2.0, 7.0, 1.5, 1.5, 4.0, 1.5, 0.5833333333333334, 2.0, 4.0, 2.0, 1.0, 2.0, 5.0, 4.5, 2.0, 4.5, 3.0, 2.5, 1.5, 6.5, 2.0, 1.5, 10.0, 5.5, 4.5, 7.5, 5.5, 10.0, 6.5, 11.5, 1.0, 16.0, 3.0, 5.0, 5.5, 5.0, 2.0, 2.0, 3.0, 2.0, 1.0, 1.5, 4.0, 5.5, 1.0, 1.5, 1.0, 3.5, 9.0, 4.5, 8.5, 6.5, 5.5, 11.0, 1.5, 3.5, 3.0, 5.0, 2.5, 1.0, 1.0, 3.0, 2.0, 4.0, 1.0, 5.0, 4.0, 1.5, 2.0, 11.5, 1.5, 1.0, 1.5, 1.0, 4.5, 1.0, 1.5, 2.5, 0.7, 9.5, 5.0, 1.0, 0.55, 3.0, 1.5, 5.5, 2.0, 1.5, 1.5, 1.5, 1.5, 1.5, 1.0, 1.0, 1.0, 2.0, 4.5, 5.0, 1.5, 2.0, 1.0, 62.0, 1.5, 0.1333333333333333, 0.6833333333333333, 2.5, 1.5, 3.0, 4.5, 31.5, 3.5, 2.5, 3.0, 0.55, 1.0, 1.5, 2.0, 1.0, 2.5, 1.0, 1.0, 1.5, 9.5, 1.0, 20.0, 2.5, 1.0, 6.0, 1.5, 4.0, 1.5, 5.0, 2.5, 2.5, 3.0, 1.5, 1.0, 1.5, 1.5, 1.0, 3.0, 3.0, 3.5, 1.0, 2.0, 4.5, 1.0, 46.5, 5.0, 4.0, 2.5, 3.0, 1.0, 1.5, 2.0, 1.5, 4.5, 2.0, 1.5, 2.0, 3.0, 1.5, 5.5, 1.5, 5.5, 10.0, 2.0, 3.0, 0.7, 1.0, 6.0, 1.0, 1.5, 1.5, 2.0, 5.0, 1.5, 4.5, 4.5, 3.5, 1.5, 1.0, 1.5, 0.55, 9.0, 2.0, 1.0, 1.0, 1.5, 1.5, 5.5, 6.0, 2.0, 2.0, 7.0, 1.0, 2.0, 0.7166666666666667, 1.5, 10.0, 1.5, 1.0, 2.0, 1.5, 17.5, 1.0, 1.0, 4.5, 1.0, 2.0, 2.0, 1.5, 12.0, 2.0, 3.5, 1.0, 1.5, 1.5, 1.5, 2.0, 2.0, 0.6833333333333333, 3.0, 1.5, 4.0, 2.5, 2.0, 4.0, 2.0, 2.5, 2.0, 2.5, 5.0, 3.5, 1.0, 1.0, 0.5333333333333333, 4.0, 1.0, 1.0, 4.5, 2.5, 1.0, 2.5, 4.5, 3.0, 2.0, 24.0, 19.5, 3.0, 1.5, 1.5, 2.0, 3.5, 2.5, 4.0, 20.5, 3.0, 1.0, 4.0, 3.0, 3.0, 2.0, 2.5, 3.0, 0.5, 0.7166666666666667, 2.0, 10.0, 20.5, 2.0, 1.5, 10.5, 1.0, 1.5, 3.0, 5.5, 0.5166666666666666, 1.5, 2.0, 5.0, 4.5, 1.0, 6.5, 1.5, 2.5, 2.0, 6.0, 0.6, 1.5, 2.0, 1.5, 1.0, 1.0, 0.7, 1.5, 4.0, 3.0, 5.5, 7.0, 1.0, 2.0, 5.5, 1.5, 2.5, 0.6833333333333333, 2.0, 0.5, 2.0, 2.0, 0.6833333333333333, 3.5, 5.5, 8.0, 2.5, 2.0, 2.0, 29.0, 4.0, 1.5, 3.0, 8.0, 3.0, 2.5, 1.0, 26.0, 1.5, 1.5, 2.5, 1.5, 3.0, 0.7, 6.0, 1.0, 2.5, 1.0, 1.0, 10.0, 1.0, 1.0, 11.0, 3.5, 0.5333333333333333, 24.5, 3.0, 1.5, 2.0, 1.0, 2.5, 2.0, 2.5, 6.0, 0.7166666666666667, 6.0, 1.0, 2.0, 2.5, 2.5, 1.5, 8.0, 1.0, 1.0, 1.5, 1.0, 1.5, 10.0, 1.0, 3.0, 4.0, 1.0, 5.5, 3.5, 5.0, 1.5, 0.5833333333333334, 1.0, 13.0, 1.0, 1.0, 2.5, 1.5, 0.7333333333333333, 1.0, 3.5, 1.0, 2.5, 1.5, 1.5, 7.5, 6.0, 2.0, 1.5, 2.0, 0.6, 7.5, 1.5, 4.0, 1.0, 1.0, 3.5, 1.0, 0.7166666666666667, 0.5666666666666667, 2.0, 3.5, 1.5, 1.0, 1.5, 1.0, 1.5, 1.5, 1.5, 1.0, 2.5, 2.0, 1.5, 3.0, 2.0, 1.0, 2.0, 4.5, 1.0, 1.5, 5.5, 12.5, 1.0, 2.0, 1.0, 3.5, 1.0, 12.5, 2.0, 6.5, 1.0, 5.5, 0.3166666666666666, 5.5, 11.5, 8.0, 1.0, 0.6166666666666667, 1.5, 2.5, 2.0, 2.0, 2.0, 3.5, 2.0, 1.0, 1.0, 5.5, 2.0, 4.0, 1.0, 0.6666666666666666, 2.5, 4.5, 3.0, 4.5, 2.0, 1.5, 1.5, 0.6666666666666666, 2.0, 2.0, 6.5, 3.5, 1.0, 2.0, 6.0, 1.5, 4.0, 1.5, 8.0, 4.5, 0.6, 2.0, 2.0, 1.5, 8.0, 3.5, 3.5, 1.5, 2.5, 18.0, 3.5, 1.5, 19.5, 0.5666666666666667, 0.6166666666666667, 1.0, 1.0, 1.0, 24.5, 1.5, 1.5, 1.0, 6.5, 5.5, 7.5, 1.5, 1.5, 1.0, 0.5666666666666667, 2.0, 2.5, 2.5, 1.0, 1.0, 1.5, 0.5666666666666667, 0.7166666666666667, 1.0, 2.0, 0.5333333333333333, 33.0, 3.0, 24.5, 7.5, 3.0, 1.0, 3.5, 1.5, 5.0, 1.0, 0.5333333333333333, 1.0, 5.0, 10.5, 2.0, 7.0, 1.0, 3.5, 9.0, 2.5, 3.0, 1.5, 2.0, 1.0, 4.5, 1.5, 1.0, 2.5, 2.5, 1.5, 2.5, 1.5, 2.5, 71.5, 7.0, 3.5, 1.0, 6.5, 1.0, 3.0, 2.0, 0.5833333333333334, 1.0, 7.0, 1.5, 3.5, 1.5, 1.0, 2.0, 1.0, 2.0, 3.0, 0.6166666666666667, 1.5, 2.5, 1.0, 3.0, 1.5, 1.0, 0.5166666666666666, 1.5, 20.5, 47.0, 3.0, 2.0, 1.0, 1.0, 4.0, 14.5, 1.5, 1.5, 3.5, 1.5, 2.5, 2.0, 1.5, 5.0, 1.5, 2.0, 0.6166666666666667, 3.5, 3.0, 1.0, 1.5, 2.0, 3.0, 3.5, 0.5666666666666667, 0.6833333333333333, 1.0, 1.0, 0.65, 1.0, 2.5, 4.0, 2.0, 4.0, 1.0, 5.5, 6.0, 6.0, 1.5, 5.5, 1.0, 14.5, 2.0, 1.5, 2.0, 3.0, 1.5, 2.5, 1.0, 0.55, 1.5, 2.0, 1.0, 2.0, 1.5, 2.0, 2.5, 1.0, 1.0, 3.5, 7.0, 18.5, 2.0, 2.5, 43.5, 0.6, 10.0, 2.5, 5.5, 1.5, 0.6333333333333333, 1.5, 2.0, 1.0, 2.0, 4.5, 3.5, 0.6666666666666666, 5.5, 1.0, 5.0, 4.0, 1.5, 1.5, 2.0, 5.0, 1.0, 4.0, 14.0, 5.0, 6.5, 1.0, 1.5, 1.0, 1.0, 1.5, 3.5, 14.5, 1.0, 1.5, 1.0, 1.0, 7.0, 5.0, 1.0, 2.0, 3.0, 3.0, 4.0, 2.0, 3.0, 1.0, 0.6333333333333333, 3.5, 6.0, 2.0, 1.5, 2.5, 4.5, 5.5, 1.0, 2.5, 2.5, 4.0, 2.0, 4.0, 7.5, 0.4666666666666667, 1.5, 2.5, 10.0, 2.0, 5.0, 24.0, 1.0, 9.0, 1.0, 14.5, 1.0, 0.6166666666666667, 1.5, 1.0, 1.0, 1.0, 2.5, 0.5333333333333333, 1.0, 1.0, 1.0, 1.5, 3.5, 0.7333333333333333, 1.5, 0.5166666666666666, 1.0, 12.5, 1.0, 1.5, 0.5833333333333334, 4.5, 2.0, 1.5, 3.5, 2.0, 1.5, 9.0, 1.5, 0.6833333333333333, 2.0, 2.0, 6.0, 5.5, 2.5, 4.0, 3.5, 2.0, 1.0, 3.5, 2.0, 1.0, 1.5, 5.0, 1.0, 2.5, 6.0, 8.5, 0.5166666666666666, 1.0, 2.0, 2.0, 0.5333333333333333, 0.7333333333333333, 2.5, 1.0, 2.0, 2.5, 0.6166666666666667, 1.5, 2.0, 4.0, 6.0, 1.0, 1.0, 0.6166666666666667, 2.5, 2.0, 1.5, 3.0, 1.5, 1.5, 2.5, 0.5666666666666667, 6.5, 1.5, 0.7166666666666667, 4.5, 5.0, 3.0, 3.0, 1.0, 1.0, 0.5333333333333333, 1.5, 1.0, 1.5, 1.0, 3.0, 4.0, 3.0, 3.5, 0.7, 0.6166666666666667, 3.5, 3.5, 1.5, 1.0, 3.0, 4.0, 6.0, 1.0, 2.0, 7.0, 5.0, 2.5, 2.5, 1.0, 7.5, 7.5, 5.5, 1.0, 2.0, 2.0, 2.0, 5.0, 3.0, 3.0, 7.0, 1.0, 1.0, 1.0, 4.5, 2.5, 1.0, 3.0, 1.0, 2.5, 5.5, 3.0, 2.0, 3.0, 1.0, 12.0, 7.0, 2.0, 1.0, 1.0, 1.0, 0.5333333333333333, 1.0, 45.0, 1.5, 1.5, 2.5, 70.0, 1.5, 4.0, 6.0, 2.0, 4.5, 0.6, 1.0, 6.0, 8.0, 1.0, 0.6333333333333333, 0.6166666666666667, 0.5333333333333333, 2.0, 1.5, 1.0, 1.0, 0.0, 1.0, 1.0, 1.5, 3.0, 3.0, 2.0, 0.7166666666666667, 1.5, 1.0, 2.5, 2.0, 3.5, 2.5, 2.5, 2.0, 1.5, 4.5, 1.0, 1.0, 6.0, 2.0, 2.5, 2.0, 1.5, 1.5, 3.5, 3.0, 7.5, 3.0, 1.0, 1.0, 31.5, 0.5333333333333333, 1.5, 1.5, 2.0, 3.0, 4.5, 1.5, 1.5, 4.0, 1.0, 10.0, 1.5, 1.0, 2.5, 0.6333333333333333, 1.5, 1.0, 0.5166666666666666, 2.0, 3.0, 3.0, 29.5, 2.5, 2.0, 6.5, 1.0, 2.0, 1.0, 2.0, 2.5, 2.0, 1.0, 3.0, 1.0, 1.0, 1.0, 1.0, 1.0, 6.0, 5.0, 3.0, 2.0, 13.0, 1.5, 3.0, 2.0, 3.5, 1.0, 4.0, 2.5, 5.0, 13.5, 2.5, 1.0, 2.5, 0.6833333333333333, 3.5, 2.5, 0.6666666666666666, 0.45, 3.0, 4.5, 1.5, 1.5, 4.0, 6.5, 5.5, 0.5166666666666666, 2.5, 0.6833333333333333, 1.5, 1.0, 3.0, 1.0, 0.5666666666666667, 1.0, 4.5, 3.0, 2.5, 1.5, 1.5, 5.0, 0.6, 4.0, 2.5, 2.0, 7.0, 1.0, 1.0, 2.5, 31.5, 5.5, 0.5333333333333333, 1.0, 5.5, 2.0, 2.5, 2.0, 3.5, 2.0, 1.0, 1.5, 6.5, 1.0, 1.0, 1.0, 3.5, 2.0, 2.0, 5.0, 1.5, 4.5, 2.5, 1.5, 10.5, 6.0, 1.0, 2.0, 8.5, 0.7333333333333333, 8.5, 2.0, 3.0, 0.65, 1.5, 3.5, 2.0, 0.6166666666666667, 5.5, 4.5, 5.5, 2.0, 1.5, 3.0, 1.5, 1.0, 5.0, 1.0, 2.0, 1.0, 1.0, 7.5, 4.5, 1.0, 11.0, 1.0, 3.5, 1.0, 1.5, 2.0, 4.5, 2.0, 4.0, 1.5, 0.6666666666666666, 1.0, 1.0, 1.0, 5.0, 8.5, 1.0, 2.0, 1.0, 4.0, 1.5, 8.5, 3.0, 2.0, 1.5, 4.5, 5.0, 2.0, 1.5, 7.0, 3.5, 5.5, 1.5, 2.5, 3.0, 1.0, 3.0, 1.0, 0.6666666666666666, 1.5, 1.5, 1.0, 3.5, 1.0, 3.5, 2.0, 8.5, 10.5, 1.0, 2.0, 5.5, 2.0, 2.5, 1.5, 1.0, 12.5, 0.6, 7.0, 14.0, 1.0, 1.5, 1.5, 1.5, 2.0, 2.5, 1.5, 3.0, 2.5, 5.5, 17.5, 3.5, 2.5, 4.5, 8.5, 1.0, 6.5, 2.0, 8.0, 5.0, 17.5, 1.5, 8.5, 2.0, 1.5, 4.0, 1.0, 4.5, 4.0, 2.5, 2.0, 1.0, 3.0, 3.0, 1.5, 0.5666666666666667, 8.0, 4.0, 3.0, 1.0, 3.5, 1.5, 0.6333333333333333, 2.5, 2.5, 1.5, 0.7166666666666667, 1.0, 2.0, 5.5, 2.5, 2.5, 0.65, 3.0, 3.0, 1.5, 1.5, 0.6333333333333333, 1.5, 13.0, 0.6166666666666667, 6.0, 4.0, 1.0, 0.5666666666666667, 5.0, 2.0, 21.0, 12.0, 1.5, 1.0, 7.5, 1.0, 2.0, 62.0, 1.5, 3.0, 2.5, 0.5, 0.6, 3.5, 1.0, 8.0, 11.0, 11.5, 5.0, 68.5, 3.5, 2.5, 6.5, 9.0, 3.5, 3.5, 3.0, 1.0, 1.0, 1.5, 3.0, 3.5, 1.0, 1.0, 0.6, 5.0, 7.5, 3.5, 1.0, 0.6166666666666667, 1.0, 6.0, 2.0, 1.0, 1.0, 0.5666666666666667, 1.0, 3.0, 1.0, 5.0, 2.5, 1.0, 6.5, 2.0, 2.0, 1.0, 2.5, 2.0, 1.5, 2.0, 1.0, 1.0, 2.5, 1.0, 11.0, 12.0, 17.5, 11.0, 7.5, 3.0, 13.0, 3.5, 12.5, 2.5, 0.65, 2.5, 2.5, 1.5, 5.5, 1.5, 2.5, 1.0, 0.6833333333333333, 6.0, 3.0, 2.5, 1.5, 0.7, 1.0, 1.0, 0.55, 2.5, 2.0, 1.5, 4.0, 0.5666666666666667, 5.0, 1.5, 0.7, 10.0, 1.0, 11.5, 2.5, 1.0, 1.0, 1.0, 1.5, 2.0, 3.5, 0.5666666666666667, 0.6333333333333333, 0.5166666666666666, 0.5333333333333333, 0.5666666666666667, 1.0, 1.5, 0.6833333333333333, 0.6666666666666666, 4.5, 1.0, 0.6666666666666666, 0.6833333333333333, 2.0, 12.0, 3.5, 0.6833333333333333, 3.0, 13.5, 5.5, 1.0, 2.5, 1.5, 0.6, 1.5, 1.5, 10.5, 3.5, 1.5, 14.0, 1.0, 3.5, 2.5, 1.5, 2.5, 6.5, 1.0, 1.5, 4.5, 6.5, 1.5, 9.5, 2.0, 1.5, 12.5, 12.5, 2.0, 9.0, 3.0, 1.0, 0.5166666666666666, 2.5, 6.5, 2.5, 3.0, 0.65, 2.0, 4.5, 0.6666666666666666, 7.0, 3.0, 0.7, 2.5, 0.7333333333333333, 1.0, 0.5, 1.5, 2.0, 8.5, 5.5, 4.0, 1.0, 3.0, 6.5, 4.0, 12.0, 1.5, 2.5, 2.5, 3.5, 7.5, 1.0, 5.5, 2.0, 5.0, 13.0, 7.5, 3.0, 12.5, 1.5, 6.5, 1.0, 1.0, 1.0, 0.5833333333333334, 1.0, 3.0, 3.5, 4.5, 10.0, 1.0, 1.5, 1.0, 0.7333333333333333, 0.5666666666666667, 1.0, 6.5, 1.5, 1.0, 3.5, 0.5666666666666667, 1.5, 2.5, 2.0, 8.0, 0.6666666666666666, 4.0, 1.0, 0.6333333333333333, 1.0, 4.5, 1.5, 2.0, 1.0, 1.5, 1.0, 2.0, 2.0, 8.0, 1.5, 3.5, 1.5, 8.0, 0.6166666666666667, 2.0, 10.5, 3.0, 1.5, 1.5, 2.0, 0.6833333333333333, 5.5, 3.0, 1.0, 2.0, 2.0, 1.0, 5.0, 1.0, 3.5, 2.5, 1.5, 12.5, 0.6333333333333333, 1.0, 1.5, 4.5, 4.5, 0.6666666666666666, 1.5, 1.0, 1.0, 1.5, 3.5, 3.5, 0.5666666666666667, 1.0, 2.5, 1.0, 0.6166666666666667, 2.5, 9.5, 0.6166666666666667, 5.5, 2.0, 7.0, 4.0, 8.5, 4.5, 6.5, 1.0, 8.5, 0.7333333333333333, 2.0, 2.5, 2.5, 0.6333333333333333, 6.0, 2.0, 2.5, 1.0, 7.5, 5.0, 1.0, 1.5, 1.5, 12.0, 7.5, 2.5, 1.0, 1.5, 4.5, 14.5, 1.5, 1.0, 30.0, 2.0, 1.0, 0.6166666666666667, 1.0, 0.6166666666666667, 1.5, 1.0, 2.0, 2.5, 1.0, 6.5, 2.0, 5.0, 17.0, 1.5, 3.0, 1.5, 0.5333333333333333, 4.0, 0.6, 2.0, 0.7, 1.0, 1.0, 0.5833333333333334, 1.5, 4.0, 1.0, 4.0, 0.7333333333333333, 5.5, 1.5, 1.5, 1.5, 2.5, 3.5, 1.5, 4.0, 1.0, 4.0, 0.5833333333333334, 1.0, 2.5, 1.5, 5.0, 2.5, 1.0, 1.0, 0.55, 2.5, 1.0, 1.0, 1.0, 0.6833333333333333, 2.0, 4.5, 0.6333333333333333, 3.5, 1.0, 0.6166666666666667, 2.5, 2.5, 1.0, 20.0, 1.5, 5.0, 16.5, 2.0, 1.0, 4.0, 3.5, 2.5, 1.0, 2.5, 5.5, 2.5, 0.7, 1.0, 3.5, 2.5, 1.5, 1.5, 1.0, 2.0, 7.0, 4.5, 0.5666666666666667, 2.0, 0.6, 0.6833333333333333, 2.5, 1.5, 1.0, 0.65, 5.0, 4.0, 2.0, 5.0, 3.0, 7.5, 5.0, 2.0, 0.6333333333333333, 10.5, 6.0, 3.0, 5.5, 0.7166666666666667, 0.5833333333333334, 3.5, 0.6, 0.6166666666666667, 1.5, 3.5, 2.0, 1.0, 0.7166666666666667, 0.6666666666666666, 10.0, 3.5, 2.5, 4.0, 1.0, 1.0, 3.0, 15.0, 0.5, 1.0, 20.5, 1.5, 2.0, 1.0, 4.5, 3.0, 2.5, 2.0, 2.0, 1.0, 4.5, 1.5, 1.5, 3.0, 1.0, 2.0, 6.5, 5.0, 2.0, 2.0, 78.5, 7.5, 1.0, 1.0, 1.0, 8.0, 3.5, 1.5, 6.0, 3.0, 4.5, 12.0, 1.0, 1.5, 16.0, 1.0, 3.0, 1.0, 2.5, 2.0, 1.0, 2.0, 2.0, 1.0, 2.0, 4.0, 2.0, 4.5, 1.0, 0.5333333333333333, 0.7166666666666667, 1.0, 1.5, 1.0, 2.0, 0.6166666666666667, 1.5, 1.5, 2.0, 3.0, 9.0, 2.0, 2.5, 2.5, 3.0, 1.0, 1.0, 3.0, 1.0, 11.0, 5.5, 2.5, 1.0, 4.5, 4.5, 1.5, 2.0, 4.0, 1.0, 5.0, 0.5, 2.5, 1.5, 6.5, 3.0, 1.5, 1.0, 2.0, 7.0, 4.5, 4.0, 5.0, 8.0, 1.0, 5.5, 1.0, 2.0, 4.0, 4.0, 8.5, 1.0, 2.0, 1.0, 9.5, 0.5166666666666666, 0.5166666666666666, 1.5, 5.0, 1.0, 2.0, 1.0, 1.0, 8.0, 6.0, 1.0, 1.0, 1.5, 6.0, 0.5333333333333333, 6.0, 9.5, 2.5, 2.5, 2.5, 2.0, 0.6166666666666667, 8.0, 1.0, 1.5, 2.0, 3.0, 24.0, 2.0, 2.0, 2.5, 2.0, 1.5, 2.5, 7.5, 2.0, 1.0, 1.0, 1.0, 1.0, 1.0, 1.5, 0.65, 1.0, 0.6333333333333333, 1.0, 3.0, 8.0, 1.5, 2.0, 0.5333333333333333, 4.5, 1.5, 2.0, 7.5, 0.7, 0.6, 0.7, 1.5, 1.5, 1.0, 1.0, 1.5, 2.0, 3.0, 2.0, 1.5, 0.6333333333333333, 1.0, 1.5, 2.0, 2.5, 1.0, 1.0, 3.0, 0.5166666666666666, 1.0, 2.5, 3.0, 2.5, 2.0, 2.0, 1.0, 7.0, 3.5, 1.0, 1.5, 3.0, 2.0, 0.6333333333333333, 7.5, 1.5, 0.7, 4.0, 7.0, 1.5, 2.0, 7.5, 6.0, 0.6833333333333333, 2.5, 3.0, 0.5, 10.5, 0.5166666666666666, 2.0, 3.0, 2.0, 3.5, 1.5, 5.0, 2.0, 2.5, 3.0, 0.5, 2.0, 1.0, 2.5, 1.0, 2.5, 2.5, 0.6833333333333333, 1.0, 6.0, 5.5, 1.5, 3.0, 1.0, 2.0, 2.5, 2.0, 1.0, 2.0, 2.0, 3.5, 2.0, 8.0, 4.5, 3.0, 2.5, 0.7333333333333333, 1.5, 2.0, 1.0, 1.5, 1.0, 3.0, 4.5, 2.0, 3.5, 1.0, 1.5, 1.0, 1.0, 4.5, 2.5, 2.0, 1.0, 4.0, 2.0, 5.5, 1.0, 2.5, 11.5, 2.0, 4.0, 1.5, 3.0, 5.0, 5.0, 1.5, 5.5, 7.5, 4.0, 1.5, 1.5, 0.5, 1.0, 0.6666666666666666, 1.5, 4.5, 0.6666666666666666, 1.5, 6.0, 1.5, 1.5, 2.0, 1.5, 1.0, 2.5, 1.0, 2.5, 4.5, 4.0, 2.5, 0.4833333333333333, 1.0, 1.5, 1.5, 2.5, 0.65, 1.0, 1.5, 1.0, 2.0, 2.0, 0.5666666666666667, 1.5, 2.0, 3.5, 1.5, 1.0, 10.0, 1.5, 1.0, 11.5, 1.5, 1.0, 18.5, 1.5, 5.0, 4.5, 1.0, 1.5, 1.5, 1.0, 0.6166666666666667, 2.0, 4.0, 1.0, 1.5, 6.5, 8.5, 1.0, 3.0, 1.0, 3.5, 30.0, 9.5, 3.0, 34.0, 5.0, 31.0, 1.5, 15.5, 1.5, 11.5, 8.5, 9.0, 1.5, 1.5, 1.0, 1.5, 3.5, 1.0, 6.0, 1.5, 1.0, 1.5, 2.0, 1.5, 0.6333333333333333, 4.0, 1.5, 5.0, 1.5, 1.0, 2.5, 1.5, 1.0, 2.5, 2.0, 1.0, 2.5, 2.0, 1.0, 14.0, 1.0, 1.5, 1.0, 4.0, 28.5, 1.0, 2.0, 1.5, 2.5, 0.6, 1.0, 1.0, 0.6166666666666667, 2.5, 3.0, 1.0, 1.5, 5.0, 5.5, 10.5, 23.0, 1.5, 3.0, 1.5, 2.5, 1.0, 7.0, 1.5, 1.5, 0.7333333333333333, 1.0, 1.0, 8.0, 4.0, 1.0, 4.5, 0.6666666666666666, 1.5, 6.0, 2.0, 2.0, 6.0, 3.5, 1.0, 6.5, 0.6666666666666666, 5.0, 5.0, 12.5, 1.0, 4.0, 3.0, 3.0, 3.0, 1.0, 1.0, 4.0, 5.0, 2.5, 0.5833333333333334, 3.0, 0.5, 1.0, 0.5833333333333334, 3.5, 1.0, 1.5, 0.7333333333333333, 1.5, 2.0, 1.5, 1.0, 3.0, 3.0, 1.5, 6.5, 1.0, 7.0, 3.5, 2.0, 3.0, 3.0, 2.5, 8.0, 2.5, 2.0, 4.0, 5.5, 3.0, 2.0, 3.0, 1.0, 1.0, 2.0, 1.5, 1.0, 4.0, 1.5, 1.5, 0.7333333333333333, 1.0, 3.5, 2.0, 0.6, 2.0, 1.5, 1.5, 3.0, 2.5, 4.5, 1.5, 3.5, 1.5, 2.5, 1.0, 2.5, 2.5, 3.5, 2.0, 3.0, 1.0, 1.5, 3.5, 2.0, 3.0, 0.55, 1.5, 1.5, 2.0, 4.0, 1.5, 1.0, 1.0, 3.0, 2.0, 6.0, 5.0, 4.0, 0.5333333333333333, 4.5, 9.5, 0.5333333333333333, 1.0, 1.0, 3.5, 3.0, 1.5, 6.0, 1.5, 2.0, 4.0, 1.0, 38.0, 9.0, 2.0, 1.5, 1.5, 1.5, 0.6166666666666667, 3.0, 2.0, 2.0, 1.0, 2.0, 6.0, 0.55, 1.5, 2.5, 7.0, 10.5, 1.5, 1.5, 3.5, 1.5, 2.5, 4.0, 8.5, 3.5, 5.0, 3.5, 8.0, 7.0, 4.5, 0.7166666666666667, 1.5, 3.0, 2.5, 2.5, 1.0, 3.5, 3.0, 3.0, 3.5, 6.0, 4.0, 3.0, 2.0, 7.0, 3.0, 0.7333333333333333, 2.0, 2.0, 0.6166666666666667, 1.0, 1.5, 1.0, 1.5, 1.0, 1.0, 2.0, 1.5, 6.5, 2.5, 2.0, 1.5, 0.6666666666666666, 4.5, 5.0, 2.0, 1.5, 3.0, 1.0, 1.0, 2.5, 7.5, 7.0, 1.0, 2.5, 0.6166666666666667, 1.0, 3.0, 2.0, 1.5, 4.0, 3.0, 1.5, 3.5, 3.0, 5.5, 3.0, 1.5, 2.5, 1.0, 4.5, 1.5, 2.0, 2.0, 1.0, 2.0, 1.0, 1.5, 6.5, 3.0, 3.5, 1.5, 4.0, 5.0, 2.5, 1.5, 1.0, 1.0, 5.5, 3.5, 1.5, 2.5, 4.5, 5.5, 4.0, 1.5, 3.0, 8.0, 1.0, 1.5, 5.5, 5.5, 1.5, 6.0, 4.0, 1.0, 5.5, 1.5, 2.0, 0.7166666666666667, 0.6666666666666666, 2.0, 3.0, 2.5, 7.0, 1.5, 0.6333333333333333, 2.0, 7.5, 1.5, 2.0, 1.5, 1.0, 1.5, 3.5, 7.5, 4.5, 7.5, 2.5, 3.0, 1.5, 4.0, 1.0, 1.5, 5.5, 1.5, 2.0, 0.5833333333333334, 3.5, 0.7166666666666667, 2.0, 1.0, 3.5, 1.5, 1.0, 1.5, 1.0, 3.0, 1.0, 1.5, 3.5, 2.5, 4.0, 3.0, 2.0, 2.5, 1.0, 1.0, 1.0, 4.0, 2.0, 1.0, 0.6333333333333333, 2.0, 1.0, 2.0, 1.0, 1.0, 1.5, 2.5, 0.5333333333333333, 1.5, 2.5, 1.0, 1.0, 1.5, 1.0, 0.5333333333333333, 2.0, 1.5, 4.0, 1.0, 0.55, 2.5, 3.0, 0.55, 1.5, 1.0, 2.0, 2.0, 7.0, 1.0, 3.5, 0.6, 3.0, 1.0, 5.5, 1.5, 0.5666666666666667, 2.5, 1.5, 1.0, 0.5, 0.5, 0.65, 2.0, 0.5333333333333333, 0.5333333333333333, 0.6333333333333333, 2.5, 0.55, 0.5833333333333334, 0.5166666666666666, 0.5166666666666666, 1.0, 1.5, 0.7333333333333333, 10.5, 1.0, 1.0, 1.5, 4.0, 1.0, 1.5, 4.5, 0.6166666666666667, 1.5, 1.0, 1.0, 1.5, 1.5, 2.0, 4.5, 5.0, 4.0, 1.0, 1.5, 2.5, 1.5, 0.65, 2.5, 1.5, 2.5, 4.0, 4.5, 3.5, 0.5333333333333333, 0.6166666666666667, 3.0, 2.5, 1.5, 0.7333333333333333, 1.5, 1.5, 2.0, 0.7, 2.0, 2.0, 1.0, 1.5, 4.5, 3.0, 1.0, 2.5, 1.0, 2.0, 1.0, 6.0, 0.5666666666666667, 4.5, 6.0, 2.0, 3.0, 2.0, 1.0, 4.0, 3.5, 3.0, 3.5, 0.7, 3.0, 1.0, 3.0, 1.0, 3.0, 3.0, 4.0, 12.5, 4.5, 15.5, 5.5, 4.0, 5.5, 5.0, 19.5, 5.5, 7.0, 6.0, 1.5, 4.0, 3.5, 12.0, 3.0, 1.5, 3.0, 4.0, 5.0, 6.0, 32.5, 1.0, 9.5, 9.0, 7.5, 18.5, 5.0, 19.0, 15.0, 20.5, 3.0, 13.5, 3.5, 37.5, 3.5, 4.0, 1.0, 14.5, 2.0, 2.5, 1.5, 3.0, 1.5, 1.0, 4.0, 1.0, 7.0, 5.5, 3.5, 1.5, 17.5, 1.0, 2.5, 1.0, 10.0, 1.0, 8.5, 2.5, 6.5, 3.5, 8.0, 10.5, 2.5, 1.0, 1.5, 2.5, 10.5, 2.0, 3.0, 1.5, 8.0, 12.0, 25.0, 11.0, 4.5, 4.5, 8.5, 9.0, 20.0, 1.5, 7.0, 4.0, 5.0, 19.5, 7.5, 25.5, 12.0, 20.5, 3.0, 7.5, 45.0, 11.0, 33.0, 16.0, 1.0, 2.0, 1.5, 3.0, 11.0, 1.0, 3.5, 2.5, 12.5, 4.0, 3.5, 11.5, 2.0, 1.5, 1.0, 3.0, 3.0, 1.0, 1.5, 4.0, 2.0, 2.0, 15.0, 4.0, 1.5, 2.5, 3.5, 2.0, 2.5, 2.0, 3.5, 4.5, 1.0, 4.5, 1.0, 1.0, 3.0, 19.5, 6.5, 60.0, 11.5, 5.5, 10.0, 7.0, 16.5, 2.0, 1.5, 22.5, 13.5, 2.0, 7.0, 4.0, 5.5, 3.5, 2.0, 1.0, 1.5, 2.0, 3.0, 1.0, 10.0, 23.0, 18.0, 6.5, 18.5, 20.5, 6.5, 6.0, 14.5, 13.0, 8.5, 8.5, 5.0, 1.0, 4.5, 17.5, 1.5, 3.0, 6.0, 10.0, 0.55, 3.5, 2.5, 1.5, 1.5, 2.0, 2.0, 3.0, 7.5, 1.5, 5.5, 3.5, 1.0, 2.0, 1.5, 6.5, 3.0, 2.0, 2.5, 4.5, 4.5, 2.5, 6.0, 1.5, 3.0, 14.0, 2.0, 5.0, 1.0, 1.0, 3.5, 1.0, 1.0, 2.5, 16.5, 5.0, 4.0, 2.0, 6.5, 1.0, 29.5, 3.0, 21.5, 31.5, 15.5, 4.0, 12.0, 27.5, 5.5, 9.0, 5.0, 20.5, 14.5, 44.5, 9.0, 14.0, 15.5, 5.5, 22.5, 9.0, 12.0, 12.5, 3.5, 16.0, 2.5, 4.5, 13.0, 3.0, 2.5, 4.0, 0.6, 1.0, 1.0, 2.0, 1.0, 6.0, 1.0, 4.0, 1.0, 19.0, 1.5, 3.5, 18.0, 11.5, 24.5, 4.0, 2.0, 7.5, 1.5, 7.0, 2.5, 2.5, 2.0, 1.0, 25.0, 1.0, 15.5, 6.0, 6.0, 5.0, 4.5, 2.5, 2.5, 3.0, 8.5, 5.0, 5.0, 5.0, 1.0, 0.6666666666666666, 11.0, 4.0, 1.5, 1.0, 1.5, 1.0, 2.5, 4.0, 6.0, 4.5, 4.5, 4.0, 7.0, 18.5, 1.5, 1.5, 6.5, 0.6666666666666666, 1.0, 3.0, 2.5, 1.5, 3.5, 1.5, 3.5, 1.5, 1.0, 4.0, 4.5, 13.0, 11.0, 8.5, 9.0, 4.5, 3.5, 3.0, 1.5, 2.0, 9.0, 14.5, 3.0, 5.5, 51.0, 2.0, 32.5, 10.5, 12.0, 9.5, 3.0, 13.0, 4.0, 1.0, 1.5, 2.0, 12.5, 1.5, 9.5, 2.0, 4.5, 1.5, 2.5, 1.0, 1.0, 10.5, 1.5, 2.5, 3.5, 3.0, 4.5, 1.0, 2.0, 11.0, 3.0, 13.5, 8.0, 2.0, 3.0, 1.5, 2.5, 6.5, 1.5, 0.7166666666666667, 1.0, 2.5, 4.0, 3.5, 7.5, 1.0, 4.0, 3.5, 2.0, 0.7, 3.0, 3.0, 3.5, 13.5, 2.5, 1.0, 0.6166666666666667, 3.0, 0.5333333333333333, 4.0, 2.0, 1.0, 9.0, 2.0, 1.0, 3.0, 1.5, 1.5, 1.0, 1.5, 2.0, 2.5, 1.0, 2.0, 13.0, 1.5, 2.0, 4.0, 8.0, 6.0, 2.0, 2.0, 3.5, 0.5333333333333333, 2.0, 9.0, 10.5, 3.5, 2.0, 4.0, 4.0, 1.5, 1.5, 1.0, 12.5, 1.0, 1.0, 1.0, 1.5, 1.5, 2.0, 1.0, 2.5, 12.5, 2.0, 1.5, 1.0, 1.0, 1.0, 3.5, 3.5, 2.5, 6.0, 3.5, 6.5, 4.0, 1.0, 6.0, 2.0, 1.5, 3.0, 4.0, 0.5666666666666667, 19.0, 0.5666666666666667, 2.0, 17.0, 7.5, 3.0, 4.0, 1.5, 3.5, 1.5, 3.0, 2.0, 2.0, 3.0, 1.5, 9.0, 2.5, 9.0, 4.0, 11.0, 8.0, 7.0, 0.6833333333333333, 3.5, 3.5, 1.5, 1.5, 17.5, 3.0, 2.0, 0.5333333333333333, 6.5, 7.0, 1.0, 5.5, 1.0, 2.0, 1.5, 0.7, 0.7, 0.6166666666666667, 1.0, 1.0, 7.0, 6.0, 5.5, 1.0, 1.5, 3.0, 8.0, 1.0, 1.0, 0.55, 44.5, 16.5, 5.0, 3.0, 0.7333333333333333, 3.0, 3.0, 2.0, 1.5, 4.0, 2.0, 0.5833333333333334, 5.0, 2.0, 2.0, 1.5, 3.0, 2.5, 14.0, 9.0, 3.5, 2.0, 57.0, 7.5, 4.0, 5.0, 1.0, 1.5, 1.5, 4.0, 2.5, 3.0, 8.0, 9.5, 8.0, 3.0, 1.5, 2.0, 14.0, 2.0, 2.5, 1.0, 2.5, 6.5, 6.0, 3.0, 3.0, 2.0, 3.5, 1.0, 3.5, 13.0, 4.5, 13.0, 5.0, 3.5, 1.0, 3.5, 9.5, 0.5333333333333333, 1.5, 4.0, 0.55, 0.6333333333333333, 3.5, 5.5, 4.5, 9.0, 11.0, 10.5, 0.5333333333333333, 2.5, 0.6333333333333333, 2.5, 1.5, 3.5, 2.0, 8.0, 4.5, 7.0, 1.5, 1.5, 13.5, 4.0, 2.0, 4.0, 3.0, 1.5, 12.0, 2.5, 1.5, 3.5, 5.0, 0.65, 8.0, 2.0, 0.65, 2.0, 6.0, 5.5, 4.5, 4.5, 2.5, 15.5, 5.5, 1.5, 2.0, 1.0, 18.5, 7.5, 7.0, 1.5, 16.5, 3.0, 5.0, 0.6666666666666666, 4.0, 1.0, 1.5, 1.5, 3.5, 6.5, 1.0, 7.0, 2.0, 3.0, 0.6666666666666666, 6.0, 2.5, 1.0, 0.6, 2.0, 2.5, 10.0, 1.0, 1.0, 14.5, 7.5, 10.5, 3.5, 2.0, 1.5, 5.5, 7.5, 7.0, 2.0, 2.5, 2.5, 0.6666666666666666, 3.0, 0.5666666666666667, 4.5, 2.0, 4.0, 5.5, 5.0, 16.0, 9.0, 3.5, 76.5, 9.0, 11.5, 1.5, 11.5, 19.5, 9.0, 11.0, 5.0, 1.5, 3.5, 1.0, 2.0, 2.0, 2.0, 11.0, 1.5, 13.0, 7.0, 14.5, 2.0, 2.5, 10.5, 3.5, 1.0, 5.0, 1.0, 2.0, 1.5, 7.0, 2.5, 1.5, 0.6166666666666667, 3.0, 20.0, 16.5, 12.5, 4.5, 4.0, 8.5, 5.5, 6.0, 3.0, 10.0, 4.0, 4.0, 5.0, 15.5, 3.5, 1.5, 9.0, 4.5, 5.0, 2.0, 3.0, 0.6333333333333333, 20.0, 6.0, 8.0, 31.5, 14.5, 10.5, 12.5, 22.0, 8.0, 30.5, 17.0, 31.5, 3.0, 5.0, 3.5, 2.0, 3.5, 4.5, 2.5, 6.5, 5.5, 6.5, 4.5, 2.0, 1.0, 13.5, 8.0, 18.0, 8.0, 17.5, 8.5, 9.5, 9.0, 43.0, 10.0, 30.5, 32.5, 1.0, 0.6833333333333333, 5.0, 3.5, 4.5, 3.5, 5.5, 18.5, 3.5, 1.5, 1.0, 42.0, 7.0, 11.5, 5.5, 12.0, 6.5, 13.0, 7.0, 12.0, 26.5, 6.0, 7.5, 13.0, 0.7333333333333333, 1.0, 1.0, 7.5, 1.0, 0.6166666666666667, 3.5, 9.5, 2.0, 7.5, 3.5, 0.6333333333333333, 5.0, 3.0, 3.0, 1.5, 0.5666666666666667, 2.0, 0.6166666666666667, 6.5, 5.5, 0.5833333333333334, 1.0, 4.5, 7.5, 5.5, 14.0, 0.5833333333333334, 1.5, 5.5, 1.5, 6.5, 3.0, 2.0, 1.0, 2.0, 10.5, 1.0, 2.0, 2.0, 6.5, 1.0, 1.5, 1.0, 1.0, 3.0, 2.5, 3.0, 4.0, 2.0, 4.0, 1.0, 1.5, 7.5, 16.0, 2.0, 4.5, 3.5, 2.5, 1.0, 3.0, 1.0, 1.0, 1.5, 2.0, 5.5, 0.7, 6.0, 26.0, 6.0, 3.0, 4.0, 2.0, 1.0, 4.0, 3.5, 3.0, 2.0, 21.0, 2.5, 5.5, 0.55, 0.5, 2.0, 1.0, 6.0, 5.0, 2.0, 3.5, 2.0, 3.0, 1.0, 5.0, 18.5, 7.0, 1.5, 1.0, 1.0, 2.0, 8.0, 5.0, 1.5, 0.6333333333333333, 1.5, 5.0, 4.0, 2.5, 3.0, 4.5, 1.5, 3.0, 1.0, 1.5, 22.0, 3.0, 4.5, 1.0, 1.5, 1.0, 6.5, 2.0, 17.5, 1.0, 2.0, 4.0, 13.0, 3.5, 8.5, 1.0, 2.0, 3.5, 5.5, 1.5, 3.5, 26.0, 1.0, 4.5, 2.5, 1.5, 3.0, 1.5, 7.0, 2.5, 7.0, 8.5, 7.5, 1.0, 13.5, 1.5, 3.5, 3.0, 4.0, 12.5, 2.0, 7.5, 3.5, 2.5, 1.5, 2.0, 0.6166666666666667, 4.5, 8.5, 1.0, 2.0, 0.6333333333333333, 1.0, 6.0, 2.0, 1.0, 2.0, 2.0, 6.5, 3.0, 1.5, 4.5, 5.5, 5.5, 3.0, 3.0, 5.5, 1.5, 14.0, 0.5666666666666667, 4.0, 2.5, 1.0, 4.0, 1.0, 2.0, 0.5666666666666667, 0.5666666666666667, 1.5, 5.0, 2.5, 2.0, 6.5, 1.0, 4.5, 48.5, 2.5, 6.0, 1.5, 2.0, 1.5, 1.5, 1.5, 1.0, 0.5, 7.5, 2.0, 1.5, 3.0, 8.0, 25.5, 0.5833333333333334, 1.5, 2.5, 6.0, 3.0, 2.0, 0.5166666666666666, 5.5, 1.5, 1.0, 1.0, 1.0, 1.0, 4.0, 4.0, 2.0, 1.5, 2.5, 1.5, 1.0, 15.0, 1.5, 6.0, 5.0, 3.0, 1.5, 5.5, 0.5666666666666667, 2.5, 22.5, 0.7166666666666667, 0.65, 1.0, 5.0, 0.5166666666666666, 2.0, 7.0, 1.0, 10.0, 5.0, 1.0, 20.5, 3.0, 8.0, 1.0, 3.0, 3.5, 3.5, 2.5, 16.0, 2.5, 3.5, 0.6166666666666667, 4.0, 1.0, 5.0, 0.7333333333333333, 3.5, 0.5666666666666667, 4.5, 3.0, 7.0, 0.6833333333333333, 2.0, 6.5, 1.5, 5.0, 5.5, 3.0, 1.0, 2.5, 22.5, 0.65, 1.5, 2.0, 1.5, 3.5, 25.5, 2.5, 7.0, 0.6, 3.0, 2.0, 2.5, 2.0, 0.5833333333333334, 1.5, 5.0, 2.0, 4.0, 9.5, 3.0, 3.5, 1.5, 1.5, 2.5, 2.0, 16.5, 3.0, 3.5, 2.5, 3.0, 1.5, 2.0, 12.5, 1.0, 8.0, 3.5, 0.7, 6.5, 1.0, 1.5, 2.0, 1.5, 2.0, 3.5, 7.5, 4.0, 6.5, 11.0, 23.5, 7.0, 1.5, 2.5, 1.5, 2.0, 2.0, 2.0, 3.5, 6.5, 2.0, 2.5, 6.5, 0.5166666666666666, 5.0, 2.0, 2.5, 6.5, 3.5, 66.5, 3.0, 1.0, 1.0, 1.0, 11.5, 8.5, 12.5, 2.0, 5.0, 10.0, 4.5, 2.0, 6.5, 0.6333333333333333, 0.6333333333333333, 1.5, 1.0, 1.0, 1.0, 1.0, 5.0, 1.0, 0.5333333333333333, 19.5, 1.0, 6.5, 2.5, 1.5, 0.55, 5.0, 6.5, 1.5, 3.0, 2.5, 0.6, 9.5, 2.0, 0.5166666666666666, 14.0, 4.5, 10.0, 1.5, 5.5, 0.6166666666666667, 1.0, 2.5, 15.5, 2.0, 1.5, 3.5, 3.5, 8.5, 1.0, 2.0, 0.6166666666666667, 0.5, 0.5833333333333334, 2.5, 1.0, 1.5, 15.5, 2.0, 3.5, 3.5, 3.0, 2.0], \"xaxis\": \"x\", \"yaxis\": \"y\"}],                        {\"barmode\": \"relative\", \"legend\": {\"tracegroupgap\": 0}, \"template\": {\"data\": {\"bar\": [{\"error_x\": {\"color\": \"#2a3f5f\"}, \"error_y\": {\"color\": \"#2a3f5f\"}, \"marker\": {\"line\": {\"color\": \"#E5ECF6\", \"width\": 0.5}}, \"type\": \"bar\"}], \"barpolar\": [{\"marker\": {\"line\": {\"color\": \"#E5ECF6\", \"width\": 0.5}}, \"type\": \"barpolar\"}], \"carpet\": [{\"aaxis\": {\"endlinecolor\": \"#2a3f5f\", \"gridcolor\": \"white\", \"linecolor\": \"white\", \"minorgridcolor\": \"white\", \"startlinecolor\": \"#2a3f5f\"}, \"baxis\": {\"endlinecolor\": \"#2a3f5f\", \"gridcolor\": \"white\", \"linecolor\": \"white\", \"minorgridcolor\": \"white\", \"startlinecolor\": \"#2a3f5f\"}, \"type\": \"carpet\"}], \"choropleth\": [{\"colorbar\": {\"outlinewidth\": 0, \"ticks\": \"\"}, \"type\": \"choropleth\"}], \"contour\": [{\"colorbar\": {\"outlinewidth\": 0, \"ticks\": \"\"}, \"colorscale\": [[0.0, \"#0d0887\"], [0.1111111111111111, \"#46039f\"], [0.2222222222222222, \"#7201a8\"], [0.3333333333333333, \"#9c179e\"], [0.4444444444444444, \"#bd3786\"], [0.5555555555555556, \"#d8576b\"], [0.6666666666666666, \"#ed7953\"], [0.7777777777777778, \"#fb9f3a\"], [0.8888888888888888, \"#fdca26\"], [1.0, \"#f0f921\"]], \"type\": \"contour\"}], \"contourcarpet\": [{\"colorbar\": {\"outlinewidth\": 0, \"ticks\": \"\"}, \"type\": \"contourcarpet\"}], \"heatmap\": [{\"colorbar\": {\"outlinewidth\": 0, \"ticks\": \"\"}, \"colorscale\": [[0.0, \"#0d0887\"], [0.1111111111111111, \"#46039f\"], [0.2222222222222222, \"#7201a8\"], [0.3333333333333333, \"#9c179e\"], [0.4444444444444444, \"#bd3786\"], [0.5555555555555556, \"#d8576b\"], [0.6666666666666666, \"#ed7953\"], [0.7777777777777778, \"#fb9f3a\"], [0.8888888888888888, \"#fdca26\"], [1.0, \"#f0f921\"]], \"type\": \"heatmap\"}], \"heatmapgl\": [{\"colorbar\": {\"outlinewidth\": 0, \"ticks\": \"\"}, \"colorscale\": [[0.0, \"#0d0887\"], [0.1111111111111111, \"#46039f\"], [0.2222222222222222, \"#7201a8\"], [0.3333333333333333, \"#9c179e\"], [0.4444444444444444, \"#bd3786\"], [0.5555555555555556, \"#d8576b\"], [0.6666666666666666, \"#ed7953\"], [0.7777777777777778, \"#fb9f3a\"], [0.8888888888888888, \"#fdca26\"], [1.0, \"#f0f921\"]], \"type\": \"heatmapgl\"}], \"histogram\": [{\"marker\": {\"colorbar\": {\"outlinewidth\": 0, \"ticks\": \"\"}}, \"type\": \"histogram\"}], \"histogram2d\": [{\"colorbar\": {\"outlinewidth\": 0, \"ticks\": \"\"}, \"colorscale\": [[0.0, \"#0d0887\"], [0.1111111111111111, \"#46039f\"], [0.2222222222222222, \"#7201a8\"], [0.3333333333333333, \"#9c179e\"], [0.4444444444444444, \"#bd3786\"], [0.5555555555555556, \"#d8576b\"], [0.6666666666666666, \"#ed7953\"], [0.7777777777777778, \"#fb9f3a\"], [0.8888888888888888, \"#fdca26\"], [1.0, \"#f0f921\"]], \"type\": \"histogram2d\"}], \"histogram2dcontour\": [{\"colorbar\": {\"outlinewidth\": 0, \"ticks\": \"\"}, \"colorscale\": [[0.0, \"#0d0887\"], [0.1111111111111111, \"#46039f\"], [0.2222222222222222, \"#7201a8\"], [0.3333333333333333, \"#9c179e\"], [0.4444444444444444, \"#bd3786\"], [0.5555555555555556, \"#d8576b\"], [0.6666666666666666, \"#ed7953\"], [0.7777777777777778, \"#fb9f3a\"], [0.8888888888888888, \"#fdca26\"], [1.0, \"#f0f921\"]], \"type\": \"histogram2dcontour\"}], \"mesh3d\": [{\"colorbar\": {\"outlinewidth\": 0, \"ticks\": \"\"}, \"type\": \"mesh3d\"}], \"parcoords\": [{\"line\": {\"colorbar\": {\"outlinewidth\": 0, \"ticks\": \"\"}}, \"type\": \"parcoords\"}], \"pie\": [{\"automargin\": true, \"type\": \"pie\"}], \"scatter\": [{\"marker\": {\"colorbar\": {\"outlinewidth\": 0, \"ticks\": \"\"}}, \"type\": \"scatter\"}], \"scatter3d\": [{\"line\": {\"colorbar\": {\"outlinewidth\": 0, \"ticks\": \"\"}}, \"marker\": {\"colorbar\": {\"outlinewidth\": 0, \"ticks\": \"\"}}, \"type\": \"scatter3d\"}], \"scattercarpet\": [{\"marker\": {\"colorbar\": {\"outlinewidth\": 0, \"ticks\": \"\"}}, \"type\": \"scattercarpet\"}], \"scattergeo\": [{\"marker\": {\"colorbar\": {\"outlinewidth\": 0, \"ticks\": \"\"}}, \"type\": \"scattergeo\"}], \"scattergl\": [{\"marker\": {\"colorbar\": {\"outlinewidth\": 0, \"ticks\": \"\"}}, \"type\": \"scattergl\"}], \"scattermapbox\": [{\"marker\": {\"colorbar\": {\"outlinewidth\": 0, \"ticks\": \"\"}}, \"type\": \"scattermapbox\"}], \"scatterpolar\": [{\"marker\": {\"colorbar\": {\"outlinewidth\": 0, \"ticks\": \"\"}}, \"type\": \"scatterpolar\"}], \"scatterpolargl\": [{\"marker\": {\"colorbar\": {\"outlinewidth\": 0, \"ticks\": \"\"}}, \"type\": \"scatterpolargl\"}], \"scatterternary\": [{\"marker\": {\"colorbar\": {\"outlinewidth\": 0, \"ticks\": \"\"}}, \"type\": \"scatterternary\"}], \"surface\": [{\"colorbar\": {\"outlinewidth\": 0, \"ticks\": \"\"}, \"colorscale\": [[0.0, \"#0d0887\"], [0.1111111111111111, \"#46039f\"], [0.2222222222222222, \"#7201a8\"], [0.3333333333333333, \"#9c179e\"], [0.4444444444444444, \"#bd3786\"], [0.5555555555555556, \"#d8576b\"], [0.6666666666666666, \"#ed7953\"], [0.7777777777777778, \"#fb9f3a\"], [0.8888888888888888, \"#fdca26\"], [1.0, \"#f0f921\"]], \"type\": \"surface\"}], \"table\": [{\"cells\": {\"fill\": {\"color\": \"#EBF0F8\"}, \"line\": {\"color\": \"white\"}}, \"header\": {\"fill\": {\"color\": \"#C8D4E3\"}, \"line\": {\"color\": \"white\"}}, \"type\": \"table\"}]}, \"layout\": {\"annotationdefaults\": {\"arrowcolor\": \"#2a3f5f\", \"arrowhead\": 0, \"arrowwidth\": 1}, \"autotypenumbers\": \"strict\", \"coloraxis\": {\"colorbar\": {\"outlinewidth\": 0, \"ticks\": \"\"}}, \"colorscale\": {\"diverging\": [[0, \"#8e0152\"], [0.1, \"#c51b7d\"], [0.2, \"#de77ae\"], [0.3, \"#f1b6da\"], [0.4, \"#fde0ef\"], [0.5, \"#f7f7f7\"], [0.6, \"#e6f5d0\"], [0.7, \"#b8e186\"], [0.8, \"#7fbc41\"], [0.9, \"#4d9221\"], [1, \"#276419\"]], \"sequential\": [[0.0, \"#0d0887\"], [0.1111111111111111, \"#46039f\"], [0.2222222222222222, \"#7201a8\"], [0.3333333333333333, \"#9c179e\"], [0.4444444444444444, \"#bd3786\"], [0.5555555555555556, \"#d8576b\"], [0.6666666666666666, \"#ed7953\"], [0.7777777777777778, \"#fb9f3a\"], [0.8888888888888888, \"#fdca26\"], [1.0, \"#f0f921\"]], \"sequentialminus\": [[0.0, \"#0d0887\"], [0.1111111111111111, \"#46039f\"], [0.2222222222222222, \"#7201a8\"], [0.3333333333333333, \"#9c179e\"], [0.4444444444444444, \"#bd3786\"], [0.5555555555555556, \"#d8576b\"], [0.6666666666666666, \"#ed7953\"], [0.7777777777777778, \"#fb9f3a\"], [0.8888888888888888, \"#fdca26\"], [1.0, \"#f0f921\"]]}, \"colorway\": [\"#636efa\", \"#EF553B\", \"#00cc96\", \"#ab63fa\", \"#FFA15A\", \"#19d3f3\", \"#FF6692\", \"#B6E880\", \"#FF97FF\", \"#FECB52\"], \"font\": {\"color\": \"#2a3f5f\"}, \"geo\": {\"bgcolor\": \"white\", \"lakecolor\": \"white\", \"landcolor\": \"#E5ECF6\", \"showlakes\": true, \"showland\": true, \"subunitcolor\": \"white\"}, \"hoverlabel\": {\"align\": \"left\"}, \"hovermode\": \"closest\", \"mapbox\": {\"style\": \"light\"}, \"paper_bgcolor\": \"white\", \"plot_bgcolor\": \"#E5ECF6\", \"polar\": {\"angularaxis\": {\"gridcolor\": \"white\", \"linecolor\": \"white\", \"ticks\": \"\"}, \"bgcolor\": \"#E5ECF6\", \"radialaxis\": {\"gridcolor\": \"white\", \"linecolor\": \"white\", \"ticks\": \"\"}}, \"scene\": {\"xaxis\": {\"backgroundcolor\": \"#E5ECF6\", \"gridcolor\": \"white\", \"gridwidth\": 2, \"linecolor\": \"white\", \"showbackground\": true, \"ticks\": \"\", \"zerolinecolor\": \"white\"}, \"yaxis\": {\"backgroundcolor\": \"#E5ECF6\", \"gridcolor\": \"white\", \"gridwidth\": 2, \"linecolor\": \"white\", \"showbackground\": true, \"ticks\": \"\", \"zerolinecolor\": \"white\"}, \"zaxis\": {\"backgroundcolor\": \"#E5ECF6\", \"gridcolor\": \"white\", \"gridwidth\": 2, \"linecolor\": \"white\", \"showbackground\": true, \"ticks\": \"\", \"zerolinecolor\": \"white\"}}, \"shapedefaults\": {\"line\": {\"color\": \"#2a3f5f\"}}, \"ternary\": {\"aaxis\": {\"gridcolor\": \"white\", \"linecolor\": \"white\", \"ticks\": \"\"}, \"baxis\": {\"gridcolor\": \"white\", \"linecolor\": \"white\", \"ticks\": \"\"}, \"bgcolor\": \"#E5ECF6\", \"caxis\": {\"gridcolor\": \"white\", \"linecolor\": \"white\", \"ticks\": \"\"}}, \"title\": {\"x\": 0.05}, \"xaxis\": {\"automargin\": true, \"gridcolor\": \"white\", \"linecolor\": \"white\", \"ticks\": \"\", \"title\": {\"standoff\": 15}, \"zerolinecolor\": \"white\", \"zerolinewidth\": 2}, \"yaxis\": {\"automargin\": true, \"gridcolor\": \"white\", \"linecolor\": \"white\", \"ticks\": \"\", \"title\": {\"standoff\": 15}, \"zerolinecolor\": \"white\", \"zerolinewidth\": 2}}}, \"title\": {\"text\": \"Durations of UDEMY Courses\"}, \"xaxis\": {\"anchor\": \"y\", \"domain\": [0.0, 1.0], \"title\": {\"text\": \"content_duration\"}}, \"yaxis\": {\"anchor\": \"x\", \"domain\": [0.0, 1.0], \"title\": {\"text\": \"count\"}}},                        {\"responsive\": true}                    ).then(function(){\n",
       "                            \n",
       "var gd = document.getElementById('0eb53901-5f81-4c5e-9c3a-e8f14e1a3a58');\n",
       "var x = new MutationObserver(function (mutations, observer) {{\n",
       "        var display = window.getComputedStyle(gd).display;\n",
       "        if (!display || display === 'none') {{\n",
       "            console.log([gd, 'removed!']);\n",
       "            Plotly.purge(gd);\n",
       "            observer.disconnect();\n",
       "        }}\n",
       "}});\n",
       "\n",
       "// Listen for the removal of the full notebook cells\n",
       "var notebookContainer = gd.closest('#notebook-container');\n",
       "if (notebookContainer) {{\n",
       "    x.observe(notebookContainer, {childList: true});\n",
       "}}\n",
       "\n",
       "// Listen for the clearing of the current output cell\n",
       "var outputEl = gd.closest('.output');\n",
       "if (outputEl) {{\n",
       "    x.observe(outputEl, {childList: true});\n",
       "}}\n",
       "\n",
       "                        })                };                });            </script>        </div>"
      ]
     },
     "metadata": {},
     "output_type": "display_data"
    }
   ],
   "source": [
    "fig = px.histogram(df, x= 'content_duration', title='Durations of UDEMY Courses')\n",
    "\n",
    "fig.show()"
   ]
  },
  {
   "cell_type": "markdown",
   "id": "western-portsmouth",
   "metadata": {
    "papermill": {
     "duration": 0.060985,
     "end_time": "2021-07-07T21:05:32.592735",
     "exception": false,
     "start_time": "2021-07-07T21:05:32.531750",
     "status": "completed"
    },
    "tags": []
   },
   "source": [
    "From given table of Durations of UDEMY courses, we can see that  0-3 hours range has a lot of courses. But as we have mentioned before and easily seen in the histogram, we have highly sekwed data with outliers.  "
   ]
  },
  {
   "cell_type": "markdown",
   "id": "varied-potato",
   "metadata": {
    "papermill": {
     "duration": 0.061646,
     "end_time": "2021-07-07T21:05:32.715391",
     "exception": false,
     "start_time": "2021-07-07T21:05:32.653745",
     "status": "completed"
    },
    "tags": []
   },
   "source": [
    "- Befor moving on the details, let's see the correlation matrix for our dataset"
   ]
  },
  {
   "cell_type": "code",
   "execution_count": 16,
   "id": "active-occurrence",
   "metadata": {
    "_kg_hide-input": true,
    "execution": {
     "iopub.execute_input": "2021-07-07T21:05:32.854218Z",
     "iopub.status.busy": "2021-07-07T21:05:32.853529Z",
     "iopub.status.idle": "2021-07-07T21:05:32.857673Z",
     "shell.execute_reply": "2021-07-07T21:05:32.857023Z",
     "shell.execute_reply.started": "2021-07-07T20:45:36.581751Z"
    },
    "papermill": {
     "duration": 0.08029,
     "end_time": "2021-07-07T21:05:32.857827",
     "exception": false,
     "start_time": "2021-07-07T21:05:32.777537",
     "status": "completed"
    },
    "tags": []
   },
   "outputs": [
    {
     "data": {
      "text/html": [
       "<div>\n",
       "<style scoped>\n",
       "    .dataframe tbody tr th:only-of-type {\n",
       "        vertical-align: middle;\n",
       "    }\n",
       "\n",
       "    .dataframe tbody tr th {\n",
       "        vertical-align: top;\n",
       "    }\n",
       "\n",
       "    .dataframe thead th {\n",
       "        text-align: right;\n",
       "    }\n",
       "</style>\n",
       "<table border=\"1\" class=\"dataframe\">\n",
       "  <thead>\n",
       "    <tr style=\"text-align: right;\">\n",
       "      <th></th>\n",
       "      <th>is_paid</th>\n",
       "      <th>price</th>\n",
       "      <th>num_subscribers</th>\n",
       "      <th>num_reviews</th>\n",
       "      <th>num_lectures</th>\n",
       "      <th>content_duration</th>\n",
       "    </tr>\n",
       "  </thead>\n",
       "  <tbody>\n",
       "    <tr>\n",
       "      <th>is_paid</th>\n",
       "      <td>1.000000</td>\n",
       "      <td>0.328513</td>\n",
       "      <td>-0.266159</td>\n",
       "      <td>-0.087471</td>\n",
       "      <td>0.112574</td>\n",
       "      <td>0.094417</td>\n",
       "    </tr>\n",
       "    <tr>\n",
       "      <th>price</th>\n",
       "      <td>0.328513</td>\n",
       "      <td>1.000000</td>\n",
       "      <td>0.050769</td>\n",
       "      <td>0.113696</td>\n",
       "      <td>0.330160</td>\n",
       "      <td>0.293450</td>\n",
       "    </tr>\n",
       "    <tr>\n",
       "      <th>num_subscribers</th>\n",
       "      <td>-0.266159</td>\n",
       "      <td>0.050769</td>\n",
       "      <td>1.000000</td>\n",
       "      <td>0.649946</td>\n",
       "      <td>0.157746</td>\n",
       "      <td>0.161839</td>\n",
       "    </tr>\n",
       "    <tr>\n",
       "      <th>num_reviews</th>\n",
       "      <td>-0.087471</td>\n",
       "      <td>0.113696</td>\n",
       "      <td>0.649946</td>\n",
       "      <td>1.000000</td>\n",
       "      <td>0.243029</td>\n",
       "      <td>0.228889</td>\n",
       "    </tr>\n",
       "    <tr>\n",
       "      <th>num_lectures</th>\n",
       "      <td>0.112574</td>\n",
       "      <td>0.330160</td>\n",
       "      <td>0.157746</td>\n",
       "      <td>0.243029</td>\n",
       "      <td>1.000000</td>\n",
       "      <td>0.801647</td>\n",
       "    </tr>\n",
       "    <tr>\n",
       "      <th>content_duration</th>\n",
       "      <td>0.094417</td>\n",
       "      <td>0.293450</td>\n",
       "      <td>0.161839</td>\n",
       "      <td>0.228889</td>\n",
       "      <td>0.801647</td>\n",
       "      <td>1.000000</td>\n",
       "    </tr>\n",
       "  </tbody>\n",
       "</table>\n",
       "</div>"
      ],
      "text/plain": [
       "                   is_paid     price  num_subscribers  num_reviews  \\\n",
       "is_paid           1.000000  0.328513        -0.266159    -0.087471   \n",
       "price             0.328513  1.000000         0.050769     0.113696   \n",
       "num_subscribers  -0.266159  0.050769         1.000000     0.649946   \n",
       "num_reviews      -0.087471  0.113696         0.649946     1.000000   \n",
       "num_lectures      0.112574  0.330160         0.157746     0.243029   \n",
       "content_duration  0.094417  0.293450         0.161839     0.228889   \n",
       "\n",
       "                  num_lectures  content_duration  \n",
       "is_paid               0.112574          0.094417  \n",
       "price                 0.330160          0.293450  \n",
       "num_subscribers       0.157746          0.161839  \n",
       "num_reviews           0.243029          0.228889  \n",
       "num_lectures          1.000000          0.801647  \n",
       "content_duration      0.801647          1.000000  "
      ]
     },
     "execution_count": 16,
     "metadata": {},
     "output_type": "execute_result"
    }
   ],
   "source": [
    "df.corr()"
   ]
  },
  {
   "cell_type": "code",
   "execution_count": 17,
   "id": "statutory-commonwealth",
   "metadata": {
    "_kg_hide-input": true,
    "execution": {
     "iopub.execute_input": "2021-07-07T21:05:32.989438Z",
     "iopub.status.busy": "2021-07-07T21:05:32.988641Z",
     "iopub.status.idle": "2021-07-07T21:05:33.071788Z",
     "shell.execute_reply": "2021-07-07T21:05:33.072344Z",
     "shell.execute_reply.started": "2021-07-07T20:45:36.600268Z"
    },
    "papermill": {
     "duration": 0.152622,
     "end_time": "2021-07-07T21:05:33.072520",
     "exception": false,
     "start_time": "2021-07-07T21:05:32.919898",
     "status": "completed"
    },
    "tags": []
   },
   "outputs": [
    {
     "data": {
      "text/html": [
       "<div>                            <div id=\"8d61c4d0-375a-487d-879c-26f33334f05a\" class=\"plotly-graph-div\" style=\"height:1000px; width:1000px;\"></div>            <script type=\"text/javascript\">                require([\"plotly\"], function(Plotly) {                    window.PLOTLYENV=window.PLOTLYENV || {};                                    if (document.getElementById(\"8d61c4d0-375a-487d-879c-26f33334f05a\")) {                    Plotly.newPlot(                        \"8d61c4d0-375a-487d-879c-26f33334f05a\",                        [{\"dimensions\": [{\"label\": \"price\", \"values\": [200, 75, 45, 95, 200, 150, 65, 95, 195, 200, 200, 200, 30, 195, 200, 75, 20, 200, 50, 95, 200, 200, 75, 50, 45, 150, 200, 175, 150, 140, 95, 200, 45, 200, 200, 195, 195, 200, 195, 195, 195, 195, 195, 115, 200, 150, 95, 200, 190, 150, 200, 95, 125, 30, 200, 60, 200, 145, 20, 200, 105, 60, 155, 200, 185, 150, 180, 125, 200, 185, 125, 95, 200, 20, 60, 200, 200, 120, 150, 25, 200, 160, 20, 95, 50, 200, 20, 200, 195, 200, 20, 20, 95, 150, 40, 0, 20, 100, 75, 20, 40, 20, 25, 0, 50, 200, 0, 195, 0, 20, 150, 95, 0, 20, 150, 20, 25, 150, 50, 0, 50, 180, 50, 100, 25, 200, 20, 90, 0, 20, 35, 50, 100, 50, 20, 200, 200, 60, 150, 20, 105, 20, 150, 0, 100, 60, 200, 200, 20, 30, 95, 95, 60, 20, 20, 200, 125, 200, 200, 35, 200, 200, 120, 195, 125, 200, 25, 200, 20, 195, 20, 50, 200, 120, 200, 200, 45, 50, 80, 0, 200, 20, 50, 200, 120, 145, 195, 200, 45, 20, 200, 75, 20, 0, 20, 20, 150, 20, 200, 45, 60, 20, 20, 50, 50, 50, 0, 50, 60, 0, 60, 40, 45, 0, 200, 95, 20, 50, 200, 95, 40, 20, 20, 200, 20, 20, 60, 75, 20, 20, 20, 200, 20, 20, 20, 30, 95, 50, 65, 95, 50, 95, 50, 105, 120, 40, 35, 20, 0, 0, 50, 20, 200, 0, 125, 35, 20, 75, 50, 30, 50, 100, 150, 20, 200, 95, 200, 95, 30, 25, 125, 35, 30, 50, 200, 35, 25, 50, 20, 20, 20, 20, 125, 0, 20, 20, 60, 60, 0, 50, 0, 0, 60, 60, 115, 25, 120, 0, 150, 0, 50, 0, 35, 20, 200, 20, 20, 80, 70, 50, 20, 75, 90, 40, 30, 200, 20, 75, 25, 20, 20, 50, 20, 20, 25, 20, 50, 200, 200, 60, 180, 50, 200, 30, 50, 40, 50, 20, 150, 95, 0, 20, 200, 20, 60, 195, 0, 0, 0, 45, 100, 20, 20, 200, 0, 0, 180, 75, 25, 50, 0, 95, 40, 100, 145, 30, 50, 20, 20, 20, 95, 90, 20, 75, 0, 50, 20, 145, 100, 60, 45, 200, 200, 150, 200, 25, 20, 25, 125, 50, 20, 20, 200, 150, 200, 20, 160, 200, 30, 20, 40, 50, 200, 200, 100, 50, 20, 50, 200, 50, 30, 20, 20, 25, 45, 200, 50, 40, 25, 20, 60, 20, 20, 20, 20, 0, 20, 40, 30, 30, 35, 20, 0, 0, 30, 200, 50, 190, 95, 35, 30, 195, 60, 195, 200, 0, 20, 20, 20, 50, 50, 80, 25, 20, 20, 20, 50, 50, 50, 20, 50, 95, 100, 40, 40, 50, 55, 0, 20, 95, 200, 55, 50, 25, 20, 20, 50, 95, 40, 55, 50, 50, 20, 20, 0, 125, 50, 50, 120, 200, 20, 0, 0, 95, 0, 20, 165, 200, 25, 195, 200, 20, 0, 20, 40, 95, 195, 95, 20, 35, 195, 200, 105, 20, 30, 20, 20, 20, 30, 20, 20, 40, 105, 20, 100, 20, 200, 95, 180, 100, 150, 50, 200, 60, 20, 25, 95, 20, 200, 50, 50, 20, 20, 50, 0, 50, 75, 50, 50, 75, 20, 195, 50, 55, 20, 50, 100, 40, 40, 30, 50, 190, 195, 50, 40, 100, 20, 20, 200, 60, 0, 95, 0, 20, 50, 25, 95, 50, 50, 50, 20, 20, 20, 55, 20, 20, 20, 200, 20, 0, 50, 40, 20, 20, 20, 200, 100, 20, 25, 80, 20, 95, 70, 20, 25, 40, 20, 20, 45, 20, 20, 25, 20, 20, 50, 20, 200, 20, 20, 150, 20, 195, 20, 0, 200, 0, 50, 95, 50, 0, 200, 60, 50, 30, 200, 20, 25, 20, 200, 145, 30, 45, 40, 20, 20, 145, 30, 50, 200, 95, 45, 45, 95, 95, 200, 180, 50, 100, 40, 50, 20, 50, 50, 20, 20, 0, 40, 30, 60, 200, 0, 130, 35, 95, 20, 90, 50, 35, 20, 145, 40, 150, 20, 20, 20, 20, 20, 35, 180, 50, 40, 0, 20, 125, 20, 0, 50, 75, 95, 50, 95, 80, 195, 25, 200, 50, 20, 95, 40, 50, 20, 50, 25, 25, 30, 200, 50, 20, 20, 40, 0, 50, 30, 50, 50, 0, 50, 0, 30, 35, 25, 20, 60, 50, 20, 20, 40, 20, 45, 100, 50, 90, 0, 100, 20, 20, 50, 0, 40, 20, 200, 40, 30, 195, 95, 0, 0, 20, 50, 20, 20, 50, 50, 200, 0, 50, 40, 20, 20, 0, 20, 20, 95, 40, 50, 85, 0, 20, 25, 50, 50, 20, 35, 20, 100, 50, 75, 20, 20, 60, 200, 145, 60, 20, 50, 200, 200, 60, 20, 20, 140, 120, 200, 50, 170, 50, 200, 150, 150, 60, 20, 50, 20, 200, 20, 20, 100, 45, 50, 0, 50, 50, 0, 50, 25, 150, 0, 0, 25, 50, 0, 0, 50, 0, 20, 0, 25, 20, 50, 25, 0, 125, 200, 120, 20, 50, 195, 20, 60, 20, 50, 20, 50, 95, 150, 20, 20, 50, 20, 50, 50, 40, 30, 50, 0, 35, 0, 20, 20, 30, 150, 75, 50, 100, 20, 0, 90, 20, 0, 25, 20, 50, 60, 20, 90, 20, 20, 50, 200, 100, 160, 20, 20, 25, 25, 50, 60, 60, 150, 20, 20, 25, 200, 30, 50, 20, 200, 0, 20, 20, 0, 20, 75, 30, 20, 20, 20, 145, 200, 30, 20, 30, 25, 45, 35, 20, 20, 20, 20, 20, 95, 20, 35, 30, 35, 50, 60, 30, 20, 20, 20, 20, 50, 0, 25, 20, 180, 95, 20, 20, 20, 200, 0, 30, 20, 50, 50, 50, 20, 50, 20, 95, 100, 20, 20, 20, 0, 45, 200, 40, 30, 50, 20, 20, 40, 20, 50, 50, 0, 20, 50, 50, 20, 35, 20, 95, 20, 35, 40, 110, 20, 20, 95, 135, 50, 30, 70, 200, 20, 40, 195, 50, 50, 115, 20, 20, 50, 0, 25, 50, 150, 20, 20, 20, 200, 35, 40, 50, 20, 20, 45, 25, 20, 50, 50, 35, 30, 170, 20, 20, 30, 30, 20, 35, 195, 150, 0, 20, 0, 85, 75, 45, 25, 20, 80, 200, 150, 20, 85, 20, 45, 25, 30, 200, 115, 30, 45, 130, 140, 30, 20, 140, 20, 85, 20, 20, 25, 40, 20, 100, 175, 40, 20, 25, 20, 195, 200, 20, 50, 50, 35, 25, 20, 30, 30, 55, 200, 20, 30, 125, 25, 35, 0, 20, 20, 85, 25, 0, 70, 100, 40, 50, 75, 0, 0, 0, 0, 0, 0, 25, 20, 195, 45, 65, 20, 95, 30, 0, 40, 50, 40, 200, 195, 200, 50, 20, 25, 195, 200, 200, 0, 100, 20, 200, 115, 200, 200, 50, 150, 20, 50, 20, 50, 35, 40, 20, 20, 35, 180, 50, 40, 50, 95, 40, 40, 50, 20, 200, 20, 20, 25, 20, 200, 20, 50, 65, 50, 50, 195, 20, 0, 20, 30, 50, 20, 20, 40, 100, 85, 90, 25, 55, 40, 0, 35, 20, 25, 180, 20, 50, 20, 20, 25, 50, 20, 150, 95, 150, 20, 200, 200, 180, 65, 25, 20, 200, 195, 0, 0, 0, 200, 150, 200, 200, 95, 75, 30, 200, 150, 95, 200, 150, 195, 20, 30, 20, 50, 20, 25, 20, 50, 150, 30, 25, 20, 30, 25, 20, 20, 20, 20, 20, 0, 0, 0, 0, 185, 20, 100, 50, 30, 200, 25, 20, 20, 20, 200, 200, 20, 150, 150, 200, 45, 45, 30, 80, 0, 60, 0, 0, 190, 20, 95, 200, 75, 45, 120, 20, 95, 25, 0, 30, 40, 0, 0, 50, 0, 20, 100, 40, 0, 105, 30, 25, 40, 95, 95, 95, 0, 40, 20, 20, 20, 70, 50, 30, 20, 200, 65, 200, 20, 40, 0, 75, 50, 0, 50, 20, 30, 70, 20, 20, 20, 80, 200, 125, 50, 20, 20, 20, 50, 45, 20, 40, 20, 20, 45, 0, 100, 20, 60, 25, 150, 70, 30, 20, 30, 100, 135, 80, 60, 30, 30, 20, 0, 200, 20, 80, 195, 0, 20, 200, 20, 50, 25, 35, 95, 0, 30, 0, 0, 200, 145, 95, 40, 20, 100, 165, 30, 30, 100, 100, 0, 25, 120, 135, 35, 20, 20, 70, 0, 145, 25, 195, 0, 0, 20, 50, 30, 30, 30, 135, 75, 140, 20, 20, 95, 20, 0, 0, 25, 95, 50, 70, 20, 90, 45, 100, 50, 95, 30, 85, 20, 75, 195, 20, 45, 20, 20, 55, 20, 115, 20, 20, 20, 50, 150, 25, 45, 20, 35, 20, 185, 20, 20, 30, 20, 20, 95, 20, 25, 200, 100, 30, 55, 20, 200, 95, 0, 95, 20, 0, 25, 20, 20, 20, 40, 20, 20, 20, 20, 40, 20, 20, 35, 20, 20, 20, 20, 20, 65, 195, 30, 65, 200, 50, 90, 195, 95, 100, 50, 20, 155, 20, 45, 90, 45, 20, 75, 40, 20, 40, 40, 30, 30, 150, 20, 100, 20, 150, 20, 20, 20, 50, 20, 20, 50, 20, 85, 20, 30, 20, 40, 200, 200, 200, 200, 180, 195, 20, 25, 20, 50, 20, 25, 20, 20, 20, 20, 20, 100, 20, 95, 35, 200, 25, 25, 50, 55, 30, 20, 20, 70, 20, 20, 40, 20, 20, 20, 30, 80, 50, 25, 20, 45, 30, 20, 30, 20, 20, 25, 180, 20, 75, 95, 195, 175, 100, 35, 125, 90, 195, 20, 135, 20, 100, 20, 20, 20, 30, 60, 20, 20, 20, 40, 50, 20, 25, 200, 25, 35, 20, 30, 20, 50, 20, 20, 50, 30, 50, 20, 20, 20, 50, 100, 50, 45, 20, 25, 20, 20, 20, 20, 35, 150, 20, 40, 20, 100, 20, 125, 20, 100, 35, 50, 150, 50, 20, 35, 195, 55, 20, 50, 30, 30, 25, 35, 95, 40, 40, 20, 50, 20, 30, 200, 195, 200, 100, 50, 200, 20, 20, 35, 165, 20, 100, 20, 20, 50, 105, 200, 35, 100, 120, 20, 0, 95, 65, 20, 30, 20, 20, 50, 20, 45, 20, 35, 20, 40, 20, 30, 25, 55, 100, 25, 20, 50, 20, 20, 20, 50, 40, 95, 80, 20, 200, 100, 150, 195, 105, 25, 195, 20, 50, 20, 30, 20, 95, 20, 40, 50, 50, 20, 35, 50, 20, 30, 85, 25, 20, 35, 0, 30, 20, 35, 20, 20, 120, 20, 20, 25, 65, 20, 20, 45, 100, 20, 20, 40, 40, 20, 20, 20, 20, 25, 50, 25, 20, 200, 35, 20, 20, 85, 40, 25, 195, 35, 0, 20, 195, 200, 75, 40, 20, 20, 20, 195, 25, 25, 20, 35, 20, 20, 30, 20, 25, 20, 20, 20, 40, 20, 20, 30, 20, 20, 20, 20, 20, 0, 20, 150, 30, 0, 0, 50, 80, 50, 25, 40, 20, 70, 30, 0, 20, 40, 0, 35, 20, 30, 45, 40, 95, 50, 20, 55, 50, 20, 20, 40, 35, 45, 20, 50, 30, 20, 100, 50, 50, 95, 50, 50, 50, 95, 80, 100, 20, 0, 50, 120, 80, 40, 50, 50, 100, 50, 100, 75, 50, 20, 55, 40, 40, 75, 0, 40, 45, 40, 30, 50, 60, 40, 70, 0, 40, 200, 115, 50, 55, 50, 45, 35, 50, 20, 0, 40, 40, 40, 100, 20, 65, 60, 40, 40, 0, 50, 20, 0, 40, 0, 40, 70, 0, 120, 30, 175, 75, 20, 35, 50, 120, 70, 50, 0, 200, 85, 150, 20, 35, 0, 50, 20, 45, 95, 0, 50, 20, 200, 50, 50, 0, 0, 40, 70, 200, 85, 0, 25, 20, 20, 40, 40, 95, 45, 100, 50, 50, 20, 35, 0, 50, 0, 70, 120, 50, 45, 50, 30, 30, 40, 0, 60, 50, 50, 150, 65, 50, 25, 0, 0, 40, 20, 20, 50, 200, 25, 55, 0, 50, 0, 200, 200, 50, 145, 50, 200, 50, 200, 50, 200, 200, 150, 45, 45, 200, 75, 50, 35, 200, 50, 50, 100, 50, 50, 60, 0, 40, 60, 55, 45, 40, 50, 70, 95, 0, 40, 95, 95, 45, 145, 50, 20, 75, 200, 200, 50, 20, 50, 50, 25, 50, 40, 75, 30, 95, 75, 25, 100, 60, 115, 95, 50, 100, 55, 20, 45, 200, 75, 50, 65, 65, 30, 20, 20, 0, 25, 20, 40, 50, 35, 30, 50, 20, 0, 20, 20, 85, 30, 125, 70, 75, 50, 0, 150, 45, 20, 45, 45, 40, 40, 75, 25, 40, 20, 0, 20, 20, 0, 60, 30, 40, 75, 30, 95, 20, 50, 50, 50, 25, 35, 20, 60, 195, 50, 50, 40, 65, 20, 50, 30, 95, 35, 50, 30, 20, 50, 95, 35, 75, 50, 25, 100, 55, 25, 20, 30, 0, 20, 20, 25, 20, 50, 50, 50, 35, 50, 50, 20, 20, 50, 20, 70, 50, 20, 50, 35, 20, 20, 50, 195, 95, 20, 40, 65, 45, 50, 20, 40, 20, 75, 20, 20, 20, 50, 100, 80, 40, 50, 20, 30, 40, 20, 50, 50, 50, 25, 50, 20, 0, 35, 90, 20, 0, 20, 25, 0, 40, 75, 35, 85, 55, 40, 45, 20, 25, 70, 50, 30, 50, 20, 50, 50, 50, 20, 100, 100, 50, 85, 200, 50, 20, 50, 50, 55, 35, 65, 195, 50, 95, 20, 40, 35, 0, 20, 40, 40, 20, 20, 40, 35, 35, 50, 20, 40, 50, 100, 95, 50, 20, 20, 20, 40, 25, 25, 50, 50, 40, 50, 35, 50, 25, 30, 50, 50, 50, 30, 20, 50, 50, 50, 40, 20, 20, 100, 40, 20, 25, 20, 25, 20, 20, 50, 95, 50, 20, 105, 50, 20, 40, 20, 50, 50, 20, 35, 20, 30, 60, 20, 50, 25, 50, 20, 35, 50, 115, 35, 50, 50, 20, 50, 20, 20, 20, 80, 45, 50, 25, 50, 60, 40, 35, 195, 40, 45, 50, 40, 20, 40, 50, 45, 50, 175, 45, 50, 40, 55, 20, 40, 40, 20, 20, 35, 40, 50, 20, 20, 35, 20, 40, 30, 50, 20, 35, 40, 20, 40, 180, 35, 80, 40, 40, 0, 50, 35, 20, 20, 50, 20, 20, 20, 75, 50, 95, 20, 60, 20, 20, 60, 40, 20, 25, 50, 40, 50, 40, 30, 95, 40, 35, 30, 20, 50, 30, 50, 20, 40, 20, 40, 30, 95, 20, 20, 20, 20, 20, 135, 135, 25, 25, 130, 20, 125, 20, 20, 20, 35, 20, 40, 20, 40, 85, 0, 20, 35, 25, 50, 45, 40, 20, 20, 0, 0, 0, 0, 20, 170, 85, 100, 50, 60, 50, 40, 20, 95, 20, 0, 200, 25, 30, 20, 20, 95, 40, 40, 20, 40, 50, 195, 30, 35, 40, 20, 25, 25, 20, 0, 45, 20, 40, 40, 50, 30, 180, 20, 200, 20, 50, 20, 50, 50, 50, 50, 55, 50, 20, 50, 20, 50, 20, 75, 50, 50, 60, 20, 40, 50, 150, 200, 40, 195, 25, 200, 20, 95, 40, 20, 20, 40, 50, 100, 40, 200, 200, 190, 120, 110, 165, 60, 65, 200, 150, 85, 60, 200, 195, 195, 100, 20, 195, 60, 95, 150, 100, 20, 20, 120, 20, 175, 60, 70, 20, 50, 100, 100, 100, 75, 80, 75, 195, 150, 125, 145, 50, 100, 20, 115, 75, 20, 50, 200, 135, 95, 200, 150, 195, 200, 80, 150, 120, 195, 65, 20, 75, 20, 200, 25, 200, 50, 200, 80, 150, 195, 100, 60, 50, 0, 0, 0, 0, 100, 0, 20, 30, 20, 40, 50, 75, 20, 65, 20, 0, 200, 195, 0, 20, 50, 20, 40, 40, 0, 20, 50, 50, 120, 195, 95, 50, 0, 50, 50, 0, 200, 200, 150, 200, 100, 50, 60, 95, 30, 30, 150, 200, 20, 50, 200, 195, 195, 195, 95, 55, 195, 200, 100, 20, 35, 60, 200, 20, 195, 195, 195, 195, 40, 195, 175, 40, 95, 115, 50, 0, 0, 200, 20, 200, 0, 20, 195, 0, 85, 200, 20, 150, 195, 95, 150, 95, 95, 50, 75, 195, 20, 95, 50, 30, 195, 20, 100, 200, 100, 35, 20, 150, 25, 75, 40, 20, 95, 140, 50, 0, 70, 100, 30, 25, 150, 115, 190, 85, 200, 195, 100, 120, 50, 200, 100, 200, 200, 200, 195, 195, 50, 40, 200, 30, 50, 150, 100, 100, 0, 0, 50, 60, 0, 30, 45, 0, 25, 0, 0, 20, 200, 100, 50, 40, 20, 50, 20, 30, 200, 200, 40, 35, 20, 30, 45, 25, 20, 200, 200, 100, 50, 200, 195, 195, 30, 200, 200, 20, 200, 35, 100, 75, 20, 30, 60, 20, 40, 40, 100, 100, 20, 20, 45, 195, 180, 200, 50, 200, 20, 0, 25, 50, 0, 0, 20, 20, 120, 20, 20, 20, 25, 35, 150, 200, 20, 50, 20, 95, 20, 100, 20, 50, 100, 100, 60, 165, 195, 195, 65, 100, 50, 50, 35, 195, 195, 35, 200, 40, 145, 20, 50, 70, 50, 100, 200, 75, 20, 0, 25, 0, 0, 60, 20, 115, 0, 125, 0, 195, 50, 95, 80, 20, 75, 100, 195, 20, 50, 30, 200, 70, 95, 0, 40, 25, 200, 35, 0, 20, 50, 100, 40, 20, 20, 50, 0, 60, 65, 25, 125, 35, 40, 95, 95, 35, 20, 45, 65, 20, 25, 50, 50, 20, 20, 115, 50, 40, 20, 20, 30, 95, 20, 30, 50, 20, 195, 20, 20, 95, 120, 50, 100, 200, 195, 150, 75, 200, 200, 115, 20, 125, 150, 40, 20, 65, 40, 75, 170, 20, 125, 45, 200, 195, 0, 200, 0, 20, 20, 50, 0, 100, 35, 35, 195, 20, 50, 95, 40, 25, 20, 75, 20, 50, 200, 200, 80, 125, 20, 20, 60, 30, 20, 20, 55, 200, 195, 75, 35, 50, 20, 0, 60, 120, 25, 75, 40, 0, 45, 0, 20, 0, 30, 100, 175, 95, 40, 20, 20, 50, 185, 20, 50, 45, 200, 200, 100, 20, 0, 100, 40, 40, 20, 50, 65, 35, 95, 25, 95, 20, 20, 75, 110, 30, 145, 95, 200, 50, 50, 100, 20, 25, 50, 195, 50, 20, 20, 100, 200, 70, 20, 20, 200, 200, 145, 100, 20, 195, 200, 150, 100, 140, 40, 20, 0, 150, 200, 50, 20, 40, 20, 95, 50, 0, 0, 95, 45, 40, 50, 200, 40, 100, 200, 50, 35, 200, 45, 100, 75, 95, 75, 195, 95, 75, 20, 40, 95, 20, 80, 20, 100, 150, 120, 200, 75, 195, 170, 150, 20, 75, 20, 90, 50, 110, 50, 75, 50, 145, 100, 20, 20, 20, 85, 50, 115, 200, 45, 55, 30, 55, 20, 20, 50, 25, 145, 40, 0, 20, 0, 0, 20, 100, 0, 0, 20, 75, 140, 40, 95, 200, 95, 150, 100, 105, 20, 200, 95, 150, 95, 20, 50, 200, 20, 75, 20, 75, 40, 20, 20, 35, 110, 100, 195, 200, 150, 195, 70, 75, 150, 60, 50, 195, 20, 100, 20, 25, 80, 100, 200, 90, 175, 50, 120, 95, 195, 25, 50, 30, 40, 35, 40, 20, 50, 35, 0, 0, 20, 195, 60, 195, 195, 40, 200, 90, 75, 195, 195, 30, 195, 30, 50, 100, 40, 30, 120, 50, 50, 20, 85, 50, 110, 145, 200, 50, 190, 110, 190, 145, 200, 100, 195, 30, 55, 50, 35, 95, 50, 45, 30, 45, 150, 0, 50, 40, 150, 50, 190, 160, 195, 150, 150, 140, 200, 75, 200, 200, 0, 0, 195, 125, 0, 100, 145, 145, 0, 0, 35, 200, 175, 175, 75, 195, 80, 195, 110, 140, 180, 120, 190, 150, 0, 0, 20, 195, 20, 30, 35, 175, 95, 50, 50, 40, 0, 20, 30, 120, 0, 85, 20, 200, 60, 40, 35, 145, 200, 200, 120, 20, 0, 35, 20, 0, 0, 0, 75, 0, 100, 0, 60, 0, 30, 35, 60, 45, 65, 55, 0, 0, 20, 0, 55, 30, 0, 30, 20, 0, 0, 0, 50, 0, 200, 0, 0, 0, 0, 95, 0, 0, 195, 95, 0, 125, 0, 0, 175, 85, 75, 20, 0, 0, 165, 35, 80, 50, 0, 100, 80, 0, 20, 20, 145, 100, 85, 195, 30, 25, 200, 50, 0, 200, 0, 20, 25, 0, 50, 0, 55, 0, 200, 30, 95, 20, 20, 200, 30, 25, 35, 0, 30, 120, 0, 60, 0, 20, 200, 60, 100, 0, 0, 0, 0, 75, 20, 100, 195, 45, 75, 35, 95, 100, 25, 195, 95, 50, 20, 195, 200, 50, 90, 90, 120, 200, 195, 120, 50, 55, 85, 55, 195, 20, 40, 50, 0, 85, 20, 25, 40, 20, 45, 95, 0, 0, 0, 25, 125, 50, 80, 45, 25, 0, 200, 50, 45, 0, 150, 0, 45, 50, 200, 200, 40, 0, 65, 45, 35, 195, 95, 20, 200, 20, 40, 50, 200, 40, 60, 0, 0, 0, 30, 0, 200, 145, 50, 200, 40, 0, 20, 95, 50, 50, 20, 40, 50, 20, 35, 20, 35, 25, 195, 100, 200, 200, 25, 100, 50, 150, 100, 195, 20, 75, 95, 30, 75, 40, 35, 40, 65, 0, 0, 0, 100, 0, 50, 30, 20, 0, 20, 200, 95, 85, 20, 55, 25, 50, 50, 85, 0, 120, 20, 40, 0, 125, 50, 75, 50, 200, 0, 100, 40, 120, 50, 0, 50, 20, 20, 200, 20, 0, 20, 0, 125, 95, 105, 100, 20, 50, 20, 40, 25, 0, 95, 195, 20, 200, 30, 150, 60, 200, 20, 195, 50, 200, 20, 40, 50, 50, 95, 95, 100, 50, 35, 95, 35, 60, 65, 200, 20, 200, 20, 20, 20, 20, 20, 200, 200, 50, 20, 20, 30, 25, 50, 20, 85, 20, 75, 20, 40, 50, 20, 50, 20, 85, 65, 50, 0, 0, 20, 55, 40, 50, 145, 95, 200, 40, 95, 100, 95, 50, 30, 120, 20, 20, 45, 20, 25, 0, 30, 150, 40, 90, 0, 20, 20, 30, 200, 0, 75, 95, 50, 185, 20, 40, 25, 0, 200, 125, 200, 35, 45, 20, 20, 25, 20, 100, 30, 150, 45, 0, 40, 30, 0, 50, 20, 20, 150, 100, 25, 40, 50, 45]}, {\"label\": \"num_subscribers\", \"values\": [2147, 2792, 2174, 2451, 1276, 9221, 1540, 2917, 5172, 827, 4284, 1380, 3607, 4061, 294, 2276, 4919, 2666, 5354, 8095, 809, 2295, 10149, 1916, 2507, 5786, 5334, 4005, 2877, 1026, 1165, 1843, 8797, 1030, 1041, 7884, 16900, 11441, 22257, 8575, 24481, 3811, 4991, 7489, 20195, 10042, 367, 10603, 1197, 2893, 1580, 10605, 2996, 6219, 1113, 8314, 5572, 1433, 936, 658, 8121, 4187, 9445, 3255, 7941, 1680, 10100, 5050, 2310, 5528, 6451, 12394, 1793, 3223, 16385, 1487, 2951, 2697, 3979, 3190, 1406, 4252, 11958, 7743, 2134, 1214, 3870, 2146, 484, 1057, 1754, 1239, 2493, 2602, 2000, 1514, 1361, 61, 1513, 1374, 2103, 1480, 2516, 50855, 1971, 837, 17160, 1723, 6811, 2060, 2318, 2153, 19339, 3177, 1535, 1027, 307, 2096, 1315, 29167, 1056, 2212, 2946, 271, 3771, 3143, 1951, 4022, 11724, 2283, 1181, 1852, 4661, 989, 5841, 1087, 611, 1922, 9015, 661, 1077, 6050, 3523, 56659, 1444, 2900, 1437, 453, 2437, 5057, 6092, 4530, 6967, 727, 1560, 1047, 1045, 3050, 2988, 2623, 1924, 3804, 4133, 1420, 1120, 668, 4086, 1033, 832, 677, 3125, 1081, 1645, 3348, 939, 2115, 2230, 2053, 1793, 3775, 521, 2222, 1097, 2506, 975, 1398, 1096, 1703, 1446, 2736, 2000, 853, 3094, 4077, 4117, 1369, 1224, 3870, 897, 1311, 1338, 1589, 1189, 701, 1105, 123, 5874, 354, 727, 3465, 54, 627, 650, 965, 1113, 739, 1201, 2474, 494, 1580, 617, 2235, 2293, 1094, 1449, 3251, 607, 1218, 1132, 656, 3339, 1271, 1574, 1393, 1029, 843, 1730, 1182, 1160, 1730, 1260, 871, 1566, 2987, 973, 2177, 1772, 1850, 1780, 4607, 12, 13, 2, 2571, 8, 7, 217, 22, 131, 5, 116, 27, 912, 1964, 1033, 913, 2092, 2240, 4601, 2953, 1091, 1459, 4855, 4034, 57, 26, 14, 49, 11, 9, 91, 44, 106, 2079, 135, 31, 217, 611, 5007, 1168, 4653, 3035, 454, 325, 228, 562, 577, 10540, 912, 2955, 190, 1736, 1135, 2101, 1048, 1740, 1749, 1187, 1263, 115, 43, 55, 18, 14, 47, 134, 153, 47, 42, 120, 68, 844, 2045, 1168, 2342, 2268, 967, 1185, 631, 968, 1132, 114, 204, 1548, 409, 1169, 249, 690, 1340, 274, 4863, 1923, 224, 721, 51, 1276, 2768, 1735, 8985, 1119, 2591, 1046, 2239, 1882, 5931, 4931, 3056, 1303, 2924, 1405, 1121, 1776, 1643, 801, 951, 1278, 1184, 1115, 1086, 3730, 810, 2338, 3403, 4695, 17847, 2692, 6374, 2305, 589, 22, 2490, 2715, 1506, 2197, 338, 1076, 2769, 1531, 1136, 2187, 1609, 2895, 1023, 1988, 1053, 4497, 2379, 993, 10338, 1423, 3555, 567, 1085, 7159, 11517, 1, 10, 41, 8, 43, 23, 9, 25, 7, 12, 1, 29, 17, 132, 126, 32, 480, 27, 167, 131, 927, 37, 19, 43, 751, 49, 45, 1685, 4269, 124, 811, 956, 126, 26, 91, 30, 226, 52, 89, 267, 4770, 265, 2046, 605, 472, 388, 98, 1888, 0, 0, 0, 0, 0, 0, 0, 0, 0, 0, 0, 0, 495, 375, 1730, 283, 136, 23, 683, 618, 188, 911, 512, 769, 302, 149, 72, 33, 13, 79, 139, 2247, 17, 45, 33, 54, 1498, 2317, 5077, 65576, 1202, 22344, 2189, 431, 1199, 5685, 1512, 1806, 668, 3757, 828, 111, 39, 613, 57, 246, 83, 62, 31, 367, 3, 3, 2, 3, 1, 1, 2, 1, 2, 1, 1, 0, 731, 66, 51, 507, 9, 375, 80, 152, 37, 194, 1184, 638, 64, 44, 814, 211, 768, 29, 156, 2144, 376, 214, 406, 394, 438, 56, 58, 1047, 166, 605, 38, 46, 217, 78, 35, 80, 1941, 1367, 1519, 2025, 1213, 1092, 5099, 869, 59, 10670, 1741, 19614, 4, 1, 4, 4, 8, 8, 11, 18, 16, 6, 4, 1, 210, 4, 273, 237, 368, 86, 204, 570, 225, 37, 36, 218, 50, 148, 74, 260, 299, 4, 65, 101, 92, 76, 14, 18, 21, 18, 21, 49, 168, 16, 2, 336, 20, 28, 11, 11, 360, 1189, 9995, 100, 3426, 592, 1222, 1532, 5768, 343, 540, 2031, 7, 4, 21, 29, 50, 1, 5, 6, 16, 70, 110, 7, 1186, 632, 1237, 513, 4103, 1489, 547, 353, 507, 1079, 3667, 2222, 9, 225, 13, 373, 306, 14, 51, 13, 1318, 347, 274, 9, 359, 6024, 315, 280, 401, 701, 57, 205, 62, 114, 789, 446, 17, 16, 117, 147, 7, 247, 143, 621, 6, 5, 2674, 227, 4480, 1329, 5144, 2635, 1750, 3360, 3425, 2688, 1095, 1680, 2046, 1699, 1071, 1037, 223, 653, 230, 2281, 4702, 366, 521, 252, 1101, 223, 135, 23, 112, 2122, 152, 267, 155, 87, 2146, 154, 4248, 517, 2638, 2914, 6050, 16, 3917, 1122, 4158, 1252, 5108, 2981, 1223, 7750, 564, 2075, 45, 44, 308, 55, 718, 206, 18, 86, 294, 27, 375, 94, 2080, 3137, 155, 1732, 3372, 2185, 1008, 256, 1173, 1352, 49, 124, 105, 117, 6533, 7, 30, 91, 28, 83, 623, 1625, 0, 0, 0, 1, 0, 0, 0, 0, 0, 0, 0, 0, 737, 554, 807, 779, 1777, 841, 56, 1909, 775, 1255, 1193, 1309, 623, 276, 314, 1942, 885, 226, 461, 152, 1017, 1074, 440, 978, 36, 74, 78, 10, 39, 37, 2166, 78, 21, 1086, 7, 168, 2801, 12217, 6185, 477, 1334, 5407, 9483, 1032, 8236, 2383, 3283, 2650, 1551, 545, 663, 3519, 825, 70, 357, 853, 397, 74, 1254, 89, 38, 18, 103, 7, 104, 42, 507, 241, 226, 50, 100, 99, 99, 1192, 209, 5529, 81, 1924, 646, 520, 1440, 452, 178, 21, 12, 209, 505, 16, 25, 229, 6, 1, 10, 1, 34, 0, 0, 0, 0, 0, 0, 0, 0, 0, 0, 0, 0, 459, 266, 104, 1509, 212, 462, 90, 153, 1055, 157, 103, 1067, 58, 74, 338, 27, 76, 27, 68, 112, 72, 335, 22, 41, 1, 16, 3, 4, 2, 12, 10, 12, 5, 1, 2, 9, 42, 110, 420, 206, 164, 69, 28, 90, 13, 31, 13, 2119, 136, 797, 503, 1150, 1403, 916, 627, 168, 2554, 120, 750, 217, 106, 397, 44, 30, 95, 55, 94, 578, 393, 116, 1888, 412, 40, 222, 831, 485, 232, 135, 61, 61, 874, 22, 5597, 261, 83, 152, 176, 8, 327, 264, 15, 104, 71, 26, 11, 1294, 32, 313, 635, 1311, 288, 97, 53, 1102, 57, 694, 137, 12, 18, 170, 119, 2058, 35, 40, 13, 4, 71, 71, 6, 1, 5, 1, 4, 10, 6, 2, 2, 2, 2, 6, 2, 206, 313, 193, 66, 270, 139, 77, 225, 23, 4876, 244, 1278, 31, 8, 40, 9, 45, 13, 4, 20, 9, 29, 6, 7, 859, 5983, 1673, 1284, 394, 689, 649, 187, 1798, 465, 813, 326, 26, 26, 28, 122, 149, 205, 11, 3, 108, 8, 9, 16, 11, 12, 11, 2, 9, 15, 7, 27, 5, 3, 5, 5, 132, 112, 285, 91, 32, 2740, 59, 16, 22, 15, 1059, 187, 0, 0, 0, 0, 1089, 743, 1362, 405, 1168, 16, 3840, 7183, 483, 172, 256, 1542, 64, 384, 3014, 454, 312, 315, 609, 207, 399, 1175, 543, 1634, 1013, 319, 1125, 2481, 1006, 1044, 1240, 504, 15, 358, 80, 133, 207, 426, 45, 1280, 142, 188, 718, 293, 93, 894, 353, 829, 1195, 335, 500, 159, 739, 87, 185, 741, 576, 1046, 486, 52, 106, 38, 32, 171, 79, 397, 85, 1696, 201, 1235, 137, 384, 103, 379, 1573, 150, 48, 781, 952, 612, 1819, 551, 788, 408, 944, 323, 101, 984, 89, 129, 249, 75, 2252, 462, 1720, 390, 4297, 1076, 9367, 8901, 4235, 14440, 12340, 2027, 381, 69, 21, 15276, 26742, 5326, 36288, 15500, 7282, 10875, 8196, 1360, 6858, 18303, 1789, 293, 662, 1279, 1080, 120, 1085, 447, 372, 721, 736, 114, 331, 0, 0, 0, 0, 0, 0, 0, 0, 217, 334, 817, 637, 2358, 3721, 1148, 2489, 1782, 6975, 9464, 2044, 5787, 25277, 6944, 6028, 5104, 2476, 3000, 185, 418, 431, 23, 126, 3329, 720, 800, 1477, 1552, 1076, 1016, 919, 1224, 774, 715, 1768, 2555, 426, 3108, 276, 390, 6754, 5086, 1146, 47811, 1564, 739, 1029, 2665, 1079, 1440, 1401, 2634, 1046, 505, 827, 8786, 253, 1933, 1504, 1332, 1150, 1056, 1350, 1586, 821, 56, 1150, 1557, 246, 3103, 1090, 1235, 946, 1500, 1452, 24, 3, 20, 33, 97, 8, 4, 10, 2, 5, 1, 3, 311, 447, 616, 797, 549, 274, 709, 3812, 1373, 441, 201, 661, 300, 211, 65, 43, 44, 33, 20, 37, 190, 129, 123, 38, 3251, 2091, 1002, 806, 389, 1031, 500, 68, 651, 341, 867, 142, 1825, 24687, 2266, 5175, 3512, 797, 2745, 2361, 1530, 1873, 1338, 1479, 38, 934, 50, 27, 6429, 422, 410, 15, 115, 272, 280, 354, 44044, 1367, 1754, 2067, 5301, 4294, 1679, 327, 740, 1348, 1249, 1275, 3117, 896, 4208, 3903, 1710, 1606, 4776, 23229, 1456, 1534, 2199, 1202, 2004, 778, 502, 1526, 1468, 798, 2044, 1310, 1145, 326, 2228, 2420, 387, 421, 987, 324, 319, 1087, 270, 124, 371, 1098, 107, 507, 646, 1738, 2354, 238, 165, 1080, 489, 706, 507, 770, 1028, 545, 690, 2911, 734, 4353, 521, 3481, 711, 1123, 12103, 1418, 3390, 53851, 3, 1, 3, 1, 2, 1, 1, 2, 1, 0, 0, 0, 3, 25, 1, 108, 13, 11, 37, 7, 1, 1, 6, 18, 1905, 3360, 941, 4927, 2087, 2938, 2911, 1797, 3192, 1538, 5072, 1086, 213, 135, 164, 290, 183, 35, 86, 96, 353, 33, 172, 155, 27, 2, 7, 18, 4, 139, 18, 5, 167, 311, 13, 34, 1522, 6039, 4449, 6428, 24857, 2873, 5840, 1011, 6215, 33205, 1452, 1343, 41, 314, 239, 507, 228, 21, 92, 91, 33, 177, 668, 92, 8, 22, 3, 2, 2, 1, 2, 11, 9, 9, 1, 1, 6, 1, 4, 1, 2, 4, 4, 1, 1, 1, 1, 0, 885, 2863, 915, 3525, 2035, 2267, 1197, 1043, 1356, 1657, 655, 1282, 35, 220, 481, 1013, 593, 679, 2346, 140, 528, 297, 228, 1207, 5, 4, 36, 3, 3, 1, 2, 13, 1, 1, 5, 3, 970, 342, 106, 229, 437, 500, 725, 142, 317, 50, 115, 780, 0, 0, 0, 0, 0, 343, 0, 0, 384, 677, 1110, 858, 1359, 9847, 2416, 1524, 11893, 3381, 1270, 1753, 3618, 2489, 4080, 1602, 7, 8, 7, 57, 91, 11, 6, 5, 5, 6, 34, 7, 5471, 3599, 4961, 3377, 1323, 2599, 6612, 1675, 5850, 2325, 1276, 1000, 86, 11, 42, 28, 5, 74, 27, 13, 27, 1433, 110, 15, 19, 87, 802, 14, 1132, 347, 219, 30, 130, 509, 342, 87, 259, 72, 363, 23, 78, 99, 14, 282, 113, 66, 52, 116, 623, 827, 5000, 793, 972, 2427, 3131, 5950, 4550, 2081, 785, 2424, 57, 50, 262, 45, 272, 10, 12, 43, 165, 83, 17, 34, 293, 113, 72, 155, 48, 1447, 86, 13, 15, 28, 62, 125, 33, 51, 361, 50, 4, 134, 36, 32, 30, 22, 452, 67, 1081, 189, 775, 88, 598, 145, 445, 237, 1005, 485, 238, 1116, 105, 23, 82, 13, 19, 105, 94, 5, 98, 5, 6, 5, 91, 3, 121, 105, 17, 380, 494, 518, 214, 11, 33, 9, 817, 286, 774, 41, 30, 837, 11, 254, 40, 84, 23, 32, 4529, 823, 1472, 1327, 924, 898, 1039, 1474, 1167, 1589, 219, 835, 747, 1337, 530, 1297, 295, 2084, 515, 1026, 414, 198, 250, 180, 128, 709, 117, 305, 153, 81, 85, 73, 178, 122, 402, 119, 605, 476, 707, 438, 1199, 966, 877, 1504, 1064, 117, 1229, 922, 662, 1732, 326, 1284, 1029, 886, 1213, 1605, 2673, 1987, 1052, 1548, 257, 1818, 543, 95, 321, 408, 43, 239, 584, 144, 297, 1137, 86, 98, 2566, 55, 537, 595, 659, 186, 460, 252, 87, 1720, 390, 2618, 390, 496, 341, 97, 1249, 861, 973, 868, 193, 9193, 5830, 1224, 101154, 407, 3481, 124, 2002, 14495, 746, 920, 362, 927, 953, 469, 450, 600, 1018, 181, 8240, 582, 1235, 380, 1842, 3137, 4967, 2154, 936, 1224, 1030, 14922, 2788, 2686, 1594, 1018, 1194, 270, 3325, 172, 834, 382, 452, 5543, 153, 1582, 560, 111, 1060, 452, 2346, 103, 833, 2358, 1814, 2543, 3042, 809, 9351, 811, 1424, 193, 65, 59, 545, 668, 100, 5769, 293, 492, 500, 346, 353, 1174, 1513, 6292, 6853, 475, 776, 1337, 701, 1350, 1141, 1203, 5188, 0, 462, 75499, 21701, 3157, 32935, 10869, 5316, 4192, 8857, 10435, 8113, 7178, 2102, 1329, 1220, 3206, 482, 2498, 478, 1788, 1249, 1976, 567, 2045, 1204, 1227, 47652, 1638, 568, 3013, 2795, 491, 1018, 2164, 2415, 2285, 1268, 2026, 2164, 969, 1987, 1319, 4560, 1593, 6565, 4133, 1541, 14560, 7140, 1495, 1200, 1674, 54, 940, 1152, 2558, 850, 3937, 6271, 4557, 5292, 4982, 4733, 3371, 1409, 26504, 3141, 1449, 2692, 3312, 2015, 2015, 7, 228, 65, 1094, 60, 83, 122, 106, 55, 77, 92, 29, 8217, 1305, 916, 2357, 1951, 1284, 769, 3122, 1269, 1618, 89, 66, 630, 249, 198, 84, 58, 186, 21, 431, 53, 2610, 26, 32, 1631, 12, 12, 236, 7, 11, 11, 12, 135, 5, 57, 7, 73, 35, 30, 32, 39, 90, 37, 42, 276, 88, 10, 11, 29, 7, 9, 8, 8, 8, 17, 2, 4, 8, 122, 5, 11, 36, 111, 888, 53, 65, 38, 18, 22, 211, 10, 12, 17, 11, 8, 7, 6, 2, 5, 14, 11, 11, 57, 377, 273, 406, 556, 115, 420, 32, 26, 116, 425, 736, 68, 104, 189, 738, 365, 146, 383, 92, 291, 61, 288, 78, 594, 489, 13, 103, 231, 44, 261, 114, 45, 3167, 105, 85, 335, 4452, 332, 287, 1876, 113, 158, 480, 228, 42, 10, 103, 75, 66, 61, 184, 24, 205, 19, 120, 232, 148, 10, 72, 172, 10, 25, 1, 13, 69, 10, 25, 21, 5, 418, 113, 78, 51, 58, 56, 162, 2577, 62, 42, 28, 261, 44, 4, 98, 19, 197, 58, 21, 92, 239, 5, 173, 10, 12, 54, 28, 238, 512, 177, 61, 21, 115, 510, 147, 9, 5, 7, 4, 4, 4, 2, 3, 3, 3, 1, 1, 1, 9, 44, 13, 17, 118, 5, 11, 113, 36, 10, 12, 78, 31, 205, 213, 33, 284, 8, 98, 119, 45, 297, 137, 112, 28, 79, 333, 48, 41, 209, 119, 139, 41, 95, 184, 8, 376, 37, 169, 20, 89, 98, 265, 196, 292, 14, 16, 114, 185, 42, 57, 17, 70, 245, 76, 44, 80, 68, 54, 80, 85, 57, 12, 11, 42, 20, 41, 5, 119, 22, 20, 17, 82, 79, 21, 29, 31, 156, 12, 74, 353, 137, 59, 47, 71, 21, 36, 8, 375, 215, 80, 31, 56, 18, 57, 59, 6, 4, 4, 3, 7, 2, 3, 3, 1, 3, 3, 3, 164, 28, 47, 15, 151, 14, 16, 19, 14, 40, 41, 9, 46, 75, 19, 22, 17, 26, 2, 13, 1, 14, 6, 31, 1, 1, 1, 0, 0, 0, 0, 0, 0, 0, 0, 0, 31, 237, 120, 384, 3160, 455, 82, 136, 63, 64, 28, 27, 0, 970, 991, 61, 1, 1981, 245, 38, 255, 62, 186, 62, 13, 25, 17, 36, 349, 85, 24, 26, 19, 30, 45, 305, 26, 75, 32, 70, 200, 478, 73, 33, 59, 192, 57, 81, 2995, 181, 589, 48, 81, 225, 438, 152, 244, 248, 111, 52, 10, 10, 9, 7, 7, 1, 6, 4, 6, 3, 5, 5, 43285, 47886, 2577, 8777, 23764, 3541, 2669, 1966, 4090, 2578, 24978, 3133, 15276, 12458, 1087, 14074, 26800, 9425, 2780, 35267, 2607, 1502, 9359, 14842, 6082, 12366, 4720, 7057, 16829, 4872, 5809, 13439, 733, 14813, 6601, 2804, 9421, 9668, 2760, 9831, 486, 11170, 9384, 9067, 10247, 10610, 6162, 1802, 4783, 2097, 17714, 9554, 1129, 22213, 2412, 18324, 1696, 7169, 12893, 4708, 1050, 7852, 1683, 119, 1735, 3699, 10103, 7380, 3903, 4892, 2786, 15064, 22623, 952, 3415, 7827, 9773, 13457, 1399, 4028, 1371, 12953, 5125, 43285, 25864, 5211, 8234, 2687, 5143, 1827, 5026, 1301, 23412, 8691, 3119, 10150, 14026, 2214, 21147, 19909, 1385, 10780, 604, 1772, 3357, 796, 4123, 2697, 997, 713, 4259, 98867, 1849, 1645, 64128, 2160, 7660, 2025, 1548, 2472, 13535, 5795, 2643, 3704, 1678, 960, 1811, 4123, 26697, 5921, 3011, 8768, 1673, 16158, 4057, 6851, 2234, 9607, 4689, 9375, 4848, 84897, 12838, 24861, 9762, 11262, 1270, 17895, 11285, 1040, 23572, 3801, 12068, 5559, 1838, 2104, 15187, 10606, 6497, 11536, 16282, 949, 1995, 6636, 7146, 1703, 12815, 44, 502, 627, 851, 29990, 10179, 563, 2320, 2353, 13210, 1004, 3015, 8693, 8711, 9945, 18143, 13882, 57422, 10179, 18101, 2789, 1437, 10864, 14254, 6134, 7867, 8594, 1892, 3960, 10518, 10008, 1023, 3392, 7213, 4183, 25854, 6153, 4010, 5022, 5547, 2532, 2362, 7741, 1658, 3324, 7184, 4442, 7196, 2371, 8496, 1346, 14103, 3295, 4375, 12021, 26673, 69186, 11384, 2390, 7059, 3179, 1870, 18170, 6073, 5335, 8755, 4144, 6420, 1741, 9881, 3252, 5089, 5962, 5181, 3493, 417, 1599, 15134, 2596, 1783, 12974, 785, 4115, 13242, 1154, 16212, 16409, 1337, 1469, 2660, 421, 31070, 1737, 11492, 5439, 8059, 12105, 3877, 2919, 2409, 2083, 2076, 2918, 842, 7130, 5549, 155, 1697, 2526, 2342, 21730, 1117, 2401, 3887, 1156, 1385, 10890, 1126, 3652, 1723, 3759, 1653, 5387, 4563, 3757, 4193, 3694, 1905, 2875, 613, 633, 1515, 900, 2382, 32260, 3249, 1274, 72932, 120291, 387, 2227, 2652, 2520, 3150, 4011, 6937, 4839, 2346, 897, 9381, 7090, 2204, 1212, 5328, 5715, 2074, 12328, 4537, 5117, 3854, 1902, 37141, 1649, 3012, 6890, 4628, 17113, 244, 1472, 31499, 3539, 1415, 2965, 655, 18777, 1591, 1925, 16926, 13406, 5739, 16731, 1613, 268923, 1780, 7438, 21087, 1157, 912, 2039, 16527, 1000, 26541, 467, 947, 9832, 2184, 2853, 16590, 1626, 9056, 8320, 4106, 5324, 5603, 4183, 301, 3883, 236, 1758, 1266, 920, 5004, 880, 342, 205, 527, 1517, 130, 1018, 4830, 402, 755, 1087, 170, 1054, 245, 353, 464, 298, 2238, 1764, 3380, 1030, 1406, 4732, 1724, 1618, 5056, 1562, 1547, 2626, 11167, 466, 1355, 5065, 1763, 6413, 5398, 7017, 6510, 1898, 3299, 817, 1798, 3688, 1611, 11574, 2547, 2063, 22355, 8577, 10674, 783, 12781, 5484, 7884, 15724, 3106, 6293, 8711, 8067, 9332, 3271, 1367, 5077, 6508, 4687, 11758, 300, 3784, 1209, 1428, 716, 12563, 1518, 1241, 380, 395, 1169, 1114, 5738, 6648, 1605, 4848, 4743, 1520, 3601, 4033, 17071, 13708, 430, 2643, 1731, 1313, 775, 2243, 2749, 2012, 1080, 3831, 2071, 2755, 1216, 2314, 8770, 1764, 2837, 1655, 2721, 1152, 15493, 1562, 9786, 1904, 3357, 2200, 5456, 2134, 4675, 1433, 1734, 3461, 4076, 567, 1723, 1282, 2052, 1874, 1119, 1023, 3697, 21682, 1975, 553, 2650, 2964, 1624, 1640, 1627, 1815, 1011, 2430, 5318, 7018, 1634, 3590, 4030, 4020, 2635, 7211, 1496, 4447, 1410, 6628, 1908, 1248, 4587, 2351, 3898, 3185, 557, 408, 1703, 17554, 7368, 676, 3632, 10576, 11643, 13960, 5085, 1130, 14606, 2971, 2814, 1355, 2335, 161029, 2051, 1069, 1439, 1948, 841, 937, 583, 577, 9364, 5052, 694, 511, 937, 1611, 103, 670, 1606, 260, 122, 877, 1215, 3323, 11892, 15106, 975, 5263, 596, 7517, 21653, 9028, 7375, 5177, 6548, 28125, 9349, 14260, 7720, 2142, 12873, 12882, 12368, 8625, 2641, 1052, 13920, 7416, 1822, 1010, 1425, 7014, 7785, 4407, 602, 1712, 1894, 3258, 7449, 538, 1271, 1407, 2311, 1002, 2565, 210, 1186, 1421, 958, 1550, 1309, 251, 723, 11026, 1318, 3894, 12293, 1447, 487, 9110, 1519, 948, 2023, 1858, 2244, 3619, 22999, 2743, 1229, 3701, 710, 6588, 7331, 4463, 1873, 1388, 1292, 1147, 1109, 2002, 876, 1186, 973, 379, 2177, 1063, 1309, 7489, 9103, 3169, 7501, 1967, 28694, 909, 4820, 24575, 9109, 18818, 1121, 14551, 5800, 4867, 1006, 4616, 8968, 7062, 3073, 2706, 1702, 3420, 7130, 918, 1520, 461, 116, 207, 333, 305, 644, 415, 926, 3118, 4290, 959, 55332, 2273, 17784, 25799, 2865, 346, 4957, 4128, 29348, 32696, 3503, 2354, 586, 1949, 1825, 2296, 550, 578, 7706, 1339, 6760, 1096, 7407, 5811, 2145, 11832, 5279, 5332, 5151, 73783, 51257, 28880, 17334, 33677, 19210, 2215, 1322, 3485, 2185, 2494, 2091, 1777, 2573, 228, 59639, 1705, 1950, 10945, 2606, 17671, 2273, 27801, 17297, 40070, 6527, 121584, 17802, 114512, 33788, 21245, 7905, 869, 293, 36322, 2760, 522, 1628, 12336, 6437, 2797, 333, 59361, 79612, 8964, 43977, 13010, 58208, 9132, 21998, 50815, 4138, 20652, 6412, 2464, 6474, 2388, 1494, 1463, 1057, 1049, 109, 2073, 1116, 1125, 802, 4409, 686, 1154, 885, 2437, 716, 1867, 91, 586, 601, 81, 1018, 1448, 1296, 1299, 1769, 20073, 601, 2281, 83737, 20890, 48650, 1945, 18496, 1193, 4905, 1699, 11812, 746, 189, 1419, 1237, 1703, 1849, 5397, 4410, 1554, 4499, 1993, 424, 3782, 1551, 954, 7304, 15462, 6958, 964, 3571, 2421, 21689, 5542, 7922, 7055, 767, 3766, 70773, 2497, 799, 41478, 867, 2097, 5533, 534, 197, 533, 1036, 4503, 8592, 183, 903, 1236, 305, 1544, 1020, 325, 3227, 659, 2528, 550, 1032, 1142, 1766, 912, 1305, 653, 3411, 11533, 3397, 7865, 715, 988, 4405, 1936, 11666, 361, 30531, 88, 55, 494, 1294, 976, 1586, 1550, 1209, 850, 5421, 255, 707, 6856, 1007, 12952, 2299, 19, 1736, 2195, 47062, 4569, 3655, 15715, 578, 1747, 197, 4198, 540, 942, 2470, 478, 2558, 2178, 860, 2888, 3026, 2164, 10874, 1935, 1871, 7789, 10394, 17759, 4714, 3209, 14118, 11847, 11339, 1156, 1534, 1102, 783, 627, 891, 7484, 876, 1235, 1143, 450, 1442, 426, 2814, 4645, 13130, 3933, 2197, 1318, 1553, 2007, 1540, 1655, 12201, 1284, 869, 396, 7142, 1414, 9833, 604, 685, 549, 1220, 1588, 8371, 2570, 6117, 5368, 2225, 2086, 1732, 6751, 5228, 1477, 1626, 4529, 3254, 2267, 17463, 23669, 5301, 1033, 6909, 4040, 546, 2459, 1284, 1122, 13016, 1098, 481, 376, 898, 1393, 434, 394, 263, 1061, 1312, 764, 289, 4001, 5097, 3193, 11011, 3492, 3559, 2784, 5495, 2912, 9687, 3444, 12629, 1659, 1305, 651, 1926, 396, 1062, 578, 4735, 4306, 10917, 1701, 11080, 636, 1478, 362, 8337, 702, 2698, 177, 714, 1062, 1552, 102, 613, 2152, 1063, 3142, 1566, 2306, 633, 2859, 299, 1002, 631, 1386, 2355, 6742, 1853, 252, 1302, 1658, 15092, 165, 4333, 976, 1276, 1476, 5351, 2402, 6402, 223, 654, 1262, 253, 1780, 1266, 2389, 1468, 838, 2649, 6000, 1839, 10689, 7449, 4157, 3388, 1343, 3399, 2510, 1537, 6134, 9355, 1024, 325, 166, 203, 1134, 216, 25, 1096, 770, 424, 755, 652, 4797, 2783, 8462, 5129, 5272, 2784, 3086, 6008, 16486, 2076, 1353, 3770, 722, 1404, 1688, 214, 788, 1128, 608, 359, 1532, 791, 395, 322, 151, 208, 385, 666, 237, 240, 5014, 3033, 458, 1779, 334, 222, 422, 227, 50, 194, 458, 61, 314, 586, 770, 735, 1299, 791, 426, 796, 1316, 8415, 1085, 817, 1275, 1526, 10110, 1832, 945, 1272, 442, 6315, 1322, 557, 540, 327, 358, 803, 1557, 1942, 279, 34, 1420, 1812, 2472, 1525, 2650, 2753, 2985, 2360, 948, 392, 944, 73110, 878, 1454, 7318, 555, 496, 436, 382, 1040, 306, 513, 300, 901]}, {\"label\": \"num_reviews\", \"values\": [23, 923, 74, 11, 45, 138, 178, 148, 34, 14, 93, 42, 21, 52, 19, 106, 79, 115, 24, 249, 3, 84, 83, 38, 333, 518, 373, 237, 103, 25, 21, 171, 449, 11, 12, 118, 2476, 1118, 2697, 809, 2347, 278, 137, 1190, 1113, 594, 42, 872, 11, 65, 12, 71, 200, 23, 11, 83, 123, 169, 6, 2, 689, 600, 497, 340, 713, 158, 985, 461, 162, 506, 237, 218, 18, 240, 273, 16, 232, 331, 40, 244, 71, 225, 370, 340, 55, 69, 53, 212, 57, 15, 100, 5, 276, 402, 30, 66, 1, 18, 31, 19, 15, 25, 12, 2698, 13, 9, 620, 38, 151, 17, 19, 14, 794, 8, 16, 29, 8, 48, 48, 1463, 1, 194, 6, 48, 10, 11, 30, 35, 649, 54, 1, 3, 187, 9, 16, 14, 4, 149, 65, 4, 110, 140, 46, 4397, 101, 424, 96, 42, 12, 142, 25, 13, 16, 11, 43, 9, 2, 86, 21, 158, 351, 267, 15, 70, 6, 12, 31, 10, 34, 45, 54, 6, 25, 352, 7, 59, 102, 234, 265, 138, 67, 9, 252, 21, 23, 15, 24, 59, 23, 3, 31, 45, 2, 281, 54, 17, 42, 12, 22, 36, 139, 26, 12, 12, 3, 16, 207, 32, 64, 161, 4, 15, 107, 0, 6, 28, 12, 6, 16, 26, 44, 3, 9, 8, 29, 10, 55, 30, 33, 17, 4, 23, 24, 27, 13, 54, 12, 110, 117, 18, 80, 79, 48, 23, 15, 31, 19, 40, 32, 181, 1, 1, 1, 32, 1, 1, 0, 5, 2, 2, 10, 6, 12, 47, 2, 117, 77, 185, 38, 20, 4, 11, 64, 8, 22, 9, 4, 3, 2, 3, 7, 6, 11, 258, 5, 11, 7, 57, 41, 5, 395, 12, 52, 14, 49, 11, 45, 799, 27, 43, 13, 36, 10, 51, 11, 5, 41, 6, 21, 6, 17, 2, 7, 5, 9, 14, 8, 5, 14, 18, 10, 33, 3, 38, 9, 4, 16, 10, 49, 81, 70, 1, 23, 24, 35, 7, 14, 17, 4, 41, 202, 4, 35, 12, 2, 46, 83, 31, 584, 22, 44, 17, 4, 51, 158, 154, 9, 21, 6, 14, 12, 14, 18, 48, 25, 33, 15, 8, 27, 11, 27, 224, 29, 7, 1440, 25, 21, 19, 31, 0, 95, 70, 12, 4, 32, 22, 54, 6, 12, 218, 137, 56, 8, 137, 20, 281, 33, 19, 52, 103, 89, 40, 17, 61, 92, 0, 1, 1, 0, 0, 1, 0, 1, 0, 1, 0, 2, 6, 3, 2, 6, 3, 4, 6, 3, 8, 2, 11, 6, 1, 10, 4, 29, 60, 7, 5, 4, 20, 4, 6, 5, 26, 3, 7, 11, 64, 16, 9, 19, 34, 56, 35, 6, 0, 0, 0, 0, 0, 0, 0, 0, 0, 0, 0, 0, 47, 10, 34, 13, 14, 2, 16, 10, 10, 2, 13, 10, 6, 2, 9, 4, 1, 1, 3, 53, 2, 1, 4, 11, 30, 44, 256, 936, 76, 712, 4, 58, 37, 5, 23, 38, 10, 70, 1, 20, 6, 33, 13, 8, 8, 6, 8, 11, 0, 0, 0, 0, 0, 0, 0, 0, 0, 0, 1, 0, 2, 12, 9, 36, 1, 15, 18, 7, 15, 24, 2, 25, 15, 4, 9, 9, 23, 9, 16, 47, 29, 20, 13, 25, 10, 8, 8, 3, 17, 3, 9, 11, 7, 22, 4, 10, 128, 33, 40, 34, 12, 48, 2, 135, 8, 444, 85, 635, 0, 0, 0, 0, 1, 2, 0, 0, 0, 0, 0, 0, 1, 1, 4, 1, 3, 7, 1, 2, 1, 7, 2, 5, 18, 3, 4, 18, 5, 3, 3, 25, 15, 14, 4, 3, 1, 2, 3, 10, 2, 1, 1, 6, 1, 1, 1, 1, 24, 13, 96, 24, 27, 109, 14, 7, 109, 84, 44, 15, 1, 1, 2, 2, 1, 0, 0, 2, 1, 3, 1, 3, 16, 49, 54, 20, 19, 32, 98, 27, 19, 34, 4, 24, 2, 2, 3, 3, 0, 3, 2, 2, 7, 0, 1, 2, 86, 890, 49, 40, 67, 55, 11, 20, 10, 13, 68, 39, 2, 2, 15, 4, 2, 2, 15, 1, 2, 2, 81, 3, 12, 12, 169, 13, 71, 12, 10, 61, 17, 39, 14, 40, 14, 3, 34, 55, 0, 12, 17, 45, 60, 45, 14, 2, 2, 7, 1, 30, 2, 9, 4, 25, 35, 7, 66, 5, 140, 11, 34, 1, 45, 13, 51, 2, 9, 23, 14, 58, 9, 69, 4, 5, 4, 5, 13, 3, 4, 6, 5, 4, 10, 11, 83, 30, 23, 11, 12, 3, 14, 17, 22, 6, 8, 2, 9, 3, 32, 3, 5, 5, 5, 10, 7, 5, 0, 0, 0, 0, 0, 0, 0, 0, 0, 0, 0, 0, 41, 63, 19, 56, 11, 14, 10, 8, 54, 8, 24, 4, 43, 11, 38, 5, 69, 12, 45, 27, 74, 6, 17, 7, 1, 1, 3, 1, 6, 3, 38, 6, 3, 37, 4, 9, 6, 351, 138, 70, 86, 192, 183, 60, 144, 6, 109, 5, 5, 48, 10, 102, 11, 11, 71, 4, 24, 8, 2, 4, 6, 4, 3, 3, 1, 1, 5, 5, 5, 6, 23, 12, 17, 12, 13, 90, 8, 120, 6, 10, 0, 14, 16, 2, 4, 33, 43, 4, 1, 0, 1, 1, 1, 1, 4, 0, 0, 0, 0, 0, 0, 0, 0, 0, 0, 0, 0, 25, 20, 10, 0, 25, 18, 12, 41, 21, 13, 25, 50, 11, 17, 7, 5, 13, 5, 10, 18, 17, 16, 5, 3, 0, 0, 0, 0, 0, 1, 1, 1, 2, 0, 0, 0, 2, 6, 2, 13, 3, 2, 2, 4, 2, 2, 2, 111, 28, 15, 43, 6, 6, 6, 5, 7, 20, 17, 13, 19, 13, 4, 3, 3, 3, 9, 15, 7, 5, 6, 42, 19, 7, 12, 1, 24, 7, 20, 16, 3, 2, 5, 76, 2, 4, 6, 2, 4, 1, 0, 4, 2, 3, 6, 2, 7, 7, 16, 4, 2, 9, 18, 16, 3, 11, 35, 14, 1, 0, 0, 0, 22, 2, 1, 0, 0, 1, 1, 0, 0, 0, 0, 1, 0, 0, 0, 0, 1, 0, 0, 1, 39, 14, 19, 16, 22, 36, 5, 41, 6, 210, 13, 200, 5, 0, 6, 5, 2, 3, 1, 5, 2, 3, 2, 1, 49, 135, 547, 230, 109, 145, 37, 47, 40, 51, 94, 23, 1, 3, 3, 2, 0, 1, 0, 0, 2, 1, 3, 1, 0, 0, 0, 0, 4, 1, 1, 2, 2, 0, 0, 0, 9, 16, 6, 11, 3, 306, 11, 4, 5, 2, 96, 3, 0, 0, 0, 0, 50, 0, 7, 3, 9, 0, 296, 819, 10, 48, 29, 1, 7, 40, 19, 52, 24, 28, 32, 19, 15, 92, 14, 142, 128, 19, 11, 71, 14, 8, 17, 5, 1, 8, 10, 3, 8, 17, 10, 1, 4, 7, 5, 14, 13, 62, 21, 78, 3, 25, 45, 16, 54, 22, 36, 4, 1, 5, 3, 8, 14, 7, 6, 8, 5, 4, 5, 22, 46, 31, 39, 37, 3, 60, 122, 28, 12, 7, 77, 46, 45, 22, 3, 3, 44, 30, 0, 3, 23, 21, 46, 8, 240, 50, 40, 44, 337, 15, 104, 424, 427, 182, 124, 11, 24, 6, 0, 1740, 2379, 447, 737, 754, 1629, 650, 479, 175, 382, 202, 102, 5, 5, 3, 6, 10, 76, 2, 21, 7, 50, 24, 24, 0, 0, 0, 0, 0, 0, 0, 0, 2, 26, 42, 21, 28, 95, 26, 39, 18, 122, 329, 17, 40, 311, 30, 205, 437, 466, 470, 10, 85, 99, 2, 18, 193, 220, 39, 3, 11, 11, 5, 57, 10, 39, 16, 20, 28, 63, 27, 54, 6, 109, 197, 41, 1041, 103, 12, 52, 20, 172, 16, 30, 92, 12, 88, 50, 245, 1, 25, 10, 31, 68, 15, 29, 8, 15, 16, 10, 11, 30, 42, 14, 15, 3, 11, 21, 5, 1, 3, 3, 9, 1, 2, 3, 1, 2, 1, 1, 49, 6, 3, 13, 10, 10, 14, 68, 5, 53, 0, 4, 40, 34, 8, 12, 13, 3, 8, 6, 25, 27, 12, 3, 158, 11, 29, 53, 20, 9, 29, 11, 5, 57, 203, 35, 24, 423, 26, 470, 58, 30, 61, 74, 49, 121, 38, 49, 6, 143, 5, 7, 654, 120, 15, 0, 15, 11, 46, 27, 1563, 61, 52, 8, 125, 143, 24, 0, 20, 6, 44, 26, 30, 21, 25, 51, 13, 8, 115, 2215, 62, 24, 28, 68, 4, 2, 0, 3, 190, 198, 108, 9, 42, 6, 96, 27, 24, 10, 2, 7, 11, 6, 28, 8, 5, 3, 16, 2, 30, 8, 12, 25, 17, 15, 10, 10, 42, 8, 2, 13, 162, 17, 9, 23, 5, 37, 48, 31, 576, 57, 49, 1779, 3, 0, 0, 0, 0, 0, 0, 0, 0, 0, 0, 0, 1, 5, 1, 3, 3, 4, 0, 0, 1, 0, 0, 1, 12, 26, 2, 15, 95, 26, 29, 40, 11, 117, 38, 17, 10, 33, 43, 49, 18, 4, 2, 10, 79, 9, 24, 40, 2, 1, 1, 1, 1, 14, 2, 2, 14, 0, 4, 4, 145, 128, 100, 21, 35, 38, 57, 15, 86, 481, 10, 25, 11, 11, 7, 9, 11, 4, 10, 10, 2, 8, 5, 3, 0, 1, 0, 0, 0, 0, 0, 1, 0, 0, 1, 1, 0, 0, 0, 0, 1, 0, 0, 0, 0, 0, 0, 0, 176, 11, 5, 109, 19, 28, 55, 27, 4, 46, 18, 17, 13, 13, 15, 0, 3, 5, 18, 6, 9, 27, 0, 5, 0, 0, 0, 0, 2, 0, 0, 0, 0, 0, 0, 0, 9, 20, 2, 23, 7, 16, 1, 23, 15, 12, 12, 5, 0, 0, 0, 0, 0, 0, 0, 0, 92, 45, 183, 25, 7, 24, 19, 5, 69, 388, 53, 18, 345, 39, 522, 8, 0, 0, 2, 0, 3, 0, 2, 0, 2, 0, 0, 0, 72, 43, 38, 20, 136, 24, 44, 20, 19, 155, 3, 1, 10, 2, 10, 6, 3, 1, 5, 9, 3, 57, 9, 1, 6, 7, 10, 5, 1, 31, 11, 6, 6, 4, 2, 8, 3, 5, 14, 2, 6, 10, 2, 8, 9, 13, 2, 1, 14, 1, 7, 26, 44, 99, 131, 25, 74, 35, 2, 29, 3, 7, 0, 1, 0, 1, 1, 3, 4, 3, 1, 4, 32, 5, 13, 36, 15, 121, 18, 6, 5, 3, 9, 5, 2, 2, 2, 6, 3, 4, 5, 4, 3, 3, 3, 8, 11, 13, 5, 8, 22, 35, 4, 25, 4, 9, 9, 3, 4, 5, 5, 5, 2, 2, 3, 0, 3, 0, 0, 0, 5, 3, 9, 7, 3, 1, 6, 2, 0, 1, 5, 1, 14, 7, 3, 9, 3, 4, 3, 5, 2, 8, 4, 10, 193, 11, 4, 11, 4, 6, 29, 10, 66, 52, 30, 10, 5, 5, 11, 12, 7, 20, 14, 13, 18, 21, 24, 21, 10, 12, 12, 39, 27, 5, 8, 9, 21, 9, 47, 12, 21, 16, 116, 3, 58, 157, 93, 15, 11, 11, 8, 57, 7, 6, 44, 6, 22, 43, 158, 19, 17, 7, 6, 10, 6, 4, 4, 8, 24, 7, 4, 30, 7, 15, 20, 4, 18, 18, 39, 8, 2, 20, 4, 13, 27, 14, 11, 9, 4, 41, 14, 6, 7, 5, 37, 19, 8, 8, 5, 357, 29, 19, 1042, 64, 29, 8, 34, 224, 82, 31, 38, 35, 11, 38, 15, 27, 12, 34, 31, 49, 46, 113, 21, 18, 308, 40, 9, 17, 1, 772, 52, 10, 4, 4, 9, 1, 28, 26, 3, 21, 5, 107, 9, 11, 8, 15, 3, 10, 11, 2, 6, 3, 28, 44, 40, 5, 331, 129, 71, 20, 18, 8, 5, 39, 15, 78, 30, 10, 39, 26, 13, 39, 38, 183, 398, 125, 79, 17, 4, 65, 88, 26, 410, 0, 6, 7676, 1340, 375, 2713, 2257, 159, 128, 718, 665, 79, 260, 33, 52, 13, 18, 1, 12, 3, 89, 6, 252, 37, 8, 8, 2, 1141, 3, 8, 15, 26, 5, 2, 10, 16, 34, 10, 3, 10, 2, 11, 101, 177, 1, 55, 173, 14, 20, 72, 26, 35, 4, 6, 3, 16, 19, 3, 54, 68, 21, 38, 276, 11, 175, 41, 192, 10, 136, 29, 107, 3, 2, 2, 2, 5, 45, 6, 4, 2, 7, 2, 4, 1, 4, 109, 25, 26, 15, 88, 136, 10, 6, 27, 4, 7, 9, 25, 33, 11, 4, 5, 35, 4, 2, 5, 28, 2, 3, 23, 4, 2, 0, 2, 2, 2, 1, 1, 1, 6, 1, 3, 4, 3, 1, 2, 2, 3, 2, 2, 1, 0, 0, 0, 0, 0, 0, 0, 0, 0, 0, 0, 0, 3, 2, 3, 6, 3, 64, 5, 7, 7, 4, 4, 12, 3, 3, 1, 1, 1, 1, 2, 0, 0, 2, 2, 0, 9, 8, 4, 10, 11, 17, 2, 3, 5, 7, 7, 6, 9, 0, 18, 6, 10, 5, 4, 5, 14, 3, 15, 8, 3, 5, 3, 33, 7, 3, 4, 15, 4, 161, 9, 22, 32, 263, 23, 42, 109, 4, 17, 12, 26, 5, 4, 1, 7, 6, 9, 5, 2, 4, 4, 6, 11, 3, 1, 2, 2, 4, 2, 1, 2, 1, 2, 1, 3, 1, 2, 2, 6, 7, 1, 3, 3, 30, 1, 1, 1, 1, 2, 1, 1, 2, 0, 4, 3, 3, 1, 2, 0, 1, 3, 7, 1, 3, 3, 3, 5, 2, 6, 1, 4, 2, 1, 1, 0, 0, 0, 0, 1, 0, 0, 0, 1, 0, 1, 0, 1, 1, 0, 1, 1, 0, 0, 3, 0, 0, 4, 11, 4, 3, 3, 2, 6, 8, 5, 7, 2, 7, 7, 3, 5, 3, 1, 5, 4, 8, 2, 3, 4, 1, 9, 7, 3, 6, 6, 5, 23, 16, 18, 3, 3, 8, 8, 8, 9, 4, 6, 8, 4, 2, 5, 8, 0, 4, 2, 7, 1, 2, 4, 4, 3, 1, 8, 2, 6, 3, 3, 3, 2, 4, 4, 4, 2, 6, 1, 12, 1, 7, 3, 3, 4, 1, 0, 5, 2, 1, 3, 1, 8, 3, 0, 0, 0, 0, 0, 0, 0, 0, 0, 0, 1, 0, 0, 2, 0, 0, 1, 1, 1, 1, 1, 1, 0, 1, 0, 0, 0, 0, 0, 0, 0, 0, 0, 1, 1, 0, 1, 1, 0, 0, 0, 0, 0, 0, 0, 0, 0, 0, 2, 12, 11, 25, 47, 3, 6, 20, 13, 13, 3, 3, 0, 14, 29, 1, 0, 28, 26, 12, 30, 1, 9, 1, 1, 1, 3, 4, 3, 2, 1, 1, 1, 1, 5, 0, 2, 2, 2, 2, 11, 3, 2, 5, 6, 21, 2, 11, 51, 17, 6, 4, 7, 19, 10, 21, 25, 9, 12, 3, 1, 0, 0, 0, 0, 0, 2, 0, 0, 0, 0, 0, 525, 285, 529, 206, 490, 202, 112, 359, 178, 210, 540, 351, 167, 253, 220, 106, 333, 147, 94, 217, 317, 218, 110, 131, 848, 506, 1017, 655, 820, 662, 1445, 1981, 104, 1358, 1304, 418, 73, 38, 52, 56, 59, 35, 21, 41, 200, 83, 324, 13, 41, 401, 198, 368, 137, 142, 116, 333, 193, 277, 220, 111, 223, 46, 340, 6, 76, 201, 75, 43, 53, 49, 31, 237, 783, 121, 312, 268, 117, 215, 212, 674, 165, 680, 395, 525, 188, 414, 1111, 331, 941, 129, 72, 179, 799, 836, 453, 997, 232, 20, 1220, 411, 89, 110, 8, 13, 82, 43, 23, 64, 31, 80, 0, 6512, 21, 75, 4047, 16, 7, 16, 30, 139, 473, 79, 56, 111, 34, 110, 118, 46, 1097, 35, 57, 173, 31, 159, 359, 276, 253, 78, 216, 219, 105, 2685, 96, 423, 94, 142, 16, 212, 102, 5, 210, 43, 81, 35, 169, 69, 970, 570, 901, 876, 303, 129, 286, 302, 629, 292, 262, 0, 62, 125, 164, 1342, 314, 178, 114, 47, 978, 43, 30, 522, 44, 101, 159, 63, 874, 68, 88, 243, 24, 63, 27, 160, 147, 37, 147, 220, 129, 53, 118, 29, 50, 231, 306, 125, 17, 38, 80, 291, 4, 9, 185, 138, 22, 23, 8, 10, 1838, 330, 1548, 531, 622, 660, 1090, 2408, 1846, 497, 116, 214, 193, 117, 627, 105, 931, 383, 134, 26, 329, 401, 685, 466, 64, 43, 65, 26, 523, 11, 16, 120, 20, 63, 131, 12, 514, 589, 28, 237, 276, 26, 742, 471, 174, 22, 231, 144, 92, 136, 90, 213, 8, 16, 144, 30, 92, 9, 64, 185, 15, 61, 10, 15, 81, 4, 188, 212, 10, 60, 258, 24, 53, 38, 49, 28, 92, 48, 228, 20, 93, 39, 32, 129, 22, 1005, 27, 34, 2575, 5924, 5, 44, 33, 183, 69, 24, 22, 129, 10, 129, 138, 52, 6, 15, 47, 52, 14, 15, 415, 463, 482, 224, 1813, 34, 260, 99, 247, 380, 44, 210, 450, 43, 17, 17, 95, 1112, 99, 27, 126, 78, 26, 137, 21, 8629, 69, 441, 154, 105, 17, 7, 354, 74, 750, 20, 108, 71, 15, 47, 51, 115, 96, 73, 112, 52, 46, 292, 44, 110, 31, 37, 16, 1, 52, 6, 53, 38, 63, 4, 14, 33, 38, 20, 5, 7, 21, 4, 23, 34, 26, 20, 65, 33, 50, 11, 12, 5, 72, 46, 74, 42, 30, 95, 34, 11, 14, 40, 17, 107, 358, 37, 45, 19, 166, 6, 20, 49, 165, 78, 62, 18, 54, 69, 102, 5, 145, 439, 44, 33, 31, 165, 29, 30, 172, 278, 17, 126, 137, 99, 242, 16, 85, 9, 91, 32, 239, 55, 23, 10, 18, 110, 8, 9, 16, 10, 33, 393, 34, 28, 40, 17, 92, 54, 34, 90, 121, 245, 27, 62, 15, 37, 15, 57, 57, 36, 77, 261, 53, 68, 39, 96, 20, 415, 4, 989, 25, 84, 25, 133, 215, 15, 145, 9, 11, 39, 63, 28, 117, 18, 40, 111, 131, 195, 1106, 141, 84, 19, 8, 31, 22, 38, 249, 2, 15, 56, 28, 52, 36, 92, 95, 25, 52, 37, 76, 134, 53, 12, 171, 46, 302, 95, 102, 92, 39, 435, 94, 216, 119, 28, 154, 169, 239, 106, 162, 235, 285, 107, 45, 13, 279, 99, 12, 10, 72, 99, 4, 7, 97, 311, 92, 39, 12, 2, 24, 11, 33, 28, 22, 10, 6, 58, 90, 50, 31, 141, 29, 32, 89, 138, 87, 52, 318, 44, 115, 206, 44, 58, 536, 106, 95, 89, 94, 28, 14, 64, 65, 4, 154, 36, 95, 416, 17, 93, 438, 40, 32, 111, 13, 136, 137, 8, 178, 32, 19, 14, 17, 14, 25, 60, 32, 130, 228, 81, 91, 235, 35, 31, 411, 28, 48, 8, 110, 365, 93, 602, 589, 139, 508, 137, 721, 55, 59, 360, 11, 2, 19, 13, 41, 48, 12, 50, 58, 13, 72, 74, 941, 1724, 527, 1213, 372, 688, 16, 983, 525, 620, 407, 174, 169, 185, 128, 4, 20, 35, 72, 27, 179, 49, 489, 39, 8, 21, 67, 12, 32, 15, 40, 42, 67, 102, 8, 150, 51, 1225, 384, 260, 382, 95, 28, 634, 434, 780, 526, 123, 16, 54, 149, 17, 28, 97, 25, 62, 21, 84, 8, 172, 850, 166, 1883, 1375, 828, 737, 19649, 1955, 4316, 676, 3809, 3137, 223, 171, 22, 283, 303, 86, 35, 103, 9, 2692, 26, 33, 1286, 241, 4675, 288, 4340, 3166, 8341, 1384, 27445, 2144, 22412, 4434, 914, 561, 99, 30, 2618, 76, 50, 162, 271, 313, 59, 22, 11580, 16976, 1893, 7106, 2709, 11123, 1560, 3326, 15117, 307, 6357, 987, 17, 86, 139, 23, 56, 22, 22, 17, 24, 62, 10, 6, 71, 19, 89, 3, 137, 59, 19, 5, 65, 4, 14, 28, 173, 22, 56, 49, 615, 126, 32, 4598, 945, 1236, 58, 386, 87, 101, 8, 152, 93, 7, 38, 16, 27, 29, 112, 52, 30, 138, 55, 85, 32, 42, 183, 368, 689, 132, 19, 18, 6, 1080, 54, 183, 166, 104, 135, 5660, 98, 87, 2104, 177, 16, 137, 16, 26, 54, 27, 146, 336, 30, 3, 18, 45, 15, 46, 50, 19, 64, 15, 15, 9, 148, 38, 128, 38, 20, 84, 240, 12, 241, 12, 23, 71, 88, 546, 26, 1948, 8, 13, 46, 11, 29, 87, 15, 8, 12, 93, 5, 59, 137, 96, 163, 11, 2, 79, 10, 5590, 108, 85, 406, 40, 13, 11, 145, 11, 161, 24, 37, 12, 22, 201, 26, 60, 290, 114, 17, 154, 59, 33, 64, 149, 58, 30, 57, 43, 13, 33, 12, 20, 126, 101, 304, 59, 25, 34, 61, 9, 4, 14, 171, 346, 23, 9, 78, 35, 10, 19, 10, 217, 46, 125, 6, 41, 14, 241, 47, 37, 49, 16, 8, 212, 17, 188, 78, 14, 56, 15, 44, 180, 17, 81, 54, 92, 17, 283, 521, 174, 16, 401, 72, 69, 107, 173, 5, 286, 15, 75, 19, 132, 40, 69, 78, 14, 8, 19, 7, 30, 8, 196, 10, 13, 61, 24, 221, 52, 309, 59, 35, 88, 73, 25, 52, 9, 130, 12, 6, 81, 163, 319, 125, 165, 33, 18, 19, 300, 21, 29, 19, 48, 20, 14, 27, 135, 19, 101, 117, 29, 3, 104, 42, 75, 7, 103, 17, 143, 1036, 34, 46, 18, 72, 1234, 13, 16, 93, 245, 27, 235, 26, 104, 26, 86, 36, 34, 15, 90, 7, 54, 13, 16, 21, 91, 394, 91, 206, 67, 11, 85, 21, 8, 93, 390, 14, 37, 21, 33, 9, 28, 4, 33, 65, 45, 0, 48, 97, 9, 50, 183, 111, 425, 17, 203, 86, 125, 53, 108, 53, 7, 16, 34, 21, 77, 88, 45, 19, 29, 26, 9, 40, 48, 39, 89, 22, 45, 196, 91, 2, 48, 41, 9, 86, 16, 5, 26, 28, 9, 43, 10, 0, 16, 15, 8, 4, 3, 22, 56, 8, 164, 11, 72, 379, 6, 17, 31, 48, 53, 14, 39, 13, 26, 0, 2, 13, 23, 37, 2, 62, 112, 41, 43, 61, 10, 40, 12, 193, 81, 1, 1716, 6, 14, 205, 89, 113, 36, 28, 14, 3, 169, 31, 36]}, {\"label\": \"num_lectures\", \"values\": [51, 274, 51, 36, 26, 25, 26, 23, 38, 15, 76, 17, 19, 16, 42, 19, 16, 52, 23, 12, 25, 39, 16, 23, 40, 50, 42, 25, 81, 37, 41, 35, 80, 22, 28, 68, 52, 61, 138, 110, 174, 103, 79, 25, 227, 43, 35, 42, 46, 62, 53, 77, 23, 20, 17, 47, 33, 15, 11, 19, 40, 79, 38, 102, 40, 76, 45, 26, 26, 32, 28, 30, 15, 23, 45, 18, 60, 15, 39, 45, 54, 24, 134, 33, 5, 20, 10, 49, 19, 14, 49, 6, 108, 57, 9, 11, 14, 30, 60, 9, 6, 25, 20, 15, 20, 19, 23, 24, 51, 30, 16, 13, 9, 8, 462, 25, 5, 29, 59, 8, 42, 24, 284, 47, 35, 39, 20, 14, 17, 16, 18, 14, 20, 11, 28, 61, 26, 15, 23, 12, 55, 17, 45, 16, 59, 36, 34, 33, 23, 13, 29, 31, 34, 25, 25, 46, 17, 22, 43, 20, 544, 66, 36, 29, 43, 22, 14, 29, 34, 40, 13, 21, 42, 13, 19, 88, 10, 44, 54, 11, 24, 12, 10, 76, 23, 26, 24, 25, 27, 8, 34, 48, 22, 20, 5, 31, 14, 90, 21, 5, 7, 42, 15, 37, 54, 35, 9, 49, 9, 24, 6, 15, 97, 18, 8, 45, 18, 128, 19, 14, 55, 9, 28, 13, 23, 59, 16, 63, 18, 20, 11, 7, 46, 21, 7, 34, 12, 22, 24, 53, 38, 59, 25, 19, 28, 38, 15, 20, 9, 11, 38, 9, 16, 23, 19, 19, 47, 45, 38, 15, 51, 235, 37, 15, 31, 48, 52, 44, 14, 211, 29, 26, 24, 40, 19, 42, 15, 23, 10, 17, 30, 55, 100, 25, 12, 20, 16, 13, 19, 26, 5, 14, 15, 62, 43, 15, 82, 14, 81, 30, 45, 11, 16, 11, 16, 8, 21, 6, 18, 31, 39, 27, 97, 11, 22, 123, 14, 27, 11, 21, 23, 40, 10, 11, 33, 47, 43, 33, 21, 10, 332, 22, 9, 34, 46, 15, 39, 21, 272, 18, 6, 31, 16, 29, 6, 61, 10, 19, 12, 18, 69, 12, 7, 129, 15, 7, 316, 44, 11, 27, 6, 29, 19, 25, 62, 23, 37, 8, 28, 17, 61, 5, 70, 20, 17, 25, 14, 30, 138, 8, 13, 20, 12, 105, 66, 176, 32, 7, 13, 91, 18, 14, 29, 27, 15, 11, 44, 16, 41, 37, 11, 53, 48, 18, 21, 12, 5, 55, 8, 25, 19, 6, 108, 12, 9, 6, 7, 26, 14, 5, 15, 21, 15, 29, 28, 14, 43, 22, 17, 61, 42, 6, 16, 17, 12, 29, 21, 47, 5, 36, 9, 26, 9, 64, 21, 31, 17, 72, 4, 23, 35, 69, 11, 20, 27, 7, 9, 9, 9, 15, 11, 5, 16, 35, 18, 21, 19, 11, 35, 25, 30, 58, 19, 20, 18, 15, 18, 19, 63, 15, 26, 9, 58, 6, 29, 14, 72, 40, 12, 23, 22, 16, 24, 64, 26, 16, 22, 79, 12, 19, 211, 11, 14, 20, 11, 28, 142, 14, 24, 21, 27, 34, 24, 8, 12, 12, 6, 27, 21, 28, 43, 11, 25, 12, 10, 8, 19, 15, 395, 19, 194, 63, 30, 12, 19, 7, 36, 14, 12, 5, 27, 54, 32, 41, 20, 21, 88, 15, 18, 22, 18, 14, 20, 16, 14, 25, 24, 27, 25, 35, 13, 527, 74, 46, 9, 25, 13, 15, 11, 7, 15, 84, 14, 14, 9, 12, 20, 8, 14, 57, 33, 22, 23, 21, 13, 12, 14, 15, 17, 69, 87, 18, 21, 5, 15, 24, 66, 13, 15, 20, 17, 65, 13, 15, 18, 19, 21, 14, 18, 28, 11, 8, 13, 21, 48, 7, 13, 9, 8, 15, 6, 12, 41, 10, 33, 14, 24, 61, 24, 12, 37, 6, 29, 29, 16, 12, 42, 23, 52, 13, 19, 16, 15, 5, 15, 22, 22, 35, 20, 15, 27, 53, 105, 59, 16, 460, 11, 101, 17, 25, 14, 5, 22, 10, 5, 27, 24, 21, 6, 50, 18, 41, 54, 20, 16, 23, 20, 19, 52, 95, 70, 51, 10, 6, 5, 18, 17, 42, 107, 32, 16, 8, 5, 50, 33, 7, 29, 29, 34, 50, 50, 35, 17, 8, 28, 50, 12, 16, 20, 22, 24, 6, 41, 27, 30, 37, 29, 25, 6, 14, 15, 102, 10, 11, 113, 8, 39, 6, 17, 12, 5, 25, 8, 7, 6, 30, 6, 13, 17, 29, 15, 41, 11, 31, 8, 10, 22, 7, 7, 13, 32, 25, 10, 26, 25, 30, 69, 22, 12, 12, 13, 42, 49, 15, 20, 27, 10, 5, 71, 9, 24, 19, 28, 14, 15, 22, 145, 12, 10, 9, 9, 10, 12, 10, 9, 6, 9, 20, 27, 10, 44, 23, 6, 23, 19, 23, 19, 11, 38, 27, 20, 8, 11, 37, 24, 14, 29, 44, 26, 20, 13, 10, 13, 12, 14, 10, 8, 37, 22, 20, 57, 24, 5, 29, 75, 25, 17, 20, 41, 54, 11, 22, 55, 25, 19, 42, 17, 55, 42, 79, 6, 34, 16, 20, 35, 19, 17, 64, 10, 16, 5, 27, 28, 11, 11, 15, 26, 13, 12, 25, 26, 27, 38, 37, 5, 33, 5, 17, 9, 21, 444, 27, 54, 17, 33, 10, 24, 25, 33, 27, 6, 5, 33, 9, 12, 12, 7, 6, 10, 7, 6, 9, 0, 27, 10, 10, 14, 14, 21, 9, 14, 34, 35, 27, 64, 9, 12, 35, 28, 30, 6, 6, 77, 12, 45, 33, 37, 26, 18, 37, 31, 23, 10, 7, 127, 6, 12, 11, 59, 13, 59, 13, 13, 25, 14, 50, 22, 16, 26, 15, 17, 5, 98, 54, 21, 16, 286, 27, 14, 23, 27, 27, 10, 19, 28, 9, 12, 36, 8, 6, 20, 15, 9, 34, 34, 12, 25, 74, 26, 35, 13, 20, 17, 24, 22, 27, 120, 60, 11, 35, 19, 14, 12, 10, 12, 79, 36, 16, 19, 49, 28, 58, 7, 25, 6, 12, 13, 29, 7, 14, 18, 27, 21, 25, 6, 16, 27, 6, 28, 27, 19, 29, 5, 5, 39, 130, 48, 6, 6, 7, 12, 34, 24, 27, 22, 7, 10, 39, 25, 14, 11, 24, 29, 28, 33, 25, 36, 21, 13, 40, 45, 18, 9, 49, 12, 40, 29, 25, 24, 13, 27, 23, 7, 40, 45, 73, 16, 29, 38, 15, 28, 52, 14, 17, 14, 14, 36, 49, 5, 121, 27, 37, 8, 13, 11, 45, 20, 19, 8, 6, 12, 13, 10, 51, 41, 11, 10, 9, 42, 18, 35, 46, 10, 7, 27, 47, 14, 9, 53, 13, 35, 9, 13, 27, 7, 13, 22, 5, 15, 33, 14, 40, 15, 39, 24, 44, 44, 15, 39, 37, 19, 33, 11, 15, 75, 11, 46, 32, 12, 18, 26, 17, 16, 20, 32, 56, 21, 27, 158, 30, 16, 47, 27, 18, 48, 28, 59, 49, 241, 17, 50, 7, 29, 34, 13, 24, 86, 25, 22, 14, 26, 14, 21, 24, 17, 30, 21, 36, 54, 17, 11, 19, 15, 27, 18, 18, 60, 43, 19, 18, 8, 53, 72, 15, 34, 15, 16, 187, 11, 31, 41, 10, 8, 28, 23, 111, 86, 27, 15, 110, 15, 21, 85, 20, 26, 46, 9, 7, 25, 18, 65, 62, 150, 63, 65, 42, 41, 85, 79, 41, 54, 57, 18, 21, 33, 35, 29, 10, 10, 10, 35, 44, 50, 9, 9, 9, 29, 8, 14, 10, 12, 11, 21, 27, 18, 22, 12, 46, 42, 16, 10, 29, 43, 15, 21, 16, 24, 20, 26, 96, 134, 94, 71, 80, 20, 119, 33, 82, 24, 13, 27, 15, 25, 56, 15, 35, 20, 14, 55, 28, 28, 27, 8, 20, 12, 5, 22, 9, 15, 26, 8, 35, 14, 12, 25, 28, 78, 39, 11, 14, 13, 9, 24, 25, 8, 11, 5, 5, 7, 13, 12, 12, 11, 45, 10, 6, 9, 27, 122, 20, 5, 19, 124, 43, 8, 55, 12, 9, 11, 9, 163, 23, 19, 70, 8, 49, 31, 11, 63, 34, 12, 10, 77, 66, 20, 46, 19, 41, 53, 131, 36, 43, 48, 25, 13, 26, 44, 28, 43, 8, 17, 48, 12, 35, 22, 9, 33, 13, 10, 7, 17, 37, 67, 40, 25, 14, 35, 82, 34, 41, 16, 12, 31, 31, 62, 6, 56, 12, 33, 98, 45, 31, 79, 18, 77, 15, 15, 14, 12, 14, 19, 42, 62, 108, 19, 13, 16, 9, 18, 12, 77, 23, 16, 36, 9, 24, 15, 24, 141, 25, 25, 20, 20, 43, 51, 21, 24, 18, 29, 14, 35, 24, 118, 16, 26, 34, 82, 7, 25, 166, 37, 8, 11, 13, 5, 24, 36, 8, 26, 23, 19, 35, 36, 57, 23, 6, 105, 13, 18, 19, 29, 45, 12, 6, 7, 27, 34, 13, 14, 7, 8, 13, 5, 9, 21, 30, 5, 44, 22, 59, 49, 87, 24, 66, 11, 38, 14, 16, 26, 22, 6, 45, 37, 39, 18, 74, 44, 8, 16, 14, 62, 88, 19, 9, 18, 50, 154, 29, 15, 158, 18, 11, 5, 7, 8, 9, 30, 17, 30, 9, 185, 11, 37, 111, 9, 54, 11, 13, 30, 11, 17, 12, 11, 16, 6, 19, 26, 9, 21, 17, 57, 21, 17, 24, 16, 15, 11, 20, 10, 37, 8, 19, 23, 13, 56, 23, 9, 9, 5, 43, 8, 8, 11, 8, 9, 55, 10, 34, 6, 8, 29, 27, 15, 33, 23, 81, 98, 30, 11, 41, 150, 19, 11, 33, 66, 25, 13, 9, 55, 21, 20, 19, 7, 19, 63, 20, 5, 14, 12, 8, 29, 14, 5, 10, 35, 46, 34, 81, 19, 26, 76, 31, 12, 88, 76, 28, 24, 5, 9, 32, 8, 5, 16, 24, 29, 18, 18, 11, 77, 17, 24, 35, 14, 11, 40, 57, 14, 15, 207, 12, 26, 16, 28, 20, 18, 12, 34, 10, 46, 16, 20, 49, 18, 8, 39, 72, 29, 15, 225, 77, 20, 12, 34, 61, 19, 12, 78, 15, 32, 103, 7, 11, 202, 7, 54, 8, 22, 14, 10, 23, 30, 13, 29, 11, 25, 23, 13, 15, 8, 8, 11, 17, 19, 9, 16, 9, 26, 28, 48, 13, 19, 18, 30, 15, 21, 52, 24, 97, 56, 29, 15, 61, 29, 15, 16, 45, 12, 26, 11, 18, 15, 57, 41, 17, 12, 38, 44, 39, 40, 90, 74, 13, 52, 12, 32, 38, 41, 56, 7, 20, 9, 115, 7, 13, 20, 21, 22, 57, 37, 25, 47, 55, 6, 14, 13, 55, 14, 32, 46, 21, 22, 21, 41, 10, 40, 26, 9, 22, 69, 156, 33, 24, 15, 29, 13, 27, 77, 10, 8, 26, 16, 17, 15, 27, 12, 13, 13, 7, 17, 86, 14, 26, 8, 81, 8, 13, 83, 5, 7, 10, 24, 13, 18, 24, 9, 102, 44, 39, 25, 7, 28, 18, 13, 9, 14, 7, 20, 19, 19, 15, 39, 38, 18, 38, 10, 108, 38, 14, 19, 45, 11, 11, 123, 16, 11, 91, 108, 77, 31, 145, 88, 14, 110, 32, 11, 90, 13, 34, 54, 99, 32, 74, 77, 52, 29, 43, 43, 20, 5, 90, 12, 11, 27, 10, 13, 49, 196, 25, 17, 45, 26, 31, 23, 13, 22, 33, 46, 35, 131, 21, 38, 26, 10, 16, 36, 14, 23, 12, 21, 52, 74, 62, 8, 17, 12, 20, 95, 33, 20, 14, 33, 21, 40, 9, 27, 123, 13, 30, 7, 30, 22, 32, 6, 51, 131, 49, 28, 68, 12, 16, 12, 32, 44, 8, 41, 32, 34, 63, 29, 24, 5, 15, 35, 25, 23, 29, 27, 6, 9, 12, 15, 18, 14, 11, 70, 26, 22, 17, 13, 57, 21, 52, 16, 31, 56, 29, 10, 46, 14, 29, 162, 17, 74, 59, 25, 23, 19, 38, 23, 36, 89, 21, 62, 55, 74, 10, 58, 31, 23, 362, 136, 32, 310, 104, 291, 34, 131, 23, 124, 144, 99, 35, 26, 17, 47, 25, 18, 33, 69, 16, 24, 24, 56, 26, 26, 17, 65, 28, 25, 29, 5, 30, 115, 22, 30, 62, 113, 17, 161, 21, 22, 41, 56, 224, 42, 32, 26, 36, 10, 24, 10, 32, 42, 16, 43, 20, 75, 77, 85, 240, 15, 42, 17, 82, 15, 88, 14, 21, 21, 25, 13, 64, 13, 11, 38, 9, 29, 89, 30, 14, 25, 37, 10, 68, 16, 53, 78, 40, 33, 80, 51, 15, 35, 8, 27, 61, 34, 10, 11, 56, 12, 11, 9, 24, 26, 22, 6, 34, 13, 18, 14, 16, 34, 13, 28, 8, 57, 27, 15, 26, 39, 39, 136, 61, 19, 37, 62, 48, 12, 41, 14, 10, 10, 11, 10, 50, 7, 24, 18, 12, 59, 19, 23, 30, 18, 25, 39, 77, 51, 31, 21, 30, 10, 14, 22, 37, 26, 46, 23, 21, 10, 71, 183, 27, 9, 14, 6, 25, 27, 17, 13, 11, 23, 27, 192, 46, 56, 9, 101, 64, 12, 15, 9, 71, 39, 9, 100, 24, 33, 35, 9, 309, 110, 34, 17, 13, 48, 34, 23, 20, 25, 14, 42, 27, 11, 18, 59, 123, 215, 19, 35, 46, 22, 38, 30, 107, 38, 95, 83, 106, 97, 77, 9, 24, 41, 22, 30, 22, 23, 53, 17, 321, 32, 17, 30, 34, 45, 42, 10, 28, 14, 6, 11, 11, 10, 18, 7, 27, 15, 12, 106, 47, 27, 71, 9, 45, 63, 8, 12, 69, 13, 22, 151, 102, 36, 13, 53, 8, 39, 36, 16, 25, 16, 26, 9, 47, 20, 39, 19, 26, 38, 10, 45, 11, 72, 7, 5, 11, 48, 24, 42, 39, 321, 18, 92, 77, 11, 20, 12, 16, 73, 26, 15, 7, 43, 63, 72, 25, 40, 61, 13, 19, 32, 104, 11, 30, 82, 9, 86, 6, 16, 12, 12, 14, 65, 35, 130, 41, 12, 59, 70, 17, 15, 37, 18, 34, 23, 40, 24, 126, 18, 112, 30, 16, 38, 53, 196, 24, 48, 7, 52, 17, 24, 13, 62, 15, 11, 22, 5, 62, 12, 13, 30, 17, 28, 13, 16, 38, 8, 15, 9, 80, 16, 10, 10, 9, 28, 6, 27, 16, 17, 41, 17, 11, 35, 28, 11, 16, 14, 5, 20, 11, 82, 11, 5, 34, 29, 4, 13, 27, 43, 24, 91, 11, 30, 10, 38, 14, 86, 69, 6, 49, 14, 10, 5, 6, 11, 16, 6, 6, 7, 28, 6, 8, 13, 5, 14, 6, 47, 98, 22, 11, 7, 34, 49, 15, 32, 9, 23, 9, 12, 31, 20, 38, 93, 83, 53, 22, 24, 49, 24, 10, 35, 40, 36, 23, 49, 52, 9, 15, 43, 23, 20, 27, 11, 17, 19, 31, 16, 26, 15, 17, 16, 27, 19, 25, 8, 14, 11, 106, 12, 91, 33, 21, 64, 18, 12, 23, 33, 17, 31, 37, 30, 7, 17, 36, 23, 23, 24, 125, 64, 75, 58, 37, 72, 65, 348, 39, 67, 63, 19, 82, 32, 46, 55, 14, 29, 53, 49, 49, 402, 17, 135, 120, 126, 65, 77, 171, 61, 89, 50, 74, 26, 212, 36, 52, 34, 74, 27, 19, 16, 27, 15, 10, 43, 8, 48, 28, 23, 16, 77, 16, 28, 16, 60, 20, 95, 18, 64, 31, 48, 70, 25, 11, 20, 59, 107, 32, 20, 15, 73, 75, 160, 66, 65, 69, 89, 93, 83, 22, 53, 24, 32, 133, 110, 138, 80, 66, 43, 80, 251, 63, 207, 90, 25, 23, 16, 17, 97, 19, 43, 48, 48, 29, 34, 82, 20, 8, 11, 20, 83, 12, 17, 28, 19, 38, 126, 31, 18, 29, 24, 18, 32, 32, 36, 31, 20, 42, 10, 8, 24, 125, 99, 454, 115, 40, 54, 43, 123, 10, 22, 281, 112, 18, 73, 30, 77, 30, 20, 12, 12, 21, 31, 14, 64, 88, 221, 60, 159, 89, 45, 50, 77, 178, 53, 68, 59, 7, 75, 87, 21, 32, 43, 91, 8, 40, 19, 11, 22, 43, 15, 47, 84, 17, 68, 26, 20, 26, 20, 50, 23, 18, 24, 47, 57, 26, 38, 19, 38, 86, 17, 84, 12, 13, 40, 30, 13, 36, 68, 19, 29, 28, 38, 12, 308, 32, 197, 162, 129, 41, 185, 197, 80, 82, 58, 174, 145, 779, 66, 117, 133, 43, 188, 87, 136, 62, 29, 132, 22, 26, 109, 49, 12, 39, 15, 13, 25, 13, 24, 71, 20, 74, 12, 120, 16, 33, 195, 87, 118, 24, 39, 54, 15, 70, 19, 23, 20, 17, 536, 17, 143, 37, 54, 24, 19, 35, 37, 27, 94, 59, 83, 33, 12, 7, 60, 25, 14, 15, 13, 20, 44, 39, 57, 36, 37, 54, 60, 126, 16, 12, 60, 15, 21, 30, 30, 26, 40, 34, 49, 17, 7, 84, 65, 171, 131, 30, 97, 39, 28, 31, 22, 32, 49, 138, 48, 47, 316, 25, 330, 90, 93, 93, 21, 110, 46, 20, 23, 30, 195, 21, 74, 38, 33, 44, 29, 10, 20, 45, 21, 37, 24, 31, 48, 19, 17, 140, 38, 126, 56, 59, 24, 16, 27, 78, 31, 11, 15, 14, 47, 38, 91, 9, 35, 16, 21, 7, 21, 24, 60, 97, 11, 12, 20, 41, 7, 35, 18, 24, 78, 26, 36, 41, 22, 24, 12, 16, 16, 30, 20, 14, 94, 20, 11, 34, 56, 135, 13, 25, 29, 12, 30, 123, 83, 28, 22, 31, 34, 32, 24, 11, 157, 15, 18, 12, 26, 31, 26, 13, 22, 92, 28, 29, 13, 8, 12, 44, 33, 54, 58, 66, 90, 24, 8, 66, 32, 21, 32, 57, 11, 122, 9, 30, 57, 64, 23, 35, 22, 32, 17, 28, 23, 22, 25, 15, 62, 39, 83, 74, 62, 82, 97, 7, 59, 76, 25, 14, 179, 28, 25, 13, 28, 49, 19, 44, 14, 25, 12, 7, 17, 13, 12, 25, 55, 56, 34, 13, 23, 22, 34, 7, 12, 8, 224, 204, 44, 48, 8, 36, 31, 39, 9, 38, 29, 7, 42, 19, 36, 13, 38, 21, 104, 46, 52, 30, 491, 74, 24, 67, 19, 17, 18, 49, 16, 32, 94, 133, 80, 65, 16, 52, 125, 31, 23, 21, 19, 27, 66, 21, 28, 35, 27, 18, 27, 76, 61, 77, 45, 29, 10, 35, 101, 10, 23, 39, 7, 6, 20, 72, 37, 73, 64, 116, 7, 33, 7, 28, 16, 18, 29, 84, 47, 35, 12, 17, 70, 38, 21, 69, 43, 17, 71, 38, 20, 26, 73, 15, 47, 28, 14, 25, 25, 34, 62, 33, 29, 214, 49, 35, 16, 13, 113, 110, 69, 44, 174, 41, 41, 9, 36, 17, 27, 14, 25, 37, 13, 55, 29, 18, 7, 52, 22, 20, 8, 25, 52, 168, 19, 18, 61, 108, 125, 49, 36, 18, 36, 79, 58, 12, 19, 24, 31, 29, 7, 46, 45, 43, 84, 43, 173, 58, 38, 384, 60, 77, 13, 53, 98, 50, 80, 62, 14, 32, 12, 8, 19, 25, 172, 13, 103, 78, 102, 24, 39, 52, 46, 7, 32, 14, 9, 28, 53, 37, 33, 15, 74, 144, 91, 61, 42, 32, 74, 60, 61, 66, 67, 41, 45, 56, 102, 58, 14, 70, 36, 45, 18, 27, 7, 147, 114, 136, 191, 123, 160, 115, 329, 77, 286, 96, 283, 44, 74, 37, 19, 45, 40, 29, 48, 46, 72, 24, 17, 16, 129, 77, 329, 142, 113, 111, 194, 111, 342, 113, 304, 246, 9, 5, 38, 31, 32, 26, 48, 129, 26, 22, 10, 353, 55, 85, 56, 77, 68, 98, 137, 119, 150, 107, 138, 114, 9, 15, 12, 62, 24, 12, 47, 69, 16, 51, 45, 9, 100, 21, 9, 13, 10, 34, 8, 53, 98, 6, 33, 48, 48, 72, 71, 7, 28, 64, 21, 45, 21, 9, 10, 30, 58, 13, 22, 19, 39, 16, 20, 14, 8, 24, 36, 26, 60, 20, 26, 9, 11, 78, 123, 28, 60, 30, 21, 8, 28, 13, 9, 16, 24, 81, 14, 50, 154, 41, 13, 48, 10, 11, 51, 28, 23, 20, 122, 35, 47, 7, 14, 13, 29, 60, 106, 21, 26, 30, 59, 21, 90, 118, 81, 16, 25, 22, 18, 85, 36, 12, 27, 12, 53, 20, 49, 53, 55, 31, 37, 15, 13, 124, 23, 62, 16, 20, 9, 103, 19, 87, 22, 22, 33, 47, 35, 41, 18, 44, 28, 84, 13, 53, 161, 19, 64, 19, 18, 36, 19, 56, 24, 67, 70, 59, 10, 60, 23, 34, 37, 28, 96, 27, 57, 26, 28, 18, 21, 13, 31, 119, 5, 28, 7, 13, 41, 25, 9, 39, 19, 88, 14, 12, 51, 43, 113, 39, 44, 24, 30, 78, 8, 25, 22, 15, 35, 14, 18, 16, 15, 18, 87, 28, 20, 64, 22, 48, 353, 27, 27, 18, 29, 16, 29, 30, 9, 6, 42, 14, 20, 21, 101, 301, 7, 15, 54, 77, 49, 40, 9, 23, 22, 7, 17, 11, 8, 30, 37, 37, 23, 36, 12, 18, 79, 18, 85, 59, 16, 36, 38, 8, 20, 458, 21, 11, 8, 69, 12, 25, 88, 7, 54, 83, 8, 129, 30, 57, 10, 28, 32, 44, 36, 116, 15, 40, 20, 36, 24, 31, 17, 34, 10, 65, 28, 215, 6, 39, 79, 22, 68, 65, 28, 17, 46, 271, 8, 13, 23, 23, 27, 239, 40, 45, 6, 50, 20, 18, 23, 7, 25, 47, 17, 32, 80, 39, 22, 15, 23, 29, 15, 177, 26, 27, 37, 15, 24, 16, 66, 10, 84, 60, 7, 46, 11, 21, 21, 35, 24, 29, 73, 35, 34, 56, 320, 72, 18, 17, 29, 24, 25, 36, 48, 73, 23, 24, 36, 9, 30, 29, 32, 115, 52, 358, 32, 9, 12, 16, 54, 60, 69, 20, 60, 87, 40, 44, 49, 17, 8, 30, 23, 16, 10, 18, 45, 13, 13, 131, 18, 86, 12, 12, 11, 29, 80, 16, 27, 28, 15, 106, 23, 7, 74, 48, 119, 21, 152, 7, 8, 65, 304, 18, 27, 49, 48, 63, 10, 22, 8, 12, 8, 16, 17, 22, 140, 21, 42, 48, 38, 20]}, {\"label\": \"content_duration\", \"values\": [1.5, 39.0, 2.5, 3.0, 2.0, 3.0, 1.0, 2.5, 2.5, 1.0, 5.0, 1.0, 1.5, 2.0, 7.0, 1.5, 1.5, 4.0, 1.5, 0.5833333333333334, 2.0, 4.0, 2.0, 1.0, 2.0, 5.0, 4.5, 2.0, 4.5, 3.0, 2.5, 1.5, 6.5, 2.0, 1.5, 10.0, 5.5, 4.5, 7.5, 5.5, 10.0, 6.5, 11.5, 1.0, 16.0, 3.0, 5.0, 5.5, 5.0, 2.0, 2.0, 3.0, 2.0, 1.0, 1.5, 4.0, 5.5, 1.0, 1.5, 1.0, 3.5, 9.0, 4.5, 8.5, 6.5, 5.5, 11.0, 1.5, 3.5, 3.0, 5.0, 2.5, 1.0, 1.0, 3.0, 2.0, 4.0, 1.0, 5.0, 4.0, 1.5, 2.0, 11.5, 1.5, 1.0, 1.5, 1.0, 4.5, 1.0, 1.5, 2.5, 0.7, 9.5, 5.0, 1.0, 0.55, 3.0, 1.5, 5.5, 2.0, 1.5, 1.5, 1.5, 1.5, 1.5, 1.0, 1.0, 1.0, 2.0, 4.5, 5.0, 1.5, 2.0, 1.0, 62.0, 1.5, 0.1333333333333333, 0.6833333333333333, 2.5, 1.5, 3.0, 4.5, 31.5, 3.5, 2.5, 3.0, 0.55, 1.0, 1.5, 2.0, 1.0, 2.5, 1.0, 1.0, 1.5, 9.5, 1.0, 20.0, 2.5, 1.0, 6.0, 1.5, 4.0, 1.5, 5.0, 2.5, 2.5, 3.0, 1.5, 1.0, 1.5, 1.5, 1.0, 3.0, 3.0, 3.5, 1.0, 2.0, 4.5, 1.0, 46.5, 5.0, 4.0, 2.5, 3.0, 1.0, 1.5, 2.0, 1.5, 4.5, 2.0, 1.5, 2.0, 3.0, 1.5, 5.5, 1.5, 5.5, 10.0, 2.0, 3.0, 0.7, 1.0, 6.0, 1.0, 1.5, 1.5, 2.0, 5.0, 1.5, 4.5, 4.5, 3.5, 1.5, 1.0, 1.5, 0.55, 9.0, 2.0, 1.0, 1.0, 1.5, 1.5, 5.5, 6.0, 2.0, 2.0, 7.0, 1.0, 2.0, 0.7166666666666667, 1.5, 10.0, 1.5, 1.0, 2.0, 1.5, 17.5, 1.0, 1.0, 4.5, 1.0, 2.0, 2.0, 1.5, 12.0, 2.0, 3.5, 1.0, 1.5, 1.5, 1.5, 2.0, 2.0, 0.6833333333333333, 3.0, 1.5, 4.0, 2.5, 2.0, 4.0, 2.0, 2.5, 2.0, 2.5, 5.0, 3.5, 1.0, 1.0, 0.5333333333333333, 4.0, 1.0, 1.0, 4.5, 2.5, 1.0, 2.5, 4.5, 3.0, 2.0, 24.0, 19.5, 3.0, 1.5, 1.5, 2.0, 3.5, 2.5, 4.0, 20.5, 3.0, 1.0, 4.0, 3.0, 3.0, 2.0, 2.5, 3.0, 0.5, 0.7166666666666667, 2.0, 10.0, 20.5, 2.0, 1.5, 10.5, 1.0, 1.5, 3.0, 5.5, 0.5166666666666666, 1.5, 2.0, 5.0, 4.5, 1.0, 6.5, 1.5, 2.5, 2.0, 6.0, 0.6, 1.5, 2.0, 1.5, 1.0, 1.0, 0.7, 1.5, 4.0, 3.0, 5.5, 7.0, 1.0, 2.0, 5.5, 1.5, 2.5, 0.6833333333333333, 2.0, 0.5, 2.0, 2.0, 0.6833333333333333, 3.5, 5.5, 8.0, 2.5, 2.0, 2.0, 29.0, 4.0, 1.5, 3.0, 8.0, 3.0, 2.5, 1.0, 26.0, 1.5, 1.5, 2.5, 1.5, 3.0, 0.7, 6.0, 1.0, 2.5, 1.0, 1.0, 10.0, 1.0, 1.0, 11.0, 3.5, 0.5333333333333333, 24.5, 3.0, 1.5, 2.0, 1.0, 2.5, 2.0, 2.5, 6.0, 0.7166666666666667, 6.0, 1.0, 2.0, 2.5, 2.5, 1.5, 8.0, 1.0, 1.0, 1.5, 1.0, 1.5, 10.0, 1.0, 3.0, 4.0, 1.0, 5.5, 3.5, 5.0, 1.5, 0.5833333333333334, 1.0, 13.0, 1.0, 1.0, 2.5, 1.5, 0.7333333333333333, 1.0, 3.5, 1.0, 2.5, 1.5, 1.5, 7.5, 6.0, 2.0, 1.5, 2.0, 0.6, 7.5, 1.5, 4.0, 1.0, 1.0, 3.5, 1.0, 0.7166666666666667, 0.5666666666666667, 2.0, 3.5, 1.5, 1.0, 1.5, 1.0, 1.5, 1.5, 1.5, 1.0, 2.5, 2.0, 1.5, 3.0, 2.0, 1.0, 2.0, 4.5, 1.0, 1.5, 5.5, 12.5, 1.0, 2.0, 1.0, 3.5, 1.0, 12.5, 2.0, 6.5, 1.0, 5.5, 0.3166666666666666, 5.5, 11.5, 8.0, 1.0, 0.6166666666666667, 1.5, 2.5, 2.0, 2.0, 2.0, 3.5, 2.0, 1.0, 1.0, 5.5, 2.0, 4.0, 1.0, 0.6666666666666666, 2.5, 4.5, 3.0, 4.5, 2.0, 1.5, 1.5, 0.6666666666666666, 2.0, 2.0, 6.5, 3.5, 1.0, 2.0, 6.0, 1.5, 4.0, 1.5, 8.0, 4.5, 0.6, 2.0, 2.0, 1.5, 8.0, 3.5, 3.5, 1.5, 2.5, 18.0, 3.5, 1.5, 19.5, 0.5666666666666667, 0.6166666666666667, 1.0, 1.0, 1.0, 24.5, 1.5, 1.5, 1.0, 6.5, 5.5, 7.5, 1.5, 1.5, 1.0, 0.5666666666666667, 2.0, 2.5, 2.5, 1.0, 1.0, 1.5, 0.5666666666666667, 0.7166666666666667, 1.0, 2.0, 0.5333333333333333, 33.0, 3.0, 24.5, 7.5, 3.0, 1.0, 3.5, 1.5, 5.0, 1.0, 0.5333333333333333, 1.0, 5.0, 10.5, 2.0, 7.0, 1.0, 3.5, 9.0, 2.5, 3.0, 1.5, 2.0, 1.0, 4.5, 1.5, 1.0, 2.5, 2.5, 1.5, 2.5, 1.5, 2.5, 71.5, 7.0, 3.5, 1.0, 6.5, 1.0, 3.0, 2.0, 0.5833333333333334, 1.0, 7.0, 1.5, 3.5, 1.5, 1.0, 2.0, 1.0, 2.0, 3.0, 0.6166666666666667, 1.5, 2.5, 1.0, 3.0, 1.5, 1.0, 0.5166666666666666, 1.5, 20.5, 47.0, 3.0, 2.0, 1.0, 1.0, 4.0, 14.5, 1.5, 1.5, 3.5, 1.5, 2.5, 2.0, 1.5, 5.0, 1.5, 2.0, 0.6166666666666667, 3.5, 3.0, 1.0, 1.5, 2.0, 3.0, 3.5, 0.5666666666666667, 0.6833333333333333, 1.0, 1.0, 0.65, 1.0, 2.5, 4.0, 2.0, 4.0, 1.0, 5.5, 6.0, 6.0, 1.5, 5.5, 1.0, 14.5, 2.0, 1.5, 2.0, 3.0, 1.5, 2.5, 1.0, 0.55, 1.5, 2.0, 1.0, 2.0, 1.5, 2.0, 2.5, 1.0, 1.0, 3.5, 7.0, 18.5, 2.0, 2.5, 43.5, 0.6, 10.0, 2.5, 5.5, 1.5, 0.6333333333333333, 1.5, 2.0, 1.0, 2.0, 4.5, 3.5, 0.6666666666666666, 5.5, 1.0, 5.0, 4.0, 1.5, 1.5, 2.0, 5.0, 1.0, 4.0, 14.0, 5.0, 6.5, 1.0, 1.5, 1.0, 1.0, 1.5, 3.5, 14.5, 1.0, 1.5, 1.0, 1.0, 7.0, 5.0, 1.0, 2.0, 3.0, 3.0, 4.0, 2.0, 3.0, 1.0, 0.6333333333333333, 3.5, 6.0, 2.0, 1.5, 2.5, 4.5, 5.5, 1.0, 2.5, 2.5, 4.0, 2.0, 4.0, 7.5, 0.4666666666666667, 1.5, 2.5, 10.0, 2.0, 5.0, 24.0, 1.0, 9.0, 1.0, 14.5, 1.0, 0.6166666666666667, 1.5, 1.0, 1.0, 1.0, 2.5, 0.5333333333333333, 1.0, 1.0, 1.0, 1.5, 3.5, 0.7333333333333333, 1.5, 0.5166666666666666, 1.0, 12.5, 1.0, 1.5, 0.5833333333333334, 4.5, 2.0, 1.5, 3.5, 2.0, 1.5, 9.0, 1.5, 0.6833333333333333, 2.0, 2.0, 6.0, 5.5, 2.5, 4.0, 3.5, 2.0, 1.0, 3.5, 2.0, 1.0, 1.5, 5.0, 1.0, 2.5, 6.0, 8.5, 0.5166666666666666, 1.0, 2.0, 2.0, 0.5333333333333333, 0.7333333333333333, 2.5, 1.0, 2.0, 2.5, 0.6166666666666667, 1.5, 2.0, 4.0, 6.0, 1.0, 1.0, 0.6166666666666667, 2.5, 2.0, 1.5, 3.0, 1.5, 1.5, 2.5, 0.5666666666666667, 6.5, 1.5, 0.7166666666666667, 4.5, 5.0, 3.0, 3.0, 1.0, 1.0, 0.5333333333333333, 1.5, 1.0, 1.5, 1.0, 3.0, 4.0, 3.0, 3.5, 0.7, 0.6166666666666667, 3.5, 3.5, 1.5, 1.0, 3.0, 4.0, 6.0, 1.0, 2.0, 7.0, 5.0, 2.5, 2.5, 1.0, 7.5, 7.5, 5.5, 1.0, 2.0, 2.0, 2.0, 5.0, 3.0, 3.0, 7.0, 1.0, 1.0, 1.0, 4.5, 2.5, 1.0, 3.0, 1.0, 2.5, 5.5, 3.0, 2.0, 3.0, 1.0, 12.0, 7.0, 2.0, 1.0, 1.0, 1.0, 0.5333333333333333, 1.0, 45.0, 1.5, 1.5, 2.5, 70.0, 1.5, 4.0, 6.0, 2.0, 4.5, 0.6, 1.0, 6.0, 8.0, 1.0, 0.6333333333333333, 0.6166666666666667, 0.5333333333333333, 2.0, 1.5, 1.0, 1.0, 0.0, 1.0, 1.0, 1.5, 3.0, 3.0, 2.0, 0.7166666666666667, 1.5, 1.0, 2.5, 2.0, 3.5, 2.5, 2.5, 2.0, 1.5, 4.5, 1.0, 1.0, 6.0, 2.0, 2.5, 2.0, 1.5, 1.5, 3.5, 3.0, 7.5, 3.0, 1.0, 1.0, 31.5, 0.5333333333333333, 1.5, 1.5, 2.0, 3.0, 4.5, 1.5, 1.5, 4.0, 1.0, 10.0, 1.5, 1.0, 2.5, 0.6333333333333333, 1.5, 1.0, 0.5166666666666666, 2.0, 3.0, 3.0, 29.5, 2.5, 2.0, 6.5, 1.0, 2.0, 1.0, 2.0, 2.5, 2.0, 1.0, 3.0, 1.0, 1.0, 1.0, 1.0, 1.0, 6.0, 5.0, 3.0, 2.0, 13.0, 1.5, 3.0, 2.0, 3.5, 1.0, 4.0, 2.5, 5.0, 13.5, 2.5, 1.0, 2.5, 0.6833333333333333, 3.5, 2.5, 0.6666666666666666, 0.45, 3.0, 4.5, 1.5, 1.5, 4.0, 6.5, 5.5, 0.5166666666666666, 2.5, 0.6833333333333333, 1.5, 1.0, 3.0, 1.0, 0.5666666666666667, 1.0, 4.5, 3.0, 2.5, 1.5, 1.5, 5.0, 0.6, 4.0, 2.5, 2.0, 7.0, 1.0, 1.0, 2.5, 31.5, 5.5, 0.5333333333333333, 1.0, 5.5, 2.0, 2.5, 2.0, 3.5, 2.0, 1.0, 1.5, 6.5, 1.0, 1.0, 1.0, 3.5, 2.0, 2.0, 5.0, 1.5, 4.5, 2.5, 1.5, 10.5, 6.0, 1.0, 2.0, 8.5, 0.7333333333333333, 8.5, 2.0, 3.0, 0.65, 1.5, 3.5, 2.0, 0.6166666666666667, 5.5, 4.5, 5.5, 2.0, 1.5, 3.0, 1.5, 1.0, 5.0, 1.0, 2.0, 1.0, 1.0, 7.5, 4.5, 1.0, 11.0, 1.0, 3.5, 1.0, 1.5, 2.0, 4.5, 2.0, 4.0, 1.5, 0.6666666666666666, 1.0, 1.0, 1.0, 5.0, 8.5, 1.0, 2.0, 1.0, 4.0, 1.5, 8.5, 3.0, 2.0, 1.5, 4.5, 5.0, 2.0, 1.5, 7.0, 3.5, 5.5, 1.5, 2.5, 3.0, 1.0, 3.0, 1.0, 0.6666666666666666, 1.5, 1.5, 1.0, 3.5, 1.0, 3.5, 2.0, 8.5, 10.5, 1.0, 2.0, 5.5, 2.0, 2.5, 1.5, 1.0, 12.5, 0.6, 7.0, 14.0, 1.0, 1.5, 1.5, 1.5, 2.0, 2.5, 1.5, 3.0, 2.5, 5.5, 17.5, 3.5, 2.5, 4.5, 8.5, 1.0, 6.5, 2.0, 8.0, 5.0, 17.5, 1.5, 8.5, 2.0, 1.5, 4.0, 1.0, 4.5, 4.0, 2.5, 2.0, 1.0, 3.0, 3.0, 1.5, 0.5666666666666667, 8.0, 4.0, 3.0, 1.0, 3.5, 1.5, 0.6333333333333333, 2.5, 2.5, 1.5, 0.7166666666666667, 1.0, 2.0, 5.5, 2.5, 2.5, 0.65, 3.0, 3.0, 1.5, 1.5, 0.6333333333333333, 1.5, 13.0, 0.6166666666666667, 6.0, 4.0, 1.0, 0.5666666666666667, 5.0, 2.0, 21.0, 12.0, 1.5, 1.0, 7.5, 1.0, 2.0, 62.0, 1.5, 3.0, 2.5, 0.5, 0.6, 3.5, 1.0, 8.0, 11.0, 11.5, 5.0, 68.5, 3.5, 2.5, 6.5, 9.0, 3.5, 3.5, 3.0, 1.0, 1.0, 1.5, 3.0, 3.5, 1.0, 1.0, 0.6, 5.0, 7.5, 3.5, 1.0, 0.6166666666666667, 1.0, 6.0, 2.0, 1.0, 1.0, 0.5666666666666667, 1.0, 3.0, 1.0, 5.0, 2.5, 1.0, 6.5, 2.0, 2.0, 1.0, 2.5, 2.0, 1.5, 2.0, 1.0, 1.0, 2.5, 1.0, 11.0, 12.0, 17.5, 11.0, 7.5, 3.0, 13.0, 3.5, 12.5, 2.5, 0.65, 2.5, 2.5, 1.5, 5.5, 1.5, 2.5, 1.0, 0.6833333333333333, 6.0, 3.0, 2.5, 1.5, 0.7, 1.0, 1.0, 0.55, 2.5, 2.0, 1.5, 4.0, 0.5666666666666667, 5.0, 1.5, 0.7, 10.0, 1.0, 11.5, 2.5, 1.0, 1.0, 1.0, 1.5, 2.0, 3.5, 0.5666666666666667, 0.6333333333333333, 0.5166666666666666, 0.5333333333333333, 0.5666666666666667, 1.0, 1.5, 0.6833333333333333, 0.6666666666666666, 4.5, 1.0, 0.6666666666666666, 0.6833333333333333, 2.0, 12.0, 3.5, 0.6833333333333333, 3.0, 13.5, 5.5, 1.0, 2.5, 1.5, 0.6, 1.5, 1.5, 10.5, 3.5, 1.5, 14.0, 1.0, 3.5, 2.5, 1.5, 2.5, 6.5, 1.0, 1.5, 4.5, 6.5, 1.5, 9.5, 2.0, 1.5, 12.5, 12.5, 2.0, 9.0, 3.0, 1.0, 0.5166666666666666, 2.5, 6.5, 2.5, 3.0, 0.65, 2.0, 4.5, 0.6666666666666666, 7.0, 3.0, 0.7, 2.5, 0.7333333333333333, 1.0, 0.5, 1.5, 2.0, 8.5, 5.5, 4.0, 1.0, 3.0, 6.5, 4.0, 12.0, 1.5, 2.5, 2.5, 3.5, 7.5, 1.0, 5.5, 2.0, 5.0, 13.0, 7.5, 3.0, 12.5, 1.5, 6.5, 1.0, 1.0, 1.0, 0.5833333333333334, 1.0, 3.0, 3.5, 4.5, 10.0, 1.0, 1.5, 1.0, 0.7333333333333333, 0.5666666666666667, 1.0, 6.5, 1.5, 1.0, 3.5, 0.5666666666666667, 1.5, 2.5, 2.0, 8.0, 0.6666666666666666, 4.0, 1.0, 0.6333333333333333, 1.0, 4.5, 1.5, 2.0, 1.0, 1.5, 1.0, 2.0, 2.0, 8.0, 1.5, 3.5, 1.5, 8.0, 0.6166666666666667, 2.0, 10.5, 3.0, 1.5, 1.5, 2.0, 0.6833333333333333, 5.5, 3.0, 1.0, 2.0, 2.0, 1.0, 5.0, 1.0, 3.5, 2.5, 1.5, 12.5, 0.6333333333333333, 1.0, 1.5, 4.5, 4.5, 0.6666666666666666, 1.5, 1.0, 1.0, 1.5, 3.5, 3.5, 0.5666666666666667, 1.0, 2.5, 1.0, 0.6166666666666667, 2.5, 9.5, 0.6166666666666667, 5.5, 2.0, 7.0, 4.0, 8.5, 4.5, 6.5, 1.0, 8.5, 0.7333333333333333, 2.0, 2.5, 2.5, 0.6333333333333333, 6.0, 2.0, 2.5, 1.0, 7.5, 5.0, 1.0, 1.5, 1.5, 12.0, 7.5, 2.5, 1.0, 1.5, 4.5, 14.5, 1.5, 1.0, 30.0, 2.0, 1.0, 0.6166666666666667, 1.0, 0.6166666666666667, 1.5, 1.0, 2.0, 2.5, 1.0, 6.5, 2.0, 5.0, 17.0, 1.5, 3.0, 1.5, 0.5333333333333333, 4.0, 0.6, 2.0, 0.7, 1.0, 1.0, 0.5833333333333334, 1.5, 4.0, 1.0, 4.0, 0.7333333333333333, 5.5, 1.5, 1.5, 1.5, 2.5, 3.5, 1.5, 4.0, 1.0, 4.0, 0.5833333333333334, 1.0, 2.5, 1.5, 5.0, 2.5, 1.0, 1.0, 0.55, 2.5, 1.0, 1.0, 1.0, 0.6833333333333333, 2.0, 4.5, 0.6333333333333333, 3.5, 1.0, 0.6166666666666667, 2.5, 2.5, 1.0, 20.0, 1.5, 5.0, 16.5, 2.0, 1.0, 4.0, 3.5, 2.5, 1.0, 2.5, 5.5, 2.5, 0.7, 1.0, 3.5, 2.5, 1.5, 1.5, 1.0, 2.0, 7.0, 4.5, 0.5666666666666667, 2.0, 0.6, 0.6833333333333333, 2.5, 1.5, 1.0, 0.65, 5.0, 4.0, 2.0, 5.0, 3.0, 7.5, 5.0, 2.0, 0.6333333333333333, 10.5, 6.0, 3.0, 5.5, 0.7166666666666667, 0.5833333333333334, 3.5, 0.6, 0.6166666666666667, 1.5, 3.5, 2.0, 1.0, 0.7166666666666667, 0.6666666666666666, 10.0, 3.5, 2.5, 4.0, 1.0, 1.0, 3.0, 15.0, 0.5, 1.0, 20.5, 1.5, 2.0, 1.0, 4.5, 3.0, 2.5, 2.0, 2.0, 1.0, 4.5, 1.5, 1.5, 3.0, 1.0, 2.0, 6.5, 5.0, 2.0, 2.0, 78.5, 7.5, 1.0, 1.0, 1.0, 8.0, 3.5, 1.5, 6.0, 3.0, 4.5, 12.0, 1.0, 1.5, 16.0, 1.0, 3.0, 1.0, 2.5, 2.0, 1.0, 2.0, 2.0, 1.0, 2.0, 4.0, 2.0, 4.5, 1.0, 0.5333333333333333, 0.7166666666666667, 1.0, 1.5, 1.0, 2.0, 0.6166666666666667, 1.5, 1.5, 2.0, 3.0, 9.0, 2.0, 2.5, 2.5, 3.0, 1.0, 1.0, 3.0, 1.0, 11.0, 5.5, 2.5, 1.0, 4.5, 4.5, 1.5, 2.0, 4.0, 1.0, 5.0, 0.5, 2.5, 1.5, 6.5, 3.0, 1.5, 1.0, 2.0, 7.0, 4.5, 4.0, 5.0, 8.0, 1.0, 5.5, 1.0, 2.0, 4.0, 4.0, 8.5, 1.0, 2.0, 1.0, 9.5, 0.5166666666666666, 0.5166666666666666, 1.5, 5.0, 1.0, 2.0, 1.0, 1.0, 8.0, 6.0, 1.0, 1.0, 1.5, 6.0, 0.5333333333333333, 6.0, 9.5, 2.5, 2.5, 2.5, 2.0, 0.6166666666666667, 8.0, 1.0, 1.5, 2.0, 3.0, 24.0, 2.0, 2.0, 2.5, 2.0, 1.5, 2.5, 7.5, 2.0, 1.0, 1.0, 1.0, 1.0, 1.0, 1.5, 0.65, 1.0, 0.6333333333333333, 1.0, 3.0, 8.0, 1.5, 2.0, 0.5333333333333333, 4.5, 1.5, 2.0, 7.5, 0.7, 0.6, 0.7, 1.5, 1.5, 1.0, 1.0, 1.5, 2.0, 3.0, 2.0, 1.5, 0.6333333333333333, 1.0, 1.5, 2.0, 2.5, 1.0, 1.0, 3.0, 0.5166666666666666, 1.0, 2.5, 3.0, 2.5, 2.0, 2.0, 1.0, 7.0, 3.5, 1.0, 1.5, 3.0, 2.0, 0.6333333333333333, 7.5, 1.5, 0.7, 4.0, 7.0, 1.5, 2.0, 7.5, 6.0, 0.6833333333333333, 2.5, 3.0, 0.5, 10.5, 0.5166666666666666, 2.0, 3.0, 2.0, 3.5, 1.5, 5.0, 2.0, 2.5, 3.0, 0.5, 2.0, 1.0, 2.5, 1.0, 2.5, 2.5, 0.6833333333333333, 1.0, 6.0, 5.5, 1.5, 3.0, 1.0, 2.0, 2.5, 2.0, 1.0, 2.0, 2.0, 3.5, 2.0, 8.0, 4.5, 3.0, 2.5, 0.7333333333333333, 1.5, 2.0, 1.0, 1.5, 1.0, 3.0, 4.5, 2.0, 3.5, 1.0, 1.5, 1.0, 1.0, 4.5, 2.5, 2.0, 1.0, 4.0, 2.0, 5.5, 1.0, 2.5, 11.5, 2.0, 4.0, 1.5, 3.0, 5.0, 5.0, 1.5, 5.5, 7.5, 4.0, 1.5, 1.5, 0.5, 1.0, 0.6666666666666666, 1.5, 4.5, 0.6666666666666666, 1.5, 6.0, 1.5, 1.5, 2.0, 1.5, 1.0, 2.5, 1.0, 2.5, 4.5, 4.0, 2.5, 0.4833333333333333, 1.0, 1.5, 1.5, 2.5, 0.65, 1.0, 1.5, 1.0, 2.0, 2.0, 0.5666666666666667, 1.5, 2.0, 3.5, 1.5, 1.0, 10.0, 1.5, 1.0, 11.5, 1.5, 1.0, 18.5, 1.5, 5.0, 4.5, 1.0, 1.5, 1.5, 1.0, 0.6166666666666667, 2.0, 4.0, 1.0, 1.5, 6.5, 8.5, 1.0, 3.0, 1.0, 3.5, 30.0, 9.5, 3.0, 34.0, 5.0, 31.0, 1.5, 15.5, 1.5, 11.5, 8.5, 9.0, 1.5, 1.5, 1.0, 1.5, 3.5, 1.0, 6.0, 1.5, 1.0, 1.5, 2.0, 1.5, 0.6333333333333333, 4.0, 1.5, 5.0, 1.5, 1.0, 2.5, 1.5, 1.0, 2.5, 2.0, 1.0, 2.5, 2.0, 1.0, 14.0, 1.0, 1.5, 1.0, 4.0, 28.5, 1.0, 2.0, 1.5, 2.5, 0.6, 1.0, 1.0, 0.6166666666666667, 2.5, 3.0, 1.0, 1.5, 5.0, 5.5, 10.5, 23.0, 1.5, 3.0, 1.5, 2.5, 1.0, 7.0, 1.5, 1.5, 0.7333333333333333, 1.0, 1.0, 8.0, 4.0, 1.0, 4.5, 0.6666666666666666, 1.5, 6.0, 2.0, 2.0, 6.0, 3.5, 1.0, 6.5, 0.6666666666666666, 5.0, 5.0, 12.5, 1.0, 4.0, 3.0, 3.0, 3.0, 1.0, 1.0, 4.0, 5.0, 2.5, 0.5833333333333334, 3.0, 0.5, 1.0, 0.5833333333333334, 3.5, 1.0, 1.5, 0.7333333333333333, 1.5, 2.0, 1.5, 1.0, 3.0, 3.0, 1.5, 6.5, 1.0, 7.0, 3.5, 2.0, 3.0, 3.0, 2.5, 8.0, 2.5, 2.0, 4.0, 5.5, 3.0, 2.0, 3.0, 1.0, 1.0, 2.0, 1.5, 1.0, 4.0, 1.5, 1.5, 0.7333333333333333, 1.0, 3.5, 2.0, 0.6, 2.0, 1.5, 1.5, 3.0, 2.5, 4.5, 1.5, 3.5, 1.5, 2.5, 1.0, 2.5, 2.5, 3.5, 2.0, 3.0, 1.0, 1.5, 3.5, 2.0, 3.0, 0.55, 1.5, 1.5, 2.0, 4.0, 1.5, 1.0, 1.0, 3.0, 2.0, 6.0, 5.0, 4.0, 0.5333333333333333, 4.5, 9.5, 0.5333333333333333, 1.0, 1.0, 3.5, 3.0, 1.5, 6.0, 1.5, 2.0, 4.0, 1.0, 38.0, 9.0, 2.0, 1.5, 1.5, 1.5, 0.6166666666666667, 3.0, 2.0, 2.0, 1.0, 2.0, 6.0, 0.55, 1.5, 2.5, 7.0, 10.5, 1.5, 1.5, 3.5, 1.5, 2.5, 4.0, 8.5, 3.5, 5.0, 3.5, 8.0, 7.0, 4.5, 0.7166666666666667, 1.5, 3.0, 2.5, 2.5, 1.0, 3.5, 3.0, 3.0, 3.5, 6.0, 4.0, 3.0, 2.0, 7.0, 3.0, 0.7333333333333333, 2.0, 2.0, 0.6166666666666667, 1.0, 1.5, 1.0, 1.5, 1.0, 1.0, 2.0, 1.5, 6.5, 2.5, 2.0, 1.5, 0.6666666666666666, 4.5, 5.0, 2.0, 1.5, 3.0, 1.0, 1.0, 2.5, 7.5, 7.0, 1.0, 2.5, 0.6166666666666667, 1.0, 3.0, 2.0, 1.5, 4.0, 3.0, 1.5, 3.5, 3.0, 5.5, 3.0, 1.5, 2.5, 1.0, 4.5, 1.5, 2.0, 2.0, 1.0, 2.0, 1.0, 1.5, 6.5, 3.0, 3.5, 1.5, 4.0, 5.0, 2.5, 1.5, 1.0, 1.0, 5.5, 3.5, 1.5, 2.5, 4.5, 5.5, 4.0, 1.5, 3.0, 8.0, 1.0, 1.5, 5.5, 5.5, 1.5, 6.0, 4.0, 1.0, 5.5, 1.5, 2.0, 0.7166666666666667, 0.6666666666666666, 2.0, 3.0, 2.5, 7.0, 1.5, 0.6333333333333333, 2.0, 7.5, 1.5, 2.0, 1.5, 1.0, 1.5, 3.5, 7.5, 4.5, 7.5, 2.5, 3.0, 1.5, 4.0, 1.0, 1.5, 5.5, 1.5, 2.0, 0.5833333333333334, 3.5, 0.7166666666666667, 2.0, 1.0, 3.5, 1.5, 1.0, 1.5, 1.0, 3.0, 1.0, 1.5, 3.5, 2.5, 4.0, 3.0, 2.0, 2.5, 1.0, 1.0, 1.0, 4.0, 2.0, 1.0, 0.6333333333333333, 2.0, 1.0, 2.0, 1.0, 1.0, 1.5, 2.5, 0.5333333333333333, 1.5, 2.5, 1.0, 1.0, 1.5, 1.0, 0.5333333333333333, 2.0, 1.5, 4.0, 1.0, 0.55, 2.5, 3.0, 0.55, 1.5, 1.0, 2.0, 2.0, 7.0, 1.0, 3.5, 0.6, 3.0, 1.0, 5.5, 1.5, 0.5666666666666667, 2.5, 1.5, 1.0, 0.5, 0.5, 0.65, 2.0, 0.5333333333333333, 0.5333333333333333, 0.6333333333333333, 2.5, 0.55, 0.5833333333333334, 0.5166666666666666, 0.5166666666666666, 1.0, 1.5, 0.7333333333333333, 10.5, 1.0, 1.0, 1.5, 4.0, 1.0, 1.5, 4.5, 0.6166666666666667, 1.5, 1.0, 1.0, 1.5, 1.5, 2.0, 4.5, 5.0, 4.0, 1.0, 1.5, 2.5, 1.5, 0.65, 2.5, 1.5, 2.5, 4.0, 4.5, 3.5, 0.5333333333333333, 0.6166666666666667, 3.0, 2.5, 1.5, 0.7333333333333333, 1.5, 1.5, 2.0, 0.7, 2.0, 2.0, 1.0, 1.5, 4.5, 3.0, 1.0, 2.5, 1.0, 2.0, 1.0, 6.0, 0.5666666666666667, 4.5, 6.0, 2.0, 3.0, 2.0, 1.0, 4.0, 3.5, 3.0, 3.5, 0.7, 3.0, 1.0, 3.0, 1.0, 3.0, 3.0, 4.0, 12.5, 4.5, 15.5, 5.5, 4.0, 5.5, 5.0, 19.5, 5.5, 7.0, 6.0, 1.5, 4.0, 3.5, 12.0, 3.0, 1.5, 3.0, 4.0, 5.0, 6.0, 32.5, 1.0, 9.5, 9.0, 7.5, 18.5, 5.0, 19.0, 15.0, 20.5, 3.0, 13.5, 3.5, 37.5, 3.5, 4.0, 1.0, 14.5, 2.0, 2.5, 1.5, 3.0, 1.5, 1.0, 4.0, 1.0, 7.0, 5.5, 3.5, 1.5, 17.5, 1.0, 2.5, 1.0, 10.0, 1.0, 8.5, 2.5, 6.5, 3.5, 8.0, 10.5, 2.5, 1.0, 1.5, 2.5, 10.5, 2.0, 3.0, 1.5, 8.0, 12.0, 25.0, 11.0, 4.5, 4.5, 8.5, 9.0, 20.0, 1.5, 7.0, 4.0, 5.0, 19.5, 7.5, 25.5, 12.0, 20.5, 3.0, 7.5, 45.0, 11.0, 33.0, 16.0, 1.0, 2.0, 1.5, 3.0, 11.0, 1.0, 3.5, 2.5, 12.5, 4.0, 3.5, 11.5, 2.0, 1.5, 1.0, 3.0, 3.0, 1.0, 1.5, 4.0, 2.0, 2.0, 15.0, 4.0, 1.5, 2.5, 3.5, 2.0, 2.5, 2.0, 3.5, 4.5, 1.0, 4.5, 1.0, 1.0, 3.0, 19.5, 6.5, 60.0, 11.5, 5.5, 10.0, 7.0, 16.5, 2.0, 1.5, 22.5, 13.5, 2.0, 7.0, 4.0, 5.5, 3.5, 2.0, 1.0, 1.5, 2.0, 3.0, 1.0, 10.0, 23.0, 18.0, 6.5, 18.5, 20.5, 6.5, 6.0, 14.5, 13.0, 8.5, 8.5, 5.0, 1.0, 4.5, 17.5, 1.5, 3.0, 6.0, 10.0, 0.55, 3.5, 2.5, 1.5, 1.5, 2.0, 2.0, 3.0, 7.5, 1.5, 5.5, 3.5, 1.0, 2.0, 1.5, 6.5, 3.0, 2.0, 2.5, 4.5, 4.5, 2.5, 6.0, 1.5, 3.0, 14.0, 2.0, 5.0, 1.0, 1.0, 3.5, 1.0, 1.0, 2.5, 16.5, 5.0, 4.0, 2.0, 6.5, 1.0, 29.5, 3.0, 21.5, 31.5, 15.5, 4.0, 12.0, 27.5, 5.5, 9.0, 5.0, 20.5, 14.5, 44.5, 9.0, 14.0, 15.5, 5.5, 22.5, 9.0, 12.0, 12.5, 3.5, 16.0, 2.5, 4.5, 13.0, 3.0, 2.5, 4.0, 0.6, 1.0, 1.0, 2.0, 1.0, 6.0, 1.0, 4.0, 1.0, 19.0, 1.5, 3.5, 18.0, 11.5, 24.5, 4.0, 2.0, 7.5, 1.5, 7.0, 2.5, 2.5, 2.0, 1.0, 25.0, 1.0, 15.5, 6.0, 6.0, 5.0, 4.5, 2.5, 2.5, 3.0, 8.5, 5.0, 5.0, 5.0, 1.0, 0.6666666666666666, 11.0, 4.0, 1.5, 1.0, 1.5, 1.0, 2.5, 4.0, 6.0, 4.5, 4.5, 4.0, 7.0, 18.5, 1.5, 1.5, 6.5, 0.6666666666666666, 1.0, 3.0, 2.5, 1.5, 3.5, 1.5, 3.5, 1.5, 1.0, 4.0, 4.5, 13.0, 11.0, 8.5, 9.0, 4.5, 3.5, 3.0, 1.5, 2.0, 9.0, 14.5, 3.0, 5.5, 51.0, 2.0, 32.5, 10.5, 12.0, 9.5, 3.0, 13.0, 4.0, 1.0, 1.5, 2.0, 12.5, 1.5, 9.5, 2.0, 4.5, 1.5, 2.5, 1.0, 1.0, 10.5, 1.5, 2.5, 3.5, 3.0, 4.5, 1.0, 2.0, 11.0, 3.0, 13.5, 8.0, 2.0, 3.0, 1.5, 2.5, 6.5, 1.5, 0.7166666666666667, 1.0, 2.5, 4.0, 3.5, 7.5, 1.0, 4.0, 3.5, 2.0, 0.7, 3.0, 3.0, 3.5, 13.5, 2.5, 1.0, 0.6166666666666667, 3.0, 0.5333333333333333, 4.0, 2.0, 1.0, 9.0, 2.0, 1.0, 3.0, 1.5, 1.5, 1.0, 1.5, 2.0, 2.5, 1.0, 2.0, 13.0, 1.5, 2.0, 4.0, 8.0, 6.0, 2.0, 2.0, 3.5, 0.5333333333333333, 2.0, 9.0, 10.5, 3.5, 2.0, 4.0, 4.0, 1.5, 1.5, 1.0, 12.5, 1.0, 1.0, 1.0, 1.5, 1.5, 2.0, 1.0, 2.5, 12.5, 2.0, 1.5, 1.0, 1.0, 1.0, 3.5, 3.5, 2.5, 6.0, 3.5, 6.5, 4.0, 1.0, 6.0, 2.0, 1.5, 3.0, 4.0, 0.5666666666666667, 19.0, 0.5666666666666667, 2.0, 17.0, 7.5, 3.0, 4.0, 1.5, 3.5, 1.5, 3.0, 2.0, 2.0, 3.0, 1.5, 9.0, 2.5, 9.0, 4.0, 11.0, 8.0, 7.0, 0.6833333333333333, 3.5, 3.5, 1.5, 1.5, 17.5, 3.0, 2.0, 0.5333333333333333, 6.5, 7.0, 1.0, 5.5, 1.0, 2.0, 1.5, 0.7, 0.7, 0.6166666666666667, 1.0, 1.0, 7.0, 6.0, 5.5, 1.0, 1.5, 3.0, 8.0, 1.0, 1.0, 0.55, 44.5, 16.5, 5.0, 3.0, 0.7333333333333333, 3.0, 3.0, 2.0, 1.5, 4.0, 2.0, 0.5833333333333334, 5.0, 2.0, 2.0, 1.5, 3.0, 2.5, 14.0, 9.0, 3.5, 2.0, 57.0, 7.5, 4.0, 5.0, 1.0, 1.5, 1.5, 4.0, 2.5, 3.0, 8.0, 9.5, 8.0, 3.0, 1.5, 2.0, 14.0, 2.0, 2.5, 1.0, 2.5, 6.5, 6.0, 3.0, 3.0, 2.0, 3.5, 1.0, 3.5, 13.0, 4.5, 13.0, 5.0, 3.5, 1.0, 3.5, 9.5, 0.5333333333333333, 1.5, 4.0, 0.55, 0.6333333333333333, 3.5, 5.5, 4.5, 9.0, 11.0, 10.5, 0.5333333333333333, 2.5, 0.6333333333333333, 2.5, 1.5, 3.5, 2.0, 8.0, 4.5, 7.0, 1.5, 1.5, 13.5, 4.0, 2.0, 4.0, 3.0, 1.5, 12.0, 2.5, 1.5, 3.5, 5.0, 0.65, 8.0, 2.0, 0.65, 2.0, 6.0, 5.5, 4.5, 4.5, 2.5, 15.5, 5.5, 1.5, 2.0, 1.0, 18.5, 7.5, 7.0, 1.5, 16.5, 3.0, 5.0, 0.6666666666666666, 4.0, 1.0, 1.5, 1.5, 3.5, 6.5, 1.0, 7.0, 2.0, 3.0, 0.6666666666666666, 6.0, 2.5, 1.0, 0.6, 2.0, 2.5, 10.0, 1.0, 1.0, 14.5, 7.5, 10.5, 3.5, 2.0, 1.5, 5.5, 7.5, 7.0, 2.0, 2.5, 2.5, 0.6666666666666666, 3.0, 0.5666666666666667, 4.5, 2.0, 4.0, 5.5, 5.0, 16.0, 9.0, 3.5, 76.5, 9.0, 11.5, 1.5, 11.5, 19.5, 9.0, 11.0, 5.0, 1.5, 3.5, 1.0, 2.0, 2.0, 2.0, 11.0, 1.5, 13.0, 7.0, 14.5, 2.0, 2.5, 10.5, 3.5, 1.0, 5.0, 1.0, 2.0, 1.5, 7.0, 2.5, 1.5, 0.6166666666666667, 3.0, 20.0, 16.5, 12.5, 4.5, 4.0, 8.5, 5.5, 6.0, 3.0, 10.0, 4.0, 4.0, 5.0, 15.5, 3.5, 1.5, 9.0, 4.5, 5.0, 2.0, 3.0, 0.6333333333333333, 20.0, 6.0, 8.0, 31.5, 14.5, 10.5, 12.5, 22.0, 8.0, 30.5, 17.0, 31.5, 3.0, 5.0, 3.5, 2.0, 3.5, 4.5, 2.5, 6.5, 5.5, 6.5, 4.5, 2.0, 1.0, 13.5, 8.0, 18.0, 8.0, 17.5, 8.5, 9.5, 9.0, 43.0, 10.0, 30.5, 32.5, 1.0, 0.6833333333333333, 5.0, 3.5, 4.5, 3.5, 5.5, 18.5, 3.5, 1.5, 1.0, 42.0, 7.0, 11.5, 5.5, 12.0, 6.5, 13.0, 7.0, 12.0, 26.5, 6.0, 7.5, 13.0, 0.7333333333333333, 1.0, 1.0, 7.5, 1.0, 0.6166666666666667, 3.5, 9.5, 2.0, 7.5, 3.5, 0.6333333333333333, 5.0, 3.0, 3.0, 1.5, 0.5666666666666667, 2.0, 0.6166666666666667, 6.5, 5.5, 0.5833333333333334, 1.0, 4.5, 7.5, 5.5, 14.0, 0.5833333333333334, 1.5, 5.5, 1.5, 6.5, 3.0, 2.0, 1.0, 2.0, 10.5, 1.0, 2.0, 2.0, 6.5, 1.0, 1.5, 1.0, 1.0, 3.0, 2.5, 3.0, 4.0, 2.0, 4.0, 1.0, 1.5, 7.5, 16.0, 2.0, 4.5, 3.5, 2.5, 1.0, 3.0, 1.0, 1.0, 1.5, 2.0, 5.5, 0.7, 6.0, 26.0, 6.0, 3.0, 4.0, 2.0, 1.0, 4.0, 3.5, 3.0, 2.0, 21.0, 2.5, 5.5, 0.55, 0.5, 2.0, 1.0, 6.0, 5.0, 2.0, 3.5, 2.0, 3.0, 1.0, 5.0, 18.5, 7.0, 1.5, 1.0, 1.0, 2.0, 8.0, 5.0, 1.5, 0.6333333333333333, 1.5, 5.0, 4.0, 2.5, 3.0, 4.5, 1.5, 3.0, 1.0, 1.5, 22.0, 3.0, 4.5, 1.0, 1.5, 1.0, 6.5, 2.0, 17.5, 1.0, 2.0, 4.0, 13.0, 3.5, 8.5, 1.0, 2.0, 3.5, 5.5, 1.5, 3.5, 26.0, 1.0, 4.5, 2.5, 1.5, 3.0, 1.5, 7.0, 2.5, 7.0, 8.5, 7.5, 1.0, 13.5, 1.5, 3.5, 3.0, 4.0, 12.5, 2.0, 7.5, 3.5, 2.5, 1.5, 2.0, 0.6166666666666667, 4.5, 8.5, 1.0, 2.0, 0.6333333333333333, 1.0, 6.0, 2.0, 1.0, 2.0, 2.0, 6.5, 3.0, 1.5, 4.5, 5.5, 5.5, 3.0, 3.0, 5.5, 1.5, 14.0, 0.5666666666666667, 4.0, 2.5, 1.0, 4.0, 1.0, 2.0, 0.5666666666666667, 0.5666666666666667, 1.5, 5.0, 2.5, 2.0, 6.5, 1.0, 4.5, 48.5, 2.5, 6.0, 1.5, 2.0, 1.5, 1.5, 1.5, 1.0, 0.5, 7.5, 2.0, 1.5, 3.0, 8.0, 25.5, 0.5833333333333334, 1.5, 2.5, 6.0, 3.0, 2.0, 0.5166666666666666, 5.5, 1.5, 1.0, 1.0, 1.0, 1.0, 4.0, 4.0, 2.0, 1.5, 2.5, 1.5, 1.0, 15.0, 1.5, 6.0, 5.0, 3.0, 1.5, 5.5, 0.5666666666666667, 2.5, 22.5, 0.7166666666666667, 0.65, 1.0, 5.0, 0.5166666666666666, 2.0, 7.0, 1.0, 10.0, 5.0, 1.0, 20.5, 3.0, 8.0, 1.0, 3.0, 3.5, 3.5, 2.5, 16.0, 2.5, 3.5, 0.6166666666666667, 4.0, 1.0, 5.0, 0.7333333333333333, 3.5, 0.5666666666666667, 4.5, 3.0, 7.0, 0.6833333333333333, 2.0, 6.5, 1.5, 5.0, 5.5, 3.0, 1.0, 2.5, 22.5, 0.65, 1.5, 2.0, 1.5, 3.5, 25.5, 2.5, 7.0, 0.6, 3.0, 2.0, 2.5, 2.0, 0.5833333333333334, 1.5, 5.0, 2.0, 4.0, 9.5, 3.0, 3.5, 1.5, 1.5, 2.5, 2.0, 16.5, 3.0, 3.5, 2.5, 3.0, 1.5, 2.0, 12.5, 1.0, 8.0, 3.5, 0.7, 6.5, 1.0, 1.5, 2.0, 1.5, 2.0, 3.5, 7.5, 4.0, 6.5, 11.0, 23.5, 7.0, 1.5, 2.5, 1.5, 2.0, 2.0, 2.0, 3.5, 6.5, 2.0, 2.5, 6.5, 0.5166666666666666, 5.0, 2.0, 2.5, 6.5, 3.5, 66.5, 3.0, 1.0, 1.0, 1.0, 11.5, 8.5, 12.5, 2.0, 5.0, 10.0, 4.5, 2.0, 6.5, 0.6333333333333333, 0.6333333333333333, 1.5, 1.0, 1.0, 1.0, 1.0, 5.0, 1.0, 0.5333333333333333, 19.5, 1.0, 6.5, 2.5, 1.5, 0.55, 5.0, 6.5, 1.5, 3.0, 2.5, 0.6, 9.5, 2.0, 0.5166666666666666, 14.0, 4.5, 10.0, 1.5, 5.5, 0.6166666666666667, 1.0, 2.5, 15.5, 2.0, 1.5, 3.5, 3.5, 8.5, 1.0, 2.0, 0.6166666666666667, 0.5, 0.5833333333333334, 2.5, 1.0, 1.5, 15.5, 2.0, 3.5, 3.5, 3.0, 2.0]}], \"marker\": {\"color\": [0, 0, 3, 0, 3, 0, 1, 0, 2, 0, 0, 0, 0, 0, 0, 3, 1, 0, 0, 1, 0, 0, 0, 1, 0, 0, 0, 3, 0, 1, 1, 0, 0, 0, 0, 3, 1, 0, 0, 0, 0, 0, 1, 3, 0, 0, 0, 0, 0, 0, 2, 0, 3, 0, 0, 1, 1, 3, 3, 0, 0, 1, 0, 0, 0, 0, 1, 0, 0, 0, 0, 1, 0, 0, 1, 0, 0, 0, 1, 0, 2, 0, 1, 1, 0, 0, 0, 0, 1, 0, 3, 1, 0, 1, 0, 1, 3, 1, 0, 1, 0, 1, 0, 1, 1, 0, 0, 1, 0, 0, 0, 1, 1, 0, 0, 0, 0, 0, 1, 3, 0, 2, 0, 0, 0, 3, 3, 2, 1, 3, 1, 0, 0, 0, 0, 0, 1, 0, 0, 0, 1, 1, 0, 1, 1, 3, 1, 3, 0, 1, 1, 0, 0, 1, 0, 0, 3, 1, 0, 1, 0, 0, 1, 0, 1, 0, 0, 0, 0, 0, 1, 0, 0, 0, 0, 0, 0, 0, 1, 1, 0, 0, 3, 1, 3, 0, 0, 0, 1, 0, 0, 1, 0, 1, 3, 0, 0, 0, 0, 0, 2, 3, 0, 0, 3, 0, 3, 0, 0, 1, 2, 0, 0, 3, 0, 0, 0, 0, 0, 3, 0, 0, 0, 1, 1, 1, 3, 0, 0, 0, 1, 2, 0, 1, 0, 0, 0, 0, 3, 0, 3, 0, 0, 0, 0, 1, 1, 0, 1, 1, 3, 0, 0, 0, 3, 0, 1, 0, 0, 1, 0, 0, 1, 0, 1, 2, 0, 0, 3, 0, 1, 1, 1, 3, 3, 0, 0, 1, 3, 1, 0, 0, 0, 0, 1, 0, 0, 0, 0, 1, 0, 0, 2, 0, 0, 0, 3, 1, 0, 3, 2, 0, 1, 0, 0, 0, 0, 0, 1, 1, 1, 0, 0, 0, 1, 0, 0, 0, 0, 0, 1, 0, 0, 0, 3, 0, 0, 1, 0, 3, 0, 1, 3, 0, 0, 1, 1, 1, 0, 0, 1, 0, 0, 1, 2, 0, 0, 0, 0, 0, 0, 0, 0, 0, 1, 1, 0, 1, 0, 0, 0, 0, 0, 1, 0, 1, 0, 0, 0, 0, 0, 0, 0, 1, 1, 1, 0, 0, 0, 1, 1, 2, 0, 0, 0, 1, 0, 1, 1, 0, 0, 1, 0, 0, 1, 0, 0, 0, 1, 1, 0, 0, 0, 0, 0, 3, 1, 0, 1, 1, 1, 1, 0, 0, 3, 3, 3, 0, 0, 0, 0, 0, 1, 1, 0, 1, 0, 1, 0, 1, 0, 1, 1, 0, 0, 0, 0, 3, 1, 0, 0, 0, 3, 0, 0, 1, 0, 1, 0, 0, 0, 3, 3, 0, 1, 1, 1, 3, 3, 1, 3, 3, 0, 0, 1, 0, 3, 0, 0, 0, 0, 0, 0, 1, 0, 0, 0, 0, 3, 0, 3, 0, 0, 0, 0, 0, 0, 1, 0, 1, 0, 1, 0, 2, 1, 0, 0, 0, 0, 0, 1, 0, 0, 0, 0, 1, 0, 0, 1, 0, 1, 0, 0, 0, 3, 0, 0, 0, 0, 1, 1, 1, 0, 0, 0, 0, 0, 0, 0, 3, 0, 1, 0, 3, 3, 3, 0, 1, 1, 0, 3, 0, 0, 0, 1, 0, 0, 0, 0, 0, 1, 0, 0, 0, 0, 3, 3, 3, 0, 1, 0, 0, 0, 0, 2, 1, 1, 1, 0, 2, 0, 0, 0, 1, 3, 0, 0, 2, 0, 0, 1, 0, 1, 0, 1, 0, 0, 1, 0, 0, 0, 0, 0, 0, 0, 2, 0, 1, 1, 1, 1, 0, 0, 1, 0, 3, 0, 1, 0, 0, 1, 0, 0, 0, 1, 1, 0, 0, 0, 0, 3, 1, 0, 0, 0, 1, 0, 0, 0, 0, 0, 2, 1, 0, 1, 0, 0, 0, 0, 0, 3, 1, 0, 0, 1, 0, 0, 1, 0, 1, 0, 1, 0, 0, 0, 0, 0, 1, 0, 0, 1, 0, 1, 1, 3, 0, 0, 0, 3, 0, 0, 0, 0, 0, 1, 1, 1, 0, 1, 0, 1, 3, 0, 1, 0, 0, 0, 0, 0, 0, 3, 0, 0, 3, 0, 0, 1, 0, 0, 0, 0, 0, 0, 1, 0, 0, 0, 0, 0, 1, 0, 0, 0, 0, 3, 0, 1, 0, 0, 1, 0, 0, 0, 1, 0, 0, 0, 1, 1, 0, 0, 0, 2, 0, 1, 1, 3, 0, 1, 1, 0, 0, 1, 0, 2, 0, 0, 1, 0, 0, 3, 0, 1, 0, 0, 1, 0, 3, 0, 0, 0, 0, 0, 1, 0, 1, 0, 0, 1, 0, 0, 0, 0, 1, 0, 0, 0, 0, 0, 3, 3, 0, 1, 1, 1, 1, 1, 0, 1, 2, 0, 0, 2, 1, 0, 2, 3, 2, 0, 0, 1, 3, 0, 0, 1, 0, 3, 0, 0, 1, 0, 1, 1, 0, 0, 1, 3, 0, 1, 0, 0, 0, 1, 0, 1, 0, 1, 0, 0, 1, 3, 1, 0, 0, 0, 1, 1, 1, 0, 0, 1, 0, 0, 0, 1, 0, 1, 0, 3, 0, 3, 0, 3, 0, 0, 2, 1, 1, 0, 0, 0, 1, 1, 0, 0, 0, 1, 0, 1, 1, 0, 0, 0, 3, 0, 1, 0, 0, 0, 1, 0, 3, 0, 0, 1, 3, 1, 3, 0, 0, 0, 0, 0, 1, 0, 1, 1, 3, 0, 0, 3, 0, 3, 3, 1, 0, 0, 0, 0, 1, 1, 0, 1, 1, 3, 1, 0, 0, 0, 1, 1, 1, 1, 1, 3, 0, 3, 0, 1, 0, 0, 1, 0, 0, 1, 0, 0, 0, 3, 1, 3, 1, 0, 0, 0, 0, 0, 0, 1, 0, 0, 0, 1, 1, 0, 0, 1, 1, 0, 0, 0, 0, 0, 1, 0, 0, 0, 0, 1, 1, 0, 0, 0, 1, 0, 0, 0, 0, 1, 1, 1, 2, 3, 0, 1, 0, 1, 3, 1, 0, 1, 1, 0, 0, 0, 0, 3, 0, 3, 1, 0, 0, 1, 0, 0, 0, 0, 0, 1, 1, 3, 1, 0, 0, 3, 3, 1, 1, 3, 3, 1, 1, 1, 0, 0, 0, 3, 0, 1, 1, 1, 0, 1, 3, 0, 0, 3, 1, 1, 0, 1, 3, 1, 0, 0, 0, 0, 0, 0, 0, 1, 1, 1, 1, 0, 0, 0, 1, 1, 1, 1, 1, 2, 1, 0, 2, 1, 0, 0, 1, 1, 1, 0, 0, 3, 1, 0, 0, 3, 1, 0, 3, 0, 0, 0, 3, 0, 1, 0, 1, 1, 0, 1, 0, 1, 1, 0, 0, 0, 1, 0, 3, 1, 0, 0, 1, 0, 0, 0, 3, 1, 3, 0, 1, 0, 0, 0, 0, 1, 3, 0, 0, 1, 0, 0, 0, 0, 0, 0, 2, 0, 1, 0, 0, 0, 0, 0, 0, 0, 0, 0, 1, 3, 0, 3, 0, 0, 1, 1, 2, 1, 0, 0, 1, 0, 0, 0, 0, 1, 0, 0, 1, 0, 1, 0, 0, 1, 1, 0, 0, 0, 1, 1, 3, 3, 1, 0, 1, 0, 1, 1, 0, 1, 1, 0, 3, 1, 1, 3, 1, 0, 0, 1, 0, 3, 1, 0, 0, 0, 0, 0, 1, 0, 3, 0, 0, 3, 0, 0, 1, 1, 1, 1, 0, 0, 0, 0, 0, 1, 1, 0, 0, 1, 1, 1, 0, 1, 0, 3, 0, 1, 0, 2, 1, 1, 1, 1, 1, 1, 1, 1, 1, 1, 1, 1, 1, 0, 0, 0, 1, 1, 0, 3, 1, 3, 0, 1, 1, 1, 0, 0, 0, 1, 1, 1, 0, 1, 1, 1, 0, 0, 0, 3, 0, 1, 0, 0, 0, 0, 0, 1, 1, 0, 0, 1, 1, 0, 1, 1, 0, 0, 1, 0, 1, 0, 1, 0, 0, 1, 0, 1, 1, 1, 0, 0, 1, 3, 0, 0, 0, 0, 1, 1, 1, 0, 1, 0, 0, 3, 0, 1, 0, 0, 1, 1, 1, 1, 0, 1, 1, 0, 0, 1, 1, 1, 1, 0, 0, 1, 0, 0, 0, 3, 0, 0, 3, 1, 1, 2, 0, 1, 0, 1, 1, 3, 1, 1, 1, 1, 0, 0, 0, 0, 0, 1, 1, 0, 0, 0, 1, 1, 0, 0, 0, 0, 1, 1, 0, 0, 0, 3, 3, 1, 1, 1, 2, 1, 1, 0, 0, 0, 0, 3, 0, 0, 3, 1, 0, 1, 3, 1, 1, 1, 0, 0, 1, 1, 0, 0, 1, 0, 1, 1, 1, 1, 0, 1, 1, 1, 1, 0, 0, 0, 0, 0, 0, 0, 0, 0, 1, 0, 1, 1, 0, 0, 1, 0, 3, 0, 1, 0, 3, 0, 0, 3, 1, 0, 3, 3, 0, 0, 0, 0, 0, 1, 0, 0, 1, 1, 1, 0, 0, 0, 1, 1, 1, 0, 1, 1, 1, 1, 1, 1, 1, 1, 1, 1, 1, 1, 1, 1, 3, 1, 1, 1, 0, 0, 0, 0, 0, 1, 0, 1, 0, 3, 0, 0, 1, 1, 0, 0, 1, 0, 0, 0, 3, 0, 0, 1, 0, 0, 3, 3, 0, 1, 1, 0, 1, 0, 3, 1, 0, 1, 0, 1, 1, 0, 1, 1, 1, 0, 0, 1, 0, 0, 0, 0, 1, 3, 1, 1, 1, 1, 1, 0, 1, 1, 0, 0, 1, 3, 0, 0, 1, 0, 1, 3, 1, 3, 2, 0, 0, 1, 0, 3, 1, 1, 0, 1, 3, 3, 0, 0, 3, 0, 0, 0, 0, 0, 0, 1, 0, 0, 0, 0, 1, 0, 3, 0, 0, 0, 0, 3, 1, 1, 3, 0, 3, 1, 1, 1, 0, 1, 1, 1, 0, 1, 0, 1, 3, 1, 0, 3, 0, 0, 1, 1, 3, 1, 1, 0, 0, 0, 0, 0, 0, 0, 1, 0, 2, 1, 0, 0, 0, 0, 1, 1, 3, 0, 1, 0, 1, 0, 3, 0, 0, 0, 0, 1, 0, 0, 0, 0, 0, 1, 3, 0, 1, 1, 0, 0, 1, 1, 0, 1, 0, 1, 1, 1, 0, 1, 0, 0, 1, 0, 1, 1, 1, 1, 0, 0, 0, 0, 0, 0, 1, 0, 0, 0, 1, 1, 1, 0, 1, 0, 0, 0, 1, 0, 1, 0, 0, 1, 0, 0, 0, 0, 1, 0, 0, 0, 3, 0, 1, 3, 0, 1, 3, 3, 0, 0, 0, 0, 1, 0, 0, 0, 3, 1, 1, 0, 0, 0, 1, 0, 1, 0, 1, 0, 3, 3, 0, 0, 1, 3, 0, 1, 3, 0, 0, 0, 1, 1, 1, 0, 1, 0, 1, 0, 0, 0, 1, 0, 0, 0, 1, 3, 0, 0, 0, 1, 3, 1, 0, 0, 0, 0, 0, 1, 0, 0, 0, 0, 1, 1, 1, 0, 0, 1, 0, 3, 0, 0, 0, 1, 0, 1, 1, 1, 0, 1, 1, 1, 3, 0, 0, 0, 0, 3, 1, 0, 1, 1, 3, 0, 1, 1, 1, 0, 0, 1, 1, 0, 1, 1, 1, 1, 0, 1, 0, 0, 1, 0, 0, 1, 1, 1, 0, 1, 1, 1, 0, 0, 0, 0, 1, 1, 1, 0, 0, 1, 3, 1, 1, 0, 1, 3, 1, 0, 1, 1, 3, 0, 1, 0, 0, 3, 0, 0, 0, 1, 3, 0, 1, 0, 0, 0, 3, 1, 0, 1, 1, 1, 0, 3, 1, 0, 1, 0, 1, 0, 1, 0, 1, 0, 1, 1, 3, 1, 1, 1, 1, 0, 1, 0, 3, 0, 0, 0, 1, 1, 0, 3, 0, 0, 1, 1, 0, 1, 1, 1, 0, 3, 1, 1, 1, 1, 0, 1, 1, 0, 3, 0, 0, 0, 0, 0, 0, 1, 0, 1, 0, 0, 0, 2, 1, 1, 0, 0, 0, 3, 1, 1, 0, 1, 0, 1, 3, 0, 1, 1, 1, 1, 0, 0, 3, 1, 1, 1, 1, 1, 1, 0, 3, 0, 1, 1, 1, 0, 0, 0, 3, 0, 3, 0, 2, 0, 0, 1, 0, 1, 0, 0, 1, 3, 0, 1, 1, 0, 1, 0, 1, 0, 0, 1, 1, 1, 1, 1, 1, 3, 0, 0, 1, 1, 3, 0, 1, 1, 3, 1, 3, 0, 3, 0, 0, 1, 1, 0, 0, 0, 3, 3, 1, 3, 1, 0, 0, 0, 0, 0, 1, 1, 1, 1, 0, 3, 3, 3, 3, 1, 0, 2, 1, 1, 0, 0, 0, 3, 0, 0, 0, 3, 0, 1, 1, 0, 3, 0, 0, 1, 1, 1, 1, 1, 1, 3, 3, 0, 1, 1, 1, 1, 0, 1, 1, 0, 3, 3, 0, 0, 3, 1, 1, 0, 1, 0, 0, 3, 0, 1, 0, 0, 0, 3, 1, 3, 0, 3, 1, 1, 3, 3, 3, 3, 1, 3, 0, 1, 1, 1, 3, 0, 0, 1, 1, 1, 1, 3, 1, 0, 1, 0, 0, 0, 0, 0, 1, 0, 1, 1, 0, 1, 0, 0, 0, 0, 0, 3, 0, 1, 0, 0, 0, 0, 1, 0, 0, 3, 0, 1, 0, 1, 0, 1, 0, 3, 1, 1, 0, 1, 0, 0, 0, 0, 0, 1, 1, 3, 1, 0, 1, 1, 1, 1, 1, 0, 1, 1, 0, 1, 1, 1, 0, 1, 3, 0, 0, 0, 3, 0, 0, 0, 1, 0, 0, 1, 0, 0, 1, 0, 0, 1, 3, 0, 3, 1, 1, 0, 3, 3, 1, 1, 0, 1, 1, 1, 1, 1, 1, 0, 0, 0, 0, 1, 1, 0, 0, 1, 1, 0, 1, 0, 0, 0, 1, 3, 0, 3, 1, 0, 0, 0, 0, 0, 1, 0, 0, 0, 1, 1, 0, 1, 0, 3, 0, 1, 1, 1, 1, 0, 1, 0, 1, 1, 1, 0, 0, 0, 1, 3, 1, 3, 3, 1, 1, 1, 0, 1, 0, 0, 2, 0, 1, 3, 0, 3, 1, 3, 1, 0, 0, 3, 0, 0, 3, 3, 0, 0, 0, 3, 0, 1, 1, 3, 3, 1, 0, 0, 3, 0, 1, 1, 1, 1, 1, 3, 0, 1, 1, 0, 0, 1, 0, 1, 1, 1, 0, 1, 0, 1, 3, 1, 1, 3, 1, 3, 1, 3, 0, 1, 3, 3, 1, 1, 1, 1, 2, 1, 0, 1, 1, 1, 3, 1, 1, 3, 1, 1, 1, 3, 0, 2, 0, 0, 1, 1, 0, 3, 0, 0, 0, 0, 1, 3, 1, 1, 1, 1, 1, 0, 1, 0, 1, 0, 0, 3, 1, 0, 0, 0, 1, 0, 0, 1, 1, 0, 3, 3, 1, 1, 1, 0, 1, 0, 0, 1, 1, 3, 3, 1, 1, 1, 1, 0, 0, 1, 0, 0, 0, 0, 1, 1, 1, 0, 1, 3, 2, 1, 0, 1, 0, 0, 0, 3, 1, 0, 1, 1, 0, 1, 1, 1, 3, 1, 3, 1, 1, 1, 0, 3, 1, 1, 0, 1, 0, 0, 0, 0, 0, 0, 1, 0, 1, 0, 1, 0, 0, 0, 0, 0, 3, 1, 1, 3, 0, 0, 1, 0, 0, 1, 0, 3, 0, 1, 1, 1, 0, 0, 0, 1, 1, 3, 1, 0, 1, 0, 3, 1, 0, 0, 0, 3, 0, 0, 0, 1, 1, 3, 0, 0, 1, 3, 1, 1, 3, 3, 3, 0, 1, 0, 0, 0, 1, 3, 3, 3, 0, 0, 0, 0, 3, 0, 1, 1, 0, 0, 1, 0, 0, 0, 1, 0, 0, 3, 0, 3, 1, 0, 0, 0, 0, 0, 1, 0, 1, 3, 1, 0, 0, 0, 1, 1, 0, 0, 1, 1, 1, 0, 0, 0, 1, 0, 3, 1, 1, 0, 0, 0, 0, 0, 0, 1, 0, 0, 1, 0, 1, 0, 1, 0, 3, 0, 3, 0, 1, 0, 1, 3, 3, 0, 0, 0, 0, 0, 0, 0, 0, 0, 0, 1, 0, 0, 0, 1, 0, 0, 0, 0, 0, 0, 1, 0, 0, 0, 0, 0, 0, 3, 0, 1, 0, 0, 0, 0, 0, 1, 0, 3, 0, 0, 0, 0, 0, 3, 0, 0, 1, 1, 1, 1, 0, 0, 1, 0, 2, 1, 1, 1, 1, 0, 0, 0, 1, 0, 1, 3, 1, 1, 3, 0, 1, 0, 0, 0, 1, 1, 0, 3, 0, 0, 1, 0, 1, 0, 0, 0, 0, 3, 0, 0, 0, 0, 1, 0, 0, 0, 1, 0, 0, 0, 1, 0, 0, 0, 0, 0, 0, 1, 1, 0, 0, 0, 1, 1, 1, 1, 3, 3, 1, 1, 0, 0, 3, 0, 3, 1, 0, 0, 1, 0, 0, 1, 3, 1, 0, 1, 1, 0, 0, 0, 2, 0, 1, 1, 1, 3, 0, 0, 1, 0, 1, 0, 1, 0, 1, 0, 0, 0, 0, 1, 1, 0, 0, 0, 1, 0, 0, 0, 1, 0, 0, 1, 1, 3, 0, 0, 0, 0, 1, 0, 1, 1, 0, 1, 3, 1, 0, 1, 0, 1, 0, 0, 0, 0, 3, 0, 0, 0, 3, 0, 0, 1, 0, 0, 1, 1, 1, 0, 3, 1, 0, 1, 0, 1, 0, 1, 0, 1, 0, 1, 0, 1, 0, 0, 3, 1, 0, 3, 1, 1, 1, 0, 3, 1, 0, 1, 0, 0, 0, 3, 1, 3, 3, 0, 0, 0, 0, 1, 1, 3, 0, 0, 3, 3, 1, 1, 1, 2, 0, 0, 2, 2, 1, 0, 0, 1, 0, 1, 0, 0, 1, 1, 1, 0, 1, 0, 0, 0, 1, 1, 0, 3, 0, 0, 0, 0, 0, 1, 0, 2, 1, 3, 0, 0, 0, 1, 0, 0, 0, 1, 0, 0, 1, 1, 1, 0, 1, 1, 1, 0, 1, 1, 1, 1, 0, 3, 1, 1, 1, 0, 1, 0, 3, 1, 0, 1, 0, 1, 0, 0, 1, 0, 0, 0, 0, 0, 0, 0, 0, 0, 0, 0, 0, 1, 1, 0, 0, 0, 1, 0, 0, 1, 1, 0, 1, 0, 1, 1, 3, 0, 1, 0, 0, 0, 1, 1, 3, 0, 0, 0, 0, 0, 1, 0, 0, 1, 0, 3, 0, 1, 0, 1, 0, 2, 1, 0, 1, 0, 0, 0, 1, 0, 0, 0, 1, 3, 0, 1, 1, 0, 1, 0, 1, 0, 0, 1, 0, 1, 1, 0, 1, 1, 1, 0, 0, 3, 0, 0, 0, 0, 0, 1, 0, 1, 1, 3, 0, 0, 1, 0, 1, 0, 2, 0, 0, 0, 0, 1, 1, 1, 0, 0, 0, 1, 0, 0, 0, 1, 0, 0, 0, 1, 1, 0, 0, 1, 0, 1, 1, 0, 1, 1, 0, 1, 0, 0, 1, 1, 0, 0, 0, 0, 1, 0, 0, 0, 0, 1, 3, 0, 1, 0, 0, 0, 2, 0, 1, 0, 1, 1, 3, 0, 0, 3, 0, 1, 0, 1, 1, 0, 3, 0, 0, 0, 0, 3, 1, 0, 0, 0, 1, 0, 1, 3, 1, 0, 0, 0, 0, 0, 0, 0, 0, 0, 0, 0, 0, 0, 0, 0, 0, 3, 1, 3, 0, 0, 0, 0, 3, 0, 1, 1, 1, 0, 1, 1, 1, 0, 0, 1, 0, 1, 0, 0, 1, 3, 1, 1, 0, 0, 0, 0, 1, 3, 0, 0, 0, 3, 1, 1, 0, 0, 1, 1, 1, 0, 0, 0, 0, 0, 0, 3, 0, 1, 0, 1, 0, 3, 0, 0, 0, 3, 3, 0, 1, 0, 0, 0, 0, 1, 0, 0, 0, 3, 1, 1, 0, 3, 0, 3, 1, 0, 1, 0, 1, 0, 0, 0, 0, 0, 0, 0, 0, 1, 0, 0, 1, 0, 0, 0, 0, 3, 1, 1, 0, 0, 0, 0, 0, 1, 0, 0, 3, 0, 3, 0, 3, 0, 0, 1, 0, 0, 1, 1, 0, 0, 0, 1, 0, 0, 0, 3, 0, 1, 0, 0, 2, 0, 0, 1, 1, 0, 1, 3, 0, 0, 0, 3, 0, 1, 1, 1, 1, 0, 3, 0, 3, 0, 0, 3, 0, 1, 0, 1, 0, 0, 0, 0, 3, 1, 0, 1, 0, 1, 1, 0, 1, 0, 0, 0, 1, 0, 1, 1, 0, 0, 1, 0, 0, 3, 1, 1, 1, 3, 1, 0, 1, 3, 0, 0, 0, 1, 1, 0, 3, 0, 0, 0, 0, 0, 0, 3, 0, 1, 0, 1, 0, 0, 0, 1, 1, 0, 1, 3, 0, 3, 0, 2, 0, 0, 1, 0, 0, 1, 0, 0, 0, 1, 0, 0, 0, 2, 0, 3, 1, 1, 1, 0, 2, 1, 1, 0, 1, 0, 0, 0, 1, 0, 0, 0, 0, 0, 1, 1, 3, 1, 1, 1, 0, 0, 1, 0, 1, 1, 0, 0, 1, 0, 0, 1, 0, 0, 1, 0, 1, 0, 1, 3, 1, 1, 0, 0, 1, 0, 1, 3, 1, 0, 0, 0, 0, 0, 1, 0, 3, 3, 0, 1, 1, 0, 1, 0, 0, 1, 0, 0, 1, 3, 0, 0, 1, 0, 0, 1, 1, 0, 1, 1, 0, 0, 0, 0, 0, 0, 3, 1, 1, 0, 0, 1, 0, 3, 3, 0, 3, 0, 1, 1, 0, 0, 1, 0, 1, 0, 1, 0, 0, 0, 0, 1, 0, 3, 0, 1, 1, 1, 0, 1, 1, 0, 1, 3, 1, 1, 0, 0, 0, 0, 0, 1, 0, 1, 0, 1, 0, 1, 0, 0, 3, 0, 0, 0, 1, 1, 0, 0, 1, 0, 3, 0, 1, 1, 0, 0, 1, 1, 1, 3, 3, 1, 0, 1, 0, 0, 0, 3, 3, 1, 0, 1, 0, 0, 3, 3, 0, 1, 0, 1, 0, 1, 0, 0, 0, 0, 1, 3, 1, 1, 0, 0, 3, 1, 0, 1, 1, 0, 0, 1, 1, 0, 0, 3, 0, 3, 1, 1, 3, 0, 3, 0, 0, 1, 3, 0, 1, 1, 3, 3, 0, 3, 0, 1, 3, 0, 2, 3, 1, 0, 3, 1, 1, 0, 1, 1, 0, 0, 0, 0, 0, 0, 1, 0, 1, 0, 3, 0, 0, 0, 3, 1, 1, 1, 0, 3, 0, 0, 1, 0, 0, 0, 0, 0, 2, 0, 0, 1, 0, 0, 0, 1, 1, 0, 0, 0, 0, 0, 1, 1, 0, 0, 3, 0, 0, 1, 0, 0, 1], \"line\": {\"color\": \"white\", \"width\": 0.5}, \"showscale\": false}, \"showupperhalf\": false, \"text\": [\"All Levels\", \"All Levels\", \"Intermediate Level\", \"All Levels\", \"Intermediate Level\", \"All Levels\", \"Beginner Level\", \"All Levels\", \"Expert Level\", \"All Levels\", \"All Levels\", \"All Levels\", \"All Levels\", \"All Levels\", \"All Levels\", \"Intermediate Level\", \"Beginner Level\", \"All Levels\", \"All Levels\", \"Beginner Level\", \"All Levels\", \"All Levels\", \"All Levels\", \"Beginner Level\", \"All Levels\", \"All Levels\", \"All Levels\", \"Intermediate Level\", \"All Levels\", \"Beginner Level\", \"Beginner Level\", \"All Levels\", \"All Levels\", \"All Levels\", \"All Levels\", \"Intermediate Level\", \"Beginner Level\", \"All Levels\", \"All Levels\", \"All Levels\", \"All Levels\", \"All Levels\", \"Beginner Level\", \"Intermediate Level\", \"All Levels\", \"All Levels\", \"All Levels\", \"All Levels\", \"All Levels\", \"All Levels\", \"Expert Level\", \"All Levels\", \"Intermediate Level\", \"All Levels\", \"All Levels\", \"Beginner Level\", \"Beginner Level\", \"Intermediate Level\", \"Intermediate Level\", \"All Levels\", \"All Levels\", \"Beginner Level\", \"All Levels\", \"All Levels\", \"All Levels\", \"All Levels\", \"Beginner Level\", \"All Levels\", \"All Levels\", \"All Levels\", \"All Levels\", \"Beginner Level\", \"All Levels\", \"All Levels\", \"Beginner Level\", \"All Levels\", \"All Levels\", \"All Levels\", \"Beginner Level\", \"All Levels\", \"Expert Level\", \"All Levels\", \"Beginner Level\", \"Beginner Level\", \"All Levels\", \"All Levels\", \"All Levels\", \"All Levels\", \"Beginner Level\", \"All Levels\", \"Intermediate Level\", \"Beginner Level\", \"All Levels\", \"Beginner Level\", \"All Levels\", \"Beginner Level\", \"Intermediate Level\", \"Beginner Level\", \"All Levels\", \"Beginner Level\", \"All Levels\", \"Beginner Level\", \"All Levels\", \"Beginner Level\", \"Beginner Level\", \"All Levels\", \"All Levels\", \"Beginner Level\", \"All Levels\", \"All Levels\", \"All Levels\", \"Beginner Level\", \"Beginner Level\", \"All Levels\", \"All Levels\", \"All Levels\", \"All Levels\", \"All Levels\", \"Beginner Level\", \"Intermediate Level\", \"All Levels\", \"Expert Level\", \"All Levels\", \"All Levels\", \"All Levels\", \"Intermediate Level\", \"Intermediate Level\", \"Expert Level\", \"Beginner Level\", \"Intermediate Level\", \"Beginner Level\", \"All Levels\", \"All Levels\", \"All Levels\", \"All Levels\", \"All Levels\", \"Beginner Level\", \"All Levels\", \"All Levels\", \"All Levels\", \"Beginner Level\", \"Beginner Level\", \"All Levels\", \"Beginner Level\", \"Beginner Level\", \"Intermediate Level\", \"Beginner Level\", \"Intermediate Level\", \"All Levels\", \"Beginner Level\", \"Beginner Level\", \"All Levels\", \"All Levels\", \"Beginner Level\", \"All Levels\", \"All Levels\", \"Intermediate Level\", \"Beginner Level\", \"All Levels\", \"Beginner Level\", \"All Levels\", \"All Levels\", \"Beginner Level\", \"All Levels\", \"Beginner Level\", \"All Levels\", \"All Levels\", \"All Levels\", \"All Levels\", \"All Levels\", \"Beginner Level\", \"All Levels\", \"All Levels\", \"All Levels\", \"All Levels\", \"All Levels\", \"All Levels\", \"All Levels\", \"Beginner Level\", \"Beginner Level\", \"All Levels\", \"All Levels\", \"Intermediate Level\", \"Beginner Level\", \"Intermediate Level\", \"All Levels\", \"All Levels\", \"All Levels\", \"Beginner Level\", \"All Levels\", \"All Levels\", \"Beginner Level\", \"All Levels\", \"Beginner Level\", \"Intermediate Level\", \"All Levels\", \"All Levels\", \"All Levels\", \"All Levels\", \"All Levels\", \"Expert Level\", \"Intermediate Level\", \"All Levels\", \"All Levels\", \"Intermediate Level\", \"All Levels\", \"Intermediate Level\", \"All Levels\", \"All Levels\", \"Beginner Level\", \"Expert Level\", \"All Levels\", \"All Levels\", \"Intermediate Level\", \"All Levels\", \"All Levels\", \"All Levels\", \"All Levels\", \"All Levels\", \"Intermediate Level\", \"All Levels\", \"All Levels\", \"All Levels\", \"Beginner Level\", \"Beginner Level\", \"Beginner Level\", \"Intermediate Level\", \"All Levels\", \"All Levels\", \"All Levels\", \"Beginner Level\", \"Expert Level\", \"All Levels\", \"Beginner Level\", \"All Levels\", \"All Levels\", \"All Levels\", \"All Levels\", \"Intermediate Level\", \"All Levels\", \"Intermediate Level\", \"All Levels\", \"All Levels\", \"All Levels\", \"All Levels\", \"Beginner Level\", \"Beginner Level\", \"All Levels\", \"Beginner Level\", \"Beginner Level\", \"Intermediate Level\", \"All Levels\", \"All Levels\", \"All Levels\", \"Intermediate Level\", \"All Levels\", \"Beginner Level\", \"All Levels\", \"All Levels\", \"Beginner Level\", \"All Levels\", \"All Levels\", \"Beginner Level\", \"All Levels\", \"Beginner Level\", \"Expert Level\", \"All Levels\", \"All Levels\", \"Intermediate Level\", \"All Levels\", \"Beginner Level\", \"Beginner Level\", \"Beginner Level\", \"Intermediate Level\", \"Intermediate Level\", \"All Levels\", \"All Levels\", \"Beginner Level\", \"Intermediate Level\", \"Beginner Level\", \"All Levels\", \"All Levels\", \"All Levels\", \"All Levels\", \"Beginner Level\", \"All Levels\", \"All Levels\", \"All Levels\", \"All Levels\", \"Beginner Level\", \"All Levels\", \"All Levels\", \"Expert Level\", \"All Levels\", \"All Levels\", \"All Levels\", \"Intermediate Level\", \"Beginner Level\", \"All Levels\", \"Intermediate Level\", \"Expert Level\", \"All Levels\", \"Beginner Level\", \"All Levels\", \"All Levels\", \"All Levels\", \"All Levels\", \"All Levels\", \"Beginner Level\", \"Beginner Level\", \"Beginner Level\", \"All Levels\", \"All Levels\", \"All Levels\", \"Beginner Level\", \"All Levels\", \"All Levels\", \"All Levels\", \"All Levels\", \"All Levels\", \"Beginner Level\", \"All Levels\", \"All Levels\", \"All Levels\", \"Intermediate Level\", \"All Levels\", \"All Levels\", \"Beginner Level\", \"All Levels\", \"Intermediate Level\", \"All Levels\", \"Beginner Level\", \"Intermediate Level\", \"All Levels\", \"All Levels\", \"Beginner Level\", \"Beginner Level\", \"Beginner Level\", \"All Levels\", \"All Levels\", \"Beginner Level\", \"All Levels\", \"All Levels\", \"Beginner Level\", \"Expert Level\", \"All Levels\", \"All Levels\", \"All Levels\", \"All Levels\", \"All Levels\", \"All Levels\", \"All Levels\", \"All Levels\", \"All Levels\", \"Beginner Level\", \"Beginner Level\", \"All Levels\", \"Beginner Level\", \"All Levels\", \"All Levels\", \"All Levels\", \"All Levels\", \"All Levels\", \"Beginner Level\", \"All Levels\", \"Beginner Level\", \"All Levels\", \"All Levels\", \"All Levels\", \"All Levels\", \"All Levels\", \"All Levels\", \"All Levels\", \"Beginner Level\", \"Beginner Level\", \"Beginner Level\", \"All Levels\", \"All Levels\", \"All Levels\", \"Beginner Level\", \"Beginner Level\", \"Expert Level\", \"All Levels\", \"All Levels\", \"All Levels\", \"Beginner Level\", \"All Levels\", \"Beginner Level\", \"Beginner Level\", \"All Levels\", \"All Levels\", \"Beginner Level\", \"All Levels\", \"All Levels\", \"Beginner Level\", \"All Levels\", \"All Levels\", \"All Levels\", \"Beginner Level\", \"Beginner Level\", \"All Levels\", \"All Levels\", \"All Levels\", \"All Levels\", \"All Levels\", \"Intermediate Level\", \"Beginner Level\", \"All Levels\", \"Beginner Level\", \"Beginner Level\", \"Beginner Level\", \"Beginner Level\", \"All Levels\", \"All Levels\", \"Intermediate Level\", \"Intermediate Level\", \"Intermediate Level\", \"All Levels\", \"All Levels\", \"All Levels\", \"All Levels\", \"All Levels\", \"Beginner Level\", \"Beginner Level\", \"All Levels\", \"Beginner Level\", \"All Levels\", \"Beginner Level\", \"All Levels\", \"Beginner Level\", \"All Levels\", \"Beginner Level\", \"Beginner Level\", \"All Levels\", \"All Levels\", \"All Levels\", \"All Levels\", \"Intermediate Level\", \"Beginner Level\", \"All Levels\", \"All Levels\", \"All Levels\", \"Intermediate Level\", \"All Levels\", \"All Levels\", \"Beginner Level\", \"All Levels\", \"Beginner Level\", \"All Levels\", \"All Levels\", \"All Levels\", \"Intermediate Level\", \"Intermediate Level\", \"All Levels\", \"Beginner Level\", \"Beginner Level\", \"Beginner Level\", \"Intermediate Level\", \"Intermediate Level\", \"Beginner Level\", \"Intermediate Level\", \"Intermediate Level\", \"All Levels\", \"All Levels\", \"Beginner Level\", \"All Levels\", \"Intermediate Level\", \"All Levels\", \"All Levels\", \"All Levels\", \"All Levels\", \"All Levels\", \"All Levels\", \"Beginner Level\", \"All Levels\", \"All Levels\", \"All Levels\", \"All Levels\", \"Intermediate Level\", \"All Levels\", \"Intermediate Level\", \"All Levels\", \"All Levels\", \"All Levels\", \"All Levels\", \"All Levels\", \"All Levels\", \"Beginner Level\", \"All Levels\", \"Beginner Level\", \"All Levels\", \"Beginner Level\", \"All Levels\", \"Expert Level\", \"Beginner Level\", \"All Levels\", \"All Levels\", \"All Levels\", \"All Levels\", \"All Levels\", \"Beginner Level\", \"All Levels\", \"All Levels\", \"All Levels\", \"All Levels\", \"Beginner Level\", \"All Levels\", \"All Levels\", \"Beginner Level\", \"All Levels\", \"Beginner Level\", \"All Levels\", \"All Levels\", \"All Levels\", \"Intermediate Level\", \"All Levels\", \"All Levels\", \"All Levels\", \"All Levels\", \"Beginner Level\", \"Beginner Level\", \"Beginner Level\", \"All Levels\", \"All Levels\", \"All Levels\", \"All Levels\", \"All Levels\", \"All Levels\", \"All Levels\", \"Intermediate Level\", \"All Levels\", \"Beginner Level\", \"All Levels\", \"Intermediate Level\", \"Intermediate Level\", \"Intermediate Level\", \"All Levels\", \"Beginner Level\", \"Beginner Level\", \"All Levels\", \"Intermediate Level\", \"All Levels\", \"All Levels\", \"All Levels\", \"Beginner Level\", \"All Levels\", \"All Levels\", \"All Levels\", \"All Levels\", \"All Levels\", \"Beginner Level\", \"All Levels\", \"All Levels\", \"All Levels\", \"All Levels\", \"Intermediate Level\", \"Intermediate Level\", \"Intermediate Level\", \"All Levels\", \"Beginner Level\", \"All Levels\", \"All Levels\", \"All Levels\", \"All Levels\", \"Expert Level\", \"Beginner Level\", \"Beginner Level\", \"Beginner Level\", \"All Levels\", \"Expert Level\", \"All Levels\", \"All Levels\", \"All Levels\", \"Beginner Level\", \"Intermediate Level\", \"All Levels\", \"All Levels\", \"Expert Level\", \"All Levels\", \"All Levels\", \"Beginner Level\", \"All Levels\", \"Beginner Level\", \"All Levels\", \"Beginner Level\", \"All Levels\", \"All Levels\", \"Beginner Level\", \"All Levels\", \"All Levels\", \"All Levels\", \"All Levels\", \"All Levels\", \"All Levels\", \"All Levels\", \"Expert Level\", \"All Levels\", \"Beginner Level\", \"Beginner Level\", \"Beginner Level\", \"Beginner Level\", \"All Levels\", \"All Levels\", \"Beginner Level\", \"All Levels\", \"Intermediate Level\", \"All Levels\", \"Beginner Level\", \"All Levels\", \"All Levels\", \"Beginner Level\", \"All Levels\", \"All Levels\", \"All Levels\", \"Beginner Level\", \"Beginner Level\", \"All Levels\", \"All Levels\", \"All Levels\", \"All Levels\", \"Intermediate Level\", \"Beginner Level\", \"All Levels\", \"All Levels\", \"All Levels\", \"Beginner Level\", \"All Levels\", \"All Levels\", \"All Levels\", \"All Levels\", \"All Levels\", \"Expert Level\", \"Beginner Level\", \"All Levels\", \"Beginner Level\", \"All Levels\", \"All Levels\", \"All Levels\", \"All Levels\", \"All Levels\", \"Intermediate Level\", \"Beginner Level\", \"All Levels\", \"All Levels\", \"Beginner Level\", \"All Levels\", \"All Levels\", \"Beginner Level\", \"All Levels\", \"Beginner Level\", \"All Levels\", \"Beginner Level\", \"All Levels\", \"All Levels\", \"All Levels\", \"All Levels\", \"All Levels\", \"Beginner Level\", \"All Levels\", \"All Levels\", \"Beginner Level\", \"All Levels\", \"Beginner Level\", \"Beginner Level\", \"Intermediate Level\", \"All Levels\", \"All Levels\", \"All Levels\", \"Intermediate Level\", \"All Levels\", \"All Levels\", \"All Levels\", \"All Levels\", \"All Levels\", \"Beginner Level\", \"Beginner Level\", \"Beginner Level\", \"All Levels\", \"Beginner Level\", \"All Levels\", \"Beginner Level\", \"Intermediate Level\", \"All Levels\", \"Beginner Level\", \"All Levels\", \"All Levels\", \"All Levels\", \"All Levels\", \"All Levels\", \"All Levels\", \"Intermediate Level\", \"All Levels\", \"All Levels\", \"Intermediate Level\", \"All Levels\", \"All Levels\", \"Beginner Level\", \"All Levels\", \"All Levels\", \"All Levels\", \"All Levels\", \"All Levels\", \"All Levels\", \"Beginner Level\", \"All Levels\", \"All Levels\", \"All Levels\", \"All Levels\", \"All Levels\", \"Beginner Level\", \"All Levels\", \"All Levels\", \"All Levels\", \"All Levels\", \"Intermediate Level\", \"All Levels\", \"Beginner Level\", \"All Levels\", \"All Levels\", \"Beginner Level\", \"All Levels\", \"All Levels\", \"All Levels\", \"Beginner Level\", \"All Levels\", \"All Levels\", \"All Levels\", \"Beginner Level\", \"Beginner Level\", \"All Levels\", \"All Levels\", \"All Levels\", \"Expert Level\", \"All Levels\", \"Beginner Level\", \"Beginner Level\", \"Intermediate Level\", \"All Levels\", \"Beginner Level\", \"Beginner Level\", \"All Levels\", \"All Levels\", \"Beginner Level\", \"All Levels\", \"Expert Level\", \"All Levels\", \"All Levels\", \"Beginner Level\", \"All Levels\", \"All Levels\", \"Intermediate Level\", \"All Levels\", \"Beginner Level\", \"All Levels\", \"All Levels\", \"Beginner Level\", \"All Levels\", \"Intermediate Level\", \"All Levels\", \"All Levels\", \"All Levels\", \"All Levels\", \"All Levels\", \"Beginner Level\", \"All Levels\", \"Beginner Level\", \"All Levels\", \"All Levels\", \"Beginner Level\", \"All Levels\", \"All Levels\", \"All Levels\", \"All Levels\", \"Beginner Level\", \"All Levels\", \"All Levels\", \"All Levels\", \"All Levels\", \"All Levels\", \"Intermediate Level\", \"Intermediate Level\", \"All Levels\", \"Beginner Level\", \"Beginner Level\", \"Beginner Level\", \"Beginner Level\", \"Beginner Level\", \"All Levels\", \"Beginner Level\", \"Expert Level\", \"All Levels\", \"All Levels\", \"Expert Level\", \"Beginner Level\", \"All Levels\", \"Expert Level\", \"Intermediate Level\", \"Expert Level\", \"All Levels\", \"All Levels\", \"Beginner Level\", \"Intermediate Level\", \"All Levels\", \"All Levels\", \"Beginner Level\", \"All Levels\", \"Intermediate Level\", \"All Levels\", \"All Levels\", \"Beginner Level\", \"All Levels\", \"Beginner Level\", \"Beginner Level\", \"All Levels\", \"All Levels\", \"Beginner Level\", \"Intermediate Level\", \"All Levels\", \"Beginner Level\", \"All Levels\", \"All Levels\", \"All Levels\", \"Beginner Level\", \"All Levels\", \"Beginner Level\", \"All Levels\", \"Beginner Level\", \"All Levels\", \"All Levels\", \"Beginner Level\", \"Intermediate Level\", \"Beginner Level\", \"All Levels\", \"All Levels\", \"All Levels\", \"Beginner Level\", \"Beginner Level\", \"Beginner Level\", \"All Levels\", \"All Levels\", \"Beginner Level\", \"All Levels\", \"All Levels\", \"All Levels\", \"Beginner Level\", \"All Levels\", \"Beginner Level\", \"All Levels\", \"Intermediate Level\", \"All Levels\", \"Intermediate Level\", \"All Levels\", \"Intermediate Level\", \"All Levels\", \"All Levels\", \"Expert Level\", \"Beginner Level\", \"Beginner Level\", \"All Levels\", \"All Levels\", \"All Levels\", \"Beginner Level\", \"Beginner Level\", \"All Levels\", \"All Levels\", \"All Levels\", \"Beginner Level\", \"All Levels\", \"Beginner Level\", \"Beginner Level\", \"All Levels\", \"All Levels\", \"All Levels\", \"Intermediate Level\", \"All Levels\", \"Beginner Level\", \"All Levels\", \"All Levels\", \"All Levels\", \"Beginner Level\", \"All Levels\", \"Intermediate Level\", \"All Levels\", \"All Levels\", \"Beginner Level\", \"Intermediate Level\", \"Beginner Level\", \"Intermediate Level\", \"All Levels\", \"All Levels\", \"All Levels\", \"All Levels\", \"All Levels\", \"Beginner Level\", \"All Levels\", \"Beginner Level\", \"Beginner Level\", \"Intermediate Level\", \"All Levels\", \"All Levels\", \"Intermediate Level\", \"All Levels\", \"Intermediate Level\", \"Intermediate Level\", \"Beginner Level\", \"All Levels\", \"All Levels\", \"All Levels\", \"All Levels\", \"Beginner Level\", \"Beginner Level\", \"All Levels\", \"Beginner Level\", \"Beginner Level\", \"Intermediate Level\", \"Beginner Level\", \"All Levels\", \"All Levels\", \"All Levels\", \"Beginner Level\", \"Beginner Level\", \"Beginner Level\", \"Beginner Level\", \"Beginner Level\", \"Intermediate Level\", \"All Levels\", \"Intermediate Level\", \"All Levels\", \"Beginner Level\", \"All Levels\", \"All Levels\", \"Beginner Level\", \"All Levels\", \"All Levels\", \"Beginner Level\", \"All Levels\", \"All Levels\", \"All Levels\", \"Intermediate Level\", \"Beginner Level\", \"Intermediate Level\", \"Beginner Level\", \"All Levels\", \"All Levels\", \"All Levels\", \"All Levels\", \"All Levels\", \"All Levels\", \"Beginner Level\", \"All Levels\", \"All Levels\", \"All Levels\", \"Beginner Level\", \"Beginner Level\", \"All Levels\", \"All Levels\", \"Beginner Level\", \"Beginner Level\", \"All Levels\", \"All Levels\", \"All Levels\", \"All Levels\", \"All Levels\", \"Beginner Level\", \"All Levels\", \"All Levels\", \"All Levels\", \"All Levels\", \"Beginner Level\", \"Beginner Level\", \"All Levels\", \"All Levels\", \"All Levels\", \"Beginner Level\", \"All Levels\", \"All Levels\", \"All Levels\", \"All Levels\", \"Beginner Level\", \"Beginner Level\", \"Beginner Level\", \"Expert Level\", \"Intermediate Level\", \"All Levels\", \"Beginner Level\", \"All Levels\", \"Beginner Level\", \"Intermediate Level\", \"Beginner Level\", \"All Levels\", \"Beginner Level\", \"Beginner Level\", \"All Levels\", \"All Levels\", \"All Levels\", \"All Levels\", \"Intermediate Level\", \"All Levels\", \"Intermediate Level\", \"Beginner Level\", \"All Levels\", \"All Levels\", \"Beginner Level\", \"All Levels\", \"All Levels\", \"All Levels\", \"All Levels\", \"All Levels\", \"Beginner Level\", \"Beginner Level\", \"Intermediate Level\", \"Beginner Level\", \"All Levels\", \"All Levels\", \"Intermediate Level\", \"Intermediate Level\", \"Beginner Level\", \"Beginner Level\", \"Intermediate Level\", \"Intermediate Level\", \"Beginner Level\", \"Beginner Level\", \"Beginner Level\", \"All Levels\", \"All Levels\", \"All Levels\", \"Intermediate Level\", \"All Levels\", \"Beginner Level\", \"Beginner Level\", \"Beginner Level\", \"All Levels\", \"Beginner Level\", \"Intermediate Level\", \"All Levels\", \"All Levels\", \"Intermediate Level\", \"Beginner Level\", \"Beginner Level\", \"All Levels\", \"Beginner Level\", \"Intermediate Level\", \"Beginner Level\", \"All Levels\", \"All Levels\", \"All Levels\", \"All Levels\", \"All Levels\", \"All Levels\", \"All Levels\", \"Beginner Level\", \"Beginner Level\", \"Beginner Level\", \"Beginner Level\", \"All Levels\", \"All Levels\", \"All Levels\", \"Beginner Level\", \"Beginner Level\", \"Beginner Level\", \"Beginner Level\", \"Beginner Level\", \"Expert Level\", \"Beginner Level\", \"All Levels\", \"Expert Level\", \"Beginner Level\", \"All Levels\", \"All Levels\", \"Beginner Level\", \"Beginner Level\", \"Beginner Level\", \"All Levels\", \"All Levels\", \"Intermediate Level\", \"Beginner Level\", \"All Levels\", \"All Levels\", \"Intermediate Level\", \"Beginner Level\", \"All Levels\", \"Intermediate Level\", \"All Levels\", \"All Levels\", \"All Levels\", \"Intermediate Level\", \"All Levels\", \"Beginner Level\", \"All Levels\", \"Beginner Level\", \"Beginner Level\", \"All Levels\", \"Beginner Level\", \"All Levels\", \"Beginner Level\", \"Beginner Level\", \"All Levels\", \"All Levels\", \"All Levels\", \"Beginner Level\", \"All Levels\", \"Intermediate Level\", \"Beginner Level\", \"All Levels\", \"All Levels\", \"Beginner Level\", \"All Levels\", \"All Levels\", \"All Levels\", \"Intermediate Level\", \"Beginner Level\", \"Intermediate Level\", \"All Levels\", \"Beginner Level\", \"All Levels\", \"All Levels\", \"All Levels\", \"All Levels\", \"Beginner Level\", \"Intermediate Level\", \"All Levels\", \"All Levels\", \"Beginner Level\", \"All Levels\", \"All Levels\", \"All Levels\", \"All Levels\", \"All Levels\", \"All Levels\", \"Expert Level\", \"All Levels\", \"Beginner Level\", \"All Levels\", \"All Levels\", \"All Levels\", \"All Levels\", \"All Levels\", \"All Levels\", \"All Levels\", \"All Levels\", \"All Levels\", \"Beginner Level\", \"Intermediate Level\", \"All Levels\", \"Intermediate Level\", \"All Levels\", \"All Levels\", \"Beginner Level\", \"Beginner Level\", \"Expert Level\", \"Beginner Level\", \"All Levels\", \"All Levels\", \"Beginner Level\", \"All Levels\", \"All Levels\", \"All Levels\", \"All Levels\", \"Beginner Level\", \"All Levels\", \"All Levels\", \"Beginner Level\", \"All Levels\", \"Beginner Level\", \"All Levels\", \"All Levels\", \"Beginner Level\", \"Beginner Level\", \"All Levels\", \"All Levels\", \"All Levels\", \"Beginner Level\", \"Beginner Level\", \"Intermediate Level\", \"Intermediate Level\", \"Beginner Level\", \"All Levels\", \"Beginner Level\", \"All Levels\", \"Beginner Level\", \"Beginner Level\", \"All Levels\", \"Beginner Level\", \"Beginner Level\", \"All Levels\", \"Intermediate Level\", \"Beginner Level\", \"Beginner Level\", \"Intermediate Level\", \"Beginner Level\", \"All Levels\", \"All Levels\", \"Beginner Level\", \"All Levels\", \"Intermediate Level\", \"Beginner Level\", \"All Levels\", \"All Levels\", \"All Levels\", \"All Levels\", \"All Levels\", \"Beginner Level\", \"All Levels\", \"Intermediate Level\", \"All Levels\", \"All Levels\", \"Intermediate Level\", \"All Levels\", \"All Levels\", \"Beginner Level\", \"Beginner Level\", \"Beginner Level\", \"Beginner Level\", \"All Levels\", \"All Levels\", \"All Levels\", \"All Levels\", \"All Levels\", \"Beginner Level\", \"Beginner Level\", \"All Levels\", \"All Levels\", \"Beginner Level\", \"Beginner Level\", \"Beginner Level\", \"All Levels\", \"Beginner Level\", \"All Levels\", \"Intermediate Level\", \"All Levels\", \"Beginner Level\", \"All Levels\", \"Expert Level\", \"Beginner Level\", \"Beginner Level\", \"Beginner Level\", \"Beginner Level\", \"Beginner Level\", \"Beginner Level\", \"Beginner Level\", \"Beginner Level\", \"Beginner Level\", \"Beginner Level\", \"Beginner Level\", \"Beginner Level\", \"Beginner Level\", \"All Levels\", \"All Levels\", \"All Levels\", \"Beginner Level\", \"Beginner Level\", \"All Levels\", \"Intermediate Level\", \"Beginner Level\", \"Intermediate Level\", \"All Levels\", \"Beginner Level\", \"Beginner Level\", \"Beginner Level\", \"All Levels\", \"All Levels\", \"All Levels\", \"Beginner Level\", \"Beginner Level\", \"Beginner Level\", \"All Levels\", \"Beginner Level\", \"Beginner Level\", \"Beginner Level\", \"All Levels\", \"All Levels\", \"All Levels\", \"Intermediate Level\", \"All Levels\", \"Beginner Level\", \"All Levels\", \"All Levels\", \"All Levels\", \"All Levels\", \"All Levels\", \"Beginner Level\", \"Beginner Level\", \"All Levels\", \"All Levels\", \"Beginner Level\", \"Beginner Level\", \"All Levels\", \"Beginner Level\", \"Beginner Level\", \"All Levels\", \"All Levels\", \"Beginner Level\", \"All Levels\", \"Beginner Level\", \"All Levels\", \"Beginner Level\", \"All Levels\", \"All Levels\", \"Beginner Level\", \"All Levels\", \"Beginner Level\", \"Beginner Level\", \"Beginner Level\", \"All Levels\", \"All Levels\", \"Beginner Level\", \"Intermediate Level\", \"All Levels\", \"All Levels\", \"All Levels\", \"All Levels\", \"Beginner Level\", \"Beginner Level\", \"Beginner Level\", \"All Levels\", \"Beginner Level\", \"All Levels\", \"All Levels\", \"Intermediate Level\", \"All Levels\", \"Beginner Level\", \"All Levels\", \"All Levels\", \"Beginner Level\", \"Beginner Level\", \"Beginner Level\", \"Beginner Level\", \"All Levels\", \"Beginner Level\", \"Beginner Level\", \"All Levels\", \"All Levels\", \"Beginner Level\", \"Beginner Level\", \"Beginner Level\", \"Beginner Level\", \"All Levels\", \"All Levels\", \"Beginner Level\", \"All Levels\", \"All Levels\", \"All Levels\", \"Intermediate Level\", \"All Levels\", \"All Levels\", \"Intermediate Level\", \"Beginner Level\", \"Beginner Level\", \"Expert Level\", \"All Levels\", \"Beginner Level\", \"All Levels\", \"Beginner Level\", \"Beginner Level\", \"Intermediate Level\", \"Beginner Level\", \"Beginner Level\", \"Beginner Level\", \"Beginner Level\", \"All Levels\", \"All Levels\", \"All Levels\", \"All Levels\", \"All Levels\", \"Beginner Level\", \"Beginner Level\", \"All Levels\", \"All Levels\", \"All Levels\", \"Beginner Level\", \"Beginner Level\", \"All Levels\", \"All Levels\", \"All Levels\", \"All Levels\", \"Beginner Level\", \"Beginner Level\", \"All Levels\", \"All Levels\", \"All Levels\", \"Intermediate Level\", \"Intermediate Level\", \"Beginner Level\", \"Beginner Level\", \"Beginner Level\", \"Expert Level\", \"Beginner Level\", \"Beginner Level\", \"All Levels\", \"All Levels\", \"All Levels\", \"All Levels\", \"Intermediate Level\", \"All Levels\", \"All Levels\", \"Intermediate Level\", \"Beginner Level\", \"All Levels\", \"Beginner Level\", \"Intermediate Level\", \"Beginner Level\", \"Beginner Level\", \"Beginner Level\", \"All Levels\", \"All Levels\", \"Beginner Level\", \"Beginner Level\", \"All Levels\", \"All Levels\", \"Beginner Level\", \"All Levels\", \"Beginner Level\", \"Beginner Level\", \"Beginner Level\", \"Beginner Level\", \"All Levels\", \"Beginner Level\", \"Beginner Level\", \"Beginner Level\", \"Beginner Level\", \"All Levels\", \"All Levels\", \"All Levels\", \"All Levels\", \"All Levels\", \"All Levels\", \"All Levels\", \"All Levels\", \"All Levels\", \"Beginner Level\", \"All Levels\", \"Beginner Level\", \"Beginner Level\", \"All Levels\", \"All Levels\", \"Beginner Level\", \"All Levels\", \"Intermediate Level\", \"All Levels\", \"Beginner Level\", \"All Levels\", \"Intermediate Level\", \"All Levels\", \"All Levels\", \"Intermediate Level\", \"Beginner Level\", \"All Levels\", \"Intermediate Level\", \"Intermediate Level\", \"All Levels\", \"All Levels\", \"All Levels\", \"All Levels\", \"All Levels\", \"Beginner Level\", \"All Levels\", \"All Levels\", \"Beginner Level\", \"Beginner Level\", \"Beginner Level\", \"All Levels\", \"All Levels\", \"All Levels\", \"Beginner Level\", \"Beginner Level\", \"Beginner Level\", \"All Levels\", \"Beginner Level\", \"Beginner Level\", \"Beginner Level\", \"Beginner Level\", \"Beginner Level\", \"Beginner Level\", \"Beginner Level\", \"Beginner Level\", \"Beginner Level\", \"Beginner Level\", \"Beginner Level\", \"Beginner Level\", \"Beginner Level\", \"Beginner Level\", \"Intermediate Level\", \"Beginner Level\", \"Beginner Level\", \"Beginner Level\", \"All Levels\", \"All Levels\", \"All Levels\", \"All Levels\", \"All Levels\", \"Beginner Level\", \"All Levels\", \"Beginner Level\", \"All Levels\", \"Intermediate Level\", \"All Levels\", \"All Levels\", \"Beginner Level\", \"Beginner Level\", \"All Levels\", \"All Levels\", \"Beginner Level\", \"All Levels\", \"All Levels\", \"All Levels\", \"Intermediate Level\", \"All Levels\", \"All Levels\", \"Beginner Level\", \"All Levels\", \"All Levels\", \"Intermediate Level\", \"Intermediate Level\", \"All Levels\", \"Beginner Level\", \"Beginner Level\", \"All Levels\", \"Beginner Level\", \"All Levels\", \"Intermediate Level\", \"Beginner Level\", \"All Levels\", \"Beginner Level\", \"All Levels\", \"Beginner Level\", \"Beginner Level\", \"All Levels\", \"Beginner Level\", \"Beginner Level\", \"Beginner Level\", \"All Levels\", \"All Levels\", \"Beginner Level\", \"All Levels\", \"All Levels\", \"All Levels\", \"All Levels\", \"Beginner Level\", \"Intermediate Level\", \"Beginner Level\", \"Beginner Level\", \"Beginner Level\", \"Beginner Level\", \"Beginner Level\", \"All Levels\", \"Beginner Level\", \"Beginner Level\", \"All Levels\", \"All Levels\", \"Beginner Level\", \"Intermediate Level\", \"All Levels\", \"All Levels\", \"Beginner Level\", \"All Levels\", \"Beginner Level\", \"Intermediate Level\", \"Beginner Level\", \"Intermediate Level\", \"Expert Level\", \"All Levels\", \"All Levels\", \"Beginner Level\", \"All Levels\", \"Intermediate Level\", \"Beginner Level\", \"Beginner Level\", \"All Levels\", \"Beginner Level\", \"Intermediate Level\", \"Intermediate Level\", \"All Levels\", \"All Levels\", \"Intermediate Level\", \"All Levels\", \"All Levels\", \"All Levels\", \"All Levels\", \"All Levels\", \"All Levels\", \"Beginner Level\", \"All Levels\", \"All Levels\", \"All Levels\", \"All Levels\", \"Beginner Level\", \"All Levels\", \"Intermediate Level\", \"All Levels\", \"All Levels\", \"All Levels\", \"All Levels\", \"Intermediate Level\", \"Beginner Level\", \"Beginner Level\", \"Intermediate Level\", \"All Levels\", \"Intermediate Level\", \"Beginner Level\", \"Beginner Level\", \"Beginner Level\", \"All Levels\", \"Beginner Level\", \"Beginner Level\", \"Beginner Level\", \"All Levels\", \"Beginner Level\", \"All Levels\", \"Beginner Level\", \"Intermediate Level\", \"Beginner Level\", \"All Levels\", \"Intermediate Level\", \"All Levels\", \"All Levels\", \"Beginner Level\", \"Beginner Level\", \"Intermediate Level\", \"Beginner Level\", \"Beginner Level\", \"All Levels\", \"All Levels\", \"All Levels\", \"All Levels\", \"All Levels\", \"All Levels\", \"All Levels\", \"Beginner Level\", \"All Levels\", \"Expert Level\", \"Beginner Level\", \"All Levels\", \"All Levels\", \"All Levels\", \"All Levels\", \"Beginner Level\", \"Beginner Level\", \"Intermediate Level\", \"All Levels\", \"Beginner Level\", \"All Levels\", \"Beginner Level\", \"All Levels\", \"Intermediate Level\", \"All Levels\", \"All Levels\", \"All Levels\", \"All Levels\", \"Beginner Level\", \"All Levels\", \"All Levels\", \"All Levels\", \"All Levels\", \"All Levels\", \"Beginner Level\", \"Intermediate Level\", \"All Levels\", \"Beginner Level\", \"Beginner Level\", \"All Levels\", \"All Levels\", \"Beginner Level\", \"Beginner Level\", \"All Levels\", \"Beginner Level\", \"All Levels\", \"Beginner Level\", \"Beginner Level\", \"Beginner Level\", \"All Levels\", \"Beginner Level\", \"All Levels\", \"All Levels\", \"Beginner Level\", \"All Levels\", \"Beginner Level\", \"Beginner Level\", \"Beginner Level\", \"Beginner Level\", \"All Levels\", \"All Levels\", \"All Levels\", \"All Levels\", \"All Levels\", \"All Levels\", \"Beginner Level\", \"All Levels\", \"All Levels\", \"All Levels\", \"Beginner Level\", \"Beginner Level\", \"Beginner Level\", \"All Levels\", \"Beginner Level\", \"All Levels\", \"All Levels\", \"All Levels\", \"Beginner Level\", \"All Levels\", \"Beginner Level\", \"All Levels\", \"All Levels\", \"Beginner Level\", \"All Levels\", \"All Levels\", \"All Levels\", \"All Levels\", \"Beginner Level\", \"All Levels\", \"All Levels\", \"All Levels\", \"Intermediate Level\", \"All Levels\", \"Beginner Level\", \"Intermediate Level\", \"All Levels\", \"Beginner Level\", \"Intermediate Level\", \"Intermediate Level\", \"All Levels\", \"All Levels\", \"All Levels\", \"All Levels\", \"Beginner Level\", \"All Levels\", \"All Levels\", \"All Levels\", \"Intermediate Level\", \"Beginner Level\", \"Beginner Level\", \"All Levels\", \"All Levels\", \"All Levels\", \"Beginner Level\", \"All Levels\", \"Beginner Level\", \"All Levels\", \"Beginner Level\", \"All Levels\", \"Intermediate Level\", \"Intermediate Level\", \"All Levels\", \"All Levels\", \"Beginner Level\", \"Intermediate Level\", \"All Levels\", \"Beginner Level\", \"Intermediate Level\", \"All Levels\", \"All Levels\", \"All Levels\", \"Beginner Level\", \"Beginner Level\", \"Beginner Level\", \"All Levels\", \"Beginner Level\", \"All Levels\", \"Beginner Level\", \"All Levels\", \"All Levels\", \"All Levels\", \"Beginner Level\", \"All Levels\", \"All Levels\", \"All Levels\", \"Beginner Level\", \"Intermediate Level\", \"All Levels\", \"All Levels\", \"All Levels\", \"Beginner Level\", \"Intermediate Level\", \"Beginner Level\", \"All Levels\", \"All Levels\", \"All Levels\", \"All Levels\", \"All Levels\", \"Beginner Level\", \"All Levels\", \"All Levels\", \"All Levels\", \"All Levels\", \"Beginner Level\", \"Beginner Level\", \"Beginner Level\", \"All Levels\", \"All Levels\", \"Beginner Level\", \"All Levels\", \"Intermediate Level\", \"All Levels\", \"All Levels\", \"All Levels\", \"Beginner Level\", \"All Levels\", \"Beginner Level\", \"Beginner Level\", \"Beginner Level\", \"All Levels\", \"Beginner Level\", \"Beginner Level\", \"Beginner Level\", \"Intermediate Level\", \"All Levels\", \"All Levels\", \"All Levels\", \"All Levels\", \"Intermediate Level\", \"Beginner Level\", \"All Levels\", \"Beginner Level\", \"Beginner Level\", \"Intermediate Level\", \"All Levels\", \"Beginner Level\", \"Beginner Level\", \"Beginner Level\", \"All Levels\", \"All Levels\", \"Beginner Level\", \"Beginner Level\", \"All Levels\", \"Beginner Level\", \"Beginner Level\", \"Beginner Level\", \"Beginner Level\", \"All Levels\", \"Beginner Level\", \"All Levels\", \"All Levels\", \"Beginner Level\", \"All Levels\", \"All Levels\", \"Beginner Level\", \"Beginner Level\", \"Beginner Level\", \"All Levels\", \"Beginner Level\", \"Beginner Level\", \"Beginner Level\", \"All Levels\", \"All Levels\", \"All Levels\", \"All Levels\", \"Beginner Level\", \"Beginner Level\", \"Beginner Level\", \"All Levels\", \"All Levels\", \"Beginner Level\", \"Intermediate Level\", \"Beginner Level\", \"Beginner Level\", \"All Levels\", \"Beginner Level\", \"Intermediate Level\", \"Beginner Level\", \"All Levels\", \"Beginner Level\", \"Beginner Level\", \"Intermediate Level\", \"All Levels\", \"Beginner Level\", \"All Levels\", \"All Levels\", \"Intermediate Level\", \"All Levels\", \"All Levels\", \"All Levels\", \"Beginner Level\", \"Intermediate Level\", \"All Levels\", \"Beginner Level\", \"All Levels\", \"All Levels\", \"All Levels\", \"Intermediate Level\", \"Beginner Level\", \"All Levels\", \"Beginner Level\", \"Beginner Level\", \"Beginner Level\", \"All Levels\", \"Intermediate Level\", \"Beginner Level\", \"All Levels\", \"Beginner Level\", \"All Levels\", \"Beginner Level\", \"All Levels\", \"Beginner Level\", \"All Levels\", \"Beginner Level\", \"All Levels\", \"Beginner Level\", \"Beginner Level\", \"Intermediate Level\", \"Beginner Level\", \"Beginner Level\", \"Beginner Level\", \"Beginner Level\", \"All Levels\", \"Beginner Level\", \"All Levels\", \"Intermediate Level\", \"All Levels\", \"All Levels\", \"All Levels\", \"Beginner Level\", \"Beginner Level\", \"All Levels\", \"Intermediate Level\", \"All Levels\", \"All Levels\", \"Beginner Level\", \"Beginner Level\", \"All Levels\", \"Beginner Level\", \"Beginner Level\", \"Beginner Level\", \"All Levels\", \"Intermediate Level\", \"Beginner Level\", \"Beginner Level\", \"Beginner Level\", \"Beginner Level\", \"All Levels\", \"Beginner Level\", \"Beginner Level\", \"All Levels\", \"Intermediate Level\", \"All Levels\", \"All Levels\", \"All Levels\", \"All Levels\", \"All Levels\", \"All Levels\", \"Beginner Level\", \"All Levels\", \"Beginner Level\", \"All Levels\", \"All Levels\", \"All Levels\", \"Expert Level\", \"Beginner Level\", \"Beginner Level\", \"All Levels\", \"All Levels\", \"All Levels\", \"Intermediate Level\", \"Beginner Level\", \"Beginner Level\", \"All Levels\", \"Beginner Level\", \"All Levels\", \"Beginner Level\", \"Intermediate Level\", \"All Levels\", \"Beginner Level\", \"Beginner Level\", \"Beginner Level\", \"Beginner Level\", \"All Levels\", \"All Levels\", \"Intermediate Level\", \"Beginner Level\", \"Beginner Level\", \"Beginner Level\", \"Beginner Level\", \"Beginner Level\", \"Beginner Level\", \"All Levels\", \"Intermediate Level\", \"All Levels\", \"Beginner Level\", \"Beginner Level\", \"Beginner Level\", \"All Levels\", \"All Levels\", \"All Levels\", \"Intermediate Level\", \"All Levels\", \"Intermediate Level\", \"All Levels\", \"Expert Level\", \"All Levels\", \"All Levels\", \"Beginner Level\", \"All Levels\", \"Beginner Level\", \"All Levels\", \"All Levels\", \"Beginner Level\", \"Intermediate Level\", \"All Levels\", \"Beginner Level\", \"Beginner Level\", \"All Levels\", \"Beginner Level\", \"All Levels\", \"Beginner Level\", \"All Levels\", \"All Levels\", \"Beginner Level\", \"Beginner Level\", \"Beginner Level\", \"Beginner Level\", \"Beginner Level\", \"Beginner Level\", \"Intermediate Level\", \"All Levels\", \"All Levels\", \"Beginner Level\", \"Beginner Level\", \"Intermediate Level\", \"All Levels\", \"Beginner Level\", \"Beginner Level\", \"Intermediate Level\", \"Beginner Level\", \"Intermediate Level\", \"All Levels\", \"Intermediate Level\", \"All Levels\", \"All Levels\", \"Beginner Level\", \"Beginner Level\", \"All Levels\", \"All Levels\", \"All Levels\", \"Intermediate Level\", \"Intermediate Level\", \"Beginner Level\", \"Intermediate Level\", \"Beginner Level\", \"All Levels\", \"All Levels\", \"All Levels\", \"All Levels\", \"All Levels\", \"Beginner Level\", \"Beginner Level\", \"Beginner Level\", \"Beginner Level\", \"All Levels\", \"Intermediate Level\", \"Intermediate Level\", \"Intermediate Level\", \"Intermediate Level\", \"Beginner Level\", \"All Levels\", \"Expert Level\", \"Beginner Level\", \"Beginner Level\", \"All Levels\", \"All Levels\", \"All Levels\", \"Intermediate Level\", \"All Levels\", \"All Levels\", \"All Levels\", \"Intermediate Level\", \"All Levels\", \"Beginner Level\", \"Beginner Level\", \"All Levels\", \"Intermediate Level\", \"All Levels\", \"All Levels\", \"Beginner Level\", \"Beginner Level\", \"Beginner Level\", \"Beginner Level\", \"Beginner Level\", \"Beginner Level\", \"Intermediate Level\", \"Intermediate Level\", \"All Levels\", \"Beginner Level\", \"Beginner Level\", \"Beginner Level\", \"Beginner Level\", \"All Levels\", \"Beginner Level\", \"Beginner Level\", \"All Levels\", \"Intermediate Level\", \"Intermediate Level\", \"All Levels\", \"All Levels\", \"Intermediate Level\", \"Beginner Level\", \"Beginner Level\", \"All Levels\", \"Beginner Level\", \"All Levels\", \"All Levels\", \"Intermediate Level\", \"All Levels\", \"Beginner Level\", \"All Levels\", \"All Levels\", \"All Levels\", \"Intermediate Level\", \"Beginner Level\", \"Intermediate Level\", \"All Levels\", \"Intermediate Level\", \"Beginner Level\", \"Beginner Level\", \"Intermediate Level\", \"Intermediate Level\", \"Intermediate Level\", \"Intermediate Level\", \"Beginner Level\", \"Intermediate Level\", \"All Levels\", \"Beginner Level\", \"Beginner Level\", \"Beginner Level\", \"Intermediate Level\", \"All Levels\", \"All Levels\", \"Beginner Level\", \"Beginner Level\", \"Beginner Level\", \"Beginner Level\", \"Intermediate Level\", \"Beginner Level\", \"All Levels\", \"Beginner Level\", \"All Levels\", \"All Levels\", \"All Levels\", \"All Levels\", \"All Levels\", \"Beginner Level\", \"All Levels\", \"Beginner Level\", \"Beginner Level\", \"All Levels\", \"Beginner Level\", \"All Levels\", \"All Levels\", \"All Levels\", \"All Levels\", \"All Levels\", \"Intermediate Level\", \"All Levels\", \"Beginner Level\", \"All Levels\", \"All Levels\", \"All Levels\", \"All Levels\", \"Beginner Level\", \"All Levels\", \"All Levels\", \"Intermediate Level\", \"All Levels\", \"Beginner Level\", \"All Levels\", \"Beginner Level\", \"All Levels\", \"Beginner Level\", \"All Levels\", \"Intermediate Level\", \"Beginner Level\", \"Beginner Level\", \"All Levels\", \"Beginner Level\", \"All Levels\", \"All Levels\", \"All Levels\", \"All Levels\", \"All Levels\", \"Beginner Level\", \"Beginner Level\", \"Intermediate Level\", \"Beginner Level\", \"All Levels\", \"Beginner Level\", \"Beginner Level\", \"Beginner Level\", \"Beginner Level\", \"Beginner Level\", \"All Levels\", \"Beginner Level\", \"Beginner Level\", \"All Levels\", \"Beginner Level\", \"Beginner Level\", \"Beginner Level\", \"All Levels\", \"Beginner Level\", \"Intermediate Level\", \"All Levels\", \"All Levels\", \"All Levels\", \"Intermediate Level\", \"All Levels\", \"All Levels\", \"All Levels\", \"Beginner Level\", \"All Levels\", \"All Levels\", \"Beginner Level\", \"All Levels\", \"All Levels\", \"Beginner Level\", \"All Levels\", \"All Levels\", \"Beginner Level\", \"Intermediate Level\", \"All Levels\", \"Intermediate Level\", \"Beginner Level\", \"Beginner Level\", \"All Levels\", \"Intermediate Level\", \"Intermediate Level\", \"Beginner Level\", \"Beginner Level\", \"All Levels\", \"Beginner Level\", \"Beginner Level\", \"Beginner Level\", \"Beginner Level\", \"Beginner Level\", \"Beginner Level\", \"All Levels\", \"All Levels\", \"All Levels\", \"All Levels\", \"Beginner Level\", \"Beginner Level\", \"All Levels\", \"All Levels\", \"Beginner Level\", \"Beginner Level\", \"All Levels\", \"Beginner Level\", \"All Levels\", \"All Levels\", \"All Levels\", \"Beginner Level\", \"Intermediate Level\", \"All Levels\", \"Intermediate Level\", \"Beginner Level\", \"All Levels\", \"All Levels\", \"All Levels\", \"All Levels\", \"All Levels\", \"Beginner Level\", \"All Levels\", \"All Levels\", \"All Levels\", \"Beginner Level\", \"Beginner Level\", \"All Levels\", \"Beginner Level\", \"All Levels\", \"Intermediate Level\", \"All Levels\", \"Beginner Level\", \"Beginner Level\", \"Beginner Level\", \"Beginner Level\", \"All Levels\", \"Beginner Level\", \"All Levels\", \"Beginner Level\", \"Beginner Level\", \"Beginner Level\", \"All Levels\", \"All Levels\", \"All Levels\", \"Beginner Level\", \"Intermediate Level\", \"Beginner Level\", \"Intermediate Level\", \"Intermediate Level\", \"Beginner Level\", \"Beginner Level\", \"Beginner Level\", \"All Levels\", \"Beginner Level\", \"All Levels\", \"All Levels\", \"Expert Level\", \"All Levels\", \"Beginner Level\", \"Intermediate Level\", \"All Levels\", \"Intermediate Level\", \"Beginner Level\", \"Intermediate Level\", \"Beginner Level\", \"All Levels\", \"All Levels\", \"Intermediate Level\", \"All Levels\", \"All Levels\", \"Intermediate Level\", \"Intermediate Level\", \"All Levels\", \"All Levels\", \"All Levels\", \"Intermediate Level\", \"All Levels\", \"Beginner Level\", \"Beginner Level\", \"Intermediate Level\", \"Intermediate Level\", \"Beginner Level\", \"All Levels\", \"All Levels\", \"Intermediate Level\", \"All Levels\", \"Beginner Level\", \"Beginner Level\", \"Beginner Level\", \"Beginner Level\", \"Beginner Level\", \"Intermediate Level\", \"All Levels\", \"Beginner Level\", \"Beginner Level\", \"All Levels\", \"All Levels\", \"Beginner Level\", \"All Levels\", \"Beginner Level\", \"Beginner Level\", \"Beginner Level\", \"All Levels\", \"Beginner Level\", \"All Levels\", \"Beginner Level\", \"Intermediate Level\", \"Beginner Level\", \"Beginner Level\", \"Intermediate Level\", \"Beginner Level\", \"Intermediate Level\", \"Beginner Level\", \"Intermediate Level\", \"All Levels\", \"Beginner Level\", \"Intermediate Level\", \"Intermediate Level\", \"Beginner Level\", \"Beginner Level\", \"Beginner Level\", \"Beginner Level\", \"Expert Level\", \"Beginner Level\", \"All Levels\", \"Beginner Level\", \"Beginner Level\", \"Beginner Level\", \"Intermediate Level\", \"Beginner Level\", \"Beginner Level\", \"Intermediate Level\", \"Beginner Level\", \"Beginner Level\", \"Beginner Level\", \"Intermediate Level\", \"All Levels\", \"Expert Level\", \"All Levels\", \"All Levels\", \"Beginner Level\", \"Beginner Level\", \"All Levels\", \"Intermediate Level\", \"All Levels\", \"All Levels\", \"All Levels\", \"All Levels\", \"Beginner Level\", \"Intermediate Level\", \"Beginner Level\", \"Beginner Level\", \"Beginner Level\", \"Beginner Level\", \"Beginner Level\", \"All Levels\", \"Beginner Level\", \"All Levels\", \"Beginner Level\", \"All Levels\", \"All Levels\", \"Intermediate Level\", \"Beginner Level\", \"All Levels\", \"All Levels\", \"All Levels\", \"Beginner Level\", \"All Levels\", \"All Levels\", \"Beginner Level\", \"Beginner Level\", \"All Levels\", \"Intermediate Level\", \"Intermediate Level\", \"Beginner Level\", \"Beginner Level\", \"Beginner Level\", \"All Levels\", \"Beginner Level\", \"All Levels\", \"All Levels\", \"Beginner Level\", \"Beginner Level\", \"Intermediate Level\", \"Intermediate Level\", \"Beginner Level\", \"Beginner Level\", \"Beginner Level\", \"Beginner Level\", \"All Levels\", \"All Levels\", \"Beginner Level\", \"All Levels\", \"All Levels\", \"All Levels\", \"All Levels\", \"Beginner Level\", \"Beginner Level\", \"Beginner Level\", \"All Levels\", \"Beginner Level\", \"Intermediate Level\", \"Expert Level\", \"Beginner Level\", \"All Levels\", \"Beginner Level\", \"All Levels\", \"All Levels\", \"All Levels\", \"Intermediate Level\", \"Beginner Level\", \"All Levels\", \"Beginner Level\", \"Beginner Level\", \"All Levels\", \"Beginner Level\", \"Beginner Level\", \"Beginner Level\", \"Intermediate Level\", \"Beginner Level\", \"Intermediate Level\", \"Beginner Level\", \"Beginner Level\", \"Beginner Level\", \"All Levels\", \"Intermediate Level\", \"Beginner Level\", \"Beginner Level\", \"All Levels\", \"Beginner Level\", \"All Levels\", \"All Levels\", \"All Levels\", \"All Levels\", \"All Levels\", \"All Levels\", \"Beginner Level\", \"All Levels\", \"Beginner Level\", \"All Levels\", \"Beginner Level\", \"All Levels\", \"All Levels\", \"All Levels\", \"All Levels\", \"All Levels\", \"Intermediate Level\", \"Beginner Level\", \"Beginner Level\", \"Intermediate Level\", \"All Levels\", \"All Levels\", \"Beginner Level\", \"All Levels\", \"All Levels\", \"Beginner Level\", \"All Levels\", \"Intermediate Level\", \"All Levels\", \"Beginner Level\", \"Beginner Level\", \"Beginner Level\", \"All Levels\", \"All Levels\", \"All Levels\", \"Beginner Level\", \"Beginner Level\", \"Intermediate Level\", \"Beginner Level\", \"All Levels\", \"Beginner Level\", \"All Levels\", \"Intermediate Level\", \"Beginner Level\", \"All Levels\", \"All Levels\", \"All Levels\", \"Intermediate Level\", \"All Levels\", \"All Levels\", \"All Levels\", \"Beginner Level\", \"Beginner Level\", \"Intermediate Level\", \"All Levels\", \"All Levels\", \"Beginner Level\", \"Intermediate Level\", \"Beginner Level\", \"Beginner Level\", \"Intermediate Level\", \"Intermediate Level\", \"Intermediate Level\", \"All Levels\", \"Beginner Level\", \"All Levels\", \"All Levels\", \"All Levels\", \"Beginner Level\", \"Intermediate Level\", \"Intermediate Level\", \"Intermediate Level\", \"All Levels\", \"All Levels\", \"All Levels\", \"All Levels\", \"Intermediate Level\", \"All Levels\", \"Beginner Level\", \"Beginner Level\", \"All Levels\", \"All Levels\", \"Beginner Level\", \"All Levels\", \"All Levels\", \"All Levels\", \"Beginner Level\", \"All Levels\", \"All Levels\", \"Intermediate Level\", \"All Levels\", \"Intermediate Level\", \"Beginner Level\", \"All Levels\", \"All Levels\", \"All Levels\", \"All Levels\", \"All Levels\", \"Beginner Level\", \"All Levels\", \"Beginner Level\", \"Intermediate Level\", \"Beginner Level\", \"All Levels\", \"All Levels\", \"All Levels\", \"Beginner Level\", \"Beginner Level\", \"All Levels\", \"All Levels\", \"Beginner Level\", \"Beginner Level\", \"Beginner Level\", \"All Levels\", \"All Levels\", \"All Levels\", \"Beginner Level\", \"All Levels\", \"Intermediate Level\", \"Beginner Level\", \"Beginner Level\", \"All Levels\", \"All Levels\", \"All Levels\", \"All Levels\", \"All Levels\", \"All Levels\", \"Beginner Level\", \"All Levels\", \"All Levels\", \"Beginner Level\", \"All Levels\", \"Beginner Level\", \"All Levels\", \"Beginner Level\", \"All Levels\", \"Intermediate Level\", \"All Levels\", \"Intermediate Level\", \"All Levels\", \"Beginner Level\", \"All Levels\", \"Beginner Level\", \"Intermediate Level\", \"Intermediate Level\", \"All Levels\", \"All Levels\", \"All Levels\", \"All Levels\", \"All Levels\", \"All Levels\", \"All Levels\", \"All Levels\", \"All Levels\", \"All Levels\", \"Beginner Level\", \"All Levels\", \"All Levels\", \"All Levels\", \"Beginner Level\", \"All Levels\", \"All Levels\", \"All Levels\", \"All Levels\", \"All Levels\", \"All Levels\", \"Beginner Level\", \"All Levels\", \"All Levels\", \"All Levels\", \"All Levels\", \"All Levels\", \"All Levels\", \"Intermediate Level\", \"All Levels\", \"Beginner Level\", \"All Levels\", \"All Levels\", \"All Levels\", \"All Levels\", \"All Levels\", \"Beginner Level\", \"All Levels\", \"Intermediate Level\", \"All Levels\", \"All Levels\", \"All Levels\", \"All Levels\", \"All Levels\", \"Intermediate Level\", \"All Levels\", \"All Levels\", \"Beginner Level\", \"Beginner Level\", \"Beginner Level\", \"Beginner Level\", \"All Levels\", \"All Levels\", \"Beginner Level\", \"All Levels\", \"Expert Level\", \"Beginner Level\", \"Beginner Level\", \"Beginner Level\", \"Beginner Level\", \"All Levels\", \"All Levels\", \"All Levels\", \"Beginner Level\", \"All Levels\", \"Beginner Level\", \"Intermediate Level\", \"Beginner Level\", \"Beginner Level\", \"Intermediate Level\", \"All Levels\", \"Beginner Level\", \"All Levels\", \"All Levels\", \"All Levels\", \"Beginner Level\", \"Beginner Level\", \"All Levels\", \"Intermediate Level\", \"All Levels\", \"All Levels\", \"Beginner Level\", \"All Levels\", \"Beginner Level\", \"All Levels\", \"All Levels\", \"All Levels\", \"All Levels\", \"Intermediate Level\", \"All Levels\", \"All Levels\", \"All Levels\", \"All Levels\", \"Beginner Level\", \"All Levels\", \"All Levels\", \"All Levels\", \"Beginner Level\", \"All Levels\", \"All Levels\", \"All Levels\", \"Beginner Level\", \"All Levels\", \"All Levels\", \"All Levels\", \"All Levels\", \"All Levels\", \"All Levels\", \"Beginner Level\", \"Beginner Level\", \"All Levels\", \"All Levels\", \"All Levels\", \"Beginner Level\", \"Beginner Level\", \"Beginner Level\", \"Beginner Level\", \"Intermediate Level\", \"Intermediate Level\", \"Beginner Level\", \"Beginner Level\", \"All Levels\", \"All Levels\", \"Intermediate Level\", \"All Levels\", \"Intermediate Level\", \"Beginner Level\", \"All Levels\", \"All Levels\", \"Beginner Level\", \"All Levels\", \"All Levels\", \"Beginner Level\", \"Intermediate Level\", \"Beginner Level\", \"All Levels\", \"Beginner Level\", \"Beginner Level\", \"All Levels\", \"All Levels\", \"All Levels\", \"Expert Level\", \"All Levels\", \"Beginner Level\", \"Beginner Level\", \"Beginner Level\", \"Intermediate Level\", \"All Levels\", \"All Levels\", \"Beginner Level\", \"All Levels\", \"Beginner Level\", \"All Levels\", \"Beginner Level\", \"All Levels\", \"Beginner Level\", \"All Levels\", \"All Levels\", \"All Levels\", \"All Levels\", \"Beginner Level\", \"Beginner Level\", \"All Levels\", \"All Levels\", \"All Levels\", \"Beginner Level\", \"All Levels\", \"All Levels\", \"All Levels\", \"Beginner Level\", \"All Levels\", \"All Levels\", \"Beginner Level\", \"Beginner Level\", \"Intermediate Level\", \"All Levels\", \"All Levels\", \"All Levels\", \"All Levels\", \"Beginner Level\", \"All Levels\", \"Beginner Level\", \"Beginner Level\", \"All Levels\", \"Beginner Level\", \"Intermediate Level\", \"Beginner Level\", \"All Levels\", \"Beginner Level\", \"All Levels\", \"Beginner Level\", \"All Levels\", \"All Levels\", \"All Levels\", \"All Levels\", \"Intermediate Level\", \"All Levels\", \"All Levels\", \"All Levels\", \"Intermediate Level\", \"All Levels\", \"All Levels\", \"Beginner Level\", \"All Levels\", \"All Levels\", \"Beginner Level\", \"Beginner Level\", \"Beginner Level\", \"All Levels\", \"Intermediate Level\", \"Beginner Level\", \"All Levels\", \"Beginner Level\", \"All Levels\", \"Beginner Level\", \"All Levels\", \"Beginner Level\", \"All Levels\", \"Beginner Level\", \"All Levels\", \"Beginner Level\", \"All Levels\", \"Beginner Level\", \"All Levels\", \"All Levels\", \"Intermediate Level\", \"Beginner Level\", \"All Levels\", \"Intermediate Level\", \"Beginner Level\", \"Beginner Level\", \"Beginner Level\", \"All Levels\", \"Intermediate Level\", \"Beginner Level\", \"All Levels\", \"Beginner Level\", \"All Levels\", \"All Levels\", \"All Levels\", \"Intermediate Level\", \"Beginner Level\", \"Intermediate Level\", \"Intermediate Level\", \"All Levels\", \"All Levels\", \"All Levels\", \"All Levels\", \"Beginner Level\", \"Beginner Level\", \"Intermediate Level\", \"All Levels\", \"All Levels\", \"Intermediate Level\", \"Intermediate Level\", \"Beginner Level\", \"Beginner Level\", \"Beginner Level\", \"Expert Level\", \"All Levels\", \"All Levels\", \"Expert Level\", \"Expert Level\", \"Beginner Level\", \"All Levels\", \"All Levels\", \"Beginner Level\", \"All Levels\", \"Beginner Level\", \"All Levels\", \"All Levels\", \"Beginner Level\", \"Beginner Level\", \"Beginner Level\", \"All Levels\", \"Beginner Level\", \"All Levels\", \"All Levels\", \"All Levels\", \"Beginner Level\", \"Beginner Level\", \"All Levels\", \"Intermediate Level\", \"All Levels\", \"All Levels\", \"All Levels\", \"All Levels\", \"All Levels\", \"Beginner Level\", \"All Levels\", \"Expert Level\", \"Beginner Level\", \"Intermediate Level\", \"All Levels\", \"All Levels\", \"All Levels\", \"Beginner Level\", \"All Levels\", \"All Levels\", \"All Levels\", \"Beginner Level\", \"All Levels\", \"All Levels\", \"Beginner Level\", \"Beginner Level\", \"Beginner Level\", \"All Levels\", \"Beginner Level\", \"Beginner Level\", \"Beginner Level\", \"All Levels\", \"Beginner Level\", \"Beginner Level\", \"Beginner Level\", \"Beginner Level\", \"All Levels\", \"Intermediate Level\", \"Beginner Level\", \"Beginner Level\", \"Beginner Level\", \"All Levels\", \"Beginner Level\", \"All Levels\", \"Intermediate Level\", \"Beginner Level\", \"All Levels\", \"Beginner Level\", \"All Levels\", \"Beginner Level\", \"All Levels\", \"All Levels\", \"Beginner Level\", \"All Levels\", \"All Levels\", \"All Levels\", \"All Levels\", \"All Levels\", \"All Levels\", \"All Levels\", \"All Levels\", \"All Levels\", \"All Levels\", \"All Levels\", \"All Levels\", \"Beginner Level\", \"Beginner Level\", \"All Levels\", \"All Levels\", \"All Levels\", \"Beginner Level\", \"All Levels\", \"All Levels\", \"Beginner Level\", \"Beginner Level\", \"All Levels\", \"Beginner Level\", \"All Levels\", \"Beginner Level\", \"Beginner Level\", \"Intermediate Level\", \"All Levels\", \"Beginner Level\", \"All Levels\", \"All Levels\", \"All Levels\", \"Beginner Level\", \"Beginner Level\", \"Intermediate Level\", \"All Levels\", \"All Levels\", \"All Levels\", \"All Levels\", \"All Levels\", \"Beginner Level\", \"All Levels\", \"All Levels\", \"Beginner Level\", \"All Levels\", \"Intermediate Level\", \"All Levels\", \"Beginner Level\", \"All Levels\", \"Beginner Level\", \"All Levels\", \"Expert Level\", \"Beginner Level\", \"All Levels\", \"Beginner Level\", \"All Levels\", \"All Levels\", \"All Levels\", \"Beginner Level\", \"All Levels\", \"All Levels\", \"All Levels\", \"Beginner Level\", \"Intermediate Level\", \"All Levels\", \"Beginner Level\", \"Beginner Level\", \"All Levels\", \"Beginner Level\", \"All Levels\", \"Beginner Level\", \"All Levels\", \"All Levels\", \"Beginner Level\", \"All Levels\", \"Beginner Level\", \"Beginner Level\", \"All Levels\", \"Beginner Level\", \"Beginner Level\", \"Beginner Level\", \"All Levels\", \"All Levels\", \"Intermediate Level\", \"All Levels\", \"All Levels\", \"All Levels\", \"All Levels\", \"All Levels\", \"Beginner Level\", \"All Levels\", \"Beginner Level\", \"Beginner Level\", \"Intermediate Level\", \"All Levels\", \"All Levels\", \"Beginner Level\", \"All Levels\", \"Beginner Level\", \"All Levels\", \"Expert Level\", \"All Levels\", \"All Levels\", \"All Levels\", \"All Levels\", \"Beginner Level\", \"Beginner Level\", \"Beginner Level\", \"All Levels\", \"All Levels\", \"All Levels\", \"Beginner Level\", \"All Levels\", \"All Levels\", \"All Levels\", \"Beginner Level\", \"All Levels\", \"All Levels\", \"All Levels\", \"Beginner Level\", \"Beginner Level\", \"All Levels\", \"All Levels\", \"Beginner Level\", \"All Levels\", \"Beginner Level\", \"Beginner Level\", \"All Levels\", \"Beginner Level\", \"Beginner Level\", \"All Levels\", \"Beginner Level\", \"All Levels\", \"All Levels\", \"Beginner Level\", \"Beginner Level\", \"All Levels\", \"All Levels\", \"All Levels\", \"All Levels\", \"Beginner Level\", \"All Levels\", \"All Levels\", \"All Levels\", \"All Levels\", \"Beginner Level\", \"Intermediate Level\", \"All Levels\", \"Beginner Level\", \"All Levels\", \"All Levels\", \"All Levels\", \"Expert Level\", \"All Levels\", \"Beginner Level\", \"All Levels\", \"Beginner Level\", \"Beginner Level\", \"Intermediate Level\", \"All Levels\", \"All Levels\", \"Intermediate Level\", \"All Levels\", \"Beginner Level\", \"All Levels\", \"Beginner Level\", \"Beginner Level\", \"All Levels\", \"Intermediate Level\", \"All Levels\", \"All Levels\", \"All Levels\", \"All Levels\", \"Intermediate Level\", \"Beginner Level\", \"All Levels\", \"All Levels\", \"All Levels\", \"Beginner Level\", \"All Levels\", \"Beginner Level\", \"Intermediate Level\", \"Beginner Level\", \"All Levels\", \"All Levels\", \"All Levels\", \"All Levels\", \"All Levels\", \"All Levels\", \"All Levels\", \"All Levels\", \"All Levels\", \"All Levels\", \"All Levels\", \"All Levels\", \"All Levels\", \"All Levels\", \"All Levels\", \"All Levels\", \"Intermediate Level\", \"Beginner Level\", \"Intermediate Level\", \"All Levels\", \"All Levels\", \"All Levels\", \"All Levels\", \"Intermediate Level\", \"All Levels\", \"Beginner Level\", \"Beginner Level\", \"Beginner Level\", \"All Levels\", \"Beginner Level\", \"Beginner Level\", \"Beginner Level\", \"All Levels\", \"All Levels\", \"Beginner Level\", \"All Levels\", \"Beginner Level\", \"All Levels\", \"All Levels\", \"Beginner Level\", \"Intermediate Level\", \"Beginner Level\", \"Beginner Level\", \"All Levels\", \"All Levels\", \"All Levels\", \"All Levels\", \"Beginner Level\", \"Intermediate Level\", \"All Levels\", \"All Levels\", \"All Levels\", \"Intermediate Level\", \"Beginner Level\", \"Beginner Level\", \"All Levels\", \"All Levels\", \"Beginner Level\", \"Beginner Level\", \"Beginner Level\", \"All Levels\", \"All Levels\", \"All Levels\", \"All Levels\", \"All Levels\", \"All Levels\", \"Intermediate Level\", \"All Levels\", \"Beginner Level\", \"All Levels\", \"Beginner Level\", \"All Levels\", \"Intermediate Level\", \"All Levels\", \"All Levels\", \"All Levels\", \"Intermediate Level\", \"Intermediate Level\", \"All Levels\", \"Beginner Level\", \"All Levels\", \"All Levels\", \"All Levels\", \"All Levels\", \"Beginner Level\", \"All Levels\", \"All Levels\", \"All Levels\", \"Intermediate Level\", \"Beginner Level\", \"Beginner Level\", \"All Levels\", \"Intermediate Level\", \"All Levels\", \"Intermediate Level\", \"Beginner Level\", \"All Levels\", \"Beginner Level\", \"All Levels\", \"Beginner Level\", \"All Levels\", \"All Levels\", \"All Levels\", \"All Levels\", \"All Levels\", \"All Levels\", \"All Levels\", \"All Levels\", \"Beginner Level\", \"All Levels\", \"All Levels\", \"Beginner Level\", \"All Levels\", \"All Levels\", \"All Levels\", \"All Levels\", \"Intermediate Level\", \"Beginner Level\", \"Beginner Level\", \"All Levels\", \"All Levels\", \"All Levels\", \"All Levels\", \"All Levels\", \"Beginner Level\", \"All Levels\", \"All Levels\", \"Intermediate Level\", \"All Levels\", \"Intermediate Level\", \"All Levels\", \"Intermediate Level\", \"All Levels\", \"All Levels\", \"Beginner Level\", \"All Levels\", \"All Levels\", \"Beginner Level\", \"Beginner Level\", \"All Levels\", \"All Levels\", \"All Levels\", \"Beginner Level\", \"All Levels\", \"All Levels\", \"All Levels\", \"Intermediate Level\", \"All Levels\", \"Beginner Level\", \"All Levels\", \"All Levels\", \"Expert Level\", \"All Levels\", \"All Levels\", \"Beginner Level\", \"Beginner Level\", \"All Levels\", \"Beginner Level\", \"Intermediate Level\", \"All Levels\", \"All Levels\", \"All Levels\", \"Intermediate Level\", \"All Levels\", \"Beginner Level\", \"Beginner Level\", \"Beginner Level\", \"Beginner Level\", \"All Levels\", \"Intermediate Level\", \"All Levels\", \"Intermediate Level\", \"All Levels\", \"All Levels\", \"Intermediate Level\", \"All Levels\", \"Beginner Level\", \"All Levels\", \"Beginner Level\", \"All Levels\", \"All Levels\", \"All Levels\", \"All Levels\", \"Intermediate Level\", \"Beginner Level\", \"All Levels\", \"Beginner Level\", \"All Levels\", \"Beginner Level\", \"Beginner Level\", \"All Levels\", \"Beginner Level\", \"All Levels\", \"All Levels\", \"All Levels\", \"Beginner Level\", \"All Levels\", \"Beginner Level\", \"Beginner Level\", \"All Levels\", \"All Levels\", \"Beginner Level\", \"All Levels\", \"All Levels\", \"Intermediate Level\", \"Beginner Level\", \"Beginner Level\", \"Beginner Level\", \"Intermediate Level\", \"Beginner Level\", \"All Levels\", \"Beginner Level\", \"Intermediate Level\", \"All Levels\", \"All Levels\", \"All Levels\", \"Beginner Level\", \"Beginner Level\", \"All Levels\", \"Intermediate Level\", \"All Levels\", \"All Levels\", \"All Levels\", \"All Levels\", \"All Levels\", \"All Levels\", \"Intermediate Level\", \"All Levels\", \"Beginner Level\", \"All Levels\", \"Beginner Level\", \"All Levels\", \"All Levels\", \"All Levels\", \"Beginner Level\", \"Beginner Level\", \"All Levels\", \"Beginner Level\", \"Intermediate Level\", \"All Levels\", \"Intermediate Level\", \"All Levels\", \"Expert Level\", \"All Levels\", \"All Levels\", \"Beginner Level\", \"All Levels\", \"All Levels\", \"Beginner Level\", \"All Levels\", \"All Levels\", \"All Levels\", \"Beginner Level\", \"All Levels\", \"All Levels\", \"All Levels\", \"Expert Level\", \"All Levels\", \"Intermediate Level\", \"Beginner Level\", \"Beginner Level\", \"Beginner Level\", \"All Levels\", \"Expert Level\", \"Beginner Level\", \"Beginner Level\", \"All Levels\", \"Beginner Level\", \"All Levels\", \"All Levels\", \"All Levels\", \"Beginner Level\", \"All Levels\", \"All Levels\", \"All Levels\", \"All Levels\", \"All Levels\", \"Beginner Level\", \"Beginner Level\", \"Intermediate Level\", \"Beginner Level\", \"Beginner Level\", \"Beginner Level\", \"All Levels\", \"All Levels\", \"Beginner Level\", \"All Levels\", \"Beginner Level\", \"Beginner Level\", \"All Levels\", \"All Levels\", \"Beginner Level\", \"All Levels\", \"All Levels\", \"Beginner Level\", \"All Levels\", \"All Levels\", \"Beginner Level\", \"All Levels\", \"Beginner Level\", \"All Levels\", \"Beginner Level\", \"Intermediate Level\", \"Beginner Level\", \"Beginner Level\", \"All Levels\", \"All Levels\", \"Beginner Level\", \"All Levels\", \"Beginner Level\", \"Intermediate Level\", \"Beginner Level\", \"All Levels\", \"All Levels\", \"All Levels\", \"All Levels\", \"All Levels\", \"Beginner Level\", \"All Levels\", \"Intermediate Level\", \"Intermediate Level\", \"All Levels\", \"Beginner Level\", \"Beginner Level\", \"All Levels\", \"Beginner Level\", \"All Levels\", \"All Levels\", \"Beginner Level\", \"All Levels\", \"All Levels\", \"Beginner Level\", \"Intermediate Level\", \"All Levels\", \"All Levels\", \"Beginner Level\", \"All Levels\", \"All Levels\", \"Beginner Level\", \"Beginner Level\", \"All Levels\", \"Beginner Level\", \"Beginner Level\", \"All Levels\", \"All Levels\", \"All Levels\", \"All Levels\", \"All Levels\", \"All Levels\", \"Intermediate Level\", \"Beginner Level\", \"Beginner Level\", \"All Levels\", \"All Levels\", \"Beginner Level\", \"All Levels\", \"Intermediate Level\", \"Intermediate Level\", \"All Levels\", \"Intermediate Level\", \"All Levels\", \"Beginner Level\", \"Beginner Level\", \"All Levels\", \"All Levels\", \"Beginner Level\", \"All Levels\", \"Beginner Level\", \"All Levels\", \"Beginner Level\", \"All Levels\", \"All Levels\", \"All Levels\", \"All Levels\", \"Beginner Level\", \"All Levels\", \"Intermediate Level\", \"All Levels\", \"Beginner Level\", \"Beginner Level\", \"Beginner Level\", \"All Levels\", \"Beginner Level\", \"Beginner Level\", \"All Levels\", \"Beginner Level\", \"Intermediate Level\", \"Beginner Level\", \"Beginner Level\", \"All Levels\", \"All Levels\", \"All Levels\", \"All Levels\", \"All Levels\", \"Beginner Level\", \"All Levels\", \"Beginner Level\", \"All Levels\", \"Beginner Level\", \"All Levels\", \"Beginner Level\", \"All Levels\", \"All Levels\", \"Intermediate Level\", \"All Levels\", \"All Levels\", \"All Levels\", \"Beginner Level\", \"Beginner Level\", \"All Levels\", \"All Levels\", \"Beginner Level\", \"All Levels\", \"Intermediate Level\", \"All Levels\", \"Beginner Level\", \"Beginner Level\", \"All Levels\", \"All Levels\", \"Beginner Level\", \"Beginner Level\", \"Beginner Level\", \"Intermediate Level\", \"Intermediate Level\", \"Beginner Level\", \"All Levels\", \"Beginner Level\", \"All Levels\", \"All Levels\", \"All Levels\", \"Intermediate Level\", \"Intermediate Level\", \"Beginner Level\", \"All Levels\", \"Beginner Level\", \"All Levels\", \"All Levels\", \"Intermediate Level\", \"Intermediate Level\", \"All Levels\", \"Beginner Level\", \"All Levels\", \"Beginner Level\", \"All Levels\", \"Beginner Level\", \"All Levels\", \"All Levels\", \"All Levels\", \"All Levels\", \"Beginner Level\", \"Intermediate Level\", \"Beginner Level\", \"Beginner Level\", \"All Levels\", \"All Levels\", \"Intermediate Level\", \"Beginner Level\", \"All Levels\", \"Beginner Level\", \"Beginner Level\", \"All Levels\", \"All Levels\", \"Beginner Level\", \"Beginner Level\", \"All Levels\", \"All Levels\", \"Intermediate Level\", \"All Levels\", \"Intermediate Level\", \"Beginner Level\", \"Beginner Level\", \"Intermediate Level\", \"All Levels\", \"Intermediate Level\", \"All Levels\", \"All Levels\", \"Beginner Level\", \"Intermediate Level\", \"All Levels\", \"Beginner Level\", \"Beginner Level\", \"Intermediate Level\", \"Intermediate Level\", \"All Levels\", \"Intermediate Level\", \"All Levels\", \"Beginner Level\", \"Intermediate Level\", \"All Levels\", \"Expert Level\", \"Intermediate Level\", \"Beginner Level\", \"All Levels\", \"Intermediate Level\", \"Beginner Level\", \"Beginner Level\", \"All Levels\", \"Beginner Level\", \"Beginner Level\", \"All Levels\", \"All Levels\", \"All Levels\", \"All Levels\", \"All Levels\", \"All Levels\", \"Beginner Level\", \"All Levels\", \"Beginner Level\", \"All Levels\", \"Intermediate Level\", \"All Levels\", \"All Levels\", \"All Levels\", \"Intermediate Level\", \"Beginner Level\", \"Beginner Level\", \"Beginner Level\", \"All Levels\", \"Intermediate Level\", \"All Levels\", \"All Levels\", \"Beginner Level\", \"All Levels\", \"All Levels\", \"All Levels\", \"All Levels\", \"All Levels\", \"Expert Level\", \"All Levels\", \"All Levels\", \"Beginner Level\", \"All Levels\", \"All Levels\", \"All Levels\", \"Beginner Level\", \"Beginner Level\", \"All Levels\", \"All Levels\", \"All Levels\", \"All Levels\", \"All Levels\", \"Beginner Level\", \"Beginner Level\", \"All Levels\", \"All Levels\", \"Intermediate Level\", \"All Levels\", \"All Levels\", \"Beginner Level\", \"All Levels\", \"All Levels\", \"Beginner Level\"], \"type\": \"splom\"}],                        {\"height\": 1000, \"template\": {\"data\": {\"bar\": [{\"error_x\": {\"color\": \"#2a3f5f\"}, \"error_y\": {\"color\": \"#2a3f5f\"}, \"marker\": {\"line\": {\"color\": \"#E5ECF6\", \"width\": 0.5}}, \"type\": \"bar\"}], \"barpolar\": [{\"marker\": {\"line\": {\"color\": \"#E5ECF6\", \"width\": 0.5}}, \"type\": \"barpolar\"}], \"carpet\": [{\"aaxis\": {\"endlinecolor\": \"#2a3f5f\", \"gridcolor\": \"white\", \"linecolor\": \"white\", \"minorgridcolor\": \"white\", \"startlinecolor\": \"#2a3f5f\"}, \"baxis\": {\"endlinecolor\": \"#2a3f5f\", \"gridcolor\": \"white\", \"linecolor\": \"white\", \"minorgridcolor\": \"white\", \"startlinecolor\": \"#2a3f5f\"}, \"type\": \"carpet\"}], \"choropleth\": [{\"colorbar\": {\"outlinewidth\": 0, \"ticks\": \"\"}, \"type\": \"choropleth\"}], \"contour\": [{\"colorbar\": {\"outlinewidth\": 0, \"ticks\": \"\"}, \"colorscale\": [[0.0, \"#0d0887\"], [0.1111111111111111, \"#46039f\"], [0.2222222222222222, \"#7201a8\"], [0.3333333333333333, \"#9c179e\"], [0.4444444444444444, \"#bd3786\"], [0.5555555555555556, \"#d8576b\"], [0.6666666666666666, \"#ed7953\"], [0.7777777777777778, \"#fb9f3a\"], [0.8888888888888888, \"#fdca26\"], [1.0, \"#f0f921\"]], \"type\": \"contour\"}], \"contourcarpet\": [{\"colorbar\": {\"outlinewidth\": 0, \"ticks\": \"\"}, \"type\": \"contourcarpet\"}], \"heatmap\": [{\"colorbar\": {\"outlinewidth\": 0, \"ticks\": \"\"}, \"colorscale\": [[0.0, \"#0d0887\"], [0.1111111111111111, \"#46039f\"], [0.2222222222222222, \"#7201a8\"], [0.3333333333333333, \"#9c179e\"], [0.4444444444444444, \"#bd3786\"], [0.5555555555555556, \"#d8576b\"], [0.6666666666666666, \"#ed7953\"], [0.7777777777777778, \"#fb9f3a\"], [0.8888888888888888, \"#fdca26\"], [1.0, \"#f0f921\"]], \"type\": \"heatmap\"}], \"heatmapgl\": [{\"colorbar\": {\"outlinewidth\": 0, \"ticks\": \"\"}, \"colorscale\": [[0.0, \"#0d0887\"], [0.1111111111111111, \"#46039f\"], [0.2222222222222222, \"#7201a8\"], [0.3333333333333333, \"#9c179e\"], [0.4444444444444444, \"#bd3786\"], [0.5555555555555556, \"#d8576b\"], [0.6666666666666666, \"#ed7953\"], [0.7777777777777778, \"#fb9f3a\"], [0.8888888888888888, \"#fdca26\"], [1.0, \"#f0f921\"]], \"type\": \"heatmapgl\"}], \"histogram\": [{\"marker\": {\"colorbar\": {\"outlinewidth\": 0, \"ticks\": \"\"}}, \"type\": \"histogram\"}], \"histogram2d\": [{\"colorbar\": {\"outlinewidth\": 0, \"ticks\": \"\"}, \"colorscale\": [[0.0, \"#0d0887\"], [0.1111111111111111, \"#46039f\"], [0.2222222222222222, \"#7201a8\"], [0.3333333333333333, \"#9c179e\"], [0.4444444444444444, \"#bd3786\"], [0.5555555555555556, \"#d8576b\"], [0.6666666666666666, \"#ed7953\"], [0.7777777777777778, \"#fb9f3a\"], [0.8888888888888888, \"#fdca26\"], [1.0, \"#f0f921\"]], \"type\": \"histogram2d\"}], \"histogram2dcontour\": [{\"colorbar\": {\"outlinewidth\": 0, \"ticks\": \"\"}, \"colorscale\": [[0.0, \"#0d0887\"], [0.1111111111111111, \"#46039f\"], [0.2222222222222222, \"#7201a8\"], [0.3333333333333333, \"#9c179e\"], [0.4444444444444444, \"#bd3786\"], [0.5555555555555556, \"#d8576b\"], [0.6666666666666666, \"#ed7953\"], [0.7777777777777778, \"#fb9f3a\"], [0.8888888888888888, \"#fdca26\"], [1.0, \"#f0f921\"]], \"type\": \"histogram2dcontour\"}], \"mesh3d\": [{\"colorbar\": {\"outlinewidth\": 0, \"ticks\": \"\"}, \"type\": \"mesh3d\"}], \"parcoords\": [{\"line\": {\"colorbar\": {\"outlinewidth\": 0, \"ticks\": \"\"}}, \"type\": \"parcoords\"}], \"pie\": [{\"automargin\": true, \"type\": \"pie\"}], \"scatter\": [{\"marker\": {\"colorbar\": {\"outlinewidth\": 0, \"ticks\": \"\"}}, \"type\": \"scatter\"}], \"scatter3d\": [{\"line\": {\"colorbar\": {\"outlinewidth\": 0, \"ticks\": \"\"}}, \"marker\": {\"colorbar\": {\"outlinewidth\": 0, \"ticks\": \"\"}}, \"type\": \"scatter3d\"}], \"scattercarpet\": [{\"marker\": {\"colorbar\": {\"outlinewidth\": 0, \"ticks\": \"\"}}, \"type\": \"scattercarpet\"}], \"scattergeo\": [{\"marker\": {\"colorbar\": {\"outlinewidth\": 0, \"ticks\": \"\"}}, \"type\": \"scattergeo\"}], \"scattergl\": [{\"marker\": {\"colorbar\": {\"outlinewidth\": 0, \"ticks\": \"\"}}, \"type\": \"scattergl\"}], \"scattermapbox\": [{\"marker\": {\"colorbar\": {\"outlinewidth\": 0, \"ticks\": \"\"}}, \"type\": \"scattermapbox\"}], \"scatterpolar\": [{\"marker\": {\"colorbar\": {\"outlinewidth\": 0, \"ticks\": \"\"}}, \"type\": \"scatterpolar\"}], \"scatterpolargl\": [{\"marker\": {\"colorbar\": {\"outlinewidth\": 0, \"ticks\": \"\"}}, \"type\": \"scatterpolargl\"}], \"scatterternary\": [{\"marker\": {\"colorbar\": {\"outlinewidth\": 0, \"ticks\": \"\"}}, \"type\": \"scatterternary\"}], \"surface\": [{\"colorbar\": {\"outlinewidth\": 0, \"ticks\": \"\"}, \"colorscale\": [[0.0, \"#0d0887\"], [0.1111111111111111, \"#46039f\"], [0.2222222222222222, \"#7201a8\"], [0.3333333333333333, \"#9c179e\"], [0.4444444444444444, \"#bd3786\"], [0.5555555555555556, \"#d8576b\"], [0.6666666666666666, \"#ed7953\"], [0.7777777777777778, \"#fb9f3a\"], [0.8888888888888888, \"#fdca26\"], [1.0, \"#f0f921\"]], \"type\": \"surface\"}], \"table\": [{\"cells\": {\"fill\": {\"color\": \"#EBF0F8\"}, \"line\": {\"color\": \"white\"}}, \"header\": {\"fill\": {\"color\": \"#C8D4E3\"}, \"line\": {\"color\": \"white\"}}, \"type\": \"table\"}]}, \"layout\": {\"annotationdefaults\": {\"arrowcolor\": \"#2a3f5f\", \"arrowhead\": 0, \"arrowwidth\": 1}, \"autotypenumbers\": \"strict\", \"coloraxis\": {\"colorbar\": {\"outlinewidth\": 0, \"ticks\": \"\"}}, \"colorscale\": {\"diverging\": [[0, \"#8e0152\"], [0.1, \"#c51b7d\"], [0.2, \"#de77ae\"], [0.3, \"#f1b6da\"], [0.4, \"#fde0ef\"], [0.5, \"#f7f7f7\"], [0.6, \"#e6f5d0\"], [0.7, \"#b8e186\"], [0.8, \"#7fbc41\"], [0.9, \"#4d9221\"], [1, \"#276419\"]], \"sequential\": [[0.0, \"#0d0887\"], [0.1111111111111111, \"#46039f\"], [0.2222222222222222, \"#7201a8\"], [0.3333333333333333, \"#9c179e\"], [0.4444444444444444, \"#bd3786\"], [0.5555555555555556, \"#d8576b\"], [0.6666666666666666, \"#ed7953\"], [0.7777777777777778, \"#fb9f3a\"], [0.8888888888888888, \"#fdca26\"], [1.0, \"#f0f921\"]], \"sequentialminus\": [[0.0, \"#0d0887\"], [0.1111111111111111, \"#46039f\"], [0.2222222222222222, \"#7201a8\"], [0.3333333333333333, \"#9c179e\"], [0.4444444444444444, \"#bd3786\"], [0.5555555555555556, \"#d8576b\"], [0.6666666666666666, \"#ed7953\"], [0.7777777777777778, \"#fb9f3a\"], [0.8888888888888888, \"#fdca26\"], [1.0, \"#f0f921\"]]}, \"colorway\": [\"#636efa\", \"#EF553B\", \"#00cc96\", \"#ab63fa\", \"#FFA15A\", \"#19d3f3\", \"#FF6692\", \"#B6E880\", \"#FF97FF\", \"#FECB52\"], \"font\": {\"color\": \"#2a3f5f\"}, \"geo\": {\"bgcolor\": \"white\", \"lakecolor\": \"white\", \"landcolor\": \"#E5ECF6\", \"showlakes\": true, \"showland\": true, \"subunitcolor\": \"white\"}, \"hoverlabel\": {\"align\": \"left\"}, \"hovermode\": \"closest\", \"mapbox\": {\"style\": \"light\"}, \"paper_bgcolor\": \"white\", \"plot_bgcolor\": \"#E5ECF6\", \"polar\": {\"angularaxis\": {\"gridcolor\": \"white\", \"linecolor\": \"white\", \"ticks\": \"\"}, \"bgcolor\": \"#E5ECF6\", \"radialaxis\": {\"gridcolor\": \"white\", \"linecolor\": \"white\", \"ticks\": \"\"}}, \"scene\": {\"xaxis\": {\"backgroundcolor\": \"#E5ECF6\", \"gridcolor\": \"white\", \"gridwidth\": 2, \"linecolor\": \"white\", \"showbackground\": true, \"ticks\": \"\", \"zerolinecolor\": \"white\"}, \"yaxis\": {\"backgroundcolor\": \"#E5ECF6\", \"gridcolor\": \"white\", \"gridwidth\": 2, \"linecolor\": \"white\", \"showbackground\": true, \"ticks\": \"\", \"zerolinecolor\": \"white\"}, \"zaxis\": {\"backgroundcolor\": \"#E5ECF6\", \"gridcolor\": \"white\", \"gridwidth\": 2, \"linecolor\": \"white\", \"showbackground\": true, \"ticks\": \"\", \"zerolinecolor\": \"white\"}}, \"shapedefaults\": {\"line\": {\"color\": \"#2a3f5f\"}}, \"ternary\": {\"aaxis\": {\"gridcolor\": \"white\", \"linecolor\": \"white\", \"ticks\": \"\"}, \"baxis\": {\"gridcolor\": \"white\", \"linecolor\": \"white\", \"ticks\": \"\"}, \"bgcolor\": \"#E5ECF6\", \"caxis\": {\"gridcolor\": \"white\", \"linecolor\": \"white\", \"ticks\": \"\"}}, \"title\": {\"x\": 0.05}, \"xaxis\": {\"automargin\": true, \"gridcolor\": \"white\", \"linecolor\": \"white\", \"ticks\": \"\", \"title\": {\"standoff\": 15}, \"zerolinecolor\": \"white\", \"zerolinewidth\": 2}, \"yaxis\": {\"automargin\": true, \"gridcolor\": \"white\", \"linecolor\": \"white\", \"ticks\": \"\", \"title\": {\"standoff\": 15}, \"zerolinecolor\": \"white\", \"zerolinewidth\": 2}}}, \"title\": {\"text\": \"UDEMY Courses\"}, \"width\": 1000},                        {\"responsive\": true}                    ).then(function(){\n",
       "                            \n",
       "var gd = document.getElementById('8d61c4d0-375a-487d-879c-26f33334f05a');\n",
       "var x = new MutationObserver(function (mutations, observer) {{\n",
       "        var display = window.getComputedStyle(gd).display;\n",
       "        if (!display || display === 'none') {{\n",
       "            console.log([gd, 'removed!']);\n",
       "            Plotly.purge(gd);\n",
       "            observer.disconnect();\n",
       "        }}\n",
       "}});\n",
       "\n",
       "// Listen for the removal of the full notebook cells\n",
       "var notebookContainer = gd.closest('#notebook-container');\n",
       "if (notebookContainer) {{\n",
       "    x.observe(notebookContainer, {childList: true});\n",
       "}}\n",
       "\n",
       "// Listen for the clearing of the current output cell\n",
       "var outputEl = gd.closest('.output');\n",
       "if (outputEl) {{\n",
       "    x.observe(outputEl, {childList: true});\n",
       "}}\n",
       "\n",
       "                        })                };                });            </script>        </div>"
      ]
     },
     "metadata": {},
     "output_type": "display_data"
    }
   ],
   "source": [
    "index_vals = df['level'].astype('category').cat.codes\n",
    "fig = go.Figure(data=go.Splom(\n",
    "                dimensions=[dict(label='price',\n",
    "                                 values=df['price']),\n",
    "                            dict(label='num_subscribers',\n",
    "                                 values=df['num_subscribers']),\n",
    "                            dict(label='num_reviews',\n",
    "                                 values=df['num_reviews']),\n",
    "                            dict(label='num_lectures',\n",
    "                                 values=df['num_lectures']),\n",
    "                           dict(label='content_duration',\n",
    "                                 values=df['content_duration'])],\n",
    "                showupperhalf=False, \n",
    "                text=df['level'],\n",
    "                marker=dict(color=index_vals,\n",
    "                            showscale=False, # colors encode categorical variables\n",
    "                            line_color='white', line_width=0.5)\n",
    "                ))\n",
    "\n",
    "\n",
    "fig.update_layout(\n",
    "    title='UDEMY Courses',\n",
    "    width=1000,\n",
    "    height=1000,\n",
    ")\n",
    "\n",
    "fig.show()"
   ]
  },
  {
   "cell_type": "markdown",
   "id": "marine-elite",
   "metadata": {
    "papermill": {
     "duration": 0.067403,
     "end_time": "2021-07-07T21:05:33.207919",
     "exception": false,
     "start_time": "2021-07-07T21:05:33.140516",
     "status": "completed"
    },
    "tags": []
   },
   "source": [
    "Based on the results:\n",
    "- There is positive but not so strenght relationship between number of reviews and number of subscribers\n",
    "- Also there is positive and almost strength (.80) relationship between number of lectures in the course and the duration of the course."
   ]
  },
  {
   "cell_type": "markdown",
   "id": "reported-excellence",
   "metadata": {
    "papermill": {
     "duration": 0.067094,
     "end_time": "2021-07-07T21:05:33.341132",
     "exception": false,
     "start_time": "2021-07-07T21:05:33.274038",
     "status": "completed"
    },
    "tags": []
   },
   "source": [
    "- After getting overall picture about the data, we can go into more details."
   ]
  },
  {
   "cell_type": "markdown",
   "id": "tender-combat",
   "metadata": {
    "papermill": {
     "duration": 0.065404,
     "end_time": "2021-07-07T21:05:33.472638",
     "exception": false,
     "start_time": "2021-07-07T21:05:33.407234",
     "status": "completed"
    },
    "tags": []
   },
   "source": [
    "### UDEMY Courses Based on the **Subject**"
   ]
  },
  {
   "cell_type": "markdown",
   "id": "excited-comment",
   "metadata": {
    "papermill": {
     "duration": 0.067609,
     "end_time": "2021-07-07T21:05:33.605701",
     "exception": false,
     "start_time": "2021-07-07T21:05:33.538092",
     "status": "completed"
    },
    "tags": []
   },
   "source": [
    "- Let's see UDEMY courses by their subjects."
   ]
  },
  {
   "cell_type": "code",
   "execution_count": 18,
   "id": "medium-science",
   "metadata": {
    "_kg_hide-input": true,
    "execution": {
     "iopub.execute_input": "2021-07-07T21:05:33.744194Z",
     "iopub.status.busy": "2021-07-07T21:05:33.743247Z",
     "iopub.status.idle": "2021-07-07T21:05:33.766601Z",
     "shell.execute_reply": "2021-07-07T21:05:33.767199Z",
     "shell.execute_reply.started": "2021-07-07T20:45:36.686924Z"
    },
    "papermill": {
     "duration": 0.095498,
     "end_time": "2021-07-07T21:05:33.767398",
     "exception": false,
     "start_time": "2021-07-07T21:05:33.671900",
     "status": "completed"
    },
    "tags": []
   },
   "outputs": [
    {
     "data": {
      "text/plain": [
       "Web Development        0.33\n",
       "Business Finance       0.32\n",
       "Musical Instruments    0.18\n",
       "Graphic Design         0.16\n",
       "Name: subject, dtype: float64"
      ]
     },
     "execution_count": 18,
     "metadata": {},
     "output_type": "execute_result"
    }
   ],
   "source": [
    "np.round(df['subject'].value_counts(normalize=True),2)"
   ]
  },
  {
   "cell_type": "markdown",
   "id": "worthy-friendship",
   "metadata": {
    "papermill": {
     "duration": 0.065503,
     "end_time": "2021-07-07T21:05:33.898771",
     "exception": false,
     "start_time": "2021-07-07T21:05:33.833268",
     "status": "completed"
    },
    "tags": []
   },
   "source": [
    "- Overall 33% of the Udemy Courses are from Web Development and 32% of the Udemy Courses are from Business Finance area. Other 34% of the courses are made by Musical Instruments related courses (18%) and Graphic Design (16%).\n",
    "- Courses on Business Finance and Web Development subjects covers almost 2 out of 3 course selection."
   ]
  },
  {
   "cell_type": "code",
   "execution_count": 19,
   "id": "russian-stake",
   "metadata": {
    "_kg_hide-input": true,
    "execution": {
     "iopub.execute_input": "2021-07-07T21:05:34.048942Z",
     "iopub.status.busy": "2021-07-07T21:05:34.048081Z",
     "iopub.status.idle": "2021-07-07T21:05:34.130931Z",
     "shell.execute_reply": "2021-07-07T21:05:34.131424Z",
     "shell.execute_reply.started": "2021-07-07T20:45:36.713252Z"
    },
    "papermill": {
     "duration": 0.166938,
     "end_time": "2021-07-07T21:05:34.131594",
     "exception": false,
     "start_time": "2021-07-07T21:05:33.964656",
     "status": "completed"
    },
    "tags": []
   },
   "outputs": [
    {
     "data": {
      "text/html": [
       "<div>                            <div id=\"5ca311d6-ccbc-4479-8896-57f1be3c8347\" class=\"plotly-graph-div\" style=\"height:525px; width:100%;\"></div>            <script type=\"text/javascript\">                require([\"plotly\"], function(Plotly) {                    window.PLOTLYENV=window.PLOTLYENV || {};                                    if (document.getElementById(\"5ca311d6-ccbc-4479-8896-57f1be3c8347\")) {                    Plotly.newPlot(                        \"5ca311d6-ccbc-4479-8896-57f1be3c8347\",                        [{\"alignmentgroup\": \"True\", \"bingroup\": \"x\", \"hovertemplate\": \"subject=%{x}<br>count=%{y}<extra></extra>\", \"legendgroup\": \"\", \"marker\": {\"color\": \"#636efa\"}, \"name\": \"\", \"offsetgroup\": \"\", \"orientation\": \"v\", \"showlegend\": false, \"type\": \"histogram\", \"x\": [\"Business Finance\", \"Business Finance\", \"Business Finance\", \"Business Finance\", \"Business Finance\", \"Business Finance\", \"Business Finance\", \"Business Finance\", \"Business Finance\", \"Business Finance\", \"Business Finance\", \"Business Finance\", \"Business Finance\", \"Business Finance\", \"Business Finance\", \"Business Finance\", \"Business Finance\", \"Business Finance\", \"Business Finance\", \"Business Finance\", \"Business Finance\", \"Business Finance\", \"Business Finance\", \"Business Finance\", \"Business Finance\", \"Business Finance\", \"Business Finance\", \"Business Finance\", \"Business Finance\", \"Business Finance\", \"Business Finance\", \"Business Finance\", \"Business Finance\", \"Business Finance\", \"Business Finance\", \"Business Finance\", \"Business Finance\", \"Business Finance\", \"Business Finance\", \"Business Finance\", \"Business Finance\", \"Business Finance\", \"Business Finance\", \"Business Finance\", \"Business Finance\", \"Business Finance\", \"Business Finance\", \"Business Finance\", \"Business Finance\", \"Business Finance\", \"Business Finance\", \"Business Finance\", \"Business Finance\", \"Business Finance\", \"Business Finance\", \"Business Finance\", \"Business Finance\", \"Business Finance\", \"Business Finance\", \"Business Finance\", \"Business Finance\", \"Business Finance\", \"Business Finance\", \"Business Finance\", \"Business Finance\", \"Business Finance\", \"Business Finance\", \"Business Finance\", \"Business Finance\", \"Business Finance\", \"Business Finance\", \"Business Finance\", \"Business Finance\", \"Business Finance\", \"Business Finance\", \"Business Finance\", \"Business Finance\", \"Business Finance\", \"Business Finance\", \"Business Finance\", \"Business Finance\", \"Business Finance\", \"Business Finance\", \"Business Finance\", \"Business Finance\", \"Business Finance\", \"Business Finance\", \"Business Finance\", \"Business Finance\", \"Business Finance\", \"Business Finance\", \"Business Finance\", \"Business Finance\", \"Business Finance\", \"Business Finance\", \"Business Finance\", \"Business Finance\", \"Business Finance\", \"Business Finance\", \"Business Finance\", \"Business Finance\", \"Business Finance\", \"Business Finance\", \"Business Finance\", \"Business Finance\", \"Business Finance\", \"Business Finance\", \"Business Finance\", \"Business Finance\", \"Business Finance\", \"Business Finance\", \"Business Finance\", \"Business Finance\", \"Business Finance\", \"Business Finance\", \"Business Finance\", \"Business Finance\", \"Business Finance\", \"Business Finance\", \"Business Finance\", \"Business Finance\", \"Business Finance\", \"Business Finance\", \"Business Finance\", \"Business Finance\", \"Business Finance\", \"Business Finance\", \"Business Finance\", \"Business Finance\", \"Business Finance\", \"Business Finance\", \"Business Finance\", \"Business Finance\", \"Business Finance\", \"Business Finance\", \"Business Finance\", \"Business Finance\", \"Business Finance\", \"Business Finance\", \"Business Finance\", \"Business Finance\", \"Business Finance\", \"Business Finance\", \"Business Finance\", \"Business Finance\", \"Business Finance\", \"Business Finance\", \"Business Finance\", \"Business Finance\", \"Business Finance\", \"Business Finance\", \"Business Finance\", \"Business Finance\", \"Business Finance\", \"Business Finance\", \"Business Finance\", \"Business Finance\", \"Business Finance\", \"Business Finance\", \"Business Finance\", \"Business Finance\", \"Business Finance\", \"Business Finance\", \"Business Finance\", \"Business Finance\", \"Business Finance\", \"Business Finance\", \"Business Finance\", \"Business Finance\", \"Business Finance\", \"Business Finance\", \"Business Finance\", \"Business Finance\", \"Business Finance\", \"Business Finance\", \"Business Finance\", \"Business Finance\", \"Business Finance\", \"Business Finance\", \"Business Finance\", \"Business Finance\", \"Business Finance\", \"Business Finance\", \"Business Finance\", \"Business Finance\", \"Business Finance\", \"Business Finance\", \"Business Finance\", \"Business Finance\", \"Business Finance\", \"Business Finance\", \"Business Finance\", \"Business Finance\", \"Business Finance\", \"Business Finance\", \"Business Finance\", \"Business Finance\", \"Business Finance\", \"Business Finance\", \"Business Finance\", \"Business Finance\", \"Business Finance\", \"Business Finance\", \"Business Finance\", \"Business Finance\", \"Business Finance\", \"Business Finance\", \"Business Finance\", \"Business Finance\", \"Business Finance\", \"Business Finance\", \"Business Finance\", \"Business Finance\", \"Business Finance\", \"Business Finance\", \"Business Finance\", \"Business Finance\", \"Business Finance\", \"Business Finance\", \"Business Finance\", \"Business Finance\", \"Business Finance\", \"Business Finance\", \"Business Finance\", \"Business Finance\", \"Business Finance\", \"Business Finance\", \"Business Finance\", \"Business Finance\", \"Business Finance\", \"Business Finance\", \"Business Finance\", \"Business Finance\", \"Business Finance\", \"Business Finance\", \"Business Finance\", \"Business Finance\", \"Business Finance\", \"Business Finance\", \"Business Finance\", \"Business Finance\", \"Business Finance\", \"Business Finance\", \"Business Finance\", \"Business Finance\", \"Business Finance\", \"Business Finance\", \"Business Finance\", \"Business Finance\", \"Business Finance\", \"Business Finance\", \"Business Finance\", \"Business Finance\", \"Business Finance\", \"Business Finance\", \"Business Finance\", \"Business Finance\", \"Business Finance\", \"Business Finance\", \"Business Finance\", \"Business Finance\", \"Business Finance\", \"Business Finance\", \"Business Finance\", \"Business Finance\", \"Business Finance\", \"Business Finance\", \"Business Finance\", \"Business Finance\", \"Business Finance\", \"Business Finance\", \"Business Finance\", \"Business Finance\", \"Business Finance\", \"Business Finance\", \"Business Finance\", \"Business Finance\", \"Business Finance\", \"Business Finance\", \"Business Finance\", \"Business Finance\", \"Business Finance\", \"Business Finance\", \"Business Finance\", \"Business Finance\", \"Business Finance\", \"Business Finance\", \"Business Finance\", \"Business Finance\", \"Business Finance\", \"Business Finance\", \"Business Finance\", \"Business Finance\", \"Business Finance\", \"Business Finance\", \"Business Finance\", \"Business Finance\", \"Business Finance\", \"Business Finance\", \"Business Finance\", \"Business Finance\", \"Business Finance\", \"Business Finance\", \"Business Finance\", \"Business Finance\", \"Business Finance\", \"Business Finance\", \"Business Finance\", \"Business Finance\", \"Business Finance\", \"Business Finance\", \"Business Finance\", \"Business Finance\", \"Business Finance\", \"Business Finance\", \"Business Finance\", \"Business Finance\", \"Business Finance\", \"Business Finance\", \"Business Finance\", \"Business Finance\", \"Business Finance\", \"Business Finance\", \"Business Finance\", \"Business Finance\", \"Business Finance\", \"Business Finance\", \"Business Finance\", \"Business Finance\", \"Business Finance\", \"Business Finance\", \"Business Finance\", \"Business Finance\", \"Business Finance\", \"Business Finance\", \"Business Finance\", \"Business Finance\", \"Business Finance\", \"Business Finance\", \"Business Finance\", \"Business Finance\", \"Business Finance\", \"Business Finance\", \"Business Finance\", \"Business Finance\", \"Business Finance\", \"Business Finance\", \"Business Finance\", \"Business Finance\", \"Business Finance\", \"Business Finance\", \"Business Finance\", \"Business Finance\", \"Business Finance\", \"Business Finance\", \"Business Finance\", \"Business Finance\", \"Business Finance\", \"Business Finance\", \"Business Finance\", \"Business Finance\", \"Business Finance\", \"Business Finance\", \"Business Finance\", \"Business Finance\", \"Business Finance\", \"Business Finance\", \"Business Finance\", \"Business Finance\", \"Business Finance\", \"Business Finance\", \"Business Finance\", \"Business Finance\", \"Business Finance\", \"Business Finance\", \"Business Finance\", \"Business Finance\", \"Business Finance\", \"Business Finance\", \"Business Finance\", \"Business Finance\", \"Business Finance\", \"Business Finance\", \"Business Finance\", \"Business Finance\", \"Business Finance\", \"Business Finance\", \"Business Finance\", \"Business Finance\", \"Business Finance\", \"Business Finance\", \"Business Finance\", \"Business Finance\", \"Business Finance\", \"Business Finance\", \"Business Finance\", \"Business Finance\", \"Business Finance\", \"Business Finance\", \"Business Finance\", \"Business Finance\", \"Business Finance\", \"Business Finance\", \"Business Finance\", \"Business Finance\", \"Business Finance\", \"Business Finance\", \"Business Finance\", \"Business Finance\", \"Business Finance\", \"Business Finance\", \"Business Finance\", \"Business Finance\", \"Business Finance\", \"Business Finance\", \"Business Finance\", \"Business Finance\", \"Business Finance\", \"Business Finance\", \"Business Finance\", \"Business Finance\", \"Business Finance\", \"Business Finance\", \"Business Finance\", \"Business Finance\", \"Business Finance\", \"Business Finance\", \"Business Finance\", \"Business Finance\", \"Business Finance\", \"Business Finance\", \"Business Finance\", \"Business Finance\", \"Business Finance\", \"Business Finance\", \"Business Finance\", \"Business Finance\", \"Business Finance\", \"Business Finance\", \"Business Finance\", \"Business Finance\", \"Business Finance\", \"Business Finance\", \"Business Finance\", \"Business Finance\", \"Business Finance\", \"Business Finance\", \"Business Finance\", \"Business Finance\", \"Business Finance\", \"Business Finance\", \"Business Finance\", \"Business Finance\", \"Business Finance\", \"Business Finance\", \"Business Finance\", \"Business Finance\", \"Business Finance\", \"Business Finance\", \"Business Finance\", \"Business Finance\", \"Business Finance\", \"Business Finance\", \"Business Finance\", \"Business Finance\", \"Business Finance\", \"Business Finance\", \"Business Finance\", \"Business Finance\", \"Business Finance\", \"Business Finance\", \"Business Finance\", \"Business Finance\", \"Business Finance\", \"Business Finance\", \"Business Finance\", \"Business Finance\", \"Business Finance\", \"Business Finance\", \"Business Finance\", \"Business Finance\", \"Business Finance\", \"Business Finance\", \"Business Finance\", \"Business Finance\", \"Business Finance\", \"Business Finance\", \"Business Finance\", \"Business Finance\", \"Business Finance\", \"Business Finance\", \"Business Finance\", \"Business Finance\", \"Business Finance\", \"Business Finance\", \"Business Finance\", \"Business Finance\", \"Business Finance\", \"Business Finance\", \"Business Finance\", \"Business Finance\", \"Business Finance\", \"Business Finance\", \"Business Finance\", \"Business Finance\", \"Business Finance\", \"Business Finance\", \"Business Finance\", \"Business Finance\", \"Business Finance\", \"Business Finance\", \"Business Finance\", \"Business Finance\", \"Business Finance\", \"Business Finance\", \"Business Finance\", \"Business Finance\", \"Business Finance\", \"Business Finance\", \"Business Finance\", \"Business Finance\", \"Business Finance\", \"Business Finance\", \"Business Finance\", \"Business Finance\", \"Business Finance\", \"Business Finance\", \"Business Finance\", \"Business Finance\", \"Business Finance\", \"Business Finance\", \"Business Finance\", \"Business Finance\", \"Business Finance\", \"Business Finance\", \"Business Finance\", \"Business Finance\", \"Business Finance\", \"Business Finance\", \"Business Finance\", \"Business Finance\", \"Business Finance\", \"Business Finance\", \"Business Finance\", \"Business Finance\", \"Business Finance\", \"Business Finance\", \"Business Finance\", \"Business Finance\", \"Business Finance\", \"Business Finance\", \"Business Finance\", \"Business Finance\", \"Business Finance\", \"Business Finance\", \"Business Finance\", \"Business Finance\", \"Business Finance\", \"Business Finance\", \"Business Finance\", \"Business Finance\", \"Business Finance\", \"Business Finance\", \"Business Finance\", \"Business Finance\", \"Business Finance\", \"Business Finance\", \"Business Finance\", \"Business Finance\", \"Business Finance\", \"Business Finance\", \"Business Finance\", \"Business Finance\", \"Business Finance\", \"Business Finance\", \"Business Finance\", \"Business Finance\", \"Business Finance\", \"Business Finance\", \"Business Finance\", \"Business Finance\", \"Business Finance\", \"Business Finance\", \"Business Finance\", \"Business Finance\", \"Business Finance\", \"Business Finance\", \"Business Finance\", \"Business Finance\", \"Business Finance\", \"Business Finance\", \"Business Finance\", \"Business Finance\", \"Business Finance\", \"Business Finance\", \"Business Finance\", \"Business Finance\", \"Business Finance\", \"Business Finance\", \"Business Finance\", \"Business Finance\", \"Business Finance\", \"Business Finance\", \"Business Finance\", \"Business Finance\", \"Business Finance\", \"Business Finance\", \"Business Finance\", \"Business Finance\", \"Business Finance\", \"Business Finance\", \"Business Finance\", \"Business Finance\", \"Business Finance\", \"Business Finance\", \"Business Finance\", \"Business Finance\", \"Business Finance\", \"Business Finance\", \"Business Finance\", \"Business Finance\", \"Business Finance\", \"Business Finance\", \"Business Finance\", \"Business Finance\", \"Business Finance\", \"Business Finance\", \"Business Finance\", \"Business Finance\", \"Business Finance\", \"Business Finance\", \"Business Finance\", \"Business Finance\", \"Business Finance\", \"Business Finance\", \"Business Finance\", \"Business Finance\", \"Business Finance\", \"Business Finance\", \"Business Finance\", \"Business Finance\", \"Business Finance\", \"Business Finance\", \"Business Finance\", \"Business Finance\", \"Business Finance\", \"Business Finance\", \"Business Finance\", \"Business Finance\", \"Business Finance\", \"Business Finance\", \"Business Finance\", \"Business Finance\", \"Business Finance\", \"Business Finance\", \"Business Finance\", \"Business Finance\", \"Business Finance\", \"Business Finance\", \"Business Finance\", \"Business Finance\", \"Business Finance\", \"Business Finance\", \"Business Finance\", \"Business Finance\", \"Business Finance\", \"Business Finance\", \"Business Finance\", \"Business Finance\", \"Business Finance\", \"Business Finance\", \"Business Finance\", \"Business Finance\", \"Business Finance\", \"Business Finance\", \"Business Finance\", \"Business Finance\", \"Business Finance\", \"Business Finance\", \"Business Finance\", \"Business Finance\", \"Business Finance\", \"Business Finance\", \"Business Finance\", \"Business Finance\", \"Business Finance\", \"Business Finance\", \"Business Finance\", \"Business Finance\", \"Business Finance\", \"Business Finance\", \"Business Finance\", \"Business Finance\", \"Business Finance\", \"Business Finance\", \"Business Finance\", \"Business Finance\", \"Business Finance\", \"Business Finance\", \"Business Finance\", \"Business Finance\", \"Business Finance\", \"Business Finance\", \"Business Finance\", \"Business Finance\", \"Business Finance\", \"Business Finance\", \"Business Finance\", \"Business Finance\", \"Business Finance\", \"Business Finance\", \"Business Finance\", \"Business Finance\", \"Business Finance\", \"Business Finance\", \"Business Finance\", \"Business Finance\", \"Business Finance\", \"Business Finance\", \"Business Finance\", \"Business Finance\", \"Business Finance\", \"Business Finance\", \"Business Finance\", \"Business Finance\", \"Business Finance\", \"Business Finance\", \"Business Finance\", \"Business Finance\", \"Business Finance\", \"Business Finance\", \"Business Finance\", \"Business Finance\", \"Business Finance\", \"Business Finance\", \"Business Finance\", \"Business Finance\", \"Business Finance\", \"Business Finance\", \"Business Finance\", \"Business Finance\", \"Business Finance\", \"Business Finance\", \"Business Finance\", \"Business Finance\", \"Business Finance\", \"Business Finance\", \"Business Finance\", \"Business Finance\", \"Business Finance\", \"Business Finance\", \"Business Finance\", \"Business Finance\", \"Business Finance\", \"Business Finance\", \"Business Finance\", \"Business Finance\", \"Business Finance\", \"Business Finance\", \"Business Finance\", \"Business Finance\", \"Business Finance\", \"Business Finance\", \"Business Finance\", \"Business Finance\", \"Business Finance\", \"Business Finance\", \"Business Finance\", \"Business Finance\", \"Business Finance\", \"Business Finance\", \"Business Finance\", \"Business Finance\", \"Business Finance\", \"Business Finance\", \"Business Finance\", \"Business Finance\", \"Business Finance\", \"Business Finance\", \"Business Finance\", \"Business Finance\", \"Business Finance\", \"Business Finance\", \"Business Finance\", \"Business Finance\", \"Business Finance\", \"Business Finance\", \"Business Finance\", \"Business Finance\", \"Business Finance\", \"Business Finance\", \"Business Finance\", \"Business Finance\", \"Business Finance\", \"Business Finance\", \"Business Finance\", \"Business Finance\", \"Business Finance\", \"Business Finance\", \"Business Finance\", \"Business Finance\", \"Business Finance\", \"Business Finance\", \"Business Finance\", \"Business Finance\", \"Business Finance\", \"Business Finance\", \"Business Finance\", \"Business Finance\", \"Business Finance\", \"Business Finance\", \"Business Finance\", \"Business Finance\", \"Business Finance\", \"Business Finance\", \"Business Finance\", \"Business Finance\", \"Business Finance\", \"Business Finance\", \"Business Finance\", \"Business Finance\", \"Business Finance\", \"Business Finance\", \"Business Finance\", \"Business Finance\", \"Business Finance\", \"Business Finance\", \"Business Finance\", \"Business Finance\", \"Business Finance\", \"Business Finance\", \"Business Finance\", \"Business Finance\", \"Business Finance\", \"Business Finance\", \"Business Finance\", \"Business Finance\", \"Business Finance\", \"Business Finance\", \"Business Finance\", \"Business Finance\", \"Business Finance\", \"Business Finance\", \"Business Finance\", \"Business Finance\", \"Business Finance\", \"Business Finance\", \"Business Finance\", \"Business Finance\", \"Business Finance\", \"Business Finance\", \"Business Finance\", \"Business Finance\", \"Business Finance\", \"Business Finance\", \"Business Finance\", \"Business Finance\", \"Business Finance\", \"Business Finance\", \"Business Finance\", \"Business Finance\", \"Business Finance\", \"Business Finance\", \"Business Finance\", \"Business Finance\", \"Business Finance\", \"Business Finance\", \"Business Finance\", \"Business Finance\", \"Business Finance\", \"Business Finance\", \"Business Finance\", \"Business Finance\", \"Business Finance\", \"Business Finance\", \"Business Finance\", \"Business Finance\", \"Business Finance\", \"Business Finance\", \"Business Finance\", \"Business Finance\", \"Business Finance\", \"Business Finance\", \"Business Finance\", \"Business Finance\", \"Business Finance\", \"Business Finance\", \"Business Finance\", \"Business Finance\", \"Business Finance\", \"Business Finance\", \"Business Finance\", \"Business Finance\", \"Business Finance\", \"Business Finance\", \"Business Finance\", \"Business Finance\", \"Business Finance\", \"Business Finance\", \"Business Finance\", \"Business Finance\", \"Business Finance\", \"Business Finance\", \"Business Finance\", \"Business Finance\", \"Business Finance\", \"Business Finance\", \"Business Finance\", \"Business Finance\", \"Business Finance\", \"Business Finance\", \"Business Finance\", \"Business Finance\", \"Business Finance\", \"Business Finance\", \"Business Finance\", \"Business Finance\", \"Business Finance\", \"Business Finance\", \"Business Finance\", \"Business Finance\", \"Business Finance\", \"Business Finance\", \"Business Finance\", \"Business Finance\", \"Business Finance\", \"Business Finance\", \"Business Finance\", \"Business Finance\", \"Business Finance\", \"Business Finance\", \"Business Finance\", \"Business Finance\", \"Business Finance\", \"Business Finance\", \"Business Finance\", \"Business Finance\", \"Business Finance\", \"Business Finance\", \"Business Finance\", \"Business Finance\", \"Business Finance\", \"Business Finance\", \"Business Finance\", \"Business Finance\", \"Business Finance\", \"Business Finance\", \"Business Finance\", \"Business Finance\", \"Business Finance\", \"Business Finance\", \"Business Finance\", \"Business Finance\", \"Business Finance\", \"Business Finance\", \"Business Finance\", \"Business Finance\", \"Business Finance\", \"Business Finance\", \"Business Finance\", \"Business Finance\", \"Business Finance\", \"Business Finance\", \"Business Finance\", \"Business Finance\", \"Business Finance\", \"Business Finance\", \"Business Finance\", \"Business Finance\", \"Business Finance\", \"Business Finance\", \"Business Finance\", \"Business Finance\", \"Business Finance\", \"Business Finance\", \"Business Finance\", \"Business Finance\", \"Business Finance\", \"Business Finance\", \"Business Finance\", \"Business Finance\", \"Business Finance\", \"Business Finance\", \"Business Finance\", \"Business Finance\", \"Business Finance\", \"Business Finance\", \"Business Finance\", \"Business Finance\", \"Business Finance\", \"Business Finance\", \"Business Finance\", \"Business Finance\", \"Business Finance\", \"Business Finance\", \"Business Finance\", \"Business Finance\", \"Business Finance\", \"Business Finance\", \"Business Finance\", \"Business Finance\", \"Business Finance\", \"Business Finance\", \"Business Finance\", \"Business Finance\", \"Business Finance\", \"Business Finance\", \"Business Finance\", \"Business Finance\", \"Business Finance\", \"Business Finance\", \"Business Finance\", \"Business Finance\", \"Business Finance\", \"Business Finance\", \"Business Finance\", \"Business Finance\", \"Business Finance\", \"Business Finance\", \"Business Finance\", \"Business Finance\", \"Business Finance\", \"Business Finance\", \"Business Finance\", \"Business Finance\", \"Business Finance\", \"Business Finance\", \"Business Finance\", \"Business Finance\", \"Business Finance\", \"Business Finance\", \"Business Finance\", \"Business Finance\", \"Business Finance\", \"Business Finance\", \"Business Finance\", \"Business Finance\", \"Business Finance\", \"Business Finance\", \"Business Finance\", \"Business Finance\", \"Business Finance\", \"Business Finance\", \"Business Finance\", \"Business Finance\", \"Business Finance\", \"Business Finance\", \"Business Finance\", \"Business Finance\", \"Business Finance\", \"Business Finance\", \"Business Finance\", \"Business Finance\", \"Business Finance\", \"Business Finance\", \"Business Finance\", \"Business Finance\", \"Business Finance\", \"Business Finance\", \"Business Finance\", \"Business Finance\", \"Business Finance\", \"Business Finance\", \"Business Finance\", \"Business Finance\", \"Business Finance\", \"Business Finance\", \"Business Finance\", \"Business Finance\", \"Business Finance\", \"Business Finance\", \"Business Finance\", \"Business Finance\", \"Business Finance\", \"Business Finance\", \"Business Finance\", \"Business Finance\", \"Business Finance\", \"Business Finance\", \"Business Finance\", \"Business Finance\", \"Business Finance\", \"Business Finance\", \"Business Finance\", \"Business Finance\", \"Business Finance\", \"Business Finance\", \"Business Finance\", \"Business Finance\", \"Business Finance\", \"Business Finance\", \"Business Finance\", \"Business Finance\", \"Business Finance\", \"Business Finance\", \"Business Finance\", \"Business Finance\", \"Business Finance\", \"Business Finance\", \"Business Finance\", \"Business Finance\", \"Business Finance\", \"Business Finance\", \"Business Finance\", \"Business Finance\", \"Business Finance\", \"Business Finance\", \"Business Finance\", \"Business Finance\", \"Business Finance\", \"Business Finance\", \"Business Finance\", \"Business Finance\", \"Business Finance\", \"Business Finance\", \"Business Finance\", \"Business Finance\", \"Business Finance\", \"Business Finance\", \"Business Finance\", \"Business Finance\", \"Business Finance\", \"Business Finance\", \"Business Finance\", \"Business Finance\", \"Business Finance\", \"Business Finance\", \"Business Finance\", \"Business Finance\", \"Business Finance\", \"Business Finance\", \"Business Finance\", \"Business Finance\", \"Business Finance\", \"Business Finance\", \"Business Finance\", \"Business Finance\", \"Business Finance\", \"Business Finance\", \"Business Finance\", \"Business Finance\", \"Business Finance\", \"Business Finance\", \"Business Finance\", \"Business Finance\", \"Business Finance\", \"Business Finance\", \"Business Finance\", \"Business Finance\", \"Business Finance\", \"Business Finance\", \"Business Finance\", \"Business Finance\", \"Business Finance\", \"Business Finance\", \"Business Finance\", \"Business Finance\", \"Business Finance\", \"Business Finance\", \"Business Finance\", \"Business Finance\", \"Business Finance\", \"Business Finance\", \"Business Finance\", \"Business Finance\", \"Business Finance\", \"Business Finance\", \"Business Finance\", \"Business Finance\", \"Business Finance\", \"Business Finance\", \"Business Finance\", \"Business Finance\", \"Business Finance\", \"Business Finance\", \"Business Finance\", \"Business Finance\", \"Business Finance\", \"Business Finance\", \"Business Finance\", \"Business Finance\", \"Business Finance\", \"Business Finance\", \"Business Finance\", \"Business Finance\", \"Business Finance\", \"Business Finance\", \"Business Finance\", \"Business Finance\", \"Business Finance\", \"Business Finance\", \"Business Finance\", \"Business Finance\", \"Business Finance\", \"Business Finance\", \"Graphic Design\", \"Graphic Design\", \"Graphic Design\", \"Graphic Design\", \"Graphic Design\", \"Graphic Design\", \"Graphic Design\", \"Graphic Design\", \"Graphic Design\", \"Graphic Design\", \"Graphic Design\", \"Graphic Design\", \"Graphic Design\", \"Graphic Design\", \"Graphic Design\", \"Graphic Design\", \"Graphic Design\", \"Graphic Design\", \"Graphic Design\", \"Graphic Design\", \"Graphic Design\", \"Graphic Design\", \"Graphic Design\", \"Graphic Design\", \"Graphic Design\", \"Graphic Design\", \"Graphic Design\", \"Graphic Design\", \"Graphic Design\", \"Graphic Design\", \"Graphic Design\", \"Graphic Design\", \"Graphic Design\", \"Graphic Design\", \"Graphic Design\", \"Graphic Design\", \"Graphic Design\", \"Graphic Design\", \"Graphic Design\", \"Graphic Design\", \"Graphic Design\", \"Graphic Design\", \"Graphic Design\", \"Graphic Design\", \"Graphic Design\", \"Graphic Design\", \"Graphic Design\", \"Graphic Design\", \"Graphic Design\", \"Graphic Design\", \"Graphic Design\", \"Graphic Design\", \"Graphic Design\", \"Graphic Design\", \"Graphic Design\", \"Graphic Design\", \"Graphic Design\", \"Graphic Design\", \"Graphic Design\", \"Graphic Design\", \"Graphic Design\", \"Graphic Design\", \"Graphic Design\", \"Graphic Design\", \"Graphic Design\", \"Graphic Design\", \"Graphic Design\", \"Graphic Design\", \"Graphic Design\", \"Graphic Design\", \"Graphic Design\", \"Graphic Design\", \"Graphic Design\", \"Graphic Design\", \"Graphic Design\", \"Graphic Design\", \"Graphic Design\", \"Graphic Design\", \"Graphic Design\", \"Graphic Design\", \"Graphic Design\", \"Graphic Design\", \"Graphic Design\", \"Graphic Design\", \"Graphic Design\", \"Graphic Design\", \"Graphic Design\", \"Graphic Design\", \"Graphic Design\", \"Graphic Design\", \"Graphic Design\", \"Graphic Design\", \"Graphic Design\", \"Graphic Design\", \"Graphic Design\", \"Graphic Design\", \"Graphic Design\", \"Graphic Design\", \"Graphic Design\", \"Graphic Design\", \"Graphic Design\", \"Graphic Design\", \"Graphic Design\", \"Graphic Design\", \"Graphic Design\", \"Graphic Design\", \"Graphic Design\", \"Graphic Design\", \"Graphic Design\", \"Graphic Design\", \"Graphic Design\", \"Graphic Design\", \"Graphic Design\", \"Graphic Design\", \"Graphic Design\", \"Graphic Design\", \"Graphic Design\", \"Graphic Design\", \"Graphic Design\", \"Graphic Design\", \"Graphic Design\", \"Graphic Design\", \"Graphic Design\", \"Graphic Design\", \"Graphic Design\", \"Graphic Design\", \"Graphic Design\", \"Graphic Design\", \"Graphic Design\", \"Graphic Design\", \"Graphic Design\", \"Graphic Design\", \"Graphic Design\", \"Graphic Design\", \"Graphic Design\", \"Graphic Design\", \"Graphic Design\", \"Graphic Design\", \"Graphic Design\", \"Graphic Design\", \"Graphic Design\", \"Graphic Design\", \"Graphic Design\", \"Graphic Design\", \"Graphic Design\", \"Graphic Design\", \"Graphic Design\", \"Graphic Design\", \"Graphic Design\", \"Graphic Design\", \"Graphic Design\", \"Graphic Design\", \"Graphic Design\", \"Graphic Design\", \"Graphic Design\", \"Graphic Design\", \"Graphic Design\", \"Graphic Design\", \"Graphic Design\", \"Graphic Design\", \"Graphic Design\", \"Graphic Design\", \"Graphic Design\", \"Graphic Design\", \"Graphic Design\", \"Graphic Design\", \"Graphic Design\", \"Graphic Design\", \"Graphic Design\", \"Graphic Design\", \"Graphic Design\", \"Graphic Design\", \"Graphic Design\", \"Graphic Design\", \"Graphic Design\", \"Graphic Design\", \"Graphic Design\", \"Graphic Design\", \"Graphic Design\", \"Graphic Design\", \"Graphic Design\", \"Graphic Design\", \"Graphic Design\", \"Graphic Design\", \"Graphic Design\", \"Graphic Design\", \"Graphic Design\", \"Graphic Design\", \"Graphic Design\", \"Graphic Design\", \"Graphic Design\", \"Graphic Design\", \"Graphic Design\", \"Graphic Design\", \"Graphic Design\", \"Graphic Design\", \"Graphic Design\", \"Graphic Design\", \"Graphic Design\", \"Graphic Design\", \"Graphic Design\", \"Graphic Design\", \"Graphic Design\", \"Graphic Design\", \"Graphic Design\", \"Graphic Design\", \"Graphic Design\", \"Graphic Design\", \"Graphic Design\", \"Graphic Design\", \"Graphic Design\", \"Graphic Design\", \"Graphic Design\", \"Graphic Design\", \"Graphic Design\", \"Graphic Design\", \"Graphic Design\", \"Graphic Design\", \"Graphic Design\", \"Graphic Design\", \"Graphic Design\", \"Graphic Design\", \"Graphic Design\", \"Graphic Design\", \"Graphic Design\", \"Graphic Design\", \"Graphic Design\", \"Graphic Design\", \"Graphic Design\", \"Graphic Design\", \"Graphic Design\", \"Graphic Design\", \"Graphic Design\", \"Graphic Design\", \"Graphic Design\", \"Graphic Design\", \"Graphic Design\", \"Graphic Design\", \"Graphic Design\", \"Graphic Design\", \"Graphic Design\", \"Graphic Design\", \"Graphic Design\", \"Graphic Design\", \"Graphic Design\", \"Graphic Design\", \"Graphic Design\", \"Graphic Design\", \"Graphic Design\", \"Graphic Design\", \"Graphic Design\", \"Graphic Design\", \"Graphic Design\", \"Graphic Design\", \"Graphic Design\", \"Graphic Design\", \"Graphic Design\", \"Graphic Design\", \"Graphic Design\", \"Graphic Design\", \"Graphic Design\", \"Graphic Design\", \"Graphic Design\", \"Graphic Design\", \"Graphic Design\", \"Graphic Design\", \"Graphic Design\", \"Graphic Design\", \"Graphic Design\", \"Graphic Design\", \"Graphic Design\", \"Graphic Design\", \"Graphic Design\", \"Graphic Design\", \"Graphic Design\", \"Graphic Design\", \"Graphic Design\", \"Graphic Design\", \"Graphic Design\", \"Graphic Design\", \"Graphic Design\", \"Graphic Design\", \"Graphic Design\", \"Graphic Design\", \"Graphic Design\", \"Graphic Design\", \"Graphic Design\", \"Graphic Design\", \"Graphic Design\", \"Graphic Design\", \"Graphic Design\", \"Graphic Design\", \"Graphic Design\", \"Graphic Design\", \"Graphic Design\", \"Graphic Design\", \"Graphic Design\", \"Graphic Design\", \"Graphic Design\", \"Graphic Design\", \"Graphic Design\", \"Graphic Design\", \"Graphic Design\", \"Graphic Design\", \"Graphic Design\", \"Graphic Design\", \"Graphic Design\", \"Graphic Design\", \"Graphic Design\", \"Graphic Design\", \"Graphic Design\", \"Graphic Design\", \"Graphic Design\", \"Graphic Design\", \"Graphic Design\", \"Graphic Design\", \"Graphic Design\", \"Graphic Design\", \"Graphic Design\", \"Graphic Design\", \"Graphic Design\", \"Graphic Design\", \"Graphic Design\", \"Graphic Design\", \"Graphic Design\", \"Graphic Design\", \"Graphic Design\", \"Graphic Design\", \"Graphic Design\", \"Graphic Design\", \"Graphic Design\", \"Graphic Design\", \"Graphic Design\", \"Graphic Design\", \"Graphic Design\", \"Graphic Design\", \"Graphic Design\", \"Graphic Design\", \"Graphic Design\", \"Graphic Design\", \"Graphic Design\", \"Graphic Design\", \"Graphic Design\", \"Graphic Design\", \"Graphic Design\", \"Graphic Design\", \"Graphic Design\", \"Graphic Design\", \"Graphic Design\", \"Graphic Design\", \"Graphic Design\", \"Graphic Design\", \"Graphic Design\", \"Graphic Design\", \"Graphic Design\", \"Graphic Design\", \"Graphic Design\", \"Graphic Design\", \"Graphic Design\", \"Graphic Design\", \"Graphic Design\", \"Graphic Design\", \"Graphic Design\", \"Graphic Design\", \"Graphic Design\", \"Graphic Design\", \"Graphic Design\", \"Graphic Design\", \"Graphic Design\", \"Graphic Design\", \"Graphic Design\", \"Graphic Design\", \"Graphic Design\", \"Graphic Design\", \"Graphic Design\", \"Graphic Design\", \"Graphic Design\", \"Graphic Design\", \"Graphic Design\", \"Graphic Design\", \"Graphic Design\", \"Graphic Design\", \"Graphic Design\", \"Graphic Design\", \"Graphic Design\", \"Graphic Design\", \"Graphic Design\", \"Graphic Design\", \"Graphic Design\", \"Graphic Design\", \"Graphic Design\", \"Graphic Design\", \"Graphic Design\", \"Graphic Design\", \"Graphic Design\", \"Graphic Design\", \"Graphic Design\", \"Graphic Design\", \"Graphic Design\", \"Graphic Design\", \"Graphic Design\", \"Graphic Design\", \"Graphic Design\", \"Graphic Design\", \"Graphic Design\", \"Graphic Design\", \"Graphic Design\", \"Graphic Design\", \"Graphic Design\", \"Graphic Design\", \"Graphic Design\", \"Graphic Design\", \"Graphic Design\", \"Graphic Design\", \"Graphic Design\", \"Graphic Design\", \"Graphic Design\", \"Graphic Design\", \"Graphic Design\", \"Graphic Design\", \"Graphic Design\", \"Graphic Design\", \"Graphic Design\", \"Graphic Design\", \"Graphic Design\", \"Graphic Design\", \"Graphic Design\", \"Graphic Design\", \"Graphic Design\", \"Graphic Design\", \"Graphic Design\", \"Graphic Design\", \"Graphic Design\", \"Graphic Design\", \"Graphic Design\", \"Graphic Design\", \"Graphic Design\", \"Graphic Design\", \"Graphic Design\", \"Graphic Design\", \"Graphic Design\", \"Graphic Design\", \"Graphic Design\", \"Graphic Design\", \"Graphic Design\", \"Graphic Design\", \"Graphic Design\", \"Graphic Design\", \"Graphic Design\", \"Graphic Design\", \"Graphic Design\", \"Graphic Design\", \"Graphic Design\", \"Graphic Design\", \"Graphic Design\", \"Graphic Design\", \"Graphic Design\", \"Graphic Design\", \"Graphic Design\", \"Graphic Design\", \"Graphic Design\", \"Graphic Design\", \"Graphic Design\", \"Graphic Design\", \"Graphic Design\", \"Graphic Design\", \"Graphic Design\", \"Graphic Design\", \"Graphic Design\", \"Graphic Design\", \"Graphic Design\", \"Graphic Design\", \"Graphic Design\", \"Graphic Design\", \"Graphic Design\", \"Graphic Design\", \"Graphic Design\", \"Graphic Design\", \"Graphic Design\", \"Graphic Design\", \"Graphic Design\", \"Graphic Design\", \"Graphic Design\", \"Graphic Design\", \"Graphic Design\", \"Graphic Design\", \"Graphic Design\", \"Graphic Design\", \"Graphic Design\", \"Graphic Design\", \"Graphic Design\", \"Graphic Design\", \"Graphic Design\", \"Graphic Design\", \"Graphic Design\", \"Graphic Design\", \"Graphic Design\", \"Graphic Design\", \"Graphic Design\", \"Graphic Design\", \"Graphic Design\", \"Graphic Design\", \"Graphic Design\", \"Graphic Design\", \"Graphic Design\", \"Graphic Design\", \"Graphic Design\", \"Graphic Design\", \"Graphic Design\", \"Graphic Design\", \"Graphic Design\", \"Graphic Design\", \"Graphic Design\", \"Graphic Design\", \"Graphic Design\", \"Graphic Design\", \"Graphic Design\", \"Graphic Design\", \"Graphic Design\", \"Graphic Design\", \"Graphic Design\", \"Graphic Design\", \"Graphic Design\", \"Graphic Design\", \"Graphic Design\", \"Graphic Design\", \"Graphic Design\", \"Graphic Design\", \"Graphic Design\", \"Graphic Design\", \"Graphic Design\", \"Graphic Design\", \"Graphic Design\", \"Graphic Design\", \"Graphic Design\", \"Graphic Design\", \"Graphic Design\", \"Graphic Design\", \"Graphic Design\", \"Graphic Design\", \"Graphic Design\", \"Graphic Design\", \"Graphic Design\", \"Graphic Design\", \"Graphic Design\", \"Graphic Design\", \"Graphic Design\", \"Graphic Design\", \"Graphic Design\", \"Graphic Design\", \"Graphic Design\", \"Graphic Design\", \"Graphic Design\", \"Graphic Design\", \"Graphic Design\", \"Graphic Design\", \"Graphic Design\", \"Graphic Design\", \"Graphic Design\", \"Graphic Design\", \"Graphic Design\", \"Graphic Design\", \"Graphic Design\", \"Graphic Design\", \"Graphic Design\", \"Graphic Design\", \"Graphic Design\", \"Graphic Design\", \"Graphic Design\", \"Graphic Design\", \"Graphic Design\", \"Graphic Design\", \"Graphic Design\", \"Graphic Design\", \"Graphic Design\", \"Graphic Design\", \"Graphic Design\", \"Graphic Design\", \"Graphic Design\", \"Graphic Design\", \"Graphic Design\", \"Graphic Design\", \"Graphic Design\", \"Graphic Design\", \"Graphic Design\", \"Graphic Design\", \"Graphic Design\", \"Graphic Design\", \"Graphic Design\", \"Graphic Design\", \"Graphic Design\", \"Graphic Design\", \"Graphic Design\", \"Graphic Design\", \"Graphic Design\", \"Graphic Design\", \"Graphic Design\", \"Graphic Design\", \"Graphic Design\", \"Graphic Design\", \"Graphic Design\", \"Graphic Design\", \"Graphic Design\", \"Musical Instruments\", \"Musical Instruments\", \"Musical Instruments\", \"Musical Instruments\", \"Musical Instruments\", \"Musical Instruments\", \"Musical Instruments\", \"Musical Instruments\", \"Musical Instruments\", \"Musical Instruments\", \"Musical Instruments\", \"Musical Instruments\", \"Musical Instruments\", \"Musical Instruments\", \"Musical Instruments\", \"Musical Instruments\", \"Musical Instruments\", \"Musical Instruments\", \"Musical Instruments\", \"Musical Instruments\", \"Musical Instruments\", \"Musical Instruments\", \"Musical Instruments\", \"Musical Instruments\", \"Musical Instruments\", \"Musical Instruments\", \"Musical Instruments\", \"Musical Instruments\", \"Musical Instruments\", \"Musical Instruments\", \"Musical Instruments\", \"Musical Instruments\", \"Musical Instruments\", \"Musical Instruments\", \"Musical Instruments\", \"Musical Instruments\", \"Musical Instruments\", \"Musical Instruments\", \"Musical Instruments\", \"Musical Instruments\", \"Musical Instruments\", \"Musical Instruments\", \"Musical Instruments\", \"Musical Instruments\", \"Musical Instruments\", \"Musical Instruments\", \"Musical Instruments\", \"Musical Instruments\", \"Musical Instruments\", \"Musical Instruments\", \"Musical Instruments\", \"Musical Instruments\", \"Musical Instruments\", \"Musical Instruments\", \"Musical Instruments\", \"Musical Instruments\", \"Musical Instruments\", \"Musical Instruments\", \"Musical Instruments\", \"Musical Instruments\", \"Musical Instruments\", \"Musical Instruments\", \"Musical Instruments\", \"Musical Instruments\", \"Musical Instruments\", \"Musical Instruments\", \"Musical Instruments\", \"Musical Instruments\", \"Musical Instruments\", \"Musical Instruments\", \"Musical Instruments\", \"Musical Instruments\", \"Musical Instruments\", \"Musical Instruments\", \"Musical Instruments\", \"Musical Instruments\", \"Musical Instruments\", \"Musical Instruments\", \"Musical Instruments\", \"Musical Instruments\", \"Musical Instruments\", \"Musical Instruments\", \"Musical Instruments\", \"Musical Instruments\", \"Musical Instruments\", \"Musical Instruments\", \"Musical Instruments\", \"Musical Instruments\", \"Musical Instruments\", \"Musical Instruments\", \"Musical Instruments\", \"Musical Instruments\", \"Musical Instruments\", \"Musical Instruments\", \"Musical Instruments\", \"Musical Instruments\", \"Musical Instruments\", \"Musical Instruments\", \"Musical Instruments\", \"Musical Instruments\", \"Musical Instruments\", \"Musical Instruments\", \"Musical Instruments\", \"Musical Instruments\", \"Musical Instruments\", \"Musical Instruments\", \"Musical Instruments\", \"Musical Instruments\", \"Musical Instruments\", \"Musical Instruments\", \"Musical Instruments\", \"Musical Instruments\", \"Musical Instruments\", \"Musical Instruments\", \"Musical Instruments\", \"Musical Instruments\", \"Musical Instruments\", \"Musical Instruments\", \"Musical Instruments\", \"Musical Instruments\", \"Musical Instruments\", \"Musical Instruments\", \"Musical Instruments\", \"Musical Instruments\", \"Musical Instruments\", \"Musical Instruments\", \"Musical Instruments\", \"Musical Instruments\", \"Musical Instruments\", \"Musical Instruments\", \"Musical Instruments\", \"Musical Instruments\", \"Musical Instruments\", \"Musical Instruments\", \"Musical Instruments\", \"Musical Instruments\", \"Musical Instruments\", \"Musical Instruments\", \"Musical Instruments\", \"Musical Instruments\", \"Musical Instruments\", \"Musical Instruments\", \"Musical Instruments\", \"Musical Instruments\", \"Musical Instruments\", \"Musical Instruments\", \"Musical Instruments\", \"Musical Instruments\", \"Musical Instruments\", \"Musical Instruments\", \"Musical Instruments\", \"Musical Instruments\", \"Musical Instruments\", \"Musical Instruments\", \"Musical Instruments\", \"Musical Instruments\", \"Musical Instruments\", \"Musical Instruments\", \"Musical Instruments\", \"Musical Instruments\", \"Musical Instruments\", \"Musical Instruments\", \"Musical Instruments\", \"Musical Instruments\", \"Musical Instruments\", \"Musical Instruments\", \"Musical Instruments\", \"Musical Instruments\", \"Musical Instruments\", \"Musical Instruments\", \"Musical Instruments\", \"Musical Instruments\", \"Musical Instruments\", \"Musical Instruments\", \"Musical Instruments\", \"Musical Instruments\", \"Musical Instruments\", \"Musical Instruments\", \"Musical Instruments\", \"Musical Instruments\", \"Musical Instruments\", \"Musical Instruments\", \"Musical Instruments\", \"Musical Instruments\", \"Musical Instruments\", \"Musical Instruments\", \"Musical Instruments\", \"Musical Instruments\", \"Musical Instruments\", \"Musical Instruments\", \"Musical Instruments\", \"Musical Instruments\", \"Musical Instruments\", \"Musical Instruments\", \"Musical Instruments\", \"Musical Instruments\", \"Musical Instruments\", \"Musical Instruments\", \"Musical Instruments\", \"Musical Instruments\", \"Musical Instruments\", \"Musical Instruments\", \"Musical Instruments\", \"Musical Instruments\", \"Musical Instruments\", \"Musical Instruments\", \"Musical Instruments\", \"Musical Instruments\", \"Musical Instruments\", \"Musical Instruments\", \"Musical Instruments\", \"Musical Instruments\", \"Musical Instruments\", \"Musical Instruments\", \"Musical Instruments\", \"Musical Instruments\", \"Musical Instruments\", \"Musical Instruments\", \"Musical Instruments\", \"Musical Instruments\", \"Musical Instruments\", \"Musical Instruments\", \"Musical Instruments\", \"Musical Instruments\", \"Musical Instruments\", \"Musical Instruments\", \"Musical Instruments\", \"Musical Instruments\", \"Musical Instruments\", \"Musical Instruments\", \"Musical Instruments\", \"Musical Instruments\", \"Musical Instruments\", \"Musical Instruments\", \"Musical Instruments\", \"Musical Instruments\", \"Musical Instruments\", \"Musical Instruments\", \"Musical Instruments\", \"Musical Instruments\", \"Musical Instruments\", \"Musical Instruments\", \"Musical Instruments\", \"Musical Instruments\", \"Musical Instruments\", \"Musical Instruments\", \"Musical Instruments\", \"Musical Instruments\", \"Musical Instruments\", \"Musical Instruments\", \"Musical Instruments\", \"Musical Instruments\", \"Musical Instruments\", \"Musical Instruments\", \"Musical Instruments\", \"Musical Instruments\", \"Musical Instruments\", \"Musical Instruments\", \"Musical Instruments\", \"Musical Instruments\", \"Musical Instruments\", \"Musical Instruments\", \"Musical Instruments\", \"Musical Instruments\", \"Musical Instruments\", \"Musical Instruments\", \"Musical Instruments\", \"Musical Instruments\", \"Musical Instruments\", \"Musical Instruments\", \"Musical Instruments\", \"Musical Instruments\", \"Musical Instruments\", \"Musical Instruments\", \"Musical Instruments\", \"Musical Instruments\", \"Musical Instruments\", \"Musical Instruments\", \"Musical Instruments\", \"Musical Instruments\", \"Musical Instruments\", \"Musical Instruments\", \"Musical Instruments\", \"Musical Instruments\", \"Musical Instruments\", \"Musical Instruments\", \"Musical Instruments\", \"Musical Instruments\", \"Musical Instruments\", \"Musical Instruments\", \"Musical Instruments\", \"Musical Instruments\", \"Musical Instruments\", \"Musical Instruments\", \"Musical Instruments\", \"Musical Instruments\", \"Musical Instruments\", \"Musical Instruments\", \"Musical Instruments\", \"Musical Instruments\", \"Musical Instruments\", \"Musical Instruments\", \"Musical Instruments\", \"Musical Instruments\", \"Musical Instruments\", \"Musical Instruments\", \"Musical Instruments\", \"Musical Instruments\", \"Musical Instruments\", \"Musical Instruments\", \"Musical Instruments\", \"Musical Instruments\", \"Musical Instruments\", \"Musical Instruments\", \"Musical Instruments\", \"Musical Instruments\", \"Musical Instruments\", \"Musical Instruments\", \"Musical Instruments\", \"Musical Instruments\", \"Musical Instruments\", \"Musical Instruments\", \"Musical Instruments\", \"Musical Instruments\", \"Musical Instruments\", \"Musical Instruments\", \"Musical Instruments\", \"Musical Instruments\", \"Musical Instruments\", \"Musical Instruments\", \"Musical Instruments\", \"Musical Instruments\", \"Musical Instruments\", \"Musical Instruments\", \"Musical Instruments\", \"Musical Instruments\", \"Musical Instruments\", \"Musical Instruments\", \"Musical Instruments\", \"Musical Instruments\", \"Musical Instruments\", \"Musical Instruments\", \"Musical Instruments\", \"Musical Instruments\", \"Musical Instruments\", \"Musical Instruments\", \"Musical Instruments\", \"Musical Instruments\", \"Musical Instruments\", \"Musical Instruments\", \"Musical Instruments\", \"Musical Instruments\", \"Musical Instruments\", \"Musical Instruments\", \"Musical Instruments\", \"Musical Instruments\", \"Musical Instruments\", \"Musical Instruments\", \"Musical Instruments\", \"Musical Instruments\", \"Musical Instruments\", \"Musical Instruments\", \"Musical Instruments\", \"Musical Instruments\", \"Musical Instruments\", \"Musical Instruments\", \"Musical Instruments\", \"Musical Instruments\", \"Musical Instruments\", \"Musical Instruments\", \"Musical Instruments\", \"Musical Instruments\", \"Musical Instruments\", \"Musical Instruments\", \"Musical Instruments\", \"Musical Instruments\", \"Musical Instruments\", \"Musical Instruments\", \"Musical Instruments\", \"Musical Instruments\", \"Musical Instruments\", \"Musical Instruments\", \"Musical Instruments\", \"Musical Instruments\", \"Musical Instruments\", \"Musical Instruments\", \"Musical Instruments\", \"Musical Instruments\", \"Musical Instruments\", \"Musical Instruments\", \"Musical Instruments\", \"Musical Instruments\", \"Musical Instruments\", \"Musical Instruments\", \"Musical Instruments\", \"Musical Instruments\", \"Musical Instruments\", \"Musical Instruments\", \"Musical Instruments\", \"Musical Instruments\", \"Musical Instruments\", \"Musical Instruments\", \"Musical Instruments\", \"Musical Instruments\", \"Musical Instruments\", \"Musical Instruments\", \"Musical Instruments\", \"Musical Instruments\", \"Musical Instruments\", \"Musical Instruments\", \"Musical Instruments\", \"Musical Instruments\", \"Musical Instruments\", \"Musical Instruments\", \"Musical Instruments\", \"Musical Instruments\", \"Musical Instruments\", \"Musical Instruments\", \"Musical Instruments\", \"Musical Instruments\", \"Musical Instruments\", \"Musical Instruments\", \"Musical Instruments\", \"Musical Instruments\", \"Musical Instruments\", \"Musical Instruments\", \"Musical Instruments\", \"Musical Instruments\", \"Musical Instruments\", \"Musical Instruments\", \"Musical Instruments\", \"Musical Instruments\", \"Musical Instruments\", \"Musical Instruments\", \"Musical Instruments\", \"Musical Instruments\", \"Musical Instruments\", \"Musical Instruments\", \"Musical Instruments\", \"Musical Instruments\", \"Musical Instruments\", \"Musical Instruments\", \"Musical Instruments\", \"Musical Instruments\", \"Musical Instruments\", \"Musical Instruments\", \"Musical Instruments\", \"Musical Instruments\", \"Musical Instruments\", \"Musical Instruments\", \"Musical Instruments\", \"Musical Instruments\", \"Musical Instruments\", \"Musical Instruments\", \"Musical Instruments\", \"Musical Instruments\", \"Musical Instruments\", \"Musical Instruments\", \"Musical Instruments\", \"Musical Instruments\", \"Musical Instruments\", \"Musical Instruments\", \"Musical Instruments\", \"Musical Instruments\", \"Musical Instruments\", \"Musical Instruments\", \"Musical Instruments\", \"Musical Instruments\", \"Musical Instruments\", \"Musical Instruments\", \"Musical Instruments\", \"Musical Instruments\", \"Musical Instruments\", \"Musical Instruments\", \"Musical Instruments\", \"Musical Instruments\", \"Musical Instruments\", \"Musical Instruments\", \"Musical Instruments\", \"Musical Instruments\", \"Musical Instruments\", \"Musical Instruments\", \"Musical Instruments\", \"Musical Instruments\", \"Musical Instruments\", \"Musical Instruments\", \"Musical Instruments\", \"Musical Instruments\", \"Musical Instruments\", \"Musical Instruments\", \"Musical Instruments\", \"Musical Instruments\", \"Musical Instruments\", \"Musical Instruments\", \"Musical Instruments\", \"Musical Instruments\", \"Musical Instruments\", \"Musical Instruments\", \"Musical Instruments\", \"Musical Instruments\", \"Musical Instruments\", \"Musical Instruments\", \"Musical Instruments\", \"Musical Instruments\", \"Musical Instruments\", \"Musical Instruments\", \"Musical Instruments\", \"Musical Instruments\", \"Musical Instruments\", \"Musical Instruments\", \"Musical Instruments\", \"Musical Instruments\", \"Musical Instruments\", \"Musical Instruments\", \"Musical Instruments\", \"Musical Instruments\", \"Musical Instruments\", \"Musical Instruments\", \"Musical Instruments\", \"Musical Instruments\", \"Musical Instruments\", \"Musical Instruments\", \"Musical Instruments\", \"Musical Instruments\", \"Musical Instruments\", \"Musical Instruments\", \"Musical Instruments\", \"Musical Instruments\", \"Musical Instruments\", \"Musical Instruments\", \"Musical Instruments\", \"Musical Instruments\", \"Musical Instruments\", \"Musical Instruments\", \"Musical Instruments\", \"Musical Instruments\", \"Musical Instruments\", \"Musical Instruments\", \"Musical Instruments\", \"Musical Instruments\", \"Musical Instruments\", \"Musical Instruments\", \"Musical Instruments\", \"Musical Instruments\", \"Musical Instruments\", \"Musical Instruments\", \"Musical Instruments\", \"Musical Instruments\", \"Musical Instruments\", \"Musical Instruments\", \"Musical Instruments\", \"Musical Instruments\", \"Musical Instruments\", \"Musical Instruments\", \"Musical Instruments\", \"Musical Instruments\", \"Musical Instruments\", \"Musical Instruments\", \"Musical Instruments\", \"Musical Instruments\", \"Musical Instruments\", \"Musical Instruments\", \"Musical Instruments\", \"Musical Instruments\", \"Musical Instruments\", \"Musical Instruments\", \"Musical Instruments\", \"Musical Instruments\", \"Musical Instruments\", \"Musical Instruments\", \"Musical Instruments\", \"Musical Instruments\", \"Musical Instruments\", \"Musical Instruments\", \"Musical Instruments\", \"Musical Instruments\", \"Musical Instruments\", \"Musical Instruments\", \"Musical Instruments\", \"Musical Instruments\", \"Musical Instruments\", \"Musical Instruments\", \"Musical Instruments\", \"Musical Instruments\", \"Musical Instruments\", \"Musical Instruments\", \"Musical Instruments\", \"Musical Instruments\", \"Musical Instruments\", \"Musical Instruments\", \"Musical Instruments\", \"Musical Instruments\", \"Musical Instruments\", \"Musical Instruments\", \"Musical Instruments\", \"Musical Instruments\", \"Musical Instruments\", \"Musical Instruments\", \"Musical Instruments\", \"Musical Instruments\", \"Musical Instruments\", \"Musical Instruments\", \"Musical Instruments\", \"Musical Instruments\", \"Musical Instruments\", \"Musical Instruments\", \"Musical Instruments\", \"Musical Instruments\", \"Musical Instruments\", \"Musical Instruments\", \"Musical Instruments\", \"Musical Instruments\", \"Musical Instruments\", \"Musical Instruments\", \"Musical Instruments\", \"Musical Instruments\", \"Musical Instruments\", \"Musical Instruments\", \"Musical Instruments\", \"Musical Instruments\", \"Musical Instruments\", \"Musical Instruments\", \"Musical Instruments\", \"Musical Instruments\", \"Musical Instruments\", \"Musical Instruments\", \"Musical Instruments\", \"Musical Instruments\", \"Musical Instruments\", \"Musical Instruments\", \"Musical Instruments\", \"Musical Instruments\", \"Musical Instruments\", \"Musical Instruments\", \"Musical Instruments\", \"Musical Instruments\", \"Musical Instruments\", \"Musical Instruments\", \"Musical Instruments\", \"Musical Instruments\", \"Musical Instruments\", \"Musical Instruments\", \"Musical Instruments\", \"Musical Instruments\", \"Musical Instruments\", \"Musical Instruments\", \"Musical Instruments\", \"Musical Instruments\", \"Musical Instruments\", \"Musical Instruments\", \"Musical Instruments\", \"Musical Instruments\", \"Musical Instruments\", \"Musical Instruments\", \"Musical Instruments\", \"Musical Instruments\", \"Musical Instruments\", \"Musical Instruments\", \"Musical Instruments\", \"Musical Instruments\", \"Musical Instruments\", \"Musical Instruments\", \"Musical Instruments\", \"Musical Instruments\", \"Musical Instruments\", \"Musical Instruments\", \"Musical Instruments\", \"Musical Instruments\", \"Musical Instruments\", \"Musical Instruments\", \"Musical Instruments\", \"Musical Instruments\", \"Musical Instruments\", \"Musical Instruments\", \"Musical Instruments\", \"Musical Instruments\", \"Musical Instruments\", \"Musical Instruments\", \"Musical Instruments\", \"Musical Instruments\", \"Web Development\", \"Web Development\", \"Web Development\", \"Web Development\", \"Web Development\", \"Web Development\", \"Web Development\", \"Web Development\", \"Web Development\", \"Web Development\", \"Web Development\", \"Web Development\", \"Web Development\", \"Web Development\", \"Web Development\", \"Web Development\", \"Web Development\", \"Web Development\", \"Web Development\", \"Web Development\", \"Web Development\", \"Web Development\", \"Web Development\", \"Web Development\", \"Web Development\", \"Web Development\", \"Web Development\", \"Web Development\", \"Web Development\", \"Web Development\", \"Web Development\", \"Web Development\", \"Web Development\", \"Web Development\", \"Web Development\", \"Web Development\", \"Web Development\", \"Web Development\", \"Web Development\", \"Web Development\", \"Web Development\", \"Web Development\", \"Web Development\", \"Web Development\", \"Web Development\", \"Web Development\", \"Web Development\", \"Web Development\", \"Web Development\", \"Web Development\", \"Web Development\", \"Web Development\", \"Web Development\", \"Web Development\", \"Web Development\", \"Web Development\", \"Web Development\", \"Web Development\", \"Web Development\", \"Web Development\", \"Web Development\", \"Web Development\", \"Web Development\", \"Web Development\", \"Web Development\", \"Web Development\", \"Web Development\", \"Web Development\", \"Web Development\", \"Web Development\", \"Web Development\", \"Web Development\", \"Web Development\", \"Web Development\", \"Web Development\", \"Web Development\", \"Web Development\", \"Web Development\", \"Web Development\", \"Web Development\", \"Web Development\", \"Web Development\", \"Web Development\", \"Web Development\", \"Web Development\", \"Web Development\", \"Web Development\", \"Web Development\", \"Web Development\", \"Web Development\", \"Web Development\", \"Web Development\", \"Web Development\", \"Web Development\", \"Web Development\", \"Web Development\", \"Web Development\", \"Web Development\", \"Web Development\", \"Web Development\", \"Web Development\", \"Web Development\", \"Web Development\", \"Web Development\", \"Web Development\", \"Web Development\", \"Web Development\", \"Web Development\", \"Web Development\", \"Web Development\", \"Web Development\", \"Web Development\", \"Web Development\", \"Web Development\", \"Web Development\", \"Web Development\", \"Web Development\", \"Web Development\", \"Web Development\", \"Web Development\", \"Web Development\", \"Web Development\", \"Web Development\", \"Web Development\", \"Web Development\", \"Web Development\", \"Web Development\", \"Web Development\", \"Web Development\", \"Web Development\", \"Web Development\", \"Web Development\", \"Web Development\", \"Web Development\", \"Web Development\", \"Web Development\", \"Web Development\", \"Web Development\", \"Web Development\", \"Web Development\", \"Web Development\", \"Web Development\", \"Web Development\", \"Web Development\", \"Web Development\", \"Web Development\", \"Web Development\", \"Web Development\", \"Web Development\", \"Web Development\", \"Web Development\", \"Web Development\", \"Web Development\", \"Web Development\", \"Web Development\", \"Web Development\", \"Web Development\", \"Web Development\", \"Web Development\", \"Web Development\", \"Web Development\", \"Web Development\", \"Web Development\", \"Web Development\", \"Web Development\", \"Web Development\", \"Web Development\", \"Web Development\", \"Web Development\", \"Web Development\", \"Web Development\", \"Web Development\", \"Web Development\", \"Web Development\", \"Web Development\", \"Web Development\", \"Web Development\", \"Web Development\", \"Web Development\", \"Web Development\", \"Web Development\", \"Web Development\", \"Web Development\", \"Web Development\", \"Web Development\", \"Web Development\", \"Web Development\", \"Web Development\", \"Web Development\", \"Web Development\", \"Web Development\", \"Web Development\", \"Web Development\", \"Web Development\", \"Web Development\", \"Web Development\", \"Web Development\", \"Web Development\", \"Web Development\", \"Web Development\", \"Web Development\", \"Web Development\", \"Web Development\", \"Web Development\", \"Web Development\", \"Web Development\", \"Web Development\", \"Web Development\", \"Web Development\", \"Web Development\", \"Web Development\", \"Web Development\", \"Web Development\", \"Web Development\", \"Web Development\", \"Web Development\", \"Web Development\", \"Web Development\", \"Web Development\", \"Web Development\", \"Web Development\", \"Web Development\", \"Web Development\", \"Web Development\", \"Web Development\", \"Web Development\", \"Web Development\", \"Web Development\", \"Web Development\", \"Web Development\", \"Web Development\", \"Web Development\", \"Web Development\", \"Web Development\", \"Web Development\", \"Web Development\", \"Web Development\", \"Web Development\", \"Web Development\", \"Web Development\", \"Web Development\", \"Web Development\", \"Web Development\", \"Web Development\", \"Web Development\", \"Web Development\", \"Web Development\", \"Web Development\", \"Web Development\", \"Web Development\", \"Web Development\", \"Web Development\", \"Web Development\", \"Web Development\", \"Web Development\", \"Web Development\", \"Web Development\", \"Web Development\", \"Web Development\", \"Web Development\", \"Web Development\", \"Web Development\", \"Web Development\", \"Web Development\", \"Web Development\", \"Web Development\", \"Web Development\", \"Web Development\", \"Web Development\", \"Web Development\", \"Web Development\", \"Web Development\", \"Web Development\", \"Web Development\", \"Web Development\", \"Web Development\", \"Web Development\", \"Web Development\", \"Web Development\", \"Web Development\", \"Web Development\", \"Web Development\", \"Web Development\", \"Web Development\", \"Web Development\", \"Web Development\", \"Web Development\", \"Web Development\", \"Web Development\", \"Web Development\", \"Web Development\", \"Web Development\", \"Web Development\", \"Web Development\", \"Web Development\", \"Web Development\", \"Web Development\", \"Web Development\", \"Web Development\", \"Web Development\", \"Web Development\", \"Web Development\", \"Web Development\", \"Web Development\", \"Web Development\", \"Web Development\", \"Web Development\", \"Web Development\", \"Web Development\", \"Web Development\", \"Web Development\", \"Web Development\", \"Web Development\", \"Web Development\", \"Web Development\", \"Web Development\", \"Web Development\", \"Web Development\", \"Web Development\", \"Web Development\", \"Web Development\", \"Web Development\", \"Web Development\", \"Web Development\", \"Web Development\", \"Web Development\", \"Web Development\", \"Web Development\", \"Web Development\", \"Web Development\", \"Web Development\", \"Web Development\", \"Web Development\", \"Web Development\", \"Web Development\", \"Web Development\", \"Web Development\", \"Web Development\", \"Web Development\", \"Web Development\", \"Web Development\", \"Web Development\", \"Web Development\", \"Web Development\", \"Web Development\", \"Web Development\", \"Web Development\", \"Web Development\", \"Web Development\", \"Web Development\", \"Web Development\", \"Web Development\", \"Web Development\", \"Web Development\", \"Web Development\", \"Web Development\", \"Web Development\", \"Web Development\", \"Web Development\", \"Web Development\", \"Web Development\", \"Web Development\", \"Web Development\", \"Web Development\", \"Web Development\", \"Web Development\", \"Web Development\", \"Web Development\", \"Web Development\", \"Web Development\", \"Web Development\", \"Web Development\", \"Web Development\", \"Web Development\", \"Web Development\", \"Web Development\", \"Web Development\", \"Web Development\", \"Web Development\", \"Web Development\", \"Web Development\", \"Web Development\", \"Web Development\", \"Web Development\", \"Web Development\", \"Web Development\", \"Web Development\", \"Web Development\", \"Web Development\", \"Web Development\", \"Web Development\", \"Web Development\", \"Web Development\", \"Web Development\", \"Web Development\", \"Web Development\", \"Web Development\", \"Web Development\", \"Web Development\", \"Web Development\", \"Web Development\", \"Web Development\", \"Web Development\", \"Web Development\", \"Web Development\", \"Web Development\", \"Web Development\", \"Web Development\", \"Web Development\", \"Web Development\", \"Web Development\", \"Web Development\", \"Web Development\", \"Web Development\", \"Web Development\", \"Web Development\", \"Web Development\", \"Web Development\", \"Web Development\", \"Web Development\", \"Web Development\", \"Web Development\", \"Web Development\", \"Web Development\", \"Web Development\", \"Web Development\", \"Web Development\", \"Web Development\", \"Web Development\", \"Web Development\", \"Web Development\", \"Web Development\", \"Web Development\", \"Web Development\", \"Web Development\", \"Web Development\", \"Web Development\", \"Web Development\", \"Web Development\", \"Web Development\", \"Web Development\", \"Web Development\", \"Web Development\", \"Web Development\", \"Web Development\", \"Web Development\", \"Web Development\", \"Web Development\", \"Web Development\", \"Web Development\", \"Web Development\", \"Web Development\", \"Web Development\", \"Web Development\", \"Web Development\", \"Web Development\", \"Web Development\", \"Web Development\", \"Web Development\", \"Web Development\", \"Web Development\", \"Web Development\", \"Web Development\", \"Web Development\", \"Web Development\", \"Web Development\", \"Web Development\", \"Web Development\", \"Web Development\", \"Web Development\", \"Web Development\", \"Web Development\", \"Web Development\", \"Web Development\", \"Web Development\", \"Web Development\", \"Web Development\", \"Web Development\", \"Web Development\", \"Web Development\", \"Web Development\", \"Web Development\", \"Web Development\", \"Web Development\", \"Web Development\", \"Web Development\", \"Web Development\", \"Web Development\", \"Web Development\", \"Web Development\", \"Web Development\", \"Web Development\", \"Web Development\", \"Web Development\", \"Web Development\", \"Web Development\", \"Web Development\", \"Web Development\", \"Web Development\", \"Web Development\", \"Web Development\", \"Web Development\", \"Web Development\", \"Web Development\", \"Web Development\", \"Web Development\", \"Web Development\", \"Web Development\", \"Web Development\", \"Web Development\", \"Web Development\", \"Web Development\", \"Web Development\", \"Web Development\", \"Web Development\", \"Web Development\", \"Web Development\", \"Web Development\", \"Web Development\", \"Web Development\", \"Web Development\", \"Web Development\", \"Web Development\", \"Web Development\", \"Web Development\", \"Web Development\", \"Web Development\", \"Web Development\", \"Web Development\", \"Web Development\", \"Web Development\", \"Web Development\", \"Web Development\", \"Web Development\", \"Web Development\", \"Web Development\", \"Web Development\", \"Web Development\", \"Web Development\", \"Web Development\", \"Web Development\", \"Web Development\", \"Web Development\", \"Web Development\", \"Web Development\", \"Web Development\", \"Web Development\", \"Web Development\", \"Web Development\", \"Web Development\", \"Web Development\", \"Web Development\", \"Web Development\", \"Web Development\", \"Web Development\", \"Web Development\", \"Web Development\", \"Web Development\", \"Web Development\", \"Web Development\", \"Web Development\", \"Web Development\", \"Web Development\", \"Web Development\", \"Web Development\", \"Web Development\", \"Web Development\", \"Web Development\", \"Web Development\", \"Web Development\", \"Web Development\", \"Web Development\", \"Web Development\", \"Web Development\", \"Web Development\", \"Web Development\", \"Web Development\", \"Web Development\", \"Web Development\", \"Web Development\", \"Web Development\", \"Web Development\", \"Web Development\", \"Web Development\", \"Web Development\", \"Web Development\", \"Web Development\", \"Web Development\", \"Web Development\", \"Web Development\", \"Web Development\", \"Web Development\", \"Web Development\", \"Web Development\", \"Web Development\", \"Web Development\", \"Web Development\", \"Web Development\", \"Web Development\", \"Web Development\", \"Web Development\", \"Web Development\", \"Web Development\", \"Web Development\", \"Web Development\", \"Web Development\", \"Web Development\", \"Web Development\", \"Web Development\", \"Web Development\", \"Web Development\", \"Web Development\", \"Web Development\", \"Web Development\", \"Web Development\", \"Web Development\", \"Web Development\", \"Web Development\", \"Web Development\", \"Web Development\", \"Web Development\", \"Web Development\", \"Web Development\", \"Web Development\", \"Web Development\", \"Web Development\", \"Web Development\", \"Web Development\", \"Web Development\", \"Web Development\", \"Web Development\", \"Web Development\", \"Web Development\", \"Web Development\", \"Web Development\", \"Web Development\", \"Web Development\", \"Web Development\", \"Web Development\", \"Web Development\", \"Web Development\", \"Web Development\", \"Web Development\", \"Web Development\", \"Web Development\", \"Web Development\", \"Web Development\", \"Web Development\", \"Web Development\", \"Web Development\", \"Web Development\", \"Web Development\", \"Web Development\", \"Web Development\", \"Web Development\", \"Web Development\", \"Web Development\", \"Web Development\", \"Web Development\", \"Web Development\", \"Web Development\", \"Web Development\", \"Web Development\", \"Web Development\", \"Web Development\", \"Web Development\", \"Web Development\", \"Web Development\", \"Web Development\", \"Web Development\", \"Web Development\", \"Web Development\", \"Web Development\", \"Web Development\", \"Web Development\", \"Web Development\", \"Web Development\", \"Web Development\", \"Web Development\", \"Web Development\", \"Web Development\", \"Web Development\", \"Web Development\", \"Web Development\", \"Web Development\", \"Web Development\", \"Web Development\", \"Web Development\", \"Web Development\", \"Web Development\", \"Web Development\", \"Web Development\", \"Web Development\", \"Web Development\", \"Web Development\", \"Web Development\", \"Web Development\", \"Web Development\", \"Web Development\", \"Web Development\", \"Web Development\", \"Web Development\", \"Web Development\", \"Web Development\", \"Web Development\", \"Web Development\", \"Web Development\", \"Web Development\", \"Web Development\", \"Web Development\", \"Web Development\", \"Web Development\", \"Web Development\", \"Web Development\", \"Web Development\", \"Web Development\", \"Web Development\", \"Web Development\", \"Web Development\", \"Web Development\", \"Web Development\", \"Web Development\", \"Web Development\", \"Web Development\", \"Web Development\", \"Web Development\", \"Web Development\", \"Web Development\", \"Web Development\", \"Web Development\", \"Web Development\", \"Web Development\", \"Web Development\", \"Web Development\", \"Web Development\", \"Web Development\", \"Web Development\", \"Web Development\", \"Web Development\", \"Web Development\", \"Web Development\", \"Web Development\", \"Web Development\", \"Web Development\", \"Web Development\", \"Web Development\", \"Web Development\", \"Web Development\", \"Web Development\", \"Web Development\", \"Web Development\", \"Web Development\", \"Web Development\", \"Web Development\", \"Web Development\", \"Web Development\", \"Web Development\", \"Web Development\", \"Web Development\", \"Web Development\", \"Web Development\", \"Web Development\", \"Web Development\", \"Web Development\", \"Web Development\", \"Web Development\", \"Web Development\", \"Web Development\", \"Web Development\", \"Web Development\", \"Web Development\", \"Web Development\", \"Web Development\", \"Web Development\", \"Web Development\", \"Web Development\", \"Web Development\", \"Web Development\", \"Web Development\", \"Web Development\", \"Web Development\", \"Web Development\", \"Web Development\", \"Web Development\", \"Web Development\", \"Web Development\", \"Web Development\", \"Web Development\", \"Web Development\", \"Web Development\", \"Web Development\", \"Web Development\", \"Web Development\", \"Web Development\", \"Web Development\", \"Web Development\", \"Web Development\", \"Web Development\", \"Web Development\", \"Web Development\", \"Web Development\", \"Web Development\", \"Web Development\", \"Web Development\", \"Web Development\", \"Web Development\", \"Web Development\", \"Web Development\", \"Web Development\", \"Web Development\", \"Web Development\", \"Web Development\", \"Web Development\", \"Web Development\", \"Web Development\", \"Web Development\", \"Web Development\", \"Web Development\", \"Web Development\", \"Web Development\", \"Web Development\", \"Web Development\", \"Web Development\", \"Web Development\", \"Web Development\", \"Web Development\", \"Web Development\", \"Web Development\", \"Web Development\", \"Web Development\", \"Web Development\", \"Web Development\", \"Web Development\", \"Web Development\", \"Web Development\", \"Web Development\", \"Web Development\", \"Web Development\", \"Web Development\", \"Web Development\", \"Web Development\", \"Web Development\", \"Web Development\", \"Web Development\", \"Web Development\", \"Web Development\", \"Web Development\", \"Web Development\", \"Web Development\", \"Web Development\", \"Web Development\", \"Web Development\", \"Web Development\", \"Web Development\", \"Web Development\", \"Web Development\", \"Web Development\", \"Web Development\", \"Web Development\", \"Web Development\", \"Web Development\", \"Web Development\", \"Web Development\", \"Web Development\", \"Web Development\", \"Web Development\", \"Web Development\", \"Web Development\", \"Web Development\", \"Web Development\", \"Web Development\", \"Web Development\", \"Web Development\", \"Web Development\", \"Web Development\", \"Web Development\", \"Web Development\", \"Web Development\", \"Web Development\", \"Web Development\", \"Web Development\", \"Web Development\", \"Web Development\", \"Web Development\", \"Web Development\", \"Web Development\", \"Web Development\", \"Web Development\", \"Web Development\", \"Web Development\", \"Web Development\", \"Web Development\", \"Web Development\", \"Web Development\", \"Web Development\", \"Web Development\", \"Web Development\", \"Web Development\", \"Web Development\", \"Web Development\", \"Web Development\", \"Web Development\", \"Web Development\", \"Web Development\", \"Web Development\", \"Web Development\", \"Web Development\", \"Web Development\", \"Web Development\", \"Web Development\", \"Web Development\", \"Web Development\", \"Web Development\", \"Web Development\", \"Web Development\", \"Web Development\", \"Web Development\", \"Web Development\", \"Web Development\", \"Web Development\", \"Web Development\", \"Web Development\", \"Web Development\", \"Web Development\", \"Web Development\", \"Web Development\", \"Web Development\", \"Web Development\", \"Web Development\", \"Web Development\", \"Web Development\", \"Web Development\", \"Web Development\", \"Web Development\", \"Web Development\", \"Web Development\", \"Web Development\", \"Web Development\", \"Web Development\", \"Web Development\", \"Web Development\", \"Web Development\", \"Web Development\", \"Web Development\", \"Web Development\", \"Web Development\", \"Web Development\", \"Web Development\", \"Web Development\", \"Web Development\", \"Web Development\", \"Web Development\", \"Web Development\", \"Web Development\", \"Web Development\", \"Web Development\", \"Web Development\", \"Web Development\", \"Web Development\", \"Web Development\", \"Web Development\", \"Web Development\", \"Web Development\", \"Web Development\", \"Web Development\", \"Web Development\", \"Web Development\", \"Web Development\", \"Web Development\", \"Web Development\", \"Web Development\", \"Web Development\", \"Web Development\", \"Web Development\", \"Web Development\", \"Web Development\", \"Web Development\", \"Web Development\", \"Web Development\", \"Web Development\", \"Web Development\", \"Web Development\", \"Web Development\", \"Web Development\", \"Web Development\", \"Web Development\", \"Web Development\", \"Web Development\", \"Web Development\", \"Web Development\", \"Web Development\", \"Web Development\", \"Web Development\", \"Web Development\", \"Web Development\", \"Web Development\", \"Web Development\", \"Web Development\", \"Web Development\", \"Web Development\", \"Web Development\", \"Web Development\", \"Web Development\", \"Web Development\", \"Web Development\", \"Web Development\", \"Web Development\", \"Web Development\", \"Web Development\", \"Web Development\", \"Web Development\", \"Web Development\", \"Web Development\", \"Web Development\", \"Web Development\", \"Web Development\", \"Web Development\", \"Web Development\", \"Web Development\", \"Web Development\", \"Web Development\", \"Web Development\", \"Web Development\", \"Web Development\", \"Web Development\", \"Web Development\", \"Web Development\", \"Web Development\", \"Web Development\", \"Web Development\", \"Web Development\", \"Web Development\", \"Web Development\", \"Web Development\", \"Web Development\", \"Web Development\", \"Web Development\", \"Web Development\", \"Web Development\", \"Web Development\", \"Web Development\", \"Web Development\", \"Web Development\", \"Web Development\", \"Web Development\", \"Web Development\", \"Web Development\", \"Web Development\", \"Web Development\", \"Web Development\", \"Web Development\", \"Web Development\", \"Web Development\", \"Web Development\", \"Web Development\", \"Web Development\", \"Web Development\", \"Web Development\", \"Web Development\", \"Web Development\", \"Web Development\", \"Web Development\", \"Web Development\", \"Web Development\", \"Web Development\", \"Web Development\", \"Web Development\", \"Web Development\", \"Web Development\", \"Web Development\", \"Web Development\", \"Web Development\", \"Web Development\", \"Web Development\", \"Web Development\", \"Web Development\", \"Web Development\", \"Web Development\", \"Web Development\", \"Web Development\", \"Web Development\", \"Web Development\", \"Web Development\", \"Web Development\", \"Web Development\", \"Web Development\", \"Web Development\", \"Web Development\", \"Web Development\", \"Web Development\", \"Web Development\", \"Web Development\", \"Web Development\", \"Web Development\", \"Web Development\", \"Web Development\", \"Web Development\", \"Web Development\", \"Web Development\", \"Web Development\", \"Web Development\", \"Web Development\", \"Web Development\", \"Web Development\", \"Web Development\", \"Web Development\", \"Web Development\", \"Web Development\", \"Web Development\", \"Web Development\", \"Web Development\", \"Web Development\", \"Web Development\", \"Web Development\", \"Web Development\", \"Web Development\", \"Web Development\", \"Web Development\", \"Web Development\", \"Web Development\", \"Web Development\", \"Web Development\", \"Web Development\", \"Web Development\", \"Web Development\", \"Web Development\", \"Web Development\", \"Web Development\", \"Web Development\", \"Web Development\", \"Web Development\", \"Web Development\", \"Web Development\", \"Web Development\", \"Web Development\", \"Web Development\", \"Web Development\", \"Web Development\", \"Web Development\", \"Web Development\", \"Web Development\", \"Web Development\", \"Web Development\", \"Web Development\", \"Web Development\", \"Web Development\", \"Web Development\", \"Web Development\", \"Web Development\", \"Web Development\", \"Web Development\", \"Web Development\", \"Web Development\", \"Web Development\", \"Web Development\", \"Web Development\", \"Web Development\", \"Web Development\", \"Web Development\", \"Web Development\", \"Web Development\", \"Web Development\", \"Web Development\", \"Web Development\", \"Web Development\", \"Web Development\", \"Web Development\", \"Web Development\", \"Web Development\", \"Web Development\", \"Web Development\", \"Web Development\", \"Web Development\", \"Web Development\", \"Web Development\", \"Web Development\", \"Web Development\", \"Web Development\", \"Web Development\", \"Web Development\", \"Web Development\", \"Web Development\", \"Web Development\", \"Web Development\", \"Web Development\", \"Web Development\", \"Web Development\", \"Web Development\", \"Web Development\", \"Web Development\", \"Web Development\", \"Web Development\", \"Web Development\", \"Web Development\", \"Web Development\", \"Web Development\", \"Web Development\", \"Web Development\", \"Web Development\", \"Web Development\"], \"xaxis\": \"x\", \"yaxis\": \"y\"}],                        {\"barmode\": \"relative\", \"legend\": {\"tracegroupgap\": 0}, \"template\": {\"data\": {\"bar\": [{\"error_x\": {\"color\": \"#2a3f5f\"}, \"error_y\": {\"color\": \"#2a3f5f\"}, \"marker\": {\"line\": {\"color\": \"#E5ECF6\", \"width\": 0.5}}, \"type\": \"bar\"}], \"barpolar\": [{\"marker\": {\"line\": {\"color\": \"#E5ECF6\", \"width\": 0.5}}, \"type\": \"barpolar\"}], \"carpet\": [{\"aaxis\": {\"endlinecolor\": \"#2a3f5f\", \"gridcolor\": \"white\", \"linecolor\": \"white\", \"minorgridcolor\": \"white\", \"startlinecolor\": \"#2a3f5f\"}, \"baxis\": {\"endlinecolor\": \"#2a3f5f\", \"gridcolor\": \"white\", \"linecolor\": \"white\", \"minorgridcolor\": \"white\", \"startlinecolor\": \"#2a3f5f\"}, \"type\": \"carpet\"}], \"choropleth\": [{\"colorbar\": {\"outlinewidth\": 0, \"ticks\": \"\"}, \"type\": \"choropleth\"}], \"contour\": [{\"colorbar\": {\"outlinewidth\": 0, \"ticks\": \"\"}, \"colorscale\": [[0.0, \"#0d0887\"], [0.1111111111111111, \"#46039f\"], [0.2222222222222222, \"#7201a8\"], [0.3333333333333333, \"#9c179e\"], [0.4444444444444444, \"#bd3786\"], [0.5555555555555556, \"#d8576b\"], [0.6666666666666666, \"#ed7953\"], [0.7777777777777778, \"#fb9f3a\"], [0.8888888888888888, \"#fdca26\"], [1.0, \"#f0f921\"]], \"type\": \"contour\"}], \"contourcarpet\": [{\"colorbar\": {\"outlinewidth\": 0, \"ticks\": \"\"}, \"type\": \"contourcarpet\"}], \"heatmap\": [{\"colorbar\": {\"outlinewidth\": 0, \"ticks\": \"\"}, \"colorscale\": [[0.0, \"#0d0887\"], [0.1111111111111111, \"#46039f\"], [0.2222222222222222, \"#7201a8\"], [0.3333333333333333, \"#9c179e\"], [0.4444444444444444, \"#bd3786\"], [0.5555555555555556, \"#d8576b\"], [0.6666666666666666, \"#ed7953\"], [0.7777777777777778, \"#fb9f3a\"], [0.8888888888888888, \"#fdca26\"], [1.0, \"#f0f921\"]], \"type\": \"heatmap\"}], \"heatmapgl\": [{\"colorbar\": {\"outlinewidth\": 0, \"ticks\": \"\"}, \"colorscale\": [[0.0, \"#0d0887\"], [0.1111111111111111, \"#46039f\"], [0.2222222222222222, \"#7201a8\"], [0.3333333333333333, \"#9c179e\"], [0.4444444444444444, \"#bd3786\"], [0.5555555555555556, \"#d8576b\"], [0.6666666666666666, \"#ed7953\"], [0.7777777777777778, \"#fb9f3a\"], [0.8888888888888888, \"#fdca26\"], [1.0, \"#f0f921\"]], \"type\": \"heatmapgl\"}], \"histogram\": [{\"marker\": {\"colorbar\": {\"outlinewidth\": 0, \"ticks\": \"\"}}, \"type\": \"histogram\"}], \"histogram2d\": [{\"colorbar\": {\"outlinewidth\": 0, \"ticks\": \"\"}, \"colorscale\": [[0.0, \"#0d0887\"], [0.1111111111111111, \"#46039f\"], [0.2222222222222222, \"#7201a8\"], [0.3333333333333333, \"#9c179e\"], [0.4444444444444444, \"#bd3786\"], [0.5555555555555556, \"#d8576b\"], [0.6666666666666666, \"#ed7953\"], [0.7777777777777778, \"#fb9f3a\"], [0.8888888888888888, \"#fdca26\"], [1.0, \"#f0f921\"]], \"type\": \"histogram2d\"}], \"histogram2dcontour\": [{\"colorbar\": {\"outlinewidth\": 0, \"ticks\": \"\"}, \"colorscale\": [[0.0, \"#0d0887\"], [0.1111111111111111, \"#46039f\"], [0.2222222222222222, \"#7201a8\"], [0.3333333333333333, \"#9c179e\"], [0.4444444444444444, \"#bd3786\"], [0.5555555555555556, \"#d8576b\"], [0.6666666666666666, \"#ed7953\"], [0.7777777777777778, \"#fb9f3a\"], [0.8888888888888888, \"#fdca26\"], [1.0, \"#f0f921\"]], \"type\": \"histogram2dcontour\"}], \"mesh3d\": [{\"colorbar\": {\"outlinewidth\": 0, \"ticks\": \"\"}, \"type\": \"mesh3d\"}], \"parcoords\": [{\"line\": {\"colorbar\": {\"outlinewidth\": 0, \"ticks\": \"\"}}, \"type\": \"parcoords\"}], \"pie\": [{\"automargin\": true, \"type\": \"pie\"}], \"scatter\": [{\"marker\": {\"colorbar\": {\"outlinewidth\": 0, \"ticks\": \"\"}}, \"type\": \"scatter\"}], \"scatter3d\": [{\"line\": {\"colorbar\": {\"outlinewidth\": 0, \"ticks\": \"\"}}, \"marker\": {\"colorbar\": {\"outlinewidth\": 0, \"ticks\": \"\"}}, \"type\": \"scatter3d\"}], \"scattercarpet\": [{\"marker\": {\"colorbar\": {\"outlinewidth\": 0, \"ticks\": \"\"}}, \"type\": \"scattercarpet\"}], \"scattergeo\": [{\"marker\": {\"colorbar\": {\"outlinewidth\": 0, \"ticks\": \"\"}}, \"type\": \"scattergeo\"}], \"scattergl\": [{\"marker\": {\"colorbar\": {\"outlinewidth\": 0, \"ticks\": \"\"}}, \"type\": \"scattergl\"}], \"scattermapbox\": [{\"marker\": {\"colorbar\": {\"outlinewidth\": 0, \"ticks\": \"\"}}, \"type\": \"scattermapbox\"}], \"scatterpolar\": [{\"marker\": {\"colorbar\": {\"outlinewidth\": 0, \"ticks\": \"\"}}, \"type\": \"scatterpolar\"}], \"scatterpolargl\": [{\"marker\": {\"colorbar\": {\"outlinewidth\": 0, \"ticks\": \"\"}}, \"type\": \"scatterpolargl\"}], \"scatterternary\": [{\"marker\": {\"colorbar\": {\"outlinewidth\": 0, \"ticks\": \"\"}}, \"type\": \"scatterternary\"}], \"surface\": [{\"colorbar\": {\"outlinewidth\": 0, \"ticks\": \"\"}, \"colorscale\": [[0.0, \"#0d0887\"], [0.1111111111111111, \"#46039f\"], [0.2222222222222222, \"#7201a8\"], [0.3333333333333333, \"#9c179e\"], [0.4444444444444444, \"#bd3786\"], [0.5555555555555556, \"#d8576b\"], [0.6666666666666666, \"#ed7953\"], [0.7777777777777778, \"#fb9f3a\"], [0.8888888888888888, \"#fdca26\"], [1.0, \"#f0f921\"]], \"type\": \"surface\"}], \"table\": [{\"cells\": {\"fill\": {\"color\": \"#EBF0F8\"}, \"line\": {\"color\": \"white\"}}, \"header\": {\"fill\": {\"color\": \"#C8D4E3\"}, \"line\": {\"color\": \"white\"}}, \"type\": \"table\"}]}, \"layout\": {\"annotationdefaults\": {\"arrowcolor\": \"#2a3f5f\", \"arrowhead\": 0, \"arrowwidth\": 1}, \"autotypenumbers\": \"strict\", \"coloraxis\": {\"colorbar\": {\"outlinewidth\": 0, \"ticks\": \"\"}}, \"colorscale\": {\"diverging\": [[0, \"#8e0152\"], [0.1, \"#c51b7d\"], [0.2, \"#de77ae\"], [0.3, \"#f1b6da\"], [0.4, \"#fde0ef\"], [0.5, \"#f7f7f7\"], [0.6, \"#e6f5d0\"], [0.7, \"#b8e186\"], [0.8, \"#7fbc41\"], [0.9, \"#4d9221\"], [1, \"#276419\"]], \"sequential\": [[0.0, \"#0d0887\"], [0.1111111111111111, \"#46039f\"], [0.2222222222222222, \"#7201a8\"], [0.3333333333333333, \"#9c179e\"], [0.4444444444444444, \"#bd3786\"], [0.5555555555555556, \"#d8576b\"], [0.6666666666666666, \"#ed7953\"], [0.7777777777777778, \"#fb9f3a\"], [0.8888888888888888, \"#fdca26\"], [1.0, \"#f0f921\"]], \"sequentialminus\": [[0.0, \"#0d0887\"], [0.1111111111111111, \"#46039f\"], [0.2222222222222222, \"#7201a8\"], [0.3333333333333333, \"#9c179e\"], [0.4444444444444444, \"#bd3786\"], [0.5555555555555556, \"#d8576b\"], [0.6666666666666666, \"#ed7953\"], [0.7777777777777778, \"#fb9f3a\"], [0.8888888888888888, \"#fdca26\"], [1.0, \"#f0f921\"]]}, \"colorway\": [\"#636efa\", \"#EF553B\", \"#00cc96\", \"#ab63fa\", \"#FFA15A\", \"#19d3f3\", \"#FF6692\", \"#B6E880\", \"#FF97FF\", \"#FECB52\"], \"font\": {\"color\": \"#2a3f5f\"}, \"geo\": {\"bgcolor\": \"white\", \"lakecolor\": \"white\", \"landcolor\": \"#E5ECF6\", \"showlakes\": true, \"showland\": true, \"subunitcolor\": \"white\"}, \"hoverlabel\": {\"align\": \"left\"}, \"hovermode\": \"closest\", \"mapbox\": {\"style\": \"light\"}, \"paper_bgcolor\": \"white\", \"plot_bgcolor\": \"#E5ECF6\", \"polar\": {\"angularaxis\": {\"gridcolor\": \"white\", \"linecolor\": \"white\", \"ticks\": \"\"}, \"bgcolor\": \"#E5ECF6\", \"radialaxis\": {\"gridcolor\": \"white\", \"linecolor\": \"white\", \"ticks\": \"\"}}, \"scene\": {\"xaxis\": {\"backgroundcolor\": \"#E5ECF6\", \"gridcolor\": \"white\", \"gridwidth\": 2, \"linecolor\": \"white\", \"showbackground\": true, \"ticks\": \"\", \"zerolinecolor\": \"white\"}, \"yaxis\": {\"backgroundcolor\": \"#E5ECF6\", \"gridcolor\": \"white\", \"gridwidth\": 2, \"linecolor\": \"white\", \"showbackground\": true, \"ticks\": \"\", \"zerolinecolor\": \"white\"}, \"zaxis\": {\"backgroundcolor\": \"#E5ECF6\", \"gridcolor\": \"white\", \"gridwidth\": 2, \"linecolor\": \"white\", \"showbackground\": true, \"ticks\": \"\", \"zerolinecolor\": \"white\"}}, \"shapedefaults\": {\"line\": {\"color\": \"#2a3f5f\"}}, \"ternary\": {\"aaxis\": {\"gridcolor\": \"white\", \"linecolor\": \"white\", \"ticks\": \"\"}, \"baxis\": {\"gridcolor\": \"white\", \"linecolor\": \"white\", \"ticks\": \"\"}, \"bgcolor\": \"#E5ECF6\", \"caxis\": {\"gridcolor\": \"white\", \"linecolor\": \"white\", \"ticks\": \"\"}}, \"title\": {\"x\": 0.05}, \"xaxis\": {\"automargin\": true, \"gridcolor\": \"white\", \"linecolor\": \"white\", \"ticks\": \"\", \"title\": {\"standoff\": 15}, \"zerolinecolor\": \"white\", \"zerolinewidth\": 2}, \"yaxis\": {\"automargin\": true, \"gridcolor\": \"white\", \"linecolor\": \"white\", \"ticks\": \"\", \"title\": {\"standoff\": 15}, \"zerolinecolor\": \"white\", \"zerolinewidth\": 2}}}, \"title\": {\"text\": \"Course Count by Subject\"}, \"xaxis\": {\"anchor\": \"y\", \"categoryorder\": \"total descending\", \"domain\": [0.0, 1.0], \"title\": {\"text\": \"subject\"}}, \"yaxis\": {\"anchor\": \"x\", \"domain\": [0.0, 1.0], \"title\": {\"text\": \"count\"}}},                        {\"responsive\": true}                    ).then(function(){\n",
       "                            \n",
       "var gd = document.getElementById('5ca311d6-ccbc-4479-8896-57f1be3c8347');\n",
       "var x = new MutationObserver(function (mutations, observer) {{\n",
       "        var display = window.getComputedStyle(gd).display;\n",
       "        if (!display || display === 'none') {{\n",
       "            console.log([gd, 'removed!']);\n",
       "            Plotly.purge(gd);\n",
       "            observer.disconnect();\n",
       "        }}\n",
       "}});\n",
       "\n",
       "// Listen for the removal of the full notebook cells\n",
       "var notebookContainer = gd.closest('#notebook-container');\n",
       "if (notebookContainer) {{\n",
       "    x.observe(notebookContainer, {childList: true});\n",
       "}}\n",
       "\n",
       "// Listen for the clearing of the current output cell\n",
       "var outputEl = gd.closest('.output');\n",
       "if (outputEl) {{\n",
       "    x.observe(outputEl, {childList: true});\n",
       "}}\n",
       "\n",
       "                        })                };                });            </script>        </div>"
      ]
     },
     "metadata": {},
     "output_type": "display_data"
    }
   ],
   "source": [
    "fig = px.histogram(df, x=\"subject\", title='Course Count by Subject')\n",
    "fig.update_layout(xaxis={'categoryorder':'total descending'})\n",
    "fig.show()"
   ]
  },
  {
   "cell_type": "markdown",
   "id": "czech-ukraine",
   "metadata": {
    "papermill": {
     "duration": 0.068208,
     "end_time": "2021-07-07T21:05:34.268085",
     "exception": false,
     "start_time": "2021-07-07T21:05:34.199877",
     "status": "completed"
    },
    "tags": []
   },
   "source": [
    "#### **UDEMY Courses By Subject in Each Year**"
   ]
  },
  {
   "cell_type": "code",
   "execution_count": 20,
   "id": "closing-township",
   "metadata": {
    "_kg_hide-input": true,
    "execution": {
     "iopub.execute_input": "2021-07-07T21:05:34.425272Z",
     "iopub.status.busy": "2021-07-07T21:05:34.424325Z",
     "iopub.status.idle": "2021-07-07T21:05:34.453015Z",
     "shell.execute_reply": "2021-07-07T21:05:34.452377Z",
     "shell.execute_reply.started": "2021-07-07T20:45:36.826060Z"
    },
    "papermill": {
     "duration": 0.115445,
     "end_time": "2021-07-07T21:05:34.453156",
     "exception": false,
     "start_time": "2021-07-07T21:05:34.337711",
     "status": "completed"
    },
    "tags": []
   },
   "outputs": [
    {
     "data": {
      "text/html": [
       "<div>\n",
       "<style scoped>\n",
       "    .dataframe tbody tr th:only-of-type {\n",
       "        vertical-align: middle;\n",
       "    }\n",
       "\n",
       "    .dataframe tbody tr th {\n",
       "        vertical-align: top;\n",
       "    }\n",
       "\n",
       "    .dataframe thead th {\n",
       "        text-align: right;\n",
       "    }\n",
       "</style>\n",
       "<table border=\"1\" class=\"dataframe\">\n",
       "  <thead>\n",
       "    <tr style=\"text-align: right;\">\n",
       "      <th></th>\n",
       "      <th>year</th>\n",
       "      <th>subject count</th>\n",
       "    </tr>\n",
       "    <tr>\n",
       "      <th>subject</th>\n",
       "      <th></th>\n",
       "      <th></th>\n",
       "    </tr>\n",
       "  </thead>\n",
       "  <tbody>\n",
       "    <tr>\n",
       "      <th>Web Development</th>\n",
       "      <td>2011</td>\n",
       "      <td>5</td>\n",
       "    </tr>\n",
       "    <tr>\n",
       "      <th>Web Development</th>\n",
       "      <td>2012</td>\n",
       "      <td>19</td>\n",
       "    </tr>\n",
       "    <tr>\n",
       "      <th>Graphic Design</th>\n",
       "      <td>2012</td>\n",
       "      <td>10</td>\n",
       "    </tr>\n",
       "    <tr>\n",
       "      <th>Musical Instruments</th>\n",
       "      <td>2012</td>\n",
       "      <td>10</td>\n",
       "    </tr>\n",
       "    <tr>\n",
       "      <th>Business Finance</th>\n",
       "      <td>2012</td>\n",
       "      <td>6</td>\n",
       "    </tr>\n",
       "    <tr>\n",
       "      <th>Business Finance</th>\n",
       "      <td>2013</td>\n",
       "      <td>84</td>\n",
       "    </tr>\n",
       "    <tr>\n",
       "      <th>Web Development</th>\n",
       "      <td>2013</td>\n",
       "      <td>56</td>\n",
       "    </tr>\n",
       "    <tr>\n",
       "      <th>Musical Instruments</th>\n",
       "      <td>2013</td>\n",
       "      <td>39</td>\n",
       "    </tr>\n",
       "    <tr>\n",
       "      <th>Graphic Design</th>\n",
       "      <td>2013</td>\n",
       "      <td>23</td>\n",
       "    </tr>\n",
       "    <tr>\n",
       "      <th>Business Finance</th>\n",
       "      <td>2014</td>\n",
       "      <td>192</td>\n",
       "    </tr>\n",
       "    <tr>\n",
       "      <th>Musical Instruments</th>\n",
       "      <td>2014</td>\n",
       "      <td>120</td>\n",
       "    </tr>\n",
       "    <tr>\n",
       "      <th>Web Development</th>\n",
       "      <td>2014</td>\n",
       "      <td>113</td>\n",
       "    </tr>\n",
       "    <tr>\n",
       "      <th>Graphic Design</th>\n",
       "      <td>2014</td>\n",
       "      <td>66</td>\n",
       "    </tr>\n",
       "    <tr>\n",
       "      <th>Business Finance</th>\n",
       "      <td>2015</td>\n",
       "      <td>339</td>\n",
       "    </tr>\n",
       "    <tr>\n",
       "      <th>Web Development</th>\n",
       "      <td>2015</td>\n",
       "      <td>336</td>\n",
       "    </tr>\n",
       "    <tr>\n",
       "      <th>Musical Instruments</th>\n",
       "      <td>2015</td>\n",
       "      <td>171</td>\n",
       "    </tr>\n",
       "    <tr>\n",
       "      <th>Graphic Design</th>\n",
       "      <td>2015</td>\n",
       "      <td>168</td>\n",
       "    </tr>\n",
       "    <tr>\n",
       "      <th>Web Development</th>\n",
       "      <td>2016</td>\n",
       "      <td>448</td>\n",
       "    </tr>\n",
       "    <tr>\n",
       "      <th>Business Finance</th>\n",
       "      <td>2016</td>\n",
       "      <td>349</td>\n",
       "    </tr>\n",
       "    <tr>\n",
       "      <th>Musical Instruments</th>\n",
       "      <td>2016</td>\n",
       "      <td>228</td>\n",
       "    </tr>\n",
       "    <tr>\n",
       "      <th>Graphic Design</th>\n",
       "      <td>2016</td>\n",
       "      <td>181</td>\n",
       "    </tr>\n",
       "    <tr>\n",
       "      <th>Business Finance</th>\n",
       "      <td>2017</td>\n",
       "      <td>225</td>\n",
       "    </tr>\n",
       "    <tr>\n",
       "      <th>Web Development</th>\n",
       "      <td>2017</td>\n",
       "      <td>223</td>\n",
       "    </tr>\n",
       "    <tr>\n",
       "      <th>Graphic Design</th>\n",
       "      <td>2017</td>\n",
       "      <td>155</td>\n",
       "    </tr>\n",
       "    <tr>\n",
       "      <th>Musical Instruments</th>\n",
       "      <td>2017</td>\n",
       "      <td>112</td>\n",
       "    </tr>\n",
       "  </tbody>\n",
       "</table>\n",
       "</div>"
      ],
      "text/plain": [
       "                     year  subject count\n",
       "subject                                 \n",
       "Web Development      2011              5\n",
       "Web Development      2012             19\n",
       "Graphic Design       2012             10\n",
       "Musical Instruments  2012             10\n",
       "Business Finance     2012              6\n",
       "Business Finance     2013             84\n",
       "Web Development      2013             56\n",
       "Musical Instruments  2013             39\n",
       "Graphic Design       2013             23\n",
       "Business Finance     2014            192\n",
       "Musical Instruments  2014            120\n",
       "Web Development      2014            113\n",
       "Graphic Design       2014             66\n",
       "Business Finance     2015            339\n",
       "Web Development      2015            336\n",
       "Musical Instruments  2015            171\n",
       "Graphic Design       2015            168\n",
       "Web Development      2016            448\n",
       "Business Finance     2016            349\n",
       "Musical Instruments  2016            228\n",
       "Graphic Design       2016            181\n",
       "Business Finance     2017            225\n",
       "Web Development      2017            223\n",
       "Graphic Design       2017            155\n",
       "Musical Instruments  2017            112"
      ]
     },
     "execution_count": 20,
     "metadata": {},
     "output_type": "execute_result"
    }
   ],
   "source": [
    "df['year']= df['date'].dt.year\n",
    "subject_by_year = df.groupby('year')['subject'].value_counts().reset_index(level=0).rename(columns={'subject': 'subject count'}, index={'index': 'Subject'})\n",
    "subject_by_year"
   ]
  },
  {
   "cell_type": "code",
   "execution_count": 21,
   "id": "ignored-knight",
   "metadata": {
    "_kg_hide-input": true,
    "execution": {
     "iopub.execute_input": "2021-07-07T21:05:34.596389Z",
     "iopub.status.busy": "2021-07-07T21:05:34.595613Z",
     "iopub.status.idle": "2021-07-07T21:05:34.701684Z",
     "shell.execute_reply": "2021-07-07T21:05:34.701034Z",
     "shell.execute_reply.started": "2021-07-07T20:58:51.548118Z"
    },
    "papermill": {
     "duration": 0.179656,
     "end_time": "2021-07-07T21:05:34.701819",
     "exception": false,
     "start_time": "2021-07-07T21:05:34.522163",
     "status": "completed"
    },
    "tags": []
   },
   "outputs": [
    {
     "data": {
      "text/html": [
       "<div>                            <div id=\"96b4bee5-9a72-4cb5-b863-9370bf418364\" class=\"plotly-graph-div\" style=\"height:525px; width:100%;\"></div>            <script type=\"text/javascript\">                require([\"plotly\"], function(Plotly) {                    window.PLOTLYENV=window.PLOTLYENV || {};                                    if (document.getElementById(\"96b4bee5-9a72-4cb5-b863-9370bf418364\")) {                    Plotly.newPlot(                        \"96b4bee5-9a72-4cb5-b863-9370bf418364\",                        [{\"hovertemplate\": \"subject=Web Development<br>year=%{x}<br>subject count=%{y}<extra></extra>\", \"legendgroup\": \"Web Development\", \"line\": {\"color\": \"#636efa\", \"dash\": \"solid\"}, \"mode\": \"lines\", \"name\": \"Web Development\", \"orientation\": \"v\", \"showlegend\": true, \"type\": \"scatter\", \"x\": [2011, 2012, 2013, 2014, 2015, 2016, 2017], \"xaxis\": \"x\", \"y\": [5, 19, 56, 113, 336, 448, 223], \"yaxis\": \"y\"}, {\"hovertemplate\": \"subject=Graphic Design<br>year=%{x}<br>subject count=%{y}<extra></extra>\", \"legendgroup\": \"Graphic Design\", \"line\": {\"color\": \"#EF553B\", \"dash\": \"solid\"}, \"mode\": \"lines\", \"name\": \"Graphic Design\", \"orientation\": \"v\", \"showlegend\": true, \"type\": \"scatter\", \"x\": [2012, 2013, 2014, 2015, 2016, 2017], \"xaxis\": \"x\", \"y\": [10, 23, 66, 168, 181, 155], \"yaxis\": \"y\"}, {\"hovertemplate\": \"subject=Musical Instruments<br>year=%{x}<br>subject count=%{y}<extra></extra>\", \"legendgroup\": \"Musical Instruments\", \"line\": {\"color\": \"#00cc96\", \"dash\": \"solid\"}, \"mode\": \"lines\", \"name\": \"Musical Instruments\", \"orientation\": \"v\", \"showlegend\": true, \"type\": \"scatter\", \"x\": [2012, 2013, 2014, 2015, 2016, 2017], \"xaxis\": \"x\", \"y\": [10, 39, 120, 171, 228, 112], \"yaxis\": \"y\"}, {\"hovertemplate\": \"subject=Business Finance<br>year=%{x}<br>subject count=%{y}<extra></extra>\", \"legendgroup\": \"Business Finance\", \"line\": {\"color\": \"#ab63fa\", \"dash\": \"solid\"}, \"mode\": \"lines\", \"name\": \"Business Finance\", \"orientation\": \"v\", \"showlegend\": true, \"type\": \"scatter\", \"x\": [2012, 2013, 2014, 2015, 2016, 2017], \"xaxis\": \"x\", \"y\": [6, 84, 192, 339, 349, 225], \"yaxis\": \"y\"}],                        {\"legend\": {\"title\": {\"text\": \"subject\"}, \"tracegroupgap\": 0}, \"template\": {\"data\": {\"bar\": [{\"error_x\": {\"color\": \"#2a3f5f\"}, \"error_y\": {\"color\": \"#2a3f5f\"}, \"marker\": {\"line\": {\"color\": \"#E5ECF6\", \"width\": 0.5}}, \"type\": \"bar\"}], \"barpolar\": [{\"marker\": {\"line\": {\"color\": \"#E5ECF6\", \"width\": 0.5}}, \"type\": \"barpolar\"}], \"carpet\": [{\"aaxis\": {\"endlinecolor\": \"#2a3f5f\", \"gridcolor\": \"white\", \"linecolor\": \"white\", \"minorgridcolor\": \"white\", \"startlinecolor\": \"#2a3f5f\"}, \"baxis\": {\"endlinecolor\": \"#2a3f5f\", \"gridcolor\": \"white\", \"linecolor\": \"white\", \"minorgridcolor\": \"white\", \"startlinecolor\": \"#2a3f5f\"}, \"type\": \"carpet\"}], \"choropleth\": [{\"colorbar\": {\"outlinewidth\": 0, \"ticks\": \"\"}, \"type\": \"choropleth\"}], \"contour\": [{\"colorbar\": {\"outlinewidth\": 0, \"ticks\": \"\"}, \"colorscale\": [[0.0, \"#0d0887\"], [0.1111111111111111, \"#46039f\"], [0.2222222222222222, \"#7201a8\"], [0.3333333333333333, \"#9c179e\"], [0.4444444444444444, \"#bd3786\"], [0.5555555555555556, \"#d8576b\"], [0.6666666666666666, \"#ed7953\"], [0.7777777777777778, \"#fb9f3a\"], [0.8888888888888888, \"#fdca26\"], [1.0, \"#f0f921\"]], \"type\": \"contour\"}], \"contourcarpet\": [{\"colorbar\": {\"outlinewidth\": 0, \"ticks\": \"\"}, \"type\": \"contourcarpet\"}], \"heatmap\": [{\"colorbar\": {\"outlinewidth\": 0, \"ticks\": \"\"}, \"colorscale\": [[0.0, \"#0d0887\"], [0.1111111111111111, \"#46039f\"], [0.2222222222222222, \"#7201a8\"], [0.3333333333333333, \"#9c179e\"], [0.4444444444444444, \"#bd3786\"], [0.5555555555555556, \"#d8576b\"], [0.6666666666666666, \"#ed7953\"], [0.7777777777777778, \"#fb9f3a\"], [0.8888888888888888, \"#fdca26\"], [1.0, \"#f0f921\"]], \"type\": \"heatmap\"}], \"heatmapgl\": [{\"colorbar\": {\"outlinewidth\": 0, \"ticks\": \"\"}, \"colorscale\": [[0.0, \"#0d0887\"], [0.1111111111111111, \"#46039f\"], [0.2222222222222222, \"#7201a8\"], [0.3333333333333333, \"#9c179e\"], [0.4444444444444444, \"#bd3786\"], [0.5555555555555556, \"#d8576b\"], [0.6666666666666666, \"#ed7953\"], [0.7777777777777778, \"#fb9f3a\"], [0.8888888888888888, \"#fdca26\"], [1.0, \"#f0f921\"]], \"type\": \"heatmapgl\"}], \"histogram\": [{\"marker\": {\"colorbar\": {\"outlinewidth\": 0, \"ticks\": \"\"}}, \"type\": \"histogram\"}], \"histogram2d\": [{\"colorbar\": {\"outlinewidth\": 0, \"ticks\": \"\"}, \"colorscale\": [[0.0, \"#0d0887\"], [0.1111111111111111, \"#46039f\"], [0.2222222222222222, \"#7201a8\"], [0.3333333333333333, \"#9c179e\"], [0.4444444444444444, \"#bd3786\"], [0.5555555555555556, \"#d8576b\"], [0.6666666666666666, \"#ed7953\"], [0.7777777777777778, \"#fb9f3a\"], [0.8888888888888888, \"#fdca26\"], [1.0, \"#f0f921\"]], \"type\": \"histogram2d\"}], \"histogram2dcontour\": [{\"colorbar\": {\"outlinewidth\": 0, \"ticks\": \"\"}, \"colorscale\": [[0.0, \"#0d0887\"], [0.1111111111111111, \"#46039f\"], [0.2222222222222222, \"#7201a8\"], [0.3333333333333333, \"#9c179e\"], [0.4444444444444444, \"#bd3786\"], [0.5555555555555556, \"#d8576b\"], [0.6666666666666666, \"#ed7953\"], [0.7777777777777778, \"#fb9f3a\"], [0.8888888888888888, \"#fdca26\"], [1.0, \"#f0f921\"]], \"type\": \"histogram2dcontour\"}], \"mesh3d\": [{\"colorbar\": {\"outlinewidth\": 0, \"ticks\": \"\"}, \"type\": \"mesh3d\"}], \"parcoords\": [{\"line\": {\"colorbar\": {\"outlinewidth\": 0, \"ticks\": \"\"}}, \"type\": \"parcoords\"}], \"pie\": [{\"automargin\": true, \"type\": \"pie\"}], \"scatter\": [{\"marker\": {\"colorbar\": {\"outlinewidth\": 0, \"ticks\": \"\"}}, \"type\": \"scatter\"}], \"scatter3d\": [{\"line\": {\"colorbar\": {\"outlinewidth\": 0, \"ticks\": \"\"}}, \"marker\": {\"colorbar\": {\"outlinewidth\": 0, \"ticks\": \"\"}}, \"type\": \"scatter3d\"}], \"scattercarpet\": [{\"marker\": {\"colorbar\": {\"outlinewidth\": 0, \"ticks\": \"\"}}, \"type\": \"scattercarpet\"}], \"scattergeo\": [{\"marker\": {\"colorbar\": {\"outlinewidth\": 0, \"ticks\": \"\"}}, \"type\": \"scattergeo\"}], \"scattergl\": [{\"marker\": {\"colorbar\": {\"outlinewidth\": 0, \"ticks\": \"\"}}, \"type\": \"scattergl\"}], \"scattermapbox\": [{\"marker\": {\"colorbar\": {\"outlinewidth\": 0, \"ticks\": \"\"}}, \"type\": \"scattermapbox\"}], \"scatterpolar\": [{\"marker\": {\"colorbar\": {\"outlinewidth\": 0, \"ticks\": \"\"}}, \"type\": \"scatterpolar\"}], \"scatterpolargl\": [{\"marker\": {\"colorbar\": {\"outlinewidth\": 0, \"ticks\": \"\"}}, \"type\": \"scatterpolargl\"}], \"scatterternary\": [{\"marker\": {\"colorbar\": {\"outlinewidth\": 0, \"ticks\": \"\"}}, \"type\": \"scatterternary\"}], \"surface\": [{\"colorbar\": {\"outlinewidth\": 0, \"ticks\": \"\"}, \"colorscale\": [[0.0, \"#0d0887\"], [0.1111111111111111, \"#46039f\"], [0.2222222222222222, \"#7201a8\"], [0.3333333333333333, \"#9c179e\"], [0.4444444444444444, \"#bd3786\"], [0.5555555555555556, \"#d8576b\"], [0.6666666666666666, \"#ed7953\"], [0.7777777777777778, \"#fb9f3a\"], [0.8888888888888888, \"#fdca26\"], [1.0, \"#f0f921\"]], \"type\": \"surface\"}], \"table\": [{\"cells\": {\"fill\": {\"color\": \"#EBF0F8\"}, \"line\": {\"color\": \"white\"}}, \"header\": {\"fill\": {\"color\": \"#C8D4E3\"}, \"line\": {\"color\": \"white\"}}, \"type\": \"table\"}]}, \"layout\": {\"annotationdefaults\": {\"arrowcolor\": \"#2a3f5f\", \"arrowhead\": 0, \"arrowwidth\": 1}, \"autotypenumbers\": \"strict\", \"coloraxis\": {\"colorbar\": {\"outlinewidth\": 0, \"ticks\": \"\"}}, \"colorscale\": {\"diverging\": [[0, \"#8e0152\"], [0.1, \"#c51b7d\"], [0.2, \"#de77ae\"], [0.3, \"#f1b6da\"], [0.4, \"#fde0ef\"], [0.5, \"#f7f7f7\"], [0.6, \"#e6f5d0\"], [0.7, \"#b8e186\"], [0.8, \"#7fbc41\"], [0.9, \"#4d9221\"], [1, \"#276419\"]], \"sequential\": [[0.0, \"#0d0887\"], [0.1111111111111111, \"#46039f\"], [0.2222222222222222, \"#7201a8\"], [0.3333333333333333, \"#9c179e\"], [0.4444444444444444, \"#bd3786\"], [0.5555555555555556, \"#d8576b\"], [0.6666666666666666, \"#ed7953\"], [0.7777777777777778, \"#fb9f3a\"], [0.8888888888888888, \"#fdca26\"], [1.0, \"#f0f921\"]], \"sequentialminus\": [[0.0, \"#0d0887\"], [0.1111111111111111, \"#46039f\"], [0.2222222222222222, \"#7201a8\"], [0.3333333333333333, \"#9c179e\"], [0.4444444444444444, \"#bd3786\"], [0.5555555555555556, \"#d8576b\"], [0.6666666666666666, \"#ed7953\"], [0.7777777777777778, \"#fb9f3a\"], [0.8888888888888888, \"#fdca26\"], [1.0, \"#f0f921\"]]}, \"colorway\": [\"#636efa\", \"#EF553B\", \"#00cc96\", \"#ab63fa\", \"#FFA15A\", \"#19d3f3\", \"#FF6692\", \"#B6E880\", \"#FF97FF\", \"#FECB52\"], \"font\": {\"color\": \"#2a3f5f\"}, \"geo\": {\"bgcolor\": \"white\", \"lakecolor\": \"white\", \"landcolor\": \"#E5ECF6\", \"showlakes\": true, \"showland\": true, \"subunitcolor\": \"white\"}, \"hoverlabel\": {\"align\": \"left\"}, \"hovermode\": \"closest\", \"mapbox\": {\"style\": \"light\"}, \"paper_bgcolor\": \"white\", \"plot_bgcolor\": \"#E5ECF6\", \"polar\": {\"angularaxis\": {\"gridcolor\": \"white\", \"linecolor\": \"white\", \"ticks\": \"\"}, \"bgcolor\": \"#E5ECF6\", \"radialaxis\": {\"gridcolor\": \"white\", \"linecolor\": \"white\", \"ticks\": \"\"}}, \"scene\": {\"xaxis\": {\"backgroundcolor\": \"#E5ECF6\", \"gridcolor\": \"white\", \"gridwidth\": 2, \"linecolor\": \"white\", \"showbackground\": true, \"ticks\": \"\", \"zerolinecolor\": \"white\"}, \"yaxis\": {\"backgroundcolor\": \"#E5ECF6\", \"gridcolor\": \"white\", \"gridwidth\": 2, \"linecolor\": \"white\", \"showbackground\": true, \"ticks\": \"\", \"zerolinecolor\": \"white\"}, \"zaxis\": {\"backgroundcolor\": \"#E5ECF6\", \"gridcolor\": \"white\", \"gridwidth\": 2, \"linecolor\": \"white\", \"showbackground\": true, \"ticks\": \"\", \"zerolinecolor\": \"white\"}}, \"shapedefaults\": {\"line\": {\"color\": \"#2a3f5f\"}}, \"ternary\": {\"aaxis\": {\"gridcolor\": \"white\", \"linecolor\": \"white\", \"ticks\": \"\"}, \"baxis\": {\"gridcolor\": \"white\", \"linecolor\": \"white\", \"ticks\": \"\"}, \"bgcolor\": \"#E5ECF6\", \"caxis\": {\"gridcolor\": \"white\", \"linecolor\": \"white\", \"ticks\": \"\"}}, \"title\": {\"x\": 0.05}, \"xaxis\": {\"automargin\": true, \"gridcolor\": \"white\", \"linecolor\": \"white\", \"ticks\": \"\", \"title\": {\"standoff\": 15}, \"zerolinecolor\": \"white\", \"zerolinewidth\": 2}, \"yaxis\": {\"automargin\": true, \"gridcolor\": \"white\", \"linecolor\": \"white\", \"ticks\": \"\", \"title\": {\"standoff\": 15}, \"zerolinecolor\": \"white\", \"zerolinewidth\": 2}}}, \"title\": {\"text\": \"UDEMY Courses By Subject in Each Year\"}, \"xaxis\": {\"anchor\": \"y\", \"domain\": [0.0, 1.0], \"title\": {\"text\": \"year\"}}, \"yaxis\": {\"anchor\": \"x\", \"domain\": [0.0, 1.0], \"title\": {\"text\": \"subject count\"}}},                        {\"responsive\": true}                    ).then(function(){\n",
       "                            \n",
       "var gd = document.getElementById('96b4bee5-9a72-4cb5-b863-9370bf418364');\n",
       "var x = new MutationObserver(function (mutations, observer) {{\n",
       "        var display = window.getComputedStyle(gd).display;\n",
       "        if (!display || display === 'none') {{\n",
       "            console.log([gd, 'removed!']);\n",
       "            Plotly.purge(gd);\n",
       "            observer.disconnect();\n",
       "        }}\n",
       "}});\n",
       "\n",
       "// Listen for the removal of the full notebook cells\n",
       "var notebookContainer = gd.closest('#notebook-container');\n",
       "if (notebookContainer) {{\n",
       "    x.observe(notebookContainer, {childList: true});\n",
       "}}\n",
       "\n",
       "// Listen for the clearing of the current output cell\n",
       "var outputEl = gd.closest('.output');\n",
       "if (outputEl) {{\n",
       "    x.observe(outputEl, {childList: true});\n",
       "}}\n",
       "\n",
       "                        })                };                });            </script>        </div>"
      ]
     },
     "metadata": {},
     "output_type": "display_data"
    }
   ],
   "source": [
    "fig = px.line(subject_by_year, x='year', y='subject count', color= subject_by_year.index, title='UDEMY Courses By Subject in Each Year')\n",
    "fig.show()"
   ]
  },
  {
   "cell_type": "markdown",
   "id": "improving-colors",
   "metadata": {
    "papermill": {
     "duration": 0.070079,
     "end_time": "2021-07-07T21:05:34.842317",
     "exception": false,
     "start_time": "2021-07-07T21:05:34.772238",
     "status": "completed"
    },
    "tags": []
   },
   "source": [
    "- From the line plot we can see that Udemy courses on the Web Development and Business Finance significantly increased till 2015 \n",
    "- Number of Business Finance related courses stay almost same in 2016 but Web Development related courses continued to increase significantly. "
   ]
  },
  {
   "cell_type": "markdown",
   "id": "moral-cannon",
   "metadata": {
    "papermill": {
     "duration": 0.070845,
     "end_time": "2021-07-07T21:05:34.984384",
     "exception": false,
     "start_time": "2021-07-07T21:05:34.913539",
     "status": "completed"
    },
    "tags": []
   },
   "source": [
    "### **Based on the Level of the Courses**"
   ]
  },
  {
   "cell_type": "markdown",
   "id": "clear-invite",
   "metadata": {
    "papermill": {
     "duration": 0.070132,
     "end_time": "2021-07-07T21:05:35.124670",
     "exception": false,
     "start_time": "2021-07-07T21:05:35.054538",
     "status": "completed"
    },
    "tags": []
   },
   "source": [
    "- Let's see UDEMY courses by their levels."
   ]
  },
  {
   "cell_type": "code",
   "execution_count": 22,
   "id": "brief-lease",
   "metadata": {
    "execution": {
     "iopub.execute_input": "2021-07-07T21:05:35.274546Z",
     "iopub.status.busy": "2021-07-07T21:05:35.273714Z",
     "iopub.status.idle": "2021-07-07T21:05:35.276821Z",
     "shell.execute_reply": "2021-07-07T21:05:35.277344Z",
     "shell.execute_reply.started": "2021-07-07T20:45:36.971230Z"
    },
    "papermill": {
     "duration": 0.082882,
     "end_time": "2021-07-07T21:05:35.277535",
     "exception": false,
     "start_time": "2021-07-07T21:05:35.194653",
     "status": "completed"
    },
    "tags": []
   },
   "outputs": [
    {
     "data": {
      "text/plain": [
       "All Levels            0.52\n",
       "Beginner Level        0.35\n",
       "Intermediate Level    0.11\n",
       "Expert Level          0.02\n",
       "Name: level, dtype: float64"
      ]
     },
     "execution_count": 22,
     "metadata": {},
     "output_type": "execute_result"
    }
   ],
   "source": [
    "np.round(df['level'].value_counts(normalize=True),2)"
   ]
  },
  {
   "cell_type": "markdown",
   "id": "hollow-trick",
   "metadata": {
    "papermill": {
     "duration": 0.070215,
     "end_time": "2021-07-07T21:05:35.418414",
     "exception": false,
     "start_time": "2021-07-07T21:05:35.348199",
     "status": "completed"
    },
    "tags": []
   },
   "source": [
    "- Overall 52% of the Udemy Courses contains information for all levels of the learner. \n",
    "- Beginner level courses make up 35% of all of the courses\n",
    "- 1 out of 10 courses offered by UDEMY is in the intermediate level.\n",
    "- Only 2 out of 100 courses offered by UDEMY appeal to advance or exper level learners."
   ]
  },
  {
   "cell_type": "code",
   "execution_count": 23,
   "id": "congressional-geography",
   "metadata": {
    "execution": {
     "iopub.execute_input": "2021-07-07T21:05:35.562226Z",
     "iopub.status.busy": "2021-07-07T21:05:35.561507Z",
     "iopub.status.idle": "2021-07-07T21:05:35.655836Z",
     "shell.execute_reply": "2021-07-07T21:05:35.656376Z",
     "shell.execute_reply.started": "2021-07-07T20:45:36.987189Z"
    },
    "papermill": {
     "duration": 0.167578,
     "end_time": "2021-07-07T21:05:35.656558",
     "exception": false,
     "start_time": "2021-07-07T21:05:35.488980",
     "status": "completed"
    },
    "tags": []
   },
   "outputs": [
    {
     "data": {
      "text/html": [
       "<div>                            <div id=\"7ca06ec6-69d4-405d-8c87-a48214b2f64b\" class=\"plotly-graph-div\" style=\"height:525px; width:100%;\"></div>            <script type=\"text/javascript\">                require([\"plotly\"], function(Plotly) {                    window.PLOTLYENV=window.PLOTLYENV || {};                                    if (document.getElementById(\"7ca06ec6-69d4-405d-8c87-a48214b2f64b\")) {                    Plotly.newPlot(                        \"7ca06ec6-69d4-405d-8c87-a48214b2f64b\",                        [{\"alignmentgroup\": \"True\", \"bingroup\": \"x\", \"hovertemplate\": \"level=%{x}<br>count=%{y}<extra></extra>\", \"legendgroup\": \"\", \"marker\": {\"color\": \"#636efa\"}, \"name\": \"\", \"offsetgroup\": \"\", \"orientation\": \"v\", \"showlegend\": false, \"type\": \"histogram\", \"x\": [\"All Levels\", \"All Levels\", \"Intermediate Level\", \"All Levels\", \"Intermediate Level\", \"All Levels\", \"Beginner Level\", \"All Levels\", \"Expert Level\", \"All Levels\", \"All Levels\", \"All Levels\", \"All Levels\", \"All Levels\", \"All Levels\", \"Intermediate Level\", \"Beginner Level\", \"All Levels\", \"All Levels\", \"Beginner Level\", \"All Levels\", \"All Levels\", \"All Levels\", \"Beginner Level\", \"All Levels\", \"All Levels\", \"All Levels\", \"Intermediate Level\", \"All Levels\", \"Beginner Level\", \"Beginner Level\", \"All Levels\", \"All Levels\", \"All Levels\", \"All Levels\", \"Intermediate Level\", \"Beginner Level\", \"All Levels\", \"All Levels\", \"All Levels\", \"All Levels\", \"All Levels\", \"Beginner Level\", \"Intermediate Level\", \"All Levels\", \"All Levels\", \"All Levels\", \"All Levels\", \"All Levels\", \"All Levels\", \"Expert Level\", \"All Levels\", \"Intermediate Level\", \"All Levels\", \"All Levels\", \"Beginner Level\", \"Beginner Level\", \"Intermediate Level\", \"Intermediate Level\", \"All Levels\", \"All Levels\", \"Beginner Level\", \"All Levels\", \"All Levels\", \"All Levels\", \"All Levels\", \"Beginner Level\", \"All Levels\", \"All Levels\", \"All Levels\", \"All Levels\", \"Beginner Level\", \"All Levels\", \"All Levels\", \"Beginner Level\", \"All Levels\", \"All Levels\", \"All Levels\", \"Beginner Level\", \"All Levels\", \"Expert Level\", \"All Levels\", \"Beginner Level\", \"Beginner Level\", \"All Levels\", \"All Levels\", \"All Levels\", \"All Levels\", \"Beginner Level\", \"All Levels\", \"Intermediate Level\", \"Beginner Level\", \"All Levels\", \"Beginner Level\", \"All Levels\", \"Beginner Level\", \"Intermediate Level\", \"Beginner Level\", \"All Levels\", \"Beginner Level\", \"All Levels\", \"Beginner Level\", \"All Levels\", \"Beginner Level\", \"Beginner Level\", \"All Levels\", \"All Levels\", \"Beginner Level\", \"All Levels\", \"All Levels\", \"All Levels\", \"Beginner Level\", \"Beginner Level\", \"All Levels\", \"All Levels\", \"All Levels\", \"All Levels\", \"All Levels\", \"Beginner Level\", \"Intermediate Level\", \"All Levels\", \"Expert Level\", \"All Levels\", \"All Levels\", \"All Levels\", \"Intermediate Level\", \"Intermediate Level\", \"Expert Level\", \"Beginner Level\", \"Intermediate Level\", \"Beginner Level\", \"All Levels\", \"All Levels\", \"All Levels\", \"All Levels\", \"All Levels\", \"Beginner Level\", \"All Levels\", \"All Levels\", \"All Levels\", \"Beginner Level\", \"Beginner Level\", \"All Levels\", \"Beginner Level\", \"Beginner Level\", \"Intermediate Level\", \"Beginner Level\", \"Intermediate Level\", \"All Levels\", \"Beginner Level\", \"Beginner Level\", \"All Levels\", \"All Levels\", \"Beginner Level\", \"All Levels\", \"All Levels\", \"Intermediate Level\", \"Beginner Level\", \"All Levels\", \"Beginner Level\", \"All Levels\", \"All Levels\", \"Beginner Level\", \"All Levels\", \"Beginner Level\", \"All Levels\", \"All Levels\", \"All Levels\", \"All Levels\", \"All Levels\", \"Beginner Level\", \"All Levels\", \"All Levels\", \"All Levels\", \"All Levels\", \"All Levels\", \"All Levels\", \"All Levels\", \"Beginner Level\", \"Beginner Level\", \"All Levels\", \"All Levels\", \"Intermediate Level\", \"Beginner Level\", \"Intermediate Level\", \"All Levels\", \"All Levels\", \"All Levels\", \"Beginner Level\", \"All Levels\", \"All Levels\", \"Beginner Level\", \"All Levels\", \"Beginner Level\", \"Intermediate Level\", \"All Levels\", \"All Levels\", \"All Levels\", \"All Levels\", \"All Levels\", \"Expert Level\", \"Intermediate Level\", \"All Levels\", \"All Levels\", \"Intermediate Level\", \"All Levels\", \"Intermediate Level\", \"All Levels\", \"All Levels\", \"Beginner Level\", \"Expert Level\", \"All Levels\", \"All Levels\", \"Intermediate Level\", \"All Levels\", \"All Levels\", \"All Levels\", \"All Levels\", \"All Levels\", \"Intermediate Level\", \"All Levels\", \"All Levels\", \"All Levels\", \"Beginner Level\", \"Beginner Level\", \"Beginner Level\", \"Intermediate Level\", \"All Levels\", \"All Levels\", \"All Levels\", \"Beginner Level\", \"Expert Level\", \"All Levels\", \"Beginner Level\", \"All Levels\", \"All Levels\", \"All Levels\", \"All Levels\", \"Intermediate Level\", \"All Levels\", \"Intermediate Level\", \"All Levels\", \"All Levels\", \"All Levels\", \"All Levels\", \"Beginner Level\", \"Beginner Level\", \"All Levels\", \"Beginner Level\", \"Beginner Level\", \"Intermediate Level\", \"All Levels\", \"All Levels\", \"All Levels\", \"Intermediate Level\", \"All Levels\", \"Beginner Level\", \"All Levels\", \"All Levels\", \"Beginner Level\", \"All Levels\", \"All Levels\", \"Beginner Level\", \"All Levels\", \"Beginner Level\", \"Expert Level\", \"All Levels\", \"All Levels\", \"Intermediate Level\", \"All Levels\", \"Beginner Level\", \"Beginner Level\", \"Beginner Level\", \"Intermediate Level\", \"Intermediate Level\", \"All Levels\", \"All Levels\", \"Beginner Level\", \"Intermediate Level\", \"Beginner Level\", \"All Levels\", \"All Levels\", \"All Levels\", \"All Levels\", \"Beginner Level\", \"All Levels\", \"All Levels\", \"All Levels\", \"All Levels\", \"Beginner Level\", \"All Levels\", \"All Levels\", \"Expert Level\", \"All Levels\", \"All Levels\", \"All Levels\", \"Intermediate Level\", \"Beginner Level\", \"All Levels\", \"Intermediate Level\", \"Expert Level\", \"All Levels\", \"Beginner Level\", \"All Levels\", \"All Levels\", \"All Levels\", \"All Levels\", \"All Levels\", \"Beginner Level\", \"Beginner Level\", \"Beginner Level\", \"All Levels\", \"All Levels\", \"All Levels\", \"Beginner Level\", \"All Levels\", \"All Levels\", \"All Levels\", \"All Levels\", \"All Levels\", \"Beginner Level\", \"All Levels\", \"All Levels\", \"All Levels\", \"Intermediate Level\", \"All Levels\", \"All Levels\", \"Beginner Level\", \"All Levels\", \"Intermediate Level\", \"All Levels\", \"Beginner Level\", \"Intermediate Level\", \"All Levels\", \"All Levels\", \"Beginner Level\", \"Beginner Level\", \"Beginner Level\", \"All Levels\", \"All Levels\", \"Beginner Level\", \"All Levels\", \"All Levels\", \"Beginner Level\", \"Expert Level\", \"All Levels\", \"All Levels\", \"All Levels\", \"All Levels\", \"All Levels\", \"All Levels\", \"All Levels\", \"All Levels\", \"All Levels\", \"Beginner Level\", \"Beginner Level\", \"All Levels\", \"Beginner Level\", \"All Levels\", \"All Levels\", \"All Levels\", \"All Levels\", \"All Levels\", \"Beginner Level\", \"All Levels\", \"Beginner Level\", \"All Levels\", \"All Levels\", \"All Levels\", \"All Levels\", \"All Levels\", \"All Levels\", \"All Levels\", \"Beginner Level\", \"Beginner Level\", \"Beginner Level\", \"All Levels\", \"All Levels\", \"All Levels\", \"Beginner Level\", \"Beginner Level\", \"Expert Level\", \"All Levels\", \"All Levels\", \"All Levels\", \"Beginner Level\", \"All Levels\", \"Beginner Level\", \"Beginner Level\", \"All Levels\", \"All Levels\", \"Beginner Level\", \"All Levels\", \"All Levels\", \"Beginner Level\", \"All Levels\", \"All Levels\", \"All Levels\", \"Beginner Level\", \"Beginner Level\", \"All Levels\", \"All Levels\", \"All Levels\", \"All Levels\", \"All Levels\", \"Intermediate Level\", \"Beginner Level\", \"All Levels\", \"Beginner Level\", \"Beginner Level\", \"Beginner Level\", \"Beginner Level\", \"All Levels\", \"All Levels\", \"Intermediate Level\", \"Intermediate Level\", \"Intermediate Level\", \"All Levels\", \"All Levels\", \"All Levels\", \"All Levels\", \"All Levels\", \"Beginner Level\", \"Beginner Level\", \"All Levels\", \"Beginner Level\", \"All Levels\", \"Beginner Level\", \"All Levels\", \"Beginner Level\", \"All Levels\", \"Beginner Level\", \"Beginner Level\", \"All Levels\", \"All Levels\", \"All Levels\", \"All Levels\", \"Intermediate Level\", \"Beginner Level\", \"All Levels\", \"All Levels\", \"All Levels\", \"Intermediate Level\", \"All Levels\", \"All Levels\", \"Beginner Level\", \"All Levels\", \"Beginner Level\", \"All Levels\", \"All Levels\", \"All Levels\", \"Intermediate Level\", \"Intermediate Level\", \"All Levels\", \"Beginner Level\", \"Beginner Level\", \"Beginner Level\", \"Intermediate Level\", \"Intermediate Level\", \"Beginner Level\", \"Intermediate Level\", \"Intermediate Level\", \"All Levels\", \"All Levels\", \"Beginner Level\", \"All Levels\", \"Intermediate Level\", \"All Levels\", \"All Levels\", \"All Levels\", \"All Levels\", \"All Levels\", \"All Levels\", \"Beginner Level\", \"All Levels\", \"All Levels\", \"All Levels\", \"All Levels\", \"Intermediate Level\", \"All Levels\", \"Intermediate Level\", \"All Levels\", \"All Levels\", \"All Levels\", \"All Levels\", \"All Levels\", \"All Levels\", \"Beginner Level\", \"All Levels\", \"Beginner Level\", \"All Levels\", \"Beginner Level\", \"All Levels\", \"Expert Level\", \"Beginner Level\", \"All Levels\", \"All Levels\", \"All Levels\", \"All Levels\", \"All Levels\", \"Beginner Level\", \"All Levels\", \"All Levels\", \"All Levels\", \"All Levels\", \"Beginner Level\", \"All Levels\", \"All Levels\", \"Beginner Level\", \"All Levels\", \"Beginner Level\", \"All Levels\", \"All Levels\", \"All Levels\", \"Intermediate Level\", \"All Levels\", \"All Levels\", \"All Levels\", \"All Levels\", \"Beginner Level\", \"Beginner Level\", \"Beginner Level\", \"All Levels\", \"All Levels\", \"All Levels\", \"All Levels\", \"All Levels\", \"All Levels\", \"All Levels\", \"Intermediate Level\", \"All Levels\", \"Beginner Level\", \"All Levels\", \"Intermediate Level\", \"Intermediate Level\", \"Intermediate Level\", \"All Levels\", \"Beginner Level\", \"Beginner Level\", \"All Levels\", \"Intermediate Level\", \"All Levels\", \"All Levels\", \"All Levels\", \"Beginner Level\", \"All Levels\", \"All Levels\", \"All Levels\", \"All Levels\", \"All Levels\", \"Beginner Level\", \"All Levels\", \"All Levels\", \"All Levels\", \"All Levels\", \"Intermediate Level\", \"Intermediate Level\", \"Intermediate Level\", \"All Levels\", \"Beginner Level\", \"All Levels\", \"All Levels\", \"All Levels\", \"All Levels\", \"Expert Level\", \"Beginner Level\", \"Beginner Level\", \"Beginner Level\", \"All Levels\", \"Expert Level\", \"All Levels\", \"All Levels\", \"All Levels\", \"Beginner Level\", \"Intermediate Level\", \"All Levels\", \"All Levels\", \"Expert Level\", \"All Levels\", \"All Levels\", \"Beginner Level\", \"All Levels\", \"Beginner Level\", \"All Levels\", \"Beginner Level\", \"All Levels\", \"All Levels\", \"Beginner Level\", \"All Levels\", \"All Levels\", \"All Levels\", \"All Levels\", \"All Levels\", \"All Levels\", \"All Levels\", \"Expert Level\", \"All Levels\", \"Beginner Level\", \"Beginner Level\", \"Beginner Level\", \"Beginner Level\", \"All Levels\", \"All Levels\", \"Beginner Level\", \"All Levels\", \"Intermediate Level\", \"All Levels\", \"Beginner Level\", \"All Levels\", \"All Levels\", \"Beginner Level\", \"All Levels\", \"All Levels\", \"All Levels\", \"Beginner Level\", \"Beginner Level\", \"All Levels\", \"All Levels\", \"All Levels\", \"All Levels\", \"Intermediate Level\", \"Beginner Level\", \"All Levels\", \"All Levels\", \"All Levels\", \"Beginner Level\", \"All Levels\", \"All Levels\", \"All Levels\", \"All Levels\", \"All Levels\", \"Expert Level\", \"Beginner Level\", \"All Levels\", \"Beginner Level\", \"All Levels\", \"All Levels\", \"All Levels\", \"All Levels\", \"All Levels\", \"Intermediate Level\", \"Beginner Level\", \"All Levels\", \"All Levels\", \"Beginner Level\", \"All Levels\", \"All Levels\", \"Beginner Level\", \"All Levels\", \"Beginner Level\", \"All Levels\", \"Beginner Level\", \"All Levels\", \"All Levels\", \"All Levels\", \"All Levels\", \"All Levels\", \"Beginner Level\", \"All Levels\", \"All Levels\", \"Beginner Level\", \"All Levels\", \"Beginner Level\", \"Beginner Level\", \"Intermediate Level\", \"All Levels\", \"All Levels\", \"All Levels\", \"Intermediate Level\", \"All Levels\", \"All Levels\", \"All Levels\", \"All Levels\", \"All Levels\", \"Beginner Level\", \"Beginner Level\", \"Beginner Level\", \"All Levels\", \"Beginner Level\", \"All Levels\", \"Beginner Level\", \"Intermediate Level\", \"All Levels\", \"Beginner Level\", \"All Levels\", \"All Levels\", \"All Levels\", \"All Levels\", \"All Levels\", \"All Levels\", \"Intermediate Level\", \"All Levels\", \"All Levels\", \"Intermediate Level\", \"All Levels\", \"All Levels\", \"Beginner Level\", \"All Levels\", \"All Levels\", \"All Levels\", \"All Levels\", \"All Levels\", \"All Levels\", \"Beginner Level\", \"All Levels\", \"All Levels\", \"All Levels\", \"All Levels\", \"All Levels\", \"Beginner Level\", \"All Levels\", \"All Levels\", \"All Levels\", \"All Levels\", \"Intermediate Level\", \"All Levels\", \"Beginner Level\", \"All Levels\", \"All Levels\", \"Beginner Level\", \"All Levels\", \"All Levels\", \"All Levels\", \"Beginner Level\", \"All Levels\", \"All Levels\", \"All Levels\", \"Beginner Level\", \"Beginner Level\", \"All Levels\", \"All Levels\", \"All Levels\", \"Expert Level\", \"All Levels\", \"Beginner Level\", \"Beginner Level\", \"Intermediate Level\", \"All Levels\", \"Beginner Level\", \"Beginner Level\", \"All Levels\", \"All Levels\", \"Beginner Level\", \"All Levels\", \"Expert Level\", \"All Levels\", \"All Levels\", \"Beginner Level\", \"All Levels\", \"All Levels\", \"Intermediate Level\", \"All Levels\", \"Beginner Level\", \"All Levels\", \"All Levels\", \"Beginner Level\", \"All Levels\", \"Intermediate Level\", \"All Levels\", \"All Levels\", \"All Levels\", \"All Levels\", \"All Levels\", \"Beginner Level\", \"All Levels\", \"Beginner Level\", \"All Levels\", \"All Levels\", \"Beginner Level\", \"All Levels\", \"All Levels\", \"All Levels\", \"All Levels\", \"Beginner Level\", \"All Levels\", \"All Levels\", \"All Levels\", \"All Levels\", \"All Levels\", \"Intermediate Level\", \"Intermediate Level\", \"All Levels\", \"Beginner Level\", \"Beginner Level\", \"Beginner Level\", \"Beginner Level\", \"Beginner Level\", \"All Levels\", \"Beginner Level\", \"Expert Level\", \"All Levels\", \"All Levels\", \"Expert Level\", \"Beginner Level\", \"All Levels\", \"Expert Level\", \"Intermediate Level\", \"Expert Level\", \"All Levels\", \"All Levels\", \"Beginner Level\", \"Intermediate Level\", \"All Levels\", \"All Levels\", \"Beginner Level\", \"All Levels\", \"Intermediate Level\", \"All Levels\", \"All Levels\", \"Beginner Level\", \"All Levels\", \"Beginner Level\", \"Beginner Level\", \"All Levels\", \"All Levels\", \"Beginner Level\", \"Intermediate Level\", \"All Levels\", \"Beginner Level\", \"All Levels\", \"All Levels\", \"All Levels\", \"Beginner Level\", \"All Levels\", \"Beginner Level\", \"All Levels\", \"Beginner Level\", \"All Levels\", \"All Levels\", \"Beginner Level\", \"Intermediate Level\", \"Beginner Level\", \"All Levels\", \"All Levels\", \"All Levels\", \"Beginner Level\", \"Beginner Level\", \"Beginner Level\", \"All Levels\", \"All Levels\", \"Beginner Level\", \"All Levels\", \"All Levels\", \"All Levels\", \"Beginner Level\", \"All Levels\", \"Beginner Level\", \"All Levels\", \"Intermediate Level\", \"All Levels\", \"Intermediate Level\", \"All Levels\", \"Intermediate Level\", \"All Levels\", \"All Levels\", \"Expert Level\", \"Beginner Level\", \"Beginner Level\", \"All Levels\", \"All Levels\", \"All Levels\", \"Beginner Level\", \"Beginner Level\", \"All Levels\", \"All Levels\", \"All Levels\", \"Beginner Level\", \"All Levels\", \"Beginner Level\", \"Beginner Level\", \"All Levels\", \"All Levels\", \"All Levels\", \"Intermediate Level\", \"All Levels\", \"Beginner Level\", \"All Levels\", \"All Levels\", \"All Levels\", \"Beginner Level\", \"All Levels\", \"Intermediate Level\", \"All Levels\", \"All Levels\", \"Beginner Level\", \"Intermediate Level\", \"Beginner Level\", \"Intermediate Level\", \"All Levels\", \"All Levels\", \"All Levels\", \"All Levels\", \"All Levels\", \"Beginner Level\", \"All Levels\", \"Beginner Level\", \"Beginner Level\", \"Intermediate Level\", \"All Levels\", \"All Levels\", \"Intermediate Level\", \"All Levels\", \"Intermediate Level\", \"Intermediate Level\", \"Beginner Level\", \"All Levels\", \"All Levels\", \"All Levels\", \"All Levels\", \"Beginner Level\", \"Beginner Level\", \"All Levels\", \"Beginner Level\", \"Beginner Level\", \"Intermediate Level\", \"Beginner Level\", \"All Levels\", \"All Levels\", \"All Levels\", \"Beginner Level\", \"Beginner Level\", \"Beginner Level\", \"Beginner Level\", \"Beginner Level\", \"Intermediate Level\", \"All Levels\", \"Intermediate Level\", \"All Levels\", \"Beginner Level\", \"All Levels\", \"All Levels\", \"Beginner Level\", \"All Levels\", \"All Levels\", \"Beginner Level\", \"All Levels\", \"All Levels\", \"All Levels\", \"Intermediate Level\", \"Beginner Level\", \"Intermediate Level\", \"Beginner Level\", \"All Levels\", \"All Levels\", \"All Levels\", \"All Levels\", \"All Levels\", \"All Levels\", \"Beginner Level\", \"All Levels\", \"All Levels\", \"All Levels\", \"Beginner Level\", \"Beginner Level\", \"All Levels\", \"All Levels\", \"Beginner Level\", \"Beginner Level\", \"All Levels\", \"All Levels\", \"All Levels\", \"All Levels\", \"All Levels\", \"Beginner Level\", \"All Levels\", \"All Levels\", \"All Levels\", \"All Levels\", \"Beginner Level\", \"Beginner Level\", \"All Levels\", \"All Levels\", \"All Levels\", \"Beginner Level\", \"All Levels\", \"All Levels\", \"All Levels\", \"All Levels\", \"Beginner Level\", \"Beginner Level\", \"Beginner Level\", \"Expert Level\", \"Intermediate Level\", \"All Levels\", \"Beginner Level\", \"All Levels\", \"Beginner Level\", \"Intermediate Level\", \"Beginner Level\", \"All Levels\", \"Beginner Level\", \"Beginner Level\", \"All Levels\", \"All Levels\", \"All Levels\", \"All Levels\", \"Intermediate Level\", \"All Levels\", \"Intermediate Level\", \"Beginner Level\", \"All Levels\", \"All Levels\", \"Beginner Level\", \"All Levels\", \"All Levels\", \"All Levels\", \"All Levels\", \"All Levels\", \"Beginner Level\", \"Beginner Level\", \"Intermediate Level\", \"Beginner Level\", \"All Levels\", \"All Levels\", \"Intermediate Level\", \"Intermediate Level\", \"Beginner Level\", \"Beginner Level\", \"Intermediate Level\", \"Intermediate Level\", \"Beginner Level\", \"Beginner Level\", \"Beginner Level\", \"All Levels\", \"All Levels\", \"All Levels\", \"Intermediate Level\", \"All Levels\", \"Beginner Level\", \"Beginner Level\", \"Beginner Level\", \"All Levels\", \"Beginner Level\", \"Intermediate Level\", \"All Levels\", \"All Levels\", \"Intermediate Level\", \"Beginner Level\", \"Beginner Level\", \"All Levels\", \"Beginner Level\", \"Intermediate Level\", \"Beginner Level\", \"All Levels\", \"All Levels\", \"All Levels\", \"All Levels\", \"All Levels\", \"All Levels\", \"All Levels\", \"Beginner Level\", \"Beginner Level\", \"Beginner Level\", \"Beginner Level\", \"All Levels\", \"All Levels\", \"All Levels\", \"Beginner Level\", \"Beginner Level\", \"Beginner Level\", \"Beginner Level\", \"Beginner Level\", \"Expert Level\", \"Beginner Level\", \"All Levels\", \"Expert Level\", \"Beginner Level\", \"All Levels\", \"All Levels\", \"Beginner Level\", \"Beginner Level\", \"Beginner Level\", \"All Levels\", \"All Levels\", \"Intermediate Level\", \"Beginner Level\", \"All Levels\", \"All Levels\", \"Intermediate Level\", \"Beginner Level\", \"All Levels\", \"Intermediate Level\", \"All Levels\", \"All Levels\", \"All Levels\", \"Intermediate Level\", \"All Levels\", \"Beginner Level\", \"All Levels\", \"Beginner Level\", \"Beginner Level\", \"All Levels\", \"Beginner Level\", \"All Levels\", \"Beginner Level\", \"Beginner Level\", \"All Levels\", \"All Levels\", \"All Levels\", \"Beginner Level\", \"All Levels\", \"Intermediate Level\", \"Beginner Level\", \"All Levels\", \"All Levels\", \"Beginner Level\", \"All Levels\", \"All Levels\", \"All Levels\", \"Intermediate Level\", \"Beginner Level\", \"Intermediate Level\", \"All Levels\", \"Beginner Level\", \"All Levels\", \"All Levels\", \"All Levels\", \"All Levels\", \"Beginner Level\", \"Intermediate Level\", \"All Levels\", \"All Levels\", \"Beginner Level\", \"All Levels\", \"All Levels\", \"All Levels\", \"All Levels\", \"All Levels\", \"All Levels\", \"Expert Level\", \"All Levels\", \"Beginner Level\", \"All Levels\", \"All Levels\", \"All Levels\", \"All Levels\", \"All Levels\", \"All Levels\", \"All Levels\", \"All Levels\", \"All Levels\", \"Beginner Level\", \"Intermediate Level\", \"All Levels\", \"Intermediate Level\", \"All Levels\", \"All Levels\", \"Beginner Level\", \"Beginner Level\", \"Expert Level\", \"Beginner Level\", \"All Levels\", \"All Levels\", \"Beginner Level\", \"All Levels\", \"All Levels\", \"All Levels\", \"All Levels\", \"Beginner Level\", \"All Levels\", \"All Levels\", \"Beginner Level\", \"All Levels\", \"Beginner Level\", \"All Levels\", \"All Levels\", \"Beginner Level\", \"Beginner Level\", \"All Levels\", \"All Levels\", \"All Levels\", \"Beginner Level\", \"Beginner Level\", \"Intermediate Level\", \"Intermediate Level\", \"Beginner Level\", \"All Levels\", \"Beginner Level\", \"All Levels\", \"Beginner Level\", \"Beginner Level\", \"All Levels\", \"Beginner Level\", \"Beginner Level\", \"All Levels\", \"Intermediate Level\", \"Beginner Level\", \"Beginner Level\", \"Intermediate Level\", \"Beginner Level\", \"All Levels\", \"All Levels\", \"Beginner Level\", \"All Levels\", \"Intermediate Level\", \"Beginner Level\", \"All Levels\", \"All Levels\", \"All Levels\", \"All Levels\", \"All Levels\", \"Beginner Level\", \"All Levels\", \"Intermediate Level\", \"All Levels\", \"All Levels\", \"Intermediate Level\", \"All Levels\", \"All Levels\", \"Beginner Level\", \"Beginner Level\", \"Beginner Level\", \"Beginner Level\", \"All Levels\", \"All Levels\", \"All Levels\", \"All Levels\", \"All Levels\", \"Beginner Level\", \"Beginner Level\", \"All Levels\", \"All Levels\", \"Beginner Level\", \"Beginner Level\", \"Beginner Level\", \"All Levels\", \"Beginner Level\", \"All Levels\", \"Intermediate Level\", \"All Levels\", \"Beginner Level\", \"All Levels\", \"Expert Level\", \"Beginner Level\", \"Beginner Level\", \"Beginner Level\", \"Beginner Level\", \"Beginner Level\", \"Beginner Level\", \"Beginner Level\", \"Beginner Level\", \"Beginner Level\", \"Beginner Level\", \"Beginner Level\", \"Beginner Level\", \"Beginner Level\", \"All Levels\", \"All Levels\", \"All Levels\", \"Beginner Level\", \"Beginner Level\", \"All Levels\", \"Intermediate Level\", \"Beginner Level\", \"Intermediate Level\", \"All Levels\", \"Beginner Level\", \"Beginner Level\", \"Beginner Level\", \"All Levels\", \"All Levels\", \"All Levels\", \"Beginner Level\", \"Beginner Level\", \"Beginner Level\", \"All Levels\", \"Beginner Level\", \"Beginner Level\", \"Beginner Level\", \"All Levels\", \"All Levels\", \"All Levels\", \"Intermediate Level\", \"All Levels\", \"Beginner Level\", \"All Levels\", \"All Levels\", \"All Levels\", \"All Levels\", \"All Levels\", \"Beginner Level\", \"Beginner Level\", \"All Levels\", \"All Levels\", \"Beginner Level\", \"Beginner Level\", \"All Levels\", \"Beginner Level\", \"Beginner Level\", \"All Levels\", \"All Levels\", \"Beginner Level\", \"All Levels\", \"Beginner Level\", \"All Levels\", \"Beginner Level\", \"All Levels\", \"All Levels\", \"Beginner Level\", \"All Levels\", \"Beginner Level\", \"Beginner Level\", \"Beginner Level\", \"All Levels\", \"All Levels\", \"Beginner Level\", \"Intermediate Level\", \"All Levels\", \"All Levels\", \"All Levels\", \"All Levels\", \"Beginner Level\", \"Beginner Level\", \"Beginner Level\", \"All Levels\", \"Beginner Level\", \"All Levels\", \"All Levels\", \"Intermediate Level\", \"All Levels\", \"Beginner Level\", \"All Levels\", \"All Levels\", \"Beginner Level\", \"Beginner Level\", \"Beginner Level\", \"Beginner Level\", \"All Levels\", \"Beginner Level\", \"Beginner Level\", \"All Levels\", \"All Levels\", \"Beginner Level\", \"Beginner Level\", \"Beginner Level\", \"Beginner Level\", \"All Levels\", \"All Levels\", \"Beginner Level\", \"All Levels\", \"All Levels\", \"All Levels\", \"Intermediate Level\", \"All Levels\", \"All Levels\", \"Intermediate Level\", \"Beginner Level\", \"Beginner Level\", \"Expert Level\", \"All Levels\", \"Beginner Level\", \"All Levels\", \"Beginner Level\", \"Beginner Level\", \"Intermediate Level\", \"Beginner Level\", \"Beginner Level\", \"Beginner Level\", \"Beginner Level\", \"All Levels\", \"All Levels\", \"All Levels\", \"All Levels\", \"All Levels\", \"Beginner Level\", \"Beginner Level\", \"All Levels\", \"All Levels\", \"All Levels\", \"Beginner Level\", \"Beginner Level\", \"All Levels\", \"All Levels\", \"All Levels\", \"All Levels\", \"Beginner Level\", \"Beginner Level\", \"All Levels\", \"All Levels\", \"All Levels\", \"Intermediate Level\", \"Intermediate Level\", \"Beginner Level\", \"Beginner Level\", \"Beginner Level\", \"Expert Level\", \"Beginner Level\", \"Beginner Level\", \"All Levels\", \"All Levels\", \"All Levels\", \"All Levels\", \"Intermediate Level\", \"All Levels\", \"All Levels\", \"Intermediate Level\", \"Beginner Level\", \"All Levels\", \"Beginner Level\", \"Intermediate Level\", \"Beginner Level\", \"Beginner Level\", \"Beginner Level\", \"All Levels\", \"All Levels\", \"Beginner Level\", \"Beginner Level\", \"All Levels\", \"All Levels\", \"Beginner Level\", \"All Levels\", \"Beginner Level\", \"Beginner Level\", \"Beginner Level\", \"Beginner Level\", \"All Levels\", \"Beginner Level\", \"Beginner Level\", \"Beginner Level\", \"Beginner Level\", \"All Levels\", \"All Levels\", \"All Levels\", \"All Levels\", \"All Levels\", \"All Levels\", \"All Levels\", \"All Levels\", \"All Levels\", \"Beginner Level\", \"All Levels\", \"Beginner Level\", \"Beginner Level\", \"All Levels\", \"All Levels\", \"Beginner Level\", \"All Levels\", \"Intermediate Level\", \"All Levels\", \"Beginner Level\", \"All Levels\", \"Intermediate Level\", \"All Levels\", \"All Levels\", \"Intermediate Level\", \"Beginner Level\", \"All Levels\", \"Intermediate Level\", \"Intermediate Level\", \"All Levels\", \"All Levels\", \"All Levels\", \"All Levels\", \"All Levels\", \"Beginner Level\", \"All Levels\", \"All Levels\", \"Beginner Level\", \"Beginner Level\", \"Beginner Level\", \"All Levels\", \"All Levels\", \"All Levels\", \"Beginner Level\", \"Beginner Level\", \"Beginner Level\", \"All Levels\", \"Beginner Level\", \"Beginner Level\", \"Beginner Level\", \"Beginner Level\", \"Beginner Level\", \"Beginner Level\", \"Beginner Level\", \"Beginner Level\", \"Beginner Level\", \"Beginner Level\", \"Beginner Level\", \"Beginner Level\", \"Beginner Level\", \"Beginner Level\", \"Intermediate Level\", \"Beginner Level\", \"Beginner Level\", \"Beginner Level\", \"All Levels\", \"All Levels\", \"All Levels\", \"All Levels\", \"All Levels\", \"Beginner Level\", \"All Levels\", \"Beginner Level\", \"All Levels\", \"Intermediate Level\", \"All Levels\", \"All Levels\", \"Beginner Level\", \"Beginner Level\", \"All Levels\", \"All Levels\", \"Beginner Level\", \"All Levels\", \"All Levels\", \"All Levels\", \"Intermediate Level\", \"All Levels\", \"All Levels\", \"Beginner Level\", \"All Levels\", \"All Levels\", \"Intermediate Level\", \"Intermediate Level\", \"All Levels\", \"Beginner Level\", \"Beginner Level\", \"All Levels\", \"Beginner Level\", \"All Levels\", \"Intermediate Level\", \"Beginner Level\", \"All Levels\", \"Beginner Level\", \"All Levels\", \"Beginner Level\", \"Beginner Level\", \"All Levels\", \"Beginner Level\", \"Beginner Level\", \"Beginner Level\", \"All Levels\", \"All Levels\", \"Beginner Level\", \"All Levels\", \"All Levels\", \"All Levels\", \"All Levels\", \"Beginner Level\", \"Intermediate Level\", \"Beginner Level\", \"Beginner Level\", \"Beginner Level\", \"Beginner Level\", \"Beginner Level\", \"All Levels\", \"Beginner Level\", \"Beginner Level\", \"All Levels\", \"All Levels\", \"Beginner Level\", \"Intermediate Level\", \"All Levels\", \"All Levels\", \"Beginner Level\", \"All Levels\", \"Beginner Level\", \"Intermediate Level\", \"Beginner Level\", \"Intermediate Level\", \"Expert Level\", \"All Levels\", \"All Levels\", \"Beginner Level\", \"All Levels\", \"Intermediate Level\", \"Beginner Level\", \"Beginner Level\", \"All Levels\", \"Beginner Level\", \"Intermediate Level\", \"Intermediate Level\", \"All Levels\", \"All Levels\", \"Intermediate Level\", \"All Levels\", \"All Levels\", \"All Levels\", \"All Levels\", \"All Levels\", \"All Levels\", \"Beginner Level\", \"All Levels\", \"All Levels\", \"All Levels\", \"All Levels\", \"Beginner Level\", \"All Levels\", \"Intermediate Level\", \"All Levels\", \"All Levels\", \"All Levels\", \"All Levels\", \"Intermediate Level\", \"Beginner Level\", \"Beginner Level\", \"Intermediate Level\", \"All Levels\", \"Intermediate Level\", \"Beginner Level\", \"Beginner Level\", \"Beginner Level\", \"All Levels\", \"Beginner Level\", \"Beginner Level\", \"Beginner Level\", \"All Levels\", \"Beginner Level\", \"All Levels\", \"Beginner Level\", \"Intermediate Level\", \"Beginner Level\", \"All Levels\", \"Intermediate Level\", \"All Levels\", \"All Levels\", \"Beginner Level\", \"Beginner Level\", \"Intermediate Level\", \"Beginner Level\", \"Beginner Level\", \"All Levels\", \"All Levels\", \"All Levels\", \"All Levels\", \"All Levels\", \"All Levels\", \"All Levels\", \"Beginner Level\", \"All Levels\", \"Expert Level\", \"Beginner Level\", \"All Levels\", \"All Levels\", \"All Levels\", \"All Levels\", \"Beginner Level\", \"Beginner Level\", \"Intermediate Level\", \"All Levels\", \"Beginner Level\", \"All Levels\", \"Beginner Level\", \"All Levels\", \"Intermediate Level\", \"All Levels\", \"All Levels\", \"All Levels\", \"All Levels\", \"Beginner Level\", \"All Levels\", \"All Levels\", \"All Levels\", \"All Levels\", \"All Levels\", \"Beginner Level\", \"Intermediate Level\", \"All Levels\", \"Beginner Level\", \"Beginner Level\", \"All Levels\", \"All Levels\", \"Beginner Level\", \"Beginner Level\", \"All Levels\", \"Beginner Level\", \"All Levels\", \"Beginner Level\", \"Beginner Level\", \"Beginner Level\", \"All Levels\", \"Beginner Level\", \"All Levels\", \"All Levels\", \"Beginner Level\", \"All Levels\", \"Beginner Level\", \"Beginner Level\", \"Beginner Level\", \"Beginner Level\", \"All Levels\", \"All Levels\", \"All Levels\", \"All Levels\", \"All Levels\", \"All Levels\", \"Beginner Level\", \"All Levels\", \"All Levels\", \"All Levels\", \"Beginner Level\", \"Beginner Level\", \"Beginner Level\", \"All Levels\", \"Beginner Level\", \"All Levels\", \"All Levels\", \"All Levels\", \"Beginner Level\", \"All Levels\", \"Beginner Level\", \"All Levels\", \"All Levels\", \"Beginner Level\", \"All Levels\", \"All Levels\", \"All Levels\", \"All Levels\", \"Beginner Level\", \"All Levels\", \"All Levels\", \"All Levels\", \"Intermediate Level\", \"All Levels\", \"Beginner Level\", \"Intermediate Level\", \"All Levels\", \"Beginner Level\", \"Intermediate Level\", \"Intermediate Level\", \"All Levels\", \"All Levels\", \"All Levels\", \"All Levels\", \"Beginner Level\", \"All Levels\", \"All Levels\", \"All Levels\", \"Intermediate Level\", \"Beginner Level\", \"Beginner Level\", \"All Levels\", \"All Levels\", \"All Levels\", \"Beginner Level\", \"All Levels\", \"Beginner Level\", \"All Levels\", \"Beginner Level\", \"All Levels\", \"Intermediate Level\", \"Intermediate Level\", \"All Levels\", \"All Levels\", \"Beginner Level\", \"Intermediate Level\", \"All Levels\", \"Beginner Level\", \"Intermediate Level\", \"All Levels\", \"All Levels\", \"All Levels\", \"Beginner Level\", \"Beginner Level\", \"Beginner Level\", \"All Levels\", \"Beginner Level\", \"All Levels\", \"Beginner Level\", \"All Levels\", \"All Levels\", \"All Levels\", \"Beginner Level\", \"All Levels\", \"All Levels\", \"All Levels\", \"Beginner Level\", \"Intermediate Level\", \"All Levels\", \"All Levels\", \"All Levels\", \"Beginner Level\", \"Intermediate Level\", \"Beginner Level\", \"All Levels\", \"All Levels\", \"All Levels\", \"All Levels\", \"All Levels\", \"Beginner Level\", \"All Levels\", \"All Levels\", \"All Levels\", \"All Levels\", \"Beginner Level\", \"Beginner Level\", \"Beginner Level\", \"All Levels\", \"All Levels\", \"Beginner Level\", \"All Levels\", \"Intermediate Level\", \"All Levels\", \"All Levels\", \"All Levels\", \"Beginner Level\", \"All Levels\", \"Beginner Level\", \"Beginner Level\", \"Beginner Level\", \"All Levels\", \"Beginner Level\", \"Beginner Level\", \"Beginner Level\", \"Intermediate Level\", \"All Levels\", \"All Levels\", \"All Levels\", \"All Levels\", \"Intermediate Level\", \"Beginner Level\", \"All Levels\", \"Beginner Level\", \"Beginner Level\", \"Intermediate Level\", \"All Levels\", \"Beginner Level\", \"Beginner Level\", \"Beginner Level\", \"All Levels\", \"All Levels\", \"Beginner Level\", \"Beginner Level\", \"All Levels\", \"Beginner Level\", \"Beginner Level\", \"Beginner Level\", \"Beginner Level\", \"All Levels\", \"Beginner Level\", \"All Levels\", \"All Levels\", \"Beginner Level\", \"All Levels\", \"All Levels\", \"Beginner Level\", \"Beginner Level\", \"Beginner Level\", \"All Levels\", \"Beginner Level\", \"Beginner Level\", \"Beginner Level\", \"All Levels\", \"All Levels\", \"All Levels\", \"All Levels\", \"Beginner Level\", \"Beginner Level\", \"Beginner Level\", \"All Levels\", \"All Levels\", \"Beginner Level\", \"Intermediate Level\", \"Beginner Level\", \"Beginner Level\", \"All Levels\", \"Beginner Level\", \"Intermediate Level\", \"Beginner Level\", \"All Levels\", \"Beginner Level\", \"Beginner Level\", \"Intermediate Level\", \"All Levels\", \"Beginner Level\", \"All Levels\", \"All Levels\", \"Intermediate Level\", \"All Levels\", \"All Levels\", \"All Levels\", \"Beginner Level\", \"Intermediate Level\", \"All Levels\", \"Beginner Level\", \"All Levels\", \"All Levels\", \"All Levels\", \"Intermediate Level\", \"Beginner Level\", \"All Levels\", \"Beginner Level\", \"Beginner Level\", \"Beginner Level\", \"All Levels\", \"Intermediate Level\", \"Beginner Level\", \"All Levels\", \"Beginner Level\", \"All Levels\", \"Beginner Level\", \"All Levels\", \"Beginner Level\", \"All Levels\", \"Beginner Level\", \"All Levels\", \"Beginner Level\", \"Beginner Level\", \"Intermediate Level\", \"Beginner Level\", \"Beginner Level\", \"Beginner Level\", \"Beginner Level\", \"All Levels\", \"Beginner Level\", \"All Levels\", \"Intermediate Level\", \"All Levels\", \"All Levels\", \"All Levels\", \"Beginner Level\", \"Beginner Level\", \"All Levels\", \"Intermediate Level\", \"All Levels\", \"All Levels\", \"Beginner Level\", \"Beginner Level\", \"All Levels\", \"Beginner Level\", \"Beginner Level\", \"Beginner Level\", \"All Levels\", \"Intermediate Level\", \"Beginner Level\", \"Beginner Level\", \"Beginner Level\", \"Beginner Level\", \"All Levels\", \"Beginner Level\", \"Beginner Level\", \"All Levels\", \"Intermediate Level\", \"All Levels\", \"All Levels\", \"All Levels\", \"All Levels\", \"All Levels\", \"All Levels\", \"Beginner Level\", \"All Levels\", \"Beginner Level\", \"All Levels\", \"All Levels\", \"All Levels\", \"Expert Level\", \"Beginner Level\", \"Beginner Level\", \"All Levels\", \"All Levels\", \"All Levels\", \"Intermediate Level\", \"Beginner Level\", \"Beginner Level\", \"All Levels\", \"Beginner Level\", \"All Levels\", \"Beginner Level\", \"Intermediate Level\", \"All Levels\", \"Beginner Level\", \"Beginner Level\", \"Beginner Level\", \"Beginner Level\", \"All Levels\", \"All Levels\", \"Intermediate Level\", \"Beginner Level\", \"Beginner Level\", \"Beginner Level\", \"Beginner Level\", \"Beginner Level\", \"Beginner Level\", \"All Levels\", \"Intermediate Level\", \"All Levels\", \"Beginner Level\", \"Beginner Level\", \"Beginner Level\", \"All Levels\", \"All Levels\", \"All Levels\", \"Intermediate Level\", \"All Levels\", \"Intermediate Level\", \"All Levels\", \"Expert Level\", \"All Levels\", \"All Levels\", \"Beginner Level\", \"All Levels\", \"Beginner Level\", \"All Levels\", \"All Levels\", \"Beginner Level\", \"Intermediate Level\", \"All Levels\", \"Beginner Level\", \"Beginner Level\", \"All Levels\", \"Beginner Level\", \"All Levels\", \"Beginner Level\", \"All Levels\", \"All Levels\", \"Beginner Level\", \"Beginner Level\", \"Beginner Level\", \"Beginner Level\", \"Beginner Level\", \"Beginner Level\", \"Intermediate Level\", \"All Levels\", \"All Levels\", \"Beginner Level\", \"Beginner Level\", \"Intermediate Level\", \"All Levels\", \"Beginner Level\", \"Beginner Level\", \"Intermediate Level\", \"Beginner Level\", \"Intermediate Level\", \"All Levels\", \"Intermediate Level\", \"All Levels\", \"All Levels\", \"Beginner Level\", \"Beginner Level\", \"All Levels\", \"All Levels\", \"All Levels\", \"Intermediate Level\", \"Intermediate Level\", \"Beginner Level\", \"Intermediate Level\", \"Beginner Level\", \"All Levels\", \"All Levels\", \"All Levels\", \"All Levels\", \"All Levels\", \"Beginner Level\", \"Beginner Level\", \"Beginner Level\", \"Beginner Level\", \"All Levels\", \"Intermediate Level\", \"Intermediate Level\", \"Intermediate Level\", \"Intermediate Level\", \"Beginner Level\", \"All Levels\", \"Expert Level\", \"Beginner Level\", \"Beginner Level\", \"All Levels\", \"All Levels\", \"All Levels\", \"Intermediate Level\", \"All Levels\", \"All Levels\", \"All Levels\", \"Intermediate Level\", \"All Levels\", \"Beginner Level\", \"Beginner Level\", \"All Levels\", \"Intermediate Level\", \"All Levels\", \"All Levels\", \"Beginner Level\", \"Beginner Level\", \"Beginner Level\", \"Beginner Level\", \"Beginner Level\", \"Beginner Level\", \"Intermediate Level\", \"Intermediate Level\", \"All Levels\", \"Beginner Level\", \"Beginner Level\", \"Beginner Level\", \"Beginner Level\", \"All Levels\", \"Beginner Level\", \"Beginner Level\", \"All Levels\", \"Intermediate Level\", \"Intermediate Level\", \"All Levels\", \"All Levels\", \"Intermediate Level\", \"Beginner Level\", \"Beginner Level\", \"All Levels\", \"Beginner Level\", \"All Levels\", \"All Levels\", \"Intermediate Level\", \"All Levels\", \"Beginner Level\", \"All Levels\", \"All Levels\", \"All Levels\", \"Intermediate Level\", \"Beginner Level\", \"Intermediate Level\", \"All Levels\", \"Intermediate Level\", \"Beginner Level\", \"Beginner Level\", \"Intermediate Level\", \"Intermediate Level\", \"Intermediate Level\", \"Intermediate Level\", \"Beginner Level\", \"Intermediate Level\", \"All Levels\", \"Beginner Level\", \"Beginner Level\", \"Beginner Level\", \"Intermediate Level\", \"All Levels\", \"All Levels\", \"Beginner Level\", \"Beginner Level\", \"Beginner Level\", \"Beginner Level\", \"Intermediate Level\", \"Beginner Level\", \"All Levels\", \"Beginner Level\", \"All Levels\", \"All Levels\", \"All Levels\", \"All Levels\", \"All Levels\", \"Beginner Level\", \"All Levels\", \"Beginner Level\", \"Beginner Level\", \"All Levels\", \"Beginner Level\", \"All Levels\", \"All Levels\", \"All Levels\", \"All Levels\", \"All Levels\", \"Intermediate Level\", \"All Levels\", \"Beginner Level\", \"All Levels\", \"All Levels\", \"All Levels\", \"All Levels\", \"Beginner Level\", \"All Levels\", \"All Levels\", \"Intermediate Level\", \"All Levels\", \"Beginner Level\", \"All Levels\", \"Beginner Level\", \"All Levels\", \"Beginner Level\", \"All Levels\", \"Intermediate Level\", \"Beginner Level\", \"Beginner Level\", \"All Levels\", \"Beginner Level\", \"All Levels\", \"All Levels\", \"All Levels\", \"All Levels\", \"All Levels\", \"Beginner Level\", \"Beginner Level\", \"Intermediate Level\", \"Beginner Level\", \"All Levels\", \"Beginner Level\", \"Beginner Level\", \"Beginner Level\", \"Beginner Level\", \"Beginner Level\", \"All Levels\", \"Beginner Level\", \"Beginner Level\", \"All Levels\", \"Beginner Level\", \"Beginner Level\", \"Beginner Level\", \"All Levels\", \"Beginner Level\", \"Intermediate Level\", \"All Levels\", \"All Levels\", \"All Levels\", \"Intermediate Level\", \"All Levels\", \"All Levels\", \"All Levels\", \"Beginner Level\", \"All Levels\", \"All Levels\", \"Beginner Level\", \"All Levels\", \"All Levels\", \"Beginner Level\", \"All Levels\", \"All Levels\", \"Beginner Level\", \"Intermediate Level\", \"All Levels\", \"Intermediate Level\", \"Beginner Level\", \"Beginner Level\", \"All Levels\", \"Intermediate Level\", \"Intermediate Level\", \"Beginner Level\", \"Beginner Level\", \"All Levels\", \"Beginner Level\", \"Beginner Level\", \"Beginner Level\", \"Beginner Level\", \"Beginner Level\", \"Beginner Level\", \"All Levels\", \"All Levels\", \"All Levels\", \"All Levels\", \"Beginner Level\", \"Beginner Level\", \"All Levels\", \"All Levels\", \"Beginner Level\", \"Beginner Level\", \"All Levels\", \"Beginner Level\", \"All Levels\", \"All Levels\", \"All Levels\", \"Beginner Level\", \"Intermediate Level\", \"All Levels\", \"Intermediate Level\", \"Beginner Level\", \"All Levels\", \"All Levels\", \"All Levels\", \"All Levels\", \"All Levels\", \"Beginner Level\", \"All Levels\", \"All Levels\", \"All Levels\", \"Beginner Level\", \"Beginner Level\", \"All Levels\", \"Beginner Level\", \"All Levels\", \"Intermediate Level\", \"All Levels\", \"Beginner Level\", \"Beginner Level\", \"Beginner Level\", \"Beginner Level\", \"All Levels\", \"Beginner Level\", \"All Levels\", \"Beginner Level\", \"Beginner Level\", \"Beginner Level\", \"All Levels\", \"All Levels\", \"All Levels\", \"Beginner Level\", \"Intermediate Level\", \"Beginner Level\", \"Intermediate Level\", \"Intermediate Level\", \"Beginner Level\", \"Beginner Level\", \"Beginner Level\", \"All Levels\", \"Beginner Level\", \"All Levels\", \"All Levels\", \"Expert Level\", \"All Levels\", \"Beginner Level\", \"Intermediate Level\", \"All Levels\", \"Intermediate Level\", \"Beginner Level\", \"Intermediate Level\", \"Beginner Level\", \"All Levels\", \"All Levels\", \"Intermediate Level\", \"All Levels\", \"All Levels\", \"Intermediate Level\", \"Intermediate Level\", \"All Levels\", \"All Levels\", \"All Levels\", \"Intermediate Level\", \"All Levels\", \"Beginner Level\", \"Beginner Level\", \"Intermediate Level\", \"Intermediate Level\", \"Beginner Level\", \"All Levels\", \"All Levels\", \"Intermediate Level\", \"All Levels\", \"Beginner Level\", \"Beginner Level\", \"Beginner Level\", \"Beginner Level\", \"Beginner Level\", \"Intermediate Level\", \"All Levels\", \"Beginner Level\", \"Beginner Level\", \"All Levels\", \"All Levels\", \"Beginner Level\", \"All Levels\", \"Beginner Level\", \"Beginner Level\", \"Beginner Level\", \"All Levels\", \"Beginner Level\", \"All Levels\", \"Beginner Level\", \"Intermediate Level\", \"Beginner Level\", \"Beginner Level\", \"Intermediate Level\", \"Beginner Level\", \"Intermediate Level\", \"Beginner Level\", \"Intermediate Level\", \"All Levels\", \"Beginner Level\", \"Intermediate Level\", \"Intermediate Level\", \"Beginner Level\", \"Beginner Level\", \"Beginner Level\", \"Beginner Level\", \"Expert Level\", \"Beginner Level\", \"All Levels\", \"Beginner Level\", \"Beginner Level\", \"Beginner Level\", \"Intermediate Level\", \"Beginner Level\", \"Beginner Level\", \"Intermediate Level\", \"Beginner Level\", \"Beginner Level\", \"Beginner Level\", \"Intermediate Level\", \"All Levels\", \"Expert Level\", \"All Levels\", \"All Levels\", \"Beginner Level\", \"Beginner Level\", \"All Levels\", \"Intermediate Level\", \"All Levels\", \"All Levels\", \"All Levels\", \"All Levels\", \"Beginner Level\", \"Intermediate Level\", \"Beginner Level\", \"Beginner Level\", \"Beginner Level\", \"Beginner Level\", \"Beginner Level\", \"All Levels\", \"Beginner Level\", \"All Levels\", \"Beginner Level\", \"All Levels\", \"All Levels\", \"Intermediate Level\", \"Beginner Level\", \"All Levels\", \"All Levels\", \"All Levels\", \"Beginner Level\", \"All Levels\", \"All Levels\", \"Beginner Level\", \"Beginner Level\", \"All Levels\", \"Intermediate Level\", \"Intermediate Level\", \"Beginner Level\", \"Beginner Level\", \"Beginner Level\", \"All Levels\", \"Beginner Level\", \"All Levels\", \"All Levels\", \"Beginner Level\", \"Beginner Level\", \"Intermediate Level\", \"Intermediate Level\", \"Beginner Level\", \"Beginner Level\", \"Beginner Level\", \"Beginner Level\", \"All Levels\", \"All Levels\", \"Beginner Level\", \"All Levels\", \"All Levels\", \"All Levels\", \"All Levels\", \"Beginner Level\", \"Beginner Level\", \"Beginner Level\", \"All Levels\", \"Beginner Level\", \"Intermediate Level\", \"Expert Level\", \"Beginner Level\", \"All Levels\", \"Beginner Level\", \"All Levels\", \"All Levels\", \"All Levels\", \"Intermediate Level\", \"Beginner Level\", \"All Levels\", \"Beginner Level\", \"Beginner Level\", \"All Levels\", \"Beginner Level\", \"Beginner Level\", \"Beginner Level\", \"Intermediate Level\", \"Beginner Level\", \"Intermediate Level\", \"Beginner Level\", \"Beginner Level\", \"Beginner Level\", \"All Levels\", \"Intermediate Level\", \"Beginner Level\", \"Beginner Level\", \"All Levels\", \"Beginner Level\", \"All Levels\", \"All Levels\", \"All Levels\", \"All Levels\", \"All Levels\", \"All Levels\", \"Beginner Level\", \"All Levels\", \"Beginner Level\", \"All Levels\", \"Beginner Level\", \"All Levels\", \"All Levels\", \"All Levels\", \"All Levels\", \"All Levels\", \"Intermediate Level\", \"Beginner Level\", \"Beginner Level\", \"Intermediate Level\", \"All Levels\", \"All Levels\", \"Beginner Level\", \"All Levels\", \"All Levels\", \"Beginner Level\", \"All Levels\", \"Intermediate Level\", \"All Levels\", \"Beginner Level\", \"Beginner Level\", \"Beginner Level\", \"All Levels\", \"All Levels\", \"All Levels\", \"Beginner Level\", \"Beginner Level\", \"Intermediate Level\", \"Beginner Level\", \"All Levels\", \"Beginner Level\", \"All Levels\", \"Intermediate Level\", \"Beginner Level\", \"All Levels\", \"All Levels\", \"All Levels\", \"Intermediate Level\", \"All Levels\", \"All Levels\", \"All Levels\", \"Beginner Level\", \"Beginner Level\", \"Intermediate Level\", \"All Levels\", \"All Levels\", \"Beginner Level\", \"Intermediate Level\", \"Beginner Level\", \"Beginner Level\", \"Intermediate Level\", \"Intermediate Level\", \"Intermediate Level\", \"All Levels\", \"Beginner Level\", \"All Levels\", \"All Levels\", \"All Levels\", \"Beginner Level\", \"Intermediate Level\", \"Intermediate Level\", \"Intermediate Level\", \"All Levels\", \"All Levels\", \"All Levels\", \"All Levels\", \"Intermediate Level\", \"All Levels\", \"Beginner Level\", \"Beginner Level\", \"All Levels\", \"All Levels\", \"Beginner Level\", \"All Levels\", \"All Levels\", \"All Levels\", \"Beginner Level\", \"All Levels\", \"All Levels\", \"Intermediate Level\", \"All Levels\", \"Intermediate Level\", \"Beginner Level\", \"All Levels\", \"All Levels\", \"All Levels\", \"All Levels\", \"All Levels\", \"Beginner Level\", \"All Levels\", \"Beginner Level\", \"Intermediate Level\", \"Beginner Level\", \"All Levels\", \"All Levels\", \"All Levels\", \"Beginner Level\", \"Beginner Level\", \"All Levels\", \"All Levels\", \"Beginner Level\", \"Beginner Level\", \"Beginner Level\", \"All Levels\", \"All Levels\", \"All Levels\", \"Beginner Level\", \"All Levels\", \"Intermediate Level\", \"Beginner Level\", \"Beginner Level\", \"All Levels\", \"All Levels\", \"All Levels\", \"All Levels\", \"All Levels\", \"All Levels\", \"Beginner Level\", \"All Levels\", \"All Levels\", \"Beginner Level\", \"All Levels\", \"Beginner Level\", \"All Levels\", \"Beginner Level\", \"All Levels\", \"Intermediate Level\", \"All Levels\", \"Intermediate Level\", \"All Levels\", \"Beginner Level\", \"All Levels\", \"Beginner Level\", \"Intermediate Level\", \"Intermediate Level\", \"All Levels\", \"All Levels\", \"All Levels\", \"All Levels\", \"All Levels\", \"All Levels\", \"All Levels\", \"All Levels\", \"All Levels\", \"All Levels\", \"Beginner Level\", \"All Levels\", \"All Levels\", \"All Levels\", \"Beginner Level\", \"All Levels\", \"All Levels\", \"All Levels\", \"All Levels\", \"All Levels\", \"All Levels\", \"Beginner Level\", \"All Levels\", \"All Levels\", \"All Levels\", \"All Levels\", \"All Levels\", \"All Levels\", \"Intermediate Level\", \"All Levels\", \"Beginner Level\", \"All Levels\", \"All Levels\", \"All Levels\", \"All Levels\", \"All Levels\", \"Beginner Level\", \"All Levels\", \"Intermediate Level\", \"All Levels\", \"All Levels\", \"All Levels\", \"All Levels\", \"All Levels\", \"Intermediate Level\", \"All Levels\", \"All Levels\", \"Beginner Level\", \"Beginner Level\", \"Beginner Level\", \"Beginner Level\", \"All Levels\", \"All Levels\", \"Beginner Level\", \"All Levels\", \"Expert Level\", \"Beginner Level\", \"Beginner Level\", \"Beginner Level\", \"Beginner Level\", \"All Levels\", \"All Levels\", \"All Levels\", \"Beginner Level\", \"All Levels\", \"Beginner Level\", \"Intermediate Level\", \"Beginner Level\", \"Beginner Level\", \"Intermediate Level\", \"All Levels\", \"Beginner Level\", \"All Levels\", \"All Levels\", \"All Levels\", \"Beginner Level\", \"Beginner Level\", \"All Levels\", \"Intermediate Level\", \"All Levels\", \"All Levels\", \"Beginner Level\", \"All Levels\", \"Beginner Level\", \"All Levels\", \"All Levels\", \"All Levels\", \"All Levels\", \"Intermediate Level\", \"All Levels\", \"All Levels\", \"All Levels\", \"All Levels\", \"Beginner Level\", \"All Levels\", \"All Levels\", \"All Levels\", \"Beginner Level\", \"All Levels\", \"All Levels\", \"All Levels\", \"Beginner Level\", \"All Levels\", \"All Levels\", \"All Levels\", \"All Levels\", \"All Levels\", \"All Levels\", \"Beginner Level\", \"Beginner Level\", \"All Levels\", \"All Levels\", \"All Levels\", \"Beginner Level\", \"Beginner Level\", \"Beginner Level\", \"Beginner Level\", \"Intermediate Level\", \"Intermediate Level\", \"Beginner Level\", \"Beginner Level\", \"All Levels\", \"All Levels\", \"Intermediate Level\", \"All Levels\", \"Intermediate Level\", \"Beginner Level\", \"All Levels\", \"All Levels\", \"Beginner Level\", \"All Levels\", \"All Levels\", \"Beginner Level\", \"Intermediate Level\", \"Beginner Level\", \"All Levels\", \"Beginner Level\", \"Beginner Level\", \"All Levels\", \"All Levels\", \"All Levels\", \"Expert Level\", \"All Levels\", \"Beginner Level\", \"Beginner Level\", \"Beginner Level\", \"Intermediate Level\", \"All Levels\", \"All Levels\", \"Beginner Level\", \"All Levels\", \"Beginner Level\", \"All Levels\", \"Beginner Level\", \"All Levels\", \"Beginner Level\", \"All Levels\", \"All Levels\", \"All Levels\", \"All Levels\", \"Beginner Level\", \"Beginner Level\", \"All Levels\", \"All Levels\", \"All Levels\", \"Beginner Level\", \"All Levels\", \"All Levels\", \"All Levels\", \"Beginner Level\", \"All Levels\", \"All Levels\", \"Beginner Level\", \"Beginner Level\", \"Intermediate Level\", \"All Levels\", \"All Levels\", \"All Levels\", \"All Levels\", \"Beginner Level\", \"All Levels\", \"Beginner Level\", \"Beginner Level\", \"All Levels\", \"Beginner Level\", \"Intermediate Level\", \"Beginner Level\", \"All Levels\", \"Beginner Level\", \"All Levels\", \"Beginner Level\", \"All Levels\", \"All Levels\", \"All Levels\", \"All Levels\", \"Intermediate Level\", \"All Levels\", \"All Levels\", \"All Levels\", \"Intermediate Level\", \"All Levels\", \"All Levels\", \"Beginner Level\", \"All Levels\", \"All Levels\", \"Beginner Level\", \"Beginner Level\", \"Beginner Level\", \"All Levels\", \"Intermediate Level\", \"Beginner Level\", \"All Levels\", \"Beginner Level\", \"All Levels\", \"Beginner Level\", \"All Levels\", \"Beginner Level\", \"All Levels\", \"Beginner Level\", \"All Levels\", \"Beginner Level\", \"All Levels\", \"Beginner Level\", \"All Levels\", \"All Levels\", \"Intermediate Level\", \"Beginner Level\", \"All Levels\", \"Intermediate Level\", \"Beginner Level\", \"Beginner Level\", \"Beginner Level\", \"All Levels\", \"Intermediate Level\", \"Beginner Level\", \"All Levels\", \"Beginner Level\", \"All Levels\", \"All Levels\", \"All Levels\", \"Intermediate Level\", \"Beginner Level\", \"Intermediate Level\", \"Intermediate Level\", \"All Levels\", \"All Levels\", \"All Levels\", \"All Levels\", \"Beginner Level\", \"Beginner Level\", \"Intermediate Level\", \"All Levels\", \"All Levels\", \"Intermediate Level\", \"Intermediate Level\", \"Beginner Level\", \"Beginner Level\", \"Beginner Level\", \"Expert Level\", \"All Levels\", \"All Levels\", \"Expert Level\", \"Expert Level\", \"Beginner Level\", \"All Levels\", \"All Levels\", \"Beginner Level\", \"All Levels\", \"Beginner Level\", \"All Levels\", \"All Levels\", \"Beginner Level\", \"Beginner Level\", \"Beginner Level\", \"All Levels\", \"Beginner Level\", \"All Levels\", \"All Levels\", \"All Levels\", \"Beginner Level\", \"Beginner Level\", \"All Levels\", \"Intermediate Level\", \"All Levels\", \"All Levels\", \"All Levels\", \"All Levels\", \"All Levels\", \"Beginner Level\", \"All Levels\", \"Expert Level\", \"Beginner Level\", \"Intermediate Level\", \"All Levels\", \"All Levels\", \"All Levels\", \"Beginner Level\", \"All Levels\", \"All Levels\", \"All Levels\", \"Beginner Level\", \"All Levels\", \"All Levels\", \"Beginner Level\", \"Beginner Level\", \"Beginner Level\", \"All Levels\", \"Beginner Level\", \"Beginner Level\", \"Beginner Level\", \"All Levels\", \"Beginner Level\", \"Beginner Level\", \"Beginner Level\", \"Beginner Level\", \"All Levels\", \"Intermediate Level\", \"Beginner Level\", \"Beginner Level\", \"Beginner Level\", \"All Levels\", \"Beginner Level\", \"All Levels\", \"Intermediate Level\", \"Beginner Level\", \"All Levels\", \"Beginner Level\", \"All Levels\", \"Beginner Level\", \"All Levels\", \"All Levels\", \"Beginner Level\", \"All Levels\", \"All Levels\", \"All Levels\", \"All Levels\", \"All Levels\", \"All Levels\", \"All Levels\", \"All Levels\", \"All Levels\", \"All Levels\", \"All Levels\", \"All Levels\", \"Beginner Level\", \"Beginner Level\", \"All Levels\", \"All Levels\", \"All Levels\", \"Beginner Level\", \"All Levels\", \"All Levels\", \"Beginner Level\", \"Beginner Level\", \"All Levels\", \"Beginner Level\", \"All Levels\", \"Beginner Level\", \"Beginner Level\", \"Intermediate Level\", \"All Levels\", \"Beginner Level\", \"All Levels\", \"All Levels\", \"All Levels\", \"Beginner Level\", \"Beginner Level\", \"Intermediate Level\", \"All Levels\", \"All Levels\", \"All Levels\", \"All Levels\", \"All Levels\", \"Beginner Level\", \"All Levels\", \"All Levels\", \"Beginner Level\", \"All Levels\", \"Intermediate Level\", \"All Levels\", \"Beginner Level\", \"All Levels\", \"Beginner Level\", \"All Levels\", \"Expert Level\", \"Beginner Level\", \"All Levels\", \"Beginner Level\", \"All Levels\", \"All Levels\", \"All Levels\", \"Beginner Level\", \"All Levels\", \"All Levels\", \"All Levels\", \"Beginner Level\", \"Intermediate Level\", \"All Levels\", \"Beginner Level\", \"Beginner Level\", \"All Levels\", \"Beginner Level\", \"All Levels\", \"Beginner Level\", \"All Levels\", \"All Levels\", \"Beginner Level\", \"All Levels\", \"Beginner Level\", \"Beginner Level\", \"All Levels\", \"Beginner Level\", \"Beginner Level\", \"Beginner Level\", \"All Levels\", \"All Levels\", \"Intermediate Level\", \"All Levels\", \"All Levels\", \"All Levels\", \"All Levels\", \"All Levels\", \"Beginner Level\", \"All Levels\", \"Beginner Level\", \"Beginner Level\", \"Intermediate Level\", \"All Levels\", \"All Levels\", \"Beginner Level\", \"All Levels\", \"Beginner Level\", \"All Levels\", \"Expert Level\", \"All Levels\", \"All Levels\", \"All Levels\", \"All Levels\", \"Beginner Level\", \"Beginner Level\", \"Beginner Level\", \"All Levels\", \"All Levels\", \"All Levels\", \"Beginner Level\", \"All Levels\", \"All Levels\", \"All Levels\", \"Beginner Level\", \"All Levels\", \"All Levels\", \"All Levels\", \"Beginner Level\", \"Beginner Level\", \"All Levels\", \"All Levels\", \"Beginner Level\", \"All Levels\", \"Beginner Level\", \"Beginner Level\", \"All Levels\", \"Beginner Level\", \"Beginner Level\", \"All Levels\", \"Beginner Level\", \"All Levels\", \"All Levels\", \"Beginner Level\", \"Beginner Level\", \"All Levels\", \"All Levels\", \"All Levels\", \"All Levels\", \"Beginner Level\", \"All Levels\", \"All Levels\", \"All Levels\", \"All Levels\", \"Beginner Level\", \"Intermediate Level\", \"All Levels\", \"Beginner Level\", \"All Levels\", \"All Levels\", \"All Levels\", \"Expert Level\", \"All Levels\", \"Beginner Level\", \"All Levels\", \"Beginner Level\", \"Beginner Level\", \"Intermediate Level\", \"All Levels\", \"All Levels\", \"Intermediate Level\", \"All Levels\", \"Beginner Level\", \"All Levels\", \"Beginner Level\", \"Beginner Level\", \"All Levels\", \"Intermediate Level\", \"All Levels\", \"All Levels\", \"All Levels\", \"All Levels\", \"Intermediate Level\", \"Beginner Level\", \"All Levels\", \"All Levels\", \"All Levels\", \"Beginner Level\", \"All Levels\", \"Beginner Level\", \"Intermediate Level\", \"Beginner Level\", \"All Levels\", \"All Levels\", \"All Levels\", \"All Levels\", \"All Levels\", \"All Levels\", \"All Levels\", \"All Levels\", \"All Levels\", \"All Levels\", \"All Levels\", \"All Levels\", \"All Levels\", \"All Levels\", \"All Levels\", \"All Levels\", \"Intermediate Level\", \"Beginner Level\", \"Intermediate Level\", \"All Levels\", \"All Levels\", \"All Levels\", \"All Levels\", \"Intermediate Level\", \"All Levels\", \"Beginner Level\", \"Beginner Level\", \"Beginner Level\", \"All Levels\", \"Beginner Level\", \"Beginner Level\", \"Beginner Level\", \"All Levels\", \"All Levels\", \"Beginner Level\", \"All Levels\", \"Beginner Level\", \"All Levels\", \"All Levels\", \"Beginner Level\", \"Intermediate Level\", \"Beginner Level\", \"Beginner Level\", \"All Levels\", \"All Levels\", \"All Levels\", \"All Levels\", \"Beginner Level\", \"Intermediate Level\", \"All Levels\", \"All Levels\", \"All Levels\", \"Intermediate Level\", \"Beginner Level\", \"Beginner Level\", \"All Levels\", \"All Levels\", \"Beginner Level\", \"Beginner Level\", \"Beginner Level\", \"All Levels\", \"All Levels\", \"All Levels\", \"All Levels\", \"All Levels\", \"All Levels\", \"Intermediate Level\", \"All Levels\", \"Beginner Level\", \"All Levels\", \"Beginner Level\", \"All Levels\", \"Intermediate Level\", \"All Levels\", \"All Levels\", \"All Levels\", \"Intermediate Level\", \"Intermediate Level\", \"All Levels\", \"Beginner Level\", \"All Levels\", \"All Levels\", \"All Levels\", \"All Levels\", \"Beginner Level\", \"All Levels\", \"All Levels\", \"All Levels\", \"Intermediate Level\", \"Beginner Level\", \"Beginner Level\", \"All Levels\", \"Intermediate Level\", \"All Levels\", \"Intermediate Level\", \"Beginner Level\", \"All Levels\", \"Beginner Level\", \"All Levels\", \"Beginner Level\", \"All Levels\", \"All Levels\", \"All Levels\", \"All Levels\", \"All Levels\", \"All Levels\", \"All Levels\", \"All Levels\", \"Beginner Level\", \"All Levels\", \"All Levels\", \"Beginner Level\", \"All Levels\", \"All Levels\", \"All Levels\", \"All Levels\", \"Intermediate Level\", \"Beginner Level\", \"Beginner Level\", \"All Levels\", \"All Levels\", \"All Levels\", \"All Levels\", \"All Levels\", \"Beginner Level\", \"All Levels\", \"All Levels\", \"Intermediate Level\", \"All Levels\", \"Intermediate Level\", \"All Levels\", \"Intermediate Level\", \"All Levels\", \"All Levels\", \"Beginner Level\", \"All Levels\", \"All Levels\", \"Beginner Level\", \"Beginner Level\", \"All Levels\", \"All Levels\", \"All Levels\", \"Beginner Level\", \"All Levels\", \"All Levels\", \"All Levels\", \"Intermediate Level\", \"All Levels\", \"Beginner Level\", \"All Levels\", \"All Levels\", \"Expert Level\", \"All Levels\", \"All Levels\", \"Beginner Level\", \"Beginner Level\", \"All Levels\", \"Beginner Level\", \"Intermediate Level\", \"All Levels\", \"All Levels\", \"All Levels\", \"Intermediate Level\", \"All Levels\", \"Beginner Level\", \"Beginner Level\", \"Beginner Level\", \"Beginner Level\", \"All Levels\", \"Intermediate Level\", \"All Levels\", \"Intermediate Level\", \"All Levels\", \"All Levels\", \"Intermediate Level\", \"All Levels\", \"Beginner Level\", \"All Levels\", \"Beginner Level\", \"All Levels\", \"All Levels\", \"All Levels\", \"All Levels\", \"Intermediate Level\", \"Beginner Level\", \"All Levels\", \"Beginner Level\", \"All Levels\", \"Beginner Level\", \"Beginner Level\", \"All Levels\", \"Beginner Level\", \"All Levels\", \"All Levels\", \"All Levels\", \"Beginner Level\", \"All Levels\", \"Beginner Level\", \"Beginner Level\", \"All Levels\", \"All Levels\", \"Beginner Level\", \"All Levels\", \"All Levels\", \"Intermediate Level\", \"Beginner Level\", \"Beginner Level\", \"Beginner Level\", \"Intermediate Level\", \"Beginner Level\", \"All Levels\", \"Beginner Level\", \"Intermediate Level\", \"All Levels\", \"All Levels\", \"All Levels\", \"Beginner Level\", \"Beginner Level\", \"All Levels\", \"Intermediate Level\", \"All Levels\", \"All Levels\", \"All Levels\", \"All Levels\", \"All Levels\", \"All Levels\", \"Intermediate Level\", \"All Levels\", \"Beginner Level\", \"All Levels\", \"Beginner Level\", \"All Levels\", \"All Levels\", \"All Levels\", \"Beginner Level\", \"Beginner Level\", \"All Levels\", \"Beginner Level\", \"Intermediate Level\", \"All Levels\", \"Intermediate Level\", \"All Levels\", \"Expert Level\", \"All Levels\", \"All Levels\", \"Beginner Level\", \"All Levels\", \"All Levels\", \"Beginner Level\", \"All Levels\", \"All Levels\", \"All Levels\", \"Beginner Level\", \"All Levels\", \"All Levels\", \"All Levels\", \"Expert Level\", \"All Levels\", \"Intermediate Level\", \"Beginner Level\", \"Beginner Level\", \"Beginner Level\", \"All Levels\", \"Expert Level\", \"Beginner Level\", \"Beginner Level\", \"All Levels\", \"Beginner Level\", \"All Levels\", \"All Levels\", \"All Levels\", \"Beginner Level\", \"All Levels\", \"All Levels\", \"All Levels\", \"All Levels\", \"All Levels\", \"Beginner Level\", \"Beginner Level\", \"Intermediate Level\", \"Beginner Level\", \"Beginner Level\", \"Beginner Level\", \"All Levels\", \"All Levels\", \"Beginner Level\", \"All Levels\", \"Beginner Level\", \"Beginner Level\", \"All Levels\", \"All Levels\", \"Beginner Level\", \"All Levels\", \"All Levels\", \"Beginner Level\", \"All Levels\", \"All Levels\", \"Beginner Level\", \"All Levels\", \"Beginner Level\", \"All Levels\", \"Beginner Level\", \"Intermediate Level\", \"Beginner Level\", \"Beginner Level\", \"All Levels\", \"All Levels\", \"Beginner Level\", \"All Levels\", \"Beginner Level\", \"Intermediate Level\", \"Beginner Level\", \"All Levels\", \"All Levels\", \"All Levels\", \"All Levels\", \"All Levels\", \"Beginner Level\", \"All Levels\", \"Intermediate Level\", \"Intermediate Level\", \"All Levels\", \"Beginner Level\", \"Beginner Level\", \"All Levels\", \"Beginner Level\", \"All Levels\", \"All Levels\", \"Beginner Level\", \"All Levels\", \"All Levels\", \"Beginner Level\", \"Intermediate Level\", \"All Levels\", \"All Levels\", \"Beginner Level\", \"All Levels\", \"All Levels\", \"Beginner Level\", \"Beginner Level\", \"All Levels\", \"Beginner Level\", \"Beginner Level\", \"All Levels\", \"All Levels\", \"All Levels\", \"All Levels\", \"All Levels\", \"All Levels\", \"Intermediate Level\", \"Beginner Level\", \"Beginner Level\", \"All Levels\", \"All Levels\", \"Beginner Level\", \"All Levels\", \"Intermediate Level\", \"Intermediate Level\", \"All Levels\", \"Intermediate Level\", \"All Levels\", \"Beginner Level\", \"Beginner Level\", \"All Levels\", \"All Levels\", \"Beginner Level\", \"All Levels\", \"Beginner Level\", \"All Levels\", \"Beginner Level\", \"All Levels\", \"All Levels\", \"All Levels\", \"All Levels\", \"Beginner Level\", \"All Levels\", \"Intermediate Level\", \"All Levels\", \"Beginner Level\", \"Beginner Level\", \"Beginner Level\", \"All Levels\", \"Beginner Level\", \"Beginner Level\", \"All Levels\", \"Beginner Level\", \"Intermediate Level\", \"Beginner Level\", \"Beginner Level\", \"All Levels\", \"All Levels\", \"All Levels\", \"All Levels\", \"All Levels\", \"Beginner Level\", \"All Levels\", \"Beginner Level\", \"All Levels\", \"Beginner Level\", \"All Levels\", \"Beginner Level\", \"All Levels\", \"All Levels\", \"Intermediate Level\", \"All Levels\", \"All Levels\", \"All Levels\", \"Beginner Level\", \"Beginner Level\", \"All Levels\", \"All Levels\", \"Beginner Level\", \"All Levels\", \"Intermediate Level\", \"All Levels\", \"Beginner Level\", \"Beginner Level\", \"All Levels\", \"All Levels\", \"Beginner Level\", \"Beginner Level\", \"Beginner Level\", \"Intermediate Level\", \"Intermediate Level\", \"Beginner Level\", \"All Levels\", \"Beginner Level\", \"All Levels\", \"All Levels\", \"All Levels\", \"Intermediate Level\", \"Intermediate Level\", \"Beginner Level\", \"All Levels\", \"Beginner Level\", \"All Levels\", \"All Levels\", \"Intermediate Level\", \"Intermediate Level\", \"All Levels\", \"Beginner Level\", \"All Levels\", \"Beginner Level\", \"All Levels\", \"Beginner Level\", \"All Levels\", \"All Levels\", \"All Levels\", \"All Levels\", \"Beginner Level\", \"Intermediate Level\", \"Beginner Level\", \"Beginner Level\", \"All Levels\", \"All Levels\", \"Intermediate Level\", \"Beginner Level\", \"All Levels\", \"Beginner Level\", \"Beginner Level\", \"All Levels\", \"All Levels\", \"Beginner Level\", \"Beginner Level\", \"All Levels\", \"All Levels\", \"Intermediate Level\", \"All Levels\", \"Intermediate Level\", \"Beginner Level\", \"Beginner Level\", \"Intermediate Level\", \"All Levels\", \"Intermediate Level\", \"All Levels\", \"All Levels\", \"Beginner Level\", \"Intermediate Level\", \"All Levels\", \"Beginner Level\", \"Beginner Level\", \"Intermediate Level\", \"Intermediate Level\", \"All Levels\", \"Intermediate Level\", \"All Levels\", \"Beginner Level\", \"Intermediate Level\", \"All Levels\", \"Expert Level\", \"Intermediate Level\", \"Beginner Level\", \"All Levels\", \"Intermediate Level\", \"Beginner Level\", \"Beginner Level\", \"All Levels\", \"Beginner Level\", \"Beginner Level\", \"All Levels\", \"All Levels\", \"All Levels\", \"All Levels\", \"All Levels\", \"All Levels\", \"Beginner Level\", \"All Levels\", \"Beginner Level\", \"All Levels\", \"Intermediate Level\", \"All Levels\", \"All Levels\", \"All Levels\", \"Intermediate Level\", \"Beginner Level\", \"Beginner Level\", \"Beginner Level\", \"All Levels\", \"Intermediate Level\", \"All Levels\", \"All Levels\", \"Beginner Level\", \"All Levels\", \"All Levels\", \"All Levels\", \"All Levels\", \"All Levels\", \"Expert Level\", \"All Levels\", \"All Levels\", \"Beginner Level\", \"All Levels\", \"All Levels\", \"All Levels\", \"Beginner Level\", \"Beginner Level\", \"All Levels\", \"All Levels\", \"All Levels\", \"All Levels\", \"All Levels\", \"Beginner Level\", \"Beginner Level\", \"All Levels\", \"All Levels\", \"Intermediate Level\", \"All Levels\", \"All Levels\", \"Beginner Level\", \"All Levels\", \"All Levels\", \"Beginner Level\"], \"xaxis\": \"x\", \"yaxis\": \"y\"}],                        {\"barmode\": \"relative\", \"legend\": {\"tracegroupgap\": 0}, \"template\": {\"data\": {\"bar\": [{\"error_x\": {\"color\": \"#2a3f5f\"}, \"error_y\": {\"color\": \"#2a3f5f\"}, \"marker\": {\"line\": {\"color\": \"#E5ECF6\", \"width\": 0.5}}, \"type\": \"bar\"}], \"barpolar\": [{\"marker\": {\"line\": {\"color\": \"#E5ECF6\", \"width\": 0.5}}, \"type\": \"barpolar\"}], \"carpet\": [{\"aaxis\": {\"endlinecolor\": \"#2a3f5f\", \"gridcolor\": \"white\", \"linecolor\": \"white\", \"minorgridcolor\": \"white\", \"startlinecolor\": \"#2a3f5f\"}, \"baxis\": {\"endlinecolor\": \"#2a3f5f\", \"gridcolor\": \"white\", \"linecolor\": \"white\", \"minorgridcolor\": \"white\", \"startlinecolor\": \"#2a3f5f\"}, \"type\": \"carpet\"}], \"choropleth\": [{\"colorbar\": {\"outlinewidth\": 0, \"ticks\": \"\"}, \"type\": \"choropleth\"}], \"contour\": [{\"colorbar\": {\"outlinewidth\": 0, \"ticks\": \"\"}, \"colorscale\": [[0.0, \"#0d0887\"], [0.1111111111111111, \"#46039f\"], [0.2222222222222222, \"#7201a8\"], [0.3333333333333333, \"#9c179e\"], [0.4444444444444444, \"#bd3786\"], [0.5555555555555556, \"#d8576b\"], [0.6666666666666666, \"#ed7953\"], [0.7777777777777778, \"#fb9f3a\"], [0.8888888888888888, \"#fdca26\"], [1.0, \"#f0f921\"]], \"type\": \"contour\"}], \"contourcarpet\": [{\"colorbar\": {\"outlinewidth\": 0, \"ticks\": \"\"}, \"type\": \"contourcarpet\"}], \"heatmap\": [{\"colorbar\": {\"outlinewidth\": 0, \"ticks\": \"\"}, \"colorscale\": [[0.0, \"#0d0887\"], [0.1111111111111111, \"#46039f\"], [0.2222222222222222, \"#7201a8\"], [0.3333333333333333, \"#9c179e\"], [0.4444444444444444, \"#bd3786\"], [0.5555555555555556, \"#d8576b\"], [0.6666666666666666, \"#ed7953\"], [0.7777777777777778, \"#fb9f3a\"], [0.8888888888888888, \"#fdca26\"], [1.0, \"#f0f921\"]], \"type\": \"heatmap\"}], \"heatmapgl\": [{\"colorbar\": {\"outlinewidth\": 0, \"ticks\": \"\"}, \"colorscale\": [[0.0, \"#0d0887\"], [0.1111111111111111, \"#46039f\"], [0.2222222222222222, \"#7201a8\"], [0.3333333333333333, \"#9c179e\"], [0.4444444444444444, \"#bd3786\"], [0.5555555555555556, \"#d8576b\"], [0.6666666666666666, \"#ed7953\"], [0.7777777777777778, \"#fb9f3a\"], [0.8888888888888888, \"#fdca26\"], [1.0, \"#f0f921\"]], \"type\": \"heatmapgl\"}], \"histogram\": [{\"marker\": {\"colorbar\": {\"outlinewidth\": 0, \"ticks\": \"\"}}, \"type\": \"histogram\"}], \"histogram2d\": [{\"colorbar\": {\"outlinewidth\": 0, \"ticks\": \"\"}, \"colorscale\": [[0.0, \"#0d0887\"], [0.1111111111111111, \"#46039f\"], [0.2222222222222222, \"#7201a8\"], [0.3333333333333333, \"#9c179e\"], [0.4444444444444444, \"#bd3786\"], [0.5555555555555556, \"#d8576b\"], [0.6666666666666666, \"#ed7953\"], [0.7777777777777778, \"#fb9f3a\"], [0.8888888888888888, \"#fdca26\"], [1.0, \"#f0f921\"]], \"type\": \"histogram2d\"}], \"histogram2dcontour\": [{\"colorbar\": {\"outlinewidth\": 0, \"ticks\": \"\"}, \"colorscale\": [[0.0, \"#0d0887\"], [0.1111111111111111, \"#46039f\"], [0.2222222222222222, \"#7201a8\"], [0.3333333333333333, \"#9c179e\"], [0.4444444444444444, \"#bd3786\"], [0.5555555555555556, \"#d8576b\"], [0.6666666666666666, \"#ed7953\"], [0.7777777777777778, \"#fb9f3a\"], [0.8888888888888888, \"#fdca26\"], [1.0, \"#f0f921\"]], \"type\": \"histogram2dcontour\"}], \"mesh3d\": [{\"colorbar\": {\"outlinewidth\": 0, \"ticks\": \"\"}, \"type\": \"mesh3d\"}], \"parcoords\": [{\"line\": {\"colorbar\": {\"outlinewidth\": 0, \"ticks\": \"\"}}, \"type\": \"parcoords\"}], \"pie\": [{\"automargin\": true, \"type\": \"pie\"}], \"scatter\": [{\"marker\": {\"colorbar\": {\"outlinewidth\": 0, \"ticks\": \"\"}}, \"type\": \"scatter\"}], \"scatter3d\": [{\"line\": {\"colorbar\": {\"outlinewidth\": 0, \"ticks\": \"\"}}, \"marker\": {\"colorbar\": {\"outlinewidth\": 0, \"ticks\": \"\"}}, \"type\": \"scatter3d\"}], \"scattercarpet\": [{\"marker\": {\"colorbar\": {\"outlinewidth\": 0, \"ticks\": \"\"}}, \"type\": \"scattercarpet\"}], \"scattergeo\": [{\"marker\": {\"colorbar\": {\"outlinewidth\": 0, \"ticks\": \"\"}}, \"type\": \"scattergeo\"}], \"scattergl\": [{\"marker\": {\"colorbar\": {\"outlinewidth\": 0, \"ticks\": \"\"}}, \"type\": \"scattergl\"}], \"scattermapbox\": [{\"marker\": {\"colorbar\": {\"outlinewidth\": 0, \"ticks\": \"\"}}, \"type\": \"scattermapbox\"}], \"scatterpolar\": [{\"marker\": {\"colorbar\": {\"outlinewidth\": 0, \"ticks\": \"\"}}, \"type\": \"scatterpolar\"}], \"scatterpolargl\": [{\"marker\": {\"colorbar\": {\"outlinewidth\": 0, \"ticks\": \"\"}}, \"type\": \"scatterpolargl\"}], \"scatterternary\": [{\"marker\": {\"colorbar\": {\"outlinewidth\": 0, \"ticks\": \"\"}}, \"type\": \"scatterternary\"}], \"surface\": [{\"colorbar\": {\"outlinewidth\": 0, \"ticks\": \"\"}, \"colorscale\": [[0.0, \"#0d0887\"], [0.1111111111111111, \"#46039f\"], [0.2222222222222222, \"#7201a8\"], [0.3333333333333333, \"#9c179e\"], [0.4444444444444444, \"#bd3786\"], [0.5555555555555556, \"#d8576b\"], [0.6666666666666666, \"#ed7953\"], [0.7777777777777778, \"#fb9f3a\"], [0.8888888888888888, \"#fdca26\"], [1.0, \"#f0f921\"]], \"type\": \"surface\"}], \"table\": [{\"cells\": {\"fill\": {\"color\": \"#EBF0F8\"}, \"line\": {\"color\": \"white\"}}, \"header\": {\"fill\": {\"color\": \"#C8D4E3\"}, \"line\": {\"color\": \"white\"}}, \"type\": \"table\"}]}, \"layout\": {\"annotationdefaults\": {\"arrowcolor\": \"#2a3f5f\", \"arrowhead\": 0, \"arrowwidth\": 1}, \"autotypenumbers\": \"strict\", \"coloraxis\": {\"colorbar\": {\"outlinewidth\": 0, \"ticks\": \"\"}}, \"colorscale\": {\"diverging\": [[0, \"#8e0152\"], [0.1, \"#c51b7d\"], [0.2, \"#de77ae\"], [0.3, \"#f1b6da\"], [0.4, \"#fde0ef\"], [0.5, \"#f7f7f7\"], [0.6, \"#e6f5d0\"], [0.7, \"#b8e186\"], [0.8, \"#7fbc41\"], [0.9, \"#4d9221\"], [1, \"#276419\"]], \"sequential\": [[0.0, \"#0d0887\"], [0.1111111111111111, \"#46039f\"], [0.2222222222222222, \"#7201a8\"], [0.3333333333333333, \"#9c179e\"], [0.4444444444444444, \"#bd3786\"], [0.5555555555555556, \"#d8576b\"], [0.6666666666666666, \"#ed7953\"], [0.7777777777777778, \"#fb9f3a\"], [0.8888888888888888, \"#fdca26\"], [1.0, \"#f0f921\"]], \"sequentialminus\": [[0.0, \"#0d0887\"], [0.1111111111111111, \"#46039f\"], [0.2222222222222222, \"#7201a8\"], [0.3333333333333333, \"#9c179e\"], [0.4444444444444444, \"#bd3786\"], [0.5555555555555556, \"#d8576b\"], [0.6666666666666666, \"#ed7953\"], [0.7777777777777778, \"#fb9f3a\"], [0.8888888888888888, \"#fdca26\"], [1.0, \"#f0f921\"]]}, \"colorway\": [\"#636efa\", \"#EF553B\", \"#00cc96\", \"#ab63fa\", \"#FFA15A\", \"#19d3f3\", \"#FF6692\", \"#B6E880\", \"#FF97FF\", \"#FECB52\"], \"font\": {\"color\": \"#2a3f5f\"}, \"geo\": {\"bgcolor\": \"white\", \"lakecolor\": \"white\", \"landcolor\": \"#E5ECF6\", \"showlakes\": true, \"showland\": true, \"subunitcolor\": \"white\"}, \"hoverlabel\": {\"align\": \"left\"}, \"hovermode\": \"closest\", \"mapbox\": {\"style\": \"light\"}, \"paper_bgcolor\": \"white\", \"plot_bgcolor\": \"#E5ECF6\", \"polar\": {\"angularaxis\": {\"gridcolor\": \"white\", \"linecolor\": \"white\", \"ticks\": \"\"}, \"bgcolor\": \"#E5ECF6\", \"radialaxis\": {\"gridcolor\": \"white\", \"linecolor\": \"white\", \"ticks\": \"\"}}, \"scene\": {\"xaxis\": {\"backgroundcolor\": \"#E5ECF6\", \"gridcolor\": \"white\", \"gridwidth\": 2, \"linecolor\": \"white\", \"showbackground\": true, \"ticks\": \"\", \"zerolinecolor\": \"white\"}, \"yaxis\": {\"backgroundcolor\": \"#E5ECF6\", \"gridcolor\": \"white\", \"gridwidth\": 2, \"linecolor\": \"white\", \"showbackground\": true, \"ticks\": \"\", \"zerolinecolor\": \"white\"}, \"zaxis\": {\"backgroundcolor\": \"#E5ECF6\", \"gridcolor\": \"white\", \"gridwidth\": 2, \"linecolor\": \"white\", \"showbackground\": true, \"ticks\": \"\", \"zerolinecolor\": \"white\"}}, \"shapedefaults\": {\"line\": {\"color\": \"#2a3f5f\"}}, \"ternary\": {\"aaxis\": {\"gridcolor\": \"white\", \"linecolor\": \"white\", \"ticks\": \"\"}, \"baxis\": {\"gridcolor\": \"white\", \"linecolor\": \"white\", \"ticks\": \"\"}, \"bgcolor\": \"#E5ECF6\", \"caxis\": {\"gridcolor\": \"white\", \"linecolor\": \"white\", \"ticks\": \"\"}}, \"title\": {\"x\": 0.05}, \"xaxis\": {\"automargin\": true, \"gridcolor\": \"white\", \"linecolor\": \"white\", \"ticks\": \"\", \"title\": {\"standoff\": 15}, \"zerolinecolor\": \"white\", \"zerolinewidth\": 2}, \"yaxis\": {\"automargin\": true, \"gridcolor\": \"white\", \"linecolor\": \"white\", \"ticks\": \"\", \"title\": {\"standoff\": 15}, \"zerolinecolor\": \"white\", \"zerolinewidth\": 2}}}, \"title\": {\"text\": \"Course Count by Level of Courses\"}, \"xaxis\": {\"anchor\": \"y\", \"categoryorder\": \"total descending\", \"domain\": [0.0, 1.0], \"title\": {\"text\": \"level\"}}, \"yaxis\": {\"anchor\": \"x\", \"domain\": [0.0, 1.0], \"title\": {\"text\": \"count\"}}},                        {\"responsive\": true}                    ).then(function(){\n",
       "                            \n",
       "var gd = document.getElementById('7ca06ec6-69d4-405d-8c87-a48214b2f64b');\n",
       "var x = new MutationObserver(function (mutations, observer) {{\n",
       "        var display = window.getComputedStyle(gd).display;\n",
       "        if (!display || display === 'none') {{\n",
       "            console.log([gd, 'removed!']);\n",
       "            Plotly.purge(gd);\n",
       "            observer.disconnect();\n",
       "        }}\n",
       "}});\n",
       "\n",
       "// Listen for the removal of the full notebook cells\n",
       "var notebookContainer = gd.closest('#notebook-container');\n",
       "if (notebookContainer) {{\n",
       "    x.observe(notebookContainer, {childList: true});\n",
       "}}\n",
       "\n",
       "// Listen for the clearing of the current output cell\n",
       "var outputEl = gd.closest('.output');\n",
       "if (outputEl) {{\n",
       "    x.observe(outputEl, {childList: true});\n",
       "}}\n",
       "\n",
       "                        })                };                });            </script>        </div>"
      ]
     },
     "metadata": {},
     "output_type": "display_data"
    }
   ],
   "source": [
    "fig = px.histogram(df, x=\"level\", title='Course Count by Level of Courses')\n",
    "fig.update_layout(xaxis={'categoryorder':'total descending'})\n",
    "fig.show()"
   ]
  },
  {
   "cell_type": "markdown",
   "id": "romance-jamaica",
   "metadata": {
    "papermill": {
     "duration": 0.073362,
     "end_time": "2021-07-07T21:05:35.803281",
     "exception": false,
     "start_time": "2021-07-07T21:05:35.729919",
     "status": "completed"
    },
    "tags": []
   },
   "source": [
    "#### **UDEMY Courses By Level in Each Year**"
   ]
  },
  {
   "cell_type": "code",
   "execution_count": 24,
   "id": "registered-vermont",
   "metadata": {
    "execution": {
     "iopub.execute_input": "2021-07-07T21:05:35.953131Z",
     "iopub.status.busy": "2021-07-07T21:05:35.952486Z",
     "iopub.status.idle": "2021-07-07T21:05:35.969265Z",
     "shell.execute_reply": "2021-07-07T21:05:35.968590Z",
     "shell.execute_reply.started": "2021-07-07T20:45:37.101170Z"
    },
    "papermill": {
     "duration": 0.093207,
     "end_time": "2021-07-07T21:05:35.969412",
     "exception": false,
     "start_time": "2021-07-07T21:05:35.876205",
     "status": "completed"
    },
    "tags": []
   },
   "outputs": [
    {
     "data": {
      "text/html": [
       "<div>\n",
       "<style scoped>\n",
       "    .dataframe tbody tr th:only-of-type {\n",
       "        vertical-align: middle;\n",
       "    }\n",
       "\n",
       "    .dataframe tbody tr th {\n",
       "        vertical-align: top;\n",
       "    }\n",
       "\n",
       "    .dataframe thead th {\n",
       "        text-align: right;\n",
       "    }\n",
       "</style>\n",
       "<table border=\"1\" class=\"dataframe\">\n",
       "  <thead>\n",
       "    <tr style=\"text-align: right;\">\n",
       "      <th></th>\n",
       "      <th>year</th>\n",
       "      <th>level count</th>\n",
       "    </tr>\n",
       "    <tr>\n",
       "      <th>level</th>\n",
       "      <th></th>\n",
       "      <th></th>\n",
       "    </tr>\n",
       "  </thead>\n",
       "  <tbody>\n",
       "    <tr>\n",
       "      <th>All Levels</th>\n",
       "      <td>2011</td>\n",
       "      <td>5</td>\n",
       "    </tr>\n",
       "    <tr>\n",
       "      <th>All Levels</th>\n",
       "      <td>2012</td>\n",
       "      <td>33</td>\n",
       "    </tr>\n",
       "    <tr>\n",
       "      <th>Beginner Level</th>\n",
       "      <td>2012</td>\n",
       "      <td>9</td>\n",
       "    </tr>\n",
       "    <tr>\n",
       "      <th>Intermediate Level</th>\n",
       "      <td>2012</td>\n",
       "      <td>3</td>\n",
       "    </tr>\n",
       "    <tr>\n",
       "      <th>All Levels</th>\n",
       "      <td>2013</td>\n",
       "      <td>102</td>\n",
       "    </tr>\n",
       "    <tr>\n",
       "      <th>Beginner Level</th>\n",
       "      <td>2013</td>\n",
       "      <td>73</td>\n",
       "    </tr>\n",
       "    <tr>\n",
       "      <th>Intermediate Level</th>\n",
       "      <td>2013</td>\n",
       "      <td>18</td>\n",
       "    </tr>\n",
       "    <tr>\n",
       "      <th>Expert Level</th>\n",
       "      <td>2013</td>\n",
       "      <td>9</td>\n",
       "    </tr>\n",
       "    <tr>\n",
       "      <th>All Levels</th>\n",
       "      <td>2014</td>\n",
       "      <td>272</td>\n",
       "    </tr>\n",
       "    <tr>\n",
       "      <th>Beginner Level</th>\n",
       "      <td>2014</td>\n",
       "      <td>155</td>\n",
       "    </tr>\n",
       "    <tr>\n",
       "      <th>Intermediate Level</th>\n",
       "      <td>2014</td>\n",
       "      <td>60</td>\n",
       "    </tr>\n",
       "    <tr>\n",
       "      <th>Expert Level</th>\n",
       "      <td>2014</td>\n",
       "      <td>4</td>\n",
       "    </tr>\n",
       "    <tr>\n",
       "      <th>All Levels</th>\n",
       "      <td>2015</td>\n",
       "      <td>587</td>\n",
       "    </tr>\n",
       "    <tr>\n",
       "      <th>Beginner Level</th>\n",
       "      <td>2015</td>\n",
       "      <td>332</td>\n",
       "    </tr>\n",
       "    <tr>\n",
       "      <th>Intermediate Level</th>\n",
       "      <td>2015</td>\n",
       "      <td>80</td>\n",
       "    </tr>\n",
       "    <tr>\n",
       "      <th>Expert Level</th>\n",
       "      <td>2015</td>\n",
       "      <td>15</td>\n",
       "    </tr>\n",
       "    <tr>\n",
       "      <th>All Levels</th>\n",
       "      <td>2016</td>\n",
       "      <td>627</td>\n",
       "    </tr>\n",
       "    <tr>\n",
       "      <th>Beginner Level</th>\n",
       "      <td>2016</td>\n",
       "      <td>405</td>\n",
       "    </tr>\n",
       "    <tr>\n",
       "      <th>Intermediate Level</th>\n",
       "      <td>2016</td>\n",
       "      <td>163</td>\n",
       "    </tr>\n",
       "    <tr>\n",
       "      <th>Expert Level</th>\n",
       "      <td>2016</td>\n",
       "      <td>11</td>\n",
       "    </tr>\n",
       "    <tr>\n",
       "      <th>All Levels</th>\n",
       "      <td>2017</td>\n",
       "      <td>303</td>\n",
       "    </tr>\n",
       "    <tr>\n",
       "      <th>Beginner Level</th>\n",
       "      <td>2017</td>\n",
       "      <td>296</td>\n",
       "    </tr>\n",
       "    <tr>\n",
       "      <th>Intermediate Level</th>\n",
       "      <td>2017</td>\n",
       "      <td>97</td>\n",
       "    </tr>\n",
       "    <tr>\n",
       "      <th>Expert Level</th>\n",
       "      <td>2017</td>\n",
       "      <td>19</td>\n",
       "    </tr>\n",
       "  </tbody>\n",
       "</table>\n",
       "</div>"
      ],
      "text/plain": [
       "                    year  level count\n",
       "level                                \n",
       "All Levels          2011            5\n",
       "All Levels          2012           33\n",
       "Beginner Level      2012            9\n",
       "Intermediate Level  2012            3\n",
       "All Levels          2013          102\n",
       "Beginner Level      2013           73\n",
       "Intermediate Level  2013           18\n",
       "Expert Level        2013            9\n",
       "All Levels          2014          272\n",
       "Beginner Level      2014          155\n",
       "Intermediate Level  2014           60\n",
       "Expert Level        2014            4\n",
       "All Levels          2015          587\n",
       "Beginner Level      2015          332\n",
       "Intermediate Level  2015           80\n",
       "Expert Level        2015           15\n",
       "All Levels          2016          627\n",
       "Beginner Level      2016          405\n",
       "Intermediate Level  2016          163\n",
       "Expert Level        2016           11\n",
       "All Levels          2017          303\n",
       "Beginner Level      2017          296\n",
       "Intermediate Level  2017           97\n",
       "Expert Level        2017           19"
      ]
     },
     "execution_count": 24,
     "metadata": {},
     "output_type": "execute_result"
    }
   ],
   "source": [
    "level_by_year = df.groupby('year')['level'].value_counts().reset_index(level=0).rename(columns={'level': 'level count'}, index={'index': 'Level_of_Courses'})\n",
    "level_by_year"
   ]
  },
  {
   "cell_type": "code",
   "execution_count": 25,
   "id": "expected-campus",
   "metadata": {
    "execution": {
     "iopub.execute_input": "2021-07-07T21:05:36.119892Z",
     "iopub.status.busy": "2021-07-07T21:05:36.119197Z",
     "iopub.status.idle": "2021-07-07T21:05:36.197588Z",
     "shell.execute_reply": "2021-07-07T21:05:36.198122Z",
     "shell.execute_reply.started": "2021-07-07T21:00:30.755830Z"
    },
    "papermill": {
     "duration": 0.155163,
     "end_time": "2021-07-07T21:05:36.198340",
     "exception": false,
     "start_time": "2021-07-07T21:05:36.043177",
     "status": "completed"
    },
    "tags": []
   },
   "outputs": [
    {
     "data": {
      "text/html": [
       "<div>                            <div id=\"e87d43e0-e20c-425a-8be6-facf22c79dc7\" class=\"plotly-graph-div\" style=\"height:525px; width:100%;\"></div>            <script type=\"text/javascript\">                require([\"plotly\"], function(Plotly) {                    window.PLOTLYENV=window.PLOTLYENV || {};                                    if (document.getElementById(\"e87d43e0-e20c-425a-8be6-facf22c79dc7\")) {                    Plotly.newPlot(                        \"e87d43e0-e20c-425a-8be6-facf22c79dc7\",                        [{\"hovertemplate\": \"level=All Levels<br>year=%{x}<br>level count=%{y}<extra></extra>\", \"legendgroup\": \"All Levels\", \"line\": {\"color\": \"#636efa\", \"dash\": \"solid\"}, \"mode\": \"lines\", \"name\": \"All Levels\", \"orientation\": \"v\", \"showlegend\": true, \"type\": \"scatter\", \"x\": [2011, 2012, 2013, 2014, 2015, 2016, 2017], \"xaxis\": \"x\", \"y\": [5, 33, 102, 272, 587, 627, 303], \"yaxis\": \"y\"}, {\"hovertemplate\": \"level=Beginner Level<br>year=%{x}<br>level count=%{y}<extra></extra>\", \"legendgroup\": \"Beginner Level\", \"line\": {\"color\": \"#EF553B\", \"dash\": \"solid\"}, \"mode\": \"lines\", \"name\": \"Beginner Level\", \"orientation\": \"v\", \"showlegend\": true, \"type\": \"scatter\", \"x\": [2012, 2013, 2014, 2015, 2016, 2017], \"xaxis\": \"x\", \"y\": [9, 73, 155, 332, 405, 296], \"yaxis\": \"y\"}, {\"hovertemplate\": \"level=Intermediate Level<br>year=%{x}<br>level count=%{y}<extra></extra>\", \"legendgroup\": \"Intermediate Level\", \"line\": {\"color\": \"#00cc96\", \"dash\": \"solid\"}, \"mode\": \"lines\", \"name\": \"Intermediate Level\", \"orientation\": \"v\", \"showlegend\": true, \"type\": \"scatter\", \"x\": [2012, 2013, 2014, 2015, 2016, 2017], \"xaxis\": \"x\", \"y\": [3, 18, 60, 80, 163, 97], \"yaxis\": \"y\"}, {\"hovertemplate\": \"level=Expert Level<br>year=%{x}<br>level count=%{y}<extra></extra>\", \"legendgroup\": \"Expert Level\", \"line\": {\"color\": \"#ab63fa\", \"dash\": \"solid\"}, \"mode\": \"lines\", \"name\": \"Expert Level\", \"orientation\": \"v\", \"showlegend\": true, \"type\": \"scatter\", \"x\": [2013, 2014, 2015, 2016, 2017], \"xaxis\": \"x\", \"y\": [9, 4, 15, 11, 19], \"yaxis\": \"y\"}],                        {\"legend\": {\"title\": {\"text\": \"level\"}, \"tracegroupgap\": 0}, \"template\": {\"data\": {\"bar\": [{\"error_x\": {\"color\": \"#2a3f5f\"}, \"error_y\": {\"color\": \"#2a3f5f\"}, \"marker\": {\"line\": {\"color\": \"#E5ECF6\", \"width\": 0.5}}, \"type\": \"bar\"}], \"barpolar\": [{\"marker\": {\"line\": {\"color\": \"#E5ECF6\", \"width\": 0.5}}, \"type\": \"barpolar\"}], \"carpet\": [{\"aaxis\": {\"endlinecolor\": \"#2a3f5f\", \"gridcolor\": \"white\", \"linecolor\": \"white\", \"minorgridcolor\": \"white\", \"startlinecolor\": \"#2a3f5f\"}, \"baxis\": {\"endlinecolor\": \"#2a3f5f\", \"gridcolor\": \"white\", \"linecolor\": \"white\", \"minorgridcolor\": \"white\", \"startlinecolor\": \"#2a3f5f\"}, \"type\": \"carpet\"}], \"choropleth\": [{\"colorbar\": {\"outlinewidth\": 0, \"ticks\": \"\"}, \"type\": \"choropleth\"}], \"contour\": [{\"colorbar\": {\"outlinewidth\": 0, \"ticks\": \"\"}, \"colorscale\": [[0.0, \"#0d0887\"], [0.1111111111111111, \"#46039f\"], [0.2222222222222222, \"#7201a8\"], [0.3333333333333333, \"#9c179e\"], [0.4444444444444444, \"#bd3786\"], [0.5555555555555556, \"#d8576b\"], [0.6666666666666666, \"#ed7953\"], [0.7777777777777778, \"#fb9f3a\"], [0.8888888888888888, \"#fdca26\"], [1.0, \"#f0f921\"]], \"type\": \"contour\"}], \"contourcarpet\": [{\"colorbar\": {\"outlinewidth\": 0, \"ticks\": \"\"}, \"type\": \"contourcarpet\"}], \"heatmap\": [{\"colorbar\": {\"outlinewidth\": 0, \"ticks\": \"\"}, \"colorscale\": [[0.0, \"#0d0887\"], [0.1111111111111111, \"#46039f\"], [0.2222222222222222, \"#7201a8\"], [0.3333333333333333, \"#9c179e\"], [0.4444444444444444, \"#bd3786\"], [0.5555555555555556, \"#d8576b\"], [0.6666666666666666, \"#ed7953\"], [0.7777777777777778, \"#fb9f3a\"], [0.8888888888888888, \"#fdca26\"], [1.0, \"#f0f921\"]], \"type\": \"heatmap\"}], \"heatmapgl\": [{\"colorbar\": {\"outlinewidth\": 0, \"ticks\": \"\"}, \"colorscale\": [[0.0, \"#0d0887\"], [0.1111111111111111, \"#46039f\"], [0.2222222222222222, \"#7201a8\"], [0.3333333333333333, \"#9c179e\"], [0.4444444444444444, \"#bd3786\"], [0.5555555555555556, \"#d8576b\"], [0.6666666666666666, \"#ed7953\"], [0.7777777777777778, \"#fb9f3a\"], [0.8888888888888888, \"#fdca26\"], [1.0, \"#f0f921\"]], \"type\": \"heatmapgl\"}], \"histogram\": [{\"marker\": {\"colorbar\": {\"outlinewidth\": 0, \"ticks\": \"\"}}, \"type\": \"histogram\"}], \"histogram2d\": [{\"colorbar\": {\"outlinewidth\": 0, \"ticks\": \"\"}, \"colorscale\": [[0.0, \"#0d0887\"], [0.1111111111111111, \"#46039f\"], [0.2222222222222222, \"#7201a8\"], [0.3333333333333333, \"#9c179e\"], [0.4444444444444444, \"#bd3786\"], [0.5555555555555556, \"#d8576b\"], [0.6666666666666666, \"#ed7953\"], [0.7777777777777778, \"#fb9f3a\"], [0.8888888888888888, \"#fdca26\"], [1.0, \"#f0f921\"]], \"type\": \"histogram2d\"}], \"histogram2dcontour\": [{\"colorbar\": {\"outlinewidth\": 0, \"ticks\": \"\"}, \"colorscale\": [[0.0, \"#0d0887\"], [0.1111111111111111, \"#46039f\"], [0.2222222222222222, \"#7201a8\"], [0.3333333333333333, \"#9c179e\"], [0.4444444444444444, \"#bd3786\"], [0.5555555555555556, \"#d8576b\"], [0.6666666666666666, \"#ed7953\"], [0.7777777777777778, \"#fb9f3a\"], [0.8888888888888888, \"#fdca26\"], [1.0, \"#f0f921\"]], \"type\": \"histogram2dcontour\"}], \"mesh3d\": [{\"colorbar\": {\"outlinewidth\": 0, \"ticks\": \"\"}, \"type\": \"mesh3d\"}], \"parcoords\": [{\"line\": {\"colorbar\": {\"outlinewidth\": 0, \"ticks\": \"\"}}, \"type\": \"parcoords\"}], \"pie\": [{\"automargin\": true, \"type\": \"pie\"}], \"scatter\": [{\"marker\": {\"colorbar\": {\"outlinewidth\": 0, \"ticks\": \"\"}}, \"type\": \"scatter\"}], \"scatter3d\": [{\"line\": {\"colorbar\": {\"outlinewidth\": 0, \"ticks\": \"\"}}, \"marker\": {\"colorbar\": {\"outlinewidth\": 0, \"ticks\": \"\"}}, \"type\": \"scatter3d\"}], \"scattercarpet\": [{\"marker\": {\"colorbar\": {\"outlinewidth\": 0, \"ticks\": \"\"}}, \"type\": \"scattercarpet\"}], \"scattergeo\": [{\"marker\": {\"colorbar\": {\"outlinewidth\": 0, \"ticks\": \"\"}}, \"type\": \"scattergeo\"}], \"scattergl\": [{\"marker\": {\"colorbar\": {\"outlinewidth\": 0, \"ticks\": \"\"}}, \"type\": \"scattergl\"}], \"scattermapbox\": [{\"marker\": {\"colorbar\": {\"outlinewidth\": 0, \"ticks\": \"\"}}, \"type\": \"scattermapbox\"}], \"scatterpolar\": [{\"marker\": {\"colorbar\": {\"outlinewidth\": 0, \"ticks\": \"\"}}, \"type\": \"scatterpolar\"}], \"scatterpolargl\": [{\"marker\": {\"colorbar\": {\"outlinewidth\": 0, \"ticks\": \"\"}}, \"type\": \"scatterpolargl\"}], \"scatterternary\": [{\"marker\": {\"colorbar\": {\"outlinewidth\": 0, \"ticks\": \"\"}}, \"type\": \"scatterternary\"}], \"surface\": [{\"colorbar\": {\"outlinewidth\": 0, \"ticks\": \"\"}, \"colorscale\": [[0.0, \"#0d0887\"], [0.1111111111111111, \"#46039f\"], [0.2222222222222222, \"#7201a8\"], [0.3333333333333333, \"#9c179e\"], [0.4444444444444444, \"#bd3786\"], [0.5555555555555556, \"#d8576b\"], [0.6666666666666666, \"#ed7953\"], [0.7777777777777778, \"#fb9f3a\"], [0.8888888888888888, \"#fdca26\"], [1.0, \"#f0f921\"]], \"type\": \"surface\"}], \"table\": [{\"cells\": {\"fill\": {\"color\": \"#EBF0F8\"}, \"line\": {\"color\": \"white\"}}, \"header\": {\"fill\": {\"color\": \"#C8D4E3\"}, \"line\": {\"color\": \"white\"}}, \"type\": \"table\"}]}, \"layout\": {\"annotationdefaults\": {\"arrowcolor\": \"#2a3f5f\", \"arrowhead\": 0, \"arrowwidth\": 1}, \"autotypenumbers\": \"strict\", \"coloraxis\": {\"colorbar\": {\"outlinewidth\": 0, \"ticks\": \"\"}}, \"colorscale\": {\"diverging\": [[0, \"#8e0152\"], [0.1, \"#c51b7d\"], [0.2, \"#de77ae\"], [0.3, \"#f1b6da\"], [0.4, \"#fde0ef\"], [0.5, \"#f7f7f7\"], [0.6, \"#e6f5d0\"], [0.7, \"#b8e186\"], [0.8, \"#7fbc41\"], [0.9, \"#4d9221\"], [1, \"#276419\"]], \"sequential\": [[0.0, \"#0d0887\"], [0.1111111111111111, \"#46039f\"], [0.2222222222222222, \"#7201a8\"], [0.3333333333333333, \"#9c179e\"], [0.4444444444444444, \"#bd3786\"], [0.5555555555555556, \"#d8576b\"], [0.6666666666666666, \"#ed7953\"], [0.7777777777777778, \"#fb9f3a\"], [0.8888888888888888, \"#fdca26\"], [1.0, \"#f0f921\"]], \"sequentialminus\": [[0.0, \"#0d0887\"], [0.1111111111111111, \"#46039f\"], [0.2222222222222222, \"#7201a8\"], [0.3333333333333333, \"#9c179e\"], [0.4444444444444444, \"#bd3786\"], [0.5555555555555556, \"#d8576b\"], [0.6666666666666666, \"#ed7953\"], [0.7777777777777778, \"#fb9f3a\"], [0.8888888888888888, \"#fdca26\"], [1.0, \"#f0f921\"]]}, \"colorway\": [\"#636efa\", \"#EF553B\", \"#00cc96\", \"#ab63fa\", \"#FFA15A\", \"#19d3f3\", \"#FF6692\", \"#B6E880\", \"#FF97FF\", \"#FECB52\"], \"font\": {\"color\": \"#2a3f5f\"}, \"geo\": {\"bgcolor\": \"white\", \"lakecolor\": \"white\", \"landcolor\": \"#E5ECF6\", \"showlakes\": true, \"showland\": true, \"subunitcolor\": \"white\"}, \"hoverlabel\": {\"align\": \"left\"}, \"hovermode\": \"closest\", \"mapbox\": {\"style\": \"light\"}, \"paper_bgcolor\": \"white\", \"plot_bgcolor\": \"#E5ECF6\", \"polar\": {\"angularaxis\": {\"gridcolor\": \"white\", \"linecolor\": \"white\", \"ticks\": \"\"}, \"bgcolor\": \"#E5ECF6\", \"radialaxis\": {\"gridcolor\": \"white\", \"linecolor\": \"white\", \"ticks\": \"\"}}, \"scene\": {\"xaxis\": {\"backgroundcolor\": \"#E5ECF6\", \"gridcolor\": \"white\", \"gridwidth\": 2, \"linecolor\": \"white\", \"showbackground\": true, \"ticks\": \"\", \"zerolinecolor\": \"white\"}, \"yaxis\": {\"backgroundcolor\": \"#E5ECF6\", \"gridcolor\": \"white\", \"gridwidth\": 2, \"linecolor\": \"white\", \"showbackground\": true, \"ticks\": \"\", \"zerolinecolor\": \"white\"}, \"zaxis\": {\"backgroundcolor\": \"#E5ECF6\", \"gridcolor\": \"white\", \"gridwidth\": 2, \"linecolor\": \"white\", \"showbackground\": true, \"ticks\": \"\", \"zerolinecolor\": \"white\"}}, \"shapedefaults\": {\"line\": {\"color\": \"#2a3f5f\"}}, \"ternary\": {\"aaxis\": {\"gridcolor\": \"white\", \"linecolor\": \"white\", \"ticks\": \"\"}, \"baxis\": {\"gridcolor\": \"white\", \"linecolor\": \"white\", \"ticks\": \"\"}, \"bgcolor\": \"#E5ECF6\", \"caxis\": {\"gridcolor\": \"white\", \"linecolor\": \"white\", \"ticks\": \"\"}}, \"title\": {\"x\": 0.05}, \"xaxis\": {\"automargin\": true, \"gridcolor\": \"white\", \"linecolor\": \"white\", \"ticks\": \"\", \"title\": {\"standoff\": 15}, \"zerolinecolor\": \"white\", \"zerolinewidth\": 2}, \"yaxis\": {\"automargin\": true, \"gridcolor\": \"white\", \"linecolor\": \"white\", \"ticks\": \"\", \"title\": {\"standoff\": 15}, \"zerolinecolor\": \"white\", \"zerolinewidth\": 2}}}, \"title\": {\"text\": \"UDEMY Courses By Level in Each Year\"}, \"xaxis\": {\"anchor\": \"y\", \"domain\": [0.0, 1.0], \"title\": {\"text\": \"year\"}}, \"yaxis\": {\"anchor\": \"x\", \"domain\": [0.0, 1.0], \"title\": {\"text\": \"level count\"}}},                        {\"responsive\": true}                    ).then(function(){\n",
       "                            \n",
       "var gd = document.getElementById('e87d43e0-e20c-425a-8be6-facf22c79dc7');\n",
       "var x = new MutationObserver(function (mutations, observer) {{\n",
       "        var display = window.getComputedStyle(gd).display;\n",
       "        if (!display || display === 'none') {{\n",
       "            console.log([gd, 'removed!']);\n",
       "            Plotly.purge(gd);\n",
       "            observer.disconnect();\n",
       "        }}\n",
       "}});\n",
       "\n",
       "// Listen for the removal of the full notebook cells\n",
       "var notebookContainer = gd.closest('#notebook-container');\n",
       "if (notebookContainer) {{\n",
       "    x.observe(notebookContainer, {childList: true});\n",
       "}}\n",
       "\n",
       "// Listen for the clearing of the current output cell\n",
       "var outputEl = gd.closest('.output');\n",
       "if (outputEl) {{\n",
       "    x.observe(outputEl, {childList: true});\n",
       "}}\n",
       "\n",
       "                        })                };                });            </script>        </div>"
      ]
     },
     "metadata": {},
     "output_type": "display_data"
    }
   ],
   "source": [
    "fig = px.line(level_by_year, x='year', y='level count', color= level_by_year.index, title='UDEMY Courses By Level in Each Year')\n",
    "fig.show()"
   ]
  },
  {
   "cell_type": "markdown",
   "id": "asian-above",
   "metadata": {
    "papermill": {
     "duration": 0.073714,
     "end_time": "2021-07-07T21:05:36.346094",
     "exception": false,
     "start_time": "2021-07-07T21:05:36.272380",
     "status": "completed"
    },
    "tags": []
   },
   "source": [
    "- From the line plot we can see that Udemy courses in all levels, beginner levels and intermediate levels increased significantly by each year. \n",
    "\n",
    "- On the other hand, number of expert level courses offered by UDEMY are inconsistent.\n"
   ]
  },
  {
   "cell_type": "markdown",
   "id": "mineral-facility",
   "metadata": {
    "papermill": {
     "duration": 0.07766,
     "end_time": "2021-07-07T21:05:36.498570",
     "exception": false,
     "start_time": "2021-07-07T21:05:36.420910",
     "status": "completed"
    },
    "tags": []
   },
   "source": [
    "### UDEMY Courses- Number of Subscribers & Num of Reviews and Number of Lectures by Year"
   ]
  },
  {
   "cell_type": "code",
   "execution_count": 26,
   "id": "becoming-leone",
   "metadata": {
    "_kg_hide-input": true,
    "execution": {
     "iopub.execute_input": "2021-07-07T21:05:36.649895Z",
     "iopub.status.busy": "2021-07-07T21:05:36.649236Z",
     "iopub.status.idle": "2021-07-07T21:05:36.663186Z",
     "shell.execute_reply": "2021-07-07T21:05:36.663704Z",
     "shell.execute_reply.started": "2021-07-07T20:45:37.211589Z"
    },
    "papermill": {
     "duration": 0.091656,
     "end_time": "2021-07-07T21:05:36.663907",
     "exception": false,
     "start_time": "2021-07-07T21:05:36.572251",
     "status": "completed"
    },
    "tags": []
   },
   "outputs": [
    {
     "data": {
      "text/html": [
       "<div>\n",
       "<style scoped>\n",
       "    .dataframe tbody tr th:only-of-type {\n",
       "        vertical-align: middle;\n",
       "    }\n",
       "\n",
       "    .dataframe tbody tr th {\n",
       "        vertical-align: top;\n",
       "    }\n",
       "\n",
       "    .dataframe thead th {\n",
       "        text-align: right;\n",
       "    }\n",
       "</style>\n",
       "<table border=\"1\" class=\"dataframe\">\n",
       "  <thead>\n",
       "    <tr style=\"text-align: right;\">\n",
       "      <th></th>\n",
       "      <th>year</th>\n",
       "      <th>num_subscribers</th>\n",
       "      <th>num_reviews</th>\n",
       "      <th>num_lectures</th>\n",
       "    </tr>\n",
       "  </thead>\n",
       "  <tbody>\n",
       "    <tr>\n",
       "      <th>0</th>\n",
       "      <td>2011</td>\n",
       "      <td>119028</td>\n",
       "      <td>4041</td>\n",
       "      <td>574</td>\n",
       "    </tr>\n",
       "    <tr>\n",
       "      <th>1</th>\n",
       "      <td>2012</td>\n",
       "      <td>555339</td>\n",
       "      <td>10272</td>\n",
       "      <td>2374</td>\n",
       "    </tr>\n",
       "    <tr>\n",
       "      <th>2</th>\n",
       "      <td>2013</td>\n",
       "      <td>1723438</td>\n",
       "      <td>48585</td>\n",
       "      <td>7261</td>\n",
       "    </tr>\n",
       "    <tr>\n",
       "      <th>3</th>\n",
       "      <td>2014</td>\n",
       "      <td>1930406</td>\n",
       "      <td>86667</td>\n",
       "      <td>19288</td>\n",
       "    </tr>\n",
       "    <tr>\n",
       "      <th>4</th>\n",
       "      <td>2015</td>\n",
       "      <td>3475324</td>\n",
       "      <td>196810</td>\n",
       "      <td>41930</td>\n",
       "    </tr>\n",
       "    <tr>\n",
       "      <th>5</th>\n",
       "      <td>2016</td>\n",
       "      <td>2966644</td>\n",
       "      <td>195429</td>\n",
       "      <td>50854</td>\n",
       "    </tr>\n",
       "    <tr>\n",
       "      <th>6</th>\n",
       "      <td>2017</td>\n",
       "      <td>988941</td>\n",
       "      <td>32917</td>\n",
       "      <td>25239</td>\n",
       "    </tr>\n",
       "  </tbody>\n",
       "</table>\n",
       "</div>"
      ],
      "text/plain": [
       "   year  num_subscribers  num_reviews  num_lectures\n",
       "0  2011           119028         4041           574\n",
       "1  2012           555339        10272          2374\n",
       "2  2013          1723438        48585          7261\n",
       "3  2014          1930406        86667         19288\n",
       "4  2015          3475324       196810         41930\n",
       "5  2016          2966644       195429         50854\n",
       "6  2017           988941        32917         25239"
      ]
     },
     "execution_count": 26,
     "metadata": {},
     "output_type": "execute_result"
    }
   ],
   "source": [
    "df1 = df.groupby('year')[['num_subscribers','num_reviews','num_lectures']].sum().reset_index()\n",
    "df1"
   ]
  },
  {
   "cell_type": "code",
   "execution_count": 27,
   "id": "elect-welsh",
   "metadata": {
    "_kg_hide-input": true,
    "execution": {
     "iopub.execute_input": "2021-07-07T21:05:36.816162Z",
     "iopub.status.busy": "2021-07-07T21:05:36.815511Z",
     "iopub.status.idle": "2021-07-07T21:05:36.899266Z",
     "shell.execute_reply": "2021-07-07T21:05:36.898553Z",
     "shell.execute_reply.started": "2021-07-07T20:45:37.227358Z"
    },
    "papermill": {
     "duration": 0.161212,
     "end_time": "2021-07-07T21:05:36.899422",
     "exception": false,
     "start_time": "2021-07-07T21:05:36.738210",
     "status": "completed"
    },
    "tags": []
   },
   "outputs": [
    {
     "data": {
      "text/html": [
       "<div>                            <div id=\"b272771d-4f64-42ec-bdc7-2ada4a531853\" class=\"plotly-graph-div\" style=\"height:525px; width:100%;\"></div>            <script type=\"text/javascript\">                require([\"plotly\"], function(Plotly) {                    window.PLOTLYENV=window.PLOTLYENV || {};                                    if (document.getElementById(\"b272771d-4f64-42ec-bdc7-2ada4a531853\")) {                    Plotly.newPlot(                        \"b272771d-4f64-42ec-bdc7-2ada4a531853\",                        [{\"hovertemplate\": \"variable=num_subscribers<br>year=%{x}<br>value=%{y}<extra></extra>\", \"legendgroup\": \"num_subscribers\", \"line\": {\"color\": \"#636efa\", \"dash\": \"solid\"}, \"mode\": \"lines\", \"name\": \"num_subscribers\", \"orientation\": \"v\", \"showlegend\": true, \"type\": \"scatter\", \"x\": [2011, 2012, 2013, 2014, 2015, 2016, 2017], \"xaxis\": \"x\", \"y\": [119028, 555339, 1723438, 1930406, 3475324, 2966644, 988941], \"yaxis\": \"y\"}, {\"hovertemplate\": \"variable=num_reviews<br>year=%{x}<br>value=%{y}<extra></extra>\", \"legendgroup\": \"num_reviews\", \"line\": {\"color\": \"#EF553B\", \"dash\": \"solid\"}, \"mode\": \"lines\", \"name\": \"num_reviews\", \"orientation\": \"v\", \"showlegend\": true, \"type\": \"scatter\", \"x\": [2011, 2012, 2013, 2014, 2015, 2016, 2017], \"xaxis\": \"x\", \"y\": [4041, 10272, 48585, 86667, 196810, 195429, 32917], \"yaxis\": \"y\"}, {\"hovertemplate\": \"variable=num_lectures<br>year=%{x}<br>value=%{y}<extra></extra>\", \"legendgroup\": \"num_lectures\", \"line\": {\"color\": \"#00cc96\", \"dash\": \"solid\"}, \"mode\": \"lines\", \"name\": \"num_lectures\", \"orientation\": \"v\", \"showlegend\": true, \"type\": \"scatter\", \"x\": [2011, 2012, 2013, 2014, 2015, 2016, 2017], \"xaxis\": \"x\", \"y\": [574, 2374, 7261, 19288, 41930, 50854, 25239], \"yaxis\": \"y\"}],                        {\"legend\": {\"title\": {\"text\": \"variable\"}, \"tracegroupgap\": 0}, \"margin\": {\"t\": 60}, \"template\": {\"data\": {\"bar\": [{\"error_x\": {\"color\": \"#2a3f5f\"}, \"error_y\": {\"color\": \"#2a3f5f\"}, \"marker\": {\"line\": {\"color\": \"#E5ECF6\", \"width\": 0.5}}, \"type\": \"bar\"}], \"barpolar\": [{\"marker\": {\"line\": {\"color\": \"#E5ECF6\", \"width\": 0.5}}, \"type\": \"barpolar\"}], \"carpet\": [{\"aaxis\": {\"endlinecolor\": \"#2a3f5f\", \"gridcolor\": \"white\", \"linecolor\": \"white\", \"minorgridcolor\": \"white\", \"startlinecolor\": \"#2a3f5f\"}, \"baxis\": {\"endlinecolor\": \"#2a3f5f\", \"gridcolor\": \"white\", \"linecolor\": \"white\", \"minorgridcolor\": \"white\", \"startlinecolor\": \"#2a3f5f\"}, \"type\": \"carpet\"}], \"choropleth\": [{\"colorbar\": {\"outlinewidth\": 0, \"ticks\": \"\"}, \"type\": \"choropleth\"}], \"contour\": [{\"colorbar\": {\"outlinewidth\": 0, \"ticks\": \"\"}, \"colorscale\": [[0.0, \"#0d0887\"], [0.1111111111111111, \"#46039f\"], [0.2222222222222222, \"#7201a8\"], [0.3333333333333333, \"#9c179e\"], [0.4444444444444444, \"#bd3786\"], [0.5555555555555556, \"#d8576b\"], [0.6666666666666666, \"#ed7953\"], [0.7777777777777778, \"#fb9f3a\"], [0.8888888888888888, \"#fdca26\"], [1.0, \"#f0f921\"]], \"type\": \"contour\"}], \"contourcarpet\": [{\"colorbar\": {\"outlinewidth\": 0, \"ticks\": \"\"}, \"type\": \"contourcarpet\"}], \"heatmap\": [{\"colorbar\": {\"outlinewidth\": 0, \"ticks\": \"\"}, \"colorscale\": [[0.0, \"#0d0887\"], [0.1111111111111111, \"#46039f\"], [0.2222222222222222, \"#7201a8\"], [0.3333333333333333, \"#9c179e\"], [0.4444444444444444, \"#bd3786\"], [0.5555555555555556, \"#d8576b\"], [0.6666666666666666, \"#ed7953\"], [0.7777777777777778, \"#fb9f3a\"], [0.8888888888888888, \"#fdca26\"], [1.0, \"#f0f921\"]], \"type\": \"heatmap\"}], \"heatmapgl\": [{\"colorbar\": {\"outlinewidth\": 0, \"ticks\": \"\"}, \"colorscale\": [[0.0, \"#0d0887\"], [0.1111111111111111, \"#46039f\"], [0.2222222222222222, \"#7201a8\"], [0.3333333333333333, \"#9c179e\"], [0.4444444444444444, \"#bd3786\"], [0.5555555555555556, \"#d8576b\"], [0.6666666666666666, \"#ed7953\"], [0.7777777777777778, \"#fb9f3a\"], [0.8888888888888888, \"#fdca26\"], [1.0, \"#f0f921\"]], \"type\": \"heatmapgl\"}], \"histogram\": [{\"marker\": {\"colorbar\": {\"outlinewidth\": 0, \"ticks\": \"\"}}, \"type\": \"histogram\"}], \"histogram2d\": [{\"colorbar\": {\"outlinewidth\": 0, \"ticks\": \"\"}, \"colorscale\": [[0.0, \"#0d0887\"], [0.1111111111111111, \"#46039f\"], [0.2222222222222222, \"#7201a8\"], [0.3333333333333333, \"#9c179e\"], [0.4444444444444444, \"#bd3786\"], [0.5555555555555556, \"#d8576b\"], [0.6666666666666666, \"#ed7953\"], [0.7777777777777778, \"#fb9f3a\"], [0.8888888888888888, \"#fdca26\"], [1.0, \"#f0f921\"]], \"type\": \"histogram2d\"}], \"histogram2dcontour\": [{\"colorbar\": {\"outlinewidth\": 0, \"ticks\": \"\"}, \"colorscale\": [[0.0, \"#0d0887\"], [0.1111111111111111, \"#46039f\"], [0.2222222222222222, \"#7201a8\"], [0.3333333333333333, \"#9c179e\"], [0.4444444444444444, \"#bd3786\"], [0.5555555555555556, \"#d8576b\"], [0.6666666666666666, \"#ed7953\"], [0.7777777777777778, \"#fb9f3a\"], [0.8888888888888888, \"#fdca26\"], [1.0, \"#f0f921\"]], \"type\": \"histogram2dcontour\"}], \"mesh3d\": [{\"colorbar\": {\"outlinewidth\": 0, \"ticks\": \"\"}, \"type\": \"mesh3d\"}], \"parcoords\": [{\"line\": {\"colorbar\": {\"outlinewidth\": 0, \"ticks\": \"\"}}, \"type\": \"parcoords\"}], \"pie\": [{\"automargin\": true, \"type\": \"pie\"}], \"scatter\": [{\"marker\": {\"colorbar\": {\"outlinewidth\": 0, \"ticks\": \"\"}}, \"type\": \"scatter\"}], \"scatter3d\": [{\"line\": {\"colorbar\": {\"outlinewidth\": 0, \"ticks\": \"\"}}, \"marker\": {\"colorbar\": {\"outlinewidth\": 0, \"ticks\": \"\"}}, \"type\": \"scatter3d\"}], \"scattercarpet\": [{\"marker\": {\"colorbar\": {\"outlinewidth\": 0, \"ticks\": \"\"}}, \"type\": \"scattercarpet\"}], \"scattergeo\": [{\"marker\": {\"colorbar\": {\"outlinewidth\": 0, \"ticks\": \"\"}}, \"type\": \"scattergeo\"}], \"scattergl\": [{\"marker\": {\"colorbar\": {\"outlinewidth\": 0, \"ticks\": \"\"}}, \"type\": \"scattergl\"}], \"scattermapbox\": [{\"marker\": {\"colorbar\": {\"outlinewidth\": 0, \"ticks\": \"\"}}, \"type\": \"scattermapbox\"}], \"scatterpolar\": [{\"marker\": {\"colorbar\": {\"outlinewidth\": 0, \"ticks\": \"\"}}, \"type\": \"scatterpolar\"}], \"scatterpolargl\": [{\"marker\": {\"colorbar\": {\"outlinewidth\": 0, \"ticks\": \"\"}}, \"type\": \"scatterpolargl\"}], \"scatterternary\": [{\"marker\": {\"colorbar\": {\"outlinewidth\": 0, \"ticks\": \"\"}}, \"type\": \"scatterternary\"}], \"surface\": [{\"colorbar\": {\"outlinewidth\": 0, \"ticks\": \"\"}, \"colorscale\": [[0.0, \"#0d0887\"], [0.1111111111111111, \"#46039f\"], [0.2222222222222222, \"#7201a8\"], [0.3333333333333333, \"#9c179e\"], [0.4444444444444444, \"#bd3786\"], [0.5555555555555556, \"#d8576b\"], [0.6666666666666666, \"#ed7953\"], [0.7777777777777778, \"#fb9f3a\"], [0.8888888888888888, \"#fdca26\"], [1.0, \"#f0f921\"]], \"type\": \"surface\"}], \"table\": [{\"cells\": {\"fill\": {\"color\": \"#EBF0F8\"}, \"line\": {\"color\": \"white\"}}, \"header\": {\"fill\": {\"color\": \"#C8D4E3\"}, \"line\": {\"color\": \"white\"}}, \"type\": \"table\"}]}, \"layout\": {\"annotationdefaults\": {\"arrowcolor\": \"#2a3f5f\", \"arrowhead\": 0, \"arrowwidth\": 1}, \"autotypenumbers\": \"strict\", \"coloraxis\": {\"colorbar\": {\"outlinewidth\": 0, \"ticks\": \"\"}}, \"colorscale\": {\"diverging\": [[0, \"#8e0152\"], [0.1, \"#c51b7d\"], [0.2, \"#de77ae\"], [0.3, \"#f1b6da\"], [0.4, \"#fde0ef\"], [0.5, \"#f7f7f7\"], [0.6, \"#e6f5d0\"], [0.7, \"#b8e186\"], [0.8, \"#7fbc41\"], [0.9, \"#4d9221\"], [1, \"#276419\"]], \"sequential\": [[0.0, \"#0d0887\"], [0.1111111111111111, \"#46039f\"], [0.2222222222222222, \"#7201a8\"], [0.3333333333333333, \"#9c179e\"], [0.4444444444444444, \"#bd3786\"], [0.5555555555555556, \"#d8576b\"], [0.6666666666666666, \"#ed7953\"], [0.7777777777777778, \"#fb9f3a\"], [0.8888888888888888, \"#fdca26\"], [1.0, \"#f0f921\"]], \"sequentialminus\": [[0.0, \"#0d0887\"], [0.1111111111111111, \"#46039f\"], [0.2222222222222222, \"#7201a8\"], [0.3333333333333333, \"#9c179e\"], [0.4444444444444444, \"#bd3786\"], [0.5555555555555556, \"#d8576b\"], [0.6666666666666666, \"#ed7953\"], [0.7777777777777778, \"#fb9f3a\"], [0.8888888888888888, \"#fdca26\"], [1.0, \"#f0f921\"]]}, \"colorway\": [\"#636efa\", \"#EF553B\", \"#00cc96\", \"#ab63fa\", \"#FFA15A\", \"#19d3f3\", \"#FF6692\", \"#B6E880\", \"#FF97FF\", \"#FECB52\"], \"font\": {\"color\": \"#2a3f5f\"}, \"geo\": {\"bgcolor\": \"white\", \"lakecolor\": \"white\", \"landcolor\": \"#E5ECF6\", \"showlakes\": true, \"showland\": true, \"subunitcolor\": \"white\"}, \"hoverlabel\": {\"align\": \"left\"}, \"hovermode\": \"closest\", \"mapbox\": {\"style\": \"light\"}, \"paper_bgcolor\": \"white\", \"plot_bgcolor\": \"#E5ECF6\", \"polar\": {\"angularaxis\": {\"gridcolor\": \"white\", \"linecolor\": \"white\", \"ticks\": \"\"}, \"bgcolor\": \"#E5ECF6\", \"radialaxis\": {\"gridcolor\": \"white\", \"linecolor\": \"white\", \"ticks\": \"\"}}, \"scene\": {\"xaxis\": {\"backgroundcolor\": \"#E5ECF6\", \"gridcolor\": \"white\", \"gridwidth\": 2, \"linecolor\": \"white\", \"showbackground\": true, \"ticks\": \"\", \"zerolinecolor\": \"white\"}, \"yaxis\": {\"backgroundcolor\": \"#E5ECF6\", \"gridcolor\": \"white\", \"gridwidth\": 2, \"linecolor\": \"white\", \"showbackground\": true, \"ticks\": \"\", \"zerolinecolor\": \"white\"}, \"zaxis\": {\"backgroundcolor\": \"#E5ECF6\", \"gridcolor\": \"white\", \"gridwidth\": 2, \"linecolor\": \"white\", \"showbackground\": true, \"ticks\": \"\", \"zerolinecolor\": \"white\"}}, \"shapedefaults\": {\"line\": {\"color\": \"#2a3f5f\"}}, \"ternary\": {\"aaxis\": {\"gridcolor\": \"white\", \"linecolor\": \"white\", \"ticks\": \"\"}, \"baxis\": {\"gridcolor\": \"white\", \"linecolor\": \"white\", \"ticks\": \"\"}, \"bgcolor\": \"#E5ECF6\", \"caxis\": {\"gridcolor\": \"white\", \"linecolor\": \"white\", \"ticks\": \"\"}}, \"title\": {\"x\": 0.05}, \"xaxis\": {\"automargin\": true, \"gridcolor\": \"white\", \"linecolor\": \"white\", \"ticks\": \"\", \"title\": {\"standoff\": 15}, \"zerolinecolor\": \"white\", \"zerolinewidth\": 2}, \"yaxis\": {\"automargin\": true, \"gridcolor\": \"white\", \"linecolor\": \"white\", \"ticks\": \"\", \"title\": {\"standoff\": 15}, \"zerolinecolor\": \"white\", \"zerolinewidth\": 2}}}, \"xaxis\": {\"anchor\": \"y\", \"domain\": [0.0, 1.0], \"title\": {\"text\": \"year\"}}, \"yaxis\": {\"anchor\": \"x\", \"domain\": [0.0, 1.0], \"title\": {\"text\": \"value\"}}},                        {\"responsive\": true}                    ).then(function(){\n",
       "                            \n",
       "var gd = document.getElementById('b272771d-4f64-42ec-bdc7-2ada4a531853');\n",
       "var x = new MutationObserver(function (mutations, observer) {{\n",
       "        var display = window.getComputedStyle(gd).display;\n",
       "        if (!display || display === 'none') {{\n",
       "            console.log([gd, 'removed!']);\n",
       "            Plotly.purge(gd);\n",
       "            observer.disconnect();\n",
       "        }}\n",
       "}});\n",
       "\n",
       "// Listen for the removal of the full notebook cells\n",
       "var notebookContainer = gd.closest('#notebook-container');\n",
       "if (notebookContainer) {{\n",
       "    x.observe(notebookContainer, {childList: true});\n",
       "}}\n",
       "\n",
       "// Listen for the clearing of the current output cell\n",
       "var outputEl = gd.closest('.output');\n",
       "if (outputEl) {{\n",
       "    x.observe(outputEl, {childList: true});\n",
       "}}\n",
       "\n",
       "                        })                };                });            </script>        </div>"
      ]
     },
     "metadata": {},
     "output_type": "display_data"
    }
   ],
   "source": [
    "fig = px.line(df1, x='year', y=['num_subscribers','num_reviews','num_lectures'])\n",
    "fig.show()"
   ]
  },
  {
   "cell_type": "markdown",
   "id": "intensive-reducing",
   "metadata": {
    "papermill": {
     "duration": 0.074888,
     "end_time": "2021-07-07T21:05:37.052789",
     "exception": false,
     "start_time": "2021-07-07T21:05:36.977901",
     "status": "completed"
    },
    "tags": []
   },
   "source": [
    "- As seen in the line chart, number of subscribers increased constantly till 2015 and then decreased around a half milliion on 2016. Since 2017 data does not fully cover the 2017, we can not make any assumption on that."
   ]
  },
  {
   "cell_type": "markdown",
   "id": "fifth-offset",
   "metadata": {
    "papermill": {
     "duration": 0.074306,
     "end_time": "2021-07-07T21:05:37.202777",
     "exception": false,
     "start_time": "2021-07-07T21:05:37.128471",
     "status": "completed"
    },
    "tags": []
   },
   "source": [
    "### Price & Courses"
   ]
  },
  {
   "cell_type": "code",
   "execution_count": 28,
   "id": "brown-sixth",
   "metadata": {
    "_kg_hide-input": true,
    "execution": {
     "iopub.execute_input": "2021-07-07T21:05:37.361588Z",
     "iopub.status.busy": "2021-07-07T21:05:37.360703Z",
     "iopub.status.idle": "2021-07-07T21:05:37.376100Z",
     "shell.execute_reply": "2021-07-07T21:05:37.375451Z",
     "shell.execute_reply.started": "2021-07-07T20:45:37.317434Z"
    },
    "papermill": {
     "duration": 0.098069,
     "end_time": "2021-07-07T21:05:37.376240",
     "exception": false,
     "start_time": "2021-07-07T21:05:37.278171",
     "status": "completed"
    },
    "tags": []
   },
   "outputs": [
    {
     "data": {
      "text/html": [
       "<div>\n",
       "<style scoped>\n",
       "    .dataframe tbody tr th:only-of-type {\n",
       "        vertical-align: middle;\n",
       "    }\n",
       "\n",
       "    .dataframe tbody tr th {\n",
       "        vertical-align: top;\n",
       "    }\n",
       "\n",
       "    .dataframe thead th {\n",
       "        text-align: right;\n",
       "    }\n",
       "</style>\n",
       "<table border=\"1\" class=\"dataframe\">\n",
       "  <thead>\n",
       "    <tr style=\"text-align: right;\">\n",
       "      <th></th>\n",
       "      <th>year</th>\n",
       "      <th>paid_free count</th>\n",
       "    </tr>\n",
       "    <tr>\n",
       "      <th>is_paid</th>\n",
       "      <th></th>\n",
       "      <th></th>\n",
       "    </tr>\n",
       "  </thead>\n",
       "  <tbody>\n",
       "    <tr>\n",
       "      <th>True</th>\n",
       "      <td>2011</td>\n",
       "      <td>5</td>\n",
       "    </tr>\n",
       "    <tr>\n",
       "      <th>True</th>\n",
       "      <td>2012</td>\n",
       "      <td>41</td>\n",
       "    </tr>\n",
       "    <tr>\n",
       "      <th>False</th>\n",
       "      <td>2012</td>\n",
       "      <td>4</td>\n",
       "    </tr>\n",
       "    <tr>\n",
       "      <th>True</th>\n",
       "      <td>2013</td>\n",
       "      <td>185</td>\n",
       "    </tr>\n",
       "    <tr>\n",
       "      <th>False</th>\n",
       "      <td>2013</td>\n",
       "      <td>17</td>\n",
       "    </tr>\n",
       "    <tr>\n",
       "      <th>True</th>\n",
       "      <td>2014</td>\n",
       "      <td>439</td>\n",
       "    </tr>\n",
       "    <tr>\n",
       "      <th>False</th>\n",
       "      <td>2014</td>\n",
       "      <td>52</td>\n",
       "    </tr>\n",
       "    <tr>\n",
       "      <th>True</th>\n",
       "      <td>2015</td>\n",
       "      <td>952</td>\n",
       "    </tr>\n",
       "    <tr>\n",
       "      <th>False</th>\n",
       "      <td>2015</td>\n",
       "      <td>62</td>\n",
       "    </tr>\n",
       "    <tr>\n",
       "      <th>True</th>\n",
       "      <td>2016</td>\n",
       "      <td>1109</td>\n",
       "    </tr>\n",
       "    <tr>\n",
       "      <th>False</th>\n",
       "      <td>2016</td>\n",
       "      <td>97</td>\n",
       "    </tr>\n",
       "    <tr>\n",
       "      <th>True</th>\n",
       "      <td>2017</td>\n",
       "      <td>637</td>\n",
       "    </tr>\n",
       "    <tr>\n",
       "      <th>False</th>\n",
       "      <td>2017</td>\n",
       "      <td>78</td>\n",
       "    </tr>\n",
       "  </tbody>\n",
       "</table>\n",
       "</div>"
      ],
      "text/plain": [
       "         year  paid_free count\n",
       "is_paid                       \n",
       "True     2011                5\n",
       "True     2012               41\n",
       "False    2012                4\n",
       "True     2013              185\n",
       "False    2013               17\n",
       "True     2014              439\n",
       "False    2014               52\n",
       "True     2015              952\n",
       "False    2015               62\n",
       "True     2016             1109\n",
       "False    2016               97\n",
       "True     2017              637\n",
       "False    2017               78"
      ]
     },
     "execution_count": 28,
     "metadata": {},
     "output_type": "execute_result"
    }
   ],
   "source": [
    "paid_by_year = df.groupby('year')['is_paid'].value_counts().reset_index(level=0).rename(columns={'is_paid': 'paid_free count'}, index={'index': 'is_paid'})\n",
    "paid_by_year"
   ]
  },
  {
   "cell_type": "code",
   "execution_count": 29,
   "id": "french-going",
   "metadata": {
    "_kg_hide-input": true,
    "execution": {
     "iopub.execute_input": "2021-07-07T21:05:37.597311Z",
     "iopub.status.busy": "2021-07-07T21:05:37.592156Z",
     "iopub.status.idle": "2021-07-07T21:05:37.606013Z",
     "shell.execute_reply": "2021-07-07T21:05:37.605345Z",
     "shell.execute_reply.started": "2021-07-07T20:45:37.336873Z"
    },
    "papermill": {
     "duration": 0.153564,
     "end_time": "2021-07-07T21:05:37.606159",
     "exception": false,
     "start_time": "2021-07-07T21:05:37.452595",
     "status": "completed"
    },
    "tags": []
   },
   "outputs": [
    {
     "data": {
      "text/html": [
       "<div>                            <div id=\"a99c6626-e672-4608-aeba-0de09a17b62c\" class=\"plotly-graph-div\" style=\"height:525px; width:100%;\"></div>            <script type=\"text/javascript\">                require([\"plotly\"], function(Plotly) {                    window.PLOTLYENV=window.PLOTLYENV || {};                                    if (document.getElementById(\"a99c6626-e672-4608-aeba-0de09a17b62c\")) {                    Plotly.newPlot(                        \"a99c6626-e672-4608-aeba-0de09a17b62c\",                        [{\"hovertemplate\": \"is_paid=True<br>year=%{x}<br>paid_free count=%{y}<extra></extra>\", \"legendgroup\": \"True\", \"line\": {\"color\": \"#636efa\", \"dash\": \"solid\"}, \"mode\": \"lines\", \"name\": \"True\", \"orientation\": \"v\", \"showlegend\": true, \"type\": \"scatter\", \"x\": [2011, 2012, 2013, 2014, 2015, 2016, 2017], \"xaxis\": \"x\", \"y\": [5, 41, 185, 439, 952, 1109, 637], \"yaxis\": \"y\"}, {\"hovertemplate\": \"is_paid=False<br>year=%{x}<br>paid_free count=%{y}<extra></extra>\", \"legendgroup\": \"False\", \"line\": {\"color\": \"#EF553B\", \"dash\": \"solid\"}, \"mode\": \"lines\", \"name\": \"False\", \"orientation\": \"v\", \"showlegend\": true, \"type\": \"scatter\", \"x\": [2012, 2013, 2014, 2015, 2016, 2017], \"xaxis\": \"x\", \"y\": [4, 17, 52, 62, 97, 78], \"yaxis\": \"y\"}],                        {\"legend\": {\"title\": {\"text\": \"is_paid\"}, \"tracegroupgap\": 0}, \"margin\": {\"t\": 60}, \"template\": {\"data\": {\"bar\": [{\"error_x\": {\"color\": \"#2a3f5f\"}, \"error_y\": {\"color\": \"#2a3f5f\"}, \"marker\": {\"line\": {\"color\": \"#E5ECF6\", \"width\": 0.5}}, \"type\": \"bar\"}], \"barpolar\": [{\"marker\": {\"line\": {\"color\": \"#E5ECF6\", \"width\": 0.5}}, \"type\": \"barpolar\"}], \"carpet\": [{\"aaxis\": {\"endlinecolor\": \"#2a3f5f\", \"gridcolor\": \"white\", \"linecolor\": \"white\", \"minorgridcolor\": \"white\", \"startlinecolor\": \"#2a3f5f\"}, \"baxis\": {\"endlinecolor\": \"#2a3f5f\", \"gridcolor\": \"white\", \"linecolor\": \"white\", \"minorgridcolor\": \"white\", \"startlinecolor\": \"#2a3f5f\"}, \"type\": \"carpet\"}], \"choropleth\": [{\"colorbar\": {\"outlinewidth\": 0, \"ticks\": \"\"}, \"type\": \"choropleth\"}], \"contour\": [{\"colorbar\": {\"outlinewidth\": 0, \"ticks\": \"\"}, \"colorscale\": [[0.0, \"#0d0887\"], [0.1111111111111111, \"#46039f\"], [0.2222222222222222, \"#7201a8\"], [0.3333333333333333, \"#9c179e\"], [0.4444444444444444, \"#bd3786\"], [0.5555555555555556, \"#d8576b\"], [0.6666666666666666, \"#ed7953\"], [0.7777777777777778, \"#fb9f3a\"], [0.8888888888888888, \"#fdca26\"], [1.0, \"#f0f921\"]], \"type\": \"contour\"}], \"contourcarpet\": [{\"colorbar\": {\"outlinewidth\": 0, \"ticks\": \"\"}, \"type\": \"contourcarpet\"}], \"heatmap\": [{\"colorbar\": {\"outlinewidth\": 0, \"ticks\": \"\"}, \"colorscale\": [[0.0, \"#0d0887\"], [0.1111111111111111, \"#46039f\"], [0.2222222222222222, \"#7201a8\"], [0.3333333333333333, \"#9c179e\"], [0.4444444444444444, \"#bd3786\"], [0.5555555555555556, \"#d8576b\"], [0.6666666666666666, \"#ed7953\"], [0.7777777777777778, \"#fb9f3a\"], [0.8888888888888888, \"#fdca26\"], [1.0, \"#f0f921\"]], \"type\": \"heatmap\"}], \"heatmapgl\": [{\"colorbar\": {\"outlinewidth\": 0, \"ticks\": \"\"}, \"colorscale\": [[0.0, \"#0d0887\"], [0.1111111111111111, \"#46039f\"], [0.2222222222222222, \"#7201a8\"], [0.3333333333333333, \"#9c179e\"], [0.4444444444444444, \"#bd3786\"], [0.5555555555555556, \"#d8576b\"], [0.6666666666666666, \"#ed7953\"], [0.7777777777777778, \"#fb9f3a\"], [0.8888888888888888, \"#fdca26\"], [1.0, \"#f0f921\"]], \"type\": \"heatmapgl\"}], \"histogram\": [{\"marker\": {\"colorbar\": {\"outlinewidth\": 0, \"ticks\": \"\"}}, \"type\": \"histogram\"}], \"histogram2d\": [{\"colorbar\": {\"outlinewidth\": 0, \"ticks\": \"\"}, \"colorscale\": [[0.0, \"#0d0887\"], [0.1111111111111111, \"#46039f\"], [0.2222222222222222, \"#7201a8\"], [0.3333333333333333, \"#9c179e\"], [0.4444444444444444, \"#bd3786\"], [0.5555555555555556, \"#d8576b\"], [0.6666666666666666, \"#ed7953\"], [0.7777777777777778, \"#fb9f3a\"], [0.8888888888888888, \"#fdca26\"], [1.0, \"#f0f921\"]], \"type\": \"histogram2d\"}], \"histogram2dcontour\": [{\"colorbar\": {\"outlinewidth\": 0, \"ticks\": \"\"}, \"colorscale\": [[0.0, \"#0d0887\"], [0.1111111111111111, \"#46039f\"], [0.2222222222222222, \"#7201a8\"], [0.3333333333333333, \"#9c179e\"], [0.4444444444444444, \"#bd3786\"], [0.5555555555555556, \"#d8576b\"], [0.6666666666666666, \"#ed7953\"], [0.7777777777777778, \"#fb9f3a\"], [0.8888888888888888, \"#fdca26\"], [1.0, \"#f0f921\"]], \"type\": \"histogram2dcontour\"}], \"mesh3d\": [{\"colorbar\": {\"outlinewidth\": 0, \"ticks\": \"\"}, \"type\": \"mesh3d\"}], \"parcoords\": [{\"line\": {\"colorbar\": {\"outlinewidth\": 0, \"ticks\": \"\"}}, \"type\": \"parcoords\"}], \"pie\": [{\"automargin\": true, \"type\": \"pie\"}], \"scatter\": [{\"marker\": {\"colorbar\": {\"outlinewidth\": 0, \"ticks\": \"\"}}, \"type\": \"scatter\"}], \"scatter3d\": [{\"line\": {\"colorbar\": {\"outlinewidth\": 0, \"ticks\": \"\"}}, \"marker\": {\"colorbar\": {\"outlinewidth\": 0, \"ticks\": \"\"}}, \"type\": \"scatter3d\"}], \"scattercarpet\": [{\"marker\": {\"colorbar\": {\"outlinewidth\": 0, \"ticks\": \"\"}}, \"type\": \"scattercarpet\"}], \"scattergeo\": [{\"marker\": {\"colorbar\": {\"outlinewidth\": 0, \"ticks\": \"\"}}, \"type\": \"scattergeo\"}], \"scattergl\": [{\"marker\": {\"colorbar\": {\"outlinewidth\": 0, \"ticks\": \"\"}}, \"type\": \"scattergl\"}], \"scattermapbox\": [{\"marker\": {\"colorbar\": {\"outlinewidth\": 0, \"ticks\": \"\"}}, \"type\": \"scattermapbox\"}], \"scatterpolar\": [{\"marker\": {\"colorbar\": {\"outlinewidth\": 0, \"ticks\": \"\"}}, \"type\": \"scatterpolar\"}], \"scatterpolargl\": [{\"marker\": {\"colorbar\": {\"outlinewidth\": 0, \"ticks\": \"\"}}, \"type\": \"scatterpolargl\"}], \"scatterternary\": [{\"marker\": {\"colorbar\": {\"outlinewidth\": 0, \"ticks\": \"\"}}, \"type\": \"scatterternary\"}], \"surface\": [{\"colorbar\": {\"outlinewidth\": 0, \"ticks\": \"\"}, \"colorscale\": [[0.0, \"#0d0887\"], [0.1111111111111111, \"#46039f\"], [0.2222222222222222, \"#7201a8\"], [0.3333333333333333, \"#9c179e\"], [0.4444444444444444, \"#bd3786\"], [0.5555555555555556, \"#d8576b\"], [0.6666666666666666, \"#ed7953\"], [0.7777777777777778, \"#fb9f3a\"], [0.8888888888888888, \"#fdca26\"], [1.0, \"#f0f921\"]], \"type\": \"surface\"}], \"table\": [{\"cells\": {\"fill\": {\"color\": \"#EBF0F8\"}, \"line\": {\"color\": \"white\"}}, \"header\": {\"fill\": {\"color\": \"#C8D4E3\"}, \"line\": {\"color\": \"white\"}}, \"type\": \"table\"}]}, \"layout\": {\"annotationdefaults\": {\"arrowcolor\": \"#2a3f5f\", \"arrowhead\": 0, \"arrowwidth\": 1}, \"autotypenumbers\": \"strict\", \"coloraxis\": {\"colorbar\": {\"outlinewidth\": 0, \"ticks\": \"\"}}, \"colorscale\": {\"diverging\": [[0, \"#8e0152\"], [0.1, \"#c51b7d\"], [0.2, \"#de77ae\"], [0.3, \"#f1b6da\"], [0.4, \"#fde0ef\"], [0.5, \"#f7f7f7\"], [0.6, \"#e6f5d0\"], [0.7, \"#b8e186\"], [0.8, \"#7fbc41\"], [0.9, \"#4d9221\"], [1, \"#276419\"]], \"sequential\": [[0.0, \"#0d0887\"], [0.1111111111111111, \"#46039f\"], [0.2222222222222222, \"#7201a8\"], [0.3333333333333333, \"#9c179e\"], [0.4444444444444444, \"#bd3786\"], [0.5555555555555556, \"#d8576b\"], [0.6666666666666666, \"#ed7953\"], [0.7777777777777778, \"#fb9f3a\"], [0.8888888888888888, \"#fdca26\"], [1.0, \"#f0f921\"]], \"sequentialminus\": [[0.0, \"#0d0887\"], [0.1111111111111111, \"#46039f\"], [0.2222222222222222, \"#7201a8\"], [0.3333333333333333, \"#9c179e\"], [0.4444444444444444, \"#bd3786\"], [0.5555555555555556, \"#d8576b\"], [0.6666666666666666, \"#ed7953\"], [0.7777777777777778, \"#fb9f3a\"], [0.8888888888888888, \"#fdca26\"], [1.0, \"#f0f921\"]]}, \"colorway\": [\"#636efa\", \"#EF553B\", \"#00cc96\", \"#ab63fa\", \"#FFA15A\", \"#19d3f3\", \"#FF6692\", \"#B6E880\", \"#FF97FF\", \"#FECB52\"], \"font\": {\"color\": \"#2a3f5f\"}, \"geo\": {\"bgcolor\": \"white\", \"lakecolor\": \"white\", \"landcolor\": \"#E5ECF6\", \"showlakes\": true, \"showland\": true, \"subunitcolor\": \"white\"}, \"hoverlabel\": {\"align\": \"left\"}, \"hovermode\": \"closest\", \"mapbox\": {\"style\": \"light\"}, \"paper_bgcolor\": \"white\", \"plot_bgcolor\": \"#E5ECF6\", \"polar\": {\"angularaxis\": {\"gridcolor\": \"white\", \"linecolor\": \"white\", \"ticks\": \"\"}, \"bgcolor\": \"#E5ECF6\", \"radialaxis\": {\"gridcolor\": \"white\", \"linecolor\": \"white\", \"ticks\": \"\"}}, \"scene\": {\"xaxis\": {\"backgroundcolor\": \"#E5ECF6\", \"gridcolor\": \"white\", \"gridwidth\": 2, \"linecolor\": \"white\", \"showbackground\": true, \"ticks\": \"\", \"zerolinecolor\": \"white\"}, \"yaxis\": {\"backgroundcolor\": \"#E5ECF6\", \"gridcolor\": \"white\", \"gridwidth\": 2, \"linecolor\": \"white\", \"showbackground\": true, \"ticks\": \"\", \"zerolinecolor\": \"white\"}, \"zaxis\": {\"backgroundcolor\": \"#E5ECF6\", \"gridcolor\": \"white\", \"gridwidth\": 2, \"linecolor\": \"white\", \"showbackground\": true, \"ticks\": \"\", \"zerolinecolor\": \"white\"}}, \"shapedefaults\": {\"line\": {\"color\": \"#2a3f5f\"}}, \"ternary\": {\"aaxis\": {\"gridcolor\": \"white\", \"linecolor\": \"white\", \"ticks\": \"\"}, \"baxis\": {\"gridcolor\": \"white\", \"linecolor\": \"white\", \"ticks\": \"\"}, \"bgcolor\": \"#E5ECF6\", \"caxis\": {\"gridcolor\": \"white\", \"linecolor\": \"white\", \"ticks\": \"\"}}, \"title\": {\"x\": 0.05}, \"xaxis\": {\"automargin\": true, \"gridcolor\": \"white\", \"linecolor\": \"white\", \"ticks\": \"\", \"title\": {\"standoff\": 15}, \"zerolinecolor\": \"white\", \"zerolinewidth\": 2}, \"yaxis\": {\"automargin\": true, \"gridcolor\": \"white\", \"linecolor\": \"white\", \"ticks\": \"\", \"title\": {\"standoff\": 15}, \"zerolinecolor\": \"white\", \"zerolinewidth\": 2}}}, \"xaxis\": {\"anchor\": \"y\", \"domain\": [0.0, 1.0], \"title\": {\"text\": \"year\"}}, \"yaxis\": {\"anchor\": \"x\", \"domain\": [0.0, 1.0], \"title\": {\"text\": \"paid_free count\"}}},                        {\"responsive\": true}                    ).then(function(){\n",
       "                            \n",
       "var gd = document.getElementById('a99c6626-e672-4608-aeba-0de09a17b62c');\n",
       "var x = new MutationObserver(function (mutations, observer) {{\n",
       "        var display = window.getComputedStyle(gd).display;\n",
       "        if (!display || display === 'none') {{\n",
       "            console.log([gd, 'removed!']);\n",
       "            Plotly.purge(gd);\n",
       "            observer.disconnect();\n",
       "        }}\n",
       "}});\n",
       "\n",
       "// Listen for the removal of the full notebook cells\n",
       "var notebookContainer = gd.closest('#notebook-container');\n",
       "if (notebookContainer) {{\n",
       "    x.observe(notebookContainer, {childList: true});\n",
       "}}\n",
       "\n",
       "// Listen for the clearing of the current output cell\n",
       "var outputEl = gd.closest('.output');\n",
       "if (outputEl) {{\n",
       "    x.observe(outputEl, {childList: true});\n",
       "}}\n",
       "\n",
       "                        })                };                });            </script>        </div>"
      ]
     },
     "metadata": {},
     "output_type": "display_data"
    }
   ],
   "source": [
    "fig = px.line(paid_by_year, x='year', y='paid_free count', color= paid_by_year.index)\n",
    "fig.show()"
   ]
  },
  {
   "cell_type": "markdown",
   "id": "intensive-conclusion",
   "metadata": {
    "papermill": {
     "duration": 0.075894,
     "end_time": "2021-07-07T21:05:37.758933",
     "exception": false,
     "start_time": "2021-07-07T21:05:37.683039",
     "status": "completed"
    },
    "tags": []
   },
   "source": [
    "- Both number of free and paid courses increased by each year. \n",
    "- Yep, Agreed, not much increase on the free courses. It's a tough world."
   ]
  },
  {
   "cell_type": "markdown",
   "id": "hungry-insertion",
   "metadata": {
    "papermill": {
     "duration": 0.07583,
     "end_time": "2021-07-07T21:05:37.912520",
     "exception": false,
     "start_time": "2021-07-07T21:05:37.836690",
     "status": "completed"
    },
    "tags": []
   },
   "source": [
    "### Top Paid Courses"
   ]
  },
  {
   "cell_type": "code",
   "execution_count": 30,
   "id": "restricted-skill",
   "metadata": {
    "_kg_hide-input": true,
    "execution": {
     "iopub.execute_input": "2021-07-07T21:05:38.074943Z",
     "iopub.status.busy": "2021-07-07T21:05:38.073165Z",
     "iopub.status.idle": "2021-07-07T21:05:38.089039Z",
     "shell.execute_reply": "2021-07-07T21:05:38.088479Z",
     "shell.execute_reply.started": "2021-07-07T20:45:37.620302Z"
    },
    "papermill": {
     "duration": 0.099745,
     "end_time": "2021-07-07T21:05:38.089188",
     "exception": false,
     "start_time": "2021-07-07T21:05:37.989443",
     "status": "completed"
    },
    "tags": []
   },
   "outputs": [
    {
     "data": {
      "text/html": [
       "<div>\n",
       "<style scoped>\n",
       "    .dataframe tbody tr th:only-of-type {\n",
       "        vertical-align: middle;\n",
       "    }\n",
       "\n",
       "    .dataframe tbody tr th {\n",
       "        vertical-align: top;\n",
       "    }\n",
       "\n",
       "    .dataframe thead th {\n",
       "        text-align: right;\n",
       "    }\n",
       "</style>\n",
       "<table border=\"1\" class=\"dataframe\">\n",
       "  <thead>\n",
       "    <tr style=\"text-align: right;\">\n",
       "      <th></th>\n",
       "      <th>course_title</th>\n",
       "      <th>year</th>\n",
       "      <th>subject</th>\n",
       "      <th>num_subscribers</th>\n",
       "    </tr>\n",
       "  </thead>\n",
       "  <tbody>\n",
       "    <tr>\n",
       "      <th>3230</th>\n",
       "      <td>The Web Developer Bootcamp</td>\n",
       "      <td>2015</td>\n",
       "      <td>Web Development</td>\n",
       "      <td>121584</td>\n",
       "    </tr>\n",
       "    <tr>\n",
       "      <th>3232</th>\n",
       "      <td>The Complete Web Developer Course 2.0</td>\n",
       "      <td>2016</td>\n",
       "      <td>Web Development</td>\n",
       "      <td>114512</td>\n",
       "    </tr>\n",
       "    <tr>\n",
       "      <th>2619</th>\n",
       "      <td>Learn Javascript &amp; JQuery From Scratch</td>\n",
       "      <td>2013</td>\n",
       "      <td>Web Development</td>\n",
       "      <td>84897</td>\n",
       "    </tr>\n",
       "    <tr>\n",
       "      <th>3247</th>\n",
       "      <td>JavaScript: Understanding the Weird Parts</td>\n",
       "      <td>2015</td>\n",
       "      <td>Web Development</td>\n",
       "      <td>79612</td>\n",
       "    </tr>\n",
       "    <tr>\n",
       "      <th>1979</th>\n",
       "      <td>Pianoforall - Incredible New Way To Learn Pian...</td>\n",
       "      <td>2014</td>\n",
       "      <td>Musical Instruments</td>\n",
       "      <td>75499</td>\n",
       "    </tr>\n",
       "    <tr>\n",
       "      <th>3204</th>\n",
       "      <td>Angular 4 (formerly Angular 2) - The Complete ...</td>\n",
       "      <td>2016</td>\n",
       "      <td>Web Development</td>\n",
       "      <td>73783</td>\n",
       "    </tr>\n",
       "    <tr>\n",
       "      <th>2701</th>\n",
       "      <td>Become a Web Developer from Scratch</td>\n",
       "      <td>2011</td>\n",
       "      <td>Web Development</td>\n",
       "      <td>69186</td>\n",
       "    </tr>\n",
       "    <tr>\n",
       "      <th>3246</th>\n",
       "      <td>Learn and Understand AngularJS</td>\n",
       "      <td>2014</td>\n",
       "      <td>Web Development</td>\n",
       "      <td>59361</td>\n",
       "    </tr>\n",
       "    <tr>\n",
       "      <th>3251</th>\n",
       "      <td>Learn and Understand NodeJS</td>\n",
       "      <td>2015</td>\n",
       "      <td>Web Development</td>\n",
       "      <td>58208</td>\n",
       "    </tr>\n",
       "    <tr>\n",
       "      <th>2662</th>\n",
       "      <td>The Complete HTML &amp; CSS Course - From Novice T...</td>\n",
       "      <td>2015</td>\n",
       "      <td>Web Development</td>\n",
       "      <td>57422</td>\n",
       "    </tr>\n",
       "    <tr>\n",
       "      <th>3175</th>\n",
       "      <td>Complete PHP Course With Bootstrap3 CMS System...</td>\n",
       "      <td>2015</td>\n",
       "      <td>Web Development</td>\n",
       "      <td>55332</td>\n",
       "    </tr>\n",
       "    <tr>\n",
       "      <th>3205</th>\n",
       "      <td>Build Websites from Scratch with HTML &amp; CSS</td>\n",
       "      <td>2013</td>\n",
       "      <td>Web Development</td>\n",
       "      <td>51257</td>\n",
       "    </tr>\n",
       "    <tr>\n",
       "      <th>3254</th>\n",
       "      <td>Modern React with Redux</td>\n",
       "      <td>2015</td>\n",
       "      <td>Web Development</td>\n",
       "      <td>50815</td>\n",
       "    </tr>\n",
       "    <tr>\n",
       "      <th>2479</th>\n",
       "      <td>Learning Dynamic Website Design - PHP MySQL an...</td>\n",
       "      <td>2012</td>\n",
       "      <td>Web Development</td>\n",
       "      <td>47886</td>\n",
       "    </tr>\n",
       "    <tr>\n",
       "      <th>3249</th>\n",
       "      <td>Build Responsive Real World Websites with HTML...</td>\n",
       "      <td>2015</td>\n",
       "      <td>Web Development</td>\n",
       "      <td>43977</td>\n",
       "    </tr>\n",
       "  </tbody>\n",
       "</table>\n",
       "</div>"
      ],
      "text/plain": [
       "                                           course_title  year  \\\n",
       "3230                         The Web Developer Bootcamp  2015   \n",
       "3232              The Complete Web Developer Course 2.0  2016   \n",
       "2619             Learn Javascript & JQuery From Scratch  2013   \n",
       "3247          JavaScript: Understanding the Weird Parts  2015   \n",
       "1979  Pianoforall - Incredible New Way To Learn Pian...  2014   \n",
       "3204  Angular 4 (formerly Angular 2) - The Complete ...  2016   \n",
       "2701                Become a Web Developer from Scratch  2011   \n",
       "3246                     Learn and Understand AngularJS  2014   \n",
       "3251                        Learn and Understand NodeJS  2015   \n",
       "2662  The Complete HTML & CSS Course - From Novice T...  2015   \n",
       "3175  Complete PHP Course With Bootstrap3 CMS System...  2015   \n",
       "3205        Build Websites from Scratch with HTML & CSS  2013   \n",
       "3254                            Modern React with Redux  2015   \n",
       "2479  Learning Dynamic Website Design - PHP MySQL an...  2012   \n",
       "3249  Build Responsive Real World Websites with HTML...  2015   \n",
       "\n",
       "                  subject  num_subscribers  \n",
       "3230      Web Development           121584  \n",
       "3232      Web Development           114512  \n",
       "2619      Web Development            84897  \n",
       "3247      Web Development            79612  \n",
       "1979  Musical Instruments            75499  \n",
       "3204      Web Development            73783  \n",
       "2701      Web Development            69186  \n",
       "3246      Web Development            59361  \n",
       "3251      Web Development            58208  \n",
       "2662      Web Development            57422  \n",
       "3175      Web Development            55332  \n",
       "3205      Web Development            51257  \n",
       "3254      Web Development            50815  \n",
       "2479      Web Development            47886  \n",
       "3249      Web Development            43977  "
      ]
     },
     "execution_count": 30,
     "metadata": {},
     "output_type": "execute_result"
    }
   ],
   "source": [
    "top_15_paid_courses = df[df['price']!=0][['course_title','year','subject','num_subscribers']].sort_values(by= 'num_subscribers',ascending=False).head(15)\n",
    "top_15_paid_courses"
   ]
  },
  {
   "cell_type": "code",
   "execution_count": 31,
   "id": "engaged-equality",
   "metadata": {
    "_kg_hide-input": true,
    "execution": {
     "iopub.execute_input": "2021-07-07T21:05:38.261460Z",
     "iopub.status.busy": "2021-07-07T21:05:38.260686Z",
     "iopub.status.idle": "2021-07-07T21:05:38.339107Z",
     "shell.execute_reply": "2021-07-07T21:05:38.338540Z",
     "shell.execute_reply.started": "2021-07-07T20:45:37.638242Z"
    },
    "papermill": {
     "duration": 0.172605,
     "end_time": "2021-07-07T21:05:38.339258",
     "exception": false,
     "start_time": "2021-07-07T21:05:38.166653",
     "status": "completed"
    },
    "tags": []
   },
   "outputs": [
    {
     "data": {
      "text/html": [
       "<div>                            <div id=\"6dc441da-245f-4721-b425-b78fc7e2be8b\" class=\"plotly-graph-div\" style=\"height:525px; width:100%;\"></div>            <script type=\"text/javascript\">                require([\"plotly\"], function(Plotly) {                    window.PLOTLYENV=window.PLOTLYENV || {};                                    if (document.getElementById(\"6dc441da-245f-4721-b425-b78fc7e2be8b\")) {                    Plotly.newPlot(                        \"6dc441da-245f-4721-b425-b78fc7e2be8b\",                        [{\"alignmentgroup\": \"True\", \"customdata\": [[2015, \"Web Development\"], [2016, \"Web Development\"], [2013, \"Web Development\"], [2015, \"Web Development\"], [2016, \"Web Development\"], [2011, \"Web Development\"], [2014, \"Web Development\"], [2015, \"Web Development\"], [2015, \"Web Development\"], [2015, \"Web Development\"], [2013, \"Web Development\"], [2015, \"Web Development\"], [2012, \"Web Development\"], [2015, \"Web Development\"]], \"hovertemplate\": \"subject=%{customdata[1]}<br>course_title=%{x}<br>num_subscribers=%{y}<br>year=%{customdata[0]}<extra></extra>\", \"legendgroup\": \"Web Development\", \"marker\": {\"color\": \"#636efa\"}, \"name\": \"Web Development\", \"offsetgroup\": \"Web Development\", \"orientation\": \"v\", \"showlegend\": true, \"textposition\": \"auto\", \"type\": \"bar\", \"x\": [\"The Web Developer Bootcamp\", \"The Complete Web Developer Course 2.0\", \"Learn Javascript & JQuery From Scratch\", \"JavaScript: Understanding the Weird Parts\", \"Angular 4 (formerly Angular 2) - The Complete Guide\", \"Become a Web Developer from Scratch\", \"Learn and Understand AngularJS\", \"Learn and Understand NodeJS\", \"The Complete HTML & CSS Course - From Novice To Professional\", \"Complete PHP Course With Bootstrap3 CMS System & Admin Panel\", \"Build Websites from Scratch with HTML & CSS\", \"Modern React with Redux\", \"Learning Dynamic Website Design - PHP MySQL and JavaScript\", \"Build Responsive Real World Websites with HTML5 and CSS3\"], \"xaxis\": \"x\", \"y\": [121584, 114512, 84897, 79612, 73783, 69186, 59361, 58208, 57422, 55332, 51257, 50815, 47886, 43977], \"yaxis\": \"y\"}, {\"alignmentgroup\": \"True\", \"customdata\": [[2014, \"Musical Instruments\"]], \"hovertemplate\": \"subject=%{customdata[1]}<br>course_title=%{x}<br>num_subscribers=%{y}<br>year=%{customdata[0]}<extra></extra>\", \"legendgroup\": \"Musical Instruments\", \"marker\": {\"color\": \"#EF553B\"}, \"name\": \"Musical Instruments\", \"offsetgroup\": \"Musical Instruments\", \"orientation\": \"v\", \"showlegend\": true, \"textposition\": \"auto\", \"type\": \"bar\", \"x\": [\"Pianoforall - Incredible New Way To Learn Piano & Keyboard\"], \"xaxis\": \"x\", \"y\": [75499], \"yaxis\": \"y\"}],                        {\"barmode\": \"relative\", \"legend\": {\"title\": {\"text\": \"subject\"}, \"tracegroupgap\": 0}, \"margin\": {\"t\": 60}, \"template\": {\"data\": {\"bar\": [{\"error_x\": {\"color\": \"#2a3f5f\"}, \"error_y\": {\"color\": \"#2a3f5f\"}, \"marker\": {\"line\": {\"color\": \"#E5ECF6\", \"width\": 0.5}}, \"type\": \"bar\"}], \"barpolar\": [{\"marker\": {\"line\": {\"color\": \"#E5ECF6\", \"width\": 0.5}}, \"type\": \"barpolar\"}], \"carpet\": [{\"aaxis\": {\"endlinecolor\": \"#2a3f5f\", \"gridcolor\": \"white\", \"linecolor\": \"white\", \"minorgridcolor\": \"white\", \"startlinecolor\": \"#2a3f5f\"}, \"baxis\": {\"endlinecolor\": \"#2a3f5f\", \"gridcolor\": \"white\", \"linecolor\": \"white\", \"minorgridcolor\": \"white\", \"startlinecolor\": \"#2a3f5f\"}, \"type\": \"carpet\"}], \"choropleth\": [{\"colorbar\": {\"outlinewidth\": 0, \"ticks\": \"\"}, \"type\": \"choropleth\"}], \"contour\": [{\"colorbar\": {\"outlinewidth\": 0, \"ticks\": \"\"}, \"colorscale\": [[0.0, \"#0d0887\"], [0.1111111111111111, \"#46039f\"], [0.2222222222222222, \"#7201a8\"], [0.3333333333333333, \"#9c179e\"], [0.4444444444444444, \"#bd3786\"], [0.5555555555555556, \"#d8576b\"], [0.6666666666666666, \"#ed7953\"], [0.7777777777777778, \"#fb9f3a\"], [0.8888888888888888, \"#fdca26\"], [1.0, \"#f0f921\"]], \"type\": \"contour\"}], \"contourcarpet\": [{\"colorbar\": {\"outlinewidth\": 0, \"ticks\": \"\"}, \"type\": \"contourcarpet\"}], \"heatmap\": [{\"colorbar\": {\"outlinewidth\": 0, \"ticks\": \"\"}, \"colorscale\": [[0.0, \"#0d0887\"], [0.1111111111111111, \"#46039f\"], [0.2222222222222222, \"#7201a8\"], [0.3333333333333333, \"#9c179e\"], [0.4444444444444444, \"#bd3786\"], [0.5555555555555556, \"#d8576b\"], [0.6666666666666666, \"#ed7953\"], [0.7777777777777778, \"#fb9f3a\"], [0.8888888888888888, \"#fdca26\"], [1.0, \"#f0f921\"]], \"type\": \"heatmap\"}], \"heatmapgl\": [{\"colorbar\": {\"outlinewidth\": 0, \"ticks\": \"\"}, \"colorscale\": [[0.0, \"#0d0887\"], [0.1111111111111111, \"#46039f\"], [0.2222222222222222, \"#7201a8\"], [0.3333333333333333, \"#9c179e\"], [0.4444444444444444, \"#bd3786\"], [0.5555555555555556, \"#d8576b\"], [0.6666666666666666, \"#ed7953\"], [0.7777777777777778, \"#fb9f3a\"], [0.8888888888888888, \"#fdca26\"], [1.0, \"#f0f921\"]], \"type\": \"heatmapgl\"}], \"histogram\": [{\"marker\": {\"colorbar\": {\"outlinewidth\": 0, \"ticks\": \"\"}}, \"type\": \"histogram\"}], \"histogram2d\": [{\"colorbar\": {\"outlinewidth\": 0, \"ticks\": \"\"}, \"colorscale\": [[0.0, \"#0d0887\"], [0.1111111111111111, \"#46039f\"], [0.2222222222222222, \"#7201a8\"], [0.3333333333333333, \"#9c179e\"], [0.4444444444444444, \"#bd3786\"], [0.5555555555555556, \"#d8576b\"], [0.6666666666666666, \"#ed7953\"], [0.7777777777777778, \"#fb9f3a\"], [0.8888888888888888, \"#fdca26\"], [1.0, \"#f0f921\"]], \"type\": \"histogram2d\"}], \"histogram2dcontour\": [{\"colorbar\": {\"outlinewidth\": 0, \"ticks\": \"\"}, \"colorscale\": [[0.0, \"#0d0887\"], [0.1111111111111111, \"#46039f\"], [0.2222222222222222, \"#7201a8\"], [0.3333333333333333, \"#9c179e\"], [0.4444444444444444, \"#bd3786\"], [0.5555555555555556, \"#d8576b\"], [0.6666666666666666, \"#ed7953\"], [0.7777777777777778, \"#fb9f3a\"], [0.8888888888888888, \"#fdca26\"], [1.0, \"#f0f921\"]], \"type\": \"histogram2dcontour\"}], \"mesh3d\": [{\"colorbar\": {\"outlinewidth\": 0, \"ticks\": \"\"}, \"type\": \"mesh3d\"}], \"parcoords\": [{\"line\": {\"colorbar\": {\"outlinewidth\": 0, \"ticks\": \"\"}}, \"type\": \"parcoords\"}], \"pie\": [{\"automargin\": true, \"type\": \"pie\"}], \"scatter\": [{\"marker\": {\"colorbar\": {\"outlinewidth\": 0, \"ticks\": \"\"}}, \"type\": \"scatter\"}], \"scatter3d\": [{\"line\": {\"colorbar\": {\"outlinewidth\": 0, \"ticks\": \"\"}}, \"marker\": {\"colorbar\": {\"outlinewidth\": 0, \"ticks\": \"\"}}, \"type\": \"scatter3d\"}], \"scattercarpet\": [{\"marker\": {\"colorbar\": {\"outlinewidth\": 0, \"ticks\": \"\"}}, \"type\": \"scattercarpet\"}], \"scattergeo\": [{\"marker\": {\"colorbar\": {\"outlinewidth\": 0, \"ticks\": \"\"}}, \"type\": \"scattergeo\"}], \"scattergl\": [{\"marker\": {\"colorbar\": {\"outlinewidth\": 0, \"ticks\": \"\"}}, \"type\": \"scattergl\"}], \"scattermapbox\": [{\"marker\": {\"colorbar\": {\"outlinewidth\": 0, \"ticks\": \"\"}}, \"type\": \"scattermapbox\"}], \"scatterpolar\": [{\"marker\": {\"colorbar\": {\"outlinewidth\": 0, \"ticks\": \"\"}}, \"type\": \"scatterpolar\"}], \"scatterpolargl\": [{\"marker\": {\"colorbar\": {\"outlinewidth\": 0, \"ticks\": \"\"}}, \"type\": \"scatterpolargl\"}], \"scatterternary\": [{\"marker\": {\"colorbar\": {\"outlinewidth\": 0, \"ticks\": \"\"}}, \"type\": \"scatterternary\"}], \"surface\": [{\"colorbar\": {\"outlinewidth\": 0, \"ticks\": \"\"}, \"colorscale\": [[0.0, \"#0d0887\"], [0.1111111111111111, \"#46039f\"], [0.2222222222222222, \"#7201a8\"], [0.3333333333333333, \"#9c179e\"], [0.4444444444444444, \"#bd3786\"], [0.5555555555555556, \"#d8576b\"], [0.6666666666666666, \"#ed7953\"], [0.7777777777777778, \"#fb9f3a\"], [0.8888888888888888, \"#fdca26\"], [1.0, \"#f0f921\"]], \"type\": \"surface\"}], \"table\": [{\"cells\": {\"fill\": {\"color\": \"#EBF0F8\"}, \"line\": {\"color\": \"white\"}}, \"header\": {\"fill\": {\"color\": \"#C8D4E3\"}, \"line\": {\"color\": \"white\"}}, \"type\": \"table\"}]}, \"layout\": {\"annotationdefaults\": {\"arrowcolor\": \"#2a3f5f\", \"arrowhead\": 0, \"arrowwidth\": 1}, \"autotypenumbers\": \"strict\", \"coloraxis\": {\"colorbar\": {\"outlinewidth\": 0, \"ticks\": \"\"}}, \"colorscale\": {\"diverging\": [[0, \"#8e0152\"], [0.1, \"#c51b7d\"], [0.2, \"#de77ae\"], [0.3, \"#f1b6da\"], [0.4, \"#fde0ef\"], [0.5, \"#f7f7f7\"], [0.6, \"#e6f5d0\"], [0.7, \"#b8e186\"], [0.8, \"#7fbc41\"], [0.9, \"#4d9221\"], [1, \"#276419\"]], \"sequential\": [[0.0, \"#0d0887\"], [0.1111111111111111, \"#46039f\"], [0.2222222222222222, \"#7201a8\"], [0.3333333333333333, \"#9c179e\"], [0.4444444444444444, \"#bd3786\"], [0.5555555555555556, \"#d8576b\"], [0.6666666666666666, \"#ed7953\"], [0.7777777777777778, \"#fb9f3a\"], [0.8888888888888888, \"#fdca26\"], [1.0, \"#f0f921\"]], \"sequentialminus\": [[0.0, \"#0d0887\"], [0.1111111111111111, \"#46039f\"], [0.2222222222222222, \"#7201a8\"], [0.3333333333333333, \"#9c179e\"], [0.4444444444444444, \"#bd3786\"], [0.5555555555555556, \"#d8576b\"], [0.6666666666666666, \"#ed7953\"], [0.7777777777777778, \"#fb9f3a\"], [0.8888888888888888, \"#fdca26\"], [1.0, \"#f0f921\"]]}, \"colorway\": [\"#636efa\", \"#EF553B\", \"#00cc96\", \"#ab63fa\", \"#FFA15A\", \"#19d3f3\", \"#FF6692\", \"#B6E880\", \"#FF97FF\", \"#FECB52\"], \"font\": {\"color\": \"#2a3f5f\"}, \"geo\": {\"bgcolor\": \"white\", \"lakecolor\": \"white\", \"landcolor\": \"#E5ECF6\", \"showlakes\": true, \"showland\": true, \"subunitcolor\": \"white\"}, \"hoverlabel\": {\"align\": \"left\"}, \"hovermode\": \"closest\", \"mapbox\": {\"style\": \"light\"}, \"paper_bgcolor\": \"white\", \"plot_bgcolor\": \"#E5ECF6\", \"polar\": {\"angularaxis\": {\"gridcolor\": \"white\", \"linecolor\": \"white\", \"ticks\": \"\"}, \"bgcolor\": \"#E5ECF6\", \"radialaxis\": {\"gridcolor\": \"white\", \"linecolor\": \"white\", \"ticks\": \"\"}}, \"scene\": {\"xaxis\": {\"backgroundcolor\": \"#E5ECF6\", \"gridcolor\": \"white\", \"gridwidth\": 2, \"linecolor\": \"white\", \"showbackground\": true, \"ticks\": \"\", \"zerolinecolor\": \"white\"}, \"yaxis\": {\"backgroundcolor\": \"#E5ECF6\", \"gridcolor\": \"white\", \"gridwidth\": 2, \"linecolor\": \"white\", \"showbackground\": true, \"ticks\": \"\", \"zerolinecolor\": \"white\"}, \"zaxis\": {\"backgroundcolor\": \"#E5ECF6\", \"gridcolor\": \"white\", \"gridwidth\": 2, \"linecolor\": \"white\", \"showbackground\": true, \"ticks\": \"\", \"zerolinecolor\": \"white\"}}, \"shapedefaults\": {\"line\": {\"color\": \"#2a3f5f\"}}, \"ternary\": {\"aaxis\": {\"gridcolor\": \"white\", \"linecolor\": \"white\", \"ticks\": \"\"}, \"baxis\": {\"gridcolor\": \"white\", \"linecolor\": \"white\", \"ticks\": \"\"}, \"bgcolor\": \"#E5ECF6\", \"caxis\": {\"gridcolor\": \"white\", \"linecolor\": \"white\", \"ticks\": \"\"}}, \"title\": {\"x\": 0.05}, \"xaxis\": {\"automargin\": true, \"gridcolor\": \"white\", \"linecolor\": \"white\", \"ticks\": \"\", \"title\": {\"standoff\": 15}, \"zerolinecolor\": \"white\", \"zerolinewidth\": 2}, \"yaxis\": {\"automargin\": true, \"gridcolor\": \"white\", \"linecolor\": \"white\", \"ticks\": \"\", \"title\": {\"standoff\": 15}, \"zerolinecolor\": \"white\", \"zerolinewidth\": 2}}}, \"xaxis\": {\"anchor\": \"y\", \"categoryorder\": \"total descending\", \"domain\": [0.0, 1.0], \"title\": {\"text\": \"course_title\"}}, \"yaxis\": {\"anchor\": \"x\", \"domain\": [0.0, 1.0], \"title\": {\"text\": \"num_subscribers\"}}},                        {\"responsive\": true}                    ).then(function(){\n",
       "                            \n",
       "var gd = document.getElementById('6dc441da-245f-4721-b425-b78fc7e2be8b');\n",
       "var x = new MutationObserver(function (mutations, observer) {{\n",
       "        var display = window.getComputedStyle(gd).display;\n",
       "        if (!display || display === 'none') {{\n",
       "            console.log([gd, 'removed!']);\n",
       "            Plotly.purge(gd);\n",
       "            observer.disconnect();\n",
       "        }}\n",
       "}});\n",
       "\n",
       "// Listen for the removal of the full notebook cells\n",
       "var notebookContainer = gd.closest('#notebook-container');\n",
       "if (notebookContainer) {{\n",
       "    x.observe(notebookContainer, {childList: true});\n",
       "}}\n",
       "\n",
       "// Listen for the clearing of the current output cell\n",
       "var outputEl = gd.closest('.output');\n",
       "if (outputEl) {{\n",
       "    x.observe(outputEl, {childList: true});\n",
       "}}\n",
       "\n",
       "                        })                };                });            </script>        </div>"
      ]
     },
     "metadata": {},
     "output_type": "display_data"
    }
   ],
   "source": [
    "fig = px.bar(top_15_paid_courses, y= 'num_subscribers', x='course_title', hover_data = top_15_paid_courses[['year','subject']], color='subject')\n",
    "fig.update_layout(xaxis={'categoryorder':'total descending'})\n",
    "fig.show()"
   ]
  },
  {
   "cell_type": "markdown",
   "id": "headed-sailing",
   "metadata": {
    "papermill": {
     "duration": 0.077577,
     "end_time": "2021-07-07T21:05:38.494785",
     "exception": false,
     "start_time": "2021-07-07T21:05:38.417208",
     "status": "completed"
    },
    "tags": []
   },
   "source": [
    "- Almost all of the top 15 paid courses are from Web Development area, except one course in Musical Instruments area."
   ]
  },
  {
   "cell_type": "markdown",
   "id": "sophisticated-original",
   "metadata": {
    "papermill": {
     "duration": 0.105658,
     "end_time": "2021-07-07T21:05:38.678822",
     "exception": false,
     "start_time": "2021-07-07T21:05:38.573164",
     "status": "completed"
    },
    "tags": []
   },
   "source": [
    "### Top Free Courses"
   ]
  },
  {
   "cell_type": "code",
   "execution_count": 32,
   "id": "victorian-target",
   "metadata": {
    "_kg_hide-input": true,
    "execution": {
     "iopub.execute_input": "2021-07-07T21:05:38.850170Z",
     "iopub.status.busy": "2021-07-07T21:05:38.841778Z",
     "iopub.status.idle": "2021-07-07T21:05:38.855448Z",
     "shell.execute_reply": "2021-07-07T21:05:38.854385Z",
     "shell.execute_reply.started": "2021-07-07T20:45:37.737033Z"
    },
    "papermill": {
     "duration": 0.099447,
     "end_time": "2021-07-07T21:05:38.855602",
     "exception": false,
     "start_time": "2021-07-07T21:05:38.756155",
     "status": "completed"
    },
    "tags": []
   },
   "outputs": [
    {
     "data": {
      "text/html": [
       "<div>\n",
       "<style scoped>\n",
       "    .dataframe tbody tr th:only-of-type {\n",
       "        vertical-align: middle;\n",
       "    }\n",
       "\n",
       "    .dataframe tbody tr th {\n",
       "        vertical-align: top;\n",
       "    }\n",
       "\n",
       "    .dataframe thead th {\n",
       "        text-align: right;\n",
       "    }\n",
       "</style>\n",
       "<table border=\"1\" class=\"dataframe\">\n",
       "  <thead>\n",
       "    <tr style=\"text-align: right;\">\n",
       "      <th></th>\n",
       "      <th>course_title</th>\n",
       "      <th>year</th>\n",
       "      <th>subject</th>\n",
       "      <th>num_subscribers</th>\n",
       "    </tr>\n",
       "  </thead>\n",
       "  <tbody>\n",
       "    <tr>\n",
       "      <th>2827</th>\n",
       "      <td>Learn HTML5 Programming From Scratch</td>\n",
       "      <td>2013</td>\n",
       "      <td>Web Development</td>\n",
       "      <td>268923</td>\n",
       "    </tr>\n",
       "    <tr>\n",
       "      <th>3032</th>\n",
       "      <td>Coding for Entrepreneurs Basic</td>\n",
       "      <td>2013</td>\n",
       "      <td>Web Development</td>\n",
       "      <td>161029</td>\n",
       "    </tr>\n",
       "    <tr>\n",
       "      <th>2783</th>\n",
       "      <td>Build Your First Website in 1 Week with HTML5 ...</td>\n",
       "      <td>2014</td>\n",
       "      <td>Web Development</td>\n",
       "      <td>120291</td>\n",
       "    </tr>\n",
       "    <tr>\n",
       "      <th>1896</th>\n",
       "      <td>Free Beginner Electric Guitar Lessons</td>\n",
       "      <td>2012</td>\n",
       "      <td>Musical Instruments</td>\n",
       "      <td>101154</td>\n",
       "    </tr>\n",
       "    <tr>\n",
       "      <th>2589</th>\n",
       "      <td>Web Design for Web Developers: Build Beautiful...</td>\n",
       "      <td>2015</td>\n",
       "      <td>Web Development</td>\n",
       "      <td>98867</td>\n",
       "    </tr>\n",
       "    <tr>\n",
       "      <th>3289</th>\n",
       "      <td>Practical PHP: Master the Basics and Code Dyna...</td>\n",
       "      <td>2014</td>\n",
       "      <td>Web Development</td>\n",
       "      <td>83737</td>\n",
       "    </tr>\n",
       "    <tr>\n",
       "      <th>3665</th>\n",
       "      <td>Beginner Photoshop to HTML5 and CSS3</td>\n",
       "      <td>2012</td>\n",
       "      <td>Web Development</td>\n",
       "      <td>73110</td>\n",
       "    </tr>\n",
       "    <tr>\n",
       "      <th>2782</th>\n",
       "      <td>Web Development By Doing: HTML / CSS From Scratch</td>\n",
       "      <td>2013</td>\n",
       "      <td>Web Development</td>\n",
       "      <td>72932</td>\n",
       "    </tr>\n",
       "    <tr>\n",
       "      <th>3325</th>\n",
       "      <td>HTML and CSS for Beginners - Build a Website &amp;...</td>\n",
       "      <td>2015</td>\n",
       "      <td>Web Development</td>\n",
       "      <td>70773</td>\n",
       "    </tr>\n",
       "    <tr>\n",
       "      <th>492</th>\n",
       "      <td>Bitcoin or How I Learned to Stop Worrying and ...</td>\n",
       "      <td>2013</td>\n",
       "      <td>Business Finance</td>\n",
       "      <td>65576</td>\n",
       "    </tr>\n",
       "    <tr>\n",
       "      <th>2592</th>\n",
       "      <td>Quickstart AngularJS</td>\n",
       "      <td>2014</td>\n",
       "      <td>Web Development</td>\n",
       "      <td>64128</td>\n",
       "    </tr>\n",
       "    <tr>\n",
       "      <th>3219</th>\n",
       "      <td>Learn Responsive Web Development from Scratch</td>\n",
       "      <td>2013</td>\n",
       "      <td>Web Development</td>\n",
       "      <td>59639</td>\n",
       "    </tr>\n",
       "    <tr>\n",
       "      <th>143</th>\n",
       "      <td>Accounting in 60 Minutes - A Brief Introduction</td>\n",
       "      <td>2013</td>\n",
       "      <td>Business Finance</td>\n",
       "      <td>56659</td>\n",
       "    </tr>\n",
       "    <tr>\n",
       "      <th>1461</th>\n",
       "      <td>Photoshop In-Depth: Master all of Photoshop's ...</td>\n",
       "      <td>2014</td>\n",
       "      <td>Graphic Design</td>\n",
       "      <td>53851</td>\n",
       "    </tr>\n",
       "    <tr>\n",
       "      <th>103</th>\n",
       "      <td>Stock Market Investing for Beginners</td>\n",
       "      <td>2013</td>\n",
       "      <td>Business Finance</td>\n",
       "      <td>50855</td>\n",
       "    </tr>\n",
       "  </tbody>\n",
       "</table>\n",
       "</div>"
      ],
      "text/plain": [
       "                                           course_title  year  \\\n",
       "2827               Learn HTML5 Programming From Scratch  2013   \n",
       "3032                     Coding for Entrepreneurs Basic  2013   \n",
       "2783  Build Your First Website in 1 Week with HTML5 ...  2014   \n",
       "1896              Free Beginner Electric Guitar Lessons  2012   \n",
       "2589  Web Design for Web Developers: Build Beautiful...  2015   \n",
       "3289  Practical PHP: Master the Basics and Code Dyna...  2014   \n",
       "3665               Beginner Photoshop to HTML5 and CSS3  2012   \n",
       "2782  Web Development By Doing: HTML / CSS From Scratch  2013   \n",
       "3325  HTML and CSS for Beginners - Build a Website &...  2015   \n",
       "492   Bitcoin or How I Learned to Stop Worrying and ...  2013   \n",
       "2592                               Quickstart AngularJS  2014   \n",
       "3219      Learn Responsive Web Development from Scratch  2013   \n",
       "143     Accounting in 60 Minutes - A Brief Introduction  2013   \n",
       "1461  Photoshop In-Depth: Master all of Photoshop's ...  2014   \n",
       "103                Stock Market Investing for Beginners  2013   \n",
       "\n",
       "                  subject  num_subscribers  \n",
       "2827      Web Development           268923  \n",
       "3032      Web Development           161029  \n",
       "2783      Web Development           120291  \n",
       "1896  Musical Instruments           101154  \n",
       "2589      Web Development            98867  \n",
       "3289      Web Development            83737  \n",
       "3665      Web Development            73110  \n",
       "2782      Web Development            72932  \n",
       "3325      Web Development            70773  \n",
       "492      Business Finance            65576  \n",
       "2592      Web Development            64128  \n",
       "3219      Web Development            59639  \n",
       "143      Business Finance            56659  \n",
       "1461       Graphic Design            53851  \n",
       "103      Business Finance            50855  "
      ]
     },
     "execution_count": 32,
     "metadata": {},
     "output_type": "execute_result"
    }
   ],
   "source": [
    "top_15_free_courses = df[df['price']==0][['course_title','year','subject','num_subscribers']].sort_values(by= 'num_subscribers',ascending=False).head(15)\n",
    "top_15_free_courses"
   ]
  },
  {
   "cell_type": "code",
   "execution_count": 33,
   "id": "japanese-domestic",
   "metadata": {
    "_kg_hide-input": true,
    "execution": {
     "iopub.execute_input": "2021-07-07T21:05:39.057299Z",
     "iopub.status.busy": "2021-07-07T21:05:39.052095Z",
     "iopub.status.idle": "2021-07-07T21:05:39.102237Z",
     "shell.execute_reply": "2021-07-07T21:05:39.101684Z",
     "shell.execute_reply.started": "2021-07-07T20:45:37.755643Z"
    },
    "papermill": {
     "duration": 0.168778,
     "end_time": "2021-07-07T21:05:39.102396",
     "exception": false,
     "start_time": "2021-07-07T21:05:38.933618",
     "status": "completed"
    },
    "tags": []
   },
   "outputs": [
    {
     "data": {
      "text/html": [
       "<div>                            <div id=\"0127af07-8eee-4015-a1ed-75490e499d9b\" class=\"plotly-graph-div\" style=\"height:525px; width:100%;\"></div>            <script type=\"text/javascript\">                require([\"plotly\"], function(Plotly) {                    window.PLOTLYENV=window.PLOTLYENV || {};                                    if (document.getElementById(\"0127af07-8eee-4015-a1ed-75490e499d9b\")) {                    Plotly.newPlot(                        \"0127af07-8eee-4015-a1ed-75490e499d9b\",                        [{\"alignmentgroup\": \"True\", \"customdata\": [[2013, \"Web Development\"], [2013, \"Web Development\"], [2014, \"Web Development\"], [2015, \"Web Development\"], [2014, \"Web Development\"], [2012, \"Web Development\"], [2013, \"Web Development\"], [2015, \"Web Development\"], [2014, \"Web Development\"], [2013, \"Web Development\"]], \"hovertemplate\": \"subject=%{customdata[1]}<br>course_title=%{x}<br>num_subscribers=%{y}<br>year=%{customdata[0]}<extra></extra>\", \"legendgroup\": \"Web Development\", \"marker\": {\"color\": \"#636efa\"}, \"name\": \"Web Development\", \"offsetgroup\": \"Web Development\", \"orientation\": \"v\", \"showlegend\": true, \"textposition\": \"auto\", \"type\": \"bar\", \"x\": [\"Learn HTML5 Programming From Scratch\", \"Coding for Entrepreneurs Basic\", \"Build Your First Website in 1 Week with HTML5 and CSS3\", \"Web Design for Web Developers: Build Beautiful Websites!\", \"Practical PHP: Master the Basics and Code Dynamic Websites\", \"Beginner Photoshop to HTML5 and CSS3\", \"Web Development By Doing: HTML / CSS From Scratch\", \"HTML and CSS for Beginners - Build a Website & Launch ONLINE\", \"Quickstart AngularJS\", \"Learn Responsive Web Development from Scratch\"], \"xaxis\": \"x\", \"y\": [268923, 161029, 120291, 98867, 83737, 73110, 72932, 70773, 64128, 59639], \"yaxis\": \"y\"}, {\"alignmentgroup\": \"True\", \"customdata\": [[2012, \"Musical Instruments\"]], \"hovertemplate\": \"subject=%{customdata[1]}<br>course_title=%{x}<br>num_subscribers=%{y}<br>year=%{customdata[0]}<extra></extra>\", \"legendgroup\": \"Musical Instruments\", \"marker\": {\"color\": \"#EF553B\"}, \"name\": \"Musical Instruments\", \"offsetgroup\": \"Musical Instruments\", \"orientation\": \"v\", \"showlegend\": true, \"textposition\": \"auto\", \"type\": \"bar\", \"x\": [\"Free Beginner Electric Guitar Lessons\"], \"xaxis\": \"x\", \"y\": [101154], \"yaxis\": \"y\"}, {\"alignmentgroup\": \"True\", \"customdata\": [[2013, \"Business Finance\"], [2013, \"Business Finance\"], [2013, \"Business Finance\"]], \"hovertemplate\": \"subject=%{customdata[1]}<br>course_title=%{x}<br>num_subscribers=%{y}<br>year=%{customdata[0]}<extra></extra>\", \"legendgroup\": \"Business Finance\", \"marker\": {\"color\": \"#00cc96\"}, \"name\": \"Business Finance\", \"offsetgroup\": \"Business Finance\", \"orientation\": \"v\", \"showlegend\": true, \"textposition\": \"auto\", \"type\": \"bar\", \"x\": [\"Bitcoin or How I Learned to Stop Worrying and Love Crypto\", \"Accounting in 60 Minutes - A Brief Introduction\", \"Stock Market Investing for Beginners\"], \"xaxis\": \"x\", \"y\": [65576, 56659, 50855], \"yaxis\": \"y\"}, {\"alignmentgroup\": \"True\", \"customdata\": [[2014, \"Graphic Design\"]], \"hovertemplate\": \"subject=%{customdata[1]}<br>course_title=%{x}<br>num_subscribers=%{y}<br>year=%{customdata[0]}<extra></extra>\", \"legendgroup\": \"Graphic Design\", \"marker\": {\"color\": \"#ab63fa\"}, \"name\": \"Graphic Design\", \"offsetgroup\": \"Graphic Design\", \"orientation\": \"v\", \"showlegend\": true, \"textposition\": \"auto\", \"type\": \"bar\", \"x\": [\"Photoshop In-Depth: Master all of Photoshop's Tools Easily\"], \"xaxis\": \"x\", \"y\": [53851], \"yaxis\": \"y\"}],                        {\"barmode\": \"relative\", \"legend\": {\"title\": {\"text\": \"subject\"}, \"tracegroupgap\": 0}, \"margin\": {\"t\": 60}, \"template\": {\"data\": {\"bar\": [{\"error_x\": {\"color\": \"#2a3f5f\"}, \"error_y\": {\"color\": \"#2a3f5f\"}, \"marker\": {\"line\": {\"color\": \"#E5ECF6\", \"width\": 0.5}}, \"type\": \"bar\"}], \"barpolar\": [{\"marker\": {\"line\": {\"color\": \"#E5ECF6\", \"width\": 0.5}}, \"type\": \"barpolar\"}], \"carpet\": [{\"aaxis\": {\"endlinecolor\": \"#2a3f5f\", \"gridcolor\": \"white\", \"linecolor\": \"white\", \"minorgridcolor\": \"white\", \"startlinecolor\": \"#2a3f5f\"}, \"baxis\": {\"endlinecolor\": \"#2a3f5f\", \"gridcolor\": \"white\", \"linecolor\": \"white\", \"minorgridcolor\": \"white\", \"startlinecolor\": \"#2a3f5f\"}, \"type\": \"carpet\"}], \"choropleth\": [{\"colorbar\": {\"outlinewidth\": 0, \"ticks\": \"\"}, \"type\": \"choropleth\"}], \"contour\": [{\"colorbar\": {\"outlinewidth\": 0, \"ticks\": \"\"}, \"colorscale\": [[0.0, \"#0d0887\"], [0.1111111111111111, \"#46039f\"], [0.2222222222222222, \"#7201a8\"], [0.3333333333333333, \"#9c179e\"], [0.4444444444444444, \"#bd3786\"], [0.5555555555555556, \"#d8576b\"], [0.6666666666666666, \"#ed7953\"], [0.7777777777777778, \"#fb9f3a\"], [0.8888888888888888, \"#fdca26\"], [1.0, \"#f0f921\"]], \"type\": \"contour\"}], \"contourcarpet\": [{\"colorbar\": {\"outlinewidth\": 0, \"ticks\": \"\"}, \"type\": \"contourcarpet\"}], \"heatmap\": [{\"colorbar\": {\"outlinewidth\": 0, \"ticks\": \"\"}, \"colorscale\": [[0.0, \"#0d0887\"], [0.1111111111111111, \"#46039f\"], [0.2222222222222222, \"#7201a8\"], [0.3333333333333333, \"#9c179e\"], [0.4444444444444444, \"#bd3786\"], [0.5555555555555556, \"#d8576b\"], [0.6666666666666666, \"#ed7953\"], [0.7777777777777778, \"#fb9f3a\"], [0.8888888888888888, \"#fdca26\"], [1.0, \"#f0f921\"]], \"type\": \"heatmap\"}], \"heatmapgl\": [{\"colorbar\": {\"outlinewidth\": 0, \"ticks\": \"\"}, \"colorscale\": [[0.0, \"#0d0887\"], [0.1111111111111111, \"#46039f\"], [0.2222222222222222, \"#7201a8\"], [0.3333333333333333, \"#9c179e\"], [0.4444444444444444, \"#bd3786\"], [0.5555555555555556, \"#d8576b\"], [0.6666666666666666, \"#ed7953\"], [0.7777777777777778, \"#fb9f3a\"], [0.8888888888888888, \"#fdca26\"], [1.0, \"#f0f921\"]], \"type\": \"heatmapgl\"}], \"histogram\": [{\"marker\": {\"colorbar\": {\"outlinewidth\": 0, \"ticks\": \"\"}}, \"type\": \"histogram\"}], \"histogram2d\": [{\"colorbar\": {\"outlinewidth\": 0, \"ticks\": \"\"}, \"colorscale\": [[0.0, \"#0d0887\"], [0.1111111111111111, \"#46039f\"], [0.2222222222222222, \"#7201a8\"], [0.3333333333333333, \"#9c179e\"], [0.4444444444444444, \"#bd3786\"], [0.5555555555555556, \"#d8576b\"], [0.6666666666666666, \"#ed7953\"], [0.7777777777777778, \"#fb9f3a\"], [0.8888888888888888, \"#fdca26\"], [1.0, \"#f0f921\"]], \"type\": \"histogram2d\"}], \"histogram2dcontour\": [{\"colorbar\": {\"outlinewidth\": 0, \"ticks\": \"\"}, \"colorscale\": [[0.0, \"#0d0887\"], [0.1111111111111111, \"#46039f\"], [0.2222222222222222, \"#7201a8\"], [0.3333333333333333, \"#9c179e\"], [0.4444444444444444, \"#bd3786\"], [0.5555555555555556, \"#d8576b\"], [0.6666666666666666, \"#ed7953\"], [0.7777777777777778, \"#fb9f3a\"], [0.8888888888888888, \"#fdca26\"], [1.0, \"#f0f921\"]], \"type\": \"histogram2dcontour\"}], \"mesh3d\": [{\"colorbar\": {\"outlinewidth\": 0, \"ticks\": \"\"}, \"type\": \"mesh3d\"}], \"parcoords\": [{\"line\": {\"colorbar\": {\"outlinewidth\": 0, \"ticks\": \"\"}}, \"type\": \"parcoords\"}], \"pie\": [{\"automargin\": true, \"type\": \"pie\"}], \"scatter\": [{\"marker\": {\"colorbar\": {\"outlinewidth\": 0, \"ticks\": \"\"}}, \"type\": \"scatter\"}], \"scatter3d\": [{\"line\": {\"colorbar\": {\"outlinewidth\": 0, \"ticks\": \"\"}}, \"marker\": {\"colorbar\": {\"outlinewidth\": 0, \"ticks\": \"\"}}, \"type\": \"scatter3d\"}], \"scattercarpet\": [{\"marker\": {\"colorbar\": {\"outlinewidth\": 0, \"ticks\": \"\"}}, \"type\": \"scattercarpet\"}], \"scattergeo\": [{\"marker\": {\"colorbar\": {\"outlinewidth\": 0, \"ticks\": \"\"}}, \"type\": \"scattergeo\"}], \"scattergl\": [{\"marker\": {\"colorbar\": {\"outlinewidth\": 0, \"ticks\": \"\"}}, \"type\": \"scattergl\"}], \"scattermapbox\": [{\"marker\": {\"colorbar\": {\"outlinewidth\": 0, \"ticks\": \"\"}}, \"type\": \"scattermapbox\"}], \"scatterpolar\": [{\"marker\": {\"colorbar\": {\"outlinewidth\": 0, \"ticks\": \"\"}}, \"type\": \"scatterpolar\"}], \"scatterpolargl\": [{\"marker\": {\"colorbar\": {\"outlinewidth\": 0, \"ticks\": \"\"}}, \"type\": \"scatterpolargl\"}], \"scatterternary\": [{\"marker\": {\"colorbar\": {\"outlinewidth\": 0, \"ticks\": \"\"}}, \"type\": \"scatterternary\"}], \"surface\": [{\"colorbar\": {\"outlinewidth\": 0, \"ticks\": \"\"}, \"colorscale\": [[0.0, \"#0d0887\"], [0.1111111111111111, \"#46039f\"], [0.2222222222222222, \"#7201a8\"], [0.3333333333333333, \"#9c179e\"], [0.4444444444444444, \"#bd3786\"], [0.5555555555555556, \"#d8576b\"], [0.6666666666666666, \"#ed7953\"], [0.7777777777777778, \"#fb9f3a\"], [0.8888888888888888, \"#fdca26\"], [1.0, \"#f0f921\"]], \"type\": \"surface\"}], \"table\": [{\"cells\": {\"fill\": {\"color\": \"#EBF0F8\"}, \"line\": {\"color\": \"white\"}}, \"header\": {\"fill\": {\"color\": \"#C8D4E3\"}, \"line\": {\"color\": \"white\"}}, \"type\": \"table\"}]}, \"layout\": {\"annotationdefaults\": {\"arrowcolor\": \"#2a3f5f\", \"arrowhead\": 0, \"arrowwidth\": 1}, \"autotypenumbers\": \"strict\", \"coloraxis\": {\"colorbar\": {\"outlinewidth\": 0, \"ticks\": \"\"}}, \"colorscale\": {\"diverging\": [[0, \"#8e0152\"], [0.1, \"#c51b7d\"], [0.2, \"#de77ae\"], [0.3, \"#f1b6da\"], [0.4, \"#fde0ef\"], [0.5, \"#f7f7f7\"], [0.6, \"#e6f5d0\"], [0.7, \"#b8e186\"], [0.8, \"#7fbc41\"], [0.9, \"#4d9221\"], [1, \"#276419\"]], \"sequential\": [[0.0, \"#0d0887\"], [0.1111111111111111, \"#46039f\"], [0.2222222222222222, \"#7201a8\"], [0.3333333333333333, \"#9c179e\"], [0.4444444444444444, \"#bd3786\"], [0.5555555555555556, \"#d8576b\"], [0.6666666666666666, \"#ed7953\"], [0.7777777777777778, \"#fb9f3a\"], [0.8888888888888888, \"#fdca26\"], [1.0, \"#f0f921\"]], \"sequentialminus\": [[0.0, \"#0d0887\"], [0.1111111111111111, \"#46039f\"], [0.2222222222222222, \"#7201a8\"], [0.3333333333333333, \"#9c179e\"], [0.4444444444444444, \"#bd3786\"], [0.5555555555555556, \"#d8576b\"], [0.6666666666666666, \"#ed7953\"], [0.7777777777777778, \"#fb9f3a\"], [0.8888888888888888, \"#fdca26\"], [1.0, \"#f0f921\"]]}, \"colorway\": [\"#636efa\", \"#EF553B\", \"#00cc96\", \"#ab63fa\", \"#FFA15A\", \"#19d3f3\", \"#FF6692\", \"#B6E880\", \"#FF97FF\", \"#FECB52\"], \"font\": {\"color\": \"#2a3f5f\"}, \"geo\": {\"bgcolor\": \"white\", \"lakecolor\": \"white\", \"landcolor\": \"#E5ECF6\", \"showlakes\": true, \"showland\": true, \"subunitcolor\": \"white\"}, \"hoverlabel\": {\"align\": \"left\"}, \"hovermode\": \"closest\", \"mapbox\": {\"style\": \"light\"}, \"paper_bgcolor\": \"white\", \"plot_bgcolor\": \"#E5ECF6\", \"polar\": {\"angularaxis\": {\"gridcolor\": \"white\", \"linecolor\": \"white\", \"ticks\": \"\"}, \"bgcolor\": \"#E5ECF6\", \"radialaxis\": {\"gridcolor\": \"white\", \"linecolor\": \"white\", \"ticks\": \"\"}}, \"scene\": {\"xaxis\": {\"backgroundcolor\": \"#E5ECF6\", \"gridcolor\": \"white\", \"gridwidth\": 2, \"linecolor\": \"white\", \"showbackground\": true, \"ticks\": \"\", \"zerolinecolor\": \"white\"}, \"yaxis\": {\"backgroundcolor\": \"#E5ECF6\", \"gridcolor\": \"white\", \"gridwidth\": 2, \"linecolor\": \"white\", \"showbackground\": true, \"ticks\": \"\", \"zerolinecolor\": \"white\"}, \"zaxis\": {\"backgroundcolor\": \"#E5ECF6\", \"gridcolor\": \"white\", \"gridwidth\": 2, \"linecolor\": \"white\", \"showbackground\": true, \"ticks\": \"\", \"zerolinecolor\": \"white\"}}, \"shapedefaults\": {\"line\": {\"color\": \"#2a3f5f\"}}, \"ternary\": {\"aaxis\": {\"gridcolor\": \"white\", \"linecolor\": \"white\", \"ticks\": \"\"}, \"baxis\": {\"gridcolor\": \"white\", \"linecolor\": \"white\", \"ticks\": \"\"}, \"bgcolor\": \"#E5ECF6\", \"caxis\": {\"gridcolor\": \"white\", \"linecolor\": \"white\", \"ticks\": \"\"}}, \"title\": {\"x\": 0.05}, \"xaxis\": {\"automargin\": true, \"gridcolor\": \"white\", \"linecolor\": \"white\", \"ticks\": \"\", \"title\": {\"standoff\": 15}, \"zerolinecolor\": \"white\", \"zerolinewidth\": 2}, \"yaxis\": {\"automargin\": true, \"gridcolor\": \"white\", \"linecolor\": \"white\", \"ticks\": \"\", \"title\": {\"standoff\": 15}, \"zerolinecolor\": \"white\", \"zerolinewidth\": 2}}}, \"xaxis\": {\"anchor\": \"y\", \"categoryorder\": \"total descending\", \"domain\": [0.0, 1.0], \"title\": {\"text\": \"course_title\"}}, \"yaxis\": {\"anchor\": \"x\", \"domain\": [0.0, 1.0], \"title\": {\"text\": \"num_subscribers\"}}},                        {\"responsive\": true}                    ).then(function(){\n",
       "                            \n",
       "var gd = document.getElementById('0127af07-8eee-4015-a1ed-75490e499d9b');\n",
       "var x = new MutationObserver(function (mutations, observer) {{\n",
       "        var display = window.getComputedStyle(gd).display;\n",
       "        if (!display || display === 'none') {{\n",
       "            console.log([gd, 'removed!']);\n",
       "            Plotly.purge(gd);\n",
       "            observer.disconnect();\n",
       "        }}\n",
       "}});\n",
       "\n",
       "// Listen for the removal of the full notebook cells\n",
       "var notebookContainer = gd.closest('#notebook-container');\n",
       "if (notebookContainer) {{\n",
       "    x.observe(notebookContainer, {childList: true});\n",
       "}}\n",
       "\n",
       "// Listen for the clearing of the current output cell\n",
       "var outputEl = gd.closest('.output');\n",
       "if (outputEl) {{\n",
       "    x.observe(outputEl, {childList: true});\n",
       "}}\n",
       "\n",
       "                        })                };                });            </script>        </div>"
      ]
     },
     "metadata": {},
     "output_type": "display_data"
    }
   ],
   "source": [
    "fig = px.bar(top_15_free_courses, y= 'num_subscribers', x='course_title', hover_data = top_15_free_courses[['year','subject']], color='subject')\n",
    "fig.update_layout(xaxis={'categoryorder':'total descending'})\n",
    "fig.show()"
   ]
  },
  {
   "cell_type": "markdown",
   "id": "auburn-bargain",
   "metadata": {
    "papermill": {
     "duration": 0.079109,
     "end_time": "2021-07-07T21:05:39.261258",
     "exception": false,
     "start_time": "2021-07-07T21:05:39.182149",
     "status": "completed"
    },
    "tags": []
   },
   "source": [
    "- Top 15 free courses are mostly from Web Development area, but also include other subjects areas."
   ]
  },
  {
   "cell_type": "markdown",
   "id": "italian-greene",
   "metadata": {
    "papermill": {
     "duration": 0.078085,
     "end_time": "2021-07-07T21:05:39.418210",
     "exception": false,
     "start_time": "2021-07-07T21:05:39.340125",
     "status": "completed"
    },
    "tags": []
   },
   "source": [
    "### Top 15  Reviewed Courses"
   ]
  },
  {
   "cell_type": "code",
   "execution_count": 34,
   "id": "revised-essay",
   "metadata": {
    "_kg_hide-input": true,
    "execution": {
     "iopub.execute_input": "2021-07-07T21:05:39.583170Z",
     "iopub.status.busy": "2021-07-07T21:05:39.582447Z",
     "iopub.status.idle": "2021-07-07T21:05:39.596249Z",
     "shell.execute_reply": "2021-07-07T21:05:39.595696Z",
     "shell.execute_reply.started": "2021-07-07T20:45:37.860047Z"
    },
    "papermill": {
     "duration": 0.098815,
     "end_time": "2021-07-07T21:05:39.596399",
     "exception": false,
     "start_time": "2021-07-07T21:05:39.497584",
     "status": "completed"
    },
    "tags": []
   },
   "outputs": [
    {
     "data": {
      "text/html": [
       "<div>\n",
       "<style scoped>\n",
       "    .dataframe tbody tr th:only-of-type {\n",
       "        vertical-align: middle;\n",
       "    }\n",
       "\n",
       "    .dataframe tbody tr th {\n",
       "        vertical-align: top;\n",
       "    }\n",
       "\n",
       "    .dataframe thead th {\n",
       "        text-align: right;\n",
       "    }\n",
       "</style>\n",
       "<table border=\"1\" class=\"dataframe\">\n",
       "  <thead>\n",
       "    <tr style=\"text-align: right;\">\n",
       "      <th></th>\n",
       "      <th>course_title</th>\n",
       "      <th>year</th>\n",
       "      <th>subject</th>\n",
       "      <th>is_paid</th>\n",
       "      <th>num_reviews</th>\n",
       "    </tr>\n",
       "  </thead>\n",
       "  <tbody>\n",
       "    <tr>\n",
       "      <th>3230</th>\n",
       "      <td>The Web Developer Bootcamp</td>\n",
       "      <td>2015</td>\n",
       "      <td>Web Development</td>\n",
       "      <td>True</td>\n",
       "      <td>27445</td>\n",
       "    </tr>\n",
       "    <tr>\n",
       "      <th>3232</th>\n",
       "      <td>The Complete Web Developer Course 2.0</td>\n",
       "      <td>2016</td>\n",
       "      <td>Web Development</td>\n",
       "      <td>True</td>\n",
       "      <td>22412</td>\n",
       "    </tr>\n",
       "    <tr>\n",
       "      <th>3204</th>\n",
       "      <td>Angular 4 (formerly Angular 2) - The Complete ...</td>\n",
       "      <td>2016</td>\n",
       "      <td>Web Development</td>\n",
       "      <td>True</td>\n",
       "      <td>19649</td>\n",
       "    </tr>\n",
       "    <tr>\n",
       "      <th>3247</th>\n",
       "      <td>JavaScript: Understanding the Weird Parts</td>\n",
       "      <td>2015</td>\n",
       "      <td>Web Development</td>\n",
       "      <td>True</td>\n",
       "      <td>16976</td>\n",
       "    </tr>\n",
       "    <tr>\n",
       "      <th>3254</th>\n",
       "      <td>Modern React with Redux</td>\n",
       "      <td>2015</td>\n",
       "      <td>Web Development</td>\n",
       "      <td>True</td>\n",
       "      <td>15117</td>\n",
       "    </tr>\n",
       "    <tr>\n",
       "      <th>3246</th>\n",
       "      <td>Learn and Understand AngularJS</td>\n",
       "      <td>2014</td>\n",
       "      <td>Web Development</td>\n",
       "      <td>True</td>\n",
       "      <td>11580</td>\n",
       "    </tr>\n",
       "    <tr>\n",
       "      <th>3251</th>\n",
       "      <td>Learn and Understand NodeJS</td>\n",
       "      <td>2015</td>\n",
       "      <td>Web Development</td>\n",
       "      <td>True</td>\n",
       "      <td>11123</td>\n",
       "    </tr>\n",
       "    <tr>\n",
       "      <th>2827</th>\n",
       "      <td>Learn HTML5 Programming From Scratch</td>\n",
       "      <td>2013</td>\n",
       "      <td>Web Development</td>\n",
       "      <td>False</td>\n",
       "      <td>8629</td>\n",
       "    </tr>\n",
       "    <tr>\n",
       "      <th>3228</th>\n",
       "      <td>Angular 2 with TypeScript for Beginners: The P...</td>\n",
       "      <td>2016</td>\n",
       "      <td>Web Development</td>\n",
       "      <td>True</td>\n",
       "      <td>8341</td>\n",
       "    </tr>\n",
       "    <tr>\n",
       "      <th>1979</th>\n",
       "      <td>Pianoforall - Incredible New Way To Learn Pian...</td>\n",
       "      <td>2014</td>\n",
       "      <td>Musical Instruments</td>\n",
       "      <td>True</td>\n",
       "      <td>7676</td>\n",
       "    </tr>\n",
       "    <tr>\n",
       "      <th>3249</th>\n",
       "      <td>Build Responsive Real World Websites with HTML...</td>\n",
       "      <td>2015</td>\n",
       "      <td>Web Development</td>\n",
       "      <td>True</td>\n",
       "      <td>7106</td>\n",
       "    </tr>\n",
       "    <tr>\n",
       "      <th>2589</th>\n",
       "      <td>Web Design for Web Developers: Build Beautiful...</td>\n",
       "      <td>2015</td>\n",
       "      <td>Web Development</td>\n",
       "      <td>False</td>\n",
       "      <td>6512</td>\n",
       "    </tr>\n",
       "    <tr>\n",
       "      <th>3256</th>\n",
       "      <td>The Complete ASP.NET MVC 5 Course</td>\n",
       "      <td>2016</td>\n",
       "      <td>Web Development</td>\n",
       "      <td>True</td>\n",
       "      <td>6357</td>\n",
       "    </tr>\n",
       "    <tr>\n",
       "      <th>2783</th>\n",
       "      <td>Build Your First Website in 1 Week with HTML5 ...</td>\n",
       "      <td>2014</td>\n",
       "      <td>Web Development</td>\n",
       "      <td>False</td>\n",
       "      <td>5924</td>\n",
       "    </tr>\n",
       "    <tr>\n",
       "      <th>3325</th>\n",
       "      <td>HTML and CSS for Beginners - Build a Website &amp;...</td>\n",
       "      <td>2015</td>\n",
       "      <td>Web Development</td>\n",
       "      <td>False</td>\n",
       "      <td>5660</td>\n",
       "    </tr>\n",
       "  </tbody>\n",
       "</table>\n",
       "</div>"
      ],
      "text/plain": [
       "                                           course_title  year  \\\n",
       "3230                         The Web Developer Bootcamp  2015   \n",
       "3232              The Complete Web Developer Course 2.0  2016   \n",
       "3204  Angular 4 (formerly Angular 2) - The Complete ...  2016   \n",
       "3247          JavaScript: Understanding the Weird Parts  2015   \n",
       "3254                            Modern React with Redux  2015   \n",
       "3246                     Learn and Understand AngularJS  2014   \n",
       "3251                        Learn and Understand NodeJS  2015   \n",
       "2827               Learn HTML5 Programming From Scratch  2013   \n",
       "3228  Angular 2 with TypeScript for Beginners: The P...  2016   \n",
       "1979  Pianoforall - Incredible New Way To Learn Pian...  2014   \n",
       "3249  Build Responsive Real World Websites with HTML...  2015   \n",
       "2589  Web Design for Web Developers: Build Beautiful...  2015   \n",
       "3256                  The Complete ASP.NET MVC 5 Course  2016   \n",
       "2783  Build Your First Website in 1 Week with HTML5 ...  2014   \n",
       "3325  HTML and CSS for Beginners - Build a Website &...  2015   \n",
       "\n",
       "                  subject  is_paid  num_reviews  \n",
       "3230      Web Development     True        27445  \n",
       "3232      Web Development     True        22412  \n",
       "3204      Web Development     True        19649  \n",
       "3247      Web Development     True        16976  \n",
       "3254      Web Development     True        15117  \n",
       "3246      Web Development     True        11580  \n",
       "3251      Web Development     True        11123  \n",
       "2827      Web Development    False         8629  \n",
       "3228      Web Development     True         8341  \n",
       "1979  Musical Instruments     True         7676  \n",
       "3249      Web Development     True         7106  \n",
       "2589      Web Development    False         6512  \n",
       "3256      Web Development     True         6357  \n",
       "2783      Web Development    False         5924  \n",
       "3325      Web Development    False         5660  "
      ]
     },
     "execution_count": 34,
     "metadata": {},
     "output_type": "execute_result"
    }
   ],
   "source": [
    "top_15_reviewed = df[['course_title','year','subject','is_paid','num_reviews']].sort_values(by='num_reviews', ascending=False).head(15)\n",
    "\n",
    "top_15_reviewed"
   ]
  },
  {
   "cell_type": "code",
   "execution_count": 35,
   "id": "encouraging-gazette",
   "metadata": {
    "_kg_hide-input": true,
    "execution": {
     "iopub.execute_input": "2021-07-07T21:05:39.789605Z",
     "iopub.status.busy": "2021-07-07T21:05:39.773445Z",
     "iopub.status.idle": "2021-07-07T21:05:39.835675Z",
     "shell.execute_reply": "2021-07-07T21:05:39.835124Z",
     "shell.execute_reply.started": "2021-07-07T20:45:37.880346Z"
    },
    "papermill": {
     "duration": 0.159529,
     "end_time": "2021-07-07T21:05:39.835835",
     "exception": false,
     "start_time": "2021-07-07T21:05:39.676306",
     "status": "completed"
    },
    "tags": []
   },
   "outputs": [
    {
     "data": {
      "text/html": [
       "<div>                            <div id=\"4ff2735a-f9ed-453c-aefc-8a79b2aa5473\" class=\"plotly-graph-div\" style=\"height:525px; width:100%;\"></div>            <script type=\"text/javascript\">                require([\"plotly\"], function(Plotly) {                    window.PLOTLYENV=window.PLOTLYENV || {};                                    if (document.getElementById(\"4ff2735a-f9ed-453c-aefc-8a79b2aa5473\")) {                    Plotly.newPlot(                        \"4ff2735a-f9ed-453c-aefc-8a79b2aa5473\",                        [{\"alignmentgroup\": \"True\", \"customdata\": [[2015, \"Web Development\", true], [2016, \"Web Development\", true], [2016, \"Web Development\", true], [2015, \"Web Development\", true], [2015, \"Web Development\", true], [2014, \"Web Development\", true], [2015, \"Web Development\", true], [2013, \"Web Development\", false], [2016, \"Web Development\", true], [2015, \"Web Development\", true], [2015, \"Web Development\", false], [2016, \"Web Development\", true], [2014, \"Web Development\", false], [2015, \"Web Development\", false]], \"hovertemplate\": \"subject=%{customdata[1]}<br>course_title=%{x}<br>num_reviews=%{y}<br>year=%{customdata[0]}<br>is_paid=%{customdata[2]}<extra></extra>\", \"legendgroup\": \"Web Development\", \"marker\": {\"color\": \"#636efa\"}, \"name\": \"Web Development\", \"offsetgroup\": \"Web Development\", \"orientation\": \"v\", \"showlegend\": true, \"textposition\": \"auto\", \"type\": \"bar\", \"x\": [\"The Web Developer Bootcamp\", \"The Complete Web Developer Course 2.0\", \"Angular 4 (formerly Angular 2) - The Complete Guide\", \"JavaScript: Understanding the Weird Parts\", \"Modern React with Redux\", \"Learn and Understand AngularJS\", \"Learn and Understand NodeJS\", \"Learn HTML5 Programming From Scratch\", \"Angular 2 with TypeScript for Beginners: The Pragmatic Guide\", \"Build Responsive Real World Websites with HTML5 and CSS3\", \"Web Design for Web Developers: Build Beautiful Websites!\", \"The Complete ASP.NET MVC 5 Course\", \"Build Your First Website in 1 Week with HTML5 and CSS3\", \"HTML and CSS for Beginners - Build a Website & Launch ONLINE\"], \"xaxis\": \"x\", \"y\": [27445, 22412, 19649, 16976, 15117, 11580, 11123, 8629, 8341, 7106, 6512, 6357, 5924, 5660], \"yaxis\": \"y\"}, {\"alignmentgroup\": \"True\", \"customdata\": [[2014, \"Musical Instruments\", true]], \"hovertemplate\": \"subject=%{customdata[1]}<br>course_title=%{x}<br>num_reviews=%{y}<br>year=%{customdata[0]}<br>is_paid=%{customdata[2]}<extra></extra>\", \"legendgroup\": \"Musical Instruments\", \"marker\": {\"color\": \"#EF553B\"}, \"name\": \"Musical Instruments\", \"offsetgroup\": \"Musical Instruments\", \"orientation\": \"v\", \"showlegend\": true, \"textposition\": \"auto\", \"type\": \"bar\", \"x\": [\"Pianoforall - Incredible New Way To Learn Piano & Keyboard\"], \"xaxis\": \"x\", \"y\": [7676], \"yaxis\": \"y\"}],                        {\"barmode\": \"relative\", \"legend\": {\"title\": {\"text\": \"subject\"}, \"tracegroupgap\": 0}, \"margin\": {\"t\": 60}, \"template\": {\"data\": {\"bar\": [{\"error_x\": {\"color\": \"#2a3f5f\"}, \"error_y\": {\"color\": \"#2a3f5f\"}, \"marker\": {\"line\": {\"color\": \"#E5ECF6\", \"width\": 0.5}}, \"type\": \"bar\"}], \"barpolar\": [{\"marker\": {\"line\": {\"color\": \"#E5ECF6\", \"width\": 0.5}}, \"type\": \"barpolar\"}], \"carpet\": [{\"aaxis\": {\"endlinecolor\": \"#2a3f5f\", \"gridcolor\": \"white\", \"linecolor\": \"white\", \"minorgridcolor\": \"white\", \"startlinecolor\": \"#2a3f5f\"}, \"baxis\": {\"endlinecolor\": \"#2a3f5f\", \"gridcolor\": \"white\", \"linecolor\": \"white\", \"minorgridcolor\": \"white\", \"startlinecolor\": \"#2a3f5f\"}, \"type\": \"carpet\"}], \"choropleth\": [{\"colorbar\": {\"outlinewidth\": 0, \"ticks\": \"\"}, \"type\": \"choropleth\"}], \"contour\": [{\"colorbar\": {\"outlinewidth\": 0, \"ticks\": \"\"}, \"colorscale\": [[0.0, \"#0d0887\"], [0.1111111111111111, \"#46039f\"], [0.2222222222222222, \"#7201a8\"], [0.3333333333333333, \"#9c179e\"], [0.4444444444444444, \"#bd3786\"], [0.5555555555555556, \"#d8576b\"], [0.6666666666666666, \"#ed7953\"], [0.7777777777777778, \"#fb9f3a\"], [0.8888888888888888, \"#fdca26\"], [1.0, \"#f0f921\"]], \"type\": \"contour\"}], \"contourcarpet\": [{\"colorbar\": {\"outlinewidth\": 0, \"ticks\": \"\"}, \"type\": \"contourcarpet\"}], \"heatmap\": [{\"colorbar\": {\"outlinewidth\": 0, \"ticks\": \"\"}, \"colorscale\": [[0.0, \"#0d0887\"], [0.1111111111111111, \"#46039f\"], [0.2222222222222222, \"#7201a8\"], [0.3333333333333333, \"#9c179e\"], [0.4444444444444444, \"#bd3786\"], [0.5555555555555556, \"#d8576b\"], [0.6666666666666666, \"#ed7953\"], [0.7777777777777778, \"#fb9f3a\"], [0.8888888888888888, \"#fdca26\"], [1.0, \"#f0f921\"]], \"type\": \"heatmap\"}], \"heatmapgl\": [{\"colorbar\": {\"outlinewidth\": 0, \"ticks\": \"\"}, \"colorscale\": [[0.0, \"#0d0887\"], [0.1111111111111111, \"#46039f\"], [0.2222222222222222, \"#7201a8\"], [0.3333333333333333, \"#9c179e\"], [0.4444444444444444, \"#bd3786\"], [0.5555555555555556, \"#d8576b\"], [0.6666666666666666, \"#ed7953\"], [0.7777777777777778, \"#fb9f3a\"], [0.8888888888888888, \"#fdca26\"], [1.0, \"#f0f921\"]], \"type\": \"heatmapgl\"}], \"histogram\": [{\"marker\": {\"colorbar\": {\"outlinewidth\": 0, \"ticks\": \"\"}}, \"type\": \"histogram\"}], \"histogram2d\": [{\"colorbar\": {\"outlinewidth\": 0, \"ticks\": \"\"}, \"colorscale\": [[0.0, \"#0d0887\"], [0.1111111111111111, \"#46039f\"], [0.2222222222222222, \"#7201a8\"], [0.3333333333333333, \"#9c179e\"], [0.4444444444444444, \"#bd3786\"], [0.5555555555555556, \"#d8576b\"], [0.6666666666666666, \"#ed7953\"], [0.7777777777777778, \"#fb9f3a\"], [0.8888888888888888, \"#fdca26\"], [1.0, \"#f0f921\"]], \"type\": \"histogram2d\"}], \"histogram2dcontour\": [{\"colorbar\": {\"outlinewidth\": 0, \"ticks\": \"\"}, \"colorscale\": [[0.0, \"#0d0887\"], [0.1111111111111111, \"#46039f\"], [0.2222222222222222, \"#7201a8\"], [0.3333333333333333, \"#9c179e\"], [0.4444444444444444, \"#bd3786\"], [0.5555555555555556, \"#d8576b\"], [0.6666666666666666, \"#ed7953\"], [0.7777777777777778, \"#fb9f3a\"], [0.8888888888888888, \"#fdca26\"], [1.0, \"#f0f921\"]], \"type\": \"histogram2dcontour\"}], \"mesh3d\": [{\"colorbar\": {\"outlinewidth\": 0, \"ticks\": \"\"}, \"type\": \"mesh3d\"}], \"parcoords\": [{\"line\": {\"colorbar\": {\"outlinewidth\": 0, \"ticks\": \"\"}}, \"type\": \"parcoords\"}], \"pie\": [{\"automargin\": true, \"type\": \"pie\"}], \"scatter\": [{\"marker\": {\"colorbar\": {\"outlinewidth\": 0, \"ticks\": \"\"}}, \"type\": \"scatter\"}], \"scatter3d\": [{\"line\": {\"colorbar\": {\"outlinewidth\": 0, \"ticks\": \"\"}}, \"marker\": {\"colorbar\": {\"outlinewidth\": 0, \"ticks\": \"\"}}, \"type\": \"scatter3d\"}], \"scattercarpet\": [{\"marker\": {\"colorbar\": {\"outlinewidth\": 0, \"ticks\": \"\"}}, \"type\": \"scattercarpet\"}], \"scattergeo\": [{\"marker\": {\"colorbar\": {\"outlinewidth\": 0, \"ticks\": \"\"}}, \"type\": \"scattergeo\"}], \"scattergl\": [{\"marker\": {\"colorbar\": {\"outlinewidth\": 0, \"ticks\": \"\"}}, \"type\": \"scattergl\"}], \"scattermapbox\": [{\"marker\": {\"colorbar\": {\"outlinewidth\": 0, \"ticks\": \"\"}}, \"type\": \"scattermapbox\"}], \"scatterpolar\": [{\"marker\": {\"colorbar\": {\"outlinewidth\": 0, \"ticks\": \"\"}}, \"type\": \"scatterpolar\"}], \"scatterpolargl\": [{\"marker\": {\"colorbar\": {\"outlinewidth\": 0, \"ticks\": \"\"}}, \"type\": \"scatterpolargl\"}], \"scatterternary\": [{\"marker\": {\"colorbar\": {\"outlinewidth\": 0, \"ticks\": \"\"}}, \"type\": \"scatterternary\"}], \"surface\": [{\"colorbar\": {\"outlinewidth\": 0, \"ticks\": \"\"}, \"colorscale\": [[0.0, \"#0d0887\"], [0.1111111111111111, \"#46039f\"], [0.2222222222222222, \"#7201a8\"], [0.3333333333333333, \"#9c179e\"], [0.4444444444444444, \"#bd3786\"], [0.5555555555555556, \"#d8576b\"], [0.6666666666666666, \"#ed7953\"], [0.7777777777777778, \"#fb9f3a\"], [0.8888888888888888, \"#fdca26\"], [1.0, \"#f0f921\"]], \"type\": \"surface\"}], \"table\": [{\"cells\": {\"fill\": {\"color\": \"#EBF0F8\"}, \"line\": {\"color\": \"white\"}}, \"header\": {\"fill\": {\"color\": \"#C8D4E3\"}, \"line\": {\"color\": \"white\"}}, \"type\": \"table\"}]}, \"layout\": {\"annotationdefaults\": {\"arrowcolor\": \"#2a3f5f\", \"arrowhead\": 0, \"arrowwidth\": 1}, \"autotypenumbers\": \"strict\", \"coloraxis\": {\"colorbar\": {\"outlinewidth\": 0, \"ticks\": \"\"}}, \"colorscale\": {\"diverging\": [[0, \"#8e0152\"], [0.1, \"#c51b7d\"], [0.2, \"#de77ae\"], [0.3, \"#f1b6da\"], [0.4, \"#fde0ef\"], [0.5, \"#f7f7f7\"], [0.6, \"#e6f5d0\"], [0.7, \"#b8e186\"], [0.8, \"#7fbc41\"], [0.9, \"#4d9221\"], [1, \"#276419\"]], \"sequential\": [[0.0, \"#0d0887\"], [0.1111111111111111, \"#46039f\"], [0.2222222222222222, \"#7201a8\"], [0.3333333333333333, \"#9c179e\"], [0.4444444444444444, \"#bd3786\"], [0.5555555555555556, \"#d8576b\"], [0.6666666666666666, \"#ed7953\"], [0.7777777777777778, \"#fb9f3a\"], [0.8888888888888888, \"#fdca26\"], [1.0, \"#f0f921\"]], \"sequentialminus\": [[0.0, \"#0d0887\"], [0.1111111111111111, \"#46039f\"], [0.2222222222222222, \"#7201a8\"], [0.3333333333333333, \"#9c179e\"], [0.4444444444444444, \"#bd3786\"], [0.5555555555555556, \"#d8576b\"], [0.6666666666666666, \"#ed7953\"], [0.7777777777777778, \"#fb9f3a\"], [0.8888888888888888, \"#fdca26\"], [1.0, \"#f0f921\"]]}, \"colorway\": [\"#636efa\", \"#EF553B\", \"#00cc96\", \"#ab63fa\", \"#FFA15A\", \"#19d3f3\", \"#FF6692\", \"#B6E880\", \"#FF97FF\", \"#FECB52\"], \"font\": {\"color\": \"#2a3f5f\"}, \"geo\": {\"bgcolor\": \"white\", \"lakecolor\": \"white\", \"landcolor\": \"#E5ECF6\", \"showlakes\": true, \"showland\": true, \"subunitcolor\": \"white\"}, \"hoverlabel\": {\"align\": \"left\"}, \"hovermode\": \"closest\", \"mapbox\": {\"style\": \"light\"}, \"paper_bgcolor\": \"white\", \"plot_bgcolor\": \"#E5ECF6\", \"polar\": {\"angularaxis\": {\"gridcolor\": \"white\", \"linecolor\": \"white\", \"ticks\": \"\"}, \"bgcolor\": \"#E5ECF6\", \"radialaxis\": {\"gridcolor\": \"white\", \"linecolor\": \"white\", \"ticks\": \"\"}}, \"scene\": {\"xaxis\": {\"backgroundcolor\": \"#E5ECF6\", \"gridcolor\": \"white\", \"gridwidth\": 2, \"linecolor\": \"white\", \"showbackground\": true, \"ticks\": \"\", \"zerolinecolor\": \"white\"}, \"yaxis\": {\"backgroundcolor\": \"#E5ECF6\", \"gridcolor\": \"white\", \"gridwidth\": 2, \"linecolor\": \"white\", \"showbackground\": true, \"ticks\": \"\", \"zerolinecolor\": \"white\"}, \"zaxis\": {\"backgroundcolor\": \"#E5ECF6\", \"gridcolor\": \"white\", \"gridwidth\": 2, \"linecolor\": \"white\", \"showbackground\": true, \"ticks\": \"\", \"zerolinecolor\": \"white\"}}, \"shapedefaults\": {\"line\": {\"color\": \"#2a3f5f\"}}, \"ternary\": {\"aaxis\": {\"gridcolor\": \"white\", \"linecolor\": \"white\", \"ticks\": \"\"}, \"baxis\": {\"gridcolor\": \"white\", \"linecolor\": \"white\", \"ticks\": \"\"}, \"bgcolor\": \"#E5ECF6\", \"caxis\": {\"gridcolor\": \"white\", \"linecolor\": \"white\", \"ticks\": \"\"}}, \"title\": {\"x\": 0.05}, \"xaxis\": {\"automargin\": true, \"gridcolor\": \"white\", \"linecolor\": \"white\", \"ticks\": \"\", \"title\": {\"standoff\": 15}, \"zerolinecolor\": \"white\", \"zerolinewidth\": 2}, \"yaxis\": {\"automargin\": true, \"gridcolor\": \"white\", \"linecolor\": \"white\", \"ticks\": \"\", \"title\": {\"standoff\": 15}, \"zerolinecolor\": \"white\", \"zerolinewidth\": 2}}}, \"xaxis\": {\"anchor\": \"y\", \"categoryorder\": \"total descending\", \"domain\": [0.0, 1.0], \"title\": {\"text\": \"course_title\"}}, \"yaxis\": {\"anchor\": \"x\", \"domain\": [0.0, 1.0], \"title\": {\"text\": \"num_reviews\"}}},                        {\"responsive\": true}                    ).then(function(){\n",
       "                            \n",
       "var gd = document.getElementById('4ff2735a-f9ed-453c-aefc-8a79b2aa5473');\n",
       "var x = new MutationObserver(function (mutations, observer) {{\n",
       "        var display = window.getComputedStyle(gd).display;\n",
       "        if (!display || display === 'none') {{\n",
       "            console.log([gd, 'removed!']);\n",
       "            Plotly.purge(gd);\n",
       "            observer.disconnect();\n",
       "        }}\n",
       "}});\n",
       "\n",
       "// Listen for the removal of the full notebook cells\n",
       "var notebookContainer = gd.closest('#notebook-container');\n",
       "if (notebookContainer) {{\n",
       "    x.observe(notebookContainer, {childList: true});\n",
       "}}\n",
       "\n",
       "// Listen for the clearing of the current output cell\n",
       "var outputEl = gd.closest('.output');\n",
       "if (outputEl) {{\n",
       "    x.observe(outputEl, {childList: true});\n",
       "}}\n",
       "\n",
       "                        })                };                });            </script>        </div>"
      ]
     },
     "metadata": {},
     "output_type": "display_data"
    }
   ],
   "source": [
    "fig = px.bar(top_15_reviewed , y= 'num_reviews', x='course_title', hover_data = top_15_reviewed[['year','subject', 'is_paid']], color='subject')\n",
    "fig.update_layout(xaxis={'categoryorder':'total descending'})\n",
    "fig.show()"
   ]
  },
  {
   "cell_type": "markdown",
   "id": "aging-curve",
   "metadata": {
    "papermill": {
     "duration": 0.080269,
     "end_time": "2021-07-07T21:05:39.997212",
     "exception": false,
     "start_time": "2021-07-07T21:05:39.916943",
     "status": "completed"
    },
    "tags": []
   },
   "source": [
    "- Top 15 reviewed courses are from Web Development area, except one course. And 11 out of 15 top reviewed courses are paid courses."
   ]
  },
  {
   "cell_type": "markdown",
   "id": "agreed-pattern",
   "metadata": {
    "papermill": {
     "duration": 0.080688,
     "end_time": "2021-07-07T21:05:40.160042",
     "exception": false,
     "start_time": "2021-07-07T21:05:40.079354",
     "status": "completed"
    },
    "tags": []
   },
   "source": [
    "### Top 15 Expensive Courses"
   ]
  },
  {
   "cell_type": "code",
   "execution_count": 36,
   "id": "turned-western",
   "metadata": {
    "_kg_hide-input": true,
    "execution": {
     "iopub.execute_input": "2021-07-07T21:05:40.323488Z",
     "iopub.status.busy": "2021-07-07T21:05:40.322477Z",
     "iopub.status.idle": "2021-07-07T21:05:40.343993Z",
     "shell.execute_reply": "2021-07-07T21:05:40.343413Z",
     "shell.execute_reply.started": "2021-07-07T20:45:37.953572Z"
    },
    "papermill": {
     "duration": 0.104321,
     "end_time": "2021-07-07T21:05:40.344141",
     "exception": false,
     "start_time": "2021-07-07T21:05:40.239820",
     "status": "completed"
    },
    "tags": []
   },
   "outputs": [
    {
     "data": {
      "text/html": [
       "<div>\n",
       "<style scoped>\n",
       "    .dataframe tbody tr th:only-of-type {\n",
       "        vertical-align: middle;\n",
       "    }\n",
       "\n",
       "    .dataframe tbody tr th {\n",
       "        vertical-align: top;\n",
       "    }\n",
       "\n",
       "    .dataframe thead th {\n",
       "        text-align: right;\n",
       "    }\n",
       "</style>\n",
       "<table border=\"1\" class=\"dataframe\">\n",
       "  <thead>\n",
       "    <tr style=\"text-align: right;\">\n",
       "      <th></th>\n",
       "      <th>course_title</th>\n",
       "      <th>year</th>\n",
       "      <th>subject</th>\n",
       "      <th>num_subscribers</th>\n",
       "      <th>price</th>\n",
       "    </tr>\n",
       "  </thead>\n",
       "  <tbody>\n",
       "    <tr>\n",
       "      <th>3230</th>\n",
       "      <td>The Web Developer Bootcamp</td>\n",
       "      <td>2015</td>\n",
       "      <td>Web Development</td>\n",
       "      <td>121584</td>\n",
       "      <td>200</td>\n",
       "    </tr>\n",
       "    <tr>\n",
       "      <th>3232</th>\n",
       "      <td>The Complete Web Developer Course 2.0</td>\n",
       "      <td>2016</td>\n",
       "      <td>Web Development</td>\n",
       "      <td>114512</td>\n",
       "      <td>200</td>\n",
       "    </tr>\n",
       "    <tr>\n",
       "      <th>1979</th>\n",
       "      <td>Pianoforall - Incredible New Way To Learn Pian...</td>\n",
       "      <td>2014</td>\n",
       "      <td>Musical Instruments</td>\n",
       "      <td>75499</td>\n",
       "      <td>200</td>\n",
       "    </tr>\n",
       "    <tr>\n",
       "      <th>1213</th>\n",
       "      <td>Photoshop for Entrepreneurs - Design 11 Practi...</td>\n",
       "      <td>2016</td>\n",
       "      <td>Graphic Design</td>\n",
       "      <td>36288</td>\n",
       "      <td>200</td>\n",
       "    </tr>\n",
       "    <tr>\n",
       "      <th>3233</th>\n",
       "      <td>Ultimate Web Designer &amp; Developer Course: Buil...</td>\n",
       "      <td>2015</td>\n",
       "      <td>Web Development</td>\n",
       "      <td>33788</td>\n",
       "      <td>200</td>\n",
       "    </tr>\n",
       "    <tr>\n",
       "      <th>3206</th>\n",
       "      <td>PHP for Beginners -Become a PHP Master - Proje...</td>\n",
       "      <td>2015</td>\n",
       "      <td>Web Development</td>\n",
       "      <td>28880</td>\n",
       "      <td>200</td>\n",
       "    </tr>\n",
       "    <tr>\n",
       "      <th>2621</th>\n",
       "      <td>The Ultimate Web Developer How To Guide</td>\n",
       "      <td>2015</td>\n",
       "      <td>Web Development</td>\n",
       "      <td>24861</td>\n",
       "      <td>200</td>\n",
       "    </tr>\n",
       "    <tr>\n",
       "      <th>1526</th>\n",
       "      <td>How To Make Graphics For A Website</td>\n",
       "      <td>2014</td>\n",
       "      <td>Graphic Design</td>\n",
       "      <td>24857</td>\n",
       "      <td>200</td>\n",
       "    </tr>\n",
       "    <tr>\n",
       "      <th>3117</th>\n",
       "      <td>1 Hour JavaScript</td>\n",
       "      <td>2013</td>\n",
       "      <td>Web Development</td>\n",
       "      <td>22999</td>\n",
       "      <td>200</td>\n",
       "    </tr>\n",
       "    <tr>\n",
       "      <th>2755</th>\n",
       "      <td>Become A Web Developer And Seller - Build Webs...</td>\n",
       "      <td>2013</td>\n",
       "      <td>Web Development</td>\n",
       "      <td>21730</td>\n",
       "      <td>200</td>\n",
       "    </tr>\n",
       "    <tr>\n",
       "      <th>1980</th>\n",
       "      <td>The Professional Guitar Masterclass</td>\n",
       "      <td>2015</td>\n",
       "      <td>Musical Instruments</td>\n",
       "      <td>21701</td>\n",
       "      <td>200</td>\n",
       "    </tr>\n",
       "    <tr>\n",
       "      <th>44</th>\n",
       "      <td>Black Algo Trading: Build Your Trading Robot</td>\n",
       "      <td>2014</td>\n",
       "      <td>Business Finance</td>\n",
       "      <td>20195</td>\n",
       "      <td>200</td>\n",
       "    </tr>\n",
       "    <tr>\n",
       "      <th>1220</th>\n",
       "      <td>Canva Graphics Design for Entrepreneurs - Desi...</td>\n",
       "      <td>2016</td>\n",
       "      <td>Graphic Design</td>\n",
       "      <td>18303</td>\n",
       "      <td>200</td>\n",
       "    </tr>\n",
       "    <tr>\n",
       "      <th>2707</th>\n",
       "      <td>Back to School Web Development and Programming...</td>\n",
       "      <td>2013</td>\n",
       "      <td>Web Development</td>\n",
       "      <td>18170</td>\n",
       "      <td>200</td>\n",
       "    </tr>\n",
       "    <tr>\n",
       "      <th>2943</th>\n",
       "      <td>Adobe Flash for Beginners - Build Flash Websit...</td>\n",
       "      <td>2014</td>\n",
       "      <td>Web Development</td>\n",
       "      <td>17071</td>\n",
       "      <td>200</td>\n",
       "    </tr>\n",
       "  </tbody>\n",
       "</table>\n",
       "</div>"
      ],
      "text/plain": [
       "                                           course_title  year  \\\n",
       "3230                         The Web Developer Bootcamp  2015   \n",
       "3232              The Complete Web Developer Course 2.0  2016   \n",
       "1979  Pianoforall - Incredible New Way To Learn Pian...  2014   \n",
       "1213  Photoshop for Entrepreneurs - Design 11 Practi...  2016   \n",
       "3233  Ultimate Web Designer & Developer Course: Buil...  2015   \n",
       "3206  PHP for Beginners -Become a PHP Master - Proje...  2015   \n",
       "2621            The Ultimate Web Developer How To Guide  2015   \n",
       "1526                 How To Make Graphics For A Website  2014   \n",
       "3117                                  1 Hour JavaScript  2013   \n",
       "2755  Become A Web Developer And Seller - Build Webs...  2013   \n",
       "1980                The Professional Guitar Masterclass  2015   \n",
       "44         Black Algo Trading: Build Your Trading Robot  2014   \n",
       "1220  Canva Graphics Design for Entrepreneurs - Desi...  2016   \n",
       "2707  Back to School Web Development and Programming...  2013   \n",
       "2943  Adobe Flash for Beginners - Build Flash Websit...  2014   \n",
       "\n",
       "                  subject  num_subscribers  price  \n",
       "3230      Web Development           121584    200  \n",
       "3232      Web Development           114512    200  \n",
       "1979  Musical Instruments            75499    200  \n",
       "1213       Graphic Design            36288    200  \n",
       "3233      Web Development            33788    200  \n",
       "3206      Web Development            28880    200  \n",
       "2621      Web Development            24861    200  \n",
       "1526       Graphic Design            24857    200  \n",
       "3117      Web Development            22999    200  \n",
       "2755      Web Development            21730    200  \n",
       "1980  Musical Instruments            21701    200  \n",
       "44       Business Finance            20195    200  \n",
       "1220       Graphic Design            18303    200  \n",
       "2707      Web Development            18170    200  \n",
       "2943      Web Development            17071    200  "
      ]
     },
     "execution_count": 36,
     "metadata": {},
     "output_type": "execute_result"
    }
   ],
   "source": [
    "top_15_price = df[['course_title','year','subject','num_subscribers', 'price']].sort_values(by=['price','num_subscribers'], ascending=False).head(15)\n",
    "\n",
    "top_15_price"
   ]
  },
  {
   "cell_type": "code",
   "execution_count": 37,
   "id": "respective-defensive",
   "metadata": {
    "_kg_hide-input": true,
    "execution": {
     "iopub.execute_input": "2021-07-07T21:05:40.531767Z",
     "iopub.status.busy": "2021-07-07T21:05:40.522796Z",
     "iopub.status.idle": "2021-07-07T21:05:40.594054Z",
     "shell.execute_reply": "2021-07-07T21:05:40.593477Z",
     "shell.execute_reply.started": "2021-07-07T20:45:37.976465Z"
    },
    "papermill": {
     "duration": 0.169225,
     "end_time": "2021-07-07T21:05:40.594204",
     "exception": false,
     "start_time": "2021-07-07T21:05:40.424979",
     "status": "completed"
    },
    "tags": []
   },
   "outputs": [
    {
     "data": {
      "text/html": [
       "<div>                            <div id=\"acc9cd1a-209b-45a3-96db-4501333350de\" class=\"plotly-graph-div\" style=\"height:525px; width:100%;\"></div>            <script type=\"text/javascript\">                require([\"plotly\"], function(Plotly) {                    window.PLOTLYENV=window.PLOTLYENV || {};                                    if (document.getElementById(\"acc9cd1a-209b-45a3-96db-4501333350de\")) {                    Plotly.newPlot(                        \"acc9cd1a-209b-45a3-96db-4501333350de\",                        [{\"alignmentgroup\": \"True\", \"customdata\": [[200, 2015], [200, 2016], [200, 2015], [200, 2015], [200, 2015], [200, 2013], [200, 2013], [200, 2013], [200, 2014]], \"hovertemplate\": \"subject=Web Development<br>course_title=%{x}<br>num_subscribers=%{y}<br>price=%{customdata[0]}<br>year=%{customdata[1]}<extra></extra>\", \"legendgroup\": \"Web Development\", \"marker\": {\"color\": \"#636efa\"}, \"name\": \"Web Development\", \"offsetgroup\": \"Web Development\", \"orientation\": \"v\", \"showlegend\": true, \"textposition\": \"auto\", \"type\": \"bar\", \"x\": [\"The Web Developer Bootcamp\", \"The Complete Web Developer Course 2.0\", \"Ultimate Web Designer & Developer Course: Build 23 Projects!\", \"PHP for Beginners -Become a PHP Master - Project Included\", \"The Ultimate Web Developer How To Guide\", \"1 Hour JavaScript\", \"Become A Web Developer And Seller - Build Websites With HTML\", \"Back to School Web Development and Programming Bundle\", \"Adobe Flash for Beginners - Build Flash Website From Scratch\"], \"xaxis\": \"x\", \"y\": [121584, 114512, 33788, 28880, 24861, 22999, 21730, 18170, 17071], \"yaxis\": \"y\"}, {\"alignmentgroup\": \"True\", \"customdata\": [[200, 2014], [200, 2015]], \"hovertemplate\": \"subject=Musical Instruments<br>course_title=%{x}<br>num_subscribers=%{y}<br>price=%{customdata[0]}<br>year=%{customdata[1]}<extra></extra>\", \"legendgroup\": \"Musical Instruments\", \"marker\": {\"color\": \"#EF553B\"}, \"name\": \"Musical Instruments\", \"offsetgroup\": \"Musical Instruments\", \"orientation\": \"v\", \"showlegend\": true, \"textposition\": \"auto\", \"type\": \"bar\", \"x\": [\"Pianoforall - Incredible New Way To Learn Piano & Keyboard\", \"The Professional Guitar Masterclass\"], \"xaxis\": \"x\", \"y\": [75499, 21701], \"yaxis\": \"y\"}, {\"alignmentgroup\": \"True\", \"customdata\": [[200, 2016], [200, 2014], [200, 2016]], \"hovertemplate\": \"subject=Graphic Design<br>course_title=%{x}<br>num_subscribers=%{y}<br>price=%{customdata[0]}<br>year=%{customdata[1]}<extra></extra>\", \"legendgroup\": \"Graphic Design\", \"marker\": {\"color\": \"#00cc96\"}, \"name\": \"Graphic Design\", \"offsetgroup\": \"Graphic Design\", \"orientation\": \"v\", \"showlegend\": true, \"textposition\": \"auto\", \"type\": \"bar\", \"x\": [\"Photoshop for Entrepreneurs - Design 11 Practical Projects\", \"How To Make Graphics For A Website\", \"Canva Graphics Design for Entrepreneurs - Design 11 Projects\"], \"xaxis\": \"x\", \"y\": [36288, 24857, 18303], \"yaxis\": \"y\"}, {\"alignmentgroup\": \"True\", \"customdata\": [[200, 2014]], \"hovertemplate\": \"subject=Business Finance<br>course_title=%{x}<br>num_subscribers=%{y}<br>price=%{customdata[0]}<br>year=%{customdata[1]}<extra></extra>\", \"legendgroup\": \"Business Finance\", \"marker\": {\"color\": \"#ab63fa\"}, \"name\": \"Business Finance\", \"offsetgroup\": \"Business Finance\", \"orientation\": \"v\", \"showlegend\": true, \"textposition\": \"auto\", \"type\": \"bar\", \"x\": [\"Black Algo Trading: Build Your Trading Robot\"], \"xaxis\": \"x\", \"y\": [20195], \"yaxis\": \"y\"}],                        {\"barmode\": \"relative\", \"legend\": {\"title\": {\"text\": \"subject\"}, \"tracegroupgap\": 0}, \"margin\": {\"t\": 60}, \"template\": {\"data\": {\"bar\": [{\"error_x\": {\"color\": \"#2a3f5f\"}, \"error_y\": {\"color\": \"#2a3f5f\"}, \"marker\": {\"line\": {\"color\": \"#E5ECF6\", \"width\": 0.5}}, \"type\": \"bar\"}], \"barpolar\": [{\"marker\": {\"line\": {\"color\": \"#E5ECF6\", \"width\": 0.5}}, \"type\": \"barpolar\"}], \"carpet\": [{\"aaxis\": {\"endlinecolor\": \"#2a3f5f\", \"gridcolor\": \"white\", \"linecolor\": \"white\", \"minorgridcolor\": \"white\", \"startlinecolor\": \"#2a3f5f\"}, \"baxis\": {\"endlinecolor\": \"#2a3f5f\", \"gridcolor\": \"white\", \"linecolor\": \"white\", \"minorgridcolor\": \"white\", \"startlinecolor\": \"#2a3f5f\"}, \"type\": \"carpet\"}], \"choropleth\": [{\"colorbar\": {\"outlinewidth\": 0, \"ticks\": \"\"}, \"type\": \"choropleth\"}], \"contour\": [{\"colorbar\": {\"outlinewidth\": 0, \"ticks\": \"\"}, \"colorscale\": [[0.0, \"#0d0887\"], [0.1111111111111111, \"#46039f\"], [0.2222222222222222, \"#7201a8\"], [0.3333333333333333, \"#9c179e\"], [0.4444444444444444, \"#bd3786\"], [0.5555555555555556, \"#d8576b\"], [0.6666666666666666, \"#ed7953\"], [0.7777777777777778, \"#fb9f3a\"], [0.8888888888888888, \"#fdca26\"], [1.0, \"#f0f921\"]], \"type\": \"contour\"}], \"contourcarpet\": [{\"colorbar\": {\"outlinewidth\": 0, \"ticks\": \"\"}, \"type\": \"contourcarpet\"}], \"heatmap\": [{\"colorbar\": {\"outlinewidth\": 0, \"ticks\": \"\"}, \"colorscale\": [[0.0, \"#0d0887\"], [0.1111111111111111, \"#46039f\"], [0.2222222222222222, \"#7201a8\"], [0.3333333333333333, \"#9c179e\"], [0.4444444444444444, \"#bd3786\"], [0.5555555555555556, \"#d8576b\"], [0.6666666666666666, \"#ed7953\"], [0.7777777777777778, \"#fb9f3a\"], [0.8888888888888888, \"#fdca26\"], [1.0, \"#f0f921\"]], \"type\": \"heatmap\"}], \"heatmapgl\": [{\"colorbar\": {\"outlinewidth\": 0, \"ticks\": \"\"}, \"colorscale\": [[0.0, \"#0d0887\"], [0.1111111111111111, \"#46039f\"], [0.2222222222222222, \"#7201a8\"], [0.3333333333333333, \"#9c179e\"], [0.4444444444444444, \"#bd3786\"], [0.5555555555555556, \"#d8576b\"], [0.6666666666666666, \"#ed7953\"], [0.7777777777777778, \"#fb9f3a\"], [0.8888888888888888, \"#fdca26\"], [1.0, \"#f0f921\"]], \"type\": \"heatmapgl\"}], \"histogram\": [{\"marker\": {\"colorbar\": {\"outlinewidth\": 0, \"ticks\": \"\"}}, \"type\": \"histogram\"}], \"histogram2d\": [{\"colorbar\": {\"outlinewidth\": 0, \"ticks\": \"\"}, \"colorscale\": [[0.0, \"#0d0887\"], [0.1111111111111111, \"#46039f\"], [0.2222222222222222, \"#7201a8\"], [0.3333333333333333, \"#9c179e\"], [0.4444444444444444, \"#bd3786\"], [0.5555555555555556, \"#d8576b\"], [0.6666666666666666, \"#ed7953\"], [0.7777777777777778, \"#fb9f3a\"], [0.8888888888888888, \"#fdca26\"], [1.0, \"#f0f921\"]], \"type\": \"histogram2d\"}], \"histogram2dcontour\": [{\"colorbar\": {\"outlinewidth\": 0, \"ticks\": \"\"}, \"colorscale\": [[0.0, \"#0d0887\"], [0.1111111111111111, \"#46039f\"], [0.2222222222222222, \"#7201a8\"], [0.3333333333333333, \"#9c179e\"], [0.4444444444444444, \"#bd3786\"], [0.5555555555555556, \"#d8576b\"], [0.6666666666666666, \"#ed7953\"], [0.7777777777777778, \"#fb9f3a\"], [0.8888888888888888, \"#fdca26\"], [1.0, \"#f0f921\"]], \"type\": \"histogram2dcontour\"}], \"mesh3d\": [{\"colorbar\": {\"outlinewidth\": 0, \"ticks\": \"\"}, \"type\": \"mesh3d\"}], \"parcoords\": [{\"line\": {\"colorbar\": {\"outlinewidth\": 0, \"ticks\": \"\"}}, \"type\": \"parcoords\"}], \"pie\": [{\"automargin\": true, \"type\": \"pie\"}], \"scatter\": [{\"marker\": {\"colorbar\": {\"outlinewidth\": 0, \"ticks\": \"\"}}, \"type\": \"scatter\"}], \"scatter3d\": [{\"line\": {\"colorbar\": {\"outlinewidth\": 0, \"ticks\": \"\"}}, \"marker\": {\"colorbar\": {\"outlinewidth\": 0, \"ticks\": \"\"}}, \"type\": \"scatter3d\"}], \"scattercarpet\": [{\"marker\": {\"colorbar\": {\"outlinewidth\": 0, \"ticks\": \"\"}}, \"type\": \"scattercarpet\"}], \"scattergeo\": [{\"marker\": {\"colorbar\": {\"outlinewidth\": 0, \"ticks\": \"\"}}, \"type\": \"scattergeo\"}], \"scattergl\": [{\"marker\": {\"colorbar\": {\"outlinewidth\": 0, \"ticks\": \"\"}}, \"type\": \"scattergl\"}], \"scattermapbox\": [{\"marker\": {\"colorbar\": {\"outlinewidth\": 0, \"ticks\": \"\"}}, \"type\": \"scattermapbox\"}], \"scatterpolar\": [{\"marker\": {\"colorbar\": {\"outlinewidth\": 0, \"ticks\": \"\"}}, \"type\": \"scatterpolar\"}], \"scatterpolargl\": [{\"marker\": {\"colorbar\": {\"outlinewidth\": 0, \"ticks\": \"\"}}, \"type\": \"scatterpolargl\"}], \"scatterternary\": [{\"marker\": {\"colorbar\": {\"outlinewidth\": 0, \"ticks\": \"\"}}, \"type\": \"scatterternary\"}], \"surface\": [{\"colorbar\": {\"outlinewidth\": 0, \"ticks\": \"\"}, \"colorscale\": [[0.0, \"#0d0887\"], [0.1111111111111111, \"#46039f\"], [0.2222222222222222, \"#7201a8\"], [0.3333333333333333, \"#9c179e\"], [0.4444444444444444, \"#bd3786\"], [0.5555555555555556, \"#d8576b\"], [0.6666666666666666, \"#ed7953\"], [0.7777777777777778, \"#fb9f3a\"], [0.8888888888888888, \"#fdca26\"], [1.0, \"#f0f921\"]], \"type\": \"surface\"}], \"table\": [{\"cells\": {\"fill\": {\"color\": \"#EBF0F8\"}, \"line\": {\"color\": \"white\"}}, \"header\": {\"fill\": {\"color\": \"#C8D4E3\"}, \"line\": {\"color\": \"white\"}}, \"type\": \"table\"}]}, \"layout\": {\"annotationdefaults\": {\"arrowcolor\": \"#2a3f5f\", \"arrowhead\": 0, \"arrowwidth\": 1}, \"autotypenumbers\": \"strict\", \"coloraxis\": {\"colorbar\": {\"outlinewidth\": 0, \"ticks\": \"\"}}, \"colorscale\": {\"diverging\": [[0, \"#8e0152\"], [0.1, \"#c51b7d\"], [0.2, \"#de77ae\"], [0.3, \"#f1b6da\"], [0.4, \"#fde0ef\"], [0.5, \"#f7f7f7\"], [0.6, \"#e6f5d0\"], [0.7, \"#b8e186\"], [0.8, \"#7fbc41\"], [0.9, \"#4d9221\"], [1, \"#276419\"]], \"sequential\": [[0.0, \"#0d0887\"], [0.1111111111111111, \"#46039f\"], [0.2222222222222222, \"#7201a8\"], [0.3333333333333333, \"#9c179e\"], [0.4444444444444444, \"#bd3786\"], [0.5555555555555556, \"#d8576b\"], [0.6666666666666666, \"#ed7953\"], [0.7777777777777778, \"#fb9f3a\"], [0.8888888888888888, \"#fdca26\"], [1.0, \"#f0f921\"]], \"sequentialminus\": [[0.0, \"#0d0887\"], [0.1111111111111111, \"#46039f\"], [0.2222222222222222, \"#7201a8\"], [0.3333333333333333, \"#9c179e\"], [0.4444444444444444, \"#bd3786\"], [0.5555555555555556, \"#d8576b\"], [0.6666666666666666, \"#ed7953\"], [0.7777777777777778, \"#fb9f3a\"], [0.8888888888888888, \"#fdca26\"], [1.0, \"#f0f921\"]]}, \"colorway\": [\"#636efa\", \"#EF553B\", \"#00cc96\", \"#ab63fa\", \"#FFA15A\", \"#19d3f3\", \"#FF6692\", \"#B6E880\", \"#FF97FF\", \"#FECB52\"], \"font\": {\"color\": \"#2a3f5f\"}, \"geo\": {\"bgcolor\": \"white\", \"lakecolor\": \"white\", \"landcolor\": \"#E5ECF6\", \"showlakes\": true, \"showland\": true, \"subunitcolor\": \"white\"}, \"hoverlabel\": {\"align\": \"left\"}, \"hovermode\": \"closest\", \"mapbox\": {\"style\": \"light\"}, \"paper_bgcolor\": \"white\", \"plot_bgcolor\": \"#E5ECF6\", \"polar\": {\"angularaxis\": {\"gridcolor\": \"white\", \"linecolor\": \"white\", \"ticks\": \"\"}, \"bgcolor\": \"#E5ECF6\", \"radialaxis\": {\"gridcolor\": \"white\", \"linecolor\": \"white\", \"ticks\": \"\"}}, \"scene\": {\"xaxis\": {\"backgroundcolor\": \"#E5ECF6\", \"gridcolor\": \"white\", \"gridwidth\": 2, \"linecolor\": \"white\", \"showbackground\": true, \"ticks\": \"\", \"zerolinecolor\": \"white\"}, \"yaxis\": {\"backgroundcolor\": \"#E5ECF6\", \"gridcolor\": \"white\", \"gridwidth\": 2, \"linecolor\": \"white\", \"showbackground\": true, \"ticks\": \"\", \"zerolinecolor\": \"white\"}, \"zaxis\": {\"backgroundcolor\": \"#E5ECF6\", \"gridcolor\": \"white\", \"gridwidth\": 2, \"linecolor\": \"white\", \"showbackground\": true, \"ticks\": \"\", \"zerolinecolor\": \"white\"}}, \"shapedefaults\": {\"line\": {\"color\": \"#2a3f5f\"}}, \"ternary\": {\"aaxis\": {\"gridcolor\": \"white\", \"linecolor\": \"white\", \"ticks\": \"\"}, \"baxis\": {\"gridcolor\": \"white\", \"linecolor\": \"white\", \"ticks\": \"\"}, \"bgcolor\": \"#E5ECF6\", \"caxis\": {\"gridcolor\": \"white\", \"linecolor\": \"white\", \"ticks\": \"\"}}, \"title\": {\"x\": 0.05}, \"xaxis\": {\"automargin\": true, \"gridcolor\": \"white\", \"linecolor\": \"white\", \"ticks\": \"\", \"title\": {\"standoff\": 15}, \"zerolinecolor\": \"white\", \"zerolinewidth\": 2}, \"yaxis\": {\"automargin\": true, \"gridcolor\": \"white\", \"linecolor\": \"white\", \"ticks\": \"\", \"title\": {\"standoff\": 15}, \"zerolinecolor\": \"white\", \"zerolinewidth\": 2}}}, \"xaxis\": {\"anchor\": \"y\", \"categoryorder\": \"total descending\", \"domain\": [0.0, 1.0], \"title\": {\"text\": \"course_title\"}}, \"yaxis\": {\"anchor\": \"x\", \"domain\": [0.0, 1.0], \"title\": {\"text\": \"num_subscribers\"}}},                        {\"responsive\": true}                    ).then(function(){\n",
       "                            \n",
       "var gd = document.getElementById('acc9cd1a-209b-45a3-96db-4501333350de');\n",
       "var x = new MutationObserver(function (mutations, observer) {{\n",
       "        var display = window.getComputedStyle(gd).display;\n",
       "        if (!display || display === 'none') {{\n",
       "            console.log([gd, 'removed!']);\n",
       "            Plotly.purge(gd);\n",
       "            observer.disconnect();\n",
       "        }}\n",
       "}});\n",
       "\n",
       "// Listen for the removal of the full notebook cells\n",
       "var notebookContainer = gd.closest('#notebook-container');\n",
       "if (notebookContainer) {{\n",
       "    x.observe(notebookContainer, {childList: true});\n",
       "}}\n",
       "\n",
       "// Listen for the clearing of the current output cell\n",
       "var outputEl = gd.closest('.output');\n",
       "if (outputEl) {{\n",
       "    x.observe(outputEl, {childList: true});\n",
       "}}\n",
       "\n",
       "                        })                };                });            </script>        </div>"
      ]
     },
     "metadata": {},
     "output_type": "display_data"
    }
   ],
   "source": [
    "fig = px.bar(top_15_price , y= 'num_subscribers', x='course_title', hover_data = top_15_price[['price','year']], color='subject')\n",
    "fig.update_layout(xaxis={'categoryorder':'total descending'})\n",
    "fig.show()"
   ]
  },
  {
   "cell_type": "markdown",
   "id": "behavioral-ownership",
   "metadata": {
    "papermill": {
     "duration": 0.082198,
     "end_time": "2021-07-07T21:05:40.759324",
     "exception": false,
     "start_time": "2021-07-07T21:05:40.677126",
     "status": "completed"
    },
    "tags": []
   },
   "source": [
    "- Expensive courses are $ 200, and all of the subjects areas are in the top 15 expensive course list. "
   ]
  },
  {
   "cell_type": "markdown",
   "id": "communist-paper",
   "metadata": {
    "execution": {
     "iopub.execute_input": "2021-07-07T19:54:26.639505Z",
     "iopub.status.busy": "2021-07-07T19:54:26.639133Z",
     "iopub.status.idle": "2021-07-07T19:54:26.647151Z",
     "shell.execute_reply": "2021-07-07T19:54:26.645427Z",
     "shell.execute_reply.started": "2021-07-07T19:54:26.639471Z"
    },
    "papermill": {
     "duration": 0.081823,
     "end_time": "2021-07-07T21:05:40.925059",
     "exception": false,
     "start_time": "2021-07-07T21:05:40.843236",
     "status": "completed"
    },
    "tags": []
   },
   "source": [
    "- Thanks for the dataset contibutor for this data. only missing thing for me, this dataset should contain something about the course ratings. We can make some assumptions based on number of subscribers or numbers of reviews, but still it does not give us confidence to make an assumption on the quality of the courses."
   ]
  },
  {
   "cell_type": "markdown",
   "id": "desperate-operation",
   "metadata": {
    "papermill": {
     "duration": 0.084979,
     "end_time": "2021-07-07T21:05:41.092892",
     "exception": false,
     "start_time": "2021-07-07T21:05:41.007913",
     "status": "completed"
    },
    "tags": []
   },
   "source": [
    "- It was a quite pleasure to share with you this detailed, beginner friendly EDA. Thanks for your time.\n",
    "\n",
    "- All the best "
   ]
  },
  {
   "cell_type": "code",
   "execution_count": null,
   "id": "otherwise-castle",
   "metadata": {
    "papermill": {
     "duration": 0.085772,
     "end_time": "2021-07-07T21:05:41.260796",
     "exception": false,
     "start_time": "2021-07-07T21:05:41.175024",
     "status": "completed"
    },
    "tags": []
   },
   "outputs": [],
   "source": []
  }
 ],
 "metadata": {
  "kernelspec": {
   "display_name": "Python 3",
   "language": "python",
   "name": "python3"
  },
  "language_info": {
   "codemirror_mode": {
    "name": "ipython",
    "version": 3
   },
   "file_extension": ".py",
   "mimetype": "text/x-python",
   "name": "python",
   "nbconvert_exporter": "python",
   "pygments_lexer": "ipython3",
   "version": "3.8.10"
  },
  "papermill": {
   "default_parameters": {},
   "duration": 28.025802,
   "end_time": "2021-07-07T21:05:42.785734",
   "environment_variables": {},
   "exception": null,
   "input_path": "__notebook__.ipynb",
   "output_path": "__notebook__.ipynb",
   "parameters": {},
   "start_time": "2021-07-07T21:05:14.759932",
   "version": "2.3.3"
  }
 },
 "nbformat": 4,
 "nbformat_minor": 5
}
